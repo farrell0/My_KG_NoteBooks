{
 "cells": [
  {
   "cell_type": "markdown",
   "id": "1f77f249-94fc-4ded-aa49-d67e6ac00ff4",
   "metadata": {
    "tags": []
   },
   "source": [
    "\n",
    "First make sure to run your ssh tunnel with:  \n",
    "GCP: \n",
    "  `gcloud compute ssh --zone us-east1-b --project katana-internal8 katana-controller -- -NL 8080:127.0.0.1:8080 -vvv`\n",
    "<br> <br>\n",
    "AWS: \n",
    "  `ssh -i ~/.ssh/id_rsa -N -L 8080:54.162.203.170:8080 ubuntu@54.162.203.170 -vvv` \n",
    "<br><br>  "
   ]
  },
  {
   "cell_type": "code",
   "execution_count": 1,
   "id": "8f9c203d-df56-457c-abf7-5c98e4407324",
   "metadata": {},
   "outputs": [],
   "source": [
    "# do not change these values, only change platform_prefix below to gs or s3 depending where you run\n",
    "gs_prefix=\"gs://katana-demo-datasets/csv-datasets/ldbc/\"\n",
    "s3_prefix=\"s3://property-graphs/csv/ldbc-4.0/bi/\"\n",
    "s3_sandbox=\"s3://graph-test-katana/ldbc/\""
   ]
  },
  {
   "cell_type": "code",
   "execution_count": 2,
   "id": "d15210fc-ab82-4bd9-80f4-2f283d3cfaa4",
   "metadata": {},
   "outputs": [],
   "source": [
    "######## setup variables ##########\n",
    "\n",
    "partitions = 2   \n",
    "platform_prefix=gs_prefix\n"
   ]
  },
  {
   "cell_type": "code",
   "execution_count": 3,
   "id": "d54dec81-4ec2-4bbb-af34-294dc7894523",
   "metadata": {},
   "outputs": [],
   "source": [
    "import os                                                                        \n",
    "import time                                                                      \n",
    "import json\n",
    "import pandas as pd\n",
    "from timeit import default_timer as timer\n",
    "\n",
    "from katana import remote\n",
    "from katana.remote import import_data\n",
    "\n",
    "os.environ[\"KATANA_SERVER_ADDRESS\"] = \"host.docker.internal:8080\""
   ]
  },
  {
   "cell_type": "code",
   "execution_count": 4,
   "id": "f86ca9c2-ccda-4bc8-a593-fa4f5fa7bd23",
   "metadata": {},
   "outputs": [],
   "source": [
    "graph = remote.Client().create_graph(\n",
    "    num_partitions=partitions\n",
    ")"
   ]
  },
  {
   "cell_type": "code",
   "execution_count": 5,
   "id": "b3fd0ff0-9855-42fe-8792-a1f1c198e648",
   "metadata": {},
   "outputs": [],
   "source": [
    "test_node_file = platform_prefix + \"headers/sf-0.003-bi-node_headers.txt\"\n",
    "test_edge_file = platform_prefix + \"headers/sf-0.003-bi-edge_headers.txt\"\n",
    "input_path=platform_prefix \n"
   ]
  },
  {
   "cell_type": "code",
   "execution_count": 6,
   "id": "1a80917a-8a9c-49ab-a2b8-cfe67210f9c9",
   "metadata": {},
   "outputs": [
    {
     "name": "stdout",
     "output_type": "stream",
     "text": [
      "Importing graph from CSV files...\n"
     ]
    },
    {
     "data": {
      "application/vnd.jupyter.widget-view+json": {
       "model_id": "f2162c94e89e48478094786968effe32",
       "version_major": 2,
       "version_minor": 0
      },
      "text/plain": [
       "          0/? [?op/s]"
      ]
     },
     "metadata": {},
     "output_type": "display_data"
    },
    {
     "name": "stdout",
     "output_type": "stream",
     "text": [
      "  import: 8.5 seconds\n"
     ]
    }
   ],
   "source": [
    "start = timer()\n",
    "print(\"Importing graph from CSV files...\")\n",
    "import_data.csv(\n",
    "    graph,\n",
    "    input_node_path=test_node_file,\n",
    "    input_edge_path=test_edge_file,\n",
    "    input_dir=input_path,\n",
    "    files_have_headers=True,\n",
    "    data_delimiter=\"|\",\n",
    "    schema_delimiter=\"|\"\n",
    "    #partition_policy=\"random-oec\"\n",
    ")\n",
    "end = timer()\n",
    "print(f\"  import: {end - start:.1f} seconds\") "
   ]
  },
  {
   "cell_type": "code",
   "execution_count": 7,
   "id": "9d3fbc22-8652-4191-b175-7ecfe4feba95",
   "metadata": {},
   "outputs": [
    {
     "data": {
      "application/vnd.jupyter.widget-view+json": {
       "model_id": "c6519a241a0f4d9f942dd11ad5614680",
       "version_major": 2,
       "version_minor": 0
      },
      "text/plain": [
       "          0/? [?op/s]"
      ]
     },
     "metadata": {},
     "output_type": "display_data"
    },
    {
     "name": "stdout",
     "output_type": "stream",
     "text": [
      "CPU times: user 63.4 ms, sys: 31.2 ms, total: 94.6 ms\n",
      "Wall time: 3.14 s\n"
     ]
    },
    {
     "data": {
      "text/plain": [
       "29946"
      ]
     },
     "execution_count": 7,
     "metadata": {},
     "output_type": "execute_result"
    }
   ],
   "source": [
    "%%time\n",
    "graph.num_nodes()"
   ]
  },
  {
   "cell_type": "code",
   "execution_count": 8,
   "id": "8f232192-1cbb-4d27-9807-6584bc1bd02e",
   "metadata": {},
   "outputs": [
    {
     "data": {
      "application/vnd.jupyter.widget-view+json": {
       "model_id": "0251b639a8394622bb0135ff2f4cbb86",
       "version_major": 2,
       "version_minor": 0
      },
      "text/plain": [
       "          0/? [?op/s]"
      ]
     },
     "metadata": {},
     "output_type": "display_data"
    },
    {
     "name": "stdout",
     "output_type": "stream",
     "text": [
      "CPU times: user 88.3 ms, sys: 24 ms, total: 112 ms\n",
      "Wall time: 3.13 s\n"
     ]
    },
    {
     "data": {
      "text/plain": [
       "43072"
      ]
     },
     "execution_count": 8,
     "metadata": {},
     "output_type": "execute_result"
    }
   ],
   "source": [
    "%%time\n",
    "graph.num_edges()"
   ]
  },
  {
   "cell_type": "code",
   "execution_count": 9,
   "id": "15c5139e-f20e-4cb9-876c-f162cdc1df26",
   "metadata": {},
   "outputs": [],
   "source": [
    "query1=\"match (n) return count(n)\""
   ]
  },
  {
   "cell_type": "code",
   "execution_count": 10,
   "id": "a7ca09e0-f119-4c15-bb7e-035451b2ba07",
   "metadata": {},
   "outputs": [
    {
     "data": {
      "application/vnd.jupyter.widget-view+json": {
       "model_id": "0c3095580c2a49abb5d11d3059f0ca5a",
       "version_major": 2,
       "version_minor": 0
      },
      "text/plain": [
       "          0/? [?op/s]"
      ]
     },
     "metadata": {},
     "output_type": "display_data"
    },
    {
     "name": "stdout",
     "output_type": "stream",
     "text": [
      "CPU times: user 93.9 ms, sys: 16.4 ms, total: 110 ms\n",
      "Wall time: 3.17 s\n"
     ]
    },
    {
     "data": {
      "text/html": [
       "<div>\n",
       "<style scoped>\n",
       "    .dataframe tbody tr th:only-of-type {\n",
       "        vertical-align: middle;\n",
       "    }\n",
       "\n",
       "    .dataframe tbody tr th {\n",
       "        vertical-align: top;\n",
       "    }\n",
       "\n",
       "    .dataframe thead th {\n",
       "        text-align: right;\n",
       "    }\n",
       "</style>\n",
       "<table border=\"1\" class=\"dataframe\">\n",
       "  <thead>\n",
       "    <tr style=\"text-align: right;\">\n",
       "      <th></th>\n",
       "      <th>count(n)</th>\n",
       "    </tr>\n",
       "  </thead>\n",
       "  <tbody>\n",
       "    <tr>\n",
       "      <th>0</th>\n",
       "      <td>29946</td>\n",
       "    </tr>\n",
       "  </tbody>\n",
       "</table>\n",
       "</div>"
      ],
      "text/plain": [
       "   count(n)\n",
       "0     29946"
      ]
     },
     "execution_count": 10,
     "metadata": {},
     "output_type": "execute_result"
    }
   ],
   "source": [
    "%%time\n",
    "result = graph.query(query1)\n",
    "pd.DataFrame(result[0:10])"
   ]
  },
  {
   "cell_type": "code",
   "execution_count": 11,
   "id": "b90f9a5d-b9f4-45f7-87e4-cd4fbc1211dd",
   "metadata": {
    "tags": []
   },
   "outputs": [],
   "source": [
    "query2 = \"\"\"\n",
    "MATCH (p:Person)-[e:KNOWS]->(p2:Person) return count(e)\n",
    "\"\"\""
   ]
  },
  {
   "cell_type": "code",
   "execution_count": 12,
   "id": "c8719db7-fec0-4986-b84e-ec7281573b85",
   "metadata": {},
   "outputs": [
    {
     "data": {
      "application/vnd.jupyter.widget-view+json": {
       "model_id": "5c5ba1caba5645de9ecbcf6d41c840b4",
       "version_major": 2,
       "version_minor": 0
      },
      "text/plain": [
       "          0/? [?op/s]"
      ]
     },
     "metadata": {},
     "output_type": "display_data"
    },
    {
     "name": "stdout",
     "output_type": "stream",
     "text": [
      "CPU times: user 88.6 ms, sys: 19.8 ms, total: 108 ms\n",
      "Wall time: 2.99 s\n"
     ]
    },
    {
     "data": {
      "text/html": [
       "<div>\n",
       "<style scoped>\n",
       "    .dataframe tbody tr th:only-of-type {\n",
       "        vertical-align: middle;\n",
       "    }\n",
       "\n",
       "    .dataframe tbody tr th {\n",
       "        vertical-align: top;\n",
       "    }\n",
       "\n",
       "    .dataframe thead th {\n",
       "        text-align: right;\n",
       "    }\n",
       "</style>\n",
       "<table border=\"1\" class=\"dataframe\">\n",
       "  <thead>\n",
       "    <tr style=\"text-align: right;\">\n",
       "      <th></th>\n",
       "      <th>count(e)</th>\n",
       "    </tr>\n",
       "  </thead>\n",
       "  <tbody>\n",
       "    <tr>\n",
       "      <th>0</th>\n",
       "      <td>58</td>\n",
       "    </tr>\n",
       "  </tbody>\n",
       "</table>\n",
       "</div>"
      ],
      "text/plain": [
       "   count(e)\n",
       "0        58"
      ]
     },
     "execution_count": 12,
     "metadata": {},
     "output_type": "execute_result"
    }
   ],
   "source": [
    "%%time\n",
    "result = graph.query(query2)\n",
    "pd.DataFrame(result[0:10])"
   ]
  },
  {
   "cell_type": "code",
   "execution_count": 13,
   "id": "cb8280a8-b5ae-4099-bcde-6a8a96846333",
   "metadata": {},
   "outputs": [],
   "source": [
    "query3 = \"\"\"\n",
    "MATCH (p:Person) return p.firstName,p.lastName,p.gender,p.birthday,p.locationIP,p.browserUsed,p.email limit 10\n",
    "\"\"\"\n"
   ]
  },
  {
   "cell_type": "code",
   "execution_count": 14,
   "id": "99d38a35-48d7-4156-ac13-420f148e2afe",
   "metadata": {},
   "outputs": [
    {
     "data": {
      "application/vnd.jupyter.widget-view+json": {
       "model_id": "7a47332776284ac9bcfb619196effc3c",
       "version_major": 2,
       "version_minor": 0
      },
      "text/plain": [
       "          0/? [?op/s]"
      ]
     },
     "metadata": {},
     "output_type": "display_data"
    },
    {
     "name": "stdout",
     "output_type": "stream",
     "text": [
      "CPU times: user 103 ms, sys: 24.9 ms, total: 127 ms\n",
      "Wall time: 2.96 s\n"
     ]
    },
    {
     "data": {
      "text/html": [
       "<div>\n",
       "<style scoped>\n",
       "    .dataframe tbody tr th:only-of-type {\n",
       "        vertical-align: middle;\n",
       "    }\n",
       "\n",
       "    .dataframe tbody tr th {\n",
       "        vertical-align: top;\n",
       "    }\n",
       "\n",
       "    .dataframe thead th {\n",
       "        text-align: right;\n",
       "    }\n",
       "</style>\n",
       "<table border=\"1\" class=\"dataframe\">\n",
       "  <thead>\n",
       "    <tr style=\"text-align: right;\">\n",
       "      <th></th>\n",
       "      <th>p.birthday</th>\n",
       "      <th>p.browserUsed</th>\n",
       "      <th>p.email</th>\n",
       "      <th>p.firstName</th>\n",
       "      <th>p.gender</th>\n",
       "      <th>p.lastName</th>\n",
       "      <th>p.locationIP</th>\n",
       "    </tr>\n",
       "  </thead>\n",
       "  <tbody>\n",
       "    <tr>\n",
       "      <th>0</th>\n",
       "      <td>1983-05-28</td>\n",
       "      <td>Internet Explorer</td>\n",
       "      <td>Almira26388279066641@gmail.com</td>\n",
       "      <td>Almira</td>\n",
       "      <td>female</td>\n",
       "      <td>Patras</td>\n",
       "      <td>193.104.227.215</td>\n",
       "    </tr>\n",
       "    <tr>\n",
       "      <th>1</th>\n",
       "      <td>1981-05-30</td>\n",
       "      <td>Safari</td>\n",
       "      <td>Ali28587302322209@gmail.com;Ali28587302322209@...</td>\n",
       "      <td>Ali</td>\n",
       "      <td>female</td>\n",
       "      <td>Ferrer</td>\n",
       "      <td>41.223.177.12</td>\n",
       "    </tr>\n",
       "    <tr>\n",
       "      <th>2</th>\n",
       "      <td>1981-09-17</td>\n",
       "      <td>Chrome</td>\n",
       "      <td>Miguel32@gmail.com;Miguel32@gmail.com;Miguel32...</td>\n",
       "      <td>Miguel</td>\n",
       "      <td>male</td>\n",
       "      <td>Gonzalez</td>\n",
       "      <td>148.204.226.31</td>\n",
       "    </tr>\n",
       "    <tr>\n",
       "      <th>3</th>\n",
       "      <td>1988-08-23</td>\n",
       "      <td>Chrome</td>\n",
       "      <td>Celso13194139533352@gmx.com;Celso1319413953335...</td>\n",
       "      <td>Celso</td>\n",
       "      <td>male</td>\n",
       "      <td>Oliveira</td>\n",
       "      <td>192.190.31.253</td>\n",
       "    </tr>\n",
       "    <tr>\n",
       "      <th>4</th>\n",
       "      <td>1986-10-12</td>\n",
       "      <td>Internet Explorer</td>\n",
       "      <td>Ken10995116277782@zoho.com;Ken10995116277782@g...</td>\n",
       "      <td>Ken</td>\n",
       "      <td>male</td>\n",
       "      <td>Yamada</td>\n",
       "      <td>27.122.45.252</td>\n",
       "    </tr>\n",
       "    <tr>\n",
       "      <th>5</th>\n",
       "      <td>1984-04-10</td>\n",
       "      <td>Internet Explorer</td>\n",
       "      <td>Alfonso32985348833318@gmx.com;Alfonso329853488...</td>\n",
       "      <td>Alfonso</td>\n",
       "      <td>female</td>\n",
       "      <td>Rodriguez</td>\n",
       "      <td>192.100.158.95</td>\n",
       "    </tr>\n",
       "    <tr>\n",
       "      <th>6</th>\n",
       "      <td>1987-01-10</td>\n",
       "      <td>Safari</td>\n",
       "      <td>Arbaaz2199023255573@gmx.com;Arbaaz219902325557...</td>\n",
       "      <td>Arbaaz</td>\n",
       "      <td>female</td>\n",
       "      <td>Ali</td>\n",
       "      <td>115.186.113.189</td>\n",
       "    </tr>\n",
       "    <tr>\n",
       "      <th>7</th>\n",
       "      <td>1985-02-11</td>\n",
       "      <td>Internet Explorer</td>\n",
       "      <td>Wei24189255811109@yahoo.com;Wei24189255811109@...</td>\n",
       "      <td>Wei</td>\n",
       "      <td>female</td>\n",
       "      <td>Wei</td>\n",
       "      <td>27.112.88.106</td>\n",
       "    </tr>\n",
       "    <tr>\n",
       "      <th>8</th>\n",
       "      <td>1987-12-04</td>\n",
       "      <td>Firefox</td>\n",
       "      <td>Mehmet15393162788877@gmail.com;Mehmet153931627...</td>\n",
       "      <td>Mehmet</td>\n",
       "      <td>female</td>\n",
       "      <td>Koksal</td>\n",
       "      <td>46.154.44.101</td>\n",
       "    </tr>\n",
       "    <tr>\n",
       "      <th>9</th>\n",
       "      <td>1985-12-07</td>\n",
       "      <td>Internet Explorer</td>\n",
       "      <td>Wojciech17592186044443@gmail.com;Wojciech17592...</td>\n",
       "      <td>Wojciech</td>\n",
       "      <td>male</td>\n",
       "      <td>Ciesla</td>\n",
       "      <td>31.182.127.125</td>\n",
       "    </tr>\n",
       "  </tbody>\n",
       "</table>\n",
       "</div>"
      ],
      "text/plain": [
       "   p.birthday      p.browserUsed  \\\n",
       "0  1983-05-28  Internet Explorer   \n",
       "1  1981-05-30             Safari   \n",
       "2  1981-09-17             Chrome   \n",
       "3  1988-08-23             Chrome   \n",
       "4  1986-10-12  Internet Explorer   \n",
       "5  1984-04-10  Internet Explorer   \n",
       "6  1987-01-10             Safari   \n",
       "7  1985-02-11  Internet Explorer   \n",
       "8  1987-12-04            Firefox   \n",
       "9  1985-12-07  Internet Explorer   \n",
       "\n",
       "                                             p.email p.firstName p.gender  \\\n",
       "0                     Almira26388279066641@gmail.com      Almira   female   \n",
       "1  Ali28587302322209@gmail.com;Ali28587302322209@...         Ali   female   \n",
       "2  Miguel32@gmail.com;Miguel32@gmail.com;Miguel32...      Miguel     male   \n",
       "3  Celso13194139533352@gmx.com;Celso1319413953335...       Celso     male   \n",
       "4  Ken10995116277782@zoho.com;Ken10995116277782@g...         Ken     male   \n",
       "5  Alfonso32985348833318@gmx.com;Alfonso329853488...     Alfonso   female   \n",
       "6  Arbaaz2199023255573@gmx.com;Arbaaz219902325557...      Arbaaz   female   \n",
       "7  Wei24189255811109@yahoo.com;Wei24189255811109@...         Wei   female   \n",
       "8  Mehmet15393162788877@gmail.com;Mehmet153931627...      Mehmet   female   \n",
       "9  Wojciech17592186044443@gmail.com;Wojciech17592...    Wojciech     male   \n",
       "\n",
       "  p.lastName     p.locationIP  \n",
       "0     Patras  193.104.227.215  \n",
       "1     Ferrer    41.223.177.12  \n",
       "2   Gonzalez   148.204.226.31  \n",
       "3   Oliveira   192.190.31.253  \n",
       "4     Yamada    27.122.45.252  \n",
       "5  Rodriguez   192.100.158.95  \n",
       "6        Ali  115.186.113.189  \n",
       "7        Wei    27.112.88.106  \n",
       "8     Koksal    46.154.44.101  \n",
       "9     Ciesla   31.182.127.125  "
      ]
     },
     "execution_count": 14,
     "metadata": {},
     "output_type": "execute_result"
    }
   ],
   "source": [
    "%%time\n",
    "result = graph.query(query3)\n",
    "pd.DataFrame(result[0:10])"
   ]
  },
  {
   "cell_type": "code",
   "execution_count": null,
   "id": "33cce933-8b65-4d4b-b95b-845f22ae9ff3",
   "metadata": {},
   "outputs": [],
   "source": []
  },
  {
   "cell_type": "code",
   "execution_count": null,
   "id": "6223d885-04bf-497e-839a-5721ac0e8c60",
   "metadata": {},
   "outputs": [],
   "source": []
  },
  {
   "cell_type": "code",
   "execution_count": null,
   "id": "bf20324a-4301-4a5f-869b-620a667391c8",
   "metadata": {},
   "outputs": [],
   "source": []
  },
  {
   "cell_type": "code",
   "execution_count": null,
   "id": "a433e90a-b8a7-4304-b8f5-da0cec2d5515",
   "metadata": {},
   "outputs": [],
   "source": []
  }
 ],
 "metadata": {
  "kernelspec": {
   "display_name": "Python 3 (ipykernel)",
   "language": "python",
   "name": "python3"
  },
  "language_info": {
   "codemirror_mode": {
    "name": "ipython",
    "version": 3
   },
   "file_extension": ".py",
   "mimetype": "text/x-python",
   "name": "python",
   "nbconvert_exporter": "python",
   "pygments_lexer": "ipython3",
   "version": "3.8.8"
  }
 },
 "nbformat": 4,
 "nbformat_minor": 5
}
