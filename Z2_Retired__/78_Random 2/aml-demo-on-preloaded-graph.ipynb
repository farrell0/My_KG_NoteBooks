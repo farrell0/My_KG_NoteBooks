{
 "cells": [
  {
   "cell_type": "markdown",
   "id": "380d7790-1e67-4830-8a5e-5643086c4727",
   "metadata": {
    "tags": []
   },
   "source": [
    "# Table of contents\n",
    "1. [Setup](#setup)\n",
    "2. [OPTIONAL Visualize the data](#viz)\n",
    "3. [Use Case 1: Check and tag suspicious transactions](#usecase1)\n",
    "4. [Use Case 2: Process a new transaction](#usecase2)\n",
    "5. [Use Case 3: Match suspicious customers locally with an SDN list](#usecase3)\n",
    " "
   ]
  },
  {
   "cell_type": "markdown",
   "id": "9fac069b-d929-4853-a359-8532d3d593aa",
   "metadata": {},
   "source": [
    "## Setup environment variables for the notebook <a name=\"setup\"></a>\n",
    "In the next few statements, the environment and graph related context is initialized."
   ]
  },
  {
   "cell_type": "code",
   "execution_count": 252,
   "id": "d15210fc-ab82-4bd9-80f4-2f283d3cfaa4",
   "metadata": {},
   "outputs": [],
   "source": [
    "######## setup variables ##########\n",
    "gs_prefix=\"gs://anand-31-simple-files/aml-customer-extended\"\n",
    "cluster_name=\"katana-internal31\"\n",
    "partitions = 1\n",
    "platform_prefix=gs_prefix"
   ]
  },
  {
   "cell_type": "code",
   "execution_count": 253,
   "id": "d54dec81-4ec2-4bbb-af34-294dc7894523",
   "metadata": {},
   "outputs": [],
   "source": [
    "import os                                                                        \n",
    "import time                                                                      \n",
    "import json\n",
    "import pandas as pd\n",
    "from timeit import default_timer as timer\n",
    "from katana.remote import aio, analytics, import_data, trace\n",
    "\n",
    "from katana import remote\n",
    "from katana.remote import import_data\n",
    "\n",
    "import dask.dataframe as dd\n",
    "import matplotlib.pyplot as plt\n",
    "os.environ[\"KATANA_SERVER_ADDRESS\"] = \"host.docker.internal:8080\"\n",
    "\n",
    "pd.set_option('display.max_columns', None)\n",
    "pd.set_option(\"max_colwidth\", None)"
   ]
  },
  {
   "cell_type": "code",
   "execution_count": 254,
   "id": "45c6c3b4-607d-4f10-9db8-2410a5671b90",
   "metadata": {},
   "outputs": [],
   "source": [
    "from diagrams import Cluster, Diagram\n",
    "from diagrams.gcp.analytics import BigQuery, Dataflow, PubSub\n",
    "from diagrams.gcp.compute import AppEngine, Functions\n",
    "from diagrams.gcp.database import BigTable\n",
    "from diagrams.gcp.iot import IotCore\n",
    "from diagrams.gcp.storage import GCS\n",
    "from diagrams.programming import flowchart\n",
    "from diagrams.programming import language\n",
    "from diagrams.custom import Custom"
   ]
  },
  {
   "cell_type": "markdown",
   "id": "53b96670-38e1-4baa-a9b0-f30c0e3ee4d2",
   "metadata": {},
   "source": [
    "### <b>Instantiate the client</b>"
   ]
  },
  {
   "cell_type": "code",
   "execution_count": 255,
   "id": "ae5c18da-bd95-48c6-8705-dff778f73b05",
   "metadata": {},
   "outputs": [
    {
     "data": {
      "text/plain": [
       "'0.1.101rc1.dev+26.5.fecc99.6020d8'"
      ]
     },
     "execution_count": 255,
     "metadata": {},
     "output_type": "execute_result"
    }
   ],
   "source": [
    "rc=remote.Client()\n",
    "rc.server_version"
   ]
  },
  {
   "cell_type": "markdown",
   "id": "ae7fe4a9-ed65-4a13-a8db-b16015737654",
   "metadata": {},
   "source": [
    "### <b> Pick a particular graph </b>"
   ]
  },
  {
   "cell_type": "code",
   "execution_count": 256,
   "id": "1a80917a-8a9c-49ab-a2b8-cfe67210f9c9",
   "metadata": {},
   "outputs": [
    {
     "name": "stdout",
     "output_type": "stream",
     "text": [
      "24P9VG9EghucM3mqG23Rx3dPPPxtivXCBiaDMoypD2n9\n",
      "72jaN4snisfRJdwqbPMcguFutz8Pq4iRRifJUqkbx8xE\n",
      "9NA63vT1dFnjmvYbAo1QCbPwzAKE6fFfYV9Yve7P37wT\n",
      "ATEH4CNt2CJ1TSErGhra34vqfFgUWi6NQE9CFrzpBeio\n",
      "CGR2Z5e23vtKCgZKqgLrNyXrox1BfzzMLzkqs9iCRAvs\n",
      "DpiQPEX3u3fGdHo1WdokhgzTbV6ymyfenFwSr2i6dNt8\n",
      "EGY1shsBsHGnEotW3fWUq7RFv5XhRiCU218SY3gDq6hx\n"
     ]
    }
   ],
   "source": [
    "graph=None\n",
    "for g in rc.graphs():\n",
    "    print(g.graph_id)\n",
    "    if(g.graph_id == 'CGR2Z5e23vtKCgZKqgLrNyXrox1BfzzMLzkqs9iCRAvs'):\n",
    "        graph=g\n"
   ]
  },
  {
   "cell_type": "code",
   "execution_count": 257,
   "id": "9d3fbc22-8652-4191-b175-7ecfe4feba95",
   "metadata": {},
   "outputs": [
    {
     "data": {
      "application/vnd.jupyter.widget-view+json": {
       "model_id": "ac9087d8680f4f4b8673a112ca5757b8",
       "version_major": 2,
       "version_minor": 0
      },
      "text/plain": [
       "          0/? [?op/s]"
      ]
     },
     "metadata": {},
     "output_type": "display_data"
    },
    {
     "name": "stdout",
     "output_type": "stream",
     "text": [
      "CPU times: user 61.9 ms, sys: 22.4 ms, total: 84.2 ms\n",
      "Wall time: 5.86 s\n"
     ]
    },
    {
     "data": {
      "text/plain": [
       "157927"
      ]
     },
     "execution_count": 257,
     "metadata": {},
     "output_type": "execute_result"
    }
   ],
   "source": [
    "%%time\n",
    "graph.num_nodes()"
   ]
  },
  {
   "cell_type": "markdown",
   "id": "4b2f42c7-e65e-4ce2-b8bc-68ad31ff7caa",
   "metadata": {},
   "source": [
    "## OPTIONAL: Visualize the data <a name=\"viz\"></a>\n",
    "Use the next few statements to visualize and understand the data loaded."
   ]
  },
  {
   "cell_type": "code",
   "execution_count": 258,
   "id": "22dcca88-c297-4a77-94e9-bab1cf1a07e9",
   "metadata": {},
   "outputs": [
    {
     "data": {
      "application/vnd.jupyter.widget-view+json": {
       "model_id": "f38fc5257ce4420cace54fda09626354",
       "version_major": 2,
       "version_minor": 0
      },
      "text/plain": [
       "          0/? [?op/s]"
      ]
     },
     "metadata": {},
     "output_type": "display_data"
    },
    {
     "data": {
      "application/vnd.jupyter.widget-view+json": {
       "model_id": "e65f7a6751c44d42992aafd71f652412",
       "version_major": 2,
       "version_minor": 0
      },
      "text/plain": [
       "          0/? [?op/s]"
      ]
     },
     "metadata": {},
     "output_type": "display_data"
    },
    {
     "name": "stdout",
     "output_type": "stream",
     "text": [
      "CPU times: user 201 ms, sys: 67.5 ms, total: 268 ms\n",
      "Wall time: 18.2 s\n"
     ]
    },
    {
     "data": {
      "application/vnd.jupyter.widget-view+json": {
       "model_id": "a4e7fed170ca48499bcbfb5e29fa9170",
       "version_major": 2,
       "version_minor": 0
      },
      "text/plain": [
       "GraphVizWidget(edges=[{'from': 5951, 'to': 926, 'label': 'TRANSACTION_RECEIVER', 'type': 'TRANSACTION_RECEIVER…"
      ]
     },
     "metadata": {},
     "output_type": "display_data"
    }
   ],
   "source": [
    "%%time\n",
    "query1=\"\"\"MATCH (r:ACCOUNT{ACCOUNT_ID:'926'})<-[:TRANSACTION_RECEIVER]-(t:TRANSACTION)<-[:TRANSACTION_SENDER]-(s:ACCOUNT)-[:HAS_CUSTOMER]->(c:CUSTOMER)-[]->(ca) where s.ACCOUNT_ID in ['410'] \n",
    "       return r,s,t,c,ca\"\"\"\n",
    "\n",
    "result = graph.query(query1, contextualize=True)\n",
    "result.visualize()"
   ]
  },
  {
   "cell_type": "markdown",
   "id": "b6cd474f-33f0-4222-85d6-eaba549e1a64",
   "metadata": {},
   "source": [
    "### <b> Query and visualize an Alert </b>"
   ]
  },
  {
   "cell_type": "code",
   "execution_count": null,
   "id": "c3883f99-5ec3-4c01-a71e-06ceb74ef601",
   "metadata": {},
   "outputs": [],
   "source": [
    "%%time\n",
    "#check transaction objects\n",
    "query1=\"\"\"MATCH (a:ALERT{ALERT_ID:'14'})<-[ax:HAS_ALERT]-(tx:TRANSACTION) \n",
    "          WITH a, ax, tx\n",
    "          MATCH (s:ACCOUNT)-[:TRANSACTION_SENDER]->(tx)-[:TRANSACTION_RECEIVER]->(r:ACCOUNT)\n",
    "          RETURN s,r,a,ax,tx\"\"\"\n",
    "result = graph.query(query1, contextualize=True)\n",
    "result.visualize()"
   ]
  },
  {
   "cell_type": "markdown",
   "id": "30348f87-a05a-457d-84e2-b61dc123d6d7",
   "metadata": {},
   "source": [
    "### <b> Check a recent transaction </b>"
   ]
  },
  {
   "cell_type": "code",
   "execution_count": null,
   "id": "c0a75279-ac87-43af-8e37-9172441b6524",
   "metadata": {},
   "outputs": [],
   "source": [
    "%%time\n",
    "query1=\"\"\"MATCH (a)-[:TRANSACTION_SENDER]->(t:TRANSACTION{TX_ID:'200001'})-[:TRANSACTION_RECEIVER]->(b) \n",
    "        return  a,t,b\"\"\"\n",
    "\n",
    "result = graph.query(query1)\n",
    "result.to_pandas()"
   ]
  },
  {
   "cell_type": "markdown",
   "id": "8c6f2c59-a6e3-4278-8bff-5bdefe11620d",
   "metadata": {},
   "source": [
    "## Use Case 1: Detect and flag a suspicious transaction <a name=\"usecase1\"></a>"
   ]
  },
  {
   "cell_type": "markdown",
   "id": "4cd82f83-dca3-461c-ae99-0bb7ca4a4c6d",
   "metadata": {},
   "source": [
    "### Check for transactions that fly under an individual limit of 10000 USD, but average over 9000 USD over 6 or more transactions "
   ]
  },
  {
   "cell_type": "code",
   "execution_count": 259,
   "id": "72fd0d09-7755-4763-ae90-8640a23e0e6b",
   "metadata": {},
   "outputs": [
    {
     "name": "stderr",
     "output_type": "stream",
     "text": [
      "Warning: node '5a589a309817448c9da08f32adecdb40', graph 'AML Explorer' size too small for label\n",
      "Warning: node 'c29623dd31a943a8a84e88c0d4b6e8d0', graph 'AML Explorer' size too small for label\n",
      "Warning: node '010844b9e27a4792a93d9f7d2c3429ff', graph 'AML Explorer' size too small for label\n",
      "Warning: node '238ee69c00d84280af8b0e3a3982a9e1', graph 'AML Explorer' size too small for label\n"
     ]
    },
    {
     "data": {
      "image/png": "[encoded data removed]",
      "text/plain": [
       "<diagrams.Diagram at 0x7f6314a3c430>"
      ]
     },
     "execution_count": 259,
     "metadata": {},
     "output_type": "execute_result"
    }
   ],
   "source": [
    "with Diagram(\"AML Explorer\", show=False) as amlExplorerDiagram:\n",
    "    database = Custom(\"Katana\", \"./res/katana.png\")\n",
    "    radar = BigQuery(\"Under the Radar Query\")\n",
    "    cycles = BigQuery(\"Cycles Query\")\n",
    "    union = flowchart.Collate(\"Intersect Results\")\n",
    "    fp = flowchart.Decision(\"Eliminate False Positives\")\n",
    "    alert = flowchart.Action(\"Flag Transactions\\n and Accounts\")\n",
    "    database >> radar >> cycles >> union >> fp >> alert\n",
    "\n",
    "amlExplorerDiagram"
   ]
  },
  {
   "cell_type": "code",
   "execution_count": 260,
   "id": "53c09c68-4ba3-47c6-bbf4-2f9f9385cdb2",
   "metadata": {},
   "outputs": [
    {
     "data": {
      "application/vnd.jupyter.widget-view+json": {
       "model_id": "fec0d9a484964784aca64b07fad419fb",
       "version_major": 2,
       "version_minor": 0
      },
      "text/plain": [
       "          0/? [?op/s]"
      ]
     },
     "metadata": {},
     "output_type": "display_data"
    },
    {
     "name": "stdout",
     "output_type": "stream",
     "text": [
      "CPU times: user 81.7 ms, sys: 29.3 ms, total: 111 ms\n",
      "Wall time: 6.7 s\n"
     ]
    }
   ],
   "source": [
    "%%time\n",
    "query1=\"\"\"MATCH (a:ACCOUNT)-[:TRANSACTION_SENDER]->(t:TRANSACTION)-[:TRANSACTION_RECEIVER]->(b:ACCOUNT) \n",
    "            where t.dot > date('2018-01-01') and t.dot < date('2022-01-01')\n",
    "              and t.TX_AMOUNT < 10000\n",
    "        WITH  collect(t.TX_ID) as txs, avg(t.TX_AMOUNT) as average, count(t) as count, a.ACCOUNT_ID as sender,b.ACCOUNT_ID as receiver \n",
    "        where average > 9000 \n",
    "        and count > 5  \n",
    "        return  txs, average, count, sender, receiver order by count desc\"\"\"\n",
    "\n",
    "result = graph.query(query1)\n",
    "df=result.to_pandas()"
   ]
  },
  {
   "cell_type": "code",
   "execution_count": 261,
   "id": "2f7e0179-9242-4697-b8cd-6a91a18f9844",
   "metadata": {},
   "outputs": [
    {
     "data": {
      "text/html": [
       "<div>\n",
       "<style scoped>\n",
       "    .dataframe tbody tr th:only-of-type {\n",
       "        vertical-align: middle;\n",
       "    }\n",
       "\n",
       "    .dataframe tbody tr th {\n",
       "        vertical-align: top;\n",
       "    }\n",
       "\n",
       "    .dataframe thead th {\n",
       "        text-align: right;\n",
       "    }\n",
       "</style>\n",
       "<table border=\"1\" class=\"dataframe\">\n",
       "  <thead>\n",
       "    <tr style=\"text-align: right;\">\n",
       "      <th></th>\n",
       "      <th>average</th>\n",
       "      <th>count</th>\n",
       "      <th>receiver</th>\n",
       "      <th>sender</th>\n",
       "      <th>txs</th>\n",
       "    </tr>\n",
       "  </thead>\n",
       "  <tbody>\n",
       "    <tr>\n",
       "      <th>0</th>\n",
       "      <td>9025.000000</td>\n",
       "      <td>49</td>\n",
       "      <td>324</td>\n",
       "      <td>256</td>\n",
       "      <td>[200001, 200002, 200003, 200004, 200005, 200006, 200007, 200008, 200009, 200010, 200011, 200012, 200013, 200014, 200015, 200016, 200017, 200018, 200019, 200020, 200021, 200022, 200023, 200024, 200025, 200026, 200027, 200028, 200029, 200030, 200031, 200032, 200033, 200034, 200035, 200036, 200037, 200038, 200039, 200040, 200041, 200042, 200043, 200044, 200045, 200046, 200047, 200048, 200049]</td>\n",
       "    </tr>\n",
       "    <tr>\n",
       "      <th>1</th>\n",
       "      <td>9022.818182</td>\n",
       "      <td>33</td>\n",
       "      <td>753</td>\n",
       "      <td>919</td>\n",
       "      <td>[210001, 210002, 210003, 210004, 210005, 210006, 210007, 210008, 210009, 210010, 210011, 210012, 210013, 210014, 210015, 210016, 210017, 210018, 210019, 210020, 210021, 210038, 210039, 210040, 210041, 210042, 210043, 210044, 210045, 210046, 210047, 210048, 210049]</td>\n",
       "    </tr>\n",
       "  </tbody>\n",
       "</table>\n",
       "</div>"
      ],
      "text/plain": [
       "       average  count receiver sender  \\\n",
       "0  9025.000000     49      324    256   \n",
       "1  9022.818182     33      753    919   \n",
       "\n",
       "                                                                                                                                                                                                                                                                                                                                                                                                        txs  \n",
       "0  [200001, 200002, 200003, 200004, 200005, 200006, 200007, 200008, 200009, 200010, 200011, 200012, 200013, 200014, 200015, 200016, 200017, 200018, 200019, 200020, 200021, 200022, 200023, 200024, 200025, 200026, 200027, 200028, 200029, 200030, 200031, 200032, 200033, 200034, 200035, 200036, 200037, 200038, 200039, 200040, 200041, 200042, 200043, 200044, 200045, 200046, 200047, 200048, 200049]  \n",
       "1                                                                                                                                  [210001, 210002, 210003, 210004, 210005, 210006, 210007, 210008, 210009, 210010, 210011, 210012, 210013, 210014, 210015, 210016, 210017, 210018, 210019, 210020, 210021, 210038, 210039, 210040, 210041, 210042, 210043, 210044, 210045, 210046, 210047, 210048, 210049]  "
      ]
     },
     "execution_count": 261,
     "metadata": {},
     "output_type": "execute_result"
    }
   ],
   "source": [
    "df"
   ]
  },
  {
   "cell_type": "code",
   "execution_count": 262,
   "id": "3a554c99-9d62-44e8-b7f3-c81d657bbb6f",
   "metadata": {},
   "outputs": [
    {
     "data": {
      "application/vnd.jupyter.widget-view+json": {
       "model_id": "c47c24ba967a4dc1b43385dec910f83e",
       "version_major": 2,
       "version_minor": 0
      },
      "text/plain": [
       "          0/? [?op/s]"
      ]
     },
     "metadata": {},
     "output_type": "display_data"
    },
    {
     "name": "stdout",
     "output_type": "stream",
     "text": [
      "CPU times: user 90 ms, sys: 35.2 ms, total: 125 ms\n",
      "Wall time: 6.43 s\n"
     ]
    }
   ],
   "source": [
    "%%time\n",
    "query1=\"\"\"MATCH (a:ACCOUNT)-[:TRANSACTION_SENDER]->(t:TRANSACTION)-[:TRANSACTION_RECEIVER]->(b:ACCOUNT) \n",
    "            where t.dot > date('2018-01-01') and t.dot < date('2022-01-01')\n",
    "              and t.TX_AMOUNT < 10000\n",
    "        WITH  collect(t.TX_ID) as txs, avg(t.TX_AMOUNT) as average, count(t) as count, a.ACCOUNT_ID as sender,b.ACCOUNT_ID as receiver \n",
    "        where average > 510 \n",
    "        and count > 5  \n",
    "        return  txs, average, count, sender, receiver order by average desc limit 10\"\"\"\n",
    "\n",
    "result = graph.query(query1)\n",
    "df1=result.to_pandas()"
   ]
  },
  {
   "cell_type": "code",
   "execution_count": 263,
   "id": "b0e86af7-839e-4e2f-a1b8-95838dc65258",
   "metadata": {},
   "outputs": [
    {
     "data": {
      "text/plain": [
       "<BarContainer object of 10 artists>"
      ]
     },
     "execution_count": 263,
     "metadata": {},
     "output_type": "execute_result"
    },
    {
     "data": {
      "image/png": "[encoded data removed]",
      "text/plain": [
       "<Figure size 720x360 with 1 Axes>"
      ]
     },
     "metadata": {
      "needs_background": "light"
     },
     "output_type": "display_data"
    }
   ],
   "source": [
    "area = dict()\n",
    "\n",
    "def extractArea(row):\n",
    "    key = row['sender'] + str('-') + row['receiver']\n",
    "    area[key]= row['average'] * row['count']\n",
    "    \n",
    "\n",
    "df1.apply(extractArea, axis=1)\n",
    "partners = list(area.keys())\n",
    "values = list(area.values())\n",
    "plt.figure(figsize = (10, 5))\n",
    "plt.bar(partners, values, color ='blue',\n",
    "        width = 0.4)"
   ]
  },
  {
   "cell_type": "markdown",
   "id": "ce40cd04-d5a0-4bb3-bfda-3e02fc16e2e0",
   "metadata": {},
   "source": [
    "Use Visualization as shown above."
   ]
  },
  {
   "cell_type": "markdown",
   "id": "5d148ad5-c394-4d2f-ba4a-d574d0a002b3",
   "metadata": {},
   "source": [
    "### Do any of the transactions, sender or receiver match with suspicious transactions done in a cyclic pattern? "
   ]
  },
  {
   "cell_type": "code",
   "execution_count": 264,
   "id": "194ec91d-ed14-4d7e-9959-c64bef2b30ba",
   "metadata": {},
   "outputs": [
    {
     "data": {
      "application/vnd.jupyter.widget-view+json": {
       "model_id": "b7852ff1befb4c47a73234ccd508d316",
       "version_major": 2,
       "version_minor": 0
      },
      "text/plain": [
       "          0/? [?op/s]"
      ]
     },
     "metadata": {},
     "output_type": "display_data"
    },
    {
     "data": {
      "application/vnd.jupyter.widget-view+json": {
       "model_id": "89b83bf62c32428d8bfa88182baf2c42",
       "version_major": 2,
       "version_minor": 0
      },
      "text/plain": [
       "          0/? [?op/s]"
      ]
     },
     "metadata": {},
     "output_type": "display_data"
    },
    {
     "name": "stdout",
     "output_type": "stream",
     "text": [
      "CPU times: user 289 ms, sys: 90.2 ms, total: 379 ms\n",
      "Wall time: 28.7 s\n"
     ]
    },
    {
     "data": {
      "application/vnd.jupyter.widget-view+json": {
       "model_id": "40b5b37b44eb45b39b72726d861b1950",
       "version_major": 2,
       "version_minor": 0
      },
      "text/plain": [
       "GraphVizWidget(edges=[{'from': 119615, 'to': 98, 'label': 'TRANSACTION_RECEIVER', 'type': 'TRANSACTION_RECEIVE…"
      ]
     },
     "metadata": {},
     "output_type": "display_data"
    }
   ],
   "source": [
    "%%time\n",
    "query1=\"\"\"MATCH (a)-[:TRANSACTION_SENDER]->(t1:TRANSACTION)-[:TRANSACTION_RECEIVER]->(b)-[:TRANSACTION_SENDER]->(t2:TRANSACTION)-[:TRANSACTION_RECEIVER]->(c)\n",
    "        where t1.TX_AMOUNT = t2.TX_AMOUNT\n",
    "          and NOT a.ACCOUNT_ID = b.ACCOUNT_ID\n",
    "          and NOT b.ACCOUNT_ID = c.ACCOUNT_ID\n",
    "        WITH a, b, c, t1,t2\n",
    "        MATCH  (c)-[:TRANSACTION_SENDER]->(t3:TRANSACTION)-[:TRANSACTION_RECEIVER]->(d)\n",
    "        where t3.TX_AMOUNT = t2.TX_AMOUNT\n",
    "          and NOT d.ACCOUNT_ID = c.ACCOUNT_ID\n",
    "        WITH a, b, c, d, t1,t2, t3\n",
    "        MATCH  (d)-[:TRANSACTION_SENDER]->(t4:TRANSACTION)-[:TRANSACTION_RECEIVER]->(e)\n",
    "        where t4.TX_AMOUNT = t3.TX_AMOUNT\n",
    "          and NOT e.ACCOUNT_ID = d.ACCOUNT_ID\n",
    "        WITH a, b, c, d, e, t1,t2, t3, t4\n",
    "        MATCH  (e)-[:TRANSACTION_SENDER]->(t5:TRANSACTION)-[:TRANSACTION_RECEIVER]->(f)\n",
    "        where t5.TX_AMOUNT = t4.TX_AMOUNT\n",
    "          and NOT f.ACCOUNT_ID = e.ACCOUNT_ID\n",
    "          and f.ACCOUNT_ID = a.ACCOUNT_ID\n",
    "          and ( a.ACCOUNT_ID = '753' or b.ACCOUNT_ID = '753' or c.ACCOUNT_ID = '753' or d.ACCOUNT_ID = '753' or e.ACCOUNT_ID = '753' or f.ACCOUNT_ID = '753' )\n",
    "        return a, b, c, d, e, f, t1,t2, t3, t4, t5 \n",
    "        \"\"\"\n",
    "\n",
    "result = graph.query(query1, contextualize = True)\n",
    "cycles=result.to_pandas()\n",
    "result.visualize()"
   ]
  },
  {
   "cell_type": "markdown",
   "id": "8e90c1ea-25c6-4dbf-b746-fdbd792f2956",
   "metadata": {},
   "source": [
    "### Find the suspicious transaction that also exists in the cycle . (Ideally this should be supported in Cypher)"
   ]
  },
  {
   "cell_type": "code",
   "execution_count": 265,
   "id": "9f9b4dd3-232b-4918-baca-45cf9558d30d",
   "metadata": {},
   "outputs": [
    {
     "name": "stdout",
     "output_type": "stream",
     "text": [
      "The transactions that occur both in the earlier detected suspcious list as well as in cycles is :\n"
     ]
    },
    {
     "data": {
      "text/plain": [
       "{'210049'}"
      ]
     },
     "execution_count": 265,
     "metadata": {},
     "output_type": "execute_result"
    }
   ],
   "source": [
    "suspiciousTXSet = set()\n",
    "for tx in df['txs']:\n",
    "    for sus in tx:\n",
    "        suspiciousTXSet.add(sus)\n",
    "\n",
    "cycleNodeSet = set()\n",
    "for cnode in cycles['t1']:\n",
    "    cycleNodeSet.add(cnode['properties']['TX_ID'])\n",
    "for cnode in cycles['t2']:\n",
    "    cycleNodeSet.add(cnode['properties']['TX_ID'])\n",
    "for cnode in cycles['t3']:\n",
    "    cycleNodeSet.add(cnode['properties']['TX_ID'])\n",
    "for cnode in cycles['t4']:\n",
    "    cycleNodeSet.add(cnode['properties']['TX_ID'])\n",
    "for cnode in cycles['t5']:\n",
    "    cycleNodeSet.add(cnode['properties']['TX_ID'])\n",
    "\n",
    "uSet=suspiciousTXSet.intersection(cycleNodeSet)\n",
    "print('The transactions that occur both in the earlier detected suspcious list as well as in cycles is :')\n",
    "uSet"
   ]
  },
  {
   "cell_type": "markdown",
   "id": "c42984ef-4f5a-452e-be83-e0dcbe83eed7",
   "metadata": {},
   "source": [
    "### Check for false positives"
   ]
  },
  {
   "cell_type": "code",
   "execution_count": 266,
   "id": "aa169937-a375-4ce6-b5ae-652ab3442d33",
   "metadata": {},
   "outputs": [
    {
     "data": {
      "application/vnd.jupyter.widget-view+json": {
       "model_id": "6afb62517e234211b9282fb66ad9c4f4",
       "version_major": 2,
       "version_minor": 0
      },
      "text/plain": [
       "          0/? [?op/s]"
      ]
     },
     "metadata": {},
     "output_type": "display_data"
    },
    {
     "name": "stdout",
     "output_type": "stream",
     "text": [
      "CPU times: user 67.8 ms, sys: 31.2 ms, total: 99 ms\n",
      "Wall time: 6.54 s\n"
     ]
    },
    {
     "data": {
      "text/html": [
       "<div>\n",
       "<style scoped>\n",
       "    .dataframe tbody tr th:only-of-type {\n",
       "        vertical-align: middle;\n",
       "    }\n",
       "\n",
       "    .dataframe tbody tr th {\n",
       "        vertical-align: top;\n",
       "    }\n",
       "\n",
       "    .dataframe thead th {\n",
       "        text-align: right;\n",
       "    }\n",
       "</style>\n",
       "<table border=\"1\" class=\"dataframe\">\n",
       "  <thead>\n",
       "    <tr style=\"text-align: right;\">\n",
       "      <th></th>\n",
       "      <th>avg(t.TX_AMOUNT)</th>\n",
       "    </tr>\n",
       "  </thead>\n",
       "  <tbody>\n",
       "    <tr>\n",
       "      <th>0</th>\n",
       "      <td>549.83</td>\n",
       "    </tr>\n",
       "  </tbody>\n",
       "</table>\n",
       "</div>"
      ],
      "text/plain": [
       "   avg(t.TX_AMOUNT)\n",
       "0            549.83"
      ]
     },
     "execution_count": 266,
     "metadata": {},
     "output_type": "execute_result"
    }
   ],
   "source": [
    "%%time\n",
    "query1=\"\"\"MATCH (a:ACCOUNT)-[]-(t:TRANSACTION)-[]-(b:ACCOUNT)  \n",
    "        WHERE a.ACCOUNT_ID = '256'\n",
    "          and not b.ACCOUNT_ID = '324'\n",
    "        return avg(t.TX_AMOUNT)\"\"\"\n",
    "result = graph.query(query1)\n",
    "result.to_pandas()"
   ]
  },
  {
   "cell_type": "code",
   "execution_count": 267,
   "id": "edfc1d17-1576-477a-9be3-32a53c8676f3",
   "metadata": {},
   "outputs": [
    {
     "data": {
      "application/vnd.jupyter.widget-view+json": {
       "model_id": "037b2010dd654dbca584e1cc03dcf145",
       "version_major": 2,
       "version_minor": 0
      },
      "text/plain": [
       "          0/? [?op/s]"
      ]
     },
     "metadata": {},
     "output_type": "display_data"
    },
    {
     "name": "stdout",
     "output_type": "stream",
     "text": [
      "CPU times: user 85.7 ms, sys: 20.8 ms, total: 107 ms\n",
      "Wall time: 6.47 s\n"
     ]
    },
    {
     "data": {
      "text/html": [
       "<div>\n",
       "<style scoped>\n",
       "    .dataframe tbody tr th:only-of-type {\n",
       "        vertical-align: middle;\n",
       "    }\n",
       "\n",
       "    .dataframe tbody tr th {\n",
       "        vertical-align: top;\n",
       "    }\n",
       "\n",
       "    .dataframe thead th {\n",
       "        text-align: right;\n",
       "    }\n",
       "</style>\n",
       "<table border=\"1\" class=\"dataframe\">\n",
       "  <thead>\n",
       "    <tr style=\"text-align: right;\">\n",
       "      <th></th>\n",
       "      <th>avg(t.TX_AMOUNT)</th>\n",
       "    </tr>\n",
       "  </thead>\n",
       "  <tbody>\n",
       "    <tr>\n",
       "      <th>0</th>\n",
       "      <td>2.482947e+06</td>\n",
       "    </tr>\n",
       "  </tbody>\n",
       "</table>\n",
       "</div>"
      ],
      "text/plain": [
       "   avg(t.TX_AMOUNT)\n",
       "0      2.482947e+06"
      ]
     },
     "execution_count": 267,
     "metadata": {},
     "output_type": "execute_result"
    }
   ],
   "source": [
    "%%time\n",
    "query1=\"\"\"MATCH (a:ACCOUNT)-[]-(t:TRANSACTION)-[]-(b:ACCOUNT) \n",
    "        WHERE a.ACCOUNT_ID = '753'\n",
    "          and not b.ACCOUNT_ID = '919'\n",
    "        return avg(t.TX_AMOUNT)\"\"\"\n",
    "result = graph.query(query1)\n",
    "result.to_pandas()"
   ]
  },
  {
   "cell_type": "markdown",
   "id": "e1ef083e-be65-4d69-ad8c-f5b7a406ab15",
   "metadata": {},
   "source": [
    "The average transaction amount for account <b>256</b> of the accounts is much smaller than the one for <b>753</b>. Hence the account <b>256</b> is tagged as a true positive and the transactions with account <b>256</b> associated are tagged as suspicious"
   ]
  },
  {
   "cell_type": "markdown",
   "id": "0c4543ed-851c-413f-af99-f79deac46623",
   "metadata": {},
   "source": [
    "### Create an alert for the transaction and mark the customer for account '256' as suspicious "
   ]
  },
  {
   "cell_type": "code",
   "execution_count": 268,
   "id": "0bc259f9-5cf3-4476-933b-939411ec09a8",
   "metadata": {},
   "outputs": [
    {
     "data": {
      "application/vnd.jupyter.widget-view+json": {
       "model_id": "8d541e8bff8548929c07e88d6d69355e",
       "version_major": 2,
       "version_minor": 0
      },
      "text/plain": [
       "          0/? [?op/s]"
      ]
     },
     "metadata": {},
     "output_type": "display_data"
    },
    {
     "name": "stdout",
     "output_type": "stream",
     "text": [
      "CPU times: user 381 ms, sys: 91.8 ms, total: 473 ms\n",
      "Wall time: 7.41 s\n"
     ]
    },
    {
     "data": {
      "text/html": [
       "<div>\n",
       "<style scoped>\n",
       "    .dataframe tbody tr th:only-of-type {\n",
       "        vertical-align: middle;\n",
       "    }\n",
       "\n",
       "    .dataframe tbody tr th {\n",
       "        vertical-align: top;\n",
       "    }\n",
       "\n",
       "    .dataframe thead th {\n",
       "        text-align: right;\n",
       "    }\n",
       "</style>\n",
       "<table border=\"1\" class=\"dataframe\">\n",
       "  <thead>\n",
       "    <tr style=\"text-align: right;\">\n",
       "      <th></th>\n",
       "      <th>alert</th>\n",
       "    </tr>\n",
       "  </thead>\n",
       "  <tbody>\n",
       "    <tr>\n",
       "      <th>0</th>\n",
       "      <td>{'id': 157927, 'labels': ['ALERT'], 'properties': {'ALERT_ID': '10001', 'DESCRIPTION': 'High Value with cycle links'}, 'type': 'node'}</td>\n",
       "    </tr>\n",
       "  </tbody>\n",
       "</table>\n",
       "</div>"
      ],
      "text/plain": [
       "                                                                                                                                    alert\n",
       "0  {'id': 157927, 'labels': ['ALERT'], 'properties': {'ALERT_ID': '10001', 'DESCRIPTION': 'High Value with cycle links'}, 'type': 'node'}"
      ]
     },
     "execution_count": 268,
     "metadata": {},
     "output_type": "execute_result"
    }
   ],
   "source": [
    "%%time\n",
    "query1=\"\"\"MATCH (t:TRANSACTION)  \n",
    "        WHERE t.TX_ID = '210049'\n",
    "        CREATE (t)<-[:HAS_ALERT]-(alert:ALERT{ALERT_ID:'10001', DESCRIPTION: 'High Value with cycle links'})\n",
    "        return alert\"\"\"\n",
    "result = graph.query(query1)\n",
    "result.to_pandas()"
   ]
  },
  {
   "cell_type": "code",
   "execution_count": 269,
   "id": "636e856c-4d8b-43cf-9a9d-e9466e79e6f9",
   "metadata": {},
   "outputs": [
    {
     "data": {
      "application/vnd.jupyter.widget-view+json": {
       "model_id": "128d333bc8c94af2b8849f319073ee2f",
       "version_major": 2,
       "version_minor": 0
      },
      "text/plain": [
       "          0/? [?op/s]"
      ]
     },
     "metadata": {},
     "output_type": "display_data"
    },
    {
     "data": {
      "application/vnd.jupyter.widget-view+json": {
       "model_id": "2cba54c6e8ea4a27bbdc10f3fb3c28c8",
       "version_major": 2,
       "version_minor": 0
      },
      "text/plain": [
       "          0/? [?op/s]"
      ]
     },
     "metadata": {},
     "output_type": "display_data"
    },
    {
     "name": "stdout",
     "output_type": "stream",
     "text": [
      "CPU times: user 222 ms, sys: 63.9 ms, total: 286 ms\n",
      "Wall time: 14.3 s\n"
     ]
    },
    {
     "data": {
      "application/vnd.jupyter.widget-view+json": {
       "model_id": "b2931e997eeb4736a754d0aa904a0808",
       "version_major": 2,
       "version_minor": 0
      },
      "text/plain": [
       "GraphVizWidget(edges=[{'from': 119613, 'to': 753, 'label': 'TRANSACTION_RECEIVER', 'type': 'TRANSACTION_RECEIV…"
      ]
     },
     "metadata": {},
     "output_type": "display_data"
    }
   ],
   "source": [
    "%%time\n",
    "query1=\"\"\"MATCH (p)-[]-(t)<-[:HAS_ALERT]-(alert:ALERT{ALERT_ID:'10001'})  \n",
    "        return p,t, alert\"\"\"\n",
    "result = graph.query(query1, contextualize = True)\n",
    "result.visualize()"
   ]
  },
  {
   "cell_type": "code",
   "execution_count": 270,
   "id": "5f017a03-61a5-40ea-aad8-82997d9028c3",
   "metadata": {},
   "outputs": [
    {
     "data": {
      "application/vnd.jupyter.widget-view+json": {
       "model_id": "4da9031f1fc94735aa3e8b66d1349333",
       "version_major": 2,
       "version_minor": 0
      },
      "text/plain": [
       "          0/? [?op/s]"
      ]
     },
     "metadata": {},
     "output_type": "display_data"
    },
    {
     "name": "stdout",
     "output_type": "stream",
     "text": [
      "CPU times: user 174 ms, sys: 40.8 ms, total: 215 ms\n",
      "Wall time: 8.57 s\n"
     ]
    },
    {
     "data": {
      "text/html": [
       "<div>\n",
       "<style scoped>\n",
       "    .dataframe tbody tr th:only-of-type {\n",
       "        vertical-align: middle;\n",
       "    }\n",
       "\n",
       "    .dataframe tbody tr th {\n",
       "        vertical-align: top;\n",
       "    }\n",
       "\n",
       "    .dataframe thead th {\n",
       "        text-align: right;\n",
       "    }\n",
       "</style>\n",
       "<table border=\"1\" class=\"dataframe\">\n",
       "  <thead>\n",
       "    <tr style=\"text-align: right;\">\n",
       "      <th></th>\n",
       "      <th>c</th>\n",
       "    </tr>\n",
       "  </thead>\n",
       "  <tbody>\n",
       "    <tr>\n",
       "      <th>0</th>\n",
       "      <td>{'id': 1256, 'labels': ['CUSTOMER'], 'properties': {'CUSTOMER_ID': 'C_256', 'DOB': '1961-05-04', 'FIRSTNAME': 'CENTENO', 'LASTNAME': 'RIVERA', 'PEP': 'false', 'SUSPICIOUS': 'true'}, 'type': 'node'}</td>\n",
       "    </tr>\n",
       "  </tbody>\n",
       "</table>\n",
       "</div>"
      ],
      "text/plain": [
       "                                                                                                                                                                                                       c\n",
       "0  {'id': 1256, 'labels': ['CUSTOMER'], 'properties': {'CUSTOMER_ID': 'C_256', 'DOB': '1961-05-04', 'FIRSTNAME': 'CENTENO', 'LASTNAME': 'RIVERA', 'PEP': 'false', 'SUSPICIOUS': 'true'}, 'type': 'node'}"
      ]
     },
     "execution_count": 270,
     "metadata": {},
     "output_type": "execute_result"
    }
   ],
   "source": [
    "%%time\n",
    "query1=\"\"\"MATCH (a:ACCOUNT)-[:HAS_CUSTOMER]->(c:CUSTOMER)  \n",
    "        WHERE a.ACCOUNT_ID = '256'\n",
    "        SET c.SUSPICIOUS = 'true'\n",
    "        return c\"\"\"\n",
    "result = graph.query(query1)\n",
    "result.to_pandas()"
   ]
  },
  {
   "cell_type": "markdown",
   "id": "1b2db747-b5ea-4fa5-862a-c12707da97b6",
   "metadata": {},
   "source": [
    "## Use Case 2: Process a new transaction <a name=\"usecase2\"></a>"
   ]
  },
  {
   "cell_type": "code",
   "execution_count": 271,
   "id": "bfb24e3d-a2d7-4868-9a11-07d71a94350f",
   "metadata": {},
   "outputs": [
    {
     "name": "stderr",
     "output_type": "stream",
     "text": [
      "Warning: node '8796755977944919ac9f70a7484a7ce8', graph 'Process A New Transaction' size too small for label\n",
      "Warning: node '15beadbd030b471385cf5d0126668bad', graph 'Process A New Transaction' size too small for label\n",
      "Warning: node '998f9b3e514e448a8d8787a00f042376', graph 'Process A New Transaction' size too small for label\n"
     ]
    },
    {
     "data": {
      "image/png": "[encoded data removed]",
      "text/plain": [
       "<diagrams.Diagram at 0x7f6314aee310>"
      ]
     },
     "execution_count": 271,
     "metadata": {},
     "output_type": "execute_result"
    }
   ],
   "source": [
    "with Diagram(\"Process A New Transaction\", show=False) as newTransactionDiagram:\n",
    "    database = Custom(\"Katana\", \"./res/katana.png\")\n",
    "    newTx = BigQuery(\"Create a \\nNew Transaction\")\n",
    "    match = flowchart.Collate(\"Match with \\n Suspicious Accounts\")\n",
    "    alert = flowchart.Action(\"If Match Found, Create Alert\\n for new Transaction\")\n",
    "    database >> newTx >> match >> alert\n",
    "\n",
    "newTransactionDiagram"
   ]
  },
  {
   "cell_type": "code",
   "execution_count": 272,
   "id": "cae1bd30-d4e9-41ea-b5e2-e2d21a28113d",
   "metadata": {},
   "outputs": [
    {
     "data": {
      "application/vnd.jupyter.widget-view+json": {
       "model_id": "77c0f112cf754f239a84ec7ffbe338a8",
       "version_major": 2,
       "version_minor": 0
      },
      "text/plain": [
       "          0/? [?op/s]"
      ]
     },
     "metadata": {},
     "output_type": "display_data"
    },
    {
     "name": "stdout",
     "output_type": "stream",
     "text": [
      "CPU times: user 358 ms, sys: 76.7 ms, total: 435 ms\n",
      "Wall time: 15.1 s\n"
     ]
    },
    {
     "data": {
      "text/html": [
       "<div>\n",
       "<style scoped>\n",
       "    .dataframe tbody tr th:only-of-type {\n",
       "        vertical-align: middle;\n",
       "    }\n",
       "\n",
       "    .dataframe tbody tr th {\n",
       "        vertical-align: top;\n",
       "    }\n",
       "\n",
       "    .dataframe thead th {\n",
       "        text-align: right;\n",
       "    }\n",
       "</style>\n",
       "<table border=\"1\" class=\"dataframe\">\n",
       "  <thead>\n",
       "    <tr style=\"text-align: right;\">\n",
       "      <th></th>\n",
       "      <th>t</th>\n",
       "    </tr>\n",
       "  </thead>\n",
       "  <tbody>\n",
       "    <tr>\n",
       "      <th>0</th>\n",
       "      <td>{'id': 157928, 'labels': ['TRANSACTION'], 'properties': {'TX_AMOUNT': 6.5, 'TX_ID': '999999'}, 'type': 'node'}</td>\n",
       "    </tr>\n",
       "  </tbody>\n",
       "</table>\n",
       "</div>"
      ],
      "text/plain": [
       "                                                                                                                t\n",
       "0  {'id': 157928, 'labels': ['TRANSACTION'], 'properties': {'TX_AMOUNT': 6.5, 'TX_ID': '999999'}, 'type': 'node'}"
      ]
     },
     "execution_count": 272,
     "metadata": {},
     "output_type": "execute_result"
    }
   ],
   "source": [
    "%%time\n",
    "query1 = \"\"\"MATCH (sender:ACCOUNT{ACCOUNT_ID:'125'})\n",
    "WITH sender\n",
    "MATCH (rec:ACCOUNT{ACCOUNT_ID: '256'})\n",
    "WITH sender, rec\n",
    "CREATE (sender)-[:TRANSACTION_SENDER]->(t:TRANSACTION{TX_ID: '999999',TX_AMOUNT: 6.5})-[:TRANSACTION_RECEIVER]->(rec)\n",
    "RETURN t\"\"\"\n",
    "result = graph.query(query1)\n",
    "result.to_pandas()"
   ]
  },
  {
   "cell_type": "markdown",
   "id": "64da35d7-21de-4ac2-80ad-a6308ef29a5b",
   "metadata": {},
   "source": [
    "Check the sender and receiver of this transaction for suspicion flag"
   ]
  },
  {
   "cell_type": "code",
   "execution_count": 273,
   "id": "28f4ff2d-c3c6-4efb-ae51-072b641e05ee",
   "metadata": {},
   "outputs": [
    {
     "data": {
      "application/vnd.jupyter.widget-view+json": {
       "model_id": "06da6c71d9604632b44572b45e69a1ef",
       "version_major": 2,
       "version_minor": 0
      },
      "text/plain": [
       "          0/? [?op/s]"
      ]
     },
     "metadata": {},
     "output_type": "display_data"
    },
    {
     "name": "stdout",
     "output_type": "stream",
     "text": [
      "CPU times: user 344 ms, sys: 86.9 ms, total: 431 ms\n",
      "Wall time: 12.3 s\n"
     ]
    },
    {
     "data": {
      "text/html": [
       "<div>\n",
       "<style scoped>\n",
       "    .dataframe tbody tr th:only-of-type {\n",
       "        vertical-align: middle;\n",
       "    }\n",
       "\n",
       "    .dataframe tbody tr th {\n",
       "        vertical-align: top;\n",
       "    }\n",
       "\n",
       "    .dataframe thead th {\n",
       "        text-align: right;\n",
       "    }\n",
       "</style>\n",
       "<table border=\"1\" class=\"dataframe\">\n",
       "  <thead>\n",
       "    <tr style=\"text-align: right;\">\n",
       "      <th></th>\n",
       "      <th>alert</th>\n",
       "    </tr>\n",
       "  </thead>\n",
       "  <tbody>\n",
       "    <tr>\n",
       "      <th>0</th>\n",
       "      <td>{'id': 157929, 'labels': ['ALERT'], 'properties': {'ALERT_ID': '10002', 'DESCRIPTION': 'Sender or Receiver is suspicious'}, 'type': 'node'}</td>\n",
       "    </tr>\n",
       "  </tbody>\n",
       "</table>\n",
       "</div>"
      ],
      "text/plain": [
       "                                                                                                                                         alert\n",
       "0  {'id': 157929, 'labels': ['ALERT'], 'properties': {'ALERT_ID': '10002', 'DESCRIPTION': 'Sender or Receiver is suspicious'}, 'type': 'node'}"
      ]
     },
     "execution_count": 273,
     "metadata": {},
     "output_type": "execute_result"
    }
   ],
   "source": [
    "%%time\n",
    "query1 = \"\"\"MATCH (t:TRANSACTION{TX_ID:'999999'})-[]-(a:ACCOUNT)-[]-(c:CUSTOMER)\n",
    "WHERE c.SUSPICIOUS = 'true'\n",
    "WITH t\n",
    "CREATE (t)<-[:HAS_ALERT]-(alert:ALERT{ALERT_ID:'10002', DESCRIPTION: 'Sender or Receiver is suspicious'})\n",
    "return alert\n",
    "\"\"\"\n",
    "result = graph.query(query1)\n",
    "result.to_pandas()"
   ]
  },
  {
   "cell_type": "code",
   "execution_count": 274,
   "id": "27c8c742-4c64-4064-987d-16ad95110621",
   "metadata": {},
   "outputs": [
    {
     "data": {
      "application/vnd.jupyter.widget-view+json": {
       "model_id": "e1cdbc918bc34f26940df20a718144b9",
       "version_major": 2,
       "version_minor": 0
      },
      "text/plain": [
       "          0/? [?op/s]"
      ]
     },
     "metadata": {},
     "output_type": "display_data"
    },
    {
     "data": {
      "application/vnd.jupyter.widget-view+json": {
       "model_id": "a8e2b222c50a47d3b7601eac90276d89",
       "version_major": 2,
       "version_minor": 0
      },
      "text/plain": [
       "          0/? [?op/s]"
      ]
     },
     "metadata": {},
     "output_type": "display_data"
    },
    {
     "name": "stdout",
     "output_type": "stream",
     "text": [
      "CPU times: user 196 ms, sys: 57.2 ms, total: 254 ms\n",
      "Wall time: 17.1 s\n"
     ]
    },
    {
     "data": {
      "application/vnd.jupyter.widget-view+json": {
       "model_id": "a68c3e9fe6c84251a1259f8dcc0ed0a3",
       "version_major": 2,
       "version_minor": 0
      },
      "text/plain": [
       "GraphVizWidget(edges=[{'from': 157928, 'to': 256, 'label': 'TRANSACTION_RECEIVER', 'type': 'TRANSACTION_RECEIV…"
      ]
     },
     "metadata": {},
     "output_type": "display_data"
    }
   ],
   "source": [
    "%%time\n",
    "query1=\"\"\"MATCH (p)-[]-(t)<-[:HAS_ALERT]-(alert:ALERT{ALERT_ID:'10002'})  \n",
    "        return p,t, alert\"\"\"\n",
    "result = graph.query(query1, contextualize = True)\n",
    "result.visualize()"
   ]
  },
  {
   "cell_type": "markdown",
   "id": "bcc98e92-cd50-426b-9159-bfc296e9be0f",
   "metadata": {},
   "source": [
    "### Use Case 3: Match suspicious customers locally with an SDN list<a name=\"usecase3\"></a>\n",
    "1. Load SDN locally\n",
    "2. Compare with customers and identify candidates\n"
   ]
  },
  {
   "cell_type": "code",
   "execution_count": 275,
   "id": "c0e87c1f-eb9a-4b5f-afd1-c2c16608d41b",
   "metadata": {},
   "outputs": [
    {
     "name": "stderr",
     "output_type": "stream",
     "text": [
      "Warning: node '0a4aa3288ccc4f57998040205f2116c7', graph 'SDN List Comparison Done Locally' size too small for label\n",
      "Warning: node '4d6b41816e3f4422b0d1e9cc26ce387e', graph 'SDN List Comparison Done Locally' size too small for label\n",
      "Warning: node '3bc38bac5e7b4e88bdb1d0b6f8c3c43d', graph 'SDN List Comparison Done Locally' size too small for label\n"
     ]
    },
    {
     "data": {
      "image/png": "[encoded data removed]",
      "text/plain": [
       "<diagrams.Diagram at 0x7f6314afc730>"
      ]
     },
     "execution_count": 275,
     "metadata": {},
     "output_type": "execute_result"
    }
   ],
   "source": [
    "with Diagram(\"SDN List Comparison Done Locally\", show=False) as LocalSDNListComparison:\n",
    "    database = Custom(\"Katana\", \"./res/katana.png\")\n",
    "    sus = BigQuery(\"Find previously marked\\n Suspicious Customers\")\n",
    "    match = flowchart.Collate(\"Match names with \\n SDN List\")\n",
    "    pub = PubSub(\"Notify Matches Found\\n (Not implemented)\")\n",
    "    database >> sus >> match >> pub\n",
    "\n",
    "LocalSDNListComparison"
   ]
  },
  {
   "cell_type": "code",
   "execution_count": 276,
   "id": "26214c21-7ddf-4351-9642-c5a12863454c",
   "metadata": {},
   "outputs": [],
   "source": [
    "sdnEntriesFile = 'gs://anand-31-simple-files/aml-customer-extended/data/sdnEntries.csv'\n",
    "sdnDF = dd.read_csv(sdnEntriesFile)"
   ]
  },
  {
   "cell_type": "code",
   "execution_count": 277,
   "id": "8fe0e73d-5794-4152-9880-19727d9021e1",
   "metadata": {},
   "outputs": [],
   "source": [
    "sdnHead=sdnDF.head(5)"
   ]
  },
  {
   "cell_type": "code",
   "execution_count": 278,
   "id": "0f1bf556-af0d-4f17-9941-11a804f1a450",
   "metadata": {},
   "outputs": [
    {
     "data": {
      "text/html": [
       "<div>\n",
       "<style scoped>\n",
       "    .dataframe tbody tr th:only-of-type {\n",
       "        vertical-align: middle;\n",
       "    }\n",
       "\n",
       "    .dataframe tbody tr th {\n",
       "        vertical-align: top;\n",
       "    }\n",
       "\n",
       "    .dataframe thead th {\n",
       "        text-align: right;\n",
       "    }\n",
       "</style>\n",
       "<table border=\"1\" class=\"dataframe\">\n",
       "  <thead>\n",
       "    <tr style=\"text-align: right;\">\n",
       "      <th></th>\n",
       "      <th>UID</th>\n",
       "      <th>LASTNAME</th>\n",
       "      <th>SDNTYPE</th>\n",
       "    </tr>\n",
       "  </thead>\n",
       "  <tbody>\n",
       "    <tr>\n",
       "      <th>0</th>\n",
       "      <td>36</td>\n",
       "      <td>AEROCARIBBEAN AIRLINES</td>\n",
       "      <td>Entity</td>\n",
       "    </tr>\n",
       "    <tr>\n",
       "      <th>1</th>\n",
       "      <td>173</td>\n",
       "      <td>ANGLO-CARIBBEAN CO., LTD.</td>\n",
       "      <td>Entity</td>\n",
       "    </tr>\n",
       "    <tr>\n",
       "      <th>2</th>\n",
       "      <td>306</td>\n",
       "      <td>BANCO NACIONAL DE CUBA</td>\n",
       "      <td>Entity</td>\n",
       "    </tr>\n",
       "    <tr>\n",
       "      <th>3</th>\n",
       "      <td>424</td>\n",
       "      <td>BOUTIQUE LA MAISON</td>\n",
       "      <td>Entity</td>\n",
       "    </tr>\n",
       "    <tr>\n",
       "      <th>4</th>\n",
       "      <td>475</td>\n",
       "      <td>CASA DE CUBA</td>\n",
       "      <td>Entity</td>\n",
       "    </tr>\n",
       "  </tbody>\n",
       "</table>\n",
       "</div>"
      ],
      "text/plain": [
       "   UID                   LASTNAME SDNTYPE\n",
       "0   36     AEROCARIBBEAN AIRLINES  Entity\n",
       "1  173  ANGLO-CARIBBEAN CO., LTD.  Entity\n",
       "2  306     BANCO NACIONAL DE CUBA  Entity\n",
       "3  424         BOUTIQUE LA MAISON  Entity\n",
       "4  475               CASA DE CUBA  Entity"
      ]
     },
     "execution_count": 278,
     "metadata": {},
     "output_type": "execute_result"
    }
   ],
   "source": [
    "sdnHead"
   ]
  },
  {
   "cell_type": "code",
   "execution_count": 279,
   "id": "5aa26e7b-fdee-4c7a-9458-9c80bf3b6f22",
   "metadata": {},
   "outputs": [
    {
     "data": {
      "application/vnd.jupyter.widget-view+json": {
       "model_id": "ff8b8ba77f714dc4821bf7885a86411f",
       "version_major": 2,
       "version_minor": 0
      },
      "text/plain": [
       "          0/? [?op/s]"
      ]
     },
     "metadata": {},
     "output_type": "display_data"
    },
    {
     "name": "stdout",
     "output_type": "stream",
     "text": [
      "CPU times: user 95.5 ms, sys: 26.6 ms, total: 122 ms\n",
      "Wall time: 7.81 s\n"
     ]
    },
    {
     "data": {
      "text/html": [
       "<div>\n",
       "<style scoped>\n",
       "    .dataframe tbody tr th:only-of-type {\n",
       "        vertical-align: middle;\n",
       "    }\n",
       "\n",
       "    .dataframe tbody tr th {\n",
       "        vertical-align: top;\n",
       "    }\n",
       "\n",
       "    .dataframe thead th {\n",
       "        text-align: right;\n",
       "    }\n",
       "</style>\n",
       "<table border=\"1\" class=\"dataframe\">\n",
       "  <thead>\n",
       "    <tr style=\"text-align: right;\">\n",
       "      <th></th>\n",
       "      <th>c</th>\n",
       "    </tr>\n",
       "  </thead>\n",
       "  <tbody>\n",
       "    <tr>\n",
       "      <th>0</th>\n",
       "      <td>{'id': 1256, 'labels': ['CUSTOMER'], 'properties': {'CUSTOMER_ID': 'C_256', 'DOB': '1961-05-04', 'FIRSTNAME': 'CENTENO', 'LASTNAME': 'RIVERA', 'PEP': 'false', 'SUSPICIOUS': 'true'}, 'type': 'node'}</td>\n",
       "    </tr>\n",
       "  </tbody>\n",
       "</table>\n",
       "</div>"
      ],
      "text/plain": [
       "                                                                                                                                                                                                       c\n",
       "0  {'id': 1256, 'labels': ['CUSTOMER'], 'properties': {'CUSTOMER_ID': 'C_256', 'DOB': '1961-05-04', 'FIRSTNAME': 'CENTENO', 'LASTNAME': 'RIVERA', 'PEP': 'false', 'SUSPICIOUS': 'true'}, 'type': 'node'}"
      ]
     },
     "execution_count": 279,
     "metadata": {},
     "output_type": "execute_result"
    }
   ],
   "source": [
    "%%time\n",
    "query1=\"\"\"MATCH (c:CUSTOMER{SUSPICIOUS: 'true'})  \n",
    "        return c\"\"\"\n",
    "result = graph.query(query1)\n",
    "susDF = result.to_pandas()\n",
    "susDF"
   ]
  },
  {
   "cell_type": "code",
   "execution_count": 280,
   "id": "7bf7eaaf-458c-4bcf-9ad3-5b3d3a511d73",
   "metadata": {},
   "outputs": [
    {
     "data": {
      "text/plain": [
       "'CENTENO RIVERA'"
      ]
     },
     "execution_count": 280,
     "metadata": {},
     "output_type": "execute_result"
    }
   ],
   "source": [
    "fullName = \"\"\n",
    "for c in susDF['c']:\n",
    "    fullName = str(c['properties']['FIRSTNAME']) + \" \" + str(c['properties']['LASTNAME'])\n",
    "    break;\n",
    "fullName"
   ]
  },
  {
   "cell_type": "code",
   "execution_count": 281,
   "id": "143d3ece-2197-43ce-b092-750efeb2943e",
   "metadata": {},
   "outputs": [],
   "source": [
    "result = sdnDF.loc[sdnDF['LASTNAME'] == fullName].compute()"
   ]
  },
  {
   "cell_type": "code",
   "execution_count": 282,
   "id": "4859e171-7894-436b-b576-5cc9fcb5b2ce",
   "metadata": {},
   "outputs": [
    {
     "name": "stdout",
     "output_type": "stream",
     "text": [
      "Suspicious Customer had a matching entry in SDN list:\n",
      "        UID        LASTNAME     SDNTYPE\n",
      "9006  33613  CENTENO RIVERA  Individual\n"
     ]
    }
   ],
   "source": [
    "if(len(result) > 0):\n",
    "    print(\"Suspicious Customer had a matching entry in SDN list:\")\n",
    "    print(result)"
   ]
  },
  {
   "cell_type": "code",
   "execution_count": null,
   "id": "1ab03634-80e8-44a6-8fb6-1f3b567aea69",
   "metadata": {},
   "outputs": [],
   "source": []
  }
 ],
 "metadata": {
  "kernelspec": {
   "display_name": "Python 3 (ipykernel)",
   "language": "python",
   "name": "python3"
  },
  "language_info": {
   "codemirror_mode": {
    "name": "ipython",
    "version": 3
   },
   "file_extension": ".py",
   "mimetype": "text/x-python",
   "name": "python",
   "nbconvert_exporter": "python",
   "pygments_lexer": "ipython3",
   "version": "3.8.8"
  }
 },
 "nbformat": 4,
 "nbformat_minor": 5
}
