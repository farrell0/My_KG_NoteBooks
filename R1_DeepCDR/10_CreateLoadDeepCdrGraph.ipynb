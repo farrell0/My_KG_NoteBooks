{
 "cells": [
  {
   "cell_type": "code",
   "execution_count": null,
   "id": "57a6c20f-3419-4768-92a0-f106c5931689",
   "metadata": {},
   "outputs": [],
   "source": [
    "\n",
    "#  Notebook to load the DeepCDR graph ..\n",
    "#\n",
    "\n"
   ]
  },
  {
   "cell_type": "markdown",
   "id": "212d8ad3-a876-4638-b95e-a0702f897587",
   "metadata": {},
   "source": [
    "#  Setup: Display options .."
   ]
  },
  {
   "cell_type": "code",
   "execution_count": 60,
   "id": "8a38ebd7-d1d9-47a8-955c-a8270b024543",
   "metadata": {},
   "outputs": [
    {
     "name": "stdout",
     "output_type": "stream",
     "text": [
      "Exception reporting mode: Minimal\n"
     ]
    },
    {
     "data": {
      "text/html": [],
      "text/plain": [
       "<IPython.core.display.HTML object>"
      ]
     },
     "metadata": {},
     "output_type": "display_data"
    },
    {
     "name": "stdout",
     "output_type": "stream",
     "text": [
      "--\n"
     ]
    }
   ],
   "source": [
    "\n",
    "%xmode Minimal\n",
    "\n",
    "#  Setting display options \n",
    "\n",
    "import pandas as pd\n",
    "import numpy  as np\n",
    "   #\n",
    "pd.set_option(\"display.width\", 480)\n",
    "\n",
    "#  Sets horizontal scroll for wide outputs\n",
    "#\n",
    "from IPython.display import display, HTML\n",
    "display(HTML(\"\"))\n",
    "\n",
    "from tabulate import tabulate\n",
    "\n",
    "\n",
    "print(\"--\")\n"
   ]
  },
  {
   "cell_type": "markdown",
   "id": "8ac9bc73-49ab-44bf-a21a-a2a589622a51",
   "metadata": {},
   "source": [
    "#  Setup: Connectivity .."
   ]
  },
  {
   "cell_type": "code",
   "execution_count": null,
   "id": "e87b75ba-c072-4111-8cca-4b4f394a0fce",
   "metadata": {},
   "outputs": [],
   "source": [
    "\n",
    "from katana import remote\n",
    "\n",
    "my_client = remote.Client()\n",
    "\n",
    "print(my_client)\n",
    "print(my_client.server_version)\n"
   ]
  },
  {
   "cell_type": "code",
   "execution_count": null,
   "id": "d3a77f99-f11b-4105-ab43-17ce605b15e8",
   "metadata": {},
   "outputs": [],
   "source": [
    "\n",
    "NUM_PARTITIONS  = 3\n",
    "   #\n",
    "DB_NAME         = \"my_db\"\n",
    "GRAPH_NAME      = \"my_graph\"\n",
    "\n",
    "print(\"--\")\n"
   ]
  },
  {
   "cell_type": "code",
   "execution_count": null,
   "id": "73f507b5-9a82-4441-a79f-cc2fc239968a",
   "metadata": {},
   "outputs": [],
   "source": [
    "# ##################################################################"
   ]
  },
  {
   "cell_type": "code",
   "execution_count": null,
   "id": "7f2292b8-7df0-49a0-b3da-523f56cfe4f8",
   "metadata": {},
   "outputs": [],
   "source": [
    "\n",
    "#  DELETE ALL GRAPHS\n",
    "\n",
    "for l_database in my_client.databases():\n",
    "   for l_graph in my_client.get_database(name = l_database.name).graphs_in_database():\n",
    "      l_handle = my_client.get_database(name = l_database.name).get_graph_by_id(id = l_graph.graph_id)\n",
    "      l_handle.delete()\n",
    "\n",
    "for l_graph in my_client.graphs():\n",
    "   print(\"GRAPH ID: \", l_graph.graph_id, \"      GRAPH Version: \", l_graph.version)\n",
    "\n",
    "print(\"--\")\n"
   ]
  },
  {
   "cell_type": "code",
   "execution_count": null,
   "id": "c989fda5-3ce8-4589-bf36-4da42d3d993c",
   "metadata": {},
   "outputs": [],
   "source": [
    "\n",
    "#  DELETE ONE SPECIFIC GRAPH ONLY\n",
    "\n",
    "for l_database in my_client.databases():\n",
    "   for l_graph in my_client.get_database(name = l_database.name).graphs_in_database():\n",
    "      if ((l_database.name == DB_NAME) and (l_graph.name == GRAPH_NAME)):   \n",
    "         l_handle = my_client.get_database(name = l_database.name).get_graph_by_id(id = l_graph.graph_id)\n",
    "         l_handle.delete()\n",
    "\n",
    "for l_graph in my_client.graphs():\n",
    "   print(\"GRAPH ID: \", l_graph.graph_id, \"      GRAPH Version: \", l_graph.version)\n",
    "\n",
    "print(\"--\")\n"
   ]
  },
  {
   "cell_type": "code",
   "execution_count": null,
   "id": "71f69a0e-451b-4679-b49c-5db1208d4c8f",
   "metadata": {},
   "outputs": [],
   "source": [
    "\n",
    "#  DELETE ALL DATABASES\n",
    "\n",
    "for l_database in my_client.databases():\n",
    "   if (l_database.name != \"default\"):\n",
    "      my_client.get_database(name = l_database.name).delete_database()\n",
    "      print(\"--\")\n",
    "\n",
    "for l_database in my_client.databases():\n",
    "   print(\"DB ID: \", l_database.database_id, \"     DB Name: \", l_database.name)\n"
   ]
  },
  {
   "cell_type": "code",
   "execution_count": null,
   "id": "a3b3bc00-fafb-481d-ba5a-8b52ae7d6e79",
   "metadata": {},
   "outputs": [],
   "source": [
    "\n",
    "#  CREATE DATABASE\n",
    "\n",
    "my_database = my_client.create_database(name = DB_NAME)\n",
    "\n",
    "print(my_database.database_id)\n"
   ]
  },
  {
   "cell_type": "code",
   "execution_count": null,
   "id": "b8ba088b-2ec5-4b2a-8171-3c87ddffb47c",
   "metadata": {},
   "outputs": [],
   "source": [
    "\n",
    "#  CREATE GRAPH\n",
    "#\n",
    "my_graph = my_client.get_database(name = DB_NAME).create_graph(name = GRAPH_NAME, num_partitions = NUM_PARTITIONS)\n",
    "\n",
    "print(my_graph)\n"
   ]
  },
  {
   "cell_type": "code",
   "execution_count": null,
   "id": "c3217f3b-dd84-47a3-ae2a-5033d122604a",
   "metadata": {},
   "outputs": [],
   "source": [
    "\n",
    "#  CONNECT TO GRAPH\n",
    "\n",
    "my_graph, *_ = my_client.get_database(name=DB_NAME).find_graphs_by_name(GRAPH_NAME)\n",
    "\n",
    "print(my_graph)\n"
   ]
  },
  {
   "cell_type": "code",
   "execution_count": null,
   "id": "918521c4-3808-4d15-a09d-8417964f5fb6",
   "metadata": {},
   "outputs": [],
   "source": [
    "# ##################################################################"
   ]
  },
  {
   "cell_type": "code",
   "execution_count": null,
   "id": "e576c04e-9cd8-41e0-a1a3-ae09397e4f87",
   "metadata": {},
   "outputs": [],
   "source": [
    "\n",
    "#  Now that we share servers, get a better list of databases and graphs ..\n",
    "#\n",
    "\n",
    "for l_each_d in my_client.databases():\n",
    "   print(\"Database Name: %-28s   Id: %s\" % (l_each_d.name, l_each_d.database_id))\n",
    "      #\n",
    "   for l_each_g in my_client.get_database(name=l_each_d.name).graphs_in_database(): \n",
    "      print(\"   Graph Name: %-28s      Version: %-8d   Id: %s\" % (l_each_g.name, l_each_g.version, l_each_g.graph_id))\n",
    "\n",
    "\n",
    "print(\"\"  )\n",
    "print(\"--\")\n"
   ]
  },
  {
   "cell_type": "code",
   "execution_count": 56,
   "id": "9cdf1e09-6999-42e6-afe5-d6a930d1a4dc",
   "metadata": {},
   "outputs": [
    {
     "data": {
      "application/vnd.jupyter.widget-view+json": {
       "model_id": "9cfddb718d564f4a885300e57083ccd3",
       "version_major": 2,
       "version_minor": 0
      },
      "text/plain": [
       "          0/? [?op/s]"
      ]
     },
     "metadata": {},
     "output_type": "display_data"
    },
    {
     "data": {
      "text/plain": [
       "2666"
      ]
     },
     "metadata": {},
     "output_type": "display_data"
    },
    {
     "data": {
      "application/vnd.jupyter.widget-view+json": {
       "model_id": "6b64618395e740a8a44058282a32867a",
       "version_major": 2,
       "version_minor": 0
      },
      "text/plain": [
       "          0/? [?op/s]"
      ]
     },
     "metadata": {},
     "output_type": "display_data"
    },
    {
     "data": {
      "text/plain": [
       "4575807"
      ]
     },
     "metadata": {},
     "output_type": "display_data"
    }
   ],
   "source": [
    "\n",
    "display(my_graph.num_nodes())\n",
    "display(my_graph.num_edges())\n"
   ]
  },
  {
   "cell_type": "code",
   "execution_count": null,
   "id": "c4795c79-145b-46ea-ac7e-ea29131325c8",
   "metadata": {},
   "outputs": [],
   "source": [
    "\n",
    "my_graph.query(\"CALL graph.schema() RETURN *\")\n"
   ]
  },
  {
   "cell_type": "markdown",
   "id": "9d1dee0a-411c-4269-95b3-9cb5ded64676",
   "metadata": {},
   "source": [
    "#  Step 01: Process CSV files .."
   ]
  },
  {
   "cell_type": "code",
   "execution_count": 64,
   "id": "1af9c83f-ba62-4757-bd8d-d74c49d4e7c9",
   "metadata": {},
   "outputs": [
    {
     "name": "stdout",
     "output_type": "stream",
     "text": [
      "Dataframe: Node, Cell Line                    Number of records: 1461\n",
      "+----+------------+-------------+\n",
      "|    | id         | tcga_code   |\n",
      "|----+------------+-------------|\n",
      "|  0 | ACH-000698 | SCLC        |\n",
      "|  1 | ACH-000489 | COAD/READ   |\n",
      "+----+------------+-------------+\n",
      "\n",
      "Dataframe: Node, Gene                         Number of records: 719\n",
      "+----+-------+\n",
      "|    | id    |\n",
      "|----+-------|\n",
      "|  0 | AKT2  |\n",
      "|  1 | EPAS1 |\n",
      "+----+-------+\n",
      "\n",
      "Dataframe: Node, GDSC                         Number of records: 266\n",
      "+----+-----------+\n",
      "|    | id        |\n",
      "|----+-----------|\n",
      "|  0 | GDSC:1    |\n",
      "|  1 | GDSC:1001 |\n",
      "+----+-----------+\n",
      "\n",
      "Dataframe: Node, Drug                         Number of records: 238\n",
      "+----+---------+------------------------------------------------+\n",
      "|    |      id | smiles                                         |\n",
      "|----+---------+------------------------------------------------|\n",
      "|  0 | 9863776 | COc1cc(O)c2c(c1)C=CCC(O)C(O)C(=O)C=CCC(C)OC2=O |\n",
      "|  1 |    3385 | O=c1[nH]cc(F)c(=O)[nH]1                        |\n",
      "+----+---------+------------------------------------------------+\n",
      "\n",
      "\n",
      "--\n"
     ]
    },
    {
     "name": "stderr",
     "output_type": "stream",
     "text": [
      "/tmp/ipykernel_294/2059672929.py:18: DeprecationWarning: `np.unicode` is a deprecated alias for `np.compat.unicode`. To silence this warning, use `np.compat.unicode` by itself. In the likely event your code does not need to work on Python 2 you can use the builtin `str` for which `np.compat.unicode` is itself an alias. Doing this will not modify any behaviour and is safe. If you specifically wanted the numpy scalar type, use `np.str_` here.\n",
      "Deprecated in NumPy 1.20; for more details and guidance: https://numpy.org/devdocs/release/1.20.0-notes.html#deprecations\n",
      "  df_N_cell_line                   = pd.read_csv(l_folder + \"21_N_cell_lines.csv\"                  , header = \"infer\", delimiter = \",\", dtype = [ (\"id\", np.unicode), (\"tcga_code\", np.unicode) ] )\n",
      "/tmp/ipykernel_294/2059672929.py:20: DeprecationWarning: `np.unicode` is a deprecated alias for `np.compat.unicode`. To silence this warning, use `np.compat.unicode` by itself. In the likely event your code does not need to work on Python 2 you can use the builtin `str` for which `np.compat.unicode` is itself an alias. Doing this will not modify any behaviour and is safe. If you specifically wanted the numpy scalar type, use `np.str_` here.\n",
      "Deprecated in NumPy 1.20; for more details and guidance: https://numpy.org/devdocs/release/1.20.0-notes.html#deprecations\n",
      "  df_N_gene                        = pd.read_csv(l_folder + \"22_N_genes.csv\"                       , header = \"infer\", delimiter = \",\", dtype = [ (\"id\", np.unicode) ] )\n",
      "/tmp/ipykernel_294/2059672929.py:22: DeprecationWarning: `np.unicode` is a deprecated alias for `np.compat.unicode`. To silence this warning, use `np.compat.unicode` by itself. In the likely event your code does not need to work on Python 2 you can use the builtin `str` for which `np.compat.unicode` is itself an alias. Doing this will not modify any behaviour and is safe. If you specifically wanted the numpy scalar type, use `np.str_` here.\n",
      "Deprecated in NumPy 1.20; for more details and guidance: https://numpy.org/devdocs/release/1.20.0-notes.html#deprecations\n",
      "  df_N_gdsc                        = pd.read_csv(l_folder + \"23_N_gdsc.csv\"                        , header = \"infer\", delimiter = \",\", dtype = [ (\"id\", np.unicode) ] )\n",
      "/tmp/ipykernel_294/2059672929.py:24: DeprecationWarning: `np.unicode` is a deprecated alias for `np.compat.unicode`. To silence this warning, use `np.compat.unicode` by itself. In the likely event your code does not need to work on Python 2 you can use the builtin `str` for which `np.compat.unicode` is itself an alias. Doing this will not modify any behaviour and is safe. If you specifically wanted the numpy scalar type, use `np.str_` here.\n",
      "Deprecated in NumPy 1.20; for more details and guidance: https://numpy.org/devdocs/release/1.20.0-notes.html#deprecations\n",
      "  df_N_drug                        = pd.read_csv(l_folder + \"24_N_drugs.csv\"                       , header = \"infer\", delimiter = \",\", dtype = [ (\"id\", np.unicode), (\"smiles\", np.unicode)    ] )\n"
     ]
    }
   ],
   "source": [
    "\n",
    "#  Read the CSVs as Step 01 towards populating our graph\n",
    "#\n",
    "\n",
    "l_folder   = \"./10_Data/\"\n",
    "\n",
    "\n",
    "#  Helper function, see what's going on \n",
    "#\n",
    "def f_outputsomething(arg1, arg2):\n",
    "   print(\"Dataframe: %-32s   Number of records: %d\" % (arg2, len(arg1)))   \n",
    "      #\n",
    "   print(tabulate(arg1.head(2), headers='keys', tablefmt='psql'))\n",
    "   print()\n",
    "    \n",
    "\n",
    "#  Nodes\n",
    "#\n",
    "df_N_cell_line                   = pd.read_csv(l_folder + \"21_N_cell_lines.csv\"                  , header = \"infer\", delimiter = \",\", dtype = [ (\"id\", np.unicode), (\"tcga_code\", np.unicode) ] )\n",
    "f_outputsomething(df_N_cell_line, \"Node, Cell Line\")\n",
    "df_N_gene                        = pd.read_csv(l_folder + \"22_N_genes.csv\"                       , header = \"infer\", delimiter = \",\", dtype = [ (\"id\", np.unicode) ] )\n",
    "f_outputsomething(df_N_gene,      \"Node, Gene\")\n",
    "df_N_gdsc                        = pd.read_csv(l_folder + \"23_N_gdsc.csv\"                        , header = \"infer\", delimiter = \",\", dtype = [ (\"id\", np.unicode) ] )\n",
    "f_outputsomething(df_N_gdsc,      \"Node, GDSC\")\n",
    "df_N_drug                        = pd.read_csv(l_folder + \"24_N_drugs.csv\"                       , header = \"infer\", delimiter = \",\", dtype = [ (\"id\", np.unicode), (\"smiles\", np.unicode)    ] )\n",
    "f_outputsomething(df_N_drug,      \"Node, Drug\")\n",
    "\n",
    "\n",
    "#  Edges\n",
    "#\n",
    "df_E_gdsc_cell_line              = pd.read_csv(l_folder + \"31_E_gdsc_cell_line.csv\"              ,header = \"infer\", delimiter = \",\"\n",
    "f_outputsomething(df_E_gdsc_cell_line,             \"Edge, GDSC Cell Line\")\n",
    "df_E_cell_line_gene_expression   = pd.read_csv(l_folder + \"32_E_cell_line_gene_expression.csv\"   ,header = \"infer\", delimiter = \",\")\n",
    "f_outputsomething(df_E_cell_line_gene_expression,  \"Edge, Cell Line Expression\")\n",
    "df_E_cell_line_gene_methylation  = pd.read_csv(l_folder + \"33_E_cell_line_gene_methylation.csv\"  ,header = \"infer\", delimiter = \",\")\n",
    "f_outputsomething(df_E_cell_line_gene_methylation, \"Edge, Cell Line Gene Methylation\")\n",
    "df_E_gdsc_drug                   = pd.read_csv(l_folder + \"34_E_gdsc_drug.csv\"                   ,header = \"infer\", delimiter = \",\")\n",
    "f_outputsomething(df_E_gdsc_drug,                  \"Edge, GDSC Drug\")\n",
    "df_E_cell_line_gene_mutation     = pd.read_csv(l_folder + \"35_E_cell_line_gene_mutation.csv\"     ,header = \"infer\", delimiter = \",\")\n",
    "f_outputsomething(df_E_cell_line_gene_mutation,    \"Edge, Cell Line Gene Mutation\")\n",
    "\n",
    "        \n",
    "print(\"\")\n",
    "print(\"--\")\n"
   ]
  },
  {
   "cell_type": "code",
   "execution_count": 50,
   "id": "3271fdaa-0f21-4f75-b1b3-b8996ff3ea84",
   "metadata": {},
   "outputs": [
    {
     "data": {
      "application/vnd.jupyter.widget-view+json": {
       "model_id": "998840a171654908a39bb88e22fb5104",
       "version_major": 2,
       "version_minor": 0
      },
      "text/plain": [
       "          0/? [?op/s]"
      ]
     },
     "metadata": {},
     "output_type": "display_data"
    },
    {
     "data": {
      "application/vnd.jupyter.widget-view+json": {
       "model_id": "c3600371d2644ca89ddd52f2b7b94079",
       "version_major": 2,
       "version_minor": 0
      },
      "text/plain": [
       "          0/? [?op/s]"
      ]
     },
     "metadata": {},
     "output_type": "display_data"
    },
    {
     "name": "stdout",
     "output_type": "stream",
     "text": [
      "\n",
      "--\n"
     ]
    }
   ],
   "source": [
    "\n",
    "#  At this point we have several Pandas DataFrames; import them into the graph-\n",
    "#\n",
    "#     Why use Pandas DataFrames versus Dask ?\n",
    "#     \n",
    "#     .  The data is small enough\n",
    "#     .  Dask DataFrames currently (beta) have to be sourced from a shared/public drive\n",
    "#\n",
    "\n",
    "\n",
    "from katana.remote import import_data\n",
    "\n",
    "\n",
    "#  Just nodes\n",
    "#\n",
    "with import_data.DataFrameImporter(my_graph) as df_importer:   \n",
    "   df_importer.nodes_dataframe(\n",
    "      df_N_cell_line,\n",
    "      id_column             = \"id\",\n",
    "      id_space              = \"CELL_LINE\",  \n",
    "      label                 = \"CELL_LINE\",  \n",
    "      ) \n",
    "   df_importer.nodes_dataframe(\n",
    "      df_N_gene,\n",
    "      id_column             = \"id\",\n",
    "      id_space              = \"GENE\",  \n",
    "      label                 = \"GENE\",  \n",
    "      ) \n",
    "   df_importer.nodes_dataframe(\n",
    "      df_N_gdsc,\n",
    "      id_column             = \"id\",\n",
    "      id_space              = \"GDSC\",  \n",
    "      label                 = \"GDSC\",  \n",
    "      ) \n",
    "   df_importer.nodes_dataframe(\n",
    "      df_N_drug,\n",
    "      id_column             = \"id\",\n",
    "      id_space              = \"DRUG\",  \n",
    "      label                 = \"DRUG\",  \n",
    "      ) \n",
    "   df_importer.insert()\n",
    "    \n",
    "\n",
    "#  Just edges\n",
    "#\n",
    "with import_data.DataFrameImporter(my_graph) as df_importer:   \n",
    "   df_importer.edges_dataframe(\n",
    "      df_E_gdsc_cell_line, \n",
    "      source_id_space       = \"GDSC\", \n",
    "      destination_id_space  = \"CELL_LINE\",   \n",
    "      source_column         = \"START_ID\",\n",
    "      destination_column    = \"END_ID\",\n",
    "      type                  = \"HAS_CELL_LINE\"\n",
    "      )\n",
    "   df_importer.edges_dataframe(\n",
    "      df_E_gdsc_cell_line, \n",
    "      source_id_space       = \"CELL_LINE\", \n",
    "      destination_id_space  = \"GDSC\",   \n",
    "      source_column         = \"END_ID\",\n",
    "      destination_column    = \"START_ID\",\n",
    "      type                  = \"HAS_CELL_LINE\"\n",
    "      )\n",
    "\n",
    "   df_importer.edges_dataframe(\n",
    "      df_E_cell_line_gene_expression, \n",
    "      source_id_space       = \"CELL_LINE\", \n",
    "      destination_id_space  = \"GENE\",   \n",
    "      source_column         = \"START_ID\",\n",
    "      destination_column    = \"END_ID\",\n",
    "      type                  = \"HAS_EXPRESSION_OBSERVATION\"\n",
    "      )\n",
    "   df_importer.edges_dataframe(\n",
    "      df_E_cell_line_gene_expression, \n",
    "      source_id_space       = \"CELL_LINE\", \n",
    "      destination_id_space  = \"GENE\",   \n",
    "      source_column         = \"START_ID\",\n",
    "      destination_column    = \"END_ID\",\n",
    "      type                  = \"HAS_EXPRESSION_OBSERVATION\"\n",
    "      )\n",
    "    \n",
    "   df_importer.edges_dataframe(\n",
    "      df_E_cell_line_gene_methylation, \n",
    "      source_id_space       = \"CELL_LINE\", \n",
    "      destination_id_space  = \"GENE\",   \n",
    "      source_column         = \"START_ID\",\n",
    "      destination_column    = \"END_ID\",\n",
    "      type                  = \"HAS_METHYLATION_OBSERVATION\"\n",
    "      )\n",
    "    \n",
    "   df_importer.edges_dataframe(\n",
    "      df_E_gdsc_drug, \n",
    "      source_id_space       = \"GDSC\", \n",
    "      destination_id_space  = \"DRUG\",   \n",
    "      source_column         = \"START_ID\",\n",
    "      destination_column    = \"END_ID\",\n",
    "      type                  = \"FOR_DRUG\"\n",
    "      )\n",
    "    \n",
    "   df_importer.edges_dataframe(\n",
    "      df_E_cell_line_gene_mutation, \n",
    "      source_id_space       = \"CELL_LINE\", \n",
    "      destination_id_space  = \"GENE\",   \n",
    "      source_column         = \"START_ID\",\n",
    "      destination_column    = \"END_ID\",\n",
    "      type                  = \"HAS_MUTATION_OBSERVATION\"\n",
    "      )\n",
    "    \n",
    "   df_importer.node_id_property_name(\"id\")\n",
    "   df_importer.insert()\n",
    "\n",
    "\n",
    "      ###\n",
    "\n",
    "        \n",
    "        \n",
    "        \n",
    "        \n",
    "        \n",
    "\n",
    "print(\"\")\n",
    "print(\"--\")\n",
    "\n",
    "\n"
   ]
  },
  {
   "cell_type": "code",
   "execution_count": 55,
   "id": "5d17c412-4a0c-450c-a0c4-1a3016e3c587",
   "metadata": {},
   "outputs": [
    {
     "data": {
      "application/vnd.jupyter.widget-view+json": {
       "model_id": "7b92e07b373e4117a2cce247e6a67678",
       "version_major": 2,
       "version_minor": 0
      },
      "text/plain": [
       "          0/? [?op/s]"
      ]
     },
     "metadata": {},
     "output_type": "display_data"
    },
    {
     "data": {
      "application/vnd.jupyter.widget-view+json": {
       "model_id": "b14c989795e0435f97560aa1d1f64152",
       "version_major": 2,
       "version_minor": 0
      },
      "text/plain": [
       "          0/? [?op/s]"
      ]
     },
     "metadata": {},
     "output_type": "display_data"
    },
    {
     "name": "stdout",
     "output_type": "stream",
     "text": [
      "Number of Nodes in DataFrame: 2684\n",
      "Number of Nodes in Graph:     2666\n",
      "Number of Nodes in DataFrame: 2885142\n",
      "Number of Edges in Graph:     4575807\n"
     ]
    }
   ],
   "source": [
    "\n",
    "l_numnodes = my_graph.num_nodes()\n",
    "l_numedges = my_graph.num_edges()\n",
    "\n",
    "\n",
    "print(\"Number of Nodes in DataFrame: %d\" % ( len(df_N_cell_line) +  len(df_N_gene) +  len(df_N_gdsc) +  len(df_N_drug) )  )\n",
    "print(\"Number of Nodes in Graph:     %d\" % ( l_numnodes ) )\n",
    "\n",
    "print(\"Number of Nodes in DataFrame: %d\" % (  ( len(df_E_gdsc_cell_line) + len(df_E_cell_line_gene_expression) + len(df_E_cell_line_gene_methylation) + len(df_E_gdsc_drug) + len(df_E_cell_line_gene_mutation) ) * 2 )  )\n",
    "\n",
    "\n",
    "print(\"Number of Edges in Graph:     %d\" % ( l_numedges ) )\n"
   ]
  },
  {
   "cell_type": "code",
   "execution_count": null,
   "id": "748e1a50-1610-4d1e-92a2-f66e978ab8dc",
   "metadata": {},
   "outputs": [],
   "source": []
  },
  {
   "cell_type": "code",
   "execution_count": null,
   "id": "33cb2391-05d4-4d79-b38c-8733e2775685",
   "metadata": {},
   "outputs": [],
   "source": []
  },
  {
   "cell_type": "code",
   "execution_count": null,
   "id": "b25c81e2-6ef3-47a0-b53b-82ccf875f57b",
   "metadata": {},
   "outputs": [],
   "source": []
  }
 ],
 "metadata": {
  "kernelspec": {
   "display_name": "Python 3 (ipykernel)",
   "language": "python",
   "name": "python3"
  },
  "language_info": {
   "codemirror_mode": {
    "name": "ipython",
    "version": 3
   },
   "file_extension": ".py",
   "mimetype": "text/x-python",
   "name": "python",
   "nbconvert_exporter": "python",
   "pygments_lexer": "ipython3",
   "version": "3.8.13"
  }
 },
 "nbformat": 4,
 "nbformat_minor": 5
}
