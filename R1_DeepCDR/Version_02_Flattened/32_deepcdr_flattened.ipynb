{
 "cells": [
  {
   "cell_type": "code",
   "execution_count": 2,
   "id": "a44fb050-19df-4d58-b934-7c2d8e87041f",
   "metadata": {},
   "outputs": [
    {
     "name": "stdout",
     "output_type": "stream",
     "text": [
      "Exception reporting mode: Minimal\n"
     ]
    },
    {
     "data": {
      "text/html": [],
      "text/plain": [
       "<IPython.core.display.HTML object>"
      ]
     },
     "metadata": {},
     "output_type": "display_data"
    },
    {
     "name": "stdout",
     "output_type": "stream",
     "text": [
      "--\n"
     ]
    }
   ],
   "source": [
    "\n",
    "#  This is my method ..\n",
    "#\n",
    "\n",
    "%xmode Minimal\n",
    "\n",
    "#  Setting display options \n",
    "\n",
    "import pandas as pd\n",
    "import numpy  as np\n",
    "   #\n",
    "pd.set_option(\"display.width\", 480)\n",
    "\n",
    "#  Sets horizontal scroll for wide outputs\n",
    "#\n",
    "from IPython.display import display, HTML\n",
    "display(HTML(\"\"))\n",
    "\n",
    "from tabulate import tabulate\n",
    "\n",
    "\n",
    "print(\"--\")\n"
   ]
  },
  {
   "cell_type": "code",
   "execution_count": 3,
   "id": "7b82611b-2a42-4944-b0d1-6ea01531eb91",
   "metadata": {},
   "outputs": [
    {
     "name": "stdout",
     "output_type": "stream",
     "text": [
      "--\n"
     ]
    }
   ],
   "source": [
    "\n",
    "#  This is my method ..\n",
    "#\n",
    "\n",
    "NUM_PARTITIONS  = 3\n",
    "   #\n",
    "DB_NAME         = \"my_db\"\n",
    "GRAPH_NAME      = \"my_graph\"\n",
    "\n",
    "print(\"--\")\n"
   ]
  },
  {
   "cell_type": "code",
   "execution_count": null,
   "id": "03b813c3-0f50-491a-8854-92bf014af5af",
   "metadata": {},
   "outputs": [],
   "source": [
    "\n",
    "#########################################################################\n"
   ]
  },
  {
   "cell_type": "code",
   "execution_count": 4,
   "id": "2de96290-d64c-4c82-bd6d-fe69fcc1dad3",
   "metadata": {},
   "outputs": [
    {
     "name": "stdout",
     "output_type": "stream",
     "text": [
      "0.9.0+20230315T145956Z.dbe1b6788.dev\n",
      "\n",
      "--\n"
     ]
    }
   ],
   "source": [
    "\n",
    "\n",
    "%load_ext autoreload\n",
    "%autoreload 2\n",
    "\n",
    "\n",
    "from katana import remote\n",
    "#  from katana.remote import export_data, import_data\n",
    "\n",
    "\n",
    "my_client = remote.Client()\n",
    "print(my_client.server_version)\n",
    "\n",
    "print()\n",
    "print(\"--\")\n",
    "\n"
   ]
  },
  {
   "cell_type": "code",
   "execution_count": 5,
   "id": "e89769fd-629e-419f-bb3f-55a0d60b0b73",
   "metadata": {},
   "outputs": [
    {
     "name": "stderr",
     "output_type": "stream",
     "text": [
      "DGL backend not selected or invalid.  Assuming PyTorch for now.\n"
     ]
    },
    {
     "name": "stdout",
     "output_type": "stream",
     "text": [
      "Setting the default backend to \"pytorch\". You can change it in the ~/.dgl/config.json file or export the DGLBACKEND environment variable.  Valid options are: pytorch, mxnet, tensorflow (all lowercase)\n",
      "InputConfig:\n",
      "    num_partitions = 3,\n",
      "    test_size = 0.05,\n",
      "    random_state = 42\n",
      "\n",
      "--\n"
     ]
    }
   ],
   "source": [
    "\n",
    "from config import hyperparams\n",
    "\n",
    "\n",
    "input_config = hyperparams.load_input_config()\n",
    "print(input_config)\n",
    "\n",
    "\n",
    "print()\n",
    "print(\"--\")\n",
    "\n"
   ]
  },
  {
   "cell_type": "code",
   "execution_count": 6,
   "id": "885f5f2f-d988-4f60-bb56-9d430efd77e9",
   "metadata": {},
   "outputs": [
    {
     "name": "stdout",
     "output_type": "stream",
     "text": [
      "<_Graph my_graph, 974BNYMBeYB9K781hP55Qqpn2UXUpm6MN1EeV3Q2w99Y, 2>\n"
     ]
    }
   ],
   "source": [
    "\n",
    "#  This is my method ..\n",
    "#\n",
    "\n",
    "#     from timeit import default_timer\n",
    "#     \n",
    "#     # Import the module that uses Dask to import drug data\n",
    "#     from src import dask_ingestion\n",
    "#     \n",
    "#     graph = client.create_graph(num_partitions=input_config.num_partitions)\n",
    "\n",
    "\n",
    "#  CONNECT TO GRAPH\n",
    "\n",
    "my_graph, *_ = my_client.get_database(name=DB_NAME).find_graphs_by_name(GRAPH_NAME)\n",
    "\n",
    "print(my_graph)\n",
    "\n",
    "\n",
    "#     if input_config.use_train_rdg:\n",
    "#         print(f\"Import pretrained graph from: {input_config.trained_rdg_path}\")\n",
    "#         import_data.rdg(graph, input_config.trained_rdg_path)\n",
    "#     else:\n",
    "#         print(\"Generate the graph with data from source\")\n",
    "#         dask_ingestion.generate_deepcdr_graph(graph, input_config)\n",
    "\n"
   ]
  },
  {
   "cell_type": "code",
   "execution_count": 7,
   "id": "8d99d580-f5b1-471b-b540-d24fab04a24c",
   "metadata": {},
   "outputs": [
    {
     "name": "stdout",
     "output_type": "stream",
     "text": [
      "This ran MMM 01\n"
     ]
    }
   ],
   "source": [
    "\n",
    "\n",
    "from src import katana_pipeline\n",
    "\n",
    "#  This method returns a handle only, no processing ..\n",
    "#\n",
    "rec_pipeline = katana_pipeline.RecipePipeline(my_graph)\n",
    "\n",
    "\n",
    "#  rec_pipeline.graph.schema().view()\n",
    "\n"
   ]
  },
  {
   "cell_type": "code",
   "execution_count": null,
   "id": "492027a6-5f95-4b94-9832-c691685acba2",
   "metadata": {},
   "outputs": [],
   "source": [
    "\n",
    "#########################################################################\n"
   ]
  },
  {
   "cell_type": "code",
   "execution_count": 8,
   "id": "4ad1cca9-74b9-4e43-aa2e-aac854a9275b",
   "metadata": {},
   "outputs": [
    {
     "name": "stdout",
     "output_type": "stream",
     "text": [
      "Collecting genomics_expression features...\n"
     ]
    },
    {
     "data": {
      "application/vnd.jupyter.widget-view+json": {
       "model_id": "bf4dd5252f5d45dbae8c071c2013138e",
       "version_major": 2,
       "version_minor": 0
      },
      "text/plain": [
       "          0/? [?op/s]"
      ]
     },
     "metadata": {},
     "output_type": "display_data"
    },
    {
     "name": "stdout",
     "output_type": "stream",
     "text": [
      "Collecting genomics_methylation features...\n"
     ]
    },
    {
     "data": {
      "application/vnd.jupyter.widget-view+json": {
       "model_id": "0ae92126b68748728cd1d62e3f104459",
       "version_major": 2,
       "version_minor": 0
      },
      "text/plain": [
       "          0/? [?op/s]"
      ]
     },
     "metadata": {},
     "output_type": "display_data"
    },
    {
     "name": "stdout",
     "output_type": "stream",
     "text": [
      "Collecting genomics_mutation features...\n"
     ]
    },
    {
     "data": {
      "application/vnd.jupyter.widget-view+json": {
       "model_id": "19ce8d885ded48c0bdfca66f5ca3bf57",
       "version_major": 2,
       "version_minor": 0
      },
      "text/plain": [
       "          0/? [?op/s]"
      ]
     },
     "metadata": {},
     "output_type": "display_data"
    },
    {
     "name": "stdout",
     "output_type": "stream",
     "text": [
      "Deleting Cell lines with NULL features...\n"
     ]
    },
    {
     "data": {
      "application/vnd.jupyter.widget-view+json": {
       "model_id": "0a4fbb5a705c47b09901bd305db8acf9",
       "version_major": 2,
       "version_minor": 0
      },
      "text/plain": [
       "          0/? [?op/s]"
      ]
     },
     "metadata": {},
     "output_type": "display_data"
    },
    {
     "name": "stdout",
     "output_type": "stream",
     "text": [
      "Deleting single nodes\n"
     ]
    },
    {
     "data": {
      "application/vnd.jupyter.widget-view+json": {
       "model_id": "96ddd76f6a09407daf8b5cf252f643af",
       "version_major": 2,
       "version_minor": 0
      },
      "text/plain": [
       "          0/? [?op/s]"
      ]
     },
     "metadata": {},
     "output_type": "display_data"
    }
   ],
   "source": [
    "\n",
    "#  Original code ..\n",
    "#\n",
    "#  start_time = default_timer()\n",
    "#  \n",
    "rec_pipeline.feature_generator()\n",
    "#  \n",
    "#  print(f\"***Took {default_timer() - start_time} seconds to generate the features.***\")\n",
    "\n",
    "\n",
    "   ##########################################################\n",
    "\n",
    "\n",
    "#  feature_generator() runs,\n",
    "#\n",
    "#       features = {\n",
    "#           \"HAS_EXPRESSION_OBSERVATION\": \"genomics_expression\",\n",
    "#           \"HAS_METHYLATION_OBSERVATION\": \"genomics_methylation\",\n",
    "#           \"HAS_MUTATION_OBSERVATION\": \"genomics_mutation\",\n",
    "#       }\n",
    "#       for u, v in features.items():\n",
    "#           preprocessing.set_cell_line_property(self.graph, u, v)\n",
    "#\n",
    "#       preprocessing.remove_null_cells(self.graph)\n",
    "#       preprocessing.delete_single_node(self.graph)\n",
    "\n",
    "#  And here are those,\n",
    "#\n",
    "#     def set_cell_line_property(graph, edge_label: str, genomics_property: str):\n",
    "#         graph.query(\n",
    "#             f\"\"\"\n",
    "#             MATCH (c:CELL_LINE)-[r:{edge_label}]->(g:GENE)\n",
    "#             WITH c, r, g\n",
    "#             ORDER by g.ID\n",
    "#             WITH c, collect(r.observation) as {genomics_property}\n",
    "#             SET c.{genomics_property} = {genomics_property}\n",
    "#             \"\"\"\n",
    "#         )\n",
    "#     \n",
    "#     \n",
    "#     def delete_single_node(graph):\n",
    "#         \"\"\"Delete single node in a graph\"\"\"\n",
    "#         graph.query(\n",
    "#             \"\"\"\n",
    "#             MATCH (n)\n",
    "#             WHERE NOT (n)--()\n",
    "#             DELETE n\n",
    "#             \"\"\"\n",
    "#         )\n",
    "#     \n",
    "#     \n",
    "#     def remove_null_cells(graph):\n",
    "#         \"\"\"Delete cells node with NULL genomics features\"\"\"\n",
    "#         graph.query(\n",
    "#             \"\"\"\n",
    "#             MATCH (c:CELL_LINE)\n",
    "#             WHERE c.genomics_methylation IS NULL\n",
    "#                 OR c.genomics_expression IS NULL\n",
    "#                 OR c.genomics_mutation IS NULL\n",
    "#             DETACH DELETE c\n",
    "#             \"\"\"\n",
    "#         )\n",
    "\n",
    "\n",
    "   ##########################################################\n",
    "    \n",
    "    \n",
    "#  So basically step 1 should add a CELL_LINE property\n",
    "#\n",
    "#  Here it is pre,\n",
    "#\n",
    "#     +---------------+------------------------------+-------+\n",
    "#     | label         | my_keys                      |   cnt |\n",
    "#     |---------------+------------------------------+-------|\n",
    "#     | ['CELL_LINE'] | ['id', 'label']              |   240 |\n",
    "#     | ['CELL_LINE'] | ['id', 'label', 'tcga_code'] |  1217 |\n",
    "#\n",
    "#     | ['DRUG']      | ['id', 'label', 'smiles']    |   223 |\n",
    "#     | ['GDSC']      | ['id', 'label']              |   266 |\n",
    "#     | ['GENE']      | ['id']                       |   719 |\n",
    "#     +---------------+------------------------------+-------+\n",
    "#\n",
    "#  And here it is post,\n",
    "#\n",
    "#     Collecting genomics_expression features...\n",
    "#     Collecting genomics_methylation features...\n",
    "#     Collecting genomics_mutation features...\n",
    "#\n",
    "#     +---------------+--------------------------------------------------------------------------------------------------+-------+\n",
    "#     | label         | my_keys                                                                                          |   cnt |\n",
    "#     |---------------+--------------------------------------------------------------------------------------------------+-------|\n",
    "#     | ['CELL_LINE'] | ['id', 'label']                                                                                  |   218 |\n",
    "#     | ['CELL_LINE'] | ['id', 'label', 'tcga_code']                                                                     |   678 |\n",
    "#\n",
    "#     | ['CELL_LINE'] | ['genomics_expression', 'genomics_methylation', 'id', 'label']                                   |     8 |\n",
    "#     | ['CELL_LINE'] | ['genomics_expression', 'genomics_methylation', 'id', 'label', 'tcga_code']                      |   195 |\n",
    "#     | ['CELL_LINE'] | ['genomics_expression', 'genomics_methylation', 'genomics_mutation', 'id', 'label', 'tcga_code'] |   344 |\n",
    "#     | ['CELL_LINE'] | ['genomics_expression', 'genomics_methylation', 'genomics_mutation', 'id', 'label']              |    14 |\n",
    "#   \n",
    "#     | ['GDSC']      | ['id', 'label']                                                                                  |   266 |\n",
    "#     | ['DRUG']      | ['id', 'label', 'smiles']                                                                        |   223 |\n",
    "#     | ['GENE']      | ['id']                                                                                           |   719 |\n",
    "#     +---------------+--------------------------------------------------------------------------------------------------+-------+\n",
    "\n",
    "\n",
    "   ##########################################################\n",
    "    \n",
    "    \n",
    "#  Step 2 should delete disconnected nodes ..\n",
    "#\n",
    "#  Here it is pre,\n",
    "#\n",
    "#     +---------------+--------------------------------------------------------------------------------------------------+-------+\n",
    "#     | label         | my_keys                                                                                          |   cnt |\n",
    "#     |---------------+--------------------------------------------------------------------------------------------------+-------|\n",
    "#     | ['CELL_LINE'] | ['genomics_expression', 'genomics_methylation', 'genomics_mutation', 'id', 'label', 'tcga_code'] |   344 |\n",
    "#     | ['CELL_LINE'] | ['genomics_expression', 'genomics_methylation', 'genomics_mutation', 'id', 'label']              |    14 |\n",
    "#\n",
    "#     | ['CELL_LINE'] | ['id', 'label']                                                                                  |   218 |\n",
    "#     | ['CELL_LINE'] | ['id', 'label', 'tcga_code']                                                                     |   678 |\n",
    "#     | ['CELL_LINE'] | ['genomics_expression', 'genomics_methylation', 'id', 'label']                                   |     8 |\n",
    "#     | ['CELL_LINE'] | ['genomics_expression', 'genomics_methylation', 'id', 'label', 'tcga_code']                      |   195 |\n",
    "#\n",
    "#     | ['GDSC']      | ['id', 'label']                                                                                  |   266 |\n",
    "#     | ['DRUG']      | ['id', 'label', 'smiles']                                                                        |   223 |\n",
    "#     | ['GENE']      | ['id']                                                                                           |   719 |\n",
    "#     +---------------+--------------------------------------------------------------------------------------------------+-------+\n",
    "#\n",
    "#  And here it is post,\n",
    "#\n",
    "#     Deleting Cell lines with NULL features...\n",
    "#\n",
    "#     +---------------+--------------------------------------------------------------------------------------------------+-------+\n",
    "#     | label         | my_keys                                                                                          |   cnt |\n",
    "#     |---------------+--------------------------------------------------------------------------------------------------+-------|\n",
    "#     | ['CELL_LINE'] | ['genomics_expression', 'genomics_methylation', 'genomics_mutation', 'id', 'label', 'tcga_code'] |   344 |\n",
    "#     | ['CELL_LINE'] | ['genomics_expression', 'genomics_methylation', 'genomics_mutation', 'id', 'label']              |    14 |\n",
    "#\n",
    "#     | ['GDSC']      | ['id', 'label']                                                                                  |   266 |\n",
    "#     | ['DRUG']      | ['id', 'label', 'smiles']                                                                        |   223 |\n",
    "#     | ['GENE']      | ['id']                                                                                           |   719 |\n",
    "#     +---------------+--------------------------------------------------------------------------------------------------+-------+\n",
    "\n",
    "\n",
    "   ##########################################################\n",
    "    \n",
    "    \n",
    "#  And step 3, \n",
    "#\n",
    "#  Here it is pre,\n",
    "#\n",
    "#     +---------------+--------------------------------------------------------------------------------------------------+-------+\n",
    "#     | label         | my_keys                                                                                          |   cnt |\n",
    "#     |---------------+--------------------------------------------------------------------------------------------------+-------|\n",
    "#     | ['CELL_LINE'] | ['genomics_expression', 'genomics_methylation', 'genomics_mutation', 'id', 'label', 'tcga_code'] |   344 |\n",
    "#     | ['CELL_LINE'] | ['genomics_expression', 'genomics_methylation', 'genomics_mutation', 'id', 'label']              |    14 |\n",
    "#     | ['DRUG']      | ['id', 'label', 'smiles']                                                                        |   223 |\n",
    "#     | ['GDSC']      | ['id', 'label']                                                                                  |   266 |\n",
    "#     | ['GENE']      | ['id']                                                                                           |   719 |\n",
    "#     +---------------+--------------------------------------------------------------------------------------------------+-------+\n",
    "#     \n",
    "#     +-----------------------------+-------------------------------------+----------+\n",
    "#     | my_type                     | my_keys                             |      cnt |\n",
    "#     |-----------------------------+-------------------------------------+----------|\n",
    "#     | FOR_DRUG                    | ['TYPE']                            |      476 |\n",
    "#     | HAS_CELL_LINE               | ['TYPE']                            |    37400 |\n",
    "#     | HAS_EXPRESSION_OBSERVATION  | ['TYPE', 'observation']             |   499052 |\n",
    "#     | HAS_METHYLATION_OBSERVATION | ['TYPE', 'observation']             |   545560 |\n",
    "#     | HAS_MUTATION_OBSERVATION    | ['TYPE', 'mutation', 'observation'] | 24776358 |\n",
    "#     | HAS_CELL_LINE               | ['TYPE', 'label']                   |   153056 |\n",
    "#     +-----------------------------+-------------------------------------+----------+\n",
    "#\n",
    "#  And here it is post,       (no change)\n",
    "#\n",
    "#      Deleting Cell lines with NULL features...\n",
    "#\n",
    "#     +---------------+--------------------------------------------------------------------------------------------------+-------+\n",
    "#     | label         | my_keys                                                                                          |   cnt |\n",
    "#     |---------------+--------------------------------------------------------------------------------------------------+-------|\n",
    "#     | ['CELL_LINE'] | ['genomics_expression', 'genomics_methylation', 'genomics_mutation', 'id', 'label', 'tcga_code'] |   344 |\n",
    "#     | ['CELL_LINE'] | ['genomics_expression', 'genomics_methylation', 'genomics_mutation', 'id', 'label']              |    14 |\n",
    "#     | ['DRUG']      | ['id', 'label', 'smiles']                                                                        |   223 |\n",
    "#     | ['GDSC']      | ['id', 'label']                                                                                  |   266 |\n",
    "#     | ['GENE']      | ['id']                                                                                           |   719 |\n",
    "#     +---------------+--------------------------------------------------------------------------------------------------+-------+\n",
    "#     \n",
    "#     +-----------------------------+-------------------------------------+----------+\n",
    "#     | my_type                     | my_keys                             |      cnt |\n",
    "#     |-----------------------------+-------------------------------------+----------|\n",
    "#     | FOR_DRUG                    | ['TYPE']                            |      476 |\n",
    "#     | HAS_CELL_LINE               | ['TYPE']                            |    37400 |\n",
    "#     | HAS_EXPRESSION_OBSERVATION  | ['TYPE', 'observation']             |   499052 |\n",
    "#     | HAS_METHYLATION_OBSERVATION | ['TYPE', 'observation']             |   545560 |\n",
    "#     | HAS_MUTATION_OBSERVATION    | ['TYPE', 'mutation', 'observation'] | 24776358 |\n",
    "#     | HAS_CELL_LINE               | ['TYPE', 'label']                   |   153056 |\n",
    "#     +-----------------------------+-------------------------------------+----------+\n",
    "\n"
   ]
  },
  {
   "cell_type": "code",
   "execution_count": null,
   "id": "30cc94fa-4b49-46c8-a6cc-3a4b9033b024",
   "metadata": {},
   "outputs": [],
   "source": [
    "\n",
    "#  This is read only ..\n",
    "#\n",
    "\n",
    "#  stats = rec_pipeline.stats()\n",
    "#  stats\n"
   ]
  },
  {
   "cell_type": "code",
   "execution_count": null,
   "id": "dc30ac93-1a4c-4099-b7e2-44949827d890",
   "metadata": {
    "tags": []
   },
   "outputs": [],
   "source": [
    "\n",
    "\n",
    "#  Original code\n",
    "#\n",
    "\n",
    "#  start_time = default_timer()\n",
    "\n",
    "rec_pipeline.split_generator(input_config)\n",
    "\n",
    "#  print(f\"***Took {default_timer() - start_time} seconds to generate the split.***\")\n",
    "#  rec_pipeline.graph.schema().view()\n",
    "\n",
    "\n",
    "   ##########################################################\n",
    "\n",
    "    \n",
    "#  split_generator() runs ..\n",
    "#\n",
    "#       print(\"Deleting old split\")\n",
    "#       split.delete_split(self.graph)\n",
    "#\n",
    "#       print(\"Generating split\")\n",
    "#       split_df = pandas.concat(\n",
    "#           self.graph.query(\n",
    "#               \"\"\"\n",
    "#           MATCH (a:DRUG)<-[:FOR_DRUG]-(:GDSC)-[u:HAS_CELL_LINE]->(c:CELL_LINE)\n",
    "#           RETURN u.label as label, c.tcga_code as tcga_code,\n",
    "#           a.id as drug_id, c.id as cell_line_id\n",
    "#           \"\"\"\n",
    "#           )\n",
    "#       )\n",
    "#       split_df = split_df.sort_values(by=[\"drug_id\", \"cell_line_id\", \"label\"]).reset_index(drop=True)\n",
    "#       df_split = split.generate_split(split_df, input_hp.random_state, input_hp.test_size)\n",
    "#\n",
    "#       print(\"Upsert split on the graph\")\n",
    "#       split.upsert_split(self.graph, df_split)\n",
    "\n",
    "#  And  here are those,\n",
    "#\n",
    "#     class SplitType(IntEnum):\n",
    "#         \"\"\"SplitType encodes training, validation, and test data separation\"\"\"\n",
    "#     \n",
    "#         TRAIN = 0\n",
    "#         VAL = 1\n",
    "#         TEST = 2\n",
    "#     \n",
    "#     def delete_split(graph):\n",
    "#         graph.query(\n",
    "#             \"\"\"\n",
    "#             MATCH (:DRUG)-[u:SPLIT]->(:CELL_LINE)\n",
    "#             DELETE u\n",
    "#             \"\"\"\n",
    "#         )\n",
    "#     \n",
    "#     def generate_split(df, random_state, test_size):\n",
    "#         df_train, df_test = train_test_split(\n",
    "#             df, test_size=test_size, random_state=random_state, stratify=df[\"tcga_code\"], shuffle=True,\n",
    "#         )\n",
    "#         df_train[\"split\"], df_test[\"split\"] = SplitType.TRAIN, SplitType.VAL\n",
    "#         df_split = pandas.concat([df_train, df_test], ignore_index=True)\n",
    "#         df_split = df_split.astype({\"drug_id\": \"string\", \"cell_line_id\": \"string\"})\n",
    "#         return df_split.drop(columns=[\"tcga_code\"])\n",
    "#     \n",
    "#     \n",
    "#     def upsert_split(graph, split):\n",
    "#         with DataFrameImporter(graph) as df_importer:\n",
    "#             df_importer.node_id_property_name(\"id\")\n",
    "#             df_importer.edges_dataframe(\n",
    "#                 split,\n",
    "#                 source_id_space=\"DRUG\",\n",
    "#                 destination_id_space=\"CELL_LINE\",\n",
    "#                 source_column=\"drug_id\",\n",
    "#                 destination_column=\"cell_line_id\",\n",
    "#                 type=\"SPLIT\",\n",
    "#             )\n",
    "#             df_importer.insert()\n",
    "\n",
    "    \n",
    "   ##########################################################\n",
    "\n",
    "\n",
    "#  Here is just step 1, delete_split(), pre,     (this should be a no-op) ..\n",
    "#\n",
    "#     +---------------+--------------------------------------------------------------------------------------------------+-------+\n",
    "#     | label         | my_keys                                                                                          |   cnt |\n",
    "#     |---------------+--------------------------------------------------------------------------------------------------+-------|\n",
    "#     | ['CELL_LINE'] | ['genomics_expression', 'genomics_methylation', 'genomics_mutation', 'id', 'label', 'tcga_code'] |   344 |\n",
    "#     | ['CELL_LINE'] | ['genomics_expression', 'genomics_methylation', 'genomics_mutation', 'id', 'label']              |    14 |\n",
    "#     | ['DRUG']      | ['id', 'label', 'smiles']                                                                        |   223 |\n",
    "#     | ['GDSC']      | ['id', 'label']                                                                                  |   266 |\n",
    "#     | ['GENE']      | ['id']                                                                                           |   719 |\n",
    "#     +---------------+--------------------------------------------------------------------------------------------------+-------+\n",
    "#     \n",
    "#     +-----------------------------+-------------------------------------+----------+\n",
    "#     | my_type                     | my_keys                             |      cnt |\n",
    "#     |-----------------------------+-------------------------------------+----------|\n",
    "#     | FOR_DRUG                    | ['TYPE']                            |      476 |\n",
    "#     | HAS_CELL_LINE               | ['TYPE']                            |    37400 |\n",
    "#     | HAS_EXPRESSION_OBSERVATION  | ['TYPE', 'observation']             |   499052 |\n",
    "#     | HAS_METHYLATION_OBSERVATION | ['TYPE', 'observation']             |   545560 |\n",
    "#     | HAS_MUTATION_OBSERVATION    | ['TYPE', 'mutation', 'observation'] | 24776358 |\n",
    "#     | HAS_CELL_LINE               | ['TYPE', 'label']                   |   153056 |\n",
    "#     +-----------------------------+-------------------------------------+----------+\n",
    "#\n",
    "#  And post,   (no change) ..\n",
    "#\n",
    "#     +---------------+--------------------------------------------------------------------------------------------------+-------+\n",
    "#     | label         | my_keys                                                                                          |   cnt |\n",
    "#     |---------------+--------------------------------------------------------------------------------------------------+-------|\n",
    "#     | ['CELL_LINE'] | ['genomics_expression', 'genomics_methylation', 'genomics_mutation', 'id', 'label', 'tcga_code'] |   344 |\n",
    "#     | ['DRUG']      | ['id', 'label', 'smiles']                                                                        |   223 |\n",
    "#     | ['GDSC']      | ['id', 'label']                                                                                  |   266 |\n",
    "#     | ['CELL_LINE'] | ['genomics_expression', 'genomics_methylation', 'genomics_mutation', 'id', 'label']              |    14 |\n",
    "#     | ['GENE']      | ['id']                                                                                           |   719 |\n",
    "#     +---------------+--------------------------------------------------------------------------------------------------+-------+\n",
    "#     \n",
    "#     +-----------------------------+-------------------------------------+----------+\n",
    "#     | my_type                     | my_keys                             |      cnt |\n",
    "#     |-----------------------------+-------------------------------------+----------|\n",
    "#     | FOR_DRUG                    | ['TYPE']                            |      476 |\n",
    "#     | HAS_CELL_LINE               | ['TYPE']                            |    37400 |\n",
    "#     | HAS_EXPRESSION_OBSERVATION  | ['TYPE', 'observation']             |   499052 |\n",
    "#     | HAS_METHYLATION_OBSERVATION | ['TYPE', 'observation']             |   545560 |\n",
    "#     | HAS_MUTATION_OBSERVATION    | ['TYPE', 'mutation', 'observation'] | 24776358 |\n",
    "#     | HAS_CELL_LINE               | ['TYPE', 'label']                   |   153056 |\n",
    "#     +-----------------------------+-------------------------------------+----------+\n",
    "\n",
    "\n",
    "   ##########################################################\n",
    "\n",
    "    \n",
    "#  Just step 2, \n",
    "#\n",
    "#     This runs a Cypher, takes that result set, and continues processing.\n",
    "#     We'll put just this Cypher in the next cell\n",
    "#\n",
    "#  Sample output\n",
    "#\n",
    "#     85024\n",
    "#\n",
    "#     +-----------+-------------+-----------+----------------+\n",
    "#     |     label | tcga_code   |   drug_id | cell_line_id   |\n",
    "#     |-----------+-------------+-----------+----------------|\n",
    "#     | -0.587494 | KIRC        |   6450816 | ACH-000046     |\n",
    "#     | -5.71602  | OV          |   6450816 | ACH-000048     |\n",
    "#     +-----------+-------------+-----------+----------------+\n",
    "\n",
    "\n",
    "   ##########################################################\n",
    "    \n",
    "    \n",
    "#  Just step 3,\n",
    "#\n",
    "#     .  Sorts the dataframe produces above. \n",
    "\n"
   ]
  },
  {
   "cell_type": "code",
   "execution_count": 11,
   "id": "3d8d6614-d3c5-4d3b-86a2-cc9a04da5f10",
   "metadata": {},
   "outputs": [
    {
     "data": {
      "application/vnd.jupyter.widget-view+json": {
       "model_id": "078d8670e74f4479884038225f2f7993",
       "version_major": 2,
       "version_minor": 0
      },
      "text/plain": [
       "          0/? [?op/s]"
      ]
     },
     "metadata": {},
     "output_type": "display_data"
    },
    {
     "name": "stdout",
     "output_type": "stream",
     "text": [
      "68638\n",
      "+----------+-------------+-----------+----------------+\n",
      "|    label | tcga_code   |   drug_id | cell_line_id   |\n",
      "|----------+-------------+-----------+----------------|\n",
      "| 0.302727 | BLCA        |   6918848 | ACH-000018     |\n",
      "| 0.840222 | PAAD        |   6918848 | ACH-000023     |\n",
      "+----------+-------------+-----------+----------------+\n",
      "--\n"
     ]
    }
   ],
   "source": [
    "\n",
    "#  This is just step 2 from the cell above, a Cypher ..\n",
    "#\n",
    "\n",
    "l_query  = \"\"\"\n",
    "   MATCH (a:DRUG)<-[:FOR_DRUG]-(:GDSC)-[u:HAS_CELL_LINE]->(c:CELL_LINE)\n",
    "   RETURN u.label as label, c.tcga_code as tcga_code,\n",
    "   a.id as drug_id, c.id as cell_line_id\n",
    "   \"\"\".format()\n",
    "      #\n",
    "l_result = my_graph.query_unpaginated(l_query)\n",
    "\n",
    "print(len(l_result))\n",
    "print(tabulate(l_result.head(2), headers = \"keys\", tablefmt = \"psql\", showindex = False))\n",
    "   #\n",
    "print(\"--\")\n",
    "\n",
    "#  Sample output\n",
    "#\n",
    "#     85024\n",
    "#\n",
    "#     +-----------+-------------+-----------+----------------+\n",
    "#     |     label | tcga_code   |   drug_id | cell_line_id   |\n",
    "#     |-----------+-------------+-----------+----------------|\n",
    "#     | -0.587494 | KIRC        |   6450816 | ACH-000046     |\n",
    "#     | -5.71602  | OV          |   6450816 | ACH-000048     |\n",
    "#     +-----------+-------------+-----------+----------------+\n",
    "\n"
   ]
  },
  {
   "cell_type": "code",
   "execution_count": 12,
   "id": "fc03a225-1f7a-4cd5-9c3c-1f8160646057",
   "metadata": {},
   "outputs": [
    {
     "name": "stdout",
     "output_type": "stream",
     "text": [
      "--\n"
     ]
    }
   ],
   "source": [
    "\n",
    "#  After the above, we sort ..\n",
    "#\n",
    "#  Original line below ..\n",
    "#\n",
    "#     split_df = split_df.sort_values(by=[\"drug_id\", \"cell_line_id\", \"label\"]).reset_index(drop=True)\n",
    "\n",
    "\n",
    "l_result = l_result.sort_values(by=[\"drug_id\", \"cell_line_id\", \"label\"]).reset_index(drop=True)\n",
    "\n",
    "print(\"--\")\n",
    "\n",
    "   ###\n",
    "    \n",
    "#  And then we run this,\n",
    "#\n",
    "#  Original line below ..\n",
    "#\n",
    "#      df_split = split.generate_split(split_df, input_hp.random_state, input_hp.test_size)\n",
    "\n",
    "print(input_hp.random_state)\n",
    "\n",
    "\n",
    "l_result = split.generate_split(l_result, input_hp.random_state, input_hp.test_size)\n",
    "\n",
    "\n",
    "\n",
    "\n",
    "\n",
    "\n",
    "\n"
   ]
  },
  {
   "cell_type": "code",
   "execution_count": null,
   "id": "80c5c0c5-5835-4e61-86b2-0bac5e4133d4",
   "metadata": {},
   "outputs": [],
   "source": []
  },
  {
   "cell_type": "code",
   "execution_count": null,
   "id": "5a918b14-63ea-4e4f-801e-e4155aa53cce",
   "metadata": {},
   "outputs": [],
   "source": [
    "\n",
    "#########################################################################\n"
   ]
  },
  {
   "cell_type": "code",
   "execution_count": null,
   "id": "07e70ffb-3c7c-49ef-baa9-f4aff238e84e",
   "metadata": {},
   "outputs": [],
   "source": [
    "model_config = hyperparams.load_model_config()\n",
    "model_config"
   ]
  },
  {
   "cell_type": "code",
   "execution_count": null,
   "id": "171b3bae-5feb-482a-9baa-ecdbb8b1915e",
   "metadata": {},
   "outputs": [],
   "source": [
    "training_config = hyperparams.load_training_config()\n",
    "training_config"
   ]
  },
  {
   "cell_type": "code",
   "execution_count": null,
   "id": "e9faa3bf-3b43-4d26-a069-09f7bb342808",
   "metadata": {},
   "outputs": [],
   "source": [
    "start_time = default_timer()\n",
    "validation_metric = rec_pipeline.train(model_config, training_config)\n",
    "print(f\"***Took {default_timer() - start_time} seconds to train the model.***\")\n",
    "print(\"Validation metric: \", validation_metric)"
   ]
  },
  {
   "cell_type": "code",
   "execution_count": null,
   "id": "b64cb014-1302-4bac-b55f-3c86ba61436c",
   "metadata": {},
   "outputs": [],
   "source": [
    "start_time = default_timer()\n",
    "metrics, predictions, labels = rec_pipeline.test(training_config)\n",
    "print(f\"***Took {default_timer() - start_time} seconds to test the model.***\")\n",
    "metrics"
   ]
  },
  {
   "cell_type": "code",
   "execution_count": null,
   "id": "5ec43d5c-07d9-456c-9aa6-c3d230b64991",
   "metadata": {
    "tags": []
   },
   "outputs": [],
   "source": [
    "start_time = default_timer()\n",
    "rec_pipeline.plot(labels, predictions)\n",
    "print(f\"***Took {default_timer() - start_time} seconds to plot figures.***\")"
   ]
  },
  {
   "cell_type": "code",
   "execution_count": null,
   "id": "edb4d9c2-ccda-4ce1-b480-a109e492ba58",
   "metadata": {},
   "outputs": [],
   "source": [
    "rec_pipeline.infer(training_config)"
   ]
  },
  {
   "cell_type": "code",
   "execution_count": null,
   "id": "e46e3750-0856-4a72-a332-a8bab0a7230a",
   "metadata": {},
   "outputs": [],
   "source": [
    "bortezomib = \"B(C(CC(C)C)NC(=O)C(CC1=CC=CC=C1)NC(=O)C2=NC=CN=C2)(O)O\"\n",
    "cell_line = \"ACH-000001\"\n",
    "rec_pipeline.infer(training_config, drug=bortezomib, cell_line=cell_line)"
   ]
  },
  {
   "cell_type": "code",
   "execution_count": null,
   "id": "5fadc229-457e-40f5-a0df-b1fd36a772ca",
   "metadata": {},
   "outputs": [],
   "source": [
    "start_time = default_timer()\n",
    "rec_pipeline.infer_embeddings(model_config)\n",
    "print(f\"***Took {default_timer() - start_time} seconds to save node embeddings.***\")\n",
    "rec_pipeline.graph.schema().view()"
   ]
  },
  {
   "cell_type": "code",
   "execution_count": null,
   "id": "bab11aa6-b5d3-4880-9cbf-8436064d240b",
   "metadata": {},
   "outputs": [],
   "source": [
    "\n",
    "#########################################################################\n"
   ]
  },
  {
   "cell_type": "code",
   "execution_count": null,
   "id": "36cc1319-b49e-4f07-aef0-a140ff354344",
   "metadata": {},
   "outputs": [],
   "source": [
    "\n",
    "#  if input_config.save_graph_path:\n",
    "#      export_data.rdg(graph, input_config.save_graph_path)\n",
    "    \n",
    "    "
   ]
  }
 ],
 "metadata": {
  "katana": {
   "component": "AI",
   "max_num_hosts": 4
  },
  "kernelspec": {
   "display_name": "Python 3 (ipykernel)",
   "language": "python",
   "name": "python3"
  },
  "language_info": {
   "codemirror_mode": {
    "name": "ipython",
    "version": 3
   },
   "file_extension": ".py",
   "mimetype": "text/x-python",
   "name": "python",
   "nbconvert_exporter": "python",
   "pygments_lexer": "ipython3",
   "version": "3.8.13"
  },
  "toc-autonumbering": false
 },
 "nbformat": 4,
 "nbformat_minor": 5
}
