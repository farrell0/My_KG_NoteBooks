{
 "cells": [
  {
   "cell_type": "code",
   "execution_count": null,
   "id": "064cde52-a7e1-486e-a7c4-3ce3aaaa01da",
   "metadata": {},
   "outputs": [],
   "source": [
    "\n",
    "#  This NoteBook contains code from the Ch 05 folder ..\n",
    "#\n",
    "\n"
   ]
  },
  {
   "cell_type": "markdown",
   "id": "d433bb83-5f71-406e-ab1c-1b0ef02583f1",
   "metadata": {},
   "source": [
    "# Step 00: Setup"
   ]
  },
  {
   "cell_type": "code",
   "execution_count": null,
   "id": "0ba7589c-6f1e-4f5c-a37b-21f8944c2499",
   "metadata": {},
   "outputs": [],
   "source": [
    "\n",
    "%load_ext autoreload\n",
    "%autoreload 2\n",
    "\n",
    "%xmode Minimal\n",
    "\n",
    "#  Setting display options \n",
    "\n",
    "import pandas as pd\n",
    "   #\n",
    "pd.set_option(\"display.width\", 480)\n",
    "\n",
    "#  Sets horizontal scroll for wide outputs\n",
    "#\n",
    "from IPython.display import display, HTML\n",
    "display(HTML(\"\"))\n",
    "\n",
    "from tabulate import tabulate\n",
    "\n",
    "\n",
    "   ###\n",
    "\n",
    "    \n",
    "#  How to use tabulate-\n",
    "#\n",
    "l_result = [{ \"col1\": 20, \"col2\": 30}]\n",
    "   #\n",
    "#  print(tabulate(l_result, headers='keys', tablefmt='psql', showindex=False))\n",
    "\n",
    "print(\"--\")\n"
   ]
  },
  {
   "cell_type": "markdown",
   "id": "317e2979-c711-419c-91b4-e035bafbe79c",
   "metadata": {},
   "source": [
    "# Step 01: Iris Data load, encode"
   ]
  },
  {
   "cell_type": "code",
   "execution_count": null,
   "id": "02d1be95-f9df-4435-ab56-add6aa68b8fa",
   "metadata": {},
   "outputs": [],
   "source": [
    "\n",
    "#  Read the Iris data into a Pandas Dataframe\n",
    "#\n",
    "#     Features\n",
    "#     1. sepal length in cm\n",
    "#     2. sepal width in cm\n",
    "#     3. petal length in cm\n",
    "#     4. petal width in cm\n",
    "#     5. class: \n",
    "#        Iris-setosa\n",
    "#        Iris-versicolour\n",
    "#        Iris-virginica\n",
    "#\n",
    "#  To convert class into a numeric, we use sklearn.preprocessing.LabelEncoder\n",
    "#  See,\n",
    "#     https://www.turing.com/kb/convert-categorical-data-in-pandas-and-scikit-learn\n",
    "#\n",
    "\n",
    "from sklearn.preprocessing import LabelEncoder\n",
    "\n",
    "my_le = LabelEncoder()\n",
    "   #\n",
    "l_folder = \"20_Data\"\n",
    "l_file   = \"11_iris.data.txt\"\n",
    "\n",
    "\n",
    "pd_iris  = pd.read_csv((l_folder + \"/\" + l_file), header = 0, sep = \",\",\n",
    "   names = [\"sl\", \"sw\", \"pl\", \"pw\", \"class\"],\n",
    "   dtype = {\"sl\": \"float\", \"sw\": \"float\", \"pl\": \"float\", \"pw\": \"float\", \"class\": \"string\"} )\n",
    "      #\n",
    "pd_iris[\"class_encoded\"]  =  my_le.fit_transform(pd_iris[\"class\"])\n",
    "   #\n",
    "pd_iris = pd_iris.drop([\"class\"], axis = 1)\n",
    "    \n",
    "    \n",
    "#  Pandas.Dataframe.sample() returns a randomized count of rows\n",
    "#\n",
    "print(tabulate(pd_iris.sample(5), headers='keys', tablefmt='psql', showindex=False))\n",
    "print(\"Number of rows: %d\" % (len(pd_iris)))\n",
    "\n",
    "print(\"--\")\n"
   ]
  },
  {
   "cell_type": "code",
   "execution_count": null,
   "id": "1fd64b3f-30aa-4680-b983-462d5da51304",
   "metadata": {},
   "outputs": [],
   "source": [
    "\n",
    "#  Split data into training and test.\n",
    "#  Convert the data into numpy arrays, since the ml libraries we use later expect that.\n",
    "#\n",
    "\n",
    "import numpy as np\n",
    "from sklearn.model_selection import train_test_split\n",
    "\n",
    "np_iris = {}\n",
    "   #\n",
    "np_iris[\"train\"], np_iris[\"test\"] = train_test_split(pd_iris.to_numpy(),              #  random_state calls to shuffle the data,\n",
    "   test_size = 0.10, random_state = 40)                                               #  which had arrived sorted\n",
    "\n",
    "print(\"Number of total rows: %d   Training rows: %d   Test rows: %d\" %\n",
    "  (len(pd_iris), len(np_iris[\"train\"]), len(np_iris[\"test\"])) )\n",
    "\n",
    "print()\n",
    "print(\"Train data:\")\n",
    "print(\"%s\" % (np_iris[\"train\"][0:5]))\n",
    "print()\n",
    "print(\"Test  data:\")\n",
    "print(\"%s\" % (np_iris[\"test\" ][0:5]))\n",
    "print()\n",
    "   #\n",
    "print(\"--\")\n"
   ]
  },
  {
   "cell_type": "markdown",
   "id": "5642d7fa-e89f-47c8-90c4-13e33fc2106c",
   "metadata": {},
   "source": [
    "# Step 02: Iris Data train, test .. NearestCentroid"
   ]
  },
  {
   "cell_type": "code",
   "execution_count": 100,
   "id": "2d15b429-f361-434a-a3c4-f91f48d61824",
   "metadata": {},
   "outputs": [
    {
     "name": "stdout",
     "output_type": "stream",
     "text": [
      "Actual    labels from test......... [0. 1. 2. 2. 1. 2. 1. 1. 1. 0. 1. 0. 0. 2. 1.]\n",
      "Predicted labels from test......... [0. 1. 2. 2. 1. 2. 1. 1. 1. 0. 1. 0. 0. 1. 1.]\n",
      "\n",
      "Accuracy: 93.3333 %\n",
      "--\n"
     ]
    }
   ],
   "source": [
    "\n",
    "from sklearn.neighbors import NearestCentroid\n",
    "\n",
    "#  Our numpy array has 5 columns, with the last column being the class.\n",
    "#  To review numpy array slicing,\n",
    "#\n",
    "#     To get the first 4 columns use,\n",
    "#        np_iris[\"train\"][:, :4]\n",
    "#     To get the last column use,\n",
    "#        np_iris[\"train\"][:, -1]\n",
    "#\n",
    "\n",
    "my_model = NearestCentroid()\n",
    "\n",
    "\n",
    "#  train the model\n",
    "#\n",
    "my_model.fit(np_iris[\"train\"][:, :4], np_iris[\"train\"][:, -1])\n",
    "\n",
    "#  predict on the test data\n",
    "#\n",
    "l_predicted_labels = my_model.predict( np_iris[\"test\" ][:, :4])\n",
    "\n",
    "print(\"Actual    labels from test......... %s\" % (np_iris[\"test\" ][:, -1]) )\n",
    "print(\"Predicted labels from test......... %s\" % (l_predicted_labels)      )\n",
    "   #\n",
    "print()\n",
    "print(\"Accuracy: %0.4f %%\" % (my_model.score(np_iris[\"test\" ][:, :4], np_iris[\"test\" ][:, -1]) * 100) )\n",
    "\n",
    "print(\"--\")\n",
    "    "
   ]
  },
  {
   "cell_type": "markdown",
   "id": "3c25a3d4-cf32-4503-8c86-e14146b7fa9d",
   "metadata": {},
   "source": [
    "# Step 03: Iris Data train, test .. kNN"
   ]
  },
  {
   "cell_type": "code",
   "execution_count": 102,
   "id": "30c1202c-c630-4e27-aea8-4ed425b139ac",
   "metadata": {},
   "outputs": [
    {
     "name": "stdout",
     "output_type": "stream",
     "text": [
      "Actual    labels from test......... [0. 1. 2. 2. 1. 2. 1. 1. 1. 0. 1. 0. 0. 2. 1.]\n",
      "Predicted labels from test......... [0. 1. 2. 2. 1. 2. 1. 1. 1. 0. 1. 0. 0. 2. 1.]\n",
      "\n",
      "Accuracy: 100.0000 %\n",
      "--\n"
     ]
    }
   ],
   "source": [
    "\n",
    "from sklearn.neighbors import KNeighborsClassifier\n",
    "\n",
    "#  Our numpy array has 5 columns, with the last column being the class.\n",
    "#  To review numpy array slicing,\n",
    "#\n",
    "#     To get the first 4 columns use,\n",
    "#        np_iris[\"train\"][:, :4]\n",
    "#     To get the last column use,\n",
    "#        np_iris[\"train\"][:, -1]\n",
    "#\n",
    "\n",
    "#  The only line that differs between this cell and the one above, is\n",
    "#  the first line\n",
    "#\n",
    "\n",
    "my_model = KNeighborsClassifier(n_neighbors = 3)\n",
    "\n",
    "\n",
    "#  train the model\n",
    "#\n",
    "my_model.fit(np_iris[\"train\"][:, :4], np_iris[\"train\"][:, -1])\n",
    "\n",
    "#  predict on the test data\n",
    "#\n",
    "l_predicted_labels = my_model.predict( np_iris[\"test\" ][:, :4])\n",
    "\n",
    "print(\"Actual    labels from test......... %s\" % (np_iris[\"test\" ][:, -1]) )\n",
    "print(\"Predicted labels from test......... %s\" % (l_predicted_labels)      )\n",
    "   #\n",
    "print()\n",
    "print(\"Accuracy: %0.4f %%\" % (my_model.score(np_iris[\"test\" ][:, :4], np_iris[\"test\" ][:, -1]) * 100) )\n",
    "\n",
    "print(\"--\")\n"
   ]
  },
  {
   "cell_type": "markdown",
   "id": "c5328044-4f54-41b6-a37a-0f96a11e2250",
   "metadata": {},
   "source": [
    "# Step 04: Iris Data train, test .. Naive Bayes, Gaussian"
   ]
  },
  {
   "cell_type": "code",
   "execution_count": 103,
   "id": "54c1740a-f656-4d6d-bdf3-cb2f053fef60",
   "metadata": {},
   "outputs": [
    {
     "name": "stdout",
     "output_type": "stream",
     "text": [
      "Actual    labels from test......... [0. 1. 2. 2. 1. 2. 1. 1. 1. 0. 1. 0. 0. 2. 1.]\n",
      "Predicted labels from test......... [0. 1. 2. 2. 1. 2. 1. 1. 1. 0. 1. 0. 0. 2. 1.]\n",
      "\n",
      "Accuracy: 100.0000 %\n",
      "--\n"
     ]
    }
   ],
   "source": [
    "\n",
    "from sklearn.naive_bayes import GaussianNB\n",
    "\n",
    "#  Naive Bayes, Gaussian\n",
    "#\n",
    "#     Gaussian does better the Multinomial below because,\n",
    "#        Gaus\n",
    "\n",
    "my_model = GaussianNB()\n",
    "\n",
    "\n",
    "#  train the model\n",
    "#\n",
    "my_model.fit(np_iris[\"train\"][:, :4], np_iris[\"train\"][:, -1])\n",
    "\n",
    "#  predict on the test data\n",
    "#\n",
    "l_predicted_labels = my_model.predict( np_iris[\"test\" ][:, :4])\n",
    "\n",
    "print(\"Actual    labels from test......... %s\" % (np_iris[\"test\" ][:, -1]) )\n",
    "print(\"Predicted labels from test......... %s\" % (l_predicted_labels)      )\n",
    "   #\n",
    "print()\n",
    "print(\"Accuracy: %0.4f %%\" % (my_model.score(np_iris[\"test\" ][:, :4], np_iris[\"test\" ][:, -1]) * 100) )\n",
    "\n",
    "print(\"--\")\n"
   ]
  },
  {
   "cell_type": "markdown",
   "id": "63f815d9-6eb7-4aaa-863c-3c7ce613d127",
   "metadata": {},
   "source": [
    "# Step 05: Iris Data train, test .. Naive Bayes, Multinomial"
   ]
  },
  {
   "cell_type": "code",
   "execution_count": 105,
   "id": "de942e0e-31d0-44c1-bdb3-0ee3c5ca3315",
   "metadata": {},
   "outputs": [
    {
     "name": "stdout",
     "output_type": "stream",
     "text": [
      "Actual    labels from test......... [0. 1. 2. 2. 1. 2. 1. 1. 1. 0. 1. 0. 0. 2. 1.]\n",
      "Predicted labels from test......... [0. 1. 2. 2. 2. 2. 1. 1. 1. 0. 1. 0. 0. 2. 1.]\n",
      "\n",
      "Accuracy: 93.3333 %\n",
      "--\n"
     ]
    }
   ],
   "source": [
    "\n",
    "from sklearn.naive_bayes import MultinomialNB\n",
    "\n",
    "#  Naive Bayes, Gaussian\n",
    "#\n",
    "\n",
    "my_model = MultinomialNB()\n",
    "\n",
    "\n",
    "#  train the model\n",
    "#\n",
    "my_model.fit(np_iris[\"train\"][:, :4], np_iris[\"train\"][:, -1])\n",
    "\n",
    "#  predict on the test data\n",
    "#\n",
    "l_predicted_labels = my_model.predict( np_iris[\"test\" ][:, :4])\n",
    "\n",
    "print(\"Actual    labels from test......... %s\" % (np_iris[\"test\" ][:, -1]) )\n",
    "print(\"Predicted labels from test......... %s\" % (l_predicted_labels)      )\n",
    "   #\n",
    "print()\n",
    "print(\"Accuracy: %0.4f %%\" % (my_model.score(np_iris[\"test\" ][:, :4], np_iris[\"test\" ][:, -1]) * 100) )\n",
    "\n",
    "print(\"--\")\n"
   ]
  },
  {
   "cell_type": "code",
   "execution_count": null,
   "id": "74aeff5c-c2a5-497a-bf7f-77884f83876d",
   "metadata": {},
   "outputs": [],
   "source": []
  },
  {
   "cell_type": "code",
   "execution_count": null,
   "id": "3478c596-7092-4508-9ee0-fdf69d41d8f4",
   "metadata": {},
   "outputs": [],
   "source": []
  }
 ],
 "metadata": {
  "kernelspec": {
   "display_name": "Python 3 (ipykernel)",
   "language": "python",
   "name": "python3"
  },
  "language_info": {
   "codemirror_mode": {
    "name": "ipython",
    "version": 3
   },
   "file_extension": ".py",
   "mimetype": "text/x-python",
   "name": "python",
   "nbconvert_exporter": "python",
   "pygments_lexer": "ipython3",
   "version": "3.8.13"
  }
 },
 "nbformat": 4,
 "nbformat_minor": 5
}
