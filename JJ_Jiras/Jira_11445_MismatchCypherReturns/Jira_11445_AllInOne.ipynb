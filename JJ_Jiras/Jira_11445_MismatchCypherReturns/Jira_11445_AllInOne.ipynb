{
 "cells": [
  {
   "cell_type": "code",
   "execution_count": 1,
   "id": "b93fc581-8008-436e-bace-76e22e991185",
   "metadata": {},
   "outputs": [
    {
     "data": {
      "text/html": [],
      "text/plain": [
       "<IPython.core.display.HTML object>"
      ]
     },
     "metadata": {},
     "output_type": "display_data"
    },
    {
     "name": "stdout",
     "output_type": "stream",
     "text": [
      "--\n"
     ]
    }
   ],
   "source": [
    "#  Setting display options \n",
    "\n",
    "import pandas as pd\n",
    "   #\n",
    "pd.set_option(\"display.width\", 480)\n",
    "\n",
    "#  Sets horizontal scroll for wide outputs\n",
    "#\n",
    "from IPython.display import display, HTML\n",
    "display(HTML(\"\"))\n",
    "\n",
    "from tabulate import tabulate\n",
    "\n",
    "print(\"--\")\n"
   ]
  },
  {
   "cell_type": "code",
   "execution_count": 2,
   "id": "1ea957d6-30c6-427a-ae4e-15ecfba0c4f9",
   "metadata": {},
   "outputs": [
    {
     "name": "stdout",
     "output_type": "stream",
     "text": [
      "<katana_enterprise.remote.sync_wrappers.Client object at 0x7f7b2d433c40>\n"
     ]
    }
   ],
   "source": [
    "\n",
    "from katana import remote\n",
    "from katana.remote import import_data\n",
    "\n",
    "my_client = remote.Client()\n",
    "\n",
    "print(my_client)\n"
   ]
  },
  {
   "cell_type": "code",
   "execution_count": 3,
   "id": "97571016-7c02-4e90-a75a-136a0dacd35f",
   "metadata": {},
   "outputs": [
    {
     "name": "stdout",
     "output_type": "stream",
     "text": [
      "--\n"
     ]
    }
   ],
   "source": [
    "\n",
    "NUM_PARTITIONS  = 3\n",
    "   #\n",
    "DB_NAME         = \"my_db\"\n",
    "GRAPH_NAME      = \"my_graph\"\n",
    "\n",
    "print(\"--\")\n"
   ]
  },
  {
   "cell_type": "code",
   "execution_count": 4,
   "id": "8ed2d715-aaeb-4381-9216-46fa0dd421b6",
   "metadata": {},
   "outputs": [
    {
     "name": "stdout",
     "output_type": "stream",
     "text": [
      "--\n"
     ]
    }
   ],
   "source": [
    "\n",
    "#  DELETE ALL GRAPHS\n",
    "\n",
    "for l_database in my_client.databases():\n",
    "   for l_graph in my_client.get_database(name=l_database.name).graphs_in_database():\n",
    "      l_handle=my_client.get_database(name=l_database.name).get_graph_by_id(id=l_graph.graph_id)\n",
    "      l_handle.delete()\n",
    "\n",
    "for l_graph in my_client.graphs():\n",
    "   print(\"GRAPH ID: \", l_graph.graph_id, \"      GRAPH Version: \", l_graph.version)\n",
    "\n",
    "print(\"--\")\n"
   ]
  },
  {
   "cell_type": "code",
   "execution_count": null,
   "id": "cf9c16ec-913f-46a8-bccc-76fc92c54866",
   "metadata": {},
   "outputs": [],
   "source": [
    "\n",
    "#  DELETE ALL DATABASES\n",
    "\n",
    "for l_database in my_client.databases():\n",
    "   if (l_database.name != \"default\"):\n",
    "      my_client.get_database(name=l_database.name).delete_database()\n",
    "      print(\"--\")\n",
    "\n",
    "for l_database in my_client.databases():\n",
    "   print(\"DB ID: \", l_database.database_id, \"     DB Name: \", l_database.name)\n"
   ]
  },
  {
   "cell_type": "code",
   "execution_count": null,
   "id": "6e72729c-265b-40e4-a3ee-674b793bed81",
   "metadata": {},
   "outputs": [],
   "source": [
    "\n",
    "#  CREATE DATABASE\n",
    "\n",
    "my_database = my_client.create_database(name=DB_NAME)\n",
    "\n",
    "print(my_database.database_id)\n"
   ]
  },
  {
   "cell_type": "code",
   "execution_count": 5,
   "id": "2fc31da4-44c3-4bd3-b160-b315766dcd88",
   "metadata": {},
   "outputs": [
    {
     "name": "stdout",
     "output_type": "stream",
     "text": [
      "<_Graph my_graph, GeFGEFME3mrqG3SKi9oNK43ARBhaQMrTyj1qAQzxTqJB, 0>\n"
     ]
    }
   ],
   "source": [
    "\n",
    "#  CREATE GRAPH\n",
    "\n",
    "my_graph = my_client.get_database(name=DB_NAME).create_graph(name=GRAPH_NAME, num_partitions=NUM_PARTITIONS)\n",
    "\n",
    "print(my_graph)\n"
   ]
  },
  {
   "cell_type": "markdown",
   "id": "61556ce5-9044-42bc-bb13-80b6a514ae27",
   "metadata": {
    "tags": []
   },
   "source": [
    "# Create: Vertices/nodes, edges .."
   ]
  },
  {
   "cell_type": "code",
   "execution_count": 6,
   "id": "f7efb47b-3c7d-45f3-acc8-ae29c3e2a1bf",
   "metadata": {},
   "outputs": [
    {
     "name": "stdout",
     "output_type": "stream",
     "text": [
      "--\n"
     ]
    }
   ],
   "source": [
    "import pandas as pd\n",
    "\n",
    "print(\"--\")"
   ]
  },
  {
   "cell_type": "code",
   "execution_count": 7,
   "id": "8e7ecf31-d69e-4b5a-8a37-0cfb4c32fd33",
   "metadata": {},
   "outputs": [
    {
     "data": {
      "text/html": [
       "<div>\n",
       "<style scoped>\n",
       "    .dataframe tbody tr th:only-of-type {\n",
       "        vertical-align: middle;\n",
       "    }\n",
       "\n",
       "    .dataframe tbody tr th {\n",
       "        vertical-align: top;\n",
       "    }\n",
       "\n",
       "    .dataframe thead th {\n",
       "        text-align: right;\n",
       "    }\n",
       "</style>\n",
       "<table border=\"1\" class=\"dataframe\">\n",
       "  <thead>\n",
       "    <tr style=\"text-align: right;\">\n",
       "      <th></th>\n",
       "      <th>airport_code</th>\n",
       "      <th>airport_name</th>\n",
       "      <th>LABEL</th>\n",
       "    </tr>\n",
       "  </thead>\n",
       "  <tbody>\n",
       "    <tr>\n",
       "      <th>0</th>\n",
       "      <td>MKE</td>\n",
       "      <td>Milwaukee</td>\n",
       "      <td>Airport</td>\n",
       "    </tr>\n",
       "    <tr>\n",
       "      <th>1</th>\n",
       "      <td>ORD</td>\n",
       "      <td>Chicago O-Hare</td>\n",
       "      <td>Airport</td>\n",
       "    </tr>\n",
       "    <tr>\n",
       "      <th>2</th>\n",
       "      <td>SJC</td>\n",
       "      <td>San Jose</td>\n",
       "      <td>Airport</td>\n",
       "    </tr>\n",
       "    <tr>\n",
       "      <th>3</th>\n",
       "      <td>DEN</td>\n",
       "      <td>Denver</td>\n",
       "      <td>Airport</td>\n",
       "    </tr>\n",
       "  </tbody>\n",
       "</table>\n",
       "</div>"
      ],
      "text/plain": [
       "  airport_code    airport_name    LABEL\n",
       "0          MKE       Milwaukee  Airport\n",
       "1          ORD  Chicago O-Hare  Airport\n",
       "2          SJC        San Jose  Airport\n",
       "3          DEN          Denver  Airport"
      ]
     },
     "execution_count": 7,
     "metadata": {},
     "output_type": "execute_result"
    }
   ],
   "source": [
    "#  Vertices/Nodes, Airports ..\n",
    "\n",
    "df_airports = pd.DataFrame([\n",
    "       #\n",
    "   [\"MKE\", \"Milwaukee\"               , \"Airport\"],\n",
    "   [\"ORD\", \"Chicago O-Hare\"          , \"Airport\"],\n",
    "   [\"SJC\", \"San Jose\"                , \"Airport\"],\n",
    "   [\"DEN\", \"Denver\"                  , \"Airport\"],\n",
    "       #\n",
    "   ], columns = [\"airport_code\", \"airport_name\", \"LABEL\"])\n",
    "\n",
    "df_airports.head(20)\n"
   ]
  },
  {
   "cell_type": "code",
   "execution_count": 8,
   "id": "60eaac88-4dd5-47d3-94b3-0f5fd0b243f2",
   "metadata": {},
   "outputs": [
    {
     "data": {
      "text/html": [
       "<div>\n",
       "<style scoped>\n",
       "    .dataframe tbody tr th:only-of-type {\n",
       "        vertical-align: middle;\n",
       "    }\n",
       "\n",
       "    .dataframe tbody tr th {\n",
       "        vertical-align: top;\n",
       "    }\n",
       "\n",
       "    .dataframe thead th {\n",
       "        text-align: right;\n",
       "    }\n",
       "</style>\n",
       "<table border=\"1\" class=\"dataframe\">\n",
       "  <thead>\n",
       "    <tr style=\"text-align: right;\">\n",
       "      <th></th>\n",
       "      <th>START_ID</th>\n",
       "      <th>END_ID</th>\n",
       "      <th>DISTANCE</th>\n",
       "      <th>NUM_HOPS</th>\n",
       "      <th>TYPE</th>\n",
       "    </tr>\n",
       "  </thead>\n",
       "  <tbody>\n",
       "    <tr>\n",
       "      <th>0</th>\n",
       "      <td>MKE</td>\n",
       "      <td>ORD</td>\n",
       "      <td>66</td>\n",
       "      <td>1</td>\n",
       "      <td>FLIES_TO</td>\n",
       "    </tr>\n",
       "    <tr>\n",
       "      <th>1</th>\n",
       "      <td>ORD</td>\n",
       "      <td>MKE</td>\n",
       "      <td>66</td>\n",
       "      <td>1</td>\n",
       "      <td>FLIES_TO</td>\n",
       "    </tr>\n",
       "    <tr>\n",
       "      <th>2</th>\n",
       "      <td>ORD</td>\n",
       "      <td>DEN</td>\n",
       "      <td>886</td>\n",
       "      <td>1</td>\n",
       "      <td>FLIES_TO</td>\n",
       "    </tr>\n",
       "    <tr>\n",
       "      <th>3</th>\n",
       "      <td>DEN</td>\n",
       "      <td>ORD</td>\n",
       "      <td>886</td>\n",
       "      <td>1</td>\n",
       "      <td>FLIES_TO</td>\n",
       "    </tr>\n",
       "    <tr>\n",
       "      <th>4</th>\n",
       "      <td>SJC</td>\n",
       "      <td>DEN</td>\n",
       "      <td>948</td>\n",
       "      <td>1</td>\n",
       "      <td>FLIES_TO</td>\n",
       "    </tr>\n",
       "    <tr>\n",
       "      <th>5</th>\n",
       "      <td>DEN</td>\n",
       "      <td>SJC</td>\n",
       "      <td>948</td>\n",
       "      <td>1</td>\n",
       "      <td>FLIES_TO</td>\n",
       "    </tr>\n",
       "    <tr>\n",
       "      <th>6</th>\n",
       "      <td>SJC</td>\n",
       "      <td>ORD</td>\n",
       "      <td>1829</td>\n",
       "      <td>1</td>\n",
       "      <td>FLIES_TO</td>\n",
       "    </tr>\n",
       "  </tbody>\n",
       "</table>\n",
       "</div>"
      ],
      "text/plain": [
       "  START_ID END_ID  DISTANCE  NUM_HOPS      TYPE\n",
       "0      MKE    ORD        66         1  FLIES_TO\n",
       "1      ORD    MKE        66         1  FLIES_TO\n",
       "2      ORD    DEN       886         1  FLIES_TO\n",
       "3      DEN    ORD       886         1  FLIES_TO\n",
       "4      SJC    DEN       948         1  FLIES_TO\n",
       "5      DEN    SJC       948         1  FLIES_TO\n",
       "6      SJC    ORD      1829         1  FLIES_TO"
      ]
     },
     "execution_count": 8,
     "metadata": {},
     "output_type": "execute_result"
    }
   ],
   "source": [
    "#  Create the edge, flights ..\n",
    "\n",
    "df_flights = pd.DataFrame([\n",
    "      #\n",
    "   [\"MKE\", \"ORD\",   66, 1, \"FLIES_TO\" ],\n",
    "   [\"ORD\", \"MKE\",   66, 1, \"FLIES_TO\" ],\n",
    "      #\n",
    "   [\"ORD\", \"DEN\",  886, 1, \"FLIES_TO\" ],\n",
    "   [\"DEN\", \"ORD\",  886, 1, \"FLIES_TO\" ],\n",
    "      #\n",
    "   [\"SJC\", \"DEN\",  948, 1, \"FLIES_TO\" ],                           #  Notice SJC flies to/from Denver\n",
    "   [\"DEN\", \"SJC\",  948, 1, \"FLIES_TO\" ],\n",
    "      #\n",
    "   [\"SJC\", \"ORD\", 1829, 1, \"FLIES_TO\" ],                           #  Notice SJC flies to ORD, but not ORD to SJC\n",
    "      #\n",
    "   ], columns = [\"START_ID\", \"END_ID\", \"DISTANCE\", \"NUM_HOPS\", \"TYPE\"])\n",
    "\n",
    "df_flights.head(30)\n"
   ]
  },
  {
   "cell_type": "code",
   "execution_count": 9,
   "id": "2f22872f-dbea-4852-a5bb-1e515937cd85",
   "metadata": {},
   "outputs": [
    {
     "name": "stderr",
     "output_type": "stream",
     "text": [
      "UserWarning: dtype for DataFrame column 'airport_name' is 'object'. Will be inferred as string.\n",
      "UserWarning: dtype for DataFrame column 'LABEL' is 'object'. Will be inferred as string.\n",
      "UserWarning: dtype for DataFrame column 'TYPE' is 'object'. Will be inferred as string.\n"
     ]
    },
    {
     "data": {
      "application/vnd.jupyter.widget-view+json": {
       "model_id": "11d9f974fa514919a60ce0f070626ca4",
       "version_major": 2,
       "version_minor": 0
      },
      "text/plain": [
       "          0/? [?op/s]"
      ]
     },
     "metadata": {},
     "output_type": "display_data"
    },
    {
     "data": {
      "application/vnd.jupyter.widget-view+json": {
       "model_id": "e35a5114a4304dea8a6c5421f31ecbd2",
       "version_major": 2,
       "version_minor": 0
      },
      "text/plain": [
       "          0/? [?op/s]"
      ]
     },
     "metadata": {},
     "output_type": "display_data"
    },
    {
     "name": "stdout",
     "output_type": "stream",
     "text": [
      "--\n"
     ]
    }
   ],
   "source": [
    "\n",
    "# Import the 2 previously created Python DataFrames into KatanaGraph ..\n",
    "\n",
    "with import_data.DataFrameImporter(my_graph) as df_importer:   \n",
    "    \n",
    "   df_importer.nodes_dataframe(df_airports,                    #  Aiports set of Nodes\n",
    "      id_column             = \"airport_code\",\n",
    "      id_space              = \"Airport\",  \n",
    "      label                 = \"Airport\",  \n",
    "      )\n",
    "   \n",
    "   df_importer.edges_dataframe(df_flights,                     #  Our Edge, specifying the relationship between Airport --> FLIES_TO --> Airport\n",
    "      source_id_space       = \"Airport\", \n",
    "      destination_id_space  = \"Airport\",   \n",
    "      source_column         = \"START_ID\",\n",
    "      destination_column    = \"END_ID\",\n",
    "      type                  = \"FLIES_TO\"\n",
    "      )\n",
    "\n",
    "   df_importer.insert()\n",
    "\n",
    "print(\"--\")\n"
   ]
  },
  {
   "cell_type": "code",
   "execution_count": null,
   "id": "9e98353c-27b0-4226-b403-67ea37bfa33b",
   "metadata": {},
   "outputs": [],
   "source": [
    "# ##################################################################"
   ]
  },
  {
   "cell_type": "code",
   "execution_count": 10,
   "id": "19e7bb5c-695f-4eaf-9ba3-e87a7a7cc3f5",
   "metadata": {},
   "outputs": [
    {
     "data": {
      "application/vnd.jupyter.widget-view+json": {
       "model_id": "dfe640646b5b4886bcea82ab2c98015e",
       "version_major": 2,
       "version_minor": 0
      },
      "text/plain": [
       "          0/? [?op/s]"
      ]
     },
     "metadata": {},
     "output_type": "display_data"
    },
    {
     "data": {
      "application/vnd.jupyter.widget-view+json": {
       "model_id": "b210e14b7c8647639e6fe04d5d8743de",
       "version_major": 2,
       "version_minor": 0
      },
      "text/plain": [
       "          0/? [?op/s]"
      ]
     },
     "metadata": {},
     "output_type": "display_data"
    }
   ],
   "source": [
    "\n",
    "#  Add a second node type, and related edge\n",
    "#\n",
    "\n",
    "l_query = \"\"\"\n",
    "   CREATE ( n: Restaurant { restaurant_code: 'PAP' } )               //  Notice single curly braces\n",
    "   SET n.restaurant_name = 'Pappadeauxs Seafood Kitchen' \n",
    "   \"\"\"\n",
    "      #\n",
    "display(l_result1 = my_graph.query(l_query))\n",
    "\n",
    "l_query = \"\"\"\n",
    "   MATCH\n",
    "      (n: Airport   ),\n",
    "      (m: Restaurant)\n",
    "   WHERE n.airport_code     = 'SJC'\n",
    "   AND   m.restaurant_code  = 'PAP'\n",
    "   CREATE (n) -[r: Attraction { DRIVABLE: 'Yes' }]-> (m)\n",
    "   \"\"\"\n",
    "      #\n",
    "display(l_result2 = my_graph.query(l_query))\n"
   ]
  },
  {
   "cell_type": "code",
   "execution_count": null,
   "id": "7aa59aa1-2434-4603-a926-0d0476bc3ea6",
   "metadata": {},
   "outputs": [],
   "source": [
    "# ##################################################################"
   ]
  },
  {
   "cell_type": "code",
   "execution_count": null,
   "id": "ce3ecfbe-cca0-41dd-bb15-594f2d545365",
   "metadata": {},
   "outputs": [],
   "source": [
    "\n",
    "display(my_graph.num_nodes())\n",
    "display(my_graph.num_edges())\n"
   ]
  },
  {
   "cell_type": "code",
   "execution_count": null,
   "id": "793186d1-d998-4662-b5f6-958a1a752892",
   "metadata": {},
   "outputs": [],
   "source": [
    "\n",
    "#  Full graph\n",
    "\n",
    "l_result = my_graph.query(\"\"\"\n",
    "   MATCH (n) - [ r ] -> (m)\n",
    "   RETURN n, m, r\n",
    "   \"\"\", contextualize=True)\n",
    "\n",
    "\n",
    "l_result.view()\n"
   ]
  },
  {
   "cell_type": "markdown",
   "id": "dccdfec6-c3c8-413c-8c9c-9bf784f8fec4",
   "metadata": {},
   "source": [
    "#  The Jira as it is being reported "
   ]
  },
  {
   "cell_type": "code",
   "execution_count": null,
   "id": "afaa64dd-73b9-4493-a063-77efe9730263",
   "metadata": {},
   "outputs": [],
   "source": [
    "\n",
    "#  We will comare this cell to the next; no error here\n",
    "#\n",
    "\n",
    "l_query  = \"\"\"\n",
    "   MATCH(n)\n",
    "   RETURN n\n",
    "   \"\"\".format()\n",
    "\n",
    "l_result = my_graph.query(l_query)\n",
    "\n",
    "display(print(l_result))\n",
    "\n",
    "#  Returns,\n",
    "#\n",
    "#          n.internal_id      n.labels n.restaurant_code            n.restaurant_name n.type  n.LABEL n.airport_code  n.airport_name\n",
    "#     0                2  [Restaurant]               PAP  Pappadeauxs Seafood Kitchen   node      NaN            NaN             NaN\n",
    "#     1                0     [Airport]               NaN                          NaN   node  Airport            MKE       Milwaukee\n",
    "#     2                1     [Airport]               NaN                          NaN   node  Airport            ORD  Chicago O-Hare\n",
    "#     3  281474976710656     [Airport]               NaN                          NaN   node  Airport            SJC        San Jose\n",
    "#     4  281474976710657     [Airport]               NaN                          NaN   node  Airport            DEN          Denver\n"
   ]
  },
  {
   "cell_type": "code",
   "execution_count": 12,
   "id": "ff15bf30-db46-40c7-9225-6bb4632ad2f6",
   "metadata": {},
   "outputs": [
    {
     "data": {
      "application/vnd.jupyter.widget-view+json": {
       "model_id": "f76a39a6b4ec4945b0ff6d95abaaa49f",
       "version_major": 2,
       "version_minor": 0
      },
      "text/plain": [
       "          0/? [?op/s]"
      ]
     },
     "metadata": {},
     "output_type": "display_data"
    },
    {
     "name": "stdout",
     "output_type": "stream",
     "text": [
      "  my_id my_label airport_code    airport_name restaurant_code              restaurant_name my_label2\n",
      "0  None     None          SJC        San Jose            None                         None   Airport\n",
      "1  None     None         None            None             PAP  Pappadeauxs Seafood Kitchen      None\n",
      "2  None     None          ORD  Chicago O-Hare            None                         None   Airport\n",
      "3  None     None          DEN          Denver            None                         None   Airport\n",
      "4  None     None          MKE       Milwaukee            None                         None   Airport\n"
     ]
    }
   ],
   "source": [
    "\n",
    "#  I do not receive a value for some of these fields\n",
    "#\n",
    "#  The Analytics folks make use of internal_id\n",
    "#\n",
    "\n",
    "l_query  = \"\"\"\n",
    "   MATCH (n) \n",
    "   RETURN \n",
    "   \n",
    "      // n.internal_id     AS my_id,                            //  None\n",
    "      n.id                 AS my_id,                            //  None\n",
    "      \n",
    "      n.labels             AS my_label,                         //  None\n",
    "      n.airport_code       AS airport_code, \n",
    "      n.airport_name       AS airport_name, \n",
    "      n.restaurant_code    AS restaurant_code, \n",
    "      n.restaurant_name    AS restaurant_name,\n",
    "      n.LABEL              AS my_label2                         //  Notice the value is present above for n.labels, missing here\n",
    "   \"\"\".format()\n",
    "\n",
    "l_return = my_graph.query(l_query)\n",
    "   #\n",
    "print(l_return)\n",
    "\n",
    "#  Returns,\n",
    "#\n",
    "#       my_id my_label airport_code    airport_name restaurant_code              restaurant_name my_label2\n",
    "#     0  None     None          ORD  Chicago O-Hare            None                         None   Airport\n",
    "#     1  None     None          MKE       Milwaukee            None                         None   Airport\n",
    "#     2  None     None         None            None             PAP  Pappadeauxs Seafood Kitchen      None\n",
    "#     3  None     None          DEN          Denver            None                         None   Airport\n",
    "#     4  None     None          SJC        San Jose            None                         None   Airport\n"
   ]
  },
  {
   "cell_type": "code",
   "execution_count": null,
   "id": "c5df903c-8f23-4473-bf46-2a5b9910a487",
   "metadata": {},
   "outputs": [],
   "source": [
    "\n",
    "#  Compare this cell to the next\n",
    "#\n",
    "\n",
    "l_query  = \"\"\"\n",
    "   MATCH (n) \n",
    "   RETURN \n",
    "      n.internal_id       ,\n",
    "      n.labels            ,\n",
    "      n.airport_code      ,\n",
    "      n.airport_name      ,\n",
    "      n.restaurant_code   ,\n",
    "      n.restaurant_name   ,\n",
    "      n.LABEL              \n",
    "   \"\"\".format()\n",
    "\n",
    "l_return = my_graph.query(l_query)\n",
    "   #\n",
    "for l_each in l_return.itertuples():\n",
    "   print(l_each)\n",
    "\n",
    "#  Returns,\n",
    "#\n",
    "Pandas(Index=0, _1=None, _2=None, _3='ORD', _4='Chicago O-Hare', _5=None, _6=None, _7='Airport')\n",
    "Pandas(Index=1, _1=None, _2=None, _3='MKE', _4='Milwaukee', _5=None, _6=None, _7='Airport')\n",
    "Pandas(Index=2, _1=None, _2=None, _3=None, _4=None, _5='PAP', _6='Pappadeauxs Seafood Kitchen', _7=None)\n",
    "Pandas(Index=3, _1=None, _2=None, _3='SJC', _4='San Jose', _5=None, _6=None, _7='Airport')\n",
    "Pandas(Index=4, _1=None, _2=None, _3='DEN', _4='Denver', _5=None, _6=None, _7='Airport')\n",
    "\n"
   ]
  },
  {
   "cell_type": "code",
   "execution_count": null,
   "id": "ceec878b-e828-41df-af5c-9dd02c73b538",
   "metadata": {},
   "outputs": [],
   "source": [
    "\n",
    "#  And compare this cell to the next\n",
    "#\n",
    "\n",
    "l_query  = \"\"\"\n",
    "   MATCH (n) \n",
    "   RETURN n\n",
    "   \"\"\".format()\n",
    "\n",
    "l_return = my_graph.query(l_query)\n",
    "   #\n",
    "for l_each in l_return.itertuples():\n",
    "   print(l_each)\n",
    "\n",
    "#  Returns,\n",
    "#\n",
    "#     Pandas(Index=0, _1=1, _2=['Airport'], _3='Airport', _4='ORD', _5='Chicago O-Hare', _6='node', _7=nan, _8=nan)\n",
    "#     Pandas(Index=1, _1=2, _2=['Restaurant'], _3=nan, _4=nan, _5=nan, _6='node', _7='PAP', _8='Pappadeauxs Seafood Kitchen')\n",
    "#     Pandas(Index=2, _1=0, _2=['Airport'], _3='Airport', _4='MKE', _5='Milwaukee', _6='node', _7=nan, _8=nan)\n",
    "#     Pandas(Index=3, _1=281474976710656, _2=['Airport'], _3='Airport', _4='SJC', _5='San Jose', _6='node', _7=nan, _8=nan)\n",
    "#     Pandas(Index=4, _1=281474976710657, _2=['Airport'], _3='Airport', _4='DEN', _5='Denver', _6='node', _7=nan, _8=nan)\n"
   ]
  },
  {
   "cell_type": "code",
   "execution_count": 21,
   "id": "3067a157-3d72-4945-93f5-af4c1f98d304",
   "metadata": {},
   "outputs": [
    {
     "data": {
      "application/vnd.jupyter.widget-view+json": {
       "model_id": "6362e70a52624d61bf98800c5b8f0a4a",
       "version_major": 2,
       "version_minor": 0
      },
      "text/plain": [
       "          0/? [?op/s]"
      ]
     },
     "metadata": {},
     "output_type": "display_data"
    },
    {
     "name": "stdout",
     "output_type": "stream",
     "text": [
      "0   2   ['Restaurant']\n",
      "1   1   ['Airport']\n",
      "2   0   ['Airport']\n",
      "3   281474976710657   ['Airport']\n",
      "4   281474976710656   ['Airport']\n"
     ]
    }
   ],
   "source": [
    "\n",
    "#  I can refer to these values by ordinal positioning, but, this breaks as fields move, get added, other.\n",
    "#\n",
    "\n",
    "l_query  = \"\"\"\n",
    "   MATCH (n) \n",
    "   RETURN n\n",
    "   \"\"\".format()\n",
    "\n",
    "l_return = my_graph.query(l_query)\n",
    "   #\n",
    "for l_each in l_return.itertuples():\n",
    "   print( str(l_each[0]) + \"   \" +  str(l_each[1]) + \"   \" + str(l_each[2]) )\n",
    "\n",
    "#  Returns,\n",
    "#\n",
    "#     0   2   ['Restaurant']\n",
    "#     1   1   ['Airport']\n",
    "#     2   0   ['Airport']\n",
    "#     3   281474976710657   ['Airport']\n",
    "#     4   281474976710656   ['Airport']\n"
   ]
  }
 ],
 "metadata": {
  "kernelspec": {
   "display_name": "Python 3 (ipykernel)",
   "language": "python",
   "name": "python3"
  },
  "language_info": {
   "codemirror_mode": {
    "name": "ipython",
    "version": 3
   },
   "file_extension": ".py",
   "mimetype": "text/x-python",
   "name": "python",
   "nbconvert_exporter": "python",
   "pygments_lexer": "ipython3",
   "version": "3.8.13"
  }
 },
 "nbformat": 4,
 "nbformat_minor": 5
}
