{
 "cells": [
  {
   "cell_type": "markdown",
   "id": "c54fd830-1317-4a52-b610-ef9716e5d744",
   "metadata": {
    "tags": []
   },
   "source": [
    "#  Setup: Display options"
   ]
  },
  {
   "cell_type": "code",
   "execution_count": null,
   "id": "8a38ebd7-d1d9-47a8-955c-a8270b024543",
   "metadata": {},
   "outputs": [],
   "source": [
    "\n",
    "#  Setting display options \n",
    "\n",
    "import pandas as pd\n",
    "   #\n",
    "pd.set_option(\"display.width\", 480)\n",
    "\n",
    "#  Sets horizontal scroll for wide outputs\n",
    "#\n",
    "from IPython.display import display, HTML\n",
    "display(HTML(\"\"))\n",
    "\n",
    "from tabulate import tabulate\n",
    "\n",
    "print(\"--\")\n"
   ]
  },
  {
   "cell_type": "markdown",
   "id": "3ab7ce90-67cf-462c-94a6-3c8c9d0754b3",
   "metadata": {},
   "source": [
    "# Setup: Connectivity"
   ]
  },
  {
   "cell_type": "code",
   "execution_count": null,
   "id": "e87b75ba-c072-4111-8cca-4b4f394a0fce",
   "metadata": {},
   "outputs": [],
   "source": [
    "\n",
    "from katana import remote\n",
    "\n",
    "my_client = remote.Client()\n",
    "\n",
    "print(my_client)\n"
   ]
  },
  {
   "cell_type": "code",
   "execution_count": null,
   "id": "d3a77f99-f11b-4105-ab43-17ce605b15e8",
   "metadata": {},
   "outputs": [],
   "source": [
    "\n",
    "NUM_PARTITIONS  = 3\n",
    "   #\n",
    "DB_NAME         = \"my_db\"\n",
    "GRAPH_NAME      = \"my_graph\"\n",
    "\n",
    "print(\"--\")\n"
   ]
  },
  {
   "cell_type": "code",
   "execution_count": null,
   "id": "7f2292b8-7df0-49a0-b3da-523f56cfe4f8",
   "metadata": {},
   "outputs": [],
   "source": [
    "\n",
    "#  DELETE ALL GRAPHS\n",
    "\n",
    "for l_database in my_client.databases():\n",
    "   for l_graph in my_client.get_database(name=l_database.name).graphs_in_database():\n",
    "      l_handle=my_client.get_database(name=l_database.name).get_graph_by_id(id=l_graph.graph_id)\n",
    "      l_handle.delete()\n",
    "\n",
    "for l_graph in my_client.graphs():\n",
    "   print(\"GRAPH ID: \", l_graph.graph_id, \"      GRAPH Version: \", l_graph.version)\n",
    "\n",
    "print(\"--\")\n"
   ]
  },
  {
   "cell_type": "code",
   "execution_count": null,
   "id": "71f69a0e-451b-4679-b49c-5db1208d4c8f",
   "metadata": {},
   "outputs": [],
   "source": [
    "\n",
    "#  DELETE ALL DATABASES\n",
    "\n",
    "for l_database in my_client.databases():\n",
    "   if (l_database.name != \"default\"):\n",
    "      my_client.get_database(name=l_database.name).delete_database()\n",
    "      print(\"--\")\n",
    "\n",
    "for l_database in my_client.databases():\n",
    "   print(\"DB ID: \", l_database.database_id, \"     DB Name: \", l_database.name)\n"
   ]
  },
  {
   "cell_type": "code",
   "execution_count": null,
   "id": "a3b3bc00-fafb-481d-ba5a-8b52ae7d6e79",
   "metadata": {},
   "outputs": [],
   "source": [
    "\n",
    "#  CREATE DATABASE\n",
    "\n",
    "my_database = my_client.create_database(name=DB_NAME)\n",
    "\n",
    "print(my_database.database_id)\n"
   ]
  },
  {
   "cell_type": "code",
   "execution_count": null,
   "id": "b8ba088b-2ec5-4b2a-8171-3c87ddffb47c",
   "metadata": {},
   "outputs": [],
   "source": [
    "\n",
    "#  CREATE GRAPH\n",
    "\n",
    "my_graph = my_client.get_database(name=DB_NAME).create_graph(name=GRAPH_NAME, num_partitions=NUM_PARTITIONS)\n",
    "\n",
    "print(my_graph)\n"
   ]
  },
  {
   "cell_type": "code",
   "execution_count": null,
   "id": "863f948b-cec2-42fb-9287-2a3bcf3e8b39",
   "metadata": {},
   "outputs": [],
   "source": [
    "\n",
    "#  CONNECT TO GRAPH\n",
    "\n",
    "my_graph, *_ = my_client.get_database(name=DB_NAME).find_graphs_by_name(GRAPH_NAME)\n",
    "\n",
    "print(my_graph)\n"
   ]
  },
  {
   "cell_type": "markdown",
   "id": "0f9a456b-e425-454d-83a2-5b2c3e7fa666",
   "metadata": {},
   "source": [
    "# Setup: For test .."
   ]
  },
  {
   "cell_type": "code",
   "execution_count": null,
   "id": "9511e9f3-bf32-4c66-b66c-382ec5e0ee42",
   "metadata": {},
   "outputs": [],
   "source": [
    "\n",
    "#   Build a data structure ..\n",
    "#\n",
    "\n",
    "import pandas as pd\n",
    "\n",
    "\n",
    "l_UmlsVocabularyNodes         = [\n",
    "   {\"id\": \"XX-1001\", \"LABEL\": \"UmlsVocabulary\"},\n",
    "   {\"id\": \"XX-1002\", \"LABEL\": \"UmlsVocabulary\"},\n",
    "   {\"id\": \"XX-1003\", \"LABEL\": \"UmlsVocabulary\"},\n",
    "   {\"id\": \"XX-1004\", \"LABEL\": \"UmlsVocabulary\"},\n",
    "   ]\n",
    "\n",
    "l_recd3 = { \"id\": \"XX-1005\", \"vocabulary_code\": \"MMM\", \"LABEL\": \"UmlsVocabulary\" }\n",
    "   #\n",
    "l_UmlsVocabularyNodes.append(l_recd3)\n",
    "\n",
    "df_UmlsVocabularyNodes = pd.DataFrame.from_records(l_UmlsVocabularyNodes       ) \n",
    "\n",
    "print(\"--\")\n",
    "\n"
   ]
  },
  {
   "cell_type": "code",
   "execution_count": null,
   "id": "8c35562b-6a20-42cb-9f44-093e15c7f687",
   "metadata": {},
   "outputs": [],
   "source": [
    "\n",
    "print(df_UmlsVocabularyNodes)\n",
    "\n",
    "#  Sample output,\n",
    "#\n",
    "#             id           LABEL vocabulary_code\n",
    "#     0  XX-1001  UmlsVocabulary             NaN\n",
    "#     1  XX-1002  UmlsVocabulary             NaN\n",
    "#     2  XX-1003  UmlsVocabulary             NaN\n",
    "#     3  XX-1004  UmlsVocabulary             NaN\n",
    "#     4  XX-1005  UmlsVocabulary             MMM\n"
   ]
  },
  {
   "cell_type": "code",
   "execution_count": null,
   "id": "2d1b949b-7a13-4c73-98c1-f1f2ea5aafea",
   "metadata": {},
   "outputs": [],
   "source": [
    "\n",
    "#  Build a data structure ..\n",
    "#\n",
    "\n",
    "import pandas as pd\n",
    "\n",
    "\n",
    "df_PatientVisit = pd.DataFrame([\n",
    "   [ \"XX-1001\", \"{'x-col': 'XX-1001'}\", \"PatientVisit\"],\n",
    "   [ \"XX-1002\", \"{'x-col': 'XX-1002'}\", \"PatientVisit\"],\n",
    "   [ \"XX-1003\", \"{'x-col': 'XX-1003'}\", \"PatientVisit\"],\n",
    "   [ \"XX-1004\", \"{'x-col': 'XX-1004'}\", \"PatientVisit\"],\n",
    "      #\n",
    "], columns = [\"id\", \"transcription\", \"LABEL\"])\n",
    "\n",
    "print(\"--\")\n",
    "\n"
   ]
  },
  {
   "cell_type": "markdown",
   "id": "e721f96b-147e-4ed6-ad3c-d4621dca8565",
   "metadata": {},
   "source": [
    "#  Step 00:  Actual Test .."
   ]
  },
  {
   "cell_type": "code",
   "execution_count": null,
   "id": "f89bebcb-a530-4a0a-b4a8-3a38926dfbb1",
   "metadata": {},
   "outputs": [],
   "source": [
    "\n",
    "#  This cell hangs upon execution, if run first, or second (after the cell below).\n",
    "#\n",
    "\n",
    "from katana.remote import import_data\n",
    "\n",
    "with import_data.DataFrameImporter(my_graph) as df_importer:   \n",
    "     \n",
    "   df_importer.nodes_dataframe(\n",
    "      df_UmlsVocabularyNodes,\n",
    "      id_column             = \"id\",\n",
    "      id_space              = \"UmlsVocabulary\",  \n",
    "      label                 = \"UmlsVocabulary\",  \n",
    "      ) \n",
    "\n",
    "   df_importer.insert()\n",
    "\n",
    "print(\"--\")\n",
    "\n"
   ]
  },
  {
   "cell_type": "code",
   "execution_count": null,
   "id": "14c63779-ace7-4df3-af23-0171f663546e",
   "metadata": {},
   "outputs": [],
   "source": [
    "\n",
    "#  This cell work perfectly upon execution ..\n",
    "#\n",
    "\n",
    "from katana.remote import import_data\n",
    "\n",
    "with import_data.DataFrameImporter(my_graph) as df_importer:   \n",
    "     \n",
    "   df_importer.nodes_dataframe(\n",
    "      df_PatientVisit,\n",
    "      id_column             = \"id\",\n",
    "      id_space              = \"PatientVisit\",  \n",
    "      label                 = \"PatientVisit\",  \n",
    "      ) \n",
    "\n",
    "   df_importer.insert()\n",
    "\n",
    "print(\"--\")\n",
    "\n"
   ]
  },
  {
   "cell_type": "code",
   "execution_count": null,
   "id": "5d607abb-6e9b-4dfd-9b10-302c237556d6",
   "metadata": {},
   "outputs": [],
   "source": [
    "\n"
   ]
  }
 ],
 "metadata": {
  "kernelspec": {
   "display_name": "Python 3 (ipykernel)",
   "language": "python",
   "name": "python3"
  },
  "language_info": {
   "codemirror_mode": {
    "name": "ipython",
    "version": 3
   },
   "file_extension": ".py",
   "mimetype": "text/x-python",
   "name": "python",
   "nbconvert_exporter": "python",
   "pygments_lexer": "ipython3",
   "version": "3.8.15"
  }
 },
 "nbformat": 4,
 "nbformat_minor": 5
}
