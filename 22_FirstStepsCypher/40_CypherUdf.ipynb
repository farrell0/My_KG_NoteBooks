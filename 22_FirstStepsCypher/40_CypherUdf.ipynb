{
 "cells": [
  {
   "cell_type": "code",
   "execution_count": null,
   "id": "6b269332-d57e-49cd-9f40-b3bc0f3af9ad",
   "metadata": {},
   "outputs": [],
   "source": [
    "\n",
    "#  Using UDFs in the context of a Cypher traversal ..\n",
    "#\n",
    "\n"
   ]
  },
  {
   "cell_type": "markdown",
   "id": "d3ebe820-bc6d-4948-b668-8b81cd3cbf29",
   "metadata": {
    "tags": []
   },
   "source": [
    "#  Setup stuff: Connectivity"
   ]
  },
  {
   "cell_type": "code",
   "execution_count": null,
   "id": "b93fc581-8008-436e-bace-76e22e991185",
   "metadata": {},
   "outputs": [],
   "source": [
    "\n",
    "%xmode Minimal\n",
    "\n",
    "\n",
    "#  Setting display options \n",
    "#\n",
    "\n",
    "import pandas as pd\n",
    "   #\n",
    "pd.set_option(\"display.width\", 480)\n",
    "\n",
    "#  Sets horizontal scroll for wide outputs\n",
    "#\n",
    "from IPython.display import display, HTML\n",
    "display(HTML(\"\"))\n",
    "\n",
    "from tabulate import tabulate\n",
    "\n",
    "print(\"--\")\n"
   ]
  },
  {
   "cell_type": "code",
   "execution_count": null,
   "id": "1ea957d6-30c6-427a-ae4e-15ecfba0c4f9",
   "metadata": {},
   "outputs": [],
   "source": [
    "\n",
    "from katana import remote\n",
    "from katana.remote import import_data\n",
    "\n",
    "my_client = remote.Client()\n",
    "\n",
    "print(my_client)\n"
   ]
  },
  {
   "cell_type": "code",
   "execution_count": null,
   "id": "97571016-7c02-4e90-a75a-136a0dacd35f",
   "metadata": {},
   "outputs": [],
   "source": [
    "\n",
    "NUM_PARTITIONS  = 3\n",
    "   #\n",
    "DB_NAME         = \"my_db\"\n",
    "GRAPH_NAME      = \"my_graph\"\n",
    "\n",
    "print(\"--\")\n"
   ]
  },
  {
   "cell_type": "code",
   "execution_count": null,
   "id": "8ed2d715-aaeb-4381-9216-46fa0dd421b6",
   "metadata": {},
   "outputs": [],
   "source": [
    "\n",
    "#  DELETE ALL GRAPHS\n",
    "\n",
    "for l_database in my_client.databases():\n",
    "   for l_graph in my_client.get_database(name=l_database.name).graphs_in_database():\n",
    "      l_handle=my_client.get_database(name=l_database.name).get_graph_by_id(id=l_graph.graph_id)\n",
    "      l_handle.delete()\n",
    "\n",
    "for l_graph in my_client.graphs():\n",
    "   print(\"GRAPH ID: \", l_graph.graph_id, \"      GRAPH Version: \", l_graph.version)\n",
    "\n",
    "print(\"--\")\n"
   ]
  },
  {
   "cell_type": "code",
   "execution_count": null,
   "id": "d4283a71-78a1-48a4-89ce-97eb1e52c6de",
   "metadata": {},
   "outputs": [],
   "source": [
    "\n",
    "#  DELETE ONE SPECIFIC GRAPH ONLY\n",
    "\n",
    "for l_database in my_client.databases():\n",
    "   for l_graph in my_client.get_database(name = l_database.name).graphs_in_database():\n",
    "      if ((l_database.name == DB_NAME) and (l_graph.name == GRAPH_NAME)):   \n",
    "         l_handle = my_client.get_database(name = l_database.name).get_graph_by_id(id = l_graph.graph_id)\n",
    "         l_handle.delete()\n",
    "\n",
    "for l_graph in my_client.graphs():\n",
    "   print(\"GRAPH ID: \", l_graph.graph_id, \"      GRAPH Version: \", l_graph.version, \"   Graph Name: \", l_graph.name)\n",
    "\n",
    "print(\"--\")\n"
   ]
  },
  {
   "cell_type": "code",
   "execution_count": null,
   "id": "cf9c16ec-913f-46a8-bccc-76fc92c54866",
   "metadata": {},
   "outputs": [],
   "source": [
    "\n",
    "#  DELETE ALL DATABASES\n",
    "\n",
    "for l_database in my_client.databases():\n",
    "   if (l_database.name != \"default\"):\n",
    "      my_client.get_database(name=l_database.name).delete_database()\n",
    "      print(\"--\")\n",
    "\n",
    "for l_database in my_client.databases():\n",
    "   print(\"DB ID: \", l_database.database_id, \"     DB Name: \", l_database.name)\n"
   ]
  },
  {
   "cell_type": "code",
   "execution_count": null,
   "id": "6e72729c-265b-40e4-a3ee-674b793bed81",
   "metadata": {},
   "outputs": [],
   "source": [
    "\n",
    "#  CREATE DATABASE\n",
    "\n",
    "my_database = my_client.create_database(name=DB_NAME)\n",
    "\n",
    "print(my_database.database_id)\n"
   ]
  },
  {
   "cell_type": "code",
   "execution_count": null,
   "id": "2fc31da4-44c3-4bd3-b160-b315766dcd88",
   "metadata": {},
   "outputs": [],
   "source": [
    "\n",
    "#  CREATE GRAPH\n",
    "\n",
    "my_graph = my_client.get_database(name=DB_NAME).create_graph(name=GRAPH_NAME, num_partitions=NUM_PARTITIONS)\n",
    "\n",
    "print(my_graph)\n"
   ]
  },
  {
   "cell_type": "code",
   "execution_count": null,
   "id": "c5db6505-7fc8-4779-b194-9ed8945b9a90",
   "metadata": {},
   "outputs": [],
   "source": [
    "\n",
    "#  CONNECT TO GRAPH\n",
    "\n",
    "my_graph, *_ = my_client.get_database(name=DB_NAME).find_graphs_by_name(GRAPH_NAME)\n",
    "\n",
    "print(my_graph)\n"
   ]
  },
  {
   "cell_type": "markdown",
   "id": "61556ce5-9044-42bc-bb13-80b6a514ae27",
   "metadata": {
    "tags": []
   },
   "source": [
    "# Create: Vertices/nodes, edges .."
   ]
  },
  {
   "cell_type": "code",
   "execution_count": null,
   "id": "f7efb47b-3c7d-45f3-acc8-ae29c3e2a1bf",
   "metadata": {},
   "outputs": [],
   "source": [
    "\n",
    "import pandas as pd\n",
    "\n",
    "print(\"--\")\n"
   ]
  },
  {
   "cell_type": "code",
   "execution_count": null,
   "id": "8e7ecf31-d69e-4b5a-8a37-0cfb4c32fd33",
   "metadata": {},
   "outputs": [],
   "source": [
    "\n",
    "#  Vertices/Nodes, Airports ..\n",
    "\n",
    "df_airports = pd.DataFrame([\n",
    "       #\n",
    "   [\"MKE\", \"Milwaukee\"               , \"Airport\"],\n",
    "   [\"ORD\", \"Chicago O-Hare\"          , \"Airport\"],\n",
    "   [\"SJC\", \"San Jose\"                , \"Airport\"],\n",
    "   [\"DEN\", \"Denver\"                  , \"Airport\"],\n",
    "       #\n",
    "   ], columns = [\"airport_code\", \"airport_name\", \"LABEL\"])\n",
    "\n",
    "df_airports.head(20)\n"
   ]
  },
  {
   "cell_type": "code",
   "execution_count": null,
   "id": "60eaac88-4dd5-47d3-94b3-0f5fd0b243f2",
   "metadata": {},
   "outputs": [],
   "source": [
    "\n",
    "#  Create the edge, flights ..\n",
    "\n",
    "df_flights = pd.DataFrame([\n",
    "      #\n",
    "   [\"MKE\", \"ORD\",   66, 1, \"FLIES_TO\" ],\n",
    "   [\"ORD\", \"MKE\",   66, 1, \"FLIES_TO\" ],\n",
    "      #\n",
    "   [\"ORD\", \"DEN\",  886, 1, \"FLIES_TO\" ],\n",
    "   [\"DEN\", \"ORD\",  886, 1, \"FLIES_TO\" ],\n",
    "      #\n",
    "   [\"SJC\", \"DEN\",  948, 1, \"FLIES_TO\" ],                           #  Notice SJC flies to/from Denver\n",
    "   [\"DEN\", \"SJC\",  948, 1, \"FLIES_TO\" ],\n",
    "      #\n",
    "   [\"SJC\", \"ORD\", 1829, 1, \"FLIES_TO\" ],                           #  Notice SJC flies to ORD, but not ORD to SJC\n",
    "      #\n",
    "   ], columns = [\"START_ID\", \"END_ID\", \"DISTANCE\", \"NUM_HOPS\", \"TYPE\"])\n",
    "\n",
    "df_flights.head(30)\n"
   ]
  },
  {
   "cell_type": "code",
   "execution_count": null,
   "id": "2f22872f-dbea-4852-a5bb-1e515937cd85",
   "metadata": {},
   "outputs": [],
   "source": [
    "\n",
    "# Import the 2 previously created Python DataFrames into KatanaGraph ..\n",
    "\n",
    "with import_data.DataFrameImporter(my_graph) as df_importer:   \n",
    "    \n",
    "   df_importer.nodes_dataframe(df_airports,                    #  Aiports set of Nodes\n",
    "      id_column             = \"airport_code\",\n",
    "      id_space              = \"Airport\",  \n",
    "      label                 = \"Airport\",  \n",
    "      )\n",
    "   \n",
    "   df_importer.edges_dataframe(df_flights,                     #  Our Edge, specifying the relationship between Airport --> FLIES_TO --> Airport\n",
    "      source_id_space       = \"Airport\", \n",
    "      destination_id_space  = \"Airport\",   \n",
    "      source_column         = \"START_ID\",\n",
    "      destination_column    = \"END_ID\",\n",
    "      type                  = \"FLIES_TO\"\n",
    "      )\n",
    "\n",
    "   df_importer.insert()\n",
    "\n",
    "print(\"--\")\n"
   ]
  },
  {
   "cell_type": "code",
   "execution_count": null,
   "id": "ce3ecfbe-cca0-41dd-bb15-594f2d545365",
   "metadata": {},
   "outputs": [],
   "source": [
    "\n",
    "display(my_graph.num_nodes())\n",
    "display(my_graph.num_edges())\n"
   ]
  },
  {
   "cell_type": "code",
   "execution_count": null,
   "id": "4850ba7c-2314-44be-972e-51ef90f2cb71",
   "metadata": {},
   "outputs": [],
   "source": [
    "\n",
    "#  What's in the vertices/nodes ..\n",
    "\n",
    "l_query  = \"\"\"\n",
    "   MATCH ( n ) \n",
    "   RETURN n\n",
    "   \"\"\".format()\n",
    "\n",
    "l_return = my_graph.query_unpaginated(l_query)\n",
    "\n",
    "print(tabulate(l_return, headers='keys', tablefmt='psql'))\n"
   ]
  },
  {
   "cell_type": "code",
   "execution_count": null,
   "id": "6160bd57-15aa-4ff0-9269-9431e6f7dd2b",
   "metadata": {},
   "outputs": [],
   "source": [
    "\n",
    "#  What's in the edge .. \n",
    "\n",
    "l_query  = \"\"\"\n",
    "   MATCH (n) - [r] -> (m)\n",
    "   RETURN r\n",
    "   // RETURN  n.id AS FROM, m.id AS TO, r.DISTANCE AS DISTANCE, r.NUM_HOPS AS NUM_HOPS\n",
    "   \"\"\".format()\n",
    "\n",
    "l_return = my_graph.query_unpaginated(l_query)\n",
    "\n",
    "print(tabulate(l_return, headers='keys', tablefmt='psql'))\n"
   ]
  },
  {
   "cell_type": "code",
   "execution_count": null,
   "id": "793186d1-d998-4662-b5f6-958a1a752892",
   "metadata": {},
   "outputs": [],
   "source": [
    "\n",
    "#  Full graph\n",
    "\n",
    "l_query  = \"\"\"\n",
    "   MATCH (n) - [ r ] -> (m)\n",
    "   RETURN n, r, m\n",
    "   \"\"\".format()\n",
    "\n",
    "l_return = my_graph.query_unpaginated(l_query, contextualize=True)\n",
    "\n",
    "\n",
    "l_return.view()\n",
    "\n",
    "# print(l_result)\n",
    "# print(tabulate(l_result, headers='keys', tablefmt='psql'))\n"
   ]
  },
  {
   "cell_type": "markdown",
   "id": "eeba3597-8169-4035-8aa1-1cd902882d1e",
   "metadata": {},
   "source": [
    "# Run a Cypher UDF .."
   ]
  },
  {
   "cell_type": "code",
   "execution_count": 31,
   "id": "9f73b9d1-8f99-4ca9-9682-37152e751178",
   "metadata": {},
   "outputs": [
    {
     "data": {
      "application/vnd.jupyter.widget-view+json": {
       "model_id": "3c27c44b3d6849c0ae0585c9f7320e41",
       "version_major": 2,
       "version_minor": 0
      },
      "text/plain": [
       "          0/? [?op/s]"
      ]
     },
     "metadata": {},
     "output_type": "display_data"
    },
    {
     "name": "stderr",
     "output_type": "stream",
     "text": [
      "\n",
      "Host 0 errors:\n",
      "Traceback (most recent call last):\n",
      "  File \"/opt/conda/lib/python3.8/site-packages/katana/worker/worker.py\", line 111, in execute\n",
      "    value = function(graph)\n",
      "  File \"/opt/conda/lib/python3.8/site-packages/katana/remote/aio/graph.py\", line 300, in <lambda>\n",
      "    await self.run(lambda dist_g: dist_g.register_udf_(func.__name__, udf_meta))\n",
      "ValueError: Failed to register UDF. UDF with name my_changecase already exists (LSPGGraph.cpp:1016): invalid argument\n",
      "\n",
      "Host 1 errors:\n",
      "Traceback (most recent call last):\n",
      "  File \"/opt/conda/lib/python3.8/site-packages/katana/worker/worker.py\", line 111, in execute\n",
      "    value = function(graph)\n",
      "  File \"/opt/conda/lib/python3.8/site-packages/katana/remote/aio/graph.py\", line 300, in <lambda>\n",
      "    await self.run(lambda dist_g: dist_g.register_udf_(func.__name__, udf_meta))\n",
      "ValueError: Failed to register UDF. UDF with name my_changecase already exists (LSPGGraph.cpp:1016): invalid argument\n",
      "\n",
      "Host 2 errors:\n",
      "Traceback (most recent call last):\n",
      "  File \"/opt/conda/lib/python3.8/site-packages/katana/worker/worker.py\", line 111, in execute\n",
      "    value = function(graph)\n",
      "  File \"/opt/conda/lib/python3.8/site-packages/katana/remote/aio/graph.py\", line 300, in <lambda>\n",
      "    await self.run(lambda dist_g: dist_g.register_udf_(func.__name__, udf_meta))\n",
      "ValueError: Failed to register UDF. UDF with name my_changecase already exists (LSPGGraph.cpp:1016): invalid argument\n"
     ]
    },
    {
     "ename": "ValueError",
     "evalue": "Failed to register UDF. UDF with name my_changecase already exists (LSPGGraph.cpp:1016): invalid argument",
     "output_type": "error",
     "traceback": [
      "\u001b[0;31mValueError\u001b[0m\u001b[0;31m:\u001b[0m Failed to register UDF. UDF with name my_changecase already exists (LSPGGraph.cpp:1016): invalid argument\n"
     ]
    }
   ],
   "source": [
    "\n",
    "#  Define a Python function which will become our Cypher UDF\n",
    "#\n",
    "\n",
    "def my_changecase(arg1: str) -> str:\n",
    "    \n",
    "#  from katana.distributed import MPI\n",
    "#     #\n",
    "#  l_comm         = MPI.COMM_WORLD\n",
    "#  l_nodenumber   = (l_comm.Get_rank())\n",
    "#   \n",
    "#   \n",
    "   l_return = \"\"\n",
    "      #\n",
    "   if (arg1.isupper()):\n",
    "      l_return = arg1.lower()\n",
    "   else:\n",
    "      l_return = arg1.upper()\n",
    "    \n",
    "   print(\"This ran on KG Worker node number: %d\" % (l_nodenumber))\n",
    "   return l_return\n",
    "\n",
    "\n",
    "# try:\n",
    "#    my_graph.deregister_udf(my_changecase)\n",
    "# except:\n",
    "#    pass\n",
    "\n",
    "my_graph.register_udf(my_changecase)\n",
    "\n",
    "print(\"--\")\n"
   ]
  },
  {
   "cell_type": "code",
   "execution_count": 30,
   "id": "079542e9-c678-4f68-8f8d-30ba033ad025",
   "metadata": {},
   "outputs": [
    {
     "data": {
      "application/vnd.jupyter.widget-view+json": {
       "model_id": "e020a552699a45399b5696c17ee1e748",
       "version_major": 2,
       "version_minor": 0
      },
      "text/plain": [
       "          0/? [?op/s]"
      ]
     },
     "metadata": {},
     "output_type": "display_data"
    },
    {
     "name": "stderr",
     "output_type": "stream",
     "text": [
      "\n",
      "Host 0 errors:\n",
      "Traceback (most recent call last):\n",
      "  File \"/opt/conda/lib/python3.8/site-packages/katana/worker/worker.py\", line 111, in execute\n",
      "    value = function(graph)\n",
      "  File \"/opt/conda/lib/python3.8/site-packages/katana/remote/aio/graph.py\", line 304, in <lambda>\n",
      "    await self.run(lambda dist_g: dist_g.deregister_udf_(name))\n",
      "TypeError: deregister_udf_(): incompatible function arguments. The following argument types are supported:\n",
      "    1. (self: katana.distributed_native.lspg.Graph, name: str) -> void\n",
      "\n",
      "Invoked with: <katana.distributed.Graph object at 0x7f74912cb9b0>, <function my_changecase at 0x7f7491337670>\n",
      "\n",
      "Host 1 errors:\n",
      "Traceback (most recent call last):\n",
      "  File \"/opt/conda/lib/python3.8/site-packages/katana/worker/worker.py\", line 111, in execute\n",
      "    value = function(graph)\n",
      "  File \"/opt/conda/lib/python3.8/site-packages/katana/remote/aio/graph.py\", line 304, in <lambda>\n",
      "    await self.run(lambda dist_g: dist_g.deregister_udf_(name))\n",
      "TypeError: deregister_udf_(): incompatible function arguments. The following argument types are supported:\n",
      "    1. (self: katana.distributed_native.lspg.Graph, name: str) -> void\n",
      "\n",
      "Invoked with: <katana.distributed.Graph object at 0x7fb25409c4b0>, <function my_changecase at 0x7fb25409f160>\n",
      "\n",
      "Host 2 errors:\n",
      "Traceback (most recent call last):\n",
      "  File \"/opt/conda/lib/python3.8/site-packages/katana/worker/worker.py\", line 111, in execute\n",
      "    value = function(graph)\n",
      "  File \"/opt/conda/lib/python3.8/site-packages/katana/remote/aio/graph.py\", line 304, in <lambda>\n",
      "    await self.run(lambda dist_g: dist_g.deregister_udf_(name))\n",
      "TypeError: deregister_udf_(): incompatible function arguments. The following argument types are supported:\n",
      "    1. (self: katana.distributed_native.lspg.Graph, name: str) -> void\n",
      "\n",
      "Invoked with: <katana.distributed.Graph object at 0x7f72a863a270>, <function my_changecase at 0x7f72972dd160>\n"
     ]
    },
    {
     "ename": "TypeError",
     "evalue": "deregister_udf_(): incompatible function arguments. The following argument types are supported:\n    1. (self: katana.distributed_native.lspg.Graph, name: str) -> void\n\nInvoked with: <katana.distributed.Graph object at 0x7f74912cb9b0>, <function my_changecase at 0x7f7491337670>",
     "output_type": "error",
     "traceback": [
      "\u001b[0;31mTypeError\u001b[0m\u001b[0;31m:\u001b[0m deregister_udf_(): incompatible function arguments. The following argument types are supported:\n    1. (self: katana.distributed_native.lspg.Graph, name: str) -> void\n\nInvoked with: <katana.distributed.Graph object at 0x7f74912cb9b0>, <function my_changecase at 0x7f7491337670>\n"
     ]
    }
   ],
   "source": [
    "\n",
    "my_graph.deregister_udf(my_changecase)\n"
   ]
  },
  {
   "cell_type": "code",
   "execution_count": null,
   "id": "ed499dfc-5742-4647-991f-96403fd0a036",
   "metadata": {},
   "outputs": [],
   "source": [
    "\n",
    "#  Test the UDF defined just above ..\n",
    "#\n",
    "\n",
    "l_query  = \"\"\"\n",
    "\n",
    "   MATCH (n: Airport) \n",
    "   SET n.airport_name = my_changecase(n.airport_name)\n",
    "   RETURN n\n",
    "   \n",
    "   \"\"\".format()\n",
    "\n",
    "l_return = my_graph.query_unpaginated(l_query)\n",
    "\n",
    "print(tabulate(l_return, headers='keys', tablefmt='psql'))\n",
    "\n",
    "\n",
    "\n",
    "\n",
    "\n"
   ]
  },
  {
   "cell_type": "code",
   "execution_count": null,
   "id": "a2ad6b05-6f20-4c12-96ee-9a13065058a5",
   "metadata": {},
   "outputs": [],
   "source": []
  },
  {
   "cell_type": "code",
   "execution_count": null,
   "id": "8040da5a-b247-4f1f-b8a2-e217297c4934",
   "metadata": {},
   "outputs": [],
   "source": [
    "\n",
    "\n",
    "def transform_to_smiles(inchi: str) -> str:\n",
    "    from rdkit import Chem\n",
    "    import numpy as np\n",
    "    if isinstance(inchi, str):\n",
    "        if len(inchi) == 0:\n",
    "            x = \"None\"\n",
    "        else:\n",
    "            try:\n",
    "                c_inchi = inchi\n",
    "                mol=Chem.inchi.MolFromInchi(c_inchi)\n",
    "                smiles=Chem.MolToSmiles(mol)\n",
    "                return smiles\n",
    "            except Exception as e:\n",
    "                    return ''\n",
    "\n",
    "    return ''\n",
    "\n",
    "\n",
    "def transform_to_smiles1_udf(strings):\n",
    "    import numpy as np\n",
    "    lambda_fn = np.vectorize(\n",
    "        lambda val: transform_to_smiles(val)\n",
    "        )\n",
    "    return lambda_fn(strings).tolist()\n",
    "\n",
    "\n",
    "# graph.deregister_udf('transform_to_smiles1_udf')\n",
    "graph.register_udf(transform_to_smiles1_udf)\n",
    "\n",
    "graph.query_unpaginated(\"\"\"Match (c:Compound) Set c.smiles = transform_to_smiles1_udf(c.data_inchi)\"\"\")\n"
   ]
  }
 ],
 "metadata": {
  "kernelspec": {
   "display_name": "Python 3 (ipykernel)",
   "language": "python",
   "name": "python3"
  },
  "language_info": {
   "codemirror_mode": {
    "name": "ipython",
    "version": 3
   },
   "file_extension": ".py",
   "mimetype": "text/x-python",
   "name": "python",
   "nbconvert_exporter": "python",
   "pygments_lexer": "ipython3",
   "version": "3.8.13"
  }
 },
 "nbformat": 4,
 "nbformat_minor": 5
}
