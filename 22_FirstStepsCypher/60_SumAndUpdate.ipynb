{
 "cells": [
  {
   "cell_type": "code",
   "execution_count": null,
   "id": "f02fcd93-2850-4e4d-b2b6-bfc8e7fbd58b",
   "metadata": {},
   "outputs": [],
   "source": [
    "\n",
    "import pandas as pd\n",
    "   #\n",
    "pd.set_option(\"display.width\", 480)\n",
    "\n",
    "#  Sets horizontal scroll for wide outputs\n",
    "#\n",
    "from IPython.display import display, HTML\n",
    "display(HTML(\"<style>pre { white-space: pre !important; }</style>\"))\n",
    "\n",
    "from tabulate import tabulate\n",
    "\n",
    "print(\"--\")\n"
   ]
  },
  {
   "cell_type": "markdown",
   "id": "d3ebe820-bc6d-4948-b668-8b81cd3cbf29",
   "metadata": {
    "tags": []
   },
   "source": [
    "#  Setup stuff: Connectivity"
   ]
  },
  {
   "cell_type": "code",
   "execution_count": null,
   "id": "1ea957d6-30c6-427a-ae4e-15ecfba0c4f9",
   "metadata": {},
   "outputs": [],
   "source": [
    "\n",
    "from katana import remote\n",
    "from katana.remote import import_data\n",
    "\n",
    "my_client = remote.Client()\n",
    "\n",
    "print(my_client)\n"
   ]
  },
  {
   "cell_type": "code",
   "execution_count": null,
   "id": "97571016-7c02-4e90-a75a-136a0dacd35f",
   "metadata": {},
   "outputs": [],
   "source": [
    "\n",
    "NUM_PARTITIONS  = 3\n",
    "   #\n",
    "DB_NAME         = \"my_db\"\n",
    "GRAPH_NAME      = \"my_graph\"\n",
    "\n",
    "print(\"--\")\n"
   ]
  },
  {
   "cell_type": "code",
   "execution_count": null,
   "id": "8ed2d715-aaeb-4381-9216-46fa0dd421b6",
   "metadata": {},
   "outputs": [],
   "source": [
    "\n",
    "#  DELETE ALL GRAPHS\n",
    "\n",
    "for l_database in my_client.databases():\n",
    "   for l_graph in my_client.get_database(name=l_database.name).graphs_in_database():\n",
    "      l_handle=my_client.get_database(name=l_database.name).get_graph_by_id(id=l_graph.graph_id)\n",
    "      l_handle.delete()\n",
    "\n",
    "for l_graph in my_client.graphs():\n",
    "   print(\"GRAPH ID: \", l_graph.graph_id, \"      GRAPH Version: \", l_graph.version)\n",
    "\n",
    "print(\"--\")\n"
   ]
  },
  {
   "cell_type": "code",
   "execution_count": null,
   "id": "cf9c16ec-913f-46a8-bccc-76fc92c54866",
   "metadata": {},
   "outputs": [],
   "source": [
    "\n",
    "#  DELETE ALL DATABASES\n",
    "\n",
    "for l_database in my_client.databases():\n",
    "   if (l_database.name != \"default\"):\n",
    "      my_client.get_database(name=l_database.name).delete_database()\n",
    "      print(\"--\")\n",
    "\n",
    "for l_database in my_client.databases():\n",
    "   print(\"DB ID: \", l_database.database_id, \"     DB Name: \", l_database.name)\n"
   ]
  },
  {
   "cell_type": "code",
   "execution_count": null,
   "id": "6e72729c-265b-40e4-a3ee-674b793bed81",
   "metadata": {},
   "outputs": [],
   "source": [
    "\n",
    "#  CREATE DATABASE\n",
    "\n",
    "my_database = my_client.create_database(name=DB_NAME)\n",
    "\n",
    "print(my_database.database_id)\n"
   ]
  },
  {
   "cell_type": "code",
   "execution_count": null,
   "id": "2fc31da4-44c3-4bd3-b160-b315766dcd88",
   "metadata": {},
   "outputs": [],
   "source": [
    "\n",
    "#  CREATE GRAPH\n",
    "#\n",
    "my_graph = my_client.get_database(name=DB_NAME).create_graph(name=GRAPH_NAME, num_partitions=NUM_PARTITIONS)\n",
    "\n",
    "print(my_graph)\n"
   ]
  },
  {
   "cell_type": "code",
   "execution_count": null,
   "id": "c5db6505-7fc8-4779-b194-9ed8945b9a90",
   "metadata": {},
   "outputs": [],
   "source": [
    "\n",
    "#  CONNECT TO GRAPH\n",
    "\n",
    "my_graph, *_ = my_client.get_database(name=DB_NAME).find_graphs_by_name(GRAPH_NAME)\n",
    "\n",
    "print(my_graph)\n"
   ]
  },
  {
   "cell_type": "markdown",
   "id": "61556ce5-9044-42bc-bb13-80b6a514ae27",
   "metadata": {
    "tags": []
   },
   "source": [
    "# Create: Vertices/nodes, edges .."
   ]
  },
  {
   "cell_type": "code",
   "execution_count": null,
   "id": "8e7ecf31-d69e-4b5a-8a37-0cfb4c32fd33",
   "metadata": {},
   "outputs": [],
   "source": [
    "\n",
    "#  Vertices/Nodes ..\n",
    "\n",
    "df_orders        = pd.DataFrame([\n",
    "       #\n",
    "   [101  , \"Rayees Order\"        ,    0,  \"Order\"     ],\n",
    "   [102  , \"Andrews Order\"       ,    0,  \"Order\"     ],\n",
    "   [103  , \"Gregs Order\"         ,    0,  \"Order\"     ],\n",
    "       #\n",
    "   ], columns = [\"id\", \"order_name\", \"total\", \"LABEL\"])\n",
    "      #\n",
    "print(tabulate(df_orders, headers='keys', tablefmt='psql'))\n",
    "\n",
    "\n",
    "df_products      = pd.DataFrame([\n",
    "       #\n",
    "   [401  , \"Apples\"              ,   2,  \"Product\"   ],\n",
    "   [402  , \"Carrots\"             ,  15,  \"Product\"   ],\n",
    "   [403  , \"Pears\"               ,   7,  \"Product\"   ],\n",
    "       #\n",
    "   ], columns = [\"id\", \"product_name\", \"unit_price\", \"LABEL\"])\n",
    "      #\n",
    "print(tabulate(df_products, headers='keys', tablefmt='psql'))\n",
    "\n"
   ]
  },
  {
   "cell_type": "code",
   "execution_count": null,
   "id": "60eaac88-4dd5-47d3-94b3-0f5fd0b243f2",
   "metadata": {},
   "outputs": [],
   "source": [
    "\n",
    "#  Create the edge ..\n",
    "\n",
    "df_purchased = pd.DataFrame([\n",
    "      #\n",
    "   [ 101, 401 ,\"CONTAINS\"],\n",
    "   [ 101, 402 ,\"CONTAINS\"],\n",
    "   [ 101, 403 ,\"CONTAINS\"],\n",
    "      #\n",
    "   [ 102, 401 ,\"CONTAINS\"],\n",
    "   [ 102, 401 ,\"CONTAINS\"],\n",
    "   [ 102, 403 ,\"CONTAINS\"],\n",
    "      #\n",
    "   [ 103, 403 ,\"CONTAINS\"],\n",
    "   [ 103, 403 ,\"CONTAINS\"],\n",
    "   [ 103, 403 ,\"CONTAINS\"],\n",
    "   [ 103, 403 ,\"CONTAINS\"],\n",
    "      #\n",
    "   ], columns = [\"START_ID\", \"END_ID\", \"TYPE\"])\n",
    "\n",
    "print(tabulate(df_purchased, headers='keys', tablefmt='psql'))\n"
   ]
  },
  {
   "cell_type": "code",
   "execution_count": null,
   "id": "56778c0d-7bd9-451d-84f2-e8c037000d6d",
   "metadata": {},
   "outputs": [],
   "source": [
    "\n",
    "\n",
    "with import_data.DataFrameImporter(my_graph) as df_importer:\n",
    "    \n",
    "   df_importer.nodes_dataframe(\n",
    "      df_orders[[\n",
    "         \"id\", \"order_name\", \"total\", \"LABEL\"\n",
    "      ]],\n",
    "      id_column  = \"id\",\n",
    "      id_space   = \"Orders\"\n",
    "      )\n",
    "    \n",
    "   df_importer.nodes_dataframe(\n",
    "      df_products[[\n",
    "         \"id\", \"product_name\", \"unit_price\", \"LABEL\"\n",
    "      ]],\n",
    "      id_column  = \"id\",\n",
    "      id_space   = \"Products\"\n",
    "      )\n",
    "    \n",
    "   df_importer.edges_dataframe(\n",
    "      df_purchased[[\n",
    "         \"START_ID\", \"END_ID\", \"TYPE\"]],\n",
    "      source_id_space      = \"Orders\",\n",
    "      destination_id_space = \"Products\",\n",
    "      source_column        = \"START_ID\",\n",
    "      destination_column   = \"END_ID\",\n",
    "      type                 = \"RELATES_TO\"\n",
    "      )\n",
    "   df_importer.edges_dataframe(\n",
    "      df_purchased[[\n",
    "         \"START_ID\", \"END_ID\", \"TYPE\"]],\n",
    "      source_id_space      = \"Products\",\n",
    "      destination_id_space = \"Orders\",\n",
    "      source_column        = \"END_ID\",\n",
    "      destination_column   = \"START_ID\",\n",
    "      type                 = \"RELATES_TO\"\n",
    "      )\n",
    "\n",
    "   df_importer.insert()\n",
    "\n",
    "print(\"--\")\n",
    "\n"
   ]
  },
  {
   "cell_type": "code",
   "execution_count": null,
   "id": "4850ba7c-2314-44be-972e-51ef90f2cb71",
   "metadata": {},
   "outputs": [],
   "source": [
    "\n",
    "#  What's in the vertices/nodes ..\n",
    "\n",
    "l_query  = \"\"\"\n",
    "   MATCH ( n ) \n",
    "   RETURN n\n",
    "   \"\"\".format()\n",
    "\n",
    "l_return = my_graph.query(l_query)\n",
    "\n",
    "print(tabulate(l_result, headers='keys', tablefmt='psql'))\n"
   ]
  },
  {
   "cell_type": "code",
   "execution_count": 57,
   "id": "6160bd57-15aa-4ff0-9269-9431e6f7dd2b",
   "metadata": {},
   "outputs": [
    {
     "data": {
      "application/vnd.jupyter.widget-view+json": {
       "model_id": "d3d85b9eb88346f6acf6f4e18734bbdf",
       "version_major": 2,
       "version_minor": 0
      },
      "text/plain": [
       "          0/? [?op/s]"
      ]
     },
     "metadata": {},
     "output_type": "display_data"
    },
    {
     "data": {
      "application/vnd.jupyter.widget-view+json": {
       "model_id": "046b7a2ce41d4d45aced71e30a460783",
       "version_major": 2,
       "version_minor": 0
      },
      "text/plain": [
       "          0/? [?op/s]"
      ]
     },
     "metadata": {},
     "output_type": "display_data"
    },
    {
     "data": {
      "application/vnd.jupyter.widget-view+json": {
       "model_id": "6064a8a658b841ac99a421d48b2bbc2f",
       "version_major": 2,
       "version_minor": 0
      },
      "text/plain": [
       "VBox(children=(HTML(value='\\n                <style>\\n                #jp-main-content-panel .widget-container…"
      ]
     },
     "metadata": {},
     "output_type": "display_data"
    }
   ],
   "source": [
    "#  What's in the graph .. \n",
    "\n",
    "l_result = my_graph.query(\"\"\"\n",
    "\n",
    "   MATCH (n) - [r] -> (m)\n",
    "   RETURN n, r, m\n",
    "   \n",
    "   \"\"\", contextualize=True)\n",
    "\n",
    "l_result.view()\n"
   ]
  },
  {
   "cell_type": "markdown",
   "id": "67b8ec21-6da9-4eba-86d9-593de9e79690",
   "metadata": {},
   "source": [
    "#  Finally now; Why we're here .."
   ]
  },
  {
   "cell_type": "code",
   "execution_count": 56,
   "id": "86c96301-e7d9-4fd8-9a57-737b5c7ea6b3",
   "metadata": {},
   "outputs": [
    {
     "data": {
      "application/vnd.jupyter.widget-view+json": {
       "model_id": "4c7a54a9e8ec4467882f83e9f022675c",
       "version_major": 2,
       "version_minor": 0
      },
      "text/plain": [
       "          0/? [?op/s]"
      ]
     },
     "metadata": {},
     "output_type": "display_data"
    },
    {
     "data": {
      "application/vnd.jupyter.widget-view+json": {
       "model_id": "e7da228e5f4640c6af5758aa28ae49a9",
       "version_major": 2,
       "version_minor": 0
      },
      "text/plain": [
       "VBox(children=(HTML(value='\\n                <style>\\n                #jp-main-content-panel .widget-container…"
      ]
     },
     "metadata": {},
     "output_type": "display_data"
    }
   ],
   "source": [
    "\n",
    "#  The traversal we are trying to run ..\n",
    "\n",
    "l_result = my_graph.query(\"\"\"\n",
    "\n",
    "   //  Just fetching, works\n",
    "   //\n",
    "   MATCH (n: Orders) - [r :CONTAINS ] -> (m: Product)\n",
    "   RETURN *\n",
    "   // RETURN n, sum(m.unit_price) AS x_cost\n",
    "   \n",
    "   \n",
    "   \n",
    "   //  Closest to original question, throws error\n",
    "   //\n",
    "   // MATCH (n: Order) - [r :CONTAINS ] -> (m: Product)\n",
    "   // WITH n, sum(m.unit_price) AS x_cost\n",
    "   // SET Order.total = x_cost\n",
    "   //\n",
    "   //  OperationError: backtrace (QueryClient.cpp:391): unable to translate openCypher parse tree to internal IR (OpGraph.cpp:226):\n",
    "   //  Syntax error: The query cannot be recognized by openCypher. (CypherOpGraphBuilder.cpp:63): TCK = SyntaxError:UnexpectedSyntax\n",
    "   //  Katana = SyntaxError:ParserError: TCK = SyntaxError:UnexpectedSyntax\n",
    "   //  Katana = SyntaxError:ParserError\n",
    "   \n",
    "   //  This also errors ..\n",
    "   //\n",
    "   // MATCH (n: Order) - [r :CONTAINS ] -> (m: Product)\n",
    "   // WITH sum(m.unit_price) AS x_cost\n",
    "   // SET Order.total = x_cost\n",
    "   \n",
    "   \"\"\", contextualize=True)\n",
    "\n",
    "l_result.view()\n",
    "\n",
    "\n",
    "#  Exact, original syntax ..\n",
    "#\n",
    "#  MATCH (loan)-[:hasLoanSnapshot]->(snapshot)\n",
    "#  WITH loan, sum(snapshot.loan_snapshot_flag) as loan_snapshots\n",
    "#  SET loan.loan_flag = loan_snapshots\n",
    "\n"
   ]
  }
 ],
 "metadata": {
  "kernelspec": {
   "display_name": "Python 3 (ipykernel)",
   "language": "python",
   "name": "python3"
  },
  "language_info": {
   "codemirror_mode": {
    "name": "ipython",
    "version": 3
   },
   "file_extension": ".py",
   "mimetype": "text/x-python",
   "name": "python",
   "nbconvert_exporter": "python",
   "pygments_lexer": "ipython3",
   "version": "3.8.13"
  }
 },
 "nbformat": 4,
 "nbformat_minor": 5
}
