{
 "cells": [
  {
   "cell_type": "code",
   "execution_count": 1,
   "id": "1857554e-a6a5-403e-9231-183dc678a09c",
   "metadata": {
    "tags": []
   },
   "outputs": [
    {
     "name": "stderr",
     "output_type": "stream",
     "text": [
      "VERBOSE: /source/external/katana/libgalois/include/katana/AsyncPool.h:152: 1440: async pool tids: 139798240261888, 139798238160640, 139798236059392, 139798233958144, 139798231856896, 139798229755648, 139798227654400, 139798225553152, 139798223451904, 139798221350656, 139798219249408, 139798217148160, 139798215046912, 139798212945664\n",
      "VERBOSE: /source/external/katana/libgalois/include/katana/AsyncPool.h:152: 1440: async pool tids: 139798210844416, 139798206646016, 139798202447616, 139798198249216, 139798194050816, 139798189852416, 139798185654016, 139798181455616\n",
      "VERBOSE: /source/external/katana/libgalois/include/katana/AsyncPool.h:152: 1440: async pool tids: 139798177257216, 139798168864512, 139798160471808, 139798152079104\n",
      "VERBOSE: /source/external/katana/libgalois/include/katana/AsyncPool.h:152: 1440: async pool tids: 139798143686400, 139798126905088\n",
      "VERBOSE: /source/external/katana/libgalois/include/katana/AsyncPool.h:152: 1440: async pool tids: 139798110123776, 139798108022528\n"
     ]
    },
    {
     "data": {
      "application/vnd.jupyter.widget-view+json": {
       "model_id": "7766785439934e25ae64ca13235161c7",
       "version_major": 2,
       "version_minor": 0
      },
      "text/plain": [
       "          0/? [?op/s]"
      ]
     },
     "metadata": {},
     "output_type": "display_data"
    }
   ],
   "source": [
    "import os\n",
    "os.environ['MODIN_ENGINE']='python'\n",
    "\n",
    "from katana.remote import Client, import_data, analytics\n",
    "from katana.example_data import get_rdg_dataset\n",
    "\n",
    "c = Client()\n",
    "test_graph = '/source/external/katana/external/test-datasets/rdg_datasets/ldbc_003/storage_format_version_6'\n",
    "remote_graph = c.create_graph(num_partitions=2)\n",
    "import_data.rdg(remote_graph, test_graph)"
   ]
  },
  {
   "cell_type": "code",
   "execution_count": 2,
   "id": "ea9feddb-f000-44fd-8a8b-757115f8f5b4",
   "metadata": {
    "tags": []
   },
   "outputs": [],
   "source": [
    "from katana.distributed.graph_api2 import Graph, InEdge, OutEdge, Node, NodeView, OutEdgeView, InEdgeView\n",
    "from katana.distributed.graph_api2 import KeyedColumnNode, KeyedColumnEdge\n",
    "import numpy.random\n",
    "import numpy as np"
   ]
  },
  {
   "cell_type": "markdown",
   "id": "a7280778-578c-4773-a6c4-e0a5ddd2dd1e",
   "metadata": {
    "tags": []
   },
   "source": [
    "# Some examples of Distributed API2\n",
    "\n",
    "The examples are executed uning the remote API `graph.run` method (`run_api2` for the transition period).\n",
    "The demo code then runs on a `dev` \"cluster\" using 2 partitions.\n",
    "This code is using LDBC003.\n",
    "\n",
    "May the demo Gods be kind to us.\n",
    "\n",
    "**Feel free to ask questions.**"
   ]
  },
  {
   "cell_type": "code",
   "execution_count": 3,
   "id": "a85376e1-9d01-430b-9812-262485850f09",
   "metadata": {
    "tags": []
   },
   "outputs": [
    {
     "data": {
      "application/vnd.jupyter.widget-view+json": {
       "model_id": "9d00c0a9ab6a43eabe93a96d63b339b6",
       "version_major": 2,
       "version_minor": 0
      },
      "text/plain": [
       "          0/? [?op/s]"
      ]
     },
     "metadata": {},
     "output_type": "display_data"
    },
    {
     "name": "stdout",
     "output_type": "stream",
     "text": [
      "\n",
      "Host 0 output:\n",
      "City Node Count 1343\n",
      "\n",
      "Host 1 output:\n",
      "City Node Count 45\n"
     ]
    }
   ],
   "source": [
    "def graph_api2_city_count(graph: Graph):\n",
    "    # Get all the Cities\n",
    "    city_sequence: Sequence[Node] = graph.nodes(labels=\"City\")  # Old API1: not available\n",
    "    # You can call nodes with restrictions (as above) or without nodes() to get all nodes.\n",
    "    print(\"City Node Count\", len(city_sequence))\n",
    "\n",
    "    # graph.nodes is an entity view on nodes. It has many of the same methods as \n",
    "    # graph.in_/out_edges which are views on edges. EntityViews also provide access\n",
    "    # to property and topology data.\n",
    "    \n",
    "remote_graph.run_api2(graph_api2_city_count)"
   ]
  },
  {
   "cell_type": "code",
   "execution_count": 4,
   "id": "1ecff30e-6904-4b49-98c6-b9d3e969c1ff",
   "metadata": {
    "tags": []
   },
   "outputs": [
    {
     "data": {
      "application/vnd.jupyter.widget-view+json": {
       "model_id": "3754171432c740cdbff474954dd241a6",
       "version_major": 2,
       "version_minor": 0
      },
      "text/plain": [
       "          0/? [?op/s]"
      ]
     },
     "metadata": {},
     "output_type": "display_data"
    },
    {
     "name": "stdout",
     "output_type": "stream",
     "text": [
      "\n",
      "Host 0 output:\n",
      "{Organisation & University}\n",
      "\n",
      "Host 1 output:\n",
      "{Person}\n"
     ]
    }
   ],
   "source": [
    "def graph_api2_cities(graph: Graph):\n",
    "    city_sequence: Sequence[Node] = graph.nodes(labels=\"City\")\n",
    "\n",
    "    # How do I find all the in edges for my cities?\n",
    "    distinct_src_labels = set()\n",
    "    \n",
    "    for city in city_sequence:\n",
    "        city: Node\n",
    "        for in_edge in graph.in_edges(city):\n",
    "            in_edge: InEdge\n",
    "            src_node: Node = graph.in_edges.src(in_edge)  # Old API1: graph.in_edge_src(in_edge)\n",
    "            distinct_src_labels.add(graph.nodes.labels(src_node))\n",
    "            \n",
    "    print(distinct_src_labels)\n",
    "    \n",
    "remote_graph.run_api2(graph_api2_cities)"
   ]
  },
  {
   "cell_type": "code",
   "execution_count": 5,
   "id": "52ea9060-12ff-4e1b-919a-34a4cb5dbacc",
   "metadata": {
    "tags": []
   },
   "outputs": [
    {
     "data": {
      "application/vnd.jupyter.widget-view+json": {
       "model_id": "12aa4d2e020e4d1d8f0592f6651f4868",
       "version_major": 2,
       "version_minor": 0
      },
      "text/plain": [
       "          0/? [?op/s]"
      ]
     },
     "metadata": {},
     "output_type": "display_data"
    },
    {
     "name": "stdout",
     "output_type": "stream",
     "text": [
      "\n",
      "Host 0 output:\n",
      "out_degree: 1\n",
      "\n",
      "Host 1 output:\n",
      "out_degree: 0\n"
     ]
    }
   ],
   "source": [
    "def graph_api2_global(graph: Graph):\n",
    "    city_sequence: Sequence[Node] = graph.nodes(labels=\"City\")\n",
    "    \n",
    "    if city_sequence:\n",
    "        city, *_ = city_sequence\n",
    "        # Get the global out degree of a city.\n",
    "        print(\"out_degree:\", graph.nodes.global_out_degree(city))  # Old API1: graph.global_in_degree(city)\n",
    "        # Also available for in-edges.\n",
    "\n",
    "            \n",
    "remote_graph.run_api2(graph_api2_global)"
   ]
  },
  {
   "cell_type": "code",
   "execution_count": 6,
   "id": "40857901-1119-4141-a179-5e9ae8b0dc33",
   "metadata": {},
   "outputs": [
    {
     "data": {
      "application/vnd.jupyter.widget-view+json": {
       "model_id": "fa727586ee204392a60ef91e4df3b94f",
       "version_major": 2,
       "version_minor": 0
      },
      "text/plain": [
       "          0/? [?op/s]"
      ]
     },
     "metadata": {},
     "output_type": "display_data"
    },
    {
     "name": "stdout",
     "output_type": "stream",
     "text": [
      "\n",
      "Host 0 output:\n",
      "Countries: {'Estonia', 'Romania', 'Poland', 'Moldova', 'El_Salvador', 'Papua_New_Guinea', 'Greece', 'Denmark', 'Hong_Kong', 'Puerto_Rico', 'Spain', 'Honduras', 'Algeria', 'Colombia', 'Czech_Republic', 'Swaziland', 'Russia', 'Tajikistan', 'Australia', 'Italy', 'Morocco', 'Lithuania', 'Austria', 'Portugal', 'Argentina', 'India', 'United_Kingdom', 'Peru', 'South_Africa', 'New_Zealand', 'Wales', 'Malaysia', 'Tunisia', 'Afghanistan', 'Hungary', 'Vietnam', 'Senegal', 'Turkey', 'Kazakhstan', 'Cameroon', 'Slovakia', 'Jordan', 'Yemen', 'Pakistan', 'Finland', 'Israel', 'Indonesia', 'Laos', 'Taiwan', 'Mauritania', 'Nicaragua', 'Tanzania', 'Burma', 'Canada', 'Libya', 'Singapore', 'Belarus', 'Bosnia_and_Herzegovina', 'Egypt', 'Bolivia', 'Mauritius', 'Chad', 'Panama', 'Namibia', 'Japan', 'Mexico', 'Rwanda', 'France', 'South_Korea', 'Kenya', 'Germany', 'Madagascar', 'Angola', 'Thailand', 'Bulgaria', 'Belgium', 'Sri_Lanka', 'Switzerland', 'Scotland', 'Niger', 'Latvia', 'Republic_of_Macedonia', 'Sweden', 'Ethiopia', 'Cambodia', 'Liberia', 'Slovenia', 'England', 'Republic_of_Ireland', 'Zambia', 'Mongolia', 'Netherlands', 'Croatia', 'Nepal', 'United_States', 'Dominican_Republic', 'Philippines', 'Ukraine', 'Uruguay', 'China', 'Northern_Ireland', 'Democratic_Republic_of_the_Congo', 'Azerbaijan', 'Norway', 'Venezuela', 'Oman', 'Chile', 'Cuba', 'Brazil', 'Malta', 'Iran'}\n",
      "\n",
      "Host 1 output:\n",
      "Countries: {'Malaysia', 'Tanzania', 'Swaziland', 'Hungary', 'Angola', 'Spain', 'Kazakhstan', 'Turkey', 'Ethiopia', 'Sri_Lanka', 'Mexico', 'Chad', 'Cambodia', 'Lithuania', 'Denmark', 'El_Salvador', 'India', 'Sweden', 'Latvia', 'Mauritania', 'Taiwan', 'Egypt', 'Peru', 'Jordan', 'Poland', 'Niger', 'Puerto_Rico', 'China', 'Cuba', 'Namibia', 'Zambia', 'Kenya', 'Dominican_Republic', 'United_States', 'Papua_New_Guinea', 'Netherlands', 'Canada', 'Bulgaria', 'Bosnia_and_Herzegovina', 'Argentina', 'Israel', 'Burma', 'Moldova', 'Greece', 'Indonesia', 'Panama', 'Switzerland', 'Ukraine', 'Brazil', 'Algeria', 'Russia', 'Iran', 'Norway', 'Chile', 'Tunisia', 'Azerbaijan', 'Nicaragua', 'Scotland', 'New_Zealand', 'Thailand', 'Laos', 'Republic_of_Ireland', 'Afghanistan', 'Wales', 'Senegal', 'Morocco', 'Pakistan', 'Venezuela', 'Austria', 'Estonia', 'Slovenia', 'Germany', 'Italy', 'Japan', 'Liberia', 'Uruguay', 'United_Kingdom', 'Nepal', 'Democratic_Republic_of_the_Congo', 'Finland', 'Belgium'}\n"
     ]
    }
   ],
   "source": [
    "def graph_api2_countries(graph: Graph):\n",
    "    # What countries are in the graph?\n",
    "    country_sequence: Sequence[Node] = graph.nodes(labels=\"Country\")\n",
    "    name_prop = graph.nodes.get_property(\"name\")  # Old API1: graph.get_node_property(\"name\")\n",
    "    print(\"Countries:\", set(name_prop[country_sequence]))  # Same as old API1.\n",
    "\n",
    "remote_graph.run_api2(graph_api2_countries)"
   ]
  },
  {
   "cell_type": "code",
   "execution_count": 7,
   "id": "c763b71c-07fa-4cfa-bb64-1c9ae06e1970",
   "metadata": {},
   "outputs": [
    {
     "data": {
      "application/vnd.jupyter.widget-view+json": {
       "model_id": "95a1303436714c79a42b0127b5f60bd1",
       "version_major": 2,
       "version_minor": 0
      },
      "text/plain": [
       "          0/? [?op/s]"
      ]
     },
     "metadata": {},
     "output_type": "display_data"
    },
    {
     "name": "stdout",
     "output_type": "stream",
     "text": [
      "\n",
      "Host 0 output:\n",
      "Number of Countries: 111\n",
      "\n",
      "Cities in United States:\n",
      "{'San_Antonio', 'Ann_Arbor', 'Gainesville', 'Notre_Damena', 'Cleveland', 'New_York_City', 'Columbia', 'Indianapolis', 'Atlanta', 'Minneapolis', 'Baltimore', 'Nashville', 'San_Diego', 'Cambridge', 'Philadelphia', 'Washington', 'Phoenix', 'Tallahassee', 'Houston', 'New_York', 'Berkeley', 'Fayetteville', 'New_Orleans', 'St._Louis', 'Boston', 'Lubbock', 'Cincinnati', 'Columbus', 'Milwaukee', 'Austin', 'San_Francisco', 'Richmond', 'Chicago', 'Portland', 'Jacksonville', 'Orlando', 'New_Haven', 'Los_Angeles', 'Ithaca', 'Pittsburgh'}\n",
      "\n",
      "Host 1 output:\n",
      "Number of Countries: 0\n"
     ]
    }
   ],
   "source": [
    "def graph_api2_cities_in_countries(graph: Graph):\n",
    "    country_sequence: Sequence[Node] = graph.nodes(labels=\"Country\")\n",
    "    name_prop = graph.nodes.get_property(\"name\")  # Old API1: graph.get_node_property(\"name\")\n",
    "\n",
    "    # What cities are located in each country?\n",
    "    city_sequence: Sequence[Node] = graph.nodes(labels=\"City\")\n",
    "    country_cities = {}\n",
    "\n",
    "    is_part_of_label = graph.out_edges.label_manager[\"IS_PART_OF\"]\n",
    "    \n",
    "    for city in city_sequence:\n",
    "        # iterate the out-edges of city\n",
    "        for out_edge in graph.out_edges(node=city): # labels=is_part_of_label\n",
    "            # Check if out_edge has the label IS_PART_OF\n",
    "            e_label = graph.out_edges.labels(out_edge)\n",
    "            if e_label == is_part_of_label:\n",
    "                country_node: Node = graph.out_edges.dst(edge=out_edge)\n",
    "                # Add the city name to the set for the appropriate country\n",
    "                country_cities.setdefault(name_prop[country_node], set()).add(name_prop[city])\n",
    "    \n",
    "    print(\"Number of Countries:\", len(country_cities))\n",
    "    if \"United_States\" in country_cities:\n",
    "        print(\"\\nCities in United States:\")\n",
    "        print(country_cities[\"United_States\"])\n",
    "\n",
    "\n",
    "remote_graph.run_api2(graph_api2_cities_in_countries)"
   ]
  },
  {
   "cell_type": "code",
   "execution_count": 8,
   "id": "2dd6748d-e848-4221-9e82-7edde3edd5d4",
   "metadata": {},
   "outputs": [
    {
     "data": {
      "application/vnd.jupyter.widget-view+json": {
       "model_id": "6d59a15de434469cacbe7d114e36ebe1",
       "version_major": 2,
       "version_minor": 0
      },
      "text/plain": [
       "          0/? [?op/s]"
      ]
     },
     "metadata": {},
     "output_type": "display_data"
    },
    {
     "name": "stdout",
     "output_type": "stream",
     "text": [
      "\n",
      "Host 0 output:\n",
      "Number of messages on chrome:  0\n",
      "\n",
      "Host 1 output:\n",
      "Number of messages on chrome:  1159\n"
     ]
    }
   ],
   "source": [
    "def graph_api2_chrome(graph: Graph):    \n",
    "    browser_prop = graph.nodes.get_property(\"browserUsed\")\n",
    "    message_sequence = graph.nodes(labels=\"Message\")\n",
    "    \n",
    "    # Find me all the message nodes that used chrome\n",
    "    chrome_messages = set(m for m in message_sequence if browser_prop[m] == \"Chrome\")\n",
    "    print(\"Number of messages on chrome: \", len(chrome_messages))\n",
    "\n",
    "remote_graph.run_api2(graph_api2_chrome)"
   ]
  },
  {
   "cell_type": "code",
   "execution_count": 9,
   "id": "4bea049c-7075-4f10-b9c4-1bd2b30a18c1",
   "metadata": {},
   "outputs": [
    {
     "data": {
      "application/vnd.jupyter.widget-view+json": {
       "model_id": "d41d2f44429d4dfe8225029eece85681",
       "version_major": 2,
       "version_minor": 0
      },
      "text/plain": [
       "          0/? [?op/s]"
      ]
     },
     "metadata": {},
     "output_type": "display_data"
    },
    {
     "data": {
      "application/vnd.jupyter.widget-view+json": {
       "model_id": "a0da72ef1ece4e27b1b559f63aad874b",
       "version_major": 2,
       "version_minor": 0
      },
      "text/plain": [
       "          0/? [?op/s]"
      ]
     },
     "metadata": {},
     "output_type": "display_data"
    },
    {
     "data": {
      "text/html": [
       "<div>\n",
       "<style scoped>\n",
       "    .dataframe tbody tr th:only-of-type {\n",
       "        vertical-align: middle;\n",
       "    }\n",
       "\n",
       "    .dataframe tbody tr th {\n",
       "        vertical-align: top;\n",
       "    }\n",
       "\n",
       "    .dataframe thead th {\n",
       "        text-align: right;\n",
       "    }\n",
       "</style>\n",
       "<table border=\"1\" class=\"dataframe\">\n",
       "  <thead>\n",
       "    <tr style=\"text-align: right;\">\n",
       "      <th></th>\n",
       "      <th>a.browserUsed</th>\n",
       "      <th>a.is_chrome</th>\n",
       "    </tr>\n",
       "  </thead>\n",
       "  <tbody>\n",
       "    <tr>\n",
       "      <th>0</th>\n",
       "      <td>Chrome</td>\n",
       "      <td>True</td>\n",
       "    </tr>\n",
       "    <tr>\n",
       "      <th>1</th>\n",
       "      <td>Chrome</td>\n",
       "      <td>True</td>\n",
       "    </tr>\n",
       "    <tr>\n",
       "      <th>2</th>\n",
       "      <td>Chrome</td>\n",
       "      <td>True</td>\n",
       "    </tr>\n",
       "    <tr>\n",
       "      <th>3</th>\n",
       "      <td>Chrome</td>\n",
       "      <td>True</td>\n",
       "    </tr>\n",
       "    <tr>\n",
       "      <th>4</th>\n",
       "      <td>Chrome</td>\n",
       "      <td>True</td>\n",
       "    </tr>\n",
       "    <tr>\n",
       "      <th>...</th>\n",
       "      <td>...</td>\n",
       "      <td>...</td>\n",
       "    </tr>\n",
       "    <tr>\n",
       "      <th>1154</th>\n",
       "      <td>Chrome</td>\n",
       "      <td>True</td>\n",
       "    </tr>\n",
       "    <tr>\n",
       "      <th>1155</th>\n",
       "      <td>Chrome</td>\n",
       "      <td>True</td>\n",
       "    </tr>\n",
       "    <tr>\n",
       "      <th>1156</th>\n",
       "      <td>Chrome</td>\n",
       "      <td>True</td>\n",
       "    </tr>\n",
       "    <tr>\n",
       "      <th>1157</th>\n",
       "      <td>Chrome</td>\n",
       "      <td>True</td>\n",
       "    </tr>\n",
       "    <tr>\n",
       "      <th>1158</th>\n",
       "      <td>Chrome</td>\n",
       "      <td>True</td>\n",
       "    </tr>\n",
       "  </tbody>\n",
       "</table>\n",
       "<p>1159 rows x 2 columns</p>\n",
       "</div>"
      ],
      "text/plain": [
       "     a.browserUsed  a.is_chrome\n",
       "0           Chrome         True\n",
       "1           Chrome         True\n",
       "2           Chrome         True\n",
       "3           Chrome         True\n",
       "4           Chrome         True\n",
       "...            ...          ...\n",
       "1154        Chrome         True\n",
       "1155        Chrome         True\n",
       "1156        Chrome         True\n",
       "1157        Chrome         True\n",
       "1158        Chrome         True\n",
       "\n",
       "[1159 rows x 2 columns]"
      ]
     },
     "execution_count": 9,
     "metadata": {},
     "output_type": "execute_result"
    }
   ],
   "source": [
    "def graph_api2_is_chrome_property(graph: Graph):    \n",
    "    browser_prop = graph.nodes.get_property(\"browserUsed\")\n",
    "    message_sequence = graph.nodes(labels=\"Message\")\n",
    "    chrome_messages = set(m for m in message_sequence if browser_prop[m] == \"Chrome\")\n",
    "    \n",
    "    keys_sequence = browser_prop.keys()  # Series of nodes\n",
    "    # Create new property data array.\n",
    "    is_chrome_data = np.zeros(len(browser_prop), dtype=bool)\n",
    "    for index, key in enumerate(keys_sequence):\n",
    "        if key in chrome_messages:\n",
    "            is_chrome_data[index] = True\n",
    "    # This is messy, it will get better for GA with the addition of UpdateableKeyedColomns\n",
    "    \n",
    "    is_chrome = KeyedColumnNode(is_chrome_data, browser_prop, \"is_chrome\")  \n",
    "    # This operation is bad. We will fix it too.\n",
    "    graph.nodes.upsert_property(is_chrome)  \n",
    "    #   old API1: graph.add_node_property(is_chrome=is_chrome_data)\n",
    "    # add_property will only create the property if it doesn't exist.\n",
    "    \n",
    "    # Currently adding or updating a node property must have values for EVERY \n",
    "    # node, including mirrors. Soon, we will provide a method to set the \n",
    "    # correct values for mirrors.\n",
    "    # This is not a problem if mirrors nodes are only used to access the \n",
    "    # original data that was imported.\n",
    "\n",
    "remote_graph.run_api2(graph_api2_is_chrome_property)\n",
    "\n",
    "# Are you sure the is_chrome property stayed on the graph?\n",
    "remote_graph.query(\"MATCH (a:Message) WHERE a.is_chrome RETURN a.browserUsed, a.is_chrome;\")"
   ]
  },
  {
   "cell_type": "code",
   "execution_count": 10,
   "id": "e444ab73-57c5-4f67-be5e-61443fc0228d",
   "metadata": {},
   "outputs": [
    {
     "data": {
      "application/vnd.jupyter.widget-view+json": {
       "model_id": "b136fc69f3e24b1180f4a9b78b8df6b7",
       "version_major": 2,
       "version_minor": 0
      },
      "text/plain": [
       "          0/? [?op/s]"
      ]
     },
     "metadata": {},
     "output_type": "display_data"
    },
    {
     "name": "stdout",
     "output_type": "stream",
     "text": [
      "\n",
      "Host 0 output:\n",
      "Use with edges:\n",
      "21537\n",
      "[[0.46853607 0.94392769 0.07607089 0.06903818]\n",
      " [0.65052083 0.66083361 0.09412256 0.18538935]\n",
      " [0.49366764 0.38965967 0.14354563 0.26691357]\n",
      " ...\n",
      " [0.94491187 0.04155583 0.77853188 0.161085  ]\n",
      " [0.97553909 0.46749192 0.54291921 0.62727866]\n",
      " [0.17501276 0.98116426 0.26909804 0.31590733]]\n",
      "\n",
      "Use with nodes:\n",
      "21544\n",
      "[[0.65571602 0.47619039 0.10935389 0.14019325]\n",
      " [0.19789881 0.06233738 0.22322068 0.16083035]\n",
      " [0.35886235 0.27626297 0.37642493 0.23769945]\n",
      " ...\n",
      " [0.58183161 0.87046574 0.21998683 0.23706556]\n",
      " [0.01409559 0.35764551 0.47429415 0.05167617]\n",
      " [0.85728161 0.41827269 0.1735386  0.61027267]]\n",
      "\n",
      "Get a single vector for a node:\n",
      "[0.65571602 0.47619039 0.10935389 0.14019325]\n",
      "\n",
      "Host 1 output:\n",
      "Use with edges:\n",
      "21535\n",
      "[[0.53971644 0.95857578 0.63250519 0.67233496]\n",
      " [0.62356725 0.02790739 0.37716918 0.69783615]\n",
      " [0.73537238 0.38061137 0.05049038 0.29092173]\n",
      " ...\n",
      " [0.30974486 0.96467745 0.93795646 0.60828998]\n",
      " [0.61380667 0.8322237  0.68639292 0.64238705]\n",
      " [0.61475253 0.68724928 0.15890788 0.40475684]]\n",
      "\n",
      "Use with nodes:\n",
      "9655\n",
      "[[0.96757381 0.83935558 0.70899947 0.85867153]\n",
      " [0.98455116 0.57822986 0.76233289 0.80623303]\n",
      " [0.3224234  0.53471894 0.72690868 0.45939988]\n",
      " ...\n",
      " [0.93855254 0.17560883 0.06629301 0.02380262]\n",
      " [0.86205211 0.77039325 0.65411411 0.00667946]\n",
      " [0.45377504 0.47081244 0.9163037  0.54425407]]\n",
      "\n",
      "Get a single vector for a node:\n",
      "[0.02288469 0.82602288 0.12274818 0.59440428]\n"
     ]
    }
   ],
   "source": [
    "def graph_api2_both_property_fun(graph: Graph):    \n",
    "    def init_feature_property(view, name):\n",
    "        keys = view.get_property_keys()\n",
    "        data = np.random.rand(len(keys), 4)  # The second dimension can be any length\n",
    "        view.upsert_property(view.KeyedColumn.steal_array(data, keys, name))\n",
    "    \n",
    "    print(\"Use with edges:\")\n",
    "    init_feature_property(graph.out_edges, \"edge_feature\")\n",
    "    edge_feature = graph.out_edges.get_property(\"edge_feature\")\n",
    "    print(len(edge_feature))\n",
    "    print(edge_feature.to_numpy())\n",
    "    \n",
    "    print(\"\\nUse with nodes:\")\n",
    "    init_feature_property(graph.nodes, \"node_feature\")\n",
    "    node_feature = graph.nodes.get_property(\"node_feature\")\n",
    "    print(len(node_feature))\n",
    "    print(node_feature.to_numpy())\n",
    "    \n",
    "    print(\"\\nGet a single vector for a node:\")\n",
    "    n, *_ = graph.nodes()\n",
    "    print(node_feature[n])\n",
    "\n",
    "remote_graph.run_api2(graph_api2_both_property_fun)"
   ]
  },
  {
   "cell_type": "markdown",
   "id": "e9cdf258-5107-493a-8539-0722538b60bc",
   "metadata": {},
   "source": [
    "You can also do other things that are not done in this demo (or are but implicitly, so you may not have noticed).\n",
    "\n",
    "* remove properties\n",
    "* graph properties (as opposed to node or edge properties)\n",
    "* nodes, edges, and labels are hashable (and can be used as dict keys or the values in sets)\n",
    "\n",
    "and probably other things I have forgotten\n",
    "\n",
    "# Addendum\n",
    "\n",
    "Using distributed reducers.\n"
   ]
  },
  {
   "cell_type": "code",
   "execution_count": 11,
   "id": "4059aadb-f5ad-4e2b-8ee0-469e653d7cda",
   "metadata": {},
   "outputs": [
    {
     "data": {
      "application/vnd.jupyter.widget-view+json": {
       "model_id": "dc65c392070b40e28eefdd4fd81c5df6",
       "version_major": 2,
       "version_minor": 0
      },
      "text/plain": [
       "          0/? [?op/s]"
      ]
     },
     "metadata": {},
     "output_type": "display_data"
    },
    {
     "name": "stdout",
     "output_type": "stream",
     "text": [
      "\n",
      "Host 0 output:\n",
      "Owned country nodes: 111\n",
      "\n",
      "Host 1 output:\n",
      "Owned country nodes: 0\n",
      "\n",
      "Reduced result: 111\n"
     ]
    }
   ],
   "source": [
    "from katana.distributed import ReduceMax, ReduceMin, ReduceSum, single_host\n",
    "\n",
    "def graph_api2_chrome_reduce(graph: Graph):    \n",
    "    # first we need a work around for limitations of LabelSet (there is no way to get sets of size > 1)\n",
    "    sample_country, *_ = graph.nodes(labels=\"Country\")\n",
    "    country_label = graph.nodes.labels(sample_country)\n",
    "    \n",
    "    # Now we can count the number of masters with the label country\n",
    "    # We cannot do graph.nodes.masters(labels=\"Country\") since that is not supported, yet (and may not actually be implemented in C++ yet.\n",
    "    n_countries = sum(1 for n in graph.nodes.masters() if graph.nodes.labels(n) == country_label)\n",
    "        \n",
    "    # Print out our host local result\n",
    "    print(\"Owned country nodes:\", n_countries)\n",
    "    \n",
    "    # Now, reduce and return the values\n",
    "    reducer = ReduceSum[int]()\n",
    "    reducer.update(n_countries)\n",
    "    return single_host(reducer.reduce())\n",
    "\n",
    "print(\"\\nReduced result:\", remote_graph.run_api2(graph_api2_chrome_reduce))"
   ]
  },
  {
   "cell_type": "markdown",
   "id": "484f1066-2dc8-452f-938b-f0a1a3aff97d",
   "metadata": {},
   "source": [
    "I could not find an example that had values > 0 on both hosts. The reducers do not support vector values directly. However it is possible to create a list of reducers one for each element in the vector (so on the order of 32).\n",
    "\n",
    "The available reducers are sum, max, and min. They work on most types we use: 8/16/32/64-bit int and 32/64-bit floats and I think boolean."
   ]
  }
 ],
 "metadata": {
  "kernelspec": {
   "display_name": "Python 3 (ipykernel)",
   "language": "python",
   "name": "python3"
  },
  "language_info": {
   "codemirror_mode": {
    "name": "ipython",
    "version": 3
   },
   "file_extension": ".py",
   "mimetype": "text/x-python",
   "name": "python",
   "nbconvert_exporter": "python",
   "pygments_lexer": "ipython3",
   "version": "3.8.13"
  }
 },
 "nbformat": 4,
 "nbformat_minor": 5
}
