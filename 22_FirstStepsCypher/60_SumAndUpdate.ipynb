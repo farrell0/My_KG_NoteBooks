{
 "cells": [
  {
   "cell_type": "markdown",
   "id": "d3ebe820-bc6d-4948-b668-8b81cd3cbf29",
   "metadata": {
    "tags": []
   },
   "source": [
    "#  Setup stuff: Connectivity"
   ]
  },
  {
   "cell_type": "code",
   "execution_count": null,
   "id": "1ea957d6-30c6-427a-ae4e-15ecfba0c4f9",
   "metadata": {},
   "outputs": [],
   "source": [
    "# import os\n",
    "\n",
    "from katana import remote\n",
    "from katana.remote import import_data\n",
    "\n",
    "my_client = remote.Client()\n",
    "\n",
    "print(my_client)"
   ]
  },
  {
   "cell_type": "code",
   "execution_count": null,
   "id": "97571016-7c02-4e90-a75a-136a0dacd35f",
   "metadata": {},
   "outputs": [],
   "source": [
    "NUM_PARTITIONS  = 3\n",
    "   #\n",
    "DB_NAME         = \"my_db\"\n",
    "GRAPH_NAME      = \"my_graph\"\n",
    "\n",
    "print(\"--\")"
   ]
  },
  {
   "cell_type": "code",
   "execution_count": null,
   "id": "8ed2d715-aaeb-4381-9216-46fa0dd421b6",
   "metadata": {},
   "outputs": [],
   "source": [
    "#  DELETE ALL GRAPHS\n",
    "\n",
    "for l_database in my_client.databases():\n",
    "   for l_graph in my_client.get_database(name=l_database.name).graphs_in_database():\n",
    "      l_handle=my_client.get_database(name=l_database.name).get_graph_by_id(id=l_graph.graph_id)\n",
    "      l_handle.delete()\n",
    "\n",
    "for l_graph in my_client.graphs():\n",
    "   print(\"GRAPH ID: \", l_graph.graph_id, \"      GRAPH Version: \", l_graph.version)\n",
    "\n",
    "print(\"--\")"
   ]
  },
  {
   "cell_type": "code",
   "execution_count": null,
   "id": "cf9c16ec-913f-46a8-bccc-76fc92c54866",
   "metadata": {},
   "outputs": [],
   "source": [
    "#  DELETE ALL DATABASES\n",
    "\n",
    "for l_database in my_client.databases():\n",
    "   if (l_database.name != \"default\"):\n",
    "      my_client.get_database(name=l_database.name).delete_database()\n",
    "      print(\"--\")\n",
    "\n",
    "for l_database in my_client.databases():\n",
    "   print(\"DB ID: \", l_database.database_id, \"     DB Name: \", l_database.name)"
   ]
  },
  {
   "cell_type": "code",
   "execution_count": null,
   "id": "6e72729c-265b-40e4-a3ee-674b793bed81",
   "metadata": {},
   "outputs": [],
   "source": [
    "#  CREATE DATABASE\n",
    "\n",
    "my_database = my_client.create_database(name=DB_NAME)\n",
    "\n",
    "print(my_database.database_id)"
   ]
  },
  {
   "cell_type": "code",
   "execution_count": null,
   "id": "2fc31da4-44c3-4bd3-b160-b315766dcd88",
   "metadata": {},
   "outputs": [],
   "source": [
    "#  CREATE GRAPH\n",
    "#\n",
    "my_graph = my_client.get_database(name=DB_NAME).create_graph(name=GRAPH_NAME, num_partitions=NUM_PARTITIONS)\n",
    "\n",
    "print(my_graph)"
   ]
  },
  {
   "cell_type": "code",
   "execution_count": null,
   "id": "c5db6505-7fc8-4779-b194-9ed8945b9a90",
   "metadata": {},
   "outputs": [],
   "source": [
    "#  CONNECT TO GRAPH\n",
    "\n",
    "for l_graph in my_client.get_database(name=DB_NAME).graphs_in_database():\n",
    "   if (l_graph.name == GRAPH_NAME):\n",
    "      my_graph=my_client.get_database(name=DB_NAME).get_graph_by_id(id=l_graph.graph_id)\n",
    "         #\n",
    "      break\n",
    "\n",
    "print(my_graph)"
   ]
  },
  {
   "cell_type": "markdown",
   "id": "039f91b3-11dc-475e-a9a1-daed40a30b44",
   "metadata": {
    "tags": []
   },
   "source": [
    "#  Setup stuff: Debugging"
   ]
  },
  {
   "cell_type": "code",
   "execution_count": null,
   "id": "fe05e591-927a-456b-b973-7aceba0bea39",
   "metadata": {},
   "outputs": [],
   "source": [
    "#  LIST ALL GRAPHS\n",
    "\n",
    "for l_graph in my_client.graphs():\n",
    "   print(\"GRAPH ID: \", l_graph.graph_id, \"     DB GRAPH: \", l_graph.name, \"    GRAPH VERSION: \", l_graph.version)\n",
    "\n",
    "print(\"--\")\n"
   ]
  },
  {
   "cell_type": "code",
   "execution_count": null,
   "id": "ce3ecfbe-cca0-41dd-bb15-594f2d545365",
   "metadata": {},
   "outputs": [],
   "source": [
    "display(my_graph.num_nodes())\n",
    "display(my_graph.num_edges())"
   ]
  },
  {
   "cell_type": "code",
   "execution_count": null,
   "id": "ef619a08-7263-4bb3-9edd-34148f639ec5",
   "metadata": {},
   "outputs": [],
   "source": [
    "my_graph.query(\"CALL graph.schema() RETURN *\")\n"
   ]
  },
  {
   "cell_type": "code",
   "execution_count": null,
   "id": "71fb84ed-29d1-4e3b-ae1f-b2d009af96ff",
   "metadata": {},
   "outputs": [],
   "source": [
    "my_client.widgets().operations()\n"
   ]
  },
  {
   "cell_type": "code",
   "execution_count": null,
   "id": "62aeec66-bafe-4ef5-a6b4-b1657cf6106e",
   "metadata": {},
   "outputs": [],
   "source": [
    "# ##################################################################"
   ]
  },
  {
   "cell_type": "code",
   "execution_count": null,
   "id": "f02fcd93-2850-4e4d-b2b6-bfc8e7fbd58b",
   "metadata": {},
   "outputs": [],
   "source": [
    "#  Set the display width ..\n",
    "\n",
    "import pandas as pd\n",
    "   #\n",
    "pd.set_option(\"display.width\", 480)\n",
    "\n",
    "\n",
    "print(\"--\")\n"
   ]
  },
  {
   "cell_type": "markdown",
   "id": "61556ce5-9044-42bc-bb13-80b6a514ae27",
   "metadata": {
    "tags": []
   },
   "source": [
    "# Create: Vertices/nodes, edges .."
   ]
  },
  {
   "cell_type": "code",
   "execution_count": null,
   "id": "8e7ecf31-d69e-4b5a-8a37-0cfb4c32fd33",
   "metadata": {},
   "outputs": [],
   "source": [
    "\n",
    "#  Vertices/Nodes ..\n",
    "\n",
    "df_orders        = pd.DataFrame([\n",
    "       #\n",
    "   [101  , \"Rayees Order\"        ,    0,  \"Order\"     ],\n",
    "   [102  , \"Andrews Order\"       ,    0,  \"Order\"     ],\n",
    "   [103  , \"Gregs Order\"         ,    0,  \"Order\"     ],\n",
    "       #\n",
    "   ], columns = [\"order_num\", \"order_name\", \"total\", \"LABEL\"])\n",
    "\n",
    "display(df_orders.head(20))\n",
    "\n",
    "   ###\n",
    "    \n",
    "df_products      = pd.DataFrame([\n",
    "       #\n",
    "   [401  , \"Apples\"              ,   2,  \"Product\"   ],\n",
    "   [402  , \"Carrots\"             ,  15,  \"Product\"   ],\n",
    "   [403  , \"Pears\"               ,   7,  \"Product\"   ],\n",
    "       #\n",
    "   ], columns = [\"product_num\", \"product_name\", \"unit_price\", \"LABEL\"])\n",
    "\n",
    "display(df_products.head(20))\n"
   ]
  },
  {
   "cell_type": "code",
   "execution_count": null,
   "id": "cf9744e3-20e5-430f-88eb-b77a0c6725d7",
   "metadata": {},
   "outputs": [],
   "source": [
    "\n",
    "#  Create nodes ..\n",
    "#\n",
    "# import contextlib\n",
    "\n",
    "for l_each in df_orders.iterrows():\n",
    "    \n",
    "   l_order_num    = l_each[1][0]\n",
    "   l_order_name   = l_each[1][1]\n",
    "   l_total        = l_each[1][2]\n",
    "   l_label        = l_each[1][3]\n",
    "    \n",
    "   l_query = \"\"\"\n",
    "\n",
    "      CREATE ( n: {3} {{ order_num: {0} }} )                  //  Notice double curly braces\n",
    "      SET n.order_name = '{1}' , n.total = {2}\n",
    "   \n",
    "      \"\"\".format(l_order_num, l_order_name, l_total, l_label)\n",
    "\n",
    "   l_result0 = my_graph.query(l_query)\n",
    "\n",
    "      ###\n",
    "      ###\n",
    "        \n",
    "for l_each in df_products.iterrows():\n",
    "    \n",
    "   l_product_num  = l_each[1][0]\n",
    "   l_product_name = l_each[1][1]\n",
    "   l_unit_price   = l_each[1][2]\n",
    "   l_label        = l_each[1][3]\n",
    "    \n",
    "   l_query = \"\"\"\n",
    "\n",
    "      CREATE ( n: {3} {{ product_num: {0} }} ) \n",
    "      SET n.product_name = '{1}' , n.unit_price = {2}\n",
    "   \n",
    "      \"\"\".format(l_product_num, l_product_name, l_unit_price, l_label)\n",
    "\n",
    "   l_result0 = my_graph.query(l_query)\n",
    "\n",
    "print(\"--\")\n"
   ]
  },
  {
   "cell_type": "code",
   "execution_count": null,
   "id": "4850ba7c-2314-44be-972e-51ef90f2cb71",
   "metadata": {},
   "outputs": [],
   "source": [
    "#  What's in the vertices/nodes ..\n",
    "\n",
    "l_result = my_graph.query(\"\"\"\n",
    "\n",
    "   MATCH ( n ) \n",
    "   RETURN n\n",
    "   \n",
    "   \"\"\")\n",
    "\n",
    "print(l_result[0:30])\n"
   ]
  },
  {
   "cell_type": "markdown",
   "id": "73ae751f-1bb8-46d5-9683-f64014c3ec33",
   "metadata": {},
   "source": [
    "# ##################################################################"
   ]
  },
  {
   "cell_type": "code",
   "execution_count": null,
   "id": "60eaac88-4dd5-47d3-94b3-0f5fd0b243f2",
   "metadata": {},
   "outputs": [],
   "source": [
    "#  Create the edge ..\n",
    "\n",
    "df_purchased = pd.DataFrame([\n",
    "      #\n",
    "   [ 101, 401 ,\"CONTAINS\"],\n",
    "   [ 101, 402 ,\"CONTAINS\"],\n",
    "   [ 101, 403 ,\"CONTAINS\"],\n",
    "      #\n",
    "   [ 102, 401 ,\"CONTAINS\"],\n",
    "   [ 102, 401 ,\"CONTAINS\"],\n",
    "   [ 102, 403 ,\"CONTAINS\"],\n",
    "      #\n",
    "   [ 103, 403 ,\"CONTAINS\"],\n",
    "   [ 103, 403 ,\"CONTAINS\"],\n",
    "   [ 103, 403 ,\"CONTAINS\"],\n",
    "   [ 103, 403 ,\"CONTAINS\"],\n",
    "      #\n",
    "   ], columns = [\"START_ID\", \"END_ID\", \"TYPE\"])\n",
    "\n",
    "df_purchased.head(30)\n"
   ]
  },
  {
   "cell_type": "code",
   "execution_count": null,
   "id": "7dc52e1a-e51e-4610-b9aa-8af39689000e",
   "metadata": {},
   "outputs": [],
   "source": [
    "\n",
    "for l_each in df_purchased.iterrows():\n",
    "    \n",
    "   l_startid    = l_each[1][0]\n",
    "   l_endid      = l_each[1][1]\n",
    "   l_type       = l_each[1][2]\n",
    "    \n",
    "   l_query = \"\"\"\n",
    "      \n",
    "      MATCH (n: Order  ) WHERE n.order_num   = {0}\n",
    "      MATCH (m: Product) WHERE m.product_num = {1}\n",
    "      CREATE (n) -[r: {2} ]-> (m)\n",
    "      \n",
    "      \"\"\".format(l_startid, l_endid, l_type)\n",
    "    \n",
    "   l_result0 = my_graph.query(l_query)\n",
    "\n",
    "print(\"--\")\n"
   ]
  },
  {
   "cell_type": "code",
   "execution_count": null,
   "id": "6160bd57-15aa-4ff0-9269-9431e6f7dd2b",
   "metadata": {},
   "outputs": [],
   "source": [
    "#  What's in the graph .. \n",
    "\n",
    "l_result = my_graph.query(\"\"\"\n",
    "\n",
    "   MATCH (n) - [ r ] -> (m)\n",
    "   RETURN n, m, r\n",
    "   \n",
    "   \"\"\", contextualize=True)\n",
    "\n",
    "l_result.view()\n"
   ]
  },
  {
   "cell_type": "markdown",
   "id": "67b8ec21-6da9-4eba-86d9-593de9e79690",
   "metadata": {},
   "source": [
    "#  Finally now; Why we're here .."
   ]
  },
  {
   "cell_type": "code",
   "execution_count": null,
   "id": "86c96301-e7d9-4fd8-9a57-737b5c7ea6b3",
   "metadata": {},
   "outputs": [],
   "source": [
    "#  The traversal we are trying to run ..\n",
    "\n",
    "l_result = my_graph.query(\"\"\"\n",
    "\n",
    "   //  Just fetching, works\n",
    "   //\n",
    "   MATCH (n: Order) - [r :CONTAINS ] -> (m: Product)\n",
    "   RETURN n, sum(m.unit_price) AS x_cost\n",
    "   \n",
    "   //  Closest to original question, throws error\n",
    "   //\n",
    "   // MATCH (n: Order) - [r :CONTAINS ] -> (m: Product)\n",
    "   // WITH n, sum(m.unit_price) AS x_cost\n",
    "   // SET Order.total = x_cost\n",
    "   //\n",
    "   //  OperationError: backtrace (QueryClient.cpp:391): unable to translate openCypher parse tree to internal IR (OpGraph.cpp:226):\n",
    "   //  Syntax error: The query cannot be recognized by openCypher. (CypherOpGraphBuilder.cpp:63): TCK = SyntaxError:UnexpectedSyntax\n",
    "   //  Katana = SyntaxError:ParserError: TCK = SyntaxError:UnexpectedSyntax\n",
    "   //  Katana = SyntaxError:ParserError\n",
    "   \n",
    "   //  This also errors ..\n",
    "   //\n",
    "   // MATCH (n: Order) - [r :CONTAINS ] -> (m: Product)\n",
    "   // WITH sum(m.unit_price) AS x_cost\n",
    "   // SET Order.total = x_cost\n",
    "   \n",
    "   \"\"\", contextualize=True)\n",
    "\n",
    "l_result.view()\n",
    "\n",
    "\n",
    "#  Exact, original syntax ..\n",
    "#\n",
    "#  MATCH (loan)-[:hasLoanSnapshot]->(snapshot)\n",
    "#  WITH loan, sum(snapshot.loan_snapshot_flag) as loan_snapshots\n",
    "#  SET loan.loan_flag = loan_snapshots\n",
    "\n"
   ]
  }
 ],
 "metadata": {
  "kernelspec": {
   "display_name": "Python 3 (ipykernel)",
   "language": "python",
   "name": "python3"
  },
  "language_info": {
   "codemirror_mode": {
    "name": "ipython",
    "version": 3
   },
   "file_extension": ".py",
   "mimetype": "text/x-python",
   "name": "python",
   "nbconvert_exporter": "python",
   "pygments_lexer": "ipython3",
   "version": "3.8.13"
  }
 },
 "nbformat": 4,
 "nbformat_minor": 5
}
