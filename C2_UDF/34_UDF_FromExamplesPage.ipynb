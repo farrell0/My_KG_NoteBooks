{
 "cells": [
  {
   "cell_type": "markdown",
   "id": "43b1755b-2af6-4570-84de-764a0024a919",
   "metadata": {
    "tags": []
   },
   "source": [
    "#  Display options:"
   ]
  },
  {
   "cell_type": "code",
   "execution_count": null,
   "id": "19eb5ac6-bcb9-49a5-8cf0-60f8441171a6",
   "metadata": {},
   "outputs": [],
   "source": [
    "\n",
    "#  References for this Notebook,\n",
    "#\n",
    "#     Working thru the examples on this page,\n",
    "#        https://docs.k9h.dev/latest/recipes/udf-recipes.html/tree/master/lonestar/analytics/distributed/experimental\n",
    "# \n"
   ]
  },
  {
   "cell_type": "code",
   "execution_count": null,
   "id": "d7a11486-11ea-4a6c-8f7b-6f3808dfc85e",
   "metadata": {},
   "outputs": [],
   "source": [
    "\n",
    "#  Setting display options \n",
    "\n",
    "import pandas as pd\n",
    "   #\n",
    "pd.set_option(\"display.width\", 480)\n",
    "\n",
    "#  Sets horizontal scroll for wide outputs\n",
    "#\n",
    "from IPython.display import display, HTML\n",
    "display(HTML(\"\"))\n",
    "\n",
    "from tabulate import tabulate\n",
    "\n",
    "print(\"--\")\n"
   ]
  },
  {
   "cell_type": "markdown",
   "id": "d3ebe820-bc6d-4948-b668-8b81cd3cbf29",
   "metadata": {
    "tags": []
   },
   "source": [
    "#  Setup stuff: Connectivity"
   ]
  },
  {
   "cell_type": "code",
   "execution_count": null,
   "id": "1ea957d6-30c6-427a-ae4e-15ecfba0c4f9",
   "metadata": {},
   "outputs": [],
   "source": [
    "\n",
    "from katana import remote\n",
    "#  from katana.remote import import_data\n",
    "\n",
    "my_client = remote.Client()\n",
    "\n",
    "print(my_client)\n"
   ]
  },
  {
   "cell_type": "code",
   "execution_count": null,
   "id": "97571016-7c02-4e90-a75a-136a0dacd35f",
   "metadata": {},
   "outputs": [],
   "source": [
    "\n",
    "NUM_PARTITIONS  = 3\n",
    "   #\n",
    "DB_NAME         = \"my_db\"\n",
    "GRAPH_NAME      = \"my_graph\"\n",
    "\n",
    "print(\"--\")\n"
   ]
  },
  {
   "cell_type": "code",
   "execution_count": null,
   "id": "c5db6505-7fc8-4779-b194-9ed8945b9a90",
   "metadata": {},
   "outputs": [],
   "source": [
    "\n",
    "#  CONNECT TO GRAPH\n",
    "\n",
    "my_graph, *_ = my_client.get_database(name=DB_NAME).find_graphs_by_name(GRAPH_NAME)\n",
    "\n",
    "print(my_graph)\n"
   ]
  },
  {
   "cell_type": "code",
   "execution_count": null,
   "id": "195ac246-4852-44ac-8a63-8631b38858ca",
   "metadata": {},
   "outputs": [],
   "source": [
    "\n",
    "display(my_graph.num_nodes())\n",
    "display(my_graph.num_edges())\n"
   ]
  },
  {
   "cell_type": "markdown",
   "id": "fc942da3-98f2-4b47-9d3f-76bb6adf270d",
   "metadata": {
    "tags": []
   },
   "source": [
    "# Working with num_partitions()"
   ]
  },
  {
   "cell_type": "code",
   "execution_count": null,
   "id": "2ee40b52-a157-4242-92f3-4fc037dc542b",
   "metadata": {},
   "outputs": [],
   "source": [
    "#  Even though this graph was made with 3 partitions, and even though certain operations\n",
    "#  require at least 3 partitions else they fail, you may still see num_partitions = None\n",
    "#  which can happen on really small graphs, and produce unexpected results below.\n",
    "\n",
    "print(my_graph.num_partitions)\n"
   ]
  },
  {
   "cell_type": "code",
   "execution_count": null,
   "id": "420011bd-878f-4376-a0a8-8f500a298bd4",
   "metadata": {},
   "outputs": [],
   "source": [
    "\n",
    "#  my_graph.repartition(num_partitions = 1)\n",
    "my_graph.repartition(num_partitions = 3)\n",
    "\n",
    "print(\"--\")\n"
   ]
  },
  {
   "cell_type": "markdown",
   "id": "61556ce5-9044-42bc-bb13-80b6a514ae27",
   "metadata": {
    "tags": []
   },
   "source": [
    "# UDFs, Example 01: Count City Nodes"
   ]
  },
  {
   "cell_type": "code",
   "execution_count": null,
   "id": "f35bb1d6-c1fb-4e86-9df9-ec267e119dd9",
   "metadata": {},
   "outputs": [],
   "source": [
    "\n",
    "#  All of these below are translated to the Airport graph\n",
    "#\n",
    "\n",
    "#  Not an exact copy of example 1, some things left off-\n",
    "#\n",
    "def my_func(i_graph, i_label):\n",
    "    \n",
    "   l_airports = i_graph.nodes(labels = i_label)\n",
    "      #\n",
    "   print(\"Type: %s\" % (str(type(l_airports))))\n",
    "   print(\"Value: %s\" % (l_airports))\n",
    "   print(\"Loop thru the above:\")\n",
    "      #\n",
    "   for l_each in l_airports:\n",
    "      print(\"   \" + str(l_each))\n",
    "        \n",
    "   print(\"Airport Node Count\", len(l_airports))\n",
    "\n",
    "   return\n",
    "\n",
    "l_result = my_graph.run(lambda g: my_func(g, \"Airport\"))\n",
    "\n",
    "\n",
    "#  Sample output,\n",
    "#\n",
    "#     Host 0 output:\n",
    "#     Type: <class 'katana.distributed.EntitySequenceNode'>\n",
    "#     Value: <katana.distributed.EntitySequenceNode object at 0x7f8da9fbaf30>\n",
    "#     Loop thru the above:\n",
    "#        <lnid 4294967294>\n",
    "#        <lnid 0>\n",
    "#        <lnid 1>\n",
    "#     Airport Node Count 3\n",
    "#     \n",
    "#     Host 1 output:\n",
    "#     Type: <class 'katana.distributed.EntitySequenceNode'>\n",
    "#     Value: <katana.distributed.EntitySequenceNode object at 0x7f90c5ab6df0>\n",
    "#     Loop thru the above:\n",
    "#        <lnid 4294967293>\n",
    "#        <lnid 4294967294>\n",
    "#        <lnid 0>\n",
    "#     Airport Node Count 3\n",
    "#     \n",
    "#     Host 2 output:\n",
    "#     Type: <class 'katana.distributed.EntitySequenceNode'>\n",
    "#     Value: <katana.distributed.EntitySequenceNode object at 0x7fe5882e4230>\n",
    "#     Loop thru the above:\n",
    "#        <lnid 4294967293>\n",
    "#        <lnid 4294967294>\n",
    "#        <lnid 0>\n",
    "#     Airport Node Count 3\n"
   ]
  },
  {
   "cell_type": "code",
   "execution_count": null,
   "id": "677cb6e3-9875-4dcb-9cbf-26d256ac4df3",
   "metadata": {},
   "outputs": [],
   "source": [
    "\n",
    "#  All of these below are translated to the Airport graph\n",
    "#\n",
    "\n",
    "#  An exact copy of example 1\n",
    "#\n",
    "def my_func(i_graph, i_label):\n",
    "    \n",
    "   l_airports: Sequence[Node] = i_graph.nodes(labels = i_label)\n",
    "      #\n",
    "   print(\"Type: %s\" % (str(type(l_airports))))\n",
    "   print(\"Value: %s\" % (l_airports))\n",
    "   print(\"Loop thru the above:\")\n",
    "      #\n",
    "   for l_each in l_airports:\n",
    "      print(\"   \" + str(l_each))\n",
    "\n",
    "   print(\"Airport Node Count\", len(l_airports))\n",
    "\n",
    "   return\n",
    "\n",
    "l_result = my_graph.run(lambda g: my_func(g, \"Airport\"))\n",
    "\n",
    "\n",
    "#  Sample output,\n",
    "#\n",
    "#     Host 0 output:\n",
    "#     Type: <class 'katana.distributed.EntitySequenceNode'>\n",
    "#     Value: <katana.distributed.EntitySequenceNode object at 0x7fe27927b7f0>\n",
    "#     Loop thru the above:\n",
    "#        <lnid 4294967294>\n",
    "#        <lnid 0>\n",
    "#        <lnid 1>\n",
    "#     Airport Node Count 3\n",
    "#     \n",
    "#     Host 1 output:\n",
    "#     Type: <class 'katana.distributed.EntitySequenceNode'>\n",
    "#     Value: <katana.distributed.EntitySequenceNode object at 0x7fc0f80d80f0>\n",
    "#     Loop thru the above:\n",
    "#        <lnid 4294967293>\n",
    "#        <lnid 4294967294>\n",
    "#        <lnid 0>\n",
    "#     Airport Node Count 3\n",
    "#     \n",
    "#     Host 2 output:\n",
    "#     Type: <class 'katana.distributed.EntitySequenceNode'>\n",
    "#     Value: <katana.distributed.EntitySequenceNode object at 0x7f96742bcc30>\n",
    "#     Loop thru the above:\n",
    "#        <lnid 4294967293>\n",
    "#        <lnid 4294967294>\n",
    "#        <lnid 0>\n",
    "#     Airport Node Count 3\n"
   ]
  },
  {
   "cell_type": "markdown",
   "id": "d7d38ec0-8d9b-446e-b556-de7d17f4380e",
   "metadata": {},
   "source": [
    "# UDFs, Example 02: Source Node Labels"
   ]
  },
  {
   "cell_type": "code",
   "execution_count": null,
   "id": "89d18149-b8e1-4a89-863f-90ae2142bab1",
   "metadata": {},
   "outputs": [],
   "source": [
    "\n",
    "#  Example 02, mostly as written, converted to airports\n",
    "#\n",
    "#     .  We add a second for loop for to also process out edges.\n",
    "#        This graph had one out edge, from Airport to Restaurant\n",
    "#\n",
    "\n",
    "def my_func(i_graph, i_label):\n",
    "    \n",
    "   l_airports: Sequence[Node] = i_graph.nodes(labels = i_label)\n",
    "\n",
    "   l_labels = set()                                                       #  Python sets discard duplicates\n",
    " \n",
    "   for l_node in l_airports:                                              #  All nodes of a given label\n",
    "      l_each: Node\n",
    "      for l_edge in i_graph.in_edges(l_node):                             #  In edges\n",
    "         l_edge: InEdge\n",
    "         l_src_node: Node = i_graph.in_edges.src(l_edge)\n",
    "         l_labels.add(i_graph.nodes.labels(l_src_node))\n",
    "        \n",
    "      for l_edge in i_graph.out_edges(l_node):                            #  Out edges\n",
    "         l_edge: OutEdge\n",
    "         l_dst_node: Node = i_graph.out_edges.dst(l_edge)\n",
    "         l_labels.add(i_graph.nodes.labels(l_dst_node))\n",
    "           \n",
    "   print(l_labels)\n",
    "    \n",
    "\n",
    "   return\n",
    "\n",
    "l_result = my_graph.run(lambda g: my_func(g, \"Airport\"))\n",
    "\n",
    "#  Sample output,\n",
    "#\n",
    "#     Host 0 output:\n",
    "#     {Airport}\n",
    "#     \n",
    "#     Host 1 output:\n",
    "#     {Airport, Restaurant}\n",
    "#     \n",
    "#     Host 2 output:\n",
    "#     {Airport}\n"
   ]
  },
  {
   "cell_type": "code",
   "execution_count": null,
   "id": "5045bea8-b575-4a6f-8830-1c33a3752cdf",
   "metadata": {},
   "outputs": [],
   "source": []
  },
  {
   "cell_type": "code",
   "execution_count": null,
   "id": "f5f87808-773a-4f19-894b-1d9517e02c7d",
   "metadata": {},
   "outputs": [],
   "source": []
  },
  {
   "cell_type": "markdown",
   "id": "32486574-6fe9-4c36-88cf-412726c77530",
   "metadata": {},
   "source": [
    "# UDFs, Example 03: Out-degree of a City Nodes"
   ]
  },
  {
   "cell_type": "code",
   "execution_count": null,
   "id": "175a963c-9681-4a65-b72d-b8d4181700f5",
   "metadata": {},
   "outputs": [],
   "source": [
    "\n",
    "def my_func(i_graph, i_label):\n",
    "    \n",
    "   l_airports: Sequence[Node] = i_graph.nodes(labels = i_label)\n",
    "\n",
    "   if (l_airports):                                                       #  If there are Nodes for this label\n",
    "      l_airport, *_ = l_airports                                          #  l_airport is of type, Node   <class 'katana.distributed.Node'>\n",
    "         #\n",
    "      print(\"Out degree: \", i_graph.nodes.global_out_degree(l_airport))\n",
    "\n",
    "   return\n",
    "\n",
    "l_result = my_graph.run(lambda g: my_func(g, \"Airport\"))\n",
    "\n",
    "\n",
    "#  Error,\n",
    "#\n",
    "#     Host 0 errors:\n",
    "#     Traceback (most recent call last):\n",
    "#       File \"/opt/miniconda/lib/python3.8/site-packages/katana_enterprise/worker/worker.py\", line 86, in execute\n",
    "#         value = function(graph)\n",
    "#       File \"/tmp/ipykernel_2661/2849117150.py\", line 12, in <lambda>\n",
    "#       File \"/tmp/ipykernel_2661/2849117150.py\", line 8, in my_func\n",
    "#     ValueError: Not implemented\n"
   ]
  },
  {
   "cell_type": "code",
   "execution_count": null,
   "id": "e7699051-3aec-47b2-bb59-61da60b8c378",
   "metadata": {},
   "outputs": [],
   "source": []
  },
  {
   "cell_type": "code",
   "execution_count": null,
   "id": "772fdad2-0311-4424-bf02-b10d757c6ee4",
   "metadata": {},
   "outputs": [],
   "source": []
  },
  {
   "cell_type": "markdown",
   "id": "0c89a8a0-f1fa-4821-a349-ce8e7e6a682b",
   "metadata": {},
   "source": [
    "# UDFs, Example 04: List Countries in the Graph"
   ]
  },
  {
   "cell_type": "code",
   "execution_count": 56,
   "id": "8b9e880e-4203-4d93-a26c-ad87d26874bd",
   "metadata": {},
   "outputs": [
    {
     "data": {
      "application/vnd.jupyter.widget-view+json": {
       "model_id": "159e0f7fc4304b8fa301e0a28ea0dbfa",
       "version_major": 2,
       "version_minor": 0
      },
      "text/plain": [
       "          0/? [?op/s]"
      ]
     },
     "metadata": {},
     "output_type": "display_data"
    },
    {
     "name": "stdout",
     "output_type": "stream",
     "text": [
      "\n",
      "Host 0 output:\n",
      "Airport names:  {'Milwaukee', 'Denver', 'Chicago O-Hare'}\n",
      "\n",
      "Host 1 output:\n",
      "Airport names:  {'San Jose', 'Chicago O-Hare', 'Denver'}\n",
      "\n",
      "Host 2 output:\n",
      "Airport names:  {'Chicago O-Hare', 'San Jose', 'Denver'}\n"
     ]
    }
   ],
   "source": [
    "\n",
    "def my_func(i_graph, i_label):\n",
    "    \n",
    "   l_airports: Sequence[Node] = i_graph.nodes(labels = i_label)\n",
    "\n",
    "   l_airport_name = i_graph.nodes.get_property(\"airport_name\")\n",
    "    \n",
    "   print(\"Airport names: \", set(l_airport_name[l_airports]))    \n",
    "\n",
    "   return\n",
    "    \n",
    "    \n",
    "l_result = my_graph.run(lambda g: my_func(g, \"Airport\"))\n",
    "\n",
    "\n",
    "#  Sample output,\n",
    "#\n",
    "#     Host 0 output:\n",
    "#     Airport names:  {'Denver', 'Milwaukee', 'Chicago O-Hare'}\n",
    "#     \n",
    "#     Host 1 output:\n",
    "#     Airport names:  {'San Jose', 'Chicago O-Hare', 'Denver'}\n",
    "#     \n",
    "#     Host 2 output:\n",
    "#     Airport names:  {'Denver', 'Chicago O-Hare', 'San Jose'}\n"
   ]
  },
  {
   "cell_type": "code",
   "execution_count": null,
   "id": "f832a44e-767d-485f-a0b6-9be7551186c0",
   "metadata": {},
   "outputs": [],
   "source": []
  },
  {
   "cell_type": "code",
   "execution_count": null,
   "id": "5e6a695c-da38-43c7-8d64-584fa31c0918",
   "metadata": {},
   "outputs": [],
   "source": []
  },
  {
   "cell_type": "markdown",
   "id": "b7a5879d-4555-4f8b-a373-84f25836ea4d",
   "metadata": {},
   "source": [
    "# UDFs, Example 05: Cities in Each Country"
   ]
  },
  {
   "cell_type": "code",
   "execution_count": 58,
   "id": "9ef7ee48-3f93-4f3c-94b5-6c2cba2d4fdc",
   "metadata": {},
   "outputs": [
    {
     "data": {
      "application/vnd.jupyter.widget-view+json": {
       "model_id": "01099df135624a9381989612f269f409",
       "version_major": 2,
       "version_minor": 0
      },
      "text/plain": [
       "          0/? [?op/s]"
      ]
     },
     "metadata": {},
     "output_type": "display_data"
    }
   ],
   "source": [
    "\n",
    "#  The example as listed does Cities in Country.\n",
    "#\n",
    "#  Our graph does not have that hierarchy, so we'll do Airport - FLIES_TO  -> Airport\n",
    "#\n",
    "\n",
    "def my_func(i_graph, i_property):\n",
    "    \n",
    "   l_airports: Sequence[Node] = i_graph.nodes(labels = i_property)\n",
    "\n",
    "   l_property = i_graph.nodes.get_property(\"airport_name\")\n",
    "    \n",
    "   l_dict = {}\n",
    "    \n",
    "   l_labels = i_graph.out_edges.label_manager[\"FLIES_TO\"]                 #  <class 'katana.local_native.LabelSet'>\n",
    "    \n",
    "   for l_node in l_airports:\n",
    "      for l_edge in i_graph.out_edges(node = l_node):\n",
    "         l_label = i_graph.out_edges.labels(l_edge)\n",
    "         if (l_label == l_labels):\n",
    "            l_node_dest: Node = i_graph.out_edges.dst(edge = l_edge)\n",
    "               #\n",
    "            l_dict.setdefault(l_property[l_node_dest], set()).add(l_property[l_node])\n",
    "    \n",
    "    \n",
    "    \n",
    "    \n",
    "   return\n",
    "\n",
    "l_result = my_graph.run(lambda g: my_func(g, \"Airport\"))\n",
    "\n",
    "\n"
   ]
  },
  {
   "cell_type": "code",
   "execution_count": null,
   "id": "062ecebe-b8c8-4139-8739-fe9edb6677a9",
   "metadata": {},
   "outputs": [],
   "source": [
    "\n",
    "    country_sequence: Sequence[Node] = graph.nodes(labels=\"Country\")\n",
    "    name_prop = graph.nodes.get_property(\"name\")\n",
    "\n",
    "    # What cities are located in each country?\n",
    "    city_sequence: Sequence[Node] = graph.nodes(labels=\"City\")\n",
    "    country_cities = {}\n",
    "\n",
    "    is_part_of_label = graph.out_edges.label_manager[\"IS_PART_OF\"]\n",
    "    \n",
    "    for city in city_sequence:\n",
    "        # iterate the out-edges of city\n",
    "        for out_edge in graph.out_edges(node=city): # labels=is_part_of_label\n",
    "            # Check if out_edge has the label IS_PART_OF\n",
    "            e_label = graph.out_edges.labels(out_edge)\n",
    "            if e_label == is_part_of_label:\n",
    "                country_node: Node = graph.out_edges.dst(edge=out_edge)\n",
    "                # Add the city name to the set for the appropriate country\n",
    "                country_cities.setdefault(name_prop[country_node], set()).add(name_prop[city])\n",
    "    \n",
    "    print(\"Number of Countries:\", len(country_cities))\n",
    "    if \"United_States\" in country_cities:\n",
    "        print(\"\\nCities in United States:\")\n",
    "        print(country_cities[\"United_States\"])"
   ]
  },
  {
   "cell_type": "code",
   "execution_count": null,
   "id": "4a52bea3-3fcd-43b6-b252-809c0c99e12b",
   "metadata": {},
   "outputs": [],
   "source": []
  },
  {
   "cell_type": "code",
   "execution_count": null,
   "id": "454ed9bb-ed1f-4069-a893-7c2ee1e52fd7",
   "metadata": {},
   "outputs": [],
   "source": []
  },
  {
   "cell_type": "code",
   "execution_count": null,
   "id": "21c6717d-a1fa-4d98-9b3f-1fa8213fe0ed",
   "metadata": {},
   "outputs": [],
   "source": []
  },
  {
   "cell_type": "code",
   "execution_count": null,
   "id": "811a2a53-cdcc-4a16-a0a7-315b0886c688",
   "metadata": {},
   "outputs": [],
   "source": []
  },
  {
   "cell_type": "code",
   "execution_count": null,
   "id": "f4f7ed03-30ee-4ac4-aea7-0e2eae75f748",
   "metadata": {},
   "outputs": [],
   "source": []
  },
  {
   "cell_type": "code",
   "execution_count": null,
   "id": "1cadbbb7-c727-4b44-94f7-0085a80cc908",
   "metadata": {},
   "outputs": [],
   "source": []
  },
  {
   "cell_type": "code",
   "execution_count": null,
   "id": "f36c9867-ca4d-4ce0-9c3f-7355ed932347",
   "metadata": {},
   "outputs": [],
   "source": [
    "\n",
    "def my_func(i_graph, i_property):\n",
    "    \n",
    "\n",
    "   return\n",
    "\n",
    "l_result = my_graph.run(lambda g: my_func(g, \"Airport\"))\n"
   ]
  }
 ],
 "metadata": {
  "kernelspec": {
   "display_name": "Python 3 (ipykernel)",
   "language": "python",
   "name": "python3"
  },
  "language_info": {
   "codemirror_mode": {
    "name": "ipython",
    "version": 3
   },
   "file_extension": ".py",
   "mimetype": "text/x-python",
   "name": "python",
   "nbconvert_exporter": "python",
   "pygments_lexer": "ipython3",
   "version": "3.8.13"
  }
 },
 "nbformat": 4,
 "nbformat_minor": 5
}
