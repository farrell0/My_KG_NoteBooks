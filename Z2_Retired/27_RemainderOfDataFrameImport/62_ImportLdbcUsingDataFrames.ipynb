{
 "cells": [
  {
   "cell_type": "markdown",
   "id": "8ca57dc7-c711-46ea-98cf-a8bde699b4de",
   "metadata": {
    "tags": []
   },
   "source": [
    "# Importing LDBC data into KatanaGraph using Python Pandas/Dask DataFrames\n",
    "\n",
    "**This section details how to import LDBC data into KatanaGraph, using Python Pandas/Dask DataFrames.**\n",
    "<br>\n",
    "This Notebook is part of a series of Notebooks demonstrating use of the KatanaGraph DataFrame importer.\n",
    "Where the other Notebooks target importing from other (database servers), this Notebook imports the LDBC\n",
    "data set. As LDBC is a data set and not a database, we first import the LDBC data into a Pandas/Dask\n",
    "DataFrame using the DataFrame read_csv() method.\n",
    "\n",
    "Further:\n",
    "\n",
    "-  As LDBC is already a graph modeled data set, no data maniplucation is required.\n",
    "-  We load the following vertices and edges; Person (vertice), City (vertice), and IS_LOCATED_IN (edge).\n",
    "<br>\n",
    "&nbsp;&nbsp;&nbsp;&nbsp; -- At the smallest scale factor, City is located in a single CSV file, but is entered with other (Place) data, which we wish to filter out.\n",
    "<br>\n",
    "&nbsp;&nbsp;&nbsp;&nbsp; -- At the smallest scale factor, Person is located in several CSV files, so we demonstrate a technique to manage that condition.\n"
   ]
  },
  {
   "cell_type": "markdown",
   "id": "39a8bb80-e72b-4abf-9c51-fead250cc8bf",
   "metadata": {
    "tags": []
   },
   "source": [
    "#  Setup; filenames and other control settings"
   ]
  },
  {
   "cell_type": "code",
   "execution_count": null,
   "id": "cf0fecad-e53b-4cb1-8520-c829ae203c32",
   "metadata": {},
   "outputs": [],
   "source": [
    "import dask.dataframe as dd\n",
    "import numpy as np\n",
    "\n",
    "print(\"--\")    \n",
    "    "
   ]
  },
  {
   "cell_type": "code",
   "execution_count": null,
   "id": "897ffd39-b912-4f45-92e6-916e92a517c4",
   "metadata": {},
   "outputs": [],
   "source": [
    "#  The LDBC data set, as it sits on our storage buckets, requires a good amount of string\n",
    "#  manipulation to process file names. We will avoid that burden (as it's unlikely we'd\n",
    "#  provide exactly the processing required by any consumer), and just hard code a number\n",
    "#  of input CSV file names.\n",
    "\n",
    "\n",
    "NUM_PARTITIONS = 5\n",
    "\n",
    "DB_NAME     = \"my_db\"\n",
    "GRAPH_NAME  = \"my_graph\"\n",
    "\n",
    "\n",
    "l_parent    = \"gs://katana-demo-datasets/csv-datasets/ldbc/\"\n",
    "  \n",
    "l_place     = [\n",
    "   l_parent + \"sf-0.003/csv/bi/composite-projected-fk/initial_snapshot/static/Place/part-00000-c16729dd-16d5-456b-84ca-d0f19fa783d6-c000.csv\"\n",
    "   ]\n",
    "   \n",
    "l_person    = [\n",
    "   l_parent + \"sf-0.003/csv/bi/composite-projected-fk/initial_snapshot/dynamic/Person/part-00000-18fa0376-2cfb-4b82-a7a6-e136cd266801-c000.csv\",\n",
    "   l_parent + \"sf-0.003/csv/bi/composite-projected-fk/initial_snapshot/dynamic/Person/part-00001-18fa0376-2cfb-4b82-a7a6-e136cd266801-c000.csv\",\n",
    "   l_parent + \"sf-0.003/csv/bi/composite-projected-fk/initial_snapshot/dynamic/Person/part-00002-18fa0376-2cfb-4b82-a7a6-e136cd266801-c000.csv\",\n",
    "   l_parent + \"sf-0.003/csv/bi/composite-projected-fk/initial_snapshot/dynamic/Person/part-00003-18fa0376-2cfb-4b82-a7a6-e136cd266801-c000.csv\",\n",
    "   l_parent + \"sf-0.003/csv/bi/composite-projected-fk/initial_snapshot/dynamic/Person/part-00004-18fa0376-2cfb-4b82-a7a6-e136cd266801-c000.csv\",\n",
    "   l_parent + \"sf-0.003/csv/bi/composite-projected-fk/initial_snapshot/dynamic/Person/part-00005-18fa0376-2cfb-4b82-a7a6-e136cd266801-c000.csv\",\n",
    "   l_parent + \"sf-0.003/csv/bi/composite-projected-fk/initial_snapshot/dynamic/Person/part-00006-18fa0376-2cfb-4b82-a7a6-e136cd266801-c000.csv\",\n",
    "   l_parent + \"sf-0.003/csv/bi/composite-projected-fk/initial_snapshot/dynamic/Person/part-00007-18fa0376-2cfb-4b82-a7a6-e136cd266801-c000.csv\",\n",
    "   l_parent + \"sf-0.003/csv/bi/composite-projected-fk/initial_snapshot/dynamic/Person/part-00008-18fa0376-2cfb-4b82-a7a6-e136cd266801-c000.csv\",\n",
    "   l_parent + \"sf-0.003/csv/bi/composite-projected-fk/initial_snapshot/dynamic/Person/part-00009-18fa0376-2cfb-4b82-a7a6-e136cd266801-c000.csv\",\n",
    "   l_parent + \"sf-0.003/csv/bi/composite-projected-fk/initial_snapshot/dynamic/Person/part-00010-18fa0376-2cfb-4b82-a7a6-e136cd266801-c000.csv\",\n",
    "   l_parent + \"sf-0.003/csv/bi/composite-projected-fk/initial_snapshot/dynamic/Person/part-00011-18fa0376-2cfb-4b82-a7a6-e136cd266801-c000.csv\",\n",
    "   l_parent + \"sf-0.003/csv/bi/composite-projected-fk/initial_snapshot/dynamic/Person/part-00012-18fa0376-2cfb-4b82-a7a6-e136cd266801-c000.csv\",\n",
    "   l_parent + \"sf-0.003/csv/bi/composite-projected-fk/initial_snapshot/dynamic/Person/part-00013-18fa0376-2cfb-4b82-a7a6-e136cd266801-c000.csv\",\n",
    "   l_parent + \"sf-0.003/csv/bi/composite-projected-fk/initial_snapshot/dynamic/Person/part-00014-18fa0376-2cfb-4b82-a7a6-e136cd266801-c000.csv\",\n",
    "   l_parent + \"sf-0.003/csv/bi/composite-projected-fk/initial_snapshot/dynamic/Person/part-00015-18fa0376-2cfb-4b82-a7a6-e136cd266801-c000.csv\",\n",
    "   ]\n",
    "\n",
    "l_located   = [\n",
    "   l_parent + \"sf-0.003/csv/bi/composite-projected-fk/initial_snapshot/dynamic/Person_isLocatedIn_Place/part-00000-cc301033-2cd0-4094-b5cd-c85099d3f7ed-c000.csv\",\n",
    "   l_parent + \"sf-0.003/csv/bi/composite-projected-fk/initial_snapshot/dynamic/Person_isLocatedIn_Place/part-00001-cc301033-2cd0-4094-b5cd-c85099d3f7ed-c000.csv\",\n",
    "   l_parent + \"sf-0.003/csv/bi/composite-projected-fk/initial_snapshot/dynamic/Person_isLocatedIn_Place/part-00002-cc301033-2cd0-4094-b5cd-c85099d3f7ed-c000.csv\",\n",
    "   l_parent + \"sf-0.003/csv/bi/composite-projected-fk/initial_snapshot/dynamic/Person_isLocatedIn_Place/part-00003-cc301033-2cd0-4094-b5cd-c85099d3f7ed-c000.csv\",\n",
    "   l_parent + \"sf-0.003/csv/bi/composite-projected-fk/initial_snapshot/dynamic/Person_isLocatedIn_Place/part-00004-cc301033-2cd0-4094-b5cd-c85099d3f7ed-c000.csv\",\n",
    "   l_parent + \"sf-0.003/csv/bi/composite-projected-fk/initial_snapshot/dynamic/Person_isLocatedIn_Place/part-00005-cc301033-2cd0-4094-b5cd-c85099d3f7ed-c000.csv\",\n",
    "   l_parent + \"sf-0.003/csv/bi/composite-projected-fk/initial_snapshot/dynamic/Person_isLocatedIn_Place/part-00006-cc301033-2cd0-4094-b5cd-c85099d3f7ed-c000.csv\",\n",
    "   l_parent + \"sf-0.003/csv/bi/composite-projected-fk/initial_snapshot/dynamic/Person_isLocatedIn_Place/part-00007-cc301033-2cd0-4094-b5cd-c85099d3f7ed-c000.csv\",\n",
    "   l_parent + \"sf-0.003/csv/bi/composite-projected-fk/initial_snapshot/dynamic/Person_isLocatedIn_Place/part-00008-cc301033-2cd0-4094-b5cd-c85099d3f7ed-c000.csv\",\n",
    "   l_parent + \"sf-0.003/csv/bi/composite-projected-fk/initial_snapshot/dynamic/Person_isLocatedIn_Place/part-00009-cc301033-2cd0-4094-b5cd-c85099d3f7ed-c000.csv\",\n",
    "   l_parent + \"sf-0.003/csv/bi/composite-projected-fk/initial_snapshot/dynamic/Person_isLocatedIn_Place/part-00010-cc301033-2cd0-4094-b5cd-c85099d3f7ed-c000.csv\",\n",
    "   l_parent + \"sf-0.003/csv/bi/composite-projected-fk/initial_snapshot/dynamic/Person_isLocatedIn_Place/part-00011-cc301033-2cd0-4094-b5cd-c85099d3f7ed-c000.csv\",\n",
    "   l_parent + \"sf-0.003/csv/bi/composite-projected-fk/initial_snapshot/dynamic/Person_isLocatedIn_Place/part-00012-cc301033-2cd0-4094-b5cd-c85099d3f7ed-c000.csv\",\n",
    "   l_parent + \"sf-0.003/csv/bi/composite-projected-fk/initial_snapshot/dynamic/Person_isLocatedIn_Place/part-00013-cc301033-2cd0-4094-b5cd-c85099d3f7ed-c000.csv\",\n",
    "   l_parent + \"sf-0.003/csv/bi/composite-projected-fk/initial_snapshot/dynamic/Person_isLocatedIn_Place/part-00014-cc301033-2cd0-4094-b5cd-c85099d3f7ed-c000.csv\",\n",
    "   l_parent + \"sf-0.003/csv/bi/composite-projected-fk/initial_snapshot/dynamic/Person_isLocatedIn_Place/part-00015-cc301033-2cd0-4094-b5cd-c85099d3f7ed-c000.csv\",\n",
    "   ]\n",
    "    \n",
    "print(\"--\")    \n",
    "    "
   ]
  },
  {
   "cell_type": "markdown",
   "id": "cdc0b086-c00b-4757-9ee8-a633c46b94de",
   "metadata": {
    "tags": []
   },
   "source": [
    "#  Read 3 of the LDBC data files"
   ]
  },
  {
   "cell_type": "code",
   "execution_count": null,
   "id": "30b3e62f-71eb-427e-88f1-b19eb463b342",
   "metadata": {},
   "outputs": [],
   "source": [
    "#  Read just City. City is included in a file for all places; Country, City, (possibly other)\n",
    "\n",
    "l_place_df = dd.read_csv(\n",
    "   l_place,\n",
    "   delimiter =\"|\",\n",
    "   header    = 0,\n",
    "   dtype={\n",
    "      \"id\"   : int,\n",
    "      \"name\" : np.dtype(\"O\"),\n",
    "      \"url\"  : np.dtype(\"O\"),\n",
    "      \"type\" : np.dtype(\"O\"),\n",
    "      })\n",
    "         #\n",
    "l_city_df  =  l_place_df.loc[(l_place_df[\"type\"].isin([\"City\"]))]\n",
    "\n",
    "\n",
    "display(\"Number of records: \" + str(len(l_city_df.index)))\n",
    "   #\n",
    "display(l_city_df.head(5))\n",
    "\n",
    "\n",
    "print(\"--\")\n"
   ]
  },
  {
   "cell_type": "code",
   "execution_count": null,
   "id": "95e9997e-5619-4025-b9ae-2677b7ef389a",
   "metadata": {},
   "outputs": [],
   "source": [
    "#  Read Person-\n",
    "#\n",
    "#  Even at the smallest scale factor, Person is spread across a large number of files.\n",
    "\n",
    "l_person_df = dd.read_csv(\n",
    "   l_person,\n",
    "   delimiter =\"|\",\n",
    "   header    = 0,\n",
    "   dtype={\n",
    "      \"creationDate\"  : np.dtype(\"O\"),\n",
    "      \"id\"            : int,\n",
    "      \"firstName\"     : np.dtype(\"O\"),\n",
    "      \"lastName\"      : np.dtype(\"O\"),\n",
    "      \"gender\"        : np.dtype(\"O\"),\n",
    "      \"birthday\"      : np.dtype(\"O\"),\n",
    "      \"locationIP\"    : np.dtype(\"O\"),\n",
    "      \"browserUsed\"   : np.dtype(\"O\"),\n",
    "      \"language\"      : np.dtype(\"O\"),\n",
    "      \"email\"         : np.dtype(\"O\"),\n",
    "      })\n",
    "\n",
    "\n",
    "display(\"Number of records: \" + str(len(l_person_df.index)))\n",
    "   #\n",
    "display(l_person_df.head(n=5, npartitions=NUM_PARTITIONS))\n",
    "\n",
    "\n",
    "display(\"--\")\n"
   ]
  },
  {
   "cell_type": "code",
   "execution_count": null,
   "id": "ad3b58ca-f0d8-4920-88dc-378ab2562413",
   "metadata": {},
   "outputs": [],
   "source": [
    "#  Read the edge, IS_LOCATED_IN\n",
    "\n",
    "l_located_df = dd.read_csv(\n",
    "   l_located,\n",
    "   delimiter =\"|\",\n",
    "   header    = 0,\n",
    "   dtype={\n",
    "      \"creationDate\"  : np.dtype(\"O\"),\n",
    "      \"Person.id\"       : int,\n",
    "      \"Place.id\"        : int,\n",
    "      })\n",
    "\n",
    "\n",
    "display(\"Number of records: \" + str(len(l_located_df.index)))\n",
    "   #\n",
    "display(l_located_df.head(n=5, npartitions=NUM_PARTITIONS))\n",
    "\n",
    "\n",
    "display(\"--\")\n"
   ]
  },
  {
   "cell_type": "markdown",
   "id": "25433785-da9f-463c-b418-2fb16dbe97af",
   "metadata": {},
   "source": [
    "#  Graph setup .."
   ]
  },
  {
   "cell_type": "code",
   "execution_count": null,
   "id": "b44982b7-a184-4501-b33a-d06301a0b9ba",
   "metadata": {},
   "outputs": [],
   "source": [
    "import os\n",
    "\n",
    "from katana import remote\n",
    "from katana.remote import import_data\n",
    "\n",
    "\n",
    "my_client = remote.Client()\n",
    "\n",
    "print(my_client)\n"
   ]
  },
  {
   "cell_type": "code",
   "execution_count": null,
   "id": "6c9082a5-6313-4aa7-a61a-0198e69be7e9",
   "metadata": {},
   "outputs": [],
   "source": [
    "#  CREATE DATABASE\n",
    "\n",
    "my_database = my_client.create_database(name=DB_NAME)\n",
    "\n",
    "print(my_database.database_id)"
   ]
  },
  {
   "cell_type": "code",
   "execution_count": null,
   "id": "7da1b1a2-1386-4875-888f-d14735f893c3",
   "metadata": {},
   "outputs": [],
   "source": [
    "#  CREATE A GRAPH\n",
    "\n",
    "my_graph=my_client.get_database(name=DB_NAME).create_graph(name=GRAPH_NAME, num_partitions=NUM_PARTITIONS)\n",
    "\n",
    "print(my_graph)"
   ]
  },
  {
   "cell_type": "markdown",
   "id": "8e5e8b8f-9233-4405-802a-4cd7900dd3d8",
   "metadata": {},
   "source": [
    "#  Make the Graph from the 3 previously imported DataFrames"
   ]
  },
  {
   "cell_type": "code",
   "execution_count": null,
   "id": "30cf1827-0bac-4f78-8c92-d570380b17e0",
   "metadata": {},
   "outputs": [],
   "source": [
    "# Import the 3 previously created (LDBC) Python DataFrames into KatanaGraph\n",
    "\n",
    "with import_data.DataFrameImporter(my_graph) as df_importer:   \n",
    "    \n",
    "   df_importer.nodes_dataframe(l_city_df,                      #  City set of Nodes\n",
    "      id_column             = \"id\",    \n",
    "      id_space              = \"City\",  \n",
    "      label                 = \"City\",  \n",
    "      )\n",
    "    \n",
    "   df_importer.nodes_dataframe(l_person_df,                    #  Person set of Nodes\n",
    "      id_column             = \"id\",\n",
    "      id_space              = \"Person\", \n",
    "      label                 = \"Person\", \n",
    "      )\n",
    "   \n",
    "   df_importer.edges_dataframe(l_located_df,                    #  Our Edge, specifying the relationship between Person --> IS_LOCATED_IN --> City\n",
    "      source_id_space       = \"Person\", \n",
    "      destination_id_space  = \"City\",   \n",
    "      source_column         = \"Person.id\",\n",
    "      destination_column    = \"Place.id\",\n",
    "      type                  = \"IS_LOCATED_IN\"\n",
    "      )\n",
    "\n",
    "print(\"--\")\n"
   ]
  },
  {
   "cell_type": "markdown",
   "id": "3d771735-5207-4d63-aac6-403ce565a7ad",
   "metadata": {},
   "source": [
    "#  The result set should resemble\n",
    "\n",
    "![Data Model](./01_Images/result_set2.png)"
   ]
  },
  {
   "cell_type": "code",
   "execution_count": null,
   "id": "9cea2f0a-a8ab-4781-b4e3-b8d7ab2d8bc5",
   "metadata": {},
   "outputs": [],
   "source": [
    "#  Take a look at the graph ..\n",
    "\n",
    "display(my_graph.num_nodes())\n",
    "display(my_graph.num_edges())\n",
    "\n",
    "l_result = my_graph.query(\"\"\"\n",
    "\n",
    "   MATCH (n)  - [ r ] ->  (m )\n",
    "   RETURN n, m, r\n",
    "   LIMIT 100\n",
    "   \n",
    "   \"\"\", contextualize=True)\n",
    "\n",
    "l_result.view()\n"
   ]
  }
 ],
 "metadata": {
  "kernelspec": {
   "display_name": "Python 3 (ipykernel)",
   "language": "python",
   "name": "python3"
  },
  "language_info": {
   "codemirror_mode": {
    "name": "ipython",
    "version": 3
   },
   "file_extension": ".py",
   "mimetype": "text/x-python",
   "name": "python",
   "nbconvert_exporter": "python",
   "pygments_lexer": "ipython3",
   "version": "3.8.13"
  }
 },
 "nbformat": 4,
 "nbformat_minor": 5
}
