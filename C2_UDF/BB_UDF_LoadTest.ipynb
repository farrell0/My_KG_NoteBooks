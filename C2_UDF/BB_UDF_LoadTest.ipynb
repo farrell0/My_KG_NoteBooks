{
 "cells": [
  {
   "cell_type": "markdown",
   "id": "43b1755b-2af6-4570-84de-764a0024a919",
   "metadata": {
    "tags": []
   },
   "source": [
    "#  Display options:"
   ]
  },
  {
   "cell_type": "code",
   "execution_count": 1,
   "id": "d7a11486-11ea-4a6c-8f7b-6f3808dfc85e",
   "metadata": {},
   "outputs": [
    {
     "name": "stdout",
     "output_type": "stream",
     "text": [
      "Exception reporting mode: Minimal\n"
     ]
    },
    {
     "data": {
      "text/html": [],
      "text/plain": [
       "<IPython.core.display.HTML object>"
      ]
     },
     "metadata": {},
     "output_type": "display_data"
    },
    {
     "name": "stdout",
     "output_type": "stream",
     "text": [
      "--\n"
     ]
    }
   ],
   "source": [
    "\n",
    "%load_ext autoreload\n",
    "%autoreload 2\n",
    "\n",
    "%xmode Minimal\n",
    "\n",
    "#  Setting display options \n",
    "#\n",
    "import pandas as pd\n",
    "pd.set_option(\"display.width\", 640)\n",
    "   #\n",
    "import numpy as np\n",
    "np.set_printoptions(edgeitems = 30, linewidth = 100000, \n",
    "   formatter = dict(float = lambda x: \"%.3g\" % x))\n",
    "\n",
    "\n",
    "#  Sets horizontal scroll for wide outputs\n",
    "#\n",
    "from IPython.display import display, HTML\n",
    "display(HTML(\"\"))\n",
    "\n",
    "from tabulate import tabulate\n",
    "\n",
    "\n",
    "   ###\n",
    "\n",
    "    \n",
    "#  How to use tabulate-\n",
    "#\n",
    "l_result = [{ \"col1\": 20, \"col2\": 30}]\n",
    "   #\n",
    "#  print(tabulate(l_result, headers='keys', tablefmt='psql', showindex=False))\n",
    "\n",
    "print(\"--\")\n"
   ]
  },
  {
   "cell_type": "markdown",
   "id": "d3ebe820-bc6d-4948-b668-8b81cd3cbf29",
   "metadata": {
    "tags": []
   },
   "source": [
    "#  Setup stuff: Connectivity"
   ]
  },
  {
   "cell_type": "code",
   "execution_count": 2,
   "id": "1ea957d6-30c6-427a-ae4e-15ecfba0c4f9",
   "metadata": {},
   "outputs": [
    {
     "name": "stdout",
     "output_type": "stream",
     "text": [
      "<katana.remote.sync_wrappers.Client object at 0x7f6460956c70>\n"
     ]
    }
   ],
   "source": [
    "\n",
    "from katana import remote\n",
    "\n",
    "my_client = remote.Client()\n",
    "\n",
    "print(my_client)\n"
   ]
  },
  {
   "cell_type": "code",
   "execution_count": 3,
   "id": "97571016-7c02-4e90-a75a-136a0dacd35f",
   "metadata": {},
   "outputs": [
    {
     "name": "stdout",
     "output_type": "stream",
     "text": [
      "--\n"
     ]
    }
   ],
   "source": [
    "\n",
    "NUM_PARTITIONS  = 3\n",
    "   #\n",
    "DB_NAME         = \"my_db\"\n",
    "GRAPH_NAME      = \"my_graph_BB\"\n",
    "\n",
    "print(\"--\")\n"
   ]
  },
  {
   "cell_type": "code",
   "execution_count": null,
   "id": "0c5777bc-9904-4421-9273-a8aa6d3057db",
   "metadata": {},
   "outputs": [],
   "source": [
    "\n",
    "#  Create database\n",
    "\n",
    "my_database = my_client.create_database(name=DB_NAME)\n",
    "\n",
    "print(my_database.database_id)\n"
   ]
  },
  {
   "cell_type": "code",
   "execution_count": null,
   "id": "5b303376-0d31-449a-b1a0-732df0570889",
   "metadata": {},
   "outputs": [],
   "source": [
    "\n",
    "#  Create graph\n",
    "#\n",
    "my_graph = my_client.get_database(name=DB_NAME).create_graph(name=GRAPH_NAME, num_partitions=NUM_PARTITIONS)\n",
    "\n",
    "print(my_graph)\n"
   ]
  },
  {
   "cell_type": "code",
   "execution_count": 4,
   "id": "c5db6505-7fc8-4779-b194-9ed8945b9a90",
   "metadata": {},
   "outputs": [
    {
     "name": "stdout",
     "output_type": "stream",
     "text": [
      "<_Graph my_graph_BB, CgeN7QGhx2Ao7PbLXsWD5tVC9H3KkW9jfmDTqeF88Dzq, 280>\n"
     ]
    }
   ],
   "source": [
    "\n",
    "#  Connect to graph\n",
    "\n",
    "my_graph, *_ = my_client.get_database(name=DB_NAME).find_graphs_by_name(GRAPH_NAME)\n",
    "\n",
    "print(my_graph)\n"
   ]
  },
  {
   "cell_type": "code",
   "execution_count": null,
   "id": "58946894-453f-4672-bb0c-3109de32b0c6",
   "metadata": {},
   "outputs": [],
   "source": [
    "\n",
    "#  Now that we share servers, get a better list of databases and graphs ..\n",
    "#\n",
    "\n",
    "for l_each_d in my_client.databases():\n",
    "   print(\"Database Name: %-28s   Id: %s\" % (l_each_d.name, l_each_d.database_id))\n",
    "      #\n",
    "   for l_each_g in my_client.get_database(name=l_each_d.name).graphs_in_database(): \n",
    "      print(\"   Graph Name: %-28s      Version: %-8d   Id: %s\" % (l_each_g.name, l_each_g.version, l_each_g.graph_id))\n",
    "\n",
    "\n",
    "print(\"\"  )\n",
    "print(\"--\")\n"
   ]
  },
  {
   "cell_type": "markdown",
   "id": "a2077542-b136-4b57-9c87-c81942e08db3",
   "metadata": {
    "tags": []
   },
   "source": [
    "#  UDFs, Part 01: Just MPI"
   ]
  },
  {
   "cell_type": "code",
   "execution_count": null,
   "id": "4463948c-cc50-4fc0-b001-28dc883f2f7d",
   "metadata": {},
   "outputs": [],
   "source": [
    "\n",
    "#  Best practice; Have a second NoteBook open with the Operations Widget ready-\n",
    "#\n",
    "#  Why ?\n",
    "#     When you make mistakes below, you will want to kill the Python job that is running\n",
    "#     on the worker nodes, the UDFs you submit below-\n",
    "#\n",
    "#  Source,\n",
    "#     https://mpi4py.readthedocs.io/en/stable/tutorial.html\n"
   ]
  },
  {
   "cell_type": "code",
   "execution_count": null,
   "id": "f5f746be-53db-4cc4-a765-53605277f265",
   "metadata": {},
   "outputs": [
    {
     "name": "stdout",
     "output_type": "stream",
     "text": [
      "Running interation:  2               \n"
     ]
    },
    {
     "data": {
      "application/vnd.jupyter.widget-view+json": {
       "model_id": "a787cc8679934af09bb2b47e8d483988",
       "version_major": 2,
       "version_minor": 0
      },
      "text/plain": [
       " 0 messages received [?msg/s ]"
      ]
     },
     "metadata": {},
     "output_type": "display_data"
    },
    {
     "name": "stderr",
     "output_type": "stream",
     "text": [
      "WARNING:root:error while waiting, retrying (attempt=0)\n"
     ]
    },
    {
     "data": {
      "application/vnd.jupyter.widget-view+json": {
       "model_id": "c3db15b46ae34cd4b31500ca828ce64c",
       "version_major": 2,
       "version_minor": 0
      },
      "text/plain": [
       " 0 messages received [?msg/s ]"
      ]
     },
     "metadata": {},
     "output_type": "display_data"
    },
    {
     "name": "stderr",
     "output_type": "stream",
     "text": [
      "WARNING:root:error while waiting, retrying (attempt=1)\n"
     ]
    },
    {
     "data": {
      "application/vnd.jupyter.widget-view+json": {
       "model_id": "56adfe5c1a2d4a0c9611c16d508b329e",
       "version_major": 2,
       "version_minor": 0
      },
      "text/plain": [
       " 0 messages received [?msg/s ]"
      ]
     },
     "metadata": {},
     "output_type": "display_data"
    },
    {
     "name": "stderr",
     "output_type": "stream",
     "text": [
      "WARNING:root:error while waiting, retrying (attempt=2)\n"
     ]
    },
    {
     "data": {
      "application/vnd.jupyter.widget-view+json": {
       "model_id": "5f811d22276d4d678ad37ae34bac619c",
       "version_major": 2,
       "version_minor": 0
      },
      "text/plain": [
       " 0 messages received [?msg/s ]"
      ]
     },
     "metadata": {},
     "output_type": "display_data"
    },
    {
     "name": "stderr",
     "output_type": "stream",
     "text": [
      "WARNING:root:error while waiting, retrying (attempt=3)\n"
     ]
    },
    {
     "data": {
      "application/vnd.jupyter.widget-view+json": {
       "model_id": "21ed4801f0fd445dae64b1f5b46f7112",
       "version_major": 2,
       "version_minor": 0
      },
      "text/plain": [
       " 0 messages received [?msg/s ]"
      ]
     },
     "metadata": {},
     "output_type": "display_data"
    },
    {
     "name": "stderr",
     "output_type": "stream",
     "text": [
      "WARNING:root:error while waiting, retrying (attempt=4)\n"
     ]
    },
    {
     "data": {
      "application/vnd.jupyter.widget-view+json": {
       "model_id": "1bb36dae0d4a40b9a9291685812e42d2",
       "version_major": 2,
       "version_minor": 0
      },
      "text/plain": [
       " 0 messages received [?msg/s ]"
      ]
     },
     "metadata": {},
     "output_type": "display_data"
    },
    {
     "name": "stderr",
     "output_type": "stream",
     "text": [
      "WARNING:root:error while waiting, retrying (attempt=5)\n"
     ]
    },
    {
     "data": {
      "application/vnd.jupyter.widget-view+json": {
       "model_id": "38fb589fbe314d388b5d3675e1c5e808",
       "version_major": 2,
       "version_minor": 0
      },
      "text/plain": [
       " 0 messages received [?msg/s ]"
      ]
     },
     "metadata": {},
     "output_type": "display_data"
    },
    {
     "name": "stderr",
     "output_type": "stream",
     "text": [
      "WARNING:root:error while waiting, retrying (attempt=6)\n"
     ]
    },
    {
     "data": {
      "application/vnd.jupyter.widget-view+json": {
       "model_id": "6a29713f31104886ba51ddf989393502",
       "version_major": 2,
       "version_minor": 0
      },
      "text/plain": [
       " 0 messages received [?msg/s ]"
      ]
     },
     "metadata": {},
     "output_type": "display_data"
    },
    {
     "name": "stderr",
     "output_type": "stream",
     "text": [
      "WARNING:root:error while waiting, retrying (attempt=7)\n"
     ]
    },
    {
     "data": {
      "application/vnd.jupyter.widget-view+json": {
       "model_id": "4955c09514c0427eb0ca549862629378",
       "version_major": 2,
       "version_minor": 0
      },
      "text/plain": [
       " 0 messages received [?msg/s ]"
      ]
     },
     "metadata": {},
     "output_type": "display_data"
    },
    {
     "name": "stderr",
     "output_type": "stream",
     "text": [
      "WARNING:root:error while waiting, retrying (attempt=8)\n"
     ]
    },
    {
     "data": {
      "application/vnd.jupyter.widget-view+json": {
       "model_id": "97ca4348c04f4556bbc08b96bc7ce02f",
       "version_major": 2,
       "version_minor": 0
      },
      "text/plain": [
       " 0 messages received [?msg/s ]"
      ]
     },
     "metadata": {},
     "output_type": "display_data"
    },
    {
     "name": "stderr",
     "output_type": "stream",
     "text": [
      "WARNING:root:error while waiting, retrying (attempt=9)\n"
     ]
    },
    {
     "data": {
      "application/vnd.jupyter.widget-view+json": {
       "model_id": "7217bff667d94f46a56d1695ba286863",
       "version_major": 2,
       "version_minor": 0
      },
      "text/plain": [
       " 0 messages received [?msg/s ]"
      ]
     },
     "metadata": {},
     "output_type": "display_data"
    },
    {
     "name": "stderr",
     "output_type": "stream",
     "text": [
      "WARNING:root:error while waiting, retrying (attempt=10)\n",
      "WARNING:root:error during keep_alive, retrying (attempt=0)\n"
     ]
    },
    {
     "data": {
      "application/vnd.jupyter.widget-view+json": {
       "model_id": "b2854377f3444d44a518815556524143",
       "version_major": 2,
       "version_minor": 0
      },
      "text/plain": [
       " 0 messages received [?msg/s ]"
      ]
     },
     "metadata": {},
     "output_type": "display_data"
    },
    {
     "name": "stderr",
     "output_type": "stream",
     "text": [
      "WARNING:root:error while waiting, retrying (attempt=11)\n"
     ]
    },
    {
     "data": {
      "application/vnd.jupyter.widget-view+json": {
       "model_id": "9eb4fccc1fc9447a9cc9f5a6641762e2",
       "version_major": 2,
       "version_minor": 0
      },
      "text/plain": [
       " 0 messages received [?msg/s ]"
      ]
     },
     "metadata": {},
     "output_type": "display_data"
    },
    {
     "name": "stderr",
     "output_type": "stream",
     "text": [
      "WARNING:root:error while waiting, retrying (attempt=12)\n"
     ]
    },
    {
     "data": {
      "application/vnd.jupyter.widget-view+json": {
       "model_id": "32f94a5ab29e461ea713b49423a6b3be",
       "version_major": 2,
       "version_minor": 0
      },
      "text/plain": [
       " 0 messages received [?msg/s ]"
      ]
     },
     "metadata": {},
     "output_type": "display_data"
    },
    {
     "name": "stderr",
     "output_type": "stream",
     "text": [
      "WARNING:root:error while waiting, retrying (attempt=13)\n"
     ]
    },
    {
     "data": {
      "application/vnd.jupyter.widget-view+json": {
       "model_id": "477b7ae38b74465dad56b27b87946376",
       "version_major": 2,
       "version_minor": 0
      },
      "text/plain": [
       " 0 messages received [?msg/s ]"
      ]
     },
     "metadata": {},
     "output_type": "display_data"
    },
    {
     "name": "stderr",
     "output_type": "stream",
     "text": [
      "WARNING:root:error while waiting, retrying (attempt=14)\n"
     ]
    },
    {
     "data": {
      "application/vnd.jupyter.widget-view+json": {
       "model_id": "2d0085ddb5e84ec2bc87791371b59a34",
       "version_major": 2,
       "version_minor": 0
      },
      "text/plain": [
       " 0 messages received [?msg/s ]"
      ]
     },
     "metadata": {},
     "output_type": "display_data"
    },
    {
     "name": "stderr",
     "output_type": "stream",
     "text": [
      "WARNING:root:error while waiting, retrying (attempt=15)\n"
     ]
    },
    {
     "data": {
      "application/vnd.jupyter.widget-view+json": {
       "model_id": "c5d958bdd7b640b7b10e737e63545704",
       "version_major": 2,
       "version_minor": 0
      },
      "text/plain": [
       " 0 messages received [?msg/s ]"
      ]
     },
     "metadata": {},
     "output_type": "display_data"
    },
    {
     "name": "stderr",
     "output_type": "stream",
     "text": [
      "WARNING:root:error while waiting, retrying (attempt=16)\n"
     ]
    },
    {
     "data": {
      "application/vnd.jupyter.widget-view+json": {
       "model_id": "bad6126c8a354d1e8166e2b9c0006480",
       "version_major": 2,
       "version_minor": 0
      },
      "text/plain": [
       " 0 messages received [?msg/s ]"
      ]
     },
     "metadata": {},
     "output_type": "display_data"
    },
    {
     "name": "stderr",
     "output_type": "stream",
     "text": [
      "WARNING:root:error while waiting, retrying (attempt=17)\n"
     ]
    },
    {
     "data": {
      "application/vnd.jupyter.widget-view+json": {
       "model_id": "cd2f1008eb8f4be5a81c168c626a11a3",
       "version_major": 2,
       "version_minor": 0
      },
      "text/plain": [
       " 0 messages received [?msg/s ]"
      ]
     },
     "metadata": {},
     "output_type": "display_data"
    },
    {
     "name": "stderr",
     "output_type": "stream",
     "text": [
      "WARNING:root:error while waiting, retrying (attempt=18)\n"
     ]
    },
    {
     "data": {
      "application/vnd.jupyter.widget-view+json": {
       "model_id": "efbce62c066040ca9a5c6835b23ff81c",
       "version_major": 2,
       "version_minor": 0
      },
      "text/plain": [
       " 0 messages received [?msg/s ]"
      ]
     },
     "metadata": {},
     "output_type": "display_data"
    },
    {
     "name": "stderr",
     "output_type": "stream",
     "text": [
      "WARNING:root:error while waiting, retrying (attempt=19)\n"
     ]
    },
    {
     "data": {
      "application/vnd.jupyter.widget-view+json": {
       "model_id": "138ff6937ee2429b9177a94f1e074edd",
       "version_major": 2,
       "version_minor": 0
      },
      "text/plain": [
       " 0 messages received [?msg/s ]"
      ]
     },
     "metadata": {},
     "output_type": "display_data"
    },
    {
     "name": "stderr",
     "output_type": "stream",
     "text": [
      "WARNING:root:error while waiting, retrying (attempt=20)\n"
     ]
    },
    {
     "data": {
      "application/vnd.jupyter.widget-view+json": {
       "model_id": "92ebe237768041d48ec5f1173e8ce385",
       "version_major": 2,
       "version_minor": 0
      },
      "text/plain": [
       " 0 messages received [?msg/s ]"
      ]
     },
     "metadata": {},
     "output_type": "display_data"
    },
    {
     "name": "stderr",
     "output_type": "stream",
     "text": [
      "WARNING:root:error while waiting, retrying (attempt=21)\n"
     ]
    },
    {
     "data": {
      "application/vnd.jupyter.widget-view+json": {
       "model_id": "bcb9b5e37afc4a1bb115547b599d8b8d",
       "version_major": 2,
       "version_minor": 0
      },
      "text/plain": [
       " 0 messages received [?msg/s ]"
      ]
     },
     "metadata": {},
     "output_type": "display_data"
    },
    {
     "name": "stderr",
     "output_type": "stream",
     "text": [
      "WARNING:root:error while waiting, retrying (attempt=22)\n"
     ]
    },
    {
     "data": {
      "application/vnd.jupyter.widget-view+json": {
       "model_id": "437f4dc746854b7d9deae794d4d148d1",
       "version_major": 2,
       "version_minor": 0
      },
      "text/plain": [
       " 0 messages received [?msg/s ]"
      ]
     },
     "metadata": {},
     "output_type": "display_data"
    },
    {
     "name": "stderr",
     "output_type": "stream",
     "text": [
      "WARNING:root:error while waiting, retrying (attempt=23)\n"
     ]
    },
    {
     "data": {
      "application/vnd.jupyter.widget-view+json": {
       "model_id": "4c0ec8ca22a7414390daf97952b9dad5",
       "version_major": 2,
       "version_minor": 0
      },
      "text/plain": [
       " 0 messages received [?msg/s ]"
      ]
     },
     "metadata": {},
     "output_type": "display_data"
    },
    {
     "name": "stderr",
     "output_type": "stream",
     "text": [
      "WARNING:root:error while waiting, retrying (attempt=24)\n"
     ]
    },
    {
     "data": {
      "application/vnd.jupyter.widget-view+json": {
       "model_id": "d0da9873651d441f819e41c8b276564d",
       "version_major": 2,
       "version_minor": 0
      },
      "text/plain": [
       " 0 messages received [?msg/s ]"
      ]
     },
     "metadata": {},
     "output_type": "display_data"
    },
    {
     "name": "stderr",
     "output_type": "stream",
     "text": [
      "WARNING:root:error while waiting, retrying (attempt=25)\n"
     ]
    },
    {
     "data": {
      "application/vnd.jupyter.widget-view+json": {
       "model_id": "56f27e83efa5463fa77df6d3b7f47c6a",
       "version_major": 2,
       "version_minor": 0
      },
      "text/plain": [
       " 0 messages received [?msg/s ]"
      ]
     },
     "metadata": {},
     "output_type": "display_data"
    },
    {
     "name": "stderr",
     "output_type": "stream",
     "text": [
      "WARNING:root:error while waiting, retrying (attempt=26)\n"
     ]
    },
    {
     "data": {
      "application/vnd.jupyter.widget-view+json": {
       "model_id": "283023ad5c7a450cab6ca8c4f77ecebe",
       "version_major": 2,
       "version_minor": 0
      },
      "text/plain": [
       " 0 messages received [?msg/s ]"
      ]
     },
     "metadata": {},
     "output_type": "display_data"
    },
    {
     "name": "stderr",
     "output_type": "stream",
     "text": [
      "WARNING:root:error while waiting, retrying (attempt=27)\n"
     ]
    },
    {
     "data": {
      "application/vnd.jupyter.widget-view+json": {
       "model_id": "8c8af0a1606b47e4a34dfee5e552f130",
       "version_major": 2,
       "version_minor": 0
      },
      "text/plain": [
       " 0 messages received [?msg/s ]"
      ]
     },
     "metadata": {},
     "output_type": "display_data"
    },
    {
     "name": "stderr",
     "output_type": "stream",
     "text": [
      "WARNING:root:error while waiting, retrying (attempt=28)\n"
     ]
    },
    {
     "data": {
      "application/vnd.jupyter.widget-view+json": {
       "model_id": "c8779e1b91674e8eba0b600dc7a8f40e",
       "version_major": 2,
       "version_minor": 0
      },
      "text/plain": [
       " 0 messages received [?msg/s ]"
      ]
     },
     "metadata": {},
     "output_type": "display_data"
    },
    {
     "name": "stderr",
     "output_type": "stream",
     "text": [
      "WARNING:root:error while waiting, retrying (attempt=29)\n"
     ]
    },
    {
     "data": {
      "application/vnd.jupyter.widget-view+json": {
       "model_id": "9c5602bc94ec406daa96fd23d1ee808c",
       "version_major": 2,
       "version_minor": 0
      },
      "text/plain": [
       " 0 messages received [?msg/s ]"
      ]
     },
     "metadata": {},
     "output_type": "display_data"
    },
    {
     "name": "stderr",
     "output_type": "stream",
     "text": [
      "WARNING:root:error while waiting, retrying (attempt=30)\n"
     ]
    },
    {
     "data": {
      "application/vnd.jupyter.widget-view+json": {
       "model_id": "62408109a62d47caae26e82e3c819e92",
       "version_major": 2,
       "version_minor": 0
      },
      "text/plain": [
       " 0 messages received [?msg/s ]"
      ]
     },
     "metadata": {},
     "output_type": "display_data"
    },
    {
     "name": "stderr",
     "output_type": "stream",
     "text": [
      "WARNING:root:error while waiting, retrying (attempt=31)\n"
     ]
    },
    {
     "data": {
      "application/vnd.jupyter.widget-view+json": {
       "model_id": "5cf2aeb6ec5c49d583a62f1bb13501f9",
       "version_major": 2,
       "version_minor": 0
      },
      "text/plain": [
       " 0 messages received [?msg/s ]"
      ]
     },
     "metadata": {},
     "output_type": "display_data"
    },
    {
     "name": "stderr",
     "output_type": "stream",
     "text": [
      "WARNING:root:error while waiting, retrying (attempt=32)\n"
     ]
    },
    {
     "data": {
      "application/vnd.jupyter.widget-view+json": {
       "model_id": "9a4916d48c97404da4dd1332db872f25",
       "version_major": 2,
       "version_minor": 0
      },
      "text/plain": [
       " 0 messages received [?msg/s ]"
      ]
     },
     "metadata": {},
     "output_type": "display_data"
    }
   ],
   "source": [
    "\n",
    "#  Example for testing; generates a random dataset\n",
    "#\n",
    "\n",
    "import time\n",
    "   #\n",
    "from IPython.display import clear_output\n",
    "\n",
    "\n",
    "def my_func():\n",
    "    \n",
    "   from katana.distributed import single_host\n",
    "      #\n",
    "   import numpy as np                                                     #  Unparitioned objects are just fine; we are working from only\n",
    "                                                                          #  one node\n",
    "   l_return = np.random.randint(1, 101, 4)                                #  Generate an array[4] of random numbers in the range of 1-100\n",
    "\n",
    "   return single_host(host=0, result=l_return)                            #  Multiple worker nodes (hosts), can only return from 1\n",
    "\n",
    "\n",
    "l_cntr = 0\n",
    "   #\n",
    "while True:\n",
    "   l_cntr += 1\n",
    "   print(\"Running interation:  %-16d\" % (l_cntr))\n",
    "      #\n",
    "   my_return = my_graph.run(lambda g: my_func())\n",
    "   time.sleep(300) \n",
    "   clear_output(wait = True)\n",
    "    \n"
   ]
  },
  {
   "cell_type": "code",
   "execution_count": null,
   "id": "dcf75e78-1621-437e-82bc-4bf9ed637fe8",
   "metadata": {},
   "outputs": [],
   "source": []
  },
  {
   "cell_type": "code",
   "execution_count": null,
   "id": "f36c9867-ca4d-4ce0-9c3f-7355ed932347",
   "metadata": {},
   "outputs": [],
   "source": []
  }
 ],
 "metadata": {
  "kernelspec": {
   "display_name": "Python 3 (ipykernel)",
   "language": "python",
   "name": "python3"
  },
  "language_info": {
   "codemirror_mode": {
    "name": "ipython",
    "version": 3
   },
   "file_extension": ".py",
   "mimetype": "text/x-python",
   "name": "python",
   "nbconvert_exporter": "python",
   "pygments_lexer": "ipython3",
   "version": "3.8.13"
  }
 },
 "nbformat": 4,
 "nbformat_minor": 5
}
