{
 "cells": [
  {
   "cell_type": "markdown",
   "id": "40625b68-4a15-40e3-a075-bccd8fc9cd9b",
   "metadata": {},
   "source": [
    "# PayPal Requirements"
   ]
  },
  {
   "cell_type": "markdown",
   "id": "ae39d932-d1e7-490e-b9e8-eb57e85225c8",
   "metadata": {},
   "source": [
    "##### Describes requirments from PayPal story that can be found here: [PayPal Story](https://docs.google.com/document/d/1oVM5ewbC3UVdr21dlR3kjD5pRChdSm7y/edit)"
   ]
  },
  {
   "cell_type": "markdown",
   "id": "d7fd39b5-0931-408c-9af5-876797a9a813",
   "metadata": {},
   "source": [
    "---"
   ]
  },
  {
   "cell_type": "markdown",
   "id": "ae2338e3-10ad-45c4-9e71-be3894e85318",
   "metadata": {},
   "source": [
    "## Connect to the cluster"
   ]
  },
  {
   "cell_type": "markdown",
   "id": "62c8ddb0-afe4-40d1-80ff-064366e846dd",
   "metadata": {},
   "source": [
    "Run this command in separate terminal to forward port from Katana controller node"
   ]
  },
  {
   "cell_type": "markdown",
   "id": "d0b66eef-326c-4a07-98d9-1754f6628cd9",
   "metadata": {},
   "source": [
    "```gcloud compute ssh --zone us-east1-b --project CLUSTER_NAME katana-controller -- -NL 8080:127.0.0.1:8080 -vvv ```"
   ]
  },
  {
   "cell_type": "markdown",
   "id": "4a0a914a-6894-47f7-be00-7f519f0c488d",
   "metadata": {},
   "source": [
    "Connect local Docker container to Katana Controller"
   ]
  },
  {
   "cell_type": "code",
   "execution_count": null,
   "id": "46f143ed-bc3d-4c28-ab0b-f3a3f21a59d8",
   "metadata": {},
   "outputs": [],
   "source": [
    "import os\n",
    "from timeit import default_timer as timer\n",
    "\n",
    "import pandas as pd\n",
    "from katana import remote\n",
    "from katana.remote import analytics, import_data\n",
    "\n",
    "os.environ[\"KATANA_SERVER_ADDRESS\"] = \"host.docker.internal:8080\""
   ]
  },
  {
   "cell_type": "markdown",
   "id": "c2b8a641-dbfb-4d53-9ad8-874e53aa90d8",
   "metadata": {},
   "source": [
    "## Initial Load - Social Graph (2mm nodes, 41mm edges)"
   ]
  },
  {
   "cell_type": "markdown",
   "id": "4e97625d-09db-4b57-9944-8664623e13c9",
   "metadata": {},
   "source": [
    "Specify input and output locations on cloud storage"
   ]
  },
  {
   "cell_type": "code",
   "execution_count": null,
   "id": "fe064d03",
   "metadata": {},
   "outputs": [],
   "source": [
    "graph = remote.Client().create_graph(num_partitions=4)"
   ]
  },
  {
   "cell_type": "code",
   "execution_count": null,
   "id": "f23765d4-1eb4-49cd-a482-00b996e72802",
   "metadata": {},
   "outputs": [],
   "source": [
    "start = timer()\n",
    "print(\"Importing graph from CSV files...\")\n",
    "import_data.csv(\n",
    "    graph,\n",
    "    input_node_path=\"gs://katana-demo-datasets/csv-datasets/social/mapping_files/node_list_2M_full.txt\",\n",
    "    input_edge_path=\"gs://katana-demo-datasets/csv-datasets/social/mapping_files/edge_list_2M_full.txt\",\n",
    "    input_dir=\"gs://katana-demo-datasets/csv-datasets/social/csv/2M\",\n",
    "    data_delimiter=\"|\",\n",
    "    schema_delimiter=\"|\",\n",
    "    ids_are_integers=True,\n",
    ")\n",
    "end = timer()\n",
    "print(f\"  import: {end - start:.1f} seconds\")\n",
    "\n",
    "start = timer()\n",
    "assert graph.num_nodes() == 2_000_000\n",
    "print(f\"  num nodes: {graph.num_nodes()}\")\n",
    "end = timer()\n",
    "print(f\"  count nodes: {end - start:.1f} seconds\")\n",
    "\n",
    "start = timer()\n",
    "assert graph.num_edges() == 41_002_994\n",
    "print(f\"  num nodes: {graph.num_edges()}\")\n",
    "end = timer()\n",
    "print(f\"  count edges: {end - start:.1f} seconds\")"
   ]
  },
  {
   "cell_type": "code",
   "execution_count": null,
   "id": "f1e1bd5c",
   "metadata": {},
   "outputs": [],
   "source": [
    "from katana_enterprise.client.rest.v2 import client\n",
    "\n",
    "## Adjust the number of rows (None: no limit) to limit the result set size.\n",
    "client.Limits.set_max_operation_result_rows(1000000)"
   ]
  },
  {
   "cell_type": "code",
   "execution_count": null,
   "id": "a5fe277b",
   "metadata": {},
   "outputs": [],
   "source": [
    "start = timer()\n",
    "query1_result = graph.query(\n",
    "    \"\"\"\n",
    "match (acct1)-[:FriendConB]->(acct2)-[:FriendConB]->(acct3)\n",
    "where (acct3.userIsBlacklisted=\"Y\" or acct3.userIsSuspended=\"Y\")\n",
    "and not (acct1)-->(acct3)\n",
    "return acct1.id, count(acct3) ;\n",
    "\"\"\"\n",
    ")\n",
    "end = timer()\n",
    "print(query1_result)\n",
    "print(f\"  query1: {end - start:.1f} seconds\")"
   ]
  },
  {
   "cell_type": "markdown",
   "id": "dde03299",
   "metadata": {},
   "source": [
    "Report requirements: \n",
    "- Cluster size and SKU used for data ingestion\n",
    "- % of completion\n",
    "- Time used for ingestion\n",
    "- Warnings & errors happened so far\n",
    "- Statistics of # of vertices and edges successfully ingested & not ingested due to errors, etc.\n",
    "\n"
   ]
  },
  {
   "cell_type": "markdown",
   "id": "cef07a8a",
   "metadata": {},
   "source": [
    "Output: \n",
    "- Report already shows skew (complete - available now)\n",
    "- Cluster size and SKU used for data ingestion (complete - available now)\n",
    "- Time used for ingestion (complete - available now)\n",
    "- % of completion\n",
    "- Warnings & errors happened so far (as the load is occurring..) \n",
    "- Statistics of # of vertices and edges successfully ingested & not ingested due to errors, etc. (complete - available now) \n"
   ]
  },
  {
   "cell_type": "markdown",
   "id": "9c1457fa-48fb-44da-b25a-4e35de4c9ea9",
   "metadata": {},
   "source": [
    "## Incremental Data Loading - Social Graph "
   ]
  },
  {
   "cell_type": "markdown",
   "id": "07699d22",
   "metadata": {},
   "source": [
    "Requirements: (data will be staged in gs) \n",
    "- 80K of vertices to be inserted\n",
    "- 7M of edges to be inserted\n"
   ]
  },
  {
   "cell_type": "code",
   "execution_count": null,
   "id": "3b2e60b3-0542-4ca3-bf45-dc35682c3eba",
   "metadata": {},
   "outputs": [],
   "source": [
    "# incremental node+edge inserts, these should also work separately by leading the node or edge mapping path blank\n",
    "\n",
    "next_node_ingest_batch = (\n",
    "    \"gs://katana-demo-datasets/csv-datasets/social/mapping_files/incremental/node_insert_2M_100k.txt\"\n",
    ")\n",
    "next_edge_ingest_batch = (\n",
    "    \"gs://katana-demo-datasets/csv-datasets/social/mapping_files/incremental/edge_insert_2M_1.5M.txt\"\n",
    ")\n",
    "\n",
    "start = timer()\n",
    "# re-uses the graph from initial load\n",
    "import_data.csv(\n",
    "    graph,\n",
    "    operation=import_data.Operation.Insert,\n",
    "    input_node_path=next_node_ingest_batch,\n",
    "    input_edge_path=next_edge_ingest_batch,\n",
    "    input_dir=\"gs://katana-demo-datasets/csv-datasets/social/csv/\",\n",
    "    data_delimiter=\"|\",\n",
    "    schema_delimiter=\"|\",\n",
    "    ids_are_integers=True,\n",
    ")\n",
    "\n",
    "end = timer()\n",
    "print(f\"  Insert Op: {end - start:.1f} seconds\")"
   ]
  },
  {
   "cell_type": "markdown",
   "id": "8bdbcd61",
   "metadata": {},
   "source": [
    "- 100K of vertices to be updated\n",
    "- 1M of edges to be updated\n"
   ]
  },
  {
   "cell_type": "code",
   "execution_count": null,
   "id": "7d119c8f",
   "metadata": {},
   "outputs": [],
   "source": [
    "# incremental node + edge updates (XXX these paths are guesses)\n",
    "next_node_ingest_batch = (\n",
    "    \"gs://katana-demo-datasets/csv-datasets/social/mapping_files/incremental/node_update_2M_100k.txt\"\n",
    ")\n",
    "next_edge_ingest_batch = \"gs://katana-demo-datasets/csv-datasets/social/mapping_files/incremental/edge_update_2M_1M.txt\"\n",
    "\n",
    "start = timer()\n",
    "# re-uses the graph from initial load\n",
    "import_data.csv(\n",
    "    graph,\n",
    "    operation=import_data.Operation.Update,\n",
    "    input_node_path=next_node_ingest_batch,\n",
    "    input_edge_path=next_edge_ingest_batch,\n",
    "    input_dir=\"gs://katana-demo-datasets/csv-datasets/social/csv/\",\n",
    "    data_delimiter=\"|\",\n",
    "    schema_delimiter=\"|\",\n",
    "    ids_are_integers=True,\n",
    ")\n",
    "\n",
    "end = timer()\n",
    "print(f\"  Update Op: {end - start:.1f} seconds\")"
   ]
  },
  {
   "cell_type": "markdown",
   "id": "5b1eceea",
   "metadata": {},
   "source": [
    "- 100K of vertices to be deleted\n",
    "- 1M of edges to be deleted\n"
   ]
  },
  {
   "cell_type": "code",
   "execution_count": null,
   "id": "8f1151f9",
   "metadata": {},
   "outputs": [],
   "source": [
    "# incremental node + edge deletes (XXX these paths are guesses)\n",
    "next_node_ingest_batch = (\n",
    "    \"gs://katana-demo-datasets/csv-datasets/social/mapping_files/incremental/node_update_2M_100k.txt\"\n",
    ")\n",
    "next_edge_ingest_batch = \"gs://katana-demo-datasets/csv-datasets/social/mapping_files/incremental/edge_update_2M_1M.txt\"\n",
    "\n",
    "start = timer()\n",
    "# re-uses the graph from initial load\n",
    "import_data.csv(\n",
    "    graph,\n",
    "    operation=import_data.Operation.Delete,\n",
    "    input_node_path=next_node_ingest_batch,\n",
    "    input_edge_path=next_edge_ingest_batch,\n",
    "    input_dir=\"gs://katana-demo-datasets/csv-datasets/social/csv/\",\n",
    "    data_delimiter=\"|\",\n",
    "    schema_delimiter=\"|\",\n",
    "    ids_are_integers=True,\n",
    ")\n",
    "\n",
    "end = timer()\n",
    "print(f\"  Delete Op: {end - start:.1f} seconds\")"
   ]
  },
  {
   "cell_type": "markdown",
   "id": "3718747d",
   "metadata": {},
   "source": [
    "Output: \n",
    "- Report already shows skew (complete - available now)\n",
    "- Cluster size and SKU used for data ingestion (complete - available now)\n",
    "- Time used for ingestion (complete - available now)\n",
    "- % of completion\n",
    "- Warnings & errors happened so far (as the load is occurring..) \n",
    "- Statistics of # of vertices and edges successfully ingested & not ingested due to errors, etc. (complete - available now) \n"
   ]
  },
  {
   "cell_type": "markdown",
   "id": "9e4e3e10-2cea-48e8-a24b-0ec94343495b",
   "metadata": {},
   "source": [
    "## f) Query execution and output"
   ]
  },
  {
   "cell_type": "markdown",
   "id": "1c96dc3b-ed11-4e4c-b62b-34c2fbdefa3d",
   "metadata": {},
   "source": [
    "#### Run 2hop aggregations only on edges of type FriendConB: for each account, find all his neighbors within 2 hops exactly (exclude accounts that are 1 hop from the account) and do the following aggregations on all these accounts: \n",
    "sum(user_is_blacklisted=’Y’ or suspended=’Y’)/(# of accounts in 2 hops)\n",
    "sum(phone_is_verified=’Y’) /(# of accounts in 2 hops)\n",
    "avg(cnt_decl)\n",
    "\n",
    "##### FriendB Connection Only\n",
    "- 2 hop query by account\n",
    "- Global triangles for totals\n",
    "- Users suspended and blacklisted\n",
    "- Users not verified\n",
    "- Average count of users declined"
   ]
  },
  {
   "cell_type": "code",
   "execution_count": null,
   "id": "f3b4a20e-9d32-4ab7-b23b-bbb48bc16077",
   "metadata": {},
   "outputs": [],
   "source": [
    "## Corresponds https://github.com/KatanaGraph/katana-tools/blob/main/bench/queries/paypal/11.q used by QA\n",
    "start = timer()\n",
    "\n",
    "query = \"\"\"\n",
    "MATCH (acct1)-[:FriendConB]->(acct2)-[:FriendConB]->(acct3) \n",
    "WHERE NOT (acct1)-[:FriendConB]->(acct3) \n",
    "WITH acct1, avg(acct3.cntDecl) as avgCntDecl, count(acct3) as totalAccounts \n",
    "MATCH (acct1)-[:FriendConB]->(acct2)-[:FriendConB]->(acct3Bad) \n",
    "WHERE (acct3Bad.userIsBlacklisted=\"Y\" OR acct3Bad.userIsSuspended=\"Y\") \n",
    "AND NOT (acct1)-[:FriendConB]->(acct3Bad) \n",
    "WITH acct1, avgCntDecl, totalAccounts, count(acct3Bad) as suspAccounts \n",
    "MATCH (acct1)-[:FriendConB]->(acct2)-[:FriendConB]->(acct3Bad) \n",
    "WHERE acct3Bad.phoneIsVerified=\"N\" \n",
    "AND NOT (acct1)-[:FriendConB]->(acct3Bad) \n",
    "WITH acct1, avgCntDecl, totalAccounts, suspAccounts, count(acct3Bad) as unverifiedAccounts \n",
    "RETURN acct1.id, avgCntDecl, toFloat(suspAccounts) / toFloat(totalAccounts) as percentSusp, toFloat(unverifiedAccounts) / toFloat(totalAccounts) as percentUnverified;\n",
    "\"\"\"\n",
    "\n",
    "query2_result = graph.query(query)\n",
    "end = timer()\n",
    "print(query2_result)\n",
    "print(f\"  query2: {end - start:.1f} seconds\")"
   ]
  },
  {
   "cell_type": "markdown",
   "id": "beefcc2b",
   "metadata": {},
   "source": [
    "Output: \n",
    "- Report already shows skew (complete - available now)\n",
    "- Cluster size and SKU used for data ingestion (complete - available now)\n",
    "- Time used for ingestion (complete - available now)\n",
    "- % of completion\n",
    "- Warnings & errors happened so far (as the load is occurring..) \n",
    "- Statistics of # of vertices and edges successfully ingested & not ingested due to errors, etc. (complete - available now) \n"
   ]
  },
  {
   "cell_type": "markdown",
   "id": "79a04e03",
   "metadata": {},
   "source": [
    "#### Run 2hop aggregations on the full graph: for each account, find all his neighbors within 2 hops exactly (exclude accounts that are 1 hop from the account) and do the following aggregations on all these accounts: \n",
    "sum(user_is_blacklisted=’Y’ or suspended=’Y’)/(# of accounts in 2 hops)\n",
    "sum(phone_is_verified=’Y’) /(# of accounts in 2 hops)\n",
    "avg(cnt_decl)\n",
    "\n",
    "##### Full Social Graph\n",
    "- 2 hop query by account\n",
    "- Global triangles for totals\n",
    "- Users suspended and blacklisted\n",
    "- Users not verified\n",
    "- Average count of users declined"
   ]
  },
  {
   "cell_type": "code",
   "execution_count": null,
   "id": "6c964f6b",
   "metadata": {},
   "outputs": [],
   "source": [
    "## Corresponds https://github.com/KatanaGraph/katana-tools/blob/main/bench/queries/paypal/12.q used by QA\n",
    "start = timer()\n",
    "\n",
    "query = \"\"\"\n",
    "MATCH (acct1)-->(acct2)-->(acct3) \n",
    "WHERE NOT (acct1)-->(acct3) \n",
    "WITH acct1, avg(acct3.cntDecl) as avgCntDecl, count(acct3) as totalAccounts \n",
    "MATCH (acct1)-->(acct2)-->(acct3Bad) \n",
    "WHERE (acct3Bad.userIsBlacklisted=\"Y\" OR acct3Bad.userIsSuspended=\"Y\") \n",
    "AND NOT (acct1)-->(acct3Bad) \n",
    "WITH acct1, avgCntDecl, totalAccounts, count(acct3Bad) as suspAccounts \n",
    "MATCH (acct1)-->(acct2)-->(acct3Bad) \n",
    "WHERE acct3Bad.phoneIsVerified=\"N\" \n",
    "AND NOT (acct1)-->(acct3Bad) \n",
    "WITH acct1, avgCntDecl, totalAccounts, suspAccounts, count(acct3Bad) as unverifiedAccounts \n",
    "RETURN acct1.id, avgCntDecl, toFloat(suspAccounts) / toFloat(totalAccounts) as percentSusp, toFloat(unverifiedAccounts) / toFloat(totalAccounts) as percentUnverified;\n",
    "\"\"\"\n",
    "\n",
    "query3_result = graph.query(query)\n",
    "end = timer()\n",
    "print(query3_result)\n",
    "print(f\"  query3: {end - start:.1f} seconds\")"
   ]
  },
  {
   "cell_type": "markdown",
   "id": "88bc8a9f-5f30-4d81-8bef-8bf43f94cd4a",
   "metadata": {},
   "source": [
    "##### Full Social Graph\n",
    "- 2 hop query by account\n",
    "- Global triangles for totals\n",
    "- Users suspended and blacklisted\n",
    "- Users not verified\n",
    "- Average count of users declined"
   ]
  },
  {
   "cell_type": "markdown",
   "id": "dc87269d-60b7-4bb5-a2a3-2c63a7e8a6eb",
   "metadata": {},
   "source": [
    "## Algorithms"
   ]
  },
  {
   "cell_type": "markdown",
   "id": "0dce7b88-71ee-4618-92e9-eba5e94c2cd0",
   "metadata": {},
   "source": [
    "#### PageRank (Social Graph)"
   ]
  },
  {
   "cell_type": "code",
   "execution_count": null,
   "id": "93c08012-1084-4e90-88c2-54c280925052",
   "metadata": {},
   "outputs": [],
   "source": [
    "start = timer()\n",
    "analytics.pagerank(graph, result_property_name=\"page_rank\")\n",
    "end = timer()\n",
    "print(f\"  Pagerank: {end - start:.1f} seconds\")\n",
    "\n",
    "result = graph.query(\n",
    "    \"\"\"\n",
    "    MATCH (n)\n",
    "    RETURN n, n.page_rank\n",
    "    ORDER BY n.page_rank DESC\n",
    "    LIMIT 30\n",
    "    \"\"\",\n",
    "    contextualize=True,\n",
    ")\n",
    "pd.DataFrame(result[0:10])"
   ]
  },
  {
   "cell_type": "markdown",
   "id": "0c145fd7",
   "metadata": {},
   "source": [
    "#### Distributed Louvain (Social Graph)"
   ]
  },
  {
   "cell_type": "code",
   "execution_count": null,
   "id": "b47e702f",
   "metadata": {},
   "outputs": [],
   "source": [
    "prop_name = \"cluster_id\"\n",
    "start = timer()\n",
    "louvain_graph = graph.project(node_types=[\"Account\"], edge_types=[\"AssetConB\"])\n",
    "end = timer()\n",
    "print(f\"  Projection: {end - start:.1f} seconds\")\n",
    "\n",
    "start = timer()\n",
    "analytics.louvain_clustering(louvain_graph, result_property_name=prop_name, is_symmetric=True)\n",
    "end = timer()\n",
    "print(f\"  Louvain: {end - start:.1f} seconds\")\n",
    "\n",
    "result = graph.query(\n",
    "    f\"\"\"\n",
    "    MATCH (n)\n",
    "    WHERE exists(n.{prop_name})\n",
    "    RETURN n, n.{prop_name}\n",
    "    LIMIT 30\n",
    "    \"\"\",\n",
    "    contextualize=True,\n",
    ")\n",
    "pd.DataFrame(result[0:10])"
   ]
  }
 ],
 "metadata": {
  "author": {
   "email": "gill@katanagraph.com",
   "jira_user_id": "5fbc557bd670b8006eaad29f"
  },
  "kernelspec": {
   "display_name": "Python 3 (ipykernel)",
   "language": "python",
   "name": "python3"
  },
  "language_info": {
   "codemirror_mode": {
    "name": "ipython",
    "version": 3
   },
   "file_extension": ".py",
   "mimetype": "text/x-python",
   "name": "python",
   "nbconvert_exporter": "python",
   "pygments_lexer": "ipython3",
   "version": "3.8.13"
  },
  "max_num_hosts": 4,
  "milestone": -1
 },
 "nbformat": 4,
 "nbformat_minor": 5
}
