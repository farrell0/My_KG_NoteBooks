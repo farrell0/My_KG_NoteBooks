{
 "cells": [
  {
   "cell_type": "markdown",
   "id": "8a290112-8b49-43ee-8bd8-46a41eddc212",
   "metadata": {
    "tags": []
   },
   "source": [
    "\n",
    "First make sure to run your ssh tunnel with:  \n",
    "GCP: \n",
    "  `gcloud compute ssh --zone us-east1-b --project katana-internal31 katana-controller -- -NL 8080:127.0.0.1:8080 -vvv`\n",
    "<br> <br>\n",
    "AWS: \n",
    "  `ssh -i ~/.ssh/id_rsa -N -L 8080:54.162.203.170:8080 ubuntu@54.162.203.170 -vvv` \n",
    "<br><br>  "
   ]
  },
  {
   "cell_type": "code",
   "execution_count": 1,
   "id": "d15210fc-ab82-4bd9-80f4-2f283d3cfaa4",
   "metadata": {},
   "outputs": [],
   "source": [
    "######## setup variables ##########\n",
    "gs_prefix=\"gs://anand-31-simple-files/customer-claims/customer-360\"\n",
    "cluster_name=\"katana-internal31\"\n",
    "partitions = 1\n",
    "platform_prefix=gs_prefix"
   ]
  },
  {
   "cell_type": "code",
   "execution_count": 2,
   "id": "d54dec81-4ec2-4bbb-af34-294dc7894523",
   "metadata": {},
   "outputs": [],
   "source": [
    "import os                                                                        \n",
    "import time                                                                      \n",
    "import json\n",
    "import pandas as pd\n",
    "from timeit import default_timer as timer\n",
    "from katana.remote import aio, analytics, import_data, trace\n",
    "\n",
    "from katana import remote\n",
    "from katana.remote import import_data\n",
    "\n",
    "\n",
    "os.environ[\"KATANA_SERVER_ADDRESS\"] = \"host.docker.internal:8080\"\n",
    "\n",
    "pd.set_option('display.max_columns', None)\n",
    "pd.set_option(\"max_colwidth\", None)"
   ]
  },
  {
   "cell_type": "code",
   "execution_count": 3,
   "id": "ae5c18da-bd95-48c6-8705-dff778f73b05",
   "metadata": {},
   "outputs": [
    {
     "name": "stderr",
     "output_type": "stream",
     "text": [
      "UserWarning: Client (0.3.0.dev0+25.181.2210b6.d0c8d0) and server (0.3.0.dev0+7268.7268.fcae17.fcae17) versions are different by more than 15 commits. This can potentially lead to unknown/confusing behaviour of client and server.\n"
     ]
    },
    {
     "data": {
      "text/plain": [
       "<coroutine object Client.server_version at 0x7ff669fc3740>"
      ]
     },
     "execution_count": 3,
     "metadata": {},
     "output_type": "execute_result"
    }
   ],
   "source": [
    "rc=remote.Client()\n",
    "rc.server_version"
   ]
  },
  {
   "cell_type": "code",
   "execution_count": 4,
   "id": "f86ca9c2-ccda-4bc8-a593-fa4f5fa7bd23",
   "metadata": {},
   "outputs": [],
   "source": [
    "\n",
    "graph = rc.create_graph(\n",
    "    num_partitions=partitions,\n",
    "    name=\"customer-claims\"\n",
    ")"
   ]
  },
  {
   "cell_type": "code",
   "execution_count": 5,
   "id": "327d4ac7-e323-41e0-853a-b0ceecd40146",
   "metadata": {},
   "outputs": [
    {
     "data": {
      "text/plain": [
       "'Gu21wDbAL7pDCHmsKiXd4qZMbzvSfTvifDXZxkpyNQJq'"
      ]
     },
     "execution_count": 5,
     "metadata": {},
     "output_type": "execute_result"
    }
   ],
   "source": [
    "graph.graph_id"
   ]
  },
  {
   "cell_type": "code",
   "execution_count": 6,
   "id": "b3fd0ff0-9855-42fe-8792-a1f1c198e648",
   "metadata": {},
   "outputs": [],
   "source": [
    "test_node_file = platform_prefix + \"/42_NodeHeader.txt\"\n",
    "test_edge_file = platform_prefix + \"/43_EdgeHeader.txt\"\n",
    "input_path=platform_prefix \n"
   ]
  },
  {
   "cell_type": "code",
   "execution_count": 9,
   "id": "1a80917a-8a9c-49ab-a2b8-cfe67210f9c9",
   "metadata": {},
   "outputs": [
    {
     "name": "stdout",
     "output_type": "stream",
     "text": [
      "Importing graph from CSV files...\n"
     ]
    },
    {
     "data": {
      "application/vnd.jupyter.widget-view+json": {
       "model_id": "1495c465227c4f65ac66417d545f6921",
       "version_major": 2,
       "version_minor": 0
      },
      "text/plain": [
       "          0/? [?op/s]"
      ]
     },
     "metadata": {},
     "output_type": "display_data"
    },
    {
     "name": "stdout",
     "output_type": "stream",
     "text": [
      "  import: 26.9 seconds\n"
     ]
    }
   ],
   "source": [
    "start = timer()\n",
    "print(\"Importing graph from CSV files...\")\n",
    "import_data.csv(\n",
    "    graph,\n",
    "    input_node_path=test_node_file,\n",
    "    input_edge_path=test_edge_file,\n",
    "    input_dir=input_path,\n",
    "#    have_headers=True,\n",
    "    data_delimiter=\"|\",\n",
    "    schema_delimiter=\"|\"\n",
    "    #partition_policy=\"random-oec\"\n",
    ")\n",
    "end = timer()\n",
    "print(f\"  import: {end - start:.1f} seconds\") "
   ]
  },
  {
   "cell_type": "code",
   "execution_count": 34,
   "id": "9d3fbc22-8652-4191-b175-7ecfe4feba95",
   "metadata": {},
   "outputs": [
    {
     "data": {
      "application/vnd.jupyter.widget-view+json": {
       "model_id": "63a6f4962e2244b78c3e1f89f3e47ec2",
       "version_major": 2,
       "version_minor": 0
      },
      "text/plain": [
       "          0/? [?op/s]"
      ]
     },
     "metadata": {},
     "output_type": "display_data"
    },
    {
     "name": "stdout",
     "output_type": "stream",
     "text": [
      "CPU times: user 117 ms, sys: 60.5 ms, total: 178 ms\n",
      "Wall time: 7.93 s\n"
     ]
    },
    {
     "data": {
      "text/plain": [
       "157927"
      ]
     },
     "execution_count": 34,
     "metadata": {},
     "output_type": "execute_result"
    }
   ],
   "source": [
    "%%time\n",
    "graph.num_nodes()"
   ]
  },
  {
   "cell_type": "markdown",
   "id": "c7bf652b-4c44-43cd-ade4-77aa161f07e9",
   "metadata": {},
   "source": [
    "<b> Import ends here: DATA LOADING COMPLETE </b>"
   ]
  },
  {
   "cell_type": "code",
   "execution_count": 33,
   "id": "4487a946-f572-487a-a43a-7b9daa6dcf3f",
   "metadata": {},
   "outputs": [
    {
     "data": {
      "application/vnd.jupyter.widget-view+json": {
       "model_id": "d1d89fbea8384a80954641b84efbe8ba",
       "version_major": 2,
       "version_minor": 0
      },
      "text/plain": [
       "          0/? [?op/s]"
      ]
     },
     "metadata": {},
     "output_type": "display_data"
    },
    {
     "data": {
      "application/vnd.jupyter.widget-view+json": {
       "model_id": "058893eaed134046b8084cdff942c054",
       "version_major": 2,
       "version_minor": 0
      },
      "text/plain": [
       "          0/? [?op/s]"
      ]
     },
     "metadata": {},
     "output_type": "display_data"
    },
    {
     "name": "stdout",
     "output_type": "stream",
     "text": [
      "CPU times: user 184 ms, sys: 41.1 ms, total: 225 ms\n",
      "Wall time: 3.72 s\n"
     ]
    },
    {
     "data": {
      "application/vnd.jupyter.widget-view+json": {
       "model_id": "19cf3dd9a50046359af6c141433d3f39",
       "version_major": 2,
       "version_minor": 0
      },
      "text/plain": [
       "VBox(children=(HTML(value='\\n                <style>\\n                #jp-main-content-panel .result_set_tab_w…"
      ]
     },
     "metadata": {},
     "output_type": "display_data"
    }
   ],
   "source": [
    "%%time\n",
    "#check transaction objects\n",
    "query1=\"\"\"\n",
    "        MATCH (c:Agent)-[:IS_LOCATED_IN]-(l:Location)\n",
    "\n",
    "        RETURN c,l LIMIT 50\"\"\"\n",
    "result = graph.query(query1, contextualize=True)\n",
    "result.view()"
   ]
  },
  {
   "cell_type": "code",
   "execution_count": null,
   "id": "135bd493-150c-4321-b257-3bf75fbf330c",
   "metadata": {},
   "outputs": [],
   "source": []
  }
 ],
 "metadata": {
  "kernelspec": {
   "display_name": "Python 3 (ipykernel)",
   "language": "python",
   "name": "python3"
  },
  "language_info": {
   "codemirror_mode": {
    "name": "ipython",
    "version": 3
   },
   "file_extension": ".py",
   "mimetype": "text/x-python",
   "name": "python",
   "nbconvert_exporter": "python",
   "pygments_lexer": "ipython3",
   "version": "3.8.13"
  }
 },
 "nbformat": 4,
 "nbformat_minor": 5
}
