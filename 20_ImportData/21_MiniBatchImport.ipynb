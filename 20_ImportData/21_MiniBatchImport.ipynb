{
 "cells": [
  {
   "cell_type": "markdown",
   "id": "c54fd830-1317-4a52-b610-ef9716e5d744",
   "metadata": {
    "jp-MarkdownHeadingCollapsed": true,
    "tags": []
   },
   "source": [
    "#  Setup: Display options"
   ]
  },
  {
   "cell_type": "code",
   "execution_count": 1,
   "id": "8a38ebd7-d1d9-47a8-955c-a8270b024543",
   "metadata": {},
   "outputs": [
    {
     "data": {
      "text/html": [],
      "text/plain": [
       "<IPython.core.display.HTML object>"
      ]
     },
     "metadata": {},
     "output_type": "display_data"
    },
    {
     "name": "stdout",
     "output_type": "stream",
     "text": [
      "--\n"
     ]
    }
   ],
   "source": [
    "\n",
    "#  Setting display options \n",
    "\n",
    "import pandas as pd\n",
    "   #\n",
    "pd.set_option(\"display.width\", 480)\n",
    "\n",
    "#  Sets horizontal scroll for wide outputs\n",
    "#\n",
    "from IPython.display import display, HTML\n",
    "display(HTML(\"\"))\n",
    "\n",
    "from tabulate import tabulate\n",
    "\n",
    "print(\"--\")\n"
   ]
  },
  {
   "cell_type": "markdown",
   "id": "3ab7ce90-67cf-462c-94a6-3c8c9d0754b3",
   "metadata": {},
   "source": [
    "# Setup: Connectivity"
   ]
  },
  {
   "cell_type": "code",
   "execution_count": 2,
   "id": "e87b75ba-c072-4111-8cca-4b4f394a0fce",
   "metadata": {},
   "outputs": [
    {
     "name": "stdout",
     "output_type": "stream",
     "text": [
      "<katana_enterprise.remote.sync_wrappers.Client object at 0x7f91cc4a7490>\n"
     ]
    }
   ],
   "source": [
    "\n",
    "from katana import remote\n",
    "\n",
    "my_client = remote.Client()\n",
    "\n",
    "print(my_client)\n"
   ]
  },
  {
   "cell_type": "code",
   "execution_count": 3,
   "id": "d3a77f99-f11b-4105-ab43-17ce605b15e8",
   "metadata": {},
   "outputs": [
    {
     "name": "stdout",
     "output_type": "stream",
     "text": [
      "--\n"
     ]
    }
   ],
   "source": [
    "\n",
    "NUM_PARTITIONS  = 3\n",
    "   #\n",
    "DB_NAME         = \"my_db\"\n",
    "GRAPH_NAME      = \"my_graph\"\n",
    "\n",
    "print(\"--\")\n"
   ]
  },
  {
   "cell_type": "code",
   "execution_count": 4,
   "id": "7f2292b8-7df0-49a0-b3da-523f56cfe4f8",
   "metadata": {},
   "outputs": [
    {
     "name": "stdout",
     "output_type": "stream",
     "text": [
      "--\n"
     ]
    }
   ],
   "source": [
    "\n",
    "#  DELETE ALL GRAPHS\n",
    "\n",
    "for l_database in my_client.databases():\n",
    "   for l_graph in my_client.get_database(name=l_database.name).graphs_in_database():\n",
    "      l_handle=my_client.get_database(name=l_database.name).get_graph_by_id(id=l_graph.graph_id)\n",
    "      l_handle.delete()\n",
    "\n",
    "for l_graph in my_client.graphs():\n",
    "   print(\"GRAPH ID: \", l_graph.graph_id, \"      GRAPH Version: \", l_graph.version)\n",
    "\n",
    "print(\"--\")\n"
   ]
  },
  {
   "cell_type": "code",
   "execution_count": null,
   "id": "71f69a0e-451b-4679-b49c-5db1208d4c8f",
   "metadata": {},
   "outputs": [],
   "source": [
    "\n",
    "#  DELETE ALL DATABASES\n",
    "\n",
    "for l_database in my_client.databases():\n",
    "   if (l_database.name != \"default\"):\n",
    "      my_client.get_database(name=l_database.name).delete_database()\n",
    "      print(\"--\")\n",
    "\n",
    "for l_database in my_client.databases():\n",
    "   print(\"DB ID: \", l_database.database_id, \"     DB Name: \", l_database.name)\n"
   ]
  },
  {
   "cell_type": "code",
   "execution_count": null,
   "id": "a3b3bc00-fafb-481d-ba5a-8b52ae7d6e79",
   "metadata": {},
   "outputs": [],
   "source": [
    "\n",
    "#  CREATE DATABASE\n",
    "\n",
    "my_database = my_client.create_database(name=DB_NAME)\n",
    "\n",
    "print(my_database.database_id)\n"
   ]
  },
  {
   "cell_type": "code",
   "execution_count": 5,
   "id": "b8ba088b-2ec5-4b2a-8171-3c87ddffb47c",
   "metadata": {},
   "outputs": [
    {
     "name": "stdout",
     "output_type": "stream",
     "text": [
      "<_Graph my_graph, BM4Qyt9Qgxmx2jTPyaHKvYf9HUbhfNYt7NEUvmQL4JRP, 0>\n"
     ]
    }
   ],
   "source": [
    "\n",
    "#  CREATE GRAPH\n",
    "#\n",
    "my_graph = my_client.get_database(name=DB_NAME).create_graph(name=GRAPH_NAME, num_partitions=NUM_PARTITIONS)\n",
    "\n",
    "print(my_graph)\n"
   ]
  },
  {
   "cell_type": "markdown",
   "id": "c3685a36-d987-4ad8-a209-7115d726ac03",
   "metadata": {},
   "source": [
    "# Step 01: Create CSV files .."
   ]
  },
  {
   "cell_type": "code",
   "execution_count": null,
   "id": "a50fd04c-9880-498e-978b-6a45da00f143",
   "metadata": {},
   "outputs": [],
   "source": [
    "\n",
    "#  The overall goal of this file is to show incremental import. That is, importing\n",
    "#  in many smaller pieces versus perhaps running one single import operation.\n",
    "#\n",
    "\n"
   ]
  },
  {
   "cell_type": "markdown",
   "id": "c36e1596-03e6-450f-bcf0-144658f00701",
   "metadata": {},
   "source": [
    "#  Read CSVs into Dask DataFrame"
   ]
  },
  {
   "cell_type": "code",
   "execution_count": 5,
   "id": "4ed37a38-5140-45c0-915b-e88a0516f378",
   "metadata": {},
   "outputs": [
    {
     "name": "stdout",
     "output_type": "stream",
     "text": [
      "--\n"
     ]
    }
   ],
   "source": [
    "\n",
    "import dask.dataframe as dd\n",
    "import numpy as np\n",
    "\n",
    "print(\"--\")\n"
   ]
  },
  {
   "cell_type": "code",
   "execution_count": null,
   "id": "c8c98ee1-3c20-4e3a-b075-3bbdb39ace7c",
   "metadata": {},
   "outputs": [],
   "source": [
    "%%time\n",
    "\n",
    "#  Just nodes\n",
    "\n",
    "#  Sample data,\n",
    "#\n",
    "#     Sent|counterparty|cntAppr|cntDecl|cntRiskDecl1|amtRiskDecl|cntRiskDecl2|sumRcvd|cntRcvd|cntDist|cntDecl2\n",
    "#     0|N|N|N|N|XbRqfTcGJL9fxmNp4simTykwKr|qhBymw13PneK5hpntNVwjNwaYklX8P379JZo|Y|416|0|inactive|1941730454454|0|2018-01-24T01:09:18|9.07632e+09|1419493889|1894897856|2676929303.1430|6614868331.8687|8283173087.0037|6020979256.1980|1984359695|5077917542.6596|1923699935|1948138778|4876422147.1566|\n",
    "\n",
    "df_nodes = dd.read_csv(\n",
    "   l_nodes,\n",
    "   delimiter = \"|\",\n",
    "   dtype = {\n",
    "      \"Sent\"          : np.dtype(\"O\"),                         #  Change these if you wish,  Numpy datatypes\n",
    "      \"counterparty\"  : np.dtype(\"O\"),\n",
    "      \"cntAppr\"       : np.dtype(\"O\"),\n",
    "      \"cntDecl\"       : np.dtype(\"O\"),\n",
    "      \"cntRiskDecl1\"  : np.dtype(\"O\"),\n",
    "      \"amtRiskDecl\"   : np.dtype(\"O\"),\n",
    "      \"cntRiskDecl2\"  : np.dtype(\"O\"),\n",
    "      \"sumRcvd\"       : np.dtype(\"O\"),\n",
    "      \"cntRcvd\"       : np.dtype(\"O\"),\n",
    "      \"cntDist\"       : np.dtype(\"O\"),\n",
    "      \"cntDecl2\"      : np.dtype(\"O\"),\n",
    "      })\n",
    "\n",
    "print(len(df_nodes))\n",
    "\n",
    "print(\"--\")\n",
    "\n",
    "#  Sample output,\n",
    "#\n",
    "#     20000000\n",
    "#     --\n",
    "#     CPU times: user 3min, sys: 18 s, total: 3min 18s\n",
    "#     Wall time: 2min 48s\n"
   ]
  },
  {
   "cell_type": "code",
   "execution_count": 6,
   "id": "b77a2d41-2763-449b-928d-aa0d745539f7",
   "metadata": {},
   "outputs": [
    {
     "name": "stdout",
     "output_type": "stream",
     "text": [
      "200000000\n",
      "--\n",
      "CPU times: user 4min 25s, sys: 31.2 s, total: 4min 56s\n",
      "Wall time: 4min 23s\n"
     ]
    }
   ],
   "source": [
    "%%time\n",
    "\n",
    "#  Just edges\n",
    "\n",
    "#  Sample data,\n",
    "#\n",
    "#     Account1.id|Account2.id|type|date\n",
    "#     16089173|16089175|FriendConB|2018-10-10T11:20:05\n",
    "\n",
    "df_edges = dd.read_csv(\n",
    "    \n",
    "   #  l_edges,                                                   #  This would be all files, at once, in memory\n",
    "   l_edges_small,\n",
    "    \n",
    "   delimiter = \"|\",\n",
    "   dtype = {\n",
    "      \"Account1.id\"   : np.dtype(\"O\"),\n",
    "      \"Account2.id\"   : np.dtype(\"O\"),\n",
    "      \"type\"          : np.dtype(\"O\"),                           #  These next two column names are keywords in most worlds -- bad idea\n",
    "      \"date\"          : np.dtype(\"O\"),\n",
    "      })\n",
    "\n",
    "print(len(df_edges))\n",
    "\n",
    "print(\"--\")\n",
    "\n",
    "#  Sample output,\n",
    "#\n",
    "#     200000000\n",
    "#     --\n",
    "#     CPU times: user 4min 25s, sys: 31.2 s, total: 4min 56s\n",
    "#     Wall time: 4min 23s\n"
   ]
  },
  {
   "cell_type": "code",
   "execution_count": null,
   "id": "b337d260-8583-41fc-9300-e9994520cda6",
   "metadata": {},
   "outputs": [],
   "source": []
  },
  {
   "cell_type": "code",
   "execution_count": null,
   "id": "5d607abb-6e9b-4dfd-9b10-302c237556d6",
   "metadata": {},
   "outputs": [],
   "source": []
  }
 ],
 "metadata": {
  "kernelspec": {
   "display_name": "Python 3 (ipykernel)",
   "language": "python",
   "name": "python3"
  },
  "language_info": {
   "codemirror_mode": {
    "name": "ipython",
    "version": 3
   },
   "file_extension": ".py",
   "mimetype": "text/x-python",
   "name": "python",
   "nbconvert_exporter": "python",
   "pygments_lexer": "ipython3",
   "version": "3.8.13"
  }
 },
 "nbformat": 4,
 "nbformat_minor": 5
}
