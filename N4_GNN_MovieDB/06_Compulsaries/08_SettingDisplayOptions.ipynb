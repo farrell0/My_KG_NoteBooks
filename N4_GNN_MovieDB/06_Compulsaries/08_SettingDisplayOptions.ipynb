{
 "cells": [
  {
   "cell_type": "code",
   "execution_count": null,
   "id": "1887e621-cd56-4d25-ab4b-7e484f969b7d",
   "metadata": {},
   "outputs": [],
   "source": [
    "\n",
    "#  Setting display options \n",
    "\n",
    "import pandas as pd\n",
    "   #\n",
    "pd.set_option(\"display.width\", 480)\n",
    "\n",
    "#  Sets horizontal scroll for wide outputs\n",
    "#\n",
    "from IPython.display import display, HTML\n",
    "display(HTML(\"<style>pre { white-space: pre !important; }</style>\"))\n",
    "\n",
    "from tabulate import tabulate\n",
    "\n",
    "\n",
    "   ###\n",
    "\n",
    "    \n",
    "#  Using tabulate below-\n",
    "#\n",
    "l_result = [{ \"col1\": 20, \"col2\": 30}]\n",
    "   #\n",
    "print(tabulate(l_result, headers='keys', tablefmt='psql'))\n",
    "\n",
    "\n",
    "print(\"--\")\n"
   ]
  },
  {
   "cell_type": "code",
   "execution_count": 25,
   "id": "6daf2f58-5c6e-4bb2-884e-148a91b00843",
   "metadata": {},
   "outputs": [
    {
     "data": {
      "application/vnd.jupyter.widget-view+json": {
       "model_id": "d665fe46bee547f48c15a21467ea030f",
       "version_major": 2,
       "version_minor": 0
      },
      "text/plain": [
       "SelectMultiple(description='Use this: ', index=(0,), layout=Layout(width='max-content'), options=('Graph 01 - …"
      ]
     },
     "metadata": {},
     "output_type": "display_data"
    }
   ],
   "source": [
    "\n",
    "#  Presenting an HTML style drop down list box (DDLB) inside your NoteBook\n",
    "#\n",
    "#     .  You can not have a print() or similar method invocation here, otherwise the DDLB won't display\n",
    "#     .  See also,\n",
    "#           https://ipywidgets.readthedocs.io/en/stable/examples/Widget%20List.html\n",
    "\n",
    "import ipywidgets as widgets\n",
    "\n",
    "l_whichgraph = widgets.SelectMultiple(\n",
    "   options=[\n",
    "      \"Graph 01 - Full graph\",\n",
    "      \"Graph 02 - Similarity graph, just nodes of one type\",\n",
    "      \"Graph 03 - Bi-paritite graph\",\n",
    "      ],\n",
    "   value       = [\"Graph 01 - Full graph\"],\n",
    "   description = \"Use this: \",\n",
    "   disabled    = False,\n",
    "   layout      = {'width': 'max-content'}\n",
    "   )\n",
    "\n",
    "l_whichgraph                 #  Now run this cell as 'code'\n"
   ]
  },
  {
   "cell_type": "code",
   "execution_count": 15,
   "id": "4aa498e1-d672-4c3e-941e-fdc1098d393e",
   "metadata": {},
   "outputs": [
    {
     "name": "stdout",
     "output_type": "stream",
     "text": [
      "('Graph 01 - Full graph',)\n"
     ]
    }
   ],
   "source": [
    "\n",
    "#  Retrieving/using the currently selected value \n",
    "#\n",
    "\n",
    "my_graph = l_whichgraph.value\n",
    "\n",
    "print(my_graph)\n"
   ]
  },
  {
   "cell_type": "code",
   "execution_count": 1,
   "id": "809dbe11-d8b8-405a-bcbd-b8c850726b3c",
   "metadata": {},
   "outputs": [
    {
     "data": {
      "application/vnd.jupyter.widget-view+json": {
       "model_id": "30b1487ac5bf4db9a5bd6101e56ae858",
       "version_major": 2,
       "version_minor": 0
      },
      "text/plain": [
       "RadioButtons(description='Use this: ', layout=Layout(width='max-content'), options=('Graph 01 - Full graph', '…"
      ]
     },
     "metadata": {},
     "output_type": "display_data"
    }
   ],
   "source": [
    "\n",
    "#  Presenting an HTML style radio button inside your NoteBook\n",
    "#\n",
    "#     .  You can not have a print() or similar method invocation here, otherwise the DDLB won't display\n",
    "#     .  See also,\n",
    "#           https://ipywidgets.readthedocs.io/en/stable/examples/Widget%20List.html\n",
    "#\n",
    "#     (Much like HTML, this visual control has an ID. So, you can only have\n",
    "#      one of these. IF you need two, you can, but you have more variable\n",
    "#      work to do.)\n",
    "\n",
    "#  Support function for a radio button UI used below\n",
    "#\n",
    "\n",
    "l_arr = [\n",
    "   \"Graph 01 - Full graph\",\n",
    "   \"Graph 02 - Similarity graph, just nodes of one type\",\n",
    "   \"Graph 03 - Bi-paritite graph\",\n",
    "]\n",
    "\n",
    "\n",
    "def f_set_graph2():\n",
    "   global l_whichgraph\n",
    "\n",
    "#  if   (l_whichgraph.value == \"Graph 02 - Similarity graph, just nodes of one type\"):\n",
    "   if   (l_whichgraph.value == l_arr[1]):\n",
    "      l_str = GRAPH_NAME2\n",
    "   elif (l_whichgraph.value == l_arr[2]):\n",
    "      l_str = GRAPH_NAME3\n",
    "   else:\n",
    "      l_str = GRAPH_NAME1\n",
    "   \n",
    "   try:\n",
    "      # l_my_graph, *_ = my_client.get_database(name=DB_NAME).find_graphs_by_name(l_str)\n",
    "      # return l_my_graph\n",
    "      return l_str\n",
    "   except:\n",
    "      return None\n",
    "\n",
    "import ipywidgets as widgets\n",
    "\n",
    "l_whichgraph = widgets.RadioButtons(\n",
    "   options = [\n",
    "      l_arr[0],\n",
    "      l_arr[1],\n",
    "      l_arr[2],\n",
    "   ],\n",
    "   default     = l_arr[0],\n",
    "   description = \"Use this: \",\n",
    "   disabled    = False,\n",
    "   layout      = {'width': 'max-content'}\n",
    ")\n",
    "\n",
    "l_whichgraph"
   ]
  },
  {
   "cell_type": "code",
   "execution_count": 3,
   "id": "95701b3f-752c-45d7-bb23-7388d9552c56",
   "metadata": {},
   "outputs": [
    {
     "name": "stdout",
     "output_type": "stream",
     "text": [
      "Graph 02 - Similarity graph, just nodes of one type\n"
     ]
    }
   ],
   "source": [
    "\n",
    "#  Retrieving/using the currently selected value \n",
    "#\n",
    "\n",
    "my_graph = l_whichgraph.value\n",
    "\n",
    "print(my_graph)\n"
   ]
  },
  {
   "cell_type": "code",
   "execution_count": 39,
   "id": "acf89e08-c4c9-4c97-87a8-3938c955837b",
   "metadata": {},
   "outputs": [
    {
     "data": {
      "image/png": "[encoded data removed]",
      "text/plain": [
       "<Figure size 500x400 with 1 Axes>"
      ]
     },
     "metadata": {},
     "output_type": "display_data"
    }
   ],
   "source": [
    "\n",
    "#  Creating a bar chart; this library needs a Pandas DataFrame, not Dask\n",
    "#\n",
    "\n",
    "import numpy as np\n",
    "import pandas as pd\n",
    "   #\n",
    "import dask.array as da\n",
    "import dask.dataframe as dd\n",
    "   #\n",
    "from dask.dataframe import from_pandas\n",
    "\n",
    "\n",
    "NUM_PARTITIONS  = 3\n",
    "   #\n",
    "np_airports = np.array([\n",
    "       #\n",
    "   [\"MKE\", \"Milwaukee\"     , \"WI\", \"Airport\"],\n",
    "   [\"ORD\", \"Chicago O-Hare\", \"IL\", \"Airport\"],\n",
    "   [\"SJC\", \"San Jose\"      , \"CA\", \"Airport\"],\n",
    "   [\"LAX\", \"Los Angeles\"   , \"CA\", \"Airport\"],\n",
    "   [\"DEN\", \"Denver\"        , \"CO\", \"Airport\"],\n",
    "       #\n",
    "   ], dtype=\"str\")\n",
    "\n",
    "pd_airports = pd.DataFrame(np_airports, columns = [\"airport_code\", \"airport_name\", \"state_code\", \"LABEL\"])\n",
    "   #\n",
    "dd_airports = from_pandas(pd_airports, npartitions = NUM_PARTITIONS)\n",
    "    \n",
    "    \n",
    "dd_airports[\"length\"] = dd_airports.airport_name.map(lambda x: len(x))\n",
    "\n",
    "pd_airports = dd_airports.compute()\n",
    "    \n",
    "   ############################\n",
    "\n",
    "import seaborn as sns\n",
    "import matplotlib.pyplot as plt\n",
    "\n",
    "\n",
    "sns.set(rc = {'figure.figsize':(5,4)})\n",
    "\n",
    "sns.barplot(x = \"length\", y = \"airport_name\", data=pd_airports)\n",
    "   \n",
    "plt.title(\"Something Something Airport\", fontsize = 20)\n",
    "plt.xlabel(\"Length\",  size = 16)\n",
    "plt.ylabel(\"Name\",    size = 16)\n",
    "   \n",
    "plt.show()\n",
    "\n"
   ]
  }
 ],
 "metadata": {
  "kernelspec": {
   "display_name": "Python 3 (ipykernel)",
   "language": "python",
   "name": "python3"
  },
  "language_info": {
   "codemirror_mode": {
    "name": "ipython",
    "version": 3
   },
   "file_extension": ".py",
   "mimetype": "text/x-python",
   "name": "python",
   "nbconvert_exporter": "python",
   "pygments_lexer": "ipython3",
   "version": "3.8.13"
  }
 },
 "nbformat": 4,
 "nbformat_minor": 5
}
