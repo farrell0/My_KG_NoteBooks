{
 "cells": [
  {
   "cell_type": "code",
   "execution_count": null,
   "id": "d776f754-ef98-4cbd-a423-647c483341ce",
   "metadata": {},
   "outputs": [],
   "source": [
    "\n",
    "#  Here we demonstrate the following Dask DataFrame techniques;\n",
    "#\n",
    "#     .  Test, How to fetch data from a graph\n",
    "#\n"
   ]
  },
  {
   "cell_type": "markdown",
   "id": "9fb5f518-6e7b-4b73-a833-f8ea40262866",
   "metadata": {},
   "source": [
    "#  Part 01:  Setup, generate data"
   ]
  },
  {
   "cell_type": "code",
   "execution_count": 1,
   "id": "682150e3-6a50-4197-a239-80d1d2ea6edd",
   "metadata": {},
   "outputs": [
    {
     "name": "stdout",
     "output_type": "stream",
     "text": [
      "--\n"
     ]
    }
   ],
   "source": [
    "\n",
    "NUM_PARTITIONS  = 3\n",
    "NUM_ROWS        = 40000\n",
    "\n",
    "print(\"--\")\n"
   ]
  },
  {
   "cell_type": "code",
   "execution_count": 2,
   "id": "0416c10d-a1cb-433d-ad5e-85498aaa1744",
   "metadata": {},
   "outputs": [
    {
     "name": "stdout",
     "output_type": "stream",
     "text": [
      "--\n"
     ]
    }
   ],
   "source": [
    "\n",
    "import numpy as np\n",
    "import pandas as pd\n",
    "   #\n",
    "import dask.dataframe as dd\n",
    "   #\n",
    "from dask.dataframe import from_pandas\n",
    "\n",
    "from tabulate import tabulate\n",
    "\n",
    "print(\"--\")\n"
   ]
  },
  {
   "cell_type": "code",
   "execution_count": 3,
   "id": "c4c88322-8b40-4c26-9b01-60fadd32cdd8",
   "metadata": {},
   "outputs": [
    {
     "name": "stdout",
     "output_type": "stream",
     "text": [
      "Row (1) of (40000) total rows.   Col1: (   0)   Col2: (Item number: 0)\n",
      "Row (2) of (40000) total rows.   Col1: (   1)   Col2: (Item number: 1)\n",
      "Row (3) of (40000) total rows.   Col1: (   2)   Col2: (Item number: 2)\n",
      "Row (4) of (40000) total rows.   Col1: (   3)   Col2: (Item number: 3)\n",
      "--\n"
     ]
    }
   ],
   "source": [
    "\n",
    "\n",
    "#  Generates (NUM_ROWS) rows of data\n",
    "#\n",
    "\n",
    "l_row = {\"col1\": list(), \"col2\": list()}\n",
    "   #\n",
    "for l_cntr in range(NUM_ROWS):\n",
    "   l_row[\"col1\"].append(l_cntr)\n",
    "   l_row[\"col2\"].append(\"Item number: \" + str(l_cntr))\n",
    "    \n",
    "pd_data = pd.DataFrame(l_row, columns = [\"col1\", \"col2\"])\n",
    "dd_data = from_pandas(pd_data, npartitions = NUM_PARTITIONS)\n",
    "\n",
    "\n",
    "l_cntr = 0\n",
    "   #\n",
    "for l_each in dd_data.itertuples():\n",
    "   l_cntr += 1\n",
    "      #\n",
    "   if (l_cntr <5):\n",
    "      print(\"Row (%d) of (%d) total rows.   Col1: (%4d)   Col2: (%s)\" % (l_cntr, len(dd_data), l_each.col1, l_each.col2))\n",
    "        \n",
    "print(\"--\")\n",
    "\n"
   ]
  },
  {
   "cell_type": "markdown",
   "id": "8bbdb7f3-d36a-4109-a089-714e0148233e",
   "metadata": {},
   "source": [
    "#  Part 02:  Create a graph"
   ]
  },
  {
   "cell_type": "code",
   "execution_count": 4,
   "id": "d39f46cf-334f-42d3-9fc6-b0440fb199b9",
   "metadata": {},
   "outputs": [
    {
     "name": "stdout",
     "output_type": "stream",
     "text": [
      "<katana_enterprise.remote.sync_wrappers.Client object at 0x7f86a44c33d0>\n"
     ]
    }
   ],
   "source": [
    "\n",
    "from katana import remote\n",
    "from katana.remote import import_data\n",
    "\n",
    "my_client = remote.Client()\n",
    "\n",
    "print(my_client)\n"
   ]
  },
  {
   "cell_type": "code",
   "execution_count": 5,
   "id": "beec5fcc-7c18-43ca-8a07-1ac343a74340",
   "metadata": {},
   "outputs": [
    {
     "name": "stdout",
     "output_type": "stream",
     "text": [
      "--\n"
     ]
    }
   ],
   "source": [
    "\n",
    "NUM_PARTITIONS  = 3\n",
    "   #\n",
    "DB_NAME         = \"my_db\"\n",
    "GRAPH_NAME      = \"my_graph\" \n",
    "\n",
    "print(\"--\")\n"
   ]
  },
  {
   "cell_type": "code",
   "execution_count": 6,
   "id": "73bf229e-a447-4771-ac6a-3c74eecb9381",
   "metadata": {},
   "outputs": [
    {
     "name": "stdout",
     "output_type": "stream",
     "text": [
      "--\n"
     ]
    }
   ],
   "source": [
    "\n",
    "#  DELETE ALL GRAPHS\n",
    "\n",
    "for l_database in my_client.databases():\n",
    "   for l_graph in my_client.get_database(name=l_database.name).graphs_in_database():\n",
    "      l_handle=my_client.get_database(name=l_database.name).get_graph_by_id(id=l_graph.graph_id)\n",
    "      l_handle.delete()\n",
    "\n",
    "for l_graph in my_client.graphs():\n",
    "   print(\"GRAPH ID: \", l_graph.graph_id, \"      GRAPH Version: \", l_graph.version)\n",
    "\n",
    "print(\"--\")\n"
   ]
  },
  {
   "cell_type": "code",
   "execution_count": null,
   "id": "131298d0-5cb4-4b62-8413-5e5571ef4b6a",
   "metadata": {},
   "outputs": [],
   "source": [
    "\n",
    "#  DELETE ALL DATABASES\n",
    "\n",
    "for l_database in my_client.databases():\n",
    "   if (l_database.name != \"default\"):\n",
    "      my_client.get_database(name=l_database.name).delete_database()\n",
    "      print(\"--\")\n",
    "\n",
    "for l_database in my_client.databases():\n",
    "   print(\"DB ID: \", l_database.database_id, \"     DB Name: \", l_database.name)\n"
   ]
  },
  {
   "cell_type": "code",
   "execution_count": null,
   "id": "4b708e18-dcc4-4e8e-b508-de70687066f8",
   "metadata": {},
   "outputs": [],
   "source": [
    "\n",
    "#  CREATE DATABASE\n",
    "\n",
    "my_database = my_client.create_database(name=DB_NAME)\n",
    "\n",
    "print(my_database.database_id)\n"
   ]
  },
  {
   "cell_type": "code",
   "execution_count": 7,
   "id": "828d62e9-1cf8-4eee-9147-f351961b95f4",
   "metadata": {},
   "outputs": [
    {
     "name": "stdout",
     "output_type": "stream",
     "text": [
      "<_Graph my_graph, 9dwieJRAjK2zdomzg33V1ueRvzmAUoi39WgMPz7Cupkv, 0>\n"
     ]
    }
   ],
   "source": [
    "\n",
    "#  CREATE GRAPHS\n",
    "\n",
    "my_graph=my_client.get_database(name=DB_NAME).create_graph(name=GRAPH_NAME, num_partitions=NUM_PARTITIONS)\n",
    "\n",
    "print(my_graph)\n"
   ]
  },
  {
   "cell_type": "markdown",
   "id": "018453bc-385a-41cb-9d4f-6f578886b2ce",
   "metadata": {},
   "source": [
    "#  Part 03:  Import into the graph"
   ]
  },
  {
   "cell_type": "code",
   "execution_count": 8,
   "id": "8a7e4b85-372f-491c-84b1-fc7714788163",
   "metadata": {},
   "outputs": [
    {
     "name": "stderr",
     "output_type": "stream",
     "text": [
      "UserWarning: dtype for DataFrame column 'col2' is 'object'. Will be inferred as string.\n"
     ]
    },
    {
     "data": {
      "application/vnd.jupyter.widget-view+json": {
       "model_id": "55dde2ceca834ad3aa7d2679338f78fa",
       "version_major": 2,
       "version_minor": 0
      },
      "text/plain": [
       "          0/? [?op/s]"
      ]
     },
     "metadata": {},
     "output_type": "display_data"
    },
    {
     "data": {
      "application/vnd.jupyter.widget-view+json": {
       "model_id": "7eea96e1cf284b0595212a382d768376",
       "version_major": 2,
       "version_minor": 0
      },
      "text/plain": [
       "          0/? [?op/s]"
      ]
     },
     "metadata": {},
     "output_type": "display_data"
    },
    {
     "name": "stdout",
     "output_type": "stream",
     "text": [
      "--\n"
     ]
    }
   ],
   "source": [
    "\n",
    "with import_data.DataFrameImporter(my_graph) as df_importer:\n",
    "    \n",
    "   #  Movies\n",
    "   #\n",
    "   df_importer.nodes_dataframe(\n",
    "      dd_data[[\"col1\", \"col2\"]],\n",
    "      id_column  = \"col1\",\n",
    "      id_space   = \"dd_data\"\n",
    "      )\n",
    "\n",
    "   df_importer.insert()\n",
    "\n",
    "\n",
    "print(\"--\")\n"
   ]
  },
  {
   "cell_type": "code",
   "execution_count": 9,
   "id": "b2f49097-92db-4c90-b76c-199b5a7ca20b",
   "metadata": {},
   "outputs": [
    {
     "data": {
      "application/vnd.jupyter.widget-view+json": {
       "model_id": "541d4358753c48c081a2123f70bb987b",
       "version_major": 2,
       "version_minor": 0
      },
      "text/plain": [
       "          0/? [?op/s]"
      ]
     },
     "metadata": {},
     "output_type": "display_data"
    },
    {
     "data": {
      "text/plain": [
       "'Number of Graph Nodes: 40000'"
      ]
     },
     "metadata": {},
     "output_type": "display_data"
    },
    {
     "data": {
      "application/vnd.jupyter.widget-view+json": {
       "model_id": "e835f19d9e004c4796c66b6ac623c707",
       "version_major": 2,
       "version_minor": 0
      },
      "text/plain": [
       "          0/? [?op/s]"
      ]
     },
     "metadata": {},
     "output_type": "display_data"
    },
    {
     "data": {
      "text/plain": [
       "'Number of Graph Edges: 0'"
      ]
     },
     "metadata": {},
     "output_type": "display_data"
    }
   ],
   "source": [
    "\n",
    "display(\"Number of Graph Nodes: %d\" % (my_graph.num_nodes()))\n",
    "display(\"Number of Graph Edges: %s\" % (my_graph.num_edges()))\n",
    "\n",
    "#  Sample outpt,\n",
    "#\n",
    "#     'Number of Graph Nodes: 40000'\n",
    "#     'Number of Graph Edges: 0'\n"
   ]
  },
  {
   "cell_type": "markdown",
   "id": "131e2410-26d9-4d2a-9070-447396fead5f",
   "metadata": {},
   "source": [
    "#  Part 04:  Run a traversal, return results"
   ]
  },
  {
   "cell_type": "code",
   "execution_count": 10,
   "id": "b6b6e913-8271-4a3c-9f64-997ba6c1c67e",
   "metadata": {},
   "outputs": [
    {
     "data": {
      "application/vnd.jupyter.widget-view+json": {
       "model_id": "45a3aac0774643c0b8aa4207efaa36ee",
       "version_major": 2,
       "version_minor": 0
      },
      "text/plain": [
       "          0/? [?op/s]"
      ]
     },
     "metadata": {},
     "output_type": "display_data"
    },
    {
     "name": "stdout",
     "output_type": "stream",
     "text": [
      "40000\n",
      "<class 'numpy.int64'>\n"
     ]
    }
   ],
   "source": [
    "\n",
    "#  Aggregates, by definition, can return only one row. We use a slightly different\n",
    "#  technique to get the return value.\n",
    "#\n",
    "\n",
    "l_query  = \"\"\"\n",
    "   MATCH (n) \n",
    "   RETURN COUNT(*) AS cnt\n",
    "   \"\"\".format()\n",
    "\n",
    "l_count = my_graph.query(l_query)[\"cnt\"][0]\n",
    "\n",
    "\n",
    "print(l_count)\n",
    "print(type(l_count))\n",
    "\n",
    "#  Sample output,\n",
    "#\n",
    "#     40000\n",
    "#     <class 'numpy.int64'>\n"
   ]
  },
  {
   "cell_type": "code",
   "execution_count": 11,
   "id": "e88c9f33-436c-44a3-ab44-63df3486d2ed",
   "metadata": {},
   "outputs": [
    {
     "data": {
      "application/vnd.jupyter.widget-view+json": {
       "model_id": "aba12aa301784d6e9da4134e92ac3e8b",
       "version_major": 2,
       "version_minor": 0
      },
      "text/plain": [
       "          0/? [?op/s]"
      ]
     },
     "metadata": {},
     "output_type": "display_data"
    },
    {
     "name": "stdout",
     "output_type": "stream",
     "text": [
      "+----+--------+-----------------+\n",
      "|    |   col1 | col2            |\n",
      "|----+--------+-----------------|\n",
      "|  0 |      6 | Item number: 6  |\n",
      "|  1 |      7 | Item number: 7  |\n",
      "|  2 |     11 | Item number: 11 |\n",
      "|  3 |     12 | Item number: 12 |\n",
      "|  4 |     14 | Item number: 14 |\n",
      "|  5 |     15 | Item number: 15 |\n",
      "|  6 |     16 | Item number: 16 |\n",
      "|  7 |     17 | Item number: 17 |\n",
      "|  8 |     19 | Item number: 19 |\n",
      "|  9 |     22 | Item number: 22 |\n",
      "+----+--------+-----------------+\n",
      "\n",
      "<class 'katana.remote.ResultSet'>\n"
     ]
    }
   ],
   "source": [
    "\n",
    "#  Returning actual data, scale: 10 rows\n",
    "#\n",
    "\n",
    "l_rows = 10\n",
    "\n",
    "l_query  = \"\"\"\n",
    "   MATCH (n) \n",
    "   RETURN n.col1 AS col1, n.col2 AS col2\n",
    "   LIMIT {0}\n",
    "   \"\"\".format(l_rows)\n",
    "\n",
    "dd_result1 = my_graph.query(l_query)\n",
    "\n",
    "\n",
    "print(tabulate(dd_result1, headers='keys', tablefmt='psql'))\n",
    "print(\"\")\n",
    "print(type(dd_result1))\n",
    "\n",
    "#  Sample output,\n",
    "#\n",
    "#     +----+--------+-----------------+\n",
    "#     |    |   col1 | col2            |\n",
    "#     |----+--------+-----------------|\n",
    "#     |  0 |      1 | Item number: 1  |\n",
    "#     |  1 |      6 | Item number: 6  |\n",
    "#     |  2 |      8 | Item number: 8  |\n",
    "#     |  3 |     14 | Item number: 14 |\n",
    "#     |  4 |     17 | Item number: 17 |\n",
    "#     |  5 |     21 | Item number: 21 |\n",
    "#     |  6 |     22 | Item number: 22 |\n",
    "#     |  7 |     26 | Item number: 26 |\n",
    "#     |  8 |     28 | Item number: 28 |\n",
    "#     |  9 |     30 | Item number: 30 |\n",
    "#     +----+--------+-----------------+\n",
    "#\n",
    "#     <class 'katana.remote.ResultSet'>\n"
   ]
  },
  {
   "cell_type": "code",
   "execution_count": null,
   "id": "50455568-89d3-4516-ace5-c4a5411ca3a9",
   "metadata": {},
   "outputs": [],
   "source": [
    "\n",
    "#  Return (NUM_ROWS: 40,000) rows.\n",
    "#\n",
    "#     This as step 1 when we want to validate contents, or use graph data\n",
    "#     for ML routines, other.\n",
    "#\n",
    "#     You should see the Python kernel hang, become unresponsive.\n",
    "#        You'll see the upper-right GIF wheel hang. Or, just try running\n",
    "#        the next cell; it's hung.\n",
    "\n",
    "\n",
    "#  l_rows = 40000                                #  My original use case, Hangs\n",
    "#  l_rows = 5000                                 #  Takes 10 (?) seconds, then runs/continues\n",
    "   #\n",
    "l_rows = 1000\n",
    "\n",
    "l_query  = \"\"\"\n",
    "   MATCH (n) \n",
    "   RETURN n.col1 AS col1, n.col2 AS col2\n",
    "   LIMIT {0}\n",
    "   \"\"\".format(l_rows)\n",
    "\n",
    "dd_result2 = my_graph.query(l_query)\n",
    "\n",
    "\n",
    "l_cntr = 0\n",
    "   #\n",
    "for l_each in dd_result2.itertuples():\n",
    "   l_cntr += 1  \n",
    "      #\n",
    "   if (l_cntr < 10):\n",
    "      print(\"Counter: %-4d   (%s)   (%s)\" % (l_cntr, l_each.col1, l_each.col2))\n",
    "\n",
    "print(\"\")\n",
    "print(\"Number of rows in DataFrame: %d   Value of l_cntr: %d\" % (len(dd_result2), l_cntr))\n",
    "print(\"--\")\n",
    "\n",
    "#  Sample output,\n",
    "#\n",
    "#     Counter: 1      (0)   (Item number: 0)\n",
    "#     Counter: 2      (5)   (Item number: 5)\n",
    "#     Counter: 3      (6)   (Item number: 6)\n",
    "#     Counter: 4      (8)   (Item number: 8)\n",
    "#     Counter: 5      (9)   (Item number: 9)\n",
    "#     Counter: 6      (11)   (Item number: 11)\n",
    "#     Counter: 7      (12)   (Item number: 12)\n",
    "#     Counter: 8      (13)   (Item number: 13)\n",
    "#     Counter: 9      (17)   (Item number: 17)\n",
    "#  \n",
    "#     Number of rows in DataFrame: 1000   Value of l_cntr: 1000\n"
   ]
  },
  {
   "cell_type": "code",
   "execution_count": null,
   "id": "409e4943-f54a-4315-8629-17a13f645c98",
   "metadata": {},
   "outputs": [],
   "source": [
    "\n",
    "#  Use this to see if/when next cell will run\n",
    "#\n",
    "print(\"--\")\n"
   ]
  },
  {
   "cell_type": "code",
   "execution_count": 39,
   "id": "3de17d83-ae13-46e0-844d-800e5c999664",
   "metadata": {},
   "outputs": [
    {
     "data": {
      "application/vnd.jupyter.widget-view+json": {
       "model_id": "97ae8394cabf4ae79aea79573972d490",
       "version_major": 2,
       "version_minor": 0
      },
      "text/plain": [
       "          0/? [?op/s]"
      ]
     },
     "metadata": {},
     "output_type": "display_data"
    },
    {
     "name": "stdout",
     "output_type": "stream",
     "text": [
      "Counter: 1      (29997)   (Item number: 29997)\n",
      "Counter: 2      (30003)   (Item number: 30003)\n",
      "Counter: 3      (30006)   (Item number: 30006)\n",
      "Counter: 4      (30007)   (Item number: 30007)\n",
      "Counter: 5      (30008)   (Item number: 30008)\n",
      "Counter: 6      (30009)   (Item number: 30009)\n",
      "Counter: 7      (30011)   (Item number: 30011)\n",
      "Counter: 8      (30014)   (Item number: 30014)\n",
      "Counter: 9      (30019)   (Item number: 30019)\n",
      "\n",
      "Number of rows in List: 40000   Value of l_cntr: 40000\n",
      "\n"
     ]
    },
    {
     "ename": "KeyError",
     "evalue": "'1'",
     "output_type": "error",
     "traceback": [
      "\u001b[0;31m---------------------------------------------------------------------------\u001b[0m",
      "\u001b[0;31mKeyError\u001b[0m                                  Traceback (most recent call last)",
      "Cell \u001b[0;32mIn [39], line 60\u001b[0m\n\u001b[1;32m     58\u001b[0m    \u001b[38;5;66;03m#\u001b[39;00m\n\u001b[1;32m     59\u001b[0m \u001b[38;5;28;01mfor\u001b[39;00m l_each \u001b[38;5;129;01min\u001b[39;00m dd_result4:\n\u001b[0;32m---> 60\u001b[0m    aaa \u001b[38;5;241m=\u001b[39m \u001b[43ml_each\u001b[49m\u001b[43m[\u001b[49m\u001b[38;5;241;43m1\u001b[39;49m\u001b[43m]\u001b[49m\n\u001b[1;32m     61\u001b[0m    \u001b[38;5;28mprint\u001b[39m(\u001b[38;5;28mtype\u001b[39m(aaa))\n\u001b[1;32m     62\u001b[0m    \u001b[38;5;66;03m# print(aaa[0].col1)\u001b[39;00m\n\u001b[1;32m     63\u001b[0m    \u001b[38;5;66;03m# my_pd.append(l_each)\u001b[39;00m\n\u001b[1;32m     64\u001b[0m \n\u001b[0;32m   (...)\u001b[0m\n\u001b[1;32m     78\u001b[0m \u001b[38;5;66;03m#    \u001b[39;00m\n\u001b[1;32m     79\u001b[0m \u001b[38;5;66;03m#  display(df)\u001b[39;00m\n",
      "File \u001b[0;32m/opt/conda/lib/python3.8/site-packages/modin/pandas/base.py:2967\u001b[0m, in \u001b[0;36mBasePandasDataset.__getitem__\u001b[0;34m(self, key)\u001b[0m\n\u001b[1;32m   2965\u001b[0m     \u001b[38;5;28;01mreturn\u001b[39;00m \u001b[38;5;28mself\u001b[39m\u001b[38;5;241m.\u001b[39m_getitem_slice(indexer)\n\u001b[1;32m   2966\u001b[0m \u001b[38;5;28;01melse\u001b[39;00m:\n\u001b[0;32m-> 2967\u001b[0m     \u001b[38;5;28;01mreturn\u001b[39;00m \u001b[38;5;28;43mself\u001b[39;49m\u001b[38;5;241;43m.\u001b[39;49m\u001b[43m_getitem\u001b[49m\u001b[43m(\u001b[49m\u001b[43mkey\u001b[49m\u001b[43m)\u001b[49m\n",
      "File \u001b[0;32m/opt/conda/lib/python3.8/site-packages/modin/pandas/dataframe.py:2959\u001b[0m, in \u001b[0;36mDataFrame._getitem\u001b[0;34m(self, key)\u001b[0m\n\u001b[1;32m   2956\u001b[0m     \u001b[38;5;28;01mreturn\u001b[39;00m \u001b[38;5;28mself\u001b[39m\u001b[38;5;241m.\u001b[39m_default_to_pandas(pandas\u001b[38;5;241m.\u001b[39mDataFrame\u001b[38;5;241m.\u001b[39m\u001b[38;5;21m__getitem__\u001b[39m, key)\n\u001b[1;32m   2957\u001b[0m     \u001b[38;5;66;03m# return self._getitem_multilevel(key)\u001b[39;00m\n\u001b[1;32m   2958\u001b[0m \u001b[38;5;28;01melse\u001b[39;00m:\n\u001b[0;32m-> 2959\u001b[0m     \u001b[38;5;28;01mreturn\u001b[39;00m \u001b[38;5;28;43mself\u001b[39;49m\u001b[38;5;241;43m.\u001b[39;49m\u001b[43m_getitem_column\u001b[49m\u001b[43m(\u001b[49m\u001b[43mkey\u001b[49m\u001b[43m)\u001b[49m\n",
      "File \u001b[0;32m/opt/conda/lib/python3.8/site-packages/modin/pandas/dataframe.py:2425\u001b[0m, in \u001b[0;36mDataFrame._getitem_column\u001b[0;34m(self, key)\u001b[0m\n\u001b[1;32m   2411\u001b[0m \u001b[38;5;124;03m\"\"\"\u001b[39;00m\n\u001b[1;32m   2412\u001b[0m \u001b[38;5;124;03mGet column specified by `key`.\u001b[39;00m\n\u001b[1;32m   2413\u001b[0m \n\u001b[0;32m   (...)\u001b[0m\n\u001b[1;32m   2422\u001b[0m \u001b[38;5;124;03m    Selected column.\u001b[39;00m\n\u001b[1;32m   2423\u001b[0m \u001b[38;5;124;03m\"\"\"\u001b[39;00m\n\u001b[1;32m   2424\u001b[0m \u001b[38;5;28;01mif\u001b[39;00m key \u001b[38;5;129;01mnot\u001b[39;00m \u001b[38;5;129;01min\u001b[39;00m \u001b[38;5;28mself\u001b[39m\u001b[38;5;241m.\u001b[39mkeys():\n\u001b[0;32m-> 2425\u001b[0m     \u001b[38;5;28;01mraise\u001b[39;00m \u001b[38;5;167;01mKeyError\u001b[39;00m(\u001b[38;5;124m\"\u001b[39m\u001b[38;5;132;01m{}\u001b[39;00m\u001b[38;5;124m\"\u001b[39m\u001b[38;5;241m.\u001b[39mformat(key))\n\u001b[1;32m   2426\u001b[0m s \u001b[38;5;241m=\u001b[39m DataFrame(\n\u001b[1;32m   2427\u001b[0m     query_compiler\u001b[38;5;241m=\u001b[39m\u001b[38;5;28mself\u001b[39m\u001b[38;5;241m.\u001b[39m_query_compiler\u001b[38;5;241m.\u001b[39mgetitem_column_array([key])\n\u001b[1;32m   2428\u001b[0m )\u001b[38;5;241m.\u001b[39msqueeze(axis\u001b[38;5;241m=\u001b[39m\u001b[38;5;241m1\u001b[39m)\n\u001b[1;32m   2429\u001b[0m \u001b[38;5;28;01mif\u001b[39;00m \u001b[38;5;28misinstance\u001b[39m(s, Series):\n",
      "\u001b[0;31mKeyError\u001b[0m: '1'"
     ]
    }
   ],
   "source": [
    "\n",
    "#  Move the above to paginated fetching ..\n",
    "#\n",
    "\n",
    "l_rows = 40000\n",
    "#  l_rows = 5000 \n",
    "#  l_rows = 10000\n",
    "\n",
    "l_query  = \"\"\"\n",
    "   MATCH (n) \n",
    "   RETURN n.col1 AS col1, n.col2 AS col2\n",
    "   LIMIT {0}\n",
    "   \"\"\".format(l_rows)\n",
    "\n",
    "\n",
    "dd_result4 = my_graph.query_paginated(l_query)\n",
    "#\n",
    "#  Returns,  katana_enterprise.remote.sync_wrappers.PaginatedResultSet\n",
    "#     It has no length\n",
    "#     It has no itertuples()\n",
    "#     It does have a head, maxmimum 40\n",
    "\n",
    "\n",
    "#  l_resultA = dd_result3.head(10)\n",
    "#  print(type(l_resultA))\n",
    "      #\n",
    "#   Maximum value: 40\n",
    "#\n",
    "#     print(dd_result3.head(44))\n",
    "#     >> ValueError: You can only view a maximum of 40 rows.\n",
    "\n",
    "\n",
    "#  Using a list\n",
    "#\n",
    "my_list = []\n",
    "   #\n",
    "for l_each in dd_result4:\n",
    "   my_list.append(l_each)\n",
    "\n",
    "\n",
    "l_cntr = 0\n",
    "   #\n",
    "for l_col1, l_col2 in zip(my_list[0].col1, my_list[0].col2):\n",
    "   l_cntr += 1\n",
    "      #\n",
    "   if (l_cntr < 10):\n",
    "      print(\"Counter: %-4d   (%s)   (%s)\" % (l_cntr, l_col1, l_col2))\n",
    "        \n",
    "print(\"\")\n",
    "print(\"Number of rows in List: %d   Value of l_cntr: %d\" % (len(my_list[0].col1), l_cntr))\n",
    "print(\"\")\n",
    "   #\n",
    "del my_list\n",
    "\n",
    "      \n",
    "#  Using a Pandas DataFrame\n",
    "#\n",
    "my_pd = pd.DataFrame()\n",
    "   #\n",
    "for l_each in dd_result4:\n",
    "   aaa = l_each[1]\n",
    "   print(type(aaa))\n",
    "   # print(aaa[0].col1)\n",
    "   # my_pd.append(l_each)\n",
    "\n",
    "\n",
    "\n",
    "#  dict = {'Name':['Martha', 'Tim', 'Rob', 'Georgia'],\n",
    "#          'Maths':[87, 91, 97, 95],\n",
    "#          'Science':[83, 99, 84, 76]\n",
    "#         }\n",
    "#    \n",
    "#  df = pd.DataFrame(dict)\n",
    "#    \n",
    "#  display(df)\n",
    "#    \n",
    "#  df2 = {'Name': 'Amy', 'Maths': 89, 'Science': 93}\n",
    "#  df = df.append(df2, ignore_index = True)\n",
    "#    \n",
    "#  display(df)\n",
    "\n"
   ]
  },
  {
   "cell_type": "code",
   "execution_count": null,
   "id": "0c4dd2ba-f696-4825-ab90-d6551bf2ed53",
   "metadata": {},
   "outputs": [],
   "source": [
    "\n",
    "\n",
    "\n",
    "\n"
   ]
  },
  {
   "cell_type": "code",
   "execution_count": null,
   "id": "cfcfd326-a30e-4ca1-9b39-2524dfd63a33",
   "metadata": {},
   "outputs": [],
   "source": []
  },
  {
   "cell_type": "code",
   "execution_count": null,
   "id": "5a729c3f-ab5c-4ec7-af2a-50810d5d75af",
   "metadata": {},
   "outputs": [],
   "source": []
  },
  {
   "cell_type": "code",
   "execution_count": null,
   "id": "0e955b06-998b-4e9f-ac19-8446a30868d8",
   "metadata": {},
   "outputs": [],
   "source": []
  },
  {
   "cell_type": "code",
   "execution_count": null,
   "id": "c86b0338-f186-4fa4-8487-737d6d4b8ba2",
   "metadata": {},
   "outputs": [],
   "source": []
  },
  {
   "cell_type": "code",
   "execution_count": null,
   "id": "923a4e65-eb1d-4e11-af61-0b14302b019a",
   "metadata": {},
   "outputs": [],
   "source": []
  }
 ],
 "metadata": {
  "kernelspec": {
   "display_name": "Python 3 (ipykernel)",
   "language": "python",
   "name": "python3"
  },
  "language_info": {
   "codemirror_mode": {
    "name": "ipython",
    "version": 3
   },
   "file_extension": ".py",
   "mimetype": "text/x-python",
   "name": "python",
   "nbconvert_exporter": "python",
   "pygments_lexer": "ipython3",
   "version": "3.8.13"
  }
 },
 "nbformat": 4,
 "nbformat_minor": 5
}
