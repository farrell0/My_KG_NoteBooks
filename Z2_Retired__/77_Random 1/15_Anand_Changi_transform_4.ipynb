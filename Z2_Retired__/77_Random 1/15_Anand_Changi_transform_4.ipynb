{
 "cells": [
  {
   "cell_type": "code",
   "execution_count": 1,
   "id": "6a4c74ca-a5e9-46f0-80e3-13e220bd9f34",
   "metadata": {},
   "outputs": [],
   "source": [
    "import os                                                                        \n",
    "import time                                                                      \n",
    "import json\n",
    "import numpy as np\n",
    "import pandas as pd\n",
    "import dask as dd\n",
    "from timeit import default_timer as timer\n",
    "import gcsfs, json\n",
    "from katana import remote\n",
    "from katana.remote import import_data\n",
    "from datetime import datetime\n",
    "from dask.dataframe import from_pandas\n",
    "from dask.dataframe import to_numeric\n",
    "# os.environ[\"KATANA_SERVER_ADDRESS\"] = \"host.docker.internal:8080\""
   ]
  },
  {
   "cell_type": "code",
   "execution_count": 2,
   "id": "c886a037-eff8-4f51-90d0-55a2cf2ffad6",
   "metadata": {},
   "outputs": [],
   "source": [
    "from dask.distributed import Client, progress\n",
    "client = Client(\"10.0.0.101:8786\")"
   ]
  },
  {
   "cell_type": "code",
   "execution_count": 3,
   "id": "49af8d4a-c0ae-425d-98da-e568249ce9eb",
   "metadata": {},
   "outputs": [
    {
     "name": "stdout",
     "output_type": "stream",
     "text": [
      "{'heartbeat': '5s', 'scheduler-info-interval': '2s', 'security-loader': None, 'preload': [], 'preload-argv': []}\n"
     ]
    }
   ],
   "source": [
    "print(dd.config.get(\"distributed.client\"))"
   ]
  },
  {
   "cell_type": "code",
   "execution_count": 4,
   "id": "9290285b-1493-4eaf-aa76-546c4aba594f",
   "metadata": {},
   "outputs": [
    {
     "data": {
      "text/plain": [
       "('\\ufeffCase Number,Case Origin,Issue Terminal,Case Record Type,Case Type,Category (F),Sub-Category (F),Issue Category,Subject,Description,Date/Time Opened,Case Owner\\n',\n",
       " '3033230,Web,T1,Feedback,Complaint,Ground Transport & Roadway,\"Transport, Trolley, Carpark\",Buggy,,The buggy car was speeding in front of the currency exchange around 23.07 in terminal 1.,22/10/2022 23:12,Buggy Portfolio\\n',\n",
       " '3010035,Web,T1,Feedback,Suggestion,Ground Transport & Roadway,\"Transport, Trolley, Carpark\",Buggy,-,\"Hi Changi Airport, Me and my family of five (2 elderly parents, wife and 4-year-old daughter) recently departed from T1 to Jakarta. The distance from the immigration to the boarding gate (Scoot flight) is about 12 mins walk. As my father has difficulties walking long distances and uses a walking stick, a buggy service would have been helpful for him. We approached one of the ground staff at the airport but were informed we needed to book the service a few days in advance. Just to share that when we were at KLIA 2 (KL) and Jakarta Soekarno-Hatta T3 recently, the buggy service was made available to my father without the need for any advance booking. The service was also made for free. We feel that the service should have been made available at Changi Airport too. We did, however, manage to use one of the wheelchairs available, and thankful for that. I hope with this feedback, services to the elderly can be further improved. Our suggestions for your consideration, please. Best regards, Dr Norshahril Saat\",09/11/22 16:59,Buggy Portfolio\\n')"
      ]
     },
     "execution_count": 4,
     "metadata": {},
     "output_type": "execute_result"
    }
   ],
   "source": [
    "import dask.bag as db\n",
    "import json\n",
    "base_path = 'gs://airport-ops/csv/'\n",
    "b = db.read_text(base_path+'Complaints_Suggestions_Compliments_2022.csv', blocksize=\"1024MiB\")\n",
    "b.take(3)"
   ]
  },
  {
   "cell_type": "code",
   "execution_count": 5,
   "id": "b8cabdfd-83c6-4887-9778-948fb9f5353e",
   "metadata": {},
   "outputs": [],
   "source": [
    "def standardize(record):\n",
    "    import csv, sys\n",
    "    from datetime import datetime\n",
    "    csv.field_size_limit(sys.maxsize)\n",
    "    reader = csv.reader([str(record)])\n",
    "    \n",
    "    for parsed_record in reader:\n",
    "        case_number=parsed_record[0]\n",
    "        case_origin=parsed_record[1]\n",
    "        terminal   =parsed_record[2]\n",
    "        case_record_type=parsed_record[3]\n",
    "        case_type  =parsed_record[4]\n",
    "        category   =parsed_record[5]\n",
    "        sub_category=parsed_record[6]\n",
    "        issue_category=parsed_record[7]\n",
    "        subject=parsed_record[8]\n",
    "        description=parsed_record[9]\n",
    "        case_owner=parsed_record[11]\n",
    "        parse_issue = 'Parsed successfully'\n",
    "        opened_time=''\n",
    "        # 22/10/2022 23:12\n",
    "        try:\n",
    "            opened_time = datetime.strptime(parsed_record[10], '%d/%m/%Y %H:%M')\n",
    "            parse_issue = 'Parsed successfully'\n",
    "        except:\n",
    "            parse_issue=f'issue parsing opened time {parsed_record[10]}'\n",
    "            try:\n",
    "                opened_time = datetime.strptime(parsed_record[10], '%d/%m/%y %H:%M')\n",
    "                parse_issue = 'Parsed successfully'\n",
    "            except:\n",
    "                parse_issue=f'issue parsing opened time {parsed_record[10]}'            \n",
    "            \n",
    "        return {\n",
    "            'case_number': case_number,\n",
    "            'case_origin': case_origin,\n",
    "            'terminal': terminal,\n",
    "            'case_record_type': case_record_type,\n",
    "            'case_type': case_type,\n",
    "            'category': category,\n",
    "            'sub_category': sub_category,\n",
    "            'issue_category': issue_category,\n",
    "            'subject': subject,\n",
    "            'description': description,\n",
    "            'opened_time': opened_time,\n",
    "            'case_owner': case_owner,\n",
    "            'parse_issue': parse_issue\n",
    "        }\n",
    "    return {}\n",
    "\n",
    "def isHeader(record):\n",
    "    if  'Case Number' in record['case_number'] \\\n",
    "     and 'Case Origin' in record['case_origin']:\n",
    "        return True\n",
    "    return False\n",
    "\n",
    "def hasParseError(record):\n",
    "    if  'Parsed successfully' in record['parse_issue']:\n",
    "        return False\n",
    "    return True\n",
    "\n",
    "final_df=b.map(standardize).remove(isHeader).remove(hasParseError)\\\n",
    "            .to_dataframe()\\\n",
    "            .astype({'case_number':'string','case_origin':'string','terminal':'string','case_record_type':'string','case_type':'string',\n",
    "                    'category':'string', 'sub_category':'string', 'issue_category':'string', 'subject':'string', 'description':'string',\n",
    "                    'opened_time':'M8[us]', 'case_owner':'string', 'parse_issue':'string'}).rename(columns={\"case_number\": \"ID\"}) \n"
   ]
  },
  {
   "cell_type": "code",
   "execution_count": 6,
   "id": "3676cd13-676f-48ad-918e-08f926a87bbb",
   "metadata": {},
   "outputs": [
    {
     "data": {
      "text/plain": [
       "5283"
      ]
     },
     "execution_count": 6,
     "metadata": {},
     "output_type": "execute_result"
    }
   ],
   "source": [
    "len(final_df)"
   ]
  },
  {
   "cell_type": "code",
   "execution_count": 7,
   "id": "97e9568d-7ba2-4c93-9568-cd6d5da09cfe",
   "metadata": {},
   "outputs": [
    {
     "data": {
      "text/plain": [
       "5283"
      ]
     },
     "execution_count": 7,
     "metadata": {},
     "output_type": "execute_result"
    }
   ],
   "source": [
    "len(final_df.ID.unique())"
   ]
  },
  {
   "cell_type": "markdown",
   "id": "6bd56248-e80b-4bab-9ae5-f2aeae90286b",
   "metadata": {
    "jp-MarkdownHeadingCollapsed": true,
    "tags": []
   },
   "source": [
    "#### Case Origin as an edge"
   ]
  },
  {
   "cell_type": "code",
   "execution_count": 8,
   "id": "b69e0ef0-1dc2-4405-a6ef-c27f8c2cd1a6",
   "metadata": {},
   "outputs": [],
   "source": [
    "co_df=final_df.case_origin.unique().to_frame().rename(columns={'case_origin':'ID'})"
   ]
  },
  {
   "cell_type": "code",
   "execution_count": 9,
   "id": "fc749e16-6fbf-4cc0-b84d-c25733a3810a",
   "metadata": {},
   "outputs": [
    {
     "data": {
      "text/html": [
       "<div>\n",
       "<style scoped>\n",
       "    .dataframe tbody tr th:only-of-type {\n",
       "        vertical-align: middle;\n",
       "    }\n",
       "\n",
       "    .dataframe tbody tr th {\n",
       "        vertical-align: top;\n",
       "    }\n",
       "\n",
       "    .dataframe thead th {\n",
       "        text-align: right;\n",
       "    }\n",
       "</style>\n",
       "<table border=\"1\" class=\"dataframe\">\n",
       "  <thead>\n",
       "    <tr style=\"text-align: right;\">\n",
       "      <th></th>\n",
       "      <th>ID</th>\n",
       "    </tr>\n",
       "  </thead>\n",
       "  <tbody>\n",
       "    <tr>\n",
       "      <th>0</th>\n",
       "      <td>Web</td>\n",
       "    </tr>\n",
       "    <tr>\n",
       "      <th>1</th>\n",
       "      <td>Phone</td>\n",
       "    </tr>\n",
       "    <tr>\n",
       "      <th>2</th>\n",
       "      <td>Email (Feedback)</td>\n",
       "    </tr>\n",
       "    <tr>\n",
       "      <th>3</th>\n",
       "      <td>Email (Enquiries)</td>\n",
       "    </tr>\n",
       "    <tr>\n",
       "      <th>4</th>\n",
       "      <td>Walk-in</td>\n",
       "    </tr>\n",
       "  </tbody>\n",
       "</table>\n",
       "</div>"
      ],
      "text/plain": [
       "                  ID\n",
       "0                Web\n",
       "1              Phone\n",
       "2   Email (Feedback)\n",
       "3  Email (Enquiries)\n",
       "4            Walk-in"
      ]
     },
     "execution_count": 9,
     "metadata": {},
     "output_type": "execute_result"
    }
   ],
   "source": [
    "co_df.head()"
   ]
  },
  {
   "cell_type": "code",
   "execution_count": 10,
   "id": "81435bf3-4a49-406e-ab11-0cb18f5c17be",
   "metadata": {},
   "outputs": [],
   "source": [
    "co_edges_df=final_df[['ID','case_origin']]"
   ]
  },
  {
   "cell_type": "code",
   "execution_count": 11,
   "id": "47bb34e5-fc0d-46fe-838f-885153552e33",
   "metadata": {},
   "outputs": [
    {
     "data": {
      "text/html": [
       "<div>\n",
       "<style scoped>\n",
       "    .dataframe tbody tr th:only-of-type {\n",
       "        vertical-align: middle;\n",
       "    }\n",
       "\n",
       "    .dataframe tbody tr th {\n",
       "        vertical-align: top;\n",
       "    }\n",
       "\n",
       "    .dataframe thead th {\n",
       "        text-align: right;\n",
       "    }\n",
       "</style>\n",
       "<table border=\"1\" class=\"dataframe\">\n",
       "  <thead>\n",
       "    <tr style=\"text-align: right;\">\n",
       "      <th></th>\n",
       "      <th>ID</th>\n",
       "      <th>case_origin</th>\n",
       "    </tr>\n",
       "  </thead>\n",
       "  <tbody>\n",
       "    <tr>\n",
       "      <th>0</th>\n",
       "      <td>3033230</td>\n",
       "      <td>Web</td>\n",
       "    </tr>\n",
       "    <tr>\n",
       "      <th>1</th>\n",
       "      <td>3010035</td>\n",
       "      <td>Web</td>\n",
       "    </tr>\n",
       "    <tr>\n",
       "      <th>2</th>\n",
       "      <td>3007067</td>\n",
       "      <td>Web</td>\n",
       "    </tr>\n",
       "    <tr>\n",
       "      <th>3</th>\n",
       "      <td>3002588</td>\n",
       "      <td>Web</td>\n",
       "    </tr>\n",
       "    <tr>\n",
       "      <th>4</th>\n",
       "      <td>2993549</td>\n",
       "      <td>Web</td>\n",
       "    </tr>\n",
       "  </tbody>\n",
       "</table>\n",
       "</div>"
      ],
      "text/plain": [
       "        ID case_origin\n",
       "0  3033230         Web\n",
       "1  3010035         Web\n",
       "2  3007067         Web\n",
       "3  3002588         Web\n",
       "4  2993549         Web"
      ]
     },
     "execution_count": 11,
     "metadata": {},
     "output_type": "execute_result"
    }
   ],
   "source": [
    "co_edges_df.head()"
   ]
  },
  {
   "cell_type": "markdown",
   "id": "a983bc7f-1512-4702-85d8-c941597cfd5a",
   "metadata": {
    "jp-MarkdownHeadingCollapsed": true,
    "tags": []
   },
   "source": [
    "#### Terminal as an edge"
   ]
  },
  {
   "cell_type": "code",
   "execution_count": 12,
   "id": "4001348d-78eb-43f6-938b-1269de484cec",
   "metadata": {},
   "outputs": [],
   "source": [
    "terminal_df=final_df.terminal.unique().to_frame().rename(columns={'terminal':'ID'})\n",
    "terminal_edges_df=final_df[['ID','terminal']]"
   ]
  },
  {
   "cell_type": "code",
   "execution_count": 13,
   "id": "4388a7b5-91af-4cc8-987e-af4737922dbf",
   "metadata": {},
   "outputs": [
    {
     "data": {
      "text/html": [
       "<div>\n",
       "<style scoped>\n",
       "    .dataframe tbody tr th:only-of-type {\n",
       "        vertical-align: middle;\n",
       "    }\n",
       "\n",
       "    .dataframe tbody tr th {\n",
       "        vertical-align: top;\n",
       "    }\n",
       "\n",
       "    .dataframe thead th {\n",
       "        text-align: right;\n",
       "    }\n",
       "</style>\n",
       "<table border=\"1\" class=\"dataframe\">\n",
       "  <thead>\n",
       "    <tr style=\"text-align: right;\">\n",
       "      <th></th>\n",
       "      <th>ID</th>\n",
       "    </tr>\n",
       "  </thead>\n",
       "  <tbody>\n",
       "    <tr>\n",
       "      <th>0</th>\n",
       "      <td>T1</td>\n",
       "    </tr>\n",
       "    <tr>\n",
       "      <th>1</th>\n",
       "      <td>T3</td>\n",
       "    </tr>\n",
       "    <tr>\n",
       "      <th>2</th>\n",
       "      <td>CAC</td>\n",
       "    </tr>\n",
       "    <tr>\n",
       "      <th>3</th>\n",
       "      <td>General</td>\n",
       "    </tr>\n",
       "    <tr>\n",
       "      <th>4</th>\n",
       "      <td>T4</td>\n",
       "    </tr>\n",
       "  </tbody>\n",
       "</table>\n",
       "</div>"
      ],
      "text/plain": [
       "        ID\n",
       "0       T1\n",
       "1       T3\n",
       "2      CAC\n",
       "3  General\n",
       "4       T4"
      ]
     },
     "execution_count": 13,
     "metadata": {},
     "output_type": "execute_result"
    }
   ],
   "source": [
    "terminal_df.head()"
   ]
  },
  {
   "cell_type": "code",
   "execution_count": 14,
   "id": "7594e464-5e88-4fb9-9373-081f4acfae70",
   "metadata": {},
   "outputs": [
    {
     "data": {
      "text/html": [
       "<div>\n",
       "<style scoped>\n",
       "    .dataframe tbody tr th:only-of-type {\n",
       "        vertical-align: middle;\n",
       "    }\n",
       "\n",
       "    .dataframe tbody tr th {\n",
       "        vertical-align: top;\n",
       "    }\n",
       "\n",
       "    .dataframe thead th {\n",
       "        text-align: right;\n",
       "    }\n",
       "</style>\n",
       "<table border=\"1\" class=\"dataframe\">\n",
       "  <thead>\n",
       "    <tr style=\"text-align: right;\">\n",
       "      <th></th>\n",
       "      <th>ID</th>\n",
       "      <th>terminal</th>\n",
       "    </tr>\n",
       "  </thead>\n",
       "  <tbody>\n",
       "    <tr>\n",
       "      <th>0</th>\n",
       "      <td>3033230</td>\n",
       "      <td>T1</td>\n",
       "    </tr>\n",
       "    <tr>\n",
       "      <th>1</th>\n",
       "      <td>3010035</td>\n",
       "      <td>T1</td>\n",
       "    </tr>\n",
       "    <tr>\n",
       "      <th>2</th>\n",
       "      <td>3007067</td>\n",
       "      <td>T3</td>\n",
       "    </tr>\n",
       "    <tr>\n",
       "      <th>3</th>\n",
       "      <td>3002588</td>\n",
       "      <td>T1</td>\n",
       "    </tr>\n",
       "    <tr>\n",
       "      <th>4</th>\n",
       "      <td>2993549</td>\n",
       "      <td>T1</td>\n",
       "    </tr>\n",
       "  </tbody>\n",
       "</table>\n",
       "</div>"
      ],
      "text/plain": [
       "        ID terminal\n",
       "0  3033230       T1\n",
       "1  3010035       T1\n",
       "2  3007067       T3\n",
       "3  3002588       T1\n",
       "4  2993549       T1"
      ]
     },
     "execution_count": 14,
     "metadata": {},
     "output_type": "execute_result"
    }
   ],
   "source": [
    "terminal_edges_df.head()"
   ]
  },
  {
   "cell_type": "markdown",
   "id": "e082f32d-c415-4920-a485-372a95da5bf8",
   "metadata": {
    "jp-MarkdownHeadingCollapsed": true,
    "tags": []
   },
   "source": [
    "#### Case Record Type as an edge \"case_record_type\""
   ]
  },
  {
   "cell_type": "code",
   "execution_count": 15,
   "id": "742403c0-42f2-42cc-82bc-d584752d0281",
   "metadata": {},
   "outputs": [],
   "source": [
    "cr_df=final_df.case_record_type.unique().to_frame().rename(columns={'case_record_type':'ID'})\n",
    "cr_edges_df=final_df[['ID','case_record_type']]"
   ]
  },
  {
   "cell_type": "code",
   "execution_count": 16,
   "id": "ba855e0a-2f10-48b4-be80-66305847dc66",
   "metadata": {},
   "outputs": [
    {
     "data": {
      "text/html": [
       "<div>\n",
       "<style scoped>\n",
       "    .dataframe tbody tr th:only-of-type {\n",
       "        vertical-align: middle;\n",
       "    }\n",
       "\n",
       "    .dataframe tbody tr th {\n",
       "        vertical-align: top;\n",
       "    }\n",
       "\n",
       "    .dataframe thead th {\n",
       "        text-align: right;\n",
       "    }\n",
       "</style>\n",
       "<table border=\"1\" class=\"dataframe\">\n",
       "  <thead>\n",
       "    <tr style=\"text-align: right;\">\n",
       "      <th></th>\n",
       "      <th>ID</th>\n",
       "    </tr>\n",
       "  </thead>\n",
       "  <tbody>\n",
       "    <tr>\n",
       "      <th>0</th>\n",
       "      <td>Feedback</td>\n",
       "    </tr>\n",
       "  </tbody>\n",
       "</table>\n",
       "</div>"
      ],
      "text/plain": [
       "         ID\n",
       "0  Feedback"
      ]
     },
     "execution_count": 16,
     "metadata": {},
     "output_type": "execute_result"
    }
   ],
   "source": [
    "cr_df.head()"
   ]
  },
  {
   "cell_type": "code",
   "execution_count": 17,
   "id": "2b1371e8-6b5b-4817-9a0e-228134759dba",
   "metadata": {},
   "outputs": [
    {
     "data": {
      "text/html": [
       "<div>\n",
       "<style scoped>\n",
       "    .dataframe tbody tr th:only-of-type {\n",
       "        vertical-align: middle;\n",
       "    }\n",
       "\n",
       "    .dataframe tbody tr th {\n",
       "        vertical-align: top;\n",
       "    }\n",
       "\n",
       "    .dataframe thead th {\n",
       "        text-align: right;\n",
       "    }\n",
       "</style>\n",
       "<table border=\"1\" class=\"dataframe\">\n",
       "  <thead>\n",
       "    <tr style=\"text-align: right;\">\n",
       "      <th></th>\n",
       "      <th>ID</th>\n",
       "      <th>case_record_type</th>\n",
       "    </tr>\n",
       "  </thead>\n",
       "  <tbody>\n",
       "    <tr>\n",
       "      <th>0</th>\n",
       "      <td>3033230</td>\n",
       "      <td>Feedback</td>\n",
       "    </tr>\n",
       "    <tr>\n",
       "      <th>1</th>\n",
       "      <td>3010035</td>\n",
       "      <td>Feedback</td>\n",
       "    </tr>\n",
       "    <tr>\n",
       "      <th>2</th>\n",
       "      <td>3007067</td>\n",
       "      <td>Feedback</td>\n",
       "    </tr>\n",
       "    <tr>\n",
       "      <th>3</th>\n",
       "      <td>3002588</td>\n",
       "      <td>Feedback</td>\n",
       "    </tr>\n",
       "    <tr>\n",
       "      <th>4</th>\n",
       "      <td>2993549</td>\n",
       "      <td>Feedback</td>\n",
       "    </tr>\n",
       "  </tbody>\n",
       "</table>\n",
       "</div>"
      ],
      "text/plain": [
       "        ID case_record_type\n",
       "0  3033230         Feedback\n",
       "1  3010035         Feedback\n",
       "2  3007067         Feedback\n",
       "3  3002588         Feedback\n",
       "4  2993549         Feedback"
      ]
     },
     "execution_count": 17,
     "metadata": {},
     "output_type": "execute_result"
    }
   ],
   "source": [
    "cr_edges_df.head()"
   ]
  },
  {
   "cell_type": "markdown",
   "id": "582d458a-5ef0-45b1-a473-a25b72c2f30e",
   "metadata": {
    "jp-MarkdownHeadingCollapsed": true,
    "tags": []
   },
   "source": [
    "#### Case Type as an edge \"case_type\""
   ]
  },
  {
   "cell_type": "code",
   "execution_count": 18,
   "id": "df4f0cbb-3b5d-41bf-bba2-810f9165cc01",
   "metadata": {},
   "outputs": [],
   "source": [
    "ct_df=final_df.case_type.unique().to_frame().rename(columns={'case_type':'ID'})\n",
    "ct_edges_df=final_df[['ID','case_type']]"
   ]
  },
  {
   "cell_type": "code",
   "execution_count": 19,
   "id": "9dcbea33-b225-4386-95dc-748cd7636019",
   "metadata": {},
   "outputs": [
    {
     "data": {
      "text/html": [
       "<div>\n",
       "<style scoped>\n",
       "    .dataframe tbody tr th:only-of-type {\n",
       "        vertical-align: middle;\n",
       "    }\n",
       "\n",
       "    .dataframe tbody tr th {\n",
       "        vertical-align: top;\n",
       "    }\n",
       "\n",
       "    .dataframe thead th {\n",
       "        text-align: right;\n",
       "    }\n",
       "</style>\n",
       "<table border=\"1\" class=\"dataframe\">\n",
       "  <thead>\n",
       "    <tr style=\"text-align: right;\">\n",
       "      <th></th>\n",
       "      <th>ID</th>\n",
       "    </tr>\n",
       "  </thead>\n",
       "  <tbody>\n",
       "    <tr>\n",
       "      <th>0</th>\n",
       "      <td>Complaint</td>\n",
       "    </tr>\n",
       "    <tr>\n",
       "      <th>1</th>\n",
       "      <td>Suggestion</td>\n",
       "    </tr>\n",
       "    <tr>\n",
       "      <th>2</th>\n",
       "      <td>Compliment</td>\n",
       "    </tr>\n",
       "  </tbody>\n",
       "</table>\n",
       "</div>"
      ],
      "text/plain": [
       "           ID\n",
       "0   Complaint\n",
       "1  Suggestion\n",
       "2  Compliment"
      ]
     },
     "execution_count": 19,
     "metadata": {},
     "output_type": "execute_result"
    }
   ],
   "source": [
    "ct_df.head()"
   ]
  },
  {
   "cell_type": "code",
   "execution_count": 20,
   "id": "699bd88a-4548-4f1b-9254-7e99e1b8c865",
   "metadata": {},
   "outputs": [
    {
     "data": {
      "text/html": [
       "<div>\n",
       "<style scoped>\n",
       "    .dataframe tbody tr th:only-of-type {\n",
       "        vertical-align: middle;\n",
       "    }\n",
       "\n",
       "    .dataframe tbody tr th {\n",
       "        vertical-align: top;\n",
       "    }\n",
       "\n",
       "    .dataframe thead th {\n",
       "        text-align: right;\n",
       "    }\n",
       "</style>\n",
       "<table border=\"1\" class=\"dataframe\">\n",
       "  <thead>\n",
       "    <tr style=\"text-align: right;\">\n",
       "      <th></th>\n",
       "      <th>ID</th>\n",
       "      <th>case_type</th>\n",
       "    </tr>\n",
       "  </thead>\n",
       "  <tbody>\n",
       "    <tr>\n",
       "      <th>0</th>\n",
       "      <td>3033230</td>\n",
       "      <td>Complaint</td>\n",
       "    </tr>\n",
       "    <tr>\n",
       "      <th>1</th>\n",
       "      <td>3010035</td>\n",
       "      <td>Suggestion</td>\n",
       "    </tr>\n",
       "    <tr>\n",
       "      <th>2</th>\n",
       "      <td>3007067</td>\n",
       "      <td>Complaint</td>\n",
       "    </tr>\n",
       "    <tr>\n",
       "      <th>3</th>\n",
       "      <td>3002588</td>\n",
       "      <td>Complaint</td>\n",
       "    </tr>\n",
       "    <tr>\n",
       "      <th>4</th>\n",
       "      <td>2993549</td>\n",
       "      <td>Suggestion</td>\n",
       "    </tr>\n",
       "  </tbody>\n",
       "</table>\n",
       "</div>"
      ],
      "text/plain": [
       "        ID   case_type\n",
       "0  3033230   Complaint\n",
       "1  3010035  Suggestion\n",
       "2  3007067   Complaint\n",
       "3  3002588   Complaint\n",
       "4  2993549  Suggestion"
      ]
     },
     "execution_count": 20,
     "metadata": {},
     "output_type": "execute_result"
    }
   ],
   "source": [
    "ct_edges_df.head()"
   ]
  },
  {
   "cell_type": "markdown",
   "id": "6406ac28-8ef1-41c4-9ddf-4452dafe5906",
   "metadata": {
    "jp-MarkdownHeadingCollapsed": true,
    "tags": []
   },
   "source": [
    "#### Issue Category as an edge   \"issue_category\""
   ]
  },
  {
   "cell_type": "code",
   "execution_count": 21,
   "id": "cb17c3a9-e596-4441-b4c7-c33748b45be6",
   "metadata": {},
   "outputs": [],
   "source": [
    "it_df=final_df.issue_category.unique().to_frame().rename(columns={'issue_category':'ID'})\n",
    "it_edges_df=final_df[['ID','issue_category']]"
   ]
  },
  {
   "cell_type": "code",
   "execution_count": 22,
   "id": "faa3a225-7dad-4de1-9302-6cddf1a0f447",
   "metadata": {},
   "outputs": [
    {
     "data": {
      "text/html": [
       "<div>\n",
       "<style scoped>\n",
       "    .dataframe tbody tr th:only-of-type {\n",
       "        vertical-align: middle;\n",
       "    }\n",
       "\n",
       "    .dataframe tbody tr th {\n",
       "        vertical-align: top;\n",
       "    }\n",
       "\n",
       "    .dataframe thead th {\n",
       "        text-align: right;\n",
       "    }\n",
       "</style>\n",
       "<table border=\"1\" class=\"dataframe\">\n",
       "  <thead>\n",
       "    <tr style=\"text-align: right;\">\n",
       "      <th></th>\n",
       "      <th>ID</th>\n",
       "    </tr>\n",
       "  </thead>\n",
       "  <tbody>\n",
       "    <tr>\n",
       "      <th>0</th>\n",
       "      <td>Buggy</td>\n",
       "    </tr>\n",
       "    <tr>\n",
       "      <th>1</th>\n",
       "      <td>Changi Airfreight Centre &amp; Cargo</td>\n",
       "    </tr>\n",
       "    <tr>\n",
       "      <th>2</th>\n",
       "      <td>Late Baggage Presentation</td>\n",
       "    </tr>\n",
       "    <tr>\n",
       "      <th>3</th>\n",
       "      <td>Check-in/ECI</td>\n",
       "    </tr>\n",
       "    <tr>\n",
       "      <th>4</th>\n",
       "      <td>Check-in/ ECI</td>\n",
       "    </tr>\n",
       "  </tbody>\n",
       "</table>\n",
       "</div>"
      ],
      "text/plain": [
       "                                 ID\n",
       "0                             Buggy\n",
       "1  Changi Airfreight Centre & Cargo\n",
       "2         Late Baggage Presentation\n",
       "3                      Check-in/ECI\n",
       "4                     Check-in/ ECI"
      ]
     },
     "execution_count": 22,
     "metadata": {},
     "output_type": "execute_result"
    }
   ],
   "source": [
    "it_df.head()"
   ]
  },
  {
   "cell_type": "code",
   "execution_count": 23,
   "id": "218e35c5-40a1-4ce0-8ced-110e38e6ac08",
   "metadata": {},
   "outputs": [
    {
     "data": {
      "text/html": [
       "<div>\n",
       "<style scoped>\n",
       "    .dataframe tbody tr th:only-of-type {\n",
       "        vertical-align: middle;\n",
       "    }\n",
       "\n",
       "    .dataframe tbody tr th {\n",
       "        vertical-align: top;\n",
       "    }\n",
       "\n",
       "    .dataframe thead th {\n",
       "        text-align: right;\n",
       "    }\n",
       "</style>\n",
       "<table border=\"1\" class=\"dataframe\">\n",
       "  <thead>\n",
       "    <tr style=\"text-align: right;\">\n",
       "      <th></th>\n",
       "      <th>ID</th>\n",
       "      <th>issue_category</th>\n",
       "    </tr>\n",
       "  </thead>\n",
       "  <tbody>\n",
       "    <tr>\n",
       "      <th>0</th>\n",
       "      <td>3033230</td>\n",
       "      <td>Buggy</td>\n",
       "    </tr>\n",
       "    <tr>\n",
       "      <th>1</th>\n",
       "      <td>3010035</td>\n",
       "      <td>Buggy</td>\n",
       "    </tr>\n",
       "    <tr>\n",
       "      <th>2</th>\n",
       "      <td>3007067</td>\n",
       "      <td>Buggy</td>\n",
       "    </tr>\n",
       "    <tr>\n",
       "      <th>3</th>\n",
       "      <td>3002588</td>\n",
       "      <td>Buggy</td>\n",
       "    </tr>\n",
       "    <tr>\n",
       "      <th>4</th>\n",
       "      <td>2993549</td>\n",
       "      <td>Buggy</td>\n",
       "    </tr>\n",
       "  </tbody>\n",
       "</table>\n",
       "</div>"
      ],
      "text/plain": [
       "        ID issue_category\n",
       "0  3033230          Buggy\n",
       "1  3010035          Buggy\n",
       "2  3007067          Buggy\n",
       "3  3002588          Buggy\n",
       "4  2993549          Buggy"
      ]
     },
     "execution_count": 23,
     "metadata": {},
     "output_type": "execute_result"
    }
   ],
   "source": [
    "it_edges_df.head()"
   ]
  },
  {
   "cell_type": "markdown",
   "id": "7d3ba880-0158-41f1-84d1-dd477f112230",
   "metadata": {
    "jp-MarkdownHeadingCollapsed": true,
    "tags": []
   },
   "source": [
    "#### Case Owner as an edge \"case_owner\""
   ]
  },
  {
   "cell_type": "code",
   "execution_count": 24,
   "id": "ac0efb7b-5ee5-4109-9c5d-f050105bbc8c",
   "metadata": {},
   "outputs": [],
   "source": [
    "cown_df=final_df.case_owner.unique().to_frame().rename(columns={'case_owner':'ID'})\n",
    "cown_edges_df=final_df[['ID','case_owner']]"
   ]
  },
  {
   "cell_type": "code",
   "execution_count": 25,
   "id": "4672b940-29ae-4df8-acb0-7559ec27e6dc",
   "metadata": {},
   "outputs": [
    {
     "data": {
      "text/html": [
       "<div>\n",
       "<style scoped>\n",
       "    .dataframe tbody tr th:only-of-type {\n",
       "        vertical-align: middle;\n",
       "    }\n",
       "\n",
       "    .dataframe tbody tr th {\n",
       "        vertical-align: top;\n",
       "    }\n",
       "\n",
       "    .dataframe thead th {\n",
       "        text-align: right;\n",
       "    }\n",
       "</style>\n",
       "<table border=\"1\" class=\"dataframe\">\n",
       "  <thead>\n",
       "    <tr style=\"text-align: right;\">\n",
       "      <th></th>\n",
       "      <th>ID</th>\n",
       "    </tr>\n",
       "  </thead>\n",
       "  <tbody>\n",
       "    <tr>\n",
       "      <th>0</th>\n",
       "      <td>Buggy Portfolio</td>\n",
       "    </tr>\n",
       "    <tr>\n",
       "      <th>1</th>\n",
       "      <td>[Inactive]Air Cargo Portfolio</td>\n",
       "    </tr>\n",
       "    <tr>\n",
       "      <th>2</th>\n",
       "      <td>[Inactive]T1 Airline&amp; Check-in Portfolio</td>\n",
       "    </tr>\n",
       "    <tr>\n",
       "      <th>3</th>\n",
       "      <td>[Inactive]P2P Transport Ops Portfolio</td>\n",
       "    </tr>\n",
       "    <tr>\n",
       "      <th>4</th>\n",
       "      <td>[Inactive]Ground Tpt(Coach &amp; Shuttle) Pf</td>\n",
       "    </tr>\n",
       "  </tbody>\n",
       "</table>\n",
       "</div>"
      ],
      "text/plain": [
       "                                         ID\n",
       "0                           Buggy Portfolio\n",
       "1             [Inactive]Air Cargo Portfolio\n",
       "2  [Inactive]T1 Airline& Check-in Portfolio\n",
       "3     [Inactive]P2P Transport Ops Portfolio\n",
       "4  [Inactive]Ground Tpt(Coach & Shuttle) Pf"
      ]
     },
     "execution_count": 25,
     "metadata": {},
     "output_type": "execute_result"
    }
   ],
   "source": [
    "cown_df.head()"
   ]
  },
  {
   "cell_type": "code",
   "execution_count": 26,
   "id": "2ef6ca37-6190-4846-9ef9-9d3f677a6a74",
   "metadata": {},
   "outputs": [
    {
     "data": {
      "text/html": [
       "<div>\n",
       "<style scoped>\n",
       "    .dataframe tbody tr th:only-of-type {\n",
       "        vertical-align: middle;\n",
       "    }\n",
       "\n",
       "    .dataframe tbody tr th {\n",
       "        vertical-align: top;\n",
       "    }\n",
       "\n",
       "    .dataframe thead th {\n",
       "        text-align: right;\n",
       "    }\n",
       "</style>\n",
       "<table border=\"1\" class=\"dataframe\">\n",
       "  <thead>\n",
       "    <tr style=\"text-align: right;\">\n",
       "      <th></th>\n",
       "      <th>ID</th>\n",
       "      <th>case_owner</th>\n",
       "    </tr>\n",
       "  </thead>\n",
       "  <tbody>\n",
       "    <tr>\n",
       "      <th>0</th>\n",
       "      <td>3033230</td>\n",
       "      <td>Buggy Portfolio</td>\n",
       "    </tr>\n",
       "    <tr>\n",
       "      <th>1</th>\n",
       "      <td>3010035</td>\n",
       "      <td>Buggy Portfolio</td>\n",
       "    </tr>\n",
       "    <tr>\n",
       "      <th>2</th>\n",
       "      <td>3007067</td>\n",
       "      <td>Buggy Portfolio</td>\n",
       "    </tr>\n",
       "    <tr>\n",
       "      <th>3</th>\n",
       "      <td>3002588</td>\n",
       "      <td>Buggy Portfolio</td>\n",
       "    </tr>\n",
       "    <tr>\n",
       "      <th>4</th>\n",
       "      <td>2993549</td>\n",
       "      <td>Buggy Portfolio</td>\n",
       "    </tr>\n",
       "  </tbody>\n",
       "</table>\n",
       "</div>"
      ],
      "text/plain": [
       "        ID       case_owner\n",
       "0  3033230  Buggy Portfolio\n",
       "1  3010035  Buggy Portfolio\n",
       "2  3007067  Buggy Portfolio\n",
       "3  3002588  Buggy Portfolio\n",
       "4  2993549  Buggy Portfolio"
      ]
     },
     "execution_count": 26,
     "metadata": {},
     "output_type": "execute_result"
    }
   ],
   "source": [
    "cown_edges_df.head()"
   ]
  },
  {
   "cell_type": "markdown",
   "id": "27791eca-a9e9-40d2-b911-c843b51a6769",
   "metadata": {
    "tags": []
   },
   "source": [
    "#### Category and sub category \"category\" and \"sub_category\""
   ]
  },
  {
   "cell_type": "code",
   "execution_count": 27,
   "id": "a99117ba-7579-4554-bf95-df64831981d7",
   "metadata": {},
   "outputs": [],
   "source": [
    "cat_df=final_df.category.unique().to_frame().rename(columns={'category':'ID'})\n",
    "subcat_df=final_df.sub_category.unique().to_frame().rename(columns={'sub_category':'ID'})\n",
    "subcat_edges_df=final_df[['ID','sub_category']]"
   ]
  },
  {
   "cell_type": "code",
   "execution_count": 28,
   "id": "e8769ade-fbff-4b1b-be4a-c5a8aeb85bd0",
   "metadata": {},
   "outputs": [],
   "source": [
    "cat_subcat_edges_df=final_df[['category','sub_category']].drop_duplicates(subset=['category','sub_category'])"
   ]
  },
  {
   "cell_type": "code",
   "execution_count": 29,
   "id": "421cc417-0f56-4d4b-9efd-d19eda26dbcf",
   "metadata": {},
   "outputs": [
    {
     "data": {
      "text/html": [
       "<div>\n",
       "<style scoped>\n",
       "    .dataframe tbody tr th:only-of-type {\n",
       "        vertical-align: middle;\n",
       "    }\n",
       "\n",
       "    .dataframe tbody tr th {\n",
       "        vertical-align: top;\n",
       "    }\n",
       "\n",
       "    .dataframe thead th {\n",
       "        text-align: right;\n",
       "    }\n",
       "</style>\n",
       "<table border=\"1\" class=\"dataframe\">\n",
       "  <thead>\n",
       "    <tr style=\"text-align: right;\">\n",
       "      <th></th>\n",
       "      <th>category</th>\n",
       "      <th>sub_category</th>\n",
       "    </tr>\n",
       "  </thead>\n",
       "  <tbody>\n",
       "    <tr>\n",
       "      <th>0</th>\n",
       "      <td>Ground Transport &amp; Roadway</td>\n",
       "      <td>Transport, Trolley, Carpark</td>\n",
       "    </tr>\n",
       "    <tr>\n",
       "      <th>6</th>\n",
       "      <td>Airside, Baggage, Cargo Complex</td>\n",
       "      <td>Changi Airfreight Centre &amp; Cargo</td>\n",
       "    </tr>\n",
       "    <tr>\n",
       "      <th>15</th>\n",
       "      <td>Airside, Baggage, Cargo Complex</td>\n",
       "      <td>Baggage</td>\n",
       "    </tr>\n",
       "    <tr>\n",
       "      <th>16</th>\n",
       "      <td>Check-in &amp; Airline, Immigration &amp; Transfer</td>\n",
       "      <td>Check-in, Boarding &amp; Airline</td>\n",
       "    </tr>\n",
       "    <tr>\n",
       "      <th>19</th>\n",
       "      <td>Commercial Services (CD)</td>\n",
       "      <td>Operations (C)</td>\n",
       "    </tr>\n",
       "  </tbody>\n",
       "</table>\n",
       "</div>"
      ],
      "text/plain": [
       "                                      category  \\\n",
       "0                   Ground Transport & Roadway   \n",
       "6              Airside, Baggage, Cargo Complex   \n",
       "15             Airside, Baggage, Cargo Complex   \n",
       "16  Check-in & Airline, Immigration & Transfer   \n",
       "19                    Commercial Services (CD)   \n",
       "\n",
       "                        sub_category  \n",
       "0        Transport, Trolley, Carpark  \n",
       "6   Changi Airfreight Centre & Cargo  \n",
       "15                           Baggage  \n",
       "16      Check-in, Boarding & Airline  \n",
       "19                    Operations (C)  "
      ]
     },
     "execution_count": 29,
     "metadata": {},
     "output_type": "execute_result"
    }
   ],
   "source": [
    "cat_subcat_edges_df.head()"
   ]
  },
  {
   "cell_type": "code",
   "execution_count": 30,
   "id": "11906d6a-52b7-4fc6-94b1-7b4c7c236b7e",
   "metadata": {},
   "outputs": [
    {
     "data": {
      "text/html": [
       "<div>\n",
       "<style scoped>\n",
       "    .dataframe tbody tr th:only-of-type {\n",
       "        vertical-align: middle;\n",
       "    }\n",
       "\n",
       "    .dataframe tbody tr th {\n",
       "        vertical-align: top;\n",
       "    }\n",
       "\n",
       "    .dataframe thead th {\n",
       "        text-align: right;\n",
       "    }\n",
       "</style>\n",
       "<table border=\"1\" class=\"dataframe\">\n",
       "  <thead>\n",
       "    <tr style=\"text-align: right;\">\n",
       "      <th></th>\n",
       "      <th>ID</th>\n",
       "      <th>sub_category</th>\n",
       "    </tr>\n",
       "  </thead>\n",
       "  <tbody>\n",
       "    <tr>\n",
       "      <th>0</th>\n",
       "      <td>3033230</td>\n",
       "      <td>Transport, Trolley, Carpark</td>\n",
       "    </tr>\n",
       "    <tr>\n",
       "      <th>1</th>\n",
       "      <td>3010035</td>\n",
       "      <td>Transport, Trolley, Carpark</td>\n",
       "    </tr>\n",
       "    <tr>\n",
       "      <th>2</th>\n",
       "      <td>3007067</td>\n",
       "      <td>Transport, Trolley, Carpark</td>\n",
       "    </tr>\n",
       "    <tr>\n",
       "      <th>3</th>\n",
       "      <td>3002588</td>\n",
       "      <td>Transport, Trolley, Carpark</td>\n",
       "    </tr>\n",
       "    <tr>\n",
       "      <th>4</th>\n",
       "      <td>2993549</td>\n",
       "      <td>Transport, Trolley, Carpark</td>\n",
       "    </tr>\n",
       "  </tbody>\n",
       "</table>\n",
       "</div>"
      ],
      "text/plain": [
       "        ID                 sub_category\n",
       "0  3033230  Transport, Trolley, Carpark\n",
       "1  3010035  Transport, Trolley, Carpark\n",
       "2  3007067  Transport, Trolley, Carpark\n",
       "3  3002588  Transport, Trolley, Carpark\n",
       "4  2993549  Transport, Trolley, Carpark"
      ]
     },
     "execution_count": 30,
     "metadata": {},
     "output_type": "execute_result"
    }
   ],
   "source": [
    "subcat_edges_df.head()"
   ]
  },
  {
   "cell_type": "markdown",
   "id": "e22319e5-498a-4de8-8d49-cdf426a44992",
   "metadata": {},
   "source": [
    "#### Drop columns that are now edges"
   ]
  },
  {
   "cell_type": "code",
   "execution_count": 31,
   "id": "0fb89351-f463-4a4e-852f-fd56cf6d7ef6",
   "metadata": {},
   "outputs": [],
   "source": [
    "final_df=final_df.drop(columns=['case_origin', 'terminal','case_record_type','case_type','issue_category',\n",
    "                                'case_owner','category','sub_category', 'parse_issue'])  "
   ]
  },
  {
   "cell_type": "markdown",
   "id": "1653e7d3-eb75-465b-8710-af21f05dfa20",
   "metadata": {},
   "source": [
    "#### Process words and TF-IDF score"
   ]
  },
  {
   "cell_type": "code",
   "execution_count": 32,
   "id": "c658b95d-f14d-4e7f-892b-4afa4cd63372",
   "metadata": {},
   "outputs": [
    {
     "data": {
      "text/plain": [
       "('buggy,3033230,0.3813825246578165\\n',\n",
       " 'car,3033230,0.2884718494335256\\n',\n",
       " 'currency,3033230,0.3997072609216392\\n')"
      ]
     },
     "execution_count": 32,
     "metadata": {},
     "output_type": "execute_result"
    }
   ],
   "source": [
    "w = db.read_text(base_path+'edges_to_words.csv', blocksize=\"1024MiB\")\n",
    "w.take(3)"
   ]
  },
  {
   "cell_type": "code",
   "execution_count": 34,
   "id": "730a6e8d-5b5f-49f1-aa79-a149d8db850b",
   "metadata": {},
   "outputs": [],
   "source": [
    "def standardize_tf(record):\n",
    "    import csv, sys\n",
    "    from datetime import datetime\n",
    "    csv.field_size_limit(sys.maxsize)\n",
    "    reader = csv.reader([str(record)])\n",
    "    \n",
    "    for parsed_record in reader:\n",
    "        word=parsed_record[0]\n",
    "        case_number=parsed_record[1]\n",
    "        score = 0.0\n",
    "        try:\n",
    "            score   = float(parsed_record[2])\n",
    "            parse_issue = 'Parsed successfully'\n",
    "        except:\n",
    "            parse_issue=f'issue parsing score {parsed_record[2]}'\n",
    "            \n",
    "        return {\n",
    "            'word': word,\n",
    "            'case_number': case_number,\n",
    "            'score': score,\n",
    "            'parse_issue': parse_issue\n",
    "        }\n",
    "    return {}\n",
    "\n",
    "\n",
    "def hasParseError_tf(record):\n",
    "    if  'Parsed successfully' in record['parse_issue']:\n",
    "        return False\n",
    "    return True\n",
    "\n",
    "edges_to_words_df=w.map(standardize_tf).remove(hasParseError_tf)\\\n",
    "            .to_dataframe()\\\n",
    "            .astype({'word':'string','case_number':'string','score':'float','parse_issue':'string'})"
   ]
  },
  {
   "cell_type": "code",
   "execution_count": 35,
   "id": "5999c004-589d-409c-ba28-ca1e9eb01bff",
   "metadata": {},
   "outputs": [
    {
     "data": {
      "text/html": [
       "<div>\n",
       "<style scoped>\n",
       "    .dataframe tbody tr th:only-of-type {\n",
       "        vertical-align: middle;\n",
       "    }\n",
       "\n",
       "    .dataframe tbody tr th {\n",
       "        vertical-align: top;\n",
       "    }\n",
       "\n",
       "    .dataframe thead th {\n",
       "        text-align: right;\n",
       "    }\n",
       "</style>\n",
       "<table border=\"1\" class=\"dataframe\">\n",
       "  <thead>\n",
       "    <tr style=\"text-align: right;\">\n",
       "      <th></th>\n",
       "      <th>word</th>\n",
       "      <th>case_number</th>\n",
       "      <th>score</th>\n",
       "      <th>parse_issue</th>\n",
       "    </tr>\n",
       "  </thead>\n",
       "  <tbody>\n",
       "    <tr>\n",
       "      <th>0</th>\n",
       "      <td>buggy</td>\n",
       "      <td>3033230</td>\n",
       "      <td>0.381383</td>\n",
       "      <td>Parsed successfully</td>\n",
       "    </tr>\n",
       "    <tr>\n",
       "      <th>1</th>\n",
       "      <td>car</td>\n",
       "      <td>3033230</td>\n",
       "      <td>0.288472</td>\n",
       "      <td>Parsed successfully</td>\n",
       "    </tr>\n",
       "    <tr>\n",
       "      <th>2</th>\n",
       "      <td>currency</td>\n",
       "      <td>3033230</td>\n",
       "      <td>0.399707</td>\n",
       "      <td>Parsed successfully</td>\n",
       "    </tr>\n",
       "    <tr>\n",
       "      <th>3</th>\n",
       "      <td>exchange</td>\n",
       "      <td>3033230</td>\n",
       "      <td>0.367169</td>\n",
       "      <td>Parsed successfully</td>\n",
       "    </tr>\n",
       "    <tr>\n",
       "      <th>4</th>\n",
       "      <td>speeding</td>\n",
       "      <td>3033230</td>\n",
       "      <td>0.502225</td>\n",
       "      <td>Parsed successfully</td>\n",
       "    </tr>\n",
       "  </tbody>\n",
       "</table>\n",
       "</div>"
      ],
      "text/plain": [
       "       word case_number     score          parse_issue\n",
       "0     buggy     3033230  0.381383  Parsed successfully\n",
       "1       car     3033230  0.288472  Parsed successfully\n",
       "2  currency     3033230  0.399707  Parsed successfully\n",
       "3  exchange     3033230  0.367169  Parsed successfully\n",
       "4  speeding     3033230  0.502225  Parsed successfully"
      ]
     },
     "execution_count": 35,
     "metadata": {},
     "output_type": "execute_result"
    }
   ],
   "source": [
    "edges_to_words_df.head()"
   ]
  },
  {
   "cell_type": "code",
   "execution_count": 36,
   "id": "92dcf145-a435-4001-8cca-f833cf33aa93",
   "metadata": {},
   "outputs": [
    {
     "data": {
      "text/plain": [
       "107361"
      ]
     },
     "execution_count": 36,
     "metadata": {},
     "output_type": "execute_result"
    }
   ],
   "source": [
    "len(edges_to_words_df)"
   ]
  },
  {
   "cell_type": "code",
   "execution_count": 38,
   "id": "ac694981-c807-40e8-b9fc-99653801e982",
   "metadata": {},
   "outputs": [],
   "source": [
    "words_df=edges_to_words_df.word.unique().to_frame().rename(columns={'word':'ID'})"
   ]
  },
  {
   "cell_type": "code",
   "execution_count": 39,
   "id": "7a66ffeb-bb18-401a-b8ae-eee882a69fa2",
   "metadata": {},
   "outputs": [
    {
     "data": {
      "text/html": [
       "<div>\n",
       "<style scoped>\n",
       "    .dataframe tbody tr th:only-of-type {\n",
       "        vertical-align: middle;\n",
       "    }\n",
       "\n",
       "    .dataframe tbody tr th {\n",
       "        vertical-align: top;\n",
       "    }\n",
       "\n",
       "    .dataframe thead th {\n",
       "        text-align: right;\n",
       "    }\n",
       "</style>\n",
       "<table border=\"1\" class=\"dataframe\">\n",
       "  <thead>\n",
       "    <tr style=\"text-align: right;\">\n",
       "      <th></th>\n",
       "      <th>ID</th>\n",
       "    </tr>\n",
       "  </thead>\n",
       "  <tbody>\n",
       "    <tr>\n",
       "      <th>0</th>\n",
       "      <td>buggy</td>\n",
       "    </tr>\n",
       "    <tr>\n",
       "      <th>1</th>\n",
       "      <td>car</td>\n",
       "    </tr>\n",
       "    <tr>\n",
       "      <th>2</th>\n",
       "      <td>currency</td>\n",
       "    </tr>\n",
       "    <tr>\n",
       "      <th>3</th>\n",
       "      <td>exchange</td>\n",
       "    </tr>\n",
       "    <tr>\n",
       "      <th>4</th>\n",
       "      <td>speeding</td>\n",
       "    </tr>\n",
       "  </tbody>\n",
       "</table>\n",
       "</div>"
      ],
      "text/plain": [
       "         ID\n",
       "0     buggy\n",
       "1       car\n",
       "2  currency\n",
       "3  exchange\n",
       "4  speeding"
      ]
     },
     "execution_count": 39,
     "metadata": {},
     "output_type": "execute_result"
    }
   ],
   "source": [
    "words_df.head()"
   ]
  },
  {
   "cell_type": "code",
   "execution_count": null,
   "id": "93184b6e-4957-45f5-8607-97ab7bdd8986",
   "metadata": {},
   "outputs": [],
   "source": []
  },
  {
   "cell_type": "code",
   "execution_count": null,
   "id": "903ef2e4-f601-4d75-b1b6-d78fc0336cae",
   "metadata": {},
   "outputs": [],
   "source": []
  },
  {
   "cell_type": "code",
   "execution_count": null,
   "id": "d8daace2-2087-43f2-8811-10425752723d",
   "metadata": {},
   "outputs": [],
   "source": []
  },
  {
   "cell_type": "markdown",
   "id": "85cf7527-4139-473c-9a35-17a2062067e5",
   "metadata": {},
   "source": [
    "### Import graph"
   ]
  },
  {
   "cell_type": "code",
   "execution_count": 41,
   "id": "fd99b324-af6e-4b6c-a5d7-a7148f6dd4fc",
   "metadata": {},
   "outputs": [
    {
     "data": {
      "text/plain": [
       "'0.5.0+20221106T212601Z.9c14e060f.dev'"
      ]
     },
     "execution_count": 41,
     "metadata": {},
     "output_type": "execute_result"
    }
   ],
   "source": [
    "rc=remote.Client()\n",
    "rc.server_version"
   ]
  },
  {
   "cell_type": "code",
   "execution_count": 42,
   "id": "be7e1c17-42bc-4082-964e-f87c5ad8180a",
   "metadata": {},
   "outputs": [
    {
     "data": {
      "text/plain": [
       "'G9JaDmZQ1V9Cfn9zDgJ8SWCxQGWCWe9jn5JygvCw2GEK'"
      ]
     },
     "execution_count": 42,
     "metadata": {},
     "output_type": "execute_result"
    }
   ],
   "source": [
    "graph = rc.create_graph(num_partitions=2)\n",
    "graph.graph_id"
   ]
  },
  {
   "cell_type": "code",
   "execution_count": 43,
   "id": "c3718f43-2b06-47d4-956b-996c6ff33d25",
   "metadata": {},
   "outputs": [
    {
     "data": {
      "application/vnd.jupyter.widget-view+json": {
       "model_id": "af189d6d22cb41c69e435566231b7631",
       "version_major": 2,
       "version_minor": 0
      },
      "text/plain": [
       "          0/? [?op/s]"
      ]
     },
     "metadata": {},
     "output_type": "display_data"
    },
    {
     "data": {
      "application/vnd.jupyter.widget-view+json": {
       "model_id": "1c0352d1aae940ecb46ae156e1ef9007",
       "version_major": 2,
       "version_minor": 0
      },
      "text/plain": [
       "          0/? [?op/s]"
      ]
     },
     "metadata": {},
     "output_type": "display_data"
    }
   ],
   "source": [
    "\n",
    "with import_data.DataFrameImporter(graph) as df_importer:\n",
    "    df_importer.nodes_dataframe(final_df, id_column=\"ID\", id_space='CASE', label='CASE')\n",
    "    df_importer.nodes_dataframe(co_df, id_column=\"ID\", id_space='CASE_ORIGIN', label='CASE_ORIGIN')\n",
    "    df_importer.nodes_dataframe(terminal_df, id_column=\"ID\", id_space='TERMINAL', label='TERMINAL')\n",
    "    df_importer.nodes_dataframe(cr_df, id_column=\"ID\", id_space='CASE_RECORD_TYPE', label='CASE_RECORD_TYPE')\n",
    "    df_importer.nodes_dataframe(ct_df, id_column=\"ID\", id_space='CASE_TYPE', label='CASE_TYPE')\n",
    "    df_importer.nodes_dataframe(it_df, id_column=\"ID\", id_space='ISSUE_CATEGORY', label='ISSUE_TYPE')\n",
    "    df_importer.nodes_dataframe(cown_df, id_column=\"ID\", id_space='CASE_OWNER', label='CASE_OWNER')\n",
    "    df_importer.nodes_dataframe(cat_df, id_column=\"ID\", id_space='CATEGORY', label='CATEGORY')\n",
    "    df_importer.nodes_dataframe(subcat_df, id_column=\"ID\", id_space='SUB_CATEGORY', label='SUB_CATEGORY')\n",
    "    df_importer.nodes_dataframe(words_df, id_column=\"ID\", id_space='WORD', label='WORD')\n",
    "#\n",
    "    df_importer.edges_dataframe(co_edges_df, source_column='case_origin', destination_column='ID',\\\n",
    "                                source_id_space='CASE_ORIGIN', destination_id_space='CASE', \\\n",
    "                                type='CASE_ORIGIN_FOR')\n",
    "    df_importer.edges_dataframe(terminal_edges_df, source_column='terminal', destination_column='ID',\\\n",
    "                                source_id_space='TERMINAL', destination_id_space='CASE', \\\n",
    "                                type='TERMINAL_FOR')\n",
    "    df_importer.edges_dataframe(cr_edges_df, source_column='case_record_type', destination_column='ID',\\\n",
    "                                source_id_space='CASE_RECORD_TYPE', destination_id_space='CASE', \\\n",
    "                                type='CASE_RECORD_TYPE_FOR')\n",
    "    df_importer.edges_dataframe(ct_edges_df, source_column='case_type', destination_column='ID',\\\n",
    "                                source_id_space='CASE_TYPE', destination_id_space='CASE', \\\n",
    "                                type='CASE_TYPE_FOR')\n",
    "    df_importer.edges_dataframe(it_edges_df, source_column='issue_category', destination_column='ID',\\\n",
    "                                source_id_space='ISSUE_CATEGORY', destination_id_space='CASE', \\\n",
    "                                type='ISSUE_CATEGORY_FOR')\n",
    "    df_importer.edges_dataframe(cown_edges_df, source_column='case_owner', destination_column='ID',\\\n",
    "                                source_id_space='CASE_OWNER', destination_id_space='CASE', \\\n",
    "                                type='OWNS_CASE')\n",
    "    df_importer.edges_dataframe(cat_subcat_edges_df, source_column='category', destination_column='sub_category',\\\n",
    "                                source_id_space='CATEGORY', destination_id_space='SUB_CATEGORY', \\\n",
    "                                type='BELONGS_TO_SUB_CATEGORY')\n",
    "    df_importer.edges_dataframe(subcat_edges_df, source_column='sub_category', destination_column='ID',\\\n",
    "                                source_id_space='SUB_CATEGORY', destination_id_space='CASE', \\\n",
    "                                type='SUB_CATEGORY_FOR')\n",
    "    df_importer.edges_dataframe(edges_to_words_df, source_column='word', destination_column='case_number',\\\n",
    "                                source_id_space='WORD', destination_id_space='CASE', \\\n",
    "                                type='SAID_IN_CASE')\n",
    "    df_importer.insert()"
   ]
  },
  {
   "cell_type": "code",
   "execution_count": 44,
   "id": "242a4ebd-48c5-4de5-8daa-a066281d3183",
   "metadata": {},
   "outputs": [
    {
     "data": {
      "application/vnd.jupyter.widget-view+json": {
       "model_id": "9edcf5b092454d669a42a98c0ef4eb09",
       "version_major": 2,
       "version_minor": 0
      },
      "text/plain": [
       "          0/? [?op/s]"
      ]
     },
     "metadata": {},
     "output_type": "display_data"
    },
    {
     "data": {
      "application/vnd.jupyter.widget-view+json": {
       "model_id": "dcfc337cbc3e45f494fc7e0105a51065",
       "version_major": 2,
       "version_minor": 0
      },
      "text/plain": [
       "          0/? [?op/s]"
      ]
     },
     "metadata": {},
     "output_type": "display_data"
    },
    {
     "data": {
      "application/vnd.jupyter.widget-view+json": {
       "model_id": "22d9c32f0d954ac3b854037cf6cb0934",
       "version_major": 2,
       "version_minor": 0
      },
      "text/plain": [
       "VBox(children=(HTML(value='\\n                <style>\\n                #jp-main-content-panel .widget-container…"
      ]
     },
     "metadata": {},
     "output_type": "display_data"
    }
   ],
   "source": [
    "query=\"\"\"\n",
    "MATCH  (c:CASE)<-[s:SAID_IN_CASE]-(w:WORD)-[:SAID_IN_CASE]->(c1:CASE)\n",
    "where s.score > 0.5\n",
    "  and c.ID <> c1.ID\n",
    "return c,w,c1 limit 100\n",
    "\"\"\"\n",
    "graph.query(query, contextualize=True).view()"
   ]
  },
  {
   "cell_type": "code",
   "execution_count": 46,
   "id": "e3171da4-cda1-4cea-8836-e3df8068265a",
   "metadata": {},
   "outputs": [
    {
     "data": {
      "application/vnd.jupyter.widget-view+json": {
       "model_id": "881b9bd026bd45e7b09e29ccda230f70",
       "version_major": 2,
       "version_minor": 0
      },
      "text/plain": [
       "          0/? [?op/s]"
      ]
     },
     "metadata": {},
     "output_type": "display_data"
    },
    {
     "data": {
      "application/vnd.jupyter.widget-view+json": {
       "model_id": "88215d729dea47a7936f8976549cbc35",
       "version_major": 2,
       "version_minor": 0
      },
      "text/plain": [
       "          0/? [?op/s]"
      ]
     },
     "metadata": {},
     "output_type": "display_data"
    },
    {
     "data": {
      "application/vnd.jupyter.widget-view+json": {
       "model_id": "b7f9e97027984edfa511184f5badc7e4",
       "version_major": 2,
       "version_minor": 0
      },
      "text/plain": [
       "VBox(children=(HTML(value='\\n                <style>\\n                #jp-main-content-panel .widget-container…"
      ]
     },
     "metadata": {},
     "output_type": "display_data"
    }
   ],
   "source": [
    "query=\"\"\"\n",
    "MATCH  (c:CASE)<-[s:SAID_IN_CASE]-(w:WORD)-[:SAID_IN_CASE]->(c1:CASE)\n",
    "where s.score > 0.5\n",
    "  and w.ID = 'recording'\n",
    "return c,w,c1\n",
    "\"\"\"\n",
    "graph.query(query, contextualize=True).view()"
   ]
  },
  {
   "cell_type": "code",
   "execution_count": 53,
   "id": "7129b5da-d694-4ac2-a791-f607e7fa2b8d",
   "metadata": {},
   "outputs": [
    {
     "data": {
      "application/vnd.jupyter.widget-view+json": {
       "model_id": "0165ec4abed04c46b4cd12415bf2cc55",
       "version_major": 2,
       "version_minor": 0
      },
      "text/plain": [
       "          0/? [?op/s]"
      ]
     },
     "metadata": {},
     "output_type": "display_data"
    },
    {
     "data": {
      "application/vnd.jupyter.widget-view+json": {
       "model_id": "f792f5694f6a4493a8bbe39dc78e932e",
       "version_major": 2,
       "version_minor": 0
      },
      "text/plain": [
       "          0/? [?op/s]"
      ]
     },
     "metadata": {},
     "output_type": "display_data"
    },
    {
     "data": {
      "application/vnd.jupyter.widget-view+json": {
       "model_id": "8b99ad4b89e645abaeaee82ccd64eafb",
       "version_major": 2,
       "version_minor": 0
      },
      "text/plain": [
       "VBox(children=(HTML(value='\\n                <style>\\n                #jp-main-content-panel .widget-container…"
      ]
     },
     "metadata": {},
     "output_type": "display_data"
    }
   ],
   "source": [
    "query=\"\"\"\n",
    "match(y:CASE_TYPE)\n",
    "where y.ID = 'Complaint'\n",
    "MATCH(x)-[]-(y)\n",
    "return x,y limit 100\n",
    "\"\"\"\n",
    "graph.query(query, contextualize=True).view()"
   ]
  },
  {
   "cell_type": "code",
   "execution_count": 125,
   "id": "176553d1-2177-49fd-98b0-ccb576d69242",
   "metadata": {},
   "outputs": [
    {
     "data": {
      "application/vnd.jupyter.widget-view+json": {
       "model_id": "ed119c05cbfe4656855bd5abb2b477f7",
       "version_major": 2,
       "version_minor": 0
      },
      "text/plain": [
       "          0/? [?op/s]"
      ]
     },
     "metadata": {},
     "output_type": "display_data"
    },
    {
     "data": {
      "application/vnd.jupyter.widget-view+json": {
       "model_id": "85035d0ecf794cac9ce524ca3a30de74",
       "version_major": 2,
       "version_minor": 0
      },
      "text/plain": [
       "          0/? [?op/s]"
      ]
     },
     "metadata": {},
     "output_type": "display_data"
    },
    {
     "data": {
      "application/vnd.jupyter.widget-view+json": {
       "model_id": "084e69354d174a0d912e7e487a02eeb7",
       "version_major": 2,
       "version_minor": 0
      },
      "text/plain": [
       "VBox(children=(HTML(value='\\n                <style>\\n                #jp-main-content-panel .widget-container…"
      ]
     },
     "metadata": {},
     "output_type": "display_data"
    }
   ],
   "source": [
    "query=\"\"\"\n",
    "MATCH(x)<-[]-(y:SUB_CATEGORY)<-[]-(z:CATEGORY)\n",
    "return x,y,z limit 100\n",
    "\"\"\"\n",
    "graph.query(query, contextualize=True).view()"
   ]
  },
  {
   "cell_type": "markdown",
   "id": "843de082-b6eb-4805-b711-17b4bce06d15",
   "metadata": {},
   "source": [
    "### Promote Category to a Node"
   ]
  },
  {
   "cell_type": "code",
   "execution_count": 13,
   "id": "a7d7077d-64ba-4db0-b47f-1f8ed244c68b",
   "metadata": {},
   "outputs": [
    {
     "data": {
      "application/vnd.jupyter.widget-view+json": {
       "model_id": "acda1e43da8743f9a4b04e054363cb9d",
       "version_major": 2,
       "version_minor": 0
      },
      "text/plain": [
       "          0/? [?op/s]"
      ]
     },
     "metadata": {},
     "output_type": "display_data"
    },
    {
     "data": {
      "application/vnd.jupyter.widget-view+json": {
       "model_id": "25d8de22378840699ba2cd109b32a043",
       "version_major": 2,
       "version_minor": 0
      },
      "text/plain": [
       "VBox(children=(HTML(value='\\n                <style>\\n                #jp-main-content-panel .widget-container…"
      ]
     },
     "metadata": {},
     "output_type": "display_data"
    }
   ],
   "source": [
    "query=\"\"\"\n",
    "MATCH(c:CASE)\n",
    "with distinct c.category as category\n",
    "CREATE(cat:CATEGORY)\n",
    "set cat.category=category\n",
    "\"\"\"\n",
    "graph.query(query).view()"
   ]
  },
  {
   "cell_type": "code",
   "execution_count": 14,
   "id": "25ea373c-307c-426e-bfbc-f5dc2a02cb22",
   "metadata": {},
   "outputs": [
    {
     "data": {
      "application/vnd.jupyter.widget-view+json": {
       "model_id": "1e98ded96080474e9df3e777b31b484f",
       "version_major": 2,
       "version_minor": 0
      },
      "text/plain": [
       "          0/? [?op/s]"
      ]
     },
     "metadata": {},
     "output_type": "display_data"
    },
    {
     "data": {
      "application/vnd.jupyter.widget-view+json": {
       "model_id": "12b32f734d2e438aae06f2db28dbc2e6",
       "version_major": 2,
       "version_minor": 0
      },
      "text/plain": [
       "VBox(children=(HTML(value='\\n                <style>\\n                #jp-main-content-panel .widget-container…"
      ]
     },
     "metadata": {},
     "output_type": "display_data"
    }
   ],
   "source": [
    "# link categories : check\n",
    "query=\"\"\"\n",
    "MATCH (cas:CASE),(cat:CATEGORY)\n",
    "WHERE EXISTS(cas.category)\n",
    "  and cas.category = cat.category\n",
    "return cas.ID, cas.category,id(cat), cat.category order by cas.ID limit 10\n",
    "\"\"\"\n",
    "graph.query(query).view()\n"
   ]
  },
  {
   "cell_type": "code",
   "execution_count": 15,
   "id": "47c02f7a-dfaa-4f1d-8451-27fff71545a4",
   "metadata": {},
   "outputs": [
    {
     "data": {
      "application/vnd.jupyter.widget-view+json": {
       "model_id": "52910ae08b0747aaa20cec32219ef86a",
       "version_major": 2,
       "version_minor": 0
      },
      "text/plain": [
       "          0/? [?op/s]"
      ]
     },
     "metadata": {},
     "output_type": "display_data"
    },
    {
     "data": {
      "application/vnd.jupyter.widget-view+json": {
       "model_id": "5a08af9f36724226b8662461a06c8898",
       "version_major": 2,
       "version_minor": 0
      },
      "text/plain": [
       "VBox(children=(HTML(value='\\n                <style>\\n                #jp-main-content-panel .widget-container…"
      ]
     },
     "metadata": {},
     "output_type": "display_data"
    }
   ],
   "source": [
    "# link categories: establish\n",
    "query=\"\"\"\n",
    "MATCH (cas:CASE),(cat:CATEGORY)\n",
    "WHERE EXISTS(cas.category)\n",
    "  and cas.category = cat.category\n",
    "CREATE (cas)-[:HAS_CATEGORY]->(cat)\n",
    "\"\"\"\n",
    "graph.query(query).view()\n"
   ]
  },
  {
   "cell_type": "code",
   "execution_count": 13,
   "id": "04652db6-a46c-465c-b5d0-0e7d8eee8026",
   "metadata": {},
   "outputs": [
    {
     "data": {
      "application/vnd.jupyter.widget-view+json": {
       "model_id": "5716dd316edc4257ad80de760433c21f",
       "version_major": 2,
       "version_minor": 0
      },
      "text/plain": [
       "          0/? [?op/s]"
      ]
     },
     "metadata": {},
     "output_type": "display_data"
    },
    {
     "data": {
      "application/vnd.jupyter.widget-view+json": {
       "model_id": "2d79ae540c8c4036aaa50cd18234c81a",
       "version_major": 2,
       "version_minor": 0
      },
      "text/plain": [
       "VBox(children=(HTML(value='\\n                <style>\\n                #jp-main-content-panel .widget-container…"
      ]
     },
     "metadata": {},
     "output_type": "display_data"
    }
   ],
   "source": [
    "# link categories : check\n",
    "query=\"\"\"\n",
    "MATCH (cas:CASE)-[:HAS_CATEGORY]->(cat:CATEGORY)\n",
    "return cas, cat limit 10\"\"\"\n",
    "graph.query(query, contextualize=True).view()\n"
   ]
  },
  {
   "cell_type": "code",
   "execution_count": 47,
   "id": "d3fcf2ad-e44e-44ac-88c6-a7f7b4c64e6a",
   "metadata": {},
   "outputs": [
    {
     "data": {
      "application/vnd.jupyter.widget-view+json": {
       "model_id": "88a47011bea242668a522780303eb0e1",
       "version_major": 2,
       "version_minor": 0
      },
      "text/plain": [
       "          0/? [?op/s]"
      ]
     },
     "metadata": {},
     "output_type": "display_data"
    },
    {
     "data": {
      "application/vnd.jupyter.widget-view+json": {
       "model_id": "78406507984146cabe1af4206b6bc8be",
       "version_major": 2,
       "version_minor": 0
      },
      "text/plain": [
       "VBox(children=(HTML(value='\\n                <style>\\n                #jp-main-content-panel .widget-container…"
      ]
     },
     "metadata": {},
     "output_type": "display_data"
    }
   ],
   "source": [
    "graph.schema().view()"
   ]
  },
  {
   "cell_type": "code",
   "execution_count": 28,
   "id": "38ace07f-da14-4854-983f-6ca6619120ae",
   "metadata": {},
   "outputs": [
    {
     "data": {
      "application/vnd.jupyter.widget-view+json": {
       "model_id": "2c4a2f1fdc814a09b2f72a2213766239",
       "version_major": 2,
       "version_minor": 0
      },
      "text/plain": [
       "          0/? [?op/s]"
      ]
     },
     "metadata": {},
     "output_type": "display_data"
    },
    {
     "name": "stdout",
     "output_type": "stream",
     "text": [
      "\n",
      "Host 0 output:\n",
      "<torch_geometric.loader.dataloader.DataLoader object at 0x7faccea139a0>\n",
      "\n",
      "Host 1 output:\n",
      "<torch_geometric.loader.dataloader.DataLoader object at 0x7f886df6a580>\n"
     ]
    }
   ],
   "source": [
    "def udf_pre_processing(g):\n",
    "    from katana_enterprise.ai.preprocessing.feature_generator import BagOfWords\n",
    "    from katana_enterprise.distributed import single_host\n",
    "    from mpi4py import MPI\n",
    "    import numpy\n",
    "    import torch\n",
    "    from torch_geometric.data import Data\n",
    "    from torch_geometric.loader import DataLoader\n",
    "\n",
    "    comm = MPI.COMM_WORLD\n",
    "    corpus=[]\n",
    "    data=None\n",
    "\n",
    "\n",
    "\n",
    "    edge_index = torch.tensor([[0, 1],\n",
    "                           [1, 0],\n",
    "                           [1, 2],\n",
    "                           [2, 1]], dtype=torch.long)\n",
    "    x = torch.tensor([[-1], [0], [1]], dtype=torch.float)\n",
    "\n",
    "    g_data = Data(x=x, edge_index=edge_index.t().contiguous())\n",
    "    # print(g_data)\n",
    "    data_list = [g_data, g_data, g_data]\n",
    "    loader = DataLoader(data_list, batch_size=32)\n",
    "    print(loader)\n",
    "    corpus = numpy.array(\n",
    "            [\n",
    "                \"This is a good document\",\n",
    "                \"Paper relates to something in Computer Science\",\n",
    "                \"Nothing is true\",\n",
    "                \"Everything is permitted\",\n",
    "                \"   \",\n",
    "            ]\n",
    "        )\n",
    "    test_corpus = numpy.array([\"All is well\", \"Nothing is true\", \"\",])\n",
    "\n",
    "    encoder = BagOfWords()\n",
    "    encoder.fit(corpus)\n",
    "    data = encoder.transform(test_corpus)\n",
    "    # print(data)\n",
    "\n",
    "    return single_host(data)\n",
    "\n",
    "result = graph.run(udf_pre_processing)"
   ]
  },
  {
   "cell_type": "code",
   "execution_count": 22,
   "id": "8921404d",
   "metadata": {
    "collapsed": false,
    "jupyter": {
     "outputs_hidden": false
    },
    "pycharm": {
     "name": "#%%\n"
    }
   },
   "outputs": [
    {
     "data": {
      "text/plain": [
       "array([[0., 6., 0., 0., 0., 0., 0., 0., 0., 0., 0., 0., 0., 0., 0., 0.,\n",
       "        2.],\n",
       "       [0., 6., 0., 0., 0., 0., 0., 0., 0., 0., 0., 0., 2., 2., 0., 0.,\n",
       "        0.],\n",
       "       [0., 0., 0., 0., 0., 0., 0., 0., 0., 0., 0., 0., 0., 0., 0., 0.,\n",
       "        0.]])"
      ]
     },
     "execution_count": 22,
     "metadata": {},
     "output_type": "execute_result"
    }
   ],
   "source": [
    "result"
   ]
  },
  {
   "cell_type": "code",
   "execution_count": 25,
   "id": "64073e2a",
   "metadata": {
    "collapsed": false,
    "jupyter": {
     "outputs_hidden": false
    },
    "pycharm": {
     "name": "#%%\n"
    }
   },
   "outputs": [
    {
     "data": {
      "text/plain": [
       "numpy.float64"
      ]
     },
     "execution_count": 25,
     "metadata": {},
     "output_type": "execute_result"
    }
   ],
   "source": [
    "type(result[0][0])"
   ]
  },
  {
   "cell_type": "code",
   "execution_count": null,
   "id": "ba813cc8",
   "metadata": {
    "collapsed": false,
    "jupyter": {
     "outputs_hidden": false
    },
    "pycharm": {
     "name": "#%%\n"
    }
   },
   "outputs": [],
   "source": []
  }
 ],
 "metadata": {
  "kernelspec": {
   "display_name": "Python 3 (ipykernel)",
   "language": "python",
   "name": "python3"
  },
  "language_info": {
   "codemirror_mode": {
    "name": "ipython",
    "version": 3
   },
   "file_extension": ".py",
   "mimetype": "text/x-python",
   "name": "python",
   "nbconvert_exporter": "python",
   "pygments_lexer": "ipython3",
   "version": "3.8.13"
  }
 },
 "nbformat": 4,
 "nbformat_minor": 5
}
