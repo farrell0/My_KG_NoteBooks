{
 "cells": [
  {
   "cell_type": "code",
   "execution_count": null,
   "id": "51725e88-81e4-4861-ad74-a6effee273d0",
   "metadata": {},
   "outputs": [],
   "source": [
    "\n",
    "\n",
    "   Analytics are headed here in the documentation,\n",
    "      https://docs.k9h.dev/latest/docs/analytics/index.html#\n",
    " \n",
    "\n",
    "      Path Algorithms\n",
    "         Single-Source Shortest Paths (SSSP)            - \n",
    "         Breadth-First Search (BFS)                     -\n",
    "         K-shortest paths                               -                           \n",
    "         Random Walk                                    - \n",
    " \n",
    "         Additional Amy\n",
    "            #\n",
    "         Depth-First Search                             -\n",
    "         All Pairs Shortest Path                        -\n",
    "         Minimum Spanning Tree                          -\n",
    " \n",
    "     \n",
    "      Community Detection Algorithms\n",
    "         Connected Components                           - \n",
    "         Community Detection using Label Propagation    -\n",
    "         Louvain                                        -\n",
    "         Local Clustering Coefficient                   -\n",
    "         Triangle Counting                              -\n",
    "         K-core                                         -\n",
    "         K-truss                                        -\n",
    " \n",
    "         Additional Amy\n",
    "            #\n",
    "         Strongly Connected Components                  -\n",
    " \n",
    " \n",
    "      Centrality Algorithms\n",
    "         PageRank                                       -\n",
    "         Betweenness Centrality                         -\n",
    " \n",
    "         Additional Amy\n",
    "            #\n",
    "         Degree Centrality                              -\n",
    "         Closeness Centrality                           -\n",
    " \n",
    " \n",
    "      Similarity Algorithms\n",
    "         Jaccard Similarity                             -\n",
    "\n"
   ]
  }
 ],
 "metadata": {
  "kernelspec": {
   "display_name": "Python 3 (ipykernel)",
   "language": "python",
   "name": "python3"
  },
  "language_info": {
   "codemirror_mode": {
    "name": "ipython",
    "version": 3
   },
   "file_extension": ".py",
   "mimetype": "text/x-python",
   "name": "python",
   "nbconvert_exporter": "python",
   "pygments_lexer": "ipython3",
   "version": "3.8.13"
  }
 },
 "nbformat": 4,
 "nbformat_minor": 5
}
