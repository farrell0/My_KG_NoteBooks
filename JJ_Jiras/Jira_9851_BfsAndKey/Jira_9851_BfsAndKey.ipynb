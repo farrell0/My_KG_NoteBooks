{
 "cells": [
  {
   "cell_type": "markdown",
   "id": "d3ebe820-bc6d-4948-b668-8b81cd3cbf29",
   "metadata": {
    "tags": []
   },
   "source": [
    "#  Setup stuff: Connectivity"
   ]
  },
  {
   "cell_type": "code",
   "execution_count": null,
   "id": "87e5a845-5cbd-49d8-bf61-4a13cd80a1f5",
   "metadata": {},
   "outputs": [],
   "source": [
    "\n",
    "#  Setting display options\n",
    "\n",
    "from tabulate import tabulate\n",
    "import pandas as pd\n",
    "   #\n",
    "pd.set_option(\"display.width\", 480)\n",
    "\n",
    "print(\"--\")\n"
   ]
  },
  {
   "cell_type": "code",
   "execution_count": null,
   "id": "1ea957d6-30c6-427a-ae4e-15ecfba0c4f9",
   "metadata": {},
   "outputs": [],
   "source": [
    "\n",
    "from katana import remote\n",
    "from katana.remote import import_data\n",
    "\n",
    "\n",
    "my_client = remote.Client()\n",
    "\n",
    "print(my_client)\n"
   ]
  },
  {
   "cell_type": "code",
   "execution_count": null,
   "id": "97571016-7c02-4e90-a75a-136a0dacd35f",
   "metadata": {},
   "outputs": [],
   "source": [
    "\n",
    "NUM_PARTITIONS  = 3\n",
    "   #\n",
    "DB_NAME         = \"my_db\"\n",
    "GRAPH_NAME      = \"my_graph\"\n",
    "\n",
    "print(\"--\")\n"
   ]
  },
  {
   "cell_type": "code",
   "execution_count": null,
   "id": "8ed2d715-aaeb-4381-9216-46fa0dd421b6",
   "metadata": {},
   "outputs": [],
   "source": [
    "#  DELETE ALL GRAPHS\n",
    "\n",
    "for l_database in my_client.databases():\n",
    "   for l_graph in my_client.get_database(name=l_database.name).graphs_in_database():\n",
    "      l_handle=my_client.get_database(name=l_database.name).get_graph_by_id(id=l_graph.graph_id)\n",
    "      l_handle.delete()\n",
    "\n",
    "for l_graph in my_client.graphs():\n",
    "   print(\"GRAPH ID: \", l_graph.graph_id, \"      GRAPH Version: \", l_graph.version)\n",
    "\n",
    "print(\"--\")\n"
   ]
  },
  {
   "cell_type": "code",
   "execution_count": null,
   "id": "cf9c16ec-913f-46a8-bccc-76fc92c54866",
   "metadata": {},
   "outputs": [],
   "source": [
    "#  DELETE ALL DATABASES\n",
    "\n",
    "for l_database in my_client.databases():\n",
    "   if (l_database.name != \"default\"):\n",
    "      my_client.get_database(name=l_database.name).delete_database()\n",
    "      print(\"--\")\n",
    "\n",
    "for l_database in my_client.databases():\n",
    "   print(\"DB ID: \", l_database.database_id, \"     DB Name: \", l_database.name)\n"
   ]
  },
  {
   "cell_type": "code",
   "execution_count": null,
   "id": "6e72729c-265b-40e4-a3ee-674b793bed81",
   "metadata": {},
   "outputs": [],
   "source": [
    "#  CREATE DATABASE\n",
    "\n",
    "my_database = my_client.create_database(name=DB_NAME)\n",
    "\n",
    "print(my_database.database_id)\n"
   ]
  },
  {
   "cell_type": "code",
   "execution_count": null,
   "id": "2fc31da4-44c3-4bd3-b160-b315766dcd88",
   "metadata": {},
   "outputs": [],
   "source": [
    "#  CREATE GRAPH\n",
    "#\n",
    "my_graph = my_client.get_database(name=DB_NAME).create_graph(name=GRAPH_NAME, num_partitions=NUM_PARTITIONS)\n",
    "\n",
    "print(my_graph)\n"
   ]
  },
  {
   "cell_type": "markdown",
   "id": "61556ce5-9044-42bc-bb13-80b6a514ae27",
   "metadata": {
    "tags": []
   },
   "source": [
    "# Create: Vertices/nodes, edges .."
   ]
  },
  {
   "cell_type": "code",
   "execution_count": null,
   "id": "8e7ecf31-d69e-4b5a-8a37-0cfb4c32fd33",
   "metadata": {},
   "outputs": [],
   "source": [
    "\n",
    "#  Vertices/Nodes, Airports ..\n",
    "\n",
    "df_airports = pd.DataFrame([\n",
    "       #\n",
    "   [\"MKE\", \"Milwaukee\"               , \"Airport\"],\n",
    "   [\"ORD\", \"Chicago O-Hare\"          , \"Airport\"],\n",
    "   [\"SJC\", \"San Jose\"                , \"Airport\"],\n",
    "   [\"DEN\", \"Denver\"                  , \"Airport\"],\n",
    "       #\n",
    "   ], columns = [\"airport_code\", \"airport_name\", \"LABEL\"])\n",
    "\n",
    "print(tabulate(df_airports, headers='keys', tablefmt='psql'))\n"
   ]
  },
  {
   "cell_type": "code",
   "execution_count": null,
   "id": "60eaac88-4dd5-47d3-94b3-0f5fd0b243f2",
   "metadata": {},
   "outputs": [],
   "source": [
    "#  Create the edge, flights ..\n",
    "\n",
    "df_flights = pd.DataFrame([\n",
    "      #\n",
    "   [\"MKE\", \"ORD\",   66, 1, \"FLIES_TO\" ],\n",
    "   [\"ORD\", \"MKE\",   66, 1, \"FLIES_TO\" ],\n",
    "      #\n",
    "   [\"ORD\", \"DEN\",  886, 1, \"FLIES_TO\" ],\n",
    "   [\"DEN\", \"ORD\",  886, 1, \"FLIES_TO\" ],\n",
    "      #\n",
    "   [\"SJC\", \"DEN\",  948, 1, \"FLIES_TO\" ],                           #  Notice SJC flies to/from Denver\n",
    "   [\"DEN\", \"SJC\",  948, 1, \"FLIES_TO\" ],\n",
    "      #\n",
    "   [\"SJC\", \"ORD\", 1829, 1, \"FLIES_TO\" ],                           #  Notice SJC flies to ORD, but not ORD to SJC\n",
    "      #\n",
    "   ], columns = [\"START_ID\", \"END_ID\", \"DISTANCE\", \"NUM_HOPS\", \"TYPE\"])\n",
    "\n",
    "print(tabulate(df_flights, headers='keys', tablefmt='psql'))\n"
   ]
  },
  {
   "cell_type": "code",
   "execution_count": null,
   "id": "49e8f39e-4b4f-4377-a8ac-52a1ad07094f",
   "metadata": {},
   "outputs": [],
   "source": [
    "\n",
    "# Import the 2 previously created Python DataFrames into KatanaGraph ..\n",
    "\n",
    "with import_data.DataFrameImporter(my_graph) as df_importer:   \n",
    "    \n",
    "   df_importer.nodes_dataframe(df_airports,                    #  Aiports set of Nodes\n",
    "      id_column             = \"airport_code\",\n",
    "      id_space              = \"Airport\",  \n",
    "      label                 = \"Airport\",  \n",
    "      )\n",
    "   \n",
    "   df_importer.edges_dataframe(df_flights,                     #  Our Edge, specifying the relationship between Airport --> FLIES_TO --> Airport\n",
    "      source_id_space       = \"Airport\", \n",
    "      destination_id_space  = \"Airport\",   \n",
    "      source_column         = \"START_ID\",\n",
    "      destination_column    = \"END_ID\",\n",
    "      type                  = \"FLIES_TO\"\n",
    "      )\n",
    "\n",
    "   df_importer.insert()\n",
    "\n",
    "print(\"--\")\n"
   ]
  },
  {
   "cell_type": "code",
   "execution_count": null,
   "id": "b9bbf601-a25b-4dd9-8f99-83ec1a576505",
   "metadata": {},
   "outputs": [],
   "source": [
    "\n",
    "#  What's in the graph ..\n",
    "\n",
    "l_result1 = my_graph.query(\"\"\"\n",
    "   MATCH ( n ) \n",
    "   RETURN n\n",
    "   \"\"\")\n",
    "# print(l_result1[0:30])\n",
    "print(tabulate(l_result1, headers='keys', tablefmt='psql'))\n",
    "\n",
    "l_result2 = my_graph.query(\"\"\"\n",
    "   MATCH ( n ) - [ r ] -> ( m )\n",
    "   RETURN r\n",
    "   \"\"\")\n",
    "# print(l_result2[0:30])\n",
    "print(tabulate(l_result2, headers='keys', tablefmt='psql'))\n",
    "\n"
   ]
  },
  {
   "cell_type": "markdown",
   "id": "74397041-48bf-4867-b304-235764e64e64",
   "metadata": {
    "tags": []
   },
   "source": [
    "#  Actual bfs() .."
   ]
  },
  {
   "cell_type": "code",
   "execution_count": null,
   "id": "b264e8ea-69b7-4f41-baf8-c5e04ddadbad",
   "metadata": {},
   "outputs": [],
   "source": [
    "\n",
    "# import numpy as np\n",
    "from katana import remote\n",
    "from katana.remote import analytics\n",
    "# from katana_enterprise.distributed import PartitionPolicy\n",
    "\n",
    "#  Used to generate a unique output column name\n",
    "#\n",
    "l_cntr = 20\n",
    "\n",
    "print(\"--\")\n"
   ]
  },
  {
   "cell_type": "code",
   "execution_count": null,
   "id": "1e637dbb-3a25-409b-aff7-0ed5ea978ef6",
   "metadata": {},
   "outputs": [],
   "source": [
    "\n",
    "l_result1 = my_graph.query(\n",
    "   \"\"\"\n",
    "   MATCH (n: Airport) \n",
    "   WHERE n.airport_code = 'MKE'\n",
    "   RETURN n\n",
    "   \"\"\" )\n",
    "print(l_result1)\n",
    "#\n",
    "#  Sample output,\n",
    "#\n",
    "#          n.internal_id   n.labels  n.LABEL n.airport_code n.airport_name  n.bfs0026 n.type\n",
    "#     0  281474976710656  [Airport]  Airport            MKE      Milwaukee          2   node\n",
    "\n",
    "\n",
    "l_result1 = my_graph.query(\n",
    "   \"\"\"\n",
    "   MATCH (n: Airport) \n",
    "   WHERE n.airport_code = 'MKE'\n",
    "   RETURN n.internal_id\n",
    "   \"\"\" )\n",
    "print(l_result1)\n",
    "#\n",
    "#  Sample output,\n",
    "#\n",
    "#       n.internal_id\n",
    "#     0          None\n",
    "\n",
    "\n",
    "l_result1 = my_graph.query(\n",
    "   \"\"\"\n",
    "   MATCH (n: Airport) \n",
    "   WHERE n.airport_code = 'MKE'\n",
    "   RETURN n.internal_id AS internal_id\n",
    "   \"\"\" )\n",
    "print(l_result1)\n",
    "#\n",
    "#  Sample output,\n",
    "#\n",
    "#       internal_id\n",
    "#     0          None\n",
    "\n",
    "\n",
    "#  l_result1 = my_graph.query(\n",
    "#     \"\"\"\n",
    "#     MATCH (n: Airport) \n",
    "#     WHERE n.airport_code = 'MKE'\n",
    "#     RETURN n\n",
    "#     \"\"\" )\n",
    "#  print(l_result1.internal_id)\n",
    "#  \n",
    "#  Sample output\n",
    "#\n",
    "#   >>> AttributeError: 'ResultSet' object has no attribute 'internal_id'\n",
    "\n",
    "\n",
    "l_result1 = my_graph.query(\n",
    "   \"\"\"\n",
    "   MATCH (n: Airport) \n",
    "   WHERE n.airport_code = 'MKE'\n",
    "   RETURN n\n",
    "   \"\"\" )\n",
    "for l_each in l_result1.itertuples():\n",
    "   print(l_each[1])\n",
    "#\n",
    "#  Sample output,\n",
    "#     281474976710656\n"
   ]
  },
  {
   "cell_type": "code",
   "execution_count": 44,
   "id": "7c73128e-715c-4811-afd0-33e6932a55f0",
   "metadata": {},
   "outputs": [
    {
     "data": {
      "application/vnd.jupyter.widget-view+json": {
       "model_id": "e8e30770a0a74c5384476a5fe57b4a65",
       "version_major": 2,
       "version_minor": 0
      },
      "text/plain": [
       "          0/? [?op/s]"
      ]
     },
     "metadata": {},
     "output_type": "display_data"
    },
    {
     "name": "stdout",
     "output_type": "stream",
     "text": [
      "--\n"
     ]
    },
    {
     "data": {
      "text/plain": [
       "None"
      ]
     },
     "metadata": {},
     "output_type": "display_data"
    }
   ],
   "source": [
    "\n",
    "#  Running analytics.bfs() ..\n",
    "\n",
    "\n",
    "#  l_source_nodeid       = 0                               #  Throws error\n",
    "#  l_source_nodeid       = \"0\"                             #  Reference to internal_id\n",
    "\n",
    "l_source_nodeid = str(l_each[1])                           #  First I had to fetch this integer, then cast it to a string\n",
    "\n",
    "\n",
    "#  Generate a unique prop name so we can run this over and over without edit ..\n",
    "#\n",
    "l_cntr += 1\n",
    "   #\n",
    "l_output_propname     = \"bfs\" + str(l_cntr).zfill(4)\n",
    "l_max_iterations      = 10000 \n",
    "\n",
    "\n",
    "analytics.bfs(\n",
    "   my_graph,\n",
    "   source                  = l_source_nodeid,\n",
    "   result_property_name    = l_output_propname,\n",
    "   max_iterations          = l_max_iterations,\n",
    "   #  delta                   = 5\n",
    "   )\n",
    "\n",
    "\n",
    "display(print(\"--\"))\n"
   ]
  },
  {
   "cell_type": "code",
   "execution_count": 45,
   "id": "d634576f-3ad2-4ed6-9abc-abbc4227d554",
   "metadata": {},
   "outputs": [
    {
     "data": {
      "application/vnd.jupyter.widget-view+json": {
       "model_id": "30aeb80f928545dd876044d5919cf357",
       "version_major": 2,
       "version_minor": 0
      },
      "text/plain": [
       "          0/? [?op/s]"
      ]
     },
     "metadata": {},
     "output_type": "display_data"
    },
    {
     "name": "stdout",
     "output_type": "stream",
     "text": [
      "+----+-----------------+-------------+-----------+------------------+------------------+-------------+-------------+----------+\n",
      "|    |   n.internal_id | n.labels    | n.LABEL   | n.airport_code   | n.airport_name   |   n.bfs0026 |   n.bfs0029 | n.type   |\n",
      "|----+-----------------+-------------+-----------+------------------+------------------+-------------+-------------+----------|\n",
      "|  0 |               0 | ['Airport'] | Airport   | DEN              | Denver           |           0 |           2 | node     |\n",
      "|  1 | 281474976710656 | ['Airport'] | Airport   | MKE              | Milwaukee        |           2 |           0 | node     |\n",
      "|  2 | 562949953421313 | ['Airport'] | Airport   | SJC              | San Jose         |           1 |           3 | node     |\n",
      "|  3 | 562949953421312 | ['Airport'] | Airport   | ORD              | Chicago O-Hare   |           1 |           1 | node     |\n",
      "+----+-----------------+-------------+-----------+------------------+------------------+-------------+-------------+----------+\n"
     ]
    }
   ],
   "source": [
    "\n",
    "#  My notes,\n",
    "#\n",
    "#     .  If \"source\" id is not found, no value is output. \n",
    "#        Shouldn't routine output an error os some sort ?\n",
    "#\n",
    "#     .  If \"source\" id is not found, no value is output.\n",
    "#        Yet, if I incorrectly call to reuse the output column name, routine complains with,\n",
    "#\n",
    "#           >>> OperationError: E9UEYj4d5DjkrUgo1UiuMLvCKsVh3z3ChK9d57NfjJNj-4EE59uUYb2cJHV5Md backtrace\n",
    "#           >>> (AnalyticsOperation.cpp:1132): backtrace (AnalyticsOperation.cpp:903): backtrace\n",
    "#           >>> (AnalyticsOperation.cpp:263): backtrace (Bfs.cpp:280): property with name bfs0024\n",
    "#           >>> already exists (PropertyTableGroup.cpp:493): invalid argument: invalid argument\n",
    "#\n",
    "#     .  bfs() requires a string argument for a numeric field. If we submit a numeric argument, we get,\n",
    "#\n",
    "#           >>> InvalidRequestError: b'{\"code\":400,\"message\":\"json: cannot unmarshal number into Go \n",
    "#           >>> struct field BFSParameters.analytics.bfs.start_node of type string\"}'\n",
    "\n",
    "\n",
    "#  bfs() output records a new column on the node list\n",
    "#\n",
    "l_result1 = my_graph.query(\n",
    "   \"\"\"\n",
    "   MATCH (n) \n",
    "   RETURN n\n",
    "   \"\"\" )\n",
    "print(tabulate(l_result1, headers='keys', tablefmt='psql'))\n",
    "\n",
    "#  l_result2 = my_graph.query(\n",
    "#     \"\"\"\n",
    "#     MATCH (n) - [r] -> (m)\n",
    "#     RETURN r\n",
    "#     \"\"\" )\n",
    "#  print(tabulate(l_result2, headers='keys', tablefmt='psql'))\n"
   ]
  }
 ],
 "metadata": {
  "kernelspec": {
   "display_name": "Python 3 (ipykernel)",
   "language": "python",
   "name": "python3"
  },
  "language_info": {
   "codemirror_mode": {
    "name": "ipython",
    "version": 3
   },
   "file_extension": ".py",
   "mimetype": "text/x-python",
   "name": "python",
   "nbconvert_exporter": "python",
   "pygments_lexer": "ipython3",
   "version": "3.8.13"
  }
 },
 "nbformat": 4,
 "nbformat_minor": 5
}
