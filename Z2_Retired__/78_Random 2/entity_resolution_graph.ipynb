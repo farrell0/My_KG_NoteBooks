{
 "cells": [
  {
   "cell_type": "markdown",
   "id": "40625b68-4a15-40e3-a075-bccd8fc9cd9b",
   "metadata": {},
   "source": [
    "# Requirements"
   ]
  },
  {
   "cell_type": "markdown",
   "id": "ae39d932-d1e7-490e-b9e8-eb57e85225c8",
   "metadata": {},
   "source": [
    "##### Requirements are found [here](https://....)"
   ]
  },
  {
   "cell_type": "markdown",
   "id": "d7fd39b5-0931-408c-9af5-876797a9a813",
   "metadata": {},
   "source": [
    "---"
   ]
  },
  {
   "cell_type": "markdown",
   "id": "ae2338e3-10ad-45c4-9e71-be3894e85318",
   "metadata": {},
   "source": [
    "## Connect to the cluster"
   ]
  },
  {
   "cell_type": "markdown",
   "id": "62c8ddb0-afe4-40d1-80ff-064366e846dd",
   "metadata": {},
   "source": [
    "Run this command in separate terminal to forward port from Katana controller node"
   ]
  },
  {
   "cell_type": "markdown",
   "id": "d0b66eef-326c-4a07-98d9-1754f6628cd9",
   "metadata": {},
   "source": [
    "```gcloud compute ssh --zone us-east1-b --project katana-internal14 katana-controller -- -NL 8080:127.0.0.1:8080 -vvv ```"
   ]
  },
  {
   "cell_type": "markdown",
   "id": "4a0a914a-6894-47f7-be00-7f519f0c488d",
   "metadata": {},
   "source": [
    "Connect local Docker container to Katana Controller"
   ]
  },
  {
   "cell_type": "code",
   "execution_count": null,
   "id": "46f143ed-bc3d-4c28-ab0b-f3a3f21a59d8",
   "metadata": {},
   "outputs": [],
   "source": [
    "import os                                                                        \n",
    "import time                                                                      \n",
    "import pandas as pd\n",
    "from timeit import default_timer as timer\n",
    "\n",
    "from katana import remote\n",
    "from katana.remote import import_data\n",
    "from katana.remote.import_data import Operation\n",
    "cluster_name=\"katana-internal14\"\n",
    "num_partitions = 1\n",
    "\n",
    "\n",
    "os.environ[\"KATANA_SERVER_ADDRESS\"] = \"host.docker.internal:8080\""
   ]
  },
  {
   "cell_type": "code",
   "execution_count": null,
   "id": "b5501250-930a-460d-9eda-7c226a0fa44b",
   "metadata": {},
   "outputs": [],
   "source": [
    "remote.Client().widgets().dashboard()"
   ]
  },
  {
   "cell_type": "markdown",
   "id": "c2b8a641-dbfb-4d53-9ad8-874e53aa90d8",
   "metadata": {
    "jp-MarkdownHeadingCollapsed": true,
    "tags": []
   },
   "source": [
    "## Initial Load "
   ]
  },
  {
   "cell_type": "markdown",
   "id": "4e97625d-09db-4b57-9944-8664623e13c9",
   "metadata": {},
   "source": [
    "Specify input and output locations on cloud storage"
   ]
  },
  {
   "cell_type": "code",
   "execution_count": null,
   "id": "c330d4ee-e74c-47c6-8883-9c9c86541cbd",
   "metadata": {},
   "outputs": [],
   "source": [
    "graph = remote.Client().create_graph()\n",
    "graph_id = graph.graph_id"
   ]
  },
  {
   "cell_type": "code",
   "execution_count": null,
   "id": "88ee1a7f-6921-43a9-96bb-452460aa1991",
   "metadata": {},
   "outputs": [],
   "source": [
    "print(remote.Client().graphs())\n",
    "#graph = remote.Client().graphs()[0]\n",
    "#graph_id = graph.graph_id\n",
    "print(graph_id)"
   ]
  },
  {
   "cell_type": "code",
   "execution_count": null,
   "id": "af5cc6c8-670e-4820-9c21-8f363b034874",
   "metadata": {},
   "outputs": [],
   "source": [
    "/Users/hadiahmadi/Katana/git/katana-enterprise/external/katana/python/examples\n",
    "start = timer()\n",
    "print(\"Importing graph from CSV files...\")\n",
    "import_data.csv(\n",
    "    graph,\n",
    "    operation=Operation.Insert,\n",
    "    input_node_path=\"gs://katana-demo-datasets/entity-resolution/synthetic/node_list.txt\",\n",
    "    input_edge_path=\"gs://katana-demo-datasets/entity-resolution/synthetic/edge_list.txt\",\n",
    "    input_dir=\"gs://katana-demo-datasets/entity-resolution/synthetic\",\n",
    "    files_have_headers=True,\n",
    "    data_delimiter=\",\",\n",
    "    schema_delimiter=\",\",\n",
    ")\n",
    "end = timer()\n",
    "print(f\"  import: {end - start:.1f} seconds\") "
   ]
  },
  {
   "cell_type": "code",
   "execution_count": null,
   "id": "bb0336fb-89e8-44be-afee-555ca3e8dc80",
   "metadata": {},
   "outputs": [],
   "source": [
    "start = timer()\n",
    "print(f\"  num nodes: {graph.num_nodes()}\")\n",
    "print(f\"  num edges: {graph.num_edges()}\")\n",
    "end = timer()\n",
    "print(f\"  count nodes: {end - start:.1f} seconds\") "
   ]
  },
  {
   "cell_type": "code",
   "execution_count": null,
   "id": "babbd9c1-dfe6-43d9-b2b3-41b233fd4d08",
   "metadata": {},
   "outputs": [],
   "source": [
    "# test query\n",
    "start = timer()\n",
    "result = graph.query(\"\"\"\n",
    "match (n:Account)-->(p)<--(m:Account)\n",
    "return * order by n limit 200\n",
    "\"\"\")\n",
    "\n",
    "end = timer()\n",
    "print(f\"  result: {result[0:2]} ... \")\n",
    "print(f\"  time: {end - start:.1f} seconds\")\n",
    "result.visualize()"
   ]
  },
  {
   "cell_type": "code",
   "execution_count": null,
   "id": "24838015-10ce-4433-b90f-c3dcc8d0288b",
   "metadata": {},
   "outputs": [],
   "source": [
    "start = timer()\n",
    "result = graph.query(\"\"\"\n",
    "match (n:Account)-->(p)<--(m:Account) where id(n) < id(m)\n",
    "with distinct n,m, \n",
    "case when n.first_name = m.first_name then 1 else 0 end as w1,\n",
    "case when n.last_name = m.last_name then 1 else 0 end as w2,\n",
    "collect(p.id) as similar,\n",
    "count(p) as w3\n",
    "return distinct n.first_name+ \" \"+n.last_name+\"(\"+n.id+\")\" as l_account, m.first_name+\" \"+m.last_name+\"(\"+m.id+\")\" as r_account,\n",
    "similar, w1+w2+w3 as score order by l_account desc limit 20 \n",
    "\"\"\")\n",
    "end = timer()\n",
    "totaldf = pd.DataFrame()\n",
    "for row in result:\n",
    "    df = pd.json_normalize(row)\n",
    "    totaldf = pd.concat([totaldf,df])\n",
    "print(f\"  time: {end - start:.1f} seconds\")\n",
    "totaldf.reset_index(drop=True)"
   ]
  },
  {
   "cell_type": "code",
   "execution_count": null,
   "id": "e65bc062-c0df-40ee-820b-eaa34b8049db",
   "metadata": {},
   "outputs": [],
   "source": [
    "start = timer()\n",
    "\n",
    "result = graph.query(\"\"\"\n",
    "match (n:Account)-->(p)<--(m:Account) where id(n) < id(m)\n",
    "with distinct n,m, \n",
    "case when n.first_name = m.first_name then 1 else 0 end as w1,\n",
    "case when n.last_name = m.last_name then 1 else 0 end as w2,\n",
    "count(p) as w3\n",
    "where w1+w2+w3 > 2\n",
    "create (n)-[r:SIMILAR {score: w1+w2+w3}]->(m)\n",
    "\"\"\")\n",
    "\n",
    "end = timer()\n",
    "print(f\"  result: {result[0:2]}\")\n",
    "print(f\"  time: {end - start:.1f} seconds\")"
   ]
  },
  {
   "cell_type": "code",
   "execution_count": null,
   "id": "fdf655b5-f2ee-49d7-ab9c-cdfff0331dfd",
   "metadata": {},
   "outputs": [],
   "source": [
    "result = graph.query(\"\"\"\n",
    "match (n:Account)-[r:SIMILAR]->(m:Account) \n",
    "return *\n",
    "\"\"\")\n",
    "result.visualize()"
   ]
  },
  {
   "cell_type": "code",
   "execution_count": null,
   "id": "504d2b73-ade6-4892-9173-be4bf95e6882",
   "metadata": {},
   "outputs": [],
   "source": [
    "from katana.remote.aio.analytics import louvain_clustering\n",
    "louvain_clustering(graph, result_property_name=\"cluster\", edge_weight_property_name=\"score\")\n",
    "#stats = LouvainClusteringStatistics(graph, \"value\", \"output\")\n",
    "\n",
    "#print(stats.n_clusters)\n",
    "#print(stats.n_non_trivial_clusters)\n",
    "#print(stats.largest_cluster_size)"
   ]
  },
  {
   "cell_type": "code",
   "execution_count": null,
   "id": "2f89b910-58c8-4e1f-b076-af412394404e",
   "metadata": {},
   "outputs": [],
   "source": [
    "result = graph.query(\"\"\"\n",
    "match (n:Account)\n",
    "with distinct n.cluster as cluster, collect(n.id)\n",
    "return count(*)\n",
    "\"\"\")\n",
    "print (result[0:2])"
   ]
  },
  {
   "cell_type": "code",
   "execution_count": null,
   "id": "f23765d4-1eb4-49cd-a482-00b996e72802",
   "metadata": {},
   "outputs": [],
   "source": [
    "# Go to local for jaccard\n",
    "import katana.local\n",
    "from katana.example_data import get_input\n",
    "from katana.local import Graph\n",
    "katana.local.initialize()\n",
    "input_rdg_path=\"gs://katana-internal14/graph/\"+graph_id\n",
    "property_graph = Graph(input_rdg_path)\n",
    "print(property_graph.num_nodes())\n",
    "property_graph.get_node_property(\"first_name\")[0]"
   ]
  },
  {
   "cell_type": "code",
   "execution_count": null,
   "id": "a27ccfab-7fe2-4d9d-bfd5-0459827b9c1d",
   "metadata": {},
   "outputs": [],
   "source": [
    "from katana.local.analytics import jaccard, JaccardStatistics\n",
    "property_name = \"simiar_to_19\"\n",
    "compare_node = 19"
   ]
  },
  {
   "cell_type": "code",
   "execution_count": null,
   "id": "14b2fea6-f366-4e16-9e25-a868ba11aa63",
   "metadata": {},
   "outputs": [],
   "source": [
    "#jaccard(property_graph, compare_node, property_name)\n",
    "stats = JaccardStatistics(property_graph, compare_node, property_name)\n",
    "\n",
    "print(\"Max Similarity:\", stats.max_similarity)\n",
    "print(\"Min Similarity:\", stats.min_similarity)\n",
    "print(\"Average Similarity:\", stats.average_similarity)"
   ]
  },
  {
   "cell_type": "code",
   "execution_count": null,
   "id": "b04e5fe7-cd6d-4050-9bb1-f3d2741281c9",
   "metadata": {},
   "outputs": [],
   "source": [
    "property_graph.get_node_property(\"simiar_to_19\")"
   ]
  }
 ],
 "metadata": {
  "kernelspec": {
   "display_name": "Python 3 (ipykernel)",
   "language": "python",
   "name": "python3"
  },
  "language_info": {
   "codemirror_mode": {
    "name": "ipython",
    "version": 3
   },
   "file_extension": ".py",
   "mimetype": "text/x-python",
   "name": "python",
   "nbconvert_exporter": "python",
   "pygments_lexer": "ipython3",
   "version": "3.8.8"
  }
 },
 "nbformat": 4,
 "nbformat_minor": 5
}
