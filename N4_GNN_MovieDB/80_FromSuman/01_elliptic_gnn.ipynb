{
 "cells": [
  {
   "cell_type": "markdown",
   "metadata": {},
   "source": [
    "<div class=\"header\">\n",
    "  <img src=\"img/kg_logo_white_side.png\" alt=\"logo\" style=\"width: 300px;\"/>\n",
    "  <h1>01 Elliptic GNN Training</h1>\n",
    "</div>"
   ]
  },
  {
   "cell_type": "code",
   "execution_count": 1,
   "metadata": {},
   "outputs": [],
   "source": [
    "# Import config file\n",
    "import yaml\n",
    "import warnings\n",
    "warnings.filterwarnings('ignore')\n",
    "\n",
    "with open(\"config.yaml\", \"r\") as f:\n",
    "    config = yaml.load(f, Loader=yaml.FullLoader)\n",
    "project_id = config['project']['project_id']"
   ]
  },
  {
   "cell_type": "markdown",
   "metadata": {},
   "source": [
    "### Purpose: Train the GNN on the elliptic dataset to generate graph embeddings for downstream ML tasks\n",
    "<img src=\"img/GNN_01.png\" style=\"width: 1500px;\"/>"
   ]
  },
  {
   "cell_type": "markdown",
   "metadata": {},
   "source": [
    "## DASK DATASET PREPROCESSING"
   ]
  },
  {
   "cell_type": "markdown",
   "metadata": {},
   "source": [
    "<img src=\"img/GNN_02.png\" style=\"width: 600px;\"/>"
   ]
  },
  {
   "cell_type": "code",
   "execution_count": 2,
   "metadata": {},
   "outputs": [
    {
     "name": "stdout",
     "output_type": "stream",
     "text": [
      "Table deleted: katana-clusters-beta.fsi_elliptic.account_features\n",
      "Loaded 203769 rows and 95 columns to katana-clusters-beta.fsi_elliptic.account_features\n",
      "Updated elliptic_feast/feature_repo/elliptic_features.py with baseline feature view\n"
     ]
    },
    {
     "data": {
      "application/vnd.jupyter.widget-view+json": {
       "model_id": "9ec86ba44497461c92f707746100d45a",
       "version_major": 2,
       "version_minor": 0
      },
      "text/plain": [
       "          0/? [?op/s]"
      ]
     },
     "metadata": {},
     "output_type": "display_data"
    },
    {
     "data": {
      "application/vnd.jupyter.widget-view+json": {
       "model_id": "235c80868aba4aa4846158dcaa307969",
       "version_major": 2,
       "version_minor": 0
      },
      "text/plain": [
       "          0/? [?op/s]"
      ]
     },
     "metadata": {},
     "output_type": "display_data"
    }
   ],
   "source": [
    "from src.elliptic_dask_preprocessing import elliptic_preprocessing\n",
    "elliptic_graph = elliptic_preprocessing()"
   ]
  },
  {
   "cell_type": "markdown",
   "metadata": {},
   "source": [
    "### VISUALIZATION"
   ]
  },
  {
   "cell_type": "code",
   "execution_count": 3,
   "metadata": {},
   "outputs": [
    {
     "data": {
      "application/vnd.jupyter.widget-view+json": {
       "model_id": "a4a2c9413a844c9683e07f96a7ed5178",
       "version_major": 2,
       "version_minor": 0
      },
      "text/plain": [
       "          0/? [?op/s]"
      ]
     },
     "metadata": {},
     "output_type": "display_data"
    },
    {
     "name": "stdout",
     "output_type": "stream",
     "text": [
      "Number of nodes: 203,769\n"
     ]
    },
    {
     "data": {
      "application/vnd.jupyter.widget-view+json": {
       "model_id": "d5850516e497428f92d6fe26c26b4f5b",
       "version_major": 2,
       "version_minor": 0
      },
      "text/plain": [
       "          0/? [?op/s]"
      ]
     },
     "metadata": {},
     "output_type": "display_data"
    },
    {
     "name": "stdout",
     "output_type": "stream",
     "text": [
      "Number of edges: 468,710\n"
     ]
    }
   ],
   "source": [
    "print(f\"Number of nodes: {elliptic_graph.num_nodes():,}\")\n",
    "print(f\"Number of edges: {elliptic_graph.num_edges():,}\")"
   ]
  },
  {
   "cell_type": "code",
   "execution_count": 4,
   "metadata": {},
   "outputs": [
    {
     "data": {
      "application/vnd.jupyter.widget-view+json": {
       "model_id": "161311b3fa714b40a2fb245caf9a79f7",
       "version_major": 2,
       "version_minor": 0
      },
      "text/plain": [
       "          0/? [?op/s]"
      ]
     },
     "metadata": {},
     "output_type": "display_data"
    },
    {
     "data": {
      "application/vnd.jupyter.widget-view+json": {
       "model_id": "6a66e2cddefd4283ba7146e08aff113c",
       "version_major": 2,
       "version_minor": 0
      },
      "text/plain": [
       "          0/? [?op/s]"
      ]
     },
     "metadata": {},
     "output_type": "display_data"
    },
    {
     "name": "stdout",
     "output_type": "stream",
     "text": [
      "CPU times: user 4.03 s, sys: 289 ms, total: 4.32 s\n",
      "Wall time: 1min 4s\n"
     ]
    },
    {
     "data": {
      "application/vnd.jupyter.widget-view+json": {
       "model_id": "b472bb8630d64da2929b71019964f4ac",
       "version_major": 2,
       "version_minor": 0
      },
      "text/plain": [
       "GraphVizWidget(edges=[{'from': 25344, 'to': 281474976735846, 'label': 'rev_transaction', 'type': 'rev_transact…"
      ]
     },
     "metadata": {},
     "output_type": "display_data"
    }
   ],
   "source": [
    "%%time\n",
    "elliptic_graph.query(\"MATCH (n)-->(m) RETURN * LIMIT 200\",contextualize=True).visualize()"
   ]
  },
  {
   "cell_type": "markdown",
   "metadata": {},
   "source": [
    "## GNN IMPLEMENTATION"
   ]
  },
  {
   "cell_type": "markdown",
   "metadata": {},
   "source": [
    "#### INITIALIZING GNN PIPELINE"
   ]
  },
  {
   "cell_type": "code",
   "execution_count": 5,
   "metadata": {},
   "outputs": [],
   "source": [
    "from src.katana_enterprise import GNNEmbeddingPipeline\n",
    "import sys,os\n",
    "sys.path.append(os.path.join(\"/home/anuhyabs_katanagraph_com/solutions/fsi/demos/elliptic\"))\n",
    "elliptic_node_classification_job = GNNEmbeddingPipeline(\n",
    "    display_name=\"elliptic_gnn_embedding_train_job\", \n",
    "    optimization_prediction_type=\"node_classification\",\n",
    "    embed_dim=16,\n",
    "    supervised=True\n",
    ")"
   ]
  },
  {
   "cell_type": "markdown",
   "metadata": {},
   "source": [
    "#### GNN TRAINING\n",
    "\n",
    "<img src=\"img/GNN_03.png\" style=\"width: 1000px;\"/>"
   ]
  },
  {
   "cell_type": "code",
   "execution_count": 6,
   "metadata": {
    "scrolled": true,
    "tags": []
   },
   "outputs": [
    {
     "data": {
      "application/vnd.jupyter.widget-view+json": {
       "model_id": "899d3366a9584d26acdad296a389687b",
       "version_major": 2,
       "version_minor": 0
      },
      "text/plain": [
       "          0/? [?op/s]"
      ]
     },
     "metadata": {},
     "output_type": "display_data"
    },
    {
     "data": {
      "application/vnd.jupyter.widget-view+json": {
       "model_id": "9ea81099a1fe4591a45982c8c57944e6",
       "version_major": 2,
       "version_minor": 0
      },
      "text/plain": [
       "          0/? [?op/s]"
      ]
     },
     "metadata": {},
     "output_type": "display_data"
    },
    {
     "data": {
      "application/vnd.jupyter.widget-view+json": {
       "model_id": "9d7bba38c1934369818fb77095025153",
       "version_major": 2,
       "version_minor": 0
      },
      "text/plain": [
       "          0/? [?op/s]"
      ]
     },
     "metadata": {},
     "output_type": "display_data"
    },
    {
     "name": "stdout",
     "output_type": "stream",
     "text": [
      "\n",
      "Host 0 output:\n",
      "Tensorboard log directory: gs://katana-internal1/tensorboard/elliptic_demo_e2e_497b08928741451d8eabcfeb2118d68b\n",
      "Validation data test_score: {'validation_metric': 0.9756031134946118}\n",
      "Test data test_score: {'validation_metric': 0.9814737685222267}\n",
      "\n",
      "Host 1 output:\n",
      "Tensorboard log directory: gs://katana-internal1/tensorboard/elliptic_demo_e2e_497b08928741451d8eabcfeb2118d68b\n",
      "Validation data test_score: {'validation_metric': 0.9878996546219551}\n",
      "Test data test_score: {'validation_metric': 0.9878013616339607}\n",
      "\n",
      "Host 2 output:\n",
      "Tensorboard log directory: gs://katana-internal1/tensorboard/elliptic_demo_e2e_497b08928741451d8eabcfeb2118d68b\n",
      "Validation data test_score: {'validation_metric': 0.9837837751422626}\n",
      "Test data test_score: {'validation_metric': 0.9826174116033394}\n",
      "\n",
      "Host 3 output:\n",
      "Tensorboard log directory: gs://katana-internal1/tensorboard/elliptic_demo_e2e_497b08928741451d8eabcfeb2118d68b\n",
      "Validation data test_score: {'validation_metric': 0.9704226417631928}\n",
      "Test data test_score: {'validation_metric': 0.943768383413115}\n",
      "CPU times: user 1min 22s, sys: 4.15 s, total: 1min 26s\n",
      "Wall time: 32min 40s\n"
     ]
    },
    {
     "name": "stderr",
     "output_type": "stream",
     "text": [
      "\n",
      "Host 0 errors:\n",
      "UserWarning: The given NumPy array is not writeable, and PyTorch does not support non-writeable tensors. This means you can write to the underlying (supposedly non-writeable) NumPy array using the tensor. You may want to copy the array to protect its data or make it writeable before converting it to a tensor. This type of warning will be suppressed for the rest of this program. (Triggered internally at  /home/conda/feedstock_root/build_artifacts/pytorch-recipe_1645203023865/work/torch/csrc/utils/tensor_numpy.cpp:183.)\n",
      "\n",
      "Host 1 errors:\n",
      "UserWarning: The given NumPy array is not writeable, and PyTorch does not support non-writeable tensors. This means you can write to the underlying (supposedly non-writeable) NumPy array using the tensor. You may want to copy the array to protect its data or make it writeable before converting it to a tensor. This type of warning will be suppressed for the rest of this program. (Triggered internally at  /home/conda/feedstock_root/build_artifacts/pytorch-recipe_1645203023865/work/torch/csrc/utils/tensor_numpy.cpp:183.)\n",
      "\n",
      "Host 2 errors:\n",
      "UserWarning: The given NumPy array is not writeable, and PyTorch does not support non-writeable tensors. This means you can write to the underlying (supposedly non-writeable) NumPy array using the tensor. You may want to copy the array to protect its data or make it writeable before converting it to a tensor. This type of warning will be suppressed for the rest of this program. (Triggered internally at  /home/conda/feedstock_root/build_artifacts/pytorch-recipe_1645203023865/work/torch/csrc/utils/tensor_numpy.cpp:183.)\n",
      "\n",
      "Host 3 errors:\n",
      "UserWarning: The given NumPy array is not writeable, and PyTorch does not support non-writeable tensors. This means you can write to the underlying (supposedly non-writeable) NumPy array using the tensor. You may want to copy the array to protect its data or make it writeable before converting it to a tensor. This type of warning will be suppressed for the rest of this program. (Triggered internally at  /home/conda/feedstock_root/build_artifacts/pytorch-recipe_1645203023865/work/torch/csrc/utils/tensor_numpy.cpp:183.)\n"
     ]
    }
   ],
   "source": [
    "%%time\n",
    "elliptic_node_classification_job.train(\n",
    "    elliptic_graph,\n",
    "    target_property_name=\"target\",\n",
    "    graph_analytics_features=[\"page_rank\", \"betweenness_centrality\"],\n",
    "    budget_milli_node_hours=8000,\n",
    "    model_display_name=\"elliptic_gnn_embed\",\n",
    "    disable_early_stopping=False,\n",
    "    sync=True,\n",
    "    split_ratio=[0.8, 0.15, 0.05],\n",
    ")"
   ]
  },
  {
   "cell_type": "markdown",
   "metadata": {},
   "source": [
    "#### GNN INFERENCING\n",
    "\n",
    "<img src=\"img/GNN_04.png\" style=\"width: 1000px;\"/>"
   ]
  },
  {
   "cell_type": "code",
   "execution_count": 7,
   "metadata": {
    "scrolled": true,
    "tags": []
   },
   "outputs": [
    {
     "data": {
      "application/vnd.jupyter.widget-view+json": {
       "model_id": "b2252812c68d469ba367ba1fe53c7088",
       "version_major": 2,
       "version_minor": 0
      },
      "text/plain": [
       "          0/? [?op/s]"
      ]
     },
     "metadata": {},
     "output_type": "display_data"
    },
    {
     "name": "stdout",
     "output_type": "stream",
     "text": [
      "\n",
      "Host 0 output:\n",
      "Table created: katana-clusters-beta.fsi_elliptic.elliptic_embeddings_497b08928741451d8eabcfeb2118d68b\n",
      "Loaded 203769 rows and 18 columns to katana-clusters-beta.fsi_elliptic.elliptic_embeddings_497b08928741451d8eabcfeb2118d68b\n",
      "\n",
      "Host 1 output:\n",
      "Table created: katana-clusters-beta.fsi_elliptic.elliptic_embeddings_497b08928741451d8eabcfeb2118d68b\n",
      "Loaded 203769 rows and 18 columns to katana-clusters-beta.fsi_elliptic.elliptic_embeddings_497b08928741451d8eabcfeb2118d68b\n",
      "\n",
      "Host 2 output:\n",
      "Table created: katana-clusters-beta.fsi_elliptic.elliptic_embeddings_497b08928741451d8eabcfeb2118d68b\n",
      "Loaded 203769 rows and 18 columns to katana-clusters-beta.fsi_elliptic.elliptic_embeddings_497b08928741451d8eabcfeb2118d68b\n",
      "\n",
      "Host 3 output:\n",
      "Table created: katana-clusters-beta.fsi_elliptic.elliptic_embeddings_497b08928741451d8eabcfeb2118d68b\n",
      "Loaded 203769 rows and 18 columns to katana-clusters-beta.fsi_elliptic.elliptic_embeddings_497b08928741451d8eabcfeb2118d68b\n"
     ]
    },
    {
     "data": {
      "application/vnd.jupyter.widget-view+json": {
       "model_id": "05b2fa0456b64a5093c1dd53330f5e0e",
       "version_major": 2,
       "version_minor": 0
      },
      "text/plain": [
       "          0/? [?op/s]"
      ]
     },
     "metadata": {},
     "output_type": "display_data"
    },
    {
     "name": "stdout",
     "output_type": "stream",
     "text": [
      "\n",
      "Host 0 output:\n",
      "Table created: katana-clusters-beta.fsi_elliptic.account_mapping_497b08928741451d8eabcfeb2118d68b\n",
      "Loaded 203769 rows and 6 columns to katana-clusters-beta.fsi_elliptic.account_mapping_497b08928741451d8eabcfeb2118d68b\n",
      "\n",
      "Host 1 output:\n",
      "Table created: katana-clusters-beta.fsi_elliptic.account_mapping_497b08928741451d8eabcfeb2118d68b\n",
      "Loaded 203769 rows and 6 columns to katana-clusters-beta.fsi_elliptic.account_mapping_497b08928741451d8eabcfeb2118d68b\n",
      "\n",
      "Host 2 output:\n",
      "Table created: katana-clusters-beta.fsi_elliptic.account_mapping_497b08928741451d8eabcfeb2118d68b\n",
      "Loaded 203769 rows and 6 columns to katana-clusters-beta.fsi_elliptic.account_mapping_497b08928741451d8eabcfeb2118d68b\n",
      "\n",
      "Host 3 output:\n",
      "Table created: katana-clusters-beta.fsi_elliptic.account_mapping_497b08928741451d8eabcfeb2118d68b\n",
      "Loaded 203769 rows and 6 columns to katana-clusters-beta.fsi_elliptic.account_mapping_497b08928741451d8eabcfeb2118d68b\n"
     ]
    }
   ],
   "source": [
    "pipeline_uri = elliptic_node_classification_job.infer_embeddings(\n",
    "    elliptic_graph, \n",
    "    project_id\n",
    "    )"
   ]
  },
  {
   "cell_type": "code",
   "execution_count": 8,
   "metadata": {},
   "outputs": [
    {
     "name": "stdout",
     "output_type": "stream",
     "text": [
      "497b08928741451d8eabcfeb2118d68b\n"
     ]
    }
   ],
   "source": [
    "print(pipeline_uri)"
   ]
  },
  {
   "cell_type": "code",
   "execution_count": 9,
   "metadata": {},
   "outputs": [],
   "source": [
    "if (config['model']['pipeline_uri'] != pipeline_uri) or (config['model']['pipeline_uri'] is None):\n",
    "    config['model']['pipeline_uri'] = pipeline_uri\n",
    "with open('config.yaml', 'w') as f:\n",
    "    config = yaml.dump(config, stream=f,\n",
    "                       default_flow_style=False, sort_keys=False)"
   ]
  }
 ],
 "metadata": {
  "kernelspec": {
   "display_name": "Python 3 (ipykernel)",
   "language": "python",
   "name": "python3"
  },
  "language_info": {
   "codemirror_mode": {
    "name": "ipython",
    "version": 3
   },
   "file_extension": ".py",
   "mimetype": "text/x-python",
   "name": "python",
   "nbconvert_exporter": "python",
   "pygments_lexer": "ipython3",
   "version": "3.8.13"
  },
  "vscode": {
   "interpreter": {
    "hash": "4c2b8563932708ac4f64e3bc4797ea8eb43fc7530baa7f01daadf5b46d7b1fd4"
   }
  }
 },
 "nbformat": 4,
 "nbformat_minor": 4
}
