{
 "cells": [
  {
   "cell_type": "code",
   "execution_count": 7,
   "id": "6ae937b5-145d-4808-addb-246623470b46",
   "metadata": {},
   "outputs": [
    {
     "name": "stdout",
     "output_type": "stream",
     "text": [
      "'arg1' was: NULL\n",
      "'arg1' was: NULL\n",
      "'arg1' was : 7\n"
     ]
    }
   ],
   "source": [
    "\n",
    "def abc(arg1 = None):\n",
    "\n",
    "   if (arg1 is None):\n",
    "      print(\"'arg1' was: NULL\")\n",
    "   else:\n",
    "     print(\"'arg1' was : \" + str(arg1))\n",
    "            \n",
    "            \n",
    "my_arg = None\n",
    "   #\n",
    "abc()\n",
    "            \n",
    "my_arg = None\n",
    "   #\n",
    "abc(my_arg)\n",
    "            \n",
    "my_arg = 7\n",
    "   #\n",
    "abc(my_arg)\n",
    "\n",
    "   "
   ]
  }
 ],
 "metadata": {
  "kernelspec": {
   "display_name": "Python 3 (ipykernel)",
   "language": "python",
   "name": "python3"
  },
  "language_info": {
   "codemirror_mode": {
    "name": "ipython",
    "version": 3
   },
   "file_extension": ".py",
   "mimetype": "text/x-python",
   "name": "python",
   "nbconvert_exporter": "python",
   "pygments_lexer": "ipython3",
   "version": "3.8.13"
  }
 },
 "nbformat": 4,
 "nbformat_minor": 5
}
