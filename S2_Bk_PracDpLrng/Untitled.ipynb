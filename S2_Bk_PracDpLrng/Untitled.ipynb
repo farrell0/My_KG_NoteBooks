{
 "cells": [
  {
   "cell_type": "code",
   "execution_count": 80,
   "id": "bb4d746f-328c-42b1-87bd-75ee681009dd",
   "metadata": {},
   "outputs": [
    {
     "name": "stdout",
     "output_type": "stream",
     "text": [
      "--\n"
     ]
    }
   ],
   "source": [
    "\n",
    "from tabulate import tabulate\n",
    "\n",
    "\n",
    "class MyHistory:\n",
    "  \n",
    "   def __init__(self):\n",
    "      self.__l_histarr = []\n",
    "      self.current     = 0\n",
    "    \n",
    "   def add(self, i_str):\n",
    "      self.__l_histarr.append(i_str)\n",
    "        \n",
    "   def clear(self):\n",
    "      self.__l_histarr = []\n",
    "        \n",
    "\n",
    "   def __iter__(self):\n",
    "      return self\n",
    "\n",
    "   def __next__(self): \n",
    "      self.current += 1\n",
    "      if (self.current <= len(self.__l_histarr)):\n",
    "         print(\"QQQ\")\n",
    "         print(self.__l_histarr[self.current -1])\n",
    "         print(\"QQQ\")\n",
    "         return self.__l_histarr[1][self.current -1]\n",
    "      else:\n",
    "         self.current = 0\n",
    "         raise StopIteration\n",
    "\n",
    "\n",
    "   def __str__(self):\n",
    "      return(str(self.__l_histarr))\n",
    "\n",
    "\n",
    "l_history = MyHistory() \n",
    "\n",
    "print(\"--\")\n",
    "\n"
   ]
  },
  {
   "cell_type": "code",
   "execution_count": 79,
   "id": "91912cf7-6412-480a-8094-7d537de63207",
   "metadata": {},
   "outputs": [
    {
     "name": "stdout",
     "output_type": "stream",
     "text": [
      "QQQ\n",
      "QQQ\n",
      "-\n",
      "E\n",
      "E\n",
      "-\n"
     ]
    }
   ],
   "source": [
    "\n",
    "l_history.clear()\n",
    "\n",
    "l_history.add(\"DDD\")\n",
    "l_history.add(\"EEE\")\n",
    "\n",
    "#  print(l_history)\n",
    "print(tabulate(l_history))\n",
    "\n",
    "#  l_history.clear()\n",
    "#  \n",
    "#  l_history.add(\"FFF\")\n",
    "#  \n",
    "#  print(l_history)\n",
    "\n",
    "\n",
    "#  print(l_history)\n",
    "\n"
   ]
  },
  {
   "cell_type": "code",
   "execution_count": 60,
   "id": "5c6bbdc9-4006-4db4-a114-f7a0b867f40e",
   "metadata": {},
   "outputs": [
    {
     "name": "stdout",
     "output_type": "stream",
     "text": [
      "['DDD', 'EEE']\n"
     ]
    }
   ],
   "source": [
    "\n",
    "\n",
    "print(l_history)\n",
    "\n"
   ]
  },
  {
   "cell_type": "code",
   "execution_count": 62,
   "id": "11354f6d-1e29-4fae-9b8a-05a0a60d2a2c",
   "metadata": {},
   "outputs": [
    {
     "name": "stdout",
     "output_type": "stream",
     "text": [
      "-  -  -  -  -  -\n",
      "F  F  F  F  F  F\n",
      "-  -  -  -  -  -\n"
     ]
    }
   ],
   "source": [
    "\n",
    "print(tabulate(l_history))\n",
    "\n"
   ]
  },
  {
   "cell_type": "code",
   "execution_count": 69,
   "id": "724e58e8-e194-4c62-9a61-0a78f212a408",
   "metadata": {},
   "outputs": [
    {
     "name": "stdout",
     "output_type": "stream",
     "text": [
      " FFFFFF\n"
     ]
    }
   ],
   "source": [
    "\n",
    "\n",
    "for c in l_history:\n",
    "    print(\" \" + c)\n",
    "    \n",
    "    \n",
    "    "
   ]
  },
  {
   "cell_type": "code",
   "execution_count": null,
   "id": "2511b91a-c1c3-441c-9259-cf93cc052589",
   "metadata": {},
   "outputs": [],
   "source": []
  },
  {
   "cell_type": "code",
   "execution_count": 83,
   "id": "97d68454-bc0c-451d-b2f7-f5fe5f3336d6",
   "metadata": {},
   "outputs": [
    {
     "name": "stdout",
     "output_type": "stream",
     "text": [
      "*** Iterate over the team object using for loop ***\n",
      "LLL('Sam', 'junior')\n",
      "LLL('John', 'junior')\n",
      "LLL('Marshal', 'junior')\n",
      "LLL('Riti', 'senior')\n",
      "LLL('Rani', 'senior')\n",
      "LLL('Aadi', 'senior')\n"
     ]
    }
   ],
   "source": [
    "\n",
    "class TeamIterator:\n",
    "   ''' Iterator class '''\n",
    "   def __init__(self, team):\n",
    "       # Team object reference\n",
    "       self._team = team\n",
    "       # member variable to keep track of current index\n",
    "       self._index = 0\n",
    "\n",
    "   def __next__(self):\n",
    "       ''''Returns the next value from team object's lists '''\n",
    "       if self._index < (len(self._team._juniorMembers) + len(self._team._seniorMembers)) :\n",
    "           if self._index < len(self._team._juniorMembers): # Check if junior members are fully iterated or not\n",
    "               result = (self._team._juniorMembers[self._index] , 'junior')\n",
    "           else:\n",
    "               result = (self._team._seniorMembers[self._index - len(self._team._juniorMembers)]   , 'senior')\n",
    "           self._index +=1\n",
    "           return result\n",
    "       # End of Iteration\n",
    "       raise StopIteration\n",
    "\n",
    "\n",
    "\n",
    "class Team:\n",
    "   '''\n",
    "   Contains List of Junior and senior team members and also overrides the __iter__() function.\n",
    "   '''\n",
    "   def __init__(self):\n",
    "       self._juniorMembers = list()\n",
    "       self._seniorMembers = list()\n",
    "\n",
    "   def addJuniorMembers(self, members):\n",
    "       self._juniorMembers += members\n",
    "\n",
    "   def addSeniorMembers(self, members):\n",
    "       self._seniorMembers += members\n",
    "\n",
    "   def __iter__(self):\n",
    "       ''' Returns the Iterator object '''\n",
    "       return TeamIterator(self)\n",
    "\n",
    "\n",
    "\n",
    "def main():\n",
    "    # Create team class object\n",
    "    team = Team()\n",
    "    # Add name of junior team members\n",
    "    team.addJuniorMembers(['Sam', 'John', 'Marshal'])\n",
    "    # Add name of senior team members\n",
    "    team.addSeniorMembers(['Riti', 'Rani', 'Aadi'])\n",
    "\n",
    "    print('*** Iterate over the team object using for loop ***')\n",
    "\n",
    "    # Iterate over team object(Iterable)\n",
    "    for member in team:\n",
    "        print(\"LLL\" + str(member))\n",
    "\n",
    "#   print('*** Iterate over the team object using while loop ***')\n",
    "\n",
    "#   # Get Iterator object from Iterable Team class oject\n",
    "#   iterator = iter(team)\n",
    "\n",
    "#   # Iterate over the team object using iterator\n",
    "#   while True:\n",
    "#       try:\n",
    "#           # Get next element from TeamIterator object using iterator object\n",
    "#           elem = next(iterator)\n",
    "#           # Print the element\n",
    "#           print(elem)\n",
    "#       except StopIteration:\n",
    "#           break\n",
    "\n",
    "if __name__ == '__main__':\n",
    "  main()\n"
   ]
  },
  {
   "cell_type": "code",
   "execution_count": null,
   "id": "7ff37beb-d11d-472a-9f4c-1d5f79f97898",
   "metadata": {},
   "outputs": [],
   "source": []
  }
 ],
 "metadata": {
  "kernelspec": {
   "display_name": "Python 3 (ipykernel)",
   "language": "python",
   "name": "python3"
  },
  "language_info": {
   "codemirror_mode": {
    "name": "ipython",
    "version": 3
   },
   "file_extension": ".py",
   "mimetype": "text/x-python",
   "name": "python",
   "nbconvert_exporter": "python",
   "pygments_lexer": "ipython3",
   "version": "3.8.13"
  }
 },
 "nbformat": 4,
 "nbformat_minor": 5
}
