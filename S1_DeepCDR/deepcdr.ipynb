{
 "cells": [
  {
   "cell_type": "markdown",
   "id": "8a6f3e40-04bd-4c3a-a3ab-065f042aed5a",
   "metadata": {},
   "source": [
    "## Drug Repurposing: A Hybrid Graph Convolutional Network for Predicting Cancer Drug Response"
   ]
  },
  {
   "cell_type": "markdown",
   "id": "b46d0aeb-8597-4975-8cda-1f71fef2ed2b",
   "metadata": {},
   "source": [
    "<center><img src=\"./images/model.png\" style=\"width:70%;\"></center>"
   ]
  },
  {
   "cell_type": "markdown",
   "id": "01707552-4c95-4a67-bd25-7e252e231d8f",
   "metadata": {},
   "source": [
    "<center><img src=\"./images/result_table.png\" style=\"width:40%; padding: 0px 0px 10% 0px;\"><img src=\"images/result_plot.png\" style=\"width:40%\"></center>"
   ]
  },
  {
   "cell_type": "markdown",
   "id": "306a386f-6a70-4498-9eba-d2cff983cfff",
   "metadata": {},
   "source": [
    "## Katana AI Pipeline for End to End Drug Repurposing"
   ]
  },
  {
   "cell_type": "markdown",
   "id": "342f499e-4c45-43d6-91bf-234374e99406",
   "metadata": {},
   "source": [
    "<img src=\"images/pipeline_full.png\" style=\"width: 1500px;\"/>"
   ]
  },
  {
   "cell_type": "code",
   "execution_count": null,
   "id": "0632aedd-02c8-40cf-b1e5-d6b7dc251f55",
   "metadata": {},
   "outputs": [],
   "source": [
    "%load_ext autoreload\n",
    "%autoreload 2\n",
    "import warnings\n",
    "\n",
    "from katana import remote\n",
    "from katana.remote import import_data\n",
    "\n",
    "warnings.filterwarnings(\"ignore\")\n",
    "client = remote.Client()\n",
    "graph = client.create_graph(num_partitions=4)\n",
    "import_data.rdg(graph, \"gs://hls-dataset-bucket/demo/DeepCDR\")\n",
    "\n",
    "print(\"{} nodes, {} edges\".format(graph.num_nodes(), graph.num_edges()))"
   ]
  },
  {
   "cell_type": "code",
   "execution_count": null,
   "id": "f3827356-8e6a-4983-87be-6334fabae4be",
   "metadata": {},
   "outputs": [],
   "source": [
    "# Print some basic statistics\n",
    "graph.query(\n",
    "    \"\"\"MATCH (a:DRUG)<-[:FOR_DRUG]-(g:GDSC)-[:HAS_CELL_LINE]->(c:CELL_LINE)\n",
    "RETURN COUNT(Distinct a) as DRUG, COUNT(Distinct g) as GDSC, COUNT(Distinct c) as CELL_LINE,\n",
    "COUNT(a) as DRUG_CELL_LINE_PAIRS\"\"\"\n",
    ").head()"
   ]
  },
  {
   "cell_type": "code",
   "execution_count": null,
   "id": "367e1ce9-ce16-4564-b25a-ec5c1d1821d2",
   "metadata": {},
   "outputs": [],
   "source": [
    "graph.schema().view()"
   ]
  },
  {
   "cell_type": "markdown",
   "id": "d086603e-d2d4-45af-8afd-f91849e32f9a",
   "metadata": {},
   "source": [
    "## Initialize the Katana AI training pipeline"
   ]
  },
  {
   "cell_type": "markdown",
   "id": "a8adb855-cb4a-4cde-a9fa-bee51c095ca9",
   "metadata": {},
   "source": [
    "<img src=\"images/pipeline_preprocess.png\" style=\"width: 1500px;\"/>"
   ]
  },
  {
   "cell_type": "code",
   "execution_count": null,
   "id": "1931932a-3baf-429f-8ec0-1c0596734bf3",
   "metadata": {},
   "outputs": [],
   "source": [
    "from datetime import timedelta\n",
    "from timeit import default_timer\n",
    "\n",
    "from src import katana_pipeline\n",
    "\n",
    "rec_pipeline = katana_pipeline.RecipePipeline(graph)"
   ]
  },
  {
   "cell_type": "markdown",
   "id": "9ab20d54-7095-4134-998f-47eba135904d",
   "metadata": {},
   "source": [
    "## Load model and training hyperparameters"
   ]
  },
  {
   "cell_type": "code",
   "execution_count": null,
   "id": "81324d99-2178-4cdd-ac00-b65275b2ce20",
   "metadata": {},
   "outputs": [],
   "source": [
    "from config import hyperparams\n",
    "\n",
    "model_hp, training_hp = hyperparams.load_hyperparams()\n",
    "model_hp, training_hp"
   ]
  },
  {
   "cell_type": "markdown",
   "id": "83f5ed07-bbfc-45fd-a0ba-70cb68a5a53d",
   "metadata": {},
   "source": [
    "## Add features for training"
   ]
  },
  {
   "cell_type": "code",
   "execution_count": null,
   "id": "4ad1cca9-74b9-4e43-aa2e-aac854a9275b",
   "metadata": {},
   "outputs": [],
   "source": [
    "start_time = default_timer()\n",
    "rec_pipeline.feature_generator()\n",
    "feature_generation_time = default_timer() - start_time\n",
    "print(f\"***Took {feature_generation_time} seconds to generate the features.***\")\n",
    "assert timedelta(seconds=feature_generation_time) < timedelta(minutes=4, seconds=0)"
   ]
  },
  {
   "cell_type": "markdown",
   "id": "e5c6bb1a-7c59-43eb-b5a2-d9c06183bf29",
   "metadata": {},
   "source": [
    "## Initialize model training"
   ]
  },
  {
   "cell_type": "markdown",
   "id": "2df6ce75-84ea-4c86-9420-ea0d4f7668e9",
   "metadata": {},
   "source": [
    "<img src=\"images/pipeline_gnn.png\" style=\"width: 1500px;\"/>"
   ]
  },
  {
   "cell_type": "code",
   "execution_count": null,
   "id": "eb5be901-3db6-4895-80df-04b5f1713ddf",
   "metadata": {},
   "outputs": [],
   "source": [
    "start_time = default_timer()\n",
    "rec_pipeline.train(model_hp, training_hp)\n",
    "train_time = default_timer() - start_time\n",
    "print(f\"***Took {train_time} seconds to train the model.***\")"
   ]
  },
  {
   "cell_type": "code",
   "execution_count": null,
   "id": "48d6b29f-cc0e-4d72-a438-65027e41939e",
   "metadata": {},
   "outputs": [],
   "source": [
    "start_time = default_timer()\n",
    "test_res = rec_pipeline.test(training_hp)\n",
    "test_time = default_timer() - start_time\n",
    "print(f\"***Took {test_time} seconds to test the model.***\")\n",
    "assert timedelta(seconds=test_time) < timedelta(minutes=1, seconds=0)\n",
    "test_res"
   ]
  },
  {
   "cell_type": "code",
   "execution_count": null,
   "id": "5ec43d5c-07d9-456c-9aa6-c3d230b64991",
   "metadata": {
    "tags": []
   },
   "outputs": [],
   "source": [
    "start_time = default_timer()\n",
    "rec_pipeline.plot(training_hp)\n",
    "test_time = default_timer() - start_time\n",
    "print(f\"***Took {test_time} seconds to plot figures.***\")\n",
    "assert timedelta(seconds=test_time) < timedelta(minutes=1, seconds=0)"
   ]
  },
  {
   "cell_type": "markdown",
   "id": "f1411c92-b3ca-4340-94d6-2f3296607c31",
   "metadata": {},
   "source": [
    "## Run trained model for inference"
   ]
  },
  {
   "cell_type": "markdown",
   "id": "50716925-45aa-426b-adde-f79946d387ec",
   "metadata": {},
   "source": [
    "<img src=\"images/pipeline_inference.png\" style=\"width: 1500px;\"/>"
   ]
  },
  {
   "cell_type": "code",
   "execution_count": null,
   "id": "8abd2047-59fc-48b9-bcf3-1beaf7c2dbca",
   "metadata": {},
   "outputs": [],
   "source": [
    "start_time = default_timer()\n",
    "# Paclitaxel / OVKATE_OVARY cancer\n",
    "paclitaxel = (\n",
    "    \"CC1=C2C(C(=O)C3(C(CC4C(C3C(C(C2(C)C)(CC1OC(=O)C(C(C5=CC=CC=C5)\"\n",
    "    \"NC(=O)C6=CC=CC=C6)O)O)OC(=O)C7=CC=CC=C7)(CO4)OC(=O)C)O)C)OC(=O)C\"\n",
    ")\n",
    "test_res = rec_pipeline.infer(training_hp, paclitaxel, \"OVKATE_OVARY\")\n",
    "test_time = default_timer() - start_time\n",
    "print(f\"***Took {test_time} seconds for inference.***\")\n",
    "print(\"IC50 predicted: \", test_res)\n",
    "assert timedelta(seconds=test_time) < timedelta(seconds=30)"
   ]
  },
  {
   "cell_type": "markdown",
   "id": "97320404-c952-4b8d-94e9-ba6424c155ce",
   "metadata": {},
   "source": [
    "## Run trained model to save node embeddings"
   ]
  },
  {
   "cell_type": "code",
   "execution_count": null,
   "id": "5fadc229-457e-40f5-a0df-b1fd36a772ca",
   "metadata": {},
   "outputs": [],
   "source": [
    "start_time = default_timer()\n",
    "rec_pipeline.infer_embeddings(model_hp)\n",
    "feature_generation_time = default_timer() - start_time\n",
    "print(f\"***Took {feature_generation_time} seconds to save node embeddings.***\")\n",
    "assert timedelta(seconds=feature_generation_time) < timedelta(minutes=1, seconds=0)"
   ]
  }
 ],
 "metadata": {
  "katana": {
   "component": "AI",
   "max_num_hosts": 4
  },
  "kernelspec": {
   "display_name": "Python 3 (ipykernel)",
   "language": "python",
   "name": "python3"
  },
  "language_info": {
   "codemirror_mode": {
    "name": "ipython",
    "version": 3
   },
   "file_extension": ".py",
   "mimetype": "text/x-python",
   "name": "python",
   "nbconvert_exporter": "python",
   "pygments_lexer": "ipython3",
   "version": "3.8.15"
  }
 },
 "nbformat": 4,
 "nbformat_minor": 5
}
