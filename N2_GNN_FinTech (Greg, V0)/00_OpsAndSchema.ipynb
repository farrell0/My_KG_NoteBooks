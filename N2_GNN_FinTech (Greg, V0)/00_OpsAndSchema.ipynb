{
 "cells": [
  {
   "cell_type": "code",
   "execution_count": 1,
   "id": "8a83b01a-0464-48d0-a6db-c4444dfd2ed3",
   "metadata": {},
   "outputs": [
    {
     "name": "stderr",
     "output_type": "stream",
     "text": [
      "VERBOSE: ../../../../external/katana/libgalois/include/katana/AsyncPool.h:152: 3848: async pool tids: 140630260057856, 140630257956608, 140630255855360\n",
      "VERBOSE: ../../../../external/katana/libgalois/include/katana/AsyncPool.h:152: 3848: async pool tids: 140630253754112, 140630249555712\n",
      "VERBOSE: ../../../../external/katana/libgalois/include/katana/AsyncPool.h:152: 3848: async pool tids: 140630245357312, 140630236964608\n",
      "VERBOSE: ../../../../external/katana/libgalois/include/katana/AsyncPool.h:152: 3848: async pool tids: 140630228571904, 140630211790592\n",
      "VERBOSE: ../../../../external/katana/libgalois/include/katana/AsyncPool.h:152: 3848: async pool tids: 140630195009280, 140630192908032\n"
     ]
    },
    {
     "name": "stdout",
     "output_type": "stream",
     "text": [
      "<katana_enterprise.remote.sync_wrappers.Client object at 0x7fe74d810580>\n"
     ]
    }
   ],
   "source": [
    "from katana import remote\n",
    "from katana.remote import import_data\n",
    "\n",
    "\n",
    "my_client = remote.Client()\n",
    "\n",
    "print(my_client)\n"
   ]
  },
  {
   "cell_type": "code",
   "execution_count": 2,
   "id": "b8127716-da8b-4bd3-9e2f-f572146484bf",
   "metadata": {},
   "outputs": [
    {
     "name": "stdout",
     "output_type": "stream",
     "text": [
      "--\n"
     ]
    }
   ],
   "source": [
    "\n",
    "NUM_PARTITIONS = 8\n",
    "   #\n",
    "DB_NAME        = \"my_db\"\n",
    "GRAPH_NAME     = \"my_graph\"\n",
    "\n",
    "print(\"--\")"
   ]
  },
  {
   "cell_type": "code",
   "execution_count": 3,
   "id": "13ef93e6-96da-4048-ab39-03738961fb32",
   "metadata": {},
   "outputs": [
    {
     "name": "stdout",
     "output_type": "stream",
     "text": [
      "<_Graph my_graph, pM2Urok9hph2MNtLCxEnJRURz5Fi5B3ggseCfYV5KKf, 1>\n"
     ]
    }
   ],
   "source": [
    "#  CONNECT TO GRAPH\n",
    "\n",
    "for l_graph in my_client.graphs():\n",
    "   if (l_graph.name == GRAPH_NAME):\n",
    "      my_graph=my_client.get_database(name=DB_NAME).get_graph_by_id(id=l_graph.graph_id)\n",
    "        \n",
    "print(my_graph)"
   ]
  },
  {
   "cell_type": "code",
   "execution_count": null,
   "id": "bea31424-a8df-4110-90e6-3407ce766179",
   "metadata": {},
   "outputs": [],
   "source": [
    "# ##################################################################"
   ]
  },
  {
   "cell_type": "code",
   "execution_count": 9,
   "id": "e5f999b0-6df6-4a11-bbaa-181ae05abf67",
   "metadata": {},
   "outputs": [
    {
     "name": "stdout",
     "output_type": "stream",
     "text": [
      "--\n"
     ]
    }
   ],
   "source": [
    "#  DELETE ALL GRAPHS\n",
    "\n",
    "for l_database in my_client.databases():\n",
    "   for l_graph in my_client.get_database(name=l_database.name).graphs_in_database():\n",
    "      l_handle=my_client.get_database(name=l_database.name).get_graph_by_id(id=l_graph.graph_id)\n",
    "      l_handle.delete()\n",
    "\n",
    "for l_graph in my_client.graphs():\n",
    "   print(\"GRAPH ID: \", l_graph.graph_id, \"      GRAPH Version: \", l_graph.version)\n",
    "\n",
    "print(\"--\")\n"
   ]
  },
  {
   "cell_type": "code",
   "execution_count": null,
   "id": "bcec7021-bdd0-4faa-a4ff-a5dbd6be84d5",
   "metadata": {},
   "outputs": [],
   "source": [
    "#  DELETE ALL DATABASES\n",
    "\n",
    "for l_database in my_client.databases():\n",
    "   if (l_database.name != \"default\"):\n",
    "      my_client.get_database(name=l_database.name).delete_database()\n",
    "      print(\"--\")\n",
    "\n",
    "for l_database in my_client.databases():\n",
    "   print(\"DB ID: \", l_database.database_id, \"     DB Name: \", l_database.name)\n"
   ]
  },
  {
   "cell_type": "code",
   "execution_count": null,
   "id": "8268b3ac-7819-406f-ab6e-ea36c23cd9f2",
   "metadata": {},
   "outputs": [],
   "source": [
    "#  CREATE DATABASE\n",
    "\n",
    "my_database = my_client.create_database(name=DB_NAME)\n",
    "\n",
    "print(my_database.database_id)\n"
   ]
  },
  {
   "cell_type": "code",
   "execution_count": 7,
   "id": "d0ba1fe0-7921-402e-affd-b93ffdbb8751",
   "metadata": {},
   "outputs": [
    {
     "name": "stdout",
     "output_type": "stream",
     "text": [
      "<_Graph my_graph, ESxVjCt33SvvsL9THuoDgN4THQPKSHGdxR6D3DTMnoxW, 0>\n"
     ]
    }
   ],
   "source": [
    "#  CREATE GRAPH\n",
    "\n",
    "my_graph = my_client.get_database(name=DB_NAME).create_graph(name=GRAPH_NAME, num_partitions=NUM_PARTITIONS)\n",
    "\n",
    "print(my_graph)"
   ]
  },
  {
   "cell_type": "code",
   "execution_count": null,
   "id": "0455217d-f5c8-4e6b-a30d-bbb72a7cf3c6",
   "metadata": {},
   "outputs": [],
   "source": [
    "# ##################################################################"
   ]
  },
  {
   "cell_type": "code",
   "execution_count": null,
   "id": "7d656dd4-413d-45d6-be73-90b60541baf0",
   "metadata": {},
   "outputs": [],
   "source": [
    "\n",
    "display(print(my_graph.num_nodes()))\n",
    "display(print(my_graph.num_edges()))\n"
   ]
  },
  {
   "cell_type": "code",
   "execution_count": null,
   "id": "1a5d39d2-bed8-4592-a5df-c3d32a01e7ca",
   "metadata": {},
   "outputs": [],
   "source": [
    "my_client.widgets().operations()"
   ]
  },
  {
   "cell_type": "code",
   "execution_count": null,
   "id": "35c4f4cf-be90-42ce-80b8-ff8440dd9641",
   "metadata": {},
   "outputs": [],
   "source": [
    "my_graph.query(\"CALL graph.schema() RETURN *\")"
   ]
  },
  {
   "cell_type": "code",
   "execution_count": 5,
   "id": "6f94ed9d-54a9-4236-9065-1f15cf34b3de",
   "metadata": {},
   "outputs": [
    {
     "data": {
      "application/vnd.jupyter.widget-view+json": {
       "model_id": "64a91b1ca17b44d8ae8d4cb16b69463c",
       "version_major": 2,
       "version_minor": 0
      },
      "text/plain": [
       "          0/? [?op/s]"
      ]
     },
     "metadata": {},
     "output_type": "display_data"
    },
    {
     "data": {
      "application/vnd.jupyter.widget-view+json": {
       "model_id": "eab7ef0827434dbb919e4ab98fd0f432",
       "version_major": 2,
       "version_minor": 0
      },
      "text/plain": [
       "VBox(children=(HTML(value='\\n                <style>\\n                #jp-main-content-panel .widget-container…"
      ]
     },
     "metadata": {},
     "output_type": "display_data"
    }
   ],
   "source": [
    "\n",
    "#  Empty harness for any traversal to be plugged in ..\n",
    "\n",
    "l_result = my_graph.query(\"\"\"\n",
    "\n",
    "   MATCH (n) RETURN count(distinct labels(n))\n",
    "   \n",
    "   \"\"\", contextualize=True)\n",
    "\n",
    "l_result.view()\n"
   ]
  }
 ],
 "metadata": {
  "kernelspec": {
   "display_name": "Python 3 (ipykernel)",
   "language": "python",
   "name": "python3"
  },
  "language_info": {
   "codemirror_mode": {
    "name": "ipython",
    "version": 3
   },
   "file_extension": ".py",
   "mimetype": "text/x-python",
   "name": "python",
   "nbconvert_exporter": "python",
   "pygments_lexer": "ipython3",
   "version": "3.8.13"
  }
 },
 "nbformat": 4,
 "nbformat_minor": 5
}
