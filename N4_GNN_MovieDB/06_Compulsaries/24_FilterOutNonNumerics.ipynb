{
 "cells": [
  {
   "cell_type": "code",
   "execution_count": null,
   "id": "d776f754-ef98-4cbd-a423-647c483341ce",
   "metadata": {},
   "outputs": [],
   "source": [
    "\n",
    "#  Here we demonstrate the following Dask DataFrame techniques;\n",
    "#\n",
    "#     .  How to create a Dask DataFrame from an array.\n",
    "#\n",
    "#     .  Given a source Dask DataFrame, pivot a column that is a string into an array.\n",
    "#\n",
    "#        We might use this technique when given a flat file of data, that we derive\n",
    "#        nodes and edges from.\n"
   ]
  },
  {
   "cell_type": "code",
   "execution_count": 1,
   "id": "682150e3-6a50-4197-a239-80d1d2ea6edd",
   "metadata": {},
   "outputs": [
    {
     "name": "stdout",
     "output_type": "stream",
     "text": [
      "--\n"
     ]
    }
   ],
   "source": [
    "\n",
    "NUM_PARTITIONS  = 3\n",
    "\n",
    "print(\"--\")\n"
   ]
  },
  {
   "cell_type": "code",
   "execution_count": 2,
   "id": "0416c10d-a1cb-433d-ad5e-85498aaa1744",
   "metadata": {},
   "outputs": [
    {
     "name": "stdout",
     "output_type": "stream",
     "text": [
      "--\n"
     ]
    }
   ],
   "source": [
    "\n",
    "import numpy as np\n",
    "import pandas as pd\n",
    "   #\n",
    "import dask.array as da\n",
    "import dask.dataframe as dd\n",
    "   #\n",
    "from dask.dataframe import from_pandas\n",
    "\n",
    "from tabulate import tabulate\n",
    "\n",
    "print(\"--\")\n"
   ]
  },
  {
   "cell_type": "code",
   "execution_count": 3,
   "id": "131298d0-5cb4-4b62-8413-5e5571ef4b6a",
   "metadata": {},
   "outputs": [
    {
     "name": "stdout",
     "output_type": "stream",
     "text": [
      "Names:  Mary               Bob, Tim, Dave                     19\n",
      "Names:  Joyce              Allen, Tom, Dave                   20\n",
      "Names:  Alice              Earl                               AA\n",
      "--\n"
     ]
    }
   ],
   "source": [
    "\n",
    "#  Create our source Dask DataFrame from an array\n",
    "\n",
    "np_names = np.array([\n",
    "       #\n",
    "   [\"Mary\"   , \"Bob, Tim, Dave\"      , \"19\"],\n",
    "   [\"Joyce\"  , \"Allen, Tom, Dave\"    , \"20\"],    \n",
    "   [\"Alice\"  , \"Earl\"                , \"AA\"],\n",
    "       #\n",
    "   ], dtype=\"str\")\n",
    "\n",
    "pd_names = pd.DataFrame(np_names, columns = [\"col1\", \"col2\", \"col3\"])\n",
    "   #\n",
    "dd_names = from_pandas(pd_names, npartitions = NUM_PARTITIONS)\n",
    "\n",
    "\n",
    "for l_each in dd_names.itertuples():\n",
    "   print(\"Names:  %-16s   %-32s   %s\" % (l_each.col1, l_each.col2, l_each.col3))\n",
    "\n",
    "print(\"--\")\n",
    "\n",
    "#  Sample output,\n",
    "#\n",
    "#     Names:  Mary               Bob, Tim, Dave                     19\n",
    "#     Names:  Joyce              Allen, Tom, Dave                   20\n",
    "#     Names:  Alice              Earl                               AA\n"
   ]
  },
  {
   "cell_type": "code",
   "execution_count": 4,
   "id": "828d62e9-1cf8-4eee-9147-f351961b95f4",
   "metadata": {},
   "outputs": [
    {
     "name": "stdout",
     "output_type": "stream",
     "text": [
      "Pandas(Index=0, col1='Mary', col2='Bob, Tim, Dave', col3='19')\n",
      "Pandas(Index=1, col1='Joyce', col2='Allen, Tom, Dave', col3='20')\n"
     ]
    }
   ],
   "source": [
    "\n",
    "#  Filter out non-numerics\n",
    "#\n",
    "\n",
    "dd_clean = dd_names[dd_names.col3.str.isnumeric()]\n",
    "\n",
    "for l_each in dd_clean.itertuples():\n",
    "   print(l_each)\n",
    "\n",
    "#  Sample output,\n",
    "#\n",
    "#     Pandas(Index=0, col1='Mary', col2='Bob, Tim, Dave', col3='19')\n",
    "#     Pandas(Index=1, col1='Joyce', col2='Allen, Tom, Dave', col3='20')\n"
   ]
  },
  {
   "cell_type": "code",
   "execution_count": 6,
   "id": "d256e350-7606-466c-a6d5-56dc8c83c271",
   "metadata": {},
   "outputs": [
    {
     "name": "stdout",
     "output_type": "stream",
     "text": [
      "Pandas(Index=0, col1='Mary', col2='Bob, Tim, Dave', col3='19')\n",
      "Pandas(Index=1, col1='Joyce', col2='Allen, Tom, Dave', col3='20')\n",
      "Pandas(Index=2, col1='Alice', col2='Earl', col3='AA')\n"
     ]
    }
   ],
   "source": [
    "\n",
    "#  Filter out specific numeric values\n",
    "#\n",
    "\n",
    "for l_each in dd_names.itertuples():\n",
    "   print(l_each)\n",
    "\n",
    "# df_data = df_data[df_data.id_asint != -1]\n"
   ]
  },
  {
   "cell_type": "code",
   "execution_count": null,
   "id": "240eab40-1c22-4732-9ec8-41575de58936",
   "metadata": {},
   "outputs": [],
   "source": []
  }
 ],
 "metadata": {
  "kernelspec": {
   "display_name": "Python 3 (ipykernel)",
   "language": "python",
   "name": "python3"
  },
  "language_info": {
   "codemirror_mode": {
    "name": "ipython",
    "version": 3
   },
   "file_extension": ".py",
   "mimetype": "text/x-python",
   "name": "python",
   "nbconvert_exporter": "python",
   "pygments_lexer": "ipython3",
   "version": "3.8.13"
  }
 },
 "nbformat": 4,
 "nbformat_minor": 5
}
