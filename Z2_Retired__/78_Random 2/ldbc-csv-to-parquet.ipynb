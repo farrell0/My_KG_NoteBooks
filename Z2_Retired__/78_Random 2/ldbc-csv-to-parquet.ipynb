{
 "cells": [
  {
   "cell_type": "markdown",
   "id": "46ff4746-b357-4439-8c0d-6362bbf3cb5f",
   "metadata": {},
   "source": [
    "# Convert LDBC dataset from CSV to Parquet\n",
    "This notebook crawls through the LDBC csv directory and converts csv to parquet files"
   ]
  },
  {
   "cell_type": "code",
   "execution_count": 1,
   "id": "c5969853-ac98-4f43-9e50-c8504f8bede0",
   "metadata": {},
   "outputs": [],
   "source": [
    "from pathlib import Path\n",
    "import pandas as pd\n",
    "import dask.dataframe as dd\n",
    "import numpy as np\n",
    "import pyarrow\n",
    "\n",
    "base_path = Path('/Users/andrew/datasets')\n",
    "dataset_path = base_path / 'sf-0.003/csv/bi/composite-projected-fk'\n",
    "output_path = base_path / 'sf-0.003/parquet/bi/composite-projected-fk'"
   ]
  },
  {
   "cell_type": "code",
   "execution_count": 2,
   "id": "d1d60b4a-6777-4d65-b16c-e8ff7ab07a72",
   "metadata": {},
   "outputs": [],
   "source": [
    "from datetime import date\n",
    "def csv_to_parquet(input_path:Path, output_path:Path, output_name_function):\n",
    "    df = dd.read_csv(input_path,\n",
    "                       delimiter='|',\n",
    "                       dtype={\n",
    "                           'id': int,\n",
    "                           'length': np.dtype('long'),\n",
    "                           'content': np.dtype('O'),\n",
    "                           'imageFile': np.dtype('O'),\n",
    "                           'classYear': np.dtype('long'),\n",
    "                           'workFrom': np.dtype('long'),\n",
    "                           'language': np.dtype('O'),\n",
    "                           'email': np.dtype('O'),\n",
    "                       },\n",
    "                       converters={\n",
    "                           'creationDate': lambda x: pd.to_datetime(x, unit='ns'),\n",
    "                           'deletionDate': lambda x: pd.to_datetime(x, unit='ns'),\n",
    "                           'birthday': lambda x: pd.to_datetime(x).date(),\n",
    "                           #'language': lambda x: x.split(';'),\n",
    "                           #'email': lambda x: x.split(';')\n",
    "                       })\n",
    "    df.to_parquet(output_path,\n",
    "                  name_function=output_name_function,\n",
    "                  write_index=False,\n",
    "                  write_metadata_file=False,\n",
    "                  engine=\"pyarrow\",\n",
    "                  version=\"2.6\")\n",
    "    \n",
    "def process_directory(input_directory:Path, output_directory:Path):\n",
    "    if not input_directory.is_dir():\n",
    "        return None\n",
    "    paths = [input_directory]\n",
    "    while paths:\n",
    "        path = paths.pop()\n",
    "        if not path.is_dir():\n",
    "            continue\n",
    "        for p in path.iterdir():\n",
    "            if p.match('*.csv'):\n",
    "                output_path = output_directory / p.relative_to(input_directory).parent\n",
    "                output_name_function = lambda x: f\"{p.stem}{x}.parquet\"\n",
    "                csv_to_parquet(p, output_path, output_name_function)\n",
    "            if p.is_dir():\n",
    "                paths.append(p)"
   ]
  },
  {
   "cell_type": "code",
   "execution_count": 3,
   "id": "6128d654-f469-4fbd-9072-f284ed23da2f",
   "metadata": {},
   "outputs": [],
   "source": [
    "process_directory(dataset_path, output_path)"
   ]
  }
 ],
 "metadata": {
  "kernelspec": {
   "display_name": "Python 3 (ipykernel)",
   "language": "python",
   "name": "python3"
  },
  "language_info": {
   "codemirror_mode": {
    "name": "ipython",
    "version": 3
   },
   "file_extension": ".py",
   "mimetype": "text/x-python",
   "name": "python",
   "nbconvert_exporter": "python",
   "pygments_lexer": "ipython3",
   "version": "3.9.7"
  }
 },
 "nbformat": 4,
 "nbformat_minor": 5
}
