{
 "cells": [
  {
   "cell_type": "code",
   "execution_count": 1,
   "id": "02e0d409-2203-4eac-9bd6-68363260be2a",
   "metadata": {},
   "outputs": [
    {
     "name": "stdout",
     "output_type": "stream",
     "text": [
      "0\n"
     ]
    }
   ],
   "source": [
    "\n",
    "\n",
    "\n",
    "8884,\"[{'id': 212, 'name': 'london england'}, {'id': 9937, 'name': 'suspense'}, {'id': 158456, 'name': 'masked vigilante'}]\"\n",
    "\n",
    "\n",
    "64,\"[{'id': 236, 'name': 'suicide'}, {'id': 514, 'name': 'spain'}, {'id': 570, 'name': 'rape'}, {'id': 732, 'name': 'coma'}, {'id': 734, 'name': 'bullfight'}, {'id': 735, 'name': 'torera'}, {'id': 736, 'name': 'journalist'}, {'id': 739, 'name': 'sexual abuse'}, {'id': 3737, 'name': 'dying and death'}, {'id': 6034, 'name': 'theatre milieu'}, {'id': 6054, 'name': 'friendship'}, {'id': 9844, 'name': 'car crash'}, {'id': 11612, 'name': 'hospital'}, {'id': 13149, 'name': 'pregnancy'}]\"\n",
    "\n",
    "\n"
   ]
  },
  {
   "cell_type": "code",
   "execution_count": 8,
   "id": "3bfbabdd-5063-41ce-908d-a972b2c6d3bc",
   "metadata": {},
   "outputs": [],
   "source": [
    "\n",
    "import json\n",
    "\n",
    "\n",
    "aaa = \"[{'id': 212, 'name': 'london england'}, {'id': 9937, 'name': 'suspense'}, {'id': 158456, 'name': 'masked vigilante'}]\"\n",
    "aaa2 = aaa.replace(\"'\", \"\\\"\")\n",
    "\n",
    "\n",
    "bbb = \"[{'id': 236, 'name': 'suicide'}, {'id': 514, 'name': 'spain'}, {'id': 570, 'name': 'rape'}, {'id': 732, 'name': 'coma'}, {'id': 734, 'name': 'bullfight'}, {'id': 735, 'name': 'torera'}, {'id': 736, 'name': 'journalist'}, {'id': 739, 'name': 'sexual abuse'}, {'id': 3737, 'name': 'dying and death'}, {'id': 6034, 'name': 'theatre milieu'}, {'id': 6054, 'name': 'friendship'}, {'id': 9844, 'name': 'car crash'}, {'id': 11612, 'name': 'hospital'}, {'id': 13149, 'name': 'pregnancy'}]\"\n",
    "bbb2 = bbb.replace(\"'\", \"\\\"\")\n",
    "\n",
    "\n",
    "fff = json.loads(bbb2)\n",
    "\n"
   ]
  },
  {
   "cell_type": "code",
   "execution_count": null,
   "id": "63fc6b2d-c7f0-43eb-bee3-be95d9d3f6f4",
   "metadata": {},
   "outputs": [],
   "source": []
  },
  {
   "cell_type": "code",
   "execution_count": null,
   "id": "27be49e9-9935-4bae-a152-53dce8ae53b9",
   "metadata": {},
   "outputs": [],
   "source": []
  }
 ],
 "metadata": {
  "kernelspec": {
   "display_name": "Python 3 (ipykernel)",
   "language": "python",
   "name": "python3"
  },
  "language_info": {
   "codemirror_mode": {
    "name": "ipython",
    "version": 3
   },
   "file_extension": ".py",
   "mimetype": "text/x-python",
   "name": "python",
   "nbconvert_exporter": "python",
   "pygments_lexer": "ipython3",
   "version": "3.8.13"
  }
 },
 "nbformat": 4,
 "nbformat_minor": 5
}
