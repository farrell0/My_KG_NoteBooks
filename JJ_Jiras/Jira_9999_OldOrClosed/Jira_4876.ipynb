{
 "cells": [
  {
   "cell_type": "code",
   "execution_count": null,
   "id": "bf593b56-5f63-48d5-a435-a9d81280b46a",
   "metadata": {},
   "outputs": [],
   "source": [
    "import os\n",
    "\n",
    "from katana import remote\n",
    "from katana.remote import import_data\n",
    "\n",
    "\n",
    "my_client = remote.Client()\n",
    "\n",
    "print(my_client)\n"
   ]
  },
  {
   "cell_type": "code",
   "execution_count": null,
   "id": "677cc343-73ea-4036-b04e-d244cc991f21",
   "metadata": {},
   "outputs": [],
   "source": [
    "NUM_PARTITIONS  = 3\n",
    "   #\n",
    "DB_NAME         = \"my_db\"\n",
    "GRAPH_NAME      = \"my_graph\"\n",
    "\n",
    "print(\"--\")"
   ]
  },
  {
   "cell_type": "code",
   "execution_count": null,
   "id": "9815c993-a6d8-4152-b03b-e04e71c66d0f",
   "metadata": {},
   "outputs": [],
   "source": [
    "#  CONNECT TO GRAPH\n",
    "\n",
    "for l_graph in my_client.get_database(name=DB_NAME).graphs_in_database():\n",
    "   if (l_graph.name == GRAPH_NAME):\n",
    "      my_graph=my_client.get_database(name=DB_NAME).get_graph_by_id(id=l_graph.graph_id)\n",
    "         #\n",
    "      break\n",
    "\n",
    "print(my_graph)\n"
   ]
  },
  {
   "cell_type": "code",
   "execution_count": null,
   "id": "57feb01b-a988-4ffd-a97b-206940fd63b6",
   "metadata": {},
   "outputs": [],
   "source": [
    "#  CREATE A GRAPH\n",
    "\n",
    "my_graph=my_client.get_database(name=DB_NAME).create_graph(name=GRAPH_NAME, num_partitions=2)\n",
    "\n",
    "print(my_graph)\n"
   ]
  },
  {
   "cell_type": "code",
   "execution_count": null,
   "id": "cd720edd-6f47-4a9f-b5b4-6e7990869662",
   "metadata": {},
   "outputs": [],
   "source": [
    "#  DELETE ALL GRAPHS\n",
    "\n",
    "\n",
    "for l_database in my_client.databases():\n",
    "   for l_graph in my_client.get_database(name=l_database.name).graphs_in_database():\n",
    "      l_handle=my_client.get_database(name=l_database.name).get_graph_by_id(id=l_graph.graph_id)\n",
    "      l_handle.delete()\n",
    "\n",
    "for l_graph in my_client.graphs():\n",
    "   print(\"GRAPH ID: \", l_graph.graph_id, \"      GRAPH Version: \", l_graph.version)\n",
    "\n",
    "print(\"--\")"
   ]
  },
  {
   "cell_type": "code",
   "execution_count": null,
   "id": "37d46899-87b3-4b87-b24e-801e2a89d26d",
   "metadata": {},
   "outputs": [],
   "source": [
    "display(my_graph.num_nodes())\n",
    "display(my_graph.num_edges())\n"
   ]
  },
  {
   "cell_type": "code",
   "execution_count": null,
   "id": "7fe11941-c10c-48d0-817b-ddb92246ea7f",
   "metadata": {},
   "outputs": [],
   "source": [
    "# ##################################################################"
   ]
  },
  {
   "cell_type": "code",
   "execution_count": null,
   "id": "67f6b7aa-2f28-457f-9226-5ee750b48c5b",
   "metadata": {},
   "outputs": [],
   "source": [
    "#  IMPORT DATA INTO GRAPH USING CSV\n",
    "\n",
    "# l_inp=\"gs://katana-demo-datasets/csv-datasets/ldbc/headers/sf-0.003-bi-node_headers.txt\"\n",
    "# l_enp=\"gs://katana-demo-datasets/csv-datasets/ldbc/headers/sf-0.003-bi-edge_headers.txt\"\n",
    "   #\n",
    "# l_dir=\"gs://katana-demo-datasets/csv-datasets/ldbc\"\n",
    "\n",
    "l_inp=\"gs://farrell-ldbc/headers-csv/sf-1000-bi-node_headers.txt\"\n",
    "l_enp=\"gs://farrell-ldbc/headers-csv/sf-1000-bi-edge_headers.txt\"\n",
    "   #\n",
    "l_dir=\"gs://farrell-ldbc/sf-1000-csv\"\n",
    "\n",
    "# l_inp=\"gs://farrell-private/sf-0.003-bi-node_headers2.txt\"\n",
    "# l_dir=\"gs://farrell-private/\"\n",
    "\n",
    "# l_inp=\"gs://farrell-data-bucket/30_NodeHeader.2.txt\"\n",
    "# l_dir=\"gs://farrell-data-bucket/\"\n",
    "\n",
    "import_data.csv(\n",
    "   my_graph,\n",
    "      #\n",
    "   input_node_path     = l_inp,\n",
    "   input_edge_path     = l_enp,\n",
    "   input_dir           = l_dir,\n",
    "      #\n",
    "   data_delimiter      = \"|\",\n",
    "   schema_delimiter    = \"|\",\n",
    "   files_have_headers  = True\n",
    "   )\n",
    "\n",
    "print(\"--\")\n"
   ]
  },
  {
   "cell_type": "code",
   "execution_count": null,
   "id": "ec5aab94-68c1-4472-8b3d-68cc943e2d13",
   "metadata": {},
   "outputs": [],
   "source": [
    "display(my_graph.num_nodes())\n",
    "display(my_graph.num_edges())\n"
   ]
  },
  {
   "cell_type": "code",
   "execution_count": null,
   "id": "04a96ce1-f8ab-4f38-a7f3-4c0ca1fbe2bb",
   "metadata": {},
   "outputs": [],
   "source": [
    "\n",
    "#  Thomas code here\n",
    "\n",
    "\n",
    "curl -s http://localhost:8080/v2/operations | jq \".[]|.[] | select(.status==\\\"Running\\\")\"\n",
    "\n",
    "op=`curl -s http://localhost:8080/v2/operations | jq \".[]|.[] | select(.status==\\\"Running\\\")\" | grep \"\\\"operation_id\\\":\" | head -1 | sed 's/\"//g' | sed 's/,//g' | awk '{print $2}'`\n",
    "\n",
    "\n",
    "# paste operation ID here:\n",
    "# op=\"2oXq1d5nCnaKZTKbiedJ8k1J85WTstERmPzy8Jv5NFAj-3NvNaaZg684aXsa37\"\n",
    "\n",
    "\n",
    "# then run:\n",
    "curl -X POST http://localhost:8080/v2/operation/${op}/cancel\n"
   ]
  }
 ],
 "metadata": {
  "kernelspec": {
   "display_name": "Python 3 (ipykernel)",
   "language": "python",
   "name": "python3"
  },
  "language_info": {
   "codemirror_mode": {
    "name": "ipython",
    "version": 3
   },
   "file_extension": ".py",
   "mimetype": "text/x-python",
   "name": "python",
   "nbconvert_exporter": "python",
   "pygments_lexer": "ipython3",
   "version": "3.8.13"
  }
 },
 "nbformat": 4,
 "nbformat_minor": 5
}
