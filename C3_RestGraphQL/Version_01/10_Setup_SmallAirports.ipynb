{
 "cells": [
  {
   "cell_type": "code",
   "execution_count": null,
   "id": "6cde0bca-c139-47ae-a1c3-9b9becc3f7cb",
   "metadata": {},
   "outputs": [],
   "source": [
    "\n",
    "#  Jupyter NoteBook to make a graph with (n) nodes/vertices of Label: Airport\n",
    "#\n"
   ]
  },
  {
   "cell_type": "markdown",
   "id": "d3ebe820-bc6d-4948-b668-8b81cd3cbf29",
   "metadata": {
    "tags": []
   },
   "source": [
    "#  Setup stuff: Connectivity"
   ]
  },
  {
   "cell_type": "code",
   "execution_count": null,
   "id": "1ea957d6-30c6-427a-ae4e-15ecfba0c4f9",
   "metadata": {},
   "outputs": [],
   "source": [
    "\n",
    "import pandas as pd\n",
    "   #\n",
    "from katana import remote\n",
    "from katana.remote import import_data\n",
    "   #\n",
    "from tabulate import tabulate\n",
    "\n",
    "\n",
    "my_client = remote.Client()\n",
    "   #\n",
    "print(\"Katana Client handle: %s\" % (str(my_client)) )\n"
   ]
  },
  {
   "cell_type": "code",
   "execution_count": null,
   "id": "97571016-7c02-4e90-a75a-136a0dacd35f",
   "metadata": {},
   "outputs": [],
   "source": [
    "\n",
    "NUM_PARTITIONS  = 3\n",
    "   #\n",
    "DB_NAME         = \"my_db\"\n",
    "GRAPH_NAME      = \"my_graph\"\n",
    "\n",
    "print(\"--\")\n"
   ]
  },
  {
   "cell_type": "code",
   "execution_count": null,
   "id": "9aeec365-37e9-4117-bf9f-2c8d7948c9c7",
   "metadata": {},
   "outputs": [],
   "source": [
    "\n",
    "#  If for whatever reason you wish to reset, this will delete our graph\n",
    "#\n",
    "\n",
    "for l_database in my_client.databases():\n",
    "   for l_graph in my_client.get_database(name = l_database.name).graphs_in_database():\n",
    "      if ((l_database.name == DB_NAME) and (l_graph.name == GRAPH_NAME)):   \n",
    "         l_handle = my_client.get_database(name = l_database.name).get_graph_by_id(id = l_graph.graph_id)\n",
    "         l_handle.delete()\n",
    "         print(\"Graph deleted: %s\" % (GRAPH_NAME) )\n",
    "\n",
    "print(\"--\")\n"
   ]
  },
  {
   "cell_type": "code",
   "execution_count": null,
   "id": "6e72729c-265b-40e4-a3ee-674b793bed81",
   "metadata": {},
   "outputs": [],
   "source": [
    "\n",
    "#  Create database\n",
    "\n",
    "my_database = my_client.create_database(name = DB_NAME)\n",
    "\n",
    "print(my_database.database_id)\n"
   ]
  },
  {
   "cell_type": "code",
   "execution_count": null,
   "id": "2fc31da4-44c3-4bd3-b160-b315766dcd88",
   "metadata": {},
   "outputs": [],
   "source": [
    "\n",
    "#  Create graph\n",
    "#\n",
    "my_graph = my_client.get_database(name=DB_NAME).create_graph(name=GRAPH_NAME, num_partitions=NUM_PARTITIONS)\n",
    "\n",
    "print(my_graph)\n"
   ]
  },
  {
   "cell_type": "code",
   "execution_count": null,
   "id": "c5db6505-7fc8-4779-b194-9ed8945b9a90",
   "metadata": {},
   "outputs": [],
   "source": [
    "\n",
    "#  Connect to graph\n",
    "\n",
    "my_graph, *_ = my_client.get_database(name=DB_NAME).find_graphs_by_name(GRAPH_NAME)\n",
    "\n",
    "print(my_graph)\n"
   ]
  },
  {
   "cell_type": "markdown",
   "id": "61556ce5-9044-42bc-bb13-80b6a514ae27",
   "metadata": {
    "tags": []
   },
   "source": [
    "# Create: Vertices/nodes, edges .."
   ]
  },
  {
   "cell_type": "code",
   "execution_count": null,
   "id": "8e7ecf31-d69e-4b5a-8a37-0cfb4c32fd33",
   "metadata": {},
   "outputs": [],
   "source": [
    "\n",
    "#  Vertices/Nodes, Airports ..\n",
    "\n",
    "df_airports = pd.DataFrame([\n",
    "       #\n",
    "   [\"MKE\", \"Milwaukee\"               , \"Airport\"],\n",
    "   [\"ORD\", \"Chicago O-Hare\"          , \"Airport\"],\n",
    "   [\"SJC\", \"San Jose\"                , \"Airport\"],\n",
    "   [\"DEN\", \"Denver\"                  , \"Airport\"],\n",
    "       #\n",
    "   ], columns = [\"airport_code\", \"airport_name\", \"LABEL\"])\n",
    "\n",
    "print(tabulate(df_airports, headers='keys', tablefmt='psql'))\n"
   ]
  },
  {
   "cell_type": "code",
   "execution_count": null,
   "id": "60eaac88-4dd5-47d3-94b3-0f5fd0b243f2",
   "metadata": {},
   "outputs": [],
   "source": [
    "#  Create the edge, flights ..\n",
    "\n",
    "df_flights = pd.DataFrame([\n",
    "      #\n",
    "   [\"MKE\", \"ORD\",   66, 1, \"FLIES_TO\" ],\n",
    "   [\"ORD\", \"MKE\",   66, 1, \"FLIES_TO\" ],\n",
    "      #\n",
    "   [\"ORD\", \"DEN\",  886, 1, \"FLIES_TO\" ],\n",
    "   [\"DEN\", \"ORD\",  886, 1, \"FLIES_TO\" ],\n",
    "      #\n",
    "   [\"SJC\", \"DEN\",  948, 1, \"FLIES_TO\" ],                           #  Notice SJC flies to/from Denver\n",
    "   [\"DEN\", \"SJC\",  948, 1, \"FLIES_TO\" ],\n",
    "      #\n",
    "   [\"SJC\", \"ORD\", 1829, 1, \"FLIES_TO\" ],                           #  Notice SJC flies to ORD, but not ORD to SJC\n",
    "      #\n",
    "   ], columns = [\"START_ID\", \"END_ID\", \"DISTANCE\", \"NUM_HOPS\", \"TYPE\"])\n",
    "\n",
    "print(tabulate(df_flights, headers='keys', tablefmt='psql'))\n"
   ]
  },
  {
   "cell_type": "code",
   "execution_count": null,
   "id": "49e8f39e-4b4f-4377-a8ac-52a1ad07094f",
   "metadata": {},
   "outputs": [],
   "source": [
    "\n",
    "# Import the 2 previously created Python DataFrames into KatanaGraph ..\n",
    "\n",
    "with import_data.DataFrameImporter(my_graph) as df_importer:   \n",
    "    \n",
    "   df_importer.nodes_dataframe(df_airports,                    #  Aiport set of Nodes\n",
    "      id_column             = \"airport_code\",\n",
    "      id_space              = \"Airport\",  \n",
    "      label                 = \"Airport\",  \n",
    "      )\n",
    "   \n",
    "   df_importer.edges_dataframe(df_flights,                     #  Our Edge, specifying the relationship between Airport --> FLIES_TO --> Airport\n",
    "      source_id_space       = \"Airport\", \n",
    "      destination_id_space  = \"Airport\",   \n",
    "      source_column         = \"START_ID\",\n",
    "      destination_column    = \"END_ID\",\n",
    "      type                  = \"FLIES_TO\"\n",
    "      )\n",
    "\n",
    "   df_importer.insert()\n",
    "\n",
    "print(\"--\")\n"
   ]
  },
  {
   "cell_type": "code",
   "execution_count": 11,
   "id": "b9bbf601-a25b-4dd9-8f99-83ec1a576505",
   "metadata": {},
   "outputs": [
    {
     "data": {
      "application/vnd.jupyter.widget-view+json": {
       "model_id": "0d7f4b5a224b4bb5a9e394e63fac465a",
       "version_major": 2,
       "version_minor": 0
      },
      "text/plain": [
       "          0/? [?op/s]"
      ]
     },
     "metadata": {},
     "output_type": "display_data"
    },
    {
     "name": "stdout",
     "output_type": "stream",
     "text": [
      "+----+-----------------+-------------+-----------+------------------+------------------+--------------+\n",
      "|    |           id(n) | labels(n)   | n.LABEL   | n.airport_code   | n.airport_name   | n datatype   |\n",
      "|----+-----------------+-------------+-----------+------------------+------------------+--------------|\n",
      "|  0 |               0 | ['Airport'] | Airport   | SJC              | San Jose         | node         |\n",
      "|  1 | 281474976710656 | ['Airport'] | Airport   | DEN              | Denver           | node         |\n",
      "|  2 | 562949953421313 | ['Airport'] | Airport   | ORD              | Chicago O-Hare   | node         |\n",
      "|  3 | 562949953421312 | ['Airport'] | Airport   | MKE              | Milwaukee        | node         |\n",
      "+----+-----------------+-------------+-----------+------------------+------------------+--------------+\n"
     ]
    }
   ],
   "source": [
    "\n",
    "#  What's in the graph/nodes ..\n",
    "\n",
    "l_result = my_graph.query_unpaginated(\"\"\"\n",
    "   MATCH (n) \n",
    "   RETURN n\n",
    "   \"\"\")\n",
    "print(tabulate(l_result, headers='keys', tablefmt='psql'))\n",
    "\n",
    "#  Sample output,\n",
    "#\n",
    "#     +----+-----------------+-------------+-----------+------------------+------------------+--------------+\n",
    "#     |    |           id(n) | labels(n)   | n.LABEL   | n.airport_code   | n.airport_name   | n datatype   |\n",
    "#     |----+-----------------+-------------+-----------+------------------+------------------+--------------|\n",
    "#     |  0 | 281474976710656 | ['Airport'] | Airport   | MKE              | Milwaukee        | node         |\n",
    "#     |  1 | 281474976710657 | ['Airport'] | Airport   | ORD              | Chicago O-Hare   | node         |\n",
    "#     |  2 | 562949953421312 | ['Airport'] | Airport   | SJC              | San Jose         | node         |\n",
    "#     |  3 | 562949953421313 | ['Airport'] | Airport   | DEN              | Denver           | node         |\n",
    "#     +----+-----------------+-------------+-----------+------------------+------------------+--------------+\n"
   ]
  },
  {
   "cell_type": "code",
   "execution_count": null,
   "id": "6160bd57-15aa-4ff0-9269-9431e6f7dd2b",
   "metadata": {},
   "outputs": [],
   "source": [
    "\n",
    "#  What's in the edge .. \n",
    "\n",
    "l_result = my_graph.query_unpaginated(\"\"\"\n",
    "\n",
    "   MATCH (n) - [r] -> (m)\n",
    "   RETURN r\n",
    "   \n",
    "   \"\"\")\n",
    "\n",
    "print(tabulate(l_result, headers='keys', tablefmt='psql'))\n",
    "\n",
    "#  Sample output,\n",
    "#\n",
    "#     +----+------------------+----------------------+-----------------+-----------+--------------+--------------+----------+--------------------+------------------------+--------------+\n",
    "#     |    |   id(endNode(r)) | labels(endNode(r))   |           id(r) | type(r)   |   r.DISTANCE |   r.NUM_HOPS | r.TYPE   |   id(startNode(r)) | labels(startNode(r))   | r datatype   |\n",
    "#     |----+------------------+----------------------+-----------------+-----------+--------------+--------------+----------+--------------------+------------------------+--------------|\n",
    "#     |  0 |  281474976710656 | ['Airport']          | 281474976710656 | FLIES_TO  |           66 |            1 | FLIES_TO |    281474976710657 | ['Airport']            | edge         |\n",
    "#     |  1 |  562949953421313 | ['Airport']          | 281474976710658 | FLIES_TO  |          886 |            1 | FLIES_TO |    281474976710657 | ['Airport']            | edge         |\n",
    "#     |  2 |  281474976710657 | ['Airport']          | 281474976710657 | FLIES_TO  |           66 |            1 | FLIES_TO |    281474976710656 | ['Airport']            | edge         |\n",
    "#     |  3 |  562949953421313 | ['Airport']          | 562949953421313 | FLIES_TO  |          948 |            1 | FLIES_TO |    562949953421312 | ['Airport']            | edge         |\n",
    "#     |  4 |  281474976710657 | ['Airport']          | 562949953421314 | FLIES_TO  |         1829 |            1 | FLIES_TO |    562949953421312 | ['Airport']            | edge         |\n",
    "#     |  5 |  562949953421312 | ['Airport']          | 562949953421312 | FLIES_TO  |          948 |            1 | FLIES_TO |    562949953421313 | ['Airport']            | edge         |\n",
    "#     |  6 |  281474976710657 | ['Airport']          | 562949953421315 | FLIES_TO  |          886 |            1 | FLIES_TO |    562949953421313 | ['Airport']            | edge         |\n",
    "#     +----+------------------+----------------------+-----------------+-----------+--------------+--------------+----------+--------------------+------------------------+--------------+\n"
   ]
  },
  {
   "cell_type": "code",
   "execution_count": null,
   "id": "6f8aef3b-d0b3-4b0b-98a2-eaf5c58d7380",
   "metadata": {},
   "outputs": [],
   "source": []
  },
  {
   "cell_type": "code",
   "execution_count": null,
   "id": "a8942bca-e965-45da-9f11-23fc801ab8d0",
   "metadata": {},
   "outputs": [],
   "source": []
  }
 ],
 "metadata": {
  "kernelspec": {
   "display_name": "Python 3 (ipykernel)",
   "language": "python",
   "name": "python3"
  },
  "language_info": {
   "codemirror_mode": {
    "name": "ipython",
    "version": 3
   },
   "file_extension": ".py",
   "mimetype": "text/x-python",
   "name": "python",
   "nbconvert_exporter": "python",
   "pygments_lexer": "ipython3",
   "version": "3.8.13"
  }
 },
 "nbformat": 4,
 "nbformat_minor": 5
}
