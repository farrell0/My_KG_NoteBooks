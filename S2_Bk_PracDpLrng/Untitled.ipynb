{
 "cells": [
  {
   "cell_type": "code",
   "execution_count": null,
   "id": "340cf795-5d90-4e30-9e2a-a3af977c9f0f",
   "metadata": {},
   "outputs": [],
   "source": []
  },
  {
   "cell_type": "code",
   "execution_count": 3,
   "id": "d6b10e36-e99d-4ebf-baf3-35f17f59e1b7",
   "metadata": {},
   "outputs": [
    {
     "name": "stdout",
     "output_type": "stream",
     "text": [
      "--\n"
     ]
    }
   ],
   "source": [
    "\n",
    "import matplotlib.pyplot as plt\n",
    "import pandas as pd\n",
    "\n",
    "from sklearn.decomposition import PCA as sklearnPCA\n",
    "from sklearn.discriminant_analysis import LinearDiscriminantAnalysis as LDA\n",
    "\n",
    "\n",
    "# from sklearn.datasets.samples_generator import make_blobs\n",
    "from sklearn.datasets import make_blobs\n",
    "\n",
    "#  from pandas.tools.plotting import parallel_coordinates\n",
    "from pandas.plotting import parallel_coordinates\n",
    "\n",
    "\n",
    "print(\"--\")\n",
    "\n"
   ]
  },
  {
   "cell_type": "code",
   "execution_count": 22,
   "id": "4623d25d-ea43-40ae-8fdf-36a6269f58c0",
   "metadata": {},
   "outputs": [
    {
     "name": "stdout",
     "output_type": "stream",
     "text": [
      "[[ 1.12031365  5.75806083]\n",
      " [-1.91423083  2.61557951]\n",
      " [ 1.28933778  3.44969159]\n",
      " [ 2.21021495  1.27582618]\n",
      " [ 4.32502215 -0.55670201]\n",
      " [-2.57545698  1.49786432]\n",
      " [-3.2331742   4.86865766]\n",
      " [ 1.16748177 -1.08313281]\n",
      " [ 0.87305123  4.71438583]\n",
      " [ 1.9263585   4.15243012]\n",
      " [ 3.58804674  2.36702243]\n",
      " [ 2.47034915  4.09862906]\n",
      " [-0.49772229  1.55128226]\n",
      " [ 2.10102604  0.71047981]\n",
      " [ 1.7373078   4.42546234]\n",
      " [-2.03655619  2.47980796]\n",
      " [-0.29661333  4.12026211]\n",
      " [-1.87481616  3.07423123]\n",
      " [ 2.91970372  0.15549864]\n",
      " [ 1.42013331  4.63746165]]\n",
      "[0 2 0 1 1 2 2 1 0 0 1 0 1 1 0 2 2 2 1 0]\n",
      "--\n"
     ]
    }
   ],
   "source": [
    "\n",
    "l_xycoord, l_label = make_blobs(n_samples = 20, centers = 3, n_features = 2, random_state = 0)\n",
    "\n",
    "print(l_xycoord)\n",
    "print(l_label)\n",
    "\n",
    "print(\"--\")\n"
   ]
  },
  {
   "cell_type": "code",
   "execution_count": 23,
   "id": "b293fae3-15d5-415c-8739-c1cd4234a081",
   "metadata": {},
   "outputs": [
    {
     "data": {
      "image/png": "[encoded data removed]",
      "text/plain": [
       "<Figure size 640x480 with 1 Axes>"
      ]
     },
     "metadata": {},
     "output_type": "display_data"
    }
   ],
   "source": [
    "\n",
    "plt.scatter(l_xycoord[:,0], l_xycoord[:,1], c = l_label)\n",
    "plt.show()\n"
   ]
  },
  {
   "cell_type": "code",
   "execution_count": 35,
   "id": "b71beddb-5ce0-43e5-ab30-f979fe95aec8",
   "metadata": {},
   "outputs": [
    {
     "ename": "SyntaxError",
     "evalue": "invalid syntax (569444785.py, line 8)",
     "output_type": "error",
     "traceback": [
      "\u001b[0;36m  Cell \u001b[0;32mIn[35], line 8\u001b[0;36m\u001b[0m\n\u001b[0;31m    plt.scatter(l_data[l_data[\"label\"][:, 0], l_xycoord[:, 1], c = l_label, label = \"Class 1\")\u001b[0m\n\u001b[0m                                                                 ^\u001b[0m\n\u001b[0;31mSyntaxError\u001b[0m\u001b[0;31m:\u001b[0m invalid syntax\n"
     ]
    }
   ],
   "source": [
    "\n",
    "l_data = {}\n",
    "   #\n",
    "l_data[\"xycoord\"] = l_xycoord\n",
    "l_data[\"label\"]   = l_label\n",
    "\n",
    "#  plt.scatter(X[y==1]['Flavanoids'], X[y==1]['NonflavanoidPhenols'], label='Class 1', c='red')\n",
    "\n",
    "plt.scatter(l_data[l_data[\"label\"][:, 0], l_xycoord[:, 1], c = l_label, label = \"Class 1\")\n",
    "\n",
    "plt.legend()\n",
    "   #\n",
    "plt.xlabel('Whatever X')\n",
    "plt.ylabel('Whatever Y')\n",
    "\n",
    "plt.show()\n"
   ]
  },
  {
   "cell_type": "code",
   "execution_count": null,
   "id": "74e9165a-7f3c-45e4-be38-1a08a6c7303d",
   "metadata": {},
   "outputs": [],
   "source": []
  },
  {
   "cell_type": "code",
   "execution_count": null,
   "id": "c76c5ed5-3c5c-461d-9877-57a7580f71c2",
   "metadata": {},
   "outputs": [],
   "source": []
  }
 ],
 "metadata": {
  "kernelspec": {
   "display_name": "Python 3 (ipykernel)",
   "language": "python",
   "name": "python3"
  },
  "language_info": {
   "codemirror_mode": {
    "name": "ipython",
    "version": 3
   },
   "file_extension": ".py",
   "mimetype": "text/x-python",
   "name": "python",
   "nbconvert_exporter": "python",
   "pygments_lexer": "ipython3",
   "version": "3.8.13"
  }
 },
 "nbformat": 4,
 "nbformat_minor": 5
}
