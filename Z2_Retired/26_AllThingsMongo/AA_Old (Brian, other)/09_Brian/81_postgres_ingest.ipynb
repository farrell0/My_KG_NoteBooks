{
 "cells": [
  {
   "cell_type": "markdown",
   "id": "2ecf2bea-abe0-46e8-ad6c-8f0cd194498d",
   "metadata": {},
   "source": [
    "## Loading Northwind database from Postgres to Katana Graph"
   ]
  },
  {
   "cell_type": "code",
   "execution_count": null,
   "id": "12ef4743-9c1e-4d64-a43f-6586ede58c53",
   "metadata": {},
   "outputs": [],
   "source": [
    "import os\n",
    "import psycopg2\n",
    "import pandas as pd\n",
    "from katana import remote\n",
    "from katana.remote import import_data\n",
    "import dask.dataframe as dd\n",
    "os.environ[\"KATANA_SERVER_ADDRESS\"] = \"host.docker.internal:8080\""
   ]
  },
  {
   "cell_type": "code",
   "execution_count": null,
   "id": "89fab017-1dfa-4c72-bfbe-1163920326a5",
   "metadata": {},
   "outputs": [],
   "source": [
    "graph = remote.Client().create_graph(\n",
    "    num_partitions=3\n",
    ")"
   ]
  },
  {
   "cell_type": "code",
   "execution_count": null,
   "id": "ccddeeed-4e9c-4891-ab37-c4183883ec55",
   "metadata": {},
   "outputs": [],
   "source": [
    "conn = psycopg2.connect(\n",
    "    host=\"katana-db-1\",\n",
    "    database=\"test\",\n",
    "    user=\"postgres\",\n",
    "    password=\"abc123\")"
   ]
  },
  {
   "cell_type": "code",
   "execution_count": null,
   "id": "33bc62a1-a29a-4023-ad7b-08b2503a3bc6",
   "metadata": {},
   "outputs": [],
   "source": [
    "print(conn)"
   ]
  },
  {
   "cell_type": "markdown",
   "id": "5bd22a37-514d-4c79-b560-d57c0e22b4f8",
   "metadata": {},
   "source": [
    "![schema](northwind_schema.png)"
   ]
  },
  {
   "cell_type": "code",
   "execution_count": null,
   "id": "51ef0afe-744b-4008-bc45-3608c891d38b",
   "metadata": {},
   "outputs": [],
   "source": [
    "cur = conn.cursor()"
   ]
  },
  {
   "cell_type": "code",
   "execution_count": null,
   "id": "fc90dd24-1edb-4f27-8333-3940d7bb27fa",
   "metadata": {},
   "outputs": [],
   "source": [
    "cur.execute(\"SELECT * FROM categories\")"
   ]
  },
  {
   "cell_type": "code",
   "execution_count": null,
   "id": "1d646347-a2a4-4c3f-ac39-bc1ec745d5b4",
   "metadata": {},
   "outputs": [],
   "source": [
    "categories = pd.DataFrame(cur.fetchall())"
   ]
  },
  {
   "cell_type": "code",
   "execution_count": null,
   "id": "d396c1b1-79aa-4466-93ab-2017f6c428c5",
   "metadata": {
    "tags": []
   },
   "outputs": [],
   "source": [
    "categories = categories.rename(columns={0:\"category_id\",1:\"category_name\",2:\"description\",3:\"picture\"})"
   ]
  },
  {
   "cell_type": "code",
   "execution_count": null,
   "id": "10cc17fb-2704-411e-9bb0-7d0434189bac",
   "metadata": {},
   "outputs": [],
   "source": [
    "cur.execute(\"SELECT * FROM customers\")"
   ]
  },
  {
   "cell_type": "code",
   "execution_count": null,
   "id": "34ac2aef-22f4-477e-804a-dfeb0a6b2e77",
   "metadata": {},
   "outputs": [],
   "source": [
    "customers = pd.DataFrame(cur.fetchall())"
   ]
  },
  {
   "cell_type": "code",
   "execution_count": null,
   "id": "6ba9357c-18ee-43d9-84eb-a353dc2d0de4",
   "metadata": {},
   "outputs": [],
   "source": [
    "customers = customers.rename(columns={0:\"customer_id\",1:\"company_name\",2:\"contact_name\",\n",
    "                                      3:\"contact_title\",4:\"address\",5:\"city\",6:\"region\",\n",
    "                                      7:\"postal_code\",8:\"country\",9:\"phone\",10:\"fax\"})"
   ]
  },
  {
   "cell_type": "code",
   "execution_count": null,
   "id": "f60646ef-efe3-42bf-8ea0-532b10e59809",
   "metadata": {},
   "outputs": [],
   "source": [
    "cur.execute(\"SELECT * FROM customer_customer_demo\")"
   ]
  },
  {
   "cell_type": "code",
   "execution_count": null,
   "id": "285bcb43-bca7-445d-9f77-d90fde9da275",
   "metadata": {},
   "outputs": [],
   "source": [
    "customer_customer_demo = pd.DataFrame(cur.fetchall())"
   ]
  },
  {
   "cell_type": "code",
   "execution_count": null,
   "id": "0f0a2087-7911-42f9-aa91-3da8642f60b9",
   "metadata": {
    "tags": []
   },
   "outputs": [],
   "source": [
    "customer_customer_demo = customer_customer_demo.rename(columns={0:\"customer_id\",1:\"customer_type_id\"})"
   ]
  },
  {
   "cell_type": "code",
   "execution_count": null,
   "id": "a7e72bd7-a0f4-460d-a9f6-b155f5a4c687",
   "metadata": {},
   "outputs": [],
   "source": [
    "cur.execute(\"SELECT * FROM customer_demographics\")"
   ]
  },
  {
   "cell_type": "code",
   "execution_count": null,
   "id": "d08a0a24-3a39-4def-8982-370c213cf1b6",
   "metadata": {},
   "outputs": [],
   "source": [
    "customer_demographics = pd.DataFrame(cur.fetchall())"
   ]
  },
  {
   "cell_type": "code",
   "execution_count": null,
   "id": "6e1f21f1-cdca-4e1c-b5ca-7d67dbe44ce1",
   "metadata": {
    "tags": []
   },
   "outputs": [],
   "source": [
    "customer_demographics = customer_demographics.rename(columns={0:\"customer_type_id\",1:\"customer_desc\"})"
   ]
  },
  {
   "cell_type": "code",
   "execution_count": null,
   "id": "32aa601e-ab95-4bb8-8917-f4e8f3195ac6",
   "metadata": {},
   "outputs": [],
   "source": [
    "cur.execute(\"SELECT * FROM employees\")"
   ]
  },
  {
   "cell_type": "code",
   "execution_count": null,
   "id": "0b2613b2-31d0-4fee-aadb-d4eb5ea0b34d",
   "metadata": {},
   "outputs": [],
   "source": [
    "employees = pd.DataFrame(cur.fetchall())"
   ]
  },
  {
   "cell_type": "code",
   "execution_count": null,
   "id": "4829c1c2-afec-4cb6-88f8-27d72bd23b3a",
   "metadata": {
    "tags": []
   },
   "outputs": [],
   "source": [
    "employees = employees.rename(columns={0:\"employee_id\",1:\"last_name\",2:\"first_name\",\n",
    "                                      3:\"contact_title\",4:\"title\",5:\"title_of_courtesy\",\n",
    "                                      6:\"birth_date\",7:\"hire_date\",8:\"address\",9:\"city\",10:\"region\",\n",
    "                                      11:\"postal_code\",12:\"country\",13:\"home_phone\",14:\"extension\",\n",
    "                                      15:\"photo\",16:\"notes\",17:\"reports_to\",18:\"photo_path\"})"
   ]
  },
  {
   "cell_type": "code",
   "execution_count": null,
   "id": "a212773e-f416-4b39-a2f7-7029238af536",
   "metadata": {},
   "outputs": [],
   "source": [
    "cur.execute(\"SELECT * FROM employee_territories\")"
   ]
  },
  {
   "cell_type": "code",
   "execution_count": null,
   "id": "864238f1-ce6b-4c9e-a5ca-a7d6537e3014",
   "metadata": {},
   "outputs": [],
   "source": [
    "employee_territories = pd.DataFrame(cur.fetchall())"
   ]
  },
  {
   "cell_type": "code",
   "execution_count": null,
   "id": "43f582b0-1da8-4a77-b32d-d801a4569b73",
   "metadata": {
    "tags": []
   },
   "outputs": [],
   "source": [
    "employee_territories = employee_territories.rename(columns={0:\"employee_id\",1:\"territory_id\"})"
   ]
  },
  {
   "cell_type": "code",
   "execution_count": null,
   "id": "d956a860-47ba-44db-ae60-e4a4e62f64ac",
   "metadata": {},
   "outputs": [],
   "source": [
    "cur.execute(\"SELECT * FROM order_details\")"
   ]
  },
  {
   "cell_type": "code",
   "execution_count": null,
   "id": "eb1012d3-f16b-4f83-926b-adfb2cc2aae7",
   "metadata": {},
   "outputs": [],
   "source": [
    "order_details = pd.DataFrame(cur.fetchall())"
   ]
  },
  {
   "cell_type": "code",
   "execution_count": null,
   "id": "f5dc327e-c477-4f92-b1bb-ece684cb594e",
   "metadata": {
    "tags": []
   },
   "outputs": [],
   "source": [
    "order_details = order_details.rename(columns={0:\"order_id\",1:\"product_id\",2:\"unit_price\",\n",
    "                                              3:\"quantity\",4:\"discount\"})"
   ]
  },
  {
   "cell_type": "code",
   "execution_count": null,
   "id": "bd51cb70-5113-489d-90b6-0d50212a8533",
   "metadata": {},
   "outputs": [],
   "source": [
    "cur.execute(\"SELECT * FROM orders\")"
   ]
  },
  {
   "cell_type": "code",
   "execution_count": null,
   "id": "ff7d64c1-cc4d-491a-a694-b0db2b24aa74",
   "metadata": {},
   "outputs": [],
   "source": [
    "orders = pd.DataFrame(cur.fetchall())"
   ]
  },
  {
   "cell_type": "code",
   "execution_count": null,
   "id": "868e619e-97bf-4d85-b2ee-a3fc8e33a130",
   "metadata": {
    "tags": []
   },
   "outputs": [],
   "source": [
    "orders = orders.rename(columns={0:\"order_id\",1:\"customer_id\",2:\"employee_id\",\n",
    "                                3:\"order_date\",4:\"required_date\",5:\"shipped_date\",\n",
    "                                6:\"ship_via\",7:\"freight\",8:\"ship_name\",9:\"ship_address\",10:\"ship_city\",\n",
    "                                11:\"ship_region\",12:\"ship_postal_code\",13:\"ship_country\"})"
   ]
  },
  {
   "cell_type": "code",
   "execution_count": null,
   "id": "8b4a67a2-a7b0-4b0a-815d-d85b564a0da8",
   "metadata": {},
   "outputs": [],
   "source": [
    "cur.execute(\"SELECT * FROM products\")"
   ]
  },
  {
   "cell_type": "code",
   "execution_count": null,
   "id": "56113f0b-22c2-49cb-a731-f9fa0ce18433",
   "metadata": {},
   "outputs": [],
   "source": [
    "products = pd.DataFrame(cur.fetchall())"
   ]
  },
  {
   "cell_type": "code",
   "execution_count": null,
   "id": "1a3cb19b-02f4-4b38-a4b1-fcee5fc5d5fc",
   "metadata": {
    "tags": []
   },
   "outputs": [],
   "source": [
    "products = products.rename(columns={0:\"product_id\",1:\"product_name\",2:\"supplier_id\",\n",
    "                                    3:\"category_id\",4:\"quantity_per_unit\",5:\"unit_price\",\n",
    "                                    6:\"units_in_stock\",7:\"units_on_order\",8:\"reorder_level\",9:\"discontinued\"})"
   ]
  },
  {
   "cell_type": "code",
   "execution_count": null,
   "id": "063d14e0-68e9-475a-89a5-0387bae20f81",
   "metadata": {},
   "outputs": [],
   "source": [
    "cur.execute(\"SELECT * FROM region\")"
   ]
  },
  {
   "cell_type": "code",
   "execution_count": null,
   "id": "b96831ac-2d21-42b4-b099-95d1b74de9ca",
   "metadata": {},
   "outputs": [],
   "source": [
    "region = pd.DataFrame(cur.fetchall())"
   ]
  },
  {
   "cell_type": "code",
   "execution_count": null,
   "id": "cf794945-1192-411e-b48f-a75b760ac523",
   "metadata": {
    "tags": []
   },
   "outputs": [],
   "source": [
    "region = region.rename(columns={0:\"region_id\",1:\"region_description\"})"
   ]
  },
  {
   "cell_type": "code",
   "execution_count": null,
   "id": "38abcefa-9619-4241-894f-7df18f1e539c",
   "metadata": {},
   "outputs": [],
   "source": [
    "cur.execute(\"SELECT * FROM shippers\")"
   ]
  },
  {
   "cell_type": "code",
   "execution_count": null,
   "id": "6f5ffd6a-53b4-4cb9-b243-ac05bc9c8d3e",
   "metadata": {},
   "outputs": [],
   "source": [
    "shippers = pd.DataFrame(cur.fetchall())"
   ]
  },
  {
   "cell_type": "code",
   "execution_count": null,
   "id": "891ff507-d20f-439c-b3cf-fd68c5a4e38c",
   "metadata": {
    "tags": []
   },
   "outputs": [],
   "source": [
    "shippers = shippers.rename(columns={0:\"shipper_id\",1:\"company_name\",2:\"phone\"})"
   ]
  },
  {
   "cell_type": "code",
   "execution_count": null,
   "id": "d2eef5b9-a4a9-4f06-8a6a-fe4dcf479920",
   "metadata": {},
   "outputs": [],
   "source": [
    "cur.execute(\"SELECT * FROM suppliers\")"
   ]
  },
  {
   "cell_type": "code",
   "execution_count": null,
   "id": "412f57cf-339d-4708-b00b-7f0654562c56",
   "metadata": {},
   "outputs": [],
   "source": [
    "suppliers = pd.DataFrame(cur.fetchall())"
   ]
  },
  {
   "cell_type": "code",
   "execution_count": null,
   "id": "761e6d4e-9939-43da-9a7b-188e1cd26cff",
   "metadata": {
    "tags": []
   },
   "outputs": [],
   "source": [
    "suppliers = suppliers.rename(columns={0:\"supplier_id\",1:\"company_name\",2:\"contact_name\",\n",
    "                                      3:\"contact_title\",4:\"address\",5:\"city\",\n",
    "                                      6:\"region\",7:\"postal_code\",8:\"country\",9:\"phone\",\n",
    "                                      10:\"fax\",11:\"homepage\"})"
   ]
  },
  {
   "cell_type": "code",
   "execution_count": null,
   "id": "3737c13b-62aa-48d6-b07c-bed68b664545",
   "metadata": {},
   "outputs": [],
   "source": [
    "cur.execute(\"SELECT * FROM territories\")"
   ]
  },
  {
   "cell_type": "code",
   "execution_count": null,
   "id": "038b8038-ed80-4d07-825f-0953830661bf",
   "metadata": {},
   "outputs": [],
   "source": [
    "territories = pd.DataFrame(cur.fetchall())"
   ]
  },
  {
   "cell_type": "code",
   "execution_count": null,
   "id": "bff15530-dfae-4c36-b238-ee6b733f8083",
   "metadata": {
    "tags": []
   },
   "outputs": [],
   "source": [
    "territories = territories.rename(columns={0:\"territory_id\",1:\"territory_description\",2:\"region_id\"})"
   ]
  },
  {
   "cell_type": "code",
   "execution_count": null,
   "id": "1e80d45e-8b29-4c47-87f5-90ed004feb19",
   "metadata": {},
   "outputs": [],
   "source": [
    "cur.execute(\"SELECT * FROM us_states\")"
   ]
  },
  {
   "cell_type": "code",
   "execution_count": null,
   "id": "3af79e72-6bda-46b6-87fc-c4f778c4ccad",
   "metadata": {},
   "outputs": [],
   "source": [
    "us_states = pd.DataFrame(cur.fetchall())"
   ]
  },
  {
   "cell_type": "code",
   "execution_count": null,
   "id": "4bed7758-d42c-4cef-9a5b-db113a271673",
   "metadata": {
    "tags": []
   },
   "outputs": [],
   "source": [
    "us_states = us_states.rename(columns={0:\"state_id\",1:\"state_name\",2:\"state_abbr\",3:\"state_region\"})"
   ]
  },
  {
   "cell_type": "code",
   "execution_count": null,
   "id": "bc5b96a8-d137-45b2-a4d9-a431ff7d1b04",
   "metadata": {},
   "outputs": [],
   "source": [
    "has_product_category = pd.merge(products[['product_id', 'category_id']], categories['category_id'], how=\"left\", on=\"category_id\")"
   ]
  },
  {
   "cell_type": "code",
   "execution_count": null,
   "id": "160cff40-3644-4670-945b-5bc3b52209de",
   "metadata": {},
   "outputs": [],
   "source": [
    "cur.execute(\"SELECT p.product_id AS product_id, c.category_id AS category_id FROM products p LEFT JOIN categories c ON p.category_id = c.category_id\")"
   ]
  },
  {
   "cell_type": "code",
   "execution_count": null,
   "id": "732a7e71-85fc-4fb0-8c9d-7bac3f88ab72",
   "metadata": {},
   "outputs": [],
   "source": [
    "product_categories = pd.DataFrame(cur.fetchall())"
   ]
  },
  {
   "cell_type": "code",
   "execution_count": null,
   "id": "ba5678b5-6b06-4592-a856-14f2948cccac",
   "metadata": {},
   "outputs": [],
   "source": [
    "product_categories = product_categories.rename(columns={0:\"product_id\",1:\"category_id\"})"
   ]
  },
  {
   "cell_type": "code",
   "execution_count": null,
   "id": "81f5cc62-a5aa-4733-b040-059d3865157f",
   "metadata": {},
   "outputs": [],
   "source": [
    "%%time\n",
    "with import_data.DataFrameImporter(graph) as df_importer:   \n",
    "    \n",
    "    df_importer.nodes_dataframe(categories,\n",
    "                            id_column=\"category_id\",\n",
    "                            id_space=\"Category\",\n",
    "                            label=\"Category\")\n",
    "    \n",
    "    df_importer.nodes_dataframe(products,\n",
    "                            id_column=\"product_id\",\n",
    "                            id_space=\"Product\",\n",
    "                            label=\"Product\")\n",
    "    \n",
    "    df_importer.nodes_dataframe(orders,\n",
    "                            id_column=\"order_id\",\n",
    "                            id_space=\"Order\",\n",
    "                            label=\"Order\")\n",
    "    \n",
    "    df_importer.nodes_dataframe(customers,\n",
    "                            id_column=\"customer_id\",\n",
    "                            id_space=\"Customer\",\n",
    "                            label=\"Customer\")\n",
    "\n",
    "    df_importer.nodes_dataframe(suppliers,\n",
    "                            id_column=\"supplier_id\",\n",
    "                            id_space=\"Supplier\",\n",
    "                            label=\"Supplier\")\n",
    "    \n",
    "    df_importer.nodes_dataframe(order_details,\n",
    "                            id_column=\"order_id\",\n",
    "                            id_space=\"OrderDetail\",\n",
    "                            label=\"OrderDetail\")\n",
    "    \n",
    "    df_importer.nodes_dataframe(employees,\n",
    "                            id_column=\"employee_id\",\n",
    "                            id_space=\"Employee\",\n",
    "                            label=\"Employee\")\n",
    "    \n",
    "    df_importer.nodes_dataframe(shippers,\n",
    "                            id_column=\"shipper_id\",\n",
    "                            id_space=\"Shipper\",\n",
    "                            label=\"Shipper\")\n",
    "    \n",
    "    df_importer.nodes_dataframe(employee_territories,\n",
    "                            id_column=\"employee_id\",\n",
    "                            id_space=\"EmployeeTerritory\",\n",
    "                            label=\"EmployeeTerritory\")\n",
    "    \n",
    "    df_importer.nodes_dataframe(territories,\n",
    "                            id_column=\"territory_id\",\n",
    "                            id_space=\"Territory\",\n",
    "                            label=\"Territory\")\n",
    "    \n",
    "    df_importer.nodes_dataframe(region,\n",
    "                            id_column=\"region_id\",\n",
    "                            id_space=\"Region\",\n",
    "                            label=\"Region\")\n",
    "    \n",
    "    df_importer.nodes_dataframe(us_states,\n",
    "                            id_column=\"state_id\",\n",
    "                            id_space=\"State\",\n",
    "                            label=\"State\")\n",
    "\n",
    "    df_importer.edges_dataframe(product_categories[['product_id', 'category_id']],\n",
    "                            source_id_space=\"Category\",\n",
    "                            destination_id_space=\"Product\",\n",
    "                            source_column=\"category_id\",\n",
    "                            destination_column=\"product_id\",\n",
    "                            type=\"HAS_PRODUCT_CATEGORY\")"
   ]
  },
  {
   "cell_type": "code",
   "execution_count": null,
   "id": "42be2107-eec6-4abb-8882-6e367f2ccdd7",
   "metadata": {},
   "outputs": [],
   "source": [
    "%%time\n",
    "graph.query('''MATCH (c:Customer), (o:Order {customer_id:c.id}) \n",
    "               CREATE (c)-[:HAS_ORDER]->(o)''')"
   ]
  },
  {
   "cell_type": "code",
   "execution_count": null,
   "id": "ae77cb2e-5af1-4488-862b-42746693881c",
   "metadata": {},
   "outputs": [],
   "source": [
    "%%time\n",
    "graph.query('''MATCH (od:OrderDetail), (o:Order {id:od.id}) \n",
    "               CREATE (o)-[:HAS_ORDER_DETAIL]->(od)''')"
   ]
  },
  {
   "cell_type": "code",
   "execution_count": null,
   "id": "4cd34463-103b-4174-8a27-d94d6d84c37b",
   "metadata": {},
   "outputs": [],
   "source": [
    "%%time\n",
    "graph.query('''MATCH (od:OrderDetail), (p:Product)\n",
    "               WHERE toString(od.product_id) = p.id\n",
    "               CREATE (od)-[:HAS_PRODUCT]->(p)''')"
   ]
  },
  {
   "cell_type": "code",
   "execution_count": null,
   "id": "f472c7d7-aa53-4605-abfd-21390699217e",
   "metadata": {},
   "outputs": [],
   "source": [
    "%%time\n",
    "graph.query('''MATCH (s:Supplier), (p:Product) \n",
    "               WHERE toString(p.supplier_id) = s.id\n",
    "               CREATE (p)-[:HAS_SUPPLIER]->(s)''')"
   ]
  },
  {
   "cell_type": "code",
   "execution_count": null,
   "id": "3a946c8a-ece7-4142-b444-6f832fef0449",
   "metadata": {},
   "outputs": [],
   "source": [
    "%%time\n",
    "graph.query('''MATCH (e:Employee), (o:Order) \n",
    "               WHERE toString(o.employee_id) = e.id\n",
    "               CREATE (e)-[:ATTACHED_TO]->(o)''')"
   ]
  },
  {
   "cell_type": "code",
   "execution_count": null,
   "id": "bc5a0b6f-3cc0-40ed-9f28-c4d65614baf8",
   "metadata": {},
   "outputs": [],
   "source": [
    "%%time\n",
    "graph.query('''MATCH (e:Employee), (et:EmployeeTerritory {id:e.id}) \n",
    "               CREATE (e)-[:IN_TERRITORY]->(et)''')"
   ]
  },
  {
   "cell_type": "code",
   "execution_count": null,
   "id": "91e2c52a-a974-46f5-86dd-2e250c2097d0",
   "metadata": {},
   "outputs": [],
   "source": [
    "%%time\n",
    "graph.query('''MATCH (et:EmployeeTerritory), (t:Territory) \n",
    "               WHERE toString(et.territory_id) = t.id\n",
    "               CREATE (t)-[:HAS_TERRITORY]->(et)''')"
   ]
  },
  {
   "cell_type": "code",
   "execution_count": null,
   "id": "9c15cd48-3193-426a-bedc-4e34beee0de7",
   "metadata": {},
   "outputs": [],
   "source": [
    "%%time\n",
    "graph.query('''MATCH (s:Shipper), (o:Order) \n",
    "               WHERE toString(o.ship_via) = s.id\n",
    "               CREATE (o)-[:HAS_SHIPPER]->(s)''')"
   ]
  },
  {
   "cell_type": "code",
   "execution_count": null,
   "id": "20d615cd-e6a5-419e-aa12-70d8f60888e2",
   "metadata": {},
   "outputs": [],
   "source": [
    "graph.query('MATCH (n)-[r]->(m) RETURN type(r) AS reltype, count(r) AS numrels, labels(n) AS orig, labels(m) AS term ORDER by numrels DESC', contextualize=True).view()"
   ]
  },
  {
   "cell_type": "code",
   "execution_count": null,
   "id": "aa317b80-931c-43af-aca8-79754f5bab44",
   "metadata": {},
   "outputs": [],
   "source": [
    "%%time\n",
    "graph.query('''MATCH (t:Territory), (r:Region)\n",
    "               WHERE toString(t.region_id) = r.id\n",
    "               CREATE (t)-[:HAS_REGION]->(r)''')"
   ]
  },
  {
   "cell_type": "code",
   "execution_count": null,
   "id": "e5dd8b2d-6ee1-433d-ba40-03814693eb6e",
   "metadata": {},
   "outputs": [],
   "source": [
    "graph.query('MATCH (n) RETURN n', contextualize=True).view()"
   ]
  },
  {
   "cell_type": "code",
   "execution_count": null,
   "id": "4bb7296b-62b9-4258-8b6d-3f13914bbb3a",
   "metadata": {},
   "outputs": [],
   "source": []
  }
 ],
 "metadata": {
  "kernelspec": {
   "display_name": "Python 3 (ipykernel)",
   "language": "python",
   "name": "python3"
  },
  "language_info": {
   "codemirror_mode": {
    "name": "ipython",
    "version": 3
   },
   "file_extension": ".py",
   "mimetype": "text/x-python",
   "name": "python",
   "nbconvert_exporter": "python",
   "pygments_lexer": "ipython3",
   "version": "3.8.13"
  }
 },
 "nbformat": 4,
 "nbformat_minor": 5
}
