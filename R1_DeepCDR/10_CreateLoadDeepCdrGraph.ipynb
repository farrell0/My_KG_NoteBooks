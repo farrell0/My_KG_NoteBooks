{
 "cells": [
  {
   "cell_type": "code",
   "execution_count": null,
   "id": "57a6c20f-3419-4768-92a0-f106c5931689",
   "metadata": {},
   "outputs": [],
   "source": [
    "\n",
    "#  Notebook to load the DeepCDR graph ..\n",
    "#\n",
    "\n"
   ]
  },
  {
   "cell_type": "markdown",
   "id": "212d8ad3-a876-4638-b95e-a0702f897587",
   "metadata": {},
   "source": [
    "#  Setup: Display options .."
   ]
  },
  {
   "cell_type": "code",
   "execution_count": null,
   "id": "8a38ebd7-d1d9-47a8-955c-a8270b024543",
   "metadata": {},
   "outputs": [],
   "source": [
    "\n",
    "%xmode Minimal\n",
    "\n",
    "#  Setting display options \n",
    "\n",
    "import pandas as pd\n",
    "   #\n",
    "pd.set_option(\"display.width\", 480)\n",
    "\n",
    "#  Sets horizontal scroll for wide outputs\n",
    "#\n",
    "from IPython.display import display, HTML\n",
    "display(HTML(\"\"))\n",
    "\n",
    "from tabulate import tabulate\n",
    "\n",
    "\n",
    "print(\"--\")\n"
   ]
  },
  {
   "cell_type": "markdown",
   "id": "8ac9bc73-49ab-44bf-a21a-a2a589622a51",
   "metadata": {},
   "source": [
    "#  Setup: Connectivity .."
   ]
  },
  {
   "cell_type": "code",
   "execution_count": null,
   "id": "e87b75ba-c072-4111-8cca-4b4f394a0fce",
   "metadata": {},
   "outputs": [],
   "source": [
    "\n",
    "from katana import remote\n",
    "\n",
    "my_client = remote.Client()\n",
    "\n",
    "print(my_client)\n",
    "print(my_client.server_version)\n"
   ]
  },
  {
   "cell_type": "code",
   "execution_count": null,
   "id": "d3a77f99-f11b-4105-ab43-17ce605b15e8",
   "metadata": {},
   "outputs": [],
   "source": [
    "\n",
    "NUM_PARTITIONS  = 3\n",
    "   #\n",
    "DB_NAME         = \"my_db\"\n",
    "GRAPH_NAME      = \"my_graph\"\n",
    "\n",
    "print(\"--\")\n"
   ]
  },
  {
   "cell_type": "code",
   "execution_count": null,
   "id": "73f507b5-9a82-4441-a79f-cc2fc239968a",
   "metadata": {},
   "outputs": [],
   "source": [
    "# ##################################################################"
   ]
  },
  {
   "cell_type": "code",
   "execution_count": null,
   "id": "7f2292b8-7df0-49a0-b3da-523f56cfe4f8",
   "metadata": {},
   "outputs": [],
   "source": [
    "\n",
    "#  DELETE ALL GRAPHS\n",
    "\n",
    "for l_database in my_client.databases():\n",
    "   for l_graph in my_client.get_database(name = l_database.name).graphs_in_database():\n",
    "      l_handle = my_client.get_database(name = l_database.name).get_graph_by_id(id = l_graph.graph_id)\n",
    "      l_handle.delete()\n",
    "\n",
    "for l_graph in my_client.graphs():\n",
    "   print(\"GRAPH ID: \", l_graph.graph_id, \"      GRAPH Version: \", l_graph.version)\n",
    "\n",
    "print(\"--\")\n"
   ]
  },
  {
   "cell_type": "code",
   "execution_count": null,
   "id": "c989fda5-3ce8-4589-bf36-4da42d3d993c",
   "metadata": {},
   "outputs": [],
   "source": [
    "\n",
    "#  DELETE ONE SPECIFIC GRAPH ONLY\n",
    "\n",
    "for l_database in my_client.databases():\n",
    "   for l_graph in my_client.get_database(name = l_database.name).graphs_in_database():\n",
    "      if ((l_database.name == DB_NAME) and (l_graph.name == GRAPH_NAME)):   \n",
    "         l_handle = my_client.get_database(name = l_database.name).get_graph_by_id(id = l_graph.graph_id)\n",
    "         l_handle.delete()\n",
    "\n",
    "for l_graph in my_client.graphs():\n",
    "   print(\"GRAPH ID: \", l_graph.graph_id, \"      GRAPH Version: \", l_graph.version)\n",
    "\n",
    "print(\"--\")\n"
   ]
  },
  {
   "cell_type": "code",
   "execution_count": null,
   "id": "71f69a0e-451b-4679-b49c-5db1208d4c8f",
   "metadata": {},
   "outputs": [],
   "source": [
    "\n",
    "#  DELETE ALL DATABASES\n",
    "\n",
    "for l_database in my_client.databases():\n",
    "   if (l_database.name != \"default\"):\n",
    "      my_client.get_database(name = l_database.name).delete_database()\n",
    "      print(\"--\")\n",
    "\n",
    "for l_database in my_client.databases():\n",
    "   print(\"DB ID: \", l_database.database_id, \"     DB Name: \", l_database.name)\n"
   ]
  },
  {
   "cell_type": "code",
   "execution_count": null,
   "id": "a3b3bc00-fafb-481d-ba5a-8b52ae7d6e79",
   "metadata": {},
   "outputs": [],
   "source": [
    "\n",
    "#  CREATE DATABASE\n",
    "\n",
    "my_database = my_client.create_database(name = DB_NAME)\n",
    "\n",
    "print(my_database.database_id)\n"
   ]
  },
  {
   "cell_type": "code",
   "execution_count": 4,
   "id": "b8ba088b-2ec5-4b2a-8171-3c87ddffb47c",
   "metadata": {},
   "outputs": [
    {
     "name": "stdout",
     "output_type": "stream",
     "text": [
      "<_Graph my_graph, 6jFcKkJp4UZAvBZHRHVfaq14BcLwtAiYC3GCDMS7bFqx, 0>\n"
     ]
    }
   ],
   "source": [
    "\n",
    "#  CREATE GRAPH\n",
    "#\n",
    "my_graph = my_client.get_database(name = DB_NAME).create_graph(name = GRAPH_NAME, num_partitions = NUM_PARTITIONS)\n",
    "\n",
    "print(my_graph)\n"
   ]
  },
  {
   "cell_type": "code",
   "execution_count": null,
   "id": "c3217f3b-dd84-47a3-ae2a-5033d122604a",
   "metadata": {},
   "outputs": [],
   "source": [
    "\n",
    "#  CONNECT TO GRAPH\n",
    "\n",
    "my_graph, *_ = my_client.get_database(name=DB_NAME).find_graphs_by_name(GRAPH_NAME)\n",
    "\n",
    "print(my_graph)\n"
   ]
  },
  {
   "cell_type": "code",
   "execution_count": null,
   "id": "918521c4-3808-4d15-a09d-8417964f5fb6",
   "metadata": {},
   "outputs": [],
   "source": [
    "# ##################################################################"
   ]
  },
  {
   "cell_type": "code",
   "execution_count": 5,
   "id": "e576c04e-9cd8-41e0-a1a3-ae09397e4f87",
   "metadata": {},
   "outputs": [
    {
     "name": "stdout",
     "output_type": "stream",
     "text": [
      "Database Name: my_db                          Id: 4MAP8VHNkHLJQX6VhgBzqgpubGj5ot8c84iWJxY2vG2p\n",
      "   Graph Name: my_graph                          Version: 0          Id: 6jFcKkJp4UZAvBZHRHVfaq14BcLwtAiYC3GCDMS7bFqx\n",
      "   Graph Name: my_graph_BB                       Version: 1          Id: EDJ39S7aoeT2aT2BchYPHzwHB14JUfCLdZ2HKAS6eDqn\n",
      "Database Name: default                        Id: QnXF6oF6UFgJhbwqvu7VxmSprvKxMakG3wkMW5jMFqg\n",
      "\n",
      "--\n"
     ]
    }
   ],
   "source": [
    "\n",
    "#  Now that we share servers, get a better list of databases and graphs ..\n",
    "#\n",
    "\n",
    "for l_each_d in my_client.databases():\n",
    "   print(\"Database Name: %-28s   Id: %s\" % (l_each_d.name, l_each_d.database_id))\n",
    "      #\n",
    "   for l_each_g in my_client.get_database(name=l_each_d.name).graphs_in_database(): \n",
    "      print(\"   Graph Name: %-28s      Version: %-8d   Id: %s\" % (l_each_g.name, l_each_g.version, l_each_g.graph_id))\n",
    "\n",
    "\n",
    "print(\"\"  )\n",
    "print(\"--\")\n"
   ]
  },
  {
   "cell_type": "code",
   "execution_count": null,
   "id": "9cdf1e09-6999-42e6-afe5-d6a930d1a4dc",
   "metadata": {},
   "outputs": [],
   "source": [
    "\n",
    "display(my_graph.num_nodes())\n",
    "display(my_graph.num_edges())\n"
   ]
  },
  {
   "cell_type": "code",
   "execution_count": null,
   "id": "c4795c79-145b-46ea-ac7e-ea29131325c8",
   "metadata": {},
   "outputs": [],
   "source": [
    "\n",
    "my_graph.query(\"CALL graph.schema() RETURN *\")\n"
   ]
  },
  {
   "cell_type": "code",
   "execution_count": null,
   "id": "eff479f3-d0f2-44d2-830b-d6b8aa8d4ee9",
   "metadata": {},
   "outputs": [],
   "source": [
    "\n",
    "l_rows = 10\n",
    "\n",
    "l_query  = \"\"\"\n",
    "   MATCH (n) \n",
    "   RETURN n\n",
    "   LIMIT {0}\n",
    "   \"\"\".format(l_rows)\n",
    "\n",
    "l_result = my_graph.query(l_query)\n",
    "\n",
    "print(l_result)\n"
   ]
  },
  {
   "cell_type": "markdown",
   "id": "9d1dee0a-411c-4269-95b3-9cb5ded64676",
   "metadata": {},
   "source": [
    "#  Step 01: Process CSV files .."
   ]
  },
  {
   "cell_type": "code",
   "execution_count": null,
   "id": "1af9c83f-ba62-4757-bd8d-d74c49d4e7c9",
   "metadata": {},
   "outputs": [],
   "source": [
    "\n",
    "#  Read the CSVs as Step 01 towards populating our graph\n",
    "#\n",
    "\n",
    "l_folder   = \"./10_Data/\"\n",
    "\n",
    "\n",
    "#  Nodes\n",
    "#\n",
    "df_PatientVisitNode                       = pd.read_csv(l_folder + \"N_01_00_PatientVisit.txt\"                   , header = \"infer\", delimiter = \"|\")\n",
    "df_MedicalSpecialtyNode                   = pd.read_csv(l_folder + \"N_02_00_MedicalSpecialty.txt\"               , header = \"infer\", delimiter = \"|\")\n",
    "df_KeywordNode                            = pd.read_csv(l_folder + \"N_03_00_Keyword.txt\"                        , header = \"infer\", delimiter = \"|\")\n",
    "   #\n",
    "df_UmlsEntityNode                         = pd.read_csv(l_folder + \"N_04_00_UmlsEntity.txt\"                     , header = \"infer\", delimiter = \"|\")\n",
    "df_UmlsVocabularyNode                     = pd.read_csv(l_folder + \"N_05_00_UmlsVocabulary.txt\"                 , header = \"infer\", delimiter = \"|\")\n",
    "\n",
    "l_nodecnt = (\n",
    "   len(df_PatientVisitNode    ) + \n",
    "   len(df_MedicalSpecialtyNode) + \n",
    "   len(df_KeywordNode         ) + \n",
    "   len(df_UmlsEntityNode      ) + \n",
    "   len(df_UmlsVocabularyNode  ) \n",
    "   )\n",
    "\n",
    "\n",
    "#  Edges\n",
    "#\n",
    "df_PatientVisitToMedicalSpecialtyEdge_N   = pd.read_csv(l_folder + \"E_01_00_N_PatientVistToMedicalSpecialty.txt\", header = \"infer\", delimiter = \"|\")\n",
    "df_PatientVisitToMedicalSpecialtyEdge_S   = pd.read_csv(l_folder + \"E_01_00_S_PatientVistToMedicalSpecialty.txt\", header = \"infer\", delimiter = \"|\")\n",
    "   #\n",
    "df_PatientVisitToKeywordEdge_N            = pd.read_csv(l_folder + \"E_02_00_N_PatientVistToKeyword.txt\"         , header = \"infer\", delimiter = \"|\")\n",
    "df_PatientVisitToKeywordEdge_S            = pd.read_csv(l_folder + \"E_02_00_S_PatientVistToKeyword.txt\"         , header = \"infer\", delimiter = \"|\")\n",
    "\n",
    "df_PatientVisitToEntityEdge_N             = pd.read_csv(l_folder + \"E_03_00_N_PatientVistToEntity.txt\"          , header = \"infer\", delimiter = \"|\")\n",
    "df_PatientVisitToEntityEdge_S             = pd.read_csv(l_folder + \"E_03_00_S_PatientVistToEntity.txt\"          , header = \"infer\", delimiter = \"|\")\n",
    "   #\n",
    "df_EntityToVocabularyEdge_N               = pd.read_csv(l_folder + \"E_04_00_N_PatientVistToVocabulary.txt\"      , header = \"infer\", delimiter = \"|\")\n",
    "df_EntityToVocabularyEdge_S               = pd.read_csv(l_folder + \"E_04_00_S_PatientVistToVocabulary.txt\"      , header = \"infer\", delimiter = \"|\")\n",
    "\n",
    "l_edgecnt = (\n",
    "   len(df_PatientVisitToMedicalSpecialtyEdge_N) +\n",
    "   len(df_PatientVisitToMedicalSpecialtyEdge_S) +\n",
    "   len(df_PatientVisitToKeywordEdge_N         ) +\n",
    "   len(df_PatientVisitToKeywordEdge_S         ) +\n",
    "   len(df_PatientVisitToEntityEdge_N          ) +\n",
    "   len(df_PatientVisitToEntityEdge_S          ) +\n",
    "   len(df_EntityToVocabularyEdge_N            ) +\n",
    "   len(df_EntityToVocabularyEdge_S            )\n",
    ")\n",
    "\n",
    "\n",
    "print(\"--\")\n",
    "\n",
    "\n",
    "\n",
    "\n",
    "\n",
    "        \n",
    "print(\"\")\n",
    "print(\"--\")\n",
    "\n"
   ]
  },
  {
   "cell_type": "code",
   "execution_count": null,
   "id": "ee6f04bf-c7fd-43f7-9e2b-849cfdd1254b",
   "metadata": {},
   "outputs": [],
   "source": []
  },
  {
   "cell_type": "code",
   "execution_count": null,
   "id": "5d17c412-4a0c-450c-a0c4-1a3016e3c587",
   "metadata": {},
   "outputs": [],
   "source": []
  },
  {
   "cell_type": "code",
   "execution_count": null,
   "id": "748e1a50-1610-4d1e-92a2-f66e978ab8dc",
   "metadata": {},
   "outputs": [],
   "source": []
  },
  {
   "cell_type": "code",
   "execution_count": null,
   "id": "33cb2391-05d4-4d79-b38c-8733e2775685",
   "metadata": {},
   "outputs": [],
   "source": []
  },
  {
   "cell_type": "code",
   "execution_count": null,
   "id": "b25c81e2-6ef3-47a0-b53b-82ccf875f57b",
   "metadata": {},
   "outputs": [],
   "source": []
  }
 ],
 "metadata": {
  "kernelspec": {
   "display_name": "Python 3 (ipykernel)",
   "language": "python",
   "name": "python3"
  },
  "language_info": {
   "codemirror_mode": {
    "name": "ipython",
    "version": 3
   },
   "file_extension": ".py",
   "mimetype": "text/x-python",
   "name": "python",
   "nbconvert_exporter": "python",
   "pygments_lexer": "ipython3",
   "version": "3.8.13"
  }
 },
 "nbformat": 4,
 "nbformat_minor": 5
}
