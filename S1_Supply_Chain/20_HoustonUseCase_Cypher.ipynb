{
 "cells": [
  {
   "cell_type": "markdown",
   "id": "d3ebe820-bc6d-4948-b668-8b81cd3cbf29",
   "metadata": {
    "tags": []
   },
   "source": [
    "#  Setup stuff: Connectivity"
   ]
  },
  {
   "cell_type": "code",
   "execution_count": 3,
   "id": "1ea957d6-30c6-427a-ae4e-15ecfba0c4f9",
   "metadata": {},
   "outputs": [
    {
     "name": "stderr",
     "output_type": "stream",
     "text": [
      "VERBOSE: ../../../../external/katana/libgalois/include/katana/AsyncPool.h:152: 18860: async pool tids: 140388424836864, 140388422735616\n",
      "VERBOSE: ../../../../external/katana/libgalois/include/katana/AsyncPool.h:152: 18860: async pool tids: 140388420634368, 140388416435968\n",
      "VERBOSE: ../../../../external/katana/libgalois/include/katana/AsyncPool.h:152: 18860: async pool tids: 140388412237568, 140388403844864\n",
      "VERBOSE: ../../../../external/katana/libgalois/include/katana/AsyncPool.h:152: 18860: async pool tids: 140388395452160, 140388378670848\n",
      "VERBOSE: ../../../../external/katana/libgalois/include/katana/AsyncPool.h:152: 18860: async pool tids: 140388361889536, 140388359788288\n"
     ]
    },
    {
     "name": "stdout",
     "output_type": "stream",
     "text": [
      "<katana_enterprise.remote.sync_wrappers.Client object at 0x7faefdea23a0>\n"
     ]
    }
   ],
   "source": [
    "\n",
    "from katana import remote\n",
    "from katana.remote import import_data\n",
    "\n",
    "my_client = remote.Client()\n",
    "\n",
    "print(my_client)\n"
   ]
  },
  {
   "cell_type": "code",
   "execution_count": 4,
   "id": "97571016-7c02-4e90-a75a-136a0dacd35f",
   "metadata": {},
   "outputs": [
    {
     "name": "stdout",
     "output_type": "stream",
     "text": [
      "--\n"
     ]
    }
   ],
   "source": [
    "NUM_PARTITIONS = 3\n",
    "   #\n",
    "DB_NAME        = \"my_db\"\n",
    "GRAPH_NAME     = \"my_graph\"\n",
    "\n",
    "print(\"--\")\n"
   ]
  },
  {
   "cell_type": "code",
   "execution_count": 5,
   "id": "c5db6505-7fc8-4779-b194-9ed8945b9a90",
   "metadata": {},
   "outputs": [
    {
     "name": "stdout",
     "output_type": "stream",
     "text": [
      "<_Graph my_graph, BngAFupup4DduWF6BxHEqh8xwyN6iymwp7bX4uEfNico, 1>\n"
     ]
    }
   ],
   "source": [
    "#  CONNECT TO GRAPH\n",
    "\n",
    "for l_graph in my_client.get_database(name=DB_NAME).graphs_in_database():\n",
    "   if (l_graph.name == GRAPH_NAME):\n",
    "      my_graph=my_client.get_database(name=DB_NAME).get_graph_by_id(id=l_graph.graph_id)\n",
    "         #\n",
    "      break\n",
    "\n",
    "print(my_graph)\n"
   ]
  },
  {
   "cell_type": "markdown",
   "id": "40558f94-74e6-413e-9376-c6a89982a9d0",
   "metadata": {},
   "source": [
    "#  Setup stuff: Debugging"
   ]
  },
  {
   "cell_type": "code",
   "execution_count": null,
   "id": "ce3ecfbe-cca0-41dd-bb15-594f2d545365",
   "metadata": {},
   "outputs": [],
   "source": [
    "display(my_graph.num_nodes())\n",
    "display(my_graph.num_edges())\n",
    "\n",
    "#  Outputted values,\n",
    "#\n",
    "#  24\n",
    "#  42\n"
   ]
  },
  {
   "cell_type": "code",
   "execution_count": null,
   "id": "793186d1-d998-4662-b5f6-958a1a752892",
   "metadata": {},
   "outputs": [],
   "source": [
    "\n",
    "l_result = my_graph.query(\"\"\"\n",
    "\n",
    "   MATCH (n) - [ r ] -> (m)\n",
    "   RETURN n, r, m\n",
    "   \n",
    "   \"\"\", contextualize=True)\n",
    "\n",
    "l_result.view()\n"
   ]
  },
  {
   "cell_type": "markdown",
   "id": "dde9090b-7dfa-489c-85c8-4b5fb49047b3",
   "metadata": {},
   "source": [
    "<div> \n",
    "<img src=\"./01_Images/Result_01.png\" alt=\"Drawing\" style=\"width: 1800px;\"/>\n",
    "</div>\n"
   ]
  },
  {
   "cell_type": "code",
   "execution_count": null,
   "id": "14304446-5b53-4f14-aee4-78bde94c2e40",
   "metadata": {},
   "outputs": [],
   "source": [
    "\n",
    "l_result = my_graph.query(\"\"\"\n",
    "\n",
    "   MATCH (n) \n",
    "   WITH DISTINCT LABELS(n) AS temp, COUNT(n) AS tempCnt\n",
    "   UNWIND temp AS label\n",
    "   RETURN label, SUM(tempCnt) AS cnt\n",
    "   ORDER BY label\n",
    "   \n",
    "   \"\"\", contextualize=True)\n",
    "\n",
    "l_result.view()\n",
    "\n",
    "\n",
    "# display(print(l_result))\n",
    "# \n",
    "#  Outputted values\n",
    "#\n",
    "#     cnt        label\n",
    "#  0    2  Dist_Center\n",
    "#  1    4         Item\n",
    "#  2    8        Order\n",
    "#  3    4       Person\n",
    "#  4    2     Reviewer\n",
    "#  5    4        Store\n",
    "\n"
   ]
  },
  {
   "cell_type": "code",
   "execution_count": null,
   "id": "aff03cac-68ee-445a-9df2-ca72aad64ca5",
   "metadata": {},
   "outputs": [],
   "source": [
    "\n",
    "l_result = my_graph.query(\"\"\"\n",
    "\n",
    "   MATCH (n) - [r] -> (m) \n",
    "   WITH DISTINCT TYPE(r) AS temp, COUNT(r) AS tempCnt\n",
    "   RETURN temp, tempCnt\n",
    "   ORDER BY temp\n",
    "\n",
    "   \"\"\", contextualize=True)\n",
    "\n",
    "l_result.view()\n",
    "\n",
    "\n",
    "# display(print(l_result))\n",
    "# \n",
    "#  Outputted values,\n",
    "#\n",
    "#                     temp  tempCnt\n",
    "#  0          COMPRISED_OF        8\n",
    "#  1  FOUND_AT_DIST_CENTER        6\n",
    "#  2        FOUND_AT_STORE       12\n",
    "#  3                PLACED        8\n",
    "#  4           REVIEWED_BY        8\n",
    "\n"
   ]
  },
  {
   "cell_type": "markdown",
   "id": "16c47d1b-a0a4-4eae-b079-7eabf4e1c099",
   "metadata": {},
   "source": [
    "#  Analytics: Why we are here"
   ]
  },
  {
   "cell_type": "code",
   "execution_count": null,
   "id": "b3da2c75-2ce6-4b6c-a403-a57204a1c416",
   "metadata": {},
   "outputs": [],
   "source": [
    "\n",
    "#  Setting display width \n",
    "\n",
    "import pandas as pd\n",
    "   #\n",
    "pd.set_option(\"display.width\", 480)\n",
    "\n",
    "print(\"--\")\n"
   ]
  },
  {
   "cell_type": "code",
   "execution_count": null,
   "id": "4aae001c-b926-4e3b-b22a-8c2f77941da3",
   "metadata": {},
   "outputs": [],
   "source": [
    "\n",
    "l_result = my_graph.query(\"\"\"\n",
    "\n",
    "   MATCH (n: Person) - [r] -> (m) \n",
    "   WHERE\n",
    "      m.city = 'Houston'\n",
    "   RETURN *\n",
    "\n",
    "   \"\"\", contextualize=True)\n",
    "\n",
    "l_result.view()\n",
    "\n",
    "\n",
    "# display(print(l_result))\n",
    "# \n",
    "#  Outputted value,\n",
    "#\n",
    "#  Empty DataFrame\n",
    "#  Columns: []\n",
    "#  Index: []\n",
    "\n"
   ]
  },
  {
   "cell_type": "code",
   "execution_count": null,
   "id": "193a18f4-4c95-45d2-a2c4-3b9ede13ce8a",
   "metadata": {},
   "outputs": [],
   "source": [
    "\n",
    "l_result = my_graph.query(\"\"\"\n",
    "\n",
    "   MATCH (n: Person) - [r *] -> (m) \n",
    "   WHERE\n",
    "      m.city = 'Houston'\n",
    "   RETURN n, r, m\n",
    "\n",
    "   \"\"\", contextualize=True)\n",
    "\n",
    "l_result.view()\n",
    "\n",
    "\n",
    "# display(print(l_result))\n",
    "# \n",
    "#  Outputted value,\n",
    "#\n",
    "#  OperationError: FZSoWndtUBvHNquRkos1tkw5DS9CwvH6NF4X5Ady2WfZ-43CxYsTPwbyPAsoQQ backtrace (QueryClient.cpp:575):\n",
    "#  opgraph check failed (OpGraph.cpp:564): Unimplemented Features Pass (OpGraphErrorChecker.cpp:12):\n",
    "#  backtrace (UnimplementedFeaturesChecker.cpp:376): backtrace (OpGraph.cpp:822):\n",
    "#  backtrace (OpGraph.cpp:822): backtrace (OpGraph.cpp:798):\n",
    "#  returning named variable paths not yet supported (UnimplementedFeaturesChecker.cpp:197): InternalError:NotImplemented: InternalError:NotImplemented\n",
    "\n"
   ]
  },
  {
   "cell_type": "code",
   "execution_count": null,
   "id": "20764f78-b38c-4750-84a2-1971a247b0c0",
   "metadata": {},
   "outputs": [],
   "source": [
    "\n",
    "#  How Persons relate to Houston ..\n",
    "#\n",
    "#     P_101   Justin\n",
    "#     P_102   Anand\n",
    "#     P_103   Brian\n",
    "#     P_104   Sameer\n",
    "\n",
    "l_result = my_graph.query(\"\"\"\n",
    "\n",
    "   MATCH (n: Person) - [*] - > (m) \n",
    "   WHERE\n",
    "      m.city = 'Houston'\n",
    "   RETURN *\n",
    "\n",
    "   \"\"\", contextualize=True)\n",
    "\n",
    "l_result.view()\n",
    "\n",
    "\n",
    "# display(print(l_result))\n",
    "# \n",
    "#      n.internal_id  n.labels n.LABEL   n.id  n.name n.type  m.internal_id       m.labels      m.LABEL   m.city   m.id m.name m.type\n",
    "#      \n",
    "#  0               3  [Person]  Person  P_104  Sameer   node             23     [Reviewer]     Reviewer  Houston  R_102  Allen   node\n",
    "#  2               3  [Person]  Person  P_104  Sameer   node             21  [Dist_Center]  Dist_Center  Houston  D_102    NaN   node\n",
    "#  4               3  [Person]  Person  P_104  Sameer   node             21  [Dist_Center]  Dist_Center  Houston  D_102    NaN   node\n",
    "#  10              3  [Person]  Person  P_104  Sameer   node             19        [Store]        Store  Houston  S_104    NaN   node\n",
    "#  12              3  [Person]  Person  P_104  Sameer   node             19        [Store]        Store  Houston  S_104    NaN   node\n",
    "#  \n",
    "#  1               1  [Person]  Person  P_102   Anand   node             21  [Dist_Center]  Dist_Center  Houston  D_102    NaN   node\n",
    "#  3               1  [Person]  Person  P_102   Anand   node             21  [Dist_Center]  Dist_Center  Houston  D_102    NaN   node\n",
    "#  9               1  [Person]  Person  P_102   Anand   node             19        [Store]        Store  Houston  S_104    NaN   node\n",
    "#  11              1  [Person]  Person  P_102   Anand   node             19        [Store]        Store  Houston  S_104    NaN   node\n",
    "#  \n",
    "#  5               0  [Person]  Person  P_101  Justin   node             19        [Store]        Store  Houston  S_104    NaN   node\n",
    "#  7               0  [Person]  Person  P_101  Justin   node             19        [Store]        Store  Houston  S_104    NaN   node\n",
    "#  \n",
    "#  6               2  [Person]  Person  P_103   Brian   node             19        [Store]        Store  Houston  S_104    NaN   node\n",
    "#  8               2  [Person]  Person  P_103   Brian   node             19        [Store]        Store  Houston  S_104    NaN   node\n",
    "\n"
   ]
  },
  {
   "cell_type": "markdown",
   "id": "81126254-12b2-49df-8d36-50c55ad290c1",
   "metadata": {},
   "source": [
    "#  Betweeness algorithm"
   ]
  },
  {
   "cell_type": "code",
   "execution_count": 6,
   "id": "a00a5ad3-8ef0-4092-89ee-1031a0fee24a",
   "metadata": {},
   "outputs": [
    {
     "data": {
      "application/vnd.jupyter.widget-view+json": {
       "model_id": "c9353465fad3405985a8c9d3b6322062",
       "version_major": 2,
       "version_minor": 0
      },
      "text/plain": [
       "          0/? [?op/s]"
      ]
     },
     "metadata": {},
     "output_type": "display_data"
    },
    {
     "name": "stderr",
     "output_type": "stream",
     "text": [
      "\n",
      "Host 0 errors:\n",
      "Traceback (most recent call last):\n",
      "  File \"/opt/miniconda/lib/python3.8/site-packages/katana_enterprise/worker/worker.py\", line 85, in execute\n",
      "    value = function(graph)\n",
      "  File \"/tmp/ipykernel_18860/880321459.py\", line 1, in <lambda>\n",
      "AttributeError: 'katana_enterprise.distributed_native.Graph' object has no attribute 'nodes'\n",
      "\n",
      "Host 1 errors:\n",
      "Traceback (most recent call last):\n",
      "  File \"/opt/miniconda/lib/python3.8/site-packages/katana_enterprise/worker/worker.py\", line 85, in execute\n",
      "    value = function(graph)\n",
      "  File \"/tmp/ipykernel_18860/880321459.py\", line 1, in <lambda>\n",
      "AttributeError: 'katana_enterprise.distributed_native.Graph' object has no attribute 'nodes'\n",
      "\n",
      "Host 2 errors:\n",
      "Traceback (most recent call last):\n",
      "  File \"/opt/miniconda/lib/python3.8/site-packages/katana_enterprise/worker/worker.py\", line 85, in execute\n",
      "    value = function(graph)\n",
      "  File \"/tmp/ipykernel_18860/880321459.py\", line 1, in <lambda>\n",
      "AttributeError: 'katana_enterprise.distributed_native.Graph' object has no attribute 'nodes'\n"
     ]
    },
    {
     "ename": "AttributeError",
     "evalue": "'katana_enterprise.distributed_native.Graph' object has no attribute 'nodes'",
     "output_type": "error",
     "traceback": [
      "\u001b[0;31m---------------------------------------------------------------------------\u001b[0m",
      "\u001b[0;31mAttributeError\u001b[0m                            Traceback (most recent call last)",
      "Input \u001b[0;32mIn [6]\u001b[0m, in \u001b[0;36m<cell line: 1>\u001b[0;34m()\u001b[0m\n\u001b[0;32m----> 1\u001b[0m \u001b[43mmy_graph\u001b[49m\u001b[38;5;241;43m.\u001b[39;49m\u001b[43mrun\u001b[49m\u001b[43m(\u001b[49m\u001b[38;5;28;43;01mlambda\u001b[39;49;00m\u001b[43m \u001b[49m\u001b[43mg\u001b[49m\u001b[43m:\u001b[49m\u001b[43m \u001b[49m\u001b[43mg\u001b[49m\u001b[38;5;241;43m.\u001b[39;49m\u001b[43mnodes\u001b[49m\u001b[38;5;241;43m.\u001b[39;49m\u001b[43mremove_property\u001b[49m\u001b[43m(\u001b[49m\u001b[38;5;124;43m\"\u001b[39;49m\u001b[38;5;124;43mcentrality\u001b[39;49m\u001b[38;5;124;43m\"\u001b[39;49m\u001b[43m)\u001b[49m\u001b[43m)\u001b[49m\n\u001b[1;32m      3\u001b[0m \u001b[38;5;28mprint\u001b[39m(\u001b[38;5;124m\"\u001b[39m\u001b[38;5;124m--\u001b[39m\u001b[38;5;124m\"\u001b[39m)\n",
      "File \u001b[0;32m/opt/conda/lib/python3.8/site-packages/katana_enterprise/async_to_sync.py:249\u001b[0m, in \u001b[0;36mAsyncToSync.<locals>.do_wrap.<locals>.wrapper\u001b[0;34m(self, *args, **kwargs)\u001b[0m\n\u001b[1;32m    246\u001b[0m \u001b[38;5;129m@wraps\u001b[39m(underlying_func)\n\u001b[1;32m    247\u001b[0m \u001b[38;5;28;01mdef\u001b[39;00m \u001b[38;5;21mwrapper\u001b[39m(\u001b[38;5;28mself\u001b[39m, \u001b[38;5;241m*\u001b[39margs, \u001b[38;5;241m*\u001b[39m\u001b[38;5;241m*\u001b[39mkwargs):\n\u001b[1;32m    248\u001b[0m     \u001b[38;5;28;01mreturn\u001b[39;00m registry\u001b[38;5;241m.\u001b[39masync_to_sync(\n\u001b[0;32m--> 249\u001b[0m         \u001b[43munderlying_func\u001b[49m\u001b[43m(\u001b[49m\n\u001b[1;32m    250\u001b[0m \u001b[43m            \u001b[49m\u001b[43mget_self_func\u001b[49m\u001b[43m(\u001b[49m\u001b[38;5;28;43mself\u001b[39;49m\u001b[43m)\u001b[49m\u001b[43m,\u001b[49m\n\u001b[1;32m    251\u001b[0m \u001b[43m            \u001b[49m\u001b[38;5;241;43m*\u001b[39;49m\u001b[43m(\u001b[49m\u001b[43mregistry\u001b[49m\u001b[38;5;241;43m.\u001b[39;49m\u001b[43msync_to_async\u001b[49m\u001b[43m(\u001b[49m\u001b[43ma\u001b[49m\u001b[43m)\u001b[49m\u001b[43m \u001b[49m\u001b[38;5;28;43;01mfor\u001b[39;49;00m\u001b[43m \u001b[49m\u001b[43ma\u001b[49m\u001b[43m \u001b[49m\u001b[38;5;129;43;01min\u001b[39;49;00m\u001b[43m \u001b[49m\u001b[43margs\u001b[49m\u001b[43m)\u001b[49m\u001b[43m,\u001b[49m\n\u001b[1;32m    252\u001b[0m \u001b[43m            \u001b[49m\u001b[38;5;241;43m*\u001b[39;49m\u001b[38;5;241;43m*\u001b[39;49m\u001b[43m{\u001b[49m\u001b[43mk\u001b[49m\u001b[43m:\u001b[49m\u001b[43m \u001b[49m\u001b[43mregistry\u001b[49m\u001b[38;5;241;43m.\u001b[39;49m\u001b[43msync_to_async\u001b[49m\u001b[43m(\u001b[49m\u001b[43mv\u001b[49m\u001b[43m)\u001b[49m\u001b[43m \u001b[49m\u001b[38;5;28;43;01mfor\u001b[39;49;00m\u001b[43m \u001b[49m\u001b[43mk\u001b[49m\u001b[43m,\u001b[49m\u001b[43m \u001b[49m\u001b[43mv\u001b[49m\u001b[43m \u001b[49m\u001b[38;5;129;43;01min\u001b[39;49;00m\u001b[43m \u001b[49m\u001b[43mkwargs\u001b[49m\u001b[38;5;241;43m.\u001b[39;49m\u001b[43mitems\u001b[49m\u001b[43m(\u001b[49m\u001b[43m)\u001b[49m\u001b[43m}\u001b[49m\u001b[43m,\u001b[49m\n\u001b[1;32m    253\u001b[0m \u001b[43m        \u001b[49m\u001b[43m)\u001b[49m\n\u001b[1;32m    254\u001b[0m     )\n",
      "File \u001b[0;32m/opt/conda/lib/python3.8/site-packages/katana_enterprise/async_to_sync.py:176\u001b[0m, in \u001b[0;36masync_to_sync.<locals>.wrapper\u001b[0;34m(timeout, *args, **kwargs)\u001b[0m\n\u001b[1;32m    166\u001b[0m     registry \u001b[38;5;241m=\u001b[39m AsyncToSyncClassRegistry\u001b[38;5;241m.\u001b[39mget()\n\u001b[1;32m    167\u001b[0m     \u001b[38;5;28;01mreturn\u001b[39;00m registry\u001b[38;5;241m.\u001b[39masync_to_sync(\n\u001b[1;32m    168\u001b[0m         wait_for(\n\u001b[1;32m    169\u001b[0m             async_func(\n\u001b[0;32m   (...)\u001b[0m\n\u001b[1;32m    174\u001b[0m         )\n\u001b[1;32m    175\u001b[0m     )\n\u001b[0;32m--> 176\u001b[0m \u001b[38;5;28;01mreturn\u001b[39;00m \u001b[43mwait_for\u001b[49m\u001b[43m(\u001b[49m\u001b[43masync_func\u001b[49m\u001b[43m(\u001b[49m\u001b[38;5;241;43m*\u001b[39;49m\u001b[43margs\u001b[49m\u001b[43m,\u001b[49m\u001b[43m \u001b[49m\u001b[38;5;241;43m*\u001b[39;49m\u001b[38;5;241;43m*\u001b[39;49m\u001b[43mkwargs\u001b[49m\u001b[43m)\u001b[49m\u001b[43m,\u001b[49m\u001b[43m \u001b[49m\u001b[43mtimeout\u001b[49m\u001b[38;5;241;43m=\u001b[39;49m\u001b[43mtimeout\u001b[49m\u001b[43m)\u001b[49m\n",
      "File \u001b[0;32m/opt/conda/lib/python3.8/site-packages/katana_enterprise/async_to_sync.py:147\u001b[0m, in \u001b[0;36mwait_for\u001b[0;34m(coro, timeout)\u001b[0m\n\u001b[1;32m    145\u001b[0m \u001b[38;5;28;01mtry\u001b[39;00m:\n\u001b[1;32m    146\u001b[0m     future \u001b[38;5;241m=\u001b[39m asyncio\u001b[38;5;241m.\u001b[39mrun_coroutine_threadsafe(timeout_coro, loop\u001b[38;5;241m=\u001b[39mAsyncRunnerThread\u001b[38;5;241m.\u001b[39mget()\u001b[38;5;241m.\u001b[39mloop)\n\u001b[0;32m--> 147\u001b[0m     \u001b[38;5;28;01mreturn\u001b[39;00m \u001b[43mfuture\u001b[49m\u001b[38;5;241;43m.\u001b[39;49m\u001b[43mresult\u001b[49m\u001b[43m(\u001b[49m\u001b[43m)\u001b[49m\n\u001b[1;32m    148\u001b[0m \u001b[38;5;28;01mexcept\u001b[39;00m \u001b[38;5;167;01mKeyboardInterrupt\u001b[39;00m:\n\u001b[1;32m    149\u001b[0m     inner_future\u001b[38;5;241m.\u001b[39mcancel()\n",
      "File \u001b[0;32m/opt/conda/lib/python3.8/concurrent/futures/_base.py:444\u001b[0m, in \u001b[0;36mFuture.result\u001b[0;34m(self, timeout)\u001b[0m\n\u001b[1;32m    442\u001b[0m     \u001b[38;5;28;01mraise\u001b[39;00m CancelledError()\n\u001b[1;32m    443\u001b[0m \u001b[38;5;28;01melif\u001b[39;00m \u001b[38;5;28mself\u001b[39m\u001b[38;5;241m.\u001b[39m_state \u001b[38;5;241m==\u001b[39m FINISHED:\n\u001b[0;32m--> 444\u001b[0m     \u001b[38;5;28;01mreturn\u001b[39;00m \u001b[38;5;28;43mself\u001b[39;49m\u001b[38;5;241;43m.\u001b[39;49m\u001b[43m__get_result\u001b[49m\u001b[43m(\u001b[49m\u001b[43m)\u001b[49m\n\u001b[1;32m    445\u001b[0m \u001b[38;5;28;01melse\u001b[39;00m:\n\u001b[1;32m    446\u001b[0m     \u001b[38;5;28;01mraise\u001b[39;00m \u001b[38;5;167;01mTimeoutError\u001b[39;00m()\n",
      "File \u001b[0;32m/opt/conda/lib/python3.8/concurrent/futures/_base.py:389\u001b[0m, in \u001b[0;36mFuture.__get_result\u001b[0;34m(self)\u001b[0m\n\u001b[1;32m    387\u001b[0m \u001b[38;5;28;01mif\u001b[39;00m \u001b[38;5;28mself\u001b[39m\u001b[38;5;241m.\u001b[39m_exception:\n\u001b[1;32m    388\u001b[0m     \u001b[38;5;28;01mtry\u001b[39;00m:\n\u001b[0;32m--> 389\u001b[0m         \u001b[38;5;28;01mraise\u001b[39;00m \u001b[38;5;28mself\u001b[39m\u001b[38;5;241m.\u001b[39m_exception\n\u001b[1;32m    390\u001b[0m     \u001b[38;5;28;01mfinally\u001b[39;00m:\n\u001b[1;32m    391\u001b[0m         \u001b[38;5;66;03m# Break a reference cycle with the exception in self._exception\u001b[39;00m\n\u001b[1;32m    392\u001b[0m         \u001b[38;5;28mself\u001b[39m \u001b[38;5;241m=\u001b[39m \u001b[38;5;28;01mNone\u001b[39;00m\n",
      "File \u001b[0;32m/opt/conda/lib/python3.8/asyncio/tasks.py:455\u001b[0m, in \u001b[0;36mwait_for\u001b[0;34m(fut, timeout, loop)\u001b[0m\n\u001b[1;32m    450\u001b[0m     warnings\u001b[38;5;241m.\u001b[39mwarn(\u001b[38;5;124m\"\u001b[39m\u001b[38;5;124mThe loop argument is deprecated since Python 3.8, \u001b[39m\u001b[38;5;124m\"\u001b[39m\n\u001b[1;32m    451\u001b[0m                   \u001b[38;5;124m\"\u001b[39m\u001b[38;5;124mand scheduled for removal in Python 3.10.\u001b[39m\u001b[38;5;124m\"\u001b[39m,\n\u001b[1;32m    452\u001b[0m                   \u001b[38;5;167;01mDeprecationWarning\u001b[39;00m, stacklevel\u001b[38;5;241m=\u001b[39m\u001b[38;5;241m2\u001b[39m)\n\u001b[1;32m    454\u001b[0m \u001b[38;5;28;01mif\u001b[39;00m timeout \u001b[38;5;129;01mis\u001b[39;00m \u001b[38;5;28;01mNone\u001b[39;00m:\n\u001b[0;32m--> 455\u001b[0m     \u001b[38;5;28;01mreturn\u001b[39;00m \u001b[38;5;28;01mawait\u001b[39;00m fut\n\u001b[1;32m    457\u001b[0m \u001b[38;5;28;01mif\u001b[39;00m timeout \u001b[38;5;241m<\u001b[39m\u001b[38;5;241m=\u001b[39m \u001b[38;5;241m0\u001b[39m:\n\u001b[1;32m    458\u001b[0m     fut \u001b[38;5;241m=\u001b[39m ensure_future(fut, loop\u001b[38;5;241m=\u001b[39mloop)\n",
      "File \u001b[0;32m/opt/conda/lib/python3.8/site-packages/katana_enterprise/remote/aio/graph.py:515\u001b[0m, in \u001b[0;36mGraph.run\u001b[0;34m(self, function)\u001b[0m\n\u001b[1;32m    513\u001b[0m \u001b[38;5;28mprint\u001b[39m(result\u001b[38;5;241m.\u001b[39mstdout, file\u001b[38;5;241m=\u001b[39msys\u001b[38;5;241m.\u001b[39mstdout, end\u001b[38;5;241m=\u001b[39m\u001b[38;5;124m\"\u001b[39m\u001b[38;5;124m\"\u001b[39m)\n\u001b[1;32m    514\u001b[0m \u001b[38;5;28mprint\u001b[39m(result\u001b[38;5;241m.\u001b[39mstderr, file\u001b[38;5;241m=\u001b[39msys\u001b[38;5;241m.\u001b[39mstderr, end\u001b[38;5;241m=\u001b[39m\u001b[38;5;124m\"\u001b[39m\u001b[38;5;124m\"\u001b[39m)\n\u001b[0;32m--> 515\u001b[0m \u001b[38;5;28;01mreturn\u001b[39;00m \u001b[43mresult\u001b[49m\u001b[38;5;241;43m.\u001b[39;49m\u001b[43mvalue\u001b[49m\n",
      "File \u001b[0;32m/opt/conda/lib/python3.8/site-packages/katana_enterprise/remote/run_result.py:21\u001b[0m, in \u001b[0;36mRunResult.value\u001b[0;34m(self)\u001b[0m\n\u001b[1;32m     19\u001b[0m \u001b[38;5;129m@property\u001b[39m\n\u001b[1;32m     20\u001b[0m \u001b[38;5;28;01mdef\u001b[39;00m \u001b[38;5;21mvalue\u001b[39m(\u001b[38;5;28mself\u001b[39m):\n\u001b[0;32m---> 21\u001b[0m     \u001b[38;5;28;43mself\u001b[39;49m\u001b[38;5;241;43m.\u001b[39;49m\u001b[43mreraise_if_error\u001b[49m\u001b[43m(\u001b[49m\u001b[43m)\u001b[49m\n\u001b[1;32m     22\u001b[0m     \u001b[38;5;28;01massert\u001b[39;00m \u001b[38;5;28mself\u001b[39m\u001b[38;5;241m.\u001b[39msuccess\n\u001b[1;32m     23\u001b[0m     \u001b[38;5;28;01mreturn\u001b[39;00m \u001b[38;5;28mself\u001b[39m\u001b[38;5;241m.\u001b[39m_value\n",
      "File \u001b[0;32m/opt/conda/lib/python3.8/site-packages/katana_enterprise/remote/run_result.py:17\u001b[0m, in \u001b[0;36mRunResult.reraise_if_error\u001b[0;34m(self)\u001b[0m\n\u001b[1;32m     15\u001b[0m \u001b[38;5;28;01mdef\u001b[39;00m \u001b[38;5;21mreraise_if_error\u001b[39m(\u001b[38;5;28mself\u001b[39m):\n\u001b[1;32m     16\u001b[0m     \u001b[38;5;28;01mif\u001b[39;00m \u001b[38;5;129;01mnot\u001b[39;00m \u001b[38;5;28mself\u001b[39m\u001b[38;5;241m.\u001b[39msuccess:\n\u001b[0;32m---> 17\u001b[0m         \u001b[38;5;28;01mraise\u001b[39;00m \u001b[38;5;28mself\u001b[39m\u001b[38;5;241m.\u001b[39m_value\n",
      "File \u001b[0;32m/opt/miniconda/lib/python3.8/site-packages/katana_enterprise/worker/worker.py:126\u001b[0m, in \u001b[0;36mexecute\u001b[0;34m()\u001b[0m\n",
      "File \u001b[0;32m/opt/miniconda/lib/python3.8/site-packages/katana_enterprise/worker/worker.py:85\u001b[0m, in \u001b[0;36mexecute\u001b[0;34m()\u001b[0m\n",
      "Input \u001b[0;32mIn [6]\u001b[0m, in \u001b[0;36m<lambda>\u001b[0;34m()\u001b[0m\n\u001b[0;32m----> 1\u001b[0m my_graph\u001b[38;5;241m.\u001b[39mrun(\u001b[38;5;28;01mlambda\u001b[39;00m g: g\u001b[38;5;241m.\u001b[39mnodes\u001b[38;5;241m.\u001b[39mremove_property(\u001b[38;5;124m\"\u001b[39m\u001b[38;5;124mcentrality\u001b[39m\u001b[38;5;124m\"\u001b[39m))\n\u001b[1;32m      3\u001b[0m \u001b[38;5;28mprint\u001b[39m(\u001b[38;5;124m\"\u001b[39m\u001b[38;5;124m--\u001b[39m\u001b[38;5;124m\"\u001b[39m)\n",
      "\u001b[0;31mAttributeError\u001b[0m: 'katana_enterprise.distributed_native.Graph' object has no attribute 'nodes'"
     ]
    }
   ],
   "source": [
    "\n",
    "my_graph.run(lambda g: g.nodes.remove_property(\"centrality\"))\n",
    "\n",
    "print(\"--\")\n",
    "\n",
    "#  AttributeError: 'katana_enterprise.distributed_native.Graph' object has no attribute 'nodes'\n"
   ]
  },
  {
   "cell_type": "code",
   "execution_count": 7,
   "id": "23067305-ffd0-41f0-abf0-1034beefd402",
   "metadata": {},
   "outputs": [
    {
     "data": {
      "application/vnd.jupyter.widget-view+json": {
       "model_id": "f852d088c3084521a9c33cdeed793254",
       "version_major": 2,
       "version_minor": 0
      },
      "text/plain": [
       "          0/? [?op/s]"
      ]
     },
     "metadata": {},
     "output_type": "display_data"
    },
    {
     "name": "stdout",
     "output_type": "stream",
     "text": [
      "--\n"
     ]
    }
   ],
   "source": [
    "\n",
    "from katana.remote import analytics\n",
    "\n",
    "analytics.betweenness_centrality(\n",
    "   my_graph,\n",
    "      #\n",
    "   result_property_name = \"centrality\",\n",
    "   num_sources          = 100\n",
    "   )\n",
    "\n",
    "print(\"--\")\n",
    "\n"
   ]
  },
  {
   "cell_type": "code",
   "execution_count": 8,
   "id": "1eb36918-4184-4b30-b619-371f4d5c3280",
   "metadata": {},
   "outputs": [
    {
     "data": {
      "application/vnd.jupyter.widget-view+json": {
       "model_id": "1a21e6277153442f8e672327b6cc5fc6",
       "version_major": 2,
       "version_minor": 0
      },
      "text/plain": [
       "          0/? [?op/s]"
      ]
     },
     "metadata": {},
     "output_type": "display_data"
    },
    {
     "data": {
      "application/vnd.jupyter.widget-view+json": {
       "model_id": "59d1d336814f45bb97e2886c5af53d99",
       "version_major": 2,
       "version_minor": 0
      },
      "text/plain": [
       "          0/? [?op/s]"
      ]
     },
     "metadata": {},
     "output_type": "display_data"
    },
    {
     "ename": "NameError",
     "evalue": "name 'result' is not defined",
     "output_type": "error",
     "traceback": [
      "\u001b[0;31m---------------------------------------------------------------------------\u001b[0m",
      "\u001b[0;31mNameError\u001b[0m                                 Traceback (most recent call last)",
      "Input \u001b[0;32mIn [8]\u001b[0m, in \u001b[0;36m<cell line: 12>\u001b[0;34m()\u001b[0m\n\u001b[1;32m      1\u001b[0m l_result \u001b[38;5;241m=\u001b[39m my_graph\u001b[38;5;241m.\u001b[39mquery(\n\u001b[1;32m      2\u001b[0m    \u001b[38;5;124mf\u001b[39m\u001b[38;5;124m\"\"\"\u001b[39m\n\u001b[1;32m      3\u001b[0m \u001b[38;5;124m    \u001b[39m\n\u001b[0;32m   (...)\u001b[0m\n\u001b[1;32m      9\u001b[0m \u001b[38;5;124m    \u001b[39m\u001b[38;5;124m\"\"\"\u001b[39m, contextualize\u001b[38;5;241m=\u001b[39m\u001b[38;5;28;01mTrue\u001b[39;00m,\n\u001b[1;32m     10\u001b[0m    )\n\u001b[0;32m---> 12\u001b[0m \u001b[43mresult\u001b[49m\u001b[38;5;241m.\u001b[39mview()\n",
      "\u001b[0;31mNameError\u001b[0m: name 'result' is not defined"
     ]
    }
   ],
   "source": [
    "\n",
    "l_result = my_graph.query(\n",
    "   f\"\"\"\n",
    "    \n",
    "   MATCH (n)\n",
    "   RETURN n, n.centrality\n",
    "   ORDER BY n.centrality DESC\n",
    "   LIMIT 30\n",
    "    \n",
    "    \"\"\", contextualize=True,\n",
    "   )\n",
    "\n",
    "l_result.view()\n",
    "\n"
   ]
  },
  {
   "cell_type": "code",
   "execution_count": 11,
   "id": "ccc87583-a3ad-4cc2-a0a6-148ffa0fb795",
   "metadata": {},
   "outputs": [
    {
     "data": {
      "application/vnd.jupyter.widget-view+json": {
       "model_id": "32e2e6864c5048129f607ba09fc056e7",
       "version_major": 2,
       "version_minor": 0
      },
      "text/plain": [
       "VBox(children=(HTML(value='\\n                <style>\\n                #jp-main-content-panel .widget-container…"
      ]
     },
     "metadata": {},
     "output_type": "display_data"
    }
   ],
   "source": [
    "\n",
    "l_result.view()\n"
   ]
  },
  {
   "cell_type": "code",
   "execution_count": null,
   "id": "7f4bb673-99b7-4654-a9b4-04dfaf0a6fd8",
   "metadata": {},
   "outputs": [],
   "source": []
  }
 ],
 "metadata": {
  "kernelspec": {
   "display_name": "Python 3 (ipykernel)",
   "language": "python",
   "name": "python3"
  },
  "language_info": {
   "codemirror_mode": {
    "name": "ipython",
    "version": 3
   },
   "file_extension": ".py",
   "mimetype": "text/x-python",
   "name": "python",
   "nbconvert_exporter": "python",
   "pygments_lexer": "ipython3",
   "version": "3.8.13"
  }
 },
 "nbformat": 4,
 "nbformat_minor": 5
}
