{
 "cells": [
  {
   "cell_type": "code",
   "execution_count": null,
   "id": "71daaf1f-efc8-470f-9fa9-6e278b4018cb",
   "metadata": {},
   "outputs": [],
   "source": [
    "\n",
    "#  This file demonstrates,\n",
    "#\n",
    "#     .  A better approach to json.loads()\n",
    "#        Look for: import ast\n",
    "#\n",
    "#     .  Manual Cypher CREATE loops\n",
    "#\n"
   ]
  },
  {
   "cell_type": "markdown",
   "id": "d73e5a84-65ef-45bc-b0e4-2de3b28f6441",
   "metadata": {},
   "source": [
    "#  Setup stuff: Connectivity"
   ]
  },
  {
   "cell_type": "code",
   "execution_count": null,
   "id": "e4e24b74-89d3-431f-9211-fb476862852c",
   "metadata": {},
   "outputs": [],
   "source": [
    "\n",
    "from katana import remote\n",
    "from katana.remote import import_data\n",
    "\n",
    "my_client = remote.Client()\n",
    "\n",
    "print(my_client)\n"
   ]
  },
  {
   "cell_type": "code",
   "execution_count": null,
   "id": "9715c6f6-137c-429e-8c17-7a1d538c543f",
   "metadata": {},
   "outputs": [],
   "source": [
    "\n",
    "NUM_PARTITIONS  = 3\n",
    "   #\n",
    "DB_NAME         = \"my_db\"\n",
    "GRAPH_NAME      = \"my_graph\"\n",
    "\n",
    "print(\"--\")\n"
   ]
  },
  {
   "cell_type": "code",
   "execution_count": null,
   "id": "c38c4f0c-9431-4802-946c-d1ebc0136972",
   "metadata": {},
   "outputs": [],
   "source": [
    "\n",
    "#  DELETE ALL GRAPHS\n",
    "\n",
    "for l_database in my_client.databases():\n",
    "   for l_graph in my_client.get_database(name=l_database.name).graphs_in_database():\n",
    "      l_handle=my_client.get_database(name=l_database.name).get_graph_by_id(id=l_graph.graph_id)\n",
    "      l_handle.delete()\n",
    "\n",
    "for l_graph in my_client.graphs():\n",
    "   print(\"GRAPH ID: \", l_graph.graph_id, \"      GRAPH Version: \", l_graph.version)\n",
    "\n",
    "print(\"--\")\n"
   ]
  },
  {
   "cell_type": "code",
   "execution_count": null,
   "id": "99c7e24c-b039-4b69-8f52-5db15a26a28e",
   "metadata": {},
   "outputs": [],
   "source": [
    "\n",
    "#  DELETE ALL DATABASES\n",
    "\n",
    "for l_database in my_client.databases():\n",
    "   if (l_database.name != \"default\"):\n",
    "      my_client.get_database(name=l_database.name).delete_database()\n",
    "      print(\"--\")\n",
    "\n",
    "for l_database in my_client.databases():\n",
    "   print(\"DB ID: \", l_database.database_id, \"     DB Name: \", l_database.name)\n"
   ]
  },
  {
   "cell_type": "code",
   "execution_count": null,
   "id": "5e171876-c999-4711-aa8a-877698e947e2",
   "metadata": {},
   "outputs": [],
   "source": [
    "\n",
    "#  CREATE DATABASE\n",
    "\n",
    "my_database = my_client.create_database(name=DB_NAME)\n",
    "\n",
    "print(my_database.database_id)\n"
   ]
  },
  {
   "cell_type": "code",
   "execution_count": null,
   "id": "ba10f3c5-4f74-4523-be06-5370ed273138",
   "metadata": {},
   "outputs": [],
   "source": [
    "\n",
    "#  CREATE GRAPH\n",
    "\n",
    "my_graph = my_client.get_database(name=DB_NAME).create_graph(name=GRAPH_NAME, num_partitions=NUM_PARTITIONS)\n",
    "\n",
    "print(my_graph)\n"
   ]
  },
  {
   "cell_type": "code",
   "execution_count": null,
   "id": "a9ca0967-8d5c-4cc5-bb04-c244cf887b61",
   "metadata": {},
   "outputs": [],
   "source": [
    "\n",
    "#  CONNECT TO GRAPH\n",
    "\n",
    "my_graph, *_ = my_client.get_database(name=DB_NAME).find_graphs_by_name(GRAPH_NAME)\n",
    "\n",
    "print(my_graph)\n"
   ]
  },
  {
   "cell_type": "code",
   "execution_count": null,
   "id": "19027cb8-5793-45e1-a316-fcbc0bf2bd4a",
   "metadata": {},
   "outputs": [],
   "source": [
    "\n",
    "display(my_graph.num_nodes())\n",
    "display(my_graph.num_edges())\n"
   ]
  },
  {
   "cell_type": "markdown",
   "id": "56f72cd2-5b67-4807-a453-230f3799e559",
   "metadata": {},
   "source": [
    "#  Group: 01"
   ]
  },
  {
   "cell_type": "code",
   "execution_count": null,
   "id": "af64cf70-8893-40a5-a84f-48f7f366720a",
   "metadata": {},
   "outputs": [],
   "source": [
    "\n",
    "import pandas as pd\n",
    "   #\n",
    "pd.set_option(\"display.width\", 480)\n",
    "\n",
    "print(\"--\")\n"
   ]
  },
  {
   "cell_type": "code",
   "execution_count": null,
   "id": "6726ec52-c645-4bbe-81c4-9f19f6ae9c51",
   "metadata": {},
   "outputs": [],
   "source": [
    "#  Simple test, write, simple data types ..\n",
    "\n",
    "df_data = pd.DataFrame([\n",
    "   [101, \"Sameer\"    , \"Katana\"                , \"Bay\"    , \"my_vertice\"],\n",
    "   [102, \"Justin\"    , \"Katana\"                , \"LA\"     , \"my_vertice\"],\n",
    "   [103, \"Brian\"     , \"Katana\"                , \"Denver\" , \"my_vertice\"],\n",
    "   ], columns = [\"col1\", \"col2\", \"col3\", \"col4\", \"col5\"])\n",
    "\n",
    "df_data.head(20)\n"
   ]
  },
  {
   "cell_type": "code",
   "execution_count": null,
   "id": "443d0211-c9f0-4b77-945b-8c9e413b4c17",
   "metadata": {},
   "outputs": [],
   "source": [
    "\n",
    "for l_each in df_data.itertuples():\n",
    "    \n",
    "   l_query = \"\"\"\n",
    "\n",
    "      CREATE ( n: {4} {{ colA: {0} }} )                         //  Notice double curly braces\n",
    "      SET n.colB = '{1}', n.colC = '{2}', n.colD = '{3}'\n",
    "      \n",
    "      \"\"\".format(l_each.col1, l_each.col2, l_each.col3, l_each.col4, l_each.col5)\n",
    "         \n",
    "   l_result0 = my_graph.query(l_query)\n",
    "        \n",
    "print(\"--\")\n"
   ]
  },
  {
   "cell_type": "code",
   "execution_count": null,
   "id": "8d21f954-a012-45f1-be1b-18a0780e602c",
   "metadata": {},
   "outputs": [],
   "source": [
    "\n",
    "l_result = my_graph.query(\"\"\"\n",
    "\n",
    "   MATCH (n)\n",
    "   RETURN n\n",
    "   \n",
    "   \"\"\")\n",
    "\n",
    "print(l_result)\n"
   ]
  },
  {
   "cell_type": "markdown",
   "id": "8a154f1f-1037-458d-9a62-f89549cf6a36",
   "metadata": {},
   "source": [
    "#  Reset from above "
   ]
  },
  {
   "cell_type": "code",
   "execution_count": null,
   "id": "e242ac98-302c-4757-a50a-0cd5f3966ac5",
   "metadata": {},
   "outputs": [],
   "source": [
    "\n",
    "#  Reset from above, delete and recreate the graph\n",
    "\n",
    "#  DELETE GRAPH\n",
    "#\n",
    "for l_graph in my_client.get_database(name=DB_NAME).graphs_in_database():\n",
    "   if (l_graph.name == GRAPH_NAME):\n",
    "      l_handle=my_client.get_database(name=DB_NAME).get_graph_by_id(id=l_graph.graph_id)\n",
    "      l_handle.delete()\n",
    "\n",
    "print(\"--\")\n"
   ]
  },
  {
   "cell_type": "code",
   "execution_count": null,
   "id": "07315f7e-c63b-43a3-b420-f55445df1872",
   "metadata": {},
   "outputs": [],
   "source": [
    "\n",
    "#  CREATE GRAPH\n",
    "#\n",
    "my_graph = my_client.get_database(name=DB_NAME).create_graph(name=GRAPH_NAME, num_partitions=NUM_PARTITIONS)\n",
    "\n",
    "print(my_graph)\n"
   ]
  },
  {
   "cell_type": "markdown",
   "id": "d69a212d-9dd6-4bcb-9fe1-c145d90800e0",
   "metadata": {},
   "source": [
    "#  Group: 02"
   ]
  },
  {
   "cell_type": "code",
   "execution_count": null,
   "id": "5acf7a95-f923-43d9-83d1-9a1b44d341ff",
   "metadata": {},
   "outputs": [],
   "source": [
    "\n",
    "#  Write the more complex dataframe ..\n",
    "\n",
    "df_data = pd.DataFrame([\n",
    "   [101, 30, {\"ab\":1, \"we\":2, \"as\":3}, \"String1\", \"my_vertice\"],\n",
    "   [102, 31, {\"ab\":4, \"we\":5, \"as\":6}, \"String2\", \"my_vertice\"],\n",
    "   [103, 32, {\"ab\":7, \"we\":8, \"as\":9}, \"String2\", \"my_vertice\"],\n",
    "   ], columns = [\"col1\", \"col2\", \"col3\", \"col4\", \"col5\"])\n",
    "\n",
    "df_data.head(20)\n"
   ]
  },
  {
   "cell_type": "code",
   "execution_count": null,
   "id": "da941d26-4e3f-4873-9016-a058acb933fb",
   "metadata": {},
   "outputs": [],
   "source": [
    "#  Prove that we can (parse) the dataframe above, versus say \"col3\" being a string ..\n",
    "\n",
    "for l_each in df_data.itertuples():\n",
    "   #  print(type(l_each.col3))                               #  <class 'dict'>\n",
    "   print(l_each.col3[\"ab\"])\n"
   ]
  },
  {
   "cell_type": "code",
   "execution_count": null,
   "id": "913dda2e-3969-44da-b5b8-ea3f9ac9e0ae",
   "metadata": {},
   "outputs": [],
   "source": [
    "\n",
    "for l_each in df_data.itertuples():\n",
    "   l_query = \"\"\"\n",
    "\n",
    "      CREATE ( n: {4} {{ col1: {0} }} )                         //  Notice double curly braces\n",
    "      SET n.col2 = {1}, n.col3 = \\\"{2}\\\", n.col4 = '{3}'\n",
    "      \n",
    "      \"\"\".format(l_each.col1, l_each.col2, l_each.col3, l_each.col4, l_each.col5)\n",
    "         \n",
    "   l_result0 = my_graph.query(l_query)\n",
    "        \n",
    "print(\"--\")\n"
   ]
  },
  {
   "cell_type": "code",
   "execution_count": 18,
   "id": "c60fc7df-ad0f-45cc-8dc0-a551d7426bc2",
   "metadata": {},
   "outputs": [
    {
     "data": {
      "application/vnd.jupyter.widget-view+json": {
       "model_id": "d9cac367cc3c4d8d8a710959d1e2cb1f",
       "version_major": 2,
       "version_minor": 0
      },
      "text/plain": [
       "          0/? [?op/s]"
      ]
     },
     "metadata": {},
     "output_type": "display_data"
    },
    {
     "name": "stdout",
     "output_type": "stream",
     "text": [
      "                          col3\n",
      "0  {'ab': 7, 'we': 8, 'as': 9}\n",
      "1  {'ab': 4, 'we': 5, 'as': 6}\n",
      "2  {'ab': 1, 'we': 2, 'as': 3}\n"
     ]
    }
   ],
   "source": [
    "\n",
    "l_result = my_graph.query(\"\"\"\n",
    "\n",
    "   MATCH (n)\n",
    "   RETURN n.col3 AS col3\n",
    "   \"\"\")\n",
    "\n",
    "print(l_result)\n"
   ]
  },
  {
   "cell_type": "code",
   "execution_count": 24,
   "id": "ae1b8b0c-85ab-4bd0-9441-54ccce4a236e",
   "metadata": {},
   "outputs": [
    {
     "data": {
      "application/vnd.jupyter.widget-view+json": {
       "model_id": "8cb2f4de482e4dc39d851da2f7710639",
       "version_major": 2,
       "version_minor": 0
      },
      "text/plain": [
       "          0/? [?op/s]"
      ]
     },
     "metadata": {},
     "output_type": "display_data"
    },
    {
     "ename": "OperationError",
     "evalue": "9q9TkPCn7YsXQmYx6Qu3TzMbvZdANiQWdDXh6t54odv1-3ZHTqbBjHdvjFwF3b backtrace (QueryOperation.cpp:67): backtrace (Network.h:331): backtrace (QueryOperation.cpp:70): backtrace (QueryClient.cpp:603): unable to translate openCypher parse tree to internal IR (OpGraph.cpp:224): Syntax error: The query cannot be recognized by openCypher. (CypherOpGraphBuilder.cpp:71): TCK = SyntaxError:UnexpectedSyntax\nKatana = SyntaxError:ParserError: TCK = SyntaxError:UnexpectedSyntax\nKatana = SyntaxError:ParserError: TCK = SyntaxError:UnexpectedSyntax\nKatana = SyntaxError:ParserError",
     "output_type": "error",
     "traceback": [
      "\u001b[0;31m---------------------------------------------------------------------------\u001b[0m",
      "\u001b[0;31mOperationError\u001b[0m                            Traceback (most recent call last)",
      "Cell \u001b[0;32mIn [24], line 4\u001b[0m\n\u001b[1;32m      1\u001b[0m \u001b[38;5;66;03m#  This one errors out. There may not be an asnwer.\u001b[39;00m\n\u001b[1;32m      2\u001b[0m \u001b[38;5;66;03m#\u001b[39;00m\n\u001b[0;32m----> 4\u001b[0m l_result \u001b[38;5;241m=\u001b[39m \u001b[43mmy_graph\u001b[49m\u001b[38;5;241;43m.\u001b[39;49m\u001b[43mquery\u001b[49m\u001b[43m(\u001b[49m\u001b[38;5;124;43m\"\"\"\u001b[39;49m\n\u001b[1;32m      5\u001b[0m \n\u001b[1;32m      6\u001b[0m \u001b[38;5;124;43m   MATCH (n)\u001b[39;49m\n\u001b[1;32m      7\u001b[0m \u001b[38;5;124;43m   // RETURN n.col3.ab\u001b[39;49m\n\u001b[1;32m      8\u001b[0m \u001b[38;5;124;43m   // RETURN n.col3[ab]\u001b[39;49m\n\u001b[1;32m      9\u001b[0m \u001b[38;5;124;43m   // RETURN n.col3[\u001b[39;49m\u001b[38;5;124;43m'\u001b[39;49m\u001b[38;5;124;43mab\u001b[39;49m\u001b[38;5;124;43m'\u001b[39;49m\u001b[38;5;124;43m]\u001b[39;49m\n\u001b[1;32m     10\u001b[0m \u001b[38;5;124;43m   // RETURN n.col3.\u001b[39;49m\u001b[38;5;132;43;01m{ab}\u001b[39;49;00m\n\u001b[1;32m     11\u001b[0m \u001b[38;5;124;43m   RETURN n.col3\u001b[39;49m\u001b[38;5;132;43;01m{ab}\u001b[39;49;00m\n\u001b[1;32m     12\u001b[0m \u001b[38;5;124;43m   \u001b[39;49m\n\u001b[1;32m     13\u001b[0m \u001b[38;5;124;43m   \u001b[39;49m\u001b[38;5;124;43m\"\"\"\u001b[39;49m\u001b[43m)\u001b[49m\n\u001b[1;32m     15\u001b[0m \u001b[38;5;28mprint\u001b[39m(l_result)\n",
      "File \u001b[0;32m/opt/conda/lib/python3.8/site-packages/katana_enterprise/async_to_sync.py:249\u001b[0m, in \u001b[0;36mAsyncToSync.<locals>.do_wrap.<locals>.wrapper\u001b[0;34m(self, *args, **kwargs)\u001b[0m\n\u001b[1;32m    246\u001b[0m \u001b[38;5;129m@wraps\u001b[39m(underlying_func)\n\u001b[1;32m    247\u001b[0m \u001b[38;5;28;01mdef\u001b[39;00m \u001b[38;5;21mwrapper\u001b[39m(\u001b[38;5;28mself\u001b[39m, \u001b[38;5;241m*\u001b[39margs, \u001b[38;5;241m*\u001b[39m\u001b[38;5;241m*\u001b[39mkwargs):\n\u001b[1;32m    248\u001b[0m     \u001b[38;5;28;01mreturn\u001b[39;00m registry\u001b[38;5;241m.\u001b[39masync_to_sync(\n\u001b[0;32m--> 249\u001b[0m         \u001b[43munderlying_func\u001b[49m\u001b[43m(\u001b[49m\n\u001b[1;32m    250\u001b[0m \u001b[43m            \u001b[49m\u001b[43mget_self_func\u001b[49m\u001b[43m(\u001b[49m\u001b[38;5;28;43mself\u001b[39;49m\u001b[43m)\u001b[49m\u001b[43m,\u001b[49m\n\u001b[1;32m    251\u001b[0m \u001b[43m            \u001b[49m\u001b[38;5;241;43m*\u001b[39;49m\u001b[43m(\u001b[49m\u001b[43mregistry\u001b[49m\u001b[38;5;241;43m.\u001b[39;49m\u001b[43msync_to_async\u001b[49m\u001b[43m(\u001b[49m\u001b[43ma\u001b[49m\u001b[43m)\u001b[49m\u001b[43m \u001b[49m\u001b[38;5;28;43;01mfor\u001b[39;49;00m\u001b[43m \u001b[49m\u001b[43ma\u001b[49m\u001b[43m \u001b[49m\u001b[38;5;129;43;01min\u001b[39;49;00m\u001b[43m \u001b[49m\u001b[43margs\u001b[49m\u001b[43m)\u001b[49m\u001b[43m,\u001b[49m\n\u001b[1;32m    252\u001b[0m \u001b[43m            \u001b[49m\u001b[38;5;241;43m*\u001b[39;49m\u001b[38;5;241;43m*\u001b[39;49m\u001b[43m{\u001b[49m\u001b[43mk\u001b[49m\u001b[43m:\u001b[49m\u001b[43m \u001b[49m\u001b[43mregistry\u001b[49m\u001b[38;5;241;43m.\u001b[39;49m\u001b[43msync_to_async\u001b[49m\u001b[43m(\u001b[49m\u001b[43mv\u001b[49m\u001b[43m)\u001b[49m\u001b[43m \u001b[49m\u001b[38;5;28;43;01mfor\u001b[39;49;00m\u001b[43m \u001b[49m\u001b[43mk\u001b[49m\u001b[43m,\u001b[49m\u001b[43m \u001b[49m\u001b[43mv\u001b[49m\u001b[43m \u001b[49m\u001b[38;5;129;43;01min\u001b[39;49;00m\u001b[43m \u001b[49m\u001b[43mkwargs\u001b[49m\u001b[38;5;241;43m.\u001b[39;49m\u001b[43mitems\u001b[49m\u001b[43m(\u001b[49m\u001b[43m)\u001b[49m\u001b[43m}\u001b[49m\u001b[43m,\u001b[49m\n\u001b[1;32m    253\u001b[0m \u001b[43m        \u001b[49m\u001b[43m)\u001b[49m\n\u001b[1;32m    254\u001b[0m     )\n",
      "File \u001b[0;32m/opt/conda/lib/python3.8/site-packages/katana_enterprise/async_to_sync.py:176\u001b[0m, in \u001b[0;36masync_to_sync.<locals>.wrapper\u001b[0;34m(timeout, *args, **kwargs)\u001b[0m\n\u001b[1;32m    166\u001b[0m     registry \u001b[38;5;241m=\u001b[39m AsyncToSyncClassRegistry\u001b[38;5;241m.\u001b[39mget()\n\u001b[1;32m    167\u001b[0m     \u001b[38;5;28;01mreturn\u001b[39;00m registry\u001b[38;5;241m.\u001b[39masync_to_sync(\n\u001b[1;32m    168\u001b[0m         wait_for(\n\u001b[1;32m    169\u001b[0m             async_func(\n\u001b[0;32m   (...)\u001b[0m\n\u001b[1;32m    174\u001b[0m         )\n\u001b[1;32m    175\u001b[0m     )\n\u001b[0;32m--> 176\u001b[0m \u001b[38;5;28;01mreturn\u001b[39;00m \u001b[43mwait_for\u001b[49m\u001b[43m(\u001b[49m\u001b[43masync_func\u001b[49m\u001b[43m(\u001b[49m\u001b[38;5;241;43m*\u001b[39;49m\u001b[43margs\u001b[49m\u001b[43m,\u001b[49m\u001b[43m \u001b[49m\u001b[38;5;241;43m*\u001b[39;49m\u001b[38;5;241;43m*\u001b[39;49m\u001b[43mkwargs\u001b[49m\u001b[43m)\u001b[49m\u001b[43m,\u001b[49m\u001b[43m \u001b[49m\u001b[43mtimeout\u001b[49m\u001b[38;5;241;43m=\u001b[39;49m\u001b[43mtimeout\u001b[49m\u001b[43m)\u001b[49m\n",
      "File \u001b[0;32m/opt/conda/lib/python3.8/site-packages/katana_enterprise/async_to_sync.py:147\u001b[0m, in \u001b[0;36mwait_for\u001b[0;34m(coro, timeout)\u001b[0m\n\u001b[1;32m    145\u001b[0m \u001b[38;5;28;01mtry\u001b[39;00m:\n\u001b[1;32m    146\u001b[0m     future \u001b[38;5;241m=\u001b[39m asyncio\u001b[38;5;241m.\u001b[39mrun_coroutine_threadsafe(timeout_coro, loop\u001b[38;5;241m=\u001b[39mAsyncRunnerThread\u001b[38;5;241m.\u001b[39mget()\u001b[38;5;241m.\u001b[39mloop)\n\u001b[0;32m--> 147\u001b[0m     \u001b[38;5;28;01mreturn\u001b[39;00m \u001b[43mfuture\u001b[49m\u001b[38;5;241;43m.\u001b[39;49m\u001b[43mresult\u001b[49m\u001b[43m(\u001b[49m\u001b[43m)\u001b[49m\n\u001b[1;32m    148\u001b[0m \u001b[38;5;28;01mexcept\u001b[39;00m \u001b[38;5;167;01mKeyboardInterrupt\u001b[39;00m:\n\u001b[1;32m    149\u001b[0m     inner_future\u001b[38;5;241m.\u001b[39mcancel()\n",
      "File \u001b[0;32m/opt/conda/lib/python3.8/concurrent/futures/_base.py:444\u001b[0m, in \u001b[0;36mFuture.result\u001b[0;34m(self, timeout)\u001b[0m\n\u001b[1;32m    442\u001b[0m     \u001b[38;5;28;01mraise\u001b[39;00m CancelledError()\n\u001b[1;32m    443\u001b[0m \u001b[38;5;28;01melif\u001b[39;00m \u001b[38;5;28mself\u001b[39m\u001b[38;5;241m.\u001b[39m_state \u001b[38;5;241m==\u001b[39m FINISHED:\n\u001b[0;32m--> 444\u001b[0m     \u001b[38;5;28;01mreturn\u001b[39;00m \u001b[38;5;28;43mself\u001b[39;49m\u001b[38;5;241;43m.\u001b[39;49m\u001b[43m__get_result\u001b[49m\u001b[43m(\u001b[49m\u001b[43m)\u001b[49m\n\u001b[1;32m    445\u001b[0m \u001b[38;5;28;01melse\u001b[39;00m:\n\u001b[1;32m    446\u001b[0m     \u001b[38;5;28;01mraise\u001b[39;00m \u001b[38;5;167;01mTimeoutError\u001b[39;00m()\n",
      "File \u001b[0;32m/opt/conda/lib/python3.8/concurrent/futures/_base.py:389\u001b[0m, in \u001b[0;36mFuture.__get_result\u001b[0;34m(self)\u001b[0m\n\u001b[1;32m    387\u001b[0m \u001b[38;5;28;01mif\u001b[39;00m \u001b[38;5;28mself\u001b[39m\u001b[38;5;241m.\u001b[39m_exception:\n\u001b[1;32m    388\u001b[0m     \u001b[38;5;28;01mtry\u001b[39;00m:\n\u001b[0;32m--> 389\u001b[0m         \u001b[38;5;28;01mraise\u001b[39;00m \u001b[38;5;28mself\u001b[39m\u001b[38;5;241m.\u001b[39m_exception\n\u001b[1;32m    390\u001b[0m     \u001b[38;5;28;01mfinally\u001b[39;00m:\n\u001b[1;32m    391\u001b[0m         \u001b[38;5;66;03m# Break a reference cycle with the exception in self._exception\u001b[39;00m\n\u001b[1;32m    392\u001b[0m         \u001b[38;5;28mself\u001b[39m \u001b[38;5;241m=\u001b[39m \u001b[38;5;28;01mNone\u001b[39;00m\n",
      "File \u001b[0;32m/opt/conda/lib/python3.8/asyncio/tasks.py:455\u001b[0m, in \u001b[0;36mwait_for\u001b[0;34m(fut, timeout, loop)\u001b[0m\n\u001b[1;32m    450\u001b[0m     warnings\u001b[38;5;241m.\u001b[39mwarn(\u001b[38;5;124m\"\u001b[39m\u001b[38;5;124mThe loop argument is deprecated since Python 3.8, \u001b[39m\u001b[38;5;124m\"\u001b[39m\n\u001b[1;32m    451\u001b[0m                   \u001b[38;5;124m\"\u001b[39m\u001b[38;5;124mand scheduled for removal in Python 3.10.\u001b[39m\u001b[38;5;124m\"\u001b[39m,\n\u001b[1;32m    452\u001b[0m                   \u001b[38;5;167;01mDeprecationWarning\u001b[39;00m, stacklevel\u001b[38;5;241m=\u001b[39m\u001b[38;5;241m2\u001b[39m)\n\u001b[1;32m    454\u001b[0m \u001b[38;5;28;01mif\u001b[39;00m timeout \u001b[38;5;129;01mis\u001b[39;00m \u001b[38;5;28;01mNone\u001b[39;00m:\n\u001b[0;32m--> 455\u001b[0m     \u001b[38;5;28;01mreturn\u001b[39;00m \u001b[38;5;28;01mawait\u001b[39;00m fut\n\u001b[1;32m    457\u001b[0m \u001b[38;5;28;01mif\u001b[39;00m timeout \u001b[38;5;241m<\u001b[39m\u001b[38;5;241m=\u001b[39m \u001b[38;5;241m0\u001b[39m:\n\u001b[1;32m    458\u001b[0m     fut \u001b[38;5;241m=\u001b[39m ensure_future(fut, loop\u001b[38;5;241m=\u001b[39mloop)\n",
      "File \u001b[0;32m/opt/conda/lib/python3.8/site-packages/katana_enterprise/remote/aio/graph.py:299\u001b[0m, in \u001b[0;36mGraph.query\u001b[0;34m(self, query, memory_usage_factor, contextualize, **parameters)\u001b[0m\n\u001b[1;32m    296\u001b[0m \u001b[38;5;28;01mif\u001b[39;00m memory_usage_factor:\n\u001b[1;32m    297\u001b[0m     parameters[\u001b[38;5;124m\"\u001b[39m\u001b[38;5;124m__katana_internal_match_batch_limit_scale_factor\u001b[39m\u001b[38;5;124m\"\u001b[39m] \u001b[38;5;241m=\u001b[39m memory_usage_factor\n\u001b[0;32m--> 299\u001b[0m response \u001b[38;5;241m=\u001b[39m \u001b[38;5;28;01mawait\u001b[39;00m \u001b[38;5;28mself\u001b[39m\u001b[38;5;241m.\u001b[39m_run_query(query, parameters\u001b[38;5;241m=\u001b[39mparameters)\n\u001b[1;32m    300\u001b[0m rows \u001b[38;5;241m=\u001b[39m response[\u001b[38;5;124m\"\u001b[39m\u001b[38;5;124mresult\u001b[39m\u001b[38;5;124m\"\u001b[39m][\u001b[38;5;124m\"\u001b[39m\u001b[38;5;124mrows\u001b[39m\u001b[38;5;124m\"\u001b[39m]\n\u001b[1;32m    301\u001b[0m columns \u001b[38;5;241m=\u001b[39m response[\u001b[38;5;124m\"\u001b[39m\u001b[38;5;124mresult\u001b[39m\u001b[38;5;124m\"\u001b[39m][\u001b[38;5;124m\"\u001b[39m\u001b[38;5;124mcolumns\u001b[39m\u001b[38;5;124m\"\u001b[39m]\n",
      "File \u001b[0;32m/opt/conda/lib/python3.8/site-packages/katana_enterprise/remote/aio/graph.py:277\u001b[0m, in \u001b[0;36mGraph._run_query\u001b[0;34m(self, query, parameters, parquet)\u001b[0m\n\u001b[1;32m    273\u001b[0m     data[\u001b[38;5;124m\"\u001b[39m\u001b[38;5;124mcypher\u001b[39m\u001b[38;5;124m\"\u001b[39m][\u001b[38;5;124m\"\u001b[39m\u001b[38;5;124moutput_type\u001b[39m\u001b[38;5;124m\"\u001b[39m] \u001b[38;5;241m=\u001b[39m \u001b[38;5;124m\"\u001b[39m\u001b[38;5;124mParquet\u001b[39m\u001b[38;5;124m\"\u001b[39m\n\u001b[1;32m    275\u001b[0m data \u001b[38;5;241m=\u001b[39m \u001b[38;5;28mself\u001b[39m\u001b[38;5;241m.\u001b[39m_add_operation_metadata(data)\n\u001b[0;32m--> 277\u001b[0m res \u001b[38;5;241m=\u001b[39m \u001b[38;5;28;01mawait\u001b[39;00m \u001b[38;5;28mself\u001b[39m\u001b[38;5;241m.\u001b[39m_client\u001b[38;5;241m.\u001b[39m_run_on_graph_and_wait(\u001b[38;5;28mself\u001b[39m, data)\n\u001b[1;32m    279\u001b[0m \u001b[38;5;28;01mreturn\u001b[39;00m res\n",
      "File \u001b[0;32m/opt/conda/lib/python3.8/site-packages/katana_enterprise/remote/aio/client.py:326\u001b[0m, in \u001b[0;36mDatabase._run_on_graph_and_wait\u001b[0;34m(self, graph, data)\u001b[0m\n\u001b[1;32m    324\u001b[0m \u001b[38;5;28;01mwhile\u001b[39;00m attempt \u001b[38;5;241m<\u001b[39m max_attempts:\n\u001b[1;32m    325\u001b[0m     \u001b[38;5;28;01mtry\u001b[39;00m:\n\u001b[0;32m--> 326\u001b[0m         \u001b[38;5;28;01mreturn\u001b[39;00m \u001b[38;5;28;01mawait\u001b[39;00m \u001b[38;5;28mself\u001b[39m\u001b[38;5;241m.\u001b[39m_wait_op(op)\n\u001b[1;32m    327\u001b[0m     \u001b[38;5;28;01mexcept\u001b[39;00m errors\u001b[38;5;241m.\u001b[39mServerCommunicationError:\n\u001b[1;32m    328\u001b[0m         logging\u001b[38;5;241m.\u001b[39mwarning(\u001b[38;5;124mf\u001b[39m\u001b[38;5;124m\"\u001b[39m\u001b[38;5;124merror while waiting, retrying (attempt=\u001b[39m\u001b[38;5;132;01m{\u001b[39;00mattempt\u001b[38;5;132;01m}\u001b[39;00m\u001b[38;5;124m)\u001b[39m\u001b[38;5;124m\"\u001b[39m)\n",
      "File \u001b[0;32m/opt/conda/lib/python3.8/site-packages/katana_enterprise/remote/aio/client.py:263\u001b[0m, in \u001b[0;36mDatabase._wait_op\u001b[0;34m(self, op)\u001b[0m\n\u001b[1;32m    261\u001b[0m \u001b[38;5;28;01masync\u001b[39;00m \u001b[38;5;28;01mwith\u001b[39;00m _progress_bar() \u001b[38;5;28;01mas\u001b[39;00m pbar:\n\u001b[1;32m    262\u001b[0m     \u001b[38;5;28;01masync\u001b[39;00m \u001b[38;5;28;01mwith\u001b[39;00m wait_fn(operation_id) \u001b[38;5;28;01mas\u001b[39;00m stream:\n\u001b[0;32m--> 263\u001b[0m         \u001b[38;5;28;01masync\u001b[39;00m \u001b[38;5;28;01mfor\u001b[39;00m update \u001b[38;5;129;01min\u001b[39;00m stream:\n\u001b[1;32m    264\u001b[0m             status \u001b[38;5;241m=\u001b[39m update[\u001b[38;5;124m\"\u001b[39m\u001b[38;5;124mstatus\u001b[39m\u001b[38;5;124m\"\u001b[39m]\n\u001b[1;32m    266\u001b[0m             \u001b[38;5;28;01mfor\u001b[39;00m entry \u001b[38;5;129;01min\u001b[39;00m update\u001b[38;5;241m.\u001b[39mget(\u001b[38;5;124m\"\u001b[39m\u001b[38;5;124mprogress\u001b[39m\u001b[38;5;124m\"\u001b[39m, []):\n",
      "File \u001b[0;32m/opt/conda/lib/python3.8/site-packages/asyncstdlib/builtins.py:445\u001b[0m, in \u001b[0;36mmap\u001b[0;34m(function, *iterable)\u001b[0m\n\u001b[1;32m    443\u001b[0m \u001b[38;5;28;01masync\u001b[39;00m \u001b[38;5;28;01mfor\u001b[39;00m args \u001b[38;5;129;01min\u001b[39;00m args_iter:\n\u001b[1;32m    444\u001b[0m     result \u001b[38;5;241m=\u001b[39m function(\u001b[38;5;241m*\u001b[39margs)\n\u001b[0;32m--> 445\u001b[0m     \u001b[38;5;28;01myield\u001b[39;00m \u001b[38;5;28;01mawait\u001b[39;00m result\n",
      "File \u001b[0;32m/opt/conda/lib/python3.8/site-packages/asyncstdlib/_core.py:134\u001b[0m, in \u001b[0;36mforce_async.<locals>.async_wrapped\u001b[0;34m(*args, **kwargs)\u001b[0m\n\u001b[1;32m    133\u001b[0m \u001b[38;5;28;01masync\u001b[39;00m \u001b[38;5;28;01mdef\u001b[39;00m \u001b[38;5;21masync_wrapped\u001b[39m(\u001b[38;5;241m*\u001b[39margs: Any, \u001b[38;5;241m*\u001b[39m\u001b[38;5;241m*\u001b[39mkwargs: Any) \u001b[38;5;241m-\u001b[39m\u001b[38;5;241m>\u001b[39m T:\n\u001b[0;32m--> 134\u001b[0m     \u001b[38;5;28;01mreturn\u001b[39;00m \u001b[43mcall\u001b[49m\u001b[43m(\u001b[49m\u001b[38;5;241;43m*\u001b[39;49m\u001b[43margs\u001b[49m\u001b[43m,\u001b[49m\u001b[43m \u001b[49m\u001b[38;5;241;43m*\u001b[39;49m\u001b[38;5;241;43m*\u001b[39;49m\u001b[43mkwargs\u001b[49m\u001b[43m)\u001b[49m\n",
      "File \u001b[0;32m/opt/conda/lib/python3.8/site-packages/katana_enterprise/rpc/client.py:169\u001b[0m, in \u001b[0;36m_OperationClient._event_stream.<locals>.parse_stream\u001b[0;34m(line)\u001b[0m\n\u001b[1;32m    166\u001b[0m status \u001b[38;5;241m=\u001b[39m data[\u001b[38;5;124m\"\u001b[39m\u001b[38;5;124mstatus\u001b[39m\u001b[38;5;124m\"\u001b[39m]\n\u001b[1;32m    168\u001b[0m \u001b[38;5;28;01mif\u001b[39;00m status \u001b[38;5;241m==\u001b[39m \u001b[38;5;124m\"\u001b[39m\u001b[38;5;124mFailed\u001b[39m\u001b[38;5;124m\"\u001b[39m:\n\u001b[0;32m--> 169\u001b[0m     \u001b[38;5;28;01mraise\u001b[39;00m errors\u001b[38;5;241m.\u001b[39mOperationError(operation_id \u001b[38;5;241m+\u001b[39m \u001b[38;5;124m\"\u001b[39m\u001b[38;5;124m \u001b[39m\u001b[38;5;124m\"\u001b[39m \u001b[38;5;241m+\u001b[39m data[\u001b[38;5;124m\"\u001b[39m\u001b[38;5;124mstatus_message\u001b[39m\u001b[38;5;124m\"\u001b[39m])\n\u001b[1;32m    170\u001b[0m \u001b[38;5;28;01mif\u001b[39;00m status \u001b[38;5;241m==\u001b[39m \u001b[38;5;124m\"\u001b[39m\u001b[38;5;124mCanceled\u001b[39m\u001b[38;5;124m\"\u001b[39m:\n\u001b[1;32m    171\u001b[0m     \u001b[38;5;28;01mraise\u001b[39;00m errors\u001b[38;5;241m.\u001b[39mCanceledError()\n",
      "\u001b[0;31mOperationError\u001b[0m: 9q9TkPCn7YsXQmYx6Qu3TzMbvZdANiQWdDXh6t54odv1-3ZHTqbBjHdvjFwF3b backtrace (QueryOperation.cpp:67): backtrace (Network.h:331): backtrace (QueryOperation.cpp:70): backtrace (QueryClient.cpp:603): unable to translate openCypher parse tree to internal IR (OpGraph.cpp:224): Syntax error: The query cannot be recognized by openCypher. (CypherOpGraphBuilder.cpp:71): TCK = SyntaxError:UnexpectedSyntax\nKatana = SyntaxError:ParserError: TCK = SyntaxError:UnexpectedSyntax\nKatana = SyntaxError:ParserError: TCK = SyntaxError:UnexpectedSyntax\nKatana = SyntaxError:ParserError"
     ]
    }
   ],
   "source": [
    "\n",
    "#  This one errors out. There may not be an answer.\n",
    "#\n",
    "\n",
    "l_result = my_graph.query(\"\"\"\n",
    "\n",
    "   MATCH (n)\n",
    "   // RETURN n.col3.ab\n",
    "   // RETURN n.col3[ab]\n",
    "   // RETURN n.col3['ab']\n",
    "   // RETURN n.col3.{ab}\n",
    "   RETURN n.col3{ab}\n",
    "   \n",
    "   \"\"\")\n",
    "\n",
    "print(l_result)\n"
   ]
  },
  {
   "cell_type": "code",
   "execution_count": null,
   "id": "81989e3f-01cf-4135-8675-e36967f7de78",
   "metadata": {},
   "outputs": [],
   "source": []
  },
  {
   "cell_type": "code",
   "execution_count": null,
   "id": "b58a83e8-a25c-4b3d-aa61-aa7202c03cb1",
   "metadata": {},
   "outputs": [],
   "source": [
    "\n",
    "#  import json, json.loads(),  does not work here because the DataFrame returned single quotes\n",
    "\n",
    "import ast\n",
    "\n",
    "for l_each in l_result.itertuples():\n",
    "   l_aaa = ast.literal_eval(l_each.col3)\n",
    "   print(l_aaa[\"ab\"])\n",
    "    \n",
    "print(\"--\")\n"
   ]
  },
  {
   "cell_type": "code",
   "execution_count": null,
   "id": "e12d49d9-5895-494f-b0c8-886f08fe212c",
   "metadata": {},
   "outputs": [],
   "source": [
    "\n",
    "#  This one errors out ..\n",
    "#\n",
    "\n",
    "l_result = my_graph.query(\"\"\"\n",
    "\n",
    "   MATCH (n)\n",
    "   RETURN n.colC{'ab'}\n",
    "   \n",
    "   \"\"\")\n",
    "\n",
    "print(l_result)\n"
   ]
  },
  {
   "cell_type": "markdown",
   "id": "e0dd3955-0caf-44e2-b04c-d83ebaa4bade",
   "metadata": {},
   "source": [
    "#  Reset from above "
   ]
  },
  {
   "cell_type": "code",
   "execution_count": null,
   "id": "6f26c01e-8f45-44ad-9b0f-fe2f620b4ec7",
   "metadata": {},
   "outputs": [],
   "source": [
    "#  Reset from above, delete and recreate the graph\n",
    "\n",
    "#  DELETE GRAPH\n",
    "#\n",
    "for l_graph in my_client.get_database(name=DB_NAME).graphs_in_database():\n",
    "   if (l_graph.name == GRAPH_NAME):\n",
    "      l_handle=my_client.get_database(name=DB_NAME).get_graph_by_id(id=l_graph.graph_id)\n",
    "      l_handle.delete()\n",
    "\n",
    "print(\"--\")\n"
   ]
  },
  {
   "cell_type": "code",
   "execution_count": null,
   "id": "3c998fb4-233b-4dd6-8b83-e0fe225a7bd3",
   "metadata": {},
   "outputs": [],
   "source": [
    "\n",
    "#  CREATE GRAPH\n",
    "\n",
    "my_graph = my_client.get_database(name=DB_NAME).create_graph(name=GRAPH_NAME, num_partitions=NUM_PARTITIONS)\n",
    "\n",
    "print(my_graph)\n"
   ]
  },
  {
   "cell_type": "markdown",
   "id": "7ebd97b2-bd82-4c21-b7e4-87e4c996c957",
   "metadata": {},
   "source": [
    "#  Group: 03"
   ]
  },
  {
   "cell_type": "code",
   "execution_count": null,
   "id": "847b0c2d-d675-4240-9135-6e725c136e62",
   "metadata": {},
   "outputs": [],
   "source": [
    "#  Write the more complex dataframe ..\n",
    "\n",
    "df_data = pd.DataFrame([\n",
    "   [101, 30, [ 1, 2, 3 ], \"String1\", \"my_vertice\"],\n",
    "   [102, 31, [ 4, 5, 6 ], \"String2\", \"my_vertice\"],\n",
    "   [103, 32, [ 7, 8, 9 ], \"String2\", \"my_vertice\"],\n",
    "   ], columns = [\"col1\", \"col2\", \"col3\", \"col4\", \"col5\"])\n",
    "\n",
    "df_data.head(20)\n"
   ]
  },
  {
   "cell_type": "code",
   "execution_count": null,
   "id": "d1b8f62d-8c07-437d-9dad-073130e73665",
   "metadata": {},
   "outputs": [],
   "source": [
    "\n",
    "#  Prove that we can (parse) the dataframe above, versus say \"col3\" being a string ..\n",
    "#\n",
    "#  Recall arrays and similar index from zero ..\n",
    "\n",
    "print(df_data.col3[1][2])\n"
   ]
  },
  {
   "cell_type": "code",
   "execution_count": null,
   "id": "804908e6-f391-43c7-bbb8-67ef3d631aa1",
   "metadata": {},
   "outputs": [],
   "source": [
    "\n",
    "for l_each in df_data.itertuples():\n",
    "    \n",
    "   l_query = \"\"\"\n",
    "\n",
    "      CREATE ( n: {4} {{ col1: {0} }} )                         //  Notice double curly braces\n",
    "      SET n.col2 = {1}, n.col3 = {2}, n.col4 = '{3}'\n",
    "      \n",
    "      \"\"\".format(l_each.col1, l_each.col2, l_each.col3, l_each.col4, l_each.col5)\n",
    "         \n",
    "   l_result0 = my_graph.query(l_query)\n",
    "        \n",
    "print(\"--\")\n"
   ]
  },
  {
   "cell_type": "code",
   "execution_count": null,
   "id": "847c81a5-ee7e-42bf-9a47-6effdaf2fe53",
   "metadata": {},
   "outputs": [],
   "source": [
    "\n",
    "l_result = my_graph.query(\"\"\"\n",
    "\n",
    "   MATCH (n)\n",
    "   RETURN n.col3[1]\n",
    "   \n",
    "   \"\"\")\n",
    "\n",
    "print(l_result)\n"
   ]
  }
 ],
 "metadata": {
  "kernelspec": {
   "display_name": "Python 3 (ipykernel)",
   "language": "python",
   "name": "python3"
  },
  "language_info": {
   "codemirror_mode": {
    "name": "ipython",
    "version": 3
   },
   "file_extension": ".py",
   "mimetype": "text/x-python",
   "name": "python",
   "nbconvert_exporter": "python",
   "pygments_lexer": "ipython3",
   "version": "3.8.13"
  }
 },
 "nbformat": 4,
 "nbformat_minor": 5
}
