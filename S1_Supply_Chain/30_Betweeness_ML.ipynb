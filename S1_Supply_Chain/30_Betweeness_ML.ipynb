{
 "cells": [
  {
   "cell_type": "markdown",
   "id": "d3ebe820-bc6d-4948-b668-8b81cd3cbf29",
   "metadata": {
    "tags": []
   },
   "source": [
    "#  Setup stuff: Connectivity"
   ]
  },
  {
   "cell_type": "code",
   "execution_count": null,
   "id": "1ea957d6-30c6-427a-ae4e-15ecfba0c4f9",
   "metadata": {},
   "outputs": [],
   "source": [
    "\n",
    "from katana import remote\n",
    "from katana.remote import import_data\n",
    "\n",
    "my_client = remote.Client()\n",
    "\n",
    "print(my_client)\n"
   ]
  },
  {
   "cell_type": "code",
   "execution_count": null,
   "id": "97571016-7c02-4e90-a75a-136a0dacd35f",
   "metadata": {},
   "outputs": [],
   "source": [
    "NUM_PARTITIONS = 3\n",
    "   #\n",
    "DB_NAME        = \"my_db\"\n",
    "GRAPH_NAME     = \"my_graph\"\n",
    "\n",
    "print(\"--\")\n"
   ]
  },
  {
   "cell_type": "code",
   "execution_count": null,
   "id": "c5db6505-7fc8-4779-b194-9ed8945b9a90",
   "metadata": {},
   "outputs": [],
   "source": [
    "#  CONNECT TO GRAPH\n",
    "\n",
    "for l_graph in my_client.get_database(name=DB_NAME).graphs_in_database():\n",
    "   if (l_graph.name == GRAPH_NAME):\n",
    "      my_graph=my_client.get_database(name=DB_NAME).get_graph_by_id(id=l_graph.graph_id)\n",
    "         #\n",
    "      break\n",
    "\n",
    "print(my_graph)\n"
   ]
  },
  {
   "cell_type": "markdown",
   "id": "40558f94-74e6-413e-9376-c6a89982a9d0",
   "metadata": {},
   "source": [
    "#  Setup stuff: Debugging"
   ]
  },
  {
   "cell_type": "code",
   "execution_count": null,
   "id": "ce3ecfbe-cca0-41dd-bb15-594f2d545365",
   "metadata": {},
   "outputs": [],
   "source": [
    "display(my_graph.num_nodes())\n",
    "display(my_graph.num_edges())\n",
    "\n",
    "#  Outputted values,\n",
    "#\n",
    "#  24\n",
    "#  42\n"
   ]
  },
  {
   "cell_type": "code",
   "execution_count": null,
   "id": "793186d1-d998-4662-b5f6-958a1a752892",
   "metadata": {},
   "outputs": [],
   "source": [
    "\n",
    "l_result = my_graph.query(\"\"\"\n",
    "\n",
    "   MATCH (n) - [ r ] -> (m)\n",
    "   RETURN n, r, m\n",
    "   \n",
    "   \"\"\", contextualize=True)\n",
    "\n",
    "l_result.view()\n"
   ]
  },
  {
   "cell_type": "markdown",
   "id": "dde9090b-7dfa-489c-85c8-4b5fb49047b3",
   "metadata": {},
   "source": [
    "<div> \n",
    "<img src=\"./01_Images/Result_01.png\" alt=\"Drawing\" style=\"width: 1800px;\"/>\n",
    "</div>\n"
   ]
  },
  {
   "cell_type": "code",
   "execution_count": null,
   "id": "14304446-5b53-4f14-aee4-78bde94c2e40",
   "metadata": {},
   "outputs": [],
   "source": [
    "\n",
    "l_result = my_graph.query(\"\"\"\n",
    "\n",
    "   MATCH (n) \n",
    "   WITH DISTINCT LABELS(n) AS temp, COUNT(n) AS tempCnt\n",
    "   UNWIND temp AS label\n",
    "   RETURN label, SUM(tempCnt) AS cnt\n",
    "   ORDER BY label\n",
    "   \n",
    "   \"\"\", contextualize=True)\n",
    "\n",
    "l_result.view()\n",
    "\n",
    "\n",
    "# display(print(l_result))\n",
    "# \n",
    "#  Outputted values\n",
    "#\n",
    "#     cnt        label\n",
    "#  0    2  Dist_Center\n",
    "#  1    4         Item\n",
    "#  2    8        Order\n",
    "#  3    4       Person\n",
    "#  4    2     Reviewer\n",
    "#  5    4        Store\n",
    "\n"
   ]
  },
  {
   "cell_type": "code",
   "execution_count": null,
   "id": "aff03cac-68ee-445a-9df2-ca72aad64ca5",
   "metadata": {},
   "outputs": [],
   "source": [
    "\n",
    "l_result = my_graph.query(\"\"\"\n",
    "\n",
    "   MATCH (n) - [r] -> (m) \n",
    "   WITH DISTINCT TYPE(r) AS temp, COUNT(r) AS tempCnt\n",
    "   RETURN temp, tempCnt\n",
    "   ORDER BY temp\n",
    "\n",
    "   \"\"\", contextualize=True)\n",
    "\n",
    "l_result.view()\n",
    "\n",
    "\n",
    "# display(print(l_result))\n",
    "# \n",
    "#  Outputted values,\n",
    "#\n",
    "#                     temp  tempCnt\n",
    "#  0          COMPRISED_OF        8\n",
    "#  1  FOUND_AT_DIST_CENTER        6\n",
    "#  2        FOUND_AT_STORE       12\n",
    "#  3                PLACED        8\n",
    "#  4           REVIEWED_BY        8\n",
    "\n"
   ]
  },
  {
   "cell_type": "markdown",
   "id": "81126254-12b2-49df-8d36-50c55ad290c1",
   "metadata": {},
   "source": [
    "#  Betweeness algorithm"
   ]
  },
  {
   "cell_type": "code",
   "execution_count": null,
   "id": "a00a5ad3-8ef0-4092-89ee-1031a0fee24a",
   "metadata": {},
   "outputs": [],
   "source": [
    "\n",
    "my_graph.run(lambda g: g.nodes.remove_property(\"centrality\"))\n",
    "\n",
    "print(\"--\")\n",
    "\n",
    "#  AttributeError: 'katana_enterprise.distributed_native.Graph' object has no attribute 'nodes'\n"
   ]
  },
  {
   "cell_type": "code",
   "execution_count": null,
   "id": "23067305-ffd0-41f0-abf0-1034beefd402",
   "metadata": {},
   "outputs": [],
   "source": [
    "\n",
    "from katana.remote import analytics\n",
    "\n",
    "analytics.betweenness_centrality(\n",
    "   my_graph,\n",
    "      #\n",
    "   result_property_name = \"centrality\",\n",
    "   num_sources          = 100\n",
    "   )\n",
    "\n",
    "print(\"--\")\n",
    "\n"
   ]
  },
  {
   "cell_type": "code",
   "execution_count": null,
   "id": "1eb36918-4184-4b30-b619-371f4d5c3280",
   "metadata": {},
   "outputs": [],
   "source": [
    "\n",
    "l_result = my_graph.query(\n",
    "   f\"\"\"\n",
    "    \n",
    "   MATCH (n)\n",
    "   RETURN n, n.centrality\n",
    "   ORDER BY n.centrality DESC\n",
    "   LIMIT 30\n",
    "    \n",
    "    \"\"\", contextualize=True,\n",
    "   )\n",
    "\n",
    "l_result.view()\n",
    "\n"
   ]
  }
 ],
 "metadata": {
  "kernelspec": {
   "display_name": "Python 3 (ipykernel)",
   "language": "python",
   "name": "python3"
  },
  "language_info": {
   "codemirror_mode": {
    "name": "ipython",
    "version": 3
   },
   "file_extension": ".py",
   "mimetype": "text/x-python",
   "name": "python",
   "nbconvert_exporter": "python",
   "pygments_lexer": "ipython3",
   "version": "3.8.13"
  }
 },
 "nbformat": 4,
 "nbformat_minor": 5
}
