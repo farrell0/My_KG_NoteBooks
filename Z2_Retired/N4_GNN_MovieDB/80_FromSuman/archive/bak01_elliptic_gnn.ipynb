{
 "cells": [
  {
   "cell_type": "markdown",
   "metadata": {
    "tags": []
   },
   "source": [
    "<div class=\"header\">\n",
    "  <img src=\"img/kg_logo_white_side.png\" alt=\"logo\" style=\"width: 300px;\"/>\n",
    "    <h1> Elliptic Dataset / GNN Embedding Pipeline </h1>\n",
    "</div>"
   ]
  },
  {
   "cell_type": "markdown",
   "metadata": {},
   "source": [
    "  <img src=\"img/pipeline.png\" alt=\"logo\" style=\"width: 1000px;\"/>"
   ]
  },
  {
   "cell_type": "code",
   "execution_count": 1,
   "metadata": {},
   "outputs": [],
   "source": [
    "import yaml\n",
    "import warnings\n",
    "\n",
    "with open(\"config.yaml\", \"r\") as f:\n",
    "    config = yaml.load(f, Loader=yaml.FullLoader)\n",
    "project_id = config['project']['project_id']"
   ]
  },
  {
   "cell_type": "markdown",
   "metadata": {
    "tags": []
   },
   "source": [
    "## PREPROCESSING & INGESTION"
   ]
  },
  {
   "cell_type": "markdown",
   "metadata": {},
   "source": [
    "<img src=\"img/dask.png\" alt=\"Drawing\" style=\"width: 600px;\"/>"
   ]
  },
  {
   "cell_type": "code",
   "execution_count": 2,
   "metadata": {},
   "outputs": [
    {
     "name": "stdout",
     "output_type": "stream",
     "text": [
      "Table deleted: katana-clusters-beta.fsi_elliptic.account_features\n",
      "Loaded 203769 rows and 95 columns to katana-clusters-beta.fsi_elliptic.account_features\n",
      "Updated elliptic_feast/feature_repo/elliptic_features.py with baseline feature view\n"
     ]
    },
    {
     "data": {
      "application/vnd.jupyter.widget-view+json": {
       "model_id": "6ecd260f88754207b0303251be5ae966",
       "version_major": 2,
       "version_minor": 0
      },
      "text/plain": [
       "          0/? [?op/s]"
      ]
     },
     "metadata": {},
     "output_type": "display_data"
    },
    {
     "data": {
      "application/vnd.jupyter.widget-view+json": {
       "model_id": "f203d342285f46b8a2f9c75f7947874d",
       "version_major": 2,
       "version_minor": 0
      },
      "text/plain": [
       "          0/? [?op/s]"
      ]
     },
     "metadata": {},
     "output_type": "display_data"
    }
   ],
   "source": [
    "from src.elliptic_dask_preprocessing import elliptic_preprocessing\n",
    "elliptic_graph = elliptic_preprocessing()"
   ]
  },
  {
   "cell_type": "code",
   "execution_count": 3,
   "metadata": {},
   "outputs": [
    {
     "data": {
      "application/vnd.jupyter.widget-view+json": {
       "model_id": "41078701c70044b4a1f3693b31a91eaa",
       "version_major": 2,
       "version_minor": 0
      },
      "text/plain": [
       "          0/? [?op/s]"
      ]
     },
     "metadata": {},
     "output_type": "display_data"
    },
    {
     "data": {
      "application/vnd.jupyter.widget-view+json": {
       "model_id": "0a8063b9f20a42a8932ca87491ccfd80",
       "version_major": 2,
       "version_minor": 0
      },
      "text/plain": [
       "          0/? [?op/s]"
      ]
     },
     "metadata": {},
     "output_type": "display_data"
    },
    {
     "name": "stdout",
     "output_type": "stream",
     "text": [
      "CPU times: user 3.57 s, sys: 301 ms, total: 3.87 s\n",
      "Wall time: 39.9 s\n"
     ]
    },
    {
     "data": {
      "application/vnd.jupyter.widget-view+json": {
       "model_id": "b94c7fd21e0041bdae5f24ccc41fe5b1",
       "version_major": 2,
       "version_minor": 0
      },
      "text/plain": [
       "GraphVizWidget(edges=[{'from': 43677, 'to': 44769, 'label': 'rev_transaction', 'type': 'rev_transaction', 'pro…"
      ]
     },
     "metadata": {},
     "output_type": "display_data"
    }
   ],
   "source": [
    "%%time\n",
    "elliptic_graph.query(\"MATCH (m)-->(n) RETURN * LIMIT 500\", contextualize=True).visualize()"
   ]
  },
  {
   "cell_type": "markdown",
   "metadata": {
    "tags": []
   },
   "source": [
    "## ENCODING & TRAINING"
   ]
  },
  {
   "cell_type": "markdown",
   "metadata": {},
   "source": [
    "<img src=\"img/gnn_train.png\" alt=\"Drawing\" style=\"width: 700px;\"/>"
   ]
  },
  {
   "cell_type": "code",
   "execution_count": 4,
   "metadata": {},
   "outputs": [],
   "source": [
    "from src.katana_enterprise import GNNEmbeddingPipeline\n",
    "import sys,os\n",
    "sys.path.append(os.path.join(\"~/solutions/fsi/demos/elliptic\"))\n",
    "elliptic_node_classification_job = GNNEmbeddingPipeline(\n",
    "    display_name=\"elliptic_gnn_embedding_train_job\", \n",
    "    optimization_prediction_type=\"node_classification\",\n",
    "    embed_dim=16,\n",
    "    supervised=True\n",
    ")"
   ]
  },
  {
   "cell_type": "code",
   "execution_count": 5,
   "metadata": {
    "scrolled": true,
    "tags": []
   },
   "outputs": [
    {
     "data": {
      "application/vnd.jupyter.widget-view+json": {
       "model_id": "a94497bae163457a984d00be027fe5f1",
       "version_major": 2,
       "version_minor": 0
      },
      "text/plain": [
       "          0/? [?op/s]"
      ]
     },
     "metadata": {},
     "output_type": "display_data"
    },
    {
     "data": {
      "application/vnd.jupyter.widget-view+json": {
       "model_id": "672adfebaed9450aa05fcde135cb9606",
       "version_major": 2,
       "version_minor": 0
      },
      "text/plain": [
       "          0/? [?op/s]"
      ]
     },
     "metadata": {},
     "output_type": "display_data"
    },
    {
     "data": {
      "application/vnd.jupyter.widget-view+json": {
       "model_id": "abad3bc568ce41039e808c31eb11c540",
       "version_major": 2,
       "version_minor": 0
      },
      "text/plain": [
       "          0/? [?op/s]"
      ]
     },
     "metadata": {},
     "output_type": "display_data"
    },
    {
     "name": "stdout",
     "output_type": "stream",
     "text": [
      "\n",
      "Host 0 output:\n",
      "Tensorboard log directory: gs://katana-internal1/tensorboard/elliptic_demo_e2e_89e41fda2e214b63b664ec8ae6f2c2ba\n",
      "Validation data test_score: {'validation_metric': 0.9681075566363395}\n",
      "Test data test_score: {'validation_metric': 0.9590854646656802}\n",
      "\n",
      "Host 1 output:\n",
      "Tensorboard log directory: gs://katana-internal1/tensorboard/elliptic_demo_e2e_89e41fda2e214b63b664ec8ae6f2c2ba\n",
      "Validation data test_score: {'validation_metric': 0.9561765038027762}\n",
      "Test data test_score: {'validation_metric': 0.9437159727014799}\n",
      "\n",
      "Host 2 output:\n",
      "Tensorboard log directory: gs://katana-internal1/tensorboard/elliptic_demo_e2e_89e41fda2e214b63b664ec8ae6f2c2ba\n",
      "Validation data test_score: {'validation_metric': 0.9650508216965897}\n",
      "Test data test_score: {'validation_metric': 0.8946277169724065}\n",
      "\n",
      "Host 3 output:\n",
      "Tensorboard log directory: gs://katana-internal1/tensorboard/elliptic_demo_e2e_89e41fda2e214b63b664ec8ae6f2c2ba\n",
      "Validation data test_score: {'validation_metric': 0.9535947908539879}\n",
      "Test data test_score: {'validation_metric': 0.9378213856627953}\n",
      "CPU times: user 8.5 s, sys: 388 ms, total: 8.89 s\n",
      "Wall time: 4min 1s\n"
     ]
    },
    {
     "name": "stderr",
     "output_type": "stream",
     "text": [
      "\n",
      "Host 0 errors:\n",
      "UserWarning: The given NumPy array is not writeable, and PyTorch does not support non-writeable tensors. This means you can write to the underlying (supposedly non-writeable) NumPy array using the tensor. You may want to copy the array to protect its data or make it writeable before converting it to a tensor. This type of warning will be suppressed for the rest of this program. (Triggered internally at  /home/conda/feedstock_root/build_artifacts/pytorch-recipe_1645203023865/work/torch/csrc/utils/tensor_numpy.cpp:183.)\n",
      "\n",
      "Host 1 errors:\n",
      "UserWarning: The given NumPy array is not writeable, and PyTorch does not support non-writeable tensors. This means you can write to the underlying (supposedly non-writeable) NumPy array using the tensor. You may want to copy the array to protect its data or make it writeable before converting it to a tensor. This type of warning will be suppressed for the rest of this program. (Triggered internally at  /home/conda/feedstock_root/build_artifacts/pytorch-recipe_1645203023865/work/torch/csrc/utils/tensor_numpy.cpp:183.)\n",
      "\n",
      "Host 2 errors:\n",
      "UserWarning: The given NumPy array is not writeable, and PyTorch does not support non-writeable tensors. This means you can write to the underlying (supposedly non-writeable) NumPy array using the tensor. You may want to copy the array to protect its data or make it writeable before converting it to a tensor. This type of warning will be suppressed for the rest of this program. (Triggered internally at  /home/conda/feedstock_root/build_artifacts/pytorch-recipe_1645203023865/work/torch/csrc/utils/tensor_numpy.cpp:183.)\n",
      "\n",
      "Host 3 errors:\n",
      "UserWarning: The given NumPy array is not writeable, and PyTorch does not support non-writeable tensors. This means you can write to the underlying (supposedly non-writeable) NumPy array using the tensor. You may want to copy the array to protect its data or make it writeable before converting it to a tensor. This type of warning will be suppressed for the rest of this program. (Triggered internally at  /home/conda/feedstock_root/build_artifacts/pytorch-recipe_1645203023865/work/torch/csrc/utils/tensor_numpy.cpp:183.)\n"
     ]
    }
   ],
   "source": [
    "%%time\n",
    "import warnings\n",
    "elliptic_node_classification_job.train(\n",
    "    elliptic_graph,\n",
    "    target_property_name=\"target\",\n",
    "    graph_analytics_features=[\"page_rank\", \"betweenness_centrality\"],\n",
    "    budget_milli_node_hours=8000,\n",
    "    model_display_name=\"elliptic_gnn_embed\",\n",
    "    disable_early_stopping=False,\n",
    "    sync=True,\n",
    "    split_ratio=[0.8, 0.15, 0.05],\n",
    ")"
   ]
  },
  {
   "cell_type": "markdown",
   "metadata": {
    "tags": []
   },
   "source": [
    "## EMBEDDING  & STORAGE"
   ]
  },
  {
   "cell_type": "markdown",
   "metadata": {},
   "source": [
    "<img src=\"img/gnn_inference.png\" alt=\"Drawing\" style=\"width: 700px;\"/>"
   ]
  },
  {
   "cell_type": "code",
   "execution_count": 6,
   "metadata": {
    "scrolled": true,
    "tags": []
   },
   "outputs": [
    {
     "data": {
      "application/vnd.jupyter.widget-view+json": {
       "model_id": "509192e1203f4e80b1e9c3aa781a9e1f",
       "version_major": 2,
       "version_minor": 0
      },
      "text/plain": [
       "          0/? [?op/s]"
      ]
     },
     "metadata": {},
     "output_type": "display_data"
    },
    {
     "name": "stdout",
     "output_type": "stream",
     "text": [
      "\n",
      "Host 0 output:\n",
      "Table created: katana-clusters-beta.fsi_elliptic.elliptic_embeddings_89e41fda2e214b63b664ec8ae6f2c2ba\n",
      "Loaded 203769 rows and 18 columns to katana-clusters-beta.fsi_elliptic.elliptic_embeddings_89e41fda2e214b63b664ec8ae6f2c2ba\n",
      "\n",
      "Host 1 output:\n",
      "Table created: katana-clusters-beta.fsi_elliptic.elliptic_embeddings_89e41fda2e214b63b664ec8ae6f2c2ba\n",
      "Loaded 203769 rows and 18 columns to katana-clusters-beta.fsi_elliptic.elliptic_embeddings_89e41fda2e214b63b664ec8ae6f2c2ba\n",
      "\n",
      "Host 2 output:\n",
      "Table created: katana-clusters-beta.fsi_elliptic.elliptic_embeddings_89e41fda2e214b63b664ec8ae6f2c2ba\n",
      "Loaded 203769 rows and 18 columns to katana-clusters-beta.fsi_elliptic.elliptic_embeddings_89e41fda2e214b63b664ec8ae6f2c2ba\n",
      "\n",
      "Host 3 output:\n",
      "Table created: katana-clusters-beta.fsi_elliptic.elliptic_embeddings_89e41fda2e214b63b664ec8ae6f2c2ba\n",
      "Loaded 203769 rows and 18 columns to katana-clusters-beta.fsi_elliptic.elliptic_embeddings_89e41fda2e214b63b664ec8ae6f2c2ba\n"
     ]
    },
    {
     "data": {
      "application/vnd.jupyter.widget-view+json": {
       "model_id": "80829cbff62a4468ae3076af4a9ecab8",
       "version_major": 2,
       "version_minor": 0
      },
      "text/plain": [
       "          0/? [?op/s]"
      ]
     },
     "metadata": {},
     "output_type": "display_data"
    },
    {
     "name": "stdout",
     "output_type": "stream",
     "text": [
      "\n",
      "Host 0 output:\n",
      "Table created: katana-clusters-beta.fsi_elliptic.account_mapping_89e41fda2e214b63b664ec8ae6f2c2ba\n",
      "Loaded 203769 rows and 6 columns to katana-clusters-beta.fsi_elliptic.account_mapping_89e41fda2e214b63b664ec8ae6f2c2ba\n",
      "\n",
      "Host 1 output:\n",
      "Table created: katana-clusters-beta.fsi_elliptic.account_mapping_89e41fda2e214b63b664ec8ae6f2c2ba\n",
      "Loaded 203769 rows and 6 columns to katana-clusters-beta.fsi_elliptic.account_mapping_89e41fda2e214b63b664ec8ae6f2c2ba\n",
      "\n",
      "Host 2 output:\n",
      "Table created: katana-clusters-beta.fsi_elliptic.account_mapping_89e41fda2e214b63b664ec8ae6f2c2ba\n",
      "Loaded 203769 rows and 6 columns to katana-clusters-beta.fsi_elliptic.account_mapping_89e41fda2e214b63b664ec8ae6f2c2ba\n",
      "\n",
      "Host 3 output:\n",
      "Table created: katana-clusters-beta.fsi_elliptic.account_mapping_89e41fda2e214b63b664ec8ae6f2c2ba\n",
      "Loaded 203769 rows and 6 columns to katana-clusters-beta.fsi_elliptic.account_mapping_89e41fda2e214b63b664ec8ae6f2c2ba\n",
      "CPU times: user 975 ms, sys: 45.6 ms, total: 1.02 s\n",
      "Wall time: 25.5 s\n"
     ]
    }
   ],
   "source": [
    "%%time\n",
    "pipeline_uri = elliptic_node_classification_job.infer_embeddings(\n",
    "    elliptic_graph, \n",
    "    project_id\n",
    "    )"
   ]
  },
  {
   "cell_type": "code",
   "execution_count": 7,
   "metadata": {},
   "outputs": [
    {
     "name": "stdout",
     "output_type": "stream",
     "text": [
      "89e41fda2e214b63b664ec8ae6f2c2ba\n"
     ]
    }
   ],
   "source": [
    "print(pipeline_uri)"
   ]
  },
  {
   "cell_type": "code",
   "execution_count": 8,
   "metadata": {},
   "outputs": [],
   "source": [
    "if (config['model']['pipeline_uri'] != pipeline_uri) or (config['model']['pipeline_uri'] is None):\n",
    "    config['model']['pipeline_uri'] = pipeline_uri\n",
    "with open('config.yaml', 'w') as f:\n",
    "    config = yaml.dump(config, stream=f,\n",
    "                       default_flow_style=False, sort_keys=False)"
   ]
  },
  {
   "cell_type": "markdown",
   "metadata": {},
   "source": [
    "## GRAPH FEATURES & ACCURACY IMPROVEMENT"
   ]
  },
  {
   "cell_type": "markdown",
   "metadata": {},
   "source": [
    "<img src=\"img/f1score.png\" alt=\"Drawing\" style=\"width: 1000px;\"/>"
   ]
  },
  {
   "cell_type": "markdown",
   "metadata": {},
   "source": [
    "### Graph Feature Importance"
   ]
  },
  {
   "cell_type": "code",
   "execution_count": null,
   "metadata": {},
   "outputs": [],
   "source": [
    "%matplotlib inline\n",
    "\n",
    "ax = xgboost.plot_importance(bst_embed, height=0.8, max_num_features=15)\n",
    "ax.grid(False, axis=\"y\")\n",
    "ax.set_title('Estimated feature importance')\n",
    "plt.show()"
   ]
  },
  {
   "cell_type": "markdown",
   "metadata": {
    "tags": []
   },
   "source": [
    "<div>\n",
    "    <div style=\"margin-left: 50px;float:left\">\n",
    "        <b> Baseline </b>\n",
    "<img src=\"img/baseline.png\" alt=\"Drawing\" style=\"width: 500px;\"/>\n",
    "    </div>\n",
    "    <div style=\"margin-left: 50px;float:left\">\n",
    "        <b> With Graph Embeddings</b>\n",
    "<img src=\"img/enhanced.png\" alt=\"Drawing\" style=\"width: 500px;\"/>\n",
    "    </div>\n",
    "</div>"
   ]
  },
  {
   "cell_type": "code",
   "execution_count": null,
   "metadata": {},
   "outputs": [],
   "source": []
  }
 ],
 "metadata": {
  "kernelspec": {
   "display_name": "Python 3 (ipykernel)",
   "language": "python",
   "name": "python3"
  },
  "language_info": {
   "codemirror_mode": {
    "name": "ipython",
    "version": 3
   },
   "file_extension": ".py",
   "mimetype": "text/x-python",
   "name": "python",
   "nbconvert_exporter": "python",
   "pygments_lexer": "ipython3",
   "version": "3.8.13"
  },
  "vscode": {
   "interpreter": {
    "hash": "4c2b8563932708ac4f64e3bc4797ea8eb43fc7530baa7f01daadf5b46d7b1fd4"
   }
  }
 },
 "nbformat": 4,
 "nbformat_minor": 4
}
