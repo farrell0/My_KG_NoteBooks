{
 "cells": [
  {
   "cell_type": "markdown",
   "id": "d3ebe820-bc6d-4948-b668-8b81cd3cbf29",
   "metadata": {
    "tags": []
   },
   "source": [
    "#  Setup stuff: Connectivity"
   ]
  },
  {
   "cell_type": "code",
   "execution_count": null,
   "id": "1ea957d6-30c6-427a-ae4e-15ecfba0c4f9",
   "metadata": {},
   "outputs": [],
   "source": [
    "import os\n",
    "\n",
    "from katana import remote\n",
    "from katana.remote import import_data\n",
    "\n",
    "\n",
    "os.environ[\"KATANA_SERVER_ADDRESS\"] = \"localhost:8080\"\n",
    "\n",
    "my_client = remote.Client()\n",
    "\n",
    "print(my_client)"
   ]
  },
  {
   "cell_type": "code",
   "execution_count": 49,
   "id": "97571016-7c02-4e90-a75a-136a0dacd35f",
   "metadata": {},
   "outputs": [
    {
     "name": "stdout",
     "output_type": "stream",
     "text": [
      "--\n"
     ]
    }
   ],
   "source": [
    "DB_NAME    = \"my_db\"\n",
    "GRAPH_NAME = \"my_graph\"\n",
    "\n",
    "print(\"--\")"
   ]
  },
  {
   "cell_type": "code",
   "execution_count": 53,
   "id": "595e4435-2d7e-4bc4-b860-2702af89ff67",
   "metadata": {},
   "outputs": [
    {
     "name": "stdout",
     "output_type": "stream",
     "text": [
      "--\n"
     ]
    }
   ],
   "source": [
    "DB_NAME    = \"default\"\n",
    "GRAPH_NAME = \"partititon_test\"\n",
    "\n",
    "print(\"--\")"
   ]
  },
  {
   "cell_type": "code",
   "execution_count": 54,
   "id": "c5db6505-7fc8-4779-b194-9ed8945b9a90",
   "metadata": {},
   "outputs": [
    {
     "name": "stdout",
     "output_type": "stream",
     "text": [
      "my_graph\n"
     ]
    }
   ],
   "source": [
    "#  CONNECT TO GRAPH\n",
    "\n",
    "for l_graph in my_client.get_database(name=DB_NAME).graphs_in_database():\n",
    "   if (l_graph.name == GRAPH_NAME):\n",
    "      my_graph=my_client.get_database(name=DB_NAME).get_graph_by_id(id=l_graph.graph_id)\n",
    "         #\n",
    "      break\n",
    "\n",
    "print(my_graph.name)"
   ]
  },
  {
   "cell_type": "code",
   "execution_count": null,
   "id": "195ac246-4852-44ac-8a63-8631b38858ca",
   "metadata": {},
   "outputs": [],
   "source": []
  },
  {
   "cell_type": "code",
   "execution_count": 77,
   "id": "56a9fc64-42f0-452a-8d2f-7fa996580e64",
   "metadata": {},
   "outputs": [
    {
     "name": "stdout",
     "output_type": "stream",
     "text": [
      "GRAPH ID:  3VntQWEY5boZs7RSKKgQWEnt1hL6A9YHF4kpVABnyD5Y      DB GRAPH:  partition_test     GRAPH VERSION:  1\n",
      "woo hoo\n",
      "GRAPH ID:  GCLgQzh6pY1NR7gHcNLFi1xMPGyBCXudywREjdrLAHAe      DB GRAPH:  my_graph     GRAPH VERSION:  1\n",
      "partition_test\n"
     ]
    }
   ],
   "source": [
    "\n",
    "\n",
    "#  CONNECT TO GRAPH\n",
    "\n",
    "DB_NAME    = \"default\"\n",
    "GRAPH_NAME = \"partition_test\"\n",
    "\n",
    "# DB_NAME    = \"my_db\"\n",
    "# GRAPH_NAME = \"my_graph\"\n",
    "\n",
    "\n",
    "for l_graph in my_client.graphs():\n",
    "   print(\"GRAPH ID: \", l_graph.graph_id, \"     DB GRAPH: \", l_graph.name, \"    GRAPH VERSION: \", l_graph.version)\n",
    "      #\n",
    "   if (l_graph.name == GRAPH_NAME):\n",
    "      my_graph=my_client.get_database(name=DB_NAME).get_graph_by_id(id=l_graph.graph_id)\n",
    "      # my_graph=my_client.get_graph_by_id(id=l_graph.graph_id)\n",
    "      print(\"woo hoo\")\n",
    "\n",
    "print(my_graph.name)\n"
   ]
  },
  {
   "cell_type": "code",
   "execution_count": null,
   "id": "7222e00c-3b45-43b3-ad7e-8b0a9104848f",
   "metadata": {},
   "outputs": [],
   "source": []
  },
  {
   "cell_type": "markdown",
   "id": "61556ce5-9044-42bc-bb13-80b6a514ae27",
   "metadata": {
    "tags": []
   },
   "source": [
    "# UDFs .."
   ]
  },
  {
   "cell_type": "code",
   "execution_count": 69,
   "id": "5c7a23a1-170b-4f2c-b9ab-9b750f1ee3f3",
   "metadata": {},
   "outputs": [
    {
     "data": {
      "application/vnd.jupyter.widget-view+json": {
       "model_id": "983b829b0208414496da901f4ae7776d",
       "version_major": 2,
       "version_minor": 0
      },
      "text/plain": [
       "          0/? [?op/s]"
      ]
     },
     "metadata": {},
     "output_type": "display_data"
    }
   ],
   "source": [
    "\n",
    "#  As written, this UDF will only run on one worker node.\n",
    "#\n",
    "#  If you rerun this function, you will see that the file access time is updated; same PID.\n",
    "\n",
    "\n",
    "def my_func01(l_graph, l_label, l_properties):\n",
    "    \n",
    "   import os\n",
    "      #\n",
    "   from pathlib import Path\n",
    "\n",
    "   l_pid  = os.getpid()\n",
    "   l_file = \"/tmp/my_file.\" + str(l_pid) + \".txt\"\n",
    "       #\n",
    "   Path(l_file).touch()\n",
    "    \n",
    "   return\n",
    "\n",
    "\n",
    "l_result = my_graph.run_result(lambda g: my_func01(g, \"Person\", [\"person_code\", \"person_name\"]))\n",
    "\n"
   ]
  },
  {
   "cell_type": "code",
   "execution_count": null,
   "id": "677cb6e3-9875-4dcb-9cbf-26d256ac4df3",
   "metadata": {},
   "outputs": [],
   "source": [
    "\n",
    "#  As written, this UDF will only run on one worker node.\n",
    "\n",
    "\n",
    "def my_func02(l_graph, nodeLabel, listOfAttributes):\n",
    "    \n",
    "   from katana.local_native import Node, OutEdgeHandle\n",
    "   from katana_enterprise.distributed import single_host\n",
    "    \n",
    "   import os\n",
    "      #\n",
    "   from pathlib import Path\n",
    "\n",
    "   l_pid  = os.getpid()\n",
    "   l_file = \"/tmp/my_file.\" + str(l_pid) + \".txt\"\n",
    "       #\n",
    "   Path(l_file).touch()\n",
    "    \n",
    "    \n",
    "   # l_output=[]\n",
    "      #\n",
    "   # id_property = graph.get_node_property('ID')\n",
    "\n",
    "   # with open('/tmp/' + 'node_random_oec.txt', 'w') as f:\n",
    "   #    for node in graph.master_nodes():\n",
    "   #       # l_output.append(str(id_property[node]))\n",
    "   #       f.write(str(id_property[node])+ '#\\n')\n",
    "   #    for node in graph.mirror_nodes():\n",
    "   #       f.write(str(id_property[node])+ '#m#\\n')\n",
    "            \n",
    "   # return single_host('')\n",
    "   return\n",
    "\n",
    "\n",
    "l_result = my_graph.run_result(lambda g: my_func02(g, \"Person\", [\"person_code\", \"person_name\"]))\n",
    "\n"
   ]
  },
  {
   "cell_type": "code",
   "execution_count": null,
   "id": "6ccf0ab5-dd5c-4f93-b8fc-b8bc5e93ecba",
   "metadata": {},
   "outputs": [],
   "source": [
    "\n",
    "#  As written, this UDF will only run on one worker node.\n",
    "\n",
    "\n",
    "def my_func03(l_graph, nodeLabel, listOfAttributes):\n",
    "    \n",
    "   from katana.local_native import Node, OutEdgeHandle\n",
    "   from katana_enterprise.distributed import single_host\n",
    "    \n",
    "   import os\n",
    "      #\n",
    "   from pathlib import Path\n",
    "\n",
    "   l_pid  = os.getpid()\n",
    "   l_file = \"/tmp/my_file.\" + str(l_pid) + \".txt\"\n",
    "       #\n",
    "   Path(l_file).touch()\n",
    "\n",
    "\n",
    "   l_property = l_graph.get_node_property(\"person_code\")\n",
    "    \n",
    "    \n",
    "   # l_output=[]\n",
    "      #\n",
    "\n",
    "   # with open('/tmp/' + 'node_random_oec.txt', 'w') as f:\n",
    "   #    for node in graph.master_nodes():\n",
    "   #       # l_output.append(str(id_property[node]))\n",
    "   #       f.write(str(id_property[node])+ '#\\n')\n",
    "   #    for node in graph.mirror_nodes():\n",
    "   #       f.write(str(id_property[node])+ '#m#\\n')\n",
    "            \n",
    "   # return single_host('')\n",
    "   return\n",
    "\n",
    "\n",
    "l_result = my_graph.run_result(lambda g: my_func03(g, \"Person\", [\"person_code\", \"person_name\"]))\n",
    "\n"
   ]
  },
  {
   "cell_type": "code",
   "execution_count": null,
   "id": "e01ff287-2800-447b-b611-5a0c54f10998",
   "metadata": {},
   "outputs": [],
   "source": [
    "\n",
    "#  As written, this UDF will only run on one worker node.\n",
    "\n",
    "\n",
    "def my_func04(l_graph, nodeLabel, listOfAttributes):\n",
    "    \n",
    "   from katana.local_native import Node, OutEdgeHandle\n",
    "   from katana_enterprise.distributed import single_host\n",
    "    \n",
    "   import os\n",
    "      #\n",
    "   from pathlib import Path\n",
    "\n",
    "   l_pid  = os.getpid()\n",
    "   l_file = \"/tmp/my_file.\" + str(l_pid) + \".txt\"\n",
    "       #\n",
    "   Path(l_file).touch()\n",
    "\n",
    "\n",
    "   l_property = l_graph.get_node_property(\"ID\")\n",
    "       #   \n",
    "   with open(l_file, \"w\") as f:\n",
    "      for l_node in graph.master_nodes():\n",
    "         f.write(str(l_property[l_node]) + \"\\n\")\n",
    "            \n",
    "   return single_host('')\n",
    "\n",
    "\n",
    "l_result = my_graph.run_result(lambda g: my_func04(g, \"Person\", [\"person_code\", \"person_name\"]))\n",
    "\n"
   ]
  },
  {
   "cell_type": "code",
   "execution_count": null,
   "id": "9177098e-11a7-44fa-88f1-d0cfc77e3105",
   "metadata": {},
   "outputs": [],
   "source": []
  },
  {
   "cell_type": "code",
   "execution_count": null,
   "id": "c795d2b4-6001-4def-951a-a58701a04de1",
   "metadata": {},
   "outputs": [],
   "source": []
  },
  {
   "cell_type": "code",
   "execution_count": 70,
   "id": "6160bd57-15aa-4ff0-9269-9431e6f7dd2b",
   "metadata": {},
   "outputs": [
    {
     "data": {
      "application/vnd.jupyter.widget-view+json": {
       "model_id": "cb59c775bc08442387bf94227bcb2d57",
       "version_major": 2,
       "version_minor": 0
      },
      "text/plain": [
       "          0/? [?op/s]"
      ]
     },
     "metadata": {},
     "output_type": "display_data"
    }
   ],
   "source": [
    "\n",
    "\n",
    "def my_func01(graph, nodeLabel, listOfAttributes):\n",
    "    \n",
    "   from katana.local_native import Node, OutEdgeHandle\n",
    "   from katana_enterprise.distributed import single_host\n",
    "    \n",
    "   # l_output=[]\n",
    "      #\n",
    "   id_property = graph.get_node_property('ID')\n",
    "\n",
    "   with open('/tmp/' + 'node_random_oec.txt', 'w') as f:\n",
    "      for node in graph.master_nodes():\n",
    "         l_output.append(str(id_property[node]))\n",
    "         f.write(str(id_property[node])+ '#\\n')\n",
    "      for node in graph.mirror_nodes():\n",
    "         f.write(str(id_property[node])+ '#m#\\n')\n",
    "            \n",
    "   # return single_host('')\n",
    "   return\n",
    "\n",
    "\n",
    "l_result = my_graph.run_result(lambda g: my_func01(g, \"Person\", [\"person_code\", \"person_name\"]))"
   ]
  },
  {
   "cell_type": "code",
   "execution_count": null,
   "id": "2b8f8421-54eb-4300-8024-596aaaf820ac",
   "metadata": {},
   "outputs": [],
   "source": []
  },
  {
   "cell_type": "code",
   "execution_count": null,
   "id": "20518f1a-a8e6-4687-a181-050ef2105c26",
   "metadata": {},
   "outputs": [],
   "source": []
  },
  {
   "cell_type": "code",
   "execution_count": null,
   "id": "ba84d4c2-f274-43ff-8f18-cf5aca8dbb61",
   "metadata": {},
   "outputs": [],
   "source": []
  },
  {
   "cell_type": "code",
   "execution_count": null,
   "id": "de6b5155-e142-430f-9762-4b50b0e8e564",
   "metadata": {},
   "outputs": [],
   "source": []
  },
  {
   "cell_type": "code",
   "execution_count": 38,
   "id": "6302ccd8-137a-4798-972b-84c2e475f926",
   "metadata": {},
   "outputs": [],
   "source": [
    "\n",
    "import os                                                                        \n",
    "import time                                                                      \n",
    "import json\n",
    "import pandas as pd\n",
    "from timeit import default_timer as timer\n",
    "from katana.remote import aio, analytics, import_data, trace\n",
    "\n",
    "from katana import remote\n",
    "from katana.remote import import_data\n",
    "from katana.remote import PartitionPolicy\n",
    "\n",
    "# os.environ[\"KATANA_SERVER_ADDRESS\"] = \"host.docker.internal:8080\"\n",
    "os.environ[\"KATANA_SERVER_ADDRESS\"] = \"localhost:8080\"\n",
    "\n",
    "pd.set_option('display.max_columns', None)\n",
    "pd.set_option(\"max_colwidth\", None)\n"
   ]
  },
  {
   "cell_type": "code",
   "execution_count": 42,
   "id": "02dbff36-ed1f-4725-8cf8-867cd4fb56f3",
   "metadata": {},
   "outputs": [
    {
     "name": "stdout",
     "output_type": "stream",
     "text": [
      "GRAPH ID:  3VntQWEY5boZs7RSKKgQWEnt1hL6A9YHF4kpVABnyD5Y      DB GRAPH:  partition_test     GRAPH VERSION:  1\n",
      "GRAPH ID:  GCLgQzh6pY1NR7gHcNLFi1xMPGyBCXudywREjdrLAHAe      DB GRAPH:  my_graph     GRAPH VERSION:  1\n",
      "--\n"
     ]
    }
   ],
   "source": [
    "\n",
    "#  CONNECT TO GRAPH\n",
    "\n",
    "DB_NAME    = \"default\"\n",
    "GRAPH_NAME = \"partition_test\"\n",
    "\n",
    "\n",
    "for l_graph in my_client.graphs():\n",
    "   print(\"GRAPH ID: \", l_graph.graph_id, \"     DB GRAPH: \", l_graph.name, \"    GRAPH VERSION: \", l_graph.version)\n",
    "      #\n",
    "   if (l_graph.name == GRAPH_NAME):\n",
    "      my_graph=rc.get_database(name=DB_NAME).get_graph_by_id(id=l_graph.graph_id)\n",
    "\n",
    "print(\"--\")\n"
   ]
  },
  {
   "cell_type": "code",
   "execution_count": null,
   "id": "8fe3354f-3cad-4730-afce-c9b141c84429",
   "metadata": {},
   "outputs": [],
   "source": []
  },
  {
   "cell_type": "code",
   "execution_count": null,
   "id": "f0d92aac-5f68-47fd-823c-47f6ea0542e8",
   "metadata": {},
   "outputs": [],
   "source": []
  },
  {
   "cell_type": "code",
   "execution_count": null,
   "id": "193f4bba-5009-4f2b-83e7-13a0b63add29",
   "metadata": {},
   "outputs": [],
   "source": []
  },
  {
   "cell_type": "code",
   "execution_count": 78,
   "id": "dc369f02-c076-4278-b982-64cc6282a20f",
   "metadata": {},
   "outputs": [
    {
     "data": {
      "application/vnd.jupyter.widget-view+json": {
       "model_id": "1c0642f6400047f9b0ffedbdc41d6c5a",
       "version_major": 2,
       "version_minor": 0
      },
      "text/plain": [
       "          0/? [?op/s]"
      ]
     },
     "metadata": {},
     "output_type": "display_data"
    }
   ],
   "source": [
    "\n",
    "def visit(graph, nodeLabel, listOfAttributes):\n",
    "    \n",
    "    from katana.local_native import Node, OutEdgeHandle\n",
    "    from katana_enterprise.distributed import single_host\n",
    "    \n",
    "    output=[]\n",
    "    \n",
    "    id_property = graph.get_node_property('ID')\n",
    "    \n",
    "    with open('/tmp/' + 'node_random_oec.txt', 'w') as f:\n",
    "        \n",
    "        for node in graph.master_nodes():\n",
    "            output.append(str(id_property[node]))\n",
    "            f.write(str(id_property[node])+ '#\\n')\n",
    "            \n",
    "        for node in graph.mirror_nodes():\n",
    "            f.write(str(id_property[node])+ '#m#\\n')\n",
    "            \n",
    "            \n",
    "    return single_host('')\n",
    "\n",
    "\n",
    "# graph.run(lambda g: dist(g))\n",
    "\n",
    "out = my_graph.run_result(lambda g: visit(g, 'PERSON', ['name']))\n",
    "\n"
   ]
  },
  {
   "cell_type": "code",
   "execution_count": null,
   "id": "705b2d34-366c-4861-beb2-5653b3851430",
   "metadata": {},
   "outputs": [],
   "source": []
  },
  {
   "cell_type": "code",
   "execution_count": null,
   "id": "ee321e7e-210c-4632-9b54-ea28ecb32c92",
   "metadata": {},
   "outputs": [],
   "source": []
  },
  {
   "cell_type": "code",
   "execution_count": null,
   "id": "e0dda911-1898-48e9-9975-5dc7e1d4d684",
   "metadata": {},
   "outputs": [],
   "source": []
  },
  {
   "cell_type": "code",
   "execution_count": null,
   "id": "7dc52e1a-e51e-4610-b9aa-8af39689000e",
   "metadata": {},
   "outputs": [],
   "source": []
  },
  {
   "cell_type": "code",
   "execution_count": null,
   "id": "60f38a4a-dfcb-4809-a5c9-8f7cdc2ca6ad",
   "metadata": {},
   "outputs": [],
   "source": [
    "\n",
    "\n",
    "#  def visit(graph, nodeLabel, listOfAttributes):\n",
    "#      from katana.local_native import Node, OutEdgeHandle\n",
    "#      from katana_enterprise.distributed import single_host\n",
    "#      output=[]\n",
    "#      id_property = graph.get_node_property('ID')\n",
    "#      with open('/tmp/' + 'node_random_oec.txt', 'w') as f:\n",
    "#          for node in graph.master_nodes():\n",
    "#              output.append(str(id_property[node]))\n",
    "#              f.write(str(id_property[node])+ '#\\n')\n",
    "#          for node in graph.mirror_nodes():\n",
    "#              f.write(str(id_property[node])+ '#m#\\n')\n",
    "#      return single_host('')\n",
    "\n",
    "\n",
    "#  graph.run(lambda g: dist(g))\n",
    "#\n",
    "#  out = graph.run_result(lambda g: visit(g, 'PERSON', ['name']))\n",
    "\n"
   ]
  },
  {
   "cell_type": "code",
   "execution_count": null,
   "id": "2481b3db-1532-4a0d-87c7-0bb5257c13ef",
   "metadata": {},
   "outputs": [],
   "source": []
  },
  {
   "cell_type": "code",
   "execution_count": null,
   "id": "1d89a6a8-191d-4202-b9f9-a6d035a88eb8",
   "metadata": {},
   "outputs": [],
   "source": []
  },
  {
   "cell_type": "code",
   "execution_count": null,
   "id": "5f1358a2-23ea-4ce6-8b1f-9650ce7d1ea7",
   "metadata": {},
   "outputs": [],
   "source": []
  }
 ],
 "metadata": {
  "kernelspec": {
   "display_name": "Python 3 (ipykernel)",
   "language": "python",
   "name": "python3"
  },
  "language_info": {
   "codemirror_mode": {
    "name": "ipython",
    "version": 3
   },
   "file_extension": ".py",
   "mimetype": "text/x-python",
   "name": "python",
   "nbconvert_exporter": "python",
   "pygments_lexer": "ipython3",
   "version": "3.8.13"
  }
 },
 "nbformat": 4,
 "nbformat_minor": 5
}
