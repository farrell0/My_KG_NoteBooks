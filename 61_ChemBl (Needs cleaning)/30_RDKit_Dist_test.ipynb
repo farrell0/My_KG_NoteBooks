{
 "cells": [
  {
   "cell_type": "code",
   "execution_count": null,
   "id": "fd76f63c-5cfe-4794-bd85-96a92256630c",
   "metadata": {},
   "outputs": [],
   "source": [
    "\n",
    "#  GET A CLIENT HANDLE\n",
    "\n",
    "import os\n",
    "import time\n",
    "\n",
    "from katana import remote\n",
    "from katana.remote import import_data\n",
    "\n",
    "os.environ[\"KATANA_SERVER_ADDRESS\"] = \"localhost:8080\"\n",
    "\n",
    "my_client = remote.Client()\n",
    "\n",
    "print(my_client)"
   ]
  },
  {
   "cell_type": "code",
   "execution_count": null,
   "id": "efa96d52-155b-458c-bd0f-fe638039cf59",
   "metadata": {},
   "outputs": [],
   "source": [
    "\n",
    "import katana\n",
    "\n",
    "print(katana.__version__) "
   ]
  },
  {
   "cell_type": "code",
   "execution_count": null,
   "id": "e1a95797-bed6-48c4-bc52-3468ea4b950d",
   "metadata": {},
   "outputs": [],
   "source": [
    "\n",
    "#  Set variables\n",
    "\n",
    "DB_NAME = \"my_db\"\n",
    "GRAPH_NAME = \"my_graph\"\n",
    "\n",
    "print(\"--\")"
   ]
  },
  {
   "cell_type": "code",
   "execution_count": null,
   "id": "2ceb4b52-3dc3-4540-82e5-e30442a0d034",
   "metadata": {},
   "outputs": [],
   "source": [
    "#  Work in progress ..\n",
    "\n",
    "DATABASE_ID=my_client.get_database(name=DB_NAME).database_id\n",
    "\n",
    "GRAPH_ID = \"\"\n",
    "GRAPH_VERSION = \"\"\n",
    "\n",
    "\n",
    "for l_graph in my_client.graphs():\n",
    "   if (l_graph.name == GRAPH_NAME):\n",
    "      GRAPH_ID=l_graph.graph_id\n",
    "      GRAPH_VERSION=l_graph.version\n",
    "         #\n",
    "      my_graph = remote.Graph(client=my_client, graph_id=GRAPH_ID, database_id=DATABASE_ID, version=GRAPH_VERSION)\n",
    "\n",
    "print(my_graph)"
   ]
  },
  {
   "cell_type": "code",
   "execution_count": null,
   "id": "81f4c95b-30e7-4ad1-88fb-1dad152f2c4c",
   "metadata": {},
   "outputs": [],
   "source": [
    "\n",
    "#  DELETE ALL GRAPHS\n",
    "\n",
    "\n",
    "for l_database in my_client.databases():\n",
    "   for l_graph in my_client.get_database(name=l_database.name).graphs_in_database():\n",
    "      remote.Graph(client=my_client, graph_id=l_graph.graph_id,database_id=l_database.database_id, version=l_graph.version).delete()\n",
    "\n",
    "for l_graph in my_client.graphs():\n",
    "   print(\"GRAPH ID: \", l_grapg.graph_id, \"      GRAPH Version: \", l_graph.version)\n",
    "\n",
    "print(\"--\")"
   ]
  },
  {
   "cell_type": "code",
   "execution_count": null,
   "id": "ccd5d8ab-6994-48c9-988d-fccd601adcac",
   "metadata": {},
   "outputs": [],
   "source": [
    "\n",
    "#  CREATE A GRAPH\n",
    "\n",
    "my_graph=my_client.get_database(name=DB_NAME).create_graph(name=GRAPH_NAME, num_partitions=2)\n",
    "\n",
    "print(my_graph)"
   ]
  },
  {
   "cell_type": "code",
   "execution_count": null,
   "id": "281bfd4b-477b-4880-a186-688a30c739ef",
   "metadata": {},
   "outputs": [],
   "source": [
    "\n",
    "# ##################################################################\n"
   ]
  },
  {
   "cell_type": "code",
   "execution_count": null,
   "id": "c6e83024-d65a-4b7a-b22b-b668beb9d963",
   "metadata": {},
   "outputs": [],
   "source": [
    "\n",
    "# import os\n",
    "# import time\n",
    "# import json\n",
    "\n",
    "# from katana import remote\n",
    "# from katana.remote import import_data\n",
    "# from katana_enterprise import async_to_sync\n"
   ]
  },
  {
   "cell_type": "code",
   "execution_count": null,
   "id": "6424a0a4-ab5f-4896-83ca-aa9861599ba6",
   "metadata": {},
   "outputs": [],
   "source": [
    "\n",
    "#   https://console.cloud.google.com/storage/browser/katana-demo-datasets/csv-datasets/chembl_raw\n",
    "\n",
    "#  This is 27, we are using 29 ..\n",
    "\n",
    "# import_data.csv(\n",
    "#     my_graph,\n",
    "# \n",
    "#     input_node_path=\"gs://katana-demo-datasets/csv-datasets/chembl_raw/mapping/node_list.txt\",\n",
    "#     input_edge_path=\"gs://katana-demo-datasets/csv-datasets/chembl_raw/mapping/edge_list.txt\",\n",
    "#     input_dir=\"gs://katana-demo-datasets/csv-datasets/chembl_raw/csv/chembl27/\",\n",
    "# \n",
    "#     files_have_headers=True,\n",
    "#     data_delimiter=\"|\",\n",
    "#     schema_delimiter=\"|\",\n",
    "#     partition_policy=\"random-oec\"\n",
    "# \n",
    "# )\n",
    "\n",
    "print(\"--\")\n"
   ]
  },
  {
   "cell_type": "code",
   "execution_count": null,
   "id": "d435c78c-7d69-4611-b4ba-ae55cd28badf",
   "metadata": {},
   "outputs": [],
   "source": [
    "\n",
    "#  This is 29\n",
    "\n",
    "%%time \n",
    "\n",
    "import_data.csv(\n",
    "   my_graph,\n",
    "    \n",
    "   input_node_path=\"gs://katana-internal8/chemb29_rdf2lpg/lpg_chembl29/chemb29_rdf2lpg_lpg_chembl29_katana-graph-node-schema.tsv\",\n",
    "   input_edge_path=\"gs://katana-internal8/chemb29_rdf2lpg/lpg_chembl29/chemb29_rdf2lpg_lpg_chembl29_katana-graph-edge-schema.tsv\",\n",
    "   input_dir=\"gs://katana-internal8/chemb29_rdf2lpg/lpg_chembl29/\",\n",
    "\n",
    "   files_have_headers=False,\n",
    "   data_delimiter=\"\\t\",\n",
    "   schema_delimiter=\"\\t\",\n",
    "   partition_policy=\"random-oec\"\n",
    "\n",
    ")\n",
    "\n",
    "print(\"--\")\n"
   ]
  },
  {
   "cell_type": "code",
   "execution_count": null,
   "id": "1f76b783-fb80-4e3e-b1c9-3b6651bbff21",
   "metadata": {},
   "outputs": [],
   "source": [
    "%%time\n",
    "\n",
    "my_graph.num_nodes()"
   ]
  },
  {
   "cell_type": "code",
   "execution_count": null,
   "id": "a2005d31-e911-41eb-b376-0bd800f13ad5",
   "metadata": {},
   "outputs": [],
   "source": [
    "%%time\n",
    "\n",
    "my_graph.num_edges()"
   ]
  },
  {
   "cell_type": "code",
   "execution_count": null,
   "id": "96cce8cd-d83b-46a0-b216-35e97b1be9cb",
   "metadata": {},
   "outputs": [],
   "source": [
    "\n",
    "%%time\n",
    "\n",
    "# my_graph.schema().view()\n"
   ]
  },
  {
   "cell_type": "code",
   "execution_count": null,
   "id": "96200025-d812-4147-a80a-b6bf79817e66",
   "metadata": {},
   "outputs": [],
   "source": [
    "\n",
    "# ##################################################################\n"
   ]
  },
  {
   "cell_type": "code",
   "execution_count": null,
   "id": "5f8b356c-924b-4308-93a6-7b78b1730b57",
   "metadata": {},
   "outputs": [],
   "source": []
  },
  {
   "cell_type": "code",
   "execution_count": null,
   "id": "6654fe3c-d97e-42a2-8fa7-a0ef7f045ca2",
   "metadata": {},
   "outputs": [],
   "source": [
    "\n",
    "#  Query 6, original \n",
    "\n",
    "#  %%time\n",
    "#  query6='''match (b:molecule_dictionary)-[:has_molecule]-(l:activities)-[:has_assay]-(r:assays)-[:has_target]-(t:target_dictionary{target_type:'SINGLE PROTEIN'}) return count(b)'''\n",
    "#  #query6='''match (b:molecule_dictionary)<-[:has_molecule]-(l:activities)-[:has_assay]->(r:assays)-[:has_target]->(t:target_dictionary{target_type:'SINGLE PROTEIN'}) return count(b)'''\n",
    "#  smile6= chembl27_csv_new.query(query6)\n",
    "#  print(smile6[0])\n"
   ]
  },
  {
   "cell_type": "code",
   "execution_count": null,
   "id": "7c821810-a838-4c17-a7c9-c78538a5f5e2",
   "metadata": {},
   "outputs": [],
   "source": [
    "\n",
    "#  My query 6\n",
    "\n",
    "l_query6 = \"\"\"\n",
    "\n",
    "   match ( b:SmallMolecule ) - [ :hasMolecule ] - ( l:Activity ) - [ :hasAssay ] - ( r:Assay ) - [ :hasTarget ] - ( :SingleProtein ) \n",
    "\n",
    "   return count(b)\n",
    "   \"\"\"\n",
    "\n",
    "l_result6 = my_graph.query(l_query6)\n",
    "\n",
    "print(l_result6)"
   ]
  },
  {
   "cell_type": "code",
   "execution_count": null,
   "id": "de153873-a0cb-4d4d-960b-feb1f8636c78",
   "metadata": {},
   "outputs": [],
   "source": [
    "\n",
    "#  Query 7, original\n",
    "\n",
    "# %%time\n",
    "# query7='''match (b:molecule_dictionary)<-[:has_molecule]-(l:activities)-[:has_assay]->(r:assays)-[:has_target]->(t:target_dictionary{target_type:'SINGLE PROTEIN', organism:'Mycobacterium tuberculosis'})  return count(b);'''\n",
    "# \n",
    "# smile7= chembl27_csv_new.query(query7)\n",
    "# print(smile7[0])\n"
   ]
  },
  {
   "cell_type": "code",
   "execution_count": null,
   "id": "6ccafec3-7ede-49d0-a772-fb8f9e49bf5f",
   "metadata": {},
   "outputs": [],
   "source": [
    "\n",
    "# My query 7\n",
    "\n",
    "l_query7=\"\"\"\n",
    "\n",
    "   match ( b:SmallMolecule ) - [ :hasMolecule ] - ( l:Activity ) - [ :hasAssay ] - ( r:Assay ) - [ :hasTarget ] - ( t:SingleProtein ) // , organism:'Mycobacterium tuberculosis'}) \n",
    "   where t.organismName = 'Mycobacterium tuberculosis'\n",
    "\n",
    "   return count(b)\n",
    "   \"\"\"\n",
    "\n",
    "l_result7 = my_graph.query(l_query7)\n",
    "\n",
    "print(l_result7)\n"
   ]
  },
  {
   "cell_type": "code",
   "execution_count": null,
   "id": "9d98173c-0d16-48c1-8405-47455226373a",
   "metadata": {},
   "outputs": [],
   "source": [
    "\n",
    "#  Query 8, original\n",
    "\n",
    "# %%time\n",
    "# query8='''match (b:molecule_dictionary{chembl_id:'CHEMBL941'})<-[:has_molecule]-(l:activities)-[:has_assay]->(r:assays)-[:has_target]->(t:target_dictionary)<-[:has_target]-(c:target_components) return count(b);'''\n",
    "# \n",
    "# smile8= chembl27_csv_new.query(query8)\n",
    "# print(smile8[0])\n"
   ]
  },
  {
   "cell_type": "code",
   "execution_count": null,
   "id": "cb4ea68c-bd5b-4acd-8b6a-ea356f0b266f",
   "metadata": {},
   "outputs": [],
   "source": [
    "\n",
    "#  My query 8\n",
    "\n",
    "l_query8 = \"\"\"\n",
    "\n",
    "   match ( b:SmallMolecule) //  - [:has_molecule] - (l:activities)-[:has_assay] -  (r:assays) - [:has_target]->(t:target_dictionary) - [:has_target]-(c:target_components) \n",
    "   \n",
    "   limit 10\n",
    "   return b // count(b)\n",
    "   \"\"\"\n",
    "\n",
    "l_result8 = my_graph.query(l_query8)\n",
    "\n",
    "print(l_result8)\n"
   ]
  },
  {
   "cell_type": "code",
   "execution_count": null,
   "id": "f6bb9125-84d5-4837-b80f-2f03c0a422f0",
   "metadata": {},
   "outputs": [],
   "source": [
    "\n",
    "#  Query 9, original\n",
    "\n",
    "# %%time\n",
    "# query9='''match (b:molecule_dictionary)<-[:has_molecule]-(l:activities)-[:has_assay]->(r:assays)-[:has_target]->(t:target_dictionary{chembl_id_td:\"CHEMBL1827\"}) return count(b);'''\n",
    "#query9='''match (t:target_dictionary) return (t) limit 1;'''\n",
    "# smile9= chembl27_csv_new.query(query9)\n",
    "# print(smile9[0])\n"
   ]
  },
  {
   "cell_type": "code",
   "execution_count": null,
   "id": "b1e28d2b-84c2-4f9c-9f61-808c6dc29392",
   "metadata": {},
   "outputs": [],
   "source": [
    "\n",
    "#  My query 9\n",
    "\n",
    "l_query9 = \"\"\"\n",
    "   match (b:molecule_dictionary) - [:has_molecule]-(l:activities)-[:has_assay]- (r:assays)-[:has_target]->(t:target_dictionary{chembl_id_td:\"CHEMBL1827\"}) \n",
    "   return count(b)\n",
    "   \"\"\"\n",
    "\n",
    "l_result9 = my_graph.query(l_query9)\n",
    "\n",
    "print(l_result9)\n"
   ]
  },
  {
   "cell_type": "code",
   "execution_count": null,
   "id": "d88fb0f8-ee6d-47d0-9f7d-7b376de26da9",
   "metadata": {},
   "outputs": [],
   "source": [
    "\n",
    "#  Query 10, original\n",
    "\n",
    "# %%time\n",
    "# query10 = '''match (f:compound_properties)-[:has_molecule]-(b:molecule_dictionary{oral:1})<-[:has_molecule]-(d:drug_indication{mesh_id:'D006333'}), (b)<-[:has_molecule]-(l:activities)-[:has_assay]->\n",
    "# (r:assays)-[:has_target]->(t:target_dictionary)<-[:has_target]-(c:target_components)-[:has_comp_seq]->(o:component_sequences) where l.pchembl_value > 5.0 and f.full_mwt >= 199.0 return count(b);'''\n",
    "# smile10  = chembl27_csv_new.query(query10)\n",
    "# print(smile10[0])\n"
   ]
  },
  {
   "cell_type": "code",
   "execution_count": null,
   "id": "2d819762-8e96-4ccd-88e1-4fcdcdc0ab92",
   "metadata": {},
   "outputs": [],
   "source": [
    "\n",
    "#  My query 10\n",
    "\n",
    "l_query10 = \"\"\"\n",
    "   match (f:compound_properties) - [:has_molecule] - (b:molecule_dictionary{oral:1}) - [:has_molecule] - (d:drug_indication{mesh_id:'D006333'}), (b) - [:has_molecule]-(l:activities)-[:has_assay]- \n",
    "      (r:assays) - [:has_target] - (t:target_dictionary) - [:has_target] - (c:target_components) - [:has_comp_seq] - (o:component_sequences) \n",
    "   where l.pchembl_value > 5.0 and f.full_mwt >= 199.0 \n",
    "   return count(b)\n",
    "   \"\"\"\n",
    "\n",
    "l_result10  = my_graph.query(l_query10)\n",
    "\n",
    "print(l_result10)"
   ]
  },
  {
   "cell_type": "code",
   "execution_count": null,
   "id": "a58dfbd8-cf79-4894-b286-f736e1de1e61",
   "metadata": {},
   "outputs": [],
   "source": [
    "\n",
    "# ##################################################################\n"
   ]
  },
  {
   "cell_type": "code",
   "execution_count": null,
   "id": "68f05738-32ff-46c2-b825-0e9fab89ff81",
   "metadata": {},
   "outputs": [],
   "source": [
    "\n",
    "result = my_graph.query(\"\"\"\n",
    "\n",
    "   MATCH (n) RETURN distinct labels(n) as label, count(*)\n",
    "\n",
    "   \"\"\")\n",
    "\n",
    "print(result)\n"
   ]
  },
  {
   "cell_type": "code",
   "execution_count": null,
   "id": "8c351e26-8312-4afa-9c96-e835f2f774f6",
   "metadata": {},
   "outputs": [],
   "source": [
    "result = my_graph.query(\"\"\"\n",
    "\n",
    "   MATCH ()-[e]->() RETURN distinct type(e) as edge_type, count(*)\n",
    "\n",
    "   \"\"\")\n",
    "\n",
    "print(result)"
   ]
  },
  {
   "cell_type": "code",
   "execution_count": null,
   "id": "7b0a6ebd-5bd1-4ba0-b625-727a2a145d6f",
   "metadata": {},
   "outputs": [],
   "source": [
    "\n",
    "# ##################################################################\n"
   ]
  },
  {
   "cell_type": "code",
   "execution_count": null,
   "id": "0d2c251b-9873-4b78-a0cd-0da3360ddae3",
   "metadata": {},
   "outputs": [],
   "source": [
    "\n",
    "#  Postgres query # 1\n",
    "\n",
    "\n",
    "\n",
    "\n",
    "\n",
    "\n",
    "\n",
    "\n"
   ]
  },
  {
   "cell_type": "code",
   "execution_count": null,
   "id": "25f1a984-f2d0-430f-8e72-1f8b8ba6dd8c",
   "metadata": {},
   "outputs": [],
   "source": []
  },
  {
   "cell_type": "code",
   "execution_count": 33,
   "id": "992599f1-e446-4cb9-b549-7a4f04753aa6",
   "metadata": {},
   "outputs": [
    {
     "data": {
      "application/vnd.jupyter.widget-view+json": {
       "model_id": "da121ca58c144ceca78741d241649341",
       "version_major": 2,
       "version_minor": 0
      },
      "text/plain": [
       "          0/? [?op/s]"
      ]
     },
     "metadata": {},
     "output_type": "display_data"
    },
    {
     "name": "stdout",
     "output_type": "stream",
     "text": [
      "   count(b)\n",
      "0     12955\n"
     ]
    }
   ],
   "source": [
    "\n",
    "l_var1 = \"organismName\"\n",
    "l_var2 = 'Mycobacterium tuberculosis'\n",
    "\n",
    "l_query7 = f\"\"\"\n",
    "\n",
    "   match ( b:SmallMolecule ) - [ :hasMolecule ] - ( l:Activity ) - [ :hasAssay ] - ( r:Assay ) - [ :hasTarget ] - ( t:SingleProtein )\n",
    "   where t.{l_var1}  = '{l_var2}'\n",
    "\n",
    "   return count(b)\n",
    "   \"\"\"\n",
    "\n",
    "l_result7 = my_graph.query(l_query7)\n",
    "\n",
    "print(l_result7)\n",
    "\n"
   ]
  },
  {
   "cell_type": "code",
   "execution_count": null,
   "id": "9daa6532-52ae-410e-91db-a81e95e650eb",
   "metadata": {},
   "outputs": [],
   "source": []
  },
  {
   "cell_type": "code",
   "execution_count": null,
   "id": "89268e84-4e04-4892-acbd-2d1e3401baf0",
   "metadata": {},
   "outputs": [],
   "source": []
  }
 ],
 "metadata": {
  "kernelspec": {
   "display_name": "Python 3 (ipykernel)",
   "language": "python",
   "name": "python3"
  },
  "language_info": {
   "codemirror_mode": {
    "name": "ipython",
    "version": 3
   },
   "file_extension": ".py",
   "mimetype": "text/x-python",
   "name": "python",
   "nbconvert_exporter": "python",
   "pygments_lexer": "ipython3",
   "version": "3.8.13"
  }
 },
 "nbformat": 4,
 "nbformat_minor": 5
}
