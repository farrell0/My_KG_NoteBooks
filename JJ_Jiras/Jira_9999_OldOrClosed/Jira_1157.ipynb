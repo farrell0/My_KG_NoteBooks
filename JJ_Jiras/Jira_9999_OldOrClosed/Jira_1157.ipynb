{
 "cells": [
  {
   "cell_type": "code",
   "execution_count": null,
   "id": "f4eb639f-aeb7-47fa-9e27-a2334a4145fa",
   "metadata": {},
   "outputs": [],
   "source": [
    "\n",
    "#  Make and load the graph from full LDBC 003 CSV, then ..\n",
    "#"
   ]
  },
  {
   "cell_type": "code",
   "execution_count": null,
   "id": "6f12c03b-43c8-468d-bb83-b7eec7984426",
   "metadata": {},
   "outputs": [],
   "source": [
    "#  GET A CLIENT HANDLE\n",
    "\n",
    "import os\n",
    "\n",
    "from katana import remote\n",
    "from katana.remote import import_data\n",
    "\n",
    "\n",
    "my_client=remote.Client()\n",
    "\n",
    "print(my_client)\n"
   ]
  },
  {
   "cell_type": "code",
   "execution_count": null,
   "id": "c45f0aa6-5542-40a5-b173-e2a32ac4196c",
   "metadata": {},
   "outputs": [],
   "source": [
    "NUM_PARTITIONS  = 3\n",
    "   #\n",
    "DB_NAME         = \"my_db\"\n",
    "GRAPH_NAME      = \"my_graph\"\n",
    "\n",
    "print(\"--\")\n"
   ]
  },
  {
   "cell_type": "code",
   "execution_count": null,
   "id": "6e677162-07b3-420b-8f04-0ce1497137b6",
   "metadata": {},
   "outputs": [],
   "source": [
    "#  CONNECT TO GRAPH\n",
    "\n",
    "for l_graph in my_client.get_database(name=DB_NAME).graphs_in_database():\n",
    "   if (l_graph.name == GRAPH_NAME):\n",
    "      my_graph=my_client.get_database(name=DB_NAME).get_graph_by_id(id=l_graph.graph_id)\n",
    "         #\n",
    "      break\n",
    "\n",
    "print(my_graph)\n"
   ]
  },
  {
   "cell_type": "code",
   "execution_count": null,
   "id": "a698493c-71e6-4093-aeb4-a244d730d6b3",
   "metadata": {},
   "outputs": [],
   "source": [
    "\n",
    "my_graph, *_ = my_client.get_database(name=DB_NAME).find_graphs_by_name(GRAPH_NAME)\n",
    "\n",
    "print(my_graph)\n"
   ]
  },
  {
   "cell_type": "code",
   "execution_count": null,
   "id": "39be11e7-26a3-443c-bb83-3f5f4af600da",
   "metadata": {},
   "outputs": [],
   "source": [
    "\n",
    "# KATANA_DEFAULT_LABEL=Person\n",
    "# creationDate:DATETIME|id:ID(Person)|firstName:STRING|lastName:STRING|gender:STRING|birthday:DATE|locationIP:STRING|browserUsed:STRING|speaks:STRING|email:STRING\n",
    "\n",
    "query3 = \"\"\"\n",
    "\n",
    "   MATCH (p:Person) return p.firstName,p.lastName,p.gender,p.birthday,p.locationIP,p.browserUsed,p.email \n",
    "   LIMIT 10\n",
    "   \n",
    "   \"\"\"\n",
    "\n",
    "result = my_graph.query(query3)\n",
    "\n",
    "print(\"--\")\n"
   ]
  },
  {
   "cell_type": "code",
   "execution_count": null,
   "id": "ca42fa0b-40d3-4a5a-9d5f-8d7d1dcd9113",
   "metadata": {},
   "outputs": [],
   "source": [
    "result.head(5)"
   ]
  },
  {
   "cell_type": "code",
   "execution_count": null,
   "id": "628d77d1-91e4-4f61-b641-ae4d32f37b0b",
   "metadata": {},
   "outputs": [],
   "source": [
    "result.table()"
   ]
  }
 ],
 "metadata": {
  "kernelspec": {
   "display_name": "Python 3 (ipykernel)",
   "language": "python",
   "name": "python3"
  },
  "language_info": {
   "codemirror_mode": {
    "name": "ipython",
    "version": 3
   },
   "file_extension": ".py",
   "mimetype": "text/x-python",
   "name": "python",
   "nbconvert_exporter": "python",
   "pygments_lexer": "ipython3",
   "version": "3.8.13"
  }
 },
 "nbformat": 4,
 "nbformat_minor": 5
}
