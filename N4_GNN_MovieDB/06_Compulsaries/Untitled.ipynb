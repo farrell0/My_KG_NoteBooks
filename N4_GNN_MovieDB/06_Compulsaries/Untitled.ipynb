{
 "cells": [
  {
   "cell_type": "code",
   "execution_count": 3,
   "id": "7ec4e535-6f0e-4f23-868c-41c1b1ef78a2",
   "metadata": {},
   "outputs": [
    {
     "name": "stdout",
     "output_type": "stream",
     "text": [
      "2\n"
     ]
    }
   ],
   "source": [
    "\n",
    "import numpy as np\n",
    "\n",
    "\n",
    "aaa = 7\n",
    "\n",
    "\n",
    "ccc = np.where(aaa < 5, 1, 2)\n",
    "\n",
    "print(ccc)\n",
    "\n",
    "\n",
    "\n",
    "\n",
    "#  #  >>> df['C'] = np.where(df.B>0., df.A/df.B, 0.)\n"
   ]
  }
 ],
 "metadata": {
  "kernelspec": {
   "display_name": "Python 3 (ipykernel)",
   "language": "python",
   "name": "python3"
  },
  "language_info": {
   "codemirror_mode": {
    "name": "ipython",
    "version": 3
   },
   "file_extension": ".py",
   "mimetype": "text/x-python",
   "name": "python",
   "nbconvert_exporter": "python",
   "pygments_lexer": "ipython3",
   "version": "3.8.13"
  }
 },
 "nbformat": 4,
 "nbformat_minor": 5
}
