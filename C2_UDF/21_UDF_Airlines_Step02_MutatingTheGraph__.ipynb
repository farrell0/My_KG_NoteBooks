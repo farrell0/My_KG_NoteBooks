{
 "cells": [
  {
   "cell_type": "markdown",
   "id": "43b1755b-2af6-4570-84de-764a0024a919",
   "metadata": {
    "tags": []
   },
   "source": [
    "#  Display options:"
   ]
  },
  {
   "cell_type": "code",
   "execution_count": null,
   "id": "19eb5ac6-bcb9-49a5-8cf0-60f8441171a6",
   "metadata": {},
   "outputs": [],
   "source": [
    "\n",
    "#  References for this Notebook,\n",
    "#\n",
    "#     Lines 135-139\n",
    "#     https://github.com/KatanaGraph/solutions/blob/main/fsi/src/katana_ai.py\n",
    "#     Lines 31-37\n",
    "#     https://github.com/KatanaGraph/test-datasets/blob/450232fe5739f327ed0795030a4b9d05731586ee/rdg_datasets/two_self_loops_ai/add_features.py\n",
    "#\n",
    "#     https://docs.k9h.dev/latest/recipes/udf-recipes.html?highlight=nodes%20get_property\n",
    "#\n",
    "#     https://github.com/KatanaGraph/katana-enterprise/blob/master/python/test/integration/remote/remote_operations_test.py\n",
    "#\n",
    "#     https://github.com/KatanaGraph/katana-enterprise/tree/master/lonestar/analytics/distributed/experimental\n",
    "\n"
   ]
  },
  {
   "cell_type": "code",
   "execution_count": null,
   "id": "d7a11486-11ea-4a6c-8f7b-6f3808dfc85e",
   "metadata": {},
   "outputs": [],
   "source": [
    "\n",
    "#  Setting display options \n",
    "\n",
    "import pandas as pd\n",
    "   #\n",
    "pd.set_option(\"display.width\", 480)\n",
    "\n",
    "#  Sets horizontal scroll for wide outputs\n",
    "#\n",
    "from IPython.display import display, HTML\n",
    "display(HTML(\"\"))\n",
    "\n",
    "from tabulate import tabulate\n",
    "\n",
    "print(\"--\")\n"
   ]
  },
  {
   "cell_type": "code",
   "execution_count": null,
   "id": "60db99d1-7e45-49d6-8e9c-b6a998c56d8c",
   "metadata": {},
   "outputs": [],
   "source": [
    "\n",
    "#  When using UDFs, these execute on another host.\n",
    "#\n",
    "#  As such, these methods will need to be copied and run locally also.\n",
    "#\n",
    "pd.set_option('display.max_columns', None)\n",
    "pd.set_option(\"max_colwidth\", None)\n"
   ]
  },
  {
   "cell_type": "markdown",
   "id": "d3ebe820-bc6d-4948-b668-8b81cd3cbf29",
   "metadata": {
    "tags": []
   },
   "source": [
    "#  Setup stuff: Connectivity"
   ]
  },
  {
   "cell_type": "code",
   "execution_count": null,
   "id": "1ea957d6-30c6-427a-ae4e-15ecfba0c4f9",
   "metadata": {},
   "outputs": [],
   "source": [
    "\n",
    "from katana import remote\n",
    "#  from katana.remote import import_data\n",
    "\n",
    "my_client = remote.Client()\n",
    "\n",
    "print(my_client)\n"
   ]
  },
  {
   "cell_type": "code",
   "execution_count": null,
   "id": "97571016-7c02-4e90-a75a-136a0dacd35f",
   "metadata": {},
   "outputs": [],
   "source": [
    "\n",
    "NUM_PARTITIONS  = 3\n",
    "   #\n",
    "DB_NAME         = \"my_db\"\n",
    "GRAPH_NAME      = \"my_graph\"\n",
    "\n",
    "print(\"--\")\n"
   ]
  },
  {
   "cell_type": "code",
   "execution_count": 43,
   "id": "c5db6505-7fc8-4779-b194-9ed8945b9a90",
   "metadata": {},
   "outputs": [
    {
     "name": "stdout",
     "output_type": "stream",
     "text": [
      "<_Graph my_graph, BE88i2b3qtGxMy2fHZkLwrNW4MZncSPXtNc8JdjguXmN, 4>\n"
     ]
    }
   ],
   "source": [
    "\n",
    "#  CONNECT TO GRAPH\n",
    "\n",
    "my_graph, *_ = my_client.get_database(name=DB_NAME).find_graphs_by_name(GRAPH_NAME)\n",
    "\n",
    "print(my_graph)\n"
   ]
  },
  {
   "cell_type": "code",
   "execution_count": 29,
   "id": "195ac246-4852-44ac-8a63-8631b38858ca",
   "metadata": {},
   "outputs": [
    {
     "data": {
      "application/vnd.jupyter.widget-view+json": {
       "model_id": "e069edfd668541528ad8964b8adcb61d",
       "version_major": 2,
       "version_minor": 0
      },
      "text/plain": [
       "          0/? [?op/s]"
      ]
     },
     "metadata": {},
     "output_type": "display_data"
    },
    {
     "data": {
      "text/plain": [
       "5"
      ]
     },
     "metadata": {},
     "output_type": "display_data"
    },
    {
     "data": {
      "application/vnd.jupyter.widget-view+json": {
       "model_id": "10f55f97dd844d81a92af4f3eaa2dc67",
       "version_major": 2,
       "version_minor": 0
      },
      "text/plain": [
       "          0/? [?op/s]"
      ]
     },
     "metadata": {},
     "output_type": "display_data"
    },
    {
     "data": {
      "text/plain": [
       "8"
      ]
     },
     "metadata": {},
     "output_type": "display_data"
    }
   ],
   "source": [
    "\n",
    "display(my_graph.num_nodes())\n",
    "display(my_graph.num_edges())\n"
   ]
  },
  {
   "cell_type": "markdown",
   "id": "61556ce5-9044-42bc-bb13-80b6a514ae27",
   "metadata": {
    "tags": []
   },
   "source": [
    "# UDFs, Part 01: Mutating Nodes "
   ]
  },
  {
   "cell_type": "code",
   "execution_count": 44,
   "id": "7b11c4e0-4b91-4a64-b06f-340f03873246",
   "metadata": {},
   "outputs": [
    {
     "name": "stdout",
     "output_type": "stream",
     "text": [
      "--\n"
     ]
    }
   ],
   "source": [
    "\n",
    "#  We will use this counter to generate a unique column name below-\n",
    "#\n",
    "l_cntr = 20\n",
    "\n",
    "print(\"--\")\n"
   ]
  },
  {
   "cell_type": "code",
   "execution_count": null,
   "id": "685b2926-ca30-446a-b74f-4542f174d69a",
   "metadata": {},
   "outputs": [],
   "source": [
    "\n",
    "#  Add a new column to each node, one that is derived from columns local to each node; approach 1\n",
    "#\n",
    "#     .  This will fail if the named new column already exists in the graph.\n",
    "#     .  Just get this working, then make it more functional.\n",
    "#\n",
    "\n",
    "def my_func(i_graph, i_label, i_properties, i_new_colname):\n",
    "    \n",
    "   from katana.distributed import KeyedColumnNode\n",
    "   import numpy as np\n",
    "    \n",
    "    \n",
    "   l_node_props = i_graph.nodes.get_property(i_properties[0])                     #  An existing column, we will upshift this existing value\n",
    "      #\n",
    "   l_node_keys  = l_node_props.keys()                                             #  keys() works against any column in the node.\n",
    "      #\n",
    "   l_new_cols   = np.zeros(len(l_node_props), dtype=\"object\")                     #  An empty NumPy array, same length as l_node_props\n",
    "\n",
    "\n",
    "   for l_index, l_key in enumerate(l_node_keys):                                  #  Loop over the keys that are already in the graph\n",
    "      l_new_cols[l_index] = str(l_node_props[l_key]).upper()                      #  Derive a new column property value\n",
    "\n",
    "    \n",
    "   l_keyed_cols = KeyedColumnNode(l_new_cols, l_node_props, i_new_colname)        #  Building what we need to send to add_property()\n",
    "   i_graph.nodes.add_property(l_keyed_cols)\n",
    "\n",
    "\n",
    "   return\n",
    "\n",
    "l_cntr   += 1\n",
    "l_newcol =  \"newcol_\" + str(l_cntr).zfill(4)\n",
    "\n",
    "   #\n",
    "l_result = my_graph.run(lambda g: my_func(g, \"Airport\", [\"airport_name\"], l_newcol))\n",
    "\n",
    "\n",
    "print(\"--\")\n"
   ]
  },
  {
   "cell_type": "code",
   "execution_count": null,
   "id": "2e413eea-dfcd-4368-acb7-ec69a8d07a2e",
   "metadata": {},
   "outputs": [],
   "source": [
    "\n",
    "#  Add a new column to each node, one that is derived from columns local to each node; approach 2\n",
    "#\n",
    "#     .  We moved properties to our comprehension technique. Why ?  When dealing with multiple\n",
    "#        properties, this is handy.\n",
    "#\n",
    "\n",
    "def my_func(i_graph, i_label, i_properties, i_new_colname):\n",
    "    \n",
    "   from katana.distributed import KeyedColumnNode\n",
    "   import numpy as np\n",
    "    \n",
    "    \n",
    "   l_node_props = {each: i_graph.nodes.get_property(each) for each in i_properties}                 #  An existing column, we will upshift this existing value\n",
    "      #\n",
    "   l_node_keys  = l_node_props[i_properties[0]].keys()                                              #  keys() works against any column in the node.\n",
    "      #\n",
    "   l_new_cols   = np.zeros(len(l_node_props[i_properties[0]]), dtype=\"object\")                      #  An empty NumPy array, same length as l_node_props\n",
    "\n",
    "\n",
    "   for l_index, l_key in enumerate(l_node_keys):                                                    #  Loop over the keys that are already in the graph\n",
    "      l_new_cols[l_index] = str(l_node_props[i_properties[0]][l_key]).upper()                       #  Derive a new column property value\n",
    "\n",
    "    \n",
    "   l_keyed_cols = KeyedColumnNode(l_new_cols, l_node_props[i_properties[0]], i_new_colname)         #  Building what we need to send to add_property()\n",
    "      #\n",
    "   i_graph.nodes.add_property(l_keyed_cols)\n",
    "\n",
    "\n",
    "   return\n",
    "\n",
    "l_cntr   += 1\n",
    "l_newcol =  \"newcol_\" + str(l_cntr).zfill(4)\n",
    "\n",
    "   #\n",
    "l_result = my_graph.run(lambda g: my_func(g, \"Airport\", [\"airport_name\"], l_newcol))\n",
    "\n",
    "\n",
    "print(\"--\")\n"
   ]
  },
  {
   "cell_type": "code",
   "execution_count": 45,
   "id": "38f99942-9543-49a9-9c4d-ed27eccaa367",
   "metadata": {},
   "outputs": [
    {
     "data": {
      "application/vnd.jupyter.widget-view+json": {
       "model_id": "016a906e6d8c427da48f1e953dcfd382",
       "version_major": 2,
       "version_minor": 0
      },
      "text/plain": [
       "          0/? [?op/s]"
      ]
     },
     "metadata": {},
     "output_type": "display_data"
    },
    {
     "name": "stdout",
     "output_type": "stream",
     "text": [
      "+----+-----------------------------+------------------+-----------------+\n",
      "|    | n.restaurant_name           | n.airport_name   | n.newcol_0021   |\n",
      "|----+-----------------------------+------------------+-----------------|\n",
      "|  0 |                             | Chicago O-Hare   |                 |\n",
      "|  1 |                             | Denver           |                 |\n",
      "|  2 |                             | Milwaukee        |                 |\n",
      "|  3 |                             | San Jose         |                 |\n",
      "|  4 | Pappadeauxs Seafood Kitchen |                  |                 |\n",
      "+----+-----------------------------+------------------+-----------------+\n"
     ]
    }
   ],
   "source": [
    "\n",
    "#  View the graph; verify results\n",
    "#\n",
    "#  Based on our return list, not easily certain if new column was added to Restaurant\n",
    "#\n",
    "\n",
    "def f_printtable1(i_colname):\n",
    "    \n",
    "   l_query  = \"\"\"\n",
    "      MATCH (n)\n",
    "      RETURN n.restaurant_name, n.airport_name, n.{0}\n",
    "      \"\"\".format(i_colname)\n",
    "   \n",
    "   l_result = my_graph.query(l_query)\n",
    "   \n",
    "   print(tabulate(l_result, headers='keys', tablefmt='psql'))\n",
    "\n",
    "\n",
    "f_printtable1(l_newcol)\n",
    "\n",
    "#  Sample output,\n",
    "#\n",
    "#     +----+-----------------------------+------------------+-----------------+\n",
    "#     |    | n.restaurant_name           | n.airport_name   | n.newcol_0021   |\n",
    "#     |----+-----------------------------+------------------+-----------------|\n",
    "#     |  0 |                             | San Jose         | SAN JOSE        |\n",
    "#     |  1 |                             | Chicago O-Hare   | CHICAGO O-HARE  |\n",
    "#     |  2 |                             | Milwaukee        | MILWAUKEE       |\n",
    "#     |  3 | Pappadeauxs Seafood Kitchen |                  | NONE            |\n",
    "#     |  4 |                             | Denver           | DENVER          |\n",
    "#     +----+-----------------------------+------------------+-----------------+\n"
   ]
  },
  {
   "cell_type": "code",
   "execution_count": 46,
   "id": "febfd392-fc73-4c81-96de-f4792cd3b5bb",
   "metadata": {},
   "outputs": [
    {
     "data": {
      "application/vnd.jupyter.widget-view+json": {
       "model_id": "bef232b98d5f48fcada9cd5653565a32",
       "version_major": 2,
       "version_minor": 0
      },
      "text/plain": [
       "          0/? [?op/s]"
      ]
     },
     "metadata": {},
     "output_type": "display_data"
    },
    {
     "name": "stdout",
     "output_type": "stream",
     "text": [
      "+----+-----------------+----------------+--------+-----------------------------+----------+\n",
      "|    |   n.internal_id | n.labels       | n.id   | n.restaurant_name           | n.type   |\n",
      "|----+-----------------+----------------+--------+-----------------------------+----------|\n",
      "|  0 | 562949953421313 | ['Restaurant'] | PAP    | Pappadeauxs Seafood Kitchen | node     |\n",
      "+----+-----------------+----------------+--------+-----------------------------+----------+\n"
     ]
    }
   ],
   "source": [
    "\n",
    "#  View the graph; verify results\n",
    "#\n",
    "#  Confirming new column was added to Restaurant\n",
    "#\n",
    "\n",
    "def f_printtable2(i_colname):\n",
    "    \n",
    "   l_query  = \"\"\"\n",
    "      MATCH (n: Restaurant)\n",
    "      // RETURN n.restaurant_name, n.{0}\n",
    "      RETURN n\n",
    "      \"\"\".format(i_colname)\n",
    "   \n",
    "   l_result = my_graph.query(l_query)\n",
    "   \n",
    "   print(tabulate(l_result, headers='keys', tablefmt='psql'))\n",
    "\n",
    "\n",
    "f_printtable2(l_newcol)\n",
    "\n",
    "#  Sample output,\n",
    "#\n",
    "#     +----+-----------------+----------------+--------+-----------------+-----------------------------+----------+\n",
    "#     |    |   n.internal_id | n.labels       | n.id   | n.newcol_0021   | n.restaurant_name           | n.type   |\n",
    "#     |----+-----------------+----------------+--------+-----------------+-----------------------------+----------|\n",
    "#     |  0 | 562949953421313 | ['Restaurant'] | PAP    | NONE            | Pappadeauxs Seafood Kitchen | node     |\n",
    "#     +----+-----------------+----------------+--------+-----------------+-----------------------------+----------+\n"
   ]
  },
  {
   "cell_type": "code",
   "execution_count": null,
   "id": "7ce1c0c7-7cab-461f-84f6-6b6c4d34bb5d",
   "metadata": {},
   "outputs": [],
   "source": [
    "\n",
    "#  Add a new column to each node, one that is derived from columns local to each node; approach 3\n",
    "#\n",
    "#     .  Here we see that if the new column value is None, then the property is not actually added\n",
    "#        to the node. \n",
    "#\n",
    "\n",
    "def my_func(i_graph, i_label, i_properties, i_new_colname):\n",
    "    \n",
    "   from katana.distributed import KeyedColumnNode\n",
    "   import numpy as np\n",
    "    \n",
    "    \n",
    "   l_node_props = {each: i_graph.nodes.get_property(each) for each in i_properties}                 #  An existing column, we will upshift this existing value\n",
    "      #\n",
    "   l_node_keys  = l_node_props[i_properties[0]].keys()                                              #  keys() works against any column in the node.\n",
    "      #\n",
    "   l_new_cols   = np.zeros(len(l_node_props[i_properties[0]]), dtype=\"object\")                      #  An empty NumPy array, same length as l_node_props\n",
    "\n",
    "\n",
    "   for l_index, l_key in enumerate(l_node_keys):                                                    #  Loop over the keys that are already in the graph\n",
    "      if (i_label in i_graph.nodes.labels(l_key) ):                                                   \n",
    "         #  Is Airport\n",
    "         if (str(l_node_props[i_properties[0]][l_key]).upper() < \"M\"):                              #  Further testing what we can set to None\n",
    "            l_new_cols[l_index] = str(l_node_props[i_properties[0]][l_key]).upper()\n",
    "         else:\n",
    "            l_new_cols[l_index] = None\n",
    "      else:\n",
    "         #  Not Airport\n",
    "         l_new_cols[l_index] = None\n",
    "    \n",
    "   l_keyed_cols = KeyedColumnNode(l_new_cols, l_node_props[i_properties[0]], i_new_colname)         #  Building what we need to send to add_property()\n",
    "      #\n",
    "   i_graph.nodes.add_property(l_keyed_cols)\n",
    "\n",
    "\n",
    "   return\n",
    "\n",
    "l_cntr   += 1\n",
    "l_newcol =  \"newcol_\" + str(l_cntr).zfill(4)\n",
    "\n",
    "   #\n",
    "l_result = my_graph.run(lambda g: my_func(g, \"Airport\", [\"airport_name\"], l_newcol))\n",
    "\n",
    "print(\"--\")\n"
   ]
  },
  {
   "cell_type": "code",
   "execution_count": 47,
   "id": "b3e69aa9-3bb0-40d2-affe-337a24b7d19d",
   "metadata": {},
   "outputs": [
    {
     "data": {
      "application/vnd.jupyter.widget-view+json": {
       "model_id": "e0d05704da7743b5a46941c755360c6d",
       "version_major": 2,
       "version_minor": 0
      },
      "text/plain": [
       "          0/? [?op/s]"
      ]
     },
     "metadata": {},
     "output_type": "display_data"
    },
    {
     "name": "stdout",
     "output_type": "stream",
     "text": [
      "+----+-----------------------------+------------------+-----------------+\n",
      "|    | n.restaurant_name           | n.airport_name   | n.newcol_0021   |\n",
      "|----+-----------------------------+------------------+-----------------|\n",
      "|  0 |                             | Chicago O-Hare   |                 |\n",
      "|  1 |                             | Milwaukee        |                 |\n",
      "|  2 |                             | Denver           |                 |\n",
      "|  3 | Pappadeauxs Seafood Kitchen |                  |                 |\n",
      "|  4 |                             | San Jose         |                 |\n",
      "+----+-----------------------------+------------------+-----------------+\n"
     ]
    },
    {
     "data": {
      "application/vnd.jupyter.widget-view+json": {
       "model_id": "4c9ddab9c78a41ab855a8c4412c4d53f",
       "version_major": 2,
       "version_minor": 0
      },
      "text/plain": [
       "          0/? [?op/s]"
      ]
     },
     "metadata": {},
     "output_type": "display_data"
    },
    {
     "name": "stdout",
     "output_type": "stream",
     "text": [
      "+----+-----------------+----------------+--------+-----------------------------+----------+\n",
      "|    |   n.internal_id | n.labels       | n.id   | n.restaurant_name           | n.type   |\n",
      "|----+-----------------+----------------+--------+-----------------------------+----------|\n",
      "|  0 | 562949953421313 | ['Restaurant'] | PAP    | Pappadeauxs Seafood Kitchen | node     |\n",
      "+----+-----------------+----------------+--------+-----------------------------+----------+\n"
     ]
    },
    {
     "data": {
      "application/vnd.jupyter.widget-view+json": {
       "model_id": "e726608b7ba84d308a6b080b26109fed",
       "version_major": 2,
       "version_minor": 0
      },
      "text/plain": [
       "          0/? [?op/s]"
      ]
     },
     "metadata": {},
     "output_type": "display_data"
    },
    {
     "name": "stdout",
     "output_type": "stream",
     "text": [
      "+----+-----------------+-------------+-----------+------------------+--------+----------+\n",
      "|    |   n.internal_id | n.labels    | n.LABEL   | n.airport_name   | n.id   | n.type   |\n",
      "|----+-----------------+-------------+-----------+------------------+--------+----------|\n",
      "|  0 | 281474976710656 | ['Airport'] | Airport   | Milwaukee        | MKE    | node     |\n",
      "|  1 | 562949953421312 | ['Airport'] | Airport   | San Jose         | SJC    | node     |\n",
      "+----+-----------------+-------------+-----------+------------------+--------+----------+\n"
     ]
    }
   ],
   "source": [
    "\n",
    "#  Checking results above\n",
    "#\n",
    "\n",
    "f_printtable1(l_newcol)\n",
    "f_printtable2(l_newcol)\n",
    "\n",
    "\n",
    "#  Here you should see a new property in the first table, but not in this table.\n",
    "#  Basically; the nodes did not receive the property.\n",
    "#\n",
    "\n",
    "l_query  = \"\"\"\n",
    "   MATCH (n: Airport)\n",
    "   WHERE n.airport_name > \"M\"\n",
    "   RETURN n\n",
    "   \"\"\".format(l_newcol)\n",
    "\n",
    "l_result = my_graph.query(l_query)\n",
    "\n",
    "print(tabulate(l_result, headers='keys', tablefmt='psql'))\n",
    "\n",
    "#  Sample output,\n",
    "#\n",
    "#     +----+-----------------------------+------------------+-----------------+\n",
    "#     |    | n.restaurant_name           | n.airport_name   | n.newcol_0026   |\n",
    "#     |----+-----------------------------+------------------+-----------------|\n",
    "#     |  0 |                             | San Jose         |                 |\n",
    "#     |  1 |                             | Chicago O-Hare   | CHICAGO O-HARE  |\n",
    "#     |  2 | Pappadeauxs Seafood Kitchen |                  |                 |\n",
    "#     |  3 |                             | Milwaukee        |                 |\n",
    "#     |  4 |                             | Denver           | DENVER          |\n",
    "#     +----+-----------------------------+------------------+-----------------+\n",
    "#     \n",
    "#     +----+-----------------+----------------+--------+-----------------+-----------------+-----------------+-----------------------------+----------+\n",
    "#     |    |   n.internal_id | n.labels       | n.id   | n.newcol_0021   | n.newcol_0022   | n.newcol_0023   | n.restaurant_name           | n.type   |\n",
    "#     |----+-----------------+----------------+--------+-----------------+-----------------+-----------------+-----------------------------+----------|\n",
    "#     |  0 |               2 | ['Restaurant'] | PAP    | NONE            | NONE            | NONE            | Pappadeauxs Seafood Kitchen | node     |\n",
    "#     +----+-----------------+----------------+--------+-----------------+-----------------+-----------------+-----------------------------+----------+\n",
    "#     \n",
    "#     +----+-----------------+-------------+-----------+------------------+--------+-----------------+-----------------+-----------------+-----------------+----------+\n",
    "#     |    |   n.internal_id | n.labels    | n.LABEL   | n.airport_name   | n.id   | n.newcol_0021   | n.newcol_0022   | n.newcol_0023   | n.newcol_0024   | n.type   |\n",
    "#     |----+-----------------+-------------+-----------+------------------+--------+-----------------+-----------------+-----------------+-----------------+----------|\n",
    "#     |  0 |               1 | ['Airport'] | Airport   | San Jose         | SJC    | SAN JOSE        | SAN JOSE        | SAN JOSE        | SAN JOSE        | node     |\n",
    "#     |  1 | 281474976710656 | ['Airport'] | Airport   | Milwaukee        | MKE    | MILWAUKEE       | MILWAUKEE       | MILWAUKEE       | MILWAUKEE       | node     |\n",
    "#     +----+-----------------+-------------+-----------+------------------+--------+-----------------+-----------------+-----------------+-----------------+----------+\n"
   ]
  },
  {
   "cell_type": "code",
   "execution_count": null,
   "id": "573e15eb-e9a6-4afd-a758-215472626c60",
   "metadata": {},
   "outputs": [],
   "source": [
    "\n",
    "#  Add a new column to each node, one that is derived from columns local to each node; approach 4  (copy from Approach 2)\n",
    "#\n",
    "#     .  Move to upsert\n",
    "#        Where add_property() could break on (column already found), upsert_property doesn't suffer that restriction.\n",
    "#\n",
    "\n",
    "def my_func(i_graph, i_label, i_properties, i_new_colname):\n",
    "    \n",
    "   from katana.distributed import KeyedColumnNode\n",
    "   import numpy as np\n",
    "    \n",
    "    \n",
    "   l_node_props = {each: i_graph.nodes.get_property(each) for each in i_properties}                 #  An existing column, we will upshift this existing value\n",
    "      #\n",
    "   l_node_keys  = l_node_props[i_properties[0]].keys()                                              #  keys() works against any column in the node.\n",
    "      #\n",
    "   l_new_cols   = np.zeros(len(l_node_props[i_properties[0]]), dtype=\"object\")                      #  An empty NumPy array, same length as l_node_props\n",
    "\n",
    "\n",
    "   for l_index, l_key in enumerate(l_node_keys):                                                    #  Loop over the keys that are already in the graph\n",
    "      l_new_cols[l_index] = str(l_node_props[i_properties[0]][l_key]).upper()                       #  Derive a new column property value\n",
    "\n",
    "    \n",
    "   l_keyed_cols = KeyedColumnNode(l_new_cols, l_node_props[i_properties[0]], i_new_colname)         #  Building what we need to send to add_property()\n",
    "      #\n",
    "   i_graph.nodes.upsert_property(l_keyed_cols)\n",
    "\n",
    "\n",
    "   return\n",
    "\n",
    "\n",
    "l_cntr   += 1\n",
    "l_newcol =  \"newcol_\" + str(l_cntr).zfill(4)\n",
    "   #\n",
    "l_result = my_graph.run(lambda g: my_func(g, \"Airport\", [\"airport_name\"], l_newcol))\n",
    "\n",
    "\n",
    "f_printtable1(l_newcol)\n",
    "f_printtable2(l_newcol)\n",
    "\n",
    "print(\"--\")\n"
   ]
  },
  {
   "cell_type": "code",
   "execution_count": null,
   "id": "4f716c71-e564-4733-a97b-52b5eb0529bf",
   "metadata": {},
   "outputs": [],
   "source": [
    "# ##################################################################"
   ]
  },
  {
   "cell_type": "code",
   "execution_count": null,
   "id": "c5bdfda8-a1e0-4c88-804c-592d59d47358",
   "metadata": {},
   "outputs": [],
   "source": [
    "\n",
    "#  Deleting a property from Nodes; approach 1\n",
    "#\n",
    "#     .  From the examples above, we could easily project that we could delete a column by setting\n",
    "#        its value to None.\n",
    "#\n",
    "#     .  But there is also, remove_property()\n",
    "#        This will work if the column is found on some Nodes. \n",
    "#        This will fail if the column is found on no Nodes.\n",
    "#\n",
    "#  We'll do both, starting with remove_property()\n",
    "#\n",
    "\n",
    "def my_func(i_graph, i_delcol):\n",
    "    \n",
    "   i_graph.nodes.remove_property(i_delcol)\n",
    "\n",
    "   return\n",
    "\n",
    "\n",
    "#  We wont increment l_cntr as we usually do, and instead leave it set to it's\n",
    "#  last value\n",
    "#\n",
    "#  l_newcol =  \"newcol_\" + str(l_cntr).zfill(4)\n",
    "l_newcol = \"newcol_0022\"\n",
    "\n",
    "l_result = my_graph.run(lambda g: my_func(g, l_newcol))\n",
    "\n",
    "\n",
    "print(\"--\")\n"
   ]
  },
  {
   "cell_type": "code",
   "execution_count": 33,
   "id": "01ed4926-52ea-4fa6-8ef7-49a863d8840d",
   "metadata": {},
   "outputs": [
    {
     "data": {
      "application/vnd.jupyter.widget-view+json": {
       "model_id": "6a2d6a3157c34c97aba4afc0a97f57e4",
       "version_major": 2,
       "version_minor": 0
      },
      "text/plain": [
       "          0/? [?op/s]"
      ]
     },
     "metadata": {},
     "output_type": "display_data"
    },
    {
     "name": "stdout",
     "output_type": "stream",
     "text": [
      "+----+----------------+---------------------------------+\n",
      "|    | label          | KEYS(n)                         |\n",
      "|----+----------------+---------------------------------|\n",
      "|  0 | ['Airport']    | ['LABEL', 'airport_name', 'id'] |\n",
      "|  1 | ['Restaurant'] | ['id', 'restaurant_name']       |\n",
      "+----+----------------+---------------------------------+\n"
     ]
    }
   ],
   "source": [
    "\n",
    "#  Output a raw listing of all columns, for all nodes\n",
    "#\n",
    "l_query  = \"\"\"\n",
    "   MATCH (n)\n",
    "   RETURN DISTINCT LABELS(n) AS label, KEYS(n)\n",
    "   \"\"\".format()\n",
    "\n",
    "l_result = my_graph.query(l_query)\n",
    "   #\n",
    "print(tabulate(l_result, headers='keys', tablefmt='psql'))\n",
    "\n",
    "#  SAmple output,\n",
    "#\n",
    "#     +----+----------------+------------------------------------------------------------------------------------------------------------+\n",
    "#     |    | label          | KEYS(n)                                                                                                    |\n",
    "#     |----+----------------+------------------------------------------------------------------------------------------------------------|\n",
    "#     |  0 | ['Airport']    | ['LABEL', 'airport_name', 'id', 'newcol_0021', 'newcol_0022', 'newcol_0023', 'newcol_0024']                |\n",
    "#     |  1 | ['Airport']    | ['LABEL', 'airport_name', 'id', 'newcol_0021', 'newcol_0022', 'newcol_0023', 'newcol_0024', 'newcol_0026'] |\n",
    "#     |  2 | ['Restaurant'] | ['id', 'restaurant_name', 'newcol_0021', 'newcol_0022', 'newcol_0023']                                     |\n",
    "#     +----+----------------+------------------------------------------------------------------------------------------------------------+\n"
   ]
  },
  {
   "cell_type": "code",
   "execution_count": null,
   "id": "3e14ef74-6122-4cb9-bb8d-d8a8909d460c",
   "metadata": {},
   "outputs": [],
   "source": [
    "\n",
    "#  Deleting a property from Nodes; approach 2\n",
    "#\n",
    "#  We'll show deleting a property just from one Node type; Airport\n",
    "#\n",
    "\n",
    "\n",
    "def my_func(i_graph, i_label, i_delcol):\n",
    "    \n",
    "   from katana.distributed import KeyedColumnNode\n",
    "   import numpy as np\n",
    "    \n",
    "    \n",
    "   l_node_props = i_graph.nodes.get_property(i_delcol)\n",
    "      #\n",
    "   l_node_keys  = l_node_props.keys()                                                               #  keys() works against any column in the node.\n",
    "      #\n",
    "   l_new_cols   = np.zeros(len(l_node_props), dtype=\"object\")                                       #  An empty NumPy array, same length as l_node_props\n",
    "\n",
    "\n",
    "   for l_index, l_key in enumerate(l_node_keys):                                                    #  Loop over the keys that are already in the graph\n",
    "      if (i_label in i_graph.nodes.labels(l_key) ):                                                   \n",
    "         #  Is Airport\n",
    "         l_new_cols[l_index] = None\n",
    "      else:\n",
    "         #  Not Airport\n",
    "         l_new_cols[l_index] = l_node_props[l_key]\n",
    "    \n",
    "   l_keyed_cols = KeyedColumnNode(l_new_cols, l_node_props, i_delcol)                               #  Building what we need to send to upsert_property()\n",
    "      #\n",
    "   i_graph.nodes.upsert_property(l_keyed_cols)\n",
    "\n",
    "\n",
    "   return\n",
    "\n",
    "\n",
    "#  l_newcol =  \"newcol_\" + str(l_cntr).zfill(4)\n",
    "l_newcol = \"newcol_0021\"\n",
    "#  l_newcol = \"newcol_0022\"\n",
    "   #\n",
    "l_result = my_graph.run(lambda g: my_func(g, \"Airport\", l_newcol))\n",
    "\n",
    "print(\"--\")\n"
   ]
  },
  {
   "cell_type": "markdown",
   "id": "5a4abacd-ad81-4b1a-9f99-5b814983b6ca",
   "metadata": {},
   "source": [
    "# UDFs, Part 02: Mutating Edges "
   ]
  },
  {
   "cell_type": "code",
   "execution_count": null,
   "id": "a36630b5-7169-4f3f-8ddf-84dd50c7be45",
   "metadata": {},
   "outputs": [],
   "source": []
  },
  {
   "cell_type": "code",
   "execution_count": 55,
   "id": "a834f22b-7f64-4f37-bd46-d62ac0a0f0b0",
   "metadata": {},
   "outputs": [
    {
     "data": {
      "application/vnd.jupyter.widget-view+json": {
       "model_id": "ef8a0335b94c4aa4aedde563baeb6e28",
       "version_major": 2,
       "version_minor": 0
      },
      "text/plain": [
       "          0/? [?op/s]"
      ]
     },
     "metadata": {},
     "output_type": "display_data"
    },
    {
     "name": "stderr",
     "output_type": "stream",
     "text": [
      "\n",
      "Host 0 errors:\n",
      "Traceback (most recent call last):\n",
      "  File \"/opt/miniconda/lib/python3.8/site-packages/katana_enterprise/worker/worker.py\", line 86, in execute\n",
      "    value = function(graph)\n",
      "  File \"/tmp/ipykernel_3712/2545177747.py\", line 34, in <lambda>\n",
      "  File \"/tmp/ipykernel_3712/2545177747.py\", line 20, in my_func\n",
      "TypeError: __init__(): incompatible constructor arguments. The following argument types are supported:\n",
      "    1. katana_enterprise.distributed_native.lspg.KeyedColumnNode(data: numpy.ndarray, like: katana_enterprise.distributed_native.lspg.KeyedColumnNode, name: Optional[str] = None)\n",
      "    2. katana_enterprise.distributed_native.lspg.KeyedColumnNode(data: numpy.ndarray, like: katana::python::PseudoKeyedColumn<katana::GraphTypes::Node>, name: str)\n",
      "\n",
      "Invoked with: array([66, 886], dtype=object), <katana.distributed.KeyedColumnEdge object at 0x7f8e125e32f0>, 'DIST_MILES_0026'\n",
      "\n",
      "Host 1 errors:\n",
      "Traceback (most recent call last):\n",
      "  File \"/opt/miniconda/lib/python3.8/site-packages/katana_enterprise/worker/worker.py\", line 86, in execute\n",
      "    value = function(graph)\n",
      "  File \"/tmp/ipykernel_3712/2545177747.py\", line 34, in <lambda>\n",
      "  File \"/tmp/ipykernel_3712/2545177747.py\", line 20, in my_func\n",
      "TypeError: __init__(): incompatible constructor arguments. The following argument types are supported:\n",
      "    1. katana_enterprise.distributed_native.lspg.KeyedColumnNode(data: numpy.ndarray, like: katana_enterprise.distributed_native.lspg.KeyedColumnNode, name: Optional[str] = None)\n",
      "    2. katana_enterprise.distributed_native.lspg.KeyedColumnNode(data: numpy.ndarray, like: katana::python::PseudoKeyedColumn<katana::GraphTypes::Node>, name: str)\n",
      "\n",
      "Invoked with: array([886, 948, 66], dtype=object), <katana.distributed.KeyedColumnEdge object at 0x7f037f0c9570>, 'DIST_MILES_0026'\n",
      "\n",
      "Host 2 errors:\n",
      "Traceback (most recent call last):\n",
      "  File \"/opt/miniconda/lib/python3.8/site-packages/katana_enterprise/worker/worker.py\", line 86, in execute\n",
      "    value = function(graph)\n",
      "  File \"/tmp/ipykernel_3712/2545177747.py\", line 34, in <lambda>\n",
      "  File \"/tmp/ipykernel_3712/2545177747.py\", line 20, in my_func\n",
      "TypeError: __init__(): incompatible constructor arguments. The following argument types are supported:\n",
      "    1. katana_enterprise.distributed_native.lspg.KeyedColumnNode(data: numpy.ndarray, like: katana_enterprise.distributed_native.lspg.KeyedColumnNode, name: Optional[str] = None)\n",
      "    2. katana_enterprise.distributed_native.lspg.KeyedColumnNode(data: numpy.ndarray, like: katana::python::PseudoKeyedColumn<katana::GraphTypes::Node>, name: str)\n",
      "\n",
      "Invoked with: array([1829, 948, None], dtype=object), <katana.distributed.KeyedColumnEdge object at 0x7fb6a9f97e30>, 'DIST_MILES_0026'\n"
     ]
    },
    {
     "ename": "TypeError",
     "evalue": "__init__(): incompatible constructor arguments. The following argument types are supported:\n    1. katana_enterprise.distributed_native.lspg.KeyedColumnNode(data: numpy.ndarray, like: katana_enterprise.distributed_native.lspg.KeyedColumnNode, name: Optional[str] = None)\n    2. katana_enterprise.distributed_native.lspg.KeyedColumnNode(data: numpy.ndarray, like: katana::python::PseudoKeyedColumn<katana::GraphTypes::Node>, name: str)\n\nInvoked with: array([66, 886], dtype=object), <katana.distributed.KeyedColumnEdge object at 0x7f8e125e32f0>, 'DIST_MILES_0026'",
     "output_type": "error",
     "traceback": [
      "\u001b[0;31m---------------------------------------------------------------------------\u001b[0m",
      "\u001b[0;31mTypeError\u001b[0m                                 Traceback (most recent call last)",
      "Cell \u001b[0;32mIn [55], line 34\u001b[0m\n\u001b[1;32m     32\u001b[0m l_newcol2 \u001b[38;5;241m=\u001b[39m  \u001b[38;5;124m\"\u001b[39m\u001b[38;5;124mDIST_KMS_\u001b[39m\u001b[38;5;124m\"\u001b[39m   \u001b[38;5;241m+\u001b[39m \u001b[38;5;28mstr\u001b[39m(l_cntr)\u001b[38;5;241m.\u001b[39mzfill(\u001b[38;5;241m4\u001b[39m)\n\u001b[1;32m     33\u001b[0m    \u001b[38;5;66;03m#\u001b[39;00m\n\u001b[0;32m---> 34\u001b[0m l_result  \u001b[38;5;241m=\u001b[39m \u001b[43mmy_graph\u001b[49m\u001b[38;5;241;43m.\u001b[39;49m\u001b[43mrun\u001b[49m\u001b[43m(\u001b[49m\u001b[38;5;28;43;01mlambda\u001b[39;49;00m\u001b[43m \u001b[49m\u001b[43mg\u001b[49m\u001b[43m:\u001b[49m\u001b[43m \u001b[49m\u001b[43mmy_func\u001b[49m\u001b[43m(\u001b[49m\u001b[43mg\u001b[49m\u001b[43m,\u001b[49m\u001b[43m \u001b[49m\u001b[38;5;124;43m\"\u001b[39;49m\u001b[38;5;124;43mDISTANCE\u001b[39;49m\u001b[38;5;124;43m\"\u001b[39;49m\u001b[43m,\u001b[49m\u001b[43m \u001b[49m\u001b[43ml_newcol1\u001b[49m\u001b[43m,\u001b[49m\u001b[43m \u001b[49m\u001b[43ml_newcol2\u001b[49m\u001b[43m)\u001b[49m\u001b[43m)\u001b[49m\n\u001b[1;32m     36\u001b[0m \u001b[38;5;28mprint\u001b[39m(\u001b[38;5;124m\"\u001b[39m\u001b[38;5;124m--\u001b[39m\u001b[38;5;124m\"\u001b[39m)\n",
      "File \u001b[0;32m/opt/conda/lib/python3.8/site-packages/katana_enterprise/async_to_sync.py:249\u001b[0m, in \u001b[0;36mAsyncToSync.<locals>.do_wrap.<locals>.wrapper\u001b[0;34m(self, *args, **kwargs)\u001b[0m\n\u001b[1;32m    246\u001b[0m \u001b[38;5;129m@wraps\u001b[39m(underlying_func)\n\u001b[1;32m    247\u001b[0m \u001b[38;5;28;01mdef\u001b[39;00m \u001b[38;5;21mwrapper\u001b[39m(\u001b[38;5;28mself\u001b[39m, \u001b[38;5;241m*\u001b[39margs, \u001b[38;5;241m*\u001b[39m\u001b[38;5;241m*\u001b[39mkwargs):\n\u001b[1;32m    248\u001b[0m     \u001b[38;5;28;01mreturn\u001b[39;00m registry\u001b[38;5;241m.\u001b[39masync_to_sync(\n\u001b[0;32m--> 249\u001b[0m         \u001b[43munderlying_func\u001b[49m\u001b[43m(\u001b[49m\n\u001b[1;32m    250\u001b[0m \u001b[43m            \u001b[49m\u001b[43mget_self_func\u001b[49m\u001b[43m(\u001b[49m\u001b[38;5;28;43mself\u001b[39;49m\u001b[43m)\u001b[49m\u001b[43m,\u001b[49m\n\u001b[1;32m    251\u001b[0m \u001b[43m            \u001b[49m\u001b[38;5;241;43m*\u001b[39;49m\u001b[43m(\u001b[49m\u001b[43mregistry\u001b[49m\u001b[38;5;241;43m.\u001b[39;49m\u001b[43msync_to_async\u001b[49m\u001b[43m(\u001b[49m\u001b[43ma\u001b[49m\u001b[43m)\u001b[49m\u001b[43m \u001b[49m\u001b[38;5;28;43;01mfor\u001b[39;49;00m\u001b[43m \u001b[49m\u001b[43ma\u001b[49m\u001b[43m \u001b[49m\u001b[38;5;129;43;01min\u001b[39;49;00m\u001b[43m \u001b[49m\u001b[43margs\u001b[49m\u001b[43m)\u001b[49m\u001b[43m,\u001b[49m\n\u001b[1;32m    252\u001b[0m \u001b[43m            \u001b[49m\u001b[38;5;241;43m*\u001b[39;49m\u001b[38;5;241;43m*\u001b[39;49m\u001b[43m{\u001b[49m\u001b[43mk\u001b[49m\u001b[43m:\u001b[49m\u001b[43m \u001b[49m\u001b[43mregistry\u001b[49m\u001b[38;5;241;43m.\u001b[39;49m\u001b[43msync_to_async\u001b[49m\u001b[43m(\u001b[49m\u001b[43mv\u001b[49m\u001b[43m)\u001b[49m\u001b[43m \u001b[49m\u001b[38;5;28;43;01mfor\u001b[39;49;00m\u001b[43m \u001b[49m\u001b[43mk\u001b[49m\u001b[43m,\u001b[49m\u001b[43m \u001b[49m\u001b[43mv\u001b[49m\u001b[43m \u001b[49m\u001b[38;5;129;43;01min\u001b[39;49;00m\u001b[43m \u001b[49m\u001b[43mkwargs\u001b[49m\u001b[38;5;241;43m.\u001b[39;49m\u001b[43mitems\u001b[49m\u001b[43m(\u001b[49m\u001b[43m)\u001b[49m\u001b[43m}\u001b[49m\u001b[43m,\u001b[49m\n\u001b[1;32m    253\u001b[0m \u001b[43m        \u001b[49m\u001b[43m)\u001b[49m\n\u001b[1;32m    254\u001b[0m     )\n",
      "File \u001b[0;32m/opt/conda/lib/python3.8/site-packages/katana_enterprise/async_to_sync.py:176\u001b[0m, in \u001b[0;36masync_to_sync.<locals>.wrapper\u001b[0;34m(timeout, *args, **kwargs)\u001b[0m\n\u001b[1;32m    166\u001b[0m     registry \u001b[38;5;241m=\u001b[39m AsyncToSyncClassRegistry\u001b[38;5;241m.\u001b[39mget()\n\u001b[1;32m    167\u001b[0m     \u001b[38;5;28;01mreturn\u001b[39;00m registry\u001b[38;5;241m.\u001b[39masync_to_sync(\n\u001b[1;32m    168\u001b[0m         wait_for(\n\u001b[1;32m    169\u001b[0m             async_func(\n\u001b[0;32m   (...)\u001b[0m\n\u001b[1;32m    174\u001b[0m         )\n\u001b[1;32m    175\u001b[0m     )\n\u001b[0;32m--> 176\u001b[0m \u001b[38;5;28;01mreturn\u001b[39;00m \u001b[43mwait_for\u001b[49m\u001b[43m(\u001b[49m\u001b[43masync_func\u001b[49m\u001b[43m(\u001b[49m\u001b[38;5;241;43m*\u001b[39;49m\u001b[43margs\u001b[49m\u001b[43m,\u001b[49m\u001b[43m \u001b[49m\u001b[38;5;241;43m*\u001b[39;49m\u001b[38;5;241;43m*\u001b[39;49m\u001b[43mkwargs\u001b[49m\u001b[43m)\u001b[49m\u001b[43m,\u001b[49m\u001b[43m \u001b[49m\u001b[43mtimeout\u001b[49m\u001b[38;5;241;43m=\u001b[39;49m\u001b[43mtimeout\u001b[49m\u001b[43m)\u001b[49m\n",
      "File \u001b[0;32m/opt/conda/lib/python3.8/site-packages/katana_enterprise/async_to_sync.py:147\u001b[0m, in \u001b[0;36mwait_for\u001b[0;34m(coro, timeout)\u001b[0m\n\u001b[1;32m    145\u001b[0m \u001b[38;5;28;01mtry\u001b[39;00m:\n\u001b[1;32m    146\u001b[0m     future \u001b[38;5;241m=\u001b[39m asyncio\u001b[38;5;241m.\u001b[39mrun_coroutine_threadsafe(timeout_coro, loop\u001b[38;5;241m=\u001b[39mAsyncRunnerThread\u001b[38;5;241m.\u001b[39mget()\u001b[38;5;241m.\u001b[39mloop)\n\u001b[0;32m--> 147\u001b[0m     \u001b[38;5;28;01mreturn\u001b[39;00m \u001b[43mfuture\u001b[49m\u001b[38;5;241;43m.\u001b[39;49m\u001b[43mresult\u001b[49m\u001b[43m(\u001b[49m\u001b[43m)\u001b[49m\n\u001b[1;32m    148\u001b[0m \u001b[38;5;28;01mexcept\u001b[39;00m \u001b[38;5;167;01mKeyboardInterrupt\u001b[39;00m:\n\u001b[1;32m    149\u001b[0m     inner_future\u001b[38;5;241m.\u001b[39mcancel()\n",
      "File \u001b[0;32m/opt/conda/lib/python3.8/concurrent/futures/_base.py:444\u001b[0m, in \u001b[0;36mFuture.result\u001b[0;34m(self, timeout)\u001b[0m\n\u001b[1;32m    442\u001b[0m     \u001b[38;5;28;01mraise\u001b[39;00m CancelledError()\n\u001b[1;32m    443\u001b[0m \u001b[38;5;28;01melif\u001b[39;00m \u001b[38;5;28mself\u001b[39m\u001b[38;5;241m.\u001b[39m_state \u001b[38;5;241m==\u001b[39m FINISHED:\n\u001b[0;32m--> 444\u001b[0m     \u001b[38;5;28;01mreturn\u001b[39;00m \u001b[38;5;28;43mself\u001b[39;49m\u001b[38;5;241;43m.\u001b[39;49m\u001b[43m__get_result\u001b[49m\u001b[43m(\u001b[49m\u001b[43m)\u001b[49m\n\u001b[1;32m    445\u001b[0m \u001b[38;5;28;01melse\u001b[39;00m:\n\u001b[1;32m    446\u001b[0m     \u001b[38;5;28;01mraise\u001b[39;00m \u001b[38;5;167;01mTimeoutError\u001b[39;00m()\n",
      "File \u001b[0;32m/opt/conda/lib/python3.8/concurrent/futures/_base.py:389\u001b[0m, in \u001b[0;36mFuture.__get_result\u001b[0;34m(self)\u001b[0m\n\u001b[1;32m    387\u001b[0m \u001b[38;5;28;01mif\u001b[39;00m \u001b[38;5;28mself\u001b[39m\u001b[38;5;241m.\u001b[39m_exception:\n\u001b[1;32m    388\u001b[0m     \u001b[38;5;28;01mtry\u001b[39;00m:\n\u001b[0;32m--> 389\u001b[0m         \u001b[38;5;28;01mraise\u001b[39;00m \u001b[38;5;28mself\u001b[39m\u001b[38;5;241m.\u001b[39m_exception\n\u001b[1;32m    390\u001b[0m     \u001b[38;5;28;01mfinally\u001b[39;00m:\n\u001b[1;32m    391\u001b[0m         \u001b[38;5;66;03m# Break a reference cycle with the exception in self._exception\u001b[39;00m\n\u001b[1;32m    392\u001b[0m         \u001b[38;5;28mself\u001b[39m \u001b[38;5;241m=\u001b[39m \u001b[38;5;28;01mNone\u001b[39;00m\n",
      "File \u001b[0;32m/opt/conda/lib/python3.8/asyncio/tasks.py:455\u001b[0m, in \u001b[0;36mwait_for\u001b[0;34m(fut, timeout, loop)\u001b[0m\n\u001b[1;32m    450\u001b[0m     warnings\u001b[38;5;241m.\u001b[39mwarn(\u001b[38;5;124m\"\u001b[39m\u001b[38;5;124mThe loop argument is deprecated since Python 3.8, \u001b[39m\u001b[38;5;124m\"\u001b[39m\n\u001b[1;32m    451\u001b[0m                   \u001b[38;5;124m\"\u001b[39m\u001b[38;5;124mand scheduled for removal in Python 3.10.\u001b[39m\u001b[38;5;124m\"\u001b[39m,\n\u001b[1;32m    452\u001b[0m                   \u001b[38;5;167;01mDeprecationWarning\u001b[39;00m, stacklevel\u001b[38;5;241m=\u001b[39m\u001b[38;5;241m2\u001b[39m)\n\u001b[1;32m    454\u001b[0m \u001b[38;5;28;01mif\u001b[39;00m timeout \u001b[38;5;129;01mis\u001b[39;00m \u001b[38;5;28;01mNone\u001b[39;00m:\n\u001b[0;32m--> 455\u001b[0m     \u001b[38;5;28;01mreturn\u001b[39;00m \u001b[38;5;28;01mawait\u001b[39;00m fut\n\u001b[1;32m    457\u001b[0m \u001b[38;5;28;01mif\u001b[39;00m timeout \u001b[38;5;241m<\u001b[39m\u001b[38;5;241m=\u001b[39m \u001b[38;5;241m0\u001b[39m:\n\u001b[1;32m    458\u001b[0m     fut \u001b[38;5;241m=\u001b[39m ensure_future(fut, loop\u001b[38;5;241m=\u001b[39mloop)\n",
      "File \u001b[0;32m/opt/conda/lib/python3.8/site-packages/katana_enterprise/remote/aio/graph.py:527\u001b[0m, in \u001b[0;36mGraph.run\u001b[0;34m(self, function)\u001b[0m\n\u001b[1;32m    525\u001b[0m \u001b[38;5;28mprint\u001b[39m(result\u001b[38;5;241m.\u001b[39mstdout, file\u001b[38;5;241m=\u001b[39msys\u001b[38;5;241m.\u001b[39mstdout, end\u001b[38;5;241m=\u001b[39m\u001b[38;5;124m\"\u001b[39m\u001b[38;5;124m\"\u001b[39m)\n\u001b[1;32m    526\u001b[0m \u001b[38;5;28mprint\u001b[39m(result\u001b[38;5;241m.\u001b[39mstderr, file\u001b[38;5;241m=\u001b[39msys\u001b[38;5;241m.\u001b[39mstderr, end\u001b[38;5;241m=\u001b[39m\u001b[38;5;124m\"\u001b[39m\u001b[38;5;124m\"\u001b[39m)\n\u001b[0;32m--> 527\u001b[0m \u001b[38;5;28;01mreturn\u001b[39;00m \u001b[43mresult\u001b[49m\u001b[38;5;241;43m.\u001b[39;49m\u001b[43mvalue\u001b[49m\n",
      "File \u001b[0;32m/opt/conda/lib/python3.8/site-packages/katana_enterprise/remote/run_result.py:21\u001b[0m, in \u001b[0;36mRunResult.value\u001b[0;34m(self)\u001b[0m\n\u001b[1;32m     19\u001b[0m \u001b[38;5;129m@property\u001b[39m\n\u001b[1;32m     20\u001b[0m \u001b[38;5;28;01mdef\u001b[39;00m \u001b[38;5;21mvalue\u001b[39m(\u001b[38;5;28mself\u001b[39m):\n\u001b[0;32m---> 21\u001b[0m     \u001b[38;5;28;43mself\u001b[39;49m\u001b[38;5;241;43m.\u001b[39;49m\u001b[43mreraise_if_error\u001b[49m\u001b[43m(\u001b[49m\u001b[43m)\u001b[49m\n\u001b[1;32m     22\u001b[0m     \u001b[38;5;28;01massert\u001b[39;00m \u001b[38;5;28mself\u001b[39m\u001b[38;5;241m.\u001b[39msuccess\n\u001b[1;32m     23\u001b[0m     \u001b[38;5;28;01mreturn\u001b[39;00m \u001b[38;5;28mself\u001b[39m\u001b[38;5;241m.\u001b[39m_value\n",
      "File \u001b[0;32m/opt/conda/lib/python3.8/site-packages/katana_enterprise/remote/run_result.py:17\u001b[0m, in \u001b[0;36mRunResult.reraise_if_error\u001b[0;34m(self)\u001b[0m\n\u001b[1;32m     15\u001b[0m \u001b[38;5;28;01mdef\u001b[39;00m \u001b[38;5;21mreraise_if_error\u001b[39m(\u001b[38;5;28mself\u001b[39m):\n\u001b[1;32m     16\u001b[0m     \u001b[38;5;28;01mif\u001b[39;00m \u001b[38;5;129;01mnot\u001b[39;00m \u001b[38;5;28mself\u001b[39m\u001b[38;5;241m.\u001b[39msuccess:\n\u001b[0;32m---> 17\u001b[0m         \u001b[38;5;28;01mraise\u001b[39;00m \u001b[38;5;28mself\u001b[39m\u001b[38;5;241m.\u001b[39m_value\n",
      "File \u001b[0;32m/opt/miniconda/lib/python3.8/site-packages/katana_enterprise/worker/worker.py:128\u001b[0m, in \u001b[0;36mexecute\u001b[0;34m()\u001b[0m\n",
      "File \u001b[0;32m/opt/miniconda/lib/python3.8/site-packages/katana_enterprise/worker/worker.py:86\u001b[0m, in \u001b[0;36mexecute\u001b[0;34m()\u001b[0m\n",
      "Cell \u001b[0;32mIn [55], line 34\u001b[0m, in \u001b[0;36m<lambda>\u001b[0;34m()\u001b[0m\n\u001b[1;32m     32\u001b[0m l_newcol2 \u001b[38;5;241m=\u001b[39m  \u001b[38;5;124m\"\u001b[39m\u001b[38;5;124mDIST_KMS_\u001b[39m\u001b[38;5;124m\"\u001b[39m   \u001b[38;5;241m+\u001b[39m \u001b[38;5;28mstr\u001b[39m(l_cntr)\u001b[38;5;241m.\u001b[39mzfill(\u001b[38;5;241m4\u001b[39m)\n\u001b[1;32m     33\u001b[0m    \u001b[38;5;66;03m#\u001b[39;00m\n\u001b[0;32m---> 34\u001b[0m l_result  \u001b[38;5;241m=\u001b[39m my_graph\u001b[38;5;241m.\u001b[39mrun(\u001b[38;5;28;01mlambda\u001b[39;00m g: my_func(g, \u001b[38;5;124m\"\u001b[39m\u001b[38;5;124mDISTANCE\u001b[39m\u001b[38;5;124m\"\u001b[39m, l_newcol1, l_newcol2))\n\u001b[1;32m     36\u001b[0m \u001b[38;5;28mprint\u001b[39m(\u001b[38;5;124m\"\u001b[39m\u001b[38;5;124m--\u001b[39m\u001b[38;5;124m\"\u001b[39m)\n",
      "Cell \u001b[0;32mIn [55], line 20\u001b[0m, in \u001b[0;36mmy_func\u001b[0;34m()\u001b[0m\n\u001b[1;32m     17\u001b[0m    \u001b[38;5;28;01melse\u001b[39;00m:\n\u001b[1;32m     18\u001b[0m       l_new_cols[l_index] \u001b[38;5;241m=\u001b[39m  l_edge_props[l_key]\n\u001b[0;32m---> 20\u001b[0m l_keyed_cols \u001b[38;5;241m=\u001b[39m KeyedColumnNode(l_new_cols, l_edge_props, i_outcol1)\n\u001b[1;32m     21\u001b[0m    \u001b[38;5;66;03m#\u001b[39;00m\n\u001b[1;32m     22\u001b[0m i_graph\u001b[38;5;241m.\u001b[39mnodes\u001b[38;5;241m.\u001b[39mupsert_property(l_keyed_cols)\n",
      "\u001b[0;31mTypeError\u001b[0m: __init__(): incompatible constructor arguments. The following argument types are supported:\n    1. katana_enterprise.distributed_native.lspg.KeyedColumnNode(data: numpy.ndarray, like: katana_enterprise.distributed_native.lspg.KeyedColumnNode, name: Optional[str] = None)\n    2. katana_enterprise.distributed_native.lspg.KeyedColumnNode(data: numpy.ndarray, like: katana::python::PseudoKeyedColumn<katana::GraphTypes::Node>, name: str)\n\nInvoked with: array([66, 886], dtype=object), <katana.distributed.KeyedColumnEdge object at 0x7f8e125e32f0>, 'DIST_MILES_0026'"
     ]
    }
   ],
   "source": [
    "\n",
    "def my_func(i_graph, i_srccol, i_outcol1, i_outcol2):\n",
    "    \n",
    "   from katana.distributed import KeyedColumnNode\n",
    "   import numpy as np\n",
    "    \n",
    "    \n",
    "   l_edge_props = i_graph.out_edges.get_property(i_srccol)\n",
    "      #\n",
    "   l_edge_keys  = l_edge_props.keys()\n",
    "      #\n",
    "   l_new_cols   = np.zeros(len(l_edge_props), dtype=\"object\")\n",
    "\n",
    "\n",
    "   for l_index, l_key in enumerate(l_edge_keys): \n",
    "      if(l_edge_props[l_key] is None):\n",
    "         l_new_cols[l_index] = None\n",
    "      else:\n",
    "         l_new_cols[l_index] =  l_edge_props[l_key]\n",
    "    \n",
    "   l_keyed_cols = KeyedColumnNode(l_new_cols, l_edge_props, i_outcol1)\n",
    "      #\n",
    "   i_graph.nodes.upsert_property(l_keyed_cols)\n",
    "\n",
    "\n",
    "   return\n",
    "\n",
    "\n",
    "\n",
    "l_cntr    += 1\n",
    "   #\n",
    "l_newcol1 =  \"DIST_MILES_\" + str(l_cntr).zfill(4)\n",
    "l_newcol2 =  \"DIST_KMS_\"   + str(l_cntr).zfill(4)\n",
    "   #\n",
    "l_result  = my_graph.run(lambda g: my_func(g, \"DISTANCE\", l_newcol1, l_newcol2))\n",
    "\n",
    "print(\"--\")\n",
    "\n",
    "\n",
    "\n",
    "\n"
   ]
  },
  {
   "cell_type": "code",
   "execution_count": 49,
   "id": "e1517209-1ff3-4f54-b8b4-151794abd84a",
   "metadata": {},
   "outputs": [
    {
     "data": {
      "application/vnd.jupyter.widget-view+json": {
       "model_id": "e142028a9393444887359def9c51f614",
       "version_major": 2,
       "version_minor": 0
      },
      "text/plain": [
       "          0/? [?op/s]"
      ]
     },
     "metadata": {},
     "output_type": "display_data"
    },
    {
     "name": "stdout",
     "output_type": "stream",
     "text": [
      "+----+-----------------+----------------+-----------------+------------+--------------+--------------+----------+-----------------+------------------+----------+--------------+\n",
      "|    |        r.end.id | r.end.labels   |   r.internal_id | r.label    |   r.DISTANCE |   r.NUM_HOPS | r.TYPE   |      r.start.id | r.start.labels   | r.type   | r.DRIVABLE   |\n",
      "|----+-----------------+----------------+-----------------+------------+--------------+--------------+----------+-----------------+------------------+----------+--------------|\n",
      "|  0 | 281474976710657 | ['Airport']    |               0 | FLIES_TO   |          886 |            1 | FLIES_TO |               0 | ['Airport']      | edge     | nan          |\n",
      "|  1 | 281474976710656 | ['Airport']    |               1 | FLIES_TO   |           66 |            1 | FLIES_TO |               0 | ['Airport']      | edge     | nan          |\n",
      "|  2 |               0 | ['Airport']    | 281474976710657 | FLIES_TO   |           66 |            1 | FLIES_TO | 281474976710656 | ['Airport']      | edge     | nan          |\n",
      "|  3 | 562949953421312 | ['Airport']    | 281474976710656 | FLIES_TO   |          948 |            1 | FLIES_TO | 281474976710657 | ['Airport']      | edge     | nan          |\n",
      "|  4 |               0 | ['Airport']    | 281474976710658 | FLIES_TO   |          886 |            1 | FLIES_TO | 281474976710657 | ['Airport']      | edge     | nan          |\n",
      "|  5 | 281474976710657 | ['Airport']    | 562949953421312 | FLIES_TO   |          948 |            1 | FLIES_TO | 562949953421312 | ['Airport']      | edge     | nan          |\n",
      "|  6 |               0 | ['Airport']    | 562949953421313 | FLIES_TO   |         1829 |            1 | FLIES_TO | 562949953421312 | ['Airport']      | edge     | nan          |\n",
      "|  7 | 562949953421313 | ['Restaurant'] | 562949953421314 | ATTRACTION |          nan |          nan | nan      | 562949953421312 | ['Airport']      | edge     | Yes          |\n",
      "+----+-----------------+----------------+-----------------+------------+--------------+--------------+----------+-----------------+------------------+----------+--------------+\n"
     ]
    }
   ],
   "source": [
    "\n",
    "#  Check results\n",
    "#\n",
    "\n",
    "l_query  = \"\"\"\n",
    "\n",
    "   MATCH (n) - [r] -> (m)\n",
    "   RETURN r\n",
    "   \n",
    "   \"\"\".format()\n",
    "\n",
    "l_result = my_graph.query(l_query)\n",
    "\n",
    "print(tabulate(l_result, headers='keys', tablefmt='psql'))\n"
   ]
  },
  {
   "cell_type": "code",
   "execution_count": null,
   "id": "739f988f-a9b2-48f5-a03d-195112306076",
   "metadata": {},
   "outputs": [],
   "source": []
  },
  {
   "cell_type": "code",
   "execution_count": null,
   "id": "858d26b5-1a55-49bd-9d59-356259650792",
   "metadata": {},
   "outputs": [],
   "source": [
    "\n",
    "def my_func(i_graph, i_label, i_delcol):\n",
    "    \n",
    "   from katana.distributed import KeyedColumnNode\n",
    "   import numpy as np\n",
    "    \n",
    "    \n",
    "   l_node_props = i_graph.nodes.get_property(i_delcol)\n",
    "      #\n",
    "   l_node_keys  = l_node_props.keys()                                                               #  keys() works against any column in the node.\n",
    "      #\n",
    "   l_new_cols   = np.zeros(len(l_node_props), dtype=\"object\")                                       #  An empty NumPy array, same length as l_node_props\n",
    "\n",
    "\n",
    "   for l_index, l_key in enumerate(l_node_keys):                                                    #  Loop over the keys that are already in the graph\n",
    "      if (i_label in i_graph.nodes.labels(l_key) ):                                                   \n",
    "         #  Is Airport\n",
    "         l_new_cols[l_index] = None\n",
    "      else:\n",
    "         #  Not Airport\n",
    "         l_new_cols[l_index] = l_node_props[l_key]\n",
    "    \n",
    "   l_keyed_cols = KeyedColumnNode(l_new_cols, l_node_props, i_delcol)                               #  Building what we need to send to upsert_property()\n",
    "      #\n",
    "   i_graph.nodes.upsert_property(l_keyed_cols)\n",
    "\n",
    "\n",
    "   return\n",
    "\n",
    "\n",
    "#  l_newcol =  \"newcol_\" + str(l_cntr).zfill(4)\n",
    "l_newcol = \"newcol_0021\"\n",
    "#  l_newcol = \"newcol_0022\"\n",
    "   #\n",
    "l_result = my_graph.run(lambda g: my_func(g, \"Airport\", l_newcol))\n",
    "\n",
    "print(\"--\")\n"
   ]
  },
  {
   "cell_type": "code",
   "execution_count": null,
   "id": "85684e3c-d4f6-4ed2-8f71-8e1c5df8ba71",
   "metadata": {},
   "outputs": [],
   "source": []
  },
  {
   "cell_type": "code",
   "execution_count": null,
   "id": "fdc41015-5426-4fa2-954f-294e8ae729ba",
   "metadata": {},
   "outputs": [],
   "source": []
  },
  {
   "cell_type": "code",
   "execution_count": null,
   "id": "8e49f8d3-e75b-45ea-8376-b61fb7e158f3",
   "metadata": {},
   "outputs": [],
   "source": []
  },
  {
   "cell_type": "code",
   "execution_count": 24,
   "id": "1cccaf3b-5f2c-4fce-bf0a-8bea63292344",
   "metadata": {},
   "outputs": [
    {
     "data": {
      "application/vnd.jupyter.widget-view+json": {
       "model_id": "fe085c66b6e64f65b6a0ef97ead69301",
       "version_major": 2,
       "version_minor": 0
      },
      "text/plain": [
       "          0/? [?op/s]"
      ]
     },
     "metadata": {},
     "output_type": "display_data"
    },
    {
     "name": "stdout",
     "output_type": "stream",
     "text": [
      "\n",
      "Host 1 output:\n",
      "Given Airport: MKE   Edge Src: MKE / <lnid 0>             Edge Dst: ORD / <lnid 4294967293>    Distance: 66      \n",
      "Given Airport: SJC   Edge Src: SJC / <lnid 1>             Edge Dst: ORD / <lnid 4294967293>    Distance: 1829    \n",
      "Given Airport: SJC   Edge Src: SJC / <lnid 1>             Edge Dst: DEN / <lnid 4294967294>    Distance: 948     \n",
      "\n",
      "Host 2 output:\n",
      "Given Airport: ORD   Edge Src: ORD / <lnid 0>             Edge Dst: DEN / <lnid 1>             Distance: 886     \n",
      "Given Airport: ORD   Edge Src: ORD / <lnid 0>             Edge Dst: MKE / <lnid 4294967293>    Distance: 66      \n",
      "Given Airport: DEN   Edge Src: DEN / <lnid 1>             Edge Dst: ORD / <lnid 0>             Distance: 886     \n",
      "Given Airport: DEN   Edge Src: DEN / <lnid 1>             Edge Dst: SJC / <lnid 4294967294>    Distance: 948     \n"
     ]
    }
   ],
   "source": [
    "\n",
    "#  Here add a new property to the edge\n",
    "#\n",
    "\n",
    "def my_func(i_graph, i_label, i_type, i_weight):\n",
    "    \n",
    "    \n",
    "   l_node_props = {each: i_graph.nodes    .get_property(each) for each in [ \"id\"             ]}\n",
    "   l_edge_props = {each: i_graph.out_edges.get_property(each) for each in [ \"TYPE\", i_weight ]}\n",
    "    \n",
    "   for l_node in i_graph.nodes.masters():\n",
    "      if (i_label in i_graph.nodes.labels(l_node)):\n",
    "         for l_edge in i_graph.out_edges(l_node):\n",
    "            if(l_edge_props[\"TYPE\"][l_edge] == i_type):\n",
    "          \n",
    "               l_node_id       = l_node_props[\"id\"][l_node]\n",
    "                  #\n",
    "               l_edge_src      = i_graph.out_edges.src(l_edge)\n",
    "               l_edge_dst      = i_graph.out_edges.dst(l_edge)\n",
    "                  #\n",
    "               l_edge_distance = l_edge_props[i_weight][l_edge]\n",
    "                  #\n",
    "               print(\"Given Airport: %-3s   Edge Src: %-3s / %-18s   Edge Dst: %-3s / %-18s   Distance: %-8s\" % (\n",
    "                  l_node_id, l_node_props[\"id\"][l_edge_src], l_edge_src, l_node_props[\"id\"][l_edge_dst], l_edge_dst, l_edge_distance))\n",
    "                  \n",
    "   return\n",
    "\n",
    "\n",
    "\n",
    "\n",
    "\n",
    "l_result = my_graph.run(lambda g: my_func(g, \"Airport\", \"FLIES_TO\", \"DISTANCE\"))\n",
    "\n",
    "\n",
    "\n",
    "\n",
    "\n",
    "\n",
    "\n",
    "\n",
    "\n",
    "\n",
    "\n"
   ]
  },
  {
   "cell_type": "code",
   "execution_count": null,
   "id": "390a07d2-7e81-4ce6-99eb-9e06457ca128",
   "metadata": {},
   "outputs": [],
   "source": []
  },
  {
   "cell_type": "code",
   "execution_count": null,
   "id": "31854d56-0685-4b84-b095-7a5eb9af6b59",
   "metadata": {},
   "outputs": [],
   "source": []
  },
  {
   "cell_type": "code",
   "execution_count": null,
   "id": "33175f5a-d69c-4259-a732-1655c972a4b8",
   "metadata": {},
   "outputs": [],
   "source": []
  },
  {
   "cell_type": "code",
   "execution_count": null,
   "id": "15c44a97-4f73-42cd-ae7f-807e7f847cbd",
   "metadata": {},
   "outputs": [],
   "source": []
  },
  {
   "cell_type": "code",
   "execution_count": null,
   "id": "d0e8f1a9-0cd1-406e-8644-5640d4eef18f",
   "metadata": {},
   "outputs": [],
   "source": []
  },
  {
   "cell_type": "code",
   "execution_count": null,
   "id": "fa0a63af-466c-4f62-9cce-66d95d054eaa",
   "metadata": {},
   "outputs": [],
   "source": []
  },
  {
   "cell_type": "code",
   "execution_count": null,
   "id": "6aec1aed-4120-4626-8b98-68d384b02045",
   "metadata": {},
   "outputs": [],
   "source": []
  },
  {
   "cell_type": "code",
   "execution_count": null,
   "id": "b29cf1d6-797f-4327-af86-2293f421b500",
   "metadata": {},
   "outputs": [],
   "source": []
  },
  {
   "cell_type": "code",
   "execution_count": null,
   "id": "5ebeb837-f708-4116-9581-510a7588e841",
   "metadata": {},
   "outputs": [],
   "source": []
  },
  {
   "cell_type": "code",
   "execution_count": null,
   "id": "3926a173-b7e1-45d6-855c-8f20f9b4eb16",
   "metadata": {},
   "outputs": [],
   "source": []
  },
  {
   "cell_type": "code",
   "execution_count": null,
   "id": "899d7747-c881-4c15-9aed-f8b618e36c26",
   "metadata": {},
   "outputs": [],
   "source": []
  },
  {
   "cell_type": "code",
   "execution_count": null,
   "id": "23ef17e9-2b5d-4270-8fb6-ffc3958f61e1",
   "metadata": {},
   "outputs": [],
   "source": []
  },
  {
   "cell_type": "code",
   "execution_count": null,
   "id": "5bd437b6-b242-48cc-a1e5-6e95f390a624",
   "metadata": {},
   "outputs": [],
   "source": []
  },
  {
   "cell_type": "code",
   "execution_count": null,
   "id": "c10de210-06d5-4a8b-a08f-a7c5528f8b84",
   "metadata": {},
   "outputs": [],
   "source": []
  },
  {
   "cell_type": "code",
   "execution_count": null,
   "id": "0e081913-611b-481f-bb32-c171fa87317d",
   "metadata": {},
   "outputs": [],
   "source": []
  },
  {
   "cell_type": "code",
   "execution_count": null,
   "id": "aa8dd0d7-62b4-4847-bf2f-6b81ed69134e",
   "metadata": {},
   "outputs": [],
   "source": []
  },
  {
   "cell_type": "code",
   "execution_count": null,
   "id": "f719c630-3a86-4972-8f07-e27db23fb5f4",
   "metadata": {},
   "outputs": [],
   "source": []
  },
  {
   "cell_type": "code",
   "execution_count": null,
   "id": "c342a07b-f7b5-436a-b8d5-173934a7475b",
   "metadata": {},
   "outputs": [],
   "source": []
  },
  {
   "cell_type": "code",
   "execution_count": null,
   "id": "cf796ba7-b2e8-4310-ab88-c0d5e1e66eac",
   "metadata": {},
   "outputs": [],
   "source": []
  },
  {
   "cell_type": "code",
   "execution_count": null,
   "id": "061a15b9-759e-48ca-936e-51e5279e6457",
   "metadata": {},
   "outputs": [],
   "source": []
  },
  {
   "cell_type": "code",
   "execution_count": null,
   "id": "8843d673-8112-4bfc-b2c0-de33e13db880",
   "metadata": {},
   "outputs": [],
   "source": []
  },
  {
   "cell_type": "code",
   "execution_count": null,
   "id": "5c74b584-e2f6-4262-a42c-4f34be250a69",
   "metadata": {},
   "outputs": [],
   "source": []
  },
  {
   "cell_type": "code",
   "execution_count": null,
   "id": "930391bc-81c8-40b9-afb9-a960169d2a2d",
   "metadata": {},
   "outputs": [],
   "source": []
  }
 ],
 "metadata": {
  "kernelspec": {
   "display_name": "Python 3 (ipykernel)",
   "language": "python",
   "name": "python3"
  },
  "language_info": {
   "codemirror_mode": {
    "name": "ipython",
    "version": 3
   },
   "file_extension": ".py",
   "mimetype": "text/x-python",
   "name": "python",
   "nbconvert_exporter": "python",
   "pygments_lexer": "ipython3",
   "version": "3.8.13"
  }
 },
 "nbformat": 4,
 "nbformat_minor": 5
}
