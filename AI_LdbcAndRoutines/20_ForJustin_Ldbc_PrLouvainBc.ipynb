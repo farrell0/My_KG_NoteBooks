{
 "cells": [
  {
   "cell_type": "markdown",
   "id": "5e4756b6-d9bb-4b9a-86a8-2f468a891dd0",
   "metadata": {},
   "source": [
    "#  Setup: Display options"
   ]
  },
  {
   "cell_type": "code",
   "execution_count": 37,
   "id": "75157aee-67af-48e1-84ec-c3740b43cba8",
   "metadata": {},
   "outputs": [
    {
     "data": {
      "text/html": [],
      "text/plain": [
       "<IPython.core.display.HTML object>"
      ]
     },
     "metadata": {},
     "output_type": "display_data"
    },
    {
     "name": "stdout",
     "output_type": "stream",
     "text": [
      "--\n"
     ]
    }
   ],
   "source": [
    "\n",
    "#  Setting display options \n",
    "\n",
    "import pandas as pd\n",
    "   #\n",
    "pd.set_option(\"display.width\", 480)\n",
    "\n",
    "#  Sets horizontal scroll for wide outputs\n",
    "#\n",
    "from IPython.display import display, HTML\n",
    "display(HTML(\"\"))\n",
    "\n",
    "from tabulate import tabulate\n",
    "\n",
    "print(\"--\")\n"
   ]
  },
  {
   "cell_type": "code",
   "execution_count": 38,
   "id": "3e2fac01-19bf-46e6-b7cd-5894bac8b497",
   "metadata": {},
   "outputs": [
    {
     "name": "stdout",
     "output_type": "stream",
     "text": [
      "--\n"
     ]
    }
   ],
   "source": [
    "\n",
    "#  Used to report timings\n",
    "#\n",
    "\n",
    "from timeit import default_timer\n",
    "\n",
    "print(\"--\")\n",
    "\n"
   ]
  },
  {
   "cell_type": "markdown",
   "id": "2ea1cdc6-cf71-4d19-ba63-ec87d4f31606",
   "metadata": {},
   "source": [
    "# Setup: Connectivity"
   ]
  },
  {
   "cell_type": "code",
   "execution_count": 39,
   "id": "bf593b56-5f63-48d5-a435-a9d81280b46a",
   "metadata": {},
   "outputs": [
    {
     "name": "stdout",
     "output_type": "stream",
     "text": [
      "<katana.remote.sync_wrappers.Client object at 0x7fafe2a8a0d0>\n"
     ]
    }
   ],
   "source": [
    "\n",
    "from katana import remote\n",
    "from katana.remote import import_data\n",
    "\n",
    "my_client = remote.Client()\n",
    "\n",
    "print(my_client)\n"
   ]
  },
  {
   "cell_type": "code",
   "execution_count": 40,
   "id": "677cc343-73ea-4036-b04e-d244cc991f21",
   "metadata": {},
   "outputs": [
    {
     "name": "stdout",
     "output_type": "stream",
     "text": [
      "--\n"
     ]
    }
   ],
   "source": [
    "\n",
    "#  NUM_PARTITIONS  = 3\n",
    "NUM_PARTITIONS  = 5                  #  Justin has 5\n",
    "   #\n",
    "DB_NAME         = \"my_db\"\n",
    "GRAPH_NAME      = \"my_graph\"\n",
    "\n",
    "print(\"--\")\n"
   ]
  },
  {
   "cell_type": "code",
   "execution_count": 41,
   "id": "7a86a86e-5e5d-4bc3-a23a-3fefaa6166f1",
   "metadata": {},
   "outputs": [
    {
     "name": "stdout",
     "output_type": "stream",
     "text": [
      "<_Graph my_graph, 9DhtNcMG4ML2mPjnbNECWbPdgQsa7144z9KsRBr7DuKj, 1>\n"
     ]
    }
   ],
   "source": [
    "\n",
    "#  CONNECT TO GRAPH\n",
    "\n",
    "my_graph, *_ = my_client.get_database(name=DB_NAME).find_graphs_by_name(GRAPH_NAME)\n",
    "\n",
    "print(my_graph)\n"
   ]
  },
  {
   "cell_type": "code",
   "execution_count": null,
   "id": "785ba950-d949-45b4-99d8-834fc31bebb5",
   "metadata": {},
   "outputs": [],
   "source": [
    "\n",
    "#  Now that we share servers, get a better list of databases and graphs ..\n",
    "#\n",
    "\n",
    "for l_each_d in my_client.databases():\n",
    "   print(\"Database Name: %-28s   Id: %s\" % (l_each_d.name, l_each_d.database_id))\n",
    "      #\n",
    "   for l_each_g in my_client.get_database(name=l_each_d.name).graphs_in_database(): \n",
    "      print(\"   Graph Name: %-28s      Version: %-8d   Id: %s\" % (l_each_g.name, l_each_g.version, l_each_g.graph_id))\n",
    "\n",
    "\n",
    "print(\"\"  )\n",
    "print(\"--\")\n"
   ]
  },
  {
   "cell_type": "markdown",
   "id": "4b9ab7b8-c131-472b-894e-13e41ad99e06",
   "metadata": {},
   "source": [
    "#  Step 00: Diagnostics"
   ]
  },
  {
   "cell_type": "code",
   "execution_count": null,
   "id": "7a868c2b-c708-4f04-a0e4-c632e21af4a6",
   "metadata": {},
   "outputs": [
    {
     "data": {
      "application/vnd.jupyter.widget-view+json": {
       "model_id": "e417af9a29ae4df8a2d14eb8f426e23f",
       "version_major": 2,
       "version_minor": 0
      },
      "text/plain": [
       "          0/? [?op/s]"
      ]
     },
     "metadata": {},
     "output_type": "display_data"
    },
    {
     "name": "stdout",
     "output_type": "stream",
     "text": [
      "+--------------+-----------+\n",
      "| label        |       cnt |\n",
      "|--------------+-----------|\n",
      "| City         |      1343 |\n",
      "| Comment      | 127297840 |\n",
      "| Company      |      1575 |\n",
      "| Continent    |         6 |\n",
      "| Country      |       111 |\n",
      "| Forum        |   4103391 |\n",
      "| Message      | 184685839 |\n",
      "| Organisation |      7955 |\n",
      "| Person       |    449165 |\n",
      "| Place        |      1460 |\n",
      "| Post         |  57387999 |\n",
      "| Tag          |     16080 |\n",
      "| TagClass     |        71 |\n",
      "| University   |      6380 |\n",
      "+--------------+-----------+\n",
      "\n"
     ]
    },
    {
     "data": {
      "application/vnd.jupyter.widget-view+json": {
       "model_id": "a3fa13c649d9432fb101bef0f8267983",
       "version_major": 2,
       "version_minor": 0
      },
      "text/plain": [
       "          0/? [?op/s]"
      ]
     },
     "metadata": {},
     "output_type": "display_data"
    }
   ],
   "source": [
    "\n",
    "#  List all node types with node counts\n",
    "\n",
    "l_query  = \"\"\"\n",
    "\n",
    "   MATCH (n) \n",
    "   WITH DISTINCT LABELS(n) AS labels, COUNT(n) AS cnt\n",
    "   UNWIND labels AS label\n",
    "   RETURN label, SUM(cnt) AS cnt\n",
    "   ORDER BY label\n",
    "   \n",
    "   \"\"\".format()\n",
    "\n",
    "l_result = my_graph.query_unpaginated(l_query)\n",
    "   #\n",
    "print(tabulate(l_result, headers = \"keys\", tablefmt = \"psql\", showindex = False))\n",
    "\n",
    "\n",
    "print()\n",
    "\n",
    "\n",
    "#  List all edge types with counts\n",
    "\n",
    "l_query  = \"\"\"\n",
    "\n",
    "   MATCH (m)-[r]->(n) \n",
    "   WITH DISTINCT TYPE(r) AS type, COUNT(r) AS cnt\n",
    "   RETURN type, cnt\n",
    "   ORDER BY type\n",
    "   \n",
    "   \"\"\".format()\n",
    "\n",
    "l_result = my_graph.query_unpaginated(l_query)\n",
    "   #\n",
    "print(tabulate(l_result, headers = \"keys\", tablefmt = \"psql\", showindex = False))\n",
    "\n",
    "\n",
    "#  Sample output,\n",
    "#\n",
    "\n"
   ]
  },
  {
   "cell_type": "code",
   "execution_count": null,
   "id": "24d60a94-3728-4e65-85ff-fa328be678d1",
   "metadata": {},
   "outputs": [],
   "source": [
    "\n",
    "#  Return properties/keys from all vertices\n",
    "\n",
    "l_query  = \"\"\"\n",
    "   MATCH (n)\n",
    "   RETURN DISTINCT LABELS(n) AS label, KEYS(n) AS my_keys, COUNT(n) AS cnt\n",
    "   \"\"\".format()\n",
    "\n",
    "l_result = my_graph.query_unpaginated(l_query)\n",
    "   #\n",
    "print(tabulate(l_result, headers = \"keys\", tablefmt = \"psql\", showindex = False))\n",
    "\n",
    "\n",
    "#  Return properties/keys from all edges\n",
    "#  \n",
    "\n",
    "l_query  = \"\"\"\n",
    "   MATCH (n) - [r] -> (m)\n",
    "   RETURN DISTINCT TYPE(r) AS my_type, KEYS(r) AS my_keys, COUNT(r) AS cnt\n",
    "   \"\"\".format()\n",
    "\n",
    "l_result = my_graph.query_unpaginated(l_query)\n",
    "   #\n",
    "print(tabulate(l_result, headers = \"keys\", tablefmt = \"psql\", showindex = False))\n",
    "\n",
    "\n",
    "#  Sample output,\n",
    "#\n",
    "\n"
   ]
  },
  {
   "cell_type": "markdown",
   "id": "3cf445dc-22cc-42ce-b5ba-381ac6e1ed86",
   "metadata": {},
   "source": [
    "#  Step 01: Actual Routines"
   ]
  },
  {
   "cell_type": "code",
   "execution_count": null,
   "id": "47fe7918-3353-4e1d-a8f3-e7e40348dc63",
   "metadata": {},
   "outputs": [],
   "source": [
    "\n",
    "\n",
    "from katana.remote.analytics import pagerank\n",
    "from katana.remote.analytics import louvain_clustering\n",
    "from katana.remote.analytics import betweenness_centrality\n",
    "\n",
    "\n",
    "#  Generate a unique prop name so we can run this over and over without edit ..\n",
    "#\n",
    "l_cntr = 0\n",
    "\n",
    "print(\"--\")\n"
   ]
  },
  {
   "cell_type": "code",
   "execution_count": null,
   "id": "76295631-c448-4cb6-9730-88b6aff26523",
   "metadata": {},
   "outputs": [],
   "source": [
    "\n",
    "#  Page Rank obviously ..\n",
    "#\n",
    "\n",
    "#  Generate a unique prop name so we can run this over and over without edit ..\n",
    "#\n",
    "l_cntr += 1\n",
    "   #\n",
    "l_pr_propname = \"pr_\" + str(l_cntr).zfill(4)\n",
    "l_time            = default_timer()\n",
    "\n",
    "\n",
    "pagerank(my_graph, result_property_name = l_pr_propname, max_iterations = 2, alpha = 0.15)\n",
    "\n",
    "print(\"Time in seconds: %d\" % (default_timer() - l_time))\n",
    "   #\n",
    "print(\"--\")\n",
    "\n",
    "\n",
    "#  Sample output,\n",
    "#\n",
    "#  SF: 003\n",
    "#     Time in seconds: 6\n",
    "#\n",
    "#  SF: 100\n",
    "#\n",
    "#\n",
    "\n"
   ]
  },
  {
   "cell_type": "code",
   "execution_count": null,
   "id": "5cc95dd6-6d85-4d1b-bfc7-92d790ec597b",
   "metadata": {},
   "outputs": [],
   "source": [
    "\n",
    "#  Return Page Rank value ..\n",
    "#\n",
    "\n",
    "l_query  = \"\"\"\n",
    "   MATCH (n)\n",
    "   RETURN n, n.page_rank\n",
    "   ORDER BY n.{0} DESC\n",
    "   LIMIT 10\n",
    "\n",
    "   \"\"\".format(l_pr_propname)\n",
    "\n",
    "l_result = my_graph.query_unpaginated(l_query)\n",
    "   #\n",
    "print(tabulate(l_result, headers = \"keys\", tablefmt = \"psql\", showindex = False))\n",
    "\n",
    "print(\"--\")\n",
    "\n",
    "\n",
    "#  Sample output,   SF: 100\n",
    "#\n"
   ]
  },
  {
   "cell_type": "code",
   "execution_count": null,
   "id": "b2b4fc3a-de3a-426c-824c-a69f3adbdf95",
   "metadata": {},
   "outputs": [],
   "source": [
    "\n",
    "#  Louvain obviously ..\n",
    "#\n",
    "\n",
    "l_nodetype = \"Tag\"\n",
    "   #\n",
    "my_graph_l = my_graph.project(node_types = [ l_nodetype ] )\n",
    "\n",
    "#  Generate a unique prop name so we can run this over and over without edit ..\n",
    "#\n",
    "l_cntr += 1\n",
    "   #\n",
    "l_lv_propname = \"lv_\" + str(l_cntr).zfill(4)\n",
    "l_time            = default_timer()\n",
    "\n",
    "\n",
    "louvain_clustering(\n",
    "    my_graph_l,\n",
    "    result_property_name = l_lv_propname,\n",
    "    is_symmetric=True,\n",
    ")\n",
    "\n",
    "print(\"Time in seconds: %d\" % (default_timer() - l_time))\n",
    "   #\n",
    "print(\"--\")\n",
    "\n",
    "\n",
    "#  Sample output,\n",
    "#\n",
    "#  SF: 003\n",
    "#     Time in seconds: 7\n",
    "#\n",
    "#  SF: 100\n",
    "#\n",
    "#\n"
   ]
  },
  {
   "cell_type": "code",
   "execution_count": null,
   "id": "5f5a477f-4710-41f3-9a41-3bd7ae08ee60",
   "metadata": {},
   "outputs": [],
   "source": [
    "\n",
    "#  Return Louvain value ..\n",
    "#\n",
    "\n",
    "l_query  = \"\"\"\n",
    "   MATCH (n: {0})\n",
    "   RETURN n, n.{1}\n",
    "   ORDER BY n.{1} DESC\n",
    "   LIMIT 10\n",
    "\n",
    "   \"\"\".format(l_nodetype, l_lv_propname)\n",
    "\n",
    "l_result = my_graph.query_unpaginated(l_query)\n",
    "   #\n",
    "print(tabulate(l_result, headers = \"keys\", tablefmt = \"psql\", showindex = False))\n",
    "\n",
    "print(\"--\")\n",
    "\n",
    "\n",
    "#  Sample output,   SF: 100\n",
    "#\n",
    "\n"
   ]
  },
  {
   "cell_type": "code",
   "execution_count": null,
   "id": "da37dc28-76a2-450a-8550-ab9323e4643e",
   "metadata": {},
   "outputs": [],
   "source": [
    "\n",
    "#  Betweeness Centrality ..\n",
    "#\n",
    "\n",
    "#  Generate a unique prop name so we can run this over and over without edit ..\n",
    "#\n",
    "l_cntr += 1\n",
    "   #\n",
    "l_bc_propname = \"bc_\" + str(l_cntr).zfill(4)\n",
    "l_time            = default_timer()\n",
    "\n",
    "\n",
    "betweenness_centrality(\n",
    "   my_graph, result_property_name = l_bc_propname, num_sources = 100\n",
    "   )\n",
    "\n",
    "print(\"Time in seconds: %d\" % (default_timer() - l_time))\n",
    "   #\n",
    "print(\"--\")\n",
    "\n",
    "\n",
    "#  Sample output,\n",
    "#\n",
    "#  SF: 003\n",
    "#     Time in seconds: 85\n",
    "#\n",
    "#  SF: 100\n",
    "#\n",
    "#\n",
    "\n"
   ]
  },
  {
   "cell_type": "code",
   "execution_count": null,
   "id": "dfe33cba-2e47-4dfa-9c53-15b37443abe4",
   "metadata": {},
   "outputs": [],
   "source": [
    "\n",
    "#  Return Betweenness Centraility value ..\n",
    "#\n",
    "\n",
    "l_query  = \"\"\"\n",
    "   MATCH (n)\n",
    "   RETURN n, n.{0}\n",
    "   ORDER BY n.{0} DESC\n",
    "   LIMIT 10\n",
    "\n",
    "   \"\"\".format(l_bc_propname)\n",
    "\n",
    "l_result = my_graph.query_unpaginated(l_query)\n",
    "   #\n",
    "print(tabulate(l_result, headers = \"keys\", tablefmt = \"psql\", showindex = False))\n",
    "\n",
    "print(\"--\")\n",
    "\n",
    "\n",
    "#  Sample output,   SF: 100\n",
    "#\n",
    "\n"
   ]
  },
  {
   "cell_type": "code",
   "execution_count": null,
   "id": "6334adac-d9d0-4b90-abb5-c811382900ca",
   "metadata": {},
   "outputs": [],
   "source": []
  },
  {
   "cell_type": "code",
   "execution_count": null,
   "id": "b202da72-95f1-438e-90dd-6189b0c59ca6",
   "metadata": {},
   "outputs": [],
   "source": []
  }
 ],
 "metadata": {
  "kernelspec": {
   "display_name": "Python 3 (ipykernel)",
   "language": "python",
   "name": "python3"
  },
  "language_info": {
   "codemirror_mode": {
    "name": "ipython",
    "version": 3
   },
   "file_extension": ".py",
   "mimetype": "text/x-python",
   "name": "python",
   "nbconvert_exporter": "python",
   "pygments_lexer": "ipython3",
   "version": "3.8.13"
  }
 },
 "nbformat": 4,
 "nbformat_minor": 5
}
