{
 "cells": [
  {
   "cell_type": "code",
   "execution_count": 1,
   "id": "6badeeca-ab5c-4a50-be3e-8be25cc7ee81",
   "metadata": {},
   "outputs": [
    {
     "data": {
      "text/html": [],
      "text/plain": [
       "<IPython.core.display.HTML object>"
      ]
     },
     "metadata": {},
     "output_type": "display_data"
    },
    {
     "name": "stdout",
     "output_type": "stream",
     "text": [
      "--\n"
     ]
    }
   ],
   "source": [
    "\n",
    "#  Setting display options \n",
    "\n",
    "import pandas as pd\n",
    "   #\n",
    "pd.set_option(\"display.width\", 480)\n",
    "\n",
    "#  Sets horizontal scroll for wide outputs\n",
    "#\n",
    "from IPython.display import display, HTML\n",
    "display(HTML(\"\"))\n",
    "\n",
    "from tabulate import tabulate\n",
    "\n",
    "print(\"--\")\n"
   ]
  },
  {
   "cell_type": "markdown",
   "id": "fcb5bbbb-6a57-4388-aa7d-4a2413522df2",
   "metadata": {
    "tags": []
   },
   "source": [
    "# Setup stuff: Connectivity"
   ]
  },
  {
   "cell_type": "code",
   "execution_count": 2,
   "id": "55e90465-e651-45c0-94b2-1ce2cde47977",
   "metadata": {},
   "outputs": [
    {
     "name": "stdout",
     "output_type": "stream",
     "text": [
      "<katana_enterprise.remote.sync_wrappers.Client object at 0x7f37a87608b0>\n"
     ]
    }
   ],
   "source": [
    "\n",
    "from katana import remote\n",
    "\n",
    "my_client = remote.Client()\n",
    "\n",
    "print(my_client)\n"
   ]
  },
  {
   "cell_type": "code",
   "execution_count": 3,
   "id": "04b19ed9-0238-4a6f-afd0-fa11a3b0328b",
   "metadata": {},
   "outputs": [
    {
     "name": "stdout",
     "output_type": "stream",
     "text": [
      "--\n"
     ]
    }
   ],
   "source": [
    "\n",
    "NUM_PARTITIONS  = 3\n",
    "   #\n",
    "DB_NAME         = \"my_db\"\n",
    "GRAPH_NAME      = \"my_graph\"\n",
    "\n",
    "print(\"--\")\n"
   ]
  },
  {
   "cell_type": "code",
   "execution_count": 4,
   "id": "60449360-363a-48ae-bd55-9527b880e3e5",
   "metadata": {},
   "outputs": [
    {
     "name": "stdout",
     "output_type": "stream",
     "text": [
      "<_Graph my_graph, 9y4Qb2faRRhDrFM1t7Z5HU4pDRg5Je9XwCuVkFPfTZX6, 3>\n"
     ]
    }
   ],
   "source": [
    "\n",
    "#  CONNECT TO GRAPH\n",
    "\n",
    "my_graph, *_ = my_client.get_database(name=DB_NAME).find_graphs_by_name(GRAPH_NAME)\n",
    "\n",
    "print(my_graph)\n"
   ]
  },
  {
   "cell_type": "markdown",
   "id": "e2f0bfda-6092-4263-8857-c61af622908b",
   "metadata": {
    "tags": []
   },
   "source": [
    "#  Actual analytics .."
   ]
  },
  {
   "cell_type": "code",
   "execution_count": null,
   "id": "d22b92c3-8c94-4742-9d71-3570db6a59b3",
   "metadata": {},
   "outputs": [],
   "source": [
    "\n",
    "#  View the graph\n",
    "#\n",
    "\n",
    "l_result = my_graph.query(\n",
    "   \"\"\"\n",
    "   MATCH (n) - [r] -> (m)\n",
    "   RETURN n, r, m\n",
    "   \"\"\" ,\n",
    "   contextualize=True,\n",
    "   )\n",
    "l_result.view()\n"
   ]
  },
  {
   "cell_type": "code",
   "execution_count": 5,
   "id": "3ecba69c-0a0f-4a51-a02e-55973ec51242",
   "metadata": {},
   "outputs": [
    {
     "name": "stdout",
     "output_type": "stream",
     "text": [
      "--\n"
     ]
    }
   ],
   "source": [
    "\n",
    "from katana.remote import analytics\n",
    "\n",
    "\n",
    "l_cntr = 20                                                #  Used to generate a unique column name\n",
    "   #\n",
    "print(\"--\")\n"
   ]
  },
  {
   "cell_type": "code",
   "execution_count": 6,
   "id": "c938c483-09f8-4a77-9646-17a6b8d6c256",
   "metadata": {},
   "outputs": [
    {
     "data": {
      "application/vnd.jupyter.widget-view+json": {
       "model_id": "6d900c6eccee4666bd8b4671652fb7d6",
       "version_major": 2,
       "version_minor": 0
      },
      "text/plain": [
       "          0/? [?op/s]"
      ]
     },
     "metadata": {},
     "output_type": "display_data"
    },
    {
     "name": "stdout",
     "output_type": "stream",
     "text": [
      "Airport id:  SJC   1\n",
      "\n"
     ]
    }
   ],
   "source": [
    "\n",
    "#  Getting the airport node id\n",
    "#\n",
    "\n",
    "#  l_airport = \"MKE\"\n",
    "#  l_airport = \"ORD\"\n",
    "#  l_airport = \"DEN\"\n",
    "l_airport = \"SJC\"\n",
    "\n",
    "\n",
    "l_query  = \"\"\"\n",
    "   MATCH (n: Airport) \n",
    "   WHERE n.airport_code = '{0}'\n",
    "   RETURN ID(n) AS my_id\n",
    "   \"\"\".format(l_airport)\n",
    "\n",
    "l_airport_id = my_graph.query(l_query)[\"my_id\"][0]\n",
    "\n",
    "print(\"Airport id:  %s   %d\" % (l_airport, l_airport_id))\n",
    "print(\"\")\n"
   ]
  },
  {
   "cell_type": "code",
   "execution_count": 7,
   "id": "dd06fe66-0a3b-4939-bdbf-4bdd2b3dd230",
   "metadata": {},
   "outputs": [
    {
     "data": {
      "application/vnd.jupyter.widget-view+json": {
       "model_id": "9abc933b172d4ff9ae35d3e333d6a695",
       "version_major": 2,
       "version_minor": 0
      },
      "text/plain": [
       "          0/? [?op/s]"
      ]
     },
     "metadata": {},
     "output_type": "display_data"
    },
    {
     "name": "stdout",
     "output_type": "stream",
     "text": [
      "--\n"
     ]
    }
   ],
   "source": [
    "\n",
    "#  Running analytics.sssp() ..\n",
    "\n",
    "#  From above\n",
    "#\n",
    "l_source_nodeid       = str(l_airport_id)\n",
    "\n",
    "\n",
    "#  Below:  this currently fails on DISTANCE|NUM_HOPS.  Works with None.\n",
    "#\n",
    "\n",
    "#  Edge property\n",
    "#\n",
    "#  l_weight_property     = \"DISTANCE\"                 #  Edge property\n",
    "#  l_weight_property     = \"NUM_HOPS\"\n",
    "l_weight_property     = None   \n",
    "\n",
    "l_max_iterations      = 10000 \n",
    "\n",
    "\n",
    "#  Generate a unique prop name so we can run this over and over without edit ..\n",
    "#\n",
    "l_cntr += 1\n",
    "   #\n",
    "l_output_propname     = \"ksssp_\" + str(l_cntr).zfill(4)\n",
    "\n",
    "\n",
    "analytics.ksssp(\n",
    "   my_graph,\n",
    "      #\n",
    "   start_node                    = l_source_nodeid,\n",
    "   target_node                   = l_source_nodeid,\n",
    "      #\n",
    "   edge_weight_property_name     = l_weight_property,\n",
    "      #\n",
    "   k_value                       = l_numofpaths,        \n",
    "      #\n",
    "   max_iterations                = l_max_iterations,\n",
    "   )\n",
    "\n",
    "print(\"--\")\n",
    "\n",
    "\n",
    "\n",
    "\n",
    "\n",
    "\n",
    "\n",
    "        start_node – The ID of the node that provides the starting point for the search.\n",
    "\n",
    "        target_node – The ID of the node for which to identify paths from the start node.\n",
    "\n",
    "        k_value – Number of shortest paths to find.\n",
    "\n",
    "        edge_weight_property_name – The name of the property storing the edge weight values.\n",
    "\n",
    "        max_iterations – The maximum number of iterations to run.\n",
    "\n",
    "\n"
   ]
  },
  {
   "cell_type": "code",
   "execution_count": 8,
   "id": "a91cd0a0-72a6-4c3d-8c8a-48d6eae59a4c",
   "metadata": {},
   "outputs": [
    {
     "data": {
      "application/vnd.jupyter.widget-view+json": {
       "model_id": "8c58555b4a52466abd2134bbd89c68a1",
       "version_major": 2,
       "version_minor": 0
      },
      "text/plain": [
       "          0/? [?op/s]"
      ]
     },
     "metadata": {},
     "output_type": "display_data"
    },
    {
     "name": "stdout",
     "output_type": "stream",
     "text": [
      "+----+-----------------+-------------+-----------+------------------+------------------+----------------+--------------------+----------+\n",
      "|    |   n.internal_id | n.labels    | n.LABEL   | n.airport_code   | n.airport_name   |   n.ksssp_0021 |   n.sssp_dist_0021 | n.type   |\n",
      "|----+-----------------+-------------+-----------+------------------+------------------+----------------+--------------------+----------|\n",
      "|  0 |               0 | ['Airport'] | Airport   | ORD              | Chicago O-Hare   |              1 |                  1 | node     |\n",
      "|  1 |               1 | ['Airport'] | Airport   | SJC              | San Jose         |              0 |                  0 | node     |\n",
      "|  2 | 281474976710656 | ['Airport'] | Airport   | DEN              | Denver           |              1 |                  1 | node     |\n",
      "|  3 | 562949953421312 | ['Airport'] | Airport   | MKE              | Milwaukee        |              2 |                  2 | node     |\n",
      "+----+-----------------+-------------+-----------+------------------+------------------+----------------+--------------------+----------+\n"
     ]
    }
   ],
   "source": [
    "\n",
    "#  analytics.sssp() adds a new property to the node\n",
    "#\n",
    "\n",
    "l_result = my_graph.query(\"\"\"\n",
    "   MATCH ( n ) \n",
    "   RETURN n\n",
    "   \n",
    "   \"\"\")\n",
    "\n",
    "print(tabulate(l_result, headers='keys', tablefmt='psql'))\n",
    "\n",
    "#  l_result = my_graph.query(\n",
    "#     \"\"\"\n",
    "#     MATCH (n) - [r] -> (m)\n",
    "#     RETURN r\n",
    "#     \"\"\" )\n",
    "#  print(tabulate(l_result, headers='keys', tablefmt='psql'))\n"
   ]
  },
  {
   "cell_type": "markdown",
   "id": "edc2136e-f625-4fff-a95b-dd701fdb474d",
   "metadata": {},
   "source": [
    "#  To remove a given property name from all nodes"
   ]
  },
  {
   "cell_type": "code",
   "execution_count": null,
   "id": "0206b9cb-192e-47a5-b321-bf4556330a1b",
   "metadata": {},
   "outputs": [],
   "source": [
    "\n",
    "#  It is only required that you run this one time.\n",
    "#\n",
    "#  You may change the value i nthe text entry field as often as you wish.\n",
    "#\n",
    "from ipywidgets import widgets\n",
    "\n",
    "my_column  = widgets.Text(\n",
    "    value        = \"sssp_dist_0021\",\n",
    "    placeholder  = \"type here\",\n",
    "    description  = \"Column Name: \",\n",
    "    disabled     = False\n",
    ")\n",
    "\n",
    "my_column\n"
   ]
  },
  {
   "cell_type": "code",
   "execution_count": null,
   "id": "89e50eba-6a89-4850-baae-77533a061385",
   "metadata": {},
   "outputs": [],
   "source": [
    "\n",
    "#  We could run the remove_property() directly, but then we couldn't cleanly catch\n",
    "#  errors. So, run it inside a UDF.\n",
    "#\n",
    "\n",
    "def f_drop_column(i_graph, i_property):\n",
    "   from katana import distributed\n",
    "   try:\n",
    "      i_graph.nodes.remove_property(i_property)\n",
    "      return distributed.single_host(host=0, result=True)\n",
    "   except LookupError as e:\n",
    "      return distributed.single_host(host=0, result=False)\n",
    "   except Exception as e:\n",
    "      return distributed.single_host(host=0, result=False)\n",
    "        \n",
    "\n",
    "print(\"Deleting column name: %s\" % (my_column.value))\n",
    "   #\n",
    "l_column = str(my_column.value)\n",
    "\n",
    "\n",
    "if (my_graph.run(lambda g: f_drop_column(g, l_column))):\n",
    "   print(\"Column ( %s ) deleted.\" % (my_column.value))\n",
    "else:\n",
    "   print(\"Column ( %s ) not found.\" % (my_column.value))\n",
    "\n"
   ]
  },
  {
   "cell_type": "markdown",
   "id": "c8d8bf8a-2a33-44cc-8d51-57faddb0c0ad",
   "metadata": {},
   "source": [
    "# Adding use of graph.project()"
   ]
  },
  {
   "cell_type": "code",
   "execution_count": null,
   "id": "0aaccb30-5098-4fd9-a083-5363c083cb6e",
   "metadata": {},
   "outputs": [],
   "source": [
    "\n",
    "#  graph.project() is used to create a homogenous group, from a heterogeneous one,\n",
    "#  necessary to support some analytics\n",
    "#\n",
    "#  Here we'll add stuff to the graph that some analytics will not like ..\n",
    "\n",
    "\n",
    "l_query = \"\"\"\n",
    "   CREATE ( n: Restaurant { restaurant_code: 'PAP' } )               //  Notice single curly braces\n",
    "   SET n.restaurant_name = 'Pappadeauxs Seafood Kitchen' \n",
    "   \"\"\"\n",
    "      #\n",
    "display(l_result1 = my_graph.query(l_query))\n",
    "\n",
    "l_query = \"\"\"\n",
    "   MATCH\n",
    "      (n: Airport   ),\n",
    "      (m: Restaurant)\n",
    "   WHERE n.airport_code     = 'SJC' AND m.restaurant_code  = 'PAP'\n",
    "   CREATE (n) -[r: ATTRACTION { DRIVABLE: 'Yes' }]-> (m)\n",
    "   \"\"\"\n",
    "      #\n",
    "display(l_result2 = my_graph.query(l_query))\n"
   ]
  },
  {
   "cell_type": "code",
   "execution_count": null,
   "id": "c2ed5128-b247-47d4-aee9-e59b3de6acbd",
   "metadata": {},
   "outputs": [],
   "source": [
    "\n",
    "l_result1 = my_graph.query(\n",
    "   \"\"\"\n",
    "   MATCH (n) \n",
    "   RETURN n\n",
    "   \"\"\" )\n",
    "\n",
    "print(tabulate(l_result1, headers='keys', tablefmt='psql'))\n",
    "\n",
    "l_result2 = my_graph.query(\n",
    "   \"\"\"\n",
    "   MATCH (n) - [r] -> (m)\n",
    "   RETURN r\n",
    "   \"\"\" )\n",
    "\n",
    "print(tabulate(l_result2, headers='keys', tablefmt='psql'))\n"
   ]
  },
  {
   "cell_type": "markdown",
   "id": "f16f1501-36ad-42d7-a274-85a7f40d0a3d",
   "metadata": {},
   "source": [
    "# Run sssp() again, both with and without project()"
   ]
  },
  {
   "cell_type": "code",
   "execution_count": null,
   "id": "78c3847c-6022-4174-9f2b-812e97480361",
   "metadata": {},
   "outputs": [],
   "source": [
    "\n",
    "#  Running analytics.sssp() ..\n",
    "\n",
    "#  From above\n",
    "#\n",
    "l_source_nodeid       = str(l_airport_id)\n",
    "\n",
    "\n",
    "#  Below:  this currently fails on DISTANCE|NUM_HOPS.  Works with None.\n",
    "#\n",
    "\n",
    "#  Edge property\n",
    "#\n",
    "#  l_weight_property     = \"DISTANCE\"                 #  Edge property\n",
    "#  l_weight_property     = \"NUM_HOPS\"\n",
    "l_weight_property     = None   \n",
    "\n",
    "l_max_iterations      = 10000 \n",
    "\n",
    "\n",
    "#  Generate a unique prop name so we can run this over and over without edit ..\n",
    "#\n",
    "l_cntr += 1\n",
    "   #\n",
    "l_output_propname     = \"sssp_dist_\" + str(l_cntr).zfill(4)\n",
    "\n",
    "\n",
    "analytics.sssp(\n",
    "   my_graph,\n",
    "      #\n",
    "   source               = l_source_nodeid,\n",
    "   weight_property      = l_weight_property,\n",
    "   max_iterations       = l_max_iterations,\n",
    "   result_property_name = l_output_propname,\n",
    "   )\n",
    "\n",
    "print(\"--\")\n"
   ]
  },
  {
   "cell_type": "code",
   "execution_count": null,
   "id": "c899a1a1-4071-439b-9494-e0e33c8528ac",
   "metadata": {},
   "outputs": [],
   "source": [
    "#  Check the output from routine above ..\n",
    "\n",
    "l_result = my_graph.query(\n",
    "   \"\"\"\n",
    "   MATCH (n) \n",
    "   RETURN n\n",
    "   \"\"\" )\n",
    "\n",
    "print(tabulate(l_result, headers='keys', tablefmt='psql'))\n",
    "\n",
    "#  Sample output,\n",
    "#\n",
    "#     (nothing is output)\n"
   ]
  },
  {
   "cell_type": "code",
   "execution_count": null,
   "id": "64f378ac-43c1-4069-a53a-d7cff7bfca3d",
   "metadata": {},
   "outputs": [],
   "source": [
    "\n",
    "#  Running analytics.sssp() should be run against a projection, a sub-graph ..\n",
    "\n",
    "my_graph2 = my_graph.project(edge_types=[\"FLIES_TO\"])\n",
    "\n",
    "\n",
    "#  Running analytics.sssp() ..\n",
    "\n",
    "#  From above\n",
    "#\n",
    "l_source_nodeid       = str(l_airport_id)\n",
    "\n",
    "\n",
    "#  Below:  this currently fails on DISTANCE|NUM_HOPS.  Works with None.\n",
    "#\n",
    "\n",
    "#  Edge property\n",
    "#\n",
    "#  l_weight_property     = \"DISTANCE\"                 #  Edge property\n",
    "#  l_weight_property     = \"NUM_HOPS\"\n",
    "l_weight_property     = None   \n",
    "\n",
    "l_max_iterations      = 10000 \n",
    "\n",
    "\n",
    "#  Generate a unique prop name so we can run this over and over without edit ..\n",
    "#\n",
    "l_cntr += 1\n",
    "   #\n",
    "l_output_propname     = \"sssp_dist_\" + str(l_cntr).zfill(4)\n",
    "\n",
    "\n",
    "analytics.sssp(\n",
    "   my_graph2,\n",
    "      #\n",
    "   source               = l_source_nodeid,\n",
    "   weight_property      = l_weight_property,\n",
    "   max_iterations       = l_max_iterations,\n",
    "   result_property_name = l_output_propname,\n",
    "   )\n",
    "\n",
    "print(\"--\")\n"
   ]
  },
  {
   "cell_type": "code",
   "execution_count": null,
   "id": "29826a04-5fb8-4492-8303-943adc30617a",
   "metadata": {},
   "outputs": [],
   "source": [
    "\n",
    "#  Check the output from routine above ..\n",
    "\n",
    "l_result = my_graph.query(\n",
    "   \"\"\"\n",
    "   MATCH (n) \n",
    "   RETURN n\n",
    "   \"\"\" )\n",
    "\n",
    "print(tabulate(l_result, headers='keys', tablefmt='psql'))\n",
    "\n"
   ]
  }
 ],
 "metadata": {
  "kernelspec": {
   "display_name": "Python 3 (ipykernel)",
   "language": "python",
   "name": "python3"
  },
  "language_info": {
   "codemirror_mode": {
    "name": "ipython",
    "version": 3
   },
   "file_extension": ".py",
   "mimetype": "text/x-python",
   "name": "python",
   "nbconvert_exporter": "python",
   "pygments_lexer": "ipython3",
   "version": "3.8.13"
  }
 },
 "nbformat": 4,
 "nbformat_minor": 5
}
