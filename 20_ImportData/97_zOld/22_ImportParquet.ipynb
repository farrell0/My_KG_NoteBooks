{
 "cells": [
  {
   "cell_type": "code",
   "execution_count": 1,
   "id": "2d38f691-ca4f-47d5-b2ca-ca313029b9ca",
   "metadata": {},
   "outputs": [
    {
     "name": "stdout",
     "output_type": "stream",
     "text": [
      "<katana_enterprise.remote.sync_wrappers.Client object at 0x7fb3444721c0>\n"
     ]
    }
   ],
   "source": [
    "\n",
    "from katana import remote\n",
    "from katana.remote import import_data\n",
    "\n",
    "my_client = remote.Client()\n",
    "\n",
    "print(my_client)\n"
   ]
  },
  {
   "cell_type": "code",
   "execution_count": 2,
   "id": "ea9a6cbf-9509-4f4e-abcf-aa0ddfba7dea",
   "metadata": {},
   "outputs": [
    {
     "name": "stdout",
     "output_type": "stream",
     "text": [
      "--\n"
     ]
    }
   ],
   "source": [
    "\n",
    "NUM_PARTITIONS  = 3\n",
    "   #\n",
    "DB_NAME         = \"my_db\"\n",
    "GRAPH_NAME      = \"my_graph\"\n",
    "\n",
    "print(\"--\")\n"
   ]
  },
  {
   "cell_type": "code",
   "execution_count": 3,
   "id": "9789ee48-a6f2-4a88-9fab-c872aa904628",
   "metadata": {},
   "outputs": [
    {
     "name": "stdout",
     "output_type": "stream",
     "text": [
      "<_Graph my_graph, 5sence62JumWdFFiRo2bUE8yBTTbp3VShtTTK44K4YW7, 1>\n"
     ]
    }
   ],
   "source": [
    "\n",
    "#  CONNECT TO GRAPH\n",
    "\n",
    "my_graph, *_ = my_client.get_database(name=DB_NAME).find_graphs_by_name(GRAPH_NAME)\n",
    "\n",
    "print(my_graph)\n"
   ]
  },
  {
   "cell_type": "code",
   "execution_count": 4,
   "id": "29c0a2d8-d463-4d89-ade3-5dba1be7975d",
   "metadata": {},
   "outputs": [
    {
     "data": {
      "application/vnd.jupyter.widget-view+json": {
       "model_id": "8bc22d2159ea4b75b9b1bdd40fb12552",
       "version_major": 2,
       "version_minor": 0
      },
      "text/plain": [
       "          0/? [?op/s]"
      ]
     },
     "metadata": {},
     "output_type": "display_data"
    },
    {
     "data": {
      "text/plain": [
       "29946"
      ]
     },
     "metadata": {},
     "output_type": "display_data"
    },
    {
     "data": {
      "application/vnd.jupyter.widget-view+json": {
       "model_id": "364711b714d74775ac32603b11fc7f8a",
       "version_major": 2,
       "version_minor": 0
      },
      "text/plain": [
       "          0/? [?op/s]"
      ]
     },
     "metadata": {},
     "output_type": "display_data"
    },
    {
     "data": {
      "text/plain": [
       "43072"
      ]
     },
     "metadata": {},
     "output_type": "display_data"
    }
   ],
   "source": [
    "display(my_graph.num_nodes())\n",
    "display(my_graph.num_edges())"
   ]
  },
  {
   "cell_type": "code",
   "execution_count": null,
   "id": "a1453635-7736-4002-be54-5aef16547716",
   "metadata": {},
   "outputs": [],
   "source": [
    "# ##################################################################"
   ]
  },
  {
   "cell_type": "code",
   "execution_count": null,
   "id": "bd5bdea0-2af9-4504-9979-2c975ae7a4e8",
   "metadata": {},
   "outputs": [],
   "source": [
    "#  Making a GS Bucket Public,\n",
    "#\n",
    "#  From,\n",
    "#     https://cloud.google.com/storage/docs/access-control/making-data-public#command-line\n",
    "\n",
    "gsutil iam ch allUsers:objectViewer gs://farrell-bucket\n",
    "\n"
   ]
  },
  {
   "cell_type": "code",
   "execution_count": null,
   "id": "2aeb21f2-250d-45ea-9c9e-29276f13b4a2",
   "metadata": {},
   "outputs": [],
   "source": [
    "#  BEGIN: READ CSV, OUTPUT PARQUET, PROCESS SAME\n",
    "\n",
    "import os\n",
    "   #\n",
    "import dask.dataframe as dd\n",
    "import numpy as np\n",
    "   #\n",
    "from google.cloud import storage\n",
    "import gcsfs\n",
    "\n",
    "\n",
    "os.environ[\"GOOGLE_APPLICATION_CREDENTIALS\"] = \"/home/jovyan/work/02_MyKeys.json\"\n",
    "\n",
    "\n",
    "l_bucket    = \"katana-demo-datasets\"\n",
    "l_fullpath  = \"gs://\" + l_bucket + \"/csv-datasets/ldbc/sf-0.003/csv/bi/composite-projected-fk/initial_snapshot/static/Place/part-00000-c16729dd-16d5-456b-84ca-d0f19fa783d6-c000.csv\"\n",
    "\n",
    "\n",
    "l_dataframe = dd.read_csv(\n",
    "   l_fullpath,\n",
    "   delimiter='|',\n",
    "   dtype={\n",
    "      'id':   int,\n",
    "      \"name\": np.dtype('O'),\n",
    "      \"url\":  np.dtype('O'),\n",
    "      \"type\": np.dtype('O'),\n",
    "      })\n",
    "\n",
    "\n",
    "l_cntr = 0\n",
    "   #\n",
    "for l_each in l_dataframe.iterrows():\n",
    "   l_cntr+=1\n",
    "      #\n",
    "   if (l_cntr < 10):\n",
    "      print(l_each)\n",
    "      print(\"\")  \n",
    "    "
   ]
  },
  {
   "cell_type": "code",
   "execution_count": null,
   "id": "038e48f2-6dca-4f03-a30e-f92551222ee2",
   "metadata": {},
   "outputs": [],
   "source": [
    "#  OUTPUT THE ABOVE TO PARQUET\n",
    "#\n",
    "#     There was a lot of issue here with keys files, persmissions, other\n",
    "#     See,\n",
    "#        https://cloud.google.com/iam/docs/creating-managing-service-account-keys#iam-service-account-keys-list-gcloud\n",
    "#\n",
    "#        gcloud iam service-accounts keys list \\\n",
    "#           --iam-account=farrell@katana-internal39.iam.gserviceaccount.com\n",
    "\n",
    "\n",
    "l_outputfolder = \"gs://\" + \"farrell-bucket\" + \"/test\"\n",
    "\n",
    "\n",
    "l_dataframe.to_parquet(l_outputfolder,\n",
    "   write_index         = False,\n",
    "   write_metadata_file = False,\n",
    "      #\n",
    "   engine              = \"pyarrow\",\n",
    "   version             = \"2.6\"\n",
    "   )\n",
    "\n",
    "print(\"--\")\n"
   ]
  },
  {
   "cell_type": "code",
   "execution_count": null,
   "id": "00c4d22e-3309-4e83-a590-692436e7d3f0",
   "metadata": {},
   "outputs": [],
   "source": [
    "#  READING A PARQUET FILE\n",
    "\n",
    "l_df = dd.read_parquet(\"https://storage.googleapis.com/farrell-bucket/test/part.0.parquet\")\n",
    "\n",
    "l_df.head(5)\n"
   ]
  },
  {
   "cell_type": "code",
   "execution_count": null,
   "id": "7b0741dc-72de-4c4b-a992-58820ddac1dc",
   "metadata": {},
   "outputs": [],
   "source": [
    "# ##################################################################"
   ]
  },
  {
   "cell_type": "code",
   "execution_count": null,
   "id": "861355e0-c982-43c6-a120-028450410c4f",
   "metadata": {},
   "outputs": [],
   "source": [
    "#  IMPORT DATA FROM PARQUET TO GRAPH\n",
    "\n",
    "from katana.remote import import_data\n",
    "\n",
    "l_node =\"gs://farrell-bucket/test/50_NodeHeader.txt\"\n",
    "l_data =\"gs://farrell-bucket\"\n",
    "\n",
    "import_data.parquet(\n",
    "   my_graph,\n",
    "      #\n",
    "   input_node_path   = l_node,\n",
    "   #  input_edge_path   = l_edge,\n",
    "   input_dir         = l_data,\n",
    "      #\n",
    "   schema_delimiter=\"|\",\n",
    "   ids_are_integers=True\n",
    "   )\n",
    "\n",
    "print(\"--\")\n",
    "\n",
    "\n",
    "#  Use counters above\n"
   ]
  }
 ],
 "metadata": {
  "kernelspec": {
   "display_name": "Python 3 (ipykernel)",
   "language": "python",
   "name": "python3"
  },
  "language_info": {
   "codemirror_mode": {
    "name": "ipython",
    "version": 3
   },
   "file_extension": ".py",
   "mimetype": "text/x-python",
   "name": "python",
   "nbconvert_exporter": "python",
   "pygments_lexer": "ipython3",
   "version": "3.8.13"
  }
 },
 "nbformat": 4,
 "nbformat_minor": 5
}
