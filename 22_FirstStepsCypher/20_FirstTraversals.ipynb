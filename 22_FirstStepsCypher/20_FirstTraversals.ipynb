{
 "cells": [
  {
   "cell_type": "markdown",
   "id": "dee4b4c1-688b-4b5e-b195-5a2f4668599e",
   "metadata": {},
   "source": [
    "#  Setup stuff:  Connectivity "
   ]
  },
  {
   "cell_type": "code",
   "execution_count": null,
   "id": "c9937838-2db4-49ac-b782-d67e87f2059b",
   "metadata": {},
   "outputs": [],
   "source": [
    "\n",
    "#  Setting display options \n",
    "\n",
    "import pandas as pd\n",
    "   #\n",
    "pd.set_option(\"display.width\", 480)\n",
    "\n",
    "#  Sets horizontal scroll for wide outputs\n",
    "#\n",
    "from IPython.display import display, HTML\n",
    "display(HTML(\"\"))\n",
    "\n",
    "from tabulate import tabulate\n",
    "\n",
    "print(\"--\")\n"
   ]
  },
  {
   "cell_type": "code",
   "execution_count": null,
   "id": "6da09346-5fcf-4c45-a7bd-ef07ce9f9a59",
   "metadata": {},
   "outputs": [],
   "source": [
    "\n",
    "from katana import remote\n",
    "#  from katana.remote import import_data\n",
    "\n",
    "my_client=remote.Client()\n",
    "\n",
    "print(my_client)\n"
   ]
  },
  {
   "cell_type": "code",
   "execution_count": null,
   "id": "19bc460e-bdee-4199-9f7d-4b1207726980",
   "metadata": {},
   "outputs": [],
   "source": [
    "\n",
    "NUM_PARTITIONS  = 3\n",
    "   #\n",
    "DB_NAME         = \"my_db\"\n",
    "GRAPH_NAME      = \"my_graph\"\n",
    "\n",
    "print(\"--\")\n"
   ]
  },
  {
   "cell_type": "code",
   "execution_count": null,
   "id": "f4306efe-2554-4f15-8cf5-700452c878b3",
   "metadata": {},
   "outputs": [],
   "source": [
    "\n",
    "#  CONNECT TO GRAPH\n",
    "\n",
    "my_graph, *_ = my_client.get_database(name=DB_NAME).find_graphs_by_name(GRAPH_NAME)\n",
    "\n",
    "print(my_graph)\n"
   ]
  },
  {
   "cell_type": "markdown",
   "id": "167c4208-0f54-470f-9dac-0a10c9f10774",
   "metadata": {},
   "source": [
    "#  Sample Cyphers: Vertices"
   ]
  },
  {
   "cell_type": "code",
   "execution_count": null,
   "id": "35763edd-134f-4ceb-8c66-19c9c9c48eae",
   "metadata": {},
   "outputs": [],
   "source": [
    "\n",
    "#  Cypher clauses\n",
    "#\n",
    "#     RETURN ..\n",
    "#     ORDER BY ..\n",
    "#     SKIP ..\n",
    "#     LIMIT ..\n"
   ]
  },
  {
   "cell_type": "code",
   "execution_count": null,
   "id": "f7d350a9-bc58-4b26-aa46-c8ea033a44d8",
   "metadata": {},
   "outputs": [],
   "source": [
    "\n",
    "#  Use of some of the traversal methods ..\n",
    "#\n",
    "\n",
    "l_query  = \"\"\"\n",
    "\n",
    "   MATCH (n) - [r] -> (m)\n",
    "   RETURN\n",
    "      LABELS(m)         AS my_labels,\n",
    "      ID(m)             AS my_id,\n",
    "      KEYS(m)           AS my_keys,\n",
    "      properties(m)     AS my_properties\n",
    "\n",
    "   \"\"\".format()\n",
    "\n",
    "l_result = my_graph.query(l_query)\n",
    "   #\n",
    "print(tabulate(l_result, headers='keys', tablefmt='psql'))\n",
    "\n",
    "#  Sample output,\n",
    "#\n",
    "#     +----+----------------+-----------------+---------------------------------+-----------------------+------------------------------+--------------------+---------------------------------+\n",
    "#     |    | my_labels      |           my_id | my_keys                         | my_properties.LABEL   | my_properties.airport_name   | my_properties.id   | my_properties.restaurant_name   |\n",
    "#     |----+----------------+-----------------+---------------------------------+-----------------------+------------------------------+--------------------+---------------------------------|\n",
    "#     |  0 | ['Airport']    |               0 | ['LABEL', 'airport_name', 'id'] | Airport               | Milwaukee                    | MKE                | nan                             |\n",
    "#     |  1 | ['Airport']    | 562949953421312 | ['LABEL', 'airport_name', 'id'] | Airport               | Denver                       | DEN                | nan                             |\n",
    "#     |  2 | ['Airport']    |               1 | ['LABEL', 'airport_name', 'id'] | Airport               | Chicago O-Hare               | ORD                | nan                             |\n",
    "#     |  3 | ['Airport']    |               1 | ['LABEL', 'airport_name', 'id'] | Airport               | Chicago O-Hare               | ORD                | nan                             |\n",
    "#     |  4 | ['Airport']    | 562949953421312 | ['LABEL', 'airport_name', 'id'] | Airport               | Denver                       | DEN                | nan                             |\n",
    "#     |  5 | ['Restaurant'] | 281474976710657 | ['id', 'restaurant_name']       | nan                   | nan                          | PAP                | Pappadeauxs Seafood Kitchen     |\n",
    "#     |  6 | ['Airport']    | 281474976710656 | ['LABEL', 'airport_name', 'id'] | Airport               | San Jose                     | SJC                | nan                             |\n",
    "#     |  7 | ['Airport']    |               1 | ['LABEL', 'airport_name', 'id'] | Airport               | Chicago O-Hare               | ORD                | nan                             |\n",
    "#     +----+----------------+-----------------+---------------------------------+-----------------------+------------------------------+--------------------+---------------------------------+\n"
   ]
  },
  {
   "cell_type": "code",
   "execution_count": 37,
   "id": "e3d16a08-4a5d-48f5-b7e5-fa4484c158cd",
   "metadata": {},
   "outputs": [
    {
     "data": {
      "application/vnd.jupyter.widget-view+json": {
       "model_id": "0705468100b4473eb067d3306f880b30",
       "version_major": 2,
       "version_minor": 0
      },
      "text/plain": [
       "          0/? [?op/s]"
      ]
     },
     "metadata": {},
     "output_type": "display_data"
    },
    {
     "name": "stdout",
     "output_type": "stream",
     "text": [
      "+----+-----------------+----------------+----------------+-----------------------------+\n",
      "|    |           my_id | my_label       | airport_name   | restaurant_name             |\n",
      "|----+-----------------+----------------+----------------+-----------------------------|\n",
      "|  0 |               1 | ['Airport']    | Chicago O-Hare |                             |\n",
      "|  1 |               0 | ['Airport']    | Milwaukee      |                             |\n",
      "|  2 | 281474976710656 | ['Airport']    | San Jose       |                             |\n",
      "|  3 | 281474976710657 | ['Restaurant'] |                | Pappadeauxs Seafood Kitchen |\n",
      "|  4 | 562949953421312 | ['Airport']    | Denver         |                             |\n",
      "+----+-----------------+----------------+----------------+-----------------------------+\n"
     ]
    }
   ],
   "source": [
    "\n",
    "#  Average traversal; just nodes\n",
    "#\n",
    "\n",
    "l_query  = \"\"\"\n",
    "   MATCH (n) \n",
    "   RETURN \n",
    "      ID(n)               AS my_id, \n",
    "      LABELS(n)           AS my_label, \n",
    "      n.airport_name      AS airport_name, \n",
    "      n.restaurant_name   AS restaurant_name\n",
    "   \"\"\".format()\n",
    "\n",
    "l_result = my_graph.query(l_query)\n",
    "   #\n",
    "print(tabulate(l_result, headers='keys', tablefmt='psql'))\n",
    "\n",
    "#  Sample output,\n",
    "#\n",
    "#     +----+-----------------+----------------+----------------+-----------------------------+\n",
    "#     |    |           my_id | my_label       | airport_name   | restaurant_name             |\n",
    "#     |----+-----------------+----------------+----------------+-----------------------------|\n",
    "#     |  0 |               1 | ['Airport']    | Chicago O-Hare |                             |\n",
    "#     |  1 |               0 | ['Airport']    | Milwaukee      |                             |\n",
    "#     |  2 | 281474976710656 | ['Airport']    | San Jose       |                             |\n",
    "#     |  3 | 281474976710657 | ['Restaurant'] |                | Pappadeauxs Seafood Kitchen |\n",
    "#     |  4 | 562949953421312 | ['Airport']    | Denver         |                             |\n",
    "#     +----+-----------------+----------------+----------------+-----------------------------+\n"
   ]
  },
  {
   "cell_type": "code",
   "execution_count": 38,
   "id": "be368507-fc1d-42e6-b757-8434e2282a1a",
   "metadata": {},
   "outputs": [
    {
     "data": {
      "application/vnd.jupyter.widget-view+json": {
       "model_id": "2a80faf736f741b8854b4a4d9d1c5a14",
       "version_major": 2,
       "version_minor": 0
      },
      "text/plain": [
       "          0/? [?op/s]"
      ]
     },
     "metadata": {},
     "output_type": "display_data"
    },
    {
     "data": {
      "text/plain": [
       "5"
      ]
     },
     "metadata": {},
     "output_type": "display_data"
    },
    {
     "data": {
      "application/vnd.jupyter.widget-view+json": {
       "model_id": "a097635b9fb3406198a414e93b0b9ae3",
       "version_major": 2,
       "version_minor": 0
      },
      "text/plain": [
       "          0/? [?op/s]"
      ]
     },
     "metadata": {},
     "output_type": "display_data"
    },
    {
     "name": "stdout",
     "output_type": "stream",
     "text": [
      "5\n",
      "<class 'numpy.int64'>\n"
     ]
    }
   ],
   "source": [
    "\n",
    "#  Get a count of all nodes\n",
    "\n",
    "display(my_graph.num_nodes())\n",
    "\n",
    "\n",
    "l_query  = \"\"\"\n",
    "   MATCH (n) \n",
    "   RETURN COUNT(*) AS cnt\n",
    "   \"\"\".format()\n",
    "\n",
    "l_count = my_graph.query(l_query)[\"cnt\"][0]\n",
    "\n",
    "\n",
    "print(l_count)\n",
    "print(type(l_count))\n"
   ]
  },
  {
   "cell_type": "code",
   "execution_count": 39,
   "id": "acaaac0d-1a7c-4900-8468-459e0b739cb5",
   "metadata": {},
   "outputs": [
    {
     "data": {
      "application/vnd.jupyter.widget-view+json": {
       "model_id": "6dd1b2c18d654af58b5b7140f5c149d4",
       "version_major": 2,
       "version_minor": 0
      },
      "text/plain": [
       "          0/? [?op/s]"
      ]
     },
     "metadata": {},
     "output_type": "display_data"
    },
    {
     "name": "stdout",
     "output_type": "stream",
     "text": [
      "2\n"
     ]
    }
   ],
   "source": [
    "\n",
    "#  Get a count of all node types\n",
    "\n",
    "l_query  = \"\"\"\n",
    "   MATCH (n) \n",
    "   RETURN COUNT(DISTINCT LABELS(n)) AS cnt\n",
    "   \"\"\".format()\n",
    "\n",
    "l_count = my_graph.query(l_query)[\"cnt\"][0]\n",
    "\n",
    "print(l_count)\n"
   ]
  },
  {
   "cell_type": "code",
   "execution_count": 40,
   "id": "047fafb0-31e6-4065-a8d3-c1bd6f62b003",
   "metadata": {},
   "outputs": [
    {
     "data": {
      "application/vnd.jupyter.widget-view+json": {
       "model_id": "4624fc8eadba49628534af6770625b82",
       "version_major": 2,
       "version_minor": 0
      },
      "text/plain": [
       "          0/? [?op/s]"
      ]
     },
     "metadata": {},
     "output_type": "display_data"
    },
    {
     "name": "stdout",
     "output_type": "stream",
     "text": [
      "['Restaurant']\n",
      "['Airport']\n",
      "--\n"
     ]
    }
   ],
   "source": [
    "\n",
    "#  List all node types\n",
    "\n",
    "l_query  = \"\"\"\n",
    "   MATCH (n)\n",
    "   RETURN DISTINCT LABELS(n) AS my_type\n",
    "   \"\"\".format()\n",
    "\n",
    "l_result = my_graph.query(l_query)\n",
    "\n",
    "\n",
    "for l_each in l_result.itertuples():\n",
    "   print(l_each.my_type)\n",
    "\n",
    "print(\"--\")\n"
   ]
  },
  {
   "cell_type": "code",
   "execution_count": 41,
   "id": "53f97029-84b8-46d9-9b8b-c6bbf1bee0bd",
   "metadata": {},
   "outputs": [
    {
     "data": {
      "application/vnd.jupyter.widget-view+json": {
       "model_id": "4f066ef724024e1ab860991095a677b6",
       "version_major": 2,
       "version_minor": 0
      },
      "text/plain": [
       "          0/? [?op/s]"
      ]
     },
     "metadata": {},
     "output_type": "display_data"
    },
    {
     "name": "stdout",
     "output_type": "stream",
     "text": [
      "+----+------------+-------+\n",
      "|    | label      |   cnt |\n",
      "|----+------------+-------|\n",
      "|  0 | Airport    |     4 |\n",
      "|  1 | Restaurant |     1 |\n",
      "+----+------------+-------+\n",
      "\n"
     ]
    },
    {
     "data": {
      "application/vnd.jupyter.widget-view+json": {
       "model_id": "341de57e33b4475591f22ae16712cb13",
       "version_major": 2,
       "version_minor": 0
      },
      "text/plain": [
       "          0/? [?op/s]"
      ]
     },
     "metadata": {},
     "output_type": "display_data"
    },
    {
     "name": "stdout",
     "output_type": "stream",
     "text": [
      "+----+-----------+\n",
      "|    |   tempCnt |\n",
      "|----+-----------|\n",
      "|  0 |         5 |\n",
      "+----+-----------+\n"
     ]
    }
   ],
   "source": [
    "\n",
    "#  List all node types with node counts\n",
    "\n",
    "l_query  = \"\"\"\n",
    "   MATCH (n) \n",
    "   WITH DISTINCT LABELS(n) AS temp, COUNT(n) AS tempCnt\n",
    "   UNWIND temp AS label\n",
    "   RETURN label, SUM(tempCnt) AS cnt\n",
    "   ORDER BY label\n",
    "   \"\"\".format()\n",
    "\n",
    "l_result = my_graph.query(l_query)\n",
    "   #\n",
    "print(tabulate(l_result, headers='keys', tablefmt='psql'))\n",
    "\n",
    "    \n",
    "print(\"\")\n",
    "\n",
    "\n",
    "l_query  = \"\"\"\n",
    "   MATCH (n) \n",
    "   WITH COUNT(n) AS tempCnt\n",
    "   RETURN tempCnt\n",
    "   \"\"\".format()\n",
    "\n",
    "l_result = my_graph.query(l_query)\n",
    "   #\n",
    "print(tabulate(l_result, headers='keys', tablefmt='psql'))\n",
    "\n"
   ]
  },
  {
   "cell_type": "markdown",
   "id": "14723dda-e98f-4122-aea5-6caf2e588ee8",
   "metadata": {},
   "source": [
    "#  Sample Cyphers: Edges"
   ]
  },
  {
   "cell_type": "code",
   "execution_count": null,
   "id": "ca4aad89-92b7-4fba-a544-001da941de86",
   "metadata": {},
   "outputs": [],
   "source": [
    "\n",
    "#  Count all edges\n",
    "\n",
    "display(my_graph.num_edges())\n",
    "\n",
    "l_query  = \"\"\"\n",
    "    MATCH (n) - [r] -> (m)\n",
    "    RETURN COUNT(r) AS cnt\n",
    "   \"\"\".format()\n",
    "\n",
    "l_count = my_graph.query(l_query)[\"cnt\"][0]\n",
    "\n",
    "print(l_count)\n"
   ]
  },
  {
   "cell_type": "code",
   "execution_count": 42,
   "id": "99f04b70-6e9e-42f1-9ecf-eecbe4be2456",
   "metadata": {},
   "outputs": [
    {
     "data": {
      "application/vnd.jupyter.widget-view+json": {
       "model_id": "c7c261c369af43d29a7535ec8dd071a7",
       "version_major": 2,
       "version_minor": 0
      },
      "text/plain": [
       "          0/? [?op/s]"
      ]
     },
     "metadata": {},
     "output_type": "display_data"
    },
    {
     "name": "stdout",
     "output_type": "stream",
     "text": [
      "+----+------------+-----------+\n",
      "|    | temp       |   tempCnt |\n",
      "|----+------------+-----------|\n",
      "|  0 | ATTRACTION |         1 |\n",
      "|  1 | FLIES_TO   |         7 |\n",
      "+----+------------+-----------+\n"
     ]
    },
    {
     "data": {
      "application/vnd.jupyter.widget-view+json": {
       "model_id": "480b4063b3354136baea36d32698e349",
       "version_major": 2,
       "version_minor": 0
      },
      "text/plain": [
       "          0/? [?op/s]"
      ]
     },
     "metadata": {},
     "output_type": "display_data"
    },
    {
     "name": "stdout",
     "output_type": "stream",
     "text": [
      "+----+-----------+\n",
      "|    |   tempCnt |\n",
      "|----+-----------|\n",
      "|  0 |         8 |\n",
      "+----+-----------+\n"
     ]
    }
   ],
   "source": [
    "\n",
    "#  List all vertice types with counts\n",
    "\n",
    "l_query  = \"\"\"\n",
    "   MATCH (m)-[r]->(n) \n",
    "   WITH DISTINCT TYPE(r) AS temp, COUNT(r) AS tempCnt\n",
    "   RETURN temp, tempCnt\n",
    "   ORDER BY temp\n",
    "   \"\"\".format()\n",
    "\n",
    "l_result = my_graph.query(l_query)\n",
    "   #\n",
    "print(tabulate(l_result, headers='keys', tablefmt='psql'))\n",
    "\n",
    "\n",
    "l_query  = \"\"\"\n",
    "   MATCH (m)-[r]->(n) \n",
    "   WITH COUNT(r) AS tempCnt\n",
    "   RETURN tempCnt\n",
    "   \"\"\".format()\n",
    "\n",
    "l_result = my_graph.query(l_query)\n",
    "   #\n",
    "print(tabulate(l_result, headers='keys', tablefmt='psql'))\n"
   ]
  },
  {
   "cell_type": "markdown",
   "id": "67677cae-8b4b-4d8c-b1f0-811d67147969",
   "metadata": {},
   "source": [
    "#  Sample Cyphers: Properties"
   ]
  },
  {
   "cell_type": "code",
   "execution_count": null,
   "id": "d6299b26-b231-4cf7-997d-02bf855c9870",
   "metadata": {},
   "outputs": [],
   "source": [
    "\n",
    "#  Return properties/keys from all vertices\n",
    "\n",
    "my_graph.query(\"CALL graph.schema() RETURN *\")\n"
   ]
  },
  {
   "cell_type": "code",
   "execution_count": 43,
   "id": "313f34a5-d1f3-4a2d-83a4-15f35d5767d1",
   "metadata": {},
   "outputs": [
    {
     "data": {
      "application/vnd.jupyter.widget-view+json": {
       "model_id": "12ab2324d0bb41199d1b26c7b413c1b6",
       "version_major": 2,
       "version_minor": 0
      },
      "text/plain": [
       "          0/? [?op/s]"
      ]
     },
     "metadata": {},
     "output_type": "display_data"
    },
    {
     "name": "stdout",
     "output_type": "stream",
     "text": [
      "+----+----------------+---------------------------------+\n",
      "|    | label          | KEYS(n)                         |\n",
      "|----+----------------+---------------------------------|\n",
      "|  0 | ['Airport']    | ['LABEL', 'airport_name', 'id'] |\n",
      "|  1 | ['Restaurant'] | ['id', 'restaurant_name']       |\n",
      "+----+----------------+---------------------------------+\n"
     ]
    }
   ],
   "source": [
    "\n",
    "#  Return properties/keys from all vertices\n",
    "\n",
    "l_query  = \"\"\"\n",
    "   MATCH (n)\n",
    "   RETURN DISTINCT LABELS(n) AS label, KEYS(n)\n",
    "   \"\"\".format()\n",
    "\n",
    "l_result = my_graph.query(l_query)\n",
    "   #\n",
    "print(tabulate(l_result, headers='keys', tablefmt='psql'))\n"
   ]
  },
  {
   "cell_type": "code",
   "execution_count": 44,
   "id": "630e1cce-4c9e-4520-8e40-7c3754547827",
   "metadata": {},
   "outputs": [
    {
     "data": {
      "application/vnd.jupyter.widget-view+json": {
       "model_id": "779921d7609e4b089116911cde242ef5",
       "version_major": 2,
       "version_minor": 0
      },
      "text/plain": [
       "          0/? [?op/s]"
      ]
     },
     "metadata": {},
     "output_type": "display_data"
    },
    {
     "name": "stdout",
     "output_type": "stream",
     "text": [
      "+----+------------+----------------------------------------------------------------------+\n",
      "|    | my_type    | KEYS(r)                                                              |\n",
      "|----+------------+----------------------------------------------------------------------|\n",
      "|  0 | ATTRACTION | ['DRIVABLE']                                                         |\n",
      "|  1 | FLIES_TO   | ['DISTANCE', 'NUM_HOPS', 'TYPE', 'DIST_MILES_0021', 'DIST_KMS_0021'] |\n",
      "|  2 | FLIES_TO   | ['DISTANCE', 'NUM_HOPS', 'TYPE', 'DIST_MILES_0021', 'DIST_KMS_0021'] |\n",
      "+----+------------+----------------------------------------------------------------------+\n"
     ]
    }
   ],
   "source": [
    "\n",
    "#  KAT-11443    throws cancelled error, should work\n",
    "#\n",
    "#     Work around in next cell\n",
    "\n",
    "l_query  = \"\"\"\n",
    "   MATCH (n) - [r] -> (m)\n",
    "   RETURN DISTINCT TYPE(r) AS my_type, KEYS(r)\n",
    "   \"\"\".format()\n",
    "\n",
    "l_result = my_graph.query(l_query)\n",
    "   #\n",
    "print(tabulate(l_result, headers='keys', tablefmt='psql'))\n"
   ]
  },
  {
   "cell_type": "code",
   "execution_count": 45,
   "id": "0f0f6b63-f2b9-4cf7-8f9b-e1d03291bc4c",
   "metadata": {},
   "outputs": [
    {
     "data": {
      "application/vnd.jupyter.widget-view+json": {
       "model_id": "47d8d0c7793c4474ba4111b9fa614898",
       "version_major": 2,
       "version_minor": 0
      },
      "text/plain": [
       "          0/? [?op/s]"
      ]
     },
     "metadata": {},
     "output_type": "display_data"
    },
    {
     "name": "stdout",
     "output_type": "stream",
     "text": [
      "+----+------------+----------------------------------------------------------------------+\n",
      "|    | my_type    | my_keys                                                              |\n",
      "|----+------------+----------------------------------------------------------------------|\n",
      "|  0 | ATTRACTION | ['DRIVABLE']                                                         |\n",
      "|  1 | FLIES_TO   | ['DISTANCE', 'NUM_HOPS', 'TYPE', 'DIST_MILES_0021', 'DIST_KMS_0021'] |\n",
      "|  2 | FLIES_TO   | ['DISTANCE', 'NUM_HOPS', 'TYPE', 'DIST_MILES_0021', 'DIST_KMS_0021'] |\n",
      "+----+------------+----------------------------------------------------------------------+\n"
     ]
    }
   ],
   "source": [
    "\n",
    "#  KAT-11445  Missing data, bad data\n",
    "#  MAybe also  KAT-11448\n",
    "\n",
    "\n",
    "#  Return properties/keys from all edges\n",
    "#\n",
    "\n",
    "l_query  = \"\"\"\n",
    "   MATCH (n) - [r] -> (m)\n",
    "   // RETURN DISTINCT (r.TYPE) AS my_type, KEYS(r) AS my_keys\n",
    "   RETURN DISTINCT TYPE(r) AS my_type, KEYS(r) AS my_keys\n",
    "   \"\"\".format()\n",
    "\n",
    "l_result = my_graph.query(l_query)\n",
    "   #\n",
    "print(tabulate(l_result, headers='keys', tablefmt='psql'))\n",
    "\n",
    "\n",
    "#  Sample output,\n",
    "#\n",
    "#     +----+------------+----------------------------------------------------------------------+\n",
    "#     |    | my_type    | my_keys                                                              |\n",
    "#     |----+------------+----------------------------------------------------------------------|\n",
    "#     |  0 | ATTRACTION | ['DRIVABLE']                                                         |\n",
    "#     |  1 | FLIES_TO   | ['DISTANCE', 'NUM_HOPS', 'TYPE', 'DIST_MILES_0021', 'DIST_KMS_0021'] |\n",
    "#     |  2 | FLIES_TO   | ['DISTANCE', 'NUM_HOPS', 'TYPE', 'DIST_MILES_0021', 'DIST_KMS_0021'] |\n",
    "#     +----+------------+----------------------------------------------------------------------+\n"
   ]
  },
  {
   "cell_type": "markdown",
   "id": "4e2a2144-c7e9-4ae6-b22d-f44805c5e211",
   "metadata": {},
   "source": [
    "#  Sample Cyphers: Diagnostics"
   ]
  },
  {
   "cell_type": "code",
   "execution_count": null,
   "id": "70e3ad47-736c-424c-9656-7a35bcc52453",
   "metadata": {},
   "outputs": [],
   "source": [
    "\n",
    "#  Also at,\n",
    "#     https://amusing-fawn.clusters-k9h.dev/v2/widgets/katana-frontend/databases\n",
    "\n",
    "my_client.widgets().operations()\n",
    "\n",
    "#  my_client.widgets().databases()\n",
    "#  my_client.widgets().dashboard()                #  No-op currently\n"
   ]
  },
  {
   "cell_type": "code",
   "execution_count": null,
   "id": "0e166a76-a306-4d40-ab79-87d636be7f1b",
   "metadata": {},
   "outputs": [],
   "source": [
    "\n",
    "# result.raw() went away\n",
    "#\n",
    "#  to pretty print a result as JSON, use ..\n",
    "\n",
    "#  Just to get some data ..\n",
    "#\n",
    "\n",
    "l_query  = \"\"\"\n",
    "   MATCH (n) - [r] -> (m)\n",
    "   RETURN DISTINCT type(r) AS type, keys(r)\n",
    "   \"\"\".format()\n",
    "\n",
    "l_result = my_graph.query(l_query)\n",
    "\n",
    "\n",
    "import json\n",
    "\n",
    "l_result_json = json.loads(l_result.to_json())\n",
    "l_result_strn = json.dumps(l_result_json, indent=2)\n",
    "\n",
    "print(l_result_strn)\n",
    "\n"
   ]
  },
  {
   "cell_type": "code",
   "execution_count": 47,
   "id": "4b5a95fd-8f26-4ec4-b71c-c489154a1b31",
   "metadata": {},
   "outputs": [
    {
     "data": {
      "application/vnd.jupyter.widget-view+json": {
       "model_id": "27b9b28ccc5d44358a23f792112b25fc",
       "version_major": 2,
       "version_minor": 0
      },
      "text/plain": [
       "          0/? [?op/s]"
      ]
     },
     "metadata": {},
     "output_type": "display_data"
    },
    {
     "data": {
      "application/vnd.jupyter.widget-view+json": {
       "model_id": "521062f00a904dd694561f68930529c8",
       "version_major": 2,
       "version_minor": 0
      },
      "text/plain": [
       "          0/? [?op/s]"
      ]
     },
     "metadata": {},
     "output_type": "display_data"
    },
    {
     "data": {
      "application/vnd.jupyter.widget-view+json": {
       "model_id": "a72e66132c0440999d9cfe1191b7e018",
       "version_major": 2,
       "version_minor": 0
      },
      "text/plain": [
       "VBox(children=(HTML(value='\\n                <style>\\n                #jp-main-content-panel .widget-container…"
      ]
     },
     "metadata": {},
     "output_type": "display_data"
    }
   ],
   "source": [
    "\n",
    "#  Produce a visual graph\n",
    "\n",
    "l_result = my_graph.query(\"\"\"\n",
    "\n",
    "   MATCH (n) -[r]-> (m)\n",
    "   RETURN n, r, m\n",
    "   LIMIT 1000 \n",
    "   \n",
    "   \"\"\",\n",
    "   contextualize=True)\n",
    "\n",
    "l_result.view()\n"
   ]
  },
  {
   "cell_type": "markdown",
   "id": "88aa8f4e-e131-445e-b9c5-767580ac9a3f",
   "metadata": {},
   "source": [
    "#  More Cypher "
   ]
  },
  {
   "cell_type": "code",
   "execution_count": 46,
   "id": "cfd2a773-db78-4cb5-a839-b0cb86233b2a",
   "metadata": {},
   "outputs": [
    {
     "data": {
      "application/vnd.jupyter.widget-view+json": {
       "model_id": "0a5055d978ee42b1828c4a84d8b4922a",
       "version_major": 2,
       "version_minor": 0
      },
      "text/plain": [
       "          0/? [?op/s]"
      ]
     },
     "metadata": {},
     "output_type": "display_data"
    },
    {
     "name": "stdout",
     "output_type": "stream",
     "text": [
      "+----+-----------------+-------------+-----------+------------------+--------+----------+\n",
      "|    |   n.internal_id | n.labels    | n.LABEL   | n.airport_name   | n.id   | n.type   |\n",
      "|----+-----------------+-------------+-----------+------------------+--------+----------|\n",
      "|  0 |               0 | ['Airport'] | Airport   | Milwaukee        | MKE    | node     |\n",
      "+----+-----------------+-------------+-----------+------------------+--------+----------+\n"
     ]
    }
   ],
   "source": [
    "#  Parameterized query, works with (Airports) ..\n",
    "\n",
    "l_fname = \"MKE\"\n",
    "\n",
    "l_query  = \"\"\"\n",
    "\n",
    "   MATCH (n: Airport) \n",
    "   WHERE n.id = '{0}'\n",
    "   RETURN n\n",
    "\n",
    "   \"\"\".format(l_fname)\n",
    "\n",
    "l_result = my_graph.query(l_query)\n",
    "   #\n",
    "print(tabulate(l_result, headers='keys', tablefmt='psql'))\n"
   ]
  },
  {
   "cell_type": "code",
   "execution_count": null,
   "id": "f60b7f2d-8608-4d70-98c6-23840faac735",
   "metadata": {},
   "outputs": [],
   "source": [
    "\n",
    "#  Regex query, tested with (Airports) ..\n",
    "\n",
    "l_fname = \"/^M*/\"\n",
    "\n",
    "l_query  = \"\"\"\n",
    "\n",
    "   MATCH (n: Airport) \n",
    "   WHERE n.airport_name =~ '{0}'\n",
    "   RETURN n.id, n.airport_name\n",
    "\n",
    "   \"\"\".format(l_fname)\n",
    "\n",
    "l_result = my_graph.query(l_query)\n",
    "\n",
    "display(print(l_result[0:5]))\n",
    "\n",
    "#  Sample output,\n",
    "#\n",
    "#     OperationError: FmPz7gHk5N3wKxVziuy6KiRd9D9U3KiqSCaursUBfDEG-4R77ceGCNHQJRCW56 backtrace (QueryOperation.cpp:67):\n",
    "#     backtrace (Network.h:331): backtrace (QueryOperation.cpp:70): backtrace (QueryClient.cpp:603): unable to translate\n",
    "#     openCypher parse tree to internal IR (OpGraph.cpp:224): string comparision with regular expression not supported\n",
    "#     (CypherOpGraphBuilder.cpp:57): InternalError:NotImplemented: InternalError:NotImplemented: InternalError:NotImplemented\n",
    "\n"
   ]
  },
  {
   "cell_type": "code",
   "execution_count": null,
   "id": "52394e4e-00b0-4b92-88bd-e5e713c4d734",
   "metadata": {},
   "outputs": [],
   "source": [
    "# ###################################################################"
   ]
  },
  {
   "cell_type": "code",
   "execution_count": null,
   "id": "4ca965ca-d39c-40e7-ac8d-732053f5a5c8",
   "metadata": {},
   "outputs": [],
   "source": [
    "\n",
    "#  Changing the Edge type\n",
    "#\n",
    "\n",
    "l_query  = \"\"\"\n",
    "\n",
    "   MATCH (n) - [r] -> (m)\n",
    "   RETURN r\n",
    "\n",
    "   \"\"\".format()\n",
    "\n",
    "l_result = my_graph.query(l_query)\n",
    "   #\n",
    "#  print(tabulate(l_result, headers='keys', tablefmt='psql'))\n",
    "\n",
    "   ###\n",
    "\n",
    "l_query  = \"\"\"\n",
    "\n",
    "   MATCH (n) - [r] -> (m)\n",
    "   RETURN\n",
    "      TYPE(r)           AS my_type,\n",
    "      ID(r)             AS my_id,\n",
    "      KEYS(r)           AS my_keys,\n",
    "         //\n",
    "      ID(startNode(r))  AS my_startnode_id,\n",
    "      ID(endNode(r))    AS my_endnode_id\n",
    "\n",
    "   \"\"\".format()\n",
    "\n",
    "l_result = my_graph.query(l_query)\n",
    "   #\n",
    "print(tabulate(l_result, headers='keys', tablefmt='psql'))\n",
    "\n",
    "\n",
    "#  Sample output,\n",
    "#\n",
    "#     +----+-----------------+----------------+-----------------+------------+--------------+-------------------+---------------------+--------------+----------+-----------------+------------------+----------+--------------+\n",
    "#     |    |        r.end.id | r.end.labels   |   r.internal_id | r.label    |   r.DISTANCE |   r.DIST_KMS_0021 |   r.DIST_MILES_0021 |   r.NUM_HOPS | r.TYPE   |      r.start.id | r.start.labels   | r.type   | r.DRIVABLE   |\n",
    "#     |----+-----------------+----------------+-----------------+------------+--------------+-------------------+---------------------+--------------+----------+-----------------+------------------+----------+--------------|\n",
    "#     |  0 |               1 | ['Airport']    |               1 | FLIES_TO   |           66 |               106 |                  66 |            1 | FLIES_TO |               0 | ['Airport']      | edge     | nan          |\n",
    "#     |  1 |               0 | ['Airport']    |               0 | FLIES_TO   |           66 |               106 |                  66 |            1 | FLIES_TO |               1 | ['Airport']      | edge     | nan          |\n",
    "#     |  2 | 562949953421312 | ['Airport']    |               2 | FLIES_TO   |          886 |              1425 |                 886 |            1 | FLIES_TO |               1 | ['Airport']      | edge     | nan          |\n",
    "#     |  3 |               1 | ['Airport']    | 281474976710656 | FLIES_TO   |         1829 |              2943 |                1829 |            1 | FLIES_TO | 281474976710656 | ['Airport']      | edge     | nan          |\n",
    "#     |  4 | 562949953421312 | ['Airport']    | 281474976710657 | FLIES_TO   |          948 |              1525 |                 948 |            1 | FLIES_TO | 281474976710656 | ['Airport']      | edge     | nan          |\n",
    "#     |  5 | 281474976710657 | ['Restaurant'] | 281474976710658 | ATTRACTION |          nan |               nan |                 nan |          nan | nan      | 281474976710656 | ['Airport']      | edge     | Yes          |\n",
    "#     |  6 | 281474976710656 | ['Airport']    | 562949953421312 | FLIES_TO   |          948 |              1525 |                 948 |            1 | FLIES_TO | 562949953421312 | ['Airport']      | edge     | nan          |\n",
    "#     |  7 |               1 | ['Airport']    | 562949953421313 | FLIES_TO   |          886 |              1425 |                 886 |            1 | FLIES_TO | 562949953421312 | ['Airport']      | edge     | nan          |\n",
    "#     +----+-----------------+----------------+-----------------+------------+--------------+-------------------+---------------------+--------------+----------+-----------------+------------------+----------+--------------+\n",
    "#\n"
   ]
  }
 ],
 "metadata": {
  "kernelspec": {
   "display_name": "Python 3 (ipykernel)",
   "language": "python",
   "name": "python3"
  },
  "language_info": {
   "codemirror_mode": {
    "name": "ipython",
    "version": 3
   },
   "file_extension": ".py",
   "mimetype": "text/x-python",
   "name": "python",
   "nbconvert_exporter": "python",
   "pygments_lexer": "ipython3",
   "version": "3.8.13"
  }
 },
 "nbformat": 4,
 "nbformat_minor": 5
}
