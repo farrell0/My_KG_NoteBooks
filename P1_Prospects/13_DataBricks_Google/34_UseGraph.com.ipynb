{
 "cells": [
  {
   "cell_type": "markdown",
   "id": "3ab7ce90-67cf-462c-94a6-3c8c9d0754b3",
   "metadata": {},
   "source": [
    "# Setup: Connectivity"
   ]
  },
  {
   "cell_type": "code",
   "execution_count": 1,
   "id": "e87b75ba-c072-4111-8cca-4b4f394a0fce",
   "metadata": {},
   "outputs": [
    {
     "data": {
      "text/html": [],
      "text/plain": [
       "<IPython.core.display.HTML object>"
      ]
     },
     "metadata": {},
     "output_type": "display_data"
    },
    {
     "name": "stdout",
     "output_type": "stream",
     "text": [
      "My Client: <katana_enterprise.remote.sync_wrappers.Client object at 0x7ffb603b4280>\n",
      "My Graph:  <_Graph my_graph, D2zAjhTGfG7UKNLjAh48GNwcNCSFbGC2L38v3Rv2LK2M, 5>\n",
      "\n"
     ]
    }
   ],
   "source": [
    "\n",
    "from katana import remote\n",
    "   #\n",
    "from IPython.display import display\n",
    "from ipywidgets import Layout, Textarea, VBox\n",
    "   #\n",
    "from libraries.SupportFor34 import f_init, f_enrich\n",
    "    \n",
    "    \n",
    "my_client, my_graph = f_init()\n",
    "\n",
    "\n",
    "print(\"My Client: %s\" % (my_client))\n",
    "print(\"My Graph:  %s\" % (my_graph ))\n",
    "   #\n",
    "print()\n"
   ]
  },
  {
   "cell_type": "markdown",
   "id": "4ec1c889-3b18-44f7-adcf-b9b5eca13dd5",
   "metadata": {},
   "source": [
    "#  Step 01: Enter a new Medical Description"
   ]
  },
  {
   "cell_type": "code",
   "execution_count": 2,
   "id": "9b760cd1-9e7a-47c4-96c7-13e6f70b1acb",
   "metadata": {},
   "outputs": [
    {
     "data": {
      "application/vnd.jupyter.widget-view+json": {
       "model_id": "a8c637c7892a4322b87293d3b9a7fce1",
       "version_major": 2,
       "version_minor": 0
      },
      "text/plain": [
       "Textarea(value='Odd mole on my ear', description='Enter Text: ', layout=Layout(flex='0 1 auto', height='100px'…"
      ]
     },
     "metadata": {},
     "output_type": "display_data"
    }
   ],
   "source": [
    "\n",
    "#  Create a text entry area\n",
    "#\n",
    "\n",
    "l_layout   = Layout(flex = \"0 1 auto\", height = \"100px\", min_height = \"100px\", width = \"auto\")\n",
    "l_text01   = Textarea(value=\"Odd mole on my ear\", layout = l_layout, description = \"Enter Text: \")\n",
    "   #\n",
    "l_vbox     = VBox([l_text01], layout = Layout(flex = \"1 1 auto\", width = \"auto\"))\n",
    "display(l_text01)\n"
   ]
  },
  {
   "cell_type": "code",
   "execution_count": 3,
   "id": "16658063-7b08-4f33-963b-110708e50567",
   "metadata": {},
   "outputs": [
    {
     "data": {
      "application/vnd.jupyter.widget-view+json": {
       "model_id": "6d32275ad4f648989b75f3f1bfd1bc92",
       "version_major": 2,
       "version_minor": 0
      },
      "text/plain": [
       "          0/? [?op/s]"
      ]
     },
     "metadata": {},
     "output_type": "display_data"
    },
    {
     "name": "stdout",
     "output_type": "stream",
     "text": [
      "Unique Patient Visit Id: PV-2033\n",
      "\n",
      "Medical Description encoding:\n",
      "\n"
     ]
    },
    {
     "data": {
      "text/plain": [
       "{'entityMentions': [{'mentionId': '1',\n",
       "   'type': 'PROBLEM',\n",
       "   'text': {'content': 'mole', 'beginOffset': 4},\n",
       "   'linkedEntities': [{'entityId': 'UMLS/C0027960'},\n",
       "    {'entityId': 'UMLS/C0027962'}],\n",
       "   'temporalAssessment': {'value': 'UPCOMING',\n",
       "    'confidence': 0.6084825992584229},\n",
       "   'certaintyAssessment': {'value': 'LIKELY',\n",
       "    'confidence': 0.057481713593006134},\n",
       "   'subject': {'value': 'PATIENT', 'confidence': 0.9589220881462097},\n",
       "   'confidence': 0.5596652626991272},\n",
       "  {'mentionId': '2',\n",
       "   'type': 'ANATOMICAL_STRUCTURE',\n",
       "   'text': {'content': 'ear', 'beginOffset': 15},\n",
       "   'linkedEntities': [{'entityId': 'UMLS/C0013443'}],\n",
       "   'confidence': 0.9025713205337524}],\n",
       " 'entities': [{'entityId': 'UMLS/C0013443',\n",
       "   'preferredTerm': 'Ear structure',\n",
       "   'vocabularyCodes': ['FMA/52780',\n",
       "    'FMA/77739',\n",
       "    'LNC/LA21929-7',\n",
       "    'LNC/LA22163-2',\n",
       "    'LNC/LP7188-8',\n",
       "    'LNC/MTHU001407',\n",
       "    'MSH/D004423',\n",
       "    'MTH/NOCODE',\n",
       "    'NCI/C12394',\n",
       "    'OMIM/MTHU000052']},\n",
       "  {'entityId': 'UMLS/C0027960',\n",
       "   'preferredTerm': 'Nevus',\n",
       "   'vocabularyCodes': ['HPO/HP:0003764',\n",
       "    'MEDLINEPLUS/4491',\n",
       "    'MEDLINEPLUS/5402',\n",
       "    'MSH/D009506',\n",
       "    'MTH/NOCODE',\n",
       "    'OMIM/MTHU016869']},\n",
       "  {'entityId': 'UMLS/C0027962',\n",
       "   'preferredTerm': 'Melanocytic nevus',\n",
       "   'vocabularyCodes': ['HPO/HP:0000995',\n",
       "    'HPO/HP:0003764',\n",
       "    'MSH/D009508',\n",
       "    'MTH/NOCODE',\n",
       "    'NCI/C7570']}]}"
      ]
     },
     "metadata": {},
     "output_type": "display_data"
    }
   ],
   "source": [
    "\n",
    "#  Enrich/decode text entry from above\n",
    "#\n",
    "\n",
    "l_return, l_pvid = f_enrich(l_text01.value.lower(), my_graph)\n",
    "\n",
    "print(\"Unique Patient Visit Id: %s\" % (l_pvid))\n",
    "print(\"\")\n",
    "print(\"Medical Description encoding:\")\n",
    "print(\"\")\n",
    "display(l_return)\n"
   ]
  },
  {
   "cell_type": "markdown",
   "id": "6d7f32ad-d6c9-4c95-9005-73239071c255",
   "metadata": {},
   "source": [
    "# Step 02:  Examine the Graph"
   ]
  },
  {
   "cell_type": "code",
   "execution_count": 4,
   "id": "73085108-3d24-4d66-bf9e-f7c98360a54e",
   "metadata": {},
   "outputs": [
    {
     "data": {
      "application/vnd.jupyter.widget-view+json": {
       "model_id": "46d693652fed46f4959157734b9f4b03",
       "version_major": 2,
       "version_minor": 0
      },
      "text/plain": [
       "          0/? [?op/s]"
      ]
     },
     "metadata": {},
     "output_type": "display_data"
    },
    {
     "data": {
      "application/vnd.jupyter.widget-view+json": {
       "model_id": "407378ea7a214066b6f75226a75ee96d",
       "version_major": 2,
       "version_minor": 0
      },
      "text/plain": [
       "          0/? [?op/s]"
      ]
     },
     "metadata": {},
     "output_type": "display_data"
    },
    {
     "name": "stderr",
     "output_type": "stream",
     "text": [
      "/opt/conda/lib/python3.8/site-packages/katana_enterprise/remote/result_set.py:69: UserWarning: Pandas doesn't allow columns to be created via a new attribute name - see https://pandas.pydata.org/pandas-docs/stable/indexing.html#attribute-access\n",
      "  self._response = response\n"
     ]
    },
    {
     "data": {
      "application/vnd.jupyter.widget-view+json": {
       "model_id": "a2047028c01c4415b6410cb82a6c3d7c",
       "version_major": 2,
       "version_minor": 0
      },
      "text/plain": [
       "VBox(children=(HTML(value='\\n                <style>\\n                #jp-main-content-panel .widget-container…"
      ]
     },
     "metadata": {},
     "output_type": "display_data"
    }
   ],
   "source": [
    "\n",
    "#  Produce a visual graph\n",
    "\n",
    "from katana_visualization_widget import GraphVisOptions, NodeVisOption, EdgeVisOption, ANY\n",
    "\n",
    "l_options = GraphVisOptions(\n",
    "   node_options = [\n",
    "      NodeVisOption(\"PatientVisit\",     label=\"short_text\"       ),\n",
    "      NodeVisOption(\"UmlsEntity\",       label=\"id\"               ),\n",
    "      NodeVisOption(\"UmlsVocabulary\",   label=\"id\"               ),\n",
    "   ],\n",
    "   #  edge_options = [\n",
    "   #     EdgeVisOption([\"VISIT_CONTAINS\"], label=\"start_id\"),\n",
    "   #     EdgeVisOption([\"ALSO_CODED_AS\" ], label=\"start_id\"),\n",
    "   #  ]\n",
    "   )\n",
    "    \n",
    "    \n",
    "l_query  = \"\"\"\n",
    "\n",
    "   MATCH (pv: PatientVisit) - [vc: VISIT_CONTAINS] -> (ue: UmlsEntity) - [aca: ALSO_CODED_AS] -> (uv: UmlsVocabulary)\n",
    "   WHERE\n",
    "      (pv.id = '{0}')\n",
    "   RETURN pv, vc, ue, aca, uv\n",
    "   \n",
    "   \"\"\".format(l_pvid)\n",
    "\n",
    "l_result = my_graph.query_unpaginated(l_query, contextualize=True)\n",
    "    \n",
    "l_result.view(graph_vis_options = l_options)\n"
   ]
  },
  {
   "cell_type": "code",
   "execution_count": null,
   "id": "d033566d-939b-42d4-a930-565894e6c293",
   "metadata": {},
   "outputs": [],
   "source": [
    "# #########################################################################"
   ]
  },
  {
   "cell_type": "code",
   "execution_count": 5,
   "id": "92024417-6824-4c22-b554-b09866184afa",
   "metadata": {},
   "outputs": [
    {
     "data": {
      "application/vnd.jupyter.widget-view+json": {
       "model_id": "348b9221f5064d6a86de48fef8a71fad",
       "version_major": 2,
       "version_minor": 0
      },
      "text/plain": [
       "          0/? [?op/s]"
      ]
     },
     "metadata": {},
     "output_type": "display_data"
    },
    {
     "name": "stdout",
     "output_type": "stream",
     "text": [
      "    n.internal_id          n.labels         n.LABEL           n.id n.vocabulary_code n.type    n.entity_id                        n.preferred_term\n",
      "0         2009375  [UmlsVocabulary]  UmlsVocabulary    NCBI/287187       NCBI/287187   node            NaN                                     NaN\n",
      "1         2009376  [UmlsVocabulary]  UmlsVocabulary   NCBI/2871891      NCBI/2871891   node            NaN                                     NaN\n",
      "2         2009377  [UmlsVocabulary]  UmlsVocabulary   NCBI/2871892      NCBI/2871892   node            NaN                                     NaN\n",
      "3         2009378  [UmlsVocabulary]  UmlsVocabulary   NCBI/2871894      NCBI/2871894   node            NaN                                     NaN\n",
      "4         2009379  [UmlsVocabulary]  UmlsVocabulary   NCBI/2871899      NCBI/2871899   node            NaN                                     NaN\n",
      "..            ...               ...             ...            ...               ...    ...            ...                                     ...\n",
      "95        1339612      [UmlsEntity]      UmlsEntity  UMLS/C4284627               NaN   node  UMLS/C4284627  Attending Long term care facility Note\n",
      "96        1339613      [UmlsEntity]      UmlsEntity  UMLS/C4284628               NaN   node  UMLS/C4284628                         MD LTC fac Note\n",
      "97        1339614      [UmlsEntity]      UmlsEntity  UMLS/C4284631               NaN   node  UMLS/C4284631                                    CO16\n",
      "98        1339615      [UmlsEntity]      UmlsEntity  UMLS/C4284636               NaN   node  UMLS/C4284636                                  NESP55\n",
      "99        1339616      [UmlsEntity]      UmlsEntity  UMLS/C4284638               NaN   node  UMLS/C4284638                         Bone age method\n",
      "\n",
      "[100 rows x 8 columns]\n"
     ]
    },
    {
     "name": "stderr",
     "output_type": "stream",
     "text": [
      "/opt/conda/lib/python3.8/site-packages/katana_enterprise/remote/result_set.py:69: UserWarning: Pandas doesn't allow columns to be created via a new attribute name - see https://pandas.pydata.org/pandas-docs/stable/indexing.html#attribute-access\n",
      "  self._response = response\n"
     ]
    }
   ],
   "source": [
    "\n",
    "#  Checking just nodes\n",
    "#\n",
    "\n",
    "l_query  = \"\"\"\n",
    "\n",
    "   MATCH (n)\n",
    "   WHERE NOT n.id STARTS WITH 'XX-'                   //  A value we use as a placeholder\n",
    "   RETURN n\n",
    "   LIMIT 100\n",
    "   \n",
    "   \"\"\".format()\n",
    "\n",
    "l_result = my_graph.query_unpaginated(l_query, contextualize=False)\n",
    "    \n",
    "print(l_result)\n",
    "\n"
   ]
  },
  {
   "cell_type": "code",
   "execution_count": null,
   "id": "63c91100-2973-4f3f-9f3e-a28b53a1da20",
   "metadata": {},
   "outputs": [],
   "source": [
    "\n",
    "#  Checking just edges\n",
    "#\n",
    "\n",
    "l_query  = \"\"\"\n",
    "\n",
    "   MATCH (n) - [r] -> (m)\n",
    "   RETURN r\n",
    "   LIMIT 100\n",
    "   \n",
    "   \"\"\".format()\n",
    "\n",
    "l_result = my_graph.query_unpaginated(l_query, contextualize=False)\n",
    "    \n",
    "print(l_result)\n"
   ]
  },
  {
   "cell_type": "code",
   "execution_count": null,
   "id": "d69cd6f3-c52c-434f-a74a-ee489796d2aa",
   "metadata": {},
   "outputs": [],
   "source": [
    "# #########################################################################"
   ]
  },
  {
   "cell_type": "code",
   "execution_count": null,
   "id": "591a58e9-9170-4ef7-b901-9921d8188645",
   "metadata": {},
   "outputs": [],
   "source": [
    "\n",
    "#  Metadata on our Nodes,\n",
    "#\n",
    "#  Sample output, smaller load,\n",
    "#\n",
    "#     +----+------------------+-------+\n",
    "#     |    | label            |   cnt |\n",
    "#     |----+------------------+-------|\n",
    "#     |  0 | Keyword          | 10443 |\n",
    "#     |  1 | MedicalSpecialty |    40 |\n",
    "#     |  2 | PatientVisit     |  4999 |\n",
    "#     |  3 | UmlsEntity       | 20073 |\n",
    "#     |  4 | UmlsVocabulary   | 40148 |\n",
    "#     +----+------------------+-------+\n",
    "\n",
    "#  Sample output, after the larger load,\n",
    "#\n",
    "#     +----+------------------+---------+\n",
    "#     |    | label            |     cnt |\n",
    "#     |----+------------------+---------|\n",
    "#     |  0 | Keyword          |   10443 |\n",
    "#     |  1 | MedicalSpecialty |      40 |\n",
    "#     |  2 | PatientVisit     |    4999 |\n",
    "#     |  3 | UmlsEntity       | 4661972 |\n",
    "#     |  4 | UmlsVocabulary   | 3365900 |\n",
    "#     +----+------------------+---------+\n"
   ]
  },
  {
   "cell_type": "code",
   "execution_count": 6,
   "id": "373235c5-a17d-4f42-9afc-8ff56e3f5843",
   "metadata": {},
   "outputs": [
    {
     "data": {
      "application/vnd.jupyter.widget-view+json": {
       "model_id": "d0f0931c035341a2bebf8051deee4664",
       "version_major": 2,
       "version_minor": 0
      },
      "text/plain": [
       "          0/? [?op/s]"
      ]
     },
     "metadata": {},
     "output_type": "display_data"
    },
    {
     "name": "stdout",
     "output_type": "stream",
     "text": [
      "    n.internal_id      n.labels     n.LABEL    n.entity_id           n.id                                   n.preferred_term n.type\n",
      "0            6304  [UmlsEntity]  UmlsEntity  UMLS/C0223098  UMLS/C0223098             Structure of body of cervical vertebra   node\n",
      "1            6305  [UmlsEntity]  UmlsEntity  UMLS/C0225219  UMLS/C0225219  Structure of prevertebral layer of cervical fa...   node\n",
      "2            6306  [UmlsEntity]  UmlsEntity  UMLS/C0229427  UMLS/C0229427                             Pneumatic mastoid cell   node\n",
      "3            6307  [UmlsEntity]  UmlsEntity  UMLS/C0501396  UMLS/C0501396                                Collateral ganglion   node\n",
      "4            6308  [UmlsEntity]  UmlsEntity  UMLS/C4476754  UMLS/C4476754    Decreased attenuation pattern on pulmonary HRCT   node\n",
      "5            6309  [UmlsEntity]  UmlsEntity  UMLS/C4520924  UMLS/C4520924                                 Bone Tissue, Human   node\n",
      "6            6310  [UmlsEntity]  UmlsEntity  UMLS/C0026608  UMLS/C0026608                                     Motor Endplate   node\n",
      "7            6311  [UmlsEntity]  UmlsEntity  UMLS/C0223633  UMLS/C0223633           Structure of clavicular facet of scapula   node\n",
      "8            6312  [UmlsEntity]  UmlsEntity  UMLS/C0446430  UMLS/C0446430                                          T12 level   node\n",
      "9            6313  [UmlsEntity]  UmlsEntity  UMLS/C0521164  UMLS/C0521164                                       Ring (shape)   node\n",
      "10           6314  [UmlsEntity]  UmlsEntity  UMLS/C1179696  UMLS/C1179696                 T12 Thoracic segmental innervation   node\n",
      "11           6315  [UmlsEntity]  UmlsEntity  UMLS/C2732728  UMLS/C2732728                              Short stature for age   node\n",
      "12           6316  [UmlsEntity]  UmlsEntity  UMLS/C4760573  UMLS/C4760573                                          Arthrosis   node\n",
      "13           6317  [UmlsEntity]  UmlsEntity  UMLS/C0013687  UMLS/C0013687                                           effusion   node\n",
      "14           6318  [UmlsEntity]  UmlsEntity  UMLS/C0020564  UMLS/C0020564                                        Hypertrophy   node\n",
      "15           6319  [UmlsEntity]  UmlsEntity  UMLS/C0206327  UMLS/C0206327                     Structure of ligamentum flavum   node\n",
      "16           6320  [UmlsEntity]  UmlsEntity  UMLS/C0410607  UMLS/C0410607                  Intervertebral disk calcification   node\n",
      "17           6321  [UmlsEntity]  UmlsEntity  UMLS/C3260303  UMLS/C3260303                                  Advanced adenomas   node\n",
      "18           6322  [UmlsEntity]  UmlsEntity  UMLS/C0179686  UMLS/C0179686                                    Orthopedic Cast   node\n",
      "19           6323  [UmlsEntity]  UmlsEntity  UMLS/C0491931  UMLS/C0491931                                    Orthopedic Fork   node\n"
     ]
    },
    {
     "name": "stderr",
     "output_type": "stream",
     "text": [
      "/opt/conda/lib/python3.8/site-packages/katana_enterprise/remote/result_set.py:69: UserWarning: Pandas doesn't allow columns to be created via a new attribute name - see https://pandas.pydata.org/pandas-docs/stable/indexing.html#attribute-access\n",
      "  self._response = response\n"
     ]
    }
   ],
   "source": [
    "\n",
    "#  Checking just nodes\n",
    "#\n",
    "\n",
    "l_query  = \"\"\"\n",
    "\n",
    "   MATCH (n: UmlsEntity)\n",
    "   RETURN n\n",
    "   LIMIT 20\n",
    "   \n",
    "   \"\"\".format()\n",
    "\n",
    "l_result = my_graph.query_unpaginated(l_query, contextualize=False)\n",
    "    \n",
    "print(l_result)\n",
    "\n"
   ]
  },
  {
   "cell_type": "code",
   "execution_count": null,
   "id": "82d23cf9-9aee-4086-8c8d-fac0ba8e274f",
   "metadata": {},
   "outputs": [],
   "source": []
  },
  {
   "cell_type": "code",
   "execution_count": null,
   "id": "a5efa4e2-ab6f-4fc4-b40d-3183a9075f02",
   "metadata": {},
   "outputs": [],
   "source": []
  },
  {
   "cell_type": "code",
   "execution_count": null,
   "id": "0dd0790f-eb7a-4480-bce9-5104551da5f2",
   "metadata": {},
   "outputs": [],
   "source": []
  },
  {
   "cell_type": "code",
   "execution_count": null,
   "id": "61b495f4-1bf7-4a1e-9c7f-501a278ff215",
   "metadata": {},
   "outputs": [],
   "source": []
  },
  {
   "cell_type": "code",
   "execution_count": null,
   "id": "75a32617-d518-4694-a09f-e7b3f3b54f3f",
   "metadata": {},
   "outputs": [],
   "source": []
  }
 ],
 "metadata": {
  "kernelspec": {
   "display_name": "Python 3 (ipykernel)",
   "language": "python",
   "name": "python3"
  },
  "language_info": {
   "codemirror_mode": {
    "name": "ipython",
    "version": 3
   },
   "file_extension": ".py",
   "mimetype": "text/x-python",
   "name": "python",
   "nbconvert_exporter": "python",
   "pygments_lexer": "ipython3",
   "version": "3.8.15"
  }
 },
 "nbformat": 4,
 "nbformat_minor": 5
}
