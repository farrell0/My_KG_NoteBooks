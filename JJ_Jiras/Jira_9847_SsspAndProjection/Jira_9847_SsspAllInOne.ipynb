{
 "cells": [
  {
   "cell_type": "markdown",
   "id": "d3ebe820-bc6d-4948-b668-8b81cd3cbf29",
   "metadata": {
    "tags": []
   },
   "source": [
    "#  Setup stuff: Connectivity"
   ]
  },
  {
   "cell_type": "code",
   "execution_count": null,
   "id": "87e5a845-5cbd-49d8-bf61-4a13cd80a1f5",
   "metadata": {},
   "outputs": [],
   "source": [
    "\n",
    "#  Setting display options\n",
    "\n",
    "from tabulate import tabulate\n",
    "import pandas as pd\n",
    "   #\n",
    "pd.set_option(\"display.width\", 480)\n",
    "\n",
    "print(\"--\")\n"
   ]
  },
  {
   "cell_type": "code",
   "execution_count": null,
   "id": "1ea957d6-30c6-427a-ae4e-15ecfba0c4f9",
   "metadata": {},
   "outputs": [],
   "source": [
    "\n",
    "from katana import remote\n",
    "from katana.remote import import_data\n",
    "\n",
    "\n",
    "my_client = remote.Client()\n",
    "\n",
    "print(my_client)\n"
   ]
  },
  {
   "cell_type": "code",
   "execution_count": null,
   "id": "97571016-7c02-4e90-a75a-136a0dacd35f",
   "metadata": {},
   "outputs": [],
   "source": [
    "\n",
    "NUM_PARTITIONS  = 3\n",
    "   #\n",
    "DB_NAME         = \"my_db\"\n",
    "GRAPH_NAME      = \"my_graph\"\n",
    "\n",
    "print(\"--\")\n"
   ]
  },
  {
   "cell_type": "code",
   "execution_count": null,
   "id": "8ed2d715-aaeb-4381-9216-46fa0dd421b6",
   "metadata": {},
   "outputs": [],
   "source": [
    "#  DELETE ALL GRAPHS\n",
    "\n",
    "for l_database in my_client.databases():\n",
    "   for l_graph in my_client.get_database(name=l_database.name).graphs_in_database():\n",
    "      l_handle=my_client.get_database(name=l_database.name).get_graph_by_id(id=l_graph.graph_id)\n",
    "      l_handle.delete()\n",
    "\n",
    "for l_graph in my_client.graphs():\n",
    "   print(\"GRAPH ID: \", l_graph.graph_id, \"      GRAPH Version: \", l_graph.version)\n",
    "\n",
    "print(\"--\")\n"
   ]
  },
  {
   "cell_type": "code",
   "execution_count": null,
   "id": "cf9c16ec-913f-46a8-bccc-76fc92c54866",
   "metadata": {},
   "outputs": [],
   "source": [
    "#  DELETE ALL DATABASES\n",
    "\n",
    "for l_database in my_client.databases():\n",
    "   if (l_database.name != \"default\"):\n",
    "      my_client.get_database(name=l_database.name).delete_database()\n",
    "      print(\"--\")\n",
    "\n",
    "for l_database in my_client.databases():\n",
    "   print(\"DB ID: \", l_database.database_id, \"     DB Name: \", l_database.name)\n"
   ]
  },
  {
   "cell_type": "code",
   "execution_count": null,
   "id": "6e72729c-265b-40e4-a3ee-674b793bed81",
   "metadata": {},
   "outputs": [],
   "source": [
    "#  CREATE DATABASE\n",
    "\n",
    "my_database = my_client.create_database(name=DB_NAME)\n",
    "\n",
    "print(my_database.database_id)\n"
   ]
  },
  {
   "cell_type": "code",
   "execution_count": null,
   "id": "2fc31da4-44c3-4bd3-b160-b315766dcd88",
   "metadata": {},
   "outputs": [],
   "source": [
    "#  CREATE GRAPH\n",
    "#\n",
    "my_graph = my_client.get_database(name=DB_NAME).create_graph(name=GRAPH_NAME, num_partitions=NUM_PARTITIONS)\n",
    "\n",
    "print(my_graph)\n"
   ]
  },
  {
   "cell_type": "markdown",
   "id": "61556ce5-9044-42bc-bb13-80b6a514ae27",
   "metadata": {
    "tags": []
   },
   "source": [
    "# Create: Vertices/nodes, edges .."
   ]
  },
  {
   "cell_type": "code",
   "execution_count": null,
   "id": "8e7ecf31-d69e-4b5a-8a37-0cfb4c32fd33",
   "metadata": {},
   "outputs": [],
   "source": [
    "\n",
    "#  Vertices/Nodes, Airports ..\n",
    "\n",
    "df_airports = pd.DataFrame([\n",
    "       #\n",
    "   [\"MKE\", \"Milwaukee\"               , \"Airport\"],\n",
    "   [\"ORD\", \"Chicago O-Hare\"          , \"Airport\"],\n",
    "   [\"SJC\", \"San Jose\"                , \"Airport\"],\n",
    "   [\"DEN\", \"Denver\"                  , \"Airport\"],\n",
    "       #\n",
    "   ], columns = [\"airport_code\", \"airport_name\", \"LABEL\"])\n",
    "\n",
    "print(tabulate(df_airports, headers='keys', tablefmt='psql'))\n"
   ]
  },
  {
   "cell_type": "code",
   "execution_count": null,
   "id": "60eaac88-4dd5-47d3-94b3-0f5fd0b243f2",
   "metadata": {},
   "outputs": [],
   "source": [
    "#  Create the edge, flights ..\n",
    "\n",
    "df_flights = pd.DataFrame([\n",
    "      #\n",
    "   [\"MKE\", \"ORD\",   66, 1, \"FLIES_TO\" ],\n",
    "   [\"ORD\", \"MKE\",   66, 1, \"FLIES_TO\" ],\n",
    "      #\n",
    "   [\"ORD\", \"DEN\",  886, 1, \"FLIES_TO\" ],\n",
    "   [\"DEN\", \"ORD\",  886, 1, \"FLIES_TO\" ],\n",
    "      #\n",
    "   [\"SJC\", \"DEN\",  948, 1, \"FLIES_TO\" ],                           #  Notice SJC flies to/from Denver\n",
    "   [\"DEN\", \"SJC\",  948, 1, \"FLIES_TO\" ],\n",
    "      #\n",
    "   [\"SJC\", \"ORD\", 1829, 1, \"FLIES_TO\" ],                           #  Notice SJC flies to ORD, but not ORD to SJC\n",
    "      #\n",
    "   ], columns = [\"START_ID\", \"END_ID\", \"DISTANCE\", \"NUM_HOPS\", \"TYPE\"])\n",
    "\n",
    "print(tabulate(df_flights, headers='keys', tablefmt='psql'))\n"
   ]
  },
  {
   "cell_type": "code",
   "execution_count": null,
   "id": "49e8f39e-4b4f-4377-a8ac-52a1ad07094f",
   "metadata": {},
   "outputs": [],
   "source": [
    "\n",
    "# Import the 2 previously created Python DataFrames into KatanaGraph ..\n",
    "\n",
    "with import_data.DataFrameImporter(my_graph) as df_importer:   \n",
    "    \n",
    "   df_importer.nodes_dataframe(df_airports,                    #  Aiports set of Nodes\n",
    "      id_column             = \"airport_code\",\n",
    "      id_space              = \"Airport\",  \n",
    "      label                 = \"Airport\",  \n",
    "      )\n",
    "   \n",
    "   df_importer.edges_dataframe(df_flights,                     #  Our Edge, specifying the relationship between Airport --> FLIES_TO --> Airport\n",
    "      source_id_space       = \"Airport\", \n",
    "      destination_id_space  = \"Airport\",   \n",
    "      source_column         = \"START_ID\",\n",
    "      destination_column    = \"END_ID\",\n",
    "      type                  = \"FLIES_TO\"\n",
    "      )\n",
    "   \n",
    "   df_importer.insert()\n",
    "\n",
    "print(\"--\")\n"
   ]
  },
  {
   "cell_type": "code",
   "execution_count": 50,
   "id": "c424b1f7-ec76-468c-8855-dc5acd0235bf",
   "metadata": {},
   "outputs": [
    {
     "data": {
      "application/vnd.jupyter.widget-view+json": {
       "model_id": "0dc4ae4b39e24a3881aa4cc5a730bcd1",
       "version_major": 2,
       "version_minor": 0
      },
      "text/plain": [
       "          0/? [?op/s]"
      ]
     },
     "metadata": {},
     "output_type": "display_data"
    },
    {
     "data": {
      "application/vnd.jupyter.widget-view+json": {
       "model_id": "79dd384f90834a46ab9cdd1f3dd5bd2d",
       "version_major": 2,
       "version_minor": 0
      },
      "text/plain": [
       "          0/? [?op/s]"
      ]
     },
     "metadata": {},
     "output_type": "display_data"
    }
   ],
   "source": [
    "\n",
    "#  Here we'll add stuff to the graph without a weight property key that analytics.sssp() will not find ..\n",
    "\n",
    "\n",
    "l_query = \"\"\"\n",
    "   CREATE ( n: Restaurant { restaurant_code: 'PAP' } )               //  Notice single curly braces\n",
    "   SET n.restaurant_name = 'Pappadeauxs Seafood Kitchen' \n",
    "   \"\"\"\n",
    "      #\n",
    "display(l_result1 = my_graph.query(l_query))\n",
    "\n",
    "l_query = \"\"\"\n",
    "   MATCH\n",
    "      (n: Airport   ),\n",
    "      (m: Restaurant)\n",
    "   WHERE n.airport_code     = 'SJC'\n",
    "   AND   m.restaurant_code  = 'PAP'\n",
    "   CREATE (n) -[r: Attraction { DRIVABLE: 'Yes' }]-> (m)\n",
    "   \"\"\"\n",
    "      #\n",
    "display(l_result2 = my_graph.query(l_query))\n"
   ]
  },
  {
   "cell_type": "code",
   "execution_count": 54,
   "id": "7acd3ad0-2c5b-4429-b3bb-727132f37fc8",
   "metadata": {},
   "outputs": [
    {
     "data": {
      "application/vnd.jupyter.widget-view+json": {
       "model_id": "62356c4b63dc453e8b44c216443c52d9",
       "version_major": 2,
       "version_minor": 0
      },
      "text/plain": [
       "          0/? [?op/s]"
      ]
     },
     "metadata": {},
     "output_type": "display_data"
    },
    {
     "name": "stdout",
     "output_type": "stream",
     "text": [
      "+----+-----------------+----------------+-----------+------------------+------------------+--------------------+----------+---------------------+-----------------------------+\n",
      "|    |   n.internal_id | n.labels       | n.LABEL   | n.airport_code   | n.airport_name   |   n.sssp_dist_0021 | n.type   | n.restaurant_code   | n.restaurant_name           |\n",
      "|----+-----------------+----------------+-----------+------------------+------------------+--------------------+----------+---------------------+-----------------------------|\n",
      "|  0 |               0 | ['Airport']    | Airport   | ORD              | Chicago O-Hare   |                 66 | node     | nan                 | nan                         |\n",
      "|  1 |               1 | ['Restaurant'] | nan       | nan              | nan              |                nan | node     | PAP                 | Pappadeauxs Seafood Kitchen |\n",
      "|  2 | 281474976710656 | ['Airport']    | Airport   | MKE              | Milwaukee        |                  0 | node     | nan                 | nan                         |\n",
      "|  3 | 281474976710657 | ['Airport']    | Airport   | DEN              | Denver           |                952 | node     | nan                 | nan                         |\n",
      "|  4 | 562949953421312 | ['Airport']    | Airport   | SJC              | San Jose         |               1900 | node     | nan                 | nan                         |\n",
      "+----+-----------------+----------------+-----------+------------------+------------------+--------------------+----------+---------------------+-----------------------------+\n"
     ]
    },
    {
     "data": {
      "application/vnd.jupyter.widget-view+json": {
       "model_id": "0853123cca3e42049e48d757103b2ff4",
       "version_major": 2,
       "version_minor": 0
      },
      "text/plain": [
       "          0/? [?op/s]"
      ]
     },
     "metadata": {},
     "output_type": "display_data"
    },
    {
     "name": "stdout",
     "output_type": "stream",
     "text": [
      "+----+-----------------+----------------+-----------------+------------+--------------+--------------+----------+-----------------+------------------+----------+--------------+\n",
      "|    |        r.end.id | r.end.labels   |   r.internal_id | r.label    |   r.DISTANCE |   r.NUM_HOPS | r.TYPE   |      r.start.id | r.start.labels   | r.type   | r.DRIVABLE   |\n",
      "|----+-----------------+----------------+-----------------+------------+--------------+--------------+----------+-----------------+------------------+----------+--------------|\n",
      "|  0 | 281474976710657 | ['Airport']    |               0 | FLIES_TO   |          886 |            1 | FLIES_TO |               0 | ['Airport']      | edge     | nan          |\n",
      "|  1 | 281474976710656 | ['Airport']    |               1 | FLIES_TO   |           66 |            1 | FLIES_TO |               0 | ['Airport']      | edge     | nan          |\n",
      "|  2 |               0 | ['Airport']    | 281474976710657 | FLIES_TO   |           66 |            1 | FLIES_TO | 281474976710656 | ['Airport']      | edge     | nan          |\n",
      "|  3 | 562949953421312 | ['Airport']    | 281474976710656 | FLIES_TO   |          948 |            1 | FLIES_TO | 281474976710657 | ['Airport']      | edge     | nan          |\n",
      "|  4 |               0 | ['Airport']    | 281474976710658 | FLIES_TO   |          886 |            1 | FLIES_TO | 281474976710657 | ['Airport']      | edge     | nan          |\n",
      "|  5 | 281474976710657 | ['Airport']    | 562949953421312 | FLIES_TO   |          948 |            1 | FLIES_TO | 562949953421312 | ['Airport']      | edge     | nan          |\n",
      "|  6 |               0 | ['Airport']    | 562949953421313 | FLIES_TO   |         1829 |            1 | FLIES_TO | 562949953421312 | ['Airport']      | edge     | nan          |\n",
      "|  7 |               1 | ['Restaurant'] | 562949953421314 | Attraction |          nan |          nan | nan      | 562949953421312 | ['Airport']      | edge     | Yes          |\n",
      "+----+-----------------+----------------+-----------------+------------+--------------+--------------+----------+-----------------+------------------+----------+--------------+\n"
     ]
    }
   ],
   "source": [
    "\n",
    "#  Check the output from routine above ..\n",
    "\n",
    "l_result1 = my_graph.query(\n",
    "   \"\"\"\n",
    "   MATCH (n) \n",
    "   // WHERE n.airport_code = 'MKE'\n",
    "   RETURN n\n",
    "   \"\"\" )\n",
    "print(tabulate(l_result1, headers='keys', tablefmt='psql'))\n",
    "\n",
    "\n",
    "l_result2 = my_graph.query(\n",
    "   \"\"\"\n",
    "   MATCH (n) - [r] -> (m)\n",
    "   RETURN r\n",
    "   \"\"\" )\n",
    "print(tabulate(l_result2, headers='keys', tablefmt='psql'))\n",
    "\n",
    "\n",
    "#     +----+-----------------+-------------+-----------+------------------+------------------+----------+\n",
    "#     |    |   n.internal_id | n.labels    | n.LABEL   | n.airport_code   | n.airport_name   | n.type   |\n",
    "#     |----+-----------------+-------------+-----------+------------------+------------------+----------|\n",
    "#     |  0 |               0 | ['Airport'] | Airport   | ORD              | Chicago O-Hare   | node     |\n",
    "#     |  1 | 281474976710656 | ['Airport'] | Airport   | MKE              | Milwaukee        | node     |\n",
    "#     |  2 | 281474976710657 | ['Airport'] | Airport   | DEN              | Denver           | node     |\n",
    "#     |  3 | 562949953421312 | ['Airport'] | Airport   | SJC              | San Jose         | node     |\n",
    "#     +----+-----------------+-------------+-----------+------------------+------------------+----------+\n",
    "#     \n",
    "#     +----+-----------------+----------------+-----------------+-----------+--------------+--------------+----------+-----------------+------------------+----------+\n",
    "#     |    |        r.end.id | r.end.labels   |   r.internal_id | r.label   |   r.DISTANCE |   r.NUM_HOPS | r.TYPE   |      r.start.id | r.start.labels   | r.type   |\n",
    "#     |----+-----------------+----------------+-----------------+-----------+--------------+--------------+----------+-----------------+------------------+----------|\n",
    "#     |  0 | 281474976710657 | ['Airport']    |               0 | FLIES_TO  |          886 |            1 | FLIES_TO |               0 | ['Airport']      | edge     |\n",
    "#     |  1 | 281474976710656 | ['Airport']    |               1 | FLIES_TO  |           66 |            1 | FLIES_TO |               0 | ['Airport']      | edge     |\n",
    "#     |  2 |               0 | ['Airport']    | 281474976710657 | FLIES_TO  |           66 |            1 | FLIES_TO | 281474976710656 | ['Airport']      | edge     |\n",
    "#     |  3 | 562949953421312 | ['Airport']    | 281474976710656 | FLIES_TO  |          948 |            1 | FLIES_TO | 281474976710657 | ['Airport']      | edge     |\n",
    "#     |  4 |               0 | ['Airport']    | 281474976710658 | FLIES_TO  |          886 |            1 | FLIES_TO | 281474976710657 | ['Airport']      | edge     |\n",
    "#     |  5 | 281474976710657 | ['Airport']    | 562949953421312 | FLIES_TO  |          948 |            1 | FLIES_TO | 562949953421312 | ['Airport']      | edge     |\n",
    "#     |  6 |               0 | ['Airport']    | 562949953421313 | FLIES_TO  |         1829 |            1 | FLIES_TO | 562949953421312 | ['Airport']      | edge     |\n",
    "#     +----+-----------------+----------------+-----------------+-----------+--------------+--------------+----------+-----------------+------------------+----------+\n"
   ]
  },
  {
   "cell_type": "markdown",
   "id": "3689c634-92dd-44e5-b295-a1c884ff9a7a",
   "metadata": {},
   "source": [
    "#  Actual analytics .."
   ]
  },
  {
   "cell_type": "code",
   "execution_count": 47,
   "id": "ccee70dc-4cb9-46d4-baee-0635cd189d2c",
   "metadata": {},
   "outputs": [
    {
     "name": "stdout",
     "output_type": "stream",
     "text": [
      "--\n"
     ]
    }
   ],
   "source": [
    "\n",
    "from katana import remote\n",
    "from katana.remote import analytics\n",
    "\n",
    "\n",
    "l_cntr = 20\n",
    "\n",
    "print(\"--\")\n"
   ]
  },
  {
   "cell_type": "code",
   "execution_count": 45,
   "id": "5bd96a83-41e4-498c-82f0-3c29603b85d2",
   "metadata": {},
   "outputs": [
    {
     "data": {
      "application/vnd.jupyter.widget-view+json": {
       "model_id": "532d27822c094763b9b713f404110b5c",
       "version_major": 2,
       "version_minor": 0
      },
      "text/plain": [
       "          0/? [?op/s]"
      ]
     },
     "metadata": {},
     "output_type": "display_data"
    },
    {
     "name": "stdout",
     "output_type": "stream",
     "text": [
      "281474976710656\n",
      "281474976710656\n"
     ]
    }
   ],
   "source": [
    "\n",
    "l_result1 = my_graph.query(\n",
    "   \"\"\"\n",
    "   MATCH (n: Airport) \n",
    "   WHERE n.airport_code = 'MKE'\n",
    "   RETURN n\n",
    "   \"\"\" )\n",
    "\n",
    "for l_each in l_result1.itertuples():\n",
    "   print(l_each[1])\n",
    "\n",
    "l_key = l_each[1]\n",
    "   #\n",
    "print(l_key)\n"
   ]
  },
  {
   "cell_type": "code",
   "execution_count": 55,
   "id": "1554b5d7-45b9-471e-a388-73da67d77b46",
   "metadata": {},
   "outputs": [
    {
     "data": {
      "application/vnd.jupyter.widget-view+json": {
       "model_id": "6ea3cea330eb4ddfac691683057016e1",
       "version_major": 2,
       "version_minor": 0
      },
      "text/plain": [
       "          0/? [?op/s]"
      ]
     },
     "metadata": {},
     "output_type": "display_data"
    },
    {
     "name": "stdout",
     "output_type": "stream",
     "text": [
      "--\n"
     ]
    }
   ],
   "source": [
    "\n",
    "#  Running analytics.sssp() should be run against a projection, a sub-graph ..\n",
    "\n",
    "my_graph2 = my_graph.project(edge_types=[\"FLIES_TO\"])\n",
    "\n",
    "\n",
    "l_source_nodeid       = str(l_key)\n",
    "l_weight_property     = \"DISTANCE\" \n",
    "l_max_iterations      = 10000 \n",
    "\n",
    "\n",
    "#  Generate a unique prop name so we can run this over and over without edit ..\n",
    "#\n",
    "l_cntr += 1\n",
    "   #\n",
    "l_output_propname     = \"sssp_dist_\" + str(l_cntr).zfill(4)\n",
    "\n",
    "analytics.sssp(\n",
    "   my_graph2,\n",
    "   source               = l_source_nodeid,\n",
    "   weight_property      = l_weight_property,\n",
    "   max_iterations       = l_max_iterations,\n",
    "   result_property_name = l_output_propname,\n",
    "   )\n",
    "\n",
    "print(\"--\")\n"
   ]
  },
  {
   "cell_type": "code",
   "execution_count": 56,
   "id": "0e2134de-0aee-490c-82c9-652b384a2f17",
   "metadata": {},
   "outputs": [
    {
     "data": {
      "application/vnd.jupyter.widget-view+json": {
       "model_id": "a53e7e14fd7e4df1ae1760db6d730e45",
       "version_major": 2,
       "version_minor": 0
      },
      "text/plain": [
       "          0/? [?op/s]"
      ]
     },
     "metadata": {},
     "output_type": "display_data"
    },
    {
     "name": "stdout",
     "output_type": "stream",
     "text": [
      "+----+-----------------+----------------+-----------+------------------+------------------+--------------------+--------------------+----------+---------------------+-----------------------------+\n",
      "|    |   n.internal_id | n.labels       | n.LABEL   | n.airport_code   | n.airport_name   |   n.sssp_dist_0021 |   n.sssp_dist_0022 | n.type   | n.restaurant_code   | n.restaurant_name           |\n",
      "|----+-----------------+----------------+-----------+------------------+------------------+--------------------+--------------------+----------+---------------------+-----------------------------|\n",
      "|  0 |               0 | ['Airport']    | Airport   | ORD              | Chicago O-Hare   |                 66 |                 66 | node     | nan                 | nan                         |\n",
      "|  1 |               1 | ['Restaurant'] | nan       | nan              | nan              |                nan |                nan | node     | PAP                 | Pappadeauxs Seafood Kitchen |\n",
      "|  2 | 281474976710656 | ['Airport']    | Airport   | MKE              | Milwaukee        |                  0 |                  0 | node     | nan                 | nan                         |\n",
      "|  3 | 281474976710657 | ['Airport']    | Airport   | DEN              | Denver           |                952 |                952 | node     | nan                 | nan                         |\n",
      "|  4 | 562949953421312 | ['Airport']    | Airport   | SJC              | San Jose         |               1900 |               1900 | node     | nan                 | nan                         |\n",
      "+----+-----------------+----------------+-----------+------------------+------------------+--------------------+--------------------+----------+---------------------+-----------------------------+\n"
     ]
    },
    {
     "data": {
      "application/vnd.jupyter.widget-view+json": {
       "model_id": "d2db9464d82347c2b2088aa800be3579",
       "version_major": 2,
       "version_minor": 0
      },
      "text/plain": [
       "          0/? [?op/s]"
      ]
     },
     "metadata": {},
     "output_type": "display_data"
    },
    {
     "name": "stdout",
     "output_type": "stream",
     "text": [
      "+----+-----------------+----------------+-----------------+------------+--------------+--------------+----------+-----------------+------------------+----------+--------------+\n",
      "|    |        r.end.id | r.end.labels   |   r.internal_id | r.label    |   r.DISTANCE |   r.NUM_HOPS | r.TYPE   |      r.start.id | r.start.labels   | r.type   | r.DRIVABLE   |\n",
      "|----+-----------------+----------------+-----------------+------------+--------------+--------------+----------+-----------------+------------------+----------+--------------|\n",
      "|  0 | 281474976710657 | ['Airport']    |               0 | FLIES_TO   |          886 |            1 | FLIES_TO |               0 | ['Airport']      | edge     | nan          |\n",
      "|  1 | 281474976710656 | ['Airport']    |               1 | FLIES_TO   |           66 |            1 | FLIES_TO |               0 | ['Airport']      | edge     | nan          |\n",
      "|  2 |               0 | ['Airport']    | 281474976710657 | FLIES_TO   |           66 |            1 | FLIES_TO | 281474976710656 | ['Airport']      | edge     | nan          |\n",
      "|  3 | 562949953421312 | ['Airport']    | 281474976710656 | FLIES_TO   |          948 |            1 | FLIES_TO | 281474976710657 | ['Airport']      | edge     | nan          |\n",
      "|  4 |               0 | ['Airport']    | 281474976710658 | FLIES_TO   |          886 |            1 | FLIES_TO | 281474976710657 | ['Airport']      | edge     | nan          |\n",
      "|  5 | 281474976710657 | ['Airport']    | 562949953421312 | FLIES_TO   |          948 |            1 | FLIES_TO | 562949953421312 | ['Airport']      | edge     | nan          |\n",
      "|  6 |               0 | ['Airport']    | 562949953421313 | FLIES_TO   |         1829 |            1 | FLIES_TO | 562949953421312 | ['Airport']      | edge     | nan          |\n",
      "|  7 |               1 | ['Restaurant'] | 562949953421314 | Attraction |          nan |          nan | nan      | 562949953421312 | ['Airport']      | edge     | Yes          |\n",
      "+----+-----------------+----------------+-----------------+------------+--------------+--------------+----------+-----------------+------------------+----------+--------------+\n"
     ]
    }
   ],
   "source": [
    "\n",
    "l_result1 = my_graph.query(\n",
    "   \"\"\"\n",
    "   MATCH (n) \n",
    "   RETURN n\n",
    "   \"\"\" )\n",
    "print(tabulate(l_result1, headers='keys', tablefmt='psql'))\n",
    "\n",
    "l_result2 = my_graph.query(\n",
    "   \"\"\"\n",
    "   MATCH (n) - [r] -> (m)\n",
    "   RETURN r\n",
    "   \"\"\" )\n",
    "print(tabulate(l_result2, headers='keys', tablefmt='psql'))\n",
    "\n",
    "\n",
    "#  Sample output,\n",
    "#\n",
    "#     +----+-----------------+-------------+-----------+------------------+------------------+--------------------+--------------------+----------+\n",
    "#     |    |   n.internal_id | n.labels    | n.LABEL   | n.airport_code   | n.airport_name   |   n.sssp_dist_0021 |   n.sssp_dist_0022 | n.type   |\n",
    "#     |----+-----------------+-------------+-----------+------------------+------------------+--------------------+--------------------+----------|\n",
    "#     |  0 |               0 | ['Airport'] | Airport   | SJC              | San Jose         |                  3 |               1900 | node     |\n",
    "#     |  1 |               1 | ['Airport'] | Airport   | DEN              | Denver           |                  2 |                952 | node     |\n",
    "#     |  2 | 281474976710656 | ['Airport'] | Airport   | ORD              | Chicago O-Hare   |                  1 |                 66 | node     |\n",
    "#     |  3 | 562949953421312 | ['Airport'] | Airport   | MKE              | Milwaukee        |                  0 |                  0 | node     |\n",
    "#     +----+-----------------+-------------+-----------+------------------+------------------+--------------------+--------------------+----------+\n",
    "#     \n",
    "#     +----+-----------------+----------------+-----------------+-----------+--------------+--------------+----------+-----------------+------------------+----------+\n",
    "#     |    |        r.end.id | r.end.labels   |   r.internal_id | r.label   |   r.DISTANCE |   r.NUM_HOPS | r.TYPE   |      r.start.id | r.start.labels   | r.type   |\n",
    "#     |----+-----------------+----------------+-----------------+-----------+--------------+--------------+----------+-----------------+------------------+----------|\n",
    "#     |  0 |               0 | ['Airport']    |               0 | FLIES_TO  |          948 |            1 | FLIES_TO |               1 | ['Airport']      | edge     |\n",
    "#     |  1 | 281474976710656 | ['Airport']    |               3 | FLIES_TO  |          886 |            1 | FLIES_TO |               1 | ['Airport']      | edge     |\n",
    "#     |  2 |               1 | ['Airport']    |               1 | FLIES_TO  |          948 |            1 | FLIES_TO |               0 | ['Airport']      | edge     |\n",
    "#     |  3 | 281474976710656 | ['Airport']    |               2 | FLIES_TO  |         1829 |            1 | FLIES_TO |               0 | ['Airport']      | edge     |\n",
    "#     |  4 |               1 | ['Airport']    | 281474976710656 | FLIES_TO  |          886 |            1 | FLIES_TO | 281474976710656 | ['Airport']      | edge     |\n",
    "#     |  5 | 562949953421312 | ['Airport']    | 281474976710657 | FLIES_TO  |           66 |            1 | FLIES_TO | 281474976710656 | ['Airport']      | edge     |\n",
    "#     |  6 | 281474976710656 | ['Airport']    | 562949953421312 | FLIES_TO  |           66 |            1 | FLIES_TO | 562949953421312 | ['Airport']      | edge     |\n",
    "#     +----+-----------------+----------------+-----------------+-----------+--------------+--------------+----------+-----------------+------------------+----------+\n"
   ]
  }
 ],
 "metadata": {
  "kernelspec": {
   "display_name": "Python 3 (ipykernel)",
   "language": "python",
   "name": "python3"
  },
  "language_info": {
   "codemirror_mode": {
    "name": "ipython",
    "version": 3
   },
   "file_extension": ".py",
   "mimetype": "text/x-python",
   "name": "python",
   "nbconvert_exporter": "python",
   "pygments_lexer": "ipython3",
   "version": "3.8.13"
  }
 },
 "nbformat": 4,
 "nbformat_minor": 5
}
