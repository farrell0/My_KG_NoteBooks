{
 "cells": [
  {
   "cell_type": "markdown",
   "id": "6afa53e5-08b8-4c5a-b3dd-c8740db4f36d",
   "metadata": {},
   "source": [
    "\n",
    "<div> \n",
    "<img src=\"./01_Images/88_KG-Logo-1.png\" alt=\"Drawing\" style=\"width: 800px;\"/>\n",
    "</div>\n"
   ]
  },
  {
   "cell_type": "markdown",
   "id": "8598610d-366a-40bd-8b40-a4caab3d03af",
   "metadata": {},
   "source": [
    "\n",
    "<div style=\"max-width:400px;margin-left: auto; margin-right: 0;\">\n",
    "    ![KG Logo](image.jpg)\n",
    "</div>\n"
   ]
  },
  {
   "cell_type": "code",
   "execution_count": 2,
   "id": "074363a8-17ee-4493-8f6d-86fb14364926",
   "metadata": {
    "tags": []
   },
   "outputs": [
    {
     "name": "stdout",
     "output_type": "stream",
     "text": [
      "<katana_enterprise.remote.sync_wrappers.Client object at 0x7f076495e700>\n"
     ]
    }
   ],
   "source": [
    "# import os\n",
    "\n",
    "from katana import remote\n",
    "\n",
    "#  Don't need these when using CoD ..\n",
    "#\n",
    "# os.environ[\"KATANA_SERVER_ADDRESS\"] = \"host.docker.internal:8080\"\n",
    "# os.environ[\"KATANA_SERVER_ADDRESS\"] = \"localhost:8080\"\n",
    "\n",
    "# my_client = remote.Client(disable_version_check=True)\n",
    "my_client = remote.Client()\n",
    "\n",
    "\n",
    "print(my_client)\n"
   ]
  },
  {
   "cell_type": "code",
   "execution_count": null,
   "id": "9095bd7d-0778-4cbf-896f-dd84ee40d60c",
   "metadata": {},
   "outputs": [],
   "source": [
    "#  This was a test when first using CoD ..\n",
    "#\n",
    "# import os\n",
    "# \n",
    "# print(os.environ.get(\"KATANA_SERVER_ADDRESS\"))\n"
   ]
  },
  {
   "cell_type": "code",
   "execution_count": null,
   "id": "be4dce71-42d2-49ad-9bfd-17dcbb08d4bb",
   "metadata": {
    "tags": []
   },
   "outputs": [],
   "source": [
    "# print(await my_client.server_version)\n",
    "\n",
    "print(my_client.server_version)\n"
   ]
  },
  {
   "cell_type": "code",
   "execution_count": 5,
   "id": "1d5e759f-bd53-4817-97f9-edbdaef9f191",
   "metadata": {},
   "outputs": [
    {
     "data": {
      "text/html": [
       "\n",
       "                    <iframe\n",
       "                        id=\"operations_widget\"\n",
       "                        src=\"about:blank\"\n",
       "                        title=\"Operations Widget\"\n",
       "                        height=\"400px\"\n",
       "                        width=\"100%\"\n",
       "                        frameborder=\"0\"\n",
       "                        allow=\"clipboard-write\"\n",
       "                        allowfullscreen\n",
       "                    >\n",
       "                    </iframe>\n",
       "                    <script type=\"text/javascript\">\n",
       "                        (function () {\n",
       "                            const operations_url = `${\n",
       "                                \"http://resolved-liger-controller:8080/v2\".includes(\"controller\") ?\n",
       "                                window.location.origin + \"/v2\" : \"http://resolved-liger-controller:8080/v2\"\n",
       "                            }/widgets/operations-widget`\n",
       "                            setTimeout(() => {\n",
       "                                document.getElementById(\"operations_widget\").setAttribute('src', operations_url)\n",
       "                            }, 10)\n",
       "                        })()\n",
       "                    </script>\n",
       "                "
      ],
      "text/plain": [
       "<IPython.core.display.HTML object>"
      ]
     },
     "metadata": {},
     "output_type": "display_data"
    }
   ],
   "source": [
    "my_client.widgets().operations()\n"
   ]
  },
  {
   "cell_type": "code",
   "execution_count": null,
   "id": "be0b2521-f620-472a-9d03-109a961fd81d",
   "metadata": {},
   "outputs": [],
   "source": [
    "\n",
    "#  Not working\n",
    "#\n",
    "# print(trace.get_log(remote.Client()))\n",
    "\n"
   ]
  },
  {
   "cell_type": "markdown",
   "id": "dfbec3ef-c35a-4459-a883-466e0110cd91",
   "metadata": {},
   "source": [
    "\n",
    "    "
   ]
  }
 ],
 "metadata": {
  "kernelspec": {
   "display_name": "Python 3 (ipykernel)",
   "language": "python",
   "name": "python3"
  },
  "language_info": {
   "codemirror_mode": {
    "name": "ipython",
    "version": 3
   },
   "file_extension": ".py",
   "mimetype": "text/x-python",
   "name": "python",
   "nbconvert_exporter": "python",
   "pygments_lexer": "ipython3",
   "version": "3.8.13"
  }
 },
 "nbformat": 4,
 "nbformat_minor": 5
}
