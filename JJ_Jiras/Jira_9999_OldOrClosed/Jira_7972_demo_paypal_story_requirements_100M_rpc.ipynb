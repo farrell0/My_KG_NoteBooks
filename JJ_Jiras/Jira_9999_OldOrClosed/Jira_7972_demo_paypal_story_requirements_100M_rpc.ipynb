{
 "cells": [
  {
   "cell_type": "markdown",
   "id": "40625b68-4a15-40e3-a075-bccd8fc9cd9b",
   "metadata": {},
   "source": [
    "# PayPal Requirements"
   ]
  },
  {
   "cell_type": "markdown",
   "id": "ae39d932-d1e7-490e-b9e8-eb57e85225c8",
   "metadata": {},
   "source": [
    "##### Describes requirments from PayPal story that can be found here: [PayPal Story](https://docs.google.com/document/d/1oVM5ewbC3UVdr21dlR3kjD5pRChdSm7y/edit)"
   ]
  },
  {
   "cell_type": "markdown",
   "id": "d7fd39b5-0931-408c-9af5-876797a9a813",
   "metadata": {},
   "source": [
    "---"
   ]
  },
  {
   "cell_type": "markdown",
   "id": "ae2338e3-10ad-45c4-9e71-be3894e85318",
   "metadata": {},
   "source": [
    "## Connect to the cluster"
   ]
  },
  {
   "cell_type": "markdown",
   "id": "62c8ddb0-afe4-40d1-80ff-064366e846dd",
   "metadata": {},
   "source": [
    "Run this command in separate terminal to forward port from Katana controller node"
   ]
  },
  {
   "cell_type": "markdown",
   "id": "d0b66eef-326c-4a07-98d9-1754f6628cd9",
   "metadata": {},
   "source": [
    "```gcloud compute ssh --zone us-east1-b --project CLUSTER_NAME katana-controller -- -NL 8080:127.0.0.1:8080 -vvv ```"
   ]
  },
  {
   "cell_type": "markdown",
   "id": "4a0a914a-6894-47f7-be00-7f519f0c488d",
   "metadata": {},
   "source": [
    "Connect local Docker container to Katana Controller"
   ]
  },
  {
   "cell_type": "code",
   "execution_count": null,
   "id": "46f143ed-bc3d-4c28-ab0b-f3a3f21a59d8",
   "metadata": {},
   "outputs": [],
   "source": [
    "import os\n",
    "from timeit import default_timer as timer\n",
    "\n",
    "import pandas as pd\n",
    "from katana import remote\n",
    "from katana.remote import analytics, import_data\n",
    "\n",
    "# os.environ[\"KATANA_SERVER_ADDRESS\"] = \"host.docker.internal:8080\"\n",
    "\n",
    "NUM_PARTITIONS = 20\n",
    "\n",
    "print(\"--\")\n"
   ]
  },
  {
   "cell_type": "markdown",
   "id": "c2b8a641-dbfb-4d53-9ad8-874e53aa90d8",
   "metadata": {},
   "source": [
    "## Initial Load - Social Graph (100mm nodes, 19bn edges) (demo'd this on Jun 16 to PayPal)"
   ]
  },
  {
   "cell_type": "markdown",
   "id": "4e97625d-09db-4b57-9944-8664623e13c9",
   "metadata": {},
   "source": [
    "Specify input and output locations on cloud storage"
   ]
  },
  {
   "cell_type": "code",
   "execution_count": null,
   "id": "fe064d03",
   "metadata": {},
   "outputs": [],
   "source": [
    "graph = remote.Client().create_graph(num_partitions=NUM_PARTITIONS)\n",
    "\n",
    "print(\"--\")\n"
   ]
  },
  {
   "cell_type": "code",
   "execution_count": null,
   "id": "f23765d4-1eb4-49cd-a482-00b996e72802",
   "metadata": {},
   "outputs": [],
   "source": [
    "\n",
    "start = timer()\n",
    "\n",
    "print(\"Importing graph from CSV files...\")\n",
    "\n",
    "import_data.csv(\n",
    "    graph,\n",
    "       #\n",
    "    input_node_path  = \"gs://katana-demo-datasets/csv-datasets/social/mapping_files/node_list_blacklist0.01.txt\",\n",
    "    input_edge_path  = \"gs://katana-demo-datasets/csv-datasets/social/mapping_files/edge_list_full.txt\",\n",
    "    input_dir        = \"gs://katana-demo-datasets/csv-datasets/social/csv/100_Million\",\n",
    "       #\n",
    "    data_delimiter   = \"|\",\n",
    "    schema_delimiter = \"|\",\n",
    "    ids_are_integers = True,\n",
    ")\n",
    "end = timer()\n",
    "print(f\"  import: {end - start:.1f} seconds\")\n",
    "\n",
    "start = timer()\n",
    "assert graph.num_nodes() == 100_000_000\n",
    "print(f\"  num nodes: {graph.num_nodes()}\")\n",
    "end = timer()\n",
    "print(f\"  count nodes: {end - start:.1f} seconds\")\n",
    "\n",
    "start = timer()\n",
    "assert graph.num_edges() == 19_438_215_362\n",
    "print(f\"  num nodes: {graph.num_edges()}\")\n",
    "end = timer()\n",
    "print(f\"  count edges: {end - start:.1f} seconds\")\n",
    "\n",
    "#  Farrell,\n",
    "#\n",
    "#     .  Import takes 41 mins\n",
    "#     .  Count nodes takes  81 seconds\n",
    "#     .  Count edges takes 157 seconds\n"
   ]
  },
  {
   "cell_type": "code",
   "execution_count": null,
   "id": "a5fe277b",
   "metadata": {},
   "outputs": [],
   "source": [
    "start = timer()\n",
    "\n",
    "query1 = \"\"\"\n",
    "\n",
    "   match (acct1)-[:FriendConB]->(acct2)-[:FriendConB]->(acct3)\n",
    "   where (acct3.userIsBlacklisted=\"Y\" or acct3.userIsSuspended=\"Y\")\n",
    "   and not (acct1)-->(acct3)\n",
    "   return acct1.id, count(acct3) ;\n",
    "\n",
    "\"\"\"\n",
    "\n",
    "query1_result = graph.query_paginated(query1)\n",
    "end = timer()\n",
    "print(query1_result.head())\n",
    "print(f\"  query1: {end - start:.1f} seconds\")\n",
    "\n",
    "#  Farrell,\n",
    "#\n",
    "#     .  After many minutes (20-40 ?), got this error,\n",
    "#           OperationError: EY8Rb8NZ68Z2yJhi1sFXb5opkZSmrHY7GooZ4MwmGGHc-2FtAJzHrFXgmJ2Rro \n",
    "#\n",
    "#        Run Id,   2817714824\n",
    "#        node_count : 20\n",
    "#        machine_type : \"n2-highmem-32\"\n"
   ]
  },
  {
   "cell_type": "code",
   "execution_count": null,
   "id": "58d56a43-6591-42f1-a4ec-46dd0c4b0fe5",
   "metadata": {},
   "outputs": [],
   "source": [
    "\n",
    "#  Full error,\n",
    "#\n",
    "#  ---------------------------------------------------------------------------\n",
    "#  OperationError                            Traceback (most recent call last)\n",
    "#  Input In [4], in <cell line: 12>()\n",
    "#        1 start = timer()\n",
    "#        3 query1 = \"\"\"\n",
    "#        4 \n",
    "#        5    match (acct1)-[:FriendConB]->(acct2)-[:FriendConB]->(acct3)\n",
    "#     (...)\n",
    "#        9 \n",
    "#       10 \"\"\"\n",
    "#  ---> 12 query1_result = graph.query_paginated(query1)\n",
    "#       13 end = timer()\n",
    "#       14 print(query1_result.head())\n",
    "#  \n",
    "#  File /opt/conda/lib/python3.8/site-packages/katana_enterprise/async_to_sync.py:249, in AsyncToSync.<locals>.do_wrap.<locals>.wrapper(self, *args, **kwargs)\n",
    "#      246 @wraps(underlying_func)\n",
    "#      247 def wrapper(self, *args, **kwargs):\n",
    "#      248     return registry.async_to_sync(\n",
    "#  --> 249         underlying_func(\n",
    "#      250             get_self_func(self),\n",
    "#      251             *(registry.sync_to_async(a) for a in args),\n",
    "#      252             **{k: registry.sync_to_async(v) for k, v in kwargs.items()},\n",
    "#      253         )\n",
    "#      254     )\n",
    "#  \n",
    "#  File /opt/conda/lib/python3.8/site-packages/katana_enterprise/async_to_sync.py:176, in async_to_sync.<locals>.wrapper(timeout, *args, **kwargs)\n",
    "#      166     registry = AsyncToSyncClassRegistry.get()\n",
    "#      167     return registry.async_to_sync(\n",
    "#      168         wait_for(\n",
    "#      169             async_func(\n",
    "#     (...)\n",
    "#      174         )\n",
    "#      175     )\n",
    "#  --> 176 return wait_for(async_func(*args, **kwargs), timeout=timeout)\n",
    "#  \n",
    "#  File /opt/conda/lib/python3.8/site-packages/katana_enterprise/async_to_sync.py:147, in wait_for(coro, timeout)\n",
    "#      145 try:\n",
    "#      146     future = asyncio.run_coroutine_threadsafe(timeout_coro, loop=AsyncRunnerThread.get().loop)\n",
    "#  --> 147     return future.result()\n",
    "#      148 except KeyboardInterrupt:\n",
    "#      149     inner_future.cancel()\n",
    "#  \n",
    "#  File /opt/conda/lib/python3.8/concurrent/futures/_base.py:444, in Future.result(self, timeout)\n",
    "#      442     raise CancelledError()\n",
    "#      443 elif self._state == FINISHED:\n",
    "#  --> 444     return self.__get_result()\n",
    "#      445 else:\n",
    "#      446     raise TimeoutError()\n",
    "#  \n",
    "#  File /opt/conda/lib/python3.8/concurrent/futures/_base.py:389, in Future.__get_result(self)\n",
    "#      387 if self._exception:\n",
    "#      388     try:\n",
    "#  --> 389         raise self._exception\n",
    "#      390     finally:\n",
    "#      391         # Break a reference cycle with the exception in self._exception\n",
    "#      392         self = None\n",
    "#  \n",
    "#  File /opt/conda/lib/python3.8/asyncio/tasks.py:455, in wait_for(fut, timeout, loop)\n",
    "#      450     warnings.warn(\"The loop argument is deprecated since Python 3.8, \"\n",
    "#      451                   \"and scheduled for removal in Python 3.10.\",\n",
    "#      452                   DeprecationWarning, stacklevel=2)\n",
    "#      454 if timeout is None:\n",
    "#  --> 455     return await fut\n",
    "#      457 if timeout <= 0:\n",
    "#      458     fut = ensure_future(fut, loop=loop)\n",
    "#  \n",
    "#  File /opt/conda/lib/python3.8/site-packages/katana_enterprise/remote/aio/graph.py:334, in Graph.query_paginated(self, query, memory_usage_factor, **parameters)\n",
    "#      331 if memory_usage_factor:\n",
    "#      332     parameters[\"__katana_internal_match_batch_limit_scale_factor\"] = memory_usage_factor\n",
    "#  --> 334 res = await self._run_query(query, parameters=parameters, parquet=True)\n",
    "#      335 result = PaginatedResultSet(self, res[\"result_files\"], res[\"operation_id\"])\n",
    "#      336 await self._client._refresh_graph_version(self)\n",
    "#  \n",
    "#  File /opt/conda/lib/python3.8/site-packages/katana_enterprise/remote/aio/graph.py:276, in Graph._run_query(self, query, parameters, parquet)\n",
    "#      272     data[\"cypher\"][\"output_type\"] = \"Parquet\"\n",
    "#      274 data = self._add_operation_metadata(data)\n",
    "#  --> 276 res = await self._client._run_on_graph_and_wait(self, data)\n",
    "#      278 return res\n",
    "#  \n",
    "#  File /opt/conda/lib/python3.8/site-packages/katana_enterprise/remote/aio/client.py:310, in Database._run_on_graph_and_wait(self, graph, data)\n",
    "#      308 async def _run_on_graph_and_wait(self, graph: Graph, data) -> dict:\n",
    "#      309     self._check_graph_from_myself(graph)\n",
    "#  --> 310     return await self._wait_op(await self._run_on_graph(graph, data))\n",
    "#  \n",
    "#  File /opt/conda/lib/python3.8/site-packages/katana_enterprise/remote/aio/client.py:252, in Database._wait_op(self, op)\n",
    "#      250 async with _progress_bar() as pbar:\n",
    "#      251     async with wait_fn(operation_id) as stream:\n",
    "#  --> 252         async for update in stream:\n",
    "#      253             status = update[\"status\"]\n",
    "#      255             for entry in op.get(\"progress\", []):\n",
    "#  \n",
    "#  File /opt/conda/lib/python3.8/site-packages/asyncstdlib/builtins.py:445, in map(function, *iterable)\n",
    "#      443 async for args in args_iter:\n",
    "#      444     result = function(*args)\n",
    "#  --> 445     yield await result\n",
    "#  \n",
    "#  File /opt/conda/lib/python3.8/site-packages/asyncstdlib/_core.py:134, in force_async.<locals>.async_wrapped(*args, **kwargs)\n",
    "#      133 async def async_wrapped(*args: Any, **kwargs: Any) -> T:\n",
    "#  --> 134     return call(*args, **kwargs)\n",
    "#  \n",
    "#  File /opt/conda/lib/python3.8/site-packages/katana_enterprise/rpc/client.py:142, in _OperationClient._event_stream.<locals>.parse_stream(line)\n",
    "#  #      139 status = data[\"status\"]\n",
    "#      141 if status == \"Failed\":\n",
    "#  --> 142     raise errors.OperationError(operation_id + \" \" + data[\"status_message\"])\n",
    "#      143 if status == \"Canceled\":\n",
    "#      144     raise errors.CanceledError()\n",
    "#  \n",
    "#  OperationError: EY8Rb8NZ68Z2yJhi1sFXb5opkZSmrHY7GooZ4MwmGGHc-2FtAJzHrFXgmJ2Rro \n",
    "        "
   ]
  },
  {
   "cell_type": "markdown",
   "id": "dde03299",
   "metadata": {},
   "source": [
    "Report requirements: \n",
    "- Cluster size and SKU used for data ingestion\n",
    "- % of completion\n",
    "- Time used for ingestion\n",
    "- Warnings & errors happened so far\n",
    "- Statistics of # of vertices and edges successfully ingested & not ingested due to errors, etc.\n",
    "\n"
   ]
  },
  {
   "cell_type": "markdown",
   "id": "cef07a8a",
   "metadata": {},
   "source": [
    "Output: \n",
    "- Report already shows skew (complete - available now)\n",
    "- Cluster size and SKU used for data ingestion (complete - available now)\n",
    "- Time used for ingestion (complete - available now)\n",
    "- % of completion\n",
    "- Warnings & errors happened so far (as the load is occurring..) \n",
    "- Statistics of # of vertices and edges successfully ingested & not ingested due to errors, etc. (complete - available now) \n"
   ]
  },
  {
   "cell_type": "markdown",
   "id": "9c1457fa-48fb-44da-b25a-4e35de4c9ea9",
   "metadata": {},
   "source": [
    "## Incremental Data Loading - Social Graph "
   ]
  },
  {
   "cell_type": "markdown",
   "id": "07699d22",
   "metadata": {},
   "source": [
    "Requirements: (data will be staged in gs) \n",
    "- 80K of vertices to be inserted\n",
    "- 7M of edges to be inserted\n"
   ]
  },
  {
   "cell_type": "code",
   "execution_count": null,
   "id": "3b2e60b3-0542-4ca3-bf45-dc35682c3eba",
   "metadata": {},
   "outputs": [],
   "source": [
    "# incremental node+edge inserts, these should also work separately by leading the node or edge mapping path blank\n",
    "\n",
    "next_node_ingest_batch = (\n",
    "    \"gs://katana-demo-datasets/csv-datasets/social/mapping_files/incremental/node_insert_100M_10M.txt\"\n",
    ")\n",
    "next_edge_ingest_batch = (\n",
    "    \"gs://katana-demo-datasets/csv-datasets/social/mapping_files/incremental/edge_insert_100M_7M.txt\"\n",
    ")\n",
    "\n",
    "start = timer()\n",
    "# re-uses the graph from initial load\n",
    "import_data.csv(\n",
    "    graph,\n",
    "    operation=import_data.Operation.Insert,\n",
    "    input_node_path=next_node_ingest_batch,\n",
    "    input_edge_path=next_edge_ingest_batch,\n",
    "    input_dir=\"gs://katana-demo-datasets/csv-datasets/social/csv/\",\n",
    "    data_delimiter=\"|\",\n",
    "    schema_delimiter=\"|\",\n",
    "    ids_are_integers=True,\n",
    ")\n",
    "\n",
    "end = timer()\n",
    "print(f\"  Insert Op: {end - start:.1f} seconds\")"
   ]
  },
  {
   "cell_type": "markdown",
   "id": "8bdbcd61",
   "metadata": {},
   "source": [
    "- 100K of vertices to be updated\n",
    "- 1M of edges to be updated\n"
   ]
  },
  {
   "cell_type": "code",
   "execution_count": null,
   "id": "7d119c8f",
   "metadata": {},
   "outputs": [],
   "source": [
    "# incremental node + edge updates (XXX these paths are guesses)\n",
    "\n",
    "next_node_ingest_batch = (\n",
    "    \"gs://katana-demo-datasets/csv-datasets/social/mapping_files/incremental/node_update_100M_10M.txt\"\n",
    ")\n",
    "next_edge_ingest_batch = (\n",
    "    \"gs://katana-demo-datasets/csv-datasets/social/mapping_files/incremental/edge_update_100M_10M.txt\"\n",
    ")\n",
    "\n",
    "start = timer()\n",
    "# re-uses the graph from initial load\n",
    "import_data.csv(\n",
    "    graph,\n",
    "    operation=import_data.Operation.Update,\n",
    "    input_node_path=next_node_ingest_batch,\n",
    "    input_edge_path=next_edge_ingest_batch,\n",
    "    input_dir=\"gs://katana-demo-datasets/csv-datasets/social/csv/\",\n",
    "    data_delimiter=\"|\",\n",
    "    schema_delimiter=\"|\",\n",
    "    ids_are_integers=True,\n",
    ")\n",
    "\n",
    "end = timer()\n",
    "print(f\"  Update Op: {end - start:.1f} seconds\")"
   ]
  },
  {
   "cell_type": "markdown",
   "id": "5b1eceea",
   "metadata": {},
   "source": [
    "- 100K of vertices to be deleted\n",
    "- 1M of edges to be deleted\n"
   ]
  },
  {
   "cell_type": "code",
   "execution_count": null,
   "id": "8f1151f9",
   "metadata": {},
   "outputs": [],
   "source": [
    "# incremental node + edge deletes (XXX these paths are guesses)\n",
    "\n",
    "next_node_ingest_batch = (\n",
    "    \"gs://katana-demo-datasets/csv-datasets/social/mapping_files/incremental/node_delete_100M_10M.txt\"\n",
    ")\n",
    "next_edge_ingest_batch = (\n",
    "    \"gs://katana-demo-datasets/csv-datasets/social/mapping_files/incremental/edge_delete_100M_10M.txt\"\n",
    ")\n",
    "\n",
    "start = timer()\n",
    "# re-uses the graph from initial load\n",
    "import_data.csv(\n",
    "    graph,\n",
    "    operation=import_data.Operation.Delete,\n",
    "    input_node_path=next_node_ingest_batch,\n",
    "    input_edge_path=next_edge_ingest_batch,\n",
    "    input_dir=\"gs://katana-demo-datasets/csv-datasets/social/csv/\",\n",
    "    data_delimiter=\"|\",\n",
    "    schema_delimiter=\"|\",\n",
    "    ids_are_integers=True,\n",
    ")\n",
    "\n",
    "end = timer()\n",
    "print(f\"  Delete Op: {end - start:.1f} seconds\")"
   ]
  },
  {
   "cell_type": "markdown",
   "id": "3718747d",
   "metadata": {},
   "source": [
    "Output: \n",
    "- Report already shows skew (complete - available now)\n",
    "- Cluster size and SKU used for data ingestion (complete - available now)\n",
    "- Time used for ingestion (complete - available now)\n",
    "- % of completion\n",
    "- Warnings & errors happened so far (as the load is occurring..) \n",
    "- Statistics of # of vertices and edges successfully ingested & not ingested due to errors, etc. (complete - available now) \n"
   ]
  },
  {
   "cell_type": "markdown",
   "id": "9e4e3e10-2cea-48e8-a24b-0ec94343495b",
   "metadata": {},
   "source": [
    "## f) Query execution and output"
   ]
  },
  {
   "cell_type": "markdown",
   "id": "1c96dc3b-ed11-4e4c-b62b-34c2fbdefa3d",
   "metadata": {},
   "source": [
    "#### Run 2hop aggregations only on edges of type FriendConB: for each account, find all his neighbors within 2 hops exactly (exclude accounts that are 1 hop from the account) and do the following aggregations on all these accounts: \n",
    "sum(user_is_blacklisted=’Y’ or suspended=’Y’)/(# of accounts in 2 hops)\n",
    "sum(phone_is_verified=’Y’) /(# of accounts in 2 hops)\n",
    "avg(cnt_decl)\n",
    "\n",
    "##### FriendB Connection Only\n",
    "- 2 hop query by account\n",
    "- Global triangles for totals\n",
    "- Users suspended and blacklisted\n",
    "- Users not verified\n",
    "- Average count of users declined"
   ]
  },
  {
   "cell_type": "code",
   "execution_count": null,
   "id": "f3b4a20e-9d32-4ab7-b23b-bbb48bc16077",
   "metadata": {},
   "outputs": [],
   "source": [
    "## Corresponds https://github.com/KatanaGraph/katana-tools/blob/main/bench/queries/paypal/11.q used by QA\n",
    "start = timer()\n",
    "\n",
    "query2 = \"\"\"\n",
    "MATCH (acct1)-[:FriendConB]->(acct2)-[:FriendConB]->(acct3) \n",
    "WHERE NOT (acct1)-[:FriendConB]->(acct3) \n",
    "WITH acct1, avg(acct3.cntDecl) as avgCntDecl, count(acct3) as totalAccounts \n",
    "MATCH (acct1)-[:FriendConB]->(acct2)-[:FriendConB]->(acct3Bad) \n",
    "WHERE (acct3Bad.userIsBlacklisted=\"Y\" OR acct3Bad.userIsSuspended=\"Y\") \n",
    "AND NOT (acct1)-[:FriendConB]->(acct3Bad) \n",
    "WITH acct1, avgCntDecl, totalAccounts, count(acct3Bad) as suspAccounts \n",
    "MATCH (acct1)-[:FriendConB]->(acct2)-[:FriendConB]->(acct3Bad) \n",
    "WHERE acct3Bad.phoneIsVerified=\"N\" \n",
    "AND NOT (acct1)-[:FriendConB]->(acct3Bad) \n",
    "WITH acct1, avgCntDecl, totalAccounts, suspAccounts, count(acct3Bad) as unverifiedAccounts \n",
    "RETURN acct1.id, avgCntDecl, toFloat(suspAccounts) / toFloat(totalAccounts) as percentSusp, toFloat(unverifiedAccounts) / toFloat(totalAccounts) as percentUnverified;\n",
    "\"\"\"\n",
    "\n",
    "query2_result = graph.query_paginated(query2)\n",
    "end = timer()\n",
    "print(query2_result.head())\n",
    "print(f\"  query2: {end - start:.1f} seconds\")"
   ]
  },
  {
   "cell_type": "markdown",
   "id": "beefcc2b",
   "metadata": {},
   "source": [
    "Output: \n",
    "- Report already shows skew (complete - available now)\n",
    "- Cluster size and SKU used for data ingestion (complete - available now)\n",
    "- Time used for ingestion (complete - available now)\n",
    "- % of completion\n",
    "- Warnings & errors happened so far (as the load is occurring..) \n",
    "- Statistics of # of vertices and edges successfully ingested & not ingested due to errors, etc. (complete - available now) \n"
   ]
  },
  {
   "cell_type": "markdown",
   "id": "79a04e03",
   "metadata": {},
   "source": [
    "#### Run 2hop aggregations on the full graph: for each account, find all his neighbors within 2 hops exactly (exclude accounts that are 1 hop from the account) and do the following aggregations on all these accounts: \n",
    "sum(user_is_blacklisted=’Y’ or suspended=’Y’)/(# of accounts in 2 hops)\n",
    "sum(phone_is_verified=’Y’) /(# of accounts in 2 hops)\n",
    "avg(cnt_decl)\n",
    "\n",
    "##### Full Social Graph\n",
    "- 2 hop query by account\n",
    "- Global triangles for totals\n",
    "- Users suspended and blacklisted\n",
    "- Users not verified\n",
    "- Average count of users declined"
   ]
  },
  {
   "cell_type": "code",
   "execution_count": null,
   "id": "6c964f6b",
   "metadata": {},
   "outputs": [],
   "source": [
    "## Corresponds https://github.com/KatanaGraph/katana-tools/blob/main/bench/queries/paypal/12.q used by QA\n",
    "start = timer()\n",
    "\n",
    "query3 = \"\"\"\n",
    "MATCH (acct1)-->(acct2)-->(acct3) \n",
    "WHERE NOT (acct1)-->(acct3) \n",
    "WITH acct1, avg(acct3.cntDecl) as avgCntDecl, count(acct3) as totalAccounts \n",
    "MATCH (acct1)-->(acct2)-->(acct3Bad) \n",
    "WHERE (acct3Bad.userIsBlacklisted=\"Y\" OR acct3Bad.userIsSuspended=\"Y\") \n",
    "AND NOT (acct1)-->(acct3Bad) \n",
    "WITH acct1, avgCntDecl, totalAccounts, count(acct3Bad) as suspAccounts \n",
    "MATCH (acct1)-->(acct2)-->(acct3Bad) \n",
    "WHERE acct3Bad.phoneIsVerified=\"N\" \n",
    "AND NOT (acct1)-->(acct3Bad) \n",
    "WITH acct1, avgCntDecl, totalAccounts, suspAccounts, count(acct3Bad) as unverifiedAccounts \n",
    "RETURN acct1.id, avgCntDecl, toFloat(suspAccounts) / toFloat(totalAccounts) as percentSusp, toFloat(unverifiedAccounts) / toFloat(totalAccounts) as percentUnverified;\n",
    "\"\"\"\n",
    "\n",
    "query3_result = graph.query_paginated(query3)\n",
    "end = timer()\n",
    "print(query3_result.head())\n",
    "print(f\"  query3: {end - start:.1f} seconds\")"
   ]
  },
  {
   "cell_type": "markdown",
   "id": "88bc8a9f-5f30-4d81-8bef-8bf43f94cd4a",
   "metadata": {},
   "source": [
    "##### Full Social Graph\n",
    "- 2 hop query by account\n",
    "- Global triangles for totals\n",
    "- Users suspended and blacklisted\n",
    "- Users not verified\n",
    "- Average count of users declined"
   ]
  },
  {
   "cell_type": "markdown",
   "id": "dc87269d-60b7-4bb5-a2a3-2c63a7e8a6eb",
   "metadata": {},
   "source": [
    "## Algorithms"
   ]
  },
  {
   "cell_type": "markdown",
   "id": "0dce7b88-71ee-4618-92e9-eba5e94c2cd0",
   "metadata": {},
   "source": [
    "#### PageRank (Social Graph)"
   ]
  },
  {
   "cell_type": "code",
   "execution_count": null,
   "id": "93c08012-1084-4e90-88c2-54c280925052",
   "metadata": {},
   "outputs": [],
   "source": [
    "analytics.pagerank(graph, result_property_name=\"page_rank\")\n",
    "result = graph.query(\n",
    "    \"\"\"\n",
    "    MATCH (n)\n",
    "    RETURN n, n.page_rank\n",
    "    ORDER BY n.page_rank DESC\n",
    "    LIMIT 30\n",
    "    \"\"\",\n",
    "    contextualize=True,\n",
    ")\n",
    "pd.DataFrame(result[0:10])"
   ]
  },
  {
   "cell_type": "markdown",
   "id": "0c145fd7",
   "metadata": {},
   "source": [
    "#### Distributed Louvain (Social Graph)"
   ]
  },
  {
   "cell_type": "code",
   "execution_count": null,
   "id": "b47e702f",
   "metadata": {},
   "outputs": [],
   "source": [
    "prop_name = \"cluster_id\"\n",
    "louvain_graph = graph.project(node_types=[\"Account\"], edge_types=[\"AssetConB\"])\n",
    "analytics.louvain_clustering(louvain_graph, result_property_name=prop_name, is_symmetric=True)\n",
    "result = graph.query(\n",
    "    f\"\"\"\n",
    "    MATCH (n)\n",
    "    WHERE exists(n.{prop_name})\n",
    "    RETURN n, n.{prop_name}\n",
    "    LIMIT 30\n",
    "    \"\"\",\n",
    "    contextualize=True,\n",
    ")\n",
    "pd.DataFrame(result[0:10])"
   ]
  },
  {
   "cell_type": "markdown",
   "id": "3a786961",
   "metadata": {},
   "source": [
    "#### Scale to 20B nodes and 40B edges and execute queries and analytics "
   ]
  }
 ],
 "metadata": {
  "author": {
   "email": "gill@katanagraph.com",
   "jira_user_id": "5fbc557bd670b8006eaad29f"
  },
  "kernelspec": {
   "display_name": "Python 3 (ipykernel)",
   "language": "python",
   "name": "python3"
  },
  "language_info": {
   "codemirror_mode": {
    "name": "ipython",
    "version": 3
   },
   "file_extension": ".py",
   "mimetype": "text/x-python",
   "name": "python",
   "nbconvert_exporter": "python",
   "pygments_lexer": "ipython3",
   "version": "3.8.13"
  },
  "max_num_hosts": 20,
  "milestone": -1
 },
 "nbformat": 4,
 "nbformat_minor": 5
}
