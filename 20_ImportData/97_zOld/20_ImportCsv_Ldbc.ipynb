{
 "cells": [
  {
   "cell_type": "code",
   "execution_count": null,
   "id": "bf593b56-5f63-48d5-a435-a9d81280b46a",
   "metadata": {},
   "outputs": [],
   "source": [
    "\n",
    "from katana import remote\n",
    "from katana.remote import import_data\n",
    "\n",
    "my_client = remote.Client()\n",
    "\n",
    "print(my_client)\n"
   ]
  },
  {
   "cell_type": "code",
   "execution_count": null,
   "id": "677cc343-73ea-4036-b04e-d244cc991f21",
   "metadata": {},
   "outputs": [],
   "source": [
    "\n",
    "NUM_PARTITIONS  = 3\n",
    "   #\n",
    "DB_NAME         = \"my_db\"\n",
    "GRAPH_NAME      = \"my_graph\"\n",
    "\n",
    "print(\"--\")\n"
   ]
  },
  {
   "cell_type": "code",
   "execution_count": null,
   "id": "1f62ff87-fc81-4d84-aedb-64b44d7a545c",
   "metadata": {},
   "outputs": [],
   "source": [
    "# ##################################################################"
   ]
  },
  {
   "cell_type": "code",
   "execution_count": null,
   "id": "cd720edd-6f47-4a9f-b5b4-6e7990869662",
   "metadata": {},
   "outputs": [],
   "source": [
    "\n",
    "#  DELETE ALL GRAPHS\n",
    "\n",
    "for l_database in my_client.databases():\n",
    "   for l_graph in my_client.get_database(name=l_database.name).graphs_in_database():\n",
    "      l_handle=my_client.get_database(name=l_database.name).get_graph_by_id(id=l_graph.graph_id)\n",
    "      l_handle.delete()\n",
    "\n",
    "for l_graph in my_client.graphs():\n",
    "   print(\"GRAPH ID: \", l_graph.graph_id, \"      GRAPH Version: \", l_graph.version)\n",
    "\n",
    "print(\"--\")\n"
   ]
  },
  {
   "cell_type": "code",
   "execution_count": null,
   "id": "0c0620a8-cbf2-43da-87a2-3881f4c65500",
   "metadata": {},
   "outputs": [],
   "source": [
    "\n",
    "#  DELETE ALL DATABASES\n",
    "\n",
    "for l_database in my_client.databases():\n",
    "   if (l_database.name != \"default\"):\n",
    "      my_client.get_database(name=l_database.name).delete_database()\n",
    "      print(\"--\")\n",
    "\n",
    "for l_database in my_client.databases():\n",
    "   print(\"DB ID: \", l_database.database_id, \"     DB Name: \", l_database.name)\n"
   ]
  },
  {
   "cell_type": "code",
   "execution_count": null,
   "id": "3fccefd1-c4f2-4fd4-833c-d3602627b3fa",
   "metadata": {},
   "outputs": [],
   "source": [
    "\n",
    "#  CREATE DATABASE\n",
    "\n",
    "my_database = my_client.create_database(name=DB_NAME)\n",
    "\n",
    "print(my_database.database_id)\n"
   ]
  },
  {
   "cell_type": "code",
   "execution_count": null,
   "id": "57feb01b-a988-4ffd-a97b-206940fd63b6",
   "metadata": {},
   "outputs": [],
   "source": [
    "\n",
    "#  CREATE A GRAPH\n",
    "\n",
    "my_graph=my_client.get_database(name=DB_NAME).create_graph(name=GRAPH_NAME, num_partitions=NUM_PARTITIONS)\n",
    "\n",
    "print(my_graph)\n"
   ]
  },
  {
   "cell_type": "code",
   "execution_count": null,
   "id": "37d46899-87b3-4b87-b24e-801e2a89d26d",
   "metadata": {},
   "outputs": [],
   "source": [
    "\n",
    "display(my_graph.num_nodes())\n",
    "display(my_graph.num_edges())\n"
   ]
  },
  {
   "cell_type": "code",
   "execution_count": null,
   "id": "646ce07c-113c-4ab6-97d9-cf2c825197da",
   "metadata": {},
   "outputs": [],
   "source": [
    "# ##################################################################"
   ]
  },
  {
   "cell_type": "code",
   "execution_count": null,
   "id": "7babef37-61b9-4f75-bcdb-9747495401df",
   "metadata": {},
   "outputs": [],
   "source": [
    "#  COPY FILES TO/FROM S3 ..\n",
    "#\n",
    "#        https://console.cloud.google.com/storage/browser/katana-demo-datasets/\n",
    "#\n",
    "\n",
    "   gsutil cp   /opt/kg/cluster_5/workbook/21_MyImportWork/30_NodeHeader.txt                                              gs://farrell-data-bucket/30_NodeHeader.txt\n"
   ]
  },
  {
   "cell_type": "code",
   "execution_count": null,
   "id": "7fe11941-c10c-48d0-817b-ddb92246ea7f",
   "metadata": {},
   "outputs": [],
   "source": [
    "# ##################################################################"
   ]
  },
  {
   "cell_type": "code",
   "execution_count": null,
   "id": "3b8a8b79-4c3e-4859-a5a4-63c44a25cb7f",
   "metadata": {},
   "outputs": [],
   "source": [
    "# import os\n",
    "# \n",
    "# os.environ[\"GOOGLE_APPLICATION_CREDENTIALS\"] = \"/home/jovyan/work/04_MyKeys.json\"\n",
    "# \n",
    "# print(\"--\")"
   ]
  },
  {
   "cell_type": "code",
   "execution_count": null,
   "id": "67f6b7aa-2f28-457f-9226-5ee750b48c5b",
   "metadata": {},
   "outputs": [],
   "source": [
    "#  IMPORT DATA INTO GRAPH USING CSV\n",
    "\n",
    "l_node = \"gs://katana-demo-datasets/csv-datasets/ldbc/headers/sf-0.003-bi-node_headers.txt\"\n",
    "l_edge = \"gs://katana-demo-datasets/csv-datasets/ldbc/headers/sf-0.003-bi-edge_headers.txt\"\n",
    "   #\n",
    "l_data = \"gs://katana-demo-datasets/csv-datasets/ldbc\"\n",
    "\n",
    "\n",
    "import_data.csv(\n",
    "   my_graph,\n",
    "      #\n",
    "   input_node_path    = l_node,\n",
    "   input_edge_path    = l_edge,\n",
    "   input_dir          = l_data,\n",
    "      #\n",
    "   data_delimiter     = \"|\",\n",
    "   schema_delimiter   = \"|\",\n",
    "      #\n",
    "   files_have_headers = True,\n",
    "    \n",
    "   # partition_policy = \"random-oec\"\n",
    "    \n",
    "   )\n"
   ]
  },
  {
   "cell_type": "code",
   "execution_count": null,
   "id": "ec5aab94-68c1-4472-8b3d-68cc943e2d13",
   "metadata": {},
   "outputs": [],
   "source": [
    "\n",
    "display(my_graph.num_nodes())\n",
    "display(my_graph.num_edges())\n"
   ]
  }
 ],
 "metadata": {
  "kernelspec": {
   "display_name": "Python 3 (ipykernel)",
   "language": "python",
   "name": "python3"
  },
  "language_info": {
   "codemirror_mode": {
    "name": "ipython",
    "version": 3
   },
   "file_extension": ".py",
   "mimetype": "text/x-python",
   "name": "python",
   "nbconvert_exporter": "python",
   "pygments_lexer": "ipython3",
   "version": "3.8.13"
  }
 },
 "nbformat": 4,
 "nbformat_minor": 5
}
