{
 "cells": [
  {
   "cell_type": "code",
   "execution_count": 1,
   "id": "ba3c25ae-887d-4ed5-a319-466e0c1dea0e",
   "metadata": {},
   "outputs": [],
   "source": [
    "\n",
    "import os                                                                        \n",
    "import time                                                                      \n",
    "import json\n",
    "import pandas as pd\n",
    "from timeit import default_timer as timer\n",
    "\n",
    "from katana import remote\n",
    "from katana.remote import import_data"
   ]
  },
  {
   "cell_type": "code",
   "execution_count": 2,
   "id": "3be4188c-9768-4040-a77f-ba275f2d889b",
   "metadata": {},
   "outputs": [],
   "source": [
    "katana_c = remote.Client(address=\"host.docker.internal:8080\")\n",
    "graph = katana_c.create_graph(num_partitions=2)"
   ]
  },
  {
   "cell_type": "code",
   "execution_count": 3,
   "id": "e6a8ca60-8702-4e99-8a1a-88dc07bbb07c",
   "metadata": {},
   "outputs": [],
   "source": [
    "gs_prefix=\"gs://katana-demo-datasets/csv-datasets/ldbc/\"\n",
    "test_node_file = gs_prefix + \"headers/sf-0.003-bi-node_headers.txt\"\n",
    "test_edge_file = gs_prefix + \"headers/sf-0.003-bi-edge_headers.txt\"\n",
    "input_path=gs_prefix"
   ]
  },
  {
   "cell_type": "code",
   "execution_count": 4,
   "id": "fada12f2-fbf3-4a60-921c-39be955d0507",
   "metadata": {},
   "outputs": [
    {
     "name": "stdout",
     "output_type": "stream",
     "text": [
      "Importing graph from CSV files...\n"
     ]
    },
    {
     "data": {
      "application/vnd.jupyter.widget-view+json": {
       "model_id": "292eef51b07e4ef8a9434e9c222af9d9",
       "version_major": 2,
       "version_minor": 0
      },
      "text/plain": [
       "          0/? [?op/s]"
      ]
     },
     "metadata": {},
     "output_type": "display_data"
    },
    {
     "name": "stdout",
     "output_type": "stream",
     "text": [
      "  import: 37.2 seconds\n"
     ]
    }
   ],
   "source": [
    "\n",
    "start = timer()\n",
    "print(\"Importing graph from CSV files...\")\n",
    "import_data.csv(\n",
    "    graph,\n",
    "    input_node_path=test_node_file,\n",
    "    input_edge_path=test_edge_file,\n",
    "    input_dir=input_path,\n",
    "    data_delimiter=\"|\",\n",
    "    schema_delimiter=\"|\"\n",
    "    #partition_policy=\"random-oec\"\n",
    ")\n",
    "end = timer()\n",
    "print(f\"  import: {end - start:.1f} seconds\")"
   ]
  },
  {
   "cell_type": "code",
   "execution_count": 5,
   "id": "6d9692dc-c7ac-4a8c-94e6-027c5a174afd",
   "metadata": {},
   "outputs": [
    {
     "data": {
      "application/vnd.jupyter.widget-view+json": {
       "model_id": "7553793eac7c44398b2755f0b2d41995",
       "version_major": 2,
       "version_minor": 0
      },
      "text/plain": [
       "          0/? [?op/s]"
      ]
     },
     "metadata": {},
     "output_type": "display_data"
    }
   ],
   "source": [
    "from katana.remote import analytics\n",
    "analytics.pagerank(graph, \"pagerank\")"
   ]
  },
  {
   "cell_type": "code",
   "execution_count": 26,
   "id": "0180ead1-8a26-4319-854c-7a7de34d53c3",
   "metadata": {},
   "outputs": [
    {
     "data": {
      "application/vnd.jupyter.widget-view+json": {
       "model_id": "317558e15fef46c0a075f4c91caabc11",
       "version_major": 2,
       "version_minor": 0
      },
      "text/plain": [
       "          0/? [?op/s]"
      ]
     },
     "metadata": {},
     "output_type": "display_data"
    },
    {
     "data": {
      "application/vnd.jupyter.widget-view+json": {
       "model_id": "f5a9219dc0474dd5b1230b9293f885df",
       "version_major": 2,
       "version_minor": 0
      },
      "text/plain": [
       "          0/? [?op/s]"
      ]
     },
     "metadata": {},
     "output_type": "display_data"
    },
    {
     "data": {
      "application/vnd.jupyter.widget-view+json": {
       "model_id": "776a25c08c0b4f16b2bd01f8790ae586",
       "version_major": 2,
       "version_minor": 0
      },
      "text/plain": [
       "GraphVizWidget(edges=[{'from': '2199023255594', 'label': 'WORK_AT', 'to': '8', 'type': 'WORK_AT'}, {'from': '2…"
      ]
     },
     "metadata": {},
     "output_type": "display_data"
    }
   ],
   "source": [
    "result = graph.query(\"MATCH (x)-[r]->(a) RETURN x, a LIMIT 100;\")\n",
    "result.visualize()"
   ]
  },
  {
   "cell_type": "code",
   "execution_count": null,
   "id": "f10d067a-42ef-490a-9e41-ca24023c9de1",
   "metadata": {},
   "outputs": [
    {
     "data": {
      "application/vnd.jupyter.widget-view+json": {
       "model_id": "192db7438f4741f6a4649bd7c7985042",
       "version_major": 2,
       "version_minor": 0
      },
      "text/plain": [
       "          0/? [?op/s]"
      ]
     },
     "metadata": {},
     "output_type": "display_data"
    },
    {
     "data": {
      "application/vnd.jupyter.widget-view+json": {
       "model_id": "a70ae0153bd44206ae59afe760c70df5",
       "version_major": 2,
       "version_minor": 0
      },
      "text/plain": [
       "          0/? [?op/s]"
      ]
     },
     "metadata": {},
     "output_type": "display_data"
    },
    {
     "data": {
      "application/vnd.jupyter.widget-view+json": {
       "model_id": "7160eb8d9a87429aab75074e4da1925f",
       "version_major": 2,
       "version_minor": 0
      },
      "text/plain": [
       "GraphVizWidget(edges=[{'from': '2199023255594', 'label': 'WORK_AT', 'to': '8', 'type': 'WORK_AT'}, {'from': '2…"
      ]
     },
     "metadata": {},
     "output_type": "display_data"
    }
   ],
   "source": [
    "result = graph.query(\"MATCH (a:Person)-[]->(b:Company)-[]->(c:Place)\\\n",
    "                     RETURN a, b LIMIT 50;\")\n",
    "result.visualize()"
   ]
  },
  {
   "cell_type": "code",
   "execution_count": 17,
   "id": "2b6948e4-7ddf-484c-b8ae-b88e5a983b7f",
   "metadata": {},
   "outputs": [
    {
     "data": {
      "application/vnd.jupyter.widget-view+json": {
       "model_id": "e044651f53534cbba79a0ac160c95c5e",
       "version_major": 2,
       "version_minor": 0
      },
      "text/plain": [
       "          0/? [?op/s]"
      ]
     },
     "metadata": {},
     "output_type": "display_data"
    },
    {
     "data": {
      "application/vnd.jupyter.widget-view+json": {
       "model_id": "83f0bafc95324240b97eaa353686202b",
       "version_major": 2,
       "version_minor": 0
      },
      "text/plain": [
       "          0/? [?op/s]"
      ]
     },
     "metadata": {},
     "output_type": "display_data"
    },
    {
     "data": {
      "application/vnd.jupyter.widget-view+json": {
       "model_id": "1e495481995741f2847268e6fbb57062",
       "version_major": 2,
       "version_minor": 0
      },
      "text/plain": [
       "GraphVizWidget(edges=[{'from': '21990232555527', 'label': 'WORK_AT', 'to': '908', 'type': 'WORK_AT'}, {'from':…"
      ]
     },
     "metadata": {},
     "output_type": "display_data"
    }
   ],
   "source": [
    "result = graph.query(\"MATCH (a:Person)-[]->(b:Company)-[]->(c:Place)\\\n",
    "                     WHERE c.name='China'\\\n",
    "                     RETURN a, b,c LIMIT 50;\")\n",
    "result.visualize()"
   ]
  },
  {
   "cell_type": "code",
   "execution_count": 14,
   "id": "e8124b98-38e8-4252-b8ba-69b3baa21706",
   "metadata": {},
   "outputs": [
    {
     "data": {
      "application/vnd.jupyter.widget-view+json": {
       "model_id": "038880a034234f708aefe058c98523f4",
       "version_major": 2,
       "version_minor": 0
      },
      "text/plain": [
       "          0/? [?op/s]"
      ]
     },
     "metadata": {},
     "output_type": "display_data"
    },
    {
     "data": {
      "application/vnd.jupyter.widget-view+json": {
       "model_id": "28b2f8f17e6a4df7b58de5807f1a5f8b",
       "version_major": 2,
       "version_minor": 0
      },
      "text/plain": [
       "          0/? [?op/s]"
      ]
     },
     "metadata": {},
     "output_type": "display_data"
    },
    {
     "data": {
      "application/vnd.jupyter.widget-view+json": {
       "model_id": "db58d2b342534a649f253648c53738ee",
       "version_major": 2,
       "version_minor": 0
      },
      "text/plain": [
       "GraphVizWidget(edges=[{'from': '1030792151560', 'label': 'REPLY_OF', 'to': '962072674823', 'type': 'REPLY_OF'}…"
      ]
     },
     "metadata": {},
     "output_type": "display_data"
    }
   ],
   "source": [
    "result = graph.query(\"MATCH (x:Comment)-[r]->(a:Post) RETURN x, a, r LIMIT 100;\")\n",
    "result.visualize()"
   ]
  }
 ],
 "metadata": {
  "kernelspec": {
   "display_name": "Python 3 (ipykernel)",
   "language": "python",
   "name": "python3"
  },
  "language_info": {
   "codemirror_mode": {
    "name": "ipython",
    "version": 3
   },
   "file_extension": ".py",
   "mimetype": "text/x-python",
   "name": "python",
   "nbconvert_exporter": "python",
   "pygments_lexer": "ipython3",
   "version": "3.8.8"
  }
 },
 "nbformat": 4,
 "nbformat_minor": 5
}
