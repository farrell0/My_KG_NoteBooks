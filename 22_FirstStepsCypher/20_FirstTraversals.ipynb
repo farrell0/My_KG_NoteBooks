{
 "cells": [
  {
   "cell_type": "markdown",
   "id": "dee4b4c1-688b-4b5e-b195-5a2f4668599e",
   "metadata": {},
   "source": [
    "#  Setup stuff:  Connectivity "
   ]
  },
  {
   "cell_type": "code",
   "execution_count": 35,
   "id": "c9937838-2db4-49ac-b782-d67e87f2059b",
   "metadata": {},
   "outputs": [
    {
     "data": {
      "text/html": [],
      "text/plain": [
       "<IPython.core.display.HTML object>"
      ]
     },
     "metadata": {},
     "output_type": "display_data"
    },
    {
     "name": "stdout",
     "output_type": "stream",
     "text": [
      "--\n"
     ]
    }
   ],
   "source": [
    "\n",
    "#  Setting display options \n",
    "\n",
    "import pandas as pd\n",
    "   #\n",
    "pd.set_option(\"display.width\", 480)\n",
    "\n",
    "#  Sets horizontal scroll for wide outputs\n",
    "#\n",
    "from IPython.display import display, HTML\n",
    "display(HTML(\"\"))\n",
    "\n",
    "from tabulate import tabulate\n",
    "\n",
    "print(\"--\")\n"
   ]
  },
  {
   "cell_type": "code",
   "execution_count": null,
   "id": "6da09346-5fcf-4c45-a7bd-ef07ce9f9a59",
   "metadata": {},
   "outputs": [],
   "source": [
    "\n",
    "from katana import remote\n",
    "from katana.remote import import_data\n",
    "\n",
    "my_client=remote.Client()\n",
    "\n",
    "print(my_client)\n"
   ]
  },
  {
   "cell_type": "code",
   "execution_count": null,
   "id": "19bc460e-bdee-4199-9f7d-4b1207726980",
   "metadata": {},
   "outputs": [],
   "source": [
    "\n",
    "NUM_PARTITIONS  = 3\n",
    "   #\n",
    "DB_NAME         = \"my_db\"\n",
    "GRAPH_NAME      = \"my_graph\"\n",
    "\n",
    "print(\"--\")\n"
   ]
  },
  {
   "cell_type": "code",
   "execution_count": null,
   "id": "f4306efe-2554-4f15-8cf5-700452c878b3",
   "metadata": {},
   "outputs": [],
   "source": [
    "\n",
    "#  CONNECT TO GRAPH\n",
    "\n",
    "my_graph, *_ = my_client.get_database(name=DB_NAME).find_graphs_by_name(GRAPH_NAME)\n",
    "\n",
    "print(my_graph)\n"
   ]
  },
  {
   "cell_type": "markdown",
   "id": "167c4208-0f54-470f-9dac-0a10c9f10774",
   "metadata": {},
   "source": [
    "#  Sample Cyphers: Vertices"
   ]
  },
  {
   "cell_type": "code",
   "execution_count": null,
   "id": "35763edd-134f-4ceb-8c66-19c9c9c48eae",
   "metadata": {},
   "outputs": [],
   "source": [
    "\n",
    "#  Cypher clauses\n",
    "#\n",
    "#     RETURN ..\n",
    "#     ORDER BY ..\n",
    "#     SKIP ..\n",
    "#     LIMIT ..\n"
   ]
  },
  {
   "cell_type": "code",
   "execution_count": null,
   "id": "be368507-fc1d-42e6-b757-8434e2282a1a",
   "metadata": {},
   "outputs": [],
   "source": [
    "\n",
    "#  Get a count of all nodes\n",
    "\n",
    "display(my_graph.num_nodes())\n",
    "\n",
    "\n",
    "l_query  = \"\"\"\n",
    "   MATCH (n) \n",
    "   RETURN COUNT(*) AS cnt\n",
    "   \"\"\".format()\n",
    "\n",
    "l_count = my_graph.query(l_query)[\"cnt\"][0]\n",
    "\n",
    "\n",
    "print(l_count)\n",
    "print(type(l_count))\n",
    "\n"
   ]
  },
  {
   "cell_type": "code",
   "execution_count": null,
   "id": "acaaac0d-1a7c-4900-8468-459e0b739cb5",
   "metadata": {},
   "outputs": [],
   "source": [
    "\n",
    "#  Get a count of all node types\n",
    "\n",
    "\n",
    "l_query  = \"\"\"\n",
    "   MATCH (n) \n",
    "   RETURN COUNT(DISTINCT LABELS(n)) AS cnt\n",
    "   \"\"\".format()\n",
    "\n",
    "l_count = my_graph.query(l_query)[\"cnt\"][0]\n",
    "\n",
    "print(l_count)\n"
   ]
  },
  {
   "cell_type": "code",
   "execution_count": null,
   "id": "047fafb0-31e6-4065-a8d3-c1bd6f62b003",
   "metadata": {},
   "outputs": [],
   "source": [
    "\n",
    "#  List all node types\n",
    "\n",
    "l_query  = \"\"\"\n",
    "   MATCH (n)\n",
    "   RETURN DISTINCT LABELS(n) AS my_type\n",
    "   \"\"\".format()\n",
    "\n",
    "l_result = my_graph.query(l_query)\n",
    "\n",
    "\n",
    "for l_each in l_result.itertuples():\n",
    "   print(l_each.my_type)\n",
    "\n",
    "print(\"--\")\n"
   ]
  },
  {
   "cell_type": "code",
   "execution_count": null,
   "id": "53f97029-84b8-46d9-9b8b-c6bbf1bee0bd",
   "metadata": {},
   "outputs": [],
   "source": [
    "\n",
    "#  List all node types with node counts\n",
    "\n",
    "l_query  = \"\"\"\n",
    "   MATCH (n) \n",
    "   WITH DISTINCT LABELS(n) AS temp, COUNT(n) AS tempCnt\n",
    "   UNWIND temp AS label\n",
    "   RETURN label, SUM(tempCnt) AS cnt\n",
    "   ORDER BY label\n",
    "   \"\"\".format()\n",
    "\n",
    "l_result = my_graph.query(l_query)\n",
    "   #\n",
    "display(print(l_result))\n",
    "   \n",
    "    \n",
    "print(\"\")\n",
    "\n",
    "\n",
    "l_query  = \"\"\"\n",
    "   MATCH (n) \n",
    "   WITH COUNT(n) AS tempCnt\n",
    "   RETURN tempCnt\n",
    "   \"\"\".format()\n",
    "\n",
    "l_result = my_graph.query(l_query)\n",
    "   #\n",
    "display(print(l_result))\n",
    "\n"
   ]
  },
  {
   "cell_type": "markdown",
   "id": "14723dda-e98f-4122-aea5-6caf2e588ee8",
   "metadata": {},
   "source": [
    "#  Sample Cyphers: Edges"
   ]
  },
  {
   "cell_type": "code",
   "execution_count": null,
   "id": "ca4aad89-92b7-4fba-a544-001da941de86",
   "metadata": {},
   "outputs": [],
   "source": [
    "\n",
    "#  Count all edges\n",
    "\n",
    "display(my_graph.num_edges())\n",
    "\n",
    "l_query  = \"\"\"\n",
    "    MATCH (n) - [r] -> (m)\n",
    "    RETURN COUNT(r) AS cnt\n",
    "   \"\"\".format()\n",
    "\n",
    "l_count = my_graph.query(l_query)[\"cnt\"][0]\n",
    "\n",
    "print(l_count)\n"
   ]
  },
  {
   "cell_type": "code",
   "execution_count": null,
   "id": "99f04b70-6e9e-42f1-9ecf-eecbe4be2456",
   "metadata": {},
   "outputs": [],
   "source": [
    "\n",
    "#  List all vertice types with counts\n",
    "\n",
    "l_query  = \"\"\"\n",
    "   MATCH (m)-[r]->(n) \n",
    "   WITH DISTINCT TYPE(r) AS temp, COUNT(r) AS tempCnt\n",
    "   RETURN temp, tempCnt\n",
    "   ORDER BY temp\n",
    "   \"\"\".format()\n",
    "\n",
    "l_result = my_graph.query(l_query)\n",
    "   #\n",
    "display(print(l_result))\n",
    "\n",
    "\n",
    "l_query  = \"\"\"\n",
    "   MATCH (m)-[r]->(n) \n",
    "   WITH COUNT(r) AS tempCnt\n",
    "   RETURN tempCnt\n",
    "   \"\"\".format()\n",
    "\n",
    "l_result = my_graph.query(l_query)\n",
    "   #\n",
    "display(print(l_result))\n",
    "\n"
   ]
  },
  {
   "cell_type": "markdown",
   "id": "67677cae-8b4b-4d8c-b1f0-811d67147969",
   "metadata": {},
   "source": [
    "#  Sample Cyphers: Properties"
   ]
  },
  {
   "cell_type": "code",
   "execution_count": null,
   "id": "d6299b26-b231-4cf7-997d-02bf855c9870",
   "metadata": {},
   "outputs": [],
   "source": [
    "\n",
    "#  Return properties/keys from all vertices\n",
    "\n",
    "my_graph.query(\"CALL graph.schema() RETURN *\")\n"
   ]
  },
  {
   "cell_type": "code",
   "execution_count": null,
   "id": "313f34a5-d1f3-4a2d-83a4-15f35d5767d1",
   "metadata": {},
   "outputs": [],
   "source": [
    "\n",
    "#  Return properties/keys from all vertices\n",
    "\n",
    "l_query  = \"\"\"\n",
    "   MATCH (n)\n",
    "   RETURN DISTINCT labels(n) AS label, keys(n)\n",
    "   \"\"\".format()\n",
    "\n",
    "l_result = my_graph.query(l_query)\n",
    "   #\n",
    "display(print(l_result))\n"
   ]
  },
  {
   "cell_type": "code",
   "execution_count": 39,
   "id": "0f0f6b63-f2b9-4cf7-8f9b-e1d03291bc4c",
   "metadata": {},
   "outputs": [
    {
     "data": {
      "application/vnd.jupyter.widget-view+json": {
       "model_id": "a59a3938f5644313828e5d53b78626c6",
       "version_major": 2,
       "version_minor": 0
      },
      "text/plain": [
       "          0/? [?op/s]"
      ]
     },
     "metadata": {},
     "output_type": "display_data"
    },
    {
     "ename": "CancelledError",
     "evalue": "",
     "output_type": "error",
     "traceback": [
      "\u001b[0;31m---------------------------------------------------------------------------\u001b[0m",
      "\u001b[0;31mCancelledError\u001b[0m                            Traceback (most recent call last)",
      "Cell \u001b[0;32mIn [39], line 10\u001b[0m\n\u001b[1;32m      1\u001b[0m \u001b[38;5;66;03m#  Return properties/keys from all edges\u001b[39;00m\n\u001b[1;32m      3\u001b[0m l_query  \u001b[38;5;241m=\u001b[39m \u001b[38;5;124m\"\"\"\u001b[39m\n\u001b[1;32m      4\u001b[0m \u001b[38;5;124m   MATCH (n) - [r] -> (m)\u001b[39m\n\u001b[1;32m      5\u001b[0m \u001b[38;5;124m   // RETURN r\u001b[39m\n\u001b[1;32m      6\u001b[0m \u001b[38;5;124m   // RETURN DISTINCT type(r) AS type, keys(r)\u001b[39m\n\u001b[1;32m      7\u001b[0m \u001b[38;5;124m   RETURN DISTINCT TYPE(r)\u001b[39m\n\u001b[1;32m      8\u001b[0m \u001b[38;5;124m   \u001b[39m\u001b[38;5;124m\"\"\"\u001b[39m\u001b[38;5;241m.\u001b[39mformat()\n\u001b[0;32m---> 10\u001b[0m l_result \u001b[38;5;241m=\u001b[39m \u001b[43mmy_graph\u001b[49m\u001b[38;5;241;43m.\u001b[39;49m\u001b[43mquery\u001b[49m\u001b[43m(\u001b[49m\u001b[43ml_query\u001b[49m\u001b[43m)\u001b[49m\n\u001b[1;32m     11\u001b[0m    \u001b[38;5;66;03m#\u001b[39;00m\n\u001b[1;32m     12\u001b[0m display(\u001b[38;5;28mprint\u001b[39m(l_result))\n",
      "File \u001b[0;32m/opt/conda/lib/python3.8/site-packages/katana_enterprise/async_to_sync.py:249\u001b[0m, in \u001b[0;36mAsyncToSync.<locals>.do_wrap.<locals>.wrapper\u001b[0;34m(self, *args, **kwargs)\u001b[0m\n\u001b[1;32m    246\u001b[0m \u001b[38;5;129m@wraps\u001b[39m(underlying_func)\n\u001b[1;32m    247\u001b[0m \u001b[38;5;28;01mdef\u001b[39;00m \u001b[38;5;21mwrapper\u001b[39m(\u001b[38;5;28mself\u001b[39m, \u001b[38;5;241m*\u001b[39margs, \u001b[38;5;241m*\u001b[39m\u001b[38;5;241m*\u001b[39mkwargs):\n\u001b[1;32m    248\u001b[0m     \u001b[38;5;28;01mreturn\u001b[39;00m registry\u001b[38;5;241m.\u001b[39masync_to_sync(\n\u001b[0;32m--> 249\u001b[0m         \u001b[43munderlying_func\u001b[49m\u001b[43m(\u001b[49m\n\u001b[1;32m    250\u001b[0m \u001b[43m            \u001b[49m\u001b[43mget_self_func\u001b[49m\u001b[43m(\u001b[49m\u001b[38;5;28;43mself\u001b[39;49m\u001b[43m)\u001b[49m\u001b[43m,\u001b[49m\n\u001b[1;32m    251\u001b[0m \u001b[43m            \u001b[49m\u001b[38;5;241;43m*\u001b[39;49m\u001b[43m(\u001b[49m\u001b[43mregistry\u001b[49m\u001b[38;5;241;43m.\u001b[39;49m\u001b[43msync_to_async\u001b[49m\u001b[43m(\u001b[49m\u001b[43ma\u001b[49m\u001b[43m)\u001b[49m\u001b[43m \u001b[49m\u001b[38;5;28;43;01mfor\u001b[39;49;00m\u001b[43m \u001b[49m\u001b[43ma\u001b[49m\u001b[43m \u001b[49m\u001b[38;5;129;43;01min\u001b[39;49;00m\u001b[43m \u001b[49m\u001b[43margs\u001b[49m\u001b[43m)\u001b[49m\u001b[43m,\u001b[49m\n\u001b[1;32m    252\u001b[0m \u001b[43m            \u001b[49m\u001b[38;5;241;43m*\u001b[39;49m\u001b[38;5;241;43m*\u001b[39;49m\u001b[43m{\u001b[49m\u001b[43mk\u001b[49m\u001b[43m:\u001b[49m\u001b[43m \u001b[49m\u001b[43mregistry\u001b[49m\u001b[38;5;241;43m.\u001b[39;49m\u001b[43msync_to_async\u001b[49m\u001b[43m(\u001b[49m\u001b[43mv\u001b[49m\u001b[43m)\u001b[49m\u001b[43m \u001b[49m\u001b[38;5;28;43;01mfor\u001b[39;49;00m\u001b[43m \u001b[49m\u001b[43mk\u001b[49m\u001b[43m,\u001b[49m\u001b[43m \u001b[49m\u001b[43mv\u001b[49m\u001b[43m \u001b[49m\u001b[38;5;129;43;01min\u001b[39;49;00m\u001b[43m \u001b[49m\u001b[43mkwargs\u001b[49m\u001b[38;5;241;43m.\u001b[39;49m\u001b[43mitems\u001b[49m\u001b[43m(\u001b[49m\u001b[43m)\u001b[49m\u001b[43m}\u001b[49m\u001b[43m,\u001b[49m\n\u001b[1;32m    253\u001b[0m \u001b[43m        \u001b[49m\u001b[43m)\u001b[49m\n\u001b[1;32m    254\u001b[0m     )\n",
      "File \u001b[0;32m/opt/conda/lib/python3.8/site-packages/katana_enterprise/async_to_sync.py:176\u001b[0m, in \u001b[0;36masync_to_sync.<locals>.wrapper\u001b[0;34m(timeout, *args, **kwargs)\u001b[0m\n\u001b[1;32m    166\u001b[0m     registry \u001b[38;5;241m=\u001b[39m AsyncToSyncClassRegistry\u001b[38;5;241m.\u001b[39mget()\n\u001b[1;32m    167\u001b[0m     \u001b[38;5;28;01mreturn\u001b[39;00m registry\u001b[38;5;241m.\u001b[39masync_to_sync(\n\u001b[1;32m    168\u001b[0m         wait_for(\n\u001b[1;32m    169\u001b[0m             async_func(\n\u001b[0;32m   (...)\u001b[0m\n\u001b[1;32m    174\u001b[0m         )\n\u001b[1;32m    175\u001b[0m     )\n\u001b[0;32m--> 176\u001b[0m \u001b[38;5;28;01mreturn\u001b[39;00m \u001b[43mwait_for\u001b[49m\u001b[43m(\u001b[49m\u001b[43masync_func\u001b[49m\u001b[43m(\u001b[49m\u001b[38;5;241;43m*\u001b[39;49m\u001b[43margs\u001b[49m\u001b[43m,\u001b[49m\u001b[43m \u001b[49m\u001b[38;5;241;43m*\u001b[39;49m\u001b[38;5;241;43m*\u001b[39;49m\u001b[43mkwargs\u001b[49m\u001b[43m)\u001b[49m\u001b[43m,\u001b[49m\u001b[43m \u001b[49m\u001b[43mtimeout\u001b[49m\u001b[38;5;241;43m=\u001b[39;49m\u001b[43mtimeout\u001b[49m\u001b[43m)\u001b[49m\n",
      "File \u001b[0;32m/opt/conda/lib/python3.8/site-packages/katana_enterprise/async_to_sync.py:147\u001b[0m, in \u001b[0;36mwait_for\u001b[0;34m(coro, timeout)\u001b[0m\n\u001b[1;32m    145\u001b[0m \u001b[38;5;28;01mtry\u001b[39;00m:\n\u001b[1;32m    146\u001b[0m     future \u001b[38;5;241m=\u001b[39m asyncio\u001b[38;5;241m.\u001b[39mrun_coroutine_threadsafe(timeout_coro, loop\u001b[38;5;241m=\u001b[39mAsyncRunnerThread\u001b[38;5;241m.\u001b[39mget()\u001b[38;5;241m.\u001b[39mloop)\n\u001b[0;32m--> 147\u001b[0m     \u001b[38;5;28;01mreturn\u001b[39;00m \u001b[43mfuture\u001b[49m\u001b[38;5;241;43m.\u001b[39;49m\u001b[43mresult\u001b[49m\u001b[43m(\u001b[49m\u001b[43m)\u001b[49m\n\u001b[1;32m    148\u001b[0m \u001b[38;5;28;01mexcept\u001b[39;00m \u001b[38;5;167;01mKeyboardInterrupt\u001b[39;00m:\n\u001b[1;32m    149\u001b[0m     inner_future\u001b[38;5;241m.\u001b[39mcancel()\n",
      "File \u001b[0;32m/opt/conda/lib/python3.8/concurrent/futures/_base.py:442\u001b[0m, in \u001b[0;36mFuture.result\u001b[0;34m(self, timeout)\u001b[0m\n\u001b[1;32m    439\u001b[0m \u001b[38;5;28mself\u001b[39m\u001b[38;5;241m.\u001b[39m_condition\u001b[38;5;241m.\u001b[39mwait(timeout)\n\u001b[1;32m    441\u001b[0m \u001b[38;5;28;01mif\u001b[39;00m \u001b[38;5;28mself\u001b[39m\u001b[38;5;241m.\u001b[39m_state \u001b[38;5;129;01min\u001b[39;00m [CANCELLED, CANCELLED_AND_NOTIFIED]:\n\u001b[0;32m--> 442\u001b[0m     \u001b[38;5;28;01mraise\u001b[39;00m CancelledError()\n\u001b[1;32m    443\u001b[0m \u001b[38;5;28;01melif\u001b[39;00m \u001b[38;5;28mself\u001b[39m\u001b[38;5;241m.\u001b[39m_state \u001b[38;5;241m==\u001b[39m FINISHED:\n\u001b[1;32m    444\u001b[0m     \u001b[38;5;28;01mreturn\u001b[39;00m \u001b[38;5;28mself\u001b[39m\u001b[38;5;241m.\u001b[39m__get_result()\n",
      "\u001b[0;31mCancelledError\u001b[0m: "
     ]
    }
   ],
   "source": [
    "\n",
    "#  Return properties/keys from all edges\n",
    "\n",
    "l_query  = \"\"\"\n",
    "   MATCH (n) - [r] -> (m)\n",
    "   // RETURN r\n",
    "   // RETURN DISTINCT type(r) AS type, keys(r)\n",
    "   RETURN DISTINCT TYPE(r)\n",
    "   \"\"\".format()\n",
    "\n",
    "l_result = my_graph.query(l_query)\n",
    "   #\n",
    "display(print(l_result))\n"
   ]
  },
  {
   "cell_type": "markdown",
   "id": "4e2a2144-c7e9-4ae6-b22d-f44805c5e211",
   "metadata": {},
   "source": [
    "#  Sample Cyphers: Diagnostics"
   ]
  },
  {
   "cell_type": "code",
   "execution_count": null,
   "id": "70e3ad47-736c-424c-9656-7a35bcc52453",
   "metadata": {},
   "outputs": [],
   "source": [
    "\n",
    "#  Also at,\n",
    "#     http://localhost:8080/v2/widgets/katana-frontend\n",
    "\n",
    "my_client.widgets().operations()\n",
    "\n",
    "# my_client.widgets().databases()\n",
    "# my_client.widgets().dashboard()                #  No-op currently\n"
   ]
  },
  {
   "cell_type": "code",
   "execution_count": null,
   "id": "1e6932ad-f512-49df-8cba-9565fed820f5",
   "metadata": {},
   "outputs": [],
   "source": [
    "my_graph.query(\"CALL graph.schema() RETURN *\")\n"
   ]
  },
  {
   "cell_type": "code",
   "execution_count": null,
   "id": "0e166a76-a306-4d40-ab79-87d636be7f1b",
   "metadata": {},
   "outputs": [],
   "source": [
    "# result.raw() went away\n",
    "#\n",
    "#  to pretty print a result as JSON, use ..\n",
    "\n",
    "#  Just to get some data ..\n",
    "#\n",
    "l_result = my_graph.query(\"\"\"\n",
    "\n",
    "   MATCH (n) - [r] -> (m)\n",
    "   RETURN DISTINCT type(r) AS type, keys(r)\n",
    "   \n",
    "   \"\"\")\n",
    "\n",
    "\n",
    "import json\n",
    "\n",
    "l_result_json = json.loads(l_result.to_json())\n",
    "l_result_strn = json.dumps(l_result_json, indent=2)\n",
    "\n",
    "print(l_result_strn)"
   ]
  },
  {
   "cell_type": "code",
   "execution_count": null,
   "id": "4b5a95fd-8f26-4ec4-b71c-c489154a1b31",
   "metadata": {},
   "outputs": [],
   "source": [
    "#  Produce a visual graph\n",
    "\n",
    "result = my_graph.query(\"\"\"\n",
    "\n",
    "   MATCH (x) -[r]-> (a)\n",
    "   RETURN x, r AS rel, a\n",
    "   LIMIT 100 \n",
    "   \n",
    "   \"\"\",\n",
    "   contextualize=True)\n",
    "\n",
    "result.view()\n"
   ]
  },
  {
   "cell_type": "markdown",
   "id": "88aa8f4e-e131-445e-b9c5-767580ac9a3f",
   "metadata": {},
   "source": [
    "#  More Cypher "
   ]
  },
  {
   "cell_type": "code",
   "execution_count": null,
   "id": "cfd2a773-db78-4cb5-a839-b0cb86233b2a",
   "metadata": {},
   "outputs": [],
   "source": [
    "#  Parameterized query, works with (Airports) ..\n",
    "\n",
    "l_fname = \"MKE\"\n",
    "\n",
    "l_query  = \"\"\"\n",
    "\n",
    "   MATCH (n: Airport) \n",
    "   WHERE n.id = '{0}'\n",
    "   RETURN n.airport_name\n",
    "\n",
    "   \"\"\".format(l_fname)\n",
    "\n",
    "l_result1 = my_graph.query(l_query)\n",
    "\n",
    "display(print(l_result1[0:5]))\n"
   ]
  },
  {
   "cell_type": "code",
   "execution_count": null,
   "id": "f60b7f2d-8608-4d70-98c6-23840faac735",
   "metadata": {},
   "outputs": [],
   "source": [
    "\n",
    "#  Regex query, works with (Airports) ..\n",
    "\n",
    "#  0.4, returns zero data ..\n",
    "\n",
    "l_fname = \"/^M*/\"\n",
    "\n",
    "l_query  = \"\"\"\n",
    "\n",
    "   MATCH (n: Airport) \n",
    "   WHERE n.airport_name =~ '{0}'\n",
    "   RETURN n.id, n.airport_name\n",
    "\n",
    "   \"\"\".format(l_fname)\n",
    "\n",
    "l_result1 = my_graph.query(l_query)\n",
    "\n",
    "display(print(l_result1[0:5]))"
   ]
  }
 ],
 "metadata": {
  "kernelspec": {
   "display_name": "Python 3 (ipykernel)",
   "language": "python",
   "name": "python3"
  },
  "language_info": {
   "codemirror_mode": {
    "name": "ipython",
    "version": 3
   },
   "file_extension": ".py",
   "mimetype": "text/x-python",
   "name": "python",
   "nbconvert_exporter": "python",
   "pygments_lexer": "ipython3",
   "version": "3.8.13"
  }
 },
 "nbformat": 4,
 "nbformat_minor": 5
}
