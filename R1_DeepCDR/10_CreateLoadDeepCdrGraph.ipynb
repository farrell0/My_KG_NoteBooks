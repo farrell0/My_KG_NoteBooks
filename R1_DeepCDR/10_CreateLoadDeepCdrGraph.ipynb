{
 "cells": [
  {
   "cell_type": "code",
   "execution_count": null,
   "id": "57a6c20f-3419-4768-92a0-f106c5931689",
   "metadata": {},
   "outputs": [],
   "source": [
    "\n",
    "#  Notebook to load the DeepCDR graph ..\n",
    "#\n",
    "\n"
   ]
  },
  {
   "cell_type": "markdown",
   "id": "212d8ad3-a876-4638-b95e-a0702f897587",
   "metadata": {},
   "source": [
    "#  Setup: Display options .."
   ]
  },
  {
   "cell_type": "code",
   "execution_count": null,
   "id": "8a38ebd7-d1d9-47a8-955c-a8270b024543",
   "metadata": {},
   "outputs": [],
   "source": [
    "\n",
    "%xmode Minimal\n",
    "\n",
    "#  Setting display options \n",
    "\n",
    "import pandas as pd\n",
    "   #\n",
    "pd.set_option(\"display.width\", 480)\n",
    "\n",
    "#  Sets horizontal scroll for wide outputs\n",
    "#\n",
    "from IPython.display import display, HTML\n",
    "display(HTML(\"\"))\n",
    "\n",
    "from tabulate import tabulate\n",
    "\n",
    "\n",
    "print(\"--\")\n"
   ]
  },
  {
   "cell_type": "markdown",
   "id": "8ac9bc73-49ab-44bf-a21a-a2a589622a51",
   "metadata": {},
   "source": [
    "#  Setup: Connectivity .."
   ]
  },
  {
   "cell_type": "code",
   "execution_count": null,
   "id": "e87b75ba-c072-4111-8cca-4b4f394a0fce",
   "metadata": {},
   "outputs": [],
   "source": [
    "\n",
    "from katana import remote\n",
    "\n",
    "my_client = remote.Client()\n",
    "\n",
    "print(my_client)\n",
    "print(my_client.server_version)\n"
   ]
  },
  {
   "cell_type": "code",
   "execution_count": null,
   "id": "d3a77f99-f11b-4105-ab43-17ce605b15e8",
   "metadata": {},
   "outputs": [],
   "source": [
    "\n",
    "NUM_PARTITIONS  = 3\n",
    "   #\n",
    "DB_NAME         = \"my_db\"\n",
    "GRAPH_NAME      = \"my_graph\"\n",
    "\n",
    "print(\"--\")\n"
   ]
  },
  {
   "cell_type": "code",
   "execution_count": null,
   "id": "73f507b5-9a82-4441-a79f-cc2fc239968a",
   "metadata": {},
   "outputs": [],
   "source": [
    "# ##################################################################"
   ]
  },
  {
   "cell_type": "code",
   "execution_count": null,
   "id": "7f2292b8-7df0-49a0-b3da-523f56cfe4f8",
   "metadata": {},
   "outputs": [],
   "source": [
    "\n",
    "#  DELETE ALL GRAPHS\n",
    "\n",
    "for l_database in my_client.databases():\n",
    "   for l_graph in my_client.get_database(name = l_database.name).graphs_in_database():\n",
    "      l_handle = my_client.get_database(name = l_database.name).get_graph_by_id(id = l_graph.graph_id)\n",
    "      l_handle.delete()\n",
    "\n",
    "for l_graph in my_client.graphs():\n",
    "   print(\"GRAPH ID: \", l_graph.graph_id, \"      GRAPH Version: \", l_graph.version)\n",
    "\n",
    "print(\"--\")\n"
   ]
  },
  {
   "cell_type": "code",
   "execution_count": null,
   "id": "c989fda5-3ce8-4589-bf36-4da42d3d993c",
   "metadata": {},
   "outputs": [],
   "source": [
    "\n",
    "#  DELETE ONE SPECIFIC GRAPH ONLY\n",
    "\n",
    "for l_database in my_client.databases():\n",
    "   for l_graph in my_client.get_database(name = l_database.name).graphs_in_database():\n",
    "      if ((l_database.name == DB_NAME) and (l_graph.name == GRAPH_NAME)):   \n",
    "         l_handle = my_client.get_database(name = l_database.name).get_graph_by_id(id = l_graph.graph_id)\n",
    "         l_handle.delete()\n",
    "\n",
    "for l_graph in my_client.graphs():\n",
    "   print(\"GRAPH ID: \", l_graph.graph_id, \"      GRAPH Version: \", l_graph.version)\n",
    "\n",
    "print(\"--\")\n"
   ]
  },
  {
   "cell_type": "code",
   "execution_count": null,
   "id": "71f69a0e-451b-4679-b49c-5db1208d4c8f",
   "metadata": {},
   "outputs": [],
   "source": [
    "\n",
    "#  DELETE ALL DATABASES\n",
    "\n",
    "for l_database in my_client.databases():\n",
    "   if (l_database.name != \"default\"):\n",
    "      my_client.get_database(name = l_database.name).delete_database()\n",
    "      print(\"--\")\n",
    "\n",
    "for l_database in my_client.databases():\n",
    "   print(\"DB ID: \", l_database.database_id, \"     DB Name: \", l_database.name)\n"
   ]
  },
  {
   "cell_type": "code",
   "execution_count": null,
   "id": "a3b3bc00-fafb-481d-ba5a-8b52ae7d6e79",
   "metadata": {},
   "outputs": [],
   "source": [
    "\n",
    "#  CREATE DATABASE\n",
    "\n",
    "my_database = my_client.create_database(name = DB_NAME)\n",
    "\n",
    "print(my_database.database_id)\n"
   ]
  },
  {
   "cell_type": "code",
   "execution_count": null,
   "id": "b8ba088b-2ec5-4b2a-8171-3c87ddffb47c",
   "metadata": {},
   "outputs": [],
   "source": [
    "\n",
    "#  CREATE GRAPH\n",
    "#\n",
    "my_graph = my_client.get_database(name = DB_NAME).create_graph(name = GRAPH_NAME, num_partitions = NUM_PARTITIONS)\n",
    "\n",
    "print(my_graph)\n"
   ]
  },
  {
   "cell_type": "code",
   "execution_count": null,
   "id": "c3217f3b-dd84-47a3-ae2a-5033d122604a",
   "metadata": {},
   "outputs": [],
   "source": [
    "\n",
    "#  CONNECT TO GRAPH\n",
    "\n",
    "my_graph, *_ = my_client.get_database(name=DB_NAME).find_graphs_by_name(GRAPH_NAME)\n",
    "\n",
    "print(my_graph)\n"
   ]
  },
  {
   "cell_type": "code",
   "execution_count": null,
   "id": "918521c4-3808-4d15-a09d-8417964f5fb6",
   "metadata": {},
   "outputs": [],
   "source": [
    "# ##################################################################"
   ]
  },
  {
   "cell_type": "code",
   "execution_count": null,
   "id": "e576c04e-9cd8-41e0-a1a3-ae09397e4f87",
   "metadata": {},
   "outputs": [],
   "source": [
    "\n",
    "#  Now that we share servers, get a better list of databases and graphs ..\n",
    "#\n",
    "\n",
    "for l_each_d in my_client.databases():\n",
    "   print(\"Database Name: %-28s   Id: %s\" % (l_each_d.name, l_each_d.database_id))\n",
    "      #\n",
    "   for l_each_g in my_client.get_database(name=l_each_d.name).graphs_in_database(): \n",
    "      print(\"   Graph Name: %-28s      Version: %-8d   Id: %s\" % (l_each_g.name, l_each_g.version, l_each_g.graph_id))\n",
    "\n",
    "\n",
    "print(\"\"  )\n",
    "print(\"--\")\n"
   ]
  },
  {
   "cell_type": "code",
   "execution_count": null,
   "id": "9cdf1e09-6999-42e6-afe5-d6a930d1a4dc",
   "metadata": {},
   "outputs": [],
   "source": [
    "\n",
    "display(my_graph.num_nodes())\n",
    "display(my_graph.num_edges())\n"
   ]
  },
  {
   "cell_type": "code",
   "execution_count": null,
   "id": "c4795c79-145b-46ea-ac7e-ea29131325c8",
   "metadata": {},
   "outputs": [],
   "source": [
    "\n",
    "my_graph.query(\"CALL graph.schema() RETURN *\")\n"
   ]
  },
  {
   "cell_type": "markdown",
   "id": "9d1dee0a-411c-4269-95b3-9cb5ded64676",
   "metadata": {},
   "source": [
    "#  Step 01: Process CSV files .."
   ]
  },
  {
   "cell_type": "code",
   "execution_count": null,
   "id": "1af9c83f-ba62-4757-bd8d-d74c49d4e7c9",
   "metadata": {},
   "outputs": [],
   "source": [
    "\n",
    "#  Read the CSVs as Step 01 towards populating our graph\n",
    "#\n",
    "\n",
    "l_folder   = \"./10_Data/\"\n",
    "\n",
    "\n",
    "#  Helper function, see what's going on \n",
    "#\n",
    "def f_outputsomething(arg1, arg2):\n",
    "   print(\"Dataframe: %-32s   Number of records: %d\" % (arg2, len(arg1)))   \n",
    "      #\n",
    "   print(tabulate(arg1.head(2), headers='keys', tablefmt='psql'))\n",
    "   print()\n",
    "    \n",
    "\n",
    "#  Nodes\n",
    "#\n",
    "df_N_cell_line                   = pd.read_csv(l_folder + \"21_N_cell_lines.csv\"                  , header = \"infer\", delimiter = \",\")\n",
    "f_outputsomething(df_N_cell_line, \"Node, Cell Line\")\n",
    "df_N_gene                        = pd.read_csv(l_folder + \"22_N_genes.csv\"                       , header = \"infer\", delimiter = \",\")\n",
    "f_outputsomething(df_N_gene,      \"Node, Gene\")\n",
    "df_N_gdsc                        = pd.read_csv(l_folder + \"23_N_gdsc.csv\"                        , header = \"infer\", delimiter = \",\")\n",
    "f_outputsomething(df_N_gdsc,      \"Node, GDSC\")\n",
    "df_N_drug                        = pd.read_csv(l_folder + \"24_N_drugs.csv\"                       , header = \"infer\", delimiter = \",\")\n",
    "f_outputsomething(df_N_drug,      \"Node, Drug\")\n",
    "\n",
    "\n",
    "#  Edges\n",
    "#\n",
    "\n",
    "df_E_gdsc_cell_line              = pd.read_csv(l_folder + \"31_E_gdsc_cell_line.csv\"              ,header = \"infer\", delimiter = \",\")\n",
    "f_outputsomething(df_E_gdsc_cell_line,             \"Edge, GDSC Cell Line\")\n",
    "df_E_cell_line_gene_expression   = pd.read_csv(l_folder + \"32_E_cell_line_gene_expression.csv\"   ,header = \"infer\", delimiter = \",\")\n",
    "f_outputsomething(df_E_cell_line_gene_expression,  \"Edge, Cell Line Expression\")\n",
    "df_E_cell_line_gene_methylation  = pd.read_csv(l_folder + \"33_E_cell_line_gene_methylation.csv\"  ,header = \"infer\", delimiter = \",\")\n",
    "f_outputsomething(df_E_cell_line_gene_methylation, \"Edge, Cell Line Gene Methylation\")\n",
    "df_E_gdsc_drug                   = pd.read_csv(l_folder + \"34_E_gdsc_drug.csv\"                   ,header = \"infer\", delimiter = \",\")\n",
    "f_outputsomething(df_E_gdsc_drug,                  \"Edge, GDSC Drug\")\n",
    "df_E_cell_line_gene_mutation     = pd.read_csv(l_folder + \"35_E_cell_line_gene_mutation.csv\"     ,header = \"infer\", delimiter = \",\")\n",
    "f_outputsomething(df_E_cell_line_gene_mutation,    \"Edge, Cell Line Gene Mutation\")\n",
    "\n",
    "        \n",
    "print(\"\")\n",
    "print(\"--\")\n"
   ]
  },
  {
   "cell_type": "code",
   "execution_count": 31,
   "id": "3271fdaa-0f21-4f75-b1b3-b8996ff3ea84",
   "metadata": {},
   "outputs": [
    {
     "ename": "NameError",
     "evalue": "name 'df_PatientVisitNode' is not defined",
     "output_type": "error",
     "traceback": [
      "\u001b[0;31mNameError\u001b[0m\u001b[0;31m:\u001b[0m name 'df_PatientVisitNode' is not defined\n"
     ]
    }
   ],
   "source": [
    "\n",
    "#  At this point we have several Pandas DataFrames; import them into the graph-\n",
    "#\n",
    "#     Why use Pandas DataFrames versus Dask ?\n",
    "#     \n",
    "#     .  The data is small enough\n",
    "#     .  Dask DataFrames currently (beta) have to be sourced from a shared/public drive\n",
    "#\n",
    "\n",
    "\n",
    "from katana.remote import import_data\n",
    "\n",
    "\n",
    "#  Just nodes\n",
    "#\n",
    "with import_data.DataFrameImporter(my_graph) as df_importer:   \n",
    "   df_importer.nodes_dataframe(\n",
    "      df_N_cell_line,\n",
    "      id_column             = \"id\",\n",
    "      id_space              = \"CellLine\",  \n",
    "      label                 = \"CellLine\",  \n",
    "      ) \n",
    "   df_importer.nodes_dataframe(\n",
    "      df_N_gene,\n",
    "      id_column             = \"id\",\n",
    "      id_space              = \"Gene\",  \n",
    "      label                 = \"Gene\",  \n",
    "      ) \n",
    "   df_importer.nodes_dataframe(\n",
    "      df_N_gdsc,\n",
    "      id_column             = \"id\",\n",
    "      id_space              = \"GDSC\",  \n",
    "      label                 = \"GDSC\",  \n",
    "      ) \n",
    "   df_importer.nodes_dataframe(\n",
    "      df_N_drug,\n",
    "      id_column             = \"id\",\n",
    "      id_space              = \"Drug\",  \n",
    "      label                 = \"Drug\",  \n",
    "      ) \n",
    "   df_importer.insert()\n",
    "    \n",
    "\n",
    "#  Just edges\n",
    "#\n",
    "with import_data.DataFrameImporter(my_graph) as df_importer:   \n",
    "   df_importer.edges_dataframe(\n",
    "      df_PatientVisitToEntityEdge_N, \n",
    "      source_id_space       = \"PatientVisit\", \n",
    "      destination_id_space  = \"UmlsEntity\",   \n",
    "      source_column         = \"start_id\",\n",
    "      destination_column    = \"end_id\",\n",
    "      type                  = \"VISIT_CONTAINS\"\n",
    "      )\n",
    "   df_importer.edges_dataframe(\n",
    "      df_PatientVisitToEntityEdge_S, \n",
    "      source_id_space       = \"UmlsEntity\", \n",
    "      destination_id_space  = \"PatientVisit\",   \n",
    "      source_column         = \"start_id\",\n",
    "      destination_column    = \"end_id\",\n",
    "      type                  = \"VISIT_CONTAINS\"\n",
    "      )\n",
    "   df_importer.edges_dataframe(\n",
    "      df_EntityToVocabularyEdge_N, \n",
    "      source_id_space       = \"UmlsEntity\", \n",
    "      destination_id_space  = \"UmlsVocabulary\",   \n",
    "      source_column         = \"start_id\",\n",
    "      destination_column    = \"end_id\",\n",
    "      type                  = \"ALSO_CODED_AS\"\n",
    "      )\n",
    "   df_importer.edges_dataframe(\n",
    "      df_EntityToVocabularyEdge_S, \n",
    "      source_id_space       = \"UmlsVocabulary\", \n",
    "      destination_id_space  = \"UmlsEntity\",   \n",
    "      source_column         = \"start_id\",\n",
    "      destination_column    = \"end_id\",\n",
    "      type                  = \"ALSO_CODED_AS\"\n",
    "      )\n",
    "\n",
    "   df_importer.edges_dataframe(\n",
    "      df_PatientVisitToMedicalSpecialtyEdge_N, \n",
    "      source_id_space       = \"PatientVisit\", \n",
    "      destination_id_space  = \"MedicalSpecialty\",   \n",
    "      source_column         = \"start_id\",\n",
    "      destination_column    = \"end_id\",\n",
    "      type                  = \"IS_OF_SPECIALTY\"\n",
    "      )\n",
    "   df_importer.edges_dataframe(\n",
    "      df_PatientVisitToMedicalSpecialtyEdge_S, \n",
    "      source_id_space       = \"MedicalSpecialty\", \n",
    "      destination_id_space  = \"PatientVisit\",   \n",
    "      source_column         = \"start_id\",\n",
    "      destination_column    = \"end_id\",\n",
    "      type                  = \"IS_OF_SPECIALTY\"\n",
    "      )\n",
    "\n",
    "   df_importer.edges_dataframe(\n",
    "      df_PatientVisitToKeywordEdge_N, \n",
    "      source_id_space       = \"PatientVisit\", \n",
    "      destination_id_space  = \"Keyword\",   \n",
    "      source_column         = \"start_id\",\n",
    "      destination_column    = \"end_id\",\n",
    "      type                  = \"IS_OF_KEYWORD\"\n",
    "      )\n",
    "   df_importer.edges_dataframe(\n",
    "      df_PatientVisitToKeywordEdge_S, \n",
    "      source_id_space       = \"Keyword\", \n",
    "      destination_id_space  = \"PatientVisit\",   \n",
    "      source_column         = \"start_id\",\n",
    "      destination_column    = \"end_id\",\n",
    "      type                  = \"IS_OF_KEYWORD\"\n",
    "      )\n",
    "    \n",
    "   df_importer.node_id_property_name(\"id\")\n",
    "   df_importer.insert()\n",
    "\n",
    "\n",
    "      ###\n",
    "\n",
    "\n",
    "print(\"\")\n",
    "print(\"\")\n",
    "   #\n",
    "print(\"Number of nodes in frame: %d   Numbers of edges in frame: %d\" % ( l_nodecnt,            l_edgecnt            ))\n",
    "print(\"Number of nodes in graph: %d   Numbers of edges in graph: %d\" % ( my_graph.num_nodes(), my_graph.num_edges() ))\n",
    "   #\n",
    "print(\"\")\n",
    "print(\"--\")\n",
    "\n",
    "\n",
    "#  Sample ouptut,\n",
    "#\n",
    "#     Number of nodes in frame: 75703   Numbers of edges in frame: 1145176\n",
    "#     \n",
    "#     Number of nodes in graph: 75703   Numbers of edges in graph: 1145176\n"
   ]
  },
  {
   "cell_type": "code",
   "execution_count": null,
   "id": "5d17c412-4a0c-450c-a0c4-1a3016e3c587",
   "metadata": {},
   "outputs": [],
   "source": []
  },
  {
   "cell_type": "code",
   "execution_count": null,
   "id": "748e1a50-1610-4d1e-92a2-f66e978ab8dc",
   "metadata": {},
   "outputs": [],
   "source": []
  },
  {
   "cell_type": "code",
   "execution_count": null,
   "id": "33cb2391-05d4-4d79-b38c-8733e2775685",
   "metadata": {},
   "outputs": [],
   "source": []
  },
  {
   "cell_type": "code",
   "execution_count": null,
   "id": "b25c81e2-6ef3-47a0-b53b-82ccf875f57b",
   "metadata": {},
   "outputs": [],
   "source": []
  }
 ],
 "metadata": {
  "kernelspec": {
   "display_name": "Python 3 (ipykernel)",
   "language": "python",
   "name": "python3"
  },
  "language_info": {
   "codemirror_mode": {
    "name": "ipython",
    "version": 3
   },
   "file_extension": ".py",
   "mimetype": "text/x-python",
   "name": "python",
   "nbconvert_exporter": "python",
   "pygments_lexer": "ipython3",
   "version": "3.8.13"
  }
 },
 "nbformat": 4,
 "nbformat_minor": 5
}
