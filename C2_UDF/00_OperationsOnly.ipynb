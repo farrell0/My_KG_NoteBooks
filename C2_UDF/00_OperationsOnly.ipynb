{
 "cells": [
  {
   "cell_type": "code",
   "execution_count": 1,
   "id": "8a83b01a-0464-48d0-a6db-c4444dfd2ed3",
   "metadata": {},
   "outputs": [
    {
     "name": "stdout",
     "output_type": "stream",
     "text": [
      "<katana_enterprise.remote.sync_wrappers.Client object at 0x7f792003e160>\n"
     ]
    }
   ],
   "source": [
    "\n",
    "from katana import remote\n",
    "from katana.remote import import_data\n",
    "\n",
    "my_client = remote.Client()\n",
    "\n",
    "print(my_client)\n"
   ]
  },
  {
   "cell_type": "code",
   "execution_count": 2,
   "id": "b8127716-da8b-4bd3-9e2f-f572146484bf",
   "metadata": {},
   "outputs": [
    {
     "name": "stdout",
     "output_type": "stream",
     "text": [
      "--\n"
     ]
    }
   ],
   "source": [
    "\n",
    "NUM_PARTITIONS  = 3\n",
    "   #\n",
    "DB_NAME         = \"my_db\"\n",
    "GRAPH_NAME      = \"my_graph\"\n",
    "\n",
    "print(\"--\")\n"
   ]
  },
  {
   "cell_type": "code",
   "execution_count": 3,
   "id": "13ef93e6-96da-4048-ab39-03738961fb32",
   "metadata": {},
   "outputs": [
    {
     "name": "stdout",
     "output_type": "stream",
     "text": [
      "<_Graph my_graph, H2oBBmL3EBBp33jGQ2h63qEct3NXfGc2UNcZNZPYfVsH, 61>\n"
     ]
    }
   ],
   "source": [
    "\n",
    "#  CONNECT TO GRAPH\n",
    "\n",
    "my_graph, *_ = my_client.get_database(name=DB_NAME).find_graphs_by_name(GRAPH_NAME)\n",
    "\n",
    "print(my_graph)\n"
   ]
  },
  {
   "cell_type": "code",
   "execution_count": null,
   "id": "bea31424-a8df-4110-90e6-3407ce766179",
   "metadata": {},
   "outputs": [],
   "source": [
    "# ##################################################################"
   ]
  },
  {
   "cell_type": "code",
   "execution_count": 4,
   "id": "1a5d39d2-bed8-4592-a5df-c3d32a01e7ca",
   "metadata": {},
   "outputs": [
    {
     "data": {
      "text/html": [
       "\n",
       "                    <iframe\n",
       "                        id=\"operations_widget\"\n",
       "                        src=\"about:blank\"\n",
       "                        title=\"Operations Widget\"\n",
       "                        height=\"400px\"\n",
       "                        width=\"100%\"\n",
       "                        frameborder=\"0\"\n",
       "                        allow=\"clipboard-write\"\n",
       "                        allowfullscreen\n",
       "                    >\n",
       "                    </iframe>\n",
       "                    <script type=\"text/javascript\">\n",
       "                        (function () {\n",
       "                            const operations_url = `${\n",
       "                                \"http://amusing-fawn-controller:8080/v2\".includes(\"controller\") ?\n",
       "                                window.location.origin + \"/v2\" : \"http://amusing-fawn-controller:8080/v2\"\n",
       "                            }/widgets/operations-widget`\n",
       "                            setTimeout(() => {\n",
       "                                document.getElementById(\"operations_widget\").setAttribute('src', operations_url)\n",
       "                            }, 10)\n",
       "                        })()\n",
       "                    </script>\n",
       "                "
      ],
      "text/plain": [
       "<IPython.core.display.HTML object>"
      ]
     },
     "metadata": {},
     "output_type": "display_data"
    }
   ],
   "source": [
    "\n",
    "my_client.widgets().operations()\n"
   ]
  }
 ],
 "metadata": {
  "kernelspec": {
   "display_name": "Python 3 (ipykernel)",
   "language": "python",
   "name": "python3"
  },
  "language_info": {
   "codemirror_mode": {
    "name": "ipython",
    "version": 3
   },
   "file_extension": ".py",
   "mimetype": "text/x-python",
   "name": "python",
   "nbconvert_exporter": "python",
   "pygments_lexer": "ipython3",
   "version": "3.8.13"
  }
 },
 "nbformat": 4,
 "nbformat_minor": 5
}
