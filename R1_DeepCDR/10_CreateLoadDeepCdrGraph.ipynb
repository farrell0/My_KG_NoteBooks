{
 "cells": [
  {
   "cell_type": "code",
   "execution_count": null,
   "id": "57a6c20f-3419-4768-92a0-f106c5931689",
   "metadata": {},
   "outputs": [],
   "source": [
    "\n",
    "#  Load the DeepCDR graph\n",
    "#\n",
    "\n"
   ]
  },
  {
   "cell_type": "code",
   "execution_count": null,
   "id": "8a38ebd7-d1d9-47a8-955c-a8270b024543",
   "metadata": {},
   "outputs": [],
   "source": [
    "\n",
    "%xmode Minimal\n",
    "\n",
    "#  Setting display options \n",
    "\n",
    "import pandas as pd\n",
    "   #\n",
    "pd.set_option(\"display.width\", 480)\n",
    "\n",
    "#  Sets horizontal scroll for wide outputs\n",
    "#\n",
    "from IPython.display import display, HTML\n",
    "display(HTML(\"\"))\n",
    "\n",
    "from tabulate import tabulate\n",
    "\n",
    "\n",
    "print(\"--\")\n"
   ]
  },
  {
   "cell_type": "code",
   "execution_count": 2,
   "id": "e87b75ba-c072-4111-8cca-4b4f394a0fce",
   "metadata": {},
   "outputs": [
    {
     "name": "stdout",
     "output_type": "stream",
     "text": [
      "<katana.remote.sync_wrappers.Client object at 0x7f8c0c210070>\n",
      "0.8.0+20230301T170702Z.5ee413de9.dev\n"
     ]
    }
   ],
   "source": [
    "\n",
    "from katana import remote\n",
    "\n",
    "my_client = remote.Client()\n",
    "\n",
    "print(my_client)\n",
    "print(my_client.server_version)\n"
   ]
  },
  {
   "cell_type": "code",
   "execution_count": 3,
   "id": "d3a77f99-f11b-4105-ab43-17ce605b15e8",
   "metadata": {},
   "outputs": [
    {
     "name": "stdout",
     "output_type": "stream",
     "text": [
      "--\n"
     ]
    }
   ],
   "source": [
    "\n",
    "NUM_PARTITIONS  = 3\n",
    "   #\n",
    "DB_NAME         = \"my_db\"\n",
    "GRAPH_NAME      = \"my_graph\"\n",
    "\n",
    "print(\"--\")\n"
   ]
  },
  {
   "cell_type": "code",
   "execution_count": null,
   "id": "73f507b5-9a82-4441-a79f-cc2fc239968a",
   "metadata": {},
   "outputs": [],
   "source": [
    "# ##################################################################"
   ]
  },
  {
   "cell_type": "code",
   "execution_count": null,
   "id": "7f2292b8-7df0-49a0-b3da-523f56cfe4f8",
   "metadata": {},
   "outputs": [],
   "source": [
    "\n",
    "#  DELETE ALL GRAPHS\n",
    "\n",
    "for l_database in my_client.databases():\n",
    "   for l_graph in my_client.get_database(name = l_database.name).graphs_in_database():\n",
    "      l_handle = my_client.get_database(name = l_database.name).get_graph_by_id(id = l_graph.graph_id)\n",
    "      l_handle.delete()\n",
    "\n",
    "for l_graph in my_client.graphs():\n",
    "   print(\"GRAPH ID: \", l_graph.graph_id, \"      GRAPH Version: \", l_graph.version)\n",
    "\n",
    "print(\"--\")\n"
   ]
  },
  {
   "cell_type": "code",
   "execution_count": 6,
   "id": "c989fda5-3ce8-4589-bf36-4da42d3d993c",
   "metadata": {},
   "outputs": [
    {
     "name": "stdout",
     "output_type": "stream",
     "text": [
      "GRAPH ID:  CrnKKNjGvC7bCTDi1pEgGQrKbdfRAS1ekdcHaLB4nwqG       GRAPH Version:  10\n",
      "--\n"
     ]
    }
   ],
   "source": [
    "\n",
    "#  DELETE ONE SPECIFIC GRAPH ONLY\n",
    "\n",
    "for l_database in my_client.databases():\n",
    "   for l_graph in my_client.get_database(name = l_database.name).graphs_in_database():\n",
    "      if ((l_database.name == DB_NAME) and (l_graph.name == GRAPH_NAME)):   \n",
    "         l_handle = my_client.get_database(name = l_database.name).get_graph_by_id(id = l_graph.graph_id)\n",
    "         l_handle.delete()\n",
    "\n",
    "for l_graph in my_client.graphs():\n",
    "   print(\"GRAPH ID: \", l_graph.graph_id, \"      GRAPH Version: \", l_graph.version)\n",
    "\n",
    "print(\"--\")\n"
   ]
  },
  {
   "cell_type": "code",
   "execution_count": null,
   "id": "71f69a0e-451b-4679-b49c-5db1208d4c8f",
   "metadata": {},
   "outputs": [],
   "source": [
    "\n",
    "#  DELETE ALL DATABASES\n",
    "\n",
    "for l_database in my_client.databases():\n",
    "   if (l_database.name != \"default\"):\n",
    "      my_client.get_database(name = l_database.name).delete_database()\n",
    "      print(\"--\")\n",
    "\n",
    "for l_database in my_client.databases():\n",
    "   print(\"DB ID: \", l_database.database_id, \"     DB Name: \", l_database.name)\n"
   ]
  },
  {
   "cell_type": "code",
   "execution_count": null,
   "id": "a3b3bc00-fafb-481d-ba5a-8b52ae7d6e79",
   "metadata": {},
   "outputs": [],
   "source": [
    "\n",
    "#  CREATE DATABASE\n",
    "\n",
    "my_database = my_client.create_database(name = DB_NAME)\n",
    "\n",
    "print(my_database.database_id)\n"
   ]
  },
  {
   "cell_type": "code",
   "execution_count": 8,
   "id": "b8ba088b-2ec5-4b2a-8171-3c87ddffb47c",
   "metadata": {},
   "outputs": [
    {
     "name": "stdout",
     "output_type": "stream",
     "text": [
      "<_Graph my_graph, 4pMDENcYM5YXRWGyo2F2bBT4rsy3e64YW3ea6g57QbTf, 0>\n"
     ]
    }
   ],
   "source": [
    "\n",
    "#  CREATE GRAPH\n",
    "#\n",
    "my_graph = my_client.get_database(name = DB_NAME).create_graph(name = GRAPH_NAME, num_partitions = NUM_PARTITIONS)\n",
    "\n",
    "print(my_graph)\n"
   ]
  },
  {
   "cell_type": "code",
   "execution_count": null,
   "id": "c3217f3b-dd84-47a3-ae2a-5033d122604a",
   "metadata": {},
   "outputs": [],
   "source": [
    "\n",
    "#  CONNECT TO GRAPH\n",
    "\n",
    "my_graph, *_ = my_client.get_database(name=DB_NAME).find_graphs_by_name(GRAPH_NAME)\n",
    "\n",
    "print(my_graph)\n"
   ]
  },
  {
   "cell_type": "code",
   "execution_count": null,
   "id": "918521c4-3808-4d15-a09d-8417964f5fb6",
   "metadata": {},
   "outputs": [],
   "source": [
    "# ##################################################################"
   ]
  },
  {
   "cell_type": "code",
   "execution_count": null,
   "id": "867df481-a7e2-4617-aac5-b2bb41ed0da4",
   "metadata": {},
   "outputs": [],
   "source": []
  },
  {
   "cell_type": "code",
   "execution_count": null,
   "id": "33cb2391-05d4-4d79-b38c-8733e2775685",
   "metadata": {},
   "outputs": [],
   "source": []
  },
  {
   "cell_type": "code",
   "execution_count": null,
   "id": "b25c81e2-6ef3-47a0-b53b-82ccf875f57b",
   "metadata": {},
   "outputs": [],
   "source": []
  },
  {
   "cell_type": "code",
   "execution_count": null,
   "id": "9cdf1e09-6999-42e6-afe5-d6a930d1a4dc",
   "metadata": {},
   "outputs": [],
   "source": [
    "\n",
    "display(my_graph.num_nodes())\n",
    "display(my_graph.num_edges())\n"
   ]
  },
  {
   "cell_type": "code",
   "execution_count": null,
   "id": "eff479f3-d0f2-44d2-830b-d6b8aa8d4ee9",
   "metadata": {},
   "outputs": [],
   "source": [
    "\n",
    "l_rows = 10\n",
    "\n",
    "l_query  = \"\"\"\n",
    "   MATCH (n) \n",
    "   RETURN n\n",
    "   LIMIT {0}\n",
    "   \"\"\".format(l_rows)\n",
    "\n",
    "l_result = my_graph.query(l_query)\n",
    "\n",
    "print(l_result)\n"
   ]
  },
  {
   "cell_type": "code",
   "execution_count": null,
   "id": "84866c53-2ca8-4c62-b096-e8eb8adf32cd",
   "metadata": {},
   "outputs": [],
   "source": [
    "# ##################################################################"
   ]
  },
  {
   "cell_type": "code",
   "execution_count": null,
   "id": "27515e40-ade5-4f71-90a9-052a4a7553fd",
   "metadata": {},
   "outputs": [],
   "source": [
    "# ##################################################################"
   ]
  },
  {
   "cell_type": "code",
   "execution_count": null,
   "id": "6d151690-69c6-408e-8357-8a69cde16575",
   "metadata": {},
   "outputs": [],
   "source": [
    "\n",
    "#  Also Http;   http://localhost:8080/v2/databases\n",
    "#  Also Http;   http://localhost:8080/v2/graphs\n",
    "\n",
    "#  LIST ALL DATABASES\n",
    "\n",
    "for l_database in my_client.databases():\n",
    "   print(\"DB ID: \", l_database.database_id, \"     DB Name: \", l_database.name)\n"
   ]
  },
  {
   "cell_type": "code",
   "execution_count": 7,
   "id": "95d667dc-bd24-4d1c-b002-13243252def1",
   "metadata": {},
   "outputs": [
    {
     "name": "stdout",
     "output_type": "stream",
     "text": [
      "GRAPH ID:  CrnKKNjGvC7bCTDi1pEgGQrKbdfRAS1ekdcHaLB4nwqG      DB GRAPH:  my_graph_BB     GRAPH VERSION:  10\n",
      "--\n"
     ]
    }
   ],
   "source": [
    "\n",
    "#  LIST ALL GRAPHS\n",
    "\n",
    "for l_graph in my_client.graphs():\n",
    "   print(\"GRAPH ID: \", l_graph.graph_id, \"     DB GRAPH: \", l_graph.name, \"    GRAPH VERSION: \", l_graph.version)\n",
    "\n",
    "print(\"--\")\n"
   ]
  },
  {
   "cell_type": "code",
   "execution_count": null,
   "id": "df14cd17-57a4-48f1-9a49-ce8509d0b161",
   "metadata": {},
   "outputs": [],
   "source": [
    "# ##################################################################"
   ]
  },
  {
   "cell_type": "code",
   "execution_count": null,
   "id": "a603b503-0c29-4bb6-87a6-750d9d1eb5ea",
   "metadata": {},
   "outputs": [],
   "source": [
    "\n",
    "print(my_client.server_version)\n"
   ]
  },
  {
   "cell_type": "code",
   "execution_count": null,
   "id": "704da6a4-7729-4a7c-b453-b71148364d3b",
   "metadata": {},
   "outputs": [],
   "source": [
    "\n",
    "my_client.widgets().operations()\n"
   ]
  },
  {
   "cell_type": "code",
   "execution_count": null,
   "id": "d9f17c3c-3b01-45f9-ac83-0c3aab293695",
   "metadata": {},
   "outputs": [],
   "source": [
    "\n",
    "#  Get operation id ..\n",
    "#\n",
    "for l_each in my_client.operations():\n",
    "   print(l_each)\n",
    "    \n",
    "    \n",
    "print(\"\"  )\n",
    "print(\"--\")\n"
   ]
  },
  {
   "cell_type": "code",
   "execution_count": null,
   "id": "33fa3bbe-1ff6-4c04-9135-51b156330149",
   "metadata": {},
   "outputs": [],
   "source": [
    "\n",
    "from ipywidgets import widgets\n",
    "from ipywidgets import Box\n",
    "\n",
    "l_opid  = widgets.Text(\n",
    "    value        = \"  < paste here >\",\n",
    "    description  = \"Op Id: \",\n",
    "    disabled     = False\n",
    ")\n",
    "\n",
    "l_items = [l_opid]\n",
    "l_box = Box(children=l_items)\n",
    "\n",
    "l_box \n"
   ]
  },
  {
   "cell_type": "code",
   "execution_count": null,
   "id": "b73f68d7-ad78-4087-9a87-449da50ebdeb",
   "metadata": {},
   "outputs": [],
   "source": [
    "\n",
    "#  cancel() the given Operations Id\n",
    "#\n",
    "\n",
    "l_found = False\n",
    "\n",
    "for l_each in my_client.operations():\n",
    "   if (l_each.id == l_opid.value):\n",
    "      l_found = True\n",
    "      l_msg = l_each.cancel()\n",
    "    \n",
    "if (l_found):\n",
    "   print(\"cancel() return message: %s\" % (l_msg))\n",
    "else:\n",
    "   print(\"Operations Id (not found): %-28s\" % (l_opid.value))\n",
    "\n",
    "\n",
    "print(\"\"  )\n",
    "print(\"--\")\n",
    "\n"
   ]
  },
  {
   "cell_type": "code",
   "execution_count": null,
   "id": "32b16a42-7322-4da9-884d-869276b5d9a3",
   "metadata": {},
   "outputs": [],
   "source": [
    "# ##################################################################"
   ]
  },
  {
   "cell_type": "code",
   "execution_count": null,
   "id": "932a9254-d8ae-4086-b500-d2cc2978358b",
   "metadata": {},
   "outputs": [],
   "source": [
    "\n",
    "my_client.graphs()\n"
   ]
  },
  {
   "cell_type": "code",
   "execution_count": null,
   "id": "1fa7ad5e-84ce-411a-a597-d25eb36e99cf",
   "metadata": {},
   "outputs": [],
   "source": [
    "\n",
    "my_client.get_database(name=DB_NAME).graphs_in_database()\n"
   ]
  },
  {
   "cell_type": "code",
   "execution_count": null,
   "id": "3b045b77-600a-4dfc-96bb-92d264f560b8",
   "metadata": {},
   "outputs": [],
   "source": [
    "\n",
    "my_client.get_database(name=DB_NAME).find_graphs_by_name(name=GRAPH_NAME)\n"
   ]
  },
  {
   "cell_type": "code",
   "execution_count": null,
   "id": "8f7e2e86-2d44-41f2-baa8-33a5606c05ed",
   "metadata": {},
   "outputs": [],
   "source": [
    "# ##################################################################\n",
    "# ##################################################################\n",
    "# ##################################################################\n",
    "# ##################################################################"
   ]
  },
  {
   "cell_type": "code",
   "execution_count": 9,
   "id": "e576c04e-9cd8-41e0-a1a3-ae09397e4f87",
   "metadata": {},
   "outputs": [
    {
     "name": "stdout",
     "output_type": "stream",
     "text": [
      "Database Name: default                        Id: 2SuRWWQreHiN8bXcMQXBmPr1sqg1FiVBXfyVD22AvVKS\n",
      "Database Name: my_db                          Id: HSKAkKBHVqiCjVeAvMmga1Ms3cSv4ZSZCaNpqFDkB36a\n",
      "   Graph Name: my_graph                          Version: 0          Id: 4pMDENcYM5YXRWGyo2F2bBT4rsy3e64YW3ea6g57QbTf\n",
      "   Graph Name: my_graph_BB                       Version: 13         Id: CrnKKNjGvC7bCTDi1pEgGQrKbdfRAS1ekdcHaLB4nwqG\n",
      "\n",
      "--\n"
     ]
    }
   ],
   "source": [
    "\n",
    "#  Now that we share servers, get a better list of databases and graphs ..\n",
    "#\n",
    "\n",
    "for l_each_d in my_client.databases():\n",
    "   print(\"Database Name: %-28s   Id: %s\" % (l_each_d.name, l_each_d.database_id))\n",
    "      #\n",
    "   for l_each_g in my_client.get_database(name=l_each_d.name).graphs_in_database(): \n",
    "      print(\"   Graph Name: %-28s      Version: %-8d   Id: %s\" % (l_each_g.name, l_each_g.version, l_each_g.graph_id))\n",
    "\n",
    "\n",
    "print(\"\"  )\n",
    "print(\"--\")\n"
   ]
  },
  {
   "cell_type": "code",
   "execution_count": null,
   "id": "c6a39922-f79d-4711-b491-76d5e7d9b752",
   "metadata": {},
   "outputs": [],
   "source": [
    "\n",
    "from ipywidgets import widgets\n",
    "from ipywidgets import Box\n",
    "\n",
    "l_dbname   = widgets.Text(\n",
    "    value        = \"  < paste DB-Name here >\",\n",
    "    description  = \"DB Name: \",\n",
    "    disabled     = False\n",
    ")\n",
    "l_graphname = widgets.Text(\n",
    "    value        = \"  < paste Graph-Id here >\",\n",
    "    description  = \"Graph Name: \",\n",
    "    disabled     = False\n",
    ")\n",
    "\n",
    "l_items = [l_dbname, l_graphname]\n",
    "l_box = Box(children=l_items)\n",
    "\n",
    "l_box\n"
   ]
  },
  {
   "cell_type": "code",
   "execution_count": null,
   "id": "b0c973bd-3fb0-4210-9f14-81ff378eaebf",
   "metadata": {},
   "outputs": [],
   "source": [
    "\n",
    "#  Delete database by name\n",
    "#\n",
    "\n",
    "for l_database in my_client.databases():\n",
    "   if (l_database.name != \"default\"):\n",
    "      if (l_database.name == l_dbname.value):\n",
    "         try:\n",
    "            my_client.get_database(name=l_database.name).delete_database()\n",
    "            print(\"Database deleted: %s\" % (l_database.name))\n",
    "         except:\n",
    "            print(\"ERROR:  Database not deleted.  The most likely cause is that the named database is not empty.\")\n",
    "\n",
    "print(\"\")\n",
    "print(\"Existing databases ..\")\n",
    "   #\n",
    "for l_database in my_client.databases():\n",
    "   print(\"   DB ID: \", l_database.database_id, \"     DB Name: \", l_database.name)\n",
    "\n",
    "\n",
    "print(\"\"  )\n",
    "print(\"--\")\n",
    "\n"
   ]
  },
  {
   "cell_type": "code",
   "execution_count": null,
   "id": "76c75ef2-0403-4715-9ac3-b4e0661a2a23",
   "metadata": {},
   "outputs": [],
   "source": [
    "\n",
    "#  Delete graph by name\n",
    "#\n",
    "\n",
    "for l_each_d in my_client.databases():\n",
    "   for l_each_g in my_client.get_database(name = l_each_d.name).graphs_in_database(): \n",
    "      #  if (l_each_g.graph_id == l_graphid.value):\n",
    "      if (l_each_g.name == l_graphid.value):\n",
    "         try:\n",
    "            l_handle = my_client.get_database(name = l_each_d.name).get_graph_by_id(id = l_each_g.graph_id)\n",
    "            l_handle.delete()\n",
    "            print(\"Graph deleted: %s\" % (l_each_g.name))\n",
    "         except:\n",
    "            print(\"ERROR:  Graph not deleted.  The most likely cause is unknown.\")\n",
    "\n",
    "            \n",
    "print(\"\")\n",
    "print(\"Existing databases and graphs ..\")\n",
    "   #\n",
    "for l_each_d in my_client.databases():\n",
    "   print(\"   Database Name: %-28s   Id: %s\" % (l_each_d.name, l_each_d.database_id))\n",
    "      #\n",
    "   for l_each_g in my_client.get_database(name=l_each_d.name).graphs_in_database(): \n",
    "      print(\"      Graph Name: %-28s      Version: %-8d   Id: %s\" % (l_each_g.name, l_each_g.version, l_each_g.graph_id))\n",
    "\n",
    "\n",
    "print(\"\"  )\n",
    "print(\"--\")\n",
    "\n"
   ]
  },
  {
   "cell_type": "code",
   "execution_count": null,
   "id": "b21e7afd-257f-4a00-970d-2607d04dd185",
   "metadata": {},
   "outputs": [],
   "source": [
    "# ##################################################################\n",
    "# ##################################################################\n",
    "# ##################################################################\n",
    "# ##################################################################"
   ]
  },
  {
   "cell_type": "code",
   "execution_count": null,
   "id": "c4795c79-145b-46ea-ac7e-ea29131325c8",
   "metadata": {},
   "outputs": [],
   "source": [
    "\n",
    "my_graph.query(\"CALL graph.schema() RETURN *\")\n"
   ]
  }
 ],
 "metadata": {
  "kernelspec": {
   "display_name": "Python 3 (ipykernel)",
   "language": "python",
   "name": "python3"
  },
  "language_info": {
   "codemirror_mode": {
    "name": "ipython",
    "version": 3
   },
   "file_extension": ".py",
   "mimetype": "text/x-python",
   "name": "python",
   "nbconvert_exporter": "python",
   "pygments_lexer": "ipython3",
   "version": "3.8.13"
  }
 },
 "nbformat": 4,
 "nbformat_minor": 5
}
