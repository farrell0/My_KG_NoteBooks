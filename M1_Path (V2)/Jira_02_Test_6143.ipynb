{
 "cells": [
  {
   "cell_type": "markdown",
   "id": "fcb5bbbb-6a57-4388-aa7d-4a2413522df2",
   "metadata": {
    "tags": []
   },
   "source": [
    "#  Setup stuff: Connectivity"
   ]
  },
  {
   "cell_type": "code",
   "execution_count": null,
   "id": "39211025-c3a2-487d-922e-c3b4a173c7bc",
   "metadata": {},
   "outputs": [],
   "source": [
    "\n",
    "#  Setting display width \n",
    "\n",
    "from tabulate import tabulate\n",
    "import pandas as pd\n",
    "   #\n",
    "pd.set_option(\"display.width\", 480)\n",
    "\n",
    "print(\"--\")\n"
   ]
  },
  {
   "cell_type": "code",
   "execution_count": null,
   "id": "55e90465-e651-45c0-94b2-1ce2cde47977",
   "metadata": {},
   "outputs": [],
   "source": [
    "\n",
    "from katana import remote\n",
    "\n",
    "my_client = remote.Client()\n",
    "\n",
    "print(my_client)\n"
   ]
  },
  {
   "cell_type": "code",
   "execution_count": null,
   "id": "04b19ed9-0238-4a6f-afd0-fa11a3b0328b",
   "metadata": {},
   "outputs": [],
   "source": [
    "NUM_PARTITIONS  = 3\n",
    "   #\n",
    "DB_NAME         = \"my_db\"\n",
    "GRAPH_NAME      = \"my_graph\"\n",
    "\n",
    "print(\"--\")\n"
   ]
  },
  {
   "cell_type": "code",
   "execution_count": null,
   "id": "60449360-363a-48ae-bd55-9527b880e3e5",
   "metadata": {},
   "outputs": [],
   "source": [
    "#  CONNECT TO GRAPH\n",
    "\n",
    "for l_graph in my_client.get_database(name=DB_NAME).graphs_in_database():\n",
    "   if (l_graph.name == GRAPH_NAME):\n",
    "      my_graph=my_client.get_database(name=DB_NAME).get_graph_by_id(id=l_graph.graph_id)\n",
    "         #\n",
    "      break\n",
    "\n",
    "print(my_graph)"
   ]
  },
  {
   "cell_type": "markdown",
   "id": "6b618690-f0b6-4701-9405-5c58574c1094",
   "metadata": {
    "tags": []
   },
   "source": [
    "#  Setup stuff: Debugging "
   ]
  },
  {
   "cell_type": "code",
   "execution_count": null,
   "id": "d65b60c1-9e2a-42bd-a12a-2b81ea6e80c1",
   "metadata": {},
   "outputs": [],
   "source": [
    "display(my_graph.num_nodes())\n",
    "display(my_graph.num_edges())"
   ]
  },
  {
   "cell_type": "code",
   "execution_count": null,
   "id": "61bfaff1-8478-4c7d-af83-39d03ff078ed",
   "metadata": {},
   "outputs": [],
   "source": [
    "\n",
    "l_result = my_graph.query(\"\"\"\n",
    "\n",
    "   MATCH ( n ) - [ r ] -> ( m )\n",
    "   RETURN n, m, r\n",
    "   \n",
    "   \"\"\", contextualize=True)\n",
    "\n",
    "l_result.view()\n"
   ]
  },
  {
   "cell_type": "code",
   "execution_count": null,
   "id": "d1ea5641-5b76-4e19-a672-b2af52666642",
   "metadata": {},
   "outputs": [],
   "source": [
    "\n",
    "l_result = my_graph.query(\"\"\"\n",
    "\n",
    "   MATCH ( n )\n",
    "   RETURN n\n",
    "   \n",
    "   \"\"\", contextualize=True)\n",
    "\n",
    "print(tabulate(l_result, headers='keys', tablefmt='psql'))\n",
    "\n",
    "#  Before running sssp()\n",
    "#\n",
    "# +----+-----------------+-------------+-----------+------------------+--------+----------+\n",
    "# |    |   n.internal_id | n.labels    | n.LABEL   | n.airport_name   | n.id   | n.type   |\n",
    "# |----+-----------------+-------------+-----------+------------------+--------+----------|\n",
    "# |  0 |               0 | ['Airport'] | Airport   | Denver           | DEN    | node     |\n",
    "# |  1 |               1 | ['Airport'] | Airport   | San Jose         | SJC    | node     |\n",
    "# |  2 |               2 | ['Airport'] | Airport   | Milwaukee        | MKE    | node     |\n",
    "# |  3 |               3 | ['Airport'] | Airport   | Chicago O-Hare   | ORD    | node     |\n",
    "# +----+-----------------+-------------+-----------+------------------+--------+----------+\n",
    "\n",
    "#  After running sssp()\n",
    "#\n",
    "# +----+-----------------+-------------+-----------+------------------+--------+--------------------+----------+\n",
    "# |    |   n.internal_id | n.labels    | n.LABEL   | n.airport_name   | n.id   |   n.sssp_dist_0001 | n.type   |\n",
    "# |----+-----------------+-------------+-----------+------------------+--------+--------------------+----------|\n",
    "# |  0 |               0 | ['Airport'] | Airport   | Denver           | DEN    |                952 | node     |\n",
    "# |  1 |               1 | ['Airport'] | Airport   | San Jose         | SJC    |               1900 | node     |\n",
    "# |  2 |               2 | ['Airport'] | Airport   | Milwaukee        | MKE    |                  0 | node     |\n",
    "# |  3 |               3 | ['Airport'] | Airport   | Chicago O-Hare   | ORD    |                 66 | node     |\n",
    "# +----+-----------------+-------------+-----------+------------------+--------+--------------------+----------+\n"
   ]
  },
  {
   "cell_type": "code",
   "execution_count": null,
   "id": "9d1043cf-7881-4a57-a544-b2d6f682aadd",
   "metadata": {},
   "outputs": [],
   "source": [
    "\n",
    "l_result = my_graph.query(\"\"\"\n",
    "\n",
    "   MATCH ( n ) - [ r ] -> ( m )\n",
    "   RETURN r\n",
    "\n",
    "   \n",
    "   \"\"\", contextualize=True)\n",
    "\n",
    "print(tabulate(l_result, headers='keys', tablefmt='psql'))\n",
    "\n",
    "#  Before running sssp()\n",
    "#\n",
    "# +----+------------+----------------+-----------------+-----------+--------------+--------------+----------+--------------+------------------+----------+\n",
    "# |    |   r.end.id | r.end.labels   |   r.internal_id | r.label   |   r.DISTANCE |   r.NUM_HOPS | r.TYPE   |   r.start.id | r.start.labels   | r.type   |\n",
    "# |----+------------+----------------+-----------------+-----------+--------------+--------------+----------+--------------+------------------+----------|\n",
    "# |  0 |          0 | ['Airport']    |               0 | FLIES_TO  |          948 |            1 | FLIES_TO |            1 | ['Airport']      | edge     |\n",
    "# |  1 |          0 | ['Airport']    |               1 | FLIES_TO  |          886 |            1 | FLIES_TO |            3 | ['Airport']      | edge     |\n",
    "# |  2 |          1 | ['Airport']    |               2 | FLIES_TO  |          948 |            1 | FLIES_TO |            0 | ['Airport']      | edge     |\n",
    "# |  3 |          2 | ['Airport']    |               3 | FLIES_TO  |           66 |            1 | FLIES_TO |            3 | ['Airport']      | edge     |\n",
    "# |  4 |          3 | ['Airport']    |               4 | FLIES_TO  |          886 |            1 | FLIES_TO |            0 | ['Airport']      | edge     |\n",
    "# |  5 |          3 | ['Airport']    |               6 | FLIES_TO  |           66 |            1 | FLIES_TO |            2 | ['Airport']      | edge     |\n",
    "# |  6 |          3 | ['Airport']    |               5 | FLIES_TO  |         1829 |            1 | FLIES_TO |            1 | ['Airport']      | edge     |\n",
    "# +----+------------+----------------+-----------------+-----------+--------------+--------------+----------+--------------+------------------+----------+\n",
    "\n",
    "#  After running sssp()\n",
    "#\n",
    "# +----+------------+----------------+-----------------+-----------+--------------+--------------+----------+--------------+------------------+----------+\n",
    "# |    |   r.end.id | r.end.labels   |   r.internal_id | r.label   |   r.DISTANCE |   r.NUM_HOPS | r.TYPE   |   r.start.id | r.start.labels   | r.type   |\n",
    "# |----+------------+----------------+-----------------+-----------+--------------+--------------+----------+--------------+------------------+----------|\n",
    "# |  0 |          0 | ['Airport']    |               0 | FLIES_TO  |          948 |            1 | FLIES_TO |            1 | ['Airport']      | edge     |\n",
    "# |  1 |          0 | ['Airport']    |               1 | FLIES_TO  |          886 |            1 | FLIES_TO |            3 | ['Airport']      | edge     |\n",
    "# |  2 |          1 | ['Airport']    |               2 | FLIES_TO  |          948 |            1 | FLIES_TO |            0 | ['Airport']      | edge     |\n",
    "# |  3 |          2 | ['Airport']    |               3 | FLIES_TO  |           66 |            1 | FLIES_TO |            3 | ['Airport']      | edge     |\n",
    "# |  4 |          3 | ['Airport']    |               4 | FLIES_TO  |          886 |            1 | FLIES_TO |            0 | ['Airport']      | edge     |\n",
    "# |  5 |          3 | ['Airport']    |               6 | FLIES_TO  |           66 |            1 | FLIES_TO |            2 | ['Airport']      | edge     |\n",
    "# |  6 |          3 | ['Airport']    |               5 | FLIES_TO  |         1829 |            1 | FLIES_TO |            1 | ['Airport']      | edge     |\n",
    "# +----+------------+----------------+-----------------+-----------+--------------+--------------+----------+--------------+------------------+----------+\n",
    "\n",
    "\n",
    "#  If the RETURN is,\n",
    "#     RETURN r.type, r.TYPE, r.label, r.start.labels, r.end.labels, r.internal_id, r.start.id, r.end.id, r.DISTANCE, r.NUM_HOPS\n",
    "#\n",
    "# +----+--------------+--------------+----------+------------+----------------+-----------------+-----------+--------------+------------------+----------+\n",
    "# |    |   r.DISTANCE |   r.NUM_HOPS | r.TYPE   | r.end.id   | r.end.labels   | r.internal_id   | r.label   | r.start.id   | r.start.labels   | r.type   |\n",
    "# |----+--------------+--------------+----------+------------+----------------+-----------------+-----------+--------------+------------------+----------|\n",
    "# |  0 |           66 |            1 | FLIES_TO |            |                |                 |           |              |                  |          |\n",
    "# |  1 |          948 |            1 | FLIES_TO |            |                |                 |           |              |                  |          |\n",
    "# |  2 |         1829 |            1 | FLIES_TO |            |                |                 |           |              |                  |          |\n",
    "# |  3 |          886 |            1 | FLIES_TO |            |                |                 |           |              |                  |          |\n",
    "# |  4 |           66 |            1 | FLIES_TO |            |                |                 |           |              |                  |          |\n",
    "# |  5 |          948 |            1 | FLIES_TO |            |                |                 |           |              |                  |          |\n",
    "# |  6 |          886 |            1 | FLIES_TO |            |                |                 |           |              |                  |          |\n",
    "# +----+--------------+--------------+----------+------------+----------------+-----------------+-----------+--------------+------------------+----------+\n"
   ]
  },
  {
   "cell_type": "markdown",
   "id": "e2f0bfda-6092-4263-8857-c61af622908b",
   "metadata": {
    "tags": []
   },
   "source": [
    "#  Actual analytics .."
   ]
  },
  {
   "cell_type": "code",
   "execution_count": null,
   "id": "3ecba69c-0a0f-4a51-a02e-55973ec51242",
   "metadata": {},
   "outputs": [],
   "source": [
    "\n",
    "from katana import remote\n",
    "from katana.remote import analytics\n",
    "\n",
    "\n",
    "l_cntr = 0\n",
    "\n",
    "print(\"--\")\n"
   ]
  },
  {
   "cell_type": "code",
   "execution_count": 18,
   "id": "dd06fe66-0a3b-4939-bdbf-4bdd2b3dd230",
   "metadata": {},
   "outputs": [
    {
     "data": {
      "application/vnd.jupyter.widget-view+json": {
       "model_id": "7595fc9df00b4377a35e6518d65e8f65",
       "version_major": 2,
       "version_minor": 0
      },
      "text/plain": [
       "          0/? [?op/s]"
      ]
     },
     "metadata": {},
     "output_type": "display_data"
    },
    {
     "name": "stdout",
     "output_type": "stream",
     "text": [
      "--\n"
     ]
    },
    {
     "data": {
      "text/plain": [
       "None"
      ]
     },
     "metadata": {},
     "output_type": "display_data"
    }
   ],
   "source": [
    "\n",
    "#  Running analytics.sssp() ..\n",
    "\n",
    "\n",
    "l_source_nodeid       = \"2\"                        #  id of node to start on (this is MKE)\n",
    "l_weight_property     = \"DISTANCE\"                 #  Edge property\n",
    "l_max_iterations      = 10000 \n",
    "\n",
    "\n",
    "#  Generate a unique prop name so we can run this over and over without edit ..\n",
    "#\n",
    "l_cntr += 1\n",
    "   #\n",
    "l_output_propname     = \"sssp_dist_\" + str(l_cntr).zfill(4)\n",
    "\n",
    "\n",
    "analytics.sssp(\n",
    "   my_graph,\n",
    "   source               = l_source_nodeid,\n",
    "   weight_property      = l_weight_property,\n",
    "   max_iterations       = l_max_iterations,\n",
    "   result_property_name = l_output_propname,\n",
    "   )\n",
    "\n",
    "display(print(\"--\"))\n"
   ]
  },
  {
   "cell_type": "code",
   "execution_count": 19,
   "id": "087fe843-d3e8-43c0-be90-cb5d8beadbfc",
   "metadata": {},
   "outputs": [
    {
     "data": {
      "application/vnd.jupyter.widget-view+json": {
       "model_id": "20d1ec8a37df4740826be7153a8d8c5d",
       "version_major": 2,
       "version_minor": 0
      },
      "text/plain": [
       "          0/? [?op/s]"
      ]
     },
     "metadata": {},
     "output_type": "display_data"
    },
    {
     "data": {
      "application/vnd.jupyter.widget-view+json": {
       "model_id": "cd353354f0fe4154abb3c31003291173",
       "version_major": 2,
       "version_minor": 0
      },
      "text/plain": [
       "          0/? [?op/s]"
      ]
     },
     "metadata": {},
     "output_type": "display_data"
    },
    {
     "name": "stdout",
     "output_type": "stream",
     "text": [
      "+----+-----------------+-------------+-----------+------------------+--------+--------------------+--------------------+----------+\n",
      "|    |   n.internal_id | n.labels    | n.LABEL   | n.airport_name   | n.id   |   n.sssp_dist_0001 |   n.sssp_dist_0002 | n.type   |\n",
      "|----+-----------------+-------------+-----------+------------------+--------+--------------------+--------------------+----------|\n",
      "|  0 |               3 | ['Airport'] | Airport   | Chicago O-Hare   | ORD    |                 66 |                 66 | node     |\n",
      "|  1 |               1 | ['Airport'] | Airport   | San Jose         | SJC    |               1900 |               1900 | node     |\n",
      "|  2 |               0 | ['Airport'] | Airport   | Denver           | DEN    |                952 |                952 | node     |\n",
      "|  3 |               2 | ['Airport'] | Airport   | Milwaukee        | MKE    |                  0 |                  0 | node     |\n",
      "+----+-----------------+-------------+-----------+------------------+--------+--------------------+--------------------+----------+\n"
     ]
    }
   ],
   "source": [
    "\n",
    "l_result = my_graph.query(\"\"\"\n",
    "\n",
    "   MATCH ( n )\n",
    "   RETURN n\n",
    "   \n",
    "   \"\"\", contextualize=True)\n",
    "\n",
    "print(tabulate(l_result, headers='keys', tablefmt='psql'))\n",
    "\n",
    "#  Before running sssp()\n",
    "#\n",
    "# +----+-----------------+-------------+-----------+------------------+--------+----------+\n",
    "# |    |   n.internal_id | n.labels    | n.LABEL   | n.airport_name   | n.id   | n.type   |\n",
    "# |----+-----------------+-------------+-----------+------------------+--------+----------|\n",
    "# |  0 |               0 | ['Airport'] | Airport   | Denver           | DEN    | node     |\n",
    "# |  1 |               1 | ['Airport'] | Airport   | San Jose         | SJC    | node     |\n",
    "# |  2 |               2 | ['Airport'] | Airport   | Milwaukee        | MKE    | node     |\n",
    "# |  3 |               3 | ['Airport'] | Airport   | Chicago O-Hare   | ORD    | node     |\n",
    "# +----+-----------------+-------------+-----------+------------------+--------+----------+\n",
    "\n",
    "#  After running sssp()\n",
    "#\n",
    "# +----+-----------------+-------------+-----------+------------------+--------+--------------------+----------+\n",
    "# |    |   n.internal_id | n.labels    | n.LABEL   | n.airport_name   | n.id   |   n.sssp_dist_0001 | n.type   |\n",
    "# |----+-----------------+-------------+-----------+------------------+--------+--------------------+----------|\n",
    "# |  0 |               0 | ['Airport'] | Airport   | Denver           | DEN    |                952 | node     |\n",
    "# |  1 |               1 | ['Airport'] | Airport   | San Jose         | SJC    |               1900 | node     |\n",
    "# |  2 |               2 | ['Airport'] | Airport   | Milwaukee        | MKE    |                  0 | node     |\n",
    "# |  3 |               3 | ['Airport'] | Airport   | Chicago O-Hare   | ORD    |                 66 | node     |\n",
    "# +----+-----------------+-------------+-----------+------------------+--------+--------------------+----------+\n"
   ]
  },
  {
   "cell_type": "code",
   "execution_count": null,
   "id": "dfead8de-5561-421c-a4e1-355532fb954b",
   "metadata": {},
   "outputs": [],
   "source": []
  }
 ],
 "metadata": {
  "kernelspec": {
   "display_name": "Python 3 (ipykernel)",
   "language": "python",
   "name": "python3"
  },
  "language_info": {
   "codemirror_mode": {
    "name": "ipython",
    "version": 3
   },
   "file_extension": ".py",
   "mimetype": "text/x-python",
   "name": "python",
   "nbconvert_exporter": "python",
   "pygments_lexer": "ipython3",
   "version": "3.8.13"
  }
 },
 "nbformat": 4,
 "nbformat_minor": 5
}
