{
 "cells": [
  {
   "cell_type": "markdown",
   "id": "3ab7ce90-67cf-462c-94a6-3c8c9d0754b3",
   "metadata": {},
   "source": [
    "# Setup: Connectivity"
   ]
  },
  {
   "cell_type": "code",
   "execution_count": 5,
   "id": "e87b75ba-c072-4111-8cca-4b4f394a0fce",
   "metadata": {},
   "outputs": [
    {
     "data": {
      "text/html": [],
      "text/plain": [
       "<IPython.core.display.HTML object>"
      ]
     },
     "metadata": {},
     "output_type": "display_data"
    },
    {
     "name": "stdout",
     "output_type": "stream",
     "text": [
      "My Client: <katana_enterprise.remote.sync_wrappers.Client object at 0x7f6098091820>\n",
      "My Graph:  <_Graph my_graph, HLyXwYd8TeX3u5LgLvuUYoqVVThPj9d1qdkBPorPFDjf, 3>\n",
      "\n"
     ]
    }
   ],
   "source": [
    "\n",
    "from katana import remote\n",
    "   #\n",
    "from IPython.display import display\n",
    "from ipywidgets import Layout, Textarea, VBox\n",
    "   #\n",
    "from libraries.SupportFor34 import f_init, f_enrich\n",
    "    \n",
    "    \n",
    "my_client, my_graph = f_init()\n",
    "\n",
    "\n",
    "print(\"My Client: %s\" % (my_client))\n",
    "print(\"My Graph:  %s\" % (my_graph ))\n",
    "   #\n",
    "print()\n"
   ]
  },
  {
   "cell_type": "markdown",
   "id": "4ec1c889-3b18-44f7-adcf-b9b5eca13dd5",
   "metadata": {},
   "source": [
    "#  Step 01: Enter a new Medical Description"
   ]
  },
  {
   "cell_type": "code",
   "execution_count": null,
   "id": "9b760cd1-9e7a-47c4-96c7-13e6f70b1acb",
   "metadata": {},
   "outputs": [],
   "source": [
    "\n",
    "#  Create a text entry area\n",
    "#\n",
    "\n",
    "l_layout   = Layout(flex = \"0 1 auto\", height = \"100px\", min_height = \"100px\", width = \"auto\")\n",
    "l_text01   = Textarea(value=\"Odd mole on my ear\", layout = l_layout, description = \"Enter Text: \")\n",
    "   #\n",
    "l_vbox     = VBox([l_text01], layout = Layout(flex = \"1 1 auto\", width = \"auto\"))\n",
    "display(l_text01)\n"
   ]
  },
  {
   "cell_type": "code",
   "execution_count": null,
   "id": "16658063-7b08-4f33-963b-110708e50567",
   "metadata": {},
   "outputs": [],
   "source": [
    "\n",
    "#  Enrich/decode text entry from above\n",
    "#\n",
    "\n",
    "l_return, l_pvid = f_enrich(l_text01.value.lower(), my_graph)\n",
    "\n",
    "print(\"Unique Patient Visit Id: %s\" % (l_pvid))\n",
    "print(\"\")\n",
    "print(\"Medical Description encoding:\")\n",
    "print(\"\")\n",
    "display(l_return)\n"
   ]
  },
  {
   "cell_type": "markdown",
   "id": "6d7f32ad-d6c9-4c95-9005-73239071c255",
   "metadata": {},
   "source": [
    "# Step 02:  Examine the Graph"
   ]
  },
  {
   "cell_type": "code",
   "execution_count": null,
   "id": "73085108-3d24-4d66-bf9e-f7c98360a54e",
   "metadata": {},
   "outputs": [],
   "source": [
    "\n",
    "#  Produce a visual graph\n",
    "\n",
    "from katana_visualization_widget import GraphVisOptions, NodeVisOption, EdgeVisOption, ANY\n",
    "\n",
    "l_options = GraphVisOptions(\n",
    "   node_options = [\n",
    "      NodeVisOption(\"PatientVisit\",     label=\"short_text\"       ),\n",
    "      NodeVisOption(\"UmlsEntity\",       label=\"id\"               ),\n",
    "      NodeVisOption(\"UmlsVocabulary\",   label=\"id\"               ),\n",
    "   ],\n",
    "   #  edge_options = [\n",
    "   #     EdgeVisOption([\"VISIT_CONTAINS\"], label=\"start_id\"),\n",
    "   #     EdgeVisOption([\"ALSO_CODED_AS\" ], label=\"start_id\"),\n",
    "   #  ]\n",
    "   )\n",
    "    \n",
    "    \n",
    "l_query  = \"\"\"\n",
    "\n",
    "   MATCH (pv: PatientVisit) - [vc: VISIT_CONTAINS] -> (ue: UmlsEntity) - [aca: ALSO_CODED_AS] -> (uv: UmlsVocabulary)\n",
    "   WHERE\n",
    "      (pv.id = '{0}')\n",
    "   RETURN pv, vc, ue, aca, uv\n",
    "   \n",
    "   \"\"\".format(l_pvid)\n",
    "\n",
    "l_result = my_graph.query_unpaginated(l_query, contextualize=True)\n",
    "    \n",
    "l_result.view(graph_vis_options = l_options)\n"
   ]
  },
  {
   "cell_type": "code",
   "execution_count": null,
   "id": "d033566d-939b-42d4-a930-565894e6c293",
   "metadata": {},
   "outputs": [],
   "source": [
    "# #########################################################################"
   ]
  },
  {
   "cell_type": "code",
   "execution_count": null,
   "id": "92024417-6824-4c22-b554-b09866184afa",
   "metadata": {},
   "outputs": [],
   "source": [
    "\n",
    "#  Checking just nodes\n",
    "#\n",
    "\n",
    "l_query  = \"\"\"\n",
    "\n",
    "   MATCH (n)\n",
    "   WHERE NOT n.id STARTS WITH 'XX-'                   //  A value we use as a placeholder\n",
    "   RETURN n\n",
    "   \n",
    "   \"\"\".format()\n",
    "\n",
    "l_result = my_graph.query_unpaginated(l_query, contextualize=False)\n",
    "    \n",
    "print(l_result)\n",
    "\n"
   ]
  },
  {
   "cell_type": "code",
   "execution_count": null,
   "id": "63c91100-2973-4f3f-9f3e-a28b53a1da20",
   "metadata": {},
   "outputs": [],
   "source": [
    "\n",
    "#  Checking just edges\n",
    "#\n",
    "\n",
    "l_query  = \"\"\"\n",
    "\n",
    "   MATCH (n) - [r] -> (m)\n",
    "   RETURN r\n",
    "   \n",
    "   \"\"\".format()\n",
    "\n",
    "l_result = my_graph.query_unpaginated(l_query, contextualize=False)\n",
    "    \n",
    "print(l_result)\n"
   ]
  },
  {
   "cell_type": "code",
   "execution_count": null,
   "id": "d69cd6f3-c52c-434f-a74a-ee489796d2aa",
   "metadata": {},
   "outputs": [],
   "source": [
    "# #########################################################################"
   ]
  },
  {
   "cell_type": "code",
   "execution_count": null,
   "id": "591a58e9-9170-4ef7-b901-9921d8188645",
   "metadata": {},
   "outputs": [],
   "source": [
    "\n",
    "#  Metadata on our Nodes,\n",
    "#\n",
    "#     +----+------------------+-------+\n",
    "#     |    | label            |   cnt |\n",
    "#     |----+------------------+-------|\n",
    "#     |  0 | Keyword          | 10443 |\n",
    "#     |  1 | MedicalSpecialty |    40 |\n",
    "#     |  2 | PatientVisit     |  4999 |\n",
    "#     |  3 | UmlsEntity       | 20073 |\n",
    "#     |  4 | UmlsVocabulary   | 40148 |\n",
    "#     +----+------------------+-------+\n",
    "\n"
   ]
  },
  {
   "cell_type": "code",
   "execution_count": 6,
   "id": "373235c5-a17d-4f42-9afc-8ff56e3f5843",
   "metadata": {},
   "outputs": [
    {
     "data": {
      "application/vnd.jupyter.widget-view+json": {
       "model_id": "d0f0931c035341a2bebf8051deee4664",
       "version_major": 2,
       "version_minor": 0
      },
      "text/plain": [
       "          0/? [?op/s]"
      ]
     },
     "metadata": {},
     "output_type": "display_data"
    },
    {
     "name": "stdout",
     "output_type": "stream",
     "text": [
      "    n.internal_id      n.labels     n.LABEL    n.entity_id           n.id                                   n.preferred_term n.type\n",
      "0            6304  [UmlsEntity]  UmlsEntity  UMLS/C0223098  UMLS/C0223098             Structure of body of cervical vertebra   node\n",
      "1            6305  [UmlsEntity]  UmlsEntity  UMLS/C0225219  UMLS/C0225219  Structure of prevertebral layer of cervical fa...   node\n",
      "2            6306  [UmlsEntity]  UmlsEntity  UMLS/C0229427  UMLS/C0229427                             Pneumatic mastoid cell   node\n",
      "3            6307  [UmlsEntity]  UmlsEntity  UMLS/C0501396  UMLS/C0501396                                Collateral ganglion   node\n",
      "4            6308  [UmlsEntity]  UmlsEntity  UMLS/C4476754  UMLS/C4476754    Decreased attenuation pattern on pulmonary HRCT   node\n",
      "5            6309  [UmlsEntity]  UmlsEntity  UMLS/C4520924  UMLS/C4520924                                 Bone Tissue, Human   node\n",
      "6            6310  [UmlsEntity]  UmlsEntity  UMLS/C0026608  UMLS/C0026608                                     Motor Endplate   node\n",
      "7            6311  [UmlsEntity]  UmlsEntity  UMLS/C0223633  UMLS/C0223633           Structure of clavicular facet of scapula   node\n",
      "8            6312  [UmlsEntity]  UmlsEntity  UMLS/C0446430  UMLS/C0446430                                          T12 level   node\n",
      "9            6313  [UmlsEntity]  UmlsEntity  UMLS/C0521164  UMLS/C0521164                                       Ring (shape)   node\n",
      "10           6314  [UmlsEntity]  UmlsEntity  UMLS/C1179696  UMLS/C1179696                 T12 Thoracic segmental innervation   node\n",
      "11           6315  [UmlsEntity]  UmlsEntity  UMLS/C2732728  UMLS/C2732728                              Short stature for age   node\n",
      "12           6316  [UmlsEntity]  UmlsEntity  UMLS/C4760573  UMLS/C4760573                                          Arthrosis   node\n",
      "13           6317  [UmlsEntity]  UmlsEntity  UMLS/C0013687  UMLS/C0013687                                           effusion   node\n",
      "14           6318  [UmlsEntity]  UmlsEntity  UMLS/C0020564  UMLS/C0020564                                        Hypertrophy   node\n",
      "15           6319  [UmlsEntity]  UmlsEntity  UMLS/C0206327  UMLS/C0206327                     Structure of ligamentum flavum   node\n",
      "16           6320  [UmlsEntity]  UmlsEntity  UMLS/C0410607  UMLS/C0410607                  Intervertebral disk calcification   node\n",
      "17           6321  [UmlsEntity]  UmlsEntity  UMLS/C3260303  UMLS/C3260303                                  Advanced adenomas   node\n",
      "18           6322  [UmlsEntity]  UmlsEntity  UMLS/C0179686  UMLS/C0179686                                    Orthopedic Cast   node\n",
      "19           6323  [UmlsEntity]  UmlsEntity  UMLS/C0491931  UMLS/C0491931                                    Orthopedic Fork   node\n"
     ]
    },
    {
     "name": "stderr",
     "output_type": "stream",
     "text": [
      "/opt/conda/lib/python3.8/site-packages/katana_enterprise/remote/result_set.py:69: UserWarning: Pandas doesn't allow columns to be created via a new attribute name - see https://pandas.pydata.org/pandas-docs/stable/indexing.html#attribute-access\n",
      "  self._response = response\n"
     ]
    }
   ],
   "source": [
    "\n",
    "#  Checking just nodes\n",
    "#\n",
    "\n",
    "l_query  = \"\"\"\n",
    "\n",
    "   MATCH (n: UmlsEntity)\n",
    "   RETURN n\n",
    "   LIMIT 20\n",
    "   \n",
    "   \"\"\".format()\n",
    "\n",
    "l_result = my_graph.query_unpaginated(l_query, contextualize=False)\n",
    "    \n",
    "print(l_result)\n",
    "\n"
   ]
  },
  {
   "cell_type": "code",
   "execution_count": null,
   "id": "82d23cf9-9aee-4086-8c8d-fac0ba8e274f",
   "metadata": {},
   "outputs": [],
   "source": []
  },
  {
   "cell_type": "code",
   "execution_count": null,
   "id": "a5efa4e2-ab6f-4fc4-b40d-3183a9075f02",
   "metadata": {},
   "outputs": [],
   "source": []
  },
  {
   "cell_type": "code",
   "execution_count": null,
   "id": "0dd0790f-eb7a-4480-bce9-5104551da5f2",
   "metadata": {},
   "outputs": [],
   "source": []
  },
  {
   "cell_type": "code",
   "execution_count": null,
   "id": "61b495f4-1bf7-4a1e-9c7f-501a278ff215",
   "metadata": {},
   "outputs": [],
   "source": []
  },
  {
   "cell_type": "code",
   "execution_count": null,
   "id": "75a32617-d518-4694-a09f-e7b3f3b54f3f",
   "metadata": {},
   "outputs": [],
   "source": []
  }
 ],
 "metadata": {
  "kernelspec": {
   "display_name": "Python 3 (ipykernel)",
   "language": "python",
   "name": "python3"
  },
  "language_info": {
   "codemirror_mode": {
    "name": "ipython",
    "version": 3
   },
   "file_extension": ".py",
   "mimetype": "text/x-python",
   "name": "python",
   "nbconvert_exporter": "python",
   "pygments_lexer": "ipython3",
   "version": "3.8.15"
  }
 },
 "nbformat": 4,
 "nbformat_minor": 5
}
