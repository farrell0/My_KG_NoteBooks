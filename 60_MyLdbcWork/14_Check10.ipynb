{
 "cells": [
  {
   "cell_type": "code",
   "execution_count": null,
   "id": "6da09346-5fcf-4c45-a7bd-ef07ce9f9a59",
   "metadata": {},
   "outputs": [],
   "source": [
    "#  Currently this NoteBook does not run; LDBC files have moved, other ..\n",
    "\n",
    "\n",
    "#  GET A CLIENT HANDLE\n",
    "\n",
    "import os\n",
    "\n",
    "from katana import remote\n",
    "from katana.remote import import_data\n",
    "\n",
    "\n",
    "my_client = remote.Client()\n",
    "\n",
    "print(my_client)\n"
   ]
  },
  {
   "cell_type": "code",
   "execution_count": null,
   "id": "9313e843-4fa3-451b-87ae-4491c7736884",
   "metadata": {},
   "outputs": [],
   "source": [
    "#  Set variables\n",
    "\n",
    "NUM_PARTITIONS  = 3\n",
    "   #\n",
    "DB_NAME         = \"my_db\"\n",
    "GRAPH_NAME      = \"my_graph\"\n",
    "\n",
    "print(\"--\")\n"
   ]
  },
  {
   "cell_type": "code",
   "execution_count": null,
   "id": "475180e0-ce55-4e6c-bec3-f53f12b399f6",
   "metadata": {},
   "outputs": [],
   "source": [
    "#  DELETE ALL GRAPHS\n",
    "\n",
    "for l_database in my_client.databases():\n",
    "   for l_graph in my_client.get_database(name=l_database.name).graphs_in_database():\n",
    "      remote.Graph(client=my_client, graph_id=l_graph.graph_id,database_id=l_database.database_id, version=l_graph.version).delete()\n",
    "\n",
    "for l_graph in my_client.graphs():\n",
    "   print(\"GRAPH ID: \", l_grapg.graph_id, \"      GRAPH Version: \", l_graph.version)\n",
    "\n",
    "print(\"--\")"
   ]
  },
  {
   "cell_type": "code",
   "execution_count": null,
   "id": "1d30b73c-e65d-41ae-b4c9-7bad45b10336",
   "metadata": {},
   "outputs": [],
   "source": [
    "#  CREATE A GRAPH\n",
    "\n",
    "my_graph=my_client.get_database(name=DB_NAME).create_graph(name=GRAPH_NAME, num_partitions=NUM_PARTITIONS)\n",
    "\n",
    "print(my_graph)\n"
   ]
  },
  {
   "cell_type": "code",
   "execution_count": null,
   "id": "59f906b9-e83f-4499-9344-872a2a81e64b",
   "metadata": {},
   "outputs": [],
   "source": [
    "#  IMPORT DATA INTO GRAPH USING CSV\n",
    "\n",
    "l_inp = \"gs://farrell-bucket/50_csv_sf-0.003-bi-node_headers.txt\"\n",
    "l_enp = \"gs://farrell-bucket/51_csv_sf-0.003-bi-edge_headers.txt\"\n",
    "\n",
    "# l_dir = \"gs://katana-demo-datasets/csv-datasets/ldbc\"\n",
    "l_dir = \"gs://farrell-bucket/sf-0.003-csv\"\n",
    "\n",
    "import_data.csv(\n",
    "   my_graph,\n",
    "      #\n",
    "   input_node_path    = l_inp,\n",
    "   input_edge_path    = l_enp,\n",
    "   input_dir          = l_dir,\n",
    "      #\n",
    "   data_delimiter     = \"|\",\n",
    "   schema_delimiter   = \"|\",\n",
    "   files_have_headers = True\n",
    "   )"
   ]
  },
  {
   "cell_type": "code",
   "execution_count": null,
   "id": "ddc1d8df-e0d3-4e93-b0c2-af49dc1c0ce1",
   "metadata": {},
   "outputs": [],
   "source": [
    "#  IMPORT DATA INTO GRAPH USING CSV\n",
    "\n",
    "l_inp = \"gs://farrell-bucket/50_csv_sf-0.003-bi-node_headers.txt\"\n",
    "\n",
    "l_dir = \"gs://farrell-bucket/\"\n",
    "\n",
    "import_data.csv(\n",
    "   my_graph,\n",
    "   input_node_path = l_inp,\n",
    "   input_dir = l_dir,\n",
    "   data_delimiter = \"|\",\n",
    "   schema_delimiter = \"|\",\n",
    "   files_have_headers = True,\n",
    "   # partition_policy=\"random-oec\"\n",
    "   )\n",
    "\n",
    "print(\"--\")\n"
   ]
  },
  {
   "cell_type": "code",
   "execution_count": null,
   "id": "a340cd6d-eeed-4fbe-a913-bf8f7e23d3c0",
   "metadata": {},
   "outputs": [],
   "source": [
    "display(my_graph.num_nodes())\n",
    "display(my_graph.num_edges())"
   ]
  },
  {
   "cell_type": "code",
   "execution_count": null,
   "id": "027a0522-9945-4357-962e-db7665e7dc53",
   "metadata": {},
   "outputs": [],
   "source": [
    "#  COUNT ALL NODES, functionally same as above\n",
    "\n",
    "result = my_graph.query(\"\"\"\n",
    "\n",
    "   MATCH (n)\n",
    "   RETURN COUNT(n)\n",
    "    \n",
    "   \"\"\")\n",
    "\n",
    "print(result)\n"
   ]
  },
  {
   "cell_type": "code",
   "execution_count": null,
   "id": "7c2d128a-7c4c-4e60-b505-7d6e1799a77b",
   "metadata": {},
   "outputs": [],
   "source": [
    "# ##################################################################"
   ]
  },
  {
   "cell_type": "code",
   "execution_count": null,
   "id": "58a40a1a-adf5-4a9d-889c-3d7931c4daea",
   "metadata": {},
   "outputs": [],
   "source": [
    "#  IMPORT DATA FROM PARQUET\n",
    "\n",
    "from katana.remote import import_data\n",
    "\n",
    "# input_node_path = \"gs://farrell-ldbc/headers-parquet/sf-0.003-bi-node_headers.txt\"\n",
    "# input_edge_path = \"gs://farrell-ldbc/headers-parquet/sf-0.003-bi-edge_headers.txt\"\n",
    "   #\n",
    "# dataset_dir = \"gs://farrell-ldbc/sf-0.003-parquet/\"\n",
    "\n",
    "input_node_path = \"gs://farrell-ldbc2/headers-parquet/sf-0.003-bi-node_headers.txt\"\n",
    "input_edge_path = \"gs://farrell-ldbc2/headers-parquet/sf-0.003-bi-edge_headers.txt\"\n",
    "   #\n",
    "dataset_dir = \"gs://farrell-ldbc2/\"\n",
    "\n",
    "# Load the initial graph\n",
    "\n",
    "import_data.parquet(\n",
    "   my_graph,\n",
    "      #\n",
    "   input_node_path  = input_node_path,\n",
    "   input_edge_path  = input_edge_path,\n",
    "   input_dir        = dataset_dir,\n",
    "      #\n",
    "   schema_delimiter = \"|\",\n",
    "   ids_are_integers = True\n",
    ")\n",
    "\n",
    "print(\"--\")\n"
   ]
  },
  {
   "cell_type": "code",
   "execution_count": null,
   "id": "be368507-fc1d-42e6-b757-8434e2282a1a",
   "metadata": {},
   "outputs": [],
   "source": [
    "display(my_graph.num_nodes())\n",
    "display(my_graph.num_edges())\n"
   ]
  },
  {
   "cell_type": "code",
   "execution_count": null,
   "id": "cec1e92a-72b6-42c1-a833-7b6cf2cf9b06",
   "metadata": {},
   "outputs": [],
   "source": [
    "# ##################################################################"
   ]
  },
  {
   "cell_type": "code",
   "execution_count": null,
   "id": "4e8ec46b-8d55-43c8-baed-34165482cb75",
   "metadata": {},
   "outputs": [],
   "source": [
    "\n",
    "result = my_graph.query(\"\"\"\n",
    "\n",
    "   MATCH (n) RETURN distinct labels(n) as label, count(*)\n",
    "\n",
    "   \"\"\")\n",
    "\n",
    "print(result)\n"
   ]
  },
  {
   "cell_type": "code",
   "execution_count": null,
   "id": "fda39d1c-c836-4531-b938-04466b0230db",
   "metadata": {},
   "outputs": [],
   "source": [
    "\n",
    "result = my_graph.query(\"\"\"\n",
    "\n",
    "   MATCH ()-[e]->() RETURN distinct type(e) as edge_type, count(*)\n",
    "\n",
    "   \"\"\")\n",
    "\n",
    "print(result)\n"
   ]
  },
  {
   "cell_type": "code",
   "execution_count": null,
   "id": "b4167207-1bc6-47ba-a86b-1585c636f67b",
   "metadata": {},
   "outputs": [],
   "source": [
    "# ##################################################################"
   ]
  },
  {
   "cell_type": "code",
   "execution_count": null,
   "id": "e17df35d-9858-45cb-aea6-cc214ebbf4cb",
   "metadata": {},
   "outputs": [],
   "source": [
    "display(my_graph.schema().nodes())\n",
    "display(my_graph.schema().edges())"
   ]
  },
  {
   "cell_type": "code",
   "execution_count": null,
   "id": "7e9e66fd-5001-44d7-b596-c37a896f2834",
   "metadata": {},
   "outputs": [],
   "source": [
    "my_graph.schema().view()"
   ]
  }
 ],
 "metadata": {
  "kernelspec": {
   "display_name": "Python 3 (ipykernel)",
   "language": "python",
   "name": "python3"
  },
  "language_info": {
   "codemirror_mode": {
    "name": "ipython",
    "version": 3
   },
   "file_extension": ".py",
   "mimetype": "text/x-python",
   "name": "python",
   "nbconvert_exporter": "python",
   "pygments_lexer": "ipython3",
   "version": "3.8.13"
  }
 },
 "nbformat": 4,
 "nbformat_minor": 5
}
