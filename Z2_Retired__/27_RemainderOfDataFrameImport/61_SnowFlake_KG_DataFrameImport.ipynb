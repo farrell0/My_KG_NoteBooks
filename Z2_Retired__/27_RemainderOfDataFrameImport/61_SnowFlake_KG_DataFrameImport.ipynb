{
 "cells": [
  {
   "cell_type": "markdown",
   "id": "270a88c5-043f-4d68-b9d8-9f3901a290ea",
   "metadata": {},
   "source": [
    "\n",
    "\n",
    "\n",
    "\n",
    "\n",
    "\n",
    "\n",
    "\n",
    "\n",
    "\n",
    "\n",
    "\n",
    "\n"
   ]
  },
  {
   "cell_type": "markdown",
   "id": "76f4441e-994f-45fc-93ae-9588fa83522c",
   "metadata": {},
   "source": [
    "# Importing SnowFlake database server data into KatanaGraph using Python Pandas/Dask DataFrames\n",
    "\n",
    "[![](./01_Images/SnowFlake_logo.png)](https://www.katanagraph.com)\n",
    "\n",
    "**This section details how to import data from a SnowFlake database server, into KatanaGraph using Python Pandas/Dask DataFrames.**\n",
    "<br>\n",
    "Presumably, SnowFlake is acting as the system of record, for operational data, and you wish to import that data into KatanaGraph,\n",
    "where you can perform; graph queries, graph analytics, graph machine learning and mining.\n",
    "\n",
    "## Importing data into KatanaGraph:\n",
    "\n",
    "All told, there are several means to (get data into) Katanagraph, as well as affect data that is already present. These include: \n",
    "importing, manpiulating, and mutating.\n",
    "\n",
    "- For a full treatment on all of (importing, manipulating, and mutating) data into and inside KatanaGraph, see [Here](https://www/google.com).\n",
    "- Here we detail importing data from SnowFlake into KatanaGraph using Python Pandas/Dask DataFrames.\n",
    "\n",
    "To source data from SnowFlake, you can use SQLAlchemy, [Here](https://docs.snowflake.com/en/user-guide/sqlalchemy.html)\n",
    "or the SnowFlake Connector for Python, [Here](https://docs.snowflake.com/en/user-guide/python-connector-pandas.html).\n",
    "This section uses the latter.\n",
    "\n",
    "\n",
    "## In this section, the following assumptions are made:\n",
    "\n",
    "-  You have a functional Katanagraph cluster that you can authenticate against, with at least 3 worker nodes. See [Here](https://www/google.com).\n",
    "-  You have a functional SnowFlake database server that you can authenticate against. If you are using the SnowFlake free/developer tier\n",
    "   you will need a username and password, and your \"account\" value. One means to attain your account value is to visit your Welcome/Sigup\n",
    "   email from SnowFlake. In the image below, we need to copy the value, KR61275.us-central1.gcp\n",
    "   \n",
    "![Account Value](./01_Images/SnowFlake_creds.png)\n",
    "   \n",
    "-  For this example, we use the common SnowFlake demonstration database titled, snowflake_sample_data.tpch_sf1, and the tables titled;\n",
    "   Customer and Nation. Customer and Nation become our vertices/nodes. For edge/realtionship records, we extract the join pairs between\n",
    "   Customer and Nation from the Customer table.\n",
    "\n",
    "![Data Model](./01_Images/models2.png) \n",
    "\n"
   ]
  },
  {
   "cell_type": "code",
   "execution_count": null,
   "id": "3c7ed2b5-c645-4a7d-9e95-86b2eea5465a",
   "metadata": {},
   "outputs": [],
   "source": [
    "import pandas as pd\n",
    "from pandas import DataFrame\n",
    "\n",
    "\n",
    "#  From,\n",
    "#     https://docs.snowflake.com/en/user-guide/python-connector-pandas.html\n",
    "#\n",
    "#  pip install \"snowflake-connector-python[pandas]\"\n",
    "\n",
    "import snowflake.connector\n",
    "\n",
    "print(\"--\")\n"
   ]
  },
  {
   "cell_type": "code",
   "execution_count": null,
   "id": "7f2ef5b5-aba4-4970-9125-ef3f8eee9091",
   "metadata": {},
   "outputs": [],
   "source": [
    "#  Our credentials allowing connectivity to SnowFlake\n",
    "\n",
    "l_connector_sf  = snowflake.connector.connect(\n",
    "   user         = \"farrell0\",\n",
    "   password     = \"Fs_St1nky28!\",\n",
    "   account      = \"KR61275.us-central1.gcp\"\n",
    "   )\n",
    "\n",
    "print(\"--\")\n"
   ]
  },
  {
   "cell_type": "code",
   "execution_count": null,
   "id": "20265414-f575-484e-84b0-3931b30ea80b",
   "metadata": {},
   "outputs": [],
   "source": [
    "#  Verfication; Can we connect to SnowFlake correctly ..\n",
    "\n",
    "# l_cursor = l_connector_sf.cursor()\n",
    "# \n",
    "# try:\n",
    "#    l_cursor.execute(\"SELECT current_version()\")\n",
    "#    one_row = l_cursor.fetchone()\n",
    "#    print(one_row[0])\n",
    "# \n",
    "# finally:\n",
    "#    l_cursor.close()\n",
    "#     \n",
    "# l_connector_sf.close()\n"
   ]
  },
  {
   "cell_type": "code",
   "execution_count": null,
   "id": "df243351-28c4-4b40-ac61-30851b5302e7",
   "metadata": {},
   "outputs": [],
   "source": [
    "#  Get SnowFlake: Customer\n",
    "\n",
    "l_customer1  = DataFrame(list(l_connector_sf.cursor().execute(\"SELECT c_custkey, c_name, c_address, c_phone, c_comment, c_mktsegment, c_nationkey, c_acctbal FROM snowflake_sample_data.tpch_sf1.customer\").fetchall()))\n",
    "   #\n",
    "l_customer2 = l_customer1.rename(columns={0: \"c_custkey\", 1: \"c_name\", 2: \"c_address\", 3: \"c_phone\", 4: \"c_comment\", 5: \"c_mktsegment\", 6: \"c_nationkey\", 7: \"c_acctbal\"})\n",
    "\n",
    "\n",
    "display(\"Number of records: \" + str(len(l_customer2.index)))\n",
    "   #\n",
    "display(l_customer2.head(5))\n",
    "\n",
    "\n",
    "print(\"--\")    \n",
    "    "
   ]
  },
  {
   "cell_type": "code",
   "execution_count": null,
   "id": "7e166dd3-4919-4e11-acfe-eb9c4364ff39",
   "metadata": {},
   "outputs": [],
   "source": [
    "#  Get SnowFlake: Nation\n",
    "\n",
    "l_nation1  = DataFrame(list(l_connector_sf.cursor().execute(\"SELECT n_nationkey, n_name, n_comment, n_regionkey FROM snowflake_sample_data.tpch_sf1.nation\").fetchall()))\n",
    "   #\n",
    "l_nation2 = l_nation1.rename(columns={0: \"n_nationkey\", 1: \"n_name\", 2: \"n_comment\", 3: \"n_regionkey\"})\n",
    "\n",
    "\n",
    "display(\"Number of records: \" + str(len(l_nation2.index)))\n",
    "   #\n",
    "display(l_nation2.head(5))\n",
    "\n",
    "\n",
    "print(\"--\") \n"
   ]
  },
  {
   "cell_type": "code",
   "execution_count": null,
   "id": "7cec8a2f-22d2-4e5f-85a2-918bbdd5adc1",
   "metadata": {},
   "outputs": [],
   "source": [
    "#  Get SnowFlake: (Edge records)\n",
    "\n",
    "l_InNation1  = DataFrame(list(l_connector_sf.cursor().execute(\"SELECT c_custkey, c_nationkey FROM snowflake_sample_data.tpch_sf1.customer\").fetchall()))\n",
    "   #\n",
    "l_InNation2 = l_InNation1.rename(columns={0: \"c_custkey\", 1: \"n_nationkey\"})\n",
    "\n",
    "\n",
    "display(\"Number of records: \" + str(len(l_InNation2.index)))\n",
    "   #\n",
    "display(l_InNation2.head(5))\n",
    "\n",
    "\n",
    "print(\"--\") "
   ]
  },
  {
   "cell_type": "markdown",
   "id": "894ce973-813c-4cae-94a5-3de821c17234",
   "metadata": {},
   "source": [
    "#  Graph setup .."
   ]
  },
  {
   "cell_type": "code",
   "execution_count": null,
   "id": "0da1f3e6-e7ea-4259-a1d4-2c2fa3ab7e8d",
   "metadata": {},
   "outputs": [],
   "source": [
    "#  Variables settings used later\n",
    "\n",
    "NUM_PARTITIONS  = 5\n",
    "\n",
    "DB_NAME         = \"my_db\"\n",
    "GRAPH_NAME      = \"my_graph\"\n",
    "\n",
    "print(\"--\")\n"
   ]
  },
  {
   "cell_type": "code",
   "execution_count": null,
   "id": "7d182952-73cd-4305-80c2-14e866254383",
   "metadata": {},
   "outputs": [],
   "source": [
    "#  Get a KatanaGraph Connection handle \n",
    "\n",
    "import os\n",
    "\n",
    "from katana import remote\n",
    "from katana.remote import import_data\n",
    "\n",
    "\n",
    "my_client = remote.Client()\n",
    "\n",
    "print(my_client)\n"
   ]
  },
  {
   "cell_type": "code",
   "execution_count": null,
   "id": "df530f3e-e86b-41c7-98a7-f36fab369246",
   "metadata": {},
   "outputs": [],
   "source": [
    "#  CREATE DATABASE\n",
    "\n",
    "my_database = my_client.create_database(name=DB_NAME)\n",
    "\n",
    "print(my_database.database_id)"
   ]
  },
  {
   "cell_type": "code",
   "execution_count": null,
   "id": "b0e3e805-12f4-4d89-a06e-7a975c0edd32",
   "metadata": {},
   "outputs": [],
   "source": [
    "#  CREATE A GRAPH\n",
    "\n",
    "my_graph=my_client.get_database(name=DB_NAME).create_graph(name=GRAPH_NAME, num_partitions=NUM_PARTITIONS)\n",
    "\n",
    "print(my_graph)"
   ]
  },
  {
   "cell_type": "markdown",
   "id": "4421485e-141d-4c0a-a944-420ca49551ff",
   "metadata": {},
   "source": [
    "#  Make the Graph from the 3 previously imported DataFrames"
   ]
  },
  {
   "cell_type": "code",
   "execution_count": null,
   "id": "385ebbe5-6423-41d9-b167-2158ea8dbfd2",
   "metadata": {},
   "outputs": [],
   "source": [
    "# Import the 3 previously created (LDBC) Python DataFrames into KatanaGraph\n",
    "\n",
    "with import_data.DataFrameImporter(my_graph) as df_importer:   \n",
    "    \n",
    "   df_importer.nodes_dataframe(l_customer2,                    #  Customer set of Nodes\n",
    "      id_column             = \"c_custkey\",\n",
    "      id_space              = \"Customer\",  \n",
    "      label                 = \"Customer\",  \n",
    "      )\n",
    "    \n",
    "   df_importer.nodes_dataframe(l_nation2,                      #  Nation set of Nodes\n",
    "      id_column             = \"n_nationkey\",\n",
    "      id_space              = \"Nation\", \n",
    "      label                 = \"Nation\", \n",
    "      )\n",
    "   \n",
    "   df_importer.edges_dataframe(l_InNation2,                    #  Our Edge, specifying the relationship between Customer --> IN_NATION --> Nation\n",
    "      source_id_space       = \"Customer\", \n",
    "      destination_id_space  = \"Nation\",   \n",
    "      source_column         = \"c_custkey\",\n",
    "      destination_column    = \"n_nationkey\",\n",
    "      type                  = \"IN_NATION\"\n",
    "      )\n",
    "\n",
    "print(\"--\")"
   ]
  },
  {
   "cell_type": "markdown",
   "id": "980f8bb5-4bab-46ca-8e1e-f6061b79533e",
   "metadata": {},
   "source": [
    "#  The result set should resemble\n",
    "\n",
    "![Data Model](./01_Images/result_set3.png)  "
   ]
  },
  {
   "cell_type": "code",
   "execution_count": null,
   "id": "2cbe8368-ffec-4eef-9369-eddeacb50603",
   "metadata": {},
   "outputs": [],
   "source": [
    "#  Take a look at the graph ..\n",
    "\n",
    "display(my_graph.num_nodes())\n",
    "display(my_graph.num_edges())\n",
    "\n",
    "l_result = my_graph.query(\"\"\"\n",
    "\n",
    "   MATCH (n)  - [ r ] ->  (m )\n",
    "   RETURN n, m, r\n",
    "   LIMIT 100\n",
    "   \n",
    "   \"\"\", contextualize=True)\n",
    "\n",
    "l_result.view()"
   ]
  }
 ],
 "metadata": {
  "kernelspec": {
   "display_name": "Python 3 (ipykernel)",
   "language": "python",
   "name": "python3"
  },
  "language_info": {
   "codemirror_mode": {
    "name": "ipython",
    "version": 3
   },
   "file_extension": ".py",
   "mimetype": "text/x-python",
   "name": "python",
   "nbconvert_exporter": "python",
   "pygments_lexer": "ipython3",
   "version": "3.8.13"
  }
 },
 "nbformat": 4,
 "nbformat_minor": 5
}
