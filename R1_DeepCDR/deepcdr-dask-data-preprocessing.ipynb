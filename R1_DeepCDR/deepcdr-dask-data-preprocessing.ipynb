{
 "cells": [
  {
   "cell_type": "markdown",
   "id": "cdc0d83c-9cef-40ec-b7fb-23e8a4f7bc42",
   "metadata": {},
   "source": [
    "## Data Engineering"
   ]
  },
  {
   "cell_type": "code",
   "execution_count": 1,
   "id": "5bf38b1e-15d9-4aa4-9459-a171b9745e60",
   "metadata": {},
   "outputs": [
    {
     "name": "stdout",
     "output_type": "stream",
     "text": [
      "--\n"
     ]
    }
   ],
   "source": [
    "\n",
    "import dask.dataframe as dd\n",
    "from katana import remote\n",
    "from katana.remote import analytics, import_data\n",
    "from katana.remote.import_data import DataFrameImporter\n",
    "\n",
    "client = remote.Client()\n",
    "client.server_version\n",
    "\n",
    "print(\"--\")\n",
    "\n"
   ]
  },
  {
   "cell_type": "markdown",
   "id": "c0e83688-3a6f-460d-bc93-77414eb726ab",
   "metadata": {},
   "source": [
    "## Dask Data Ingestion"
   ]
  },
  {
   "cell_type": "code",
   "execution_count": null,
   "id": "2423127a-4f6b-4087-840c-ded52e5abce2",
   "metadata": {},
   "outputs": [],
   "source": [
    "%%time\n",
    "\n",
    "input_dir_path = \"gs://katana-providence/deep-cdr/\"\n",
    "\n",
    "node_dd = {}\n",
    "\n",
    "node_type = \"CELL_LINE\"\n",
    "cell_line = input_dir_path + \"cell_lines.csv\"\n",
    "node_dd[node_type] = dd.read_csv(\n",
    "    cell_line, sep=\",\", dtype={\"CCLE_ID\": \"object\", \"Doubling.Time.from.Vendor\": \"object\", \"Life_Stage\": \"object\"}\n",
    ")\n",
    "node_dd[node_type] = node_dd[node_type].rename(columns={\"depMapID\": \"id\"})\n",
    "node_dd[node_type] = node_dd[node_type].drop(node_dd[node_type].columns[0], axis=1)\n",
    "node_dd[node_type] = node_dd[node_type].drop(node_dd[node_type].columns[13:27], axis=1)\n",
    "\n",
    "node_type = \"GDSC\"\n",
    "cell_line = input_dir_path + \"gdsc.csv\"\n",
    "node_dd[node_type] = dd.read_csv(cell_line, sep=\",\", dtype={\"id\": \"object\"})\n",
    "node_dd[node_type] = node_dd[node_type].drop(node_dd[node_type].columns[0], axis=1)\n",
    "\n",
    "node_type = \"GENE\"\n",
    "cell_line = input_dir_path + \"genes.csv\"\n",
    "node_dd[node_type] = dd.read_csv(cell_line, sep=\",\", dtype={\"ID\": \"object\"})\n",
    "node_dd[node_type] = node_dd[node_type].rename(columns={\"ID\": \"id\"})\n",
    "node_dd[node_type] = node_dd[node_type].drop(node_dd[node_type].columns[0], axis=1)\n",
    "\n",
    "node_type = \"DRUG\"\n",
    "cell_line = input_dir_path + \"merged_drug_smiles.csv\"\n",
    "node_dd[node_type] = dd.read_csv(cell_line, sep=\",\", dtype={\"pub_chem_id\": \"object\"})\n",
    "node_dd[node_type] = node_dd[node_type].rename(columns={\"pub_chem_id\": \"id\"})\n",
    "node_dd[node_type] = node_dd[node_type].drop(node_dd[node_type].columns[0], axis=1)\n",
    "\n",
    "\n",
    "node_dd[\"CELL_LINE\"].head()"
   ]
  },
  {
   "cell_type": "code",
   "execution_count": null,
   "id": "f785b60a-92e7-4055-a572-9d19e6fd82f9",
   "metadata": {},
   "outputs": [],
   "source": [
    "edges = {\n",
    "    \"gdsc_cl_edges\": (\"HAS_CELL_LINE\", \"GDSC\", \"CELL_LINE\"),\n",
    "    \"genomics_edges\": (\"HAS_GENE_OBSERVATION\", \"CELL_LINE\", \"GENE\"),\n",
    "    \"gdsc_drug_edges\": (\"FOR_DRUG\", \"GDSC\", \"DRUG\"),\n",
    "}\n",
    "\n",
    "edge_dd = {}\n",
    "for filename, edge_type in edges.items():\n",
    "    print(edge_type)\n",
    "    file_name = input_dir_path + filename + \".csv\"\n",
    "    edge_dd[edge_type] = dd.read_csv(file_name, sep=\",\", dtype={\"START_ID\": \"object\", \"END_ID\": \"object\"})\n",
    "    edge_dd[edge_type] = edge_dd[edge_type].dropna()\n",
    "    edge_dd[edge_type] = edge_dd[edge_type][edge_dd[edge_type].END_ID != \"none\"]\n",
    "    edge_dd[edge_type] = edge_dd[edge_type].drop(edge_dd[edge_type].columns[0], axis=1)"
   ]
  },
  {
   "cell_type": "code",
   "execution_count": null,
   "id": "19ae850f-7595-482f-9ace-74e9f32cf3a4",
   "metadata": {},
   "outputs": [],
   "source": [
    "partitions = 4\n",
    "client = remote.Client()\n",
    "graph = client.create_graph(num_partitions=partitions)"
   ]
  },
  {
   "cell_type": "markdown",
   "id": "caf81974-b06d-45eb-aa47-c9ed5d4a7985",
   "metadata": {},
   "source": [
    "## Create Graph using Dask DataFrame"
   ]
  },
  {
   "cell_type": "code",
   "execution_count": null,
   "id": "144cc605-0850-44be-99e3-6e8ba0bdfcc4",
   "metadata": {},
   "outputs": [],
   "source": [
    "%%time\n",
    "print(\"Importing graph from dataframe files into graph...\")\n",
    "with DataFrameImporter(graph) as df_importer:\n",
    "    for node_type, dd in node_dd.items():\n",
    "        df_importer.nodes_dataframe(dd, id_column=\"id\", id_space=node_type)\n",
    "    for tup, dd in edge_dd.items():\n",
    "        source_col = \"START_ID\"\n",
    "        destination_col = \"END_ID\"\n",
    "        df_importer.edges_dataframe(\n",
    "            dd,\n",
    "            source_id_space=tup[1],\n",
    "            destination_id_space=tup[2],\n",
    "            source_column=source_col,\n",
    "            destination_column=destination_col,\n",
    "            type=tup[0],\n",
    "        )\n",
    "    df_importer.insert()\n",
    "print(\"{} nodes, {} edges\".format(graph.num_nodes(), graph.num_edges()))"
   ]
  },
  {
   "cell_type": "code",
   "execution_count": null,
   "id": "7497565e-06d2-4113-836b-00d835ef7977",
   "metadata": {},
   "outputs": [],
   "source": [
    "graph.schema().view()"
   ]
  },
  {
   "cell_type": "markdown",
   "id": "d06d494a-2ee1-4a9f-a2c1-d9c0452ac620",
   "metadata": {},
   "source": [
    "## PreProcessing: Prepare graph for downstream ML training"
   ]
  },
  {
   "cell_type": "code",
   "execution_count": null,
   "id": "c3a920a2-803b-4036-804c-71afc15b0725",
   "metadata": {},
   "outputs": [],
   "source": [
    "graph.query(\n",
    "    \"\"\"\n",
    "    MATCH (c:CELL_LINE)-[r:HAS_GENE_OBSERVATION]->(g:GENE)\n",
    "    WHERE (r.source = \"genomics_expression\")\n",
    "    WITH c, r, g\n",
    "    ORDER by g.ID\n",
    "    WITH c, collect(r.observation) as genomics_expression\n",
    "    SET c.genomics_expression = genomics_expression\n",
    "    \"\"\"\n",
    ")\n",
    "\n",
    "graph.query(\n",
    "    \"\"\"\n",
    "    MATCH (c:CELL_LINE)-[r:HAS_GENE_OBSERVATION]->(g:GENE)\n",
    "    WHERE (r.source = \"genomics_mutation\")\n",
    "    WITH c, r, g\n",
    "    ORDER by g.ID\n",
    "    WITH c, collect(r.observation) as genomics_mutation\n",
    "    SET c.genomics_mutation = genomics_mutation\n",
    "    \"\"\"\n",
    ")\n",
    "\n",
    "graph.query(\n",
    "    \"\"\"\n",
    "    MATCH (c:CELL_LINE)-[r:HAS_GENE_OBSERVATION]->(g:GENE)\n",
    "    WHERE (r.source = \"genomics_methylation\")\n",
    "    WITH c, r, g\n",
    "    ORDER by g.ID\n",
    "    WITH c, collect(r.observation) as genomics_methylation\n",
    "    SET c.genomics_methylation = genomics_methylation \n",
    "    \"\"\"\n",
    ");"
   ]
  },
  {
   "cell_type": "code",
   "execution_count": null,
   "id": "921efca4",
   "metadata": {},
   "outputs": [],
   "source": [
    "df_cell_lines = graph.query(\n",
    "    \"\"\"\n",
    "    MATCH (c:CELL_LINE)\n",
    "    WITH c.CCLE_ID as CCLE_ID,\n",
    "        c.genomics_expression as genomics_expression,\n",
    "        c.genomics_mutation as genomics_mutation,\n",
    "        c.genomics_methylation as genomics_methylation\n",
    "    WHERE genomics_expression IS NOT NULL\n",
    "        AND genomics_mutation IS NOT NULL\n",
    "        AND genomics_methylation IS NOT NULL\n",
    "    RETURN CCLE_ID, genomics_expression, genomics_mutation, genomics_methylation\n",
    "    \"\"\"\n",
    ")\n",
    "df_cell_lines.head()"
   ]
  },
  {
   "cell_type": "code",
   "execution_count": null,
   "id": "34107d79",
   "metadata": {},
   "outputs": [],
   "source": [
    "preprocessed_graph = graph.create_snapshot_at_version()\n",
    "preprocessed_graph.query(\n",
    "    \"\"\"\n",
    "    MATCH (c:CELL_LINE)\n",
    "    WHERE c.genomics_methylation IS NULL\n",
    "    OR c.genomics_expression IS NULL\n",
    "    OR c.genomics_mutation IS NULL\n",
    "    DETACH DELETE c\n",
    "    \"\"\"\n",
    ");"
   ]
  },
  {
   "cell_type": "code",
   "execution_count": null,
   "id": "f3827356-8e6a-4983-87be-6334fabae4be",
   "metadata": {},
   "outputs": [],
   "source": [
    "# Print some basic statistics\n",
    "preprocessed_graph.query(\n",
    "    \"\"\"MATCH (a:DRUG)<-[:FOR_DRUG]-(g:GDSC)-[:HAS_CELL_LINE]->(c:CELL_LINE)\n",
    "RETURN COUNT(Distinct a) as DRUG, COUNT(Distinct g) as GDSC, COUNT(Distinct c) as CELL_LINE,\n",
    "COUNT(a) as DRUG_CELL_LINE_PAIRS\"\"\"\n",
    ").head()"
   ]
  },
  {
   "cell_type": "code",
   "execution_count": null,
   "id": "367e1ce9-ce16-4564-b25a-ec5c1d1821d2",
   "metadata": {},
   "outputs": [],
   "source": [
    "preprocessed_graph.schema().view()"
   ]
  }
 ],
 "metadata": {
  "katana": {
   "component": "AI",
   "max_num_hosts": 4
  },
  "kernelspec": {
   "display_name": "Python 3 (ipykernel)",
   "language": "python",
   "name": "python3"
  },
  "language_info": {
   "codemirror_mode": {
    "name": "ipython",
    "version": 3
   },
   "file_extension": ".py",
   "mimetype": "text/x-python",
   "name": "python",
   "nbconvert_exporter": "python",
   "pygments_lexer": "ipython3",
   "version": "3.8.13"
  },
  "vscode": {
   "interpreter": {
    "hash": "b0fa6594d8f4cbf19f97940f81e996739fb7646882a419484c72d19e05852a7e"
   }
  }
 },
 "nbformat": 4,
 "nbformat_minor": 5
}
