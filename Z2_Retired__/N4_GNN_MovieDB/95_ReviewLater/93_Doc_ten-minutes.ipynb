{
 "cells": [
  {
   "cell_type": "markdown",
   "id": "664c9931-afb8-4332-84ab-79f24976f37d",
   "metadata": {},
   "source": [
    "# 10 Minutes to Katana Graph \n",
    "This tutorial shows you how to use the remote Python API of the Katana Graph Intelligence Platform (KGIP) to create a simple graph and try out some of Katana Graph's features on that graph. (Learn more about the differences between the KGIP remote and distributed Python APIs at [The Two Katana APIs](Two-Katana-APIs).)\n",
    "\n",
    "This notebook assumes that the `katana` library is available to your Jupyter notebook's Python processor. \n",
    "\n",
    "First, we'll import that library that enables Katana features:"
   ]
  },
  {
   "cell_type": "code",
   "execution_count": 1,
   "id": "882a0bf0-8dd6-41f8-bf17-72037c95160a",
   "metadata": {},
   "outputs": [],
   "source": [
    "from katana import remote"
   ]
  },
  {
   "cell_type": "markdown",
   "id": "3de096a7-29fe-4fba-a065-4c490f83dbab",
   "metadata": {},
   "source": [
    "## Creating a graph"
   ]
  },
  {
   "cell_type": "markdown",
   "id": "966965ae-df57-481b-b4c2-8dc83572cb00",
   "metadata": {},
   "source": [
    "We'll use an instance of the the `katana` library's [`Client`](katana.remote.Client) class to create our graph."
   ]
  },
  {
   "cell_type": "code",
   "execution_count": 2,
   "id": "2dddccc1-6498-4b11-aa2b-c02d5c3fe870",
   "metadata": {
    "tags": []
   },
   "outputs": [],
   "source": [
    "client = remote.Client()"
   ]
  },
  {
   "cell_type": "markdown",
   "id": "c25746de-5ffa-42b1-add7-7a1ad7f8da7a",
   "metadata": {},
   "source": [
    "When you create a graph, you can put it in a named database that you [create yourself](katana.remote.Client.create_database), but we will store this graph in the default database.\n",
    "\n",
    "Setting a partition value for a graph lets you divide the processing of that graph across that number of worker nodes in a cluster. To play with the KGIP features, we'll use a very small graph, so we only need one partition. "
   ]
  },
  {
   "cell_type": "code",
   "execution_count": 3,
   "id": "cf103e44-a467-44bc-9a97-1bd4aa982450",
   "metadata": {},
   "outputs": [],
   "source": [
    "graph = client.create_graph(num_partitions=1)"
   ]
  },
  {
   "cell_type": "markdown",
   "id": "34b62c52-ce65-4d8e-9dd4-ba0c2d5478b6",
   "metadata": {},
   "source": [
    "We can start by using the `Graph` class's `num_nodes` method to find out how many nodes our new graph has. (This may take a minute or so because the system has to do some setup before it can complete its first operation on the graph.)"
   ]
  },
  {
   "cell_type": "code",
   "execution_count": 4,
   "id": "a8fb85b4-fd85-4a44-a7e7-7389112e0546",
   "metadata": {
    "tags": []
   },
   "outputs": [
    {
     "data": {
      "application/vnd.jupyter.widget-view+json": {
       "model_id": "c90b007efce144a4ad2329d8b254de8f",
       "version_major": 2,
       "version_minor": 0
      },
      "text/plain": [
       "          0/? [?op/s]"
      ]
     },
     "metadata": {},
     "output_type": "display_data"
    },
    {
     "name": "stdout",
     "output_type": "stream",
     "text": [
      "0\n"
     ]
    }
   ],
   "source": [
    "print(graph.num_nodes())"
   ]
  },
  {
   "cell_type": "markdown",
   "id": "621fbe48-d738-4962-8dac-7377558f2b78",
   "metadata": {},
   "source": [
    "Next we'll load four nodes and three edges about some fictional company employees into the new graph. For our sample graph, well pass a Cypher `CREATE` query to the KGIP Python API's `query()` method. You can pass almost any kind of Cypher query to this method to modify and query the graph. \n",
    "\n",
    "KGIP is a cloud-native platform, and in a more serious application you would be loading a much larger data set from cloud-based storage resources such as AWS or Google Cloud storage buckets. This data can be CSV, KGIP's own RDG format, pandas DataFrames, Parquet, and other formats. "
   ]
  },
  {
   "cell_type": "code",
   "execution_count": 5,
   "id": "a12b4098-4e32-4f52-91ef-729962c583c2",
   "metadata": {},
   "outputs": [
    {
     "data": {
      "application/vnd.jupyter.widget-view+json": {
       "model_id": "c5a388bcbbcd4462b70defa817ed66e3",
       "version_major": 2,
       "version_minor": 0
      },
      "text/plain": [
       "          0/? [?op/s]"
      ]
     },
     "metadata": {},
     "output_type": "display_data"
    }
   ],
   "source": [
    "result = graph.query(\n",
    "\"\"\"  \n",
    "CREATE (alex:Employee {name:\"Alex\",title: \"president\",hireDate: date(\"2022-07-03\")}) ,\n",
    "        (bailey:Employee {name:\"Bailey\",title: \"CMO\",hireDate: date(\"2022-07-04\")}) ,\n",
    "        (bailey)-[:REPORTS_TO]->(alex),\n",
    "        (cassidy:Employee {name:\"Cassidy\",title: \"CTO\",hireDate: date(\"2022-07-04\")}) ,\n",
    "        (cassidy)-[:REPORTS_TO]->(alex),\n",
    "        (dana:Consultant {name:\"Dana\",title: \"engineer\",hireDate: date(\"2022-07-05\")}),\n",
    "        (dana)-[:REPORTS_TO]->(cassidy)\n",
    "\"\"\"\n",
    ")"
   ]
  },
  {
   "cell_type": "markdown",
   "id": "2a9beb10-fefc-40a6-9e09-3ea9d0016105",
   "metadata": {},
   "source": [
    "Now how many nodes does `graph` have? "
   ]
  },
  {
   "cell_type": "code",
   "execution_count": 6,
   "id": "74c2e4dc-c46e-4555-9a97-8b8d71d7bb56",
   "metadata": {},
   "outputs": [
    {
     "data": {
      "application/vnd.jupyter.widget-view+json": {
       "model_id": "db934a3673b7418ebcd669be43aae28a",
       "version_major": 2,
       "version_minor": 0
      },
      "text/plain": [
       "          0/? [?op/s]"
      ]
     },
     "metadata": {},
     "output_type": "display_data"
    },
    {
     "name": "stdout",
     "output_type": "stream",
     "text": [
      "4\n"
     ]
    }
   ],
   "source": [
    "print(graph.num_nodes())"
   ]
  },
  {
   "cell_type": "markdown",
   "id": "7ef48872-390e-41c8-9e51-297bcbd5eea4",
   "metadata": {},
   "source": [
    "## Viewing the graph schema"
   ]
  },
  {
   "cell_type": "markdown",
   "id": "1394c573-c5fe-4e0f-9dbb-02bf7b9645bd",
   "metadata": {},
   "source": [
    "We can ask the KGIP API about our graph's schema and print out information about its node and edge types. It won't be much for our little graph, but you can use these same tools on much larger and more complex graphs. "
   ]
  },
  {
   "cell_type": "code",
   "execution_count": 7,
   "id": "5af90dd3-215c-419c-b683-ef1f53e0ca44",
   "metadata": {},
   "outputs": [
    {
     "data": {
      "application/vnd.jupyter.widget-view+json": {
       "model_id": "3d5097323f7b4843b18e2ad528303bde",
       "version_major": 2,
       "version_minor": 0
      },
      "text/plain": [
       "          0/? [?op/s]"
      ]
     },
     "metadata": {},
     "output_type": "display_data"
    },
    {
     "name": "stdout",
     "output_type": "stream",
     "text": [
      "\n",
      "Nodes:\n",
      "           type               properties\n",
      "0  [Consultant]  [hireDate, name, title]\n",
      "1    [Employee]  [hireDate, name, title]\n",
      "\n",
      "Edges:\n",
      "         type properties from_node_type to_node_type\n",
      "0  REPORTS_TO         []   [Consultant]   [Employee]\n",
      "1  REPORTS_TO         []     [Employee]   [Employee]\n"
     ]
    }
   ],
   "source": [
    "schema = graph.schema()\n",
    "print(\"\\nNodes:\")\n",
    "print(schema.nodes())\n",
    "print(\"\\nEdges:\")\n",
    "print(schema.edges())"
   ]
  },
  {
   "cell_type": "markdown",
   "id": "4cc1cf01-58ce-40a2-bb37-d4d3d9796e6e",
   "metadata": {},
   "source": [
    "We can also show an interactive visualization of our schema:"
   ]
  },
  {
   "cell_type": "code",
   "execution_count": 8,
   "id": "49dd95f9-6c6c-40e9-a78a-834e576ee422",
   "metadata": {},
   "outputs": [
    {
     "data": {
      "application/vnd.jupyter.widget-view+json": {
       "model_id": "b9b5ce38b50a4333971c0cd100118ee2",
       "version_major": 2,
       "version_minor": 0
      },
      "text/plain": [
       "GraphVizWidget(edges=[{'from': 'Consultant', 'to': 'Employee', 'label': 'REPORTS_TO', 'type': 'REPORTS_TO', 'p…"
      ]
     },
     "metadata": {},
     "output_type": "display_data"
    }
   ],
   "source": [
    "schema.visualize()"
   ]
  },
  {
   "cell_type": "markdown",
   "id": "dc3c2fe1-6b35-4494-90a5-a7441ff65172",
   "metadata": {},
   "source": [
    "![schema visualization](images/TenMinutesToKG4.png)"
   ]
  },
  {
   "cell_type": "markdown",
   "id": "fe511aa7-17d7-459f-8ccc-13b4380730be",
   "metadata": {},
   "source": [
    "## Querying the graph "
   ]
  },
  {
   "cell_type": "markdown",
   "id": "0ae20c20-7936-42b6-a696-33b7fcee0751",
   "metadata": {},
   "source": [
    "Let's run a Cypher query on our graph to ask which employees report to who and then show the result of the query:"
   ]
  },
  {
   "cell_type": "code",
   "execution_count": 9,
   "id": "6ead7d72-6b45-4426-a74d-2fc9091e53f7",
   "metadata": {},
   "outputs": [
    {
     "data": {
      "application/vnd.jupyter.widget-view+json": {
       "model_id": "39dbd28332bb4daea8630f4a331eb266",
       "version_major": 2,
       "version_minor": 0
      },
      "text/plain": [
       "          0/? [?op/s]"
      ]
     },
     "metadata": {},
     "output_type": "display_data"
    }
   ],
   "source": [
    "result = graph.query(\n",
    "\"\"\"  \n",
    "MATCH (e1) -[:REPORTS_TO]->(e2) \n",
    "RETURN e1.name, e1.title, e1.hireDate, e2.name AS reportsTo\n",
    "\"\"\"\n",
    ")"
   ]
  },
  {
   "cell_type": "markdown",
   "id": "b55da0d7-924f-41bd-af73-c0cfc0210dc5",
   "metadata": {},
   "source": [
    "We could use a regular Python `print()` statement to see the results displayed in columns, but instead we'll use the `table()` method, which outputs a scrollable, searchable display."
   ]
  },
  {
   "cell_type": "code",
   "execution_count": 10,
   "id": "762b3ce4-0f93-45c0-b8c1-39b483af9b14",
   "metadata": {},
   "outputs": [
    {
     "data": {
      "application/vnd.jupyter.widget-view+json": {
       "model_id": "ca3c0b58574346159a2caef96bfb8298",
       "version_major": 2,
       "version_minor": 0
      },
      "text/plain": [
       "GridBox(children=(HBox(children=(Text(value='', placeholder='Search...'), Label(value='Count: 3 rows'), HBox(c…"
      ]
     },
     "metadata": {},
     "output_type": "display_data"
    }
   ],
   "source": [
    "result.table()"
   ]
  },
  {
   "cell_type": "markdown",
   "id": "353d93ef-560e-46cd-ad1d-0f2aa6367fc1",
   "metadata": {},
   "source": [
    "![interactive table](images/TenMinutesToKG3.png)"
   ]
  },
  {
   "cell_type": "markdown",
   "id": "3a20239c-fa72-4fff-a371-4ca8f0ee6b2e",
   "metadata": {},
   "source": [
    "When a query returns a node set and includes the `contextualize=True` parameter, we can use the `visualize()` method with the result set. This displays an interactive, customizable visual version of the graph. Try clicking and dragging nodes, dragging the background, and zooming in and out of the image below with your mouse wheel. (You can do all of these with the graph schema visualization shown above as well.)"
   ]
  },
  {
   "cell_type": "code",
   "execution_count": 11,
   "id": "a49c6439-dcab-423f-9ebe-9b9bdd65cf8b",
   "metadata": {},
   "outputs": [
    {
     "data": {
      "application/vnd.jupyter.widget-view+json": {
       "model_id": "5bf19fc03af141d1bbb99c24fcb76858",
       "version_major": 2,
       "version_minor": 0
      },
      "text/plain": [
       "          0/? [?op/s]"
      ]
     },
     "metadata": {},
     "output_type": "display_data"
    },
    {
     "data": {
      "application/vnd.jupyter.widget-view+json": {
       "model_id": "b14b584247a448738a7ef52d7d9b6a1b",
       "version_major": 2,
       "version_minor": 0
      },
      "text/plain": [
       "          0/? [?op/s]"
      ]
     },
     "metadata": {},
     "output_type": "display_data"
    },
    {
     "data": {
      "application/vnd.jupyter.widget-view+json": {
       "model_id": "99ae5232d21c47c9a92d98f66e272c5a",
       "version_major": 2,
       "version_minor": 0
      },
      "text/plain": [
       "GraphVizWidget(edges=[{'from': 0, 'to': 1, 'label': 'REPORTS_TO', 'type': 'REPORTS_TO', 'properties': {}}, {'f…"
      ]
     },
     "metadata": {},
     "output_type": "display_data"
    }
   ],
   "source": [
    "result = graph.query(\n",
    "\"\"\"  \n",
    "MATCH (e1) -[:REPORTS_TO]->(e2) \n",
    "RETURN e1, e2\n",
    "\"\"\", contextualize=True\n",
    ")\n",
    "\n",
    "result.visualize()"
   ]
  },
  {
   "cell_type": "markdown",
   "id": "e34bab2f-7a27-4ae3-8f87-f437bc7aca76",
   "metadata": {},
   "source": [
    "![node query result visualization](images/TenMinutesToKG2.png)"
   ]
  },
  {
   "cell_type": "markdown",
   "id": "63545c79-4567-4907-9048-7398e9466654",
   "metadata": {},
   "source": [
    "The visualization can be customized interactively with the Customize panel on the right. You can also automate the customization by creating a `GraphVisOptions` structure and passing that to the `visualize()` method:"
   ]
  },
  {
   "cell_type": "code",
   "execution_count": 12,
   "id": "60e91e69-4454-4527-b49a-f38a970acc85",
   "metadata": {},
   "outputs": [
    {
     "data": {
      "application/vnd.jupyter.widget-view+json": {
       "model_id": "ce7251975d1a4c659437b7f196600184",
       "version_major": 2,
       "version_minor": 0
      },
      "text/plain": [
       "GraphVizWidget(edges=[{'from': 0, 'to': 1, 'label': 'REPORTS_TO', 'type': 'REPORTS_TO', 'properties': {}}, {'f…"
      ]
     },
     "metadata": {},
     "output_type": "display_data"
    }
   ],
   "source": [
    "from katana_visualization_widget import GraphVisOptions, NodeVisOption, EdgeVisOption, ANY\n",
    "\n",
    "options = GraphVisOptions(\n",
    "    node_options=[NodeVisOption(ANY, label=\"title\")\n",
    "    ]\n",
    ")\n",
    "result.visualize(graph_vis_options=options)"
   ]
  },
  {
   "cell_type": "markdown",
   "id": "afdcc9a4-496b-4c02-b84f-8a6be6789b2e",
   "metadata": {},
   "source": [
    "![customized node query visualization](images/TenMinutesToKG1.png)"
   ]
  },
  {
   "cell_type": "markdown",
   "id": "f04c6fb5-7f22-4a89-a76d-a39f4117c970",
   "metadata": {},
   "source": [
    "## Updating and graph versioning\n",
    "\n",
    "A brand new graph has a `version` value of 0. This gets updated after certain kinds of changes to the graph. Let's see what the `graph` current version is at this point:"
   ]
  },
  {
   "cell_type": "code",
   "execution_count": 13,
   "id": "ea8ec9a3-03d8-4f17-b3d8-c6c5a425d3b9",
   "metadata": {},
   "outputs": [
    {
     "name": "stdout",
     "output_type": "stream",
     "text": [
      "1\n"
     ]
    }
   ],
   "source": [
    "print(graph.version)"
   ]
  },
  {
   "cell_type": "markdown",
   "id": "1b75725e-5ddf-47e2-9996-a8ae9a8ac08f",
   "metadata": {},
   "source": [
    "Now we'll edit the graph by giving Bailey a promotion:"
   ]
  },
  {
   "cell_type": "code",
   "execution_count": 14,
   "id": "ccfdb90f-0ebe-45b9-b758-7f2cb1b0aa52",
   "metadata": {},
   "outputs": [
    {
     "data": {
      "application/vnd.jupyter.widget-view+json": {
       "model_id": "5fbb3c12ec7347e0979109001308b021",
       "version_major": 2,
       "version_minor": 0
      },
      "text/plain": [
       "          0/? [?op/s]"
      ]
     },
     "metadata": {},
     "output_type": "display_data"
    }
   ],
   "source": [
    "result = graph.query(\n",
    "\"\"\"  \n",
    "MATCH (e:Employee) WHERE e.name = \"Bailey\" SET e.title = \"vice president\"\n",
    "\"\"\"\n",
    ")"
   ]
  },
  {
   "cell_type": "markdown",
   "id": "427329a7-31b4-4997-bb63-c508cd3cf23d",
   "metadata": {},
   "source": [
    "(You can re-run the \"Querying the graph\" query above to confirm that Bailey's `title` value has been updated.) Let's look at the graph's query version now: "
   ]
  },
  {
   "cell_type": "code",
   "execution_count": 15,
   "id": "362cc0a5-ada3-43f1-a6ab-fe4e2ee0f49d",
   "metadata": {},
   "outputs": [
    {
     "name": "stdout",
     "output_type": "stream",
     "text": [
      "2\n"
     ]
    }
   ],
   "source": [
    "print(graph.version)"
   ]
  },
  {
   "cell_type": "markdown",
   "id": "320e480b-10ff-4c9d-a75e-649a62ffa22d",
   "metadata": {},
   "source": [
    "The KGIP [graph checkpointing](data-mgmt/graph-checkpoints.rst) feature lets you save multiple versions of the same graph and return to any saved version whenever you like."
   ]
  },
  {
   "cell_type": "markdown",
   "id": "fc31fbfa-80fc-4554-aa51-6d081fbf7c93",
   "metadata": {},
   "source": [
    "## Analytics"
   ]
  },
  {
   "cell_type": "markdown",
   "id": "d0388c51-6af4-47b9-b824-ea251da4fa4e",
   "metadata": {},
   "source": [
    "We're going to run the PageRank algorithm developed by Google's founders on the graph that we created. This will assign each node in the graph its own PageRank value, stored in a property that we specify.\n",
    "\n",
    "For that property name, we can't use one that is already used as a property for the graph, so the following helper function makes it easier to define a new, unique name each time the PageRank algorithm is called on our graph."
   ]
  },
  {
   "cell_type": "code",
   "execution_count": 16,
   "id": "02e9e67d-f155-469a-9aa2-fe239df6b64d",
   "metadata": {},
   "outputs": [],
   "source": [
    "import random\n",
    "\n",
    "# Add a random number to a name stub to make a unique name\n",
    "def unique_name(name):\n",
    "    return f\"{name}_{random.randint(1, 10000)}\"\n",
    "\n",
    "prop_name = unique_name(\"nodeRank\")"
   ]
  },
  {
   "cell_type": "markdown",
   "id": "145a18ce-5b1c-4b9a-b090-b1f8719d6a27",
   "metadata": {},
   "source": [
    "Now (after importing the `analytics` library) we can execute PageRank on our graph:"
   ]
  },
  {
   "cell_type": "code",
   "execution_count": 17,
   "id": "1bb86d18-7dd4-47fa-bb9e-9435e5cced11",
   "metadata": {},
   "outputs": [
    {
     "data": {
      "application/vnd.jupyter.widget-view+json": {
       "model_id": "869d8122e9dd4100ac69a0755822de88",
       "version_major": 2,
       "version_minor": 0
      },
      "text/plain": [
       "          0/? [?op/s]"
      ]
     },
     "metadata": {},
     "output_type": "display_data"
    }
   ],
   "source": [
    "from katana.remote import analytics\n",
    "\n",
    "analytics.pagerank(graph, result_property_name = prop_name) "
   ]
  },
  {
   "cell_type": "markdown",
   "id": "d2bea246-4ff6-45be-aa42-f7d4bdca41ab",
   "metadata": {},
   "source": [
    "Querying the graph and printing the result shows what value has been assigned to each node's `prop_name` property:"
   ]
  },
  {
   "cell_type": "code",
   "execution_count": 18,
   "id": "87b175dd-c1cf-4073-b81e-446eca9846ab",
   "metadata": {},
   "outputs": [
    {
     "data": {
      "application/vnd.jupyter.widget-view+json": {
       "model_id": "307f9b86d438477d87733391f0b20692",
       "version_major": 2,
       "version_minor": 0
      },
      "text/plain": [
       "          0/? [?op/s]"
      ]
     },
     "metadata": {},
     "output_type": "display_data"
    },
    {
     "name": "stdout",
     "output_type": "stream",
     "text": [
      "    e.name  e.nodeRank_8886\n",
      "0  Cassidy         0.977500\n",
      "1   Bailey         0.850000\n",
      "2     Alex         1.124125\n"
     ]
    }
   ],
   "source": [
    "result = graph.query(\n",
    "    f\"\"\"  \n",
    "    MATCH (e:Employee) \n",
    "      RETURN e.name, e.{prop_name}\n",
    "    \"\"\"\n",
    ")\n",
    "print(result)"
   ]
  },
  {
   "cell_type": "markdown",
   "id": "64a7456b-e0e7-4b78-96c0-c2fcaed7134e",
   "metadata": {},
   "source": [
    "With more nodes pointing to the Alex node than to any other, that node got the highest PageRank value. \n",
    "\n",
    "Of course this is a toy example, and you would get more interesting results with a larger dataset, but this shows how easy it is to run an analytics algorithm with the KGIP. In the Reference Guide entry on [PageRank](analytics/pagerank.rst) you will see additional parameters that can be passed to this method to tune how the algorithm executes. \n",
    "\n",
    "Don't miss the [other analytics algorithms](analytics/index.rst) that are available to use with your data."
   ]
  },
  {
   "cell_type": "markdown",
   "id": "b34c8a72-65de-434f-935e-fd5bb823e2ad",
   "metadata": {},
   "source": [
    "## Re-using and deleting the graph"
   ]
  },
  {
   "cell_type": "markdown",
   "id": "c0360c90-8fb7-4e4e-9bb8-e50e9434cf10",
   "metadata": {},
   "source": [
    "When KGIP creates a graph it assigns it an ID value. We can get that value as shown below and use it to retrieve the graph in a later session with the [`client.get_graph_by_id()`](katana.remote.Client.get_graph_by_id) method,  and the retrieved graph would still have the nodes, edges, and properties that were added above. This would even work if your Internet connection or the cluster hosting your KGIP deployment went down, as long as you had saved this ID first. "
   ]
  },
  {
   "cell_type": "code",
   "execution_count": 19,
   "id": "2a272b5e-4501-4d90-b992-4aff20c22ca7",
   "metadata": {},
   "outputs": [
    {
     "name": "stdout",
     "output_type": "stream",
     "text": [
      "7yoq4iy9VybFKUcDZF2CTzwXTxn6NMcf2XLzFpMUkpf\n"
     ]
    }
   ],
   "source": [
    "print(graph.graph_id)"
   ]
  },
  {
   "cell_type": "markdown",
   "id": "c816a31b-3cf7-465e-80d7-30118f03ccd7",
   "metadata": {},
   "source": [
    "We mentioned earlier that this graph was being created in the default database. If you iterate through `client.get_database(\"default\").graphs_in_database()` and print the `graph_id` value of each, you will find the ID value that you output in the previous cell. "
   ]
  },
  {
   "cell_type": "markdown",
   "id": "aeb6a1e9-4e41-466f-8988-ddba6c926c54",
   "metadata": {},
   "source": [
    "This particular graph won't be listed if you delete it, though. Uncomment the following cell and run it to do so. If you don't get an error, you know that the `delete()` operation worked."
   ]
  },
  {
   "cell_type": "code",
   "execution_count": 20,
   "id": "be5b2790-ba32-49e0-b268-7e9e05078f7a",
   "metadata": {},
   "outputs": [],
   "source": [
    "# graph.delete()"
   ]
  },
  {
   "cell_type": "markdown",
   "id": "9625271c-437d-4195-bff0-5189d6daa40b",
   "metadata": {},
   "source": [
    "## Next steps\n",
    "\n",
    "Now that you've had this brief tour of how you can use a Jupyter notebook to work with graphs in KGIP, you can explore more things to try in these sections of the KGIP documentation: \n",
    "\n",
    "- **[Graph Query](query/index.rst)**:  How to write and run Cypher queries that explore and update your data, and how to create interactive visualizations of your query results. \n",
    "- **[Graph Analytics](analytics/index.rst)**: The analytics routines provided by Katana, what they can do for you, and how to use them with your data.\n",
    "- **[Graph AI](ai/index.rst)**:  How to apply Graph Neural Networks (GNNs) and other machine learning techniques that take advantage of graph technology.\n"
   ]
  }
 ],
 "metadata": {
  "kernelspec": {
   "display_name": "Python 3 (ipykernel)",
   "language": "python",
   "name": "python3"
  },
  "language_info": {
   "codemirror_mode": {
    "name": "ipython",
    "version": 3
   },
   "file_extension": ".py",
   "mimetype": "text/x-python",
   "name": "python",
   "nbconvert_exporter": "python",
   "pygments_lexer": "ipython3",
   "version": "3.8.13"
  },
  "vscode": {
   "interpreter": {
    "hash": "709b1090c1def203d7e6252f3736e564687ea2bfc67a318b441390bcbc168ca6"
   }
  }
 },
 "nbformat": 4,
 "nbformat_minor": 5
}
