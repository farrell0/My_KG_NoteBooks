{
 "cells": [
  {
   "cell_type": "code",
   "execution_count": null,
   "metadata": {},
   "outputs": [],
   "source": [
    "\n",
    "#  Setting display options \n",
    "\n",
    "import pandas as pd\n",
    "   #\n",
    "pd.set_option(\"display.width\", 480)\n",
    "\n",
    "#  Sets horizontal scroll for wide outputs\n",
    "#\n",
    "from IPython.display import display, HTML\n",
    "display(HTML(\"\"))\n",
    "\n",
    "from tabulate import tabulate\n",
    "\n",
    "print(\"--\")\n"
   ]
  },
  {
   "cell_type": "code",
   "execution_count": null,
   "metadata": {},
   "outputs": [],
   "source": [
    "\n",
    "from katana import remote\n",
    "from katana.remote import import_data\n",
    "\n",
    "\n",
    "my_client = remote.Client()\n",
    "\n",
    "print(my_client)\n"
   ]
  },
  {
   "cell_type": "code",
   "execution_count": null,
   "metadata": {},
   "outputs": [],
   "source": [
    "\n",
    "NUM_PARTITIONS  = 3\n",
    "   #\n",
    "DB_NAME         = \"my_db\"\n",
    "GRAPH_NAME      = \"my_graph\"\n",
    "\n",
    "print(\"--\")\n"
   ]
  },
  {
   "cell_type": "code",
   "execution_count": null,
   "metadata": {},
   "outputs": [],
   "source": [
    "\n",
    "#  Drop all graphs\n",
    "\n",
    "for l_database in my_client.databases():\n",
    "   for l_graph in my_client.get_database(name=l_database.name).graphs_in_database():\n",
    "      l_handle=my_client.get_database(name=l_database.name).get_graph_by_id(id=l_graph.graph_id)\n",
    "      l_handle.delete()\n",
    "\n",
    "for l_graph in my_client.graphs():\n",
    "   print(\"GRAPH ID: \", l_graph.graph_id, \"      GRAPH Version: \", l_graph.version)\n",
    "\n",
    "print(\"--\")\n"
   ]
  },
  {
   "cell_type": "code",
   "execution_count": null,
   "metadata": {},
   "outputs": [],
   "source": [
    "\n",
    "#  Delete all databases\n",
    "\n",
    "for l_database in my_client.databases():\n",
    "   if (l_database.name != \"default\"):\n",
    "      my_client.get_database(name=l_database.name).delete_database()\n",
    "      print(\"--\")\n",
    "\n",
    "for l_database in my_client.databases():\n",
    "   print(\"DB ID: \", l_database.database_id, \"     DB Name: \", l_database.name)\n"
   ]
  },
  {
   "cell_type": "code",
   "execution_count": null,
   "metadata": {},
   "outputs": [],
   "source": [
    "\n",
    "#  Create database\n",
    "\n",
    "my_database = my_client.create_database(name=DB_NAME)\n",
    "\n",
    "print(my_database.database_id)\n"
   ]
  },
  {
   "cell_type": "code",
   "execution_count": null,
   "metadata": {},
   "outputs": [],
   "source": [
    "\n",
    "#  Create graph\n",
    "\n",
    "my_graph = my_client.get_database(name=DB_NAME).create_graph(name=GRAPH_NAME, num_partitions=NUM_PARTITIONS)\n",
    "\n",
    "print(my_graph)\n"
   ]
  },
  {
   "cell_type": "code",
   "execution_count": null,
   "metadata": {},
   "outputs": [],
   "source": [
    "\n",
    "#  Connect to graph\n",
    "\n",
    "my_graph, *_ = my_client.get_database(name=DB_NAME).find_graphs_by_name(GRAPH_NAME)\n",
    "\n",
    "print(my_graph)\n"
   ]
  },
  {
   "cell_type": "code",
   "execution_count": null,
   "metadata": {},
   "outputs": [],
   "source": [
    "\n",
    "df_airports = pd.DataFrame([\n",
    "       #\n",
    "   [\"MKE\", \"Milwaukee\"               , \"Airport\"],\n",
    "   [\"ORD\", \"Chicago O-Hare\"          , \"Airport\"],\n",
    "   [\"SJC\", \"San Jose\"                , \"Airport\"],\n",
    "   [\"DEN\", \"Denver\"                  , \"Airport\"],\n",
    "       #\n",
    "   ], columns = [\"airport_code\", \"airport_name\", \"LABEL\"])\n",
    "\n",
    "print(tabulate(df_airports, headers='keys', tablefmt='psql'))\n"
   ]
  },
  {
   "cell_type": "code",
   "execution_count": null,
   "metadata": {},
   "outputs": [],
   "source": [
    "\n",
    "df_flights = pd.DataFrame([\n",
    "      #\n",
    "   [\"MKE\", \"ORD\",   66, 1, \"FLIES_TO\" ],\n",
    "   [\"ORD\", \"MKE\",   66, 1, \"FLIES_TO\" ],\n",
    "      #\n",
    "   [\"ORD\", \"DEN\",  886, 1, \"FLIES_TO\" ],\n",
    "   [\"DEN\", \"ORD\",  886, 1, \"FLIES_TO\" ],\n",
    "      #\n",
    "   [\"SJC\", \"DEN\",  948, 1, \"FLIES_TO\" ],                           #  Notice SJC flies to/from Denver\n",
    "   [\"DEN\", \"SJC\",  948, 1, \"FLIES_TO\" ],\n",
    "      #\n",
    "   [\"SJC\", \"ORD\", 1829, 1, \"FLIES_TO\" ],                           #  Notice SJC flies to ORD, but not ORD to SJC\n",
    "      #\n",
    "   ], columns = [\"START_ID\", \"END_ID\", \"DISTANCE\", \"NUM_HOPS\", \"TYPE\"])\n",
    "\n",
    "print(tabulate(df_flights, headers='keys', tablefmt='psql'))\n"
   ]
  },
  {
   "cell_type": "code",
   "execution_count": null,
   "metadata": {},
   "outputs": [],
   "source": [
    "\n",
    "# Import the 2 previously created Python DataFrames into KatanaGraph ..\n",
    "\n",
    "with import_data.DataFrameImporter(my_graph) as df_importer:   \n",
    "    \n",
    "   df_importer.nodes_dataframe(df_airports,                    #  Aiport set of Nodes\n",
    "      id_column             = \"airport_code\",\n",
    "      id_space              = \"Airport\",  \n",
    "      label                 = \"Airport\",  \n",
    "      )\n",
    "   \n",
    "   df_importer.edges_dataframe(df_flights,                     #  Our Edge, specifying the relationship between Airport --> FLIES_TO --> Airport\n",
    "      source_id_space       = \"Airport\", \n",
    "      destination_id_space  = \"Airport\",   \n",
    "      source_column         = \"START_ID\",\n",
    "      destination_column    = \"END_ID\",\n",
    "      type                  = \"FLIES_TO\"\n",
    "      )\n",
    "\n",
    "   df_importer.insert()\n",
    "\n",
    "print(\"--\")\n"
   ]
  },
  {
   "cell_type": "code",
   "execution_count": null,
   "metadata": {},
   "outputs": [],
   "source": [
    "\n",
    "from katana.remote import analytics\n",
    "\n",
    "print(\"--\")\n"
   ]
  },
  {
   "cell_type": "code",
   "execution_count": null,
   "metadata": {},
   "outputs": [],
   "source": [
    "\n",
    "#  Getting the airport node id\n",
    "#\n",
    "\n",
    "#  l_airport = \"MKE\"\n",
    "#  l_airport = \"ORD\"\n",
    "#  l_airport = \"DEN\"\n",
    "l_airport = \"SJC\"\n",
    "\n",
    "\n",
    "l_query  = \"\"\"\n",
    "   MATCH (n: Airport) \n",
    "   WHERE n.airport_code = '{0}'\n",
    "   RETURN ID(n) AS my_id\n",
    "   \"\"\".format(l_airport)\n",
    "\n",
    "l_airport_id = my_graph.query_unpaginated(l_query)[\"my_id\"][0]\n",
    "\n",
    "print(\"Airport id:  %s   %d\" % (l_airport, l_airport_id))\n",
    "print(\"\")\n"
   ]
  },
  {
   "cell_type": "code",
   "execution_count": null,
   "metadata": {},
   "outputs": [],
   "source": [
    "\n",
    "#  Running analytics.sssp() ..\n",
    "\n",
    "#  From above\n",
    "#\n",
    "l_source_nodeid       = str(l_airport_id)\n",
    "\n",
    "\n",
    "#  Below:  this currently fails on DISTANCE|NUM_HOPS.  Works with None.\n",
    "#\n",
    "\n",
    "#  Edge property\n",
    "#\n",
    "l_weight_property     = \"DISTANCE\"                 #  Edge property\n",
    "#  l_weight_property     = \"NUM_HOPS\"\n",
    "#  l_weight_property     = None   \n",
    "\n",
    "l_max_iterations      = 10000 \n",
    "\n",
    "\n",
    "l_result = analytics.sssp(\n",
    "   my_graph,\n",
    "      #\n",
    "   source               = l_source_nodeid,\n",
    "   weight_property      = l_weight_property,\n",
    "   max_iterations       = l_max_iterations,\n",
    "   )\n",
    "\n",
    "print(l_result)\n"
   ]
  }
 ],
 "metadata": {
  "kernelspec": {
   "display_name": "Python 3 (ipykernel)",
   "language": "python",
   "name": "python3"
  },
  "language_info": {
   "codemirror_mode": {
    "name": "ipython",
    "version": 3
   },
   "file_extension": ".py",
   "mimetype": "text/x-python",
   "name": "python",
   "nbconvert_exporter": "python",
   "pygments_lexer": "ipython3",
   "version": "3.8.15"
  }
 },
 "nbformat": 4,
 "nbformat_minor": 4
}
