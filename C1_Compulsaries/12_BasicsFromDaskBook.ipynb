{
 "cells": [
  {
   "cell_type": "markdown",
   "id": "111dcd68-0708-44e9-8819-69128baa7489",
   "metadata": {
    "tags": []
   },
   "source": [
    "#  Setup stuff: Display options"
   ]
  },
  {
   "cell_type": "code",
   "execution_count": 1,
   "id": "87e5a845-5cbd-49d8-bf61-4a13cd80a1f5",
   "metadata": {},
   "outputs": [
    {
     "data": {
      "text/html": [],
      "text/plain": [
       "<IPython.core.display.HTML object>"
      ]
     },
     "metadata": {},
     "output_type": "display_data"
    },
    {
     "name": "stdout",
     "output_type": "stream",
     "text": [
      "--\n"
     ]
    }
   ],
   "source": [
    "\n",
    "#  Setting display options \n",
    "\n",
    "import pandas as pd\n",
    "   #\n",
    "pd.set_option(\"display.width\", 480)\n",
    "\n",
    "#  Sets horizontal scroll for wide outputs\n",
    "#\n",
    "from IPython.display import display, HTML\n",
    "display(HTML(\"\"))\n",
    "\n",
    "from tabulate import tabulate\n",
    "\n",
    "print(\"--\")\n"
   ]
  },
  {
   "cell_type": "markdown",
   "id": "d3ebe820-bc6d-4948-b668-8b81cd3cbf29",
   "metadata": {
    "jp-MarkdownHeadingCollapsed": true,
    "tags": []
   },
   "source": [
    "#  Setup stuff: Connectivity"
   ]
  },
  {
   "cell_type": "code",
   "execution_count": null,
   "id": "1ea957d6-30c6-427a-ae4e-15ecfba0c4f9",
   "metadata": {},
   "outputs": [],
   "source": [
    "\n",
    "#  from katana import remote\n",
    "#  from katana.remote import import_data\n",
    "#  \n",
    "#  \n",
    "#  my_client = remote.Client()\n",
    "#  \n",
    "#  print(my_client)\n"
   ]
  },
  {
   "cell_type": "markdown",
   "id": "61556ce5-9044-42bc-bb13-80b6a514ae27",
   "metadata": {
    "tags": []
   },
   "source": [
    "# Create: Vertices/Nodes, Edges/Relationships .."
   ]
  },
  {
   "cell_type": "code",
   "execution_count": 2,
   "id": "f7efb47b-3c7d-45f3-acc8-ae29c3e2a1bf",
   "metadata": {},
   "outputs": [
    {
     "name": "stdout",
     "output_type": "stream",
     "text": [
      "--\n"
     ]
    }
   ],
   "source": [
    "\n",
    "# import pandas as pd\n",
    "# \n",
    "import dask.dataframe as dd\n",
    "from dask.dataframe import from_pandas\n",
    "\n",
    "import numpy as np\n",
    "\n",
    "print(\"--\")\n"
   ]
  },
  {
   "cell_type": "code",
   "execution_count": 3,
   "id": "26ec8727-b5d2-4731-89d4-da37b8545a4b",
   "metadata": {},
   "outputs": [
    {
     "name": "stdout",
     "output_type": "stream",
     "text": [
      "--\n"
     ]
    }
   ],
   "source": [
    "\n",
    "NUM_PARTITIONS  = 3\n",
    "   #\n",
    "#  DB_NAME         = \"my_db\"\n",
    "#  GRAPH_NAME      = \"my_graph\"\n",
    "\n",
    "print(\"--\")\n"
   ]
  },
  {
   "cell_type": "code",
   "execution_count": 5,
   "id": "9cc0ecbe-ab42-4b42-a3e9-fd72c39446b2",
   "metadata": {},
   "outputs": [
    {
     "name": "stdout",
     "output_type": "stream",
     "text": [
      "    id    airport_name state_code restaurant_name       LABEL\n",
      "0  MKE       Milwaukee         WI            None     Airport\n",
      "1  ORD  Chicago O-Hare         IL            None     Airport\n",
      "2  SJC        San Jose         CA            None     Airport\n",
      "3  LAX     Los Angeles         CA            None     Airport\n",
      "4  DEN          Denver         CO            None     Airport\n",
      "5  PAP            None       None     Pappadeauxs  Restaurant\n",
      "--\n"
     ]
    }
   ],
   "source": [
    "\n",
    "#  Create Nodes data ..\n",
    "#\n",
    "\n",
    "np_nodes = np.array([\n",
    "       #\n",
    "   [\"MKE\", \"Milwaukee\"     , \"WI\"   , None            , \"Airport\"   ],\n",
    "   [\"ORD\", \"Chicago O-Hare\", \"IL\"   , None            , \"Airport\"   ],\n",
    "   [\"SJC\", \"San Jose\"      , \"CA\"   , None            , \"Airport\"   ],\n",
    "   [\"LAX\", \"Los Angeles\"   , \"CA\"   , None            , \"Airport\"   ],\n",
    "   [\"DEN\", \"Denver\"        , \"CO\"   , None            , \"Airport\"   ],\n",
    "   [\"PAP\", None            , None   , \"Pappadeauxs\"   , \"Restaurant\"],\n",
    "       #\n",
    "   ], dtype=\"str\")\n",
    "\n",
    "pd_nodes = pd.DataFrame(np_nodes, columns = [\"id\", \"airport_name\", \"state_code\", \"restaurant_name\", \"LABEL\"])\n",
    "   #\n",
    "dd_nodes = from_pandas(pd_nodes, npartitions = NUM_PARTITIONS)\n",
    "\n",
    "\n",
    "#  tabulate() not displaying data correctly, use print ..\n",
    "#\n",
    "print(dd_nodes.compute())\n",
    "   #\n",
    "print(\"--\")\n"
   ]
  },
  {
   "cell_type": "code",
   "execution_count": 43,
   "id": "60eaac88-4dd5-47d3-94b3-0f5fd0b243f2",
   "metadata": {},
   "outputs": [
    {
     "name": "stdout",
     "output_type": "stream",
     "text": [
      "+----+------------+----------+------------+------------+--------+\n",
      "|    |   START_ID |   END_ID |   DISTANCE |   NUM_HOPS |   TYPE |\n",
      "|----+------------+----------+------------+------------+--------|\n",
      "|  0 |        nan |      nan |        nan |        nan |    nan |\n",
      "|  1 |        nan |      nan |        nan |        nan |    nan |\n",
      "|  2 |        nan |      nan |        nan |        nan |    nan |\n",
      "|  3 |        nan |      nan |        nan |        nan |    nan |\n",
      "|  4 |        nan |      nan |        nan |        nan |    nan |\n",
      "|  5 |        nan |      nan |        nan |        nan |    nan |\n",
      "|  6 |        nan |      nan |        nan |        nan |    nan |\n",
      "+----+------------+----------+------------+------------+--------+\n"
     ]
    }
   ],
   "source": [
    "\n",
    "#  Create the Edge array ..\n",
    "\n",
    "np_edges = pd.DataFrame([\n",
    "      #\n",
    "   [\"MKE\", \"ORD\",   66, 1, \"FLIES_TO\" ],\n",
    "   [\"ORD\", \"MKE\",   66, 1, \"FLIES_TO\" ],\n",
    "      #\n",
    "   [\"ORD\", \"DEN\",  886, 1, \"FLIES_TO\" ],\n",
    "   [\"DEN\", \"ORD\",  886, 1, \"FLIES_TO\" ],\n",
    "      #\n",
    "   [\"SJC\", \"DEN\",  948, 1, \"FLIES_TO\" ],\n",
    "   [\"DEN\", \"SJC\",  948, 1, \"FLIES_TO\" ],\n",
    "      #\n",
    "   [\"SJC\", \"ORD\", 1829, 1, \"FLIES_TO\" ],\n",
    "      #\n",
    "   ], dtype=\"str\")\n",
    "    \n",
    "pd_edges = pd.DataFrame(np_edges, columns = [\"START_ID\", \"END_ID\", \"DISTANCE\", \"NUM_HOPS\", \"TYPE\"])\n",
    "\n",
    "print(tabulate(pd_edges, headers='keys', tablefmt='psql'))\n"
   ]
  },
  {
   "cell_type": "code",
   "execution_count": null,
   "id": "e9feb00d-842c-42e5-a4b0-979bef8373d0",
   "metadata": {},
   "outputs": [],
   "source": [
    "\n",
    "#  Used to test heterogeneous graphs ..\n",
    "\n",
    "l_query = \"\"\"\n",
    "   CREATE ( n: Restaurant { id: 'PAP' } )                         //  Notice single curly braces\n",
    "   SET n.restaurant_name = 'Pappadeauxs Seafood Kitchen' \n",
    "   \"\"\"\n",
    "      #\n",
    "display(l_result = my_graph.query(l_query))\n",
    "\n",
    "l_query = \"\"\"\n",
    "   MATCH\n",
    "      (n: Airport   ),\n",
    "      (m: Restaurant)\n",
    "   WHERE n.id               = 'SJC'\n",
    "   AND   m.id               = 'PAP'\n",
    "   CREATE (n) -[r: ATTRACTION { DRIVABLE: 'Yes' }]-> (m)\n",
    "   \"\"\"\n",
    "      #\n",
    "display(l_result = my_graph.query(l_query))\n"
   ]
  },
  {
   "cell_type": "markdown",
   "id": "b002c1ee-7991-4010-9a9f-250bfd647f92",
   "metadata": {
    "tags": []
   },
   "source": [
    "#  From Dask Book"
   ]
  },
  {
   "cell_type": "code",
   "execution_count": null,
   "id": "3de2beea-a6a2-4994-8c0f-f2af0259f5d7",
   "metadata": {},
   "outputs": [],
   "source": []
  },
  {
   "cell_type": "code",
   "execution_count": null,
   "id": "f1db3a3d-0358-43e0-83aa-f389df8f7f51",
   "metadata": {},
   "outputs": [],
   "source": []
  },
  {
   "cell_type": "code",
   "execution_count": null,
   "id": "6b4c077a-1527-493c-9365-7cfbfa344b29",
   "metadata": {},
   "outputs": [],
   "source": []
  },
  {
   "cell_type": "code",
   "execution_count": null,
   "id": "8ce1509a-77d4-45e7-8266-f38de959c83b",
   "metadata": {},
   "outputs": [],
   "source": []
  },
  {
   "cell_type": "code",
   "execution_count": null,
   "id": "013ab952-6804-4e2d-b973-c1901f59a6c7",
   "metadata": {},
   "outputs": [],
   "source": []
  }
 ],
 "metadata": {
  "kernelspec": {
   "display_name": "Python 3 (ipykernel)",
   "language": "python",
   "name": "python3"
  },
  "language_info": {
   "codemirror_mode": {
    "name": "ipython",
    "version": 3
   },
   "file_extension": ".py",
   "mimetype": "text/x-python",
   "name": "python",
   "nbconvert_exporter": "python",
   "pygments_lexer": "ipython3",
   "version": "3.8.13"
  }
 },
 "nbformat": 4,
 "nbformat_minor": 5
}
