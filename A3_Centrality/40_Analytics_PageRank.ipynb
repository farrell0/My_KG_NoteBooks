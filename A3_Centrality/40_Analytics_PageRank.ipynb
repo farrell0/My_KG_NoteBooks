{
 "cells": [
  {
   "cell_type": "code",
   "execution_count": null,
   "id": "b9f74d87-3a4c-413f-9302-4e9c45f52f6e",
   "metadata": {},
   "outputs": [],
   "source": [
    "\n",
    "#  Setting display options \n",
    "\n",
    "import pandas as pd\n",
    "   #\n",
    "pd.set_option(\"display.width\", 480)\n",
    "\n",
    "#  Sets horizontal scroll for wide outputs\n",
    "#\n",
    "from IPython.display import display, HTML\n",
    "display(HTML(\"\"))\n",
    "\n",
    "from tabulate import tabulate\n",
    "\n",
    "print(\"--\")\n"
   ]
  },
  {
   "cell_type": "markdown",
   "id": "d3ebe820-bc6d-4948-b668-8b81cd3cbf29",
   "metadata": {
    "tags": []
   },
   "source": [
    "#  Setup stuff: Connectivity"
   ]
  },
  {
   "cell_type": "code",
   "execution_count": null,
   "id": "1ea957d6-30c6-427a-ae4e-15ecfba0c4f9",
   "metadata": {},
   "outputs": [],
   "source": [
    "\n",
    "from katana import remote\n",
    "from katana.remote import import_data\n",
    "\n",
    "my_client = remote.Client()\n",
    "\n",
    "print(my_client)\n"
   ]
  },
  {
   "cell_type": "code",
   "execution_count": null,
   "id": "97571016-7c02-4e90-a75a-136a0dacd35f",
   "metadata": {},
   "outputs": [],
   "source": [
    "\n",
    "NUM_PARTITIONS  = 3\n",
    "   #\n",
    "DB_NAME         = \"my_db\"\n",
    "GRAPH_NAME      = \"my_graph\"\n",
    "\n",
    "print(\"--\")\n"
   ]
  },
  {
   "cell_type": "code",
   "execution_count": null,
   "id": "c5db6505-7fc8-4779-b194-9ed8945b9a90",
   "metadata": {},
   "outputs": [],
   "source": [
    "\n",
    "#  CONNECT TO GRAPH\n",
    "\n",
    "my_graph, *_ = my_client.get_database(name=DB_NAME).find_graphs_by_name(GRAPH_NAME)\n",
    "\n",
    "print(my_graph)\n"
   ]
  },
  {
   "cell_type": "markdown",
   "id": "356be1fb-2be3-40a5-83bb-5e3dd28fe36d",
   "metadata": {
    "tags": []
   },
   "source": [
    "#  Finally now, the Analytics .."
   ]
  },
  {
   "cell_type": "code",
   "execution_count": null,
   "id": "1209e701-1aca-4bde-8145-084dd35776f6",
   "metadata": {},
   "outputs": [],
   "source": [
    "\n",
    "from katana.remote import analytics\n",
    "\n",
    "\n",
    "l_cntr = 20                                                #  Used to generate a unique column name\n",
    "   #\n",
    "print(\"--\")\n"
   ]
  },
  {
   "cell_type": "code",
   "execution_count": null,
   "id": "78ffe789-2ba9-4ed1-886b-c42321d3bba2",
   "metadata": {},
   "outputs": [],
   "source": [
    "\n",
    "#  Connected components ..\n",
    "\n",
    "\n",
    "#  Generate a unique prop name so we can run this over and over without edit ..\n",
    "#\n",
    "l_cntr += 1\n",
    "   #\n",
    "l_output_propname     = \"pagerank_\" + str(l_cntr).zfill(4)\n",
    "\n",
    "\n",
    "analytics.pagerank(\n",
    "   my_graph,\n",
    "   result_property_name = l_output_propname,\n",
    "   max_iterations       = 10000\n",
    "   )\n",
    "\n",
    "print(\"--\")\n"
   ]
  },
  {
   "cell_type": "code",
   "execution_count": null,
   "id": "17e8c814-5efd-480f-8645-52524b4d9962",
   "metadata": {},
   "outputs": [],
   "source": [
    "\n",
    "#  Unfiltered node data\n",
    "#\n",
    "\n",
    "l_query = \"\"\"\n",
    "\n",
    "   MATCH (n)\n",
    "   RETURN n.{0}, ID(n), n\n",
    "   ORDER BY n.{0} DESC\n",
    "    \n",
    "    \"\"\".format(l_output_propname)\n",
    "\n",
    "l_result = my_graph.query(l_query)\n",
    "   #\n",
    "print(tabulate(l_result, headers='keys', tablefmt='psql'))\n",
    "\n",
    "#  Sample data,\n",
    "#\n",
    "#     +----+-------------------+---------+-----------------+-------------+-----------+------------------+------------------------+-------------------+----------+\n",
    "#     |    |   n.pagerank_0021 |   ID(n) |   n.internal_id | n.labels    | n.LABEL   | n.airport_code   | n.airport_name         |   n.pagerank_0021 | n.type   |\n",
    "#     |----+-------------------+---------+-----------------+-------------+-----------+------------------+------------------------+-------------------+----------|\n",
    "#     |  0 |          1.62373  |       3 |               3 | ['Airport'] | Airport   | DEN              | Denver                 |          1.62373  | node     |\n",
    "#     |  1 |          1.48703  |       1 |               1 | ['Airport'] | Airport   | ORD              | Chicago O-Hare         |          1.48703  | node     |\n",
    "#     |  2 |          0.894602 |       4 |               4 | ['Airport'] | Airport   | MSP              | Minneapolis, St.Paul   |          0.894602 | node     |\n",
    "#     |  3 |          0.894602 |       5 |               5 | ['Airport'] | Airport   | MSN              | Madison                |          0.894602 | node     |\n",
    "#     |  4 |          0.894602 |       6 |               6 | ['Airport'] | Airport   | GRB              | Green Bay              |          0.894602 | node     |\n",
    "#     |  5 |          0.894602 |       0 |               0 | ['Airport'] | Airport   | MKE              | Milwaukee              |          0.894602 | node     |\n",
    "#     |  6 |          0.884786 |       7 |               7 | ['Airport'] | Airport   | EGE              | Eagle, Vail            |          0.884786 | node     |\n",
    "#     |  7 |          0.884786 |       8 |               8 | ['Airport'] | Airport   | COS              | Colorado Springs       |          0.884786 | node     |\n",
    "#     |  8 |          0.884786 |       2 |               2 | ['Airport'] | Airport   | SJC              | San Jose               |          0.884786 | node     |\n",
    "#     |  9 |          0.884786 |       9 |               9 | ['Airport'] | Airport   | PUB              | Pueblo                 |          0.884786 | node     |\n",
    "#     | 10 |          0.884786 |      10 |              10 | ['Airport'] | Airport   | ASE              | Aspen                  |          0.884786 | node     |\n",
    "#     | 11 |          0.884786 |      11 |              11 | ['Airport'] | Airport   | FNL              | Fort Collins, Loveland |          0.884786 | node     |\n",
    "#     +----+-------------------+---------+-----------------+-------------+-----------+------------------+------------------------+-------------------+----------+\n"
   ]
  },
  {
   "cell_type": "code",
   "execution_count": null,
   "id": "4a24e130-82df-47ae-84a5-f23e5a5777b0",
   "metadata": {},
   "outputs": [],
   "source": [
    "\n",
    "#  Nodes and a count of outgoing edges\n",
    "#\n",
    "l_query = \"\"\"\n",
    "\n",
    "   MATCH (n) - [r] -> (m)\n",
    "   RETURN n.airport_code, n.airport_name, COUNT(r) AS my_outgoing_edges\n",
    "   ORDER BY my_outgoing_edges DESC\n",
    "    \n",
    "    \"\"\".format(l_output_propname)\n",
    "\n",
    "l_result = my_graph.query(l_query)\n",
    "   #\n",
    "print(tabulate(l_result, headers='keys', tablefmt='psql'))\n",
    "\n",
    "#  Sample data,\n",
    "#\n",
    "#     +----+------------------+------------------------+---------------------+\n",
    "#     |    | n.airport_code   | n.airport_name         |   my_outgoing_edges |\n",
    "#     |----+------------------+------------------------+---------------------|\n",
    "#     |  0 | DEN              | Denver                 |                   7 |\n",
    "#     |  1 | ORD              | Chicago O-Hare         |                   5 |\n",
    "#     |  2 | SJC              | San Jose               |                   2 |\n",
    "#     |  3 | EGE              | Eagle, Vail            |                   1 |\n",
    "#     |  4 | ASE              | Aspen                  |                   1 |\n",
    "#     |  5 | COS              | Colorado Springs       |                   1 |\n",
    "#     |  6 | MKE              | Milwaukee              |                   1 |\n",
    "#     |  7 | MSP              | Minneapolis, St.Paul   |                   1 |\n",
    "#     |  8 | FNL              | Fort Collins, Loveland |                   1 |\n",
    "#     |  9 | GRB              | Green Bay              |                   1 |\n",
    "#     | 10 | MSN              | Madison                |                   1 |\n",
    "#     | 11 | PUB              | Pueblo                 |                   1 |\n",
    "#     +----+------------------+------------------------+---------------------+\n"
   ]
  }
 ],
 "metadata": {
  "kernelspec": {
   "display_name": "Python 3 (ipykernel)",
   "language": "python",
   "name": "python3"
  },
  "language_info": {
   "codemirror_mode": {
    "name": "ipython",
    "version": 3
   },
   "file_extension": ".py",
   "mimetype": "text/x-python",
   "name": "python",
   "nbconvert_exporter": "python",
   "pygments_lexer": "ipython3",
   "version": "3.8.13"
  }
 },
 "nbformat": 4,
 "nbformat_minor": 5
}
