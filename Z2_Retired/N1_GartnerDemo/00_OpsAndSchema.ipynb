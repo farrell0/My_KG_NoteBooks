{
 "cells": [
  {
   "cell_type": "code",
   "execution_count": 32,
   "id": "8a83b01a-0464-48d0-a6db-c4444dfd2ed3",
   "metadata": {},
   "outputs": [
    {
     "name": "stdout",
     "output_type": "stream",
     "text": [
      "<katana_enterprise.remote.sync_wrappers.Client object at 0x7fb6ed5179a0>\n"
     ]
    }
   ],
   "source": [
    "from katana import remote\n",
    "from katana.remote import import_data\n",
    "\n",
    "\n",
    "my_client = remote.Client()\n",
    "\n",
    "print(my_client)\n"
   ]
  },
  {
   "cell_type": "code",
   "execution_count": 33,
   "id": "b8127716-da8b-4bd3-9e2f-f572146484bf",
   "metadata": {},
   "outputs": [
    {
     "name": "stdout",
     "output_type": "stream",
     "text": [
      "--\n"
     ]
    }
   ],
   "source": [
    "\n",
    "NUM_PARTITIONS = 8\n",
    "   #\n",
    "DB_NAME        = \"my_db\"\n",
    "GRAPH_NAME1    = \"my_graph1\"\n",
    "GRAPH_NAME2    = \"my_graph2\"\n",
    "GRAPH_NAME3    = \"my_graph3\"\n",
    "\n",
    "print(\"--\")"
   ]
  },
  {
   "cell_type": "code",
   "execution_count": null,
   "id": "13ef93e6-96da-4048-ab39-03738961fb32",
   "metadata": {},
   "outputs": [],
   "source": [
    "#  CONNECT TO GRAPH\n",
    "\n",
    "for l_graph in my_client.graphs():\n",
    "   if (l_graph.name == GRAPH_NAME1):\n",
    "      my_graph1=my_client.get_database(name=DB_NAME).get_graph_by_id(id=l_graph.graph_id)\n",
    "        \n",
    "for l_graph in my_client.graphs():\n",
    "   if (l_graph.name == GRAPH_NAME2):\n",
    "      my_graph2=my_client.get_database(name=DB_NAME).get_graph_by_id(id=l_graph.graph_id)\n",
    "        \n",
    "for l_graph in my_client.graphs():\n",
    "   if (l_graph.name == GRAPH_NAME3):\n",
    "      my_graph3=my_client.get_database(name=DB_NAME).get_graph_by_id(id=l_graph.graph_id)\n",
    "        \n",
    "print(my_graph1)\n",
    "print(my_graph2)\n",
    "print(my_graph3)\n"
   ]
  },
  {
   "cell_type": "code",
   "execution_count": null,
   "id": "bea31424-a8df-4110-90e6-3407ce766179",
   "metadata": {},
   "outputs": [],
   "source": [
    "# ##################################################################"
   ]
  },
  {
   "cell_type": "code",
   "execution_count": 34,
   "id": "e5f999b0-6df6-4a11-bbaa-181ae05abf67",
   "metadata": {},
   "outputs": [
    {
     "name": "stdout",
     "output_type": "stream",
     "text": [
      "--\n"
     ]
    }
   ],
   "source": [
    "#  DELETE ALL GRAPHS\n",
    "\n",
    "for l_database in my_client.databases():\n",
    "   for l_graph in my_client.get_database(name=l_database.name).graphs_in_database():\n",
    "      l_handle=my_client.get_database(name=l_database.name).get_graph_by_id(id=l_graph.graph_id)\n",
    "      l_handle.delete()\n",
    "\n",
    "for l_graph in my_client.graphs():\n",
    "   print(\"GRAPH ID: \", l_graph.graph_id, \"      GRAPH Version: \", l_graph.version)\n",
    "\n",
    "print(\"--\")\n"
   ]
  },
  {
   "cell_type": "code",
   "execution_count": null,
   "id": "bcec7021-bdd0-4faa-a4ff-a5dbd6be84d5",
   "metadata": {},
   "outputs": [],
   "source": [
    "#  DELETE ALL DATABASES\n",
    "\n",
    "for l_database in my_client.databases():\n",
    "   if (l_database.name != \"default\"):\n",
    "      my_client.get_database(name=l_database.name).delete_database()\n",
    "      print(\"--\")\n",
    "\n",
    "for l_database in my_client.databases():\n",
    "   print(\"DB ID: \", l_database.database_id, \"     DB Name: \", l_database.name)\n"
   ]
  },
  {
   "cell_type": "code",
   "execution_count": null,
   "id": "8268b3ac-7819-406f-ab6e-ea36c23cd9f2",
   "metadata": {},
   "outputs": [],
   "source": [
    "#  CREATE DATABASE\n",
    "\n",
    "my_database = my_client.create_database(name=DB_NAME)\n",
    "\n",
    "print(my_database.database_id)\n"
   ]
  },
  {
   "cell_type": "code",
   "execution_count": 35,
   "id": "d0ba1fe0-7921-402e-affd-b93ffdbb8751",
   "metadata": {},
   "outputs": [
    {
     "name": "stdout",
     "output_type": "stream",
     "text": [
      "<_Graph my_graph3, 3gmZdnk3kNMXYkVmFwgwWvrpwahz1VK3gs1npxWGQc7K, 0>\n"
     ]
    }
   ],
   "source": [
    "#  CREATE GRAPH\n",
    "\n",
    "# my_graph1 = my_client.get_database(name=DB_NAME).create_graph(name=GRAPH_NAME1, num_partitions=NUM_PARTITIONS)\n",
    "# my_graph2 = my_client.get_database(name=DB_NAME).create_graph(name=GRAPH_NAME2, num_partitions=NUM_PARTITIONS)\n",
    "my_graph3 = my_client.get_database(name=DB_NAME).create_graph(name=GRAPH_NAME3, num_partitions=NUM_PARTITIONS)\n",
    "\n",
    "# print(my_graph1)\n",
    "# print(my_graph2)\n",
    "print(my_graph3)\n"
   ]
  },
  {
   "cell_type": "markdown",
   "id": "d1e9ba42-3d83-4423-bfa6-0d28781d6e1f",
   "metadata": {},
   "source": [
    "# ##################################################################"
   ]
  },
  {
   "cell_type": "code",
   "execution_count": null,
   "id": "7d656dd4-413d-45d6-be73-90b60541baf0",
   "metadata": {},
   "outputs": [],
   "source": [
    "\n",
    "# 3isplay(print(my_graph1.num_nodes()))\n",
    "# 3isplay(print(my_graph1.num_edges()))\n",
    "\n",
    "# 3isplay(print(my_graph2.num_nodes()))\n",
    "# 3isplay(print(my_graph2.num_edges()))\n",
    "\n",
    "display(print(my_graph3.num_nodes()))\n",
    "display(print(my_graph3.num_edges()))\n"
   ]
  },
  {
   "cell_type": "code",
   "execution_count": 31,
   "id": "1a5d39d2-bed8-4592-a5df-c3d32a01e7ca",
   "metadata": {},
   "outputs": [
    {
     "data": {
      "text/html": [
       "\n",
       "                    <iframe\n",
       "                        id=\"operations_widget\"\n",
       "                        src=\"about:blank\"\n",
       "                        title=\"Operations Widget\"\n",
       "                        height=\"400px\"\n",
       "                        width=\"100%\"\n",
       "                        frameborder=\"0\"\n",
       "                        allow=\"clipboard-write\"\n",
       "                        allowfullscreen\n",
       "                    >\n",
       "                    </iframe>\n",
       "                    <script type=\"text/javascript\">\n",
       "                        (function () {\n",
       "                            const operations_url = `${\n",
       "                                \"http://localhost:8080/v2\".includes(\"controller\") ?\n",
       "                                window.location.origin + \"/v2\" : \"http://localhost:8080/v2\"\n",
       "                            }/widgets/operations-widget`\n",
       "                            setTimeout(() => {\n",
       "                                document.getElementById(\"operations_widget\").setAttribute('src', operations_url)\n",
       "                            }, 10)\n",
       "                        })()\n",
       "                    </script>\n",
       "                "
      ],
      "text/plain": [
       "<IPython.core.display.HTML object>"
      ]
     },
     "metadata": {},
     "output_type": "display_data"
    }
   ],
   "source": [
    "my_client.widgets().operations()"
   ]
  },
  {
   "cell_type": "code",
   "execution_count": null,
   "id": "35c4f4cf-be90-42ce-80b8-ff8440dd9641",
   "metadata": {},
   "outputs": [],
   "source": [
    "\n",
    "my_graph1.query(\"CALL graph.schema() RETURN *\")\n",
    "my_graph2.query(\"CALL graph.schema() RETURN *\")\n",
    "my_graph3.query(\"CALL graph.schema() RETURN *\")\n"
   ]
  }
 ],
 "metadata": {
  "kernelspec": {
   "display_name": "Python 3 (ipykernel)",
   "language": "python",
   "name": "python3"
  },
  "language_info": {
   "codemirror_mode": {
    "name": "ipython",
    "version": 3
   },
   "file_extension": ".py",
   "mimetype": "text/x-python",
   "name": "python",
   "nbconvert_exporter": "python",
   "pygments_lexer": "ipython3",
   "version": "3.8.13"
  }
 },
 "nbformat": 4,
 "nbformat_minor": 5
}
