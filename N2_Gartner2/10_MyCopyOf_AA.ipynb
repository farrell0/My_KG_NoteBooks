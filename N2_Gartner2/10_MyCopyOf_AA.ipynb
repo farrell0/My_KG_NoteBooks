{
 "cells": [
  {
   "cell_type": "code",
   "execution_count": null,
   "id": "51a60822-abef-4755-abd0-07e1ee659d4d",
   "metadata": {},
   "outputs": [],
   "source": [
    "\n",
    "#  At least 7 machines in the cluster and suggested machine type is n2-highmem-80.\n",
    "\n"
   ]
  },
  {
   "cell_type": "code",
   "execution_count": null,
   "id": "04f55f4e-11ff-497e-8b3b-88e624d63914",
   "metadata": {},
   "outputs": [],
   "source": [
    "\n",
    "import os\n",
    "import re\n",
    "import pandas as pd\n",
    "\n",
    "from katana import remote\n",
    "from katana.remote import import_data\n",
    "\n",
    "# Connect to the Katana Server\n",
    "# client = remote.Client(address=\"host.docker.internal:8080\")\n",
    "\n",
    "my_client = remote.Client()\n",
    "\n",
    "print(my_client)\n"
   ]
  },
  {
   "cell_type": "code",
   "execution_count": null,
   "id": "a7e6258f-bf25-401f-8ddb-0677b05f8e5a",
   "metadata": {},
   "outputs": [],
   "source": [
    "DB_NAME        = \"my_db\"\n",
    "GRAPH_NAME1    = \"my_graph1\"\n",
    "GRAPH_NAME2    = \"my_graph2\"\n",
    "GRAPH_NAME3    = \"my_graph3\"\n",
    "\n",
    "print(\"--\")"
   ]
  },
  {
   "cell_type": "code",
   "execution_count": null,
   "id": "d3c55735-a84f-4e16-b13a-8464fbbc78f4",
   "metadata": {},
   "outputs": [],
   "source": [
    "#  CONNECT TO GRAPH\n",
    "\n",
    "# for l_graph in my_client.graphs():\n",
    "#    if (l_graph.name == GRAPH_NAME1):\n",
    "#       my_graph1=my_client.get_database(name=DB_NAME).get_graph_by_id(id=l_graph.graph_id)\n",
    "        \n",
    "# for l_graph in my_client.graphs():\n",
    "#    if (l_graph.name == GRAPH_NAME2):\n",
    "#       my_graph2=my_client.get_database(name=DB_NAME).get_graph_by_id(id=l_graph.graph_id)\n",
    "        \n",
    "for l_graph in my_client.graphs():\n",
    "   if (l_graph.name == GRAPH_NAME3):\n",
    "      my_graph3=my_client.get_database(name=DB_NAME).get_graph_by_id(id=l_graph.graph_id)\n",
    "        \n",
    "# print(my_graph1)\n",
    "# print(my_graph2)\n",
    "print(my_graph3)\n"
   ]
  },
  {
   "cell_type": "code",
   "execution_count": null,
   "id": "57ed95d9-ae80-4875-b32d-f7b1bbb99822",
   "metadata": {},
   "outputs": [],
   "source": [
    "# ##################################################################"
   ]
  },
  {
   "cell_type": "code",
   "execution_count": null,
   "id": "83099a47-2290-4cf2-9b49-28b2580ad5a6",
   "metadata": {},
   "outputs": [],
   "source": [
    "\n",
    "# graph_path = \"gs://katana-internal5/Providence-Graphs/Hetio/\"\n",
    "# import_data.rdg(my_graph1, graph_path)\n",
    "\n",
    "# graph_path = \"gs://katana-internal5/Providence-Graphs/Hetio+GDSC/\"\n",
    "# import_data.rdg(my_graph2, graph_path)\n",
    "\n",
    "graph_path = \"gs://katana-internal48/graph/9JdxR9tyZaSocAbJLWzVAhjWL71YBQbVZNUi3wCJoxyF\"\n",
    "import_data.rdg(my_graph3, graph_path)\n",
    "\n",
    "print(\"--\")\n"
   ]
  },
  {
   "cell_type": "code",
   "execution_count": null,
   "id": "858690fe-d834-4eff-801c-4153d1dcde2f",
   "metadata": {},
   "outputs": [],
   "source": [
    "\n",
    "# display(print(my_graph1.num_nodes()))\n",
    "# display(print(my_graph1.num_edges()))\n",
    "\n",
    "# display(print(my_graph2.num_nodes()))\n",
    "# display(print(my_graph2.num_edges()))\n",
    "\n",
    "display(print(my_graph3.num_nodes()))\n",
    "display(print(my_graph3.num_edges()))\n"
   ]
  },
  {
   "cell_type": "code",
   "execution_count": null,
   "id": "53ebb3b9-c999-4a71-8519-4d85e77db444",
   "metadata": {},
   "outputs": [],
   "source": [
    "\n",
    "# my_graph1.schema(short_schema=True).view()\n",
    "\n",
    "my_graph1.schema().view()\n"
   ]
  },
  {
   "cell_type": "markdown",
   "id": "fe91ab9a-e5bb-44b4-a52b-be550f971e70",
   "metadata": {},
   "source": [
    "<img src=\"./01_Images/Result1.png\" alt=\"Drawing\" style=\"width: 1800px;\"/>"
   ]
  },
  {
   "cell_type": "code",
   "execution_count": null,
   "id": "58d11220-b1b5-4e68-b847-62ffbd7e55dd",
   "metadata": {},
   "outputs": [],
   "source": [
    "\n",
    "my_graph2.schema().view()\n"
   ]
  },
  {
   "cell_type": "markdown",
   "id": "76fea092-c7ae-4b97-928c-3d8788d0dc64",
   "metadata": {},
   "source": [
    "<img src=\"./01_Images/Result2.png\" alt=\"Drawing\" style=\"width: 1800px;\"/>"
   ]
  },
  {
   "cell_type": "code",
   "execution_count": null,
   "id": "08b2467d-95a0-4d4e-95b8-7fe14169d6c5",
   "metadata": {},
   "outputs": [],
   "source": [
    "\n",
    "# my_graph3.schema().view()\n",
    "my_graph3.schema(short_schema=True).view()\n"
   ]
  },
  {
   "cell_type": "markdown",
   "id": "aa425b52-fc6b-49de-bd06-2fcac325cef2",
   "metadata": {},
   "source": [
    "<img src=\"./01_Images/Result3.png\" alt=\"Drawing\" style=\"width: 1800px;\"/>"
   ]
  },
  {
   "cell_type": "code",
   "execution_count": null,
   "id": "99a5c629-546e-4bc8-8a07-968b4c5cd76a",
   "metadata": {},
   "outputs": [],
   "source": [
    "# ##################################################################"
   ]
  },
  {
   "cell_type": "code",
   "execution_count": null,
   "id": "37bec4e8-42ac-4bda-8643-2a6421c047d7",
   "metadata": {},
   "outputs": [],
   "source": [
    "\n",
    "%%time\n",
    "\n",
    "l_query = \"\"\" \n",
    "\n",
    "   // optimization - much smaller set of essential genes so start here first before tcga\n",
    "   // \n",
    "   MATCH (i:GDSC_IC50_RESULT) - [:HAS_CELL_LINE] -> (cl) <- [:HAS_CELL_LINE] - (ach:ACHILLES_ENTRY) - [:HAS_GENE] -> (essg:GENE)\n",
    "   //\n",
    "   // MATCH (ach:ACHILLES_ENTRY)-[:HAS_GENE]->(essg:GENE)\n",
    "   \n",
    "   WHERE\n",
    "      i.tcga_cancer_name = 'SKCM'\n",
    "   AND\n",
    "      ach.Dependency > .8\n",
    "   // AND\n",
    "   //    essg.symbol = 'PDK1'\n",
    "  \n",
    "   // check for common essentials membership\n",
    "   //\n",
    "   AND\n",
    "      essg.isCommonEssential='False'\n",
    "\n",
    "   // this breaks it\n",
    "   //\n",
    "   // AND\n",
    "   //    not ((ach)-[:HAS_ENTREZ_GENE]-(x:GENE))\n",
    "\n",
    "   WITH DISTINCT essg, i.tcga_cancer_name AS cancerType, ach.Dependency AS depends\n",
    "   LIMIT 1000\n",
    " \n",
    " \n",
    "   //  /////////////////////////////////////////////////////////////\n",
    "   \n",
    "  \n",
    "   MATCH (t1:TCGA_GENE) - [o:OBSERVED_MUTATION] -> (t2:TCGA_GENE)\n",
    "   \n",
    "   WHERE\n",
    "      o.cancer_type = 'SKCM'\n",
    "   AND\n",
    "      (toFloat(o.Log2FoldChange )) > 0\n",
    "   AND\n",
    "      toFloat(o.MutSigPval) < .2\n",
    "   AND\n",
    "      t1.id = essg.symbol                                    // location SHOULD BE symbol\n",
    "   AND o.cancer_type = cancerType\n",
    "   // AND\n",
    "   //    essg.symbol = 'RRM2'\n",
    "\n",
    "   // this breaks it because some of genes are not in the tcga set\n",
    "   //\n",
    "   //\n",
    "   // AND \n",
    "   //    t2.id  in  ['KRAS','MITF','CDKN2A','JAK2', 'PAX5', 'PPP6C', 'RAC1', 'SNX31', 'TACC1', 'STK19', 'ARID2']\n",
    "\n",
    "   // confirmed these genes are in the tcga set - will comment in/out as needed\n",
    "   // commented out right now cause dont find any hits at these threshold levels for just this small set of driver genes\n",
    "   //\n",
    "   AND\n",
    "      t2.id = 'BRAF'                                          // in ['BRAF','KRAS','PPP6C','RAC1','STK19', 'ARID2']\n",
    "  \n",
    "   WITH DISTINCT essg, t2, o.Log2FoldChange AS fc, o.MutSigPval AS mutsigp, depends, cancerType\n",
    "\n",
    "\n",
    "   //  /////////////////////////////////////////////////////////////\n",
    "   \n",
    "   \n",
    "   MATCH (mutg:GENE)\n",
    "   WHERE \n",
    "      t2.id = mutg.symbol\n",
    "   WITH DISTINCT essg, mutg, cancerType, fc, mutsigp, depends\n",
    "  \n",
    "  \n",
    "  // optional match (essg)-[r]-(mutg)\n",
    "  //  with mutg,essg, cancerType,count(r) as r1c,fc,mutsigp,depends\n",
    "   \n",
    " //  optional match (essg)-[r]-(x:GENE)-[r2]-(mutg)\n",
    " //   with mutg,essg,r1c,cancerType,count(r2) as r2c,fc,mutsigp,depends\n",
    "   \n",
    " //  optional match (essg)-[r]-(x:GENE)-[r2]-(:GENE)-[r3]-(mutg)\n",
    " //   with mutg,essg,r1c,r2c,cancerType,count(r3) as r3c,fc,mutsigp,depends\n",
    "  \n",
    "\n",
    "   RETURN *  \n",
    "   \"\"\"\n",
    "\n",
    "\n",
    "l_result=my_graph3.query(l_query, contextualize=True)\n",
    "\n",
    "l_result.view()\n"
   ]
  },
  {
   "cell_type": "markdown",
   "id": "5dd4d209-10a6-4035-b70e-5b6b3ebfdc93",
   "metadata": {},
   "source": [
    "<img src=\"./01_Images/Result4.png\" alt=\"Drawing\" style=\"width: 1800px;\"/>"
   ]
  }
 ],
 "metadata": {
  "kernelspec": {
   "display_name": "Python 3 (ipykernel)",
   "language": "python",
   "name": "python3"
  },
  "language_info": {
   "codemirror_mode": {
    "name": "ipython",
    "version": 3
   },
   "file_extension": ".py",
   "mimetype": "text/x-python",
   "name": "python",
   "nbconvert_exporter": "python",
   "pygments_lexer": "ipython3",
   "version": "3.8.13"
  }
 },
 "nbformat": 4,
 "nbformat_minor": 5
}
