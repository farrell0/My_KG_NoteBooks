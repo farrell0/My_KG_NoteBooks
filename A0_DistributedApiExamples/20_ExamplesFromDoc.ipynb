{
 "cells": [
  {
   "cell_type": "markdown",
   "id": "d3ebe820-bc6d-4948-b668-8b81cd3cbf29",
   "metadata": {
    "tags": []
   },
   "source": [
    "#  Setup stuff: Connectivity"
   ]
  },
  {
   "cell_type": "code",
   "execution_count": null,
   "id": "a77758f5-8687-4acb-9e7a-12bce18230dc",
   "metadata": {},
   "outputs": [],
   "source": [
    "\n",
    "#  Setting display options \n",
    "\n",
    "import pandas as pd\n",
    "   #\n",
    "pd.set_option(\"display.width\", 480)\n",
    "\n",
    "#  Sets horizontal scroll for wide outputs\n",
    "#\n",
    "from IPython.display import display, HTML\n",
    "display(HTML(\"\"))\n",
    "\n",
    "from tabulate import tabulate\n",
    "\n",
    "print(\"--\")\n"
   ]
  },
  {
   "cell_type": "code",
   "execution_count": null,
   "id": "1ea957d6-30c6-427a-ae4e-15ecfba0c4f9",
   "metadata": {},
   "outputs": [],
   "source": [
    "\n",
    "from katana import remote\n",
    "\n",
    "my_client = remote.Client()\n",
    "\n",
    "print(my_client)\n"
   ]
  },
  {
   "cell_type": "code",
   "execution_count": null,
   "id": "97571016-7c02-4e90-a75a-136a0dacd35f",
   "metadata": {},
   "outputs": [],
   "source": [
    "\n",
    "NUM_PARTITIONS  = 3\n",
    "   #\n",
    "DB_NAME         = \"my_db\"\n",
    "GRAPH_NAME      = \"my_graph\"\n",
    "\n",
    "print(\"--\")\n"
   ]
  },
  {
   "cell_type": "code",
   "execution_count": null,
   "id": "c5db6505-7fc8-4779-b194-9ed8945b9a90",
   "metadata": {},
   "outputs": [],
   "source": [
    "\n",
    "#  CONNECT TO GRAPH\n",
    "\n",
    "my_graph, *_ = my_client.get_database(name=DB_NAME).find_graphs_by_name(GRAPH_NAME)\n",
    "\n",
    "print(my_graph)\n"
   ]
  },
  {
   "cell_type": "markdown",
   "id": "356be1fb-2be3-40a5-83bb-5e3dd28fe36d",
   "metadata": {
    "tags": []
   },
   "source": [
    "#  Example 00 .."
   ]
  },
  {
   "cell_type": "code",
   "execution_count": 26,
   "id": "dbeb7f8b-e6fa-4580-8d6b-dd5e02b76d63",
   "metadata": {},
   "outputs": [
    {
     "data": {
      "application/vnd.jupyter.widget-view+json": {
       "model_id": "b47c39ab1f67433fb4bbfa593edbb11f",
       "version_major": 2,
       "version_minor": 0
      },
      "text/plain": [
       "          0/? [?op/s]"
      ]
     },
     "metadata": {},
     "output_type": "display_data"
    },
    {
     "name": "stdout",
     "output_type": "stream",
     "text": [
      "+----+-----------------+----------------+---------------------+-----------------------------+----------+-----------+------------------+------------------+\n",
      "|    |   n.internal_id | n.labels       | n.restaurant_code   | n.restaurant_name           | n.type   | n.LABEL   | n.airport_code   | n.airport_name   |\n",
      "|----+-----------------+----------------+---------------------+-----------------------------+----------+-----------+------------------+------------------|\n",
      "|  0 |               1 | ['Restaurant'] | PAP                 | Pappadeauxs Seafood Kitchen | node     | nan       | nan              | nan              |\n",
      "|  1 |               0 | ['Airport']    | nan                 | nan                         | node     | Airport   | ORD              | Chicago O-Hare   |\n",
      "|  2 | 281474976710656 | ['Airport']    | nan                 | nan                         | node     | Airport   | MKE              | Milwaukee        |\n",
      "|  3 | 281474976710657 | ['Airport']    | nan                 | nan                         | node     | Airport   | SJC              | San Jose         |\n",
      "|  4 | 562949953421312 | ['Airport']    | nan                 | nan                         | node     | Airport   | DEN              | Denver           |\n",
      "+----+-----------------+----------------+---------------------+-----------------------------+----------+-----------+------------------+------------------+\n"
     ]
    },
    {
     "name": "stderr",
     "output_type": "stream",
     "text": [
      "/opt/conda/lib/python3.8/site-packages/katana_enterprise/remote/result_set.py:69: UserWarning: Pandas doesn't allow columns to be created via a new attribute name - see https://pandas.pydata.org/pandas-docs/stable/indexing.html#attribute-access\n",
      "  self._response = response\n"
     ]
    }
   ],
   "source": [
    "\n",
    "#  What's in the graph ..\n",
    "\n",
    "l_result1 = my_graph.query_unpaginated(\"\"\"\n",
    "   MATCH ( n ) \n",
    "   RETURN n\n",
    "   \"\"\")\n",
    "print(tabulate(l_result1, headers='keys', tablefmt='psql'))\n"
   ]
  },
  {
   "cell_type": "code",
   "execution_count": null,
   "id": "cbfd8466-4144-479c-be1f-39f9a9843b2c",
   "metadata": {},
   "outputs": [],
   "source": [
    "\n",
    "l_result = my_graph.query_unpaginated(\"\"\"\n",
    "\n",
    "   MATCH ( n ) - [ r ] -> ( m )\n",
    "   RETURN r\n",
    "   \n",
    "   \"\"\")\n",
    "print(tabulate(l_result, headers='keys', tablefmt='psql'))\n"
   ]
  },
  {
   "cell_type": "markdown",
   "id": "d735519c-690d-4461-9199-5dd12ef2c3da",
   "metadata": {
    "tags": []
   },
   "source": [
    "#  Example 01 .."
   ]
  },
  {
   "cell_type": "code",
   "execution_count": 9,
   "id": "0726cf92-3e8d-451b-a152-53e089230cc1",
   "metadata": {},
   "outputs": [
    {
     "name": "stdout",
     "output_type": "stream",
     "text": [
      "--\n"
     ]
    }
   ],
   "source": [
    "\n",
    "from katana.remote import analytics\n",
    "\n",
    "print(\"--\")\n"
   ]
  },
  {
   "cell_type": "code",
   "execution_count": 27,
   "id": "9a92c5bc-1f4b-444c-92cd-9310203ca020",
   "metadata": {},
   "outputs": [
    {
     "data": {
      "application/vnd.jupyter.widget-view+json": {
       "model_id": "20887c532ad440f3ba7faaa5554e18cf",
       "version_major": 2,
       "version_minor": 0
      },
      "text/plain": [
       "          0/? [?op/s]"
      ]
     },
     "metadata": {},
     "output_type": "display_data"
    },
    {
     "name": "stdout",
     "output_type": "stream",
     "text": [
      "\n",
      "Host 0 output:\n",
      "Node Count:  1\n",
      "\n",
      "Host 1 output:\n",
      "Node Count:  1\n",
      "\n",
      "Host 2 output:\n",
      "Node Count:  0\n",
      "--\n"
     ]
    }
   ],
   "source": [
    "\n",
    "\n",
    "def graph_city_count(i_graph, i_label):\n",
    "    \n",
    "   l_node_seq: Sequence[Node] = i_graph.nodes(labels = i_label)\n",
    "      #\n",
    "   print(\"Node Count: \", len(l_node_seq))\n",
    "\n",
    "    \n",
    "# l_label = \"Airport\"\n",
    "l_label = \"Restaurant\"\n",
    "    \n",
    "my_graph.run(lambda g: graph_city_count(g, l_label))\n",
    "   #\n",
    "print(\"--\")\n",
    "\n"
   ]
  },
  {
   "cell_type": "markdown",
   "id": "41983386-d6f1-4a37-b5d1-29ec61a23c51",
   "metadata": {
    "tags": []
   },
   "source": [
    "#  Example 02 .."
   ]
  },
  {
   "cell_type": "code",
   "execution_count": null,
   "id": "2b9f7033-2019-4a4e-94f2-1546ab3cfc6e",
   "metadata": {},
   "outputs": [],
   "source": [
    "\n",
    "def graph_cities(graph: Graph):\n",
    "    \n",
    "   city_sequence: Sequence[Node] = graph.nodes(labels=\"City\")\n",
    "\n",
    "   # How do I find all the in-edges for my cities?\n",
    "   distinct_src_labels = set()\n",
    "    \n",
    "   for city in city_sequence:\n",
    "        city: Node\n",
    "       for in_edge in graph.in_edges(city):\n",
    "            in_edge: InEdge\n",
    "            src_node: Node = graph.in_edges.src(in_edge)\n",
    "            distinct_src_labels.add(graph.nodes.labels(src_node))\n",
    "            \n",
    "    print(distinct_src_labels)\n",
    "    \n",
    "remote_graph.run(graph_cities)\n",
    "\n",
    "\n",
    "\n",
    "\n",
    "\n",
    "\n",
    "\n"
   ]
  },
  {
   "cell_type": "code",
   "execution_count": null,
   "id": "751fed3f-c541-42e0-b31c-0c23b23a20f9",
   "metadata": {},
   "outputs": [],
   "source": []
  },
  {
   "cell_type": "code",
   "execution_count": null,
   "id": "bd466cc7-ad62-4b6b-bd4f-d2a2d69c1b40",
   "metadata": {},
   "outputs": [],
   "source": []
  },
  {
   "cell_type": "code",
   "execution_count": null,
   "id": "4f25f6e1-4a1a-4014-8797-a9858c947402",
   "metadata": {},
   "outputs": [],
   "source": []
  }
 ],
 "metadata": {
  "kernelspec": {
   "display_name": "Python 3 (ipykernel)",
   "language": "python",
   "name": "python3"
  },
  "language_info": {
   "codemirror_mode": {
    "name": "ipython",
    "version": 3
   },
   "file_extension": ".py",
   "mimetype": "text/x-python",
   "name": "python",
   "nbconvert_exporter": "python",
   "pygments_lexer": "ipython3",
   "version": "3.8.13"
  }
 },
 "nbformat": 4,
 "nbformat_minor": 5
}
