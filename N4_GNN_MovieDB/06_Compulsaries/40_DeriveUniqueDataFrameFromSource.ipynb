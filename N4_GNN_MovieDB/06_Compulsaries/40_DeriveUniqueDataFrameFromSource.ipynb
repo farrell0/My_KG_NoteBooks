{
 "cells": [
  {
   "cell_type": "code",
   "execution_count": null,
   "id": "d776f754-ef98-4cbd-a423-647c483341ce",
   "metadata": {},
   "outputs": [],
   "source": [
    "\n",
    "#  Here we demonstrate the following Dask DataFrame technique;\n",
    "#\n",
    "#     .  Given a source DataFrame, create a second new DataFrame with just unique\n",
    "#        values, and the ability to link back to the source.\n",
    "#\n",
    "#        We might use this technique when given a flat file of data, that we derive\n",
    "#        nodes and edges from.\n"
   ]
  },
  {
   "cell_type": "code",
   "execution_count": 16,
   "id": "0416c10d-a1cb-433d-ad5e-85498aaa1744",
   "metadata": {},
   "outputs": [
    {
     "name": "stdout",
     "output_type": "stream",
     "text": [
      "--\n"
     ]
    }
   ],
   "source": [
    "\n",
    "import numpy as np\n",
    "import pandas as pd\n",
    "   #\n",
    "import dask.array as da\n",
    "import dask.dataframe as dd\n",
    "\n",
    "from tabulate import tabulate\n",
    "\n",
    "print(\"--\")\n"
   ]
  },
  {
   "cell_type": "code",
   "execution_count": 19,
   "id": "131298d0-5cb4-4b62-8413-5e5571ef4b6a",
   "metadata": {},
   "outputs": [],
   "source": [
    "\n",
    "#  Our source DataFrame\n",
    "\n",
    "np_airports = np.array([\n",
    "       #\n",
    "   [\"MKE\", \"Milwaukee\"     , \"WI\", \"Airport\"],\n",
    "   [\"ORD\", \"Chicago O-Hare\", \"IL\", \"Airport\"],\n",
    "   [\"SJC\", \"San Jose\"      , \"CA\", \"Airport\"],\n",
    "   [\"LAX\", \"Los Angeles\"   , \"CA\", \"Airport\"],\n",
    "   [\"DEN\", \"Denver\"        , \"CO\", \"Airport\"],\n",
    "       #\n",
    "   ], dtype=\"str\")\n",
    "\n",
    "pd_airports = pd.DataFrame(np_airports, columns = [\"airport_code\", \"airport_name\", \"state_code\", \"LABEL\"])\n",
    "\n",
    "\n",
    "\n",
    "\n",
    "\n",
    "# df_airports = dd.io.from_dask_array(pd_airports)\n",
    "\n",
    "\n",
    "\n",
    "# my_array = np.array([[11,22,33],[44,55,66]])\n",
    "# \n",
    "# df = pd.DataFrame(my_array, columns = ['Column_A','Column_B','Column_C'])\n",
    "\n",
    "\n",
    "\n",
    "#  df_airports = dd.io.from_dask_array([\n",
    "#         #\n",
    "#     [\"MKE\", \"Milwaukee\"          ,\"WI\", \"Airport\"],\n",
    "#     [\"ORD\", \"Chicago O-Hare\"     ,\"IL\", \"Airport\"],\n",
    "#     [\"SJC\", \"San Jose\"           ,\"CA\", \"Airport\"],\n",
    "#     [\"LAX\", \"Los Angeles\"        ,\"CA\", \"Airport\"],\n",
    "#     [\"DEN\", \"Denver\"             ,\"CO\", \"Airport\"],\n",
    "#         #\n",
    "#     ], columns = [\"airport_code\", \"airport_name\", \"state_code\", \"LABEL\"])\n",
    "#  \n",
    "# print(tabulate(df_airports, headers='keys', tablefmt='psql'))\n",
    "\n",
    "\n",
    "# pd.array(['a', 'b'], dtype=str)\n",
    "\n",
    "\n",
    "\n",
    "# x = da.ones((4, 2), chunks=(2, 2))\n",
    "# \n",
    "# df = dd.io.from_dask_array(x, columns=['a', 'b'])\n",
    "# \n",
    "# df.compute()\n",
    "\n",
    "\n"
   ]
  },
  {
   "cell_type": "code",
   "execution_count": null,
   "id": "4b708e18-dcc4-4e8e-b508-de70687066f8",
   "metadata": {},
   "outputs": [],
   "source": []
  },
  {
   "cell_type": "code",
   "execution_count": null,
   "id": "828d62e9-1cf8-4eee-9147-f351961b95f4",
   "metadata": {},
   "outputs": [],
   "source": []
  },
  {
   "cell_type": "code",
   "execution_count": null,
   "id": "6e1ca776-22c3-4bbd-955f-ae1b59184b3d",
   "metadata": {},
   "outputs": [],
   "source": []
  },
  {
   "cell_type": "code",
   "execution_count": null,
   "id": "3b05af70-edbb-4f9d-b774-6f4b4d395ca8",
   "metadata": {},
   "outputs": [],
   "source": []
  },
  {
   "cell_type": "code",
   "execution_count": null,
   "id": "cda11faf-086b-49ef-82cf-3c6a6abaf975",
   "metadata": {},
   "outputs": [],
   "source": []
  },
  {
   "cell_type": "code",
   "execution_count": null,
   "id": "e2030993-a5d8-408b-8dc9-fd8b8f985990",
   "metadata": {},
   "outputs": [],
   "source": []
  }
 ],
 "metadata": {
  "kernelspec": {
   "display_name": "Python 3 (ipykernel)",
   "language": "python",
   "name": "python3"
  },
  "language_info": {
   "codemirror_mode": {
    "name": "ipython",
    "version": 3
   },
   "file_extension": ".py",
   "mimetype": "text/x-python",
   "name": "python",
   "nbconvert_exporter": "python",
   "pygments_lexer": "ipython3",
   "version": "3.8.13"
  }
 },
 "nbformat": 4,
 "nbformat_minor": 5
}
