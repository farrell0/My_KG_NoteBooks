{
 "cells": [
  {
   "cell_type": "code",
   "execution_count": 1,
   "id": "d15210fc-ab82-4bd9-80f4-2f283d3cfaa4",
   "metadata": {},
   "outputs": [],
   "source": [
    "######## setup variables ##########\n",
    "gs_prefix=\"gs://anand-31-simple-files/aml-customer-extended\"\n",
    "cluster_name=\"katana-internal31\"\n",
    "partitions = 1\n",
    "platform_prefix=gs_prefix"
   ]
  },
  {
   "cell_type": "code",
   "execution_count": 2,
   "id": "d54dec81-4ec2-4bbb-af34-294dc7894523",
   "metadata": {},
   "outputs": [],
   "source": [
    "import os                                                                        \n",
    "import time                                                                      \n",
    "import json\n",
    "import pandas as pd\n",
    "from timeit import default_timer as timer\n",
    "from katana.remote import aio, analytics, import_data, trace\n",
    "\n",
    "from katana import remote\n",
    "from katana.remote import import_data\n",
    "\n",
    "import gcsfs, pytest\n",
    "\n",
    "os.environ[\"KATANA_SERVER_ADDRESS\"] = \"host.docker.internal:8080\"\n",
    "\n",
    "pd.set_option('display.max_columns', None)\n",
    "pd.set_option(\"max_colwidth\", None)"
   ]
  },
  {
   "cell_type": "code",
   "execution_count": 3,
   "id": "ae5c18da-bd95-48c6-8705-dff778f73b05",
   "metadata": {},
   "outputs": [
    {
     "data": {
      "text/plain": [
       "'0.1.102.dev+96.327.e672f3.0227ed.unmerged'"
      ]
     },
     "execution_count": 3,
     "metadata": {},
     "output_type": "execute_result"
    }
   ],
   "source": [
    "rc=remote.Client()\n",
    "rc.server_version"
   ]
  },
  {
   "cell_type": "markdown",
   "id": "204104f6-6d2f-42a9-8b72-2238cd380aa4",
   "metadata": {
    "tags": []
   },
   "source": [
    "<h1> Part 1: Validate Pre-requisites and Import Data </h1>"
   ]
  },
  {
   "cell_type": "code",
   "execution_count": 4,
   "id": "f86ca9c2-ccda-4bc8-a593-fa4f5fa7bd23",
   "metadata": {},
   "outputs": [],
   "source": [
    "\n",
    "graph = rc.create_graph(\n",
    "    num_partitions=partitions,\n",
    "    name=\"aml-1\"\n",
    ")"
   ]
  },
  {
   "cell_type": "code",
   "execution_count": 5,
   "id": "327d4ac7-e323-41e0-853a-b0ceecd40146",
   "metadata": {},
   "outputs": [
    {
     "data": {
      "text/plain": [
       "'AoYtkBuEMN8ZdYTxgVtj9PAc1NpgPET9LfMcrFrstrbg'"
      ]
     },
     "execution_count": 5,
     "metadata": {},
     "output_type": "execute_result"
    }
   ],
   "source": [
    "graph.graph_id"
   ]
  },
  {
   "cell_type": "code",
   "execution_count": 6,
   "id": "b3fd0ff0-9855-42fe-8792-a1f1c198e648",
   "metadata": {},
   "outputs": [],
   "source": [
    "test_node_file = platform_prefix + \"/nodes.txt\"\n",
    "test_edge_file = platform_prefix + \"/edges.txt\"\n",
    "input_path=platform_prefix \n",
    "rdg_path=\"gs://\"+cluster_name+\"/graph/\"+graph.graph_id"
   ]
  },
  {
   "cell_type": "code",
   "execution_count": 7,
   "id": "75cd7fdf-ae13-46bf-8965-c9cca1167f91",
   "metadata": {},
   "outputs": [],
   "source": [
    "fs = gcsfs.GCSFileSystem(project=\"katana-internal31\", token=\"anon\")"
   ]
  },
  {
   "cell_type": "code",
   "execution_count": 8,
   "id": "cd7be5b9-9307-4fc1-8f82-ddeba2e72966",
   "metadata": {},
   "outputs": [],
   "source": [
    "assert fs.exists(test_node_file), \"Node file does not exist\"\n",
    "assert fs.exists(test_edge_file), \"Edge file does not exist\"\n",
    "assert len(graph.graph_id)>0, \"Graph object is not available\""
   ]
  },
  {
   "cell_type": "markdown",
   "id": "d6745521-b477-4847-8a51-68673560b145",
   "metadata": {},
   "source": [
    "<b>Pre-requisites for the test is now complete</b>"
   ]
  },
  {
   "cell_type": "code",
   "execution_count": 9,
   "id": "1a80917a-8a9c-49ab-a2b8-cfe67210f9c9",
   "metadata": {},
   "outputs": [
    {
     "name": "stdout",
     "output_type": "stream",
     "text": [
      "Importing graph from CSV files...\n"
     ]
    },
    {
     "data": {
      "application/vnd.jupyter.widget-view+json": {
       "model_id": "7310d0f6cc694d298e35ca143bddf889",
       "version_major": 2,
       "version_minor": 0
      },
      "text/plain": [
       "          0/? [?op/s]"
      ]
     },
     "metadata": {},
     "output_type": "display_data"
    },
    {
     "name": "stdout",
     "output_type": "stream",
     "text": [
      "  import: 17.4 seconds\n"
     ]
    }
   ],
   "source": [
    "start = timer()\n",
    "print(\"Importing graph from CSV files...\")\n",
    "import_data.csv(\n",
    "    graph,\n",
    "    input_node_path=test_node_file,\n",
    "    input_edge_path=test_edge_file,\n",
    "    input_dir=input_path,\n",
    "#    have_headers=True,\n",
    "    data_delimiter=\",\",\n",
    "    schema_delimiter=\",\"\n",
    "    #partition_policy=\"random-oec\"\n",
    ")\n",
    "end = timer()\n",
    "print(f\"  import: {end - start:.1f} seconds\") "
   ]
  },
  {
   "cell_type": "code",
   "execution_count": 10,
   "id": "45f2c680-2a81-4997-986e-308e4ac01daf",
   "metadata": {},
   "outputs": [],
   "source": [
    "assert fs.exists(rdg_path), \"Output path for RDG does not exists\""
   ]
  },
  {
   "cell_type": "code",
   "execution_count": 11,
   "id": "d78a8836-93d7-45a1-8d70-ba976277d335",
   "metadata": {},
   "outputs": [
    {
     "data": {
      "application/vnd.jupyter.widget-view+json": {
       "model_id": "b76141e74b8743edbccabb9e09649211",
       "version_major": 2,
       "version_minor": 0
      },
      "text/plain": [
       "          0/? [?op/s]"
      ]
     },
     "metadata": {},
     "output_type": "display_data"
    },
    {
     "data": {
      "application/vnd.jupyter.widget-view+json": {
       "model_id": "ae406b22d52e4a4e8150fe648220ba38",
       "version_major": 2,
       "version_minor": 0
      },
      "text/plain": [
       "          0/? [?op/s]"
      ]
     },
     "metadata": {},
     "output_type": "display_data"
    }
   ],
   "source": [
    "assert graph.num_nodes() > 0, \"No Nodes exists in the graph\"\n",
    "assert graph.num_edges() > 0, \"No Edges exists in the graph\""
   ]
  },
  {
   "cell_type": "markdown",
   "id": "c7bf652b-4c44-43cd-ade4-77aa161f07e9",
   "metadata": {},
   "source": [
    "<b> 1 : CSV Import Functionality works </b>"
   ]
  },
  {
   "cell_type": "markdown",
   "id": "89b5b2dc-41bb-401b-b97a-a8818ce4cc0e",
   "metadata": {
    "tags": []
   },
   "source": [
    "<h1> Part 2: Review the Entities in the AML Domain </h1>"
   ]
  },
  {
   "cell_type": "code",
   "execution_count": 12,
   "id": "60767054-eab1-4fdc-b93d-c03165f4d01d",
   "metadata": {},
   "outputs": [
    {
     "data": {
      "application/vnd.jupyter.widget-view+json": {
       "model_id": "f27aee4903524006b502dc2e7f683f21",
       "version_major": 2,
       "version_minor": 0
      },
      "text/plain": [
       "          0/? [?op/s]"
      ]
     },
     "metadata": {},
     "output_type": "display_data"
    },
    {
     "name": "stdout",
     "output_type": "stream",
     "text": [
      "CPU times: user 119 ms, sys: 36.9 ms, total: 156 ms\n",
      "Wall time: 9.14 s\n"
     ]
    }
   ],
   "source": [
    "%%time\n",
    "query1=\"\"\"MATCH (r:ACCOUNT{ACCOUNT_ID:'926'}) \n",
    "       return r\"\"\"\n",
    "result = graph.query(query1)\n",
    "df = result.to_pandas()"
   ]
  },
  {
   "cell_type": "code",
   "execution_count": 13,
   "id": "06ec77fb-8dcb-47e5-a82f-ac46015e5160",
   "metadata": {},
   "outputs": [
    {
     "data": {
      "application/vnd.jupyter.widget-view+json": {
       "model_id": "493322e8a2364861a4cc814f10b955ab",
       "version_major": 2,
       "version_minor": 0
      },
      "text/plain": [
       "GridBox(children=(HBox(children=(Text(value='', placeholder='Search....'), HBox(children=(Button(description='…"
      ]
     },
     "metadata": {},
     "output_type": "display_data"
    }
   ],
   "source": [
    "result.table()"
   ]
  },
  {
   "cell_type": "code",
   "execution_count": 14,
   "id": "8b4668a7-24de-4a5e-b62a-35c2fe459e3f",
   "metadata": {},
   "outputs": [],
   "source": [
    "assert df.size == 1, \"Exactly one Account node is not found\""
   ]
  },
  {
   "cell_type": "markdown",
   "id": "1cca0b80-2d74-4ce0-9c23-9cfccd4255f5",
   "metadata": {},
   "source": [
    "<b> 2 : Lookup of an ACCOUNT by label works </b>"
   ]
  },
  {
   "cell_type": "code",
   "execution_count": 15,
   "id": "8cf31813-5bf8-431d-a850-f8b760f539d6",
   "metadata": {},
   "outputs": [
    {
     "data": {
      "application/vnd.jupyter.widget-view+json": {
       "model_id": "3c526b516b4f461f8f33ff4e444b01f0",
       "version_major": 2,
       "version_minor": 0
      },
      "text/plain": [
       "          0/? [?op/s]"
      ]
     },
     "metadata": {},
     "output_type": "display_data"
    },
    {
     "name": "stdout",
     "output_type": "stream",
     "text": [
      "CPU times: user 95.5 ms, sys: 25.1 ms, total: 121 ms\n",
      "Wall time: 8.76 s\n"
     ]
    },
    {
     "data": {
      "text/plain": [
       "20"
      ]
     },
     "execution_count": 15,
     "metadata": {},
     "output_type": "execute_result"
    }
   ],
   "source": [
    "%%time\n",
    "query1=\"\"\"MATCH (s:ACCOUNT{ACCOUNT_ID:'926'})-[ts:TRANSACTION_SENDER]->(t:TRANSACTION)-[tr:TRANSACTION_RECEIVER]->(r:ACCOUNT)\n",
    "       return t\"\"\"\n",
    "result = graph.query(query1)\n",
    "df = result.to_pandas()\n",
    "df.size"
   ]
  },
  {
   "cell_type": "code",
   "execution_count": 16,
   "id": "270fe5ff-54e5-4997-b955-af04ef4c4802",
   "metadata": {},
   "outputs": [],
   "source": [
    "assert df.size > 1, \"A transaction linked to an account with id 926 is not found\""
   ]
  },
  {
   "cell_type": "markdown",
   "id": "78a1b96b-0aea-4a1b-8da2-c856c5f83114",
   "metadata": {},
   "source": [
    "<b> 3 : Lookup of an TRANSACTION related to an ACCOUNT (926) successful </b>"
   ]
  },
  {
   "cell_type": "code",
   "execution_count": 17,
   "id": "9f77f6bd-8c7f-4c33-84fc-d458bc30e7f1",
   "metadata": {},
   "outputs": [
    {
     "data": {
      "application/vnd.jupyter.widget-view+json": {
       "model_id": "c0e8234c15ee459b9f238e9acfa7d72b",
       "version_major": 2,
       "version_minor": 0
      },
      "text/plain": [
       "          0/? [?op/s]"
      ]
     },
     "metadata": {},
     "output_type": "display_data"
    },
    {
     "name": "stdout",
     "output_type": "stream",
     "text": [
      "CPU times: user 86 ms, sys: 44.7 ms, total: 131 ms\n",
      "Wall time: 8.84 s\n"
     ]
    },
    {
     "data": {
      "text/html": [
       "<div>\n",
       "<style scoped>\n",
       "    .dataframe tbody tr th:only-of-type {\n",
       "        vertical-align: middle;\n",
       "    }\n",
       "\n",
       "    .dataframe tbody tr th {\n",
       "        vertical-align: top;\n",
       "    }\n",
       "\n",
       "    .dataframe thead th {\n",
       "        text-align: right;\n",
       "    }\n",
       "</style>\n",
       "<table border=\"1\" class=\"dataframe\">\n",
       "  <thead>\n",
       "    <tr style=\"text-align: right;\">\n",
       "      <th></th>\n",
       "      <th>c</th>\n",
       "    </tr>\n",
       "  </thead>\n",
       "  <tbody>\n",
       "    <tr>\n",
       "      <th>0</th>\n",
       "      <td>{'id': 1926, 'labels': ['CUSTOMER'], 'properties': {'CUSTOMER_ID': 'C_926', 'DOB': '2005-10-12', 'FIRSTNAME': 'Tyrone', 'LASTNAME': 'Nelson', 'PEP': 'false'}, 'type': 'node'}</td>\n",
       "    </tr>\n",
       "  </tbody>\n",
       "</table>\n",
       "</div>"
      ],
      "text/plain": [
       "                                                                                                                                                                                c\n",
       "0  {'id': 1926, 'labels': ['CUSTOMER'], 'properties': {'CUSTOMER_ID': 'C_926', 'DOB': '2005-10-12', 'FIRSTNAME': 'Tyrone', 'LASTNAME': 'Nelson', 'PEP': 'false'}, 'type': 'node'}"
      ]
     },
     "execution_count": 17,
     "metadata": {},
     "output_type": "execute_result"
    }
   ],
   "source": [
    "%%time\n",
    "query1=\"\"\"MATCH (s:ACCOUNT{ACCOUNT_ID:'926'})-[ac:HAS_CUSTOMER]->(c:CUSTOMER)\n",
    "       return c\"\"\"\n",
    "result = graph.query(query1)\n",
    "df = result.to_pandas()\n",
    "df"
   ]
  },
  {
   "cell_type": "code",
   "execution_count": 18,
   "id": "77963c9e-c869-43e2-8d7b-ac660800c1a2",
   "metadata": {},
   "outputs": [],
   "source": [
    "assert df.size == 1, \"One and only one CUSTOMER is linked to an ACCOUNT\""
   ]
  },
  {
   "cell_type": "markdown",
   "id": "4a3889f1-58b3-4b92-b1f7-51fe6c68666b",
   "metadata": {},
   "source": [
    "<b> 4 : There is one and only one customer node linked to ACCOUNT (926) </b>"
   ]
  },
  {
   "cell_type": "markdown",
   "id": "a7ba957f-1801-4888-8fab-e20e6a68efa5",
   "metadata": {},
   "source": [
    "<h1> Part 3: AML Queries </h1>"
   ]
  },
  {
   "cell_type": "code",
   "execution_count": 19,
   "id": "50bb0b6d-c96e-4063-a9c6-50d63d87220f",
   "metadata": {},
   "outputs": [
    {
     "data": {
      "application/vnd.jupyter.widget-view+json": {
       "model_id": "121c36cd2c1446309c7bb78f0ec0abb7",
       "version_major": 2,
       "version_minor": 0
      },
      "text/plain": [
       "          0/? [?op/s]"
      ]
     },
     "metadata": {},
     "output_type": "display_data"
    },
    {
     "name": "stdout",
     "output_type": "stream",
     "text": [
      "CPU times: user 85.8 ms, sys: 24.4 ms, total: 110 ms\n",
      "Wall time: 7.29 s\n"
     ]
    }
   ],
   "source": [
    "%%time\n",
    "query1=\"\"\"MATCH (a:ACCOUNT)-[:TRANSACTION_SENDER]->(t:TRANSACTION)-[:TRANSACTION_RECEIVER]->(b:ACCOUNT) \n",
    "            where t.dot > date('2018-01-01') and t.dot < date('2022-01-01')\n",
    "              and t.TX_AMOUNT < 10000\n",
    "        WITH  collect(t.TX_ID) as txs, avg(t.TX_AMOUNT) as average, count(t) as count, a.ACCOUNT_ID as sender,b.ACCOUNT_ID as receiver \n",
    "        where average > 9000 \n",
    "        and count > 5  \n",
    "        return  txs, average, count, sender, receiver order by count desc\"\"\"\n",
    "\n",
    "result = graph.query(query1)"
   ]
  },
  {
   "cell_type": "code",
   "execution_count": 20,
   "id": "30a4e31e-64fe-46a8-8ba1-8439d35988df",
   "metadata": {},
   "outputs": [
    {
     "data": {
      "text/plain": [
       "2"
      ]
     },
     "execution_count": 20,
     "metadata": {},
     "output_type": "execute_result"
    }
   ],
   "source": [
    "df=result.to_pandas()\n",
    "df.shape[0]"
   ]
  },
  {
   "cell_type": "code",
   "execution_count": 21,
   "id": "1c348b4f-69c9-409c-9efb-202675f5b4b6",
   "metadata": {},
   "outputs": [],
   "source": [
    "assert df.shape[0] == 2, \"'Under the Radar' Query should yield 2 records\""
   ]
  },
  {
   "cell_type": "markdown",
   "id": "f56012ec-8ce3-43e1-a1fa-b2a22e1f6080",
   "metadata": {},
   "source": [
    "<b> 5 : Under the Radar' Query yielded 2 records </b>"
   ]
  },
  {
   "cell_type": "code",
   "execution_count": 23,
   "id": "403f3f4d-1125-422c-856f-f0e774533a7f",
   "metadata": {},
   "outputs": [
    {
     "data": {
      "application/vnd.jupyter.widget-view+json": {
       "model_id": "3a190f5575f8431f8bda01a4ff3f8b87",
       "version_major": 2,
       "version_minor": 0
      },
      "text/plain": [
       "          0/? [?op/s]"
      ]
     },
     "metadata": {},
     "output_type": "display_data"
    },
    {
     "data": {
      "application/vnd.jupyter.widget-view+json": {
       "model_id": "c700ef95b5c140a394970044cdd272a3",
       "version_major": 2,
       "version_minor": 0
      },
      "text/plain": [
       "          0/? [?op/s]"
      ]
     },
     "metadata": {},
     "output_type": "display_data"
    },
    {
     "name": "stdout",
     "output_type": "stream",
     "text": [
      "CPU times: user 255 ms, sys: 98.8 ms, total: 354 ms\n",
      "Wall time: 26.9 s\n"
     ]
    },
    {
     "data": {
      "application/vnd.jupyter.widget-view+json": {
       "model_id": "07fc09fc8a0a46e88b430ee9c7a8f739",
       "version_major": 2,
       "version_minor": 0
      },
      "text/plain": [
       "GraphVizWidget(edges=[{'from': 119615, 'to': 98, 'label': 'TRANSACTION_RECEIVER', 'type': 'TRANSACTION_RECEIVE…"
      ]
     },
     "metadata": {},
     "output_type": "display_data"
    }
   ],
   "source": [
    "%%time\n",
    "query1=\"\"\"MATCH (a)-[:TRANSACTION_SENDER]->(t1:TRANSACTION)-[:TRANSACTION_RECEIVER]->(b)-[:TRANSACTION_SENDER]->(t2:TRANSACTION)-[:TRANSACTION_RECEIVER]->(c)\n",
    "        where t1.TX_AMOUNT = t2.TX_AMOUNT\n",
    "          and NOT a.ACCOUNT_ID = b.ACCOUNT_ID\n",
    "          and NOT b.ACCOUNT_ID = c.ACCOUNT_ID\n",
    "        WITH a, b, c, t1,t2\n",
    "        MATCH  (c)-[:TRANSACTION_SENDER]->(t3:TRANSACTION)-[:TRANSACTION_RECEIVER]->(d)\n",
    "        where t3.TX_AMOUNT = t2.TX_AMOUNT\n",
    "          and NOT d.ACCOUNT_ID = c.ACCOUNT_ID\n",
    "        WITH a, b, c, d, t1,t2, t3\n",
    "        MATCH  (d)-[:TRANSACTION_SENDER]->(t4:TRANSACTION)-[:TRANSACTION_RECEIVER]->(e)\n",
    "        where t4.TX_AMOUNT = t3.TX_AMOUNT\n",
    "          and NOT e.ACCOUNT_ID = d.ACCOUNT_ID\n",
    "        WITH a, b, c, d, e, t1,t2, t3, t4\n",
    "        MATCH  (e)-[:TRANSACTION_SENDER]->(t5:TRANSACTION)-[:TRANSACTION_RECEIVER]->(f)\n",
    "        where t5.TX_AMOUNT = t4.TX_AMOUNT\n",
    "          and NOT f.ACCOUNT_ID = e.ACCOUNT_ID\n",
    "          and f.ACCOUNT_ID = a.ACCOUNT_ID\n",
    "          and ( a.ACCOUNT_ID = '753' or b.ACCOUNT_ID = '753' or c.ACCOUNT_ID = '753' or d.ACCOUNT_ID = '753' or e.ACCOUNT_ID = '753' or f.ACCOUNT_ID = '753' )      \n",
    "        return a, b, c, d, e, f, t1,t2, t3, t4, t5 \n",
    "        \"\"\"\n",
    "\n",
    "result = graph.query(query1, contextualize = True)\n",
    "cycles=result.to_pandas()\n",
    "result.visualize()"
   ]
  },
  {
   "cell_type": "code",
   "execution_count": 27,
   "id": "69503cfc-a7ae-4c6f-8ef9-ef3bcbb969db",
   "metadata": {},
   "outputs": [
    {
     "data": {
      "text/plain": [
       "10"
      ]
     },
     "execution_count": 27,
     "metadata": {},
     "output_type": "execute_result"
    }
   ],
   "source": [
    "cycles.shape[0]"
   ]
  },
  {
   "cell_type": "code",
   "execution_count": 28,
   "id": "f6de93ab-7a58-4719-8ad5-b98876b813d6",
   "metadata": {},
   "outputs": [],
   "source": [
    "assert df.shape[0] > 0, \"At least one cycle involving account 753 found\""
   ]
  },
  {
   "cell_type": "markdown",
   "id": "238dc20f-1bce-42af-87ca-cd865cbd0128",
   "metadata": {},
   "source": [
    "<b>5 : Cycle query returned at least one cycle</b>"
   ]
  },
  {
   "cell_type": "markdown",
   "id": "3ba34f7e-aeee-4ec8-b5b3-78f989630786",
   "metadata": {},
   "source": [
    "<h1> PART 4 : Adding an Alert and Marking a transaction as suspicious  </h1>"
   ]
  },
  {
   "cell_type": "code",
   "execution_count": 29,
   "id": "99f6391f-cc56-40ab-b93d-fb723de84d1d",
   "metadata": {},
   "outputs": [
    {
     "data": {
      "application/vnd.jupyter.widget-view+json": {
       "model_id": "a079590a53ec461282612ef0bc6ec589",
       "version_major": 2,
       "version_minor": 0
      },
      "text/plain": [
       "          0/? [?op/s]"
      ]
     },
     "metadata": {},
     "output_type": "display_data"
    },
    {
     "name": "stdout",
     "output_type": "stream",
     "text": [
      "CPU times: user 201 ms, sys: 63.8 ms, total: 265 ms\n",
      "Wall time: 9.45 s\n"
     ]
    },
    {
     "data": {
      "text/html": [
       "<div>\n",
       "<style scoped>\n",
       "    .dataframe tbody tr th:only-of-type {\n",
       "        vertical-align: middle;\n",
       "    }\n",
       "\n",
       "    .dataframe tbody tr th {\n",
       "        vertical-align: top;\n",
       "    }\n",
       "\n",
       "    .dataframe thead th {\n",
       "        text-align: right;\n",
       "    }\n",
       "</style>\n",
       "<table border=\"1\" class=\"dataframe\">\n",
       "  <thead>\n",
       "    <tr style=\"text-align: right;\">\n",
       "      <th></th>\n",
       "      <th>alert</th>\n",
       "    </tr>\n",
       "  </thead>\n",
       "  <tbody>\n",
       "    <tr>\n",
       "      <th>0</th>\n",
       "      <td>{'id': 157927, 'labels': ['ALERT'], 'properties': {'ALERT_ID': '10001', 'DESCRIPTION': 'High Value with cycle links'}, 'type': 'node'}</td>\n",
       "    </tr>\n",
       "  </tbody>\n",
       "</table>\n",
       "</div>"
      ],
      "text/plain": [
       "                                                                                                                                    alert\n",
       "0  {'id': 157927, 'labels': ['ALERT'], 'properties': {'ALERT_ID': '10001', 'DESCRIPTION': 'High Value with cycle links'}, 'type': 'node'}"
      ]
     },
     "execution_count": 29,
     "metadata": {},
     "output_type": "execute_result"
    }
   ],
   "source": [
    "%%time\n",
    "query1=\"\"\"MATCH (t:TRANSACTION)  \n",
    "        WHERE t.TX_ID = '210049'\n",
    "        CREATE (t)<-[:HAS_ALERT]-(alert:ALERT{ALERT_ID:'10001', DESCRIPTION: 'High Value with cycle links'})\n",
    "        return alert\"\"\"\n",
    "result = graph.query(query1)"
   ]
  },
  {
   "cell_type": "code",
   "execution_count": 45,
   "id": "dcd7888b-f376-4c90-b6b9-9819c489ddd8",
   "metadata": {},
   "outputs": [
    {
     "data": {
      "text/plain": [
       "'10001'"
      ]
     },
     "execution_count": 45,
     "metadata": {},
     "output_type": "execute_result"
    }
   ],
   "source": [
    "df=result.to_pandas()\n",
    "d=df['alert'][0]\n",
    "d['properties']['ALERT_ID']"
   ]
  },
  {
   "cell_type": "code",
   "execution_count": 46,
   "id": "895837b0-2258-48c0-a45b-4013dd02f449",
   "metadata": {},
   "outputs": [],
   "source": [
    "assert d['properties']['ALERT_ID'] == '10001', \"Alert with id 10001 has not been created\""
   ]
  },
  {
   "cell_type": "markdown",
   "id": "5edcd50d-21d5-4c61-be3a-1b9aece6dd42",
   "metadata": {},
   "source": [
    "<b>6 : An Alert was successfully inserted into the database</b>"
   ]
  },
  {
   "cell_type": "code",
   "execution_count": 47,
   "id": "a3e1f072-8760-49fd-83b4-47e464449e09",
   "metadata": {},
   "outputs": [
    {
     "data": {
      "application/vnd.jupyter.widget-view+json": {
       "model_id": "7859fb6883a844a9bb7fd16ecd1d1af2",
       "version_major": 2,
       "version_minor": 0
      },
      "text/plain": [
       "          0/? [?op/s]"
      ]
     },
     "metadata": {},
     "output_type": "display_data"
    },
    {
     "name": "stdout",
     "output_type": "stream",
     "text": [
      "CPU times: user 199 ms, sys: 66 ms, total: 265 ms\n",
      "Wall time: 13 s\n"
     ]
    }
   ],
   "source": [
    "%%time\n",
    "query1=\"\"\"MATCH (a:ACCOUNT)-[:HAS_CUSTOMER]->(c:CUSTOMER)  \n",
    "        WHERE a.ACCOUNT_ID = '256'\n",
    "        SET c.SUSPICIOUS = 'true'\n",
    "        return c\"\"\"\n",
    "result = graph.query(query1)\n",
    "c=result.to_pandas()"
   ]
  },
  {
   "cell_type": "code",
   "execution_count": 58,
   "id": "9d686ace-e421-4f24-becf-d7a38c1c6f84",
   "metadata": {},
   "outputs": [
    {
     "data": {
      "text/plain": [
       "'true'"
      ]
     },
     "execution_count": 58,
     "metadata": {},
     "output_type": "execute_result"
    }
   ],
   "source": [
    "c['c'][0]['properties']['SUSPICIOUS']"
   ]
  },
  {
   "cell_type": "code",
   "execution_count": 59,
   "id": "95dd0984-6949-477c-b6ef-2d9566c524b4",
   "metadata": {},
   "outputs": [],
   "source": [
    "assert c['c'][0]['properties']['SUSPICIOUS'] == 'true', \"Suspicious flag for Customer 256 should be set to true\""
   ]
  },
  {
   "cell_type": "markdown",
   "id": "1202f258-cbf7-44a1-bcc3-c5259f74f1e5",
   "metadata": {},
   "source": [
    "<b>7 : Customer '256' was set as Suspicious</b>"
   ]
  },
  {
   "cell_type": "code",
   "execution_count": null,
   "id": "6ec1ff99-6094-465e-8f6d-e1648e675d1c",
   "metadata": {},
   "outputs": [],
   "source": []
  }
 ],
 "metadata": {
  "kernelspec": {
   "display_name": "Python 3 (ipykernel)",
   "language": "python",
   "name": "python3"
  },
  "language_info": {
   "codemirror_mode": {
    "name": "ipython",
    "version": 3
   },
   "file_extension": ".py",
   "mimetype": "text/x-python",
   "name": "python",
   "nbconvert_exporter": "python",
   "pygments_lexer": "ipython3",
   "version": "3.8.8"
  }
 },
 "nbformat": 4,
 "nbformat_minor": 5
}
