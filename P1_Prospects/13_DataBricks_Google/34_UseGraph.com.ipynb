{
 "cells": [
  {
   "cell_type": "markdown",
   "id": "3ab7ce90-67cf-462c-94a6-3c8c9d0754b3",
   "metadata": {},
   "source": [
    "# Setup: Connectivity"
   ]
  },
  {
   "cell_type": "code",
   "execution_count": 1,
   "id": "e87b75ba-c072-4111-8cca-4b4f394a0fce",
   "metadata": {},
   "outputs": [
    {
     "data": {
      "text/html": [],
      "text/plain": [
       "<IPython.core.display.HTML object>"
      ]
     },
     "metadata": {},
     "output_type": "display_data"
    },
    {
     "name": "stdout",
     "output_type": "stream",
     "text": [
      "My Client: <katana_enterprise.remote.sync_wrappers.Client object at 0x7fcc2fe648b0>\n",
      "My Graph:  <_Graph my_graph, Nw7M7vf4nK5uwbxBaW3jGLLjmAnJS2KDJZoUJcS3kro, 0>\n",
      "\n"
     ]
    }
   ],
   "source": [
    "\n",
    "from katana import remote\n",
    "   #\n",
    "from IPython.display import display\n",
    "from ipywidgets import Layout, Textarea, VBox\n",
    "   #\n",
    "from libraries.SupportFor34 import f_init, f_enrich\n",
    "    \n",
    "    \n",
    "my_client, my_graph = f_init()\n",
    "\n",
    "\n",
    "print(\"My Client: %s\" % (my_client))\n",
    "print(\"My Graph:  %s\" % (my_graph ))\n",
    "   #\n",
    "print()\n"
   ]
  },
  {
   "cell_type": "markdown",
   "id": "4ec1c889-3b18-44f7-adcf-b9b5eca13dd5",
   "metadata": {},
   "source": [
    "#  Step 01: Enter a new Medical Description"
   ]
  },
  {
   "cell_type": "code",
   "execution_count": 2,
   "id": "9b760cd1-9e7a-47c4-96c7-13e6f70b1acb",
   "metadata": {},
   "outputs": [
    {
     "data": {
      "application/vnd.jupyter.widget-view+json": {
       "model_id": "851049b4f81246b7845892330db5daa7",
       "version_major": 2,
       "version_minor": 0
      },
      "text/plain": [
       "Textarea(value='Odd mole on my ear', description='Enter Text: ', layout=Layout(flex='0 1 auto', height='100px'…"
      ]
     },
     "metadata": {},
     "output_type": "display_data"
    }
   ],
   "source": [
    "\n",
    "#  Create a text entry area\n",
    "#\n",
    "\n",
    "l_layout   = Layout(flex = \"0 1 auto\", height = \"100px\", min_height = \"100px\", width = \"auto\")\n",
    "l_text01   = Textarea(value=\"Odd mole on my ear\", layout = l_layout, description = \"Enter Text: \")\n",
    "   #\n",
    "l_vbox     = VBox([l_text01], layout = Layout(flex = \"1 1 auto\", width = \"auto\"))\n",
    "display(l_text01)\n"
   ]
  },
  {
   "cell_type": "code",
   "execution_count": 3,
   "id": "16658063-7b08-4f33-963b-110708e50567",
   "metadata": {},
   "outputs": [
    {
     "ename": "ValueError",
     "evalue": "entry not a 2- or 3- tuple",
     "output_type": "error",
     "traceback": [
      "\u001b[0;31m---------------------------------------------------------------------------\u001b[0m",
      "\u001b[0;31mValueError\u001b[0m                                Traceback (most recent call last)",
      "Cell \u001b[0;32mIn[3], line 4\u001b[0m\n\u001b[1;32m      1\u001b[0m \u001b[38;5;66;03m#  Enrich/decode text entry from above\u001b[39;00m\n\u001b[1;32m      2\u001b[0m \u001b[38;5;66;03m#\u001b[39;00m\n\u001b[0;32m----> 4\u001b[0m l_return, l_pvid \u001b[38;5;241m=\u001b[39m \u001b[43mf_enrich\u001b[49m\u001b[43m(\u001b[49m\u001b[43ml_text01\u001b[49m\u001b[38;5;241;43m.\u001b[39;49m\u001b[43mvalue\u001b[49m\u001b[38;5;241;43m.\u001b[39;49m\u001b[43mlower\u001b[49m\u001b[43m(\u001b[49m\u001b[43m)\u001b[49m\u001b[43m,\u001b[49m\u001b[43m \u001b[49m\u001b[43mmy_graph\u001b[49m\u001b[43m)\u001b[49m\n\u001b[1;32m      6\u001b[0m \u001b[38;5;28mprint\u001b[39m(\u001b[38;5;124m\"\u001b[39m\u001b[38;5;124mUnique Patient Vist Id: \u001b[39m\u001b[38;5;132;01m%s\u001b[39;00m\u001b[38;5;124m\"\u001b[39m \u001b[38;5;241m%\u001b[39m (l_pvid))\n\u001b[1;32m      7\u001b[0m \u001b[38;5;28mprint\u001b[39m(\u001b[38;5;124m\"\u001b[39m\u001b[38;5;124m\"\u001b[39m)\n",
      "File \u001b[0;32m~/work/My_KG_NoteBooks/P1_Prospects/13_DataBricks_Google/libraries/SupportFor34.py:360\u001b[0m, in \u001b[0;36mf_enrich\u001b[0;34m(i_arg1, i_arg2)\u001b[0m\n\u001b[1;32m    358\u001b[0m l_uniqid  \u001b[38;5;241m=\u001b[39m \u001b[38;5;124m\"\u001b[39m\u001b[38;5;124mPV-\u001b[39m\u001b[38;5;124m\"\u001b[39m \u001b[38;5;241m+\u001b[39m \u001b[38;5;28mstr\u001b[39m(l_uniqkey)\n\u001b[1;32m    359\u001b[0m    \u001b[38;5;66;03m#\u001b[39;00m\n\u001b[0;32m--> 360\u001b[0m l_df1, l_df2, l_fg3, l_df4, l_df5, l_df6, l_df7 \u001b[38;5;241m=\u001b[39m \u001b[43mf_ready_for_graph_int\u001b[49m\u001b[43m(\u001b[49m\u001b[43ml_data_asjson\u001b[49m\u001b[43m,\u001b[49m\u001b[43m \u001b[49m\u001b[43ml_uniqid\u001b[49m\u001b[43m)\u001b[49m\n\u001b[1;32m    361\u001b[0m    \u001b[38;5;66;03m#\u001b[39;00m\n\u001b[1;32m    362\u001b[0m f_insert_into_graph(i_arg2, l_df1, l_df2, l_fg3, l_df4, l_df5, l_df6, l_df7)\n",
      "File \u001b[0;32m~/work/My_KG_NoteBooks/P1_Prospects/13_DataBricks_Google/libraries/SupportFor34.py:151\u001b[0m, in \u001b[0;36mf_ready_for_graph_int\u001b[0;34m(i_arg1, i_arg2)\u001b[0m\n\u001b[1;32m    146\u001b[0m \u001b[38;5;28;01mdef\u001b[39;00m \u001b[38;5;21mf_ready_for_graph_int\u001b[39m(i_arg1, i_arg2):\n\u001b[1;32m    148\u001b[0m    \u001b[38;5;28;01mimport\u001b[39;00m \u001b[38;5;21;01mpandas\u001b[39;00m \u001b[38;5;28;01mas\u001b[39;00m \u001b[38;5;21;01mpd\u001b[39;00m\n\u001b[0;32m--> 151\u001b[0m    df_PatientVisit \u001b[38;5;241m=\u001b[39m \u001b[43mpd\u001b[49m\u001b[38;5;241;43m.\u001b[39;49m\u001b[43mDataFrame\u001b[49m\u001b[43m(\u001b[49m\n\u001b[1;32m    152\u001b[0m \u001b[43m      \u001b[49m\u001b[43m{\u001b[49m\u001b[43m \u001b[49m\u001b[38;5;124;43m\"\u001b[39;49m\u001b[38;5;124;43mid\u001b[39;49m\u001b[38;5;124;43m\"\u001b[39;49m\u001b[43m:\u001b[49m\u001b[43m \u001b[49m\u001b[43mi_arg2\u001b[49m\u001b[43m   \u001b[49m\u001b[43m,\u001b[49m\u001b[43m \u001b[49m\u001b[38;5;124;43m\"\u001b[39;49m\u001b[38;5;124;43mtranscription\u001b[39;49m\u001b[38;5;124;43m\"\u001b[39;49m\u001b[43m:\u001b[49m\u001b[43m \u001b[49m\u001b[43mi_arg1\u001b[49m\u001b[43m    \u001b[49m\u001b[43m,\u001b[49m\u001b[43m \u001b[49m\u001b[38;5;124;43m\"\u001b[39;49m\u001b[38;5;124;43mLABEL\u001b[39;49m\u001b[38;5;124;43m\"\u001b[39;49m\u001b[43m:\u001b[49m\u001b[43m \u001b[49m\u001b[38;5;124;43m\"\u001b[39;49m\u001b[38;5;124;43mPatientVisit\u001b[39;49m\u001b[38;5;124;43m\"\u001b[39;49m\u001b[43m}\u001b[49m\u001b[43m,\u001b[49m\n\u001b[1;32m    153\u001b[0m \u001b[43m      \u001b[49m\u001b[43m{\u001b[49m\u001b[43m \u001b[49m\u001b[38;5;124;43m\"\u001b[39;49m\u001b[38;5;124;43mid\u001b[39;49m\u001b[38;5;124;43m\"\u001b[39;49m\u001b[43m:\u001b[49m\u001b[43m \u001b[49m\u001b[38;5;124;43m\"\u001b[39;49m\u001b[38;5;124;43mXX-1001\u001b[39;49m\u001b[38;5;124;43m\"\u001b[39;49m\u001b[43m,\u001b[49m\u001b[43m \u001b[49m\u001b[38;5;124;43m\"\u001b[39;49m\u001b[38;5;124;43mtranscription\u001b[39;49m\u001b[38;5;124;43m\"\u001b[39;49m\u001b[43m:\u001b[49m\u001b[43m \u001b[49m\u001b[38;5;124;43m\"\u001b[39;49m\u001b[38;5;124;43mXX-1001\u001b[39;49m\u001b[38;5;124;43m\"\u001b[39;49m\u001b[43m \u001b[49m\u001b[43m,\u001b[49m\u001b[43m \u001b[49m\u001b[38;5;124;43m\"\u001b[39;49m\u001b[38;5;124;43mLABEL\u001b[39;49m\u001b[38;5;124;43m\"\u001b[39;49m\u001b[43m:\u001b[49m\u001b[43m \u001b[49m\u001b[38;5;124;43m\"\u001b[39;49m\u001b[38;5;124;43mPatientVisit\u001b[39;49m\u001b[38;5;124;43m\"\u001b[39;49m\u001b[43m}\u001b[49m\u001b[43m,\u001b[49m\n\u001b[1;32m    154\u001b[0m \u001b[43m      \u001b[49m\u001b[43m{\u001b[49m\u001b[43m \u001b[49m\u001b[38;5;124;43m\"\u001b[39;49m\u001b[38;5;124;43mid\u001b[39;49m\u001b[38;5;124;43m\"\u001b[39;49m\u001b[43m:\u001b[49m\u001b[43m \u001b[49m\u001b[38;5;124;43m\"\u001b[39;49m\u001b[38;5;124;43mXX-1002\u001b[39;49m\u001b[38;5;124;43m\"\u001b[39;49m\u001b[43m,\u001b[49m\u001b[43m \u001b[49m\u001b[38;5;124;43m\"\u001b[39;49m\u001b[38;5;124;43mtranscription\u001b[39;49m\u001b[38;5;124;43m\"\u001b[39;49m\u001b[43m:\u001b[49m\u001b[43m \u001b[49m\u001b[38;5;124;43m\"\u001b[39;49m\u001b[38;5;124;43mXX-1002\u001b[39;49m\u001b[38;5;124;43m\"\u001b[39;49m\u001b[43m \u001b[49m\u001b[43m,\u001b[49m\u001b[43m \u001b[49m\u001b[38;5;124;43m\"\u001b[39;49m\u001b[38;5;124;43mLABEL\u001b[39;49m\u001b[38;5;124;43m\"\u001b[39;49m\u001b[43m:\u001b[49m\u001b[43m \u001b[49m\u001b[38;5;124;43m\"\u001b[39;49m\u001b[38;5;124;43mPatientVisit\u001b[39;49m\u001b[38;5;124;43m\"\u001b[39;49m\u001b[43m}\u001b[49m\u001b[43m,\u001b[49m\n\u001b[1;32m    155\u001b[0m \u001b[43m      \u001b[49m\u001b[43m{\u001b[49m\u001b[43m \u001b[49m\u001b[38;5;124;43m\"\u001b[39;49m\u001b[38;5;124;43mid\u001b[39;49m\u001b[38;5;124;43m\"\u001b[39;49m\u001b[43m:\u001b[49m\u001b[43m \u001b[49m\u001b[38;5;124;43m\"\u001b[39;49m\u001b[38;5;124;43mXX-1003\u001b[39;49m\u001b[38;5;124;43m\"\u001b[39;49m\u001b[43m,\u001b[49m\u001b[43m \u001b[49m\u001b[38;5;124;43m\"\u001b[39;49m\u001b[38;5;124;43mtranscription\u001b[39;49m\u001b[38;5;124;43m\"\u001b[39;49m\u001b[43m:\u001b[49m\u001b[43m \u001b[49m\u001b[38;5;124;43m\"\u001b[39;49m\u001b[38;5;124;43mXX-1003\u001b[39;49m\u001b[38;5;124;43m\"\u001b[39;49m\u001b[43m \u001b[49m\u001b[43m,\u001b[49m\u001b[43m \u001b[49m\u001b[38;5;124;43m\"\u001b[39;49m\u001b[38;5;124;43mLABEL\u001b[39;49m\u001b[38;5;124;43m\"\u001b[39;49m\u001b[43m:\u001b[49m\u001b[43m \u001b[49m\u001b[38;5;124;43m\"\u001b[39;49m\u001b[38;5;124;43mPatientVisit\u001b[39;49m\u001b[38;5;124;43m\"\u001b[39;49m\u001b[43m}\u001b[49m\u001b[43m,\u001b[49m\n\u001b[1;32m    156\u001b[0m \u001b[43m      \u001b[49m\u001b[43m)\u001b[49m\n\u001b[1;32m    157\u001b[0m    l_UmlsEntityNodes             \u001b[38;5;241m=\u001b[39m [\n\u001b[1;32m    158\u001b[0m       {\u001b[38;5;124m\"\u001b[39m\u001b[38;5;124mid\u001b[39m\u001b[38;5;124m\"\u001b[39m: \u001b[38;5;124m\"\u001b[39m\u001b[38;5;124mXX-1001\u001b[39m\u001b[38;5;124m\"\u001b[39m, \u001b[38;5;124m\"\u001b[39m\u001b[38;5;124mentity_id\u001b[39m\u001b[38;5;124m\"\u001b[39m: \u001b[38;5;124m\"\u001b[39m\u001b[38;5;124mXX-1001\u001b[39m\u001b[38;5;124m\"\u001b[39m, \u001b[38;5;124m\"\u001b[39m\u001b[38;5;124mLABEL\u001b[39m\u001b[38;5;124m\"\u001b[39m: \u001b[38;5;124m\"\u001b[39m\u001b[38;5;124mUmlsEntity\u001b[39m\u001b[38;5;124m\"\u001b[39m},\n\u001b[1;32m    159\u001b[0m       {\u001b[38;5;124m\"\u001b[39m\u001b[38;5;124mid\u001b[39m\u001b[38;5;124m\"\u001b[39m: \u001b[38;5;124m\"\u001b[39m\u001b[38;5;124mXX-1002\u001b[39m\u001b[38;5;124m\"\u001b[39m, \u001b[38;5;124m\"\u001b[39m\u001b[38;5;124mentity_id\u001b[39m\u001b[38;5;124m\"\u001b[39m: \u001b[38;5;124m\"\u001b[39m\u001b[38;5;124mXX-1002\u001b[39m\u001b[38;5;124m\"\u001b[39m, \u001b[38;5;124m\"\u001b[39m\u001b[38;5;124mLABEL\u001b[39m\u001b[38;5;124m\"\u001b[39m: \u001b[38;5;124m\"\u001b[39m\u001b[38;5;124mUmlsEntity\u001b[39m\u001b[38;5;124m\"\u001b[39m},\n\u001b[1;32m    160\u001b[0m       {\u001b[38;5;124m\"\u001b[39m\u001b[38;5;124mid\u001b[39m\u001b[38;5;124m\"\u001b[39m: \u001b[38;5;124m\"\u001b[39m\u001b[38;5;124mXX-1003\u001b[39m\u001b[38;5;124m\"\u001b[39m, \u001b[38;5;124m\"\u001b[39m\u001b[38;5;124mentity_id\u001b[39m\u001b[38;5;124m\"\u001b[39m: \u001b[38;5;124m\"\u001b[39m\u001b[38;5;124mXX-1003\u001b[39m\u001b[38;5;124m\"\u001b[39m, \u001b[38;5;124m\"\u001b[39m\u001b[38;5;124mLABEL\u001b[39m\u001b[38;5;124m\"\u001b[39m: \u001b[38;5;124m\"\u001b[39m\u001b[38;5;124mUmlsEntity\u001b[39m\u001b[38;5;124m\"\u001b[39m},\n\u001b[1;32m    161\u001b[0m       {\u001b[38;5;124m\"\u001b[39m\u001b[38;5;124mid\u001b[39m\u001b[38;5;124m\"\u001b[39m: \u001b[38;5;124m\"\u001b[39m\u001b[38;5;124mXX-1004\u001b[39m\u001b[38;5;124m\"\u001b[39m, \u001b[38;5;124m\"\u001b[39m\u001b[38;5;124mentity_id\u001b[39m\u001b[38;5;124m\"\u001b[39m: \u001b[38;5;124m\"\u001b[39m\u001b[38;5;124mXX-1004\u001b[39m\u001b[38;5;124m\"\u001b[39m, \u001b[38;5;124m\"\u001b[39m\u001b[38;5;124mLABEL\u001b[39m\u001b[38;5;124m\"\u001b[39m: \u001b[38;5;124m\"\u001b[39m\u001b[38;5;124mUmlsEntity\u001b[39m\u001b[38;5;124m\"\u001b[39m},\n\u001b[1;32m    162\u001b[0m       ]\n\u001b[1;32m    163\u001b[0m    l_UmlsVocabularyNodes         \u001b[38;5;241m=\u001b[39m [\n\u001b[1;32m    164\u001b[0m       {\u001b[38;5;124m\"\u001b[39m\u001b[38;5;124mid\u001b[39m\u001b[38;5;124m\"\u001b[39m: \u001b[38;5;124m\"\u001b[39m\u001b[38;5;124mXX-1001\u001b[39m\u001b[38;5;124m\"\u001b[39m, \u001b[38;5;124m\"\u001b[39m\u001b[38;5;124mLABEL\u001b[39m\u001b[38;5;124m\"\u001b[39m: \u001b[38;5;124m\"\u001b[39m\u001b[38;5;124mUmlsVocabulary\u001b[39m\u001b[38;5;124m\"\u001b[39m},\n\u001b[1;32m    165\u001b[0m       {\u001b[38;5;124m\"\u001b[39m\u001b[38;5;124mid\u001b[39m\u001b[38;5;124m\"\u001b[39m: \u001b[38;5;124m\"\u001b[39m\u001b[38;5;124mXX-1002\u001b[39m\u001b[38;5;124m\"\u001b[39m, \u001b[38;5;124m\"\u001b[39m\u001b[38;5;124mLABEL\u001b[39m\u001b[38;5;124m\"\u001b[39m: \u001b[38;5;124m\"\u001b[39m\u001b[38;5;124mUmlsVocabulary\u001b[39m\u001b[38;5;124m\"\u001b[39m},\n\u001b[1;32m    166\u001b[0m       {\u001b[38;5;124m\"\u001b[39m\u001b[38;5;124mid\u001b[39m\u001b[38;5;124m\"\u001b[39m: \u001b[38;5;124m\"\u001b[39m\u001b[38;5;124mXX-1003\u001b[39m\u001b[38;5;124m\"\u001b[39m, \u001b[38;5;124m\"\u001b[39m\u001b[38;5;124mLABEL\u001b[39m\u001b[38;5;124m\"\u001b[39m: \u001b[38;5;124m\"\u001b[39m\u001b[38;5;124mUmlsVocabulary\u001b[39m\u001b[38;5;124m\"\u001b[39m},\n\u001b[1;32m    167\u001b[0m       {\u001b[38;5;124m\"\u001b[39m\u001b[38;5;124mid\u001b[39m\u001b[38;5;124m\"\u001b[39m: \u001b[38;5;124m\"\u001b[39m\u001b[38;5;124mXX-1004\u001b[39m\u001b[38;5;124m\"\u001b[39m, \u001b[38;5;124m\"\u001b[39m\u001b[38;5;124mLABEL\u001b[39m\u001b[38;5;124m\"\u001b[39m: \u001b[38;5;124m\"\u001b[39m\u001b[38;5;124mUmlsVocabulary\u001b[39m\u001b[38;5;124m\"\u001b[39m},\n\u001b[1;32m    168\u001b[0m       ]\n",
      "File \u001b[0;32m/opt/conda/lib/python3.8/site-packages/pandas/core/frame.py:592\u001b[0m, in \u001b[0;36mDataFrame.__init__\u001b[0;34m(self, data, index, columns, dtype, copy)\u001b[0m\n\u001b[1;32m    590\u001b[0m     data \u001b[38;5;241m=\u001b[39m {}\n\u001b[1;32m    591\u001b[0m \u001b[38;5;28;01mif\u001b[39;00m dtype \u001b[38;5;129;01mis\u001b[39;00m \u001b[38;5;129;01mnot\u001b[39;00m \u001b[38;5;28;01mNone\u001b[39;00m:\n\u001b[0;32m--> 592\u001b[0m     dtype \u001b[38;5;241m=\u001b[39m \u001b[38;5;28;43mself\u001b[39;49m\u001b[38;5;241;43m.\u001b[39;49m\u001b[43m_validate_dtype\u001b[49m\u001b[43m(\u001b[49m\u001b[43mdtype\u001b[49m\u001b[43m)\u001b[49m\n\u001b[1;32m    594\u001b[0m \u001b[38;5;28;01mif\u001b[39;00m \u001b[38;5;28misinstance\u001b[39m(data, DataFrame):\n\u001b[1;32m    595\u001b[0m     data \u001b[38;5;241m=\u001b[39m data\u001b[38;5;241m.\u001b[39m_mgr\n",
      "File \u001b[0;32m/opt/conda/lib/python3.8/site-packages/pandas/core/generic.py:442\u001b[0m, in \u001b[0;36mNDFrame._validate_dtype\u001b[0;34m(cls, dtype)\u001b[0m\n\u001b[1;32m    440\u001b[0m \u001b[38;5;124;03m\"\"\"validate the passed dtype\"\"\"\u001b[39;00m\n\u001b[1;32m    441\u001b[0m \u001b[38;5;28;01mif\u001b[39;00m dtype \u001b[38;5;129;01mis\u001b[39;00m \u001b[38;5;129;01mnot\u001b[39;00m \u001b[38;5;28;01mNone\u001b[39;00m:\n\u001b[0;32m--> 442\u001b[0m     dtype \u001b[38;5;241m=\u001b[39m \u001b[43mpandas_dtype\u001b[49m\u001b[43m(\u001b[49m\u001b[43mdtype\u001b[49m\u001b[43m)\u001b[49m\n\u001b[1;32m    444\u001b[0m     \u001b[38;5;66;03m# a compound dtype\u001b[39;00m\n\u001b[1;32m    445\u001b[0m     \u001b[38;5;28;01mif\u001b[39;00m dtype\u001b[38;5;241m.\u001b[39mkind \u001b[38;5;241m==\u001b[39m \u001b[38;5;124m\"\u001b[39m\u001b[38;5;124mV\u001b[39m\u001b[38;5;124m\"\u001b[39m:\n",
      "File \u001b[0;32m/opt/conda/lib/python3.8/site-packages/pandas/core/dtypes/common.py:1776\u001b[0m, in \u001b[0;36mpandas_dtype\u001b[0;34m(dtype)\u001b[0m\n\u001b[1;32m   1773\u001b[0m \u001b[38;5;66;03m# try a numpy dtype\u001b[39;00m\n\u001b[1;32m   1774\u001b[0m \u001b[38;5;66;03m# raise a consistent TypeError if failed\u001b[39;00m\n\u001b[1;32m   1775\u001b[0m \u001b[38;5;28;01mtry\u001b[39;00m:\n\u001b[0;32m-> 1776\u001b[0m     npdtype \u001b[38;5;241m=\u001b[39m \u001b[43mnp\u001b[49m\u001b[38;5;241;43m.\u001b[39;49m\u001b[43mdtype\u001b[49m\u001b[43m(\u001b[49m\u001b[43mdtype\u001b[49m\u001b[43m)\u001b[49m\n\u001b[1;32m   1777\u001b[0m \u001b[38;5;28;01mexcept\u001b[39;00m \u001b[38;5;167;01mSyntaxError\u001b[39;00m \u001b[38;5;28;01mas\u001b[39;00m err:\n\u001b[1;32m   1778\u001b[0m     \u001b[38;5;66;03m# np.dtype uses `eval` which can raise SyntaxError\u001b[39;00m\n\u001b[1;32m   1779\u001b[0m     \u001b[38;5;28;01mraise\u001b[39;00m \u001b[38;5;167;01mTypeError\u001b[39;00m(\u001b[38;5;124mf\u001b[39m\u001b[38;5;124m\"\u001b[39m\u001b[38;5;124mdata type \u001b[39m\u001b[38;5;124m'\u001b[39m\u001b[38;5;132;01m{\u001b[39;00mdtype\u001b[38;5;132;01m}\u001b[39;00m\u001b[38;5;124m'\u001b[39m\u001b[38;5;124m not understood\u001b[39m\u001b[38;5;124m\"\u001b[39m) \u001b[38;5;28;01mfrom\u001b[39;00m \u001b[38;5;21;01merr\u001b[39;00m\n",
      "File \u001b[0;32m/opt/conda/lib/python3.8/site-packages/numpy/core/_internal.py:62\u001b[0m, in \u001b[0;36m_usefields\u001b[0;34m(adict, align)\u001b[0m\n\u001b[1;32m     60\u001b[0m     names \u001b[38;5;241m=\u001b[39m \u001b[38;5;28;01mNone\u001b[39;00m\n\u001b[1;32m     61\u001b[0m \u001b[38;5;28;01mif\u001b[39;00m names \u001b[38;5;129;01mis\u001b[39;00m \u001b[38;5;28;01mNone\u001b[39;00m:\n\u001b[0;32m---> 62\u001b[0m     names, formats, offsets, titles \u001b[38;5;241m=\u001b[39m \u001b[43m_makenames_list\u001b[49m\u001b[43m(\u001b[49m\u001b[43madict\u001b[49m\u001b[43m,\u001b[49m\u001b[43m \u001b[49m\u001b[43malign\u001b[49m\u001b[43m)\u001b[49m\n\u001b[1;32m     63\u001b[0m \u001b[38;5;28;01melse\u001b[39;00m:\n\u001b[1;32m     64\u001b[0m     formats \u001b[38;5;241m=\u001b[39m []\n",
      "File \u001b[0;32m/opt/conda/lib/python3.8/site-packages/numpy/core/_internal.py:32\u001b[0m, in \u001b[0;36m_makenames_list\u001b[0;34m(adict, align)\u001b[0m\n\u001b[1;32m     30\u001b[0m n \u001b[38;5;241m=\u001b[39m \u001b[38;5;28mlen\u001b[39m(obj)\n\u001b[1;32m     31\u001b[0m \u001b[38;5;28;01mif\u001b[39;00m \u001b[38;5;129;01mnot\u001b[39;00m \u001b[38;5;28misinstance\u001b[39m(obj, \u001b[38;5;28mtuple\u001b[39m) \u001b[38;5;129;01mor\u001b[39;00m n \u001b[38;5;129;01mnot\u001b[39;00m \u001b[38;5;129;01min\u001b[39;00m (\u001b[38;5;241m2\u001b[39m, \u001b[38;5;241m3\u001b[39m):\n\u001b[0;32m---> 32\u001b[0m     \u001b[38;5;28;01mraise\u001b[39;00m \u001b[38;5;167;01mValueError\u001b[39;00m(\u001b[38;5;124m\"\u001b[39m\u001b[38;5;124mentry not a 2- or 3- tuple\u001b[39m\u001b[38;5;124m\"\u001b[39m)\n\u001b[1;32m     33\u001b[0m \u001b[38;5;28;01mif\u001b[39;00m n \u001b[38;5;241m>\u001b[39m \u001b[38;5;241m2\u001b[39m \u001b[38;5;129;01mand\u001b[39;00m obj[\u001b[38;5;241m2\u001b[39m] \u001b[38;5;241m==\u001b[39m fname:\n\u001b[1;32m     34\u001b[0m     \u001b[38;5;28;01mcontinue\u001b[39;00m\n",
      "\u001b[0;31mValueError\u001b[0m: entry not a 2- or 3- tuple"
     ]
    }
   ],
   "source": [
    "\n",
    "#  Enrich/decode text entry from above\n",
    "#\n",
    "\n",
    "l_return, l_pvid = f_enrich(l_text01.value.lower(), my_graph)\n",
    "\n",
    "print(\"Unique Patient Vist Id: %s\" % (l_pvid))\n",
    "print(\"\")\n",
    "print(\"Medical Description encoding:\")\n",
    "print(\"\")\n",
    "display(l_return)\n"
   ]
  },
  {
   "cell_type": "markdown",
   "id": "6d7f32ad-d6c9-4c95-9005-73239071c255",
   "metadata": {},
   "source": [
    "# Step 02:  Examine the Graph"
   ]
  },
  {
   "cell_type": "code",
   "execution_count": null,
   "id": "73085108-3d24-4d66-bf9e-f7c98360a54e",
   "metadata": {},
   "outputs": [],
   "source": [
    "\n",
    "#  Produce a visual graph\n",
    "\n",
    "from katana_visualization_widget import GraphVisOptions, NodeVisOption, EdgeVisOption, ANY\n",
    "\n",
    "l_options = GraphVisOptions(\n",
    "   node_options = [\n",
    "      NodeVisOption(\"PatientVisit\",     label=\"sample_name\"      ),\n",
    "      NodeVisOption(\"UmlsEntity\",       label=\"id\"               ),\n",
    "      NodeVisOption(\"UmlsVocabulary\",   label=\"id\"               ),\n",
    "   ],\n",
    "   #  edge_options = [\n",
    "   #     EdgeVisOption([\"VISIT_CONTAINS\"], label=\"start_id\"),\n",
    "   #     EdgeVisOption([\"ALSO_CODED_AS\" ], label=\"start_id\"),\n",
    "   #  ]\n",
    "   )\n",
    "    \n",
    "    \n",
    "l_query  = \"\"\"\n",
    "\n",
    "   MATCH (pv: PatientVisit) - [vc: VISIT_CONTAINS] -> (ue: UmlsEntity) - [aca: ALSO_CODED_AS] -> (uv: UmlsVocabulary),\n",
    "   WHERE\n",
    "      (pv.id = '{0}')\n",
    "   RETURN pv, vc, ue, ms, ios\n",
    "   \n",
    "   \"\"\".format(l_pvid)\n",
    "\n",
    "l_result = my_graph.query(l_query, contextualize=True)\n",
    "    \n",
    "l_result.view(graph_vis_options = l_options)\n"
   ]
  },
  {
   "cell_type": "code",
   "execution_count": null,
   "id": "6f708dd0-9620-459d-b5e5-d5a562768683",
   "metadata": {},
   "outputs": [],
   "source": []
  },
  {
   "cell_type": "code",
   "execution_count": null,
   "id": "92024417-6824-4c22-b554-b09866184afa",
   "metadata": {},
   "outputs": [],
   "source": []
  },
  {
   "cell_type": "code",
   "execution_count": null,
   "id": "63c91100-2973-4f3f-9f3e-a28b53a1da20",
   "metadata": {},
   "outputs": [],
   "source": [
    "\n",
    "#  Sample data from above,\n",
    "#\n",
    "#     200\n",
    "#     \n",
    "#     {\n",
    "#        \"entityMentions\": [\n",
    "#           {\n",
    "#              \"mentionId\": \"1\",\n",
    "#              \"type\": \"MEDICINE\",\n",
    "#              \"text\": {\n",
    "#                 \"content\": \"Insulin regimen\",\n",
    "#                 \"beginOffset\": 0\n",
    "#              },\n",
    "#              \"linkedEntities\": [\n",
    "#                 {\n",
    "#                    \"entityId\": \"UMLS/C0021641\"\n",
    "#                 },\n",
    "#                 {\n",
    "#                    \"entityId\": \"UMLS/C0795635\"\n",
    "#                 },\n",
    "#                 {\n",
    "#                    \"entityId\": \"UMLS/C1533581\"\n",
    "#                 },\n",
    "#                 {\n",
    "#                    \"entityId\": \"UMLS/C3537244\"\n",
    "#                 },\n",
    "#                 {\n",
    "#                    \"entityId\": \"UMLS/C3714501\"\n",
    "#                 }\n",
    "#              ],\n",
    "#              \"temporalAssessment\": {\n",
    "#                 \"value\": \"CURRENT\",\n",
    "#                 \"confidence\": 0.8573660850524902\n",
    "#              },\n",
    "#              \"certaintyAssessment\": {\n",
    "#                 \"value\": \"LIKELY\",\n",
    "#                 \"confidence\": 0.9751282930374146\n",
    "#              },\n",
    "#              \"subject\": {\n",
    "#                 \"value\": \"PATIENT\",\n",
    "#                 \"confidence\": 0.9995787739753723\n",
    "#              },\n",
    "#              \"confidence\": 0.6379408836364746\n",
    "#           },\n",
    "#           {\n",
    "#              \"mentionId\": \"2\",\n",
    "#              \"type\": \"MED_DOSE\",\n",
    "#              \"text\": {\n",
    "#                 \"content\": \"5 units\",\n",
    "#                 \"beginOffset\": 22\n",
    "#              },\n",
    "#              \"confidence\": 0.7443782091140747\n",
    "#           },\n",
    "#           {\n",
    "#              \"mentionId\": \"3\",\n",
    "#              \"type\": \"MED_ROUTE\",\n",
    "#              \"text\": {\n",
    "#                 \"content\": \"IV\",\n",
    "#                 \"beginOffset\": 30\n",
    "#              },\n",
    "#              \"linkedEntities\": [\n",
    "#                 {\n",
    "#                    \"entityId\": \"UMLS/C0348016\"\n",
    "#                 }\n",
    "#              ],\n",
    "#              \"confidence\": 0.779011607170105\n",
    "#           }\n",
    "#        ],\n",
    "#        \"entities\": [\n",
    "#           {\n",
    "#              \"entityId\": \"UMLS/C0021641\",\n",
    "#              \"preferredTerm\": \"Insulin\",\n",
    "#              \"vocabularyCodes\": [\n",
    "#                 \"FMA/83365\",\n",
    "#                 \"LNC/LA15805-7\",\n",
    "#                 \"LNC/LP14676-8\",\n",
    "#                 \"LNC/LP16325-0\",\n",
    "#                 \"LNC/LP32542-0\",\n",
    "#                 \"LNC/LP70329-5\",\n",
    "#                 \"LNC/MTHU002108\",\n",
    "#                 \"LNC/MTHU019392\",\n",
    "#                 \"MSH/D007328\",\n",
    "#                 \"MTH/NOCODE\"\n",
    "#              ]\n",
    "#           },\n",
    "#           {\n",
    "#              \"entityId\": \"UMLS/C0348016\",\n",
    "#              \"preferredTerm\": \"Intravenous\",\n",
    "#              \"vocabularyCodes\": [\n",
    "#                 \"LNC/LA9437-0\",\n",
    "#                 \"LNC/LP32453-0\",\n",
    "#                 \"MTH/NOCODE\",\n",
    "#                 \"NCI/C13346\"\n",
    "#              ]\n",
    "#           },\n",
    "#           {\n",
    "#              \"entityId\": \"UMLS/C0795635\",\n",
    "#              \"preferredTerm\": \"insulin, regular, human\",\n",
    "#              \"vocabularyCodes\": [\n",
    "#                 \"LNC/LP17001-6\",\n",
    "#                 \"MSH/D061386\",\n",
    "#                 \"MTH/NOCODE\",\n",
    "#                 \"NCI/C29125\",\n",
    "#                 \"RXNORM/253182\",\n",
    "#                 \"VANDF/4017559\",\n",
    "#                 \"VANDF/4017569\",\n",
    "#                 \"VANDF/4019786\"\n",
    "#              ]\n",
    "#           },\n",
    "#           {\n",
    "#              \"entityId\": \"UMLS/C1533581\",\n",
    "#              \"preferredTerm\": \"Therapeutic Insulin\",\n",
    "#              \"vocabularyCodes\": [\n",
    "#                 \"MTH/NOCODE\",\n",
    "#                 \"NCI/C581\"\n",
    "#              ]\n",
    "#           },\n",
    "#           {\n",
    "#              \"entityId\": \"UMLS/C3537244\",\n",
    "#              \"preferredTerm\": \"Insulins\",\n",
    "#              \"vocabularyCodes\": [\n",
    "#                 \"MSH/D061385\",\n",
    "#                 \"MTH/NOCODE\"\n",
    "#              ]\n",
    "#           },\n",
    "#           {\n",
    "#              \"entityId\": \"UMLS/C3714501\",\n",
    "#              \"preferredTerm\": \"Insulin Drug Class\",\n",
    "#              \"vocabularyCodes\": [\n",
    "#                 \"MTH/NOCODE\",\n",
    "#                 \"VANDF/4021631\"\n",
    "#              ]\n",
    "#           }\n",
    "#        ],\n",
    "#        \"relationships\": [\n",
    "#           {\n",
    "#              \"subjectId\": \"1\",\n",
    "#              \"objectId\": \"2\",\n",
    "#              \"confidence\": 0.9996469616889954\n",
    "#           },\n",
    "#           {\n",
    "#              \"subjectId\": \"1\",\n",
    "#              \"objectId\": \"3\",\n",
    "#              \"confidence\": 0.9995671510696411\n",
    "#           }\n",
    "#        ]\n",
    "#     }\n"
   ]
  },
  {
   "cell_type": "code",
   "execution_count": null,
   "id": "d033566d-939b-42d4-a930-565894e6c293",
   "metadata": {},
   "outputs": [],
   "source": []
  },
  {
   "cell_type": "code",
   "execution_count": null,
   "id": "d69cd6f3-c52c-434f-a74a-ee489796d2aa",
   "metadata": {},
   "outputs": [],
   "source": []
  }
 ],
 "metadata": {
  "kernelspec": {
   "display_name": "Python 3 (ipykernel)",
   "language": "python",
   "name": "python3"
  },
  "language_info": {
   "codemirror_mode": {
    "name": "ipython",
    "version": 3
   },
   "file_extension": ".py",
   "mimetype": "text/x-python",
   "name": "python",
   "nbconvert_exporter": "python",
   "pygments_lexer": "ipython3",
   "version": "3.8.15"
  }
 },
 "nbformat": 4,
 "nbformat_minor": 5
}
