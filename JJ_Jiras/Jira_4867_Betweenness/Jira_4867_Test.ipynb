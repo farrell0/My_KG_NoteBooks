{
 "cells": [
  {
   "cell_type": "code",
   "execution_count": 1,
   "id": "6badeeca-ab5c-4a50-be3e-8be25cc7ee81",
   "metadata": {},
   "outputs": [
    {
     "name": "stdout",
     "output_type": "stream",
     "text": [
      "--\n"
     ]
    }
   ],
   "source": [
    "\n",
    "from tabulate import tabulate\n",
    "import pandas as pd\n",
    "   #\n",
    "pd.set_option(\"display.width\", 480)\n",
    "\n",
    "print(\"--\")\n"
   ]
  },
  {
   "cell_type": "code",
   "execution_count": 2,
   "id": "55e90465-e651-45c0-94b2-1ce2cde47977",
   "metadata": {},
   "outputs": [
    {
     "name": "stdout",
     "output_type": "stream",
     "text": [
      "<katana_enterprise.remote.sync_wrappers.Client object at 0x7efc2872f3a0>\n"
     ]
    }
   ],
   "source": [
    "\n",
    "from katana import remote\n",
    "from katana.remote import analytics\n",
    "\n",
    "my_client = remote.Client()\n",
    "\n",
    "print(my_client)\n"
   ]
  },
  {
   "cell_type": "code",
   "execution_count": 3,
   "id": "04b19ed9-0238-4a6f-afd0-fa11a3b0328b",
   "metadata": {},
   "outputs": [
    {
     "name": "stdout",
     "output_type": "stream",
     "text": [
      "--\n"
     ]
    }
   ],
   "source": [
    "NUM_PARTITIONS  = 3\n",
    "   #\n",
    "DB_NAME         = \"my_db\"\n",
    "GRAPH_NAME      = \"my_graph\"\n",
    "\n",
    "\n",
    "l_cntr = 20\n",
    "\n",
    "\n",
    "print(\"--\")\n"
   ]
  },
  {
   "cell_type": "code",
   "execution_count": 4,
   "id": "60449360-363a-48ae-bd55-9527b880e3e5",
   "metadata": {},
   "outputs": [
    {
     "name": "stdout",
     "output_type": "stream",
     "text": [
      "<_Graph my_graph, 2LXi8ZhtkJHsZ7D8jrZBh4NcRvPuTP2CXvkHaah7Gw2i, 2>\n"
     ]
    }
   ],
   "source": [
    "#  CONNECT TO GRAPH\n",
    "\n",
    "for l_graph in my_client.get_database(name=DB_NAME).graphs_in_database():\n",
    "   if (l_graph.name == GRAPH_NAME):\n",
    "      my_graph=my_client.get_database(name=DB_NAME).get_graph_by_id(id=l_graph.graph_id)\n",
    "         #\n",
    "      break\n",
    "\n",
    "print(my_graph)"
   ]
  },
  {
   "cell_type": "code",
   "execution_count": null,
   "id": "f7d7a993-0544-4474-87be-f903d12154a3",
   "metadata": {},
   "outputs": [],
   "source": [
    "######################################################"
   ]
  },
  {
   "cell_type": "code",
   "execution_count": 5,
   "id": "0aaccb30-5098-4fd9-a083-5363c083cb6e",
   "metadata": {},
   "outputs": [
    {
     "data": {
      "application/vnd.jupyter.widget-view+json": {
       "model_id": "dbcfed0f9c464f1890bfd8976da91880",
       "version_major": 2,
       "version_minor": 0
      },
      "text/plain": [
       "          0/? [?op/s]"
      ]
     },
     "metadata": {},
     "output_type": "display_data"
    },
    {
     "data": {
      "application/vnd.jupyter.widget-view+json": {
       "model_id": "e44ab7733ebd4fe5852c6a67683c8a7b",
       "version_major": 2,
       "version_minor": 0
      },
      "text/plain": [
       "          0/? [?op/s]"
      ]
     },
     "metadata": {},
     "output_type": "display_data"
    }
   ],
   "source": [
    "\n",
    "#  graph.project() is used to create a homogenous group, from a heterogeneous one,\n",
    "#  necessary to support some analytics\n",
    "#\n",
    "#  Here we'll add stuff to the graph to make it heterogeneous.\n",
    "\n",
    "\n",
    "l_query = \"\"\"\n",
    "   CREATE ( n: Restaurant { restaurant_code: 'PAP' } )               //  Notice single curly braces\n",
    "   SET n.restaurant_name = 'Pappadeauxs Seafood Kitchen' \n",
    "   \"\"\"\n",
    "      #\n",
    "display(l_result1 = my_graph.query(l_query))\n",
    "\n",
    "l_query = \"\"\"\n",
    "   MATCH\n",
    "      (n: Airport   ),\n",
    "      (m: Restaurant)\n",
    "   WHERE n.airport_code     = 'SJC'\n",
    "   AND   m.restaurant_code  = 'PAP'\n",
    "   CREATE (n) -[r: ATTRACTION { DRIVABLE: 'Yes' }]-> (m)\n",
    "   \"\"\"\n",
    "      #\n",
    "display(l_result2 = my_graph.query(l_query))\n"
   ]
  },
  {
   "cell_type": "code",
   "execution_count": 6,
   "id": "668b4983-da93-44a8-99ac-7b3ffcf1998c",
   "metadata": {},
   "outputs": [
    {
     "data": {
      "application/vnd.jupyter.widget-view+json": {
       "model_id": "79185c92a4c24349a3cba0fc8b0c4e8f",
       "version_major": 2,
       "version_minor": 0
      },
      "text/plain": [
       "          0/? [?op/s]"
      ]
     },
     "metadata": {},
     "output_type": "display_data"
    },
    {
     "name": "stdout",
     "output_type": "stream",
     "text": [
      "+----+-----------------+----------------+-----------+------------------+------------------+----------+---------------------+-----------------------------+\n",
      "|    |   n.internal_id | n.labels       | n.LABEL   | n.airport_code   | n.airport_name   | n.type   | n.restaurant_code   | n.restaurant_name           |\n",
      "|----+-----------------+----------------+-----------+------------------+------------------+----------+---------------------+-----------------------------|\n",
      "|  0 |               0 | ['Airport']    | Airport   | DEN              | Denver           | node     | nan                 | nan                         |\n",
      "|  1 | 281474976710656 | ['Airport']    | Airport   | MKE              | Milwaukee        | node     | nan                 | nan                         |\n",
      "|  2 | 562949953421312 | ['Airport']    | Airport   | ORD              | Chicago O-Hare   | node     | nan                 | nan                         |\n",
      "|  3 | 562949953421314 | ['Restaurant'] | nan       | nan              | nan              | node     | PAP                 | Pappadeauxs Seafood Kitchen |\n",
      "|  4 | 562949953421313 | ['Airport']    | Airport   | SJC              | San Jose         | node     | nan                 | nan                         |\n",
      "+----+-----------------+----------------+-----------+------------------+------------------+----------+---------------------+-----------------------------+\n"
     ]
    },
    {
     "data": {
      "application/vnd.jupyter.widget-view+json": {
       "model_id": "58b80c8590b44e838bf3d309e2af4628",
       "version_major": 2,
       "version_minor": 0
      },
      "text/plain": [
       "          0/? [?op/s]"
      ]
     },
     "metadata": {},
     "output_type": "display_data"
    },
    {
     "name": "stdout",
     "output_type": "stream",
     "text": [
      "+----+-----------------+----------------+-----------------+------------+--------------+--------------+----------+-----------------+------------------+----------+--------------+\n",
      "|    |        r.end.id | r.end.labels   |   r.internal_id | r.label    |   r.DISTANCE |   r.NUM_HOPS | r.TYPE   |      r.start.id | r.start.labels   | r.type   | r.DRIVABLE   |\n",
      "|----+-----------------+----------------+-----------------+------------+--------------+--------------+----------+-----------------+------------------+----------+--------------|\n",
      "|  0 | 562949953421313 | ['Airport']    |               0 | FLIES_TO   |          948 |            1 | FLIES_TO |               0 | ['Airport']      | edge     | nan          |\n",
      "|  1 | 562949953421312 | ['Airport']    |               1 | FLIES_TO   |          886 |            1 | FLIES_TO |               0 | ['Airport']      | edge     | nan          |\n",
      "|  2 | 562949953421312 | ['Airport']    | 281474976710656 | FLIES_TO   |           66 |            1 | FLIES_TO | 281474976710656 | ['Airport']      | edge     | nan          |\n",
      "|  3 |               0 | ['Airport']    | 562949953421313 | FLIES_TO   |          886 |            1 | FLIES_TO | 562949953421312 | ['Airport']      | edge     | nan          |\n",
      "|  4 | 281474976710656 | ['Airport']    | 562949953421315 | FLIES_TO   |           66 |            1 | FLIES_TO | 562949953421312 | ['Airport']      | edge     | nan          |\n",
      "|  5 | 562949953421312 | ['Airport']    | 562949953421312 | FLIES_TO   |         1829 |            1 | FLIES_TO | 562949953421313 | ['Airport']      | edge     | nan          |\n",
      "|  6 |               0 | ['Airport']    | 562949953421314 | FLIES_TO   |          948 |            1 | FLIES_TO | 562949953421313 | ['Airport']      | edge     | nan          |\n",
      "|  7 | 562949953421314 | ['Restaurant'] | 562949953421316 | ATTRACTION |          nan |          nan | nan      | 562949953421313 | ['Airport']      | edge     | Yes          |\n",
      "+----+-----------------+----------------+-----------------+------------+--------------+--------------+----------+-----------------+------------------+----------+--------------+\n"
     ]
    }
   ],
   "source": [
    "\n",
    "l_result1 = my_graph.query(\n",
    "   \"\"\"\n",
    "   MATCH (n) \n",
    "   RETURN n\n",
    "   \"\"\" )\n",
    "print(tabulate(l_result1, headers='keys', tablefmt='psql'))\n",
    "\n",
    "l_result2 = my_graph.query(\n",
    "   \"\"\"\n",
    "   MATCH (n) - [r] -> (m)\n",
    "   RETURN r\n",
    "   \"\"\" )\n",
    "print(tabulate(l_result2, headers='keys', tablefmt='psql'))\n"
   ]
  },
  {
   "cell_type": "code",
   "execution_count": null,
   "id": "5ab9e2c2-eadf-4077-92d8-39acc7fd693a",
   "metadata": {},
   "outputs": [],
   "source": [
    "######################################################"
   ]
  },
  {
   "cell_type": "code",
   "execution_count": 7,
   "id": "b1ee00b6-5ec9-4e62-be7f-2a16f10b17e5",
   "metadata": {},
   "outputs": [
    {
     "name": "stdout",
     "output_type": "stream",
     "text": [
      "--\n"
     ]
    }
   ],
   "source": [
    "\n",
    "my_projection = my_graph.project(node_types=['Airport'], edge_types=['FLIES_TO'])\n",
    "\n",
    "print(\"--\")\n"
   ]
  },
  {
   "cell_type": "code",
   "execution_count": null,
   "id": "8970465b-47b9-4337-8e55-85fee1bf9c93",
   "metadata": {},
   "outputs": [],
   "source": [
    "\n",
    "\n",
    "l_result1 = my_projection.query(\n",
    "   \"\"\"\n",
    "   MATCH (n) \n",
    "   RETURN n\n",
    "   \"\"\" )\n",
    "print(tabulate(l_result1, headers='keys', tablefmt='psql'))\n",
    "\n",
    "l_result2 = my_projection.query(\n",
    "   \"\"\"\n",
    "   MATCH (n) - [r] -> (m)\n",
    "   RETURN r\n",
    "   \"\"\" )\n",
    "print(tabulate(l_result2, headers='keys', tablefmt='psql'))\n",
    "\n",
    "#     OperationError: HaMw4a3njMMSvgQSnd2RL7r15TaavDnSvm1JePSRUjnh-5YoXGVdvYnT1L1qB5 Projected views are not supported for query operation yet. (QueryOperation.cpp:27): not implemented: not implemented\n",
    "\n"
   ]
  },
  {
   "cell_type": "code",
   "execution_count": 8,
   "id": "ec7fd94f-0482-4b58-bf0f-99df8b7f328f",
   "metadata": {},
   "outputs": [
    {
     "data": {
      "application/vnd.jupyter.widget-view+json": {
       "model_id": "bdab1b6c681b4f20bae286aa615ca38c",
       "version_major": 2,
       "version_minor": 0
      },
      "text/plain": [
       "          0/? [?op/s]"
      ]
     },
     "metadata": {},
     "output_type": "display_data"
    },
    {
     "name": "stdout",
     "output_type": "stream",
     "text": [
      "None\n"
     ]
    }
   ],
   "source": [
    "\n",
    "#  Generate a unique prop name so we can run this over and over without edit ..\n",
    "#\n",
    "l_cntr += 1\n",
    "   #\n",
    "l_output_propname     = \"betweenness_\" + str(l_cntr).zfill(4)\n",
    "\n",
    "\n",
    "l_result = analytics.betweenness_centrality(my_projection, result_property_name=l_output_propname, num_sources=1000)\n",
    "\n",
    "print(l_result)\n",
    "\n"
   ]
  },
  {
   "cell_type": "code",
   "execution_count": 9,
   "id": "be03153a-e17d-4c84-8344-11a63cd79be9",
   "metadata": {},
   "outputs": [
    {
     "data": {
      "application/vnd.jupyter.widget-view+json": {
       "model_id": "af1c7581507048b09659399606749155",
       "version_major": 2,
       "version_minor": 0
      },
      "text/plain": [
       "          0/? [?op/s]"
      ]
     },
     "metadata": {},
     "output_type": "display_data"
    },
    {
     "name": "stdout",
     "output_type": "stream",
     "text": [
      "+----+-----------------+----------------+-----------+------------------+------------------+----------------------+----------+---------------------+-----------------------------+\n",
      "|    |   n.internal_id | n.labels       | n.LABEL   | n.airport_code   | n.airport_name   |   n.betweenness_0021 | n.type   | n.restaurant_code   | n.restaurant_name           |\n",
      "|----+-----------------+----------------+-----------+------------------+------------------+----------------------+----------+---------------------+-----------------------------|\n",
      "|  0 |               0 | ['Airport']    | Airport   | DEN              | Denver           |                    2 | node     | nan                 | nan                         |\n",
      "|  1 | 281474976710656 | ['Airport']    | Airport   | MKE              | Milwaukee        |                    0 | node     | nan                 | nan                         |\n",
      "|  2 | 562949953421312 | ['Airport']    | Airport   | ORD              | Chicago O-Hare   |                    4 | node     | nan                 | nan                         |\n",
      "|  3 | 562949953421314 | ['Restaurant'] | nan       | nan              | nan              |                  nan | node     | PAP                 | Pappadeauxs Seafood Kitchen |\n",
      "|  4 | 562949953421313 | ['Airport']    | Airport   | SJC              | San Jose         |                    0 | node     | nan                 | nan                         |\n",
      "+----+-----------------+----------------+-----------+------------------+------------------+----------------------+----------+---------------------+-----------------------------+\n"
     ]
    },
    {
     "data": {
      "application/vnd.jupyter.widget-view+json": {
       "model_id": "b1a8d541725e41389a4404008abc05d6",
       "version_major": 2,
       "version_minor": 0
      },
      "text/plain": [
       "          0/? [?op/s]"
      ]
     },
     "metadata": {},
     "output_type": "display_data"
    },
    {
     "name": "stdout",
     "output_type": "stream",
     "text": [
      "+----+-----------------+----------------+-----------------+------------+--------------+--------------+----------+-----------------+------------------+----------+--------------+\n",
      "|    |        r.end.id | r.end.labels   |   r.internal_id | r.label    |   r.DISTANCE |   r.NUM_HOPS | r.TYPE   |      r.start.id | r.start.labels   | r.type   | r.DRIVABLE   |\n",
      "|----+-----------------+----------------+-----------------+------------+--------------+--------------+----------+-----------------+------------------+----------+--------------|\n",
      "|  0 | 562949953421313 | ['Airport']    |               0 | FLIES_TO   |          948 |            1 | FLIES_TO |               0 | ['Airport']      | edge     | nan          |\n",
      "|  1 | 562949953421312 | ['Airport']    |               1 | FLIES_TO   |          886 |            1 | FLIES_TO |               0 | ['Airport']      | edge     | nan          |\n",
      "|  2 | 562949953421312 | ['Airport']    | 281474976710656 | FLIES_TO   |           66 |            1 | FLIES_TO | 281474976710656 | ['Airport']      | edge     | nan          |\n",
      "|  3 | 562949953421312 | ['Airport']    | 562949953421312 | FLIES_TO   |         1829 |            1 | FLIES_TO | 562949953421313 | ['Airport']      | edge     | nan          |\n",
      "|  4 |               0 | ['Airport']    | 562949953421314 | FLIES_TO   |          948 |            1 | FLIES_TO | 562949953421313 | ['Airport']      | edge     | nan          |\n",
      "|  5 | 562949953421314 | ['Restaurant'] | 562949953421316 | ATTRACTION |          nan |          nan | nan      | 562949953421313 | ['Airport']      | edge     | Yes          |\n",
      "|  6 |               0 | ['Airport']    | 562949953421313 | FLIES_TO   |          886 |            1 | FLIES_TO | 562949953421312 | ['Airport']      | edge     | nan          |\n",
      "|  7 | 281474976710656 | ['Airport']    | 562949953421315 | FLIES_TO   |           66 |            1 | FLIES_TO | 562949953421312 | ['Airport']      | edge     | nan          |\n",
      "+----+-----------------+----------------+-----------------+------------+--------------+--------------+----------+-----------------+------------------+----------+--------------+\n"
     ]
    }
   ],
   "source": [
    "\n",
    "l_result1 = my_graph.query(\n",
    "   \"\"\"\n",
    "   MATCH (n) \n",
    "   RETURN n\n",
    "   \"\"\" )\n",
    "print(tabulate(l_result1, headers='keys', tablefmt='psql'))\n",
    "\n",
    "l_result2 = my_graph.query(\n",
    "   \"\"\"\n",
    "   MATCH (n) - [r] -> (m)\n",
    "   RETURN r\n",
    "   \"\"\" )\n",
    "print(tabulate(l_result2, headers='keys', tablefmt='psql'))\n",
    "\n",
    "\n",
    "#  Sample output,\n",
    "#\n",
    "#     +----+-----------------+----------------+-----------+------------------+------------------+----------------------+----------+---------------------+-----------------------------+\n",
    "#     |    |   n.internal_id | n.labels       | n.LABEL   | n.airport_code   | n.airport_name   |   n.betweenness_0022 | n.type   | n.restaurant_code   | n.restaurant_name           |\n",
    "#     |----+-----------------+----------------+-----------+------------------+------------------+----------------------+----------+---------------------+-----------------------------|\n",
    "#     |  0 |               0 | ['Airport']    | Airport   | ORD              | Chicago O-Hare   |                    4 | node     | nan                 | nan                         |\n",
    "#     |  1 |               1 | ['Airport']    | Airport   | DEN              | Denver           |                    2 | node     | nan                 | nan                         |\n",
    "#     |  2 | 281474976710657 | ['Restaurant'] | nan       | nan              | nan              |                  nan | node     | PAP                 | Pappadeauxs Seafood Kitchen |\n",
    "#     |  3 | 281474976710656 | ['Airport']    | Airport   | SJC              | San Jose         |                    0 | node     | nan                 | nan                         |\n",
    "#     |  4 | 562949953421312 | ['Airport']    | Airport   | MKE              | Milwaukee        |                    0 | node     | nan                 | nan                         |\n",
    "#     +----+-----------------+----------------+-----------+------------------+------------------+----------------------+----------+---------------------+-----------------------------+\n",
    "#     \n",
    "#     +----+-----------------+----------------+-----------------+------------+--------------+--------------+----------+-----------------+------------------+----------+--------------+\n",
    "#     |    |        r.end.id | r.end.labels   |   r.internal_id | r.label    |   r.DISTANCE |   r.NUM_HOPS | r.TYPE   |      r.start.id | r.start.labels   | r.type   | r.DRIVABLE   |\n",
    "#     |----+-----------------+----------------+-----------------+------------+--------------+--------------+----------+-----------------+------------------+----------+--------------|\n",
    "#     |  0 |               1 | ['Airport']    |               1 | FLIES_TO   |          886 |            1 | FLIES_TO |               0 | ['Airport']      | edge     | nan          |\n",
    "#     |  1 | 562949953421312 | ['Airport']    |               3 | FLIES_TO   |           66 |            1 | FLIES_TO |               0 | ['Airport']      | edge     | nan          |\n",
    "#     |  2 |               0 | ['Airport']    |               0 | FLIES_TO   |          886 |            1 | FLIES_TO |               1 | ['Airport']      | edge     | nan          |\n",
    "#     |  3 | 281474976710656 | ['Airport']    |               2 | FLIES_TO   |          948 |            1 | FLIES_TO |               1 | ['Airport']      | edge     | nan          |\n",
    "#     |  4 |               0 | ['Airport']    | 281474976710656 | FLIES_TO   |         1829 |            1 | FLIES_TO | 281474976710656 | ['Airport']      | edge     | nan          |\n",
    "#     |  5 |               1 | ['Airport']    | 281474976710657 | FLIES_TO   |          948 |            1 | FLIES_TO | 281474976710656 | ['Airport']      | edge     | nan          |\n",
    "#     |  6 | 281474976710657 | ['Restaurant'] | 281474976710658 | ATTRACTION |          nan |          nan | nan      | 281474976710656 | ['Airport']      | edge     | Yes          |\n",
    "#     |  7 |               0 | ['Airport']    | 562949953421312 | FLIES_TO   |           66 |            1 | FLIES_TO | 562949953421312 | ['Airport']      | edge     | nan          |\n",
    "#     +----+-----------------+----------------+-----------------+------------+--------------+--------------+----------+-----------------+------------------+----------+--------------+\n"
   ]
  },
  {
   "cell_type": "code",
   "execution_count": 10,
   "id": "09749dcf-5fac-47eb-b628-68f3d02320f4",
   "metadata": {},
   "outputs": [
    {
     "data": {
      "application/vnd.jupyter.widget-view+json": {
       "model_id": "fc4fbaeab1ca49cea26fd93b9dba6dc4",
       "version_major": 2,
       "version_minor": 0
      },
      "text/plain": [
       "          0/? [?op/s]"
      ]
     },
     "metadata": {},
     "output_type": "display_data"
    },
    {
     "data": {
      "application/vnd.jupyter.widget-view+json": {
       "model_id": "85cdf2ae2c114d0d9c200f4b0c50f9ba",
       "version_major": 2,
       "version_minor": 0
      },
      "text/plain": [
       "          0/? [?op/s]"
      ]
     },
     "metadata": {},
     "output_type": "display_data"
    },
    {
     "data": {
      "application/vnd.jupyter.widget-view+json": {
       "model_id": "f626b2a6b4494aa6921248294ca1d42b",
       "version_major": 2,
       "version_minor": 0
      },
      "text/plain": [
       "VBox(children=(HTML(value='\\n                <style>\\n                #jp-main-content-panel .widget-container…"
      ]
     },
     "metadata": {},
     "output_type": "display_data"
    }
   ],
   "source": [
    "\n",
    "l_result = my_graph.query(f\"\"\"\n",
    "    MATCH (n) - [r] -> (m)\n",
    "    RETURN n, r, m\n",
    "    \"\"\", contextualize=True)\n",
    "\n",
    "l_result.view()\n"
   ]
  },
  {
   "cell_type": "code",
   "execution_count": null,
   "id": "b708bea9-9dbf-4ca5-8dd5-209e4aea17fe",
   "metadata": {},
   "outputs": [],
   "source": []
  }
 ],
 "metadata": {
  "kernelspec": {
   "display_name": "Python 3 (ipykernel)",
   "language": "python",
   "name": "python3"
  },
  "language_info": {
   "codemirror_mode": {
    "name": "ipython",
    "version": 3
   },
   "file_extension": ".py",
   "mimetype": "text/x-python",
   "name": "python",
   "nbconvert_exporter": "python",
   "pygments_lexer": "ipython3",
   "version": "3.8.13"
  }
 },
 "nbformat": 4,
 "nbformat_minor": 5
}
