{
 "cells": [
  {
   "cell_type": "code",
   "execution_count": null,
   "id": "6432d671-7163-4a57-b742-abb400d3caae",
   "metadata": {},
   "outputs": [],
   "source": []
  },
  {
   "cell_type": "code",
   "execution_count": 8,
   "id": "3abe3d5f-a039-4036-a5d4-2d5e0f67c464",
   "metadata": {},
   "outputs": [
    {
     "name": "stdout",
     "output_type": "stream",
     "text": [
      "[[1 2 0]\n",
      " [3 4 0]\n",
      " [5 6 0]\n",
      " [7 8 0]]\n"
     ]
    }
   ],
   "source": [
    "\n",
    "import numpy as np\n",
    "\n",
    "\n",
    "#  np_arr = np.arange(0, 9, 1, dtype=int)\n",
    "#  print(np_arr)\n",
    "\n",
    "np_arr = np.array([[1, 2, 0], [3, 4, 0], [5, 6, 0], [7, 8, 0]])\n",
    "\n",
    "l_idx = np.print(np_arr)\n",
    "\n",
    "\n",
    "\n",
    "\n"
   ]
  },
  {
   "cell_type": "code",
   "execution_count": null,
   "id": "c05683b8-3293-4c31-9298-6c84f141a002",
   "metadata": {},
   "outputs": [],
   "source": []
  },
  {
   "cell_type": "code",
   "execution_count": null,
   "id": "dcd57588-45df-4e50-9064-f3c028426f8b",
   "metadata": {},
   "outputs": [],
   "source": []
  },
  {
   "cell_type": "code",
   "execution_count": null,
   "id": "9d7cd252-d7b1-402d-b0d8-274608903fe6",
   "metadata": {},
   "outputs": [],
   "source": []
  }
 ],
 "metadata": {
  "kernelspec": {
   "display_name": "Python 3 (ipykernel)",
   "language": "python",
   "name": "python3"
  },
  "language_info": {
   "codemirror_mode": {
    "name": "ipython",
    "version": 3
   },
   "file_extension": ".py",
   "mimetype": "text/x-python",
   "name": "python",
   "nbconvert_exporter": "python",
   "pygments_lexer": "ipython3",
   "version": "3.8.13"
  }
 },
 "nbformat": 4,
 "nbformat_minor": 5
}
