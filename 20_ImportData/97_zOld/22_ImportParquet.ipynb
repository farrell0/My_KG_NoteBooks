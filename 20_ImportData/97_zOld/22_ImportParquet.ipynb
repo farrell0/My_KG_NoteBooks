{
 "cells": [
  {
   "cell_type": "markdown",
   "id": "991af5fa-dbf4-4081-bcd1-abc0ef9e9f47",
   "metadata": {},
   "source": [
    "#  Setup: Display options"
   ]
  },
  {
   "cell_type": "code",
   "execution_count": null,
   "id": "f2a2a802-10a7-46b8-a3ac-e16f157e67d3",
   "metadata": {},
   "outputs": [],
   "source": [
    "\n",
    "#  Setting display options \n",
    "\n",
    "import pandas as pd\n",
    "   #\n",
    "pd.set_option(\"display.width\", 480)\n",
    "\n",
    "#  Sets horizontal scroll for wide outputs\n",
    "#\n",
    "from IPython.display import display, HTML\n",
    "display(HTML(\"\"))\n",
    "\n",
    "from tabulate import tabulate\n",
    "\n",
    "print(\"--\")\n"
   ]
  },
  {
   "cell_type": "markdown",
   "id": "5812f38b-9f53-4a83-b992-1b2053c9f4bc",
   "metadata": {},
   "source": [
    "# Setup: Connectivity"
   ]
  },
  {
   "cell_type": "code",
   "execution_count": null,
   "id": "2d38f691-ca4f-47d5-b2ca-ca313029b9ca",
   "metadata": {},
   "outputs": [],
   "source": [
    "\n",
    "from katana import remote\n",
    "from katana.remote import import_data\n",
    "\n",
    "my_client = remote.Client()\n",
    "\n",
    "print(my_client)\n"
   ]
  },
  {
   "cell_type": "code",
   "execution_count": null,
   "id": "ea9a6cbf-9509-4f4e-abcf-aa0ddfba7dea",
   "metadata": {},
   "outputs": [],
   "source": [
    "\n",
    "NUM_PARTITIONS  = 3\n",
    "   #\n",
    "DB_NAME         = \"my_db\"\n",
    "GRAPH_NAME      = \"my_graph\"\n",
    "\n",
    "print(\"--\")\n"
   ]
  },
  {
   "cell_type": "code",
   "execution_count": 8,
   "id": "5b42eb57-2fab-48f8-b200-18f8635a49e3",
   "metadata": {},
   "outputs": [
    {
     "name": "stdout",
     "output_type": "stream",
     "text": [
      "--\n"
     ]
    }
   ],
   "source": [
    "\n",
    "#  DELETE ALL GRAPHS\n",
    "\n",
    "for l_database in my_client.databases():\n",
    "   for l_graph in my_client.get_database(name=l_database.name).graphs_in_database():\n",
    "      l_handle=my_client.get_database(name=l_database.name).get_graph_by_id(id=l_graph.graph_id)\n",
    "      l_handle.delete()\n",
    "\n",
    "for l_graph in my_client.graphs():\n",
    "   print(\"GRAPH ID: \", l_graph.graph_id, \"      GRAPH Version: \", l_graph.version)\n",
    "\n",
    "print(\"--\")\n"
   ]
  },
  {
   "cell_type": "code",
   "execution_count": null,
   "id": "6dbff7b3-1ae6-489b-b337-8d44a13c29fc",
   "metadata": {},
   "outputs": [],
   "source": [
    "\n",
    "#  DELETE ALL DATABASES\n",
    "\n",
    "for l_database in my_client.databases():\n",
    "   if (l_database.name != \"default\"):\n",
    "      my_client.get_database(name=l_database.name).delete_database()\n",
    "      print(\"--\")\n",
    "\n",
    "for l_database in my_client.databases():\n",
    "   print(\"DB ID: \", l_database.database_id, \"     DB Name: \", l_database.name)\n"
   ]
  },
  {
   "cell_type": "code",
   "execution_count": null,
   "id": "938527fb-9d90-477c-a537-fece3d09860f",
   "metadata": {},
   "outputs": [],
   "source": [
    "\n",
    "#  CREATE DATABASE\n",
    "\n",
    "my_database = my_client.create_database(name=DB_NAME)\n",
    "\n",
    "print(my_database.database_id)\n"
   ]
  },
  {
   "cell_type": "code",
   "execution_count": 9,
   "id": "68025f4c-60df-4886-a09c-11f625f56612",
   "metadata": {},
   "outputs": [
    {
     "name": "stdout",
     "output_type": "stream",
     "text": [
      "<_Graph my_graph, 2N2rvg7aV5xgqMbbnyJvpGWjkG9mZe32g9MxV6pVyM3S, 0>\n"
     ]
    }
   ],
   "source": [
    "\n",
    "#  CREATE GRAPH\n",
    "#\n",
    "my_graph = my_client.get_database(name=DB_NAME).create_graph(name=GRAPH_NAME, num_partitions=NUM_PARTITIONS)\n",
    "\n",
    "print(my_graph)\n"
   ]
  },
  {
   "cell_type": "code",
   "execution_count": null,
   "id": "9789ee48-a6f2-4a88-9fab-c872aa904628",
   "metadata": {},
   "outputs": [],
   "source": [
    "\n",
    "#  CONNECT TO GRAPH\n",
    "\n",
    "my_graph, *_ = my_client.get_database(name=DB_NAME).find_graphs_by_name(GRAPH_NAME)\n",
    "\n",
    "print(my_graph)\n"
   ]
  },
  {
   "cell_type": "code",
   "execution_count": null,
   "id": "a1453635-7736-4002-be54-5aef16547716",
   "metadata": {},
   "outputs": [],
   "source": [
    "# ##################################################################"
   ]
  },
  {
   "cell_type": "code",
   "execution_count": null,
   "id": "bd5bdea0-2af9-4504-9979-2c975ae7a4e8",
   "metadata": {},
   "outputs": [],
   "source": [
    "\n",
    "#  Making a GS Bucket Public,\n",
    "#\n",
    "#  From,\n",
    "#     https://cloud.google.com/storage/docs/access-control/making-data-public#command-line\n",
    "\n",
    "gsutil iam ch allUsers:objectViewer gs://farrell-bucket\n",
    "\n",
    "\n",
    "#  In browser,\n",
    "#\n",
    "#     https://console.cloud.google.com/storage/browser/farrell-bucket\n"
   ]
  },
  {
   "cell_type": "code",
   "execution_count": null,
   "id": "2aeb21f2-250d-45ea-9c9e-29276f13b4a2",
   "metadata": {},
   "outputs": [],
   "source": [
    "\n",
    "#  Read CSV from GS\n",
    "\n",
    "#  import os\n",
    "   #\n",
    "import dask.dataframe as dd\n",
    "import numpy as np\n",
    "   #\n",
    "#  from google.cloud import storage\n",
    "#  import gcsfs\n",
    "\n",
    "\n",
    "#  os.environ[\"GOOGLE_APPLICATION_CREDENTIALS\"] = \"/home/jovyan/work/03_MyKeys.json\"\n",
    "\n",
    "\n",
    "l_bucket    = \"katana-demo-datasets\"\n",
    "l_fullpath  = \"gs://\" + l_bucket + \"/csv-datasets/ldbc/sf-0.003/csv/bi/composite-projected-fk/initial_snapshot/static/Place/part-00000-c16729dd-16d5-456b-84ca-d0f19fa783d6-c000.csv\"\n",
    "\n",
    "\n",
    "l_dataframe = dd.read_csv(\n",
    "   l_fullpath,\n",
    "   delimiter='|',\n",
    "   dtype={\n",
    "      'id':   int,\n",
    "      \"name\": np.dtype('O'),\n",
    "      \"url\":  np.dtype('O'),\n",
    "      \"type\": np.dtype('O'),\n",
    "      })\n",
    "\n",
    "\n",
    "l_cntr = 0\n",
    "   #\n",
    "for l_each in l_dataframe.itertuples():\n",
    "   l_cntr+=1\n",
    "      #\n",
    "   if (l_cntr < 10):\n",
    "      print(\"Id: %-4d    Name: %-28s   Url: %-60s   Type: %s\" % (l_each.id, l_each.name, l_each.url, l_each.type))\n",
    "    \n",
    "print(\"\")\n",
    "    "
   ]
  },
  {
   "cell_type": "code",
   "execution_count": null,
   "id": "038e48f2-6dca-4f03-a30e-f92551222ee2",
   "metadata": {},
   "outputs": [],
   "source": [
    "\n",
    "#  Output the above to GS Parquet\n",
    "#\n",
    "#     See,\n",
    "#        https://cloud.google.com/iam/docs/creating-managing-service-account-keys#iam-service-account-keys-list-gcloud\n",
    "#\n",
    "#        gcloud iam service-accounts keys list --iam-account=farrell@katana-internal39.iam.gserviceaccount.com\n",
    "\n",
    "\n",
    "import os\n",
    "   #\n",
    "import dask.dataframe as dd\n",
    "import numpy as np\n",
    "   #\n",
    "from google.cloud import storage\n",
    "import gcsfs\n",
    "\n",
    "\n",
    "os.environ[\"GOOGLE_APPLICATION_CREDENTIALS\"] = \"/home/jovyan/work/03_MyKeys.json\"\n",
    "\n",
    "\n",
    "\n",
    "\n",
    "l_outputfolder = \"gs://\" + \"farrell-bucket\" + \"/test\"\n",
    "\n",
    "\n",
    "l_dataframe.to_parquet(l_outputfolder,\n",
    "   write_index         = False,\n",
    "   write_metadata_file = False,\n",
    "      #\n",
    "   engine              = \"pyarrow\",\n",
    "   version             = \"2.6\"\n",
    "   )\n",
    "\n",
    "print(\"--\")\n"
   ]
  },
  {
   "cell_type": "code",
   "execution_count": null,
   "id": "00c4d22e-3309-4e83-a590-692436e7d3f0",
   "metadata": {},
   "outputs": [],
   "source": [
    "\n",
    "#  Read the above\n",
    "\n",
    "df_data = dd.read_parquet(\"https://storage.googleapis.com/farrell-bucket/test/part.0.parquet\")\n",
    "\n",
    "\n",
    "#  df_data.head(5)\n",
    "\n",
    "l_cntr = 0\n",
    "   #\n",
    "for l_each in df_data.itertuples():\n",
    "   l_cntr += 1\n",
    "      #\n",
    "   if (l_cntr < 5):\n",
    "      print(\"Id: %-4d    Name: %-28s   Url: %-60s   Type: %s\" % (l_each.id, l_each.name, l_each.url, l_each.type))\n",
    "\n",
    "print(\"--\")    \n"
   ]
  },
  {
   "cell_type": "code",
   "execution_count": null,
   "id": "861355e0-c982-43c6-a120-028450410c4f",
   "metadata": {},
   "outputs": [],
   "source": [
    "\n",
    "#  Import GS Parquet data into graph\n",
    "\n",
    "#  Currently this fails with sa missing column reference\n",
    "#\n",
    "from katana.remote import import_data\n",
    "\n",
    "l_node =\"gs://farrell-bucket/test/50_NodeHeader.txt\"\n",
    "l_data =\"gs://farrell-bucket\"\n",
    "\n",
    "import_data.parquet(\n",
    "   my_graph,\n",
    "      #\n",
    "   input_node_path   = l_node,\n",
    "   #  input_edge_path   = l_edge,\n",
    "   input_dir         = l_data,\n",
    "      #\n",
    "   schema_delimiter=\"|\",\n",
    "   ids_are_integers=True\n",
    "   )\n",
    "\n",
    "print(\"--\")\n"
   ]
  }
 ],
 "metadata": {
  "kernelspec": {
   "display_name": "Python 3 (ipykernel)",
   "language": "python",
   "name": "python3"
  },
  "language_info": {
   "codemirror_mode": {
    "name": "ipython",
    "version": 3
   },
   "file_extension": ".py",
   "mimetype": "text/x-python",
   "name": "python",
   "nbconvert_exporter": "python",
   "pygments_lexer": "ipython3",
   "version": "3.8.13"
  }
 },
 "nbformat": 4,
 "nbformat_minor": 5
}
