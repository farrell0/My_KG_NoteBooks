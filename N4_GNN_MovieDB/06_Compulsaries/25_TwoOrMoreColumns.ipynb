{
 "cells": [
  {
   "cell_type": "code",
   "execution_count": null,
   "id": "d776f754-ef98-4cbd-a423-647c483341ce",
   "metadata": {},
   "outputs": [],
   "source": [
    "\n",
    "#  Here we demonstrate the following Dask DataFrame techniques;\n",
    "#\n",
    "#     .  How to create a Dask DataFrame from an array.\n",
    "#\n",
    "#     .  Operate on two or more columns from a DataFrame in a map  (map_partitions)\n"
   ]
  },
  {
   "cell_type": "code",
   "execution_count": 2,
   "id": "682150e3-6a50-4197-a239-80d1d2ea6edd",
   "metadata": {},
   "outputs": [
    {
     "name": "stdout",
     "output_type": "stream",
     "text": [
      "--\n"
     ]
    }
   ],
   "source": [
    "\n",
    "NUM_PARTITIONS  = 3\n",
    "\n",
    "print(\"--\")\n"
   ]
  },
  {
   "cell_type": "code",
   "execution_count": 3,
   "id": "0416c10d-a1cb-433d-ad5e-85498aaa1744",
   "metadata": {},
   "outputs": [
    {
     "name": "stdout",
     "output_type": "stream",
     "text": [
      "--\n"
     ]
    }
   ],
   "source": [
    "\n",
    "import numpy as np\n",
    "import pandas as pd\n",
    "   #\n",
    "import dask.array as da\n",
    "import dask.dataframe as dd\n",
    "   #\n",
    "from dask.dataframe import from_pandas\n",
    "\n",
    "from tabulate import tabulate\n",
    "\n",
    "print(\"--\")\n"
   ]
  },
  {
   "cell_type": "code",
   "execution_count": 4,
   "id": "131298d0-5cb4-4b62-8413-5e5571ef4b6a",
   "metadata": {},
   "outputs": [
    {
     "name": "stdout",
     "output_type": "stream",
     "text": [
      "Airport:  MKE   Milwaukee            WI   Airport   \n",
      "Airport:  ORD   Chicago O-Hare       IL   Airport   \n",
      "Airport:  SJC   San Jose             CA   Airport   \n",
      "Airport:  LAX   Los Angeles          CA   Airport   \n",
      "Airport:  DEN   Denver               CO   Airport   \n",
      "--\n"
     ]
    }
   ],
   "source": [
    "\n",
    "#  Create our source Dask DataFrame from an array\n",
    "\n",
    "np_airports = np.array([\n",
    "       #\n",
    "   [\"MKE\", \"Milwaukee\"     , \"WI\", \"Airport\"],\n",
    "   [\"ORD\", \"Chicago O-Hare\", \"IL\", \"Airport\"],\n",
    "   [\"SJC\", \"San Jose\"      , \"CA\", \"Airport\"],\n",
    "   [\"LAX\", \"Los Angeles\"   , \"CA\", \"Airport\"],\n",
    "   [\"DEN\", \"Denver\"        , \"CO\", \"Airport\"],\n",
    "       #\n",
    "   ], dtype=\"str\")\n",
    "\n",
    "pd_airports = pd.DataFrame(np_airports, columns = [\"airport_code\", \"airport_name\", \"state_code\", \"LABEL\"])\n",
    "   #\n",
    "dd_airports = from_pandas(pd_airports, npartitions = NUM_PARTITIONS)\n",
    "\n",
    "\n",
    "for l_each in dd_airports.itertuples():\n",
    "   print(\"Airport:  %3s   %-18s   %-2s   %-10s\" % (l_each.airport_code, l_each.airport_name, l_each.state_code, l_each.LABEL))\n",
    "\n",
    "print(\"--\")\n",
    "\n",
    "#  Sample output,\n",
    "#\n",
    "#  Airport:  MKE   Milwaukee            WI   Airport   \n",
    "#  Airport:  ORD   Chicago O-Hare       IL   Airport   \n",
    "#  Airport:  SJC   San Jose             CA   Airport   \n",
    "#  Airport:  LAX   Los Angeles          CA   Airport   \n",
    "#  Airport:  DEN   Denver               CO   Airport  \n"
   ]
  },
  {
   "cell_type": "code",
   "execution_count": 5,
   "id": "dea72023-5366-444e-8cdf-cdb280b75e2f",
   "metadata": {},
   "outputs": [
    {
     "name": "stdout",
     "output_type": "stream",
     "text": [
      "Pandas(Index=0, airport_name='Milwaukee', state_code='WI', col3='Milwaukee, WI')\n",
      "Pandas(Index=1, airport_name='Chicago O-Hare', state_code='IL', col3='Chicago O-Hare, IL')\n",
      "Pandas(Index=2, airport_name='San Jose', state_code='CA', col3='San Jose, CA')\n",
      "Pandas(Index=3, airport_name='Los Angeles', state_code='CA', col3='Los Angeles, CA')\n",
      "Pandas(Index=4, airport_name='Denver', state_code='CO', col3='Denver, CO')\n"
     ]
    }
   ],
   "source": [
    "\n",
    "#  How to access two or more columns from the row\n",
    "\n",
    "dd_concat = dd_airports[[\"airport_name\", \"state_code\"]]\n",
    "\n",
    "\n",
    "def f_concat(l_arg1):\n",
    "\n",
    "   return (l_arg1.airport_name + \", \" +  l_arg1.state_code)\n",
    "\n",
    "\n",
    "dd_concat[\"col3\"] = dd_concat.map_partitions(f_concat)\n",
    "\n",
    "\n",
    "for l_each in dd_concat.itertuples():\n",
    "   print(l_each)\n"
   ]
  },
  {
   "cell_type": "code",
   "execution_count": 10,
   "id": "5cb8b549-5fe5-4f29-9201-f815beff4fa2",
   "metadata": {},
   "outputs": [
    {
     "name": "stdout",
     "output_type": "stream",
     "text": [
      "Pandas(Index=0, airport_code='MKE', airport_name='Milwaukee', state_code='WI', LABEL='Airport', col6='DDD')\n",
      "Pandas(Index=1, airport_code='ORD', airport_name='Chicago O-Hare', state_code='IL', LABEL='Airport', col6='Chicago O-Hare')\n",
      "Pandas(Index=2, airport_code='SJC', airport_name='San Jose', state_code='CA', LABEL='Airport', col6='San Jose')\n",
      "Pandas(Index=3, airport_code='LAX', airport_name='Los Angeles', state_code='CA', LABEL='Airport', col6='Los Angeles')\n",
      "Pandas(Index=4, airport_code='DEN', airport_name='Denver', state_code='CO', LABEL='Airport', col6='Denver')\n"
     ]
    }
   ],
   "source": [
    "\n",
    "#  Another two or more columns, now with an if statement\n",
    "#\n",
    "#     Strangely, map() works with an \"if\", map_partitions() does not\n",
    "#\n",
    "\n",
    "def f_func(i_arg1):\n",
    "\n",
    "   #  This form of \"if\" block,\n",
    "   #\n",
    "   #     if (i_arg1.keywords_length < 1):\n",
    "   #        return '[{\"id\": -1, \"name\": \"Unknown\"}]'\n",
    "   #     else:\n",
    "   #        return i_arg1.keywords\n",
    "   #     return l_return\n",
    "   #\n",
    "   #  Throws this error,\n",
    "   #     >> ValueError('The truth value of a Series is ambiguous. Use a.empty, a.bool(), a.item(), a.any() or a.all().')\n",
    "   #\n",
    "   #  So we use this form of \"if\",\n",
    "    \n",
    "   l_return = np.where(i_arg1.state_code < \"M\" , i_arg1.airport_name, \"DDD\")\n",
    "                       \n",
    "   return l_return\n",
    "    \n",
    "\n",
    "dd_airports[\"col6\"] = dd_airports.map_partitions(f_func)\n",
    "\n",
    "\n",
    "for l_each in dd_airports.itertuples():\n",
    "   print(l_each)\n",
    "\n"
   ]
  },
  {
   "cell_type": "code",
   "execution_count": null,
   "id": "e766071c-1652-472e-880c-d904cd250d02",
   "metadata": {},
   "outputs": [],
   "source": []
  }
 ],
 "metadata": {
  "kernelspec": {
   "display_name": "Python 3 (ipykernel)",
   "language": "python",
   "name": "python3"
  },
  "language_info": {
   "codemirror_mode": {
    "name": "ipython",
    "version": 3
   },
   "file_extension": ".py",
   "mimetype": "text/x-python",
   "name": "python",
   "nbconvert_exporter": "python",
   "pygments_lexer": "ipython3",
   "version": "3.8.13"
  }
 },
 "nbformat": 4,
 "nbformat_minor": 5
}
