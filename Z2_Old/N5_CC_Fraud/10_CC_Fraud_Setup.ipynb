{
 "cells": [
  {
   "cell_type": "markdown",
   "id": "d3ebe820-bc6d-4948-b668-8b81cd3cbf29",
   "metadata": {
    "tags": []
   },
   "source": [
    "#  Setup stuff: Connectivity"
   ]
  },
  {
   "cell_type": "code",
   "execution_count": null,
   "id": "1ea957d6-30c6-427a-ae4e-15ecfba0c4f9",
   "metadata": {},
   "outputs": [],
   "source": [
    "import os\n",
    "\n",
    "from katana import remote\n",
    "from katana.remote import import_data\n",
    "\n",
    "\n",
    "my_client = remote.Client()\n",
    "\n",
    "print(my_client)\n"
   ]
  },
  {
   "cell_type": "code",
   "execution_count": null,
   "id": "97571016-7c02-4e90-a75a-136a0dacd35f",
   "metadata": {},
   "outputs": [],
   "source": [
    "NUM_PARTITIONS  = 3\n",
    "   #\n",
    "DB_NAME         = \"my_db\"\n",
    "GRAPH_NAME      = \"my_graph\"\n",
    "\n",
    "print(\"--\")\n"
   ]
  },
  {
   "cell_type": "code",
   "execution_count": null,
   "id": "8ed2d715-aaeb-4381-9216-46fa0dd421b6",
   "metadata": {},
   "outputs": [],
   "source": [
    "#  DELETE ALL GRAPHS\n",
    "\n",
    "for l_database in my_client.databases():\n",
    "   for l_graph in my_client.get_database(name=l_database.name).graphs_in_database():\n",
    "      l_handle=my_client.get_database(name=l_database.name).get_graph_by_id(id=l_graph.graph_id)\n",
    "      l_handle.delete()\n",
    "\n",
    "for l_graph in my_client.graphs():\n",
    "   print(\"GRAPH ID: \", l_graph.graph_id, \"      GRAPH Version: \", l_graph.version)\n",
    "\n",
    "print(\"--\")\n"
   ]
  },
  {
   "cell_type": "code",
   "execution_count": null,
   "id": "cf9c16ec-913f-46a8-bccc-76fc92c54866",
   "metadata": {},
   "outputs": [],
   "source": [
    "#  DELETE ALL DATABASES\n",
    "\n",
    "for l_database in my_client.databases():\n",
    "   if (l_database.name != \"default\"):\n",
    "      my_client.get_database(name=l_database.name).delete_database()\n",
    "      print(\"--\")\n",
    "\n",
    "for l_database in my_client.databases():\n",
    "   print(\"DB ID: \", l_database.database_id, \"     DB Name: \", l_database.name)\n",
    "\n",
    "print(\"--\")\n"
   ]
  },
  {
   "cell_type": "code",
   "execution_count": null,
   "id": "6e72729c-265b-40e4-a3ee-674b793bed81",
   "metadata": {},
   "outputs": [],
   "source": [
    "#  CREATE DATABASE\n",
    "\n",
    "my_database = my_client.create_database(name=DB_NAME)\n",
    "\n",
    "print(my_database.database_id)\n"
   ]
  },
  {
   "cell_type": "code",
   "execution_count": null,
   "id": "2fc31da4-44c3-4bd3-b160-b315766dcd88",
   "metadata": {},
   "outputs": [],
   "source": [
    "#  CREATE GRAPH\n",
    "#\n",
    "my_graph = my_client.get_database(name=DB_NAME).create_graph(name=GRAPH_NAME, num_partitions=NUM_PARTITIONS) \n",
    "\n",
    "print(my_graph)\n"
   ]
  },
  {
   "cell_type": "code",
   "execution_count": null,
   "id": "c5db6505-7fc8-4779-b194-9ed8945b9a90",
   "metadata": {},
   "outputs": [],
   "source": [
    "#  CONNECT TO GRAPH\n",
    "\n",
    "for l_graph in my_client.get_database(name=DB_NAME).graphs_in_database():\n",
    "   if (l_graph.name == GRAPH_NAME):\n",
    "      my_graph=my_client.get_database(name=DB_NAME).get_graph_by_id(id=l_graph.graph_id)\n",
    "         #\n",
    "      break\n",
    "\n",
    "print(my_graph)\n"
   ]
  },
  {
   "cell_type": "markdown",
   "id": "039f91b3-11dc-475e-a9a1-daed40a30b44",
   "metadata": {
    "tags": []
   },
   "source": [
    "#  Setup stuff: Debugging"
   ]
  },
  {
   "cell_type": "code",
   "execution_count": null,
   "id": "fe05e591-927a-456b-b973-7aceba0bea39",
   "metadata": {},
   "outputs": [],
   "source": [
    "#  LIST ALL GRAPHS\n",
    "\n",
    "for l_graph in my_client.graphs():\n",
    "   print(\"GRAPH ID: \", l_graph.graph_id, \"     DB GRAPH: \", l_graph.name, \"    GRAPH VERSION: \", l_graph.version)\n",
    "\n",
    "print(\"--\")\n"
   ]
  },
  {
   "cell_type": "code",
   "execution_count": null,
   "id": "ce3ecfbe-cca0-41dd-bb15-594f2d545365",
   "metadata": {},
   "outputs": [],
   "source": [
    "display(my_graph.num_nodes())\n",
    "display(my_graph.num_edges())"
   ]
  },
  {
   "cell_type": "code",
   "execution_count": null,
   "id": "6792c607-3ac1-4f8b-b1d3-4a4e194e26cb",
   "metadata": {},
   "outputs": [],
   "source": [
    "# ##################################################################"
   ]
  },
  {
   "cell_type": "code",
   "execution_count": null,
   "id": "ef619a08-7263-4bb3-9edd-34148f639ec5",
   "metadata": {},
   "outputs": [],
   "source": [
    "my_graph.query(\"CALL graph.schema() RETURN *\")\n"
   ]
  },
  {
   "cell_type": "code",
   "execution_count": null,
   "id": "71fb84ed-29d1-4e3b-ae1f-b2d009af96ff",
   "metadata": {},
   "outputs": [],
   "source": [
    "my_client.widgets().operations()\n"
   ]
  },
  {
   "cell_type": "markdown",
   "id": "61556ce5-9044-42bc-bb13-80b6a514ae27",
   "metadata": {
    "tags": []
   },
   "source": [
    "# Create: Vertices/nodes, edges/relationships "
   ]
  },
  {
   "cell_type": "code",
   "execution_count": null,
   "id": "f7efb47b-3c7d-45f3-acc8-ae29c3e2a1bf",
   "metadata": {},
   "outputs": [],
   "source": [
    "import pandas as pd\n",
    "\n",
    "print(\"--\")"
   ]
  },
  {
   "cell_type": "code",
   "execution_count": null,
   "id": "8e7ecf31-d69e-4b5a-8a37-0cfb4c32fd33",
   "metadata": {},
   "outputs": [],
   "source": [
    "#  Vertices/Nodes, Persons ..\n",
    "\n",
    "df_persons = pd.DataFrame([\n",
    "       #\n",
    "   [\"1111-1111-1111-1111\", \"Justin\"       , \"Person\"],\n",
    "   [\"2222-2222-2222-2222\", \"Thomas\"       , \"Person\"],\n",
    "   [\"3333-3333-3333-3333\", \"Sameer\"       , \"Person\"],\n",
    "   [\"4444-4444-4444-4444\", \"Brian\"        , \"Person\"],\n",
    "       #\n",
    "   ], columns = [\"person_code\", \"person_name\", \"LABEL\"])\n",
    "\n",
    "df_persons.head(10)\n"
   ]
  },
  {
   "cell_type": "code",
   "execution_count": null,
   "id": "c9649ab8-a94f-48aa-97de-bec7ae4e091d",
   "metadata": {},
   "outputs": [],
   "source": [
    "#  Vertices/Nodes, Stores ..\n",
    "\n",
    "df_stores = pd.DataFrame([\n",
    "       #\n",
    "   [101, \"Panera\"        , \"Store\"],\n",
    "   [102, \"Target\"        , \"Store\"],\n",
    "   [103, \"Lowes\"         , \"Store\"],\n",
    "   [104, \"Volvo Service\" , \"Store\"],\n",
    "   [105, \"JC Penney\"     , \"Store\"],\n",
    "   [106, \"Torchys Tacos\" , \"Store\"],\n",
    "       #\n",
    "   ], columns = [\"store_code\", \"store_name\", \"LABEL\"])\n",
    "\n",
    "df_stores.head(10)\n"
   ]
  },
  {
   "cell_type": "code",
   "execution_count": null,
   "id": "60eaac88-4dd5-47d3-94b3-0f5fd0b243f2",
   "metadata": {},
   "outputs": [],
   "source": [
    "#  Create the edge, MADE_PURCHASE ..\n",
    "\n",
    "df_purchases = pd.DataFrame([\n",
    "      #\n",
    "   [\"1111-1111-1111-1111\", 101,   40.00, \"2022-04-01\", 0, \"MADE_PURCHASE\" ],\n",
    "   [\"1111-1111-1111-1111\", 105,   50.00, \"2022-04-02\", 0, \"MADE_PURCHASE\" ],\n",
    "   [\"1111-1111-1111-1111\", 106,   60.00, \"2022-04-03\", 1, \"MADE_PURCHASE\" ],\n",
    "   [\"1111-1111-1111-1111\", 102,   70.00, \"2022-04-10\", 0, \"MADE_PURCHASE\" ],\n",
    "   [\"1111-1111-1111-1111\", 106,   60.00, \"2022-04-14\", 1, \"MADE_PURCHASE\" ],\n",
    "      #\n",
    "   [\"2222-2222-2222-2222\", 103,   40.00, \"2022-04-01\", 0, \"MADE_PURCHASE\" ],\n",
    "   [\"2222-2222-2222-2222\", 104,   50.00, \"2022-04-02\", 0, \"MADE_PURCHASE\" ],\n",
    "   [\"2222-2222-2222-2222\", 105,   60.00, \"2022-04-03\", 0, \"MADE_PURCHASE\" ],\n",
    "   [\"2222-2222-2222-2222\", 101,   70.00, \"2022-04-06\", 1, \"MADE_PURCHASE\" ],\n",
    "   [\"2222-2222-2222-2222\", 102,   80.00, \"2022-04-10\", 0, \"MADE_PURCHASE\" ],\n",
    "      #\n",
    "   [\"3333-3333-3333-3333\", 105,   50.00, \"2022-04-05\", 0, \"MADE_PURCHASE\" ],\n",
    "   [\"3333-3333-3333-3333\", 102,   60.00, \"2022-04-09\", 1, \"MADE_PURCHASE\" ],\n",
    "   [\"3333-3333-3333-3333\", 102,   70.00, \"2022-04-10\", 0, \"MADE_PURCHASE\" ],\n",
    "      #\n",
    "   [\"4444-4444-4444-4444\", 102,   40.00, \"2022-04-07\", 0, \"MADE_PURCHASE\" ],\n",
    "   [\"4444-4444-4444-4444\", 103,   50.00, \"2022-04-08\", 0, \"MADE_PURCHASE\" ],\n",
    "      #\n",
    "   ], columns = [\"START_ID\", \"END_ID\", \"AMOUNT\", \"DATE_AS_STRING\", \"IS_FRAUDULENT\", \"TYPE\"])\n",
    "\n",
    "df_purchases.head(30)\n"
   ]
  },
  {
   "cell_type": "code",
   "execution_count": null,
   "id": "5c7a23a1-170b-4f2c-b9ab-9b750f1ee3f3",
   "metadata": {},
   "outputs": [],
   "source": [
    "# ##################################################################"
   ]
  },
  {
   "cell_type": "code",
   "execution_count": null,
   "id": "7dc52e1a-e51e-4610-b9aa-8af39689000e",
   "metadata": {},
   "outputs": [],
   "source": [
    "# Import the 3 previously created Python DataFrames into KatanaGraph\n",
    "\n",
    "with import_data.DataFrameImporter(my_graph) as df_importer:   \n",
    "    \n",
    "   df_importer.nodes_dataframe(df_persons,                      #  Person set of Nodes\n",
    "      id_column             = \"person_code\",    \n",
    "      id_space              = \"Person\",  \n",
    "      label                 = \"Person\",  \n",
    "      )\n",
    "    \n",
    "   df_importer.nodes_dataframe(df_stores,                       #  Store set of Nodes\n",
    "      id_column             = \"store_code\",\n",
    "      id_space              = \"Store\", \n",
    "      label                 = \"Store\", \n",
    "      )\n",
    "   \n",
    "   df_importer.edges_dataframe(df_purchases,                    #  Our Edge, specifying the relationship between Person --> MADE_PURCHASE --> Store\n",
    "      source_id_space       = \"Person\", \n",
    "      destination_id_space  = \"Store\",   \n",
    "      source_column         = \"START_ID\",\n",
    "      destination_column    = \"END_ID\",\n",
    "      type                  = \"MADE_PURCHASE\"\n",
    "      )\n",
    "\n",
    "print(\"--\")"
   ]
  },
  {
   "cell_type": "code",
   "execution_count": null,
   "id": "6160bd57-15aa-4ff0-9269-9431e6f7dd2b",
   "metadata": {},
   "outputs": [],
   "source": [
    "#  View the graph; verify results\n",
    "\n",
    "l_result = my_graph.query(\"\"\"\n",
    "\n",
    "   MATCH (n) - [r] -> (m)\n",
    "   RETURN n, r, m\n",
    "   \n",
    "   \"\"\", contextualize=True)\n",
    "\n",
    "l_result.view()\n"
   ]
  },
  {
   "cell_type": "markdown",
   "id": "2150d7e4-9883-4caf-a3b1-719f0d120d91",
   "metadata": {},
   "source": [
    "#  Analytics"
   ]
  },
  {
   "cell_type": "code",
   "execution_count": null,
   "id": "0a7e73b2-169b-4f68-9f4b-a8e283704ed2",
   "metadata": {},
   "outputs": [],
   "source": [
    "#  Just Persons with fraudulent transactions\n",
    "\n",
    "l_result = my_graph.query(\"\"\"\n",
    "\n",
    "   MATCH (n: Person) - [ r: MADE_PURCHASE { IS_FRAUDULENT: 1 } ] -> (m: Store)\n",
    "   RETURN n.id, COLLECT ( { date_as_string: r.DATE_AS_STRING, store_name: m.store_name } )\n",
    "   ORDER BY n.id\n",
    "   \n",
    "   \"\"\", contextualize=True)\n",
    "\n",
    "l_result.view()\n"
   ]
  },
  {
   "cell_type": "code",
   "execution_count": null,
   "id": "60f38a4a-dfcb-4809-a5c9-8f7cdc2ca6ad",
   "metadata": {},
   "outputs": [],
   "source": []
  },
  {
   "cell_type": "code",
   "execution_count": null,
   "id": "2481b3db-1532-4a0d-87c7-0bb5257c13ef",
   "metadata": {},
   "outputs": [],
   "source": []
  },
  {
   "cell_type": "code",
   "execution_count": null,
   "id": "1b5daee3-8c63-4210-95b6-8b54674ab087",
   "metadata": {},
   "outputs": [],
   "source": [
    "\n",
    "l_result = my_graph.query(\"\"\"\n",
    "\n",
    "   //  Level-0\n",
    "   //\n",
    "   MATCH (m: Store) <- [ r: MADE_PURCHASE { IS_FRAUDULENT: 1 } ] - (n: Person) - [ r2: MADE_PURCHASE ] -> (m2: Store)\n",
    "\n",
    "   //  Level-4\n",
    "   //\n",
    "   WITH {\n",
    "      person_code: n.id,\n",
    "      person_name: n.person_name \n",
    "      } AS Person4,\n",
    "         //\n",
    "      COLLECT ({\n",
    "         fraud_date:      r.DATE_AS_STRING,\n",
    "         purchase_date:  r2.DATE_AS_STRING,\n",
    "         amount:         r2.AMOUNT,\n",
    "            //\n",
    "         store_code:     m2.id,\n",
    "         store_name:     m2.store_name\n",
    "      }) AS Details4\n",
    "\n",
    "   UNWIND Details4 AS Detail4\n",
    "\n",
    "   //  Level-5\n",
    "   //\n",
    "   WITH {\n",
    "      person_code:       Person4.person_code,\n",
    "      person_name:       Person4.person_name,\n",
    "         //\n",
    "      fraud_date:        Detail4.fraud_date,\n",
    "      purchase_date:     Detail4.purchase_date,\n",
    "      amount:            Detail4.amount,\n",
    "            //\n",
    "      store_code:        Detail4.store_code,\n",
    "      store_name:        Detail4.store_name\n",
    "      } AS  Detail5\n",
    "         //\n",
    "   WHERE (Detail5.purchase_date < Detail5.fraud_date)\n",
    "  \n",
    "   //  Level-6\n",
    "   //\n",
    "   WITH\n",
    "      {\n",
    "      store_code:        Detail5.store_code,\n",
    "      store_name:        Detail5.store_name\n",
    "      } AS Store6 // ,\n",
    "      \n",
    "      \n",
    "//    COLLECT ({\n",
    "//       \n",
    "//       fraud_date:     Detail5.fraud_date,\n",
    "//       purchase_date:  Detail5.purchase_date,\n",
    "//       amount:         Detail5.amount,\n",
    "//       person_code:    Detail5.person_code,\n",
    "//       person_name:    Detail5.person_name\n",
    "//    }) AS Details6\n",
    "      \n",
    "      \n",
    "      \n",
    "   RETURN \n",
    "      *\n",
    "   \n",
    "   \n",
    "   \"\"\", contextualize=True)\n",
    "\n",
    "\n",
    "l_result.view()\n",
    "\n",
    "   "
   ]
  },
  {
   "cell_type": "code",
   "execution_count": null,
   "id": "9f8315c7-a844-4f55-bd25-e78696c84d45",
   "metadata": {},
   "outputs": [],
   "source": [
    "print(l_result)"
   ]
  },
  {
   "cell_type": "code",
   "execution_count": null,
   "id": "1d89a6a8-191d-4202-b9f9-a6d035a88eb8",
   "metadata": {},
   "outputs": [],
   "source": []
  },
  {
   "cell_type": "code",
   "execution_count": null,
   "id": "96b04ac2-9fa3-4de7-a191-b4ad4a32fb88",
   "metadata": {},
   "outputs": [],
   "source": []
  },
  {
   "cell_type": "code",
   "execution_count": null,
   "id": "65c6ca8d-ec74-4f3e-92c5-968c960fd89b",
   "metadata": {},
   "outputs": [],
   "source": []
  },
  {
   "cell_type": "code",
   "execution_count": null,
   "id": "f9344306-76eb-4073-b82a-e81c21d64408",
   "metadata": {},
   "outputs": [],
   "source": [
    "#  What do the Persons who had fraudulent transactions have in common ?\n",
    "#\n",
    "#     (They all shopped at JC Penney, .. .. then had a fraudulent charge somewhere else)\n",
    "\n",
    "l_result = my_graph.query(\"\"\"\n",
    "\n",
    "   MATCH (n: Person) - [ r: MADE_PURCHASE ] -> (m: Store)\n",
    "   \n",
    "   WITH n.id as xxx, n.person_name as yyy, COLLECT ({eee: m.id, fff: r.IS_FRAUDULENT, ggg: r.DATE_AS_STRING}) AS zzz\n",
    "   \n",
    "   // WHERE {eee: '101'} IN zzz\n",
    "   WHERE zzz.eee = 101\n",
    "    \n",
    "   RETURN xxx, yyy, zzz\n",
    "   \n",
    "   \n",
    "   \n",
    "   \"\"\", contextualize=True)\n",
    "\n",
    "l_result.view()\n"
   ]
  },
  {
   "cell_type": "code",
   "execution_count": null,
   "id": "1665972d-dbf3-4f44-86fe-609435a91c39",
   "metadata": {},
   "outputs": [],
   "source": []
  },
  {
   "cell_type": "code",
   "execution_count": null,
   "id": "e00e4465-0e39-4c29-b83c-d0c6785d4a8c",
   "metadata": {},
   "outputs": [],
   "source": []
  },
  {
   "cell_type": "code",
   "execution_count": null,
   "id": "e45bdacc-4122-4c20-b71b-305a17fa9aec",
   "metadata": {},
   "outputs": [],
   "source": []
  },
  {
   "cell_type": "code",
   "execution_count": null,
   "id": "45785a43-a3c2-4829-bf1e-1cdc4baf08c5",
   "metadata": {},
   "outputs": [],
   "source": []
  },
  {
   "cell_type": "code",
   "execution_count": null,
   "id": "1d225ae6-b2f0-469c-af58-a3b25f83bdd5",
   "metadata": {},
   "outputs": [],
   "source": []
  },
  {
   "cell_type": "code",
   "execution_count": null,
   "id": "dd04c34e-ef62-4068-9669-18ddf6422db4",
   "metadata": {},
   "outputs": [],
   "source": []
  },
  {
   "cell_type": "code",
   "execution_count": null,
   "id": "5f1358a2-23ea-4ce6-8b1f-9650ce7d1ea7",
   "metadata": {},
   "outputs": [],
   "source": []
  }
 ],
 "metadata": {
  "kernelspec": {
   "display_name": "Python 3 (ipykernel)",
   "language": "python",
   "name": "python3"
  },
  "language_info": {
   "codemirror_mode": {
    "name": "ipython",
    "version": 3
   },
   "file_extension": ".py",
   "mimetype": "text/x-python",
   "name": "python",
   "nbconvert_exporter": "python",
   "pygments_lexer": "ipython3",
   "version": "3.8.13"
  }
 },
 "nbformat": 4,
 "nbformat_minor": 5
}
