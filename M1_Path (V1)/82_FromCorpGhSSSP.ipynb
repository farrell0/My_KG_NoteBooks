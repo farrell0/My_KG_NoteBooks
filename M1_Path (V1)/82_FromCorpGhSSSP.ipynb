{
 "cells": [
  {
   "cell_type": "markdown",
   "id": "fcb5bbbb-6a57-4388-aa7d-4a2413522df2",
   "metadata": {
    "tags": []
   },
   "source": [
    "####  Connectivity stuff .."
   ]
  },
  {
   "cell_type": "code",
   "execution_count": null,
   "id": "aeeb0934-8e74-4a82-97e8-c671c4080769",
   "metadata": {},
   "outputs": [],
   "source": [
    "#  From,\n",
    "#\n",
    "#     https://github.com/KatanaGraph/katana-enterprise/blob/master/python/test/notebooks/red/analytics_remote.ipynb\n"
   ]
  },
  {
   "cell_type": "code",
   "execution_count": 1,
   "id": "55e90465-e651-45c0-94b2-1ce2cde47977",
   "metadata": {},
   "outputs": [
    {
     "name": "stderr",
     "output_type": "stream",
     "text": [
      "VERBOSE: ../../../../external/katana/libgalois/include/katana/AsyncPool.h:152: 12983: async pool tids: 140042377660160, 140042291414784\n",
      "VERBOSE: ../../../../external/katana/libgalois/include/katana/AsyncPool.h:152: 12983: async pool tids: 140042289313536, 140042285115136\n",
      "VERBOSE: ../../../../external/katana/libgalois/include/katana/AsyncPool.h:152: 12983: async pool tids: 140042280916736, 140042272524032\n",
      "VERBOSE: ../../../../external/katana/libgalois/include/katana/AsyncPool.h:152: 12983: async pool tids: 140042264131328, 140042247350016\n",
      "VERBOSE: ../../../../external/katana/libgalois/include/katana/AsyncPool.h:152: 12983: async pool tids: 140042230568704, 140042228467456\n"
     ]
    },
    {
     "name": "stdout",
     "output_type": "stream",
     "text": [
      "<katana_enterprise.remote.sync_wrappers.Client object at 0x7f5e67022430>\n"
     ]
    }
   ],
   "source": [
    "# import os\n",
    "\n",
    "from katana import remote\n",
    "from katana.remote import import_data\n",
    "\n",
    "\n",
    "# os.environ[\"KATANA_SERVER_ADDRESS\"] = \"localhost:8080\"\n",
    "\n",
    "my_client = remote.Client()\n",
    "\n",
    "print(my_client)"
   ]
  },
  {
   "cell_type": "code",
   "execution_count": 2,
   "id": "04b19ed9-0238-4a6f-afd0-fa11a3b0328b",
   "metadata": {},
   "outputs": [
    {
     "name": "stdout",
     "output_type": "stream",
     "text": [
      "--\n"
     ]
    }
   ],
   "source": [
    "DB_NAME    = \"my_db\"\n",
    "GRAPH_NAME = \"my_graph\"\n",
    "\n",
    "print(\"--\")"
   ]
  },
  {
   "cell_type": "code",
   "execution_count": null,
   "id": "fdbf0edf-ac12-4c59-914e-914ab1fee6ff",
   "metadata": {},
   "outputs": [],
   "source": [
    "#  DELETE ALL GRAPHS\n",
    "\n",
    "for l_database in my_client.databases():\n",
    "   for l_graph in my_client.get_database(name=l_database.name).graphs_in_database():\n",
    "      l_handle=my_client.get_database(name=l_database.name).get_graph_by_id(id=l_graph.graph_id)\n",
    "      l_handle.delete()\n",
    "\n",
    "for l_graph in my_client.graphs():\n",
    "   print(\"GRAPH ID: \", l_graph.graph_id, \"      GRAPH Version: \", l_graph.version)\n",
    "\n",
    "print(\"--\")"
   ]
  },
  {
   "cell_type": "code",
   "execution_count": null,
   "id": "3601e08b-4626-41a8-8696-d44d32cae26d",
   "metadata": {},
   "outputs": [],
   "source": [
    "#  DELETE ALL DATABASES\n",
    "\n",
    "for l_database in my_client.databases():\n",
    "   if (l_database.name != \"default\"):\n",
    "      my_client.get_database(name=l_database.name).delete_database()\n",
    "      print(\"--\")\n",
    "\n",
    "for l_database in my_client.databases():\n",
    "   print(\"DB ID: \", l_database.database_id, \"     DB Name: \", l_database.name)"
   ]
  },
  {
   "cell_type": "code",
   "execution_count": null,
   "id": "15f6a288-bb75-44d4-a630-33e9b02d9d83",
   "metadata": {},
   "outputs": [],
   "source": [
    "#  CREATE DATABASE\n",
    "\n",
    "my_database = my_client.create_database(name=DB_NAME)\n",
    "\n",
    "print(my_database.database_id)"
   ]
  },
  {
   "cell_type": "code",
   "execution_count": null,
   "id": "b49976dc-517e-442d-baa2-ff9a47d55e34",
   "metadata": {},
   "outputs": [],
   "source": [
    "#  CREATE GRAPH\n",
    "#\n",
    "my_graph = my_client.get_database(name=DB_NAME).create_graph(name=GRAPH_NAME, num_partitions=2)\n",
    "\n",
    "print(my_graph)"
   ]
  },
  {
   "cell_type": "code",
   "execution_count": 3,
   "id": "60449360-363a-48ae-bd55-9527b880e3e5",
   "metadata": {},
   "outputs": [
    {
     "name": "stdout",
     "output_type": "stream",
     "text": [
      "<_Graph my_graph, 2hbu4gHU6ycW7cmt2SWQ1dBeN9qUGZ2nvfygQFNQNpx6, 0>\n"
     ]
    }
   ],
   "source": [
    "#  CONNECT TO GRAPH\n",
    "\n",
    "for l_graph in my_client.get_database(name=DB_NAME).graphs_in_database():\n",
    "   if (l_graph.name == GRAPH_NAME):\n",
    "      my_graph=my_client.get_database(name=DB_NAME).get_graph_by_id(id=l_graph.graph_id)\n",
    "         #\n",
    "      break\n",
    "\n",
    "print(my_graph)"
   ]
  },
  {
   "cell_type": "markdown",
   "id": "6b618690-f0b6-4701-9405-5c58574c1094",
   "metadata": {
    "tags": []
   },
   "source": [
    "####  Libraries specfic to Analytics .."
   ]
  },
  {
   "cell_type": "code",
   "execution_count": 4,
   "id": "3ecba69c-0a0f-4a51-a02e-55973ec51242",
   "metadata": {},
   "outputs": [
    {
     "name": "stdout",
     "output_type": "stream",
     "text": [
      "--\n"
     ]
    }
   ],
   "source": [
    "\n",
    "import numpy as np\n",
    "from katana import remote\n",
    "from katana.remote import analytics, import_data\n",
    "from katana_enterprise.distributed import PartitionPolicy\n",
    "# from util import notebook_config\n",
    "\n",
    "print(\"--\")\n"
   ]
  },
  {
   "cell_type": "markdown",
   "id": "e2f0bfda-6092-4263-8857-c61af622908b",
   "metadata": {},
   "source": [
    "####  Actual analytics"
   ]
  },
  {
   "cell_type": "code",
   "execution_count": null,
   "id": "aaa17081-3fe9-41cb-9e8a-5bb29e516ce0",
   "metadata": {},
   "outputs": [],
   "source": [
    "\n",
    "#  This was code from the online example; I don't run this ..\n",
    "# \n",
    "# graph_path = nbconf.get_rdg_dataset_path(\n",
    "#    \"rmat10_symmetric\", \"gs://katana-demo-datasets/rdg-datasets/v3/rmat10_symmetric\"\n",
    "# )\n",
    "# \n",
    "# import_data.rdg(graph, graph_path)\n"
   ]
  },
  {
   "cell_type": "code",
   "execution_count": null,
   "id": "c639544b-4654-45ef-ac95-d284c58351a2",
   "metadata": {},
   "outputs": [],
   "source": [
    "\n",
    "#  This was code from the online example; I don't run this ..\n",
    "# \n",
    "# prop_name           = unique_name(\"sssp_dist\")\n",
    "# source              = nbconf.choice(0, [0, 1, 2, 3, 4, 5, 6, 8, 9])\n",
    "# sssp_max_iterations = nbconf.range_int(1, min=1, max=2, step=1)\n",
    "# sssp_delta          = nbconf.range_int(0, min=0, max=10, step=1)\n",
    "# \n",
    "# \n",
    "# analytics.sssp(\n",
    "#     graph,\n",
    "#     weight_property=\"value\",\n",
    "#     source=source,\n",
    "#     result_property_name=prop_name,\n",
    "#     max_iterations=sssp_max_iterations,\n",
    "#     delta=sssp_delta,\n",
    "# )\n",
    "# \n",
    "# result = graph.query(\n",
    "#     f\"\"\"\n",
    "#     MATCH (n) \n",
    "#     RETURN n, n.{prop_name}\n",
    "#     ORDER BY n.{prop_name}\n",
    "#     LIMIT 30\n",
    "#     \"\"\",\n",
    "#     contextualize=True,\n",
    "# )\n",
    "# \n",
    "# for node_sssp in result[f\"n.{prop_name}\"].values:\n",
    "#     node_sssp = node_sssp[0]\n",
    "#     assert node_sssp == 0\n",
    "# \n",
    "# result.view()\n"
   ]
  },
  {
   "cell_type": "code",
   "execution_count": null,
   "id": "dd06fe66-0a3b-4939-bdbf-4bdd2b3dd230",
   "metadata": {},
   "outputs": [
    {
     "data": {
      "application/vnd.jupyter.widget-view+json": {
       "model_id": "1d22216dc0cb41bab8376d666caecb57",
       "version_major": 2,
       "version_minor": 0
      },
      "text/plain": [
       "          0/? [?op/s]"
      ]
     },
     "metadata": {},
     "output_type": "display_data"
    }
   ],
   "source": [
    "\n",
    "\n",
    "l_prop_name           = \"airport_code\" # \"bob\"\n",
    "l_source              = 2\n",
    "l_sssp_max_iterations = 5 # 1000 # 5\n",
    "l_sssp_delta          = 0\n",
    "\n",
    "\n",
    "analytics.sssp(\n",
    "    my_graph,\n",
    "    weight_property      = \"LENGTH\",\n",
    "    source               = l_source,\n",
    "    result_property_name = l_prop_name,\n",
    "    max_iterations       = l_sssp_max_iterations,\n",
    "    delta                = l_sssp_delta,\n",
    ")\n",
    "\n",
    "print(\"--\")\n"
   ]
  },
  {
   "cell_type": "code",
   "execution_count": null,
   "id": "051fc660-ea99-4f89-b4b3-0124afe73127",
   "metadata": {},
   "outputs": [],
   "source": [
    "\n",
    "l_result = my_graph.query(\n",
    "    \"\"\"\n",
    "    MATCH (n) \n",
    "    RETURN n // , n.{l_prop_name}\n",
    "    // ORDER BY n.{l_prop_name}\n",
    "    // LIMIT 30\n",
    "    \"\"\",\n",
    "    # contextualize=True,\n",
    "   )\n",
    "\n",
    "\n"
   ]
  },
  {
   "cell_type": "code",
   "execution_count": null,
   "id": "1116bc8f-f2cc-4e02-a673-1d6bab75ab37",
   "metadata": {},
   "outputs": [],
   "source": []
  },
  {
   "cell_type": "code",
   "execution_count": null,
   "id": "cfdc9880-ef15-4acc-9a9c-0872ef9f8b78",
   "metadata": {},
   "outputs": [],
   "source": [
    "# ##################################################################"
   ]
  }
 ],
 "metadata": {
  "kernelspec": {
   "display_name": "Python 3 (ipykernel)",
   "language": "python",
   "name": "python3"
  },
  "language_info": {
   "codemirror_mode": {
    "name": "ipython",
    "version": 3
   },
   "file_extension": ".py",
   "mimetype": "text/x-python",
   "name": "python",
   "nbconvert_exporter": "python",
   "pygments_lexer": "ipython3",
   "version": "3.8.13"
  }
 },
 "nbformat": 4,
 "nbformat_minor": 5
}
