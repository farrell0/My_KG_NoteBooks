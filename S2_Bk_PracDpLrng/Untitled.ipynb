{
 "cells": [
  {
   "cell_type": "code",
   "execution_count": 7,
   "id": "bb4d746f-328c-42b1-87bd-75ee681009dd",
   "metadata": {},
   "outputs": [
    {
     "name": "stdout",
     "output_type": "stream",
     "text": [
      "--\n"
     ]
    }
   ],
   "source": [
    "\n",
    "from tabulate import tabulate\n",
    "\n",
    "\n",
    "class MyHistory:\n",
    "  \n",
    "   __my_history = []\n",
    "    \n",
    "   def append(self, i_str):\n",
    "      self.__my_history.append(i_str)\n",
    "        \n",
    "   def clear(self):\n",
    "      self.__my_history = []\n",
    "        \n",
    "   def __str__(self):\n",
    "      return(self.__my_history)\n",
    "   \n",
    "\n",
    "   def __iter__(self):\n",
    "      return self    \n",
    "\n",
    "   def __next__(self):\n",
    "      if self._current_index < self._class_size:\n",
    "         if self._current_index < len(self._lect):\n",
    "            member = self._lect[self._current_index] \n",
    "         else:\n",
    "            member = self._stud[self._current_index - len(self._lect)]            \n",
    "            self._current_index += 1\n",
    "      return member        \n",
    "\n",
    "      raise StopIteration\n",
    "\n",
    "\n",
    "\n",
    "\n",
    "l_history = MyHistory() \n",
    "\n",
    "print(\"--\")\n",
    "\n"
   ]
  },
  {
   "cell_type": "code",
   "execution_count": 8,
   "id": "03a8e04d-db41-4fde-af76-8224cee886cc",
   "metadata": {},
   "outputs": [
    {
     "ename": "AttributeError",
     "evalue": "'MyHistory' object has no attribute '_current_index'",
     "output_type": "error",
     "traceback": [
      "\u001b[0;31m---------------------------------------------------------------------------\u001b[0m",
      "\u001b[0;31mAttributeError\u001b[0m                            Traceback (most recent call last)",
      "Cell \u001b[0;32mIn[8], line 7\u001b[0m\n\u001b[1;32m      4\u001b[0m l_history\u001b[38;5;241m.\u001b[39mappend(\u001b[38;5;124m\"\u001b[39m\u001b[38;5;124mEEE\u001b[39m\u001b[38;5;124m\"\u001b[39m)\n\u001b[1;32m      6\u001b[0m \u001b[38;5;66;03m# print(l_history)\u001b[39;00m\n\u001b[0;32m----> 7\u001b[0m \u001b[38;5;28mprint\u001b[39m(\u001b[43mtabulate\u001b[49m\u001b[43m(\u001b[49m\u001b[43ml_history\u001b[49m\u001b[43m)\u001b[49m)\n",
      "File \u001b[0;32m/opt/conda/lib/python3.8/site-packages/tabulate/__init__.py:2048\u001b[0m, in \u001b[0;36mtabulate\u001b[0;34m(tabular_data, headers, tablefmt, floatfmt, intfmt, numalign, stralign, missingval, showindex, disable_numparse, colalign, maxcolwidths, rowalign, maxheadercolwidths)\u001b[0m\n\u001b[1;32m   2045\u001b[0m \u001b[38;5;28;01mif\u001b[39;00m tabular_data \u001b[38;5;129;01mis\u001b[39;00m \u001b[38;5;28;01mNone\u001b[39;00m:\n\u001b[1;32m   2046\u001b[0m     tabular_data \u001b[38;5;241m=\u001b[39m []\n\u001b[0;32m-> 2048\u001b[0m list_of_lists, headers \u001b[38;5;241m=\u001b[39m \u001b[43m_normalize_tabular_data\u001b[49m\u001b[43m(\u001b[49m\n\u001b[1;32m   2049\u001b[0m \u001b[43m    \u001b[49m\u001b[43mtabular_data\u001b[49m\u001b[43m,\u001b[49m\u001b[43m \u001b[49m\u001b[43mheaders\u001b[49m\u001b[43m,\u001b[49m\u001b[43m \u001b[49m\u001b[43mshowindex\u001b[49m\u001b[38;5;241;43m=\u001b[39;49m\u001b[43mshowindex\u001b[49m\n\u001b[1;32m   2050\u001b[0m \u001b[43m\u001b[49m\u001b[43m)\u001b[49m\n\u001b[1;32m   2051\u001b[0m list_of_lists, separating_lines \u001b[38;5;241m=\u001b[39m _remove_separating_lines(list_of_lists)\n\u001b[1;32m   2053\u001b[0m \u001b[38;5;28;01mif\u001b[39;00m maxcolwidths \u001b[38;5;129;01mis\u001b[39;00m \u001b[38;5;129;01mnot\u001b[39;00m \u001b[38;5;28;01mNone\u001b[39;00m:\n",
      "File \u001b[0;32m/opt/conda/lib/python3.8/site-packages/tabulate/__init__.py:1379\u001b[0m, in \u001b[0;36m_normalize_tabular_data\u001b[0;34m(tabular_data, headers, showindex)\u001b[0m\n\u001b[1;32m   1376\u001b[0m         headers \u001b[38;5;241m=\u001b[39m \u001b[38;5;28mlist\u001b[39m(\u001b[38;5;28mmap\u001b[39m(\u001b[38;5;28mstr\u001b[39m, keys))  \u001b[38;5;66;03m# headers should be strings\u001b[39;00m\n\u001b[1;32m   1378\u001b[0m \u001b[38;5;28;01melse\u001b[39;00m:  \u001b[38;5;66;03m# it's a usual iterable of iterables, or a NumPy array, or an iterable of dataclasses\u001b[39;00m\n\u001b[0;32m-> 1379\u001b[0m     rows \u001b[38;5;241m=\u001b[39m \u001b[38;5;28;43mlist\u001b[39;49m\u001b[43m(\u001b[49m\u001b[43mtabular_data\u001b[49m\u001b[43m)\u001b[49m\n\u001b[1;32m   1381\u001b[0m     \u001b[38;5;28;01mif\u001b[39;00m headers \u001b[38;5;241m==\u001b[39m \u001b[38;5;124m\"\u001b[39m\u001b[38;5;124mkeys\u001b[39m\u001b[38;5;124m\"\u001b[39m \u001b[38;5;129;01mand\u001b[39;00m \u001b[38;5;129;01mnot\u001b[39;00m rows:\n\u001b[1;32m   1382\u001b[0m         \u001b[38;5;66;03m# an empty table (issue #81)\u001b[39;00m\n\u001b[1;32m   1383\u001b[0m         headers \u001b[38;5;241m=\u001b[39m []\n",
      "Cell \u001b[0;32mIn[7], line 22\u001b[0m, in \u001b[0;36mMyHistory.__next__\u001b[0;34m(self)\u001b[0m\n\u001b[1;32m     21\u001b[0m \u001b[38;5;28;01mdef\u001b[39;00m \u001b[38;5;21m__next__\u001b[39m(\u001b[38;5;28mself\u001b[39m):\n\u001b[0;32m---> 22\u001b[0m    \u001b[38;5;28;01mif\u001b[39;00m \u001b[38;5;28;43mself\u001b[39;49m\u001b[38;5;241;43m.\u001b[39;49m\u001b[43m_current_index\u001b[49m \u001b[38;5;241m<\u001b[39m \u001b[38;5;28mself\u001b[39m\u001b[38;5;241m.\u001b[39m_class_size:\n\u001b[1;32m     23\u001b[0m       \u001b[38;5;28;01mif\u001b[39;00m \u001b[38;5;28mself\u001b[39m\u001b[38;5;241m.\u001b[39m_current_index \u001b[38;5;241m<\u001b[39m \u001b[38;5;28mlen\u001b[39m(\u001b[38;5;28mself\u001b[39m\u001b[38;5;241m.\u001b[39m_lect):\n\u001b[1;32m     24\u001b[0m          member \u001b[38;5;241m=\u001b[39m \u001b[38;5;28mself\u001b[39m\u001b[38;5;241m.\u001b[39m_lect[\u001b[38;5;28mself\u001b[39m\u001b[38;5;241m.\u001b[39m_current_index] \n",
      "\u001b[0;31mAttributeError\u001b[0m: 'MyHistory' object has no attribute '_current_index'"
     ]
    }
   ],
   "source": [
    "\n",
    "l_history.clear()\n",
    "\n",
    "l_history.append(\"DDD\")\n",
    "l_history.append(\"EEE\")\n",
    "\n",
    "# print(l_history)\n",
    "print(tabulate(l_history))\n",
    "\n",
    "\n"
   ]
  },
  {
   "cell_type": "code",
   "execution_count": null,
   "id": "11354f6d-1e29-4fae-9b8a-05a0a60d2a2c",
   "metadata": {},
   "outputs": [],
   "source": []
  },
  {
   "cell_type": "code",
   "execution_count": null,
   "id": "724e58e8-e194-4c62-9a61-0a78f212a408",
   "metadata": {},
   "outputs": [],
   "source": []
  },
  {
   "cell_type": "code",
   "execution_count": null,
   "id": "2511b91a-c1c3-441c-9259-cf93cc052589",
   "metadata": {},
   "outputs": [],
   "source": []
  },
  {
   "cell_type": "code",
   "execution_count": null,
   "id": "97d68454-bc0c-451d-b2f7-f5fe5f3336d6",
   "metadata": {},
   "outputs": [],
   "source": []
  },
  {
   "cell_type": "code",
   "execution_count": null,
   "id": "7ff37beb-d11d-472a-9f4c-1d5f79f97898",
   "metadata": {},
   "outputs": [],
   "source": []
  }
 ],
 "metadata": {
  "kernelspec": {
   "display_name": "Python 3 (ipykernel)",
   "language": "python",
   "name": "python3"
  },
  "language_info": {
   "codemirror_mode": {
    "name": "ipython",
    "version": 3
   },
   "file_extension": ".py",
   "mimetype": "text/x-python",
   "name": "python",
   "nbconvert_exporter": "python",
   "pygments_lexer": "ipython3",
   "version": "3.8.13"
  }
 },
 "nbformat": 4,
 "nbformat_minor": 5
}
