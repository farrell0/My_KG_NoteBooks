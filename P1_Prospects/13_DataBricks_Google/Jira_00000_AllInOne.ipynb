{
 "cells": [
  {
   "cell_type": "markdown",
   "id": "c54fd830-1317-4a52-b610-ef9716e5d744",
   "metadata": {
    "tags": []
   },
   "source": [
    "#  Setup: Display options"
   ]
  },
  {
   "cell_type": "code",
   "execution_count": 1,
   "id": "8a38ebd7-d1d9-47a8-955c-a8270b024543",
   "metadata": {},
   "outputs": [
    {
     "data": {
      "text/html": [],
      "text/plain": [
       "<IPython.core.display.HTML object>"
      ]
     },
     "metadata": {},
     "output_type": "display_data"
    },
    {
     "name": "stdout",
     "output_type": "stream",
     "text": [
      "--\n"
     ]
    }
   ],
   "source": [
    "\n",
    "#  Setting display options \n",
    "\n",
    "import pandas as pd\n",
    "   #\n",
    "pd.set_option(\"display.width\", 480)\n",
    "\n",
    "#  Sets horizontal scroll for wide outputs\n",
    "#\n",
    "from IPython.display import display, HTML\n",
    "display(HTML(\"\"))\n",
    "\n",
    "from tabulate import tabulate\n",
    "\n",
    "print(\"--\")\n"
   ]
  },
  {
   "cell_type": "markdown",
   "id": "3ab7ce90-67cf-462c-94a6-3c8c9d0754b3",
   "metadata": {},
   "source": [
    "# Setup: Connectivity"
   ]
  },
  {
   "cell_type": "code",
   "execution_count": 2,
   "id": "e87b75ba-c072-4111-8cca-4b4f394a0fce",
   "metadata": {},
   "outputs": [
    {
     "name": "stdout",
     "output_type": "stream",
     "text": [
      "<katana_enterprise.remote.sync_wrappers.Client object at 0x7f82e434ae50>\n"
     ]
    }
   ],
   "source": [
    "\n",
    "from katana import remote\n",
    "\n",
    "my_client = remote.Client()\n",
    "\n",
    "print(my_client)\n"
   ]
  },
  {
   "cell_type": "code",
   "execution_count": 3,
   "id": "d3a77f99-f11b-4105-ab43-17ce605b15e8",
   "metadata": {},
   "outputs": [
    {
     "name": "stdout",
     "output_type": "stream",
     "text": [
      "--\n"
     ]
    }
   ],
   "source": [
    "\n",
    "NUM_PARTITIONS  = 3\n",
    "   #\n",
    "DB_NAME         = \"my_db\"\n",
    "GRAPH_NAME      = \"my_graph\"\n",
    "\n",
    "print(\"--\")\n"
   ]
  },
  {
   "cell_type": "code",
   "execution_count": 4,
   "id": "7f2292b8-7df0-49a0-b3da-523f56cfe4f8",
   "metadata": {},
   "outputs": [
    {
     "name": "stdout",
     "output_type": "stream",
     "text": [
      "--\n"
     ]
    }
   ],
   "source": [
    "\n",
    "#  DELETE ALL GRAPHS\n",
    "\n",
    "for l_database in my_client.databases():\n",
    "   for l_graph in my_client.get_database(name=l_database.name).graphs_in_database():\n",
    "      l_handle=my_client.get_database(name=l_database.name).get_graph_by_id(id=l_graph.graph_id)\n",
    "      l_handle.delete()\n",
    "\n",
    "for l_graph in my_client.graphs():\n",
    "   print(\"GRAPH ID: \", l_graph.graph_id, \"      GRAPH Version: \", l_graph.version)\n",
    "\n",
    "print(\"--\")\n"
   ]
  },
  {
   "cell_type": "code",
   "execution_count": null,
   "id": "71f69a0e-451b-4679-b49c-5db1208d4c8f",
   "metadata": {},
   "outputs": [],
   "source": [
    "\n",
    "#  DELETE ALL DATABASES\n",
    "\n",
    "for l_database in my_client.databases():\n",
    "   if (l_database.name != \"default\"):\n",
    "      my_client.get_database(name=l_database.name).delete_database()\n",
    "      print(\"--\")\n",
    "\n",
    "for l_database in my_client.databases():\n",
    "   print(\"DB ID: \", l_database.database_id, \"     DB Name: \", l_database.name)\n"
   ]
  },
  {
   "cell_type": "code",
   "execution_count": null,
   "id": "a3b3bc00-fafb-481d-ba5a-8b52ae7d6e79",
   "metadata": {},
   "outputs": [],
   "source": [
    "\n",
    "#  CREATE DATABASE\n",
    "\n",
    "my_database = my_client.create_database(name=DB_NAME)\n",
    "\n",
    "print(my_database.database_id)\n"
   ]
  },
  {
   "cell_type": "code",
   "execution_count": 5,
   "id": "b8ba088b-2ec5-4b2a-8171-3c87ddffb47c",
   "metadata": {},
   "outputs": [
    {
     "name": "stdout",
     "output_type": "stream",
     "text": [
      "<_Graph my_graph, AXcnN4F1eu49wbzVbBiG4rGECkiEBqnqnaPJjfA61p9y, 0>\n"
     ]
    }
   ],
   "source": [
    "\n",
    "#  CREATE GRAPH\n",
    "\n",
    "my_graph = my_client.get_database(name=DB_NAME).create_graph(name=GRAPH_NAME, num_partitions=NUM_PARTITIONS)\n",
    "\n",
    "print(my_graph)\n"
   ]
  },
  {
   "cell_type": "code",
   "execution_count": null,
   "id": "863f948b-cec2-42fb-9287-2a3bcf3e8b39",
   "metadata": {},
   "outputs": [],
   "source": [
    "\n",
    "#  CONNECT TO GRAPH\n",
    "\n",
    "my_graph, *_ = my_client.get_database(name=DB_NAME).find_graphs_by_name(GRAPH_NAME)\n",
    "\n",
    "print(my_graph)\n"
   ]
  },
  {
   "cell_type": "markdown",
   "id": "0f9a456b-e425-454d-83a2-5b2c3e7fa666",
   "metadata": {},
   "source": [
    "# Setup: For test .."
   ]
  },
  {
   "cell_type": "code",
   "execution_count": 6,
   "id": "9511e9f3-bf32-4c66-b66c-382ec5e0ee42",
   "metadata": {},
   "outputs": [
    {
     "name": "stdout",
     "output_type": "stream",
     "text": [
      "--\n"
     ]
    }
   ],
   "source": [
    "\n",
    "#   Build a data structure ..\n",
    "#\n",
    "\n",
    "import pandas as pd\n",
    "\n",
    "\n",
    "l_UmlsVocabularyNodes         = [\n",
    "   {\"id\": \"XX-1001\", \"LABEL\": \"UmlsVocabulary\"},\n",
    "   {\"id\": \"XX-1002\", \"LABEL\": \"UmlsVocabulary\"},\n",
    "   {\"id\": \"XX-1003\", \"LABEL\": \"UmlsVocabulary\"},\n",
    "   {\"id\": \"XX-1004\", \"LABEL\": \"UmlsVocabulary\"},\n",
    "   ]\n",
    "\n",
    "#  l_recd3 = { \"id\": \"XX-4000\", \"vocabulary_code\": \"MMM\", \"LABEL\": \"UmlsVocabulary\" }\n",
    "#     #\n",
    "#  l_UmlsVocabularyNodes.append(l_recd3)\n",
    "\n",
    "\n",
    "df_UmlsVocabularyNodes = pd.DataFrame.from_records(l_UmlsVocabularyNodes       ) # .drop_duplicates()\n",
    "\n",
    "\n",
    "print(\"--\")\n",
    "\n"
   ]
  },
  {
   "cell_type": "markdown",
   "id": "e721f96b-147e-4ed6-ad3c-d4621dca8565",
   "metadata": {},
   "source": [
    "#  Step 00:  Actual Test .."
   ]
  },
  {
   "cell_type": "code",
   "execution_count": 7,
   "id": "f89bebcb-a530-4a0a-b4a8-3a38926dfbb1",
   "metadata": {},
   "outputs": [
    {
     "data": {
      "application/vnd.jupyter.widget-view+json": {
       "model_id": "107d33267c14438c992367c512dfd21f",
       "version_major": 2,
       "version_minor": 0
      },
      "text/plain": [
       "          0/? [?op/s]"
      ]
     },
     "metadata": {},
     "output_type": "display_data"
    },
    {
     "ename": "CanceledError",
     "evalue": "",
     "output_type": "error",
     "traceback": [
      "\u001b[0;31m---------------------------------------------------------------------------\u001b[0m",
      "\u001b[0;31mCanceledError\u001b[0m                             Traceback (most recent call last)",
      "Cell \u001b[0;32mIn[7], line 23\u001b[0m\n\u001b[1;32m     14\u001b[0m \u001b[38;5;28;01mwith\u001b[39;00m import_data\u001b[38;5;241m.\u001b[39mDataFrameImporter(my_graph) \u001b[38;5;28;01mas\u001b[39;00m df_importer:   \n\u001b[1;32m     16\u001b[0m    df_importer\u001b[38;5;241m.\u001b[39mnodes_dataframe(\n\u001b[1;32m     17\u001b[0m       df_UmlsVocabularyNodes,\n\u001b[1;32m     18\u001b[0m       id_column             \u001b[38;5;241m=\u001b[39m \u001b[38;5;124m\"\u001b[39m\u001b[38;5;124mid\u001b[39m\u001b[38;5;124m\"\u001b[39m,\n\u001b[1;32m     19\u001b[0m       id_space              \u001b[38;5;241m=\u001b[39m \u001b[38;5;124m\"\u001b[39m\u001b[38;5;124mUmlsVocabulary\u001b[39m\u001b[38;5;124m\"\u001b[39m,  \n\u001b[1;32m     20\u001b[0m       label                 \u001b[38;5;241m=\u001b[39m \u001b[38;5;124m\"\u001b[39m\u001b[38;5;124mUmlsVocabulary\u001b[39m\u001b[38;5;124m\"\u001b[39m,  \n\u001b[1;32m     21\u001b[0m       ) \n\u001b[0;32m---> 23\u001b[0m    df_importer\u001b[38;5;241m.\u001b[39minsert()\n\u001b[1;32m     25\u001b[0m \u001b[38;5;28mprint\u001b[39m(\u001b[38;5;124m\"\u001b[39m\u001b[38;5;124m--\u001b[39m\u001b[38;5;124m\"\u001b[39m)\n",
      "File \u001b[0;32m/opt/conda/lib/python3.8/site-packages/katana_enterprise/async_to_sync.py:259\u001b[0m, in \u001b[0;36mAsyncToSync.<locals>.do_wrap.<locals>.wrapper\u001b[0;34m(self, *args, **kwargs)\u001b[0m\n\u001b[1;32m    256\u001b[0m \u001b[38;5;129m@wraps\u001b[39m(underlying_func)\n\u001b[1;32m    257\u001b[0m \u001b[38;5;28;01mdef\u001b[39;00m \u001b[38;5;21mwrapper\u001b[39m(\u001b[38;5;28mself\u001b[39m, \u001b[38;5;241m*\u001b[39margs, \u001b[38;5;241m*\u001b[39m\u001b[38;5;241m*\u001b[39mkwargs):\n\u001b[1;32m    258\u001b[0m     \u001b[38;5;28;01mreturn\u001b[39;00m registry\u001b[38;5;241m.\u001b[39masync_to_sync(\n\u001b[0;32m--> 259\u001b[0m         \u001b[43munderlying_func\u001b[49m\u001b[43m(\u001b[49m\n\u001b[1;32m    260\u001b[0m \u001b[43m            \u001b[49m\u001b[43mget_self_func\u001b[49m\u001b[43m(\u001b[49m\u001b[38;5;28;43mself\u001b[39;49m\u001b[43m)\u001b[49m\u001b[43m,\u001b[49m\n\u001b[1;32m    261\u001b[0m \u001b[43m            \u001b[49m\u001b[38;5;241;43m*\u001b[39;49m\u001b[43m(\u001b[49m\u001b[43mregistry\u001b[49m\u001b[38;5;241;43m.\u001b[39;49m\u001b[43msync_to_async\u001b[49m\u001b[43m(\u001b[49m\u001b[43ma\u001b[49m\u001b[43m)\u001b[49m\u001b[43m \u001b[49m\u001b[38;5;28;43;01mfor\u001b[39;49;00m\u001b[43m \u001b[49m\u001b[43ma\u001b[49m\u001b[43m \u001b[49m\u001b[38;5;129;43;01min\u001b[39;49;00m\u001b[43m \u001b[49m\u001b[43margs\u001b[49m\u001b[43m)\u001b[49m\u001b[43m,\u001b[49m\n\u001b[1;32m    262\u001b[0m \u001b[43m            \u001b[49m\u001b[38;5;241;43m*\u001b[39;49m\u001b[38;5;241;43m*\u001b[39;49m\u001b[43m{\u001b[49m\u001b[43mk\u001b[49m\u001b[43m:\u001b[49m\u001b[43m \u001b[49m\u001b[43mregistry\u001b[49m\u001b[38;5;241;43m.\u001b[39;49m\u001b[43msync_to_async\u001b[49m\u001b[43m(\u001b[49m\u001b[43mv\u001b[49m\u001b[43m)\u001b[49m\u001b[43m \u001b[49m\u001b[38;5;28;43;01mfor\u001b[39;49;00m\u001b[43m \u001b[49m\u001b[43mk\u001b[49m\u001b[43m,\u001b[49m\u001b[43m \u001b[49m\u001b[43mv\u001b[49m\u001b[43m \u001b[49m\u001b[38;5;129;43;01min\u001b[39;49;00m\u001b[43m \u001b[49m\u001b[43mkwargs\u001b[49m\u001b[38;5;241;43m.\u001b[39;49m\u001b[43mitems\u001b[49m\u001b[43m(\u001b[49m\u001b[43m)\u001b[49m\u001b[43m}\u001b[49m\u001b[43m,\u001b[49m\n\u001b[1;32m    263\u001b[0m \u001b[43m        \u001b[49m\u001b[43m)\u001b[49m\n\u001b[1;32m    264\u001b[0m     )\n",
      "File \u001b[0;32m/opt/conda/lib/python3.8/site-packages/katana_enterprise/async_to_sync.py:176\u001b[0m, in \u001b[0;36masync_to_sync.<locals>.wrapper\u001b[0;34m(timeout, *args, **kwargs)\u001b[0m\n\u001b[1;32m    166\u001b[0m     registry \u001b[38;5;241m=\u001b[39m AsyncToSyncClassRegistry\u001b[38;5;241m.\u001b[39mget()\n\u001b[1;32m    167\u001b[0m     \u001b[38;5;28;01mreturn\u001b[39;00m registry\u001b[38;5;241m.\u001b[39masync_to_sync(\n\u001b[1;32m    168\u001b[0m         wait_for(\n\u001b[1;32m    169\u001b[0m             async_func(\n\u001b[0;32m   (...)\u001b[0m\n\u001b[1;32m    174\u001b[0m         )\n\u001b[1;32m    175\u001b[0m     )\n\u001b[0;32m--> 176\u001b[0m \u001b[38;5;28;01mreturn\u001b[39;00m \u001b[43mwait_for\u001b[49m\u001b[43m(\u001b[49m\u001b[43masync_func\u001b[49m\u001b[43m(\u001b[49m\u001b[38;5;241;43m*\u001b[39;49m\u001b[43margs\u001b[49m\u001b[43m,\u001b[49m\u001b[43m \u001b[49m\u001b[38;5;241;43m*\u001b[39;49m\u001b[38;5;241;43m*\u001b[39;49m\u001b[43mkwargs\u001b[49m\u001b[43m)\u001b[49m\u001b[43m,\u001b[49m\u001b[43m \u001b[49m\u001b[43mtimeout\u001b[49m\u001b[38;5;241;43m=\u001b[39;49m\u001b[43mtimeout\u001b[49m\u001b[43m)\u001b[49m\n",
      "File \u001b[0;32m/opt/conda/lib/python3.8/site-packages/katana_enterprise/async_to_sync.py:147\u001b[0m, in \u001b[0;36mwait_for\u001b[0;34m(coro, timeout)\u001b[0m\n\u001b[1;32m    145\u001b[0m \u001b[38;5;28;01mtry\u001b[39;00m:\n\u001b[1;32m    146\u001b[0m     future \u001b[38;5;241m=\u001b[39m asyncio\u001b[38;5;241m.\u001b[39mrun_coroutine_threadsafe(timeout_coro, loop\u001b[38;5;241m=\u001b[39mAsyncRunnerThread\u001b[38;5;241m.\u001b[39mget()\u001b[38;5;241m.\u001b[39mloop)\n\u001b[0;32m--> 147\u001b[0m     \u001b[38;5;28;01mreturn\u001b[39;00m \u001b[43mfuture\u001b[49m\u001b[38;5;241;43m.\u001b[39;49m\u001b[43mresult\u001b[49m\u001b[43m(\u001b[49m\u001b[43m)\u001b[49m\n\u001b[1;32m    148\u001b[0m \u001b[38;5;28;01mexcept\u001b[39;00m \u001b[38;5;167;01mKeyboardInterrupt\u001b[39;00m:\n\u001b[1;32m    149\u001b[0m     inner_future\u001b[38;5;241m.\u001b[39mcancel()\n",
      "File \u001b[0;32m/opt/conda/lib/python3.8/concurrent/futures/_base.py:444\u001b[0m, in \u001b[0;36mFuture.result\u001b[0;34m(self, timeout)\u001b[0m\n\u001b[1;32m    442\u001b[0m     \u001b[38;5;28;01mraise\u001b[39;00m CancelledError()\n\u001b[1;32m    443\u001b[0m \u001b[38;5;28;01melif\u001b[39;00m \u001b[38;5;28mself\u001b[39m\u001b[38;5;241m.\u001b[39m_state \u001b[38;5;241m==\u001b[39m FINISHED:\n\u001b[0;32m--> 444\u001b[0m     \u001b[38;5;28;01mreturn\u001b[39;00m \u001b[38;5;28;43mself\u001b[39;49m\u001b[38;5;241;43m.\u001b[39;49m\u001b[43m__get_result\u001b[49m\u001b[43m(\u001b[49m\u001b[43m)\u001b[49m\n\u001b[1;32m    445\u001b[0m \u001b[38;5;28;01melse\u001b[39;00m:\n\u001b[1;32m    446\u001b[0m     \u001b[38;5;28;01mraise\u001b[39;00m \u001b[38;5;167;01mTimeoutError\u001b[39;00m()\n",
      "File \u001b[0;32m/opt/conda/lib/python3.8/concurrent/futures/_base.py:389\u001b[0m, in \u001b[0;36mFuture.__get_result\u001b[0;34m(self)\u001b[0m\n\u001b[1;32m    387\u001b[0m \u001b[38;5;28;01mif\u001b[39;00m \u001b[38;5;28mself\u001b[39m\u001b[38;5;241m.\u001b[39m_exception:\n\u001b[1;32m    388\u001b[0m     \u001b[38;5;28;01mtry\u001b[39;00m:\n\u001b[0;32m--> 389\u001b[0m         \u001b[38;5;28;01mraise\u001b[39;00m \u001b[38;5;28mself\u001b[39m\u001b[38;5;241m.\u001b[39m_exception\n\u001b[1;32m    390\u001b[0m     \u001b[38;5;28;01mfinally\u001b[39;00m:\n\u001b[1;32m    391\u001b[0m         \u001b[38;5;66;03m# Break a reference cycle with the exception in self._exception\u001b[39;00m\n\u001b[1;32m    392\u001b[0m         \u001b[38;5;28mself\u001b[39m \u001b[38;5;241m=\u001b[39m \u001b[38;5;28;01mNone\u001b[39;00m\n",
      "File \u001b[0;32m/opt/conda/lib/python3.8/asyncio/tasks.py:455\u001b[0m, in \u001b[0;36mwait_for\u001b[0;34m(fut, timeout, loop)\u001b[0m\n\u001b[1;32m    450\u001b[0m     warnings\u001b[38;5;241m.\u001b[39mwarn(\u001b[38;5;124m\"\u001b[39m\u001b[38;5;124mThe loop argument is deprecated since Python 3.8, \u001b[39m\u001b[38;5;124m\"\u001b[39m\n\u001b[1;32m    451\u001b[0m                   \u001b[38;5;124m\"\u001b[39m\u001b[38;5;124mand scheduled for removal in Python 3.10.\u001b[39m\u001b[38;5;124m\"\u001b[39m,\n\u001b[1;32m    452\u001b[0m                   \u001b[38;5;167;01mDeprecationWarning\u001b[39;00m, stacklevel\u001b[38;5;241m=\u001b[39m\u001b[38;5;241m2\u001b[39m)\n\u001b[1;32m    454\u001b[0m \u001b[38;5;28;01mif\u001b[39;00m timeout \u001b[38;5;129;01mis\u001b[39;00m \u001b[38;5;28;01mNone\u001b[39;00m:\n\u001b[0;32m--> 455\u001b[0m     \u001b[38;5;28;01mreturn\u001b[39;00m \u001b[38;5;28;01mawait\u001b[39;00m fut\n\u001b[1;32m    457\u001b[0m \u001b[38;5;28;01mif\u001b[39;00m timeout \u001b[38;5;241m<\u001b[39m\u001b[38;5;241m=\u001b[39m \u001b[38;5;241m0\u001b[39m:\n\u001b[1;32m    458\u001b[0m     fut \u001b[38;5;241m=\u001b[39m ensure_future(fut, loop\u001b[38;5;241m=\u001b[39mloop)\n",
      "File \u001b[0;32m/opt/conda/lib/python3.8/site-packages/katana_enterprise/remote/aio/import_data/dataframe_importer/__init__.py:539\u001b[0m, in \u001b[0;36mDataFrameImporter.__aexit__\u001b[0;34m(self, exc_type, exc_val, exc_tb)\u001b[0m\n\u001b[1;32m    537\u001b[0m \u001b[38;5;28;01masync\u001b[39;00m \u001b[38;5;28;01mdef\u001b[39;00m \u001b[38;5;21m__aexit__\u001b[39m(\u001b[38;5;28mself\u001b[39m, exc_type, exc_val, exc_tb):\n\u001b[1;32m    538\u001b[0m     \u001b[38;5;28;01mif\u001b[39;00m \u001b[38;5;129;01mnot\u001b[39;00m exc_type:\n\u001b[0;32m--> 539\u001b[0m         \u001b[38;5;28;01mawait\u001b[39;00m \u001b[38;5;28mself\u001b[39m\u001b[38;5;241m.\u001b[39mexecute()\n",
      "File \u001b[0;32m/opt/conda/lib/python3.8/site-packages/katana_enterprise/remote/aio/import_data/dataframe_importer/__init__.py:530\u001b[0m, in \u001b[0;36mDataFrameImporter.execute\u001b[0;34m(self)\u001b[0m\n\u001b[1;32m    526\u001b[0m     csv_options\u001b[38;5;241m.\u001b[39medge_match_property \u001b[38;5;241m=\u001b[39m edge_global_info\u001b[38;5;241m.\u001b[39mjoin_key_column \u001b[38;5;129;01mor\u001b[39;00m \u001b[38;5;124m\"\u001b[39m\u001b[38;5;124m\"\u001b[39m\n\u001b[1;32m    528\u001b[0m     bulk_ingest_native(csv_options, graph)\n\u001b[0;32m--> 530\u001b[0m \u001b[38;5;28;01mawait\u001b[39;00m \u001b[38;5;28mself\u001b[39m\u001b[38;5;241m.\u001b[39mgraph\u001b[38;5;241m.\u001b[39mrun(remote_import_function)\n",
      "File \u001b[0;32m/opt/conda/lib/python3.8/site-packages/katana_enterprise/remote/aio/graph.py:657\u001b[0m, in \u001b[0;36mGraph.run\u001b[0;34m(self, function)\u001b[0m\n\u001b[1;32m    649\u001b[0m \u001b[38;5;28;01masync\u001b[39;00m \u001b[38;5;28;01mdef\u001b[39;00m \u001b[38;5;21mrun\u001b[39m(\u001b[38;5;28mself\u001b[39m, function):\n\u001b[1;32m    650\u001b[0m     \u001b[38;5;124;03m\"\"\"\u001b[39;00m\n\u001b[1;32m    651\u001b[0m \u001b[38;5;124;03m    Executes the given function in the cluster on multiple MPI workers. Any output is printed as output from this\u001b[39;00m\n\u001b[1;32m    652\u001b[0m \u001b[38;5;124;03m    process.\u001b[39;00m\n\u001b[1;32m    653\u001b[0m \n\u001b[1;32m    654\u001b[0m \u001b[38;5;124;03m    :return: The return value of the function.\u001b[39;00m\n\u001b[1;32m    655\u001b[0m \u001b[38;5;124;03m    \"\"\"\u001b[39;00m\n\u001b[0;32m--> 657\u001b[0m     result \u001b[38;5;241m=\u001b[39m \u001b[38;5;28;01mawait\u001b[39;00m \u001b[38;5;28mself\u001b[39m\u001b[38;5;241m.\u001b[39m_run_result(function, api_version\u001b[38;5;241m=\u001b[39m\u001b[38;5;241m2\u001b[39m)\n\u001b[1;32m    658\u001b[0m     \u001b[38;5;28mprint\u001b[39m(result\u001b[38;5;241m.\u001b[39mstdout, file\u001b[38;5;241m=\u001b[39msys\u001b[38;5;241m.\u001b[39mstdout, end\u001b[38;5;241m=\u001b[39m\u001b[38;5;124m\"\u001b[39m\u001b[38;5;124m\"\u001b[39m)\n\u001b[1;32m    659\u001b[0m     \u001b[38;5;28mprint\u001b[39m(result\u001b[38;5;241m.\u001b[39mstderr, file\u001b[38;5;241m=\u001b[39msys\u001b[38;5;241m.\u001b[39mstderr, end\u001b[38;5;241m=\u001b[39m\u001b[38;5;124m\"\u001b[39m\u001b[38;5;124m\"\u001b[39m)\n",
      "File \u001b[0;32m/opt/conda/lib/python3.8/site-packages/katana_enterprise/remote/aio/graph.py:666\u001b[0m, in \u001b[0;36mGraph._run_result\u001b[0;34m(self, function, api_version)\u001b[0m\n\u001b[1;32m    662\u001b[0m \u001b[38;5;28;01masync\u001b[39;00m \u001b[38;5;28;01mdef\u001b[39;00m \u001b[38;5;21m_run_result\u001b[39m(\u001b[38;5;28mself\u001b[39m, function, api_version\u001b[38;5;241m=\u001b[39m\u001b[38;5;241m1\u001b[39m):\n\u001b[1;32m    663\u001b[0m     data \u001b[38;5;241m=\u001b[39m \u001b[38;5;28mself\u001b[39m\u001b[38;5;241m.\u001b[39m_add_operation_metadata(\n\u001b[1;32m    664\u001b[0m         {\u001b[38;5;124m\"\u001b[39m\u001b[38;5;124mpython\u001b[39m\u001b[38;5;124m\"\u001b[39m: {\u001b[38;5;124m\"\u001b[39m\u001b[38;5;124mfunction\u001b[39m\u001b[38;5;124m\"\u001b[39m: base64\u001b[38;5;241m.\u001b[39mpickle(function), \u001b[38;5;124m\"\u001b[39m\u001b[38;5;124mapi_version\u001b[39m\u001b[38;5;124m\"\u001b[39m: api_version}}\n\u001b[1;32m    665\u001b[0m     )\n\u001b[0;32m--> 666\u001b[0m     \u001b[38;5;28;01mreturn\u001b[39;00m RunResult(\u001b[38;5;241m*\u001b[39mbase64\u001b[38;5;241m.\u001b[39munpickle((\u001b[38;5;28;01mawait\u001b[39;00m \u001b[38;5;28mself\u001b[39m\u001b[38;5;241m.\u001b[39m_run_asynchronously(data))[\u001b[38;5;124m\"\u001b[39m\u001b[38;5;124mresult\u001b[39m\u001b[38;5;124m\"\u001b[39m]))\n",
      "File \u001b[0;32m/opt/conda/lib/python3.8/site-packages/katana_enterprise/remote/aio/graph.py:322\u001b[0m, in \u001b[0;36mGraph._run_asynchronously\u001b[0;34m(self, data)\u001b[0m\n\u001b[1;32m    319\u001b[0m \u001b[38;5;28;01masync\u001b[39;00m \u001b[38;5;28;01mdef\u001b[39;00m \u001b[38;5;21m_run_asynchronously\u001b[39m(\u001b[38;5;28mself\u001b[39m, data):\n\u001b[1;32m    320\u001b[0m     data \u001b[38;5;241m=\u001b[39m \u001b[38;5;28mself\u001b[39m\u001b[38;5;241m.\u001b[39m_add_operation_metadata(data)\n\u001b[0;32m--> 322\u001b[0m     result \u001b[38;5;241m=\u001b[39m (\u001b[38;5;28;01mawait\u001b[39;00m \u001b[38;5;28mself\u001b[39m\u001b[38;5;241m.\u001b[39m_client\u001b[38;5;241m.\u001b[39m_run_on_graph_and_wait(\u001b[38;5;28mself\u001b[39m, data))[\u001b[38;5;124m\"\u001b[39m\u001b[38;5;124mresult\u001b[39m\u001b[38;5;124m\"\u001b[39m]\n\u001b[1;32m    323\u001b[0m     \u001b[38;5;28;01mawait\u001b[39;00m \u001b[38;5;28mself\u001b[39m\u001b[38;5;241m.\u001b[39m_client\u001b[38;5;241m.\u001b[39m_refresh_graph_version(\u001b[38;5;28mself\u001b[39m)\n\u001b[1;32m    324\u001b[0m     \u001b[38;5;28;01mreturn\u001b[39;00m result\n",
      "File \u001b[0;32m/opt/conda/lib/python3.8/site-packages/katana_enterprise/remote/aio/client.py:333\u001b[0m, in \u001b[0;36mDatabase._run_on_graph_and_wait\u001b[0;34m(self, graph, data)\u001b[0m\n\u001b[1;32m    331\u001b[0m \u001b[38;5;28;01mwhile\u001b[39;00m attempt \u001b[38;5;241m<\u001b[39m max_attempts:\n\u001b[1;32m    332\u001b[0m     \u001b[38;5;28;01mtry\u001b[39;00m:\n\u001b[0;32m--> 333\u001b[0m         \u001b[38;5;28;01mreturn\u001b[39;00m \u001b[38;5;28;01mawait\u001b[39;00m \u001b[38;5;28mself\u001b[39m\u001b[38;5;241m.\u001b[39m_wait_op(op)\n\u001b[1;32m    334\u001b[0m     \u001b[38;5;28;01mexcept\u001b[39;00m errors\u001b[38;5;241m.\u001b[39mServerCommunicationError:\n\u001b[1;32m    335\u001b[0m         logging\u001b[38;5;241m.\u001b[39mwarning(\u001b[38;5;124mf\u001b[39m\u001b[38;5;124m\"\u001b[39m\u001b[38;5;124merror while waiting, retrying (attempt=\u001b[39m\u001b[38;5;132;01m{\u001b[39;00mattempt\u001b[38;5;132;01m}\u001b[39;00m\u001b[38;5;124m)\u001b[39m\u001b[38;5;124m\"\u001b[39m)\n",
      "File \u001b[0;32m/opt/conda/lib/python3.8/site-packages/katana_enterprise/remote/aio/client.py:270\u001b[0m, in \u001b[0;36mDatabase._wait_op\u001b[0;34m(self, op)\u001b[0m\n\u001b[1;32m    268\u001b[0m \u001b[38;5;28;01masync\u001b[39;00m \u001b[38;5;28;01mwith\u001b[39;00m _progress_bar() \u001b[38;5;28;01mas\u001b[39;00m pbar:\n\u001b[1;32m    269\u001b[0m     \u001b[38;5;28;01masync\u001b[39;00m \u001b[38;5;28;01mwith\u001b[39;00m wait_fn(operation_id) \u001b[38;5;28;01mas\u001b[39;00m stream:\n\u001b[0;32m--> 270\u001b[0m         \u001b[38;5;28;01masync\u001b[39;00m \u001b[38;5;28;01mfor\u001b[39;00m update \u001b[38;5;129;01min\u001b[39;00m stream:\n\u001b[1;32m    271\u001b[0m             status \u001b[38;5;241m=\u001b[39m update[\u001b[38;5;124m\"\u001b[39m\u001b[38;5;124mstatus\u001b[39m\u001b[38;5;124m\"\u001b[39m]\n\u001b[1;32m    273\u001b[0m             \u001b[38;5;28;01mfor\u001b[39;00m entry \u001b[38;5;129;01min\u001b[39;00m update\u001b[38;5;241m.\u001b[39mget(\u001b[38;5;124m\"\u001b[39m\u001b[38;5;124mprogress\u001b[39m\u001b[38;5;124m\"\u001b[39m, []):\n",
      "File \u001b[0;32m/opt/conda/lib/python3.8/site-packages/asyncstdlib/builtins.py:444\u001b[0m, in \u001b[0;36mmap\u001b[0;34m(function, *iterable)\u001b[0m\n\u001b[1;32m    442\u001b[0m \u001b[38;5;28;01masync\u001b[39;00m \u001b[38;5;28;01mwith\u001b[39;00m ScopedIter(\u001b[38;5;28mzip\u001b[39m(\u001b[38;5;241m*\u001b[39miterable)) \u001b[38;5;28;01mas\u001b[39;00m args_iter:\n\u001b[1;32m    443\u001b[0m     \u001b[38;5;28;01masync\u001b[39;00m \u001b[38;5;28;01mfor\u001b[39;00m args \u001b[38;5;129;01min\u001b[39;00m args_iter:\n\u001b[0;32m--> 444\u001b[0m         result \u001b[38;5;241m=\u001b[39m \u001b[43mfunction\u001b[49m\u001b[43m(\u001b[49m\u001b[38;5;241;43m*\u001b[39;49m\u001b[43margs\u001b[49m\u001b[43m)\u001b[49m\n\u001b[1;32m    445\u001b[0m         \u001b[38;5;28;01myield\u001b[39;00m \u001b[38;5;28;01mawait\u001b[39;00m result\n",
      "File \u001b[0;32m/opt/conda/lib/python3.8/site-packages/asyncstdlib/_core.py:117\u001b[0m, in \u001b[0;36mAwaitify.__call__\u001b[0;34m(self, *args, **kwargs)\u001b[0m\n\u001b[1;32m    115\u001b[0m async_call \u001b[38;5;241m=\u001b[39m \u001b[38;5;28mself\u001b[39m\u001b[38;5;241m.\u001b[39m_async_call\n\u001b[1;32m    116\u001b[0m \u001b[38;5;28;01mif\u001b[39;00m async_call \u001b[38;5;129;01mis\u001b[39;00m \u001b[38;5;28;01mNone\u001b[39;00m:\n\u001b[0;32m--> 117\u001b[0m     value \u001b[38;5;241m=\u001b[39m \u001b[38;5;28;43mself\u001b[39;49m\u001b[38;5;241;43m.\u001b[39;49m\u001b[43m__wrapped__\u001b[49m\u001b[43m(\u001b[49m\u001b[38;5;241;43m*\u001b[39;49m\u001b[43margs\u001b[49m\u001b[43m,\u001b[49m\u001b[43m \u001b[49m\u001b[38;5;241;43m*\u001b[39;49m\u001b[38;5;241;43m*\u001b[39;49m\u001b[43mkwargs\u001b[49m\u001b[43m)\u001b[49m\n\u001b[1;32m    118\u001b[0m     \u001b[38;5;28;01mif\u001b[39;00m \u001b[38;5;28misinstance\u001b[39m(value, Awaitable):\n\u001b[1;32m    119\u001b[0m         \u001b[38;5;28mself\u001b[39m\u001b[38;5;241m.\u001b[39m_async_call \u001b[38;5;241m=\u001b[39m \u001b[38;5;28mself\u001b[39m\u001b[38;5;241m.\u001b[39m__wrapped__  \u001b[38;5;66;03m# type: ignore\u001b[39;00m\n",
      "File \u001b[0;32m/opt/conda/lib/python3.8/site-packages/katana_enterprise/rpc/client.py:171\u001b[0m, in \u001b[0;36m_OperationClient._event_stream.<locals>.parse_stream\u001b[0;34m(line)\u001b[0m\n\u001b[1;32m    169\u001b[0m     \u001b[38;5;28;01mraise\u001b[39;00m errors\u001b[38;5;241m.\u001b[39mOperationError(operation_id \u001b[38;5;241m+\u001b[39m \u001b[38;5;124m\"\u001b[39m\u001b[38;5;124m \u001b[39m\u001b[38;5;124m\"\u001b[39m \u001b[38;5;241m+\u001b[39m data[\u001b[38;5;124m\"\u001b[39m\u001b[38;5;124mstatus_message\u001b[39m\u001b[38;5;124m\"\u001b[39m])\n\u001b[1;32m    170\u001b[0m \u001b[38;5;28;01mif\u001b[39;00m status \u001b[38;5;241m==\u001b[39m \u001b[38;5;124m\"\u001b[39m\u001b[38;5;124mCanceled\u001b[39m\u001b[38;5;124m\"\u001b[39m:\n\u001b[0;32m--> 171\u001b[0m     \u001b[38;5;28;01mraise\u001b[39;00m errors\u001b[38;5;241m.\u001b[39mCanceledError()\n\u001b[1;32m    173\u001b[0m \u001b[38;5;28;01mreturn\u001b[39;00m data\n",
      "\u001b[0;31mCanceledError\u001b[0m: "
     ]
    }
   ],
   "source": [
    "\n",
    "#  The cell that throws the error ..\n",
    "#\n",
    "#  Comments,\n",
    "#\n",
    "#     .  This is a test NoteBook, to support a Jira.\n",
    "#        In my real, larger program, I get the error pasted in the next cell.\n",
    "#\n",
    "#     .  In this sample, smaller NoteBook, the program just hangs in this cell-\n",
    "#\n",
    "\n",
    "\n",
    "from katana.remote import import_data\n",
    "\n",
    "with import_data.DataFrameImporter(my_graph) as df_importer:   \n",
    "     \n",
    "   df_importer.nodes_dataframe(\n",
    "      df_UmlsVocabularyNodes,\n",
    "      id_column             = \"id\",\n",
    "      id_space              = \"UmlsVocabulary\",  \n",
    "      label                 = \"UmlsVocabulary\",  \n",
    "      ) \n",
    "\n",
    "   df_importer.insert()\n",
    "\n",
    "print(\"--\")\n",
    "\n"
   ]
  },
  {
   "cell_type": "code",
   "execution_count": null,
   "id": "5d607abb-6e9b-4dfd-9b10-302c237556d6",
   "metadata": {},
   "outputs": [],
   "source": [
    "\n",
    "\n",
    "#     Error received above when running my larger program,\n",
    "#\n",
    "\n",
    "\n",
    "#     Host 0 errors:\n",
    "#     Traceback (most recent call last):\n",
    "#       File \"/opt/miniconda/lib/python3.8/site-packages/katana_enterprise/worker/worker.py\", line 111, in execute\n",
    "#         value = function(graph)\n",
    "#       File \"/opt/conda/lib/python3.8/site-packages/katana_enterprise/remote/aio/import_data/dataframe_importer/__init__.py\", line 512, in remote_import_function\n",
    "#       File \"/opt/miniconda/lib/python3.8/site-packages/katana_enterprise/remote/aio/import_data/dataframe_importer/__init__.py\", line 206, in _write_intermediate_parquet_files\n",
    "#         node_header = \"\\n\".join(_write_dfs_to_parquet(node_df_infos, \"nodes\")) + \"\\n\"\n",
    "#       File \"/opt/miniconda/lib/python3.8/site-packages/katana_enterprise/remote/aio/import_data/dataframe_importer/__init__.py\", line 194, in _write_dfs_to_parquet\n",
    "#         dask.dataframe.to_parquet(\n",
    "#       File \"/opt/miniconda/lib/python3.8/site-packages/dask/dataframe/io/parquet/core.py\", line 963, in to_parquet\n",
    "#         out = out.compute(**compute_kwargs)\n",
    "#       File \"/opt/miniconda/lib/python3.8/site-packages/dask/base.py\", line 315, in compute\n",
    "#         (result,) = compute(self, traverse=False, **kwargs)\n",
    "#       File \"/opt/miniconda/lib/python3.8/site-packages/dask/base.py\", line 598, in compute\n",
    "#         results = schedule(dsk, keys, **kwargs)\n",
    "#       File \"/opt/miniconda/lib/python3.8/site-packages/distributed/client.py\", line 3036, in get\n",
    "#         results = self.gather(packed, asynchronous=asynchronous, direct=direct)\n",
    "#       File \"/opt/miniconda/lib/python3.8/site-packages/distributed/client.py\", line 2210, in gather\n",
    "#         return self.sync(\n",
    "#       File \"/opt/miniconda/lib/python3.8/site-packages/distributed/utils.py\", line 338, in sync\n",
    "#         return sync(\n",
    "#       File \"/opt/miniconda/lib/python3.8/site-packages/distributed/utils.py\", line 405, in sync\n",
    "#         raise exc.with_traceback(tb)\n",
    "#       File \"/opt/miniconda/lib/python3.8/site-packages/distributed/utils.py\", line 378, in f\n",
    "#         result = yield future\n",
    "#       File \"/opt/miniconda/lib/python3.8/site-packages/tornado/gen.py\", line 762, in run\n",
    "#         value = future.result()\n",
    "#       File \"/opt/miniconda/lib/python3.8/site-packages/distributed/client.py\", line 2073, in _gather\n",
    "#         raise exception.with_traceback(traceback)\n",
    "#       File \"/opt/miniconda/lib/python3.8/site-packages/dask/optimization.py\", line 990, in __call__\n",
    "#         return core.get(self.dsk, self.outkey, dict(zip(self.inkeys, args)))\n",
    "#       File \"/opt/miniconda/lib/python3.8/site-packages/dask/core.py\", line 149, in get\n",
    "#         result = _execute_task(task, cache)\n",
    "#       File \"/opt/miniconda/lib/python3.8/site-packages/dask/core.py\", line 119, in _execute_task\n",
    "#         return func(*(_execute_task(a, cache) for a in args))\n",
    "#       File \"/opt/miniconda/lib/python3.8/site-packages/dask/dataframe/io/parquet/core.py\", line 163, in __call__\n",
    "#         return self.engine.write_partition(\n",
    "#       File \"/opt/miniconda/lib/python3.8/site-packages/dask/dataframe/io/parquet/arrow.py\", line 686, in write_partition\n",
    "#         t = cls._pandas_to_arrow_table(df, preserve_index=preserve_index, schema=schema)\n",
    "#       File \"/opt/miniconda/lib/python3.8/site-packages/dask/dataframe/io/parquet/arrow.py\", line 647, in _pandas_to_arrow_table\n",
    "#         raise ValueError(\n",
    "#     ValueError: Failed to convert partition to expected pyarrow schema:\n",
    "#         `ArrowInvalid(\"Could not convert 'MMM' with type str: tried to convert to double\", 'Conversion failed for column vocabulary_code with type object')`\n",
    "#     \n",
    "#     Expected partition schema:\n",
    "#         id: string\n",
    "#         LABEL: string\n",
    "#         vocabulary_code: double\n",
    "#     \n",
    "#     Received partition schema:\n",
    "#         id: string\n",
    "#         LABEL: string\n",
    "#         vocabulary_code: string\n",
    "#     \n",
    "#     This error *may* be resolved by passing in schema information for\n",
    "#     the mismatched column(s) using the `schema` keyword in `to_parquet`.\n",
    "#     \n",
    "#     ---------------------------------------------------------------------------\n",
    "#     ValueError                                Traceback (most recent call last)\n",
    "#     Cell In[3], line 4\n",
    "#           1 #  Enrich/decode text entry from above\n",
    "#           2 #\n",
    "#     ----> 4 l_return, l_pvid = f_enrich(l_text01.value.lower(), my_graph)\n",
    "#           6 print(\"Unique Patient Vist Id: %s\" % (l_pvid))\n",
    "#           7 print(\"\")\n",
    "#     \n",
    "#     File ~/work/My_KG_NoteBooks/P1_Prospects/13_DataBricks_Google/libraries/SupportFor34.py:373, in f_enrich(i_arg1, i_arg2)\n",
    "#         371 l_df1, l_df2, l_fg3, l_df4, l_df5, l_df6, l_df7 = f_ready_for_graph_int(l_data_asjson, l_uniqid)\n",
    "#         372    #\n",
    "#     --> 373 f_insert_into_graph(i_arg2, l_df1, l_df2, l_fg3, l_df4, l_df5, l_df6, l_df7)\n",
    "#         376 return l_data_asjson, l_uniqid\n",
    "#     \n",
    "#     File ~/work/My_KG_NoteBooks/P1_Prospects/13_DataBricks_Google/libraries/SupportFor34.py:337, in f_insert_into_graph(i_arg1, i_arg2, i_arg3, i_arg4, i_arg5, i_arg6, i_arg7, i_arg8)\n",
    "#         295       df_importer.nodes_dataframe(\n",
    "#         296          i_arg4,\n",
    "#         297          id_column             = \"id\",\n",
    "#         298          id_space              = \"UmlsVocabulary\",  \n",
    "#         299          label                 = \"UmlsVocabulary\",  \n",
    "#         300          ) \n",
    "#         302       #  Just edges\n",
    "#         303       #\n",
    "#         304 #     df_importer.edges_dataframe(\n",
    "#        (...)\n",
    "#         334 #        type                  = \"ALSO_CODED_AS\"\n",
    "#         335 #        )\n",
    "#     --> 337       df_importer.insert()\n",
    "#         340    return\n",
    "#     \n",
    "#     File /opt/conda/lib/python3.8/site-packages/katana_enterprise/async_to_sync.py:259, in AsyncToSync.<locals>.do_wrap.<locals>.wrapper(self, *args, **kwargs)\n",
    "#         256 @wraps(underlying_func)\n",
    "#         257 def wrapper(self, *args, **kwargs):\n",
    "#         258     return registry.async_to_sync(\n",
    "#     --> 259         underlying_func(\n",
    "#         260             get_self_func(self),\n",
    "#         261             *(registry.sync_to_async(a) for a in args),\n",
    "#         262             **{k: registry.sync_to_async(v) for k, v in kwargs.items()},\n",
    "#         263         )\n",
    "#         264     )\n",
    "#     \n",
    "#     File /opt/conda/lib/python3.8/site-packages/katana_enterprise/async_to_sync.py:176, in async_to_sync.<locals>.wrapper(timeout, *args, **kwargs)\n",
    "#         166     registry = AsyncToSyncClassRegistry.get()\n",
    "#         167     return registry.async_to_sync(\n",
    "#         168         wait_for(\n",
    "#         169             async_func(\n",
    "#        (...)\n",
    "#         174         )\n",
    "#         175     )\n",
    "#     --> 176 return wait_for(async_func(*args, **kwargs), timeout=timeout)\n",
    "#     \n",
    "#     File /opt/conda/lib/python3.8/site-packages/katana_enterprise/async_to_sync.py:147, in wait_for(coro, timeout)\n",
    "#         145 try:\n",
    "#         146     future = asyncio.run_coroutine_threadsafe(timeout_coro, loop=AsyncRunnerThread.get().loop)\n",
    "#     --> 147     return future.result()\n",
    "#         148 except KeyboardInterrupt:\n",
    "#         149     inner_future.cancel()\n",
    "#     \n",
    "#     File /opt/conda/lib/python3.8/concurrent/futures/_base.py:444, in Future.result(self, timeout)\n",
    "#         442     raise CancelledError()\n",
    "#         443 elif self._state == FINISHED:\n",
    "#     --> 444     return self.__get_result()\n",
    "#         445 else:\n",
    "#         446     raise TimeoutError()\n",
    "#     \n",
    "#     File /opt/conda/lib/python3.8/concurrent/futures/_base.py:389, in Future.__get_result(self)\n",
    "#         387 if self._exception:\n",
    "#         388     try:\n",
    "#     --> 389         raise self._exception\n",
    "#         390     finally:\n",
    "#         391         # Break a reference cycle with the exception in self._exception\n",
    "#         392         self = None\n",
    "#     \n",
    "#     File /opt/conda/lib/python3.8/asyncio/tasks.py:455, in wait_for(fut, timeout, loop)\n",
    "#         450     warnings.warn(\"The loop argument is deprecated since Python 3.8, \"\n",
    "#         451                   \"and scheduled for removal in Python 3.10.\",\n",
    "#         452                   DeprecationWarning, stacklevel=2)\n",
    "#         454 if timeout is None:\n",
    "#     --> 455     return await fut\n",
    "#         457 if timeout <= 0:\n",
    "#         458     fut = ensure_future(fut, loop=loop)\n",
    "#     \n",
    "#     File /opt/conda/lib/python3.8/site-packages/katana_enterprise/remote/aio/import_data/dataframe_importer/__init__.py:539, in DataFrameImporter.__aexit__(self, exc_type, exc_val, exc_tb)\n",
    "#         537 async def __aexit__(self, exc_type, exc_val, exc_tb):\n",
    "#         538     if not exc_type:\n",
    "#     --> 539         await self.execute()\n",
    "#     \n",
    "#     File /opt/conda/lib/python3.8/site-packages/katana_enterprise/remote/aio/import_data/dataframe_importer/__init__.py:530, in DataFrameImporter.execute(self)\n",
    "#         526     csv_options.edge_match_property = edge_global_info.join_key_column or \"\"\n",
    "#         528     bulk_ingest_native(csv_options, graph)\n",
    "#     --> 530 await self.graph.run(remote_import_function)\n",
    "#     \n",
    "#     File /opt/conda/lib/python3.8/site-packages/katana_enterprise/remote/aio/graph.py:660, in Graph.run(self, function)\n",
    "#         658 print(result.stdout, file=sys.stdout, end=\"\")\n",
    "#         659 print(result.stderr, file=sys.stderr, end=\"\")\n",
    "#     --> 660 return result.value\n",
    "#     \n",
    "#     File /opt/conda/lib/python3.8/site-packages/katana_enterprise/remote/run_result.py:16, in RunResult.value(self)\n",
    "#          14 @property\n",
    "#          15 def value(self):\n",
    "#     ---> 16     self.reraise_if_error()\n",
    "#          17     assert self.success\n",
    "#          18     return self._value\n",
    "#     \n",
    "#     File /opt/conda/lib/python3.8/site-packages/katana_enterprise/remote/run_result.py:12, in RunResult.reraise_if_error(self)\n",
    "#          10 def reraise_if_error(self):\n",
    "#          11     if not self.success:\n",
    "#     ---> 12         raise self._value\n",
    "#     \n",
    "#     File /opt/miniconda/lib/python3.8/site-packages/katana_enterprise/worker/worker.py:153, in execute()\n",
    "#     \n",
    "#     File /opt/miniconda/lib/python3.8/site-packages/katana_enterprise/worker/worker.py:111, in execute()\n",
    "#     \n",
    "#     File /opt/conda/lib/python3.8/site-packages/katana_enterprise/remote/aio/import_data/dataframe_importer/__init__.py:512, in remote_import_function()\n",
    "#         510 if MPI.COMM_WORLD.Get_rank() == 0:\n",
    "#         511     with dask_integration.client():\n",
    "#     --> 512         node_header, edge_header = parquet_write_fun(graph, node_df_infos, edge_df_infos)\n",
    "#         514 node_header, edge_header = MPI.COMM_WORLD.bcast((node_header, edge_header), root=0)\n",
    "#         516 csv_options = CSVImportOptions(node_header, edge_header, stash_uri_for_graph(graph))\n",
    "#     \n",
    "#     File /opt/miniconda/lib/python3.8/site-packages/katana_enterprise/remote/aio/import_data/dataframe_importer/__init__.py:206, in _write_intermediate_parquet_files()\n",
    "#     \n",
    "#     File /opt/miniconda/lib/python3.8/site-packages/katana_enterprise/remote/aio/import_data/dataframe_importer/__init__.py:194, in _write_dfs_to_parquet()\n",
    "#     \n",
    "#     File /opt/miniconda/lib/python3.8/site-packages/dask/dataframe/io/parquet/core.py:963, in to_parquet()\n",
    "#     \n",
    "#     File /opt/miniconda/lib/python3.8/site-packages/dask/base.py:315, in compute()\n",
    "#     \n",
    "#     File /opt/miniconda/lib/python3.8/site-packages/dask/base.py:598, in compute()\n",
    "#     \n",
    "#     File /opt/miniconda/lib/python3.8/site-packages/distributed/client.py:3036, in get()\n",
    "#     \n",
    "#     File /opt/miniconda/lib/python3.8/site-packages/distributed/client.py:2210, in gather()\n",
    "#     \n",
    "#     File /opt/miniconda/lib/python3.8/site-packages/distributed/utils.py:338, in sync()\n",
    "#     \n",
    "#     File /opt/miniconda/lib/python3.8/site-packages/distributed/utils.py:405, in sync()\n",
    "#     \n",
    "#     File /opt/miniconda/lib/python3.8/site-packages/distributed/utils.py:378, in f()\n",
    "#     \n",
    "#     File /opt/miniconda/lib/python3.8/site-packages/tornado/gen.py:762, in run()\n",
    "#     \n",
    "#     File /opt/miniconda/lib/python3.8/site-packages/distributed/client.py:2073, in _gather()\n",
    "#     \n",
    "#     File /opt/miniconda/lib/python3.8/site-packages/dask/optimization.py:990, in __call__()\n",
    "#     \n",
    "#     File /opt/miniconda/lib/python3.8/site-packages/dask/core.py:149, in get()\n",
    "#     \n",
    "#     File /opt/miniconda/lib/python3.8/site-packages/dask/core.py:119, in _execute_task()\n",
    "#     \n",
    "#     File /opt/miniconda/lib/python3.8/site-packages/dask/dataframe/io/parquet/core.py:163, in __call__()\n",
    "#     \n",
    "#     File /opt/miniconda/lib/python3.8/site-packages/dask/dataframe/io/parquet/arrow.py:686, in write_partition()\n",
    "#     \n",
    "#     File /opt/miniconda/lib/python3.8/site-packages/dask/dataframe/io/parquet/arrow.py:647, in _pandas_to_arrow_table()\n",
    "#     \n",
    "#     ValueError: Failed to convert partition to expected pyarrow schema:\n",
    "#         `ArrowInvalid(\"Could not convert 'MMM' with type str: tried to convert to double\", 'Conversion failed for column vocabulary_code with type object')`\n",
    "#     \n",
    "#     Expected partition schema:\n",
    "#         id: string\n",
    "#         LABEL: string\n",
    "#         vocabulary_code: double\n",
    "#     \n",
    "#     Received partition schema:\n",
    "#         id: string\n",
    "#         LABEL: string\n",
    "#         vocabulary_code: string\n",
    "#     \n",
    "#     This error *may* be resolved by passing in schema information for\n",
    "#     the mismatched column(s) using the `schema` keyword in `to_parquet`.\n",
    "        \n",
    "        "
   ]
  }
 ],
 "metadata": {
  "kernelspec": {
   "display_name": "Python 3 (ipykernel)",
   "language": "python",
   "name": "python3"
  },
  "language_info": {
   "codemirror_mode": {
    "name": "ipython",
    "version": 3
   },
   "file_extension": ".py",
   "mimetype": "text/x-python",
   "name": "python",
   "nbconvert_exporter": "python",
   "pygments_lexer": "ipython3",
   "version": "3.8.15"
  }
 },
 "nbformat": 4,
 "nbformat_minor": 5
}
