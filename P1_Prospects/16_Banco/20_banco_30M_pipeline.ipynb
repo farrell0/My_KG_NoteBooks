{
 "cells": [
  {
   "cell_type": "markdown",
   "id": "4c52b208-2a58-46b6-a17c-5c3d62446568",
   "metadata": {},
   "source": [
    "#  Setup: Display options"
   ]
  },
  {
   "cell_type": "code",
   "execution_count": null,
   "id": "5019cf7e-ebef-4da9-9b5a-76fc0dc1042f",
   "metadata": {},
   "outputs": [],
   "source": [
    "\n",
    "#  Setting display options \n",
    "\n",
    "import pandas as pd\n",
    "   #\n",
    "pd.set_option(\"display.width\", 480)\n",
    "\n",
    "#  Sets horizontal scroll for wide outputs\n",
    "#\n",
    "from IPython.display import display, HTML\n",
    "display(HTML(\"\"))\n",
    "\n",
    "from tabulate import tabulate\n",
    "\n",
    "print(\"--\")\n"
   ]
  },
  {
   "cell_type": "markdown",
   "id": "909b5f39-33ab-4f17-87ba-a56cce7946a8",
   "metadata": {},
   "source": [
    "# Setup: Connectivity"
   ]
  },
  {
   "cell_type": "code",
   "execution_count": null,
   "id": "ad7262d1-53b9-49d0-8459-8ea40e932f09",
   "metadata": {},
   "outputs": [],
   "source": [
    "\n",
    "from katana import remote\n",
    "\n",
    "my_client = remote.Client()\n",
    "\n",
    "print(my_client)\n",
    "   #\n",
    "print(f\"katana version: {my_client.server_version}\")\n"
   ]
  },
  {
   "cell_type": "code",
   "execution_count": null,
   "id": "263690a7-1848-4b92-8bd4-884f17d19100",
   "metadata": {},
   "outputs": [],
   "source": [
    "\n",
    "NUM_PARTITIONS  = 3\n",
    "   #\n",
    "DB_NAME         = \"my_db\"\n",
    "GRAPH_NAME      = \"my_graph\"\n",
    "\n",
    "print(\"--\")\n"
   ]
  },
  {
   "cell_type": "code",
   "execution_count": 63,
   "id": "1160bffb-449d-43a3-835c-5955b6551bf3",
   "metadata": {},
   "outputs": [
    {
     "name": "stdout",
     "output_type": "stream",
     "text": [
      "--\n"
     ]
    }
   ],
   "source": [
    "\n",
    "#  DELETE ALL GRAPHS\n",
    "\n",
    "for l_database in my_client.databases():\n",
    "   for l_graph in my_client.get_database(name=l_database.name).graphs_in_database():\n",
    "      l_handle=my_client.get_database(name=l_database.name).get_graph_by_id(id=l_graph.graph_id)\n",
    "      l_handle.delete()\n",
    "\n",
    "for l_graph in my_client.graphs():\n",
    "   print(\"GRAPH ID: \", l_graph.graph_id, \"      GRAPH Version: \", l_graph.version)\n",
    "\n",
    "print(\"--\")\n"
   ]
  },
  {
   "cell_type": "code",
   "execution_count": null,
   "id": "b3ba1fad-9b4f-4a4d-b155-e25b1e524555",
   "metadata": {},
   "outputs": [],
   "source": [
    "\n",
    "#  DELETE ALL DATABASES\n",
    "\n",
    "for l_database in my_client.databases():\n",
    "   if (l_database.name != \"default\"):\n",
    "      my_client.get_database(name=l_database.name).delete_database()\n",
    "      print(\"--\")\n",
    "\n",
    "for l_database in my_client.databases():\n",
    "   print(\"DB ID: \", l_database.database_id, \"     DB Name: \", l_database.name)\n"
   ]
  },
  {
   "cell_type": "code",
   "execution_count": null,
   "id": "00a224fd-6f21-48d9-9e8f-7ca1245afb9e",
   "metadata": {},
   "outputs": [],
   "source": [
    "\n",
    "#  CREATE DATABASE\n",
    "\n",
    "my_database = my_client.create_database(name=DB_NAME)\n",
    "\n",
    "print(my_database.database_id)\n"
   ]
  },
  {
   "cell_type": "code",
   "execution_count": 64,
   "id": "2dff8192-a984-42b1-8281-73016bf92d4b",
   "metadata": {},
   "outputs": [
    {
     "name": "stdout",
     "output_type": "stream",
     "text": [
      "<_Graph my_graph, 5Jfj9nEfjMdGF5ECRJTrwtM2MqAHsw221YbNb7KkAFwn, 0>\n"
     ]
    }
   ],
   "source": [
    "\n",
    "#  CREATE GRAPH\n",
    "\n",
    "my_graph = my_client.get_database(name=DB_NAME).create_graph(name=GRAPH_NAME, num_partitions=NUM_PARTITIONS)\n",
    "\n",
    "print(my_graph)\n"
   ]
  },
  {
   "cell_type": "code",
   "execution_count": null,
   "id": "08c746fe-0d51-4255-a015-2842457995cc",
   "metadata": {},
   "outputs": [],
   "source": [
    "\n",
    "#  CONNECT TO GRAPH\n",
    "\n",
    "my_graph, *_ = my_client.get_database(name=DB_NAME).find_graphs_by_name(GRAPH_NAME)\n",
    "\n",
    "print(my_graph)\n"
   ]
  },
  {
   "cell_type": "markdown",
   "id": "20d93408-b3d7-469d-99d3-67038035264c",
   "metadata": {},
   "source": [
    "# Step 01:  Process CSV files, make Dask distributed DataFrames .."
   ]
  },
  {
   "cell_type": "code",
   "execution_count": null,
   "id": "0bed2303-5e02-4bde-9703-610c89d4c643",
   "metadata": {},
   "outputs": [],
   "source": [
    "\n",
    "#  import os\n",
    "\n",
    "import dask.dataframe as dd\n",
    "import pandas\n",
    "   #\n",
    "from katana.remote.import_data import DataFrameImporter\n",
    "\n",
    "print(\"--\")\n"
   ]
  },
  {
   "cell_type": "code",
   "execution_count": null,
   "id": "fa67419c-dc21-4f50-b459-7f939bd0b157",
   "metadata": {},
   "outputs": [],
   "source": [
    "\n",
    "DEBUG_FLAG = True\n",
    "# DEBUG_FLAG = False\n",
    "\n",
    "TEST_ROWS = 100000\n",
    "\n",
    "print(\"--\")\n"
   ]
  },
  {
   "cell_type": "code",
   "execution_count": null,
   "id": "c92cbf01-b0a8-41df-ac65-c02aae017ab8",
   "metadata": {},
   "outputs": [],
   "source": [
    "%%time\n",
    "\n",
    "#  Actual reading of CSV files ..\n",
    "#\n",
    "#  See also,\n",
    "#     https://console.cloud.google.com/storage/browser/katana-demo-datasets/csv-datasets/banco_30M\n",
    "#\n",
    "\n",
    "l_prefix     = \"gs://katana-demo-datasets/csv-datasets/banco_30M/\"\n",
    "\n",
    "l_node_csvs  = (l_prefix + \"NodeFile_0\")\n",
    "   #\n",
    "if (DEBUG_FLAG):\n",
    "   l_nodesb     = dd.read_csv(l_node_csvs, sep = \"|\").head(n = TEST_ROWS)            #  Head makes this a Pandas DataFrame\n",
    "   l_nodes      = dd.from_pandas(l_nodesb, npartitions = NUM_PARTITIONS)             #  Now a Dask DataFrame\n",
    "else:\n",
    "   l_nodes      = dd.read_csv(l_node_csvs, sep = \"|\")                                #  Dask DataFrame\n",
    "\n",
    "\n",
    "#  Lazy evaluation until this block for nodes ..\n",
    "#\n",
    "l_nodes.compute()\n",
    "   #\n",
    "display(\"Number of nodes: %d\" % ( len(l_nodes) ))\n",
    "\n",
    "\n",
    "   ###\n",
    "    \n",
    "\n",
    "l_edgesb     = {}\n",
    "l_edges      = {}\n",
    "l_cntr       = 0\n",
    "   #\n",
    "for l_each in range(0, 15):\n",
    "   l_edge_csvs     = (l_prefix + \"transactions_\" + str(l_each))\n",
    "   print(\".\", end=\"\")\n",
    "      #\n",
    "   if (DEBUG_FLAG):\n",
    "      l_edgesb[l_each] = dd.read_csv(l_edge_csvs, sep = \"|\").head(n = TEST_ROWS)\n",
    "      l_edges [l_each] = dd.from_pandas(l_edgesb[l_each], npartitions = NUM_PARTITIONS)\n",
    "   else:\n",
    "      l_edges [l_each] = dd.read_csv(l_edge_csvs, sep = \"|\")\n",
    "\n",
    "   #  Normally lazy evaluation, until this block for edges ..\n",
    "   #\n",
    "   l_edges[l_each].compute()\n",
    "   l_cntr += len(l_edges[l_each])\n",
    "    \n",
    "    \n",
    "print(\"\")\n",
    "display(\"Number of edges: %d\" % ( l_cntr       ))\n",
    "   #    \n",
    "print(\"--\")    \n",
    "    "
   ]
  },
  {
   "cell_type": "markdown",
   "id": "fdc2d4b9-1577-4667-b047-85507a1e7536",
   "metadata": {},
   "source": [
    "# Step 02:  Actually import into the graph .."
   ]
  },
  {
   "cell_type": "code",
   "execution_count": 65,
   "id": "fb1e4e85-9191-4e98-8119-a443b3694fd5",
   "metadata": {},
   "outputs": [
    {
     "name": "stderr",
     "output_type": "stream",
     "text": [
      "UserWarning: dtype for DataFrame column 'firstName' is 'object'. Will be inferred as string.\n",
      "UserWarning: dtype for DataFrame column 'lastName' is 'object'. Will be inferred as string.\n",
      "UserWarning: dtype for DataFrame column 'enrollmentDate' is 'object'. Will be inferred as string.\n",
      "UserWarning: dtype for DataFrame column 'status' is 'object'. Will be inferred as string.\n",
      "UserWarning: dtype for DataFrame column 'state' is 'object'. Will be inferred as string.\n",
      "UserWarning: dtype for DataFrame column 'country' is 'object'. Will be inferred as string.\n",
      "UserWarning: dtype for DataFrame column 'data' is 'object'. Will be inferred as string.\n",
      "UserWarning: dtype for DataFrame column 'sourceBank' is 'object'. Will be inferred as string.\n",
      "UserWarning: dtype for DataFrame column 'destinationBank' is 'object'. Will be inferred as string.\n"
     ]
    },
    {
     "data": {
      "application/vnd.jupyter.widget-view+json": {
       "model_id": "8e5588992abb4d2298e5468d3ff04fce",
       "version_major": 2,
       "version_minor": 0
      },
      "text/plain": [
       "          0/? [?op/s]"
      ]
     },
     "metadata": {},
     "output_type": "display_data"
    },
    {
     "data": {
      "application/vnd.jupyter.widget-view+json": {
       "model_id": "5dc265a70375409fa4463cb3cd01f925",
       "version_major": 2,
       "version_minor": 0
      },
      "text/plain": [
       "          0/? [?op/s]"
      ]
     },
     "metadata": {},
     "output_type": "display_data"
    },
    {
     "name": "stdout",
     "output_type": "stream",
     "text": [
      "--\n"
     ]
    }
   ],
   "source": [
    "\n",
    "#  The way we are doing this is,\n",
    "#\n",
    "#     .  Read all of the data into memory at one time.\n",
    "#        This is not required, at all.\n",
    "#\n",
    "#     .  At least we are using Dask DataFrames, which are distributed.\n",
    "#\n",
    "\n",
    "with DataFrameImporter(my_graph) as df_importer:\n",
    "\n",
    "   df_importer.nodes_dataframe(                                     #  Here, just the nodes\n",
    "      l_nodes,\n",
    "      id_column   = \"id\",\n",
    "      id_space    = \"accounts\"\n",
    "      )\n",
    "\n",
    "   for l_each in l_edges.values():\n",
    "        \n",
    "      df_importer.edges_dataframe(\n",
    "          l_each,\n",
    "          source_id_space       = \"accounts\",\n",
    "          destination_id_space  = \"accounts\",\n",
    "          source_column         = \"sourceAccount.id\",\n",
    "          destination_column    = \"destinationAccount2.id\",\n",
    "          )\n",
    "    \n",
    "      #  Making this a bi-directional edge\n",
    "      #\n",
    "      df_importer.edges_dataframe(\n",
    "          l_each,\n",
    "          source_id_space       = \"accounts\",\n",
    "          destination_id_space  = \"accounts\",\n",
    "          destination_column    = \"sourceAccount.id\",\n",
    "          source_column         = \"destinationAccount2.id\",\n",
    "          )\n",
    "    \n",
    "   df_importer.insert()\n",
    "\n",
    "\n",
    "print(\"--\")\n"
   ]
  },
  {
   "cell_type": "code",
   "execution_count": 66,
   "id": "4b49612a-61eb-4b80-bdf1-92c292ed0b6c",
   "metadata": {},
   "outputs": [
    {
     "data": {
      "application/vnd.jupyter.widget-view+json": {
       "model_id": "1655dda725f84f368201ef48ea62d635",
       "version_major": 2,
       "version_minor": 0
      },
      "text/plain": [
       "          0/? [?op/s]"
      ]
     },
     "metadata": {},
     "output_type": "display_data"
    },
    {
     "data": {
      "text/plain": [
       "100000"
      ]
     },
     "metadata": {},
     "output_type": "display_data"
    },
    {
     "data": {
      "application/vnd.jupyter.widget-view+json": {
       "model_id": "0ebd9557d24d4ffb89a306c92c4c19cb",
       "version_major": 2,
       "version_minor": 0
      },
      "text/plain": [
       "          0/? [?op/s]"
      ]
     },
     "metadata": {},
     "output_type": "display_data"
    },
    {
     "data": {
      "text/plain": [
       "668"
      ]
     },
     "metadata": {},
     "output_type": "display_data"
    }
   ],
   "source": [
    "\n",
    "#  Get some counts, validations ..\n",
    "#\n",
    "#     If Testing/Debugging a small subset of data, you may get zero edges, because the edges we call to load \n",
    "#     do not match existing nodes.\n",
    "#\n",
    "\n",
    "display(my_graph.num_nodes())\n",
    "display(my_graph.num_edges())\n",
    "\n"
   ]
  },
  {
   "cell_type": "markdown",
   "id": "a50bbe4a-bec9-44fe-a36c-3f6b1e5dffd9",
   "metadata": {},
   "source": [
    "# Step 03:  Traversals .."
   ]
  },
  {
   "cell_type": "code",
   "execution_count": null,
   "id": "efbc746b-8f43-4471-b38f-5cee71a6c46f",
   "metadata": {},
   "outputs": [],
   "source": [
    "\n",
    "l_result = my_graph.query(\"\"\"\n",
    "\n",
    "   MATCH (a) - [e] -> (b) - [] - (c) \n",
    "   RETURN a, b, c \n",
    "   LIMIT 1000 \n",
    "   \"\"\", contextualize = True)\n",
    "\n",
    "l_result.visualize()\n",
    "\n"
   ]
  },
  {
   "cell_type": "code",
   "execution_count": null,
   "id": "e407f45a-b75f-4dd8-9f2f-ab9fe93c83e4",
   "metadata": {},
   "outputs": [],
   "source": [
    "\n",
    "\n",
    "l_result = my_graph.query(\"\"\"\n",
    "\n",
    "   MATCH (a: accounts {country: 'USA'} ) - [e] -> (b) \n",
    "   RETURN a, b\n",
    "   \"\"\")\n",
    "\n",
    "print(tabulate(l_result.head(10), headers='keys', tablefmt='psql'))\n"
   ]
  },
  {
   "cell_type": "markdown",
   "id": "2e4a28f2-0423-45ed-bf5c-12f4f0444df7",
   "metadata": {},
   "source": [
    "# Step 04:  Analytics .."
   ]
  },
  {
   "cell_type": "code",
   "execution_count": 67,
   "id": "292141e3-d77f-4364-8638-6e40918d6e5f",
   "metadata": {},
   "outputs": [
    {
     "name": "stdout",
     "output_type": "stream",
     "text": [
      "--\n"
     ]
    }
   ],
   "source": [
    "\n",
    "from katana.remote import analytics\n",
    "\n",
    "l_cntr1 = 0\n",
    "l_cntr2 = 0\n",
    "   #\n",
    "print(\"--\")\n"
   ]
  },
  {
   "cell_type": "code",
   "execution_count": 68,
   "id": "ef3e50cd-8421-4317-b130-5ff4ff7a953a",
   "metadata": {},
   "outputs": [
    {
     "data": {
      "application/vnd.jupyter.widget-view+json": {
       "model_id": "6f43e416691b4c61a7a8fbffd978a361",
       "version_major": 2,
       "version_minor": 0
      },
      "text/plain": [
       "          0/? [?op/s]"
      ]
     },
     "metadata": {},
     "output_type": "display_data"
    },
    {
     "name": "stdout",
     "output_type": "stream",
     "text": [
      "--\n"
     ]
    }
   ],
   "source": [
    "\n",
    "#  Running PageRank ..\n",
    "#\n",
    "#     This cell needs to change for version 0.6 ..\n",
    "#\n",
    "\n",
    "#  Generate a unique prop name so we can run this over and over without edit ..\n",
    "#\n",
    "l_cntr1 += 1\n",
    "   #\n",
    "l_output_propname     = \"page_rank_\" + str(l_cntr1).zfill(4)\n",
    "\n",
    "\n",
    "analytics.pagerank(my_graph, result_property_name = l_output_propname, max_iterations = 20, alpha = 0.15)\n",
    "\n",
    "print(\"--\")\n"
   ]
  },
  {
   "cell_type": "code",
   "execution_count": 69,
   "id": "947e23c2-dbc4-4fec-bee7-0b9580498b6e",
   "metadata": {},
   "outputs": [
    {
     "data": {
      "application/vnd.jupyter.widget-view+json": {
       "model_id": "0fcc635dfd7843cc9d03e673cb8872dc",
       "version_major": 2,
       "version_minor": 0
      },
      "text/plain": [
       "          0/? [?op/s]"
      ]
     },
     "metadata": {},
     "output_type": "display_data"
    },
    {
     "name": "stdout",
     "output_type": "stream",
     "text": [
      "+----+-----------------+--------------+-------------+-------------+---------------------+------------------+--------+--------------------+--------------------+------------------+------------+----------+--------------------+\n",
      "|    |   n.internal_id | n.labels     |    n.amount | n.country   | n.enrollmentDate    | n.firstName      |   n.id | n.lastName         |   n.page_rank_0001 | n.state          | n.status   | n.type   |   n.page_rank_0001 |\n",
      "|----+-----------------+--------------+-------------+-------------+---------------------+------------------+--------+--------------------+--------------------+------------------+------------+----------+--------------------|\n",
      "|  0 |             406 | ['accounts'] | 6.27797e+09 | India       | 2022-11-15T05:16:17 | j6f              |   1237 | M4OpcQwi           |            1.84454 | Haryana          | active     | node     |            1.84454 |\n",
      "|  1 |             665 | ['accounts'] | 4.17569e+09 | Brazil      | 2022-11-15T05:16:17 | V                |   1950 | nTbMB6NYs          |            1.84454 | Paraná           | active     | node     |            1.84454 |\n",
      "|  2 | 562949953421368 | ['accounts'] | 2.54394e+09 | Mexico      | 2022-11-15T05:16:17 | FEqC             |    191 | X7zSV              |            1.84454 | Tabasco          | active     | node     |            1.84454 |\n",
      "|  3 | 562949953421384 | ['accounts'] | 5.04067e+09 | Canada      | 2022-11-15T05:16:17 | qyBtfoRBUFh1T2nW |    251 | ehsjOrWGCc3dYPR    |            1.84454 | British Columbia | active     | node     |            1.84454 |\n",
      "|  4 | 562949953421528 | ['accounts'] | 1.28032e+09 | Mexico      | 2022-11-15T05:16:17 | 8jJ8             |    631 | X6zG3oX8a5UODtKO8v |            1.84454 | Guerrero         | inactive   | node     |            1.84454 |\n",
      "|  5 | 562949953421591 | ['accounts'] | 4.53452e+09 | Australia   | 2022-11-15T05:16:17 | XZDh2FbyoWs      |    820 | kKY7               |            1.84454 | New South Wales  | active     | node     |            1.84454 |\n",
      "|  6 |              51 | ['accounts'] | 7.91613e+09 | Canada      | 2022-11-15T05:16:17 | uwPC9deDdciz     |    155 | NkLOctFF2          |            1.40289 | nan              | active     | node     |            1.40289 |\n",
      "|  7 |             297 | ['accounts'] | 5.09034e+09 | Australia   | 2022-11-15T05:16:17 | GFdNZR           |    898 | S5C                |            1.40289 | New South Wales  | active     | node     |            1.40289 |\n",
      "|  8 |             425 | ['accounts'] | 5.67126e+08 | Canada      | 2022-11-15T05:16:17 | LcS81A9DzVGO     |   1279 | y6j6               |            1.40289 | Manitoba         | active     | node     |            1.40289 |\n",
      "|  9 |             512 | ['accounts'] | 8.3909e+09  | Canada      | 2022-11-15T05:16:17 | ik               |   1542 | hrs                |            1.40289 | Manitoba         | active     | node     |            1.40289 |\n",
      "+----+-----------------+--------------+-------------+-------------+---------------------+------------------+--------+--------------------+--------------------+------------------+------------+----------+--------------------+\n"
     ]
    }
   ],
   "source": [
    "\n",
    "#  Outputting the result of PageRank ..\n",
    "#\n",
    "\n",
    "l_query = \"\"\"\n",
    "    MATCH (n)\n",
    "    RETURN n, n.{0}\n",
    "    ORDER BY n.{0} DESC\n",
    "    LIMIT 10\n",
    "    \"\"\".format(l_output_propname)\n",
    "\n",
    "l_result = my_graph.query(l_query, contextualize=False)\n",
    "    \n",
    "print(tabulate(l_result, headers='keys', tablefmt='psql'))\n"
   ]
  },
  {
   "cell_type": "code",
   "execution_count": 71,
   "id": "1ab771e6-c447-4c1d-9d02-c31105ac75b5",
   "metadata": {},
   "outputs": [
    {
     "data": {
      "application/vnd.jupyter.widget-view+json": {
       "model_id": "7fac30c4b7a34ba794844b1c02d847d9",
       "version_major": 2,
       "version_minor": 0
      },
      "text/plain": [
       "          0/? [?op/s]"
      ]
     },
     "metadata": {},
     "output_type": "display_data"
    },
    {
     "name": "stdout",
     "output_type": "stream",
     "text": [
      "--\n"
     ]
    }
   ],
   "source": [
    "\n",
    "# NOTE: Running on directed graph\n",
    "#\n",
    "#     This cell needs to change for version 0.6 ..\n",
    "\n",
    "\n",
    "#  Generate a unique prop name so we can run this over and over without edit ..\n",
    "#\n",
    "l_cntr2 += 1\n",
    "   #\n",
    "l_output_propname     = \"louvain_\" + str(l_cntr2).zfill(4)\n",
    "\n",
    "\n",
    "analytics.louvain_clustering(my_graph, result_property_name = l_output_propname)\n",
    "\n",
    "print(\"--\")\n"
   ]
  },
  {
   "cell_type": "code",
   "execution_count": 72,
   "id": "b44ece62-fb2c-412a-bfb6-1eda71852bf3",
   "metadata": {},
   "outputs": [
    {
     "data": {
      "application/vnd.jupyter.widget-view+json": {
       "model_id": "7351c48ab24243ccba35ea2bd61d2d36",
       "version_major": 2,
       "version_minor": 0
      },
      "text/plain": [
       "          0/? [?op/s]"
      ]
     },
     "metadata": {},
     "output_type": "display_data"
    },
    {
     "name": "stdout",
     "output_type": "stream",
     "text": [
      "+----+-----------------+--------------+-------------+-------------+---------------------+--------+---------------------+------------------+--------------------+---------------------------+------------+----------+----------------------+------------------+\n",
      "|    |   n.internal_id | n.labels     |    n.amount | n.country   | n.enrollmentDate    |   n.id | n.lastName          |   n.louvain_0002 |   n.page_rank_0001 | n.state                   | n.status   | n.type   | n.firstName          |   n.louvain_0002 |\n",
      "|----+-----------------+--------------+-------------+-------------+---------------------+--------+---------------------+------------------+--------------------+---------------------------+------------+----------+----------------------+------------------|\n",
      "|  0 | 281474976726623 | ['accounts'] | 1.96276e+09 | Brazil      | 2022-11-15T05:16:17 |  48580 | QsRR6dZ             |  562949953454473 |               0.15 | Sergipe                   | active     | node     | nan                  |  562949953454473 |\n",
      "|  1 | 281474976726618 | ['accounts'] | 8.78425e+09 | Canada      | 2022-11-15T05:16:17 |  48570 | ZzpW13Al5nmZauMS    |  562949953454472 |               0.15 | Nova Scotia               | active     | node     | ikT6ELc36G7dXjR      |  562949953454472 |\n",
      "|  2 | 281474976726616 | ['accounts'] | 7.5806e+09  | Brazil      | 2022-11-15T05:16:17 |  48561 | nan                 |  562949953454471 |               0.15 | Goiás                     | active     | node     | 4LQ9HEDCDhvj6cWyCQ   |  562949953454471 |\n",
      "|  3 | 281474976726615 | ['accounts'] | 1.01612e+09 | USA         | 2022-11-15T05:16:17 |  48560 | cI6mXaL             |  562949953454470 |               0.15 | Missouri                  | active     | node     | dfC95q               |  562949953454470 |\n",
      "|  4 | 281474976726600 | ['accounts'] | 3.92336e+09 | Brazil      | 2022-11-15T05:16:17 |  48527 | 2ghRpUzo8DCvJtTKbOT |  562949953454469 |               0.15 | Amazonas                  | active     | node     | vE9zlV2eh7EZjZMsIK8  |  562949953454469 |\n",
      "|  5 | 281474976726593 | ['accounts'] | 9.35772e+09 | Canada      | 2022-11-15T05:16:17 |  48516 | wSWs8FXJqpb1O       |  562949953454468 |               0.15 | New Brunswick             | active     | node     | Lyf                  |  562949953454468 |\n",
      "|  6 | 281474976726586 | ['accounts'] | 3.66801e+09 | USA         | 2022-11-15T05:16:17 |  48503 | eMZsP8ICoPp1        |  562949953454467 |               0.15 | Idaho                     | active     | node     | Pc965                |  562949953454467 |\n",
      "|  7 | 281474976726573 | ['accounts'] | 8.42286e+09 | Mexico      | 2022-11-15T05:16:17 |  48470 | rmiIcndT7uYO1       |  562949953454466 |               0.15 | Puebla                    | active     | node     | dFekx4YgsQH8         |  562949953454466 |\n",
      "|  8 | 281474976726566 | ['accounts'] | 3.37567e+09 | Canada      | 2022-11-15T05:16:17 |  48450 | 16XE                |  562949953454465 |               0.15 | Newfoundland and Labrador | active     | node     | jwEp                 |  562949953454465 |\n",
      "|  9 | 281474976726559 | ['accounts'] | 6.25074e+09 | Canada      | 2022-11-15T05:16:17 |  48417 | G                   |  562949953454464 |               0.15 | Quebec                    | active     | node     | tK4EBhQQM45bAmGBX1iM |  562949953454464 |\n",
      "+----+-----------------+--------------+-------------+-------------+---------------------+--------+---------------------+------------------+--------------------+---------------------------+------------+----------+----------------------+------------------+\n"
     ]
    }
   ],
   "source": [
    "\n",
    "#  Outputting the result of Louvain ..\n",
    "#\n",
    "\n",
    "l_query = \"\"\"\n",
    "    MATCH (n)\n",
    "    RETURN n, n.{0}\n",
    "    ORDER BY n.{0} DESC\n",
    "    LIMIT 10\n",
    "    \"\"\".format(l_output_propname)\n",
    "\n",
    "l_result = my_graph.query(l_query, contextualize=False)\n",
    "    \n",
    "print(tabulate(l_result, headers='keys', tablefmt='psql'))\n"
   ]
  }
 ],
 "metadata": {
  "katana": {
   "component": "Solutions",
   "max_num_hosts": 10
  },
  "kernelspec": {
   "display_name": "Python 3 (ipykernel)",
   "language": "python",
   "name": "python3"
  },
  "language_info": {
   "codemirror_mode": {
    "name": "ipython",
    "version": 3
   },
   "file_extension": ".py",
   "mimetype": "text/x-python",
   "name": "python",
   "nbconvert_exporter": "python",
   "pygments_lexer": "ipython3",
   "version": "3.8.13"
  }
 },
 "nbformat": 4,
 "nbformat_minor": 5
}
