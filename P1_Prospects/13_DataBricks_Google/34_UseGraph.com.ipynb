{
 "cells": [
  {
   "cell_type": "markdown",
   "id": "3ab7ce90-67cf-462c-94a6-3c8c9d0754b3",
   "metadata": {},
   "source": [
    "# Setup: Connectivity"
   ]
  },
  {
   "cell_type": "code",
   "execution_count": null,
   "id": "e87b75ba-c072-4111-8cca-4b4f394a0fce",
   "metadata": {},
   "outputs": [],
   "source": [
    "\n",
    "from katana import remote\n",
    "   #\n",
    "from IPython.display import display\n",
    "from ipywidgets import Layout, Textarea, VBox\n",
    "   #\n",
    "from libraries.SupportFor34 import f_init, f_enrich\n",
    "    \n",
    "    \n",
    "my_client, my_graph = f_init()\n",
    "\n",
    "\n",
    "print(\"My Client: %s\" % (my_client))\n",
    "print(\"My Graph:  %s\" % (my_graph ))\n",
    "   #\n",
    "print()\n"
   ]
  },
  {
   "cell_type": "markdown",
   "id": "4ec1c889-3b18-44f7-adcf-b9b5eca13dd5",
   "metadata": {},
   "source": [
    "#  Step 01: Enter a new Medical Description"
   ]
  },
  {
   "cell_type": "code",
   "execution_count": 1,
   "id": "9b760cd1-9e7a-47c4-96c7-13e6f70b1acb",
   "metadata": {},
   "outputs": [
    {
     "ename": "NameError",
     "evalue": "name 'Layout' is not defined",
     "output_type": "error",
     "traceback": [
      "\u001b[0;31m---------------------------------------------------------------------------\u001b[0m",
      "\u001b[0;31mNameError\u001b[0m                                 Traceback (most recent call last)",
      "Cell \u001b[0;32mIn[1], line 4\u001b[0m\n\u001b[1;32m      1\u001b[0m \u001b[38;5;66;03m#  Create a text entry area\u001b[39;00m\n\u001b[1;32m      2\u001b[0m \u001b[38;5;66;03m#\u001b[39;00m\n\u001b[0;32m----> 4\u001b[0m l_layout   \u001b[38;5;241m=\u001b[39m \u001b[43mLayout\u001b[49m(flex \u001b[38;5;241m=\u001b[39m \u001b[38;5;124m\"\u001b[39m\u001b[38;5;124m0 1 auto\u001b[39m\u001b[38;5;124m\"\u001b[39m, height \u001b[38;5;241m=\u001b[39m \u001b[38;5;124m\"\u001b[39m\u001b[38;5;124m100px\u001b[39m\u001b[38;5;124m\"\u001b[39m, min_height \u001b[38;5;241m=\u001b[39m \u001b[38;5;124m\"\u001b[39m\u001b[38;5;124m100px\u001b[39m\u001b[38;5;124m\"\u001b[39m, width \u001b[38;5;241m=\u001b[39m \u001b[38;5;124m\"\u001b[39m\u001b[38;5;124mauto\u001b[39m\u001b[38;5;124m\"\u001b[39m)\n\u001b[1;32m      5\u001b[0m l_text01   \u001b[38;5;241m=\u001b[39m Textarea(value\u001b[38;5;241m=\u001b[39m\u001b[38;5;124m\"\u001b[39m\u001b[38;5;124mOdd mole on my ear\u001b[39m\u001b[38;5;124m\"\u001b[39m, layout \u001b[38;5;241m=\u001b[39m l_layout, description \u001b[38;5;241m=\u001b[39m \u001b[38;5;124m\"\u001b[39m\u001b[38;5;124mEnter Text: \u001b[39m\u001b[38;5;124m\"\u001b[39m)\n\u001b[1;32m      6\u001b[0m    \u001b[38;5;66;03m#\u001b[39;00m\n",
      "\u001b[0;31mNameError\u001b[0m: name 'Layout' is not defined"
     ]
    }
   ],
   "source": [
    "\n",
    "#  Create a text entry area\n",
    "#\n",
    "\n",
    "l_layout   = Layout(flex = \"0 1 auto\", height = \"100px\", min_height = \"100px\", width = \"auto\")\n",
    "l_text01   = Textarea(value=\"Odd mole on my ear\", layout = l_layout, description = \"Enter Text: \")\n",
    "   #\n",
    "l_vbox     = VBox([l_text01], layout = Layout(flex = \"1 1 auto\", width = \"auto\"))\n",
    "display(l_text01)\n"
   ]
  },
  {
   "cell_type": "code",
   "execution_count": null,
   "id": "16658063-7b08-4f33-963b-110708e50567",
   "metadata": {},
   "outputs": [],
   "source": [
    "\n",
    "#  Enrich/decode text entry from above\n",
    "#\n",
    "\n",
    "l_return, l_pvid = f_enrich(l_text01.value.lower(), my_graph)\n",
    "\n",
    "print(\"Unique Patient Visit Id: %s\" % (l_pvid))\n",
    "print(\"\")\n",
    "print(\"Medical Description encoding:\")\n",
    "print(\"\")\n",
    "display(l_return)\n"
   ]
  },
  {
   "cell_type": "markdown",
   "id": "6d7f32ad-d6c9-4c95-9005-73239071c255",
   "metadata": {},
   "source": [
    "# Step 02:  Examine the Graph"
   ]
  },
  {
   "cell_type": "code",
   "execution_count": null,
   "id": "73085108-3d24-4d66-bf9e-f7c98360a54e",
   "metadata": {},
   "outputs": [],
   "source": [
    "\n",
    "#  Produce a visual graph\n",
    "\n",
    "from katana_visualization_widget import GraphVisOptions, NodeVisOption, EdgeVisOption, ANY\n",
    "\n",
    "l_options = GraphVisOptions(\n",
    "   node_options = [\n",
    "      NodeVisOption(\"PatientVisit\",     label=\"short_text\"       ),\n",
    "      NodeVisOption(\"UmlsEntity\",       label=\"id\"               ),\n",
    "      NodeVisOption(\"UmlsVocabulary\",   label=\"id\"               ),\n",
    "   ],\n",
    "   #  edge_options = [\n",
    "   #     EdgeVisOption([\"VISIT_CONTAINS\"], label=\"start_id\"),\n",
    "   #     EdgeVisOption([\"ALSO_CODED_AS\" ], label=\"start_id\"),\n",
    "   #  ]\n",
    "   )\n",
    "    \n",
    "    \n",
    "l_query  = \"\"\"\n",
    "\n",
    "   MATCH (pv: PatientVisit) - [vc: VISIT_CONTAINS] -> (ue: UmlsEntity) - [aca: ALSO_CODED_AS] -> (uv: UmlsVocabulary)\n",
    "   WHERE\n",
    "      (pv.id = '{0}')\n",
    "   RETURN pv, vc, ue, aca, uv\n",
    "   \n",
    "   \"\"\".format(l_pvid)\n",
    "\n",
    "l_result = my_graph.query_unpaginated(l_query, contextualize=True)\n",
    "    \n",
    "l_result.view(graph_vis_options = l_options)\n"
   ]
  },
  {
   "cell_type": "markdown",
   "id": "ab6f7a7a-3d74-4392-99a1-f9da825d1c9f",
   "metadata": {},
   "source": [
    "<div> \n",
    "<img src=\"./01_Images/Results_03.png\" alt=\"Drawing\" style=\"width: 1600px;\"/>\n",
    "</div>"
   ]
  },
  {
   "cell_type": "code",
   "execution_count": null,
   "id": "d033566d-939b-42d4-a930-565894e6c293",
   "metadata": {},
   "outputs": [],
   "source": [
    "# #########################################################################"
   ]
  },
  {
   "cell_type": "code",
   "execution_count": null,
   "id": "e89a409c-7dda-4616-9e58-876114843ba2",
   "metadata": {},
   "outputs": [],
   "source": [
    "\n",
    "#  Create a text entry area\n",
    "#\n",
    "\n",
    "l_layout   = Layout(flex = \"0 1 auto\", height = \"100px\", min_height = \"100px\", width = \"auto\")\n",
    "l_text02   = Textarea(value=\"UMLS/C0027962\", layout = l_layout, description = \"Enter Text: \")\n",
    "   #\n",
    "l_vbox     = VBox([l_text01], layout = Layout(flex = \"1 1 auto\", width = \"auto\"))\n",
    "display(l_text02)\n",
    "\n"
   ]
  },
  {
   "cell_type": "code",
   "execution_count": null,
   "id": "9cddd9c0-e5c0-4219-a97f-5085474a3e65",
   "metadata": {},
   "outputs": [],
   "source": [
    "\n",
    "#  Produce a visual graph\n",
    "\n",
    "from katana_visualization_widget import GraphVisOptions, NodeVisOption, EdgeVisOption, ANY\n",
    "\n",
    "l_options = GraphVisOptions(\n",
    "   node_options = [\n",
    "      NodeVisOption(\"PatientVisit\",     label=\"id\"),\n",
    "      NodeVisOption(\"UmlsEntity\",       label=\"id\"),\n",
    "      NodeVisOption(\"UmlsVocabulary\",   label=\"id\"),\n",
    "   ],\n",
    "   #  edge_options = [\n",
    "   #     EdgeVisOption([\"VISIT_CONTAINS\"], label=\"start_id\"),\n",
    "   #     EdgeVisOption([\"ALSO_CODED_AS\" ], label=\"start_id\"),\n",
    "   #  ]\n",
    "   )\n",
    "\n",
    "l_query  = \"\"\"\n",
    "\n",
    "   MATCH (pv: PatientVisit) - [vc: VISIT_CONTAINS] -> (ue: UmlsEntity) - [aca: ALSO_CODED_AS] -> (uv: UmlsVocabulary)\n",
    "   WHERE\n",
    "      (ue.id = '{0}')\n",
    "   RETURN pv, vc, ue, aca, uv\n",
    "   LIMIT 100\n",
    "   \n",
    "   \"\"\".format(l_text02.value)\n",
    "\n",
    "l_result = my_graph.query_unpaginated(l_query, contextualize=True)\n",
    "    \n",
    "l_result.view(graph_vis_options = l_options)\n"
   ]
  },
  {
   "cell_type": "markdown",
   "id": "1b2111da-ba9a-4c12-b49d-0698fa77b7bb",
   "metadata": {},
   "source": [
    "<div> \n",
    "<img src=\"./01_Images/Results_04.png\" alt=\"Drawing\" style=\"width: 1600px;\"/>\n",
    "</div>"
   ]
  },
  {
   "cell_type": "code",
   "execution_count": null,
   "id": "74599ecf-725c-47da-b69d-0b63cce220ab",
   "metadata": {},
   "outputs": [],
   "source": [
    "# #########################################################################"
   ]
  },
  {
   "cell_type": "code",
   "execution_count": null,
   "id": "92024417-6824-4c22-b554-b09866184afa",
   "metadata": {},
   "outputs": [],
   "source": [
    "\n",
    "#  Checking just nodes\n",
    "#\n",
    "\n",
    "l_query  = \"\"\"\n",
    "\n",
    "   MATCH (n)\n",
    "   WHERE NOT n.id STARTS WITH 'XX-'                   //  A value we use as a placeholder\n",
    "   RETURN n\n",
    "   LIMIT 100\n",
    "   \n",
    "   \"\"\".format()\n",
    "\n",
    "l_result = my_graph.query_unpaginated(l_query, contextualize=False)\n",
    "    \n",
    "print(l_result)\n",
    "\n"
   ]
  },
  {
   "cell_type": "code",
   "execution_count": null,
   "id": "63c91100-2973-4f3f-9f3e-a28b53a1da20",
   "metadata": {},
   "outputs": [],
   "source": [
    "\n",
    "#  Checking just edges\n",
    "#\n",
    "\n",
    "l_query  = \"\"\"\n",
    "\n",
    "   MATCH (n) - [r] -> (m)\n",
    "   RETURN r\n",
    "   LIMIT 100\n",
    "   \n",
    "   \"\"\".format()\n",
    "\n",
    "l_result = my_graph.query_unpaginated(l_query, contextualize=False)\n",
    "    \n",
    "print(l_result)\n"
   ]
  },
  {
   "cell_type": "code",
   "execution_count": null,
   "id": "d69cd6f3-c52c-434f-a74a-ee489796d2aa",
   "metadata": {},
   "outputs": [],
   "source": [
    "# #########################################################################"
   ]
  },
  {
   "cell_type": "code",
   "execution_count": null,
   "id": "591a58e9-9170-4ef7-b901-9921d8188645",
   "metadata": {},
   "outputs": [],
   "source": [
    "\n",
    "#  Metadata on our Nodes,\n",
    "#\n",
    "#  Sample output, smaller load,\n",
    "#\n",
    "#     +----+------------------+-------+\n",
    "#     |    | label            |   cnt |\n",
    "#     |----+------------------+-------|\n",
    "#     |  0 | Keyword          | 10443 |\n",
    "#     |  1 | MedicalSpecialty |    40 |\n",
    "#     |  2 | PatientVisit     |  4999 |\n",
    "#     |  3 | UmlsEntity       | 20073 |\n",
    "#     |  4 | UmlsVocabulary   | 40148 |\n",
    "#     +----+------------------+-------+\n",
    "\n",
    "#  Sample output, larger load,\n",
    "#\n",
    "#     +----+------------------+---------+\n",
    "#     |    | label            |     cnt |\n",
    "#     |----+------------------+---------|\n",
    "#     |  0 | Keyword          |   10443 |\n",
    "#     |  1 | MedicalSpecialty |      40 |\n",
    "#     |  2 | PatientVisit     |    4999 |\n",
    "#     |  3 | UmlsEntity       | 4661972 |\n",
    "#     |  4 | UmlsVocabulary   | 3365900 |\n",
    "#     +----+------------------+---------+\n"
   ]
  },
  {
   "cell_type": "code",
   "execution_count": null,
   "id": "373235c5-a17d-4f42-9afc-8ff56e3f5843",
   "metadata": {},
   "outputs": [],
   "source": [
    "\n",
    "#  Checking just nodes\n",
    "#\n",
    "\n",
    "l_query  = \"\"\"\n",
    "\n",
    "   MATCH (n: UmlsEntity)\n",
    "   RETURN n\n",
    "   LIMIT 20\n",
    "   \n",
    "   \"\"\".format()\n",
    "\n",
    "l_result = my_graph.query_unpaginated(l_query, contextualize=False)\n",
    "    \n",
    "print(l_result)\n",
    "\n"
   ]
  },
  {
   "cell_type": "code",
   "execution_count": null,
   "id": "82d23cf9-9aee-4086-8c8d-fac0ba8e274f",
   "metadata": {},
   "outputs": [],
   "source": []
  },
  {
   "cell_type": "code",
   "execution_count": null,
   "id": "75a32617-d518-4694-a09f-e7b3f3b54f3f",
   "metadata": {},
   "outputs": [],
   "source": []
  }
 ],
 "metadata": {
  "kernelspec": {
   "display_name": "Python 3 (ipykernel)",
   "language": "python",
   "name": "python3"
  },
  "language_info": {
   "codemirror_mode": {
    "name": "ipython",
    "version": 3
   },
   "file_extension": ".py",
   "mimetype": "text/x-python",
   "name": "python",
   "nbconvert_exporter": "python",
   "pygments_lexer": "ipython3",
   "version": "3.8.15"
  }
 },
 "nbformat": 4,
 "nbformat_minor": 5
}
