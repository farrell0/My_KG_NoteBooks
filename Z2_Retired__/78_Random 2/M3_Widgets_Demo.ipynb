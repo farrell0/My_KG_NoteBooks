{
 "cells": [
  {
   "cell_type": "markdown",
   "id": "b8633184-1a56-4af5-ac02-b81f42a04706",
   "metadata": {},
   "source": [
    "# Database Widget\n",
    "- Allows user to add and remove databases and graphs\n",
    "- Updates in \"real time\" (polling) to reflect the current status\n",
    "- Shows database and graph metadata"
   ]
  },
  {
   "cell_type": "code",
   "execution_count": null,
   "id": "eeb68046-c4b5-4f95-b80c-43062ecc6204",
   "metadata": {},
   "outputs": [],
   "source": [
    "from katana.remote import Client\n",
    "c = Client(address=\"host.docker.internal:8080\")\n",
    "\n",
    "c.widgets().databases()"
   ]
  },
  {
   "cell_type": "markdown",
   "id": "9f6ec676-27df-4585-922b-5eb9a56478d1",
   "metadata": {},
   "source": [
    "# Opererations Widget\n",
    "- Displays a list of operations sorted by type\n",
    "- Allows user to filter by several criteria\n",
    "- Allows cancellation of operations"
   ]
  },
  {
   "cell_type": "code",
   "execution_count": null,
   "id": "5d728a8d-80bd-483a-9502-51a8de6f32e7",
   "metadata": {},
   "outputs": [],
   "source": [
    "from katana.remote import Client\n",
    "c = Client(address=\"host.docker.internal:8080\")\n",
    "\n",
    "c.widgets().operations()"
   ]
  },
  {
   "cell_type": "markdown",
   "id": "36dd3cc2-d5e8-4430-aec0-30c42afb292e",
   "metadata": {},
   "source": [
    "# Web Dashboard\n",
    "- All widgets on one webpage in a new tab\n",
    "- Allows users to monitor status and make changes in real time independent of notebook progress\n",
    "- Prevents \"blocking\" of widget display by previous cell execution"
   ]
  },
  {
   "cell_type": "code",
   "execution_count": null,
   "id": "4e82bc53-f079-4fb8-8cc8-203b7e295a34",
   "metadata": {},
   "outputs": [],
   "source": [
    "from katana.remote import Client\n",
    "c = Client(address=\"host.docker.internal:8080\")\n",
    "\n",
    "c.widgets().dashboard()"
   ]
  },
  {
   "cell_type": "markdown",
   "id": "faf810f7-4004-4bb9-9ce0-d69f72cf2b40",
   "metadata": {},
   "source": [
    "### Test 1: CSV Import and Query\n",
    "- Note the change in operations widget showing the import\n",
    "- When import is finished, note the operations widget showing the cypher query\n",
    "- (optional): Use the operations widget to cancel the import before completion"
   ]
  },
  {
   "cell_type": "code",
   "execution_count": null,
   "id": "989319fa-4a3c-4bc9-8e33-1424f6dbb237",
   "metadata": {},
   "outputs": [],
   "source": [
    "import os                                                                        \n",
    "import time                                                                      \n",
    "import json\n",
    "\n",
    "from katana import remote\n",
    "from katana.remote import import_data\n",
    "from katana_enterprise import async_to_sync\n",
    "\n",
    "os.environ[\"KATANA_SERVER_ADDRESS\"] = \"host.docker.internal:8080\"\n",
    "\n",
    "num_partitions = 2\n",
    "cluster_name = \"katana-internal16\"\n",
    "\n",
    "client = remote.Client()\n",
    "async_client = remote.aio.Client()\n",
    "\n",
    "dbs = client.databases()\n",
    "for db in dbs:\n",
    "    print(db.database_id, db.name)\n",
    "\n",
    "graph1 = client.create_graph(num_partitions=num_partitions)\n",
    "\n",
    "print(f\"Importing graph from CSV files into graph {graph1} ...\")\n",
    "import_data.csv(\n",
    "    graph1,\n",
    "    input_node_path=\"gs://katana-demo-datasets/pp/mapping/node_list_2M_full_gcp.txt\",\n",
    "    input_edge_path=\"gs://katana-demo-datasets/pp/mapping/edge_list_2M_full_gcp.txt\",\n",
    "    input_dir=\"gs://katana-demo-datasets/pp/csv\",\n",
    "    #have_headers=True,\n",
    "    files_have_headers=True,\n",
    "    data_delimiter=\"|\",\n",
    "    schema_delimiter=\"|\",\n",
    "    partition_policy=\"random-oec\",\n",
    ")\n",
    "\n",
    "query = \"MATCH (a) RETURN count(a);\"\n",
    "result = graph1.query(query)\n",
    "print(result[0])"
   ]
  },
  {
   "cell_type": "markdown",
   "id": "defa336f-07f4-4a78-bd57-0ab248a104cb",
   "metadata": {},
   "source": [
    "### Test 2: Import into newly greated database and graph\n",
    "- From the Database widget, create a new database\n",
    "- Select the new database, and create a new graph\n",
    "- Select the new graph, and copy paste the database ID and graph ID into the cell below\n",
    "- Note the CSV import into the newly created graph\n",
    "- Note the query completes on the new imported data\n",
    "- (optional): Use the operations widget to cancel the import before completion"
   ]
  },
  {
   "cell_type": "code",
   "execution_count": null,
   "id": "ad483bf4-2646-4a50-ae9b-3cfcc1270b62",
   "metadata": {},
   "outputs": [],
   "source": [
    "import os   \n",
    "from katana import remote\n",
    "from katana.remote import import_data, Graph\n",
    "\n",
    "os.environ[\"KATANA_SERVER_ADDRESS\"] = \"host.docker.internal:8080\"\n",
    "\n",
    "client = remote.Client()\n",
    "\n",
    "# Copy and paste graph id and database id from Database widget here.\n",
    "# In the future, clicking the \"Copy\" button on the graph menu will grab the graph and database IDs\n",
    "graph_id=\"huY4uZj2huCpJDz2XUyCitTqwXb2BXbGsdTexcC4YAL\"\n",
    "database_id=\"2pteSaQLkvssMbMF4ikTgBvY6zfKoPdWC4t9xHNJApC7\"\n",
    "\n",
    "graph2 = Graph(client, graph_id=graph_id, database_id=database_id, version=\"0\")\n",
    "\n",
    "import_data.csv(\n",
    "    graph2,\n",
    "    input_node_path=\"gs://katana-demo-datasets/pp/mapping/node_list_2M_full_gcp.txt\",\n",
    "    input_edge_path=\"gs://katana-demo-datasets/pp/mapping/edge_list_2M_full_gcp.txt\",\n",
    "    input_dir=\"gs://katana-demo-datasets/pp/csv\",\n",
    "    #have_headers=True,\n",
    "    data_delimiter=\"|\",\n",
    "    schema_delimiter=\"|\",\n",
    "    partition_policy=\"random-oec\",\n",
    "    #num_partitions=num_partitions,\n",
    ")\n",
    "\n",
    "query = \"MATCH (a) RETURN count(a);\"\n",
    "result = graph1.query(query)\n",
    "print(result[0])"
   ]
  },
  {
   "cell_type": "code",
   "execution_count": null,
   "id": "333551a8-761e-486e-a0c6-a3f40eb9594a",
   "metadata": {},
   "outputs": [],
   "source": []
  }
 ],
 "metadata": {
  "kernelspec": {
   "display_name": "Python 3 (ipykernel)",
   "language": "python",
   "name": "python3"
  },
  "language_info": {
   "codemirror_mode": {
    "name": "ipython",
    "version": 3
   },
   "file_extension": ".py",
   "mimetype": "text/x-python",
   "name": "python",
   "nbconvert_exporter": "python",
   "pygments_lexer": "ipython3",
   "version": "3.8.8"
  }
 },
 "nbformat": 4,
 "nbformat_minor": 5
}
