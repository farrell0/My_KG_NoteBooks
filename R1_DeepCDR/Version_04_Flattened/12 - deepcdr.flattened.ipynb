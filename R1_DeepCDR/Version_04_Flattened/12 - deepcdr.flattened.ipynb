{
 "cells": [
  {
   "cell_type": "code",
   "execution_count": null,
   "id": "d2aee1d2-73be-4640-859d-670ae89f13db",
   "metadata": {},
   "outputs": [],
   "source": [
    "\n",
    "%load_ext autoreload\n",
    "%autoreload 2\n",
    "\n",
    "%xmode Minimal\n",
    "\n",
    "#  Setting display options \n",
    "#\n",
    "import pandas as pd\n",
    "pd.set_option(\"display.width\", 640)\n",
    "   #\n",
    "import numpy as np\n",
    "np.set_printoptions(edgeitems = 30, linewidth = 100000, \n",
    "   formatter = dict(float = lambda x: \"%.3g\" % x))\n",
    "\n",
    "\n",
    "#  Sets horizontal scroll for wide outputs\n",
    "#\n",
    "from IPython.display import display, HTML\n",
    "display(HTML(\"\"))\n",
    "\n",
    "from tabulate import tabulate\n",
    "\n",
    "\n",
    "   ###\n",
    "\n",
    "    \n",
    "#  How to use tabulate-\n",
    "#\n",
    "#  l_result = [{ \"col1\": 20, \"col2\": 30}]\n",
    "#     #\n",
    "#  print(tabulate(l_result, headers='keys', tablefmt='psql', showindex=False))\n",
    "\n",
    "print(\"--\")\n"
   ]
  },
  {
   "cell_type": "markdown",
   "id": "8a6f3e40-04bd-4c3a-a3ab-065f042aed5a",
   "metadata": {},
   "source": [
    "## Drug Repurposing: A Hybrid Graph Convolutional Network for Predicting Cancer Drug Response\n",
    "\n",
    "The goal of this pipeline is to implement a Cancer Drug Response Prediction pipeline. The model chosen is called DeepCDR which is a Cancer Drug Response Prediction model via a Hybrid Graph Convolutional Network. This model was published in the journal Bioinformatics.\n",
    "\n",
    "<center><img src=\"./images/model.png\" style=\"width:70%;\"></center>\n",
    "\n",
    "DeepCDR takes a pair of drug and cancer cell profiles as inputs and predicts the drug sensitivity (IC50) (regression). The drug will be represented as a graph based on the chemical structure before being transformed into a high-level latent representation by the GNN model. Omics features learned by subnetworks will be concatenated to the drug feature."
   ]
  },
  {
   "cell_type": "markdown",
   "id": "ea6bfda6",
   "metadata": {},
   "source": [
    "## README\n",
    "\n",
    "The [README](README.md) file accompanying this notebook includes additional information about the research behind this model and how to run this pipeline with your own data. "
   ]
  },
  {
   "cell_type": "markdown",
   "id": "306a386f-6a70-4498-9eba-d2cff983cfff",
   "metadata": {},
   "source": [
    "## Katana AI Pipeline for End to End Drug Repurposing"
   ]
  },
  {
   "cell_type": "markdown",
   "id": "342f499e-4c45-43d6-91bf-234374e99406",
   "metadata": {},
   "source": [
    "<img src=\"images/pipeline_full.png\" style=\"width: 1500px;\"/>\n",
    "\n",
    "\n",
    "\n",
    "There are four distinct steps:\n",
    "\n",
    "* **[Step 1: Set up a Katana `Client` and create a Distributed Graph](#step-1)**\n",
    "* **[Step 2: Extract ML-ready Data](#step-2)**\n",
    "* **[Step 3: AI Training Pipeline](#step-3)**\n",
    "* **[Step 4: Trained model inference](#step-4)**\n",
    "\n",
    "<a id='step-1'></a>\n",
    "## Step 1: Set up a Katana `Client` and load a Distributed Graph\n",
    "\n",
    "<img src=\"images/pipeline_dask.png\" style=\"width: 1500px;\"/>\n",
    "\n",
    "### Set up a Katana `Client`\n",
    "\n",
    "Starting a Katana remote Client is required to interface with the Katana remote service and schedule distributed operations. First we set Jupyter to automatically reload changed code and we import some standard Katana modules."
   ]
  },
  {
   "cell_type": "code",
   "execution_count": 1,
   "id": "2de96290-d64c-4c82-bd6d-fe69fcc1dad3",
   "metadata": {},
   "outputs": [
    {
     "name": "stdout",
     "output_type": "stream",
     "text": [
      "\n",
      "Software version: 0.9.0+20230322T224759Z.73f024927.dev\n",
      "--\n"
     ]
    }
   ],
   "source": [
    "\n",
    "%load_ext autoreload\n",
    "%autoreload 2\n",
    "\n",
    "from katana import remote\n",
    "from katana.remote import export_data, import_data\n",
    "\n",
    "\n",
    "my_client = remote.Client()\n",
    "print()\n",
    "print(\"Software version: %s\" % (my_client.server_version))\n",
    "\n",
    "print(\"--\")\n"
   ]
  },
  {
   "cell_type": "code",
   "execution_count": 2,
   "id": "db63456f-f95c-4e38-8c5a-b52340167e4a",
   "metadata": {},
   "outputs": [
    {
     "name": "stdout",
     "output_type": "stream",
     "text": [
      "RED_SHORT_RECIPE Set to: None\n",
      "RED_SHORT_RECIPE Set to: 1\n",
      "--\n"
     ]
    }
   ],
   "source": [
    "\n",
    "#  An environment variable with the given titles affects execution ..\n",
    "#\n",
    "\n",
    "import os\n",
    "\n",
    "\n",
    "try:\n",
    "   del os.environ['RED_SHORT_RECIPE'] \n",
    "except:\n",
    "   pass\n",
    "\n",
    "l_env = os.environ.get('RED_SHORT_RECIPE')\n",
    "print(\"RED_SHORT_RECIPE Set to: %s\" % (l_env))\n",
    "\n",
    "\n",
    "os.environ['RED_SHORT_RECIPE'] = \"1\"\n",
    "   #\n",
    "l_env = os.environ.get('RED_SHORT_RECIPE')\n",
    "print(\"RED_SHORT_RECIPE Set to: %s\" % (l_env))\n",
    "\n",
    "print(\"--\")\n"
   ]
  },
  {
   "cell_type": "markdown",
   "id": "9ab20d54-7095-4134-998f-47eba135904d",
   "metadata": {
    "tags": []
   },
   "source": [
    "### Load Input configuration\n",
    "\n",
    "The input configuration, which is stored in the `hyperparams` file, defines the specifications of the graph use for the recipe."
   ]
  },
  {
   "cell_type": "code",
   "execution_count": 3,
   "id": "e89769fd-629e-419f-bb3f-55a0d60b0b73",
   "metadata": {},
   "outputs": [
    {
     "name": "stdout",
     "output_type": "stream",
     "text": [
      "InputConfig:\n",
      "    num_partitions = 4,\n",
      "    use_train_rdg = False,\n",
      "    trained_rdg_path = gs://hls-dataset-bucket/DeepCDR_trained,\n",
      "    cell_lines_path = gs://katana-demo-datasets/csv-datasets/DeepCDR/cell_lines.csv,\n",
      "    drugs_path = gs://katana-demo-datasets/csv-datasets/DeepCDR/drugs.csv,\n",
      "    gdsc_path = gs://katana-demo-datasets/csv-datasets/DeepCDR/gdsc.csv,\n",
      "    genes_path = gs://katana-demo-datasets/csv-datasets/DeepCDR/genes.csv,\n",
      "    gdsc_cell_line_path = gs://katana-demo-datasets/csv-datasets/DeepCDR/gdsc_cell_line_edges.csv,\n",
      "    gdsc_drug_path = gs://katana-demo-datasets/csv-datasets/DeepCDR/gdsc_drug_edges.csv,\n",
      "    cell_line_gene_expression_path = gs://katana-demo-datasets/csv-datasets/DeepCDR/cell_line_gene_expression_edges.csv,\n",
      "    cell_line_gene_methylation_path = gs://katana-demo-datasets/csv-datasets/DeepCDR/cell_line_gene_methylation_edges.csv,\n",
      "    cell_line_gene_mutation_path = gs://katana-demo-datasets/csv-datasets/DeepCDR/cell_line_gene_mutation_edges.csv,\n",
      "    test_size = 0.05,\n",
      "    random_state = 42\n",
      "\n",
      "--\n"
     ]
    }
   ],
   "source": [
    "\n",
    "from config import hyperparams\n",
    "\n",
    "input_config = hyperparams.load_input_config()\n",
    "print(input_config)\n",
    "\n",
    "print()\n",
    "print(\"--\")\n"
   ]
  },
  {
   "cell_type": "markdown",
   "id": "42a37bd9-686c-453e-a8b4-10513fa286c5",
   "metadata": {},
   "source": [
    "### Create a Distributed Graph\n",
    "\n",
    "Create a Katana Distributed graph with `input_config.num_partitions` partitions and import data used to train the DeepCDR model into the Distributed Graph. The entire recipe will be distributed among `input_config.num_partitions` hosts.\n",
    "\n",
    "<div class=\"alert alert-info\">\n",
    "You can choose to change the number of partition using <a href=\"./config/hyperparams.py\" class=\"alert-link\">num_partitions</a> parameter.\n",
    "</div>\n",
    "\n",
    "<div class=\"alert alert-info\">\n",
    "You can choose to import a graph with the features already generated and a model already trained and saved in the graph or create your graph from csv files with Dask by setting <a href=\"./config/hyperparams.py\" class=\"alert-link\">use_train_rdg</a> parameter. \n",
    "    \n",
    "If you choose to use the pretrained model you can skip the following two steps,\n",
    "* **[Step 2: Extract ML-ready Data](#step-2)**\n",
    "* **[Step 3: AI Training Pipeline](#step-3)**\n",
    "\n",
    "and go directly to:\n",
    "* **[Step 4: Trained model inference](#step-4)**\n",
    "</div>"
   ]
  },
  {
   "cell_type": "code",
   "execution_count": null,
   "id": "831ea652-f028-4afd-98ef-a1bbfef9bdfb",
   "metadata": {},
   "outputs": [],
   "source": [
    "\n",
    "####################################################################################\n"
   ]
  },
  {
   "cell_type": "code",
   "execution_count": 4,
   "id": "2e2eff98-5e08-4a0a-ad9c-3f4b3d0d0239",
   "metadata": {},
   "outputs": [
    {
     "name": "stdout",
     "output_type": "stream",
     "text": [
      "--\n"
     ]
    }
   ],
   "source": [
    "\n",
    "#  Name of our database and graph\n",
    "#\n",
    "DB_NAME         = \"my_db\"\n",
    "GRAPH_NAME      = \"my_graph_DCR\"\n",
    "   #\n",
    "NUM_PARTITIONS  = 4\n",
    "\n",
    "print(\"--\")\n"
   ]
  },
  {
   "cell_type": "code",
   "execution_count": 5,
   "id": "dcac1680-b3aa-4871-9620-6932ff08dc5c",
   "metadata": {},
   "outputs": [
    {
     "name": "stdout",
     "output_type": "stream",
     "text": [
      "GRAPH ID:  4i9SqdhBRyf8ef61zX8GHodXjhhMQJabwLAYb9deWckY       GRAPH Version:  0    Graph Name:  None\n",
      "GRAPH ID:  5RTxGR4PEAcbCBADJeJ1ePg5EzLAT9FUU9b4aSYnhWQr       GRAPH Version:  0    Graph Name:  boris-banco\n",
      "GRAPH ID:  6SSpjAdXfqUyshg1uKtE7ZQr87qUECsSvyef1vhwyHe       GRAPH Version:  0    Graph Name:  None\n",
      "GRAPH ID:  7n2Ea7XQJRAZDbpy8b6aMd1ZgVpxNtns7nnD9FCkxC4D       GRAPH Version:  0    Graph Name:  None\n",
      "GRAPH ID:  8tyjJNXZdgetqZfg7tUAzb7GLqDtiFPfpbKcWkoiuv8K       GRAPH Version:  0    Graph Name:  None\n",
      "GRAPH ID:  BXvk7mTXXzmVkzk9PAhq2gch1scLYWjQ4qG6uZu4ZJ8L       GRAPH Version:  0    Graph Name:  None\n",
      "GRAPH ID:  BstbKLWK9gK5BYCZUCC29Z1cd1c8Su3CzEMFitrrYsBm       GRAPH Version:  0    Graph Name:  None\n",
      "GRAPH ID:  DBYvuGwDcLDaov4RkqwYn4et927yHNwhFvg2z1LauRXD       GRAPH Version:  0    Graph Name:  None\n",
      "GRAPH ID:  DP85KHycpBtBk6UB1iYVMMzqzXqnaY9CQzvdhuBtKKQZ       GRAPH Version:  0    Graph Name:  None\n",
      "GRAPH ID:  HrGLinhAMbEat7C3P5ZUaxupvRdpHDKE8e96CnouwPKT       GRAPH Version:  0    Graph Name:  None\n",
      "GRAPH ID:  cZX8zpFpYktWgRTDVZjPz5pExNLuGTH1GLQLsoDdDpR       GRAPH Version:  0    Graph Name:  None\n",
      "--\n"
     ]
    }
   ],
   "source": [
    "\n",
    "#  DELETE ONE SPECIFIC GRAPH ONLY\n",
    "\n",
    "for l_database in my_client.databases():\n",
    "   for l_graph in my_client.get_database(name = l_database.name).graphs_in_database():\n",
    "      if ((l_database.name == DB_NAME) and (l_graph.name == GRAPH_NAME)):   \n",
    "         l_handle = my_client.get_database(name = l_database.name).get_graph_by_id(id = l_graph.graph_id)\n",
    "         l_handle.delete()\n",
    "\n",
    "for l_graph in my_client.graphs():\n",
    "   print(\"GRAPH ID: \", l_graph.graph_id, \"      GRAPH Version: \", l_graph.version, \"   Graph Name: \", l_graph.name)\n",
    "\n",
    "print(\"--\")\n"
   ]
  },
  {
   "cell_type": "code",
   "execution_count": null,
   "id": "86bc4199-fa74-45e6-89f6-5c3a42b6a80a",
   "metadata": {},
   "outputs": [],
   "source": [
    "\n",
    "#  CREATE DATABASE\n",
    "\n",
    "my_database = my_client.create_database(name = DB_NAME)\n",
    "\n",
    "print(my_database.database_id)\n"
   ]
  },
  {
   "cell_type": "code",
   "execution_count": 7,
   "id": "d97f1f8c-e814-42f4-b260-977297c969d3",
   "metadata": {},
   "outputs": [
    {
     "name": "stdout",
     "output_type": "stream",
     "text": [
      "<_Graph my_graph_DCR, EXa2rkcs4yTfnip5Dk3MKZ7Kyi8gXes6KtpW3HVpGMQt, 0>\n",
      "--\n"
     ]
    }
   ],
   "source": [
    "\n",
    "#  CREATE GRAPH\n",
    "#\n",
    "my_graph = my_client.get_database(name = DB_NAME).create_graph(name = GRAPH_NAME, num_partitions = NUM_PARTITIONS)\n",
    "\n",
    "print(my_graph)\n",
    "\n",
    "print(\"--\")\n"
   ]
  },
  {
   "cell_type": "code",
   "execution_count": 9,
   "id": "580fe9f5-957b-49ce-8081-50a821af3d9c",
   "metadata": {},
   "outputs": [
    {
     "name": "stdout",
     "output_type": "stream",
     "text": [
      "<_Graph my_graph_DCR, EXa2rkcs4yTfnip5Dk3MKZ7Kyi8gXes6KtpW3HVpGMQt, 0>\n"
     ]
    }
   ],
   "source": [
    "\n",
    "#  CONNECT TO GRAPH\n",
    "\n",
    "my_graph, *_ = my_client.get_database(name=DB_NAME).find_graphs_by_name(GRAPH_NAME)\n",
    "\n",
    "print(my_graph)\n"
   ]
  },
  {
   "cell_type": "code",
   "execution_count": 12,
   "id": "7ab33507-d8a4-42e4-86c0-7770d16c96d8",
   "metadata": {},
   "outputs": [
    {
     "name": "stdout",
     "output_type": "stream",
     "text": [
      "Database Name: default                        Id: 31LJgi4MeHxKRw5s5proo1sz6HYU6RHquUmc1VEf583y\n",
      "   Graph Name: None                              Version: 0          Id: 4i9SqdhBRyf8ef61zX8GHodXjhhMQJabwLAYb9deWckY\n",
      "   Graph Name: boris-banco                       Version: 0          Id: 5RTxGR4PEAcbCBADJeJ1ePg5EzLAT9FUU9b4aSYnhWQr\n",
      "   Graph Name: None                              Version: 0          Id: 6SSpjAdXfqUyshg1uKtE7ZQr87qUECsSvyef1vhwyHe\n",
      "   Graph Name: None                              Version: 1          Id: 7n2Ea7XQJRAZDbpy8b6aMd1ZgVpxNtns7nnD9FCkxC4D\n",
      "   Graph Name: None                              Version: 1          Id: 8tyjJNXZdgetqZfg7tUAzb7GLqDtiFPfpbKcWkoiuv8K\n",
      "   Graph Name: None                              Version: 0          Id: BXvk7mTXXzmVkzk9PAhq2gch1scLYWjQ4qG6uZu4ZJ8L\n",
      "   Graph Name: None                              Version: 1          Id: BstbKLWK9gK5BYCZUCC29Z1cd1c8Su3CzEMFitrrYsBm\n",
      "   Graph Name: None                              Version: 0          Id: DBYvuGwDcLDaov4RkqwYn4et927yHNwhFvg2z1LauRXD\n",
      "   Graph Name: None                              Version: 1          Id: DN4zVdtPrgHSPPvFWhTdEVVXH5xMZG95VmJh5iu4TWH1\n",
      "   Graph Name: None                              Version: 0          Id: DP85KHycpBtBk6UB1iYVMMzqzXqnaY9CQzvdhuBtKKQZ\n",
      "   Graph Name: None                              Version: 1          Id: HrGLinhAMbEat7C3P5ZUaxupvRdpHDKE8e96CnouwPKT\n",
      "   Graph Name: None                              Version: 0          Id: cZX8zpFpYktWgRTDVZjPz5pExNLuGTH1GLQLsoDdDpR\n",
      "Database Name: my_db                          Id: 3vtxSLmouG7m6ntaDVRwjE2HCUfJ89e5nkoUNUn5zStp\n",
      "   Graph Name: my_graph_DCR                      Version: 1          Id: EXa2rkcs4yTfnip5Dk3MKZ7Kyi8gXes6KtpW3HVpGMQt\n",
      "\n",
      "--\n"
     ]
    }
   ],
   "source": [
    "\n",
    "#  Now that we share servers, get a better list of databases and graphs ..\n",
    "#\n",
    "\n",
    "for l_each_d in my_client.databases():\n",
    "   print(\"Database Name: %-28s   Id: %s\" % (l_each_d.name, l_each_d.database_id))\n",
    "      #\n",
    "   for l_each_g in my_client.get_database(name=l_each_d.name).graphs_in_database(): \n",
    "      print(\"   Graph Name: %-28s      Version: %-8d   Id: %s\" % (l_each_g.name, l_each_g.version, l_each_g.graph_id))\n",
    "\n",
    "\n",
    "print(\"\"  )\n",
    "print(\"--\")\n"
   ]
  },
  {
   "cell_type": "code",
   "execution_count": null,
   "id": "345a9e31-aa50-4b2b-9101-15767933ba8b",
   "metadata": {},
   "outputs": [],
   "source": [
    "\n",
    "####################################################################################\n"
   ]
  },
  {
   "cell_type": "code",
   "execution_count": 10,
   "id": "885f5f2f-d988-4f60-bb56-9d430efd77e9",
   "metadata": {},
   "outputs": [
    {
     "name": "stdout",
     "output_type": "stream",
     "text": [
      "***Loading nodes dataframe***\n",
      "***Loading edges dataframe***\n",
      "***Upserting nodes and edges into the graph***\n",
      "Importing graph from dataframe files into graph...\n"
     ]
    },
    {
     "data": {
      "application/vnd.jupyter.widget-view+json": {
       "model_id": "4f96224aef974570b758dacddc978c0a",
       "version_major": 2,
       "version_minor": 0
      },
      "text/plain": [
       " 0 messages received [?msg/s ]"
      ]
     },
     "metadata": {},
     "output_type": "display_data"
    },
    {
     "name": "stderr",
     "output_type": "stream",
     "text": [
      "WARNING:root:error while waiting, retrying (attempt=1)\n"
     ]
    },
    {
     "data": {
      "application/vnd.jupyter.widget-view+json": {
       "model_id": "9ec1433edcd648acaae0b0386c2cd0c2",
       "version_major": 2,
       "version_minor": 0
      },
      "text/plain": [
       " 0 messages received [?msg/s ]"
      ]
     },
     "metadata": {},
     "output_type": "display_data"
    },
    {
     "name": "stdout",
     "output_type": "stream",
     "text": [
      "Took 1447.041159601882 seconds to generate.\n",
      "--\n"
     ]
    }
   ],
   "source": [
    "\n",
    "from timeit import default_timer\n",
    "\n",
    "# Import the module that uses Dask to import drug data\n",
    "#\n",
    "from src import dask_ingestion\n",
    "\n",
    "start_time = default_timer()\n",
    "\n",
    "#  Create a named database/graph\n",
    "#\n",
    "#  graph = client.create_graph(num_partitions=input_config.num_partitions)\n",
    "\n",
    "#  if input_config.use_train_rdg:\n",
    "#      print(f\"Import pretrained graph from: {input_config.trained_rdg_path}\")\n",
    "#      import_data.rdg(my_graph, input_config.trained_rdg_path)\n",
    "#  else:\n",
    "#      print(\"Generate the graph with data from source\")\n",
    "#      dask_ingestion.generate_deepcdr_graph(my_graph, input_config)\n",
    "\n",
    "dask_ingestion.generate_deepcdr_graph(my_graph, input_config)\n",
    "\n",
    "print(f\"Took {default_timer() - start_time} seconds to generate.\")\n",
    "\n",
    "print(\"--\")\n",
    "\n",
    "#     ***Loading nodes dataframe***\n",
    "#     ***Loading edges dataframe***\n",
    "#     ***Upserting nodes and edges into the graph***\n",
    "#     Importing graph from dataframe files into graph...\n",
    "#  \n",
    "#     WARNING:root:error while waiting, retrying (attempt=1)\n",
    "#  \n",
    "#     Took 1447.041159601882 seconds to generate.\n"
   ]
  },
  {
   "cell_type": "markdown",
   "id": "04ccbd83-ef7e-4f45-a050-39ea7ed1ae79",
   "metadata": {},
   "source": [
    "### Inspect the Graph Schema\n",
    "\n",
    "Import the module with pipeline utility functions, create a `RecipePipeline` instance to store relevant information, and display a visual representation of the graph's schema."
   ]
  },
  {
   "cell_type": "code",
   "execution_count": 13,
   "id": "8d99d580-f5b1-471b-b540-d24fab04a24c",
   "metadata": {},
   "outputs": [
    {
     "data": {
      "application/vnd.jupyter.widget-view+json": {
       "model_id": "604532a38f654109a32777a641e6c5cb",
       "version_major": 2,
       "version_minor": 0
      },
      "text/plain": [
       "          0/? [?op/s]"
      ]
     },
     "metadata": {},
     "output_type": "display_data"
    },
    {
     "name": "stdout",
     "output_type": "stream",
     "text": [
      "--\n"
     ]
    },
    {
     "name": "stderr",
     "output_type": "stream",
     "text": [
      "/opt/conda/lib/python3.8/site-packages/katana/remote/result_set.py:69: UserWarning: Pandas doesn't allow columns to be created via a new attribute name - see https://pandas.pydata.org/pandas-docs/stable/indexing.html#attribute-access\n",
      "  self._response = response\n"
     ]
    }
   ],
   "source": [
    "\n",
    "from src import katana_pipeline\n",
    "\n",
    "rec_pipeline = katana_pipeline.RecipePipeline(my_graph)\n",
    "rec_pipeline.graph.schema().view()\n",
    "\n",
    "print(\"--\")\n"
   ]
  },
  {
   "cell_type": "markdown",
   "id": "83f5ed07-bbfc-45fd-a0ba-70cb68a5a53d",
   "metadata": {
    "tags": []
   },
   "source": [
    "<a id='step-2'></a>\n",
    "## Step 2: Extract ML-ready Data"
   ]
  },
  {
   "cell_type": "markdown",
   "id": "a8adb855-cb4a-4cde-a9fa-bee51c095ca9",
   "metadata": {},
   "source": [
    "<img src=\"images/pipeline_preprocess.png\" style=\"width: 1500px;\"/>"
   ]
  },
  {
   "cell_type": "markdown",
   "id": "1036bfac-aa1d-48be-9580-7200c588282d",
   "metadata": {},
   "source": [
    "### Feature Generation\n",
    "\n",
    "- Collect genomics data from edges between `CELL_LINE` and `GENE` and store the results in the `rec_pipeline` graph. \n",
    "- Remove unused nodes in the graph. \n",
    "\n",
    "\n",
    "<div class=\"alert alert-info\">\n",
    "You can see, add or remove preprocessing functions in the <a href=\"./src/preprocessing.py\" class=\"alert-link\">preprocessing.py</a> file, where they are typically implemented with simple OpenCypher queries.\n",
    "</div>\n",
    "\n",
    "The featurization of a `DRUG` into its graph representation is happening on-the-fly during the training-test-inference cycle. \n",
    "\n",
    "<div class=\"alert alert-info\">\n",
    "You can see or change the featurization of DRUG in the smiles_to_pyg function of the <a href=\"./src/utils.py\" class=\"alert-link\">utils.py</a> file. \n",
    "</div>"
   ]
  },
  {
   "cell_type": "code",
   "execution_count": 14,
   "id": "4ad1cca9-74b9-4e43-aa2e-aac854a9275b",
   "metadata": {},
   "outputs": [
    {
     "name": "stdout",
     "output_type": "stream",
     "text": [
      "Collecting genomics_expression features...\n"
     ]
    },
    {
     "data": {
      "application/vnd.jupyter.widget-view+json": {
       "model_id": "008a70e570084aa6938bf8a8d5417159",
       "version_major": 2,
       "version_minor": 0
      },
      "text/plain": [
       "          0/? [?op/s]"
      ]
     },
     "metadata": {},
     "output_type": "display_data"
    },
    {
     "name": "stdout",
     "output_type": "stream",
     "text": [
      "Collecting genomics_methylation features...\n"
     ]
    },
    {
     "data": {
      "application/vnd.jupyter.widget-view+json": {
       "model_id": "28409b39bf2c434c892df7cb902d93f9",
       "version_major": 2,
       "version_minor": 0
      },
      "text/plain": [
       "          0/? [?op/s]"
      ]
     },
     "metadata": {},
     "output_type": "display_data"
    },
    {
     "name": "stdout",
     "output_type": "stream",
     "text": [
      "Collecting genomics_mutation features...\n"
     ]
    },
    {
     "data": {
      "application/vnd.jupyter.widget-view+json": {
       "model_id": "83253ab17ccd44cba58b2cf6e1eee732",
       "version_major": 2,
       "version_minor": 0
      },
      "text/plain": [
       "          0/? [?op/s]"
      ]
     },
     "metadata": {},
     "output_type": "display_data"
    },
    {
     "name": "stdout",
     "output_type": "stream",
     "text": [
      "Deleting Cell lines with NULL features...\n"
     ]
    },
    {
     "data": {
      "application/vnd.jupyter.widget-view+json": {
       "model_id": "7c5d1d90c1224ae18dfd76f841105a9c",
       "version_major": 2,
       "version_minor": 0
      },
      "text/plain": [
       "          0/? [?op/s]"
      ]
     },
     "metadata": {},
     "output_type": "display_data"
    },
    {
     "name": "stdout",
     "output_type": "stream",
     "text": [
      "Deleting single nodes\n"
     ]
    },
    {
     "data": {
      "application/vnd.jupyter.widget-view+json": {
       "model_id": "e28faebee1014bd4a060cffa2755e930",
       "version_major": 2,
       "version_minor": 0
      },
      "text/plain": [
       "          0/? [?op/s]"
      ]
     },
     "metadata": {},
     "output_type": "display_data"
    },
    {
     "name": "stdout",
     "output_type": "stream",
     "text": [
      "Took 155.7198473410681 seconds to generate the features.\n",
      "--\n"
     ]
    }
   ],
   "source": [
    "\n",
    "start_time = default_timer()\n",
    "\n",
    "rec_pipeline.feature_generator()\n",
    "\n",
    "print(f\"Took {default_timer() - start_time} seconds to generate the features.\")\n",
    "\n",
    "print(\"--\")\n",
    "\n",
    "#     Collecting genomics_expression features...\n",
    "#     Collecting genomics_methylation features...\n",
    "#     Collecting genomics_mutation features...\n",
    "#     Deleting Cell lines with NULL features...\n",
    "#     Deleting single nodes\n",
    "#     \n",
    "#     Took 155.7198473410681 seconds to generate the features.\n"
   ]
  },
  {
   "cell_type": "markdown",
   "id": "8b44c2f0-6359-4d8f-b249-9a9cae9d4fd6",
   "metadata": {},
   "source": [
    "### Statistics of the graph\n",
    "\n",
    "Compute basics statistics to get the number of nodes in the graph. The number of pairs between a drug and a cell line is the data used to train and test the model."
   ]
  },
  {
   "cell_type": "code",
   "execution_count": 15,
   "id": "30cc94fa-4b49-46c8-a6cc-3a4b9033b024",
   "metadata": {},
   "outputs": [
    {
     "data": {
      "application/vnd.jupyter.widget-view+json": {
       "model_id": "011b1346fab84cf38a4dbecbeff5e803",
       "version_major": 2,
       "version_minor": 0
      },
      "text/plain": [
       "          0/? [?op/s]"
      ]
     },
     "metadata": {},
     "output_type": "display_data"
    },
    {
     "data": {
      "application/vnd.jupyter.widget-view+json": {
       "model_id": "5403002973a04793b69d7064e75f59e0",
       "version_major": 2,
       "version_minor": 0
      },
      "text/plain": [
       "          0/? [?op/s]"
      ]
     },
     "metadata": {},
     "output_type": "display_data"
    },
    {
     "data": {
      "application/vnd.jupyter.widget-view+json": {
       "model_id": "e3da0a9bc5ab414a90d7a714343c6346",
       "version_major": 2,
       "version_minor": 0
      },
      "text/plain": [
       "          0/? [?op/s]"
      ]
     },
     "metadata": {},
     "output_type": "display_data"
    },
    {
     "data": {
      "application/vnd.jupyter.widget-view+json": {
       "model_id": "ed10c0ab00f14a2f82a088f911b7c0bb",
       "version_major": 2,
       "version_minor": 0
      },
      "text/plain": [
       "          0/? [?op/s]"
      ]
     },
     "metadata": {},
     "output_type": "display_data"
    },
    {
     "data": {
      "application/vnd.jupyter.widget-view+json": {
       "model_id": "1aff5d690b9a4399b36ea991dd16e613",
       "version_major": 2,
       "version_minor": 0
      },
      "text/plain": [
       "          0/? [?op/s]"
      ]
     },
     "metadata": {},
     "output_type": "display_data"
    },
    {
     "name": "stdout",
     "output_type": "stream",
     "text": [
      "Number of nodes in the graph: 1699\n",
      "Number of edges in the graph: 17977573\n",
      "Number of DRUG nodes in the graph: 223\n",
      "Number of CELL_LINE nodes in the graph: 494\n",
      "Number of pairs between a drug and a cell line: 94314\n"
     ]
    }
   ],
   "source": [
    "\n",
    "stats = rec_pipeline.stats()\n",
    "print(stats)\n",
    "\n",
    "print(\"--\")\n",
    "\n",
    "#     Number of nodes in the graph: 1699\n",
    "#     Number of edges in the graph: 17977573\n",
    "#     Number of DRUG nodes in the graph: 223\n",
    "#     Number of CELL_LINE nodes in the graph: 494\n",
    "#     Number of pairs between a drug and a cell line: 94314\n"
   ]
  },
  {
   "cell_type": "markdown",
   "id": "9d082f63-c5d7-4194-856b-4762ff4bbdf8",
   "metadata": {},
   "source": [
    "### Split Generation\n",
    "\n",
    "Based on the known drug–cell line interactions across cancer cell lines  and drugs, we randomly\n",
    "selected 95% of instances of each TCGA cancer type as the training set and the remaining 5% of the instances as the testing set for model evaluation.\n",
    "\n",
    "We create new edges in our `rec_pipeline` graph with `SPLIT` labels between `DRUG` and `CELL_LINE` nodes. The old split will be deleted.\n",
    "\n",
    "<div class=\"alert alert-info\">\n",
    "You can choose to change the train-test fraction or the seeds used for the split using the <a href=\"./config/hyperparams.py\" class=\"alert-link\">test_size</a> and <a href=\"./config/hyperparams.py\" class=\"alert-link\">random_state</a> parameters.\n",
    "</div>"
   ]
  },
  {
   "cell_type": "code",
   "execution_count": 16,
   "id": "dc30ac93-1a4c-4099-b7e2-44949827d890",
   "metadata": {
    "tags": []
   },
   "outputs": [
    {
     "name": "stdout",
     "output_type": "stream",
     "text": [
      "Deleting old split\n"
     ]
    },
    {
     "data": {
      "application/vnd.jupyter.widget-view+json": {
       "model_id": "9d4affdb95ac434197d73a02f6e0c207",
       "version_major": 2,
       "version_minor": 0
      },
      "text/plain": [
       "          0/? [?op/s]"
      ]
     },
     "metadata": {},
     "output_type": "display_data"
    },
    {
     "name": "stdout",
     "output_type": "stream",
     "text": [
      "Generating split\n"
     ]
    },
    {
     "data": {
      "application/vnd.jupyter.widget-view+json": {
       "model_id": "f1d417fe19e5490b884b4e8e1005cbe7",
       "version_major": 2,
       "version_minor": 0
      },
      "text/plain": [
       "          0/? [?op/s]"
      ]
     },
     "metadata": {},
     "output_type": "display_data"
    },
    {
     "name": "stdout",
     "output_type": "stream",
     "text": [
      "Upsert split on the graph\n"
     ]
    },
    {
     "data": {
      "application/vnd.jupyter.widget-view+json": {
       "model_id": "28e18c8ad79746c49d681dd816babb45",
       "version_major": 2,
       "version_minor": 0
      },
      "text/plain": [
       " 0 messages received [?msg/s ]"
      ]
     },
     "metadata": {},
     "output_type": "display_data"
    },
    {
     "name": "stdout",
     "output_type": "stream",
     "text": [
      "Took 19.541164185851812 seconds to generate the split.\n"
     ]
    },
    {
     "data": {
      "application/vnd.jupyter.widget-view+json": {
       "model_id": "196b0e2a64544b4aa7170261075a3c08",
       "version_major": 2,
       "version_minor": 0
      },
      "text/plain": [
       "          0/? [?op/s]"
      ]
     },
     "metadata": {},
     "output_type": "display_data"
    },
    {
     "name": "stderr",
     "output_type": "stream",
     "text": [
      "/opt/conda/lib/python3.8/site-packages/katana/remote/result_set.py:69: UserWarning: Pandas doesn't allow columns to be created via a new attribute name - see https://pandas.pydata.org/pandas-docs/stable/indexing.html#attribute-access\n",
      "  self._response = response\n"
     ]
    },
    {
     "data": {
      "application/vnd.jupyter.widget-view+json": {
       "model_id": "648e4ad113db43358b808be8ba39a88d",
       "version_major": 2,
       "version_minor": 0
      },
      "text/plain": [
       "VBox(children=(HTML(value='\\n                <style>\\n                #jp-main-content-panel .widget-container…"
      ]
     },
     "metadata": {},
     "output_type": "display_data"
    }
   ],
   "source": [
    "\n",
    "start_time = default_timer()\n",
    "rec_pipeline.split_generator(input_config)\n",
    "print(f\"Took {default_timer() - start_time} seconds to generate the split.\")\n",
    "\n",
    "rec_pipeline.graph.schema().view()\n",
    "\n",
    "print(\"--\")\n",
    "\n",
    "#     Deleting old split\n",
    "#     Generating split\n",
    "#     Upsert split on the graph\n",
    "#     \n",
    "#     Took 19.541164185851812 seconds to generate the split.\n"
   ]
  },
  {
   "cell_type": "markdown",
   "id": "d086603e-d2d4-45af-8afd-f91849e32f9a",
   "metadata": {
    "tags": []
   },
   "source": [
    "<a id='step-3'></a>\n",
    "## AI Training Pipeline"
   ]
  },
  {
   "cell_type": "markdown",
   "id": "2df6ce75-84ea-4c86-9420-ea0d4f7668e9",
   "metadata": {},
   "source": [
    "<img src=\"images/pipeline_gnn.png\" style=\"width: 1500px;\"/>"
   ]
  },
  {
   "cell_type": "markdown",
   "id": "e5c6bb1a-7c59-43eb-b5a2-d9c06183bf29",
   "metadata": {},
   "source": [
    "### Initialize model training"
   ]
  },
  {
   "cell_type": "markdown",
   "id": "7e3de5b0-5f66-4dc6-8f30-3e66d789ecb7",
   "metadata": {},
   "source": [
    "<center><img src=\"./images/model.png\" style=\"width:70%;\"></center>\n",
    "\n",
    "DeepCDR is a hybrid graph convolutional network model that predicts the IC50 value, which denotes the effectiveness of a drug in inhibiting the growth of a specific cancer cell line.\n",
    "\n",
    "On the one hand, the graph neural network (GNN) takes the adjacent information of atoms in a drug into consideration by aggregating the features of neighboring atoms together. On the other hand, the subnetworks extract high-level features of cancer omics profiles from a certain cancer cell line (i.e., genomic data, transcriptomic data and epigenomic data). Then the high-level features of drug and multiple omics data get concatenated and fed to a 1-D\n",
    "convolutional neural network."
   ]
  },
  {
   "cell_type": "markdown",
   "id": "a8394f5c-c3d8-4782-b34b-5d330c8c414a",
   "metadata": {},
   "source": [
    "### Load Model configuration\n",
    "\n",
    "The model configuration defines the specifications of the model that will be used to train on the graph.\n",
    "\n",
    "<div class=\"alert alert-info\">\n",
    "You can change the model configuration in the <a href=\"./config/hyperparams.py\" class=\"alert-link\">hyperparams.py</a> file. By default the model is using genomics, epigenomics and transcriptomics data.\n",
    "</div>\n",
    "\n",
    "<div class=\"alert alert-info\">\n",
    "You can change the model architecture in the <a href=\"./src/model.py\" class=\"alert-link\">model.py</a> file.\n",
    "</div>"
   ]
  },
  {
   "cell_type": "code",
   "execution_count": 17,
   "id": "07e70ffb-3c7c-49ef-baa9-f4aff238e84e",
   "metadata": {},
   "outputs": [
    {
     "name": "stdout",
     "output_type": "stream",
     "text": [
      "DeepCDRConfig:\n",
      "    genomics = True,\n",
      "    epigenomics = False,\n",
      "    transcriptomics = False\n",
      "--\n"
     ]
    }
   ],
   "source": [
    "\n",
    "model_config = hyperparams.load_model_config()\n",
    "print(model_config)\n",
    "\n",
    "print(\"--\")\n"
   ]
  },
  {
   "cell_type": "markdown",
   "id": "247df214-0c2a-4787-b97f-ca6d9b5f457f",
   "metadata": {},
   "source": [
    "### Load Training configuration\n",
    "\n",
    "The training configuration specify details of the training pipeline.\n",
    "\n",
    "<div class=\"alert alert-info\">\n",
    "You can change the training configuration in the <a href=\"./config/hyperparams.py\" class=\"alert-link\">hyperparams.py</a> file.\n",
    "</div>"
   ]
  },
  {
   "cell_type": "code",
   "execution_count": 18,
   "id": "171b3bae-5feb-482a-9baa-ecdbb8b1915e",
   "metadata": {},
   "outputs": [
    {
     "name": "stdout",
     "output_type": "stream",
     "text": [
      "--\n"
     ]
    }
   ],
   "source": [
    "\n",
    "training_config = hyperparams.load_training_config()\n",
    "training_config\n",
    "\n",
    "print(\"--\")\n"
   ]
  },
  {
   "cell_type": "markdown",
   "id": "c09dd293-1f51-4040-ba2b-44e130f67951",
   "metadata": {},
   "source": [
    "### Training\n",
    "\n",
    "Distributed training of the model. The trained model and its configuration will be saved in the `rec_pipeline` graph using the `experiment_name` graph property."
   ]
  },
  {
   "cell_type": "code",
   "execution_count": 20,
   "id": "e9faa3bf-3b43-4d26-a069-09f7bb342808",
   "metadata": {},
   "outputs": [
    {
     "data": {
      "application/vnd.jupyter.widget-view+json": {
       "model_id": "e9ce1ac8dc924a9e894ccab538caa3d8",
       "version_major": 2,
       "version_minor": 0
      },
      "text/plain": [
       " 0 messages received [?msg/s ]"
      ]
     },
     "metadata": {},
     "output_type": "display_data"
    },
    {
     "ename": "WorkerError",
     "evalue": "graph-worker exited while executing operation 9uDREFYXJ8dmm3f4H8EBvPPrsSGRARnh1ERht4pJ7JYy-2uwqfvUFKxUFvYHWK (segmentation fault [origin_code: '3', extra_info: 'exit status 139: graph-worker exited with wait status 35584\n']",
     "output_type": "error",
     "traceback": [
      "\u001b[0;31m---------------------------------------------------------------------------\u001b[0m",
      "\u001b[0;31mWorkerError\u001b[0m                               Traceback (most recent call last)",
      "Cell \u001b[0;32mIn[20], line 2\u001b[0m\n\u001b[1;32m      1\u001b[0m start_time \u001b[38;5;241m=\u001b[39m default_timer()\n\u001b[0;32m----> 2\u001b[0m validation_metric \u001b[38;5;241m=\u001b[39m \u001b[43mrec_pipeline\u001b[49m\u001b[38;5;241;43m.\u001b[39;49m\u001b[43mtrain\u001b[49m\u001b[43m(\u001b[49m\u001b[43mmodel_config\u001b[49m\u001b[43m,\u001b[49m\u001b[43m \u001b[49m\u001b[43mtraining_config\u001b[49m\u001b[43m)\u001b[49m\n\u001b[1;32m      3\u001b[0m \u001b[38;5;28mprint\u001b[39m(\u001b[38;5;124mf\u001b[39m\u001b[38;5;124m\"\u001b[39m\u001b[38;5;124mTook \u001b[39m\u001b[38;5;132;01m{\u001b[39;00mdefault_timer()\u001b[38;5;250m \u001b[39m\u001b[38;5;241m-\u001b[39m\u001b[38;5;250m \u001b[39mstart_time\u001b[38;5;132;01m}\u001b[39;00m\u001b[38;5;124m seconds to train the model.\u001b[39m\u001b[38;5;124m\"\u001b[39m)\n\u001b[1;32m      5\u001b[0m \u001b[38;5;28mprint\u001b[39m(\u001b[38;5;124m\"\u001b[39m\u001b[38;5;124mValidation metric: \u001b[39m\u001b[38;5;124m\"\u001b[39m, validation_metric)\n",
      "File \u001b[0;32m~/My_KG_NoteBooks/R1_DeepCDR/Version_04_Flattened/src/utils.py:89\u001b[0m, in \u001b[0;36mdisable_warnings.<locals>.wrapper\u001b[0;34m(*args, **kwargs)\u001b[0m\n\u001b[1;32m     87\u001b[0m \u001b[38;5;28;01mdef\u001b[39;00m \u001b[38;5;21mwrapper\u001b[39m(\u001b[38;5;241m*\u001b[39margs, \u001b[38;5;241m*\u001b[39m\u001b[38;5;241m*\u001b[39mkwargs):\n\u001b[1;32m     88\u001b[0m     \u001b[38;5;28;01mwith\u001b[39;00m capture_output(\u001b[38;5;28;01mFalse\u001b[39;00m, \u001b[38;5;28;01mTrue\u001b[39;00m, \u001b[38;5;28;01mFalse\u001b[39;00m):\n\u001b[0;32m---> 89\u001b[0m         \u001b[38;5;28;01mreturn\u001b[39;00m \u001b[43mfunc\u001b[49m\u001b[43m(\u001b[49m\u001b[38;5;241;43m*\u001b[39;49m\u001b[43margs\u001b[49m\u001b[43m,\u001b[49m\u001b[43m \u001b[49m\u001b[38;5;241;43m*\u001b[39;49m\u001b[38;5;241;43m*\u001b[39;49m\u001b[43mkwargs\u001b[49m\u001b[43m)\u001b[49m\n",
      "File \u001b[0;32m~/My_KG_NoteBooks/R1_DeepCDR/Version_04_Flattened/src/katana_pipeline.py:156\u001b[0m, in \u001b[0;36mRecipePipeline.train\u001b[0;34m(self, model_hp, training_hp)\u001b[0m\n\u001b[1;32m    153\u001b[0m     experiment_mgr\u001b[38;5;241m.\u001b[39mupsert(training_hp\u001b[38;5;241m.\u001b[39mexperiment_name, experiment)\n\u001b[1;32m    154\u001b[0m     \u001b[38;5;28;01mreturn\u001b[39;00m single_host(best_validation_metric[\u001b[38;5;124m\"\u001b[39m\u001b[38;5;124mvalidation_metric\u001b[39m\u001b[38;5;124m\"\u001b[39m])\n\u001b[0;32m--> 156\u001b[0m \u001b[38;5;28;01mreturn\u001b[39;00m \u001b[38;5;28;43mself\u001b[39;49m\u001b[38;5;241;43m.\u001b[39;49m\u001b[43mgraph\u001b[49m\u001b[38;5;241;43m.\u001b[39;49m\u001b[43mrun\u001b[49m\u001b[43m(\u001b[49m\u001b[38;5;28;43;01mlambda\u001b[39;49;00m\u001b[43m \u001b[49m\u001b[43mg\u001b[49m\u001b[43m:\u001b[49m\u001b[43m \u001b[49m\u001b[43mremote_training\u001b[49m\u001b[43m(\u001b[49m\u001b[43mg\u001b[49m\u001b[43m,\u001b[49m\u001b[43m \u001b[49m\u001b[43mmodel_hp\u001b[49m\u001b[43m,\u001b[49m\u001b[43m \u001b[49m\u001b[43mtraining_hp\u001b[49m\u001b[43m)\u001b[49m\u001b[43m)\u001b[49m\n",
      "File \u001b[0;32m/opt/conda/lib/python3.8/site-packages/katana/async_to_sync.py:275\u001b[0m, in \u001b[0;36mAsyncToSync.<locals>.do_wrap.<locals>.wrapper\u001b[0;34m(self, *args, **kwargs)\u001b[0m\n\u001b[1;32m    272\u001b[0m \u001b[38;5;129m@wraps\u001b[39m(underlying_func)\n\u001b[1;32m    273\u001b[0m \u001b[38;5;28;01mdef\u001b[39;00m \u001b[38;5;21mwrapper\u001b[39m(\u001b[38;5;28mself\u001b[39m, \u001b[38;5;241m*\u001b[39margs, \u001b[38;5;241m*\u001b[39m\u001b[38;5;241m*\u001b[39mkwargs):\n\u001b[1;32m    274\u001b[0m     \u001b[38;5;28;01mreturn\u001b[39;00m registry\u001b[38;5;241m.\u001b[39masync_to_sync(\n\u001b[0;32m--> 275\u001b[0m         \u001b[43munderlying_func\u001b[49m\u001b[43m(\u001b[49m\n\u001b[1;32m    276\u001b[0m \u001b[43m            \u001b[49m\u001b[43mget_self_func\u001b[49m\u001b[43m(\u001b[49m\u001b[38;5;28;43mself\u001b[39;49m\u001b[43m)\u001b[49m\u001b[43m,\u001b[49m\n\u001b[1;32m    277\u001b[0m \u001b[43m            \u001b[49m\u001b[38;5;241;43m*\u001b[39;49m\u001b[43m(\u001b[49m\u001b[43mregistry\u001b[49m\u001b[38;5;241;43m.\u001b[39;49m\u001b[43msync_to_async\u001b[49m\u001b[43m(\u001b[49m\u001b[43ma\u001b[49m\u001b[43m)\u001b[49m\u001b[43m \u001b[49m\u001b[38;5;28;43;01mfor\u001b[39;49;00m\u001b[43m \u001b[49m\u001b[43ma\u001b[49m\u001b[43m \u001b[49m\u001b[38;5;129;43;01min\u001b[39;49;00m\u001b[43m \u001b[49m\u001b[43margs\u001b[49m\u001b[43m)\u001b[49m\u001b[43m,\u001b[49m\n\u001b[1;32m    278\u001b[0m \u001b[43m            \u001b[49m\u001b[38;5;241;43m*\u001b[39;49m\u001b[38;5;241;43m*\u001b[39;49m\u001b[43m{\u001b[49m\u001b[43mk\u001b[49m\u001b[43m:\u001b[49m\u001b[43m \u001b[49m\u001b[43mregistry\u001b[49m\u001b[38;5;241;43m.\u001b[39;49m\u001b[43msync_to_async\u001b[49m\u001b[43m(\u001b[49m\u001b[43mv\u001b[49m\u001b[43m)\u001b[49m\u001b[43m \u001b[49m\u001b[38;5;28;43;01mfor\u001b[39;49;00m\u001b[43m \u001b[49m\u001b[43mk\u001b[49m\u001b[43m,\u001b[49m\u001b[43m \u001b[49m\u001b[43mv\u001b[49m\u001b[43m \u001b[49m\u001b[38;5;129;43;01min\u001b[39;49;00m\u001b[43m \u001b[49m\u001b[43mkwargs\u001b[49m\u001b[38;5;241;43m.\u001b[39;49m\u001b[43mitems\u001b[49m\u001b[43m(\u001b[49m\u001b[43m)\u001b[49m\u001b[43m}\u001b[49m\u001b[43m,\u001b[49m\n\u001b[1;32m    279\u001b[0m \u001b[43m        \u001b[49m\u001b[43m)\u001b[49m\n\u001b[1;32m    280\u001b[0m     )\n",
      "File \u001b[0;32m/opt/conda/lib/python3.8/site-packages/katana/async_to_sync.py:192\u001b[0m, in \u001b[0;36masync_to_sync.<locals>.wrapper\u001b[0;34m(timeout, *args, **kwargs)\u001b[0m\n\u001b[1;32m    182\u001b[0m     registry \u001b[38;5;241m=\u001b[39m AsyncToSyncClassRegistry\u001b[38;5;241m.\u001b[39mget()\n\u001b[1;32m    183\u001b[0m     \u001b[38;5;28;01mreturn\u001b[39;00m registry\u001b[38;5;241m.\u001b[39masync_to_sync(\n\u001b[1;32m    184\u001b[0m         wait_for(\n\u001b[1;32m    185\u001b[0m             async_func(\n\u001b[0;32m   (...)\u001b[0m\n\u001b[1;32m    190\u001b[0m         )\n\u001b[1;32m    191\u001b[0m     )\n\u001b[0;32m--> 192\u001b[0m \u001b[38;5;28;01mreturn\u001b[39;00m \u001b[43mwait_for\u001b[49m\u001b[43m(\u001b[49m\u001b[43masync_func\u001b[49m\u001b[43m(\u001b[49m\u001b[38;5;241;43m*\u001b[39;49m\u001b[43margs\u001b[49m\u001b[43m,\u001b[49m\u001b[43m \u001b[49m\u001b[38;5;241;43m*\u001b[39;49m\u001b[38;5;241;43m*\u001b[39;49m\u001b[43mkwargs\u001b[49m\u001b[43m)\u001b[49m\u001b[43m,\u001b[49m\u001b[43m \u001b[49m\u001b[43mtimeout\u001b[49m\u001b[38;5;241;43m=\u001b[39;49m\u001b[43mtimeout\u001b[49m\u001b[43m)\u001b[49m\n",
      "File \u001b[0;32m/opt/conda/lib/python3.8/site-packages/katana/async_to_sync.py:149\u001b[0m, in \u001b[0;36mwait_for\u001b[0;34m(coro, timeout)\u001b[0m\n\u001b[1;32m    147\u001b[0m \u001b[38;5;28;01mtry\u001b[39;00m:\n\u001b[1;32m    148\u001b[0m     future \u001b[38;5;241m=\u001b[39m asyncio\u001b[38;5;241m.\u001b[39mrun_coroutine_threadsafe(timeout_coro, loop\u001b[38;5;241m=\u001b[39mAsyncRunnerThread\u001b[38;5;241m.\u001b[39mget()\u001b[38;5;241m.\u001b[39mloop)\n\u001b[0;32m--> 149\u001b[0m     \u001b[38;5;28;01mreturn\u001b[39;00m \u001b[43mfuture\u001b[49m\u001b[38;5;241;43m.\u001b[39;49m\u001b[43mresult\u001b[49m\u001b[43m(\u001b[49m\u001b[43m)\u001b[49m\n\u001b[1;32m    150\u001b[0m \u001b[38;5;28;01mexcept\u001b[39;00m asyncio\u001b[38;5;241m.\u001b[39mexceptions\u001b[38;5;241m.\u001b[39mTimeoutError \u001b[38;5;28;01mas\u001b[39;00m ex:\n\u001b[1;32m    151\u001b[0m     inner_future\u001b[38;5;241m.\u001b[39mcancel()\n",
      "File \u001b[0;32m/opt/conda/lib/python3.8/concurrent/futures/_base.py:444\u001b[0m, in \u001b[0;36mFuture.result\u001b[0;34m(self, timeout)\u001b[0m\n\u001b[1;32m    442\u001b[0m     \u001b[38;5;28;01mraise\u001b[39;00m CancelledError()\n\u001b[1;32m    443\u001b[0m \u001b[38;5;28;01melif\u001b[39;00m \u001b[38;5;28mself\u001b[39m\u001b[38;5;241m.\u001b[39m_state \u001b[38;5;241m==\u001b[39m FINISHED:\n\u001b[0;32m--> 444\u001b[0m     \u001b[38;5;28;01mreturn\u001b[39;00m \u001b[38;5;28;43mself\u001b[39;49m\u001b[38;5;241;43m.\u001b[39;49m\u001b[43m__get_result\u001b[49m\u001b[43m(\u001b[49m\u001b[43m)\u001b[49m\n\u001b[1;32m    445\u001b[0m \u001b[38;5;28;01melse\u001b[39;00m:\n\u001b[1;32m    446\u001b[0m     \u001b[38;5;28;01mraise\u001b[39;00m \u001b[38;5;167;01mTimeoutError\u001b[39;00m()\n",
      "File \u001b[0;32m/opt/conda/lib/python3.8/concurrent/futures/_base.py:389\u001b[0m, in \u001b[0;36mFuture.__get_result\u001b[0;34m(self)\u001b[0m\n\u001b[1;32m    387\u001b[0m \u001b[38;5;28;01mif\u001b[39;00m \u001b[38;5;28mself\u001b[39m\u001b[38;5;241m.\u001b[39m_exception:\n\u001b[1;32m    388\u001b[0m     \u001b[38;5;28;01mtry\u001b[39;00m:\n\u001b[0;32m--> 389\u001b[0m         \u001b[38;5;28;01mraise\u001b[39;00m \u001b[38;5;28mself\u001b[39m\u001b[38;5;241m.\u001b[39m_exception\n\u001b[1;32m    390\u001b[0m     \u001b[38;5;28;01mfinally\u001b[39;00m:\n\u001b[1;32m    391\u001b[0m         \u001b[38;5;66;03m# Break a reference cycle with the exception in self._exception\u001b[39;00m\n\u001b[1;32m    392\u001b[0m         \u001b[38;5;28mself\u001b[39m \u001b[38;5;241m=\u001b[39m \u001b[38;5;28;01mNone\u001b[39;00m\n",
      "File \u001b[0;32m/opt/conda/lib/python3.8/asyncio/tasks.py:455\u001b[0m, in \u001b[0;36mwait_for\u001b[0;34m(fut, timeout, loop)\u001b[0m\n\u001b[1;32m    450\u001b[0m     warnings\u001b[38;5;241m.\u001b[39mwarn(\u001b[38;5;124m\"\u001b[39m\u001b[38;5;124mThe loop argument is deprecated since Python 3.8, \u001b[39m\u001b[38;5;124m\"\u001b[39m\n\u001b[1;32m    451\u001b[0m                   \u001b[38;5;124m\"\u001b[39m\u001b[38;5;124mand scheduled for removal in Python 3.10.\u001b[39m\u001b[38;5;124m\"\u001b[39m,\n\u001b[1;32m    452\u001b[0m                   \u001b[38;5;167;01mDeprecationWarning\u001b[39;00m, stacklevel\u001b[38;5;241m=\u001b[39m\u001b[38;5;241m2\u001b[39m)\n\u001b[1;32m    454\u001b[0m \u001b[38;5;28;01mif\u001b[39;00m timeout \u001b[38;5;129;01mis\u001b[39;00m \u001b[38;5;28;01mNone\u001b[39;00m:\n\u001b[0;32m--> 455\u001b[0m     \u001b[38;5;28;01mreturn\u001b[39;00m \u001b[38;5;28;01mawait\u001b[39;00m fut\n\u001b[1;32m    457\u001b[0m \u001b[38;5;28;01mif\u001b[39;00m timeout \u001b[38;5;241m<\u001b[39m\u001b[38;5;241m=\u001b[39m \u001b[38;5;241m0\u001b[39m:\n\u001b[1;32m    458\u001b[0m     fut \u001b[38;5;241m=\u001b[39m ensure_future(fut, loop\u001b[38;5;241m=\u001b[39mloop)\n",
      "File \u001b[0;32m/opt/conda/lib/python3.8/site-packages/katana/remote/aio/graph.py:764\u001b[0m, in \u001b[0;36mGraph.run\u001b[0;34m(self, function)\u001b[0m\n\u001b[1;32m    754\u001b[0m \u001b[38;5;28;01masync\u001b[39;00m \u001b[38;5;28;01mdef\u001b[39;00m \u001b[38;5;21mrun\u001b[39m(\u001b[38;5;28mself\u001b[39m, function):\n\u001b[1;32m    755\u001b[0m \u001b[38;5;250m    \u001b[39m\u001b[38;5;124;03m\"\"\"Execute the given function in the cluster on multiple Message Passing\u001b[39;00m\n\u001b[1;32m    756\u001b[0m \u001b[38;5;124;03m    Interface (MPI) workers. Any output is printed as output from this\u001b[39;00m\n\u001b[1;32m    757\u001b[0m \u001b[38;5;124;03m    process.\u001b[39;00m\n\u001b[0;32m   (...)\u001b[0m\n\u001b[1;32m    761\u001b[0m \n\u001b[1;32m    762\u001b[0m \u001b[38;5;124;03m    \"\"\"\u001b[39;00m\n\u001b[0;32m--> 764\u001b[0m     result \u001b[38;5;241m=\u001b[39m \u001b[38;5;28;01mawait\u001b[39;00m \u001b[38;5;28mself\u001b[39m\u001b[38;5;241m.\u001b[39m_run_result(function, api_version\u001b[38;5;241m=\u001b[39m\u001b[38;5;241m2\u001b[39m)\n\u001b[1;32m    765\u001b[0m     \u001b[38;5;28mprint\u001b[39m(result\u001b[38;5;241m.\u001b[39mstdout, file\u001b[38;5;241m=\u001b[39msys\u001b[38;5;241m.\u001b[39mstdout, end\u001b[38;5;241m=\u001b[39m\u001b[38;5;124m\"\u001b[39m\u001b[38;5;124m\"\u001b[39m)\n\u001b[1;32m    766\u001b[0m     \u001b[38;5;28mprint\u001b[39m(result\u001b[38;5;241m.\u001b[39mstderr, file\u001b[38;5;241m=\u001b[39msys\u001b[38;5;241m.\u001b[39mstderr, end\u001b[38;5;241m=\u001b[39m\u001b[38;5;124m\"\u001b[39m\u001b[38;5;124m\"\u001b[39m)\n",
      "File \u001b[0;32m/opt/conda/lib/python3.8/site-packages/katana/remote/aio/graph.py:773\u001b[0m, in \u001b[0;36mGraph._run_result\u001b[0;34m(self, function, api_version)\u001b[0m\n\u001b[1;32m    769\u001b[0m \u001b[38;5;28;01masync\u001b[39;00m \u001b[38;5;28;01mdef\u001b[39;00m \u001b[38;5;21m_run_result\u001b[39m(\u001b[38;5;28mself\u001b[39m, function, api_version\u001b[38;5;241m=\u001b[39m\u001b[38;5;241m1\u001b[39m):\n\u001b[1;32m    770\u001b[0m     data \u001b[38;5;241m=\u001b[39m \u001b[38;5;28mself\u001b[39m\u001b[38;5;241m.\u001b[39m_add_operation_metadata(\n\u001b[1;32m    771\u001b[0m         {\u001b[38;5;124m\"\u001b[39m\u001b[38;5;124mpython\u001b[39m\u001b[38;5;124m\"\u001b[39m: {\u001b[38;5;124m\"\u001b[39m\u001b[38;5;124mfunction\u001b[39m\u001b[38;5;124m\"\u001b[39m: base64\u001b[38;5;241m.\u001b[39mpickle(function), \u001b[38;5;124m\"\u001b[39m\u001b[38;5;124mapi_version\u001b[39m\u001b[38;5;124m\"\u001b[39m: api_version,}}\n\u001b[1;32m    772\u001b[0m     )\n\u001b[0;32m--> 773\u001b[0m     \u001b[38;5;28;01mreturn\u001b[39;00m RunResult(\u001b[38;5;241m*\u001b[39mbase64\u001b[38;5;241m.\u001b[39munpickle((\u001b[38;5;28;01mawait\u001b[39;00m \u001b[38;5;28mself\u001b[39m\u001b[38;5;241m.\u001b[39m_run_asynchronously_and_log_output(data))[\u001b[38;5;124m\"\u001b[39m\u001b[38;5;124mresult\u001b[39m\u001b[38;5;124m\"\u001b[39m]))\n",
      "File \u001b[0;32m/opt/conda/lib/python3.8/site-packages/katana/remote/aio/graph.py:352\u001b[0m, in \u001b[0;36mGraph._run_asynchronously_and_log_output\u001b[0;34m(self, data)\u001b[0m\n\u001b[1;32m    348\u001b[0m \u001b[38;5;28;01mfrom\u001b[39;00m \u001b[38;5;21;01mkatana\u001b[39;00m\u001b[38;5;21;01m.\u001b[39;00m\u001b[38;5;21;01mremote\u001b[39;00m\u001b[38;5;21;01m.\u001b[39;00m\u001b[38;5;21;01mgrpc\u001b[39;00m\u001b[38;5;21;01m.\u001b[39;00m\u001b[38;5;21;01mv2\u001b[39;00m \u001b[38;5;28;01mimport\u001b[39;00m FollowOutputRequest\n\u001b[1;32m    350\u001b[0m data \u001b[38;5;241m=\u001b[39m \u001b[38;5;28mself\u001b[39m\u001b[38;5;241m.\u001b[39m_add_operation_metadata(data)\n\u001b[0;32m--> 352\u001b[0m result \u001b[38;5;241m=\u001b[39m (\u001b[38;5;28;01mawait\u001b[39;00m \u001b[38;5;28mself\u001b[39m\u001b[38;5;241m.\u001b[39m_database\u001b[38;5;241m.\u001b[39m_run_function_on_graph_and_wait(\u001b[38;5;28mself\u001b[39m, data))[\u001b[38;5;124m\"\u001b[39m\u001b[38;5;124mresult\u001b[39m\u001b[38;5;124m\"\u001b[39m]\n\u001b[1;32m    353\u001b[0m \u001b[38;5;28;01mawait\u001b[39;00m \u001b[38;5;28mself\u001b[39m\u001b[38;5;241m.\u001b[39m_database\u001b[38;5;241m.\u001b[39m_refresh_graph_version(\u001b[38;5;28mself\u001b[39m)\n\u001b[1;32m    354\u001b[0m \u001b[38;5;28;01mreturn\u001b[39;00m result\n",
      "File \u001b[0;32m/opt/conda/lib/python3.8/site-packages/katana/remote/aio/client.py:502\u001b[0m, in \u001b[0;36mDatabase._run_function_on_graph_and_wait\u001b[0;34m(self, graph, data)\u001b[0m\n\u001b[1;32m    500\u001b[0m \u001b[38;5;28;01mwhile\u001b[39;00m attempt \u001b[38;5;241m<\u001b[39m max_attempts:\n\u001b[1;32m    501\u001b[0m     \u001b[38;5;28;01mtry\u001b[39;00m:\n\u001b[0;32m--> 502\u001b[0m         \u001b[38;5;28;01mreturn\u001b[39;00m \u001b[38;5;28;01mawait\u001b[39;00m \u001b[38;5;28mself\u001b[39m\u001b[38;5;241m.\u001b[39m_wait_op_run_function(op)\n\u001b[1;32m    503\u001b[0m     \u001b[38;5;28;01mexcept\u001b[39;00m errors\u001b[38;5;241m.\u001b[39mServerCommunicationError:\n\u001b[1;32m    504\u001b[0m         logging\u001b[38;5;241m.\u001b[39mwarning(\u001b[38;5;124mf\u001b[39m\u001b[38;5;124m\"\u001b[39m\u001b[38;5;124merror while waiting, retrying (attempt=\u001b[39m\u001b[38;5;132;01m{\u001b[39;00mattempt\u001b[38;5;132;01m}\u001b[39;00m\u001b[38;5;124m)\u001b[39m\u001b[38;5;124m\"\u001b[39m)\n",
      "File \u001b[0;32m/opt/conda/lib/python3.8/site-packages/katana/remote/aio/client.py:408\u001b[0m, in \u001b[0;36mDatabase._wait_op_run_function\u001b[0;34m(self, op)\u001b[0m\n\u001b[1;32m    404\u001b[0m \u001b[38;5;28;01masync\u001b[39;00m \u001b[38;5;28;01mwith\u001b[39;00m wait_fn(operation_id) \u001b[38;5;28;01mas\u001b[39;00m stream:\n\u001b[1;32m    405\u001b[0m     \u001b[38;5;28;01masync\u001b[39;00m \u001b[38;5;28;01mwith\u001b[39;00m aiostream\u001b[38;5;241m.\u001b[39mstream\u001b[38;5;241m.\u001b[39mmerge(\n\u001b[1;32m    406\u001b[0m         stream, follow_op_ouputs(operation_id)\n\u001b[1;32m    407\u001b[0m     )\u001b[38;5;241m.\u001b[39mstream() \u001b[38;5;28;01mas\u001b[39;00m combined_stream:\n\u001b[0;32m--> 408\u001b[0m         \u001b[38;5;28;01masync\u001b[39;00m \u001b[38;5;28;01mfor\u001b[39;00m update \u001b[38;5;129;01min\u001b[39;00m combined_stream:\n\u001b[1;32m    409\u001b[0m             \u001b[38;5;28;01mif\u001b[39;00m \u001b[38;5;124m\"\u001b[39m\u001b[38;5;124moutput\u001b[39m\u001b[38;5;124m\"\u001b[39m \u001b[38;5;129;01min\u001b[39;00m update:\n\u001b[1;32m    410\u001b[0m                 \u001b[38;5;28;01mif\u001b[39;00m \u001b[38;5;124m\"\u001b[39m\u001b[38;5;124merror\u001b[39m\u001b[38;5;124m\"\u001b[39m \u001b[38;5;129;01mnot\u001b[39;00m \u001b[38;5;129;01min\u001b[39;00m update:\n",
      "File \u001b[0;32m/opt/conda/lib/python3.8/site-packages/aiostream/stream/advanced.py:59\u001b[0m, in \u001b[0;36mbase_combine\u001b[0;34m(source, switch, ordered, task_limit)\u001b[0m\n\u001b[1;32m     57\u001b[0m \u001b[38;5;66;03m# Get result\u001b[39;00m\n\u001b[1;32m     58\u001b[0m \u001b[38;5;28;01mtry\u001b[39;00m:\n\u001b[0;32m---> 59\u001b[0m     result \u001b[38;5;241m=\u001b[39m \u001b[43mtask\u001b[49m\u001b[38;5;241;43m.\u001b[39;49m\u001b[43mresult\u001b[49m\u001b[43m(\u001b[49m\u001b[43m)\u001b[49m\n\u001b[1;32m     61\u001b[0m \u001b[38;5;66;03m# End of stream\u001b[39;00m\n\u001b[1;32m     62\u001b[0m \u001b[38;5;28;01mexcept\u001b[39;00m \u001b[38;5;167;01mStopAsyncIteration\u001b[39;00m:\n\u001b[1;32m     63\u001b[0m \n\u001b[1;32m     64\u001b[0m     \u001b[38;5;66;03m# Main streamer is finished\u001b[39;00m\n",
      "File \u001b[0;32m/opt/conda/lib/python3.8/site-packages/asyncstdlib/builtins.py:445\u001b[0m, in \u001b[0;36mmap\u001b[0;34m(function, *iterable)\u001b[0m\n\u001b[1;32m    443\u001b[0m \u001b[38;5;28;01masync\u001b[39;00m \u001b[38;5;28;01mfor\u001b[39;00m args \u001b[38;5;129;01min\u001b[39;00m args_iter:\n\u001b[1;32m    444\u001b[0m     result \u001b[38;5;241m=\u001b[39m function(\u001b[38;5;241m*\u001b[39margs)\n\u001b[0;32m--> 445\u001b[0m     \u001b[38;5;28;01myield\u001b[39;00m \u001b[38;5;28;01mawait\u001b[39;00m result\n",
      "File \u001b[0;32m/opt/conda/lib/python3.8/site-packages/asyncstdlib/_core.py:134\u001b[0m, in \u001b[0;36mforce_async.<locals>.async_wrapped\u001b[0;34m(*args, **kwargs)\u001b[0m\n\u001b[1;32m    133\u001b[0m \u001b[38;5;28;01masync\u001b[39;00m \u001b[38;5;28;01mdef\u001b[39;00m \u001b[38;5;21masync_wrapped\u001b[39m(\u001b[38;5;241m*\u001b[39margs: Any, \u001b[38;5;241m*\u001b[39m\u001b[38;5;241m*\u001b[39mkwargs: Any) \u001b[38;5;241m-\u001b[39m\u001b[38;5;241m>\u001b[39m T:\n\u001b[0;32m--> 134\u001b[0m     \u001b[38;5;28;01mreturn\u001b[39;00m \u001b[43mcall\u001b[49m\u001b[43m(\u001b[49m\u001b[38;5;241;43m*\u001b[39;49m\u001b[43margs\u001b[49m\u001b[43m,\u001b[49m\u001b[43m \u001b[49m\u001b[38;5;241;43m*\u001b[39;49m\u001b[38;5;241;43m*\u001b[39;49m\u001b[43mkwargs\u001b[49m\u001b[43m)\u001b[49m\n",
      "File \u001b[0;32m/opt/conda/lib/python3.8/site-packages/katana/rpc/client.py:172\u001b[0m, in \u001b[0;36m_OperationClient._event_stream.<locals>.parse_stream\u001b[0;34m(line)\u001b[0m\n\u001b[1;32m    170\u001b[0m \u001b[38;5;28;01mif\u001b[39;00m status \u001b[38;5;241m==\u001b[39m \u001b[38;5;124m\"\u001b[39m\u001b[38;5;124mCanceled\u001b[39m\u001b[38;5;124m\"\u001b[39m:\n\u001b[1;32m    171\u001b[0m     failure_info \u001b[38;5;241m=\u001b[39m data\u001b[38;5;241m.\u001b[39mget(\u001b[38;5;124m\"\u001b[39m\u001b[38;5;124mfailure_info\u001b[39m\u001b[38;5;124m\"\u001b[39m, \u001b[38;5;28;01mNone\u001b[39;00m)\n\u001b[0;32m--> 172\u001b[0m     \u001b[43merrors\u001b[49m\u001b[38;5;241;43m.\u001b[39;49m\u001b[43mWorkerError\u001b[49m\u001b[38;5;241;43m.\u001b[39;49m\u001b[43mraise_any_worker_failure_info\u001b[49m\u001b[43m(\u001b[49m\u001b[43moperation_id\u001b[49m\u001b[43m,\u001b[49m\u001b[43m \u001b[49m\u001b[43mfailure_info\u001b[49m\u001b[43m)\u001b[49m\n\u001b[1;32m    173\u001b[0m     \u001b[38;5;28;01mraise\u001b[39;00m errors\u001b[38;5;241m.\u001b[39mCanceledError()\n\u001b[1;32m    175\u001b[0m \u001b[38;5;28;01mreturn\u001b[39;00m data\n",
      "File \u001b[0;32m/opt/conda/lib/python3.8/site-packages/katana/errors.py:41\u001b[0m, in \u001b[0;36mWorkerError.raise_any_worker_failure_info\u001b[0;34m(cls, operation_id, failure_info)\u001b[0m\n\u001b[1;32m     39\u001b[0m     failure_cause \u001b[38;5;241m=\u001b[39m \u001b[38;5;124mf\u001b[39m\u001b[38;5;124m\"\u001b[39m\u001b[38;5;124mstop_signal=\u001b[39m\u001b[38;5;132;01m{\u001b[39;00mfailure_stop_signal\u001b[38;5;132;01m}\u001b[39;00m\u001b[38;5;124m,trap_cause=\u001b[39m\u001b[38;5;132;01m{\u001b[39;00mfailure_trap_cause\u001b[38;5;132;01m}\u001b[39;00m\u001b[38;5;124m\"\u001b[39m\n\u001b[1;32m     40\u001b[0m \u001b[38;5;28;01mif\u001b[39;00m failure_cause \u001b[38;5;241m!=\u001b[39m \u001b[38;5;124m\"\u001b[39m\u001b[38;5;124m\"\u001b[39m:\n\u001b[0;32m---> 41\u001b[0m     \u001b[38;5;28;01mraise\u001b[39;00m WorkerError(operation_id, failure_origin, failure_cause, failure_extra_info)\n",
      "\u001b[0;31mWorkerError\u001b[0m: graph-worker exited while executing operation 9uDREFYXJ8dmm3f4H8EBvPPrsSGRARnh1ERht4pJ7JYy-2uwqfvUFKxUFvYHWK (segmentation fault [origin_code: '3', extra_info: 'exit status 139: graph-worker exited with wait status 35584\n']"
     ]
    }
   ],
   "source": [
    "\n",
    "start_time = default_timer()\n",
    "validation_metric = rec_pipeline.train(model_config, training_config)\n",
    "print(f\"Took {default_timer() - start_time} seconds to train the model.\")\n",
    "\n",
    "print(\"Validation metric: \", validation_metric)\n",
    "\n",
    "print(\"--\")\n",
    "\n",
    "#  First run ..\n",
    "#\n",
    "#     WorkerError: graph-worker exited while executing operation HUyrskFsWPFgTbdGnB5YdPX4JfxCYaaQFGooYoDAjpcF-59o28RciVxAJieoMp\n",
    "#       (segmentation fault [origin_code: '3', extra_info: 'exit status 139: graph-worker exited with wait status 35584']\n",
    "\n"
   ]
  },
  {
   "cell_type": "markdown",
   "id": "1350f3c1-27aa-40e6-811d-7a57a05abdea",
   "metadata": {},
   "source": [
    "### Testing\n",
    "\n",
    "Test the trained model on the test data and compare the results with other achitecture baselines. We compare three different metrics:\n",
    "- [Pearson correlation coefficient](https://en.wikipedia.org/wiki/Pearson_correlation_coefficient): a measure of linear correlation between two sets of data. A value closer to 1 is better.\n",
    "- [Spearman correlation coefficient](https://en.wikipedia.org/wiki/Spearman%27s_rank_correlation_coefficient): how well the relationship between two variables can be described using a monotonic function. A value closer to 1 is better.\n",
    "- [Root mean square error (RMSE)](https://en.wikipedia.org/wiki/Root-mean-square_deviation): a measure of the differences between values predicted by a model and the values observed. A lower value is better."
   ]
  },
  {
   "cell_type": "code",
   "execution_count": 21,
   "id": "b64cb014-1302-4bac-b55f-3c86ba61436c",
   "metadata": {},
   "outputs": [
    {
     "data": {
      "application/vnd.jupyter.widget-view+json": {
       "model_id": "877de8ade5c54c498148e6f5b3613003",
       "version_major": 2,
       "version_minor": 0
      },
      "text/plain": [
       " 0 messages received [?msg/s ]"
      ]
     },
     "metadata": {},
     "output_type": "display_data"
    },
    {
     "ename": "WorkerError",
     "evalue": "graph-worker exited while executing operation HNJptUzmmvBL4s9pQa3hq3UjMcYySx2mRV2VcfhxKEbi-5LEj3sZuwzsACsFuG (segmentation fault [origin_code: '3', extra_info: 'exit status 139: graph-worker exited with wait status 35584\n']",
     "output_type": "error",
     "traceback": [
      "\u001b[0;31m---------------------------------------------------------------------------\u001b[0m",
      "\u001b[0;31mWorkerError\u001b[0m                               Traceback (most recent call last)",
      "Cell \u001b[0;32mIn[21], line 2\u001b[0m\n\u001b[1;32m      1\u001b[0m start_time \u001b[38;5;241m=\u001b[39m default_timer()\n\u001b[0;32m----> 2\u001b[0m metrics, predictions, labels \u001b[38;5;241m=\u001b[39m \u001b[43mrec_pipeline\u001b[49m\u001b[38;5;241;43m.\u001b[39;49m\u001b[43mtest\u001b[49m\u001b[43m(\u001b[49m\u001b[43mtraining_config\u001b[49m\u001b[43m)\u001b[49m\n\u001b[1;32m      3\u001b[0m \u001b[38;5;28mprint\u001b[39m(\u001b[38;5;124mf\u001b[39m\u001b[38;5;124m\"\u001b[39m\u001b[38;5;124mTook \u001b[39m\u001b[38;5;132;01m{\u001b[39;00mdefault_timer()\u001b[38;5;250m \u001b[39m\u001b[38;5;241m-\u001b[39m\u001b[38;5;250m \u001b[39mstart_time\u001b[38;5;132;01m}\u001b[39;00m\u001b[38;5;124m seconds to test the model.\u001b[39m\u001b[38;5;124m\"\u001b[39m)\n\u001b[1;32m      4\u001b[0m \u001b[38;5;28mprint\u001b[39m(metrics)\n",
      "File \u001b[0;32m~/My_KG_NoteBooks/R1_DeepCDR/Version_04_Flattened/src/utils.py:89\u001b[0m, in \u001b[0;36mdisable_warnings.<locals>.wrapper\u001b[0;34m(*args, **kwargs)\u001b[0m\n\u001b[1;32m     87\u001b[0m \u001b[38;5;28;01mdef\u001b[39;00m \u001b[38;5;21mwrapper\u001b[39m(\u001b[38;5;241m*\u001b[39margs, \u001b[38;5;241m*\u001b[39m\u001b[38;5;241m*\u001b[39mkwargs):\n\u001b[1;32m     88\u001b[0m     \u001b[38;5;28;01mwith\u001b[39;00m capture_output(\u001b[38;5;28;01mFalse\u001b[39;00m, \u001b[38;5;28;01mTrue\u001b[39;00m, \u001b[38;5;28;01mFalse\u001b[39;00m):\n\u001b[0;32m---> 89\u001b[0m         \u001b[38;5;28;01mreturn\u001b[39;00m \u001b[43mfunc\u001b[49m\u001b[43m(\u001b[49m\u001b[38;5;241;43m*\u001b[39;49m\u001b[43margs\u001b[49m\u001b[43m,\u001b[49m\u001b[43m \u001b[49m\u001b[38;5;241;43m*\u001b[39;49m\u001b[38;5;241;43m*\u001b[39;49m\u001b[43mkwargs\u001b[49m\u001b[43m)\u001b[49m\n",
      "File \u001b[0;32m~/My_KG_NoteBooks/R1_DeepCDR/Version_04_Flattened/src/katana_pipeline.py:190\u001b[0m, in \u001b[0;36mRecipePipeline.test\u001b[0;34m(self, training_hp)\u001b[0m\n\u001b[1;32m    186\u001b[0m     metrics \u001b[38;5;241m=\u001b[39m engine\u001b[38;5;241m.\u001b[39mcalculate_metrics(labels, predictions, metric_fn)\n\u001b[1;32m    188\u001b[0m     \u001b[38;5;28;01mreturn\u001b[39;00m metrics, predictions, labels\n\u001b[0;32m--> 190\u001b[0m metrics, predictions, labels \u001b[38;5;241m=\u001b[39m \u001b[38;5;28;43mself\u001b[39;49m\u001b[38;5;241;43m.\u001b[39;49m\u001b[43mgraph\u001b[49m\u001b[38;5;241;43m.\u001b[39;49m\u001b[43mrun\u001b[49m\u001b[43m(\u001b[49m\u001b[38;5;28;43;01mlambda\u001b[39;49;00m\u001b[43m \u001b[49m\u001b[43mg\u001b[49m\u001b[43m:\u001b[49m\u001b[43m \u001b[49m\u001b[43mremote_testing\u001b[49m\u001b[43m(\u001b[49m\u001b[43mg\u001b[49m\u001b[43m,\u001b[49m\u001b[43m \u001b[49m\u001b[43mtraining_hp\u001b[49m\u001b[43m)\u001b[49m\u001b[43m)\u001b[49m\n\u001b[1;32m    191\u001b[0m \u001b[38;5;28;01mreturn\u001b[39;00m utils\u001b[38;5;241m.\u001b[39mcompare_baselines(metrics), predictions, labels\n",
      "File \u001b[0;32m/opt/conda/lib/python3.8/site-packages/katana/async_to_sync.py:275\u001b[0m, in \u001b[0;36mAsyncToSync.<locals>.do_wrap.<locals>.wrapper\u001b[0;34m(self, *args, **kwargs)\u001b[0m\n\u001b[1;32m    272\u001b[0m \u001b[38;5;129m@wraps\u001b[39m(underlying_func)\n\u001b[1;32m    273\u001b[0m \u001b[38;5;28;01mdef\u001b[39;00m \u001b[38;5;21mwrapper\u001b[39m(\u001b[38;5;28mself\u001b[39m, \u001b[38;5;241m*\u001b[39margs, \u001b[38;5;241m*\u001b[39m\u001b[38;5;241m*\u001b[39mkwargs):\n\u001b[1;32m    274\u001b[0m     \u001b[38;5;28;01mreturn\u001b[39;00m registry\u001b[38;5;241m.\u001b[39masync_to_sync(\n\u001b[0;32m--> 275\u001b[0m         \u001b[43munderlying_func\u001b[49m\u001b[43m(\u001b[49m\n\u001b[1;32m    276\u001b[0m \u001b[43m            \u001b[49m\u001b[43mget_self_func\u001b[49m\u001b[43m(\u001b[49m\u001b[38;5;28;43mself\u001b[39;49m\u001b[43m)\u001b[49m\u001b[43m,\u001b[49m\n\u001b[1;32m    277\u001b[0m \u001b[43m            \u001b[49m\u001b[38;5;241;43m*\u001b[39;49m\u001b[43m(\u001b[49m\u001b[43mregistry\u001b[49m\u001b[38;5;241;43m.\u001b[39;49m\u001b[43msync_to_async\u001b[49m\u001b[43m(\u001b[49m\u001b[43ma\u001b[49m\u001b[43m)\u001b[49m\u001b[43m \u001b[49m\u001b[38;5;28;43;01mfor\u001b[39;49;00m\u001b[43m \u001b[49m\u001b[43ma\u001b[49m\u001b[43m \u001b[49m\u001b[38;5;129;43;01min\u001b[39;49;00m\u001b[43m \u001b[49m\u001b[43margs\u001b[49m\u001b[43m)\u001b[49m\u001b[43m,\u001b[49m\n\u001b[1;32m    278\u001b[0m \u001b[43m            \u001b[49m\u001b[38;5;241;43m*\u001b[39;49m\u001b[38;5;241;43m*\u001b[39;49m\u001b[43m{\u001b[49m\u001b[43mk\u001b[49m\u001b[43m:\u001b[49m\u001b[43m \u001b[49m\u001b[43mregistry\u001b[49m\u001b[38;5;241;43m.\u001b[39;49m\u001b[43msync_to_async\u001b[49m\u001b[43m(\u001b[49m\u001b[43mv\u001b[49m\u001b[43m)\u001b[49m\u001b[43m \u001b[49m\u001b[38;5;28;43;01mfor\u001b[39;49;00m\u001b[43m \u001b[49m\u001b[43mk\u001b[49m\u001b[43m,\u001b[49m\u001b[43m \u001b[49m\u001b[43mv\u001b[49m\u001b[43m \u001b[49m\u001b[38;5;129;43;01min\u001b[39;49;00m\u001b[43m \u001b[49m\u001b[43mkwargs\u001b[49m\u001b[38;5;241;43m.\u001b[39;49m\u001b[43mitems\u001b[49m\u001b[43m(\u001b[49m\u001b[43m)\u001b[49m\u001b[43m}\u001b[49m\u001b[43m,\u001b[49m\n\u001b[1;32m    279\u001b[0m \u001b[43m        \u001b[49m\u001b[43m)\u001b[49m\n\u001b[1;32m    280\u001b[0m     )\n",
      "File \u001b[0;32m/opt/conda/lib/python3.8/site-packages/katana/async_to_sync.py:192\u001b[0m, in \u001b[0;36masync_to_sync.<locals>.wrapper\u001b[0;34m(timeout, *args, **kwargs)\u001b[0m\n\u001b[1;32m    182\u001b[0m     registry \u001b[38;5;241m=\u001b[39m AsyncToSyncClassRegistry\u001b[38;5;241m.\u001b[39mget()\n\u001b[1;32m    183\u001b[0m     \u001b[38;5;28;01mreturn\u001b[39;00m registry\u001b[38;5;241m.\u001b[39masync_to_sync(\n\u001b[1;32m    184\u001b[0m         wait_for(\n\u001b[1;32m    185\u001b[0m             async_func(\n\u001b[0;32m   (...)\u001b[0m\n\u001b[1;32m    190\u001b[0m         )\n\u001b[1;32m    191\u001b[0m     )\n\u001b[0;32m--> 192\u001b[0m \u001b[38;5;28;01mreturn\u001b[39;00m \u001b[43mwait_for\u001b[49m\u001b[43m(\u001b[49m\u001b[43masync_func\u001b[49m\u001b[43m(\u001b[49m\u001b[38;5;241;43m*\u001b[39;49m\u001b[43margs\u001b[49m\u001b[43m,\u001b[49m\u001b[43m \u001b[49m\u001b[38;5;241;43m*\u001b[39;49m\u001b[38;5;241;43m*\u001b[39;49m\u001b[43mkwargs\u001b[49m\u001b[43m)\u001b[49m\u001b[43m,\u001b[49m\u001b[43m \u001b[49m\u001b[43mtimeout\u001b[49m\u001b[38;5;241;43m=\u001b[39;49m\u001b[43mtimeout\u001b[49m\u001b[43m)\u001b[49m\n",
      "File \u001b[0;32m/opt/conda/lib/python3.8/site-packages/katana/async_to_sync.py:149\u001b[0m, in \u001b[0;36mwait_for\u001b[0;34m(coro, timeout)\u001b[0m\n\u001b[1;32m    147\u001b[0m \u001b[38;5;28;01mtry\u001b[39;00m:\n\u001b[1;32m    148\u001b[0m     future \u001b[38;5;241m=\u001b[39m asyncio\u001b[38;5;241m.\u001b[39mrun_coroutine_threadsafe(timeout_coro, loop\u001b[38;5;241m=\u001b[39mAsyncRunnerThread\u001b[38;5;241m.\u001b[39mget()\u001b[38;5;241m.\u001b[39mloop)\n\u001b[0;32m--> 149\u001b[0m     \u001b[38;5;28;01mreturn\u001b[39;00m \u001b[43mfuture\u001b[49m\u001b[38;5;241;43m.\u001b[39;49m\u001b[43mresult\u001b[49m\u001b[43m(\u001b[49m\u001b[43m)\u001b[49m\n\u001b[1;32m    150\u001b[0m \u001b[38;5;28;01mexcept\u001b[39;00m asyncio\u001b[38;5;241m.\u001b[39mexceptions\u001b[38;5;241m.\u001b[39mTimeoutError \u001b[38;5;28;01mas\u001b[39;00m ex:\n\u001b[1;32m    151\u001b[0m     inner_future\u001b[38;5;241m.\u001b[39mcancel()\n",
      "File \u001b[0;32m/opt/conda/lib/python3.8/concurrent/futures/_base.py:444\u001b[0m, in \u001b[0;36mFuture.result\u001b[0;34m(self, timeout)\u001b[0m\n\u001b[1;32m    442\u001b[0m     \u001b[38;5;28;01mraise\u001b[39;00m CancelledError()\n\u001b[1;32m    443\u001b[0m \u001b[38;5;28;01melif\u001b[39;00m \u001b[38;5;28mself\u001b[39m\u001b[38;5;241m.\u001b[39m_state \u001b[38;5;241m==\u001b[39m FINISHED:\n\u001b[0;32m--> 444\u001b[0m     \u001b[38;5;28;01mreturn\u001b[39;00m \u001b[38;5;28;43mself\u001b[39;49m\u001b[38;5;241;43m.\u001b[39;49m\u001b[43m__get_result\u001b[49m\u001b[43m(\u001b[49m\u001b[43m)\u001b[49m\n\u001b[1;32m    445\u001b[0m \u001b[38;5;28;01melse\u001b[39;00m:\n\u001b[1;32m    446\u001b[0m     \u001b[38;5;28;01mraise\u001b[39;00m \u001b[38;5;167;01mTimeoutError\u001b[39;00m()\n",
      "File \u001b[0;32m/opt/conda/lib/python3.8/concurrent/futures/_base.py:389\u001b[0m, in \u001b[0;36mFuture.__get_result\u001b[0;34m(self)\u001b[0m\n\u001b[1;32m    387\u001b[0m \u001b[38;5;28;01mif\u001b[39;00m \u001b[38;5;28mself\u001b[39m\u001b[38;5;241m.\u001b[39m_exception:\n\u001b[1;32m    388\u001b[0m     \u001b[38;5;28;01mtry\u001b[39;00m:\n\u001b[0;32m--> 389\u001b[0m         \u001b[38;5;28;01mraise\u001b[39;00m \u001b[38;5;28mself\u001b[39m\u001b[38;5;241m.\u001b[39m_exception\n\u001b[1;32m    390\u001b[0m     \u001b[38;5;28;01mfinally\u001b[39;00m:\n\u001b[1;32m    391\u001b[0m         \u001b[38;5;66;03m# Break a reference cycle with the exception in self._exception\u001b[39;00m\n\u001b[1;32m    392\u001b[0m         \u001b[38;5;28mself\u001b[39m \u001b[38;5;241m=\u001b[39m \u001b[38;5;28;01mNone\u001b[39;00m\n",
      "File \u001b[0;32m/opt/conda/lib/python3.8/asyncio/tasks.py:455\u001b[0m, in \u001b[0;36mwait_for\u001b[0;34m(fut, timeout, loop)\u001b[0m\n\u001b[1;32m    450\u001b[0m     warnings\u001b[38;5;241m.\u001b[39mwarn(\u001b[38;5;124m\"\u001b[39m\u001b[38;5;124mThe loop argument is deprecated since Python 3.8, \u001b[39m\u001b[38;5;124m\"\u001b[39m\n\u001b[1;32m    451\u001b[0m                   \u001b[38;5;124m\"\u001b[39m\u001b[38;5;124mand scheduled for removal in Python 3.10.\u001b[39m\u001b[38;5;124m\"\u001b[39m,\n\u001b[1;32m    452\u001b[0m                   \u001b[38;5;167;01mDeprecationWarning\u001b[39;00m, stacklevel\u001b[38;5;241m=\u001b[39m\u001b[38;5;241m2\u001b[39m)\n\u001b[1;32m    454\u001b[0m \u001b[38;5;28;01mif\u001b[39;00m timeout \u001b[38;5;129;01mis\u001b[39;00m \u001b[38;5;28;01mNone\u001b[39;00m:\n\u001b[0;32m--> 455\u001b[0m     \u001b[38;5;28;01mreturn\u001b[39;00m \u001b[38;5;28;01mawait\u001b[39;00m fut\n\u001b[1;32m    457\u001b[0m \u001b[38;5;28;01mif\u001b[39;00m timeout \u001b[38;5;241m<\u001b[39m\u001b[38;5;241m=\u001b[39m \u001b[38;5;241m0\u001b[39m:\n\u001b[1;32m    458\u001b[0m     fut \u001b[38;5;241m=\u001b[39m ensure_future(fut, loop\u001b[38;5;241m=\u001b[39mloop)\n",
      "File \u001b[0;32m/opt/conda/lib/python3.8/site-packages/katana/remote/aio/graph.py:764\u001b[0m, in \u001b[0;36mGraph.run\u001b[0;34m(self, function)\u001b[0m\n\u001b[1;32m    754\u001b[0m \u001b[38;5;28;01masync\u001b[39;00m \u001b[38;5;28;01mdef\u001b[39;00m \u001b[38;5;21mrun\u001b[39m(\u001b[38;5;28mself\u001b[39m, function):\n\u001b[1;32m    755\u001b[0m \u001b[38;5;250m    \u001b[39m\u001b[38;5;124;03m\"\"\"Execute the given function in the cluster on multiple Message Passing\u001b[39;00m\n\u001b[1;32m    756\u001b[0m \u001b[38;5;124;03m    Interface (MPI) workers. Any output is printed as output from this\u001b[39;00m\n\u001b[1;32m    757\u001b[0m \u001b[38;5;124;03m    process.\u001b[39;00m\n\u001b[0;32m   (...)\u001b[0m\n\u001b[1;32m    761\u001b[0m \n\u001b[1;32m    762\u001b[0m \u001b[38;5;124;03m    \"\"\"\u001b[39;00m\n\u001b[0;32m--> 764\u001b[0m     result \u001b[38;5;241m=\u001b[39m \u001b[38;5;28;01mawait\u001b[39;00m \u001b[38;5;28mself\u001b[39m\u001b[38;5;241m.\u001b[39m_run_result(function, api_version\u001b[38;5;241m=\u001b[39m\u001b[38;5;241m2\u001b[39m)\n\u001b[1;32m    765\u001b[0m     \u001b[38;5;28mprint\u001b[39m(result\u001b[38;5;241m.\u001b[39mstdout, file\u001b[38;5;241m=\u001b[39msys\u001b[38;5;241m.\u001b[39mstdout, end\u001b[38;5;241m=\u001b[39m\u001b[38;5;124m\"\u001b[39m\u001b[38;5;124m\"\u001b[39m)\n\u001b[1;32m    766\u001b[0m     \u001b[38;5;28mprint\u001b[39m(result\u001b[38;5;241m.\u001b[39mstderr, file\u001b[38;5;241m=\u001b[39msys\u001b[38;5;241m.\u001b[39mstderr, end\u001b[38;5;241m=\u001b[39m\u001b[38;5;124m\"\u001b[39m\u001b[38;5;124m\"\u001b[39m)\n",
      "File \u001b[0;32m/opt/conda/lib/python3.8/site-packages/katana/remote/aio/graph.py:773\u001b[0m, in \u001b[0;36mGraph._run_result\u001b[0;34m(self, function, api_version)\u001b[0m\n\u001b[1;32m    769\u001b[0m \u001b[38;5;28;01masync\u001b[39;00m \u001b[38;5;28;01mdef\u001b[39;00m \u001b[38;5;21m_run_result\u001b[39m(\u001b[38;5;28mself\u001b[39m, function, api_version\u001b[38;5;241m=\u001b[39m\u001b[38;5;241m1\u001b[39m):\n\u001b[1;32m    770\u001b[0m     data \u001b[38;5;241m=\u001b[39m \u001b[38;5;28mself\u001b[39m\u001b[38;5;241m.\u001b[39m_add_operation_metadata(\n\u001b[1;32m    771\u001b[0m         {\u001b[38;5;124m\"\u001b[39m\u001b[38;5;124mpython\u001b[39m\u001b[38;5;124m\"\u001b[39m: {\u001b[38;5;124m\"\u001b[39m\u001b[38;5;124mfunction\u001b[39m\u001b[38;5;124m\"\u001b[39m: base64\u001b[38;5;241m.\u001b[39mpickle(function), \u001b[38;5;124m\"\u001b[39m\u001b[38;5;124mapi_version\u001b[39m\u001b[38;5;124m\"\u001b[39m: api_version,}}\n\u001b[1;32m    772\u001b[0m     )\n\u001b[0;32m--> 773\u001b[0m     \u001b[38;5;28;01mreturn\u001b[39;00m RunResult(\u001b[38;5;241m*\u001b[39mbase64\u001b[38;5;241m.\u001b[39munpickle((\u001b[38;5;28;01mawait\u001b[39;00m \u001b[38;5;28mself\u001b[39m\u001b[38;5;241m.\u001b[39m_run_asynchronously_and_log_output(data))[\u001b[38;5;124m\"\u001b[39m\u001b[38;5;124mresult\u001b[39m\u001b[38;5;124m\"\u001b[39m]))\n",
      "File \u001b[0;32m/opt/conda/lib/python3.8/site-packages/katana/remote/aio/graph.py:352\u001b[0m, in \u001b[0;36mGraph._run_asynchronously_and_log_output\u001b[0;34m(self, data)\u001b[0m\n\u001b[1;32m    348\u001b[0m \u001b[38;5;28;01mfrom\u001b[39;00m \u001b[38;5;21;01mkatana\u001b[39;00m\u001b[38;5;21;01m.\u001b[39;00m\u001b[38;5;21;01mremote\u001b[39;00m\u001b[38;5;21;01m.\u001b[39;00m\u001b[38;5;21;01mgrpc\u001b[39;00m\u001b[38;5;21;01m.\u001b[39;00m\u001b[38;5;21;01mv2\u001b[39;00m \u001b[38;5;28;01mimport\u001b[39;00m FollowOutputRequest\n\u001b[1;32m    350\u001b[0m data \u001b[38;5;241m=\u001b[39m \u001b[38;5;28mself\u001b[39m\u001b[38;5;241m.\u001b[39m_add_operation_metadata(data)\n\u001b[0;32m--> 352\u001b[0m result \u001b[38;5;241m=\u001b[39m (\u001b[38;5;28;01mawait\u001b[39;00m \u001b[38;5;28mself\u001b[39m\u001b[38;5;241m.\u001b[39m_database\u001b[38;5;241m.\u001b[39m_run_function_on_graph_and_wait(\u001b[38;5;28mself\u001b[39m, data))[\u001b[38;5;124m\"\u001b[39m\u001b[38;5;124mresult\u001b[39m\u001b[38;5;124m\"\u001b[39m]\n\u001b[1;32m    353\u001b[0m \u001b[38;5;28;01mawait\u001b[39;00m \u001b[38;5;28mself\u001b[39m\u001b[38;5;241m.\u001b[39m_database\u001b[38;5;241m.\u001b[39m_refresh_graph_version(\u001b[38;5;28mself\u001b[39m)\n\u001b[1;32m    354\u001b[0m \u001b[38;5;28;01mreturn\u001b[39;00m result\n",
      "File \u001b[0;32m/opt/conda/lib/python3.8/site-packages/katana/remote/aio/client.py:502\u001b[0m, in \u001b[0;36mDatabase._run_function_on_graph_and_wait\u001b[0;34m(self, graph, data)\u001b[0m\n\u001b[1;32m    500\u001b[0m \u001b[38;5;28;01mwhile\u001b[39;00m attempt \u001b[38;5;241m<\u001b[39m max_attempts:\n\u001b[1;32m    501\u001b[0m     \u001b[38;5;28;01mtry\u001b[39;00m:\n\u001b[0;32m--> 502\u001b[0m         \u001b[38;5;28;01mreturn\u001b[39;00m \u001b[38;5;28;01mawait\u001b[39;00m \u001b[38;5;28mself\u001b[39m\u001b[38;5;241m.\u001b[39m_wait_op_run_function(op)\n\u001b[1;32m    503\u001b[0m     \u001b[38;5;28;01mexcept\u001b[39;00m errors\u001b[38;5;241m.\u001b[39mServerCommunicationError:\n\u001b[1;32m    504\u001b[0m         logging\u001b[38;5;241m.\u001b[39mwarning(\u001b[38;5;124mf\u001b[39m\u001b[38;5;124m\"\u001b[39m\u001b[38;5;124merror while waiting, retrying (attempt=\u001b[39m\u001b[38;5;132;01m{\u001b[39;00mattempt\u001b[38;5;132;01m}\u001b[39;00m\u001b[38;5;124m)\u001b[39m\u001b[38;5;124m\"\u001b[39m)\n",
      "File \u001b[0;32m/opt/conda/lib/python3.8/site-packages/katana/remote/aio/client.py:408\u001b[0m, in \u001b[0;36mDatabase._wait_op_run_function\u001b[0;34m(self, op)\u001b[0m\n\u001b[1;32m    404\u001b[0m \u001b[38;5;28;01masync\u001b[39;00m \u001b[38;5;28;01mwith\u001b[39;00m wait_fn(operation_id) \u001b[38;5;28;01mas\u001b[39;00m stream:\n\u001b[1;32m    405\u001b[0m     \u001b[38;5;28;01masync\u001b[39;00m \u001b[38;5;28;01mwith\u001b[39;00m aiostream\u001b[38;5;241m.\u001b[39mstream\u001b[38;5;241m.\u001b[39mmerge(\n\u001b[1;32m    406\u001b[0m         stream, follow_op_ouputs(operation_id)\n\u001b[1;32m    407\u001b[0m     )\u001b[38;5;241m.\u001b[39mstream() \u001b[38;5;28;01mas\u001b[39;00m combined_stream:\n\u001b[0;32m--> 408\u001b[0m         \u001b[38;5;28;01masync\u001b[39;00m \u001b[38;5;28;01mfor\u001b[39;00m update \u001b[38;5;129;01min\u001b[39;00m combined_stream:\n\u001b[1;32m    409\u001b[0m             \u001b[38;5;28;01mif\u001b[39;00m \u001b[38;5;124m\"\u001b[39m\u001b[38;5;124moutput\u001b[39m\u001b[38;5;124m\"\u001b[39m \u001b[38;5;129;01min\u001b[39;00m update:\n\u001b[1;32m    410\u001b[0m                 \u001b[38;5;28;01mif\u001b[39;00m \u001b[38;5;124m\"\u001b[39m\u001b[38;5;124merror\u001b[39m\u001b[38;5;124m\"\u001b[39m \u001b[38;5;129;01mnot\u001b[39;00m \u001b[38;5;129;01min\u001b[39;00m update:\n",
      "File \u001b[0;32m/opt/conda/lib/python3.8/site-packages/aiostream/stream/advanced.py:59\u001b[0m, in \u001b[0;36mbase_combine\u001b[0;34m(source, switch, ordered, task_limit)\u001b[0m\n\u001b[1;32m     57\u001b[0m \u001b[38;5;66;03m# Get result\u001b[39;00m\n\u001b[1;32m     58\u001b[0m \u001b[38;5;28;01mtry\u001b[39;00m:\n\u001b[0;32m---> 59\u001b[0m     result \u001b[38;5;241m=\u001b[39m \u001b[43mtask\u001b[49m\u001b[38;5;241;43m.\u001b[39;49m\u001b[43mresult\u001b[49m\u001b[43m(\u001b[49m\u001b[43m)\u001b[49m\n\u001b[1;32m     61\u001b[0m \u001b[38;5;66;03m# End of stream\u001b[39;00m\n\u001b[1;32m     62\u001b[0m \u001b[38;5;28;01mexcept\u001b[39;00m \u001b[38;5;167;01mStopAsyncIteration\u001b[39;00m:\n\u001b[1;32m     63\u001b[0m \n\u001b[1;32m     64\u001b[0m     \u001b[38;5;66;03m# Main streamer is finished\u001b[39;00m\n",
      "File \u001b[0;32m/opt/conda/lib/python3.8/site-packages/asyncstdlib/builtins.py:445\u001b[0m, in \u001b[0;36mmap\u001b[0;34m(function, *iterable)\u001b[0m\n\u001b[1;32m    443\u001b[0m \u001b[38;5;28;01masync\u001b[39;00m \u001b[38;5;28;01mfor\u001b[39;00m args \u001b[38;5;129;01min\u001b[39;00m args_iter:\n\u001b[1;32m    444\u001b[0m     result \u001b[38;5;241m=\u001b[39m function(\u001b[38;5;241m*\u001b[39margs)\n\u001b[0;32m--> 445\u001b[0m     \u001b[38;5;28;01myield\u001b[39;00m \u001b[38;5;28;01mawait\u001b[39;00m result\n",
      "File \u001b[0;32m/opt/conda/lib/python3.8/site-packages/asyncstdlib/_core.py:134\u001b[0m, in \u001b[0;36mforce_async.<locals>.async_wrapped\u001b[0;34m(*args, **kwargs)\u001b[0m\n\u001b[1;32m    133\u001b[0m \u001b[38;5;28;01masync\u001b[39;00m \u001b[38;5;28;01mdef\u001b[39;00m \u001b[38;5;21masync_wrapped\u001b[39m(\u001b[38;5;241m*\u001b[39margs: Any, \u001b[38;5;241m*\u001b[39m\u001b[38;5;241m*\u001b[39mkwargs: Any) \u001b[38;5;241m-\u001b[39m\u001b[38;5;241m>\u001b[39m T:\n\u001b[0;32m--> 134\u001b[0m     \u001b[38;5;28;01mreturn\u001b[39;00m \u001b[43mcall\u001b[49m\u001b[43m(\u001b[49m\u001b[38;5;241;43m*\u001b[39;49m\u001b[43margs\u001b[49m\u001b[43m,\u001b[49m\u001b[43m \u001b[49m\u001b[38;5;241;43m*\u001b[39;49m\u001b[38;5;241;43m*\u001b[39;49m\u001b[43mkwargs\u001b[49m\u001b[43m)\u001b[49m\n",
      "File \u001b[0;32m/opt/conda/lib/python3.8/site-packages/katana/rpc/client.py:172\u001b[0m, in \u001b[0;36m_OperationClient._event_stream.<locals>.parse_stream\u001b[0;34m(line)\u001b[0m\n\u001b[1;32m    170\u001b[0m \u001b[38;5;28;01mif\u001b[39;00m status \u001b[38;5;241m==\u001b[39m \u001b[38;5;124m\"\u001b[39m\u001b[38;5;124mCanceled\u001b[39m\u001b[38;5;124m\"\u001b[39m:\n\u001b[1;32m    171\u001b[0m     failure_info \u001b[38;5;241m=\u001b[39m data\u001b[38;5;241m.\u001b[39mget(\u001b[38;5;124m\"\u001b[39m\u001b[38;5;124mfailure_info\u001b[39m\u001b[38;5;124m\"\u001b[39m, \u001b[38;5;28;01mNone\u001b[39;00m)\n\u001b[0;32m--> 172\u001b[0m     \u001b[43merrors\u001b[49m\u001b[38;5;241;43m.\u001b[39;49m\u001b[43mWorkerError\u001b[49m\u001b[38;5;241;43m.\u001b[39;49m\u001b[43mraise_any_worker_failure_info\u001b[49m\u001b[43m(\u001b[49m\u001b[43moperation_id\u001b[49m\u001b[43m,\u001b[49m\u001b[43m \u001b[49m\u001b[43mfailure_info\u001b[49m\u001b[43m)\u001b[49m\n\u001b[1;32m    173\u001b[0m     \u001b[38;5;28;01mraise\u001b[39;00m errors\u001b[38;5;241m.\u001b[39mCanceledError()\n\u001b[1;32m    175\u001b[0m \u001b[38;5;28;01mreturn\u001b[39;00m data\n",
      "File \u001b[0;32m/opt/conda/lib/python3.8/site-packages/katana/errors.py:41\u001b[0m, in \u001b[0;36mWorkerError.raise_any_worker_failure_info\u001b[0;34m(cls, operation_id, failure_info)\u001b[0m\n\u001b[1;32m     39\u001b[0m     failure_cause \u001b[38;5;241m=\u001b[39m \u001b[38;5;124mf\u001b[39m\u001b[38;5;124m\"\u001b[39m\u001b[38;5;124mstop_signal=\u001b[39m\u001b[38;5;132;01m{\u001b[39;00mfailure_stop_signal\u001b[38;5;132;01m}\u001b[39;00m\u001b[38;5;124m,trap_cause=\u001b[39m\u001b[38;5;132;01m{\u001b[39;00mfailure_trap_cause\u001b[38;5;132;01m}\u001b[39;00m\u001b[38;5;124m\"\u001b[39m\n\u001b[1;32m     40\u001b[0m \u001b[38;5;28;01mif\u001b[39;00m failure_cause \u001b[38;5;241m!=\u001b[39m \u001b[38;5;124m\"\u001b[39m\u001b[38;5;124m\"\u001b[39m:\n\u001b[0;32m---> 41\u001b[0m     \u001b[38;5;28;01mraise\u001b[39;00m WorkerError(operation_id, failure_origin, failure_cause, failure_extra_info)\n",
      "\u001b[0;31mWorkerError\u001b[0m: graph-worker exited while executing operation HNJptUzmmvBL4s9pQa3hq3UjMcYySx2mRV2VcfhxKEbi-5LEj3sZuwzsACsFuG (segmentation fault [origin_code: '3', extra_info: 'exit status 139: graph-worker exited with wait status 35584\n']"
     ]
    }
   ],
   "source": [
    "\n",
    "start_time = default_timer()\n",
    "metrics, predictions, labels = rec_pipeline.test(training_config)\n",
    "print(f\"Took {default_timer() - start_time} seconds to test the model.\")\n",
    "print(metrics)\n",
    "\n",
    "print(\"--\")\n"
   ]
  },
  {
   "cell_type": "markdown",
   "id": "8ce573cf-65ab-4c2c-ba13-8cf30d4e595a",
   "metadata": {},
   "source": [
    "### Plot Predictions\n",
    "\n",
    "Create a scatter plot of the `IC50` predicted by the trained model in function of `IC50` real value."
   ]
  },
  {
   "cell_type": "code",
   "execution_count": null,
   "id": "5ec43d5c-07d9-456c-9aa6-c3d230b64991",
   "metadata": {
    "tags": []
   },
   "outputs": [],
   "source": [
    "start_time = default_timer()\n",
    "rec_pipeline.plot(labels, predictions)\n",
    "print(f\"***Took {default_timer() - start_time} seconds to plot figures.***\")"
   ]
  },
  {
   "cell_type": "markdown",
   "id": "f1411c92-b3ca-4340-94d6-2f3296607c31",
   "metadata": {},
   "source": [
    "<a id='step-4'></a>\n",
    "## Trained model inference "
   ]
  },
  {
   "cell_type": "markdown",
   "id": "50716925-45aa-426b-adde-f79946d387ec",
   "metadata": {},
   "source": [
    "<img src=\"images/pipeline_inference.png\" style=\"width: 1500px;\"/>\n",
    "\n"
   ]
  },
  {
   "cell_type": "code",
   "execution_count": null,
   "id": "edb4d9c2-ccda-4ce1-b480-a109e492ba58",
   "metadata": {},
   "outputs": [],
   "source": [
    "rec_pipeline.infer(training_config)"
   ]
  },
  {
   "cell_type": "code",
   "execution_count": null,
   "id": "e46e3750-0856-4a72-a332-a8bab0a7230a",
   "metadata": {},
   "outputs": [],
   "source": [
    "bortezomib = \"B(C(CC(C)C)NC(=O)C(CC1=CC=CC=C1)NC(=O)C2=NC=CN=C2)(O)O\"\n",
    "cell_line = \"ACH-000001\"\n",
    "rec_pipeline.infer(training_config, drug=bortezomib, cell_line=cell_line)"
   ]
  },
  {
   "cell_type": "markdown",
   "id": "97320404-c952-4b8d-94e9-ba6424c155ce",
   "metadata": {},
   "source": [
    "## Run trained model to save node embeddings\n",
    "\n",
    "Save the trained model embeddings as a node property. `drug_embeddings`, `epigenomics_embeddings`, `genomics_embeddings` and `transcriptomics_embeddings` will be created and saved. Those embeddings can be use for a future downstream task with a different model."
   ]
  },
  {
   "cell_type": "code",
   "execution_count": null,
   "id": "5fadc229-457e-40f5-a0df-b1fd36a772ca",
   "metadata": {},
   "outputs": [],
   "source": [
    "start_time = default_timer()\n",
    "rec_pipeline.infer_embeddings(model_config)\n",
    "print(f\"***Took {default_timer() - start_time} seconds to save node embeddings.***\")\n",
    "rec_pipeline.graph.schema().view()"
   ]
  },
  {
   "cell_type": "markdown",
   "id": "6e058913-fc3e-4c06-888b-b7fd9e167698",
   "metadata": {},
   "source": [
    "## Save Graph\n",
    "\n",
    "Save the graph created to the bucket location named in the `save_graph_path` variable."
   ]
  },
  {
   "cell_type": "code",
   "execution_count": null,
   "id": "36cc1319-b49e-4f07-aef0-a140ff354344",
   "metadata": {},
   "outputs": [],
   "source": [
    "if input_config.save_graph_path:\n",
    "    export_data.rdg(graph, input_config.save_graph_path)"
   ]
  }
 ],
 "metadata": {
  "katana": {
   "component": "AI",
   "max_num_hosts": 4
  },
  "kernelspec": {
   "display_name": "Python 3 (ipykernel)",
   "language": "python",
   "name": "python3"
  },
  "language_info": {
   "codemirror_mode": {
    "name": "ipython",
    "version": 3
   },
   "file_extension": ".py",
   "mimetype": "text/x-python",
   "name": "python",
   "nbconvert_exporter": "python",
   "pygments_lexer": "ipython3",
   "version": "3.8.13"
  },
  "toc-autonumbering": false
 },
 "nbformat": 4,
 "nbformat_minor": 5
}
