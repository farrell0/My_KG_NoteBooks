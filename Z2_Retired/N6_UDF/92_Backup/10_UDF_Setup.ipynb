{
 "cells": [
  {
   "cell_type": "markdown",
   "id": "d3ebe820-bc6d-4948-b668-8b81cd3cbf29",
   "metadata": {
    "tags": []
   },
   "source": [
    "#  Setup stuff: Connectivity"
   ]
  },
  {
   "cell_type": "raw",
   "id": "a771d859-3348-42c6-ad50-7897a6a674f1",
   "metadata": {},
   "source": [
    "\n",
    "#  Reminder, as I was having a lot of issues with tunneling during this time;\n",
    "#     use the command line below to check that the tunnel is still (up)\n",
    "#\n",
    "      curl --location --request GET \"http://localhost:8080/v2/version\"; echo \"\"\n"
   ]
  },
  {
   "cell_type": "code",
   "execution_count": 7,
   "id": "7efb145f-1834-4d1c-bc0a-41601488c0fc",
   "metadata": {},
   "outputs": [
    {
     "name": "stdout",
     "output_type": "stream",
     "text": [
      "--\n"
     ]
    }
   ],
   "source": [
    "#  Setting display options\n",
    "\n",
    "from tabulate import tabulate\n",
    "import pandas as pd\n",
    "   #\n",
    "pd.set_option(\"display.width\", 480)\n",
    "\n",
    "print(\"--\")\n"
   ]
  },
  {
   "cell_type": "code",
   "execution_count": 1,
   "id": "1ea957d6-30c6-427a-ae4e-15ecfba0c4f9",
   "metadata": {},
   "outputs": [
    {
     "name": "stdout",
     "output_type": "stream",
     "text": [
      "<katana_enterprise.remote.sync_wrappers.Client object at 0x7fa2697cd0d0>\n"
     ]
    }
   ],
   "source": [
    "\n",
    "from katana import remote\n",
    "from katana.remote import import_data\n",
    "\n",
    "\n",
    "my_client = remote.Client()\n",
    "\n",
    "print(my_client)\n"
   ]
  },
  {
   "cell_type": "code",
   "execution_count": 2,
   "id": "97571016-7c02-4e90-a75a-136a0dacd35f",
   "metadata": {},
   "outputs": [
    {
     "name": "stdout",
     "output_type": "stream",
     "text": [
      "--\n"
     ]
    }
   ],
   "source": [
    "NUM_PARTITIONS  = 3\n",
    "   #\n",
    "DB_NAME         = \"my_db\"\n",
    "GRAPH_NAME      = \"my_graph\"\n",
    "\n",
    "print(\"--\")\n"
   ]
  },
  {
   "cell_type": "code",
   "execution_count": 3,
   "id": "8ed2d715-aaeb-4381-9216-46fa0dd421b6",
   "metadata": {},
   "outputs": [
    {
     "name": "stdout",
     "output_type": "stream",
     "text": [
      "--\n"
     ]
    }
   ],
   "source": [
    "#  DELETE ALL GRAPHS\n",
    "\n",
    "for l_database in my_client.databases():\n",
    "   for l_graph in my_client.get_database(name=l_database.name).graphs_in_database():\n",
    "      l_handle=my_client.get_database(name=l_database.name).get_graph_by_id(id=l_graph.graph_id)\n",
    "      l_handle.delete()\n",
    "\n",
    "for l_graph in my_client.graphs():\n",
    "   print(\"GRAPH ID: \", l_graph.graph_id, \"      GRAPH Version: \", l_graph.version)\n",
    "\n",
    "print(\"--\")\n"
   ]
  },
  {
   "cell_type": "code",
   "execution_count": 4,
   "id": "cf9c16ec-913f-46a8-bccc-76fc92c54866",
   "metadata": {},
   "outputs": [
    {
     "name": "stdout",
     "output_type": "stream",
     "text": [
      "--\n",
      "DB ID:  DHqipVetyExgzHiN44naZkKL2aRvNdofZgRrnHmd7Jfu      DB Name:  default\n"
     ]
    }
   ],
   "source": [
    "#  DELETE ALL DATABASES\n",
    "\n",
    "for l_database in my_client.databases():\n",
    "   if (l_database.name != \"default\"):\n",
    "      my_client.get_database(name=l_database.name).delete_database()\n",
    "      print(\"--\")\n",
    "\n",
    "for l_database in my_client.databases():\n",
    "   print(\"DB ID: \", l_database.database_id, \"     DB Name: \", l_database.name)\n"
   ]
  },
  {
   "cell_type": "code",
   "execution_count": 5,
   "id": "6e72729c-265b-40e4-a3ee-674b793bed81",
   "metadata": {},
   "outputs": [
    {
     "name": "stdout",
     "output_type": "stream",
     "text": [
      "3qYAnyTUWnoFWt9rBVKarMgFJeJSBwXnMD8vTpsgZEZV\n"
     ]
    }
   ],
   "source": [
    "#  CREATE DATABASE\n",
    "\n",
    "my_database = my_client.create_database(name=DB_NAME)\n",
    "\n",
    "print(my_database.database_id)\n"
   ]
  },
  {
   "cell_type": "code",
   "execution_count": 6,
   "id": "2fc31da4-44c3-4bd3-b160-b315766dcd88",
   "metadata": {},
   "outputs": [
    {
     "name": "stdout",
     "output_type": "stream",
     "text": [
      "<_Graph my_graph, EPTEZJfs3HGbURdV7Xy6ANgn9TLgvad5v3yGtMmqGyVT, 0>\n"
     ]
    }
   ],
   "source": [
    "#  CREATE GRAPH\n",
    "\n",
    "my_graph = my_client.get_database(name=DB_NAME).create_graph(name=GRAPH_NAME, num_partitions=3) \n",
    "\n",
    "print(my_graph)\n"
   ]
  },
  {
   "cell_type": "code",
   "execution_count": null,
   "id": "c5db6505-7fc8-4779-b194-9ed8945b9a90",
   "metadata": {},
   "outputs": [],
   "source": [
    "#  CONNECT TO GRAPH\n",
    "\n",
    "for l_graph in my_client.graphs():\n",
    "   if (l_graph.name == GRAPH_NAME):\n",
    "      my_graph=my_client.get_database(name=DB_NAME).get_graph_by_id(id=l_graph.graph_id)\n",
    "        \n",
    "print(my_graph)\n"
   ]
  },
  {
   "cell_type": "markdown",
   "id": "039f91b3-11dc-475e-a9a1-daed40a30b44",
   "metadata": {
    "tags": []
   },
   "source": [
    "#  Setup stuff: Debugging"
   ]
  },
  {
   "cell_type": "code",
   "execution_count": null,
   "id": "fe05e591-927a-456b-b973-7aceba0bea39",
   "metadata": {},
   "outputs": [],
   "source": [
    "#  LIST ALL GRAPHS\n",
    "\n",
    "for l_graph in my_client.graphs():\n",
    "   print(\"GRAPH ID: \", l_graph.graph_id, \"     DB GRAPH: \", l_graph.name, \"    GRAPH VERSION: \", l_graph.version)\n",
    "\n",
    "print(\"--\")\n"
   ]
  },
  {
   "cell_type": "code",
   "execution_count": null,
   "id": "ce3ecfbe-cca0-41dd-bb15-594f2d545365",
   "metadata": {},
   "outputs": [],
   "source": [
    "display(my_graph.num_nodes())\n",
    "display(my_graph.num_edges())"
   ]
  },
  {
   "cell_type": "code",
   "execution_count": null,
   "id": "6792c607-3ac1-4f8b-b1d3-4a4e194e26cb",
   "metadata": {},
   "outputs": [],
   "source": [
    "# ##################################################################"
   ]
  },
  {
   "cell_type": "code",
   "execution_count": null,
   "id": "ef619a08-7263-4bb3-9edd-34148f639ec5",
   "metadata": {},
   "outputs": [],
   "source": [
    "my_graph.query(\"CALL graph.schema() RETURN *\")\n"
   ]
  },
  {
   "cell_type": "code",
   "execution_count": null,
   "id": "71fb84ed-29d1-4e3b-ae1f-b2d009af96ff",
   "metadata": {},
   "outputs": [],
   "source": [
    "my_client.widgets().operations()\n"
   ]
  },
  {
   "cell_type": "markdown",
   "id": "61556ce5-9044-42bc-bb13-80b6a514ae27",
   "metadata": {
    "tags": []
   },
   "source": [
    "# Create: Vertices/nodes, edges/relationships "
   ]
  },
  {
   "cell_type": "code",
   "execution_count": null,
   "id": "f7efb47b-3c7d-45f3-acc8-ae29c3e2a1bf",
   "metadata": {},
   "outputs": [],
   "source": [
    "import pandas as pd\n",
    "\n",
    "print(\"--\")"
   ]
  },
  {
   "cell_type": "code",
   "execution_count": 8,
   "id": "8e7ecf31-d69e-4b5a-8a37-0cfb4c32fd33",
   "metadata": {},
   "outputs": [
    {
     "name": "stdout",
     "output_type": "stream",
     "text": [
      "+----+---------------------+---------+---------+---------+\n",
      "|    | person_code         | fname   | lname   | LABEL   |\n",
      "|----+---------------------+---------+---------+---------|\n",
      "|  0 | 1111-1111-1111-1111 | Justin  | Fine    | Person  |\n",
      "|  1 | 2222-2222-2222-2222 | Thomas  | Cook    | Person  |\n",
      "|  2 | 3333-3333-3333-3333 | Sameer  | Iyengar | Person  |\n",
      "|  3 | 4444-4444-4444-4444 | Brian   | Spencer | Person  |\n",
      "+----+---------------------+---------+---------+---------+\n"
     ]
    }
   ],
   "source": [
    "#  Vertices/Nodes, Persons ..\n",
    "\n",
    "df_persons = pd.DataFrame([\n",
    "       #\n",
    "   [\"1111-1111-1111-1111\", \"Justin\"       , \"Fine\"        , \"Person\"],\n",
    "   [\"2222-2222-2222-2222\", \"Thomas\"       , \"Cook\"        , \"Person\"],\n",
    "   [\"3333-3333-3333-3333\", \"Sameer\"       , \"Iyengar\"     , \"Person\"],\n",
    "   [\"4444-4444-4444-4444\", \"Brian\"        , \"Spencer\"     , \"Person\"],\n",
    "       #\n",
    "   ], columns = [\"person_code\", \"fname\", \"lname\", \"LABEL\"])\n",
    "\n",
    "print(tabulate(df_persons, headers='keys', tablefmt='psql'))\n"
   ]
  },
  {
   "cell_type": "code",
   "execution_count": 9,
   "id": "c9649ab8-a94f-48aa-97de-bec7ae4e091d",
   "metadata": {},
   "outputs": [
    {
     "name": "stdout",
     "output_type": "stream",
     "text": [
      "+----+--------------+---------------+---------+\n",
      "|    |   store_code | store_name    | LABEL   |\n",
      "|----+--------------+---------------+---------|\n",
      "|  0 |          101 | Panera        | Store   |\n",
      "|  1 |          102 | Target        | Store   |\n",
      "|  2 |          103 | Lowes         | Store   |\n",
      "|  3 |          104 | Volvo Service | Store   |\n",
      "|  4 |          105 | JC Penney     | Store   |\n",
      "|  5 |          106 | Torchys Tacos | Store   |\n",
      "+----+--------------+---------------+---------+\n"
     ]
    }
   ],
   "source": [
    "#  Vertices/Nodes, Stores ..\n",
    "\n",
    "df_stores = pd.DataFrame([\n",
    "       #\n",
    "   [101, \"Panera\"        , \"Store\"],\n",
    "   [102, \"Target\"        , \"Store\"],\n",
    "   [103, \"Lowes\"         , \"Store\"],\n",
    "   [104, \"Volvo Service\" , \"Store\"],\n",
    "   [105, \"JC Penney\"     , \"Store\"],\n",
    "   [106, \"Torchys Tacos\" , \"Store\"],\n",
    "       #\n",
    "   ], columns = [\"store_code\", \"store_name\", \"LABEL\"])\n",
    "\n",
    "print(tabulate(df_stores, headers='keys', tablefmt='psql'))\n"
   ]
  },
  {
   "cell_type": "code",
   "execution_count": 10,
   "id": "60eaac88-4dd5-47d3-94b3-0f5fd0b243f2",
   "metadata": {},
   "outputs": [
    {
     "name": "stdout",
     "output_type": "stream",
     "text": [
      "+----+---------------------+----------+----------+------------------+-----------------+---------------+\n",
      "|    | START_ID            |   END_ID |   AMOUNT | DATE_AS_STRING   |   IS_FRAUDULENT | TYPE          |\n",
      "|----+---------------------+----------+----------+------------------+-----------------+---------------|\n",
      "|  0 | 1111-1111-1111-1111 |      101 |       40 | 2022-04-01       |               0 | MADE_PURCHASE |\n",
      "|  1 | 1111-1111-1111-1111 |      105 |       50 | 2022-04-02       |               0 | MADE_PURCHASE |\n",
      "|  2 | 1111-1111-1111-1111 |      106 |       60 | 2022-04-03       |               1 | MADE_PURCHASE |\n",
      "|  3 | 1111-1111-1111-1111 |      102 |       70 | 2022-04-10       |               0 | MADE_PURCHASE |\n",
      "|  4 | 1111-1111-1111-1111 |      106 |       60 | 2022-04-14       |               1 | MADE_PURCHASE |\n",
      "|  5 | 2222-2222-2222-2222 |      103 |       40 | 2022-04-01       |               0 | MADE_PURCHASE |\n",
      "|  6 | 2222-2222-2222-2222 |      104 |       50 | 2022-04-02       |               0 | MADE_PURCHASE |\n",
      "|  7 | 2222-2222-2222-2222 |      105 |       60 | 2022-04-03       |               0 | MADE_PURCHASE |\n",
      "|  8 | 2222-2222-2222-2222 |      101 |       70 | 2022-04-06       |               1 | MADE_PURCHASE |\n",
      "|  9 | 2222-2222-2222-2222 |      102 |       80 | 2022-04-10       |               0 | MADE_PURCHASE |\n",
      "| 10 | 3333-3333-3333-3333 |      105 |       50 | 2022-04-05       |               0 | MADE_PURCHASE |\n",
      "| 11 | 3333-3333-3333-3333 |      102 |       60 | 2022-04-09       |               1 | MADE_PURCHASE |\n",
      "| 12 | 3333-3333-3333-3333 |      102 |       70 | 2022-04-10       |               0 | MADE_PURCHASE |\n",
      "| 13 | 4444-4444-4444-4444 |      102 |       40 | 2022-04-07       |               0 | MADE_PURCHASE |\n",
      "| 14 | 4444-4444-4444-4444 |      103 |       50 | 2022-04-08       |               0 | MADE_PURCHASE |\n",
      "+----+---------------------+----------+----------+------------------+-----------------+---------------+\n"
     ]
    }
   ],
   "source": [
    "#  Create the edge, MADE_PURCHASE ..\n",
    "\n",
    "df_purchases = pd.DataFrame([\n",
    "      #\n",
    "   [\"1111-1111-1111-1111\", 101,   40.00, \"2022-04-01\", 0, \"MADE_PURCHASE\" ],\n",
    "   [\"1111-1111-1111-1111\", 105,   50.00, \"2022-04-02\", 0, \"MADE_PURCHASE\" ],\n",
    "   [\"1111-1111-1111-1111\", 106,   60.00, \"2022-04-03\", 1, \"MADE_PURCHASE\" ],\n",
    "   [\"1111-1111-1111-1111\", 102,   70.00, \"2022-04-10\", 0, \"MADE_PURCHASE\" ],\n",
    "   [\"1111-1111-1111-1111\", 106,   60.00, \"2022-04-14\", 1, \"MADE_PURCHASE\" ],\n",
    "      #\n",
    "   [\"2222-2222-2222-2222\", 103,   40.00, \"2022-04-01\", 0, \"MADE_PURCHASE\" ],\n",
    "   [\"2222-2222-2222-2222\", 104,   50.00, \"2022-04-02\", 0, \"MADE_PURCHASE\" ],\n",
    "   [\"2222-2222-2222-2222\", 105,   60.00, \"2022-04-03\", 0, \"MADE_PURCHASE\" ],\n",
    "   [\"2222-2222-2222-2222\", 101,   70.00, \"2022-04-06\", 1, \"MADE_PURCHASE\" ],\n",
    "   [\"2222-2222-2222-2222\", 102,   80.00, \"2022-04-10\", 0, \"MADE_PURCHASE\" ],\n",
    "      #\n",
    "   [\"3333-3333-3333-3333\", 105,   50.00, \"2022-04-05\", 0, \"MADE_PURCHASE\" ],\n",
    "   [\"3333-3333-3333-3333\", 102,   60.00, \"2022-04-09\", 1, \"MADE_PURCHASE\" ],\n",
    "   [\"3333-3333-3333-3333\", 102,   70.00, \"2022-04-10\", 0, \"MADE_PURCHASE\" ],\n",
    "      #\n",
    "   [\"4444-4444-4444-4444\", 102,   40.00, \"2022-04-07\", 0, \"MADE_PURCHASE\" ],\n",
    "   [\"4444-4444-4444-4444\", 103,   50.00, \"2022-04-08\", 0, \"MADE_PURCHASE\" ],\n",
    "      #\n",
    "   ], columns = [\"START_ID\", \"END_ID\", \"AMOUNT\", \"DATE_AS_STRING\", \"IS_FRAUDULENT\", \"TYPE\"])\n",
    "\n",
    "print(tabulate(df_purchases, headers='keys', tablefmt='psql'))\n"
   ]
  },
  {
   "cell_type": "code",
   "execution_count": null,
   "id": "3a08236c-2d8d-43e7-8db1-c5eefb208d26",
   "metadata": {},
   "outputs": [],
   "source": [
    "# ##################################################################"
   ]
  },
  {
   "cell_type": "code",
   "execution_count": 13,
   "id": "d08b9305-4278-4963-99e7-4f4b765ea1fb",
   "metadata": {},
   "outputs": [
    {
     "name": "stdout",
     "output_type": "stream",
     "text": [
      "3\n"
     ]
    }
   ],
   "source": [
    "#  Even though this graph was made with 3 partitions, and even though certain operations\n",
    "#  require at least 3 partitions else they fail, you may still see num_partitions = None\n",
    "#  which can happen on really small graphs, and produce unexpected results below.\n",
    "\n",
    "print(my_graph.num_partitions)"
   ]
  },
  {
   "cell_type": "code",
   "execution_count": 12,
   "id": "ead00877-924c-4e2a-8a39-86fbf34c17a3",
   "metadata": {},
   "outputs": [
    {
     "name": "stdout",
     "output_type": "stream",
     "text": [
      "--\n"
     ]
    }
   ],
   "source": [
    "my_graph.repartition(num_partitions = 3)\n",
    "\n",
    "print(\"--\")"
   ]
  },
  {
   "cell_type": "code",
   "execution_count": null,
   "id": "9127cfa8-171a-4f33-a9b3-9dfca6767f41",
   "metadata": {},
   "outputs": [],
   "source": [
    "# ##################################################################"
   ]
  },
  {
   "cell_type": "code",
   "execution_count": 14,
   "id": "5086ac96-21d1-4746-80db-7061d52070cc",
   "metadata": {},
   "outputs": [
    {
     "name": "stderr",
     "output_type": "stream",
     "text": [
      "UserWarning: dtype for DataFrame column 'fname' is 'object'. Will be inferred as string.\n",
      "UserWarning: dtype for DataFrame column 'lname' is 'object'. Will be inferred as string.\n",
      "UserWarning: dtype for DataFrame column 'LABEL' is 'object'. Will be inferred as string.\n",
      "UserWarning: dtype for DataFrame column 'store_name' is 'object'. Will be inferred as string.\n",
      "UserWarning: dtype for DataFrame column 'DATE_AS_STRING' is 'object'. Will be inferred as string.\n",
      "UserWarning: dtype for DataFrame column 'TYPE' is 'object'. Will be inferred as string.\n"
     ]
    },
    {
     "data": {
      "application/vnd.jupyter.widget-view+json": {
       "model_id": "09a2c32308034a08a287db26fc7e36da",
       "version_major": 2,
       "version_minor": 0
      },
      "text/plain": [
       "          0/? [?op/s]"
      ]
     },
     "metadata": {},
     "output_type": "display_data"
    },
    {
     "data": {
      "application/vnd.jupyter.widget-view+json": {
       "model_id": "4959149368c04236b9cdbf3827cda7a6",
       "version_major": 2,
       "version_minor": 0
      },
      "text/plain": [
       "          0/? [?op/s]"
      ]
     },
     "metadata": {},
     "output_type": "display_data"
    },
    {
     "name": "stdout",
     "output_type": "stream",
     "text": [
      "--\n"
     ]
    }
   ],
   "source": [
    "\n",
    "# Import the 3 previously created Python DataFrames into KatanaGraph\n",
    "\n",
    "with import_data.DataFrameImporter(my_graph) as df_importer:   \n",
    "    \n",
    "   df_importer.nodes_dataframe(df_persons,                     #  Person set of Nodes\n",
    "      id_column             = \"person_code\",\n",
    "      id_space              = \"Person\",  \n",
    "      label                 = \"Person\",  \n",
    "      )\n",
    "    \n",
    "   df_importer.nodes_dataframe(df_stores,                      #  Store set of Nodes\n",
    "      id_column             = \"store_code\",\n",
    "      id_space              = \"Store\", \n",
    "      label                 = \"Store\", \n",
    "      )\n",
    "   \n",
    "   df_importer.edges_dataframe(df_purchases,                   #  Our Edge, specifying the relationship between Person --> MADE_PURCHASE --> Store\n",
    "      source_id_space       = \"Person\", \n",
    "      destination_id_space  = \"Store\",   \n",
    "      source_column         = \"START_ID\",\n",
    "      destination_column    = \"END_ID\",\n",
    "      type                  = \"MADE_PURCHASE\"\n",
    "      )\n",
    "\n",
    "print(\"--\")\n"
   ]
  },
  {
   "cell_type": "code",
   "execution_count": null,
   "id": "5c7a23a1-170b-4f2c-b9ab-9b750f1ee3f3",
   "metadata": {},
   "outputs": [],
   "source": [
    "# ##################################################################"
   ]
  },
  {
   "cell_type": "code",
   "execution_count": 15,
   "id": "6160bd57-15aa-4ff0-9269-9431e6f7dd2b",
   "metadata": {},
   "outputs": [
    {
     "data": {
      "application/vnd.jupyter.widget-view+json": {
       "model_id": "1b09ec37c9fa4671a03a29333f4beb8f",
       "version_major": 2,
       "version_minor": 0
      },
      "text/plain": [
       "          0/? [?op/s]"
      ]
     },
     "metadata": {},
     "output_type": "display_data"
    },
    {
     "data": {
      "application/vnd.jupyter.widget-view+json": {
       "model_id": "2079ae0060784e13810e30520c214e73",
       "version_major": 2,
       "version_minor": 0
      },
      "text/plain": [
       "          0/? [?op/s]"
      ]
     },
     "metadata": {},
     "output_type": "display_data"
    },
    {
     "data": {
      "application/vnd.jupyter.widget-view+json": {
       "model_id": "bdc163fd8c52447ea2678c38c8709434",
       "version_major": 2,
       "version_minor": 0
      },
      "text/plain": [
       "VBox(children=(HTML(value='\\n                <style>\\n                #jp-main-content-panel .widget-container…"
      ]
     },
     "metadata": {},
     "output_type": "display_data"
    }
   ],
   "source": [
    "#  View the graph; verify results\n",
    "\n",
    "l_result = my_graph.query(\"\"\"\n",
    "\n",
    "   MATCH (n) - [r] -> (m)\n",
    "   RETURN n, r, m\n",
    "   \n",
    "   \"\"\", contextualize=True)\n",
    "\n",
    "l_result.view()\n"
   ]
  },
  {
   "cell_type": "code",
   "execution_count": 16,
   "id": "e55e66f9-5913-423a-9923-11b792985c51",
   "metadata": {},
   "outputs": [
    {
     "data": {
      "application/vnd.jupyter.widget-view+json": {
       "model_id": "84d5679e8c7441b6a0eb2ed104063283",
       "version_major": 2,
       "version_minor": 0
      },
      "text/plain": [
       "          0/? [?op/s]"
      ]
     },
     "metadata": {},
     "output_type": "display_data"
    },
    {
     "data": {
      "application/vnd.jupyter.widget-view+json": {
       "model_id": "9cb99c943c5d4341950d8a3e92fa8df9",
       "version_major": 2,
       "version_minor": 0
      },
      "text/plain": [
       "          0/? [?op/s]"
      ]
     },
     "metadata": {},
     "output_type": "display_data"
    },
    {
     "name": "stdout",
     "output_type": "stream",
     "text": [
      "+----+-----------------+------------+-----------+-----------+---------------------+-----------+----------+\n",
      "|    |   n.internal_id | n.labels   | n.LABEL   | n.fname   | n.id                | n.lname   | n.type   |\n",
      "|----+-----------------+------------+-----------+-----------+---------------------+-----------+----------|\n",
      "|  0 | 281474976710656 | ['Person'] | Person    | Brian     | 4444-4444-4444-4444 | Spencer   | node     |\n",
      "|  1 | 562949953421312 | ['Person'] | Person    | Justin    | 1111-1111-1111-1111 | Fine      | node     |\n",
      "|  2 | 562949953421313 | ['Person'] | Person    | Thomas    | 2222-2222-2222-2222 | Cook      | node     |\n",
      "|  3 | 562949953421314 | ['Person'] | Person    | Sameer    | 3333-3333-3333-3333 | Iyengar   | node     |\n",
      "+----+-----------------+------------+-----------+-----------+---------------------+-----------+----------+\n"
     ]
    }
   ],
   "source": [
    "#  View the graph; verify results\n",
    "\n",
    "l_result = my_graph.query(\"\"\"\n",
    "\n",
    "   MATCH (n: Person)\n",
    "   RETURN n\n",
    "   \n",
    "   \"\"\", contextualize=True)\n",
    "\n",
    "print(tabulate(l_result, headers='keys', tablefmt='psql'))\n"
   ]
  },
  {
   "cell_type": "code",
   "execution_count": 17,
   "id": "b88f0a13-771c-456f-8d92-2115c3089d93",
   "metadata": {},
   "outputs": [
    {
     "data": {
      "application/vnd.jupyter.widget-view+json": {
       "model_id": "45e344edd5bc45169c5fccae42ca2d35",
       "version_major": 2,
       "version_minor": 0
      },
      "text/plain": [
       "          0/? [?op/s]"
      ]
     },
     "metadata": {},
     "output_type": "display_data"
    },
    {
     "name": "stdout",
     "output_type": "stream",
     "text": [
      "+----+-----------------+----------------+-----------------+---------------+------------+--------------------+-------------------+---------------+-----------------+------------------+----------+\n",
      "|    |        r.end.id | r.end.labels   |   r.internal_id | r.label       |   r.AMOUNT | r.DATE_AS_STRING   |   r.IS_FRAUDULENT | r.TYPE        |      r.start.id | r.start.labels   | r.type   |\n",
      "|----+-----------------+----------------+-----------------+---------------+------------+--------------------+-------------------+---------------+-----------------+------------------+----------|\n",
      "|  0 | 281474976710658 | ['Store']      | 281474976710656 | MADE_PURCHASE |         40 | 2022-04-07         |                 0 | MADE_PURCHASE | 281474976710656 | ['Person']       | edge     |\n",
      "|  1 | 562949953421315 | ['Store']      | 281474976710657 | MADE_PURCHASE |         50 | 2022-04-08         |                 0 | MADE_PURCHASE | 281474976710656 | ['Person']       | edge     |\n",
      "|  2 | 562949953421316 | ['Store']      | 562949953421313 | MADE_PURCHASE |         50 | 2022-04-02         |                 0 | MADE_PURCHASE | 562949953421312 | ['Person']       | edge     |\n",
      "|  3 | 281474976710658 | ['Store']      | 562949953421317 | MADE_PURCHASE |         70 | 2022-04-10         |                 0 | MADE_PURCHASE | 562949953421312 | ['Person']       | edge     |\n",
      "|  4 |               0 | ['Store']      | 562949953421321 | MADE_PURCHASE |         60 | 2022-04-03         |                 1 | MADE_PURCHASE | 562949953421312 | ['Person']       | edge     |\n",
      "|  5 |               0 | ['Store']      | 562949953421322 | MADE_PURCHASE |         60 | 2022-04-14         |                 1 | MADE_PURCHASE | 562949953421312 | ['Person']       | edge     |\n",
      "|  6 | 281474976710657 | ['Store']      | 562949953421323 | MADE_PURCHASE |         40 | 2022-04-01         |                 0 | MADE_PURCHASE | 562949953421312 | ['Person']       | edge     |\n",
      "|  7 | 562949953421316 | ['Store']      | 562949953421315 | MADE_PURCHASE |         50 | 2022-04-05         |                 0 | MADE_PURCHASE | 562949953421314 | ['Person']       | edge     |\n",
      "|  8 | 281474976710658 | ['Store']      | 562949953421319 | MADE_PURCHASE |         60 | 2022-04-09         |                 1 | MADE_PURCHASE | 562949953421314 | ['Person']       | edge     |\n",
      "|  9 | 281474976710658 | ['Store']      | 562949953421320 | MADE_PURCHASE |         70 | 2022-04-10         |                 0 | MADE_PURCHASE | 562949953421314 | ['Person']       | edge     |\n",
      "| 10 | 562949953421315 | ['Store']      | 562949953421312 | MADE_PURCHASE |         40 | 2022-04-01         |                 0 | MADE_PURCHASE | 562949953421313 | ['Person']       | edge     |\n",
      "| 11 | 562949953421316 | ['Store']      | 562949953421314 | MADE_PURCHASE |         60 | 2022-04-03         |                 0 | MADE_PURCHASE | 562949953421313 | ['Person']       | edge     |\n",
      "| 12 | 281474976710659 | ['Store']      | 562949953421316 | MADE_PURCHASE |         50 | 2022-04-02         |                 0 | MADE_PURCHASE | 562949953421313 | ['Person']       | edge     |\n",
      "| 13 | 281474976710658 | ['Store']      | 562949953421318 | MADE_PURCHASE |         80 | 2022-04-10         |                 0 | MADE_PURCHASE | 562949953421313 | ['Person']       | edge     |\n",
      "| 14 | 281474976710657 | ['Store']      | 562949953421324 | MADE_PURCHASE |         70 | 2022-04-06         |                 1 | MADE_PURCHASE | 562949953421313 | ['Person']       | edge     |\n",
      "+----+-----------------+----------------+-----------------+---------------+------------+--------------------+-------------------+---------------+-----------------+------------------+----------+\n"
     ]
    }
   ],
   "source": [
    "#  View the graph; verify results\n",
    "\n",
    "l_result = my_graph.query(\"\"\"\n",
    "\n",
    "   MATCH (n) - [r] -> (m)\n",
    "   RETURN r\n",
    "   \n",
    "   \"\"\", contextualize=True)\n",
    "\n",
    "print(tabulate(l_result, headers='keys', tablefmt='psql'))\n"
   ]
  }
 ],
 "metadata": {
  "kernelspec": {
   "display_name": "Python 3 (ipykernel)",
   "language": "python",
   "name": "python3"
  },
  "language_info": {
   "codemirror_mode": {
    "name": "ipython",
    "version": 3
   },
   "file_extension": ".py",
   "mimetype": "text/x-python",
   "name": "python",
   "nbconvert_exporter": "python",
   "pygments_lexer": "ipython3",
   "version": "3.8.13"
  }
 },
 "nbformat": 4,
 "nbformat_minor": 5
}
