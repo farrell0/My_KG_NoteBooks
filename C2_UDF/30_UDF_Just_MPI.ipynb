{
 "cells": [
  {
   "cell_type": "markdown",
   "id": "43b1755b-2af6-4570-84de-764a0024a919",
   "metadata": {
    "tags": []
   },
   "source": [
    "#  Display options:"
   ]
  },
  {
   "cell_type": "code",
   "execution_count": 1,
   "id": "d7a11486-11ea-4a6c-8f7b-6f3808dfc85e",
   "metadata": {},
   "outputs": [
    {
     "data": {
      "text/html": [],
      "text/plain": [
       "<IPython.core.display.HTML object>"
      ]
     },
     "metadata": {},
     "output_type": "display_data"
    },
    {
     "name": "stdout",
     "output_type": "stream",
     "text": [
      "--\n"
     ]
    }
   ],
   "source": [
    "\n",
    "#  Setting display options \n",
    "\n",
    "import pandas as pd\n",
    "   #\n",
    "pd.set_option(\"display.width\", 480)\n",
    "\n",
    "#  Sets horizontal scroll for wide outputs\n",
    "#\n",
    "from IPython.display import display, HTML\n",
    "display(HTML(\"\"))\n",
    "\n",
    "from tabulate import tabulate\n",
    "\n",
    "print(\"--\")\n"
   ]
  },
  {
   "cell_type": "code",
   "execution_count": null,
   "id": "60db99d1-7e45-49d6-8e9c-b6a998c56d8c",
   "metadata": {},
   "outputs": [],
   "source": [
    "\n",
    "#  When using UDFs, these execute on another host.\n",
    "#\n",
    "#  As such, these methods will need to be copied and run locally also.\n",
    "#\n",
    "pd.set_option('display.max_columns', None)\n",
    "pd.set_option(\"max_colwidth\", None)\n"
   ]
  },
  {
   "cell_type": "markdown",
   "id": "d3ebe820-bc6d-4948-b668-8b81cd3cbf29",
   "metadata": {
    "tags": []
   },
   "source": [
    "#  Setup stuff: Connectivity"
   ]
  },
  {
   "cell_type": "code",
   "execution_count": 2,
   "id": "1ea957d6-30c6-427a-ae4e-15ecfba0c4f9",
   "metadata": {},
   "outputs": [
    {
     "name": "stdout",
     "output_type": "stream",
     "text": [
      "<katana_enterprise.remote.sync_wrappers.Client object at 0x7f4f4c314520>\n"
     ]
    }
   ],
   "source": [
    "\n",
    "from katana import remote\n",
    "\n",
    "my_client = remote.Client()\n",
    "\n",
    "print(my_client)\n"
   ]
  },
  {
   "cell_type": "code",
   "execution_count": 3,
   "id": "97571016-7c02-4e90-a75a-136a0dacd35f",
   "metadata": {},
   "outputs": [
    {
     "name": "stdout",
     "output_type": "stream",
     "text": [
      "--\n"
     ]
    }
   ],
   "source": [
    "\n",
    "NUM_PARTITIONS  = 3\n",
    "   #\n",
    "DB_NAME         = \"my_db\"\n",
    "GRAPH_NAME      = \"my_graph\"\n",
    "\n",
    "print(\"--\")\n"
   ]
  },
  {
   "cell_type": "code",
   "execution_count": 4,
   "id": "c5db6505-7fc8-4779-b194-9ed8945b9a90",
   "metadata": {},
   "outputs": [
    {
     "name": "stdout",
     "output_type": "stream",
     "text": [
      "<_Graph my_graph, H2oBBmL3EBBp33jGQ2h63qEct3NXfGc2UNcZNZPYfVsH, 70>\n"
     ]
    }
   ],
   "source": [
    "\n",
    "#  CONNECT TO GRAPH\n",
    "\n",
    "my_graph, *_ = my_client.get_database(name=DB_NAME).find_graphs_by_name(GRAPH_NAME)\n",
    "\n",
    "print(my_graph)\n"
   ]
  },
  {
   "cell_type": "code",
   "execution_count": null,
   "id": "195ac246-4852-44ac-8a63-8631b38858ca",
   "metadata": {},
   "outputs": [],
   "source": [
    "\n",
    "display(my_graph.num_nodes())\n",
    "display(my_graph.num_edges())\n"
   ]
  },
  {
   "cell_type": "code",
   "execution_count": null,
   "id": "2ee40b52-a157-4242-92f3-4fc037dc542b",
   "metadata": {},
   "outputs": [],
   "source": [
    "#  Even though this graph was made with 3 partitions, and even though certain operations\n",
    "#  require at least 3 partitions else they fail, you may still see num_partitions = None\n",
    "#  which can happen on really small graphs, and produce unexpected results below.\n",
    "\n",
    "print(my_graph.num_partitions)\n"
   ]
  },
  {
   "cell_type": "code",
   "execution_count": null,
   "id": "420011bd-878f-4376-a0a8-8f500a298bd4",
   "metadata": {},
   "outputs": [],
   "source": [
    "\n",
    "#  my_graph.repartition(num_partitions = 1)\n",
    "my_graph.repartition(num_partitions = 3)\n",
    "\n",
    "print(\"--\")\n"
   ]
  },
  {
   "cell_type": "code",
   "execution_count": null,
   "id": "e1864bd7-a83a-4b43-a479-852da42090d2",
   "metadata": {},
   "outputs": [],
   "source": [
    "\n",
    "def my_func(i_graph):\n",
    "    \n",
    "   help(i_graph.nodes.labels)\n",
    "      #\n",
    "   return\n",
    "\n",
    "l_result = my_graph.run(lambda g: my_func(g))\n"
   ]
  },
  {
   "cell_type": "code",
   "execution_count": null,
   "id": "779d031f-6681-45d9-9050-329ad0f36f83",
   "metadata": {},
   "outputs": [],
   "source": [
    "\n",
    "#  Our code will be getting larger; demonstrate using nested functions with Python\n",
    "\n",
    "def my_func_HHH(i_graph, i_properties):\n",
    "\n",
    "   def bbb():\n",
    "      print(\"HHH\")\n",
    "    \n",
    "   print(\"GGG\")\n",
    "   bbb()\n",
    "        \n",
    "   return\n",
    "\n",
    "\n",
    "l_result = my_graph.run(lambda g: my_func_HHH(g, [\"id\", \"fname\", \"lname\"]))\n",
    "   #\n",
    "print(l_result)\n",
    "\n",
    "\n",
    "#  Sample output,\n",
    "#\n",
    "#     Host 0 output:\n",
    "#     GGG\n",
    "#     HHH\n",
    "#     \n",
    "#     Host 1 output:\n",
    "#     GGG\n",
    "#     HHH\n",
    "#     \n",
    "#     Host 2 output:\n",
    "#     GGG\n",
    "#     HHH\n",
    "#     None\n"
   ]
  },
  {
   "cell_type": "code",
   "execution_count": null,
   "id": "76f88074-b38a-4348-974d-14abd2c23e78",
   "metadata": {},
   "outputs": [],
   "source": [
    "\n",
    "display(my_graph.num_nodes())\n",
    "display(my_graph.num_edges())\n"
   ]
  },
  {
   "cell_type": "code",
   "execution_count": null,
   "id": "9ca30cea-4075-40c9-bcd6-55b2e46598ac",
   "metadata": {},
   "outputs": [],
   "source": [
    "\n",
    "# my_graph2 = my_graph.project(node_types=[\"Airport\"], edge_types=[None])\n",
    "my_graph2 = my_graph.project(node_types=[\"Airport\"], edge_types=[\"FLIES_TO\"])\n",
    "\n",
    "print(\"--\")\n"
   ]
  },
  {
   "cell_type": "code",
   "execution_count": null,
   "id": "770a91e6-cebc-4134-950f-d9819d07a9da",
   "metadata": {},
   "outputs": [],
   "source": [
    "\n",
    "display(my_graph2.num_nodes())\n",
    "display(my_graph2.num_edges())\n",
    "\n",
    "#  OperationError: 9AgHAAGCdiiUykiKth3cm2rJW4ruWxpLTaf5ofuQkVQx-2dhBp6fa5UWarBkC7 \n",
    "#  Projected views are not supported for query operation yet. \n",
    "#  (QueryOperation.cpp:30): not implemented: not implemented\n"
   ]
  },
  {
   "cell_type": "code",
   "execution_count": null,
   "id": "041dd288-902e-4603-a9b7-b87e6736088a",
   "metadata": {},
   "outputs": [],
   "source": [
    "#  View the graph; verify results\n",
    "\n",
    "l_result = my_graph2.query(\"\"\"\n",
    "\n",
    "   MATCH (n)\n",
    "   RETURN n\n",
    "   \n",
    "   \"\"\", contextualize=True)\n",
    "\n",
    "l_result.view()\n",
    "\n",
    "#  OperationError: Projected views are not supported for query operation yet. \n",
    "#  (QueryOperation.cpp:28): not implemented: not implemented\n"
   ]
  },
  {
   "cell_type": "code",
   "execution_count": null,
   "id": "c6539d56-27ea-473b-904c-34b36c10ac27",
   "metadata": {},
   "outputs": [],
   "source": [
    "\n",
    "#  Working with a property, after a projection\n",
    "\n",
    "def my_func(i_graph, i_property):\n",
    "    \n",
    "   for l_node in i_graph.nodes.get_property(i_property):\n",
    "      print(l_node)\n",
    "            \n",
    "   return\n",
    "\n",
    "l_result = my_graph2.run(lambda g: my_func(g, \"id\"))\n",
    "\n",
    "#  Projection not used\n",
    "#\n",
    "#     Host 0 output:\n",
    "#     DEN\n",
    "#     ORD\n",
    "#     SJC\n",
    "#     \n",
    "#     Host 1 output:\n",
    "#     MKE\n",
    "#     ORD\n",
    "#     PAP\n",
    "#     \n",
    "#     Host 2 output:\n",
    "#     ORD\n",
    "#     SJC\n",
    "#     DEN\n",
    "#     MKE\n",
    "#     PAP\n"
   ]
  },
  {
   "cell_type": "code",
   "execution_count": null,
   "id": "456a127d-b4af-4b41-8795-bbb28f142b5a",
   "metadata": {},
   "outputs": [],
   "source": [
    "\n",
    "#  Put the projection inside the UDF\n",
    "\n",
    "\n",
    "def my_func(i_graph, i_property):\n",
    "    \n",
    "   l_graph2 = i_graph.project(node_types=[\"Airport\"], edge_types=[\"FLIES_TO\"])\n",
    "\n",
    "   for l_node in l_graph2.nodes.get_property(i_property):\n",
    "      print(l_node)\n",
    "            \n",
    "   return\n",
    "    \n",
    "    \n",
    "l_result = my_graph.run(lambda g: my_func(g, \"id\"))\n",
    "\n",
    "#  Projection not used\n",
    "#\n",
    "#  (Same output as above)\n"
   ]
  },
  {
   "cell_type": "code",
   "execution_count": null,
   "id": "5d03df1e-7b98-4820-9172-8aa6c4dbcf35",
   "metadata": {},
   "outputs": [],
   "source": [
    "\n",
    "#  Working with edge data; approach 1\n",
    "#\n",
    "#     .  Just get something working\n",
    "#\n",
    "\n",
    "def my_func(i_graph, i_label):\n",
    "    \n",
    "   l_node_props = i_graph.nodes.    get_property(\"id\"      )\n",
    "   l_edge_props = i_graph.out_edges.get_property(\"DISTANCE\")\n",
    "    \n",
    "   for l_node in i_graph.nodes.masters():\n",
    "      if (i_label in i_graph.nodes.labels(l_node)):\n",
    "         for l_edge in i_graph.out_edges(l_node):\n",
    "          \n",
    "            l_node_id       = l_node_props[l_node]\n",
    "               #\n",
    "            l_edge_src      = i_graph.out_edges.src(l_edge)\n",
    "            l_edge_dst      = i_graph.out_edges.dst(l_edge)\n",
    "               #\n",
    "            l_edge_distance = l_edge_props[l_edge]\n",
    "               #\n",
    "            print(\"Given Airport: %-3s   Edge Src: %-3s / %-18s   Edge Dst: %-3s / %-18s   Distance: %-8s\" % (\n",
    "               l_node_id, l_node_props[l_edge_src], l_edge_src, l_node_props[l_edge_dst], l_edge_dst, l_edge_distance))\n",
    "    \n",
    "   return\n",
    "\n",
    "l_result = my_graph.run(lambda g: my_func(g, \"Airport\"))\n",
    "\n",
    "#  Sample output,     (fyi:  results may look different, as partitioning may be different between loads)\n",
    "#\n",
    "#     Host 0 output:\n",
    "#     Given Airport: MKE   Edge Src: MKE / <lnid 0>             Edge Dst: ORD / <lnid 4294967294>    Distance: 66      \n",
    "#     \n",
    "#     Host 1 output:\n",
    "#     Given Airport: ORD   Edge Src: ORD / <lnid 0>             Edge Dst: MKE / <lnid 4294967293>    Distance: 66      \n",
    "#     Given Airport: ORD   Edge Src: ORD / <lnid 0>             Edge Dst: DEN / <lnid 4294967294>    Distance: 886     \n",
    "#     Given Airport: SJC   Edge Src: SJC / <lnid 1>             Edge Dst: ORD / <lnid 0>             Distance: 1829    \n",
    "#     Given Airport: SJC   Edge Src: SJC / <lnid 1>             Edge Dst: DEN / <lnid 4294967294>    Distance: 948     \n",
    "#     Given Airport: SJC   Edge Src: SJC / <lnid 1>             Edge Dst: PAP / <lnid 4294967292>    Distance: None    \n",
    "#     \n",
    "#     Host 2 output:\n",
    "#     Given Airport: DEN   Edge Src: DEN / <lnid 0>             Edge Dst: SJC / <lnid 4294967293>    Distance: 948     \n",
    "#     Given Airport: DEN   Edge Src: DEN / <lnid 0>             Edge Dst: ORD / <lnid 4294967294>    Distance: 886     \n",
    "\n",
    "#  Above,\n",
    "#\n",
    "#     .  Minimally, we show the out edge from SJC Airport to a non-Airport node.\n",
    "#        This is because we did filter nodes on the Airport label, but looked at [ all ] out edges.\n",
    "#\n",
    "#     .  We add additional node and edge properties; move to managing that with less code.\n"
   ]
  },
  {
   "cell_type": "code",
   "execution_count": null,
   "id": "8991217f-37f6-4c03-a6e1-d51c94fe091c",
   "metadata": {},
   "outputs": [],
   "source": [
    "\n",
    "#  Working with edge data; approach 2\n",
    "#\n",
    "#     .  Cleaner handling of properties\n",
    "#     .  Filter out Restaurants\n",
    "#\n",
    "\n",
    "def my_func(i_graph, i_label, i_type, i_weight):\n",
    "    \n",
    "    \n",
    "   l_node_props = {each: i_graph.nodes    .get_property(each) for each in [ \"id\"             ]}\n",
    "   l_edge_props = {each: i_graph.out_edges.get_property(each) for each in [ \"TYPE\", i_weight ]}\n",
    "    \n",
    "   for l_node in i_graph.nodes.masters():\n",
    "      if (i_label in i_graph.nodes.labels(l_node)):\n",
    "         for l_edge in i_graph.out_edges(l_node):\n",
    "            if(l_edge_props[\"TYPE\"][l_edge] == i_type):\n",
    "          \n",
    "               l_node_id       = l_node_props[\"id\"][l_node]\n",
    "                  #\n",
    "               l_edge_src      = i_graph.out_edges.src(l_edge)\n",
    "               l_edge_dst      = i_graph.out_edges.dst(l_edge)\n",
    "                  #\n",
    "               l_edge_distance = l_edge_props[i_weight][l_edge]\n",
    "                  #\n",
    "               print(\"Given Airport: %-3s   Edge Src: %-3s / %-18s   Edge Dst: %-3s / %-18s   Distance: %-8s\" % (\n",
    "                  l_node_id, l_node_props[\"id\"][l_edge_src], l_edge_src, l_node_props[\"id\"][l_edge_dst], l_edge_dst, l_edge_distance))\n",
    "                  \n",
    "   return\n",
    "\n",
    "l_result = my_graph.run(lambda g: my_func(g, \"Airport\", \"FLIES_TO\", \"DISTANCE\"))\n",
    "\n",
    "#  Sample output,\n",
    "#\n",
    "#     Host 0 output:\n",
    "#     Given Airport: MKE   Edge Src: MKE / <lnid 0>             Edge Dst: ORD / <lnid 4294967294>    Distance: 66      \n",
    "#     \n",
    "#     Host 1 output:\n",
    "#     Given Airport: ORD   Edge Src: ORD / <lnid 0>             Edge Dst: MKE / <lnid 4294967293>    Distance: 66      \n",
    "#     Given Airport: ORD   Edge Src: ORD / <lnid 0>             Edge Dst: DEN / <lnid 4294967294>    Distance: 886     \n",
    "#     Given Airport: SJC   Edge Src: SJC / <lnid 1>             Edge Dst: ORD / <lnid 0>             Distance: 1829    \n",
    "#     Given Airport: SJC   Edge Src: SJC / <lnid 1>             Edge Dst: DEN / <lnid 4294967294>    Distance: 948     \n",
    "#     \n",
    "#     Host 2 output:\n",
    "#     Given Airport: DEN   Edge Src: DEN / <lnid 0>             Edge Dst: SJC / <lnid 4294967293>    Distance: 948     \n",
    "#     Given Airport: DEN   Edge Src: DEN / <lnid 0>             Edge Dst: ORD / <lnid 4294967294>    Distance: 886     \n"
   ]
  },
  {
   "cell_type": "markdown",
   "id": "a2077542-b136-4b57-9c87-c81942e08db3",
   "metadata": {
    "tags": []
   },
   "source": [
    "#  UDFs, Part 01: Just MPI"
   ]
  },
  {
   "cell_type": "code",
   "execution_count": null,
   "id": "4463948c-cc50-4fc0-b001-28dc883f2f7d",
   "metadata": {},
   "outputs": [],
   "source": [
    "\n",
    "#  Best practice; Have a second NoteBook open with the Operations Widget ready-\n",
    "#\n",
    "#  Why ?\n",
    "#     When you make mistakes below, you will want to kill the Python job that is running\n",
    "#     on the worker nodes, the UDFs you submit below-\n",
    "#\n",
    "#  Source,\n",
    "#     https://mpi4py.readthedocs.io/en/stable/tutorial.html\n"
   ]
  },
  {
   "cell_type": "code",
   "execution_count": null,
   "id": "f5f746be-53db-4cc4-a765-53605277f265",
   "metadata": {},
   "outputs": [],
   "source": [
    "\n",
    "#  Example for testing; generates a random dataset\n",
    "#\n",
    "\n",
    "def my_func():\n",
    "    \n",
    "   #  from katana_enterprise.distributed import single_host\n",
    "   from katana.distributed import single_host\n",
    "      #\n",
    "   import numpy as np\n",
    "\n",
    "\n",
    "   l_return = np.random.randint(1, 101, 4)                                #  Generate an array[4] of random numbers in the range of 1-100\n",
    "      #                                                                   #     <class 'numpy.ndarray'>\n",
    "   print(l_return)\n",
    "    \n",
    "    \n",
    "   #  return l_return\n",
    "   #\n",
    "   #     ValueError: Hosts returned more than one value. Please have only one host return a value while other's return a None.\n",
    "   #     The returned results (index is the host # in list):\n",
    "   #     [array([71, 25, 37, 40]), array([72, 19, 18, 63]), array([34, 39, 44, 59])]\n",
    "\n",
    "\n",
    "   return single_host(host=0, result=l_return)\n",
    "\n",
    "\n",
    "my_return = my_graph.run(lambda g: my_func())\n",
    "   #\n",
    "print(\"\")\n",
    "display(\"My return: %s\" % (str(my_return)))\n",
    "\n",
    "\n",
    "#  Sample output,\n",
    "#\n",
    "#     Host 0 output:\n",
    "#     [80 68 81 23]\n",
    "#     \n",
    "#     Host 1 output:\n",
    "#     [61 17 47 34]\n",
    "#     \n",
    "#     Host 2 output:\n",
    "#     [11 93 11 57]\n",
    "#     \n",
    "#     'My return: [80 68 81 23]'\n"
   ]
  },
  {
   "cell_type": "code",
   "execution_count": null,
   "id": "e8370fdf-c573-4e91-b7e9-c2ec4ef8131d",
   "metadata": {},
   "outputs": [],
   "source": [
    "\n",
    "#  Knowing which worker node your code is running on; this approach is preferred\n",
    "#\n",
    "\n",
    "def my_func():\n",
    "    \n",
    "   from katana.distributed import MPI\n",
    "\n",
    "   l_comm         = MPI.COMM_WORLD\n",
    "   l_nodenumber   = (l_comm.Get_rank())\n",
    "   l_nodecount    = (l_comm.Get_size())\n",
    "      #\n",
    "   print(\"This node number: %d   Count of all Nodes: %d\" % (l_nodenumber, l_nodecount))\n",
    "\n",
    "   return\n",
    "\n",
    "\n",
    "l_result = my_graph.run(lambda g: my_func())\n",
    "   #\n",
    "print(\"--\")\n",
    "\n",
    "#  Sample output,\n",
    "#\n",
    "#     Host 0 output:\n",
    "#     This node number: 0   Count of all Nodes: 3\n",
    "#     \n",
    "#     Host 1 output:\n",
    "#     This node number: 1   Count of all Nodes: 3\n",
    "#     \n",
    "#     Host 2 output:\n",
    "#     This node number: 2   Count of all Nodes: 3\n"
   ]
  },
  {
   "cell_type": "code",
   "execution_count": 5,
   "id": "dfaf4819-ee02-4fd2-ac0f-8c0efc8d02a9",
   "metadata": {},
   "outputs": [
    {
     "data": {
      "application/vnd.jupyter.widget-view+json": {
       "model_id": "7e557be1308b4df08cd85930ab27631b",
       "version_major": 2,
       "version_minor": 0
      },
      "text/plain": [
       "          0/? [?op/s]"
      ]
     },
     "metadata": {},
     "output_type": "display_data"
    },
    {
     "name": "stdout",
     "output_type": "stream",
     "text": [
      "\n",
      "Host 0 output:\n",
      "[86 92 29 24]\n",
      "\n"
     ]
    },
    {
     "data": {
      "text/plain": [
       "array([86, 92, 29, 24])"
      ]
     },
     "metadata": {},
     "output_type": "display_data"
    }
   ],
   "source": [
    "\n",
    "#  Example using inter worker node data passing; approach 1\n",
    "#\n",
    "#     This approach only works single node to single node. \n",
    "#     If you use this approach, for example, (n) nodes sending to node-0, the function\n",
    "#     will hang.\n",
    "#\n",
    "#     Totally expected; this technique is listed as point-to-point in the documentation.\n",
    "#\n",
    "\n",
    "def my_func():\n",
    "    \n",
    "   from katana.distributed import single_host\n",
    "   from katana.distributed import MPI\n",
    "      #\n",
    "   import numpy as np\n",
    "\n",
    "\n",
    "   l_comm         = MPI.COMM_WORLD\n",
    "   l_nodenumber   = (l_comm.Get_rank())\n",
    "   l_nodecount    = (l_comm.Get_size())\n",
    "      #\n",
    "   l_return       = None\n",
    "\n",
    "    \n",
    "   if (l_nodenumber == 0):\n",
    "      l_datarecv = l_comm.recv(source = 1)\n",
    "      print(l_datarecv)\n",
    "      l_return = l_datarecv\n",
    "   elif (l_nodenumber == 1):\n",
    "      l_datasend = np.random.randint(1, 101, 4)\n",
    "      l_comm.send(l_datasend, dest = 0)\n",
    "    \n",
    "   return single_host(host=0, result=l_return)\n",
    "\n",
    "\n",
    "my_return = my_graph.run(lambda g: my_func())\n",
    "   #\n",
    "print(\"\")\n",
    "display(my_return)\n",
    "\n",
    "\n",
    "#  Sample output,\n",
    "#\n",
    "#     Host 0 output:\n",
    "#     [57  2 16 73]\n",
    "#     \n",
    "#     array([57,  2, 16, 73])\n"
   ]
  },
  {
   "cell_type": "code",
   "execution_count": 10,
   "id": "58e2f082-b629-45a5-8d74-91439e4d96d4",
   "metadata": {},
   "outputs": [
    {
     "data": {
      "application/vnd.jupyter.widget-view+json": {
       "model_id": "14985dba13eb4df28a859ed6b687fcaa",
       "version_major": 2,
       "version_minor": 0
      },
      "text/plain": [
       "          0/? [?op/s]"
      ]
     },
     "metadata": {},
     "output_type": "display_data"
    },
    {
     "name": "stdout",
     "output_type": "stream",
     "text": [
      "\n",
      "Host 0 output:\n",
      "[ 3 62 68 68]\n",
      "SENT\n",
      "\n",
      "Host 1 output:\n",
      "[15 79 35 21]\n",
      "SENT\n",
      "\n",
      "Host 2 output:\n",
      "[77 11 51 83]\n",
      "SENT\n"
     ]
    },
    {
     "name": "stderr",
     "output_type": "stream",
     "text": [
      "\n",
      "Host 0 errors:\n",
      "Traceback (most recent call last):\n",
      "  File \"/opt/miniconda/lib/python3.8/site-packages/katana_enterprise/worker/worker.py\", line 86, in execute\n",
      "    value = function(graph)\n",
      "  File \"/tmp/ipykernel_7027/2093482287.py\", line 66, in <lambda>\n",
      "  File \"/tmp/ipykernel_7027/2093482287.py\", line 59, in my_func\n",
      "  File \"/tmp/ipykernel_7027/2093482287.py\", line 48, in f_datarecv\n",
      "NameError: name 'data' is not defined\n"
     ]
    },
    {
     "ename": "NameError",
     "evalue": "name 'data' is not defined",
     "output_type": "error",
     "traceback": [
      "\u001b[0;31m---------------------------------------------------------------------------\u001b[0m",
      "\u001b[0;31mNameError\u001b[0m                                 Traceback (most recent call last)",
      "Cell \u001b[0;32mIn [10], line 66\u001b[0m\n\u001b[1;32m     59\u001b[0m    l_returnall \u001b[38;5;241m=\u001b[39m f_datarecv(l_result)\n\u001b[1;32m     62\u001b[0m    \u001b[38;5;28;01mreturn\u001b[39;00m single_host(host\u001b[38;5;241m=\u001b[39m\u001b[38;5;241m0\u001b[39m, result\u001b[38;5;241m=\u001b[39ml_returnall)\n\u001b[0;32m---> 66\u001b[0m my_return \u001b[38;5;241m=\u001b[39m \u001b[43mmy_graph\u001b[49m\u001b[38;5;241;43m.\u001b[39;49m\u001b[43mrun\u001b[49m\u001b[43m(\u001b[49m\u001b[38;5;28;43;01mlambda\u001b[39;49;00m\u001b[43m \u001b[49m\u001b[43mg\u001b[49m\u001b[43m:\u001b[49m\u001b[43m \u001b[49m\u001b[43mmy_func\u001b[49m\u001b[43m(\u001b[49m\u001b[43m)\u001b[49m\u001b[43m)\u001b[49m\n\u001b[1;32m     67\u001b[0m    \u001b[38;5;66;03m#\u001b[39;00m\n\u001b[1;32m     68\u001b[0m \u001b[38;5;28mprint\u001b[39m(\u001b[38;5;124m\"\u001b[39m\u001b[38;5;124m\"\u001b[39m)\n",
      "File \u001b[0;32m/opt/conda/lib/python3.8/site-packages/katana_enterprise/async_to_sync.py:249\u001b[0m, in \u001b[0;36mAsyncToSync.<locals>.do_wrap.<locals>.wrapper\u001b[0;34m(self, *args, **kwargs)\u001b[0m\n\u001b[1;32m    246\u001b[0m \u001b[38;5;129m@wraps\u001b[39m(underlying_func)\n\u001b[1;32m    247\u001b[0m \u001b[38;5;28;01mdef\u001b[39;00m \u001b[38;5;21mwrapper\u001b[39m(\u001b[38;5;28mself\u001b[39m, \u001b[38;5;241m*\u001b[39margs, \u001b[38;5;241m*\u001b[39m\u001b[38;5;241m*\u001b[39mkwargs):\n\u001b[1;32m    248\u001b[0m     \u001b[38;5;28;01mreturn\u001b[39;00m registry\u001b[38;5;241m.\u001b[39masync_to_sync(\n\u001b[0;32m--> 249\u001b[0m         \u001b[43munderlying_func\u001b[49m\u001b[43m(\u001b[49m\n\u001b[1;32m    250\u001b[0m \u001b[43m            \u001b[49m\u001b[43mget_self_func\u001b[49m\u001b[43m(\u001b[49m\u001b[38;5;28;43mself\u001b[39;49m\u001b[43m)\u001b[49m\u001b[43m,\u001b[49m\n\u001b[1;32m    251\u001b[0m \u001b[43m            \u001b[49m\u001b[38;5;241;43m*\u001b[39;49m\u001b[43m(\u001b[49m\u001b[43mregistry\u001b[49m\u001b[38;5;241;43m.\u001b[39;49m\u001b[43msync_to_async\u001b[49m\u001b[43m(\u001b[49m\u001b[43ma\u001b[49m\u001b[43m)\u001b[49m\u001b[43m \u001b[49m\u001b[38;5;28;43;01mfor\u001b[39;49;00m\u001b[43m \u001b[49m\u001b[43ma\u001b[49m\u001b[43m \u001b[49m\u001b[38;5;129;43;01min\u001b[39;49;00m\u001b[43m \u001b[49m\u001b[43margs\u001b[49m\u001b[43m)\u001b[49m\u001b[43m,\u001b[49m\n\u001b[1;32m    252\u001b[0m \u001b[43m            \u001b[49m\u001b[38;5;241;43m*\u001b[39;49m\u001b[38;5;241;43m*\u001b[39;49m\u001b[43m{\u001b[49m\u001b[43mk\u001b[49m\u001b[43m:\u001b[49m\u001b[43m \u001b[49m\u001b[43mregistry\u001b[49m\u001b[38;5;241;43m.\u001b[39;49m\u001b[43msync_to_async\u001b[49m\u001b[43m(\u001b[49m\u001b[43mv\u001b[49m\u001b[43m)\u001b[49m\u001b[43m \u001b[49m\u001b[38;5;28;43;01mfor\u001b[39;49;00m\u001b[43m \u001b[49m\u001b[43mk\u001b[49m\u001b[43m,\u001b[49m\u001b[43m \u001b[49m\u001b[43mv\u001b[49m\u001b[43m \u001b[49m\u001b[38;5;129;43;01min\u001b[39;49;00m\u001b[43m \u001b[49m\u001b[43mkwargs\u001b[49m\u001b[38;5;241;43m.\u001b[39;49m\u001b[43mitems\u001b[49m\u001b[43m(\u001b[49m\u001b[43m)\u001b[49m\u001b[43m}\u001b[49m\u001b[43m,\u001b[49m\n\u001b[1;32m    253\u001b[0m \u001b[43m        \u001b[49m\u001b[43m)\u001b[49m\n\u001b[1;32m    254\u001b[0m     )\n",
      "File \u001b[0;32m/opt/conda/lib/python3.8/site-packages/katana_enterprise/async_to_sync.py:176\u001b[0m, in \u001b[0;36masync_to_sync.<locals>.wrapper\u001b[0;34m(timeout, *args, **kwargs)\u001b[0m\n\u001b[1;32m    166\u001b[0m     registry \u001b[38;5;241m=\u001b[39m AsyncToSyncClassRegistry\u001b[38;5;241m.\u001b[39mget()\n\u001b[1;32m    167\u001b[0m     \u001b[38;5;28;01mreturn\u001b[39;00m registry\u001b[38;5;241m.\u001b[39masync_to_sync(\n\u001b[1;32m    168\u001b[0m         wait_for(\n\u001b[1;32m    169\u001b[0m             async_func(\n\u001b[0;32m   (...)\u001b[0m\n\u001b[1;32m    174\u001b[0m         )\n\u001b[1;32m    175\u001b[0m     )\n\u001b[0;32m--> 176\u001b[0m \u001b[38;5;28;01mreturn\u001b[39;00m \u001b[43mwait_for\u001b[49m\u001b[43m(\u001b[49m\u001b[43masync_func\u001b[49m\u001b[43m(\u001b[49m\u001b[38;5;241;43m*\u001b[39;49m\u001b[43margs\u001b[49m\u001b[43m,\u001b[49m\u001b[43m \u001b[49m\u001b[38;5;241;43m*\u001b[39;49m\u001b[38;5;241;43m*\u001b[39;49m\u001b[43mkwargs\u001b[49m\u001b[43m)\u001b[49m\u001b[43m,\u001b[49m\u001b[43m \u001b[49m\u001b[43mtimeout\u001b[49m\u001b[38;5;241;43m=\u001b[39;49m\u001b[43mtimeout\u001b[49m\u001b[43m)\u001b[49m\n",
      "File \u001b[0;32m/opt/conda/lib/python3.8/site-packages/katana_enterprise/async_to_sync.py:147\u001b[0m, in \u001b[0;36mwait_for\u001b[0;34m(coro, timeout)\u001b[0m\n\u001b[1;32m    145\u001b[0m \u001b[38;5;28;01mtry\u001b[39;00m:\n\u001b[1;32m    146\u001b[0m     future \u001b[38;5;241m=\u001b[39m asyncio\u001b[38;5;241m.\u001b[39mrun_coroutine_threadsafe(timeout_coro, loop\u001b[38;5;241m=\u001b[39mAsyncRunnerThread\u001b[38;5;241m.\u001b[39mget()\u001b[38;5;241m.\u001b[39mloop)\n\u001b[0;32m--> 147\u001b[0m     \u001b[38;5;28;01mreturn\u001b[39;00m \u001b[43mfuture\u001b[49m\u001b[38;5;241;43m.\u001b[39;49m\u001b[43mresult\u001b[49m\u001b[43m(\u001b[49m\u001b[43m)\u001b[49m\n\u001b[1;32m    148\u001b[0m \u001b[38;5;28;01mexcept\u001b[39;00m \u001b[38;5;167;01mKeyboardInterrupt\u001b[39;00m:\n\u001b[1;32m    149\u001b[0m     inner_future\u001b[38;5;241m.\u001b[39mcancel()\n",
      "File \u001b[0;32m/opt/conda/lib/python3.8/concurrent/futures/_base.py:444\u001b[0m, in \u001b[0;36mFuture.result\u001b[0;34m(self, timeout)\u001b[0m\n\u001b[1;32m    442\u001b[0m     \u001b[38;5;28;01mraise\u001b[39;00m CancelledError()\n\u001b[1;32m    443\u001b[0m \u001b[38;5;28;01melif\u001b[39;00m \u001b[38;5;28mself\u001b[39m\u001b[38;5;241m.\u001b[39m_state \u001b[38;5;241m==\u001b[39m FINISHED:\n\u001b[0;32m--> 444\u001b[0m     \u001b[38;5;28;01mreturn\u001b[39;00m \u001b[38;5;28;43mself\u001b[39;49m\u001b[38;5;241;43m.\u001b[39;49m\u001b[43m__get_result\u001b[49m\u001b[43m(\u001b[49m\u001b[43m)\u001b[49m\n\u001b[1;32m    445\u001b[0m \u001b[38;5;28;01melse\u001b[39;00m:\n\u001b[1;32m    446\u001b[0m     \u001b[38;5;28;01mraise\u001b[39;00m \u001b[38;5;167;01mTimeoutError\u001b[39;00m()\n",
      "File \u001b[0;32m/opt/conda/lib/python3.8/concurrent/futures/_base.py:389\u001b[0m, in \u001b[0;36mFuture.__get_result\u001b[0;34m(self)\u001b[0m\n\u001b[1;32m    387\u001b[0m \u001b[38;5;28;01mif\u001b[39;00m \u001b[38;5;28mself\u001b[39m\u001b[38;5;241m.\u001b[39m_exception:\n\u001b[1;32m    388\u001b[0m     \u001b[38;5;28;01mtry\u001b[39;00m:\n\u001b[0;32m--> 389\u001b[0m         \u001b[38;5;28;01mraise\u001b[39;00m \u001b[38;5;28mself\u001b[39m\u001b[38;5;241m.\u001b[39m_exception\n\u001b[1;32m    390\u001b[0m     \u001b[38;5;28;01mfinally\u001b[39;00m:\n\u001b[1;32m    391\u001b[0m         \u001b[38;5;66;03m# Break a reference cycle with the exception in self._exception\u001b[39;00m\n\u001b[1;32m    392\u001b[0m         \u001b[38;5;28mself\u001b[39m \u001b[38;5;241m=\u001b[39m \u001b[38;5;28;01mNone\u001b[39;00m\n",
      "File \u001b[0;32m/opt/conda/lib/python3.8/asyncio/tasks.py:455\u001b[0m, in \u001b[0;36mwait_for\u001b[0;34m(fut, timeout, loop)\u001b[0m\n\u001b[1;32m    450\u001b[0m     warnings\u001b[38;5;241m.\u001b[39mwarn(\u001b[38;5;124m\"\u001b[39m\u001b[38;5;124mThe loop argument is deprecated since Python 3.8, \u001b[39m\u001b[38;5;124m\"\u001b[39m\n\u001b[1;32m    451\u001b[0m                   \u001b[38;5;124m\"\u001b[39m\u001b[38;5;124mand scheduled for removal in Python 3.10.\u001b[39m\u001b[38;5;124m\"\u001b[39m,\n\u001b[1;32m    452\u001b[0m                   \u001b[38;5;167;01mDeprecationWarning\u001b[39;00m, stacklevel\u001b[38;5;241m=\u001b[39m\u001b[38;5;241m2\u001b[39m)\n\u001b[1;32m    454\u001b[0m \u001b[38;5;28;01mif\u001b[39;00m timeout \u001b[38;5;129;01mis\u001b[39;00m \u001b[38;5;28;01mNone\u001b[39;00m:\n\u001b[0;32m--> 455\u001b[0m     \u001b[38;5;28;01mreturn\u001b[39;00m \u001b[38;5;28;01mawait\u001b[39;00m fut\n\u001b[1;32m    457\u001b[0m \u001b[38;5;28;01mif\u001b[39;00m timeout \u001b[38;5;241m<\u001b[39m\u001b[38;5;241m=\u001b[39m \u001b[38;5;241m0\u001b[39m:\n\u001b[1;32m    458\u001b[0m     fut \u001b[38;5;241m=\u001b[39m ensure_future(fut, loop\u001b[38;5;241m=\u001b[39mloop)\n",
      "File \u001b[0;32m/opt/conda/lib/python3.8/site-packages/katana_enterprise/remote/aio/graph.py:527\u001b[0m, in \u001b[0;36mGraph.run\u001b[0;34m(self, function)\u001b[0m\n\u001b[1;32m    525\u001b[0m \u001b[38;5;28mprint\u001b[39m(result\u001b[38;5;241m.\u001b[39mstdout, file\u001b[38;5;241m=\u001b[39msys\u001b[38;5;241m.\u001b[39mstdout, end\u001b[38;5;241m=\u001b[39m\u001b[38;5;124m\"\u001b[39m\u001b[38;5;124m\"\u001b[39m)\n\u001b[1;32m    526\u001b[0m \u001b[38;5;28mprint\u001b[39m(result\u001b[38;5;241m.\u001b[39mstderr, file\u001b[38;5;241m=\u001b[39msys\u001b[38;5;241m.\u001b[39mstderr, end\u001b[38;5;241m=\u001b[39m\u001b[38;5;124m\"\u001b[39m\u001b[38;5;124m\"\u001b[39m)\n\u001b[0;32m--> 527\u001b[0m \u001b[38;5;28;01mreturn\u001b[39;00m \u001b[43mresult\u001b[49m\u001b[38;5;241;43m.\u001b[39;49m\u001b[43mvalue\u001b[49m\n",
      "File \u001b[0;32m/opt/conda/lib/python3.8/site-packages/katana_enterprise/remote/run_result.py:21\u001b[0m, in \u001b[0;36mRunResult.value\u001b[0;34m(self)\u001b[0m\n\u001b[1;32m     19\u001b[0m \u001b[38;5;129m@property\u001b[39m\n\u001b[1;32m     20\u001b[0m \u001b[38;5;28;01mdef\u001b[39;00m \u001b[38;5;21mvalue\u001b[39m(\u001b[38;5;28mself\u001b[39m):\n\u001b[0;32m---> 21\u001b[0m     \u001b[38;5;28;43mself\u001b[39;49m\u001b[38;5;241;43m.\u001b[39;49m\u001b[43mreraise_if_error\u001b[49m\u001b[43m(\u001b[49m\u001b[43m)\u001b[49m\n\u001b[1;32m     22\u001b[0m     \u001b[38;5;28;01massert\u001b[39;00m \u001b[38;5;28mself\u001b[39m\u001b[38;5;241m.\u001b[39msuccess\n\u001b[1;32m     23\u001b[0m     \u001b[38;5;28;01mreturn\u001b[39;00m \u001b[38;5;28mself\u001b[39m\u001b[38;5;241m.\u001b[39m_value\n",
      "File \u001b[0;32m/opt/conda/lib/python3.8/site-packages/katana_enterprise/remote/run_result.py:17\u001b[0m, in \u001b[0;36mRunResult.reraise_if_error\u001b[0;34m(self)\u001b[0m\n\u001b[1;32m     15\u001b[0m \u001b[38;5;28;01mdef\u001b[39;00m \u001b[38;5;21mreraise_if_error\u001b[39m(\u001b[38;5;28mself\u001b[39m):\n\u001b[1;32m     16\u001b[0m     \u001b[38;5;28;01mif\u001b[39;00m \u001b[38;5;129;01mnot\u001b[39;00m \u001b[38;5;28mself\u001b[39m\u001b[38;5;241m.\u001b[39msuccess:\n\u001b[0;32m---> 17\u001b[0m         \u001b[38;5;28;01mraise\u001b[39;00m \u001b[38;5;28mself\u001b[39m\u001b[38;5;241m.\u001b[39m_value\n",
      "\u001b[0;31mNameError\u001b[0m: name 'data' is not defined"
     ]
    }
   ],
   "source": [
    "\n",
    "#  Example using inter worker node data passing; approach 2\n",
    "#\n",
    "#  Change,\n",
    "#\n",
    "#     .  Do work on all nodes\n",
    "#     .  We'll use (broadcast), since mid-processing, we might want to send\n",
    "#        intermediate results to all nodes.\n",
    "#     .  Concatenate all results and send those back to the calling function\n",
    "#\n",
    "\n",
    "def my_func():\n",
    "    \n",
    "   from katana.distributed import single_host\n",
    "   from katana.distributed import MPI\n",
    "      #\n",
    "   import numpy as np\n",
    "\n",
    "\n",
    "   l_comm         = MPI.COMM_WORLD\n",
    "   l_nodenumber   = (l_comm.Get_rank())\n",
    "   l_nodecount    = (l_comm.Get_size())\n",
    "      #\n",
    "   l_return       = None\n",
    "\n",
    "\n",
    "   def f_dowork():\n",
    "\n",
    "      #  Do whatever here to generate what you want to return to the calling\n",
    "      #  function/client\n",
    "      #\n",
    "      l_result = np.random.randint(1, 101, 4)\n",
    "         #\n",
    "      print(l_result)\n",
    "      return l_result\n",
    "    \n",
    "    \n",
    "   def f_datasend(i_datasend):\n",
    "      l_comm.bcast(i_datasend, root = 0)\n",
    "      print(\"SENT\")\n",
    "\n",
    "    \n",
    "   def f_datarecv(i_datarecv):\n",
    "      l_return = []\n",
    "         #\n",
    "      if (l_nodenumber == 0):\n",
    "         l_return.append(i_datarecv)\n",
    "            #\n",
    "         l_datarecv = l_comm.gather(data, root = 0)\n",
    "         print(\"RECV\")\n",
    "            #\n",
    "      return l_return\n",
    "    \n",
    "    \n",
    "\n",
    "   l_result = f_dowork()\n",
    "      #\n",
    "   f_datasend(l_result)\n",
    "      #\n",
    "   l_returnall = f_datarecv(l_result)\n",
    "\n",
    "\n",
    "   return single_host(host=0, result=l_returnall)\n",
    "\n",
    "\n",
    "\n",
    "my_return = my_graph.run(lambda g: my_func())\n",
    "   #\n",
    "print(\"\")\n",
    "display(my_return)\n",
    "\n",
    "\n",
    "\n"
   ]
  },
  {
   "cell_type": "code",
   "execution_count": null,
   "id": "ab3c9e52-afbe-4054-8fd5-60b0969208f8",
   "metadata": {},
   "outputs": [],
   "source": []
  },
  {
   "cell_type": "code",
   "execution_count": null,
   "id": "6b78be6d-4a80-4416-827d-1e13cc5e8f8e",
   "metadata": {},
   "outputs": [],
   "source": []
  },
  {
   "cell_type": "code",
   "execution_count": null,
   "id": "ca5947da-243c-46f4-90f8-0a44bb450ae0",
   "metadata": {},
   "outputs": [],
   "source": []
  },
  {
   "cell_type": "code",
   "execution_count": null,
   "id": "58ec3360-6ad3-4cc8-9612-9065c09ed436",
   "metadata": {},
   "outputs": [],
   "source": []
  },
  {
   "cell_type": "code",
   "execution_count": null,
   "id": "dfdb8f05-0b2b-4233-862c-68037215b806",
   "metadata": {},
   "outputs": [],
   "source": []
  },
  {
   "cell_type": "code",
   "execution_count": null,
   "id": "b709fd37-a6b5-4143-af5e-3620f8a41577",
   "metadata": {},
   "outputs": [],
   "source": [
    "\n",
    "\n",
    "\n",
    "from mpi4py import MPI\n",
    "import numpy as np\n",
    "\n",
    "comm = MPI.COMM_WORLD\n",
    "size = comm.Get_size()\n",
    "rank = comm.Get_rank()\n",
    "\n",
    "sendbuf = np.zeros(100, dtype='i') + rank\n",
    "recvbuf = None\n",
    "if rank == 0:\n",
    "    recvbuf = np.empty([size, 100], dtype='i')\n",
    "comm.Gather(sendbuf, recvbuf, root=0)\n",
    "if rank == 0:\n",
    "    for i in range(size):\n",
    "        assert np.allclose(recvbuf[i,:], i)\n",
    "        \n",
    "        \n",
    "        "
   ]
  },
  {
   "cell_type": "code",
   "execution_count": null,
   "id": "269daf07-e7aa-453c-9209-09448299d4d3",
   "metadata": {},
   "outputs": [],
   "source": []
  },
  {
   "cell_type": "code",
   "execution_count": null,
   "id": "5514e81b-ab8c-427a-a94e-4da09c3a9e46",
   "metadata": {},
   "outputs": [],
   "source": []
  },
  {
   "cell_type": "code",
   "execution_count": null,
   "id": "5fc408e3-2d40-4b39-ba9f-d6b2c3257610",
   "metadata": {},
   "outputs": [],
   "source": [
    "\n",
    "def my_func(i_graph, i_properties):\n",
    "    \n",
    "   import numpy as np\n",
    "   from katana_enterprise.distributed import single_host\n",
    "\n",
    "\n",
    "   l_return = np.random.randint(1, 101, 4)\n",
    "   print(l_return)\n",
    "\n",
    "\n",
    "   #  return single_host(host=0, result=l_return)\n",
    "\n",
    "\n",
    "my_return = my_graph.run(lambda g: my_func(g, [\"xxx\", \"yyy\"]))\n",
    "   #\n",
    "display(\"--\")\n",
    "display(my_return)\n"
   ]
  },
  {
   "cell_type": "code",
   "execution_count": null,
   "id": "d999b409-82e6-4dfb-b0e4-370e86d34442",
   "metadata": {},
   "outputs": [],
   "source": []
  },
  {
   "cell_type": "code",
   "execution_count": null,
   "id": "7799eac9-e3df-4a51-8d14-77f976541feb",
   "metadata": {},
   "outputs": [],
   "source": []
  },
  {
   "cell_type": "code",
   "execution_count": null,
   "id": "bc401648-8d88-422a-a592-8c1ff07955f6",
   "metadata": {},
   "outputs": [],
   "source": [
    "\n",
    "l_nodes = []\n",
    "print(type(l_nodes))\n"
   ]
  },
  {
   "cell_type": "code",
   "execution_count": null,
   "id": "76b775df-7896-4355-a60e-f81bbd792f91",
   "metadata": {},
   "outputs": [],
   "source": []
  },
  {
   "cell_type": "code",
   "execution_count": null,
   "id": "a566b5c2-e9d1-4d9e-befb-5fa589735a9c",
   "metadata": {},
   "outputs": [],
   "source": []
  },
  {
   "cell_type": "code",
   "execution_count": null,
   "id": "ecbdfd85-1a4e-452b-b3a6-64ee75bedee2",
   "metadata": {},
   "outputs": [],
   "source": []
  },
  {
   "cell_type": "code",
   "execution_count": null,
   "id": "2a2fd5e6-30d6-4a6d-baac-82308dafc568",
   "metadata": {},
   "outputs": [],
   "source": []
  },
  {
   "cell_type": "code",
   "execution_count": null,
   "id": "2c542b1d-7356-4bae-b4b1-0ef6f6ec2a58",
   "metadata": {},
   "outputs": [],
   "source": []
  },
  {
   "cell_type": "code",
   "execution_count": null,
   "id": "271abb20-1371-4f51-8837-0d57e207a3db",
   "metadata": {},
   "outputs": [],
   "source": [
    "\n",
    "#  Another example; building a DataFrame which gets returned\n",
    "#\n",
    "\n",
    "def my_func(i_graph, i_properties):\n",
    "    \n",
    "    \n",
    "   from katana_enterprise.distributed import single_host\n",
    "      #\n",
    "   import numpy  as np\n",
    "   import pandas as pd\n",
    "    \n",
    "\n",
    "   ##################################################################\n",
    "\n",
    "   #  Nested function, load a Python DataFrame from the KG graph\n",
    "    \n",
    "   def l_load_df(i_graph, i_properties):\n",
    "      l_nodes = []\n",
    "    \n",
    "      for l_property in i_properties:\n",
    "         l_node = i_graph.nodes.get_property(l_property).to_numpy().reshape(-1, 1)\n",
    "         l_nodes.append(l_node)\n",
    "       \n",
    "      l_array     = np.hstack(l_nodes)\n",
    "      l_dataframe = pd.DataFrame(l_array, columns=i_properties)\n",
    "         #\n",
    "    \n",
    "      return l_dataframe\n",
    "    \n",
    "   ##################################################################\n",
    "\n",
    "   #  Nested function, add a new, derived column to the DataFrame\n",
    "    \n",
    "   def l_enrich_df(i_dataframe, i_source_property, i_new_property):\n",
    "    \n",
    "      def l_to_upper(i_str):\n",
    "         if i_str.get(i_source_property) is not None:\n",
    "            return str(i_str[i_source_property]).upper()\n",
    "         else:\n",
    "            return\n",
    "    \n",
    "      i_dataframe[i_new_property] = i_dataframe.apply(l_to_upper, axis=1)\n",
    "    \n",
    "      return\n",
    "\n",
    "   ##################################################################\n",
    "    \n",
    "    \n",
    "   l_dataframe = l_load_df(i_graph, i_properties)\n",
    "      #\n",
    "   l_enrich_df(l_dataframe, \"airport_name\", \"airport_name_upper\")\n",
    "\n",
    "        \n",
    "   return single_host(host=0, result=l_dataframe)\n",
    "   #  return l_dataframe\n",
    "\n",
    "\n",
    "l_result = my_graph.run(lambda g: my_func(g, [\"id\", \"airport_name\", \"restaurant_name\"]))\n",
    "   #\n",
    "print(l_result)\n",
    "\n",
    "\n",
    "#  Sample output,\n",
    "#\n",
    "#         id    airport_name              restaurant_name airport_name_upper\n",
    "#     0  SJC        San Jose                         None           SAN JOSE\n",
    "#     1  DEN          Denver                         None             DENVER\n",
    "#     2  ORD  Chicago O-Hare                         None     CHICAGO O-HARE\n",
    "#     3  PAP            None  Pappadeauxs Seafood Kitchen               None\n"
   ]
  },
  {
   "cell_type": "code",
   "execution_count": null,
   "id": "9d272408-5fda-47dc-bed4-6272d7b0365d",
   "metadata": {},
   "outputs": [],
   "source": []
  },
  {
   "cell_type": "code",
   "execution_count": null,
   "id": "6baf50f7-c0aa-41fb-907d-c6c690f72cf4",
   "metadata": {},
   "outputs": [],
   "source": []
  },
  {
   "cell_type": "code",
   "execution_count": null,
   "id": "dcf75e78-1621-437e-82bc-4bf9ed637fe8",
   "metadata": {},
   "outputs": [],
   "source": []
  },
  {
   "cell_type": "code",
   "execution_count": null,
   "id": "f36c9867-ca4d-4ce0-9c3f-7355ed932347",
   "metadata": {},
   "outputs": [],
   "source": []
  }
 ],
 "metadata": {
  "kernelspec": {
   "display_name": "Python 3 (ipykernel)",
   "language": "python",
   "name": "python3"
  },
  "language_info": {
   "codemirror_mode": {
    "name": "ipython",
    "version": 3
   },
   "file_extension": ".py",
   "mimetype": "text/x-python",
   "name": "python",
   "nbconvert_exporter": "python",
   "pygments_lexer": "ipython3",
   "version": "3.8.13"
  }
 },
 "nbformat": 4,
 "nbformat_minor": 5
}
