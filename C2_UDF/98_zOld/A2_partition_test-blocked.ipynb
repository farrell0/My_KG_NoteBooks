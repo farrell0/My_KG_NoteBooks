{
 "cells": [
  {
   "cell_type": "code",
   "execution_count": 1,
   "id": "d15210fc-ab82-4bd9-80f4-2f283d3cfaa4",
   "metadata": {},
   "outputs": [],
   "source": [
    "######## setup variables ##########\n",
    "#gs_prefix=\"gs://anand-31-simple-files/aml-customer-extended\"\n",
    "gs_prefix = \"gs://anand-31-simple-files/partition-test/\"\n",
    "partitions = 3\n",
    "platform_prefix=gs_prefix"
   ]
  },
  {
   "cell_type": "code",
   "execution_count": 2,
   "id": "d54dec81-4ec2-4bbb-af34-294dc7894523",
   "metadata": {},
   "outputs": [],
   "source": [
    "import os                                                                        \n",
    "import time                                                                      \n",
    "import json\n",
    "import pandas as pd\n",
    "from timeit import default_timer as timer\n",
    "from katana.remote import aio, analytics, import_data, trace\n",
    "\n",
    "from katana import remote\n",
    "from katana.remote import import_data\n",
    "from katana.remote import PartitionPolicy\n",
    "\n",
    "os.environ[\"KATANA_SERVER_ADDRESS\"] = \"host.docker.internal:8080\"\n",
    "\n",
    "pd.set_option('display.max_columns', None)\n",
    "pd.set_option(\"max_colwidth\", None)"
   ]
  },
  {
   "cell_type": "code",
   "execution_count": 3,
   "id": "ae5c18da-bd95-48c6-8705-dff778f73b05",
   "metadata": {},
   "outputs": [
    {
     "data": {
      "text/plain": [
       "'0.3.0.dev+7767.7767.08ac50.08ac50'"
      ]
     },
     "execution_count": 3,
     "metadata": {},
     "output_type": "execute_result"
    }
   ],
   "source": [
    "rc=remote.Client()\n",
    "rc.server_version"
   ]
  },
  {
   "cell_type": "code",
   "execution_count": 4,
   "id": "f86ca9c2-ccda-4bc8-a593-fa4f5fa7bd23",
   "metadata": {},
   "outputs": [],
   "source": [
    "\n",
    "graph = rc.create_graph(\n",
    "    num_partitions=partitions,\n",
    "    name=\"partition_test\"\n",
    ")"
   ]
  },
  {
   "cell_type": "code",
   "execution_count": 5,
   "id": "327d4ac7-e323-41e0-853a-b0ceecd40146",
   "metadata": {},
   "outputs": [
    {
     "data": {
      "text/plain": [
       "'sfYV5QhTeo4eVR7acaXgZ9rJoxm4UXKWTV8ji9sCEb9'"
      ]
     },
     "execution_count": 5,
     "metadata": {},
     "output_type": "execute_result"
    }
   ],
   "source": [
    "graph.graph_id"
   ]
  },
  {
   "cell_type": "code",
   "execution_count": 6,
   "id": "b3fd0ff0-9855-42fe-8792-a1f1c198e648",
   "metadata": {},
   "outputs": [],
   "source": [
    "test_node_file = platform_prefix + \"nodes.txt\"\n",
    "test_edge_file = platform_prefix + \"edges.txt\"\n",
    "input_path=platform_prefix \n"
   ]
  },
  {
   "cell_type": "code",
   "execution_count": 7,
   "id": "1a80917a-8a9c-49ab-a2b8-cfe67210f9c9",
   "metadata": {},
   "outputs": [
    {
     "name": "stdout",
     "output_type": "stream",
     "text": [
      "Importing graph from CSV files...\n"
     ]
    },
    {
     "data": {
      "application/vnd.jupyter.widget-view+json": {
       "model_id": "ca7a7b0dd589486e9dcca37264d7cec6",
       "version_major": 2,
       "version_minor": 0
      },
      "text/plain": [
       "          0/? [?op/s]"
      ]
     },
     "metadata": {},
     "output_type": "display_data"
    },
    {
     "name": "stdout",
     "output_type": "stream",
     "text": [
      "  import: 5.7 seconds\n"
     ]
    }
   ],
   "source": [
    "start = timer()\n",
    "print(\"Importing graph from CSV files...\")\n",
    "import_data.csv(\n",
    "    graph,\n",
    "    input_node_path=test_node_file,\n",
    "    input_edge_path=test_edge_file,\n",
    "    input_dir=input_path,\n",
    "    partition_policy=PartitionPolicy.BLOCKED_OEC,\n",
    "#    have_headers=True,\n",
    "    data_delimiter=\",\",\n",
    "    schema_delimiter=\",\"\n",
    ")\n",
    "end = timer()\n",
    "print(f\"  import: {end - start:.1f} seconds\") "
   ]
  },
  {
   "cell_type": "code",
   "execution_count": 102,
   "id": "9d3fbc22-8652-4191-b175-7ecfe4feba95",
   "metadata": {},
   "outputs": [
    {
     "data": {
      "application/vnd.jupyter.widget-view+json": {
       "model_id": "0848f0b594344822a7560838af0181dc",
       "version_major": 2,
       "version_minor": 0
      },
      "text/plain": [
       "          0/? [?op/s]"
      ]
     },
     "metadata": {},
     "output_type": "display_data"
    },
    {
     "name": "stdout",
     "output_type": "stream",
     "text": [
      "CPU times: user 96.1 ms, sys: 22.2 ms, total: 118 ms\n",
      "Wall time: 4.54 s\n"
     ]
    },
    {
     "data": {
      "text/plain": [
       "1513"
      ]
     },
     "execution_count": 102,
     "metadata": {},
     "output_type": "execute_result"
    }
   ],
   "source": [
    "%%time\n",
    "graph.num_nodes()"
   ]
  },
  {
   "cell_type": "code",
   "execution_count": 91,
   "id": "fb56bf79-2dd6-4495-afa2-c63da4930e5e",
   "metadata": {},
   "outputs": [
    {
     "data": {
      "application/vnd.jupyter.widget-view+json": {
       "model_id": "3ccca778cf104b4297ac17fdba6b1f81",
       "version_major": 2,
       "version_minor": 0
      },
      "text/plain": [
       "          0/? [?op/s]"
      ]
     },
     "metadata": {},
     "output_type": "display_data"
    },
    {
     "data": {
      "text/plain": [
       "0"
      ]
     },
     "execution_count": 91,
     "metadata": {},
     "output_type": "execute_result"
    }
   ],
   "source": [
    "graph.num_edges()"
   ]
  },
  {
   "cell_type": "code",
   "execution_count": 152,
   "id": "6f1c025a-ca7a-4f76-bc87-c7dac45d9872",
   "metadata": {},
   "outputs": [
    {
     "data": {
      "application/vnd.jupyter.widget-view+json": {
       "model_id": "31d9288abea94b2f99e60f02e52475bc",
       "version_major": 2,
       "version_minor": 0
      },
      "text/plain": [
       "          0/? [?op/s]"
      ]
     },
     "metadata": {},
     "output_type": "display_data"
    },
    {
     "data": {
      "application/vnd.jupyter.widget-view+json": {
       "model_id": "e9716987dc8a47c69330a5ec5c13e247",
       "version_major": 2,
       "version_minor": 0
      },
      "text/plain": [
       "          0/? [?op/s]"
      ]
     },
     "metadata": {},
     "output_type": "display_data"
    },
    {
     "data": {
      "application/vnd.jupyter.widget-view+json": {
       "model_id": "ba8f30ec3d74450b989cad0283902bec",
       "version_major": 2,
       "version_minor": 0
      },
      "text/plain": [
       "VBox(children=(HTML(value='\\n                <style>\\n                #jp-main-content-panel .widget-container…"
      ]
     },
     "metadata": {},
     "output_type": "display_data"
    }
   ],
   "source": [
    "query = \"\"\"\n",
    "    MATCH(c:CUSTOMER)-[]->(x)\n",
    "    where c.ID = 'c_299'\n",
    "    return c, x\n",
    "\"\"\"\n",
    "result = graph.query(query, contextualize=True)\n",
    "result.view()"
   ]
  },
  {
   "cell_type": "code",
   "execution_count": 46,
   "id": "c9beb036-df86-4f5f-8e3e-2680c43ef238",
   "metadata": {},
   "outputs": [
    {
     "data": {
      "application/vnd.jupyter.widget-view+json": {
       "model_id": "e44a8ebdc1a14dba9bc4556b62cc2ca5",
       "version_major": 2,
       "version_minor": 0
      },
      "text/plain": [
       "          0/? [?op/s]"
      ]
     },
     "metadata": {},
     "output_type": "display_data"
    },
    {
     "data": {
      "application/vnd.jupyter.widget-view+json": {
       "model_id": "28ad6808e9d3492b8387f749215acf67",
       "version_major": 2,
       "version_minor": 0
      },
      "text/plain": [
       "VBox(children=(HTML(value='\\n                <style>\\n                #jp-main-content-panel .widget-container…"
      ]
     },
     "metadata": {},
     "output_type": "display_data"
    }
   ],
   "source": [
    "query = \"\"\"\n",
    "    MATCH(t:PROFILE_SERVER_TITLE)\n",
    "    return t\n",
    "\"\"\"\n",
    "result = graph.query(query)\n",
    "result.view()"
   ]
  },
  {
   "cell_type": "code",
   "execution_count": 11,
   "id": "5f95de7a-e323-4529-9cc9-bc24a3490c9e",
   "metadata": {},
   "outputs": [
    {
     "data": {
      "application/vnd.jupyter.widget-view+json": {
       "model_id": "4e64c718e549471fb5446622d9ecf856",
       "version_major": 2,
       "version_minor": 0
      },
      "text/plain": [
       "          0/? [?op/s]"
      ]
     },
     "metadata": {},
     "output_type": "display_data"
    },
    {
     "data": {
      "application/vnd.jupyter.widget-view+json": {
       "model_id": "9ffa44e572c84ee298714a67c1a14ce9",
       "version_major": 2,
       "version_minor": 0
      },
      "text/plain": [
       "VBox(children=(HTML(value='\\n                <style>\\n                #jp-main-content-panel .result_set_tab_w…"
      ]
     },
     "metadata": {},
     "output_type": "display_data"
    }
   ],
   "source": [
    "query = \"\"\"\n",
    "    MATCH(c:CUSTOMER)-[:KNOWS]->(q:CUSTOMER)\n",
    "    where c.ID = 'c_25'\n",
    "    return c.ID, q.ID\n",
    "\"\"\"\n",
    "result = graph.query(query)\n",
    "result.view()"
   ]
  },
  {
   "cell_type": "markdown",
   "id": "c7bf652b-4c44-43cd-ade4-77aa161f07e9",
   "metadata": {},
   "source": [
    "<b> Import ends here: DATA LOADING COMPLETE </b>"
   ]
  },
  {
   "cell_type": "code",
   "execution_count": 8,
   "id": "749b5656-1ed0-4d20-adef-ea2d9ff162a3",
   "metadata": {},
   "outputs": [
    {
     "data": {
      "application/vnd.jupyter.widget-view+json": {
       "model_id": "c8ce5309efec481eaa8403da78935a20",
       "version_major": 2,
       "version_minor": 0
      },
      "text/plain": [
       "          0/? [?op/s]"
      ]
     },
     "metadata": {},
     "output_type": "display_data"
    }
   ],
   "source": [
    "def visit(graph, nodeLabel, listOfAttributes):\n",
    "    output=[]\n",
    "    id_property = graph.get_node_property('ID')\n",
    "    with open('/tmp/' + 'node_blocked.txt', 'w') as f:\n",
    "        for node in graph.master_nodes():\n",
    "            output.append(str(id_property[node]))\n",
    "            f.write(str(id_property[node])+ '#\\n')\n",
    "        for node in graph.mirror_nodes():\n",
    "            f.write(str(id_property[node])+ '#m#\\n')\n",
    "    return output\n",
    "# graph.run(lambda g: dist(g))\n",
    "out = graph.run_result(lambda g: visit(g, 'PERSON', ['name']))"
   ]
  },
  {
   "cell_type": "code",
   "execution_count": 12,
   "id": "655a4e74-5463-4121-a76f-9d4129a4b940",
   "metadata": {},
   "outputs": [
    {
     "data": {
      "text/plain": [
       "['c_0', 'c_1', 'c_2', 'c_3']"
      ]
     },
     "execution_count": 12,
     "metadata": {},
     "output_type": "execute_result"
    }
   ],
   "source": [
    "out.value[0:4]"
   ]
  },
  {
   "cell_type": "code",
   "execution_count": 110,
   "id": "3a459787-c422-4462-ac0e-e073d73d989f",
   "metadata": {},
   "outputs": [
    {
     "data": {
      "application/vnd.jupyter.widget-view+json": {
       "model_id": "39b6aa80be8d44a193f1e1bbc2621a51",
       "version_major": 2,
       "version_minor": 0
      },
      "text/plain": [
       "          0/? [?op/s]"
      ]
     },
     "metadata": {},
     "output_type": "display_data"
    }
   ],
   "source": [
    "def check_address_length(graph, nodeLabel, listOfAttributes):\n",
    "    output=[]\n",
    "    id_property = graph.get_node_property('ID')\n",
    "    address_property = graph.get_node_property('ADDRESS')\n",
    "    with open('/tmp/' + 'address_length_error.txt', 'w') as f:\n",
    "        for node in graph.master_nodes():\n",
    "            if len(str(address_property[node])) < 5 and str(id_property[node]).startswith('a_') :\n",
    "                f.write(str(id_property[node])+ ' has very short address:' + str(address_property[node]) + '\\n' )\n",
    "    return output\n",
    "# graph.run(lambda g: dist(g))\n",
    "out = graph.run_result(lambda g: check_address_length(g, 'PERSON', ['name']))"
   ]
  },
  {
   "cell_type": "code",
   "execution_count": 144,
   "id": "f5fa50a7-5805-4901-b27c-e6e9ad5eb15a",
   "metadata": {},
   "outputs": [
    {
     "data": {
      "application/vnd.jupyter.widget-view+json": {
       "model_id": "4cf15913e2904e9c8fa6ef3b79590dea",
       "version_major": 2,
       "version_minor": 0
      },
      "text/plain": [
       "          0/? [?op/s]"
      ]
     },
     "metadata": {},
     "output_type": "display_data"
    }
   ],
   "source": [
    "def check_number_of_addresses(graph, nodeLabel, listOfAttributes):\n",
    "    from katana.local_native import Node, OutEdgeHandle\n",
    "    from katana_enterprise.distributed import single_host\n",
    "    id_property = graph.get_node_property('ID')\n",
    "    with open('/tmp/' + 'number_of_address_error.txt', 'w') as f:\n",
    "        for node in graph.master_nodes():\n",
    "            print('do nothing')\n",
    "            edges = graph.out_edge_ids(Node(node))\n",
    "            address_count = 0\n",
    "            for edge_id in edges:\n",
    "                destination_node = graph.out_edge_dst(edge_id).value\n",
    "                if str(id_property[destination_node]).startswith('a_'):\n",
    "                    address_count = address_count + 1\n",
    "            if address_count > 2:\n",
    "                f.write( str(id_property[node]) + ' has too many addresses' + '\\n' )\n",
    "                # f.write(str(id_property[node]) + ' has too many addresses:'+ str(len(edges))+'\\n')\n",
    "    return single_host('')\n",
    "# graph.run(lambda g: dist(g))\n",
    "out = graph.run_result(lambda g: check_number_of_addresses(g, 'PERSON', ['name']))"
   ]
  },
  {
   "cell_type": "code",
   "execution_count": 146,
   "id": "af649a57-e682-41d7-88a0-c76d674420ff",
   "metadata": {},
   "outputs": [
    {
     "data": {
      "text/plain": [
       "''"
      ]
     },
     "execution_count": 146,
     "metadata": {},
     "output_type": "execute_result"
    }
   ],
   "source": [
    "out.value"
   ]
  },
  {
   "cell_type": "code",
   "execution_count": 147,
   "id": "2d2baf51-32fc-4502-93d9-0a8f364d360c",
   "metadata": {},
   "outputs": [
    {
     "data": {
      "application/vnd.jupyter.widget-view+json": {
       "model_id": "2a61c877bb48497bb5f8481ba26d82e0",
       "version_major": 2,
       "version_minor": 0
      },
      "text/plain": [
       "          0/? [?op/s]"
      ]
     },
     "metadata": {},
     "output_type": "display_data"
    }
   ],
   "source": [
    "def write_number_of_addresses_feature(graph, nodeLabel, listOfAttributes):\n",
    "    from katana.local_native import Node, OutEdgeHandle\n",
    "    from katana_enterprise.distributed import single_host\n",
    "    id_property = graph.get_node_property('ID')\n",
    "    with open('/tmp/' + 'customer_feature_number_of_address.txt', 'w') as f:\n",
    "        for node in graph.master_nodes():\n",
    "            print('do nothing')\n",
    "            edges = graph.out_edge_ids(Node(node))\n",
    "            address_count = 0\n",
    "            for edge_id in edges:\n",
    "                destination_node = graph.out_edge_dst(edge_id).value\n",
    "                if str(id_property[destination_node]).startswith('a_'):\n",
    "                    address_count = address_count + 1\n",
    "            if str(id_property[node]).startswith('c_'):\n",
    "                f.write( str(id_property[node]) + ',' + str(address_count) +'\\n' )\n",
    "                # f.write(str(id_property[node]) + ' has too many addresses:'+ str(len(edges))+'\\n')\n",
    "    return single_host('ok')\n",
    "# graph.run(lambda g: dist(g))\n",
    "out = graph.run_result(lambda g: write_number_of_addresses_feature(g, 'PERSON', ['name']))"
   ]
  },
  {
   "cell_type": "code",
   "execution_count": 148,
   "id": "8f0542bb-b911-4a7d-8471-4acd586653a0",
   "metadata": {},
   "outputs": [
    {
     "data": {
      "text/plain": [
       "'ok'"
      ]
     },
     "execution_count": 148,
     "metadata": {},
     "output_type": "execute_result"
    }
   ],
   "source": [
    "out.value"
   ]
  },
  {
   "cell_type": "code",
   "execution_count": 149,
   "id": "6450fb3b-338d-4682-8bc5-997752a709dc",
   "metadata": {},
   "outputs": [
    {
     "data": {
      "application/vnd.jupyter.widget-view+json": {
       "model_id": "47b0df232849497f8863d2c342da5e12",
       "version_major": 2,
       "version_minor": 0
      },
      "text/plain": [
       "          0/? [?op/s]"
      ]
     },
     "metadata": {},
     "output_type": "display_data"
    }
   ],
   "source": [
    "def write_valid_single_address_for_customer(graph, nodeLabel, listOfAttributes):\n",
    "    from katana.local_native import Node, OutEdgeHandle\n",
    "    from katana_enterprise.distributed import single_host\n",
    "    id_property = graph.get_node_property('ID')\n",
    "    address_property = graph.get_node_property('ADDRESS')\n",
    "    with open('/tmp/' + 'write_valid_single_address_for_customer.txt', 'w') as f:\n",
    "        for node in graph.master_nodes():\n",
    "            print('do nothing')\n",
    "            edges = graph.out_edge_ids(Node(node))\n",
    "            address_count = 0\n",
    "            valid_address = ''\n",
    "            for edge_id in edges:\n",
    "                destination_node = graph.out_edge_dst(edge_id).value\n",
    "                if str(id_property[destination_node]).startswith('a_'):\n",
    "                    if len(str(address_property[destination_node])) > 5:\n",
    "                        valid_address = str(address_property[destination_node])\n",
    "            if str(id_property[node]).startswith('c_'):\n",
    "                f.write( str(id_property[node]) + ',' + valid_address +'\\n' )\n",
    "                # f.write(str(id_property[node]) + ' has too many addresses:'+ str(len(edges))+'\\n')\n",
    "    return single_host('ok')\n",
    "# graph.run(lambda g: dist(g))\n",
    "out = graph.run_result(lambda g: write_valid_single_address_for_customer(g, 'PERSON', ['name']))"
   ]
  },
  {
   "cell_type": "code",
   "execution_count": 150,
   "id": "cae860c7-4320-4604-899f-f957ad92c819",
   "metadata": {},
   "outputs": [
    {
     "data": {
      "text/plain": [
       "'ok'"
      ]
     },
     "execution_count": 150,
     "metadata": {},
     "output_type": "execute_result"
    }
   ],
   "source": [
    "out.value"
   ]
  },
  {
   "cell_type": "code",
   "execution_count": 48,
   "id": "894c8bf6-df27-4d61-a24a-3918d9bc4830",
   "metadata": {},
   "outputs": [
    {
     "data": {
      "application/vnd.jupyter.widget-view+json": {
       "model_id": "5cb1aa5ac44e4ed782dafc89a288cc8d",
       "version_major": 2,
       "version_minor": 0
      },
      "text/plain": [
       "          0/? [?op/s]"
      ]
     },
     "metadata": {},
     "output_type": "display_data"
    },
    {
     "data": {
      "application/vnd.jupyter.widget-view+json": {
       "model_id": "4fe5d6bbb9034243a598c163adc25d6a",
       "version_major": 2,
       "version_minor": 0
      },
      "text/plain": [
       "VBox(children=(HTML(value='\\n                <style>\\n                #jp-main-content-panel .widget-container…"
      ]
     },
     "metadata": {},
     "output_type": "display_data"
    }
   ],
   "source": [
    "graph.schema().view()"
   ]
  },
  {
   "cell_type": "code",
   "execution_count": 80,
   "id": "1423936a-0bdb-4f4e-839c-b11c5eb4e11f",
   "metadata": {},
   "outputs": [
    {
     "data": {
      "application/vnd.jupyter.widget-view+json": {
       "model_id": "599be2941fcc463fa61f1e43536d4c11",
       "version_major": 2,
       "version_minor": 0
      },
      "text/plain": [
       "          0/? [?op/s]"
      ]
     },
     "metadata": {},
     "output_type": "display_data"
    }
   ],
   "source": [
    "def count_parallel(graph, nodeLabel, listOfAttributes):\n",
    "    import threading\n",
    "    output=[]\n",
    "    id_property = graph.get_node_property('ID')\n",
    "    chunked_data = []\n",
    "    node_chunk = []\n",
    "    for node in graph.master_nodes():\n",
    "        node_chunk.append(node)\n",
    "        if len(node_chunk) > 200 :\n",
    "            chunked_data.append(node_chunk)\n",
    "            node_chunk = []\n",
    "\n",
    "    \n",
    "    chunked_data.append(node_chunk)\n",
    "    \n",
    "\n",
    "    \n",
    "    def do_some_work(chunk):\n",
    "        with open('/tmp/' + 'logs.txt', 'a') as f:\n",
    "            f.write(str(len(chunk)) + '\\n')\n",
    "    \n",
    "    t1 = threading.Thread(target=do_some_work, args=(chunked_data[0],))\n",
    "    t2 = threading.Thread(target=do_some_work, args=(chunked_data[3],))\n",
    "    \n",
    "    # starting thread 1\n",
    "    t1.start()\n",
    "    # starting thread 2\n",
    "    t2.start()\n",
    "  \n",
    "    # wait until thread 1 is completely executed\n",
    "    t1.join()\n",
    "    # wait until thread 2 is completely executed\n",
    "    t2.join()\n",
    "    \n",
    "    \n",
    "    \n",
    "    return output\n",
    "# graph.run(lambda g: dist(g))\n",
    "out = graph.run_result(lambda g: count_parallel(g, 'PERSON', ['name']))"
   ]
  },
  {
   "cell_type": "code",
   "execution_count": 78,
   "id": "d12d2399-8033-42df-8ce1-fa3b1b26b165",
   "metadata": {},
   "outputs": [
    {
     "ename": "ValueError",
     "evalue": "Hosts returned more than one value. Please have only one host return a value while other's return a None.\nThe returned results (index is the host # in list):\n[[], []]",
     "output_type": "error",
     "traceback": [
      "\u001b[0;31m---------------------------------------------------------------------------\u001b[0m",
      "\u001b[0;31mValueError\u001b[0m                                Traceback (most recent call last)",
      "Input \u001b[0;32mIn [78]\u001b[0m, in \u001b[0;36m<cell line: 1>\u001b[0;34m()\u001b[0m\n\u001b[0;32m----> 1\u001b[0m \u001b[38;5;28mprint\u001b[39m(\u001b[43mout\u001b[49m\u001b[38;5;241;43m.\u001b[39;49m\u001b[43mvalue\u001b[49m)\n",
      "File \u001b[0;32m/opt/conda/lib/python3.8/site-packages/katana_enterprise/remote/run_result.py:21\u001b[0m, in \u001b[0;36mRunResult.value\u001b[0;34m(self)\u001b[0m\n\u001b[1;32m     19\u001b[0m \u001b[38;5;129m@property\u001b[39m\n\u001b[1;32m     20\u001b[0m \u001b[38;5;28;01mdef\u001b[39;00m \u001b[38;5;21mvalue\u001b[39m(\u001b[38;5;28mself\u001b[39m):\n\u001b[0;32m---> 21\u001b[0m     \u001b[38;5;28;43mself\u001b[39;49m\u001b[38;5;241;43m.\u001b[39;49m\u001b[43mreraise_if_error\u001b[49m\u001b[43m(\u001b[49m\u001b[43m)\u001b[49m\n\u001b[1;32m     22\u001b[0m     \u001b[38;5;28;01massert\u001b[39;00m \u001b[38;5;28mself\u001b[39m\u001b[38;5;241m.\u001b[39msuccess\n\u001b[1;32m     23\u001b[0m     \u001b[38;5;28;01mreturn\u001b[39;00m \u001b[38;5;28mself\u001b[39m\u001b[38;5;241m.\u001b[39m_value\n",
      "File \u001b[0;32m/opt/conda/lib/python3.8/site-packages/katana_enterprise/remote/run_result.py:17\u001b[0m, in \u001b[0;36mRunResult.reraise_if_error\u001b[0;34m(self)\u001b[0m\n\u001b[1;32m     15\u001b[0m \u001b[38;5;28;01mdef\u001b[39;00m \u001b[38;5;21mreraise_if_error\u001b[39m(\u001b[38;5;28mself\u001b[39m):\n\u001b[1;32m     16\u001b[0m     \u001b[38;5;28;01mif\u001b[39;00m \u001b[38;5;129;01mnot\u001b[39;00m \u001b[38;5;28mself\u001b[39m\u001b[38;5;241m.\u001b[39msuccess:\n\u001b[0;32m---> 17\u001b[0m         \u001b[38;5;28;01mraise\u001b[39;00m \u001b[38;5;28mself\u001b[39m\u001b[38;5;241m.\u001b[39m_value\n",
      "\u001b[0;31mValueError\u001b[0m: Hosts returned more than one value. Please have only one host return a value while other's return a None.\nThe returned results (index is the host # in list):\n[[], []]"
     ]
    }
   ],
   "source": [
    "print(out.value)"
   ]
  },
  {
   "cell_type": "code",
   "execution_count": 9,
   "id": "8546c305-7d37-49cc-8be4-a58ce3294cf8",
   "metadata": {},
   "outputs": [
    {
     "data": {
      "application/vnd.jupyter.widget-view+json": {
       "model_id": "40ebedede424455ea089344cdd94d221",
       "version_major": 2,
       "version_minor": 0
      },
      "text/plain": [
       "          0/? [?op/s]"
      ]
     },
     "metadata": {},
     "output_type": "display_data"
    }
   ],
   "source": [
    "from katana.remote.analytics  import louvain_clustering\n",
    "louvain_clustering(graph, 'lv')"
   ]
  },
  {
   "cell_type": "code",
   "execution_count": 10,
   "id": "ad50a716-8a3c-49a9-91ad-8172182a0695",
   "metadata": {},
   "outputs": [
    {
     "data": {
      "application/vnd.jupyter.widget-view+json": {
       "model_id": "463a1d56dc2b4c9abe5a028f0459864e",
       "version_major": 2,
       "version_minor": 0
      },
      "text/plain": [
       "          0/? [?op/s]"
      ]
     },
     "metadata": {},
     "output_type": "display_data"
    },
    {
     "data": {
      "application/vnd.jupyter.widget-view+json": {
       "model_id": "d47603800e1a43d1ad1f3de9ec444883",
       "version_major": 2,
       "version_minor": 0
      },
      "text/plain": [
       "VBox(children=(HTML(value='\\n                <style>\\n                #jp-main-content-panel .widget-container…"
      ]
     },
     "metadata": {},
     "output_type": "display_data"
    }
   ],
   "source": [
    "qry = \"\"\"\n",
    "Match (x)\n",
    "where exists(x.lv)\n",
    "return x limit 5\n",
    "\"\"\"\n",
    "result = graph.query(qry)\n",
    "result.view()"
   ]
  },
  {
   "cell_type": "code",
   "execution_count": 23,
   "id": "8b4d13b2-85c2-4631-8b5f-bf875440821e",
   "metadata": {},
   "outputs": [
    {
     "data": {
      "application/vnd.jupyter.widget-view+json": {
       "model_id": "3014ca48cbfb487099bd6857cbe4413f",
       "version_major": 2,
       "version_minor": 0
      },
      "text/plain": [
       "          0/? [?op/s]"
      ]
     },
     "metadata": {},
     "output_type": "display_data"
    },
    {
     "data": {
      "application/vnd.jupyter.widget-view+json": {
       "model_id": "0baa822ed5f14be0ae1e4d4a031e6452",
       "version_major": 2,
       "version_minor": 0
      },
      "text/plain": [
       "          0/? [?op/s]"
      ]
     },
     "metadata": {},
     "output_type": "display_data"
    },
    {
     "data": {
      "application/vnd.jupyter.widget-view+json": {
       "model_id": "2205e58d457d498ab0b58efe79953d08",
       "version_major": 2,
       "version_minor": 0
      },
      "text/plain": [
       "VBox(children=(HTML(value='\\n                <style>\\n                #jp-main-content-panel .widget-container…"
      ]
     },
     "metadata": {},
     "output_type": "display_data"
    }
   ],
   "source": [
    "qry = \"\"\"\n",
    "Match (x)\n",
    "where tointeger(x.lv) = 5\n",
    "return x \n",
    "\"\"\"\n",
    "result = graph.query(qry, contextualize = True)\n",
    "result.view()"
   ]
  },
  {
   "cell_type": "code",
   "execution_count": 13,
   "id": "8db05c0c-88af-4bed-984a-de994bac03bc",
   "metadata": {},
   "outputs": [
    {
     "data": {
      "application/vnd.jupyter.widget-view+json": {
       "model_id": "6bcb7b0f0d4c4f8a9585bf87e2c70bea",
       "version_major": 2,
       "version_minor": 0
      },
      "text/plain": [
       "          0/? [?op/s]"
      ]
     },
     "metadata": {},
     "output_type": "display_data"
    },
    {
     "data": {
      "application/vnd.jupyter.widget-view+json": {
       "model_id": "5dc6be4915554721a6dbe29745f00885",
       "version_major": 2,
       "version_minor": 0
      },
      "text/plain": [
       "          0/? [?op/s]"
      ]
     },
     "metadata": {},
     "output_type": "display_data"
    },
    {
     "data": {
      "application/vnd.jupyter.widget-view+json": {
       "model_id": "6e090316ad634622a1fcdd34db653fd4",
       "version_major": 2,
       "version_minor": 0
      },
      "text/plain": [
       "VBox(children=(HTML(value='\\n                <style>\\n                #jp-main-content-panel .widget-container…"
      ]
     },
     "metadata": {},
     "output_type": "display_data"
    }
   ],
   "source": [
    "qry = \"\"\"\n",
    "Match (c:CUSTOMER)-[]-(a:ADDRESS)\n",
    "where c.ID = 'c_1'\n",
    "return c,a\n",
    "\"\"\"\n",
    "result = graph.query(qry, contextualize = True)\n",
    "result.view()"
   ]
  },
  {
   "cell_type": "code",
   "execution_count": 14,
   "id": "de5d7992-6f22-440b-b065-277d2ec42b11",
   "metadata": {},
   "outputs": [
    {
     "data": {
      "application/vnd.jupyter.widget-view+json": {
       "model_id": "6d22dad01db24ebaa79794df791978e2",
       "version_major": 2,
       "version_minor": 0
      },
      "text/plain": [
       "          0/? [?op/s]"
      ]
     },
     "metadata": {},
     "output_type": "display_data"
    }
   ],
   "source": [
    "from katana.remote.analytics import cdlp\n",
    "cdlp(graph, 'gl')"
   ]
  },
  {
   "cell_type": "code",
   "execution_count": 20,
   "id": "b6c484a1-bd4e-48f8-8bb2-43b6beaf2752",
   "metadata": {},
   "outputs": [
    {
     "data": {
      "application/vnd.jupyter.widget-view+json": {
       "model_id": "92deb86283fc42d7b0ddd6b77fd3b2a2",
       "version_major": 2,
       "version_minor": 0
      },
      "text/plain": [
       "          0/? [?op/s]"
      ]
     },
     "metadata": {},
     "output_type": "display_data"
    },
    {
     "data": {
      "application/vnd.jupyter.widget-view+json": {
       "model_id": "70e5d97b5ef24f6d914b74951c36b0ed",
       "version_major": 2,
       "version_minor": 0
      },
      "text/plain": [
       "VBox(children=(HTML(value='\\n                <style>\\n                #jp-main-content-panel .widget-container…"
      ]
     },
     "metadata": {},
     "output_type": "display_data"
    }
   ],
   "source": [
    "qry = \"\"\"\n",
    "Match (x)\n",
    "where exists(x.cc)\n",
    "return x limit 5\n",
    "\"\"\"\n",
    "result = graph.query(qry)\n",
    "result.view()"
   ]
  },
  {
   "cell_type": "code",
   "execution_count": 18,
   "id": "a068fec9-7135-4e5e-967b-64b4fb25c3ce",
   "metadata": {},
   "outputs": [
    {
     "data": {
      "application/vnd.jupyter.widget-view+json": {
       "model_id": "ec6173ab09524caca24e0d1bade50a26",
       "version_major": 2,
       "version_minor": 0
      },
      "text/plain": [
       "          0/? [?op/s]"
      ]
     },
     "metadata": {},
     "output_type": "display_data"
    }
   ],
   "source": [
    "from katana.remote.analytics import connected_components\n",
    "connected_components(graph, 'cc')"
   ]
  },
  {
   "cell_type": "code",
   "execution_count": null,
   "id": "68c44b81-aa6d-4ab4-9675-aedc0ff68667",
   "metadata": {},
   "outputs": [],
   "source": []
  }
 ],
 "metadata": {
  "kernelspec": {
   "display_name": "Python 3 (ipykernel)",
   "language": "python",
   "name": "python3"
  },
  "language_info": {
   "codemirror_mode": {
    "name": "ipython",
    "version": 3
   },
   "file_extension": ".py",
   "mimetype": "text/x-python",
   "name": "python",
   "nbconvert_exporter": "python",
   "pygments_lexer": "ipython3",
   "version": "3.8.13"
  }
 },
 "nbformat": 4,
 "nbformat_minor": 5
}
