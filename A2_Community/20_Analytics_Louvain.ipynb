{
 "cells": [
  {
   "cell_type": "code",
   "execution_count": 1,
   "id": "b7682060-fbd6-41a5-a43d-7c81f0982dc1",
   "metadata": {},
   "outputs": [
    {
     "data": {
      "text/html": [],
      "text/plain": [
       "<IPython.core.display.HTML object>"
      ]
     },
     "metadata": {},
     "output_type": "display_data"
    },
    {
     "name": "stdout",
     "output_type": "stream",
     "text": [
      "--\n"
     ]
    }
   ],
   "source": [
    "\n",
    "#  Setting display options \n",
    "\n",
    "import pandas as pd\n",
    "   #\n",
    "pd.set_option(\"display.width\", 480)\n",
    "\n",
    "#  Sets horizontal scroll for wide outputs\n",
    "#\n",
    "from IPython.display import display, HTML\n",
    "display(HTML(\"\"))\n",
    "\n",
    "from tabulate import tabulate\n",
    "\n",
    "print(\"--\")\n"
   ]
  },
  {
   "cell_type": "markdown",
   "id": "d3ebe820-bc6d-4948-b668-8b81cd3cbf29",
   "metadata": {
    "tags": []
   },
   "source": [
    "#  Setup stuff: Connectivity"
   ]
  },
  {
   "cell_type": "code",
   "execution_count": 2,
   "id": "1ea957d6-30c6-427a-ae4e-15ecfba0c4f9",
   "metadata": {},
   "outputs": [
    {
     "name": "stdout",
     "output_type": "stream",
     "text": [
      "<katana.remote.sync_wrappers.Client object at 0x7ff606ef1d30>\n"
     ]
    }
   ],
   "source": [
    "\n",
    "from katana import remote\n",
    "from katana.remote import import_data\n",
    "\n",
    "my_client = remote.Client()\n",
    "\n",
    "print(my_client)\n"
   ]
  },
  {
   "cell_type": "code",
   "execution_count": 3,
   "id": "97571016-7c02-4e90-a75a-136a0dacd35f",
   "metadata": {},
   "outputs": [
    {
     "name": "stdout",
     "output_type": "stream",
     "text": [
      "--\n"
     ]
    }
   ],
   "source": [
    "\n",
    "NUM_PARTITIONS  = 3\n",
    "   #\n",
    "DB_NAME         = \"my_db\"\n",
    "GRAPH_NAME      = \"my_graph\"\n",
    "\n",
    "print(\"--\")\n"
   ]
  },
  {
   "cell_type": "code",
   "execution_count": 4,
   "id": "c5db6505-7fc8-4779-b194-9ed8945b9a90",
   "metadata": {},
   "outputs": [
    {
     "name": "stdout",
     "output_type": "stream",
     "text": [
      "<_Graph my_graph, AMrqQvvsEEdXVLM72uaoBZgQBD5abQbFKeG7QsPFAdgY, 0>\n"
     ]
    }
   ],
   "source": [
    "\n",
    "#  CONNECT TO GRAPH\n",
    "\n",
    "my_graph, *_ = my_client.get_database(name=DB_NAME).find_graphs_by_name(GRAPH_NAME)\n",
    "\n",
    "print(my_graph)\n"
   ]
  },
  {
   "cell_type": "markdown",
   "id": "81126254-12b2-49df-8d36-50c55ad290c1",
   "metadata": {},
   "source": [
    "# Louvain algorithm"
   ]
  },
  {
   "cell_type": "code",
   "execution_count": 5,
   "id": "6aa88702-afb3-4cc0-a5d7-00973e881c6a",
   "metadata": {},
   "outputs": [
    {
     "name": "stdout",
     "output_type": "stream",
     "text": [
      "--\n"
     ]
    }
   ],
   "source": [
    "\n",
    "from katana.remote import analytics\n",
    "\n",
    "\n",
    "l_cntr = 20                                                #  Used to generate a unique column name\n",
    "   #\n",
    "print(\"--\")\n"
   ]
  },
  {
   "cell_type": "code",
   "execution_count": 6,
   "id": "23067305-ffd0-41f0-abf0-1034beefd402",
   "metadata": {},
   "outputs": [
    {
     "data": {
      "application/vnd.jupyter.widget-view+json": {
       "model_id": "bd3c26f0ad28497db3fdbb587ac40900",
       "version_major": 2,
       "version_minor": 0
      },
      "text/plain": [
       "          0/? [?op/s]"
      ]
     },
     "metadata": {},
     "output_type": "display_data"
    },
    {
     "name": "stdout",
     "output_type": "stream",
     "text": [
      "--\n"
     ]
    }
   ],
   "source": [
    "\n",
    "#  We use this counter to generate a unique column name below \n",
    "#\n",
    "l_cntr += 1\n",
    "   #\n",
    "l_output_propname     = \"louvain_\" + str(l_cntr).zfill(4)\n",
    "\n",
    "\n",
    "analytics.louvain_clustering(\n",
    "   my_graph,\n",
    "      #\n",
    "   result_property_name = l_output_propname,\n",
    "      #\n",
    "   is_symmetric         = True\n",
    "   )\n",
    "\n",
    "print(\"--\")\n"
   ]
  },
  {
   "cell_type": "markdown",
   "id": "a310b170-1869-46b8-b0ea-dc4d272b80b4",
   "metadata": {},
   "source": [
    "# Checking that result above\n"
   ]
  },
  {
   "cell_type": "code",
   "execution_count": 8,
   "id": "cb62fb3f-36cb-4d55-ab0b-388370690c00",
   "metadata": {},
   "outputs": [
    {
     "data": {
      "application/vnd.jupyter.widget-view+json": {
       "model_id": "07138fa481404ee1b3be57c0d18dab63",
       "version_major": 2,
       "version_minor": 0
      },
      "text/plain": [
       "          0/? [?op/s]"
      ]
     },
     "metadata": {},
     "output_type": "display_data"
    },
    {
     "name": "stdout",
     "output_type": "stream",
     "text": [
      "\n"
     ]
    },
    {
     "name": "stderr",
     "output_type": "stream",
     "text": [
      "/opt/conda/lib/python3.8/site-packages/katana/remote/result_set.py:69: UserWarning: Pandas doesn't allow columns to be created via a new attribute name - see https://pandas.pydata.org/pandas-docs/stable/indexing.html#attribute-access\n",
      "  self._response = response\n"
     ]
    }
   ],
   "source": [
    "\n",
    "#  Unfiltered node data\n",
    "#\n",
    "\n",
    "l_query = \"\"\"\n",
    "\n",
    "   MATCH (n)\n",
    "   RETURN n.{0}, ID(n), n\n",
    "   ORDER BY n.{0} DESC\n",
    "    \n",
    "    \"\"\".format(l_output_propname)\n",
    "\n",
    "l_result = my_graph.query_unpaginated(l_query)\n",
    "   #\n",
    "print(tabulate(l_result, headers='keys', tablefmt='psql'))\n",
    "\n",
    "#  Sample data\n",
    "#\n",
    "#     +----+----------------------+-----------------+-----------------+-------------+-----------+------------------+------------------+----------------------+----------+\n",
    "#     |    |       n.louvain_0021 |           ID(n) |   n.internal_id | n.labels    | n.LABEL   | n.airport_code   | n.airport_name   |       n.louvain_0021 | n.type   |\n",
    "#     |----+----------------------+-----------------+-----------------+-------------+-----------+------------------+------------------+----------------------+----------|\n",
    "#     |  0 | 18446744073709551615 |               0 |               0 | ['Airport'] | Airport   | SJC              | San Jose         | 18446744073709551615 | node     |\n",
    "#     |  1 | 18446744073709551615 | 281474976710656 | 281474976710656 | ['Airport'] | Airport   | MKE              | Milwaukee        | 18446744073709551615 | node     |\n",
    "#     |  2 | 18446744073709551615 | 562949953421312 | 562949953421312 | ['Airport'] | Airport   | ORD              | Chicago O-Hare   | 18446744073709551615 | node     |\n",
    "#     |  3 | 18446744073709551615 | 562949953421313 | 562949953421313 | ['Airport'] | Airport   | DEN              | Denver           | 18446744073709551615 | node     |\n",
    "#     +----+----------------------+-----------------+-----------------+-------------+-----------+------------------+------------------+----------------------+----------+\n",
    "\n",
    "#  Sample data, after adding Narita and Seoul below-\n",
    "#\n",
    "#     +----+----------------------+-----------------+-----------------+-------------+------------------+------------------+----------------------+----------+-----------+\n",
    "#     |    |       n.louvain_0023 |           ID(n) |   n.internal_id | n.labels    | n.airport_code   | n.airport_name   |       n.louvain_0023 | n.type   | n.LABEL   |\n",
    "#     |----+----------------------+-----------------+-----------------+-------------+------------------+------------------+----------------------+----------+-----------|\n",
    "#     |  0 | 18446744073709551615 |               2 |               2 | ['Airport'] | NRT              | Narita, Japan    | 18446744073709551615 | node     | nan       |\n",
    "#     |  1 | 18446744073709551615 |               0 |               0 | ['Airport'] | ORD              | Chicago O-Hare   | 18446744073709551615 | node     | Airport   |\n",
    "#     |  2 | 18446744073709551615 |               1 |               1 | ['Airport'] | SJC              | San Jose         | 18446744073709551615 | node     | Airport   |\n",
    "#     |  3 | 18446744073709551615 | 281474976710656 | 281474976710656 | ['Airport'] | ICN              | Seoul, Korea     | 18446744073709551615 | node     | nan       |\n",
    "#     |  4 | 18446744073709551615 | 562949953421312 | 562949953421312 | ['Airport'] | MKE              | Milwaukee        | 18446744073709551615 | node     | Airport   |\n",
    "#     |  5 | 18446744073709551615 | 562949953421313 | 562949953421313 | ['Airport'] | DEN              | Denver           | 18446744073709551615 | node     | Airport   |\n",
    "#     +----+----------------------+-----------------+-----------------+-------------+------------------+------------------+----------------------+----------+-----------+\n"
   ]
  },
  {
   "cell_type": "code",
   "execution_count": 15,
   "id": "1eb36918-4184-4b30-b619-371f4d5c3280",
   "metadata": {},
   "outputs": [
    {
     "data": {
      "application/vnd.jupyter.widget-view+json": {
       "model_id": "eb0bf87c6606475fa67bdec364b0dbfa",
       "version_major": 2,
       "version_minor": 0
      },
      "text/plain": [
       "          0/? [?op/s]"
      ]
     },
     "metadata": {},
     "output_type": "display_data"
    },
    {
     "name": "stdout",
     "output_type": "stream",
     "text": [
      "+----+----------------------+-----------------+------------------+\n",
      "|    |       n.louvain_0023 |           ID(n) | n.airport_name   |\n",
      "|----+----------------------+-----------------+------------------|\n",
      "|  0 | 18446744073709551615 |               0 | Chicago O-Hare   |\n",
      "|  1 | 18446744073709551615 |               1 | San Jose         |\n",
      "|  2 | 18446744073709551615 |               2 | Narita, Japan    |\n",
      "|  3 | 18446744073709551615 | 281474976710656 | Seoul, Korea     |\n",
      "|  4 | 18446744073709551615 | 562949953421312 | Milwaukee        |\n",
      "|  5 | 18446744073709551615 | 562949953421313 | Denver           |\n",
      "+----+----------------------+-----------------+------------------+\n"
     ]
    }
   ],
   "source": [
    "\n",
    "#  View output\n",
    "#\n",
    "\n",
    "l_query = \"\"\"\n",
    "\n",
    "   MATCH (n)\n",
    "   RETURN n.{0}, ID(n), n.airport_name\n",
    "   ORDER BY n.{0} DESC\n",
    "   LIMIT 10\n",
    "    \n",
    "    \"\"\".format(l_output_propname)\n",
    "\n",
    "l_result = my_graph.query(l_query)\n",
    "   #    \n",
    "print(tabulate(l_result, headers='keys', tablefmt='psql'))\n"
   ]
  },
  {
   "cell_type": "code",
   "execution_count": 12,
   "id": "5f5ea89a-dc39-44d4-9ee0-d8c523904f4a",
   "metadata": {},
   "outputs": [
    {
     "data": {
      "application/vnd.jupyter.widget-view+json": {
       "model_id": "8cf009b8e7864f83aa09f9b9d81e366b",
       "version_major": 2,
       "version_minor": 0
      },
      "text/plain": [
       "          0/? [?op/s]"
      ]
     },
     "metadata": {},
     "output_type": "display_data"
    },
    {
     "data": {
      "application/vnd.jupyter.widget-view+json": {
       "model_id": "bd839ec8f938475ebcd98dcf9b443e2a",
       "version_major": 2,
       "version_minor": 0
      },
      "text/plain": [
       "          0/? [?op/s]"
      ]
     },
     "metadata": {},
     "output_type": "display_data"
    },
    {
     "data": {
      "application/vnd.jupyter.widget-view+json": {
       "model_id": "f0d8f4a8a00d4b1ea69588e1441950ff",
       "version_major": 2,
       "version_minor": 0
      },
      "text/plain": [
       "          0/? [?op/s]"
      ]
     },
     "metadata": {},
     "output_type": "display_data"
    }
   ],
   "source": [
    "\n",
    "#  Add a new community\n",
    "#\n",
    "\n",
    "l_query = \"\"\"\n",
    "   CREATE ( n: Airport { airport_code: 'NRT' } )               //  Notice single curly braces\n",
    "   SET n.airport_name = 'Narita, Japan' \n",
    "   \"\"\"\n",
    "      #\n",
    "display(l_result = my_graph.query(l_query))\n",
    "\n",
    "l_query = \"\"\"\n",
    "   CREATE ( n: Airport { airport_code: 'ICN' } ) \n",
    "   SET n.airport_name = 'Seoul, Korea' \n",
    "   \"\"\"\n",
    "      #\n",
    "display(l_result = my_graph.query(l_query))\n",
    "\n",
    "\n",
    "l_query = \"\"\"\n",
    "   MATCH\n",
    "      (n: Airport   ),\n",
    "      (m: Airport   )\n",
    "   WHERE n.airport_code     = 'NRT' AND m.airport_code  = 'ICN'\n",
    "   CREATE (n) -[r: FLIES_TO { DISTANCE: 752, NUM_HOPS: 1}]-> (m)\n",
    "   \"\"\"\n",
    "      #\n",
    "display(l_result = my_graph.query(l_query))\n",
    "\n"
   ]
  },
  {
   "cell_type": "code",
   "execution_count": null,
   "id": "b22388f7-acd6-4d2c-8bcf-3064bc0e1a7d",
   "metadata": {},
   "outputs": [],
   "source": [
    "#  Go up, run Louvain again .."
   ]
  },
  {
   "cell_type": "markdown",
   "id": "b4c519dd-3d14-4ee3-b45e-f82a7c83a128",
   "metadata": {},
   "source": [
    "#  To remove a given property name from all nodes"
   ]
  },
  {
   "cell_type": "code",
   "execution_count": null,
   "id": "0f9682e3-037a-4f44-842a-953d6b8e5313",
   "metadata": {},
   "outputs": [],
   "source": [
    "\n",
    "#  It is only required that you run this one time.\n",
    "#\n",
    "#  You may change the value i nthe text entry field as often as you wish.\n",
    "#\n",
    "from ipywidgets import widgets\n",
    "\n",
    "my_column  = widgets.Text(\n",
    "    value        = \"bt_0020\",\n",
    "    placeholder  = \"type here\",\n",
    "    description  = \"Column Name: \",\n",
    "    disabled     = False\n",
    ")\n",
    "\n",
    "my_column\n"
   ]
  },
  {
   "cell_type": "code",
   "execution_count": null,
   "id": "c70c556a-5781-49e4-b453-da6a03a28de9",
   "metadata": {},
   "outputs": [],
   "source": [
    "\n",
    "#  We could run the remove_property() directly, but then we couldn't cleanly catch\n",
    "#  errors. So, run it inside a UDF.\n",
    "#\n",
    "\n",
    "def f_drop_column(i_graph, i_property):\n",
    "   from katana import distributed\n",
    "   try:\n",
    "      i_graph.nodes.remove_property(i_property)\n",
    "      return distributed.single_host(host=0, result=True)\n",
    "   except LookupError as e:\n",
    "      return distributed.single_host(host=0, result=False)\n",
    "   except Exception as e:\n",
    "      return distributed.single_host(host=0, result=False)\n",
    "        \n",
    "\n",
    "print(\"Deleting column name: %s\" % (my_column.value))\n",
    "   #\n",
    "l_column = str(my_column.value)\n",
    "\n",
    "\n",
    "if (my_graph.run(lambda g: f_drop_column(g, l_column))):\n",
    "   print(\"Column ( %s ) deleted.\" % (my_column.value))\n",
    "else:\n",
    "   print(\"Column ( %s ) not found.\" % (my_column.value))\n"
   ]
  }
 ],
 "metadata": {
  "kernelspec": {
   "display_name": "Python 3 (ipykernel)",
   "language": "python",
   "name": "python3"
  },
  "language_info": {
   "codemirror_mode": {
    "name": "ipython",
    "version": 3
   },
   "file_extension": ".py",
   "mimetype": "text/x-python",
   "name": "python",
   "nbconvert_exporter": "python",
   "pygments_lexer": "ipython3",
   "version": "3.8.13"
  }
 },
 "nbformat": 4,
 "nbformat_minor": 5
}
