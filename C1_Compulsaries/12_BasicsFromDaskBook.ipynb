{
 "cells": [
  {
   "cell_type": "markdown",
   "id": "111dcd68-0708-44e9-8819-69128baa7489",
   "metadata": {
    "tags": []
   },
   "source": [
    "#  Setup stuff: Display options"
   ]
  },
  {
   "cell_type": "code",
   "execution_count": null,
   "id": "87e5a845-5cbd-49d8-bf61-4a13cd80a1f5",
   "metadata": {},
   "outputs": [],
   "source": [
    "\n",
    "#  Setting display options \n",
    "\n",
    "import pandas as pd\n",
    "   #\n",
    "pd.set_option(\"display.width\", 480)\n",
    "\n",
    "#  Sets horizontal scroll for wide outputs\n",
    "#\n",
    "from IPython.display import display, HTML\n",
    "display(HTML(\"\"))\n",
    "\n",
    "from tabulate import tabulate\n",
    "\n",
    "print(\"--\")\n"
   ]
  },
  {
   "cell_type": "markdown",
   "id": "d3ebe820-bc6d-4948-b668-8b81cd3cbf29",
   "metadata": {
    "jp-MarkdownHeadingCollapsed": true,
    "tags": []
   },
   "source": [
    "#  Setup stuff: Connectivity"
   ]
  },
  {
   "cell_type": "code",
   "execution_count": null,
   "id": "1ea957d6-30c6-427a-ae4e-15ecfba0c4f9",
   "metadata": {},
   "outputs": [],
   "source": [
    "\n",
    "#  from katana import remote\n",
    "#  from katana.remote import import_data\n",
    "#  \n",
    "#  \n",
    "#  my_client = remote.Client()\n",
    "#  \n",
    "#  print(my_client)\n"
   ]
  },
  {
   "cell_type": "markdown",
   "id": "61556ce5-9044-42bc-bb13-80b6a514ae27",
   "metadata": {
    "tags": []
   },
   "source": [
    "# Create: Vertices/Nodes, Edges/Relationships .."
   ]
  },
  {
   "cell_type": "code",
   "execution_count": null,
   "id": "f7efb47b-3c7d-45f3-acc8-ae29c3e2a1bf",
   "metadata": {},
   "outputs": [],
   "source": [
    "\n",
    "# import pandas as pd\n",
    "# \n",
    "import dask.dataframe as dd\n",
    "from dask.dataframe import from_pandas\n",
    "\n",
    "import numpy as np\n",
    "\n",
    "print(\"--\")\n"
   ]
  },
  {
   "cell_type": "code",
   "execution_count": null,
   "id": "26ec8727-b5d2-4731-89d4-da37b8545a4b",
   "metadata": {},
   "outputs": [],
   "source": [
    "\n",
    "NUM_PARTITIONS  = 3\n",
    "   #\n",
    "#  DB_NAME         = \"my_db\"\n",
    "#  GRAPH_NAME      = \"my_graph\"\n",
    "\n",
    "print(\"--\")\n"
   ]
  },
  {
   "cell_type": "code",
   "execution_count": null,
   "id": "9cc0ecbe-ab42-4b42-a3e9-fd72c39446b2",
   "metadata": {},
   "outputs": [],
   "source": [
    "\n",
    "#  Create Nodes data ..\n",
    "#\n",
    "\n",
    "np_nodes = np.array([\n",
    "       #\n",
    "   [\"MKE\", \"Milwaukee\"     , \"WI\"   , None            , \"Airport\"   ],\n",
    "   [\"ORD\", \"Chicago O-Hare\", \"IL\"   , None            , \"Airport\"   ],\n",
    "   [\"SJC\", \"San Jose\"      , \"CA\"   , None            , \"Airport\"   ],\n",
    "   [\"LAX\", \"Los Angeles\"   , \"CA\"   , None            , \"Airport\"   ],\n",
    "   [\"DEN\", \"Denver\"        , \"CO\"   , None            , \"Airport\"   ],\n",
    "   [\"PAP\", None            , None   , \"Pappadeauxs\"   , \"Restaurant\"],\n",
    "       #\n",
    "   ], dtype=\"str\")\n",
    "\n",
    "pd_nodes = pd.DataFrame(np_nodes, columns = [\"id\", \"airport_name\", \"state_code\", \"restaurant_name\", \"LABEL\"])\n",
    "   #\n",
    "dd_nodes = from_pandas(pd_nodes, npartitions = NUM_PARTITIONS)\n",
    "\n",
    "\n",
    "#  tabulate() not displaying data correctly, use print ..\n",
    "#\n",
    "print(dd_nodes.compute())\n",
    "   #\n",
    "print(\"--\")\n"
   ]
  },
  {
   "cell_type": "code",
   "execution_count": null,
   "id": "60eaac88-4dd5-47d3-94b3-0f5fd0b243f2",
   "metadata": {},
   "outputs": [],
   "source": [
    "\n",
    "#  Create the Edge data ..\n",
    "#\n",
    "\n",
    "np_edges = np.array([\n",
    "      #\n",
    "   [\"MKE\", \"ORD\",     66,    1, None      , \"FLIES_TO\"  ],\n",
    "   [\"ORD\", \"MKE\",     66,    1, None      , \"FLIES_TO\"  ],\n",
    "      #\n",
    "   [\"ORD\", \"DEN\",    886,    1, None      , \"FLIES_TO\"  ],\n",
    "   [\"DEN\", \"ORD\",    886,    1, None      , \"FLIES_TO\"  ],\n",
    "      #\n",
    "   [\"SJC\", \"DEN\",    948,    1, None      , \"FLIES_TO\"  ],\n",
    "   [\"DEN\", \"SJC\",    948,    1, None      , \"FLIES_TO\"  ],\n",
    "      #\n",
    "   [\"SJC\", \"ORD\",   1829,    1, None      , \"FLIES_TO\"  ],\n",
    "      #\n",
    "   [\"SJC\", \"PAP\",   None, None, True      , \"ATTRACTION\"],\n",
    "      #\n",
    "   ], dtype=\"str\")\n",
    "    \n",
    "pd_edges = pd.DataFrame(np_edges, columns = [\"START_ID\", \"END_ID\", \"DISTANCE\", \"NUM_HOPS\", \"DRIVABLE\", \"TYPE\"])\n",
    "   #\n",
    "dd_edges = from_pandas(pd_edges, npartitions = NUM_PARTITIONS)\n",
    "\n",
    "\n",
    "#  tabulate() not displaying data correctly, use print ..\n",
    "#\n",
    "print(dd_edges.compute())\n",
    "   #\n",
    "print(\"--\")\n"
   ]
  },
  {
   "cell_type": "markdown",
   "id": "b002c1ee-7991-4010-9a9f-250bfd647f92",
   "metadata": {
    "tags": []
   },
   "source": [
    "#  From Dask Book"
   ]
  },
  {
   "cell_type": "code",
   "execution_count": 15,
   "id": "3de2beea-a6a2-4994-8c0f-f2af0259f5d7",
   "metadata": {},
   "outputs": [
    {
     "name": "stdout",
     "output_type": "stream",
     "text": [
      "id                 0.0\n",
      "airport_name       0.0\n",
      "state_code         0.0\n",
      "restaurant_name    0.0\n",
      "LABEL              0.0\n",
      "dtype: float64\n"
     ]
    }
   ],
   "source": [
    "\n",
    "#  Check for missing/Null values ..\n",
    "#\n",
    "\n",
    "l_missingdata = ( dd_nodes.isnull().sum() / dd_nodes.index.size * 100).compute()\n",
    "   #\n",
    "print(l_missingdata)\n",
    "\n",
    "#  Sample output,\n",
    "#\n",
    "#     id                 0.0\n",
    "#     airport_name       0.0\n",
    "#     state_code         0.0\n",
    "#     restaurant_name    0.0\n",
    "#     LABEL              0.0\n",
    "#     dtype: float64\n"
   ]
  },
  {
   "cell_type": "code",
   "execution_count": 19,
   "id": "f1db3a3d-0358-43e0-83aa-f389df8f7f51",
   "metadata": {},
   "outputs": [
    {
     "data": {
      "text/html": [
       "<div>\n",
       "<style scoped>\n",
       "    .dataframe tbody tr th:only-of-type {\n",
       "        vertical-align: middle;\n",
       "    }\n",
       "\n",
       "    .dataframe tbody tr th {\n",
       "        vertical-align: top;\n",
       "    }\n",
       "\n",
       "    .dataframe thead th {\n",
       "        text-align: right;\n",
       "    }\n",
       "</style>\n",
       "<table border=\"1\" class=\"dataframe\">\n",
       "  <thead>\n",
       "    <tr style=\"text-align: right;\">\n",
       "      <th></th>\n",
       "      <th>id</th>\n",
       "      <th>airport_name</th>\n",
       "      <th>state_code</th>\n",
       "      <th>restaurant_name</th>\n",
       "      <th>LABEL</th>\n",
       "    </tr>\n",
       "  </thead>\n",
       "  <tbody>\n",
       "    <tr>\n",
       "      <th>0</th>\n",
       "      <td>False</td>\n",
       "      <td>False</td>\n",
       "      <td>False</td>\n",
       "      <td>False</td>\n",
       "      <td>False</td>\n",
       "    </tr>\n",
       "    <tr>\n",
       "      <th>1</th>\n",
       "      <td>False</td>\n",
       "      <td>False</td>\n",
       "      <td>False</td>\n",
       "      <td>False</td>\n",
       "      <td>False</td>\n",
       "    </tr>\n",
       "    <tr>\n",
       "      <th>2</th>\n",
       "      <td>False</td>\n",
       "      <td>False</td>\n",
       "      <td>False</td>\n",
       "      <td>False</td>\n",
       "      <td>False</td>\n",
       "    </tr>\n",
       "    <tr>\n",
       "      <th>3</th>\n",
       "      <td>False</td>\n",
       "      <td>False</td>\n",
       "      <td>False</td>\n",
       "      <td>False</td>\n",
       "      <td>False</td>\n",
       "    </tr>\n",
       "    <tr>\n",
       "      <th>4</th>\n",
       "      <td>False</td>\n",
       "      <td>False</td>\n",
       "      <td>False</td>\n",
       "      <td>False</td>\n",
       "      <td>False</td>\n",
       "    </tr>\n",
       "    <tr>\n",
       "      <th>5</th>\n",
       "      <td>False</td>\n",
       "      <td>False</td>\n",
       "      <td>False</td>\n",
       "      <td>False</td>\n",
       "      <td>False</td>\n",
       "    </tr>\n",
       "  </tbody>\n",
       "</table>\n",
       "</div>"
      ],
      "text/plain": [
       "      id  airport_name  state_code  restaurant_name  LABEL\n",
       "0  False         False       False            False  False\n",
       "1  False         False       False            False  False\n",
       "2  False         False       False            False  False\n",
       "3  False         False       False            False  False\n",
       "4  False         False       False            False  False\n",
       "5  False         False       False            False  False"
      ]
     },
     "execution_count": 19,
     "metadata": {},
     "output_type": "execute_result"
    }
   ],
   "source": [
    "\n",
    "dd_nodes.isna().compute()\n"
   ]
  },
  {
   "cell_type": "code",
   "execution_count": null,
   "id": "6b4c077a-1527-493c-9365-7cfbfa344b29",
   "metadata": {},
   "outputs": [],
   "source": []
  },
  {
   "cell_type": "code",
   "execution_count": null,
   "id": "8ce1509a-77d4-45e7-8266-f38de959c83b",
   "metadata": {},
   "outputs": [],
   "source": []
  },
  {
   "cell_type": "code",
   "execution_count": null,
   "id": "013ab952-6804-4e2d-b973-c1901f59a6c7",
   "metadata": {},
   "outputs": [],
   "source": []
  }
 ],
 "metadata": {
  "kernelspec": {
   "display_name": "Python 3 (ipykernel)",
   "language": "python",
   "name": "python3"
  },
  "language_info": {
   "codemirror_mode": {
    "name": "ipython",
    "version": 3
   },
   "file_extension": ".py",
   "mimetype": "text/x-python",
   "name": "python",
   "nbconvert_exporter": "python",
   "pygments_lexer": "ipython3",
   "version": "3.8.13"
  }
 },
 "nbformat": 4,
 "nbformat_minor": 5
}
