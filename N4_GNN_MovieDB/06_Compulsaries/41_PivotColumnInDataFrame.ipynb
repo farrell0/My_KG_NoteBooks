{
 "cells": [
  {
   "cell_type": "code",
   "execution_count": null,
   "id": "d776f754-ef98-4cbd-a423-647c483341ce",
   "metadata": {},
   "outputs": [],
   "source": [
    "\n",
    "#  Here we demonstrate the following Dask DataFrame techniques;\n",
    "#\n",
    "#     .  How to create a Dask DataFrame from an array.\n",
    "#\n",
    "#     .  Given a source Dask DataFrame, pivot a column that is a string into an array.\n",
    "#\n",
    "#        We might use this technique when given a flat file of data, that we derive\n",
    "#        nodes and edges from.\n"
   ]
  },
  {
   "cell_type": "code",
   "execution_count": 1,
   "id": "682150e3-6a50-4197-a239-80d1d2ea6edd",
   "metadata": {},
   "outputs": [
    {
     "name": "stdout",
     "output_type": "stream",
     "text": [
      "--\n"
     ]
    }
   ],
   "source": [
    "\n",
    "NUM_PARTITIONS  = 3\n",
    "\n",
    "print(\"--\")\n"
   ]
  },
  {
   "cell_type": "code",
   "execution_count": 2,
   "id": "0416c10d-a1cb-433d-ad5e-85498aaa1744",
   "metadata": {},
   "outputs": [
    {
     "name": "stdout",
     "output_type": "stream",
     "text": [
      "--\n"
     ]
    }
   ],
   "source": [
    "\n",
    "import numpy as np\n",
    "import pandas as pd\n",
    "   #\n",
    "import dask.array as da\n",
    "import dask.dataframe as dd\n",
    "   #\n",
    "from dask.dataframe import from_pandas\n",
    "\n",
    "from tabulate import tabulate\n",
    "\n",
    "print(\"--\")\n"
   ]
  },
  {
   "cell_type": "code",
   "execution_count": 14,
   "id": "131298d0-5cb4-4b62-8413-5e5571ef4b6a",
   "metadata": {},
   "outputs": [
    {
     "name": "stdout",
     "output_type": "stream",
     "text": [
      "Names:  Mary               Bob, Tim, Dave                  \n",
      "Names:  Joyce              Allen, Tom, Dave                \n",
      "Names:  Alice              Earl                            \n",
      "--\n"
     ]
    }
   ],
   "source": [
    "\n",
    "#  Create our source Dask DataFrame from an array\n",
    "\n",
    "np_names = np.array([\n",
    "       #\n",
    "   [\"Mary\"   , \"Bob, Tim, Dave\"            ],\n",
    "   [\"Joyce\"  , \"Allen, Tom, Dave\"          ],    \n",
    "   [\"Alice\"  , \"Earl\"                      ],\n",
    "       #\n",
    "   ], dtype=\"str\")\n",
    "\n",
    "pd_names = pd.DataFrame(np_names, columns = [\"col1\", \"col2\"])\n",
    "   #\n",
    "dd_names = from_pandas(pd_names, npartitions = NUM_PARTITIONS)\n",
    "\n",
    "\n",
    "for l_each in dd_names.itertuples():\n",
    "   print(\"Names:  %-16s   %-32s\" % (l_each.col1, l_each.col2))\n",
    "\n",
    "print(\"--\")\n",
    "\n",
    "#  Sample output,\n",
    "#\n",
    "#  Names:  Mary               Bob, Tim, Dave                  \n",
    "#  Names:  Joyce              Allen, Tom, Dave                \n",
    "#  Names:  Alice              Earl\n"
   ]
  },
  {
   "cell_type": "code",
   "execution_count": 15,
   "id": "828d62e9-1cf8-4eee-9147-f351961b95f4",
   "metadata": {},
   "outputs": [
    {
     "name": "stdout",
     "output_type": "stream",
     "text": [
      "Names: :        Mary         bob\n",
      "Names: :        Mary         tim\n",
      "Names: :        Mary        dave\n",
      "Names: :       Joyce       allen\n",
      "Names: :       Joyce         tom\n",
      "Names: :       Joyce        dave\n",
      "Names: :       Alice        earl\n"
     ]
    }
   ],
   "source": [
    "\n",
    "#  Change string to lowercase, just because\n",
    "#\n",
    "dd_names[\"col2\"] = dd_names.col2.map(lambda x: x.lower())\n",
    "\n",
    "\n",
    "#  Change string to array\n",
    "#\n",
    "dd_names[\"col2\"] = dd_names.col2.map(lambda x: x.split(\",\") )\n",
    "\n",
    "#  Pivot array to rows\n",
    "#\n",
    "dd_names = dd_names.explode(\"col2\")\n",
    "\n",
    "\n",
    "# for l_each in dd_names.iterrows(): \n",
    "for l_each in dd_names.iter(): \n",
    "   print(\"Names: :  %10s  %10s\" % (l_each[1][0], l_each[1][1]))\n",
    "    \n",
    "#  Sample data,\n",
    "#\n",
    "#  Names: :        Mary         bob\n",
    "#  Names: :        Mary         tim\n",
    "#  Names: :        Mary        dave\n",
    "#  Names: :       Joyce       allen\n",
    "#  Names: :       Joyce         tom\n",
    "#  Names: :       Joyce        dave\n",
    "#  Names: :       Alice        earl\n",
    "\n"
   ]
  },
  {
   "cell_type": "code",
   "execution_count": null,
   "id": "20eccc55-7c3e-45ec-8ea7-57b2c678b0e0",
   "metadata": {},
   "outputs": [],
   "source": []
  }
 ],
 "metadata": {
  "kernelspec": {
   "display_name": "Python 3 (ipykernel)",
   "language": "python",
   "name": "python3"
  },
  "language_info": {
   "codemirror_mode": {
    "name": "ipython",
    "version": 3
   },
   "file_extension": ".py",
   "mimetype": "text/x-python",
   "name": "python",
   "nbconvert_exporter": "python",
   "pygments_lexer": "ipython3",
   "version": "3.8.13"
  }
 },
 "nbformat": 4,
 "nbformat_minor": 5
}
