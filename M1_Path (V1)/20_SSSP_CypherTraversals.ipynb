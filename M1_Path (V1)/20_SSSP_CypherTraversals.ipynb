{
 "cells": [
  {
   "cell_type": "markdown",
   "id": "d3ebe820-bc6d-4948-b668-8b81cd3cbf29",
   "metadata": {
    "tags": []
   },
   "source": [
    "#  Setup stuff: Connectivity"
   ]
  },
  {
   "cell_type": "code",
   "execution_count": 1,
   "id": "1ea957d6-30c6-427a-ae4e-15ecfba0c4f9",
   "metadata": {},
   "outputs": [
    {
     "name": "stderr",
     "output_type": "stream",
     "text": [
      "VERBOSE: ../../../../external/katana/libgalois/include/katana/AsyncPool.h:152: 615: async pool tids: 140096189179648, 140096187078400\n",
      "VERBOSE: ../../../../external/katana/libgalois/include/katana/AsyncPool.h:152: 615: async pool tids: 140096184977152, 140096180778752\n",
      "VERBOSE: ../../../../external/katana/libgalois/include/katana/AsyncPool.h:152: 615: async pool tids: 140096176580352, 140096168187648\n",
      "VERBOSE: ../../../../external/katana/libgalois/include/katana/AsyncPool.h:152: 615: async pool tids: 140096159794944, 140096143013632\n",
      "VERBOSE: ../../../../external/katana/libgalois/include/katana/AsyncPool.h:152: 615: async pool tids: 140096126232320, 140096124131072\n"
     ]
    },
    {
     "name": "stdout",
     "output_type": "stream",
     "text": [
      "<katana_enterprise.remote.sync_wrappers.Client object at 0x7f6af2937a30>\n"
     ]
    }
   ],
   "source": [
    "import os\n",
    "\n",
    "from katana import remote\n",
    "\n",
    "\n",
    "my_client = remote.Client()\n",
    "\n",
    "print(my_client)\n"
   ]
  },
  {
   "cell_type": "code",
   "execution_count": 2,
   "id": "97571016-7c02-4e90-a75a-136a0dacd35f",
   "metadata": {},
   "outputs": [
    {
     "name": "stdout",
     "output_type": "stream",
     "text": [
      "--\n"
     ]
    }
   ],
   "source": [
    "NUM_PARTITIONS  = 3\n",
    "   #\n",
    "DB_NAME         = \"my_db\"\n",
    "GRAPH_NAME      = \"my_graph\"\n",
    "\n",
    "print(\"--\")\n"
   ]
  },
  {
   "cell_type": "code",
   "execution_count": 3,
   "id": "c5db6505-7fc8-4779-b194-9ed8945b9a90",
   "metadata": {},
   "outputs": [
    {
     "name": "stdout",
     "output_type": "stream",
     "text": [
      "<_Graph my_graph, 7BPJRfJqByoA35eiVYWGCwKjWjEwxxqXnqrmthkAJSui, 1>\n"
     ]
    }
   ],
   "source": [
    "#  CONNECT TO GRAPH\n",
    "\n",
    "for l_graph in my_client.get_database(name=DB_NAME).graphs_in_database():\n",
    "   if (l_graph.name == GRAPH_NAME):\n",
    "      my_graph=my_client.get_database(name=DB_NAME).get_graph_by_id(id=l_graph.graph_id)\n",
    "         #\n",
    "      break\n",
    "\n",
    "print(my_graph)\n"
   ]
  },
  {
   "cell_type": "markdown",
   "id": "039f91b3-11dc-475e-a9a1-daed40a30b44",
   "metadata": {},
   "source": [
    "#  Setup stuff: Debugging"
   ]
  },
  {
   "cell_type": "code",
   "execution_count": null,
   "id": "fe05e591-927a-456b-b973-7aceba0bea39",
   "metadata": {},
   "outputs": [],
   "source": [
    "#  LIST ALL GRAPHS\n",
    "\n",
    "for l_graph in my_client.graphs():\n",
    "   print(\"GRAPH ID: \", l_graph.graph_id, \"     DB GRAPH: \", l_graph.name, \"    GRAPH VERSION: \", l_graph.version)\n",
    "\n",
    "print(\"--\")\n"
   ]
  },
  {
   "cell_type": "code",
   "execution_count": null,
   "id": "ce3ecfbe-cca0-41dd-bb15-594f2d545365",
   "metadata": {},
   "outputs": [],
   "source": [
    "display(my_graph.num_nodes())\n",
    "display(my_graph.num_edges())"
   ]
  },
  {
   "cell_type": "code",
   "execution_count": null,
   "id": "ef619a08-7263-4bb3-9edd-34148f639ec5",
   "metadata": {},
   "outputs": [],
   "source": [
    "my_graph.query(\"CALL graph.schema() RETURN *\")\n"
   ]
  },
  {
   "cell_type": "code",
   "execution_count": null,
   "id": "71fb84ed-29d1-4e3b-ae1f-b2d009af96ff",
   "metadata": {},
   "outputs": [],
   "source": [
    "my_client.widgets().operations()\n"
   ]
  },
  {
   "cell_type": "code",
   "execution_count": null,
   "id": "b3ad9bdb-bac0-4d20-991e-3a3d3359c850",
   "metadata": {},
   "outputs": [],
   "source": [
    "# ##################################################################"
   ]
  },
  {
   "cell_type": "code",
   "execution_count": null,
   "id": "26f04473-2b9a-4173-a881-1682c33f9e4c",
   "metadata": {},
   "outputs": [],
   "source": [
    "\n",
    "l_result = my_graph.query(\"\"\"\n",
    "\n",
    "   MATCH (n) - [ r ] -> (m)\n",
    "   RETURN n, m, r\n",
    "   \n",
    "   \"\"\", contextualize=True)\n",
    "\n",
    "l_result.view()\n"
   ]
  },
  {
   "cell_type": "markdown",
   "id": "356be1fb-2be3-40a5-83bb-5e3dd28fe36d",
   "metadata": {
    "tags": []
   },
   "source": [
    "#  Finally now, the Analytics .."
   ]
  },
  {
   "cell_type": "code",
   "execution_count": null,
   "id": "11002c31-5478-4b88-a9f4-400b4a1d91d8",
   "metadata": {},
   "outputs": [],
   "source": [
    "#  https://stackoverflow.com/questions/27600608/traverse-path-cypher-query\n",
    "\n",
    "#  The full graph\n",
    "\n",
    "l_result = my_graph.query(\"\"\"\n",
    "\n",
    "   MATCH (n: Airport ) - [ r ] -> (m: Airport)\n",
    "   \n",
    "   //  No data, there is no direct flight\n",
    "   //\n",
    "   // WHERE n.airport_code = \"SJC\" AND m.airport_code = \"MKE\"\n",
    "   \n",
    "   RETURN n, m, r\n",
    "   \n",
    "   \"\"\", contextualize=True)\n",
    "\n",
    "l_result.view()\n"
   ]
  },
  {
   "cell_type": "code",
   "execution_count": 4,
   "id": "4477fc38-e8e0-4358-8380-f348a4c491b1",
   "metadata": {},
   "outputs": [
    {
     "data": {
      "application/vnd.jupyter.widget-view+json": {
       "model_id": "4dc31a0546e5431bb5510c89c2424b76",
       "version_major": 2,
       "version_minor": 0
      },
      "text/plain": [
       "          0/? [?op/s]"
      ]
     },
     "metadata": {},
     "output_type": "display_data"
    },
    {
     "name": "stdout",
     "output_type": "stream",
     "text": [
      "  m.id n.id\n",
      "0  MKE  SJC\n",
      "1  MKE  SJC\n"
     ]
    }
   ],
   "source": [
    "#  First traversal, Airport --> Airport, up to 3 in distance ..\n",
    "\n",
    "l_result = my_graph.query(\"\"\"\n",
    "\n",
    "   MATCH (n: Airport )  - [r *..3] ->  (m: Airport)\n",
    "   WHERE n.id = \"SJC\" AND m.id = \"MKE\"\n",
    "   RETURN n.id, m.id\n",
    "   \n",
    "   \"\"\")\n",
    "\n",
    "print(l_result[0:30])\n",
    "\n",
    "#    m.airport_code n.airport_code\n",
    "#  0            MKE            SJC\n",
    "#  1            MKE            SJC\n",
    "\n",
    "#  So Yes, answer, but no path ..\n"
   ]
  },
  {
   "cell_type": "code",
   "execution_count": null,
   "id": "8a9c0cdb-fd0f-4297-b5f2-20b0718e203c",
   "metadata": {},
   "outputs": [],
   "source": [
    "#  Adding path ..\n",
    "\n",
    "l_result = my_graph.query(\"\"\"\n",
    "\n",
    "   MATCH p= ( n: Airport )  - [r *..3] ->  (m: Airport)\n",
    "   WHERE n.id = \"SJC\" AND m.id = \"MKE\"\n",
    "   RETURN n.id AS FROM, m.id AS TO, p\n",
    "   \"\"\")\n",
    "\n",
    "print(l_result[0:30])\n",
    "\n",
    "#  Currently, error ..\n",
    "#\n",
    "#  OperationError: query 9tWneccAey6jzpKLGGtto7v3X1iSkQDdRrSa7gcuv8fD-3qJysJrdkEo1NWz7V error: backtrace\n",
    "#  (QueryClient.cpp:456): opgraph check failed (OpGraph.cpp:429): Unimplemented Features Pass\n",
    "#  (OpGraphErrorChecker.cpp:12): backtrace (UnimplementedFeaturesChecker.cpp:360): backtrace\n",
    "#  (OpGraph.cpp:682): backtrace (OpGraph.cpp:682): backtrace (OpGraph.cpp:682): backtrace\n",
    "#  (OpGraph.cpp:682): backtrace (OpGraph.cpp:658): backtrace (UnimplementedFeaturesChecker.cpp:214):\n",
    "#  accessing path variable p is not supported (UnimplementedFeaturesChecker.cpp:24): InternalError:NotImplemented\n"
   ]
  },
  {
   "cell_type": "code",
   "execution_count": null,
   "id": "e03efa37-3f08-475d-a5e5-8d770ed159cc",
   "metadata": {},
   "outputs": [],
   "source": [
    "#  Using COLLECT to try and get path ..\n",
    "\n",
    "l_result = my_graph.query(\"\"\"\n",
    "\n",
    "   MATCH ( n: Airport )  - [r *..3] ->  (m: Airport)\n",
    "   WHERE n.id = \"SJC\" AND m.id = \"MKE\"\n",
    "   \n",
    "   RETURN n.id AS FROM, COLLECT(m.id)\n",
    "   // RETURN COLLECT( [n.airport_code, m.airport_code] )                //  This did notthing effective\n",
    "   \n",
    "   \"\"\")\n",
    "\n",
    "print(l_result[0:30])\n",
    "\n",
    "#  This did not used to error. It used to return,\n",
    "#\n",
    "#    COLLECT(m.airport_code) FROM\n",
    "#  0              [MKE, MKE]  SJC\n",
    "# \n",
    "#  Not what we want\n",
    "\n",
    "#  Now this gives,\n",
    "#\n",
    "#  OperationError: 9HaUVQpn6SQh83sR3oDGZLmtyzUoBgxEZeU26316cb4B-3Hc5zx68K6VVZyswB backtrace\n",
    "#  (QueryClient.cpp:575): opgraph check failed (OpGraph.cpp:564): Unimplemented Features Pass \n",
    "#  (OpGraphErrorChecker.cpp:12): backtrace (UnimplementedFeaturesChecker.cpp:376): backtrace \n",
    "#  (OpGraph.cpp:822): backtrace (OpGraph.cpp:822): backtrace (OpGraph.cpp:798):\n",
    "#  returning named variable paths not yet supported (UnimplementedFeaturesChecker.cpp:197):\n",
    "#  InternalError:NotImplemented: InternalError:NotImplemented\n"
   ]
  },
  {
   "cell_type": "code",
   "execution_count": null,
   "id": "08ad6b8a-46db-4319-afef-98dc69a8154e",
   "metadata": {},
   "outputs": [],
   "source": [
    "#  Another attempt at using COLLECT, on the edge this time ..\n",
    "\n",
    "l_result = my_graph.query(\"\"\"\n",
    "\n",
    "   MATCH ( n: Airport )  - [r *..3] ->  (m: Airport)\n",
    "   WHERE n.id = \"SJC\" AND m.id = \"MKE\"\n",
    "   RETURN n.id AS FROM, COLLECT(r.END_ID)\n",
    "   \"\"\")\n",
    "\n",
    "print(l_result[0:30])\n",
    "\n",
    "\n",
    "#  OperationError: query 6jxiUgnCFao3yf2BTXPJqQDUTkAwTL4LMzmKjF6kNmD4-4BeDpVqisXe9Ha8QW error:\n",
    "#  backtrace (QueryClient.cpp:452): backtrace (OpGraph.cpp:313): backtrace (OpGraph.h:588):\n",
    "#  backtrace (OpGraph.h:588): backtrace (OpGraph.h:588): backtrace (OpGraph.h:588): backtrace\n",
    "#  (OpGraph.cpp:320): backtrace (RewritePattern.h:46): backtrace (MatchOrderOptimizer.cpp:102):\n",
    "#  backtrace (MatchOperator.cpp:2062): returning named variable paths not yet supported\n",
    "#  (MatchOperator.cpp:1894): InternalError:NotImplemented\n"
   ]
  },
  {
   "cell_type": "code",
   "execution_count": null,
   "id": "1a44d865-c9e0-4a25-9668-20ef7e2cd413",
   "metadata": {},
   "outputs": [],
   "source": [
    "# ##################################################################"
   ]
  },
  {
   "cell_type": "code",
   "execution_count": null,
   "id": "fab04e32-8192-47b6-8512-bcff2201d658",
   "metadata": {},
   "outputs": [],
   "source": [
    "#  Second traversal, Airport --> Airport, up to 3 in distance, but in other direction ..\n",
    "\n",
    "l_result = my_graph.query(\"\"\"\n",
    "\n",
    "   MATCH (n: Airport )  - [r: FLIES_TO *..3] ->  (m: Airport)\n",
    "   WHERE n.id = \"MKE\" AND m.id = \"SJC\"\n",
    "   RETURN n.id, m.id\n",
    "   \n",
    "   \"\"\")\n",
    "\n",
    "print(l_result[0:30])\n"
   ]
  },
  {
   "cell_type": "code",
   "execution_count": null,
   "id": "7ced26fb-8cf8-4069-8481-0b071b255985",
   "metadata": {},
   "outputs": [],
   "source": [
    "# ##################################################################"
   ]
  },
  {
   "cell_type": "code",
   "execution_count": 7,
   "id": "d52a26d7-90a4-4f4e-8df4-c6171db04c1d",
   "metadata": {},
   "outputs": [
    {
     "data": {
      "application/vnd.jupyter.widget-view+json": {
       "model_id": "7a71e62c67fd486181b7dfc070d4b1c6",
       "version_major": 2,
       "version_minor": 0
      },
      "text/plain": [
       "          0/? [?op/s]"
      ]
     },
     "metadata": {},
     "output_type": "display_data"
    },
    {
     "name": "stdout",
     "output_type": "stream",
     "text": [
      "  FROM             path\n",
      "0  SJC       [ORD, MKE]\n",
      "1  SJC  [DEN, ORD, MKE]\n"
     ]
    }
   ],
   "source": [
    "\n",
    "#  From Roshan and Boris ..\n",
    "\n",
    "l_result = my_graph.query(\"\"\"\n",
    "\n",
    "   MATCH ( n: Airport )  - [] ->  (m: Airport)\n",
    "   WHERE n.id = \"SJC\" AND m.id = \"MKE\"\n",
    "   RETURN \"1\" An.id AS FROM, [m.id] as path\n",
    "      \n",
    "   UNION\n",
    "   \n",
    "   MATCH ( n: Airport )-[]->(p1:Airport)-[]-> (m: Airport)\n",
    "   WHERE n.id = \"SJC\" AND m.id = \"MKE\"\n",
    "   RETURN n.id AS FROM, [p1.id,m.id] as path\n",
    "      \n",
    "   UNION\n",
    "   \n",
    "   MATCH ( n: Airport )-[]->(p1:Airport)-[]->(p2:Airport)-[]-> (m: Airport)\n",
    "   WHERE n.id = \"SJC\" AND m.id = \"MKE\"\n",
    "   RETURN n.id AS FROM, [p1.id,p2.id,m.id] as path\n",
    "   \n",
    "   \"\"\")\n",
    "\n",
    "print(l_result[0:30])\n",
    "    \n",
    "#  Outputs,\n",
    "#\n",
    "#    FROM             path\n",
    "#  0  SJC       [ORD, MKE]\n",
    "#  1  SJC  [DEN, ORD, MKE]\n",
    "\n"
   ]
  }
 ],
 "metadata": {
  "kernelspec": {
   "display_name": "Python 3 (ipykernel)",
   "language": "python",
   "name": "python3"
  },
  "language_info": {
   "codemirror_mode": {
    "name": "ipython",
    "version": 3
   },
   "file_extension": ".py",
   "mimetype": "text/x-python",
   "name": "python",
   "nbconvert_exporter": "python",
   "pygments_lexer": "ipython3",
   "version": "3.8.13"
  }
 },
 "nbformat": 4,
 "nbformat_minor": 5
}
