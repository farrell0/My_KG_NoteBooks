{
 "cells": [
  {
   "cell_type": "code",
   "execution_count": 11,
   "id": "8acd69a8-ed5d-4952-b65d-6f4ea4fe5b61",
   "metadata": {},
   "outputs": [
    {
     "name": "stdout",
     "output_type": "stream",
     "text": [
      "['Bob', 'Tom']\n"
     ]
    }
   ],
   "source": [
    "\n",
    "\n",
    "\n",
    "class MyHistory:\n",
    "  \n",
    "   __my_history = []\n",
    "    \n",
    "   def append(self, i_str):\n",
    "      self.__my_history.append(i_str)\n",
    "        \n",
    "   def __str__(self):\n",
    "      return(str(self.__my_history))\n",
    "   \n",
    "\n",
    "zzz = MyHistory()     \n",
    "\n",
    "zzz.append(\"Bob\")\n",
    "zzz.append(\"Tom\")\n",
    "  \n",
    "# zzz.get()    \n",
    "\n",
    "print(zzz)\n",
    "\n",
    "\n",
    "\n"
   ]
  }
 ],
 "metadata": {
  "kernelspec": {
   "display_name": "Python 3 (ipykernel)",
   "language": "python",
   "name": "python3"
  },
  "language_info": {
   "codemirror_mode": {
    "name": "ipython",
    "version": 3
   },
   "file_extension": ".py",
   "mimetype": "text/x-python",
   "name": "python",
   "nbconvert_exporter": "python",
   "pygments_lexer": "ipython3",
   "version": "3.8.13"
  }
 },
 "nbformat": 4,
 "nbformat_minor": 5
}
