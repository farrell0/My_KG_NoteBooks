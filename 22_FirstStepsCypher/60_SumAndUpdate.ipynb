{
 "cells": [
  {
   "cell_type": "code",
   "execution_count": null,
   "id": "f02fcd93-2850-4e4d-b2b6-bfc8e7fbd58b",
   "metadata": {},
   "outputs": [],
   "source": [
    "\n",
    "import pandas as pd\n",
    "   #\n",
    "pd.set_option(\"display.width\", 480)\n",
    "\n",
    "#  Sets horizontal scroll for wide outputs\n",
    "#\n",
    "from IPython.display import display, HTML\n",
    "display(HTML(\"<style>pre { white-space: pre !important; }</style>\"))\n",
    "\n",
    "from tabulate import tabulate\n",
    "\n",
    "print(\"--\")\n"
   ]
  },
  {
   "cell_type": "markdown",
   "id": "d3ebe820-bc6d-4948-b668-8b81cd3cbf29",
   "metadata": {
    "tags": []
   },
   "source": [
    "#  Setup stuff: Connectivity"
   ]
  },
  {
   "cell_type": "code",
   "execution_count": null,
   "id": "1ea957d6-30c6-427a-ae4e-15ecfba0c4f9",
   "metadata": {},
   "outputs": [],
   "source": [
    "\n",
    "from katana import remote\n",
    "from katana.remote import import_data\n",
    "\n",
    "my_client = remote.Client()\n",
    "\n",
    "print(my_client)\n"
   ]
  },
  {
   "cell_type": "code",
   "execution_count": null,
   "id": "97571016-7c02-4e90-a75a-136a0dacd35f",
   "metadata": {},
   "outputs": [],
   "source": [
    "\n",
    "NUM_PARTITIONS  = 3\n",
    "   #\n",
    "DB_NAME         = \"my_db\"\n",
    "GRAPH_NAME      = \"my_graph\"\n",
    "\n",
    "print(\"--\")\n"
   ]
  },
  {
   "cell_type": "code",
   "execution_count": null,
   "id": "8ed2d715-aaeb-4381-9216-46fa0dd421b6",
   "metadata": {},
   "outputs": [],
   "source": [
    "\n",
    "#  DELETE ALL GRAPHS\n",
    "\n",
    "for l_database in my_client.databases():\n",
    "   for l_graph in my_client.get_database(name=l_database.name).graphs_in_database():\n",
    "      l_handle=my_client.get_database(name=l_database.name).get_graph_by_id(id=l_graph.graph_id)\n",
    "      l_handle.delete()\n",
    "\n",
    "for l_graph in my_client.graphs():\n",
    "   print(\"GRAPH ID: \", l_graph.graph_id, \"      GRAPH Version: \", l_graph.version)\n",
    "\n",
    "print(\"--\")\n"
   ]
  },
  {
   "cell_type": "code",
   "execution_count": null,
   "id": "cf9c16ec-913f-46a8-bccc-76fc92c54866",
   "metadata": {},
   "outputs": [],
   "source": [
    "\n",
    "#  DELETE ALL DATABASES\n",
    "\n",
    "for l_database in my_client.databases():\n",
    "   if (l_database.name != \"default\"):\n",
    "      my_client.get_database(name=l_database.name).delete_database()\n",
    "      print(\"--\")\n",
    "\n",
    "for l_database in my_client.databases():\n",
    "   print(\"DB ID: \", l_database.database_id, \"     DB Name: \", l_database.name)\n"
   ]
  },
  {
   "cell_type": "code",
   "execution_count": null,
   "id": "6e72729c-265b-40e4-a3ee-674b793bed81",
   "metadata": {},
   "outputs": [],
   "source": [
    "\n",
    "#  CREATE DATABASE\n",
    "\n",
    "my_database = my_client.create_database(name=DB_NAME)\n",
    "\n",
    "print(my_database.database_id)\n"
   ]
  },
  {
   "cell_type": "code",
   "execution_count": null,
   "id": "2fc31da4-44c3-4bd3-b160-b315766dcd88",
   "metadata": {},
   "outputs": [],
   "source": [
    "\n",
    "#  CREATE GRAPH\n",
    "#\n",
    "my_graph = my_client.get_database(name=DB_NAME).create_graph(name=GRAPH_NAME, num_partitions=NUM_PARTITIONS)\n",
    "\n",
    "print(my_graph)\n"
   ]
  },
  {
   "cell_type": "code",
   "execution_count": null,
   "id": "c5db6505-7fc8-4779-b194-9ed8945b9a90",
   "metadata": {},
   "outputs": [],
   "source": [
    "\n",
    "#  CONNECT TO GRAPH\n",
    "\n",
    "my_graph, *_ = my_client.get_database(name=DB_NAME).find_graphs_by_name(GRAPH_NAME)\n",
    "\n",
    "print(my_graph)\n"
   ]
  },
  {
   "cell_type": "markdown",
   "id": "61556ce5-9044-42bc-bb13-80b6a514ae27",
   "metadata": {
    "tags": []
   },
   "source": [
    "# Create: Vertices/nodes, edges .."
   ]
  },
  {
   "cell_type": "code",
   "execution_count": 33,
   "id": "8e7ecf31-d69e-4b5a-8a37-0cfb4c32fd33",
   "metadata": {},
   "outputs": [
    {
     "name": "stdout",
     "output_type": "stream",
     "text": [
      "+----+-------------+---------------+---------+---------+\n",
      "|    |   order_num | order_name    |   total | LABEL   |\n",
      "|----+-------------+---------------+---------+---------|\n",
      "|  0 |         101 | Rayees Order  |       0 | Order   |\n",
      "|  1 |         102 | Andrews Order |       0 | Order   |\n",
      "|  2 |         103 | Gregs Order   |       0 | Order   |\n",
      "+----+-------------+---------------+---------+---------+\n",
      "+----+---------------+----------------+--------------+---------+\n",
      "|    |   product_num | product_name   |   unit_price | LABEL   |\n",
      "|----+---------------+----------------+--------------+---------|\n",
      "|  0 |           401 | Apples         |            2 | Product |\n",
      "|  1 |           402 | Carrots        |           15 | Product |\n",
      "|  2 |           403 | Pears          |            7 | Product |\n",
      "+----+---------------+----------------+--------------+---------+\n"
     ]
    }
   ],
   "source": [
    "\n",
    "#  Vertices/Nodes ..\n",
    "\n",
    "df_orders        = pd.DataFrame([\n",
    "       #\n",
    "   [101  , \"Rayees Order\"        ,    0,  \"Order\"     ],\n",
    "   [102  , \"Andrews Order\"       ,    0,  \"Order\"     ],\n",
    "   [103  , \"Gregs Order\"         ,    0,  \"Order\"     ],\n",
    "       #\n",
    "   ], columns = [\"order_num\", \"order_name\", \"total\", \"LABEL\"])\n",
    "      #\n",
    "print(tabulate(df_orders, headers='keys', tablefmt='psql'))\n",
    "\n",
    "\n",
    "df_products      = pd.DataFrame([\n",
    "       #\n",
    "   [401  , \"Apples\"              ,   2,  \"Product\"   ],\n",
    "   [402  , \"Carrots\"             ,  15,  \"Product\"   ],\n",
    "   [403  , \"Pears\"               ,   7,  \"Product\"   ],\n",
    "       #\n",
    "   ], columns = [\"product_num\", \"product_name\", \"unit_price\", \"LABEL\"])\n",
    "      #\n",
    "print(tabulate(df_products, headers='keys', tablefmt='psql'))\n",
    "\n"
   ]
  },
  {
   "cell_type": "code",
   "execution_count": 34,
   "id": "60eaac88-4dd5-47d3-94b3-0f5fd0b243f2",
   "metadata": {},
   "outputs": [
    {
     "name": "stdout",
     "output_type": "stream",
     "text": [
      "+----+------------+----------+----------+\n",
      "|    |   START_ID |   END_ID | TYPE     |\n",
      "|----+------------+----------+----------|\n",
      "|  0 |        101 |      401 | CONTAINS |\n",
      "|  1 |        101 |      402 | CONTAINS |\n",
      "|  2 |        101 |      403 | CONTAINS |\n",
      "|  3 |        102 |      401 | CONTAINS |\n",
      "|  4 |        102 |      401 | CONTAINS |\n",
      "|  5 |        102 |      403 | CONTAINS |\n",
      "|  6 |        103 |      403 | CONTAINS |\n",
      "|  7 |        103 |      403 | CONTAINS |\n",
      "|  8 |        103 |      403 | CONTAINS |\n",
      "|  9 |        103 |      403 | CONTAINS |\n",
      "+----+------------+----------+----------+\n"
     ]
    }
   ],
   "source": [
    "\n",
    "#  Create the edge ..\n",
    "\n",
    "df_purchased = pd.DataFrame([\n",
    "      #\n",
    "   [ 101, 401 ,\"CONTAINS\"],\n",
    "   [ 101, 402 ,\"CONTAINS\"],\n",
    "   [ 101, 403 ,\"CONTAINS\"],\n",
    "      #\n",
    "   [ 102, 401 ,\"CONTAINS\"],\n",
    "   [ 102, 401 ,\"CONTAINS\"],\n",
    "   [ 102, 403 ,\"CONTAINS\"],\n",
    "      #\n",
    "   [ 103, 403 ,\"CONTAINS\"],\n",
    "   [ 103, 403 ,\"CONTAINS\"],\n",
    "   [ 103, 403 ,\"CONTAINS\"],\n",
    "   [ 103, 403 ,\"CONTAINS\"],\n",
    "      #\n",
    "   ], columns = [\"START_ID\", \"END_ID\", \"TYPE\"])\n",
    "\n",
    "print(tabulate(df_purchased, headers='keys', tablefmt='psql'))\n"
   ]
  },
  {
   "cell_type": "code",
   "execution_count": 32,
   "id": "56778c0d-7bd9-451d-84f2-e8c037000d6d",
   "metadata": {},
   "outputs": [
    {
     "name": "stderr",
     "output_type": "stream",
     "text": [
      "UserWarning: dtype for DataFrame column 'order_name' is 'object'. Will be inferred as string.\n"
     ]
    },
    {
     "ename": "ValueError",
     "evalue": "Node id column name must be consistent",
     "output_type": "error",
     "traceback": [
      "\u001b[0;31m---------------------------------------------------------------------------\u001b[0m",
      "\u001b[0;31mValueError\u001b[0m                                Traceback (most recent call last)",
      "Cell \u001b[0;32mIn [32], line 11\u001b[0m\n\u001b[1;32m      1\u001b[0m \u001b[38;5;28;01mwith\u001b[39;00m import_data\u001b[38;5;241m.\u001b[39mDataFrameImporter(my_graph) \u001b[38;5;28;01mas\u001b[39;00m df_importer:\n\u001b[1;32m      3\u001b[0m    df_importer\u001b[38;5;241m.\u001b[39mnodes_dataframe(\n\u001b[1;32m      4\u001b[0m       df_orders[[\n\u001b[1;32m      5\u001b[0m          \u001b[38;5;124m\"\u001b[39m\u001b[38;5;124morder_num\u001b[39m\u001b[38;5;124m\"\u001b[39m, \u001b[38;5;124m\"\u001b[39m\u001b[38;5;124morder_name\u001b[39m\u001b[38;5;124m\"\u001b[39m, \u001b[38;5;124m\"\u001b[39m\u001b[38;5;124mtotal\u001b[39m\u001b[38;5;124m\"\u001b[39m, \u001b[38;5;124m\"\u001b[39m\u001b[38;5;124mLABEL\u001b[39m\u001b[38;5;124m\"\u001b[39m\n\u001b[0;32m   (...)\u001b[0m\n\u001b[1;32m      8\u001b[0m       id_space   \u001b[38;5;241m=\u001b[39m \u001b[38;5;124m\"\u001b[39m\u001b[38;5;124mOrders\u001b[39m\u001b[38;5;124m\"\u001b[39m\n\u001b[1;32m      9\u001b[0m       )\n\u001b[0;32m---> 11\u001b[0m    \u001b[43mdf_importer\u001b[49m\u001b[38;5;241;43m.\u001b[39;49m\u001b[43mnodes_dataframe\u001b[49m\u001b[43m(\u001b[49m\n\u001b[1;32m     12\u001b[0m \u001b[43m      \u001b[49m\u001b[43mdf_products\u001b[49m\u001b[43m[\u001b[49m\u001b[43m[\u001b[49m\n\u001b[1;32m     13\u001b[0m \u001b[43m         \u001b[49m\u001b[38;5;124;43m\"\u001b[39;49m\u001b[38;5;124;43mproduct_num\u001b[39;49m\u001b[38;5;124;43m\"\u001b[39;49m\u001b[43m,\u001b[49m\u001b[43m \u001b[49m\u001b[38;5;124;43m\"\u001b[39;49m\u001b[38;5;124;43mproduct_name\u001b[39;49m\u001b[38;5;124;43m\"\u001b[39;49m\u001b[43m,\u001b[49m\u001b[43m \u001b[49m\u001b[38;5;124;43m\"\u001b[39;49m\u001b[38;5;124;43munit_price\u001b[39;49m\u001b[38;5;124;43m\"\u001b[39;49m\u001b[43m,\u001b[49m\u001b[43m \u001b[49m\u001b[38;5;124;43m\"\u001b[39;49m\u001b[38;5;124;43mLABEL\u001b[39;49m\u001b[38;5;124;43m\"\u001b[39;49m\n\u001b[1;32m     14\u001b[0m \u001b[43m      \u001b[49m\u001b[43m]\u001b[49m\u001b[43m]\u001b[49m\u001b[43m,\u001b[49m\n\u001b[1;32m     15\u001b[0m \u001b[43m      \u001b[49m\u001b[43mid_column\u001b[49m\u001b[43m  \u001b[49m\u001b[38;5;241;43m=\u001b[39;49m\u001b[43m \u001b[49m\u001b[38;5;124;43m\"\u001b[39;49m\u001b[38;5;124;43mproduct_num\u001b[39;49m\u001b[38;5;124;43m\"\u001b[39;49m\u001b[43m,\u001b[49m\n\u001b[1;32m     16\u001b[0m \u001b[43m      \u001b[49m\u001b[43mid_space\u001b[49m\u001b[43m   \u001b[49m\u001b[38;5;241;43m=\u001b[39;49m\u001b[43m \u001b[49m\u001b[38;5;124;43m\"\u001b[39;49m\u001b[38;5;124;43mProducts\u001b[39;49m\u001b[38;5;124;43m\"\u001b[39;49m\n\u001b[1;32m     17\u001b[0m \u001b[43m      \u001b[49m\u001b[43m)\u001b[49m\n\u001b[1;32m     19\u001b[0m    df_importer\u001b[38;5;241m.\u001b[39medges_dataframe(\n\u001b[1;32m     20\u001b[0m       df_purchased[[\n\u001b[1;32m     21\u001b[0m          \u001b[38;5;124m\"\u001b[39m\u001b[38;5;124morder_num\u001b[39m\u001b[38;5;124m\"\u001b[39m, \u001b[38;5;124m\"\u001b[39m\u001b[38;5;124mproduct_num\u001b[39m\u001b[38;5;124m\"\u001b[39m, \u001b[38;5;124m\"\u001b[39m\u001b[38;5;124mTYPE\u001b[39m\u001b[38;5;124m\"\u001b[39m]],\n\u001b[0;32m   (...)\u001b[0m\n\u001b[1;32m     26\u001b[0m       \u001b[38;5;28mtype\u001b[39m                 \u001b[38;5;241m=\u001b[39m \u001b[38;5;124m\"\u001b[39m\u001b[38;5;124mRELATES_TO\u001b[39m\u001b[38;5;124m\"\u001b[39m\n\u001b[1;32m     27\u001b[0m       )\n\u001b[1;32m     28\u001b[0m    df_importer\u001b[38;5;241m.\u001b[39medges_dataframe(\n\u001b[1;32m     29\u001b[0m       df_purchased[[\n\u001b[1;32m     30\u001b[0m          \u001b[38;5;124m\"\u001b[39m\u001b[38;5;124morder_num\u001b[39m\u001b[38;5;124m\"\u001b[39m, \u001b[38;5;124m\"\u001b[39m\u001b[38;5;124mproduct_num\u001b[39m\u001b[38;5;124m\"\u001b[39m, \u001b[38;5;124m\"\u001b[39m\u001b[38;5;124mTYPE\u001b[39m\u001b[38;5;124m\"\u001b[39m]],\n\u001b[0;32m   (...)\u001b[0m\n\u001b[1;32m     35\u001b[0m       \u001b[38;5;28mtype\u001b[39m                 \u001b[38;5;241m=\u001b[39m \u001b[38;5;124m\"\u001b[39m\u001b[38;5;124mRELATES_TO\u001b[39m\u001b[38;5;124m\"\u001b[39m\n\u001b[1;32m     36\u001b[0m       )\n",
      "File \u001b[0;32m/opt/conda/lib/python3.8/site-packages/katana_enterprise/remote/dataframe_importer/__init__.py:278\u001b[0m, in \u001b[0;36mDataFrameImporter.nodes_dataframe\u001b[0;34m(self, dataframe, id_column, id_space, property_columns, label_column, label, order_column)\u001b[0m\n\u001b[1;32m    274\u001b[0m     \u001b[38;5;28mself\u001b[39m\u001b[38;5;241m.\u001b[39m_node_info\u001b[38;5;241m.\u001b[39morder_column \u001b[38;5;241m=\u001b[39m \u001b[38;5;28mself\u001b[39m\u001b[38;5;241m.\u001b[39m_get_safe_col_name(dataframe, \u001b[38;5;124m\"\u001b[39m\u001b[38;5;124morder_column\u001b[39m\u001b[38;5;124m\"\u001b[39m, order_column)\n\u001b[1;32m    276\u001b[0m node_id_name \u001b[38;5;241m=\u001b[39m \u001b[38;5;28mself\u001b[39m\u001b[38;5;241m.\u001b[39m_get_safe_col_name(dataframe, \u001b[38;5;124m\"\u001b[39m\u001b[38;5;124mid_column\u001b[39m\u001b[38;5;124m\"\u001b[39m, id_column)\n\u001b[0;32m--> 278\u001b[0m \u001b[38;5;28;43mself\u001b[39;49m\u001b[38;5;241;43m.\u001b[39;49m\u001b[43mnode_id_property_name\u001b[49m\u001b[43m(\u001b[49m\u001b[43mnode_id_name\u001b[49m\u001b[43m)\u001b[49m\n\u001b[1;32m    280\u001b[0m \u001b[38;5;66;03m# Map the column_name -> schema mapped formatted string\u001b[39;00m\n\u001b[1;32m    281\u001b[0m col_to_schema_mapping \u001b[38;5;241m=\u001b[39m {}\n",
      "File \u001b[0;32m/opt/conda/lib/python3.8/site-packages/katana_enterprise/remote/dataframe_importer/__init__.py:304\u001b[0m, in \u001b[0;36mDataFrameImporter.node_id_property_name\u001b[0;34m(self, name)\u001b[0m\n\u001b[1;32m    296\u001b[0m \u001b[38;5;28;01mdef\u001b[39;00m \u001b[38;5;21mnode_id_property_name\u001b[39m(\u001b[38;5;28mself\u001b[39m, name: \u001b[38;5;28mstr\u001b[39m):\n\u001b[1;32m    297\u001b[0m     \u001b[38;5;124;03m\"\"\"\u001b[39;00m\n\u001b[1;32m    298\u001b[0m \u001b[38;5;124;03m    Set the name of the property to use for node ids explicitly.\u001b[39;00m\n\u001b[1;32m    299\u001b[0m \n\u001b[0;32m   (...)\u001b[0m\n\u001b[1;32m    302\u001b[0m \u001b[38;5;124;03m    the id property name.\u001b[39;00m\n\u001b[1;32m    303\u001b[0m \u001b[38;5;124;03m    \"\"\"\u001b[39;00m\n\u001b[0;32m--> 304\u001b[0m     \u001b[38;5;28;43mself\u001b[39;49m\u001b[38;5;241;43m.\u001b[39;49m\u001b[43m_node_info\u001b[49m\u001b[38;5;241;43m.\u001b[39;49m\u001b[43mid_column\u001b[49m \u001b[38;5;241m=\u001b[39m name\n",
      "File \u001b[0;32m/opt/conda/lib/python3.8/site-packages/katana_enterprise/remote/dataframe_importer/__init__.py:62\u001b[0m, in \u001b[0;36mDataFrameImporter.NodeGlobalInfo.id_column\u001b[0;34m(self, column_name)\u001b[0m\n\u001b[1;32m     60\u001b[0m \u001b[38;5;129m@id_column\u001b[39m\u001b[38;5;241m.\u001b[39msetter\n\u001b[1;32m     61\u001b[0m \u001b[38;5;28;01mdef\u001b[39;00m \u001b[38;5;21mid_column\u001b[39m(\u001b[38;5;28mself\u001b[39m, column_name: \u001b[38;5;28mstr\u001b[39m):\n\u001b[0;32m---> 62\u001b[0m     \u001b[43mDataFrameImporter\u001b[49m\u001b[38;5;241;43m.\u001b[39;49m\u001b[43m_ensure_column_name_consistent\u001b[49m\u001b[43m(\u001b[49m\u001b[38;5;28;43mself\u001b[39;49m\u001b[38;5;241;43m.\u001b[39;49m\u001b[43m_id_column\u001b[49m\u001b[43m,\u001b[49m\u001b[43m \u001b[49m\u001b[43mcolumn_name\u001b[49m\u001b[43m,\u001b[49m\u001b[43m \u001b[49m\u001b[38;5;124;43m\"\u001b[39;49m\u001b[38;5;124;43mNode id\u001b[39;49m\u001b[38;5;124;43m\"\u001b[39;49m\u001b[43m)\u001b[49m\n\u001b[1;32m     63\u001b[0m     \u001b[38;5;28mself\u001b[39m\u001b[38;5;241m.\u001b[39m_id_column \u001b[38;5;241m=\u001b[39m column_name\n",
      "File \u001b[0;32m/opt/conda/lib/python3.8/site-packages/katana_enterprise/remote/dataframe_importer/__init__.py:40\u001b[0m, in \u001b[0;36mDataFrameImporter._ensure_column_name_consistent\u001b[0;34m(orig, replacement, msg)\u001b[0m\n\u001b[1;32m     37\u001b[0m     \u001b[38;5;28;01mraise\u001b[39;00m \u001b[38;5;167;01mValueError\u001b[39;00m(\u001b[38;5;124mf\u001b[39m\u001b[38;5;124m\"\u001b[39m\u001b[38;5;132;01m{\u001b[39;00mmsg\u001b[38;5;132;01m}\u001b[39;00m\u001b[38;5;124m column name cannot be empty\u001b[39m\u001b[38;5;124m\"\u001b[39m)\n\u001b[1;32m     39\u001b[0m \u001b[38;5;28;01mif\u001b[39;00m orig \u001b[38;5;129;01mand\u001b[39;00m orig \u001b[38;5;241m!=\u001b[39m replacement:\n\u001b[0;32m---> 40\u001b[0m     \u001b[38;5;28;01mraise\u001b[39;00m \u001b[38;5;167;01mValueError\u001b[39;00m(\u001b[38;5;124mf\u001b[39m\u001b[38;5;124m\"\u001b[39m\u001b[38;5;132;01m{\u001b[39;00mmsg\u001b[38;5;132;01m}\u001b[39;00m\u001b[38;5;124m column name must be consistent\u001b[39m\u001b[38;5;124m\"\u001b[39m)\n",
      "\u001b[0;31mValueError\u001b[0m: Node id column name must be consistent"
     ]
    }
   ],
   "source": [
    "\n",
    "\n",
    "with import_data.DataFrameImporter(my_graph) as df_importer:\n",
    "    \n",
    "   df_importer.nodes_dataframe(\n",
    "      df_orders[[\n",
    "         \"order_num\", \"order_name\", \"total\", \"LABEL\"\n",
    "      ]],\n",
    "      id_column  = \"order_num\",\n",
    "      id_space   = \"Orders\"\n",
    "      )\n",
    "    \n",
    "   df_importer.nodes_dataframe(\n",
    "      df_products[[\n",
    "         \"product_num\", \"product_name\", \"unit_price\", \"LABEL\"\n",
    "      ]],\n",
    "      id_column  = \"product_num\",\n",
    "      id_space   = \"Products\"\n",
    "      )\n",
    "    \n",
    "   df_importer.edges_dataframe(\n",
    "      df_purchased[[\n",
    "         \"order_num\", \"product_num\", \"TYPE\"]],\n",
    "      source_id_space      = \"Orders\",\n",
    "      destination_id_space = \"Products\",\n",
    "      source_column        = \"order_num\",\n",
    "      destination_column   = \"product_num\",\n",
    "      type                 = \"RELATES_TO\"\n",
    "      )\n",
    "   df_importer.edges_dataframe(\n",
    "      df_purchased[[\n",
    "         \"order_num\", \"product_num\", \"TYPE\"]],\n",
    "      source_id_space      = \"Products\",\n",
    "      destination_id_space = \"Orders\",\n",
    "      source_column        = \"product_num\",\n",
    "      destination_column   = \"order_num\",\n",
    "      type                 = \"RELATES_TO\"\n",
    "      )\n",
    "\n",
    "   df_importer.insert()\n",
    "\n",
    "print(\"--\")\n",
    "\n"
   ]
  },
  {
   "cell_type": "code",
   "execution_count": null,
   "id": "767f43ac-c87d-4190-ba1d-38c4c0b33f0d",
   "metadata": {},
   "outputs": [],
   "source": []
  },
  {
   "cell_type": "code",
   "execution_count": null,
   "id": "6294487e-5701-4a99-b1df-9b3608910f94",
   "metadata": {},
   "outputs": [],
   "source": []
  },
  {
   "cell_type": "code",
   "execution_count": null,
   "id": "0d693b09-2a3a-4836-b5b4-76834e14efe5",
   "metadata": {},
   "outputs": [],
   "source": []
  },
  {
   "cell_type": "code",
   "execution_count": null,
   "id": "002ae7f2-8308-4d57-a39c-b38cc95d17b9",
   "metadata": {},
   "outputs": [],
   "source": []
  },
  {
   "cell_type": "code",
   "execution_count": null,
   "id": "4850ba7c-2314-44be-972e-51ef90f2cb71",
   "metadata": {},
   "outputs": [],
   "source": [
    "\n",
    "#  What's in the vertices/nodes ..\n",
    "\n",
    "l_result = my_graph.query(\"\"\"\n",
    "\n",
    "   MATCH ( n ) \n",
    "   RETURN n\n",
    "   \n",
    "   \"\"\")\n",
    "\n",
    "print(l_result[0:30])\n"
   ]
  },
  {
   "cell_type": "code",
   "execution_count": null,
   "id": "7dc52e1a-e51e-4610-b9aa-8af39689000e",
   "metadata": {},
   "outputs": [],
   "source": [
    "\n",
    "for l_each in df_purchased.iterrows():\n",
    "    \n",
    "   l_startid    = l_each[1][0]\n",
    "   l_endid      = l_each[1][1]\n",
    "   l_type       = l_each[1][2]\n",
    "    \n",
    "   l_query = \"\"\"\n",
    "      \n",
    "      MATCH (n: Order  ) WHERE n.order_num   = {0}\n",
    "      MATCH (m: Product) WHERE m.product_num = {1}\n",
    "      CREATE (n) -[r: {2} ]-> (m)\n",
    "      \n",
    "      \"\"\".format(l_startid, l_endid, l_type)\n",
    "    \n",
    "   l_result0 = my_graph.query(l_query)\n",
    "\n",
    "print(\"--\")\n"
   ]
  },
  {
   "cell_type": "code",
   "execution_count": null,
   "id": "6160bd57-15aa-4ff0-9269-9431e6f7dd2b",
   "metadata": {},
   "outputs": [],
   "source": [
    "#  What's in the graph .. \n",
    "\n",
    "l_result = my_graph.query(\"\"\"\n",
    "\n",
    "   MATCH (n) - [ r ] -> (m)\n",
    "   RETURN n, m, r\n",
    "   \n",
    "   \"\"\", contextualize=True)\n",
    "\n",
    "l_result.view()\n"
   ]
  },
  {
   "cell_type": "markdown",
   "id": "67b8ec21-6da9-4eba-86d9-593de9e79690",
   "metadata": {},
   "source": [
    "#  Finally now; Why we're here .."
   ]
  },
  {
   "cell_type": "code",
   "execution_count": null,
   "id": "86c96301-e7d9-4fd8-9a57-737b5c7ea6b3",
   "metadata": {},
   "outputs": [],
   "source": [
    "#  The traversal we are trying to run ..\n",
    "\n",
    "l_result = my_graph.query(\"\"\"\n",
    "\n",
    "   //  Just fetching, works\n",
    "   //\n",
    "   MATCH (n: Order) - [r :CONTAINS ] -> (m: Product)\n",
    "   RETURN n, sum(m.unit_price) AS x_cost\n",
    "   \n",
    "   //  Closest to original question, throws error\n",
    "   //\n",
    "   // MATCH (n: Order) - [r :CONTAINS ] -> (m: Product)\n",
    "   // WITH n, sum(m.unit_price) AS x_cost\n",
    "   // SET Order.total = x_cost\n",
    "   //\n",
    "   //  OperationError: backtrace (QueryClient.cpp:391): unable to translate openCypher parse tree to internal IR (OpGraph.cpp:226):\n",
    "   //  Syntax error: The query cannot be recognized by openCypher. (CypherOpGraphBuilder.cpp:63): TCK = SyntaxError:UnexpectedSyntax\n",
    "   //  Katana = SyntaxError:ParserError: TCK = SyntaxError:UnexpectedSyntax\n",
    "   //  Katana = SyntaxError:ParserError\n",
    "   \n",
    "   //  This also errors ..\n",
    "   //\n",
    "   // MATCH (n: Order) - [r :CONTAINS ] -> (m: Product)\n",
    "   // WITH sum(m.unit_price) AS x_cost\n",
    "   // SET Order.total = x_cost\n",
    "   \n",
    "   \"\"\", contextualize=True)\n",
    "\n",
    "l_result.view()\n",
    "\n",
    "\n",
    "#  Exact, original syntax ..\n",
    "#\n",
    "#  MATCH (loan)-[:hasLoanSnapshot]->(snapshot)\n",
    "#  WITH loan, sum(snapshot.loan_snapshot_flag) as loan_snapshots\n",
    "#  SET loan.loan_flag = loan_snapshots\n",
    "\n"
   ]
  }
 ],
 "metadata": {
  "kernelspec": {
   "display_name": "Python 3 (ipykernel)",
   "language": "python",
   "name": "python3"
  },
  "language_info": {
   "codemirror_mode": {
    "name": "ipython",
    "version": 3
   },
   "file_extension": ".py",
   "mimetype": "text/x-python",
   "name": "python",
   "nbconvert_exporter": "python",
   "pygments_lexer": "ipython3",
   "version": "3.8.13"
  }
 },
 "nbformat": 4,
 "nbformat_minor": 5
}
