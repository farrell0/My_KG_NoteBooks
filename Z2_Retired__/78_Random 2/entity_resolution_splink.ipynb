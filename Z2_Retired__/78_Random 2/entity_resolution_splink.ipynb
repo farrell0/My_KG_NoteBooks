{
 "cells": [
  {
   "cell_type": "markdown",
   "id": "40625b68-4a15-40e3-a075-bccd8fc9cd9b",
   "metadata": {},
   "source": [
    "# Requirements"
   ]
  },
  {
   "cell_type": "markdown",
   "id": "ae39d932-d1e7-490e-b9e8-eb57e85225c8",
   "metadata": {},
   "source": [
    "##### Requirements are found [here](https://....)"
   ]
  },
  {
   "cell_type": "markdown",
   "id": "d7fd39b5-0931-408c-9af5-876797a9a813",
   "metadata": {},
   "source": [
    "---"
   ]
  },
  {
   "cell_type": "markdown",
   "id": "ae2338e3-10ad-45c4-9e71-be3894e85318",
   "metadata": {
    "tags": []
   },
   "source": [
    "## Connect to the cluster"
   ]
  },
  {
   "cell_type": "markdown",
   "id": "62c8ddb0-afe4-40d1-80ff-064366e846dd",
   "metadata": {},
   "source": [
    "Run this command in separate terminal to forward port from Katana controller node"
   ]
  },
  {
   "cell_type": "markdown",
   "id": "d0b66eef-326c-4a07-98d9-1754f6628cd9",
   "metadata": {},
   "source": [
    "```gcloud compute ssh --zone us-east1-b --project katana-internal14 katana-controller -- -NL 8080:127.0.0.1:8080 -vvv ```"
   ]
  },
  {
   "cell_type": "markdown",
   "id": "4a0a914a-6894-47f7-be00-7f519f0c488d",
   "metadata": {},
   "source": [
    "Connect local Docker container to Katana Controller"
   ]
  },
  {
   "cell_type": "code",
   "execution_count": 1,
   "id": "46f143ed-bc3d-4c28-ab0b-f3a3f21a59d8",
   "metadata": {},
   "outputs": [],
   "source": [
    "import os                                                                        \n",
    "import time                                                                      \n",
    "import pandas as pd\n",
    "from timeit import default_timer as timer\n",
    "\n",
    "from katana import remote\n",
    "from katana.remote import import_data\n",
    "from katana.remote.import_data import Operation\n",
    "cluster_name=\"katana-internal14\"\n",
    "num_partitions = 1\n",
    "\n",
    "\n",
    "os.environ[\"KATANA_SERVER_ADDRESS\"] = \"host.docker.internal:8080\""
   ]
  },
  {
   "cell_type": "code",
   "execution_count": 148,
   "id": "b5501250-930a-460d-9eda-7c226a0fa44b",
   "metadata": {},
   "outputs": [
    {
     "data": {
      "text/html": [
       "\n",
       "                    <script type=\"text/javascript\">\n",
       "                        (function () {\n",
       "                            window.open(\"http://localhost:8080/v2/widgets/katana-frontend\", \"_blank\").focus()\n",
       "                        })()\n",
       "                    </script>\n",
       "                "
      ],
      "text/plain": [
       "<IPython.core.display.HTML object>"
      ]
     },
     "metadata": {},
     "output_type": "display_data"
    }
   ],
   "source": [
    "remote.Client().widgets().dashboard()"
   ]
  },
  {
   "cell_type": "markdown",
   "id": "d5e2082e-222a-4848-ac55-70d1f53bc076",
   "metadata": {
    "tags": []
   },
   "source": [
    "## Setup for Splink"
   ]
  },
  {
   "cell_type": "markdown",
   "id": "5c1c444e-fa85-4176-9884-5065a40c4153",
   "metadata": {},
   "source": [
    "Insall the following :\n",
    "\n",
    "```\n",
    "pip install splink\n",
    "pip install pyspark\n",
    "pip install altair\n",
    "\n",
    "apt-get update\n",
    "apt install default-jre\n",
    "```\n",
    "For spark, either install it, or use the utility_functions/demo_utils.py file...\n"
   ]
  },
  {
   "cell_type": "code",
   "execution_count": 3,
   "id": "2073ccf9-cc9a-400b-ab7b-399f2b5cd0b3",
   "metadata": {},
   "outputs": [
    {
     "name": "stderr",
     "output_type": "stream",
     "text": [
      "21/09/20 00:47:26 WARN SimpleFunctionRegistry: The function jaro_winkler_sim replaced a previously registered function.\n",
      "21/09/20 00:47:26 WARN SimpleFunctionRegistry: The function dmetaphone replaced a previously registered function.\n"
     ]
    }
   ],
   "source": [
    "import pandas as pd \n",
    "import logging \n",
    "import pyspark\n",
    "from splink import Splink\n",
    "from utility_functions.demo_utils import get_spark\n",
    "\n",
    "pd.options.display.max_columns = 500\n",
    "pd.options.display.max_rows = 100\n",
    "\n",
    "logging.basicConfig()  # Means logs will print in Jupyter Lab\n",
    "\n",
    "# Set to DEBUG if you want splink to log the SQL statements it's executing under the hood\n",
    "logging.getLogger(\"splink\").setLevel(logging.INFO)\n",
    "\n",
    "spark = get_spark() # See utility_functions/demo_utils.py for how to set up Spark"
   ]
  },
  {
   "cell_type": "code",
   "execution_count": 4,
   "id": "807003bc-1f0e-4f9d-8e1d-21d9d294d9d1",
   "metadata": {},
   "outputs": [
    {
     "name": "stdout",
     "output_type": "stream",
     "text": [
      "+---------+----------+-------+----------+------+--------------------+-----+\n",
      "|unique_id|first_name|surname|       dob|  city|               email|group|\n",
      "+---------+----------+-------+----------+------+--------------------+-----+\n",
      "|        0|    Robert|   Alan|1971-06-24|  null| robert255@smith.net|    0|\n",
      "|        1|    Robert|  Allen|1971-05-24|  null| roberta25@smith.net|    0|\n",
      "|        2|       Rob|  Allen|1971-06-24|London| roberta25@smith.net|    0|\n",
      "|        3|    Robert|   Alen|1971-06-24| Lonon|                null|    0|\n",
      "|        4|     Grace|   null|1997-04-26|  Hull|grace.kelly52@jon...|    1|\n",
      "+---------+----------+-------+----------+------+--------------------+-----+\n",
      "only showing top 5 rows\n",
      "\n"
     ]
    }
   ],
   "source": [
    "df = spark.read.csv(\"fake_1000.csv\", header=True)\n",
    "df.show(5)"
   ]
  },
  {
   "cell_type": "code",
   "execution_count": 5,
   "id": "722f53c1-50b1-44c8-b42f-53845846864a",
   "metadata": {},
   "outputs": [
    {
     "data": {
      "application/vnd.vegalite.v4+json": {
       "$schema": "https://vega.github.io/schema/vega-lite/v4.8.1.json",
       "config": {
        "view": {
         "continuousHeight": 300,
         "continuousWidth": 400
        }
       },
       "vconcat": [
        {
         "hconcat": [
          {
           "data": {
            "values": [
             {
              "distinct_value_count": 335,
              "group_name": "first_name",
              "percentile_ex_nulls": 1,
              "percentile_inc_nulls": 1,
              "sum_tokens_in_value_count_group": 28,
              "total_non_null_rows": 831,
              "total_rows_inc_nulls": 1000,
              "value_count": 28
             },
             {
              "distinct_value_count": 335,
              "percentile_ex_nulls": 0.9663056558363418,
              "percentile_inc_nulls": 0.972,
              "proportion_of_non_null_rows": 0.03369434416365824,
              "sum_tokens_in_value_count_group": 28,
              "total_non_null_rows": 831,
              "total_rows_inc_nulls": 1000,
              "value_count": 28
             },
             {
              "distinct_value_count": 335,
              "percentile_ex_nulls": 0.9470517448856799,
              "percentile_inc_nulls": 0.956,
              "proportion_of_non_null_rows": 0.019253910950661854,
              "sum_tokens_in_value_count_group": 16,
              "total_non_null_rows": 831,
              "total_rows_inc_nulls": 1000,
              "value_count": 16
             },
             {
              "distinct_value_count": 335,
              "percentile_ex_nulls": 0.9290012033694344,
              "percentile_inc_nulls": 0.9410000000000001,
              "proportion_of_non_null_rows": 0.018050541516245487,
              "sum_tokens_in_value_count_group": 15,
              "total_non_null_rows": 831,
              "total_rows_inc_nulls": 1000,
              "value_count": 15
             },
             {
              "distinct_value_count": 335,
              "percentile_ex_nulls": 0.9121540312876053,
              "percentile_inc_nulls": 0.927,
              "proportion_of_non_null_rows": 0.01684717208182912,
              "sum_tokens_in_value_count_group": 14,
              "total_non_null_rows": 831,
              "total_rows_inc_nulls": 1000,
              "value_count": 14
             },
             {
              "distinct_value_count": 335,
              "percentile_ex_nulls": 0.8965102286401926,
              "percentile_inc_nulls": 0.914,
              "proportion_of_non_null_rows": 0.015643802647412757,
              "sum_tokens_in_value_count_group": 13,
              "total_non_null_rows": 831,
              "total_rows_inc_nulls": 1000,
              "value_count": 13
             },
             {
              "distinct_value_count": 335,
              "percentile_ex_nulls": 0.8820697954271961,
              "percentile_inc_nulls": 0.902,
              "proportion_of_non_null_rows": 0.01444043321299639,
              "sum_tokens_in_value_count_group": 12,
              "total_non_null_rows": 831,
              "total_rows_inc_nulls": 1000,
              "value_count": 12
             },
             {
              "distinct_value_count": 335,
              "percentile_ex_nulls": 0.8423586040914561,
              "percentile_inc_nulls": 0.869,
              "proportion_of_non_null_rows": 0.039711191335740074,
              "sum_tokens_in_value_count_group": 33,
              "total_non_null_rows": 831,
              "total_rows_inc_nulls": 1000,
              "value_count": 11
             },
             {
              "distinct_value_count": 335,
              "percentile_ex_nulls": 0.8182912154031288,
              "percentile_inc_nulls": 0.849,
              "proportion_of_non_null_rows": 0.024067388688327317,
              "sum_tokens_in_value_count_group": 20,
              "total_non_null_rows": 831,
              "total_rows_inc_nulls": 1000,
              "value_count": 10
             },
             {
              "distinct_value_count": 335,
              "percentile_ex_nulls": 0.7641395908543923,
              "percentile_inc_nulls": 0.804,
              "proportion_of_non_null_rows": 0.05415162454873646,
              "sum_tokens_in_value_count_group": 45,
              "total_non_null_rows": 831,
              "total_rows_inc_nulls": 1000,
              "value_count": 9
             },
             {
              "distinct_value_count": 335,
              "percentile_ex_nulls": 0.7352587244283995,
              "percentile_inc_nulls": 0.78,
              "proportion_of_non_null_rows": 0.02888086642599278,
              "sum_tokens_in_value_count_group": 24,
              "total_non_null_rows": 831,
              "total_rows_inc_nulls": 1000,
              "value_count": 8
             },
             {
              "distinct_value_count": 335,
              "percentile_ex_nulls": 0.7015643802647413,
              "percentile_inc_nulls": 0.752,
              "proportion_of_non_null_rows": 0.03369434416365824,
              "sum_tokens_in_value_count_group": 28,
              "total_non_null_rows": 831,
              "total_rows_inc_nulls": 1000,
              "value_count": 7
             },
             {
              "distinct_value_count": 335,
              "percentile_ex_nulls": 0.6293622141997594,
              "percentile_inc_nulls": 0.692,
              "proportion_of_non_null_rows": 0.07220216606498195,
              "sum_tokens_in_value_count_group": 60,
              "total_non_null_rows": 831,
              "total_rows_inc_nulls": 1000,
              "value_count": 6
             },
             {
              "distinct_value_count": 335,
              "percentile_ex_nulls": 0.5391095066185319,
              "percentile_inc_nulls": 0.617,
              "proportion_of_non_null_rows": 0.09025270758122744,
              "sum_tokens_in_value_count_group": 75,
              "total_non_null_rows": 831,
              "total_rows_inc_nulls": 1000,
              "value_count": 5
             },
             {
              "distinct_value_count": 335,
              "percentile_ex_nulls": 0.42358604091456076,
              "percentile_inc_nulls": 0.521,
              "proportion_of_non_null_rows": 0.11552346570397112,
              "sum_tokens_in_value_count_group": 96,
              "total_non_null_rows": 831,
              "total_rows_inc_nulls": 1000,
              "value_count": 4
             },
             {
              "distinct_value_count": 335,
              "percentile_ex_nulls": 0.3369434416365824,
              "percentile_inc_nulls": 0.44899999999999995,
              "proportion_of_non_null_rows": 0.08664259927797834,
              "sum_tokens_in_value_count_group": 72,
              "total_non_null_rows": 831,
              "total_rows_inc_nulls": 1000,
              "value_count": 3
             },
             {
              "distinct_value_count": 335,
              "percentile_ex_nulls": 0.2382671480144405,
              "percentile_inc_nulls": 0.367,
              "proportion_of_non_null_rows": 0.098676293622142,
              "sum_tokens_in_value_count_group": 82,
              "total_non_null_rows": 831,
              "total_rows_inc_nulls": 1000,
              "value_count": 2
             },
             {
              "distinct_value_count": 335,
              "percentile_ex_nulls": 0,
              "percentile_inc_nulls": 0.16900000000000004,
              "proportion_of_non_null_rows": 0.23826714801444043,
              "sum_tokens_in_value_count_group": 198,
              "total_non_null_rows": 831,
              "total_rows_inc_nulls": 1000,
              "value_count": 1
             }
            ]
           },
           "encoding": {
            "tooltip": [
             {
              "field": "value_count",
              "type": "quantitative"
             },
             {
              "field": "percentile_ex_nulls",
              "type": "quantitative"
             },
             {
              "field": "percentile_inc_nulls",
              "type": "quantitative"
             },
             {
              "field": "total_non_null_rows",
              "type": "quantitative"
             },
             {
              "field": "total_rows_inc_nulls",
              "type": "quantitative"
             },
             {
              "field": "proportion_of_non_null_rows",
              "type": "quantitative"
             }
            ],
            "x": {
             "field": "percentile_ex_nulls",
             "sort": "descending",
             "title": "Percentile",
             "type": "quantitative"
            },
            "y": {
             "field": "value_count",
             "title": "Count of values",
             "type": "quantitative"
            }
           },
           "mark": {
            "interpolate": "step-after",
            "type": "line"
           },
           "title": {
            "subtitle": "In this col, 169 values (16.9%) are null and there are 335 distinct values",
            "text": "Distribution of counts of values in column first_name"
           }
          },
          {
           "data": {
            "values": [
             {
              "distinct_value_count": 335,
              "total_non_null_rows": 831,
              "total_rows_inc_nulls": 1000,
              "value": "Oliver",
              "value_count": 28
             },
             {
              "distinct_value_count": 335,
              "total_non_null_rows": 831,
              "total_rows_inc_nulls": 1000,
              "value": "Jacob",
              "value_count": 16
             },
             {
              "distinct_value_count": 335,
              "total_non_null_rows": 831,
              "total_rows_inc_nulls": 1000,
              "value": "Freddie",
              "value_count": 15
             },
             {
              "distinct_value_count": 335,
              "total_non_null_rows": 831,
              "total_rows_inc_nulls": 1000,
              "value": "Olivia",
              "value_count": 14
             },
             {
              "distinct_value_count": 335,
              "total_non_null_rows": 831,
              "total_rows_inc_nulls": 1000,
              "value": "James",
              "value_count": 13
             },
             {
              "distinct_value_count": 335,
              "total_non_null_rows": 831,
              "total_rows_inc_nulls": 1000,
              "value": "George",
              "value_count": 12
             },
             {
              "distinct_value_count": 335,
              "total_non_null_rows": 831,
              "total_rows_inc_nulls": 1000,
              "value": "Elizabeth",
              "value_count": 11
             },
             {
              "distinct_value_count": 335,
              "total_non_null_rows": 831,
              "total_rows_inc_nulls": 1000,
              "value": "Alfie",
              "value_count": 11
             },
             {
              "distinct_value_count": 335,
              "total_non_null_rows": 831,
              "total_rows_inc_nulls": 1000,
              "value": "Jessica",
              "value_count": 11
             },
             {
              "distinct_value_count": 335,
              "total_non_null_rows": 831,
              "total_rows_inc_nulls": 1000,
              "value": "Theodore",
              "value_count": 10
             },
             {
              "distinct_value_count": 335,
              "total_non_null_rows": 831,
              "total_rows_inc_nulls": 1000,
              "value": "Logan",
              "value_count": 10
             },
             {
              "distinct_value_count": 335,
              "total_non_null_rows": 831,
              "total_rows_inc_nulls": 1000,
              "value": "Henry",
              "value_count": 9
             },
             {
              "distinct_value_count": 335,
              "total_non_null_rows": 831,
              "total_rows_inc_nulls": 1000,
              "value": "Isla",
              "value_count": 9
             },
             {
              "distinct_value_count": 335,
              "total_non_null_rows": 831,
              "total_rows_inc_nulls": 1000,
              "value": "Harry",
              "value_count": 9
             },
             {
              "distinct_value_count": 335,
              "total_non_null_rows": 831,
              "total_rows_inc_nulls": 1000,
              "value": "Amelia",
              "value_count": 9
             },
             {
              "distinct_value_count": 335,
              "total_non_null_rows": 831,
              "total_rows_inc_nulls": 1000,
              "value": "Mason",
              "value_count": 9
             },
             {
              "distinct_value_count": 335,
              "total_non_null_rows": 831,
              "total_rows_inc_nulls": 1000,
              "value": "Lola",
              "value_count": 8
             },
             {
              "distinct_value_count": 335,
              "total_non_null_rows": 831,
              "total_rows_inc_nulls": 1000,
              "value": "Isabelle",
              "value_count": 8
             },
             {
              "distinct_value_count": 335,
              "total_non_null_rows": 831,
              "total_rows_inc_nulls": 1000,
              "value": "Jayden",
              "value_count": 8
             },
             {
              "distinct_value_count": 335,
              "total_non_null_rows": 831,
              "total_rows_inc_nulls": 1000,
              "value": "Scarlett",
              "value_count": 7
             }
            ]
           },
           "encoding": {
            "tooltip": [
             {
              "field": "value",
              "type": "nominal"
             },
             {
              "field": "value_count",
              "type": "quantitative"
             },
             {
              "field": "total_non_null_rows",
              "type": "quantitative"
             },
             {
              "field": "total_rows_inc_nulls",
              "type": "quantitative"
             }
            ],
            "x": {
             "field": "value",
             "sort": "-y",
             "title": null,
             "type": "nominal"
            },
            "y": {
             "field": "value_count",
             "title": "Value count",
             "type": "quantitative"
            }
           },
           "mark": "bar",
           "title": "Top 20 values by value count"
          },
          {
           "data": {
            "values": [
             {
              "distinct_value_count": 335,
              "total_non_null_rows": 831,
              "total_rows_inc_nulls": 1000,
              "value": "eTheodroe",
              "value_count": 1
             },
             {
              "distinct_value_count": 335,
              "total_non_null_rows": 831,
              "total_rows_inc_nulls": 1000,
              "value": "Icsac",
              "value_count": 1
             },
             {
              "distinct_value_count": 335,
              "total_non_null_rows": 831,
              "total_rows_inc_nulls": 1000,
              "value": "Oievr",
              "value_count": 1
             },
             {
              "distinct_value_count": 335,
              "total_non_null_rows": 831,
              "total_rows_inc_nulls": 1000,
              "value": "Harr",
              "value_count": 1
             },
             {
              "distinct_value_count": 335,
              "total_non_null_rows": 831,
              "total_rows_inc_nulls": 1000,
              "value": "Molly",
              "value_count": 1
             },
             {
              "distinct_value_count": 335,
              "total_non_null_rows": 831,
              "total_rows_inc_nulls": 1000,
              "value": "Eloilt",
              "value_count": 1
             },
             {
              "distinct_value_count": 335,
              "total_non_null_rows": 831,
              "total_rows_inc_nulls": 1000,
              "value": "iElliot",
              "value_count": 1
             },
             {
              "distinct_value_count": 335,
              "total_non_null_rows": 831,
              "total_rows_inc_nulls": 1000,
              "value": "Fdedrie",
              "value_count": 1
             },
             {
              "distinct_value_count": 335,
              "total_non_null_rows": 831,
              "total_rows_inc_nulls": 1000,
              "value": "David",
              "value_count": 1
             },
             {
              "distinct_value_count": 335,
              "total_non_null_rows": 831,
              "total_rows_inc_nulls": 1000,
              "value": "Nicholson",
              "value_count": 1
             }
            ]
           },
           "encoding": {
            "tooltip": [
             {
              "field": "value",
              "type": "nominal"
             },
             {
              "field": "value_count",
              "type": "quantitative"
             },
             {
              "field": "total_non_null_rows",
              "type": "quantitative"
             },
             {
              "field": "total_rows_inc_nulls",
              "type": "quantitative"
             }
            ],
            "x": {
             "field": "value",
             "sort": "-y",
             "title": null,
             "type": "nominal"
            },
            "y": {
             "field": "value_count",
             "scale": {
              "domain": [
               0,
               28
              ]
             },
             "title": "Value count",
             "type": "quantitative"
            }
           },
           "mark": "bar",
           "title": "Bottom 10 values by value count"
          }
         ]
        },
        {
         "hconcat": [
          {
           "data": {
            "values": [
             {
              "distinct_value_count": 565,
              "group_name": "dob",
              "percentile_ex_nulls": 1,
              "percentile_inc_nulls": 1,
              "sum_tokens_in_value_count_group": 90,
              "total_non_null_rows": 1000,
              "total_rows_inc_nulls": 1000,
              "value_count": 6
             },
             {
              "distinct_value_count": 565,
              "percentile_ex_nulls": 0.91,
              "percentile_inc_nulls": 0.91,
              "proportion_of_non_null_rows": 0.09,
              "sum_tokens_in_value_count_group": 90,
              "total_non_null_rows": 1000,
              "total_rows_inc_nulls": 1000,
              "value_count": 6
             },
             {
              "distinct_value_count": 565,
              "percentile_ex_nulls": 0.8049999999999999,
              "percentile_inc_nulls": 0.8049999999999999,
              "proportion_of_non_null_rows": 0.105,
              "sum_tokens_in_value_count_group": 105,
              "total_non_null_rows": 1000,
              "total_rows_inc_nulls": 1000,
              "value_count": 5
             },
             {
              "distinct_value_count": 565,
              "percentile_ex_nulls": 0.653,
              "percentile_inc_nulls": 0.653,
              "proportion_of_non_null_rows": 0.152,
              "sum_tokens_in_value_count_group": 152,
              "total_non_null_rows": 1000,
              "total_rows_inc_nulls": 1000,
              "value_count": 4
             },
             {
              "distinct_value_count": 565,
              "percentile_ex_nulls": 0.509,
              "percentile_inc_nulls": 0.509,
              "proportion_of_non_null_rows": 0.144,
              "sum_tokens_in_value_count_group": 144,
              "total_non_null_rows": 1000,
              "total_rows_inc_nulls": 1000,
              "value_count": 3
             },
             {
              "distinct_value_count": 565,
              "percentile_ex_nulls": 0.377,
              "percentile_inc_nulls": 0.377,
              "proportion_of_non_null_rows": 0.132,
              "sum_tokens_in_value_count_group": 132,
              "total_non_null_rows": 1000,
              "total_rows_inc_nulls": 1000,
              "value_count": 2
             },
             {
              "distinct_value_count": 565,
              "percentile_ex_nulls": 0,
              "percentile_inc_nulls": 0,
              "proportion_of_non_null_rows": 0.377,
              "sum_tokens_in_value_count_group": 377,
              "total_non_null_rows": 1000,
              "total_rows_inc_nulls": 1000,
              "value_count": 1
             }
            ]
           },
           "encoding": {
            "tooltip": [
             {
              "field": "value_count",
              "type": "quantitative"
             },
             {
              "field": "percentile_ex_nulls",
              "type": "quantitative"
             },
             {
              "field": "percentile_inc_nulls",
              "type": "quantitative"
             },
             {
              "field": "total_non_null_rows",
              "type": "quantitative"
             },
             {
              "field": "total_rows_inc_nulls",
              "type": "quantitative"
             },
             {
              "field": "proportion_of_non_null_rows",
              "type": "quantitative"
             }
            ],
            "x": {
             "field": "percentile_ex_nulls",
             "sort": "descending",
             "title": "Percentile",
             "type": "quantitative"
            },
            "y": {
             "field": "value_count",
             "title": "Count of values",
             "type": "quantitative"
            }
           },
           "mark": {
            "interpolate": "step-after",
            "type": "line"
           },
           "title": {
            "subtitle": "In this col, 0 values (0.0%) are null and there are 565 distinct values",
            "text": "Distribution of counts of values in column dob"
           }
          },
          {
           "data": {
            "values": [
             {
              "distinct_value_count": 565,
              "total_non_null_rows": 1000,
              "total_rows_inc_nulls": 1000,
              "value": "2008-02-23",
              "value_count": 6
             },
             {
              "distinct_value_count": 565,
              "total_non_null_rows": 1000,
              "total_rows_inc_nulls": 1000,
              "value": "1972-06-12",
              "value_count": 6
             },
             {
              "distinct_value_count": 565,
              "total_non_null_rows": 1000,
              "total_rows_inc_nulls": 1000,
              "value": "2011-05-26",
              "value_count": 6
             },
             {
              "distinct_value_count": 565,
              "total_non_null_rows": 1000,
              "total_rows_inc_nulls": 1000,
              "value": "1973-03-23",
              "value_count": 6
             },
             {
              "distinct_value_count": 565,
              "total_non_null_rows": 1000,
              "total_rows_inc_nulls": 1000,
              "value": "2002-09-15",
              "value_count": 6
             },
             {
              "distinct_value_count": 565,
              "total_non_null_rows": 1000,
              "total_rows_inc_nulls": 1000,
              "value": "1990-03-08",
              "value_count": 6
             },
             {
              "distinct_value_count": 565,
              "total_non_null_rows": 1000,
              "total_rows_inc_nulls": 1000,
              "value": "2006-12-21",
              "value_count": 6
             },
             {
              "distinct_value_count": 565,
              "total_non_null_rows": 1000,
              "total_rows_inc_nulls": 1000,
              "value": "1983-11-06",
              "value_count": 6
             },
             {
              "distinct_value_count": 565,
              "total_non_null_rows": 1000,
              "total_rows_inc_nulls": 1000,
              "value": "1995-06-21",
              "value_count": 6
             },
             {
              "distinct_value_count": 565,
              "total_non_null_rows": 1000,
              "total_rows_inc_nulls": 1000,
              "value": "2000-04-03",
              "value_count": 6
             },
             {
              "distinct_value_count": 565,
              "total_non_null_rows": 1000,
              "total_rows_inc_nulls": 1000,
              "value": "2017-01-11",
              "value_count": 6
             },
             {
              "distinct_value_count": 565,
              "total_non_null_rows": 1000,
              "total_rows_inc_nulls": 1000,
              "value": "2010-06-22",
              "value_count": 6
             },
             {
              "distinct_value_count": 565,
              "total_non_null_rows": 1000,
              "total_rows_inc_nulls": 1000,
              "value": "1991-04-12",
              "value_count": 6
             },
             {
              "distinct_value_count": 565,
              "total_non_null_rows": 1000,
              "total_rows_inc_nulls": 1000,
              "value": "1973-09-29",
              "value_count": 6
             },
             {
              "distinct_value_count": 565,
              "total_non_null_rows": 1000,
              "total_rows_inc_nulls": 1000,
              "value": "2009-07-06",
              "value_count": 6
             },
             {
              "distinct_value_count": 565,
              "total_non_null_rows": 1000,
              "total_rows_inc_nulls": 1000,
              "value": "1980-06-29",
              "value_count": 5
             },
             {
              "distinct_value_count": 565,
              "total_non_null_rows": 1000,
              "total_rows_inc_nulls": 1000,
              "value": "1974-11-17",
              "value_count": 5
             },
             {
              "distinct_value_count": 565,
              "total_non_null_rows": 1000,
              "total_rows_inc_nulls": 1000,
              "value": "2013-10-15",
              "value_count": 5
             },
             {
              "distinct_value_count": 565,
              "total_non_null_rows": 1000,
              "total_rows_inc_nulls": 1000,
              "value": "1970-12-17",
              "value_count": 5
             },
             {
              "distinct_value_count": 565,
              "total_non_null_rows": 1000,
              "total_rows_inc_nulls": 1000,
              "value": "1983-03-16",
              "value_count": 5
             }
            ]
           },
           "encoding": {
            "tooltip": [
             {
              "field": "value",
              "type": "nominal"
             },
             {
              "field": "value_count",
              "type": "quantitative"
             },
             {
              "field": "total_non_null_rows",
              "type": "quantitative"
             },
             {
              "field": "total_rows_inc_nulls",
              "type": "quantitative"
             }
            ],
            "x": {
             "field": "value",
             "sort": "-y",
             "title": null,
             "type": "nominal"
            },
            "y": {
             "field": "value_count",
             "title": "Value count",
             "type": "quantitative"
            }
           },
           "mark": "bar",
           "title": "Top 20 values by value count"
          },
          {
           "data": {
            "values": [
             {
              "distinct_value_count": 565,
              "total_non_null_rows": 1000,
              "total_rows_inc_nulls": 1000,
              "value": "1981-10-11",
              "value_count": 1
             },
             {
              "distinct_value_count": 565,
              "total_non_null_rows": 1000,
              "total_rows_inc_nulls": 1000,
              "value": "1994-01-02",
              "value_count": 1
             },
             {
              "distinct_value_count": 565,
              "total_non_null_rows": 1000,
              "total_rows_inc_nulls": 1000,
              "value": "1991-04-05",
              "value_count": 1
             },
             {
              "distinct_value_count": 565,
              "total_non_null_rows": 1000,
              "total_rows_inc_nulls": 1000,
              "value": "1984-10-03",
              "value_count": 1
             },
             {
              "distinct_value_count": 565,
              "total_non_null_rows": 1000,
              "total_rows_inc_nulls": 1000,
              "value": "1978-09-18",
              "value_count": 1
             },
             {
              "distinct_value_count": 565,
              "total_non_null_rows": 1000,
              "total_rows_inc_nulls": 1000,
              "value": "2010-01-02",
              "value_count": 1
             },
             {
              "distinct_value_count": 565,
              "total_non_null_rows": 1000,
              "total_rows_inc_nulls": 1000,
              "value": "1978-04-01",
              "value_count": 1
             },
             {
              "distinct_value_count": 565,
              "total_non_null_rows": 1000,
              "total_rows_inc_nulls": 1000,
              "value": "1988-05-27",
              "value_count": 1
             },
             {
              "distinct_value_count": 565,
              "total_non_null_rows": 1000,
              "total_rows_inc_nulls": 1000,
              "value": "1973-10-27",
              "value_count": 1
             },
             {
              "distinct_value_count": 565,
              "total_non_null_rows": 1000,
              "total_rows_inc_nulls": 1000,
              "value": "1990-03-07",
              "value_count": 1
             }
            ]
           },
           "encoding": {
            "tooltip": [
             {
              "field": "value",
              "type": "nominal"
             },
             {
              "field": "value_count",
              "type": "quantitative"
             },
             {
              "field": "total_non_null_rows",
              "type": "quantitative"
             },
             {
              "field": "total_rows_inc_nulls",
              "type": "quantitative"
             }
            ],
            "x": {
             "field": "value",
             "sort": "-y",
             "title": null,
             "type": "nominal"
            },
            "y": {
             "field": "value_count",
             "scale": {
              "domain": [
               0,
               6
              ]
             },
             "title": "Value count",
             "type": "quantitative"
            }
           },
           "mark": "bar",
           "title": "Bottom 10 values by value count"
          }
         ]
        },
        {
         "hconcat": [
          {
           "data": {
            "values": [
             {
              "distinct_value_count": 371,
              "group_name": "surname",
              "percentile_ex_nulls": 1,
              "percentile_inc_nulls": 1,
              "sum_tokens_in_value_count_group": 23,
              "total_non_null_rows": 819,
              "total_rows_inc_nulls": 1000,
              "value_count": 23
             },
             {
              "distinct_value_count": 371,
              "percentile_ex_nulls": 0.9719169719169719,
              "percentile_inc_nulls": 0.977,
              "proportion_of_non_null_rows": 0.028083028083028084,
              "sum_tokens_in_value_count_group": 23,
              "total_non_null_rows": 819,
              "total_rows_inc_nulls": 1000,
              "value_count": 23
             },
             {
              "distinct_value_count": 371,
              "percentile_ex_nulls": 0.9377289377289377,
              "percentile_inc_nulls": 0.949,
              "proportion_of_non_null_rows": 0.03418803418803419,
              "sum_tokens_in_value_count_group": 28,
              "total_non_null_rows": 819,
              "total_rows_inc_nulls": 1000,
              "value_count": 14
             },
             {
              "distinct_value_count": 371,
              "percentile_ex_nulls": 0.905982905982906,
              "percentile_inc_nulls": 0.923,
              "proportion_of_non_null_rows": 0.031746031746031744,
              "sum_tokens_in_value_count_group": 26,
              "total_non_null_rows": 819,
              "total_rows_inc_nulls": 1000,
              "value_count": 13
             },
             {
              "distinct_value_count": 371,
              "percentile_ex_nulls": 0.8913308913308913,
              "percentile_inc_nulls": 0.911,
              "proportion_of_non_null_rows": 0.014652014652014652,
              "sum_tokens_in_value_count_group": 12,
              "total_non_null_rows": 819,
              "total_rows_inc_nulls": 1000,
              "value_count": 12
             },
             {
              "distinct_value_count": 371,
              "percentile_ex_nulls": 0.8778998778998779,
              "percentile_inc_nulls": 0.9,
              "proportion_of_non_null_rows": 0.013431013431013432,
              "sum_tokens_in_value_count_group": 11,
              "total_non_null_rows": 819,
              "total_rows_inc_nulls": 1000,
              "value_count": 11
             },
             {
              "distinct_value_count": 371,
              "percentile_ex_nulls": 0.8534798534798534,
              "percentile_inc_nulls": 0.88,
              "proportion_of_non_null_rows": 0.02442002442002442,
              "sum_tokens_in_value_count_group": 20,
              "total_non_null_rows": 819,
              "total_rows_inc_nulls": 1000,
              "value_count": 10
             },
             {
              "distinct_value_count": 371,
              "percentile_ex_nulls": 0.8315018315018314,
              "percentile_inc_nulls": 0.862,
              "proportion_of_non_null_rows": 0.02197802197802198,
              "sum_tokens_in_value_count_group": 18,
              "total_non_null_rows": 819,
              "total_rows_inc_nulls": 1000,
              "value_count": 9
             },
             {
              "distinct_value_count": 371,
              "percentile_ex_nulls": 0.7728937728937729,
              "percentile_inc_nulls": 0.8140000000000001,
              "proportion_of_non_null_rows": 0.05860805860805861,
              "sum_tokens_in_value_count_group": 48,
              "total_non_null_rows": 819,
              "total_rows_inc_nulls": 1000,
              "value_count": 8
             },
             {
              "distinct_value_count": 371,
              "percentile_ex_nulls": 0.7216117216117216,
              "percentile_inc_nulls": 0.772,
              "proportion_of_non_null_rows": 0.05128205128205128,
              "sum_tokens_in_value_count_group": 42,
              "total_non_null_rows": 819,
              "total_rows_inc_nulls": 1000,
              "value_count": 7
             },
             {
              "distinct_value_count": 371,
              "percentile_ex_nulls": 0.663003663003663,
              "percentile_inc_nulls": 0.724,
              "proportion_of_non_null_rows": 0.05860805860805861,
              "sum_tokens_in_value_count_group": 48,
              "total_non_null_rows": 819,
              "total_rows_inc_nulls": 1000,
              "value_count": 6
             },
             {
              "distinct_value_count": 371,
              "percentile_ex_nulls": 0.6080586080586081,
              "percentile_inc_nulls": 0.679,
              "proportion_of_non_null_rows": 0.054945054945054944,
              "sum_tokens_in_value_count_group": 45,
              "total_non_null_rows": 819,
              "total_rows_inc_nulls": 1000,
              "value_count": 5
             },
             {
              "distinct_value_count": 371,
              "percentile_ex_nulls": 0.5054945054945055,
              "percentile_inc_nulls": 0.595,
              "proportion_of_non_null_rows": 0.10256410256410256,
              "sum_tokens_in_value_count_group": 84,
              "total_non_null_rows": 819,
              "total_rows_inc_nulls": 1000,
              "value_count": 4
             },
             {
              "distinct_value_count": 371,
              "percentile_ex_nulls": 0.39560439560439564,
              "percentile_inc_nulls": 0.505,
              "proportion_of_non_null_rows": 0.10989010989010989,
              "sum_tokens_in_value_count_group": 90,
              "total_non_null_rows": 819,
              "total_rows_inc_nulls": 1000,
              "value_count": 3
             },
             {
              "distinct_value_count": 371,
              "percentile_ex_nulls": 0.28815628815628813,
              "percentile_inc_nulls": 0.41700000000000004,
              "proportion_of_non_null_rows": 0.10744810744810745,
              "sum_tokens_in_value_count_group": 88,
              "total_non_null_rows": 819,
              "total_rows_inc_nulls": 1000,
              "value_count": 2
             },
             {
              "distinct_value_count": 371,
              "percentile_ex_nulls": 0,
              "percentile_inc_nulls": 0.18100000000000005,
              "proportion_of_non_null_rows": 0.28815628815628813,
              "sum_tokens_in_value_count_group": 236,
              "total_non_null_rows": 819,
              "total_rows_inc_nulls": 1000,
              "value_count": 1
             }
            ]
           },
           "encoding": {
            "tooltip": [
             {
              "field": "value_count",
              "type": "quantitative"
             },
             {
              "field": "percentile_ex_nulls",
              "type": "quantitative"
             },
             {
              "field": "percentile_inc_nulls",
              "type": "quantitative"
             },
             {
              "field": "total_non_null_rows",
              "type": "quantitative"
             },
             {
              "field": "total_rows_inc_nulls",
              "type": "quantitative"
             },
             {
              "field": "proportion_of_non_null_rows",
              "type": "quantitative"
             }
            ],
            "x": {
             "field": "percentile_ex_nulls",
             "sort": "descending",
             "title": "Percentile",
             "type": "quantitative"
            },
            "y": {
             "field": "value_count",
             "title": "Count of values",
             "type": "quantitative"
            }
           },
           "mark": {
            "interpolate": "step-after",
            "type": "line"
           },
           "title": {
            "subtitle": "In this col, 181 values (18.1%) are null and there are 371 distinct values",
            "text": "Distribution of counts of values in column surname"
           }
          },
          {
           "data": {
            "values": [
             {
              "distinct_value_count": 371,
              "total_non_null_rows": 819,
              "total_rows_inc_nulls": 1000,
              "value": "Jones",
              "value_count": 23
             },
             {
              "distinct_value_count": 371,
              "total_non_null_rows": 819,
              "total_rows_inc_nulls": 1000,
              "value": "Davies",
              "value_count": 14
             },
             {
              "distinct_value_count": 371,
              "total_non_null_rows": 819,
              "total_rows_inc_nulls": 1000,
              "value": "Taylor",
              "value_count": 14
             },
             {
              "distinct_value_count": 371,
              "total_non_null_rows": 819,
              "total_rows_inc_nulls": 1000,
              "value": "Campbell",
              "value_count": 13
             },
             {
              "distinct_value_count": 371,
              "total_non_null_rows": 819,
              "total_rows_inc_nulls": 1000,
              "value": "Hall",
              "value_count": 13
             },
             {
              "distinct_value_count": 371,
              "total_non_null_rows": 819,
              "total_rows_inc_nulls": 1000,
              "value": "Morgan",
              "value_count": 12
             },
             {
              "distinct_value_count": 371,
              "total_non_null_rows": 819,
              "total_rows_inc_nulls": 1000,
              "value": "Smith",
              "value_count": 11
             },
             {
              "distinct_value_count": 371,
              "total_non_null_rows": 819,
              "total_rows_inc_nulls": 1000,
              "value": "King",
              "value_count": 10
             },
             {
              "distinct_value_count": 371,
              "total_non_null_rows": 819,
              "total_rows_inc_nulls": 1000,
              "value": "Russell",
              "value_count": 10
             },
             {
              "distinct_value_count": 371,
              "total_non_null_rows": 819,
              "total_rows_inc_nulls": 1000,
              "value": "Dixon",
              "value_count": 9
             },
             {
              "distinct_value_count": 371,
              "total_non_null_rows": 819,
              "total_rows_inc_nulls": 1000,
              "value": "Wright",
              "value_count": 9
             },
             {
              "distinct_value_count": 371,
              "total_non_null_rows": 819,
              "total_rows_inc_nulls": 1000,
              "value": "Kaur",
              "value_count": 8
             },
             {
              "distinct_value_count": 371,
              "total_non_null_rows": 819,
              "total_rows_inc_nulls": 1000,
              "value": "Lee",
              "value_count": 8
             },
             {
              "distinct_value_count": 371,
              "total_non_null_rows": 819,
              "total_rows_inc_nulls": 1000,
              "value": "May",
              "value_count": 8
             },
             {
              "distinct_value_count": 371,
              "total_non_null_rows": 819,
              "total_rows_inc_nulls": 1000,
              "value": "Williams",
              "value_count": 8
             },
             {
              "distinct_value_count": 371,
              "total_non_null_rows": 819,
              "total_rows_inc_nulls": 1000,
              "value": "Fox",
              "value_count": 8
             },
             {
              "distinct_value_count": 371,
              "total_non_null_rows": 819,
              "total_rows_inc_nulls": 1000,
              "value": "Edwards",
              "value_count": 8
             },
             {
              "distinct_value_count": 371,
              "total_non_null_rows": 819,
              "total_rows_inc_nulls": 1000,
              "value": "Brown",
              "value_count": 7
             },
             {
              "distinct_value_count": 371,
              "total_non_null_rows": 819,
              "total_rows_inc_nulls": 1000,
              "value": "Atkinson",
              "value_count": 7
             },
             {
              "distinct_value_count": 371,
              "total_non_null_rows": 819,
              "total_rows_inc_nulls": 1000,
              "value": "Hughes",
              "value_count": 7
             }
            ]
           },
           "encoding": {
            "tooltip": [
             {
              "field": "value",
              "type": "nominal"
             },
             {
              "field": "value_count",
              "type": "quantitative"
             },
             {
              "field": "total_non_null_rows",
              "type": "quantitative"
             },
             {
              "field": "total_rows_inc_nulls",
              "type": "quantitative"
             }
            ],
            "x": {
             "field": "value",
             "sort": "-y",
             "title": null,
             "type": "nominal"
            },
            "y": {
             "field": "value_count",
             "title": "Value count",
             "type": "quantitative"
            }
           },
           "mark": "bar",
           "title": "Top 20 values by value count"
          },
          {
           "data": {
            "values": [
             {
              "distinct_value_count": 371,
              "total_non_null_rows": 819,
              "total_rows_inc_nulls": 1000,
              "value": "pMurphy",
              "value_count": 1
             },
             {
              "distinct_value_count": 371,
              "total_non_null_rows": 819,
              "total_rows_inc_nulls": 1000,
              "value": "Bailey",
              "value_count": 1
             },
             {
              "distinct_value_count": 371,
              "total_non_null_rows": 819,
              "total_rows_inc_nulls": 1000,
              "value": "Gorodon",
              "value_count": 1
             },
             {
              "distinct_value_count": 371,
              "total_non_null_rows": 819,
              "total_rows_inc_nulls": 1000,
              "value": "Eavns",
              "value_count": 1
             },
             {
              "distinct_value_count": 371,
              "total_non_null_rows": 819,
              "total_rows_inc_nulls": 1000,
              "value": "Writhg",
              "value_count": 1
             },
             {
              "distinct_value_count": 371,
              "total_non_null_rows": 819,
              "total_rows_inc_nulls": 1000,
              "value": "Pcire",
              "value_count": 1
             },
             {
              "distinct_value_count": 371,
              "total_non_null_rows": 819,
              "total_rows_inc_nulls": 1000,
              "value": "hhS",
              "value_count": 1
             },
             {
              "distinct_value_count": 371,
              "total_non_null_rows": 819,
              "total_rows_inc_nulls": 1000,
              "value": "Breyr",
              "value_count": 1
             },
             {
              "distinct_value_count": 371,
              "total_non_null_rows": 819,
              "total_rows_inc_nulls": 1000,
              "value": "Hguehes",
              "value_count": 1
             },
             {
              "distinct_value_count": 371,
              "total_non_null_rows": 819,
              "total_rows_inc_nulls": 1000,
              "value": "Parker",
              "value_count": 1
             }
            ]
           },
           "encoding": {
            "tooltip": [
             {
              "field": "value",
              "type": "nominal"
             },
             {
              "field": "value_count",
              "type": "quantitative"
             },
             {
              "field": "total_non_null_rows",
              "type": "quantitative"
             },
             {
              "field": "total_rows_inc_nulls",
              "type": "quantitative"
             }
            ],
            "x": {
             "field": "value",
             "sort": "-y",
             "title": null,
             "type": "nominal"
            },
            "y": {
             "field": "value_count",
             "scale": {
              "domain": [
               0,
               23
              ]
             },
             "title": "Value count",
             "type": "quantitative"
            }
           },
           "mark": "bar",
           "title": "Bottom 10 values by value count"
          }
         ]
        },
        {
         "hconcat": [
          {
           "data": {
            "values": [
             {
              "distinct_value_count": 218,
              "group_name": "city",
              "percentile_ex_nulls": 1,
              "percentile_inc_nulls": 1,
              "sum_tokens_in_value_count_group": 173,
              "total_non_null_rows": 813,
              "total_rows_inc_nulls": 1000,
              "value_count": 173
             },
             {
              "distinct_value_count": 218,
              "percentile_ex_nulls": 0.7872078720787208,
              "percentile_inc_nulls": 0.827,
              "proportion_of_non_null_rows": 0.21279212792127922,
              "sum_tokens_in_value_count_group": 173,
              "total_non_null_rows": 813,
              "total_rows_inc_nulls": 1000,
              "value_count": 173
             },
             {
              "distinct_value_count": 218,
              "percentile_ex_nulls": 0.7380073800738007,
              "percentile_inc_nulls": 0.787,
              "proportion_of_non_null_rows": 0.04920049200492005,
              "sum_tokens_in_value_count_group": 40,
              "total_non_null_rows": 813,
              "total_rows_inc_nulls": 1000,
              "value_count": 40
             },
             {
              "distinct_value_count": 218,
              "percentile_ex_nulls": 0.6974169741697417,
              "percentile_inc_nulls": 0.754,
              "proportion_of_non_null_rows": 0.04059040590405904,
              "sum_tokens_in_value_count_group": 33,
              "total_non_null_rows": 813,
              "total_rows_inc_nulls": 1000,
              "value_count": 33
             },
             {
              "distinct_value_count": 218,
              "percentile_ex_nulls": 0.6715867158671587,
              "percentile_inc_nulls": 0.733,
              "proportion_of_non_null_rows": 0.025830258302583026,
              "sum_tokens_in_value_count_group": 21,
              "total_non_null_rows": 813,
              "total_rows_inc_nulls": 1000,
              "value_count": 21
             },
             {
              "distinct_value_count": 218,
              "percentile_ex_nulls": 0.6494464944649446,
              "percentile_inc_nulls": 0.7150000000000001,
              "proportion_of_non_null_rows": 0.02214022140221402,
              "sum_tokens_in_value_count_group": 18,
              "total_non_null_rows": 813,
              "total_rows_inc_nulls": 1000,
              "value_count": 18
             },
             {
              "distinct_value_count": 218,
              "percentile_ex_nulls": 0.6076260762607626,
              "percentile_inc_nulls": 0.681,
              "proportion_of_non_null_rows": 0.041820418204182044,
              "sum_tokens_in_value_count_group": 34,
              "total_non_null_rows": 813,
              "total_rows_inc_nulls": 1000,
              "value_count": 17
             },
             {
              "distinct_value_count": 218,
              "percentile_ex_nulls": 0.5682656826568266,
              "percentile_inc_nulls": 0.649,
              "proportion_of_non_null_rows": 0.03936039360393604,
              "sum_tokens_in_value_count_group": 32,
              "total_non_null_rows": 813,
              "total_rows_inc_nulls": 1000,
              "value_count": 16
             },
             {
              "distinct_value_count": 218,
              "percentile_ex_nulls": 0.5166051660516605,
              "percentile_inc_nulls": 0.607,
              "proportion_of_non_null_rows": 0.05166051660516605,
              "sum_tokens_in_value_count_group": 42,
              "total_non_null_rows": 813,
              "total_rows_inc_nulls": 1000,
              "value_count": 14
             },
             {
              "distinct_value_count": 218,
              "percentile_ex_nulls": 0.48462484624846247,
              "percentile_inc_nulls": 0.581,
              "proportion_of_non_null_rows": 0.03198031980319803,
              "sum_tokens_in_value_count_group": 26,
              "total_non_null_rows": 813,
              "total_rows_inc_nulls": 1000,
              "value_count": 13
             },
             {
              "distinct_value_count": 218,
              "percentile_ex_nulls": 0.44034440344403447,
              "percentile_inc_nulls": 0.5449999999999999,
              "proportion_of_non_null_rows": 0.04428044280442804,
              "sum_tokens_in_value_count_group": 36,
              "total_non_null_rows": 813,
              "total_rows_inc_nulls": 1000,
              "value_count": 12
             },
             {
              "distinct_value_count": 218,
              "percentile_ex_nulls": 0.41574415744157445,
              "percentile_inc_nulls": 0.525,
              "proportion_of_non_null_rows": 0.024600246002460024,
              "sum_tokens_in_value_count_group": 20,
              "total_non_null_rows": 813,
              "total_rows_inc_nulls": 1000,
              "value_count": 10
             },
             {
              "distinct_value_count": 218,
              "percentile_ex_nulls": 0.3936039360393604,
              "percentile_inc_nulls": 0.507,
              "proportion_of_non_null_rows": 0.02214022140221402,
              "sum_tokens_in_value_count_group": 18,
              "total_non_null_rows": 813,
              "total_rows_inc_nulls": 1000,
              "value_count": 9
             },
             {
              "distinct_value_count": 218,
              "percentile_ex_nulls": 0.3640836408364083,
              "percentile_inc_nulls": 0.483,
              "proportion_of_non_null_rows": 0.02952029520295203,
              "sum_tokens_in_value_count_group": 24,
              "total_non_null_rows": 813,
              "total_rows_inc_nulls": 1000,
              "value_count": 8
             },
             {
              "distinct_value_count": 218,
              "percentile_ex_nulls": 0.3124231242312423,
              "percentile_inc_nulls": 0.44099999999999995,
              "proportion_of_non_null_rows": 0.05166051660516605,
              "sum_tokens_in_value_count_group": 42,
              "total_non_null_rows": 813,
              "total_rows_inc_nulls": 1000,
              "value_count": 7
             },
             {
              "distinct_value_count": 218,
              "percentile_ex_nulls": 0.28290282902829034,
              "percentile_inc_nulls": 0.41700000000000004,
              "proportion_of_non_null_rows": 0.02952029520295203,
              "sum_tokens_in_value_count_group": 24,
              "total_non_null_rows": 813,
              "total_rows_inc_nulls": 1000,
              "value_count": 6
             },
             {
              "distinct_value_count": 218,
              "percentile_ex_nulls": 0.2583025830258303,
              "percentile_inc_nulls": 0.397,
              "proportion_of_non_null_rows": 0.024600246002460024,
              "sum_tokens_in_value_count_group": 20,
              "total_non_null_rows": 813,
              "total_rows_inc_nulls": 1000,
              "value_count": 5
             },
             {
              "distinct_value_count": 218,
              "percentile_ex_nulls": 0.24354243542435428,
              "percentile_inc_nulls": 0.385,
              "proportion_of_non_null_rows": 0.014760147601476014,
              "sum_tokens_in_value_count_group": 12,
              "total_non_null_rows": 813,
              "total_rows_inc_nulls": 1000,
              "value_count": 4
             },
             {
              "distinct_value_count": 218,
              "percentile_ex_nulls": 0.22878228782287824,
              "percentile_inc_nulls": 0.373,
              "proportion_of_non_null_rows": 0.014760147601476014,
              "sum_tokens_in_value_count_group": 12,
              "total_non_null_rows": 813,
              "total_rows_inc_nulls": 1000,
              "value_count": 3
             },
             {
              "distinct_value_count": 218,
              "percentile_ex_nulls": 0.1968019680196802,
              "percentile_inc_nulls": 0.347,
              "proportion_of_non_null_rows": 0.03198031980319803,
              "sum_tokens_in_value_count_group": 26,
              "total_non_null_rows": 813,
              "total_rows_inc_nulls": 1000,
              "value_count": 2
             },
             {
              "distinct_value_count": 218,
              "percentile_ex_nulls": 0,
              "percentile_inc_nulls": 0.18700000000000006,
              "proportion_of_non_null_rows": 0.1968019680196802,
              "sum_tokens_in_value_count_group": 160,
              "total_non_null_rows": 813,
              "total_rows_inc_nulls": 1000,
              "value_count": 1
             }
            ]
           },
           "encoding": {
            "tooltip": [
             {
              "field": "value_count",
              "type": "quantitative"
             },
             {
              "field": "percentile_ex_nulls",
              "type": "quantitative"
             },
             {
              "field": "percentile_inc_nulls",
              "type": "quantitative"
             },
             {
              "field": "total_non_null_rows",
              "type": "quantitative"
             },
             {
              "field": "total_rows_inc_nulls",
              "type": "quantitative"
             },
             {
              "field": "proportion_of_non_null_rows",
              "type": "quantitative"
             }
            ],
            "x": {
             "field": "percentile_ex_nulls",
             "sort": "descending",
             "title": "Percentile",
             "type": "quantitative"
            },
            "y": {
             "field": "value_count",
             "title": "Count of values",
             "type": "quantitative"
            }
           },
           "mark": {
            "interpolate": "step-after",
            "type": "line"
           },
           "title": {
            "subtitle": "In this col, 187 values (18.7%) are null and there are 218 distinct values",
            "text": "Distribution of counts of values in column city"
           }
          },
          {
           "data": {
            "values": [
             {
              "distinct_value_count": 218,
              "total_non_null_rows": 813,
              "total_rows_inc_nulls": 1000,
              "value": "London",
              "value_count": 173
             },
             {
              "distinct_value_count": 218,
              "total_non_null_rows": 813,
              "total_rows_inc_nulls": 1000,
              "value": "Birmingham",
              "value_count": 40
             },
             {
              "distinct_value_count": 218,
              "total_non_null_rows": 813,
              "total_rows_inc_nulls": 1000,
              "value": "Liverpool",
              "value_count": 33
             },
             {
              "distinct_value_count": 218,
              "total_non_null_rows": 813,
              "total_rows_inc_nulls": 1000,
              "value": "Coventry",
              "value_count": 21
             },
             {
              "distinct_value_count": 218,
              "total_non_null_rows": 813,
              "total_rows_inc_nulls": 1000,
              "value": "Newcastle-upon-Tyne",
              "value_count": 18
             },
             {
              "distinct_value_count": 218,
              "total_non_null_rows": 813,
              "total_rows_inc_nulls": 1000,
              "value": "Leeds",
              "value_count": 17
             },
             {
              "distinct_value_count": 218,
              "total_non_null_rows": 813,
              "total_rows_inc_nulls": 1000,
              "value": "Manchester",
              "value_count": 17
             },
             {
              "distinct_value_count": 218,
              "total_non_null_rows": 813,
              "total_rows_inc_nulls": 1000,
              "value": "Bristol",
              "value_count": 16
             },
             {
              "distinct_value_count": 218,
              "total_non_null_rows": 813,
              "total_rows_inc_nulls": 1000,
              "value": "Aberdeen",
              "value_count": 16
             },
             {
              "distinct_value_count": 218,
              "total_non_null_rows": 813,
              "total_rows_inc_nulls": 1000,
              "value": "Southend-on-Sea",
              "value_count": 14
             },
             {
              "distinct_value_count": 218,
              "total_non_null_rows": 813,
              "total_rows_inc_nulls": 1000,
              "value": "Salford",
              "value_count": 14
             },
             {
              "distinct_value_count": 218,
              "total_non_null_rows": 813,
              "total_rows_inc_nulls": 1000,
              "value": "Portsmouth",
              "value_count": 14
             },
             {
              "distinct_value_count": 218,
              "total_non_null_rows": 813,
              "total_rows_inc_nulls": 1000,
              "value": "Swansea",
              "value_count": 13
             },
             {
              "distinct_value_count": 218,
              "total_non_null_rows": 813,
              "total_rows_inc_nulls": 1000,
              "value": "Kingston-upon-Hull",
              "value_count": 13
             },
             {
              "distinct_value_count": 218,
              "total_non_null_rows": 813,
              "total_rows_inc_nulls": 1000,
              "value": "Reading",
              "value_count": 12
             },
             {
              "distinct_value_count": 218,
              "total_non_null_rows": 813,
              "total_rows_inc_nulls": 1000,
              "value": "Cardiff",
              "value_count": 12
             },
             {
              "distinct_value_count": 218,
              "total_non_null_rows": 813,
              "total_rows_inc_nulls": 1000,
              "value": "Plymouth",
              "value_count": 12
             },
             {
              "distinct_value_count": 218,
              "total_non_null_rows": 813,
              "total_rows_inc_nulls": 1000,
              "value": "Swindon",
              "value_count": 10
             },
             {
              "distinct_value_count": 218,
              "total_non_null_rows": 813,
              "total_rows_inc_nulls": 1000,
              "value": "Huddersfield",
              "value_count": 10
             },
             {
              "distinct_value_count": 218,
              "total_non_null_rows": 813,
              "total_rows_inc_nulls": 1000,
              "value": "Bradford",
              "value_count": 9
             }
            ]
           },
           "encoding": {
            "tooltip": [
             {
              "field": "value",
              "type": "nominal"
             },
             {
              "field": "value_count",
              "type": "quantitative"
             },
             {
              "field": "total_non_null_rows",
              "type": "quantitative"
             },
             {
              "field": "total_rows_inc_nulls",
              "type": "quantitative"
             }
            ],
            "x": {
             "field": "value",
             "sort": "-y",
             "title": null,
             "type": "nominal"
            },
            "y": {
             "field": "value_count",
             "title": "Value count",
             "type": "quantitative"
            }
           },
           "mark": "bar",
           "title": "Top 20 values by value count"
          },
          {
           "data": {
            "values": [
             {
              "distinct_value_count": 218,
              "total_non_null_rows": 813,
              "total_rows_inc_nulls": 1000,
              "value": "Pootsmruth",
              "value_count": 1
             },
             {
              "distinct_value_count": 218,
              "total_non_null_rows": 813,
              "total_rows_inc_nulls": 1000,
              "value": "Anberden",
              "value_count": 1
             },
             {
              "distinct_value_count": 218,
              "total_non_null_rows": 813,
              "total_rows_inc_nulls": 1000,
              "value": "Lunton",
              "value_count": 1
             },
             {
              "distinct_value_count": 218,
              "total_non_null_rows": 813,
              "total_rows_inc_nulls": 1000,
              "value": "Snawseaa",
              "value_count": 1
             },
             {
              "distinct_value_count": 218,
              "total_non_null_rows": 813,
              "total_rows_inc_nulls": 1000,
              "value": "Brritsol",
              "value_count": 1
             },
             {
              "distinct_value_count": 218,
              "total_non_null_rows": 813,
              "total_rows_inc_nulls": 1000,
              "value": "fTelford",
              "value_count": 1
             },
             {
              "distinct_value_count": 218,
              "total_non_null_rows": 813,
              "total_rows_inc_nulls": 1000,
              "value": "LondoLn",
              "value_count": 1
             },
             {
              "distinct_value_count": 218,
              "total_non_null_rows": 813,
              "total_rows_inc_nulls": 1000,
              "value": "LeicestLe",
              "value_count": 1
             },
             {
              "distinct_value_count": 218,
              "total_non_null_rows": 813,
              "total_rows_inc_nulls": 1000,
              "value": "Loonon",
              "value_count": 1
             },
             {
              "distinct_value_count": 218,
              "total_non_null_rows": 813,
              "total_rows_inc_nulls": 1000,
              "value": "Petberborough",
              "value_count": 1
             }
            ]
           },
           "encoding": {
            "tooltip": [
             {
              "field": "value",
              "type": "nominal"
             },
             {
              "field": "value_count",
              "type": "quantitative"
             },
             {
              "field": "total_non_null_rows",
              "type": "quantitative"
             },
             {
              "field": "total_rows_inc_nulls",
              "type": "quantitative"
             }
            ],
            "x": {
             "field": "value",
             "sort": "-y",
             "title": null,
             "type": "nominal"
            },
            "y": {
             "field": "value_count",
             "scale": {
              "domain": [
               0,
               173
              ]
             },
             "title": "Value count",
             "type": "quantitative"
            }
           },
           "mark": "bar",
           "title": "Bottom 10 values by value count"
          }
         ]
        },
        {
         "hconcat": [
          {
           "data": {
            "values": [
             {
              "distinct_value_count": 424,
              "group_name": "email",
              "percentile_ex_nulls": 1,
              "percentile_inc_nulls": 1,
              "sum_tokens_in_value_count_group": 30,
              "total_non_null_rows": 789,
              "total_rows_inc_nulls": 1000,
              "value_count": 6
             },
             {
              "distinct_value_count": 424,
              "percentile_ex_nulls": 0.9619771863117871,
              "percentile_inc_nulls": 0.97,
              "proportion_of_non_null_rows": 0.03802281368821293,
              "sum_tokens_in_value_count_group": 30,
              "total_non_null_rows": 789,
              "total_rows_inc_nulls": 1000,
              "value_count": 6
             },
             {
              "distinct_value_count": 424,
              "percentile_ex_nulls": 0.8479087452471483,
              "percentile_inc_nulls": 0.88,
              "proportion_of_non_null_rows": 0.11406844106463879,
              "sum_tokens_in_value_count_group": 90,
              "total_non_null_rows": 789,
              "total_rows_inc_nulls": 1000,
              "value_count": 5
             },
             {
              "distinct_value_count": 424,
              "percentile_ex_nulls": 0.6653992395437263,
              "percentile_inc_nulls": 0.736,
              "proportion_of_non_null_rows": 0.18250950570342206,
              "sum_tokens_in_value_count_group": 144,
              "total_non_null_rows": 789,
              "total_rows_inc_nulls": 1000,
              "value_count": 4
             },
             {
              "distinct_value_count": 424,
              "percentile_ex_nulls": 0.47148288973384034,
              "percentile_inc_nulls": 0.583,
              "proportion_of_non_null_rows": 0.19391634980988592,
              "sum_tokens_in_value_count_group": 153,
              "total_non_null_rows": 789,
              "total_rows_inc_nulls": 1000,
              "value_count": 3
             },
             {
              "distinct_value_count": 424,
              "percentile_ex_nulls": 0.32446134347275035,
              "percentile_inc_nulls": 0.46699999999999997,
              "proportion_of_non_null_rows": 0.14702154626108999,
              "sum_tokens_in_value_count_group": 116,
              "total_non_null_rows": 789,
              "total_rows_inc_nulls": 1000,
              "value_count": 2
             },
             {
              "distinct_value_count": 424,
              "percentile_ex_nulls": 0,
              "percentile_inc_nulls": 0.21099999999999997,
              "proportion_of_non_null_rows": 0.3244613434727503,
              "sum_tokens_in_value_count_group": 256,
              "total_non_null_rows": 789,
              "total_rows_inc_nulls": 1000,
              "value_count": 1
             }
            ]
           },
           "encoding": {
            "tooltip": [
             {
              "field": "value_count",
              "type": "quantitative"
             },
             {
              "field": "percentile_ex_nulls",
              "type": "quantitative"
             },
             {
              "field": "percentile_inc_nulls",
              "type": "quantitative"
             },
             {
              "field": "total_non_null_rows",
              "type": "quantitative"
             },
             {
              "field": "total_rows_inc_nulls",
              "type": "quantitative"
             },
             {
              "field": "proportion_of_non_null_rows",
              "type": "quantitative"
             }
            ],
            "x": {
             "field": "percentile_ex_nulls",
             "sort": "descending",
             "title": "Percentile",
             "type": "quantitative"
            },
            "y": {
             "field": "value_count",
             "title": "Count of values",
             "type": "quantitative"
            }
           },
           "mark": {
            "interpolate": "step-after",
            "type": "line"
           },
           "title": {
            "subtitle": "In this col, 211 values (21.1%) are null and there are 424 distinct values",
            "text": "Distribution of counts of values in column email"
           }
          },
          {
           "data": {
            "values": [
             {
              "distinct_value_count": 424,
              "total_non_null_rows": 789,
              "total_rows_inc_nulls": 1000,
              "value": "omoore64@randall.com",
              "value_count": 6
             },
             {
              "distinct_value_count": 424,
              "total_non_null_rows": 789,
              "total_rows_inc_nulls": 1000,
              "value": "j.williams@levine-johnson.com",
              "value_count": 6
             },
             {
              "distinct_value_count": 424,
              "total_non_null_rows": 789,
              "total_rows_inc_nulls": 1000,
              "value": "fb@nelson.com",
              "value_count": 6
             },
             {
              "distinct_value_count": 424,
              "total_non_null_rows": 789,
              "total_rows_inc_nulls": 1000,
              "value": "jessica.miller@johnson.com",
              "value_count": 6
             },
             {
              "distinct_value_count": 424,
              "total_non_null_rows": 789,
              "total_rows_inc_nulls": 1000,
              "value": "iwilkinson@bush.com",
              "value_count": 6
             },
             {
              "distinct_value_count": 424,
              "total_non_null_rows": 789,
              "total_rows_inc_nulls": 1000,
              "value": "elizataylor@marshall.com",
              "value_count": 5
             },
             {
              "distinct_value_count": 424,
              "total_non_null_rows": 789,
              "total_rows_inc_nulls": 1000,
              "value": "r.cole1@ramirez-anthony.com",
              "value_count": 5
             },
             {
              "distinct_value_count": 424,
              "total_non_null_rows": 789,
              "total_rows_inc_nulls": 1000,
              "value": "dh@powell.net",
              "value_count": 5
             },
             {
              "distinct_value_count": 424,
              "total_non_null_rows": 789,
              "total_rows_inc_nulls": 1000,
              "value": "riley.k@zavala.com",
              "value_count": 5
             },
             {
              "distinct_value_count": 424,
              "total_non_null_rows": 789,
              "total_rows_inc_nulls": 1000,
              "value": "hollythomson3@levine-jones.com",
              "value_count": 5
             },
             {
              "distinct_value_count": 424,
              "total_non_null_rows": 789,
              "total_rows_inc_nulls": 1000,
              "value": "jacob.a83@clark.com",
              "value_count": 5
             },
             {
              "distinct_value_count": 424,
              "total_non_null_rows": 789,
              "total_rows_inc_nulls": 1000,
              "value": "e.b30@little.biz",
              "value_count": 5
             },
             {
              "distinct_value_count": 424,
              "total_non_null_rows": 789,
              "total_rows_inc_nulls": 1000,
              "value": "lrobinson@wolf.org",
              "value_count": 5
             },
             {
              "distinct_value_count": 424,
              "total_non_null_rows": 789,
              "total_rows_inc_nulls": 1000,
              "value": "ohughes@page-kim.info",
              "value_count": 5
             },
             {
              "distinct_value_count": 424,
              "total_non_null_rows": 789,
              "total_rows_inc_nulls": 1000,
              "value": "james.d@merritt-scott.com",
              "value_count": 5
             },
             {
              "distinct_value_count": 424,
              "total_non_null_rows": 789,
              "total_rows_inc_nulls": 1000,
              "value": "a.s@humphrey.com",
              "value_count": 5
             },
             {
              "distinct_value_count": 424,
              "total_non_null_rows": 789,
              "total_rows_inc_nulls": 1000,
              "value": "noahh78@diaz-clark.com",
              "value_count": 5
             },
             {
              "distinct_value_count": 424,
              "total_non_null_rows": 789,
              "total_rows_inc_nulls": 1000,
              "value": "lily.robinson73@peterson.biz",
              "value_count": 5
             },
             {
              "distinct_value_count": 424,
              "total_non_null_rows": 789,
              "total_rows_inc_nulls": 1000,
              "value": "l.armstrong@reyes-campbell.net",
              "value_count": 5
             },
             {
              "distinct_value_count": 424,
              "total_non_null_rows": 789,
              "total_rows_inc_nulls": 1000,
              "value": "leahrussell@charles.net",
              "value_count": 5
             }
            ]
           },
           "encoding": {
            "tooltip": [
             {
              "field": "value",
              "type": "nominal"
             },
             {
              "field": "value_count",
              "type": "quantitative"
             },
             {
              "field": "total_non_null_rows",
              "type": "quantitative"
             },
             {
              "field": "total_rows_inc_nulls",
              "type": "quantitative"
             }
            ],
            "x": {
             "field": "value",
             "sort": "-y",
             "title": null,
             "type": "nominal"
            },
            "y": {
             "field": "value_count",
             "title": "Value count",
             "type": "quantitative"
            }
           },
           "mark": "bar",
           "title": "Top 20 values by value count"
          },
          {
           "data": {
            "values": [
             {
              "distinct_value_count": 424,
              "total_non_null_rows": 789,
              "total_rows_inc_nulls": 1000,
              "value": "o.griffiths90@reyes-coleman.com",
              "value_count": 1
             },
             {
              "distinct_value_count": 424,
              "total_non_null_rows": 789,
              "total_rows_inc_nulls": 1000,
              "value": "j.lee86@ro6berson.com",
              "value_count": 1
             },
             {
              "distinct_value_count": 424,
              "total_non_null_rows": 789,
              "total_rows_inc_nulls": 1000,
              "value": "charlottej68@lee-taylor.org",
              "value_count": 1
             },
             {
              "distinct_value_count": 424,
              "total_non_null_rows": 789,
              "total_rows_inc_nulls": 1000,
              "value": "e.e@ay.cod",
              "value_count": 1
             },
             {
              "distinct_value_count": 424,
              "total_non_null_rows": 789,
              "total_rows_inc_nulls": 1000,
              "value": "dracdonald@rivers-glass.biz",
              "value_count": 1
             },
             {
              "distinct_value_count": 424,
              "total_non_null_rows": 789,
              "total_rows_inc_nulls": 1000,
              "value": "lucas.harrington@com",
              "value_count": 1
             },
             {
              "distinct_value_count": 424,
              "total_non_null_rows": 789,
              "total_rows_inc_nulls": 1000,
              "value": "l.feruson46@sahh.com",
              "value_count": 1
             },
             {
              "distinct_value_count": 424,
              "total_non_null_rows": 789,
              "total_rows_inc_nulls": 1000,
              "value": "hsimmons@roberts.com",
              "value_count": 1
             },
             {
              "distinct_value_count": 424,
              "total_non_null_rows": 789,
              "total_rows_inc_nulls": 1000,
              "value": "lbrooks9@omiller.org",
              "value_count": 1
             },
             {
              "distinct_value_count": 424,
              "total_non_null_rows": 789,
              "total_rows_inc_nulls": 1000,
              "value": "lolat86@bishop-giles.om",
              "value_count": 1
             }
            ]
           },
           "encoding": {
            "tooltip": [
             {
              "field": "value",
              "type": "nominal"
             },
             {
              "field": "value_count",
              "type": "quantitative"
             },
             {
              "field": "total_non_null_rows",
              "type": "quantitative"
             },
             {
              "field": "total_rows_inc_nulls",
              "type": "quantitative"
             }
            ],
            "x": {
             "field": "value",
             "sort": "-y",
             "title": null,
             "type": "nominal"
            },
            "y": {
             "field": "value_count",
             "scale": {
              "domain": [
               0,
               6
              ]
             },
             "title": "Value count",
             "type": "quantitative"
            }
           },
           "mark": "bar",
           "title": "Bottom 10 values by value count"
          }
         ]
        }
       ]
      },
      "image/png": "[encoded data removed]",
      "text/plain": [
       "<VegaLite 4 object>\n",
       "\n",
       "If you see this message, it means the renderer has not been properly enabled\n",
       "for the frontend that you are using. For more information, see\n",
       "https://altair-viz.github.io/user_guide/troubleshooting.html\n"
      ]
     },
     "execution_count": 5,
     "metadata": {},
     "output_type": "execute_result"
    }
   ],
   "source": [
    "from splink.profile import column_value_frequencies_chart\n",
    "import altair as alt\n",
    "alt.renderers.enable('mimetype')\n",
    "column_value_frequencies_chart(['first_name', \"surname\", \"dob\", \"city\", \"email\"], df, spark)"
   ]
  },
  {
   "cell_type": "code",
   "execution_count": 6,
   "id": "41081954",
   "metadata": {},
   "outputs": [
    {
     "ename": "AnalysisException",
     "evalue": "Can not create the managed table('`raw_records`'). The associated location('file:/home/jovyan/host/external/katana/python/examples/spark-warehouse/raw_records') already exists.",
     "output_type": "error",
     "traceback": [
      "\u001b[0;31m---------------------------------------------------------------------------\u001b[0m",
      "\u001b[0;31mAnalysisException\u001b[0m                         Traceback (most recent call last)",
      "\u001b[0;32m/tmp/ipykernel_3107/1994657720.py\u001b[0m in \u001b[0;36m<module>\u001b[0;34m\u001b[0m\n\u001b[1;32m      9\u001b[0m \u001b[0;34m\u001b[0m\u001b[0m\n\u001b[1;32m     10\u001b[0m \u001b[0;31m#raw_records.write.mode(\"overwrite\").format(\"delta\").saveAsTable(\"raw_records\")\u001b[0m\u001b[0;34m\u001b[0m\u001b[0;34m\u001b[0m\u001b[0;34m\u001b[0m\u001b[0m\n\u001b[0;32m---> 11\u001b[0;31m \u001b[0mraw_records\u001b[0m\u001b[0;34m.\u001b[0m\u001b[0mwrite\u001b[0m\u001b[0;34m.\u001b[0m\u001b[0mmode\u001b[0m\u001b[0;34m(\u001b[0m\u001b[0;34m\"overwrite\"\u001b[0m\u001b[0;34m)\u001b[0m\u001b[0;34m.\u001b[0m\u001b[0msaveAsTable\u001b[0m\u001b[0;34m(\u001b[0m\u001b[0;34m\"raw_records\"\u001b[0m\u001b[0;34m)\u001b[0m\u001b[0;34m\u001b[0m\u001b[0;34m\u001b[0m\u001b[0m\n\u001b[0m\u001b[1;32m     12\u001b[0m \u001b[0mprint\u001b[0m\u001b[0;34m(\u001b[0m\u001b[0mraw_records\u001b[0m\u001b[0;34m)\u001b[0m\u001b[0;34m\u001b[0m\u001b[0;34m\u001b[0m\u001b[0m\n",
      "\u001b[0;32m/opt/conda/lib/python3.8/site-packages/pyspark/sql/readwriter.py\u001b[0m in \u001b[0;36msaveAsTable\u001b[0;34m(self, name, format, mode, partitionBy, **options)\u001b[0m\n\u001b[1;32m   1156\u001b[0m         \u001b[0;32mif\u001b[0m \u001b[0mformat\u001b[0m \u001b[0;32mis\u001b[0m \u001b[0;32mnot\u001b[0m \u001b[0;32mNone\u001b[0m\u001b[0;34m:\u001b[0m\u001b[0;34m\u001b[0m\u001b[0;34m\u001b[0m\u001b[0m\n\u001b[1;32m   1157\u001b[0m             \u001b[0mself\u001b[0m\u001b[0;34m.\u001b[0m\u001b[0mformat\u001b[0m\u001b[0;34m(\u001b[0m\u001b[0mformat\u001b[0m\u001b[0;34m)\u001b[0m\u001b[0;34m\u001b[0m\u001b[0;34m\u001b[0m\u001b[0m\n\u001b[0;32m-> 1158\u001b[0;31m         \u001b[0mself\u001b[0m\u001b[0;34m.\u001b[0m\u001b[0m_jwrite\u001b[0m\u001b[0;34m.\u001b[0m\u001b[0msaveAsTable\u001b[0m\u001b[0;34m(\u001b[0m\u001b[0mname\u001b[0m\u001b[0;34m)\u001b[0m\u001b[0;34m\u001b[0m\u001b[0;34m\u001b[0m\u001b[0m\n\u001b[0m\u001b[1;32m   1159\u001b[0m \u001b[0;34m\u001b[0m\u001b[0m\n\u001b[1;32m   1160\u001b[0m     def json(self, path, mode=None, compression=None, dateFormat=None, timestampFormat=None,\n",
      "\u001b[0;32m/opt/conda/lib/python3.8/site-packages/py4j/java_gateway.py\u001b[0m in \u001b[0;36m__call__\u001b[0;34m(self, *args)\u001b[0m\n\u001b[1;32m   1302\u001b[0m \u001b[0;34m\u001b[0m\u001b[0m\n\u001b[1;32m   1303\u001b[0m         \u001b[0manswer\u001b[0m \u001b[0;34m=\u001b[0m \u001b[0mself\u001b[0m\u001b[0;34m.\u001b[0m\u001b[0mgateway_client\u001b[0m\u001b[0;34m.\u001b[0m\u001b[0msend_command\u001b[0m\u001b[0;34m(\u001b[0m\u001b[0mcommand\u001b[0m\u001b[0;34m)\u001b[0m\u001b[0;34m\u001b[0m\u001b[0;34m\u001b[0m\u001b[0m\n\u001b[0;32m-> 1304\u001b[0;31m         return_value = get_return_value(\n\u001b[0m\u001b[1;32m   1305\u001b[0m             answer, self.gateway_client, self.target_id, self.name)\n\u001b[1;32m   1306\u001b[0m \u001b[0;34m\u001b[0m\u001b[0m\n",
      "\u001b[0;32m/opt/conda/lib/python3.8/site-packages/pyspark/sql/utils.py\u001b[0m in \u001b[0;36mdeco\u001b[0;34m(*a, **kw)\u001b[0m\n\u001b[1;32m    115\u001b[0m                 \u001b[0;31m# Hide where the exception came from that shows a non-Pythonic\u001b[0m\u001b[0;34m\u001b[0m\u001b[0;34m\u001b[0m\u001b[0;34m\u001b[0m\u001b[0m\n\u001b[1;32m    116\u001b[0m                 \u001b[0;31m# JVM exception message.\u001b[0m\u001b[0;34m\u001b[0m\u001b[0;34m\u001b[0m\u001b[0;34m\u001b[0m\u001b[0m\n\u001b[0;32m--> 117\u001b[0;31m                 \u001b[0;32mraise\u001b[0m \u001b[0mconverted\u001b[0m \u001b[0;32mfrom\u001b[0m \u001b[0;32mNone\u001b[0m\u001b[0;34m\u001b[0m\u001b[0;34m\u001b[0m\u001b[0m\n\u001b[0m\u001b[1;32m    118\u001b[0m             \u001b[0;32melse\u001b[0m\u001b[0;34m:\u001b[0m\u001b[0;34m\u001b[0m\u001b[0;34m\u001b[0m\u001b[0m\n\u001b[1;32m    119\u001b[0m                 \u001b[0;32mraise\u001b[0m\u001b[0;34m\u001b[0m\u001b[0;34m\u001b[0m\u001b[0m\n",
      "\u001b[0;31mAnalysisException\u001b[0m: Can not create the managed table('`raw_records`'). The associated location('file:/home/jovyan/host/external/katana/python/examples/spark-warehouse/raw_records') already exists."
     ]
    }
   ],
   "source": [
    "raw_records = (\n",
    "  spark\n",
    "    .read\n",
    "    .format(\"csv\")\n",
    "    .option(\"header\", True)\n",
    "    .option(\"inferSchema\", True)\n",
    "    .load(\"accounts.csv\")\n",
    ")\n",
    "\n",
    "#raw_records.write.mode(\"overwrite\").format(\"delta\").saveAsTable(\"raw_records\")\n",
    "raw_records.write.mode(\"overwrite\").saveAsTable(\"raw_records\")\n",
    "print(raw_records)"
   ]
  },
  {
   "cell_type": "code",
   "execution_count": null,
   "id": "a2d9ea74-d4f4-448e-8d29-4c6624b2630a",
   "metadata": {},
   "outputs": [
    {
     "name": "stderr",
     "output_type": "stream",
     "text": [
      "INFO:splink.iterate:Iteration 0 complete\n",
      "INFO:splink.model:The maximum change in parameters was 0.9 for key ssn, level 1\n",
      "INFO:splink.iterate:Iteration 1 complete\n",
      "INFO:splink.model:The maximum change in parameters was 0.015730559825897217 for key first_name, level 0\n",
      "INFO:splink.iterate:Iteration 2 complete\n",
      "INFO:splink.model:The maximum change in parameters was 0.0004532039165496826 for key proportion_of_matches\n",
      "INFO:splink.iterate:Iteration 3 complete\n",
      "INFO:splink.model:The maximum change in parameters was 0.0004672110080718994 for key proportion_of_matches\n",
      "INFO:splink.iterate:Iteration 4 complete\n",
      "INFO:splink.model:The maximum change in parameters was 0.00046196579933166504 for key proportion_of_matches\n",
      "INFO:splink.iterate:Iteration 5 complete\n",
      "INFO:splink.model:The maximum change in parameters was 0.0004565715789794922 for key proportion_of_matches\n",
      "INFO:splink.iterate:Iteration 6 complete\n",
      "INFO:splink.model:The maximum change in parameters was 0.00045120716094970703 for key proportion_of_matches\n",
      "INFO:splink.iterate:Iteration 7 complete\n",
      "INFO:splink.model:The maximum change in parameters was 0.0004457831382751465 for key proportion_of_matches\n",
      "INFO:splink.iterate:Iteration 8 complete\n",
      "INFO:splink.model:The maximum change in parameters was 0.00044038891792297363 for key proportion_of_matches\n",
      "INFO:splink.iterate:Iteration 9 complete\n",
      "INFO:splink.model:The maximum change in parameters was 0.0004349648952484131 for key proportion_of_matches\n",
      "INFO:splink.iterate:Iteration 10 complete\n",
      "INFO:splink.model:The maximum change in parameters was 0.00042957067489624023 for key proportion_of_matches\n",
      "INFO:splink.iterate:Iteration 11 complete\n",
      "INFO:splink.model:The maximum change in parameters was 0.0004241764545440674 for key proportion_of_matches\n",
      "INFO:splink.iterate:Iteration 12 complete\n",
      "INFO:splink.model:The maximum change in parameters was 0.00041875243186950684 for key proportion_of_matches\n",
      "INFO:splink.iterate:Iteration 13 complete\n",
      "INFO:splink.model:The maximum change in parameters was 0.0004133880138397217 for key proportion_of_matches\n",
      "INFO:splink.iterate:Iteration 14 complete\n",
      "INFO:splink.model:The maximum change in parameters was 0.00040799379348754883 for key proportion_of_matches\n",
      "INFO:splink.iterate:Iteration 15 complete\n",
      "INFO:splink.model:The maximum change in parameters was 0.00040262937545776367 for key proportion_of_matches\n",
      "INFO:splink.iterate:Iteration 16 complete\n",
      "INFO:splink.model:The maximum change in parameters was 0.0003972351551055908 for key proportion_of_matches\n",
      "INFO:splink.iterate:Iteration 17 complete\n",
      "INFO:splink.model:The maximum change in parameters was 0.00039187073707580566 for key proportion_of_matches\n"
     ]
    }
   ],
   "source": [
    "settings = {\n",
    "    \"link_type\": \"dedupe_only\",\n",
    "    \"blocking_rules\": [\n",
    "        \"l.ssn = r.ssn\",\n",
    "    ],\n",
    "    \"comparison_columns\": [\n",
    "        {\n",
    "            \"col_name\": \"first_name\",\n",
    "            \"term_frequency_adjustments\": True},\n",
    "        {\n",
    "            \"col_name\": \"phone\",\n",
    "            \"term_frequency_adjustments\": True\n",
    "        },\n",
    "        {\n",
    "            \"col_name\": \"email_addr\"\n",
    "        },\n",
    "              {\n",
    "            \"col_name\": \"ssn\"\n",
    "        }\n",
    "    ]\n",
    "}\n",
    "from splink import Splink\n",
    "linker = Splink(settings, raw_records, spark)\n",
    "raw_records_entities = linker.get_scored_comparisons()\n",
    "display(raw_records_entities.take(10))"
   ]
  },
  {
   "cell_type": "code",
   "execution_count": null,
   "id": "5056d5f1-f99c-4c5a-b628-7a43b8c949c7",
   "metadata": {},
   "outputs": [],
   "source": [
    "raw_records_entities.show(n=4)"
   ]
  },
  {
   "cell_type": "code",
   "execution_count": null,
   "id": "239ef910-0b3b-43ed-b5c1-4343f369e2a4",
   "metadata": {},
   "outputs": [],
   "source": [
    "raw_records_entities.write.mode(\"overwrite\").saveAsTable(\"raw_records_entities\")"
   ]
  },
  {
   "cell_type": "code",
   "execution_count": null,
   "id": "43d87774-1666-4d87-87ce-104afe7a64be",
   "metadata": {},
   "outputs": [],
   "source": [
    "model = linker.model\n",
    "model.probability_distribution_chart()\n",
    "model.bayes_factor_chart()\n",
    "model.all_charts_write_html_file(\"splink_charts.html\", overwrite=True)"
   ]
  },
  {
   "cell_type": "code",
   "execution_count": null,
   "id": "1688c36a-5152-487d-a49c-265ca426eeb0",
   "metadata": {},
   "outputs": [],
   "source": [
    "model.probability_distribution_chart()"
   ]
  },
  {
   "cell_type": "code",
   "execution_count": 18,
   "id": "3ad43fec-38e5-46f3-aad5-faa16fd637f4",
   "metadata": {},
   "outputs": [
    {
     "name": "stderr",
     "output_type": "stream",
     "text": [
      "INFO:splink.iterate:Iteration 0 complete\n",
      "INFO:splink.model:The maximum change in parameters was 0.0003495514392852783 for key proportion_of_matches\n",
      "INFO:splink.iterate:Iteration 1 complete\n",
      "INFO:splink.model:The maximum change in parameters was 0.00034436583518981934 for key proportion_of_matches\n",
      "INFO:splink.iterate:Iteration 2 complete\n",
      "INFO:splink.model:The maximum change in parameters was 0.00033918023109436035 for key proportion_of_matches\n",
      "INFO:splink.iterate:Iteration 3 complete\n",
      "INFO:splink.model:The maximum change in parameters was 0.00033399462699890137 for key proportion_of_matches\n",
      "INFO:splink.iterate:Iteration 4 complete\n",
      "INFO:splink.model:The maximum change in parameters was 0.00032889842987060547 for key proportion_of_matches\n",
      "INFO:splink.iterate:Iteration 5 complete\n",
      "INFO:splink.model:The maximum change in parameters was 0.0003237724304199219 for key proportion_of_matches\n",
      "INFO:splink.iterate:Iteration 6 complete\n",
      "INFO:splink.model:The maximum change in parameters was 0.000318676233291626 for key proportion_of_matches\n",
      "INFO:splink.iterate:Iteration 7 complete\n",
      "INFO:splink.model:The maximum change in parameters was 0.00031363964080810547 for key proportion_of_matches\n",
      "INFO:splink.iterate:Iteration 8 complete\n",
      "INFO:splink.model:The maximum change in parameters was 0.00030860304832458496 for key proportion_of_matches\n",
      "INFO:splink.iterate:Iteration 9 complete\n",
      "INFO:splink.model:The maximum change in parameters was 0.00030359625816345215 for key proportion_of_matches\n",
      "INFO:splink.iterate:Iteration 10 complete\n",
      "INFO:splink.model:The maximum change in parameters was 0.00029861927032470703 for key proportion_of_matches\n",
      "INFO:splink.iterate:Iteration 11 complete\n",
      "INFO:splink.model:The maximum change in parameters was 0.000293731689453125 for key proportion_of_matches\n",
      "INFO:splink.iterate:Iteration 12 complete\n",
      "INFO:splink.model:The maximum change in parameters was 0.0002888143062591553 for key proportion_of_matches\n",
      "INFO:splink.iterate:Iteration 13 complete\n",
      "INFO:splink.model:The maximum change in parameters was 0.00028398633003234863 for key proportion_of_matches\n",
      "INFO:splink.iterate:Iteration 14 complete\n",
      "INFO:splink.model:The maximum change in parameters was 0.000279158353805542 for key proportion_of_matches\n",
      "INFO:splink.iterate:Iteration 15 complete\n",
      "INFO:splink.model:The maximum change in parameters was 0.00027438998222351074 for key proportion_of_matches\n",
      "INFO:splink.iterate:Iteration 16 complete\n",
      "INFO:splink.model:The maximum change in parameters was 0.0002696514129638672 for key proportion_of_matches\n",
      "INFO:splink.iterate:Iteration 17 complete\n",
      "INFO:splink.model:The maximum change in parameters was 0.000264972448348999 for key proportion_of_matches\n",
      "INFO:splink.iterate:Iteration 18 complete\n",
      "INFO:splink.model:The maximum change in parameters was 0.00026032328605651855 for key proportion_of_matches\n",
      "INFO:splink.iterate:Iteration 19 complete\n",
      "INFO:splink.model:The maximum change in parameters was 0.0002557337284088135 for key proportion_of_matches\n",
      "INFO:splink.iterate:Iteration 20 complete\n",
      "INFO:splink.model:The maximum change in parameters was 0.0002511739730834961 for key proportion_of_matches\n",
      "INFO:splink.iterate:Iteration 21 complete\n",
      "INFO:splink.model:The maximum change in parameters was 0.0002466738224029541 for key proportion_of_matches\n",
      "INFO:splink.iterate:Iteration 22 complete\n",
      "INFO:splink.model:The maximum change in parameters was 0.0002422034740447998 for key proportion_of_matches\n",
      "INFO:splink.iterate:Iteration 23 complete\n",
      "INFO:splink.model:The maximum change in parameters was 0.0002377927303314209 for key proportion_of_matches\n",
      "INFO:splink.iterate:Iteration 24 complete\n",
      "INFO:splink.model:The maximum change in parameters was 0.00023344159126281738 for key proportion_of_matches\n"
     ]
    },
    {
     "name": "stdout",
     "output_type": "stream",
     "text": [
      "\n",
      "Initial probability of match (prior) = λ = 0.4921\n",
      "------\n",
      "Comparison of first_name.  Values are:             \n",
      "first_name_l:                                      Ashleigh\n",
      "first_name_r:                                      As\n",
      "Comparison has:                                    2 levels\n",
      "Level for this comparison:                         gamma_first_name = 0\n",
      "m probability = P(level|match):                    0.9418\n",
      "u probability = P(level|non-match):                0.996\n",
      "Bayes factor = m/u:                                0.9456\n",
      "New probability of match (updated belief):         0.4782\n",
      "\n",
      "------\n",
      "Comparison of phone.  Values are:                  \n",
      "phone_l:                                           01614960257\n",
      "phone_r:                                           01614960275\n",
      "Comparison has:                                    2 levels\n",
      "Level for this comparison:                         gamma_phone = 0\n",
      "m probability = P(level|match):                    0.8231\n",
      "u probability = P(level|non-match):                0.9952\n",
      "Bayes factor = m/u:                                0.827\n",
      "New probability of match (updated belief):         0.4311\n",
      "\n",
      "------\n",
      "Comparison of email_addr.  Values are:             \n",
      "email_addr_l:                                      brownluke@yahoo.co.uk\n",
      "email_addr_r:                                      brownluke@yahoo.co.uk\n",
      "Comparison has:                                    2 levels\n",
      "Level for this comparison:                         gamma_email_addr = 1\n",
      "m probability = P(level|match):                    1\n",
      "u probability = P(level|non-match):                0.9965\n",
      "Bayes factor = m/u:                                1.003\n",
      "New probability of match (updated belief):         0.432\n",
      "\n",
      "------\n",
      "Comparison of ssn.  Values are:                    \n",
      "ssn_l:                                             ZZ 10 79 87 T\n",
      "ssn_r:                                             ZZ 10 79 87 T\n",
      "Comparison has:                                    2 levels\n",
      "Level for this comparison:                         gamma_ssn = 1\n",
      "m probability = P(level|match):                    1\n",
      "u probability = P(level|non-match):                1\n",
      "Bayes factor = m/u:                                1\n",
      "New probability of match (updated belief):         0.432\n",
      "\n",
      "\n",
      "Final probability of match = 0.432\n",
      "\n",
      "Reminder:\n",
      "\n",
      "The m probability for a given level is the proportion of matches which are in this level.\n",
      "We would generally expect the highest similarity level to have the largest proportion of matches.\n",
      "For example, we would expect first name field to match exactly amongst most matching records, except where nicknames, aliases or typos have occurred.\n",
      "For a comparison column that changes through time, like address, we may expect a lower proportion of comparisons to be in the highest similarity level.\n",
      "\n",
      "The u probability for a given level is the proportion of non-matches which are in this level.\n",
      "We would generally expect the lowest similarity level to have the highest proportion of non-matches, but the magnitude depends on the cardinality of the field.\n",
      "For example, we would expect that in the vast majority of non-matching records, the date of birth field would not match.  However, we would expect it to be common for gender to match amongst non-matches.\n",
      "\n"
     ]
    }
   ],
   "source": [
    "from splink.intuition import intuition_report\n",
    "df_e = linker.get_scored_comparisons()\n",
    "row_dict = df_e.toPandas().sample(1).to_dict(orient=\"records\")[0]\n",
    "print(intuition_report(row_dict, model))"
   ]
  }
 ],
 "metadata": {
  "kernelspec": {
   "display_name": "Python 3 (ipykernel)",
   "language": "python",
   "name": "python3"
  },
  "language_info": {
   "codemirror_mode": {
    "name": "ipython",
    "version": 3
   },
   "file_extension": ".py",
   "mimetype": "text/x-python",
   "name": "python",
   "nbconvert_exporter": "python",
   "pygments_lexer": "ipython3",
   "version": "3.8.8"
  }
 },
 "nbformat": 4,
 "nbformat_minor": 5
}
