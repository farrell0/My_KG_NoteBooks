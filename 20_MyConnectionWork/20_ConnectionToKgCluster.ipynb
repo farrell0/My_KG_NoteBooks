{
 "cells": [
  {
   "cell_type": "markdown",
   "id": "31caa61a-2b37-4ed6-8ff7-811f37b4c59d",
   "metadata": {},
   "source": [
    "\n",
    "\n",
    "![KG Logo](./01_Images/88_KG-Logo-1.png)\n",
    "\n",
    "\n",
    "Hello world\n"
   ]
  },
  {
   "cell_type": "code",
   "execution_count": 1,
   "id": "074363a8-17ee-4493-8f6d-86fb14364926",
   "metadata": {
    "tags": []
   },
   "outputs": [
    {
     "name": "stderr",
     "output_type": "stream",
     "text": [
      "VERBOSE: ../../../../external/katana/libgalois/include/katana/AsyncPool.h:152: 8378: async pool tids: 139712134125312, 139712059213568\n",
      "VERBOSE: ../../../../external/katana/libgalois/include/katana/AsyncPool.h:152: 8378: async pool tids: 139712057112320, 139712052913920\n",
      "VERBOSE: ../../../../external/katana/libgalois/include/katana/AsyncPool.h:152: 8378: async pool tids: 139712048715520, 139712040322816\n",
      "VERBOSE: ../../../../external/katana/libgalois/include/katana/AsyncPool.h:152: 8378: async pool tids: 139712031930112, 139712015148800\n",
      "VERBOSE: ../../../../external/katana/libgalois/include/katana/AsyncPool.h:152: 8378: async pool tids: 139711998367488, 139711996266240\n"
     ]
    },
    {
     "name": "stdout",
     "output_type": "stream",
     "text": [
      "<katana_enterprise.remote.sync_wrappers.Client object at 0x7f1182c57b80>\n"
     ]
    }
   ],
   "source": [
    "import os\n",
    "\n",
    "from katana import remote\n",
    "\n",
    "#  Don't need these when using CoD ..\n",
    "#\n",
    "# os.environ[\"KATANA_SERVER_ADDRESS\"] = \"host.docker.internal:8080\"\n",
    "# os.environ[\"KATANA_SERVER_ADDRESS\"] = \"localhost:8080\"\n",
    "\n",
    "# my_client = remote.Client(disable_version_check=True)\n",
    "my_client = remote.Client()\n",
    "\n",
    "\n",
    "print(my_client)"
   ]
  },
  {
   "cell_type": "code",
   "execution_count": null,
   "id": "9095bd7d-0778-4cbf-896f-dd84ee40d60c",
   "metadata": {},
   "outputs": [],
   "source": [
    "#  This was a test when first using CoD ..\n",
    "#\n",
    "# import os\n",
    "# \n",
    "# print(os.environ.get(\"KATANA_SERVER_ADDRESS\"))\n"
   ]
  },
  {
   "cell_type": "code",
   "execution_count": 2,
   "id": "be4dce71-42d2-49ad-9bfd-17dcbb08d4bb",
   "metadata": {
    "tags": []
   },
   "outputs": [
    {
     "name": "stdout",
     "output_type": "stream",
     "text": [
      "0.4.0+20220819T155332Z.a3f19f0d7.dev.dirty\n"
     ]
    }
   ],
   "source": [
    "# print(await my_client.server_version)\n",
    "\n",
    "print(my_client.server_version)\n"
   ]
  },
  {
   "cell_type": "code",
   "execution_count": 3,
   "id": "1d5e759f-bd53-4817-97f9-edbdaef9f191",
   "metadata": {},
   "outputs": [
    {
     "data": {
      "text/html": [
       "\n",
       "                    <iframe\n",
       "                        id=\"operations_widget\"\n",
       "                        src=\"about:blank\"\n",
       "                        title=\"Operations Widget\"\n",
       "                        height=\"400px\"\n",
       "                        width=\"100%\"\n",
       "                        frameborder=\"0\"\n",
       "                        allow=\"clipboard-write\"\n",
       "                        allowfullscreen\n",
       "                    >\n",
       "                    </iframe>\n",
       "                    <script type=\"text/javascript\">\n",
       "                        (function () {\n",
       "                            const operations_url = `${\n",
       "                                \"http://current-mayfly-controller:8080/v2\".includes(\"controller\") ?\n",
       "                                window.location.origin + \"/v2\" : \"http://current-mayfly-controller:8080/v2\"\n",
       "                            }/widgets/operations-widget`\n",
       "                            setTimeout(() => {\n",
       "                                document.getElementById(\"operations_widget\").setAttribute('src', operations_url)\n",
       "                            }, 10)\n",
       "                        })()\n",
       "                    </script>\n",
       "                "
      ],
      "text/plain": [
       "<IPython.core.display.HTML object>"
      ]
     },
     "metadata": {},
     "output_type": "display_data"
    }
   ],
   "source": [
    "my_client.widgets().operations()\n"
   ]
  },
  {
   "cell_type": "code",
   "execution_count": null,
   "id": "be0b2521-f620-472a-9d03-109a961fd81d",
   "metadata": {},
   "outputs": [],
   "source": [
    "\n",
    "#  Not working\n",
    "#\n",
    "# print(trace.get_log(remote.Client()))\n"
   ]
  },
  {
   "cell_type": "markdown",
   "id": "dfbec3ef-c35a-4459-a883-466e0110cd91",
   "metadata": {},
   "source": [
    "\n",
    "    "
   ]
  }
 ],
 "metadata": {
  "kernelspec": {
   "display_name": "Python 3 (ipykernel)",
   "language": "python",
   "name": "python3"
  },
  "language_info": {
   "codemirror_mode": {
    "name": "ipython",
    "version": 3
   },
   "file_extension": ".py",
   "mimetype": "text/x-python",
   "name": "python",
   "nbconvert_exporter": "python",
   "pygments_lexer": "ipython3",
   "version": "3.8.13"
  }
 },
 "nbformat": 4,
 "nbformat_minor": 5
}
