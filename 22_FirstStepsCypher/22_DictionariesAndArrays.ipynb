{
 "cells": [
  {
   "cell_type": "code",
   "execution_count": null,
   "id": "71daaf1f-efc8-470f-9fa9-6e278b4018cb",
   "metadata": {},
   "outputs": [],
   "source": [
    "\n",
    "#  This file demonstrates,\n",
    "#\n",
    "#     .  A better approach to json.loads()\n",
    "#        Look for: import ast\n",
    "#\n",
    "#     .  Manual Cypher CREATE loops\n",
    "#\n"
   ]
  },
  {
   "cell_type": "markdown",
   "id": "d73e5a84-65ef-45bc-b0e4-2de3b28f6441",
   "metadata": {},
   "source": [
    "#  Setup stuff: Connectivity"
   ]
  },
  {
   "cell_type": "code",
   "execution_count": null,
   "id": "e4e24b74-89d3-431f-9211-fb476862852c",
   "metadata": {},
   "outputs": [],
   "source": [
    "\n",
    "from katana import remote\n",
    "from katana.remote import import_data\n",
    "\n",
    "my_client = remote.Client()\n",
    "\n",
    "print(my_client)\n"
   ]
  },
  {
   "cell_type": "code",
   "execution_count": null,
   "id": "9715c6f6-137c-429e-8c17-7a1d538c543f",
   "metadata": {},
   "outputs": [],
   "source": [
    "\n",
    "NUM_PARTITIONS  = 3\n",
    "   #\n",
    "DB_NAME         = \"my_db\"\n",
    "GRAPH_NAME      = \"my_graph\"\n",
    "\n",
    "print(\"--\")\n"
   ]
  },
  {
   "cell_type": "code",
   "execution_count": null,
   "id": "c38c4f0c-9431-4802-946c-d1ebc0136972",
   "metadata": {},
   "outputs": [],
   "source": [
    "\n",
    "#  DELETE ALL GRAPHS\n",
    "\n",
    "for l_database in my_client.databases():\n",
    "   for l_graph in my_client.get_database(name=l_database.name).graphs_in_database():\n",
    "      l_handle=my_client.get_database(name=l_database.name).get_graph_by_id(id=l_graph.graph_id)\n",
    "      l_handle.delete()\n",
    "\n",
    "for l_graph in my_client.graphs():\n",
    "   print(\"GRAPH ID: \", l_graph.graph_id, \"      GRAPH Version: \", l_graph.version)\n",
    "\n",
    "print(\"--\")\n"
   ]
  },
  {
   "cell_type": "code",
   "execution_count": null,
   "id": "99c7e24c-b039-4b69-8f52-5db15a26a28e",
   "metadata": {},
   "outputs": [],
   "source": [
    "\n",
    "#  DELETE ALL DATABASES\n",
    "\n",
    "for l_database in my_client.databases():\n",
    "   if (l_database.name != \"default\"):\n",
    "      my_client.get_database(name=l_database.name).delete_database()\n",
    "      print(\"--\")\n",
    "\n",
    "for l_database in my_client.databases():\n",
    "   print(\"DB ID: \", l_database.database_id, \"     DB Name: \", l_database.name)\n"
   ]
  },
  {
   "cell_type": "code",
   "execution_count": null,
   "id": "5e171876-c999-4711-aa8a-877698e947e2",
   "metadata": {},
   "outputs": [],
   "source": [
    "\n",
    "#  CREATE DATABASE\n",
    "\n",
    "my_database = my_client.create_database(name=DB_NAME)\n",
    "\n",
    "print(my_database.database_id)\n"
   ]
  },
  {
   "cell_type": "code",
   "execution_count": null,
   "id": "ba10f3c5-4f74-4523-be06-5370ed273138",
   "metadata": {},
   "outputs": [],
   "source": [
    "\n",
    "#  CREATE GRAPH\n",
    "\n",
    "my_graph = my_client.get_database(name=DB_NAME).create_graph(name=GRAPH_NAME, num_partitions=NUM_PARTITIONS)\n",
    "\n",
    "print(my_graph)\n"
   ]
  },
  {
   "cell_type": "code",
   "execution_count": null,
   "id": "a9ca0967-8d5c-4cc5-bb04-c244cf887b61",
   "metadata": {},
   "outputs": [],
   "source": [
    "\n",
    "#  CONNECT TO GRAPH\n",
    "\n",
    "my_graph, *_ = my_client.get_database(name=DB_NAME).find_graphs_by_name(GRAPH_NAME)\n",
    "\n",
    "print(my_graph)\n"
   ]
  },
  {
   "cell_type": "code",
   "execution_count": null,
   "id": "19027cb8-5793-45e1-a316-fcbc0bf2bd4a",
   "metadata": {},
   "outputs": [],
   "source": [
    "\n",
    "display(my_graph.num_nodes())\n",
    "display(my_graph.num_edges())\n"
   ]
  },
  {
   "cell_type": "markdown",
   "id": "56f72cd2-5b67-4807-a453-230f3799e559",
   "metadata": {},
   "source": [
    "#  Group: 01"
   ]
  },
  {
   "cell_type": "code",
   "execution_count": null,
   "id": "af64cf70-8893-40a5-a84f-48f7f366720a",
   "metadata": {},
   "outputs": [],
   "source": [
    "\n",
    "import pandas as pd\n",
    "   #\n",
    "pd.set_option(\"display.width\", 480)\n",
    "\n",
    "print(\"--\")\n"
   ]
  },
  {
   "cell_type": "code",
   "execution_count": null,
   "id": "6726ec52-c645-4bbe-81c4-9f19f6ae9c51",
   "metadata": {},
   "outputs": [],
   "source": [
    "#  Simple test, write, simple data types ..\n",
    "\n",
    "df_data = pd.DataFrame([\n",
    "   [101, \"Sameer\"    , \"Katana\"                , \"Bay\"    , \"my_vertice\"],\n",
    "   [102, \"Justin\"    , \"Katana\"                , \"LA\"     , \"my_vertice\"],\n",
    "   [103, \"Brian\"     , \"Katana\"                , \"Denver\" , \"my_vertice\"],\n",
    "   ], columns = [\"col1\", \"col2\", \"col3\", \"col4\", \"col5\"])\n",
    "\n",
    "df_data.head(20)\n"
   ]
  },
  {
   "cell_type": "code",
   "execution_count": null,
   "id": "443d0211-c9f0-4b77-945b-8c9e413b4c17",
   "metadata": {},
   "outputs": [],
   "source": [
    "\n",
    "for l_each in df_data.itertuples():\n",
    "    \n",
    "   l_query = \"\"\"\n",
    "\n",
    "      CREATE ( n: {4} {{ colA: {0} }} )                         //  Notice double curly braces\n",
    "      SET n.colB = '{1}', n.colC = '{2}', n.colD = '{3}'\n",
    "      \n",
    "      \"\"\".format(l_each.col1, l_each.col2, l_each.col3, l_each.col4, l_each.col5)\n",
    "         \n",
    "   l_result0 = my_graph.query(l_query)\n",
    "        \n",
    "print(\"--\")\n"
   ]
  },
  {
   "cell_type": "code",
   "execution_count": null,
   "id": "8d21f954-a012-45f1-be1b-18a0780e602c",
   "metadata": {},
   "outputs": [],
   "source": [
    "\n",
    "l_result = my_graph.query(\"\"\"\n",
    "\n",
    "   MATCH (n)\n",
    "   RETURN n\n",
    "   \n",
    "   \"\"\")\n",
    "\n",
    "print(l_result)\n"
   ]
  },
  {
   "cell_type": "markdown",
   "id": "8a154f1f-1037-458d-9a62-f89549cf6a36",
   "metadata": {},
   "source": [
    "#  Reset from above "
   ]
  },
  {
   "cell_type": "code",
   "execution_count": 38,
   "id": "e242ac98-302c-4757-a50a-0cd5f3966ac5",
   "metadata": {},
   "outputs": [
    {
     "name": "stdout",
     "output_type": "stream",
     "text": [
      "--\n"
     ]
    }
   ],
   "source": [
    "\n",
    "#  Reset from above, delete and recreate the graph\n",
    "\n",
    "#  DELETE GRAPH\n",
    "#\n",
    "for l_graph in my_client.get_database(name=DB_NAME).graphs_in_database():\n",
    "   if (l_graph.name == GRAPH_NAME):\n",
    "      l_handle=my_client.get_database(name=DB_NAME).get_graph_by_id(id=l_graph.graph_id)\n",
    "      l_handle.delete()\n",
    "\n",
    "print(\"--\")\n"
   ]
  },
  {
   "cell_type": "code",
   "execution_count": 39,
   "id": "07315f7e-c63b-43a3-b420-f55445df1872",
   "metadata": {},
   "outputs": [
    {
     "name": "stdout",
     "output_type": "stream",
     "text": [
      "<_Graph my_graph, GsKbApRLBtnyH7A2SCsJPvwquacQv8QjnHqJrJHHmZBR, 0>\n"
     ]
    }
   ],
   "source": [
    "\n",
    "#  CREATE GRAPH\n",
    "#\n",
    "my_graph = my_client.get_database(name=DB_NAME).create_graph(name=GRAPH_NAME, num_partitions=NUM_PARTITIONS)\n",
    "\n",
    "print(my_graph)\n"
   ]
  },
  {
   "cell_type": "markdown",
   "id": "d69a212d-9dd6-4bcb-9fe1-c145d90800e0",
   "metadata": {},
   "source": [
    "#  Group: 02"
   ]
  },
  {
   "cell_type": "code",
   "execution_count": 40,
   "id": "5acf7a95-f923-43d9-83d1-9a1b44d341ff",
   "metadata": {},
   "outputs": [
    {
     "data": {
      "text/html": [
       "<div>\n",
       "<style scoped>\n",
       "    .dataframe tbody tr th:only-of-type {\n",
       "        vertical-align: middle;\n",
       "    }\n",
       "\n",
       "    .dataframe tbody tr th {\n",
       "        vertical-align: top;\n",
       "    }\n",
       "\n",
       "    .dataframe thead th {\n",
       "        text-align: right;\n",
       "    }\n",
       "</style>\n",
       "<table border=\"1\" class=\"dataframe\">\n",
       "  <thead>\n",
       "    <tr style=\"text-align: right;\">\n",
       "      <th></th>\n",
       "      <th>col1</th>\n",
       "      <th>col2</th>\n",
       "      <th>col3</th>\n",
       "      <th>col4</th>\n",
       "      <th>col5</th>\n",
       "    </tr>\n",
       "  </thead>\n",
       "  <tbody>\n",
       "    <tr>\n",
       "      <th>0</th>\n",
       "      <td>101</td>\n",
       "      <td>30</td>\n",
       "      <td>{'ab': 1, 'we': 2, 'as': 3}</td>\n",
       "      <td>String1</td>\n",
       "      <td>my_vertice</td>\n",
       "    </tr>\n",
       "    <tr>\n",
       "      <th>1</th>\n",
       "      <td>102</td>\n",
       "      <td>31</td>\n",
       "      <td>{'ab': 4, 'we': 5, 'as': 6}</td>\n",
       "      <td>String2</td>\n",
       "      <td>my_vertice</td>\n",
       "    </tr>\n",
       "    <tr>\n",
       "      <th>2</th>\n",
       "      <td>103</td>\n",
       "      <td>32</td>\n",
       "      <td>{'ab': 7, 'we': 8, 'as': 9}</td>\n",
       "      <td>String2</td>\n",
       "      <td>my_vertice</td>\n",
       "    </tr>\n",
       "  </tbody>\n",
       "</table>\n",
       "</div>"
      ],
      "text/plain": [
       "   col1  col2                         col3     col4        col5\n",
       "0   101    30  {'ab': 1, 'we': 2, 'as': 3}  String1  my_vertice\n",
       "1   102    31  {'ab': 4, 'we': 5, 'as': 6}  String2  my_vertice\n",
       "2   103    32  {'ab': 7, 'we': 8, 'as': 9}  String2  my_vertice"
      ]
     },
     "execution_count": 40,
     "metadata": {},
     "output_type": "execute_result"
    }
   ],
   "source": [
    "\n",
    "#  Write the more complex dataframe ..\n",
    "\n",
    "df_data = pd.DataFrame([\n",
    "   [101, 30, {\"ab\":1, \"we\":2, \"as\":3}, \"String1\", \"my_vertice\"],\n",
    "   [102, 31, {\"ab\":4, \"we\":5, \"as\":6}, \"String2\", \"my_vertice\"],\n",
    "   [103, 32, {\"ab\":7, \"we\":8, \"as\":9}, \"String2\", \"my_vertice\"],\n",
    "   ], columns = [\"col1\", \"col2\", \"col3\", \"col4\", \"col5\"])\n",
    "\n",
    "df_data.head(20)\n"
   ]
  },
  {
   "cell_type": "code",
   "execution_count": null,
   "id": "da941d26-4e3f-4873-9016-a058acb933fb",
   "metadata": {},
   "outputs": [],
   "source": [
    "#  Prove that we can (parse) the dataframe above, versus say \"col3\" being a string ..\n",
    "\n",
    "for l_each in df_data.itertuples():\n",
    "   #  print(type(l_each.col3))                               #  <class 'dict'>\n",
    "   print(l_each.col3[\"ab\"])\n"
   ]
  },
  {
   "cell_type": "code",
   "execution_count": 41,
   "id": "913dda2e-3969-44da-b5b8-ea3f9ac9e0ae",
   "metadata": {},
   "outputs": [
    {
     "data": {
      "application/vnd.jupyter.widget-view+json": {
       "model_id": "a26fe643be8a40f48ee00ff5c558c953",
       "version_major": 2,
       "version_minor": 0
      },
      "text/plain": [
       "          0/? [?op/s]"
      ]
     },
     "metadata": {},
     "output_type": "display_data"
    },
    {
     "data": {
      "application/vnd.jupyter.widget-view+json": {
       "model_id": "0819d682063948f38bed4fa2d77d4003",
       "version_major": 2,
       "version_minor": 0
      },
      "text/plain": [
       "          0/? [?op/s]"
      ]
     },
     "metadata": {},
     "output_type": "display_data"
    },
    {
     "data": {
      "application/vnd.jupyter.widget-view+json": {
       "model_id": "44327e572f694726a1d54ffde77570b5",
       "version_major": 2,
       "version_minor": 0
      },
      "text/plain": [
       "          0/? [?op/s]"
      ]
     },
     "metadata": {},
     "output_type": "display_data"
    },
    {
     "name": "stdout",
     "output_type": "stream",
     "text": [
      "--\n"
     ]
    }
   ],
   "source": [
    "\n",
    "for l_each in df_data.itertuples():\n",
    "   l_query = \"\"\"\n",
    "\n",
    "      CREATE ( n: {4} {{ col1: {0} }} )                         //  Notice double curly braces\n",
    "      SET n.col2 = {1}, n.col3 = \\\"{2}\\\", n.col4 = '{3}'\n",
    "      \n",
    "      \"\"\".format(l_each.col1, l_each.col2, l_each.col3, l_each.col4, l_each.col5)\n",
    "         \n",
    "   l_result0 = my_graph.query(l_query)\n",
    "        \n",
    "print(\"--\")\n"
   ]
  },
  {
   "cell_type": "code",
   "execution_count": 42,
   "id": "c60fc7df-ad0f-45cc-8dc0-a551d7426bc2",
   "metadata": {},
   "outputs": [
    {
     "data": {
      "application/vnd.jupyter.widget-view+json": {
       "model_id": "4cafd52923014b7cb6d9abae8a70e6ef",
       "version_major": 2,
       "version_minor": 0
      },
      "text/plain": [
       "          0/? [?op/s]"
      ]
     },
     "metadata": {},
     "output_type": "display_data"
    },
    {
     "name": "stdout",
     "output_type": "stream",
     "text": [
      "                          col3\n",
      "0  {'ab': 4, 'we': 5, 'as': 6}\n",
      "1  {'ab': 1, 'we': 2, 'as': 3}\n",
      "2  {'ab': 7, 'we': 8, 'as': 9}\n"
     ]
    }
   ],
   "source": [
    "\n",
    "l_result = my_graph.query(\"\"\"\n",
    "\n",
    "   MATCH (n)\n",
    "   RETURN n.col3 AS col3\n",
    "   \"\"\")\n",
    "\n",
    "print(l_result)\n"
   ]
  },
  {
   "cell_type": "code",
   "execution_count": 43,
   "id": "ae1b8b0c-85ab-4bd0-9441-54ccce4a236e",
   "metadata": {},
   "outputs": [
    {
     "data": {
      "application/vnd.jupyter.widget-view+json": {
       "model_id": "fbbde03865564ab58eb0af7fb4a280c5",
       "version_major": 2,
       "version_minor": 0
      },
      "text/plain": [
       "          0/? [?op/s]"
      ]
     },
     "metadata": {},
     "output_type": "display_data"
    },
    {
     "name": "stdout",
     "output_type": "stream",
     "text": [
      "                        n.col3\n",
      "0  {'ab': 1, 'we': 2, 'as': 3}\n",
      "1  {'ab': 7, 'we': 8, 'as': 9}\n",
      "2  {'ab': 4, 'we': 5, 'as': 6}\n"
     ]
    }
   ],
   "source": [
    "\n",
    "#  This one errors out. There may not be an answer.\n",
    "#\n",
    "#  As we are inserting the data, it goes in as a string.\n",
    "#\n",
    "\n",
    "l_result = my_graph.query(\"\"\"\n",
    "\n",
    "   MATCH (n)\n",
    "   // RETURN n.col3.ab\n",
    "   // RETURN n.col3[ab]\n",
    "   // RETURN n.col3['ab']\n",
    "   // RETURN n.col3.{ab}\n",
    "   // RETURN n.col3{ab}\n",
    "   RETURN n.col3\n",
    "   \n",
    "   \"\"\")\n",
    "\n",
    "print(l_result)\n"
   ]
  },
  {
   "cell_type": "code",
   "execution_count": null,
   "id": "eb39b80b-7bec-4e63-8e1a-17c04d455583",
   "metadata": {},
   "outputs": [],
   "source": []
  },
  {
   "cell_type": "code",
   "execution_count": null,
   "id": "c9afa3c8-8ef7-4ca6-b6f6-49bbc62bdebc",
   "metadata": {},
   "outputs": [],
   "source": []
  },
  {
   "cell_type": "code",
   "execution_count": null,
   "id": "377161da-f22c-4be2-ac01-2aaadd48be61",
   "metadata": {},
   "outputs": [],
   "source": []
  },
  {
   "cell_type": "code",
   "execution_count": null,
   "id": "b58a83e8-a25c-4b3d-aa61-aa7202c03cb1",
   "metadata": {},
   "outputs": [],
   "source": [
    "\n",
    "#  import json, json.loads(),  does not work here because the DataFrame returned single quotes\n",
    "\n",
    "import ast\n",
    "\n",
    "for l_each in l_result.itertuples():\n",
    "   l_aaa = ast.literal_eval(l_each.col3)\n",
    "   print(l_aaa[\"ab\"])\n",
    "    \n",
    "print(\"--\")\n"
   ]
  },
  {
   "cell_type": "markdown",
   "id": "e0dd3955-0caf-44e2-b04c-d83ebaa4bade",
   "metadata": {},
   "source": [
    "#  Reset from above "
   ]
  },
  {
   "cell_type": "code",
   "execution_count": null,
   "id": "6f26c01e-8f45-44ad-9b0f-fe2f620b4ec7",
   "metadata": {},
   "outputs": [],
   "source": [
    "#  Reset from above, delete and recreate the graph\n",
    "\n",
    "#  DELETE GRAPH\n",
    "#\n",
    "for l_graph in my_client.get_database(name=DB_NAME).graphs_in_database():\n",
    "   if (l_graph.name == GRAPH_NAME):\n",
    "      l_handle=my_client.get_database(name=DB_NAME).get_graph_by_id(id=l_graph.graph_id)\n",
    "      l_handle.delete()\n",
    "\n",
    "print(\"--\")\n"
   ]
  },
  {
   "cell_type": "code",
   "execution_count": null,
   "id": "3c998fb4-233b-4dd6-8b83-e0fe225a7bd3",
   "metadata": {},
   "outputs": [],
   "source": [
    "\n",
    "#  CREATE GRAPH\n",
    "\n",
    "my_graph = my_client.get_database(name=DB_NAME).create_graph(name=GRAPH_NAME, num_partitions=NUM_PARTITIONS)\n",
    "\n",
    "print(my_graph)\n"
   ]
  },
  {
   "cell_type": "markdown",
   "id": "7ebd97b2-bd82-4c21-b7e4-87e4c996c957",
   "metadata": {},
   "source": [
    "#  Group: 03"
   ]
  },
  {
   "cell_type": "code",
   "execution_count": null,
   "id": "847b0c2d-d675-4240-9135-6e725c136e62",
   "metadata": {},
   "outputs": [],
   "source": [
    "#  Write the more complex dataframe ..\n",
    "\n",
    "df_data = pd.DataFrame([\n",
    "   [101, 30, [ 1, 2, 3 ], \"String1\", \"my_vertice\"],\n",
    "   [102, 31, [ 4, 5, 6 ], \"String2\", \"my_vertice\"],\n",
    "   [103, 32, [ 7, 8, 9 ], \"String2\", \"my_vertice\"],\n",
    "   ], columns = [\"col1\", \"col2\", \"col3\", \"col4\", \"col5\"])\n",
    "\n",
    "df_data.head(20)\n"
   ]
  },
  {
   "cell_type": "code",
   "execution_count": null,
   "id": "d1b8f62d-8c07-437d-9dad-073130e73665",
   "metadata": {},
   "outputs": [],
   "source": [
    "\n",
    "#  Prove that we can (parse) the dataframe above, versus say \"col3\" being a string ..\n",
    "#\n",
    "#  Recall arrays and similar index from zero ..\n",
    "\n",
    "print(df_data.col3[1][2])\n"
   ]
  },
  {
   "cell_type": "code",
   "execution_count": null,
   "id": "804908e6-f391-43c7-bbb8-67ef3d631aa1",
   "metadata": {},
   "outputs": [],
   "source": [
    "\n",
    "for l_each in df_data.itertuples():\n",
    "    \n",
    "   l_query = \"\"\"\n",
    "\n",
    "      CREATE ( n: {4} {{ col1: {0} }} )                         //  Notice double curly braces\n",
    "      SET n.col2 = {1}, n.col3 = {2}, n.col4 = '{3}'\n",
    "      \n",
    "      \"\"\".format(l_each.col1, l_each.col2, l_each.col3, l_each.col4, l_each.col5)\n",
    "         \n",
    "   l_result0 = my_graph.query(l_query)\n",
    "        \n",
    "print(\"--\")\n"
   ]
  },
  {
   "cell_type": "code",
   "execution_count": null,
   "id": "847c81a5-ee7e-42bf-9a47-6effdaf2fe53",
   "metadata": {},
   "outputs": [],
   "source": [
    "\n",
    "l_result = my_graph.query(\"\"\"\n",
    "\n",
    "   MATCH (n)\n",
    "   RETURN n.col3[1]\n",
    "   \n",
    "   \"\"\")\n",
    "\n",
    "print(l_result)\n"
   ]
  }
 ],
 "metadata": {
  "kernelspec": {
   "display_name": "Python 3 (ipykernel)",
   "language": "python",
   "name": "python3"
  },
  "language_info": {
   "codemirror_mode": {
    "name": "ipython",
    "version": 3
   },
   "file_extension": ".py",
   "mimetype": "text/x-python",
   "name": "python",
   "nbconvert_exporter": "python",
   "pygments_lexer": "ipython3",
   "version": "3.8.13"
  }
 },
 "nbformat": 4,
 "nbformat_minor": 5
}
