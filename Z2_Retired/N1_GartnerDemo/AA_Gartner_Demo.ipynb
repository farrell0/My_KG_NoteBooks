{
 "cells": [
  {
   "cell_type": "code",
   "execution_count": null,
   "id": "51a60822-abef-4755-abd0-07e1ee659d4d",
   "metadata": {},
   "outputs": [],
   "source": [
    "\n",
    "#  At least 7 machines in the cluster and suggested machine type is n2-highmem-80.\n",
    "\n"
   ]
  },
  {
   "cell_type": "code",
   "execution_count": 1,
   "id": "04f55f4e-11ff-497e-8b3b-88e624d63914",
   "metadata": {},
   "outputs": [],
   "source": [
    "import os\n",
    "import re\n",
    "import pandas as pd\n",
    "\n",
    "from katana import remote\n",
    "from katana.remote import import_data\n",
    "\n",
    "# Connect to the Katana Server\n",
    "client = remote.Client(address=\"host.docker.internal:8080\")"
   ]
  },
  {
   "cell_type": "code",
   "execution_count": 2,
   "id": "83099a47-2290-4cf2-9b49-28b2580ad5a6",
   "metadata": {},
   "outputs": [
    {
     "data": {
      "application/vnd.jupyter.widget-view+json": {
       "model_id": "22a07597a664420db1fd9492ac140ed6",
       "version_major": 2,
       "version_minor": 0
      },
      "text/plain": [
       "          0/? [?op/s]"
      ]
     },
     "metadata": {},
     "output_type": "display_data"
    }
   ],
   "source": [
    "graph = client.create_graph(num_partitions=7)\n",
    "graph_path = \"gs://katana-internal5/Providence-Graphs/Hetio/\"\n",
    "import_data.rdg(graph, graph_path)"
   ]
  },
  {
   "cell_type": "code",
   "execution_count": 3,
   "id": "53ebb3b9-c999-4a71-8519-4d85e77db444",
   "metadata": {},
   "outputs": [
    {
     "data": {
      "application/vnd.jupyter.widget-view+json": {
       "model_id": "9b629eb1fd7c4138a1b4b419d41585a3",
       "version_major": 2,
       "version_minor": 0
      },
      "text/plain": [
       "          0/? [?op/s]"
      ]
     },
     "metadata": {},
     "output_type": "display_data"
    },
    {
     "data": {
      "application/vnd.jupyter.widget-view+json": {
       "model_id": "0c311f060f544eaaacb2d79e5372b7bf",
       "version_major": 2,
       "version_minor": 0
      },
      "text/plain": [
       "VBox(children=(HTML(value='\\n                <style>\\n                #jp-main-content-panel .widget-container…"
      ]
     },
     "metadata": {},
     "output_type": "display_data"
    }
   ],
   "source": [
    "graph.schema().view()"
   ]
  },
  {
   "cell_type": "code",
   "execution_count": 4,
   "id": "0ede26dc-8059-4c79-ba16-252da1ce614f",
   "metadata": {},
   "outputs": [
    {
     "data": {
      "application/vnd.jupyter.widget-view+json": {
       "model_id": "7f8ecaf0ed984ef1ba65e648274b870e",
       "version_major": 2,
       "version_minor": 0
      },
      "text/plain": [
       "          0/? [?op/s]"
      ]
     },
     "metadata": {},
     "output_type": "display_data"
    }
   ],
   "source": [
    "graph = client.create_graph(num_partitions=7)\n",
    "graph_path = \"gs://katana-internal5/Providence-Graphs/Hetio+GDSC/\"\n",
    "import_data.rdg(graph, graph_path)"
   ]
  },
  {
   "cell_type": "code",
   "execution_count": 5,
   "id": "c02305ba-6340-476c-8a80-85e587c9c167",
   "metadata": {},
   "outputs": [
    {
     "data": {
      "application/vnd.jupyter.widget-view+json": {
       "model_id": "9ed97bad85b24a9e9c71268b586104d1",
       "version_major": 2,
       "version_minor": 0
      },
      "text/plain": [
       "          0/? [?op/s]"
      ]
     },
     "metadata": {},
     "output_type": "display_data"
    },
    {
     "data": {
      "application/vnd.jupyter.widget-view+json": {
       "model_id": "6cb05a72c8fa4356973b5830718f7ffe",
       "version_major": 2,
       "version_minor": 0
      },
      "text/plain": [
       "VBox(children=(HTML(value='\\n                <style>\\n                #jp-main-content-panel .widget-container…"
      ]
     },
     "metadata": {},
     "output_type": "display_data"
    }
   ],
   "source": [
    "graph.schema().view()"
   ]
  },
  {
   "cell_type": "code",
   "execution_count": 7,
   "id": "f3038e77-46b9-4770-bbfd-83ea6a83acc8",
   "metadata": {},
   "outputs": [
    {
     "data": {
      "application/vnd.jupyter.widget-view+json": {
       "model_id": "ff824951da4247ed9a89b15da7aba9ad",
       "version_major": 2,
       "version_minor": 0
      },
      "text/plain": [
       "          0/? [?op/s]"
      ]
     },
     "metadata": {},
     "output_type": "display_data"
    }
   ],
   "source": [
    "graph = client.create_graph(num_partitions=7)\n",
    "graph_path = \"gs://katana-internal48/graph/9JdxR9tyZaSocAbJLWzVAhjWL71YBQbVZNUi3wCJoxyF\"\n",
    "import_data.rdg(graph, graph_path)"
   ]
  },
  {
   "cell_type": "code",
   "execution_count": 8,
   "id": "a37fc316-382e-4e51-8952-ac8155aa1021",
   "metadata": {},
   "outputs": [
    {
     "data": {
      "application/vnd.jupyter.widget-view+json": {
       "model_id": "4d5d722027564b7797c532de9ef7ee1d",
       "version_major": 2,
       "version_minor": 0
      },
      "text/plain": [
       "          0/? [?op/s]"
      ]
     },
     "metadata": {},
     "output_type": "display_data"
    },
    {
     "data": {
      "application/vnd.jupyter.widget-view+json": {
       "model_id": "e96501cac36d4ce481aa26454a3572af",
       "version_major": 2,
       "version_minor": 0
      },
      "text/plain": [
       "VBox(children=(HTML(value='\\n                <style>\\n                #jp-main-content-panel .widget-container…"
      ]
     },
     "metadata": {},
     "output_type": "display_data"
    }
   ],
   "source": [
    "graph.schema(short_schema=True).view()"
   ]
  },
  {
   "cell_type": "code",
   "execution_count": null,
   "id": "37bec4e8-42ac-4bda-8643-2a6421c047d7",
   "metadata": {},
   "outputs": [
    {
     "data": {
      "application/vnd.jupyter.widget-view+json": {
       "model_id": "4a91ad6868454b848abd8c98442d6be4",
       "version_major": 2,
       "version_minor": 0
      },
      "text/plain": [
       "          0/? [?op/s]"
      ]
     },
     "metadata": {},
     "output_type": "display_data"
    },
    {
     "data": {
      "application/vnd.jupyter.widget-view+json": {
       "model_id": "2d8f637894fb47da85ab92cb2dd87196",
       "version_major": 2,
       "version_minor": 0
      },
      "text/plain": [
       "          0/? [?op/s]"
      ]
     },
     "metadata": {},
     "output_type": "display_data"
    }
   ],
   "source": [
    "%%time\n",
    "q=\"\"\" \n",
    "\n",
    "  // optimization - much smaller set of essential genes so start here first before tcga\n",
    "  MATCH (i:GDSC_IC50_RESULT)-[:HAS_CELL_LINE]->(cl)<-[:HAS_CELL_LINE]-(ach:ACHILLES_ENTRY)-[:HAS_GENE]->(essg:GENE)\n",
    "  //MATCH (ach:ACHILLES_ENTRY)-[:HAS_GENE]->(essg:GENE)\n",
    "   where\n",
    "   i.tcga_cancer_name = 'SKCM'\n",
    "   and ach.Dependency > .8\n",
    "   //and essg.symbol = 'PDK1'\n",
    "  \n",
    "  //check for common essentials membership\n",
    "  and essg.isCommonEssential='False'\n",
    "\n",
    "  // this breaks it\n",
    "  //and not ((ach)-[:HAS_ENTREZ_GENE]-(x:GENE))\n",
    "\n",
    "  with distinct essg, i.tcga_cancer_name as cancerType, ach.Dependency as depends limit 1000\n",
    " \n",
    "  \n",
    "  match (t1:TCGA_GENE)-[o:OBSERVED_MUTATION]->(t2:TCGA_GENE)\n",
    "  where o.cancer_type = 'SKCM'\n",
    "  and (toFloat(o.Log2FoldChange )) > 0\n",
    "  and toFloat(o.MutSigPval) < .2\n",
    "  and t1.id = essg.symbol  //location SHOULD BE symbol\n",
    "  and o.cancer_type = cancerType\n",
    "  //and essg.symbol = 'RRM2'\n",
    "\n",
    "  // this breaks it because some of genes are not in the tcga set\n",
    "  //and t2.id  in  ['KRAS','MITF','CDKN2A','JAK2', 'PAX5', 'PPP6C', 'RAC1', 'SNX31', 'TACC1', 'STK19', 'ARID2']\n",
    "\n",
    "  // confirmed these genes are in the tcga set - will comment in/out as needed\n",
    "  // commented out right now cause dont find any hits at these threshold levels for just this small set of driver genes\n",
    "  and t2.id = 'BRAF' //in ['BRAF','KRAS','PPP6C','RAC1','STK19', 'ARID2']\n",
    "  \n",
    "  with distinct essg, t2, o.Log2FoldChange as fc, o.MutSigPval as mutsigp ,depends,  cancerType\n",
    "\n",
    "  match (mutg:GENE)\n",
    "  where  t2.id = mutg.symbol\n",
    "  with distinct essg,mutg,cancerType,fc,mutsigp,depends\n",
    "  \n",
    "  \n",
    " // optional match (essg)-[r]-(mutg)\n",
    " //  with mutg,essg, cancerType,count(r) as r1c,fc,mutsigp,depends\n",
    "   \n",
    "//  optional match (essg)-[r]-(x:GENE)-[r2]-(mutg)\n",
    "//   with mutg,essg,r1c,cancerType,count(r2) as r2c,fc,mutsigp,depends\n",
    "   \n",
    "//  optional match (essg)-[r]-(x:GENE)-[r2]-(:GENE)-[r3]-(mutg)\n",
    "//   with mutg,essg,r1c,r2c,cancerType,count(r3) as r3c,fc,mutsigp,depends\n",
    "  \n",
    "\n",
    "return *  \"\"\"\n",
    "\n",
    "result=graph.query(q,contextualize=True)\n",
    "result.view()"
   ]
  },
  {
   "cell_type": "code",
   "execution_count": null,
   "id": "d371cf28-e3f2-4417-b4d9-07c170d6b5f1",
   "metadata": {},
   "outputs": [],
   "source": []
  }
 ],
 "metadata": {
  "kernelspec": {
   "display_name": "Python 3 (ipykernel)",
   "language": "python",
   "name": "python3"
  },
  "language_info": {
   "codemirror_mode": {
    "name": "ipython",
    "version": 3
   },
   "file_extension": ".py",
   "mimetype": "text/x-python",
   "name": "python",
   "nbconvert_exporter": "python",
   "pygments_lexer": "ipython3",
   "version": "3.8.13"
  }
 },
 "nbformat": 4,
 "nbformat_minor": 5
}
