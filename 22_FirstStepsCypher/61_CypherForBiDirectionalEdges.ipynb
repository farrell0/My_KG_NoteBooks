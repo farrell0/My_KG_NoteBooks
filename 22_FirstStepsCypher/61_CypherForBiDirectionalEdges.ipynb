{
 "cells": [
  {
   "cell_type": "code",
   "execution_count": null,
   "id": "6b269332-d57e-49cd-9f40-b3bc0f3af9ad",
   "metadata": {},
   "outputs": [],
   "source": [
    "\n",
    "#  Demonstrating using Cypher to create bi-directional edges ..\n",
    "#\n",
    "\n"
   ]
  },
  {
   "cell_type": "markdown",
   "id": "d3ebe820-bc6d-4948-b668-8b81cd3cbf29",
   "metadata": {
    "tags": []
   },
   "source": [
    "#  Setup stuff: Connectivity"
   ]
  },
  {
   "cell_type": "code",
   "execution_count": null,
   "id": "b93fc581-8008-436e-bace-76e22e991185",
   "metadata": {},
   "outputs": [],
   "source": [
    "#  Setting display options \n",
    "\n",
    "import pandas as pd\n",
    "   #\n",
    "pd.set_option(\"display.width\", 480)\n",
    "\n",
    "#  Sets horizontal scroll for wide outputs\n",
    "#\n",
    "from IPython.display import display, HTML\n",
    "display(HTML(\"\"))\n",
    "\n",
    "from tabulate import tabulate\n",
    "\n",
    "print(\"--\")\n"
   ]
  },
  {
   "cell_type": "code",
   "execution_count": null,
   "id": "1ea957d6-30c6-427a-ae4e-15ecfba0c4f9",
   "metadata": {},
   "outputs": [],
   "source": [
    "\n",
    "from katana import remote\n",
    "from katana.remote import import_data\n",
    "\n",
    "my_client = remote.Client()\n",
    "\n",
    "print(my_client)\n"
   ]
  },
  {
   "cell_type": "code",
   "execution_count": null,
   "id": "97571016-7c02-4e90-a75a-136a0dacd35f",
   "metadata": {},
   "outputs": [],
   "source": [
    "\n",
    "NUM_PARTITIONS  = 3\n",
    "   #\n",
    "DB_NAME         = \"my_db\"\n",
    "GRAPH_NAME      = \"my_graph_BD\"\n",
    "\n",
    "print(\"--\")\n"
   ]
  },
  {
   "cell_type": "code",
   "execution_count": null,
   "id": "8ed2d715-aaeb-4381-9216-46fa0dd421b6",
   "metadata": {},
   "outputs": [],
   "source": [
    "\n",
    "#  DELETE ALL GRAPHS\n",
    "\n",
    "for l_database in my_client.databases():\n",
    "   for l_graph in my_client.get_database(name=l_database.name).graphs_in_database():\n",
    "      l_handle=my_client.get_database(name=l_database.name).get_graph_by_id(id=l_graph.graph_id)\n",
    "      l_handle.delete()\n",
    "\n",
    "for l_graph in my_client.graphs():\n",
    "   print(\"GRAPH ID: \", l_graph.graph_id, \"      GRAPH Version: \", l_graph.version)\n",
    "\n",
    "print(\"--\")\n"
   ]
  },
  {
   "cell_type": "code",
   "execution_count": 47,
   "id": "3291162c-01b8-4bb4-a39e-452dddefd8de",
   "metadata": {},
   "outputs": [
    {
     "name": "stdout",
     "output_type": "stream",
     "text": [
      "GRAPH ID:  5NUwpV8GmVPB2FWCGYwWc32GQrPySTb38Cw7A29kQTvx    GRAPH Version:  1    Graph Name:  my_graph_BC\n",
      "GRAPH ID:  6GYEDQxA2ewmmGV53Vb7GDBx5U9osUzBctJhh6auAdG3    GRAPH Version:  92    Graph Name:  my_graph_BB\n",
      "GRAPH ID:  EcCpQwrXXjTA5QjWk8dgLC5Sq1AEFwRQksAWjTYHfZWK    GRAPH Version:  8    Graph Name:  my_graph\n",
      "--\n"
     ]
    }
   ],
   "source": [
    "\n",
    "#  DELETE ONE SPECIFIC GRAPH ONLY\n",
    "\n",
    "for l_database in my_client.databases():\n",
    "   for l_graph in my_client.get_database(name = l_database.name).graphs_in_database():\n",
    "      if ((l_database.name == DB_NAME) and (l_graph.name == GRAPH_NAME)):   \n",
    "         l_handle = my_client.get_database(name = l_database.name).get_graph_by_id(id = l_graph.graph_id)\n",
    "         l_handle.delete()\n",
    "\n",
    "for l_graph in my_client.graphs():\n",
    "   print(\"GRAPH ID: \", l_graph.graph_id, \"   GRAPH Version: \", l_graph.version, \"   Graph Name: \", l_graph.name)\n",
    "\n",
    "print(\"--\")\n"
   ]
  },
  {
   "cell_type": "code",
   "execution_count": null,
   "id": "cf9c16ec-913f-46a8-bccc-76fc92c54866",
   "metadata": {},
   "outputs": [],
   "source": [
    "\n",
    "#  DELETE ALL DATABASES\n",
    "\n",
    "for l_database in my_client.databases():\n",
    "   if (l_database.name != \"default\"):\n",
    "      my_client.get_database(name=l_database.name).delete_database()\n",
    "      print(\"--\")\n",
    "\n",
    "for l_database in my_client.databases():\n",
    "   print(\"DB ID: \", l_database.database_id, \"     DB Name: \", l_database.name)\n"
   ]
  },
  {
   "cell_type": "code",
   "execution_count": null,
   "id": "6e72729c-265b-40e4-a3ee-674b793bed81",
   "metadata": {},
   "outputs": [],
   "source": [
    "\n",
    "#  CREATE DATABASE\n",
    "\n",
    "my_database = my_client.create_database(name=DB_NAME)\n",
    "\n",
    "print(my_database.database_id)\n"
   ]
  },
  {
   "cell_type": "code",
   "execution_count": 48,
   "id": "2fc31da4-44c3-4bd3-b160-b315766dcd88",
   "metadata": {},
   "outputs": [
    {
     "name": "stdout",
     "output_type": "stream",
     "text": [
      "<_Graph my_graph_BD, JDVJf15v1gHKbHxJsnMAF11V4kQAvbLHeWuGBn4m5ngb, 0>\n"
     ]
    }
   ],
   "source": [
    "\n",
    "#  CREATE GRAPH\n",
    "\n",
    "my_graph = my_client.get_database(name=DB_NAME).create_graph(name=GRAPH_NAME, num_partitions=NUM_PARTITIONS)\n",
    "\n",
    "print(my_graph)\n"
   ]
  },
  {
   "cell_type": "code",
   "execution_count": null,
   "id": "c5db6505-7fc8-4779-b194-9ed8945b9a90",
   "metadata": {},
   "outputs": [],
   "source": [
    "\n",
    "#  CONNECT TO GRAPH\n",
    "\n",
    "my_graph, *_ = my_client.get_database(name=DB_NAME).find_graphs_by_name(GRAPH_NAME)\n",
    "\n",
    "print(my_graph)\n"
   ]
  },
  {
   "cell_type": "markdown",
   "id": "61556ce5-9044-42bc-bb13-80b6a514ae27",
   "metadata": {
    "tags": []
   },
   "source": [
    "# Create: Vertices/nodes, edges .."
   ]
  },
  {
   "cell_type": "code",
   "execution_count": null,
   "id": "f7efb47b-3c7d-45f3-acc8-ae29c3e2a1bf",
   "metadata": {},
   "outputs": [],
   "source": [
    "import pandas as pd\n",
    "\n",
    "print(\"--\")"
   ]
  },
  {
   "cell_type": "code",
   "execution_count": 31,
   "id": "8e7ecf31-d69e-4b5a-8a37-0cfb4c32fd33",
   "metadata": {},
   "outputs": [
    {
     "data": {
      "text/html": [
       "<div>\n",
       "<style scoped>\n",
       "    .dataframe tbody tr th:only-of-type {\n",
       "        vertical-align: middle;\n",
       "    }\n",
       "\n",
       "    .dataframe tbody tr th {\n",
       "        vertical-align: top;\n",
       "    }\n",
       "\n",
       "    .dataframe thead th {\n",
       "        text-align: right;\n",
       "    }\n",
       "</style>\n",
       "<table border=\"1\" class=\"dataframe\">\n",
       "  <thead>\n",
       "    <tr style=\"text-align: right;\">\n",
       "      <th></th>\n",
       "      <th>airport_code</th>\n",
       "      <th>airport_name</th>\n",
       "      <th>LABEL</th>\n",
       "    </tr>\n",
       "  </thead>\n",
       "  <tbody>\n",
       "    <tr>\n",
       "      <th>0</th>\n",
       "      <td>MKE</td>\n",
       "      <td>Milwaukee</td>\n",
       "      <td>Airport</td>\n",
       "    </tr>\n",
       "    <tr>\n",
       "      <th>1</th>\n",
       "      <td>ORD</td>\n",
       "      <td>Chicago O-Hare</td>\n",
       "      <td>Airport</td>\n",
       "    </tr>\n",
       "    <tr>\n",
       "      <th>2</th>\n",
       "      <td>SJC</td>\n",
       "      <td>San Jose</td>\n",
       "      <td>Airport</td>\n",
       "    </tr>\n",
       "    <tr>\n",
       "      <th>3</th>\n",
       "      <td>DEN</td>\n",
       "      <td>Denver</td>\n",
       "      <td>Airport</td>\n",
       "    </tr>\n",
       "    <tr>\n",
       "      <th>4</th>\n",
       "      <td>LAX</td>\n",
       "      <td>Los Angeles</td>\n",
       "      <td>Airport</td>\n",
       "    </tr>\n",
       "    <tr>\n",
       "      <th>5</th>\n",
       "      <td>SLC</td>\n",
       "      <td>Salt Lake City</td>\n",
       "      <td>Airport</td>\n",
       "    </tr>\n",
       "  </tbody>\n",
       "</table>\n",
       "</div>"
      ],
      "text/plain": [
       "  airport_code    airport_name    LABEL\n",
       "0          MKE       Milwaukee  Airport\n",
       "1          ORD  Chicago O-Hare  Airport\n",
       "2          SJC        San Jose  Airport\n",
       "3          DEN          Denver  Airport\n",
       "4          LAX     Los Angeles  Airport\n",
       "5          SLC  Salt Lake City  Airport"
      ]
     },
     "execution_count": 31,
     "metadata": {},
     "output_type": "execute_result"
    }
   ],
   "source": [
    "\n",
    "#  Vertices/Nodes, Airports ..\n",
    "\n",
    "df_airports = pd.DataFrame([\n",
    "       #\n",
    "   [\"MKE\", \"Milwaukee\"               , \"Airport\"],\n",
    "   [\"ORD\", \"Chicago O-Hare\"          , \"Airport\"],\n",
    "   [\"SJC\", \"San Jose\"                , \"Airport\"],\n",
    "   [\"DEN\", \"Denver\"                  , \"Airport\"],\n",
    "   [\"LAX\", \"Los Angeles\"             , \"Airport\"],\n",
    "   [\"SLC\", \"Salt Lake City\"          , \"Airport\"],\n",
    "       #\n",
    "   ], columns = [\"airport_code\", \"airport_name\", \"LABEL\"])\n",
    "\n",
    "df_airports.head(20)\n"
   ]
  },
  {
   "cell_type": "code",
   "execution_count": 32,
   "id": "60eaac88-4dd5-47d3-94b3-0f5fd0b243f2",
   "metadata": {},
   "outputs": [
    {
     "data": {
      "text/html": [
       "<div>\n",
       "<style scoped>\n",
       "    .dataframe tbody tr th:only-of-type {\n",
       "        vertical-align: middle;\n",
       "    }\n",
       "\n",
       "    .dataframe tbody tr th {\n",
       "        vertical-align: top;\n",
       "    }\n",
       "\n",
       "    .dataframe thead th {\n",
       "        text-align: right;\n",
       "    }\n",
       "</style>\n",
       "<table border=\"1\" class=\"dataframe\">\n",
       "  <thead>\n",
       "    <tr style=\"text-align: right;\">\n",
       "      <th></th>\n",
       "      <th>START_ID</th>\n",
       "      <th>END_ID</th>\n",
       "      <th>DISTANCE</th>\n",
       "      <th>NUM_HOPS</th>\n",
       "      <th>TYPE</th>\n",
       "    </tr>\n",
       "  </thead>\n",
       "  <tbody>\n",
       "    <tr>\n",
       "      <th>0</th>\n",
       "      <td>MKE</td>\n",
       "      <td>ORD</td>\n",
       "      <td>66</td>\n",
       "      <td>1</td>\n",
       "      <td>FLIES_TO</td>\n",
       "    </tr>\n",
       "    <tr>\n",
       "      <th>1</th>\n",
       "      <td>DEN</td>\n",
       "      <td>ORD</td>\n",
       "      <td>886</td>\n",
       "      <td>1</td>\n",
       "      <td>FLIES_TO</td>\n",
       "    </tr>\n",
       "    <tr>\n",
       "      <th>2</th>\n",
       "      <td>SJC</td>\n",
       "      <td>ORD</td>\n",
       "      <td>1829</td>\n",
       "      <td>1</td>\n",
       "      <td>FLIES_TO</td>\n",
       "    </tr>\n",
       "    <tr>\n",
       "      <th>3</th>\n",
       "      <td>LAX</td>\n",
       "      <td>ORD</td>\n",
       "      <td>2029</td>\n",
       "      <td>1</td>\n",
       "      <td>FLIES_TO</td>\n",
       "    </tr>\n",
       "    <tr>\n",
       "      <th>4</th>\n",
       "      <td>SLC</td>\n",
       "      <td>ORD</td>\n",
       "      <td>1394</td>\n",
       "      <td>1</td>\n",
       "      <td>FLIES_TO</td>\n",
       "    </tr>\n",
       "  </tbody>\n",
       "</table>\n",
       "</div>"
      ],
      "text/plain": [
       "  START_ID END_ID  DISTANCE  NUM_HOPS      TYPE\n",
       "0      MKE    ORD        66         1  FLIES_TO\n",
       "1      DEN    ORD       886         1  FLIES_TO\n",
       "2      SJC    ORD      1829         1  FLIES_TO\n",
       "3      LAX    ORD      2029         1  FLIES_TO\n",
       "4      SLC    ORD      1394         1  FLIES_TO"
      ]
     },
     "execution_count": 32,
     "metadata": {},
     "output_type": "execute_result"
    }
   ],
   "source": [
    "\n",
    "#  Create the edge, flights ..\n",
    "\n",
    "df_flights = pd.DataFrame([\n",
    "      #\n",
    "   [\"MKE\", \"ORD\",   66, 1, \"FLIES_TO\" ],\n",
    "   [\"DEN\", \"ORD\",  886, 1, \"FLIES_TO\" ],\n",
    "   [\"SJC\", \"ORD\", 1829, 1, \"FLIES_TO\" ],\n",
    "   [\"LAX\", \"ORD\", 2029, 1, \"FLIES_TO\" ],\n",
    "   [\"SLC\", \"ORD\", 1394, 1, \"FLIES_TO\" ],\n",
    "      #\n",
    "   ], columns = [\"START_ID\", \"END_ID\", \"DISTANCE\", \"NUM_HOPS\", \"TYPE\"])\n",
    "\n",
    "df_flights.head(20)\n"
   ]
  },
  {
   "cell_type": "code",
   "execution_count": 49,
   "id": "2f22872f-dbea-4852-a5bb-1e515937cd85",
   "metadata": {},
   "outputs": [
    {
     "data": {
      "application/vnd.jupyter.widget-view+json": {
       "model_id": "e55075a990b2470683cfcfc6308bce0e",
       "version_major": 2,
       "version_minor": 0
      },
      "text/plain": [
       "          0/? [?op/s]"
      ]
     },
     "metadata": {},
     "output_type": "display_data"
    },
    {
     "name": "stdout",
     "output_type": "stream",
     "text": [
      "--\n"
     ]
    }
   ],
   "source": [
    "\n",
    "# Import the 2 previously created Python DataFrames into KatanaGraph ..\n",
    "\n",
    "with import_data.DataFrameImporter(my_graph) as df_importer:   \n",
    "    \n",
    "   df_importer.nodes_dataframe(df_airports,                    #  Aiports set of Nodes\n",
    "      id_column             = \"airport_code\",\n",
    "      id_space              = \"Airport\",  \n",
    "      label                 = \"Airport\",  \n",
    "      )\n",
    "   \n",
    "   df_importer.edges_dataframe(df_flights,                     #  Our Edge, specifying the relationship between Airport --> FLIES_TO --> Airport\n",
    "      source_id_space       = \"Airport\", \n",
    "      destination_id_space  = \"Airport\",   \n",
    "      source_column         = \"START_ID\",\n",
    "      destination_column    = \"END_ID\",\n",
    "      type                  = \"FLIES_TO\"\n",
    "      )\n",
    "\n",
    "   df_importer.insert()\n",
    "\n",
    "print(\"--\")\n"
   ]
  },
  {
   "cell_type": "markdown",
   "id": "040e84a9-3cbe-498a-abaa-5ba4f99c16e7",
   "metadata": {},
   "source": [
    "#  Diagnostics:"
   ]
  },
  {
   "cell_type": "code",
   "execution_count": 42,
   "id": "ce3ecfbe-cca0-41dd-bb15-594f2d545365",
   "metadata": {},
   "outputs": [
    {
     "data": {
      "application/vnd.jupyter.widget-view+json": {
       "model_id": "540159697e414d4abecf4db1e3f35fe3",
       "version_major": 2,
       "version_minor": 0
      },
      "text/plain": [
       "          0/? [?op/s]"
      ]
     },
     "metadata": {},
     "output_type": "display_data"
    },
    {
     "data": {
      "text/plain": [
       "6"
      ]
     },
     "metadata": {},
     "output_type": "display_data"
    },
    {
     "data": {
      "application/vnd.jupyter.widget-view+json": {
       "model_id": "04510c10557e48d98bef1b3ba3f2850c",
       "version_major": 2,
       "version_minor": 0
      },
      "text/plain": [
       "          0/? [?op/s]"
      ]
     },
     "metadata": {},
     "output_type": "display_data"
    },
    {
     "data": {
      "text/plain": [
       "5"
      ]
     },
     "metadata": {},
     "output_type": "display_data"
    }
   ],
   "source": [
    "\n",
    "display(my_graph.num_nodes())\n",
    "display(my_graph.num_edges())\n"
   ]
  },
  {
   "cell_type": "code",
   "execution_count": 44,
   "id": "4850ba7c-2314-44be-972e-51ef90f2cb71",
   "metadata": {},
   "outputs": [
    {
     "data": {
      "application/vnd.jupyter.widget-view+json": {
       "model_id": "0ea42071a12d42f2958b100ba6fab6e1",
       "version_major": 2,
       "version_minor": 0
      },
      "text/plain": [
       "          0/? [?op/s]"
      ]
     },
     "metadata": {},
     "output_type": "display_data"
    },
    {
     "name": "stdout",
     "output_type": "stream",
     "text": [
      "+-----------------+-------------+-----------+------------------+------------------+--------------+\n",
      "|           id(n) | labels(n)   | n.LABEL   | n.airport_code   | n.airport_name   | n datatype   |\n",
      "|-----------------+-------------+-----------+------------------+------------------+--------------|\n",
      "| 281474976710656 | ['Airport'] | Airport   | ORD              | Chicago O-Hare   | node         |\n",
      "| 281474976710657 | ['Airport'] | Airport   | SJC              | San Jose         | node         |\n",
      "| 562949953421314 | ['Airport'] | Airport   | LAX              | Los Angeles      | node         |\n",
      "| 562949953421315 | ['Airport'] | Airport   | SLC              | Salt Lake City   | node         |\n",
      "| 562949953421313 | ['Airport'] | Airport   | DEN              | Denver           | node         |\n",
      "| 562949953421312 | ['Airport'] | Airport   | MKE              | Milwaukee        | node         |\n",
      "+-----------------+-------------+-----------+------------------+------------------+--------------+\n"
     ]
    }
   ],
   "source": [
    "\n",
    "#  What's in the vertices/nodes ..\n",
    "\n",
    "l_query  = \"\"\"\n",
    "   MATCH ( n ) \n",
    "   RETURN n\n",
    "   \"\"\".format()\n",
    "\n",
    "l_result = my_graph.query_unpaginated(l_query)\n",
    "\n",
    "print(tabulate(l_result, headers=\"keys\", tablefmt=\"psql\", showindex = False))\n"
   ]
  },
  {
   "cell_type": "code",
   "execution_count": 52,
   "id": "6160bd57-15aa-4ff0-9269-9431e6f7dd2b",
   "metadata": {},
   "outputs": [
    {
     "data": {
      "application/vnd.jupyter.widget-view+json": {
       "model_id": "ff722379fbe949eab39c31348f83d0b1",
       "version_major": 2,
       "version_minor": 0
      },
      "text/plain": [
       "          0/? [?op/s]"
      ]
     },
     "metadata": {},
     "output_type": "display_data"
    },
    {
     "name": "stdout",
     "output_type": "stream",
     "text": [
      "+------------------+----------------------+-----------------+-----------+--------------+--------------+----------+--------------------+------------------------+--------------+\n",
      "|   id(endNode(r)) | labels(endNode(r))   |           id(r) | type(r)   |   r.DISTANCE |   r.NUM_HOPS | r.TYPE   |   id(startNode(r)) | labels(startNode(r))   | r datatype   |\n",
      "|------------------+----------------------+-----------------+-----------+--------------+--------------+----------+--------------------+------------------------+--------------|\n",
      "|  281474976710656 | ['Airport']          |               0 | FLIES_TO  |           66 |            1 | FLIES_TO |                  0 | ['Airport']            | edge         |\n",
      "|  281474976710656 | ['Airport']          |               1 | FLIES_TO  |         1829 |            1 | FLIES_TO |                  1 | ['Airport']            | edge         |\n",
      "|  281474976710657 | ['Airport']          | 281474976710658 | FLIES_TO2 |          nan |          nan | nan      |    281474976710656 | ['Airport']            | edge         |\n",
      "|  281474976710658 | ['Airport']          | 281474976710659 | FLIES_TO2 |          nan |          nan | nan      |    281474976710656 | ['Airport']            | edge         |\n",
      "|  562949953421312 | ['Airport']          | 281474976710660 | FLIES_TO2 |          nan |          nan | nan      |    281474976710656 | ['Airport']            | edge         |\n",
      "|                0 | ['Airport']          | 281474976710661 | FLIES_TO2 |          nan |          nan | nan      |    281474976710656 | ['Airport']            | edge         |\n",
      "|                1 | ['Airport']          | 281474976710662 | FLIES_TO2 |          nan |          nan | nan      |    281474976710656 | ['Airport']            | edge         |\n",
      "|  281474976710656 | ['Airport']          | 281474976710657 | FLIES_TO  |         1394 |            1 | FLIES_TO |    281474976710658 | ['Airport']            | edge         |\n",
      "|  281474976710656 | ['Airport']          | 281474976710656 | FLIES_TO  |          886 |            1 | FLIES_TO |    281474976710657 | ['Airport']            | edge         |\n",
      "|  281474976710656 | ['Airport']          | 562949953421312 | FLIES_TO  |         2029 |            1 | FLIES_TO |    562949953421312 | ['Airport']            | edge         |\n",
      "+------------------+----------------------+-----------------+-----------+--------------+--------------+----------+--------------------+------------------------+--------------+\n"
     ]
    }
   ],
   "source": [
    "\n",
    "#  What's in the edge .. \n",
    "\n",
    "l_query  = \"\"\"\n",
    "   MATCH (n) - [r] -> (m)\n",
    "   RETURN r\n",
    "   // RETURN  n.id AS FROM, m.id AS TO, r.DISTANCE AS DISTANCE, r.NUM_HOPS AS NUM_HOPS\n",
    "   \"\"\".format()\n",
    "\n",
    "l_result = my_graph.query_unpaginated(l_query)\n",
    "\n",
    "print(tabulate(l_result, headers = \"keys\", tablefmt = \"psql\", showindex = False))\n"
   ]
  },
  {
   "cell_type": "code",
   "execution_count": null,
   "id": "793186d1-d998-4662-b5f6-958a1a752892",
   "metadata": {},
   "outputs": [],
   "source": [
    "\n",
    "#  Sanity check look at the graph ..\n",
    "#\n",
    "\n",
    "l_query  = \"\"\"\n",
    "\n",
    "   MATCH (n) - [ r ] -> (m)\n",
    "   RETURN n, r, m\n",
    "   \n",
    "   \"\"\".format()\n",
    "\n",
    "l_result = my_graph.query(l_query, contextualize = True)\n",
    "\n",
    "l_result.view()\n"
   ]
  },
  {
   "cell_type": "markdown",
   "id": "2c19d823-c23e-4789-81e3-b887bada5f95",
   "metadata": {},
   "source": [
    "#  Use Cypher to make reverse edges:"
   ]
  },
  {
   "cell_type": "code",
   "execution_count": 36,
   "id": "7616ee53-2dd1-43bf-ae0a-fef4a44d055b",
   "metadata": {},
   "outputs": [
    {
     "data": {
      "application/vnd.jupyter.widget-view+json": {
       "model_id": "abf96ee9c9244baa9c0e1daaacf6c9ac",
       "version_major": 2,
       "version_minor": 0
      },
      "text/plain": [
       "          0/? [?op/s]"
      ]
     },
     "metadata": {},
     "output_type": "display_data"
    },
    {
     "name": "stdout",
     "output_type": "stream",
     "text": [
      "\n"
     ]
    }
   ],
   "source": [
    "\n",
    "#  Cypher command to make reverse edges ..\n",
    "#\n",
    "\n",
    "l_query  = \"\"\"\n",
    "\n",
    "   MATCH (n: Airport) - [r: FLIES_TO] -> (m: Airport) \n",
    "   WITH n, m \n",
    "   CREATE (m) - [e: FLIES_TO] -> (n)\n",
    "   \n",
    "   \"\"\".format()\n",
    "\n",
    "l_result = my_graph.query_unpaginated(l_query)\n",
    "\n",
    "print(tabulate(l_result, headers = \"keys\", tablefmt = \"psql\", showindex = False))\n",
    "\n",
    "\n",
    "#  Results pre and post,\n",
    "#\n",
    "#     +------------------+----------------------+-----------------+-----------+--------------+--------------+----------+--------------------+------------------------+--------------+\n",
    "#     |   id(endNode(r)) | labels(endNode(r))   |           id(r) | type(r)   |   r.DISTANCE |   r.NUM_HOPS | r.TYPE   |   id(startNode(r)) | labels(startNode(r))   | r datatype   |\n",
    "#     |------------------+----------------------+-----------------+-----------+--------------+--------------+----------+--------------------+------------------------+--------------|\n",
    "#     |  281474976710656 | ['Airport']          | 281474976710656 | FLIES_TO  |         1829 |            1 | FLIES_TO |    281474976710657 | ['Airport']            | edge         |\n",
    "#     |  281474976710656 | ['Airport']          | 562949953421315 | FLIES_TO  |         1394 |            1 | FLIES_TO |    562949953421315 | ['Airport']            | edge         |\n",
    "#     |  281474976710656 | ['Airport']          | 562949953421314 | FLIES_TO  |         2029 |            1 | FLIES_TO |    562949953421314 | ['Airport']            | edge         |\n",
    "#     |  281474976710656 | ['Airport']          | 562949953421312 | FLIES_TO  |           66 |            1 | FLIES_TO |    562949953421312 | ['Airport']            | edge         |\n",
    "#     |  281474976710656 | ['Airport']          | 562949953421313 | FLIES_TO  |          886 |            1 | FLIES_TO |    562949953421313 | ['Airport']            | edge         |\n",
    "#     +------------------+----------------------+-----------------+-----------+--------------+--------------+----------+--------------------+------------------------+--------------+\n",
    "#     \n",
    "#     +------------------+----------------------+-----------------+-----------+--------------+--------------+----------+--------------------+------------------------+--------------+\n",
    "#     |   id(endNode(r)) | labels(endNode(r))   |           id(r) | type(r)   |   r.DISTANCE |   r.NUM_HOPS | r.TYPE   |   id(startNode(r)) | labels(startNode(r))   | r datatype   |\n",
    "#     |------------------+----------------------+-----------------+-----------+--------------+--------------+----------+--------------------+------------------------+--------------|\n",
    "#     |  562949953421312 | ['Airport']          |               0 | FLIES_TO  |           66 |            1 | FLIES_TO |                  0 | ['Airport']            | edge         |\n",
    "#     |  562949953421312 | ['Airport']          |               1 | FLIES_TO  |         2029 |            1 | FLIES_TO |                  1 | ['Airport']            | edge         |\n",
    "#     |  562949953421312 | ['Airport']          | 281474976710656 | FLIES_TO  |         1394 |            1 | FLIES_TO |    281474976710656 | ['Airport']            | edge         |\n",
    "#     |  562949953421312 | ['Airport']          | 562949953421312 | FLIES_TO  |         1829 |            1 | FLIES_TO |    562949953421313 | ['Airport']            | edge         |\n",
    "#     |  562949953421312 | ['Airport']          | 562949953421313 | FLIES_TO  |          886 |            1 | FLIES_TO |    562949953421314 | ['Airport']            | edge         |\n",
    "#     |  562949953421313 | ['Airport']          | 562949953421314 | FLIES_TO  |          nan |          nan | nan      |    562949953421312 | ['Airport']            | edge         |\n",
    "#     |  562949953421314 | ['Airport']          | 562949953421315 | FLIES_TO  |          nan |          nan | nan      |    562949953421312 | ['Airport']            | edge         |\n",
    "#     |  281474976710656 | ['Airport']          | 562949953421316 | FLIES_TO  |          nan |          nan | nan      |    562949953421312 | ['Airport']            | edge         |\n",
    "#     |                1 | ['Airport']          | 562949953421317 | FLIES_TO  |          nan |          nan | nan      |    562949953421312 | ['Airport']            | edge         |\n",
    "#     |                0 | ['Airport']          | 562949953421318 | FLIES_TO  |          nan |          nan | nan      |    562949953421312 | ['Airport']            | edge         |\n",
    "#     +------------------+----------------------+-----------------+-----------+--------------+--------------+----------+--------------------+------------------------+--------------+\n",
    "\n"
   ]
  },
  {
   "cell_type": "code",
   "execution_count": null,
   "id": "5ba8b0aa-8db3-4246-b797-49091bd0cc5f",
   "metadata": {},
   "outputs": [],
   "source": []
  },
  {
   "cell_type": "code",
   "execution_count": 51,
   "id": "1140086e-6a06-4887-9785-fe2d6dc30b7f",
   "metadata": {},
   "outputs": [
    {
     "data": {
      "application/vnd.jupyter.widget-view+json": {
       "model_id": "965a928ae3eb41a39f9ca9a40bbc432c",
       "version_major": 2,
       "version_minor": 0
      },
      "text/plain": [
       "          0/? [?op/s]"
      ]
     },
     "metadata": {},
     "output_type": "display_data"
    },
    {
     "name": "stdout",
     "output_type": "stream",
     "text": [
      "\n"
     ]
    }
   ],
   "source": [
    "\n",
    "\n",
    "xxx = \"FLIES_TO2\"\n",
    "\n",
    "l_query  = \"\"\"\n",
    "\n",
    "   MATCH (n: Airport) - [r: FLIES_TO] -> (m: Airport) \n",
    "   WITH n, m \n",
    "   CREATE (m) - [e: {0}] -> (n)\n",
    "   \n",
    "   \"\"\".format(xxx)\n",
    "\n",
    "l_result = my_graph.query_unpaginated(l_query)\n",
    "\n",
    "print(tabulate(l_result, headers = \"keys\", tablefmt = \"psql\", showindex = False))\n",
    "\n"
   ]
  }
 ],
 "metadata": {
  "kernelspec": {
   "display_name": "Python 3 (ipykernel)",
   "language": "python",
   "name": "python3"
  },
  "language_info": {
   "codemirror_mode": {
    "name": "ipython",
    "version": 3
   },
   "file_extension": ".py",
   "mimetype": "text/x-python",
   "name": "python",
   "nbconvert_exporter": "python",
   "pygments_lexer": "ipython3",
   "version": "3.8.13"
  }
 },
 "nbformat": 4,
 "nbformat_minor": 5
}
