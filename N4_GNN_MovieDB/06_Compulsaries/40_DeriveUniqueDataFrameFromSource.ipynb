{
 "cells": [
  {
   "cell_type": "code",
   "execution_count": null,
   "id": "d776f754-ef98-4cbd-a423-647c483341ce",
   "metadata": {},
   "outputs": [],
   "source": [
    "\n",
    "#  Here we demonstrate the following Dask DataFrame technique;\n",
    "#\n",
    "#     .  Given a source DataFrame, create a second new DataFrame with just unique\n",
    "#        values, and the ability to link back to the source.\n",
    "#\n",
    "#        We might use this technique when given a flat file of data, that we derive\n",
    "#        nodes and edges from.\n"
   ]
  },
  {
   "cell_type": "code",
   "execution_count": 7,
   "id": "0416c10d-a1cb-433d-ad5e-85498aaa1744",
   "metadata": {},
   "outputs": [
    {
     "name": "stdout",
     "output_type": "stream",
     "text": [
      "--\n"
     ]
    }
   ],
   "source": [
    "\n",
    "import pandas as pd\n",
    "   #\n",
    "import dask.array as da\n",
    "import dask.dataframe as dd\n",
    "\n",
    "from tabulate import tabulate\n",
    "\n",
    "print(\"--\")\n"
   ]
  },
  {
   "cell_type": "code",
   "execution_count": 11,
   "id": "131298d0-5cb4-4b62-8413-5e5571ef4b6a",
   "metadata": {},
   "outputs": [
    {
     "ename": "AttributeError",
     "evalue": "'PandasArray' object has no attribute 'name'",
     "output_type": "error",
     "traceback": [
      "\u001b[0;31m---------------------------------------------------------------------------\u001b[0m",
      "\u001b[0;31mAttributeError\u001b[0m                            Traceback (most recent call last)",
      "Cell \u001b[0;32mIn [11], line 14\u001b[0m\n\u001b[1;32m      1\u001b[0m \u001b[38;5;66;03m#  Our source DataFrame\u001b[39;00m\n\u001b[1;32m      4\u001b[0m pd_airports \u001b[38;5;241m=\u001b[39m pd\u001b[38;5;241m.\u001b[39marray([\n\u001b[1;32m      5\u001b[0m        \u001b[38;5;66;03m#\u001b[39;00m\n\u001b[1;32m      6\u001b[0m    {\u001b[38;5;124m\"\u001b[39m\u001b[38;5;124mairport_code\u001b[39m\u001b[38;5;124m\"\u001b[39m: \u001b[38;5;124m\"\u001b[39m\u001b[38;5;124mMKE\u001b[39m\u001b[38;5;124m\"\u001b[39m, \u001b[38;5;124m\"\u001b[39m\u001b[38;5;124mairport_name\u001b[39m\u001b[38;5;124m\"\u001b[39m: \u001b[38;5;124m\"\u001b[39m\u001b[38;5;124mMilwaukee\u001b[39m\u001b[38;5;124m\"\u001b[39m     , \u001b[38;5;124m\"\u001b[39m\u001b[38;5;124mstate_code\u001b[39m\u001b[38;5;124m\"\u001b[39m: \u001b[38;5;124m\"\u001b[39m\u001b[38;5;124mWI\u001b[39m\u001b[38;5;124m\"\u001b[39m, \u001b[38;5;124m\"\u001b[39m\u001b[38;5;124mLABEL\u001b[39m\u001b[38;5;124m\"\u001b[39m: \u001b[38;5;124m\"\u001b[39m\u001b[38;5;124mAirport\u001b[39m\u001b[38;5;124m\"\u001b[39m},\n\u001b[0;32m   (...)\u001b[0m\n\u001b[1;32m     11\u001b[0m        \u001b[38;5;66;03m#\u001b[39;00m\n\u001b[1;32m     12\u001b[0m    ], dtype\u001b[38;5;241m=\u001b[39m\u001b[38;5;124m\"\u001b[39m\u001b[38;5;124mstr\u001b[39m\u001b[38;5;124m\"\u001b[39m)\n\u001b[0;32m---> 14\u001b[0m df_airports \u001b[38;5;241m=\u001b[39m dd\u001b[38;5;241m.\u001b[39mio\u001b[38;5;241m.\u001b[39mfrom_dask_array(pd_airports)\n",
      "File \u001b[0;32m/opt/conda/lib/python3.8/site-packages/dask/dataframe/io/io.py:519\u001b[0m, in \u001b[0;36mfrom_dask_array\u001b[0;34m(x, columns, index, meta)\u001b[0m\n\u001b[1;32m    517\u001b[0m name \u001b[38;5;241m=\u001b[39m \u001b[38;5;124m\"\u001b[39m\u001b[38;5;124mfrom-dask-array-\u001b[39m\u001b[38;5;124m\"\u001b[39m \u001b[38;5;241m+\u001b[39m tokenize(x, columns)\n\u001b[1;32m    518\u001b[0m graph_dependencies \u001b[38;5;241m=\u001b[39m [x]\n\u001b[0;32m--> 519\u001b[0m arrays_and_indices \u001b[38;5;241m=\u001b[39m [\u001b[43mx\u001b[49m\u001b[38;5;241;43m.\u001b[39;49m\u001b[43mname\u001b[49m, \u001b[38;5;124m\"\u001b[39m\u001b[38;5;124mij\u001b[39m\u001b[38;5;124m\"\u001b[39m \u001b[38;5;28;01mif\u001b[39;00m x\u001b[38;5;241m.\u001b[39mndim \u001b[38;5;241m==\u001b[39m \u001b[38;5;241m2\u001b[39m \u001b[38;5;28;01melse\u001b[39;00m \u001b[38;5;124m\"\u001b[39m\u001b[38;5;124mi\u001b[39m\u001b[38;5;124m\"\u001b[39m]\n\u001b[1;32m    520\u001b[0m numblocks \u001b[38;5;241m=\u001b[39m {x\u001b[38;5;241m.\u001b[39mname: x\u001b[38;5;241m.\u001b[39mnumblocks}\n\u001b[1;32m    522\u001b[0m \u001b[38;5;28;01mif\u001b[39;00m index \u001b[38;5;129;01mis\u001b[39;00m \u001b[38;5;129;01mnot\u001b[39;00m \u001b[38;5;28;01mNone\u001b[39;00m:\n\u001b[1;32m    523\u001b[0m     \u001b[38;5;66;03m# An index is explicitly given by the caller, so we can pass it through to the\u001b[39;00m\n\u001b[1;32m    524\u001b[0m     \u001b[38;5;66;03m# initializer after a few checks.\u001b[39;00m\n",
      "\u001b[0;31mAttributeError\u001b[0m: 'PandasArray' object has no attribute 'name'"
     ]
    }
   ],
   "source": [
    "\n",
    "#  Our source DataFrame\n",
    "\n",
    "\n",
    "pd_airports = pd.array([\n",
    "       #\n",
    "   {\"airport_code\": \"MKE\", \"airport_name\": \"Milwaukee\"     , \"state_code\": \"WI\", \"LABEL\": \"Airport\"},\n",
    "   {\"airport_code\": \"ORD\", \"airport_name\": \"Chicago O-Hare\", \"state_code\": \"IL\", \"LABEL\": \"Airport\"},\n",
    "   {\"airport_code\": \"SJC\", \"airport_name\": \"San Jose\"      , \"state_code\": \"CA\", \"LABEL\": \"Airport\"},\n",
    "   {\"airport_code\": \"LAX\", \"airport_name\": \"Los Angeles\"   , \"state_code\": \"CA\", \"LABEL\": \"Airport\"},\n",
    "   {\"airport_code\": \"DEN\", \"airport_name\": \"Denver\"        , \"state_code\": \"CO\", \"LABEL\": \"Airport\"},\n",
    "       #\n",
    "   ], dtype=\"str\")\n",
    "\n",
    "df_airports = dd.io.from_dask_array(pd_airports)\n",
    "\n",
    "\n",
    "\n",
    "#  df_airports = dd.io.from_dask_array([\n",
    "#         #\n",
    "#     [\"MKE\", \"Milwaukee\"          ,\"WI\", \"Airport\"],\n",
    "#     [\"ORD\", \"Chicago O-Hare\"     ,\"IL\", \"Airport\"],\n",
    "#     [\"SJC\", \"San Jose\"           ,\"CA\", \"Airport\"],\n",
    "#     [\"LAX\", \"Los Angeles\"        ,\"CA\", \"Airport\"],\n",
    "#     [\"DEN\", \"Denver\"             ,\"CO\", \"Airport\"],\n",
    "#         #\n",
    "#     ], columns = [\"airport_code\", \"airport_name\", \"state_code\", \"LABEL\"])\n",
    "#  \n",
    "# print(tabulate(df_airports, headers='keys', tablefmt='psql'))\n",
    "\n",
    "\n",
    "# pd.array(['a', 'b'], dtype=str)\n",
    "\n",
    "\n",
    "\n",
    "# x = da.ones((4, 2), chunks=(2, 2))\n",
    "# \n",
    "# df = dd.io.from_dask_array(x, columns=['a', 'b'])\n",
    "# \n",
    "# df.compute()\n",
    "\n",
    "\n"
   ]
  },
  {
   "cell_type": "code",
   "execution_count": null,
   "id": "4b708e18-dcc4-4e8e-b508-de70687066f8",
   "metadata": {},
   "outputs": [],
   "source": []
  },
  {
   "cell_type": "code",
   "execution_count": null,
   "id": "828d62e9-1cf8-4eee-9147-f351961b95f4",
   "metadata": {},
   "outputs": [],
   "source": []
  },
  {
   "cell_type": "code",
   "execution_count": null,
   "id": "6e1ca776-22c3-4bbd-955f-ae1b59184b3d",
   "metadata": {},
   "outputs": [],
   "source": []
  },
  {
   "cell_type": "code",
   "execution_count": null,
   "id": "3b05af70-edbb-4f9d-b774-6f4b4d395ca8",
   "metadata": {},
   "outputs": [],
   "source": []
  },
  {
   "cell_type": "code",
   "execution_count": null,
   "id": "cda11faf-086b-49ef-82cf-3c6a6abaf975",
   "metadata": {},
   "outputs": [],
   "source": []
  },
  {
   "cell_type": "code",
   "execution_count": null,
   "id": "e2030993-a5d8-408b-8dc9-fd8b8f985990",
   "metadata": {},
   "outputs": [],
   "source": []
  }
 ],
 "metadata": {
  "kernelspec": {
   "display_name": "Python 3 (ipykernel)",
   "language": "python",
   "name": "python3"
  },
  "language_info": {
   "codemirror_mode": {
    "name": "ipython",
    "version": 3
   },
   "file_extension": ".py",
   "mimetype": "text/x-python",
   "name": "python",
   "nbconvert_exporter": "python",
   "pygments_lexer": "ipython3",
   "version": "3.8.13"
  }
 },
 "nbformat": 4,
 "nbformat_minor": 5
}
