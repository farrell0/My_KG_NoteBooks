{
 "cells": [
  {
   "cell_type": "code",
   "execution_count": 1,
   "id": "87e5a845-5cbd-49d8-bf61-4a13cd80a1f5",
   "metadata": {},
   "outputs": [
    {
     "name": "stdout",
     "output_type": "stream",
     "text": [
      "Exception reporting mode: Minimal\n"
     ]
    },
    {
     "data": {
      "text/html": [],
      "text/plain": [
       "<IPython.core.display.HTML object>"
      ]
     },
     "metadata": {},
     "output_type": "display_data"
    },
    {
     "name": "stdout",
     "output_type": "stream",
     "text": [
      "--\n"
     ]
    }
   ],
   "source": [
    "\n",
    "%xmode Minimal\n",
    "\n",
    "#  Setting display options \n",
    "\n",
    "import pandas as pd\n",
    "   #\n",
    "pd.set_option(\"display.width\", 480)\n",
    "\n",
    "#  Sets horizontal scroll for wide outputs\n",
    "#\n",
    "from IPython.display import display, HTML\n",
    "display(HTML(\"\"))\n",
    "\n",
    "from tabulate import tabulate\n",
    "\n",
    "print(\"--\")\n"
   ]
  },
  {
   "cell_type": "markdown",
   "id": "d3ebe820-bc6d-4948-b668-8b81cd3cbf29",
   "metadata": {
    "tags": []
   },
   "source": [
    "#  Setup stuff: Connectivity"
   ]
  },
  {
   "cell_type": "code",
   "execution_count": 2,
   "id": "1ea957d6-30c6-427a-ae4e-15ecfba0c4f9",
   "metadata": {},
   "outputs": [
    {
     "name": "stdout",
     "output_type": "stream",
     "text": [
      "<katana.remote.sync_wrappers.Client object at 0x7f796c7527c0>\n"
     ]
    }
   ],
   "source": [
    "\n",
    "from katana import remote\n",
    "from katana.remote import import_data\n",
    "\n",
    "\n",
    "my_client = remote.Client()\n",
    "\n",
    "print(my_client)\n"
   ]
  },
  {
   "cell_type": "code",
   "execution_count": 3,
   "id": "97571016-7c02-4e90-a75a-136a0dacd35f",
   "metadata": {},
   "outputs": [
    {
     "name": "stdout",
     "output_type": "stream",
     "text": [
      "--\n"
     ]
    }
   ],
   "source": [
    "\n",
    "NUM_PARTITIONS  = 3\n",
    "   #\n",
    "DB_NAME         = \"my_db\"\n",
    "GRAPH_NAME      = \"my_graph\"\n",
    "\n",
    "print(\"--\")\n"
   ]
  },
  {
   "cell_type": "code",
   "execution_count": null,
   "id": "8ed2d715-aaeb-4381-9216-46fa0dd421b6",
   "metadata": {},
   "outputs": [],
   "source": [
    "\n",
    "#  DELETE ALL GRAPHS\n",
    "\n",
    "for l_database in my_client.databases():\n",
    "   for l_graph in my_client.get_database(name=l_database.name).graphs_in_database():\n",
    "      l_handle=my_client.get_database(name=l_database.name).get_graph_by_id(id=l_graph.graph_id)\n",
    "      l_handle.delete()\n",
    "\n",
    "for l_graph in my_client.graphs():\n",
    "   print(\"GRAPH ID: \", l_graph.graph_id, \"      GRAPH Version: \", l_graph.version)\n",
    "\n",
    "print(\"--\")\n"
   ]
  },
  {
   "cell_type": "code",
   "execution_count": 4,
   "id": "787bfe50-355c-4967-93c2-6a29293a2bb2",
   "metadata": {},
   "outputs": [
    {
     "name": "stdout",
     "output_type": "stream",
     "text": [
      "GRAPH ID:  3ZqP6zMFtb35kZeKbRgkJE3vhwgKUrmF6qZpeqJqC6k8       GRAPH Version:  2    Graph Name:  None\n",
      "GRAPH ID:  3bb48M8jvmZXCVjfySDhCVBQofLN8wBeRaNs9qrhFiyC       GRAPH Version:  0    Graph Name:  None\n",
      "GRAPH ID:  3ijSjB7vVbAzaKuEhwrMBwZzrdZQ2a3wXE27asPY6AuP       GRAPH Version:  13    Graph Name:  None\n",
      "GRAPH ID:  4Tagri4zkwjNLGRaJ2XP73sVem2d6QW65tTdiQ5PMFck       GRAPH Version:  1    Graph Name:  None\n",
      "GRAPH ID:  4i9SqdhBRyf8ef61zX8GHodXjhhMQJabwLAYb9deWckY       GRAPH Version:  0    Graph Name:  None\n",
      "GRAPH ID:  4ijJxCohbBzsZ9sqroovQPZc9NSUmMSCjr8coNZvbJeJ       GRAPH Version:  2    Graph Name:  None\n",
      "GRAPH ID:  4mpNUMm4MFH2gfRCewrkae2KCr3DvNZmWCY1DWDrCNKf       GRAPH Version:  1    Graph Name:  None\n",
      "GRAPH ID:  5Q4BbX6TYgpYoFxQeVsZ7xS6s4yifx7FtZ8rR31UBFzr       GRAPH Version:  2    Graph Name:  None\n",
      "GRAPH ID:  5RTxGR4PEAcbCBADJeJ1ePg5EzLAT9FUU9b4aSYnhWQr       GRAPH Version:  0    Graph Name:  boris-banco\n",
      "GRAPH ID:  5ZgtcYichnye4wnK3vKz9V4uYzAe3y9j1A8z9kw3ZvjB       GRAPH Version:  2    Graph Name:  None\n",
      "GRAPH ID:  6LZn9zJsZabgydorfsx4GTeeGr7MvD7rVUhshaFp2cuS       GRAPH Version:  2    Graph Name:  None\n",
      "GRAPH ID:  6SSpjAdXfqUyshg1uKtE7ZQr87qUECsSvyef1vhwyHe       GRAPH Version:  0    Graph Name:  None\n",
      "GRAPH ID:  6UkrpYGJngkrXKmH6Kz3FRAJtK4RwmpPRNUugmpka12Q       GRAPH Version:  2    Graph Name:  None\n",
      "GRAPH ID:  73qa8dwcSmh91p9N2pjd8jnnusAN339pVbYRgCzLAiPN       GRAPH Version:  1    Graph Name:  None\n",
      "GRAPH ID:  7Jc5DwK5waAWVuWqVGK9NuQsjRmUL6Zx61dEYaUnrybR       GRAPH Version:  13    Graph Name:  None\n",
      "GRAPH ID:  7n2Ea7XQJRAZDbpy8b6aMd1ZgVpxNtns7nnD9FCkxC4D       GRAPH Version:  1    Graph Name:  None\n",
      "GRAPH ID:  7ne6NQMS1VKaZ4wNpX5KcoKwndpFLGf4YU6wFQ2zHinX       GRAPH Version:  13    Graph Name:  None\n",
      "GRAPH ID:  8Zt3SfjnHhNwi7HqXs4PvGp1Thnoc83NdP3JmwTz2VuJ       GRAPH Version:  2    Graph Name:  None\n",
      "GRAPH ID:  8tyjJNXZdgetqZfg7tUAzb7GLqDtiFPfpbKcWkoiuv8K       GRAPH Version:  1    Graph Name:  None\n",
      "GRAPH ID:  8x3WJHxyMrMHJY6RZS4ygmvsacjKDKokndYucx19wbLc       GRAPH Version:  1    Graph Name:  None\n",
      "GRAPH ID:  9jcGcjxhaUKSUEyuXbWvLKRsVf2NQaRBwwP4htf2Gota       GRAPH Version:  0    Graph Name:  None\n",
      "GRAPH ID:  AUv4yikN3yiobAVeXrmxuqwKHyTcFuCABxTfpNzvpyD8       GRAPH Version:  1    Graph Name:  None\n",
      "GRAPH ID:  AWtygqjKGMdCekWaiQHmpan8aqN5t6REFXf5ZceQtNhn       GRAPH Version:  2    Graph Name:  None\n",
      "GRAPH ID:  AcB2NJ6qmVWKiwrHq9E9HgLvfdtgT4J1y5b6bW955hVA       GRAPH Version:  2    Graph Name:  None\n",
      "GRAPH ID:  BXvk7mTXXzmVkzk9PAhq2gch1scLYWjQ4qG6uZu4ZJ8L       GRAPH Version:  0    Graph Name:  None\n",
      "GRAPH ID:  BstbKLWK9gK5BYCZUCC29Z1cd1c8Su3CzEMFitrrYsBm       GRAPH Version:  1    Graph Name:  None\n",
      "GRAPH ID:  BuZqWUSRyD1Vih3ZaPCuBMDErE69gUhpFbr7vKwJjS23       GRAPH Version:  1    Graph Name:  None\n",
      "GRAPH ID:  DBYvuGwDcLDaov4RkqwYn4et927yHNwhFvg2z1LauRXD       GRAPH Version:  0    Graph Name:  None\n",
      "GRAPH ID:  DN4zVdtPrgHSPPvFWhTdEVVXH5xMZG95VmJh5iu4TWH1       GRAPH Version:  1    Graph Name:  None\n",
      "GRAPH ID:  DP85KHycpBtBk6UB1iYVMMzqzXqnaY9CQzvdhuBtKKQZ       GRAPH Version:  0    Graph Name:  None\n",
      "GRAPH ID:  Dmw5hBL6XUkecjAVmAtwfkNhJ2ovuMYLUe4YKYUa3D1u       GRAPH Version:  1    Graph Name:  None\n",
      "GRAPH ID:  EQgCcFdd58QEdVWkrT6rYW873JCL13QAu5k9JRFSLcXc       GRAPH Version:  6    Graph Name:  None\n",
      "GRAPH ID:  EXa2rkcs4yTfnip5Dk3MKZ7Kyi8gXes6KtpW3HVpGMQt       GRAPH Version:  8    Graph Name:  my_graph_DCR\n",
      "GRAPH ID:  EqtArFnD5tfuN2sfCihDXLntNe5wG9HTncBhmdLcxQrd       GRAPH Version:  3    Graph Name:  None\n",
      "GRAPH ID:  FWEjNE6zfCNBygQwwA4kWA85HbTWM6sFiCdjGEpzDswc       GRAPH Version:  1    Graph Name:  None\n",
      "GRAPH ID:  GcoqoQVey4cvGQkF3XQJFoDskyXoGosXuTZWAiT7A1cJ       GRAPH Version:  2    Graph Name:  None\n",
      "GRAPH ID:  GmN4sG1UTjcFgwzAg8mYJW4vQoQTPWKfcgtUvjzgKfN1       GRAPH Version:  2    Graph Name:  None\n",
      "GRAPH ID:  Hd87nKdiJqfkJhaVDFixfu5C6Hr9gQ2xEvtQ7wwoyUnw       GRAPH Version:  1    Graph Name:  None\n",
      "GRAPH ID:  HrGLinhAMbEat7C3P5ZUaxupvRdpHDKE8e96CnouwPKT       GRAPH Version:  1    Graph Name:  None\n",
      "GRAPH ID:  JCwHxdqsTtHS8CRp8BZTVGZLhGgXS7ngoE4NncbsBsuY       GRAPH Version:  13    Graph Name:  None\n",
      "GRAPH ID:  cZX8zpFpYktWgRTDVZjPz5pExNLuGTH1GLQLsoDdDpR       GRAPH Version:  0    Graph Name:  None\n",
      "GRAPH ID:  waF5WomXFyyjLsYpiHsF8oCBo1Pm65rYiRQVytYq2hH       GRAPH Version:  3    Graph Name:  None\n",
      "--\n"
     ]
    }
   ],
   "source": [
    "\n",
    "#  DELETE ONE SPECIFIC GRAPH ONLY\n",
    "\n",
    "for l_database in my_client.databases():\n",
    "   for l_graph in my_client.get_database(name = l_database.name).graphs_in_database():\n",
    "      if ((l_database.name == DB_NAME) and (l_graph.name == GRAPH_NAME)):   \n",
    "         l_handle = my_client.get_database(name = l_database.name).get_graph_by_id(id = l_graph.graph_id)\n",
    "         l_handle.delete()\n",
    "\n",
    "for l_graph in my_client.graphs():\n",
    "   print(\"GRAPH ID: \", l_graph.graph_id, \"      GRAPH Version: \", l_graph.version, \"   Graph Name: \", l_graph.name)\n",
    "\n",
    "print(\"--\")\n"
   ]
  },
  {
   "cell_type": "code",
   "execution_count": null,
   "id": "cf9c16ec-913f-46a8-bccc-76fc92c54866",
   "metadata": {},
   "outputs": [],
   "source": [
    "\n",
    "#  DELETE ALL DATABASES\n",
    "\n",
    "for l_database in my_client.databases():\n",
    "   if (l_database.name != \"default\"):\n",
    "      my_client.get_database(name=l_database.name).delete_database()\n",
    "      print(\"--\")\n",
    "\n",
    "for l_database in my_client.databases():\n",
    "   print(\"DB ID: \", l_database.database_id, \"     DB Name: \", l_database.name)\n"
   ]
  },
  {
   "cell_type": "code",
   "execution_count": null,
   "id": "6e72729c-265b-40e4-a3ee-674b793bed81",
   "metadata": {},
   "outputs": [],
   "source": [
    "\n",
    "#  CREATE DATABASE\n",
    "\n",
    "my_database = my_client.create_database(name=DB_NAME)\n",
    "\n",
    "print(my_database.database_id)\n"
   ]
  },
  {
   "cell_type": "code",
   "execution_count": 5,
   "id": "2fc31da4-44c3-4bd3-b160-b315766dcd88",
   "metadata": {},
   "outputs": [
    {
     "name": "stdout",
     "output_type": "stream",
     "text": [
      "<_Graph my_graph, 91yr3NQDRHFD9AnV5ZD97EWc6AaR4cKttZegZ8vwy4gQ, 0>\n"
     ]
    }
   ],
   "source": [
    "\n",
    "#  CREATE GRAPH\n",
    "#\n",
    "my_graph = my_client.get_database(name=DB_NAME).create_graph(name=GRAPH_NAME, num_partitions=NUM_PARTITIONS)\n",
    "\n",
    "print(my_graph)\n"
   ]
  },
  {
   "cell_type": "code",
   "execution_count": null,
   "id": "c5db6505-7fc8-4779-b194-9ed8945b9a90",
   "metadata": {},
   "outputs": [],
   "source": [
    "\n",
    "#  CONNECT TO GRAPH\n",
    "\n",
    "my_graph, *_ = my_client.get_database(name=DB_NAME).find_graphs_by_name(GRAPH_NAME)\n",
    "\n",
    "print(my_graph)\n"
   ]
  },
  {
   "cell_type": "markdown",
   "id": "61556ce5-9044-42bc-bb13-80b6a514ae27",
   "metadata": {
    "tags": []
   },
   "source": [
    "# Create: Vertices/nodes, edges .."
   ]
  },
  {
   "cell_type": "code",
   "execution_count": null,
   "id": "f7efb47b-3c7d-45f3-acc8-ae29c3e2a1bf",
   "metadata": {},
   "outputs": [],
   "source": [
    "# import pandas as pd\n",
    "# \n",
    "# print(\"--\")\n"
   ]
  },
  {
   "cell_type": "code",
   "execution_count": 6,
   "id": "8e7ecf31-d69e-4b5a-8a37-0cfb4c32fd33",
   "metadata": {},
   "outputs": [
    {
     "name": "stdout",
     "output_type": "stream",
     "text": [
      "+----+----------------+----------------+---------+\n",
      "|    | airport_code   | airport_name   | LABEL   |\n",
      "|----+----------------+----------------+---------|\n",
      "|  0 | MKE            | Milwaukee      | Airport |\n",
      "|  1 | ORD            | Chicago O-Hare | Airport |\n",
      "|  2 | SJC            | San Jose       | Airport |\n",
      "|  3 | DEN            | Denver         | Airport |\n",
      "+----+----------------+----------------+---------+\n"
     ]
    }
   ],
   "source": [
    "\n",
    "#  Vertices/Nodes, Airports ..\n",
    "\n",
    "df_airports = pd.DataFrame([\n",
    "       #\n",
    "   [\"MKE\", \"Milwaukee\"               , \"Airport\"],\n",
    "   [\"ORD\", \"Chicago O-Hare\"          , \"Airport\"],\n",
    "   [\"SJC\", \"San Jose\"                , \"Airport\"],\n",
    "   [\"DEN\", \"Denver\"                  , \"Airport\"],\n",
    "       #\n",
    "   ], columns = [\"airport_code\", \"airport_name\", \"LABEL\"])\n",
    "\n",
    "print(tabulate(df_airports, headers='keys', tablefmt='psql'))\n"
   ]
  },
  {
   "cell_type": "code",
   "execution_count": 7,
   "id": "60eaac88-4dd5-47d3-94b3-0f5fd0b243f2",
   "metadata": {},
   "outputs": [
    {
     "name": "stdout",
     "output_type": "stream",
     "text": [
      "+----+------------+----------+------------+------------+----------+\n",
      "|    | START_ID   | END_ID   |   DISTANCE |   NUM_HOPS | TYPE     |\n",
      "|----+------------+----------+------------+------------+----------|\n",
      "|  0 | MKE        | ORD      |         66 |          1 | FLIES_TO |\n",
      "|  1 | ORD        | MKE      |         66 |          1 | FLIES_TO |\n",
      "|  2 | ORD        | DEN      |        886 |          1 | FLIES_TO |\n",
      "|  3 | DEN        | ORD      |        886 |          1 | FLIES_TO |\n",
      "|  4 | SJC        | DEN      |        948 |          1 | FLIES_TO |\n",
      "|  5 | DEN        | SJC      |        948 |          1 | FLIES_TO |\n",
      "|  6 | SJC        | ORD      |       1829 |          1 | FLIES_TO |\n",
      "+----+------------+----------+------------+------------+----------+\n"
     ]
    }
   ],
   "source": [
    "\n",
    "#  Create the edge, flights ..\n",
    "\n",
    "df_flights = pd.DataFrame([\n",
    "      #\n",
    "   [\"MKE\", \"ORD\",   66, 1, \"FLIES_TO\" ],\n",
    "   [\"ORD\", \"MKE\",   66, 1, \"FLIES_TO\" ],\n",
    "      #\n",
    "   [\"ORD\", \"DEN\",  886, 1, \"FLIES_TO\" ],\n",
    "   [\"DEN\", \"ORD\",  886, 1, \"FLIES_TO\" ],\n",
    "      #\n",
    "   [\"SJC\", \"DEN\",  948, 1, \"FLIES_TO\" ],                           #  Notice SJC flies to/from Denver\n",
    "   [\"DEN\", \"SJC\",  948, 1, \"FLIES_TO\" ],\n",
    "      #\n",
    "   [\"SJC\", \"ORD\", 1829, 1, \"FLIES_TO\" ],                           #  Notice SJC flies to ORD, but not ORD to SJC\n",
    "      #\n",
    "   ], columns = [\"START_ID\", \"END_ID\", \"DISTANCE\", \"NUM_HOPS\", \"TYPE\"])\n",
    "\n",
    "print(tabulate(df_flights, headers='keys', tablefmt='psql'))\n"
   ]
  },
  {
   "cell_type": "code",
   "execution_count": 8,
   "id": "49e8f39e-4b4f-4377-a8ac-52a1ad07094f",
   "metadata": {},
   "outputs": [
    {
     "name": "stderr",
     "output_type": "stream",
     "text": [
      "/opt/conda/lib/python3.8/site-packages/katana/remote/aio/import_data/dataframe_importer/__init__.py:242: UserWarning: unsupported dtype 'object' for 'airport_code' was coerced to 'string'\n",
      "  warnings.warn(f\"unsupported dtype '{original_dtype}' for '{id_col.name}' was coerced to '{id_col.dtype}'\")\n",
      "/opt/conda/lib/python3.8/site-packages/katana/remote/aio/import_data/dataframe_importer/__init__.py:242: UserWarning: unsupported dtype 'object' for 'START_ID' was coerced to 'string'\n",
      "  warnings.warn(f\"unsupported dtype '{original_dtype}' for '{id_col.name}' was coerced to '{id_col.dtype}'\")\n",
      "/opt/conda/lib/python3.8/site-packages/katana/remote/aio/import_data/dataframe_importer/__init__.py:242: UserWarning: unsupported dtype 'object' for 'END_ID' was coerced to 'string'\n",
      "  warnings.warn(f\"unsupported dtype '{original_dtype}' for '{id_col.name}' was coerced to '{id_col.dtype}'\")\n"
     ]
    },
    {
     "data": {
      "application/vnd.jupyter.widget-view+json": {
       "model_id": "1a166201b47a41939fe389e12259df43",
       "version_major": 2,
       "version_minor": 0
      },
      "text/plain": [
       " 0 messages received [?msg/s ]"
      ]
     },
     "metadata": {},
     "output_type": "display_data"
    },
    {
     "name": "stdout",
     "output_type": "stream",
     "text": [
      "Traceback (most recent call last):\n",
      "\n"
     ]
    },
    {
     "name": "stderr",
     "output_type": "stream",
     "text": [
      "\n",
      "Host 0 errors:\n",
      "Traceback (most recent call last):\n",
      "\n",
      "\n",
      "  File \"/opt/conda/lib/python3.8/site-packages/distributed/comm/core.py\", line 291, in connect\n",
      "    comm = await asyncio.wait_for(\n",
      "\n",
      "\n",
      "  File \"/opt/conda/lib/python3.8/asyncio/tasks.py\", line 501, in wait_for\n",
      "    raise exceptions.TimeoutError()\n",
      "\n",
      "\n",
      "asyncio.exceptions.TimeoutError\n",
      "\n",
      "\n",
      "\n",
      "The above exception was the direct cause of the following exception:\n",
      "\n",
      "\n",
      "\n",
      "Traceback (most recent call last):\n",
      "\n",
      "\n",
      "  File \"/opt/conda/lib/python3.8/site-packages/katana/worker/worker.py\", line 168, in execute\n",
      "    value = function(graph)\n",
      "\n",
      "\n",
      "  File \"/opt/conda/lib/python3.8/site-packages/katana/remote/aio/import_data/dataframe_importer/__init__.py\", line 547, in remote_import_function\n",
      "    raise exception\n",
      "\n",
      "\n",
      "  File \"/opt/conda/lib/python3.8/site-packages/katana/remote/aio/import_data/dataframe_importer/__init__.py\", line 538, in remote_import_function\n",
      "    with dask_integration.client():\n",
      "\n",
      "\n",
      "  File \"/opt/conda/lib/python3.8/contextlib.py\", line 113, in __enter__\n",
      "    return next(self.gen)\n",
      "\n",
      "\n",
      "  File \"/opt/conda/lib/python3.8/site-packages/katana/distributed/dask_integration/__init__.py\", line 23, in client\n",
      "    with Client(scheduler_address) as dask_client:\n",
      "\n",
      "\n",
      "  File \"/opt/conda/lib/python3.8/site-packages/distributed/client.py\", line 943, in __init__\n",
      "    self.start(timeout=timeout)\n",
      "\n",
      "\n",
      "  File \"/opt/conda/lib/python3.8/site-packages/distributed/client.py\", line 1133, in start\n",
      "    sync(self.loop, self._start, **kwargs)\n",
      "\n",
      "\n",
      "  File \"/opt/conda/lib/python3.8/site-packages/distributed/utils.py\", line 405, in sync\n",
      "    raise exc.with_traceback(tb)\n",
      "\n",
      "\n",
      "  File \"/opt/conda/lib/python3.8/site-packages/distributed/utils.py\", line 378, in f\n",
      "    result = yield future\n",
      "\n",
      "\n",
      "  File \"/opt/conda/lib/python3.8/site-packages/tornado/gen.py\", line 762, in run\n",
      "    value = future.result()\n",
      "\n",
      "\n",
      "  File \"/opt/conda/lib/python3.8/site-packages/distributed/client.py\", line 1213, in _start\n",
      "    await self._ensure_connected(timeout=timeout)\n",
      "\n",
      "\n",
      "  File \"/opt/conda/lib/python3.8/site-packages/distributed/client.py\", line 1276, in _ensure_connected\n",
      "    comm = await connect(\n",
      "\n",
      "\n",
      "  File \"/opt/conda/lib/python3.8/site-packages/distributed/comm/core.py\", line 317, in connect\n",
      "    raise OSError(\n",
      "\n",
      "\n",
      "OSError: Timed out trying to connect to tcp://highmem-32-katana-dask-scheduler:8786 after 30 s\n",
      "\n",
      "\n",
      "Host 1 errors:\n",
      "Traceback (most recent call last):\n",
      "\n",
      "\n",
      "  File \"/opt/conda/lib/python3.8/site-packages/distributed/comm/core.py\", line 291, in connect\n",
      "    comm = await asyncio.wait_for(\n",
      "\n",
      "\n",
      "  File \"/opt/conda/lib/python3.8/asyncio/tasks.py\", line 501, in wait_for\n",
      "    raise exceptions.TimeoutError()\n",
      "\n",
      "\n",
      "asyncio.exceptions.TimeoutError\n",
      "\n",
      "\n",
      "\n",
      "The above exception was the direct cause of the following exception:\n",
      "\n",
      "\n",
      "\n",
      "Traceback (most recent call last):\n",
      "\n",
      "\n",
      "  File \"/opt/conda/lib/python3.8/site-packages/katana/remote/aio/import_data/dataframe_importer/__init__.py\", line 538, in remote_import_function\n",
      "    with dask_integration.client():\n",
      "\n",
      "\n",
      "  File \"/opt/conda/lib/python3.8/contextlib.py\", line 113, in __enter__\n",
      "    return next(self.gen)\n",
      "\n",
      "\n",
      "  File \"/opt/conda/lib/python3.8/site-packages/katana/distributed/dask_integration/__init__.py\", line 23, in client\n",
      "    with Client(scheduler_address) as dask_client:\n",
      "\n",
      "\n",
      "  File \"/opt/conda/lib/python3.8/site-packages/distributed/client.py\", line 943, in __init__\n",
      "    self.start(timeout=timeout)\n",
      "\n",
      "\n",
      "  File \"/opt/conda/lib/python3.8/site-packages/distributed/client.py\", line 1133, in start\n",
      "    sync(self.loop, self._start, **kwargs)\n",
      "\n",
      "\n",
      "  File \"/opt/conda/lib/python3.8/site-packages/distributed/utils.py\", line 405, in sync\n",
      "    raise exc.with_traceback(tb)\n",
      "\n",
      "\n",
      "  File \"/opt/conda/lib/python3.8/site-packages/distributed/utils.py\", line 378, in f\n",
      "    result = yield future\n",
      "\n",
      "\n",
      "  File \"/opt/conda/lib/python3.8/site-packages/tornado/gen.py\", line 762, in run\n",
      "    value = future.result()\n",
      "\n",
      "\n",
      "  File \"/opt/conda/lib/python3.8/site-packages/distributed/client.py\", line 1213, in _start\n",
      "    await self._ensure_connected(timeout=timeout)\n",
      "\n",
      "\n",
      "  File \"/opt/conda/lib/python3.8/site-packages/distributed/client.py\", line 1276, in _ensure_connected\n",
      "    comm = await connect(\n",
      "\n",
      "\n",
      "  File \"/opt/conda/lib/python3.8/site-packages/distributed/comm/core.py\", line 317, in connect\n",
      "    raise OSError(\n",
      "\n",
      "\n",
      "OSError: Timed out trying to connect to tcp://highmem-32-katana-dask-scheduler:8786 after 30 s\n",
      "\n",
      "\n",
      "\n",
      "The above exception was the direct cause of the following exception:\n",
      "\n",
      "\n",
      "\n",
      "Traceback (most recent call last):\n",
      "\n",
      "\n",
      "  File \"/opt/conda/lib/python3.8/site-packages/katana/worker/worker.py\", line 168, in execute\n",
      "    value = function(graph)\n",
      "\n",
      "\n",
      "  File \"/opt/conda/lib/python3.8/site-packages/katana/remote/aio/import_data/dataframe_importer/__init__.py\", line 548, in remote_import_function\n",
      "    raise RuntimeError(\"rank 0 raised an exception\") from exception\n",
      "\n",
      "\n",
      "RuntimeError: rank 0 raised an exception\n",
      "\n",
      "\n",
      "Host 2 errors:\n",
      "Traceback (most recent call last):\n",
      "\n",
      "\n",
      "  File \"/opt/conda/lib/python3.8/site-packages/distributed/comm/core.py\", line 291, in connect\n",
      "    comm = await asyncio.wait_for(\n",
      "\n",
      "\n",
      "  File \"/opt/conda/lib/python3.8/asyncio/tasks.py\", line 501, in wait_for\n",
      "    raise exceptions.TimeoutError()\n",
      "\n",
      "\n",
      "asyncio.exceptions.TimeoutError\n",
      "\n",
      "\n",
      "\n",
      "The above exception was the direct cause of the following exception:\n",
      "\n",
      "\n",
      "\n",
      "Traceback (most recent call last):\n",
      "\n",
      "\n",
      "  File \"/opt/conda/lib/python3.8/site-packages/katana/remote/aio/import_data/dataframe_importer/__init__.py\", line 538, in remote_import_function\n",
      "    with dask_integration.client():\n",
      "\n",
      "\n",
      "  File \"/opt/conda/lib/python3.8/contextlib.py\", line 113, in __enter__\n",
      "    return next(self.gen)\n",
      "\n",
      "\n",
      "  File \"/opt/conda/lib/python3.8/site-packages/katana/distributed/dask_integration/__init__.py\", line 23, in client\n",
      "    with Client(scheduler_address) as dask_client:\n",
      "\n",
      "\n",
      "  File \"/opt/conda/lib/python3.8/site-packages/distributed/client.py\", line 943, in __init__\n",
      "    self.start(timeout=timeout)\n",
      "\n",
      "\n",
      "  File \"/opt/conda/lib/python3.8/site-packages/distributed/client.py\", line 1133, in start\n",
      "    sync(self.loop, self._start, **kwargs)\n",
      "\n",
      "\n",
      "  File \"/opt/conda/lib/python3.8/site-packages/distributed/utils.py\", line 405, in sync\n",
      "    raise exc.with_traceback(tb)\n",
      "\n",
      "\n",
      "  File \"/opt/conda/lib/python3.8/site-packages/distributed/utils.py\", line 378, in f\n",
      "    result = yield future\n",
      "\n",
      "\n",
      "  File \"/opt/conda/lib/python3.8/site-packages/tornado/gen.py\", line 762, in run\n",
      "    value = future.result()\n",
      "\n",
      "\n",
      "  File \"/opt/conda/lib/python3.8/site-packages/distributed/client.py\", line 1213, in _start\n",
      "    await self._ensure_connected(timeout=timeout)\n",
      "\n",
      "\n",
      "  File \"/opt/conda/lib/python3.8/site-packages/distributed/client.py\", line 1276, in _ensure_connected\n",
      "    comm = await connect(\n",
      "\n",
      "\n",
      "  File \"/opt/conda/lib/python3.8/site-packages/distributed/comm/core.py\", line 317, in connect\n",
      "    raise OSError(\n",
      "\n",
      "\n",
      "OSError: Timed out trying to connect to tcp://highmem-32-katana-dask-scheduler:8786 after 30 s\n",
      "\n",
      "\n",
      "\n",
      "The above exception was the direct cause of the following exception:\n",
      "\n",
      "\n",
      "\n",
      "Traceback (most recent call last):\n",
      "\n",
      "\n",
      "  File \"/opt/conda/lib/python3.8/site-packages/katana/worker/worker.py\", line 168, in execute\n",
      "    value = function(graph)\n",
      "\n",
      "\n",
      "  File \"/opt/conda/lib/python3.8/site-packages/katana/remote/aio/import_data/dataframe_importer/__init__.py\", line 548, in remote_import_function\n",
      "    raise RuntimeError(\"rank 0 raised an exception\") from exception\n",
      "\n",
      "\n",
      "RuntimeError: rank 0 raised an exception\n",
      "\n"
     ]
    },
    {
     "ename": "OSError",
     "evalue": "Timed out trying to connect to tcp://highmem-32-katana-dask-scheduler:8786 after 30 s",
     "output_type": "error",
     "traceback": [
      "\u001b[0;31mTimeoutError\u001b[0m\n",
      "\nThe above exception was the direct cause of the following exception:\n",
      "\u001b[0;31mOSError\u001b[0m\u001b[0;31m:\u001b[0m Timed out trying to connect to tcp://highmem-32-katana-dask-scheduler:8786 after 30 s\n"
     ]
    }
   ],
   "source": [
    "\n",
    "# Import the 2 previously created Python DataFrames into KatanaGraph ..\n",
    "\n",
    "with import_data.DataFrameImporter(my_graph) as df_importer:   \n",
    "    \n",
    "   df_importer.nodes_dataframe(df_airports,                    #  Aiport set of Nodes\n",
    "      id_column             = \"airport_code\",\n",
    "      id_space              = \"Airport\",  \n",
    "      label                 = \"Airport\",  \n",
    "      )\n",
    "   \n",
    "   df_importer.edges_dataframe(df_flights,                     #  Our Edge, specifying the relationship between Airport --> FLIES_TO --> Airport\n",
    "      source_id_space       = \"Airport\", \n",
    "      destination_id_space  = \"Airport\",   \n",
    "      source_column         = \"START_ID\",\n",
    "      destination_column    = \"END_ID\",\n",
    "      type                  = \"FLIES_TO\"\n",
    "      )\n",
    "\n",
    "   df_importer.insert()\n",
    "\n",
    "print(\"--\")\n"
   ]
  },
  {
   "cell_type": "code",
   "execution_count": null,
   "id": "e11a73c0-dae4-48f5-8143-8d1b5c034727",
   "metadata": {},
   "outputs": [],
   "source": [
    "\n",
    "#  View the graph\n",
    "#\n",
    "\n",
    "l_result = my_graph.query(\n",
    "   \"\"\"\n",
    "   MATCH (n) - [r] -> (m)\n",
    "   RETURN n, r, m\n",
    "   \"\"\" ,\n",
    "   contextualize=True,\n",
    "   )\n",
    "l_result.view()\n"
   ]
  },
  {
   "cell_type": "code",
   "execution_count": null,
   "id": "b9bbf601-a25b-4dd9-8f99-83ec1a576505",
   "metadata": {},
   "outputs": [],
   "source": [
    "\n",
    "#  What's in the graph ..\n",
    "\n",
    "l_result1 = my_graph.query_unpaginated(\"\"\"\n",
    "   MATCH ( n ) \n",
    "   RETURN n\n",
    "   \"\"\")\n",
    "print(tabulate(l_result1, headers='keys', tablefmt='psql'))\n",
    "\n",
    "l_result2 = my_graph.query_unpaginated(\"\"\"\n",
    "   MATCH ( n ) - [ r ] -> ( m )\n",
    "   RETURN r\n",
    "   \"\"\")\n",
    "print(tabulate(l_result2, headers='keys', tablefmt='psql'))\n"
   ]
  }
 ],
 "metadata": {
  "kernelspec": {
   "display_name": "Python 3 (ipykernel)",
   "language": "python",
   "name": "python3"
  },
  "language_info": {
   "codemirror_mode": {
    "name": "ipython",
    "version": 3
   },
   "file_extension": ".py",
   "mimetype": "text/x-python",
   "name": "python",
   "nbconvert_exporter": "python",
   "pygments_lexer": "ipython3",
   "version": "3.8.13"
  }
 },
 "nbformat": 4,
 "nbformat_minor": 5
}
