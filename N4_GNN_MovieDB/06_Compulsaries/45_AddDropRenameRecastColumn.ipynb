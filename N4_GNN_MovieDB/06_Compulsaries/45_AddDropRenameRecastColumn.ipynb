{
 "cells": [
  {
   "cell_type": "code",
   "execution_count": null,
   "id": "d776f754-ef98-4cbd-a423-647c483341ce",
   "metadata": {},
   "outputs": [],
   "source": [
    "\n",
    "#  Here we demonstrate the following Dask DataFrame techniques;\n",
    "#\n",
    "#     .  How to create a Dask DataFrame from an array.\n",
    "#\n",
    "#     .  Add a new column. Perhaps a LABEL or TYPE.\n"
   ]
  },
  {
   "cell_type": "code",
   "execution_count": 1,
   "id": "682150e3-6a50-4197-a239-80d1d2ea6edd",
   "metadata": {},
   "outputs": [
    {
     "name": "stdout",
     "output_type": "stream",
     "text": [
      "--\n"
     ]
    }
   ],
   "source": [
    "\n",
    "NUM_PARTITIONS  = 3\n",
    "\n",
    "print(\"--\")\n"
   ]
  },
  {
   "cell_type": "code",
   "execution_count": 2,
   "id": "0416c10d-a1cb-433d-ad5e-85498aaa1744",
   "metadata": {},
   "outputs": [
    {
     "name": "stdout",
     "output_type": "stream",
     "text": [
      "--\n"
     ]
    }
   ],
   "source": [
    "\n",
    "import numpy as np\n",
    "import pandas as pd\n",
    "   #\n",
    "import dask.array as da\n",
    "import dask.dataframe as dd\n",
    "   #\n",
    "from dask.dataframe import from_pandas\n",
    "\n",
    "from tabulate import tabulate\n",
    "\n",
    "print(\"--\")\n"
   ]
  },
  {
   "cell_type": "code",
   "execution_count": 3,
   "id": "131298d0-5cb4-4b62-8413-5e5571ef4b6a",
   "metadata": {},
   "outputs": [
    {
     "name": "stdout",
     "output_type": "stream",
     "text": [
      "Airport:  MKE   Milwaukee            WI   Airport   \n",
      "Airport:  ORD   Chicago O-Hare       IL   Airport   \n",
      "Airport:  SJC   San Jose             CA   Airport   \n",
      "Airport:  LAX   Los Angeles          CA   Airport   \n",
      "Airport:  DEN   Denver               CO   Airport   \n",
      "--\n"
     ]
    }
   ],
   "source": [
    "\n",
    "#  Create our source Dask DataFrame from an array\n",
    "\n",
    "np_airports = np.array([\n",
    "       #\n",
    "   [\"MKE\", \"Milwaukee\"     , \"WI\", \"Airport\"],\n",
    "   [\"ORD\", \"Chicago O-Hare\", \"IL\", \"Airport\"],\n",
    "   [\"SJC\", \"San Jose\"      , \"CA\", \"Airport\"],\n",
    "   [\"LAX\", \"Los Angeles\"   , \"CA\", \"Airport\"],\n",
    "   [\"DEN\", \"Denver\"        , \"CO\", \"Airport\"],\n",
    "       #\n",
    "   ], dtype=\"str\")\n",
    "\n",
    "pd_airports = pd.DataFrame(np_airports, columns = [\"airport_code\", \"airport_name\", \"state_code\", \"LABEL\"])\n",
    "   #\n",
    "dd_airports = from_pandas(pd_airports, npartitions = NUM_PARTITIONS)\n",
    "\n",
    "\n",
    "for l_each in dd_airports.itertuples():\n",
    "   print(\"Airport:  %3s   %-18s   %-2s   %-10s\" % (l_each.airport_code, l_each.airport_name, l_each.state_code, l_each.LABEL))\n",
    "\n",
    "print(\"--\")\n",
    "\n",
    "#  Sample output,\n",
    "#\n",
    "#  Airport:  MKE   Milwaukee            WI   Airport   \n",
    "#  Airport:  ORD   Chicago O-Hare       IL   Airport   \n",
    "#  Airport:  SJC   San Jose             CA   Airport   \n",
    "#  Airport:  LAX   Los Angeles          CA   Airport   \n",
    "#  Airport:  DEN   Denver               CO   Airport  \n"
   ]
  },
  {
   "cell_type": "code",
   "execution_count": 5,
   "id": "dea72023-5366-444e-8cdf-cdb280b75e2f",
   "metadata": {},
   "outputs": [
    {
     "name": "stdout",
     "output_type": "stream",
     "text": [
      "<class 'dask.dataframe.core.DataFrame'>\n",
      "Pandas(Index=0, airport_code='MKE', airport_name='Milwaukee', state_code='WI', LABEL='Airport', new_col='AAA')\n",
      "Pandas(Index=1, airport_code='ORD', airport_name='Chicago O-Hare', state_code='IL', LABEL='Airport', new_col='AAA')\n",
      "Pandas(Index=2, airport_code='SJC', airport_name='San Jose', state_code='CA', LABEL='Airport', new_col='AAA')\n",
      "Pandas(Index=3, airport_code='LAX', airport_name='Los Angeles', state_code='CA', LABEL='Airport', new_col='AAA')\n",
      "Pandas(Index=4, airport_code='DEN', airport_name='Denver', state_code='CO', LABEL='Airport', new_col='AAA')\n"
     ]
    }
   ],
   "source": [
    "\n",
    "#  How to add a new column\n",
    "\n",
    "dd_airports = dd_airports.assign(new_col=lambda x: \"AAA\")\n",
    "print(type(dd_airports))\n",
    "\n",
    "for l_each in dd_airports.itertuples():\n",
    "   print(l_each)\n"
   ]
  },
  {
   "cell_type": "code",
   "execution_count": 6,
   "id": "39ef5211-98eb-48a6-9811-e8e6b96b8ed4",
   "metadata": {},
   "outputs": [
    {
     "name": "stdout",
     "output_type": "stream",
     "text": [
      "<class 'dask.dataframe.core.DataFrame'>\n",
      "Pandas(Index=0, airport_code='MKE', state_code='WI', LABEL='Airport', new_col='AAA')\n",
      "Pandas(Index=1, airport_code='ORD', state_code='IL', LABEL='Airport', new_col='AAA')\n",
      "Pandas(Index=2, airport_code='SJC', state_code='CA', LABEL='Airport', new_col='AAA')\n",
      "Pandas(Index=3, airport_code='LAX', state_code='CA', LABEL='Airport', new_col='AAA')\n",
      "Pandas(Index=4, airport_code='DEN', state_code='CO', LABEL='Airport', new_col='AAA')\n"
     ]
    }
   ],
   "source": [
    "\n",
    "#  How to drop a column\n",
    "\n",
    "dd_airports = dd_airports.drop(\"airport_name\", axis=1)\n",
    "print(type(dd_airports))\n",
    "\n",
    "for l_each in dd_airports.itertuples():\n",
    "   print(l_each)\n"
   ]
  },
  {
   "cell_type": "code",
   "execution_count": 7,
   "id": "b138e654-5fe6-45e0-b5dc-8f7bcbdc729f",
   "metadata": {},
   "outputs": [
    {
     "name": "stdout",
     "output_type": "stream",
     "text": [
      "Pandas(Index=0, AIRPORT_CODE='MKE', STATE_CODE='WI', LABEL='Airport', new_col='AAA')\n",
      "Pandas(Index=1, AIRPORT_CODE='ORD', STATE_CODE='IL', LABEL='Airport', new_col='AAA')\n",
      "Pandas(Index=2, AIRPORT_CODE='SJC', STATE_CODE='CA', LABEL='Airport', new_col='AAA')\n",
      "Pandas(Index=3, AIRPORT_CODE='LAX', STATE_CODE='CA', LABEL='Airport', new_col='AAA')\n",
      "Pandas(Index=4, AIRPORT_CODE='DEN', STATE_CODE='CO', LABEL='Airport', new_col='AAA')\n"
     ]
    }
   ],
   "source": [
    "\n",
    "#  Rename a column\n",
    "\n",
    "dd_airports = dd_airports.rename(columns={\"state_code\": \"STATE_CODE\", \"airport_code\": \"AIRPORT_CODE\"})\n",
    "\n",
    "for l_each in dd_airports.itertuples():\n",
    "   print(l_each)\n"
   ]
  },
  {
   "cell_type": "code",
   "execution_count": 14,
   "id": "116f04e1-1398-43e6-8788-a62615d09956",
   "metadata": {},
   "outputs": [
    {
     "ename": "SyntaxError",
     "evalue": "invalid syntax (1103985723.py, line 9)",
     "output_type": "error",
     "traceback": [
      "\u001b[0;36m  Cell \u001b[0;32mIn [14], line 9\u001b[0;36m\u001b[0m\n\u001b[0;31m    dd_airports2 = dd_airports.assign(\u001b[0m\n\u001b[0m    ^\u001b[0m\n\u001b[0;31mSyntaxError\u001b[0m\u001b[0;31m:\u001b[0m invalid syntax\n"
     ]
    }
   ],
   "source": [
    "\n",
    "#  Change column data types\n",
    "\n",
    "#  First, add a new column is type str\n",
    "dd_airports = dd_airports.assign(new_col2=lambda x: \"20\")\n",
    "\n",
    "for l_each in dd_airports.itertuples():\n",
    "   print(\"Type of new_col2: %-32s  Data for new_col2: %s\" % (type(l_each.new_col2), str(l_each.new_col2) )\n",
    "\n",
    "         \n",
    "dd_airports2 = dd_airports.assign(\n",
    "    \n",
    "   new_col2 = lambda x: x.new_col2.fillna(0.0).astype(int)\n",
    "    \n",
    "    \n",
    "   # born     = lambda x: x.born.fillna(0.0).astype(int), \n",
    "   # born     = lambda x: x.born.fillna(0.0).astype(str), \n",
    "   # id       = lambda x: x.id.fillna(0.0).astype(int),\n",
    "   # id       = lambda x: x.id.fillna(0.0).astype(str),\n",
    "   # released = lambda x: x.released.fillna(0.0).astype(int),\n",
    "   # released = lambda x: x.released.fillna(0.0).astype(str),\n",
    "   # label    = lambda x: x.label.astype(str).str[1:]\n",
    "   )\n",
    "\n",
    "print(\"--\")\n",
    "\n"
   ]
  },
  {
   "cell_type": "code",
   "execution_count": null,
   "id": "39852231-e715-41be-a460-c92f98d87a71",
   "metadata": {},
   "outputs": [],
   "source": []
  },
  {
   "cell_type": "code",
   "execution_count": null,
   "id": "f142b5dc-4814-4328-9707-d762c1feb18b",
   "metadata": {},
   "outputs": [],
   "source": []
  }
 ],
 "metadata": {
  "kernelspec": {
   "display_name": "Python 3 (ipykernel)",
   "language": "python",
   "name": "python3"
  },
  "language_info": {
   "codemirror_mode": {
    "name": "ipython",
    "version": 3
   },
   "file_extension": ".py",
   "mimetype": "text/x-python",
   "name": "python",
   "nbconvert_exporter": "python",
   "pygments_lexer": "ipython3",
   "version": "3.8.13"
  }
 },
 "nbformat": 4,
 "nbformat_minor": 5
}
