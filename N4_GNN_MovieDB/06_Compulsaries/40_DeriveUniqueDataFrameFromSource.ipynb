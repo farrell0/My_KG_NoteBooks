{
 "cells": [
  {
   "cell_type": "code",
   "execution_count": null,
   "id": "d776f754-ef98-4cbd-a423-647c483341ce",
   "metadata": {},
   "outputs": [],
   "source": [
    "\n",
    "#  Here we demonstrate the following Dask DataFrame techniques;\n",
    "#\n",
    "#     .  How to create a Dask DataFrame from an array.\n",
    "#\n",
    "#     .  Given a source Dask DataFrame, create a second new DataFrame with just\n",
    "#        unique values, and the ability to link back to the source.\n",
    "#\n",
    "#        We might use this technique when given a flat file of data, that we derive\n",
    "#        nodes and edges from.\n"
   ]
  },
  {
   "cell_type": "code",
   "execution_count": null,
   "id": "682150e3-6a50-4197-a239-80d1d2ea6edd",
   "metadata": {},
   "outputs": [],
   "source": [
    "\n",
    "NUM_PARTITIONS  = 3\n",
    "\n",
    "print(\"--\")\n"
   ]
  },
  {
   "cell_type": "code",
   "execution_count": null,
   "id": "0416c10d-a1cb-433d-ad5e-85498aaa1744",
   "metadata": {},
   "outputs": [],
   "source": [
    "\n",
    "import numpy as np\n",
    "import pandas as pd\n",
    "   #\n",
    "import dask.array as da\n",
    "import dask.dataframe as dd\n",
    "   #\n",
    "from dask.dataframe import from_pandas\n",
    "\n",
    "from tabulate import tabulate\n",
    "\n",
    "print(\"--\")\n"
   ]
  },
  {
   "cell_type": "code",
   "execution_count": null,
   "id": "131298d0-5cb4-4b62-8413-5e5571ef4b6a",
   "metadata": {},
   "outputs": [],
   "source": [
    "\n",
    "#  Create our source Dask DataFrame from an array\n",
    "\n",
    "np_airports = np.array([\n",
    "       #\n",
    "   [\"MKE\", \"Milwaukee\"     , \"WI\", \"Airport\"],\n",
    "   [\"ORD\", \"Chicago O-Hare\", \"IL\", \"Airport\"],\n",
    "   [\"SJC\", \"San Jose\"      , \"CA\", \"Airport\"],\n",
    "   [\"LAX\", \"Los Angeles\"   , \"CA\", \"Airport\"],\n",
    "   [\"DEN\", \"Denver\"        , \"CO\", \"Airport\"],\n",
    "       #\n",
    "   ], dtype=\"str\")\n",
    "\n",
    "pd_airports = pd.DataFrame(np_airports, columns = [\"airport_code\", \"airport_name\", \"state_code\", \"LABEL\"])\n",
    "   #\n",
    "dd_airports = from_pandas(pd_airports, npartitions = NUM_PARTITIONS)\n",
    "\n",
    "\n",
    "for l_each in dd_airports.itertuples():\n",
    "   print(\"Airport:  %3s   %-18s   %-2s   %-10s\" % (l_each.airport_code, l_each.airport_name, l_each.state_code, l_each.LABEL))\n",
    "\n",
    "print(\"--\")\n",
    "\n",
    "#  Sample output,\n",
    "#\n",
    "#  Airport:  MKE   Milwaukee            WI   Airport   \n",
    "#  Airport:  ORD   Chicago O-Hare       IL   Airport   \n",
    "#  Airport:  SJC   San Jose             CA   Airport   \n",
    "#  Airport:  LAX   Los Angeles          CA   Airport   \n",
    "#  Airport:  DEN   Denver               CO   Airport  \n"
   ]
  },
  {
   "cell_type": "code",
   "execution_count": null,
   "id": "4b708e18-dcc4-4e8e-b508-de70687066f8",
   "metadata": {},
   "outputs": [],
   "source": [
    "\n",
    "#  Create a DataFrame with just the unique state_code values\n",
    "\n",
    "\n",
    "#  Approach one, just the keys\n",
    "#\n",
    "dd_states = dd_airports[[\"state_code\"]].drop_duplicates()\n",
    "   #\n",
    "for l_each in dd_states.itertuples():\n",
    "   print(l_each)\n",
    "\n",
    "print(\"\")\n",
    "\n",
    "\n",
    "#  Approach two, this also outputs a count per unique key\n",
    "#\n",
    "#  Don't use this one\n",
    "#\n",
    "dd_states = dd_airports.groupby(\"state_code\").aggregate({\"state_code\": \"count\"})\n",
    "   #\n",
    "for l_each in dd_states.itertuples():\n",
    "   print(l_each)\n",
    "\n",
    "print(\"\")\n",
    "\n",
    "\n",
    "#  Approach three, this also outputs a count per unique key, an sorts DESC\n",
    "#\n",
    "\n",
    "print(type(dd_airports))\n",
    "\n",
    "dd_states = dd_airports.groupby(\"state_code\")[\"state_code\"].count().compute().reset_index(name=\"count\").sort_values(by=\"count\", ascending=False)\n",
    "\n",
    "for l_each in dd_states.itertuples():\n",
    "   print(l_each)\n",
    "\n",
    "print(\"\")\n",
    "\n",
    "\n",
    "#  Sample output,\n",
    "#\n",
    "#     Pandas(Index=0, state_code='WI')\n",
    "#     Pandas(Index=1, state_code='IL')\n",
    "#     Pandas(Index=2, state_code='CA')\n",
    "#     Pandas(Index=4, state_code='CO')\n",
    "#     \n",
    "#     Pandas(Index='IL', state_code=1)\n",
    "#     Pandas(Index='WI', state_code=1)\n",
    "#     Pandas(Index='CA', state_code=2)\n",
    "#     Pandas(Index='CO', state_code=1)\n",
    "#     \n",
    "#     <class 'dask.dataframe.core.DataFrame'>\n",
    "#     Pandas(Index=2, state_code='CA', count=2)\n",
    "#     Pandas(Index=0, state_code='IL', count=1)\n",
    "#     Pandas(Index=1, state_code='WI', count=1)\n",
    "#     Pandas(Index=3, state_code='CO', count=1)\n"
   ]
  },
  {
   "cell_type": "code",
   "execution_count": 63,
   "id": "828d62e9-1cf8-4eee-9147-f351961b95f4",
   "metadata": {},
   "outputs": [
    {
     "name": "stdout",
     "output_type": "stream",
     "text": [
      "Pandas(Index=0, airport_code='MKE', state_code='WI')\n",
      "Pandas(Index=1, airport_code='ORD', state_code='IL')\n",
      "Pandas(Index=2, airport_code='SJC', state_code='CA')\n",
      "Pandas(Index=3, airport_code='LAX', state_code='CA')\n",
      "Pandas(Index=4, airport_code='DEN', state_code='CO')\n"
     ]
    }
   ],
   "source": [
    "\n",
    "#  And then if we need our edge between the two above\n",
    "\n",
    "dd_edges = dd_airports[[\"airport_code\", \"state_code\"]]\n",
    "   #\n",
    "for l_each in dd_edges.itertuples():\n",
    "   print(l_each)\n",
    "\n",
    "#  Sample output,\n",
    "#\n",
    "#     Pandas(Index=0, airport_code='MKE', state_code='WI')\n",
    "#     Pandas(Index=1, airport_code='ORD', state_code='IL')\n",
    "#     Pandas(Index=2, airport_code='SJC', state_code='CA')\n",
    "#     Pandas(Index=3, airport_code='LAX', state_code='CA')\n",
    "#     Pandas(Index=4, airport_code='DEN', state_code='CO')\n"
   ]
  }
 ],
 "metadata": {
  "kernelspec": {
   "display_name": "Python 3 (ipykernel)",
   "language": "python",
   "name": "python3"
  },
  "language_info": {
   "codemirror_mode": {
    "name": "ipython",
    "version": 3
   },
   "file_extension": ".py",
   "mimetype": "text/x-python",
   "name": "python",
   "nbconvert_exporter": "python",
   "pygments_lexer": "ipython3",
   "version": "3.8.13"
  }
 },
 "nbformat": 4,
 "nbformat_minor": 5
}
