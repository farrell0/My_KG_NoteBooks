{
 "cells": [
  {
   "cell_type": "code",
   "execution_count": 1,
   "id": "6badeeca-ab5c-4a50-be3e-8be25cc7ee81",
   "metadata": {},
   "outputs": [
    {
     "data": {
      "text/html": [],
      "text/plain": [
       "<IPython.core.display.HTML object>"
      ]
     },
     "metadata": {},
     "output_type": "display_data"
    },
    {
     "name": "stdout",
     "output_type": "stream",
     "text": [
      "--\n"
     ]
    }
   ],
   "source": [
    "\n",
    "#  Setting display options \n",
    "\n",
    "import pandas as pd\n",
    "   #\n",
    "pd.set_option(\"display.width\", 480)\n",
    "\n",
    "#  Sets horizontal scroll for wide outputs\n",
    "#\n",
    "from IPython.display import display, HTML\n",
    "display(HTML(\"\"))\n",
    "\n",
    "from tabulate import tabulate\n",
    "\n",
    "print(\"--\")\n"
   ]
  },
  {
   "cell_type": "markdown",
   "id": "fcb5bbbb-6a57-4388-aa7d-4a2413522df2",
   "metadata": {
    "tags": []
   },
   "source": [
    "# Setup stuff: Connectivity"
   ]
  },
  {
   "cell_type": "code",
   "execution_count": 2,
   "id": "55e90465-e651-45c0-94b2-1ce2cde47977",
   "metadata": {},
   "outputs": [
    {
     "name": "stdout",
     "output_type": "stream",
     "text": [
      "<katana_enterprise.remote.sync_wrappers.Client object at 0x7ff108391d00>\n"
     ]
    }
   ],
   "source": [
    "\n",
    "from katana import remote\n",
    "\n",
    "my_client = remote.Client()\n",
    "\n",
    "print(my_client)\n"
   ]
  },
  {
   "cell_type": "code",
   "execution_count": 3,
   "id": "04b19ed9-0238-4a6f-afd0-fa11a3b0328b",
   "metadata": {},
   "outputs": [
    {
     "name": "stdout",
     "output_type": "stream",
     "text": [
      "--\n"
     ]
    }
   ],
   "source": [
    "\n",
    "NUM_PARTITIONS  = 3\n",
    "   #\n",
    "DB_NAME         = \"my_db\"\n",
    "GRAPH_NAME      = \"my_graph\"\n",
    "\n",
    "print(\"--\")\n"
   ]
  },
  {
   "cell_type": "code",
   "execution_count": 4,
   "id": "60449360-363a-48ae-bd55-9527b880e3e5",
   "metadata": {},
   "outputs": [
    {
     "name": "stdout",
     "output_type": "stream",
     "text": [
      "<_Graph my_graph, 9y4Qb2faRRhDrFM1t7Z5HU4pDRg5Je9XwCuVkFPfTZX6, 4>\n"
     ]
    }
   ],
   "source": [
    "\n",
    "#  CONNECT TO GRAPH\n",
    "\n",
    "my_graph, *_ = my_client.get_database(name=DB_NAME).find_graphs_by_name(GRAPH_NAME)\n",
    "\n",
    "print(my_graph)\n"
   ]
  },
  {
   "cell_type": "markdown",
   "id": "e2f0bfda-6092-4263-8857-c61af622908b",
   "metadata": {
    "tags": []
   },
   "source": [
    "#  Actual analytics .."
   ]
  },
  {
   "cell_type": "code",
   "execution_count": 5,
   "id": "d22b92c3-8c94-4742-9d71-3570db6a59b3",
   "metadata": {},
   "outputs": [
    {
     "data": {
      "application/vnd.jupyter.widget-view+json": {
       "model_id": "b0298a400bfd473c82431b02f3b478a7",
       "version_major": 2,
       "version_minor": 0
      },
      "text/plain": [
       "          0/? [?op/s]"
      ]
     },
     "metadata": {},
     "output_type": "display_data"
    },
    {
     "data": {
      "application/vnd.jupyter.widget-view+json": {
       "model_id": "1233d967fcf04f26a208fcb9f6b78107",
       "version_major": 2,
       "version_minor": 0
      },
      "text/plain": [
       "          0/? [?op/s]"
      ]
     },
     "metadata": {},
     "output_type": "display_data"
    },
    {
     "data": {
      "application/vnd.jupyter.widget-view+json": {
       "model_id": "fa403a69a9224c33b73e6d5292883257",
       "version_major": 2,
       "version_minor": 0
      },
      "text/plain": [
       "VBox(children=(HTML(value='\\n                <style>\\n                #jp-main-content-panel .widget-container…"
      ]
     },
     "metadata": {},
     "output_type": "display_data"
    }
   ],
   "source": [
    "\n",
    "#  View the graph\n",
    "#\n",
    "\n",
    "l_result = my_graph.query(\n",
    "   \"\"\"\n",
    "   MATCH (n) - [r] -> (m)\n",
    "   RETURN n, r, m\n",
    "   \"\"\" ,\n",
    "   contextualize=True,\n",
    "   )\n",
    "l_result.view()\n"
   ]
  },
  {
   "cell_type": "code",
   "execution_count": 6,
   "id": "3ecba69c-0a0f-4a51-a02e-55973ec51242",
   "metadata": {},
   "outputs": [
    {
     "name": "stdout",
     "output_type": "stream",
     "text": [
      "--\n"
     ]
    }
   ],
   "source": [
    "\n",
    "from katana.remote import analytics\n",
    "\n",
    "print(\"--\")\n"
   ]
  },
  {
   "cell_type": "code",
   "execution_count": 7,
   "id": "c938c483-09f8-4a77-9646-17a6b8d6c256",
   "metadata": {},
   "outputs": [
    {
     "name": "stdout",
     "output_type": "stream",
     "text": [
      "--\n"
     ]
    }
   ],
   "source": [
    "\n",
    "#  Getting the airport node id\n",
    "#\n",
    "\n",
    "def f_get_airport(i_arg1):\n",
    "    \n",
    "   l_query  = \"\"\"\n",
    "      MATCH (n: Airport) \n",
    "      WHERE n.airport_code = '{0}'\n",
    "      RETURN ID(n) AS my_id\n",
    "      \"\"\".format(i_arg1)\n",
    "   \n",
    "   l_id = my_graph.query(l_query)[\"my_id\"][0]\n",
    "\n",
    "   print(\"Airport id:  %s   %d\" % (i_arg1, l_id))\n",
    "  \n",
    "   return (str(l_id))\n",
    "\n",
    "\n",
    "print(\"--\")\n"
   ]
  },
  {
   "cell_type": "code",
   "execution_count": null,
   "id": "dd06fe66-0a3b-4939-bdbf-4bdd2b3dd230",
   "metadata": {},
   "outputs": [],
   "source": [
    "\n",
    "#  Running analytics.ksssp() ..\n",
    "\n",
    "\n",
    "\n",
    "l_airport     = \"MKE\"\n",
    "#  l_airport     = \"ORD\"\n",
    "#  l_airport     = \"DEN\"\n",
    "#  l_airport     = \"SJC\"\n",
    "   #\n",
    "l_airport_id  = f_get_airport(l_airport)\n",
    "\n",
    "\n",
    "l_walk_length         = 10\n",
    "l_number_of_walks     = 10\n",
    "\n",
    "\n",
    "l_result = analytics.random_walks(\n",
    "   my_graph,\n",
    "      #\n",
    "   walk_length       = l_walk_length,\n",
    "   number_of_walks   = l_number_of_walks,\n",
    "      #\n",
    "   root_nodes        = [ l_airport_id ]  \n",
    "   )\n",
    "\n",
    "print(\"--\")\n",
    "\n",
    "\n",
    "\n",
    "\n",
    "        graph – The graph to apply the routine to.\n",
    "\n",
    "        walk_length – Maximum length of walks.\n",
    "\n",
    "        number_of_walks – Number of walks to compute for each node.\n",
    "\n",
    "        root_nodes – If set, run random walk only for those nodes, otherwise for all nodes. An empty list means no node.\n",
    "\n",
    "        backward_probability – Backward probability (applicable for Node2Vec).\n",
    "\n",
    "        forward_probability – Forward probability (applicable for Node2Vec).\n",
    "\n",
    "        is_uniform – Set to True if computing Uniform random walks.\n",
    "\n",
    "        is_node2vec – Set to True if computing Node2Vec random walks.\n",
    "\n",
    "\n"
   ]
  },
  {
   "cell_type": "code",
   "execution_count": null,
   "id": "a91cd0a0-72a6-4c3d-8c8a-48d6eae59a4c",
   "metadata": {},
   "outputs": [],
   "source": [
    "\n",
    "l_result = my_graph.query(\"\"\"\n",
    "   MATCH ( n ) \n",
    "   RETURN n\n",
    "   \n",
    "   \"\"\")\n",
    "\n",
    "print(tabulate(l_result, headers='keys', tablefmt='psql'))\n",
    "\n",
    "#  l_result = my_graph.query(\n",
    "#     \"\"\"\n",
    "#     MATCH (n) - [r] -> (m)\n",
    "#     RETURN r\n",
    "#     \"\"\" )\n",
    "#  print(tabulate(l_result, headers='keys', tablefmt='psql'))\n"
   ]
  }
 ],
 "metadata": {
  "kernelspec": {
   "display_name": "Python 3 (ipykernel)",
   "language": "python",
   "name": "python3"
  },
  "language_info": {
   "codemirror_mode": {
    "name": "ipython",
    "version": 3
   },
   "file_extension": ".py",
   "mimetype": "text/x-python",
   "name": "python",
   "nbconvert_exporter": "python",
   "pygments_lexer": "ipython3",
   "version": "3.8.13"
  }
 },
 "nbformat": 4,
 "nbformat_minor": 5
}
