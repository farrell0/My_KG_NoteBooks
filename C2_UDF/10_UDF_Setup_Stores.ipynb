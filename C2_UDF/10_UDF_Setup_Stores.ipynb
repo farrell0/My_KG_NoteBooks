{
 "cells": [
  {
   "cell_type": "code",
   "execution_count": 19,
   "id": "7efb145f-1834-4d1c-bc0a-41601488c0fc",
   "metadata": {},
   "outputs": [
    {
     "data": {
      "text/html": [],
      "text/plain": [
       "<IPython.core.display.HTML object>"
      ]
     },
     "metadata": {},
     "output_type": "display_data"
    },
    {
     "name": "stdout",
     "output_type": "stream",
     "text": [
      "--\n"
     ]
    }
   ],
   "source": [
    "\n",
    "#  Setting display options \n",
    "\n",
    "import pandas as pd\n",
    "   #\n",
    "pd.set_option(\"display.width\", 480)\n",
    "\n",
    "#  Sets horizontal scroll for wide outputs\n",
    "#\n",
    "from IPython.display import display, HTML\n",
    "display(HTML(\"\"))\n",
    "\n",
    "from tabulate import tabulate\n",
    "\n",
    "print(\"--\")\n"
   ]
  },
  {
   "cell_type": "markdown",
   "id": "d3ebe820-bc6d-4948-b668-8b81cd3cbf29",
   "metadata": {
    "tags": []
   },
   "source": [
    "#  Setup stuff: Connectivity"
   ]
  },
  {
   "cell_type": "raw",
   "id": "a771d859-3348-42c6-ad50-7897a6a674f1",
   "metadata": {},
   "source": [
    "\n",
    "#  Reminder, as I was having a lot of issues with tunneling during this time;\n",
    "#     use the command line below to check that the tunnel is still (up)\n",
    "#\n",
    "      curl --location --request GET \"http://localhost:8080/v2/version\"; echo \"\"\n"
   ]
  },
  {
   "cell_type": "code",
   "execution_count": 20,
   "id": "1ea957d6-30c6-427a-ae4e-15ecfba0c4f9",
   "metadata": {},
   "outputs": [
    {
     "name": "stdout",
     "output_type": "stream",
     "text": [
      "<katana_enterprise.remote.sync_wrappers.Client object at 0x7f76687f6d30>\n"
     ]
    }
   ],
   "source": [
    "\n",
    "from katana import remote\n",
    "from katana.remote import import_data\n",
    "\n",
    "my_client = remote.Client()\n",
    "\n",
    "print(my_client)\n"
   ]
  },
  {
   "cell_type": "code",
   "execution_count": 21,
   "id": "97571016-7c02-4e90-a75a-136a0dacd35f",
   "metadata": {},
   "outputs": [
    {
     "name": "stdout",
     "output_type": "stream",
     "text": [
      "--\n"
     ]
    }
   ],
   "source": [
    "\n",
    "NUM_PARTITIONS  = 3\n",
    "   #\n",
    "DB_NAME         = \"my_db\"\n",
    "GRAPH_NAME      = \"my_graph\"\n",
    "\n",
    "print(\"--\")\n"
   ]
  },
  {
   "cell_type": "code",
   "execution_count": 22,
   "id": "8ed2d715-aaeb-4381-9216-46fa0dd421b6",
   "metadata": {},
   "outputs": [
    {
     "name": "stdout",
     "output_type": "stream",
     "text": [
      "--\n"
     ]
    }
   ],
   "source": [
    "\n",
    "#  DELETE ALL GRAPHS\n",
    "\n",
    "for l_database in my_client.databases():\n",
    "   for l_graph in my_client.get_database(name=l_database.name).graphs_in_database():\n",
    "      l_handle=my_client.get_database(name=l_database.name).get_graph_by_id(id=l_graph.graph_id)\n",
    "      l_handle.delete()\n",
    "\n",
    "for l_graph in my_client.graphs():\n",
    "   print(\"GRAPH ID: \", l_graph.graph_id, \"      GRAPH Version: \", l_graph.version)\n",
    "\n",
    "print(\"--\")\n"
   ]
  },
  {
   "cell_type": "code",
   "execution_count": null,
   "id": "cf9c16ec-913f-46a8-bccc-76fc92c54866",
   "metadata": {},
   "outputs": [],
   "source": [
    "\n",
    "#  DELETE ALL DATABASES\n",
    "\n",
    "for l_database in my_client.databases():\n",
    "   if (l_database.name != \"default\"):\n",
    "      my_client.get_database(name=l_database.name).delete_database()\n",
    "      print(\"--\")\n",
    "\n",
    "for l_database in my_client.databases():\n",
    "   print(\"DB ID: \", l_database.database_id, \"     DB Name: \", l_database.name)\n"
   ]
  },
  {
   "cell_type": "code",
   "execution_count": null,
   "id": "6e72729c-265b-40e4-a3ee-674b793bed81",
   "metadata": {},
   "outputs": [],
   "source": [
    "\n",
    "#  CREATE DATABASE\n",
    "\n",
    "my_database = my_client.create_database(name=DB_NAME)\n",
    "\n",
    "print(my_database.database_id)\n"
   ]
  },
  {
   "cell_type": "code",
   "execution_count": 23,
   "id": "2fc31da4-44c3-4bd3-b160-b315766dcd88",
   "metadata": {},
   "outputs": [
    {
     "name": "stdout",
     "output_type": "stream",
     "text": [
      "<_Graph my_graph, 6sVgBdaZzpAVZ9s9qjV7HXbMhCWE2Awg7bVxFQAQ7UQh, 0>\n"
     ]
    }
   ],
   "source": [
    "\n",
    "#  CREATE GRAPH\n",
    "\n",
    "my_graph = my_client.get_database(name=DB_NAME).create_graph(name=GRAPH_NAME, num_partitions=3) \n",
    "\n",
    "print(my_graph)\n"
   ]
  },
  {
   "cell_type": "code",
   "execution_count": null,
   "id": "c5db6505-7fc8-4779-b194-9ed8945b9a90",
   "metadata": {},
   "outputs": [],
   "source": [
    "\n",
    "#  CONNECT TO GRAPH\n",
    "\n",
    "my_graph, *_ = my_client.get_database(name=DB_NAME).find_graphs_by_name(GRAPH_NAME)\n",
    "\n",
    "print(my_graph)\n"
   ]
  },
  {
   "cell_type": "markdown",
   "id": "61556ce5-9044-42bc-bb13-80b6a514ae27",
   "metadata": {
    "tags": []
   },
   "source": [
    "# Create: Vertices/nodes, edges/relationships "
   ]
  },
  {
   "cell_type": "code",
   "execution_count": null,
   "id": "f7efb47b-3c7d-45f3-acc8-ae29c3e2a1bf",
   "metadata": {},
   "outputs": [],
   "source": [
    "# import pandas as pd\n",
    "# \n",
    "# print(\"--\")\n"
   ]
  },
  {
   "cell_type": "code",
   "execution_count": 29,
   "id": "8e7ecf31-d69e-4b5a-8a37-0cfb4c32fd33",
   "metadata": {},
   "outputs": [
    {
     "name": "stdout",
     "output_type": "stream",
     "text": [
      "+----+---------------------+---------+---------+---------+\n",
      "|    | person_code         | fname   | lname   | LABEL   |\n",
      "|----+---------------------+---------+---------+---------|\n",
      "|  0 | 1111-1111-1111-1111 | Justin  | Fine    | Person  |\n",
      "|  1 | 2222-2222-2222-2222 | Thomas  | Cook    | Person  |\n",
      "|  2 | 3333-3333-3333-3333 | Sameer  | Iyengar | Person  |\n",
      "|  3 | 4444-4444-4444-4444 | Brian   | Spencer | Person  |\n",
      "+----+---------------------+---------+---------+---------+\n"
     ]
    }
   ],
   "source": [
    "\n",
    "#  Vertices/Nodes, Persons ..\n",
    "\n",
    "df_persons = pd.DataFrame([\n",
    "       #\n",
    "   [\"1111-1111-1111-1111\", \"Justin\"       , \"Fine\"        , \"Person\"],\n",
    "   [\"2222-2222-2222-2222\", \"Thomas\"       , \"Cook\"        , \"Person\"],\n",
    "   [\"3333-3333-3333-3333\", \"Sameer\"       , \"Iyengar\"     , \"Person\"],\n",
    "   [\"4444-4444-4444-4444\", \"Brian\"        , \"Spencer\"     , \"Person\"],\n",
    "       #\n",
    "   ], columns = [\"person_code\", \"fname\", \"lname\", \"LABEL\"])                         #  This used to work\n",
    "   #  ], columns = [\"id\", \"fname\", \"lname\", \"LABEL\"])\n",
    "\n",
    "print(tabulate(df_persons, headers='keys', tablefmt='psql'))\n"
   ]
  },
  {
   "cell_type": "code",
   "execution_count": 30,
   "id": "c9649ab8-a94f-48aa-97de-bec7ae4e091d",
   "metadata": {},
   "outputs": [
    {
     "name": "stdout",
     "output_type": "stream",
     "text": [
      "+----+--------------+---------------+---------+\n",
      "|    |   store_code | store_name    | LABEL   |\n",
      "|----+--------------+---------------+---------|\n",
      "|  0 |          101 | Panera        | Store   |\n",
      "|  1 |          102 | Target        | Store   |\n",
      "|  2 |          103 | Lowes         | Store   |\n",
      "|  3 |          104 | Volvo Service | Store   |\n",
      "|  4 |          105 | JC Penney     | Store   |\n",
      "|  5 |          106 | Torchys Tacos | Store   |\n",
      "+----+--------------+---------------+---------+\n"
     ]
    }
   ],
   "source": [
    "\n",
    "#  Vertices/Nodes, Stores ..\n",
    "\n",
    "df_stores = pd.DataFrame([\n",
    "       #\n",
    "   [101, \"Panera\"        , \"Store\"],\n",
    "   [102, \"Target\"        , \"Store\"],\n",
    "   [103, \"Lowes\"         , \"Store\"],\n",
    "   [104, \"Volvo Service\" , \"Store\"],\n",
    "   [105, \"JC Penney\"     , \"Store\"],\n",
    "   [106, \"Torchys Tacos\" , \"Store\"],\n",
    "       #\n",
    "   ], columns = [\"store_code\", \"store_name\", \"LABEL\"])\n",
    "   #  ], columns = [\"id\", \"store_name\", \"LABEL\"])\n",
    "\n",
    "print(tabulate(df_stores, headers='keys', tablefmt='psql'))\n"
   ]
  },
  {
   "cell_type": "code",
   "execution_count": 26,
   "id": "60eaac88-4dd5-47d3-94b3-0f5fd0b243f2",
   "metadata": {},
   "outputs": [
    {
     "name": "stdout",
     "output_type": "stream",
     "text": [
      "+----+---------------------+----------+----------+------------------+-----------------+---------------+\n",
      "|    | START_ID            |   END_ID |   AMOUNT | DATE_AS_STRING   |   IS_FRAUDULENT | TYPE          |\n",
      "|----+---------------------+----------+----------+------------------+-----------------+---------------|\n",
      "|  0 | 1111-1111-1111-1111 |      101 |       40 | 2022-04-01       |               0 | MADE_PURCHASE |\n",
      "|  1 | 1111-1111-1111-1111 |      105 |       50 | 2022-04-02       |               0 | MADE_PURCHASE |\n",
      "|  2 | 1111-1111-1111-1111 |      106 |       60 | 2022-04-03       |               1 | MADE_PURCHASE |\n",
      "|  3 | 1111-1111-1111-1111 |      102 |       70 | 2022-04-10       |               0 | MADE_PURCHASE |\n",
      "|  4 | 1111-1111-1111-1111 |      106 |       60 | 2022-04-14       |               1 | MADE_PURCHASE |\n",
      "|  5 | 2222-2222-2222-2222 |      103 |       40 | 2022-04-01       |               0 | MADE_PURCHASE |\n",
      "|  6 | 2222-2222-2222-2222 |      104 |       50 | 2022-04-02       |               0 | MADE_PURCHASE |\n",
      "|  7 | 2222-2222-2222-2222 |      105 |       60 | 2022-04-03       |               0 | MADE_PURCHASE |\n",
      "|  8 | 2222-2222-2222-2222 |      101 |       70 | 2022-04-06       |               1 | MADE_PURCHASE |\n",
      "|  9 | 2222-2222-2222-2222 |      102 |       80 | 2022-04-10       |               0 | MADE_PURCHASE |\n",
      "| 10 | 3333-3333-3333-3333 |      105 |       50 | 2022-04-05       |               0 | MADE_PURCHASE |\n",
      "| 11 | 3333-3333-3333-3333 |      102 |       60 | 2022-04-09       |               1 | MADE_PURCHASE |\n",
      "| 12 | 3333-3333-3333-3333 |      102 |       70 | 2022-04-10       |               0 | MADE_PURCHASE |\n",
      "| 13 | 4444-4444-4444-4444 |      102 |       40 | 2022-04-07       |               0 | MADE_PURCHASE |\n",
      "| 14 | 4444-4444-4444-4444 |      103 |       50 | 2022-04-08       |               0 | MADE_PURCHASE |\n",
      "+----+---------------------+----------+----------+------------------+-----------------+---------------+\n"
     ]
    }
   ],
   "source": [
    "\n",
    "#  Create the edge, MADE_PURCHASE ..\n",
    "\n",
    "df_purchases = pd.DataFrame([\n",
    "      #\n",
    "   [\"1111-1111-1111-1111\", 101,   40.00, \"2022-04-01\", 0, \"MADE_PURCHASE\" ],\n",
    "   [\"1111-1111-1111-1111\", 105,   50.00, \"2022-04-02\", 0, \"MADE_PURCHASE\" ],\n",
    "   [\"1111-1111-1111-1111\", 106,   60.00, \"2022-04-03\", 1, \"MADE_PURCHASE\" ],\n",
    "   [\"1111-1111-1111-1111\", 102,   70.00, \"2022-04-10\", 0, \"MADE_PURCHASE\" ],\n",
    "   [\"1111-1111-1111-1111\", 106,   60.00, \"2022-04-14\", 1, \"MADE_PURCHASE\" ],\n",
    "      #\n",
    "   [\"2222-2222-2222-2222\", 103,   40.00, \"2022-04-01\", 0, \"MADE_PURCHASE\" ],\n",
    "   [\"2222-2222-2222-2222\", 104,   50.00, \"2022-04-02\", 0, \"MADE_PURCHASE\" ],\n",
    "   [\"2222-2222-2222-2222\", 105,   60.00, \"2022-04-03\", 0, \"MADE_PURCHASE\" ],\n",
    "   [\"2222-2222-2222-2222\", 101,   70.00, \"2022-04-06\", 1, \"MADE_PURCHASE\" ],\n",
    "   [\"2222-2222-2222-2222\", 102,   80.00, \"2022-04-10\", 0, \"MADE_PURCHASE\" ],\n",
    "      #\n",
    "   [\"3333-3333-3333-3333\", 105,   50.00, \"2022-04-05\", 0, \"MADE_PURCHASE\" ],\n",
    "   [\"3333-3333-3333-3333\", 102,   60.00, \"2022-04-09\", 1, \"MADE_PURCHASE\" ],\n",
    "   [\"3333-3333-3333-3333\", 102,   70.00, \"2022-04-10\", 0, \"MADE_PURCHASE\" ],\n",
    "      #\n",
    "   [\"4444-4444-4444-4444\", 102,   40.00, \"2022-04-07\", 0, \"MADE_PURCHASE\" ],\n",
    "   [\"4444-4444-4444-4444\", 103,   50.00, \"2022-04-08\", 0, \"MADE_PURCHASE\" ],\n",
    "      #\n",
    "   ], columns = [\"START_ID\", \"END_ID\", \"AMOUNT\", \"DATE_AS_STRING\", \"IS_FRAUDULENT\", \"TYPE\"])\n",
    "\n",
    "print(tabulate(df_purchases, headers='keys', tablefmt='psql'))\n"
   ]
  },
  {
   "cell_type": "code",
   "execution_count": null,
   "id": "3a08236c-2d8d-43e7-8db1-c5eefb208d26",
   "metadata": {},
   "outputs": [],
   "source": [
    "# ##################################################################"
   ]
  },
  {
   "cell_type": "code",
   "execution_count": 27,
   "id": "d08b9305-4278-4963-99e7-4f4b765ea1fb",
   "metadata": {},
   "outputs": [
    {
     "name": "stdout",
     "output_type": "stream",
     "text": [
      "3\n"
     ]
    }
   ],
   "source": [
    "#  Even though this graph was made with 3 partitions, and even though certain operations\n",
    "#  require at least 3 partitions else they fail, you may still see num_partitions = None\n",
    "#  which can happen on really small graphs, and produce unexpected results below.\n",
    "\n",
    "print(my_graph.num_partitions)"
   ]
  },
  {
   "cell_type": "code",
   "execution_count": null,
   "id": "ead00877-924c-4e2a-8a39-86fbf34c17a3",
   "metadata": {},
   "outputs": [],
   "source": [
    "my_graph.repartition(num_partitions = 3)\n",
    "\n",
    "print(\"--\")"
   ]
  },
  {
   "cell_type": "code",
   "execution_count": null,
   "id": "9127cfa8-171a-4f33-a9b3-9dfca6767f41",
   "metadata": {},
   "outputs": [],
   "source": [
    "# ##################################################################"
   ]
  },
  {
   "cell_type": "code",
   "execution_count": 31,
   "id": "5086ac96-21d1-4746-80db-7061d52070cc",
   "metadata": {},
   "outputs": [
    {
     "ename": "ValueError",
     "evalue": "Node id column name must be consistent",
     "output_type": "error",
     "traceback": [
      "\u001b[0;31m---------------------------------------------------------------------------\u001b[0m",
      "\u001b[0;31mValueError\u001b[0m                                Traceback (most recent call last)",
      "Cell \u001b[0;32mIn [31], line 12\u001b[0m\n\u001b[1;32m      3\u001b[0m \u001b[38;5;28;01mwith\u001b[39;00m import_data\u001b[38;5;241m.\u001b[39mDataFrameImporter(my_graph) \u001b[38;5;28;01mas\u001b[39;00m df_importer:   \n\u001b[1;32m      5\u001b[0m    df_importer\u001b[38;5;241m.\u001b[39mnodes_dataframe(df_persons,                     \u001b[38;5;66;03m#  Person set of Nodes\u001b[39;00m\n\u001b[1;32m      6\u001b[0m       id_column             \u001b[38;5;241m=\u001b[39m \u001b[38;5;124m\"\u001b[39m\u001b[38;5;124mperson_code\u001b[39m\u001b[38;5;124m\"\u001b[39m,\n\u001b[1;32m      7\u001b[0m       \u001b[38;5;66;03m#  id_column             = \"id\",\u001b[39;00m\n\u001b[1;32m      8\u001b[0m       id_space              \u001b[38;5;241m=\u001b[39m \u001b[38;5;124m\"\u001b[39m\u001b[38;5;124mPerson\u001b[39m\u001b[38;5;124m\"\u001b[39m,  \n\u001b[1;32m      9\u001b[0m       label                 \u001b[38;5;241m=\u001b[39m \u001b[38;5;124m\"\u001b[39m\u001b[38;5;124mPerson\u001b[39m\u001b[38;5;124m\"\u001b[39m,  \n\u001b[1;32m     10\u001b[0m       )\n\u001b[0;32m---> 12\u001b[0m    \u001b[43mdf_importer\u001b[49m\u001b[38;5;241;43m.\u001b[39;49m\u001b[43mnodes_dataframe\u001b[49m\u001b[43m(\u001b[49m\u001b[43mdf_stores\u001b[49m\u001b[43m,\u001b[49m\u001b[43m                      \u001b[49m\u001b[38;5;66;43;03m#  Store set of Nodes\u001b[39;49;00m\n\u001b[1;32m     13\u001b[0m \u001b[43m      \u001b[49m\u001b[43mid_column\u001b[49m\u001b[43m             \u001b[49m\u001b[38;5;241;43m=\u001b[39;49m\u001b[43m \u001b[49m\u001b[38;5;124;43m\"\u001b[39;49m\u001b[38;5;124;43mstore_code\u001b[39;49m\u001b[38;5;124;43m\"\u001b[39;49m\u001b[43m,\u001b[49m\n\u001b[1;32m     14\u001b[0m \u001b[43m      \u001b[49m\u001b[38;5;66;43;03m#  id_column             = \"id\",\u001b[39;49;00m\n\u001b[1;32m     15\u001b[0m \u001b[43m      \u001b[49m\u001b[43mid_space\u001b[49m\u001b[43m              \u001b[49m\u001b[38;5;241;43m=\u001b[39;49m\u001b[43m \u001b[49m\u001b[38;5;124;43m\"\u001b[39;49m\u001b[38;5;124;43mStore\u001b[39;49m\u001b[38;5;124;43m\"\u001b[39;49m\u001b[43m,\u001b[49m\u001b[43m \u001b[49m\n\u001b[1;32m     16\u001b[0m \u001b[43m      \u001b[49m\u001b[43mlabel\u001b[49m\u001b[43m                 \u001b[49m\u001b[38;5;241;43m=\u001b[39;49m\u001b[43m \u001b[49m\u001b[38;5;124;43m\"\u001b[39;49m\u001b[38;5;124;43mStore\u001b[39;49m\u001b[38;5;124;43m\"\u001b[39;49m\u001b[43m,\u001b[49m\u001b[43m \u001b[49m\n\u001b[1;32m     17\u001b[0m \u001b[43m      \u001b[49m\u001b[43m)\u001b[49m\n\u001b[1;32m     19\u001b[0m    df_importer\u001b[38;5;241m.\u001b[39medges_dataframe(df_purchases,                   \u001b[38;5;66;03m#  Our Edge, specifying the relationship between Person --> MADE_PURCHASE --> Store\u001b[39;00m\n\u001b[1;32m     20\u001b[0m       source_id_space       \u001b[38;5;241m=\u001b[39m \u001b[38;5;124m\"\u001b[39m\u001b[38;5;124mPerson\u001b[39m\u001b[38;5;124m\"\u001b[39m, \n\u001b[1;32m     21\u001b[0m       destination_id_space  \u001b[38;5;241m=\u001b[39m \u001b[38;5;124m\"\u001b[39m\u001b[38;5;124mStore\u001b[39m\u001b[38;5;124m\"\u001b[39m,   \n\u001b[0;32m   (...)\u001b[0m\n\u001b[1;32m     24\u001b[0m       \u001b[38;5;28mtype\u001b[39m                  \u001b[38;5;241m=\u001b[39m \u001b[38;5;124m\"\u001b[39m\u001b[38;5;124mMADE_PURCHASE\u001b[39m\u001b[38;5;124m\"\u001b[39m\n\u001b[1;32m     25\u001b[0m       )\n\u001b[1;32m     27\u001b[0m    df_importer\u001b[38;5;241m.\u001b[39minsert()\n",
      "File \u001b[0;32m/opt/conda/lib/python3.8/site-packages/katana_enterprise/remote/dataframe_importer/__init__.py:278\u001b[0m, in \u001b[0;36mDataFrameImporter.nodes_dataframe\u001b[0;34m(self, dataframe, id_column, id_space, property_columns, label_column, label, order_column)\u001b[0m\n\u001b[1;32m    274\u001b[0m     \u001b[38;5;28mself\u001b[39m\u001b[38;5;241m.\u001b[39m_node_info\u001b[38;5;241m.\u001b[39morder_column \u001b[38;5;241m=\u001b[39m \u001b[38;5;28mself\u001b[39m\u001b[38;5;241m.\u001b[39m_get_safe_col_name(dataframe, \u001b[38;5;124m\"\u001b[39m\u001b[38;5;124morder_column\u001b[39m\u001b[38;5;124m\"\u001b[39m, order_column)\n\u001b[1;32m    276\u001b[0m node_id_name \u001b[38;5;241m=\u001b[39m \u001b[38;5;28mself\u001b[39m\u001b[38;5;241m.\u001b[39m_get_safe_col_name(dataframe, \u001b[38;5;124m\"\u001b[39m\u001b[38;5;124mid_column\u001b[39m\u001b[38;5;124m\"\u001b[39m, id_column)\n\u001b[0;32m--> 278\u001b[0m \u001b[38;5;28;43mself\u001b[39;49m\u001b[38;5;241;43m.\u001b[39;49m\u001b[43mnode_id_property_name\u001b[49m\u001b[43m(\u001b[49m\u001b[43mnode_id_name\u001b[49m\u001b[43m)\u001b[49m\n\u001b[1;32m    280\u001b[0m \u001b[38;5;66;03m# Map the column_name -> schema mapped formatted string\u001b[39;00m\n\u001b[1;32m    281\u001b[0m col_to_schema_mapping \u001b[38;5;241m=\u001b[39m {}\n",
      "File \u001b[0;32m/opt/conda/lib/python3.8/site-packages/katana_enterprise/remote/dataframe_importer/__init__.py:304\u001b[0m, in \u001b[0;36mDataFrameImporter.node_id_property_name\u001b[0;34m(self, name)\u001b[0m\n\u001b[1;32m    296\u001b[0m \u001b[38;5;28;01mdef\u001b[39;00m \u001b[38;5;21mnode_id_property_name\u001b[39m(\u001b[38;5;28mself\u001b[39m, name: \u001b[38;5;28mstr\u001b[39m):\n\u001b[1;32m    297\u001b[0m     \u001b[38;5;124;03m\"\"\"\u001b[39;00m\n\u001b[1;32m    298\u001b[0m \u001b[38;5;124;03m    Set the name of the property to use for node ids explicitly.\u001b[39;00m\n\u001b[1;32m    299\u001b[0m \n\u001b[0;32m   (...)\u001b[0m\n\u001b[1;32m    302\u001b[0m \u001b[38;5;124;03m    the id property name.\u001b[39;00m\n\u001b[1;32m    303\u001b[0m \u001b[38;5;124;03m    \"\"\"\u001b[39;00m\n\u001b[0;32m--> 304\u001b[0m     \u001b[38;5;28;43mself\u001b[39;49m\u001b[38;5;241;43m.\u001b[39;49m\u001b[43m_node_info\u001b[49m\u001b[38;5;241;43m.\u001b[39;49m\u001b[43mid_column\u001b[49m \u001b[38;5;241m=\u001b[39m name\n",
      "File \u001b[0;32m/opt/conda/lib/python3.8/site-packages/katana_enterprise/remote/dataframe_importer/__init__.py:62\u001b[0m, in \u001b[0;36mDataFrameImporter.NodeGlobalInfo.id_column\u001b[0;34m(self, column_name)\u001b[0m\n\u001b[1;32m     60\u001b[0m \u001b[38;5;129m@id_column\u001b[39m\u001b[38;5;241m.\u001b[39msetter\n\u001b[1;32m     61\u001b[0m \u001b[38;5;28;01mdef\u001b[39;00m \u001b[38;5;21mid_column\u001b[39m(\u001b[38;5;28mself\u001b[39m, column_name: \u001b[38;5;28mstr\u001b[39m):\n\u001b[0;32m---> 62\u001b[0m     \u001b[43mDataFrameImporter\u001b[49m\u001b[38;5;241;43m.\u001b[39;49m\u001b[43m_ensure_column_name_consistent\u001b[49m\u001b[43m(\u001b[49m\u001b[38;5;28;43mself\u001b[39;49m\u001b[38;5;241;43m.\u001b[39;49m\u001b[43m_id_column\u001b[49m\u001b[43m,\u001b[49m\u001b[43m \u001b[49m\u001b[43mcolumn_name\u001b[49m\u001b[43m,\u001b[49m\u001b[43m \u001b[49m\u001b[38;5;124;43m\"\u001b[39;49m\u001b[38;5;124;43mNode id\u001b[39;49m\u001b[38;5;124;43m\"\u001b[39;49m\u001b[43m)\u001b[49m\n\u001b[1;32m     63\u001b[0m     \u001b[38;5;28mself\u001b[39m\u001b[38;5;241m.\u001b[39m_id_column \u001b[38;5;241m=\u001b[39m column_name\n",
      "File \u001b[0;32m/opt/conda/lib/python3.8/site-packages/katana_enterprise/remote/dataframe_importer/__init__.py:40\u001b[0m, in \u001b[0;36mDataFrameImporter._ensure_column_name_consistent\u001b[0;34m(orig, replacement, msg)\u001b[0m\n\u001b[1;32m     37\u001b[0m     \u001b[38;5;28;01mraise\u001b[39;00m \u001b[38;5;167;01mValueError\u001b[39;00m(\u001b[38;5;124mf\u001b[39m\u001b[38;5;124m\"\u001b[39m\u001b[38;5;132;01m{\u001b[39;00mmsg\u001b[38;5;132;01m}\u001b[39;00m\u001b[38;5;124m column name cannot be empty\u001b[39m\u001b[38;5;124m\"\u001b[39m)\n\u001b[1;32m     39\u001b[0m \u001b[38;5;28;01mif\u001b[39;00m orig \u001b[38;5;129;01mand\u001b[39;00m orig \u001b[38;5;241m!=\u001b[39m replacement:\n\u001b[0;32m---> 40\u001b[0m     \u001b[38;5;28;01mraise\u001b[39;00m \u001b[38;5;167;01mValueError\u001b[39;00m(\u001b[38;5;124mf\u001b[39m\u001b[38;5;124m\"\u001b[39m\u001b[38;5;132;01m{\u001b[39;00mmsg\u001b[38;5;132;01m}\u001b[39;00m\u001b[38;5;124m column name must be consistent\u001b[39m\u001b[38;5;124m\"\u001b[39m)\n",
      "\u001b[0;31mValueError\u001b[0m: Node id column name must be consistent"
     ]
    }
   ],
   "source": [
    "\n",
    "# Import the 3 previously created Python DataFrames into KatanaGraph\n",
    "#\n",
    "#     Error,  ValueError: Node id column name must be consistent\n",
    "#\n",
    "\n",
    "with import_data.DataFrameImporter(my_graph) as df_importer:   \n",
    "    \n",
    "   df_importer.nodes_dataframe(df_persons,                     #  Person set of Nodes\n",
    "      id_column             = \"person_code\",\n",
    "      #  id_column             = \"id\",\n",
    "      id_space              = \"Person\",  \n",
    "      label                 = \"Person\",  \n",
    "      )\n",
    "    \n",
    "   df_importer.nodes_dataframe(df_stores,                      #  Store set of Nodes\n",
    "      id_column             = \"store_code\",\n",
    "      #  id_column             = \"id\",\n",
    "      id_space              = \"Store\", \n",
    "      label                 = \"Store\", \n",
    "      )\n",
    "   \n",
    "   df_importer.edges_dataframe(df_purchases,                   #  Our Edge, specifying the relationship between Person --> MADE_PURCHASE --> Store\n",
    "      source_id_space       = \"Person\", \n",
    "      destination_id_space  = \"Store\",   \n",
    "      source_column         = \"START_ID\",\n",
    "      destination_column    = \"END_ID\",\n",
    "      type                  = \"MADE_PURCHASE\"\n",
    "      )\n",
    " \n",
    "   df_importer.insert()\n",
    "\n",
    "print(\"--\")\n"
   ]
  },
  {
   "cell_type": "code",
   "execution_count": null,
   "id": "5c7a23a1-170b-4f2c-b9ab-9b750f1ee3f3",
   "metadata": {},
   "outputs": [],
   "source": [
    "# ##################################################################"
   ]
  },
  {
   "cell_type": "code",
   "execution_count": null,
   "id": "6160bd57-15aa-4ff0-9269-9431e6f7dd2b",
   "metadata": {},
   "outputs": [],
   "source": [
    "#  View the graph; verify results\n",
    "\n",
    "l_result = my_graph.query(\"\"\"\n",
    "\n",
    "   MATCH (n) - [r] -> (m)\n",
    "   RETURN n, r, m\n",
    "   \n",
    "   \"\"\", contextualize=True)\n",
    "\n",
    "l_result.view()\n"
   ]
  },
  {
   "cell_type": "code",
   "execution_count": null,
   "id": "e55e66f9-5913-423a-9923-11b792985c51",
   "metadata": {},
   "outputs": [],
   "source": [
    "#  View the graph; verify results\n",
    "\n",
    "l_result = my_graph.query(\"\"\"\n",
    "\n",
    "   MATCH (n: Person)\n",
    "   RETURN n\n",
    "   \n",
    "   \"\"\", contextualize=False)\n",
    "\n",
    "print(tabulate(l_result, headers='keys', tablefmt='psql'))\n"
   ]
  },
  {
   "cell_type": "code",
   "execution_count": null,
   "id": "b88f0a13-771c-456f-8d92-2115c3089d93",
   "metadata": {},
   "outputs": [],
   "source": [
    "#  View the graph; verify results\n",
    "\n",
    "l_result = my_graph.query(\"\"\"\n",
    "\n",
    "   MATCH (n) - [r] -> (m)\n",
    "   RETURN r\n",
    "   \n",
    "   \"\"\", contextualize=False)\n",
    "\n",
    "print(tabulate(l_result, headers='keys', tablefmt='psql'))\n"
   ]
  }
 ],
 "metadata": {
  "kernelspec": {
   "display_name": "Python 3 (ipykernel)",
   "language": "python",
   "name": "python3"
  },
  "language_info": {
   "codemirror_mode": {
    "name": "ipython",
    "version": 3
   },
   "file_extension": ".py",
   "mimetype": "text/x-python",
   "name": "python",
   "nbconvert_exporter": "python",
   "pygments_lexer": "ipython3",
   "version": "3.8.13"
  }
 },
 "nbformat": 4,
 "nbformat_minor": 5
}
