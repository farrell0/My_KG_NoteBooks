{
 "cells": [
  {
   "cell_type": "code",
   "execution_count": null,
   "id": "71daaf1f-efc8-470f-9fa9-6e278b4018cb",
   "metadata": {},
   "outputs": [],
   "source": [
    "\n",
    "#  This file demonstrates,\n",
    "#\n",
    "#     .  A better approach to json.loads()\n",
    "#        Look for: import ast\n",
    "#\n",
    "#     .  Manual Cypher CREATE loops\n",
    "#\n"
   ]
  },
  {
   "cell_type": "markdown",
   "id": "d73e5a84-65ef-45bc-b0e4-2de3b28f6441",
   "metadata": {},
   "source": [
    "#  Setup stuff: Connectivity"
   ]
  },
  {
   "cell_type": "code",
   "execution_count": 1,
   "id": "e4e24b74-89d3-431f-9211-fb476862852c",
   "metadata": {},
   "outputs": [
    {
     "name": "stdout",
     "output_type": "stream",
     "text": [
      "<katana_enterprise.remote.sync_wrappers.Client object at 0x7f2c797e6e20>\n"
     ]
    }
   ],
   "source": [
    "\n",
    "from katana import remote\n",
    "from katana.remote import import_data\n",
    "\n",
    "my_client = remote.Client()\n",
    "\n",
    "print(my_client)\n"
   ]
  },
  {
   "cell_type": "code",
   "execution_count": 2,
   "id": "9715c6f6-137c-429e-8c17-7a1d538c543f",
   "metadata": {},
   "outputs": [
    {
     "name": "stdout",
     "output_type": "stream",
     "text": [
      "--\n"
     ]
    }
   ],
   "source": [
    "\n",
    "NUM_PARTITIONS  = 3\n",
    "   #\n",
    "DB_NAME         = \"my_db\"\n",
    "GRAPH_NAME      = \"my_graph\"\n",
    "\n",
    "print(\"--\")\n"
   ]
  },
  {
   "cell_type": "code",
   "execution_count": 3,
   "id": "c38c4f0c-9431-4802-946c-d1ebc0136972",
   "metadata": {},
   "outputs": [
    {
     "name": "stdout",
     "output_type": "stream",
     "text": [
      "--\n"
     ]
    }
   ],
   "source": [
    "\n",
    "#  DELETE ALL GRAPHS\n",
    "\n",
    "for l_database in my_client.databases():\n",
    "   for l_graph in my_client.get_database(name=l_database.name).graphs_in_database():\n",
    "      l_handle=my_client.get_database(name=l_database.name).get_graph_by_id(id=l_graph.graph_id)\n",
    "      l_handle.delete()\n",
    "\n",
    "for l_graph in my_client.graphs():\n",
    "   print(\"GRAPH ID: \", l_graph.graph_id, \"      GRAPH Version: \", l_graph.version)\n",
    "\n",
    "print(\"--\")\n"
   ]
  },
  {
   "cell_type": "code",
   "execution_count": null,
   "id": "99c7e24c-b039-4b69-8f52-5db15a26a28e",
   "metadata": {},
   "outputs": [],
   "source": [
    "\n",
    "#  DELETE ALL DATABASES\n",
    "\n",
    "for l_database in my_client.databases():\n",
    "   if (l_database.name != \"default\"):\n",
    "      my_client.get_database(name=l_database.name).delete_database()\n",
    "      print(\"--\")\n",
    "\n",
    "for l_database in my_client.databases():\n",
    "   print(\"DB ID: \", l_database.database_id, \"     DB Name: \", l_database.name)\n"
   ]
  },
  {
   "cell_type": "code",
   "execution_count": null,
   "id": "5e171876-c999-4711-aa8a-877698e947e2",
   "metadata": {},
   "outputs": [],
   "source": [
    "\n",
    "#  CREATE DATABASE\n",
    "\n",
    "my_database = my_client.create_database(name=DB_NAME)\n",
    "\n",
    "print(my_database.database_id)\n"
   ]
  },
  {
   "cell_type": "code",
   "execution_count": 4,
   "id": "ba10f3c5-4f74-4523-be06-5370ed273138",
   "metadata": {},
   "outputs": [
    {
     "name": "stdout",
     "output_type": "stream",
     "text": [
      "<_Graph my_graph, 9vF4dnQAtR6wxKqoRo6ijDqmz5ZkAFfEbqaEN2S3Bdok, 0>\n"
     ]
    }
   ],
   "source": [
    "\n",
    "#  CREATE GRAPH\n",
    "\n",
    "my_graph = my_client.get_database(name=DB_NAME).create_graph(name=GRAPH_NAME, num_partitions=NUM_PARTITIONS)\n",
    "\n",
    "print(my_graph)\n"
   ]
  },
  {
   "cell_type": "code",
   "execution_count": null,
   "id": "a9ca0967-8d5c-4cc5-bb04-c244cf887b61",
   "metadata": {},
   "outputs": [],
   "source": [
    "\n",
    "#  CONNECT TO GRAPH\n",
    "\n",
    "my_graph, *_ = my_client.get_database(name=DB_NAME).find_graphs_by_name(GRAPH_NAME)\n",
    "\n",
    "print(my_graph)\n"
   ]
  },
  {
   "cell_type": "code",
   "execution_count": null,
   "id": "19027cb8-5793-45e1-a316-fcbc0bf2bd4a",
   "metadata": {},
   "outputs": [],
   "source": [
    "\n",
    "display(my_graph.num_nodes())\n",
    "display(my_graph.num_edges())\n"
   ]
  },
  {
   "cell_type": "markdown",
   "id": "56f72cd2-5b67-4807-a453-230f3799e559",
   "metadata": {},
   "source": [
    "#  Group: 01"
   ]
  },
  {
   "cell_type": "code",
   "execution_count": 5,
   "id": "af64cf70-8893-40a5-a84f-48f7f366720a",
   "metadata": {},
   "outputs": [
    {
     "name": "stdout",
     "output_type": "stream",
     "text": [
      "--\n"
     ]
    }
   ],
   "source": [
    "\n",
    "import pandas as pd\n",
    "   #\n",
    "pd.set_option(\"display.width\", 480)\n",
    "\n",
    "print(\"--\")\n"
   ]
  },
  {
   "cell_type": "code",
   "execution_count": 6,
   "id": "6726ec52-c645-4bbe-81c4-9f19f6ae9c51",
   "metadata": {},
   "outputs": [
    {
     "data": {
      "text/html": [
       "<div>\n",
       "<style scoped>\n",
       "    .dataframe tbody tr th:only-of-type {\n",
       "        vertical-align: middle;\n",
       "    }\n",
       "\n",
       "    .dataframe tbody tr th {\n",
       "        vertical-align: top;\n",
       "    }\n",
       "\n",
       "    .dataframe thead th {\n",
       "        text-align: right;\n",
       "    }\n",
       "</style>\n",
       "<table border=\"1\" class=\"dataframe\">\n",
       "  <thead>\n",
       "    <tr style=\"text-align: right;\">\n",
       "      <th></th>\n",
       "      <th>col1</th>\n",
       "      <th>col2</th>\n",
       "      <th>col3</th>\n",
       "      <th>col4</th>\n",
       "      <th>col5</th>\n",
       "    </tr>\n",
       "  </thead>\n",
       "  <tbody>\n",
       "    <tr>\n",
       "      <th>0</th>\n",
       "      <td>101</td>\n",
       "      <td>Sameer</td>\n",
       "      <td>Katana</td>\n",
       "      <td>Bay</td>\n",
       "      <td>my_vertice</td>\n",
       "    </tr>\n",
       "    <tr>\n",
       "      <th>1</th>\n",
       "      <td>102</td>\n",
       "      <td>Justin</td>\n",
       "      <td>Katana</td>\n",
       "      <td>LA</td>\n",
       "      <td>my_vertice</td>\n",
       "    </tr>\n",
       "    <tr>\n",
       "      <th>2</th>\n",
       "      <td>103</td>\n",
       "      <td>Brian</td>\n",
       "      <td>Katana</td>\n",
       "      <td>Denver</td>\n",
       "      <td>my_vertice</td>\n",
       "    </tr>\n",
       "  </tbody>\n",
       "</table>\n",
       "</div>"
      ],
      "text/plain": [
       "   col1    col2    col3    col4        col5\n",
       "0   101  Sameer  Katana     Bay  my_vertice\n",
       "1   102  Justin  Katana      LA  my_vertice\n",
       "2   103   Brian  Katana  Denver  my_vertice"
      ]
     },
     "execution_count": 6,
     "metadata": {},
     "output_type": "execute_result"
    }
   ],
   "source": [
    "#  Simple test, write, simple data types ..\n",
    "\n",
    "df_data = pd.DataFrame([\n",
    "   [101, \"Sameer\"    , \"Katana\"                , \"Bay\"    , \"my_vertice\"],\n",
    "   [102, \"Justin\"    , \"Katana\"                , \"LA\"     , \"my_vertice\"],\n",
    "   [103, \"Brian\"     , \"Katana\"                , \"Denver\" , \"my_vertice\"],\n",
    "   ], columns = [\"col1\", \"col2\", \"col3\", \"col4\", \"col5\"])\n",
    "\n",
    "df_data.head(20)\n"
   ]
  },
  {
   "cell_type": "code",
   "execution_count": 7,
   "id": "443d0211-c9f0-4b77-945b-8c9e413b4c17",
   "metadata": {},
   "outputs": [
    {
     "data": {
      "application/vnd.jupyter.widget-view+json": {
       "model_id": "6091d2253841480b9aa8f991796c1294",
       "version_major": 2,
       "version_minor": 0
      },
      "text/plain": [
       "          0/? [?op/s]"
      ]
     },
     "metadata": {},
     "output_type": "display_data"
    },
    {
     "data": {
      "application/vnd.jupyter.widget-view+json": {
       "model_id": "0da48f6d56ab40be9fad35fcfb30f533",
       "version_major": 2,
       "version_minor": 0
      },
      "text/plain": [
       "          0/? [?op/s]"
      ]
     },
     "metadata": {},
     "output_type": "display_data"
    },
    {
     "data": {
      "application/vnd.jupyter.widget-view+json": {
       "model_id": "dd6e8d619edb4aeab6a8f0d2302d433e",
       "version_major": 2,
       "version_minor": 0
      },
      "text/plain": [
       "          0/? [?op/s]"
      ]
     },
     "metadata": {},
     "output_type": "display_data"
    },
    {
     "name": "stdout",
     "output_type": "stream",
     "text": [
      "--\n"
     ]
    }
   ],
   "source": [
    "\n",
    "for l_each in df_data.itertuples():\n",
    "    \n",
    "   l_query = \"\"\"\n",
    "\n",
    "      CREATE ( n: {4} {{ colA: {0} }} )                         //  Notice double curly braces\n",
    "      SET n.colB = '{1}', n.colC = '{2}', n.colD = '{3}'\n",
    "      \n",
    "      \"\"\".format(l_each.col1, l_each.col2, l_each.col3, l_each.col4, l_each.col5)\n",
    "         \n",
    "   l_result0 = my_graph.query(l_query)\n",
    "        \n",
    "print(\"--\")\n"
   ]
  },
  {
   "cell_type": "code",
   "execution_count": 8,
   "id": "8d21f954-a012-45f1-be1b-18a0780e602c",
   "metadata": {},
   "outputs": [
    {
     "data": {
      "application/vnd.jupyter.widget-view+json": {
       "model_id": "f1d6a26de4734e1db42322be5db435fe",
       "version_major": 2,
       "version_minor": 0
      },
      "text/plain": [
       "          0/? [?op/s]"
      ]
     },
     "metadata": {},
     "output_type": "display_data"
    },
    {
     "name": "stdout",
     "output_type": "stream",
     "text": [
      "   n.internal_id      n.labels  n.colA  n.colB  n.colC  n.colD n.type\n",
      "0              1  [my_vertice]     102  Justin  Katana      LA   node\n",
      "1              0  [my_vertice]     101  Sameer  Katana     Bay   node\n",
      "2              2  [my_vertice]     103   Brian  Katana  Denver   node\n"
     ]
    }
   ],
   "source": [
    "\n",
    "l_result = my_graph.query(\"\"\"\n",
    "\n",
    "   MATCH (n)\n",
    "   RETURN n\n",
    "   \n",
    "   \"\"\")\n",
    "\n",
    "print(l_result)\n"
   ]
  },
  {
   "cell_type": "markdown",
   "id": "8a154f1f-1037-458d-9a62-f89549cf6a36",
   "metadata": {},
   "source": [
    "#  Reset from above "
   ]
  },
  {
   "cell_type": "code",
   "execution_count": 11,
   "id": "e242ac98-302c-4757-a50a-0cd5f3966ac5",
   "metadata": {},
   "outputs": [
    {
     "name": "stdout",
     "output_type": "stream",
     "text": [
      "--\n"
     ]
    }
   ],
   "source": [
    "\n",
    "#  Reset from above, delete and recreate the graph\n",
    "\n",
    "#  DELETE GRAPH\n",
    "#\n",
    "for l_graph in my_client.get_database(name=DB_NAME).graphs_in_database():\n",
    "   if (l_graph.name == GRAPH_NAME):\n",
    "      l_handle=my_client.get_database(name=DB_NAME).get_graph_by_id(id=l_graph.graph_id)\n",
    "      l_handle.delete()\n",
    "\n",
    "print(\"--\")\n"
   ]
  },
  {
   "cell_type": "code",
   "execution_count": 12,
   "id": "07315f7e-c63b-43a3-b420-f55445df1872",
   "metadata": {},
   "outputs": [
    {
     "name": "stdout",
     "output_type": "stream",
     "text": [
      "<_Graph my_graph, EpqwGTEnhAqcFqrY59E2PMErdgzgo8hTdXGw2xtS8uLS, 0>\n"
     ]
    }
   ],
   "source": [
    "\n",
    "#  CREATE GRAPH\n",
    "#\n",
    "my_graph = my_client.get_database(name=DB_NAME).create_graph(name=GRAPH_NAME, num_partitions=NUM_PARTITIONS)\n",
    "\n",
    "print(my_graph)\n"
   ]
  },
  {
   "cell_type": "markdown",
   "id": "d69a212d-9dd6-4bcb-9fe1-c145d90800e0",
   "metadata": {},
   "source": [
    "#  Group: 02"
   ]
  },
  {
   "cell_type": "code",
   "execution_count": null,
   "id": "5acf7a95-f923-43d9-83d1-9a1b44d341ff",
   "metadata": {},
   "outputs": [],
   "source": [
    "\n",
    "#  Write the more complex dataframe ..\n",
    "\n",
    "df_data = pd.DataFrame([\n",
    "   [101, 30, {\"ab\":1, \"we\":2, \"as\":3}, \"String1\", \"my_vertice\"],\n",
    "   [102, 31, {\"ab\":4, \"we\":5, \"as\":6}, \"String2\", \"my_vertice\"],\n",
    "   [103, 32, {\"ab\":7, \"we\":8, \"as\":9}, \"String2\", \"my_vertice\"],\n",
    "   ], columns = [\"col1\", \"col2\", \"col3\", \"col4\", \"col5\"])\n",
    "\n",
    "df_data.head(20)\n"
   ]
  },
  {
   "cell_type": "code",
   "execution_count": null,
   "id": "da941d26-4e3f-4873-9016-a058acb933fb",
   "metadata": {},
   "outputs": [],
   "source": [
    "#  Prove that we can (parse) the dataframe above, versus say \"col3\" being a string ..\n",
    "\n",
    "for l_each in df_data.itertuples():\n",
    "   #  print(type(l_each.col3))                               #  <class 'dict'>\n",
    "   print(l_each.col3[\"ab\"])\n"
   ]
  },
  {
   "cell_type": "code",
   "execution_count": null,
   "id": "913dda2e-3969-44da-b5b8-ea3f9ac9e0ae",
   "metadata": {},
   "outputs": [],
   "source": [
    "\n",
    "#  import contextlib\n",
    "\n",
    "for l_each in df_data.itertuples():\n",
    "   l_query = \"\"\"\n",
    "\n",
    "      CREATE ( n: {4} {{ col1: {0} }} )                         //  Notice double curly braces\n",
    "      SET n.col2 = {1}, n.col3 = \\\"{2}\\\", n.col4 = '{3}'\n",
    "      \n",
    "      \"\"\".format(l_each.col1, l_each.col2, l_each.col3, l_each.col4, l_each.col5)\n",
    "         \n",
    "   l_result0 = my_graph.query(l_query)\n",
    "        \n",
    "print(\"--\")\n"
   ]
  },
  {
   "cell_type": "code",
   "execution_count": null,
   "id": "c60fc7df-ad0f-45cc-8dc0-a551d7426bc2",
   "metadata": {},
   "outputs": [],
   "source": [
    "\n",
    "l_result = my_graph.query(\"\"\"\n",
    "\n",
    "   MATCH (n)\n",
    "   RETURN n.col3 AS col3\n",
    "   \"\"\")\n",
    "\n",
    "print(l_result)\n"
   ]
  },
  {
   "cell_type": "code",
   "execution_count": null,
   "id": "b58a83e8-a25c-4b3d-aa61-aa7202c03cb1",
   "metadata": {},
   "outputs": [],
   "source": [
    "\n",
    "#  import json, json.loads(),  does not work here because the DataFrame returned single quotes\n",
    "\n",
    "import ast\n",
    "\n",
    "for l_each in l_result.itertuples():\n",
    "   l_aaa = ast.literal_eval(l_each.col3)\n",
    "   print(l_aaa[\"ab\"])\n",
    "    \n",
    "print(\"--\")\n"
   ]
  },
  {
   "cell_type": "markdown",
   "id": "e0dd3955-0caf-44e2-b04c-d83ebaa4bade",
   "metadata": {},
   "source": [
    "#  Reset from above "
   ]
  },
  {
   "cell_type": "code",
   "execution_count": 9,
   "id": "6f26c01e-8f45-44ad-9b0f-fe2f620b4ec7",
   "metadata": {},
   "outputs": [
    {
     "name": "stdout",
     "output_type": "stream",
     "text": [
      "--\n"
     ]
    }
   ],
   "source": [
    "#  Reset from above, delete and recreate the graph\n",
    "\n",
    "#  DELETE GRAPH\n",
    "#\n",
    "for l_graph in my_client.get_database(name=DB_NAME).graphs_in_database():\n",
    "   if (l_graph.name == GRAPH_NAME):\n",
    "      l_handle=my_client.get_database(name=DB_NAME).get_graph_by_id(id=l_graph.graph_id)\n",
    "      l_handle.delete()\n",
    "\n",
    "print(\"--\")\n"
   ]
  },
  {
   "cell_type": "code",
   "execution_count": 10,
   "id": "3c998fb4-233b-4dd6-8b83-e0fe225a7bd3",
   "metadata": {},
   "outputs": [
    {
     "name": "stdout",
     "output_type": "stream",
     "text": [
      "<_Graph my_graph, 7NFtpqB4udnu5j8TvFKuKkGxXfBovVonR6b2sX6WQTnY, 0>\n"
     ]
    }
   ],
   "source": [
    "\n",
    "#  CREATE GRAPH\n",
    "\n",
    "my_graph = my_client.get_database(name=DB_NAME).create_graph(name=GRAPH_NAME, num_partitions=NUM_PARTITIONS)\n",
    "\n",
    "print(my_graph)\n"
   ]
  },
  {
   "cell_type": "markdown",
   "id": "7ebd97b2-bd82-4c21-b7e4-87e4c996c957",
   "metadata": {},
   "source": [
    "#  Group: 03"
   ]
  },
  {
   "cell_type": "code",
   "execution_count": null,
   "id": "847b0c2d-d675-4240-9135-6e725c136e62",
   "metadata": {},
   "outputs": [],
   "source": [
    "#  Write the more complex dataframe ..\n",
    "\n",
    "df_data = pd.DataFrame([\n",
    "   [101, 30, [ 1, 2, 3 ], \"String1\", \"my_vertice\"],\n",
    "   [102, 31, [ 4, 5, 6 ], \"String2\", \"my_vertice\"],\n",
    "   [103, 32, [ 7, 8, 9 ], \"String2\", \"my_vertice\"],\n",
    "   ], columns = [\"col1\", \"col2\", \"col3\", \"col4\", \"col5\"])\n",
    "\n",
    "df_data.head(20)\n"
   ]
  },
  {
   "cell_type": "code",
   "execution_count": null,
   "id": "d1b8f62d-8c07-437d-9dad-073130e73665",
   "metadata": {},
   "outputs": [],
   "source": [
    "\n",
    "#  Prove that we can (parse) the dataframe above, versus say \"col3\" being a string ..\n",
    "#\n",
    "#  Recall arrays and similar index from zero ..\n",
    "\n",
    "print(df_data.col3[1][2])\n"
   ]
  },
  {
   "cell_type": "code",
   "execution_count": null,
   "id": "804908e6-f391-43c7-bbb8-67ef3d631aa1",
   "metadata": {},
   "outputs": [],
   "source": [
    "\n",
    "import contextlib\n",
    "\n",
    "for l_each in df.iterrows():\n",
    "    \n",
    "   l_colA = l_each[1][0]\n",
    "   l_colB = l_each[1][1]\n",
    "   l_colC = l_each[1][2]\n",
    "   l_colD = l_each[1][3]\n",
    "   l_colE = l_each[1][4]\n",
    "    \n",
    "   l_query = \"\"\"\n",
    "\n",
    "      CREATE ( n: {4} {{ colA: {0} }} )                         //  Notice double curly braces\n",
    "      SET n.colB = {1}, n.colC = {2}, n.colD = '{3}'\n",
    "      \n",
    "      \"\"\".format(l_colA, l_colB, l_colC, l_colD, l_colE)\n",
    "         \n",
    "   l_result0 = my_graph.query(l_query)\n",
    "        \n",
    "print(\"--\")\n",
    "\n",
    "\n"
   ]
  },
  {
   "cell_type": "code",
   "execution_count": null,
   "id": "847c81a5-ee7e-42bf-9a47-6effdaf2fe53",
   "metadata": {},
   "outputs": [],
   "source": [
    "l_result = my_graph.query(\"\"\"\n",
    "\n",
    "   MATCH (n)\n",
    "   RETURN n.colC[1]\n",
    "   \n",
    "   \"\"\")\n",
    "\n",
    "print(l_result)"
   ]
  },
  {
   "cell_type": "code",
   "execution_count": null,
   "id": "e12d49d9-5895-494f-b0c8-886f08fe212c",
   "metadata": {},
   "outputs": [],
   "source": [
    "\n",
    "#  This one errors out ..\n",
    "#\n",
    "\n",
    "l_result = my_graph.query(\"\"\"\n",
    "\n",
    "   MATCH (n)\n",
    "   RETURN n.colC{'ab'}\n",
    "   \n",
    "   \"\"\")\n",
    "\n",
    "print(l_result)\n"
   ]
  },
  {
   "cell_type": "code",
   "execution_count": null,
   "id": "a6257f16-7c0e-4db0-9763-a2618cb1ee77",
   "metadata": {},
   "outputs": [],
   "source": [
    "# ##################################################################"
   ]
  },
  {
   "cell_type": "code",
   "execution_count": null,
   "id": "579f8e83-d764-4b64-98ce-5cf25e1f8127",
   "metadata": {},
   "outputs": [],
   "source": [
    "\n",
    "#  Below here, just DF manipulation\n",
    "#\n",
    "\n",
    "# Create dataframe where you'll store the dictionary values\n",
    "# ddf = pd.DataFrame(columns=['AB','WE','AS'])\n",
    "# \n",
    "# Populate ddf dataframe\n",
    "# for (i,r) in df.iterrows():\n",
    "#     e = r['Col C']\n",
    "#     ddf.loc[i] = [e['ab'], e['we'], e['as']]\n",
    "# \n",
    "# Replace df with the output of concat(df, ddf)\n",
    "# df = pd.concat([df, ddf], axis=1)\n",
    "\n",
    "# New column order, also drops old Col C column\n",
    "# df = df[['Col A', 'Col B', 'AB', 'WE', 'AS', 'Col D']]\n",
    "\n"
   ]
  }
 ],
 "metadata": {
  "kernelspec": {
   "display_name": "Python 3 (ipykernel)",
   "language": "python",
   "name": "python3"
  },
  "language_info": {
   "codemirror_mode": {
    "name": "ipython",
    "version": 3
   },
   "file_extension": ".py",
   "mimetype": "text/x-python",
   "name": "python",
   "nbconvert_exporter": "python",
   "pygments_lexer": "ipython3",
   "version": "3.8.13"
  }
 },
 "nbformat": 4,
 "nbformat_minor": 5
}
