{
 "cells": [
  {
   "cell_type": "markdown",
   "id": "43b1755b-2af6-4570-84de-764a0024a919",
   "metadata": {
    "tags": []
   },
   "source": [
    "#  Display options:"
   ]
  },
  {
   "cell_type": "code",
   "execution_count": 15,
   "id": "d7a11486-11ea-4a6c-8f7b-6f3808dfc85e",
   "metadata": {},
   "outputs": [
    {
     "data": {
      "text/html": [],
      "text/plain": [
       "<IPython.core.display.HTML object>"
      ]
     },
     "metadata": {},
     "output_type": "display_data"
    },
    {
     "name": "stdout",
     "output_type": "stream",
     "text": [
      "--\n"
     ]
    }
   ],
   "source": [
    "\n",
    "#  Setting display options \n",
    "\n",
    "import pandas as pd\n",
    "   #\n",
    "pd.set_option(\"display.width\", 480)\n",
    "\n",
    "#  Sets horizontal scroll for wide outputs\n",
    "#\n",
    "from IPython.display import display, HTML\n",
    "display(HTML(\"\"))\n",
    "\n",
    "from tabulate import tabulate\n",
    "\n",
    "print(\"--\")\n"
   ]
  },
  {
   "cell_type": "markdown",
   "id": "d3ebe820-bc6d-4948-b668-8b81cd3cbf29",
   "metadata": {
    "tags": []
   },
   "source": [
    "#  Setup stuff: Connectivity"
   ]
  },
  {
   "cell_type": "code",
   "execution_count": 16,
   "id": "1ea957d6-30c6-427a-ae4e-15ecfba0c4f9",
   "metadata": {},
   "outputs": [
    {
     "name": "stdout",
     "output_type": "stream",
     "text": [
      "<katana.remote.sync_wrappers.Client object at 0x7f07269f9070>\n"
     ]
    }
   ],
   "source": [
    "\n",
    "from katana import remote\n",
    "\n",
    "my_client = remote.Client()\n",
    "\n",
    "print(my_client)\n"
   ]
  },
  {
   "cell_type": "code",
   "execution_count": 17,
   "id": "97571016-7c02-4e90-a75a-136a0dacd35f",
   "metadata": {},
   "outputs": [
    {
     "name": "stdout",
     "output_type": "stream",
     "text": [
      "--\n"
     ]
    }
   ],
   "source": [
    "\n",
    "NUM_PARTITIONS  = 3\n",
    "   #\n",
    "DB_NAME         = \"my_db\"\n",
    "GRAPH_NAME      = \"my_graph_BB\"\n",
    "\n",
    "print(\"--\")\n"
   ]
  },
  {
   "cell_type": "code",
   "execution_count": null,
   "id": "0c5777bc-9904-4421-9273-a8aa6d3057db",
   "metadata": {},
   "outputs": [],
   "source": [
    "\n",
    "#  Create database\n",
    "\n",
    "my_database = my_client.create_database(name=DB_NAME)\n",
    "\n",
    "print(my_database.database_id)\n"
   ]
  },
  {
   "cell_type": "code",
   "execution_count": null,
   "id": "5b303376-0d31-449a-b1a0-732df0570889",
   "metadata": {},
   "outputs": [],
   "source": [
    "\n",
    "#  Create graph\n",
    "#\n",
    "my_graph = my_client.get_database(name=DB_NAME).create_graph(name=GRAPH_NAME, num_partitions=NUM_PARTITIONS)\n",
    "\n",
    "print(my_graph)\n"
   ]
  },
  {
   "cell_type": "code",
   "execution_count": 18,
   "id": "c5db6505-7fc8-4779-b194-9ed8945b9a90",
   "metadata": {},
   "outputs": [
    {
     "name": "stdout",
     "output_type": "stream",
     "text": [
      "<_Graph my_graph_BB, CgeN7QGhx2Ao7PbLXsWD5tVC9H3KkW9jfmDTqeF88Dzq, 33>\n"
     ]
    }
   ],
   "source": [
    "\n",
    "#  Connect to graph\n",
    "\n",
    "my_graph, *_ = my_client.get_database(name=DB_NAME).find_graphs_by_name(GRAPH_NAME)\n",
    "\n",
    "print(my_graph)\n"
   ]
  },
  {
   "cell_type": "code",
   "execution_count": 19,
   "id": "58946894-453f-4672-bb0c-3109de32b0c6",
   "metadata": {},
   "outputs": [
    {
     "name": "stdout",
     "output_type": "stream",
     "text": [
      "Database Name: fsi_graphs_database            Id: 6Rn6yziF795sAeznLt6y7oedv62cyNoy7UDPxAhPJXfB\n",
      "   Graph Name: fsi_graph2                        Version: 1          Id: 7Q9R31PREQDuasgPUob2GEruKYDB6M3YSgRXLXaWXMyn\n",
      "   Graph Name: fsi_graph                         Version: 50         Id: PFJ4HCZ4YpQ5DTzJsrszHy7LtBc5E71KiuhZTrrRkGN\n",
      "Database Name: default                        Id: D8dSkzDCJew7EtDtp8e2jnaR9zLpARhaGuoT1ChZkLeY\n",
      "   Graph Name: None                              Version: 0          Id: 21gRBqn2u8eAvffMVcQ9HnfSfsyr2QTgunTECDLRGcS3\n",
      "   Graph Name: None                              Version: 0          Id: 26W4zhJ84EgkK2oguZMxNj1Gjg61VwFidP36yD8gsQd3\n",
      "   Graph Name: None                              Version: 0          Id: 2B2y152QBqUvjPxKKmmCeExMY69Vm4BEDpsnEAezv7ib\n",
      "   Graph Name: None                              Version: 0          Id: 2EUkGHGZMEFeH3szmVjmXeU1ZkqGbq7fmSivkPGj2TE2\n",
      "   Graph Name: None                              Version: 0          Id: 2FSe7AA7j9kQEJ7J6MXkccy5z8p22HrgdRinXa2GZ2HK\n",
      "   Graph Name: None                              Version: 2          Id: 2N4nv1eKHcYNHbaboo8TYZ5hfacRjJRU8KNPmyXBSqoF\n",
      "   Graph Name: None                              Version: 0          Id: 2RRYBeEJZ1uU1FhfRi3CHCtLzEirWjta9Rth7aoAq3H6\n",
      "   Graph Name: None                              Version: 0          Id: 2eQvKPnjxxRHV4qCQXeu6CCFS88PC1Pt7rJNm56y8Hiz\n",
      "   Graph Name: None                              Version: 7          Id: 2en5CGWbvh2FAsFtfDTcvxccP4tz6a53EkbdDgXMBYjT\n",
      "   Graph Name: None                              Version: 1          Id: 2ha8YsGEzePXoMSfHPkgNpeCFCFHTmSGeeRCzDwVd5Us\n",
      "   Graph Name: None                              Version: 2          Id: 2htDpJCpheEduopcGUsuqBCNy3rJpQ7W2wAnfhgLLWvF\n",
      "   Graph Name: None                              Version: 0          Id: 2icUcaxUw95xaW7qkVnghHsnbeGEtKX9hXXhUj7tkbtL\n",
      "   Graph Name: None                              Version: 3          Id: 2iihGuPwgkkXC2BBTnooAYPggRbcAdDL2Dk46FuECKqJ\n",
      "   Graph Name: None                              Version: 1          Id: 2s53GNycUXcL2go9iabEnzgWg3UDpx9LVRpgSPYyYfdu\n",
      "   Graph Name: None                              Version: 1          Id: 2xaSsfVXZEfUeTPdT2rXYjbY5AfD262rZAnrfEHk2Pfq\n",
      "   Graph Name: None                              Version: 3          Id: 2yfihZJrhNnihVfsNit7QYZQ58FK5QQAxSGg2xS5TUVp\n",
      "   Graph Name: None                              Version: 9          Id: 2zKdVMJD364mf1rmSQdxcudXbXAE3hdZyKGuMyc64hMw\n",
      "   Graph Name: None                              Version: 2          Id: 3KyUFjJjmrxa3UZdHaxaMySuvuYcdzhFCGW6VxB8FxrT\n",
      "   Graph Name: None                              Version: 0          Id: 3ScqxZm3q4oRYm98bwjdCjtmY9gXETDdekaMSdoJRwCE\n",
      "   Graph Name: None                              Version: 4          Id: 3mK9HquMXTbaCPqkRTpu3QMw5mwUkLc23GkUB6PvN3Am\n",
      "   Graph Name: None                              Version: 1          Id: 41GFZtq2Aw3E66hbquvuQw8kvjuRxwTdVGSLGqk28MBy\n",
      "   Graph Name: None                              Version: 0          Id: 434bJmafmFbbPP7kuJ4Mw1zM7d1Zd3m8pWQTncno7UPe\n",
      "   Graph Name: None                              Version: 3          Id: 4Hpa2qpFXfndWkmMXkhLFZkdTJ73L9SMUKvVcogwchzA\n",
      "   Graph Name: None                              Version: 1          Id: 4JXWoc9S4Hu1EAPhxLfnRJwiVgjffzwuFCfJ54d2xejF\n",
      "   Graph Name: None                              Version: 5          Id: 4LEJTym4sXWqD9MHDPQNd9MDSj5R4op3EkAntE9Cv1w1\n",
      "   Graph Name: None                              Version: 1          Id: 4ZAhhdYq5vLy1S9gRACCEYE5m6Ymy1Ws5w6tpq2EQu8o\n",
      "   Graph Name: None                              Version: 1          Id: 4b8sZ2qHextsJYxBZQR2qMTLE9D97co3K3gkeczE5CSL\n",
      "   Graph Name: None                              Version: 0          Id: 4cXKdQfSd6AZXTAFLw1Lc3G3GhqiGghDMYAEeB1j538y\n",
      "   Graph Name: None                              Version: 1          Id: 4tWM1YukMnCoVvUQ98hKcbACz6eosc2LJYzfQBqGqSm4\n",
      "   Graph Name: None                              Version: 0          Id: 4zQaViawU3nrBDrDbxWSbP8vWmhvyJZFU5ig1xMM66aM\n",
      "   Graph Name: None                              Version: 1          Id: 51ZTBwDTSofgTVxB37Us7Gk4pFcV7Pe5Abq72emz4xKY\n",
      "   Graph Name: None                              Version: 0          Id: 54pep4Ujuor3RBUeT9nZp5sWLZ1vc4sGijTLQaMKTqQR\n",
      "   Graph Name: None                              Version: 0          Id: 5GC2BY7Kw4ipGepbkmEoPNgt1pnhparYKHrsaz14QAmr\n",
      "   Graph Name: None                              Version: 4          Id: 5L8ityx2CXSrChTo4Moi9b5ohDA5yZV4TJBc1Q41gqiC\n",
      "   Graph Name: None                              Version: 1          Id: 5QwxwaKMqXLSqtyDtxofLwL2FFJ8VmD5J1MdERLNrU5Z\n",
      "   Graph Name: None                              Version: 2          Id: 5TBsmz41BhWGCoUppLRPbW61LjWPa6qBaULqtFuiH8FX\n",
      "   Graph Name: None                              Version: 0          Id: 5Tt3pkekijAXLxghbEc4rceURsqetDA2MJcUQkwkBoxx\n",
      "   Graph Name: None                              Version: 1          Id: 5Vv7VpXuoxMxsp1bryDDnkn2WB6NWhxQf2Pfz83UCCGN\n",
      "   Graph Name: None                              Version: 1          Id: 5iXUv1m71dbrbzJ8rfGaVaa9H83wQatXVEsAj7k1XD9N\n",
      "   Graph Name: None                              Version: 3          Id: 5jh8uVrimc1j1ugNSpoBmo7KanhZ9Vs8T4yDMD7monN3\n",
      "   Graph Name: None                              Version: 0          Id: 5okyEcdvYhgX75MGsPYLz81Li8xtH6CAbJHcowadQveg\n",
      "   Graph Name: None                              Version: 34         Id: 5rVExu4LWzau4Zh5s5unqbKy6Ngo77awojdf9EYL6iJT\n",
      "   Graph Name: None                              Version: 1          Id: 61nGFpkYi9pbNuWbYCSFUVYM6QyEMdayCDUDjc7bCyUF\n",
      "   Graph Name: None                              Version: 3          Id: 63hzsjofVNKx2SMvj4biYZngJMu5xLxNTARZosjFvWoG\n",
      "   Graph Name: None                              Version: 1          Id: 65ZJTfYoniELLPmWhA4BKmMbPnKkLKVoqrYW26U7CS4t\n",
      "   Graph Name: None                              Version: 0          Id: 6AMyD1Tupc8Bipij5ymwf4Jg8AogMTzTehsYshktW4cH\n",
      "   Graph Name: None                              Version: 0          Id: 6FUrrTWJ9p1U7aPDHkUr4asZQPqjVLchuvUDbynUqqMG\n",
      "   Graph Name: None                              Version: 1          Id: 6JnAUU1MreaFujFXji9je3x1hwZtZFC1FeSJLCFxe26a\n",
      "   Graph Name: None                              Version: 1          Id: 6MbDM8j9k2Pk4E6q3r51yqzk89bLrjxLK5rysAV3Fzwa\n",
      "   Graph Name: None                              Version: 1          Id: 6N7JDLR1dZgxqS5j89cNp5bxzAUbFj9kUiVdRxGPShpr\n",
      "   Graph Name: None                              Version: 1          Id: 6RawjcfZ5qLYHTx3GtT9EJvJm4oNkDMf9ADCi4awbDnj\n",
      "   Graph Name: None                              Version: 1          Id: 6WXrxfzTAxxVA9HQmmJmbvFRwabnm5ZbMRoD4exWGwN4\n",
      "   Graph Name: None                              Version: 1          Id: 6a5se7Nyd66T8XDgHWKGtH28Thg6Fz9nkZyKaDwRwBgd\n",
      "   Graph Name: None                              Version: 5          Id: 6aJefTTaLGW1YyE9Cr55yuBiVEVMuGUDcZ3DssqfbHYf\n",
      "   Graph Name: None                              Version: 0          Id: 6chEv9RkeG9j3hRyNiazMGcafmAV619MKgaFavL7G6zH\n",
      "   Graph Name: None                              Version: 1          Id: 6czUVoAGfQGZqmYxRs3mymCZiuH44D4vrVnPYanjDtt\n",
      "   Graph Name: None                              Version: 4          Id: 6dD4RnsaEhzzMYtUpdqdUd5VLTxVWBFfnPPUUgWcMbab\n",
      "   Graph Name: None                              Version: 1          Id: 6dP9j6YCsCjYt6HUZ3M1hZJpCBLKvZ8nFG1pHfmgLvMx\n",
      "   Graph Name: None                              Version: 1          Id: 738rn2dQ4DWRUgAa4Gtr9i3aZMfMpVY5NuhHSUjU2ZtN\n",
      "   Graph Name: None                              Version: 1          Id: 77ujUtQcMCBLNKVkvCKbNePxQeWAtSLyHpwTPiKtsgN\n",
      "   Graph Name: None                              Version: 3          Id: 7BWV2zivzMadEgBwBwaLiZVPMSswCKJNq75pm46We2Fe\n",
      "   Graph Name: None                              Version: 1          Id: 7ByncSyZYDqab7yugdZQM5FN5HvQcydoEKE8EhvvHYg6\n",
      "   Graph Name: None                              Version: 1          Id: 7EED7DsnQzMihkKNi3XaEL2pq1HzQ76sCHAWtZ3ptZFi\n",
      "   Graph Name: None                              Version: 0          Id: 7GVdaun4f3rG8My3wLHj4QuGsjBguVPgfMVdb49qMion\n",
      "   Graph Name: None                              Version: 1          Id: 7K7CLJbUkRBv3qF4o9gf3BjskiahEGxd2EZSqJ41ayYr\n",
      "   Graph Name: None                              Version: 0          Id: 7LEAqc545yN6zuXPxUMyPCqjNSqWZ9gzLkEh7sxGkmgR\n",
      "   Graph Name: None                              Version: 1          Id: 7Tp2NiAbuq71LLtEb8PgtDMtJ334G68Eg6bwdjVF7kwk\n",
      "   Graph Name: None                              Version: 1          Id: 7UK7nJ9a7utncN6ZBib8Rqjn3UXbU3zZp8WovUPkG7KP\n",
      "   Graph Name: None                              Version: 1          Id: 7hVjh68ZMPpAn4F4v8xb7MXGk9TjcoupP9KA4fcPtYoT\n",
      "   Graph Name: None                              Version: 1          Id: 7iYn1mw5v2ErL4HqTaoKJidXhXD5trTAqqoR45nibspm\n",
      "   Graph Name: None                              Version: 15         Id: 7jnFRmwABG6BYb4xcYVQ4499Rn4UpAxSKajA4fHPWNGU\n",
      "   Graph Name: None                              Version: 1          Id: 7omhWsQYbp54gwDVTyDShmFX5LZdNrTGUGg54tLTLGmY\n",
      "   Graph Name: None                              Version: 0          Id: 88UMED4UPzLWzjyTGM52Rs1tEiuuHwqcNpZW92kq1bU9\n",
      "   Graph Name: None                              Version: 0          Id: 88vX8eRTWmkB6P5DMyqT8jJiFtrcvpqVP4a1xzU6WVhM\n",
      "   Graph Name: None                              Version: 0          Id: 8A7D6p8SPbdqRzUyjLud7HSY9ZktazybBH6CZUB3T42o\n",
      "   Graph Name: None                              Version: 0          Id: 8CZCEfehzM8HmUVTLx552KUAnQ5s4RhqUzcNvUEJN3B4\n",
      "   Graph Name: None                              Version: 0          Id: 8FrewWkyPmWLbeZ5w5LUBTcKL1HNjmQX7KgLGscntikq\n",
      "   Graph Name: None                              Version: 0          Id: 8M5i9h3yESyP1n24E9KBg8DsUCo9ftqNjaWD6N2w6Xtj\n",
      "   Graph Name: None                              Version: 1          Id: 8MYHfnXwontnZFWeQPNsXNhRt3pZHsQjuna2DZDa9XdM\n",
      "   Graph Name: None                              Version: 1          Id: 8UGTxhi5YMeQQHVHJYdDNRkPdUiARJHbrGgkWCyNypgH\n",
      "   Graph Name: None                              Version: 1          Id: 8Z6m2uWFUpBNvezxpkcxeAiknCK5rRcsmoLHz9mxQN98\n",
      "   Graph Name: None                              Version: 0          Id: 8drSHnkiykkt22an9aEcxk1ZjiANDdb82si7BtFVDpaa\n",
      "   Graph Name: None                              Version: 1          Id: 8faBJdijMXkkdneP8eTxuPE8i4NVNkvPArAnmKsGTmtc\n",
      "   Graph Name: None                              Version: 13         Id: 8rTeKFzEF5tgoPKhgsTXpkcr2Trt8iexYsBkprHdMoHR\n",
      "   Graph Name: None                              Version: 3          Id: 8uERbRbMX5f5T6cZBiQUXrEJjw7seQeJczQSL6mZ7ZFs\n",
      "   Graph Name: None                              Version: 2          Id: 8yQu9AHVR5kBS67MVN51FG6QUP5dYVDzahCWgkSdff9o\n",
      "   Graph Name: None                              Version: 1          Id: 9NgR9K3rUT7xDR1smU85A6PFE4Y1HPLGBVWcdyihexCv\n",
      "   Graph Name: None                              Version: 2          Id: 9VbLrV7xvaxRYcNWmiTx7cUGcs2A27RxYRTTghpVPuau\n",
      "   Graph Name: None                              Version: 0          Id: 9VfTgnwGBp7i65t55KBb3MjA4MX6F1HGAvRdsnusQVMi\n",
      "   Graph Name: None                              Version: 1          Id: 9XJFojU3Q1oZDbbC1hV7hGMXsG6mTx3p6Syya61sHvG2\n",
      "   Graph Name: None                              Version: 0          Id: 9hvKaYxyCW2GA9iFbMGAdSDmxq2YNA8vkFfBCTinCaNr\n",
      "   Graph Name: None                              Version: 0          Id: 9tkEJP4PrLGv5etFXpzR5RiNkYsTRAWBXVcWLroSFNMi\n",
      "   Graph Name: None                              Version: 0          Id: 9uKgTgXAFdwy3GKG8MVShKYfp1b7LdzRPEZv1ekm7LvD\n",
      "   Graph Name: None                              Version: 0          Id: 9yXHTvVHkpruQcuRwkKjctFyYpcdp3W1CWNTTm2bnKLN\n",
      "   Graph Name: None                              Version: 1          Id: A2F1YNu59UWjsiyGZAxMK9n9DTpkhQaH999Ut8ucfv92\n",
      "   Graph Name: None                              Version: 1          Id: A8AxC1H1PK675MWvqbyVKrbyqDFLaV79Qoe7EUGSZbrR\n",
      "   Graph Name: None                              Version: 2          Id: A9GFehDFfAt7xMDB3mJc7PmnSCeRVzrBhLhmnacBVX26\n",
      "   Graph Name: None                              Version: 3          Id: ASCJxs1KvMyiunZ6E5f1MPs4RcL2NBeK5LxDBkn4y1jK\n",
      "   Graph Name: None                              Version: 0          Id: AW8qDDNKnLkXrR8TLDkuTZ4399stLmLYAbC7k2ciE2Vr\n",
      "   Graph Name: None                              Version: 0          Id: AXDGvTgM7FBCtHbQEuCTN93UVXrNEzEYZ4WNwEkNp82e\n",
      "   Graph Name: rewiews-andrew                    Version: 1          Id: AkQ5yqhDNuNp38C815ccNkBin1NJN6x6p6iYudVcsniK\n",
      "   Graph Name: None                              Version: 1          Id: AknPfAXofQPi2bPsuoWJiMe7hcb5fSwmwdh4ZTy9b87D\n",
      "   Graph Name: None                              Version: 1          Id: Avat3uSngSXBJebQkGS5cUdHwXwWd18sS6J4NCkeHNnx\n",
      "   Graph Name: None                              Version: 1          Id: AzCcuZS4b7iFfHcnjqR1o8epccybTmxB2qTh9Qew75MB\n",
      "   Graph Name: None                              Version: 0          Id: B2BA65SGg6FkLkN7xoWqw1sL5cbe6tDBzX33RPLVZo8k\n",
      "   Graph Name: None                              Version: 0          Id: B7KdJ2TQTjcfA8f9Uj8zEr4zq9ytcHzBhqoE2QdwTQRx\n",
      "   Graph Name: None                              Version: 1          Id: BApWzE1JRmoGXuXzDdEzmW3aMwoa9hB1bQ21WLgwKaYL\n",
      "   Graph Name: None                              Version: 5          Id: BLsKjiCibTcJ19aus3suvbbn6ohgmr5biMyKFF72ay77\n",
      "   Graph Name: None                              Version: 1          Id: BPdoVEJwLzaEGK8tmqbn9yNQSuKpQ8xCrd3DAsmMp5xx\n",
      "   Graph Name: None                              Version: 1          Id: BYQf4gNgR4aqGLgiPhGYC2zDEcUZcfsQUkaj31rej8yt\n",
      "   Graph Name: None                              Version: 1          Id: BaxqzLUf8hisuBycSFhAM9c2tjbL3ss4u5y58p4ftaxP\n",
      "   Graph Name: boris-banco                       Version: 0          Id: Bg16grnUHQoRcqubwvS3PaNoiwirF4RseDKSYdsnxHU5\n",
      "   Graph Name: None                              Version: 1          Id: BgKVM6ZYQhMnz6gVH3Zfhg7GBVjJMEg31ZLVvAP7vgox\n",
      "   Graph Name: None                              Version: 0          Id: BgMFn47XvmmNkd84Nh2XXRJVVJhsL6hF2D1vCnjzhhr8\n",
      "   Graph Name: None                              Version: 1          Id: BiVrSnau5Gk5BYuKj9PQCtVZYSqhNSTgzZ9zZ9ABgA7D\n",
      "   Graph Name: None                              Version: 1          Id: Bp8tjmL71H6ALY8miC569Rrbj9J1o52rGDxR92Q4sEQN\n",
      "   Graph Name: None                              Version: 0          Id: Bu9RCWKtnuDnjs3KdeuL8JH4pbLrHkLCbtRxCBSGmRAe\n",
      "   Graph Name: None                              Version: 1          Id: C3bekDmmnBdDHCEWjzK56HLzKFqwBJVY6PHZcMRN2XDm\n",
      "   Graph Name: None                              Version: 1          Id: C3jC8SZ7vw9Xq84CGnwSRKxTw5fSqWGi9kwvCWWNNVjE\n",
      "   Graph Name: None                              Version: 0          Id: C6u1A63TvMNszdbgJLqpjSrBwQK1rSLMomAWkE3ZXyhD\n",
      "   Graph Name: None                              Version: 1          Id: CBM7TMjGydcsB7vdB2YKFHNTq7ABo66tvyxkKEbApmiZ\n",
      "   Graph Name: None                              Version: 1          Id: CFC3PAwCUqXbrAX1w3dNU8cy3zBVwQvrqUmLzR3KMEpa\n",
      "   Graph Name: None                              Version: 1          Id: CH1NdKSr5bHNFRWBLKzypRkgbBJHWc3UEAEzHST7Stkx\n",
      "   Graph Name: None                              Version: 0          Id: CNhPAc1BuAqCT5oydRp5Tfna9i4fJzjxVNV9gZhH4rE7\n",
      "   Graph Name: None                              Version: 1          Id: CeiqZ54iCZ3G4VuMpZV1sd9KMdDCoq9L6C8kPrfRh1UT\n",
      "   Graph Name: None                              Version: 2          Id: ChqAJ95rcxVB9q7UWRe5KjfrvA8y67SsQiWyAM4NpaHP\n",
      "   Graph Name: None                              Version: 0          Id: CwqSg6Jcjd81CD4g2CcXMtYp2KsoyS2QwGbGW5cShVbJ\n",
      "   Graph Name: deepmatter-andrew                 Version: 3          Id: CzL9wm1wikWTNSkyh1nXwqn6QcUCHWXjgwTFBUpXEE5Q\n",
      "   Graph Name: None                              Version: 0          Id: D9tMVUM2f9bcg4L4no1GNEUNXeUV1GzsLuCYhRBnnQX4\n",
      "   Graph Name: None                              Version: 3          Id: DAD6EUjDyc8z5DmSENZbLU4jYvNKi5rGdnXNw4EDxpKL\n",
      "   Graph Name: None                              Version: 0          Id: DCtcDrKCp36gVTdhitihxXu4XYeqQwLZ7kBxuWiuLVWb\n",
      "   Graph Name: None                              Version: 0          Id: DFZNmMGW8xSzPx8sNo3nvBLSKY8HxchW6aQWHJ4nLSX5\n",
      "   Graph Name: None                              Version: 0          Id: DLvAE3T14qacVBasuTXp6hqKwWbnP7EwQjQ29Fc1gmEG\n",
      "   Graph Name: None                              Version: 1          Id: DM577UXGdxoufsuuNZNgUJuiVGvWDXWmNEhM14zKAD3A\n",
      "   Graph Name: None                              Version: 0          Id: DRkZwkKSScHgpDmTd6co8TXJwxPSr71KwxV6e415izkG\n",
      "   Graph Name: None                              Version: 1          Id: DTaq4iFeTAx9eTGEHbnAv8o16gVgSuny7QjFTcH4Lgch\n",
      "   Graph Name: None                              Version: 0          Id: DUHj2aLHXBNxRM9LBqGGemdf6DJ56xi4yHzmR4r5iWqZ\n",
      "   Graph Name: deepmatter-andrew                 Version: 1          Id: Dd4WnJjSYShd9mBBV1FVHBYZFV1AcuSKFaGnnrQRHSjK\n",
      "   Graph Name: None                              Version: 8          Id: DexHkaV6w9TKDvzkcqWwLPCHJju4nogC1kinPzCgBwfr\n",
      "   Graph Name: fsi_graph                         Version: 0          Id: DfhePrcw3iedNxihBnVD1bDcVGMS1ya9q2nvcW1siJRc\n",
      "   Graph Name: None                              Version: 1          Id: DgRCn27DZRvs5pWmdd67ocdqj1bRK6B9iLF97pmQLk62\n",
      "   Graph Name: fsi_graph                         Version: 1          Id: Dh17xF2s8HBSGvSkhhYzJs1YKMDuvc8cW2AVNqrmsRFx\n",
      "   Graph Name: None                              Version: 0          Id: DmoxqkftUXEfU4oe67W42tojnyuHYoVSSz5XmuLcMLs8\n",
      "   Graph Name: None                              Version: 0          Id: DqYstrCLrFqZmp8xKLxbRDVmLpt5UXXUZUPF7RhG6fBY\n",
      "   Graph Name: None                              Version: 0          Id: DsJcYV6G9gz2afT1yTrHnSVuNVxrQ4k8Hxx6EMDC8JuZ\n",
      "   Graph Name: None                              Version: 5          Id: DwJpNffFsZnR6d7h5EGsNjCRQybAkSxjPmGke3S5jEb1\n",
      "   Graph Name: None                              Version: 1          Id: EAAAjbn8dXjGnHtUaaEcVBZhKHnhc4G4ZeCxGssikWm8\n",
      "   Graph Name: None                              Version: 5          Id: ENofhmun174MR6FCnStszzpi5xzy5Km9WjWVPpbNCnQx\n",
      "   Graph Name: None                              Version: 1          Id: ES9Se2CYo1YqehUTCi51QL2pC3etFTt8QesCrEUsiduj\n",
      "   Graph Name: None                              Version: 0          Id: ETtMCb9f2tvVi8eVfgmCUdeZDemnEVN6A8sNRi1k1JTm\n",
      "   Graph Name: None                              Version: 7          Id: EaM19UJqM8rx2mpMHibNehEpWJCQCc6pz2Uch7o4kn6Y\n",
      "   Graph Name: None                              Version: 0          Id: Eg7xD5iy14anhjXpVJPbg6QAM5tHZ8qHGUCFPKePDyXS\n",
      "   Graph Name: None                              Version: 0          Id: Ei9aCBeg7q2D4vhnLqE3ErQKCdT17SXPvnuNZNk4f61W\n",
      "   Graph Name: None                              Version: 0          Id: EqgrDYwVtEJmALeivjFFYtNN8aknQXj8M82b5cXm1g3j\n",
      "   Graph Name: None                              Version: 4          Id: EuroKX14Z92Pq71Akrc7df8rjK19TJ6fSYawHu6tnT1J\n",
      "   Graph Name: None                              Version: 1          Id: ExJUHNF3qoYwXuZ3HtUL4PL83hoLxg2pJSvKeQxHXS6C\n",
      "   Graph Name: None                              Version: 1          Id: EzdQFnXmfHw6di6wmqHwJ4yUCxGaDv9BddSirTqCv97p\n",
      "   Graph Name: None                              Version: 0          Id: FHb2cBdo4X1XmqzjhgPppndictLsTLZ1KEf5we2HaLzq\n",
      "   Graph Name: None                              Version: 0          Id: FPNLyHwpH3LeQxqxCMvcYRAZUchd7iKjJdsZQjruNjm6\n",
      "   Graph Name: None                              Version: 1          Id: FWbH1WQo67xnNRzSDKfVh9NZznxSCsHDQ2x6SMNVqorG\n",
      "   Graph Name: None                              Version: 1          Id: FaF9NkuymHG9CZJWczhMyxS2GhLdbEogg3WB2k4f9XV7\n",
      "   Graph Name: None                              Version: 1          Id: Fh75Ky4uM99Dru7PVixvX7ChdSvmS32mH4GSSzZMA6RF\n",
      "   Graph Name: None                              Version: 3          Id: Fq6VAqPCoxPbXno7xMZvJKNwVWmrWnfLZCVeg1UvfW1g\n",
      "   Graph Name: None                              Version: 1          Id: Ft1WTj1Ub8jfhM6v3Q4PX5nCoJz2R3n3L62jMpPiB2sw\n",
      "   Graph Name: None                              Version: 0          Id: FtkmHqPVGc3nKWD1qVZ6PL3jNfC7YtDMqoje8sKihCed\n",
      "   Graph Name: None                              Version: 0          Id: Fu9KygbwHj8Yg9yd6ciC9GQpgG5k8BoSpZX7Cxxeg64d\n",
      "   Graph Name: None                              Version: 0          Id: Fzv8bBQUa8FtZM6xGYXdZPCh8ce9kWsqip5jtDUcL2Br\n",
      "   Graph Name: None                              Version: 1          Id: GB59Bgmq7ieQ4BonyGRyDyjenpY9BrGBHbKhpGNtivkL\n",
      "   Graph Name: None                              Version: 1          Id: GB9sGUhsZx6hm5ixoLz22Fpy4HW6qwzXL1NsBMoNLYmt\n",
      "   Graph Name: None                              Version: 1          Id: GCFccj4goQEEfL3gnHhjDesKUZSzjk3kHhZNeoKYa18k\n",
      "   Graph Name: None                              Version: 0          Id: GKKc1jnLWKFhvB1C6sMiPSVGyARJjXu4nVMcsqgMjfPi\n",
      "   Graph Name: None                              Version: 0          Id: GLBCP3rroN6zxYzkztaKX8YB7JuxaZCYYwW5HAATbaX7\n",
      "   Graph Name: None                              Version: 0          Id: GM9GL69dEPeu2XRzopmZ7gwdiSJVC8JufjwmCJ1UzMyC\n",
      "   Graph Name: None                              Version: 1          Id: GPBrZSo2SDvC4wTCCBt81ifmixgZX78zkQfuEsK6wJJg\n",
      "   Graph Name: None                              Version: 34         Id: Go64t19zNMge9eXzHWcQEQZK2AybZRV2g2uGjnQuzMNm\n",
      "   Graph Name: None                              Version: 1          Id: GpEUTdLMmeTHUAG2g5jSjb19pMp4VKb36Rwb9oXGgXbp\n",
      "   Graph Name: None                              Version: 0          Id: GpLdGWYLJEoweuJE8hwzoTP2qFJ3GiDbk4MSpkX4Ltgp\n",
      "   Graph Name: None                              Version: 1          Id: GrQJTrcefEMGg34WmhViD3GWywMKEGYdD2WGpGtaggF3\n",
      "   Graph Name: None                              Version: 1          Id: H5w3JRKW7FfYP9JH4x1oUwULnDCr9uiAWwzzbo23XQp3\n",
      "   Graph Name: None                              Version: 0          Id: HVPWREe3WW1oFFFa8tuTbDEMQBsCgmoyCAREYm83WQWu\n",
      "   Graph Name: None                              Version: 1          Id: Hd5k8hLpK9c6uJduCKbiFjLjM6ZdqVjezQHFFsqPx4x\n",
      "   Graph Name: None                              Version: 4          Id: HhixDf8yTPcLdk8vppMoLGrV8J8ijvp73bRgnk3LZFMz\n",
      "   Graph Name: None                              Version: 0          Id: HiWEgz1aXVUVBUuApcV4NmCH1oCU7WsJpNvu1RvotcXE\n",
      "   Graph Name: None                              Version: 2          Id: HnWsgGdvCcphuyPrihUekhBSTg9CQkPWnjynhP6q3LA1\n",
      "   Graph Name: None                              Version: 0          Id: HqLKcaR5Hau7d38xy9SZ1HBJaDt8ke65tggB4LK8FfCy\n",
      "   Graph Name: None                              Version: 0          Id: HtUYP2smjQn1vYSAxSUbUWLJPjPfLDmLuc31sjrRi1st\n",
      "   Graph Name: None                              Version: 0          Id: L6kXkHbYHjsm6sKVhk6Xap8zqro5eDouNhT96xm13Wp\n",
      "   Graph Name: None                              Version: 0          Id: M8aQ3Gny18gJP1GzfCk7xN5KfmUbQMQzqHghiMsXswJ\n",
      "   Graph Name: None                              Version: 1          Id: NWFKDkNHF8Rksw32LMLS6wD5pvNcpD587iXoZoaEjUq\n",
      "   Graph Name: None                              Version: 1          Id: NjuG41mtcZNQdhLXQkvmgFMJnEu3GFeyWR4GdDJTS3x\n",
      "   Graph Name: None                              Version: 0          Id: hdUMKwJN7aepcAkMvL9a4mqvyDSZh3XegNJ4dFNUs1m\n",
      "   Graph Name: None                              Version: 0          Id: kvdLhishm58Hn6gXAXqcNHA7vswpuTwWuUVCzeMr6fX\n",
      "   Graph Name: None                              Version: 3          Id: oKrYQN9sMpeAQtZhYeadJ5QJyX1o2iVFMt7v2zGXFwW\n",
      "   Graph Name: None                              Version: 3          Id: pXg67BA6WbpdW46kLxWQL3Vpr9TiaX2GavsSyGMjdrh\n",
      "   Graph Name: None                              Version: 1          Id: zAKPkwyrrEdyS6eYBDQMv6cDyw15bFM1cQiNTDzmx5g\n",
      "Database Name: my_db                          Id: GFjiF19PqfCwKpYcCKCeng7YYxjniBKmLUSUf8ruXT5P\n",
      "   Graph Name: my_graph_BB                       Version: 33         Id: CgeN7QGhx2Ao7PbLXsWD5tVC9H3KkW9jfmDTqeF88Dzq\n",
      "\n",
      "--\n"
     ]
    }
   ],
   "source": [
    "\n",
    "#  Now that we share servers, get a better list of databases and graphs ..\n",
    "#\n",
    "\n",
    "for l_each_d in my_client.databases():\n",
    "   print(\"Database Name: %-28s   Id: %s\" % (l_each_d.name, l_each_d.database_id))\n",
    "      #\n",
    "   for l_each_g in my_client.get_database(name=l_each_d.name).graphs_in_database(): \n",
    "      print(\"   Graph Name: %-28s      Version: %-8d   Id: %s\" % (l_each_g.name, l_each_g.version, l_each_g.graph_id))\n",
    "\n",
    "\n",
    "print(\"\"  )\n",
    "print(\"--\")\n"
   ]
  },
  {
   "cell_type": "markdown",
   "id": "a2077542-b136-4b57-9c87-c81942e08db3",
   "metadata": {
    "tags": []
   },
   "source": [
    "#  UDFs, Part 01: Just MPI"
   ]
  },
  {
   "cell_type": "code",
   "execution_count": null,
   "id": "4463948c-cc50-4fc0-b001-28dc883f2f7d",
   "metadata": {},
   "outputs": [],
   "source": [
    "\n",
    "#  Best practice; Have a second NoteBook open with the Operations Widget ready-\n",
    "#\n",
    "#  Why ?\n",
    "#     When you make mistakes below, you will want to kill the Python job that is running\n",
    "#     on the worker nodes, the UDFs you submit below-\n",
    "#\n",
    "#  Source,\n",
    "#     https://mpi4py.readthedocs.io/en/stable/tutorial.html\n"
   ]
  },
  {
   "cell_type": "code",
   "execution_count": null,
   "id": "f5f746be-53db-4cc4-a765-53605277f265",
   "metadata": {},
   "outputs": [
    {
     "name": "stdout",
     "output_type": "stream",
     "text": [
      "Running interation:  12              \n"
     ]
    },
    {
     "data": {
      "application/vnd.jupyter.widget-view+json": {
       "model_id": "198f0603772e4147963a808e5f57c6e2",
       "version_major": 2,
       "version_minor": 0
      },
      "text/plain": [
       " 0 messages received [?msg/s ]"
      ]
     },
     "metadata": {},
     "output_type": "display_data"
    }
   ],
   "source": [
    "\n",
    "#  Example for testing; generates a random dataset\n",
    "#\n",
    "\n",
    "import time\n",
    "   #\n",
    "from IPython.display import clear_output\n",
    "\n",
    "\n",
    "def my_func():\n",
    "    \n",
    "   from katana.distributed import single_host\n",
    "      #\n",
    "   import numpy as np                                                     #  Unparitioned objects are just fine; we are working from only\n",
    "                                                                          #  one node\n",
    "   l_return = np.random.randint(1, 101, 4)                                #  Generate an array[4] of random numbers in the range of 1-100\n",
    "\n",
    "   return single_host(host=0, result=l_return)                            #  Multiple worker nodes (hosts), can only return from 1\n",
    "\n",
    "\n",
    "l_cntr = 0\n",
    "   #\n",
    "while True:\n",
    "   l_cntr += 1\n",
    "   print(\"Running interation:  %-16d\" % (l_cntr))\n",
    "      #\n",
    "   my_return = my_graph.run(lambda g: my_func())\n",
    "   time.sleep(300) \n",
    "   clear_output(wait = True)\n",
    "    \n"
   ]
  },
  {
   "cell_type": "code",
   "execution_count": null,
   "id": "dcf75e78-1621-437e-82bc-4bf9ed637fe8",
   "metadata": {},
   "outputs": [],
   "source": []
  },
  {
   "cell_type": "code",
   "execution_count": null,
   "id": "f36c9867-ca4d-4ce0-9c3f-7355ed932347",
   "metadata": {},
   "outputs": [],
   "source": []
  }
 ],
 "metadata": {
  "kernelspec": {
   "display_name": "Python 3 (ipykernel)",
   "language": "python",
   "name": "python3"
  },
  "language_info": {
   "codemirror_mode": {
    "name": "ipython",
    "version": 3
   },
   "file_extension": ".py",
   "mimetype": "text/x-python",
   "name": "python",
   "nbconvert_exporter": "python",
   "pygments_lexer": "ipython3",
   "version": "3.8.13"
  }
 },
 "nbformat": 4,
 "nbformat_minor": 5
}
