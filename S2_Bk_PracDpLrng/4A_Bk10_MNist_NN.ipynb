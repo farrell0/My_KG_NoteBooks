{
 "cells": [
  {
   "cell_type": "code",
   "execution_count": null,
   "id": "064cde52-a7e1-486e-a7c4-3ce3aaaa01da",
   "metadata": {},
   "outputs": [],
   "source": [
    "\n",
    "#  This NoteBook contains code to run MLPClassifier against MNist\n",
    "#\n",
    "\n"
   ]
  },
  {
   "cell_type": "markdown",
   "id": "d433bb83-5f71-406e-ab1c-1b0ef02583f1",
   "metadata": {
    "tags": []
   },
   "source": [
    "#  Step 00: Setup"
   ]
  },
  {
   "cell_type": "code",
   "execution_count": null,
   "id": "0ba7589c-6f1e-4f5c-a37b-21f8944c2499",
   "metadata": {},
   "outputs": [],
   "source": [
    "\n",
    "#  Largely code to control how print statements and related work\n",
    "#\n",
    "\n",
    "%load_ext autoreload\n",
    "%autoreload 2\n",
    "\n",
    "%xmode Minimal\n",
    "\n",
    "\n",
    "#  Setting display options \n",
    "#\n",
    "import pandas as pd\n",
    "pd.set_option(\"display.width\", 640)\n",
    "   #\n",
    "import numpy as np\n",
    "np.set_printoptions(edgeitems = 30, linewidth = 100000, \n",
    "   formatter = dict(float = lambda x: \"%.3g\" % x))\n",
    "\n",
    "#  Sets horizontal scroll for wide outputs\n",
    "#\n",
    "from IPython.display import display, HTML\n",
    "display(HTML(\"\"))\n",
    "\n",
    "   ###\n",
    "    \n",
    "from tabulate import tabulate\n",
    "#\n",
    "#  How to use tabulate-\n",
    "#\n",
    "#  l_result = [{ \"col1\": 20, \"col2\": 30}]\n",
    "#  #\n",
    "#  print(tabulate(l_result, headers='keys', tablefmt='psql', showindex=False))\n",
    "\n",
    "print(\"--\")\n"
   ]
  },
  {
   "cell_type": "code",
   "execution_count": null,
   "id": "1e6bcf95-6f46-448e-a618-4bf0fb15e098",
   "metadata": {},
   "outputs": [],
   "source": []
  },
  {
   "cell_type": "code",
   "execution_count": null,
   "id": "a3976e37-8702-4f53-bf97-e28a958675f8",
   "metadata": {},
   "outputs": [],
   "source": []
  },
  {
   "cell_type": "code",
   "execution_count": null,
   "id": "0d72449e-37d5-485e-b513-355db9d65339",
   "metadata": {},
   "outputs": [],
   "source": []
  },
  {
   "cell_type": "code",
   "execution_count": null,
   "id": "adfe1bee-9dc4-429f-84ab-88fca8c12654",
   "metadata": {},
   "outputs": [],
   "source": [
    "\n",
    "\n",
    "\n",
    "import numpy as np\n",
    "import time\n",
    "from sklearn.neural_network import MLPClassifier\n",
    "\n",
    "def run(x_train, y_train, x_test, y_test, clf):\n",
    "    s = time.time()\n",
    "    clf.fit(x_train, y_train)\n",
    "    e = time.time()-s\n",
    "    loss = clf.loss_\n",
    "    weights = clf.coefs_\n",
    "    biases = clf.intercepts_\n",
    "    params = 0\n",
    "    for w in weights:\n",
    "        params += w.shape[0]*w.shape[1]\n",
    "    for b in biases:\n",
    "        params += b.shape[0]\n",
    "    return [clf.score(x_test, y_test), loss, params, e]\n",
    "\n",
    "def nn(layers, act):\n",
    "    return MLPClassifier(solver=\"sgd\", verbose=False, tol=1e-8,\n",
    "            nesterovs_momentum=False, early_stopping=False,\n",
    "            learning_rate_init=0.001, momentum=0.9, max_iter=200,\n",
    "            hidden_layer_sizes=layers, activation=act)\n",
    "\n",
    "def main():\n",
    "    x_train = np.load(\"../data/mnist/mnist_train_vectors.npy\").astype(\"float64\")/256.0\n",
    "    y_train = np.load(\"../data/mnist/mnist_train_labels.npy\")\n",
    "    x_test = np.load(\"../data/mnist/mnist_test_vectors.npy\").astype(\"float64\")/256.0\n",
    "    y_test = np.load(\"../data/mnist/mnist_test_labels.npy\")\n",
    "\n",
    "    N = 1000\n",
    "    x_train = x_train[:N]\n",
    "    y_train = y_train[:N]\n",
    "    x_test  = x_test[:N]\n",
    "    y_test  = y_test[:N]\n",
    "\n",
    "    layers = [\n",
    "        (1,), (500,), (800,), (1000,), (2000,), (3000,),\n",
    "        (1000,500), (3000,1500),\n",
    "        (2,2,2), (1000,500,250), (2000,1000,500),\n",
    "    ]\n",
    "\n",
    "    for act in [\"relu\", \"logistic\", \"tanh\"]:\n",
    "        print(\"%s:\" % act)\n",
    "        for layer in layers:\n",
    "            scores = []\n",
    "            loss = []\n",
    "            tm = []\n",
    "            for i in range(10):\n",
    "                s,l,params,e = run(x_train, y_train, x_test, y_test, nn(layer,act))\n",
    "                scores.append(s)\n",
    "                loss.append(l)\n",
    "                tm.append(e)\n",
    "            s = np.array(scores)\n",
    "            l = np.array(loss)\n",
    "            t = np.array(tm)\n",
    "            n = np.sqrt(s.shape[0])\n",
    "            print(\"    layers: %14s, score= %0.4f +/- %0.4f, loss = %0.4f +/- %0.4f (params = %6d, time = %0.2f s)\" % \\\n",
    "                (str(layer), s.mean(), s.std()/n, l.mean(), l.std()/n, params, t.mean()))\n",
    "\n",
    "main()\n",
    "\n",
    "\n"
   ]
  },
  {
   "cell_type": "code",
   "execution_count": null,
   "id": "a014efa8-299b-4ca5-b658-0c45f1cbd604",
   "metadata": {},
   "outputs": [],
   "source": []
  },
  {
   "cell_type": "code",
   "execution_count": null,
   "id": "e96e75a1-5bd5-4851-abc6-a82ba9663ece",
   "metadata": {},
   "outputs": [],
   "source": []
  },
  {
   "cell_type": "code",
   "execution_count": null,
   "id": "4f29430a-9cc3-4dd2-ae23-5f26a7a844a1",
   "metadata": {},
   "outputs": [],
   "source": []
  },
  {
   "cell_type": "code",
   "execution_count": null,
   "id": "5309d798-9a56-429b-922d-358a5e43370e",
   "metadata": {},
   "outputs": [],
   "source": []
  },
  {
   "cell_type": "code",
   "execution_count": null,
   "id": "4a397bde-64f0-4ec9-a728-d37e4c51ecea",
   "metadata": {},
   "outputs": [],
   "source": []
  }
 ],
 "metadata": {
  "kernelspec": {
   "display_name": "Python 3 (ipykernel)",
   "language": "python",
   "name": "python3"
  },
  "language_info": {
   "codemirror_mode": {
    "name": "ipython",
    "version": 3
   },
   "file_extension": ".py",
   "mimetype": "text/x-python",
   "name": "python",
   "nbconvert_exporter": "python",
   "pygments_lexer": "ipython3",
   "version": "3.8.13"
  }
 },
 "nbformat": 4,
 "nbformat_minor": 5
}
