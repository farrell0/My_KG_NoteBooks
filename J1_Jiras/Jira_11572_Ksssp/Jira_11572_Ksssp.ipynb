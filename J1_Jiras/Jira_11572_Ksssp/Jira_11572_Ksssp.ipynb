{
 "cells": [
  {
   "cell_type": "code",
   "execution_count": 1,
   "id": "6badeeca-ab5c-4a50-be3e-8be25cc7ee81",
   "metadata": {},
   "outputs": [
    {
     "data": {
      "text/html": [],
      "text/plain": [
       "<IPython.core.display.HTML object>"
      ]
     },
     "metadata": {},
     "output_type": "display_data"
    },
    {
     "name": "stdout",
     "output_type": "stream",
     "text": [
      "--\n"
     ]
    }
   ],
   "source": [
    "\n",
    "#  Setting display options \n",
    "\n",
    "import pandas as pd\n",
    "   #\n",
    "pd.set_option(\"display.width\", 480)\n",
    "\n",
    "#  Sets horizontal scroll for wide outputs\n",
    "#\n",
    "from IPython.display import display, HTML\n",
    "display(HTML(\"\"))\n",
    "\n",
    "from tabulate import tabulate\n",
    "\n",
    "print(\"--\")\n"
   ]
  },
  {
   "cell_type": "markdown",
   "id": "fcb5bbbb-6a57-4388-aa7d-4a2413522df2",
   "metadata": {
    "tags": []
   },
   "source": [
    "# Setup stuff: Connectivity"
   ]
  },
  {
   "cell_type": "code",
   "execution_count": 2,
   "id": "55e90465-e651-45c0-94b2-1ce2cde47977",
   "metadata": {},
   "outputs": [
    {
     "name": "stdout",
     "output_type": "stream",
     "text": [
      "<katana_enterprise.remote.sync_wrappers.Client object at 0x7fd1ac340910>\n"
     ]
    }
   ],
   "source": [
    "\n",
    "from katana import remote\n",
    "\n",
    "my_client = remote.Client()\n",
    "\n",
    "print(my_client)\n"
   ]
  },
  {
   "cell_type": "code",
   "execution_count": 3,
   "id": "04b19ed9-0238-4a6f-afd0-fa11a3b0328b",
   "metadata": {},
   "outputs": [
    {
     "name": "stdout",
     "output_type": "stream",
     "text": [
      "--\n"
     ]
    }
   ],
   "source": [
    "\n",
    "NUM_PARTITIONS  = 3\n",
    "   #\n",
    "DB_NAME         = \"my_db\"\n",
    "GRAPH_NAME      = \"my_graph\"\n",
    "\n",
    "print(\"--\")\n"
   ]
  },
  {
   "cell_type": "code",
   "execution_count": 4,
   "id": "60449360-363a-48ae-bd55-9527b880e3e5",
   "metadata": {},
   "outputs": [
    {
     "name": "stdout",
     "output_type": "stream",
     "text": [
      "<_Graph my_graph, 9eWrbmPwZRZbUygTtFjy7nKjKebVGJjpUtnHFsbuP2Tm, 1>\n"
     ]
    }
   ],
   "source": [
    "\n",
    "#  CONNECT TO GRAPH\n",
    "\n",
    "my_graph, *_ = my_client.get_database(name=DB_NAME).find_graphs_by_name(GRAPH_NAME)\n",
    "\n",
    "print(my_graph)\n"
   ]
  },
  {
   "cell_type": "markdown",
   "id": "e2f0bfda-6092-4263-8857-c61af622908b",
   "metadata": {
    "tags": []
   },
   "source": [
    "#  Actual analytics .."
   ]
  },
  {
   "cell_type": "code",
   "execution_count": null,
   "id": "d22b92c3-8c94-4742-9d71-3570db6a59b3",
   "metadata": {},
   "outputs": [],
   "source": [
    "\n",
    "#  View the graph\n",
    "#\n",
    "\n",
    "l_result = my_graph.query(\n",
    "   \"\"\"\n",
    "   MATCH (n) - [r] -> (m)\n",
    "   RETURN n, r, m\n",
    "   \"\"\" ,\n",
    "   contextualize=True,\n",
    "   )\n",
    "l_result.view()\n"
   ]
  },
  {
   "cell_type": "code",
   "execution_count": 5,
   "id": "3ecba69c-0a0f-4a51-a02e-55973ec51242",
   "metadata": {},
   "outputs": [
    {
     "name": "stdout",
     "output_type": "stream",
     "text": [
      "--\n"
     ]
    }
   ],
   "source": [
    "\n",
    "from katana.remote import analytics\n",
    "\n",
    "print(\"--\")\n"
   ]
  },
  {
   "cell_type": "code",
   "execution_count": 6,
   "id": "c938c483-09f8-4a77-9646-17a6b8d6c256",
   "metadata": {},
   "outputs": [
    {
     "name": "stdout",
     "output_type": "stream",
     "text": [
      "--\n"
     ]
    }
   ],
   "source": [
    "\n",
    "#  Getting the airport node id\n",
    "#\n",
    "\n",
    "def f_get_airport(i_arg1):\n",
    "    \n",
    "   l_query  = \"\"\"\n",
    "      MATCH (n: Airport) \n",
    "      WHERE n.airport_code = '{0}'\n",
    "      RETURN ID(n) AS my_id\n",
    "      \"\"\".format(i_arg1)\n",
    "   \n",
    "   l_id = my_graph.query_unpaginated(l_query)[\"my_id\"][0]\n",
    "\n",
    "   print(\"Airport id:  %s   %d\" % (i_arg1, l_id))\n",
    "  \n",
    "   return (str(l_id))\n",
    "\n",
    "\n",
    "print(\"--\")\n"
   ]
  },
  {
   "cell_type": "code",
   "execution_count": 11,
   "id": "dd06fe66-0a3b-4939-bdbf-4bdd2b3dd230",
   "metadata": {},
   "outputs": [
    {
     "data": {
      "application/vnd.jupyter.widget-view+json": {
       "model_id": "b55878085bb94aae8a45c310085eff2f",
       "version_major": 2,
       "version_minor": 0
      },
      "text/plain": [
       "          0/? [?op/s]"
      ]
     },
     "metadata": {},
     "output_type": "display_data"
    },
    {
     "name": "stdout",
     "output_type": "stream",
     "text": [
      "Airport id:  MKE   562949953421312\n"
     ]
    },
    {
     "name": "stderr",
     "output_type": "stream",
     "text": [
      "/opt/conda/lib/python3.8/site-packages/katana_enterprise/remote/result_set.py:69: UserWarning: Pandas doesn't allow columns to be created via a new attribute name - see https://pandas.pydata.org/pandas-docs/stable/indexing.html#attribute-access\n",
      "  self._response = response\n"
     ]
    },
    {
     "data": {
      "application/vnd.jupyter.widget-view+json": {
       "model_id": "da7016690ef64e5e9dfa87584539590b",
       "version_major": 2,
       "version_minor": 0
      },
      "text/plain": [
       "          0/? [?op/s]"
      ]
     },
     "metadata": {},
     "output_type": "display_data"
    },
    {
     "name": "stdout",
     "output_type": "stream",
     "text": [
      "Airport id:  SJC   1\n"
     ]
    },
    {
     "data": {
      "application/vnd.jupyter.widget-view+json": {
       "model_id": "a6e168a7e2cd49578d7e0d3e36299188",
       "version_major": 2,
       "version_minor": 0
      },
      "text/plain": [
       "          0/? [?op/s]"
      ]
     },
     "metadata": {},
     "output_type": "display_data"
    },
    {
     "name": "stdout",
     "output_type": "stream",
     "text": [
      "      sourceNodeID  targetNodeID  totalCost                                  Path (nodeIDs)                                      costs\n",
      "0  562949953421312             1     1900.0                      [562949953421312, 0, 2, 1]                 [0.0, 66.0, 952.0, 1900.0]\n",
      "1  562949953421312             1     2032.0  [562949953421312, 0, 562949953421312, 0, 2, 1]  [0.0, 66.0, 132.0, 198.0, 1084.0, 2032.0]\n",
      "--\n"
     ]
    }
   ],
   "source": [
    "\n",
    "#  Running analytics.ksssp() ..\n",
    "\n",
    "\n",
    "l_airport1     = \"MKE\"\n",
    "#  l_airport1     = \"ORD\"\n",
    "#  l_airport1     = \"DEN\"\n",
    "#  l_airport1     = \"SJC\"\n",
    "   #\n",
    "l_airport1_id  = f_get_airport(l_airport1)\n",
    "#  l_airport1_id  = \"562949953421312\"\n",
    "#  l_airport1_id  = 562949953421312\n",
    "   #\n",
    "#  l_airport2     = \"MKE\"\n",
    "#  l_airport2     = \"ORD\"\n",
    "#  l_airport2     = \"DEN\"\n",
    "l_airport2     = \"SJC\"\n",
    "   #\n",
    "l_airport2_id  = f_get_airport(l_airport2)\n",
    "#  l_airport2_id  = \"1\"\n",
    "#  l_airport2_id  = 1\n",
    "\n",
    "\n",
    "l_max_iterations      = 10000 \n",
    "l_kvalue              = 2\n",
    "\n",
    "\n",
    "#  Below:  this currently fails on DISTANCE|NUM_HOPS.  Works with None.\n",
    "#\n",
    "\n",
    "#  Edge property\n",
    "#\n",
    "l_weight_property     = \"DISTANCE\"                 #  Edge property\n",
    "#  l_weight_property     = \"NUM_HOPS\"\n",
    "#  l_weight_property     = None   \n",
    "\n",
    "\n",
    "l_result = analytics.ksssp(\n",
    "   my_graph,\n",
    "      #\n",
    "   start_node                    = l_airport1_id,\n",
    "   target_node                   = l_airport2_id,\n",
    "      #\n",
    "   edge_weight_property_name     = l_weight_property,\n",
    "      #\n",
    "   k_value                       = l_kvalue,        \n",
    "      #\n",
    "   max_iterations                = l_max_iterations,\n",
    "   )\n",
    "\n",
    "print(l_result)\n",
    "   #\n",
    "print(\"--\")\n",
    "\n",
    "\n",
    "#  Error received,\n",
    "#\n",
    "#     ---------------------------------------------------------------------------\n",
    "#     InvalidRequestError                       Traceback (most recent call last)\n",
    "#     Cell In [31], line 36\n",
    "#          26 #  Below:  this currently fails on DISTANCE|NUM_HOPS.  Works with None.\n",
    "#          27 #\n",
    "#          28 \n",
    "#        (...)\n",
    "#          31 #  l_weight_property     = \"DISTANCE\"                 #  Edge property\n",
    "#          32 #  l_weight_property     = \"NUM_HOPS\"\n",
    "#          33 l_weight_property     = None   \n",
    "#     ---> 36 l_result = analytics.ksssp(\n",
    "#          37    my_graph,\n",
    "#          38       #\n",
    "#          39    start_node                    = l_airport1_id,\n",
    "#          40    target_node                   = l_airport2_id,\n",
    "#          41       #\n",
    "#          42    edge_weight_property_name     = l_weight_property,\n",
    "#          43       #\n",
    "#          44    k_value                       = l_kvalue,        \n",
    "#          45       #\n",
    "#          46    max_iterations                = l_max_iterations,\n",
    "#          47    )\n",
    "#          49 print(\"--\")\n",
    "#     \n",
    "#     File /opt/conda/lib/python3.8/site-packages/katana_enterprise/async_to_sync.py:168, in async_to_sync.<locals>.wrapper(timeout, *args, **kwargs)\n",
    "#         165 if convert_objects:\n",
    "#         166     registry = AsyncToSyncClassRegistry.get()\n",
    "#         167     return registry.async_to_sync(\n",
    "#     --> 168         wait_for(\n",
    "#         169             async_func(\n",
    "#         170                 *(registry.sync_to_async(a) for a in args),\n",
    "#         171                 **{k: registry.sync_to_async(v) for k, v in kwargs.items()},\n",
    "#         172             ),\n",
    "#         173             timeout=timeout,\n",
    "#         174         )\n",
    "#         175     )\n",
    "#         176 return wait_for(async_func(*args, **kwargs), timeout=timeout)\n",
    "#     \n",
    "#     File /opt/conda/lib/python3.8/site-packages/katana_enterprise/async_to_sync.py:147, in wait_for(coro, timeout)\n",
    "#         145 try:\n",
    "#         146     future = asyncio.run_coroutine_threadsafe(timeout_coro, loop=AsyncRunnerThread.get().loop)\n",
    "#     --> 147     return future.result()\n",
    "#         148 except KeyboardInterrupt:\n",
    "#         149     inner_future.cancel()\n",
    "#     \n",
    "#     File /opt/conda/lib/python3.8/concurrent/futures/_base.py:444, in Future.result(self, timeout)\n",
    "#         442     raise CancelledError()\n",
    "#         443 elif self._state == FINISHED:\n",
    "#     --> 444     return self.__get_result()\n",
    "#         445 else:\n",
    "#         446     raise TimeoutError()\n",
    "#     \n",
    "#     File /opt/conda/lib/python3.8/concurrent/futures/_base.py:389, in Future.__get_result(self)\n",
    "#         387 if self._exception:\n",
    "#         388     try:\n",
    "#     --> 389         raise self._exception\n",
    "#         390     finally:\n",
    "#         391         # Break a reference cycle with the exception in self._exception\n",
    "#         392         self = None\n",
    "#     \n",
    "#     File /opt/conda/lib/python3.8/asyncio/tasks.py:455, in wait_for(fut, timeout, loop)\n",
    "#         450     warnings.warn(\"The loop argument is deprecated since Python 3.8, \"\n",
    "#         451                   \"and scheduled for removal in Python 3.10.\",\n",
    "#         452                   DeprecationWarning, stacklevel=2)\n",
    "#         454 if timeout is None:\n",
    "#     --> 455     return await fut\n",
    "#         457 if timeout <= 0:\n",
    "#         458     fut = ensure_future(fut, loop=loop)\n",
    "#     \n",
    "#     File /opt/conda/lib/python3.8/site-packages/katana_enterprise/remote/aio/analytics/__init__.py:340, in ksssp(graph, start_node, target_node, k_value, edge_weight_property_name, max_iterations, use_gpu)\n",
    "#         315 \"\"\"\n",
    "#         316 Run KSSSP on the ``graph``: find the shortest path between two nodes and the next K-1 shortest paths.\n",
    "#         317 \n",
    "#        (...)\n",
    "#         324 \n",
    "#         325 \"\"\"\n",
    "#         327 data = {\n",
    "#         328     \"analytics\": {\n",
    "#         329         \"ksssp\": {\n",
    "#        (...)\n",
    "#         337     },\n",
    "#         338 }\n",
    "#     --> 340 return await graph._run_asynchronously_and_read_from_parquet(data)\n",
    "#     \n",
    "#     File /opt/conda/lib/python3.8/site-packages/katana_enterprise/remote/aio/graph.py:235, in Graph._run_asynchronously_and_read_from_parquet(self, data)\n",
    "#         232 async def _run_asynchronously_and_read_from_parquet(self, data) -> DataFrame:\n",
    "#         233     data = self._add_operation_metadata(data)\n",
    "#     --> 235     result = await self._client._run_on_graph_and_wait(self, data)\n",
    "#         237     files = result[\"result_files\"]\n",
    "#         238     operation_id = result[\"operation_id\"]\n",
    "#     \n",
    "#     File /opt/conda/lib/python3.8/site-packages/katana_enterprise/remote/aio/client.py:323, in Database._run_on_graph_and_wait(self, graph, data)\n",
    "#         321 max_attempts = 60\n",
    "#         322 attempt = 0\n",
    "#     --> 323 op = await self._run_on_graph(graph, data)\n",
    "#         324 while attempt < max_attempts:\n",
    "#         325     try:\n",
    "#     \n",
    "#     File /opt/conda/lib/python3.8/site-packages/katana_enterprise/remote/aio/client.py:317, in Database._run_on_graph(self, graph, data)\n",
    "#         315 if self._txn:\n",
    "#         316     return await self._txn._run_on_graph(graph, data)\n",
    "#     --> 317 return await self._client.run_on_graph(graph.graph_id, data)\n",
    "#     \n",
    "#     File /opt/conda/lib/python3.8/site-packages/katana_enterprise/rpc/client.py:108, in _GraphClient.run_on_graph(self, graph_id, data)\n",
    "#         107 async def run_on_graph(self, graph_id: str, data):\n",
    "#     --> 108     return await self._json_request(f\"graph/{graph_id}/run\", \"POST\", json=data)\n",
    "#     \n",
    "#     File /opt/conda/lib/python3.8/site-packages/katana_enterprise/rpc/client.py:386, in AsyncClient._json_request(self, endpoint, method, json, params, timeout)\n",
    "#         384 async def _json_request(self, endpoint: str, method: str, *, json=None, params=None, timeout=None) -> dict:\n",
    "#         385     \"\"\"Makes a request and decodes its response into a JSON object.\"\"\"\n",
    "#     --> 386     async with self._stream(endpoint, method, json=json, params=params, timeout=timeout) as resp:\n",
    "#         387         await resp.aread()\n",
    "#         388         return resp.json()\n",
    "#     \n",
    "#     File /opt/conda/lib/python3.8/contextlib.py:171, in _AsyncGeneratorContextManager.__aenter__(self)\n",
    "#         169 async def __aenter__(self):\n",
    "#         170     try:\n",
    "#     --> 171         return await self.gen.__anext__()\n",
    "#         172     except StopAsyncIteration:\n",
    "#         173         raise RuntimeError(\"generator didn't yield\") from None\n",
    "#     \n",
    "#     File /opt/conda/lib/python3.8/site-packages/katana_enterprise/rpc/client.py:438, in AsyncClient._stream(self, endpoint, method, json, params, timeout)\n",
    "#         436         else:\n",
    "#         437             await resp.aread()\n",
    "#     --> 438             self._raise_error(resp)\n",
    "#         439 except (httpx.RequestError, httpx.RemoteProtocolError, httpx.ConnectError) as exc:\n",
    "#         440     if not isinstance(exc, httpx.RequestError):\n",
    "#     \n",
    "#     File /opt/conda/lib/python3.8/site-packages/katana_enterprise/rpc/client.py:410, in AsyncClient._raise_error(cls, resp)\n",
    "#         407     message = httpx.codes.get_reason_phrase(code)\n",
    "#         409 if code == httpx.codes.BAD_REQUEST:\n",
    "#     --> 410     raise errors.InvalidRequestError(url, code, message, headers)\n",
    "#         411 # codes.UNAUTHORIZED (401) for invalid/missing credentials (i.e. authentication error).\n",
    "#         412 if code == httpx.codes.UNAUTHORIZED:\n",
    "#     \n",
    "#     InvalidRequestError: b'{\"code\":400,\"message\":\"json: cannot unmarshal number 562949953421312 into Go struct field KSSSPParameters.analytics.ksssp.start_node of type uint32\"}'\n",
    "\n",
    "        "
   ]
  },
  {
   "cell_type": "code",
   "execution_count": 8,
   "id": "a91cd0a0-72a6-4c3d-8c8a-48d6eae59a4c",
   "metadata": {},
   "outputs": [
    {
     "data": {
      "application/vnd.jupyter.widget-view+json": {
       "model_id": "4aef9fee841343a9892f1b434aeea9ec",
       "version_major": 2,
       "version_minor": 0
      },
      "text/plain": [
       "          0/? [?op/s]"
      ]
     },
     "metadata": {},
     "output_type": "display_data"
    },
    {
     "name": "stdout",
     "output_type": "stream",
     "text": [
      "+----+-----------------+-------------+-----------+------------------+------------------+----------+\n",
      "|    |   n.internal_id | n.labels    | n.LABEL   | n.airport_code   | n.airport_name   | n.type   |\n",
      "|----+-----------------+-------------+-----------+------------------+------------------+----------|\n",
      "|  0 |               0 | ['Airport'] | Airport   | ORD              | Chicago O-Hare   | node     |\n",
      "|  1 |               1 | ['Airport'] | Airport   | SJC              | San Jose         | node     |\n",
      "|  2 |               2 | ['Airport'] | Airport   | DEN              | Denver           | node     |\n",
      "|  3 | 562949953421312 | ['Airport'] | Airport   | MKE              | Milwaukee        | node     |\n",
      "+----+-----------------+-------------+-----------+------------------+------------------+----------+\n"
     ]
    }
   ],
   "source": [
    "\n",
    "l_result = my_graph.query_unpaginated(\"\"\"\n",
    "   MATCH ( n ) \n",
    "   RETURN n\n",
    "   \n",
    "   \"\"\")\n",
    "\n",
    "print(tabulate(l_result, headers='keys', tablefmt='psql'))\n",
    "\n",
    "#  l_result = my_graph.query(\n",
    "#     \"\"\"\n",
    "#     MATCH (n) - [r] -> (m)\n",
    "#     RETURN r\n",
    "#     \"\"\" )\n",
    "#  print(tabulate(l_result, headers='keys', tablefmt='psql'))\n"
   ]
  }
 ],
 "metadata": {
  "kernelspec": {
   "display_name": "Python 3 (ipykernel)",
   "language": "python",
   "name": "python3"
  },
  "language_info": {
   "codemirror_mode": {
    "name": "ipython",
    "version": 3
   },
   "file_extension": ".py",
   "mimetype": "text/x-python",
   "name": "python",
   "nbconvert_exporter": "python",
   "pygments_lexer": "ipython3",
   "version": "3.8.15"
  }
 },
 "nbformat": 4,
 "nbformat_minor": 5
}
