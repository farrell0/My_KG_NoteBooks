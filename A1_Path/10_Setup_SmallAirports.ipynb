{
 "cells": [
  {
   "cell_type": "code",
   "execution_count": 4,
   "id": "87e5a845-5cbd-49d8-bf61-4a13cd80a1f5",
   "metadata": {},
   "outputs": [
    {
     "data": {
      "text/html": [],
      "text/plain": [
       "<IPython.core.display.HTML object>"
      ]
     },
     "metadata": {},
     "output_type": "display_data"
    },
    {
     "name": "stdout",
     "output_type": "stream",
     "text": [
      "--\n"
     ]
    }
   ],
   "source": [
    "\n",
    "#  Setting display options \n",
    "\n",
    "import pandas as pd\n",
    "   #\n",
    "pd.set_option(\"display.width\", 480)\n",
    "\n",
    "#  Sets horizontal scroll for wide outputs\n",
    "#\n",
    "from IPython.display import display, HTML\n",
    "display(HTML(\"\"))\n",
    "\n",
    "from tabulate import tabulate\n",
    "\n",
    "print(\"--\")\n"
   ]
  },
  {
   "cell_type": "markdown",
   "id": "d3ebe820-bc6d-4948-b668-8b81cd3cbf29",
   "metadata": {
    "tags": []
   },
   "source": [
    "#  Setup stuff: Connectivity"
   ]
  },
  {
   "cell_type": "code",
   "execution_count": 5,
   "id": "1ea957d6-30c6-427a-ae4e-15ecfba0c4f9",
   "metadata": {},
   "outputs": [
    {
     "name": "stdout",
     "output_type": "stream",
     "text": [
      "<katana.remote.sync_wrappers.Client object at 0x7fb9b0d46d60>\n"
     ]
    }
   ],
   "source": [
    "\n",
    "from katana import remote\n",
    "from katana.remote import import_data\n",
    "\n",
    "\n",
    "my_client = remote.Client()\n",
    "\n",
    "print(my_client)\n"
   ]
  },
  {
   "cell_type": "code",
   "execution_count": 6,
   "id": "97571016-7c02-4e90-a75a-136a0dacd35f",
   "metadata": {},
   "outputs": [
    {
     "name": "stdout",
     "output_type": "stream",
     "text": [
      "--\n"
     ]
    }
   ],
   "source": [
    "\n",
    "NUM_PARTITIONS  = 3\n",
    "   #\n",
    "DB_NAME         = \"my_db\"\n",
    "GRAPH_NAME      = \"my_graph\"\n",
    "\n",
    "print(\"--\")\n"
   ]
  },
  {
   "cell_type": "code",
   "execution_count": null,
   "id": "8ed2d715-aaeb-4381-9216-46fa0dd421b6",
   "metadata": {},
   "outputs": [],
   "source": [
    "\n",
    "#  DELETE ALL GRAPHS\n",
    "\n",
    "for l_database in my_client.databases():\n",
    "   for l_graph in my_client.get_database(name=l_database.name).graphs_in_database():\n",
    "      l_handle=my_client.get_database(name=l_database.name).get_graph_by_id(id=l_graph.graph_id)\n",
    "      l_handle.delete()\n",
    "\n",
    "for l_graph in my_client.graphs():\n",
    "   print(\"GRAPH ID: \", l_graph.graph_id, \"      GRAPH Version: \", l_graph.version)\n",
    "\n",
    "print(\"--\")\n"
   ]
  },
  {
   "cell_type": "code",
   "execution_count": 8,
   "id": "bfc203d6-d0e2-4b7c-9507-3fb877c7edee",
   "metadata": {},
   "outputs": [
    {
     "name": "stdout",
     "output_type": "stream",
     "text": [
      "GRAPH ID:  22dXk1LmimwynteXiMdoHR2VjKXThT3qC45HdQcesNKh       GRAPH Version:  0    Graph Name:  None\n",
      "GRAPH ID:  2QTcMzQMZXFYfzmX8jc1MVVW2zhnUyUQWELB1AUetAH4       GRAPH Version:  43    Graph Name:  None\n",
      "GRAPH ID:  36XxLuPsJ87Fg7T4e1Jewdd4TDuPiLgRcWSQWD4vkUrs       GRAPH Version:  3    Graph Name:  None\n",
      "GRAPH ID:  3ZqP6zMFtb35kZeKbRgkJE3vhwgKUrmF6qZpeqJqC6k8       GRAPH Version:  2    Graph Name:  None\n",
      "GRAPH ID:  3bb48M8jvmZXCVjfySDhCVBQofLN8wBeRaNs9qrhFiyC       GRAPH Version:  0    Graph Name:  None\n",
      "GRAPH ID:  3ijSjB7vVbAzaKuEhwrMBwZzrdZQ2a3wXE27asPY6AuP       GRAPH Version:  13    Graph Name:  None\n",
      "GRAPH ID:  484PSuMWbHAv86xE8bTdAn35q2Yn28LBsaLHEpdhhoM9       GRAPH Version:  2    Graph Name:  None\n",
      "GRAPH ID:  4Tagri4zkwjNLGRaJ2XP73sVem2d6QW65tTdiQ5PMFck       GRAPH Version:  1    Graph Name:  None\n",
      "GRAPH ID:  4hhKNQi2zNd8ADk2dVLVTxKSy3sxafohv18LRTTSRtAA       GRAPH Version:  46    Graph Name:  None\n",
      "GRAPH ID:  4i9SqdhBRyf8ef61zX8GHodXjhhMQJabwLAYb9deWckY       GRAPH Version:  0    Graph Name:  None\n",
      "GRAPH ID:  4ijJxCohbBzsZ9sqroovQPZc9NSUmMSCjr8coNZvbJeJ       GRAPH Version:  2    Graph Name:  None\n",
      "GRAPH ID:  4mpNUMm4MFH2gfRCewrkae2KCr3DvNZmWCY1DWDrCNKf       GRAPH Version:  1    Graph Name:  None\n",
      "GRAPH ID:  5FBhcKD7J4QRfjXSo1BU3647cGjd2b9Hm9WZ1rWpwViV       GRAPH Version:  1    Graph Name:  None\n",
      "GRAPH ID:  5Q4BbX6TYgpYoFxQeVsZ7xS6s4yifx7FtZ8rR31UBFzr       GRAPH Version:  2    Graph Name:  None\n",
      "GRAPH ID:  5RTxGR4PEAcbCBADJeJ1ePg5EzLAT9FUU9b4aSYnhWQr       GRAPH Version:  0    Graph Name:  boris-banco\n",
      "GRAPH ID:  5ZgtcYichnye4wnK3vKz9V4uYzAe3y9j1A8z9kw3ZvjB       GRAPH Version:  2    Graph Name:  None\n",
      "GRAPH ID:  6LZn9zJsZabgydorfsx4GTeeGr7MvD7rVUhshaFp2cuS       GRAPH Version:  2    Graph Name:  None\n",
      "GRAPH ID:  6SSpjAdXfqUyshg1uKtE7ZQr87qUECsSvyef1vhwyHe       GRAPH Version:  0    Graph Name:  None\n",
      "GRAPH ID:  6UkrpYGJngkrXKmH6Kz3FRAJtK4RwmpPRNUugmpka12Q       GRAPH Version:  2    Graph Name:  None\n",
      "GRAPH ID:  6pQGeDcrAcK8zzC4Ub7G3PaPfiB5a7SjECWxXep4tLa1       GRAPH Version:  0    Graph Name:  aml-1-7p\n",
      "GRAPH ID:  73qa8dwcSmh91p9N2pjd8jnnusAN339pVbYRgCzLAiPN       GRAPH Version:  1    Graph Name:  None\n",
      "GRAPH ID:  7EQmydUeocB9xPAqSiBYgkGgofDNHSd2rG4WCbvCX6xF       GRAPH Version:  41    Graph Name:  None\n",
      "GRAPH ID:  7Jc5DwK5waAWVuWqVGK9NuQsjRmUL6Zx61dEYaUnrybR       GRAPH Version:  13    Graph Name:  None\n",
      "GRAPH ID:  7n2Ea7XQJRAZDbpy8b6aMd1ZgVpxNtns7nnD9FCkxC4D       GRAPH Version:  1    Graph Name:  None\n",
      "GRAPH ID:  7ne6NQMS1VKaZ4wNpX5KcoKwndpFLGf4YU6wFQ2zHinX       GRAPH Version:  13    Graph Name:  None\n",
      "GRAPH ID:  7p1WPtvw3fsJDxCZxo66bWdyERV8hAsXN1xeKg5JzHHY       GRAPH Version:  2    Graph Name:  None\n",
      "GRAPH ID:  8WZD1xETawrZiGXN5Lk8muRqURKfbpLKYJ7iht7NspZo       GRAPH Version:  2    Graph Name:  None\n",
      "GRAPH ID:  8Zt3SfjnHhNwi7HqXs4PvGp1Thnoc83NdP3JmwTz2VuJ       GRAPH Version:  2    Graph Name:  None\n",
      "GRAPH ID:  8mCj6CV3jAmbaZTRjwBPfsiLteu6hjvJe4swPVgszs67       GRAPH Version:  2    Graph Name:  None\n",
      "GRAPH ID:  8tyjJNXZdgetqZfg7tUAzb7GLqDtiFPfpbKcWkoiuv8K       GRAPH Version:  1    Graph Name:  None\n",
      "GRAPH ID:  8x3WJHxyMrMHJY6RZS4ygmvsacjKDKokndYucx19wbLc       GRAPH Version:  1    Graph Name:  None\n",
      "GRAPH ID:  9jcGcjxhaUKSUEyuXbWvLKRsVf2NQaRBwwP4htf2Gota       GRAPH Version:  0    Graph Name:  None\n",
      "GRAPH ID:  9qzxqk1Pu8dcSiYty4Zyi1Xr26h5gjW6FZsfe6hWT4iv       GRAPH Version:  1    Graph Name:  None\n",
      "GRAPH ID:  A5XVo4X4NnjihnYaS7dLvfojdB5d93BgoF4NFHWj3E2s       GRAPH Version:  2    Graph Name:  None\n",
      "GRAPH ID:  AUv4yikN3yiobAVeXrmxuqwKHyTcFuCABxTfpNzvpyD8       GRAPH Version:  1    Graph Name:  None\n",
      "GRAPH ID:  AWtygqjKGMdCekWaiQHmpan8aqN5t6REFXf5ZceQtNhn       GRAPH Version:  2    Graph Name:  None\n",
      "GRAPH ID:  AcB2NJ6qmVWKiwrHq9E9HgLvfdtgT4J1y5b6bW955hVA       GRAPH Version:  2    Graph Name:  None\n",
      "GRAPH ID:  AdnLKdeB2JTjnE6gEAbz1ARPArqSuVMiTcWrsDJxT1yE       GRAPH Version:  2    Graph Name:  None\n",
      "GRAPH ID:  AmieNsSw4A1TmLxq272wmbPjacXgH2cc39buo33BuDLD       GRAPH Version:  9    Graph Name:  None\n",
      "GRAPH ID:  BXvk7mTXXzmVkzk9PAhq2gch1scLYWjQ4qG6uZu4ZJ8L       GRAPH Version:  0    Graph Name:  None\n",
      "GRAPH ID:  Brb6MZTkfnpC3xF3WDoiireLV3pLA6kd6WwPaTU53Drs       GRAPH Version:  2    Graph Name:  None\n",
      "GRAPH ID:  BstbKLWK9gK5BYCZUCC29Z1cd1c8Su3CzEMFitrrYsBm       GRAPH Version:  1    Graph Name:  None\n",
      "GRAPH ID:  BtK6jYTJtn3ZSCwBTcAkmJ1rtXk64wQGF4L8gTPngZTk       GRAPH Version:  0    Graph Name:  None\n",
      "GRAPH ID:  BuZqWUSRyD1Vih3ZaPCuBMDErE69gUhpFbr7vKwJjS23       GRAPH Version:  1    Graph Name:  None\n",
      "GRAPH ID:  DBYvuGwDcLDaov4RkqwYn4et927yHNwhFvg2z1LauRXD       GRAPH Version:  0    Graph Name:  None\n",
      "GRAPH ID:  DN4zVdtPrgHSPPvFWhTdEVVXH5xMZG95VmJh5iu4TWH1       GRAPH Version:  1    Graph Name:  None\n",
      "GRAPH ID:  DP85KHycpBtBk6UB1iYVMMzqzXqnaY9CQzvdhuBtKKQZ       GRAPH Version:  0    Graph Name:  None\n",
      "GRAPH ID:  Dmw5hBL6XUkecjAVmAtwfkNhJ2ovuMYLUe4YKYUa3D1u       GRAPH Version:  1    Graph Name:  None\n",
      "GRAPH ID:  EQgCcFdd58QEdVWkrT6rYW873JCL13QAu5k9JRFSLcXc       GRAPH Version:  6    Graph Name:  None\n",
      "GRAPH ID:  EQhg1oF7k9N1YctsTcWZvdj8PvhGwqZf1Skpid3kH5DE       GRAPH Version:  0    Graph Name:  None\n",
      "GRAPH ID:  EXa2rkcs4yTfnip5Dk3MKZ7Kyi8gXes6KtpW3HVpGMQt       GRAPH Version:  8    Graph Name:  my_graph_DCR\n",
      "GRAPH ID:  EqtArFnD5tfuN2sfCihDXLntNe5wG9HTncBhmdLcxQrd       GRAPH Version:  3    Graph Name:  None\n",
      "GRAPH ID:  FWEjNE6zfCNBygQwwA4kWA85HbTWM6sFiCdjGEpzDswc       GRAPH Version:  1    Graph Name:  None\n",
      "GRAPH ID:  FjqsxVkeDJjV9mjiJikGsvwpH7Hgzag71xTupWNg22He       GRAPH Version:  10    Graph Name:  None\n",
      "GRAPH ID:  FkARq6VUTQvzHtxMXGafB52xAFTLqTXcMQLR4Jg9K34z       GRAPH Version:  4    Graph Name:  aml-1-7p\n",
      "GRAPH ID:  G8aujz1mXmDh4uUmix7jduYZ2nYaYKvaYtvNYBcPi5jn       GRAPH Version:  1    Graph Name:  aml-1-7p\n",
      "GRAPH ID:  GcoqoQVey4cvGQkF3XQJFoDskyXoGosXuTZWAiT7A1cJ       GRAPH Version:  2    Graph Name:  None\n",
      "GRAPH ID:  GhCQLmpyYCGHKo8CDpuhRtWM1E61evyD6hLRKNxneKS6       GRAPH Version:  5    Graph Name:  None\n",
      "GRAPH ID:  GmN4sG1UTjcFgwzAg8mYJW4vQoQTPWKfcgtUvjzgKfN1       GRAPH Version:  2    Graph Name:  None\n",
      "GRAPH ID:  Hd87nKdiJqfkJhaVDFixfu5C6Hr9gQ2xEvtQ7wwoyUnw       GRAPH Version:  1    Graph Name:  None\n",
      "GRAPH ID:  HrGLinhAMbEat7C3P5ZUaxupvRdpHDKE8e96CnouwPKT       GRAPH Version:  1    Graph Name:  None\n",
      "GRAPH ID:  J1i8a7zKdUeMbG7RKiqz2QLPD9PuAumYpa7iEb8vwPT7       GRAPH Version:  2    Graph Name:  None\n",
      "GRAPH ID:  JCwHxdqsTtHS8CRp8BZTVGZLhGgXS7ngoE4NncbsBsuY       GRAPH Version:  13    Graph Name:  None\n",
      "GRAPH ID:  cZX8zpFpYktWgRTDVZjPz5pExNLuGTH1GLQLsoDdDpR       GRAPH Version:  0    Graph Name:  None\n",
      "GRAPH ID:  waF5WomXFyyjLsYpiHsF8oCBo1Pm65rYiRQVytYq2hH       GRAPH Version:  3    Graph Name:  None\n",
      "--\n"
     ]
    }
   ],
   "source": [
    "\n",
    "#  DELETE ONE SPECIFIC GRAPH ONLY\n",
    "\n",
    "for l_database in my_client.databases():\n",
    "   for l_graph in my_client.get_database(name = l_database.name).graphs_in_database():\n",
    "      if ((l_database.name == DB_NAME) and (l_graph.name == GRAPH_NAME)):   \n",
    "         l_handle = my_client.get_database(name = l_database.name).get_graph_by_id(id = l_graph.graph_id)\n",
    "         l_handle.delete()\n",
    "\n",
    "for l_graph in my_client.graphs():\n",
    "   print(\"GRAPH ID: \", l_graph.graph_id, \"      GRAPH Version: \", l_graph.version, \"   Graph Name: \", l_graph.name)\n",
    "\n",
    "print(\"--\")\n"
   ]
  },
  {
   "cell_type": "code",
   "execution_count": null,
   "id": "cf9c16ec-913f-46a8-bccc-76fc92c54866",
   "metadata": {},
   "outputs": [],
   "source": [
    "\n",
    "#  DELETE ALL DATABASES\n",
    "\n",
    "for l_database in my_client.databases():\n",
    "   if (l_database.name != \"default\"):\n",
    "      my_client.get_database(name=l_database.name).delete_database()\n",
    "      print(\"--\")\n",
    "\n",
    "for l_database in my_client.databases():\n",
    "   print(\"DB ID: \", l_database.database_id, \"     DB Name: \", l_database.name)\n"
   ]
  },
  {
   "cell_type": "code",
   "execution_count": null,
   "id": "6e72729c-265b-40e4-a3ee-674b793bed81",
   "metadata": {},
   "outputs": [],
   "source": [
    "\n",
    "#  CREATE DATABASE\n",
    "\n",
    "my_database = my_client.create_database(name=DB_NAME)\n",
    "\n",
    "print(my_database.database_id)\n"
   ]
  },
  {
   "cell_type": "code",
   "execution_count": 9,
   "id": "2fc31da4-44c3-4bd3-b160-b315766dcd88",
   "metadata": {},
   "outputs": [
    {
     "name": "stdout",
     "output_type": "stream",
     "text": [
      "<_Graph my_graph, GamyqZZQGeNJi739Xcagvc9K7BppuNwzbbqArCciYzoB, 0>\n"
     ]
    }
   ],
   "source": [
    "\n",
    "#  CREATE GRAPH\n",
    "#\n",
    "my_graph = my_client.get_database(name=DB_NAME).create_graph(name=GRAPH_NAME, num_partitions=NUM_PARTITIONS)\n",
    "\n",
    "print(my_graph)\n"
   ]
  },
  {
   "cell_type": "code",
   "execution_count": null,
   "id": "c5db6505-7fc8-4779-b194-9ed8945b9a90",
   "metadata": {},
   "outputs": [],
   "source": [
    "\n",
    "#  CONNECT TO GRAPH\n",
    "\n",
    "my_graph, *_ = my_client.get_database(name=DB_NAME).find_graphs_by_name(GRAPH_NAME)\n",
    "\n",
    "print(my_graph)\n"
   ]
  },
  {
   "cell_type": "code",
   "execution_count": 7,
   "id": "e3fc4be4-8388-4d9b-a889-c0526a7b8962",
   "metadata": {},
   "outputs": [
    {
     "name": "stdout",
     "output_type": "stream",
     "text": [
      "Database Name: default                        Id: 31LJgi4MeHxKRw5s5proo1sz6HYU6RHquUmc1VEf583y\n",
      "   Graph Name: None                              Version: 0          Id: 22dXk1LmimwynteXiMdoHR2VjKXThT3qC45HdQcesNKh\n",
      "   Graph Name: None                              Version: 43         Id: 2QTcMzQMZXFYfzmX8jc1MVVW2zhnUyUQWELB1AUetAH4\n",
      "   Graph Name: None                              Version: 3          Id: 36XxLuPsJ87Fg7T4e1Jewdd4TDuPiLgRcWSQWD4vkUrs\n",
      "   Graph Name: None                              Version: 2          Id: 3ZqP6zMFtb35kZeKbRgkJE3vhwgKUrmF6qZpeqJqC6k8\n",
      "   Graph Name: None                              Version: 0          Id: 3bb48M8jvmZXCVjfySDhCVBQofLN8wBeRaNs9qrhFiyC\n",
      "   Graph Name: None                              Version: 13         Id: 3ijSjB7vVbAzaKuEhwrMBwZzrdZQ2a3wXE27asPY6AuP\n",
      "   Graph Name: None                              Version: 2          Id: 484PSuMWbHAv86xE8bTdAn35q2Yn28LBsaLHEpdhhoM9\n",
      "   Graph Name: None                              Version: 1          Id: 4Tagri4zkwjNLGRaJ2XP73sVem2d6QW65tTdiQ5PMFck\n",
      "   Graph Name: None                              Version: 46         Id: 4hhKNQi2zNd8ADk2dVLVTxKSy3sxafohv18LRTTSRtAA\n",
      "   Graph Name: None                              Version: 0          Id: 4i9SqdhBRyf8ef61zX8GHodXjhhMQJabwLAYb9deWckY\n",
      "   Graph Name: None                              Version: 2          Id: 4ijJxCohbBzsZ9sqroovQPZc9NSUmMSCjr8coNZvbJeJ\n",
      "   Graph Name: None                              Version: 1          Id: 4mpNUMm4MFH2gfRCewrkae2KCr3DvNZmWCY1DWDrCNKf\n",
      "   Graph Name: None                              Version: 1          Id: 5FBhcKD7J4QRfjXSo1BU3647cGjd2b9Hm9WZ1rWpwViV\n",
      "   Graph Name: None                              Version: 2          Id: 5Q4BbX6TYgpYoFxQeVsZ7xS6s4yifx7FtZ8rR31UBFzr\n",
      "   Graph Name: boris-banco                       Version: 0          Id: 5RTxGR4PEAcbCBADJeJ1ePg5EzLAT9FUU9b4aSYnhWQr\n",
      "   Graph Name: None                              Version: 2          Id: 5ZgtcYichnye4wnK3vKz9V4uYzAe3y9j1A8z9kw3ZvjB\n",
      "   Graph Name: None                              Version: 2          Id: 6LZn9zJsZabgydorfsx4GTeeGr7MvD7rVUhshaFp2cuS\n",
      "   Graph Name: None                              Version: 0          Id: 6SSpjAdXfqUyshg1uKtE7ZQr87qUECsSvyef1vhwyHe\n",
      "   Graph Name: None                              Version: 2          Id: 6UkrpYGJngkrXKmH6Kz3FRAJtK4RwmpPRNUugmpka12Q\n",
      "   Graph Name: aml-1-7p                          Version: 0          Id: 6pQGeDcrAcK8zzC4Ub7G3PaPfiB5a7SjECWxXep4tLa1\n",
      "   Graph Name: None                              Version: 1          Id: 73qa8dwcSmh91p9N2pjd8jnnusAN339pVbYRgCzLAiPN\n",
      "   Graph Name: None                              Version: 41         Id: 7EQmydUeocB9xPAqSiBYgkGgofDNHSd2rG4WCbvCX6xF\n",
      "   Graph Name: None                              Version: 13         Id: 7Jc5DwK5waAWVuWqVGK9NuQsjRmUL6Zx61dEYaUnrybR\n",
      "   Graph Name: None                              Version: 1          Id: 7n2Ea7XQJRAZDbpy8b6aMd1ZgVpxNtns7nnD9FCkxC4D\n",
      "   Graph Name: None                              Version: 13         Id: 7ne6NQMS1VKaZ4wNpX5KcoKwndpFLGf4YU6wFQ2zHinX\n",
      "   Graph Name: None                              Version: 2          Id: 7p1WPtvw3fsJDxCZxo66bWdyERV8hAsXN1xeKg5JzHHY\n",
      "   Graph Name: None                              Version: 2          Id: 8WZD1xETawrZiGXN5Lk8muRqURKfbpLKYJ7iht7NspZo\n",
      "   Graph Name: None                              Version: 2          Id: 8Zt3SfjnHhNwi7HqXs4PvGp1Thnoc83NdP3JmwTz2VuJ\n",
      "   Graph Name: None                              Version: 2          Id: 8mCj6CV3jAmbaZTRjwBPfsiLteu6hjvJe4swPVgszs67\n",
      "   Graph Name: None                              Version: 1          Id: 8tyjJNXZdgetqZfg7tUAzb7GLqDtiFPfpbKcWkoiuv8K\n",
      "   Graph Name: None                              Version: 1          Id: 8x3WJHxyMrMHJY6RZS4ygmvsacjKDKokndYucx19wbLc\n",
      "   Graph Name: None                              Version: 0          Id: 9jcGcjxhaUKSUEyuXbWvLKRsVf2NQaRBwwP4htf2Gota\n",
      "   Graph Name: None                              Version: 1          Id: 9qzxqk1Pu8dcSiYty4Zyi1Xr26h5gjW6FZsfe6hWT4iv\n",
      "   Graph Name: None                              Version: 2          Id: A5XVo4X4NnjihnYaS7dLvfojdB5d93BgoF4NFHWj3E2s\n",
      "   Graph Name: None                              Version: 1          Id: AUv4yikN3yiobAVeXrmxuqwKHyTcFuCABxTfpNzvpyD8\n",
      "   Graph Name: None                              Version: 2          Id: AWtygqjKGMdCekWaiQHmpan8aqN5t6REFXf5ZceQtNhn\n",
      "   Graph Name: None                              Version: 2          Id: AcB2NJ6qmVWKiwrHq9E9HgLvfdtgT4J1y5b6bW955hVA\n",
      "   Graph Name: None                              Version: 2          Id: AdnLKdeB2JTjnE6gEAbz1ARPArqSuVMiTcWrsDJxT1yE\n",
      "   Graph Name: None                              Version: 9          Id: AmieNsSw4A1TmLxq272wmbPjacXgH2cc39buo33BuDLD\n",
      "   Graph Name: None                              Version: 0          Id: BXvk7mTXXzmVkzk9PAhq2gch1scLYWjQ4qG6uZu4ZJ8L\n",
      "   Graph Name: None                              Version: 2          Id: Brb6MZTkfnpC3xF3WDoiireLV3pLA6kd6WwPaTU53Drs\n",
      "   Graph Name: None                              Version: 1          Id: BstbKLWK9gK5BYCZUCC29Z1cd1c8Su3CzEMFitrrYsBm\n",
      "   Graph Name: None                              Version: 0          Id: BtK6jYTJtn3ZSCwBTcAkmJ1rtXk64wQGF4L8gTPngZTk\n",
      "   Graph Name: None                              Version: 1          Id: BuZqWUSRyD1Vih3ZaPCuBMDErE69gUhpFbr7vKwJjS23\n",
      "   Graph Name: None                              Version: 0          Id: DBYvuGwDcLDaov4RkqwYn4et927yHNwhFvg2z1LauRXD\n",
      "   Graph Name: None                              Version: 1          Id: DN4zVdtPrgHSPPvFWhTdEVVXH5xMZG95VmJh5iu4TWH1\n",
      "   Graph Name: None                              Version: 0          Id: DP85KHycpBtBk6UB1iYVMMzqzXqnaY9CQzvdhuBtKKQZ\n",
      "   Graph Name: None                              Version: 1          Id: Dmw5hBL6XUkecjAVmAtwfkNhJ2ovuMYLUe4YKYUa3D1u\n",
      "   Graph Name: None                              Version: 6          Id: EQgCcFdd58QEdVWkrT6rYW873JCL13QAu5k9JRFSLcXc\n",
      "   Graph Name: None                              Version: 0          Id: EQhg1oF7k9N1YctsTcWZvdj8PvhGwqZf1Skpid3kH5DE\n",
      "   Graph Name: None                              Version: 3          Id: EqtArFnD5tfuN2sfCihDXLntNe5wG9HTncBhmdLcxQrd\n",
      "   Graph Name: None                              Version: 1          Id: FWEjNE6zfCNBygQwwA4kWA85HbTWM6sFiCdjGEpzDswc\n",
      "   Graph Name: None                              Version: 10         Id: FjqsxVkeDJjV9mjiJikGsvwpH7Hgzag71xTupWNg22He\n",
      "   Graph Name: aml-1-7p                          Version: 4          Id: FkARq6VUTQvzHtxMXGafB52xAFTLqTXcMQLR4Jg9K34z\n",
      "   Graph Name: aml-1-7p                          Version: 1          Id: G8aujz1mXmDh4uUmix7jduYZ2nYaYKvaYtvNYBcPi5jn\n",
      "   Graph Name: None                              Version: 2          Id: GcoqoQVey4cvGQkF3XQJFoDskyXoGosXuTZWAiT7A1cJ\n",
      "   Graph Name: None                              Version: 5          Id: GhCQLmpyYCGHKo8CDpuhRtWM1E61evyD6hLRKNxneKS6\n",
      "   Graph Name: None                              Version: 2          Id: GmN4sG1UTjcFgwzAg8mYJW4vQoQTPWKfcgtUvjzgKfN1\n",
      "   Graph Name: None                              Version: 1          Id: Hd87nKdiJqfkJhaVDFixfu5C6Hr9gQ2xEvtQ7wwoyUnw\n",
      "   Graph Name: None                              Version: 1          Id: HrGLinhAMbEat7C3P5ZUaxupvRdpHDKE8e96CnouwPKT\n",
      "   Graph Name: None                              Version: 2          Id: J1i8a7zKdUeMbG7RKiqz2QLPD9PuAumYpa7iEb8vwPT7\n",
      "   Graph Name: None                              Version: 13         Id: JCwHxdqsTtHS8CRp8BZTVGZLhGgXS7ngoE4NncbsBsuY\n",
      "   Graph Name: None                              Version: 0          Id: cZX8zpFpYktWgRTDVZjPz5pExNLuGTH1GLQLsoDdDpR\n",
      "   Graph Name: None                              Version: 3          Id: waF5WomXFyyjLsYpiHsF8oCBo1Pm65rYiRQVytYq2hH\n",
      "Database Name: my_db                          Id: 3vtxSLmouG7m6ntaDVRwjE2HCUfJ89e5nkoUNUn5zStp\n",
      "   Graph Name: my_graph                          Version: 1          Id: 91yr3NQDRHFD9AnV5ZD97EWc6AaR4cKttZegZ8vwy4gQ\n",
      "   Graph Name: my_graph_DCR                      Version: 8          Id: EXa2rkcs4yTfnip5Dk3MKZ7Kyi8gXes6KtpW3HVpGMQt\n",
      "\n",
      "--\n"
     ]
    }
   ],
   "source": [
    "\n",
    "#  Now that we share servers, get a better list of databases and graphs ..\n",
    "#\n",
    "\n",
    "for l_each_d in my_client.databases():\n",
    "   print(\"Database Name: %-28s   Id: %s\" % (l_each_d.name, l_each_d.database_id))\n",
    "      #\n",
    "   for l_each_g in my_client.get_database(name=l_each_d.name).graphs_in_database(): \n",
    "      print(\"   Graph Name: %-28s      Version: %-8d   Id: %s\" % (l_each_g.name, l_each_g.version, l_each_g.graph_id))\n",
    "\n",
    "\n",
    "print(\"\"  )\n",
    "print(\"--\")\n"
   ]
  },
  {
   "cell_type": "markdown",
   "id": "61556ce5-9044-42bc-bb13-80b6a514ae27",
   "metadata": {
    "tags": []
   },
   "source": [
    "# Create: Vertices/nodes, edges .."
   ]
  },
  {
   "cell_type": "code",
   "execution_count": null,
   "id": "f7efb47b-3c7d-45f3-acc8-ae29c3e2a1bf",
   "metadata": {},
   "outputs": [],
   "source": [
    "# import pandas as pd\n",
    "# \n",
    "# print(\"--\")\n"
   ]
  },
  {
   "cell_type": "code",
   "execution_count": 10,
   "id": "8e7ecf31-d69e-4b5a-8a37-0cfb4c32fd33",
   "metadata": {},
   "outputs": [
    {
     "name": "stdout",
     "output_type": "stream",
     "text": [
      "+----+----------------+----------------+---------+\n",
      "|    | airport_code   | airport_name   | LABEL   |\n",
      "|----+----------------+----------------+---------|\n",
      "|  0 | MKE            | Milwaukee      | Airport |\n",
      "|  1 | ORD            | Chicago O-Hare | Airport |\n",
      "|  2 | SJC            | San Jose       | Airport |\n",
      "|  3 | DEN            | Denver         | Airport |\n",
      "+----+----------------+----------------+---------+\n"
     ]
    }
   ],
   "source": [
    "\n",
    "#  Vertices/Nodes, Airports ..\n",
    "\n",
    "df_airports = pd.DataFrame([\n",
    "       #\n",
    "   [\"MKE\", \"Milwaukee\"               , \"Airport\"],\n",
    "   [\"ORD\", \"Chicago O-Hare\"          , \"Airport\"],\n",
    "   [\"SJC\", \"San Jose\"                , \"Airport\"],\n",
    "   [\"DEN\", \"Denver\"                  , \"Airport\"],\n",
    "       #\n",
    "   ], columns = [\"airport_code\", \"airport_name\", \"LABEL\"])\n",
    "\n",
    "print(tabulate(df_airports, headers='keys', tablefmt='psql'))\n"
   ]
  },
  {
   "cell_type": "code",
   "execution_count": 11,
   "id": "60eaac88-4dd5-47d3-94b3-0f5fd0b243f2",
   "metadata": {},
   "outputs": [
    {
     "name": "stdout",
     "output_type": "stream",
     "text": [
      "+----+------------+----------+------------+------------+----------+\n",
      "|    | START_ID   | END_ID   |   DISTANCE |   NUM_HOPS | TYPE     |\n",
      "|----+------------+----------+------------+------------+----------|\n",
      "|  0 | MKE        | ORD      |         66 |          1 | FLIES_TO |\n",
      "|  1 | ORD        | MKE      |         66 |          1 | FLIES_TO |\n",
      "|  2 | ORD        | DEN      |        886 |          1 | FLIES_TO |\n",
      "|  3 | DEN        | ORD      |        886 |          1 | FLIES_TO |\n",
      "|  4 | SJC        | DEN      |        948 |          1 | FLIES_TO |\n",
      "|  5 | DEN        | SJC      |        948 |          1 | FLIES_TO |\n",
      "|  6 | SJC        | ORD      |       1829 |          1 | FLIES_TO |\n",
      "+----+------------+----------+------------+------------+----------+\n"
     ]
    }
   ],
   "source": [
    "#  Create the edge, flights ..\n",
    "\n",
    "df_flights = pd.DataFrame([\n",
    "      #\n",
    "   [\"MKE\", \"ORD\",   66, 1, \"FLIES_TO\" ],\n",
    "   [\"ORD\", \"MKE\",   66, 1, \"FLIES_TO\" ],\n",
    "      #\n",
    "   [\"ORD\", \"DEN\",  886, 1, \"FLIES_TO\" ],\n",
    "   [\"DEN\", \"ORD\",  886, 1, \"FLIES_TO\" ],\n",
    "      #\n",
    "   [\"SJC\", \"DEN\",  948, 1, \"FLIES_TO\" ],                           #  Notice SJC flies to/from Denver\n",
    "   [\"DEN\", \"SJC\",  948, 1, \"FLIES_TO\" ],\n",
    "      #\n",
    "   [\"SJC\", \"ORD\", 1829, 1, \"FLIES_TO\" ],                           #  Notice SJC flies to ORD, but not ORD to SJC\n",
    "      #\n",
    "   ], columns = [\"START_ID\", \"END_ID\", \"DISTANCE\", \"NUM_HOPS\", \"TYPE\"])\n",
    "\n",
    "print(tabulate(df_flights, headers='keys', tablefmt='psql'))\n"
   ]
  },
  {
   "cell_type": "code",
   "execution_count": 12,
   "id": "49e8f39e-4b4f-4377-a8ac-52a1ad07094f",
   "metadata": {},
   "outputs": [
    {
     "name": "stderr",
     "output_type": "stream",
     "text": [
      "/opt/conda/lib/python3.8/site-packages/katana/remote/aio/import_data/dataframe_importer/__init__.py:251: UserWarning: unsupported dtype 'object' for 'airport_code' was coerced to 'string'\n",
      "  warnings.warn(f\"unsupported dtype '{original_dtype}' for '{id_col.name}' was coerced to '{id_col.dtype}'\")\n",
      "/opt/conda/lib/python3.8/site-packages/katana/remote/aio/import_data/dataframe_importer/__init__.py:251: UserWarning: unsupported dtype 'object' for 'START_ID' was coerced to 'string'\n",
      "  warnings.warn(f\"unsupported dtype '{original_dtype}' for '{id_col.name}' was coerced to '{id_col.dtype}'\")\n",
      "/opt/conda/lib/python3.8/site-packages/katana/remote/aio/import_data/dataframe_importer/__init__.py:251: UserWarning: unsupported dtype 'object' for 'END_ID' was coerced to 'string'\n",
      "  warnings.warn(f\"unsupported dtype '{original_dtype}' for '{id_col.name}' was coerced to '{id_col.dtype}'\")\n"
     ]
    },
    {
     "data": {
      "application/vnd.jupyter.widget-view+json": {
       "model_id": "99069946c0f64fddaf01bef96d2b4ec9",
       "version_major": 2,
       "version_minor": 0
      },
      "text/plain": [
       "          0/? [?op/s]"
      ]
     },
     "metadata": {},
     "output_type": "display_data"
    },
    {
     "name": "stdout",
     "output_type": "stream",
     "text": [
      "--\n"
     ]
    },
    {
     "name": "stderr",
     "output_type": "stream",
     "text": [
      "\n",
      "Host 0 errors:\n",
      "/opt/conda/lib/python3.8/site-packages/katana/distributed/dask_integration/__init__.py:30: UserWarning: Cannot connect to Ray, falling back to Dask\n",
      "  warnings.warn(\"Cannot connect to Ray, falling back to Dask\")\n"
     ]
    }
   ],
   "source": [
    "\n",
    "# Import the 2 previously created Python DataFrames into KatanaGraph ..\n",
    "\n",
    "with import_data.DataFrameImporter(my_graph) as df_importer:   \n",
    "    \n",
    "   df_importer.nodes_dataframe(df_airports,                    #  Aiport set of Nodes\n",
    "      id_column             = \"airport_code\",\n",
    "      id_space              = \"Airport\",  \n",
    "      label                 = \"Airport\",  \n",
    "      )\n",
    "   \n",
    "   df_importer.edges_dataframe(df_flights,                     #  Our Edge, specifying the relationship between Airport --> FLIES_TO --> Airport\n",
    "      source_id_space       = \"Airport\", \n",
    "      destination_id_space  = \"Airport\",   \n",
    "      source_column         = \"START_ID\",\n",
    "      destination_column    = \"END_ID\",\n",
    "      type                  = \"FLIES_TO\"\n",
    "      )\n",
    "\n",
    "   df_importer.insert()\n",
    "\n",
    "print(\"--\")\n"
   ]
  },
  {
   "cell_type": "code",
   "execution_count": null,
   "id": "b9bbf601-a25b-4dd9-8f99-83ec1a576505",
   "metadata": {},
   "outputs": [
    {
     "data": {
      "application/vnd.jupyter.widget-view+json": {
       "model_id": "a3aae2f7b1b042929723e1fdfba09706",
       "version_major": 2,
       "version_minor": 0
      },
      "text/plain": [
       "          0/? [?op/s]"
      ]
     },
     "metadata": {},
     "output_type": "display_data"
    }
   ],
   "source": [
    "\n",
    "#  What's in the graph ..\n",
    "\n",
    "l_result1 = my_graph.query_unpaginated(\"\"\"\n",
    "   MATCH (n) \n",
    "   RETURN n\n",
    "   \"\"\")\n",
    "print(tabulate(l_result1, headers='keys', tablefmt='psql'))\n"
   ]
  },
  {
   "cell_type": "code",
   "execution_count": null,
   "id": "a468544d-3635-4db2-9b19-894d3afd1812",
   "metadata": {},
   "outputs": [],
   "source": [
    "\n",
    "l_result2 = my_graph.query(\"\"\"\n",
    "   MATCH ( n ) - [ r ] -> ( m )\n",
    "   RETURN r\n",
    "   \"\"\")\n",
    "print(tabulate(l_result2, headers='keys', tablefmt='psql'))\n"
   ]
  },
  {
   "cell_type": "code",
   "execution_count": null,
   "id": "6160bd57-15aa-4ff0-9269-9431e6f7dd2b",
   "metadata": {},
   "outputs": [],
   "source": [
    "\n",
    "#  What's in the edge .. \n",
    "\n",
    "l_result = my_graph.query(\"\"\"\n",
    "\n",
    "   MATCH ( n )  - [r] ->  (m)\n",
    "   RETURN ID(n) AS FROM, ID(m) AS TO, r.DISTANCE AS DISTANCE, r.NUM_HOPS AS NUM_HOPS, TYPE(r) AS my_type, LABELS(n) AS FROM_LABELS, LABELS(m) AS TO_LABELS\n",
    "   \n",
    "   \"\"\")\n",
    "\n",
    "print(tabulate(l_result, headers='keys', tablefmt='psql'))\n"
   ]
  },
  {
   "cell_type": "code",
   "execution_count": null,
   "id": "6f8aef3b-d0b3-4b0b-98a2-eaf5c58d7380",
   "metadata": {},
   "outputs": [],
   "source": []
  },
  {
   "cell_type": "code",
   "execution_count": null,
   "id": "a8942bca-e965-45da-9f11-23fc801ab8d0",
   "metadata": {},
   "outputs": [],
   "source": []
  }
 ],
 "metadata": {
  "kernelspec": {
   "display_name": "Python 3 (ipykernel)",
   "language": "python",
   "name": "python3"
  },
  "language_info": {
   "codemirror_mode": {
    "name": "ipython",
    "version": 3
   },
   "file_extension": ".py",
   "mimetype": "text/x-python",
   "name": "python",
   "nbconvert_exporter": "python",
   "pygments_lexer": "ipython3",
   "version": "3.8.13"
  }
 },
 "nbformat": 4,
 "nbformat_minor": 5
}
