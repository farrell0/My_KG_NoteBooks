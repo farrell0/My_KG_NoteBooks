{
 "cells": [
  {
   "cell_type": "code",
   "execution_count": null,
   "id": "57a6c20f-3419-4768-92a0-f106c5931689",
   "metadata": {},
   "outputs": [],
   "source": [
    "\n",
    "#  Notebook with a number of diagnostic/test routines ..\n",
    "#\n",
    "\n"
   ]
  },
  {
   "cell_type": "markdown",
   "id": "212d8ad3-a876-4638-b95e-a0702f897587",
   "metadata": {},
   "source": [
    "#  Setup: Display options .."
   ]
  },
  {
   "cell_type": "code",
   "execution_count": 1,
   "id": "8a38ebd7-d1d9-47a8-955c-a8270b024543",
   "metadata": {},
   "outputs": [
    {
     "name": "stdout",
     "output_type": "stream",
     "text": [
      "Exception reporting mode: Minimal\n"
     ]
    },
    {
     "data": {
      "text/html": [],
      "text/plain": [
       "<IPython.core.display.HTML object>"
      ]
     },
     "metadata": {},
     "output_type": "display_data"
    },
    {
     "name": "stdout",
     "output_type": "stream",
     "text": [
      "--\n"
     ]
    }
   ],
   "source": [
    "\n",
    "%xmode Minimal\n",
    "\n",
    "#  Setting display options \n",
    "\n",
    "import pandas as pd\n",
    "import numpy  as np\n",
    "   #\n",
    "pd.set_option(\"display.width\", 480)\n",
    "\n",
    "#  Sets horizontal scroll for wide outputs\n",
    "#\n",
    "from IPython.display import display, HTML\n",
    "display(HTML(\"\"))\n",
    "\n",
    "from tabulate import tabulate\n",
    "\n",
    "\n",
    "print(\"--\")\n"
   ]
  },
  {
   "cell_type": "markdown",
   "id": "8ac9bc73-49ab-44bf-a21a-a2a589622a51",
   "metadata": {},
   "source": [
    "#  Setup: Connectivity .."
   ]
  },
  {
   "cell_type": "code",
   "execution_count": 2,
   "id": "e87b75ba-c072-4111-8cca-4b4f394a0fce",
   "metadata": {},
   "outputs": [
    {
     "name": "stdout",
     "output_type": "stream",
     "text": [
      "<katana.remote.sync_wrappers.Client object at 0x7f01b02067f0>\n",
      "0.9.0+20230315T145956Z.dbe1b6788.dev\n"
     ]
    }
   ],
   "source": [
    "\n",
    "from katana import remote\n",
    "\n",
    "my_client = remote.Client()\n",
    "\n",
    "print(my_client)\n",
    "print(my_client.server_version)\n"
   ]
  },
  {
   "cell_type": "code",
   "execution_count": 3,
   "id": "d3a77f99-f11b-4105-ab43-17ce605b15e8",
   "metadata": {},
   "outputs": [
    {
     "name": "stdout",
     "output_type": "stream",
     "text": [
      "--\n"
     ]
    }
   ],
   "source": [
    "\n",
    "NUM_PARTITIONS  = 3\n",
    "   #\n",
    "DB_NAME         = \"my_db\"\n",
    "GRAPH_NAME      = \"my_graph\"\n",
    "\n",
    "print(\"--\")\n"
   ]
  },
  {
   "cell_type": "code",
   "execution_count": 4,
   "id": "c3217f3b-dd84-47a3-ae2a-5033d122604a",
   "metadata": {},
   "outputs": [
    {
     "name": "stdout",
     "output_type": "stream",
     "text": [
      "<_Graph my_graph, EVW1P2kCKvso8wrkChZF1jr25YumM78N3X97EFW693n9, 3>\n"
     ]
    }
   ],
   "source": [
    "\n",
    "#  CONNECT TO GRAPH\n",
    "\n",
    "my_graph, *_ = my_client.get_database(name=DB_NAME).find_graphs_by_name(GRAPH_NAME)\n",
    "\n",
    "print(my_graph)\n"
   ]
  },
  {
   "cell_type": "code",
   "execution_count": 5,
   "id": "e576c04e-9cd8-41e0-a1a3-ae09397e4f87",
   "metadata": {},
   "outputs": [
    {
     "name": "stdout",
     "output_type": "stream",
     "text": [
      "Database Name: my_db                          Id: 3YyFKVuT2gAKxY3G4Va8Ya6iS2PGqFzrgFnBrDfLQVnr\n",
      "   Graph Name: my_graph_BC                       Version: 1          Id: 26UMAq28pADQpiEhUUVKdFLQoA35skqkxqNXATdmmKHA\n",
      "   Graph Name: my_graph_BB                       Version: 10         Id: 8uMk1KV4nYYYttCpuFCPwJmYqqcghxFrg7aZUBT1RBQ5\n",
      "   Graph Name: my_graph                          Version: 3          Id: EVW1P2kCKvso8wrkChZF1jr25YumM78N3X97EFW693n9\n",
      "Database Name: default                        Id: GXSdMSrsNymmP9Rr1C8Qir9G81kHSD5HVChvkr8DrTEN\n",
      "\n",
      "--\n"
     ]
    }
   ],
   "source": [
    "\n",
    "#  Now that we share servers, get a better list of databases and graphs ..\n",
    "#\n",
    "\n",
    "for l_each_d in my_client.databases():\n",
    "   print(\"Database Name: %-28s   Id: %s\" % (l_each_d.name, l_each_d.database_id))\n",
    "      #\n",
    "   for l_each_g in my_client.get_database(name=l_each_d.name).graphs_in_database(): \n",
    "      print(\"   Graph Name: %-28s      Version: %-8d   Id: %s\" % (l_each_g.name, l_each_g.version, l_each_g.graph_id))\n",
    "\n",
    "\n",
    "print(\"\"  )\n",
    "print(\"--\")\n"
   ]
  },
  {
   "cell_type": "markdown",
   "id": "389bd2f0-1e74-47e2-a568-6550294d490d",
   "metadata": {},
   "source": [
    "#  Step 00: Checking our results .."
   ]
  },
  {
   "cell_type": "code",
   "execution_count": 6,
   "id": "5d17c412-4a0c-450c-a0c4-1a3016e3c587",
   "metadata": {},
   "outputs": [
    {
     "data": {
      "application/vnd.jupyter.widget-view+json": {
       "model_id": "66c964fb870b4f7baad92ea1e8d8a30f",
       "version_major": 2,
       "version_minor": 0
      },
      "text/plain": [
       "          0/? [?op/s]"
      ]
     },
     "metadata": {},
     "output_type": "display_data"
    },
    {
     "name": "stderr",
     "output_type": "stream",
     "text": [
      "/opt/conda/lib/python3.8/site-packages/katana/remote/result_set.py:69: UserWarning: Pandas doesn't allow columns to be created via a new attribute name - see https://pandas.pydata.org/pandas-docs/stable/indexing.html#attribute-access\n",
      "  self._response = response\n"
     ]
    },
    {
     "data": {
      "application/vnd.jupyter.widget-view+json": {
       "model_id": "c0bf309e57724bf19515c222a68e579f",
       "version_major": 2,
       "version_minor": 0
      },
      "text/plain": [
       "          0/? [?op/s]"
      ]
     },
     "metadata": {},
     "output_type": "display_data"
    },
    {
     "name": "stdout",
     "output_type": "stream",
     "text": [
      "\n",
      "Node, CELL_LINE                                Number of records in graph: 1457    \n",
      "Node, DRUG                                     Number of records in graph: 223     \n",
      "Node, GDSC                                     Number of records in graph: 266     \n",
      "Node, GENE                                     Number of records in graph: 719     \n",
      "\n",
      "Edge, FOR_DRUG                                 Number of records in graph: 238     \n",
      "Edge, HAS_CELL_LINE                            Number of records in graph: 255360  \n",
      "Edge, HAS_EXPRESSION_OBSERVATION               Number of records in graph: 391017  \n",
      "Edge, HAS_METHYLATION_OBSERVATION              Number of records in graph: 426500  \n",
      "Edge, HAS_MUTATION_OBSERVATION                 Number of records in graph: 12422852\n",
      "\n",
      "--\n"
     ]
    }
   ],
   "source": [
    "\n",
    "#  Check counts\n",
    "#\n",
    "\n",
    "l_query  = \"\"\"\n",
    "\n",
    "   MATCH (n) \n",
    "   WITH DISTINCT LABELS(n) AS labels, COUNT(n) AS cnt\n",
    "   UNWIND labels AS label\n",
    "   RETURN label, SUM(cnt) AS cnt\n",
    "   ORDER BY label\n",
    "   \n",
    "   \"\"\".format()\n",
    "      #\n",
    "l_result1 = my_graph.query_unpaginated(l_query)\n",
    "\n",
    "l_query  = \"\"\"\n",
    "\n",
    "   MATCH (m)-[r]->(n) \n",
    "   WITH DISTINCT TYPE(r) AS type, COUNT(r) AS cnt\n",
    "   RETURN type, cnt\n",
    "   ORDER BY type\n",
    "   \n",
    "   \"\"\".format()\n",
    "      #\n",
    "l_result2 = my_graph.query_unpaginated(l_query)\n",
    "\n",
    "\n",
    "print()\n",
    "\n",
    "for l_each in l_result1.itertuples():\n",
    "   print(\"Node, %-38s   Number of records in graph: %-8d\" % (l_each.label, l_each.cnt) )\n",
    "\n",
    "print()\n",
    "\n",
    "for l_each in l_result2.itertuples():\n",
    "   print(\"Edge, %-38s   Number of records in graph: %-8d\" % (l_each.type, l_each.cnt) )   \n",
    "\n",
    "print()\n",
    "\n",
    "\n",
    "print(\"--\")\n",
    "\n"
   ]
  },
  {
   "cell_type": "code",
   "execution_count": 7,
   "id": "c4795c79-145b-46ea-ac7e-ea29131325c8",
   "metadata": {},
   "outputs": [
    {
     "data": {
      "application/vnd.jupyter.widget-view+json": {
       "model_id": "e56c043bece74356863c480d35581c28",
       "version_major": 2,
       "version_minor": 0
      },
      "text/plain": [
       "          0/? [?op/s]"
      ]
     },
     "metadata": {},
     "output_type": "display_data"
    },
    {
     "name": "stdout",
     "output_type": "stream",
     "text": [
      "                                  neighbor     nodeType                 properties\n",
      "0                                           [CELL_LINE]         id,label,tcga_code\n",
      "1   ([GENE]::[HAS_EXPRESSION_OBSERVATION])  [CELL_LINE]           TYPE,observation\n",
      "2  ([GENE]::[HAS_METHYLATION_OBSERVATION])  [CELL_LINE]           TYPE,observation\n",
      "3     ([GENE]::[HAS_MUTATION_OBSERVATION])  [CELL_LINE]  TYPE,mutation,observation\n",
      "4                                                [DRUG]            id,label,smiles\n",
      "5                                                [GDSC]                   id,label\n",
      "6                     ([DRUG]::[FOR_DRUG])       [GDSC]                       TYPE\n",
      "7           ([CELL_LINE]::[HAS_CELL_LINE])       [GDSC]                 TYPE,label\n",
      "8                                                [GENE]                         id\n",
      "\n",
      "--\n"
     ]
    }
   ],
   "source": [
    "\n",
    "#  Output the schema from our graph\n",
    "#\n",
    "\n",
    "l_result = my_graph.query_unpaginated(\"CALL graph.schema() RETURN *\")\n",
    "   #\n",
    "print(l_result)\n",
    "\n",
    "print()\n",
    "print(\"--\")\n"
   ]
  },
  {
   "cell_type": "code",
   "execution_count": null,
   "id": "b25c81e2-6ef3-47a0-b53b-82ccf875f57b",
   "metadata": {},
   "outputs": [],
   "source": [
    "\n",
    "#  List all node types with node counts\n",
    "\n",
    "l_query  = \"\"\"\n",
    "   MATCH (n) \n",
    "   WITH DISTINCT LABELS(n) AS labels, COUNT(n) AS cnt\n",
    "   UNWIND labels AS label\n",
    "   RETURN label, SUM(cnt) AS cnt\n",
    "   ORDER BY label\n",
    "   \"\"\".format()\n",
    "\n",
    "l_result = my_graph.query_unpaginated(l_query)\n",
    "   #\n",
    "print(tabulate(l_result, headers='keys', tablefmt='psql'))\n"
   ]
  },
  {
   "cell_type": "code",
   "execution_count": null,
   "id": "d3b4d8c0-6857-4970-8be5-0c775c06f160",
   "metadata": {},
   "outputs": [],
   "source": []
  },
  {
   "cell_type": "code",
   "execution_count": null,
   "id": "a4f3624c-2285-4910-8cf6-8536be815181",
   "metadata": {},
   "outputs": [],
   "source": []
  },
  {
   "cell_type": "code",
   "execution_count": null,
   "id": "b28e9bc9-9e4d-4c81-ad4f-eb3896f51095",
   "metadata": {},
   "outputs": [],
   "source": []
  },
  {
   "cell_type": "markdown",
   "id": "c5384ffe-6229-4808-8176-cdc8b896868f",
   "metadata": {},
   "source": [
    "#  Step 00:  Using DuckDB"
   ]
  },
  {
   "cell_type": "code",
   "execution_count": null,
   "id": "2faaa703-2d46-45da-a27f-3513da2b79ee",
   "metadata": {},
   "outputs": [],
   "source": [
    "\n",
    "\n",
    "#  Using DuckDB.  See,\n",
    "#     https://duckdb.org/docs/api/python/overview.html\n",
    "#\n",
    "\n",
    "import duckdb\n",
    "\n",
    "pd_drug = pd_nodes[\"DRUG\"]\n",
    "   #\n",
    "duckdb.sql(\"SELECT * FROM pd_drug ORDER BY id LIMIT 2\")\n",
    "           \n",
    "           \n",
    "#  Sample output,\n",
    "#\n",
    "#     ┌──────────┬─────────────────────────────────────────────────────────────┬─────────┐\n",
    "#     │    id    │                           smiles                            │  label  │\n",
    "#     │ varchar  │                           varchar                           │ varchar │\n",
    "#     ├──────────┼─────────────────────────────────────────────────────────────┼─────────┤\n",
    "#     │ 10027278 │ NCC(=O)Nc1ccc(-n2nc(C(F)(F)F)cc2-c2ccc3c(ccc4ccccc43)c2)cc1 │ DRUG    │\n",
    "#     │ 10074640 │ Cc1ccc(NC(=O)c2ccc(CN3CCN(C)CC3)cc2)cc1Nc1nc(-c2cccnc2)cs1  │ DRUG    │\n",
    "#     └──────────┴─────────────────────────────────────────────────────────────┴─────────┘\n",
    "\n",
    "           "
   ]
  }
 ],
 "metadata": {
  "kernelspec": {
   "display_name": "Python 3 (ipykernel)",
   "language": "python",
   "name": "python3"
  },
  "language_info": {
   "codemirror_mode": {
    "name": "ipython",
    "version": 3
   },
   "file_extension": ".py",
   "mimetype": "text/x-python",
   "name": "python",
   "nbconvert_exporter": "python",
   "pygments_lexer": "ipython3",
   "version": "3.8.13"
  }
 },
 "nbformat": 4,
 "nbformat_minor": 5
}
