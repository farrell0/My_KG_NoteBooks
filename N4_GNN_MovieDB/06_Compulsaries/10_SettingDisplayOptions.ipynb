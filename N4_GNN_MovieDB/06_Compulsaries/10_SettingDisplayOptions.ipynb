{
 "cells": [
  {
   "cell_type": "code",
   "execution_count": null,
   "id": "1887e621-cd56-4d25-ab4b-7e484f969b7d",
   "metadata": {},
   "outputs": [],
   "source": [
    "\n",
    "#  Setting display options \n",
    "\n",
    "import pandas as pd\n",
    "   #\n",
    "pd.set_option(\"display.width\", 480)\n",
    "\n",
    "from tabulate import tabulate\n",
    "\n",
    "   ###\n",
    "\n",
    "l_result = [{ \"col1\": 20, \"col2\": 30}]\n",
    "   #\n",
    "print(tabulate(l_result, headers='keys', tablefmt='psql'))\n",
    "\n",
    "\n",
    "print(\"--\")\n"
   ]
  },
  {
   "cell_type": "code",
   "execution_count": 11,
   "id": "6daf2f58-5c6e-4bb2-884e-148a91b00843",
   "metadata": {},
   "outputs": [
    {
     "data": {
      "application/vnd.jupyter.widget-view+json": {
       "model_id": "010e6c2c4a2848cfa6d0f77ce1b5eaf4",
       "version_major": 2,
       "version_minor": 0
      },
      "text/plain": [
       "SelectMultiple(description='Exclude', index=(0,), options=('China', 'Japan', 'Taiwan', 'South Korea', 'India',…"
      ]
     },
     "metadata": {},
     "output_type": "display_data"
    }
   ],
   "source": [
    "\n",
    "#  Presenting an HTML style drop down list box inside your NoteBook\n",
    "#\n",
    "#     .  \n",
    "\n",
    "import ipywidgets as widgets\n",
    "\n",
    "location_widget = widgets.SelectMultiple(\n",
    "                  options=['China', 'Japan', 'Taiwan', 'South Korea', 'India', 'Singapore', 'Thailand'],\n",
    "                  value=['China'],\n",
    "                  description='Exclude',\n",
    "                  disabled=False\n",
    "                  )\n",
    "location_widget\n"
   ]
  },
  {
   "cell_type": "code",
   "execution_count": null,
   "id": "81e1a9d7-e574-4954-82ec-628f7976c6a9",
   "metadata": {},
   "outputs": [],
   "source": [
    "\n",
    "location_widget\n",
    "\n"
   ]
  },
  {
   "cell_type": "code",
   "execution_count": null,
   "id": "4aa498e1-d672-4c3e-941e-fdc1098d393e",
   "metadata": {},
   "outputs": [],
   "source": [
    "\n",
    "locations = location_widget.value\n",
    "\n",
    "print(locations)"
   ]
  }
 ],
 "metadata": {
  "kernelspec": {
   "display_name": "Python 3 (ipykernel)",
   "language": "python",
   "name": "python3"
  },
  "language_info": {
   "codemirror_mode": {
    "name": "ipython",
    "version": 3
   },
   "file_extension": ".py",
   "mimetype": "text/x-python",
   "name": "python",
   "nbconvert_exporter": "python",
   "pygments_lexer": "ipython3",
   "version": "3.8.13"
  }
 },
 "nbformat": 4,
 "nbformat_minor": 5
}
