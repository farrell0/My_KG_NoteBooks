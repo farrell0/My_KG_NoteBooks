{
 "cells": [
  {
   "cell_type": "markdown",
   "id": "dee4b4c1-688b-4b5e-b195-5a2f4668599e",
   "metadata": {},
   "source": [
    "#  Setup stuff:  Connectivity "
   ]
  },
  {
   "cell_type": "code",
   "execution_count": null,
   "id": "6da09346-5fcf-4c45-a7bd-ef07ce9f9a59",
   "metadata": {},
   "outputs": [],
   "source": [
    "\n",
    "from katana import remote\n",
    "from katana.remote import import_data\n",
    "\n",
    "my_client=remote.Client()\n",
    "\n",
    "print(my_client)\n"
   ]
  },
  {
   "cell_type": "code",
   "execution_count": null,
   "id": "19bc460e-bdee-4199-9f7d-4b1207726980",
   "metadata": {},
   "outputs": [],
   "source": [
    "\n",
    "NUM_PARTITIONS  = 3\n",
    "   #\n",
    "DB_NAME         = \"my_db\"\n",
    "GRAPH_NAME      = \"my_graph\"\n",
    "\n",
    "print(\"--\")\n"
   ]
  },
  {
   "cell_type": "code",
   "execution_count": 8,
   "id": "f4306efe-2554-4f15-8cf5-700452c878b3",
   "metadata": {},
   "outputs": [
    {
     "name": "stdout",
     "output_type": "stream",
     "text": [
      "<_Graph my_graph, GgiD32tpHD4dkRjywMZZUiccEjsBxGVq4nNGSgcz7qKF, 4>\n"
     ]
    }
   ],
   "source": [
    "\n",
    "#  CONNECT TO GRAPH\n",
    "\n",
    "my_graph, *_ = my_client.get_database(name=DB_NAME).find_graphs_by_name(GRAPH_NAME)\n",
    "\n",
    "print(my_graph)\n"
   ]
  },
  {
   "cell_type": "markdown",
   "id": "167c4208-0f54-470f-9dac-0a10c9f10774",
   "metadata": {},
   "source": [
    "#  Sample Cyphers: Vertices"
   ]
  },
  {
   "cell_type": "code",
   "execution_count": null,
   "id": "35763edd-134f-4ceb-8c66-19c9c9c48eae",
   "metadata": {},
   "outputs": [],
   "source": [
    "\n",
    "#  Cypher clauses\n",
    "#\n",
    "#     RETURN ..\n",
    "#     ORDER BY ..\n",
    "#     SKIP ..\n",
    "#     LIMIT ..\n"
   ]
  },
  {
   "cell_type": "code",
   "execution_count": 12,
   "id": "be368507-fc1d-42e6-b757-8434e2282a1a",
   "metadata": {},
   "outputs": [
    {
     "data": {
      "application/vnd.jupyter.widget-view+json": {
       "model_id": "8c0c66505b0b492dab628891f125d88d",
       "version_major": 2,
       "version_minor": 0
      },
      "text/plain": [
       "          0/? [?op/s]"
      ]
     },
     "metadata": {},
     "output_type": "display_data"
    },
    {
     "data": {
      "text/plain": [
       "5"
      ]
     },
     "metadata": {},
     "output_type": "display_data"
    },
    {
     "data": {
      "application/vnd.jupyter.widget-view+json": {
       "model_id": "e2dc4a3b841a4b2182684912321a96a3",
       "version_major": 2,
       "version_minor": 0
      },
      "text/plain": [
       "          0/? [?op/s]"
      ]
     },
     "metadata": {},
     "output_type": "display_data"
    },
    {
     "name": "stdout",
     "output_type": "stream",
     "text": [
      "5\n",
      "<class 'numpy.int64'>\n"
     ]
    }
   ],
   "source": [
    "\n",
    "#  Get a count of all nodes\n",
    "\n",
    "display(my_graph.num_nodes())\n",
    "\n",
    "\n",
    "l_query  = \"\"\"\n",
    "   MATCH (n) \n",
    "   RETURN COUNT(*) AS cnt\n",
    "   \"\"\".format()\n",
    "\n",
    "l_count = my_graph.query(l_query)[\"cnt\"][0]\n",
    "\n",
    "\n",
    "print(l_count)\n",
    "print(type(l_count))\n",
    "\n"
   ]
  },
  {
   "cell_type": "code",
   "execution_count": 13,
   "id": "acaaac0d-1a7c-4900-8468-459e0b739cb5",
   "metadata": {},
   "outputs": [
    {
     "data": {
      "application/vnd.jupyter.widget-view+json": {
       "model_id": "f5bafc16355444619d827347129e2bd3",
       "version_major": 2,
       "version_minor": 0
      },
      "text/plain": [
       "          0/? [?op/s]"
      ]
     },
     "metadata": {},
     "output_type": "display_data"
    },
    {
     "name": "stdout",
     "output_type": "stream",
     "text": [
      "2\n"
     ]
    }
   ],
   "source": [
    "\n",
    "#  Get a count of all node types\n",
    "\n",
    "\n",
    "l_query  = \"\"\"\n",
    "   MATCH (n) \n",
    "   RETURN COUNT(DISTINCT LABELS(n)) AS cnt\n",
    "   \"\"\".format()\n",
    "\n",
    "l_count = my_graph.query(l_query)[\"cnt\"][0]\n",
    "\n",
    "print(l_count)\n"
   ]
  },
  {
   "cell_type": "code",
   "execution_count": 14,
   "id": "047fafb0-31e6-4065-a8d3-c1bd6f62b003",
   "metadata": {},
   "outputs": [
    {
     "data": {
      "application/vnd.jupyter.widget-view+json": {
       "model_id": "48a52daa1e5f4ec79f06459d22d35823",
       "version_major": 2,
       "version_minor": 0
      },
      "text/plain": [
       "          0/? [?op/s]"
      ]
     },
     "metadata": {},
     "output_type": "display_data"
    },
    {
     "name": "stdout",
     "output_type": "stream",
     "text": [
      "      LABELS(n)\n",
      "0  [Restaurant]\n",
      "1     [Airport]\n"
     ]
    }
   ],
   "source": [
    "\n",
    "#  List all node types\n",
    "\n",
    "l_query  = \"\"\"\n",
    "   MATCH (n)\n",
    "   RETURN DISTINCT LABELS(n) AS my_type\n",
    "   \"\"\".format()\n",
    "\n",
    "l_result = my_graph.query(l_query)\n",
    "\n",
    "\n",
    "for l_each in l_resulkt.\n",
    "\n",
    "\n",
    "\n",
    "\n",
    "\n",
    "\n",
    "print(l_result)"
   ]
  },
  {
   "cell_type": "code",
   "execution_count": null,
   "id": "53f97029-84b8-46d9-9b8b-c6bbf1bee0bd",
   "metadata": {},
   "outputs": [],
   "source": [
    "#  LIST ALL VERTICES WITH NODE COUNTS\n",
    "\n",
    "l_result1 = my_graph.query(\"\"\"\n",
    "\n",
    "   MATCH (a) \n",
    "   WITH DISTINCT LABELS(a) AS temp, COUNT(a) AS tempCnt\n",
    "   UNWIND temp AS label\n",
    "   RETURN label, SUM(tempCnt) AS cnt\n",
    "   ORDER BY label\n",
    "   \n",
    "   \"\"\")\n",
    "\n",
    "display(print(l_result1))\n",
    "\n",
    "\n",
    "l_result2 = my_graph.query(\"\"\"\n",
    "\n",
    "   MATCH (a) \n",
    "   WITH COUNT(a) AS tempCnt\n",
    "   RETURN tempCnt\n",
    "   \n",
    "   \"\"\")\n",
    "\n",
    "display(print(l_result2))\n"
   ]
  },
  {
   "cell_type": "markdown",
   "id": "14723dda-e98f-4122-aea5-6caf2e588ee8",
   "metadata": {},
   "source": [
    "#  Sample Cyphers: Edges"
   ]
  },
  {
   "cell_type": "code",
   "execution_count": null,
   "id": "ca4aad89-92b7-4fba-a544-001da941de86",
   "metadata": {},
   "outputs": [],
   "source": [
    "#  COUNT ALL EDGES\n",
    "\n",
    "display(my_graph.num_edges())\n",
    "\n",
    "l_result1 = my_graph.query(\"\"\"\n",
    "    MATCH (n) - [r] -> (m)\n",
    "    RETURN COUNT(r)\n",
    "    \"\"\")\n",
    "\n",
    "print(l_result1)\n"
   ]
  },
  {
   "cell_type": "code",
   "execution_count": null,
   "id": "99f04b70-6e9e-42f1-9ecf-eecbe4be2456",
   "metadata": {},
   "outputs": [],
   "source": [
    "#  LIST ALL VERTICES WITH COUNTS\n",
    "\n",
    "l_result1 = my_graph.query(\"\"\"\n",
    "\n",
    "   MATCH (m)-[r]->(n) \n",
    "   WITH DISTINCT TYPE(r) AS temp, COUNT(r) AS tempCnt\n",
    "   RETURN temp, tempCnt\n",
    "   ORDER BY temp\n",
    "\n",
    "   \"\"\")\n",
    "\n",
    "display(print(l_result1))\n",
    "\n",
    "\n",
    "l_result2 = my_graph.query(\"\"\"\n",
    "\n",
    "   MATCH (m)-[r]->(n) \n",
    "   WITH COUNT(r) AS tempCnt\n",
    "   RETURN tempCnt\n",
    "\n",
    "   \"\"\")\n",
    "\n",
    "display(print(l_result2))\n"
   ]
  },
  {
   "cell_type": "markdown",
   "id": "67677cae-8b4b-4d8c-b1f0-811d67147969",
   "metadata": {},
   "source": [
    "#  Sample Cyphers: Properties"
   ]
  },
  {
   "cell_type": "code",
   "execution_count": null,
   "id": "313f34a5-d1f3-4a2d-83a4-15f35d5767d1",
   "metadata": {},
   "outputs": [],
   "source": [
    "#  RETURN PROPERTIES/KEYS FROM ALL VERTICES\n",
    "\n",
    "l_result = my_graph.query(\"\"\"\n",
    "   MATCH (n)\n",
    "   RETURN DISTINCT labels(n) AS label, keys(n)\n",
    "   \"\"\")\n",
    "\n",
    "display(l_result.table())\n",
    "\n",
    "display(print(\"--\"))"
   ]
  },
  {
   "cell_type": "code",
   "execution_count": null,
   "id": "0f0f6b63-f2b9-4cf7-8f9b-e1d03291bc4c",
   "metadata": {},
   "outputs": [],
   "source": [
    "#  RETURN PROPERTIES/KEYS FROM ALL EDGES\n",
    "\n",
    "l_result = my_graph.query(\"\"\"\n",
    "   MATCH (n) - [r] -> (m)\n",
    "   RETURN DISTINCT type(r) AS type, keys(r)\n",
    "   \"\"\")\n",
    "\n",
    "# print(type(result))\n",
    "\n",
    "display(l_result.table())\n"
   ]
  },
  {
   "cell_type": "markdown",
   "id": "4e2a2144-c7e9-4ae6-b22d-f44805c5e211",
   "metadata": {},
   "source": [
    "#  Sample Cyphers: Diagnostics"
   ]
  },
  {
   "cell_type": "code",
   "execution_count": null,
   "id": "70e3ad47-736c-424c-9656-7a35bcc52453",
   "metadata": {},
   "outputs": [],
   "source": [
    "\n",
    "#  Also at,\n",
    "#     http://localhost:8080/v2/widgets/katana-frontend\n",
    "\n",
    "my_client.widgets().operations()\n",
    "\n",
    "# my_client.widgets().databases()\n",
    "# my_client.widgets().dashboard()                #  No-op currently\n"
   ]
  },
  {
   "cell_type": "code",
   "execution_count": null,
   "id": "1e6932ad-f512-49df-8cba-9565fed820f5",
   "metadata": {},
   "outputs": [],
   "source": [
    "my_graph.query(\"CALL graph.schema() RETURN *\")\n"
   ]
  },
  {
   "cell_type": "code",
   "execution_count": null,
   "id": "0e166a76-a306-4d40-ab79-87d636be7f1b",
   "metadata": {},
   "outputs": [],
   "source": [
    "# result.raw() went away\n",
    "#\n",
    "#  to pretty print a result as JSON, use ..\n",
    "\n",
    "#  Just to get some data ..\n",
    "#\n",
    "l_result = my_graph.query(\"\"\"\n",
    "\n",
    "   MATCH (n) - [r] -> (m)\n",
    "   RETURN DISTINCT type(r) AS type, keys(r)\n",
    "   \n",
    "   \"\"\")\n",
    "\n",
    "\n",
    "import json\n",
    "\n",
    "l_result_json = json.loads(l_result.to_json())\n",
    "l_result_strn = json.dumps(l_result_json, indent=2)\n",
    "\n",
    "print(l_result_strn)"
   ]
  },
  {
   "cell_type": "code",
   "execution_count": null,
   "id": "4b5a95fd-8f26-4ec4-b71c-c489154a1b31",
   "metadata": {},
   "outputs": [],
   "source": [
    "#  Produce a visual graph\n",
    "\n",
    "result = my_graph.query(\"\"\"\n",
    "\n",
    "   MATCH (x) -[r]-> (a)\n",
    "   RETURN x, r AS rel, a\n",
    "   LIMIT 100 \n",
    "   \n",
    "   \"\"\",\n",
    "   contextualize=True)\n",
    "\n",
    "result.view()\n"
   ]
  },
  {
   "cell_type": "markdown",
   "id": "88aa8f4e-e131-445e-b9c5-767580ac9a3f",
   "metadata": {},
   "source": [
    "#  More Cypher "
   ]
  },
  {
   "cell_type": "code",
   "execution_count": null,
   "id": "cfd2a773-db78-4cb5-a839-b0cb86233b2a",
   "metadata": {},
   "outputs": [],
   "source": [
    "#  Parameterized query, works with (Airports) ..\n",
    "\n",
    "l_fname = \"MKE\"\n",
    "\n",
    "l_query  = \"\"\"\n",
    "\n",
    "   MATCH (n: Airport) \n",
    "   WHERE n.id = '{0}'\n",
    "   RETURN n.airport_name\n",
    "\n",
    "   \"\"\".format(l_fname)\n",
    "\n",
    "l_result1 = my_graph.query(l_query)\n",
    "\n",
    "display(print(l_result1[0:5]))\n"
   ]
  },
  {
   "cell_type": "code",
   "execution_count": null,
   "id": "f60b7f2d-8608-4d70-98c6-23840faac735",
   "metadata": {},
   "outputs": [],
   "source": [
    "\n",
    "#  Regex query, works with (Airports) ..\n",
    "\n",
    "#  0.4, returns zero data ..\n",
    "\n",
    "l_fname = \"/^M*/\"\n",
    "\n",
    "l_query  = \"\"\"\n",
    "\n",
    "   MATCH (n: Airport) \n",
    "   WHERE n.airport_name =~ '{0}'\n",
    "   RETURN n.id, n.airport_name\n",
    "\n",
    "   \"\"\".format(l_fname)\n",
    "\n",
    "l_result1 = my_graph.query(l_query)\n",
    "\n",
    "display(print(l_result1[0:5]))"
   ]
  }
 ],
 "metadata": {
  "kernelspec": {
   "display_name": "Python 3 (ipykernel)",
   "language": "python",
   "name": "python3"
  },
  "language_info": {
   "codemirror_mode": {
    "name": "ipython",
    "version": 3
   },
   "file_extension": ".py",
   "mimetype": "text/x-python",
   "name": "python",
   "nbconvert_exporter": "python",
   "pygments_lexer": "ipython3",
   "version": "3.8.13"
  }
 },
 "nbformat": 4,
 "nbformat_minor": 5
}
