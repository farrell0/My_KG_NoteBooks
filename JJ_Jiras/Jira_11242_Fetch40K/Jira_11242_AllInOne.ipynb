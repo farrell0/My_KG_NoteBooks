{
 "cells": [
  {
   "cell_type": "code",
   "execution_count": null,
   "id": "d776f754-ef98-4cbd-a423-647c483341ce",
   "metadata": {},
   "outputs": [],
   "source": [
    "\n",
    "#  Here we demonstrate the following Dask DataFrame techniques;\n",
    "#\n",
    "#     .  Test, How to fetch data from a graph\n",
    "#\n"
   ]
  },
  {
   "cell_type": "markdown",
   "id": "9fb5f518-6e7b-4b73-a833-f8ea40262866",
   "metadata": {},
   "source": [
    "#  Part 01:  Setup, generate data"
   ]
  },
  {
   "cell_type": "code",
   "execution_count": null,
   "id": "682150e3-6a50-4197-a239-80d1d2ea6edd",
   "metadata": {},
   "outputs": [],
   "source": [
    "\n",
    "NUM_PARTITIONS  = 3\n",
    "NUM_ROWS        = 40000\n",
    "\n",
    "print(\"--\")\n"
   ]
  },
  {
   "cell_type": "code",
   "execution_count": null,
   "id": "0416c10d-a1cb-433d-ad5e-85498aaa1744",
   "metadata": {},
   "outputs": [],
   "source": [
    "\n",
    "import numpy as np\n",
    "import pandas as pd\n",
    "   #\n",
    "import dask.array as da\n",
    "import dask.dataframe as dd\n",
    "   #\n",
    "from dask.dataframe import from_pandas\n",
    "\n",
    "from tabulate import tabulate\n",
    "\n",
    "print(\"--\")\n"
   ]
  },
  {
   "cell_type": "code",
   "execution_count": 4,
   "id": "c4c88322-8b40-4c26-9b01-60fadd32cdd8",
   "metadata": {},
   "outputs": [
    {
     "name": "stdout",
     "output_type": "stream",
     "text": [
      "Row (1) of (40000) total rows.   Col1: (   0)   Col2: (Item number: 0)\n",
      "Row (2) of (40000) total rows.   Col1: (   1)   Col2: (Item number: 1)\n",
      "Row (3) of (40000) total rows.   Col1: (   2)   Col2: (Item number: 2)\n",
      "Row (4) of (40000) total rows.   Col1: (   3)   Col2: (Item number: 3)\n",
      "--\n"
     ]
    }
   ],
   "source": [
    "\n",
    "\n",
    "#  Generates (NUM_ROWS) rows of data\n",
    "#\n",
    "\n",
    "l_row = {\"col1\": list(), \"col2\": list()}\n",
    "   #\n",
    "for l_cntr in range(NUM_ROWS):\n",
    "   l_row[\"col1\"].append(l_cntr)\n",
    "   l_row[\"col2\"].append(\"Item number: \" + str(l_cntr))\n",
    "    \n",
    "pd_data = pd.DataFrame(l_row, columns = [\"col1\", \"col2\"])\n",
    "dd_data = from_pandas(pd_data, npartitions = NUM_PARTITIONS)\n",
    "\n",
    "\n",
    "l_cntr = 0\n",
    "   #\n",
    "for l_each in dd_data.itertuples():\n",
    "   l_cntr += 1\n",
    "      #\n",
    "   if (l_cntr <5):\n",
    "      print(\"Row (%d) of (%d) total rows.   Col1: (%4d)   Col2: (%s)\" % (l_cntr, len(dd_data), l_each.col1, l_each.col2))\n",
    "        \n",
    "print(\"--\")\n",
    "\n"
   ]
  },
  {
   "cell_type": "markdown",
   "id": "8bbdb7f3-d36a-4109-a089-714e0148233e",
   "metadata": {},
   "source": [
    "#  Part 02:  Create a graph"
   ]
  },
  {
   "cell_type": "code",
   "execution_count": 5,
   "id": "d39f46cf-334f-42d3-9fc6-b0440fb199b9",
   "metadata": {},
   "outputs": [
    {
     "name": "stdout",
     "output_type": "stream",
     "text": [
      "<katana_enterprise.remote.sync_wrappers.Client object at 0x7f2e987fe250>\n"
     ]
    }
   ],
   "source": [
    "\n",
    "from katana import remote\n",
    "from katana.remote import import_data\n",
    "\n",
    "my_client = remote.Client()\n",
    "\n",
    "print(my_client)\n"
   ]
  },
  {
   "cell_type": "code",
   "execution_count": 6,
   "id": "beec5fcc-7c18-43ca-8a07-1ac343a74340",
   "metadata": {},
   "outputs": [
    {
     "name": "stdout",
     "output_type": "stream",
     "text": [
      "--\n"
     ]
    }
   ],
   "source": [
    "\n",
    "NUM_PARTITIONS  = 3\n",
    "   #\n",
    "DB_NAME         = \"my_db\"\n",
    "GRAPH_NAME      = \"my_graph\" \n",
    "\n",
    "print(\"--\")\n"
   ]
  },
  {
   "cell_type": "code",
   "execution_count": 7,
   "id": "73bf229e-a447-4771-ac6a-3c74eecb9381",
   "metadata": {},
   "outputs": [
    {
     "name": "stdout",
     "output_type": "stream",
     "text": [
      "--\n"
     ]
    }
   ],
   "source": [
    "\n",
    "#  DELETE ALL GRAPHS\n",
    "\n",
    "for l_database in my_client.databases():\n",
    "   for l_graph in my_client.get_database(name=l_database.name).graphs_in_database():\n",
    "      l_handle=my_client.get_database(name=l_database.name).get_graph_by_id(id=l_graph.graph_id)\n",
    "      l_handle.delete()\n",
    "\n",
    "for l_graph in my_client.graphs():\n",
    "   print(\"GRAPH ID: \", l_graph.graph_id, \"      GRAPH Version: \", l_graph.version)\n",
    "\n",
    "print(\"--\")\n"
   ]
  },
  {
   "cell_type": "code",
   "execution_count": null,
   "id": "131298d0-5cb4-4b62-8413-5e5571ef4b6a",
   "metadata": {},
   "outputs": [],
   "source": [
    "\n",
    "#  DELETE ALL DATABASES\n",
    "\n",
    "for l_database in my_client.databases():\n",
    "   if (l_database.name != \"default\"):\n",
    "      my_client.get_database(name=l_database.name).delete_database()\n",
    "      print(\"--\")\n",
    "\n",
    "for l_database in my_client.databases():\n",
    "   print(\"DB ID: \", l_database.database_id, \"     DB Name: \", l_database.name)\n"
   ]
  },
  {
   "cell_type": "code",
   "execution_count": 9,
   "id": "4b708e18-dcc4-4e8e-b508-de70687066f8",
   "metadata": {},
   "outputs": [
    {
     "name": "stdout",
     "output_type": "stream",
     "text": [
      "APZZqzBeU532GbGbAM8UxbaJNYSRSSSd8zZ5DG7K1HA2\n"
     ]
    }
   ],
   "source": [
    "\n",
    "#  CREATE DATABASE\n",
    "\n",
    "my_database = my_client.create_database(name=DB_NAME)\n",
    "\n",
    "print(my_database.database_id)\n"
   ]
  },
  {
   "cell_type": "code",
   "execution_count": 10,
   "id": "828d62e9-1cf8-4eee-9147-f351961b95f4",
   "metadata": {},
   "outputs": [
    {
     "name": "stdout",
     "output_type": "stream",
     "text": [
      "<_Graph my_graph, 4QYz5CMGyvafefW9qJCftMCku7S3WM6mCZSYCpMNDcFz, 0>\n"
     ]
    }
   ],
   "source": [
    "\n",
    "#  CREATE GRAPHS\n",
    "\n",
    "my_graph=my_client.get_database(name=DB_NAME).create_graph(name=GRAPH_NAME, num_partitions=NUM_PARTITIONS)\n",
    "\n",
    "print(my_graph)\n"
   ]
  },
  {
   "cell_type": "markdown",
   "id": "018453bc-385a-41cb-9d4f-6f578886b2ce",
   "metadata": {},
   "source": [
    "#  Part 03:  Import into the graph"
   ]
  },
  {
   "cell_type": "code",
   "execution_count": 11,
   "id": "8a7e4b85-372f-491c-84b1-fc7714788163",
   "metadata": {},
   "outputs": [
    {
     "name": "stderr",
     "output_type": "stream",
     "text": [
      "UserWarning: dtype for DataFrame column 'col2' is 'object'. Will be inferred as string.\n"
     ]
    },
    {
     "data": {
      "application/vnd.jupyter.widget-view+json": {
       "model_id": "1bda58aa4c2d49e182a524edac94b222",
       "version_major": 2,
       "version_minor": 0
      },
      "text/plain": [
       "          0/? [?op/s]"
      ]
     },
     "metadata": {},
     "output_type": "display_data"
    },
    {
     "data": {
      "application/vnd.jupyter.widget-view+json": {
       "model_id": "788d01c31063410ea8babd4e23c5761d",
       "version_major": 2,
       "version_minor": 0
      },
      "text/plain": [
       "          0/? [?op/s]"
      ]
     },
     "metadata": {},
     "output_type": "display_data"
    },
    {
     "name": "stdout",
     "output_type": "stream",
     "text": [
      "--\n"
     ]
    }
   ],
   "source": [
    "\n",
    "with import_data.DataFrameImporter(my_graph) as df_importer:\n",
    "    \n",
    "   #  Movies\n",
    "   #\n",
    "   df_importer.nodes_dataframe(\n",
    "      dd_data[[\"col1\", \"col2\"]],\n",
    "      id_column  = \"col1\",\n",
    "      id_space   = \"dd_data\"\n",
    "      )\n",
    "\n",
    "   df_importer.insert()\n",
    "\n",
    "\n",
    "print(\"--\")\n"
   ]
  },
  {
   "cell_type": "code",
   "execution_count": 12,
   "id": "b2f49097-92db-4c90-b76c-199b5a7ca20b",
   "metadata": {},
   "outputs": [
    {
     "data": {
      "application/vnd.jupyter.widget-view+json": {
       "model_id": "b82964f9ed43452f8acf4fe4167da31e",
       "version_major": 2,
       "version_minor": 0
      },
      "text/plain": [
       "          0/? [?op/s]"
      ]
     },
     "metadata": {},
     "output_type": "display_data"
    },
    {
     "data": {
      "text/plain": [
       "'Number of Graph Nodes: 40000'"
      ]
     },
     "metadata": {},
     "output_type": "display_data"
    },
    {
     "data": {
      "application/vnd.jupyter.widget-view+json": {
       "model_id": "8fbda342560b4712b75c8808e5d12920",
       "version_major": 2,
       "version_minor": 0
      },
      "text/plain": [
       "          0/? [?op/s]"
      ]
     },
     "metadata": {},
     "output_type": "display_data"
    },
    {
     "data": {
      "text/plain": [
       "'Number of Graph Edges: 0'"
      ]
     },
     "metadata": {},
     "output_type": "display_data"
    }
   ],
   "source": [
    "\n",
    "display(\"Number of Graph Nodes: %d\" % (my_graph.num_nodes()))\n",
    "display(\"Number of Graph Edges: %s\" % (my_graph.num_edges()))\n",
    "\n",
    "#  Sample outpt,\n",
    "#\n",
    "#     'Number of Graph Nodes: 40000'\n",
    "#     'Number of Graph Edges: 0'\n"
   ]
  },
  {
   "cell_type": "markdown",
   "id": "131e2410-26d9-4d2a-9070-447396fead5f",
   "metadata": {},
   "source": [
    "#  Part 04:  Run a traversal, return results"
   ]
  },
  {
   "cell_type": "code",
   "execution_count": 13,
   "id": "e88c9f33-436c-44a3-ab44-63df3486d2ed",
   "metadata": {},
   "outputs": [
    {
     "data": {
      "application/vnd.jupyter.widget-view+json": {
       "model_id": "5d48f02a71b746609ac20cc9f48d5ad8",
       "version_major": 2,
       "version_minor": 0
      },
      "text/plain": [
       "          0/? [?op/s]"
      ]
     },
     "metadata": {},
     "output_type": "display_data"
    },
    {
     "name": "stdout",
     "output_type": "stream",
     "text": [
      "+----+--------+-----------------+\n",
      "|    |   col1 | col2            |\n",
      "|----+--------+-----------------|\n",
      "|  0 |      1 | Item number: 1  |\n",
      "|  1 |      5 | Item number: 5  |\n",
      "|  2 |     13 | Item number: 13 |\n",
      "|  3 |     17 | Item number: 17 |\n",
      "|  4 |     18 | Item number: 18 |\n",
      "|  5 |     24 | Item number: 24 |\n",
      "|  6 |     30 | Item number: 30 |\n",
      "|  7 |     32 | Item number: 32 |\n",
      "|  8 |     35 | Item number: 35 |\n",
      "|  9 |     36 | Item number: 36 |\n",
      "+----+--------+-----------------+\n"
     ]
    }
   ],
   "source": [
    "\n",
    "#  Look at the data, scale: 10 rows\n",
    "\n",
    "l_rows = 10\n",
    "\n",
    "l_query  = \"\"\"\n",
    "   MATCH (n) \n",
    "   RETURN n.col1 AS col1, n.col2 AS col2\n",
    "   LIMIT {0}\n",
    "   \"\"\".format(l_rows)\n",
    "\n",
    "dd_result1 = my_graph.query(l_query)\n",
    "\n",
    "\n",
    "print(tabulate(dd_result1, headers='keys', tablefmt='psql'))\n",
    "\n",
    "#  Sample output,\n",
    "#\n",
    "#     +----+--------+-----------------+\n",
    "#     |    |   col1 | col2            |\n",
    "#     |----+--------+-----------------|\n",
    "#     |  0 |      1 | Item number: 1  |\n",
    "#     |  1 |      6 | Item number: 6  |\n",
    "#     |  2 |      8 | Item number: 8  |\n",
    "#     |  3 |     14 | Item number: 14 |\n",
    "#     |  4 |     17 | Item number: 17 |\n",
    "#     |  5 |     21 | Item number: 21 |\n",
    "#     |  6 |     22 | Item number: 22 |\n",
    "#     |  7 |     26 | Item number: 26 |\n",
    "#     |  8 |     28 | Item number: 28 |\n",
    "#     |  9 |     30 | Item number: 30 |\n",
    "#     +----+--------+-----------------+\n"
   ]
  },
  {
   "cell_type": "code",
   "execution_count": null,
   "id": "50455568-89d3-4516-ace5-c4a5411ca3a9",
   "metadata": {},
   "outputs": [
    {
     "data": {
      "application/vnd.jupyter.widget-view+json": {
       "model_id": "ca482855d546447cbaab15a5034d7199",
       "version_major": 2,
       "version_minor": 0
      },
      "text/plain": [
       "          0/? [?op/s]"
      ]
     },
     "metadata": {},
     "output_type": "display_data"
    },
    {
     "name": "stdout",
     "output_type": "stream",
     "text": [
      "Pandas(Index=0, col1=None, col2='Item number: 1')\n",
      "Pandas(Index=1, col1=None, col2='Item number: 5')\n",
      "Pandas(Index=2, col1=None, col2='Item number: 13')\n",
      "Pandas(Index=3, col1=None, col2='Item number: 17')\n",
      "Pandas(Index=4, col1=None, col2='Item number: 18')\n",
      "Pandas(Index=5, col1=None, col2='Item number: 24')\n",
      "Pandas(Index=6, col1=None, col2='Item number: 30')\n",
      "Pandas(Index=7, col1=None, col2='Item number: 32')\n",
      "Pandas(Index=8, col1=None, col2='Item number: 35')\n"
     ]
    }
   ],
   "source": [
    "\n",
    "#  Return (NUM_ROWS: 40,000) rows.\n",
    "#\n",
    "#     This as step 1 when we want to validate contents, or use graph data\n",
    "#     for ML routines, other.\n",
    "#\n",
    "#     You should see the Python kernel hang, become unresponsive.\n",
    "#        You'll see the upper-right GIG wheel hang. Or, just try running\n",
    "#        the next cell; it's hung.\n",
    "\n",
    "\n",
    "l_rows = 40000                                #  My original use case, Hangs\n",
    "#  l_rows = 5000                                    #  Takes 10 (?) seconds, then runs/continues\n",
    "\n",
    "l_query  = \"\"\"\n",
    "   MATCH (n) \n",
    "   RETURN n.ol1 AS col1, n.col2 AS col2\n",
    "   LIMIT {0}\n",
    "   \"\"\".format(l_rows)\n",
    "\n",
    "dd_result2 = my_graph.query(l_query)\n",
    "\n",
    "\n",
    "l_cntr = 0\n",
    "   #\n",
    "for l_each in dd_result2.itertuples():\n",
    "   l_cntr += 1  \n",
    "      #\n",
    "   if (l_cntr < 10):\n",
    "      print(l_each)\n",
    "\n"
   ]
  },
  {
   "cell_type": "code",
   "execution_count": null,
   "id": "409e4943-f54a-4315-8629-17a13f645c98",
   "metadata": {},
   "outputs": [],
   "source": [
    "\n",
    "print(\"--\")\n"
   ]
  }
 ],
 "metadata": {
  "kernelspec": {
   "display_name": "Python 3 (ipykernel)",
   "language": "python",
   "name": "python3"
  },
  "language_info": {
   "codemirror_mode": {
    "name": "ipython",
    "version": 3
   },
   "file_extension": ".py",
   "mimetype": "text/x-python",
   "name": "python",
   "nbconvert_exporter": "python",
   "pygments_lexer": "ipython3",
   "version": "3.8.13"
  }
 },
 "nbformat": 4,
 "nbformat_minor": 5
}
