{
 "cells": [
  {
   "cell_type": "code",
   "execution_count": 80,
   "id": "bb4d746f-328c-42b1-87bd-75ee681009dd",
   "metadata": {},
   "outputs": [
    {
     "name": "stdout",
     "output_type": "stream",
     "text": [
      "--\n"
     ]
    }
   ],
   "source": [
    "\n",
    "from tabulate import tabulate\n",
    "\n",
    "\n",
    "class MyHistory:\n",
    "  \n",
    "   def __init__(self):\n",
    "      self.__l_histarr = []\n",
    "      self.current     = 0\n",
    "    \n",
    "   def add(self, i_str):\n",
    "      self.__l_histarr.append(i_str)\n",
    "        \n",
    "   def clear(self):\n",
    "      self.__l_histarr = []\n",
    "        \n",
    "\n",
    "   def __iter__(self):\n",
    "      return self\n",
    "\n",
    "   def __next__(self): \n",
    "      self.current += 1\n",
    "      if (self.current <= len(self.__l_histarr)):\n",
    "         print(\"QQQ\")\n",
    "         print(self.__l_histarr[self.current -1])\n",
    "         print(\"QQQ\")\n",
    "         return self.__l_histarr[1][self.current -1]\n",
    "      else:\n",
    "         self.current = 0\n",
    "         raise StopIteration\n",
    "\n",
    "\n",
    "   def __str__(self):\n",
    "      return(str(self.__l_histarr))\n",
    "\n",
    "\n",
    "l_history = MyHistory() \n",
    "\n",
    "print(\"--\")\n",
    "\n"
   ]
  },
  {
   "cell_type": "code",
   "execution_count": 79,
   "id": "91912cf7-6412-480a-8094-7d537de63207",
   "metadata": {},
   "outputs": [
    {
     "name": "stdout",
     "output_type": "stream",
     "text": [
      "QQQ\n",
      "QQQ\n",
      "-\n",
      "E\n",
      "E\n",
      "-\n"
     ]
    }
   ],
   "source": [
    "\n",
    "l_history.clear()\n",
    "\n",
    "l_history.add(\"DDD\")\n",
    "l_history.add(\"EEE\")\n",
    "\n",
    "#  print(l_history)\n",
    "print(tabulate(l_history))\n",
    "\n",
    "#  l_history.clear()\n",
    "#  \n",
    "#  l_history.add(\"FFF\")\n",
    "#  \n",
    "#  print(l_history)\n",
    "\n",
    "\n",
    "#  print(l_history)\n",
    "\n"
   ]
  },
  {
   "cell_type": "code",
   "execution_count": 60,
   "id": "5c6bbdc9-4006-4db4-a114-f7a0b867f40e",
   "metadata": {},
   "outputs": [
    {
     "name": "stdout",
     "output_type": "stream",
     "text": [
      "['DDD', 'EEE']\n"
     ]
    }
   ],
   "source": [
    "\n",
    "\n",
    "print(l_history)\n",
    "\n"
   ]
  },
  {
   "cell_type": "code",
   "execution_count": 62,
   "id": "11354f6d-1e29-4fae-9b8a-05a0a60d2a2c",
   "metadata": {},
   "outputs": [
    {
     "name": "stdout",
     "output_type": "stream",
     "text": [
      "-  -  -  -  -  -\n",
      "F  F  F  F  F  F\n",
      "-  -  -  -  -  -\n"
     ]
    }
   ],
   "source": [
    "\n",
    "print(tabulate(l_history))\n",
    "\n"
   ]
  },
  {
   "cell_type": "code",
   "execution_count": 69,
   "id": "724e58e8-e194-4c62-9a61-0a78f212a408",
   "metadata": {},
   "outputs": [
    {
     "name": "stdout",
     "output_type": "stream",
     "text": [
      " FFFFFF\n"
     ]
    }
   ],
   "source": [
    "\n",
    "\n",
    "for c in l_history:\n",
    "    print(\" \" + c)\n",
    "    \n",
    "    \n",
    "    "
   ]
  },
  {
   "cell_type": "code",
   "execution_count": null,
   "id": "2511b91a-c1c3-441c-9259-cf93cc052589",
   "metadata": {},
   "outputs": [],
   "source": []
  },
  {
   "cell_type": "code",
   "execution_count": null,
   "id": "97d68454-bc0c-451d-b2f7-f5fe5f3336d6",
   "metadata": {},
   "outputs": [],
   "source": []
  },
  {
   "cell_type": "code",
   "execution_count": null,
   "id": "7ff37beb-d11d-472a-9f4c-1d5f79f97898",
   "metadata": {},
   "outputs": [],
   "source": []
  }
 ],
 "metadata": {
  "kernelspec": {
   "display_name": "Python 3 (ipykernel)",
   "language": "python",
   "name": "python3"
  },
  "language_info": {
   "codemirror_mode": {
    "name": "ipython",
    "version": 3
   },
   "file_extension": ".py",
   "mimetype": "text/x-python",
   "name": "python",
   "nbconvert_exporter": "python",
   "pygments_lexer": "ipython3",
   "version": "3.8.13"
  }
 },
 "nbformat": 4,
 "nbformat_minor": 5
}
