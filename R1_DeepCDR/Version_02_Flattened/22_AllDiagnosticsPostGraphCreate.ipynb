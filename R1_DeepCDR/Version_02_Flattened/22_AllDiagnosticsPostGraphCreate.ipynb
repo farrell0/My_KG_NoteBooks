{
 "cells": [
  {
   "cell_type": "code",
   "execution_count": null,
   "id": "57a6c20f-3419-4768-92a0-f106c5931689",
   "metadata": {},
   "outputs": [],
   "source": [
    "\n",
    "#  Notebook with a number of diagnostic/test routines ..\n",
    "#\n",
    "\n"
   ]
  },
  {
   "cell_type": "markdown",
   "id": "212d8ad3-a876-4638-b95e-a0702f897587",
   "metadata": {},
   "source": [
    "#  Setup: Display options .."
   ]
  },
  {
   "cell_type": "code",
   "execution_count": 1,
   "id": "8a38ebd7-d1d9-47a8-955c-a8270b024543",
   "metadata": {},
   "outputs": [
    {
     "name": "stdout",
     "output_type": "stream",
     "text": [
      "Exception reporting mode: Minimal\n"
     ]
    },
    {
     "data": {
      "text/html": [],
      "text/plain": [
       "<IPython.core.display.HTML object>"
      ]
     },
     "metadata": {},
     "output_type": "display_data"
    },
    {
     "name": "stdout",
     "output_type": "stream",
     "text": [
      "--\n"
     ]
    }
   ],
   "source": [
    "\n",
    "%xmode Minimal\n",
    "\n",
    "#  Setting display options \n",
    "\n",
    "import pandas as pd\n",
    "import numpy  as np\n",
    "   #\n",
    "pd.set_option(\"display.width\", 480)\n",
    "\n",
    "#  Sets horizontal scroll for wide outputs\n",
    "#\n",
    "from IPython.display import display, HTML\n",
    "display(HTML(\"\"))\n",
    "\n",
    "from tabulate import tabulate\n",
    "\n",
    "\n",
    "print(\"--\")\n"
   ]
  },
  {
   "cell_type": "markdown",
   "id": "8ac9bc73-49ab-44bf-a21a-a2a589622a51",
   "metadata": {},
   "source": [
    "#  Setup: Connectivity .."
   ]
  },
  {
   "cell_type": "code",
   "execution_count": 2,
   "id": "e87b75ba-c072-4111-8cca-4b4f394a0fce",
   "metadata": {},
   "outputs": [
    {
     "name": "stdout",
     "output_type": "stream",
     "text": [
      "<katana.remote.sync_wrappers.Client object at 0x7f8afc342f40>\n",
      "0.9.0+20230315T145956Z.dbe1b6788.dev\n"
     ]
    }
   ],
   "source": [
    "\n",
    "from katana import remote\n",
    "\n",
    "my_client = remote.Client()\n",
    "\n",
    "print(my_client)\n",
    "print(my_client.server_version)\n"
   ]
  },
  {
   "cell_type": "code",
   "execution_count": 3,
   "id": "d3a77f99-f11b-4105-ab43-17ce605b15e8",
   "metadata": {},
   "outputs": [
    {
     "name": "stdout",
     "output_type": "stream",
     "text": [
      "--\n"
     ]
    }
   ],
   "source": [
    "\n",
    "NUM_PARTITIONS  = 3\n",
    "   #\n",
    "DB_NAME         = \"my_db\"\n",
    "GRAPH_NAME      = \"my_graph\"\n",
    "\n",
    "print(\"--\")\n"
   ]
  },
  {
   "cell_type": "code",
   "execution_count": 6,
   "id": "c3217f3b-dd84-47a3-ae2a-5033d122604a",
   "metadata": {},
   "outputs": [
    {
     "name": "stdout",
     "output_type": "stream",
     "text": [
      "<_Graph my_graph, EcCpQwrXXjTA5QjWk8dgLC5Sq1AEFwRQksAWjTYHfZWK, 8>\n"
     ]
    }
   ],
   "source": [
    "\n",
    "#  CONNECT TO GRAPH\n",
    "\n",
    "my_graph, *_ = my_client.get_database(name=DB_NAME).find_graphs_by_name(GRAPH_NAME)\n",
    "\n",
    "print(my_graph)\n"
   ]
  },
  {
   "cell_type": "code",
   "execution_count": 7,
   "id": "e576c04e-9cd8-41e0-a1a3-ae09397e4f87",
   "metadata": {},
   "outputs": [
    {
     "name": "stdout",
     "output_type": "stream",
     "text": [
      "Database Name: my_db                          Id: CnSownE6sbfqDS6w3BDDU91uMLaKjti2kGmjgy6nmR48\n",
      "   Graph Name: my_graph_BC                       Version: 1          Id: 5NUwpV8GmVPB2FWCGYwWc32GQrPySTb38Cw7A29kQTvx\n",
      "   Graph Name: my_graph_BB                       Version: 90         Id: 6GYEDQxA2ewmmGV53Vb7GDBx5U9osUzBctJhh6auAdG3\n",
      "   Graph Name: my_graph                          Version: 8          Id: EcCpQwrXXjTA5QjWk8dgLC5Sq1AEFwRQksAWjTYHfZWK\n",
      "   Graph Name: my_graph_BD                       Version: 1          Id: G6ryVuSgyQBCkeN5EhT8mpVNSYBTGTYUW22WhLFStgzw\n",
      "Database Name: default                        Id: FqaYU5KKfHLGew6RbVPgRAVgba5AUByBA7DYbbbn7ENs\n",
      "\n",
      "--\n"
     ]
    }
   ],
   "source": [
    "\n",
    "#  Now that we share servers, get a better list of databases and graphs ..\n",
    "#\n",
    "\n",
    "for l_each_d in my_client.databases():\n",
    "   print(\"Database Name: %-28s   Id: %s\" % (l_each_d.name, l_each_d.database_id))\n",
    "      #\n",
    "   for l_each_g in my_client.get_database(name=l_each_d.name).graphs_in_database(): \n",
    "      print(\"   Graph Name: %-28s      Version: %-8d   Id: %s\" % (l_each_g.name, l_each_g.version, l_each_g.graph_id))\n",
    "\n",
    "\n",
    "print(\"\"  )\n",
    "print(\"--\")\n"
   ]
  },
  {
   "cell_type": "markdown",
   "id": "389bd2f0-1e74-47e2-a568-6550294d490d",
   "metadata": {},
   "source": [
    "#  Step 00: Checking our results .."
   ]
  },
  {
   "cell_type": "code",
   "execution_count": 10,
   "id": "5d17c412-4a0c-450c-a0c4-1a3016e3c587",
   "metadata": {},
   "outputs": [
    {
     "data": {
      "application/vnd.jupyter.widget-view+json": {
       "model_id": "f9b95fbd49e444a3bd1596d73a9ca163",
       "version_major": 2,
       "version_minor": 0
      },
      "text/plain": [
       "          0/? [?op/s]"
      ]
     },
     "metadata": {},
     "output_type": "display_data"
    },
    {
     "data": {
      "application/vnd.jupyter.widget-view+json": {
       "model_id": "e0596f1da9f843f08ffd2fb1265c6b56",
       "version_major": 2,
       "version_minor": 0
      },
      "text/plain": [
       "          0/? [?op/s]"
      ]
     },
     "metadata": {},
     "output_type": "display_data"
    },
    {
     "name": "stdout",
     "output_type": "stream",
     "text": [
      "\n",
      "Node, CELL_LINE                                Number of records in graph: 1457    \n",
      "Node, DRUG                                     Number of records in graph: 223     \n",
      "Node, GDSC                                     Number of records in graph: 266     \n",
      "Node, GENE                                     Number of records in graph: 719     \n",
      "\n",
      "Edge, FOR_DRUG                                 Number of records in graph: 476     \n",
      "Edge, HAS_CELL_LINE                            Number of records in graph: 510720  \n",
      "Edge, HAS_EXPRESSION_OBSERVATION               Number of records in graph: 782034  \n",
      "Edge, HAS_METHYLATION_OBSERVATION              Number of records in graph: 853000  \n",
      "Edge, HAS_MUTATION_OBSERVATION                 Number of records in graph: 24845704\n",
      "\n",
      "--\n"
     ]
    }
   ],
   "source": [
    "\n",
    "#  Check counts\n",
    "#\n",
    "\n",
    "l_query  = \"\"\"\n",
    "\n",
    "   MATCH (n) \n",
    "   WITH DISTINCT LABELS(n) AS labels, COUNT(n) AS cnt\n",
    "   UNWIND labels AS label\n",
    "   RETURN label, SUM(cnt) AS cnt\n",
    "   ORDER BY label\n",
    "   \n",
    "   \"\"\".format()\n",
    "      #\n",
    "l_result1 = my_graph.query_unpaginated(l_query)\n",
    "\n",
    "l_query  = \"\"\"\n",
    "\n",
    "   MATCH (m)-[r]->(n) \n",
    "   WITH DISTINCT TYPE(r) AS type, COUNT(r) AS cnt\n",
    "   RETURN type, cnt\n",
    "   ORDER BY type\n",
    "   \n",
    "   \"\"\".format()\n",
    "      #\n",
    "l_result2 = my_graph.query_unpaginated(l_query)\n",
    "\n",
    "\n",
    "print()\n",
    "\n",
    "for l_each in l_result1.itertuples():\n",
    "   print(\"Node, %-38s   Number of records in graph: %-8d\" % (l_each.label, l_each.cnt) )\n",
    "\n",
    "print()\n",
    "\n",
    "for l_each in l_result2.itertuples():\n",
    "   print(\"Edge, %-38s   Number of records in graph: %-8d\" % (l_each.type, l_each.cnt) )   \n",
    "\n",
    "print()\n",
    "\n",
    "\n",
    "print(\"--\")\n",
    "\n"
   ]
  },
  {
   "cell_type": "code",
   "execution_count": 11,
   "id": "c4795c79-145b-46ea-ac7e-ea29131325c8",
   "metadata": {},
   "outputs": [
    {
     "data": {
      "application/vnd.jupyter.widget-view+json": {
       "model_id": "7e0d9c0218de4534ac5fec433a72099f",
       "version_major": 2,
       "version_minor": 0
      },
      "text/plain": [
       "          0/? [?op/s]"
      ]
     },
     "metadata": {},
     "output_type": "display_data"
    },
    {
     "name": "stdout",
     "output_type": "stream",
     "text": [
      "                                   neighbor     nodeType                 properties\n",
      "0                          ([]::[FOR_DRUG])           []                       TYPE\n",
      "1                     ([]::[HAS_CELL_LINE])           []                 TYPE,label\n",
      "2        ([]::[HAS_EXPRESSION_OBSERVATION])           []           TYPE,observation\n",
      "3       ([]::[HAS_METHYLATION_OBSERVATION])           []           TYPE,observation\n",
      "4          ([]::[HAS_MUTATION_OBSERVATION])           []  TYPE,mutation,observation\n",
      "5                                            [CELL_LINE]         id,label,tcga_code\n",
      "6    ([GENE]::[HAS_EXPRESSION_OBSERVATION])  [CELL_LINE]           TYPE,observation\n",
      "7   ([GENE]::[HAS_METHYLATION_OBSERVATION])  [CELL_LINE]           TYPE,observation\n",
      "8      ([GENE]::[HAS_MUTATION_OBSERVATION])  [CELL_LINE]  TYPE,mutation,observation\n",
      "9                                                 [DRUG]            id,label,smiles\n",
      "10                                                [GDSC]                   id,label\n",
      "11                     ([DRUG]::[FOR_DRUG])       [GDSC]                       TYPE\n",
      "12           ([CELL_LINE]::[HAS_CELL_LINE])       [GDSC]                 TYPE,label\n",
      "13                                                [GENE]                         id\n",
      "\n",
      "--\n"
     ]
    }
   ],
   "source": [
    "\n",
    "#  Output the schema from our graph\n",
    "#\n",
    "\n",
    "l_result = my_graph.query_unpaginated(\"CALL graph.schema() RETURN *\")\n",
    "   #\n",
    "print(l_result)\n",
    "\n",
    "print()\n",
    "print(\"--\")\n"
   ]
  },
  {
   "cell_type": "code",
   "execution_count": null,
   "id": "b25c81e2-6ef3-47a0-b53b-82ccf875f57b",
   "metadata": {},
   "outputs": [],
   "source": []
  },
  {
   "cell_type": "code",
   "execution_count": null,
   "id": "d3b4d8c0-6857-4970-8be5-0c775c06f160",
   "metadata": {},
   "outputs": [],
   "source": []
  },
  {
   "cell_type": "code",
   "execution_count": null,
   "id": "a4f3624c-2285-4910-8cf6-8536be815181",
   "metadata": {},
   "outputs": [],
   "source": []
  },
  {
   "cell_type": "code",
   "execution_count": null,
   "id": "b28e9bc9-9e4d-4c81-ad4f-eb3896f51095",
   "metadata": {},
   "outputs": [],
   "source": []
  },
  {
   "cell_type": "markdown",
   "id": "c5384ffe-6229-4808-8176-cdc8b896868f",
   "metadata": {},
   "source": [
    "#  Step 00:  Using DuckDB"
   ]
  },
  {
   "cell_type": "code",
   "execution_count": null,
   "id": "2faaa703-2d46-45da-a27f-3513da2b79ee",
   "metadata": {},
   "outputs": [],
   "source": [
    "\n",
    "\n",
    "#  Using DuckDB.  See,\n",
    "#     https://duckdb.org/docs/api/python/overview.html\n",
    "#\n",
    "\n",
    "import duckdb\n",
    "\n",
    "pd_drug = pd_nodes[\"DRUG\"]\n",
    "   #\n",
    "duckdb.sql(\"SELECT * FROM pd_drug ORDER BY id LIMIT 2\")\n",
    "           \n",
    "           \n",
    "#  Sample output,\n",
    "#\n",
    "#     ┌──────────┬─────────────────────────────────────────────────────────────┬─────────┐\n",
    "#     │    id    │                           smiles                            │  label  │\n",
    "#     │ varchar  │                           varchar                           │ varchar │\n",
    "#     ├──────────┼─────────────────────────────────────────────────────────────┼─────────┤\n",
    "#     │ 10027278 │ NCC(=O)Nc1ccc(-n2nc(C(F)(F)F)cc2-c2ccc3c(ccc4ccccc43)c2)cc1 │ DRUG    │\n",
    "#     │ 10074640 │ Cc1ccc(NC(=O)c2ccc(CN3CCN(C)CC3)cc2)cc1Nc1nc(-c2cccnc2)cs1  │ DRUG    │\n",
    "#     └──────────┴─────────────────────────────────────────────────────────────┴─────────┘\n",
    "\n",
    "           "
   ]
  }
 ],
 "metadata": {
  "kernelspec": {
   "display_name": "Python 3 (ipykernel)",
   "language": "python",
   "name": "python3"
  },
  "language_info": {
   "codemirror_mode": {
    "name": "ipython",
    "version": 3
   },
   "file_extension": ".py",
   "mimetype": "text/x-python",
   "name": "python",
   "nbconvert_exporter": "python",
   "pygments_lexer": "ipython3",
   "version": "3.8.13"
  }
 },
 "nbformat": 4,
 "nbformat_minor": 5
}
