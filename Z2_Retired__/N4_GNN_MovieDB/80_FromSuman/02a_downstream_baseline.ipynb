{
 "cells": [
  {
   "cell_type": "markdown",
   "metadata": {},
   "source": [
    "<div class=\"header\">\n",
    "  <img src=\"img/kg_logo_white_side.png\" alt=\"logo\" style=\"width: 300px;\"/>\n",
    "  <h1>02a Downstream Baseline Model</h1>\n",
    "</div>"
   ]
  },
  {
   "cell_type": "code",
   "execution_count": 1,
   "metadata": {},
   "outputs": [],
   "source": [
    "import yaml\n",
    "\n",
    "with open(\"config.yaml\", \"r\") as f:\n",
    "    config = yaml.load(f, Loader=yaml.FullLoader)"
   ]
  },
  {
   "cell_type": "markdown",
   "metadata": {},
   "source": [
    "### Train baseline model using only the local elliptic features\n",
    "<img src=\"img/feat.png\" style=\"width: 300px;\"/>"
   ]
  },
  {
   "cell_type": "code",
   "execution_count": 3,
   "metadata": {
    "scrolled": true,
    "tags": []
   },
   "outputs": [
    {
     "name": "stdout",
     "output_type": "stream",
     "text": [
      "Table created: katana-clusters-beta.fsi_elliptic.auto_ml_baseline_training_497b08928741451d8eabcfeb2118d68b\n",
      "Loaded 203769 rows and 95 columns to katana-clusters-beta.fsi_elliptic.auto_ml_baseline_training_497b08928741451d8eabcfeb2118d68b\n",
      "Creating TabularDataset\n",
      "Create TabularDataset backing LRO: projects/936152536067/locations/us-central1/datasets/3966107766178709504/operations/3406855813958991872\n",
      "TabularDataset created. Resource name: projects/936152536067/locations/us-central1/datasets/3966107766178709504\n",
      "To use this TabularDataset in another session:\n",
      "ds = aiplatform.TabularDataset('projects/936152536067/locations/us-central1/datasets/3966107766178709504')\n",
      "\tDataset: \"elliptic_baseline_training_dataset\"\n",
      "\tname: \"projects/936152536067/locations/us-central1/datasets/3966107766178709504\"\n"
     ]
    }
   ],
   "source": [
    "from src.elliptic_baseline_preprocessing import create_table\n",
    "pipeline_uri = '497b08928741451d8eabcfeb2118d68b' #config['model']['pipeline_uri']\n",
    "\n",
    "baseline_table = create_table(pipeline_uri, type = \"baseline\")"
   ]
  },
  {
   "cell_type": "code",
   "execution_count": 6,
   "metadata": {},
   "outputs": [
    {
     "name": "stdout",
     "output_type": "stream",
     "text": [
      "No column transformations provided, so now retrieving columns from dataset in order to set default column transformations.\n",
      "The column transformation of type 'auto' was set for the following columns: ['local_feat_92', 'local_feat_23', 'local_feat_88', 'local_feat_32', 'local_feat_2', 'local_feat_30', 'local_feat_7', 'local_feat_64', 'local_feat_29', 'local_feat_69', 'local_feat_12', 'local_feat_68', 'local_feat_9', 'local_feat_86', 'local_feat_56', 'local_feat_25', 'local_feat_53', 'local_feat_13', 'local_feat_77', 'local_feat_94', 'local_feat_17', 'local_feat_75', 'local_feat_27', 'local_feat_20', 'local_feat_84', 'local_feat_41', 'local_feat_72', 'local_feat_14', 'local_feat_61', 'local_feat_39', 'local_feat_71', 'local_feat_37', 'local_feat_8', 'local_feat_54', 'local_feat_79', 'local_feat_11', 'local_feat_34', 'local_feat_58', 'local_feat_89', 'local_feat_31', 'local_feat_87', 'local_feat_46', 'local_feat_5', 'local_feat_28', 'local_feat_4', 'local_feat_51', 'local_feat_22', 'local_feat_38', 'local_feat_83', 'local_feat_10', 'local_feat_44', 'split_str', 'local_feat_62', 'local_feat_49', 'local_feat_40', 'local_feat_3', 'local_feat_19', 'local_feat_52', 'local_feat_85', 'local_feat_76', 'local_feat_42', 'local_feat_66', 'local_feat_50', 'local_feat_63', 'local_feat_91', 'local_feat_21', 'local_feat_45', 'local_feat_70', 'local_feat_48', 'local_feat_59', 'local_feat_81', 'local_feat_60', 'local_feat_18', 'local_feat_15', 'local_feat_80', 'local_feat_24', 'local_feat_90', 'local_feat_73', 'local_feat_65', 'local_feat_43', 'local_feat_26', 'local_feat_6', 'local_feat_35', 'local_feat_55', 'local_feat_78', 'local_feat_47', 'local_feat_57', 'local_feat_82', 'local_feat_74', 'local_feat_67', 'local_feat_16', 'local_feat_36', 'local_feat_93', 'local_feat_33'].\n",
      "View Training:\n",
      "https://console.cloud.google.com/ai/platform/locations/us-central1/training/2689409564708700160?project=936152536067\n",
      "AutoMLTabularTrainingJob projects/936152536067/locations/us-central1/trainingPipelines/2689409564708700160 current state:\n",
      "PipelineState.PIPELINE_STATE_RUNNING\n",
      "AutoMLTabularTrainingJob projects/936152536067/locations/us-central1/trainingPipelines/2689409564708700160 current state:\n",
      "PipelineState.PIPELINE_STATE_RUNNING\n",
      "AutoMLTabularTrainingJob projects/936152536067/locations/us-central1/trainingPipelines/2689409564708700160 current state:\n",
      "PipelineState.PIPELINE_STATE_RUNNING\n",
      "AutoMLTabularTrainingJob projects/936152536067/locations/us-central1/trainingPipelines/2689409564708700160 current state:\n",
      "PipelineState.PIPELINE_STATE_RUNNING\n",
      "AutoMLTabularTrainingJob projects/936152536067/locations/us-central1/trainingPipelines/2689409564708700160 current state:\n",
      "PipelineState.PIPELINE_STATE_RUNNING\n",
      "AutoMLTabularTrainingJob projects/936152536067/locations/us-central1/trainingPipelines/2689409564708700160 current state:\n",
      "PipelineState.PIPELINE_STATE_RUNNING\n",
      "AutoMLTabularTrainingJob projects/936152536067/locations/us-central1/trainingPipelines/2689409564708700160 current state:\n",
      "PipelineState.PIPELINE_STATE_RUNNING\n",
      "AutoMLTabularTrainingJob projects/936152536067/locations/us-central1/trainingPipelines/2689409564708700160 current state:\n",
      "PipelineState.PIPELINE_STATE_RUNNING\n",
      "AutoMLTabularTrainingJob projects/936152536067/locations/us-central1/trainingPipelines/2689409564708700160 current state:\n",
      "PipelineState.PIPELINE_STATE_RUNNING\n",
      "AutoMLTabularTrainingJob projects/936152536067/locations/us-central1/trainingPipelines/2689409564708700160 current state:\n",
      "PipelineState.PIPELINE_STATE_RUNNING\n",
      "AutoMLTabularTrainingJob projects/936152536067/locations/us-central1/trainingPipelines/2689409564708700160 current state:\n",
      "PipelineState.PIPELINE_STATE_RUNNING\n",
      "AutoMLTabularTrainingJob projects/936152536067/locations/us-central1/trainingPipelines/2689409564708700160 current state:\n",
      "PipelineState.PIPELINE_STATE_RUNNING\n",
      "AutoMLTabularTrainingJob projects/936152536067/locations/us-central1/trainingPipelines/2689409564708700160 current state:\n",
      "PipelineState.PIPELINE_STATE_RUNNING\n",
      "AutoMLTabularTrainingJob projects/936152536067/locations/us-central1/trainingPipelines/2689409564708700160 current state:\n",
      "PipelineState.PIPELINE_STATE_RUNNING\n",
      "AutoMLTabularTrainingJob projects/936152536067/locations/us-central1/trainingPipelines/2689409564708700160 current state:\n",
      "PipelineState.PIPELINE_STATE_RUNNING\n",
      "AutoMLTabularTrainingJob projects/936152536067/locations/us-central1/trainingPipelines/2689409564708700160 current state:\n",
      "PipelineState.PIPELINE_STATE_RUNNING\n",
      "AutoMLTabularTrainingJob projects/936152536067/locations/us-central1/trainingPipelines/2689409564708700160 current state:\n",
      "PipelineState.PIPELINE_STATE_RUNNING\n",
      "AutoMLTabularTrainingJob projects/936152536067/locations/us-central1/trainingPipelines/2689409564708700160 current state:\n",
      "PipelineState.PIPELINE_STATE_RUNNING\n",
      "AutoMLTabularTrainingJob projects/936152536067/locations/us-central1/trainingPipelines/2689409564708700160 current state:\n",
      "PipelineState.PIPELINE_STATE_RUNNING\n",
      "AutoMLTabularTrainingJob projects/936152536067/locations/us-central1/trainingPipelines/2689409564708700160 current state:\n",
      "PipelineState.PIPELINE_STATE_RUNNING\n",
      "AutoMLTabularTrainingJob projects/936152536067/locations/us-central1/trainingPipelines/2689409564708700160 current state:\n",
      "PipelineState.PIPELINE_STATE_RUNNING\n",
      "AutoMLTabularTrainingJob projects/936152536067/locations/us-central1/trainingPipelines/2689409564708700160 current state:\n",
      "PipelineState.PIPELINE_STATE_RUNNING\n",
      "AutoMLTabularTrainingJob projects/936152536067/locations/us-central1/trainingPipelines/2689409564708700160 current state:\n",
      "PipelineState.PIPELINE_STATE_RUNNING\n",
      "AutoMLTabularTrainingJob projects/936152536067/locations/us-central1/trainingPipelines/2689409564708700160 current state:\n",
      "PipelineState.PIPELINE_STATE_RUNNING\n",
      "AutoMLTabularTrainingJob projects/936152536067/locations/us-central1/trainingPipelines/2689409564708700160 current state:\n",
      "PipelineState.PIPELINE_STATE_RUNNING\n",
      "AutoMLTabularTrainingJob projects/936152536067/locations/us-central1/trainingPipelines/2689409564708700160 current state:\n",
      "PipelineState.PIPELINE_STATE_RUNNING\n",
      "AutoMLTabularTrainingJob projects/936152536067/locations/us-central1/trainingPipelines/2689409564708700160 current state:\n",
      "PipelineState.PIPELINE_STATE_RUNNING\n",
      "AutoMLTabularTrainingJob projects/936152536067/locations/us-central1/trainingPipelines/2689409564708700160 current state:\n",
      "PipelineState.PIPELINE_STATE_RUNNING\n",
      "AutoMLTabularTrainingJob projects/936152536067/locations/us-central1/trainingPipelines/2689409564708700160 current state:\n",
      "PipelineState.PIPELINE_STATE_RUNNING\n",
      "AutoMLTabularTrainingJob projects/936152536067/locations/us-central1/trainingPipelines/2689409564708700160 current state:\n",
      "PipelineState.PIPELINE_STATE_RUNNING\n",
      "AutoMLTabularTrainingJob projects/936152536067/locations/us-central1/trainingPipelines/2689409564708700160 current state:\n",
      "PipelineState.PIPELINE_STATE_RUNNING\n",
      "AutoMLTabularTrainingJob projects/936152536067/locations/us-central1/trainingPipelines/2689409564708700160 current state:\n",
      "PipelineState.PIPELINE_STATE_RUNNING\n",
      "AutoMLTabularTrainingJob projects/936152536067/locations/us-central1/trainingPipelines/2689409564708700160 current state:\n",
      "PipelineState.PIPELINE_STATE_RUNNING\n",
      "AutoMLTabularTrainingJob projects/936152536067/locations/us-central1/trainingPipelines/2689409564708700160 current state:\n",
      "PipelineState.PIPELINE_STATE_RUNNING\n",
      "AutoMLTabularTrainingJob projects/936152536067/locations/us-central1/trainingPipelines/2689409564708700160 current state:\n",
      "PipelineState.PIPELINE_STATE_RUNNING\n",
      "AutoMLTabularTrainingJob projects/936152536067/locations/us-central1/trainingPipelines/2689409564708700160 current state:\n",
      "PipelineState.PIPELINE_STATE_RUNNING\n",
      "AutoMLTabularTrainingJob projects/936152536067/locations/us-central1/trainingPipelines/2689409564708700160 current state:\n",
      "PipelineState.PIPELINE_STATE_RUNNING\n",
      "AutoMLTabularTrainingJob projects/936152536067/locations/us-central1/trainingPipelines/2689409564708700160 current state:\n",
      "PipelineState.PIPELINE_STATE_RUNNING\n",
      "AutoMLTabularTrainingJob projects/936152536067/locations/us-central1/trainingPipelines/2689409564708700160 current state:\n",
      "PipelineState.PIPELINE_STATE_RUNNING\n",
      "AutoMLTabularTrainingJob projects/936152536067/locations/us-central1/trainingPipelines/2689409564708700160 current state:\n",
      "PipelineState.PIPELINE_STATE_RUNNING\n",
      "AutoMLTabularTrainingJob run completed. Resource name: projects/936152536067/locations/us-central1/trainingPipelines/2689409564708700160\n",
      "Model available at projects/936152536067/locations/us-central1/models/2848944578730393600\n"
     ]
    }
   ],
   "source": [
    "from google.cloud import aiplatform\n",
    "\n",
    "baseline_classification_job = aiplatform.AutoMLTabularTrainingJob(\n",
    "    display_name=\"elliptic_baseline_training_job_test\", \n",
    "    optimization_prediction_type=\"classification\"\n",
    ")\n",
    "\n",
    "baseline_model = baseline_classification_job.run(\n",
    "    dataset=baseline_table,\n",
    "    target_column=\"target\",\n",
    "    budget_milli_node_hours=1000,\n",
    "    model_display_name=\"elliptic_baseline_test\",\n",
    "    disable_early_stopping=False,\n",
    "    predefined_split_column_name=\"split_str\",\n",
    "    sync=True\n",
    ")"
   ]
  },
  {
   "cell_type": "markdown",
   "metadata": {},
   "source": [
    "### Go to GCP Console to monitor training job and view F1 Score"
   ]
  }
 ],
 "metadata": {
  "kernelspec": {
   "display_name": "Python 3 (ipykernel)",
   "language": "python",
   "name": "python3"
  },
  "language_info": {
   "codemirror_mode": {
    "name": "ipython",
    "version": 3
   },
   "file_extension": ".py",
   "mimetype": "text/x-python",
   "name": "python",
   "nbconvert_exporter": "python",
   "pygments_lexer": "ipython3",
   "version": "3.8.13"
  },
  "vscode": {
   "interpreter": {
    "hash": "10ed195dab9b8616e7f1f644204eeadf80da53dfcea734c766b43162222b6e66"
   }
  }
 },
 "nbformat": 4,
 "nbformat_minor": 4
}
