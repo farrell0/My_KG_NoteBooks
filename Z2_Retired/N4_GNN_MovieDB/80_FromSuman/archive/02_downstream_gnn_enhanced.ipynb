{
 "cells": [
  {
   "cell_type": "markdown",
   "metadata": {},
   "source": [
    "Train a downstream model using the GNN embeddings as additional features for the model"
   ]
  },
  {
   "cell_type": "code",
   "execution_count": 2,
   "metadata": {},
   "outputs": [
    {
     "name": "stdout",
     "output_type": "stream",
     "text": [
      "Table deleted: katana-clusters-beta.fsi_elliptic.auto_ml_enhanced_gnn_training_65ea7a869fac4a0590779f7206b25e04\n",
      "Loaded 203769 rows and 111 columns to katana-clusters-beta.fsi_elliptic.auto_ml_enhanced_gnn_training_65ea7a869fac4a0590779f7206b25e04\n",
      "Creating TabularDataset\n",
      "Create TabularDataset backing LRO: projects/936152536067/locations/us-central1/datasets/5298082540345622528/operations/4910148793384566784\n",
      "TabularDataset created. Resource name: projects/936152536067/locations/us-central1/datasets/5298082540345622528\n",
      "To use this TabularDataset in another session:\n",
      "ds = aiplatform.TabularDataset('projects/936152536067/locations/us-central1/datasets/5298082540345622528')\n",
      "\tDataset: \"elliptic_enhanced_training_dataset\"\n",
      "\tname: \"projects/936152536067/locations/us-central1/datasets/5298082540345622528\"\n"
     ]
    }
   ],
   "source": [
    "from src.elliptic_baseline_preprocessing import create_table\n",
    "\n",
    "# Enter the following details:\n",
    "pipeline_uri = \"65ea7a869fac4a0590779f7206b25e04\"\n",
    "\n",
    "enhanced_table = create_table(store, pipeline_uri, type = \"gnn_enhanced\")"
   ]
  },
  {
   "cell_type": "code",
   "execution_count": 4,
   "metadata": {},
   "outputs": [
    {
     "name": "stdout",
     "output_type": "stream",
     "text": [
      "No column transformations provided, so now retrieving columns from dataset in order to set default column transformations.\n",
      "The column transformation of type 'auto' was set for the following columns: ['local_feat_47', 'local_feat_84', 'embed_12', 'local_feat_85', 'embed_11', 'local_feat_12', 'local_feat_50', 'local_feat_78', 'local_feat_91', 'local_feat_27', 'local_feat_38', 'local_feat_23', 'embed_15', 'local_feat_71', 'local_feat_4', 'embed_9', 'embed_10', 'local_feat_55', 'local_feat_76', 'local_feat_29', 'local_feat_69', 'local_feat_72', 'local_feat_44', 'split_str', 'embed_7', 'local_feat_77', 'local_feat_11', 'local_feat_3', 'embed_13', 'local_feat_90', 'embed_1', 'local_feat_75', 'embed_6', 'local_feat_83', 'local_feat_52', 'local_feat_24', 'local_feat_82', 'local_feat_8', 'local_feat_30', 'local_feat_10', 'local_feat_57', 'local_feat_65', 'local_feat_49', 'local_feat_73', 'local_feat_94', 'local_feat_51', 'embed_8', 'local_feat_59', 'local_feat_15', 'local_feat_5', 'local_feat_19', 'local_feat_34', 'local_feat_89', 'local_feat_13', 'local_feat_60', 'local_feat_2', 'local_feat_35', 'local_feat_20', 'local_feat_14', 'local_feat_45', 'local_feat_74', 'local_feat_66', 'local_feat_64', 'local_feat_53', 'embed_2', 'local_feat_68', 'local_feat_61', 'embed_5', 'local_feat_63', 'local_feat_79', 'local_feat_6', 'local_feat_21', 'local_feat_43', 'local_feat_9', 'local_feat_46', 'local_feat_70', 'local_feat_42', 'local_feat_28', 'local_feat_58', 'local_feat_87', 'local_feat_31', 'local_feat_56', 'local_feat_39', 'local_feat_86', 'local_feat_92', 'embed_4', 'local_feat_7', 'local_feat_40', 'local_feat_80', 'local_feat_62', 'local_feat_33', 'local_feat_48', 'local_feat_17', 'local_feat_36', 'local_feat_88', 'local_feat_16', 'embed_14', 'local_feat_41', 'local_feat_37', 'local_feat_32', 'local_feat_22', 'embed_0', 'local_feat_81', 'local_feat_25', 'local_feat_93', 'embed_3', 'local_feat_54', 'local_feat_67', 'local_feat_18', 'local_feat_26'].\n",
      "View Training:\n",
      "https://console.cloud.google.com/ai/platform/locations/us-central1/training/842710516626358272?project=936152536067\n",
      "AutoMLTabularTrainingJob projects/936152536067/locations/us-central1/trainingPipelines/842710516626358272 current state:\n",
      "PipelineState.PIPELINE_STATE_RUNNING\n",
      "AutoMLTabularTrainingJob projects/936152536067/locations/us-central1/trainingPipelines/842710516626358272 current state:\n",
      "PipelineState.PIPELINE_STATE_RUNNING\n",
      "AutoMLTabularTrainingJob projects/936152536067/locations/us-central1/trainingPipelines/842710516626358272 current state:\n",
      "PipelineState.PIPELINE_STATE_RUNNING\n",
      "AutoMLTabularTrainingJob projects/936152536067/locations/us-central1/trainingPipelines/842710516626358272 current state:\n",
      "PipelineState.PIPELINE_STATE_RUNNING\n",
      "AutoMLTabularTrainingJob projects/936152536067/locations/us-central1/trainingPipelines/842710516626358272 current state:\n",
      "PipelineState.PIPELINE_STATE_RUNNING\n",
      "AutoMLTabularTrainingJob projects/936152536067/locations/us-central1/trainingPipelines/842710516626358272 current state:\n",
      "PipelineState.PIPELINE_STATE_RUNNING\n",
      "AutoMLTabularTrainingJob projects/936152536067/locations/us-central1/trainingPipelines/842710516626358272 current state:\n",
      "PipelineState.PIPELINE_STATE_RUNNING\n",
      "AutoMLTabularTrainingJob projects/936152536067/locations/us-central1/trainingPipelines/842710516626358272 current state:\n",
      "PipelineState.PIPELINE_STATE_RUNNING\n",
      "AutoMLTabularTrainingJob projects/936152536067/locations/us-central1/trainingPipelines/842710516626358272 current state:\n",
      "PipelineState.PIPELINE_STATE_RUNNING\n",
      "AutoMLTabularTrainingJob projects/936152536067/locations/us-central1/trainingPipelines/842710516626358272 current state:\n",
      "PipelineState.PIPELINE_STATE_RUNNING\n",
      "AutoMLTabularTrainingJob projects/936152536067/locations/us-central1/trainingPipelines/842710516626358272 current state:\n",
      "PipelineState.PIPELINE_STATE_RUNNING\n",
      "AutoMLTabularTrainingJob projects/936152536067/locations/us-central1/trainingPipelines/842710516626358272 current state:\n",
      "PipelineState.PIPELINE_STATE_RUNNING\n",
      "AutoMLTabularTrainingJob projects/936152536067/locations/us-central1/trainingPipelines/842710516626358272 current state:\n",
      "PipelineState.PIPELINE_STATE_RUNNING\n",
      "AutoMLTabularTrainingJob projects/936152536067/locations/us-central1/trainingPipelines/842710516626358272 current state:\n",
      "PipelineState.PIPELINE_STATE_RUNNING\n",
      "AutoMLTabularTrainingJob projects/936152536067/locations/us-central1/trainingPipelines/842710516626358272 current state:\n",
      "PipelineState.PIPELINE_STATE_RUNNING\n",
      "AutoMLTabularTrainingJob projects/936152536067/locations/us-central1/trainingPipelines/842710516626358272 current state:\n",
      "PipelineState.PIPELINE_STATE_RUNNING\n",
      "AutoMLTabularTrainingJob projects/936152536067/locations/us-central1/trainingPipelines/842710516626358272 current state:\n",
      "PipelineState.PIPELINE_STATE_RUNNING\n",
      "AutoMLTabularTrainingJob projects/936152536067/locations/us-central1/trainingPipelines/842710516626358272 current state:\n",
      "PipelineState.PIPELINE_STATE_RUNNING\n",
      "AutoMLTabularTrainingJob projects/936152536067/locations/us-central1/trainingPipelines/842710516626358272 current state:\n",
      "PipelineState.PIPELINE_STATE_RUNNING\n",
      "AutoMLTabularTrainingJob projects/936152536067/locations/us-central1/trainingPipelines/842710516626358272 current state:\n",
      "PipelineState.PIPELINE_STATE_RUNNING\n",
      "AutoMLTabularTrainingJob projects/936152536067/locations/us-central1/trainingPipelines/842710516626358272 current state:\n",
      "PipelineState.PIPELINE_STATE_RUNNING\n",
      "AutoMLTabularTrainingJob projects/936152536067/locations/us-central1/trainingPipelines/842710516626358272 current state:\n",
      "PipelineState.PIPELINE_STATE_RUNNING\n",
      "AutoMLTabularTrainingJob projects/936152536067/locations/us-central1/trainingPipelines/842710516626358272 current state:\n",
      "PipelineState.PIPELINE_STATE_RUNNING\n",
      "AutoMLTabularTrainingJob projects/936152536067/locations/us-central1/trainingPipelines/842710516626358272 current state:\n",
      "PipelineState.PIPELINE_STATE_RUNNING\n",
      "AutoMLTabularTrainingJob projects/936152536067/locations/us-central1/trainingPipelines/842710516626358272 current state:\n",
      "PipelineState.PIPELINE_STATE_RUNNING\n",
      "AutoMLTabularTrainingJob projects/936152536067/locations/us-central1/trainingPipelines/842710516626358272 current state:\n",
      "PipelineState.PIPELINE_STATE_RUNNING\n",
      "AutoMLTabularTrainingJob projects/936152536067/locations/us-central1/trainingPipelines/842710516626358272 current state:\n",
      "PipelineState.PIPELINE_STATE_RUNNING\n",
      "AutoMLTabularTrainingJob projects/936152536067/locations/us-central1/trainingPipelines/842710516626358272 current state:\n",
      "PipelineState.PIPELINE_STATE_RUNNING\n",
      "AutoMLTabularTrainingJob projects/936152536067/locations/us-central1/trainingPipelines/842710516626358272 current state:\n",
      "PipelineState.PIPELINE_STATE_RUNNING\n",
      "AutoMLTabularTrainingJob projects/936152536067/locations/us-central1/trainingPipelines/842710516626358272 current state:\n",
      "PipelineState.PIPELINE_STATE_RUNNING\n",
      "AutoMLTabularTrainingJob projects/936152536067/locations/us-central1/trainingPipelines/842710516626358272 current state:\n",
      "PipelineState.PIPELINE_STATE_RUNNING\n",
      "AutoMLTabularTrainingJob projects/936152536067/locations/us-central1/trainingPipelines/842710516626358272 current state:\n",
      "PipelineState.PIPELINE_STATE_RUNNING\n",
      "AutoMLTabularTrainingJob projects/936152536067/locations/us-central1/trainingPipelines/842710516626358272 current state:\n",
      "PipelineState.PIPELINE_STATE_RUNNING\n",
      "AutoMLTabularTrainingJob projects/936152536067/locations/us-central1/trainingPipelines/842710516626358272 current state:\n",
      "PipelineState.PIPELINE_STATE_RUNNING\n",
      "AutoMLTabularTrainingJob projects/936152536067/locations/us-central1/trainingPipelines/842710516626358272 current state:\n",
      "PipelineState.PIPELINE_STATE_RUNNING\n",
      "AutoMLTabularTrainingJob projects/936152536067/locations/us-central1/trainingPipelines/842710516626358272 current state:\n",
      "PipelineState.PIPELINE_STATE_RUNNING\n"
     ]
    }
   ],
   "source": [
    "from google.cloud import aiplatform\n",
    "\n",
    "enhanced_classification_job = aiplatform.AutoMLTabularTrainingJob(\n",
    "    display_name=\"elliptic_enhanced_training_job_test\", \n",
    "    optimization_prediction_type=\"classification\"\n",
    ")\n",
    "\n",
    "enhanced_model = enhanced_classification_job.run(\n",
    "    dataset=enhanced_table,\n",
    "    target_column=\"target\",\n",
    "    budget_milli_node_hours=800,\n",
    "    model_display_name=\"elliptic_gnn_enhanced_gs_test\",\n",
    "    disable_early_stopping=False,\n",
    "    predefined_split_column_name=\"split_str\",\n",
    "    sync=False\n",
    ")"
   ]
  },
  {
   "cell_type": "markdown",
   "metadata": {},
   "source": [
    "### Go to GCP Console to monitor training job, view F1 Score, and deploy endpoint"
   ]
  },
  {
   "cell_type": "markdown",
   "metadata": {},
   "source": [
    "### Elliptic XGBoost Model"
   ]
  },
  {
   "cell_type": "code",
   "execution_count": 1,
   "metadata": {},
   "outputs": [],
   "source": [
    "\n",
    "import os                                                                        \n",
    "import time                                                                      \n",
    "import json\n",
    "import uuid\n",
    "import pandas as pd\n",
    "import numpy as np\n",
    "import argparse\n",
    "from timeit import default_timer as timer\n",
    "import warnings\n",
    "warnings.filterwarnings('ignore')\n",
    "\n",
    "from sklearn.metrics import f1_score\n",
    "import matplotlib.pyplot as plt\n",
    "import xgboost\n",
    "import dask.dataframe as dd\n",
    "from dask.distributed import Client\n",
    "import dask_xgboost as dxgb\n",
    "import dask.array as da\n",
    "\n",
    "from src.elliptic_baseline_preprocessing import init_fs, create_table"
   ]
  },
  {
   "cell_type": "code",
   "execution_count": 2,
   "metadata": {},
   "outputs": [],
   "source": [
    "client = Client(n_workers=4, threads_per_worker=1)\n",
    "\n",
    "pipeline_uri = \"65ea7a869fac4a0590779f7206b25e04\""
   ]
  },
  {
   "cell_type": "code",
   "execution_count": 3,
   "metadata": {},
   "outputs": [],
   "source": [
    "# import dataframe\n",
    "mapping_table = \"katana-clusters-beta.fsi_elliptic.account_mapping_\"+pipeline_uri\n",
    "df = store.get_historical_features(\n",
    "    entity_df=f\"\"\"\n",
    "    SELECT \n",
    "        account_gid,\n",
    "        account_id,\n",
    "        event_timestamp\n",
    "    FROM \n",
    "        {mapping_table}    \n",
    "    \"\"\",\n",
    "    features=store.get_feature_service(\"account_gnn_enhanced_fs\"), \n",
    "    full_feature_names=False\n",
    ").to_df()"
   ]
  },
  {
   "cell_type": "code",
   "execution_count": 4,
   "metadata": {},
   "outputs": [
    {
     "data": {
      "text/html": [
       "<div>\n",
       "<style scoped>\n",
       "    .dataframe tbody tr th:only-of-type {\n",
       "        vertical-align: middle;\n",
       "    }\n",
       "\n",
       "    .dataframe tbody tr th {\n",
       "        vertical-align: top;\n",
       "    }\n",
       "\n",
       "    .dataframe thead th {\n",
       "        text-align: right;\n",
       "    }\n",
       "</style>\n",
       "<table border=\"1\" class=\"dataframe\">\n",
       "  <thead>\n",
       "    <tr style=\"text-align: right;\">\n",
       "      <th></th>\n",
       "      <th>account_gid</th>\n",
       "      <th>account_id</th>\n",
       "      <th>event_timestamp</th>\n",
       "      <th>node_type</th>\n",
       "      <th>target</th>\n",
       "      <th>split</th>\n",
       "      <th>embed_0</th>\n",
       "      <th>embed_1</th>\n",
       "      <th>embed_2</th>\n",
       "      <th>embed_3</th>\n",
       "      <th>...</th>\n",
       "      <th>local_feat_85</th>\n",
       "      <th>local_feat_86</th>\n",
       "      <th>local_feat_87</th>\n",
       "      <th>local_feat_88</th>\n",
       "      <th>local_feat_89</th>\n",
       "      <th>local_feat_90</th>\n",
       "      <th>local_feat_91</th>\n",
       "      <th>local_feat_92</th>\n",
       "      <th>local_feat_93</th>\n",
       "      <th>local_feat_94</th>\n",
       "    </tr>\n",
       "  </thead>\n",
       "  <tbody>\n",
       "    <tr>\n",
       "      <th>0</th>\n",
       "      <td>8843</td>\n",
       "      <td>310522842</td>\n",
       "      <td>2022-09-26 00:00:00+00:00</td>\n",
       "      <td>Classified_Acct</td>\n",
       "      <td>0</td>\n",
       "      <td>0</td>\n",
       "      <td>1.109760</td>\n",
       "      <td>0.076339</td>\n",
       "      <td>0.0</td>\n",
       "      <td>0.808370</td>\n",
       "      <td>...</td>\n",
       "      <td>-0.254929</td>\n",
       "      <td>-0.259014</td>\n",
       "      <td>1.125590</td>\n",
       "      <td>1.128038</td>\n",
       "      <td>-0.293830</td>\n",
       "      <td>-0.741721</td>\n",
       "      <td>-0.669764</td>\n",
       "      <td>-0.702908</td>\n",
       "      <td>1.135523</td>\n",
       "      <td>1.135279</td>\n",
       "    </tr>\n",
       "    <tr>\n",
       "      <th>1</th>\n",
       "      <td>7372</td>\n",
       "      <td>102664424</td>\n",
       "      <td>2022-09-26 00:00:00+00:00</td>\n",
       "      <td>Classified_Acct</td>\n",
       "      <td>0</td>\n",
       "      <td>2</td>\n",
       "      <td>2.129416</td>\n",
       "      <td>0.000000</td>\n",
       "      <td>0.0</td>\n",
       "      <td>0.602560</td>\n",
       "      <td>...</td>\n",
       "      <td>-0.255168</td>\n",
       "      <td>-0.259251</td>\n",
       "      <td>-0.187191</td>\n",
       "      <td>-0.185274</td>\n",
       "      <td>-0.293897</td>\n",
       "      <td>-0.745834</td>\n",
       "      <td>-0.678616</td>\n",
       "      <td>-0.710994</td>\n",
       "      <td>0.066572</td>\n",
       "      <td>0.580248</td>\n",
       "    </tr>\n",
       "    <tr>\n",
       "      <th>2</th>\n",
       "      <td>6819</td>\n",
       "      <td>24378551</td>\n",
       "      <td>2022-09-26 00:00:00+00:00</td>\n",
       "      <td>Unclassified_Acct</td>\n",
       "      <td>0</td>\n",
       "      <td>0</td>\n",
       "      <td>0.000000</td>\n",
       "      <td>0.474104</td>\n",
       "      <td>0.0</td>\n",
       "      <td>1.008052</td>\n",
       "      <td>...</td>\n",
       "      <td>-0.254584</td>\n",
       "      <td>-0.258672</td>\n",
       "      <td>1.125590</td>\n",
       "      <td>1.128038</td>\n",
       "      <td>-0.293870</td>\n",
       "      <td>-0.507623</td>\n",
       "      <td>-0.386640</td>\n",
       "      <td>-0.494130</td>\n",
       "      <td>1.135523</td>\n",
       "      <td>1.135279</td>\n",
       "    </tr>\n",
       "    <tr>\n",
       "      <th>3</th>\n",
       "      <td>1485</td>\n",
       "      <td>32994941</td>\n",
       "      <td>2022-09-26 00:00:00+00:00</td>\n",
       "      <td>Unclassified_Acct</td>\n",
       "      <td>0</td>\n",
       "      <td>0</td>\n",
       "      <td>0.000000</td>\n",
       "      <td>0.000000</td>\n",
       "      <td>0.0</td>\n",
       "      <td>0.896631</td>\n",
       "      <td>...</td>\n",
       "      <td>-0.255101</td>\n",
       "      <td>-0.259185</td>\n",
       "      <td>1.125590</td>\n",
       "      <td>1.128038</td>\n",
       "      <td>-0.293870</td>\n",
       "      <td>-0.729542</td>\n",
       "      <td>-0.655018</td>\n",
       "      <td>-0.692058</td>\n",
       "      <td>1.135523</td>\n",
       "      <td>1.135279</td>\n",
       "    </tr>\n",
       "    <tr>\n",
       "      <th>4</th>\n",
       "      <td>9556</td>\n",
       "      <td>310111295</td>\n",
       "      <td>2022-09-26 00:00:00+00:00</td>\n",
       "      <td>Unclassified_Acct</td>\n",
       "      <td>0</td>\n",
       "      <td>0</td>\n",
       "      <td>0.238529</td>\n",
       "      <td>0.000000</td>\n",
       "      <td>0.0</td>\n",
       "      <td>1.119680</td>\n",
       "      <td>...</td>\n",
       "      <td>-0.255159</td>\n",
       "      <td>-0.258995</td>\n",
       "      <td>-1.499972</td>\n",
       "      <td>-1.498585</td>\n",
       "      <td>-0.279627</td>\n",
       "      <td>-0.660600</td>\n",
       "      <td>-0.577964</td>\n",
       "      <td>-0.625907</td>\n",
       "      <td>-1.084907</td>\n",
       "      <td>-1.084845</td>\n",
       "    </tr>\n",
       "  </tbody>\n",
       "</table>\n",
       "<p>5 rows × 115 columns</p>\n",
       "</div>"
      ],
      "text/plain": [
       "   account_gid account_id           event_timestamp          node_type  \\\n",
       "0         8843  310522842 2022-09-26 00:00:00+00:00    Classified_Acct   \n",
       "1         7372  102664424 2022-09-26 00:00:00+00:00    Classified_Acct   \n",
       "2         6819   24378551 2022-09-26 00:00:00+00:00  Unclassified_Acct   \n",
       "3         1485   32994941 2022-09-26 00:00:00+00:00  Unclassified_Acct   \n",
       "4         9556  310111295 2022-09-26 00:00:00+00:00  Unclassified_Acct   \n",
       "\n",
       "   target  split   embed_0   embed_1  embed_2   embed_3  ...  local_feat_85  \\\n",
       "0       0      0  1.109760  0.076339      0.0  0.808370  ...      -0.254929   \n",
       "1       0      2  2.129416  0.000000      0.0  0.602560  ...      -0.255168   \n",
       "2       0      0  0.000000  0.474104      0.0  1.008052  ...      -0.254584   \n",
       "3       0      0  0.000000  0.000000      0.0  0.896631  ...      -0.255101   \n",
       "4       0      0  0.238529  0.000000      0.0  1.119680  ...      -0.255159   \n",
       "\n",
       "   local_feat_86  local_feat_87  local_feat_88  local_feat_89  local_feat_90  \\\n",
       "0      -0.259014       1.125590       1.128038      -0.293830      -0.741721   \n",
       "1      -0.259251      -0.187191      -0.185274      -0.293897      -0.745834   \n",
       "2      -0.258672       1.125590       1.128038      -0.293870      -0.507623   \n",
       "3      -0.259185       1.125590       1.128038      -0.293870      -0.729542   \n",
       "4      -0.258995      -1.499972      -1.498585      -0.279627      -0.660600   \n",
       "\n",
       "   local_feat_91  local_feat_92  local_feat_93  local_feat_94  \n",
       "0      -0.669764      -0.702908       1.135523       1.135279  \n",
       "1      -0.678616      -0.710994       0.066572       0.580248  \n",
       "2      -0.386640      -0.494130       1.135523       1.135279  \n",
       "3      -0.655018      -0.692058       1.135523       1.135279  \n",
       "4      -0.577964      -0.625907      -1.084907      -1.084845  \n",
       "\n",
       "[5 rows x 115 columns]"
      ]
     },
     "execution_count": 4,
     "metadata": {},
     "output_type": "execute_result"
    }
   ],
   "source": [
    "ddf = dd.from_pandas(df, npartitions=1)\n",
    "ddf.head()"
   ]
  },
  {
   "cell_type": "code",
   "execution_count": 5,
   "metadata": {},
   "outputs": [],
   "source": [
    "train = ddf[(ddf.split == 0)]\n",
    "test = ddf[(ddf.split == 1)]\n",
    "X_train = train.iloc[:, 6:]\n",
    "X_test = test.iloc[:, 6:]\n",
    "y_train = train.iloc[:,4]\n",
    "y_test = test.iloc[:,4]"
   ]
  },
  {
   "cell_type": "code",
   "execution_count": 6,
   "metadata": {},
   "outputs": [],
   "source": [
    "new_params = {'objective': 'binary:logistic',\n",
    "          'eval_metric':'logloss',\n",
    "          'max_depth':10,\n",
    "          'verbosity':0,\n",
    "          'colsample_bytree':1,\n",
    "          'scale_pos_weight':8,\n",
    "          'reg_lambda':10,\n",
    "         }"
   ]
  },
  {
   "cell_type": "code",
   "execution_count": 7,
   "metadata": {},
   "outputs": [
    {
     "name": "stderr",
     "output_type": "stream",
     "text": [
      "/home/anuhyabs_katanagraph_com/.conda/envs/feast/lib/python3.8/site-packages/dask_xgboost/tracker.py:365: DeprecationWarning: isAlive() is deprecated, use is_alive() instead\n",
      "  while self.thread.isAlive():\n",
      "/home/anuhyabs_katanagraph_com/.conda/envs/feast/lib/python3.8/site-packages/dask_xgboost/__init__.py:7: UserWarning: Dask-XGBoost has been deprecated and is no longer maintained. The functionality of this project has been included directly in XGBoost. To use Dask and XGBoost together, please use ``xgboost.dask`` instead https://xgboost.readthedocs.io/en/latest/tutorials/dask.html.\n",
      "  warnings.warn(\n",
      "[20:41:45] Tree method is automatically selected to be 'approx' for distributed training.\n"
     ]
    },
    {
     "data": {
      "text/plain": [
       "<xgboost.core.Booster at 0x7fddc0aee1c0>"
      ]
     },
     "execution_count": 7,
     "metadata": {},
     "output_type": "execute_result"
    }
   ],
   "source": [
    "bst_embed = dxgb.train(client, new_params, X_train, y_train)\n",
    "bst_embed"
   ]
  },
  {
   "cell_type": "code",
   "execution_count": 8,
   "metadata": {},
   "outputs": [
    {
     "data": {
      "image/png": "[encoded data removed]",
      "text/plain": [
       "<Figure size 640x480 with 1 Axes>"
      ]
     },
     "metadata": {},
     "output_type": "display_data"
    }
   ],
   "source": [
    "%matplotlib inline\n",
    "\n",
    "ax = xgboost.plot_importance(bst_embed, height=0.8, max_num_features=10)\n",
    "ax.grid(False, axis=\"y\")\n",
    "ax.set_title('Estimated feature importance')\n",
    "plt.show()"
   ]
  },
  {
   "cell_type": "code",
   "execution_count": 9,
   "metadata": {},
   "outputs": [
    {
     "data": {
      "text/html": [
       "<table>\n",
       "    <tr>\n",
       "        <td>\n",
       "            <table>\n",
       "                <thead>\n",
       "                    <tr>\n",
       "                        <td> </td>\n",
       "                        <th> Array </th>\n",
       "                        <th> Chunk </th>\n",
       "                    </tr>\n",
       "                </thead>\n",
       "                <tbody>\n",
       "                    \n",
       "                    <tr>\n",
       "                        <th> Bytes </th>\n",
       "                        <td> unknown </td>\n",
       "                        <td> unknown </td>\n",
       "                    </tr>\n",
       "                    \n",
       "                    <tr>\n",
       "                        <th> Shape </th>\n",
       "                        <td> (nan,) </td>\n",
       "                        <td> (nan,) </td>\n",
       "                    </tr>\n",
       "                    <tr>\n",
       "                        <th> Count </th>\n",
       "                        <td> 1 Graph Layer </td>\n",
       "                        <td> 1 Chunks </td>\n",
       "                    </tr>\n",
       "                    <tr>\n",
       "                    <th> Type </th>\n",
       "                    <td> float32 </td>\n",
       "                    <td> numpy.ndarray </td>\n",
       "                    </tr>\n",
       "                </tbody>\n",
       "            </table>\n",
       "        </td>\n",
       "        <td>\n",
       "        \n",
       "        </td>\n",
       "    </tr>\n",
       "</table>"
      ],
      "text/plain": [
       "dask.array<values, shape=(nan,), dtype=float32, chunksize=(nan,), chunktype=numpy.ndarray>"
      ]
     },
     "execution_count": 9,
     "metadata": {},
     "output_type": "execute_result"
    },
    {
     "name": "stderr",
     "output_type": "stream",
     "text": [
      "/home/anuhyabs_katanagraph_com/.conda/envs/feast/lib/python3.8/site-packages/dask_xgboost/__init__.py:7: UserWarning: Dask-XGBoost has been deprecated and is no longer maintained. The functionality of this project has been included directly in XGBoost. To use Dask and XGBoost together, please use ``xgboost.dask`` instead https://xgboost.readthedocs.io/en/latest/tutorials/dask.html.\n",
      "  warnings.warn(\n"
     ]
    }
   ],
   "source": [
    "predictions_embed = dxgb.predict(client, bst_embed, X_test).persist()\n",
    "predictions_embed"
   ]
  },
  {
   "cell_type": "code",
   "execution_count": 10,
   "metadata": {},
   "outputs": [
    {
     "data": {
      "text/plain": [
       "array([0.02425236, 0.03095298, 0.02463905, ..., 0.97286725, 0.1679642 ,\n",
       "       0.06612833], dtype=float32)"
      ]
     },
     "execution_count": 10,
     "metadata": {},
     "output_type": "execute_result"
    }
   ],
   "source": [
    "predictions_embed.compute()"
   ]
  },
  {
   "cell_type": "code",
   "execution_count": 11,
   "metadata": {},
   "outputs": [
    {
     "name": "stdout",
     "output_type": "stream",
     "text": [
      "0.750943396226415\n"
     ]
    }
   ],
   "source": [
    "pred_embed = da.where(predictions_embed > 0.5, 1, 0).compute()\n",
    "y = np.array(y_test.compute()).astype(str).astype(int)\n",
    "print(f1_score(y,pred_embed))"
   ]
  }
 ],
 "metadata": {
  "kernelspec": {
   "display_name": "Python 3 (ipykernel)",
   "language": "python",
   "name": "python3"
  },
  "language_info": {
   "codemirror_mode": {
    "name": "ipython",
    "version": 3
   },
   "file_extension": ".py",
   "mimetype": "text/x-python",
   "name": "python",
   "nbconvert_exporter": "python",
   "pygments_lexer": "ipython3",
   "version": "3.8.13"
  },
  "vscode": {
   "interpreter": {
    "hash": "10ed195dab9b8616e7f1f644204eeadf80da53dfcea734c766b43162222b6e66"
   }
  }
 },
 "nbformat": 4,
 "nbformat_minor": 4
}
