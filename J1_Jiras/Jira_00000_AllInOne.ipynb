{
 "cells": [
  {
   "cell_type": "code",
   "execution_count": 17,
   "id": "87e5a845-5cbd-49d8-bf61-4a13cd80a1f5",
   "metadata": {},
   "outputs": [
    {
     "data": {
      "text/html": [],
      "text/plain": [
       "<IPython.core.display.HTML object>"
      ]
     },
     "metadata": {},
     "output_type": "display_data"
    },
    {
     "name": "stdout",
     "output_type": "stream",
     "text": [
      "--\n"
     ]
    }
   ],
   "source": [
    "\n",
    "#  Setting display options \n",
    "\n",
    "import pandas as pd\n",
    "   #\n",
    "pd.set_option(\"display.width\", 480)\n",
    "\n",
    "#  Sets horizontal scroll for wide outputs\n",
    "#\n",
    "from IPython.display import display, HTML\n",
    "display(HTML(\"\"))\n",
    "\n",
    "from tabulate import tabulate\n",
    "\n",
    "print(\"--\")\n"
   ]
  },
  {
   "cell_type": "markdown",
   "id": "d3ebe820-bc6d-4948-b668-8b81cd3cbf29",
   "metadata": {
    "tags": []
   },
   "source": [
    "#  Setup stuff: Connectivity"
   ]
  },
  {
   "cell_type": "code",
   "execution_count": 18,
   "id": "1ea957d6-30c6-427a-ae4e-15ecfba0c4f9",
   "metadata": {},
   "outputs": [
    {
     "name": "stdout",
     "output_type": "stream",
     "text": [
      "<katana_enterprise.remote.sync_wrappers.Client object at 0x7fc1854a9850>\n"
     ]
    }
   ],
   "source": [
    "\n",
    "from katana import remote\n",
    "from katana.remote import import_data\n",
    "\n",
    "\n",
    "my_client = remote.Client()\n",
    "\n",
    "print(my_client)\n"
   ]
  },
  {
   "cell_type": "code",
   "execution_count": 19,
   "id": "97571016-7c02-4e90-a75a-136a0dacd35f",
   "metadata": {},
   "outputs": [
    {
     "name": "stdout",
     "output_type": "stream",
     "text": [
      "--\n"
     ]
    }
   ],
   "source": [
    "\n",
    "NUM_PARTITIONS  = 3\n",
    "   #\n",
    "DB_NAME         = \"my_db\"\n",
    "GRAPH_NAME      = \"my_graph\"\n",
    "\n",
    "print(\"--\")\n"
   ]
  },
  {
   "cell_type": "code",
   "execution_count": 20,
   "id": "8ed2d715-aaeb-4381-9216-46fa0dd421b6",
   "metadata": {},
   "outputs": [
    {
     "name": "stdout",
     "output_type": "stream",
     "text": [
      "--\n"
     ]
    }
   ],
   "source": [
    "\n",
    "#  DELETE ALL GRAPHS\n",
    "\n",
    "for l_database in my_client.databases():\n",
    "   for l_graph in my_client.get_database(name=l_database.name).graphs_in_database():\n",
    "      l_handle=my_client.get_database(name=l_database.name).get_graph_by_id(id=l_graph.graph_id)\n",
    "      l_handle.delete()\n",
    "\n",
    "for l_graph in my_client.graphs():\n",
    "   print(\"GRAPH ID: \", l_graph.graph_id, \"      GRAPH Version: \", l_graph.version)\n",
    "\n",
    "print(\"--\")\n"
   ]
  },
  {
   "cell_type": "code",
   "execution_count": null,
   "id": "cf9c16ec-913f-46a8-bccc-76fc92c54866",
   "metadata": {},
   "outputs": [],
   "source": [
    "\n",
    "#  DELETE ALL DATABASES\n",
    "\n",
    "for l_database in my_client.databases():\n",
    "   if (l_database.name != \"default\"):\n",
    "      my_client.get_database(name=l_database.name).delete_database()\n",
    "      print(\"--\")\n",
    "\n",
    "for l_database in my_client.databases():\n",
    "   print(\"DB ID: \", l_database.database_id, \"     DB Name: \", l_database.name)\n"
   ]
  },
  {
   "cell_type": "code",
   "execution_count": null,
   "id": "6e72729c-265b-40e4-a3ee-674b793bed81",
   "metadata": {},
   "outputs": [],
   "source": [
    "\n",
    "#  CREATE DATABASE\n",
    "\n",
    "my_database = my_client.create_database(name=DB_NAME)\n",
    "\n",
    "print(my_database.database_id)\n"
   ]
  },
  {
   "cell_type": "code",
   "execution_count": 21,
   "id": "2fc31da4-44c3-4bd3-b160-b315766dcd88",
   "metadata": {},
   "outputs": [
    {
     "name": "stdout",
     "output_type": "stream",
     "text": [
      "<_Graph my_graph, HHL6d7YqrtAGMT5vsA6B1BSZkDPrEiEPy9tC7Sv3xVVJ, 0>\n"
     ]
    }
   ],
   "source": [
    "\n",
    "#  CREATE GRAPH\n",
    "#\n",
    "my_graph = my_client.get_database(name=DB_NAME).create_graph(name=GRAPH_NAME, num_partitions=NUM_PARTITIONS)\n",
    "\n",
    "print(my_graph)\n"
   ]
  },
  {
   "cell_type": "code",
   "execution_count": null,
   "id": "c5db6505-7fc8-4779-b194-9ed8945b9a90",
   "metadata": {},
   "outputs": [],
   "source": [
    "\n",
    "#  CONNECT TO GRAPH\n",
    "\n",
    "my_graph, *_ = my_client.get_database(name=DB_NAME).find_graphs_by_name(GRAPH_NAME)\n",
    "\n",
    "print(my_graph)\n"
   ]
  },
  {
   "cell_type": "markdown",
   "id": "61556ce5-9044-42bc-bb13-80b6a514ae27",
   "metadata": {
    "tags": []
   },
   "source": [
    "# Create: Vertices/nodes, edges .."
   ]
  },
  {
   "cell_type": "code",
   "execution_count": null,
   "id": "f7efb47b-3c7d-45f3-acc8-ae29c3e2a1bf",
   "metadata": {},
   "outputs": [],
   "source": [
    "# import pandas as pd\n",
    "# \n",
    "# print(\"--\")\n"
   ]
  },
  {
   "cell_type": "code",
   "execution_count": 22,
   "id": "8e7ecf31-d69e-4b5a-8a37-0cfb4c32fd33",
   "metadata": {},
   "outputs": [
    {
     "name": "stdout",
     "output_type": "stream",
     "text": [
      "+----+------+----------------+---------+\n",
      "|    | id   | airport_name   | LABEL   |\n",
      "|----+------+----------------+---------|\n",
      "|  0 | MKE  | Milwaukee      | Airport |\n",
      "|  1 | ORD  | Chicago O-Hare | Airport |\n",
      "|  2 | SJC  | San Jose       | Airport |\n",
      "|  3 | DEN  | Denver         | Airport |\n",
      "+----+------+----------------+---------+\n",
      "+----+------+---------------+---------+\n",
      "|    | id   | person_name   | LABEL   |\n",
      "|----+------+---------------+---------|\n",
      "|  0 | BOB  | Bob           | Person  |\n",
      "|  1 | HADI | Hadi          | Person  |\n",
      "|  2 | TIM  | Tim           | Person  |\n",
      "|  3 | SAM  | Sam           | Person  |\n",
      "+----+------+---------------+---------+\n"
     ]
    }
   ],
   "source": [
    "\n",
    "#  Create Vertices/Nodes ..\n",
    "\n",
    "df_airports = pd.DataFrame([\n",
    "       #\n",
    "   [\"MKE\" , \"Milwaukee\"               , \"Airport\"],\n",
    "   [\"ORD\" , \"Chicago O-Hare\"          , \"Airport\"],\n",
    "   [\"SJC\" , \"San Jose\"                , \"Airport\"],\n",
    "   [\"DEN\" , \"Denver\"                  , \"Airport\"],\n",
    "       #\n",
    "   ], columns = [\"id\", \"airport_name\", \"LABEL\"])\n",
    "      #\n",
    "print(tabulate(df_airports, headers='keys', tablefmt='psql'))\n",
    "\n",
    "df_persons = pd.DataFrame([\n",
    "       #\n",
    "   [\"BOB\" , \"Bob\"                     , \"Person\" ],\n",
    "   [\"HADI\", \"Hadi\"                    , \"Person\" ],\n",
    "   [\"TIM\" , \"Tim\"                     , \"Person\" ],\n",
    "   [\"SAM\" , \"Sam\"                     , \"Person\" ],\n",
    "       #\n",
    "   ], columns = [\"id\", \"person_name\" , \"LABEL\"])\n",
    "      #\n",
    "print(tabulate(df_persons, headers='keys', tablefmt='psql'))\n",
    "\n",
    "#  Sample output,\n",
    "#\n",
    "#     +----+------+----------------+---------+\n",
    "#     |    | id   | airport_name   | LABEL   |\n",
    "#     |----+------+----------------+---------|\n",
    "#     |  0 | MKE  | Milwaukee      | Airport |\n",
    "#     |  1 | ORD  | Chicago O-Hare | Airport |\n",
    "#     |  2 | SJC  | San Jose       | Airport |\n",
    "#     |  3 | DEN  | Denver         | Airport |\n",
    "#     +----+------+----------------+---------+\n",
    "#     +----+------+---------------+---------+\n",
    "#     |    | id   | person_name   | LABEL   |\n",
    "#     |----+------+---------------+---------|\n",
    "#     |  0 | BOB  | Bob           | Person  |\n",
    "#     |  1 | HADI | Hadi          | Person  |\n",
    "#     |  2 | TIM  | Tim           | Person  |\n",
    "#     |  3 | SAM  | Sam           | Person  |\n",
    "#     +----+------+---------------+---------+\n"
   ]
  },
  {
   "cell_type": "code",
   "execution_count": 23,
   "id": "60eaac88-4dd5-47d3-94b3-0f5fd0b243f2",
   "metadata": {},
   "outputs": [
    {
     "name": "stdout",
     "output_type": "stream",
     "text": [
      "+----+------------+----------+------------+\n",
      "|    | START_ID   | END_ID   | TYPE       |\n",
      "|----+------------+----------+------------|\n",
      "|  0 | BOB        | ORD      | RELATES_TO |\n",
      "|  1 | HADI       | MKE      | RELATES_TO |\n",
      "|  2 | HADI       | ORD      | RELATES_TO |\n",
      "|  3 | BOB        | DEN      | RELATES_TO |\n",
      "+----+------------+----------+------------+\n",
      "+----+------------+----------+------------+\n",
      "|    | START_ID   | END_ID   | TYPE       |\n",
      "|----+------------+----------+------------|\n",
      "|  0 | ORD        | BOB      | RELATES_TO |\n",
      "|  1 | MKE        | HADI     | RELATES_TO |\n",
      "|  2 | DEN        | TIM      | RELATES_TO |\n",
      "|  3 | DEN        | TIM      | RELATES_TO |\n",
      "+----+------------+----------+------------+\n"
     ]
    }
   ],
   "source": [
    "\n",
    "#  Create the Edge/Relationships ..\n",
    "\n",
    "df_relates_to_N = pd.DataFrame([\n",
    "      #\n",
    "   [\"BOB\" , \"ORD\" , \"RELATES_TO\"],\n",
    "      #\n",
    "   [\"HADI\", \"MKE\" , \"RELATES_TO\"],\n",
    "   [\"HADI\", \"ORD\" , \"RELATES_TO\"],\n",
    "      #\n",
    "   [\"BOB\" , \"DEN\" , \"RELATES_TO\"],\n",
    "      #\n",
    "   ], columns = [\"START_ID\", \"END_ID\", \"TYPE\"])\n",
    "      #\n",
    "print(tabulate(df_relates_to_N, headers='keys', tablefmt='psql'))\n",
    "\n",
    "df_relates_to_S = pd.DataFrame([\n",
    "      #\n",
    "   [\"ORD\" , \"BOB\" , \"RELATES_TO\"],\n",
    "      #\n",
    "   [\"MKE\" , \"HADI\", \"RELATES_TO\"],\n",
    "      #\n",
    "   [\"DEN\" , \"TIM\" , \"RELATES_TO\"],\n",
    "   [\"DEN\" , \"TIM\" , \"RELATES_TO\"],\n",
    "      #\n",
    "   ], columns = [\"START_ID\", \"END_ID\", \"TYPE\"])\n",
    "      #\n",
    "print(tabulate(df_relates_to_S, headers='keys', tablefmt='psql'))\n",
    "\n",
    "#  Sample output,\n",
    "#\n",
    "#     +----+------------+----------+------------+\n",
    "#     |    | START_ID   | END_ID   | TYPE       |\n",
    "#     |----+------------+----------+------------|\n",
    "#     |  0 | BOB        | ORD      | RELATES_TO |\n",
    "#     |  1 | HADI       | MKE      | RELATES_TO |\n",
    "#     |  2 | HADI       | ORD      | RELATES_TO |\n",
    "#     |  3 | BOB        | DEN      | RELATES_TO |\n",
    "#     +----+------------+----------+------------+\n",
    "#     +----+------------+----------+------------+\n",
    "#     |    | START_ID   | END_ID   | TYPE       |\n",
    "#     |----+------------+----------+------------|\n",
    "#     |  0 | ORD        | BOB      | RELATES_TO |\n",
    "#     |  1 | MKE        | HADI     | RELATES_TO |\n",
    "#     |  2 | DEN        | TIM      | RELATES_TO |\n",
    "#     |  3 | DEN        | TIM      | RELATES_TO |\n",
    "#     +----+------------+----------+------------+\n"
   ]
  },
  {
   "cell_type": "code",
   "execution_count": 26,
   "id": "49e8f39e-4b4f-4377-a8ac-52a1ad07094f",
   "metadata": {},
   "outputs": [
    {
     "data": {
      "application/vnd.jupyter.widget-view+json": {
       "model_id": "9461c042f44642cba53bc5e7aaeba7f6",
       "version_major": 2,
       "version_minor": 0
      },
      "text/plain": [
       "          0/? [?op/s]"
      ]
     },
     "metadata": {},
     "output_type": "display_data"
    },
    {
     "data": {
      "application/vnd.jupyter.widget-view+json": {
       "model_id": "762efbe4283541269492675682f17f2d",
       "version_major": 2,
       "version_minor": 0
      },
      "text/plain": [
       "          0/? [?op/s]"
      ]
     },
     "metadata": {},
     "output_type": "display_data"
    },
    {
     "data": {
      "application/vnd.jupyter.widget-view+json": {
       "model_id": "f17a9301019c44339489c9d52d43d424",
       "version_major": 2,
       "version_minor": 0
      },
      "text/plain": [
       "          0/? [?op/s]"
      ]
     },
     "metadata": {},
     "output_type": "display_data"
    },
    {
     "data": {
      "application/vnd.jupyter.widget-view+json": {
       "model_id": "5a4297eb1ddc4009b6c9f17e7f5b7643",
       "version_major": 2,
       "version_minor": 0
      },
      "text/plain": [
       "          0/? [?op/s]"
      ]
     },
     "metadata": {},
     "output_type": "display_data"
    },
    {
     "data": {
      "application/vnd.jupyter.widget-view+json": {
       "model_id": "34600bc35f614b9faca57e3188451c2d",
       "version_major": 2,
       "version_minor": 0
      },
      "text/plain": [
       "          0/? [?op/s]"
      ]
     },
     "metadata": {},
     "output_type": "display_data"
    },
    {
     "data": {
      "application/vnd.jupyter.widget-view+json": {
       "model_id": "21b13fd985a0415bb463b891c05a5084",
       "version_major": 2,
       "version_minor": 0
      },
      "text/plain": [
       "          0/? [?op/s]"
      ]
     },
     "metadata": {},
     "output_type": "display_data"
    },
    {
     "data": {
      "application/vnd.jupyter.widget-view+json": {
       "model_id": "9fddfc0cbc674c0e9ea21208481ffd0c",
       "version_major": 2,
       "version_minor": 0
      },
      "text/plain": [
       "          0/? [?op/s]"
      ]
     },
     "metadata": {},
     "output_type": "display_data"
    },
    {
     "data": {
      "application/vnd.jupyter.widget-view+json": {
       "model_id": "2fa3fed7daf7469aab13fbe4904cc39e",
       "version_major": 2,
       "version_minor": 0
      },
      "text/plain": [
       "          0/? [?op/s]"
      ]
     },
     "metadata": {},
     "output_type": "display_data"
    },
    {
     "name": "stdout",
     "output_type": "stream",
     "text": [
      "--\n"
     ]
    }
   ],
   "source": [
    "\n",
    "#  Import the previously created Python PandasDataFrames into KatanaGraph ..\n",
    "\n",
    "\n",
    "with import_data.DataFrameImporter(my_graph) as df_importer:   \n",
    "   df_importer.nodes_dataframe(\n",
    "      df_airports,\n",
    "      id_column             = \"id\",\n",
    "      id_space              = \"Airport\",  \n",
    "      label                 = \"Airport\",  \n",
    "      )\n",
    "   df_importer.insert()\n",
    " \n",
    "with import_data.DataFrameImporter(my_graph) as df_importer:   \n",
    "   df_importer.nodes_dataframe(\n",
    "      df_persons,\n",
    "      id_column             = \"id\",\n",
    "      id_space              = \"Person\",  \n",
    "      label                 = \"Person\",  \n",
    "      )\n",
    "   df_importer.insert()\n",
    " \n",
    "\n",
    "with import_data.DataFrameImporter(my_graph) as df_importer:   \n",
    "   df_importer.edges_dataframe(\n",
    "      df_relates_to_N,\n",
    "      source_id_space       = \"Person\", \n",
    "      destination_id_space  = \"Airport\",   \n",
    "      source_column         = \"START_ID\",\n",
    "      destination_column    = \"END_ID\",\n",
    "      type                  = \"RELATES_TO\"\n",
    "      )\n",
    "         #\n",
    "   df_importer.node_id_property_name(\"id\")\n",
    "      #\n",
    "   df_importer.insert()\n",
    " \n",
    "with import_data.DataFrameImporter(my_graph) as df_importer:   \n",
    "   df_importer.edges_dataframe(\n",
    "      df_relates_to_S,\n",
    "      source_id_space       = \"Airport\", \n",
    "      destination_id_space  = \"Person\",   \n",
    "      source_column         = \"START_ID\",\n",
    "      destination_column    = \"END_ID\",\n",
    "      type                  = \"RELATES_TO\"\n",
    "      )\n",
    "         #\n",
    "   df_importer.node_id_property_name(\"id\")\n",
    "      #\n",
    "   df_importer.insert()\n",
    "\n",
    "\n",
    "print(\"--\")\n",
    "\n"
   ]
  },
  {
   "cell_type": "markdown",
   "id": "5a304dce-c9fb-4e3d-8a94-0f5de7a1ee3a",
   "metadata": {},
   "source": [
    "#  Verifying Results .."
   ]
  },
  {
   "cell_type": "code",
   "execution_count": 27,
   "id": "54e7abf1-098f-4dc1-8eb8-750960d2e0b1",
   "metadata": {},
   "outputs": [
    {
     "data": {
      "application/vnd.jupyter.widget-view+json": {
       "model_id": "818d9b56788f4845bce1b93ae72062af",
       "version_major": 2,
       "version_minor": 0
      },
      "text/plain": [
       "          0/? [?op/s]"
      ]
     },
     "metadata": {},
     "output_type": "display_data"
    },
    {
     "data": {
      "text/plain": [
       "8"
      ]
     },
     "metadata": {},
     "output_type": "display_data"
    },
    {
     "data": {
      "application/vnd.jupyter.widget-view+json": {
       "model_id": "231f0a89a677436283eb0b25ce953fdf",
       "version_major": 2,
       "version_minor": 0
      },
      "text/plain": [
       "          0/? [?op/s]"
      ]
     },
     "metadata": {},
     "output_type": "display_data"
    },
    {
     "data": {
      "text/plain": [
       "8"
      ]
     },
     "metadata": {},
     "output_type": "display_data"
    }
   ],
   "source": [
    "\n",
    "display(my_graph.num_nodes())\n",
    "display(my_graph.num_edges())\n",
    "\n",
    "#  Sample output,\n",
    "#\n",
    "#     8\n",
    "#     8\n"
   ]
  },
  {
   "cell_type": "code",
   "execution_count": 29,
   "id": "b9bbf601-a25b-4dd9-8f99-83ec1a576505",
   "metadata": {},
   "outputs": [
    {
     "data": {
      "application/vnd.jupyter.widget-view+json": {
       "model_id": "f59d8af33bba48ababf4f22895807957",
       "version_major": 2,
       "version_minor": 0
      },
      "text/plain": [
       "          0/? [?op/s]"
      ]
     },
     "metadata": {},
     "output_type": "display_data"
    },
    {
     "name": "stdout",
     "output_type": "stream",
     "text": [
      "+----+------------+\n",
      "|    |   COUNT(*) |\n",
      "|----+------------|\n",
      "|  0 |          8 |\n",
      "+----+------------+\n"
     ]
    }
   ],
   "source": [
    "\n",
    "#  What's in the graph ..\n",
    "\n",
    "l_result = my_graph.query(\"\"\"\n",
    "   MATCH ( n ) \n",
    "   RETURN COUNT(*)\n",
    "   \"\"\")\n",
    "print(tabulate(l_result, headers='keys', tablefmt='psql'))\n",
    "\n",
    "#  Sample output,  this is correct\n",
    "#\n",
    "#     +----+------------+\n",
    "#     |    |   COUNT(*) |\n",
    "#     |----+------------|\n",
    "#     |  0 |          8 |\n",
    "#     +----+------------+\n"
   ]
  },
  {
   "cell_type": "code",
   "execution_count": 33,
   "id": "a6aa921e-7764-4d7f-aece-14e3732a5589",
   "metadata": {},
   "outputs": [
    {
     "data": {
      "application/vnd.jupyter.widget-view+json": {
       "model_id": "4a21ecc6782848eb99875b0f2d8a9d59",
       "version_major": 2,
       "version_minor": 0
      },
      "text/plain": [
       "          0/? [?op/s]"
      ]
     },
     "metadata": {},
     "output_type": "display_data"
    },
    {
     "name": "stdout",
     "output_type": "stream",
     "text": [
      "+----+------------+\n",
      "|    |   COUNT(r) |\n",
      "|----+------------|\n",
      "|  0 |          8 |\n",
      "+----+------------+\n"
     ]
    }
   ],
   "source": [
    "\n",
    "#  What's in the graph ..\n",
    "\n",
    "l_result = my_graph.query(\"\"\"\n",
    "   MATCH (n) - [r] -> (m)\n",
    "   RETURN COUNT(r)\n",
    "   \"\"\")\n",
    "print(tabulate(l_result, headers='keys', tablefmt='psql'))\n",
    "\n",
    "#  Sample output,  this is correct\n",
    "#\n",
    "#     +----+------------+\n",
    "#     |    |   COUNT(r) |\n",
    "#     |----+------------|\n",
    "#     |  0 |          8 |\n",
    "#     +----+------------+\n"
   ]
  },
  {
   "cell_type": "code",
   "execution_count": 34,
   "id": "99d71a6b-0696-43ec-8e4a-99443a2573e4",
   "metadata": {},
   "outputs": [
    {
     "data": {
      "application/vnd.jupyter.widget-view+json": {
       "model_id": "22c656f14f8c44dea237a6b867488a42",
       "version_major": 2,
       "version_minor": 0
      },
      "text/plain": [
       "          0/? [?op/s]"
      ]
     },
     "metadata": {},
     "output_type": "display_data"
    },
    {
     "name": "stdout",
     "output_type": "stream",
     "text": [
      "+----+------------+\n",
      "|    |   COUNT(r) |\n",
      "|----+------------|\n",
      "|  0 |          4 |\n",
      "+----+------------+\n"
     ]
    }
   ],
   "source": [
    "\n",
    "#  What's in the graph ..\n",
    "\n",
    "l_result = my_graph.query(\"\"\"\n",
    "   MATCH (n: Person) - [r] -> (m: Airport)\n",
    "   RETURN COUNT(r)\n",
    "   \"\"\")\n",
    "print(tabulate(l_result, headers='keys', tablefmt='psql'))\n",
    "\n",
    "#  Sample output,  this is correct\n",
    "#\n",
    "#     +----+------------+\n",
    "#     |    |   COUNT(r) |\n",
    "#     |----+------------|\n",
    "#     |  0 |          4 |\n",
    "#     +----+------------+\n"
   ]
  },
  {
   "cell_type": "code",
   "execution_count": 35,
   "id": "6160bd57-15aa-4ff0-9269-9431e6f7dd2b",
   "metadata": {},
   "outputs": [
    {
     "data": {
      "application/vnd.jupyter.widget-view+json": {
       "model_id": "8085feb4e22540fea6fd3effdf500a40",
       "version_major": 2,
       "version_minor": 0
      },
      "text/plain": [
       "          0/? [?op/s]"
      ]
     },
     "metadata": {},
     "output_type": "display_data"
    },
    {
     "name": "stdout",
     "output_type": "stream",
     "text": [
      "+----+------------+\n",
      "|    |   COUNT(r) |\n",
      "|----+------------|\n",
      "|  0 |          4 |\n",
      "+----+------------+\n"
     ]
    }
   ],
   "source": [
    "\n",
    "#  What's in the graph ..\n",
    "\n",
    "l_result = my_graph.query(\"\"\"\n",
    "   MATCH (n: Airport) - [r] -> (m: Person)\n",
    "   RETURN COUNT(r)\n",
    "   \"\"\")\n",
    "print(tabulate(l_result, headers='keys', tablefmt='psql'))\n",
    "\n",
    "#  Sample output,  this is correct\n",
    "#\n",
    "#     +----+------------+\n",
    "#     |    |   COUNT(r) |\n",
    "#     |----+------------|\n",
    "#     |  0 |          4 |\n",
    "#     +----+------------+\n"
   ]
  },
  {
   "cell_type": "code",
   "execution_count": 36,
   "id": "1c817316-79c8-4875-995e-86fd5c544e2c",
   "metadata": {},
   "outputs": [
    {
     "data": {
      "application/vnd.jupyter.widget-view+json": {
       "model_id": "79ff0957fb2644fca7633f9fbc2a6dee",
       "version_major": 2,
       "version_minor": 0
      },
      "text/plain": [
       "          0/? [?op/s]"
      ]
     },
     "metadata": {},
     "output_type": "display_data"
    },
    {
     "name": "stdout",
     "output_type": "stream",
     "text": [
      "+----+------------+\n",
      "|    |   COUNT(r) |\n",
      "|----+------------|\n",
      "|  0 |          8 |\n",
      "+----+------------+\n"
     ]
    }
   ],
   "source": [
    "\n",
    "#  What's in the graph ..\n",
    "\n",
    "l_result = my_graph.query(\"\"\"\n",
    "   MATCH (n: Person) - [r] - (m: Airport)\n",
    "   RETURN COUNT(r)\n",
    "   \"\"\")\n",
    "print(tabulate(l_result, headers='keys', tablefmt='psql'))\n",
    "\n",
    "#  Sample output,  this is correct\n",
    "#\n",
    "#     +----+------------+\n",
    "#     |    |   COUNT(r) |\n",
    "#     |----+------------|\n",
    "#     |  0 |          8 |\n",
    "#     +----+------------+\n"
   ]
  }
 ],
 "metadata": {
  "kernelspec": {
   "display_name": "Python 3 (ipykernel)",
   "language": "python",
   "name": "python3"
  },
  "language_info": {
   "codemirror_mode": {
    "name": "ipython",
    "version": 3
   },
   "file_extension": ".py",
   "mimetype": "text/x-python",
   "name": "python",
   "nbconvert_exporter": "python",
   "pygments_lexer": "ipython3",
   "version": "3.8.13"
  }
 },
 "nbformat": 4,
 "nbformat_minor": 5
}
