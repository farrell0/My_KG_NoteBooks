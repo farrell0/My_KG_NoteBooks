{
 "cells": [
  {
   "cell_type": "code",
   "execution_count": null,
   "id": "1887e621-cd56-4d25-ab4b-7e484f969b7d",
   "metadata": {},
   "outputs": [],
   "source": [
    "\n",
    "#  Setting display options \n",
    "\n",
    "import pandas as pd\n",
    "   #\n",
    "pd.set_option(\"display.width\", 480)\n",
    "\n",
    "from tabulate import tabulate\n",
    "\n",
    "   ###\n",
    "\n",
    "l_result = [{ \"col1\": 20, \"col2\": 30}]\n",
    "   #\n",
    "print(tabulate(l_result, headers='keys', tablefmt='psql'))\n",
    "\n",
    "\n",
    "print(\"--\")\n"
   ]
  },
  {
   "cell_type": "code",
   "execution_count": 22,
   "id": "6daf2f58-5c6e-4bb2-884e-148a91b00843",
   "metadata": {},
   "outputs": [
    {
     "data": {
      "application/vnd.jupyter.widget-view+json": {
       "model_id": "f8d9fbb0443c45839bbbcc9167e3929d",
       "version_major": 2,
       "version_minor": 0
      },
      "text/plain": [
       "SelectMultiple(description='Use this: ', index=(0,), layout=Layout(width='max-content'), options=('Graph 01 - …"
      ]
     },
     "metadata": {},
     "output_type": "display_data"
    }
   ],
   "source": [
    "\n",
    "#  Presenting an HTML style drop down list box (DDLB) inside your NoteBook\n",
    "#\n",
    "#     .  You can not have a print() or similar method invocation here, otherwise the DDLB won't display\n",
    "#     .  See also,\n",
    "#           https://ipywidgets.readthedocs.io/en/stable/examples/Widget%20List.html\n",
    "\n",
    "import ipywidgets as widgets\n",
    "\n",
    "l_whichgraph = widgets.SelectMultiple(\n",
    "   options=[\n",
    "      \"Graph 01 - Full graph\",\n",
    "      \"Graph 02 - Similarity graph, just nodes of one type\",\n",
    "      \"Graph 03 - Bi-paritite graph\",\n",
    "      ],\n",
    "   value=[\"Graph 01 - Full graph\"],\n",
    "   description=\"Use this: \",\n",
    "   disabled=False,\n",
    "   layout={'width': 'max-content'}\n",
    "   )\n",
    "\n",
    "l_whichgraph                 #  Now run this cell as 'code'\n"
   ]
  },
  {
   "cell_type": "code",
   "execution_count": 15,
   "id": "4aa498e1-d672-4c3e-941e-fdc1098d393e",
   "metadata": {},
   "outputs": [
    {
     "name": "stdout",
     "output_type": "stream",
     "text": [
      "('Graph 01 - Full graph',)\n"
     ]
    }
   ],
   "source": [
    "\n",
    "#  Retrieving/using the currently selected value \n",
    "#\n",
    "\n",
    "my_graph = l_whichgraph.value\n",
    "\n",
    "print(my_graph)\n"
   ]
  },
  {
   "cell_type": "code",
   "execution_count": null,
   "id": "809dbe11-d8b8-405a-bcbd-b8c850726b3c",
   "metadata": {},
   "outputs": [],
   "source": [
    "\n",
    "widgets.RadioButtons(\n",
    "   options =['pepperoni', 'pineapple', 'anchovies'],\n",
    "#    value='pineapple', # Defaults to 'pineapple'\n",
    "#    layout={'width': 'max-content'}, # If the items' names are long\n",
    "    description='Pizza topping:',\n",
    "    disabled=False\n",
    ")\n",
    "\n",
    "\n",
    "\n",
    "\n",
    "\n"
   ]
  },
  {
   "cell_type": "code",
   "execution_count": null,
   "id": "95701b3f-752c-45d7-bb23-7388d9552c56",
   "metadata": {},
   "outputs": [],
   "source": []
  }
 ],
 "metadata": {
  "kernelspec": {
   "display_name": "Python 3 (ipykernel)",
   "language": "python",
   "name": "python3"
  },
  "language_info": {
   "codemirror_mode": {
    "name": "ipython",
    "version": 3
   },
   "file_extension": ".py",
   "mimetype": "text/x-python",
   "name": "python",
   "nbconvert_exporter": "python",
   "pygments_lexer": "ipython3",
   "version": "3.8.13"
  }
 },
 "nbformat": 4,
 "nbformat_minor": 5
}
