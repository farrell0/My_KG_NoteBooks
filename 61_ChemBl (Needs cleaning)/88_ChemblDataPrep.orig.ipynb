{
 "cells": [
  {
   "cell_type": "code",
   "execution_count": null,
   "id": "e711c7db-9760-4cc4-8c2d-6ce3e2cc7634",
   "metadata": {},
   "outputs": [],
   "source": [
    "#!python -m mitoinstaller install\n",
    "#!python -m mitoinstaller install\n",
    "!pip install chembl-downloader"
   ]
  },
  {
   "cell_type": "markdown",
   "id": "4d1ad3a4-2654-430c-bef4-ec77bd2984fe",
   "metadata": {},
   "source": [
    "# CHeMBL LPG from RDF "
   ]
  },
  {
   "cell_type": "code",
   "execution_count": 6,
   "id": "99ab285b-2afb-43c7-8485-f65fd17178f3",
   "metadata": {},
   "outputs": [
    {
     "name": "stdout",
     "output_type": "stream",
     "text": [
      "Importing graph from CSV files into graph Graph(2fxph5v26HdK9QUD1J5mKtNHKekouqNJUadGesbLfQi3,0) ...\n"
     ]
    },
    {
     "data": {
      "application/vnd.jupyter.widget-view+json": {
       "model_id": "f9d7b3a6c1614559a8cd9493135873e2",
       "version_major": 2,
       "version_minor": 0
      },
      "text/plain": [
       "          0/? [?op/s]"
      ]
     },
     "metadata": {},
     "output_type": "display_data"
    },
    {
     "name": "stdout",
     "output_type": "stream",
     "text": [
      "CPU times: user 2.92 s, sys: 290 ms, total: 3.21 s\n",
      "Wall time: 7min 36s\n"
     ]
    }
   ],
   "source": [
    "%%time\n",
    "from katana import remote\n",
    "from katana.remote import import_data\n",
    "from katana.remote.import_data import Operation\n",
    "#client = katana.remote.Client(address=\"localhost:8080\")\n",
    "client = remote.Client(disable_version_check=True,address=\"localhost:8080\")\n",
    "\n",
    "chembl29_csv = client.create_graph(num_partitions=5)\n",
    "\n",
    "print(f\"Importing graph from CSV files into graph {chembl29_csv} ...\")\n",
    "import_data.csv(\n",
    "    chembl29_csv,\n",
    "    input_node_path=\"gs://katana-internal8/chemb29_rdf2lpg/lpg_chembl29/chemb29_rdf2lpg_lpg_chembl29_katana-graph-node-schema.tsv\",\n",
    "    input_edge_path=\"gs://katana-internal8/chemb29_rdf2lpg/lpg_chembl29/chemb29_rdf2lpg_lpg_chembl29_katana-graph-edge-schema.tsv\",\n",
    "    input_dir=\"gs://katana-internal8/chemb29_rdf2lpg/lpg_chembl29/\",\n",
    "    #have_headers=True,\n",
    "    files_have_headers=False,\n",
    "    data_delimiter=\"\\t\",\n",
    "    schema_delimiter=\"\\t\",\n",
    "    partition_policy=\"random-oec\"\n",
    ")"
   ]
  },
  {
   "cell_type": "markdown",
   "id": "4e0fca37-d8e0-4fbf-944e-4b160953ae56",
   "metadata": {},
   "source": [
    "# CHeMBL from csv's\n",
    "\n",
    "### Notes: -- Erroring out in distributed mode.\n",
    "###           Graph is created in a shared memory mode.(8 min)\n",
    "###           See Data Engineering section if the csv files are to be recreated."
   ]
  },
  {
   "cell_type": "code",
   "execution_count": 110,
   "id": "72d3b152-d641-44c7-8ca1-6c6ef044d463",
   "metadata": {},
   "outputs": [
    {
     "name": "stdout",
     "output_type": "stream",
     "text": [
      "Importing graph from CSV files into graph Graph(5tBKNWfTrC2SxT1rgNoTM7j27GLMBY2efzZDaWjwuuMf,0) ...\n"
     ]
    },
    {
     "data": {
      "application/vnd.jupyter.widget-view+json": {
       "model_id": "c8bef262a197495598854a3bc64de488",
       "version_major": 2,
       "version_minor": 0
      },
      "text/plain": [
       "          0/? [?op/s]"
      ]
     },
     "metadata": {},
     "output_type": "display_data"
    },
    {
     "ename": "OperationError",
     "evalue": "import 8XYtXxMLMekj9cDcdjFFubpYdiCuErKpoJvayi5PfeJG-23TpGqjTwtdhVq7Js error: (../../server/src/ImportOperation.cpp:148): backtrace: (../../libgluon/src/CSVImport.cpp:1098): backtrace: reading input files: (../../libgluon/include/katana/BulkGraphOperation.h:621): backtrace: id property was not agreed on correctly (BulkGraphOperation.h:772)",
     "output_type": "error",
     "traceback": [
      "\u001b[0;31m---------------------------------------------------------------------------\u001b[0m",
      "\u001b[0;31mOperationError\u001b[0m                            Traceback (most recent call last)",
      "File \u001b[0;32m<timed exec>:10\u001b[0m, in \u001b[0;36m<module>\u001b[0;34m\u001b[0m\n",
      "File \u001b[0;32m/opt/conda/lib/python3.8/site-packages/katana_enterprise/async_to_sync.py:140\u001b[0m, in \u001b[0;36masync_to_sync.<locals>.wrapper\u001b[0;34m(timeout, *args, **kwargs)\u001b[0m\n\u001b[1;32m    137\u001b[0m \u001b[38;5;28;01mif\u001b[39;00m convert_objects:\n\u001b[1;32m    138\u001b[0m     registry \u001b[38;5;241m=\u001b[39m AsyncToSyncClassRegistry\u001b[38;5;241m.\u001b[39mget()\n\u001b[1;32m    139\u001b[0m     \u001b[38;5;28;01mreturn\u001b[39;00m registry\u001b[38;5;241m.\u001b[39masync_to_sync(\n\u001b[0;32m--> 140\u001b[0m         \u001b[43mwait_for\u001b[49m\u001b[43m(\u001b[49m\n\u001b[1;32m    141\u001b[0m \u001b[43m            \u001b[49m\u001b[43masync_func\u001b[49m\u001b[43m(\u001b[49m\n\u001b[1;32m    142\u001b[0m \u001b[43m                \u001b[49m\u001b[38;5;241;43m*\u001b[39;49m\u001b[43m(\u001b[49m\u001b[43mregistry\u001b[49m\u001b[38;5;241;43m.\u001b[39;49m\u001b[43msync_to_async\u001b[49m\u001b[43m(\u001b[49m\u001b[43ma\u001b[49m\u001b[43m)\u001b[49m\u001b[43m \u001b[49m\u001b[38;5;28;43;01mfor\u001b[39;49;00m\u001b[43m \u001b[49m\u001b[43ma\u001b[49m\u001b[43m \u001b[49m\u001b[38;5;129;43;01min\u001b[39;49;00m\u001b[43m \u001b[49m\u001b[43margs\u001b[49m\u001b[43m)\u001b[49m\u001b[43m,\u001b[49m\n\u001b[1;32m    143\u001b[0m \u001b[43m                \u001b[49m\u001b[38;5;241;43m*\u001b[39;49m\u001b[38;5;241;43m*\u001b[39;49m\u001b[43m{\u001b[49m\u001b[43mk\u001b[49m\u001b[43m:\u001b[49m\u001b[43m \u001b[49m\u001b[43mregistry\u001b[49m\u001b[38;5;241;43m.\u001b[39;49m\u001b[43msync_to_async\u001b[49m\u001b[43m(\u001b[49m\u001b[43mv\u001b[49m\u001b[43m)\u001b[49m\u001b[43m \u001b[49m\u001b[38;5;28;43;01mfor\u001b[39;49;00m\u001b[43m \u001b[49m\u001b[43mk\u001b[49m\u001b[43m,\u001b[49m\u001b[43m \u001b[49m\u001b[43mv\u001b[49m\u001b[43m \u001b[49m\u001b[38;5;129;43;01min\u001b[39;49;00m\u001b[43m \u001b[49m\u001b[43mkwargs\u001b[49m\u001b[38;5;241;43m.\u001b[39;49m\u001b[43mitems\u001b[49m\u001b[43m(\u001b[49m\u001b[43m)\u001b[49m\u001b[43m}\u001b[49m\u001b[43m,\u001b[49m\n\u001b[1;32m    144\u001b[0m \u001b[43m            \u001b[49m\u001b[43m)\u001b[49m\u001b[43m,\u001b[49m\n\u001b[1;32m    145\u001b[0m \u001b[43m            \u001b[49m\u001b[43mtimeout\u001b[49m\u001b[38;5;241;43m=\u001b[39;49m\u001b[43mtimeout\u001b[49m\u001b[43m,\u001b[49m\n\u001b[1;32m    146\u001b[0m \u001b[43m        \u001b[49m\u001b[43m)\u001b[49m\n\u001b[1;32m    147\u001b[0m     )\n\u001b[1;32m    148\u001b[0m \u001b[38;5;28;01mreturn\u001b[39;00m wait_for(async_func(\u001b[38;5;241m*\u001b[39margs, \u001b[38;5;241m*\u001b[39m\u001b[38;5;241m*\u001b[39mkwargs), timeout\u001b[38;5;241m=\u001b[39mtimeout)\n",
      "File \u001b[0;32m/opt/conda/lib/python3.8/site-packages/katana_enterprise/async_to_sync.py:122\u001b[0m, in \u001b[0;36mwait_for\u001b[0;34m(coro, timeout)\u001b[0m\n\u001b[1;32m    120\u001b[0m     timeout_coro \u001b[38;5;241m=\u001b[39m coro\n\u001b[1;32m    121\u001b[0m future \u001b[38;5;241m=\u001b[39m asyncio\u001b[38;5;241m.\u001b[39mrun_coroutine_threadsafe(timeout_coro, loop\u001b[38;5;241m=\u001b[39mAsyncRunnerThread\u001b[38;5;241m.\u001b[39mget()\u001b[38;5;241m.\u001b[39mloop)\n\u001b[0;32m--> 122\u001b[0m \u001b[38;5;28;01mreturn\u001b[39;00m \u001b[43mfuture\u001b[49m\u001b[38;5;241;43m.\u001b[39;49m\u001b[43mresult\u001b[49m\u001b[43m(\u001b[49m\u001b[43m)\u001b[49m\n",
      "File \u001b[0;32m/opt/conda/lib/python3.8/concurrent/futures/_base.py:439\u001b[0m, in \u001b[0;36mFuture.result\u001b[0;34m(self, timeout)\u001b[0m\n\u001b[1;32m    437\u001b[0m     \u001b[38;5;28;01mraise\u001b[39;00m CancelledError()\n\u001b[1;32m    438\u001b[0m \u001b[38;5;28;01melif\u001b[39;00m \u001b[38;5;28mself\u001b[39m\u001b[38;5;241m.\u001b[39m_state \u001b[38;5;241m==\u001b[39m FINISHED:\n\u001b[0;32m--> 439\u001b[0m     \u001b[38;5;28;01mreturn\u001b[39;00m \u001b[38;5;28;43mself\u001b[39;49m\u001b[38;5;241;43m.\u001b[39;49m\u001b[43m__get_result\u001b[49m\u001b[43m(\u001b[49m\u001b[43m)\u001b[49m\n\u001b[1;32m    440\u001b[0m \u001b[38;5;28;01melse\u001b[39;00m:\n\u001b[1;32m    441\u001b[0m     \u001b[38;5;28;01mraise\u001b[39;00m \u001b[38;5;167;01mTimeoutError\u001b[39;00m()\n",
      "File \u001b[0;32m/opt/conda/lib/python3.8/concurrent/futures/_base.py:388\u001b[0m, in \u001b[0;36mFuture.__get_result\u001b[0;34m(self)\u001b[0m\n\u001b[1;32m    386\u001b[0m \u001b[38;5;28;01mdef\u001b[39;00m \u001b[38;5;21m__get_result\u001b[39m(\u001b[38;5;28mself\u001b[39m):\n\u001b[1;32m    387\u001b[0m     \u001b[38;5;28;01mif\u001b[39;00m \u001b[38;5;28mself\u001b[39m\u001b[38;5;241m.\u001b[39m_exception:\n\u001b[0;32m--> 388\u001b[0m         \u001b[38;5;28;01mraise\u001b[39;00m \u001b[38;5;28mself\u001b[39m\u001b[38;5;241m.\u001b[39m_exception\n\u001b[1;32m    389\u001b[0m     \u001b[38;5;28;01melse\u001b[39;00m:\n\u001b[1;32m    390\u001b[0m         \u001b[38;5;28;01mreturn\u001b[39;00m \u001b[38;5;28mself\u001b[39m\u001b[38;5;241m.\u001b[39m_result\n",
      "File \u001b[0;32m/opt/conda/lib/python3.8/site-packages/katana_enterprise/remote/aio/import_data/__init__.py:216\u001b[0m, in \u001b[0;36mcsv\u001b[0;34m(graph, input_dir, input_node_path, input_edge_path, operation, files_have_headers, data_delimiter, schema_delimiter, partition_policy, ids_are_integers, node_timestamp_property, edge_timestamp_property, edge_match_property, label_delimiter, default_id_property, plan)\u001b[0m\n\u001b[1;32m    204\u001b[0m         \u001b[38;5;28;01mreturn\u001b[39;00m \u001b[38;5;28;01mawait\u001b[39;00m _out_of_core_csv(\n\u001b[1;32m    205\u001b[0m             graph,\n\u001b[1;32m    206\u001b[0m             input_node_path\u001b[38;5;241m=\u001b[39minput_node_path,\n\u001b[0;32m   (...)\u001b[0m\n\u001b[1;32m    210\u001b[0m             input_dir\u001b[38;5;241m=\u001b[39minput_dir,\n\u001b[1;32m    211\u001b[0m         )\n\u001b[1;32m    212\u001b[0m     warnings\u001b[38;5;241m.\u001b[39mwarn(\n\u001b[1;32m    213\u001b[0m         \u001b[38;5;124m\"\u001b[39m\u001b[38;5;124mCould not optimize for memory since unsupported parameter was passed in. Falling back to standard import.\u001b[39m\u001b[38;5;124m\"\u001b[39m\n\u001b[1;32m    214\u001b[0m     )\n\u001b[0;32m--> 216\u001b[0m \u001b[38;5;28;01mreturn\u001b[39;00m \u001b[38;5;28;01mawait\u001b[39;00m _import_common(\n\u001b[1;32m    217\u001b[0m     graph,\n\u001b[1;32m    218\u001b[0m     input_dir,\n\u001b[1;32m    219\u001b[0m     input_node_path,\n\u001b[1;32m    220\u001b[0m     input_edge_path,\n\u001b[1;32m    221\u001b[0m     operation\u001b[38;5;241m=\u001b[39moperation,\n\u001b[1;32m    222\u001b[0m     schema_delimiter\u001b[38;5;241m=\u001b[39mschema_delimiter \u001b[38;5;129;01mor\u001b[39;00m data_delimiter,\n\u001b[1;32m    223\u001b[0m     partition_policy\u001b[38;5;241m=\u001b[39mpartition_policy,\n\u001b[1;32m    224\u001b[0m     ids_are_integers\u001b[38;5;241m=\u001b[39mids_are_integers,\n\u001b[1;32m    225\u001b[0m     node_timestamp_property\u001b[38;5;241m=\u001b[39mnode_timestamp_property,\n\u001b[1;32m    226\u001b[0m     edge_timestamp_property\u001b[38;5;241m=\u001b[39medge_timestamp_property,\n\u001b[1;32m    227\u001b[0m     edge_match_property\u001b[38;5;241m=\u001b[39medge_match_property,\n\u001b[1;32m    228\u001b[0m     label_delimiter\u001b[38;5;241m=\u001b[39mlabel_delimiter,\n\u001b[1;32m    229\u001b[0m     default_id_property\u001b[38;5;241m=\u001b[39mdefault_id_property,\n\u001b[1;32m    230\u001b[0m     data_format\u001b[38;5;241m=\u001b[39mCSV(data_delimiter, files_have_headers),\n\u001b[1;32m    231\u001b[0m )\n",
      "File \u001b[0;32m/opt/conda/lib/python3.8/site-packages/katana_enterprise/remote/aio/import_data/__init__.py:135\u001b[0m, in \u001b[0;36m_import_common\u001b[0;34m(graph, input_dir, input_node_path, input_edge_path, operation, schema_delimiter, partition_policy, ids_are_integers, node_timestamp_property, edge_timestamp_property, edge_match_property, label_delimiter, default_id_property, data_format)\u001b[0m\n\u001b[1;32m    131\u001b[0m \u001b[38;5;28;01mif\u001b[39;00m graph\u001b[38;5;241m.\u001b[39mnum_partitions \u001b[38;5;129;01mis\u001b[39;00m \u001b[38;5;129;01mnot\u001b[39;00m \u001b[38;5;28;01mNone\u001b[39;00m:\n\u001b[1;32m    132\u001b[0m     \u001b[38;5;66;03m# TODO(rk): fix server to respect num_partitions in import params\u001b[39;00m\n\u001b[1;32m    133\u001b[0m     data[\u001b[38;5;124m\"\u001b[39m\u001b[38;5;124mimport_csv\u001b[39m\u001b[38;5;124m\"\u001b[39m][\u001b[38;5;124m\"\u001b[39m\u001b[38;5;124mnum_partitions\u001b[39m\u001b[38;5;124m\"\u001b[39m] \u001b[38;5;241m=\u001b[39m graph\u001b[38;5;241m.\u001b[39mnum_partitions\n\u001b[0;32m--> 135\u001b[0m \u001b[38;5;28;01mawait\u001b[39;00m graph\u001b[38;5;241m.\u001b[39m_run_asynchronously(data)\n",
      "File \u001b[0;32m/opt/conda/lib/python3.8/site-packages/katana_enterprise/remote/aio/graph.py:156\u001b[0m, in \u001b[0;36mGraph._run_asynchronously\u001b[0;34m(self, data)\u001b[0m\n\u001b[1;32m    152\u001b[0m \u001b[38;5;28;01masync\u001b[39;00m \u001b[38;5;28;01mdef\u001b[39;00m \u001b[38;5;21m_run_asynchronously\u001b[39m(\u001b[38;5;28mself\u001b[39m, data):\n\u001b[1;32m    154\u001b[0m     data \u001b[38;5;241m=\u001b[39m \u001b[38;5;28mself\u001b[39m\u001b[38;5;241m.\u001b[39m_add_operation_metadata(data)\n\u001b[0;32m--> 156\u001b[0m     result \u001b[38;5;241m=\u001b[39m (\u001b[38;5;28;01mawait\u001b[39;00m \u001b[38;5;28mself\u001b[39m\u001b[38;5;241m.\u001b[39m_client\u001b[38;5;241m.\u001b[39m_run_on_graph_and_wait(\u001b[38;5;28mself\u001b[39m, data))[\u001b[38;5;124m\"\u001b[39m\u001b[38;5;124mresult\u001b[39m\u001b[38;5;124m\"\u001b[39m]\n\u001b[1;32m    157\u001b[0m     \u001b[38;5;28mself\u001b[39m\u001b[38;5;241m.\u001b[39m_client\u001b[38;5;241m.\u001b[39m_refresh_graph_version(\u001b[38;5;28mself\u001b[39m)\n\u001b[1;32m    158\u001b[0m     \u001b[38;5;28;01mreturn\u001b[39;00m result\n",
      "File \u001b[0;32m/opt/conda/lib/python3.8/site-packages/katana_enterprise/remote/aio/client.py:260\u001b[0m, in \u001b[0;36mDatabase._run_on_graph_and_wait\u001b[0;34m(self, graph, data)\u001b[0m\n\u001b[1;32m    258\u001b[0m \u001b[38;5;28;01masync\u001b[39;00m \u001b[38;5;28;01mdef\u001b[39;00m \u001b[38;5;21m_run_on_graph_and_wait\u001b[39m(\u001b[38;5;28mself\u001b[39m, graph: Graph, data) \u001b[38;5;241m-\u001b[39m\u001b[38;5;241m>\u001b[39m \u001b[38;5;28mdict\u001b[39m:\n\u001b[1;32m    259\u001b[0m     \u001b[38;5;28mself\u001b[39m\u001b[38;5;241m.\u001b[39m_check_graph_from_myself(graph)\n\u001b[0;32m--> 260\u001b[0m     \u001b[38;5;28;01mreturn\u001b[39;00m \u001b[38;5;28;01mawait\u001b[39;00m \u001b[38;5;28mself\u001b[39m\u001b[38;5;241m.\u001b[39m_wait_op(\u001b[38;5;28mself\u001b[39m\u001b[38;5;241m.\u001b[39m_run_on_graph(graph, data))\n",
      "File \u001b[0;32m/opt/conda/lib/python3.8/site-packages/katana_enterprise/remote/aio/client.py:220\u001b[0m, in \u001b[0;36mDatabase._wait_op\u001b[0;34m(self, op)\u001b[0m\n\u001b[1;32m    218\u001b[0m     \u001b[38;5;28;01mreturn\u001b[39;00m \u001b[38;5;28mself\u001b[39m\u001b[38;5;241m.\u001b[39m_client\u001b[38;5;241m.\u001b[39mget_operation_result(operation_id)\n\u001b[1;32m    219\u001b[0m \u001b[38;5;28;01mif\u001b[39;00m status \u001b[38;5;241m==\u001b[39m \u001b[38;5;124m\"\u001b[39m\u001b[38;5;124mFailed\u001b[39m\u001b[38;5;124m\"\u001b[39m:\n\u001b[0;32m--> 220\u001b[0m     \u001b[38;5;28;01mraise\u001b[39;00m errors\u001b[38;5;241m.\u001b[39mOperationError(op[\u001b[38;5;124m\"\u001b[39m\u001b[38;5;124mstatus_message\u001b[39m\u001b[38;5;124m\"\u001b[39m])\n\u001b[1;32m    221\u001b[0m \u001b[38;5;28;01mif\u001b[39;00m status \u001b[38;5;241m==\u001b[39m \u001b[38;5;124m\"\u001b[39m\u001b[38;5;124mCanceled\u001b[39m\u001b[38;5;124m\"\u001b[39m:\n\u001b[1;32m    222\u001b[0m     \u001b[38;5;28;01mraise\u001b[39;00m errors\u001b[38;5;241m.\u001b[39mCanceledError(\n\u001b[1;32m    223\u001b[0m         \u001b[38;5;124mf\u001b[39m\u001b[38;5;124m\"\u001b[39m\u001b[38;5;124mOperation canceled after \u001b[39m\u001b[38;5;132;01m{\u001b[39;00mget_elapsed_time()\u001b[38;5;132;01m:\u001b[39;00m\u001b[38;5;124m.2\u001b[39m\u001b[38;5;132;01m}\u001b[39;00m\u001b[38;5;124ms. This is a manual \u001b[39m\u001b[38;5;124m\"\u001b[39m\n\u001b[1;32m    224\u001b[0m         \u001b[38;5;124mf\u001b[39m\u001b[38;5;124m\"\u001b[39m\u001b[38;5;124mserver-side cancellation.\u001b[39m\u001b[38;5;124m\"\u001b[39m\n\u001b[1;32m    225\u001b[0m     )\n",
      "\u001b[0;31mOperationError\u001b[0m: import 8XYtXxMLMekj9cDcdjFFubpYdiCuErKpoJvayi5PfeJG-23TpGqjTwtdhVq7Js error: (../../server/src/ImportOperation.cpp:148): backtrace: (../../libgluon/src/CSVImport.cpp:1098): backtrace: reading input files: (../../libgluon/include/katana/BulkGraphOperation.h:621): backtrace: id property was not agreed on correctly (BulkGraphOperation.h:772)"
     ]
    }
   ],
   "source": [
    "%%time\n",
    "\n",
    "from katana import remote\n",
    "from katana.remote import import_data\n",
    "from katana.remote.import_data import Operation\n",
    "#client = katana.remote.Client(address=\"localhost:8080\")\n",
    "client = remote.Client(disable_version_check=True,address=\"localhost:8080\")\n",
    "\n",
    "mapped = client.create_graph(num_partitions=5)\n",
    "\n",
    "print(f\"Importing graph from CSV files into graph {mapped} ...\")\n",
    "import_data.csv(\n",
    "    mapped,\n",
    "    input_node_path=\"gs://katana-internal5/chembl29/csv/chembl29_nodes.txt\",\n",
    "    input_edge_path=\"gs://katana-internal5/chembl29/csv/chembl29_edge_list.csv\",\n",
    "    input_dir=\"gs://katana-internal5/chembl29/csv/\",\n",
    "    #have_headers=True,\n",
    "    files_have_headers=True,\n",
    "    data_delimiter=\"\\t\",\n",
    "    schema_delimiter=\"|\",\n",
    "    partition_policy=\"random-oec\"\n",
    ")"
   ]
  },
  {
   "cell_type": "markdown",
   "id": "c03f1be2-3122-44c5-b4bc-4d7432a4a274",
   "metadata": {},
   "source": [
    "# Data Engineering -- Creating csv files\n",
    "\n",
    "### TO DO -- Needs to be converted to Dask UDF "
   ]
  },
  {
   "cell_type": "code",
   "execution_count": 10,
   "id": "902bea0d-01dd-497a-8ca8-b199e33fc3cc",
   "metadata": {},
   "outputs": [],
   "source": [
    "import dask.dataframe as dd\n",
    "import dask.distributed\n",
    "import pandas as pd\n",
    "\n",
    "import chembl_downloader\n",
    "\n",
    "katana-internal5/chembl29/csv/node/activities.csv"
   ]
  },
  {
   "cell_type": "code",
   "execution_count": null,
   "id": "d13ae5ee-f261-45ea-9267-c81016be5e1b",
   "metadata": {},
   "outputs": [],
   "source": [
    "from katana.remote.dask import dask_remote\n",
    "from katana_enterprise.distributed.dask_integration import utils\n",
    "from katana_enterprise.remote import Client, import_data\n",
    "from katana_enterprise.schema import SchemaParser, get_schema_groups"
   ]
  },
  {
   "cell_type": "code",
   "execution_count": 102,
   "id": "94275221-9697-470a-aff3-f90b44f2693c",
   "metadata": {},
   "outputs": [],
   "source": [
    "input_csv_schema = pd.DataFrame({\n",
    "                            'Tables': ['activities'\n",
    "                                       ,'assays'\n",
    "                                       ,'target_components'\n",
    "                                       ,'target_dictionary'\n",
    "                                       ,'component_sequences'\n",
    "                                       ,'component_class'\n",
    "                                       ,'protein_family_classification'\n",
    "                                       ,'molecule_dictionary'\n",
    "                                       ,'molecule_hierarchy'\n",
    "                                       ,'compound_structures'\n",
    "                                       ,'drug_indication'\n",
    "                                       ,'compound_properties'\n",
    "                                       ,'compound_records'\n",
    "                                       ,'docs'\n",
    "                                       ,'source'\n",
    "                                       ,'activity_properties'\n",
    "                                       ,'assay_parameters'],\n",
    "                            'Columns': [['activity_id','doc_id','standard_value','pchembl_value','toid','activity_comment','standard_units','standard_type','data_validity_comment','standard_relation','potential_duplicate','molregno']\n",
    "                                       ,['assay_id','confidence_score','description']\n",
    "                                       ,['tid']\n",
    "                                       ,['tid','chembl_id','target_type','organism','pref_name','species_group_flag','tax_id']\n",
    "                                       ,['component_id','accession']\n",
    "                                       ,['component_id']\n",
    "                                       ,['protein_class_id','l1','l2','l3']\n",
    "                                       ,['molregno','chembl_id','oral']\n",
    "                                       ,['molregno','parent_molregno','active_molregno']\n",
    "                                       ,['molregno','standard_inchi','standard_inchi_key','canonical_smiles']\n",
    "                                       ,['drugind_id','record_id','molregno','max_phase_for_ind','mesh_id','mesh_heading','efo_id','efo_term']\n",
    "                                       ,['molregno','mw_freebase','alogp','hba','hbd','psa','rtb','ro3_pass','num_ro5_violations','molecular_species','full_mwt','aromatic_rings','heavy_atoms','qed_weighted','mw_monoisotopic','full_molformula','hba_lipinski','hbd_lipinski','num_lipinski_ro5_violations']\n",
    "                                       ,['record_id','compound_key','compound_name']\n",
    "                                       ,['doc_id','journal','year','volume','issue','first_page','last_page','pubmed_id','doi','chembl_id','title','doc_type','authors','abstract']\n",
    "                                       ,['src_id','src_description']\n",
    "                                       ,['ap_id','standard_type','standard_value','standard_text_value']\n",
    "                                       ,['assay_param_id','standard_type','standard_value','standard_text_value']\n",
    "                                       ],\n",
    "                            'Types':   [\n",
    "                                        {'activity_id':'int','doc_id':'int','standard_value':'float','pchembl_value':'float','toid':'float','activity_comment':'string','standard_units':'string','standard_type':'string','data_validity_comment':'string','standard_relation':'string','potential_duplicate':'int','molregno':'int'}\n",
    "                                       ,{'assay_id':'int','confidence_score':'int','description':'string'}\n",
    "                                       , {'tid':'int'}\n",
    "                                       , {'tid':'int','chembl_id':'string','target_type':'string','organism':'string','pref_name':'string','species_group_flag':'string','tax_id':'string'}\n",
    "                                       ,{'component_id':'int','accession':'string'}\n",
    "                                       ,{'component_id':'int'}\n",
    "                                       ,{'protein_class_id':'int','l1':'string','l2':'string','l3':'string'}\n",
    "                                       ,{'molregno':'int','chembl_id':'string','oral':'int'}\n",
    "                                       ,{'molregno':'int','parent_molregno':'int','active_molregno':'int'}\n",
    "                                       ,{'molregno':'int','standard_inchi':'string','standard_inchi_key':'string','canonical_smiles':'string'}\n",
    "                                       ,{'drugind_id':'int','record_id':'int','molregno':'int','max_phase_for_ind':'int','mesh_id':'string','mesh_heading':'string','efo_id':'string','efo_term':'string'}\n",
    "                                       ,{'molregno':'int','mw_freebase':'string','alogp':'string','hba':'string','hbd':'string','psa':'string','rtb':'string','ro3_pass':'string','num_ro5_violations':'string','molecular_species':'string','full_mwt':'string','aromatic_rings':'string','heavy_atoms':'string','qed_weighted':'string','mw_monoisotopic':'string','full_molformula':'string','hba_lipinski':'string','hbd_lipinski':'string','num_lipinski_ro5_violations':'string'}\n",
    "                                       ,{'record_id':'int','compound_key':'string','compound_name':'string'}\n",
    "                                       ,{'doc_id':'int64','journal':'string','year':'string','volume':'string','issue':'string','first_page':'string','last_page':'string','pubmed_id':'string','doi':'string','chembl_id':'string','title':'string','doc_type':'string','authors':'string','abstract':'string'}\n",
    "                                       ,{'src_id':'int','src_description':'string'}\n",
    "                                       ,{'ap_id':'int','standard_type':'string','standard_value':'float','standard_text_value':'string'}\n",
    "                                       ,{'assay_param_id':'int','standard_type':'string','standard_value':'float','standard_text_value':'string'}\n",
    "                                       ],\n",
    "                            'RawFileLoc': ['activities.csv'\n",
    "                                    ,'assays.csv'\n",
    "                                    ,'target_components.csv'\n",
    "                                    ,'target_dictionary.csv'                                   \n",
    "                                    ,'component_sequences.csv'\n",
    "                                    ,'component_class.csv'\n",
    "                                    ,'protein_family_classification.csv'\n",
    "                                    ,'molecule_dictionary.csv'\n",
    "                                    ,'molecule_hierarchy.csv'\n",
    "                                    ,'compound_structures.csv'\n",
    "                                    ,'drug_indication.csv'\n",
    "                                    ,'compound_properties.csv'\n",
    "                                    ,'compound_records.csv'\n",
    "                                    ,'docs.csv'\n",
    "                                    ,'source.csv'\n",
    "                                    ,'activity_properties.csv'\n",
    "                                    ,'assay_parameters.csv']\n",
    "                        })\n",
    "\n",
    "edges_csv_schema = pd.DataFrame({\n",
    "      'EdgeFileLoc': ['has_assay.csv'\n",
    "                    ,'has_target.csv'\n",
    "                    ,'has_activity.csv'\n",
    "                    ,'has_component.csv'\n",
    "                    ,'has_comp_seq.csv'\n",
    "                    ,'has_class_comp.csv'\n",
    "                    ,'has_protein_class.csv'\n",
    "                    ,'has_molecule_hierarchy.csv'\n",
    "                    ,'has_comp_struct.csv'\n",
    "                    ,'has_drugind.csv'\n",
    "                    ,'has_comp_prop.csv'\n",
    "                    ,'has_comp_records.csv'\n",
    "                    ,'has_docs.csv'\n",
    "                    ,'has_source.csv'\n",
    "                    ,'has_act_prop.csv'\n",
    "                    ,'has_assay_param.csv'] ,  \n",
    "\n",
    "    'EdgesSQL':[ '  SELECT activity_id,activities.assay_id,\"has_assay\" FROM activities  JOIN assays ON activities.assay_id = assays.assay_id '\n",
    "                   , ' SELECT assays.tid, target_dictionary.tid ,\"has_target\" FROM assays JOIN target_dictionary ON assays.tid = target_dictionary.tid '\n",
    "                   , ' SELECT activities.activity_id, molecule_dictionary.molregno ,\"has_activity\" FROM activities JOIN molecule_dictionary ON activities.molregno = molecule_dictionary.molregno '\n",
    "                   , ' SELECT target_dictionary.tid , target_components.tid ,\"has_component\" FROM target_dictionary JOIN target_components ON target_dictionary.tid = target_components.tid '\n",
    "                   , ' SELECT target_components.tid, component_sequences.component_id  ,\"has_comp_seq\" FROM target_components JOIN component_sequences ON component_sequences.component_id = target_components.component_id '\n",
    "                   , ' SELECT target_components.tid, component_class.component_id  ,\"has_class_comp\" FROM target_components JOIN component_class ON target_components.component_id = component_class.component_id '\n",
    "                   , ' SELECT component_class.component_id, protein_family_classification.protein_class_id  ,\"has_protein_class\" FROM component_class JOIN protein_family_classification ON component_class.protein_class_id = protein_family_classification.protein_class_id '\n",
    "                   , ' SELECT molecule_dictionary.molregno, molecule_hierarchy.molregno ,\"has_molecule_hierarchy\" FROM molecule_dictionary JOIN molecule_hierarchy ON molecule_dictionary.molregno = molecule_hierarchy.molregno'\n",
    "                   , ' SELECT molecule_hierarchy.molregno,compound_structures.molregno  ,\"has_comp_struct\" FROM molecule_hierarchy JOIN compound_structures ON molecule_hierarchy.parent_molregno = compound_structures.molregno'\n",
    "                   , ' SELECT MOLECULE_DICTIONARY.molregno, DRUG_INDICATION.drugind_id  ,\"has_drugind\" FROM MOLECULE_DICTIONARY JOIN DRUG_INDICATION ON MOLECULE_DICTIONARY.molregno == DRUG_INDICATION.molregno '\n",
    "                   , ' SELECT MOLECULE_DICTIONARY.molregno , COMPOUND_PROPERTIES.molregno  ,\"has_comp_prop\" FROM MOLECULE_DICTIONARY JOIN COMPOUND_PROPERTIES ON MOLECULE_DICTIONARY.molregno == COMPOUND_PROPERTIES.molregno '\n",
    "                   , ' SELECT activities.activity_id, COMPOUND_RECORDS.record_id  ,\"has_comp_records\" FROM activities JOIN COMPOUND_RECORDS ON activities.record_id = COMPOUND_RECORDS.record_id '\n",
    "                   , ' SELECT COMPOUND_RECORDS.record_id, DOCS.doc_id ,\"has_docs\" FROM COMPOUND_RECORDS JOIN DOCS ON DOCS.doc_id = COMPOUND_RECORDS.doc_id '\n",
    "                   , ' SELECT COMPOUND_RECORDS.src_id, SOURCE.src_id ,\"has_source\" FROM COMPOUND_RECORDS JOIN SOURCE ON SOURCE.src_id = COMPOUND_RECORDS.src_id '\n",
    "                   , ' SELECT ACTIVITIES.activity_id , actp.ap_id  ,\"has_act_prop\" FROM ACTIVITIES JOIN activity_properties actp ON ACTIVITIES.activity_id = actp.activity_id '\n",
    "                   , ' SELECT assays.assay_id, ap.assay_param_id   ,\"has_assay_param\" FROM ASSAYS JOIN assay_parameters ap ON ASSAYS.assay_id = ap.assay_id '\n",
    "                  ]\n",
    "          })"
   ]
  },
  {
   "cell_type": "markdown",
   "id": "286bd301-2ba4-4808-ab13-25c66a8d25ce",
   "metadata": {},
   "source": [
    "# Setting up Paths"
   ]
  },
  {
   "cell_type": "code",
   "execution_count": 85,
   "id": "0aa4bad5-5996-42a3-96f1-a0e40dd2ceed",
   "metadata": {},
   "outputs": [],
   "source": [
    "BUCKET_NAME = \"katana-internal5\"\n",
    "FOLDER_NAME = \"chembl29\"\n",
    "\n",
    "DATA_FOLDER = \"/\".join([\"gs:/\", BUCKET_NAME, FOLDER_NAME])\n",
    "\n",
    "NODE_LIST_FILE = \"/\".join([\"gs:/\", BUCKET_NAME, FOLDER_NAME, \"csv/nodelist.txt\"])\n",
    "EDGE_LIST_FILE = \"/\".join([\"gs:/\", BUCKET_NAME, FOLDER_NAME, \"csv/edgelist.txt\"])\n",
    "\n",
    "NODES_FOLDER = \"/\".join([\"gs:/\", BUCKET_NAME, FOLDER_NAME, \"csv/node/\"])\n",
    "EDGES_FOLDER = \"/\".join([\"gs:/\", BUCKET_NAME, FOLDER_NAME, \"csv/edge/\"])\n",
    "\n",
    "INPUT_FILES = \"/\".join([\"gs:/\", BUCKET_NAME, FOLDER_NAME, \"raw/\"])\n"
   ]
  },
  {
   "cell_type": "code",
   "execution_count": 96,
   "id": "d8ce0391-c147-4528-acd8-7b4e6ae7d3db",
   "metadata": {
    "collapsed": true,
    "jupyter": {
     "outputs_hidden": true,
     "source_hidden": true
    },
    "tags": []
   },
   "outputs": [
    {
     "name": "stdout",
     "output_type": "stream",
     "text": [
      "Index(['tid', 'target_type', 'pref_name', 'tax_id', 'organism', 'chembl_id',\n",
      "       'species_group_flag'],\n",
      "      dtype='object')\n",
      "['tid', 'chembl_id', 'target_type', 'organism', 'pref_name', 'species_group_flag', 'tax_id']\n",
      "{'tid': 'int', 'chembl_id': 'string', 'target_type': 'string', 'organism': 'string', 'pref_name': 'string', 'species_group_flag': 'string', 'tax_id': 'string'}\n"
     ]
    },
    {
     "data": {
      "text/plain": [
       "tid                     int64\n",
       "chembl_id              object\n",
       "target_type            object\n",
       "organism               object\n",
       "pref_name              object\n",
       "species_group_flag      int64\n",
       "tax_id                float64\n",
       "dtype: object"
      ]
     },
     "execution_count": 96,
     "metadata": {},
     "output_type": "execute_result"
    }
   ],
   "source": [
    "ind=3\n",
    "sql = 'SELECT * FROM {0}'.format(input_csv_schema['Tables'][ind])\n",
    "df = chembl_downloader.query(sql)\n",
    "print(df.columns)\n",
    "print(input_csv_schema['Columns'][ind])\n",
    "print(input_csv_schema['Types'][ind])\n",
    "exp_df=df[input_csv_schema['Columns'][ind]]\n",
    "\n",
    "exp_df.astype(input_csv_schema['Types'][ind])\n",
    "exp_df.dtypes"
   ]
  },
  {
   "cell_type": "code",
   "execution_count": 82,
   "id": "09ae03a2-ea80-4a59-b274-049bbf912914",
   "metadata": {
    "collapsed": true,
    "jupyter": {
     "outputs_hidden": true,
     "source_hidden": true
    },
    "tags": []
   },
   "outputs": [
    {
     "name": "stdout",
     "output_type": "stream",
     "text": [
      "gs://katana-internal5/chembl29/csv/edge/has_act_prop.csv\n",
      " SELECT ACTIVITIES.activity_id , actp.ap_id  ,\"has_act_prop\" FROM ACTIVITIES JOIN activity_properties actp ON ACTIVITIES.activity_id = actp.activity_id \n",
      "14\n"
     ]
    }
   ],
   "source": [
    "ind=14\n",
    "output_file = EDGES_FOLDER + edges_csv_schema['EdgeFileLoc'][ind]\n",
    "sql = '{0}'.format(edges_csv_schema['EdgesSQL'][ind])\n",
    "print(output_file)\n",
    "print(sql)\n",
    "#df = chembl_downloader.query(sql)\n",
    "#df.to_csv(output_file)\n",
    "print(ind)"
   ]
  },
  {
   "cell_type": "markdown",
   "id": "07b83ff0-dff7-42b7-a8be-6c462a5821d7",
   "metadata": {
    "tags": []
   },
   "source": [
    "# NODE and EDGE File Creation"
   ]
  },
  {
   "cell_type": "code",
   "execution_count": 103,
   "id": "cf95d279-6dd2-4ad1-89f8-afeffa472627",
   "metadata": {},
   "outputs": [
    {
     "name": "stdout",
     "output_type": "stream",
     "text": [
      "0 gs://katana-internal5/chembl29/csv/node/activities.csv\n",
      "1 gs://katana-internal5/chembl29/csv/node/assays.csv\n",
      "2 gs://katana-internal5/chembl29/csv/node/target_components.csv\n",
      "3 gs://katana-internal5/chembl29/csv/node/target_dictionary.csv\n",
      "4 gs://katana-internal5/chembl29/csv/node/component_sequences.csv\n",
      "5 gs://katana-internal5/chembl29/csv/node/component_class.csv\n",
      "6 gs://katana-internal5/chembl29/csv/node/protein_family_classification.csv\n",
      "7 gs://katana-internal5/chembl29/csv/node/molecule_dictionary.csv\n",
      "8 gs://katana-internal5/chembl29/csv/node/molecule_hierarchy.csv\n",
      "9 gs://katana-internal5/chembl29/csv/node/compound_structures.csv\n",
      "10 gs://katana-internal5/chembl29/csv/node/drug_indication.csv\n",
      "11 gs://katana-internal5/chembl29/csv/node/compound_properties.csv\n",
      "12 gs://katana-internal5/chembl29/csv/node/compound_records.csv\n",
      "13 gs://katana-internal5/chembl29/csv/node/docs.csv\n",
      "14 gs://katana-internal5/chembl29/csv/node/source.csv\n",
      "15 gs://katana-internal5/chembl29/csv/node/activity_properties.csv\n",
      "16 gs://katana-internal5/chembl29/csv/node/assay_parameters.csv\n",
      "0\n",
      "1\n",
      "2\n",
      "3\n",
      "4\n",
      "5\n",
      "6\n",
      "7\n",
      "8\n",
      "9\n",
      "10\n",
      "11\n",
      "12\n",
      "13\n",
      "14\n",
      "15\n"
     ]
    }
   ],
   "source": [
    "with open('chembl29.config') as f:\n",
    "    contents = f.read()\n",
    "#input_csv_schema=input_csv_schema[13:14]\n",
    "for ind in input_csv_schema.index:\n",
    "    output_file = NODES_FOLDER + input_csv_schema['RawFileLoc'][ind]\n",
    "    sql = 'SELECT * FROM {0}'.format(input_csv_schema['Tables'][ind])\n",
    "    df = chembl_downloader.query(sql)\n",
    "    exp_df=df[input_csv_schema['Columns'][ind]]\n",
    "    exp_df.astype(input_csv_schema['Types'][ind])\n",
    "    exp_df.dtypes\n",
    "    exp_df.to_csv(output_file,index=False,sep='\\t')\n",
    "    print('{0} {1}'.format(ind, output_file))\n",
    "    #print(exp_df.head(2))\n",
    "    #edges_csv_schema=edges_csv_schema[14:17]\n",
    "for ind in edges_csv_schema.index:\n",
    "    output_file = EDGES_FOLDER + edges_csv_schema['EdgeFileLoc'][ind]\n",
    "    sql = '{0} LIMIT 100'.format(edges_csv_schema['EdgesSQL'][ind])\n",
    "    df = chembl_downloader.query(sql)\n",
    "    df.to_csv(output_file,index=False,sep='\\t')\n",
    "    print(ind)\n",
    "    "
   ]
  },
  {
   "cell_type": "code",
   "execution_count": null,
   "id": "8c4f98d7-6cbd-4386-9b5c-cc00f3080049",
   "metadata": {},
   "outputs": [],
   "source": [
    "#edges_csv_schema=edges_csv_schema[14:17]\n",
    "for ind in edges_csv_schema.index:\n",
    "    output_file = EDGES_FOLDER + edges_csv_schema['EdgeFileLoc'][ind]\n",
    "    sql = '{0}'.format(edges_csv_schema['EdgesSQL'][ind])\n",
    "    df = chembl_downloader.query(sql)\n",
    "    df.to_csv(output_file,index=False,sep='\\t')\n",
    "    print(ind)\n"
   ]
  },
  {
   "cell_type": "markdown",
   "id": "c92d511b-d0d2-42b6-8fea-e35bb628f70c",
   "metadata": {},
   "source": [
    "# Schema"
   ]
  },
  {
   "cell_type": "code",
   "execution_count": null,
   "id": "67c13d25-13f3-49f5-88fc-3408e46f508e",
   "metadata": {},
   "outputs": [],
   "source": [
    "node_schema = pd.DataFrame({'nodes':['activity_id:ID(activities)|standard_value:float|pchembl_value:float|toid:float|activity_comment:string|standard_units:string|data_validity_comment:string|standard_relation:string|potential_duplicate:int|record_id:int|molregno:int'\n",
    "                                     ,'assay_id:ID(assays)|confidence_score:float|assay_description:string'\n",
    "                                     ,'tid:ID(target_components)'\n",
    "                                     ,'tid:ID(target_dictionary)|target_chembl_id:string|target_type:string|organism:string|pref_name:string|species_group_flag:string|tax_id:int'\n",
    "                                     ,'component_id:ID(component_sequences)|accession:string\n",
    "                                     ,'component_id:ID(component_class)\n",
    "                                     ,'protein_class_id:ID(protein_family_classification)|l1:string|l2:string|l3:string\n",
    "                                     ,'molregno:ID(molecule_dictionary)|chembl_id:string|oral:int\n",
    "                                     ,'record_id:ID(molecule_hierarchy)|molregno:int|parent_molregno:int|active_molregno:int'\n",
    "                                     ,'molregno:ID(compound_structures)|standard_inchi:string|standard_inchi_key:string|canonical_smiles:string'\n",
    "                                     ,'drugind_id:ID(drug_indication)|record_id:string|molregno_di:string|max_phase_for_ind:int|mesh_id:string|mesh_heading:string|efo_id:string|efo_term:string'\n",
    "                                     ,'molegno:ID(compound_properties)|mw_freebase:float|alogp:float|hba:int|hbd:int|psa:float|rtb:int|ro3_pass:string|num_ro5_violations:int|molecular_species:string|full_mwt:float|aromatic_rings:int|heavy_atoms:int|qed_weighted:float|mw_monoisotopic:float|full_molformula:string|hba_lipinski:int|hbd_lipinski:int|num_lipinski_ro5_violations:int\n",
    "                                     ,'record_id:ID(compound_records)|compound_key:string|compound_name:string'\n",
    "                                     ,'doc_id:ID(docs)|journal:string|year:int|volume:string|issue:string|first_page:string|last_page:string|pubmed_id:string|doi:string|doc_chembl_id:string|title:string|doc_type:string|authors:string|abstract:string'\n",
    "                                     ,'src_id:ID(source)|src_description:string'\n",
    "                                     ,'ap_id:ID(activity_properties)|actp_standard_type:string|actp_standard_value:float|actp_standard_text_value:string'\n",
    "                                     ,'assay_param_id:ID(assay_parameter)|standard_type:string|standard_value:float|standard_text_value:string'\n",
    "                                    ],\n",
    "                            'node_loc': ['nodes/activities.csv'\n",
    "                                    ,'nodes/assays.csv'\n",
    "                                    ,'nodes/target_dictionary.csv'\n",
    "                                    ,'nodes/molecule_dictionary.csv'\n",
    "                                    ,'nodes/target_components.csv'\n",
    "                                    ,'nodes/component_sequences.csv'\n",
    "                                    ,'nodes/component_class.csv'\n",
    "                                    ,'nodes/protein_family_classification.csv'\n",
    "                                    ,'nodes/molecule_hierarchy.csv'\n",
    "                                    ,'nodes/compound_structures.csv'\n",
    "                                    ,'nodes/DRUG_INDICATION.csv'\n",
    "                                    ,'nodes/COMPOUND_PROPERTIES.csv'\n",
    "                                    ,'nodes/COMPOUND_RECORDS.csv'\n",
    "                                    ,'nodes/DOCS.csv'\n",
    "                                    ,'nodes/SOURCE.csv'\n",
    "                                    ,'nodes/activity_properties.csv'\n",
    "                                    ,'nodes/assay_parameters.csv']\n",
    "                           })\n",
    "                 \n",
    "edge_schema = pd.DataFrame({'edges': [':START_ID(activities)|:END_ID(molecule_dictionary)|:TYPE'\n",
    "                                     ,':START_ID(activities)|:END_ID(assays)|:TYPE'\n",
    "                                     ,':START_ID(assays)|:END_ID(target_dictionary)|:TYPE'\n",
    "                                     ,':START_ID(molecule_dictionary)|:END_ID(compound_structures)|:TYPE'\n",
    "                                     ,':START_ID(molecule_dictionary)|:END_ID(compound_properties)|:TYPE'\n",
    "                                     ,':START_ID(drug_indication)|:END_ID(molecule_dictionary)|:TYPE'\n",
    "                                     ,':START_ID(target_components)|:END_ID(target_dictionary)|:TYPE'\n",
    "                                     ,':START_ID(target_components)|:END_ID(component_sequences)|:TYPE'\n",
    "                                     ,':START_ID(molecule_hierarchy)|:END_ID(molecule_dictionary)|:TYPE'\n",
    "                                     ,':START_ID(activities)|:END_ID(compound_records)|:TYPE'\n",
    "                                     ,':START_ID(compound_records)|:END_ID(docs)|:TYPE'\n",
    "                                     ,':START_ID(compound_records)|:END_ID(source)|:TYPE'\n",
    "                                     ,':START_ID(target_components)|:END_ID(component_class)|:TYPE'\n",
    "                                     ,':START_ID(component_class)|:END_ID(protein_family_classification)|:TYPE'\n",
    "                                     ,':START_ID(activities)|:END_ID(activity_properties)|:TYPE'\n",
    "                                     ,':START_ID(assays)|:END_ID(assay_parameter)|:TYPE'\n",
    "                                    ],\n",
    "                            'edge_loc': ['edges/has_molecule_dict.csv'\n",
    "                                    ,'edges/has_assay.csv'\n",
    "                                    ,'edges/has_target.csv'\n",
    "                                    ,'edges/has_molecule_csr.csv'\n",
    "                                    ,'edges/has_molecule_compr.csv'\n",
    "                                    ,'edges/has_molecule_drug.csv'\n",
    "                                    ,'edges/has_target_comp.csv'\n",
    "                                    ,'edges/has_comp_seq.csv'\n",
    "                                    ,'edges/has_parent_molecule.csv'\n",
    "                                    ,'edges/has_compound_records.csv'\n",
    "                                    ,'edges/has_docs.csv'\n",
    "                                    ,'edges/has_source.csv'\n",
    "                                    ,'edges/has_activity_properties.csv'\n",
    "                                    ,'edges/has_assay_parameters.csv'\n",
    "                                        ]\n",
    "                           })    \n",
    "\n",
    "\n",
    "with open('readme.txt', 'w') as f:\n",
    "    for line in lines:\n",
    "        f.write(line)\n",
    "        f.write('\\n')"
   ]
  },
  {
   "cell_type": "code",
   "execution_count": 7,
   "id": "1a467007-c3ea-47a5-873c-4cc8f39f37e6",
   "metadata": {},
   "outputs": [
    {
     "data": {
      "application/vnd.jupyter.widget-view+json": {
       "model_id": "746422eba9214f878d012b35c7cf13c2",
       "version_major": 2,
       "version_minor": 0
      },
      "text/plain": [
       "MitoWidget(analysis_data_json='{\"analysisName\": \"UUID-b6b693d0-8386-4cb8-91d7-1ed33281957d\", \"code\": {\"imports…"
      ]
     },
     "metadata": {},
     "output_type": "display_data"
    }
   ],
   "source": [
    "import mitosheet\n",
    "mitosheet.sheet()"
   ]
  },
  {
   "cell_type": "code",
   "execution_count": null,
   "id": "78fd01cc-606f-44d1-ba24-754bf0e71d9a",
   "metadata": {},
   "outputs": [],
   "source": []
  },
  {
   "cell_type": "code",
   "execution_count": null,
   "id": "e6ed7f65-d29a-49ce-8519-384262661887",
   "metadata": {},
   "outputs": [],
   "source": [
    "from mitosheet import *; register_analysis('UUID-b6b693d0-8386-4cb8-91d7-1ed33281957d')\n",
    "    \n",
    "# Imported chembl29.csv\n",
    "import pandas as pd\n",
    "chembl29 = pd.read_csv(r'chembl29.csv')\n",
    "\n",
    "# Sorted first_page in chembl29 in descending order\n",
    "chembl29 = chembl29.sort_values(by='first_page', ascending=False, na_position='last')\n"
   ]
  }
 ],
 "metadata": {
  "kernelspec": {
   "display_name": "Python 3 (ipykernel)",
   "language": "python",
   "name": "python3"
  },
  "language_info": {
   "codemirror_mode": {
    "name": "ipython",
    "version": 3
   },
   "file_extension": ".py",
   "mimetype": "text/x-python",
   "name": "python",
   "nbconvert_exporter": "python",
   "pygments_lexer": "ipython3",
   "version": "3.8.8"
  }
 },
 "nbformat": 4,
 "nbformat_minor": 5
}
