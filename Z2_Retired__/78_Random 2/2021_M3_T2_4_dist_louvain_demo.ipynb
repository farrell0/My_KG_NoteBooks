{
 "metadata": {
  "language_info": {
   "codemirror_mode": {
    "name": "ipython",
    "version": 3
   },
   "file_extension": ".py",
   "mimetype": "text/x-python",
   "name": "python",
   "nbconvert_exporter": "python",
   "pygments_lexer": "ipython3",
   "version": "3.8.10"
  },
  "orig_nbformat": 4,
  "kernelspec": {
   "name": "python3",
   "display_name": "Python 3.8.10 64-bit ('jupyter': conda)"
  },
  "interpreter": {
   "hash": "7b09546325ed8d4a76b373526e40d6a7a697111b82e45368b4ca879c9c6a460b"
  }
 },
 "nbformat": 4,
 "nbformat_minor": 2,
 "cells": [
  {
   "cell_type": "code",
   "execution_count": 7,
   "metadata": {},
   "outputs": [],
   "source": [
    "import numpy as np\n",
    "from katana import analytics\n",
    "from katana.timer import StatTimer\n",
    "from katana.local import DynamicBitset\n",
    "from katana.distributed import (\n",
    "    DistPropertyGraph,\n",
    "    GluonSubstrate,\n",
    "    MinReducer,\n",
    "    WorkDetection,\n",
    "    do_all,\n",
    "    do_all_operator,\n",
    ")\n",
    "from katana import remote"
   ]
  },
  {
   "cell_type": "code",
   "execution_count": 8,
   "metadata": {},
   "outputs": [],
   "source": [
    "# Connect to the Katana Server\n",
    "c = remote.Client()"
   ]
  },
  {
   "cell_type": "code",
   "execution_count": 9,
   "metadata": {},
   "outputs": [],
   "source": [
    "test_graph_version = 1\n",
    "test_graph = \"test_graph\""
   ]
  },
  {
   "cell_type": "code",
   "execution_count": null,
   "metadata": {},
   "outputs": [],
   "source": [
    "graph: remote.Graph = c.get_graph(name=test_graph, version=test_graph_version)"
   ]
  },
  {
   "cell_type": "code",
   "execution_count": null,
   "metadata": {},
   "outputs": [],
   "source": [
    "def dist_louvain(graph: DistPropertyGraph, vertex_opt, mod_threshold_per_round, mod_threshold_total, max_iter, min_graphsize):\n",
    "    # Use defaults: Partition-aware, automatic metadata\n",
    "    gluon = GluonSubstrate(graph)\n",
    "    local_clusters = np.empty((len(graph),), dtype=np.uint32)\n",
    "    updated_node_bitset = DynamicBitset()\n",
    "\n",
    "    while True:\n",
    "        # Run local louvain clustering (this includes coarsening phase, and cluster initialization)\n",
    "        analytics.local_louvain_clustering(graph, local_custers, updated_node_bitset, vertex_opt,\n",
    "                                        mod_threshold_per_round, mod_threshold_total, max_iter, min_graphsize)\n",
    "\n",
    "        # Gluon communication of non-vertex programming model (pseudo)\n",
    "        gluon.non_vertex_sync(MinReducer(local_clusters), updated_node_bitset,\n",
    "                            GluonSubstrate.Destination, GluonSubstrate.Source, sync=True)\n",
    "\n",
    "        # Check if louvain clustering completes\n",
    "        if analytics.check_termination(graph, local_clusters, max_iter, min_graphsize):\n",
    "            break\n",
    "\n",
    "    return local_clusters"
   ]
  },
  {
   "cell_type": "code",
   "execution_count": null,
   "metadata": {},
   "outputs": [],
   "source": [
    "# Run dit Louvain clustering\n",
    "\n",
    "timer = StatTimer(\"Louvain cluestering\")\n",
    "timer.start()\n",
    "clusters_output = graph.run(lambda g: dist_louvain(g, False, 0.0001, 0.0001, 10000, 100))\n",
    "time.stop()\n",
    "\n",
    "# Print cluster ids from nodes 0 to 10\n",
    "if graph.user_to_local_id(0):\n",
    "    for i in range(len(10)):\n",
    "      print(f\"{i} = {clusters_output[i]}\")"
   ]
  }
 ]
}
