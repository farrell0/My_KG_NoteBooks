{
 "cells": [
  {
   "cell_type": "markdown",
   "id": "5e4756b6-d9bb-4b9a-86a8-2f468a891dd0",
   "metadata": {},
   "source": [
    "#  Setup: Display options"
   ]
  },
  {
   "cell_type": "code",
   "execution_count": 1,
   "id": "75157aee-67af-48e1-84ec-c3740b43cba8",
   "metadata": {},
   "outputs": [
    {
     "data": {
      "text/html": [],
      "text/plain": [
       "<IPython.core.display.HTML object>"
      ]
     },
     "metadata": {},
     "output_type": "display_data"
    },
    {
     "name": "stdout",
     "output_type": "stream",
     "text": [
      "--\n"
     ]
    }
   ],
   "source": [
    "\n",
    "#  Setting display options \n",
    "\n",
    "import pandas as pd\n",
    "   #\n",
    "pd.set_option(\"display.width\", 480)\n",
    "\n",
    "#  Sets horizontal scroll for wide outputs\n",
    "#\n",
    "from IPython.display import display, HTML\n",
    "display(HTML(\"\"))\n",
    "\n",
    "from tabulate import tabulate\n",
    "\n",
    "print(\"--\")\n"
   ]
  },
  {
   "cell_type": "code",
   "execution_count": 2,
   "id": "3e2fac01-19bf-46e6-b7cd-5894bac8b497",
   "metadata": {},
   "outputs": [
    {
     "name": "stdout",
     "output_type": "stream",
     "text": [
      "--\n"
     ]
    }
   ],
   "source": [
    "\n",
    "#  Used to report timings\n",
    "#\n",
    "\n",
    "from timeit import default_timer\n",
    "\n",
    "print(\"--\")\n",
    "\n"
   ]
  },
  {
   "cell_type": "markdown",
   "id": "2ea1cdc6-cf71-4d19-ba63-ec87d4f31606",
   "metadata": {},
   "source": [
    "# Setup: Connectivity"
   ]
  },
  {
   "cell_type": "code",
   "execution_count": 3,
   "id": "bf593b56-5f63-48d5-a435-a9d81280b46a",
   "metadata": {},
   "outputs": [
    {
     "name": "stdout",
     "output_type": "stream",
     "text": [
      "<katana.remote.sync_wrappers.Client object at 0x7fb191bdabb0>\n"
     ]
    }
   ],
   "source": [
    "\n",
    "from katana import remote\n",
    "from katana.remote import import_data\n",
    "\n",
    "my_client = remote.Client()\n",
    "\n",
    "print(my_client)\n"
   ]
  },
  {
   "cell_type": "code",
   "execution_count": 4,
   "id": "677cc343-73ea-4036-b04e-d244cc991f21",
   "metadata": {},
   "outputs": [
    {
     "name": "stdout",
     "output_type": "stream",
     "text": [
      "--\n"
     ]
    }
   ],
   "source": [
    "\n",
    "NUM_PARTITIONS  = 3\n",
    "   #\n",
    "DB_NAME         = \"my_db\"\n",
    "GRAPH_NAME      = \"my_graph\"\n",
    "\n",
    "print(\"--\")\n"
   ]
  },
  {
   "cell_type": "code",
   "execution_count": 12,
   "id": "7a86a86e-5e5d-4bc3-a23a-3fefaa6166f1",
   "metadata": {},
   "outputs": [
    {
     "name": "stdout",
     "output_type": "stream",
     "text": [
      "<_Graph my_graph, 9oxuVL3PJqNwMpBuuDshgohrh4mmgyAwfmSoM1tPXCoH, 1>\n"
     ]
    }
   ],
   "source": [
    "\n",
    "#  CONNECT TO GRAPH\n",
    "\n",
    "my_graph, *_ = my_client.get_database(name=DB_NAME).find_graphs_by_name(GRAPH_NAME)\n",
    "\n",
    "print(my_graph)\n"
   ]
  },
  {
   "cell_type": "code",
   "execution_count": 13,
   "id": "785ba950-d949-45b4-99d8-834fc31bebb5",
   "metadata": {},
   "outputs": [
    {
     "name": "stdout",
     "output_type": "stream",
     "text": [
      "Database Name: my_db                          Id: 21JDRLcScJPzXu2CsX8hSCCwpuvBdXJbkLKQ7CdcKxV9\n",
      "   Graph Name: my_graph                          Version: 1          Id: 9oxuVL3PJqNwMpBuuDshgohrh4mmgyAwfmSoM1tPXCoH\n",
      "   Graph Name: my_graph_BB                       Version: 10         Id: DfmNBHbvwBWi3PzzdrpaBEY7uQ69ofWFh3bwLURyDW1m\n",
      "Database Name: default                        Id: 2ps7XNc4f8KLRVXwutJzqQVE3bTUdVbHw357hkA6PM5z\n",
      "\n",
      "--\n"
     ]
    }
   ],
   "source": [
    "\n",
    "#  Now that we share servers, get a better list of databases and graphs ..\n",
    "#\n",
    "\n",
    "for l_each_d in my_client.databases():\n",
    "   print(\"Database Name: %-28s   Id: %s\" % (l_each_d.name, l_each_d.database_id))\n",
    "      #\n",
    "   for l_each_g in my_client.get_database(name=l_each_d.name).graphs_in_database(): \n",
    "      print(\"   Graph Name: %-28s      Version: %-8d   Id: %s\" % (l_each_g.name, l_each_g.version, l_each_g.graph_id))\n",
    "\n",
    "\n",
    "print(\"\"  )\n",
    "print(\"--\")\n"
   ]
  },
  {
   "cell_type": "markdown",
   "id": "4b9ab7b8-c131-472b-894e-13e41ad99e06",
   "metadata": {},
   "source": [
    "#  Step 00: Diagnostics"
   ]
  },
  {
   "cell_type": "code",
   "execution_count": 14,
   "id": "7a868c2b-c708-4f04-a0e4-c632e21af4a6",
   "metadata": {},
   "outputs": [
    {
     "data": {
      "application/vnd.jupyter.widget-view+json": {
       "model_id": "eae3a188bbe9447895e62ba56e9789ce",
       "version_major": 2,
       "version_minor": 0
      },
      "text/plain": [
       "          0/? [?op/s]"
      ]
     },
     "metadata": {},
     "output_type": "display_data"
    },
    {
     "name": "stdout",
     "output_type": "stream",
     "text": [
      "+--------------+-------+\n",
      "| label        |   cnt |\n",
      "|--------------+-------|\n",
      "| City         |  1343 |\n",
      "| Comment      |   371 |\n",
      "| Company      |  1575 |\n",
      "| Continent    |     6 |\n",
      "| Country      |   111 |\n",
      "| Forum        |   407 |\n",
      "| Message      |  3928 |\n",
      "| Organisation |  7955 |\n",
      "| Person       |    45 |\n",
      "| Place        |  1460 |\n",
      "| Post         |  3557 |\n",
      "| Tag          | 16080 |\n",
      "| TagClass     |    71 |\n",
      "| University   |  6380 |\n",
      "+--------------+-------+\n",
      "\n"
     ]
    },
    {
     "name": "stderr",
     "output_type": "stream",
     "text": [
      "/opt/conda/lib/python3.8/site-packages/katana/remote/result_set.py:69: UserWarning: Pandas doesn't allow columns to be created via a new attribute name - see https://pandas.pydata.org/pandas-docs/stable/indexing.html#attribute-access\n",
      "  self._response = response\n"
     ]
    },
    {
     "data": {
      "application/vnd.jupyter.widget-view+json": {
       "model_id": "feb0d387268e4336ac08cc49fc5c75ff",
       "version_major": 2,
       "version_minor": 0
      },
      "text/plain": [
       "          0/? [?op/s]"
      ]
     },
     "metadata": {},
     "output_type": "display_data"
    },
    {
     "name": "stdout",
     "output_type": "stream",
     "text": [
      "+----------------+-------+\n",
      "| type           |   cnt |\n",
      "|----------------+-------|\n",
      "| CONTAINER_OF   |  3557 |\n",
      "| HAS_CREATOR    |  3928 |\n",
      "| HAS_INTEREST   |  1182 |\n",
      "| HAS_MEMBER     |  1163 |\n",
      "| HAS_MODERATOR  |   407 |\n",
      "| HAS_TAG        |  2347 |\n",
      "| HAS_TYPE       | 16080 |\n",
      "| IS_LOCATED_IN  | 11928 |\n",
      "| IS_PART_OF     |  1454 |\n",
      "| IS_SUBCLASS_OF |    70 |\n",
      "| KNOWS          |    58 |\n",
      "| LIKES          |   395 |\n",
      "| REPLY_OF       |   371 |\n",
      "| STUDY_AT       |    37 |\n",
      "| WORK_AT        |    95 |\n",
      "+----------------+-------+\n"
     ]
    }
   ],
   "source": [
    "\n",
    "#  List all node types with node counts\n",
    "\n",
    "l_query  = \"\"\"\n",
    "\n",
    "   MATCH (n) \n",
    "   WITH DISTINCT LABELS(n) AS labels, COUNT(n) AS cnt\n",
    "   UNWIND labels AS label\n",
    "   RETURN label, SUM(cnt) AS cnt\n",
    "   ORDER BY label\n",
    "   \n",
    "   \"\"\".format()\n",
    "\n",
    "l_result = my_graph.query_unpaginated(l_query)\n",
    "   #\n",
    "print(tabulate(l_result, headers = \"keys\", tablefmt = \"psql\", showindex = False))\n",
    "\n",
    "\n",
    "print()\n",
    "\n",
    "\n",
    "#  List all edge types with counts\n",
    "\n",
    "l_query  = \"\"\"\n",
    "\n",
    "   MATCH (m)-[r]->(n) \n",
    "   WITH DISTINCT TYPE(r) AS type, COUNT(r) AS cnt\n",
    "   RETURN type, cnt\n",
    "   ORDER BY type\n",
    "   \n",
    "   \"\"\".format()\n",
    "\n",
    "l_result = my_graph.query_unpaginated(l_query)\n",
    "   #\n",
    "print(tabulate(l_result, headers = \"keys\", tablefmt = \"psql\", showindex = False))\n",
    "\n"
   ]
  },
  {
   "cell_type": "code",
   "execution_count": 15,
   "id": "24d60a94-3728-4e65-85ff-fa328be678d1",
   "metadata": {},
   "outputs": [
    {
     "data": {
      "application/vnd.jupyter.widget-view+json": {
       "model_id": "4c558b875cf34109a15cbc31e035d539",
       "version_major": 2,
       "version_minor": 0
      },
      "text/plain": [
       "          0/? [?op/s]"
      ]
     },
     "metadata": {},
     "output_type": "display_data"
    },
    {
     "name": "stdout",
     "output_type": "stream",
     "text": [
      "+--------------------------------+-----------------------------------------------------------------------------------------------------------------------+-------+\n",
      "| label                          | my_keys                                                                                                               |   cnt |\n",
      "|--------------------------------+-----------------------------------------------------------------------------------------------------------------------+-------|\n",
      "| ['Message', 'Post']            | ['browserUsed', 'content', 'creationDate', 'id', 'imageFile', 'language', 'length', 'locationIP']                     |  3557 |\n",
      "| ['Place', 'Country']           | ['id', 'name', 'url']                                                                                                 |   111 |\n",
      "| ['Place', 'Continent']         | ['id', 'name', 'url']                                                                                                 |     6 |\n",
      "| ['TagClass']                   | ['id', 'name', 'url']                                                                                                 |    71 |\n",
      "| ['Forum']                      | ['creationDate', 'id', 'title']                                                                                       |   407 |\n",
      "| ['Person']                     | ['birthday', 'browserUsed', 'creationDate', 'email', 'firstName', 'gender', 'id', 'lastName', 'locationIP', 'speaks'] |    45 |\n",
      "| ['Organisation', 'University'] | ['id', 'name', 'url']                                                                                                 |  6380 |\n",
      "| ['Company', 'Organisation']    | ['id', 'name', 'url']                                                                                                 |  1575 |\n",
      "| ['Tag']                        | ['id', 'name', 'url']                                                                                                 | 16080 |\n",
      "| ['City', 'Place']              | ['id', 'name', 'url']                                                                                                 |  1343 |\n",
      "| ['Comment', 'Message']         | ['browserUsed', 'content', 'creationDate', 'id', 'length', 'locationIP']                                              |   371 |\n",
      "+--------------------------------+-----------------------------------------------------------------------------------------------------------------------+-------+\n"
     ]
    },
    {
     "data": {
      "application/vnd.jupyter.widget-view+json": {
       "model_id": "247d2a71d7134dd8adf8b18fecfce4f2",
       "version_major": 2,
       "version_minor": 0
      },
      "text/plain": [
       "          0/? [?op/s]"
      ]
     },
     "metadata": {},
     "output_type": "display_data"
    },
    {
     "name": "stdout",
     "output_type": "stream",
     "text": [
      "+----------------+------------------+-------+\n",
      "| my_type        | my_keys          |   cnt |\n",
      "|----------------+------------------+-------|\n",
      "| HAS_CREATOR    | []               |  3928 |\n",
      "| HAS_MEMBER     | ['creationDate'] |  1163 |\n",
      "| HAS_INTEREST   | []               |  1182 |\n",
      "| HAS_TAG        | []               |  2347 |\n",
      "| WORK_AT        | ['workFrom']     |    95 |\n",
      "| REPLY_OF       | []               |   371 |\n",
      "| CONTAINER_OF   | []               |  3557 |\n",
      "| STUDY_AT       | ['classYear']    |    37 |\n",
      "| IS_SUBCLASS_OF | []               |    70 |\n",
      "| IS_PART_OF     | []               |  1454 |\n",
      "| HAS_TYPE       | []               | 16080 |\n",
      "| HAS_MODERATOR  | []               |   407 |\n",
      "| IS_LOCATED_IN  | []               | 11928 |\n",
      "| KNOWS          | ['creationDate'] |    58 |\n",
      "| LIKES          | ['creationDate'] |   395 |\n",
      "+----------------+------------------+-------+\n"
     ]
    }
   ],
   "source": [
    "\n",
    "#  Return properties/keys from all vertices\n",
    "\n",
    "l_query  = \"\"\"\n",
    "   MATCH (n)\n",
    "   RETURN DISTINCT LABELS(n) AS label, KEYS(n) AS my_keys, COUNT(n) AS cnt\n",
    "   \"\"\".format()\n",
    "\n",
    "l_result = my_graph.query_unpaginated(l_query)\n",
    "   #\n",
    "print(tabulate(l_result, headers = \"keys\", tablefmt = \"psql\", showindex = False))\n",
    "\n",
    "\n",
    "#  Return properties/keys from all edges\n",
    "#  \n",
    "\n",
    "l_query  = \"\"\"\n",
    "   MATCH (n) - [r] -> (m)\n",
    "   RETURN DISTINCT TYPE(r) AS my_type, KEYS(r) AS my_keys, COUNT(r) AS cnt\n",
    "   \"\"\".format()\n",
    "\n",
    "l_result = my_graph.query_unpaginated(l_query)\n",
    "   #\n",
    "print(tabulate(l_result, headers = \"keys\", tablefmt = \"psql\", showindex = False))\n",
    "\n"
   ]
  },
  {
   "cell_type": "markdown",
   "id": "3cf445dc-22cc-42ce-b5ba-381ac6e1ed86",
   "metadata": {},
   "source": [
    "#  Step 01: Actual Routines"
   ]
  },
  {
   "cell_type": "code",
   "execution_count": null,
   "id": "76295631-c448-4cb6-9730-88b6aff26523",
   "metadata": {},
   "outputs": [],
   "source": [
    "\n",
    "#  Page Rank obviously ..\n",
    "#\n",
    "\n",
    "\n",
    "from katana.remote.analytics import pagerank\n",
    "\n",
    "pagerank(graph, result_property_name=\"page_rank\", max_iterations=2, alpha=0.15)\n"
   ]
  },
  {
   "cell_type": "code",
   "execution_count": null,
   "id": "47fe7918-3353-4e1d-a8f3-e7e40348dc63",
   "metadata": {},
   "outputs": [],
   "source": []
  },
  {
   "cell_type": "code",
   "execution_count": null,
   "id": "5cc95dd6-6d85-4d1b-bfc7-92d790ec597b",
   "metadata": {},
   "outputs": [],
   "source": []
  },
  {
   "cell_type": "code",
   "execution_count": null,
   "id": "b2b4fc3a-de3a-426c-824c-a69f3adbdf95",
   "metadata": {},
   "outputs": [],
   "source": []
  },
  {
   "cell_type": "code",
   "execution_count": null,
   "id": "b202da72-95f1-438e-90dd-6189b0c59ca6",
   "metadata": {},
   "outputs": [],
   "source": []
  }
 ],
 "metadata": {
  "kernelspec": {
   "display_name": "Python 3 (ipykernel)",
   "language": "python",
   "name": "python3"
  },
  "language_info": {
   "codemirror_mode": {
    "name": "ipython",
    "version": 3
   },
   "file_extension": ".py",
   "mimetype": "text/x-python",
   "name": "python",
   "nbconvert_exporter": "python",
   "pygments_lexer": "ipython3",
   "version": "3.8.13"
  }
 },
 "nbformat": 4,
 "nbformat_minor": 5
}
