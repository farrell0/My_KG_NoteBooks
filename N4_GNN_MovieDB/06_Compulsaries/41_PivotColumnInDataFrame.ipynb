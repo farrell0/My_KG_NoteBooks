{
 "cells": [
  {
   "cell_type": "code",
   "execution_count": null,
   "id": "d776f754-ef98-4cbd-a423-647c483341ce",
   "metadata": {},
   "outputs": [],
   "source": [
    "\n",
    "#  Here we demonstrate the following Dask DataFrame techniques;\n",
    "#\n",
    "#     .  How to create a Dask DataFrame from an array.\n",
    "#\n",
    "#     .  Given a source Dask DataFrame, pivot a column that is a string into an array.\n",
    "#\n",
    "#        We might use this technique when given a flat file of data, that we derive\n",
    "#        nodes and edges from.\n"
   ]
  },
  {
   "cell_type": "code",
   "execution_count": null,
   "id": "682150e3-6a50-4197-a239-80d1d2ea6edd",
   "metadata": {},
   "outputs": [],
   "source": [
    "\n",
    "NUM_PARTITIONS  = 3\n",
    "\n",
    "print(\"--\")\n"
   ]
  },
  {
   "cell_type": "code",
   "execution_count": null,
   "id": "0416c10d-a1cb-433d-ad5e-85498aaa1744",
   "metadata": {},
   "outputs": [],
   "source": [
    "\n",
    "import numpy as np\n",
    "import pandas as pd\n",
    "   #\n",
    "import dask.array as da\n",
    "import dask.dataframe as dd\n",
    "   #\n",
    "from dask.dataframe import from_pandas\n",
    "\n",
    "from tabulate import tabulate\n",
    "\n",
    "print(\"--\")\n"
   ]
  },
  {
   "cell_type": "code",
   "execution_count": 95,
   "id": "131298d0-5cb4-4b62-8413-5e5571ef4b6a",
   "metadata": {},
   "outputs": [
    {
     "name": "stdout",
     "output_type": "stream",
     "text": [
      "Names:  Mary               Bob, Tim, Dave                  \n",
      "Names:  Joyce              Allen, Tom, Dave                \n",
      "Names:  Alice              Earl                            \n",
      "--\n"
     ]
    }
   ],
   "source": [
    "\n",
    "#  Create our source Dask DataFrame from an array\n",
    "\n",
    "np_name = np.array([\n",
    "       #\n",
    "   [\"Mary\"   , \"Bob, Tim, Dave\"            ],\n",
    "   [\"Joyce\"  , \"Allen, Tom, Dave\"          ],    \n",
    "   [\"Alice\"  , \"Earl\"                      ],\n",
    "       #\n",
    "   ], dtype=\"str\")\n",
    "\n",
    "pd_name = pd.DataFrame(np_name, columns = [\"col1\", \"col2\"])\n",
    "   #\n",
    "dd_name = from_pandas(pd_name, npartitions = NUM_PARTITIONS)\n",
    "\n",
    "\n",
    "for l_each in dd_name.iterrows():\n",
    "      #\n",
    "   l_col1    = l_each[1][0]\n",
    "   l_col2    = l_each[1][1]\n",
    "      #\n",
    "   print(\"Names:  %-16s   %-32s\" % (l_col1, l_col2))\n",
    "\n",
    "print(\"--\")\n",
    "\n",
    "#  Sample output,\n",
    "#\n",
    "#  Names:  Mary               Bob, Tim, Dave                  \n",
    "#  Names:  Joyce              Allen, Tom, Dave                \n",
    "#  Names:  Alice              Earl\n"
   ]
  },
  {
   "cell_type": "code",
   "execution_count": null,
   "id": "4b708e18-dcc4-4e8e-b508-de70687066f8",
   "metadata": {},
   "outputs": [],
   "source": [
    "\n",
    "#  Create a DataFrame with just the unique state_code values\n",
    "\n",
    "#  Approach one, this also outputs a count per unique key\n",
    "#\n",
    "dd_states = dd_airports.groupby(\"state_code\").aggregate({\"state_code\": \"count\"})\n",
    "   #\n",
    "for l_each in dd_states.iterrows():\n",
    "   print(l_each)\n",
    "\n",
    "print(\"\")\n",
    "\n",
    "#  Approach two, just the keys\n",
    "#\n",
    "dd_states = dd_airports[[\"state_code\"]].drop_duplicates()\n",
    "   #\n",
    "for l_each in dd_states.iterrows():\n",
    "   print(l_each)\n",
    "\n",
    "#  Sample output,\n",
    "#\n",
    "#  ('IL', state_code    1 Name: IL, dtype: int64)\n",
    "#  ('WI', state_code    1 Name: WI, dtype: int64)\n",
    "#  ('CA', state_code    2 Name: CA, dtype: int64)\n",
    "#  ('CO', state_code    1 Name: CO, dtype: int64)\n",
    "#  \n",
    "#  (0, state_code    WI Name: 0, dtype: object)\n",
    "#  (1, state_code    IL Name: 1, dtype: object)\n",
    "#  (2, state_code    CA Name: 2, dtype: object)\n",
    "#  (4, state_code    CO Name: 4, dtype: object)\n"
   ]
  },
  {
   "cell_type": "code",
   "execution_count": null,
   "id": "828d62e9-1cf8-4eee-9147-f351961b95f4",
   "metadata": {},
   "outputs": [],
   "source": [
    "\n",
    "#  And then if we need our edge between the two above\n",
    "\n",
    "dd_edges = dd_airports[[\"airport_code\", \"state_code\"]]\n",
    "   #\n",
    "for l_each in dd_edges.iterrows():\n",
    "   print(l_each)\n",
    "\n",
    "#  Sample output,\n",
    "#\n",
    "#  (0, airport_code    MKE state_code       WI Name: 0, dtype: object)\n",
    "#  (1, airport_code    ORD state_code       IL Name: 1, dtype: object)\n",
    "#  (2, airport_code    SJC state_code       CA Name: 2, dtype: object)\n",
    "#  (3, airport_code    LAX state_code       CA Name: 3, dtype: object)\n",
    "#  (4, airport_code    DEN state_code       CO Name: 4, dtype: object)\n"
   ]
  }
 ],
 "metadata": {
  "kernelspec": {
   "display_name": "Python 3 (ipykernel)",
   "language": "python",
   "name": "python3"
  },
  "language_info": {
   "codemirror_mode": {
    "name": "ipython",
    "version": 3
   },
   "file_extension": ".py",
   "mimetype": "text/x-python",
   "name": "python",
   "nbconvert_exporter": "python",
   "pygments_lexer": "ipython3",
   "version": "3.8.13"
  }
 },
 "nbformat": 4,
 "nbformat_minor": 5
}
