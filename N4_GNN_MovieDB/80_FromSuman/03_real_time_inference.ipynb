{
 "cells": [
  {
   "cell_type": "markdown",
   "metadata": {},
   "source": [
    "<div class=\"header\">\n",
    "  <img src=\"img/kg_logo_white_side.png\" alt=\"logo\" style=\"width: 300px;\"/>\n",
    "  <h1>03 Real-time Inferencing</h1>\n",
    "</div>"
   ]
  },
  {
   "cell_type": "markdown",
   "metadata": {},
   "source": [
    "Now that we have deployed the endpoint on GCP, we can perform the real-time inferencing. We follow these steps: \n",
    "\n",
    "1. Get transaction features - normally these would come from the client when the new transaction arrives. We will pull this from the feature store historical data\n",
    "2. Query account embedding\n",
    "3. Submit features to the model endpoint for inferencing"
   ]
  },
  {
   "cell_type": "markdown",
   "metadata": {},
   "source": [
    "## Get transaction features"
   ]
  },
  {
   "cell_type": "markdown",
   "metadata": {},
   "source": [
    "Normally this would come directly from the client (e.g. when a new transaction is received)"
   ]
  },
  {
   "cell_type": "code",
   "execution_count": 1,
   "metadata": {},
   "outputs": [],
   "source": [
    "pipeline_uri = \"0c57e63e49134502a0b2813c9a0e6d49\"\n",
    "mapping_table = \"katana-clusters-beta.fsi_elliptic.account_mapping_\"+pipeline_uri\n",
    "features = \"katana-clusters-beta.fsi_elliptic.account_features\"\n",
    "\n",
    "from google.cloud import bigquery\n",
    "client = bigquery.Client()\n",
    "sql = f\"\"\"\n",
    "SELECT af.*\n",
    "FROM \n",
    "    {mapping_table} am\n",
    "JOIN {features} af\n",
    "on am.account_id = af.account_id\n",
    "WHERE am.account_gid = 82252\n",
    "\"\"\"\n",
    "df = client.query(sql).to_dataframe()\n"
   ]
  },
  {
   "cell_type": "code",
   "execution_count": 2,
   "metadata": {},
   "outputs": [
    {
     "data": {
      "text/html": [
       "<div>\n",
       "<style scoped>\n",
       "    .dataframe tbody tr th:only-of-type {\n",
       "        vertical-align: middle;\n",
       "    }\n",
       "\n",
       "    .dataframe tbody tr th {\n",
       "        vertical-align: top;\n",
       "    }\n",
       "\n",
       "    .dataframe thead th {\n",
       "        text-align: right;\n",
       "    }\n",
       "</style>\n",
       "<table border=\"1\" class=\"dataframe\">\n",
       "  <thead>\n",
       "    <tr style=\"text-align: right;\">\n",
       "      <th></th>\n",
       "      <th>account_id</th>\n",
       "      <th>local_feat_2</th>\n",
       "      <th>local_feat_3</th>\n",
       "      <th>local_feat_4</th>\n",
       "      <th>local_feat_5</th>\n",
       "      <th>local_feat_6</th>\n",
       "      <th>local_feat_7</th>\n",
       "      <th>local_feat_8</th>\n",
       "      <th>local_feat_9</th>\n",
       "      <th>local_feat_10</th>\n",
       "      <th>...</th>\n",
       "      <th>local_feat_86</th>\n",
       "      <th>local_feat_87</th>\n",
       "      <th>local_feat_88</th>\n",
       "      <th>local_feat_89</th>\n",
       "      <th>local_feat_90</th>\n",
       "      <th>local_feat_91</th>\n",
       "      <th>local_feat_92</th>\n",
       "      <th>local_feat_93</th>\n",
       "      <th>local_feat_94</th>\n",
       "      <th>event_timestamp</th>\n",
       "    </tr>\n",
       "  </thead>\n",
       "  <tbody>\n",
       "    <tr>\n",
       "      <th>0</th>\n",
       "      <td>248922756</td>\n",
       "      <td>-0.170438</td>\n",
       "      <td>-0.158783</td>\n",
       "      <td>-1.201369</td>\n",
       "      <td>-0.046932</td>\n",
       "      <td>-0.043875</td>\n",
       "      <td>-0.02914</td>\n",
       "      <td>-0.061584</td>\n",
       "      <td>-0.162775</td>\n",
       "      <td>-0.167751</td>\n",
       "      <td>...</td>\n",
       "      <td>1.347969</td>\n",
       "      <td>1.12559</td>\n",
       "      <td>1.128038</td>\n",
       "      <td>-0.287652</td>\n",
       "      <td>2.694074</td>\n",
       "      <td>3.482573</td>\n",
       "      <td>2.363482</td>\n",
       "      <td>1.135523</td>\n",
       "      <td>1.135279</td>\n",
       "      <td>2022-10-10 00:00:00+00:00</td>\n",
       "    </tr>\n",
       "  </tbody>\n",
       "</table>\n",
       "<p>1 rows × 95 columns</p>\n",
       "</div>"
      ],
      "text/plain": [
       "  account_id  local_feat_2  local_feat_3  local_feat_4  local_feat_5  \\\n",
       "0  248922756     -0.170438     -0.158783     -1.201369     -0.046932   \n",
       "\n",
       "   local_feat_6  local_feat_7  local_feat_8  local_feat_9  local_feat_10  ...  \\\n",
       "0     -0.043875      -0.02914     -0.061584     -0.162775      -0.167751  ...   \n",
       "\n",
       "   local_feat_86  local_feat_87  local_feat_88  local_feat_89  local_feat_90  \\\n",
       "0       1.347969        1.12559       1.128038      -0.287652       2.694074   \n",
       "\n",
       "   local_feat_91  local_feat_92  local_feat_93  local_feat_94  \\\n",
       "0       3.482573       2.363482       1.135523       1.135279   \n",
       "\n",
       "            event_timestamp  \n",
       "0 2022-10-10 00:00:00+00:00  \n",
       "\n",
       "[1 rows x 95 columns]"
      ]
     },
     "execution_count": 2,
     "metadata": {},
     "output_type": "execute_result"
    }
   ],
   "source": [
    "df.head()"
   ]
  },
  {
   "cell_type": "code",
   "execution_count": 3,
   "metadata": {},
   "outputs": [],
   "source": [
    "df = df.drop(columns= ['account_id','event_timestamp'])"
   ]
  },
  {
   "cell_type": "code",
   "execution_count": 4,
   "metadata": {},
   "outputs": [],
   "source": [
    "local_features = df.to_dict()"
   ]
  },
  {
   "cell_type": "code",
   "execution_count": 5,
   "metadata": {
    "scrolled": true,
    "tags": []
   },
   "outputs": [
    {
     "data": {
      "text/plain": [
       "{'local_feat_2': {0: -0.1704381951681886},\n",
       " 'local_feat_3': {0: -0.1587825236260844},\n",
       " 'local_feat_4': {0: -1.2013688016765636},\n",
       " 'local_feat_5': {0: -0.0469320913859779},\n",
       " 'local_feat_6': {0: -0.0438745479173489},\n",
       " 'local_feat_7': {0: -0.0291397707181635},\n",
       " 'local_feat_8': {0: -0.0615837940730322},\n",
       " 'local_feat_9': {0: -0.1627752686438751},\n",
       " 'local_feat_10': {0: -0.1677505998619076},\n",
       " 'local_feat_11': {0: -0.0419301227905048},\n",
       " 'local_feat_12': {0: -0.1646486225582168},\n",
       " 'local_feat_13': {0: -2.516704748133169},\n",
       " 'local_feat_14': {0: -2.486106024623408},\n",
       " 'local_feat_15': {0: -0.0429552992580282},\n",
       " 'local_feat_16': {0: -0.0132816148700588},\n",
       " 'local_feat_17': {0: -0.0434141589424491},\n",
       " 'local_feat_18': {0: -0.1695291606220958},\n",
       " 'local_feat_19': {0: -0.1721881804459036},\n",
       " 'local_feat_20': {0: -0.1732518414045185},\n",
       " 'local_feat_21': {0: -1.373657177393896},\n",
       " 'local_feat_22': {0: -1.37145982760274},\n",
       " 'local_feat_23': {0: -0.1392989337184025},\n",
       " 'local_feat_24': {0: 3.353529615906253},\n",
       " 'local_feat_25': {0: 4.932574261882445},\n",
       " 'local_feat_26': {0: 2.170027657953931},\n",
       " 'local_feat_27': {0: 2.679386335816796},\n",
       " 'local_feat_28': {0: 2.6653770009181503},\n",
       " 'local_feat_29': {0: -0.1393006678363995},\n",
       " 'local_feat_30': {0: 3.353767586892453},\n",
       " 'local_feat_31': {0: 4.932570856844076},\n",
       " 'local_feat_32': {0: 2.170276320704726},\n",
       " 'local_feat_33': {0: 2.6794479166709357},\n",
       " 'local_feat_34': {0: 2.6653075604552345},\n",
       " 'local_feat_35': {0: -0.0246688306562535},\n",
       " 'local_feat_36': {0: -0.0312544795003019},\n",
       " 'local_feat_37': {0: -0.0229463123561796},\n",
       " 'local_feat_38': {0: -0.0262053391177973},\n",
       " 'local_feat_39': {0: 6.999461443570087},\n",
       " 'local_feat_40': {0: 6.998978662521104},\n",
       " 'local_feat_41': {0: -0.2239040660229869},\n",
       " 'local_feat_42': {0: 1.3855118513283056},\n",
       " 'local_feat_43': {0: 5.347103991321642},\n",
       " 'local_feat_44': {0: 0.6112428133919051},\n",
       " 'local_feat_45': {0: 3.8256460379331294},\n",
       " 'local_feat_46': {0: 3.814630699275978},\n",
       " 'local_feat_47': {0: -0.2253225370522476},\n",
       " 'local_feat_48': {0: 1.3911213775648936},\n",
       " 'local_feat_49': {0: 8.218159577383851},\n",
       " 'local_feat_50': {0: 0.5955066273286068},\n",
       " 'local_feat_51': {0: 3.841835160600853},\n",
       " 'local_feat_52': {0: 3.830077520137948},\n",
       " 'local_feat_53': {0: -0.1906680479446194},\n",
       " 'local_feat_54': {0: 3.692234520654495},\n",
       " 'local_feat_55': {0: 9.006931651989898},\n",
       " 'local_feat_56': {0: 2.051194380543551},\n",
       " 'local_feat_57': {0: 2.9394623563965188},\n",
       " 'local_feat_58': {0: 2.9373434052263683},\n",
       " 'local_feat_59': {0: -0.0391484044255812},\n",
       " 'local_feat_60': {0: 2.9584250248066875},\n",
       " 'local_feat_61': {0: 3.1711756861098443},\n",
       " 'local_feat_62': {0: 2.960703966734522},\n",
       " 'local_feat_63': {0: 0.9234729775583688},\n",
       " 'local_feat_64': {0: 0.9230107104495158},\n",
       " 'local_feat_65': {0: -0.0391436884104364},\n",
       " 'local_feat_66': {0: 2.958682175164657},\n",
       " 'local_feat_67': {0: 3.171220224613821},\n",
       " 'local_feat_68': {0: 2.960827856887829},\n",
       " 'local_feat_69': {0: 0.9235162990740676},\n",
       " 'local_feat_70': {0: 0.9231101257685776},\n",
       " 'local_feat_71': {0: -0.0170316758803496},\n",
       " 'local_feat_72': {0: -0.0300262240884176},\n",
       " 'local_feat_73': {0: -0.0176401077419199},\n",
       " 'local_feat_74': {0: -0.0150708883223382},\n",
       " 'local_feat_75': {0: 2.14689907836121},\n",
       " 'local_feat_76': {0: 2.148395778478105},\n",
       " 'local_feat_77': {0: -0.0954026892728408},\n",
       " 'local_feat_78': {0: 1.2180323895401253},\n",
       " 'local_feat_79': {0: 1.2743152571777838},\n",
       " 'local_feat_80': {0: 1.231881032580947},\n",
       " 'local_feat_81': {0: 1.1335266830129689},\n",
       " 'local_feat_82': {0: 1.1359467007331423},\n",
       " 'local_feat_83': {0: -0.0590130547854711},\n",
       " 'local_feat_84': {0: 1.315800222862618},\n",
       " 'local_feat_85': {0: 1.36624471415301},\n",
       " 'local_feat_86': {0: 1.3479685037355025},\n",
       " 'local_feat_87': {0: 1.1255896087380572},\n",
       " 'local_feat_88': {0: 1.1280380290020882},\n",
       " 'local_feat_89': {0: -0.2876520331364497},\n",
       " 'local_feat_90': {0: 2.6940742789496537},\n",
       " 'local_feat_91': {0: 3.48257322143451},\n",
       " 'local_feat_92': {0: 2.363482294580664},\n",
       " 'local_feat_93': {0: 1.135522751490673},\n",
       " 'local_feat_94': {0: 1.135278702458467}}"
      ]
     },
     "execution_count": 5,
     "metadata": {},
     "output_type": "execute_result"
    }
   ],
   "source": [
    "local_features"
   ]
  },
  {
   "cell_type": "code",
   "execution_count": 6,
   "metadata": {},
   "outputs": [],
   "source": [
    "embeddings_table = \"katana-clusters-beta.fsi_elliptic.elliptic_embeddings_\"+pipeline_uri\n",
    "sql = f\"\"\"\n",
    "SELECT af.*\n",
    "FROM \n",
    "    {mapping_table} am\n",
    "JOIN {embeddings_table} af\n",
    "on am.account_gid = af.account_gid\n",
    "WHERE am.account_gid = 82252\n",
    "\"\"\"\n",
    "embeddings = client.query(sql).to_dataframe()"
   ]
  },
  {
   "cell_type": "code",
   "execution_count": 7,
   "metadata": {},
   "outputs": [
    {
     "data": {
      "text/html": [
       "<div>\n",
       "<style scoped>\n",
       "    .dataframe tbody tr th:only-of-type {\n",
       "        vertical-align: middle;\n",
       "    }\n",
       "\n",
       "    .dataframe tbody tr th {\n",
       "        vertical-align: top;\n",
       "    }\n",
       "\n",
       "    .dataframe thead th {\n",
       "        text-align: right;\n",
       "    }\n",
       "</style>\n",
       "<table border=\"1\" class=\"dataframe\">\n",
       "  <thead>\n",
       "    <tr style=\"text-align: right;\">\n",
       "      <th></th>\n",
       "      <th>account_gid</th>\n",
       "      <th>embed_0</th>\n",
       "      <th>embed_1</th>\n",
       "      <th>embed_2</th>\n",
       "      <th>embed_3</th>\n",
       "      <th>embed_4</th>\n",
       "      <th>embed_5</th>\n",
       "      <th>embed_6</th>\n",
       "      <th>embed_7</th>\n",
       "      <th>embed_8</th>\n",
       "      <th>embed_9</th>\n",
       "      <th>embed_10</th>\n",
       "      <th>embed_11</th>\n",
       "      <th>embed_12</th>\n",
       "      <th>embed_13</th>\n",
       "      <th>embed_14</th>\n",
       "      <th>embed_15</th>\n",
       "      <th>event_timestamp</th>\n",
       "    </tr>\n",
       "  </thead>\n",
       "  <tbody>\n",
       "    <tr>\n",
       "      <th>0</th>\n",
       "      <td>82252</td>\n",
       "      <td>0.0</td>\n",
       "      <td>0.0</td>\n",
       "      <td>0.29654</td>\n",
       "      <td>2.080075</td>\n",
       "      <td>0.1527</td>\n",
       "      <td>0.0</td>\n",
       "      <td>0.0</td>\n",
       "      <td>1.785956</td>\n",
       "      <td>0.0</td>\n",
       "      <td>0.499765</td>\n",
       "      <td>0.654764</td>\n",
       "      <td>0.0</td>\n",
       "      <td>0.055952</td>\n",
       "      <td>0.0</td>\n",
       "      <td>1.671464</td>\n",
       "      <td>0.0</td>\n",
       "      <td>2022-09-23 00:00:00+00:00</td>\n",
       "    </tr>\n",
       "  </tbody>\n",
       "</table>\n",
       "</div>"
      ],
      "text/plain": [
       "   account_gid  embed_0  embed_1  embed_2   embed_3  embed_4  embed_5  \\\n",
       "0        82252      0.0      0.0  0.29654  2.080075   0.1527      0.0   \n",
       "\n",
       "   embed_6   embed_7  embed_8   embed_9  embed_10  embed_11  embed_12  \\\n",
       "0      0.0  1.785956      0.0  0.499765  0.654764       0.0  0.055952   \n",
       "\n",
       "   embed_13  embed_14  embed_15           event_timestamp  \n",
       "0       0.0  1.671464       0.0 2022-09-23 00:00:00+00:00  "
      ]
     },
     "execution_count": 7,
     "metadata": {},
     "output_type": "execute_result"
    }
   ],
   "source": [
    "embeddings.head()"
   ]
  },
  {
   "cell_type": "code",
   "execution_count": 8,
   "metadata": {},
   "outputs": [],
   "source": [
    "embeddings = embeddings.drop(columns= ['account_gid','event_timestamp'])"
   ]
  },
  {
   "cell_type": "code",
   "execution_count": 9,
   "metadata": {},
   "outputs": [],
   "source": [
    "account_embeddings = embeddings.to_dict()"
   ]
  },
  {
   "cell_type": "code",
   "execution_count": 10,
   "metadata": {},
   "outputs": [
    {
     "data": {
      "text/plain": [
       "{'embed_0': {0: 0.0},\n",
       " 'embed_1': {0: 0.0},\n",
       " 'embed_2': {0: 0.29653966426849365},\n",
       " 'embed_3': {0: 2.0800745487213135},\n",
       " 'embed_4': {0: 0.15269994735717773},\n",
       " 'embed_5': {0: 0.0},\n",
       " 'embed_6': {0: 0.0},\n",
       " 'embed_7': {0: 1.785955548286438},\n",
       " 'embed_8': {0: 0.0},\n",
       " 'embed_9': {0: 0.49976465106010437},\n",
       " 'embed_10': {0: 0.6547637581825256},\n",
       " 'embed_11': {0: 0.0},\n",
       " 'embed_12': {0: 0.05595153197646141},\n",
       " 'embed_13': {0: 0.0},\n",
       " 'embed_14': {0: 1.6714638471603394},\n",
       " 'embed_15': {0: 0.0}}"
      ]
     },
     "execution_count": 10,
     "metadata": {},
     "output_type": "execute_result"
    }
   ],
   "source": [
    "account_embeddings"
   ]
  },
  {
   "cell_type": "code",
   "execution_count": 11,
   "metadata": {},
   "outputs": [],
   "source": [
    "account_embeddings.update(local_features)"
   ]
  },
  {
   "cell_type": "code",
   "execution_count": 12,
   "metadata": {
    "scrolled": true,
    "tags": []
   },
   "outputs": [
    {
     "data": {
      "text/plain": [
       "{'embed_0': {0: 0.0},\n",
       " 'embed_1': {0: 0.0},\n",
       " 'embed_2': {0: 0.29653966426849365},\n",
       " 'embed_3': {0: 2.0800745487213135},\n",
       " 'embed_4': {0: 0.15269994735717773},\n",
       " 'embed_5': {0: 0.0},\n",
       " 'embed_6': {0: 0.0},\n",
       " 'embed_7': {0: 1.785955548286438},\n",
       " 'embed_8': {0: 0.0},\n",
       " 'embed_9': {0: 0.49976465106010437},\n",
       " 'embed_10': {0: 0.6547637581825256},\n",
       " 'embed_11': {0: 0.0},\n",
       " 'embed_12': {0: 0.05595153197646141},\n",
       " 'embed_13': {0: 0.0},\n",
       " 'embed_14': {0: 1.6714638471603394},\n",
       " 'embed_15': {0: 0.0},\n",
       " 'local_feat_2': {0: -0.1704381951681886},\n",
       " 'local_feat_3': {0: -0.1587825236260844},\n",
       " 'local_feat_4': {0: -1.2013688016765636},\n",
       " 'local_feat_5': {0: -0.0469320913859779},\n",
       " 'local_feat_6': {0: -0.0438745479173489},\n",
       " 'local_feat_7': {0: -0.0291397707181635},\n",
       " 'local_feat_8': {0: -0.0615837940730322},\n",
       " 'local_feat_9': {0: -0.1627752686438751},\n",
       " 'local_feat_10': {0: -0.1677505998619076},\n",
       " 'local_feat_11': {0: -0.0419301227905048},\n",
       " 'local_feat_12': {0: -0.1646486225582168},\n",
       " 'local_feat_13': {0: -2.516704748133169},\n",
       " 'local_feat_14': {0: -2.486106024623408},\n",
       " 'local_feat_15': {0: -0.0429552992580282},\n",
       " 'local_feat_16': {0: -0.0132816148700588},\n",
       " 'local_feat_17': {0: -0.0434141589424491},\n",
       " 'local_feat_18': {0: -0.1695291606220958},\n",
       " 'local_feat_19': {0: -0.1721881804459036},\n",
       " 'local_feat_20': {0: -0.1732518414045185},\n",
       " 'local_feat_21': {0: -1.373657177393896},\n",
       " 'local_feat_22': {0: -1.37145982760274},\n",
       " 'local_feat_23': {0: -0.1392989337184025},\n",
       " 'local_feat_24': {0: 3.353529615906253},\n",
       " 'local_feat_25': {0: 4.932574261882445},\n",
       " 'local_feat_26': {0: 2.170027657953931},\n",
       " 'local_feat_27': {0: 2.679386335816796},\n",
       " 'local_feat_28': {0: 2.6653770009181503},\n",
       " 'local_feat_29': {0: -0.1393006678363995},\n",
       " 'local_feat_30': {0: 3.353767586892453},\n",
       " 'local_feat_31': {0: 4.932570856844076},\n",
       " 'local_feat_32': {0: 2.170276320704726},\n",
       " 'local_feat_33': {0: 2.6794479166709357},\n",
       " 'local_feat_34': {0: 2.6653075604552345},\n",
       " 'local_feat_35': {0: -0.0246688306562535},\n",
       " 'local_feat_36': {0: -0.0312544795003019},\n",
       " 'local_feat_37': {0: -0.0229463123561796},\n",
       " 'local_feat_38': {0: -0.0262053391177973},\n",
       " 'local_feat_39': {0: 6.999461443570087},\n",
       " 'local_feat_40': {0: 6.998978662521104},\n",
       " 'local_feat_41': {0: -0.2239040660229869},\n",
       " 'local_feat_42': {0: 1.3855118513283056},\n",
       " 'local_feat_43': {0: 5.347103991321642},\n",
       " 'local_feat_44': {0: 0.6112428133919051},\n",
       " 'local_feat_45': {0: 3.8256460379331294},\n",
       " 'local_feat_46': {0: 3.814630699275978},\n",
       " 'local_feat_47': {0: -0.2253225370522476},\n",
       " 'local_feat_48': {0: 1.3911213775648936},\n",
       " 'local_feat_49': {0: 8.218159577383851},\n",
       " 'local_feat_50': {0: 0.5955066273286068},\n",
       " 'local_feat_51': {0: 3.841835160600853},\n",
       " 'local_feat_52': {0: 3.830077520137948},\n",
       " 'local_feat_53': {0: -0.1906680479446194},\n",
       " 'local_feat_54': {0: 3.692234520654495},\n",
       " 'local_feat_55': {0: 9.006931651989898},\n",
       " 'local_feat_56': {0: 2.051194380543551},\n",
       " 'local_feat_57': {0: 2.9394623563965188},\n",
       " 'local_feat_58': {0: 2.9373434052263683},\n",
       " 'local_feat_59': {0: -0.0391484044255812},\n",
       " 'local_feat_60': {0: 2.9584250248066875},\n",
       " 'local_feat_61': {0: 3.1711756861098443},\n",
       " 'local_feat_62': {0: 2.960703966734522},\n",
       " 'local_feat_63': {0: 0.9234729775583688},\n",
       " 'local_feat_64': {0: 0.9230107104495158},\n",
       " 'local_feat_65': {0: -0.0391436884104364},\n",
       " 'local_feat_66': {0: 2.958682175164657},\n",
       " 'local_feat_67': {0: 3.171220224613821},\n",
       " 'local_feat_68': {0: 2.960827856887829},\n",
       " 'local_feat_69': {0: 0.9235162990740676},\n",
       " 'local_feat_70': {0: 0.9231101257685776},\n",
       " 'local_feat_71': {0: -0.0170316758803496},\n",
       " 'local_feat_72': {0: -0.0300262240884176},\n",
       " 'local_feat_73': {0: -0.0176401077419199},\n",
       " 'local_feat_74': {0: -0.0150708883223382},\n",
       " 'local_feat_75': {0: 2.14689907836121},\n",
       " 'local_feat_76': {0: 2.148395778478105},\n",
       " 'local_feat_77': {0: -0.0954026892728408},\n",
       " 'local_feat_78': {0: 1.2180323895401253},\n",
       " 'local_feat_79': {0: 1.2743152571777838},\n",
       " 'local_feat_80': {0: 1.231881032580947},\n",
       " 'local_feat_81': {0: 1.1335266830129689},\n",
       " 'local_feat_82': {0: 1.1359467007331423},\n",
       " 'local_feat_83': {0: -0.0590130547854711},\n",
       " 'local_feat_84': {0: 1.315800222862618},\n",
       " 'local_feat_85': {0: 1.36624471415301},\n",
       " 'local_feat_86': {0: 1.3479685037355025},\n",
       " 'local_feat_87': {0: 1.1255896087380572},\n",
       " 'local_feat_88': {0: 1.1280380290020882},\n",
       " 'local_feat_89': {0: -0.2876520331364497},\n",
       " 'local_feat_90': {0: 2.6940742789496537},\n",
       " 'local_feat_91': {0: 3.48257322143451},\n",
       " 'local_feat_92': {0: 2.363482294580664},\n",
       " 'local_feat_93': {0: 1.135522751490673},\n",
       " 'local_feat_94': {0: 1.135278702458467}}"
      ]
     },
     "execution_count": 12,
     "metadata": {},
     "output_type": "execute_result"
    }
   ],
   "source": [
    "account_embeddings"
   ]
  },
  {
   "cell_type": "code",
   "execution_count": null,
   "metadata": {},
   "outputs": [],
   "source": [
    "df = store.get_historical_features(\n",
    "    entity_df=f\"\"\"\n",
    "    SELECT \n",
    "        account_gid,\n",
    "        account_id,\n",
    "        event_timestamp\n",
    "    FROM \n",
    "         {mapping_table}   \n",
    "    WHERE \n",
    "        account_gid = 82252\n",
    "    \"\"\",\n",
    "    features=store.get_feature_service(\"account_features_fs\"),\n",
    "    full_feature_names=False\n",
    ").to_df()\n",
    "df = df[df[\"account_gid\"]==82252]\n",
    "transaction_features = {f\"local_feat_{i}\": df[f\"local_feat_{i}\"].values[0] for i in range(2,95)}"
   ]
  },
  {
   "cell_type": "markdown",
   "metadata": {},
   "source": [
    "## Real-time account embedding retrieval"
   ]
  },
  {
   "cell_type": "markdown",
   "metadata": {},
   "source": [
    "Once we get the account ID that the transaction is for, we can look up the account embedding in real-time"
   ]
  },
  {
   "cell_type": "code",
   "execution_count": 4,
   "metadata": {},
   "outputs": [],
   "source": [
    "account_embedding = store.get_online_features(\n",
    "    features=[f\"account_embeddings_fv:embed_{i}\" for i in range(16)],\n",
    "    entity_rows=[{\"account_gid\": \"82252\"}]\n",
    ").to_dict()\n",
    "account_embedding\n",
    "account_embedding = {i: account_embedding[i][0] for i in account_embedding.keys()}\n",
    "del account_embedding[\"account_gid\"]\n",
    "account_embedding.update(transaction_features)"
   ]
  },
  {
   "cell_type": "markdown",
   "metadata": {},
   "source": [
    "## Real-time inferencing from model endpoint"
   ]
  },
  {
   "cell_type": "code",
   "execution_count": 15,
   "metadata": {},
   "outputs": [
    {
     "ename": "ContextualVersionConflict",
     "evalue": "(google-cloud-bigquery 3.2.0 (/opt/conda/lib/python3.8/site-packages), Requirement.parse('google-cloud-bigquery<3.0.0dev,>=1.15.0'), {'google-cloud-aiplatform'})",
     "output_type": "error",
     "traceback": [
      "\u001b[0;31m---------------------------------------------------------------------------\u001b[0m",
      "\u001b[0;31mContextualVersionConflict\u001b[0m                 Traceback (most recent call last)",
      "Cell \u001b[0;32mIn [15], line 3\u001b[0m\n\u001b[1;32m      1\u001b[0m \u001b[38;5;28;01mfrom\u001b[39;00m \u001b[38;5;21;01mtyping\u001b[39;00m \u001b[38;5;28;01mimport\u001b[39;00m Dict\n\u001b[0;32m----> 3\u001b[0m \u001b[38;5;28;01mfrom\u001b[39;00m \u001b[38;5;21;01mgoogle\u001b[39;00m\u001b[38;5;21;01m.\u001b[39;00m\u001b[38;5;21;01mcloud\u001b[39;00m \u001b[38;5;28;01mimport\u001b[39;00m aiplatform\n\u001b[1;32m      4\u001b[0m \u001b[38;5;28;01mfrom\u001b[39;00m \u001b[38;5;21;01mgoogle\u001b[39;00m\u001b[38;5;21;01m.\u001b[39;00m\u001b[38;5;21;01mprotobuf\u001b[39;00m \u001b[38;5;28;01mimport\u001b[39;00m json_format\n\u001b[1;32m      5\u001b[0m \u001b[38;5;28;01mfrom\u001b[39;00m \u001b[38;5;21;01mgoogle\u001b[39;00m\u001b[38;5;21;01m.\u001b[39;00m\u001b[38;5;21;01mprotobuf\u001b[39;00m\u001b[38;5;21;01m.\u001b[39;00m\u001b[38;5;21;01mstruct_pb2\u001b[39;00m \u001b[38;5;28;01mimport\u001b[39;00m Value\n",
      "File \u001b[0;32m/opt/conda/lib/python3.8/site-packages/google/cloud/aiplatform/__init__.py:24\u001b[0m\n\u001b[1;32m     19\u001b[0m \u001b[38;5;28;01mfrom\u001b[39;00m \u001b[38;5;21;01mgoogle\u001b[39;00m\u001b[38;5;21;01m.\u001b[39;00m\u001b[38;5;21;01mcloud\u001b[39;00m\u001b[38;5;21;01m.\u001b[39;00m\u001b[38;5;21;01maiplatform\u001b[39;00m \u001b[38;5;28;01mimport\u001b[39;00m version \u001b[38;5;28;01mas\u001b[39;00m aiplatform_version\n\u001b[1;32m     21\u001b[0m __version__ \u001b[38;5;241m=\u001b[39m aiplatform_version\u001b[38;5;241m.\u001b[39m__version__\n\u001b[0;32m---> 24\u001b[0m \u001b[38;5;28;01mfrom\u001b[39;00m \u001b[38;5;21;01mgoogle\u001b[39;00m\u001b[38;5;21;01m.\u001b[39;00m\u001b[38;5;21;01mcloud\u001b[39;00m\u001b[38;5;21;01m.\u001b[39;00m\u001b[38;5;21;01maiplatform\u001b[39;00m \u001b[38;5;28;01mimport\u001b[39;00m initializer\n\u001b[1;32m     26\u001b[0m \u001b[38;5;28;01mfrom\u001b[39;00m \u001b[38;5;21;01mgoogle\u001b[39;00m\u001b[38;5;21;01m.\u001b[39;00m\u001b[38;5;21;01mcloud\u001b[39;00m\u001b[38;5;21;01m.\u001b[39;00m\u001b[38;5;21;01maiplatform\u001b[39;00m\u001b[38;5;21;01m.\u001b[39;00m\u001b[38;5;21;01mdatasets\u001b[39;00m \u001b[38;5;28;01mimport\u001b[39;00m (\n\u001b[1;32m     27\u001b[0m     ImageDataset,\n\u001b[1;32m     28\u001b[0m     TabularDataset,\n\u001b[0;32m   (...)\u001b[0m\n\u001b[1;32m     31\u001b[0m     VideoDataset,\n\u001b[1;32m     32\u001b[0m )\n\u001b[1;32m     33\u001b[0m \u001b[38;5;28;01mfrom\u001b[39;00m \u001b[38;5;21;01mgoogle\u001b[39;00m\u001b[38;5;21;01m.\u001b[39;00m\u001b[38;5;21;01mcloud\u001b[39;00m\u001b[38;5;21;01m.\u001b[39;00m\u001b[38;5;21;01maiplatform\u001b[39;00m \u001b[38;5;28;01mimport\u001b[39;00m explain\n",
      "File \u001b[0;32m/opt/conda/lib/python3.8/site-packages/google/cloud/aiplatform/initializer.py:31\u001b[0m\n\u001b[1;32m     28\u001b[0m \u001b[38;5;28;01mfrom\u001b[39;00m \u001b[38;5;21;01mgoogle\u001b[39;00m\u001b[38;5;21;01m.\u001b[39;00m\u001b[38;5;21;01mauth\u001b[39;00m \u001b[38;5;28;01mimport\u001b[39;00m credentials \u001b[38;5;28;01mas\u001b[39;00m auth_credentials\n\u001b[1;32m     29\u001b[0m \u001b[38;5;28;01mfrom\u001b[39;00m \u001b[38;5;21;01mgoogle\u001b[39;00m\u001b[38;5;21;01m.\u001b[39;00m\u001b[38;5;21;01mauth\u001b[39;00m\u001b[38;5;21;01m.\u001b[39;00m\u001b[38;5;21;01mexceptions\u001b[39;00m \u001b[38;5;28;01mimport\u001b[39;00m GoogleAuthError\n\u001b[0;32m---> 31\u001b[0m \u001b[38;5;28;01mfrom\u001b[39;00m \u001b[38;5;21;01mgoogle\u001b[39;00m\u001b[38;5;21;01m.\u001b[39;00m\u001b[38;5;21;01mcloud\u001b[39;00m\u001b[38;5;21;01m.\u001b[39;00m\u001b[38;5;21;01maiplatform\u001b[39;00m \u001b[38;5;28;01mimport\u001b[39;00m compat\n\u001b[1;32m     32\u001b[0m \u001b[38;5;28;01mfrom\u001b[39;00m \u001b[38;5;21;01mgoogle\u001b[39;00m\u001b[38;5;21;01m.\u001b[39;00m\u001b[38;5;21;01mcloud\u001b[39;00m\u001b[38;5;21;01m.\u001b[39;00m\u001b[38;5;21;01maiplatform\u001b[39;00m\u001b[38;5;21;01m.\u001b[39;00m\u001b[38;5;21;01mconstants\u001b[39;00m \u001b[38;5;28;01mimport\u001b[39;00m base \u001b[38;5;28;01mas\u001b[39;00m constants\n\u001b[1;32m     33\u001b[0m \u001b[38;5;28;01mfrom\u001b[39;00m \u001b[38;5;21;01mgoogle\u001b[39;00m\u001b[38;5;21;01m.\u001b[39;00m\u001b[38;5;21;01mcloud\u001b[39;00m\u001b[38;5;21;01m.\u001b[39;00m\u001b[38;5;21;01maiplatform\u001b[39;00m \u001b[38;5;28;01mimport\u001b[39;00m utils\n",
      "File \u001b[0;32m/opt/conda/lib/python3.8/site-packages/google/cloud/aiplatform/compat/__init__.py:18\u001b[0m\n\u001b[1;32m      1\u001b[0m \u001b[38;5;66;03m# -*- coding: utf-8 -*-\u001b[39;00m\n\u001b[1;32m      2\u001b[0m \n\u001b[1;32m      3\u001b[0m \u001b[38;5;66;03m# Copyright 2022 Google LLC\u001b[39;00m\n\u001b[0;32m   (...)\u001b[0m\n\u001b[1;32m     15\u001b[0m \u001b[38;5;66;03m# limitations under the License.\u001b[39;00m\n\u001b[1;32m     16\u001b[0m \u001b[38;5;66;03m#\u001b[39;00m\n\u001b[0;32m---> 18\u001b[0m \u001b[38;5;28;01mfrom\u001b[39;00m \u001b[38;5;21;01mgoogle\u001b[39;00m\u001b[38;5;21;01m.\u001b[39;00m\u001b[38;5;21;01mcloud\u001b[39;00m\u001b[38;5;21;01m.\u001b[39;00m\u001b[38;5;21;01maiplatform\u001b[39;00m\u001b[38;5;21;01m.\u001b[39;00m\u001b[38;5;21;01mcompat\u001b[39;00m \u001b[38;5;28;01mimport\u001b[39;00m services\n\u001b[1;32m     19\u001b[0m \u001b[38;5;28;01mfrom\u001b[39;00m \u001b[38;5;21;01mgoogle\u001b[39;00m\u001b[38;5;21;01m.\u001b[39;00m\u001b[38;5;21;01mcloud\u001b[39;00m\u001b[38;5;21;01m.\u001b[39;00m\u001b[38;5;21;01maiplatform\u001b[39;00m\u001b[38;5;21;01m.\u001b[39;00m\u001b[38;5;21;01mcompat\u001b[39;00m \u001b[38;5;28;01mimport\u001b[39;00m types\n\u001b[1;32m     21\u001b[0m V1BETA1 \u001b[38;5;241m=\u001b[39m \u001b[38;5;124m\"\u001b[39m\u001b[38;5;124mv1beta1\u001b[39m\u001b[38;5;124m\"\u001b[39m\n",
      "File \u001b[0;32m/opt/conda/lib/python3.8/site-packages/google/cloud/aiplatform/compat/services/__init__.py:18\u001b[0m\n\u001b[1;32m      1\u001b[0m \u001b[38;5;66;03m# -*- coding: utf-8 -*-\u001b[39;00m\n\u001b[1;32m      2\u001b[0m \n\u001b[1;32m      3\u001b[0m \u001b[38;5;66;03m# Copyright 2021 Google LLC\u001b[39;00m\n\u001b[0;32m   (...)\u001b[0m\n\u001b[1;32m     15\u001b[0m \u001b[38;5;66;03m# limitations under the License.\u001b[39;00m\n\u001b[1;32m     16\u001b[0m \u001b[38;5;66;03m#\u001b[39;00m\n\u001b[0;32m---> 18\u001b[0m \u001b[38;5;28;01mfrom\u001b[39;00m \u001b[38;5;21;01mgoogle\u001b[39;00m\u001b[38;5;21;01m.\u001b[39;00m\u001b[38;5;21;01mcloud\u001b[39;00m\u001b[38;5;21;01m.\u001b[39;00m\u001b[38;5;21;01maiplatform_v1beta1\u001b[39;00m\u001b[38;5;21;01m.\u001b[39;00m\u001b[38;5;21;01mservices\u001b[39;00m\u001b[38;5;21;01m.\u001b[39;00m\u001b[38;5;21;01mdataset_service\u001b[39;00m \u001b[38;5;28;01mimport\u001b[39;00m (\n\u001b[1;32m     19\u001b[0m     client \u001b[38;5;28;01mas\u001b[39;00m dataset_service_client_v1beta1,\n\u001b[1;32m     20\u001b[0m )\n\u001b[1;32m     21\u001b[0m \u001b[38;5;28;01mfrom\u001b[39;00m \u001b[38;5;21;01mgoogle\u001b[39;00m\u001b[38;5;21;01m.\u001b[39;00m\u001b[38;5;21;01mcloud\u001b[39;00m\u001b[38;5;21;01m.\u001b[39;00m\u001b[38;5;21;01maiplatform_v1beta1\u001b[39;00m\u001b[38;5;21;01m.\u001b[39;00m\u001b[38;5;21;01mservices\u001b[39;00m\u001b[38;5;21;01m.\u001b[39;00m\u001b[38;5;21;01mendpoint_service\u001b[39;00m \u001b[38;5;28;01mimport\u001b[39;00m (\n\u001b[1;32m     22\u001b[0m     client \u001b[38;5;28;01mas\u001b[39;00m endpoint_service_client_v1beta1,\n\u001b[1;32m     23\u001b[0m )\n\u001b[1;32m     24\u001b[0m \u001b[38;5;28;01mfrom\u001b[39;00m \u001b[38;5;21;01mgoogle\u001b[39;00m\u001b[38;5;21;01m.\u001b[39;00m\u001b[38;5;21;01mcloud\u001b[39;00m\u001b[38;5;21;01m.\u001b[39;00m\u001b[38;5;21;01maiplatform_v1beta1\u001b[39;00m\u001b[38;5;21;01m.\u001b[39;00m\u001b[38;5;21;01mservices\u001b[39;00m\u001b[38;5;21;01m.\u001b[39;00m\u001b[38;5;21;01mfeaturestore_online_serving_service\u001b[39;00m \u001b[38;5;28;01mimport\u001b[39;00m (\n\u001b[1;32m     25\u001b[0m     client \u001b[38;5;28;01mas\u001b[39;00m featurestore_online_serving_service_client_v1beta1,\n\u001b[1;32m     26\u001b[0m )\n",
      "File \u001b[0;32m/opt/conda/lib/python3.8/site-packages/google/cloud/aiplatform_v1beta1/__init__.py:17\u001b[0m\n\u001b[1;32m      1\u001b[0m \u001b[38;5;66;03m# -*- coding: utf-8 -*-\u001b[39;00m\n\u001b[1;32m      2\u001b[0m \u001b[38;5;66;03m# Copyright 2022 Google LLC\u001b[39;00m\n\u001b[1;32m      3\u001b[0m \u001b[38;5;66;03m#\u001b[39;00m\n\u001b[0;32m   (...)\u001b[0m\n\u001b[1;32m     14\u001b[0m \u001b[38;5;66;03m# limitations under the License.\u001b[39;00m\n\u001b[1;32m     15\u001b[0m \u001b[38;5;66;03m#\u001b[39;00m\n\u001b[0;32m---> 17\u001b[0m \u001b[38;5;28;01mfrom\u001b[39;00m \u001b[38;5;21;01m.\u001b[39;00m\u001b[38;5;21;01mservices\u001b[39;00m\u001b[38;5;21;01m.\u001b[39;00m\u001b[38;5;21;01mdataset_service\u001b[39;00m \u001b[38;5;28;01mimport\u001b[39;00m DatasetServiceClient\n\u001b[1;32m     18\u001b[0m \u001b[38;5;28;01mfrom\u001b[39;00m \u001b[38;5;21;01m.\u001b[39;00m\u001b[38;5;21;01mservices\u001b[39;00m\u001b[38;5;21;01m.\u001b[39;00m\u001b[38;5;21;01mdataset_service\u001b[39;00m \u001b[38;5;28;01mimport\u001b[39;00m DatasetServiceAsyncClient\n\u001b[1;32m     19\u001b[0m \u001b[38;5;28;01mfrom\u001b[39;00m \u001b[38;5;21;01m.\u001b[39;00m\u001b[38;5;21;01mservices\u001b[39;00m\u001b[38;5;21;01m.\u001b[39;00m\u001b[38;5;21;01mdeployment_resource_pool_service\u001b[39;00m \u001b[38;5;28;01mimport\u001b[39;00m (\n\u001b[1;32m     20\u001b[0m     DeploymentResourcePoolServiceClient,\n\u001b[1;32m     21\u001b[0m )\n",
      "File \u001b[0;32m/opt/conda/lib/python3.8/site-packages/google/cloud/aiplatform_v1beta1/services/dataset_service/__init__.py:16\u001b[0m\n\u001b[1;32m      1\u001b[0m \u001b[38;5;66;03m# -*- coding: utf-8 -*-\u001b[39;00m\n\u001b[1;32m      2\u001b[0m \u001b[38;5;66;03m# Copyright 2022 Google LLC\u001b[39;00m\n\u001b[1;32m      3\u001b[0m \u001b[38;5;66;03m#\u001b[39;00m\n\u001b[0;32m   (...)\u001b[0m\n\u001b[1;32m     14\u001b[0m \u001b[38;5;66;03m# limitations under the License.\u001b[39;00m\n\u001b[1;32m     15\u001b[0m \u001b[38;5;66;03m#\u001b[39;00m\n\u001b[0;32m---> 16\u001b[0m \u001b[38;5;28;01mfrom\u001b[39;00m \u001b[38;5;21;01m.\u001b[39;00m\u001b[38;5;21;01mclient\u001b[39;00m \u001b[38;5;28;01mimport\u001b[39;00m DatasetServiceClient\n\u001b[1;32m     17\u001b[0m \u001b[38;5;28;01mfrom\u001b[39;00m \u001b[38;5;21;01m.\u001b[39;00m\u001b[38;5;21;01masync_client\u001b[39;00m \u001b[38;5;28;01mimport\u001b[39;00m DatasetServiceAsyncClient\n\u001b[1;32m     19\u001b[0m __all__ \u001b[38;5;241m=\u001b[39m (\n\u001b[1;32m     20\u001b[0m     \u001b[38;5;124m\"\u001b[39m\u001b[38;5;124mDatasetServiceClient\u001b[39m\u001b[38;5;124m\"\u001b[39m,\n\u001b[1;32m     21\u001b[0m     \u001b[38;5;124m\"\u001b[39m\u001b[38;5;124mDatasetServiceAsyncClient\u001b[39m\u001b[38;5;124m\"\u001b[39m,\n\u001b[1;32m     22\u001b[0m )\n",
      "File \u001b[0;32m/opt/conda/lib/python3.8/site-packages/google/cloud/aiplatform_v1beta1/services/dataset_service/client.py:57\u001b[0m\n\u001b[1;32m     55\u001b[0m \u001b[38;5;28;01mfrom\u001b[39;00m \u001b[38;5;21;01mgoogle\u001b[39;00m\u001b[38;5;21;01m.\u001b[39;00m\u001b[38;5;21;01mprotobuf\u001b[39;00m \u001b[38;5;28;01mimport\u001b[39;00m struct_pb2  \u001b[38;5;66;03m# type: ignore\u001b[39;00m\n\u001b[1;32m     56\u001b[0m \u001b[38;5;28;01mfrom\u001b[39;00m \u001b[38;5;21;01mgoogle\u001b[39;00m\u001b[38;5;21;01m.\u001b[39;00m\u001b[38;5;21;01mprotobuf\u001b[39;00m \u001b[38;5;28;01mimport\u001b[39;00m timestamp_pb2  \u001b[38;5;66;03m# type: ignore\u001b[39;00m\n\u001b[0;32m---> 57\u001b[0m \u001b[38;5;28;01mfrom\u001b[39;00m \u001b[38;5;21;01m.\u001b[39;00m\u001b[38;5;21;01mtransports\u001b[39;00m\u001b[38;5;21;01m.\u001b[39;00m\u001b[38;5;21;01mbase\u001b[39;00m \u001b[38;5;28;01mimport\u001b[39;00m DatasetServiceTransport, DEFAULT_CLIENT_INFO\n\u001b[1;32m     58\u001b[0m \u001b[38;5;28;01mfrom\u001b[39;00m \u001b[38;5;21;01m.\u001b[39;00m\u001b[38;5;21;01mtransports\u001b[39;00m\u001b[38;5;21;01m.\u001b[39;00m\u001b[38;5;21;01mgrpc\u001b[39;00m \u001b[38;5;28;01mimport\u001b[39;00m DatasetServiceGrpcTransport\n\u001b[1;32m     59\u001b[0m \u001b[38;5;28;01mfrom\u001b[39;00m \u001b[38;5;21;01m.\u001b[39;00m\u001b[38;5;21;01mtransports\u001b[39;00m\u001b[38;5;21;01m.\u001b[39;00m\u001b[38;5;21;01mgrpc_asyncio\u001b[39;00m \u001b[38;5;28;01mimport\u001b[39;00m DatasetServiceGrpcAsyncIOTransport\n",
      "File \u001b[0;32m/opt/conda/lib/python3.8/site-packages/google/cloud/aiplatform_v1beta1/services/dataset_service/transports/__init__.py:19\u001b[0m\n\u001b[1;32m     16\u001b[0m \u001b[38;5;28;01mfrom\u001b[39;00m \u001b[38;5;21;01mcollections\u001b[39;00m \u001b[38;5;28;01mimport\u001b[39;00m OrderedDict\n\u001b[1;32m     17\u001b[0m \u001b[38;5;28;01mfrom\u001b[39;00m \u001b[38;5;21;01mtyping\u001b[39;00m \u001b[38;5;28;01mimport\u001b[39;00m Dict, Type\n\u001b[0;32m---> 19\u001b[0m \u001b[38;5;28;01mfrom\u001b[39;00m \u001b[38;5;21;01m.\u001b[39;00m\u001b[38;5;21;01mbase\u001b[39;00m \u001b[38;5;28;01mimport\u001b[39;00m DatasetServiceTransport\n\u001b[1;32m     20\u001b[0m \u001b[38;5;28;01mfrom\u001b[39;00m \u001b[38;5;21;01m.\u001b[39;00m\u001b[38;5;21;01mgrpc\u001b[39;00m \u001b[38;5;28;01mimport\u001b[39;00m DatasetServiceGrpcTransport\n\u001b[1;32m     21\u001b[0m \u001b[38;5;28;01mfrom\u001b[39;00m \u001b[38;5;21;01m.\u001b[39;00m\u001b[38;5;21;01mgrpc_asyncio\u001b[39;00m \u001b[38;5;28;01mimport\u001b[39;00m DatasetServiceGrpcAsyncIOTransport\n",
      "File \u001b[0;32m/opt/conda/lib/python3.8/site-packages/google/cloud/aiplatform_v1beta1/services/dataset_service/transports/base.py:41\u001b[0m\n\u001b[1;32m     37\u001b[0m \u001b[38;5;28;01mfrom\u001b[39;00m \u001b[38;5;21;01mgoogle\u001b[39;00m\u001b[38;5;21;01m.\u001b[39;00m\u001b[38;5;21;01mlongrunning\u001b[39;00m \u001b[38;5;28;01mimport\u001b[39;00m operations_pb2  \u001b[38;5;66;03m# type: ignore\u001b[39;00m\n\u001b[1;32m     39\u001b[0m \u001b[38;5;28;01mtry\u001b[39;00m:\n\u001b[1;32m     40\u001b[0m     DEFAULT_CLIENT_INFO \u001b[38;5;241m=\u001b[39m gapic_v1\u001b[38;5;241m.\u001b[39mclient_info\u001b[38;5;241m.\u001b[39mClientInfo(\n\u001b[0;32m---> 41\u001b[0m         gapic_version\u001b[38;5;241m=\u001b[39m\u001b[43mpkg_resources\u001b[49m\u001b[38;5;241;43m.\u001b[39;49m\u001b[43mget_distribution\u001b[49m\u001b[43m(\u001b[49m\n\u001b[1;32m     42\u001b[0m \u001b[43m            \u001b[49m\u001b[38;5;124;43m\"\u001b[39;49m\u001b[38;5;124;43mgoogle-cloud-aiplatform\u001b[39;49m\u001b[38;5;124;43m\"\u001b[39;49m\u001b[43m,\u001b[49m\n\u001b[1;32m     43\u001b[0m \u001b[43m        \u001b[49m\u001b[43m)\u001b[49m\u001b[38;5;241m.\u001b[39mversion,\n\u001b[1;32m     44\u001b[0m     )\n\u001b[1;32m     45\u001b[0m \u001b[38;5;28;01mexcept\u001b[39;00m pkg_resources\u001b[38;5;241m.\u001b[39mDistributionNotFound:\n\u001b[1;32m     46\u001b[0m     DEFAULT_CLIENT_INFO \u001b[38;5;241m=\u001b[39m gapic_v1\u001b[38;5;241m.\u001b[39mclient_info\u001b[38;5;241m.\u001b[39mClientInfo()\n",
      "File \u001b[0;32m/opt/conda/lib/python3.8/site-packages/pkg_resources/__init__.py:471\u001b[0m, in \u001b[0;36mget_distribution\u001b[0;34m(dist)\u001b[0m\n\u001b[1;32m    469\u001b[0m     dist \u001b[38;5;241m=\u001b[39m Requirement\u001b[38;5;241m.\u001b[39mparse(dist)\n\u001b[1;32m    470\u001b[0m \u001b[38;5;28;01mif\u001b[39;00m \u001b[38;5;28misinstance\u001b[39m(dist, Requirement):\n\u001b[0;32m--> 471\u001b[0m     dist \u001b[38;5;241m=\u001b[39m \u001b[43mget_provider\u001b[49m\u001b[43m(\u001b[49m\u001b[43mdist\u001b[49m\u001b[43m)\u001b[49m\n\u001b[1;32m    472\u001b[0m \u001b[38;5;28;01mif\u001b[39;00m \u001b[38;5;129;01mnot\u001b[39;00m \u001b[38;5;28misinstance\u001b[39m(dist, Distribution):\n\u001b[1;32m    473\u001b[0m     \u001b[38;5;28;01mraise\u001b[39;00m \u001b[38;5;167;01mTypeError\u001b[39;00m(\u001b[38;5;124m\"\u001b[39m\u001b[38;5;124mExpected string, Requirement, or Distribution\u001b[39m\u001b[38;5;124m\"\u001b[39m, dist)\n",
      "File \u001b[0;32m/opt/conda/lib/python3.8/site-packages/pkg_resources/__init__.py:347\u001b[0m, in \u001b[0;36mget_provider\u001b[0;34m(moduleOrReq)\u001b[0m\n\u001b[1;32m    345\u001b[0m \u001b[38;5;124;03m\"\"\"Return an IResourceProvider for the named module or requirement\"\"\"\u001b[39;00m\n\u001b[1;32m    346\u001b[0m \u001b[38;5;28;01mif\u001b[39;00m \u001b[38;5;28misinstance\u001b[39m(moduleOrReq, Requirement):\n\u001b[0;32m--> 347\u001b[0m     \u001b[38;5;28;01mreturn\u001b[39;00m working_set\u001b[38;5;241m.\u001b[39mfind(moduleOrReq) \u001b[38;5;129;01mor\u001b[39;00m \u001b[43mrequire\u001b[49m\u001b[43m(\u001b[49m\u001b[38;5;28;43mstr\u001b[39;49m\u001b[43m(\u001b[49m\u001b[43mmoduleOrReq\u001b[49m\u001b[43m)\u001b[49m\u001b[43m)\u001b[49m[\u001b[38;5;241m0\u001b[39m]\n\u001b[1;32m    348\u001b[0m \u001b[38;5;28;01mtry\u001b[39;00m:\n\u001b[1;32m    349\u001b[0m     module \u001b[38;5;241m=\u001b[39m sys\u001b[38;5;241m.\u001b[39mmodules[moduleOrReq]\n",
      "File \u001b[0;32m/opt/conda/lib/python3.8/site-packages/pkg_resources/__init__.py:891\u001b[0m, in \u001b[0;36mWorkingSet.require\u001b[0;34m(self, *requirements)\u001b[0m\n\u001b[1;32m    882\u001b[0m \u001b[38;5;28;01mdef\u001b[39;00m \u001b[38;5;21mrequire\u001b[39m(\u001b[38;5;28mself\u001b[39m, \u001b[38;5;241m*\u001b[39mrequirements):\n\u001b[1;32m    883\u001b[0m     \u001b[38;5;124;03m\"\"\"Ensure that distributions matching `requirements` are activated\u001b[39;00m\n\u001b[1;32m    884\u001b[0m \n\u001b[1;32m    885\u001b[0m \u001b[38;5;124;03m    `requirements` must be a string or a (possibly-nested) sequence\u001b[39;00m\n\u001b[0;32m   (...)\u001b[0m\n\u001b[1;32m    889\u001b[0m \u001b[38;5;124;03m    included, even if they were already activated in this working set.\u001b[39;00m\n\u001b[1;32m    890\u001b[0m \u001b[38;5;124;03m    \"\"\"\u001b[39;00m\n\u001b[0;32m--> 891\u001b[0m     needed \u001b[38;5;241m=\u001b[39m \u001b[38;5;28;43mself\u001b[39;49m\u001b[38;5;241;43m.\u001b[39;49m\u001b[43mresolve\u001b[49m\u001b[43m(\u001b[49m\u001b[43mparse_requirements\u001b[49m\u001b[43m(\u001b[49m\u001b[43mrequirements\u001b[49m\u001b[43m)\u001b[49m\u001b[43m)\u001b[49m\n\u001b[1;32m    893\u001b[0m     \u001b[38;5;28;01mfor\u001b[39;00m dist \u001b[38;5;129;01min\u001b[39;00m needed:\n\u001b[1;32m    894\u001b[0m         \u001b[38;5;28mself\u001b[39m\u001b[38;5;241m.\u001b[39madd(dist)\n",
      "File \u001b[0;32m/opt/conda/lib/python3.8/site-packages/pkg_resources/__init__.py:782\u001b[0m, in \u001b[0;36mWorkingSet.resolve\u001b[0;34m(self, requirements, env, installer, replace_conflicting, extras)\u001b[0m\n\u001b[1;32m    779\u001b[0m \u001b[38;5;28;01mif\u001b[39;00m dist \u001b[38;5;129;01mnot\u001b[39;00m \u001b[38;5;129;01min\u001b[39;00m req:\n\u001b[1;32m    780\u001b[0m     \u001b[38;5;66;03m# Oops, the \"best\" so far conflicts with a dependency\u001b[39;00m\n\u001b[1;32m    781\u001b[0m     dependent_req \u001b[38;5;241m=\u001b[39m required_by[req]\n\u001b[0;32m--> 782\u001b[0m     \u001b[38;5;28;01mraise\u001b[39;00m VersionConflict(dist, req)\u001b[38;5;241m.\u001b[39mwith_context(dependent_req)\n\u001b[1;32m    784\u001b[0m \u001b[38;5;66;03m# push the new requirements onto the stack\u001b[39;00m\n\u001b[1;32m    785\u001b[0m new_requirements \u001b[38;5;241m=\u001b[39m dist\u001b[38;5;241m.\u001b[39mrequires(req\u001b[38;5;241m.\u001b[39mextras)[::\u001b[38;5;241m-\u001b[39m\u001b[38;5;241m1\u001b[39m]\n",
      "\u001b[0;31mContextualVersionConflict\u001b[0m: (google-cloud-bigquery 3.2.0 (/opt/conda/lib/python3.8/site-packages), Requirement.parse('google-cloud-bigquery<3.0.0dev,>=1.15.0'), {'google-cloud-aiplatform'})"
     ]
    }
   ],
   "source": [
    "from typing import Dict\n",
    "\n",
    "from google.cloud import aiplatform\n",
    "from google.protobuf import json_format\n",
    "from google.protobuf.struct_pb2 import Value\n",
    "\n",
    "project=\"936152536067\"\n",
    "endpoint_id=\"3775146785689829376\"\n",
    "location=\"us-central1\"\n",
    "api_endpoint= \"us-central1-aiplatform.googleapis.com\"\n",
    "instance_dict=account_embedding\n",
    "# The AI Platform services require regional API endpoints.\n",
    "client_options = {\"api_endpoint\": api_endpoint}\n",
    "# Initialize client that will be used to create and send requests.\n",
    "# This client only needs to be created once, and can be reused for multiple requests.\n",
    "client = aiplatform.gapic.PredictionServiceClient(client_options=client_options)\n",
    "# for more info on the instance schema, please use get_model_sample.py\n",
    "# and look at the yaml found in instance_schema_uri\n",
    "instance = json_format.ParseDict(instance_dict, Value())\n",
    "instances = [instance]\n",
    "parameters_dict = {}\n",
    "parameters = json_format.ParseDict(parameters_dict, Value())\n",
    "endpoint = client.endpoint_path(\n",
    "    project=project, location=location, endpoint=endpoint_id\n",
    ")\n",
    "response = client.predict(\n",
    "    endpoint=endpoint, instances=instances, parameters=parameters\n",
    ")\n",
    "print(\"response\")\n",
    "print(\" deployed_model_id:\", response.deployed_model_id)\n",
    "# See gs://google-cloud-aiplatform/schema/predict/prediction/tabular_classification_1.0.0.yaml for the format of the predictions.\n",
    "predictions = response.predictions\n",
    "for prediction in predictions:\n",
    "    print(\" prediction:\", dict(prediction))"
   ]
  },
  {
   "cell_type": "code",
   "execution_count": 14,
   "metadata": {},
   "outputs": [
    {
     "name": "stdout",
     "output_type": "stream",
     "text": [
      "Collecting google-cloud-aiplatform\n",
      "  Downloading google_cloud_aiplatform-1.18.2-py2.py3-none-any.whl (2.3 MB)\n",
      "\u001b[2K     \u001b[90m━━━━━━━━━━━━━━━━━━━━━━━━━━━━━━━━━━━━━━━━\u001b[0m \u001b[32m2.3/2.3 MB\u001b[0m \u001b[31m28.5 MB/s\u001b[0m eta \u001b[36m0:00:00\u001b[0m00:01\u001b[0m00:01\u001b[0m\n",
      "\u001b[?25hCollecting google-cloud-bigquery<3.0.0dev,>=1.15.0\n",
      "  Downloading google_cloud_bigquery-2.34.4-py2.py3-none-any.whl (206 kB)\n",
      "\u001b[2K     \u001b[90m━━━━━━━━━━━━━━━━━━━━━━━━━━━━━━━━━━━━━━\u001b[0m \u001b[32m206.6/206.6 kB\u001b[0m \u001b[31m30.8 MB/s\u001b[0m eta \u001b[36m0:00:00\u001b[0m\n",
      "\u001b[?25hRequirement already satisfied: proto-plus<2.0.0dev,>=1.22.0 in /opt/conda/lib/python3.8/site-packages (from google-cloud-aiplatform) (1.22.1)\n",
      "Requirement already satisfied: google-api-core[grpc]!=2.0.*,!=2.1.*,!=2.2.*,!=2.3.*,!=2.4.*,!=2.5.*,!=2.6.*,!=2.7.*,<3.0.0dev,>=1.32.0 in /opt/conda/lib/python3.8/site-packages (from google-cloud-aiplatform) (2.10.0)\n",
      "Requirement already satisfied: google-cloud-storage<3.0.0dev,>=1.32.0 in /opt/conda/lib/python3.8/site-packages (from google-cloud-aiplatform) (2.5.0)\n",
      "Requirement already satisfied: protobuf!=3.20.0,!=3.20.1,!=4.21.0,!=4.21.1,!=4.21.2,!=4.21.3,!=4.21.4,!=4.21.5,<5.0.0dev,>=3.19.5 in /opt/conda/lib/python3.8/site-packages (from google-cloud-aiplatform) (3.20.0rc2)\n",
      "Collecting google-cloud-resource-manager<3.0.0dev,>=1.3.3\n",
      "  Downloading google_cloud_resource_manager-1.6.3-py2.py3-none-any.whl (233 kB)\n",
      "\u001b[2K     \u001b[90m━━━━━━━━━━━━━━━━━━━━━━━━━━━━━━━━━━━━━━\u001b[0m \u001b[32m233.8/233.8 kB\u001b[0m \u001b[31m28.6 MB/s\u001b[0m eta \u001b[36m0:00:00\u001b[0m\n",
      "\u001b[?25hRequirement already satisfied: packaging<22.0.0dev,>=14.3 in /opt/conda/lib/python3.8/site-packages (from google-cloud-aiplatform) (21.3)\n",
      "Requirement already satisfied: googleapis-common-protos<2.0dev,>=1.56.2 in /opt/conda/lib/python3.8/site-packages (from google-api-core[grpc]!=2.0.*,!=2.1.*,!=2.2.*,!=2.3.*,!=2.4.*,!=2.5.*,!=2.6.*,!=2.7.*,<3.0.0dev,>=1.32.0->google-cloud-aiplatform) (1.56.4)\n",
      "Requirement already satisfied: google-auth<3.0dev,>=1.25.0 in /opt/conda/lib/python3.8/site-packages (from google-api-core[grpc]!=2.0.*,!=2.1.*,!=2.2.*,!=2.3.*,!=2.4.*,!=2.5.*,!=2.6.*,!=2.7.*,<3.0.0dev,>=1.32.0->google-cloud-aiplatform) (2.12.0)\n",
      "Collecting protobuf!=3.20.0,!=3.20.1,!=4.21.0,!=4.21.1,!=4.21.2,!=4.21.3,!=4.21.4,!=4.21.5,<5.0.0dev,>=3.19.5\n",
      "  Downloading protobuf-4.21.8-cp37-abi3-manylinux2014_x86_64.whl (408 kB)\n",
      "\u001b[2K     \u001b[90m━━━━━━━━━━━━━━━━━━━━━━━━━━━━━━━━━━━━━━\u001b[0m \u001b[32m408.4/408.4 kB\u001b[0m \u001b[31m41.1 MB/s\u001b[0m eta \u001b[36m0:00:00\u001b[0m\n",
      "\u001b[?25hRequirement already satisfied: requests<3.0.0dev,>=2.18.0 in /opt/conda/lib/python3.8/site-packages (from google-api-core[grpc]!=2.0.*,!=2.1.*,!=2.2.*,!=2.3.*,!=2.4.*,!=2.5.*,!=2.6.*,!=2.7.*,<3.0.0dev,>=1.32.0->google-cloud-aiplatform) (2.28.1)\n",
      "Requirement already satisfied: grpcio-status<2.0dev,>=1.33.2 in /opt/conda/lib/python3.8/site-packages (from google-api-core[grpc]!=2.0.*,!=2.1.*,!=2.2.*,!=2.3.*,!=2.4.*,!=2.5.*,!=2.6.*,!=2.7.*,<3.0.0dev,>=1.32.0->google-cloud-aiplatform) (1.46.3)\n",
      "Requirement already satisfied: grpcio<2.0dev,>=1.33.2 in /opt/conda/lib/python3.8/site-packages (from google-api-core[grpc]!=2.0.*,!=2.1.*,!=2.2.*,!=2.3.*,!=2.4.*,!=2.5.*,!=2.6.*,!=2.7.*,<3.0.0dev,>=1.32.0->google-cloud-aiplatform) (1.46.3)\n",
      "Requirement already satisfied: google-cloud-core<3.0.0dev,>=1.4.1 in /opt/conda/lib/python3.8/site-packages (from google-cloud-bigquery<3.0.0dev,>=1.15.0->google-cloud-aiplatform) (2.3.2)\n",
      "  Downloading protobuf-3.20.3-cp38-cp38-manylinux_2_5_x86_64.manylinux1_x86_64.whl (1.0 MB)\n",
      "\u001b[2K     \u001b[90m━━━━━━━━━━━━━━━━━━━━━━━━━━━━━━━━━━━━━━━━\u001b[0m \u001b[32m1.0/1.0 MB\u001b[0m \u001b[31m58.4 MB/s\u001b[0m eta \u001b[36m0:00:00\u001b[0m\n",
      "\u001b[?25hRequirement already satisfied: python-dateutil<3.0dev,>=2.7.2 in /opt/conda/lib/python3.8/site-packages (from google-cloud-bigquery<3.0.0dev,>=1.15.0->google-cloud-aiplatform) (2.8.2)\n",
      "Requirement already satisfied: google-resumable-media<3.0dev,>=0.6.0 in /opt/conda/lib/python3.8/site-packages (from google-cloud-bigquery<3.0.0dev,>=1.15.0->google-cloud-aiplatform) (2.4.0)\n",
      "Collecting grpc-google-iam-v1<1.0.0dev,>=0.12.4\n",
      "  Downloading grpc_google_iam_v1-0.12.4-py2.py3-none-any.whl (26 kB)\n",
      "Requirement already satisfied: pyparsing!=3.0.5,>=2.0.2 in /opt/conda/lib/python3.8/site-packages (from packaging<22.0.0dev,>=14.3->google-cloud-aiplatform) (3.0.9)\n",
      "Requirement already satisfied: pyasn1-modules>=0.2.1 in /opt/conda/lib/python3.8/site-packages (from google-auth<3.0dev,>=1.25.0->google-api-core[grpc]!=2.0.*,!=2.1.*,!=2.2.*,!=2.3.*,!=2.4.*,!=2.5.*,!=2.6.*,!=2.7.*,<3.0.0dev,>=1.32.0->google-cloud-aiplatform) (0.2.7)\n",
      "Requirement already satisfied: cachetools<6.0,>=2.0.0 in /opt/conda/lib/python3.8/site-packages (from google-auth<3.0dev,>=1.25.0->google-api-core[grpc]!=2.0.*,!=2.1.*,!=2.2.*,!=2.3.*,!=2.4.*,!=2.5.*,!=2.6.*,!=2.7.*,<3.0.0dev,>=1.32.0->google-cloud-aiplatform) (5.2.0)\n",
      "Requirement already satisfied: six>=1.9.0 in /opt/conda/lib/python3.8/site-packages (from google-auth<3.0dev,>=1.25.0->google-api-core[grpc]!=2.0.*,!=2.1.*,!=2.2.*,!=2.3.*,!=2.4.*,!=2.5.*,!=2.6.*,!=2.7.*,<3.0.0dev,>=1.32.0->google-cloud-aiplatform) (1.16.0)\n",
      "Requirement already satisfied: rsa<5,>=3.1.4 in /opt/conda/lib/python3.8/site-packages (from google-auth<3.0dev,>=1.25.0->google-api-core[grpc]!=2.0.*,!=2.1.*,!=2.2.*,!=2.3.*,!=2.4.*,!=2.5.*,!=2.6.*,!=2.7.*,<3.0.0dev,>=1.32.0->google-cloud-aiplatform) (4.9)\n",
      "Requirement already satisfied: google-crc32c<2.0dev,>=1.0 in /opt/conda/lib/python3.8/site-packages (from google-resumable-media<3.0dev,>=0.6.0->google-cloud-bigquery<3.0.0dev,>=1.15.0->google-cloud-aiplatform) (1.1.2)\n",
      "Requirement already satisfied: charset-normalizer<3,>=2 in /opt/conda/lib/python3.8/site-packages (from requests<3.0.0dev,>=2.18.0->google-api-core[grpc]!=2.0.*,!=2.1.*,!=2.2.*,!=2.3.*,!=2.4.*,!=2.5.*,!=2.6.*,!=2.7.*,<3.0.0dev,>=1.32.0->google-cloud-aiplatform) (2.1.1)\n",
      "Requirement already satisfied: idna<4,>=2.5 in /opt/conda/lib/python3.8/site-packages (from requests<3.0.0dev,>=2.18.0->google-api-core[grpc]!=2.0.*,!=2.1.*,!=2.2.*,!=2.3.*,!=2.4.*,!=2.5.*,!=2.6.*,!=2.7.*,<3.0.0dev,>=1.32.0->google-cloud-aiplatform) (3.4)\n",
      "Requirement already satisfied: urllib3<1.27,>=1.21.1 in /opt/conda/lib/python3.8/site-packages (from requests<3.0.0dev,>=2.18.0->google-api-core[grpc]!=2.0.*,!=2.1.*,!=2.2.*,!=2.3.*,!=2.4.*,!=2.5.*,!=2.6.*,!=2.7.*,<3.0.0dev,>=1.32.0->google-cloud-aiplatform) (1.26.11)\n",
      "Requirement already satisfied: certifi>=2017.4.17 in /opt/conda/lib/python3.8/site-packages (from requests<3.0.0dev,>=2.18.0->google-api-core[grpc]!=2.0.*,!=2.1.*,!=2.2.*,!=2.3.*,!=2.4.*,!=2.5.*,!=2.6.*,!=2.7.*,<3.0.0dev,>=1.32.0->google-cloud-aiplatform) (2022.9.24)\n",
      "Requirement already satisfied: cffi>=1.0.0 in /opt/conda/lib/python3.8/site-packages (from google-crc32c<2.0dev,>=1.0->google-resumable-media<3.0dev,>=0.6.0->google-cloud-bigquery<3.0.0dev,>=1.15.0->google-cloud-aiplatform) (1.15.1)\n",
      "Requirement already satisfied: pyasn1<0.5.0,>=0.4.6 in /opt/conda/lib/python3.8/site-packages (from pyasn1-modules>=0.2.1->google-auth<3.0dev,>=1.25.0->google-api-core[grpc]!=2.0.*,!=2.1.*,!=2.2.*,!=2.3.*,!=2.4.*,!=2.5.*,!=2.6.*,!=2.7.*,<3.0.0dev,>=1.32.0->google-cloud-aiplatform) (0.4.8)\n",
      "Requirement already satisfied: pycparser in /opt/conda/lib/python3.8/site-packages (from cffi>=1.0.0->google-crc32c<2.0dev,>=1.0->google-resumable-media<3.0dev,>=0.6.0->google-cloud-bigquery<3.0.0dev,>=1.15.0->google-cloud-aiplatform) (2.21)\n",
      "Installing collected packages: protobuf, grpc-google-iam-v1, google-cloud-resource-manager, google-cloud-bigquery, google-cloud-aiplatform\n",
      "  Attempting uninstall: protobuf\n",
      "    Found existing installation: protobuf 3.20.0rc2\n",
      "    Uninstalling protobuf-3.20.0rc2:\n",
      "      Successfully uninstalled protobuf-3.20.0rc2\n",
      "  Attempting uninstall: google-cloud-bigquery\n",
      "    Found existing installation: google-cloud-bigquery 3.2.0\n",
      "    Uninstalling google-cloud-bigquery-3.2.0:\n",
      "      Successfully uninstalled google-cloud-bigquery-3.2.0\n",
      "\u001b[31mERROR: pip's dependency resolver does not currently take into account all the packages that are installed. This behaviour is the source of the following dependency conflicts.\n",
      "tensorboardx 2.5.1 requires protobuf<=3.20.1,>=3.8.0, but you have protobuf 3.20.3 which is incompatible.\u001b[0m\u001b[31m\n",
      "\u001b[0mSuccessfully installed google-cloud-aiplatform-1.18.2 google-cloud-bigquery-2.34.4 google-cloud-resource-manager-1.6.3 grpc-google-iam-v1-0.12.4 protobuf-3.20.3\n",
      "Note: you may need to restart the kernel to use updated packages.\n"
     ]
    }
   ],
   "source": [
    "pip install google-cloud-aiplatform"
   ]
  },
  {
   "cell_type": "code",
   "execution_count": null,
   "metadata": {},
   "outputs": [],
   "source": []
  }
 ],
 "metadata": {
  "kernelspec": {
   "display_name": "Python 3 (ipykernel)",
   "language": "python",
   "name": "python3"
  },
  "language_info": {
   "codemirror_mode": {
    "name": "ipython",
    "version": 3
   },
   "file_extension": ".py",
   "mimetype": "text/x-python",
   "name": "python",
   "nbconvert_exporter": "python",
   "pygments_lexer": "ipython3",
   "version": "3.8.13"
  },
  "vscode": {
   "interpreter": {
    "hash": "10ed195dab9b8616e7f1f644204eeadf80da53dfcea734c766b43162222b6e66"
   }
  }
 },
 "nbformat": 4,
 "nbformat_minor": 4
}
