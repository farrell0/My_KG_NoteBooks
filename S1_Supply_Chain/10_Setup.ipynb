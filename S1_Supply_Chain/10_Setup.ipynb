{
 "cells": [
  {
   "cell_type": "markdown",
   "id": "d3ebe820-bc6d-4948-b668-8b81cd3cbf29",
   "metadata": {
    "tags": []
   },
   "source": [
    "#  Setup stuff: Connectivity"
   ]
  },
  {
   "cell_type": "code",
   "execution_count": 1,
   "id": "1ea957d6-30c6-427a-ae4e-15ecfba0c4f9",
   "metadata": {},
   "outputs": [
    {
     "name": "stderr",
     "output_type": "stream",
     "text": [
      "VERBOSE: ../../../../external/katana/libgalois/include/katana/AsyncPool.h:152: 2709: async pool tids: 139719631996672, 139719629895424\n",
      "VERBOSE: ../../../../external/katana/libgalois/include/katana/AsyncPool.h:152: 2709: async pool tids: 139719627794176, 139719623595776\n",
      "VERBOSE: ../../../../external/katana/libgalois/include/katana/AsyncPool.h:152: 2709: async pool tids: 139719619397376, 139719611004672\n",
      "VERBOSE: ../../../../external/katana/libgalois/include/katana/AsyncPool.h:152: 2709: async pool tids: 139719602611968, 139719585830656\n",
      "VERBOSE: ../../../../external/katana/libgalois/include/katana/AsyncPool.h:152: 2709: async pool tids: 139719569049344, 139719566948096\n"
     ]
    },
    {
     "name": "stdout",
     "output_type": "stream",
     "text": [
      "<katana_enterprise.remote.sync_wrappers.Client object at 0x7f13461400a0>\n"
     ]
    }
   ],
   "source": [
    "import os\n",
    "\n",
    "from katana import remote\n",
    "from katana.remote import import_data\n",
    "\n",
    "my_client = remote.Client()\n",
    "\n",
    "print(my_client)\n"
   ]
  },
  {
   "cell_type": "code",
   "execution_count": 2,
   "id": "97571016-7c02-4e90-a75a-136a0dacd35f",
   "metadata": {},
   "outputs": [
    {
     "name": "stdout",
     "output_type": "stream",
     "text": [
      "--\n"
     ]
    }
   ],
   "source": [
    "NUM_PARTITIONS = 3\n",
    "   #\n",
    "DB_NAME        = \"my_db\"\n",
    "GRAPH_NAME     = \"my_graph\"\n",
    "\n",
    "print(\"--\")\n"
   ]
  },
  {
   "cell_type": "code",
   "execution_count": 3,
   "id": "8ed2d715-aaeb-4381-9216-46fa0dd421b6",
   "metadata": {},
   "outputs": [
    {
     "name": "stdout",
     "output_type": "stream",
     "text": [
      "--\n"
     ]
    }
   ],
   "source": [
    "#  DELETE ALL GRAPHS\n",
    "\n",
    "for l_database in my_client.databases():\n",
    "   for l_graph in my_client.get_database(name=l_database.name).graphs_in_database():\n",
    "      l_handle=my_client.get_database(name=l_database.name).get_graph_by_id(id=l_graph.graph_id)\n",
    "      l_handle.delete()\n",
    "\n",
    "for l_graph in my_client.graphs():\n",
    "   print(\"GRAPH ID: \", l_graph.graph_id, \"      GRAPH Version: \", l_graph.version)\n",
    "\n",
    "print(\"--\")\n"
   ]
  },
  {
   "cell_type": "code",
   "execution_count": null,
   "id": "cf9c16ec-913f-46a8-bccc-76fc92c54866",
   "metadata": {},
   "outputs": [],
   "source": [
    "#  DELETE ALL DATABASES\n",
    "\n",
    "for l_database in my_client.databases():\n",
    "   if (l_database.name != \"default\"):\n",
    "      my_client.get_database(name=l_database.name).delete_database()\n",
    "      print(\"--\")\n",
    "\n",
    "for l_database in my_client.databases():\n",
    "   print(\"DB ID: \", l_database.database_id, \"     DB Name: \", l_database.name)\n"
   ]
  },
  {
   "cell_type": "code",
   "execution_count": null,
   "id": "6e72729c-265b-40e4-a3ee-674b793bed81",
   "metadata": {},
   "outputs": [],
   "source": [
    "#  CREATE DATABASE\n",
    "\n",
    "my_database = my_client.create_database(name=DB_NAME)\n",
    "\n",
    "print(my_database.database_id)\n"
   ]
  },
  {
   "cell_type": "code",
   "execution_count": 4,
   "id": "2fc31da4-44c3-4bd3-b160-b315766dcd88",
   "metadata": {},
   "outputs": [
    {
     "name": "stdout",
     "output_type": "stream",
     "text": [
      "<_Graph my_graph, DEYg6FHy6f4kJDoDY4CtNkqztNnw9pcksAeKasZFGMf8, 0>\n"
     ]
    }
   ],
   "source": [
    "#  CREATE GRAPH\n",
    "#\n",
    "my_graph = my_client.get_database(name=DB_NAME).create_graph(name=GRAPH_NAME, num_partitions=NUM_PARTITIONS)\n",
    "\n",
    "print(my_graph)\n"
   ]
  },
  {
   "cell_type": "code",
   "execution_count": null,
   "id": "c5db6505-7fc8-4779-b194-9ed8945b9a90",
   "metadata": {},
   "outputs": [],
   "source": [
    "#  CONNECT TO GRAPH\n",
    "\n",
    "for l_graph in my_client.get_database(name=DB_NAME).graphs_in_database():\n",
    "   if (l_graph.name == GRAPH_NAME):\n",
    "      my_graph=my_client.get_database(name=DB_NAME).get_graph_by_id(id=l_graph.graph_id)\n",
    "         #\n",
    "      break\n",
    "\n",
    "print(my_graph)\n"
   ]
  },
  {
   "cell_type": "markdown",
   "id": "039f91b3-11dc-475e-a9a1-daed40a30b44",
   "metadata": {
    "tags": []
   },
   "source": [
    "#  Setup stuff: Debugging"
   ]
  },
  {
   "cell_type": "code",
   "execution_count": 5,
   "id": "ce3ecfbe-cca0-41dd-bb15-594f2d545365",
   "metadata": {},
   "outputs": [
    {
     "data": {
      "application/vnd.jupyter.widget-view+json": {
       "model_id": "543c12e1d3df4bb7922310a7a37dc79c",
       "version_major": 2,
       "version_minor": 0
      },
      "text/plain": [
       "          0/? [?op/s]"
      ]
     },
     "metadata": {},
     "output_type": "display_data"
    },
    {
     "data": {
      "text/plain": [
       "0"
      ]
     },
     "metadata": {},
     "output_type": "display_data"
    },
    {
     "data": {
      "application/vnd.jupyter.widget-view+json": {
       "model_id": "4a22a479882c439ba786aa2a7b5d20c8",
       "version_major": 2,
       "version_minor": 0
      },
      "text/plain": [
       "          0/? [?op/s]"
      ]
     },
     "metadata": {},
     "output_type": "display_data"
    },
    {
     "data": {
      "text/plain": [
       "0"
      ]
     },
     "metadata": {},
     "output_type": "display_data"
    }
   ],
   "source": [
    "display(my_graph.num_nodes())\n",
    "display(my_graph.num_edges())"
   ]
  },
  {
   "cell_type": "code",
   "execution_count": null,
   "id": "793186d1-d998-4662-b5f6-958a1a752892",
   "metadata": {},
   "outputs": [],
   "source": [
    "\n",
    "l_result = my_graph.query(\"\"\"\n",
    "\n",
    "   MATCH (n) - [ r ] -> (m)\n",
    "   RETURN n, m, r\n",
    "   \n",
    "   \"\"\", contextualize=True)\n",
    "\n",
    "l_result.view()\n"
   ]
  },
  {
   "cell_type": "code",
   "execution_count": null,
   "id": "14304446-5b53-4f14-aee4-78bde94c2e40",
   "metadata": {},
   "outputs": [],
   "source": [
    "\n",
    "l_result = my_graph.query(\"\"\"\n",
    "\n",
    "   MATCH (a) \n",
    "   WITH DISTINCT LABELS(a) AS temp, COUNT(a) AS tempCnt\n",
    "   UNWIND temp AS label\n",
    "   RETURN label, SUM(tempCnt) AS cnt\n",
    "   ORDER BY label\n",
    "   \n",
    "   \"\"\")\n",
    "\n",
    "display(print(l_result))\n"
   ]
  },
  {
   "cell_type": "code",
   "execution_count": null,
   "id": "aff03cac-68ee-445a-9df2-ca72aad64ca5",
   "metadata": {},
   "outputs": [],
   "source": [
    "\n",
    "l_result = my_graph.query(\"\"\"\n",
    "\n",
    "   MATCH (m)-[r]->(n) \n",
    "   WITH DISTINCT TYPE(r) AS temp, COUNT(r) AS tempCnt\n",
    "   RETURN temp, tempCnt\n",
    "   ORDER BY temp\n",
    "\n",
    "   \"\"\")\n",
    "\n",
    "display(print(l_result))\n"
   ]
  },
  {
   "cell_type": "markdown",
   "id": "61556ce5-9044-42bc-bb13-80b6a514ae27",
   "metadata": {
    "tags": []
   },
   "source": [
    "# Create: Vertices/nodes, edges .."
   ]
  },
  {
   "cell_type": "code",
   "execution_count": 6,
   "id": "f7efb47b-3c7d-45f3-acc8-ae29c3e2a1bf",
   "metadata": {},
   "outputs": [
    {
     "name": "stdout",
     "output_type": "stream",
     "text": [
      "--\n"
     ]
    }
   ],
   "source": [
    "import pandas as pd\n",
    "\n",
    "print(\"--\")\n"
   ]
  },
  {
   "cell_type": "code",
   "execution_count": 7,
   "id": "8e7ecf31-d69e-4b5a-8a37-0cfb4c32fd33",
   "metadata": {},
   "outputs": [
    {
     "data": {
      "text/html": [
       "<div>\n",
       "<style scoped>\n",
       "    .dataframe tbody tr th:only-of-type {\n",
       "        vertical-align: middle;\n",
       "    }\n",
       "\n",
       "    .dataframe tbody tr th {\n",
       "        vertical-align: top;\n",
       "    }\n",
       "\n",
       "    .dataframe thead th {\n",
       "        text-align: right;\n",
       "    }\n",
       "</style>\n",
       "<table border=\"1\" class=\"dataframe\">\n",
       "  <thead>\n",
       "    <tr style=\"text-align: right;\">\n",
       "      <th></th>\n",
       "      <th>id</th>\n",
       "      <th>name</th>\n",
       "      <th>LABEL</th>\n",
       "    </tr>\n",
       "  </thead>\n",
       "  <tbody>\n",
       "    <tr>\n",
       "      <th>0</th>\n",
       "      <td>P_101</td>\n",
       "      <td>Justin</td>\n",
       "      <td>Person</td>\n",
       "    </tr>\n",
       "    <tr>\n",
       "      <th>1</th>\n",
       "      <td>P_102</td>\n",
       "      <td>Anand</td>\n",
       "      <td>Person</td>\n",
       "    </tr>\n",
       "  </tbody>\n",
       "</table>\n",
       "</div>"
      ],
      "text/plain": [
       "      id    name   LABEL\n",
       "0  P_101  Justin  Person\n",
       "1  P_102   Anand  Person"
      ]
     },
     "metadata": {},
     "output_type": "display_data"
    },
    {
     "data": {
      "text/html": [
       "<div>\n",
       "<style scoped>\n",
       "    .dataframe tbody tr th:only-of-type {\n",
       "        vertical-align: middle;\n",
       "    }\n",
       "\n",
       "    .dataframe tbody tr th {\n",
       "        vertical-align: top;\n",
       "    }\n",
       "\n",
       "    .dataframe thead th {\n",
       "        text-align: right;\n",
       "    }\n",
       "</style>\n",
       "<table border=\"1\" class=\"dataframe\">\n",
       "  <thead>\n",
       "    <tr style=\"text-align: right;\">\n",
       "      <th></th>\n",
       "      <th>id</th>\n",
       "      <th>date_placed</th>\n",
       "      <th>date_shipped</th>\n",
       "      <th>LABEL</th>\n",
       "    </tr>\n",
       "  </thead>\n",
       "  <tbody>\n",
       "    <tr>\n",
       "      <th>0</th>\n",
       "      <td>O_101</td>\n",
       "      <td>2022-09-01</td>\n",
       "      <td></td>\n",
       "      <td>Order</td>\n",
       "    </tr>\n",
       "    <tr>\n",
       "      <th>1</th>\n",
       "      <td>O_102</td>\n",
       "      <td>2022-09-02</td>\n",
       "      <td></td>\n",
       "      <td>Order</td>\n",
       "    </tr>\n",
       "  </tbody>\n",
       "</table>\n",
       "</div>"
      ],
      "text/plain": [
       "      id date_placed date_shipped  LABEL\n",
       "0  O_101  2022-09-01               Order\n",
       "1  O_102  2022-09-02               Order"
      ]
     },
     "metadata": {},
     "output_type": "display_data"
    },
    {
     "data": {
      "text/html": [
       "<div>\n",
       "<style scoped>\n",
       "    .dataframe tbody tr th:only-of-type {\n",
       "        vertical-align: middle;\n",
       "    }\n",
       "\n",
       "    .dataframe tbody tr th {\n",
       "        vertical-align: top;\n",
       "    }\n",
       "\n",
       "    .dataframe thead th {\n",
       "        text-align: right;\n",
       "    }\n",
       "</style>\n",
       "<table border=\"1\" class=\"dataframe\">\n",
       "  <thead>\n",
       "    <tr style=\"text-align: right;\">\n",
       "      <th></th>\n",
       "      <th>id</th>\n",
       "      <th>name</th>\n",
       "      <th>LABEL</th>\n",
       "    </tr>\n",
       "  </thead>\n",
       "  <tbody>\n",
       "    <tr>\n",
       "      <th>0</th>\n",
       "      <td>I_101</td>\n",
       "      <td>Shoes</td>\n",
       "      <td>Item</td>\n",
       "    </tr>\n",
       "    <tr>\n",
       "      <th>1</th>\n",
       "      <td>I_102</td>\n",
       "      <td>Blanket</td>\n",
       "      <td>Item</td>\n",
       "    </tr>\n",
       "  </tbody>\n",
       "</table>\n",
       "</div>"
      ],
      "text/plain": [
       "      id     name LABEL\n",
       "0  I_101    Shoes  Item\n",
       "1  I_102  Blanket  Item"
      ]
     },
     "metadata": {},
     "output_type": "display_data"
    },
    {
     "data": {
      "text/html": [
       "<div>\n",
       "<style scoped>\n",
       "    .dataframe tbody tr th:only-of-type {\n",
       "        vertical-align: middle;\n",
       "    }\n",
       "\n",
       "    .dataframe tbody tr th {\n",
       "        vertical-align: top;\n",
       "    }\n",
       "\n",
       "    .dataframe thead th {\n",
       "        text-align: right;\n",
       "    }\n",
       "</style>\n",
       "<table border=\"1\" class=\"dataframe\">\n",
       "  <thead>\n",
       "    <tr style=\"text-align: right;\">\n",
       "      <th></th>\n",
       "      <th>id</th>\n",
       "      <th>city</th>\n",
       "      <th>LABEL</th>\n",
       "    </tr>\n",
       "  </thead>\n",
       "  <tbody>\n",
       "    <tr>\n",
       "      <th>0</th>\n",
       "      <td>S_101</td>\n",
       "      <td>Milwaukee</td>\n",
       "      <td>Store</td>\n",
       "    </tr>\n",
       "    <tr>\n",
       "      <th>1</th>\n",
       "      <td>S_102</td>\n",
       "      <td>Denver</td>\n",
       "      <td>Store</td>\n",
       "    </tr>\n",
       "  </tbody>\n",
       "</table>\n",
       "</div>"
      ],
      "text/plain": [
       "      id       city  LABEL\n",
       "0  S_101  Milwaukee  Store\n",
       "1  S_102     Denver  Store"
      ]
     },
     "metadata": {},
     "output_type": "display_data"
    },
    {
     "data": {
      "text/html": [
       "<div>\n",
       "<style scoped>\n",
       "    .dataframe tbody tr th:only-of-type {\n",
       "        vertical-align: middle;\n",
       "    }\n",
       "\n",
       "    .dataframe tbody tr th {\n",
       "        vertical-align: top;\n",
       "    }\n",
       "\n",
       "    .dataframe thead th {\n",
       "        text-align: right;\n",
       "    }\n",
       "</style>\n",
       "<table border=\"1\" class=\"dataframe\">\n",
       "  <thead>\n",
       "    <tr style=\"text-align: right;\">\n",
       "      <th></th>\n",
       "      <th>id</th>\n",
       "      <th>city</th>\n",
       "      <th>LABEL</th>\n",
       "    </tr>\n",
       "  </thead>\n",
       "  <tbody>\n",
       "    <tr>\n",
       "      <th>0</th>\n",
       "      <td>D_101</td>\n",
       "      <td>Reno</td>\n",
       "      <td>Dist_Center</td>\n",
       "    </tr>\n",
       "    <tr>\n",
       "      <th>1</th>\n",
       "      <td>D_102</td>\n",
       "      <td>Houston</td>\n",
       "      <td>Dist_Center</td>\n",
       "    </tr>\n",
       "  </tbody>\n",
       "</table>\n",
       "</div>"
      ],
      "text/plain": [
       "      id     city        LABEL\n",
       "0  D_101     Reno  Dist_Center\n",
       "1  D_102  Houston  Dist_Center"
      ]
     },
     "metadata": {},
     "output_type": "display_data"
    },
    {
     "data": {
      "text/html": [
       "<div>\n",
       "<style scoped>\n",
       "    .dataframe tbody tr th:only-of-type {\n",
       "        vertical-align: middle;\n",
       "    }\n",
       "\n",
       "    .dataframe tbody tr th {\n",
       "        vertical-align: top;\n",
       "    }\n",
       "\n",
       "    .dataframe thead th {\n",
       "        text-align: right;\n",
       "    }\n",
       "</style>\n",
       "<table border=\"1\" class=\"dataframe\">\n",
       "  <thead>\n",
       "    <tr style=\"text-align: right;\">\n",
       "      <th></th>\n",
       "      <th>id</th>\n",
       "      <th>name</th>\n",
       "      <th>city</th>\n",
       "      <th>LABEL</th>\n",
       "    </tr>\n",
       "  </thead>\n",
       "  <tbody>\n",
       "    <tr>\n",
       "      <th>0</th>\n",
       "      <td>R_101</td>\n",
       "      <td>Mary</td>\n",
       "      <td>Dallas</td>\n",
       "      <td>Reviewer</td>\n",
       "    </tr>\n",
       "    <tr>\n",
       "      <th>1</th>\n",
       "      <td>R_102</td>\n",
       "      <td>Allen</td>\n",
       "      <td>Houston</td>\n",
       "      <td>Reviewer</td>\n",
       "    </tr>\n",
       "  </tbody>\n",
       "</table>\n",
       "</div>"
      ],
      "text/plain": [
       "      id   name     city     LABEL\n",
       "0  R_101   Mary   Dallas  Reviewer\n",
       "1  R_102  Allen  Houston  Reviewer"
      ]
     },
     "metadata": {},
     "output_type": "display_data"
    }
   ],
   "source": [
    "\n",
    "#  Vertices/Nodes ..\n",
    "#\n",
    "#  Person;              id, name\n",
    "#  Order;               id, date_placed, date_shipped\n",
    "#  Stock;               id, name\n",
    "#  Store;               id, city\n",
    "#  DistributionCenter;  id, city\n",
    "#  Reviewer;            id, name, city\n",
    "\n",
    "df_persons    = pd.DataFrame([\n",
    "      #\n",
    "   [\"P_101\" , \"Justin\"                  , \"Person\"],\n",
    "   [\"P_102\" , \"Anand\"                   , \"Person\"],\n",
    "   [\"P_103\" , \"Brian\"                   , \"Person\"],\n",
    "   [\"P_104\" , \"Sameer\"                  , \"Person\"],\n",
    "       #\n",
    "   ], columns = [\"id\", \"name\", \"LABEL\"])\n",
    "      #\n",
    "display(df_persons.head(2))\n",
    "\n",
    "df_orders     = pd.DataFrame([\n",
    "      #\n",
    "   [\"O_101\" , \"2022-09-01\", \"\"           , \"Order\"],\n",
    "   [\"O_102\" , \"2022-09-02\", \"\"           , \"Order\"],\n",
    "   [\"O_103\" , \"2022-09-01\", \"2022-09-06\" , \"Order\"],\n",
    "   [\"O_104\" , \"2022-09-02\", \"\"           , \"Order\"],\n",
    "   [\"O_105\" , \"2022-09-01\", \"\"           , \"Order\"],\n",
    "   [\"O_106\" , \"2022-09-02\", \"\"           , \"Order\"],\n",
    "   [\"O_107\" , \"2022-09-01\", \"\"           , \"Order\"],\n",
    "   [\"O_108\" , \"2022-09-02\", \"\"           , \"Order\"],\n",
    "       #\n",
    "   ], columns = [\"id\", \"date_placed\", \"date_shipped\", \"LABEL\"])\n",
    "      #\n",
    "display(df_orders.head(2))\n",
    "\n",
    "df_items      = pd.DataFrame([\n",
    "      #\n",
    "   [\"I_101\" , \"Shoes\"                   , \"Item\"],\n",
    "   [\"I_102\" , \"Blanket\"                 , \"Item\"],\n",
    "   [\"I_103\" , \"Pants\"                   , \"Item\"],\n",
    "   [\"I_104\" , \"Hat\"                     , \"Item\"],\n",
    "       #\n",
    "   ], columns = [\"id\", \"name\", \"LABEL\"])\n",
    "      #\n",
    "display(df_items.head(2))\n",
    "\n",
    "df_stores     = pd.DataFrame([\n",
    "      #\n",
    "   [\"S_101\" , \"Milwaukee\"               , \"Store\"],\n",
    "   [\"S_102\" , \"Denver\"                  , \"Store\"],\n",
    "   [\"S_103\" , \"San Jose\"                , \"Store\"],\n",
    "   [\"S_104\" , \"Houston\"                 , \"Store\"],\n",
    "       #\n",
    "   ], columns = [\"id\", \"city\", \"LABEL\"])\n",
    "      #\n",
    "display(df_stores.head(2))\n",
    "\n",
    "df_dist_centers = pd.DataFrame([\n",
    "      #\n",
    "   [\"D_101\" , \"Reno\"                    , \"Dist_Center\"],\n",
    "   [\"D_102\" , \"Houston\"                 , \"Dist_Center\"],\n",
    "      #\n",
    "   ], columns = [\"id\", \"city\", \"LABEL\"])\n",
    "      #\n",
    "display(df_dist_centers.head(2))\n",
    "\n",
    "df_reviewers  = pd.DataFrame([\n",
    "      #\n",
    "   [\"R_101\" , \"Mary\"      , \"Dallas\"     , \"Reviewer\"],\n",
    "   [\"R_102\" , \"Allen\"     , \"Houston\"    , \"Reviewer\"],\n",
    "      #\n",
    "   ], columns = [\"id\", \"name\", \"city\", \"LABEL\"])\n",
    "      #\n",
    "display(df_reviewers.head(2))\n",
    "\n"
   ]
  },
  {
   "cell_type": "code",
   "execution_count": 9,
   "id": "60eaac88-4dd5-47d3-94b3-0f5fd0b243f2",
   "metadata": {},
   "outputs": [
    {
     "data": {
      "text/html": [
       "<div>\n",
       "<style scoped>\n",
       "    .dataframe tbody tr th:only-of-type {\n",
       "        vertical-align: middle;\n",
       "    }\n",
       "\n",
       "    .dataframe tbody tr th {\n",
       "        vertical-align: top;\n",
       "    }\n",
       "\n",
       "    .dataframe thead th {\n",
       "        text-align: right;\n",
       "    }\n",
       "</style>\n",
       "<table border=\"1\" class=\"dataframe\">\n",
       "  <thead>\n",
       "    <tr style=\"text-align: right;\">\n",
       "      <th></th>\n",
       "      <th>START_ID</th>\n",
       "      <th>END_ID</th>\n",
       "      <th>TYPE</th>\n",
       "    </tr>\n",
       "  </thead>\n",
       "  <tbody>\n",
       "    <tr>\n",
       "      <th>0</th>\n",
       "      <td>P_101</td>\n",
       "      <td>O_101</td>\n",
       "      <td>PLACED</td>\n",
       "    </tr>\n",
       "    <tr>\n",
       "      <th>1</th>\n",
       "      <td>P_101</td>\n",
       "      <td>O_102</td>\n",
       "      <td>PLACED</td>\n",
       "    </tr>\n",
       "  </tbody>\n",
       "</table>\n",
       "</div>"
      ],
      "text/plain": [
       "  START_ID END_ID    TYPE\n",
       "0    P_101  O_101  PLACED\n",
       "1    P_101  O_102  PLACED"
      ]
     },
     "metadata": {},
     "output_type": "display_data"
    },
    {
     "data": {
      "text/html": [
       "<div>\n",
       "<style scoped>\n",
       "    .dataframe tbody tr th:only-of-type {\n",
       "        vertical-align: middle;\n",
       "    }\n",
       "\n",
       "    .dataframe tbody tr th {\n",
       "        vertical-align: top;\n",
       "    }\n",
       "\n",
       "    .dataframe thead th {\n",
       "        text-align: right;\n",
       "    }\n",
       "</style>\n",
       "<table border=\"1\" class=\"dataframe\">\n",
       "  <thead>\n",
       "    <tr style=\"text-align: right;\">\n",
       "      <th></th>\n",
       "      <th>START_ID</th>\n",
       "      <th>END_ID</th>\n",
       "      <th>TYPE</th>\n",
       "    </tr>\n",
       "  </thead>\n",
       "  <tbody>\n",
       "    <tr>\n",
       "      <th>0</th>\n",
       "      <td>O_101</td>\n",
       "      <td>R_101</td>\n",
       "      <td>REVIEWED_BY</td>\n",
       "    </tr>\n",
       "    <tr>\n",
       "      <th>1</th>\n",
       "      <td>O_102</td>\n",
       "      <td>R_101</td>\n",
       "      <td>REVIEWED_BY</td>\n",
       "    </tr>\n",
       "  </tbody>\n",
       "</table>\n",
       "</div>"
      ],
      "text/plain": [
       "  START_ID END_ID         TYPE\n",
       "0    O_101  R_101  REVIEWED_BY\n",
       "1    O_102  R_101  REVIEWED_BY"
      ]
     },
     "metadata": {},
     "output_type": "display_data"
    },
    {
     "data": {
      "text/html": [
       "<div>\n",
       "<style scoped>\n",
       "    .dataframe tbody tr th:only-of-type {\n",
       "        vertical-align: middle;\n",
       "    }\n",
       "\n",
       "    .dataframe tbody tr th {\n",
       "        vertical-align: top;\n",
       "    }\n",
       "\n",
       "    .dataframe thead th {\n",
       "        text-align: right;\n",
       "    }\n",
       "</style>\n",
       "<table border=\"1\" class=\"dataframe\">\n",
       "  <thead>\n",
       "    <tr style=\"text-align: right;\">\n",
       "      <th></th>\n",
       "      <th>START_ID</th>\n",
       "      <th>END_ID</th>\n",
       "      <th>TYPE</th>\n",
       "    </tr>\n",
       "  </thead>\n",
       "  <tbody>\n",
       "    <tr>\n",
       "      <th>0</th>\n",
       "      <td>O_101</td>\n",
       "      <td>I_101</td>\n",
       "      <td>COMPRISED_OF</td>\n",
       "    </tr>\n",
       "    <tr>\n",
       "      <th>1</th>\n",
       "      <td>O_102</td>\n",
       "      <td>I_102</td>\n",
       "      <td>COMPRISED_OF</td>\n",
       "    </tr>\n",
       "  </tbody>\n",
       "</table>\n",
       "</div>"
      ],
      "text/plain": [
       "  START_ID END_ID          TYPE\n",
       "0    O_101  I_101  COMPRISED_OF\n",
       "1    O_102  I_102  COMPRISED_OF"
      ]
     },
     "metadata": {},
     "output_type": "display_data"
    },
    {
     "data": {
      "text/html": [
       "<div>\n",
       "<style scoped>\n",
       "    .dataframe tbody tr th:only-of-type {\n",
       "        vertical-align: middle;\n",
       "    }\n",
       "\n",
       "    .dataframe tbody tr th {\n",
       "        vertical-align: top;\n",
       "    }\n",
       "\n",
       "    .dataframe thead th {\n",
       "        text-align: right;\n",
       "    }\n",
       "</style>\n",
       "<table border=\"1\" class=\"dataframe\">\n",
       "  <thead>\n",
       "    <tr style=\"text-align: right;\">\n",
       "      <th></th>\n",
       "      <th>START_ID</th>\n",
       "      <th>END_ID</th>\n",
       "      <th>QUANTITY</th>\n",
       "      <th>TYPE</th>\n",
       "    </tr>\n",
       "  </thead>\n",
       "  <tbody>\n",
       "    <tr>\n",
       "      <th>0</th>\n",
       "      <td>S_101</td>\n",
       "      <td>I_101</td>\n",
       "      <td>5</td>\n",
       "      <td>FOUND_AT</td>\n",
       "    </tr>\n",
       "    <tr>\n",
       "      <th>1</th>\n",
       "      <td>S_101</td>\n",
       "      <td>I_102</td>\n",
       "      <td>5</td>\n",
       "      <td>FOUND_AT</td>\n",
       "    </tr>\n",
       "  </tbody>\n",
       "</table>\n",
       "</div>"
      ],
      "text/plain": [
       "  START_ID END_ID  QUANTITY      TYPE\n",
       "0    S_101  I_101         5  FOUND_AT\n",
       "1    S_101  I_102         5  FOUND_AT"
      ]
     },
     "metadata": {},
     "output_type": "display_data"
    },
    {
     "data": {
      "text/html": [
       "<div>\n",
       "<style scoped>\n",
       "    .dataframe tbody tr th:only-of-type {\n",
       "        vertical-align: middle;\n",
       "    }\n",
       "\n",
       "    .dataframe tbody tr th {\n",
       "        vertical-align: top;\n",
       "    }\n",
       "\n",
       "    .dataframe thead th {\n",
       "        text-align: right;\n",
       "    }\n",
       "</style>\n",
       "<table border=\"1\" class=\"dataframe\">\n",
       "  <thead>\n",
       "    <tr style=\"text-align: right;\">\n",
       "      <th></th>\n",
       "      <th>START_ID</th>\n",
       "      <th>END_ID</th>\n",
       "      <th>QUANTITY</th>\n",
       "      <th>TYPE</th>\n",
       "    </tr>\n",
       "  </thead>\n",
       "  <tbody>\n",
       "    <tr>\n",
       "      <th>0</th>\n",
       "      <td>D_101</td>\n",
       "      <td>I_101</td>\n",
       "      <td>5</td>\n",
       "      <td>FOUND_AT</td>\n",
       "    </tr>\n",
       "    <tr>\n",
       "      <th>1</th>\n",
       "      <td>D_101</td>\n",
       "      <td>I_102</td>\n",
       "      <td>5</td>\n",
       "      <td>FOUND_AT</td>\n",
       "    </tr>\n",
       "  </tbody>\n",
       "</table>\n",
       "</div>"
      ],
      "text/plain": [
       "  START_ID END_ID  QUANTITY      TYPE\n",
       "0    D_101  I_101         5  FOUND_AT\n",
       "1    D_101  I_102         5  FOUND_AT"
      ]
     },
     "metadata": {},
     "output_type": "display_data"
    }
   ],
   "source": [
    "#  Create the edges ..\n",
    "\n",
    "#  Person  P_101-104  -  PLACED  -  Order  O_101-108\n",
    "#\n",
    "df_placed = pd.DataFrame([\n",
    "      #\n",
    "   [\"P_101\" , \"O_101\" ,        \"PLACED\" ],\n",
    "   [\"P_101\" , \"O_102\" ,        \"PLACED\" ],\n",
    "   [\"P_102\" , \"O_103\" ,        \"PLACED\" ],\n",
    "   [\"P_102\" , \"O_104\" ,        \"PLACED\" ],\n",
    "   [\"P_103\" , \"O_105\" ,        \"PLACED\" ],\n",
    "   [\"P_103\" , \"O_106\" ,        \"PLACED\" ],\n",
    "   [\"P_104\" , \"O_107\" ,        \"PLACED\" ],\n",
    "   [\"P_104\" , \"O_108\" ,        \"PLACED\" ],\n",
    "      #\n",
    "   ], columns = [\"START_ID\", \"END_ID\", \"TYPE\"])\n",
    "      #\n",
    "display(df_placed.head(2))\n",
    "\n",
    "#  Order  O_101-108  -  REVIEWED_BY  -  Reviewer  R_101-102     Reviewer 2 is Houston\n",
    "#                                                               Which makes Order 108 a Houston Order\n",
    "#\n",
    "df_reviewed_by = pd.DataFrame([\n",
    "      #\n",
    "   [\"O_101\" , \"R_101\" ,        \"REVIEWED_BY\" ],\n",
    "   [\"O_102\" , \"R_101\" ,        \"REVIEWED_BY\" ],\n",
    "   [\"O_103\" , \"R_101\" ,        \"REVIEWED_BY\" ],\n",
    "   [\"O_104\" , \"R_101\" ,        \"REVIEWED_BY\" ],\n",
    "   [\"O_105\" , \"R_101\" ,        \"REVIEWED_BY\" ],\n",
    "   [\"O_106\" , \"R_101\" ,        \"REVIEWED_BY\" ],\n",
    "   [\"O_107\" , \"R_101\" ,        \"REVIEWED_BY\" ],\n",
    "   [\"O_108\" , \"R_102\" ,        \"REVIEWED_BY\" ],\n",
    "      #\n",
    "   ], columns = [\"START_ID\", \"END_ID\", \"TYPE\"])\n",
    "      #\n",
    "display(df_reviewed_by.head(2))\n",
    "\n",
    "#  Order  O_101-108  -  COMPRISED_OF  -  Item  I_101-104 \n",
    "#\n",
    "df_comprised_of = pd.DataFrame([\n",
    "      #\n",
    "   [\"O_101\" , \"I_101\" ,        \"COMPRISED_OF\" ],\n",
    "   [\"O_102\" , \"I_102\" ,        \"COMPRISED_OF\" ],\n",
    "   [\"O_103\" , \"I_103\" ,        \"COMPRISED_OF\" ],\n",
    "   [\"O_104\" , \"I_104\" ,        \"COMPRISED_OF\" ],\n",
    "   [\"O_105\" , \"I_101\" ,        \"COMPRISED_OF\" ],\n",
    "   [\"O_106\" , \"I_102\" ,        \"COMPRISED_OF\" ],\n",
    "   [\"O_107\" , \"I_103\" ,        \"COMPRISED_OF\" ],\n",
    "   [\"O_108\" , \"I_104\" ,        \"COMPRISED_OF\" ],\n",
    "      #\n",
    "   ], columns = [\"START_ID\", \"END_ID\", \"TYPE\"])\n",
    "      #\n",
    "display(df_comprised_of.head(2))\n",
    "\n",
    "\n",
    "#  Stock  K_101-104  -  FOUND_AT  -  Store  S_101-104           Store 4 is Houston\n",
    "#                                                               Which makes Stock 104 a Houston Stock (Item)\n",
    "#\n",
    "df_found_at1 = pd.DataFrame([\n",
    "      #\n",
    "   [\"S_101\" , \"I_101\" , 5 ,    \"FOUND_AT\" ],\n",
    "   [\"S_101\" , \"I_102\" , 5 ,    \"FOUND_AT\" ],\n",
    "   [\"S_101\" , \"I_103\" , 5 ,    \"FOUND_AT\" ],\n",
    "      #\n",
    "   [\"S_102\" , \"I_102\" , 5 ,    \"FOUND_AT\" ],\n",
    "   [\"S_102\" , \"I_103\" , 5 ,    \"FOUND_AT\" ],\n",
    "      #\n",
    "   [\"S_103\" , \"I_101\" , 5 ,    \"FOUND_AT\" ],\n",
    "   [\"S_103\" , \"I_102\" , 5 ,    \"FOUND_AT\" ],\n",
    "   [\"S_103\" , \"I_103\" , 5 ,    \"FOUND_AT\" ],\n",
    "      #\n",
    "   [\"S_104\" , \"I_101\" , 0 ,    \"FOUND_AT\" ],\n",
    "   [\"S_104\" , \"I_102\" , 0 ,    \"FOUND_AT\" ],\n",
    "   [\"S_104\" , \"I_103\" , 0 ,    \"FOUND_AT\" ],\n",
    "   [\"S_104\" , \"I_104\" , 0 ,    \"FOUND_AT\" ],\n",
    "      #\n",
    "   ], columns = [\"START_ID\", \"END_ID\", \"QUANTITY\", \"TYPE\"])\n",
    "      #\n",
    "display(df_found_at1.head(2))\n",
    "\n",
    "\n",
    "#  Stock  K_101-104  -  FOUND_AT  -  Dist_Center  S_101-102     Dist_Center 2 is Houston\n",
    "#                                                               Which makes Stock 103 and 104 a Houston Stock (Item)\n",
    "#\n",
    "df_found_at2 = pd.DataFrame([\n",
    "      #\n",
    "   [\"D_101\" , \"I_101\" , 5 ,    \"FOUND_AT\" ],\n",
    "   [\"D_101\" , \"I_102\" , 5 ,    \"FOUND_AT\" ],\n",
    "   [\"D_101\" , \"I_103\" , 5 ,    \"FOUND_AT\" ],\n",
    "   [\"D_101\" , \"I_104\" , 5 ,    \"FOUND_AT\" ],\n",
    "      #\n",
    "   [\"D_102\" , \"I_103\" , 0 ,    \"FOUND_AT\" ],\n",
    "   [\"D_102\" , \"I_104\" , 5 ,    \"FOUND_AT\" ],\n",
    "      #\n",
    "   ], columns = [\"START_ID\", \"END_ID\", \"QUANTITY\", \"TYPE\"])\n",
    "      #\n",
    "display(df_found_at2.head(2))\n",
    "\n",
    "\n",
    "#  Need Reviewed_By\n",
    "\n",
    "\n",
    "\n"
   ]
  },
  {
   "cell_type": "code",
   "execution_count": 10,
   "id": "2f22872f-dbea-4852-a5bb-1e515937cd85",
   "metadata": {},
   "outputs": [
    {
     "name": "stderr",
     "output_type": "stream",
     "text": [
      "UserWarning: dtype for DataFrame column 'name' is 'object'. Will be inferred as string.\n",
      "UserWarning: dtype for DataFrame column 'LABEL' is 'object'. Will be inferred as string.\n",
      "UserWarning: dtype for DataFrame column 'city' is 'object'. Will be inferred as string.\n",
      "UserWarning: dtype for DataFrame column 'TYPE' is 'object'. Will be inferred as string.\n"
     ]
    },
    {
     "data": {
      "application/vnd.jupyter.widget-view+json": {
       "model_id": "38f1fa90b43d47a987181e6317ac0c90",
       "version_major": 2,
       "version_minor": 0
      },
      "text/plain": [
       "          0/? [?op/s]"
      ]
     },
     "metadata": {},
     "output_type": "display_data"
    },
    {
     "data": {
      "application/vnd.jupyter.widget-view+json": {
       "model_id": "d62f548e11cc492eb5a65face9eb4dbe",
       "version_major": 2,
       "version_minor": 0
      },
      "text/plain": [
       "          0/? [?op/s]"
      ]
     },
     "metadata": {},
     "output_type": "display_data"
    },
    {
     "ename": "CancelledError",
     "evalue": "",
     "output_type": "error",
     "traceback": [
      "\u001b[0;31m---------------------------------------------------------------------------\u001b[0m",
      "\u001b[0;31mCancelledError\u001b[0m                            Traceback (most recent call last)",
      "Input \u001b[0;32mIn [10]\u001b[0m, in \u001b[0;36m<cell line: 3>\u001b[0;34m()\u001b[0m\n\u001b[1;32m     29\u001b[0m    df_importer\u001b[38;5;241m.\u001b[39mnodes_dataframe(df_reviewers, \n\u001b[1;32m     30\u001b[0m       id_column             \u001b[38;5;241m=\u001b[39m \u001b[38;5;124m\"\u001b[39m\u001b[38;5;124mid\u001b[39m\u001b[38;5;124m\"\u001b[39m,\n\u001b[1;32m     31\u001b[0m       id_space              \u001b[38;5;241m=\u001b[39m \u001b[38;5;124m\"\u001b[39m\u001b[38;5;124mReviewer\u001b[39m\u001b[38;5;124m\"\u001b[39m,  \n\u001b[1;32m     32\u001b[0m       label                 \u001b[38;5;241m=\u001b[39m \u001b[38;5;124m\"\u001b[39m\u001b[38;5;124mReviewer\u001b[39m\u001b[38;5;124m\"\u001b[39m,  \n\u001b[1;32m     33\u001b[0m       )\n\u001b[1;32m     35\u001b[0m          \u001b[38;5;66;03m###\u001b[39;00m\n\u001b[0;32m---> 37\u001b[0m    df_importer\u001b[38;5;241m.\u001b[39medges_dataframe(df_placed,\n\u001b[1;32m     38\u001b[0m       source_id_space       \u001b[38;5;241m=\u001b[39m \u001b[38;5;124m\"\u001b[39m\u001b[38;5;124mPerson\u001b[39m\u001b[38;5;124m\"\u001b[39m, \n\u001b[1;32m     39\u001b[0m       destination_id_space  \u001b[38;5;241m=\u001b[39m \u001b[38;5;124m\"\u001b[39m\u001b[38;5;124mOrder\u001b[39m\u001b[38;5;124m\"\u001b[39m,   \n\u001b[1;32m     40\u001b[0m       source_column         \u001b[38;5;241m=\u001b[39m \u001b[38;5;124m\"\u001b[39m\u001b[38;5;124mSTART_ID\u001b[39m\u001b[38;5;124m\"\u001b[39m,\n\u001b[1;32m     41\u001b[0m       destination_column    \u001b[38;5;241m=\u001b[39m \u001b[38;5;124m\"\u001b[39m\u001b[38;5;124mEND_ID\u001b[39m\u001b[38;5;124m\"\u001b[39m,\n\u001b[1;32m     42\u001b[0m       \u001b[38;5;28mtype\u001b[39m                  \u001b[38;5;241m=\u001b[39m \u001b[38;5;124m\"\u001b[39m\u001b[38;5;124mPLACED\u001b[39m\u001b[38;5;124m\"\u001b[39m\n\u001b[1;32m     43\u001b[0m       )\n\u001b[1;32m     48\u001b[0m \u001b[38;5;28mprint\u001b[39m(\u001b[38;5;124m\"\u001b[39m\u001b[38;5;124m--\u001b[39m\u001b[38;5;124m\"\u001b[39m)\n",
      "File \u001b[0;32m/opt/conda/lib/python3.8/site-packages/katana_enterprise/remote/dataframe_importer/__init__.py:309\u001b[0m, in \u001b[0;36mDataFrameImporter.__exit__\u001b[0;34m(self, exc_type, exc_val, exc_tb)\u001b[0m\n\u001b[1;32m    307\u001b[0m \u001b[38;5;28;01mdef\u001b[39;00m \u001b[38;5;21m__exit__\u001b[39m(\u001b[38;5;28mself\u001b[39m, exc_type, exc_val, exc_tb):\n\u001b[1;32m    308\u001b[0m     \u001b[38;5;28;01mif\u001b[39;00m \u001b[38;5;129;01mnot\u001b[39;00m exc_type:\n\u001b[0;32m--> 309\u001b[0m         \u001b[38;5;28;43mself\u001b[39;49m\u001b[38;5;241;43m.\u001b[39;49m\u001b[43mexecute\u001b[49m\u001b[43m(\u001b[49m\u001b[43m)\u001b[49m\n",
      "File \u001b[0;32m/opt/conda/lib/python3.8/site-packages/katana_enterprise/remote/dataframe_importer/__init__.py:300\u001b[0m, in \u001b[0;36mDataFrameImporter.execute\u001b[0;34m(self)\u001b[0m\n\u001b[1;32m    297\u001b[0m     \u001b[38;5;28;01mreturn\u001b[39;00m \u001b[38;5;28;01mNone\u001b[39;00m\n\u001b[1;32m    299\u001b[0m node_header, edge_header \u001b[38;5;241m=\u001b[39m \u001b[38;5;28mself\u001b[39m\u001b[38;5;241m.\u001b[39mgraph\u001b[38;5;241m.\u001b[39mrun(remote_write_intermediate_csv_files)\n\u001b[0;32m--> 300\u001b[0m \u001b[38;5;28;43mself\u001b[39;49m\u001b[38;5;241;43m.\u001b[39;49m\u001b[43m_run_import_job\u001b[49m\u001b[43m(\u001b[49m\u001b[38;5;28;43mself\u001b[39;49m\u001b[38;5;241;43m.\u001b[39;49m\u001b[43mgraph\u001b[49m\u001b[43m,\u001b[49m\u001b[43m \u001b[49m\u001b[43mnode_header\u001b[49m\u001b[43m,\u001b[49m\u001b[43m \u001b[49m\u001b[43medge_header\u001b[49m\u001b[43m)\u001b[49m\n",
      "File \u001b[0;32m/opt/conda/lib/python3.8/site-packages/katana_enterprise/remote/dataframe_importer/__init__.py:112\u001b[0m, in \u001b[0;36mDataFrameImporter._run_import_job\u001b[0;34m(graph, input_node_content, input_edge_content)\u001b[0m\n\u001b[1;32m    110\u001b[0m \u001b[38;5;129m@staticmethod\u001b[39m\n\u001b[1;32m    111\u001b[0m \u001b[38;5;28;01mdef\u001b[39;00m \u001b[38;5;21m_run_import_job\u001b[39m(graph, input_node_content, input_edge_content):\n\u001b[0;32m--> 112\u001b[0m     \u001b[43mDataFrameImporter\u001b[49m\u001b[38;5;241;43m.\u001b[39;49m\u001b[43m_run_bulk_ingest\u001b[49m\u001b[43m(\u001b[49m\u001b[43mgraph\u001b[49m\u001b[43m,\u001b[49m\u001b[43m \u001b[49m\u001b[43minput_node_content\u001b[49m\u001b[43m,\u001b[49m\u001b[43m \u001b[49m\u001b[43minput_edge_content\u001b[49m\u001b[43m)\u001b[49m\n",
      "File \u001b[0;32m/opt/conda/lib/python3.8/site-packages/katana_enterprise/remote/remote_wrappers.py:11\u001b[0m, in \u001b[0;36mremote.<locals>.remote_func\u001b[0;34m(graph, *args, **kwargs)\u001b[0m\n\u001b[1;32m     10\u001b[0m \u001b[38;5;28;01mdef\u001b[39;00m \u001b[38;5;21mremote_func\u001b[39m(graph: Graph, \u001b[38;5;241m*\u001b[39margs, \u001b[38;5;241m*\u001b[39m\u001b[38;5;241m*\u001b[39mkwargs):\n\u001b[0;32m---> 11\u001b[0m     \u001b[38;5;28;01mreturn\u001b[39;00m \u001b[43mgraph\u001b[49m\u001b[38;5;241;43m.\u001b[39;49m\u001b[43mrun\u001b[49m\u001b[43m(\u001b[49m\u001b[38;5;28;43;01mlambda\u001b[39;49;00m\u001b[43m \u001b[49m\u001b[43mgraph\u001b[49m\u001b[43m:\u001b[49m\u001b[43m \u001b[49m\u001b[43mfunc\u001b[49m\u001b[43m(\u001b[49m\u001b[43mgraph\u001b[49m\u001b[43m,\u001b[49m\u001b[43m \u001b[49m\u001b[38;5;241;43m*\u001b[39;49m\u001b[43margs\u001b[49m\u001b[43m,\u001b[49m\u001b[43m \u001b[49m\u001b[38;5;241;43m*\u001b[39;49m\u001b[38;5;241;43m*\u001b[39;49m\u001b[43mkwargs\u001b[49m\u001b[43m)\u001b[49m\u001b[43m)\u001b[49m\n",
      "File \u001b[0;32m/opt/conda/lib/python3.8/site-packages/katana_enterprise/async_to_sync.py:249\u001b[0m, in \u001b[0;36mAsyncToSync.<locals>.do_wrap.<locals>.wrapper\u001b[0;34m(self, *args, **kwargs)\u001b[0m\n\u001b[1;32m    246\u001b[0m \u001b[38;5;129m@wraps\u001b[39m(underlying_func)\n\u001b[1;32m    247\u001b[0m \u001b[38;5;28;01mdef\u001b[39;00m \u001b[38;5;21mwrapper\u001b[39m(\u001b[38;5;28mself\u001b[39m, \u001b[38;5;241m*\u001b[39margs, \u001b[38;5;241m*\u001b[39m\u001b[38;5;241m*\u001b[39mkwargs):\n\u001b[1;32m    248\u001b[0m     \u001b[38;5;28;01mreturn\u001b[39;00m registry\u001b[38;5;241m.\u001b[39masync_to_sync(\n\u001b[0;32m--> 249\u001b[0m         \u001b[43munderlying_func\u001b[49m\u001b[43m(\u001b[49m\n\u001b[1;32m    250\u001b[0m \u001b[43m            \u001b[49m\u001b[43mget_self_func\u001b[49m\u001b[43m(\u001b[49m\u001b[38;5;28;43mself\u001b[39;49m\u001b[43m)\u001b[49m\u001b[43m,\u001b[49m\n\u001b[1;32m    251\u001b[0m \u001b[43m            \u001b[49m\u001b[38;5;241;43m*\u001b[39;49m\u001b[43m(\u001b[49m\u001b[43mregistry\u001b[49m\u001b[38;5;241;43m.\u001b[39;49m\u001b[43msync_to_async\u001b[49m\u001b[43m(\u001b[49m\u001b[43ma\u001b[49m\u001b[43m)\u001b[49m\u001b[43m \u001b[49m\u001b[38;5;28;43;01mfor\u001b[39;49;00m\u001b[43m \u001b[49m\u001b[43ma\u001b[49m\u001b[43m \u001b[49m\u001b[38;5;129;43;01min\u001b[39;49;00m\u001b[43m \u001b[49m\u001b[43margs\u001b[49m\u001b[43m)\u001b[49m\u001b[43m,\u001b[49m\n\u001b[1;32m    252\u001b[0m \u001b[43m            \u001b[49m\u001b[38;5;241;43m*\u001b[39;49m\u001b[38;5;241;43m*\u001b[39;49m\u001b[43m{\u001b[49m\u001b[43mk\u001b[49m\u001b[43m:\u001b[49m\u001b[43m \u001b[49m\u001b[43mregistry\u001b[49m\u001b[38;5;241;43m.\u001b[39;49m\u001b[43msync_to_async\u001b[49m\u001b[43m(\u001b[49m\u001b[43mv\u001b[49m\u001b[43m)\u001b[49m\u001b[43m \u001b[49m\u001b[38;5;28;43;01mfor\u001b[39;49;00m\u001b[43m \u001b[49m\u001b[43mk\u001b[49m\u001b[43m,\u001b[49m\u001b[43m \u001b[49m\u001b[43mv\u001b[49m\u001b[43m \u001b[49m\u001b[38;5;129;43;01min\u001b[39;49;00m\u001b[43m \u001b[49m\u001b[43mkwargs\u001b[49m\u001b[38;5;241;43m.\u001b[39;49m\u001b[43mitems\u001b[49m\u001b[43m(\u001b[49m\u001b[43m)\u001b[49m\u001b[43m}\u001b[49m\u001b[43m,\u001b[49m\n\u001b[1;32m    253\u001b[0m \u001b[43m        \u001b[49m\u001b[43m)\u001b[49m\n\u001b[1;32m    254\u001b[0m     )\n",
      "File \u001b[0;32m/opt/conda/lib/python3.8/site-packages/katana_enterprise/async_to_sync.py:176\u001b[0m, in \u001b[0;36masync_to_sync.<locals>.wrapper\u001b[0;34m(timeout, *args, **kwargs)\u001b[0m\n\u001b[1;32m    166\u001b[0m     registry \u001b[38;5;241m=\u001b[39m AsyncToSyncClassRegistry\u001b[38;5;241m.\u001b[39mget()\n\u001b[1;32m    167\u001b[0m     \u001b[38;5;28;01mreturn\u001b[39;00m registry\u001b[38;5;241m.\u001b[39masync_to_sync(\n\u001b[1;32m    168\u001b[0m         wait_for(\n\u001b[1;32m    169\u001b[0m             async_func(\n\u001b[0;32m   (...)\u001b[0m\n\u001b[1;32m    174\u001b[0m         )\n\u001b[1;32m    175\u001b[0m     )\n\u001b[0;32m--> 176\u001b[0m \u001b[38;5;28;01mreturn\u001b[39;00m \u001b[43mwait_for\u001b[49m\u001b[43m(\u001b[49m\u001b[43masync_func\u001b[49m\u001b[43m(\u001b[49m\u001b[38;5;241;43m*\u001b[39;49m\u001b[43margs\u001b[49m\u001b[43m,\u001b[49m\u001b[43m \u001b[49m\u001b[38;5;241;43m*\u001b[39;49m\u001b[38;5;241;43m*\u001b[39;49m\u001b[43mkwargs\u001b[49m\u001b[43m)\u001b[49m\u001b[43m,\u001b[49m\u001b[43m \u001b[49m\u001b[43mtimeout\u001b[49m\u001b[38;5;241;43m=\u001b[39;49m\u001b[43mtimeout\u001b[49m\u001b[43m)\u001b[49m\n",
      "File \u001b[0;32m/opt/conda/lib/python3.8/site-packages/katana_enterprise/async_to_sync.py:147\u001b[0m, in \u001b[0;36mwait_for\u001b[0;34m(coro, timeout)\u001b[0m\n\u001b[1;32m    145\u001b[0m \u001b[38;5;28;01mtry\u001b[39;00m:\n\u001b[1;32m    146\u001b[0m     future \u001b[38;5;241m=\u001b[39m asyncio\u001b[38;5;241m.\u001b[39mrun_coroutine_threadsafe(timeout_coro, loop\u001b[38;5;241m=\u001b[39mAsyncRunnerThread\u001b[38;5;241m.\u001b[39mget()\u001b[38;5;241m.\u001b[39mloop)\n\u001b[0;32m--> 147\u001b[0m     \u001b[38;5;28;01mreturn\u001b[39;00m \u001b[43mfuture\u001b[49m\u001b[38;5;241;43m.\u001b[39;49m\u001b[43mresult\u001b[49m\u001b[43m(\u001b[49m\u001b[43m)\u001b[49m\n\u001b[1;32m    148\u001b[0m \u001b[38;5;28;01mexcept\u001b[39;00m \u001b[38;5;167;01mKeyboardInterrupt\u001b[39;00m:\n\u001b[1;32m    149\u001b[0m     inner_future\u001b[38;5;241m.\u001b[39mcancel()\n",
      "File \u001b[0;32m/opt/conda/lib/python3.8/concurrent/futures/_base.py:442\u001b[0m, in \u001b[0;36mFuture.result\u001b[0;34m(self, timeout)\u001b[0m\n\u001b[1;32m    439\u001b[0m \u001b[38;5;28mself\u001b[39m\u001b[38;5;241m.\u001b[39m_condition\u001b[38;5;241m.\u001b[39mwait(timeout)\n\u001b[1;32m    441\u001b[0m \u001b[38;5;28;01mif\u001b[39;00m \u001b[38;5;28mself\u001b[39m\u001b[38;5;241m.\u001b[39m_state \u001b[38;5;129;01min\u001b[39;00m [CANCELLED, CANCELLED_AND_NOTIFIED]:\n\u001b[0;32m--> 442\u001b[0m     \u001b[38;5;28;01mraise\u001b[39;00m CancelledError()\n\u001b[1;32m    443\u001b[0m \u001b[38;5;28;01melif\u001b[39;00m \u001b[38;5;28mself\u001b[39m\u001b[38;5;241m.\u001b[39m_state \u001b[38;5;241m==\u001b[39m FINISHED:\n\u001b[1;32m    444\u001b[0m     \u001b[38;5;28;01mreturn\u001b[39;00m \u001b[38;5;28mself\u001b[39m\u001b[38;5;241m.\u001b[39m__get_result()\n",
      "\u001b[0;31mCancelledError\u001b[0m: "
     ]
    }
   ],
   "source": [
    "\n",
    "# Import the previously created Python DataFrames into KatanaGraph ..\n",
    "\n",
    "with import_data.DataFrameImporter(my_graph) as df_importer:   \n",
    "    \n",
    "   df_importer.nodes_dataframe(df_persons, \n",
    "      id_column             = \"id\",\n",
    "      id_space              = \"Person\",  \n",
    "      label                 = \"Person\",  \n",
    "      )\n",
    "\n",
    "   df_importer.nodes_dataframe(df_persons, \n",
    "      id_column             = \"id\",\n",
    "      id_space              = \"Person\",  \n",
    "      label                 = \"Person\",  \n",
    "      )\n",
    "\n",
    "\n",
    "\n",
    "   df_importer.nodes_dataframe(df_items, \n",
    "      id_column             = \"id\",\n",
    "      id_space              = \"Item\",  \n",
    "      label                 = \"Item\",  \n",
    "      )\n",
    "\n",
    "   df_importer.nodes_dataframe(df_stores, \n",
    "      id_column             = \"id\",\n",
    "      id_space              = \"Store\",  \n",
    "      label                 = \"Store\",  \n",
    "      )\n",
    "\n",
    "   df_importer.nodes_dataframe(df_dist_centers, \n",
    "      id_column             = \"id\",\n",
    "      id_space              = \"Dist_Center\",  \n",
    "      label                 = \"Dist_Center\",  \n",
    "      )\n",
    "\n",
    "   df_importer.nodes_dataframe(df_reviewers, \n",
    "      id_column             = \"id\",\n",
    "      id_space              = \"Reviewer\",  \n",
    "      label                 = \"Reviewer\",  \n",
    "      )\n",
    "\n",
    "         ###\n",
    "   \n",
    "   df_importer.edges_dataframe(df_placed,\n",
    "      source_id_space       = \"Person\", \n",
    "      destination_id_space  = \"Order\",   \n",
    "      source_column         = \"START_ID\",\n",
    "      destination_column    = \"END_ID\",\n",
    "      type                  = \"PLACED\"\n",
    "      )\n",
    "    \n",
    "    \n",
    "    \n",
    "\n",
    "print(\"--\")\n",
    "\n"
   ]
  },
  {
   "cell_type": "code",
   "execution_count": null,
   "id": "9e98353c-27b0-4226-b403-67ea37bfa33b",
   "metadata": {},
   "outputs": [],
   "source": [
    "# ##################################################################"
   ]
  },
  {
   "cell_type": "code",
   "execution_count": null,
   "id": "4850ba7c-2314-44be-972e-51ef90f2cb71",
   "metadata": {},
   "outputs": [],
   "source": []
  },
  {
   "cell_type": "code",
   "execution_count": null,
   "id": "6160bd57-15aa-4ff0-9269-9431e6f7dd2b",
   "metadata": {},
   "outputs": [],
   "source": []
  }
 ],
 "metadata": {
  "kernelspec": {
   "display_name": "Python 3 (ipykernel)",
   "language": "python",
   "name": "python3"
  },
  "language_info": {
   "codemirror_mode": {
    "name": "ipython",
    "version": 3
   },
   "file_extension": ".py",
   "mimetype": "text/x-python",
   "name": "python",
   "nbconvert_exporter": "python",
   "pygments_lexer": "ipython3",
   "version": "3.8.13"
  }
 },
 "nbformat": 4,
 "nbformat_minor": 5
}
