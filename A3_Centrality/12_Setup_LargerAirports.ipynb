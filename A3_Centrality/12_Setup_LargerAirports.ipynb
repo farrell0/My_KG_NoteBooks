{
 "cells": [
  {
   "cell_type": "code",
   "execution_count": null,
   "id": "92b22713-09cb-4337-8e1b-9c6df6d80609",
   "metadata": {},
   "outputs": [],
   "source": [
    "\n",
    "#  Setting display options \n",
    "\n",
    "import pandas as pd\n",
    "   #\n",
    "pd.set_option(\"display.width\", 480)\n",
    "\n",
    "#  Sets horizontal scroll for wide outputs\n",
    "#\n",
    "from IPython.display import display, HTML\n",
    "display(HTML(\"\"))\n",
    "\n",
    "from tabulate import tabulate\n",
    "\n",
    "print(\"--\")\n"
   ]
  },
  {
   "cell_type": "markdown",
   "id": "d3ebe820-bc6d-4948-b668-8b81cd3cbf29",
   "metadata": {
    "tags": []
   },
   "source": [
    "#  Setup stuff: Connectivity"
   ]
  },
  {
   "cell_type": "code",
   "execution_count": null,
   "id": "1ea957d6-30c6-427a-ae4e-15ecfba0c4f9",
   "metadata": {},
   "outputs": [],
   "source": [
    "\n",
    "from katana import remote\n",
    "from katana.remote import import_data\n",
    "\n",
    "my_client = remote.Client()\n",
    "\n",
    "print(my_client)\n"
   ]
  },
  {
   "cell_type": "code",
   "execution_count": null,
   "id": "97571016-7c02-4e90-a75a-136a0dacd35f",
   "metadata": {},
   "outputs": [],
   "source": [
    "\n",
    "NUM_PARTITIONS  = 3\n",
    "   #\n",
    "DB_NAME         = \"my_db\"\n",
    "GRAPH_NAME      = \"my_graph\"\n",
    "\n",
    "print(\"--\")\n"
   ]
  },
  {
   "cell_type": "code",
   "execution_count": null,
   "id": "8ed2d715-aaeb-4381-9216-46fa0dd421b6",
   "metadata": {},
   "outputs": [],
   "source": [
    "\n",
    "#  DELETE ALL GRAPHS\n",
    "\n",
    "for l_database in my_client.databases():\n",
    "   for l_graph in my_client.get_database(name=l_database.name).graphs_in_database():\n",
    "      l_handle=my_client.get_database(name=l_database.name).get_graph_by_id(id=l_graph.graph_id)\n",
    "      l_handle.delete()\n",
    "\n",
    "for l_graph in my_client.graphs():\n",
    "   print(\"GRAPH ID: \", l_graph.graph_id, \"      GRAPH Version: \", l_graph.version)\n",
    "\n",
    "print(\"--\")\n"
   ]
  },
  {
   "cell_type": "code",
   "execution_count": null,
   "id": "cf9c16ec-913f-46a8-bccc-76fc92c54866",
   "metadata": {},
   "outputs": [],
   "source": [
    "\n",
    "#  DELETE ALL DATABASES\n",
    "\n",
    "for l_database in my_client.databases():\n",
    "   if (l_database.name != \"default\"):\n",
    "      my_client.get_database(name=l_database.name).delete_database()\n",
    "      print(\"--\")\n",
    "\n",
    "for l_database in my_client.databases():\n",
    "   print(\"DB ID: \", l_database.database_id, \"     DB Name: \", l_database.name)\n"
   ]
  },
  {
   "cell_type": "code",
   "execution_count": null,
   "id": "6e72729c-265b-40e4-a3ee-674b793bed81",
   "metadata": {},
   "outputs": [],
   "source": [
    "\n",
    "#  CREATE DATABASE\n",
    "\n",
    "my_database = my_client.create_database(name=DB_NAME)\n",
    "\n",
    "print(my_database.database_id)\n"
   ]
  },
  {
   "cell_type": "code",
   "execution_count": null,
   "id": "2fc31da4-44c3-4bd3-b160-b315766dcd88",
   "metadata": {},
   "outputs": [],
   "source": [
    "\n",
    "#  CREATE GRAPH\n",
    "#\n",
    "my_graph = my_client.get_database(name=DB_NAME).create_graph(name=GRAPH_NAME, num_partitions=2)\n",
    "\n",
    "print(my_graph)\n"
   ]
  },
  {
   "cell_type": "code",
   "execution_count": null,
   "id": "c5db6505-7fc8-4779-b194-9ed8945b9a90",
   "metadata": {},
   "outputs": [],
   "source": [
    "\n",
    "#  CONNECT TO GRAPH\n",
    "\n",
    "my_graph, *_ = my_client.get_database(name=DB_NAME).find_graphs_by_name(GRAPH_NAME)\n",
    "\n",
    "print(my_graph)\n"
   ]
  },
  {
   "cell_type": "markdown",
   "id": "61556ce5-9044-42bc-bb13-80b6a514ae27",
   "metadata": {
    "tags": []
   },
   "source": [
    "# Create the vertices/nodes, edges ..\n"
   ]
  },
  {
   "cell_type": "code",
   "execution_count": null,
   "id": "f7efb47b-3c7d-45f3-acc8-ae29c3e2a1bf",
   "metadata": {},
   "outputs": [],
   "source": [
    "\n",
    "#  import pandas as pd\n",
    "#  \n",
    "#  print(\"--\")\n",
    "\n"
   ]
  },
  {
   "cell_type": "code",
   "execution_count": null,
   "id": "8e7ecf31-d69e-4b5a-8a37-0cfb4c32fd33",
   "metadata": {},
   "outputs": [],
   "source": [
    "\n",
    "#  A larger set of Airports\n",
    "#\n",
    "\n",
    "df_airports = pd.DataFrame([\n",
    "   [\"MKE\", \"Milwaukee\"               ,\"Airport\"],\n",
    "   [\"ORD\", \"Chicago O-Hare\"          ,\"Airport\"],\n",
    "   [\"SJC\", \"San Jose\"                ,\"Airport\"],\n",
    "   [\"DEN\", \"Denver\"                  ,\"Airport\"],\n",
    "      #\n",
    "   [\"MSP\", \"Minneapolis, St.Paul\"    ,\"Airport\"],\n",
    "   [\"MSN\", \"Madison\"                 ,\"Airport\"],\n",
    "   [\"GRB\", \"Green Bay\"               ,\"Airport\"],\n",
    "      #\n",
    "   [\"EGE\", \"Eagle, Vail\"             ,\"Airport\"],\n",
    "   [\"COS\", \"Colorado Springs\"        ,\"Airport\"],\n",
    "   [\"PUB\", \"Pueblo\"                  ,\"Airport\"],\n",
    "   [\"ASE\", \"Aspen\"                   ,\"Airport\"],\n",
    "   [\"FNL\", \"Fort Collins, Loveland\"  ,\"Airport\"],\n",
    "      #\n",
    "   ], columns = [\"airport_code\", \"airport_name\", \"LABEL\"])\n",
    "\n",
    "print(tabulate(df_airports, headers='keys', tablefmt='psql'))\n"
   ]
  },
  {
   "cell_type": "code",
   "execution_count": 10,
   "id": "60eaac88-4dd5-47d3-94b3-0f5fd0b243f2",
   "metadata": {},
   "outputs": [
    {
     "name": "stdout",
     "output_type": "stream",
     "text": [
      "+----+------------+----------+------------+------------+----------+\n",
      "|    | START_ID   | END_ID   |   DISTANCE |   NUM_HOPS | TYPE     |\n",
      "|----+------------+----------+------------+------------+----------|\n",
      "|  0 | MKE        | ORD      |         66 |          1 | FLIES_TO |\n",
      "|  1 | ORD        | MKE      |         66 |          1 | FLIES_TO |\n",
      "|  2 | ORD        | DEN      |        886 |          1 | FLIES_TO |\n",
      "|  3 | DEN        | ORD      |        886 |          1 | FLIES_TO |\n",
      "|  4 | SJC        | DEN      |        948 |          1 | FLIES_TO |\n",
      "|  5 | DEN        | SJC      |        948 |          1 | FLIES_TO |\n",
      "|  6 | SJC        | ORD      |       1829 |          1 | FLIES_TO |\n",
      "|  7 | MSN        | ORD      |        135 |          1 | FLIES_TO |\n",
      "|  8 | ORD        | MSN      |        135 |          1 | FLIES_TO |\n",
      "|  9 | MSP        | ORD      |        334 |          1 | FLIES_TO |\n",
      "| 10 | ORD        | MSP      |        334 |          1 | FLIES_TO |\n",
      "| 11 | GRB        | ORD      |        196 |          1 | FLIES_TO |\n",
      "| 12 | ORD        | GRB      |        196 |          1 | FLIES_TO |\n",
      "| 13 | EGE        | DEN      |        155 |          1 | FLIES_TO |\n",
      "| 14 | DEN        | EGE      |        155 |          1 | FLIES_TO |\n",
      "| 15 | COS        | DEN      |         95 |          1 | FLIES_TO |\n",
      "| 16 | DEN        | COS      |         95 |          1 | FLIES_TO |\n",
      "| 17 | PUB        | DEN      |        133 |          1 | FLIES_TO |\n",
      "| 18 | DEN        | PUB      |        133 |          1 | FLIES_TO |\n",
      "| 19 | ASE        | DEN      |        125 |          1 | FLIES_TO |\n",
      "| 20 | DEN        | ASE      |        125 |          1 | FLIES_TO |\n",
      "| 21 | FNL        | DEN      |         58 |          1 | BUSES_TO |\n",
      "| 22 | DEN        | FNL      |         58 |          1 | BUSES_TO |\n",
      "+----+------------+----------+------------+------------+----------+\n"
     ]
    }
   ],
   "source": [
    "\n",
    "#  Create the edge, flights ..\n",
    "#\n",
    "\n",
    "df_flights = pd.DataFrame([\n",
    "   [\"MKE\", \"ORD\",   66, 1, \"FLIES_TO\"],\n",
    "   [\"ORD\", \"MKE\",   66, 1, \"FLIES_TO\"],\n",
    "      #\n",
    "   [\"ORD\", \"DEN\",  886, 1, \"FLIES_TO\"],\n",
    "   [\"DEN\", \"ORD\",  886, 1, \"FLIES_TO\"],\n",
    "      #\n",
    "   [\"SJC\", \"DEN\",  948, 1, \"FLIES_TO\"],                           #  Notice SJC flies to/from Denver\n",
    "   [\"DEN\", \"SJC\",  948, 1, \"FLIES_TO\"],\n",
    "      #\n",
    "   [\"SJC\", \"ORD\", 1829, 1, \"FLIES_TO\"],                           #  Notice SJC flies to ORD, but not ORD to SJC\n",
    "      #\n",
    "      #\n",
    "   [\"MSN\", \"ORD\",  135, 1, \"FLIES_TO\"],                           #  ORD <-->  MSN, MSP, GRB\n",
    "   [\"ORD\", \"MSN\",  135, 1, \"FLIES_TO\"],\n",
    "   [\"MSP\", \"ORD\",  334, 1, \"FLIES_TO\"],\n",
    "   [\"ORD\", \"MSP\",  334, 1, \"FLIES_TO\"],\n",
    "   [\"GRB\", \"ORD\",  196, 1, \"FLIES_TO\"],\n",
    "   [\"ORD\", \"GRB\",  196, 1, \"FLIES_TO\"],\n",
    "      #\n",
    "   [\"EGE\", \"DEN\",  155, 1, \"FLIES_TO\"],                           #  DEN <-->  EGE, COS, PUB, ASE, FNL\n",
    "   [\"DEN\", \"EGE\",  155, 1, \"FLIES_TO\"],\n",
    "   [\"COS\", \"DEN\",   95, 1, \"FLIES_TO\"],\n",
    "   [\"DEN\", \"COS\",   95, 1, \"FLIES_TO\"],\n",
    "   [\"PUB\", \"DEN\",  133, 1, \"FLIES_TO\"],\n",
    "   [\"DEN\", \"PUB\",  133, 1, \"FLIES_TO\"],\n",
    "   [\"ASE\", \"DEN\",  125, 1, \"FLIES_TO\"],\n",
    "   [\"DEN\", \"ASE\",  125, 1, \"FLIES_TO\"],\n",
    "   [\"FNL\", \"DEN\",   58, 1, \"BUSES_TO\"],\n",
    "   [\"DEN\", \"FNL\",   58, 1, \"BUSES_TO\"],\n",
    "      #\n",
    "   ], columns = [\"START_ID\", \"END_ID\", \"DISTANCE\", \"NUM_HOPS\", \"TYPE\"])\n",
    "\n",
    "print(tabulate(df_flights, headers='keys', tablefmt='psql'))\n"
   ]
  },
  {
   "cell_type": "code",
   "execution_count": 11,
   "id": "7dc52e1a-e51e-4610-b9aa-8af39689000e",
   "metadata": {},
   "outputs": [
    {
     "name": "stderr",
     "output_type": "stream",
     "text": [
      "UserWarning: dtype for DataFrame column 'airport_name' is 'object'. Will be inferred as string.\n",
      "UserWarning: dtype for DataFrame column 'LABEL' is 'object'. Will be inferred as string.\n",
      "UserWarning: dtype for DataFrame column 'TYPE' is 'object'. Will be inferred as string.\n"
     ]
    },
    {
     "data": {
      "application/vnd.jupyter.widget-view+json": {
       "model_id": "db886e06ca294722ad6dffd5611716a8",
       "version_major": 2,
       "version_minor": 0
      },
      "text/plain": [
       "          0/? [?op/s]"
      ]
     },
     "metadata": {},
     "output_type": "display_data"
    },
    {
     "data": {
      "application/vnd.jupyter.widget-view+json": {
       "model_id": "fca7b951313d42b19c0d3d4560c976c5",
       "version_major": 2,
       "version_minor": 0
      },
      "text/plain": [
       "          0/? [?op/s]"
      ]
     },
     "metadata": {},
     "output_type": "display_data"
    },
    {
     "name": "stdout",
     "output_type": "stream",
     "text": [
      "--\n"
     ]
    }
   ],
   "source": [
    "\n",
    "# Import the 2 previously created Python DataFrames into KatanaGraph ..\n",
    "\n",
    "with import_data.DataFrameImporter(my_graph) as df_importer:   \n",
    "    \n",
    "   df_importer.nodes_dataframe(df_airports,                    #  Aiport set of Nodes\n",
    "      id_column             = \"airport_code\",\n",
    "      id_space              = \"Airport\",  \n",
    "      label                 = \"Airport\",  \n",
    "      )\n",
    "   \n",
    "   df_importer.edges_dataframe(df_flights,                     #  Our Edge, specifying the relationship between Airport --> FLIES_TO --> Airport\n",
    "      source_id_space       = \"Airport\", \n",
    "      destination_id_space  = \"Airport\",   \n",
    "      source_column         = \"START_ID\",\n",
    "      destination_column    = \"END_ID\",\n",
    "      type                  = \"FLIES_TO\"\n",
    "      )\n",
    "\n",
    "   df_importer.insert()\n",
    "\n",
    "print(\"--\")\n"
   ]
  },
  {
   "cell_type": "code",
   "execution_count": 12,
   "id": "6160bd57-15aa-4ff0-9269-9431e6f7dd2b",
   "metadata": {},
   "outputs": [
    {
     "data": {
      "application/vnd.jupyter.widget-view+json": {
       "model_id": "d5e0099eeefb4dacb0ed8014f8d0515a",
       "version_major": 2,
       "version_minor": 0
      },
      "text/plain": [
       "          0/? [?op/s]"
      ]
     },
     "metadata": {},
     "output_type": "display_data"
    },
    {
     "name": "stdout",
     "output_type": "stream",
     "text": [
      "+----+-----------------+-------------+-----------+------------------+------------------------+----------+\n",
      "|    |   n.internal_id | n.labels    | n.LABEL   | n.airport_code   | n.airport_name         | n.type   |\n",
      "|----+-----------------+-------------+-----------+------------------+------------------------+----------|\n",
      "|  0 |               0 | ['Airport'] | Airport   | MKE              | Milwaukee              | node     |\n",
      "|  1 |               1 | ['Airport'] | Airport   | ORD              | Chicago O-Hare         | node     |\n",
      "|  2 |               2 | ['Airport'] | Airport   | SJC              | San Jose               | node     |\n",
      "|  3 |               6 | ['Airport'] | Airport   | GRB              | Green Bay              | node     |\n",
      "|  4 |               7 | ['Airport'] | Airport   | EGE              | Eagle, Vail            | node     |\n",
      "|  5 |               8 | ['Airport'] | Airport   | COS              | Colorado Springs       | node     |\n",
      "|  6 |               3 | ['Airport'] | Airport   | DEN              | Denver                 | node     |\n",
      "|  7 |               4 | ['Airport'] | Airport   | MSP              | Minneapolis, St.Paul   | node     |\n",
      "|  8 |               5 | ['Airport'] | Airport   | MSN              | Madison                | node     |\n",
      "|  9 |               9 | ['Airport'] | Airport   | PUB              | Pueblo                 | node     |\n",
      "| 10 |              10 | ['Airport'] | Airport   | ASE              | Aspen                  | node     |\n",
      "| 11 |              11 | ['Airport'] | Airport   | FNL              | Fort Collins, Loveland | node     |\n",
      "+----+-----------------+-------------+-----------+------------------+------------------------+----------+\n"
     ]
    },
    {
     "data": {
      "application/vnd.jupyter.widget-view+json": {
       "model_id": "2a631f2c5aea47d88dbfd45cff4f301c",
       "version_major": 2,
       "version_minor": 0
      },
      "text/plain": [
       "          0/? [?op/s]"
      ]
     },
     "metadata": {},
     "output_type": "display_data"
    },
    {
     "name": "stdout",
     "output_type": "stream",
     "text": [
      "+----+------------+----------------+-----------------+-----------+--------------+--------------+----------+--------------+------------------+----------+\n",
      "|    |   r.end.id | r.end.labels   |   r.internal_id | r.label   |   r.DISTANCE |   r.NUM_HOPS | r.TYPE   |   r.start.id | r.start.labels   | r.type   |\n",
      "|----+------------+----------------+-----------------+-----------+--------------+--------------+----------+--------------+------------------+----------|\n",
      "|  0 |          1 | ['Airport']    |               6 | FLIES_TO  |          196 |            1 | FLIES_TO |            6 | ['Airport']      | edge     |\n",
      "|  1 |          3 | ['Airport']    |              10 | FLIES_TO  |          155 |            1 | FLIES_TO |            7 | ['Airport']      | edge     |\n",
      "|  2 |          3 | ['Airport']    |              11 | FLIES_TO  |           95 |            1 | FLIES_TO |            8 | ['Airport']      | edge     |\n",
      "|  3 |          3 | ['Airport']    |              12 | FLIES_TO  |          133 |            1 | FLIES_TO |            9 | ['Airport']      | edge     |\n",
      "|  4 |          3 | ['Airport']    |              13 | FLIES_TO  |          125 |            1 | FLIES_TO |           10 | ['Airport']      | edge     |\n",
      "|  5 |          3 | ['Airport']    |              14 | FLIES_TO  |           58 |            1 | BUSES_TO |           11 | ['Airport']      | edge     |\n",
      "|  6 |          1 | ['Airport']    |               1 | FLIES_TO  |           66 |            1 | FLIES_TO |            0 | ['Airport']      | edge     |\n",
      "|  7 |          0 | ['Airport']    |               0 | FLIES_TO  |           66 |            1 | FLIES_TO |            1 | ['Airport']      | edge     |\n",
      "|  8 |          3 | ['Airport']    |               8 | FLIES_TO  |          886 |            1 | FLIES_TO |            1 | ['Airport']      | edge     |\n",
      "|  9 |          4 | ['Airport']    |              15 | FLIES_TO  |          334 |            1 | FLIES_TO |            1 | ['Airport']      | edge     |\n",
      "| 10 |          5 | ['Airport']    |              16 | FLIES_TO  |          135 |            1 | FLIES_TO |            1 | ['Airport']      | edge     |\n",
      "| 11 |          6 | ['Airport']    |              17 | FLIES_TO  |          196 |            1 | FLIES_TO |            1 | ['Airport']      | edge     |\n",
      "| 12 |          1 | ['Airport']    |               2 | FLIES_TO  |         1829 |            1 | FLIES_TO |            2 | ['Airport']      | edge     |\n",
      "| 13 |          3 | ['Airport']    |               9 | FLIES_TO  |          948 |            1 | FLIES_TO |            2 | ['Airport']      | edge     |\n",
      "| 14 |          1 | ['Airport']    |               3 | FLIES_TO  |          886 |            1 | FLIES_TO |            3 | ['Airport']      | edge     |\n",
      "| 15 |          2 | ['Airport']    |               7 | FLIES_TO  |          948 |            1 | FLIES_TO |            3 | ['Airport']      | edge     |\n",
      "| 16 |          7 | ['Airport']    |              18 | FLIES_TO  |          155 |            1 | FLIES_TO |            3 | ['Airport']      | edge     |\n",
      "| 17 |          8 | ['Airport']    |              19 | FLIES_TO  |           95 |            1 | FLIES_TO |            3 | ['Airport']      | edge     |\n",
      "| 18 |          9 | ['Airport']    |              20 | FLIES_TO  |          133 |            1 | FLIES_TO |            3 | ['Airport']      | edge     |\n",
      "| 19 |         10 | ['Airport']    |              21 | FLIES_TO  |          125 |            1 | FLIES_TO |            3 | ['Airport']      | edge     |\n",
      "| 20 |         11 | ['Airport']    |              22 | FLIES_TO  |           58 |            1 | BUSES_TO |            3 | ['Airport']      | edge     |\n",
      "| 21 |          1 | ['Airport']    |               4 | FLIES_TO  |          334 |            1 | FLIES_TO |            4 | ['Airport']      | edge     |\n",
      "| 22 |          1 | ['Airport']    |               5 | FLIES_TO  |          135 |            1 | FLIES_TO |            5 | ['Airport']      | edge     |\n",
      "+----+------------+----------------+-----------------+-----------+--------------+--------------+----------+--------------+------------------+----------+\n"
     ]
    }
   ],
   "source": [
    "\n",
    "#  What's in the graph ..\n",
    "\n",
    "l_result1 = my_graph.query(\"\"\"\n",
    "   MATCH ( n ) \n",
    "   RETURN n\n",
    "   \"\"\")\n",
    "print(tabulate(l_result1, headers='keys', tablefmt='psql'))\n",
    "\n",
    "l_result2 = my_graph.query(\"\"\"\n",
    "   MATCH ( n ) - [ r ] -> ( m )\n",
    "   RETURN r\n",
    "   \"\"\")\n",
    "print(tabulate(l_result2, headers='keys', tablefmt='psql'))\n"
   ]
  },
  {
   "cell_type": "code",
   "execution_count": 14,
   "id": "44798ca4-9563-4e44-b624-9b9bf07ee704",
   "metadata": {},
   "outputs": [
    {
     "data": {
      "application/vnd.jupyter.widget-view+json": {
       "model_id": "9d8c23cc22c54cb9b2c8b15014a0aead",
       "version_major": 2,
       "version_minor": 0
      },
      "text/plain": [
       "          0/? [?op/s]"
      ]
     },
     "metadata": {},
     "output_type": "display_data"
    },
    {
     "name": "stdout",
     "output_type": "stream",
     "text": [
      "+----+--------+------+------------+------------+-----------+---------------+-------------+\n",
      "|    |   FROM |   TO |   DISTANCE |   NUM_HOPS | my_type   | FROM_LABELS   | TO_LABELS   |\n",
      "|----+--------+------+------------+------------+-----------+---------------+-------------|\n",
      "|  0 |      0 |    1 |         66 |          1 | FLIES_TO  | ['Airport']   | ['Airport'] |\n",
      "|  1 |      1 |    0 |         66 |          1 | FLIES_TO  | ['Airport']   | ['Airport'] |\n",
      "|  2 |      1 |    3 |        886 |          1 | FLIES_TO  | ['Airport']   | ['Airport'] |\n",
      "|  3 |      1 |    4 |        334 |          1 | FLIES_TO  | ['Airport']   | ['Airport'] |\n",
      "|  4 |      1 |    5 |        135 |          1 | FLIES_TO  | ['Airport']   | ['Airport'] |\n",
      "|  5 |      1 |    6 |        196 |          1 | FLIES_TO  | ['Airport']   | ['Airport'] |\n",
      "|  6 |      2 |    1 |       1829 |          1 | FLIES_TO  | ['Airport']   | ['Airport'] |\n",
      "|  7 |      2 |    3 |        948 |          1 | FLIES_TO  | ['Airport']   | ['Airport'] |\n",
      "|  8 |      3 |    1 |        886 |          1 | FLIES_TO  | ['Airport']   | ['Airport'] |\n",
      "|  9 |      3 |    2 |        948 |          1 | FLIES_TO  | ['Airport']   | ['Airport'] |\n",
      "| 10 |      3 |    7 |        155 |          1 | FLIES_TO  | ['Airport']   | ['Airport'] |\n",
      "| 11 |      3 |    8 |         95 |          1 | FLIES_TO  | ['Airport']   | ['Airport'] |\n",
      "| 12 |      3 |    9 |        133 |          1 | FLIES_TO  | ['Airport']   | ['Airport'] |\n",
      "| 13 |      3 |   10 |        125 |          1 | FLIES_TO  | ['Airport']   | ['Airport'] |\n",
      "| 14 |      3 |   11 |         58 |          1 | FLIES_TO  | ['Airport']   | ['Airport'] |\n",
      "| 15 |      4 |    1 |        334 |          1 | FLIES_TO  | ['Airport']   | ['Airport'] |\n",
      "| 16 |      5 |    1 |        135 |          1 | FLIES_TO  | ['Airport']   | ['Airport'] |\n",
      "| 17 |      6 |    1 |        196 |          1 | FLIES_TO  | ['Airport']   | ['Airport'] |\n",
      "| 18 |      7 |    3 |        155 |          1 | FLIES_TO  | ['Airport']   | ['Airport'] |\n",
      "| 19 |      8 |    3 |         95 |          1 | FLIES_TO  | ['Airport']   | ['Airport'] |\n",
      "| 20 |      9 |    3 |        133 |          1 | FLIES_TO  | ['Airport']   | ['Airport'] |\n",
      "| 21 |     10 |    3 |        125 |          1 | FLIES_TO  | ['Airport']   | ['Airport'] |\n",
      "| 22 |     11 |    3 |         58 |          1 | FLIES_TO  | ['Airport']   | ['Airport'] |\n",
      "+----+--------+------+------------+------------+-----------+---------------+-------------+\n"
     ]
    }
   ],
   "source": [
    "\n",
    "#  What's in the edge .. \n",
    "\n",
    "l_result = my_graph.query(\"\"\"\n",
    "\n",
    "   MATCH ( n )  - [r] ->  (m)\n",
    "   RETURN ID(n) AS FROM, ID(m) AS TO, r.DISTANCE AS DISTANCE, r.NUM_HOPS AS NUM_HOPS, TYPE(r) AS my_type, LABELS(n) AS FROM_LABELS, LABELS(m) AS TO_LABELS\n",
    "   ORDER BY FROM, TO\n",
    "   \n",
    "   \"\"\")\n",
    "\n",
    "print(tabulate(l_result, headers='keys', tablefmt='psql'))\n"
   ]
  }
 ],
 "metadata": {
  "kernelspec": {
   "display_name": "Python 3 (ipykernel)",
   "language": "python",
   "name": "python3"
  },
  "language_info": {
   "codemirror_mode": {
    "name": "ipython",
    "version": 3
   },
   "file_extension": ".py",
   "mimetype": "text/x-python",
   "name": "python",
   "nbconvert_exporter": "python",
   "pygments_lexer": "ipython3",
   "version": "3.8.13"
  }
 },
 "nbformat": 4,
 "nbformat_minor": 5
}
