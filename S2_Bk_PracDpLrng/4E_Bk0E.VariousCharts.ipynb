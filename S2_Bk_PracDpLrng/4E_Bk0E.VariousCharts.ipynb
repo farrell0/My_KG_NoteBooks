{
 "cells": [
  {
   "cell_type": "code",
   "execution_count": null,
   "id": "340cf795-5d90-4e30-9e2a-a3af977c9f0f",
   "metadata": {},
   "outputs": [],
   "source": [
    "\n",
    "#  Various charting, visulaizations\n",
    "#\n",
    "\n",
    "#  From,\n",
    "#     http://www.apnorton.com/blog/2016/12/19/Visualizing-Multidimensional-Data-in-Python/\n",
    "\n"
   ]
  },
  {
   "cell_type": "code",
   "execution_count": 3,
   "id": "d6b10e36-e99d-4ebf-baf3-35f17f59e1b7",
   "metadata": {},
   "outputs": [
    {
     "name": "stdout",
     "output_type": "stream",
     "text": [
      "--\n"
     ]
    }
   ],
   "source": [
    "\n",
    "import matplotlib.pyplot as plt\n",
    "import pandas as pd\n",
    "\n",
    "from sklearn.decomposition import PCA as sklearnPCA\n",
    "from sklearn.discriminant_analysis import LinearDiscriminantAnalysis as LDA\n",
    "\n",
    "\n",
    "# from sklearn.datasets.samples_generator import make_blobs\n",
    "from sklearn.datasets import make_blobs\n",
    "\n",
    "#  from pandas.tools.plotting import parallel_coordinates\n",
    "from pandas.plotting import parallel_coordinates\n",
    "\n",
    "import matplotlib.pyplot as plt\n",
    "import numpy as np\n",
    "\n",
    "\n",
    "print(\"--\")\n"
   ]
  },
  {
   "cell_type": "code",
   "execution_count": 17,
   "id": "4623d25d-ea43-40ae-8fdf-36a6269f58c0",
   "metadata": {},
   "outputs": [
    {
     "name": "stdout",
     "output_type": "stream",
     "text": [
      "[[ 1.12031365  5.75806083]\n",
      " [-1.91423083  2.61557951]\n",
      " [ 1.28933778  3.44969159]\n",
      " [ 2.21021495  1.27582618]\n",
      " [ 4.32502215 -0.55670201]\n",
      " [-2.57545698  1.49786432]\n",
      " [-3.2331742   4.86865766]\n",
      " [ 1.16748177 -1.08313281]\n",
      " [ 0.87305123  4.71438583]\n",
      " [ 1.9263585   4.15243012]\n",
      " [ 3.58804674  2.36702243]\n",
      " [ 2.47034915  4.09862906]\n",
      " [-0.49772229  1.55128226]\n",
      " [ 2.10102604  0.71047981]\n",
      " [ 1.7373078   4.42546234]\n",
      " [-2.03655619  2.47980796]\n",
      " [-0.29661333  4.12026211]\n",
      " [-1.87481616  3.07423123]\n",
      " [ 2.91970372  0.15549864]\n",
      " [ 1.42013331  4.63746165]]\n",
      "[0 2 0 1 1 2 2 1 0 0 1 0 1 1 0 2 2 2 1 0]\n",
      "<class 'numpy.ndarray'>\n",
      "--\n"
     ]
    }
   ],
   "source": [
    "\n",
    "#  Generate data\n",
    "#\n",
    "\n",
    "l_data = {}\n",
    "   #\n",
    "l_data[\"xycoord\"], l_data[\"label\"] = make_blobs(n_samples = 20, centers = 3, n_features = 2, random_state = 0)\n",
    "\n",
    "print(l_data[\"xycoord\"])\n",
    "print(l_data[\"label\"  ])\n",
    "   #\n",
    "print(type(l_data[\"xycoord\"][:, 0]))\n",
    "\n",
    "print(\"--\")\n"
   ]
  },
  {
   "cell_type": "code",
   "execution_count": null,
   "id": "b293fae3-15d5-415c-8739-c1cd4234a081",
   "metadata": {},
   "outputs": [],
   "source": [
    "\n",
    "#  Bare minimum control\n",
    "#\n",
    "\n",
    "plt.scatter(l_data[\"xycoord\"][:,0], l_data[\"xycoord\"][:,1], c = l_data[\"label\"])\n",
    "   #        |<----  x-coord ---->|  |<---- y-coord  ---->|\n",
    "    \n",
    "plt.show()\n"
   ]
  },
  {
   "cell_type": "code",
   "execution_count": 18,
   "id": "b71beddb-5ce0-43e5-ab30-f979fe95aec8",
   "metadata": {},
   "outputs": [
    {
     "data": {
      "image/png": "[encoded data removed]",
      "text/plain": [
       "<Figure size 640x480 with 1 Axes>"
      ]
     },
     "metadata": {},
     "output_type": "display_data"
    }
   ],
   "source": [
    "\n",
    "#  More control over display\n",
    "#\n",
    "\n",
    "plt.scatter(l_data[\"xycoord\"][l_data[\"label\"]==0][:, 0], l_data[\"xycoord\"][l_data[\"label\"]==0][:, 1], c = \"red\"       , label = \"Class 1\")\n",
    "plt.scatter(l_data[\"xycoord\"][l_data[\"label\"]==1][:, 0], l_data[\"xycoord\"][l_data[\"label\"]==1][:, 1], c = \"blue\"      , label = \"Class 2\")\n",
    "plt.scatter(l_data[\"xycoord\"][l_data[\"label\"]==2][:, 0], l_data[\"xycoord\"][l_data[\"label\"]==2][:, 1], c = \"lightgreen\", label = \"Class 3\")\n",
    "   #        |<----  x-coord                      ---->|  |<----  y-coord                      ---->|\n",
    "   #                         |<--- filter  ---->|                         |<--- filter  ---->|                                          \n",
    "   #                  0'th dim, the x-coord ---->|    |<----                             ---->|    |<---- 1st dim, the y-coord\n",
    "   # \n",
    "    \n",
    "plt.legend()\n",
    "   #\n",
    "plt.xlabel('Whatever X')\n",
    "plt.ylabel('Whatever Y')\n",
    "\n",
    "plt.show()\n"
   ]
  },
  {
   "cell_type": "code",
   "execution_count": null,
   "id": "74e9165a-7f3c-45e4-be38-1a08a6c7303d",
   "metadata": {},
   "outputs": [],
   "source": [
    "\n",
    "#  Normalizing the datausing PCA\n",
    "#\n",
    "#     (The data gets inverted)\n",
    "#\n",
    "\n",
    "l_pca = sklearnPCA(n_components = 2)                        #  2-dimensional PCA\n",
    "\n",
    "l_data[\"pca\"] = l_pca.fit_transform(l_data[\"xycoord\"])\n",
    "\n",
    "   #\n",
    "    \n",
    "plt.scatter(l_data[\"pca\"][l_data[\"label\"]==0][:, 0], l_data[\"pca\"][l_data[\"label\"]==0][:, 1], c = \"red\"       , label = \"Class 1\")\n",
    "plt.scatter(l_data[\"pca\"][l_data[\"label\"]==1][:, 0], l_data[\"pca\"][l_data[\"label\"]==1][:, 1], c = \"blue\"      , label = \"Class 2\")\n",
    "plt.scatter(l_data[\"pca\"][l_data[\"label\"]==2][:, 0], l_data[\"pca\"][l_data[\"label\"]==2][:, 1], c = \"lightgreen\", label = \"Class 3\")\n",
    "    \n",
    "plt.legend()\n",
    "   #\n",
    "plt.xlabel('Whatever X')\n",
    "plt.ylabel('Whatever Y')\n",
    "\n",
    "plt.show()\n",
    "    \n"
   ]
  },
  {
   "cell_type": "code",
   "execution_count": null,
   "id": "0b51ee74-602f-4999-8df2-94be83b61891",
   "metadata": {},
   "outputs": [],
   "source": [
    "\n",
    "#  Normalizing the data using LDA\n",
    "#\n",
    "\n",
    "l_lda = LDA(n_components = 2)                             #  2-dimensional LDA\n",
    "\n",
    "l_data[\"lda\"] = l_lda.fit_transform(l_data[\"xycoord\"], l_data[\"label\"])\n",
    "\n",
    "   #\n",
    "    \n",
    "plt.scatter(l_data[\"lda\"][l_data[\"label\"]==0][:, 0], l_data[\"lda\"][l_data[\"label\"]==0][:, 1], c = \"red\"       , label = \"Class 1\")\n",
    "plt.scatter(l_data[\"lda\"][l_data[\"label\"]==1][:, 0], l_data[\"lda\"][l_data[\"label\"]==1][:, 1], c = \"blue\"      , label = \"Class 2\")\n",
    "plt.scatter(l_data[\"lda\"][l_data[\"label\"]==2][:, 0], l_data[\"lda\"][l_data[\"label\"]==2][:, 1], c = \"lightgreen\", label = \"Class 3\")\n",
    "    \n",
    "plt.legend()\n",
    "   #\n",
    "plt.xlabel('Whatever X')\n",
    "plt.ylabel('Whatever Y')\n",
    "\n",
    "plt.show()\n"
   ]
  },
  {
   "cell_type": "code",
   "execution_count": null,
   "id": "c76c5ed5-3c5c-461d-9877-57a7580f71c2",
   "metadata": {},
   "outputs": [],
   "source": [
    "\n",
    "#  3 dimension example, not curated, does run\n",
    "#\n",
    "#  Frrom,\n",
    "#     https://matplotlib.org/stable/gallery/mplot3d/scatter3d.html#sphx-glr-gallery-mplot3d-scatter3d-py\n",
    "#\n",
    "\n",
    "#  import matplotlib.pyplot as plt\n",
    "#  import numpy as np\n",
    "\n",
    "# Fixing random state for reproducibility\n",
    "np.random.seed(19680801)\n",
    "\n",
    "\n",
    "def randrange(n, vmin, vmax):\n",
    "    return (vmax - vmin)*np.random.rand(n) + vmin\n",
    "\n",
    "fig = plt.figure()\n",
    "ax = fig.add_subplot(projection='3d')\n",
    "\n",
    "n = 100\n",
    "\n",
    "# For each set of style and range settings, plot n random points in the box\n",
    "# defined by x in [23, 32], y in [0, 100], z in [zlow, zhigh].\n",
    "for m, zlow, zhigh in [('o', -50, -25), ('^', -30, -5)]:\n",
    "   xs = randrange(n, 23, 32)\n",
    "   ys = randrange(n, 0, 100)\n",
    "   zs = randrange(n, zlow, zhigh)\n",
    "   ax.scatter(xs, ys, zs, marker=m)\n",
    "\n",
    "ax.set_xlabel('X Label')\n",
    "ax.set_ylabel('Y Label')\n",
    "ax.set_zlabel('Z Label')\n",
    "\n",
    "plt.show()\n"
   ]
  },
  {
   "cell_type": "code",
   "execution_count": null,
   "id": "baa0013e-50a5-4718-a56a-c654a0c1967e",
   "metadata": {},
   "outputs": [],
   "source": [
    "\n",
    "#  Linear regression plot\n",
    "#\n",
    "#  From,\n",
    "#     https://www.python-graph-gallery.com/scatterplot-with-regression-fit-in-matplotlib\n",
    "#\n",
    "\n",
    "rng = np.random.default_rng(1234)\n",
    "\n",
    "# Generate data\n",
    "x = rng.uniform(0, 10, size=100)\n",
    "y = x + rng.normal(size=100)\n",
    "\n",
    "# Initialize layout\n",
    "fig, ax = plt.subplots(figsize = (9, 9))\n",
    "\n",
    "# Add scatterplot\n",
    "ax.scatter(x, y, s=60, alpha=0.7, edgecolors=\"k\")\n",
    "\n",
    "# Fit linear regression via least squares with numpy.polyfit\n",
    "# It returns an slope (b) and intercept (a)\n",
    "# deg=1 means linear fit (i.e. polynomial of degree 1)\n",
    "b, a = np.polyfit(x, y, deg=1)\n",
    "\n",
    "# Create sequence of 100 numbers from 0 to 100 \n",
    "xseq = np.linspace(0, 10, num=100)\n",
    "\n",
    "# Plot regression line\n",
    "ax.plot(xseq, a + b * xseq, color=\"k\", lw=2.5);\n"
   ]
  },
  {
   "cell_type": "code",
   "execution_count": null,
   "id": "a446bd1a-fd60-4529-8551-62538604bfe1",
   "metadata": {},
   "outputs": [],
   "source": [
    "\n",
    "#  Simple 2-d chart\n",
    "#\n",
    "#  From,\n",
    "#     https://matplotlib.org/stable/gallery/ticks/ticklabels_rotation.html#sphx-glr-gallery-ticks-ticklabels-rotation-py\n",
    "#\n",
    "\n",
    "x = [1, 2, 3, 4]\n",
    "y = [1, 4, 9, 6]\n",
    "labels = ['Frogs', 'Hogs', 'Bogs', 'Slogs']\n",
    "\n",
    "plt.plot(x, y)\n",
    "\n",
    "# You can specify a rotation for the tick labels in degrees or with keywords.\n",
    "plt.xticks(x, labels, rotation='vertical')\n",
    "\n",
    "# Pad margins so that markers don't get clipped by the axes\n",
    "plt.margins(0.2)\n",
    "\n",
    "# Tweak spacing to prevent clipping of tick-labels\n",
    "plt.subplots_adjust(bottom=0.15)\n",
    "\n",
    "\n",
    "plt.show()\n"
   ]
  },
  {
   "cell_type": "code",
   "execution_count": 20,
   "id": "9306ba18-b1e8-494e-ac8b-ffc80d670247",
   "metadata": {},
   "outputs": [
    {
     "data": {
      "image/png": "[encoded data removed]",
      "text/plain": [
       "<Figure size 640x480 with 1 Axes>"
      ]
     },
     "metadata": {},
     "output_type": "display_data"
    }
   ],
   "source": [
    "\n",
    "#  My 2-d chart, applied\n",
    "#\n",
    "\n",
    "l_data = {}\n",
    "   #\n",
    "l_data[\"xycoord\"], l_data[\"label\"] = np.array([[1, 2, 3, 4],[ 1, 4, 9, 6]]), [100, 200, 300, 400]\n",
    "\n",
    "\n",
    "plt.plot(l_data[\"xycoord\"][0, :], l_data[\"xycoord\"][1, :])\n",
    "   #\n",
    "plt.xticks(l_data[\"xycoord\"][0, :], l_data[\"label\"], rotation = \"horizontal\")\n",
    "\n",
    "#  Pad margins so that markers don't get clipped by the axes\n",
    "#\n",
    "plt.margins(0.2)\n",
    "\n",
    "#  Tweak spacing to prevent clipping of tick-labels\n",
    "#\n",
    "plt.subplots_adjust(bottom = 0.05)\n",
    "\n",
    "plt.xlabel('Whatever X')\n",
    "plt.ylabel('Whatever Y')\n",
    "\n",
    "\n",
    "plt.show()\n",
    "\n"
   ]
  },
  {
   "cell_type": "code",
   "execution_count": null,
   "id": "797f8302-5d44-4c6e-800e-4584f622d755",
   "metadata": {},
   "outputs": [],
   "source": []
  },
  {
   "cell_type": "code",
   "execution_count": null,
   "id": "e015b5ca-170b-4e77-ab26-26f3cac3203a",
   "metadata": {},
   "outputs": [],
   "source": []
  }
 ],
 "metadata": {
  "kernelspec": {
   "display_name": "Python 3 (ipykernel)",
   "language": "python",
   "name": "python3"
  },
  "language_info": {
   "codemirror_mode": {
    "name": "ipython",
    "version": 3
   },
   "file_extension": ".py",
   "mimetype": "text/x-python",
   "name": "python",
   "nbconvert_exporter": "python",
   "pygments_lexer": "ipython3",
   "version": "3.8.13"
  }
 },
 "nbformat": 4,
 "nbformat_minor": 5
}
