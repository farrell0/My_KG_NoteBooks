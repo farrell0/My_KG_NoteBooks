{
 "cells": [
  {
   "cell_type": "code",
   "execution_count": null,
   "id": "064cde52-a7e1-486e-a7c4-3ce3aaaa01da",
   "metadata": {},
   "outputs": [],
   "source": [
    "\n",
    "#  This NoteBook contains cdoe from the Ch 04 folder ..\n",
    "#\n",
    "\n"
   ]
  },
  {
   "cell_type": "code",
   "execution_count": 2,
   "id": "0ba7589c-6f1e-4f5c-a37b-21f8944c2499",
   "metadata": {},
   "outputs": [
    {
     "name": "stdout",
     "output_type": "stream",
     "text": [
      "The autoreload extension is already loaded. To reload it, use:\n",
      "  %reload_ext autoreload\n",
      "Exception reporting mode: Minimal\n"
     ]
    },
    {
     "data": {
      "text/html": [],
      "text/plain": [
       "<IPython.core.display.HTML object>"
      ]
     },
     "metadata": {},
     "output_type": "display_data"
    },
    {
     "name": "stdout",
     "output_type": "stream",
     "text": [
      "--\n"
     ]
    }
   ],
   "source": [
    "\n",
    "#  Largely code to control how print statements and related work\n",
    "#\n",
    "\n",
    "%load_ext autoreload\n",
    "%autoreload 2\n",
    "\n",
    "%xmode Minimal\n",
    "\n",
    "\n",
    "#  Setting display options \n",
    "#\n",
    "import pandas as pd\n",
    "pd.set_option(\"display.width\", 640)\n",
    "   #\n",
    "import numpy as np\n",
    "np.set_printoptions(edgeitems = 30, linewidth = 100000, \n",
    "   formatter = dict(float = lambda x: \"%.3g\" % x))\n",
    "\n",
    "#  Sets horizontal scroll for wide outputs\n",
    "#\n",
    "from IPython.display import display, HTML\n",
    "display(HTML(\"\"))\n",
    "\n",
    "   ###\n",
    "    \n",
    "from tabulate import tabulate\n",
    "#\n",
    "#  How to use tabulate-\n",
    "#\n",
    "#  l_result = [{ \"col1\": 20, \"col2\": 30}]\n",
    "#  #\n",
    "#  print(tabulate(l_result, headers='keys', tablefmt='psql', showindex=False))\n",
    "\n",
    "print(\"--\")\n"
   ]
  },
  {
   "cell_type": "code",
   "execution_count": 3,
   "id": "a97391a1-f5a5-47b3-b21b-e081735b9a1d",
   "metadata": {},
   "outputs": [
    {
     "data": {
      "image/png": "[encoded data removed]",
      "text/plain": [
       "<Figure size 640x480 with 1 Axes>"
      ]
     },
     "metadata": {},
     "output_type": "display_data"
    },
    {
     "name": "stdout",
     "output_type": "stream",
     "text": [
      "--\n"
     ]
    }
   ],
   "source": [
    "\n",
    "\n",
    "import numpy as np\n",
    "import matplotlib.pyplot as plt \n",
    "\n",
    "d = [[ 0.6930, -1.1259, -1.5318,  0.9525,  1.1824],\n",
    "     [ 0.5464, -0.0120,  0.5051, -0.0192, -0.1141],\n",
    "     [ 0.8912,  1.3826,  1.5193, -1.1996, -1.1403],\n",
    "     [ 1.1690,  0.4970, -0.1712, -0.5340,  0.3047],\n",
    "     [-0.9221, -0.1071,  0.3079, -0.3885, -0.4753],\n",
    "     [ 1.5699, -1.4767,  0.3327,  1.4714,  1.1807],\n",
    "     [-0.3479,  0.4775,  1.8823, -1.4031, -0.7396],\n",
    "     [ 0.0887, -0.4353, -1.7377, -1.2349,  1.7456],\n",
    "     [ 1.0775,  0.9524,  1.2475,  0.7291, -1.1207],\n",
    "     [-1.4657,  0.9250, -1.0446,  0.4262, -1.0279],\n",
    "     [-1.3332,  1.4501,  0.0323,  1.1102, -0.8966],\n",
    "     [ 0.3005, -1.4500, -0.2615,  1.7033, -0.2505],\n",
    "     [-1.4377, -0.2472, -0.4340, -0.7032,  0.3362],\n",
    "     [ 0.3016, -1.5527, -0.6213,  0.1780, -0.7517],\n",
    "     [-1.1315,  0.7225, -0.0250, -1.0881,  1.7674]]\n",
    "\n",
    "d = np.array(d)\n",
    "\n",
    "plt.boxplot(d)\n",
    "plt.show()\n",
    "\n",
    "print(\"--\")\n"
   ]
  },
  {
   "cell_type": "code",
   "execution_count": 4,
   "id": "b0f6ceac-02ce-4c04-9fe1-a8747abc3d28",
   "metadata": {},
   "outputs": [
    {
     "name": "stdout",
     "output_type": "stream",
     "text": [
      "[2 3 5 6 7 4 8 7 6 0]\n",
      "\n",
      "[[0.118 0.177 0.295 0.354 0.412 0.236 0.471 0.412 0.354 0]]\n",
      "\n",
      "[[2 3]\n",
      " [5 6]\n",
      " [7 4]\n",
      " [8 7]\n",
      " [6 0]]\n",
      "\n",
      "[[0.555 0.832]\n",
      " [0.64 0.768]\n",
      " [0.868 0.496]\n",
      " [0.753 0.659]\n",
      " [1 0]]\n",
      "\n"
     ]
    }
   ],
   "source": [
    "\n",
    "from sklearn import preprocessing\n",
    "import numpy as np\n",
    "\n",
    "x_arr = np.array([2,3,5,6,7,4,8,7,6,0])\n",
    "\n",
    "#  headers = [\"col 1\", \"col 2\", \"col 3\", \"c4\", \"c5\", \"c6\", \"c7\", \"c8\"]\n",
    "#  print(tabulate(x_array, headers, tablefmt='fancy_grid'))\n",
    "\n",
    "print(x_arr)\n",
    "print()\n",
    "\n",
    "norm_arr = preprocessing.normalize([x_arr])\n",
    "print(norm_arr)\n",
    "print()\n",
    "\n",
    "x_arr2 = x_arr.reshape((5, 2))\n",
    "print(x_arr2)\n",
    "print()\n",
    "\n",
    "x_arr2_norm = preprocessing.normalize(x_arr2)\n",
    "print(x_arr2_norm)\n",
    "print()\n"
   ]
  },
  {
   "cell_type": "code",
   "execution_count": 5,
   "id": "2a32fec0-f634-4238-b897-452752cc2ef5",
   "metadata": {},
   "outputs": [
    {
     "name": "stdout",
     "output_type": "stream",
     "text": [
      "[0 4.5 4.5 9]\n",
      "\n",
      "[[0 0.408 0.408 0.816]]\n",
      "\n"
     ]
    }
   ],
   "source": [
    "\n",
    "x_arr = np.array([0, 4.5, 4.5,  9])\n",
    "print(x_arr)\n",
    "print()\n",
    "\n",
    "norm_arr = preprocessing.normalize([x_arr])\n",
    "print(norm_arr)\n",
    "print()\n",
    "\n",
    "\n"
   ]
  },
  {
   "cell_type": "code",
   "execution_count": null,
   "id": "5241e54e-5844-4081-9708-14fffe524047",
   "metadata": {},
   "outputs": [],
   "source": [
    "\n",
    "#######################################################################\n"
   ]
  },
  {
   "cell_type": "code",
   "execution_count": 6,
   "id": "9f8fc740-5bf7-457f-9939-92f87f872b94",
   "metadata": {},
   "outputs": [
    {
     "name": "stdout",
     "output_type": "stream",
     "text": [
      "--\n"
     ]
    }
   ],
   "source": [
    "\n",
    "import numpy as np\n",
    "from sklearn.datasets import make_classification\n",
    "\n",
    "a,b = make_classification(n_samples=10000, weights=(0.9,0.1))\n",
    "idx = np.where(b == 0)[0]\n",
    "x0 = a[idx,:]\n",
    "y0 = b[idx]\n",
    "idx = np.where(b == 1)[0]\n",
    "x1 = a[idx,:]\n",
    "y1 = b[idx]\n",
    "\n",
    "idx = np.argsort(np.random.random(y0.shape))\n",
    "y0 = y0[idx]\n",
    "x0 = x0[idx]\n",
    "idx = np.argsort(np.random.random(y1.shape))\n",
    "y1 = y1[idx]\n",
    "x1 = x1[idx]\n",
    "\n",
    "ntrn0 = int(0.9*x0.shape[0])\n",
    "ntrn1 = int(0.9*x1.shape[0])\n",
    "xtrn = np.zeros((int(ntrn0+ntrn1),20))\n",
    "ytrn = np.zeros(int(ntrn0+ntrn1))\n",
    "xtrn[:ntrn0] = x0[:ntrn0]\n",
    "xtrn[ntrn0:] = x1[:ntrn1]\n",
    "ytrn[:ntrn0] = y0[:ntrn0]\n",
    "ytrn[ntrn0:] = y1[:ntrn1]\n",
    "\n",
    "n0 = int(x0.shape[0]-ntrn0)\n",
    "n1 = int(x1.shape[0]-ntrn1)\n",
    "xval = np.zeros((int(n0/2+n1/2),20))\n",
    "yval = np.zeros(int(n0/2+n1/2))\n",
    "xval[:(n0//2)] = x0[ntrn0:(ntrn0+n0//2)]\n",
    "xval[(n0//2):] = x1[ntrn1:(ntrn1+n1//2)]\n",
    "yval[:(n0//2)] = y0[ntrn0:(ntrn0+n0//2)]\n",
    "yval[(n0//2):] = y1[ntrn1:(ntrn1+n1//2)]\n",
    "\n",
    "xtst = np.concatenate((x0[(ntrn0+n0//2):],x1[(ntrn1+n1//2):]))\n",
    "ytst = np.concatenate((y0[(ntrn0+n0//2):],y1[(ntrn1+n1//2):]))\n",
    "\n",
    "print(\"--\")\n"
   ]
  },
  {
   "cell_type": "code",
   "execution_count": 7,
   "id": "0bbcbfb6-f3a3-48d2-8648-d8090d280357",
   "metadata": {},
   "outputs": [
    {
     "name": "stdout",
     "output_type": "stream",
     "text": [
      "--\n"
     ]
    }
   ],
   "source": [
    "\n",
    "import numpy as np\n",
    "from sklearn.datasets import make_classification\n",
    "\n",
    "x,y = make_classification(n_samples=10000, weights=(0.9,0.1))\n",
    "idx = np.argsort(np.random.random(y.shape[0]))\n",
    "x = x[idx]\n",
    "y = y[idx]\n",
    "\n",
    "ntrn = int(0.9*y.shape[0])\n",
    "nval = int(0.05*y.shape[0])\n",
    "\n",
    "xtrn = x[:ntrn]\n",
    "ytrn = y[:ntrn]\n",
    "xval = x[ntrn:(ntrn+nval)]\n",
    "yval = y[ntrn:(ntrn+nval)]\n",
    "xtst = x[(ntrn+nval):]\n",
    "ytst = y[(ntrn+nval):]\n",
    "\n",
    "print(\"--\")\n"
   ]
  },
  {
   "cell_type": "code",
   "execution_count": 8,
   "id": "8b509e2b-9869-4490-8c7f-a3a5fe27b904",
   "metadata": {},
   "outputs": [
    {
     "name": "stdout",
     "output_type": "stream",
     "text": [
      "mean  = 2.3519\n",
      "std   = 1.3128\n",
      "SE    = 0.3390\n",
      "median= 2.3190\n",
      "min   = 0.0705\n",
      "max   = 4.8231\n",
      "--\n"
     ]
    }
   ],
   "source": [
    "\n",
    "import numpy as np\n",
    "\n",
    "f = [0.3408,3.0150,4.3465,2.1271,2.7561,\n",
    "     2.7887,4.8231,0.0705,3.9897,0.9804,\n",
    "     2.3944,2.0085,1.7821,1.5362,2.3190]\n",
    "f = np.array(f)\n",
    "\n",
    "print\n",
    "print(\"mean  = %0.4f\" % f.mean())\n",
    "print(\"std   = %0.4f\" % f.std())\n",
    "print(\"SE    = %0.4f\" % (f.std()/np.sqrt(f.shape[0])))\n",
    "print(\"median= %0.4f\" % np.median(f))\n",
    "print(\"min   = %0.4f\" % f.min())\n",
    "print(\"max   = %0.4f\" % f.max())\n",
    "\n",
    "print(\"--\")\n"
   ]
  }
 ],
 "metadata": {
  "kernelspec": {
   "display_name": "Python 3 (ipykernel)",
   "language": "python",
   "name": "python3"
  },
  "language_info": {
   "codemirror_mode": {
    "name": "ipython",
    "version": 3
   },
   "file_extension": ".py",
   "mimetype": "text/x-python",
   "name": "python",
   "nbconvert_exporter": "python",
   "pygments_lexer": "ipython3",
   "version": "3.8.13"
  }
 },
 "nbformat": 4,
 "nbformat_minor": 5
}
