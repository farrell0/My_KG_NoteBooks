{
 "cells": [
  {
   "cell_type": "code",
   "execution_count": null,
   "id": "a0f7be24-0bb1-4f9f-8dd7-bd0f57400fd5",
   "metadata": {},
   "outputs": [],
   "source": [
    "\n",
    "import sys\n",
    "import subprocess\n",
    "    \n",
    "try:\n",
    "   import yfinance\n",
    "except:\n",
    "   subprocess.check_call([sys.executable, \"-m\", \"pip\", \"install\", \"yfinance\"])\n",
    "   import yfinance\n",
    "    \n",
    "    \n",
    "print(\"--\")\n"
   ]
  },
  {
   "cell_type": "code",
   "execution_count": 18,
   "id": "68c3db26-094f-494f-9557-5004b1b5d174",
   "metadata": {},
   "outputs": [
    {
     "name": "stdout",
     "output_type": "stream",
     "text": [
      "Stock listing ..\n",
      "\n",
      "Account: Contributory\n",
      "   Stock: BA       205.57     21584.71\n",
      "Account: Contributory\n",
      "   Stock: BA       205.57    128480.44\n",
      "   Stock: MDB      238.62    827056.92\n",
      "\n",
      "Grand total:    977122.07\n",
      "\n",
      "\n"
     ]
    }
   ],
   "source": [
    "\n",
    "l_stocks = [\n",
    "   {\"acct\": \"Individual\"  , \"stock\": \"BA\" , \"qty\": 105 },\n",
    "   {\"acct\": \"Contributory\", \"stock\": \"BA\" , \"qty\": 625 },\n",
    "   {\"acct\": \"Contributory\", \"stock\": \"MDB\", \"qty\": 3466},\n",
    "   ]\n",
    "\n",
    "\n",
    "############################################\n",
    "\n",
    "\n",
    "l_gtotal = 0\n",
    "\n",
    "print(\"Stock listing ..\")\n",
    "print()\n",
    "   #\n",
    "for t in [ \"Individual\", \"Contributory\" ]:\n",
    "   print(\"Account: %s\" % (v[\"acct\"]) )\n",
    "   for v in l_stocks:\n",
    "      if (t == v[\"acct\"]):\n",
    "         l_price = yf.Ticker(v[\"stock\"]).info[\"currentPrice\"]\n",
    "         l_total = l_price * v[\"qty\"]\n",
    "         l_gtotal += l_total\n",
    "         print(\"   Stock: %-6s   %-6.2f   %10.2f\" % (v[\"stock\"], l_price, l_total) )\n",
    "\n",
    "print()\n",
    "print(\"Grand total: %12.2f\" % (l_gtotal) )\n",
    "print()\n",
    "print()\n"
   ]
  },
  {
   "cell_type": "code",
   "execution_count": null,
   "id": "5cbf6352-30ad-4905-99c4-7e41db4e00a6",
   "metadata": {},
   "outputs": [],
   "source": []
  },
  {
   "cell_type": "code",
   "execution_count": null,
   "id": "8973002e-0567-4695-8ee4-42ec0226b563",
   "metadata": {},
   "outputs": [],
   "source": []
  }
 ],
 "metadata": {
  "kernelspec": {
   "display_name": "Python 3 (ipykernel)",
   "language": "python",
   "name": "python3"
  },
  "language_info": {
   "codemirror_mode": {
    "name": "ipython",
    "version": 3
   },
   "file_extension": ".py",
   "mimetype": "text/x-python",
   "name": "python",
   "nbconvert_exporter": "python",
   "pygments_lexer": "ipython3",
   "version": "3.8.13"
  }
 },
 "nbformat": 4,
 "nbformat_minor": 5
}
