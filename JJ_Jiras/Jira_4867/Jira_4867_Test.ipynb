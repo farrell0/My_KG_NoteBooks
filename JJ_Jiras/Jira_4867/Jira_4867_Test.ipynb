{
 "cells": [
  {
   "cell_type": "code",
   "execution_count": null,
   "id": "6badeeca-ab5c-4a50-be3e-8be25cc7ee81",
   "metadata": {},
   "outputs": [],
   "source": [
    "\n",
    "from tabulate import tabulate\n",
    "import pandas as pd\n",
    "   #\n",
    "pd.set_option(\"display.width\", 480)\n",
    "\n",
    "print(\"--\")\n"
   ]
  },
  {
   "cell_type": "code",
   "execution_count": null,
   "id": "55e90465-e651-45c0-94b2-1ce2cde47977",
   "metadata": {},
   "outputs": [],
   "source": [
    "\n",
    "from katana import remote\n",
    "\n",
    "my_client = remote.Client()\n",
    "\n",
    "print(my_client)\n"
   ]
  },
  {
   "cell_type": "code",
   "execution_count": 24,
   "id": "04b19ed9-0238-4a6f-afd0-fa11a3b0328b",
   "metadata": {},
   "outputs": [
    {
     "name": "stdout",
     "output_type": "stream",
     "text": [
      "--\n"
     ]
    }
   ],
   "source": [
    "NUM_PARTITIONS  = 3\n",
    "   #\n",
    "DB_NAME         = \"my_db\"\n",
    "GRAPH_NAME      = \"my_graph\"\n",
    "\n",
    "\n",
    "l_cntr = 20\n",
    "\n",
    "\n",
    "print(\"--\")\n"
   ]
  },
  {
   "cell_type": "code",
   "execution_count": null,
   "id": "60449360-363a-48ae-bd55-9527b880e3e5",
   "metadata": {},
   "outputs": [],
   "source": [
    "#  CONNECT TO GRAPH\n",
    "\n",
    "for l_graph in my_client.get_database(name=DB_NAME).graphs_in_database():\n",
    "   if (l_graph.name == GRAPH_NAME):\n",
    "      my_graph=my_client.get_database(name=DB_NAME).get_graph_by_id(id=l_graph.graph_id)\n",
    "         #\n",
    "      break\n",
    "\n",
    "print(my_graph)"
   ]
  },
  {
   "cell_type": "code",
   "execution_count": null,
   "id": "f7d7a993-0544-4474-87be-f903d12154a3",
   "metadata": {},
   "outputs": [],
   "source": [
    "######################################################"
   ]
  },
  {
   "cell_type": "code",
   "execution_count": null,
   "id": "0aaccb30-5098-4fd9-a083-5363c083cb6e",
   "metadata": {},
   "outputs": [],
   "source": [
    "\n",
    "#  graph.project() is used to create a homogenous group, from a heterogeneous one,\n",
    "#  necessary to support some analytics\n",
    "#\n",
    "#  Here we'll add stuff to the graph to make it heterogeneous.\n",
    "\n",
    "\n",
    "l_query = \"\"\"\n",
    "   CREATE ( n: Restaurant { restaurant_code: 'PAP' } )               //  Notice single curly braces\n",
    "   SET n.restaurant_name = 'Pappadeauxs Seafood Kitchen' \n",
    "   \"\"\"\n",
    "      #\n",
    "display(l_result1 = my_graph.query(l_query))\n",
    "\n",
    "l_query = \"\"\"\n",
    "   MATCH\n",
    "      (n: Airport   ),\n",
    "      (m: Restaurant)\n",
    "   WHERE n.airport_code     = 'SJC'\n",
    "   AND   m.restaurant_code  = 'PAP'\n",
    "   CREATE (n) -[r: ATTRACTION { DRIVABLE: 'Yes' }]-> (m)\n",
    "   \"\"\"\n",
    "      #\n",
    "display(l_result2 = my_graph.query(l_query))\n"
   ]
  },
  {
   "cell_type": "code",
   "execution_count": null,
   "id": "668b4983-da93-44a8-99ac-7b3ffcf1998c",
   "metadata": {},
   "outputs": [],
   "source": [
    "\n",
    "l_result1 = my_graph.query(\n",
    "   \"\"\"\n",
    "   MATCH (n) \n",
    "   RETURN n\n",
    "   \"\"\" )\n",
    "print(tabulate(l_result1, headers='keys', tablefmt='psql'))\n",
    "\n",
    "l_result2 = my_graph.query(\n",
    "   \"\"\"\n",
    "   MATCH (n) - [r] -> (m)\n",
    "   RETURN r\n",
    "   \"\"\" )\n",
    "print(tabulate(l_result2, headers='keys', tablefmt='psql'))\n"
   ]
  },
  {
   "cell_type": "code",
   "execution_count": null,
   "id": "5ab9e2c2-eadf-4077-92d8-39acc7fd693a",
   "metadata": {},
   "outputs": [],
   "source": [
    "######################################################"
   ]
  },
  {
   "cell_type": "code",
   "execution_count": null,
   "id": "b1ee00b6-5ec9-4e62-be7f-2a16f10b17e5",
   "metadata": {},
   "outputs": [],
   "source": [
    "\n",
    "my_projection = my_graph.project(node_types=['Airport'], edge_types=['FLIES_TO'])\n",
    "\n",
    "print(\"--\")\n"
   ]
  },
  {
   "cell_type": "code",
   "execution_count": null,
   "id": "8970465b-47b9-4337-8e55-85fee1bf9c93",
   "metadata": {},
   "outputs": [],
   "source": [
    "\n",
    "\n",
    "l_result1 = my_projection.query(\n",
    "   \"\"\"\n",
    "   MATCH (n) \n",
    "   RETURN n\n",
    "   \"\"\" )\n",
    "print(tabulate(l_result1, headers='keys', tablefmt='psql'))\n",
    "\n",
    "l_result2 = my_projection.query(\n",
    "   \"\"\"\n",
    "   MATCH (n) - [r] -> (m)\n",
    "   RETURN r\n",
    "   \"\"\" )\n",
    "print(tabulate(l_result2, headers='keys', tablefmt='psql'))\n",
    "\n",
    "#     OperationError: HaMw4a3njMMSvgQSnd2RL7r15TaavDnSvm1JePSRUjnh-5YoXGVdvYnT1L1qB5 Projected views are not supported for query operation yet. (QueryOperation.cpp:27): not implemented: not implemented\n",
    "\n"
   ]
  },
  {
   "cell_type": "code",
   "execution_count": 25,
   "id": "ec7fd94f-0482-4b58-bf0f-99df8b7f328f",
   "metadata": {},
   "outputs": [
    {
     "ename": "NameError",
     "evalue": "name 'analytics' is not defined",
     "output_type": "error",
     "traceback": [
      "\u001b[0;31m---------------------------------------------------------------------------\u001b[0m",
      "\u001b[0;31mNameError\u001b[0m                                 Traceback (most recent call last)",
      "Cell \u001b[0;32mIn [25], line 8\u001b[0m\n\u001b[1;32m      4\u001b[0m    \u001b[38;5;66;03m#\u001b[39;00m\n\u001b[1;32m      5\u001b[0m l_output_propname     \u001b[38;5;241m=\u001b[39m \u001b[38;5;124m\"\u001b[39m\u001b[38;5;124mbetweenness_\u001b[39m\u001b[38;5;124m\"\u001b[39m \u001b[38;5;241m+\u001b[39m \u001b[38;5;28mstr\u001b[39m(l_cntr)\u001b[38;5;241m.\u001b[39mzfill(\u001b[38;5;241m4\u001b[39m)\n\u001b[0;32m----> 8\u001b[0m l_result \u001b[38;5;241m=\u001b[39m \u001b[43manalytics\u001b[49m\u001b[38;5;241m.\u001b[39mbetweenness_centrality(my_projection, result_property_name\u001b[38;5;241m=\u001b[39ml_output_propname, num_sources\u001b[38;5;241m=\u001b[39m\u001b[38;5;241m1000\u001b[39m)\n\u001b[1;32m     10\u001b[0m \u001b[38;5;28mprint\u001b[39m(l_result)\n",
      "\u001b[0;31mNameError\u001b[0m: name 'analytics' is not defined"
     ]
    }
   ],
   "source": [
    "\n",
    "#  Generate a unique prop name so we can run this over and over without edit ..\n",
    "#\n",
    "l_cntr += 1\n",
    "   #\n",
    "l_output_propname     = \"betweenness_\" + str(l_cntr).zfill(4)\n",
    "\n",
    "\n",
    "l_result = analytics.betweenness_centrality(my_projection, result_property_name=l_output_propname, num_sources=1000)\n",
    "\n",
    "print(l_result)\n",
    "\n"
   ]
  },
  {
   "cell_type": "code",
   "execution_count": null,
   "id": "09749dcf-5fac-47eb-b628-68f3d02320f4",
   "metadata": {},
   "outputs": [],
   "source": [
    "\n",
    "result = graph.query(f\"\"\"\n",
    "    MATCH (n)\n",
    "    RETURN n, n.{prop_name}\n",
    "    ORDER BY n.{prop_name} DESC\n",
    "    \"\"\", contextualize=True)\n",
    "\n",
    "result.view()\n"
   ]
  },
  {
   "cell_type": "code",
   "execution_count": null,
   "id": "be03153a-e17d-4c84-8344-11a63cd79be9",
   "metadata": {},
   "outputs": [],
   "source": []
  },
  {
   "cell_type": "code",
   "execution_count": null,
   "id": "1abab1f6-edb5-40cd-93a6-2a8762dacd83",
   "metadata": {},
   "outputs": [],
   "source": []
  },
  {
   "cell_type": "code",
   "execution_count": null,
   "id": "c2ed5128-b247-47d4-aee9-e59b3de6acbd",
   "metadata": {},
   "outputs": [],
   "source": []
  },
  {
   "cell_type": "code",
   "execution_count": null,
   "id": "2bae98d8-2215-40b9-97e3-90d32c5bca0b",
   "metadata": {},
   "outputs": [],
   "source": []
  }
 ],
 "metadata": {
  "kernelspec": {
   "display_name": "Python 3 (ipykernel)",
   "language": "python",
   "name": "python3"
  },
  "language_info": {
   "codemirror_mode": {
    "name": "ipython",
    "version": 3
   },
   "file_extension": ".py",
   "mimetype": "text/x-python",
   "name": "python",
   "nbconvert_exporter": "python",
   "pygments_lexer": "ipython3",
   "version": "3.8.13"
  }
 },
 "nbformat": 4,
 "nbformat_minor": 5
}
