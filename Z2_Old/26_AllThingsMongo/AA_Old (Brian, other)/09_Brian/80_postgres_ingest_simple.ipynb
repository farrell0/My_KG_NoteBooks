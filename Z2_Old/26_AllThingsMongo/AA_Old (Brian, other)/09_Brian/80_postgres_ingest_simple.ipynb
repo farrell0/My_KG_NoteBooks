{
 "cells": [
  {
   "cell_type": "markdown",
   "id": "575cf868-2906-4d34-acbc-18bee005eacf",
   "metadata": {},
   "source": [
    "# Load Postgres database into Katana Graph"
   ]
  },
  {
   "cell_type": "markdown",
   "id": "b459e9fe-9330-4320-8ddd-08a443655264",
   "metadata": {},
   "source": [
    "This notebook uses a small dataset of 20 nodes with just id values (no other properties exist) and ~350 edges which solely consist of start_id and end_id values (i.e. tuples)."
   ]
  },
  {
   "cell_type": "code",
   "execution_count": null,
   "id": "dd91baeb-38eb-4cd9-ad1a-d4f40d9c25c9",
   "metadata": {},
   "outputs": [],
   "source": [
    "import os\n",
    "import psycopg2\n",
    "import pandas as pd\n",
    "from katana import remote\n",
    "from katana.remote import import_data\n",
    "import dask.dataframe as dd\n",
    "os.environ[\"KATANA_SERVER_ADDRESS\"] = \"host.docker.internal:8080\""
   ]
  },
  {
   "cell_type": "code",
   "execution_count": null,
   "id": "62f98534-2866-4194-8afe-dfa5babac1a0",
   "metadata": {},
   "outputs": [],
   "source": [
    "graph = remote.Client().create_graph(\n",
    "    num_partitions=3\n",
    ")"
   ]
  },
  {
   "cell_type": "code",
   "execution_count": null,
   "id": "496ab938-b63c-4a66-9ff6-2f0fa9825314",
   "metadata": {},
   "outputs": [],
   "source": [
    "conn = psycopg2.connect(\n",
    "    host=\"katana-db-1\",\n",
    "    database=\"test\",\n",
    "    user=\"postgres\",\n",
    "    password=\"abc123\")"
   ]
  },
  {
   "cell_type": "code",
   "execution_count": null,
   "id": "c6b7f882-0906-4be5-a955-e60c4ba35b50",
   "metadata": {},
   "outputs": [],
   "source": [
    "print(conn)"
   ]
  },
  {
   "cell_type": "code",
   "execution_count": null,
   "id": "e939cd7d-39d7-4aba-aa68-8808358923ab",
   "metadata": {},
   "outputs": [],
   "source": [
    "cur = conn.cursor()"
   ]
  },
  {
   "cell_type": "code",
   "execution_count": null,
   "id": "db75e9e3-f6be-4d5b-9657-25b6795e9ffa",
   "metadata": {},
   "outputs": [],
   "source": [
    "cur.execute(\"SELECT * FROM test0\")"
   ]
  },
  {
   "cell_type": "code",
   "execution_count": null,
   "id": "e993601f-47b4-47e0-b9c3-b7d9e7a4d70d",
   "metadata": {},
   "outputs": [],
   "source": [
    "test0 = pd.DataFrame(cur.fetchall())"
   ]
  },
  {
   "cell_type": "code",
   "execution_count": null,
   "id": "6903f2bc-14f2-4752-9f25-50e3837d72ef",
   "metadata": {},
   "outputs": [],
   "source": [
    "test0 = test0.rename(columns={0:\"test_id\"})"
   ]
  },
  {
   "cell_type": "code",
   "execution_count": null,
   "id": "58a33a0e-8456-43e0-a060-9578ca879ce9",
   "metadata": {},
   "outputs": [],
   "source": [
    "cur.execute(\"SELECT * FROM test1\")"
   ]
  },
  {
   "cell_type": "code",
   "execution_count": null,
   "id": "f71fc240-15ed-498a-9e19-21387844263c",
   "metadata": {},
   "outputs": [],
   "source": [
    "test1 = pd.DataFrame(cur.fetchall())"
   ]
  },
  {
   "cell_type": "code",
   "execution_count": null,
   "id": "f97700f0-cbe8-4639-8c99-588e147690a3",
   "metadata": {},
   "outputs": [],
   "source": [
    "test1 = test1.rename(columns={0:\"orig\",1:\"term\"})"
   ]
  },
  {
   "cell_type": "code",
   "execution_count": null,
   "id": "44cc85f4-1df8-4d6a-beff-7530fef96213",
   "metadata": {},
   "outputs": [],
   "source": [
    "%%time\n",
    "with import_data.DataFrameImporter(graph) as df_importer:   \n",
    "    \n",
    "    df_importer.nodes_dataframe(test0,\n",
    "                            id_column=\"test_id\",\n",
    "                            id_space=\"Test\",\n",
    "                            label=\"Test\")\n",
    "    \n",
    "    df_importer.edges_dataframe(test1[['orig', 'term']],\n",
    "                            source_id_space=\"Test\",\n",
    "                            destination_id_space=\"Test\",\n",
    "                            source_column=\"orig\",\n",
    "                            destination_column=\"term\",\n",
    "                            type=\"TEST\")"
   ]
  },
  {
   "cell_type": "code",
   "execution_count": null,
   "id": "d5714442-2189-4322-8cd2-f3b964e12aac",
   "metadata": {},
   "outputs": [],
   "source": [
    "graph.query(\"MATCH (n) RETURN n\", contextualize=True).view()"
   ]
  }
 ],
 "metadata": {
  "kernelspec": {
   "display_name": "Python 3 (ipykernel)",
   "language": "python",
   "name": "python3"
  },
  "language_info": {
   "codemirror_mode": {
    "name": "ipython",
    "version": 3
   },
   "file_extension": ".py",
   "mimetype": "text/x-python",
   "name": "python",
   "nbconvert_exporter": "python",
   "pygments_lexer": "ipython3",
   "version": "3.8.13"
  }
 },
 "nbformat": 4,
 "nbformat_minor": 5
}
