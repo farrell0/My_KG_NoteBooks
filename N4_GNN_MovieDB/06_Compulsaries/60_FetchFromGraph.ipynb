{
 "cells": [
  {
   "cell_type": "code",
   "execution_count": 1,
   "id": "d776f754-ef98-4cbd-a423-647c483341ce",
   "metadata": {},
   "outputs": [],
   "source": [
    "\n",
    "#  Here we demonstrate the following Dask DataFrame techniques;\n",
    "#\n",
    "#     .  Test, How to fetch data from a graph\n",
    "#\n"
   ]
  },
  {
   "cell_type": "markdown",
   "id": "9fb5f518-6e7b-4b73-a833-f8ea40262866",
   "metadata": {},
   "source": [
    "#  Part 01:  Setup, generate data"
   ]
  },
  {
   "cell_type": "code",
   "execution_count": 2,
   "id": "682150e3-6a50-4197-a239-80d1d2ea6edd",
   "metadata": {},
   "outputs": [
    {
     "name": "stdout",
     "output_type": "stream",
     "text": [
      "--\n"
     ]
    }
   ],
   "source": [
    "\n",
    "NUM_PARTITIONS  = 3\n",
    "   #\n",
    "NUM_ROWS        = 40000\n",
    "\n",
    "print(\"--\")\n"
   ]
  },
  {
   "cell_type": "code",
   "execution_count": 3,
   "id": "0416c10d-a1cb-433d-ad5e-85498aaa1744",
   "metadata": {},
   "outputs": [
    {
     "name": "stdout",
     "output_type": "stream",
     "text": [
      "--\n"
     ]
    }
   ],
   "source": [
    "\n",
    "import numpy as np\n",
    "import pandas as pd\n",
    "   #\n",
    "import dask.dataframe as dd\n",
    "   #\n",
    "from dask.dataframe import from_pandas\n",
    "\n",
    "from tabulate import tabulate\n",
    "\n",
    "print(\"--\")\n"
   ]
  },
  {
   "cell_type": "code",
   "execution_count": 4,
   "id": "c4c88322-8b40-4c26-9b01-60fadd32cdd8",
   "metadata": {},
   "outputs": [
    {
     "name": "stdout",
     "output_type": "stream",
     "text": [
      "Row (1) of (40000) total rows.   Col1: (   0)   Col2: (Item number: 0)\n",
      "Row (2) of (40000) total rows.   Col1: (   1)   Col2: (Item number: 1)\n",
      "Row (3) of (40000) total rows.   Col1: (   2)   Col2: (Item number: 2)\n",
      "Row (4) of (40000) total rows.   Col1: (   3)   Col2: (Item number: 3)\n",
      "--\n"
     ]
    }
   ],
   "source": [
    "\n",
    "\n",
    "#  Generates (NUM_ROWS) rows of data\n",
    "#\n",
    "\n",
    "l_row = {\"col1\": list(), \"col2\": list()}\n",
    "   #\n",
    "for l_cntr in range(NUM_ROWS):\n",
    "   l_row[\"col1\"].append(l_cntr)\n",
    "   l_row[\"col2\"].append(\"Item number: \" + str(l_cntr))\n",
    "    \n",
    "pd_data = pd.DataFrame(l_row, columns = [\"col1\", \"col2\"])\n",
    "dd_data = from_pandas(pd_data, npartitions = NUM_PARTITIONS)\n",
    "\n",
    "\n",
    "l_cntr = 0\n",
    "   #\n",
    "for l_each in dd_data.itertuples():\n",
    "   l_cntr += 1\n",
    "      #\n",
    "   if (l_cntr <5):\n",
    "      print(\"Row (%d) of (%d) total rows.   Col1: (%4d)   Col2: (%s)\" % (l_cntr, len(dd_data), l_each.col1, l_each.col2))\n",
    "        \n",
    "print(\"--\")\n",
    "\n"
   ]
  },
  {
   "cell_type": "markdown",
   "id": "8bbdb7f3-d36a-4109-a089-714e0148233e",
   "metadata": {},
   "source": [
    "#  Part 02:  Create a graph"
   ]
  },
  {
   "cell_type": "code",
   "execution_count": 5,
   "id": "d39f46cf-334f-42d3-9fc6-b0440fb199b9",
   "metadata": {},
   "outputs": [
    {
     "name": "stdout",
     "output_type": "stream",
     "text": [
      "<katana_enterprise.remote.sync_wrappers.Client object at 0x7fb161874130>\n"
     ]
    }
   ],
   "source": [
    "\n",
    "from katana import remote\n",
    "from katana.remote import import_data\n",
    "\n",
    "my_client = remote.Client()\n",
    "\n",
    "print(my_client)\n"
   ]
  },
  {
   "cell_type": "code",
   "execution_count": 6,
   "id": "beec5fcc-7c18-43ca-8a07-1ac343a74340",
   "metadata": {},
   "outputs": [
    {
     "name": "stdout",
     "output_type": "stream",
     "text": [
      "--\n"
     ]
    }
   ],
   "source": [
    "\n",
    "NUM_PARTITIONS  = 3\n",
    "   #\n",
    "DB_NAME         = \"my_db\"\n",
    "GRAPH_NAME      = \"my_graph\" \n",
    "\n",
    "print(\"--\")\n"
   ]
  },
  {
   "cell_type": "code",
   "execution_count": 7,
   "id": "73bf229e-a447-4771-ac6a-3c74eecb9381",
   "metadata": {},
   "outputs": [
    {
     "name": "stdout",
     "output_type": "stream",
     "text": [
      "--\n"
     ]
    }
   ],
   "source": [
    "\n",
    "#  DELETE ALL GRAPHS\n",
    "\n",
    "for l_database in my_client.databases():\n",
    "   for l_graph in my_client.get_database(name=l_database.name).graphs_in_database():\n",
    "      l_handle=my_client.get_database(name=l_database.name).get_graph_by_id(id=l_graph.graph_id)\n",
    "      l_handle.delete()\n",
    "\n",
    "for l_graph in my_client.graphs():\n",
    "   print(\"GRAPH ID: \", l_graph.graph_id, \"      GRAPH Version: \", l_graph.version)\n",
    "\n",
    "print(\"--\")\n"
   ]
  },
  {
   "cell_type": "code",
   "execution_count": 8,
   "id": "131298d0-5cb4-4b62-8413-5e5571ef4b6a",
   "metadata": {},
   "outputs": [
    {
     "name": "stdout",
     "output_type": "stream",
     "text": [
      "--\n",
      "DB ID:  8hhMf8JLDC1qkKSgSHj7pTKCBJzR1vb5LtSRy9qMpFQW      DB Name:  default\n"
     ]
    }
   ],
   "source": [
    "\n",
    "#  DELETE ALL DATABASES\n",
    "\n",
    "for l_database in my_client.databases():\n",
    "   if (l_database.name != \"default\"):\n",
    "      my_client.get_database(name=l_database.name).delete_database()\n",
    "      print(\"--\")\n",
    "\n",
    "for l_database in my_client.databases():\n",
    "   print(\"DB ID: \", l_database.database_id, \"     DB Name: \", l_database.name)\n"
   ]
  },
  {
   "cell_type": "code",
   "execution_count": 9,
   "id": "4b708e18-dcc4-4e8e-b508-de70687066f8",
   "metadata": {},
   "outputs": [
    {
     "name": "stdout",
     "output_type": "stream",
     "text": [
      "CziejczDwP1DNsdq6hexAbirXsYZ8XsYWztMDwt6k3y4\n"
     ]
    }
   ],
   "source": [
    "\n",
    "#  CREATE DATABASE\n",
    "\n",
    "my_database = my_client.create_database(name=DB_NAME)\n",
    "\n",
    "print(my_database.database_id)\n"
   ]
  },
  {
   "cell_type": "code",
   "execution_count": 10,
   "id": "828d62e9-1cf8-4eee-9147-f351961b95f4",
   "metadata": {},
   "outputs": [
    {
     "name": "stdout",
     "output_type": "stream",
     "text": [
      "<_Graph my_graph, 8sW456T9UwfB7FcQYLuEirJGwU6SmDFTnHfsrjyAHLfY, 0>\n"
     ]
    }
   ],
   "source": [
    "\n",
    "#  CREATE GRAPHS\n",
    "\n",
    "my_graph=my_client.get_database(name=DB_NAME).create_graph(name=GRAPH_NAME, num_partitions=NUM_PARTITIONS)\n",
    "\n",
    "print(my_graph)\n"
   ]
  },
  {
   "cell_type": "markdown",
   "id": "018453bc-385a-41cb-9d4f-6f578886b2ce",
   "metadata": {},
   "source": [
    "#  Part 03:  Import into the graph"
   ]
  },
  {
   "cell_type": "code",
   "execution_count": 11,
   "id": "8a7e4b85-372f-491c-84b1-fc7714788163",
   "metadata": {},
   "outputs": [
    {
     "name": "stderr",
     "output_type": "stream",
     "text": [
      "UserWarning: dtype for DataFrame column 'col2' is 'object'. Will be inferred as string.\n"
     ]
    },
    {
     "data": {
      "application/vnd.jupyter.widget-view+json": {
       "model_id": "c65b354e42da423e97f924cfaa5a3c40",
       "version_major": 2,
       "version_minor": 0
      },
      "text/plain": [
       "          0/? [?op/s]"
      ]
     },
     "metadata": {},
     "output_type": "display_data"
    },
    {
     "data": {
      "application/vnd.jupyter.widget-view+json": {
       "model_id": "fdcda624f24d4c27b77cc7872595f09a",
       "version_major": 2,
       "version_minor": 0
      },
      "text/plain": [
       "          0/? [?op/s]"
      ]
     },
     "metadata": {},
     "output_type": "display_data"
    },
    {
     "name": "stdout",
     "output_type": "stream",
     "text": [
      "--\n"
     ]
    }
   ],
   "source": [
    "\n",
    "with import_data.DataFrameImporter(my_graph) as df_importer:\n",
    "    \n",
    "   #  Movies\n",
    "   #\n",
    "   df_importer.nodes_dataframe(\n",
    "      dd_data[[\"col1\", \"col2\"]],\n",
    "      id_column  = \"col1\",\n",
    "      id_space   = \"dd_data\"\n",
    "      )\n",
    "\n",
    "   df_importer.insert()\n",
    "\n",
    "\n",
    "print(\"--\")\n"
   ]
  },
  {
   "cell_type": "code",
   "execution_count": 12,
   "id": "b2f49097-92db-4c90-b76c-199b5a7ca20b",
   "metadata": {},
   "outputs": [
    {
     "data": {
      "application/vnd.jupyter.widget-view+json": {
       "model_id": "c657d733c092471cac810e85cabfafdb",
       "version_major": 2,
       "version_minor": 0
      },
      "text/plain": [
       "          0/? [?op/s]"
      ]
     },
     "metadata": {},
     "output_type": "display_data"
    },
    {
     "data": {
      "text/plain": [
       "'Number of Graph Nodes: 40000'"
      ]
     },
     "metadata": {},
     "output_type": "display_data"
    },
    {
     "data": {
      "application/vnd.jupyter.widget-view+json": {
       "model_id": "41847b45335d4d38afde525947d2b273",
       "version_major": 2,
       "version_minor": 0
      },
      "text/plain": [
       "          0/? [?op/s]"
      ]
     },
     "metadata": {},
     "output_type": "display_data"
    },
    {
     "data": {
      "text/plain": [
       "'Number of Graph Edges: 0'"
      ]
     },
     "metadata": {},
     "output_type": "display_data"
    }
   ],
   "source": [
    "\n",
    "display(\"Number of Graph Nodes: %d\" % (my_graph.num_nodes()))\n",
    "display(\"Number of Graph Edges: %s\" % (my_graph.num_edges()))\n",
    "\n",
    "#  Sample outpt,\n",
    "#\n",
    "#     'Number of Graph Nodes: 40000'\n",
    "#     'Number of Graph Edges: 0'\n"
   ]
  },
  {
   "cell_type": "markdown",
   "id": "131e2410-26d9-4d2a-9070-447396fead5f",
   "metadata": {},
   "source": [
    "#  Part 04:  Run a traversal, return results"
   ]
  },
  {
   "cell_type": "code",
   "execution_count": 13,
   "id": "b6b6e913-8271-4a3c-9f64-997ba6c1c67e",
   "metadata": {},
   "outputs": [
    {
     "data": {
      "application/vnd.jupyter.widget-view+json": {
       "model_id": "aa1b9974f3b44a168adc07250377c0c6",
       "version_major": 2,
       "version_minor": 0
      },
      "text/plain": [
       "          0/? [?op/s]"
      ]
     },
     "metadata": {},
     "output_type": "display_data"
    },
    {
     "name": "stdout",
     "output_type": "stream",
     "text": [
      "40000\n",
      "<class 'numpy.int64'>\n"
     ]
    }
   ],
   "source": [
    "\n",
    "#  Aggregates, by definition, can return only one row. We use a slightly different\n",
    "#  technique to get the return value.\n",
    "#\n",
    "\n",
    "l_query  = \"\"\"\n",
    "   MATCH (n) \n",
    "   RETURN COUNT(*) AS cnt\n",
    "   \"\"\".format()\n",
    "\n",
    "l_count = my_graph.query(l_query)[\"cnt\"][0]\n",
    "\n",
    "\n",
    "print(l_count)\n",
    "print(type(l_count))\n",
    "\n",
    "#  Sample output,\n",
    "#\n",
    "#     40000\n",
    "#     <class 'numpy.int64'>\n"
   ]
  },
  {
   "cell_type": "code",
   "execution_count": 14,
   "id": "e88c9f33-436c-44a3-ab44-63df3486d2ed",
   "metadata": {},
   "outputs": [
    {
     "data": {
      "application/vnd.jupyter.widget-view+json": {
       "model_id": "055cefd4cc634e219c93a5d117f04e7f",
       "version_major": 2,
       "version_minor": 0
      },
      "text/plain": [
       "          0/? [?op/s]"
      ]
     },
     "metadata": {},
     "output_type": "display_data"
    },
    {
     "name": "stdout",
     "output_type": "stream",
     "text": [
      "+----+--------+------------------+\n",
      "|    |   col1 | col2             |\n",
      "|----+--------+------------------|\n",
      "|  0 |    220 | Item number: 220 |\n",
      "|  1 |    221 | Item number: 221 |\n",
      "|  2 |    228 | Item number: 228 |\n",
      "|  3 |    230 | Item number: 230 |\n",
      "|  4 |    236 | Item number: 236 |\n",
      "|  5 |    239 | Item number: 239 |\n",
      "|  6 |    244 | Item number: 244 |\n",
      "|  7 |    255 | Item number: 255 |\n",
      "|  8 |    257 | Item number: 257 |\n",
      "|  9 |    259 | Item number: 259 |\n",
      "+----+--------+------------------+\n",
      "\n",
      "<class 'katana.remote.ResultSet'>\n"
     ]
    }
   ],
   "source": [
    "\n",
    "#  Returning actual data, scale: 10 rows\n",
    "#\n",
    "\n",
    "l_rows = 10\n",
    "\n",
    "l_query  = \"\"\"\n",
    "   MATCH (n) \n",
    "   RETURN n.col1 AS col1, n.col2 AS col2\n",
    "   LIMIT {0}\n",
    "   \"\"\".format(l_rows)\n",
    "\n",
    "dd_result1 = my_graph.query(l_query)\n",
    "\n",
    "\n",
    "print(tabulate(dd_result1, headers='keys', tablefmt='psql'))\n",
    "print(\"\")\n",
    "print(type(dd_result1))\n",
    "\n",
    "#  Sample output,\n",
    "#\n",
    "#     +----+--------+-----------------+\n",
    "#     |    |   col1 | col2            |\n",
    "#     |----+--------+-----------------|\n",
    "#     |  0 |      1 | Item number: 1  |\n",
    "#     |  1 |      6 | Item number: 6  |\n",
    "#     |  2 |      8 | Item number: 8  |\n",
    "#     |  3 |     14 | Item number: 14 |\n",
    "#     |  4 |     17 | Item number: 17 |\n",
    "#     |  5 |     21 | Item number: 21 |\n",
    "#     |  6 |     22 | Item number: 22 |\n",
    "#     |  7 |     26 | Item number: 26 |\n",
    "#     |  8 |     28 | Item number: 28 |\n",
    "#     |  9 |     30 | Item number: 30 |\n",
    "#     +----+--------+-----------------+\n",
    "#\n",
    "#     <class 'katana.remote.ResultSet'>\n"
   ]
  },
  {
   "cell_type": "code",
   "execution_count": 15,
   "id": "50455568-89d3-4516-ace5-c4a5411ca3a9",
   "metadata": {},
   "outputs": [
    {
     "data": {
      "application/vnd.jupyter.widget-view+json": {
       "model_id": "698adca0e54e45d7b932292eb0ea8f7b",
       "version_major": 2,
       "version_minor": 0
      },
      "text/plain": [
       "          0/? [?op/s]"
      ]
     },
     "metadata": {},
     "output_type": "display_data"
    },
    {
     "name": "stdout",
     "output_type": "stream",
     "text": [
      "Counter: 1      (0)   (Item number: 0)\n",
      "Counter: 2      (7)   (Item number: 7)\n",
      "Counter: 3      (8)   (Item number: 8)\n",
      "Counter: 4      (10)   (Item number: 10)\n",
      "Counter: 5      (11)   (Item number: 11)\n",
      "Counter: 6      (17)   (Item number: 17)\n",
      "Counter: 7      (20)   (Item number: 20)\n",
      "Counter: 8      (21)   (Item number: 21)\n",
      "Counter: 9      (25)   (Item number: 25)\n",
      "\n",
      "Number of rows in DataFrame: 1000   Value of l_cntr: 1000\n",
      "--\n"
     ]
    }
   ],
   "source": [
    "\n",
    "#  Return (NUM_ROWS: 40,000) rows.\n",
    "#\n",
    "#     This as step 1 when we want to validate contents, or use graph data\n",
    "#     for ML routines, other.\n",
    "#\n",
    "#     You should see the Python kernel become unresponsive for a long time.\n",
    "#\n",
    "\n",
    "\n",
    "#  l_rows = 40000                                #  My original use case, unresponsive for a long time\n",
    "#  l_rows = 5000                                 #  Takes 10 (?) seconds, then runs/continues\n",
    "   #\n",
    "l_rows = 1000                                    #  This scale works reliably\n",
    "\n",
    "l_query  = \"\"\"\n",
    "   MATCH (n) \n",
    "   RETURN n.col1 AS col1, n.col2 AS col2\n",
    "   LIMIT {0}\n",
    "   \"\"\".format(l_rows)\n",
    "\n",
    "dd_result2 = my_graph.query(l_query)\n",
    "\n",
    "\n",
    "l_cntr = 0\n",
    "   #\n",
    "for l_each in dd_result2.itertuples():\n",
    "   l_cntr += 1  \n",
    "      #\n",
    "   if (l_cntr < 10):\n",
    "      print(\"Counter: %-4d   (%s)   (%s)\" % (l_cntr, l_each.col1, l_each.col2))\n",
    "\n",
    "print(\"\")\n",
    "print(\"Number of rows in DataFrame: %d   Value of l_cntr: %d\" % (len(dd_result2), l_cntr))\n",
    "print(\"--\")\n",
    "\n",
    "#  Sample output,\n",
    "#\n",
    "#     Counter: 1      (0)   (Item number: 0)\n",
    "#     Counter: 2      (5)   (Item number: 5)\n",
    "#     Counter: 3      (6)   (Item number: 6)\n",
    "#     Counter: 4      (8)   (Item number: 8)\n",
    "#     Counter: 5      (9)   (Item number: 9)\n",
    "#     Counter: 6      (11)   (Item number: 11)\n",
    "#     Counter: 7      (12)   (Item number: 12)\n",
    "#     Counter: 8      (13)   (Item number: 13)\n",
    "#     Counter: 9      (17)   (Item number: 17)\n",
    "#  \n",
    "#     Number of rows in DataFrame: 1000   Value of l_cntr: 1000\n"
   ]
  },
  {
   "cell_type": "code",
   "execution_count": 16,
   "id": "409e4943-f54a-4315-8629-17a13f645c98",
   "metadata": {},
   "outputs": [
    {
     "name": "stdout",
     "output_type": "stream",
     "text": [
      "--\n"
     ]
    }
   ],
   "source": [
    "\n",
    "#  Use this to see if/when next cell will run\n",
    "#\n",
    "print(\"--\")\n"
   ]
  },
  {
   "cell_type": "code",
   "execution_count": 20,
   "id": "3de17d83-ae13-46e0-844d-800e5c999664",
   "metadata": {},
   "outputs": [
    {
     "data": {
      "application/vnd.jupyter.widget-view+json": {
       "model_id": "397eddd6f18d450088006c3406ca0ba4",
       "version_major": 2,
       "version_minor": 0
      },
      "text/plain": [
       "          0/? [?op/s]"
      ]
     },
     "metadata": {},
     "output_type": "display_data"
    },
    {
     "name": "stdout",
     "output_type": "stream",
     "text": [
      "Counter: 1      (30806)   (Item number: 30806)\n",
      "Counter: 2      (30809)   (Item number: 30809)\n",
      "Counter: 3      (30821)   (Item number: 30821)\n",
      "Counter: 4      (30825)   (Item number: 30825)\n",
      "Counter: 5      (30829)   (Item number: 30829)\n",
      "Counter: 6      (30830)   (Item number: 30830)\n",
      "Counter: 7      (30832)   (Item number: 30832)\n",
      "Counter: 8      (30833)   (Item number: 30833)\n",
      "Counter: 9      (30834)   (Item number: 30834)\n",
      "\n",
      "Number of rows in total result set: 1000   Number of pages: 3\n",
      "CPU times: user 3.88 s, sys: 19.9 ms, total: 3.9 s\n",
      "Wall time: 4.5 s\n"
     ]
    }
   ],
   "source": [
    "\n",
    "%%time                                     \n",
    "#\n",
    "#  Report time of execution for the cell\n",
    "\n",
    "\n",
    "#  Move the above to paginated fetching, which solves our (hanging, unresponsive) problem.\n",
    "#\n",
    "\n",
    "#  l_rows = 40000\n",
    "#  l_rows = 5000 \n",
    "l_rows = 1000\n",
    "\n",
    "l_query  = \"\"\"\n",
    "   MATCH (n) \n",
    "   RETURN n.col1 AS col1, n.col2 AS col2\n",
    "   LIMIT {0}\n",
    "   \"\"\".format(l_rows)\n",
    "\n",
    "\n",
    "dd_result4 = my_graph.query_paginated(l_query)\n",
    "#\n",
    "#  Returns,  katana_enterprise.remote.sync_wrappers.PaginatedResultSet\n",
    "#     It has no length\n",
    "#     It has no itertuples()\n",
    "#     It does have a head, maxmimum 40\n",
    "#\n",
    "#  The above is true, because of [ paging ]. This is a list of lists.\n",
    "#  See examples below.\n",
    "\n",
    "\n",
    "#  l_resultA = dd_result3.head(10)\n",
    "#  print(type(l_resultA))\n",
    "      #\n",
    "#   Maximum value: 40\n",
    "#\n",
    "#     print(dd_result3.head(44))\n",
    "#     >> ValueError: You can only view a maximum of 40 rows.\n",
    "\n",
    "\n",
    "#  Using a query_paginated()\n",
    "#\n",
    "l_cntr1 = 0\n",
    "l_cntr2 = 0\n",
    "   #\n",
    "for l_page in dd_result4:\n",
    "   l_cntr1 += 1\n",
    "   for l_each in l_page.itertuples():\n",
    "      l_cntr2 += 1\n",
    "         #\n",
    "      if (l_cntr2 < 10):\n",
    "        print(\"Counter: %-4d   (%s)   (%s)\" % (l_cntr2, l_each.col1, l_each.col2))\n",
    "\n",
    "print(\"\")\n",
    "print(\"Number of rows in total result set: %d   Number of pages: %d\" % (l_cntr2, l_cntr1))\n",
    " \n",
    "\n",
    "#  Again; 2MB of raw data, 40K rows.  About 100-200 rows/sec.\n",
    "#        \n",
    "#  Sample output,\n",
    "#\n",
    "#     Counter: 1      (20178)   (Item number: 20178)\n",
    "#     Counter: 2      (20182)   (Item number: 20182)\n",
    "#     Counter: 3      (20183)   (Item number: 20183)\n",
    "#     Counter: 4      (20185)   (Item number: 20185)\n",
    "#     Counter: 5      (20187)   (Item number: 20187)\n",
    "#     Counter: 6      (20188)   (Item number: 20188)\n",
    "#     Counter: 7      (20189)   (Item number: 20189)\n",
    "#     Counter: 8      (20200)   (Item number: 20200)\n",
    "#     Counter: 9      (20201)   (Item number: 20201)\n",
    "#     \n",
    "#     Number of rows in total result set: 40000   Number of pages: 3\n",
    "#     CPU times: user 3min 43s, sys: 79.9 ms, total: 3min 43s\n",
    "#     Wall time: 3min 46s\n",
    "        "
   ]
  },
  {
   "cell_type": "code",
   "execution_count": 22,
   "id": "038ddb4a-430e-40e9-a36b-b2bdadc621d7",
   "metadata": {},
   "outputs": [
    {
     "data": {
      "application/vnd.jupyter.widget-view+json": {
       "model_id": "9abf5f940bc94d5485dc3e4779136802",
       "version_major": 2,
       "version_minor": 0
      },
      "text/plain": [
       "          0/? [?op/s]"
      ]
     },
     "metadata": {},
     "output_type": "display_data"
    },
    {
     "name": "stdout",
     "output_type": "stream",
     "text": [
      "Counter: 1      (705)   (Item number: 705)\n",
      "Counter: 2      (711)   (Item number: 711)\n",
      "Counter: 3      (714)   (Item number: 714)\n",
      "Counter: 4      (720)   (Item number: 720)\n",
      "Counter: 5      (722)   (Item number: 722)\n",
      "Counter: 6      (728)   (Item number: 728)\n",
      "Counter: 7      (729)   (Item number: 729)\n",
      "Counter: 8      (734)   (Item number: 734)\n",
      "Counter: 9      (735)   (Item number: 735)\n",
      "\n",
      "Number of rows in total result set: 1000   Number of pages: 3   Number of rows in funal DataFrame: 1000\n",
      "CPU times: user 4.95 s, sys: 24.2 ms, total: 4.98 s\n",
      "Wall time: 5.54 s\n"
     ]
    }
   ],
   "source": [
    "\n",
    "%%time \n",
    "#\n",
    "#  Report time of execution for the cell\n",
    "\n",
    "\n",
    "#  Modify the above; add capturing the full result set into a DataFrame\n",
    "#\n",
    "\n",
    "#  l_rows = 40000\n",
    "l_rows = 1000\n",
    "\n",
    "\n",
    "l_columns = [\"col1\", \"col2\"]\n",
    "   #\n",
    "l_query  = \"\"\"\n",
    "   MATCH (n) \n",
    "   RETURN n.col1 AS col1, n.col2 AS col2\n",
    "   LIMIT {0}\n",
    "   \"\"\".format(l_rows)\n",
    "\n",
    "\n",
    "dd_result4 = my_graph.query_paginated(l_query)\n",
    "   #\n",
    "pd_data = pd.DataFrame()\n",
    "   #\n",
    "l_cntr1 = 0\n",
    "l_cntr2 = 0\n",
    "   #\n",
    "for l_page in dd_result4:\n",
    "   l_cntr1 += 1\n",
    "   for l_each in l_page.itertuples():\n",
    "      l_cntr2 += 1\n",
    "         #\n",
    "      l_row  = pd.DataFrame( np.array([[l_each.col1, l_each.col2]], dtype=\"str\"), columns = l_columns )\n",
    "         #\n",
    "      pd_data = pd_data.append(l_row)\n",
    "\n",
    "    \n",
    "l_cntr = 0\n",
    "   #\n",
    "for l_each in pd_data.itertuples():\n",
    "   l_cntr += 1\n",
    "      #\n",
    "   if (l_cntr < 10):\n",
    "      print(\"Counter: %-4d   (%s)   (%s)\" % (l_cntr, l_each.col1, l_each.col2))\n",
    "\n",
    "print(\"\")\n",
    "print(\"Number of rows in total result set: %d   Number of pages: %d   Number of rows in funal DataFrame: %d\" % (l_cntr2, l_cntr1, len(pd_data)))\n",
    "      \n",
    "\n",
    "\n",
    "#  Sample output,\n",
    "#\n",
    "\n",
    "\n",
    "\n",
    "\n",
    "\n",
    "\n",
    "\n",
    "\n",
    "\n",
    "\n"
   ]
  },
  {
   "cell_type": "code",
   "execution_count": null,
   "id": "0c4dd2ba-f696-4825-ab90-d6551bf2ed53",
   "metadata": {},
   "outputs": [],
   "source": [
    "\n",
    "\n",
    "\n",
    "\n",
    "\n",
    "\n",
    "\n"
   ]
  },
  {
   "cell_type": "code",
   "execution_count": null,
   "id": "cfcfd326-a30e-4ca1-9b39-2524dfd63a33",
   "metadata": {},
   "outputs": [],
   "source": []
  },
  {
   "cell_type": "code",
   "execution_count": null,
   "id": "5a729c3f-ab5c-4ec7-af2a-50810d5d75af",
   "metadata": {},
   "outputs": [],
   "source": []
  },
  {
   "cell_type": "code",
   "execution_count": null,
   "id": "0e955b06-998b-4e9f-ac19-8446a30868d8",
   "metadata": {},
   "outputs": [],
   "source": []
  },
  {
   "cell_type": "code",
   "execution_count": null,
   "id": "c86b0338-f186-4fa4-8487-737d6d4b8ba2",
   "metadata": {},
   "outputs": [],
   "source": []
  },
  {
   "cell_type": "code",
   "execution_count": null,
   "id": "923a4e65-eb1d-4e11-af61-0b14302b019a",
   "metadata": {},
   "outputs": [],
   "source": []
  }
 ],
 "metadata": {
  "kernelspec": {
   "display_name": "Python 3 (ipykernel)",
   "language": "python",
   "name": "python3"
  },
  "language_info": {
   "codemirror_mode": {
    "name": "ipython",
    "version": 3
   },
   "file_extension": ".py",
   "mimetype": "text/x-python",
   "name": "python",
   "nbconvert_exporter": "python",
   "pygments_lexer": "ipython3",
   "version": "3.8.13"
  }
 },
 "nbformat": 4,
 "nbformat_minor": 5
}
