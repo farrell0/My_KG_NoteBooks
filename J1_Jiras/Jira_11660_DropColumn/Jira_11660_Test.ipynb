{
 "cells": [
  {
   "cell_type": "code",
   "execution_count": null,
   "id": "d7a11486-11ea-4a6c-8f7b-6f3808dfc85e",
   "metadata": {},
   "outputs": [],
   "source": [
    "\n",
    "#  Setting display options \n",
    "\n",
    "import pandas as pd\n",
    "   #\n",
    "pd.set_option(\"display.width\", 480)\n",
    "\n",
    "#  Sets horizontal scroll for wide outputs\n",
    "#\n",
    "from IPython.display import display, HTML\n",
    "display(HTML(\"\"))\n",
    "\n",
    "from tabulate import tabulate\n",
    "\n",
    "print(\"--\")\n"
   ]
  },
  {
   "cell_type": "markdown",
   "id": "d3ebe820-bc6d-4948-b668-8b81cd3cbf29",
   "metadata": {
    "tags": []
   },
   "source": [
    "#  Setup stuff: Connectivity"
   ]
  },
  {
   "cell_type": "code",
   "execution_count": 12,
   "id": "1ea957d6-30c6-427a-ae4e-15ecfba0c4f9",
   "metadata": {},
   "outputs": [
    {
     "name": "stdout",
     "output_type": "stream",
     "text": [
      "<katana_enterprise.remote.sync_wrappers.Client object at 0x7f5a137fe580>\n"
     ]
    }
   ],
   "source": [
    "\n",
    "from katana import remote\n",
    "#  from katana.remote import import_data\n",
    "\n",
    "my_client = remote.Client()\n",
    "\n",
    "print(my_client)\n"
   ]
  },
  {
   "cell_type": "code",
   "execution_count": 13,
   "id": "97571016-7c02-4e90-a75a-136a0dacd35f",
   "metadata": {},
   "outputs": [
    {
     "name": "stdout",
     "output_type": "stream",
     "text": [
      "--\n"
     ]
    }
   ],
   "source": [
    "\n",
    "NUM_PARTITIONS  = 3\n",
    "   #\n",
    "DB_NAME         = \"my_db\"\n",
    "GRAPH_NAME      = \"my_graph\"\n",
    "\n",
    "print(\"--\")\n"
   ]
  },
  {
   "cell_type": "code",
   "execution_count": 14,
   "id": "c5db6505-7fc8-4779-b194-9ed8945b9a90",
   "metadata": {},
   "outputs": [
    {
     "name": "stdout",
     "output_type": "stream",
     "text": [
      "<_Graph my_graph, 683TTmgMQwsQFbctJU1dPcB9m2ftdiTFP5g2vJNuV2tt, 3>\n"
     ]
    }
   ],
   "source": [
    "\n",
    "#  CONNECT TO GRAPH\n",
    "\n",
    "my_graph, *_ = my_client.get_database(name=DB_NAME).find_graphs_by_name(GRAPH_NAME)\n",
    "\n",
    "print(my_graph)\n"
   ]
  },
  {
   "cell_type": "markdown",
   "id": "61556ce5-9044-42bc-bb13-80b6a514ae27",
   "metadata": {
    "tags": []
   },
   "source": [
    "# UDFs, Part 01: Mutating Nodes "
   ]
  },
  {
   "cell_type": "code",
   "execution_count": 15,
   "id": "7b11c4e0-4b91-4a64-b06f-340f03873246",
   "metadata": {},
   "outputs": [
    {
     "name": "stdout",
     "output_type": "stream",
     "text": [
      "--\n"
     ]
    }
   ],
   "source": [
    "\n",
    "#  We will use this counter to generate a unique column name below-\n",
    "#\n",
    "l_cntr = 20\n",
    "\n",
    "print(\"--\")\n"
   ]
  },
  {
   "cell_type": "code",
   "execution_count": null,
   "id": "7ce1c0c7-7cab-461f-84f6-6b6c4d34bb5d",
   "metadata": {},
   "outputs": [],
   "source": [
    "\n",
    "#  Add a new column to each node, one that is derived from columns local to each node; approach 3\n",
    "#\n",
    "#     .  Here we see that if the new column value is None, then the property is not actually added\n",
    "#        to the node. \n",
    "#\n",
    "\n",
    "def my_func(i_graph, i_label, i_properties, i_new_colname):\n",
    "    \n",
    "   from katana.distributed import KeyedColumnNode\n",
    "   import numpy as np\n",
    "    \n",
    "    \n",
    "   l_node_props = {each: i_graph.nodes.get_property(each) for each in i_properties}                 #  An existing column, we will upshift this existing value\n",
    "      #\n",
    "   l_node_keys  = l_node_props[i_properties[0]].keys()                                              #  keys() works against any column in the node.\n",
    "      #\n",
    "   l_new_cols   = np.zeros(len(l_node_props[i_properties[0]]), dtype=\"object\")                      #  An empty NumPy array, same length as l_node_props\n",
    "\n",
    "\n",
    "   for l_index, l_key in enumerate(l_node_keys):                                                    #  Loop over the keys that are already in the graph\n",
    "      if (i_label in i_graph.nodes.labels(l_key) ):                                                   \n",
    "         #  Is Airport\n",
    "         if (str(l_node_props[i_properties[0]][l_key]).upper() < \"M\"):                              #  Further testing what we can set to None\n",
    "            l_new_cols[l_index] = str(l_node_props[i_properties[0]][l_key]).upper()\n",
    "         else:\n",
    "            l_new_cols[l_index] = None\n",
    "      else:\n",
    "         #  Not Airport\n",
    "         l_new_cols[l_index] = None\n",
    "    \n",
    "   l_keyed_cols = KeyedColumnNode(l_new_cols, l_node_props[i_properties[0]], i_new_colname)         #  Building what we need to send to add_property()\n",
    "      #\n",
    "   i_graph.nodes.add_property(l_keyed_cols)\n",
    "\n",
    "\n",
    "   return\n",
    "\n",
    "l_cntr   += 1\n",
    "l_newcol =  \"newcol_\" + str(l_cntr).zfill(4)\n",
    "\n",
    "   #\n",
    "l_result = my_graph.run(lambda g: my_func(g, \"Airport\", [\"airport_name\"], l_newcol))\n",
    "\n",
    "print(\"--\")\n"
   ]
  },
  {
   "cell_type": "code",
   "execution_count": null,
   "id": "2e413eea-dfcd-4368-acb7-ec69a8d07a2e",
   "metadata": {},
   "outputs": [],
   "source": [
    "\n",
    "#  Add a new column to each node, one that is derived from columns local to each node; approach 2\n",
    "#\n",
    "#     .  We moved properties to our comprehension technique. Why ?  When dealing with multiple\n",
    "#        properties, this is handy.\n",
    "#\n",
    "\n",
    "def my_func(i_graph, i_label, i_properties, i_new_colname):\n",
    "    \n",
    "   from katana.distributed import KeyedColumnNode\n",
    "   import numpy as np\n",
    "    \n",
    "    \n",
    "   l_node_props = {each: i_graph.nodes.get_property(each) for each in i_properties}                 #  An existing column, we will upshift this existing value\n",
    "      #\n",
    "   l_node_keys  = l_node_props[i_properties[0]].keys()                                              #  keys() works against any column in the node.\n",
    "      #\n",
    "   l_new_cols   = np.zeros(len(l_node_props[i_properties[0]]), dtype=\"object\")                      #  An empty NumPy array, same length as l_node_props\n",
    "\n",
    "\n",
    "   for l_index, l_key in enumerate(l_node_keys):                                                    #  Loop over the keys that are already in the graph\n",
    "      l_new_cols[l_index] = str(l_node_props[i_properties[0]][l_key]).upper()                       #  Derive a new column property value\n",
    "\n",
    "    \n",
    "   l_keyed_cols = KeyedColumnNode(l_new_cols, l_node_props[i_properties[0]], i_new_colname)         #  Building what we need to send to add_property()\n",
    "      #\n",
    "   i_graph.nodes.add_property(l_keyed_cols)\n",
    "\n",
    "\n",
    "   return\n",
    "\n",
    "l_cntr   += 1\n",
    "l_newcol =  \"newcol_\" + str(l_cntr).zfill(4)\n",
    "\n",
    "   #\n",
    "l_result = my_graph.run(lambda g: my_func(g, \"Airport\", [\"airport_name\"], l_newcol))\n",
    "\n",
    "\n",
    "print(\"--\")\n"
   ]
  },
  {
   "cell_type": "code",
   "execution_count": 16,
   "id": "01ed4926-52ea-4fa6-8ef7-49a863d8840d",
   "metadata": {},
   "outputs": [
    {
     "data": {
      "application/vnd.jupyter.widget-view+json": {
       "model_id": "3a5eae999da4415ab558b894a1858574",
       "version_major": 2,
       "version_minor": 0
      },
      "text/plain": [
       "          0/? [?op/s]"
      ]
     },
     "metadata": {},
     "output_type": "display_data"
    },
    {
     "name": "stdout",
     "output_type": "stream",
     "text": [
      "+----+----------------+---------------------------------+\n",
      "|    | label          | KEYS(n)                         |\n",
      "|----+----------------+---------------------------------|\n",
      "|  0 | ['Restaurant'] | ['id', 'restaurant_name']       |\n",
      "|  1 | ['Airport']    | ['LABEL', 'airport_name', 'id'] |\n",
      "+----+----------------+---------------------------------+\n"
     ]
    }
   ],
   "source": [
    "\n",
    "#  PPP\n",
    "\n",
    "#  Output a raw listing of all columns, for all nodes\n",
    "#\n",
    "l_query  = \"\"\"\n",
    "   MATCH (n)\n",
    "   RETURN DISTINCT LABELS(n) AS label, KEYS(n)\n",
    "   \"\"\".format()\n",
    "\n",
    "l_result = my_graph.query_unpaginated(l_query)\n",
    "   #\n",
    "print(tabulate(l_result, headers='keys', tablefmt='psql'))\n",
    "\n",
    "#  Sample output,\n",
    "#\n",
    "#     +----+----------------+------------------------------------------------------------------------------------------------------------+\n",
    "#     |    | label          | KEYS(n)                                                                                                    |\n",
    "#     |----+----------------+------------------------------------------------------------------------------------------------------------|\n",
    "#     |  0 | ['Airport']    | ['LABEL', 'airport_name', 'id', 'newcol_0021', 'newcol_0022', 'newcol_0023', 'newcol_0024']                |\n",
    "#     |  1 | ['Airport']    | ['LABEL', 'airport_name', 'id', 'newcol_0021', 'newcol_0022', 'newcol_0023', 'newcol_0024', 'newcol_0026'] |\n",
    "#     |  2 | ['Restaurant'] | ['id', 'restaurant_name', 'newcol_0021', 'newcol_0022', 'newcol_0023']                                     |\n",
    "#     +----+----------------+------------------------------------------------------------------------------------------------------------+\n"
   ]
  },
  {
   "cell_type": "code",
   "execution_count": null,
   "id": "f325879d-5d73-4134-a00e-f5446b125e68",
   "metadata": {},
   "outputs": [],
   "source": [
    "\n",
    "#  Error,\n",
    "#\n",
    "#     ---------------------------------------------------------------------------\n",
    "#     OperationError                            Traceback (most recent call last)\n",
    "#     Cell In [11], line 10\n",
    "#           1 #  PPP\n",
    "#           2 \n",
    "#           3 #  Output a raw listing of all columns, for all nodes\n",
    "#           4 #\n",
    "#           5 l_query  = \"\"\"\n",
    "#           6    MATCH (n)\n",
    "#           7    RETURN DISTINCT LABELS(n) AS label, KEYS(n)\n",
    "#           8    \"\"\".format()\n",
    "#     ---> 10 l_result = my_graph.query(l_query)\n",
    "#          11    #\n",
    "#          12 print(tabulate(l_result, headers='keys', tablefmt='psql'))\n",
    "#     \n",
    "#     File /opt/conda/lib/python3.8/site-packages/katana_enterprise/async_to_sync.py:249, in AsyncToSync.<locals>.do_wrap.<locals>.wrapper(self, *args, **kwargs)\n",
    "#         246 @wraps(underlying_func)\n",
    "#         247 def wrapper(self, *args, **kwargs):\n",
    "#         248     return registry.async_to_sync(\n",
    "#     --> 249         underlying_func(\n",
    "#         250             get_self_func(self),\n",
    "#         251             *(registry.sync_to_async(a) for a in args),\n",
    "#         252             **{k: registry.sync_to_async(v) for k, v in kwargs.items()},\n",
    "#         253         )\n",
    "#         254     )\n",
    "#     \n",
    "#     File /opt/conda/lib/python3.8/site-packages/katana_enterprise/async_to_sync.py:176, in async_to_sync.<locals>.wrapper(timeout, *args, **kwargs)\n",
    "#         166     registry = AsyncToSyncClassRegistry.get()\n",
    "#         167     return registry.async_to_sync(\n",
    "#         168         wait_for(\n",
    "#         169             async_func(\n",
    "#        (...)\n",
    "#         174         )\n",
    "#         175     )\n",
    "#     --> 176 return wait_for(async_func(*args, **kwargs), timeout=timeout)\n",
    "#     \n",
    "#     File /opt/conda/lib/python3.8/site-packages/katana_enterprise/async_to_sync.py:147, in wait_for(coro, timeout)\n",
    "#         145 try:\n",
    "#         146     future = asyncio.run_coroutine_threadsafe(timeout_coro, loop=AsyncRunnerThread.get().loop)\n",
    "#     --> 147     return future.result()\n",
    "#         148 except KeyboardInterrupt:\n",
    "#         149     inner_future.cancel()\n",
    "#     \n",
    "#     File /opt/conda/lib/python3.8/concurrent/futures/_base.py:444, in Future.result(self, timeout)\n",
    "#         442     raise CancelledError()\n",
    "#         443 elif self._state == FINISHED:\n",
    "#     --> 444     return self.__get_result()\n",
    "#         445 else:\n",
    "#         446     raise TimeoutError()\n",
    "#     \n",
    "#     File /opt/conda/lib/python3.8/concurrent/futures/_base.py:389, in Future.__get_result(self)\n",
    "#         387 if self._exception:\n",
    "#         388     try:\n",
    "#     --> 389         raise self._exception\n",
    "#         390     finally:\n",
    "#         391         # Break a reference cycle with the exception in self._exception\n",
    "#         392         self = None\n",
    "#     \n",
    "#     File /opt/conda/lib/python3.8/asyncio/tasks.py:455, in wait_for(fut, timeout, loop)\n",
    "#         450     warnings.warn(\"The loop argument is deprecated since Python 3.8, \"\n",
    "#         451                   \"and scheduled for removal in Python 3.10.\",\n",
    "#         452                   DeprecationWarning, stacklevel=2)\n",
    "#         454 if timeout is None:\n",
    "#     --> 455     return await fut\n",
    "#         457 if timeout <= 0:\n",
    "#         458     fut = ensure_future(fut, loop=loop)\n",
    "#     \n",
    "#     File /opt/conda/lib/python3.8/site-packages/katana_enterprise/remote/aio/graph.py:299, in Graph.query(self, query, memory_usage_factor, contextualize, **parameters)\n",
    "#         296 if memory_usage_factor:\n",
    "#         297     parameters[\"__katana_internal_match_batch_limit_scale_factor\"] = memory_usage_factor\n",
    "#     --> 299 response = await self._run_query(query, parameters=parameters)\n",
    "#         300 rows = response[\"result\"][\"rows\"]\n",
    "#         301 columns = response[\"result\"][\"columns\"]\n",
    "#     \n",
    "#     File /opt/conda/lib/python3.8/site-packages/katana_enterprise/remote/aio/graph.py:277, in Graph._run_query(self, query, parameters, parquet)\n",
    "#         273     data[\"cypher\"][\"output_type\"] = \"Parquet\"\n",
    "#         275 data = self._add_operation_metadata(data)\n",
    "#     --> 277 res = await self._client._run_on_graph_and_wait(self, data)\n",
    "#         279 return res\n",
    "#     \n",
    "#     File /opt/conda/lib/python3.8/site-packages/katana_enterprise/remote/aio/client.py:326, in Database._run_on_graph_and_wait(self, graph, data)\n",
    "#         324 while attempt < max_attempts:\n",
    "#         325     try:\n",
    "#     --> 326         return await self._wait_op(op)\n",
    "#         327     except errors.ServerCommunicationError:\n",
    "#         328         logging.warning(f\"error while waiting, retrying (attempt={attempt})\")\n",
    "#     \n",
    "#     File /opt/conda/lib/python3.8/site-packages/katana_enterprise/remote/aio/client.py:263, in Database._wait_op(self, op)\n",
    "#         261 async with _progress_bar() as pbar:\n",
    "#         262     async with wait_fn(operation_id) as stream:\n",
    "#     --> 263         async for update in stream:\n",
    "#         264             status = update[\"status\"]\n",
    "#         266             for entry in update.get(\"progress\", []):\n",
    "#     \n",
    "#     File /opt/conda/lib/python3.8/site-packages/asyncstdlib/builtins.py:445, in map(function, *iterable)\n",
    "#         443 async for args in args_iter:\n",
    "#         444     result = function(*args)\n",
    "#     --> 445     yield await result\n",
    "#     \n",
    "#     File /opt/conda/lib/python3.8/site-packages/asyncstdlib/_core.py:134, in force_async.<locals>.async_wrapped(*args, **kwargs)\n",
    "#         133 async def async_wrapped(*args: Any, **kwargs: Any) -> T:\n",
    "#     --> 134     return call(*args, **kwargs)\n",
    "#     \n",
    "#     File /opt/conda/lib/python3.8/site-packages/katana_enterprise/rpc/client.py:169, in _OperationClient._event_stream.<locals>.parse_stream(line)\n",
    "#         166 status = data[\"status\"]\n",
    "#         168 if status == \"Failed\":\n",
    "#     --> 169     raise errors.OperationError(operation_id + \" \" + data[\"status_message\"])\n",
    "#         170 if status == \"Canceled\":\n",
    "#         171     raise errors.CanceledError()\n",
    "#     \n",
    "#     OperationError: GspZ89FxgNe6rwMmkLGfHJhYeQPv3EiLWuHHQhixHZmt-mEfVtfAosjnqhy1C backtrace (QueryOperation.cpp:67): backtrace (Network.h:331): backtrace (QueryOperation.cpp:70): backtrace (OpGraph.cpp:560): backtrace (OpGraph.h:596): backtrace (OpGraph.cpp:571): backtrace (OpGraph.cpp:64): backtrace (ProjectOperator.cpp:184): backtrace (Evaluate.cpp:2008): backtrace (Evaluate.cpp:1444): backtrace (ListFunc.cpp:1098): backtrace (PropertiesFunc.cpp:109): backtrace (PropertiesFunc.cpp:57): backtrace (Evaluate.cpp:2008): backtrace (EvaluateSelection.cpp:168): backtrace (KeyedSelection.cpp:287): backtrace (KeyedSelection.cpp:124): backtrace (KeyedCommunication.h:422): backtrace (KeyedCommunication.h:393): (../../libgluon/include/katana/KeyedCommunication.h:316): backtrace: backtrace (ColumnDistOps.cpp:30): buffer_index out of range.: arrow error: arrow error: arrow error: arrow error\n",
    "\n"
   ]
  },
  {
   "cell_type": "code",
   "execution_count": 17,
   "id": "3e14ef74-6122-4cb9-bb8d-d8a8909d460c",
   "metadata": {},
   "outputs": [
    {
     "data": {
      "application/vnd.jupyter.widget-view+json": {
       "model_id": "da2b734401604cac9db0c2f51a9294fc",
       "version_major": 2,
       "version_minor": 0
      },
      "text/plain": [
       "          0/? [?op/s]"
      ]
     },
     "metadata": {},
     "output_type": "display_data"
    },
    {
     "name": "stderr",
     "output_type": "stream",
     "text": [
      "\n",
      "Host 0 errors:\n",
      "Traceback (most recent call last):\n",
      "  File \"/opt/miniconda/lib/python3.8/site-packages/katana_enterprise/worker/worker.py\", line 111, in execute\n",
      "    value = function(graph)\n",
      "  File \"/tmp/ipykernel_13609/3439035053.py\", line 41, in <lambda>\n",
      "  File \"/tmp/ipykernel_13609/3439035053.py\", line 15, in my_func\n",
      "LookupError: backtrace (LSPGGraph.h:366): backtrace (LogStructuredPropertyGraph.cpp:1181): no column with name newcol_0022 (PropertyTableGroup.h:141): no such property\n",
      "\n",
      "Host 1 errors:\n",
      "Traceback (most recent call last):\n",
      "  File \"/opt/miniconda/lib/python3.8/site-packages/katana_enterprise/worker/worker.py\", line 111, in execute\n",
      "    value = function(graph)\n",
      "  File \"/tmp/ipykernel_13609/3439035053.py\", line 41, in <lambda>\n",
      "  File \"/tmp/ipykernel_13609/3439035053.py\", line 15, in my_func\n",
      "LookupError: backtrace (LSPGGraph.h:366): backtrace (LogStructuredPropertyGraph.cpp:1181): no column with name newcol_0022 (PropertyTableGroup.h:141): no such property\n",
      "\n",
      "Host 2 errors:\n",
      "Traceback (most recent call last):\n",
      "  File \"/opt/miniconda/lib/python3.8/site-packages/katana_enterprise/worker/worker.py\", line 111, in execute\n",
      "    value = function(graph)\n",
      "  File \"/tmp/ipykernel_13609/3439035053.py\", line 41, in <lambda>\n",
      "  File \"/tmp/ipykernel_13609/3439035053.py\", line 15, in my_func\n",
      "LookupError: backtrace (LSPGGraph.h:366): backtrace (LogStructuredPropertyGraph.cpp:1181): no column with name newcol_0022 (PropertyTableGroup.h:141): no such property\n"
     ]
    },
    {
     "ename": "LookupError",
     "evalue": "backtrace (LSPGGraph.h:366): backtrace (LogStructuredPropertyGraph.cpp:1181): no column with name newcol_0022 (PropertyTableGroup.h:141): no such property",
     "output_type": "error",
     "traceback": [
      "\u001b[0;31m---------------------------------------------------------------------------\u001b[0m",
      "\u001b[0;31mLookupError\u001b[0m                               Traceback (most recent call last)",
      "Cell \u001b[0;32mIn[17], line 41\u001b[0m\n\u001b[1;32m     38\u001b[0m l_newcol \u001b[38;5;241m=\u001b[39m \u001b[38;5;124m\"\u001b[39m\u001b[38;5;124mnewcol_0022\u001b[39m\u001b[38;5;124m\"\u001b[39m\n\u001b[1;32m     39\u001b[0m \u001b[38;5;66;03m#  l_newcol = \"newcol_0021\"\u001b[39;00m\n\u001b[1;32m     40\u001b[0m    \u001b[38;5;66;03m#\u001b[39;00m\n\u001b[0;32m---> 41\u001b[0m l_result \u001b[38;5;241m=\u001b[39m \u001b[43mmy_graph\u001b[49m\u001b[38;5;241;43m.\u001b[39;49m\u001b[43mrun\u001b[49m\u001b[43m(\u001b[49m\u001b[38;5;28;43;01mlambda\u001b[39;49;00m\u001b[43m \u001b[49m\u001b[43mg\u001b[49m\u001b[43m:\u001b[49m\u001b[43m \u001b[49m\u001b[43mmy_func\u001b[49m\u001b[43m(\u001b[49m\u001b[43mg\u001b[49m\u001b[43m,\u001b[49m\u001b[43m \u001b[49m\u001b[38;5;124;43m\"\u001b[39;49m\u001b[38;5;124;43mAirport\u001b[39;49m\u001b[38;5;124;43m\"\u001b[39;49m\u001b[43m,\u001b[49m\u001b[43m \u001b[49m\u001b[43ml_newcol\u001b[49m\u001b[43m)\u001b[49m\u001b[43m)\u001b[49m\n\u001b[1;32m     43\u001b[0m \u001b[38;5;28mprint\u001b[39m(\u001b[38;5;124m\"\u001b[39m\u001b[38;5;124m--\u001b[39m\u001b[38;5;124m\"\u001b[39m)\n",
      "File \u001b[0;32m/opt/conda/lib/python3.8/site-packages/katana_enterprise/async_to_sync.py:259\u001b[0m, in \u001b[0;36mAsyncToSync.<locals>.do_wrap.<locals>.wrapper\u001b[0;34m(self, *args, **kwargs)\u001b[0m\n\u001b[1;32m    256\u001b[0m \u001b[38;5;129m@wraps\u001b[39m(underlying_func)\n\u001b[1;32m    257\u001b[0m \u001b[38;5;28;01mdef\u001b[39;00m \u001b[38;5;21mwrapper\u001b[39m(\u001b[38;5;28mself\u001b[39m, \u001b[38;5;241m*\u001b[39margs, \u001b[38;5;241m*\u001b[39m\u001b[38;5;241m*\u001b[39mkwargs):\n\u001b[1;32m    258\u001b[0m     \u001b[38;5;28;01mreturn\u001b[39;00m registry\u001b[38;5;241m.\u001b[39masync_to_sync(\n\u001b[0;32m--> 259\u001b[0m         \u001b[43munderlying_func\u001b[49m\u001b[43m(\u001b[49m\n\u001b[1;32m    260\u001b[0m \u001b[43m            \u001b[49m\u001b[43mget_self_func\u001b[49m\u001b[43m(\u001b[49m\u001b[38;5;28;43mself\u001b[39;49m\u001b[43m)\u001b[49m\u001b[43m,\u001b[49m\n\u001b[1;32m    261\u001b[0m \u001b[43m            \u001b[49m\u001b[38;5;241;43m*\u001b[39;49m\u001b[43m(\u001b[49m\u001b[43mregistry\u001b[49m\u001b[38;5;241;43m.\u001b[39;49m\u001b[43msync_to_async\u001b[49m\u001b[43m(\u001b[49m\u001b[43ma\u001b[49m\u001b[43m)\u001b[49m\u001b[43m \u001b[49m\u001b[38;5;28;43;01mfor\u001b[39;49;00m\u001b[43m \u001b[49m\u001b[43ma\u001b[49m\u001b[43m \u001b[49m\u001b[38;5;129;43;01min\u001b[39;49;00m\u001b[43m \u001b[49m\u001b[43margs\u001b[49m\u001b[43m)\u001b[49m\u001b[43m,\u001b[49m\n\u001b[1;32m    262\u001b[0m \u001b[43m            \u001b[49m\u001b[38;5;241;43m*\u001b[39;49m\u001b[38;5;241;43m*\u001b[39;49m\u001b[43m{\u001b[49m\u001b[43mk\u001b[49m\u001b[43m:\u001b[49m\u001b[43m \u001b[49m\u001b[43mregistry\u001b[49m\u001b[38;5;241;43m.\u001b[39;49m\u001b[43msync_to_async\u001b[49m\u001b[43m(\u001b[49m\u001b[43mv\u001b[49m\u001b[43m)\u001b[49m\u001b[43m \u001b[49m\u001b[38;5;28;43;01mfor\u001b[39;49;00m\u001b[43m \u001b[49m\u001b[43mk\u001b[49m\u001b[43m,\u001b[49m\u001b[43m \u001b[49m\u001b[43mv\u001b[49m\u001b[43m \u001b[49m\u001b[38;5;129;43;01min\u001b[39;49;00m\u001b[43m \u001b[49m\u001b[43mkwargs\u001b[49m\u001b[38;5;241;43m.\u001b[39;49m\u001b[43mitems\u001b[49m\u001b[43m(\u001b[49m\u001b[43m)\u001b[49m\u001b[43m}\u001b[49m\u001b[43m,\u001b[49m\n\u001b[1;32m    263\u001b[0m \u001b[43m        \u001b[49m\u001b[43m)\u001b[49m\n\u001b[1;32m    264\u001b[0m     )\n",
      "File \u001b[0;32m/opt/conda/lib/python3.8/site-packages/katana_enterprise/async_to_sync.py:176\u001b[0m, in \u001b[0;36masync_to_sync.<locals>.wrapper\u001b[0;34m(timeout, *args, **kwargs)\u001b[0m\n\u001b[1;32m    166\u001b[0m     registry \u001b[38;5;241m=\u001b[39m AsyncToSyncClassRegistry\u001b[38;5;241m.\u001b[39mget()\n\u001b[1;32m    167\u001b[0m     \u001b[38;5;28;01mreturn\u001b[39;00m registry\u001b[38;5;241m.\u001b[39masync_to_sync(\n\u001b[1;32m    168\u001b[0m         wait_for(\n\u001b[1;32m    169\u001b[0m             async_func(\n\u001b[0;32m   (...)\u001b[0m\n\u001b[1;32m    174\u001b[0m         )\n\u001b[1;32m    175\u001b[0m     )\n\u001b[0;32m--> 176\u001b[0m \u001b[38;5;28;01mreturn\u001b[39;00m \u001b[43mwait_for\u001b[49m\u001b[43m(\u001b[49m\u001b[43masync_func\u001b[49m\u001b[43m(\u001b[49m\u001b[38;5;241;43m*\u001b[39;49m\u001b[43margs\u001b[49m\u001b[43m,\u001b[49m\u001b[43m \u001b[49m\u001b[38;5;241;43m*\u001b[39;49m\u001b[38;5;241;43m*\u001b[39;49m\u001b[43mkwargs\u001b[49m\u001b[43m)\u001b[49m\u001b[43m,\u001b[49m\u001b[43m \u001b[49m\u001b[43mtimeout\u001b[49m\u001b[38;5;241;43m=\u001b[39;49m\u001b[43mtimeout\u001b[49m\u001b[43m)\u001b[49m\n",
      "File \u001b[0;32m/opt/conda/lib/python3.8/site-packages/katana_enterprise/async_to_sync.py:147\u001b[0m, in \u001b[0;36mwait_for\u001b[0;34m(coro, timeout)\u001b[0m\n\u001b[1;32m    145\u001b[0m \u001b[38;5;28;01mtry\u001b[39;00m:\n\u001b[1;32m    146\u001b[0m     future \u001b[38;5;241m=\u001b[39m asyncio\u001b[38;5;241m.\u001b[39mrun_coroutine_threadsafe(timeout_coro, loop\u001b[38;5;241m=\u001b[39mAsyncRunnerThread\u001b[38;5;241m.\u001b[39mget()\u001b[38;5;241m.\u001b[39mloop)\n\u001b[0;32m--> 147\u001b[0m     \u001b[38;5;28;01mreturn\u001b[39;00m \u001b[43mfuture\u001b[49m\u001b[38;5;241;43m.\u001b[39;49m\u001b[43mresult\u001b[49m\u001b[43m(\u001b[49m\u001b[43m)\u001b[49m\n\u001b[1;32m    148\u001b[0m \u001b[38;5;28;01mexcept\u001b[39;00m \u001b[38;5;167;01mKeyboardInterrupt\u001b[39;00m:\n\u001b[1;32m    149\u001b[0m     inner_future\u001b[38;5;241m.\u001b[39mcancel()\n",
      "File \u001b[0;32m/opt/conda/lib/python3.8/concurrent/futures/_base.py:444\u001b[0m, in \u001b[0;36mFuture.result\u001b[0;34m(self, timeout)\u001b[0m\n\u001b[1;32m    442\u001b[0m     \u001b[38;5;28;01mraise\u001b[39;00m CancelledError()\n\u001b[1;32m    443\u001b[0m \u001b[38;5;28;01melif\u001b[39;00m \u001b[38;5;28mself\u001b[39m\u001b[38;5;241m.\u001b[39m_state \u001b[38;5;241m==\u001b[39m FINISHED:\n\u001b[0;32m--> 444\u001b[0m     \u001b[38;5;28;01mreturn\u001b[39;00m \u001b[38;5;28;43mself\u001b[39;49m\u001b[38;5;241;43m.\u001b[39;49m\u001b[43m__get_result\u001b[49m\u001b[43m(\u001b[49m\u001b[43m)\u001b[49m\n\u001b[1;32m    445\u001b[0m \u001b[38;5;28;01melse\u001b[39;00m:\n\u001b[1;32m    446\u001b[0m     \u001b[38;5;28;01mraise\u001b[39;00m \u001b[38;5;167;01mTimeoutError\u001b[39;00m()\n",
      "File \u001b[0;32m/opt/conda/lib/python3.8/concurrent/futures/_base.py:389\u001b[0m, in \u001b[0;36mFuture.__get_result\u001b[0;34m(self)\u001b[0m\n\u001b[1;32m    387\u001b[0m \u001b[38;5;28;01mif\u001b[39;00m \u001b[38;5;28mself\u001b[39m\u001b[38;5;241m.\u001b[39m_exception:\n\u001b[1;32m    388\u001b[0m     \u001b[38;5;28;01mtry\u001b[39;00m:\n\u001b[0;32m--> 389\u001b[0m         \u001b[38;5;28;01mraise\u001b[39;00m \u001b[38;5;28mself\u001b[39m\u001b[38;5;241m.\u001b[39m_exception\n\u001b[1;32m    390\u001b[0m     \u001b[38;5;28;01mfinally\u001b[39;00m:\n\u001b[1;32m    391\u001b[0m         \u001b[38;5;66;03m# Break a reference cycle with the exception in self._exception\u001b[39;00m\n\u001b[1;32m    392\u001b[0m         \u001b[38;5;28mself\u001b[39m \u001b[38;5;241m=\u001b[39m \u001b[38;5;28;01mNone\u001b[39;00m\n",
      "File \u001b[0;32m/opt/conda/lib/python3.8/asyncio/tasks.py:455\u001b[0m, in \u001b[0;36mwait_for\u001b[0;34m(fut, timeout, loop)\u001b[0m\n\u001b[1;32m    450\u001b[0m     warnings\u001b[38;5;241m.\u001b[39mwarn(\u001b[38;5;124m\"\u001b[39m\u001b[38;5;124mThe loop argument is deprecated since Python 3.8, \u001b[39m\u001b[38;5;124m\"\u001b[39m\n\u001b[1;32m    451\u001b[0m                   \u001b[38;5;124m\"\u001b[39m\u001b[38;5;124mand scheduled for removal in Python 3.10.\u001b[39m\u001b[38;5;124m\"\u001b[39m,\n\u001b[1;32m    452\u001b[0m                   \u001b[38;5;167;01mDeprecationWarning\u001b[39;00m, stacklevel\u001b[38;5;241m=\u001b[39m\u001b[38;5;241m2\u001b[39m)\n\u001b[1;32m    454\u001b[0m \u001b[38;5;28;01mif\u001b[39;00m timeout \u001b[38;5;129;01mis\u001b[39;00m \u001b[38;5;28;01mNone\u001b[39;00m:\n\u001b[0;32m--> 455\u001b[0m     \u001b[38;5;28;01mreturn\u001b[39;00m \u001b[38;5;28;01mawait\u001b[39;00m fut\n\u001b[1;32m    457\u001b[0m \u001b[38;5;28;01mif\u001b[39;00m timeout \u001b[38;5;241m<\u001b[39m\u001b[38;5;241m=\u001b[39m \u001b[38;5;241m0\u001b[39m:\n\u001b[1;32m    458\u001b[0m     fut \u001b[38;5;241m=\u001b[39m ensure_future(fut, loop\u001b[38;5;241m=\u001b[39mloop)\n",
      "File \u001b[0;32m/opt/conda/lib/python3.8/site-packages/katana_enterprise/remote/aio/graph.py:660\u001b[0m, in \u001b[0;36mGraph.run\u001b[0;34m(self, function)\u001b[0m\n\u001b[1;32m    658\u001b[0m \u001b[38;5;28mprint\u001b[39m(result\u001b[38;5;241m.\u001b[39mstdout, file\u001b[38;5;241m=\u001b[39msys\u001b[38;5;241m.\u001b[39mstdout, end\u001b[38;5;241m=\u001b[39m\u001b[38;5;124m\"\u001b[39m\u001b[38;5;124m\"\u001b[39m)\n\u001b[1;32m    659\u001b[0m \u001b[38;5;28mprint\u001b[39m(result\u001b[38;5;241m.\u001b[39mstderr, file\u001b[38;5;241m=\u001b[39msys\u001b[38;5;241m.\u001b[39mstderr, end\u001b[38;5;241m=\u001b[39m\u001b[38;5;124m\"\u001b[39m\u001b[38;5;124m\"\u001b[39m)\n\u001b[0;32m--> 660\u001b[0m \u001b[38;5;28;01mreturn\u001b[39;00m \u001b[43mresult\u001b[49m\u001b[38;5;241;43m.\u001b[39;49m\u001b[43mvalue\u001b[49m\n",
      "File \u001b[0;32m/opt/conda/lib/python3.8/site-packages/katana_enterprise/remote/run_result.py:16\u001b[0m, in \u001b[0;36mRunResult.value\u001b[0;34m(self)\u001b[0m\n\u001b[1;32m     14\u001b[0m \u001b[38;5;129m@property\u001b[39m\n\u001b[1;32m     15\u001b[0m \u001b[38;5;28;01mdef\u001b[39;00m \u001b[38;5;21mvalue\u001b[39m(\u001b[38;5;28mself\u001b[39m):\n\u001b[0;32m---> 16\u001b[0m     \u001b[38;5;28;43mself\u001b[39;49m\u001b[38;5;241;43m.\u001b[39;49m\u001b[43mreraise_if_error\u001b[49m\u001b[43m(\u001b[49m\u001b[43m)\u001b[49m\n\u001b[1;32m     17\u001b[0m     \u001b[38;5;28;01massert\u001b[39;00m \u001b[38;5;28mself\u001b[39m\u001b[38;5;241m.\u001b[39msuccess\n\u001b[1;32m     18\u001b[0m     \u001b[38;5;28;01mreturn\u001b[39;00m \u001b[38;5;28mself\u001b[39m\u001b[38;5;241m.\u001b[39m_value\n",
      "File \u001b[0;32m/opt/conda/lib/python3.8/site-packages/katana_enterprise/remote/run_result.py:12\u001b[0m, in \u001b[0;36mRunResult.reraise_if_error\u001b[0;34m(self)\u001b[0m\n\u001b[1;32m     10\u001b[0m \u001b[38;5;28;01mdef\u001b[39;00m \u001b[38;5;21mreraise_if_error\u001b[39m(\u001b[38;5;28mself\u001b[39m):\n\u001b[1;32m     11\u001b[0m     \u001b[38;5;28;01mif\u001b[39;00m \u001b[38;5;129;01mnot\u001b[39;00m \u001b[38;5;28mself\u001b[39m\u001b[38;5;241m.\u001b[39msuccess:\n\u001b[0;32m---> 12\u001b[0m         \u001b[38;5;28;01mraise\u001b[39;00m \u001b[38;5;28mself\u001b[39m\u001b[38;5;241m.\u001b[39m_value\n",
      "File \u001b[0;32m/opt/miniconda/lib/python3.8/site-packages/katana_enterprise/worker/worker.py:153\u001b[0m, in \u001b[0;36mexecute\u001b[0;34m()\u001b[0m\n",
      "File \u001b[0;32m/opt/miniconda/lib/python3.8/site-packages/katana_enterprise/worker/worker.py:111\u001b[0m, in \u001b[0;36mexecute\u001b[0;34m()\u001b[0m\n",
      "Cell \u001b[0;32mIn[17], line 41\u001b[0m, in \u001b[0;36m<lambda>\u001b[0;34m()\u001b[0m\n\u001b[1;32m     38\u001b[0m l_newcol \u001b[38;5;241m=\u001b[39m \u001b[38;5;124m\"\u001b[39m\u001b[38;5;124mnewcol_0022\u001b[39m\u001b[38;5;124m\"\u001b[39m\n\u001b[1;32m     39\u001b[0m \u001b[38;5;66;03m#  l_newcol = \"newcol_0021\"\u001b[39;00m\n\u001b[1;32m     40\u001b[0m    \u001b[38;5;66;03m#\u001b[39;00m\n\u001b[0;32m---> 41\u001b[0m l_result \u001b[38;5;241m=\u001b[39m my_graph\u001b[38;5;241m.\u001b[39mrun(\u001b[38;5;28;01mlambda\u001b[39;00m g: my_func(g, \u001b[38;5;124m\"\u001b[39m\u001b[38;5;124mAirport\u001b[39m\u001b[38;5;124m\"\u001b[39m, l_newcol))\n\u001b[1;32m     43\u001b[0m \u001b[38;5;28mprint\u001b[39m(\u001b[38;5;124m\"\u001b[39m\u001b[38;5;124m--\u001b[39m\u001b[38;5;124m\"\u001b[39m)\n",
      "Cell \u001b[0;32mIn[17], line 15\u001b[0m, in \u001b[0;36mmy_func\u001b[0;34m()\u001b[0m\n\u001b[1;32m     11\u001b[0m \u001b[38;5;28;01mfrom\u001b[39;00m \u001b[38;5;21;01mkatana\u001b[39;00m\u001b[38;5;21;01m.\u001b[39;00m\u001b[38;5;21;01mdistributed\u001b[39;00m \u001b[38;5;28;01mimport\u001b[39;00m KeyedColumnNode\n\u001b[1;32m     12\u001b[0m \u001b[38;5;28;01mimport\u001b[39;00m \u001b[38;5;21;01mnumpy\u001b[39;00m \u001b[38;5;28;01mas\u001b[39;00m \u001b[38;5;21;01mnp\u001b[39;00m\n\u001b[0;32m---> 15\u001b[0m l_node_props \u001b[38;5;241m=\u001b[39m i_graph\u001b[38;5;241m.\u001b[39mnodes\u001b[38;5;241m.\u001b[39mget_property(i_delcol)\n\u001b[1;32m     16\u001b[0m    \u001b[38;5;66;03m#\u001b[39;00m\n\u001b[1;32m     17\u001b[0m l_node_keys  \u001b[38;5;241m=\u001b[39m l_node_props\u001b[38;5;241m.\u001b[39mkeys()                                                               \u001b[38;5;66;03m#  keys() works against any column in the node.\u001b[39;00m\n",
      "\u001b[0;31mLookupError\u001b[0m: backtrace (LSPGGraph.h:366): backtrace (LogStructuredPropertyGraph.cpp:1181): no column with name newcol_0022 (PropertyTableGroup.h:141): no such property"
     ]
    }
   ],
   "source": [
    "\n",
    "#  QQQ\n",
    "\n",
    "#  Deleting a property from Nodes; approach 2\n",
    "#\n",
    "#  We'll show deleting a property just from one Node type; Airport\n",
    "#\n",
    "\n",
    "\n",
    "def my_func(i_graph, i_label, i_delcol):\n",
    "    \n",
    "   from katana.distributed import KeyedColumnNode\n",
    "   import numpy as np\n",
    "    \n",
    "    \n",
    "   l_node_props = i_graph.nodes.get_property(i_delcol)\n",
    "      #\n",
    "   l_node_keys  = l_node_props.keys()                                                               #  keys() works against any column in the node.\n",
    "      #\n",
    "   l_new_cols   = np.zeros(len(l_node_props), dtype=\"object\")                                       #  An empty NumPy array, same length as l_node_props\n",
    "\n",
    "\n",
    "   for l_index, l_key in enumerate(l_node_keys):                                                    #  Loop over the keys that are already in the graph\n",
    "      if (i_label in i_graph.nodes.labels(l_key) ):                                                   \n",
    "         #  Is Airport\n",
    "         l_new_cols[l_index] = None\n",
    "      else:\n",
    "         #  Not Airport\n",
    "         l_new_cols[l_index] = l_node_props[l_key]\n",
    "    \n",
    "   l_keyed_cols = KeyedColumnNode(l_new_cols, l_node_props, i_delcol)                               #  Building what we need to send to upsert_property()\n",
    "      #\n",
    "   i_graph.nodes.upsert_property(l_keyed_cols)\n",
    "\n",
    "\n",
    "   return\n",
    "\n",
    "\n",
    "l_newcol = \"newcol_0022\"\n",
    "#  l_newcol = \"newcol_0021\"\n",
    "   #\n",
    "l_result = my_graph.run(lambda g: my_func(g, \"Airport\", l_newcol))\n",
    "\n",
    "print(\"--\")\n"
   ]
  },
  {
   "cell_type": "code",
   "execution_count": null,
   "id": "5c74b584-e2f6-4262-a42c-4f34be250a69",
   "metadata": {},
   "outputs": [],
   "source": []
  },
  {
   "cell_type": "code",
   "execution_count": null,
   "id": "930391bc-81c8-40b9-afb9-a960169d2a2d",
   "metadata": {},
   "outputs": [],
   "source": []
  }
 ],
 "metadata": {
  "kernelspec": {
   "display_name": "Python 3 (ipykernel)",
   "language": "python",
   "name": "python3"
  },
  "language_info": {
   "codemirror_mode": {
    "name": "ipython",
    "version": 3
   },
   "file_extension": ".py",
   "mimetype": "text/x-python",
   "name": "python",
   "nbconvert_exporter": "python",
   "pygments_lexer": "ipython3",
   "version": "3.8.15"
  }
 },
 "nbformat": 4,
 "nbformat_minor": 5
}
