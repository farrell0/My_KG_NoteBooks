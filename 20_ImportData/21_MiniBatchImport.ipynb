{
 "cells": [
  {
   "cell_type": "markdown",
   "id": "c54fd830-1317-4a52-b610-ef9716e5d744",
   "metadata": {
    "tags": []
   },
   "source": [
    "#  Setup: Display options"
   ]
  },
  {
   "cell_type": "code",
   "execution_count": 1,
   "id": "8a38ebd7-d1d9-47a8-955c-a8270b024543",
   "metadata": {},
   "outputs": [
    {
     "data": {
      "text/html": [],
      "text/plain": [
       "<IPython.core.display.HTML object>"
      ]
     },
     "metadata": {},
     "output_type": "display_data"
    },
    {
     "name": "stdout",
     "output_type": "stream",
     "text": [
      "--\n"
     ]
    }
   ],
   "source": [
    "\n",
    "#  Setting display options \n",
    "\n",
    "import pandas as pd\n",
    "   #\n",
    "pd.set_option(\"display.width\", 480)\n",
    "\n",
    "#  Sets horizontal scroll for wide outputs\n",
    "#\n",
    "from IPython.display import display, HTML\n",
    "display(HTML(\"\"))\n",
    "\n",
    "from tabulate import tabulate\n",
    "\n",
    "print(\"--\")\n"
   ]
  },
  {
   "cell_type": "markdown",
   "id": "3ab7ce90-67cf-462c-94a6-3c8c9d0754b3",
   "metadata": {},
   "source": [
    "# Setup: Connectivity"
   ]
  },
  {
   "cell_type": "code",
   "execution_count": 2,
   "id": "e87b75ba-c072-4111-8cca-4b4f394a0fce",
   "metadata": {},
   "outputs": [
    {
     "name": "stdout",
     "output_type": "stream",
     "text": [
      "<katana_enterprise.remote.sync_wrappers.Client object at 0x7f3ab454ff10>\n"
     ]
    }
   ],
   "source": [
    "\n",
    "from katana import remote\n",
    "\n",
    "my_client = remote.Client()\n",
    "\n",
    "print(my_client)\n"
   ]
  },
  {
   "cell_type": "code",
   "execution_count": 3,
   "id": "d3a77f99-f11b-4105-ab43-17ce605b15e8",
   "metadata": {},
   "outputs": [
    {
     "name": "stdout",
     "output_type": "stream",
     "text": [
      "--\n"
     ]
    }
   ],
   "source": [
    "\n",
    "NUM_PARTITIONS  = 3\n",
    "   #\n",
    "DB_NAME         = \"my_db\"\n",
    "GRAPH_NAME      = \"my_graph\"\n",
    "\n",
    "print(\"--\")\n"
   ]
  },
  {
   "cell_type": "code",
   "execution_count": 4,
   "id": "7f2292b8-7df0-49a0-b3da-523f56cfe4f8",
   "metadata": {},
   "outputs": [
    {
     "name": "stdout",
     "output_type": "stream",
     "text": [
      "--\n"
     ]
    }
   ],
   "source": [
    "\n",
    "#  DELETE ALL GRAPHS\n",
    "\n",
    "for l_database in my_client.databases():\n",
    "   for l_graph in my_client.get_database(name=l_database.name).graphs_in_database():\n",
    "      l_handle=my_client.get_database(name=l_database.name).get_graph_by_id(id=l_graph.graph_id)\n",
    "      l_handle.delete()\n",
    "\n",
    "for l_graph in my_client.graphs():\n",
    "   print(\"GRAPH ID: \", l_graph.graph_id, \"      GRAPH Version: \", l_graph.version)\n",
    "\n",
    "print(\"--\")\n"
   ]
  },
  {
   "cell_type": "code",
   "execution_count": null,
   "id": "71f69a0e-451b-4679-b49c-5db1208d4c8f",
   "metadata": {},
   "outputs": [],
   "source": [
    "\n",
    "#  DELETE ALL DATABASES\n",
    "\n",
    "for l_database in my_client.databases():\n",
    "   if (l_database.name != \"default\"):\n",
    "      my_client.get_database(name=l_database.name).delete_database()\n",
    "      print(\"--\")\n",
    "\n",
    "for l_database in my_client.databases():\n",
    "   print(\"DB ID: \", l_database.database_id, \"     DB Name: \", l_database.name)\n"
   ]
  },
  {
   "cell_type": "code",
   "execution_count": null,
   "id": "a3b3bc00-fafb-481d-ba5a-8b52ae7d6e79",
   "metadata": {},
   "outputs": [],
   "source": [
    "\n",
    "#  CREATE DATABASE\n",
    "\n",
    "my_database = my_client.create_database(name=DB_NAME)\n",
    "\n",
    "print(my_database.database_id)\n"
   ]
  },
  {
   "cell_type": "code",
   "execution_count": 5,
   "id": "b8ba088b-2ec5-4b2a-8171-3c87ddffb47c",
   "metadata": {},
   "outputs": [
    {
     "name": "stdout",
     "output_type": "stream",
     "text": [
      "<_Graph my_graph, J4ugcL4QUXrzywMrEjaLkx6bRjAusQQgfrdkA8pFTdzm, 0>\n"
     ]
    }
   ],
   "source": [
    "\n",
    "#  CREATE GRAPH\n",
    "#\n",
    "my_graph = my_client.get_database(name=DB_NAME).create_graph(name=GRAPH_NAME, num_partitions=NUM_PARTITIONS)\n",
    "\n",
    "print(my_graph)\n"
   ]
  },
  {
   "cell_type": "code",
   "execution_count": null,
   "id": "6a98726a-74a6-4493-87b8-da9f77c28fb3",
   "metadata": {},
   "outputs": [],
   "source": [
    "\n",
    "#  CONNECT TO GRAPH\n",
    "\n",
    "my_graph, *_ = my_client.get_database(name=DB_NAME).find_graphs_by_name(GRAPH_NAME)\n",
    "\n",
    "print(my_graph)\n"
   ]
  },
  {
   "cell_type": "markdown",
   "id": "c3685a36-d987-4ad8-a209-7115d726ac03",
   "metadata": {},
   "source": [
    "# Step 01: Support Methods to Create CSV files .."
   ]
  },
  {
   "cell_type": "code",
   "execution_count": 6,
   "id": "a50fd04c-9880-498e-978b-6a45da00f143",
   "metadata": {},
   "outputs": [
    {
     "name": "stdout",
     "output_type": "stream",
     "text": [
      "--\n"
     ]
    }
   ],
   "source": [
    "\n",
    "#  The overall goal of this NoteBook is to show incremental import. That is, importing\n",
    "#  into the graph many smaller pieces versus perhaps running one single import operation.\n",
    "#\n",
    "#  As such, we'll create (n) DataFrames with Nodes, (m) with Edges, and import those.\n",
    "#\n",
    "#     (n) and (m) are determined by how we invoke the method below.\n",
    "#\n",
    "\n",
    "import pandas as pd\n",
    "   #\n",
    "import dask.dataframe as dd\n",
    "   #\n",
    "from dask.dataframe import from_pandas\n",
    "\n",
    "\n",
    "#  Generate a Dask DataFrame given a few column variables\n",
    "#\n",
    "def f_create_dataframe(i_node_or_edge, i_keyranges, i_label_or_type):\n",
    "\n",
    "   l_data_array = []\n",
    "\n",
    "   if (i_node_or_edge == \"node\"):\n",
    "      #\n",
    "      #  This is for nodes; we loop from i_keyranges[0] to i_keyranges[1]\n",
    "      #\n",
    "      for l_key in range(i_keyranges[0], i_keyranges[1] + 1):\n",
    "         l_key_str = str(i_label_or_type + \"_id\").lower()\n",
    "            #\n",
    "         l_data_dict = { l_key_str: l_key, \"col2\": \"222\", \"col3\": \"333\", \"col4\": 444, \"LABEL\": i_label_or_type}\n",
    "            #\n",
    "         l_data_array.append(l_data_dict)\n",
    "            #\n",
    "      l_dataframe =  pd.DataFrame(l_data_array, columns = [l_key_str, \"col2\", \"col3\", \"col4\", \"LABEL\"])\n",
    "   else:\n",
    "      #\n",
    "      #  This is for edges; here we expect five integers in i_keyranges[]\n",
    "      #\n",
    "      #     .  We (outer) loop from i_keyranges[0] to i_keyranges[1]\n",
    "      #        This is for the left edge, and form the key range for a given\n",
    "      #        set of nodes.\n",
    "      #     .  For each record above, we loop (n) times, where n is equal\n",
    "      #        to i_keyanges[2]. Call this the (inner) loop.\n",
    "      #     .  The values produced in the inner loop are sequential from\n",
    "      #        i_keyranges[3] to i_keyranges[4]\n",
    "      #\n",
    "      #     .  See examples in next cell\n",
    "      #\n",
    "      l_right_key = i_keyranges[3] - 1\n",
    "         #\n",
    "      for l_left_key in range(i_keyranges[0], i_keyranges[1] + 1):\n",
    "         for l_each in range(1, i_keyranges[2] + 1):\n",
    "            l_right_key +=1\n",
    "               #\n",
    "            if (l_right_key > i_keyranges[4]):\n",
    "               l_right_key = i_keyranges[3]\n",
    "                  #\n",
    "            l_data_dict1 = { \"start_id\": l_left_key,  \"end_id\": l_right_key, \"weight\": 444, \"uniq_col\": str(l_each), \"TYPE\": i_label_or_type}\n",
    "            l_data_dict2 = { \"end_id\": l_left_key,  \"start_id\": l_right_key, \"weight\": 444, \"uniq_col\": str(l_each), \"TYPE\": i_label_or_type}\n",
    "               #\n",
    "            l_data_array.append(l_data_dict1)\n",
    "            l_data_array.append(l_data_dict2)\n",
    "            #\n",
    "         l_dataframe =  pd.DataFrame(l_data_array, columns = [\"start_id\", \"end_id\", \"weight\", \"uniq_col\", \"TYPE\"])\n",
    "\n",
    "   l_dataframe_dd = from_pandas(l_dataframe, npartitions = NUM_PARTITIONS)\n",
    "\n",
    "\n",
    "   return l_dataframe_dd\n",
    "\n",
    "\n",
    "#  The name of the primary key column must be consistently named across\n",
    "#  all nodes in the graph. Easy code, but place it in a method regardless.\n",
    "#\n",
    "def f_copy_id_col(i_dataframe, i_colname):\n",
    "    \n",
    "   #  If we wanted a simple column rename\n",
    "   #\n",
    "   #  l_return = i_dataframe.rename(columns={i_colname: \"id\"})\n",
    "   #  return l_return\n",
    "     \n",
    "   i_dataframe[\"id\"] = i_dataframe[i_colname].map(lambda x: x )\n",
    "\n",
    "   return i_dataframe\n",
    "    \n",
    "\n",
    "print(\"--\")\n",
    "                             \n"
   ]
  },
  {
   "cell_type": "code",
   "execution_count": null,
   "id": "2f37711f-eb7d-4336-8d4b-8938a6d2ee79",
   "metadata": {},
   "outputs": [],
   "source": [
    "\n",
    "#  Example demonstrating the above-\n",
    "#\n",
    "\n",
    "#  Create Person nodes in the range 100-103\n",
    "#\n",
    "df_nodes1 = f_create_dataframe(\"node\", [100, 103], \"Person\")\n",
    "   #                         \n",
    "#  print(tabulate(df_nodes1, headers='keys', tablefmt='psql'))\n",
    "print(df_nodes1.compute())\n",
    "\n",
    "\n",
    "#  Create Flight nodes in the range 400-410\n",
    "#\n",
    "df_nodes2 = f_create_dataframe(\"node\", [400, 410], \"Flight\")\n",
    "   #\n",
    "#  print(tabulate(df_nodes2, headers='keys', tablefmt='psql'))\n",
    "print(df_nodes2.compute())\n",
    "\n",
    "\n",
    "#  From this method invocation,\n",
    "#\n",
    "#     df_edges  = f_create_dataframe(\"edge\", [100, 103, 2, 400, 410], \"TAKES_FLIGHT\")\n",
    "#\n",
    "#  Create 2 TAKES_FLIGHT edges, for each left edge node in the\n",
    "#  range 100-103. Whatever this loop creates, assign right-edge\n",
    "#  key value sequentially from 400 to 410.\n",
    "#\n",
    "#  If we need more right-edge records, start over at 400.\n",
    "#\n",
    "#  If there are not enough left-edge records produced, not\n",
    "#  all right-edge nodes may recieve an edge.\n",
    "#\n",
    "#     If so, you may call this method again, say with these\n",
    "#     arguments,\n",
    "#        df_edges  = f_create_dataframe(\"edge\", [100, 103, 1, 404, 406, \"TAKES_FLIGHT\")\n",
    "#        df_edges  = f_create_dataframe(\"edge\", [100, 103, 1, 407, 408, \"TAKES_FLIGHT\")\n",
    "#        df_edges  = f_create_dataframe(\"edge\", [100, 103, 1, 409, 410, \"TAKES_FLIGHT\")\n",
    "#\n",
    "#     or whatever\n",
    "#\n",
    "#  Per a standard graph import, if you create edges for which there is no node,\n",
    "#  the record is discarded.\n",
    "#\n",
    "#  Edges are automaticallt created to be bi-directional.\n",
    "#\n",
    "\n",
    "\n",
    "df_edges  = f_create_dataframe(\"edge\", [100, 103, 2, 400, 410], \"TAKES_FLIGHT\")\n",
    "   #\n",
    "# print(tabulate(df_edges, headers='keys', tablefmt='psql'))\n",
    "print(df_edges.compute())\n",
    "\n",
    "\n",
    "del df_nodes1\n",
    "del df_nodes2\n",
    "del df_edges\n",
    "\n",
    "                               \n",
    "print(\"--\")\n",
    "\n",
    "#  Sample output\n",
    "#\n",
    "#     +----+-------------+--------+--------+--------+---------+\n",
    "#     |    |   person_id |   col2 |   col3 |   col4 | LABEL   |\n",
    "#     |----+-------------+--------+--------+--------+---------|\n",
    "#     |  0 |         100 |    222 |    333 |    444 | Person  |\n",
    "#     |  1 |         101 |    222 |    333 |    444 | Person  |\n",
    "#     |  2 |         102 |    222 |    333 |    444 | Person  |\n",
    "#     |  3 |         103 |    222 |    333 |    444 | Person  |\n",
    "#     +----+-------------+--------+--------+--------+---------+\n",
    "#     +----+-------------+--------+--------+--------+---------+\n",
    "#     |    |   flight_id |   col2 |   col3 |   col4 | LABEL   |\n",
    "#     |----+-------------+--------+--------+--------+---------|\n",
    "#     |  0 |         400 |    222 |    333 |    444 | Flight  |\n",
    "#     |  1 |         401 |    222 |    333 |    444 | Flight  |\n",
    "#     |  2 |         402 |    222 |    333 |    444 | Flight  |\n",
    "#     |  3 |         403 |    222 |    333 |    444 | Flight  |\n",
    "#     |  4 |         404 |    222 |    333 |    444 | Flight  |\n",
    "#     |  5 |         405 |    222 |    333 |    444 | Flight  |\n",
    "#     |  6 |         406 |    222 |    333 |    444 | Flight  |\n",
    "#     |  7 |         407 |    222 |    333 |    444 | Flight  |\n",
    "#     |  8 |         408 |    222 |    333 |    444 | Flight  |\n",
    "#     |  9 |         409 |    222 |    333 |    444 | Flight  |\n",
    "#     | 10 |         410 |    222 |    333 |    444 | Flight  |\n",
    "#     +----+-------------+--------+--------+--------+---------+\n",
    "#     +----+------------+----------+----------+------------+--------------+\n",
    "#     |    |   start_id |   end_id |   weight |   uniq_col | TYPE         |\n",
    "#     |----+------------+----------+----------+------------+--------------|\n",
    "#     |  0 |        100 |      400 |      444 |          1 | TAKES_FLIGHT |\n",
    "#     |  1 |        400 |      100 |      444 |          1 | TAKES_FLIGHT |\n",
    "#     |  2 |        100 |      401 |      444 |          2 | TAKES_FLIGHT |\n",
    "#     |  3 |        401 |      100 |      444 |          2 | TAKES_FLIGHT |\n",
    "#     |  4 |        101 |      402 |      444 |          1 | TAKES_FLIGHT |\n",
    "#     |  5 |        402 |      101 |      444 |          1 | TAKES_FLIGHT |\n",
    "#     |  6 |        101 |      403 |      444 |          2 | TAKES_FLIGHT |\n",
    "#     |  7 |        403 |      101 |      444 |          2 | TAKES_FLIGHT |\n",
    "#     |  8 |        102 |      404 |      444 |          1 | TAKES_FLIGHT |\n",
    "#     |  9 |        404 |      102 |      444 |          1 | TAKES_FLIGHT |\n",
    "#     | 10 |        102 |      405 |      444 |          2 | TAKES_FLIGHT |\n",
    "#     | 11 |        405 |      102 |      444 |          2 | TAKES_FLIGHT |\n",
    "#     | 12 |        103 |      406 |      444 |          1 | TAKES_FLIGHT |\n",
    "#     | 13 |        406 |      103 |      444 |          1 | TAKES_FLIGHT |\n",
    "#     | 14 |        103 |      407 |      444 |          2 | TAKES_FLIGHT |\n",
    "#     | 15 |        407 |      103 |      444 |          2 | TAKES_FLIGHT |\n",
    "#     +----+------------+----------+----------+------------+--------------+\n",
    "\n",
    "                              "
   ]
  },
  {
   "cell_type": "markdown",
   "id": "c36e1596-03e6-450f-bcf0-144658f00701",
   "metadata": {},
   "source": [
    "#  Step 02:  Make Some Data, Import into Graph .."
   ]
  },
  {
   "cell_type": "code",
   "execution_count": 7,
   "id": "b337d260-8583-41fc-9300-e9994520cda6",
   "metadata": {},
   "outputs": [
    {
     "name": "stdout",
     "output_type": "stream",
     "text": [
      "--\n"
     ]
    }
   ],
   "source": [
    "\n",
    "\n",
    "#  First, make some data\n",
    "#\n",
    "\n",
    "df_persons1 = f_create_dataframe(\"node\", [100, 199], \"Person\")\n",
    "df_persons2 = f_create_dataframe(\"node\", [300, 399], \"Person\")\n",
    "df_persons3 = f_create_dataframe(\"node\", [400, 499], \"Person\")\n",
    "\n",
    "df_flights0 = f_create_dataframe(\"node\", [800, 810], \"Flight\")                          #  800-810 is actually 11 rows, just fyi\n",
    " \n",
    "\n",
    "#  Since there are so many more People then Flights, it's easier to\n",
    "#  invoke the Edge creation from (Small --> Large)\n",
    "#\n",
    "#  Edges are automatically created to be bi-directional\n",
    "#\n",
    "\n",
    "df_edges1  = f_create_dataframe(\"edge\", [800, 810, 5, 400, 410], \"TAKES_FLIGHT\")\n",
    "df_edges2  = f_create_dataframe(\"edge\", [800, 810, 1, 411, 499], \"TAKES_FLIGHT\")\n",
    "   #\n",
    "df_edges3  = f_create_dataframe(\"edge\", [800, 810, 2, 100, 199], \"TAKES_FLIGHT\")\n",
    "df_edges4  = f_create_dataframe(\"edge\", [800, 810, 2, 300, 399], \"TAKES_FLIGHT\")\n",
    "\n",
    "\n",
    "print(\"--\")\n"
   ]
  },
  {
   "cell_type": "code",
   "execution_count": 8,
   "id": "5d607abb-6e9b-4dfd-9b10-302c237556d6",
   "metadata": {},
   "outputs": [
    {
     "name": "stderr",
     "output_type": "stream",
     "text": [
      "UserWarning: dtype for DataFrame column 'col3' is 'object'. Will be inferred as string.\n"
     ]
    },
    {
     "data": {
      "application/vnd.jupyter.widget-view+json": {
       "model_id": "5e883161dfd84b21a681c2dfc6d2d633",
       "version_major": 2,
       "version_minor": 0
      },
      "text/plain": [
       "          0/? [?op/s]"
      ]
     },
     "metadata": {},
     "output_type": "display_data"
    },
    {
     "data": {
      "application/vnd.jupyter.widget-view+json": {
       "model_id": "bbd230bf07f84a38b10db644209d5e5f",
       "version_major": 2,
       "version_minor": 0
      },
      "text/plain": [
       "          0/? [?op/s]"
      ]
     },
     "metadata": {},
     "output_type": "display_data"
    },
    {
     "data": {
      "application/vnd.jupyter.widget-view+json": {
       "model_id": "c3bd4f3f429245f0afa55efa55fb49fe",
       "version_major": 2,
       "version_minor": 0
      },
      "text/plain": [
       "          0/? [?op/s]"
      ]
     },
     "metadata": {},
     "output_type": "display_data"
    },
    {
     "data": {
      "application/vnd.jupyter.widget-view+json": {
       "model_id": "de1741b2f6e0420e91435db0b0c8df25",
       "version_major": 2,
       "version_minor": 0
      },
      "text/plain": [
       "          0/? [?op/s]"
      ]
     },
     "metadata": {},
     "output_type": "display_data"
    },
    {
     "data": {
      "application/vnd.jupyter.widget-view+json": {
       "model_id": "2c2bd59e0fab4797a13b917858f32a9c",
       "version_major": 2,
       "version_minor": 0
      },
      "text/plain": [
       "          0/? [?op/s]"
      ]
     },
     "metadata": {},
     "output_type": "display_data"
    },
    {
     "data": {
      "application/vnd.jupyter.widget-view+json": {
       "model_id": "9344c9f01cb645aeb84d9baddf88d080",
       "version_major": 2,
       "version_minor": 0
      },
      "text/plain": [
       "          0/? [?op/s]"
      ]
     },
     "metadata": {},
     "output_type": "display_data"
    },
    {
     "name": "stderr",
     "output_type": "stream",
     "text": [
      "UserWarning: dtype for DataFrame column 'col2' is 'object'. Will be inferred as string.\n",
      "UserWarning: dtype for DataFrame column 'LABEL' is 'object'. Will be inferred as string.\n"
     ]
    },
    {
     "data": {
      "application/vnd.jupyter.widget-view+json": {
       "model_id": "812a848688e04ef1a8132b6a0ee4eec4",
       "version_major": 2,
       "version_minor": 0
      },
      "text/plain": [
       "          0/? [?op/s]"
      ]
     },
     "metadata": {},
     "output_type": "display_data"
    },
    {
     "data": {
      "application/vnd.jupyter.widget-view+json": {
       "model_id": "c14084fa1292419a9d9453f819d92aff",
       "version_major": 2,
       "version_minor": 0
      },
      "text/plain": [
       "          0/? [?op/s]"
      ]
     },
     "metadata": {},
     "output_type": "display_data"
    },
    {
     "name": "stderr",
     "output_type": "stream",
     "text": [
      "UserWarning: dtype for DataFrame column 'uniq_col' is 'object'. Will be inferred as string.\n",
      "UserWarning: dtype for DataFrame column 'TYPE' is 'object'. Will be inferred as string.\n"
     ]
    },
    {
     "data": {
      "application/vnd.jupyter.widget-view+json": {
       "model_id": "08e3e35b254a41f487808baba2169f13",
       "version_major": 2,
       "version_minor": 0
      },
      "text/plain": [
       "          0/? [?op/s]"
      ]
     },
     "metadata": {},
     "output_type": "display_data"
    },
    {
     "data": {
      "application/vnd.jupyter.widget-view+json": {
       "model_id": "c67b25047f3549eb91599c261f43bed5",
       "version_major": 2,
       "version_minor": 0
      },
      "text/plain": [
       "          0/? [?op/s]"
      ]
     },
     "metadata": {},
     "output_type": "display_data"
    },
    {
     "data": {
      "application/vnd.jupyter.widget-view+json": {
       "model_id": "efcb6d8de1d846cfb3c29f1f44ddaa04",
       "version_major": 2,
       "version_minor": 0
      },
      "text/plain": [
       "          0/? [?op/s]"
      ]
     },
     "metadata": {},
     "output_type": "display_data"
    },
    {
     "data": {
      "application/vnd.jupyter.widget-view+json": {
       "model_id": "99f2a90616f740a6aefb734dca8f2a6a",
       "version_major": 2,
       "version_minor": 0
      },
      "text/plain": [
       "          0/? [?op/s]"
      ]
     },
     "metadata": {},
     "output_type": "display_data"
    },
    {
     "data": {
      "application/vnd.jupyter.widget-view+json": {
       "model_id": "f4c31248f07e40039ea69aa163b3e6ca",
       "version_major": 2,
       "version_minor": 0
      },
      "text/plain": [
       "          0/? [?op/s]"
      ]
     },
     "metadata": {},
     "output_type": "display_data"
    },
    {
     "data": {
      "application/vnd.jupyter.widget-view+json": {
       "model_id": "a973efa1179f49a8a15afa4390d35f12",
       "version_major": 2,
       "version_minor": 0
      },
      "text/plain": [
       "          0/? [?op/s]"
      ]
     },
     "metadata": {},
     "output_type": "display_data"
    },
    {
     "data": {
      "application/vnd.jupyter.widget-view+json": {
       "model_id": "edb00146d6a749fea2b75fb370715fd8",
       "version_major": 2,
       "version_minor": 0
      },
      "text/plain": [
       "          0/? [?op/s]"
      ]
     },
     "metadata": {},
     "output_type": "display_data"
    },
    {
     "data": {
      "application/vnd.jupyter.widget-view+json": {
       "model_id": "22084a8d0cf74a90964a57337f369370",
       "version_major": 2,
       "version_minor": 0
      },
      "text/plain": [
       "          0/? [?op/s]"
      ]
     },
     "metadata": {},
     "output_type": "display_data"
    },
    {
     "data": {
      "application/vnd.jupyter.widget-view+json": {
       "model_id": "7bee6454eefb4c168095e209a79c47b2",
       "version_major": 2,
       "version_minor": 0
      },
      "text/plain": [
       "          0/? [?op/s]"
      ]
     },
     "metadata": {},
     "output_type": "display_data"
    },
    {
     "data": {
      "text/plain": [
       "311"
      ]
     },
     "metadata": {},
     "output_type": "display_data"
    },
    {
     "data": {
      "application/vnd.jupyter.widget-view+json": {
       "model_id": "c76def5f1bb44c7caaa99d8d2933d111",
       "version_major": 2,
       "version_minor": 0
      },
      "text/plain": [
       "          0/? [?op/s]"
      ]
     },
     "metadata": {},
     "output_type": "display_data"
    },
    {
     "data": {
      "text/plain": [
       "110"
      ]
     },
     "metadata": {},
     "output_type": "display_data"
    },
    {
     "name": "stdout",
     "output_type": "stream",
     "text": [
      "--\n"
     ]
    }
   ],
   "source": [
    "\n",
    "#  At this point (from above), we expect to have an empty graph\n",
    "#\n",
    "\n",
    "from katana.remote import import_data\n",
    "\n",
    "\n",
    "#  Persons\n",
    "#\n",
    "for l_each in [df_persons1, df_persons2, df_persons3]:\n",
    "      #\n",
    "   l_each2 = f_copy_id_col(l_each, \"person_id\")\n",
    "      #\n",
    "   with import_data.DataFrameImporter(my_graph) as df_importer:   \n",
    "      df_importer.nodes_dataframe(\n",
    "         l_each2[[\"id\", \"col3\"]],                                  #  Example of subscripting columns\n",
    "         id_column             = \"id\",\n",
    "         id_space              = \"Person\",  \n",
    "         label                 = \"Person\",  \n",
    "         ) \n",
    "            #\n",
    "      df_importer.insert()\n",
    "    \n",
    "    \n",
    "#  Flights\n",
    "#\n",
    "for l_each in [df_flights0]:\n",
    "      #\n",
    "   l_each2 = f_copy_id_col(l_each, \"flight_id\")\n",
    "      #\n",
    "   with import_data.DataFrameImporter(my_graph) as df_importer:   \n",
    "      df_importer.nodes_dataframe(\n",
    "         l_each2,\n",
    "         id_column             = \"id\",\n",
    "         id_space              = \"Flight\",  \n",
    "         label                 = \"Flight\",  \n",
    "         ) \n",
    "            #\n",
    "      df_importer.insert()\n",
    "    \n",
    "    \n",
    "#  Edges; TAKES_FLIGHT\n",
    "#\n",
    "#  Ours are birectional, so some of the ordering below does not matter\n",
    "#\n",
    "for l_each in [df_edges1, df_edges2, df_edges3, df_edges4]:\n",
    "      #\n",
    "   with import_data.DataFrameImporter(my_graph) as df_importer:   \n",
    "      df_importer.edges_dataframe(\n",
    "         l_each, \n",
    "         source_id_space       = \"Person\", \n",
    "         destination_id_space  = \"Flight\",   \n",
    "         source_column         = \"start_id\",\n",
    "         destination_column    = \"end_id\",\n",
    "         type                  = \"TAKES_FLIGHT\"\n",
    "         )\n",
    "            #\n",
    "      df_importer.node_id_property_name(\"id\")                        #  This line is required when you are not inserting any Nodes, only Edges\n",
    "         #\n",
    "      df_importer.insert()\n",
    "\n",
    "\n",
    "display(my_graph.num_nodes())\n",
    "display(my_graph.num_edges())\n",
    "   #\n",
    "print(\"--\")\n"
   ]
  },
  {
   "cell_type": "markdown",
   "id": "a75cbdd2-2c2c-4374-925d-862ffa38a156",
   "metadata": {},
   "source": [
    "#  Step 03:  Checking our work .."
   ]
  },
  {
   "cell_type": "code",
   "execution_count": null,
   "id": "824bef64-f316-4bfc-997e-8356bac89745",
   "metadata": {},
   "outputs": [],
   "source": [
    "\n",
    "#  Draw the graph\n",
    "#\n",
    "\n",
    "l_result = my_graph.query(\"\"\"\n",
    "\n",
    "   MATCH ( n ) - [ r ] -> ( m )\n",
    "   RETURN n, r, m\n",
    "   LIMIT 1000\n",
    "   \n",
    "   \"\"\", contextualize=True)\n",
    "\n",
    "l_result.view()\n"
   ]
  },
  {
   "cell_type": "code",
   "execution_count": 9,
   "id": "6eee5d4d-b870-4d43-ada0-f2f351ab4390",
   "metadata": {},
   "outputs": [
    {
     "data": {
      "application/vnd.jupyter.widget-view+json": {
       "model_id": "f89f726949fa448192b8fa116e940879",
       "version_major": 2,
       "version_minor": 0
      },
      "text/plain": [
       "          0/? [?op/s]"
      ]
     },
     "metadata": {},
     "output_type": "display_data"
    },
    {
     "data": {
      "application/vnd.jupyter.widget-view+json": {
       "model_id": "f08730b73f784828a86ed420d5ff5e74",
       "version_major": 2,
       "version_minor": 0
      },
      "text/plain": [
       "          0/? [?op/s]"
      ]
     },
     "metadata": {},
     "output_type": "display_data"
    },
    {
     "data": {
      "text/html": [
       "<div>\n",
       "<style scoped>\n",
       "    .dataframe tbody tr th:only-of-type {\n",
       "        vertical-align: middle;\n",
       "    }\n",
       "\n",
       "    .dataframe tbody tr th {\n",
       "        vertical-align: top;\n",
       "    }\n",
       "\n",
       "    .dataframe thead th {\n",
       "        text-align: right;\n",
       "    }\n",
       "</style>\n",
       "<table border=\"1\" class=\"dataframe\">\n",
       "  <thead>\n",
       "    <tr style=\"text-align: right;\">\n",
       "      <th></th>\n",
       "      <th>n.internal_id</th>\n",
       "      <th>n.labels</th>\n",
       "      <th>n.col3</th>\n",
       "      <th>n.id</th>\n",
       "      <th>n.type</th>\n",
       "    </tr>\n",
       "  </thead>\n",
       "  <tbody>\n",
       "    <tr>\n",
       "      <th>0</th>\n",
       "      <td>0</td>\n",
       "      <td>[Person]</td>\n",
       "      <td>333</td>\n",
       "      <td>100</td>\n",
       "      <td>node</td>\n",
       "    </tr>\n",
       "    <tr>\n",
       "      <th>1</th>\n",
       "      <td>1</td>\n",
       "      <td>[Person]</td>\n",
       "      <td>333</td>\n",
       "      <td>102</td>\n",
       "      <td>node</td>\n",
       "    </tr>\n",
       "    <tr>\n",
       "      <th>2</th>\n",
       "      <td>2</td>\n",
       "      <td>[Person]</td>\n",
       "      <td>333</td>\n",
       "      <td>104</td>\n",
       "      <td>node</td>\n",
       "    </tr>\n",
       "    <tr>\n",
       "      <th>3</th>\n",
       "      <td>3</td>\n",
       "      <td>[Person]</td>\n",
       "      <td>333</td>\n",
       "      <td>108</td>\n",
       "      <td>node</td>\n",
       "    </tr>\n",
       "    <tr>\n",
       "      <th>4</th>\n",
       "      <td>4</td>\n",
       "      <td>[Person]</td>\n",
       "      <td>333</td>\n",
       "      <td>111</td>\n",
       "      <td>node</td>\n",
       "    </tr>\n",
       "  </tbody>\n",
       "</table>\n",
       "</div>"
      ],
      "text/plain": [
       "   n.internal_id  n.labels n.col3 n.id n.type\n",
       "0              0  [Person]    333  100   node\n",
       "1              1  [Person]    333  102   node\n",
       "2              2  [Person]    333  104   node\n",
       "3              3  [Person]    333  108   node\n",
       "4              4  [Person]    333  111   node"
      ]
     },
     "metadata": {},
     "output_type": "display_data"
    },
    {
     "data": {
      "application/vnd.jupyter.widget-view+json": {
       "model_id": "5a2c8f363cb4454cad5640a3481c44ca",
       "version_major": 2,
       "version_minor": 0
      },
      "text/plain": [
       "          0/? [?op/s]"
      ]
     },
     "metadata": {},
     "output_type": "display_data"
    },
    {
     "data": {
      "application/vnd.jupyter.widget-view+json": {
       "model_id": "aa2b82801ec24fe1981f808d6d50a43c",
       "version_major": 2,
       "version_minor": 0
      },
      "text/plain": [
       "          0/? [?op/s]"
      ]
     },
     "metadata": {},
     "output_type": "display_data"
    },
    {
     "data": {
      "text/html": [
       "<div>\n",
       "<style scoped>\n",
       "    .dataframe tbody tr th:only-of-type {\n",
       "        vertical-align: middle;\n",
       "    }\n",
       "\n",
       "    .dataframe tbody tr th {\n",
       "        vertical-align: top;\n",
       "    }\n",
       "\n",
       "    .dataframe thead th {\n",
       "        text-align: right;\n",
       "    }\n",
       "</style>\n",
       "<table border=\"1\" class=\"dataframe\">\n",
       "  <thead>\n",
       "    <tr style=\"text-align: right;\">\n",
       "      <th></th>\n",
       "      <th>n.internal_id</th>\n",
       "      <th>n.labels</th>\n",
       "      <th>n.LABEL</th>\n",
       "      <th>n.col2</th>\n",
       "      <th>n.col3</th>\n",
       "      <th>n.col4</th>\n",
       "      <th>n.flight_id</th>\n",
       "      <th>n.id</th>\n",
       "      <th>n.type</th>\n",
       "    </tr>\n",
       "  </thead>\n",
       "  <tbody>\n",
       "    <tr>\n",
       "      <th>0</th>\n",
       "      <td>94</td>\n",
       "      <td>[Flight]</td>\n",
       "      <td>Flight</td>\n",
       "      <td>222</td>\n",
       "      <td>333</td>\n",
       "      <td>444</td>\n",
       "      <td>805</td>\n",
       "      <td>805</td>\n",
       "      <td>node</td>\n",
       "    </tr>\n",
       "    <tr>\n",
       "      <th>1</th>\n",
       "      <td>95</td>\n",
       "      <td>[Flight]</td>\n",
       "      <td>Flight</td>\n",
       "      <td>222</td>\n",
       "      <td>333</td>\n",
       "      <td>444</td>\n",
       "      <td>806</td>\n",
       "      <td>806</td>\n",
       "      <td>node</td>\n",
       "    </tr>\n",
       "    <tr>\n",
       "      <th>2</th>\n",
       "      <td>96</td>\n",
       "      <td>[Flight]</td>\n",
       "      <td>Flight</td>\n",
       "      <td>222</td>\n",
       "      <td>333</td>\n",
       "      <td>444</td>\n",
       "      <td>807</td>\n",
       "      <td>807</td>\n",
       "      <td>node</td>\n",
       "    </tr>\n",
       "    <tr>\n",
       "      <th>3</th>\n",
       "      <td>97</td>\n",
       "      <td>[Flight]</td>\n",
       "      <td>Flight</td>\n",
       "      <td>222</td>\n",
       "      <td>333</td>\n",
       "      <td>444</td>\n",
       "      <td>808</td>\n",
       "      <td>808</td>\n",
       "      <td>node</td>\n",
       "    </tr>\n",
       "    <tr>\n",
       "      <th>4</th>\n",
       "      <td>98</td>\n",
       "      <td>[Flight]</td>\n",
       "      <td>Flight</td>\n",
       "      <td>222</td>\n",
       "      <td>333</td>\n",
       "      <td>444</td>\n",
       "      <td>810</td>\n",
       "      <td>810</td>\n",
       "      <td>node</td>\n",
       "    </tr>\n",
       "  </tbody>\n",
       "</table>\n",
       "</div>"
      ],
      "text/plain": [
       "   n.internal_id  n.labels n.LABEL n.col2 n.col3  n.col4  n.flight_id n.id n.type\n",
       "0             94  [Flight]  Flight    222    333     444          805  805   node\n",
       "1             95  [Flight]  Flight    222    333     444          806  806   node\n",
       "2             96  [Flight]  Flight    222    333     444          807  807   node\n",
       "3             97  [Flight]  Flight    222    333     444          808  808   node\n",
       "4             98  [Flight]  Flight    222    333     444          810  810   node"
      ]
     },
     "metadata": {},
     "output_type": "display_data"
    }
   ],
   "source": [
    "\n",
    "#  Checking the subscripting of columns, above\n",
    "#\n",
    "\n",
    "l_result = my_graph.query(\"\"\"\n",
    "   MATCH ( n: Person )\n",
    "   RETURN n\n",
    "   LIMIT 5\n",
    "   \"\"\", contextualize=True)\n",
    "      #\n",
    "display(l_result)\n",
    "\n",
    "l_result = my_graph.query(\"\"\"\n",
    "   MATCH ( n: Flight )\n",
    "   RETURN n\n",
    "   LIMIT 5\n",
    "   \"\"\", contextualize=True)\n",
    "      #\n",
    "display(l_result)\n",
    "\n",
    "#  Sample output,\n",
    "#\n",
    "#     \tn.internal_id \tn.labels \tn.col3 \tn.id \tn.type\n",
    "#     0 \t0 \t[Person] \t333 \t100 \tnode\n",
    "#     1 \t1 \t[Person] \t333 \t102 \tnode\n",
    "#     2 \t2 \t[Person] \t333 \t104 \tnode\n",
    "#     3 \t3 \t[Person] \t333 \t108 \tnode\n",
    "#     4 \t4 \t[Person] \t333 \t111 \tnode\n",
    "#     \n",
    "#     \tn.internal_id \tn.labels \tn.LABEL \tn.col2 \tn.col3 \tn.col4 \tn.flight_id \tn.id \tn.type\n",
    "#     0 \t94 \t[Flight] \tFlight \t222 \t333 \t444 \t805 \t805 \tnode\n",
    "#     1 \t95 \t[Flight] \tFlight \t222 \t333 \t444 \t806 \t806 \tnode\n",
    "#     2 \t96 \t[Flight] \tFlight \t222 \t333 \t444 \t807 \t807 \tnode\n",
    "#     3 \t97 \t[Flight] \tFlight \t222 \t333 \t444 \t808 \t808 \tnode\n",
    "#     4 \t98 \t[Flight] \tFlight \t222 \t333 \t444 \t810 \t810 \tnode\n"
   ]
  },
  {
   "cell_type": "code",
   "execution_count": null,
   "id": "152cb6ca-f75e-4d88-9718-4b0515d31575",
   "metadata": {},
   "outputs": [],
   "source": []
  }
 ],
 "metadata": {
  "kernelspec": {
   "display_name": "Python 3 (ipykernel)",
   "language": "python",
   "name": "python3"
  },
  "language_info": {
   "codemirror_mode": {
    "name": "ipython",
    "version": 3
   },
   "file_extension": ".py",
   "mimetype": "text/x-python",
   "name": "python",
   "nbconvert_exporter": "python",
   "pygments_lexer": "ipython3",
   "version": "3.8.13"
  }
 },
 "nbformat": 4,
 "nbformat_minor": 5
}
