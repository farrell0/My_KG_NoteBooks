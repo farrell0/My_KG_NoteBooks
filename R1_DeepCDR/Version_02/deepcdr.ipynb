{
 "cells": [
  {
   "cell_type": "markdown",
   "id": "8a6f3e40-04bd-4c3a-a3ab-065f042aed5a",
   "metadata": {},
   "source": [
    "## Drug Repurposing: A Hybrid Graph Convolutional Network for Predicting Cancer Drug Response\n",
    "\n",
    "The goal of this pipeline is to implement a Cancer Drug Response Prediction pipeline. The model chosen is called DeepCDR which is a Cancer Drug Response Prediction model via a Hybrid Graph Convolutional Network. This model was published in the journal Bioinformatics.\n",
    "\n",
    "<center><img src=\"./images/model.png\" style=\"width:70%;\"></center>\n",
    "\n",
    "DeepCDR takes a pair of drug and cancer cell profiles as inputs and predicts the drug sensitivity (IC50) (regression). The drug will be represented as a graph based on the chemical structure before being transformed into a high-level latent representation by the GNN model. Omics features learned by subnetworks will be concatenated to the drug feature."
   ]
  },
  {
   "cell_type": "markdown",
   "id": "ea6bfda6",
   "metadata": {},
   "source": [
    "## README\n",
    "\n",
    "The [README](README.md) file accompanying this notebook includes additional information about the research behind this model and how to run this pipeline with your own data. "
   ]
  },
  {
   "cell_type": "markdown",
   "id": "306a386f-6a70-4498-9eba-d2cff983cfff",
   "metadata": {},
   "source": [
    "## Katana AI Pipeline for End to End Drug Repurposing"
   ]
  },
  {
   "cell_type": "markdown",
   "id": "342f499e-4c45-43d6-91bf-234374e99406",
   "metadata": {},
   "source": [
    "<img src=\"images/pipeline_full.png\" style=\"width: 1500px;\"/>\n",
    "\n",
    "\n",
    "\n",
    "There are four distinct steps:\n",
    "\n",
    "* **[Step 1: Set up a Katana `Client` and create a Distributed Graph](#step-1)**\n",
    "* **[Step 2: Extract ML-ready Data](#step-2)**\n",
    "* **[Step 3: AI Training Pipeline](#step-3)**\n",
    "* **[Step 4: Trained model inference](#step-4)**\n",
    "\n",
    "<a id='step-1'></a>\n",
    "## Step 1: Set up a Katana `Client` and load a Distributed Graph\n",
    "\n",
    "<img src=\"images/pipeline_dask.png\" style=\"width: 1500px;\"/>\n",
    "\n",
    "### Set up a Katana `Client`\n",
    "\n",
    "Starting a Katana remote Client is required to interface with the Katana remote service and schedule distributed operations. First we set Jupyter to automatically reload changed code and we import some standard Katana modules."
   ]
  },
  {
   "cell_type": "code",
   "execution_count": 1,
   "id": "2de96290-d64c-4c82-bd6d-fe69fcc1dad3",
   "metadata": {},
   "outputs": [
    {
     "data": {
      "text/plain": [
       "'0.9.0+20230322T224759Z.73f024927.dev'"
      ]
     },
     "execution_count": 1,
     "metadata": {},
     "output_type": "execute_result"
    }
   ],
   "source": [
    "%load_ext autoreload\n",
    "%autoreload 2\n",
    "\n",
    "from katana import remote\n",
    "from katana.remote import export_data, import_data\n",
    "\n",
    "client = remote.Client()\n",
    "client.server_version"
   ]
  },
  {
   "cell_type": "markdown",
   "id": "9ab20d54-7095-4134-998f-47eba135904d",
   "metadata": {
    "tags": []
   },
   "source": [
    "### Load Input configuration\n",
    "\n",
    "The input configuration, which is stored in the `hyperparams` file, defines the specifications of the graph use for the recipe."
   ]
  },
  {
   "cell_type": "code",
   "execution_count": 2,
   "id": "e89769fd-629e-419f-bb3f-55a0d60b0b73",
   "metadata": {},
   "outputs": [
    {
     "name": "stderr",
     "output_type": "stream",
     "text": [
      "DGL backend not selected or invalid.  Assuming PyTorch for now.\n"
     ]
    },
    {
     "name": "stdout",
     "output_type": "stream",
     "text": [
      "Setting the default backend to \"pytorch\". You can change it in the ~/.dgl/config.json file or export the DGLBACKEND environment variable.  Valid options are: pytorch, mxnet, tensorflow (all lowercase)\n"
     ]
    },
    {
     "data": {
      "text/plain": [
       "InputConfig:\n",
       "    num_partitions = 8,\n",
       "    use_train_rdg = False,\n",
       "    trained_rdg_path = gs://hls-dataset-bucket/DeepCDR_trained,\n",
       "    cell_lines_path = gs://bucket-farrell/DeepCDR/cell_lines.csv,\n",
       "    drugs_path = gs://bucket-farrell/DeepCDR/drugs.csv,\n",
       "    gdsc_path = gs://bucket-farrell/DeepCDR/gdsc.csv,\n",
       "    genes_path = gs://bucket-farrell/DeepCDR/genes.csv,\n",
       "    gdsc_cell_line_path = gs://bucket-farrell/DeepCDR/gdsc_cell_line_edges.csv,\n",
       "    gdsc_drug_path = gs://bucket-farrell/DeepCDR/gdsc_drug_edges.csv,\n",
       "    cell_line_gene_expression_path = gs://bucket-farrell/DeepCDR/cell_line_gene_expression_edges.csv,\n",
       "    cell_line_gene_methylation_path = gs://bucket-farrell/DeepCDR/cell_line_gene_methylation_edges.csv,\n",
       "    cell_line_gene_mutation_path = gs://bucket-farrell/DeepCDR/cell_line_gene_mutation_edges.csv,\n",
       "    test_size = 0.05,\n",
       "    random_state = 42"
      ]
     },
     "execution_count": 2,
     "metadata": {},
     "output_type": "execute_result"
    }
   ],
   "source": [
    "from config import hyperparams\n",
    "\n",
    "input_config = hyperparams.load_input_config()\n",
    "input_config"
   ]
  },
  {
   "cell_type": "markdown",
   "id": "42a37bd9-686c-453e-a8b4-10513fa286c5",
   "metadata": {},
   "source": [
    "### Create a Distributed Graph\n",
    "\n",
    "Create a Katana Distributed graph with `input_config.num_partitions` partitions and import data used to train the DeepCDR model into the Distributed Graph. The entire recipe will be distributed among `input_config.num_partitions` hosts.\n",
    "\n",
    "<div class=\"alert alert-info\">\n",
    "You can choose to change the number of partition using <a href=\"./config/hyperparams.py\" class=\"alert-link\">num_partitions</a> parameter.\n",
    "</div>\n",
    "\n",
    "<div class=\"alert alert-info\">\n",
    "You can choose to import a graph with the features already generated and a model already trained and saved in the graph or create your graph from csv files with Dask by setting <a href=\"./config/hyperparams.py\" class=\"alert-link\">use_train_rdg</a> parameter. \n",
    "    \n",
    "If you choose to use the pretrained model you can skip the following two steps,\n",
    "* **[Step 2: Extract ML-ready Data](#step-2)**\n",
    "* **[Step 3: AI Training Pipeline](#step-3)**\n",
    "\n",
    "and go directly to:\n",
    "* **[Step 4: Trained model inference](#step-4)**\n",
    "</div>"
   ]
  },
  {
   "cell_type": "code",
   "execution_count": 4,
   "id": "885f5f2f-d988-4f60-bb56-9d430efd77e9",
   "metadata": {},
   "outputs": [
    {
     "name": "stdout",
     "output_type": "stream",
     "text": [
      "Generate the graph with data from source\n",
      "***Loading nodes dataframe***\n",
      "***Loading edges dataframe***\n",
      "***Upserting nodes and edges into the graph***\n",
      "Importing graph from dataframe files into graph...\n"
     ]
    },
    {
     "data": {
      "application/vnd.jupyter.widget-view+json": {
       "model_id": "7f014db1160f40919c2fc5bcf76dfec0",
       "version_major": 2,
       "version_minor": 0
      },
      "text/plain": [
       " 0 messages received [?msg/s ]"
      ]
     },
     "metadata": {},
     "output_type": "display_data"
    }
   ],
   "source": [
    "from timeit import default_timer\n",
    "\n",
    "# Import the module that uses Dask to import drug data\n",
    "from src import dask_ingestion\n",
    "\n",
    "graph = client.create_graph(num_partitions=input_config.num_partitions)\n",
    "\n",
    "if input_config.use_train_rdg:\n",
    "    print(f\"Import pretrained graph from: {input_config.trained_rdg_path}\")\n",
    "    import_data.rdg(graph, input_config.trained_rdg_path)\n",
    "else:\n",
    "    print(\"Generate the graph with data from source\")\n",
    "    dask_ingestion.generate_deepcdr_graph(graph, input_config)"
   ]
  },
  {
   "cell_type": "markdown",
   "id": "04ccbd83-ef7e-4f45-a050-39ea7ed1ae79",
   "metadata": {},
   "source": [
    "### Inspect the Graph Schema\n",
    "\n",
    "Import the module with pipeline utility functions, create a `RecipePipeline` instance to store relevant information, and display a visual representation of the graph's schema."
   ]
  },
  {
   "cell_type": "code",
   "execution_count": 5,
   "id": "8d99d580-f5b1-471b-b540-d24fab04a24c",
   "metadata": {},
   "outputs": [
    {
     "data": {
      "application/vnd.jupyter.widget-view+json": {
       "model_id": "64f40fa75fa74eeb9f03c50c1a0e3637",
       "version_major": 2,
       "version_minor": 0
      },
      "text/plain": [
       "          0/? [?op/s]"
      ]
     },
     "metadata": {},
     "output_type": "display_data"
    },
    {
     "name": "stderr",
     "output_type": "stream",
     "text": [
      "/opt/conda/lib/python3.8/site-packages/katana/remote/result_set.py:69: UserWarning: Pandas doesn't allow columns to be created via a new attribute name - see https://pandas.pydata.org/pandas-docs/stable/indexing.html#attribute-access\n",
      "  self._response = response\n"
     ]
    },
    {
     "data": {
      "application/vnd.jupyter.widget-view+json": {
       "model_id": "ae73cf1897504061ad388d3717e2d479",
       "version_major": 2,
       "version_minor": 0
      },
      "text/plain": [
       "VBox(children=(HTML(value='\\n                <style>\\n                #jp-main-content-panel .widget-container…"
      ]
     },
     "metadata": {},
     "output_type": "display_data"
    }
   ],
   "source": [
    "from src import katana_pipeline\n",
    "\n",
    "rec_pipeline = katana_pipeline.RecipePipeline(graph)\n",
    "rec_pipeline.graph.schema().view()"
   ]
  },
  {
   "cell_type": "markdown",
   "id": "83f5ed07-bbfc-45fd-a0ba-70cb68a5a53d",
   "metadata": {
    "tags": []
   },
   "source": [
    "<a id='step-2'></a>\n",
    "## Step 2: Extract ML-ready Data"
   ]
  },
  {
   "cell_type": "markdown",
   "id": "a8adb855-cb4a-4cde-a9fa-bee51c095ca9",
   "metadata": {},
   "source": [
    "<img src=\"images/pipeline_preprocess.png\" style=\"width: 1500px;\"/>"
   ]
  },
  {
   "cell_type": "markdown",
   "id": "1036bfac-aa1d-48be-9580-7200c588282d",
   "metadata": {},
   "source": [
    "### Feature Generation\n",
    "\n",
    "- Collect genomics data from edges between `CELL_LINE` and `GENE` and store the results in the `rec_pipeline` graph. \n",
    "- Remove unused nodes in the graph. \n",
    "\n",
    "\n",
    "<div class=\"alert alert-info\">\n",
    "You can see, add or remove preprocessing functions in the <a href=\"./src/preprocessing.py\" class=\"alert-link\">preprocessing.py</a> file, where they are typically implemented with simple OpenCypher queries.\n",
    "</div>\n",
    "\n",
    "The featurization of a `DRUG` into its graph representation is happening on-the-fly during the training-test-inference cycle. \n",
    "\n",
    "<div class=\"alert alert-info\">\n",
    "You can see or change the featurization of DRUG in the smiles_to_pyg function of the <a href=\"./src/utils.py\" class=\"alert-link\">utils.py</a> file. \n",
    "</div>"
   ]
  },
  {
   "cell_type": "code",
   "execution_count": 6,
   "id": "4ad1cca9-74b9-4e43-aa2e-aac854a9275b",
   "metadata": {},
   "outputs": [
    {
     "name": "stdout",
     "output_type": "stream",
     "text": [
      "Collecting genomics_expression features...\n"
     ]
    },
    {
     "data": {
      "application/vnd.jupyter.widget-view+json": {
       "model_id": "1ec3330b540d46219332a84cd2fdc746",
       "version_major": 2,
       "version_minor": 0
      },
      "text/plain": [
       "          0/? [?op/s]"
      ]
     },
     "metadata": {},
     "output_type": "display_data"
    },
    {
     "name": "stdout",
     "output_type": "stream",
     "text": [
      "Collecting genomics_methylation features...\n"
     ]
    },
    {
     "data": {
      "application/vnd.jupyter.widget-view+json": {
       "model_id": "d29a08c317f149debc8dd3495efe0e17",
       "version_major": 2,
       "version_minor": 0
      },
      "text/plain": [
       "          0/? [?op/s]"
      ]
     },
     "metadata": {},
     "output_type": "display_data"
    },
    {
     "name": "stdout",
     "output_type": "stream",
     "text": [
      "Collecting genomics_mutation features...\n"
     ]
    },
    {
     "data": {
      "application/vnd.jupyter.widget-view+json": {
       "model_id": "ca8484714fad4e06ac3845de60ea2013",
       "version_major": 2,
       "version_minor": 0
      },
      "text/plain": [
       "          0/? [?op/s]"
      ]
     },
     "metadata": {},
     "output_type": "display_data"
    },
    {
     "name": "stdout",
     "output_type": "stream",
     "text": [
      "Deleting Cell lines with NULL features...\n"
     ]
    },
    {
     "data": {
      "application/vnd.jupyter.widget-view+json": {
       "model_id": "290402bba9724d29b7c387d0b2393cce",
       "version_major": 2,
       "version_minor": 0
      },
      "text/plain": [
       "          0/? [?op/s]"
      ]
     },
     "metadata": {},
     "output_type": "display_data"
    },
    {
     "name": "stdout",
     "output_type": "stream",
     "text": [
      "Deleting single nodes\n"
     ]
    },
    {
     "data": {
      "application/vnd.jupyter.widget-view+json": {
       "model_id": "2c0544eeda4f48bbb2a99dffa61646f6",
       "version_major": 2,
       "version_minor": 0
      },
      "text/plain": [
       "          0/? [?op/s]"
      ]
     },
     "metadata": {},
     "output_type": "display_data"
    },
    {
     "name": "stdout",
     "output_type": "stream",
     "text": [
      "***Took 72.30184686499979 seconds to generate the features.***\n"
     ]
    }
   ],
   "source": [
    "start_time = default_timer()\n",
    "rec_pipeline.feature_generator()\n",
    "print(f\"***Took {default_timer() - start_time} seconds to generate the features.***\")"
   ]
  },
  {
   "cell_type": "markdown",
   "id": "8b44c2f0-6359-4d8f-b249-9a9cae9d4fd6",
   "metadata": {},
   "source": [
    "### Statistics of the graph\n",
    "\n",
    "Compute basics statistics to get the number of nodes in the graph. The number of pairs between a drug and a cell line is the data used to train and test the model."
   ]
  },
  {
   "cell_type": "code",
   "execution_count": null,
   "id": "30cc94fa-4b49-46c8-a6cc-3a4b9033b024",
   "metadata": {},
   "outputs": [],
   "source": [
    "stats = rec_pipeline.stats()\n",
    "stats"
   ]
  },
  {
   "cell_type": "markdown",
   "id": "9d082f63-c5d7-4194-856b-4762ff4bbdf8",
   "metadata": {},
   "source": [
    "### Split Generation\n",
    "\n",
    "Based on the known drug–cell line interactions across cancer cell lines  and drugs, we randomly\n",
    "selected 95% of instances of each TCGA cancer type as the training set and the remaining 5% of the instances as the testing set for model evaluation.\n",
    "\n",
    "We create new edges in our `rec_pipeline` graph with `SPLIT` labels between `DRUG` and `CELL_LINE` nodes. The old split will be deleted.\n",
    "\n",
    "<div class=\"alert alert-info\">\n",
    "You can choose to change the train-test fraction or the seeds used for the split using the <a href=\"./config/hyperparams.py\" class=\"alert-link\">test_size</a> and <a href=\"./config/hyperparams.py\" class=\"alert-link\">random_state</a> parameters.\n",
    "</div>"
   ]
  },
  {
   "cell_type": "code",
   "execution_count": 7,
   "id": "dc30ac93-1a4c-4099-b7e2-44949827d890",
   "metadata": {
    "tags": []
   },
   "outputs": [
    {
     "name": "stdout",
     "output_type": "stream",
     "text": [
      "Deleting old split\n"
     ]
    },
    {
     "data": {
      "application/vnd.jupyter.widget-view+json": {
       "model_id": "02472f659d9b46f68136e8d3a6f33c4c",
       "version_major": 2,
       "version_minor": 0
      },
      "text/plain": [
       "          0/? [?op/s]"
      ]
     },
     "metadata": {},
     "output_type": "display_data"
    },
    {
     "name": "stdout",
     "output_type": "stream",
     "text": [
      "Generating split\n"
     ]
    },
    {
     "data": {
      "application/vnd.jupyter.widget-view+json": {
       "model_id": "b74ddc4704e14daf88f762bb3a1c5c8b",
       "version_major": 2,
       "version_minor": 0
      },
      "text/plain": [
       "          0/? [?op/s]"
      ]
     },
     "metadata": {},
     "output_type": "display_data"
    },
    {
     "name": "stdout",
     "output_type": "stream",
     "text": [
      "Upsert split on the graph\n"
     ]
    },
    {
     "data": {
      "application/vnd.jupyter.widget-view+json": {
       "model_id": "1c1c272a0a8740e7a848ec204f44d107",
       "version_major": 2,
       "version_minor": 0
      },
      "text/plain": [
       " 0 messages received [?msg/s ]"
      ]
     },
     "metadata": {},
     "output_type": "display_data"
    },
    {
     "name": "stdout",
     "output_type": "stream",
     "text": [
      "***Took 40.6756842689997 seconds to generate the split.***\n"
     ]
    },
    {
     "data": {
      "application/vnd.jupyter.widget-view+json": {
       "model_id": "b9be0d61e03648ba9b6e1246f835eb29",
       "version_major": 2,
       "version_minor": 0
      },
      "text/plain": [
       "          0/? [?op/s]"
      ]
     },
     "metadata": {},
     "output_type": "display_data"
    },
    {
     "name": "stderr",
     "output_type": "stream",
     "text": [
      "/opt/conda/lib/python3.8/site-packages/katana/remote/result_set.py:69: UserWarning: Pandas doesn't allow columns to be created via a new attribute name - see https://pandas.pydata.org/pandas-docs/stable/indexing.html#attribute-access\n",
      "  self._response = response\n"
     ]
    },
    {
     "data": {
      "application/vnd.jupyter.widget-view+json": {
       "model_id": "54308091005b4a769fee6d410320c758",
       "version_major": 2,
       "version_minor": 0
      },
      "text/plain": [
       "VBox(children=(HTML(value='\\n                <style>\\n                #jp-main-content-panel .widget-container…"
      ]
     },
     "metadata": {},
     "output_type": "display_data"
    }
   ],
   "source": [
    "start_time = default_timer()\n",
    "rec_pipeline.split_generator(input_config)\n",
    "print(f\"***Took {default_timer() - start_time} seconds to generate the split.***\")\n",
    "rec_pipeline.graph.schema().view()"
   ]
  },
  {
   "cell_type": "markdown",
   "id": "d086603e-d2d4-45af-8afd-f91849e32f9a",
   "metadata": {
    "tags": []
   },
   "source": [
    "<a id='step-3'></a>\n",
    "## AI Training Pipeline"
   ]
  },
  {
   "cell_type": "markdown",
   "id": "2df6ce75-84ea-4c86-9420-ea0d4f7668e9",
   "metadata": {},
   "source": [
    "<img src=\"images/pipeline_gnn.png\" style=\"width: 1500px;\"/>"
   ]
  },
  {
   "cell_type": "markdown",
   "id": "e5c6bb1a-7c59-43eb-b5a2-d9c06183bf29",
   "metadata": {},
   "source": [
    "### Initialize model training"
   ]
  },
  {
   "cell_type": "markdown",
   "id": "7e3de5b0-5f66-4dc6-8f30-3e66d789ecb7",
   "metadata": {},
   "source": [
    "<center><img src=\"./images/model.png\" style=\"width:70%;\"></center>\n",
    "\n",
    "DeepCDR is a hybrid graph convolutional network model that predicts the IC50 value, which denotes the effectiveness of a drug in inhibiting the growth of a specific cancer cell line.\n",
    "\n",
    "On the one hand, the graph neural network (GNN) takes the adjacent information of atoms in a drug into consideration by aggregating the features of neighboring atoms together. On the other hand, the subnetworks extract high-level features of cancer omics profiles from a certain cancer cell line (i.e., genomic data, transcriptomic data and epigenomic data). Then the high-level features of drug and multiple omics data get concatenated and fed to a 1-D\n",
    "convolutional neural network."
   ]
  },
  {
   "cell_type": "markdown",
   "id": "a8394f5c-c3d8-4782-b34b-5d330c8c414a",
   "metadata": {},
   "source": [
    "### Load Model configuration\n",
    "\n",
    "The model configuration defines the specifications of the model that will be used to train on the graph.\n",
    "\n",
    "<div class=\"alert alert-info\">\n",
    "You can change the model configuration in the <a href=\"./config/hyperparams.py\" class=\"alert-link\">hyperparams.py</a> file. By default the model is using genomics, epigenomics and transcriptomics data.\n",
    "</div>\n",
    "\n",
    "<div class=\"alert alert-info\">\n",
    "You can change the model architecture in the <a href=\"./src/model.py\" class=\"alert-link\">model.py</a> file.\n",
    "</div>"
   ]
  },
  {
   "cell_type": "code",
   "execution_count": 8,
   "id": "07e70ffb-3c7c-49ef-baa9-f4aff238e84e",
   "metadata": {},
   "outputs": [
    {
     "data": {
      "text/plain": [
       "DeepCDRConfig:\n",
       "    genomics = True,\n",
       "    epigenomics = True,\n",
       "    transcriptomics = True"
      ]
     },
     "execution_count": 8,
     "metadata": {},
     "output_type": "execute_result"
    }
   ],
   "source": [
    "model_config = hyperparams.load_model_config()\n",
    "model_config"
   ]
  },
  {
   "cell_type": "markdown",
   "id": "247df214-0c2a-4787-b97f-ca6d9b5f457f",
   "metadata": {},
   "source": [
    "### Load Training configuration\n",
    "\n",
    "The training configuration specify details of the training pipeline.\n",
    "\n",
    "<div class=\"alert alert-info\">\n",
    "You can change the training configuration in the <a href=\"./config/hyperparams.py\" class=\"alert-link\">hyperparams.py</a> file.\n",
    "</div>"
   ]
  },
  {
   "cell_type": "code",
   "execution_count": 9,
   "id": "171b3bae-5feb-482a-9baa-ecdbb8b1915e",
   "metadata": {},
   "outputs": [
    {
     "data": {
      "text/plain": [
       "TrainingConfig:\n",
       "    batch_size = 64,\n",
       "    epochs = 80,\n",
       "    patience = 15,\n",
       "    experiment_name = DeepCDR,\n",
       "    tensorboard_path = None"
      ]
     },
     "execution_count": 9,
     "metadata": {},
     "output_type": "execute_result"
    }
   ],
   "source": [
    "training_config = hyperparams.load_training_config()\n",
    "training_config"
   ]
  },
  {
   "cell_type": "markdown",
   "id": "c09dd293-1f51-4040-ba2b-44e130f67951",
   "metadata": {},
   "source": [
    "### Training\n",
    "\n",
    "Distributed training of the model. The trained model and its configuration will be saved in the `rec_pipeline` graph using the `experiment_name` graph property."
   ]
  },
  {
   "cell_type": "code",
   "execution_count": 10,
   "id": "e9faa3bf-3b43-4d26-a069-09f7bb342808",
   "metadata": {},
   "outputs": [
    {
     "data": {
      "application/vnd.jupyter.widget-view+json": {
       "model_id": "173b11d9b8854a4dabb5649c4bf30467",
       "version_major": 2,
       "version_minor": 0
      },
      "text/plain": [
       " 0 messages received [?msg/s ]"
      ]
     },
     "metadata": {},
     "output_type": "display_data"
    },
    {
     "name": "stdout",
     "output_type": "stream",
     "text": [
      "DGL backend not selected or invalid.  Assuming PyTorch for now.\n",
      "\n",
      "Host 0 output:\n",
      "Setting the default backend to \"pytorch\". You can change it in the ~/.dgl/config.json file or export the DGLBACKEND environment variable.  Valid options are: pytorch, mxnet, tensorflow (all lowercase)\n",
      "train data shape:\n",
      " \n",
      "(11200, 5)\n",
      "valid data shape:\n",
      " \n",
      "(590, 5)\n",
      "callback_name: on_epoch_end,\tepoch: 0,\tduration: 356.85836594099965,\ttraining_loss: 5.26832914352417,\tvalidation_metric: {'validation_metric': 1.5893348455429077},\tbest_validation_metric: {'validation_metric': 1.5893348455429077},\tpatience: 0\n",
      "callback_name: on_epoch_end,\tepoch: 1,\tduration: 346.46409197,\ttraining_loss: 2.2780308723449707,\tvalidation_metric: {'validation_metric': 1.403497576713562},\tbest_validation_metric: {'validation_metric': 1.403497576713562},\tpatience: 0\n",
      "callback_name: on_epoch_end,\tepoch: 2,\tduration: 350.2496227849997,\ttraining_loss: 2.0496561527252197,\tvalidation_metric: {'validation_metric': 1.3747838735580444},\tbest_validation_metric: {'validation_metric': 1.3747838735580444},\tpatience: 0\n",
      "callback_name: on_epoch_end,\tepoch: 3,\tduration: 350.1487683370001,\ttraining_loss: 1.9493701457977295,\tvalidation_metric: {'validation_metric': 1.317135214805603},\tbest_validation_metric: {'validation_metric': 1.317135214805603},\tpatience: 0\n",
      "callback_name: on_epoch_end,\tepoch: 4,\tduration: 344.2925761480001,\ttraining_loss: 1.8846696615219116,\tvalidation_metric: {'validation_metric': 1.3084933757781982},\tbest_validation_metric: {'validation_metric': 1.3084933757781982},\tpatience: 0\n",
      "callback_name: on_epoch_end,\tepoch: 5,\tduration: 354.89025667999977,\ttraining_loss: 1.8213752508163452,\tvalidation_metric: {'validation_metric': 1.336113452911377},\tbest_validation_metric: {'validation_metric': 1.3084933757781982},\tpatience: 1\n",
      "callback_name: on_epoch_end,\tepoch: 6,\tduration: 353.81221765900045,\ttraining_loss: 1.7613939046859741,\tvalidation_metric: {'validation_metric': 1.2551106214523315},\tbest_validation_metric: {'validation_metric': 1.2551106214523315},\tpatience: 0\n",
      "callback_name: on_epoch_end,\tepoch: 7,\tduration: 353.4986433519998,\ttraining_loss: 1.7208783626556396,\tvalidation_metric: {'validation_metric': 1.238626480102539},\tbest_validation_metric: {'validation_metric': 1.238626480102539},\tpatience: 0\n",
      "callback_name: on_epoch_end,\tepoch: 8,\tduration: 353.33132952100004,\ttraining_loss: 1.687237024307251,\tvalidation_metric: {'validation_metric': 1.214336633682251},\tbest_validation_metric: {'validation_metric': 1.214336633682251},\tpatience: 0\n",
      "callback_name: on_epoch_end,\tepoch: 9,\tduration: 339.1190449169999,\ttraining_loss: 1.6353574991226196,\tvalidation_metric: {'validation_metric': 1.2110241651535034},\tbest_validation_metric: {'validation_metric': 1.2110241651535034},\tpatience: 0\n",
      "callback_name: on_epoch_end,\tepoch: 10,\tduration: 344.65930290399956,\ttraining_loss: 1.6006371974945068,\tvalidation_metric: {'validation_metric': 1.2236766815185547},\tbest_validation_metric: {'validation_metric': 1.2110241651535034},\tpatience: 1\n",
      "callback_name: on_epoch_end,\tepoch: 11,\tduration: 349.5239798350003,\ttraining_loss: 1.5556455850601196,\tvalidation_metric: {'validation_metric': 1.1862480640411377},\tbest_validation_metric: {'validation_metric': 1.1862480640411377},\tpatience: 0\n",
      "callback_name: on_epoch_end,\tepoch: 12,\tduration: 346.8661819230001,\ttraining_loss: 1.529316782951355,\tvalidation_metric: {'validation_metric': 1.1791552305221558},\tbest_validation_metric: {'validation_metric': 1.1791552305221558},\tpatience: 0\n",
      "callback_name: on_epoch_end,\tepoch: 13,\tduration: 350.11613671800023,\ttraining_loss: 1.499551773071289,\tvalidation_metric: {'validation_metric': 1.2012231349945068},\tbest_validation_metric: {'validation_metric': 1.1791552305221558},\tpatience: 1\n",
      "callback_name: on_epoch_end,\tepoch: 14,\tduration: 352.9620719779996,\ttraining_loss: 1.4880027770996094,\tvalidation_metric: {'validation_metric': 1.1542586088180542},\tbest_validation_metric: {'validation_metric': 1.1542586088180542},\tpatience: 0\n",
      "callback_name: on_epoch_end,\tepoch: 15,\tduration: 345.2888231879997,\ttraining_loss: 1.4475151300430298,\tvalidation_metric: {'validation_metric': 1.2214864492416382},\tbest_validation_metric: {'validation_metric': 1.1542586088180542},\tpatience: 1\n",
      "callback_name: on_epoch_end,\tepoch: 16,\tduration: 346.367965413001,\ttraining_loss: 1.4229708909988403,\tvalidation_metric: {'validation_metric': 1.1447100639343262},\tbest_validation_metric: {'validation_metric': 1.1447100639343262},\tpatience: 0\n",
      "callback_name: on_epoch_end,\tepoch: 17,\tduration: 339.7743570139992,\ttraining_loss: 1.396902322769165,\tvalidation_metric: {'validation_metric': 1.1463311910629272},\tbest_validation_metric: {'validation_metric': 1.1447100639343262},\tpatience: 1\n",
      "callback_name: on_epoch_end,\tepoch: 18,\tduration: 340.21922470499885,\ttraining_loss: 1.3738090991973877,\tvalidation_metric: {'validation_metric': 1.1490435600280762},\tbest_validation_metric: {'validation_metric': 1.1447100639343262},\tpatience: 2\n",
      "callback_name: on_epoch_end,\tepoch: 19,\tduration: 345.57491681600004,\ttraining_loss: 1.3503170013427734,\tvalidation_metric: {'validation_metric': 1.1308649778366089},\tbest_validation_metric: {'validation_metric': 1.1308649778366089},\tpatience: 0\n",
      "callback_name: on_epoch_end,\tepoch: 20,\tduration: 347.5388976129998,\ttraining_loss: 1.338545799255371,\tvalidation_metric: {'validation_metric': 1.1686210632324219},\tbest_validation_metric: {'validation_metric': 1.1308649778366089},\tpatience: 1\n",
      "callback_name: on_epoch_end,\tepoch: 21,\tduration: 350.05312601399964,\ttraining_loss: 1.3183424472808838,\tvalidation_metric: {'validation_metric': 1.1405348777770996},\tbest_validation_metric: {'validation_metric': 1.1308649778366089},\tpatience: 2\n",
      "callback_name: on_epoch_end,\tepoch: 22,\tduration: 346.54510281500006,\ttraining_loss: 1.3027896881103516,\tvalidation_metric: {'validation_metric': 1.1541916131973267},\tbest_validation_metric: {'validation_metric': 1.1308649778366089},\tpatience: 3\n",
      "callback_name: on_epoch_end,\tepoch: 23,\tduration: 344.5854981029988,\ttraining_loss: 1.2881853580474854,\tvalidation_metric: {'validation_metric': 1.1247872114181519},\tbest_validation_metric: {'validation_metric': 1.1247872114181519},\tpatience: 0\n",
      "callback_name: on_epoch_end,\tepoch: 24,\tduration: 344.4262096429993,\ttraining_loss: 1.2681547403335571,\tvalidation_metric: {'validation_metric': 1.1579219102859497},\tbest_validation_metric: {'validation_metric': 1.1247872114181519},\tpatience: 1\n",
      "callback_name: on_epoch_end,\tepoch: 25,\tduration: 341.01585782499933,\ttraining_loss: 1.2532119750976562,\tvalidation_metric: {'validation_metric': 1.1397701501846313},\tbest_validation_metric: {'validation_metric': 1.1247872114181519},\tpatience: 2\n",
      "callback_name: on_epoch_end,\tepoch: 26,\tduration: 337.3176434550005,\ttraining_loss: 1.242205262184143,\tvalidation_metric: {'validation_metric': 1.1111186742782593},\tbest_validation_metric: {'validation_metric': 1.1111186742782593},\tpatience: 0\n",
      "callback_name: on_epoch_end,\tepoch: 27,\tduration: 335.606642793,\ttraining_loss: 1.2362159490585327,\tvalidation_metric: {'validation_metric': 1.1201831102371216},\tbest_validation_metric: {'validation_metric': 1.1111186742782593},\tpatience: 1\n",
      "callback_name: on_epoch_end,\tepoch: 28,\tduration: 343.13919135800097,\ttraining_loss: 1.2077053785324097,\tvalidation_metric: {'validation_metric': 1.134628176689148},\tbest_validation_metric: {'validation_metric': 1.1111186742782593},\tpatience: 2\n",
      "callback_name: on_epoch_end,\tepoch: 29,\tduration: 340.32732395400126,\ttraining_loss: 1.1877490282058716,\tvalidation_metric: {'validation_metric': 1.1147860288619995},\tbest_validation_metric: {'validation_metric': 1.1111186742782593},\tpatience: 3\n",
      "callback_name: on_epoch_end,\tepoch: 30,\tduration: 348.29644825300056,\ttraining_loss: 1.1923935413360596,\tvalidation_metric: {'validation_metric': 1.0950100421905518},\tbest_validation_metric: {'validation_metric': 1.0950100421905518},\tpatience: 0\n",
      "callback_name: on_epoch_end,\tepoch: 31,\tduration: 351.3480831779998,\ttraining_loss: 1.171621322631836,\tvalidation_metric: {'validation_metric': 1.1028389930725098},\tbest_validation_metric: {'validation_metric': 1.0950100421905518},\tpatience: 1\n",
      "callback_name: on_epoch_end,\tepoch: 32,\tduration: 341.2192386420011,\ttraining_loss: 1.1653586626052856,\tvalidation_metric: {'validation_metric': 1.1012022495269775},\tbest_validation_metric: {'validation_metric': 1.0950100421905518},\tpatience: 2\n",
      "callback_name: on_epoch_end,\tepoch: 33,\tduration: 341.69041516200014,\ttraining_loss: 1.1510099172592163,\tvalidation_metric: {'validation_metric': 1.0962843894958496},\tbest_validation_metric: {'validation_metric': 1.0950100421905518},\tpatience: 3\n",
      "callback_name: on_epoch_end,\tepoch: 34,\tduration: 348.37205603300026,\ttraining_loss: 1.1410895586013794,\tvalidation_metric: {'validation_metric': 1.11660897731781},\tbest_validation_metric: {'validation_metric': 1.0950100421905518},\tpatience: 4\n",
      "callback_name: on_epoch_end,\tepoch: 35,\tduration: 347.63875307499984,\ttraining_loss: 1.129838228225708,\tvalidation_metric: {'validation_metric': 1.0996159315109253},\tbest_validation_metric: {'validation_metric': 1.0950100421905518},\tpatience: 5\n",
      "callback_name: on_epoch_end,\tepoch: 36,\tduration: 342.84292600999834,\ttraining_loss: 1.1294691562652588,\tvalidation_metric: {'validation_metric': 1.1016919612884521},\tbest_validation_metric: {'validation_metric': 1.0950100421905518},\tpatience: 6\n",
      "callback_name: on_epoch_end,\tepoch: 37,\tduration: 345.0828931550004,\ttraining_loss: 1.1199017763137817,\tvalidation_metric: {'validation_metric': 1.0822287797927856},\tbest_validation_metric: {'validation_metric': 1.0822287797927856},\tpatience: 0\n",
      "callback_name: on_epoch_end,\tepoch: 38,\tduration: 348.45607296399976,\ttraining_loss: 1.1072765588760376,\tvalidation_metric: {'validation_metric': 1.099656105041504},\tbest_validation_metric: {'validation_metric': 1.0822287797927856},\tpatience: 1\n",
      "callback_name: on_epoch_end,\tepoch: 39,\tduration: 353.73294821799936,\ttraining_loss: 1.0979098081588745,\tvalidation_metric: {'validation_metric': 1.0936646461486816},\tbest_validation_metric: {'validation_metric': 1.0822287797927856},\tpatience: 2\n",
      "callback_name: on_epoch_end,\tepoch: 40,\tduration: 350.4471972060019,\ttraining_loss: 1.0952134132385254,\tvalidation_metric: {'validation_metric': 1.095164179801941},\tbest_validation_metric: {'validation_metric': 1.0822287797927856},\tpatience: 3\n",
      "callback_name: on_epoch_end,\tepoch: 41,\tduration: 347.9153668889994,\ttraining_loss: 1.093669056892395,\tvalidation_metric: {'validation_metric': 1.1347830295562744},\tbest_validation_metric: {'validation_metric': 1.0822287797927856},\tpatience: 4\n",
      "callback_name: on_epoch_end,\tepoch: 42,\tduration: 344.5515734449982,\ttraining_loss: 1.0777158737182617,\tvalidation_metric: {'validation_metric': 1.0806055068969727},\tbest_validation_metric: {'validation_metric': 1.0806055068969727},\tpatience: 0\n",
      "callback_name: on_epoch_end,\tepoch: 43,\tduration: 347.4755395709981,\ttraining_loss: 1.0813348293304443,\tvalidation_metric: {'validation_metric': 1.0797960758209229},\tbest_validation_metric: {'validation_metric': 1.0797960758209229},\tpatience: 0\n",
      "callback_name: on_epoch_end,\tepoch: 44,\tduration: 352.21516754000186,\ttraining_loss: 1.068808674812317,\tvalidation_metric: {'validation_metric': 1.0823521614074707},\tbest_validation_metric: {'validation_metric': 1.0797960758209229},\tpatience: 1\n",
      "callback_name: on_epoch_end,\tepoch: 45,\tduration: 349.502968003002,\ttraining_loss: 1.0484418869018555,\tvalidation_metric: {'validation_metric': 1.0917012691497803},\tbest_validation_metric: {'validation_metric': 1.0797960758209229},\tpatience: 2\n",
      "callback_name: on_epoch_end,\tepoch: 46,\tduration: 354.5683876380026,\ttraining_loss: 1.0523788928985596,\tvalidation_metric: {'validation_metric': 1.0916271209716797},\tbest_validation_metric: {'validation_metric': 1.0797960758209229},\tpatience: 3\n",
      "callback_name: on_epoch_end,\tepoch: 47,\tduration: 354.0429114559993,\ttraining_loss: 1.0476499795913696,\tvalidation_metric: {'validation_metric': 1.0909818410873413},\tbest_validation_metric: {'validation_metric': 1.0797960758209229},\tpatience: 4\n",
      "callback_name: on_epoch_end,\tepoch: 48,\tduration: 353.6595988219997,\ttraining_loss: 1.0395725965499878,\tvalidation_metric: {'validation_metric': 1.1092027425765991},\tbest_validation_metric: {'validation_metric': 1.0797960758209229},\tpatience: 5\n",
      "callback_name: on_epoch_end,\tepoch: 49,\tduration: 352.8905798140004,\ttraining_loss: 1.027512788772583,\tvalidation_metric: {'validation_metric': 1.1178479194641113},\tbest_validation_metric: {'validation_metric': 1.0797960758209229},\tpatience: 6\n",
      "callback_name: on_epoch_end,\tepoch: 50,\tduration: 350.3595512890024,\ttraining_loss: 1.0197265148162842,\tvalidation_metric: {'validation_metric': 1.088040828704834},\tbest_validation_metric: {'validation_metric': 1.0797960758209229},\tpatience: 7\n",
      "callback_name: on_epoch_end,\tepoch: 51,\tduration: 356.7426217989996,\ttraining_loss: 1.0212842226028442,\tvalidation_metric: {'validation_metric': 1.0865427255630493},\tbest_validation_metric: {'validation_metric': 1.0797960758209229},\tpatience: 8\n",
      "callback_name: on_epoch_end,\tepoch: 52,\tduration: 353.6964383220002,\ttraining_loss: 1.0155737400054932,\tvalidation_metric: {'validation_metric': 1.0881513357162476},\tbest_validation_metric: {'validation_metric': 1.0797960758209229},\tpatience: 9\n",
      "callback_name: on_epoch_end,\tepoch: 53,\tduration: 352.97751693900136,\ttraining_loss: 1.0110089778900146,\tvalidation_metric: {'validation_metric': 1.0732308626174927},\tbest_validation_metric: {'validation_metric': 1.0732308626174927},\tpatience: 0\n",
      "callback_name: on_epoch_end,\tepoch: 54,\tduration: 357.8595290459998,\ttraining_loss: 1.0151646137237549,\tvalidation_metric: {'validation_metric': 1.0718001127243042},\tbest_validation_metric: {'validation_metric': 1.0718001127243042},\tpatience: 0\n",
      "callback_name: on_epoch_end,\tepoch: 55,\tduration: 349.8669421679988,\ttraining_loss: 0.9956041574478149,\tvalidation_metric: {'validation_metric': 1.0940535068511963},\tbest_validation_metric: {'validation_metric': 1.0718001127243042},\tpatience: 1\n",
      "callback_name: on_epoch_end,\tepoch: 56,\tduration: 348.6718833679988,\ttraining_loss: 0.9984064698219299,\tvalidation_metric: {'validation_metric': 1.0684270858764648},\tbest_validation_metric: {'validation_metric': 1.0684270858764648},\tpatience: 0\n",
      "callback_name: on_epoch_end,\tepoch: 57,\tduration: 349.0206237599996,\ttraining_loss: 0.9826679229736328,\tvalidation_metric: {'validation_metric': 1.1114165782928467},\tbest_validation_metric: {'validation_metric': 1.0684270858764648},\tpatience: 1\n",
      "callback_name: on_epoch_end,\tepoch: 58,\tduration: 342.399653829998,\ttraining_loss: 0.9919375777244568,\tvalidation_metric: {'validation_metric': 1.0937042236328125},\tbest_validation_metric: {'validation_metric': 1.0684270858764648},\tpatience: 2\n",
      "callback_name: on_epoch_end,\tepoch: 59,\tduration: 348.5969795839992,\ttraining_loss: 0.9861844182014465,\tvalidation_metric: {'validation_metric': 1.117427110671997},\tbest_validation_metric: {'validation_metric': 1.0684270858764648},\tpatience: 3\n",
      "callback_name: on_epoch_end,\tepoch: 60,\tduration: 353.43367407700134,\ttraining_loss: 0.9771419763565063,\tvalidation_metric: {'validation_metric': 1.0931336879730225},\tbest_validation_metric: {'validation_metric': 1.0684270858764648},\tpatience: 4\n",
      "callback_name: on_epoch_end,\tepoch: 61,\tduration: 353.43972503700206,\ttraining_loss: 0.9649566411972046,\tvalidation_metric: {'validation_metric': 1.1042323112487793},\tbest_validation_metric: {'validation_metric': 1.0684270858764648},\tpatience: 5\n",
      "callback_name: on_epoch_end,\tepoch: 62,\tduration: 354.0488994469997,\ttraining_loss: 0.9673653841018677,\tvalidation_metric: {'validation_metric': 1.0741665363311768},\tbest_validation_metric: {'validation_metric': 1.0684270858764648},\tpatience: 6\n",
      "callback_name: on_epoch_end,\tepoch: 63,\tduration: 356.0130909710024,\ttraining_loss: 0.9719229340553284,\tvalidation_metric: {'validation_metric': 1.1059160232543945},\tbest_validation_metric: {'validation_metric': 1.0684270858764648},\tpatience: 7\n",
      "callback_name: on_epoch_end,\tepoch: 64,\tduration: 349.14428531199883,\ttraining_loss: 0.9640030264854431,\tvalidation_metric: {'validation_metric': 1.0682711601257324},\tbest_validation_metric: {'validation_metric': 1.0682711601257324},\tpatience: 0\n",
      "callback_name: on_epoch_end,\tepoch: 65,\tduration: 339.6590659530011,\ttraining_loss: 0.9601618051528931,\tvalidation_metric: {'validation_metric': 1.0704282522201538},\tbest_validation_metric: {'validation_metric': 1.0682711601257324},\tpatience: 1\n",
      "callback_name: on_epoch_end,\tepoch: 66,\tduration: 345.71727330799695,\ttraining_loss: 0.9531065225601196,\tvalidation_metric: {'validation_metric': 1.080581545829773},\tbest_validation_metric: {'validation_metric': 1.0682711601257324},\tpatience: 2\n",
      "callback_name: on_epoch_end,\tepoch: 67,\tduration: 342.16415068100105,\ttraining_loss: 0.9517368674278259,\tvalidation_metric: {'validation_metric': 1.069018006324768},\tbest_validation_metric: {'validation_metric': 1.0682711601257324},\tpatience: 3\n",
      "callback_name: on_epoch_end,\tepoch: 68,\tduration: 343.81612372999734,\ttraining_loss: 0.9474809765815735,\tvalidation_metric: {'validation_metric': 1.0718649625778198},\tbest_validation_metric: {'validation_metric': 1.0682711601257324},\tpatience: 4\n",
      "callback_name: on_epoch_end,\tepoch: 69,\tduration: 343.4225577279976,\ttraining_loss: 0.9416394233703613,\tvalidation_metric: {'validation_metric': 1.0745458602905273},\tbest_validation_metric: {'validation_metric': 1.0682711601257324},\tpatience: 5\n",
      "callback_name: on_epoch_end,\tepoch: 70,\tduration: 340.10198906000005,\ttraining_loss: 0.9428439736366272,\tvalidation_metric: {'validation_metric': 1.095723032951355},\tbest_validation_metric: {'validation_metric': 1.0682711601257324},\tpatience: 6\n",
      "callback_name: on_epoch_end,\tepoch: 71,\tduration: 341.1386788500022,\ttraining_loss: 0.9329990744590759,\tvalidation_metric: {'validation_metric': 1.09931480884552},\tbest_validation_metric: {'validation_metric': 1.0682711601257324},\tpatience: 7\n",
      "callback_name: on_epoch_end,\tepoch: 72,\tduration: 347.5473122650001,\ttraining_loss: 0.9332245588302612,\tvalidation_metric: {'validation_metric': 1.0938960313796997},\tbest_validation_metric: {'validation_metric': 1.0682711601257324},\tpatience: 8\n",
      "callback_name: on_epoch_end,\tepoch: 73,\tduration: 348.28811264899923,\ttraining_loss: 0.9358912706375122,\tvalidation_metric: {'validation_metric': 1.0694655179977417},\tbest_validation_metric: {'validation_metric': 1.0682711601257324},\tpatience: 9\n",
      "callback_name: on_epoch_end,\tepoch: 74,\tduration: 346.2646383570027,\ttraining_loss: 0.928356409072876,\tvalidation_metric: {'validation_metric': 1.091747522354126},\tbest_validation_metric: {'validation_metric': 1.0682711601257324},\tpatience: 10\n",
      "callback_name: on_epoch_end,\tepoch: 75,\tduration: 344.5790000500019,\ttraining_loss: 0.9308729767799377,\tvalidation_metric: {'validation_metric': 1.1065945625305176},\tbest_validation_metric: {'validation_metric': 1.0682711601257324},\tpatience: 11\n",
      "callback_name: on_epoch_end,\tepoch: 76,\tduration: 347.746816117,\ttraining_loss: 0.9195270538330078,\tvalidation_metric: {'validation_metric': 1.087755799293518},\tbest_validation_metric: {'validation_metric': 1.0682711601257324},\tpatience: 12\n",
      "callback_name: on_epoch_end,\tepoch: 77,\tduration: 341.4670154060004,\ttraining_loss: 0.9210589528083801,\tvalidation_metric: {'validation_metric': 1.057573676109314},\tbest_validation_metric: {'validation_metric': 1.057573676109314},\tpatience: 0\n",
      "callback_name: on_epoch_end,\tepoch: 78,\tduration: 343.8219694770014,\ttraining_loss: 0.9130874276161194,\tvalidation_metric: {'validation_metric': 1.0886845588684082},\tbest_validation_metric: {'validation_metric': 1.057573676109314},\tpatience: 1\n",
      "callback_name: on_epoch_end,\tepoch: 79,\tduration: 344.2378399299996,\ttraining_loss: 0.908905029296875,\tvalidation_metric: {'validation_metric': 1.0968496799468994},\tbest_validation_metric: {'validation_metric': 1.057573676109314},\tpatience: 2\n",
      "Host 1 output:\n",
      "Setting the default backend to \"pytorch\". You can change it in the ~/.dgl/config.json file or export the DGLBACKEND environment variable.  Valid options are: pytorch, mxnet, tensorflow (all lowercase)\n",
      "train data shape:\n",
      " \n",
      "(11200, 5)\n",
      "valid data shape:\n",
      " \n",
      "(590, 5)\n",
      "Host 2 output:\n",
      "Setting the default backend to \"pytorch\". You can change it in the ~/.dgl/config.json file or export the DGLBACKEND environment variable.  Valid options are: pytorch, mxnet, tensorflow (all lowercase)\n",
      "train data shape:\n",
      " \n",
      "(11200, 5)\n",
      "valid data shape:\n",
      " \n",
      "(590, 5)\n",
      "Host 3 output:\n",
      "Setting the default backend to \"pytorch\". You can change it in the ~/.dgl/config.json file or export the DGLBACKEND environment variable.  Valid options are: pytorch, mxnet, tensorflow (all lowercase)\n",
      "train data shape:\n",
      " \n",
      "(11200, 5)\n",
      "valid data shape:\n",
      " \n",
      "(590, 5)\n",
      "Host 4 output:\n",
      "Setting the default backend to \"pytorch\". You can change it in the ~/.dgl/config.json file or export the DGLBACKEND environment variable.  Valid options are: pytorch, mxnet, tensorflow (all lowercase)\n",
      "train data shape:\n",
      " \n",
      "(11200, 5)\n",
      "valid data shape:\n",
      " \n",
      "(589, 5)\n",
      "Host 5 output:\n",
      "Setting the default backend to \"pytorch\". You can change it in the ~/.dgl/config.json file or export the DGLBACKEND environment variable.  Valid options are: pytorch, mxnet, tensorflow (all lowercase)\n",
      "train data shape:\n",
      " \n",
      "(11200, 5)\n",
      "valid data shape:\n",
      " \n",
      "(589, 5)\n",
      "Host 6 output:\n",
      "Setting the default backend to \"pytorch\". You can change it in the ~/.dgl/config.json file or export the DGLBACKEND environment variable.  Valid options are: pytorch, mxnet, tensorflow (all lowercase)\n",
      "train data shape:\n",
      " \n",
      "(11199, 5)\n",
      "valid data shape:\n",
      " \n",
      "(589, 5)\n",
      "Host 7 output:\n",
      "Setting the default backend to \"pytorch\". You can change it in the ~/.dgl/config.json file or export the DGLBACKEND environment variable.  Valid options are: pytorch, mxnet, tensorflow (all lowercase)\n",
      "train data shape:\n",
      " \n",
      "(11199, 5)\n",
      "valid data shape:\n",
      " \n",
      "(589, 5)***Took 28505.271100537 seconds to train the model.***\n",
      "Validation metric:  1.057573676109314\n"
     ]
    }
   ],
   "source": [
    "\n",
    "start_time = default_timer()\n",
    "\n",
    "validation_metric = rec_pipeline.train(model_config, training_config)\n",
    "\n",
    "print(f\"***Took {default_timer() - start_time} seconds to train the model.***\")\n",
    "print(\"Validation metric: \", validation_metric)\n"
   ]
  },
  {
   "cell_type": "code",
   "execution_count": null,
   "id": "93a06392-f071-4c77-b59d-8266d6e9d8c6",
   "metadata": {},
   "outputs": [],
   "source": [
    "\n",
    "\n",
    "l_query  = \"\"\"\n",
    "\n",
    "   MATCH (n) \n",
    "   WITH DISTINCT LABELS(n) AS labels, COUNT(n) AS cnt\n",
    "   UNWIND labels AS label\n",
    "   RETURN label, SUM(cnt) AS cnt\n",
    "   ORDER BY label\n",
    "   \n",
    "   \"\"\".format()\n",
    "      #\n",
    "l_result1 = my_graph.query_unpaginated(l_query)\n",
    "\n",
    "print(\"--\")\n"
   ]
  },
  {
   "cell_type": "markdown",
   "id": "1350f3c1-27aa-40e6-811d-7a57a05abdea",
   "metadata": {},
   "source": [
    "### Testing\n",
    "\n",
    "Test the trained model on the test data and compare the results with other achitecture baselines. We compare three different metrics:\n",
    "- [Pearson correlation coefficient](https://en.wikipedia.org/wiki/Pearson_correlation_coefficient): a measure of linear correlation between two sets of data. A value closer to 1 is better.\n",
    "- [Spearman correlation coefficient](https://en.wikipedia.org/wiki/Spearman%27s_rank_correlation_coefficient): how well the relationship between two variables can be described using a monotonic function. A value closer to 1 is better.\n",
    "- [Root mean square error (RMSE)](https://en.wikipedia.org/wiki/Root-mean-square_deviation): a measure of the differences between values predicted by a model and the values observed. A lower value is better."
   ]
  },
  {
   "cell_type": "code",
   "execution_count": null,
   "id": "b64cb014-1302-4bac-b55f-3c86ba61436c",
   "metadata": {},
   "outputs": [],
   "source": [
    "start_time = default_timer()\n",
    "metrics, predictions, labels = rec_pipeline.test(training_config)\n",
    "print(f\"***Took {default_timer() - start_time} seconds to test the model.***\")\n",
    "metrics"
   ]
  },
  {
   "cell_type": "markdown",
   "id": "8ce573cf-65ab-4c2c-ba13-8cf30d4e595a",
   "metadata": {},
   "source": [
    "### Plot Predictions\n",
    "\n",
    "Create a scatter plot of the `IC50` predicted by the trained model in function of `IC50` real value."
   ]
  },
  {
   "cell_type": "code",
   "execution_count": null,
   "id": "5ec43d5c-07d9-456c-9aa6-c3d230b64991",
   "metadata": {
    "tags": []
   },
   "outputs": [],
   "source": [
    "start_time = default_timer()\n",
    "rec_pipeline.plot(labels, predictions)\n",
    "print(f\"***Took {default_timer() - start_time} seconds to plot figures.***\")"
   ]
  },
  {
   "cell_type": "markdown",
   "id": "f1411c92-b3ca-4340-94d6-2f3296607c31",
   "metadata": {},
   "source": [
    "<a id='step-4'></a>\n",
    "## Trained model inference "
   ]
  },
  {
   "cell_type": "markdown",
   "id": "50716925-45aa-426b-adde-f79946d387ec",
   "metadata": {},
   "source": [
    "<img src=\"images/pipeline_inference.png\" style=\"width: 1500px;\"/>\n",
    "\n"
   ]
  },
  {
   "cell_type": "code",
   "execution_count": null,
   "id": "edb4d9c2-ccda-4ce1-b480-a109e492ba58",
   "metadata": {},
   "outputs": [],
   "source": [
    "rec_pipeline.infer(training_config)"
   ]
  },
  {
   "cell_type": "code",
   "execution_count": null,
   "id": "e46e3750-0856-4a72-a332-a8bab0a7230a",
   "metadata": {},
   "outputs": [],
   "source": [
    "bortezomib = \"B(C(CC(C)C)NC(=O)C(CC1=CC=CC=C1)NC(=O)C2=NC=CN=C2)(O)O\"\n",
    "cell_line = \"ACH-000001\"\n",
    "rec_pipeline.infer(training_config, drug=bortezomib, cell_line=cell_line)"
   ]
  },
  {
   "cell_type": "markdown",
   "id": "97320404-c952-4b8d-94e9-ba6424c155ce",
   "metadata": {},
   "source": [
    "## Run trained model to save node embeddings\n",
    "\n",
    "Save the trained model embeddings as a node property. `drug_embeddings`, `epigenomics_embeddings`, `genomics_embeddings` and `transcriptomics_embeddings` will be created and saved. Those embeddings can be use for a future downstream task with a different model."
   ]
  },
  {
   "cell_type": "code",
   "execution_count": null,
   "id": "5fadc229-457e-40f5-a0df-b1fd36a772ca",
   "metadata": {},
   "outputs": [],
   "source": [
    "start_time = default_timer()\n",
    "rec_pipeline.infer_embeddings(model_config)\n",
    "print(f\"***Took {default_timer() - start_time} seconds to save node embeddings.***\")\n",
    "rec_pipeline.graph.schema().view()"
   ]
  },
  {
   "cell_type": "markdown",
   "id": "6e058913-fc3e-4c06-888b-b7fd9e167698",
   "metadata": {},
   "source": [
    "## Save Graph\n",
    "\n",
    "Save the graph created to the bucket location named in the `save_graph_path` variable."
   ]
  },
  {
   "cell_type": "code",
   "execution_count": null,
   "id": "36cc1319-b49e-4f07-aef0-a140ff354344",
   "metadata": {},
   "outputs": [],
   "source": [
    "if input_config.save_graph_path:\n",
    "    export_data.rdg(graph, input_config.save_graph_path)"
   ]
  }
 ],
 "metadata": {
  "katana": {
   "component": "AI",
   "max_num_hosts": 4
  },
  "kernelspec": {
   "display_name": "Python 3 (ipykernel)",
   "language": "python",
   "name": "python3"
  },
  "language_info": {
   "codemirror_mode": {
    "name": "ipython",
    "version": 3
   },
   "file_extension": ".py",
   "mimetype": "text/x-python",
   "name": "python",
   "nbconvert_exporter": "python",
   "pygments_lexer": "ipython3",
   "version": "3.8.13"
  },
  "toc-autonumbering": false
 },
 "nbformat": 4,
 "nbformat_minor": 5
}
