{
 "cells": [
  {
   "cell_type": "code",
   "execution_count": null,
   "id": "7daa820d-8dc4-433f-a8c1-496f2861e13f",
   "metadata": {},
   "outputs": [],
   "source": [
    "import os\n",
    "\n",
    "from katana import remote\n",
    "from katana.remote import import_data\n",
    "\n",
    "my_client = remote.Client()\n",
    "\n",
    "print(my_client)\n"
   ]
  },
  {
   "cell_type": "code",
   "execution_count": null,
   "id": "cd7b0e58-8cc2-485b-8576-ff7f22257cfd",
   "metadata": {},
   "outputs": [],
   "source": [
    "NUM_PARTITIONS  = 3\n",
    "   #\n",
    "DB_NAME         = \"my_db\"\n",
    "GRAPH_NAME      = \"my_graph\"\n",
    "\n",
    "print(\"--\")\n"
   ]
  },
  {
   "cell_type": "code",
   "execution_count": null,
   "id": "7183eecd-add9-450e-b469-8a5de24bdc95",
   "metadata": {},
   "outputs": [],
   "source": [
    "#  DELETE ALL GRAPHS, currently throws a spurious error\n",
    "\n",
    "\n",
    "for l_database in my_client.databases():\n",
    "   for l_graph in my_client.get_database(name=l_database.name).graphs_in_database():\n",
    "      l_handle=my_client.get_database(name=l_database.name).get_graph_by_id(id=l_graph.graph_id)\n",
    "      l_handle.delete()\n",
    "\n",
    "for l_graph in my_client.graphs():\n",
    "   print(\"GRAPH ID: \", l_graph.graph_id, \"      GRAPH Version: \", l_graph.version)\n",
    "\n",
    "print(\"--\")\n"
   ]
  },
  {
   "cell_type": "code",
   "execution_count": null,
   "id": "c5e5c82e-b3c1-43d2-a5cb-32bdac7ad10d",
   "metadata": {},
   "outputs": [],
   "source": [
    "#  CREATE A GRAPH\n",
    "\n",
    "my_graph=my_client.get_database(name=DB_NAME).create_graph(name=GRAPH_NAME, num_partitions=NUM_PARTITIONS)\n",
    "\n",
    "print(my_graph)\n"
   ]
  },
  {
   "cell_type": "code",
   "execution_count": null,
   "id": "89a3fa99-7677-4522-882f-046a012c8e27",
   "metadata": {},
   "outputs": [],
   "source": [
    "# ##################################################################"
   ]
  },
  {
   "cell_type": "code",
   "execution_count": null,
   "id": "cc343425-e492-4528-a9eb-fe602e56d81c",
   "metadata": {},
   "outputs": [],
   "source": [
    "#  IMPORT DATA INTO GRAPH USING CSV\n",
    "\n",
    "l_inp=\"gs://katana-demo-datasets/csv-datasets/ldbc/headers/sf-0.003-bi-node_headers.txt\"\n",
    "l_enp=\"gs://katana-demo-datasets/csv-datasets/ldbc/headers/sf-0.003-bi-edge_headers.txt\"\n",
    "   #\n",
    "l_dir=\"gs://katana-demo-datasets/csv-datasets/ldbc\"\n",
    "\n",
    "import_data.csv(\n",
    "   my_graph,\n",
    "   input_node_path    = l_inp,\n",
    "   input_edge_path    = l_enp,\n",
    "   input_dir          = l_dir,\n",
    "      #\n",
    "   data_delimiter     = \"|\",\n",
    "   schema_delimiter   = \"|\",\n",
    "   files_have_headers = True\n",
    "   )\n",
    "\n",
    "print(\"--\")\n"
   ]
  },
  {
   "cell_type": "code",
   "execution_count": null,
   "id": "9e10460e-a9e8-4c41-91ea-234ddebcfff2",
   "metadata": {},
   "outputs": [],
   "source": [
    "display(my_graph.num_nodes())\n",
    "display(my_graph.num_edges())"
   ]
  },
  {
   "cell_type": "code",
   "execution_count": null,
   "id": "93182c23-561a-4df6-8ce3-8c899a54478f",
   "metadata": {},
   "outputs": [],
   "source": [
    "my_graph.query(\"CALL graph.schema() RETURN *\")"
   ]
  },
  {
   "cell_type": "code",
   "execution_count": null,
   "id": "7ac80c9c-a2e1-4a1a-bcb5-04b5e6e7aaff",
   "metadata": {},
   "outputs": [],
   "source": [
    "# ##################################################################"
   ]
  },
  {
   "cell_type": "code",
   "execution_count": null,
   "id": "0432a985-e9c3-4f9e-91e8-a9bd99269c7f",
   "metadata": {},
   "outputs": [],
   "source": [
    "\n",
    "l_result = my_graph.query(\"\"\"\n",
    "\n",
    "   MATCH (n:Person) - [ r:IS_LOCATED_IN] - (p:Place)\n",
    "\n",
    "   RETURN p.name, COUNT(*)\n",
    "   \n",
    "   ORDER BY count(*) DESC\n",
    "   LIMIT 10\n",
    "\n",
    "   \"\"\")\n",
    "\n",
    "print(l_result)"
   ]
  },
  {
   "cell_type": "code",
   "execution_count": null,
   "id": "e105edb3-f826-407d-87ec-af090ffd2748",
   "metadata": {},
   "outputs": [],
   "source": [
    "\n",
    "#  Works\n",
    "\n",
    "l_result = my_graph.query(\"\"\"\n",
    "\n",
    "   MATCH (n:Person) - [r:IS_LOCATED_IN] - (p:Place)\n",
    "\n",
    "   WHERE p.name CONTAINS \"New_York_City\"\n",
    "   WITH collect(n.lastName) AS surname, p, n\n",
    "\n",
    "   RETURN surname, p\n",
    "\n",
    "   \"\"\")\n",
    "\n",
    "print(l_result)"
   ]
  },
  {
   "cell_type": "code",
   "execution_count": null,
   "id": "167866e4-0957-44b2-811a-05cfeaeb6353",
   "metadata": {},
   "outputs": [],
   "source": [
    "\n",
    "#  Fails\n",
    "\n",
    "l_result = my_graph.query(\"\"\"\n",
    "\n",
    "   MATCH (n:Person) - [r:IS_LOCATED_IN] - (p:Place)\n",
    "\n",
    "   WITH collect(n.lastName) AS surname, p, n\n",
    "   WHERE p.name CONTAINS \"New_York_City\"\n",
    "\n",
    "   RETURN surname, p\n",
    "\n",
    "   \"\"\")\n",
    "\n",
    "print(l_result)\n",
    "\n"
   ]
  },
  {
   "cell_type": "code",
   "execution_count": null,
   "id": "09b36ab9-cf5c-4542-9fe4-27d93797c0b8",
   "metadata": {},
   "outputs": [],
   "source": [
    "\n",
    "#  Error from above-\n",
    "\n",
    "# OperationError: query C1hykuC9S44vMirfuDnNz99PJHaNNzg8iHUJzDTFnDbC-5Rj6yXJV5whwtNsgt error: ibquery/src/OpGraph.cpp:56): \n",
    "# backtrace: (../../libquery/src/GroupByAggregateOperator.cpp:414): backtrace: (../../libquery/src/GroupByAggregateOperator.cpp:167): \n",
    "# backtrace: (../../libquery/src/expressions/Evaluate.cpp:1972): backtrace: (../../libquery/src/expressions/Evaluate.cpp:1429): \n",
    "# backtrace: (../../libquery/src/EvaluateSelection.cpp:1397): error selecting property \n",
    "# 'lastName' of 'n': property evaluation function may hang and may be incorrect without a collective operation (EvaluateSelection.cpp:174)\n"
   ]
  },
  {
   "cell_type": "code",
   "execution_count": null,
   "id": "4a043824-4fb4-49dd-927c-d4876306d230",
   "metadata": {},
   "outputs": [],
   "source": [
    "#  Fails\n",
    "\n",
    "l_result = my_graph.query(\"\"\"\n",
    "\n",
    "   MATCH (n:Person) - [r:IS_LOCATED_IN] - (p:Place)\n",
    "\n",
    "   WITH *, collect(n.lastName) AS surname\n",
    "   WHERE p.name CONTAINS \"New_York_City\"\n",
    "\n",
    "   RETURN surname, p\n",
    "\n",
    "   \"\"\")\n",
    "\n",
    "print(l_result)"
   ]
  },
  {
   "cell_type": "code",
   "execution_count": null,
   "id": "dad92a92-3f17-4cb0-ae10-cf0d39d70484",
   "metadata": {},
   "outputs": [],
   "source": [
    "\n",
    "#  Error from above-\n",
    "\n",
    "# OperationError: query VtRQ6fJvGBpPdeUkmC8dGz1mENkkLYptoxu51FxvAHB-2M1ntt6dc1w6VNhJY error: ibquery/src/OpGraph.cpp:56): \n",
    "# backtrace: (../../libquery/src/GroupByAggregateOperator.cpp:414): backtrace: (../../libquery/src/GroupByAggregateOperator.cpp:167): \n",
    "# backtrace: (../../libquery/src/expressions/Evaluate.cpp:1972): backtrace: (../../libquery/src/expressions/Evaluate.cpp:1429): \n",
    "# backtrace: (../../libquery/src/EvaluateSelection.cpp:1397): error selecting property 'lastName' of 'n': property evaluation function may hang \n",
    "# and may be incorrect without a collective operation (EvaluateSelection.cpp:174)\n"
   ]
  }
 ],
 "metadata": {
  "kernelspec": {
   "display_name": "Python 3 (ipykernel)",
   "language": "python",
   "name": "python3"
  },
  "language_info": {
   "codemirror_mode": {
    "name": "ipython",
    "version": 3
   },
   "file_extension": ".py",
   "mimetype": "text/x-python",
   "name": "python",
   "nbconvert_exporter": "python",
   "pygments_lexer": "ipython3",
   "version": "3.8.13"
  }
 },
 "nbformat": 4,
 "nbformat_minor": 5
}
