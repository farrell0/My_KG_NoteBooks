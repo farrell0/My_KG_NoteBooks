{
 "cells": [
  {
   "cell_type": "markdown",
   "id": "8693f0df-a529-43bb-a795-f2433b5862f2",
   "metadata": {},
   "source": [
    "#  Simple program to output rows per vertice, edge\n"
   ]
  },
  {
   "cell_type": "markdown",
   "id": "d5e3841c-77f9-4030-86ff-0292cb65b901",
   "metadata": {
    "tags": []
   },
   "source": [
    "### Setup: Open graph"
   ]
  },
  {
   "cell_type": "code",
   "execution_count": null,
   "id": "794fe4bd-65d7-48fc-a1d7-2721253c70ba",
   "metadata": {},
   "outputs": [],
   "source": [
    "import os\n",
    "\n",
    "from katana import remote\n",
    "\n",
    "os.environ[\"KATANA_SERVER_ADDRESS\"] = \"localhost:8080\"\n",
    "\n",
    "my_client = remote.Client()\n",
    "\n",
    "print(my_client)"
   ]
  },
  {
   "cell_type": "code",
   "execution_count": null,
   "id": "83f2139f-430e-400b-be99-66e91148e848",
   "metadata": {},
   "outputs": [],
   "source": [
    "DB_NAME    = \"my_db\"\n",
    "GRAPH_NAME = \"my_graph\"\n",
    "\n",
    "print(\"--\")"
   ]
  },
  {
   "cell_type": "code",
   "execution_count": null,
   "id": "d0238845-6d22-4381-adab-2741196fa6cd",
   "metadata": {},
   "outputs": [],
   "source": [
    "#  CONNECT TO GRAPH\n",
    "\n",
    "for l_graph in my_client.get_database(name=DB_NAME).graphs_in_database():\n",
    "   if (l_graph.name == GRAPH_NAME):\n",
    "      my_graph=my_client.get_database(name=DB_NAME).get_graph_by_id(id=l_graph.graph_id)\n",
    "         #\n",
    "      break\n",
    "\n",
    "# my_graph, *_ = my_client.get_database(name=DB_NAME).find_graphs_by_name(GRAPH_NAME)\n",
    "\n",
    "print(my_graph)"
   ]
  },
  {
   "cell_type": "markdown",
   "id": "be675e0a-0df5-4664-8569-b2e6217693bf",
   "metadata": {
    "tags": []
   },
   "source": [
    "### Run Analytics:"
   ]
  },
  {
   "cell_type": "code",
   "execution_count": null,
   "id": "2a28b2d6-ff54-4307-ae88-4d3010f69df2",
   "metadata": {},
   "outputs": [],
   "source": [
    "display(my_graph.num_nodes())\n",
    "display(my_graph.num_edges())\n"
   ]
  },
  {
   "cell_type": "code",
   "execution_count": null,
   "id": "999b195a-6b7e-48f0-a084-779bdb1457f0",
   "metadata": {},
   "outputs": [],
   "source": [
    "import katana_enterprise\n",
    "\n",
    "\n",
    "#  Also at,\n",
    "#     http://localhost:8080/v2/widgets/katana-frontend\n",
    "\n",
    "my_client.widgets().operations()\n",
    "# my_client.widgets().databases()\n",
    "\n",
    "# my_client.widgets().dashboard()                #  No-op currently\n"
   ]
  },
  {
   "cell_type": "code",
   "execution_count": null,
   "id": "b21c60ee-81e5-43d4-a1c3-2e5e337af2db",
   "metadata": {},
   "outputs": [],
   "source": [
    "# ##################################################################"
   ]
  },
  {
   "cell_type": "code",
   "execution_count": null,
   "id": "f0b0faf7-8f6d-4444-8f04-3f17b7786b56",
   "metadata": {},
   "outputs": [],
   "source": [
    "#  LIST ALL VERTICES WITH NODE COUNTS\n",
    "#\n",
    "#  From,\n",
    "#     https://stackoverflow.com/questions/23334688/how-to-get-different-labels-and-their-count-in-neo4j-by-cypher-query\n",
    "\n",
    "\n",
    "result1 = my_graph.query(\"\"\"\n",
    "\n",
    "   MATCH (a) WITH DISTINCT LABELS(a) AS temp, COUNT(a) AS tempCnt\n",
    "   UNWIND temp AS label\n",
    "   RETURN label, SUM(tempCnt) AS cnt\n",
    "   ORDER BY label\n",
    "   \n",
    "   \"\"\")\n",
    "\n",
    "display(print(result1))\n",
    "\n",
    "\n",
    "result2 = my_graph.query(\"\"\"\n",
    "\n",
    "   MATCH (a) \n",
    "   WITH COUNT(a) AS tempCnt\n",
    "   RETURN tempCnt\n",
    "   \n",
    "   \"\"\")\n",
    "\n",
    "display(print(result2))\n"
   ]
  },
  {
   "cell_type": "code",
   "execution_count": null,
   "id": "3f0b5d77-16c6-4adf-8717-c0e69815fb26",
   "metadata": {},
   "outputs": [],
   "source": [
    "#  LIST ALL EDGES WITH COUNTS\n",
    "\n",
    "result1 = my_graph.query(\"\"\"\n",
    "\n",
    "   MATCH (m)-[r]->(n) \n",
    "   WITH DISTINCT TYPE(r) AS temp, COUNT(r) AS tempCnt\n",
    "   RETURN temp, tempCnt\n",
    "   ORDER BY temp\n",
    "\n",
    "   \"\"\")\n",
    "\n",
    "display(print(result1))\n",
    "\n",
    "\n",
    "result2 = my_graph.query(\"\"\"\n",
    "\n",
    "   MATCH (m)-[r]->(n) \n",
    "   WITH COUNT(r) AS tempCnt\n",
    "   RETURN tempCnt\n",
    "\n",
    "   \"\"\")\n",
    "\n",
    "display(print(result2))\n"
   ]
  },
  {
   "cell_type": "code",
   "execution_count": null,
   "id": "d049b035-ac1f-404d-b19f-36cfbfd3fe82",
   "metadata": {},
   "outputs": [],
   "source": [
    "# ##################################################################"
   ]
  },
  {
   "cell_type": "code",
   "execution_count": null,
   "id": "c31d171b-3496-4c50-9d3c-5fd02da1209f",
   "metadata": {},
   "outputs": [],
   "source": [
    "\n",
    "#  Delete all of the Edges from Claimant --> Payment\n",
    "\n",
    "\n",
    "l_result = my_graph.query(\"\"\"\n",
    "   MATCH (p: payment) - [e: WAS_PAID] -> (c: claimant)\n",
    "   RETURN count(e)\n",
    "   \"\"\")\n",
    "display(print(l_result))\n",
    "\n",
    "l_result = my_graph.query(\"\"\"\n",
    "   MATCH (p: payment) - [e: WAS_PAID] -> (c: claimant)\n",
    "   DELETE e\n",
    "   \"\"\")\n",
    "display(print(l_result))\n",
    "\n",
    "l_result = my_graph.query(\"\"\"\n",
    "   MATCH (p: payment) - [e: WAS_PAID] -> (c: claimant)\n",
    "   RETURN count(e)\n",
    "   \"\"\")\n",
    "display(print(l_result))\n"
   ]
  },
  {
   "cell_type": "code",
   "execution_count": null,
   "id": "b049329c-a5d5-4642-bd6c-85e01bd61417",
   "metadata": {},
   "outputs": [],
   "source": [
    "\n",
    "#  Get all Payments, requirement to operate below\n",
    "\n",
    "l_result1 = my_graph.query(\"\"\"\n",
    "\n",
    "   MATCH (p: payment)\n",
    "   RETURN p.id as pid, p.amount as amt\n",
    "\n",
    "   \"\"\")\n",
    "\n",
    "display(print(l_result1[0:5]))\n"
   ]
  },
  {
   "cell_type": "code",
   "execution_count": null,
   "id": "10cbc2c2-cb7a-4453-bdd1-82e1e589cd1c",
   "metadata": {},
   "outputs": [],
   "source": [
    "\n",
    "#  Singleton test only \n",
    "\n",
    "l_amt = 117.71\n",
    "l_pid = \"P_2467\"\n",
    "   #\n",
    "l_cid = \"C_\" + l_pid[2:]\n",
    "\n",
    "l_query = \"\"\"\n",
    "\n",
    "   MATCH (p: payment ) WHERE p.id = '{0}'\n",
    "   RETURN p.id\n",
    "\n",
    "   \"\"\".format(l_pid)\n",
    "\n",
    "l_result7 = my_graph.query(l_query)\n",
    "   #\n",
    "display(print(l_result7[0:5]))\n",
    "\n",
    "\n",
    "l_query = \"\"\"\n",
    "\n",
    "   MATCH (c: claimant ) WHERE c.id = '{0}'\n",
    "   RETURN c.id\n",
    "\n",
    "   \"\"\".format(l_cid)\n",
    "\n",
    "l_result8 = my_graph.query(l_query)\n",
    "   #\n",
    "display(print(l_result8[0:5]))\n",
    "\n",
    "\n"
   ]
  },
  {
   "cell_type": "code",
   "execution_count": null,
   "id": "85d640ce-d9f7-452b-a7e4-f0c8f0486ba3",
   "metadata": {},
   "outputs": [],
   "source": [
    "\n",
    "#  Singleton test only; works, fugly or not, Why can't I put this in a loop ?\n",
    "\n",
    "l_amt = 117.71\n",
    "l_pid = \"P_2874\"\n",
    "   #\n",
    "l_cid = \"C_\" + l_pid[2:]\n",
    "\n",
    "l_query = \"\"\"\n",
    "\n",
    "   MATCH (p: payment ) WHERE p.id = '{0}'\n",
    "   MATCH (c: claimant) WHERE c.id = '{1}'\n",
    "   CREATE (p) -[r:WAS_PAID]-> (c)\n",
    "   SET r.amount = {2}\n",
    "\n",
    "   \"\"\".format(l_pid, l_cid, l_amt)\n",
    "\n",
    "l_result0 = my_graph.query(l_query)\n",
    "\n",
    "print(\"--\")\n"
   ]
  },
  {
   "cell_type": "code",
   "execution_count": null,
   "id": "bd68e600-3da3-44f1-8950-d7ec1e525cc9",
   "metadata": {},
   "outputs": [],
   "source": [
    "# ##################################################################"
   ]
  },
  {
   "cell_type": "code",
   "execution_count": null,
   "id": "ec1eeeed-daa7-4133-8a04-a582d00d39ea",
   "metadata": {},
   "outputs": [],
   "source": [
    "\n",
    "#  Throws error in cell below; works with a break in the loop after first invocation\n",
    "\n",
    "#  Create the Edge records, Payment -> Claimant\n",
    "#\n",
    "#  This is fugly; there is a means to do this with straight OpenCypher, couldn't get it to work ..\n",
    "\n",
    "\n",
    "for l_each in l_result1.iterrows():\n",
    "   l_amt = l_each[1][0]\n",
    "   l_pid = l_each[1][1]\n",
    "      #\n",
    "   l_cid = \"C_\" + l_pid[2:]\n",
    "    \n",
    "   l_query = \"\"\"\n",
    "\n",
    "      MATCH (p: payment ) WHERE p.id = '{0}'\n",
    "      MATCH (c: claimant) WHERE c.id = '{1}'\n",
    "      CREATE (p) -[r:WAS_PAID]-> (c)\n",
    "      SET r.amount = {2}\n",
    "   \n",
    "      \"\"\".format(l_pid, l_cid, l_amt)\n",
    "\n",
    "   l_result0 = my_graph.query(l_query)\n",
    "      #\n",
    "   print(\".\", end='')\n",
    "   # break\n",
    "   \n",
    "\n",
    "print(\"  \")\n",
    "print(\"  \")\n"
   ]
  },
  {
   "cell_type": "code",
   "execution_count": null,
   "id": "c0c3d070-2784-4490-8b39-773dde33bc3d",
   "metadata": {},
   "outputs": [],
   "source": [
    "# ##################################################################"
   ]
  },
  {
   "cell_type": "code",
   "execution_count": null,
   "id": "b3f06f1f-a186-45e8-91b5-78ad9cda72e7",
   "metadata": {},
   "outputs": [],
   "source": [
    "\n",
    "#  From a Google ..  FOREACH doesn't work currently ..\n",
    "\n",
    "MATCH (e:Employees)\n",
    "OPTIONAL MATCH (m:Manager)\n",
    "WHERE e.name = m.name\n",
    "WITH e, COLLECT(m) AS mList\n",
    "\n",
    "FOREACH(x IN mList | CREATE (x)-[:REL_NAME]->(e))\n",
    "\n",
    "WITH e\n",
    "OPTIONAL MATCH (a:Address)\n",
    "WHERE e.zipcode = a.zipcode\n",
    "WITH e, COLLECT(a) AS aList\n",
    "FOREACH(y IN aList | CREATE (e)-[:ADDR_REL]->(y))\n",
    "\n"
   ]
  },
  {
   "cell_type": "code",
   "execution_count": null,
   "id": "246b7277-cb36-452d-8dd0-1c1b0f3325c2",
   "metadata": {},
   "outputs": [],
   "source": [
    "\n",
    "#  FOREACH doesn't work currently ..\n",
    "\n",
    "l_resultX = my_graph.query(\"\"\"\n",
    "\n",
    "   MATCH (p: payment)\n",
    "   WITH COLLECT (p) AS pa\n",
    "   \n",
    "   FOREACH (x IN pa | CREATE (x: payment2))\n",
    "\n",
    "   \"\"\")\n",
    "\n",
    "print(\"--\")\n",
    "\n"
   ]
  },
  {
   "cell_type": "code",
   "execution_count": null,
   "id": "623f9c12-01d0-4403-ac20-b357ed495f0e",
   "metadata": {},
   "outputs": [],
   "source": []
  },
  {
   "cell_type": "code",
   "execution_count": null,
   "id": "bb548af2-e9c4-49d8-9bd2-a341da7ea27f",
   "metadata": {},
   "outputs": [],
   "source": []
  },
  {
   "cell_type": "code",
   "execution_count": null,
   "id": "0f0b9e76-9c12-479a-bbe7-cdf58a333968",
   "metadata": {},
   "outputs": [],
   "source": [
    "# ##################################################################"
   ]
  },
  {
   "cell_type": "code",
   "execution_count": null,
   "id": "b5746c46-1225-4ed5-bb52-3e9827aa2bc2",
   "metadata": {},
   "outputs": [],
   "source": [
    "#  Get all Payments, requirement to operate below\n",
    "\n",
    "edge_fields2 = ['START_ID', 'END_ID', 'AMOUNT']\n",
    "\n",
    "\n",
    "l_result1 = my_graph.query(\"\"\"\n",
    "\n",
    "   MATCH (p: payment)\n",
    "   RETURN p.id as pid, p.amount as amt\n",
    "\n",
    "   \"\"\")\n",
    "\n",
    "display(print(l_result1[0:5]))"
   ]
  },
  {
   "cell_type": "code",
   "execution_count": null,
   "id": "3fbe3219-45df-4181-8aa9-328ff08e003b",
   "metadata": {},
   "outputs": [],
   "source": [
    "\n",
    "import csv\n",
    "\n",
    "i_outputfile      = \"e_payment_claimant4.csv\"\n",
    "payment_claimants = []\n",
    "\n",
    "for l_each in l_result1.iterrows():\n",
    "   l_amt = l_each[1][0]\n",
    "   l_pid = l_each[1][1]\n",
    "      #\n",
    "   l_cid = \"C_\" + l_pid[2:]\n",
    "\n",
    "   payment_claimant = dict()\n",
    "      #\n",
    "   payment_claimant['START_ID'] = l_pid\n",
    "   payment_claimant['END_ID'  ] = l_cid\n",
    "   payment_claimant['AMOUNT'  ] = l_amt\n",
    "      #\n",
    "   payment_claimants.append(payment_claimant)\n",
    "\n",
    "\n",
    "with open (i_outputfile, \"w\") as csvfile:\n",
    "   l_writer = csv.DictWriter(csvfile, fieldnames=edge_fields2, delimiter=\"|\")\n",
    "      #\n",
    "   l_writer.writeheader()\n",
    "   l_writer.writerows(payment_claimants)\n",
    "\n",
    "    \n",
    "print(\"--\")\n"
   ]
  },
  {
   "cell_type": "code",
   "execution_count": null,
   "id": "10c63c06-d195-48fa-8bb9-034eb000cc5a",
   "metadata": {},
   "outputs": [],
   "source": [
    "#  Actual graph load, edge only\n",
    "\n",
    "from katana.remote import import_data\n",
    "\n",
    "\n",
    "l_edge=\"gs://farrell-data-bucket/AA_Anand_Insurance/45_EdgeHeader4.txt\"\n",
    "   #\n",
    "l_dir=\"gs://farrell-data-bucket/AA_Anand_Insurance/\"\n",
    "\n",
    "import_data.csv(\n",
    "   my_graph,\n",
    "      #\n",
    "   input_edge_path     = l_edge,\n",
    "   default_id_property = \"id\",\n",
    "   ids_are_integers    = False,\n",
    "   operation           = import_data.Operation.Insert,\n",
    "      #\n",
    "   input_dir           = l_dir,\n",
    "   data_delimiter      = \"|\",\n",
    "   schema_delimiter    = \"|\",\n",
    "   files_have_headers  = True,\n",
    "   # partition_policy = \"random-oec\"\n",
    "   )\n",
    "\n",
    "print (\"--\")\n",
    "\n"
   ]
  },
  {
   "cell_type": "code",
   "execution_count": null,
   "id": "7187b393-1677-4aad-a54d-6b77502df306",
   "metadata": {},
   "outputs": [],
   "source": []
  }
 ],
 "metadata": {
  "kernelspec": {
   "display_name": "Python 3 (ipykernel)",
   "language": "python",
   "name": "python3"
  },
  "language_info": {
   "codemirror_mode": {
    "name": "ipython",
    "version": 3
   },
   "file_extension": ".py",
   "mimetype": "text/x-python",
   "name": "python",
   "nbconvert_exporter": "python",
   "pygments_lexer": "ipython3",
   "version": "3.8.13"
  }
 },
 "nbformat": 4,
 "nbformat_minor": 5
}
