{
 "cells": [
  {
   "cell_type": "markdown",
   "id": "dee4b4c1-688b-4b5e-b195-5a2f4668599e",
   "metadata": {},
   "source": [
    "#  Setup stuff:  Connectivity "
   ]
  },
  {
   "cell_type": "code",
   "execution_count": 80,
   "id": "c9937838-2db4-49ac-b782-d67e87f2059b",
   "metadata": {},
   "outputs": [
    {
     "data": {
      "text/html": [],
      "text/plain": [
       "<IPython.core.display.HTML object>"
      ]
     },
     "metadata": {},
     "output_type": "display_data"
    },
    {
     "name": "stdout",
     "output_type": "stream",
     "text": [
      "--\n"
     ]
    }
   ],
   "source": [
    "\n",
    "#  Setting display options \n",
    "\n",
    "import pandas as pd\n",
    "   #\n",
    "pd.set_option(\"display.width\", 480)\n",
    "\n",
    "#  Sets horizontal scroll for wide outputs\n",
    "#\n",
    "from IPython.display import display, HTML\n",
    "display(HTML(\"\"))\n",
    "\n",
    "from tabulate import tabulate\n",
    "\n",
    "print(\"--\")\n"
   ]
  },
  {
   "cell_type": "code",
   "execution_count": null,
   "id": "6da09346-5fcf-4c45-a7bd-ef07ce9f9a59",
   "metadata": {},
   "outputs": [],
   "source": [
    "\n",
    "from katana import remote\n",
    "from katana.remote import import_data\n",
    "\n",
    "my_client=remote.Client()\n",
    "\n",
    "print(my_client)\n"
   ]
  },
  {
   "cell_type": "code",
   "execution_count": null,
   "id": "19bc460e-bdee-4199-9f7d-4b1207726980",
   "metadata": {},
   "outputs": [],
   "source": [
    "\n",
    "NUM_PARTITIONS  = 3\n",
    "   #\n",
    "DB_NAME         = \"my_db\"\n",
    "GRAPH_NAME      = \"my_graph\"\n",
    "\n",
    "print(\"--\")\n"
   ]
  },
  {
   "cell_type": "code",
   "execution_count": null,
   "id": "f4306efe-2554-4f15-8cf5-700452c878b3",
   "metadata": {},
   "outputs": [],
   "source": [
    "\n",
    "#  CONNECT TO GRAPH\n",
    "\n",
    "my_graph, *_ = my_client.get_database(name=DB_NAME).find_graphs_by_name(GRAPH_NAME)\n",
    "\n",
    "print(my_graph)\n"
   ]
  },
  {
   "cell_type": "markdown",
   "id": "167c4208-0f54-470f-9dac-0a10c9f10774",
   "metadata": {},
   "source": [
    "#  Sample Cyphers: Vertices"
   ]
  },
  {
   "cell_type": "code",
   "execution_count": null,
   "id": "35763edd-134f-4ceb-8c66-19c9c9c48eae",
   "metadata": {},
   "outputs": [],
   "source": [
    "\n",
    "#  Cypher clauses\n",
    "#\n",
    "#     RETURN ..\n",
    "#     ORDER BY ..\n",
    "#     SKIP ..\n",
    "#     LIMIT ..\n"
   ]
  },
  {
   "cell_type": "code",
   "execution_count": null,
   "id": "e3d16a08-4a5d-48f5-b7e5-fa4484c158cd",
   "metadata": {},
   "outputs": [],
   "source": [
    "\n",
    "#  KAT-11445   Mismatch columns and missing values\n",
    "\n",
    "#  Return all nodes\n",
    "\n",
    "#  l_query  = \"\"\"\n",
    "#     MATCH (n) \n",
    "#     RETURN n\n",
    "#     \"\"\".format()\n",
    "#  \n",
    "#  l_return = my_graph.query(l_query)\n",
    "#     #\n",
    "#  print(l_return.head(10))\n",
    "\n",
    "#          n.internal_id      n.labels  n.LABEL n.airport_code  n.airport_name n.type n.restaurant_code            n.restaurant_name\n",
    "#     0                0     [Airport]  Airport            MKE       Milwaukee   node               NaN                          NaN\n",
    "#     1                2  [Restaurant]      NaN            NaN             NaN   node               PAP  Pappadeauxs Seafood Kitchen\n",
    "#     2                1     [Airport]  Airport            DEN          Denver   node               NaN                          NaN\n",
    "#     3  562949953421313     [Airport]  Airport            SJC        San Jose   node               NaN                          NaN\n",
    "#     4  562949953421312     [Airport]  Airport            ORD  Chicago O-Hare   node               NaN                          NaN\n",
    "\n",
    "\n",
    "l_query  = \"\"\"\n",
    "   MATCH (n) \n",
    "   RETURN \n",
    "      n.internal_id AS my_id, \n",
    "      n.LABEL AS my_label, \n",
    "      n.airport_code AS airport_code, \n",
    "      n.airport_name AS airport_name, \n",
    "      n.restaurant_code AS restaurant_code, \n",
    "      n.restaurant_name AS restaurant_name\n",
    "   \"\"\".format()\n",
    "\n",
    "l_return = my_graph.query(l_query)\n",
    "   #\n",
    "print(l_return)\n",
    "\n"
   ]
  },
  {
   "cell_type": "code",
   "execution_count": null,
   "id": "be368507-fc1d-42e6-b757-8434e2282a1a",
   "metadata": {},
   "outputs": [],
   "source": [
    "\n",
    "#  Get a count of all nodes\n",
    "\n",
    "display(my_graph.num_nodes())\n",
    "\n",
    "\n",
    "l_query  = \"\"\"\n",
    "   MATCH (n) \n",
    "   RETURN COUNT(*) AS cnt\n",
    "   \"\"\".format()\n",
    "\n",
    "l_count = my_graph.query(l_query)[\"cnt\"][0]\n",
    "\n",
    "\n",
    "print(l_count)\n",
    "print(type(l_count))\n"
   ]
  },
  {
   "cell_type": "code",
   "execution_count": null,
   "id": "acaaac0d-1a7c-4900-8468-459e0b739cb5",
   "metadata": {},
   "outputs": [],
   "source": [
    "\n",
    "#  Get a count of all node types\n",
    "\n",
    "l_query  = \"\"\"\n",
    "   MATCH (n) \n",
    "   RETURN COUNT(DISTINCT LABELS(n)) AS cnt\n",
    "   \"\"\".format()\n",
    "\n",
    "l_count = my_graph.query(l_query)[\"cnt\"][0]\n",
    "\n",
    "print(l_count)\n"
   ]
  },
  {
   "cell_type": "code",
   "execution_count": null,
   "id": "047fafb0-31e6-4065-a8d3-c1bd6f62b003",
   "metadata": {},
   "outputs": [],
   "source": [
    "\n",
    "#  List all node types\n",
    "\n",
    "l_query  = \"\"\"\n",
    "   MATCH (n)\n",
    "   RETURN DISTINCT LABELS(n) AS my_type\n",
    "   \"\"\".format()\n",
    "\n",
    "l_result = my_graph.query(l_query)\n",
    "\n",
    "\n",
    "for l_each in l_result.itertuples():\n",
    "   print(l_each.my_type)\n",
    "\n",
    "print(\"--\")\n"
   ]
  },
  {
   "cell_type": "code",
   "execution_count": null,
   "id": "53f97029-84b8-46d9-9b8b-c6bbf1bee0bd",
   "metadata": {},
   "outputs": [],
   "source": [
    "\n",
    "#  List all node types with node counts\n",
    "\n",
    "l_query  = \"\"\"\n",
    "   MATCH (n) \n",
    "   WITH DISTINCT LABELS(n) AS temp, COUNT(n) AS tempCnt\n",
    "   UNWIND temp AS label\n",
    "   RETURN label, SUM(tempCnt) AS cnt\n",
    "   ORDER BY label\n",
    "   \"\"\".format()\n",
    "\n",
    "l_result = my_graph.query(l_query)\n",
    "   #\n",
    "display(print(l_result))\n",
    "   \n",
    "    \n",
    "print(\"\")\n",
    "\n",
    "\n",
    "l_query  = \"\"\"\n",
    "   MATCH (n) \n",
    "   WITH COUNT(n) AS tempCnt\n",
    "   RETURN tempCnt\n",
    "   \"\"\".format()\n",
    "\n",
    "l_result = my_graph.query(l_query)\n",
    "   #\n",
    "display(print(l_result))\n",
    "\n"
   ]
  },
  {
   "cell_type": "markdown",
   "id": "14723dda-e98f-4122-aea5-6caf2e588ee8",
   "metadata": {},
   "source": [
    "#  Sample Cyphers: Edges"
   ]
  },
  {
   "cell_type": "code",
   "execution_count": null,
   "id": "ca4aad89-92b7-4fba-a544-001da941de86",
   "metadata": {},
   "outputs": [],
   "source": [
    "\n",
    "#  Count all edges\n",
    "\n",
    "display(my_graph.num_edges())\n",
    "\n",
    "l_query  = \"\"\"\n",
    "    MATCH (n) - [r] -> (m)\n",
    "    RETURN COUNT(r) AS cnt\n",
    "   \"\"\".format()\n",
    "\n",
    "l_count = my_graph.query(l_query)[\"cnt\"][0]\n",
    "\n",
    "print(l_count)\n"
   ]
  },
  {
   "cell_type": "code",
   "execution_count": null,
   "id": "99f04b70-6e9e-42f1-9ecf-eecbe4be2456",
   "metadata": {},
   "outputs": [],
   "source": [
    "\n",
    "#  List all vertice types with counts\n",
    "\n",
    "l_query  = \"\"\"\n",
    "   MATCH (m)-[r]->(n) \n",
    "   WITH DISTINCT TYPE(r) AS temp, COUNT(r) AS tempCnt\n",
    "   RETURN temp, tempCnt\n",
    "   ORDER BY temp\n",
    "   \"\"\".format()\n",
    "\n",
    "l_result = my_graph.query(l_query)\n",
    "   #\n",
    "display(print(l_result))\n",
    "\n",
    "\n",
    "l_query  = \"\"\"\n",
    "   MATCH (m)-[r]->(n) \n",
    "   WITH COUNT(r) AS tempCnt\n",
    "   RETURN tempCnt\n",
    "   \"\"\".format()\n",
    "\n",
    "l_result = my_graph.query(l_query)\n",
    "   #\n",
    "display(print(l_result))\n",
    "\n"
   ]
  },
  {
   "cell_type": "markdown",
   "id": "67677cae-8b4b-4d8c-b1f0-811d67147969",
   "metadata": {},
   "source": [
    "#  Sample Cyphers: Properties"
   ]
  },
  {
   "cell_type": "code",
   "execution_count": null,
   "id": "d6299b26-b231-4cf7-997d-02bf855c9870",
   "metadata": {},
   "outputs": [],
   "source": [
    "\n",
    "#  Return properties/keys from all vertices\n",
    "\n",
    "my_graph.query(\"CALL graph.schema() RETURN *\")\n"
   ]
  },
  {
   "cell_type": "code",
   "execution_count": 79,
   "id": "313f34a5-d1f3-4a2d-83a4-15f35d5767d1",
   "metadata": {},
   "outputs": [
    {
     "ename": "NotFoundError",
     "evalue": "b'{\"code\":404,\"message\":\"Not Found\"}'",
     "output_type": "error",
     "traceback": [
      "\u001b[0;31m---------------------------------------------------------------------------\u001b[0m",
      "\u001b[0;31mNotFoundError\u001b[0m                             Traceback (most recent call last)",
      "Cell \u001b[0;32mIn [79], line 10\u001b[0m\n\u001b[1;32m      1\u001b[0m \u001b[38;5;66;03m#  KAT-00000   Incorrect values output\u001b[39;00m\n\u001b[1;32m      2\u001b[0m \n\u001b[1;32m      3\u001b[0m \u001b[38;5;66;03m#  Return properties/keys from all vertices\u001b[39;00m\n\u001b[1;32m      5\u001b[0m l_query  \u001b[38;5;241m=\u001b[39m \u001b[38;5;124m\"\"\"\u001b[39m\n\u001b[1;32m      6\u001b[0m \u001b[38;5;124m   MATCH (n)\u001b[39m\n\u001b[1;32m      7\u001b[0m \u001b[38;5;124m   RETURN DISTINCT LABELS(n) AS label, KEYS(n)\u001b[39m\n\u001b[1;32m      8\u001b[0m \u001b[38;5;124m   \u001b[39m\u001b[38;5;124m\"\"\"\u001b[39m\u001b[38;5;241m.\u001b[39mformat()\n\u001b[0;32m---> 10\u001b[0m l_result \u001b[38;5;241m=\u001b[39m \u001b[43mmy_graph\u001b[49m\u001b[38;5;241;43m.\u001b[39;49m\u001b[43mquery\u001b[49m\u001b[43m(\u001b[49m\u001b[43ml_query\u001b[49m\u001b[43m)\u001b[49m\n\u001b[1;32m     11\u001b[0m    \u001b[38;5;66;03m#\u001b[39;00m\n\u001b[1;32m     12\u001b[0m display(\u001b[38;5;28mprint\u001b[39m(l_result))\n",
      "File \u001b[0;32m/opt/conda/lib/python3.8/site-packages/katana_enterprise/async_to_sync.py:249\u001b[0m, in \u001b[0;36mAsyncToSync.<locals>.do_wrap.<locals>.wrapper\u001b[0;34m(self, *args, **kwargs)\u001b[0m\n\u001b[1;32m    246\u001b[0m \u001b[38;5;129m@wraps\u001b[39m(underlying_func)\n\u001b[1;32m    247\u001b[0m \u001b[38;5;28;01mdef\u001b[39;00m \u001b[38;5;21mwrapper\u001b[39m(\u001b[38;5;28mself\u001b[39m, \u001b[38;5;241m*\u001b[39margs, \u001b[38;5;241m*\u001b[39m\u001b[38;5;241m*\u001b[39mkwargs):\n\u001b[1;32m    248\u001b[0m     \u001b[38;5;28;01mreturn\u001b[39;00m registry\u001b[38;5;241m.\u001b[39masync_to_sync(\n\u001b[0;32m--> 249\u001b[0m         \u001b[43munderlying_func\u001b[49m\u001b[43m(\u001b[49m\n\u001b[1;32m    250\u001b[0m \u001b[43m            \u001b[49m\u001b[43mget_self_func\u001b[49m\u001b[43m(\u001b[49m\u001b[38;5;28;43mself\u001b[39;49m\u001b[43m)\u001b[49m\u001b[43m,\u001b[49m\n\u001b[1;32m    251\u001b[0m \u001b[43m            \u001b[49m\u001b[38;5;241;43m*\u001b[39;49m\u001b[43m(\u001b[49m\u001b[43mregistry\u001b[49m\u001b[38;5;241;43m.\u001b[39;49m\u001b[43msync_to_async\u001b[49m\u001b[43m(\u001b[49m\u001b[43ma\u001b[49m\u001b[43m)\u001b[49m\u001b[43m \u001b[49m\u001b[38;5;28;43;01mfor\u001b[39;49;00m\u001b[43m \u001b[49m\u001b[43ma\u001b[49m\u001b[43m \u001b[49m\u001b[38;5;129;43;01min\u001b[39;49;00m\u001b[43m \u001b[49m\u001b[43margs\u001b[49m\u001b[43m)\u001b[49m\u001b[43m,\u001b[49m\n\u001b[1;32m    252\u001b[0m \u001b[43m            \u001b[49m\u001b[38;5;241;43m*\u001b[39;49m\u001b[38;5;241;43m*\u001b[39;49m\u001b[43m{\u001b[49m\u001b[43mk\u001b[49m\u001b[43m:\u001b[49m\u001b[43m \u001b[49m\u001b[43mregistry\u001b[49m\u001b[38;5;241;43m.\u001b[39;49m\u001b[43msync_to_async\u001b[49m\u001b[43m(\u001b[49m\u001b[43mv\u001b[49m\u001b[43m)\u001b[49m\u001b[43m \u001b[49m\u001b[38;5;28;43;01mfor\u001b[39;49;00m\u001b[43m \u001b[49m\u001b[43mk\u001b[49m\u001b[43m,\u001b[49m\u001b[43m \u001b[49m\u001b[43mv\u001b[49m\u001b[43m \u001b[49m\u001b[38;5;129;43;01min\u001b[39;49;00m\u001b[43m \u001b[49m\u001b[43mkwargs\u001b[49m\u001b[38;5;241;43m.\u001b[39;49m\u001b[43mitems\u001b[49m\u001b[43m(\u001b[49m\u001b[43m)\u001b[49m\u001b[43m}\u001b[49m\u001b[43m,\u001b[49m\n\u001b[1;32m    253\u001b[0m \u001b[43m        \u001b[49m\u001b[43m)\u001b[49m\n\u001b[1;32m    254\u001b[0m     )\n",
      "File \u001b[0;32m/opt/conda/lib/python3.8/site-packages/katana_enterprise/async_to_sync.py:176\u001b[0m, in \u001b[0;36masync_to_sync.<locals>.wrapper\u001b[0;34m(timeout, *args, **kwargs)\u001b[0m\n\u001b[1;32m    166\u001b[0m     registry \u001b[38;5;241m=\u001b[39m AsyncToSyncClassRegistry\u001b[38;5;241m.\u001b[39mget()\n\u001b[1;32m    167\u001b[0m     \u001b[38;5;28;01mreturn\u001b[39;00m registry\u001b[38;5;241m.\u001b[39masync_to_sync(\n\u001b[1;32m    168\u001b[0m         wait_for(\n\u001b[1;32m    169\u001b[0m             async_func(\n\u001b[0;32m   (...)\u001b[0m\n\u001b[1;32m    174\u001b[0m         )\n\u001b[1;32m    175\u001b[0m     )\n\u001b[0;32m--> 176\u001b[0m \u001b[38;5;28;01mreturn\u001b[39;00m \u001b[43mwait_for\u001b[49m\u001b[43m(\u001b[49m\u001b[43masync_func\u001b[49m\u001b[43m(\u001b[49m\u001b[38;5;241;43m*\u001b[39;49m\u001b[43margs\u001b[49m\u001b[43m,\u001b[49m\u001b[43m \u001b[49m\u001b[38;5;241;43m*\u001b[39;49m\u001b[38;5;241;43m*\u001b[39;49m\u001b[43mkwargs\u001b[49m\u001b[43m)\u001b[49m\u001b[43m,\u001b[49m\u001b[43m \u001b[49m\u001b[43mtimeout\u001b[49m\u001b[38;5;241;43m=\u001b[39;49m\u001b[43mtimeout\u001b[49m\u001b[43m)\u001b[49m\n",
      "File \u001b[0;32m/opt/conda/lib/python3.8/site-packages/katana_enterprise/async_to_sync.py:147\u001b[0m, in \u001b[0;36mwait_for\u001b[0;34m(coro, timeout)\u001b[0m\n\u001b[1;32m    145\u001b[0m \u001b[38;5;28;01mtry\u001b[39;00m:\n\u001b[1;32m    146\u001b[0m     future \u001b[38;5;241m=\u001b[39m asyncio\u001b[38;5;241m.\u001b[39mrun_coroutine_threadsafe(timeout_coro, loop\u001b[38;5;241m=\u001b[39mAsyncRunnerThread\u001b[38;5;241m.\u001b[39mget()\u001b[38;5;241m.\u001b[39mloop)\n\u001b[0;32m--> 147\u001b[0m     \u001b[38;5;28;01mreturn\u001b[39;00m \u001b[43mfuture\u001b[49m\u001b[38;5;241;43m.\u001b[39;49m\u001b[43mresult\u001b[49m\u001b[43m(\u001b[49m\u001b[43m)\u001b[49m\n\u001b[1;32m    148\u001b[0m \u001b[38;5;28;01mexcept\u001b[39;00m \u001b[38;5;167;01mKeyboardInterrupt\u001b[39;00m:\n\u001b[1;32m    149\u001b[0m     inner_future\u001b[38;5;241m.\u001b[39mcancel()\n",
      "File \u001b[0;32m/opt/conda/lib/python3.8/concurrent/futures/_base.py:444\u001b[0m, in \u001b[0;36mFuture.result\u001b[0;34m(self, timeout)\u001b[0m\n\u001b[1;32m    442\u001b[0m     \u001b[38;5;28;01mraise\u001b[39;00m CancelledError()\n\u001b[1;32m    443\u001b[0m \u001b[38;5;28;01melif\u001b[39;00m \u001b[38;5;28mself\u001b[39m\u001b[38;5;241m.\u001b[39m_state \u001b[38;5;241m==\u001b[39m FINISHED:\n\u001b[0;32m--> 444\u001b[0m     \u001b[38;5;28;01mreturn\u001b[39;00m \u001b[38;5;28;43mself\u001b[39;49m\u001b[38;5;241;43m.\u001b[39;49m\u001b[43m__get_result\u001b[49m\u001b[43m(\u001b[49m\u001b[43m)\u001b[49m\n\u001b[1;32m    445\u001b[0m \u001b[38;5;28;01melse\u001b[39;00m:\n\u001b[1;32m    446\u001b[0m     \u001b[38;5;28;01mraise\u001b[39;00m \u001b[38;5;167;01mTimeoutError\u001b[39;00m()\n",
      "File \u001b[0;32m/opt/conda/lib/python3.8/concurrent/futures/_base.py:389\u001b[0m, in \u001b[0;36mFuture.__get_result\u001b[0;34m(self)\u001b[0m\n\u001b[1;32m    387\u001b[0m \u001b[38;5;28;01mif\u001b[39;00m \u001b[38;5;28mself\u001b[39m\u001b[38;5;241m.\u001b[39m_exception:\n\u001b[1;32m    388\u001b[0m     \u001b[38;5;28;01mtry\u001b[39;00m:\n\u001b[0;32m--> 389\u001b[0m         \u001b[38;5;28;01mraise\u001b[39;00m \u001b[38;5;28mself\u001b[39m\u001b[38;5;241m.\u001b[39m_exception\n\u001b[1;32m    390\u001b[0m     \u001b[38;5;28;01mfinally\u001b[39;00m:\n\u001b[1;32m    391\u001b[0m         \u001b[38;5;66;03m# Break a reference cycle with the exception in self._exception\u001b[39;00m\n\u001b[1;32m    392\u001b[0m         \u001b[38;5;28mself\u001b[39m \u001b[38;5;241m=\u001b[39m \u001b[38;5;28;01mNone\u001b[39;00m\n",
      "File \u001b[0;32m/opt/conda/lib/python3.8/asyncio/tasks.py:455\u001b[0m, in \u001b[0;36mwait_for\u001b[0;34m(fut, timeout, loop)\u001b[0m\n\u001b[1;32m    450\u001b[0m     warnings\u001b[38;5;241m.\u001b[39mwarn(\u001b[38;5;124m\"\u001b[39m\u001b[38;5;124mThe loop argument is deprecated since Python 3.8, \u001b[39m\u001b[38;5;124m\"\u001b[39m\n\u001b[1;32m    451\u001b[0m                   \u001b[38;5;124m\"\u001b[39m\u001b[38;5;124mand scheduled for removal in Python 3.10.\u001b[39m\u001b[38;5;124m\"\u001b[39m,\n\u001b[1;32m    452\u001b[0m                   \u001b[38;5;167;01mDeprecationWarning\u001b[39;00m, stacklevel\u001b[38;5;241m=\u001b[39m\u001b[38;5;241m2\u001b[39m)\n\u001b[1;32m    454\u001b[0m \u001b[38;5;28;01mif\u001b[39;00m timeout \u001b[38;5;129;01mis\u001b[39;00m \u001b[38;5;28;01mNone\u001b[39;00m:\n\u001b[0;32m--> 455\u001b[0m     \u001b[38;5;28;01mreturn\u001b[39;00m \u001b[38;5;28;01mawait\u001b[39;00m fut\n\u001b[1;32m    457\u001b[0m \u001b[38;5;28;01mif\u001b[39;00m timeout \u001b[38;5;241m<\u001b[39m\u001b[38;5;241m=\u001b[39m \u001b[38;5;241m0\u001b[39m:\n\u001b[1;32m    458\u001b[0m     fut \u001b[38;5;241m=\u001b[39m ensure_future(fut, loop\u001b[38;5;241m=\u001b[39mloop)\n",
      "File \u001b[0;32m/opt/conda/lib/python3.8/site-packages/katana_enterprise/remote/aio/graph.py:299\u001b[0m, in \u001b[0;36mGraph.query\u001b[0;34m(self, query, memory_usage_factor, contextualize, **parameters)\u001b[0m\n\u001b[1;32m    296\u001b[0m \u001b[38;5;28;01mif\u001b[39;00m memory_usage_factor:\n\u001b[1;32m    297\u001b[0m     parameters[\u001b[38;5;124m\"\u001b[39m\u001b[38;5;124m__katana_internal_match_batch_limit_scale_factor\u001b[39m\u001b[38;5;124m\"\u001b[39m] \u001b[38;5;241m=\u001b[39m memory_usage_factor\n\u001b[0;32m--> 299\u001b[0m response \u001b[38;5;241m=\u001b[39m \u001b[38;5;28;01mawait\u001b[39;00m \u001b[38;5;28mself\u001b[39m\u001b[38;5;241m.\u001b[39m_run_query(query, parameters\u001b[38;5;241m=\u001b[39mparameters)\n\u001b[1;32m    300\u001b[0m rows \u001b[38;5;241m=\u001b[39m response[\u001b[38;5;124m\"\u001b[39m\u001b[38;5;124mresult\u001b[39m\u001b[38;5;124m\"\u001b[39m][\u001b[38;5;124m\"\u001b[39m\u001b[38;5;124mrows\u001b[39m\u001b[38;5;124m\"\u001b[39m]\n\u001b[1;32m    301\u001b[0m columns \u001b[38;5;241m=\u001b[39m response[\u001b[38;5;124m\"\u001b[39m\u001b[38;5;124mresult\u001b[39m\u001b[38;5;124m\"\u001b[39m][\u001b[38;5;124m\"\u001b[39m\u001b[38;5;124mcolumns\u001b[39m\u001b[38;5;124m\"\u001b[39m]\n",
      "File \u001b[0;32m/opt/conda/lib/python3.8/site-packages/katana_enterprise/remote/aio/graph.py:277\u001b[0m, in \u001b[0;36mGraph._run_query\u001b[0;34m(self, query, parameters, parquet)\u001b[0m\n\u001b[1;32m    273\u001b[0m     data[\u001b[38;5;124m\"\u001b[39m\u001b[38;5;124mcypher\u001b[39m\u001b[38;5;124m\"\u001b[39m][\u001b[38;5;124m\"\u001b[39m\u001b[38;5;124moutput_type\u001b[39m\u001b[38;5;124m\"\u001b[39m] \u001b[38;5;241m=\u001b[39m \u001b[38;5;124m\"\u001b[39m\u001b[38;5;124mParquet\u001b[39m\u001b[38;5;124m\"\u001b[39m\n\u001b[1;32m    275\u001b[0m data \u001b[38;5;241m=\u001b[39m \u001b[38;5;28mself\u001b[39m\u001b[38;5;241m.\u001b[39m_add_operation_metadata(data)\n\u001b[0;32m--> 277\u001b[0m res \u001b[38;5;241m=\u001b[39m \u001b[38;5;28;01mawait\u001b[39;00m \u001b[38;5;28mself\u001b[39m\u001b[38;5;241m.\u001b[39m_client\u001b[38;5;241m.\u001b[39m_run_on_graph_and_wait(\u001b[38;5;28mself\u001b[39m, data)\n\u001b[1;32m    279\u001b[0m \u001b[38;5;28;01mreturn\u001b[39;00m res\n",
      "File \u001b[0;32m/opt/conda/lib/python3.8/site-packages/katana_enterprise/remote/aio/client.py:323\u001b[0m, in \u001b[0;36mDatabase._run_on_graph_and_wait\u001b[0;34m(self, graph, data)\u001b[0m\n\u001b[1;32m    321\u001b[0m max_attempts \u001b[38;5;241m=\u001b[39m \u001b[38;5;241m60\u001b[39m\n\u001b[1;32m    322\u001b[0m attempt \u001b[38;5;241m=\u001b[39m \u001b[38;5;241m0\u001b[39m\n\u001b[0;32m--> 323\u001b[0m op \u001b[38;5;241m=\u001b[39m \u001b[38;5;28;01mawait\u001b[39;00m \u001b[38;5;28mself\u001b[39m\u001b[38;5;241m.\u001b[39m_run_on_graph(graph, data)\n\u001b[1;32m    324\u001b[0m \u001b[38;5;28;01mwhile\u001b[39;00m attempt \u001b[38;5;241m<\u001b[39m max_attempts:\n\u001b[1;32m    325\u001b[0m     \u001b[38;5;28;01mtry\u001b[39;00m:\n",
      "File \u001b[0;32m/opt/conda/lib/python3.8/site-packages/katana_enterprise/remote/aio/client.py:317\u001b[0m, in \u001b[0;36mDatabase._run_on_graph\u001b[0;34m(self, graph, data)\u001b[0m\n\u001b[1;32m    315\u001b[0m \u001b[38;5;28;01mif\u001b[39;00m \u001b[38;5;28mself\u001b[39m\u001b[38;5;241m.\u001b[39m_txn:\n\u001b[1;32m    316\u001b[0m     \u001b[38;5;28;01mreturn\u001b[39;00m \u001b[38;5;28;01mawait\u001b[39;00m \u001b[38;5;28mself\u001b[39m\u001b[38;5;241m.\u001b[39m_txn\u001b[38;5;241m.\u001b[39m_run_on_graph(graph, data)\n\u001b[0;32m--> 317\u001b[0m \u001b[38;5;28;01mreturn\u001b[39;00m \u001b[38;5;28;01mawait\u001b[39;00m \u001b[38;5;28mself\u001b[39m\u001b[38;5;241m.\u001b[39m_client\u001b[38;5;241m.\u001b[39mrun_on_graph(graph\u001b[38;5;241m.\u001b[39mgraph_id, data)\n",
      "File \u001b[0;32m/opt/conda/lib/python3.8/site-packages/katana_enterprise/rpc/client.py:108\u001b[0m, in \u001b[0;36m_GraphClient.run_on_graph\u001b[0;34m(self, graph_id, data)\u001b[0m\n\u001b[1;32m    107\u001b[0m \u001b[38;5;28;01masync\u001b[39;00m \u001b[38;5;28;01mdef\u001b[39;00m \u001b[38;5;21mrun_on_graph\u001b[39m(\u001b[38;5;28mself\u001b[39m, graph_id: \u001b[38;5;28mstr\u001b[39m, data):\n\u001b[0;32m--> 108\u001b[0m     \u001b[38;5;28;01mreturn\u001b[39;00m \u001b[38;5;28;01mawait\u001b[39;00m \u001b[38;5;28mself\u001b[39m\u001b[38;5;241m.\u001b[39m_json_request(\u001b[38;5;124mf\u001b[39m\u001b[38;5;124m\"\u001b[39m\u001b[38;5;124mgraph/\u001b[39m\u001b[38;5;132;01m{\u001b[39;00mgraph_id\u001b[38;5;132;01m}\u001b[39;00m\u001b[38;5;124m/run\u001b[39m\u001b[38;5;124m\"\u001b[39m, \u001b[38;5;124m\"\u001b[39m\u001b[38;5;124mPOST\u001b[39m\u001b[38;5;124m\"\u001b[39m, json\u001b[38;5;241m=\u001b[39mdata)\n",
      "File \u001b[0;32m/opt/conda/lib/python3.8/site-packages/katana_enterprise/rpc/client.py:386\u001b[0m, in \u001b[0;36mAsyncClient._json_request\u001b[0;34m(self, endpoint, method, json, params, timeout)\u001b[0m\n\u001b[1;32m    384\u001b[0m \u001b[38;5;28;01masync\u001b[39;00m \u001b[38;5;28;01mdef\u001b[39;00m \u001b[38;5;21m_json_request\u001b[39m(\u001b[38;5;28mself\u001b[39m, endpoint: \u001b[38;5;28mstr\u001b[39m, method: \u001b[38;5;28mstr\u001b[39m, \u001b[38;5;241m*\u001b[39m, json\u001b[38;5;241m=\u001b[39m\u001b[38;5;28;01mNone\u001b[39;00m, params\u001b[38;5;241m=\u001b[39m\u001b[38;5;28;01mNone\u001b[39;00m, timeout\u001b[38;5;241m=\u001b[39m\u001b[38;5;28;01mNone\u001b[39;00m) \u001b[38;5;241m-\u001b[39m\u001b[38;5;241m>\u001b[39m \u001b[38;5;28mdict\u001b[39m:\n\u001b[1;32m    385\u001b[0m     \u001b[38;5;124;03m\"\"\"Makes a request and decodes its response into a JSON object.\"\"\"\u001b[39;00m\n\u001b[0;32m--> 386\u001b[0m     \u001b[38;5;28;01masync\u001b[39;00m \u001b[38;5;28;01mwith\u001b[39;00m \u001b[38;5;28mself\u001b[39m\u001b[38;5;241m.\u001b[39m_stream(endpoint, method, json\u001b[38;5;241m=\u001b[39mjson, params\u001b[38;5;241m=\u001b[39mparams, timeout\u001b[38;5;241m=\u001b[39mtimeout) \u001b[38;5;28;01mas\u001b[39;00m resp:\n\u001b[1;32m    387\u001b[0m         \u001b[38;5;28;01mawait\u001b[39;00m resp\u001b[38;5;241m.\u001b[39maread()\n\u001b[1;32m    388\u001b[0m         \u001b[38;5;28;01mreturn\u001b[39;00m resp\u001b[38;5;241m.\u001b[39mjson()\n",
      "File \u001b[0;32m/opt/conda/lib/python3.8/contextlib.py:171\u001b[0m, in \u001b[0;36m_AsyncGeneratorContextManager.__aenter__\u001b[0;34m(self)\u001b[0m\n\u001b[1;32m    169\u001b[0m \u001b[38;5;28;01masync\u001b[39;00m \u001b[38;5;28;01mdef\u001b[39;00m \u001b[38;5;21m__aenter__\u001b[39m(\u001b[38;5;28mself\u001b[39m):\n\u001b[1;32m    170\u001b[0m     \u001b[38;5;28;01mtry\u001b[39;00m:\n\u001b[0;32m--> 171\u001b[0m         \u001b[38;5;28;01mreturn\u001b[39;00m \u001b[38;5;28;01mawait\u001b[39;00m \u001b[38;5;28mself\u001b[39m\u001b[38;5;241m.\u001b[39mgen\u001b[38;5;241m.\u001b[39m\u001b[38;5;21m__anext__\u001b[39m()\n\u001b[1;32m    172\u001b[0m     \u001b[38;5;28;01mexcept\u001b[39;00m \u001b[38;5;167;01mStopAsyncIteration\u001b[39;00m:\n\u001b[1;32m    173\u001b[0m         \u001b[38;5;28;01mraise\u001b[39;00m \u001b[38;5;167;01mRuntimeError\u001b[39;00m(\u001b[38;5;124m\"\u001b[39m\u001b[38;5;124mgenerator didn\u001b[39m\u001b[38;5;124m'\u001b[39m\u001b[38;5;124mt yield\u001b[39m\u001b[38;5;124m\"\u001b[39m) \u001b[38;5;28;01mfrom\u001b[39;00m \u001b[38;5;28mNone\u001b[39m\n",
      "File \u001b[0;32m/opt/conda/lib/python3.8/site-packages/katana_enterprise/rpc/client.py:438\u001b[0m, in \u001b[0;36mAsyncClient._stream\u001b[0;34m(self, endpoint, method, json, params, timeout)\u001b[0m\n\u001b[1;32m    436\u001b[0m         \u001b[38;5;28;01melse\u001b[39;00m:\n\u001b[1;32m    437\u001b[0m             \u001b[38;5;28;01mawait\u001b[39;00m resp\u001b[38;5;241m.\u001b[39maread()\n\u001b[0;32m--> 438\u001b[0m             \u001b[38;5;28;43mself\u001b[39;49m\u001b[38;5;241;43m.\u001b[39;49m\u001b[43m_raise_error\u001b[49m\u001b[43m(\u001b[49m\u001b[43mresp\u001b[49m\u001b[43m)\u001b[49m\n\u001b[1;32m    439\u001b[0m \u001b[38;5;28;01mexcept\u001b[39;00m (httpx\u001b[38;5;241m.\u001b[39mRequestError, httpx\u001b[38;5;241m.\u001b[39mRemoteProtocolError, httpx\u001b[38;5;241m.\u001b[39mConnectError) \u001b[38;5;28;01mas\u001b[39;00m exc:\n\u001b[1;32m    440\u001b[0m     \u001b[38;5;28;01mif\u001b[39;00m \u001b[38;5;129;01mnot\u001b[39;00m \u001b[38;5;28misinstance\u001b[39m(exc, httpx\u001b[38;5;241m.\u001b[39mRequestError):\n",
      "File \u001b[0;32m/opt/conda/lib/python3.8/site-packages/katana_enterprise/rpc/client.py:418\u001b[0m, in \u001b[0;36mAsyncClient._raise_error\u001b[0;34m(cls, resp)\u001b[0m\n\u001b[1;32m    416\u001b[0m     \u001b[38;5;28;01mraise\u001b[39;00m errors\u001b[38;5;241m.\u001b[39mAuthorizationError(url, code, message, headers)\n\u001b[1;32m    417\u001b[0m \u001b[38;5;28;01mif\u001b[39;00m code \u001b[38;5;241m==\u001b[39m httpx\u001b[38;5;241m.\u001b[39mcodes\u001b[38;5;241m.\u001b[39mNOT_FOUND:\n\u001b[0;32m--> 418\u001b[0m     \u001b[38;5;28;01mraise\u001b[39;00m errors\u001b[38;5;241m.\u001b[39mNotFoundError(message)\n\u001b[1;32m    419\u001b[0m \u001b[38;5;28;01mif\u001b[39;00m code \u001b[38;5;241m==\u001b[39m httpx\u001b[38;5;241m.\u001b[39mcodes\u001b[38;5;241m.\u001b[39mCONFLICT:\n\u001b[1;32m    420\u001b[0m     \u001b[38;5;28;01mraise\u001b[39;00m errors\u001b[38;5;241m.\u001b[39mConflictError(url, code, message, headers)\n",
      "\u001b[0;31mNotFoundError\u001b[0m: b'{\"code\":404,\"message\":\"Not Found\"}'"
     ]
    }
   ],
   "source": [
    "\n",
    "#  KAT-00000   Incorrect values output\n",
    "\n",
    "#  Return properties/keys from all vertices\n",
    "\n",
    "l_query  = \"\"\"\n",
    "   MATCH (n)\n",
    "   RETURN DISTINCT LABELS(n) AS label, KEYS(n)\n",
    "   \"\"\".format()\n",
    "\n",
    "l_result = my_graph.query(l_query)\n",
    "   #\n",
    "display(print(l_result))\n"
   ]
  },
  {
   "cell_type": "code",
   "execution_count": null,
   "id": "630e1cce-4c9e-4520-8e40-7c3754547827",
   "metadata": {},
   "outputs": [],
   "source": [
    "\n",
    "#  KAT-11443    throws cancelled error, should work\n",
    "#\n",
    "#     Work around in next cell\n",
    "\n",
    "l_query  = \"\"\"\n",
    "   MATCH (n) - [r] -> (m)\n",
    "   RETURN DISTINCT TYPE(r) AS my_type, KEYS(r)\n",
    "   \"\"\".format()\n",
    "\n",
    "l_result = my_graph.query(l_query)\n",
    "   #\n",
    "display(print(l_result))\n"
   ]
  },
  {
   "cell_type": "code",
   "execution_count": 78,
   "id": "0f0f6b63-f2b9-4cf7-8f9b-e1d03291bc4c",
   "metadata": {},
   "outputs": [
    {
     "data": {
      "application/vnd.jupyter.widget-view+json": {
       "model_id": "8b1faf22178245cfad7a4e7a58f966f1",
       "version_major": 2,
       "version_minor": 0
      },
      "text/plain": [
       "          0/? [?op/s]"
      ]
     },
     "metadata": {},
     "output_type": "display_data"
    },
    {
     "name": "stdout",
     "output_type": "stream",
     "text": [
      "    my_type                     my_keys\n",
      "0  FLIES_TO  [DISTANCE, NUM_HOPS, TYPE]\n",
      "1      None                  [DRIVABLE]\n",
      "2  FLIES_TO  [DISTANCE, NUM_HOPS, TYPE]\n"
     ]
    },
    {
     "data": {
      "text/plain": [
       "None"
      ]
     },
     "metadata": {},
     "output_type": "display_data"
    }
   ],
   "source": [
    "\n",
    "#  Return properties/keys from all edges\n",
    "#\n",
    "\n",
    "l_query  = \"\"\"\n",
    "   MATCH (n) - [r] -> (m)\n",
    "   RETURN DISTINCT (r.TYPE) AS my_type, KEYS(r) AS my_keys\n",
    "   \"\"\".format()\n",
    "\n",
    "l_result = my_graph.query(l_query)\n",
    "   #\n",
    "display(print(l_result))\n"
   ]
  },
  {
   "cell_type": "markdown",
   "id": "4e2a2144-c7e9-4ae6-b22d-f44805c5e211",
   "metadata": {},
   "source": [
    "#  Sample Cyphers: Diagnostics"
   ]
  },
  {
   "cell_type": "code",
   "execution_count": null,
   "id": "70e3ad47-736c-424c-9656-7a35bcc52453",
   "metadata": {},
   "outputs": [],
   "source": [
    "\n",
    "#  Also at,\n",
    "#     http://localhost:8080/v2/widgets/katana-frontend\n",
    "\n",
    "my_client.widgets().operations()\n",
    "\n",
    "# my_client.widgets().databases()\n",
    "# my_client.widgets().dashboard()                #  No-op currently\n"
   ]
  },
  {
   "cell_type": "code",
   "execution_count": null,
   "id": "1e6932ad-f512-49df-8cba-9565fed820f5",
   "metadata": {},
   "outputs": [],
   "source": [
    "my_graph.query(\"CALL graph.schema() RETURN *\")\n"
   ]
  },
  {
   "cell_type": "code",
   "execution_count": null,
   "id": "0e166a76-a306-4d40-ab79-87d636be7f1b",
   "metadata": {},
   "outputs": [],
   "source": [
    "# result.raw() went away\n",
    "#\n",
    "#  to pretty print a result as JSON, use ..\n",
    "\n",
    "#  Just to get some data ..\n",
    "#\n",
    "l_result = my_graph.query(\"\"\"\n",
    "\n",
    "   MATCH (n) - [r] -> (m)\n",
    "   RETURN DISTINCT type(r) AS type, keys(r)\n",
    "   \n",
    "   \"\"\")\n",
    "\n",
    "\n",
    "import json\n",
    "\n",
    "l_result_json = json.loads(l_result.to_json())\n",
    "l_result_strn = json.dumps(l_result_json, indent=2)\n",
    "\n",
    "print(l_result_strn)"
   ]
  },
  {
   "cell_type": "code",
   "execution_count": null,
   "id": "4b5a95fd-8f26-4ec4-b71c-c489154a1b31",
   "metadata": {},
   "outputs": [],
   "source": [
    "#  Produce a visual graph\n",
    "\n",
    "result = my_graph.query(\"\"\"\n",
    "\n",
    "   MATCH (x) -[r]-> (a)\n",
    "   RETURN x, r AS rel, a\n",
    "   LIMIT 100 \n",
    "   \n",
    "   \"\"\",\n",
    "   contextualize=True)\n",
    "\n",
    "result.view()\n"
   ]
  },
  {
   "cell_type": "markdown",
   "id": "88aa8f4e-e131-445e-b9c5-767580ac9a3f",
   "metadata": {},
   "source": [
    "#  More Cypher "
   ]
  },
  {
   "cell_type": "code",
   "execution_count": null,
   "id": "cfd2a773-db78-4cb5-a839-b0cb86233b2a",
   "metadata": {},
   "outputs": [],
   "source": [
    "#  Parameterized query, works with (Airports) ..\n",
    "\n",
    "l_fname = \"MKE\"\n",
    "\n",
    "l_query  = \"\"\"\n",
    "\n",
    "   MATCH (n: Airport) \n",
    "   WHERE n.id = '{0}'\n",
    "   RETURN n.airport_name\n",
    "\n",
    "   \"\"\".format(l_fname)\n",
    "\n",
    "l_result1 = my_graph.query(l_query)\n",
    "\n",
    "display(print(l_result1[0:5]))\n"
   ]
  },
  {
   "cell_type": "code",
   "execution_count": null,
   "id": "f60b7f2d-8608-4d70-98c6-23840faac735",
   "metadata": {},
   "outputs": [],
   "source": [
    "\n",
    "#  Regex query, works with (Airports) ..\n",
    "\n",
    "#  0.4, returns zero data ..\n",
    "\n",
    "l_fname = \"/^M*/\"\n",
    "\n",
    "l_query  = \"\"\"\n",
    "\n",
    "   MATCH (n: Airport) \n",
    "   WHERE n.airport_name =~ '{0}'\n",
    "   RETURN n.id, n.airport_name\n",
    "\n",
    "   \"\"\".format(l_fname)\n",
    "\n",
    "l_result1 = my_graph.query(l_query)\n",
    "\n",
    "display(print(l_result1[0:5]))"
   ]
  }
 ],
 "metadata": {
  "kernelspec": {
   "display_name": "Python 3 (ipykernel)",
   "language": "python",
   "name": "python3"
  },
  "language_info": {
   "codemirror_mode": {
    "name": "ipython",
    "version": 3
   },
   "file_extension": ".py",
   "mimetype": "text/x-python",
   "name": "python",
   "nbconvert_exporter": "python",
   "pygments_lexer": "ipython3",
   "version": "3.8.13"
  }
 },
 "nbformat": 4,
 "nbformat_minor": 5
}
