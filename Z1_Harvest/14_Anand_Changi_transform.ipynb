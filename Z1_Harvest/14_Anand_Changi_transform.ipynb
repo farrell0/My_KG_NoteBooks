{
 "cells": [
  {
   "cell_type": "code",
   "execution_count": 1,
   "id": "6a4c74ca-a5e9-46f0-80e3-13e220bd9f34",
   "metadata": {},
   "outputs": [],
   "source": [
    "import os                                                                        \n",
    "import time                                                                      \n",
    "import json\n",
    "import numpy as np\n",
    "import pandas as pd\n",
    "import dask as dd\n",
    "from timeit import default_timer as timer\n",
    "import gcsfs, json\n",
    "from katana import remote\n",
    "from katana.remote import import_data\n",
    "from datetime import datetime\n",
    "from dask.dataframe import from_pandas\n",
    "from dask.dataframe import to_numeric\n",
    "# os.environ[\"KATANA_SERVER_ADDRESS\"] = \"host.docker.internal:8080\""
   ]
  },
  {
   "cell_type": "code",
   "execution_count": 2,
   "id": "c886a037-eff8-4f51-90d0-55a2cf2ffad6",
   "metadata": {},
   "outputs": [],
   "source": [
    "from dask.distributed import Client, progress\n",
    "client = Client(\"10.0.0.101:8786\")"
   ]
  },
  {
   "cell_type": "code",
   "execution_count": 3,
   "id": "49af8d4a-c0ae-425d-98da-e568249ce9eb",
   "metadata": {},
   "outputs": [
    {
     "name": "stdout",
     "output_type": "stream",
     "text": [
      "{'heartbeat': '5s', 'scheduler-info-interval': '2s', 'security-loader': None, 'preload': [], 'preload-argv': []}\n"
     ]
    }
   ],
   "source": [
    "print(dd.config.get(\"distributed.client\"))"
   ]
  },
  {
   "cell_type": "code",
   "execution_count": 4,
   "id": "9290285b-1493-4eaf-aa76-546c4aba594f",
   "metadata": {},
   "outputs": [
    {
     "data": {
      "text/plain": [
       "('\\ufeffCase Number,Case Origin,Issue Terminal,Case Record Type,Case Type,Category (F),Sub-Category (F),Issue Category,Subject,Description,Date/Time Opened,Case Owner\\n',)"
      ]
     },
     "execution_count": 4,
     "metadata": {},
     "output_type": "execute_result"
    }
   ],
   "source": [
    "import dask.bag as db\n",
    "import json\n",
    "base_path = 'gs://airport-ops/csv/'\n",
    "b = db.read_text(base_path+'Complaints_Suggestions_Compliments_2022.csv', blocksize=\"1024MiB\")\n",
    "b.take(1)"
   ]
  },
  {
   "cell_type": "code",
   "execution_count": 17,
   "id": "b8cabdfd-83c6-4887-9778-948fb9f5353e",
   "metadata": {},
   "outputs": [],
   "source": [
    "def standardize(record):\n",
    "    import csv, sys\n",
    "    from datetime import datetime\n",
    "    csv.field_size_limit(sys.maxsize)\n",
    "    reader = csv.reader([str(record)])\n",
    "    \n",
    "    for parsed_record in reader:\n",
    "        case_number=parsed_record[0]\n",
    "        case_origin=parsed_record[1]\n",
    "        terminal   =parsed_record[2]\n",
    "        case_record_type=parsed_record[3]\n",
    "        case_type  =parsed_record[4]\n",
    "        category   =parsed_record[5]\n",
    "        sub_category=parsed_record[6]\n",
    "        issue_category=parsed_record[7]\n",
    "        subject=parsed_record[8]\n",
    "        description=parsed_record[9]\n",
    "        case_owner=parsed_record[11]\n",
    "        parse_issue = 'Parsed successfully'\n",
    "        opened_time=''\n",
    "        # 22/10/2022 23:12\n",
    "        try:\n",
    "            opened_time = datetime.strptime(parsed_record[10], '%d/%m/%Y %H:%M')\n",
    "            parse_issue = 'Parsed successfully'\n",
    "        except:\n",
    "            parse_issue=f'issue parsing opened time {parsed_record[10]}'\n",
    "            try:\n",
    "                opened_time = datetime.strptime(parsed_record[10], '%d/%m/%y %H:%M')\n",
    "                parse_issue = 'Parsed successfully'\n",
    "            except:\n",
    "                parse_issue=f'issue parsing opened time {parsed_record[10]}'            \n",
    "            \n",
    "        return {\n",
    "            'case_number': case_number,\n",
    "            'case_origin': case_origin,\n",
    "            'terminal': terminal,\n",
    "            'case_record_type': case_record_type,\n",
    "            'case_type': case_type,\n",
    "            'category': category,\n",
    "            'sub_category': sub_category,\n",
    "            'issue_category': issue_category,\n",
    "            'subject': subject,\n",
    "            'description': description,\n",
    "            'opened_time': opened_time,\n",
    "            'case_owner': case_owner,\n",
    "            'parse_issue': parse_issue\n",
    "        }\n",
    "    return {}\n",
    "\n",
    "def isHeader(record):\n",
    "    if  'Case Number' in record['case_number'] \\\n",
    "     and 'Case Origin' in record['case_origin']:\n",
    "        return True\n",
    "    return False\n",
    "\n",
    "def hasParseError(record):\n",
    "    if  'Parsed successfully' in record['parse_issue']:\n",
    "        return False\n",
    "    return True\n",
    "\n",
    "final_df=b.map(standardize).remove(isHeader).remove(hasParseError)\\\n",
    "            .to_dataframe()\\\n",
    "            .astype({'case_number':'string','case_origin':'string','terminal':'string','case_record_type':'string','case_type':'string',\n",
    "                    'category':'string', 'sub_category':'string', 'issue_category':'string', 'subject':'string', 'description':'string',\n",
    "                    'opened_time':'M8[us]', 'case_owner':'string', 'parse_issue':'string'}).rename(columns={\"case_number\": \"ID\"}) \n"
   ]
  },
  {
   "cell_type": "code",
   "execution_count": 18,
   "id": "3676cd13-676f-48ad-918e-08f926a87bbb",
   "metadata": {},
   "outputs": [
    {
     "data": {
      "text/plain": [
       "5283"
      ]
     },
     "execution_count": 18,
     "metadata": {},
     "output_type": "execute_result"
    }
   ],
   "source": [
    "len(final_df)"
   ]
  },
  {
   "cell_type": "code",
   "execution_count": 12,
   "id": "97e9568d-7ba2-4c93-9568-cd6d5da09cfe",
   "metadata": {},
   "outputs": [
    {
     "data": {
      "text/plain": [
       "5283"
      ]
     },
     "execution_count": 12,
     "metadata": {},
     "output_type": "execute_result"
    }
   ],
   "source": [
    "len(final_df.ID.unique())"
   ]
  },
  {
   "cell_type": "code",
   "execution_count": null,
   "id": "3c339de3-3386-4dc6-acca-46e78055ca6a",
   "metadata": {},
   "outputs": [],
   "source": []
  },
  {
   "cell_type": "code",
   "execution_count": null,
   "id": "b69e0ef0-1dc2-4405-a6ef-c27f8c2cd1a6",
   "metadata": {},
   "outputs": [],
   "source": []
  },
  {
   "cell_type": "markdown",
   "id": "85cf7527-4139-473c-9a35-17a2062067e5",
   "metadata": {},
   "source": [
    "### Import graph"
   ]
  },
  {
   "cell_type": "code",
   "execution_count": 14,
   "id": "fd99b324-af6e-4b6c-a5d7-a7148f6dd4fc",
   "metadata": {},
   "outputs": [
    {
     "data": {
      "text/plain": [
       "'0.5.0+20221106T212601Z.9c14e060f.dev'"
      ]
     },
     "execution_count": 14,
     "metadata": {},
     "output_type": "execute_result"
    }
   ],
   "source": [
    "rc=remote.Client()\n",
    "rc.server_version"
   ]
  },
  {
   "cell_type": "code",
   "execution_count": 15,
   "id": "be7e1c17-42bc-4082-964e-f87c5ad8180a",
   "metadata": {},
   "outputs": [
    {
     "data": {
      "text/plain": [
       "'BFjWRQC46aWzT8vzoM26Jw3xREctoSjPS1o4RABJbpBc'"
      ]
     },
     "execution_count": 15,
     "metadata": {},
     "output_type": "execute_result"
    }
   ],
   "source": [
    "graph = rc.create_graph(num_partitions=2)\n",
    "graph.graph_id"
   ]
  },
  {
   "cell_type": "code",
   "execution_count": 19,
   "id": "c3718f43-2b06-47d4-956b-996c6ff33d25",
   "metadata": {},
   "outputs": [
    {
     "data": {
      "application/vnd.jupyter.widget-view+json": {
       "model_id": "d7bdadb92ed2486c97782d0c7eb5a802",
       "version_major": 2,
       "version_minor": 0
      },
      "text/plain": [
       "          0/? [?op/s]"
      ]
     },
     "metadata": {},
     "output_type": "display_data"
    },
    {
     "data": {
      "application/vnd.jupyter.widget-view+json": {
       "model_id": "acb3456d612a429e8599ec6ef143b7ec",
       "version_major": 2,
       "version_minor": 0
      },
      "text/plain": [
       "          0/? [?op/s]"
      ]
     },
     "metadata": {},
     "output_type": "display_data"
    }
   ],
   "source": [
    "\n",
    "with import_data.DataFrameImporter(graph) as df_importer:\n",
    "    df_importer.nodes_dataframe(final_df, id_column=\"ID\", id_space='CASE', label='CASE')\n",
    "#\n",
    "    df_importer.insert()"
   ]
  },
  {
   "cell_type": "code",
   "execution_count": 21,
   "id": "7129b5da-d694-4ac2-a791-f607e7fa2b8d",
   "metadata": {},
   "outputs": [
    {
     "data": {
      "application/vnd.jupyter.widget-view+json": {
       "model_id": "5d7d23f6d70542948dfc18f15ca0ea0d",
       "version_major": 2,
       "version_minor": 0
      },
      "text/plain": [
       "          0/? [?op/s]"
      ]
     },
     "metadata": {},
     "output_type": "display_data"
    },
    {
     "data": {
      "application/vnd.jupyter.widget-view+json": {
       "model_id": "27e9978c8efa43cbac23efdd691a27b5",
       "version_major": 2,
       "version_minor": 0
      },
      "text/plain": [
       "VBox(children=(HTML(value='\\n                <style>\\n                #jp-main-content-panel .widget-container…"
      ]
     },
     "metadata": {},
     "output_type": "display_data"
    }
   ],
   "source": [
    "query=\"\"\"\n",
    "MATCH(c:CASE)\n",
    "return c limit 10\n",
    "\"\"\"\n",
    "graph.query(query).view()"
   ]
  },
  {
   "cell_type": "markdown",
   "id": "843de082-b6eb-4805-b711-17b4bce06d15",
   "metadata": {},
   "source": [
    "### Promote Category to a Node"
   ]
  },
  {
   "cell_type": "code",
   "execution_count": 23,
   "id": "a7d7077d-64ba-4db0-b47f-1f8ed244c68b",
   "metadata": {},
   "outputs": [
    {
     "data": {
      "application/vnd.jupyter.widget-view+json": {
       "model_id": "740a488253f24f4e8dba032379b4b74f",
       "version_major": 2,
       "version_minor": 0
      },
      "text/plain": [
       "          0/? [?op/s]"
      ]
     },
     "metadata": {},
     "output_type": "display_data"
    },
    {
     "data": {
      "application/vnd.jupyter.widget-view+json": {
       "model_id": "96c715807aae4fb7936a25d1a5c06fda",
       "version_major": 2,
       "version_minor": 0
      },
      "text/plain": [
       "VBox(children=(HTML(value='\\n                <style>\\n                #jp-main-content-panel .widget-container…"
      ]
     },
     "metadata": {},
     "output_type": "display_data"
    }
   ],
   "source": [
    "query=\"\"\"\n",
    "MATCH(c:CASE)\n",
    "with distinct c.category as category\n",
    "CREATE(cat:CATEGORY)\n",
    "set cat.category=category\n",
    "\"\"\"\n",
    "graph.query(query).view()"
   ]
  },
  {
   "cell_type": "code",
   "execution_count": null,
   "id": "25ea373c-307c-426e-bfbc-f5dc2a02cb22",
   "metadata": {},
   "outputs": [],
   "source": [
    "# link categories : check\n",
    "query=\"\"\"\n",
    "MATCH (cas:CASE),(cat:CATEGORY)\n",
    "WHERE EXISTS(cas.category)\n",
    "  and cas.category = cat.category\n",
    "return cas.ID, cas.category,id(cat), cat.category order by cas.ID limit 10\n",
    "\"\"\"\n",
    "graph.query(query).view()\n"
   ]
  },
  {
   "cell_type": "code",
   "execution_count": 56,
   "id": "47c02f7a-dfaa-4f1d-8451-27fff71545a4",
   "metadata": {},
   "outputs": [
    {
     "data": {
      "application/vnd.jupyter.widget-view+json": {
       "model_id": "e7b66a05594b4963991442f78c9c33db",
       "version_major": 2,
       "version_minor": 0
      },
      "text/plain": [
       "          0/? [?op/s]"
      ]
     },
     "metadata": {},
     "output_type": "display_data"
    },
    {
     "data": {
      "application/vnd.jupyter.widget-view+json": {
       "model_id": "ff73ec6090534292b3baf50c9c1ad163",
       "version_major": 2,
       "version_minor": 0
      },
      "text/plain": [
       "VBox(children=(HTML(value='\\n                <style>\\n                #jp-main-content-panel .widget-container…"
      ]
     },
     "metadata": {},
     "output_type": "display_data"
    }
   ],
   "source": [
    "# link categories: establish\n",
    "query=\"\"\"\n",
    "MATCH (cas:CASE),(cat:CATEGORY)\n",
    "WHERE EXISTS(cas.category)\n",
    "  and cas.category = cat.category\n",
    "CREATE (cas)-[:HAS_CATEGORY]->(cat)\n",
    "\"\"\"\n",
    "graph.query(query).view()\n"
   ]
  },
  {
   "cell_type": "code",
   "execution_count": 58,
   "id": "04652db6-a46c-465c-b5d0-0e7d8eee8026",
   "metadata": {},
   "outputs": [
    {
     "data": {
      "application/vnd.jupyter.widget-view+json": {
       "model_id": "bf2ac61d118f48708d513f1d4598e042",
       "version_major": 2,
       "version_minor": 0
      },
      "text/plain": [
       "          0/? [?op/s]"
      ]
     },
     "metadata": {},
     "output_type": "display_data"
    },
    {
     "data": {
      "application/vnd.jupyter.widget-view+json": {
       "model_id": "e13f5bdd4c9645048ce57b9112c7b2ab",
       "version_major": 2,
       "version_minor": 0
      },
      "text/plain": [
       "          0/? [?op/s]"
      ]
     },
     "metadata": {},
     "output_type": "display_data"
    },
    {
     "data": {
      "application/vnd.jupyter.widget-view+json": {
       "model_id": "50f2c5962a444134bc89b3a5458570ef",
       "version_major": 2,
       "version_minor": 0
      },
      "text/plain": [
       "VBox(children=(HTML(value='\\n                <style>\\n                #jp-main-content-panel .widget-container…"
      ]
     },
     "metadata": {},
     "output_type": "display_data"
    }
   ],
   "source": [
    "# link categories : check\n",
    "query=\"\"\"\n",
    "MATCH (cas:CASE)-[:HAS_CATEGORY]->(cat:CATEGORY)\n",
    "return cas, cat limit 10\"\"\"\n",
    "graph.query(query, contextualize=True).view()\n"
   ]
  },
  {
   "cell_type": "code",
   "execution_count": 59,
   "id": "d3fcf2ad-e44e-44ac-88c6-a7f7b4c64e6a",
   "metadata": {},
   "outputs": [
    {
     "data": {
      "application/vnd.jupyter.widget-view+json": {
       "model_id": "8512d943ea9541e5a65dd75492981d5a",
       "version_major": 2,
       "version_minor": 0
      },
      "text/plain": [
       "          0/? [?op/s]"
      ]
     },
     "metadata": {},
     "output_type": "display_data"
    },
    {
     "data": {
      "application/vnd.jupyter.widget-view+json": {
       "model_id": "f09ec154d5944f73a9844ba873ee3ce6",
       "version_major": 2,
       "version_minor": 0
      },
      "text/plain": [
       "VBox(children=(HTML(value='\\n                <style>\\n                #jp-main-content-panel .widget-container…"
      ]
     },
     "metadata": {},
     "output_type": "display_data"
    }
   ],
   "source": [
    "graph.schema().view()"
   ]
  },
  {
   "cell_type": "code",
   "execution_count": null,
   "id": "38ace07f-da14-4854-983f-6ca6619120ae",
   "metadata": {},
   "outputs": [],
   "source": []
  }
 ],
 "metadata": {
  "kernelspec": {
   "display_name": "Python 3 (ipykernel)",
   "language": "python",
   "name": "python3"
  },
  "language_info": {
   "codemirror_mode": {
    "name": "ipython",
    "version": 3
   },
   "file_extension": ".py",
   "mimetype": "text/x-python",
   "name": "python",
   "nbconvert_exporter": "python",
   "pygments_lexer": "ipython3",
   "version": "3.8.13"
  }
 },
 "nbformat": 4,
 "nbformat_minor": 5
}
