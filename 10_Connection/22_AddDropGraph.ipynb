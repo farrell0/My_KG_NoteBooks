{
 "cells": [
  {
   "cell_type": "code",
   "execution_count": 57,
   "id": "8a38ebd7-d1d9-47a8-955c-a8270b024543",
   "metadata": {},
   "outputs": [
    {
     "data": {
      "text/html": [],
      "text/plain": [
       "<IPython.core.display.HTML object>"
      ]
     },
     "metadata": {},
     "output_type": "display_data"
    },
    {
     "name": "stdout",
     "output_type": "stream",
     "text": [
      "+--------+--------+\n",
      "|   col1 |   col2 |\n",
      "|--------+--------|\n",
      "|     20 |     30 |\n",
      "+--------+--------+\n",
      "--\n"
     ]
    }
   ],
   "source": [
    "\n",
    "#  Setting display options \n",
    "\n",
    "import pandas as pd\n",
    "   #\n",
    "pd.set_option(\"display.width\", 480)\n",
    "\n",
    "#  Sets horizontal scroll for wide outputs\n",
    "#\n",
    "from IPython.display import display, HTML\n",
    "display(HTML(\"\"))\n",
    "\n",
    "from tabulate import tabulate\n",
    "\n",
    "\n",
    "   ###\n",
    "\n",
    "    \n",
    "#  How to use tabulate-\n",
    "#\n",
    "l_result = [{ \"col1\": 20, \"col2\": 30}]\n",
    "   #\n",
    "print(tabulate(l_result, headers='keys', tablefmt='psql'))\n",
    "\n",
    "\n",
    "print(\"--\")\n"
   ]
  },
  {
   "cell_type": "code",
   "execution_count": 58,
   "id": "e87b75ba-c072-4111-8cca-4b4f394a0fce",
   "metadata": {},
   "outputs": [
    {
     "name": "stdout",
     "output_type": "stream",
     "text": [
      "<katana_enterprise.remote.sync_wrappers.Client object at 0x7f3fd68f7760>\n"
     ]
    }
   ],
   "source": [
    "\n",
    "from katana import remote\n",
    "\n",
    "my_client = remote.Client()\n",
    "\n",
    "print(my_client)\n"
   ]
  },
  {
   "cell_type": "code",
   "execution_count": 59,
   "id": "d3a77f99-f11b-4105-ab43-17ce605b15e8",
   "metadata": {},
   "outputs": [
    {
     "name": "stdout",
     "output_type": "stream",
     "text": [
      "--\n"
     ]
    }
   ],
   "source": [
    "\n",
    "NUM_PARTITIONS  = 3\n",
    "   #\n",
    "DB_NAME         = \"my_db\"\n",
    "GRAPH_NAME      = \"my_graph\"\n",
    "\n",
    "print(\"--\")\n"
   ]
  },
  {
   "cell_type": "code",
   "execution_count": null,
   "id": "73f507b5-9a82-4441-a79f-cc2fc239968a",
   "metadata": {},
   "outputs": [],
   "source": [
    "# ##################################################################"
   ]
  },
  {
   "cell_type": "code",
   "execution_count": null,
   "id": "7f2292b8-7df0-49a0-b3da-523f56cfe4f8",
   "metadata": {},
   "outputs": [],
   "source": [
    "\n",
    "#  DELETE ALL GRAPHS\n",
    "\n",
    "for l_database in my_client.databases():\n",
    "   for l_graph in my_client.get_database(name = l_database.name).graphs_in_database():\n",
    "      l_handle = my_client.get_database(name = l_database.name).get_graph_by_id(id = l_graph.graph_id)\n",
    "      l_handle.delete()\n",
    "\n",
    "for l_graph in my_client.graphs():\n",
    "   print(\"GRAPH ID: \", l_graph.graph_id, \"      GRAPH Version: \", l_graph.version)\n",
    "\n",
    "print(\"--\")\n"
   ]
  },
  {
   "cell_type": "code",
   "execution_count": null,
   "id": "71f69a0e-451b-4679-b49c-5db1208d4c8f",
   "metadata": {},
   "outputs": [],
   "source": [
    "\n",
    "#  DELETE ALL DATABASES\n",
    "\n",
    "for l_database in my_client.databases():\n",
    "   if (l_database.name != \"default\"):\n",
    "      my_client.get_database(name = l_database.name).delete_database()\n",
    "      print(\"--\")\n",
    "\n",
    "for l_database in my_client.databases():\n",
    "   print(\"DB ID: \", l_database.database_id, \"     DB Name: \", l_database.name)\n"
   ]
  },
  {
   "cell_type": "code",
   "execution_count": null,
   "id": "a3b3bc00-fafb-481d-ba5a-8b52ae7d6e79",
   "metadata": {},
   "outputs": [],
   "source": [
    "\n",
    "#  CREATE DATABASE\n",
    "\n",
    "my_database = my_client.create_database(name = DB_NAME)\n",
    "\n",
    "print(my_database.database_id)\n"
   ]
  },
  {
   "cell_type": "code",
   "execution_count": null,
   "id": "b8ba088b-2ec5-4b2a-8171-3c87ddffb47c",
   "metadata": {},
   "outputs": [],
   "source": [
    "\n",
    "#  CREATE GRAPH\n",
    "#\n",
    "my_graph = my_client.get_database(name = DB_NAME).create_graph(name = GRAPH_NAME, num_partitions = NUM_PARTITIONS)\n",
    "\n",
    "print(my_graph)\n"
   ]
  },
  {
   "cell_type": "code",
   "execution_count": null,
   "id": "918521c4-3808-4d15-a09d-8417964f5fb6",
   "metadata": {},
   "outputs": [],
   "source": [
    "# ##################################################################"
   ]
  },
  {
   "cell_type": "code",
   "execution_count": null,
   "id": "9cdf1e09-6999-42e6-afe5-d6a930d1a4dc",
   "metadata": {},
   "outputs": [],
   "source": [
    "\n",
    "display(my_graph.num_nodes())\n",
    "display(my_graph.num_edges())\n"
   ]
  },
  {
   "cell_type": "code",
   "execution_count": null,
   "id": "eff479f3-d0f2-44d2-830b-d6b8aa8d4ee9",
   "metadata": {},
   "outputs": [],
   "source": [
    "\n",
    "l_rows = 10\n",
    "\n",
    "l_query  = \"\"\"\n",
    "   MATCH (n) \n",
    "   RETURN n\n",
    "   LIMIT {0}\n",
    "   \"\"\".format(l_rows)\n",
    "\n",
    "l_result = my_graph.query(l_query)\n",
    "\n",
    "print(l_result)\n"
   ]
  },
  {
   "cell_type": "code",
   "execution_count": null,
   "id": "84866c53-2ca8-4c62-b096-e8eb8adf32cd",
   "metadata": {},
   "outputs": [],
   "source": [
    "# ##################################################################"
   ]
  },
  {
   "cell_type": "code",
   "execution_count": null,
   "id": "c3217f3b-dd84-47a3-ae2a-5033d122604a",
   "metadata": {},
   "outputs": [],
   "source": [
    "\n",
    "#  CONNECT TO GRAPH\n",
    "\n",
    "my_graph, *_ = my_client.get_database(name=DB_NAME).find_graphs_by_name(GRAPH_NAME)\n",
    "\n",
    "print(my_graph)\n"
   ]
  },
  {
   "cell_type": "code",
   "execution_count": null,
   "id": "27515e40-ade5-4f71-90a9-052a4a7553fd",
   "metadata": {},
   "outputs": [],
   "source": [
    "# ##################################################################"
   ]
  },
  {
   "cell_type": "code",
   "execution_count": null,
   "id": "6d151690-69c6-408e-8357-8a69cde16575",
   "metadata": {},
   "outputs": [],
   "source": [
    "\n",
    "#  Also Http;   http://localhost:8080/v2/databases\n",
    "#  Also Http;   http://localhost:8080/v2/graphs\n",
    "\n",
    "#  LIST ALL DATABASES\n",
    "\n",
    "for l_database in my_client.databases():\n",
    "   print(\"DB ID: \", l_database.database_id, \"     DB Name: \", l_database.name)\n"
   ]
  },
  {
   "cell_type": "code",
   "execution_count": null,
   "id": "95d667dc-bd24-4d1c-b002-13243252def1",
   "metadata": {},
   "outputs": [],
   "source": [
    "\n",
    "#  LIST ALL GRAPHS\n",
    "\n",
    "for l_graph in my_client.graphs():\n",
    "   print(\"GRAPH ID: \", l_graph.graph_id, \"     DB GRAPH: \", l_graph.name, \"    GRAPH VERSION: \", l_graph.version)\n",
    "\n",
    "print(\"--\")\n"
   ]
  },
  {
   "cell_type": "code",
   "execution_count": null,
   "id": "df14cd17-57a4-48f1-9a49-ce8509d0b161",
   "metadata": {},
   "outputs": [],
   "source": [
    "# ##################################################################"
   ]
  },
  {
   "cell_type": "code",
   "execution_count": 60,
   "id": "a603b503-0c29-4bb6-87a6-750d9d1eb5ea",
   "metadata": {},
   "outputs": [
    {
     "name": "stdout",
     "output_type": "stream",
     "text": [
      "0.7.0+20230124T103202Z.a5f83c2d6.dev\n"
     ]
    }
   ],
   "source": [
    "\n",
    "print(my_client.server_version)\n"
   ]
  },
  {
   "cell_type": "code",
   "execution_count": null,
   "id": "704da6a4-7729-4a7c-b453-b71148364d3b",
   "metadata": {},
   "outputs": [],
   "source": [
    "\n",
    "my_client.widgets().operations()\n"
   ]
  },
  {
   "cell_type": "code",
   "execution_count": 61,
   "id": "d9f17c3c-3b01-45f9-ac83-0c3aab293695",
   "metadata": {},
   "outputs": [
    {
     "name": "stdout",
     "output_type": "stream",
     "text": [
      "<Operation id=FeFf9NAXh8eCzKqqLC5FxxXcrd7ffZx2SrJb5tnqvLY9-4Y9AKHKqfPXoy716L OperationStatus(<OperationStatusKind.COMPLETE: 'Complete'>, '')>\n",
      "<Operation id=FeFf9NAXh8eCzKqqLC5FxxXcrd7ffZx2SrJb5tnqvLY9-3wAq5EbX5iLX4wXdx OperationStatus(<OperationStatusKind.COMPLETE: 'Complete'>, '')>\n",
      "<Operation id=3RLKoovdfGwUyd5DxEdxfJfZv5LHYkokP4BwEu9uzpnv-nwUrH6PWC83iKiz8 OperationStatus(<OperationStatusKind.COMPLETE: 'Complete'>, '')>\n",
      "<Operation id=3RLKoovdfGwUyd5DxEdxfJfZv5LHYkokP4BwEu9uzpnv-PQEctxuhDrynqcfs OperationStatus(<OperationStatusKind.COMPLETE: 'Complete'>, '')>\n",
      "<Operation id=6adeyoQdKGsM3jwQCvFmRZDVZewj3rXzvLgiJT48tF3X-3fk2ikwN1Xsq6SRA6 OperationStatus(<OperationStatusKind.COMPLETE: 'Complete'>, '')>\n",
      "<Operation id=6adeyoQdKGsM3jwQCvFmRZDVZewj3rXzvLgiJT48tF3X-3WzfZB5NnjsUkkf5c OperationStatus(<OperationStatusKind.COMPLETE: 'Complete'>, '')>\n",
      "<Operation id=6A3p99vQSneNRPfx6LFaePp3hqVhC3KkAqKarZwtTaSS-Z9WHidUnCVfWzmjT OperationStatus(<OperationStatusKind.COMPLETE: 'Complete'>, '')>\n",
      "<Operation id=6A3p99vQSneNRPfx6LFaePp3hqVhC3KkAqKarZwtTaSS-46QmmSR8upmRPYs4K OperationStatus(<OperationStatusKind.COMPLETE: 'Complete'>, '')>\n",
      "<Operation id=2gdyrnbeoo2rMmDKK6SnN9UHa1kMEFATUYZjBQVYzkJh-3VujpdfAo6sg52ZDK OperationStatus(<OperationStatusKind.COMPLETE: 'Complete'>, '')>\n",
      "<Operation id=EkSJAaJDxyDtRjHgFNj8oE1mHYMiPD8qgvjCZDdFMKNP-qLf3LNjf8SjaQvAt OperationStatus(<OperationStatusKind.COMPLETE: 'Complete'>, '')>\n",
      "<Operation id=EkSJAaJDxyDtRjHgFNj8oE1mHYMiPD8qgvjCZDdFMKNP-aFdEMnRUHdDTG1ub OperationStatus(<OperationStatusKind.COMPLETE: 'Complete'>, '')>\n",
      "<Operation id=71BQztz6PzwYMeLzMaqVDQgzftPAr6i1TKYPJVujxGnV-56zJAWuRjSXtu6hAp OperationStatus(<OperationStatusKind.FAILED: 'Failed'>, 'name: already exists')>\n",
      "<Operation id=9m1FdXLFDhjgn8yfcxLCRrrcPd4ELK54gNuc22c3EhP8-4QLZBxKsr8KEkgm4 OperationStatus(<OperationStatusKind.COMPLETE: 'Complete'>, '')>\n",
      "<Operation id=84iWFh8srA7SDJ6k6PEmNc2n2kze59vcyknCcFfRuaTP-qEn4hu2udUmcMBUM OperationStatus(<OperationStatusKind.CANCELED: 'Canceled'>, '')>\n",
      "<Operation id=84iWFh8srA7SDJ6k6PEmNc2n2kze59vcyknCcFfRuaTP-4fofb7suB3M6cB7T9 OperationStatus(<OperationStatusKind.CANCELED: 'Canceled'>, '')>\n",
      "<Operation id=GZwfLQqj3W1cowHBLSTrWWMRHyWQCxQ4iSFCxskyRxqu-3e3zYiQQiQi4Vcwrf OperationStatus(<OperationStatusKind.COMPLETE: 'Complete'>, '')>\n",
      "<Operation id=GAUXy2emo6WanCu7wfYcyGvHNbZG39EEJVPryCtk8yKR-5HRTFeatY1WwPLrHJ OperationStatus(<OperationStatusKind.CANCELED: 'Canceled'>, '')>\n",
      "<Operation id=GAUXy2emo6WanCu7wfYcyGvHNbZG39EEJVPryCtk8yKR-qTKNGm93tSJfarRd OperationStatus(<OperationStatusKind.CANCELED: 'Canceled'>, '')>\n",
      "<Operation id=GvRQXCU2CfyAKQLLRycrC3imUDEH4nQVzgQSNExen9Ha-5DKeV3z8CtqnAszfh OperationStatus(<OperationStatusKind.COMPLETE: 'Complete'>, '')>\n",
      "<Operation id=A7xAmX8CowaNVtc1sCs5AeFiSgUR5JQdDh3XsqNexCZE-5dHeUMSjk4AfB47UT OperationStatus(<OperationStatusKind.COMPLETE: 'Complete'>, '')>\n",
      "<Operation id=A7xAmX8CowaNVtc1sCs5AeFiSgUR5JQdDh3XsqNexCZE-4HZWXru7ekMVy2Gug OperationStatus(<OperationStatusKind.COMPLETE: 'Complete'>, '')>\n",
      "<Operation id=DVB5kQkiCQuzq1W8PiC7bQUgkocnvMY2nrYgN86q8juT-KUSqFxCwx2EgdJAf OperationStatus(<OperationStatusKind.COMPLETE: 'Complete'>, '')>\n",
      "<Operation id=8mk66NgkcnZ1uYtjmCKE9pykAimJxGrfASFepCeW7nJT-NJj1B5zSFRJRQ6Ep OperationStatus(<OperationStatusKind.COMPLETE: 'Complete'>, '')>\n",
      "<Operation id=8mk66NgkcnZ1uYtjmCKE9pykAimJxGrfASFepCeW7nJT-2WnfQvsEWVCVzz4Vi OperationStatus(<OperationStatusKind.COMPLETE: 'Complete'>, '')>\n",
      "\n",
      "--\n"
     ]
    }
   ],
   "source": [
    "\n",
    "#  Get operation id ..\n",
    "#\n",
    "for l_each in my_client.operations():\n",
    "   print(l_each)\n",
    "    \n",
    "    \n",
    "print(\"\"  )\n",
    "print(\"--\")\n"
   ]
  },
  {
   "cell_type": "code",
   "execution_count": 43,
   "id": "33fa3bbe-1ff6-4c04-9135-51b156330149",
   "metadata": {},
   "outputs": [
    {
     "data": {
      "application/vnd.jupyter.widget-view+json": {
       "model_id": "e4298ee1ffa24b37b449db87b411842c",
       "version_major": 2,
       "version_minor": 0
      },
      "text/plain": [
       "Box(children=(Text(value='  < paste here >', description='Op Id: '),))"
      ]
     },
     "metadata": {},
     "output_type": "display_data"
    }
   ],
   "source": [
    "\n",
    "from ipywidgets import widgets\n",
    "from ipywidgets import Box\n",
    "\n",
    "l_opid  = widgets.Text(\n",
    "    value        = \"  < paste here >\",\n",
    "    description  = \"Op Id: \",\n",
    "    disabled     = False\n",
    ")\n",
    "\n",
    "l_items = [l_opid]\n",
    "l_box = Box(children=l_items)\n",
    "\n",
    "l_box \n"
   ]
  },
  {
   "cell_type": "code",
   "execution_count": 56,
   "id": "b73f68d7-ad78-4087-9a87-449da50ebdeb",
   "metadata": {},
   "outputs": [
    {
     "name": "stdout",
     "output_type": "stream",
     "text": [
      "Operations Id (not found): 71BQztz6PzwYMeLzMaqVDQgzftPAr6i1TKYPJVujxGnVqdwqwd-56zJAWuRjSXtu6hAp\n",
      "\n",
      "--\n"
     ]
    }
   ],
   "source": [
    "\n",
    "#  cancel() the given Operations Id\n",
    "#\n",
    "\n",
    "l_found = False\n",
    "\n",
    "for l_each in my_client.operations():\n",
    "   if (l_each.id == l_opid.value):\n",
    "      l_found = True\n",
    "      l_msg = l_each.cancel()\n",
    "    \n",
    "if (l_found):\n",
    "   print(\"cancel() return message: %s\" % (l_msg))\n",
    "else:\n",
    "   print(\"Operations Id (not found): %-28s\" % (l_opid.value))\n",
    "\n",
    "\n",
    "print(\"\"  )\n",
    "print(\"--\")\n",
    "\n"
   ]
  },
  {
   "cell_type": "code",
   "execution_count": null,
   "id": "32b16a42-7322-4da9-884d-869276b5d9a3",
   "metadata": {},
   "outputs": [],
   "source": [
    "# ##################################################################"
   ]
  },
  {
   "cell_type": "code",
   "execution_count": 62,
   "id": "932a9254-d8ae-4086-b500-d2cc2978358b",
   "metadata": {},
   "outputs": [
    {
     "data": {
      "text/plain": [
       "[<_Graph my_graph_BB, 4TCBfqDBT783c9USYFXVECV17c3E6gkFujVibb4TBa22, 0>,\n",
       " <_Graph None, 5nWreLvTWFTzuounBjrR9HFSZiyVmNzxzQ4JeTmTX1Tm, 0>,\n",
       " <_Graph my_graph_BB, 7p22unEdbc4PoxrAqPjwCqNeSignrhAhEGhTvQCaCk6f, 0>]"
      ]
     },
     "execution_count": 62,
     "metadata": {},
     "output_type": "execute_result"
    }
   ],
   "source": [
    "\n",
    "my_client.graphs()\n"
   ]
  },
  {
   "cell_type": "code",
   "execution_count": 63,
   "id": "1fa7ad5e-84ce-411a-a597-d25eb36e99cf",
   "metadata": {},
   "outputs": [
    {
     "data": {
      "text/plain": [
       "[<_Graph my_graph_BB, 4TCBfqDBT783c9USYFXVECV17c3E6gkFujVibb4TBa22, 0>,\n",
       " <_Graph my_graph_BB, 7p22unEdbc4PoxrAqPjwCqNeSignrhAhEGhTvQCaCk6f, 0>]"
      ]
     },
     "execution_count": 63,
     "metadata": {},
     "output_type": "execute_result"
    }
   ],
   "source": [
    "\n",
    "my_client.get_database(name=DB_NAME).graphs_in_database()\n"
   ]
  },
  {
   "cell_type": "code",
   "execution_count": null,
   "id": "3b045b77-600a-4dfc-96bb-92d264f560b8",
   "metadata": {},
   "outputs": [],
   "source": [
    "\n",
    "my_client.get_database(name=DB_NAME).find_graphs_by_name(name=GRAPH_NAME)\n"
   ]
  },
  {
   "cell_type": "code",
   "execution_count": null,
   "id": "8f7e2e86-2d44-41f2-baa8-33a5606c05ed",
   "metadata": {},
   "outputs": [],
   "source": [
    "# ##################################################################\n",
    "# ##################################################################\n",
    "# ##################################################################\n",
    "# ##################################################################"
   ]
  },
  {
   "cell_type": "code",
   "execution_count": 111,
   "id": "e576c04e-9cd8-41e0-a1a3-ae09397e4f87",
   "metadata": {},
   "outputs": [
    {
     "name": "stdout",
     "output_type": "stream",
     "text": [
      "Database Name: default                        Id: 2hVyCg4WPZF3oSvGEord1jokgUXGDyda9bPxsEbLJCQN\n",
      "   Graph Name: None                              Version: 0          Id: 5nWreLvTWFTzuounBjrR9HFSZiyVmNzxzQ4JeTmTX1Tm\n",
      "Database Name: my_db                          Id: 3cHdr6EKKc4VGtWLpVnWwfvySFQUXMTh6cjVrKRiNbEL\n",
      "   Graph Name: my_graph_BB                       Version: 0          Id: 4TCBfqDBT783c9USYFXVECV17c3E6gkFujVibb4TBa22\n",
      "   Graph Name: my_graph_BB                       Version: 0          Id: 7p22unEdbc4PoxrAqPjwCqNeSignrhAhEGhTvQCaCk6f\n",
      "\n",
      "--\n"
     ]
    }
   ],
   "source": [
    "\n",
    "#  Now that we share servers, get a better list of databases and graphs ..\n",
    "#\n",
    "\n",
    "for l_each_d in my_client.databases():\n",
    "   print(\"Database Name: %-28s   Id: %s\" % (l_each_d.name, l_each_d.database_id))\n",
    "      #\n",
    "   for l_each_g in my_client.get_database(name=l_each_d.name).graphs_in_database(): \n",
    "      print(\"   Graph Name: %-28s      Version: %-8d   Id: %s\" % (l_each_g.name, l_each_g.version, l_each_g.graph_id))\n",
    "\n",
    "\n",
    "print(\"\"  )\n",
    "print(\"--\")\n"
   ]
  },
  {
   "cell_type": "code",
   "execution_count": 94,
   "id": "bc000754-feff-4fa0-82bb-4a995256e550",
   "metadata": {},
   "outputs": [
    {
     "data": {
      "application/vnd.jupyter.widget-view+json": {
       "model_id": "c881c3ec1be74a53bc3a8f4c3c381704",
       "version_major": 2,
       "version_minor": 0
      },
      "text/plain": [
       "Box(children=(Text(value='  < paste DB-Name here >', description='DB Name: '), Text(value='  < paste Graph-Id …"
      ]
     },
     "metadata": {},
     "output_type": "display_data"
    }
   ],
   "source": [
    "\n",
    "from ipywidgets import widgets\n",
    "from ipywidgets import Box\n",
    "\n",
    "l_dbname   = widgets.Text(\n",
    "    value        = \"  < paste DB-Name here >\",\n",
    "    description  = \"DB Name: \",\n",
    "    disabled     = False\n",
    ")\n",
    "l_graphid = widgets.Text(\n",
    "    value        = \"  < paste Graph-Id here >\",\n",
    "    description  = \"Graph Id: \",\n",
    "    disabled     = False\n",
    ")\n",
    "\n",
    "l_items = [l_dbname, l_graphid]\n",
    "l_box = Box(children=l_items)\n",
    "\n",
    "l_box\n"
   ]
  },
  {
   "cell_type": "code",
   "execution_count": 112,
   "id": "d792e340-644b-4517-bb07-83227c6d078d",
   "metadata": {},
   "outputs": [
    {
     "name": "stdout",
     "output_type": "stream",
     "text": [
      "ERROR:  Database not deleted.  The most likely cause is that the named database is not empty.\n",
      "\n",
      "Existing databases ..\n",
      "   DB ID:  2hVyCg4WPZF3oSvGEord1jokgUXGDyda9bPxsEbLJCQN      DB Name:  default\n",
      "   DB ID:  3cHdr6EKKc4VGtWLpVnWwfvySFQUXMTh6cjVrKRiNbEL      DB Name:  my_db\n",
      "\n",
      "--\n"
     ]
    }
   ],
   "source": [
    "\n",
    "#  Delete database\n",
    "#\n",
    "\n",
    "for l_database in my_client.databases():\n",
    "   if (l_database.name != \"default\"):\n",
    "      if (l_database.name == l_dbname.value):\n",
    "         try:\n",
    "            my_client.get_database(name=l_database.name).delete_database()\n",
    "            print(\"Database deleted: %s\" % (l_database.name))\n",
    "         except:\n",
    "            print(\"ERROR:  Database not deleted.  The most likely cause is that the named database is not empty.\")\n",
    "\n",
    "print(\"\")\n",
    "print(\"Existing databases ..\")\n",
    "   #\n",
    "for l_database in my_client.databases():\n",
    "   print(\"   DB ID: \", l_database.database_id, \"     DB Name: \", l_database.name)\n",
    "\n",
    "\n",
    "print(\"\"  )\n",
    "print(\"--\")\n",
    "\n"
   ]
  },
  {
   "cell_type": "code",
   "execution_count": 110,
   "id": "187f6dd3-d158-4dc1-a8a1-519147f6b7bf",
   "metadata": {},
   "outputs": [
    {
     "name": "stdout",
     "output_type": "stream",
     "text": [
      "\n",
      "--\n"
     ]
    }
   ],
   "source": [
    "\n",
    "#  Delete graph\n",
    "#\n",
    "\n",
    "for l_each_d in my_client.databases():\n",
    "   for l_each_g in my_client.get_database(name = l_each_d.name).graphs_in_database(): \n",
    "      if (l_each_g.graph_id == l_graphid.value):\n",
    "         try:\n",
    "            l_handle = my_client.get_database(name = l_each_d.name).get_graph_by_id(id = l_each_g.graph_id)\n",
    "            l_handle.delete()\n",
    "            print(\"Graph deleted: %s\" % (l_each_g.name))\n",
    "         except:\n",
    "            print(\"ERROR:  Graph not deleted.  The most likely cause is unknown.\")\n",
    "\n",
    "            \n",
    "            \n",
    "for l_each_d in my_client.databases():\n",
    "   print(\"Database Name: %-28s   Id: %s\" % (l_each_d.name, l_each_d.database_id))\n",
    "      #\n",
    "   for l_each_g in my_client.get_database(name=l_each_d.name).graphs_in_database(): \n",
    "      print(\"   Graph Name: %-28s      Version: %-8d   Id: %s\" % (l_each_g.name, l_each_g.version, l_each_g.graph_id))\n",
    "\n",
    "\n",
    "print(\"\"  )\n",
    "print(\"--\")\n",
    "\n"
   ]
  },
  {
   "cell_type": "code",
   "execution_count": null,
   "id": "b21e7afd-257f-4a00-970d-2607d04dd185",
   "metadata": {},
   "outputs": [],
   "source": [
    "# ##################################################################\n",
    "# ##################################################################\n",
    "# ##################################################################\n",
    "# ##################################################################"
   ]
  },
  {
   "cell_type": "code",
   "execution_count": null,
   "id": "c4795c79-145b-46ea-ac7e-ea29131325c8",
   "metadata": {},
   "outputs": [],
   "source": [
    "\n",
    "my_graph.query(\"CALL graph.schema() RETURN *\")\n"
   ]
  }
 ],
 "metadata": {
  "kernelspec": {
   "display_name": "Python 3 (ipykernel)",
   "language": "python",
   "name": "python3"
  },
  "language_info": {
   "codemirror_mode": {
    "name": "ipython",
    "version": 3
   },
   "file_extension": ".py",
   "mimetype": "text/x-python",
   "name": "python",
   "nbconvert_exporter": "python",
   "pygments_lexer": "ipython3",
   "version": "3.8.13"
  }
 },
 "nbformat": 4,
 "nbformat_minor": 5
}
