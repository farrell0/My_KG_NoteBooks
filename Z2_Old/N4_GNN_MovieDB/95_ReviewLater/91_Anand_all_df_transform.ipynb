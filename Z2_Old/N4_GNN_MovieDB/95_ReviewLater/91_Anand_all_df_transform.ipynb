{
 "cells": [
  {
   "cell_type": "code",
   "execution_count": 1,
   "id": "d017822d-1e25-4fde-8ec2-13e4b63932b8",
   "metadata": {},
   "outputs": [],
   "source": [
    "import os                                                                        \n",
    "import time                                                                      \n",
    "import json\n",
    "import numpy as np\n",
    "import pandas as pd\n",
    "import dask as dd\n",
    "from timeit import default_timer as timer\n",
    "import gcsfs, json\n",
    "from katana import remote\n",
    "from katana.remote import import_data\n",
    "from datetime import datetime\n",
    "from dask.dataframe import from_pandas\n",
    "from dask.dataframe import to_numeric\n",
    "# os.environ[\"KATANA_SERVER_ADDRESS\"] = \"host.docker.internal:8080\""
   ]
  },
  {
   "cell_type": "markdown",
   "id": "26168659-d538-4ac4-9e96-b110523019a6",
   "metadata": {},
   "source": [
    "### Transformation"
   ]
  },
  {
   "cell_type": "code",
   "execution_count": 2,
   "id": "164f1435-337d-4972-ab5a-9fe4f00d1b9b",
   "metadata": {},
   "outputs": [],
   "source": [
    "from dask.distributed import Client, progress\n",
    "client = Client(\"10.0.0.101:8786\")"
   ]
  },
  {
   "cell_type": "code",
   "execution_count": 3,
   "id": "eb6297c8-a8fe-4649-86b1-959b44e4eafb",
   "metadata": {},
   "outputs": [
    {
     "name": "stdout",
     "output_type": "stream",
     "text": [
      "{'heartbeat': '5s', 'scheduler-info-interval': '2s', 'security-loader': None, 'preload': [], 'preload-argv': []}\n"
     ]
    }
   ],
   "source": [
    "print(dd.config.get(\"distributed.client\"))"
   ]
  },
  {
   "cell_type": "markdown",
   "id": "51f3fccc-bda8-4f15-918d-687e8e805f5e",
   "metadata": {},
   "source": [
    "### Load files into bags"
   ]
  },
  {
   "cell_type": "code",
   "execution_count": 4,
   "id": "66f42051-cc2f-40a1-b5a8-f8c34076e745",
   "metadata": {},
   "outputs": [],
   "source": [
    "import dask.bag as db\n",
    "import json\n",
    "base_path = 'gs://reco-1/all-review-data/'\n",
    "b = db.read_text(base_path+'All_Amazon_Review.json', blocksize=\"1024MiB\").map(json.loads)\n",
    "# b.take(1)"
   ]
  },
  {
   "cell_type": "code",
   "execution_count": 5,
   "id": "383e07a1-a14d-4939-be14-17283d3fbfd0",
   "metadata": {},
   "outputs": [],
   "source": [
    "# b.count().compute()\n",
    "#233055327 "
   ]
  },
  {
   "cell_type": "markdown",
   "id": "c9e1ff5b-ae5f-44d8-9873-6b990bb78b2f",
   "metadata": {},
   "source": [
    "### Get Frequencies"
   ]
  },
  {
   "cell_type": "code",
   "execution_count": 6,
   "id": "082044c5-6297-45d5-aa8b-51e25356ea01",
   "metadata": {},
   "outputs": [],
   "source": [
    "frequency=b.map(lambda record: record['reviewerID']).frequencies()"
   ]
  },
  {
   "cell_type": "code",
   "execution_count": 7,
   "id": "49bab0b4-51dc-43bd-aca0-f547bcdd75ed",
   "metadata": {},
   "outputs": [],
   "source": [
    "pat2_df=frequency.filter(lambda x : x[1] > 1).to_dataframe()"
   ]
  },
  {
   "cell_type": "code",
   "execution_count": 8,
   "id": "24dfe699-8c54-470a-9cc4-26adf444a31f",
   "metadata": {},
   "outputs": [],
   "source": [
    "# at_l_2.take(1)"
   ]
  },
  {
   "cell_type": "code",
   "execution_count": 9,
   "id": "0f35377b-80dd-4037-93e2-beaf67728b2e",
   "metadata": {},
   "outputs": [],
   "source": [
    "# pat2=at_l_2.persist()"
   ]
  },
  {
   "cell_type": "code",
   "execution_count": 10,
   "id": "c470046c-a270-409c-a436-6686468dff72",
   "metadata": {},
   "outputs": [],
   "source": [
    "# pat2.count().compute()"
   ]
  },
  {
   "cell_type": "code",
   "execution_count": 11,
   "id": "bc2c0eda-769f-4d1b-97ec-6854d3b137bf",
   "metadata": {},
   "outputs": [],
   "source": [
    "# pat2.npartitions"
   ]
  },
  {
   "cell_type": "code",
   "execution_count": 12,
   "id": "c26eadff-4415-48a5-8926-590708e87357",
   "metadata": {},
   "outputs": [],
   "source": [
    "# pat2_df=pat2.to_dataframe()"
   ]
  },
  {
   "cell_type": "code",
   "execution_count": 13,
   "id": "d15ad831-2512-4f13-bc12-ef082a41c40d",
   "metadata": {},
   "outputs": [],
   "source": [
    "# b_df.columns"
   ]
  },
  {
   "cell_type": "code",
   "execution_count": 14,
   "id": "7424aa08-55b8-405d-a1bc-631d03af8e1a",
   "metadata": {},
   "outputs": [],
   "source": [
    "pat2_df.columns=['reviewerID', 'count']\n",
    "# pat2_df=pat2_df.persist()\n",
    "# pat2_df.head()"
   ]
  },
  {
   "cell_type": "markdown",
   "id": "d6749bd1-02fe-4a23-90c4-fcc0ebe9ffc3",
   "metadata": {},
   "source": [
    "### Join frequency and the main dataframe"
   ]
  },
  {
   "cell_type": "code",
   "execution_count": 15,
   "id": "b59763ae-d2df-406f-b752-e828433b2e7f",
   "metadata": {},
   "outputs": [],
   "source": [
    "def standardize(record):\n",
    "    reviewerName=''\n",
    "    reviewText=''\n",
    "    summary=''\n",
    "    vote=''\n",
    "    unixReviewTime=0\n",
    "    if 'reviewerName' in record:\n",
    "        reviewerName = record['reviewerName']\n",
    "    if 'reviewText' in record:\n",
    "        reviewText = record['reviewText']\n",
    "    if 'summary' in record:\n",
    "        summary = record['summary']\n",
    "    if 'unixReviewTime' in record:\n",
    "        unixReviewTime = record['unixReviewTime']\n",
    "    if 'vote' in record:\n",
    "        vote = record['vote']\n",
    "\n",
    "    return {\n",
    "            'overall': record['overall'],\n",
    "            'verified': record['verified'],\n",
    "            'reviewTime': record['reviewTime'],\n",
    "            'reviewerID': record['reviewerID'],\n",
    "            'itemId': record['asin'],\n",
    "            # 'key' : ''.join([record['reviewerID'], '-', record['asin']]),\n",
    "            'reviewerName': reviewerName,\n",
    "            'reviewText': reviewText,\n",
    "            'summary': summary,\n",
    "            'vote': vote,\n",
    "            # 'style': record['style']['name']\n",
    "            'unixReviewTime': unixReviewTime\n",
    "    }\n",
    "\n",
    "# o_df=b.map(standardize).to_dataframe()\n",
    "# write_path = 'gs://reco-1/all-review-data/10-nov-dedup-reviews/at-least-2-reviews-*.csv'\n",
    "r_final_df=b.map(standardize).to_dataframe().drop_duplicates(subset=['reviewerID','itemId','unixReviewTime'])\\\n",
    ".join(pat2_df.set_index('reviewerID'), on='reviewerID').fillna(0).query('count > 0')\\\n",
    ".astype({'overall':'float', 'verified':'string', 'reviewTime':'string','reviewerID':'string',\n",
    "                              'itemId':'string','reviewerName':'string', 'reviewText':'string', 'summary':'string', 'unixReviewTime':'int64',\n",
    "                             'vote':'string'})\n",
    "#.persist().to_csv(write_path)"
   ]
  },
  {
   "cell_type": "code",
   "execution_count": 16,
   "id": "9bb2274e-a9dc-45a3-ac6e-2c4ca7c11766",
   "metadata": {},
   "outputs": [],
   "source": [
    "# final_df=final_df.persist()"
   ]
  },
  {
   "cell_type": "code",
   "execution_count": 17,
   "id": "60a7d3ec-c4cd-4b6e-b2d0-995edfee6dc6",
   "metadata": {},
   "outputs": [],
   "source": [
    "# len(final_df)\n",
    "# 233M reviews"
   ]
  },
  {
   "cell_type": "markdown",
   "id": "375ba0ca-bc0b-4aa3-84f1-3165e7be11d4",
   "metadata": {},
   "source": [
    "### Process Items"
   ]
  },
  {
   "cell_type": "code",
   "execution_count": 18,
   "id": "45be72b1-0e9b-4998-a152-39d10bea70a8",
   "metadata": {},
   "outputs": [],
   "source": [
    "import dask.bag as db\n",
    "import json\n",
    "base_path = 'gs://reco-1/all-review-data/'\n",
    "m = db.read_text(base_path+'All_Amazon_Meta.json', blocksize=\"1024MiB\").map(json.loads)"
   ]
  },
  {
   "cell_type": "code",
   "execution_count": 19,
   "id": "6f97bd57-a67f-4420-90b3-6d818832f8b6",
   "metadata": {},
   "outputs": [],
   "source": [
    "def standardize_meta(record):\n",
    "    description=''\n",
    "    try:\n",
    "        description=record['description'][0]\n",
    "    except:\n",
    "        description=''\n",
    "    rank = ''\n",
    "    price=0.0\n",
    "    if 'rank' in record:\n",
    "        try:\n",
    "            rank=float(str( record['rank']).split(' in')[0].replace(',',''))\n",
    "        except:\n",
    "            rank=0.0\n",
    "    if 'price' in record:\n",
    "        if len(record['price']) == 0:\n",
    "            price = 0.0\n",
    "        else:\n",
    "            try:\n",
    "                f1=record['price'].replace('$','')\n",
    "                price = float(f1)\n",
    "            except:\n",
    "                price = 0.0\n",
    "    \n",
    "    \n",
    "    return {\n",
    "            'description': description,\n",
    "            'fit': str(record['fit']),\n",
    "            'title': record['title'],\n",
    "            'rank': rank,\n",
    "            'itemId': record['asin'],\n",
    "            'main_cat' : record['main_cat'],\n",
    "            'price': price\n",
    "    }\n",
    "\n",
    "# o1_df=b.map(standardize).to_dataframe().set_index(\"key\").drop_duplicates(subset=['reviewerID','itemId','unixReviewTime'])\n",
    "write_path_meta = 'gs://reco-1/all-review-data/10-nov-dedup-reviews/items-*.csv'\n",
    "final_df=m.map(standardize_meta).to_dataframe().drop_duplicates(subset=['itemId']).astype({'description':'string','fit':'string','title':'string','itemId':'string','main_cat':'string',\n",
    "                          'rank':'float','price':'float'}).rename(columns={\"itemId\": \"ID\"}) "
   ]
  },
  {
   "cell_type": "code",
   "execution_count": 20,
   "id": "ff466cd0-2823-4834-b7e4-71e20e60319f",
   "metadata": {},
   "outputs": [
    {
     "data": {
      "text/plain": [
       "description     string\n",
       "fit             string\n",
       "title           string\n",
       "rank           float64\n",
       "ID              string\n",
       "main_cat        string\n",
       "price          float64\n",
       "dtype: object"
      ]
     },
     "execution_count": 20,
     "metadata": {},
     "output_type": "execute_result"
    }
   ],
   "source": [
    "final_df.dtypes"
   ]
  },
  {
   "cell_type": "code",
   "execution_count": 21,
   "id": "37bac70a-4d02-4708-bdb5-3b84fc96b6b8",
   "metadata": {},
   "outputs": [],
   "source": [
    "# len(final_df)\n",
    "# 14,741,571 items"
   ]
  },
  {
   "cell_type": "code",
   "execution_count": 22,
   "id": "eb00a1da-b757-4dd9-b592-f78d3f3521cb",
   "metadata": {},
   "outputs": [],
   "source": [
    "# write_path_meta = 'gs://reco-1/temp/items-*.csv'\n"
   ]
  },
  {
   "cell_type": "code",
   "execution_count": 23,
   "id": "2d2df384-420d-4a96-a2b1-77fa94c13257",
   "metadata": {},
   "outputs": [],
   "source": [
    "# final_df.to_csv(write_path_meta)"
   ]
  },
  {
   "cell_type": "markdown",
   "id": "e70a1d20-9d15-456d-859d-8556356f5e7e",
   "metadata": {},
   "source": [
    "### Store users"
   ]
  },
  {
   "cell_type": "code",
   "execution_count": 24,
   "id": "46eddeb2-c6fe-4cb8-9761-70afc56d603c",
   "metadata": {},
   "outputs": [],
   "source": [
    "import dask.bag as db\n",
    "import json\n",
    "base_path = 'gs://reco-1/all-review-data/'\n",
    "u = db.read_text(base_path+'All_Amazon_Review.json', blocksize=\"1024MiB\").map(json.loads)\n",
    "# b.take(1)"
   ]
  },
  {
   "cell_type": "code",
   "execution_count": 25,
   "id": "d2971a99-dc13-49ae-aa65-a5c34c17ec30",
   "metadata": {},
   "outputs": [],
   "source": [
    "def standardize_user(record):\n",
    "    return {\n",
    "            'reviewerID': record['reviewerID']\n",
    "    }\n",
    "\n",
    "\n",
    "u_final_df=u.map(standardize_user).to_dataframe().drop_duplicates(subset=['reviewerID']).rename(columns={\"reviewerID\": \"ID\"}) "
   ]
  },
  {
   "cell_type": "code",
   "execution_count": 26,
   "id": "dea87b3a-dfcf-475e-8f8f-ae756bf72655",
   "metadata": {},
   "outputs": [],
   "source": [
    "# len(final_df)\n",
    "# #43,531,850 users"
   ]
  },
  {
   "cell_type": "code",
   "execution_count": 27,
   "id": "bc172e81-b37b-4d06-adc3-aa7a18da0bb4",
   "metadata": {},
   "outputs": [],
   "source": [
    "# write_path_user = 'gs://reco-1/all-review-data/10-nov-dedup-reviews/users-*.csv'\n",
    "# final_df.to_csv(write_path_user)"
   ]
  },
  {
   "cell_type": "code",
   "execution_count": 28,
   "id": "0f814553-d7ad-4ead-8355-3a9788945cd9",
   "metadata": {},
   "outputs": [],
   "source": [
    "# final_df=final_df"
   ]
  },
  {
   "cell_type": "markdown",
   "id": "2aa39ebb-86cf-46fd-a7bb-143229c70cc3",
   "metadata": {
    "tags": []
   },
   "source": [
    "### import"
   ]
  },
  {
   "cell_type": "code",
   "execution_count": 29,
   "id": "9159348e-af55-4ab8-9d2c-c5d6c5409dc6",
   "metadata": {},
   "outputs": [],
   "source": [
    "# final_df.npartitions"
   ]
  },
  {
   "cell_type": "code",
   "execution_count": 30,
   "id": "73b5244c-11a9-4077-ab1d-6a37efecfff4",
   "metadata": {},
   "outputs": [
    {
     "data": {
      "text/plain": [
       "'0.5.0+20221106T212601Z.9c14e060f.dev'"
      ]
     },
     "execution_count": 30,
     "metadata": {},
     "output_type": "execute_result"
    }
   ],
   "source": [
    "rc=remote.Client()\n",
    "rc.server_version"
   ]
  },
  {
   "cell_type": "code",
   "execution_count": 31,
   "id": "19165654-b106-46e7-9236-555460be0cda",
   "metadata": {},
   "outputs": [
    {
     "data": {
      "application/vnd.jupyter.widget-view+json": {
       "model_id": "bcdd734288b645c4b628c5c9a50e1a31",
       "version_major": 2,
       "version_minor": 0
      },
      "text/plain": [
       "          0/? [?op/s]"
      ]
     },
     "metadata": {},
     "output_type": "display_data"
    },
    {
     "data": {
      "application/vnd.jupyter.widget-view+json": {
       "model_id": "bfc710c28d994a0da9cc99ed4a9c0430",
       "version_major": 2,
       "version_minor": 0
      },
      "text/plain": [
       "          0/? [?op/s]"
      ]
     },
     "metadata": {},
     "output_type": "display_data"
    }
   ],
   "source": [
    "graph = rc.create_graph(num_partitions=7)\n",
    "graph.graph_id\n",
    "with import_data.DataFrameImporter(graph) as df_importer:\n",
    "    df_importer.nodes_dataframe(final_df, id_column=\"ID\", id_space='ITEM', label='ITEM')\n",
    "    df_importer.nodes_dataframe(u_final_df, id_column=\"ID\", id_space='USER', label='USER')\n",
    "    # df_importer.nodes_dataframe(av_df, id_column=\"ID\", id_space='ALSO_VIEWED', label='ALSO_VIEWED')\n",
    "    # df_importer.nodes_dataframe(ab_df, id_column=\"ID\", id_space='ALSO_BOUGHT', label='ALSO_BOUGHT')\n",
    "    # df_importer.nodes_dataframe(img_df, id_column=\"ID\", id_space='IMAGE', label='IMAGE')\n",
    "    # df_importer.nodes_dataframe(hrimg_df, id_column=\"ID\", id_space='HIGHRES_IMAGE', label='HIGHRES_IMAGE')\n",
    "    # df_importer.nodes_dataframe(users_df, id_column=\"ID\", id_space='USER', label='USER')\n",
    "    # #\n",
    "    # df_importer.edges_dataframe(av_expl, source_column='also_view', destination_column='asin',source_id_space='ALSO_VIEWED', destination_id_space='ITEM', type='WAS_ALSO_VIEWED')\n",
    "    # df_importer.edges_dataframe(ab_expl, source_column='also_buy', destination_column='asin',source_id_space='ALSO_BOUGHT', destination_id_space='ITEM', type='WAS_ALSO_BOUGHT')\n",
    "    # df_importer.edges_dataframe(img_expl, source_column='imageURL', destination_column='asin',source_id_space='IMAGE', destination_id_space='ITEM', type='FOR_ITEM')\n",
    "    # df_importer.edges_dataframe(hrimg_expl, source_column='imageURLHighRes', destination_column='asin',source_id_space='HIGHRES_IMAGE', destination_id_space='ITEM', type='FOR_ITEM')\n",
    "    df_importer.edges_dataframe(r_final_df, source_column='reviewerID', destination_column='itemId',source_id_space='USER', destination_id_space='ITEM', type='REVIEWS')\n",
    "#\n",
    "    df_importer.insert()"
   ]
  },
  {
   "cell_type": "code",
   "execution_count": 23,
   "id": "2427bc06-74cb-4028-8d01-49d478b42cca",
   "metadata": {},
   "outputs": [],
   "source": [
    "# graph.delete()"
   ]
  },
  {
   "cell_type": "code",
   "execution_count": 32,
   "id": "8182c153-b000-4d98-a7da-0508822b0b9a",
   "metadata": {},
   "outputs": [
    {
     "data": {
      "application/vnd.jupyter.widget-view+json": {
       "model_id": "881e31e91d1640c8ba2ef588acfc4818",
       "version_major": 2,
       "version_minor": 0
      },
      "text/plain": [
       "          0/? [?op/s]"
      ]
     },
     "metadata": {},
     "output_type": "display_data"
    },
    {
     "data": {
      "application/vnd.jupyter.widget-view+json": {
       "model_id": "5497512465d040e18252d0d06c11dfbf",
       "version_major": 2,
       "version_minor": 0
      },
      "text/plain": [
       "          0/? [?op/s]"
      ]
     },
     "metadata": {},
     "output_type": "display_data"
    },
    {
     "name": "stdout",
     "output_type": "stream",
     "text": [
      "Graph as 58273421 nodes and 207760811 edges\n"
     ]
    }
   ],
   "source": [
    "print(f'Graph as {graph.num_nodes()} nodes and {graph.num_edges()} edges')"
   ]
  },
  {
   "cell_type": "code",
   "execution_count": 22,
   "id": "907a0664-0563-4ba7-b20b-05ea8f56ff58",
   "metadata": {},
   "outputs": [
    {
     "data": {
      "application/vnd.jupyter.widget-view+json": {
       "model_id": "db4d0e8037004c98a243d1361afcf077",
       "version_major": 2,
       "version_minor": 0
      },
      "text/plain": [
       "          0/? [?op/s]"
      ]
     },
     "metadata": {},
     "output_type": "display_data"
    },
    {
     "data": {
      "application/vnd.jupyter.widget-view+json": {
       "model_id": "406d5d34f8434a669c90a7794b5afb6d",
       "version_major": 2,
       "version_minor": 0
      },
      "text/plain": [
       "VBox(children=(HTML(value='\\n                <style>\\n                #jp-main-content-panel .widget-container…"
      ]
     },
     "metadata": {},
     "output_type": "display_data"
    }
   ],
   "source": [
    "\n",
    "qry = \"\"\"\n",
    "MATCH(i:ITEM)\n",
    "where i.ID='0143026860'\n",
    "return i limit 20\n",
    "\"\"\"\n",
    "graph.query(qry).view()"
   ]
  },
  {
   "cell_type": "markdown",
   "id": "02abcddc-a7ed-45a2-9b25-06d3a440f621",
   "metadata": {},
   "source": [
    "###### qry = \"\"\"\n",
    "MATCH(i:USER)\n",
    "return i limit 20\n",
    "\"\"\"\n",
    "graph.query(qry).view()"
   ]
  },
  {
   "cell_type": "code",
   "execution_count": null,
   "id": "5a2299c8-8d82-4619-927c-9ee37cd4a009",
   "metadata": {},
   "outputs": [],
   "source": [
    "qry = \"\"\"\n",
    "MATCH(i:ALSO_VIEWED)\n",
    "return i limit 20\n",
    "\"\"\"\n",
    "graph.query(qry).view()"
   ]
  },
  {
   "cell_type": "code",
   "execution_count": 34,
   "id": "f57290a7-176d-45c4-96a6-4728529caff4",
   "metadata": {},
   "outputs": [
    {
     "data": {
      "application/vnd.jupyter.widget-view+json": {
       "model_id": "4ecbc874f5844ef295d7f820819fe516",
       "version_major": 2,
       "version_minor": 0
      },
      "text/plain": [
       "          0/? [?op/s]"
      ]
     },
     "metadata": {},
     "output_type": "display_data"
    },
    {
     "data": {
      "application/vnd.jupyter.widget-view+json": {
       "model_id": "8e16c10dbdad4d22b5523186f2ef0d5c",
       "version_major": 2,
       "version_minor": 0
      },
      "text/plain": [
       "          0/? [?op/s]"
      ]
     },
     "metadata": {},
     "output_type": "display_data"
    },
    {
     "data": {
      "application/vnd.jupyter.widget-view+json": {
       "model_id": "981a7c67fef54ca3b645115236b1d3c2",
       "version_major": 2,
       "version_minor": 0
      },
      "text/plain": [
       "VBox(children=(HTML(value='\\n                <style>\\n                #jp-main-content-panel .widget-container…"
      ]
     },
     "metadata": {},
     "output_type": "display_data"
    }
   ],
   "source": [
    "qry = \"\"\"\n",
    "MATCH(i:ITEM)<-[:REVIEWS]-(a)\n",
    "where i.ID = 'B000050FDR'\n",
    "return i,a limit 50\n",
    "\"\"\"\n",
    "graph.query(qry, contextualize=True).view()"
   ]
  },
  {
   "cell_type": "code",
   "execution_count": 39,
   "id": "3d6bd4f7-424c-4c35-8f2e-18ef98a4daea",
   "metadata": {},
   "outputs": [
    {
     "data": {
      "application/vnd.jupyter.widget-view+json": {
       "model_id": "14a9c3fafd4947719f15a680d4994572",
       "version_major": 2,
       "version_minor": 0
      },
      "text/plain": [
       "          0/? [?op/s]"
      ]
     },
     "metadata": {},
     "output_type": "display_data"
    },
    {
     "data": {
      "application/vnd.jupyter.widget-view+json": {
       "model_id": "1c81f02b15704eb09d3f9d8101b3fd8b",
       "version_major": 2,
       "version_minor": 0
      },
      "text/plain": [
       "VBox(children=(HTML(value='\\n                <style>\\n                #jp-main-content-panel .widget-container…"
      ]
     },
     "metadata": {},
     "output_type": "display_data"
    }
   ],
   "source": [
    "###needs to be cleaned\n",
    "qry = \"\"\"\n",
    "MATCH(i:ITEM)\n",
    "return distinct i.main_cat limit 50\n",
    "\"\"\"\n",
    "graph.query(qry,).view()"
   ]
  },
  {
   "cell_type": "code",
   "execution_count": 35,
   "id": "68e4fc3a-6e28-40af-a1e8-1295daaedfa9",
   "metadata": {},
   "outputs": [
    {
     "data": {
      "application/vnd.jupyter.widget-view+json": {
       "model_id": "e0346215ddcb4fc4a792fd458753a0ad",
       "version_major": 2,
       "version_minor": 0
      },
      "text/plain": [
       "          0/? [?op/s]"
      ]
     },
     "metadata": {},
     "output_type": "display_data"
    },
    {
     "data": {
      "application/vnd.jupyter.widget-view+json": {
       "model_id": "13d3c20ecd95444ca4724b6a304cacf5",
       "version_major": 2,
       "version_minor": 0
      },
      "text/plain": [
       "VBox(children=(HTML(value='\\n                <style>\\n                #jp-main-content-panel .widget-container…"
      ]
     },
     "metadata": {},
     "output_type": "display_data"
    }
   ],
   "source": [
    "graph.schema().view()"
   ]
  },
  {
   "cell_type": "code",
   "execution_count": 37,
   "id": "3a34ce0f-e854-4b9d-a24f-26d71e2b946f",
   "metadata": {},
   "outputs": [
    {
     "data": {
      "application/vnd.jupyter.widget-view+json": {
       "model_id": "8d08f96a3461468c99b92e7c20b3c177",
       "version_major": 2,
       "version_minor": 0
      },
      "text/plain": [
       "          0/? [?op/s]"
      ]
     },
     "metadata": {},
     "output_type": "display_data"
    }
   ],
   "source": [
    "# from katana.remote import export_data\n",
    "# export_data.rdg(graph, path = \"gs://reco-1/rdg/all-data-11-Nov-upd\")"
   ]
  },
  {
   "cell_type": "markdown",
   "id": "80e458ad-7c3a-4725-9282-99d8dd3f7b35",
   "metadata": {},
   "source": [
    "### Generate Feature"
   ]
  },
  {
   "cell_type": "code",
   "execution_count": null,
   "id": "b948105a-a1e4-433b-9051-2c6d3cf61ea4",
   "metadata": {},
   "outputs": [],
   "source": [
    "def udf_pre_processing(g):\n",
    "    import nltk\n",
    "    from sklearn.feature_extraction.text import CountVectorizer\n",
    "    # import blah\n",
    "    from katana_enterprise.distributed import Graph\n",
    "    from katana_enterprise.ai.preprocessing.feature_generator import OneHotEncoder\n",
    "    from katana.ai.preprocessing import BagOfWords\n",
    "    from katana_enterprise.ai.preprocessing.feature_scaler import StandardScaler\n",
    "    from katana_enterprise.ai.preprocessing.preprocessing_graph import (\n",
    "        FeatureDescriptor,\n",
    "        FeatureType,\n",
    "        PreprocessingGraph,\n",
    "    )\n",
    "    from katana.ai.preprocessing import BagOfWords\n",
    "    from katana_enterprise.distributed import single_host\n",
    "    # upsert features\n",
    "    obj = PreprocessingGraph(g)\n",
    "    data_dict = {\n",
    "        \"ITEM\": [\n",
    "            FeatureDescriptor(name=\"main_cat\", type=FeatureType.CATEGORICAL, preprocessor_type=OneHotEncoder, impute_function=None),\n",
    "            FeatureDescriptor(name=\"price\", type=FeatureType.NUMERIC, preprocessor_type=StandardScaler, impute_function=None),\n",
    "            FeatureDescriptor(name=\"rank\", type=FeatureType.NUMERIC, preprocessor_type=StandardScaler, impute_function=None),\n",
    "            FeatureDescriptor(name=\"title\", type=FeatureType.STRING, preprocessor_type=BagOfWords)\n",
    "        ]\n",
    "    }\n",
    "\n",
    "    res = obj.encode_features_all(data_dict, target_node_type=\"ITEM\", keep_nan=True)\n",
    "    print(res.shape)\n",
    "    print(res.dtype)\n",
    "    print('finished encoding features')\n",
    "    obj.upsert_node_feature(feature_name=\"item_feature\", feature_data=res)\n",
    "    # print('finished upserting features')\n",
    "    return single_host('ok')\n",
    "\n",
    "\n",
    "result = graph.run(udf_pre_processing)"
   ]
  },
  {
   "cell_type": "code",
   "execution_count": null,
   "id": "607cf8e0-4072-4c83-b1b7-91c212d270ed",
   "metadata": {},
   "outputs": [],
   "source": []
  },
  {
   "cell_type": "code",
   "execution_count": null,
   "id": "4c3ade7a-542a-4c05-bad0-3138cba5389f",
   "metadata": {},
   "outputs": [],
   "source": []
  },
  {
   "cell_type": "code",
   "execution_count": null,
   "id": "051c45b2-852c-45b2-b59b-1ba7695ce21c",
   "metadata": {},
   "outputs": [],
   "source": []
  },
  {
   "cell_type": "markdown",
   "id": "0a82bc2f-ba45-4e11-aa88-c176d540d7d9",
   "metadata": {
    "jp-MarkdownHeadingCollapsed": true,
    "tags": []
   },
   "source": [
    "### also_view"
   ]
  },
  {
   "cell_type": "code",
   "execution_count": null,
   "id": "d579ce5f-b7d0-4468-b23a-ef99d05910a1",
   "metadata": {},
   "outputs": [],
   "source": [
    "av_asin_df = meta_df[['asin', 'also_view']]\n",
    "len(av_asin_df)"
   ]
  },
  {
   "cell_type": "code",
   "execution_count": null,
   "id": "3f95cc09-8e25-4608-8c21-271a49ad0ee0",
   "metadata": {},
   "outputs": [],
   "source": [
    "av_expl=av_asin_df.explode('also_view').dropna()"
   ]
  },
  {
   "cell_type": "code",
   "execution_count": null,
   "id": "b2247ef3-3dda-4201-b4a0-c1fd2a9d7ab4",
   "metadata": {},
   "outputs": [],
   "source": [
    "av_expl=av_expl.astype({'asin':'string','also_view':'string'})\n",
    "av_expl.head()"
   ]
  },
  {
   "cell_type": "code",
   "execution_count": null,
   "id": "e3f8cf24-9119-4246-b8d4-62263b483872",
   "metadata": {},
   "outputs": [],
   "source": [
    "av_expl.dtypes"
   ]
  },
  {
   "cell_type": "markdown",
   "id": "59c88745-692b-4933-9372-22cf4d0affe5",
   "metadata": {},
   "source": [
    "#### also_buy"
   ]
  },
  {
   "cell_type": "code",
   "execution_count": null,
   "id": "9a77b08f-9692-406f-8fcd-e5e3184201d4",
   "metadata": {},
   "outputs": [],
   "source": [
    "ab_asin_df = meta_df[['asin', 'also_buy']]\n",
    "ab_expl=ab_asin_df.explode('also_buy').dropna()\n",
    "ab_expl=ab_expl.astype({'asin':'string','also_buy':'string'})\n",
    "ab_expl.head()"
   ]
  },
  {
   "cell_type": "markdown",
   "id": "4aba65da-4ee7-47aa-af45-270ae934fba1",
   "metadata": {},
   "source": [
    "#### imageURL"
   ]
  },
  {
   "cell_type": "code",
   "execution_count": null,
   "id": "40a10a28-a944-451a-9317-579ad7819b29",
   "metadata": {},
   "outputs": [],
   "source": [
    "img_asin_df = meta_df[['asin', 'imageURL']]\n",
    "img_expl=img_asin_df.explode('imageURL').dropna()\n",
    "img_expl=img_expl.astype({'asin':'string','imageURL':'string'})\n",
    "img_expl.head()"
   ]
  },
  {
   "cell_type": "markdown",
   "id": "8e205fea-0807-4aff-b1bc-e618b38f74e4",
   "metadata": {},
   "source": [
    "#### imageURLHighRes"
   ]
  },
  {
   "cell_type": "code",
   "execution_count": null,
   "id": "b4f152cd-5735-419d-8bc0-c24b4c0fc6ae",
   "metadata": {},
   "outputs": [],
   "source": [
    "hrimg_asin_df = meta_df[['asin', 'imageURLHighRes']]\n",
    "hrimg_expl=hrimg_asin_df.explode('imageURLHighRes').dropna()\n",
    "hrimg_expl=hrimg_expl.astype({'asin':'string','imageURLHighRes':'string'})\n",
    "hrimg_expl.head()"
   ]
  },
  {
   "cell_type": "markdown",
   "id": "96d0dcc5-c1dc-4358-b24e-c30533033bb3",
   "metadata": {
    "jp-MarkdownHeadingCollapsed": true,
    "tags": []
   },
   "source": [
    "### Process Reviews"
   ]
  },
  {
   "cell_type": "code",
   "execution_count": null,
   "id": "c00c113e-b3a2-4c00-91d7-d86d1209d973",
   "metadata": {},
   "outputs": [],
   "source": [
    "reviews_df.head()"
   ]
  },
  {
   "cell_type": "code",
   "execution_count": null,
   "id": "2481a8ce-7ba1-49df-89c5-edb37dd5d094",
   "metadata": {},
   "outputs": [],
   "source": [
    "reviews_df=reviews_df.astype({'overall':'float', 'verified':'string', 'reviewTime':'string','reviewerID':'string',\n",
    "                              'asin':'string','reviewerName':'string', 'reviewText':'string', 'summary':'string', 'unixReviewTime':'int64',\n",
    "                             'vote':'string','style':'string','image':'string'})"
   ]
  },
  {
   "cell_type": "code",
   "execution_count": null,
   "id": "d1d9b539-1e28-4b75-aab0-4453803b6306",
   "metadata": {},
   "outputs": [],
   "source": [
    "reviews_df.compute()"
   ]
  },
  {
   "cell_type": "code",
   "execution_count": null,
   "id": "dbc3ad09-43a5-457f-9952-1be5dbd0d789",
   "metadata": {},
   "outputs": [],
   "source": [
    "reviews_df.dtypes"
   ]
  },
  {
   "cell_type": "code",
   "execution_count": null,
   "id": "d2c85672-cc70-4a5c-821b-2175606d4154",
   "metadata": {},
   "outputs": [],
   "source": [
    "users_df=reviews_df.reviewerID.unique().to_frame()\n",
    "users_df=users_df.rename(columns={'reviewerID':'ID'})"
   ]
  },
  {
   "cell_type": "code",
   "execution_count": null,
   "id": "56919d16-3e6a-467d-8180-bb639314ce6b",
   "metadata": {},
   "outputs": [],
   "source": [
    "users_df.dtypes"
   ]
  },
  {
   "cell_type": "markdown",
   "id": "0bc4467e-51f6-4275-b5ea-56b680dc0df6",
   "metadata": {
    "jp-MarkdownHeadingCollapsed": true,
    "tags": []
   },
   "source": [
    "### preprocess graph"
   ]
  },
  {
   "cell_type": "code",
   "execution_count": null,
   "id": "34f66e8d-e44b-4816-8634-6bf16b17fb6f",
   "metadata": {},
   "outputs": [],
   "source": [
    "meta_df.dtypes"
   ]
  },
  {
   "cell_type": "code",
   "execution_count": null,
   "id": "140aa824-a557-40e6-b86c-f49cd90176e0",
   "metadata": {},
   "outputs": [],
   "source": [
    "meta_final_df=meta_df.drop(columns=['category', 'tech1','description','fit','also_buy','tech2','feature','also_view','details',\n",
    "                                    'similar_item','date','imageURL','imageURLHighRes', 'price_f2'])  "
   ]
  },
  {
   "cell_type": "code",
   "execution_count": null,
   "id": "0576a935-be1e-4ce2-8d68-2fba143b4739",
   "metadata": {},
   "outputs": [],
   "source": [
    "meta_final_df.dtypes"
   ]
  },
  {
   "cell_type": "code",
   "execution_count": null,
   "id": "ee47b9f6-eb1d-4065-98c3-fcf6888f2dc7",
   "metadata": {},
   "outputs": [],
   "source": [
    "av_df=av_expl.also_view.unique().to_frame()\n",
    "ab_df=ab_expl.also_buy.unique().to_frame()\n",
    "img_df=img_expl.imageURL.unique().to_frame()\n",
    "hrimg_df=hrimg_expl.imageURLHighRes.unique().to_frame()\n",
    "\n",
    "av_df=av_df.rename(columns={'also_view':'ID'})\n",
    "ab_df=ab_df.rename(columns={'also_buy':'ID'})\n",
    "img_df=img_df.rename(columns={'imageURL':'ID'})\n",
    "hrimg_df=hrimg_df.rename(columns={'imageURLHighRes':'ID'})\n",
    "#av_df.head()"
   ]
  },
  {
   "cell_type": "code",
   "execution_count": null,
   "id": "24eba60a-e637-4615-9122-5bc062fae1db",
   "metadata": {},
   "outputs": [],
   "source": [
    "#this should not be needed\n",
    "av_expl=av_expl.repartition(npartitions=1)  \n",
    "ab_expl=ab_expl.repartition(npartitions=1)\n",
    "img_expl=img_expl.repartition(npartitions=1)\n",
    "hrimg_expl=hrimg_expl.repartition(npartitions=1)\n",
    "# av_expl.compute()\n",
    "# ab_expl.compute()\n",
    "# av_expl.head()"
   ]
  },
  {
   "cell_type": "code",
   "execution_count": null,
   "id": "33197416-eaf7-43d4-88ed-3535004179e3",
   "metadata": {},
   "outputs": [],
   "source": []
  },
  {
   "cell_type": "code",
   "execution_count": null,
   "id": "41a86e9c-2c5c-40b7-bd45-e3fa01661c3c",
   "metadata": {},
   "outputs": [],
   "source": [
    "meta_final_df['ID']=meta_final_df['asin']"
   ]
  },
  {
   "cell_type": "code",
   "execution_count": null,
   "id": "1795917f-17de-40cc-aa39-e4c0b37bc393",
   "metadata": {},
   "outputs": [],
   "source": [
    "meta_final_df.dtypes"
   ]
  },
  {
   "cell_type": "markdown",
   "id": "ed13d6f5-9315-42e1-b832-a45e06bac2e0",
   "metadata": {
    "jp-MarkdownHeadingCollapsed": true,
    "tags": []
   },
   "source": [
    "### Appendix"
   ]
  },
  {
   "cell_type": "code",
   "execution_count": null,
   "id": "ad9b696e-bad2-47bd-bf00-7c37e13fc6b0",
   "metadata": {},
   "outputs": [],
   "source": [
    "wl=client.get_worker_logs()"
   ]
  },
  {
   "cell_type": "code",
   "execution_count": null,
   "id": "8cee4546-245c-46cf-b4d0-5ac0181db7f2",
   "metadata": {},
   "outputs": [],
   "source": [
    "client.get_events(\"runtimes\")"
   ]
  },
  {
   "cell_type": "code",
   "execution_count": null,
   "id": "1aec9ea3-ea5e-4446-bf4c-a77e851eba16",
   "metadata": {},
   "outputs": [],
   "source": [
    "user_ids=reviews_df.reviewerID.unique()"
   ]
  },
  {
   "cell_type": "code",
   "execution_count": null,
   "id": "0bfb4ebe-5ddc-40df-8bba-f21a77302645",
   "metadata": {},
   "outputs": [],
   "source": [
    "len(user_ids)"
   ]
  },
  {
   "cell_type": "code",
   "execution_count": null,
   "id": "f461fd79-44d7-415e-b96a-2d5ba6623746",
   "metadata": {},
   "outputs": [],
   "source": [
    "fs = gcsfs.GCSFileSystem(project='katana-clusters-beta')\n",
    "base_path = 'gs://reco-1/beauty-small/'\n",
    "beautyList = []\n",
    "print(\"reading beauty\")\n",
    "with fs.open(base_path+'All_Beauty.json') as f:\n",
    "    for jsonObj in f:\n",
    "        beautyDict = json.loads(jsonObj)\n",
    "        beautyList.append(beautyDict)\n",
    "\n",
    "print(f'loaded {len(beautyList)} beauty reviews')"
   ]
  },
  {
   "cell_type": "code",
   "execution_count": null,
   "id": "7157502e-d184-4fcc-be28-22cc41e77b59",
   "metadata": {},
   "outputs": [],
   "source": [
    "metaBeautyList = []\n",
    "print(\"reading beauty meta\")\n",
    "with fs.open(base_path+'meta_All_Beauty.json') as f:\n",
    "    for jsonObj in f:\n",
    "        metaBeautyDict = json.loads(jsonObj)\n",
    "        metaBeautyList.append(metaBeautyDict)\n",
    "\n",
    "print(f'loaded {len(beautyList)} meta beauty reviews')"
   ]
  },
  {
   "cell_type": "code",
   "execution_count": null,
   "id": "8c0a0b23-933d-4cca-8784-748aa5c9fae6",
   "metadata": {},
   "outputs": [],
   "source": [
    "beauty_df = pd.DataFrame.from_dict(beautyList)\n",
    "meta_beauty_df = pd.DataFrame.from_dict(metaBeautyList)\n",
    "len(beauty_df)"
   ]
  },
  {
   "cell_type": "code",
   "execution_count": null,
   "id": "7931839a-b32e-4658-baef-9d29cff7a179",
   "metadata": {},
   "outputs": [],
   "source": [
    "beauty_df.head()"
   ]
  },
  {
   "cell_type": "code",
   "execution_count": null,
   "id": "2f350a0a-0bf9-4ec6-be5b-6cd45c1bbd18",
   "metadata": {},
   "outputs": [],
   "source": [
    "beauty_ddf = from_pandas(beauty_df, npartitions=2)\n",
    "mb_ddf = from_pandas(meta_beauty_df, npartitions=2)"
   ]
  },
  {
   "cell_type": "code",
   "execution_count": null,
   "id": "82bd92fb-4180-4dcd-9fc6-18d4dd441f3f",
   "metadata": {},
   "outputs": [],
   "source": [
    "mb_ddf.head()"
   ]
  },
  {
   "cell_type": "code",
   "execution_count": null,
   "id": "ce3f2d30-3c02-4e15-8223-0b41abd7cec1",
   "metadata": {},
   "outputs": [],
   "source": [
    "asins = ddf.asin.unique()"
   ]
  },
  {
   "cell_type": "code",
   "execution_count": null,
   "id": "367869f0-b3f3-45dc-93dc-63416feb0781",
   "metadata": {},
   "outputs": [],
   "source": [
    "len(asins)"
   ]
  },
  {
   "cell_type": "code",
   "execution_count": null,
   "id": "76d4c9cf-84ee-4d19-aaa5-47f58857fc0c",
   "metadata": {},
   "outputs": [],
   "source": [
    "class Counter:\n",
    "    \"\"\" A simple class to manage an incrementing counter \"\"\"\n",
    "    n = 0\n",
    "\n",
    "    def __init__(self):\n",
    "        self.n = 0\n",
    "\n",
    "    def increment(self):\n",
    "        self.n += 1\n",
    "        return self.n\n",
    "\n",
    "    def add(self, x):\n",
    "        self.n += x\n",
    "        return self.n\n",
    "\n",
    "from dask.distributed import Client          # Start a Dask Client\n",
    "client = Client()\n",
    "\n",
    "future = client.submit(Counter, actor=True)  # Create a Counter on a worker\n",
    "counter = future.result()                    # Get back a pointer to that object\n",
    "\n",
    "counter\n",
    "# <Actor: Counter, key=Counter-1234abcd>\n",
    "\n",
    "future = counter.increment()                 # Call remote method\n",
    "future.result()                              # Get back result\n",
    "# 1\n",
    "\n",
    "future = counter.add(10)                     # Call remote method\n",
    "future.result()            "
   ]
  },
  {
   "cell_type": "code",
   "execution_count": null,
   "id": "1a2b6449-0b8d-4c84-9199-6a39a01ed377",
   "metadata": {},
   "outputs": [],
   "source": [
    "future = counter.add(10)                     # Call remote method\n",
    "future.result()        "
   ]
  },
  {
   "cell_type": "code",
   "execution_count": null,
   "id": "c9bd6c7b-5e28-4b2e-99c8-6d6a9fc3d8ba",
   "metadata": {},
   "outputs": [],
   "source": [
    "beauty_ddf.head()"
   ]
  },
  {
   "cell_type": "code",
   "execution_count": null,
   "id": "53af9335-ebfa-45a9-8434-4290997ca62f",
   "metadata": {},
   "outputs": [],
   "source": [
    "beauty_ddf.overall.sum().compute()"
   ]
  },
  {
   "cell_type": "markdown",
   "id": "da1d839a-dc96-428f-83c9-c028080e46fd",
   "metadata": {
    "tags": []
   },
   "source": [
    "### Load Graph"
   ]
  },
  {
   "cell_type": "code",
   "execution_count": null,
   "id": "d2fa0f63-7d4d-4b89-8c00-f627a517fc7b",
   "metadata": {},
   "outputs": [],
   "source": [
    "rc=remote.Client()\n",
    "rc.server_version\n"
   ]
  },
  {
   "cell_type": "code",
   "execution_count": null,
   "id": "7a7114e8-eace-4d6f-86ff-42775da9257f",
   "metadata": {},
   "outputs": [],
   "source": [
    "from katana.remote import import_data\n",
    "from dask.dataframe import from_pandas\n",
    "import re\n"
   ]
  },
  {
   "cell_type": "code",
   "execution_count": null,
   "id": "16da3242-2f8a-45a0-ba68-edf432e502f3",
   "metadata": {},
   "outputs": [],
   "source": []
  },
  {
   "cell_type": "code",
   "execution_count": null,
   "id": "d44a87d9-f116-4799-914f-51d694388e41",
   "metadata": {},
   "outputs": [],
   "source": [
    "data = [['tom', '1'], ['nick', '2'], ['juli', '3']]\n",
    "knows = [['1','2'],['2','3']]\n",
    "# Create the pandas DataFrame\n",
    "df = pd.DataFrame(data, columns=['Name', 'ID'])\n",
    "df=df.astype({'Name': 'str'}, {'ID':'str'})\n",
    "\n",
    "e_df=pd.DataFrame(knows, columns=['START_ID', 'END_ID'])\n",
    "\n",
    "names_ddf = from_pandas(df, npartitions=1)\n",
    "edge_ddf = from_pandas(e_df, npartitions = 1)\n",
    "print(len(names_ddf))"
   ]
  },
  {
   "cell_type": "code",
   "execution_count": null,
   "id": "2b7a23d9-7de3-43f5-9326-49efb99bf49c",
   "metadata": {},
   "outputs": [],
   "source": [
    "names_ddf = names_ddf.astype('string')\n",
    "edge_ddf = edge_ddf.astype('string')\n",
    "names_ddf.dtypes"
   ]
  },
  {
   "cell_type": "code",
   "execution_count": null,
   "id": "1f915faa-48e4-4924-af53-f435ebd8e1d8",
   "metadata": {},
   "outputs": [],
   "source": [
    "edge_ddf.dtypes"
   ]
  },
  {
   "cell_type": "code",
   "execution_count": null,
   "id": "cbe38794-bd3b-4b01-b065-207f6bc250c9",
   "metadata": {},
   "outputs": [],
   "source": [
    "names_ddf.head()"
   ]
  },
  {
   "cell_type": "code",
   "execution_count": null,
   "id": "5bb1c6d5-ca0e-42e3-b8d8-755d1d6cffbe",
   "metadata": {},
   "outputs": [],
   "source": [
    "edge_ddf.head()"
   ]
  },
  {
   "cell_type": "code",
   "execution_count": null,
   "id": "f35d9f04-ce9e-4791-a562-aa2f9571db3a",
   "metadata": {},
   "outputs": [],
   "source": [
    "graph = rc.create_graph(num_partitions=1)\n",
    "graph.graph_id\n",
    "with import_data.DataFrameImporter(graph) as df_importer:\n",
    "    df_importer.nodes_dataframe(names_ddf, id_column=\"ID\", id_space='PERSON', label='PERSON')\n",
    "    df_importer.edges_dataframe(edge_ddf, source_column='START_ID', destination_column='END_ID',source_id_space='PERSON', destination_id_space='PERSON', type='KNOWS')"
   ]
  },
  {
   "cell_type": "code",
   "execution_count": null,
   "id": "3fed6b7f-f8f4-4ae6-a21a-0067a24b9202",
   "metadata": {},
   "outputs": [],
   "source": [
    "qry = \"match(a) return a\"\n",
    "result = graph.query(qry,contextualize=True)\n",
    "result.view()"
   ]
  },
  {
   "cell_type": "code",
   "execution_count": null,
   "id": "446f6642-31c2-436e-b495-106a60ffa618",
   "metadata": {},
   "outputs": [],
   "source": []
  }
 ],
 "metadata": {
  "kernelspec": {
   "display_name": "Python 3 (ipykernel)",
   "language": "python",
   "name": "python3"
  },
  "language_info": {
   "codemirror_mode": {
    "name": "ipython",
    "version": 3
   },
   "file_extension": ".py",
   "mimetype": "text/x-python",
   "name": "python",
   "nbconvert_exporter": "python",
   "pygments_lexer": "ipython3",
   "version": "3.8.13"
  }
 },
 "nbformat": 4,
 "nbformat_minor": 5
}
