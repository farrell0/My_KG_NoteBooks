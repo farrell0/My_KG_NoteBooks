{
 "cells": [
  {
   "cell_type": "markdown",
   "id": "3ab7ce90-67cf-462c-94a6-3c8c9d0754b3",
   "metadata": {},
   "source": [
    "# Setup: Connectivity"
   ]
  },
  {
   "cell_type": "code",
   "execution_count": 1,
   "id": "e87b75ba-c072-4111-8cca-4b4f394a0fce",
   "metadata": {},
   "outputs": [
    {
     "data": {
      "text/html": [],
      "text/plain": [
       "<IPython.core.display.HTML object>"
      ]
     },
     "metadata": {},
     "output_type": "display_data"
    },
    {
     "name": "stdout",
     "output_type": "stream",
     "text": [
      "My Client: <katana_enterprise.remote.sync_wrappers.Client object at 0x7fec126e1190>\n",
      "My Graph:  <_Graph my_graph, 9XsFVxEtTWkJCWAKvVVGUuAzf2J6xyG22QMsWB1WYB9a, 4>\n",
      "\n"
     ]
    }
   ],
   "source": [
    "\n",
    "from katana import remote\n",
    "   #\n",
    "from IPython.display import display\n",
    "from ipywidgets import Layout, Textarea, VBox\n",
    "   #\n",
    "from libraries.SupportFor34 import f_init, f_enrich\n",
    "    \n",
    "    \n",
    "my_client, my_graph = f_init()\n",
    "\n",
    "\n",
    "print(\"My Client: %s\" % (my_client))\n",
    "print(\"My Graph:  %s\" % (my_graph ))\n",
    "   #\n",
    "print()\n"
   ]
  },
  {
   "cell_type": "markdown",
   "id": "4ec1c889-3b18-44f7-adcf-b9b5eca13dd5",
   "metadata": {},
   "source": [
    "#  Step 01: Enter a new Medical Description"
   ]
  },
  {
   "cell_type": "code",
   "execution_count": 2,
   "id": "9b760cd1-9e7a-47c4-96c7-13e6f70b1acb",
   "metadata": {},
   "outputs": [
    {
     "data": {
      "application/vnd.jupyter.widget-view+json": {
       "model_id": "9dea07f582f64f86b19fa54f92899da7",
       "version_major": 2,
       "version_minor": 0
      },
      "text/plain": [
       "Textarea(value='', description='Enter Text: ', layout=Layout(flex='0 1 auto', height='100px', min_height='100p…"
      ]
     },
     "metadata": {},
     "output_type": "display_data"
    }
   ],
   "source": [
    "\n",
    "#  Create a text entry area\n",
    "#\n",
    "\n",
    "l_layout   = Layout(flex = \"0 1 auto\", height = \"100px\", min_height = \"100px\", width = \"auto\")\n",
    "l_text01   = Textarea(value=\"\", layout = l_layout, description = \"Enter Text: \")\n",
    "   #\n",
    "l_vbox     = VBox([l_text01], layout = Layout(flex = \"1 1 auto\", width = \"auto\"))\n",
    "display(l_text01)\n"
   ]
  },
  {
   "cell_type": "code",
   "execution_count": 3,
   "id": "16658063-7b08-4f33-963b-110708e50567",
   "metadata": {},
   "outputs": [
    {
     "ename": "UnboundLocalError",
     "evalue": "local variable 'l_uniqkey' referenced before assignment",
     "output_type": "error",
     "traceback": [
      "\u001b[0;31m---------------------------------------------------------------------------\u001b[0m",
      "\u001b[0;31mUnboundLocalError\u001b[0m                         Traceback (most recent call last)",
      "Cell \u001b[0;32mIn [3], line 4\u001b[0m\n\u001b[1;32m      1\u001b[0m \u001b[38;5;66;03m#  Enrich/decode text entry from above\u001b[39;00m\n\u001b[1;32m      2\u001b[0m \u001b[38;5;66;03m#\u001b[39;00m\n\u001b[0;32m----> 4\u001b[0m l_return \u001b[38;5;241m=\u001b[39m \u001b[43mf_enrich\u001b[49m\u001b[43m(\u001b[49m\u001b[43ml_text01\u001b[49m\u001b[38;5;241;43m.\u001b[39;49m\u001b[43mvalue\u001b[49m\u001b[43m)\u001b[49m\n\u001b[1;32m      6\u001b[0m display(l_return)\n",
      "File \u001b[0;32m~/work/My_KG_NoteBooks/P1_Prospects/13_DataBricks_Google/libraries/SupportFor34.py:320\u001b[0m, in \u001b[0;36mf_enrich\u001b[0;34m(i_arg1)\u001b[0m\n\u001b[1;32m    316\u001b[0m \u001b[38;5;28;01mexcept\u001b[39;00m:\n\u001b[1;32m    317\u001b[0m    l_data_asjson \u001b[38;5;241m=\u001b[39m \u001b[38;5;28;01mNone\u001b[39;00m\n\u001b[0;32m--> 320\u001b[0m l_uniqkey \u001b[38;5;241m+\u001b[39m\u001b[38;5;241m=\u001b[39m \u001b[38;5;241m1\u001b[39m\n\u001b[1;32m    321\u001b[0m    \u001b[38;5;66;03m#\u001b[39;00m\n\u001b[1;32m    322\u001b[0m l_df1, l_df2, l_fg3, l_df4, l_df5, l_df6 \u001b[38;5;241m=\u001b[39m f_ready_for_graph_int(l_data_asjson, \u001b[38;5;124m\"\u001b[39m\u001b[38;5;124mPV-\u001b[39m\u001b[38;5;124m\"\u001b[39m \u001b[38;5;241m+\u001b[39m \u001b[38;5;28mstr\u001b[39m(l_uniqkey))\n",
      "\u001b[0;31mUnboundLocalError\u001b[0m: local variable 'l_uniqkey' referenced before assignment"
     ]
    }
   ],
   "source": [
    "\n",
    "#  Enrich/decode text entry from above\n",
    "#\n",
    "\n",
    "l_return = f_enrich(l_text01.value)\n",
    "\n",
    "display(l_return)\n"
   ]
  },
  {
   "cell_type": "code",
   "execution_count": null,
   "id": "73085108-3d24-4d66-bf9e-f7c98360a54e",
   "metadata": {},
   "outputs": [],
   "source": [
    "\n",
    "#  And present the graph for the above \n",
    "#\n",
    "\n"
   ]
  },
  {
   "cell_type": "code",
   "execution_count": null,
   "id": "6f708dd0-9620-459d-b5e5-d5a562768683",
   "metadata": {},
   "outputs": [],
   "source": []
  },
  {
   "cell_type": "code",
   "execution_count": null,
   "id": "92024417-6824-4c22-b554-b09866184afa",
   "metadata": {},
   "outputs": [],
   "source": []
  },
  {
   "cell_type": "code",
   "execution_count": null,
   "id": "63c91100-2973-4f3f-9f3e-a28b53a1da20",
   "metadata": {},
   "outputs": [],
   "source": [
    "\n",
    "#  Sample data from above,\n",
    "#\n",
    "#     200\n",
    "#     \n",
    "#     {\n",
    "#        \"entityMentions\": [\n",
    "#           {\n",
    "#              \"mentionId\": \"1\",\n",
    "#              \"type\": \"MEDICINE\",\n",
    "#              \"text\": {\n",
    "#                 \"content\": \"Insulin regimen\",\n",
    "#                 \"beginOffset\": 0\n",
    "#              },\n",
    "#              \"linkedEntities\": [\n",
    "#                 {\n",
    "#                    \"entityId\": \"UMLS/C0021641\"\n",
    "#                 },\n",
    "#                 {\n",
    "#                    \"entityId\": \"UMLS/C0795635\"\n",
    "#                 },\n",
    "#                 {\n",
    "#                    \"entityId\": \"UMLS/C1533581\"\n",
    "#                 },\n",
    "#                 {\n",
    "#                    \"entityId\": \"UMLS/C3537244\"\n",
    "#                 },\n",
    "#                 {\n",
    "#                    \"entityId\": \"UMLS/C3714501\"\n",
    "#                 }\n",
    "#              ],\n",
    "#              \"temporalAssessment\": {\n",
    "#                 \"value\": \"CURRENT\",\n",
    "#                 \"confidence\": 0.8573660850524902\n",
    "#              },\n",
    "#              \"certaintyAssessment\": {\n",
    "#                 \"value\": \"LIKELY\",\n",
    "#                 \"confidence\": 0.9751282930374146\n",
    "#              },\n",
    "#              \"subject\": {\n",
    "#                 \"value\": \"PATIENT\",\n",
    "#                 \"confidence\": 0.9995787739753723\n",
    "#              },\n",
    "#              \"confidence\": 0.6379408836364746\n",
    "#           },\n",
    "#           {\n",
    "#              \"mentionId\": \"2\",\n",
    "#              \"type\": \"MED_DOSE\",\n",
    "#              \"text\": {\n",
    "#                 \"content\": \"5 units\",\n",
    "#                 \"beginOffset\": 22\n",
    "#              },\n",
    "#              \"confidence\": 0.7443782091140747\n",
    "#           },\n",
    "#           {\n",
    "#              \"mentionId\": \"3\",\n",
    "#              \"type\": \"MED_ROUTE\",\n",
    "#              \"text\": {\n",
    "#                 \"content\": \"IV\",\n",
    "#                 \"beginOffset\": 30\n",
    "#              },\n",
    "#              \"linkedEntities\": [\n",
    "#                 {\n",
    "#                    \"entityId\": \"UMLS/C0348016\"\n",
    "#                 }\n",
    "#              ],\n",
    "#              \"confidence\": 0.779011607170105\n",
    "#           }\n",
    "#        ],\n",
    "#        \"entities\": [\n",
    "#           {\n",
    "#              \"entityId\": \"UMLS/C0021641\",\n",
    "#              \"preferredTerm\": \"Insulin\",\n",
    "#              \"vocabularyCodes\": [\n",
    "#                 \"FMA/83365\",\n",
    "#                 \"LNC/LA15805-7\",\n",
    "#                 \"LNC/LP14676-8\",\n",
    "#                 \"LNC/LP16325-0\",\n",
    "#                 \"LNC/LP32542-0\",\n",
    "#                 \"LNC/LP70329-5\",\n",
    "#                 \"LNC/MTHU002108\",\n",
    "#                 \"LNC/MTHU019392\",\n",
    "#                 \"MSH/D007328\",\n",
    "#                 \"MTH/NOCODE\"\n",
    "#              ]\n",
    "#           },\n",
    "#           {\n",
    "#              \"entityId\": \"UMLS/C0348016\",\n",
    "#              \"preferredTerm\": \"Intravenous\",\n",
    "#              \"vocabularyCodes\": [\n",
    "#                 \"LNC/LA9437-0\",\n",
    "#                 \"LNC/LP32453-0\",\n",
    "#                 \"MTH/NOCODE\",\n",
    "#                 \"NCI/C13346\"\n",
    "#              ]\n",
    "#           },\n",
    "#           {\n",
    "#              \"entityId\": \"UMLS/C0795635\",\n",
    "#              \"preferredTerm\": \"insulin, regular, human\",\n",
    "#              \"vocabularyCodes\": [\n",
    "#                 \"LNC/LP17001-6\",\n",
    "#                 \"MSH/D061386\",\n",
    "#                 \"MTH/NOCODE\",\n",
    "#                 \"NCI/C29125\",\n",
    "#                 \"RXNORM/253182\",\n",
    "#                 \"VANDF/4017559\",\n",
    "#                 \"VANDF/4017569\",\n",
    "#                 \"VANDF/4019786\"\n",
    "#              ]\n",
    "#           },\n",
    "#           {\n",
    "#              \"entityId\": \"UMLS/C1533581\",\n",
    "#              \"preferredTerm\": \"Therapeutic Insulin\",\n",
    "#              \"vocabularyCodes\": [\n",
    "#                 \"MTH/NOCODE\",\n",
    "#                 \"NCI/C581\"\n",
    "#              ]\n",
    "#           },\n",
    "#           {\n",
    "#              \"entityId\": \"UMLS/C3537244\",\n",
    "#              \"preferredTerm\": \"Insulins\",\n",
    "#              \"vocabularyCodes\": [\n",
    "#                 \"MSH/D061385\",\n",
    "#                 \"MTH/NOCODE\"\n",
    "#              ]\n",
    "#           },\n",
    "#           {\n",
    "#              \"entityId\": \"UMLS/C3714501\",\n",
    "#              \"preferredTerm\": \"Insulin Drug Class\",\n",
    "#              \"vocabularyCodes\": [\n",
    "#                 \"MTH/NOCODE\",\n",
    "#                 \"VANDF/4021631\"\n",
    "#              ]\n",
    "#           }\n",
    "#        ],\n",
    "#        \"relationships\": [\n",
    "#           {\n",
    "#              \"subjectId\": \"1\",\n",
    "#              \"objectId\": \"2\",\n",
    "#              \"confidence\": 0.9996469616889954\n",
    "#           },\n",
    "#           {\n",
    "#              \"subjectId\": \"1\",\n",
    "#              \"objectId\": \"3\",\n",
    "#              \"confidence\": 0.9995671510696411\n",
    "#           }\n",
    "#        ]\n",
    "#     }\n"
   ]
  },
  {
   "cell_type": "code",
   "execution_count": null,
   "id": "d033566d-939b-42d4-a930-565894e6c293",
   "metadata": {},
   "outputs": [],
   "source": []
  },
  {
   "cell_type": "code",
   "execution_count": null,
   "id": "d69cd6f3-c52c-434f-a74a-ee489796d2aa",
   "metadata": {},
   "outputs": [],
   "source": []
  }
 ],
 "metadata": {
  "kernelspec": {
   "display_name": "Python 3 (ipykernel)",
   "language": "python",
   "name": "python3"
  },
  "language_info": {
   "codemirror_mode": {
    "name": "ipython",
    "version": 3
   },
   "file_extension": ".py",
   "mimetype": "text/x-python",
   "name": "python",
   "nbconvert_exporter": "python",
   "pygments_lexer": "ipython3",
   "version": "3.8.13"
  }
 },
 "nbformat": 4,
 "nbformat_minor": 5
}
