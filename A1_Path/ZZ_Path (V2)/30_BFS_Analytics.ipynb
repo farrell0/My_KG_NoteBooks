{
 "cells": [
  {
   "cell_type": "markdown",
   "id": "fcb5bbbb-6a57-4388-aa7d-4a2413522df2",
   "metadata": {
    "tags": []
   },
   "source": [
    "#  Setup stuff: Connectivity"
   ]
  },
  {
   "cell_type": "code",
   "execution_count": null,
   "id": "aeeb0934-8e74-4a82-97e8-c671c4080769",
   "metadata": {},
   "outputs": [],
   "source": [
    "#  From,\n",
    "#\n",
    "#     https://github.com/KatanaGraph/katana-enterprise/blob/master/python/test/notebooks/red/analytics_remote.ipynb\n"
   ]
  },
  {
   "cell_type": "code",
   "execution_count": null,
   "id": "d8da6a5a-f2db-4177-b58f-4a5f77c6f69d",
   "metadata": {},
   "outputs": [],
   "source": [
    "\n",
    "#  Setting display options\n",
    "\n",
    "from tabulate import tabulate\n",
    "import pandas as pd\n",
    "   #\n",
    "pd.set_option(\"display.width\", 480)\n",
    "\n",
    "print(\"--\")\n"
   ]
  },
  {
   "cell_type": "code",
   "execution_count": null,
   "id": "55e90465-e651-45c0-94b2-1ce2cde47977",
   "metadata": {},
   "outputs": [],
   "source": [
    "\n",
    "from katana import remote\n",
    "from katana.remote import import_data\n",
    "\n",
    "my_client = remote.Client()\n",
    "\n",
    "print(my_client)\n"
   ]
  },
  {
   "cell_type": "code",
   "execution_count": null,
   "id": "04b19ed9-0238-4a6f-afd0-fa11a3b0328b",
   "metadata": {},
   "outputs": [],
   "source": [
    "NUM_PARTITIONS  = 3\n",
    "   #\n",
    "DB_NAME         = \"my_db\"\n",
    "GRAPH_NAME      = \"my_graph\"\n",
    "\n",
    "print(\"--\")\n"
   ]
  },
  {
   "cell_type": "code",
   "execution_count": null,
   "id": "60449360-363a-48ae-bd55-9527b880e3e5",
   "metadata": {},
   "outputs": [],
   "source": [
    "#  CONNECT TO GRAPH\n",
    "\n",
    "for l_graph in my_client.get_database(name=DB_NAME).graphs_in_database():\n",
    "   if (l_graph.name == GRAPH_NAME):\n",
    "      my_graph=my_client.get_database(name=DB_NAME).get_graph_by_id(id=l_graph.graph_id)\n",
    "         #\n",
    "      break\n",
    "\n",
    "print(my_graph)"
   ]
  },
  {
   "cell_type": "markdown",
   "id": "6b618690-f0b6-4701-9405-5c58574c1094",
   "metadata": {
    "tags": []
   },
   "source": [
    "#  Setup stuff: Debugging "
   ]
  },
  {
   "cell_type": "code",
   "execution_count": null,
   "id": "e23fc0d3-235c-435a-81ee-1bdf2353edc4",
   "metadata": {},
   "outputs": [],
   "source": [
    "#  LIST ALL GRAPHS\n",
    "\n",
    "for l_graph in my_client.graphs():\n",
    "   print(\"GRAPH ID: \", l_graph.graph_id, \"     DB GRAPH: \", l_graph.name, \"    GRAPH VERSION: \", l_graph.version)\n",
    "\n",
    "print(\"--\")\n"
   ]
  },
  {
   "cell_type": "code",
   "execution_count": null,
   "id": "d65b60c1-9e2a-42bd-a12a-2b81ea6e80c1",
   "metadata": {},
   "outputs": [],
   "source": [
    "display(my_graph.num_nodes())\n",
    "display(my_graph.num_edges())"
   ]
  },
  {
   "cell_type": "code",
   "execution_count": null,
   "id": "f8695e23-9a7f-4bce-bad9-f20bcc648846",
   "metadata": {},
   "outputs": [],
   "source": [
    "my_graph.query(\"CALL graph.schema() RETURN *\")\n"
   ]
  },
  {
   "cell_type": "code",
   "execution_count": null,
   "id": "6f889b20-f690-4b9d-bb3a-8d2d19f3ce5d",
   "metadata": {},
   "outputs": [],
   "source": [
    "my_client.widgets().operations()\n"
   ]
  },
  {
   "cell_type": "code",
   "execution_count": null,
   "id": "51601723-86db-4c46-895b-c4fd7ee078cc",
   "metadata": {},
   "outputs": [],
   "source": [
    "# ##################################################################"
   ]
  },
  {
   "cell_type": "code",
   "execution_count": null,
   "id": "61bfaff1-8478-4c7d-af83-39d03ff078ed",
   "metadata": {},
   "outputs": [],
   "source": [
    "\n",
    "l_result = my_graph.query(\"\"\"\n",
    "\n",
    "   MATCH (n) - [ r ] -> (m)\n",
    "   RETURN n, m, r\n",
    "   \n",
    "   \"\"\", contextualize=True)\n",
    "\n",
    "l_result.view()\n"
   ]
  },
  {
   "cell_type": "markdown",
   "id": "e2f0bfda-6092-4263-8857-c61af622908b",
   "metadata": {
    "tags": []
   },
   "source": [
    "#  Actual analytics .."
   ]
  },
  {
   "cell_type": "code",
   "execution_count": null,
   "id": "3ecba69c-0a0f-4a51-a02e-55973ec51242",
   "metadata": {},
   "outputs": [],
   "source": [
    "\n",
    "from katana import remote\n",
    "from katana.remote import analytics\n",
    "\n",
    "\n",
    "l_cntr = 0\n",
    "\n",
    "print(\"--\")\n"
   ]
  },
  {
   "cell_type": "code",
   "execution_count": null,
   "id": "dd06fe66-0a3b-4939-bdbf-4bdd2b3dd230",
   "metadata": {},
   "outputs": [],
   "source": [
    "\n",
    "l_source_nodeid       = \"2\"                        #  id of node to start on (this is SJC)\n",
    "\n",
    "l_max_iterations      = 10000 \n",
    "\n",
    "\n",
    "#  Generate a unique prop name so we can run this over and over without edit ..\n",
    "#\n",
    "l_cntr += 1\n",
    "   #\n",
    "l_output_propname     = \"sssp_dist_\" + str(l_cntr).zfill(4)\n",
    "\n",
    "\n",
    "analytics.bfs(\n",
    "   my_graph,\n",
    "   source               = l_source_nodeid,\n",
    "   max_iterations       = l_max_iterations,\n",
    "   result_property_name = l_output_propname,\n",
    "   )\n",
    "\n",
    "display(print(\"--\"))\n"
   ]
  },
  {
   "cell_type": "code",
   "execution_count": null,
   "id": "a91cd0a0-72a6-4c3d-8c8a-48d6eae59a4c",
   "metadata": {},
   "outputs": [],
   "source": [
    "l_result = my_graph.query(\n",
    "   \"\"\"\n",
    "   MATCH (n) \n",
    "   RETURN n\n",
    "   \"\"\" )\n",
    "# l_result.view()\n",
    "print(tabulate(l_result, headers='keys', tablefmt='psql'))\n"
   ]
  },
  {
   "cell_type": "code",
   "execution_count": null,
   "id": "051fc660-ea99-4f89-b4b3-0124afe73127",
   "metadata": {},
   "outputs": [],
   "source": [
    "l_result = my_graph.query(\n",
    "   \"\"\"\n",
    "   MATCH (n) - [r] -> (m)\n",
    "   RETURN r\n",
    "   \"\"\" )\n",
    "l_result.view()\n",
    "\n",
    "\n",
    "#  Graph loaded, but before running sssp() \n",
    "#     (This is correct)\n",
    "#\n",
    "#  r.end.id     r.end.labels    r.internal_id   r.label     r.DISTANCE  r.NUM_HOPS  r.start.id  r.start.labels  r.type\n",
    "#  0            ['Airport']     1               FLIES_TO      66        1           1           ['Airport']     edge\n",
    "#  1            ['Airport']     0               FLIES_TO      66        1           0           ['Airport']     edge\n",
    "#\n",
    "#  3            ['Airport']     2               FLIES_TO     886        1           1           ['Airport']     edge\n",
    "#  1            ['Airport']     5               FLIES_TO     886        1           3           ['Airport']     edge\n",
    "#\n",
    "#  2            ['Airport']     6               FLIES_TO     948        1           3           ['Airport']     edge\n",
    "#  3            ['Airport']     3               FLIES_TO     948        1           2           ['Airport']     edge\n",
    "#\n",
    "#  1            ['Airport']     4               FLIES_TO    1829        1           2           ['Airport']     edge\n",
    "\n",
    "#  Graph loaded, after running sssp() \n",
    "#     (This is not correct)\n",
    "#\n",
    "#  r.end.id     r.end.labels    r.internal_id   r.label     r.DISTANCE  r.NUM_HOPS  r.start.id  r.start.labels  r.type\n",
    "#  1            ['Airport']     0               FLIES_TO      66        1           0           ['Airport']     edge\n",
    "#  0            ['Airport']     1               FLIES_TO      66        1           1           ['Airport']     edge\n",
    "#\n",
    "#  3            ['Airport']     2               FLIES_TO     886        1           1           ['Airport']     edge\n",
    "#  1            ['Airport']     5               FLIES_TO     886        1           3           ['Airport']     edge\n",
    "#\n",
    "#  2            ['Airport']     6               FLIES_TO     948        1           3           ['Airport']     edge         #  This data is now wrong\n",
    "#  1            ['Airport']     3               FLIES_TO     948        1           2           ['Airport']     edge         #  This data is now wrong\n",
    "#\n",
    "#  3            ['Airport']     4               FLIES_TO    1829        1           2           ['Airport']     edge         #  This data is now wrong\n",
    "\n"
   ]
  },
  {
   "cell_type": "code",
   "execution_count": null,
   "id": "d22b92c3-8c94-4742-9d71-3570db6a59b3",
   "metadata": {},
   "outputs": [],
   "source": [
    "l_result = my_graph.query(\n",
    "   \"\"\"\n",
    "   MATCH (n) - [r] -> (m)\n",
    "   RETURN n, r, m\n",
    "   \"\"\" ,\n",
    "   contextualize=True,\n",
    "   )\n",
    "l_result.view()\n"
   ]
  },
  {
   "cell_type": "code",
   "execution_count": null,
   "id": "1116bc8f-f2cc-4e02-a673-1d6bab75ab37",
   "metadata": {},
   "outputs": [],
   "source": []
  }
 ],
 "metadata": {
  "kernelspec": {
   "display_name": "Python 3 (ipykernel)",
   "language": "python",
   "name": "python3"
  },
  "language_info": {
   "codemirror_mode": {
    "name": "ipython",
    "version": 3
   },
   "file_extension": ".py",
   "mimetype": "text/x-python",
   "name": "python",
   "nbconvert_exporter": "python",
   "pygments_lexer": "ipython3",
   "version": "3.8.13"
  }
 },
 "nbformat": 4,
 "nbformat_minor": 5
}
