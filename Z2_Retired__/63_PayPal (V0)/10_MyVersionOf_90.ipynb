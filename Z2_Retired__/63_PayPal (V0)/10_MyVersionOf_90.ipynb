{
 "cells": [
  {
   "cell_type": "markdown",
   "id": "a51a430b-2afa-48b5-8d45-8bbccb7c1a07",
   "metadata": {},
   "source": [
    "#  Connectivity .."
   ]
  },
  {
   "cell_type": "code",
   "execution_count": null,
   "id": "e87b75ba-c072-4111-8cca-4b4f394a0fce",
   "metadata": {},
   "outputs": [],
   "source": [
    "import os\n",
    "\n",
    "from katana import remote\n",
    "\n",
    "os.environ[\"KATANA_SERVER_ADDRESS\"] = \"localhost:8080\"\n",
    "\n",
    "my_client = remote.Client()\n",
    "\n",
    "print(my_client)"
   ]
  },
  {
   "cell_type": "code",
   "execution_count": null,
   "id": "d3a77f99-f11b-4105-ab43-17ce605b15e8",
   "metadata": {},
   "outputs": [],
   "source": [
    "DB_NAME    = \"my_db\"\n",
    "GRAPH_NAME = \"my_graph\"\n",
    "\n",
    "print(\"--\")"
   ]
  },
  {
   "cell_type": "code",
   "execution_count": null,
   "id": "1fbfbd16-b660-4811-9daa-86cb0956fd24",
   "metadata": {},
   "outputs": [],
   "source": [
    "# ##################################################################"
   ]
  },
  {
   "cell_type": "code",
   "execution_count": null,
   "id": "7f2292b8-7df0-49a0-b3da-523f56cfe4f8",
   "metadata": {},
   "outputs": [],
   "source": [
    "#  DELETE ALL GRAPHS\n",
    "\n",
    "for l_database in my_client.databases():\n",
    "   for l_graph in my_client.get_database(name=l_database.name).graphs_in_database():\n",
    "      l_handle=my_client.get_database(name=l_database.name).get_graph_by_id(id=l_graph.graph_id)\n",
    "      l_handle.delete()\n",
    "\n",
    "for l_graph in my_client.graphs():\n",
    "   print(\"GRAPH ID: \", l_graph.graph_id, \"      GRAPH Version: \", l_graph.version)\n",
    "\n",
    "print(\"--\")"
   ]
  },
  {
   "cell_type": "code",
   "execution_count": null,
   "id": "71f69a0e-451b-4679-b49c-5db1208d4c8f",
   "metadata": {},
   "outputs": [],
   "source": [
    "#  DELETE ALL DATABASES\n",
    "\n",
    "for l_database in my_client.databases():\n",
    "   if (l_database.name != \"default\"):\n",
    "      my_client.get_database(name=l_database.name).delete_database()\n",
    "      print(\"--\")\n",
    "\n",
    "for l_database in my_client.databases():\n",
    "   print(\"DB ID: \", l_database.database_id, \"     DB Name: \", l_database.name)"
   ]
  },
  {
   "cell_type": "code",
   "execution_count": null,
   "id": "a3b3bc00-fafb-481d-ba5a-8b52ae7d6e79",
   "metadata": {},
   "outputs": [],
   "source": [
    "#  CREATE DATABASE\n",
    "\n",
    "my_database = my_client.create_database(name=DB_NAME)\n",
    "\n",
    "print(my_database.database_id)"
   ]
  },
  {
   "cell_type": "code",
   "execution_count": null,
   "id": "b8ba088b-2ec5-4b2a-8171-3c87ddffb47c",
   "metadata": {},
   "outputs": [],
   "source": [
    "#  CREATE GRAPH\n",
    "#\n",
    "my_graph = my_client.get_database(name=DB_NAME).create_graph(name=GRAPH_NAME, num_partitions=6)\n",
    "\n",
    "print(my_graph)"
   ]
  },
  {
   "cell_type": "code",
   "execution_count": null,
   "id": "3cb35b46-a00a-43e5-87b6-ab3690c7d026",
   "metadata": {},
   "outputs": [],
   "source": [
    "#  CONNECT TO GRAPH\n",
    "\n",
    "for l_graph in my_client.get_database(name=DB_NAME).graphs_in_database():\n",
    "   if (l_graph.name == GRAPH_NAME):\n",
    "      my_graph=my_client.get_database(name=DB_NAME).get_graph_by_id(id=l_graph.graph_id)\n",
    "         #\n",
    "      break\n",
    "\n",
    "# my_graph, *_ = my_client.get_database(name=DB_NAME).find_graphs_by_name(GRAPH_NAME)\n",
    "\n",
    "print(my_graph)"
   ]
  },
  {
   "cell_type": "code",
   "execution_count": null,
   "id": "c0e62ff1-c617-4542-9697-b5c4fbd2f464",
   "metadata": {},
   "outputs": [],
   "source": [
    "# ##################################################################"
   ]
  },
  {
   "cell_type": "code",
   "execution_count": null,
   "id": "d0e60462-eef6-46ca-a54e-34a3d618227f",
   "metadata": {},
   "outputs": [],
   "source": [
    "\n",
    "from katana_enterprise.client.rest.v2 import client\n",
    "\n",
    "# Adjust the number of rows (None: no limit) to limit the result set size.\n",
    "#\n",
    "my_client.Limits.set_max_operation_result_rows(10)\n",
    "\n",
    "\n",
    "#  ---------------------------------------------------------------------------\n",
    "#  ModuleNotFoundError                       Traceback (most recent call last)\n",
    "#  Input In [12], in <cell line: 1>()\n",
    "#  ----> 1 from katana_enterprise.client.rest.v2 import client\n",
    "#        3 ## Adjust the number of rows (None: no limit) to limit the result set size.\n",
    "#        4 my_client.Limits.set_max_operation_result_rows(10)\n",
    "#  \n",
    "#  ModuleNotFoundError: No module named 'katana_enterprise.client'\n"
   ]
  },
  {
   "cell_type": "markdown",
   "id": "3ed96524-6769-44c4-862c-f9fc18f9a90a",
   "metadata": {},
   "source": [
    "#  Load graph .."
   ]
  },
  {
   "cell_type": "code",
   "execution_count": null,
   "id": "b8825d6b-4951-4bb9-b5b9-1bd608fadcd2",
   "metadata": {},
   "outputs": [],
   "source": [
    "\n",
    "from katana.remote import import_data\n",
    "\n",
    "import_data.csv(\n",
    "   my_graph,\n",
    "      #     \n",
    "   input_node_path   = \"gs://katana-demo-datasets/csv-datasets/social/mapping_files/node_list_2M_full.txt\",\n",
    "   input_edge_path   = \"gs://katana-demo-datasets/csv-datasets/social/mapping_files/edge_list_2M_full.txt\",\n",
    "   input_dir         = \"gs://katana-demo-datasets/csv-datasets/social/csv/2M\",\n",
    "      #     \n",
    "   data_delimiter    = \"|\",\n",
    "   schema_delimiter  = \"|\",\n",
    "      #     \n",
    "   ids_are_integers  = True,\n",
    "   )\n",
    "\n",
    "#  import_data.csv(\n",
    "#     my_graph,\n",
    "#        #\n",
    "#     input_node_path   = \"gs://katana-demo-datasets/csv-datasets/social/mapping_files/node_list_blacklist0.01.txt\",\n",
    "#     input_edge_path   = \"gs://katana-demo-datasets/csv-datasets/social/mapping_files/edge_list_full.txt\",\n",
    "#     input_dir         = \"gs://katana-demo-datasets/csv-datasets/social/csv/100_Million\",\n",
    "#        #\n",
    "#     data_delimiter    = \"|\",\n",
    "#     schema_delimiter  = \"|\",\n",
    "#        #\n",
    "#     ids_are_integers  = True,\n",
    "#     )\n",
    "\n",
    "print(\"--\")\n"
   ]
  },
  {
   "cell_type": "code",
   "execution_count": null,
   "id": "0dbab9aa-2466-4944-bd50-db4aaa21254a",
   "metadata": {},
   "outputs": [],
   "source": [
    "# ##################################################################"
   ]
  },
  {
   "cell_type": "code",
   "execution_count": null,
   "id": "9cdf1e09-6999-42e6-afe5-d6a930d1a4dc",
   "metadata": {},
   "outputs": [],
   "source": [
    "display(my_graph.num_nodes())\n",
    "display(my_graph.num_edges())"
   ]
  },
  {
   "cell_type": "code",
   "execution_count": null,
   "id": "47d394c4-56ae-4dac-bfbc-bd55985c1b22",
   "metadata": {},
   "outputs": [],
   "source": [
    "# my_graph.query(\"CALL graph.schema() RETURN *\")\n"
   ]
  },
  {
   "cell_type": "code",
   "execution_count": 9,
   "id": "7fc0408d-5a6c-4afb-bd3b-bc0a022282df",
   "metadata": {},
   "outputs": [
    {
     "data": {
      "application/vnd.jupyter.widget-view+json": {
       "model_id": "a2a90c341ee148fc8498a65ac3be53fd",
       "version_major": 2,
       "version_minor": 0
      },
      "text/plain": [
       "          0/? [?op/s]"
      ]
     },
     "metadata": {},
     "output_type": "display_data"
    },
    {
     "name": "stdout",
     "output_type": "stream",
     "text": [
      "       cnt    label\n",
      "0  2000000  Account\n"
     ]
    },
    {
     "data": {
      "text/plain": [
       "None"
      ]
     },
     "metadata": {},
     "output_type": "display_data"
    },
    {
     "data": {
      "application/vnd.jupyter.widget-view+json": {
       "model_id": "5005ba4aa3a74e7f9eabac3bec7b6da4",
       "version_major": 2,
       "version_minor": 0
      },
      "text/plain": [
       "          0/? [?op/s]"
      ]
     },
     "metadata": {},
     "output_type": "display_data"
    },
    {
     "name": "stdout",
     "output_type": "stream",
     "text": [
      "         temp   tempCnt\n",
      "0   AssetConA   9803020\n",
      "1   AssetConB  20897164\n",
      "2  FriendConA   4503130\n",
      "3  FriendConB   5799680\n"
     ]
    },
    {
     "data": {
      "text/plain": [
       "None"
      ]
     },
     "metadata": {},
     "output_type": "display_data"
    }
   ],
   "source": [
    "l_result1 = my_graph.query(\"\"\"\n",
    "\n",
    "   MATCH (a) WITH DISTINCT LABELS(a) AS temp, COUNT(a) AS tempCnt\n",
    "   UNWIND temp AS label\n",
    "   RETURN label, SUM(tempCnt) AS cnt\n",
    "   ORDER BY label\n",
    "   \n",
    "   \"\"\")\n",
    "\n",
    "display(print(l_result1))\n",
    "\n",
    "l_result2 = my_graph.query(\"\"\"\n",
    "\n",
    "   MATCH (m)-[r]->(n) \n",
    "   WITH DISTINCT TYPE(r) AS temp, COUNT(r) AS tempCnt\n",
    "   RETURN temp, tempCnt\n",
    "   ORDER BY temp\n",
    "\n",
    "   \"\"\")\n",
    "\n",
    "display(print(l_result2))"
   ]
  },
  {
   "cell_type": "code",
   "execution_count": 10,
   "id": "d1642289-d73a-4037-b806-ba37f53bf090",
   "metadata": {},
   "outputs": [
    {
     "data": {
      "application/vnd.jupyter.widget-view+json": {
       "model_id": "361a28c2ac804497ab308cf837a59f76",
       "version_major": 2,
       "version_minor": 0
      },
      "text/plain": [
       "          0/? [?op/s]"
      ]
     },
     "metadata": {},
     "output_type": "display_data"
    },
    {
     "data": {
      "application/vnd.jupyter.widget-view+json": {
       "model_id": "325d3387b0bb4c3d83464f0d381f7e09",
       "version_major": 2,
       "version_minor": 0
      },
      "text/plain": [
       "          0/? [?op/s]"
      ]
     },
     "metadata": {},
     "output_type": "display_data"
    },
    {
     "data": {
      "application/vnd.jupyter.widget-view+json": {
       "model_id": "de437677bc104375bd1317f938a14205",
       "version_major": 2,
       "version_minor": 0
      },
      "text/plain": [
       "VBox(children=(HTML(value='\\n                <style>\\n                #jp-main-content-panel .widget-container…"
      ]
     },
     "metadata": {},
     "output_type": "display_data"
    }
   ],
   "source": [
    "\n",
    "l_result = my_graph.query(\"\"\"\n",
    "\n",
    "   MATCH (n) - [ r ] -> (m)\n",
    "   RETURN n, m, r\n",
    "   LIMIT 1000\n",
    "   \n",
    "   \"\"\", contextualize=True)\n",
    "\n",
    "l_result.view()\n"
   ]
  },
  {
   "cell_type": "markdown",
   "id": "2f9477e5-7e8a-4df8-b1c6-b21918de8028",
   "metadata": {},
   "source": [
    "# Analytics .."
   ]
  },
  {
   "cell_type": "code",
   "execution_count": 11,
   "id": "7a2432a2-a961-4539-91c6-9cffd050b878",
   "metadata": {},
   "outputs": [
    {
     "data": {
      "application/vnd.jupyter.widget-view+json": {
       "model_id": "1168006b67bf4b2d99b4f5b6e3ffab62",
       "version_major": 2,
       "version_minor": 0
      },
      "text/plain": [
       "          0/? [?op/s]"
      ]
     },
     "metadata": {},
     "output_type": "display_data"
    },
    {
     "data": {
      "application/vnd.jupyter.widget-view+json": {
       "model_id": "edcb83a5bbf740cdb9300152e214eb41",
       "version_major": 2,
       "version_minor": 0
      },
      "text/plain": [
       "GridBox(children=(HBox(children=(Text(value='', placeholder='Search...'), Label(value='Count: 100 rows'), HBox…"
      ]
     },
     "metadata": {},
     "output_type": "display_data"
    }
   ],
   "source": [
    "\n",
    "l_result = my_graph.query(\"\"\"\n",
    "\n",
    "   MATCH (acct1) - [ :FriendConB ] -> (acct2) - [ :FriendConB ] -> (acct3)\n",
    "   WHERE \n",
    "      (acct3.userIsBlacklisted=\"Y\" OR acct3.userIsSuspended=\"Y\")\n",
    "      AND NOT (acct1)-->(acct3)\n",
    "      \n",
    "   RETURN acct1.id, count(acct3) \n",
    "   LIMIT 100\n",
    "\n",
    "   \"\"\")\n",
    "\n",
    "# print(l_result)\n",
    "   #\n",
    "l_result.table()\n"
   ]
  },
  {
   "cell_type": "code",
   "execution_count": null,
   "id": "8763ec8f-0778-47ef-af09-d4d112ec88b2",
   "metadata": {},
   "outputs": [],
   "source": []
  },
  {
   "cell_type": "code",
   "execution_count": null,
   "id": "bddeead2-a75f-4c1d-9f77-35ef8d1076af",
   "metadata": {},
   "outputs": [],
   "source": []
  }
 ],
 "metadata": {
  "kernelspec": {
   "display_name": "Python 3 (ipykernel)",
   "language": "python",
   "name": "python3"
  },
  "language_info": {
   "codemirror_mode": {
    "name": "ipython",
    "version": 3
   },
   "file_extension": ".py",
   "mimetype": "text/x-python",
   "name": "python",
   "nbconvert_exporter": "python",
   "pygments_lexer": "ipython3",
   "version": "3.8.13"
  }
 },
 "nbformat": 4,
 "nbformat_minor": 5
}
