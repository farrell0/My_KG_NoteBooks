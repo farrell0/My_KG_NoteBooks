{
 "cells": [
  {
   "cell_type": "markdown",
   "id": "77e5d1a7-5222-4445-ac81-d1c8b6cdb767",
   "metadata": {},
   "source": [
    "#  Must run file 14* first, which sets up MongoDB"
   ]
  },
  {
   "cell_type": "code",
   "execution_count": null,
   "id": "dbea48c9-6a84-40bd-b782-41b5768e4a25",
   "metadata": {},
   "outputs": [],
   "source": [
    "\n",
    "#  From,\n",
    "#\n",
    "#     https://www.kaggle.com/code/inversion/processing-bson-files/notebook\n",
    "\n",
    "\n",
    "import bson                            # this is installed with the pymongo package\n",
    "\n",
    "print(\"--\")\n"
   ]
  },
  {
   "cell_type": "code",
   "execution_count": null,
   "id": "48cac882-1aeb-44b8-a21b-306a025ba715",
   "metadata": {},
   "outputs": [],
   "source": [
    "\n",
    "#  Read BSON file, output results ..\n",
    "\n",
    "l_file = bson.decode_file_iter(open('./06_BsonData/users.bson', 'rb'))\n",
    "   #\n",
    "l_cntr = 0\n",
    "\n",
    "for c, d in enumerate(l_file):\n",
    "   l_id        = d[\"_id\"]\n",
    "   l_name      = d[\"name\"]\n",
    "   l_email     = d[\"email\"]\n",
    "   l_password  = d[\"password\"]\n",
    "  \n",
    "   l_cntr += 1\n",
    "      #\n",
    "   if (l_cntr < 50):\n",
    "      print(\"%-32s  %-18s  %-48s  %-s\" % (l_id, l_name, l_email, l_password))\n",
    "\n",
    "print(\"--\")\n"
   ]
  },
  {
   "cell_type": "code",
   "execution_count": null,
   "id": "4f0eb29e-c47c-46bb-84aa-c0e8e6facefe",
   "metadata": {},
   "outputs": [],
   "source": [
    "\n",
    "l_file = bson.decode_file_iter(open('./06_BsonData/movies.bson', 'rb'))\n",
    "   #\n",
    "l_cntr = 0\n",
    "\n",
    "for c, d in enumerate(l_file):\n",
    "   l_id                 = d[\"_id\"]\n",
    "   #  l_plot               = d[\"plot\"]                                    #  Mongo offers jagged rows (not all rows have every column)\n",
    "   #  l_genres             = d[\"genres\"]                                  #\n",
    "   #  l_runtime            = d[\"runtime\"]                                 #  For ease, we skip these columns not found in every row\n",
    "   #  l_cast               = d[\"cast\"]\n",
    "   #  l_num_mflix_comments = d[\"num_mflix_comments\"]\n",
    "   l_title              = d[\"title\"]\n",
    "   #  l_fullplot           = d[\"fullplot\"]\n",
    "   #  l_countries          = d[\"countries\"]\n",
    "   #  l_released           = d[\"released\"]\n",
    "   #  l_directors          = d[\"directors\"]\n",
    "   #  l_rated              = d[\"rated\"]\n",
    "   l_awards             = d[\"awards\"]\n",
    "   l_lastupdated        = d[\"lastupdated\"]\n",
    "   l_year               = d[\"year\"]\n",
    "   l_imdb               = d[\"imdb\"]\n",
    "   l_type               = d[\"type\"]\n",
    "   #  l_tomatoes           = d[\"tomatoes\"]\n",
    "      \n",
    "   l_cntr += 1\n",
    "      #\n",
    "   if (l_cntr < 50):\n",
    "      print(\"%-24s  %-48s  %-48s  %-s %-s %-32s %-s\" % (l_id, l_title[:48], l_awards, l_lastupdated, l_year, l_imdb, l_type))\n",
    "        \n",
    "\n",
    "print(\"--\")\n"
   ]
  },
  {
   "cell_type": "code",
   "execution_count": null,
   "id": "233f55eb-dd3b-47a1-b51d-094dfe090314",
   "metadata": {},
   "outputs": [],
   "source": [
    "\n",
    "l_file = bson.decode_file_iter(open('./06_BsonData/comments.bson', 'rb'))\n",
    "   #\n",
    "l_cntr = 0\n",
    "\n",
    "for c, d in enumerate(l_file):\n",
    "   l_id        = d[\"_id\"]\n",
    "   l_name      = d[\"name\"]\n",
    "   l_email     = d[\"email\"]\n",
    "   l_movie_id  = d[\"movie_id\"]\n",
    "   l_text      = d[\"text\"]\n",
    "   l_date      = d[\"date\"]\n",
    "\n",
    "   l_cntr += 1\n",
    "      #\n",
    "   if (l_cntr < 50):\n",
    "      print(\"%-32s  %-18s  %-48s  %-32s %-48s %-s\" % (l_id, l_name, l_email, l_movie_id, l_text[:48], l_date))\n",
    "\n",
    "print(\"--\")\n"
   ]
  },
  {
   "cell_type": "code",
   "execution_count": null,
   "id": "4d9688a3-ede4-4370-b05f-a38f5f97a6f4",
   "metadata": {},
   "outputs": [],
   "source": [
    "\n",
    "#  Theaters\n",
    "#  \n",
    "#  {\n",
    "#  \"_id\" : ObjectId(\"59a47286cfa9a3a73e51e72c\"), \n",
    "#  \"theaterId\" : 1000, \n",
    "#  \"location\" : {\n",
    "#     \"address\" : { \"street1\" : \"340 W Market\", \"city\" : \"Bloomington\", \"state\" : \"MN\", \"zipcode\" : \"55425\" },\n",
    "#     \"geo\" : { \"type\" : \"Point\", \"coordinates\" : [ -93.24565, 44.85466 ] }\n",
    "#     }\n",
    "#  }\n"
   ]
  },
  {
   "cell_type": "code",
   "execution_count": null,
   "id": "d8cb7f97-2281-4d14-af0e-fffc3d65af6e",
   "metadata": {},
   "outputs": [],
   "source": [
    "\n",
    "#  Sessions\n",
    "#\n",
    "#  {\n",
    "#  \"_id\" : ObjectId(\"5a97f9c91c807bb9c6eb5fb4\"), \n",
    "#  \"user_id\" : \"t3qulfeem@kwiv5.6ur\", \n",
    "#  \"jwt\" : \"eyJ0eXAiOiJKV1QiLCJhbGciOiJ  ...  bnVsbH19fQ.ejtr_NyZyBronWMKuE0RFTjWej--T0zGrdc_iymGtVs\"\n",
    "#  }\n"
   ]
  }
 ],
 "metadata": {
  "kernelspec": {
   "display_name": "Python 3 (ipykernel)",
   "language": "python",
   "name": "python3"
  },
  "language_info": {
   "codemirror_mode": {
    "name": "ipython",
    "version": 3
   },
   "file_extension": ".py",
   "mimetype": "text/x-python",
   "name": "python",
   "nbconvert_exporter": "python",
   "pygments_lexer": "ipython3",
   "version": "3.8.13"
  }
 },
 "nbformat": 4,
 "nbformat_minor": 5
}
