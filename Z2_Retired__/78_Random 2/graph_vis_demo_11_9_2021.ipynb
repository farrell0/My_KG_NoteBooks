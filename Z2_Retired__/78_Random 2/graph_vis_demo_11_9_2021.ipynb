{
 "cells": [
  {
   "cell_type": "code",
   "execution_count": null,
   "id": "d439081a-4ab1-435f-8e70-4a6686d457dd",
   "metadata": {},
   "outputs": [],
   "source": [
    "import os\n",
    "import time\n",
    "import json\n",
    "import pandas as pd\n",
    "from timeit import default_timer as timer\n",
    "\n",
    "from katana import remote\n",
    "from katana.remote import import_data\n",
    "from katana.remote.import_data import Operation"
   ]
  },
  {
   "cell_type": "code",
   "execution_count": null,
   "id": "abf1a434-582c-4b20-82bc-e99000c58bf3",
   "metadata": {},
   "outputs": [],
   "source": [
    "gs_prefix=\"gs://katana-demo-datasets/csv-datasets/ldbc/\"\n",
    "test_node_file = gs_prefix + \"headers/sf-0.003-bi-node_headers.txt\"\n",
    "test_edge_file = gs_prefix + \"headers/sf-0.003-bi-edge_headers.txt\"\n",
    "input_path=gs_prefix"
   ]
  },
  {
   "cell_type": "code",
   "execution_count": null,
   "id": "44ae86f6-9eb6-418c-9940-929a90771236",
   "metadata": {},
   "outputs": [],
   "source": [
    "graph = remote.Client(address=\"host.docker.internal:8080\").create_graph(\n",
    "    num_partitions=2\n",
    ")"
   ]
  },
  {
   "cell_type": "code",
   "execution_count": null,
   "id": "e0a93f6a-c3c4-45a7-9f3d-a271d007a267",
   "metadata": {},
   "outputs": [],
   "source": [
    "%%time\n",
    "print(\"Importing graph from CSV files...\")\n",
    "import_data.csv(\n",
    "    graph,\n",
    "    input_node_path=test_node_file,\n",
    "    input_edge_path=test_edge_file,\n",
    "    input_dir=input_path,\n",
    "    data_delimiter=\"|\",\n",
    "    schema_delimiter=\"|\"\n",
    ")"
   ]
  },
  {
   "cell_type": "code",
   "execution_count": null,
   "id": "8b98431d-f7b6-4a95-9b05-37b7076dca6c",
   "metadata": {},
   "outputs": [],
   "source": [
    "from katana.remote import analytics\n",
    "\n",
    "analytics.pagerank(graph, \"pagerank\")"
   ]
  },
  {
   "cell_type": "code",
   "execution_count": null,
   "id": "6f750b4c-50b7-4b4f-bbfc-e6bed5cd3f3b",
   "metadata": {},
   "outputs": [],
   "source": [
    "# Visualize using graph.query().visualize()\n",
    "result = graph.query(\"MATCH (x)-[r]->(a) RETURN x, a LIMIT 100;\", contextualize=True)\n",
    "\n",
    "# Now let's visualize the result set\n",
    "result.view()"
   ]
  },
  {
   "cell_type": "code",
   "execution_count": null,
   "id": "45f762ea-9b10-4fa9-a851-074be33155c9",
   "metadata": {},
   "outputs": [],
   "source": [
    "# Now let's visualize the result set\n",
    "result.table()"
   ]
  },
  {
   "cell_type": "code",
   "execution_count": null,
   "id": "57087a61-8d92-45a8-853e-63098678f805",
   "metadata": {},
   "outputs": [],
   "source": [
    "# Now let's visualize the result set\n",
    "result.raw()"
   ]
  },
  {
   "cell_type": "code",
   "execution_count": null,
   "id": "337b6bd3-15cd-4b7b-802d-1f71ecca7697",
   "metadata": {},
   "outputs": [],
   "source": [
    "result.visualize()"
   ]
  },
  {
   "cell_type": "code",
   "execution_count": null,
   "id": "a212f5cb-d8ac-4db9-a5d4-73ca4c3e9f58",
   "metadata": {},
   "outputs": [],
   "source": [
    "# Let's try a bigger graph\n",
    "result_15000 = graph.query(\"MATCH (x)-[r]->(a) RETURN x, a LIMIT 15000;\", contextualize=True)"
   ]
  },
  {
   "cell_type": "code",
   "execution_count": null,
   "id": "18522f40-45d0-4382-a781-a8b684d82723",
   "metadata": {},
   "outputs": [],
   "source": [
    "result_15000.visualize()"
   ]
  }
 ],
 "metadata": {
  "kernelspec": {
   "display_name": "Python 3 (ipykernel)",
   "language": "python",
   "name": "python3"
  },
  "language_info": {
   "codemirror_mode": {
    "name": "ipython",
    "version": 3
   },
   "file_extension": ".py",
   "mimetype": "text/x-python",
   "name": "python",
   "nbconvert_exporter": "python",
   "pygments_lexer": "ipython3",
   "version": "3.8.8"
  }
 },
 "nbformat": 4,
 "nbformat_minor": 5
}
