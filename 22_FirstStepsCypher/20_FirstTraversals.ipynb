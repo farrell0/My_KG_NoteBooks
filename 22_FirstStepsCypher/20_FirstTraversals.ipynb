{
 "cells": [
  {
   "cell_type": "markdown",
   "id": "dee4b4c1-688b-4b5e-b195-5a2f4668599e",
   "metadata": {},
   "source": [
    "#  Setup stuff:  Connectivity "
   ]
  },
  {
   "cell_type": "code",
   "execution_count": 1,
   "id": "c9937838-2db4-49ac-b782-d67e87f2059b",
   "metadata": {},
   "outputs": [
    {
     "data": {
      "text/html": [],
      "text/plain": [
       "<IPython.core.display.HTML object>"
      ]
     },
     "metadata": {},
     "output_type": "display_data"
    },
    {
     "name": "stdout",
     "output_type": "stream",
     "text": [
      "--\n"
     ]
    }
   ],
   "source": [
    "\n",
    "#  Setting display options \n",
    "\n",
    "import pandas as pd\n",
    "   #\n",
    "pd.set_option(\"display.width\", 480)\n",
    "\n",
    "#  Sets horizontal scroll for wide outputs\n",
    "#\n",
    "from IPython.display import display, HTML\n",
    "display(HTML(\"\"))\n",
    "\n",
    "from tabulate import tabulate\n",
    "\n",
    "print(\"--\")\n"
   ]
  },
  {
   "cell_type": "code",
   "execution_count": 2,
   "id": "6da09346-5fcf-4c45-a7bd-ef07ce9f9a59",
   "metadata": {},
   "outputs": [
    {
     "name": "stdout",
     "output_type": "stream",
     "text": [
      "<katana_enterprise.remote.sync_wrappers.Client object at 0x7f5d24436550>\n"
     ]
    }
   ],
   "source": [
    "\n",
    "from katana import remote\n",
    "#  from katana.remote import import_data\n",
    "\n",
    "my_client=remote.Client()\n",
    "\n",
    "print(my_client)\n"
   ]
  },
  {
   "cell_type": "code",
   "execution_count": 3,
   "id": "19bc460e-bdee-4199-9f7d-4b1207726980",
   "metadata": {},
   "outputs": [
    {
     "name": "stdout",
     "output_type": "stream",
     "text": [
      "--\n"
     ]
    }
   ],
   "source": [
    "\n",
    "NUM_PARTITIONS  = 3\n",
    "   #\n",
    "DB_NAME         = \"my_db\"\n",
    "GRAPH_NAME      = \"my_graph\"\n",
    "\n",
    "print(\"--\")\n"
   ]
  },
  {
   "cell_type": "code",
   "execution_count": 4,
   "id": "f4306efe-2554-4f15-8cf5-700452c878b3",
   "metadata": {},
   "outputs": [
    {
     "name": "stdout",
     "output_type": "stream",
     "text": [
      "<_Graph my_graph, J4ugcL4QUXrzywMrEjaLkx6bRjAusQQgfrdkA8pFTdzm, 16>\n"
     ]
    }
   ],
   "source": [
    "\n",
    "#  CONNECT TO GRAPH\n",
    "\n",
    "my_graph, *_ = my_client.get_database(name=DB_NAME).find_graphs_by_name(GRAPH_NAME)\n",
    "\n",
    "print(my_graph)\n"
   ]
  },
  {
   "cell_type": "markdown",
   "id": "167c4208-0f54-470f-9dac-0a10c9f10774",
   "metadata": {},
   "source": [
    "#  Sample Cyphers: Vertices"
   ]
  },
  {
   "cell_type": "code",
   "execution_count": null,
   "id": "35763edd-134f-4ceb-8c66-19c9c9c48eae",
   "metadata": {},
   "outputs": [],
   "source": [
    "\n",
    "#  Cypher clauses\n",
    "#\n",
    "#     RETURN ..\n",
    "#     ORDER BY ..\n",
    "#     SKIP ..\n",
    "#     LIMIT ..\n"
   ]
  },
  {
   "cell_type": "code",
   "execution_count": null,
   "id": "f7d350a9-bc58-4b26-aa46-c8ea033a44d8",
   "metadata": {},
   "outputs": [],
   "source": [
    "\n",
    "#  Use of some of the traversal methods ..\n",
    "#\n",
    "\n",
    "l_query  = \"\"\"\n",
    "\n",
    "   MATCH (n) - [r] -> (m)\n",
    "   RETURN\n",
    "      LABELS(m)         AS my_labels,\n",
    "      ID(m)             AS my_id,\n",
    "      KEYS(m)           AS my_keys,\n",
    "      properties(m)     AS my_properties\n",
    "\n",
    "   \"\"\".format()\n",
    "\n",
    "l_result = my_graph.query(l_query)\n",
    "   #\n",
    "print(tabulate(l_result, headers='keys', tablefmt='psql'))\n",
    "\n",
    "#  Sample output,\n",
    "#\n",
    "#     +----+----------------+-----------------+---------------------------------+-----------------------+------------------------------+--------------------+---------------------------------+\n",
    "#     |    | my_labels      |           my_id | my_keys                         | my_properties.LABEL   | my_properties.airport_name   | my_properties.id   | my_properties.restaurant_name   |\n",
    "#     |----+----------------+-----------------+---------------------------------+-----------------------+------------------------------+--------------------+---------------------------------|\n",
    "#     |  0 | ['Airport']    |               0 | ['LABEL', 'airport_name', 'id'] | Airport               | Milwaukee                    | MKE                | nan                             |\n",
    "#     |  1 | ['Airport']    | 562949953421312 | ['LABEL', 'airport_name', 'id'] | Airport               | Denver                       | DEN                | nan                             |\n",
    "#     |  2 | ['Airport']    |               1 | ['LABEL', 'airport_name', 'id'] | Airport               | Chicago O-Hare               | ORD                | nan                             |\n",
    "#     |  3 | ['Airport']    |               1 | ['LABEL', 'airport_name', 'id'] | Airport               | Chicago O-Hare               | ORD                | nan                             |\n",
    "#     |  4 | ['Airport']    | 562949953421312 | ['LABEL', 'airport_name', 'id'] | Airport               | Denver                       | DEN                | nan                             |\n",
    "#     |  5 | ['Restaurant'] | 281474976710657 | ['id', 'restaurant_name']       | nan                   | nan                          | PAP                | Pappadeauxs Seafood Kitchen     |\n",
    "#     |  6 | ['Airport']    | 281474976710656 | ['LABEL', 'airport_name', 'id'] | Airport               | San Jose                     | SJC                | nan                             |\n",
    "#     |  7 | ['Airport']    |               1 | ['LABEL', 'airport_name', 'id'] | Airport               | Chicago O-Hare               | ORD                | nan                             |\n",
    "#     +----+----------------+-----------------+---------------------------------+-----------------------+------------------------------+--------------------+---------------------------------+\n"
   ]
  },
  {
   "cell_type": "code",
   "execution_count": null,
   "id": "e3d16a08-4a5d-48f5-b7e5-fa4484c158cd",
   "metadata": {},
   "outputs": [],
   "source": [
    "\n",
    "#  Average traversal; just nodes\n",
    "#\n",
    "\n",
    "l_query  = \"\"\"\n",
    "   MATCH (n) \n",
    "   RETURN \n",
    "      ID(n)               AS my_id, \n",
    "      LABELS(n)           AS my_label, \n",
    "      n.airport_name      AS airport_name, \n",
    "      n.restaurant_name   AS restaurant_name\n",
    "   \"\"\".format()\n",
    "\n",
    "l_result = my_graph.query(l_query)\n",
    "   #\n",
    "print(tabulate(l_result, headers='keys', tablefmt='psql'))\n",
    "\n",
    "#  Sample output,\n",
    "#\n",
    "#     +----+-----------------+----------------+----------------+-----------------------------+\n",
    "#     |    |           my_id | my_label       | airport_name   | restaurant_name             |\n",
    "#     |----+-----------------+----------------+----------------+-----------------------------|\n",
    "#     |  0 |               1 | ['Airport']    | Chicago O-Hare |                             |\n",
    "#     |  1 |               0 | ['Airport']    | Milwaukee      |                             |\n",
    "#     |  2 | 281474976710656 | ['Airport']    | San Jose       |                             |\n",
    "#     |  3 | 281474976710657 | ['Restaurant'] |                | Pappadeauxs Seafood Kitchen |\n",
    "#     |  4 | 562949953421312 | ['Airport']    | Denver         |                             |\n",
    "#     +----+-----------------+----------------+----------------+-----------------------------+\n"
   ]
  },
  {
   "cell_type": "code",
   "execution_count": null,
   "id": "be368507-fc1d-42e6-b757-8434e2282a1a",
   "metadata": {},
   "outputs": [],
   "source": [
    "\n",
    "#  Get a count of all nodes\n",
    "\n",
    "display(my_graph.num_nodes())\n",
    "\n",
    "\n",
    "l_query  = \"\"\"\n",
    "   MATCH (n) \n",
    "   RETURN COUNT(*) AS cnt\n",
    "   \"\"\".format()\n",
    "\n",
    "l_count = my_graph.query(l_query)[\"cnt\"][0]\n",
    "\n",
    "\n",
    "print(l_count)\n",
    "print(type(l_count))\n"
   ]
  },
  {
   "cell_type": "code",
   "execution_count": null,
   "id": "acaaac0d-1a7c-4900-8468-459e0b739cb5",
   "metadata": {},
   "outputs": [],
   "source": [
    "\n",
    "#  Get a count of all node types\n",
    "\n",
    "l_query  = \"\"\"\n",
    "   MATCH (n) \n",
    "   RETURN COUNT(DISTINCT LABELS(n)) AS cnt\n",
    "   \"\"\".format()\n",
    "\n",
    "l_count = my_graph.query(l_query)[\"cnt\"][0]\n",
    "\n",
    "print(l_count)\n"
   ]
  },
  {
   "cell_type": "code",
   "execution_count": null,
   "id": "047fafb0-31e6-4065-a8d3-c1bd6f62b003",
   "metadata": {},
   "outputs": [],
   "source": [
    "\n",
    "#  List all node types\n",
    "\n",
    "l_query  = \"\"\"\n",
    "   MATCH (n)\n",
    "   RETURN DISTINCT LABELS(n) AS my_type\n",
    "   \"\"\".format()\n",
    "\n",
    "l_result = my_graph.query(l_query)\n",
    "\n",
    "\n",
    "for l_each in l_result.itertuples():\n",
    "   print(l_each.my_type)\n",
    "\n",
    "print(\"--\")\n"
   ]
  },
  {
   "cell_type": "code",
   "execution_count": null,
   "id": "53f97029-84b8-46d9-9b8b-c6bbf1bee0bd",
   "metadata": {},
   "outputs": [],
   "source": [
    "\n",
    "#  List all node types with node counts\n",
    "\n",
    "l_query  = \"\"\"\n",
    "   MATCH (n) \n",
    "   WITH DISTINCT LABELS(n) AS temp, COUNT(n) AS tempCnt\n",
    "   UNWIND temp AS label\n",
    "   RETURN label, SUM(tempCnt) AS cnt\n",
    "   ORDER BY label\n",
    "   \"\"\".format()\n",
    "\n",
    "l_result = my_graph.query(l_query)\n",
    "   #\n",
    "print(tabulate(l_result, headers='keys', tablefmt='psql'))\n",
    "\n",
    "    \n",
    "print(\"\")\n",
    "\n",
    "\n",
    "l_query  = \"\"\"\n",
    "   MATCH (n) \n",
    "   WITH COUNT(n) AS tempCnt\n",
    "   RETURN tempCnt\n",
    "   \"\"\".format()\n",
    "\n",
    "l_result = my_graph.query(l_query)\n",
    "   #\n",
    "print(tabulate(l_result, headers='keys', tablefmt='psql'))\n",
    "\n"
   ]
  },
  {
   "cell_type": "markdown",
   "id": "14723dda-e98f-4122-aea5-6caf2e588ee8",
   "metadata": {},
   "source": [
    "#  Sample Cyphers: Edges"
   ]
  },
  {
   "cell_type": "code",
   "execution_count": null,
   "id": "ca4aad89-92b7-4fba-a544-001da941de86",
   "metadata": {},
   "outputs": [],
   "source": [
    "\n",
    "#  Count all edges\n",
    "\n",
    "display(my_graph.num_edges())\n",
    "\n",
    "l_query  = \"\"\"\n",
    "    MATCH (n) - [r] -> (m)\n",
    "    RETURN COUNT(r) AS cnt\n",
    "   \"\"\".format()\n",
    "\n",
    "l_count = my_graph.query(l_query)[\"cnt\"][0]\n",
    "\n",
    "print(l_count)\n"
   ]
  },
  {
   "cell_type": "code",
   "execution_count": null,
   "id": "99f04b70-6e9e-42f1-9ecf-eecbe4be2456",
   "metadata": {},
   "outputs": [],
   "source": [
    "\n",
    "#  List all vertice types with counts\n",
    "\n",
    "l_query  = \"\"\"\n",
    "   MATCH (m)-[r]->(n) \n",
    "   WITH DISTINCT TYPE(r) AS temp, COUNT(r) AS tempCnt\n",
    "   RETURN temp, tempCnt\n",
    "   ORDER BY temp\n",
    "   \"\"\".format()\n",
    "\n",
    "l_result = my_graph.query(l_query)\n",
    "   #\n",
    "print(tabulate(l_result, headers='keys', tablefmt='psql'))\n",
    "\n",
    "\n",
    "l_query  = \"\"\"\n",
    "   MATCH (m)-[r]->(n) \n",
    "   WITH COUNT(r) AS tempCnt\n",
    "   RETURN tempCnt\n",
    "   \"\"\".format()\n",
    "\n",
    "l_result = my_graph.query(l_query)\n",
    "   #\n",
    "print(tabulate(l_result, headers='keys', tablefmt='psql'))\n"
   ]
  },
  {
   "cell_type": "markdown",
   "id": "67677cae-8b4b-4d8c-b1f0-811d67147969",
   "metadata": {},
   "source": [
    "#  Sample Cyphers: Properties"
   ]
  },
  {
   "cell_type": "code",
   "execution_count": 5,
   "id": "d6299b26-b231-4cf7-997d-02bf855c9870",
   "metadata": {},
   "outputs": [
    {
     "data": {
      "application/vnd.jupyter.widget-view+json": {
       "model_id": "6c0c03030ace4421b8c8bb34d4a33344",
       "version_major": 2,
       "version_minor": 0
      },
      "text/plain": [
       "          0/? [?op/s]"
      ]
     },
     "metadata": {},
     "output_type": "display_data"
    },
    {
     "data": {
      "text/html": [
       "<div>\n",
       "<style scoped>\n",
       "    .dataframe tbody tr th:only-of-type {\n",
       "        vertical-align: middle;\n",
       "    }\n",
       "\n",
       "    .dataframe tbody tr th {\n",
       "        vertical-align: top;\n",
       "    }\n",
       "\n",
       "    .dataframe thead th {\n",
       "        text-align: right;\n",
       "    }\n",
       "</style>\n",
       "<table border=\"1\" class=\"dataframe\">\n",
       "  <thead>\n",
       "    <tr style=\"text-align: right;\">\n",
       "      <th></th>\n",
       "      <th>neighbor</th>\n",
       "      <th>nodeType</th>\n",
       "      <th>properties</th>\n",
       "    </tr>\n",
       "  </thead>\n",
       "  <tbody>\n",
       "    <tr>\n",
       "      <th>0</th>\n",
       "      <td></td>\n",
       "      <td>[Person]</td>\n",
       "      <td>col3,id</td>\n",
       "    </tr>\n",
       "    <tr>\n",
       "      <th>1</th>\n",
       "      <td>([Flight]::[TAKES_FLIGHT])</td>\n",
       "      <td>[Person]</td>\n",
       "      <td>TYPE,uniq_col,weight</td>\n",
       "    </tr>\n",
       "    <tr>\n",
       "      <th>2</th>\n",
       "      <td></td>\n",
       "      <td>[Flight]</td>\n",
       "      <td>LABEL,col2,col3,col4,flight_id,id</td>\n",
       "    </tr>\n",
       "  </tbody>\n",
       "</table>\n",
       "</div>"
      ],
      "text/plain": [
       "                     neighbor  nodeType                         properties\n",
       "0                              [Person]                            col3,id\n",
       "1  ([Flight]::[TAKES_FLIGHT])  [Person]               TYPE,uniq_col,weight\n",
       "2                              [Flight]  LABEL,col2,col3,col4,flight_id,id"
      ]
     },
     "execution_count": 5,
     "metadata": {},
     "output_type": "execute_result"
    }
   ],
   "source": [
    "\n",
    "#  Return properties/keys from all vertices\n",
    "\n",
    "my_graph.query(\"CALL graph.schema() RETURN *\")\n"
   ]
  },
  {
   "cell_type": "code",
   "execution_count": 10,
   "id": "33e191e0-c6d9-4ed4-8fe4-31911902ef40",
   "metadata": {},
   "outputs": [
    {
     "data": {
      "application/vnd.jupyter.widget-view+json": {
       "model_id": "2b7c65d9963f4c20ac87be86f1d9836d",
       "version_major": 2,
       "version_minor": 0
      },
      "text/plain": [
       "          0/? [?op/s]"
      ]
     },
     "metadata": {},
     "output_type": "display_data"
    },
    {
     "data": {
      "text/plain": [
       "<katana.remote.GraphSchema at 0x7f5c99c189a0>"
      ]
     },
     "metadata": {},
     "output_type": "display_data"
    },
    {
     "data": {
      "text/html": [
       "<div>\n",
       "<style scoped>\n",
       "    .dataframe tbody tr th:only-of-type {\n",
       "        vertical-align: middle;\n",
       "    }\n",
       "\n",
       "    .dataframe tbody tr th {\n",
       "        vertical-align: top;\n",
       "    }\n",
       "\n",
       "    .dataframe thead th {\n",
       "        text-align: right;\n",
       "    }\n",
       "</style>\n",
       "<table border=\"1\" class=\"dataframe\">\n",
       "  <thead>\n",
       "    <tr style=\"text-align: right;\">\n",
       "      <th></th>\n",
       "      <th>type</th>\n",
       "      <th>properties</th>\n",
       "    </tr>\n",
       "  </thead>\n",
       "  <tbody>\n",
       "    <tr>\n",
       "      <th>0</th>\n",
       "      <td>[Person]</td>\n",
       "      <td>[col3, id]</td>\n",
       "    </tr>\n",
       "    <tr>\n",
       "      <th>1</th>\n",
       "      <td>[Flight]</td>\n",
       "      <td>[LABEL, col2, col3, col4, flight_id, id]</td>\n",
       "    </tr>\n",
       "  </tbody>\n",
       "</table>\n",
       "</div>"
      ],
      "text/plain": [
       "       type                                properties\n",
       "0  [Person]                                [col3, id]\n",
       "1  [Flight]  [LABEL, col2, col3, col4, flight_id, id]"
      ]
     },
     "metadata": {},
     "output_type": "display_data"
    },
    {
     "data": {
      "text/html": [
       "<div>\n",
       "<style scoped>\n",
       "    .dataframe tbody tr th:only-of-type {\n",
       "        vertical-align: middle;\n",
       "    }\n",
       "\n",
       "    .dataframe tbody tr th {\n",
       "        vertical-align: top;\n",
       "    }\n",
       "\n",
       "    .dataframe thead th {\n",
       "        text-align: right;\n",
       "    }\n",
       "</style>\n",
       "<table border=\"1\" class=\"dataframe\">\n",
       "  <thead>\n",
       "    <tr style=\"text-align: right;\">\n",
       "      <th></th>\n",
       "      <th>type</th>\n",
       "      <th>properties</th>\n",
       "      <th>from_node_type</th>\n",
       "      <th>to_node_type</th>\n",
       "    </tr>\n",
       "  </thead>\n",
       "  <tbody>\n",
       "    <tr>\n",
       "      <th>0</th>\n",
       "      <td>TAKES_FLIGHT</td>\n",
       "      <td>[TYPE, uniq_col, weight]</td>\n",
       "      <td>[Person]</td>\n",
       "      <td>[Flight]</td>\n",
       "    </tr>\n",
       "  </tbody>\n",
       "</table>\n",
       "</div>"
      ],
      "text/plain": [
       "           type                properties from_node_type to_node_type\n",
       "0  TAKES_FLIGHT  [TYPE, uniq_col, weight]       [Person]     [Flight]"
      ]
     },
     "metadata": {},
     "output_type": "display_data"
    }
   ],
   "source": [
    "\n",
    "l_return = my_graph.schema()\n",
    "   #\n",
    "display(l_return)\n",
    "\n",
    "display(l_return.nodes())\n",
    "display(l_return.edges())\n"
   ]
  },
  {
   "cell_type": "code",
   "execution_count": null,
   "id": "313f34a5-d1f3-4a2d-83a4-15f35d5767d1",
   "metadata": {},
   "outputs": [],
   "source": [
    "\n",
    "#  Return properties/keys from all vertices\n",
    "\n",
    "l_query  = \"\"\"\n",
    "   MATCH (n)\n",
    "   RETURN DISTINCT LABELS(n) AS label, KEYS(n)\n",
    "   \"\"\".format()\n",
    "\n",
    "l_result = my_graph.query(l_query)\n",
    "   #\n",
    "print(tabulate(l_result, headers='keys', tablefmt='psql'))\n"
   ]
  },
  {
   "cell_type": "code",
   "execution_count": null,
   "id": "630e1cce-4c9e-4520-8e40-7c3754547827",
   "metadata": {},
   "outputs": [],
   "source": [
    "\n",
    "#  KAT-11443    throws cancelled error, should work\n",
    "#\n",
    "#     Work around in next cell\n",
    "\n",
    "l_query  = \"\"\"\n",
    "   MATCH (n) - [r] -> (m)\n",
    "   RETURN DISTINCT TYPE(r) AS my_type, KEYS(r)\n",
    "   \"\"\".format()\n",
    "\n",
    "l_result = my_graph.query(l_query)\n",
    "   #\n",
    "print(tabulate(l_result, headers='keys', tablefmt='psql'))\n"
   ]
  },
  {
   "cell_type": "code",
   "execution_count": null,
   "id": "0f0f6b63-f2b9-4cf7-8f9b-e1d03291bc4c",
   "metadata": {},
   "outputs": [],
   "source": [
    "\n",
    "#  KAT-11445  Missing data, bad data\n",
    "#  MAybe also  KAT-11448\n",
    "\n",
    "\n",
    "#  Return properties/keys from all edges\n",
    "#\n",
    "\n",
    "l_query  = \"\"\"\n",
    "   MATCH (n) - [r] -> (m)\n",
    "   // RETURN DISTINCT (r.TYPE) AS my_type, KEYS(r) AS my_keys\n",
    "   RETURN DISTINCT TYPE(r) AS my_type, KEYS(r) AS my_keys\n",
    "   \"\"\".format()\n",
    "\n",
    "l_result = my_graph.query(l_query)\n",
    "   #\n",
    "print(tabulate(l_result, headers='keys', tablefmt='psql'))\n",
    "\n",
    "\n",
    "#  Sample output,\n",
    "#\n",
    "#     +----+------------+----------------------------------------------------------------------+\n",
    "#     |    | my_type    | my_keys                                                              |\n",
    "#     |----+------------+----------------------------------------------------------------------|\n",
    "#     |  0 | ATTRACTION | ['DRIVABLE']                                                         |\n",
    "#     |  1 | FLIES_TO   | ['DISTANCE', 'NUM_HOPS', 'TYPE', 'DIST_MILES_0021', 'DIST_KMS_0021'] |\n",
    "#     |  2 | FLIES_TO   | ['DISTANCE', 'NUM_HOPS', 'TYPE', 'DIST_MILES_0021', 'DIST_KMS_0021'] |\n",
    "#     +----+------------+----------------------------------------------------------------------+\n"
   ]
  },
  {
   "cell_type": "markdown",
   "id": "4e2a2144-c7e9-4ae6-b22d-f44805c5e211",
   "metadata": {},
   "source": [
    "#  Sample Cyphers: Diagnostics"
   ]
  },
  {
   "cell_type": "code",
   "execution_count": null,
   "id": "70e3ad47-736c-424c-9656-7a35bcc52453",
   "metadata": {},
   "outputs": [],
   "source": [
    "\n",
    "#  Also at,\n",
    "#     https://amusing-fawn.clusters-k9h.dev/v2/widgets/katana-frontend/databases\n",
    "\n",
    "my_client.widgets().operations()\n",
    "\n",
    "#  my_client.widgets().databases()\n",
    "#  my_client.widgets().dashboard()                #  No-op currently\n"
   ]
  },
  {
   "cell_type": "code",
   "execution_count": null,
   "id": "0e166a76-a306-4d40-ab79-87d636be7f1b",
   "metadata": {},
   "outputs": [],
   "source": [
    "\n",
    "# result.raw() went away\n",
    "#\n",
    "#  to pretty print a result as JSON, use ..\n",
    "\n",
    "#  Just to get some data ..\n",
    "#\n",
    "\n",
    "l_query  = \"\"\"\n",
    "   MATCH (n) - [r] -> (m)\n",
    "   RETURN DISTINCT type(r) AS type, keys(r)\n",
    "   \"\"\".format()\n",
    "\n",
    "l_result = my_graph.query(l_query)\n",
    "\n",
    "\n",
    "import json\n",
    "\n",
    "l_result_json = json.loads(l_result.to_json())\n",
    "l_result_strn = json.dumps(l_result_json, indent=2)\n",
    "\n",
    "print(l_result_strn)\n",
    "\n"
   ]
  },
  {
   "cell_type": "code",
   "execution_count": null,
   "id": "4b5a95fd-8f26-4ec4-b71c-c489154a1b31",
   "metadata": {},
   "outputs": [],
   "source": [
    "\n",
    "#  Produce a visual graph\n",
    "\n",
    "l_result = my_graph.query(\"\"\"\n",
    "\n",
    "   MATCH (n) -[r]-> (m)\n",
    "   RETURN n, r, m\n",
    "   LIMIT 1000 \n",
    "   \n",
    "   \"\"\",\n",
    "   contextualize=True)\n",
    "\n",
    "l_result.view()\n"
   ]
  },
  {
   "cell_type": "markdown",
   "id": "88aa8f4e-e131-445e-b9c5-767580ac9a3f",
   "metadata": {},
   "source": [
    "#  More Cypher "
   ]
  },
  {
   "cell_type": "code",
   "execution_count": null,
   "id": "cfd2a773-db78-4cb5-a839-b0cb86233b2a",
   "metadata": {},
   "outputs": [],
   "source": [
    "\n",
    "#  Parameterized query, works with (Airports) ..\n",
    "\n",
    "l_fname = \"MKE\"\n",
    "\n",
    "l_query  = \"\"\"\n",
    "\n",
    "   MATCH (n: Airport) \n",
    "   WHERE n.id = '{0}'\n",
    "   RETURN n\n",
    "\n",
    "   \"\"\".format(l_fname)\n",
    "\n",
    "l_result = my_graph.query(l_query)\n",
    "   #\n",
    "print(tabulate(l_result, headers='keys', tablefmt='psql'))\n"
   ]
  },
  {
   "cell_type": "code",
   "execution_count": null,
   "id": "f60b7f2d-8608-4d70-98c6-23840faac735",
   "metadata": {},
   "outputs": [],
   "source": [
    "\n",
    "#  Regex query, tested with (Airports) ..\n",
    "#\n",
    "#     This fails currently ..\n",
    "\n",
    "l_fname = \"/^M*/\"\n",
    "\n",
    "l_query  = \"\"\"\n",
    "\n",
    "   MATCH (n: Airport) \n",
    "   WHERE n.airport_name =~ '{0}'\n",
    "   RETURN n.id, n.airport_name\n",
    "\n",
    "   \"\"\".format(l_fname)\n",
    "\n",
    "l_result = my_graph.query(l_query)\n",
    "\n",
    "display(print(l_result[0:5]))\n",
    "\n",
    "#  Sample output,\n",
    "#\n",
    "#     OperationError: FmPz7gHk5N3wKxVziuy6KiRd9D9U3KiqSCaursUBfDEG-4R77ceGCNHQJRCW56 backtrace (QueryOperation.cpp:67):\n",
    "#     backtrace (Network.h:331): backtrace (QueryOperation.cpp:70): backtrace (QueryClient.cpp:603): unable to translate\n",
    "#     openCypher parse tree to internal IR (OpGraph.cpp:224): string comparision with regular expression not supported\n",
    "#     (CypherOpGraphBuilder.cpp:57): InternalError:NotImplemented: InternalError:NotImplemented: InternalError:NotImplemented\n",
    "\n"
   ]
  },
  {
   "cell_type": "code",
   "execution_count": null,
   "id": "52394e4e-00b0-4b92-88bd-e5e713c4d734",
   "metadata": {},
   "outputs": [],
   "source": [
    "# ###################################################################"
   ]
  },
  {
   "cell_type": "code",
   "execution_count": 96,
   "id": "4ca965ca-d39c-40e7-ac8d-732053f5a5c8",
   "metadata": {},
   "outputs": [
    {
     "data": {
      "application/vnd.jupyter.widget-view+json": {
       "model_id": "11d479aaf0b64f3f99eefbbaa67e0842",
       "version_major": 2,
       "version_minor": 0
      },
      "text/plain": [
       "          0/? [?op/s]"
      ]
     },
     "metadata": {},
     "output_type": "display_data"
    },
    {
     "name": "stdout",
     "output_type": "stream",
     "text": [
      "+----+------------------+-----------------+----------------------------------+-------------------+-----------------+\n",
      "|    | my_type          |           my_id | my_keys                          |   my_startnode_id |   my_endnode_id |\n",
      "|----+------------------+-----------------+----------------------------------+-------------------+-----------------|\n",
      "|  0 | FLIES_TO         |               0 | ['DISTANCE', 'NUM_HOPS', 'TYPE'] |                 0 | 562949953421312 |\n",
      "|  1 | FLIES_TO         | 281474976710656 | ['DISTANCE', 'NUM_HOPS', 'TYPE'] |   281474976710657 | 281474976710656 |\n",
      "|  2 | FLIES_TO         | 281474976710659 | ['DISTANCE', 'NUM_HOPS', 'TYPE'] |   281474976710657 | 562949953421312 |\n",
      "|  3 | FLIES_TO         | 281474976710657 | ['DISTANCE', 'NUM_HOPS', 'TYPE'] |   281474976710656 | 281474976710657 |\n",
      "|  4 | FLIES_TO         | 281474976710658 | ['DISTANCE', 'NUM_HOPS', 'TYPE'] |   281474976710656 | 562949953421312 |\n",
      "|  5 | SUPER_ATTRACTION | 281474976710663 | ['DRIVABLE']                     |   281474976710656 | 562949953421313 |\n",
      "|  6 | FLIES_TO         | 562949953421312 | ['DISTANCE', 'NUM_HOPS', 'TYPE'] |   562949953421312 | 281474976710657 |\n",
      "|  7 | FLIES_TO         | 562949953421313 | ['DISTANCE', 'NUM_HOPS', 'TYPE'] |   562949953421312 |               0 |\n",
      "+----+------------------+-----------------+----------------------------------+-------------------+-----------------+\n"
     ]
    }
   ],
   "source": [
    "\n",
    "#  Changing the Edge type; step 1, see what is present currently ..\n",
    "#\n",
    "\n",
    "#  What is present currently ..\n",
    "#\n",
    "#  l_query  = \"\"\"\n",
    "#  \n",
    "#     MATCH (n) - [r] -> (m)\n",
    "#     RETURN m\n",
    "#  \n",
    "#     \"\"\".format()\n",
    "#  \n",
    "#  l_result = my_graph.query(l_query)\n",
    "#     #\n",
    "#  print(tabulate(l_result, headers='keys', tablefmt='psql'))\n",
    "\n",
    "\n",
    "#  l_query  = \"\"\"\n",
    "#  \n",
    "#     MATCH (n) - [r] -> (m)\n",
    "#     RETURN r\n",
    "#  \n",
    "#     \"\"\".format()\n",
    "#  \n",
    "#  l_result = my_graph.query(l_query)\n",
    "#     #\n",
    "#  print(tabulate(l_result, headers='keys', tablefmt='psql'))\n",
    "\n",
    "\n",
    "#  Using traversal methods to create a result set\n",
    "#\n",
    "l_query  = \"\"\"\n",
    "\n",
    "   MATCH (n) - [r] -> (m)\n",
    "   RETURN\n",
    "      TYPE(r)           AS my_type,\n",
    "      ID(r)             AS my_id,\n",
    "      KEYS(r)           AS my_keys,\n",
    "         //\n",
    "      ID(startNode(r))  AS my_startnode_id,\n",
    "      ID(endNode(r))    AS my_endnode_id\n",
    "\n",
    "   \"\"\".format()\n",
    "\n",
    "l_result = my_graph.query(l_query)\n",
    "   #\n",
    "print(tabulate(l_result, headers='keys', tablefmt='psql'))\n",
    "\n",
    "\n",
    "#  Sample output,\n",
    "#\n",
    "#     +----+-----------------+----------------+-----------+------------------+--------+----------+-----------------------------+\n",
    "#     |    |   m.internal_id | m.labels       | m.LABEL   | m.airport_name   | m.id   | m.type   | m.restaurant_name           |\n",
    "#     |----+-----------------+----------------+-----------+------------------+--------+----------+-----------------------------|\n",
    "#     |  0 |               0 | ['Airport']    | Airport   | Milwaukee        | MKE    | node     | nan                         |\n",
    "#     |  1 | 562949953421312 | ['Airport']    | Airport   | Denver           | DEN    | node     | nan                         |\n",
    "#     |  2 |               1 | ['Airport']    | Airport   | Chicago O-Hare   | ORD    | node     | nan                         |\n",
    "#     |  3 |               1 | ['Airport']    | Airport   | Chicago O-Hare   | ORD    | node     | nan                         |\n",
    "#     |  4 | 562949953421312 | ['Airport']    | Airport   | Denver           | DEN    | node     | nan                         |\n",
    "#     |  5 | 281474976710657 | ['Restaurant'] | nan       | nan              | PAP    | node     | Pappadeauxs Seafood Kitchen |\n",
    "#     |  6 | 281474976710656 | ['Airport']    | Airport   | San Jose         | SJC    | node     | nan                         |\n",
    "#     |  7 |               1 | ['Airport']    | Airport   | Chicago O-Hare   | ORD    | node     | nan                         |\n",
    "#     +----+-----------------+----------------+-----------+------------------+--------+----------+-----------------------------+\n",
    "#     \n",
    "#     +----+-----------------+----------------+-----------------+------------+--------------+-------------------+---------------------+--------------+----------+-----------------+------------------+----------+--------------+\n",
    "#     |    |        r.end.id | r.end.labels   |   r.internal_id | r.label    |   r.DISTANCE |   r.DIST_KMS_0021 |   r.DIST_MILES_0021 |   r.NUM_HOPS | r.TYPE   |      r.start.id | r.start.labels   | r.type   | r.DRIVABLE   |\n",
    "#     |----+-----------------+----------------+-----------------+------------+--------------+-------------------+---------------------+--------------+----------+-----------------+------------------+----------+--------------|\n",
    "#     |  0 |               1 | ['Airport']    |               1 | FLIES_TO   |           66 |               106 |                  66 |            1 | FLIES_TO |               0 | ['Airport']      | edge     | nan          |\n",
    "#     |  1 |               0 | ['Airport']    |               0 | FLIES_TO   |           66 |               106 |                  66 |            1 | FLIES_TO |               1 | ['Airport']      | edge     | nan          |\n",
    "#     |  2 | 562949953421312 | ['Airport']    |               2 | FLIES_TO   |          886 |              1425 |                 886 |            1 | FLIES_TO |               1 | ['Airport']      | edge     | nan          |\n",
    "#     |  3 |               1 | ['Airport']    | 281474976710656 | FLIES_TO   |         1829 |              2943 |                1829 |            1 | FLIES_TO | 281474976710656 | ['Airport']      | edge     | nan          |\n",
    "#     |  4 | 562949953421312 | ['Airport']    | 281474976710657 | FLIES_TO   |          948 |              1525 |                 948 |            1 | FLIES_TO | 281474976710656 | ['Airport']      | edge     | nan          |\n",
    "#     |  5 | 281474976710657 | ['Restaurant'] | 281474976710658 | ATTRACTION |          nan |               nan |                 nan |          nan | nan      | 281474976710656 | ['Airport']      | edge     | Yes          |\n",
    "#     |  6 | 281474976710656 | ['Airport']    | 562949953421312 | FLIES_TO   |          948 |              1525 |                 948 |            1 | FLIES_TO | 562949953421312 | ['Airport']      | edge     | nan          |\n",
    "#     |  7 |               1 | ['Airport']    | 562949953421313 | FLIES_TO   |          886 |              1425 |                 886 |            1 | FLIES_TO | 562949953421312 | ['Airport']      | edge     | nan          |\n",
    "#     +----+-----------------+----------------+-----------------+------------+--------------+-------------------+---------------------+--------------+----------+-----------------+------------------+----------+--------------+\n",
    "#\n",
    "#     +----+------------+-----------------+----------------------------------------------------------------------+-------------------+-----------------+\n",
    "#     |    | my_type    |           my_id | my_keys                                                              |   my_startnode_id |   my_endnode_id |\n",
    "#     |----+------------+-----------------+----------------------------------------------------------------------+-------------------+-----------------|\n",
    "#     |  0 | FLIES_TO   |               1 | ['DISTANCE', 'NUM_HOPS', 'TYPE', 'DIST_MILES_0021', 'DIST_KMS_0021'] |                 0 |               1 |\n",
    "#     |  1 | FLIES_TO   |               0 | ['DISTANCE', 'NUM_HOPS', 'TYPE', 'DIST_MILES_0021', 'DIST_KMS_0021'] |                 1 |               0 |\n",
    "#     |  2 | FLIES_TO   |               2 | ['DISTANCE', 'NUM_HOPS', 'TYPE', 'DIST_MILES_0021', 'DIST_KMS_0021'] |                 1 | 562949953421312 |\n",
    "#     |  3 | FLIES_TO   | 281474976710656 | ['DISTANCE', 'NUM_HOPS', 'TYPE', 'DIST_MILES_0021', 'DIST_KMS_0021'] |   281474976710656 |               1 |\n",
    "#     |  4 | FLIES_TO   | 281474976710657 | ['DISTANCE', 'NUM_HOPS', 'TYPE', 'DIST_MILES_0021', 'DIST_KMS_0021'] |   281474976710656 | 562949953421312 |\n",
    "#     |  5 | ATTRACTION | 281474976710658 | ['DRIVABLE']                                                         |   281474976710656 | 281474976710657 |\n",
    "#     |  6 | FLIES_TO   | 562949953421312 | ['DISTANCE', 'NUM_HOPS', 'TYPE', 'DIST_MILES_0021', 'DIST_KMS_0021'] |   562949953421312 | 281474976710656 |\n",
    "#     |  7 | FLIES_TO   | 562949953421313 | ['DISTANCE', 'NUM_HOPS', 'TYPE', 'DIST_MILES_0021', 'DIST_KMS_0021'] |   562949953421312 |               1 |\n",
    "#     +----+------------+-----------------+----------------------------------------------------------------------+-------------------+-----------------+\n"
   ]
  },
  {
   "cell_type": "code",
   "execution_count": 95,
   "id": "ed34a7b3-471c-4877-a341-3b557b67390c",
   "metadata": {},
   "outputs": [
    {
     "data": {
      "application/vnd.jupyter.widget-view+json": {
       "model_id": "302b818313bd478aa40d633920066606",
       "version_major": 2,
       "version_minor": 0
      },
      "text/plain": [
       "          0/? [?op/s]"
      ]
     },
     "metadata": {},
     "output_type": "display_data"
    },
    {
     "name": "stdout",
     "output_type": "stream",
     "text": [
      "\n"
     ]
    }
   ],
   "source": [
    "\n",
    "#  Actually changing the edge type\n",
    "#\n",
    "#  We will change it for the Restaurant\n",
    "\n",
    "l_query  = \"\"\"\n",
    "\n",
    "   MATCH ( n: Airport {{ airport_name: 'San Jose' }} ) - [ r: ATTRACTION ] -> ( m: Restaurant {{ restaurant_name: 'Pappadeauxs Seafood Kitchen' }} )\n",
    "   CREATE ( n ) - [ r2: SUPER_ATTRACTION {{ DRIVABLE: 'Yes' }} ] -> ( m )\n",
    "   // SET r2 = r\n",
    "   // WITH r\n",
    "   DELETE r\n",
    "\n",
    "   \"\"\".format()\n",
    "\n",
    "l_result = my_graph.query(l_query)\n",
    "   #\n",
    "print(tabulate(l_result, headers='keys', tablefmt='psql'))\n",
    "\n",
    "#  Sample output,\n",
    "#\n",
    "#     (Re-run a traversal above)\n",
    "\n",
    "#   From,\n",
    "#      https://stackoverflow.com/questions/22670369/neo4j-cypher-how-to-change-the-type-of-a-relationship\n",
    "#\n",
    "#   Above,\n",
    "#      .  We set the edgee properties directly.\n",
    "#         The SET and WITH do not work currently.\n",
    "#         When they do work, we should need to set the properties manually.\n",
    "#\n",
    "#         See,\n",
    "#            https://katanagraph.atlassian.net/browse/KAT-11971\n",
    "\n"
   ]
  },
  {
   "cell_type": "code",
   "execution_count": null,
   "id": "34183d9a-1dbf-42fd-81f0-00fcd5ac4a75",
   "metadata": {},
   "outputs": [],
   "source": [
    "\n",
    "#  Delete everything in the graph\n",
    "#\n",
    "\n",
    "l_query  = \"\"\"\n",
    "\n",
    "   MATCH (n)\n",
    "   DETACH DELETE (n)\n",
    "\n",
    "   \"\"\".format()\n",
    "\n",
    "l_result = my_graph.query_unpaginated(l_query)\n",
    "   #\n",
    "print(tabulate(l_result, headers='keys', tablefmt='psql'))\n",
    "\n",
    "\n",
    "print(\"--\")\n",
    "\n"
   ]
  }
 ],
 "metadata": {
  "kernelspec": {
   "display_name": "Python 3 (ipykernel)",
   "language": "python",
   "name": "python3"
  },
  "language_info": {
   "codemirror_mode": {
    "name": "ipython",
    "version": 3
   },
   "file_extension": ".py",
   "mimetype": "text/x-python",
   "name": "python",
   "nbconvert_exporter": "python",
   "pygments_lexer": "ipython3",
   "version": "3.8.13"
  }
 },
 "nbformat": 4,
 "nbformat_minor": 5
}
