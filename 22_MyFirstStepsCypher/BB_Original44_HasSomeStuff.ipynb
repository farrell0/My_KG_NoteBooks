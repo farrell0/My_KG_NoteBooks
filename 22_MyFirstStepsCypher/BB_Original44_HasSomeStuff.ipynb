{
 "cells": [
  {
   "cell_type": "code",
   "execution_count": null,
   "id": "1f636dd5-2ed0-453c-b288-4a01b0f213ef",
   "metadata": {},
   "outputs": [],
   "source": [
    "#  Settings:\n",
    "#     Need a public or private accessible storage bucket on GCP or similar ..\n",
    "#\n",
    "#  From,\n",
    "#     https://stackoverflow.com/questions/36314797/write-a-pandas-dataframe-to-google-cloud-storage-or-bigquery\n",
    "#     https://stackoverflow.com/questions/29325458/dictionary-column-in-pandas-dataframe/29325954#29325954\n",
    "\n",
    "import os\n",
    "from google.cloud import storage\n",
    "import pandas as pd\n",
    "\n",
    "os.environ[\"GOOGLE_APPLICATION_CREDENTIALS\"] = \"/home/jovyan/work/02_MyKeys.json\"\n",
    "\n",
    "l_bucket = \"farrell-bucket\"\n",
    "# l_bucket = \"farrell-private\"\n",
    "\n",
    "print (\"--\")"
   ]
  },
  {
   "cell_type": "code",
   "execution_count": null,
   "id": "a3303c0a-12e9-4494-b639-5d29e9ce3575",
   "metadata": {},
   "outputs": [],
   "source": [
    "#  Setup for all work below ..\n",
    "\n",
    "df = pd.DataFrame(data=[{1,2,3},{4,5,6}],columns=['a','b','c'])\n",
    "\n",
    "g_client = storage.Client()\n",
    "\n",
    "g_bucket = g_client.get_bucket(l_bucket)\n",
    "\n",
    "print(\"--\")"
   ]
  },
  {
   "cell_type": "code",
   "execution_count": null,
   "id": "7edc778e-fe06-4133-b883-6d1957bdb50d",
   "metadata": {},
   "outputs": [],
   "source": [
    "#  Test above ..\n",
    "\n",
    "g_bucket.blob('jira_test/test.csv').upload_from_string(df.to_csv(), 'text/csv')\n",
    "\n",
    "print(\"--\")"
   ]
  },
  {
   "cell_type": "code",
   "execution_count": null,
   "id": "02bd9b8c-3204-4532-8fcc-0ef5fd36fadd",
   "metadata": {},
   "outputs": [],
   "source": [
    "# ##################################################################"
   ]
  },
  {
   "cell_type": "code",
   "execution_count": null,
   "id": "e4e24b74-89d3-431f-9211-fb476862852c",
   "metadata": {},
   "outputs": [],
   "source": [
    "import os\n",
    "\n",
    "from katana import remote\n",
    "from katana.remote import import_data\n",
    "\n",
    "my_client = remote.Client()\n",
    "\n",
    "print(my_client)"
   ]
  },
  {
   "cell_type": "code",
   "execution_count": null,
   "id": "9715c6f6-137c-429e-8c17-7a1d538c543f",
   "metadata": {},
   "outputs": [],
   "source": [
    "NUM_PARTITIONS  = 3\n",
    "   #\n",
    "DB_NAME         = \"my_db\"\n",
    "GRAPH_NAME      = \"my_graph\"\n",
    "\n",
    "print(\"--\")"
   ]
  },
  {
   "cell_type": "code",
   "execution_count": null,
   "id": "c38c4f0c-9431-4802-946c-d1ebc0136972",
   "metadata": {},
   "outputs": [],
   "source": [
    "#  DELETE ALL GRAPHS\n",
    "\n",
    "for l_database in my_client.databases():\n",
    "   for l_graph in my_client.get_database(name=l_database.name).graphs_in_database():\n",
    "      l_handle=my_client.get_database(name=l_database.name).get_graph_by_id(id=l_graph.graph_id)\n",
    "      l_handle.delete()\n",
    "\n",
    "for l_graph in my_client.graphs():\n",
    "   print(\"GRAPH ID: \", l_graph.graph_id, \"      GRAPH Version: \", l_graph.version)\n",
    "\n",
    "print(\"--\")"
   ]
  },
  {
   "cell_type": "code",
   "execution_count": null,
   "id": "99c7e24c-b039-4b69-8f52-5db15a26a28e",
   "metadata": {},
   "outputs": [],
   "source": [
    "#  DELETE ALL DATABASES\n",
    "\n",
    "for l_database in my_client.databases():\n",
    "   if (l_database.name != \"default\"):\n",
    "      my_client.get_database(name=l_database.name).delete_database()\n",
    "      print(\"--\")\n",
    "\n",
    "for l_database in my_client.databases():\n",
    "   print(\"DB ID: \", l_database.database_id, \"     DB Name: \", l_database.name)"
   ]
  },
  {
   "cell_type": "code",
   "execution_count": null,
   "id": "5e171876-c999-4711-aa8a-877698e947e2",
   "metadata": {},
   "outputs": [],
   "source": [
    "#  CREATE DATABASE\n",
    "\n",
    "my_database = my_client.create_database(name=DB_NAME)\n",
    "\n",
    "print(my_database.database_id)"
   ]
  },
  {
   "cell_type": "code",
   "execution_count": null,
   "id": "ba10f3c5-4f74-4523-be06-5370ed273138",
   "metadata": {},
   "outputs": [],
   "source": [
    "#  CREATE GRAPH\n",
    "#\n",
    "my_graph = my_client.get_database(name=DB_NAME).create_graph(name=GRAPH_NAME, num_partitions=NUM_PARTITIONS)\n",
    "\n",
    "print(my_graph)"
   ]
  },
  {
   "cell_type": "code",
   "execution_count": null,
   "id": "a9ca0967-8d5c-4cc5-bb04-c244cf887b61",
   "metadata": {},
   "outputs": [],
   "source": [
    "#  CONNECT TO GRAPH\n",
    "\n",
    "for l_graph in my_client.get_database(name=DB_NAME).graphs_in_database():\n",
    "   if (l_graph.name == GRAPH_NAME):\n",
    "      my_graph=my_client.get_database(name=DB_NAME).get_graph_by_id(id=l_graph.graph_id)\n",
    "         #\n",
    "      break\n",
    "\n",
    "print(my_graph)"
   ]
  },
  {
   "cell_type": "code",
   "execution_count": null,
   "id": "19027cb8-5793-45e1-a316-fcbc0bf2bd4a",
   "metadata": {},
   "outputs": [],
   "source": [
    "display(my_graph.num_nodes())\n",
    "display(my_graph.num_edges())"
   ]
  },
  {
   "cell_type": "code",
   "execution_count": null,
   "id": "ce860d08-fc15-4273-89dc-372b22ad9aba",
   "metadata": {},
   "outputs": [],
   "source": [
    "# ##################################################################"
   ]
  },
  {
   "cell_type": "code",
   "execution_count": null,
   "id": "6726ec52-c645-4bbe-81c4-9f19f6ae9c51",
   "metadata": {},
   "outputs": [],
   "source": [
    "#  Simple test, write, simple data types ..\n",
    "\n",
    "df = pd.DataFrame([\n",
    "   [101, \"Abhi\"  , \"Katana\"                , 'NY'     ],\n",
    "   [102, \"Justin\", \"Katana\"                , 'LA'     ],\n",
    "   [103, \"Brian\" , \"Katana\"                , 'Denver' ],\n",
    "   ], columns = ['Col A', 'Col B', 'Col C', 'Col D'])\n",
    "\n",
    "l_file = \"jira_test/test.parquet\"\n",
    "\n",
    "g_bucket.blob(l_file).upload_from_string(df.to_parquet(engine=\"pyarrow\", version=\"2.6\"), \"application/octet-stream\")\n",
    "\n",
    "print(\"--\")"
   ]
  },
  {
   "cell_type": "code",
   "execution_count": null,
   "id": "f23688a7-1c07-402f-b33f-eee125e989c5",
   "metadata": {},
   "outputs": [],
   "source": [
    "#  Simple test, read output from above ..\n",
    "\n",
    "l_InputFile  = \"gs://\" + l_bucket + \"/\" + l_file\n",
    "\n",
    "l_df = pd.read_parquet(l_InputFile)\n",
    "\n",
    "l_df.head(5)"
   ]
  },
  {
   "cell_type": "code",
   "execution_count": null,
   "id": "13d3e21b-5214-471f-8ff4-8641cfac811a",
   "metadata": {},
   "outputs": [],
   "source": [
    "#  We need a header/schema file to import into a graph ..\n",
    "\n",
    "df_h = pd.DataFrame([\n",
    "   [\"KATANA_DEFAULT_LABEL=Vertice1\"                       ],\n",
    "   [\"id:ID(Vertice1)|name:STRING|other:STRING|city:STRING\"],\n",
    "   [\"jira_test/test.parquet\"                              ],\n",
    "   ], columns = [\"Col_A\"])\n",
    "\n",
    "l_SchemaFile = \"jira_test/test_header.txt\"\n",
    "\n",
    "g_bucket.blob(l_SchemaFile).upload_from_string(df_h.to_csv(header=None, index=None, sep=\" \"), \"text/plain\")\n",
    "\n",
    "print(\"--\")"
   ]
  },
  {
   "cell_type": "code",
   "execution_count": null,
   "id": "9ff17c13-989d-476b-a094-c9150beef16a",
   "metadata": {},
   "outputs": [],
   "source": [
    "#  Make a graph from all above ..\n",
    "\n",
    "l_inp  = \"gs://\" + l_bucket + \"/jira_test/test_header.txt\"\n",
    "   #\n",
    "l_data = \"gs://\" + l_bucket \n",
    "\n",
    "\n",
    "import_data.parquet(\n",
    "    my_graph,\n",
    "    input_node_path  = l_inp,\n",
    "    input_dir        = l_data,\n",
    "    schema_delimiter = \"|\",\n",
    "    ids_are_integers = False\n",
    ")\n",
    "\n",
    "print(\"--\")"
   ]
  },
  {
   "cell_type": "code",
   "execution_count": null,
   "id": "443d0211-c9f0-4b77-945b-8c9e413b4c17",
   "metadata": {},
   "outputs": [],
   "source": [
    "display(my_graph.num_nodes())\n",
    "display(my_graph.num_edges())"
   ]
  },
  {
   "cell_type": "code",
   "execution_count": null,
   "id": "8d21f954-a012-45f1-be1b-18a0780e602c",
   "metadata": {},
   "outputs": [],
   "source": [
    "l_result = my_graph.query(\"\"\"\n",
    "\n",
    "   MATCH (n)\n",
    "   RETURN n\n",
    "   \n",
    "   \"\"\")\n",
    "\n",
    "print(l_result)"
   ]
  },
  {
   "cell_type": "code",
   "execution_count": null,
   "id": "c7ed08d5-dc7c-4e68-ba68-23ecbf77a31f",
   "metadata": {},
   "outputs": [],
   "source": [
    "# ##################################################################"
   ]
  },
  {
   "cell_type": "code",
   "execution_count": null,
   "id": "e242ac98-302c-4757-a50a-0cd5f3966ac5",
   "metadata": {},
   "outputs": [],
   "source": [
    "#  Reset from above, delete and recreate the graph\n",
    "\n",
    "#  DELETE GRAPH\n",
    "#\n",
    "for l_graph in my_client.get_database(name=DB_NAME).graphs_in_database():\n",
    "   if (l_graph.name == GRAPH_NAME):\n",
    "      l_handle=my_client.get_database(name=DB_NAME).get_graph_by_id(id=l_graph.graph_id)\n",
    "      l_handle.delete()\n",
    "\n",
    "print(\"--\")"
   ]
  },
  {
   "cell_type": "code",
   "execution_count": null,
   "id": "07315f7e-c63b-43a3-b420-f55445df1872",
   "metadata": {},
   "outputs": [],
   "source": [
    "#  CREATE GRAPH\n",
    "#\n",
    "my_graph = my_client.get_database(name=DB_NAME).create_graph(name=GRAPH_NAME, num_partitions=2)\n",
    "\n",
    "print(my_graph)"
   ]
  },
  {
   "cell_type": "code",
   "execution_count": null,
   "id": "c63ce953-7243-463f-8305-56f57b73b700",
   "metadata": {},
   "outputs": [],
   "source": [
    "# ##################################################################"
   ]
  },
  {
   "cell_type": "code",
   "execution_count": null,
   "id": "040bfe2f-0d5f-4674-b67e-5b485275e2bd",
   "metadata": {},
   "outputs": [],
   "source": [
    "#  Redo most things above, but with more complex data .."
   ]
  },
  {
   "cell_type": "code",
   "execution_count": null,
   "id": "5acf7a95-f923-43d9-83d1-9a1b44d341ff",
   "metadata": {},
   "outputs": [],
   "source": [
    "\n",
    "#  Write the more complex dataframe ..\n",
    "\n",
    "df = pd.DataFrame([\n",
    "   [101, 30, {\"ab\":1, \"we\":2, \"as\":3}, \"String1\"],\n",
    "   [102, 31, {\"ab\":4, \"we\":5, \"as\":6}, \"String2\"],\n",
    "   [103, 32, {\"ab\":7, \"we\":8, \"as\":9}, \"String2\"],\n",
    "   ], columns = [\"Col A\", \"Col B\", \"Col C\", \"Col D\"])\n",
    "\n",
    "l_file = \"jira_test/test2.parquet\"\n",
    "\n",
    "g_bucket.blob(l_file).upload_from_string(df.to_parquet(engine=\"pyarrow\", version=\"2.6\"), \"application/octet-stream\")\n",
    "\n",
    "print(\"--\")"
   ]
  },
  {
   "cell_type": "code",
   "execution_count": null,
   "id": "0828c545-fc10-4939-952b-cf8bbeb259d9",
   "metadata": {},
   "outputs": [],
   "source": [
    "l_InputFile  = \"gs://\" + l_bucket + \"/\" + l_file\n",
    "\n",
    "l_df = pd.read_parquet(l_InputFile)\n",
    "\n",
    "l_df.head(5)"
   ]
  },
  {
   "cell_type": "code",
   "execution_count": null,
   "id": "da941d26-4e3f-4873-9016-a058acb933fb",
   "metadata": {},
   "outputs": [],
   "source": [
    "#  Prove that we can (parse) the dataframe above, versus say \"Col C\" being a string ..\n",
    "\n",
    "l_df2 = pd.DataFrame(columns=['AB','WE','AS'])\n",
    "\n",
    "for (i,r) in l_df.iterrows():\n",
    "    e = r['Col C']\n",
    "    l_df2.loc[i] = [e['ab'], e['we'], e['as']]\n",
    "\n",
    "print(l_df2)"
   ]
  },
  {
   "cell_type": "code",
   "execution_count": null,
   "id": "86b0bc0e-6390-4932-a6df-bcd7fea3ce1e",
   "metadata": {},
   "outputs": [],
   "source": [
    "df_h = pd.DataFrame([\n",
    "   [\"KATANA_DEFAULT_LABEL=Vertice1\"  ],\n",
    "   [\"id:ID(Vertice1)|col2|other|city\"],\n",
    "   [\"jira_test/test2.parquet\"        ],\n",
    "   ], columns = [\"Col_A\"])\n",
    "\n",
    "l_SchemaFile = \"jira_test/test_header3.txt\"\n",
    "\n",
    "g_bucket.blob(l_SchemaFile).upload_from_string(df_h.to_csv(header=None, index=None, sep=\" \"), \"text/plain\")\n",
    "\n",
    "print(\"--\")"
   ]
  },
  {
   "cell_type": "code",
   "execution_count": null,
   "id": "913dda2e-3969-44da-b5b8-ea3f9ac9e0ae",
   "metadata": {},
   "outputs": [],
   "source": [
    "#  Make a graph from all above ..\n",
    "\n",
    "l_inp  = \"gs://\" + l_bucket + \"/jira_test/test_header3.txt\"\n",
    "   #\n",
    "l_data = \"gs://\" + l_bucket\n",
    "\n",
    "\n",
    "import_data.parquet(\n",
    "    my_graph,\n",
    "    input_node_path=l_inp,\n",
    "    input_dir=l_data,\n",
    "    schema_delimiter=\"|\",\n",
    "    ids_are_integers=True\n",
    ")\n",
    "\n",
    "print(\"--\")"
   ]
  },
  {
   "cell_type": "code",
   "execution_count": null,
   "id": "01cea755-1fb5-4031-aa65-3cec8fb1a359",
   "metadata": {},
   "outputs": [],
   "source": [
    "display(my_graph.num_nodes())\n",
    "display(my_graph.num_edges())"
   ]
  },
  {
   "cell_type": "code",
   "execution_count": null,
   "id": "c60fc7df-ad0f-45cc-8dc0-a551d7426bc2",
   "metadata": {},
   "outputs": [],
   "source": [
    "\n",
    "l_result = my_graph.query(\"\"\"\n",
    "\n",
    "   MATCH (n)\n",
    "   RETURN n\n",
    "   \"\"\")\n",
    "\n",
    "print(l_result)\n"
   ]
  },
  {
   "cell_type": "code",
   "execution_count": null,
   "id": "085da479-4d5a-4b96-a9b7-a7ca69e35592",
   "metadata": {},
   "outputs": [],
   "source": [
    "# ##################################################################"
   ]
  },
  {
   "cell_type": "code",
   "execution_count": null,
   "id": "847b0c2d-d675-4240-9135-6e725c136e62",
   "metadata": {},
   "outputs": [],
   "source": [
    "#  Basically above, instead of dictionary, use an array ..\n",
    "#\n",
    "#  Go above: Delete graph, recreate graph, then ..\n",
    "\n",
    "#  Write the more complex dataframe ..\n",
    "\n",
    "df = pd.DataFrame([\n",
    "   [101, 30, [ 1, 2, 3 ], \"String1\"],\n",
    "   [102, 31, [ 4, 5, 6 ], \"String2\"],\n",
    "   [103, 32, [ 7, 8, 9 ], \"String2\"],\n",
    "   ], columns = [\"Col A\", \"Col B\", \"Col C\", \"Col D\"])\n",
    "\n",
    "l_file = \"jira_test/test4.parquet\"\n",
    "\n",
    "g_bucket.blob(l_file).upload_from_string(df.to_parquet(engine=\"pyarrow\", version=\"2.6\"), \"application/octet-stream\")\n",
    "\n",
    "print(\"--\")\n"
   ]
  },
  {
   "cell_type": "code",
   "execution_count": null,
   "id": "804908e6-f391-43c7-bbb8-67ef3d631aa1",
   "metadata": {},
   "outputs": [],
   "source": [
    "l_InputFile  = \"gs://\" + l_bucket + \"/\" + l_file\n",
    "\n",
    "l_df = pd.read_parquet(l_InputFile)\n",
    "\n",
    "l_df.head(5)"
   ]
  },
  {
   "cell_type": "code",
   "execution_count": null,
   "id": "d1a856bd-93a2-4b9d-ae94-647ebc48af95",
   "metadata": {},
   "outputs": [],
   "source": [
    "df_h = pd.DataFrame([\n",
    "   [\"KATANA_DEFAULT_LABEL=Vertice1\"  ],\n",
    "   [\"id:ID(Vertice1)|col2|other|city\"],\n",
    "   [\"jira_test/test2.parquet\"        ],\n",
    "   ], columns = [\"Col_A\"])\n",
    "\n",
    "l_SchemaFile = \"jira_test/test_header5.txt\"\n",
    "\n",
    "g_bucket.blob(l_SchemaFile).upload_from_string(df_h.to_csv(header=None, index=None, sep=\" \"), \"text/plain\")\n",
    "\n",
    "print(\"--\")"
   ]
  },
  {
   "cell_type": "code",
   "execution_count": null,
   "id": "373df69f-ea48-4afc-a0a2-e1c02d3fd5ec",
   "metadata": {},
   "outputs": [],
   "source": [
    "#  Make a graph from all above ..\n",
    "\n",
    "l_inp  = \"gs://\" + l_bucket + \"/jira_test/test_header5.txt\"\n",
    "   #\n",
    "l_data = \"gs://\" + l_bucket\n",
    "\n",
    "\n",
    "import_data.parquet(\n",
    "    my_graph,\n",
    "    input_node_path=l_inp,\n",
    "    input_dir=l_data,\n",
    "    schema_delimiter=\"|\",\n",
    "    ids_are_integers=True\n",
    ")\n",
    "\n",
    "print(\"--\")"
   ]
  },
  {
   "cell_type": "code",
   "execution_count": null,
   "id": "2cde894a-6962-4031-9862-c356659d9cdb",
   "metadata": {},
   "outputs": [],
   "source": [
    "display(my_graph.num_nodes())\n",
    "display(my_graph.num_edges())"
   ]
  },
  {
   "cell_type": "code",
   "execution_count": null,
   "id": "847c81a5-ee7e-42bf-9a47-6effdaf2fe53",
   "metadata": {},
   "outputs": [],
   "source": [
    "l_result = my_graph.query(\"\"\"\n",
    "\n",
    "   MATCH (n)\n",
    "   RETURN n\n",
    "   \n",
    "   \"\"\")\n",
    "\n",
    "print(l_result)"
   ]
  },
  {
   "cell_type": "code",
   "execution_count": null,
   "id": "6188cad0-910a-4206-96c0-aab9fbe7dab3",
   "metadata": {},
   "outputs": [],
   "source": [
    "# ##################################################################"
   ]
  },
  {
   "cell_type": "code",
   "execution_count": null,
   "id": "579f8e83-d764-4b64-98ce-5cf25e1f8127",
   "metadata": {},
   "outputs": [],
   "source": [
    "\n",
    "#  Below here, just DF manipulation\n",
    "#\n",
    "\n",
    "# Create dataframe where you'll store the dictionary values\n",
    "# ddf = pd.DataFrame(columns=['AB','WE','AS'])\n",
    "# \n",
    "# Populate ddf dataframe\n",
    "# for (i,r) in df.iterrows():\n",
    "#     e = r['Col C']\n",
    "#     ddf.loc[i] = [e['ab'], e['we'], e['as']]\n",
    "# \n",
    "# Replace df with the output of concat(df, ddf)\n",
    "# df = pd.concat([df, ddf], axis=1)\n",
    "\n",
    "# New column order, also drops old Col C column\n",
    "# df = df[['Col A', 'Col B', 'AB', 'WE', 'AS', 'Col D']]\n",
    "\n"
   ]
  }
 ],
 "metadata": {
  "kernelspec": {
   "display_name": "Python 3 (ipykernel)",
   "language": "python",
   "name": "python3"
  },
  "language_info": {
   "codemirror_mode": {
    "name": "ipython",
    "version": 3
   },
   "file_extension": ".py",
   "mimetype": "text/x-python",
   "name": "python",
   "nbconvert_exporter": "python",
   "pygments_lexer": "ipython3",
   "version": "3.8.13"
  }
 },
 "nbformat": 4,
 "nbformat_minor": 5
}
