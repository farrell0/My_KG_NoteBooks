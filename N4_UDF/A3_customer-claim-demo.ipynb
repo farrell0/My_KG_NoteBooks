{
 "cells": [
  {
   "cell_type": "markdown",
   "id": "82a70fa3-5204-42bc-b065-4fa077a36576",
   "metadata": {
    "tags": []
   },
   "source": [
    "### Setup and import graph"
   ]
  },
  {
   "cell_type": "code",
   "execution_count": 1,
   "id": "d15210fc-ab82-4bd9-80f4-2f283d3cfaa4",
   "metadata": {},
   "outputs": [],
   "source": [
    "######## setup variables ##########\n",
    "gs_prefix=\"gs://anand-31-simple-files/customer-claims/customer-360\"\n",
    "#cluster_name=\"katana-internal31\"\n",
    "partitions = 2\n",
    "prefix = gs_prefix\n",
    "platform_prefix= prefix"
   ]
  },
  {
   "cell_type": "code",
   "execution_count": 2,
   "id": "d54dec81-4ec2-4bbb-af34-294dc7894523",
   "metadata": {},
   "outputs": [],
   "source": [
    "import os                                                                        \n",
    "import time                                                                      \n",
    "import json\n",
    "import pandas as pd\n",
    "from timeit import default_timer as timer\n",
    "from katana.remote import aio, analytics, import_data, trace\n",
    "\n",
    "from katana import remote\n",
    "from katana.remote import import_data\n",
    "\n",
    "from katana.remote.analytics import connected_components, louvain_clustering\n",
    "\n",
    "os.environ[\"KATANA_SERVER_ADDRESS\"] = \"host.docker.internal:8080\"\n",
    "\n",
    "pd.set_option('display.max_columns', None)\n",
    "pd.set_option(\"max_colwidth\", None)"
   ]
  },
  {
   "cell_type": "code",
   "execution_count": 3,
   "id": "ae5c18da-bd95-48c6-8705-dff778f73b05",
   "metadata": {},
   "outputs": [
    {
     "data": {
      "text/plain": [
       "'0.2.2.dev+qa.5.55.bf870a.0c657d'"
      ]
     },
     "execution_count": 3,
     "metadata": {},
     "output_type": "execute_result"
    }
   ],
   "source": [
    "rc=remote.Client()\n",
    "rc.server_version"
   ]
  },
  {
   "cell_type": "code",
   "execution_count": 4,
   "id": "f86ca9c2-ccda-4bc8-a593-fa4f5fa7bd23",
   "metadata": {},
   "outputs": [],
   "source": [
    "\n",
    "graph = rc.create_graph(\n",
    "    num_partitions=partitions,\n",
    "    name=\"customer-claims\"\n",
    ")"
   ]
  },
  {
   "cell_type": "code",
   "execution_count": 5,
   "id": "327d4ac7-e323-41e0-853a-b0ceecd40146",
   "metadata": {},
   "outputs": [
    {
     "data": {
      "text/plain": [
       "'EXG5KgDxpBQNLKGe5ECmQb9fvvKCLehEPhYWLBmqJQPr'"
      ]
     },
     "execution_count": 5,
     "metadata": {},
     "output_type": "execute_result"
    }
   ],
   "source": [
    "graph.graph_id"
   ]
  },
  {
   "cell_type": "code",
   "execution_count": 6,
   "id": "b3fd0ff0-9855-42fe-8792-a1f1c198e648",
   "metadata": {},
   "outputs": [],
   "source": [
    "test_node_file = platform_prefix + \"/42_NodeHeader.txt\"\n",
    "test_edge_file = platform_prefix + \"/43_EdgeHeader.txt\"\n",
    "input_path=platform_prefix \n"
   ]
  },
  {
   "cell_type": "code",
   "execution_count": 7,
   "id": "1a80917a-8a9c-49ab-a2b8-cfe67210f9c9",
   "metadata": {},
   "outputs": [
    {
     "name": "stdout",
     "output_type": "stream",
     "text": [
      "Importing graph from CSV files...\n"
     ]
    },
    {
     "data": {
      "application/vnd.jupyter.widget-view+json": {
       "model_id": "5837e46401a540829d252940bb6f154b",
       "version_major": 2,
       "version_minor": 0
      },
      "text/plain": [
       "          0/? [?op/s]"
      ]
     },
     "metadata": {},
     "output_type": "display_data"
    },
    {
     "name": "stdout",
     "output_type": "stream",
     "text": [
      "  import: 98.0 seconds\n"
     ]
    }
   ],
   "source": [
    "start = timer()\n",
    "print(\"Importing graph from CSV files...\")\n",
    "import_data.csv(\n",
    "    graph,\n",
    "    input_node_path=test_node_file,\n",
    "    input_edge_path=test_edge_file,\n",
    "    input_dir=input_path,\n",
    "#    have_headers=True,\n",
    "    data_delimiter=\"|\",\n",
    "    schema_delimiter=\"|\"\n",
    "    #partition_policy=\"random-oec\"\n",
    ")\n",
    "end = timer()\n",
    "print(f\"  import: {end - start:.1f} seconds\") "
   ]
  },
  {
   "cell_type": "code",
   "execution_count": 8,
   "id": "9d3fbc22-8652-4191-b175-7ecfe4feba95",
   "metadata": {},
   "outputs": [
    {
     "data": {
      "application/vnd.jupyter.widget-view+json": {
       "model_id": "accb8bd734df44a5bcc017b7da94d4a9",
       "version_major": 2,
       "version_minor": 0
      },
      "text/plain": [
       "          0/? [?op/s]"
      ]
     },
     "metadata": {},
     "output_type": "display_data"
    },
    {
     "name": "stdout",
     "output_type": "stream",
     "text": [
      "CPU times: user 188 ms, sys: 73.5 ms, total: 261 ms\n",
      "Wall time: 8.24 s\n"
     ]
    },
    {
     "data": {
      "text/plain": [
       "2901419"
      ]
     },
     "execution_count": 8,
     "metadata": {},
     "output_type": "execute_result"
    }
   ],
   "source": [
    "%%time\n",
    "graph.num_nodes()"
   ]
  },
  {
   "cell_type": "code",
   "execution_count": null,
   "id": "bff7cad8-a8c1-41ae-a9cd-08cfa445a109",
   "metadata": {},
   "outputs": [],
   "source": [
    "graph.num_edges()"
   ]
  },
  {
   "cell_type": "markdown",
   "id": "c7bf652b-4c44-43cd-ade4-77aa161f07e9",
   "metadata": {
    "tags": []
   },
   "source": [
    "## Investigate the neighbourhood of an Claimant with high payouts"
   ]
  },
  {
   "cell_type": "code",
   "execution_count": 9,
   "id": "07f4fe51-78fe-46f8-b263-5a367e87f333",
   "metadata": {},
   "outputs": [
    {
     "data": {
      "application/vnd.jupyter.widget-view+json": {
       "model_id": "27559370f26f47dabcdec68efc9e2d5c",
       "version_major": 2,
       "version_minor": 0
      },
      "text/plain": [
       "          0/? [?op/s]"
      ]
     },
     "metadata": {},
     "output_type": "display_data"
    },
    {
     "name": "stdout",
     "output_type": "stream",
     "text": [
      "CPU times: user 2.38 s, sys: 616 ms, total: 2.99 s\n",
      "Wall time: 23.1 s\n"
     ]
    },
    {
     "data": {
      "application/vnd.jupyter.widget-view+json": {
       "model_id": "33be30f7002c417b8e0231a7eae18801",
       "version_major": 2,
       "version_minor": 0
      },
      "text/plain": [
       "VBox(children=(HTML(value='\\n                <style>\\n                #jp-main-content-panel .result_set_tab_w…"
      ]
     },
     "metadata": {},
     "output_type": "display_data"
    }
   ],
   "source": [
    "%%time\n",
    "#High number of payouts\n",
    "query1=\"\"\"\n",
    "        MATCH (p:Claimant)<-[]-(py:Payment)\n",
    "        RETURN count(py) as count, p.id order by count desc\n",
    "        \"\"\"\n",
    "result = graph.query(query1, contextualize=True)\n",
    "result.view()"
   ]
  },
  {
   "cell_type": "markdown",
   "id": "8a64359b-c0f8-4375-9574-da4eaefeae37",
   "metadata": {},
   "source": [
    "<b> Let's have a look at the claimant neighborhood </b>"
   ]
  },
  {
   "cell_type": "code",
   "execution_count": 30,
   "id": "3d04d47b-147e-4282-8623-134bd90780fb",
   "metadata": {},
   "outputs": [
    {
     "data": {
      "application/vnd.jupyter.widget-view+json": {
       "model_id": "9fbf929e4f2e41fc87ebc373d481e48c",
       "version_major": 2,
       "version_minor": 0
      },
      "text/plain": [
       "          0/? [?op/s]"
      ]
     },
     "metadata": {},
     "output_type": "display_data"
    },
    {
     "data": {
      "application/vnd.jupyter.widget-view+json": {
       "model_id": "5572c55c3f964a9b930cfb734de7b8f0",
       "version_major": 2,
       "version_minor": 0
      },
      "text/plain": [
       "          0/? [?op/s]"
      ]
     },
     "metadata": {},
     "output_type": "display_data"
    },
    {
     "name": "stdout",
     "output_type": "stream",
     "text": [
      "CPU times: user 1.12 s, sys: 334 ms, total: 1.46 s\n",
      "Wall time: 27.7 s\n"
     ]
    },
    {
     "data": {
      "application/vnd.jupyter.widget-view+json": {
       "model_id": "c390d43b76a24b899f3ed5592c35ddea",
       "version_major": 2,
       "version_minor": 0
      },
      "text/plain": [
       "VBox(children=(HTML(value='\\n                <style>\\n                #jp-main-content-panel .result_set_tab_w…"
      ]
     },
     "metadata": {},
     "output_type": "display_data"
    }
   ],
   "source": [
    "%%time\n",
    "#Payments\n",
    "query1=\"\"\"\n",
    "        MATCH (p:Claimant)<-[]-(py:Payment)\n",
    "        where p.id = 'C_8900'\n",
    "        RETURN p, py\n",
    "        \"\"\"\n",
    "result = graph.query(query1, contextualize=True)\n",
    "result.view()"
   ]
  },
  {
   "cell_type": "code",
   "execution_count": null,
   "id": "7363d427-d064-4b28-a00d-f1c0e02772dd",
   "metadata": {},
   "outputs": [],
   "source": [
    "%%time\n",
    "#check Folks involved in common claim\n",
    "query1=\"\"\"\n",
    "        MATCH (p:Claimant)-[:MADE]->(c:Claim)<-[:MADE]-(p2)\n",
    "        where p.id = 'C_8900'\n",
    "        RETURN p, c, p2\n",
    "        \"\"\"\n",
    "result = graph.query(query1, contextualize=True)\n",
    "result.view()"
   ]
  },
  {
   "cell_type": "markdown",
   "id": "4041e7db-2309-4ab9-ad86-90ba5db07686",
   "metadata": {
    "tags": []
   },
   "source": [
    "### Enriching the Topology: Duplicate Detection and Linking\n",
    "We will pick claimants connected to C_8900 via common claims and look for duplicates"
   ]
  },
  {
   "cell_type": "code",
   "execution_count": 32,
   "id": "f7792376-77f8-44ef-906d-7b97dc00c695",
   "metadata": {},
   "outputs": [
    {
     "data": {
      "application/vnd.jupyter.widget-view+json": {
       "model_id": "d4903261f08247bfb2175ac7d1110131",
       "version_major": 2,
       "version_minor": 0
      },
      "text/plain": [
       "          0/? [?op/s]"
      ]
     },
     "metadata": {},
     "output_type": "display_data"
    },
    {
     "name": "stdout",
     "output_type": "stream",
     "text": [
      "CPU times: user 537 ms, sys: 154 ms, total: 690 ms\n",
      "Wall time: 6.26 s\n"
     ]
    },
    {
     "data": {
      "application/vnd.jupyter.widget-view+json": {
       "model_id": "6857a4b5f6de44ef904ba49ea100e768",
       "version_major": 2,
       "version_minor": 0
      },
      "text/plain": [
       "VBox(children=(HTML(value='\\n                <style>\\n                #jp-main-content-panel .result_set_tab_w…"
      ]
     },
     "metadata": {},
     "output_type": "display_data"
    }
   ],
   "source": [
    "%%time\n",
    "query1=\"\"\"\n",
    "        MATCH (p:Claimant)-[]-(c:Claim)<-[]-(p2:Claimant)\n",
    "        where p.id = 'C_8900'\n",
    "        RETURN distinct(p2) order by p2.firstname\n",
    "        \"\"\"\n",
    "result = graph.query(query1)\n",
    "result.view()"
   ]
  },
  {
   "cell_type": "code",
   "execution_count": 33,
   "id": "71ad4c64-be69-4cac-91dc-baf512e20974",
   "metadata": {},
   "outputs": [],
   "source": [
    "candidates = []\n",
    "for e in result.iterrows():\n",
    "    candidate = dict()\n",
    "    candidate['firstname'] = e[1]['p2.firstname']\n",
    "    candidate['lastname'] = e[1]['p2.lastname']\n",
    "    candidate['id'] = e[1]['p2.id']\n",
    "    candidate['address'] = e[1]['p2.address']\n",
    "    candidates.append(candidate)"
   ]
  },
  {
   "cell_type": "code",
   "execution_count": 34,
   "id": "271fa677-cfaf-4ee2-9cf1-c41e746dac3c",
   "metadata": {},
   "outputs": [
    {
     "data": {
      "text/plain": [
       "77"
      ]
     },
     "execution_count": 34,
     "metadata": {},
     "output_type": "execute_result"
    }
   ],
   "source": [
    "len(candidates)"
   ]
  },
  {
   "cell_type": "code",
   "execution_count": 35,
   "id": "2415a877-dda5-46a5-a013-15a7445b1ad7",
   "metadata": {},
   "outputs": [
    {
     "data": {
      "text/plain": [
       "0.9655172413793104"
      ]
     },
     "execution_count": 35,
     "metadata": {},
     "output_type": "execute_result"
    }
   ],
   "source": [
    "import difflib\n",
    "par1 = 'Daniel Williams'\n",
    "par2 = 'Daniel William'\n",
    "score = difflib.SequenceMatcher(None, par1, par2).ratio()\n",
    "score"
   ]
  },
  {
   "cell_type": "code",
   "execution_count": 36,
   "id": "9f424b06-2316-4256-8b31-cba6f20bb17e",
   "metadata": {},
   "outputs": [
    {
     "data": {
      "application/vnd.jupyter.widget-view+json": {
       "model_id": "11f21bd0b9b445d1a8d3a36f145928fc",
       "version_major": 2,
       "version_minor": 0
      },
      "text/plain": [
       "          0/? [?op/s]"
      ]
     },
     "metadata": {},
     "output_type": "display_data"
    },
    {
     "name": "stdout",
     "output_type": "stream",
     "text": [
      "Finding duplicates\n",
      "katana-compute-2\n",
      "Last position of candidates to compare 76\n",
      "duplicates C_312900 C_84200\n",
      "addressand score 23222 Tammy Lane Smithvill US 93158 23222 Tammie Lane Smithville US 93158 0.9444444444444444\n",
      "duplicates C_236100 C_16800\n",
      "addressand score 36425 Jessica Alley East Alexa United States Minor Outlying Islands 29307 36425 Jess Alley East Alexa United States Minor Outlying Islands 29307 0.9790209790209791\n",
      "processing complete for node katana-compute-2\n",
      "last position compared 77\n",
      "finished writing duplicates\n"
     ]
    }
   ],
   "source": [
    "def write_duplicates(graph, candidates):\n",
    "    import csv\n",
    "    import difflib\n",
    "    print(\"Finding duplicates\")\n",
    "    import socket\n",
    "    print(socket.gethostname())\n",
    "    \n",
    "    pos = int(socket.gethostname().replace('katana-compute-',''))\n",
    "    lastIndex = len(candidates) - 1\n",
    "    print('Last position of candidates to compare', lastIndex)\n",
    "    duplicates=[]\n",
    "    while pos < lastIndex:\n",
    "        nameOfSource = candidates[pos]['firstname'] + candidates[pos]['lastname']\n",
    "        addressOfSource = candidates[pos]['address']\n",
    "        idOfSource = candidates[pos]['id']\n",
    "        looper = 0\n",
    "        while looper < lastIndex:\n",
    "            idOfTarget = candidates[looper]['id']\n",
    "            if idOfSource == idOfTarget:\n",
    "                looper = looper + 1\n",
    "                continue\n",
    "            nameOfTarget = candidates[looper]['firstname'] + candidates[looper]['lastname']\n",
    "            addressOfTarget = candidates[looper]['address']\n",
    "            score = difflib.SequenceMatcher(None, nameOfSource, nameOfTarget).ratio()\n",
    "            score_address = difflib.SequenceMatcher(None, addressOfSource, addressOfTarget).ratio()\n",
    "            if(score > 0.8) and (score_address > 0.8):\n",
    "                print('duplicates', idOfSource, idOfTarget)\n",
    "                print('addressand score', addressOfSource, addressOfTarget, score_address)\n",
    "                duplicate = dict()\n",
    "                duplicate['idOfSource'] = idOfSource\n",
    "                duplicate['idOfTarget'] = idOfTarget\n",
    "                duplicates.append(duplicate)\n",
    "            looper = looper + 1\n",
    "        pos = pos + 5\n",
    "    print('processing complete for node', socket.gethostname())\n",
    "    print('last position compared', pos)\n",
    "    \n",
    "    outFileName = '/tmp/dups-1.csv'\n",
    "    fields = ['idOfSource', 'idOfTarget']\n",
    "    with open(outFileName, 'w') as csvfile:\n",
    "        writer = csv.DictWriter(csvfile, fieldnames=fields, delimiter='|')\n",
    "        writer.writeheader()\n",
    "        if (len(duplicates) > 0): \n",
    "            writer.writerows(duplicates)\n",
    "    print('finished writing duplicates')\n",
    "    \n",
    "#graph.run(lambda g: dist_count(g, 'argument1', 'argument2', 'argument3'))\n",
    "#candidates = ['argument1', 'argument2', 'argument3','argument4', 'argument5']\n",
    "graph.run(lambda g: write_duplicates(g, candidates))\n"
   ]
  },
  {
   "cell_type": "code",
   "execution_count": null,
   "id": "e302566c-e273-4963-b3bf-61459998e25f",
   "metadata": {},
   "outputs": [],
   "source": [
    "duplicates = []\n",
    "duplicates.append(['C_312900','C_84200'])\n",
    "duplicates.append(['C_236100','C_16800'])\n",
    "duplicates.append(['C_106500','C_216400'])\n",
    "len(duplicates)"
   ]
  },
  {
   "cell_type": "code",
   "execution_count": 9,
   "id": "e8482442-add6-4989-8a74-a72e131069cb",
   "metadata": {},
   "outputs": [
    {
     "name": "stdout",
     "output_type": "stream",
     "text": [
      "\n",
      "        MATCH (p1:Claimant),(p2:Claimant),(p3:Claimant),(p4:Claimant),(p5:Claimant),(p6:Claimant)\n",
      "        where p1.id = 'C_312900'\n",
      "          and p2.id = 'C_84200'\n",
      "          and p3.id = 'C_236100'\n",
      "          and p4.id = 'C_16800'\n",
      "          and p5.id = 'C_106500'\n",
      "          and p6.id = 'C_216400'\n",
      "        with p1, p2, p3, p4, p5, p6\n",
      "        create (p1)-[:isDuplicatedBy]->(p2)-[:isDuplicatedBy]->(p1),\n",
      "               (p3)-[:isDuplicatedBy]->(p4)-[:isDuplicatedBy]->(p3),\n",
      "               (p5)-[:isDuplicatedBy]->(p6)-[:isDuplicatedBy]->(p5)\n",
      "        RETURN p1, p2, p3, p4, p5, p6\n",
      "        \n"
     ]
    },
    {
     "data": {
      "application/vnd.jupyter.widget-view+json": {
       "model_id": "2737a58a0ff0469ea289a265ec6923af",
       "version_major": 2,
       "version_minor": 0
      },
      "text/plain": [
       "          0/? [?op/s]"
      ]
     },
     "metadata": {},
     "output_type": "display_data"
    }
   ],
   "source": [
    "#Mutation 1\n",
    "query1=\"\"\"\n",
    "        MATCH (p1:Claimant),(p2:Claimant),(p3:Claimant),(p4:Claimant),(p5:Claimant),(p6:Claimant)\n",
    "        where p1.id = '_d1_'\n",
    "          and p2.id = '_d2_'\n",
    "          and p3.id = '_d3_'\n",
    "          and p4.id = '_d4_'\n",
    "          and p5.id = '_d5_'\n",
    "          and p6.id = '_d6_'\n",
    "        with p1, p2, p3, p4, p5, p6\n",
    "        create (p1)-[:isDuplicatedBy]->(p2)-[:isDuplicatedBy]->(p1),\n",
    "               (p3)-[:isDuplicatedBy]->(p4)-[:isDuplicatedBy]->(p3),\n",
    "               (p5)-[:isDuplicatedBy]->(p6)-[:isDuplicatedBy]->(p5)\n",
    "        RETURN p1, p2, p3, p4, p5, p6\n",
    "        \"\"\"\n",
    "query1 = query1.replace('_d1_', 'C_312900')\n",
    "query1 = query1.replace('_d2_', 'C_84200')\n",
    "query1 = query1.replace('_d3_', 'C_236100')\n",
    "query1 = query1.replace('_d4_', 'C_16800')\n",
    "query1 = query1.replace('_d5_', 'C_106500')\n",
    "query1 = query1.replace('_d6_', 'C_216400')\n",
    "\n",
    "print(query1)\n",
    "result = graph.query(query1)"
   ]
  },
  {
   "cell_type": "code",
   "execution_count": null,
   "id": "aa648a91-6551-4ddd-b331-1763280af2d7",
   "metadata": {},
   "outputs": [],
   "source": [
    "%%time\n",
    "#check duplicate objects\n",
    "query1=\"\"\"\n",
    "        MATCH (p1:Claimant)-[:isDuplicatedBy]->(p2:Claimant)\n",
    "        RETURN p1, p2\n",
    "        \"\"\"\n",
    "result = graph.query(query1, contextualize=True)\n",
    "result.view()"
   ]
  },
  {
   "cell_type": "markdown",
   "id": "33c1a398-00e1-4d1b-b002-05e603f4494e",
   "metadata": {
    "tags": []
   },
   "source": [
    "## Revisit the neighborhood and check for a fraudulent patterns"
   ]
  },
  {
   "cell_type": "code",
   "execution_count": null,
   "id": "49e1cf0a-9438-466e-ad93-b7e5818f8eec",
   "metadata": {},
   "outputs": [],
   "source": [
    "%%time\n",
    "#check Folks involved in common claim\n",
    "query1=\"\"\"\n",
    "        MATCH (p:Claimant)-[:MADE]->(c:Claim)<-[e:MADE]-(p2)\n",
    "        where p.id = 'C_8900'\n",
    "        with p, c, p2\n",
    "        MATCH (p:Claimant)-[:MADE]->(c:Claim)<-[e1:MADE]-(p2)\n",
    "        where e1.ROLE = 'witness'\n",
    "        RETURN p, c, p2\n",
    "        \"\"\"\n",
    "result = graph.query(query1, contextualize=True)\n",
    "result.view()"
   ]
  },
  {
   "cell_type": "markdown",
   "id": "1eb45f6e-6ce0-488a-bfef-8a567fc7dc8b",
   "metadata": {
    "tags": []
   },
   "source": [
    "## Project the claimant-claimant relationship, and then revisit the neighborhood of C_8900"
   ]
  },
  {
   "cell_type": "code",
   "execution_count": 10,
   "id": "d3dee71b-0348-4616-a0d6-ce5cbb894b71",
   "metadata": {},
   "outputs": [
    {
     "data": {
      "application/vnd.jupyter.widget-view+json": {
       "model_id": "0cf146d3a86747198b3cba4c3c94e334",
       "version_major": 2,
       "version_minor": 0
      },
      "text/plain": [
       "          0/? [?op/s]"
      ]
     },
     "metadata": {},
     "output_type": "display_data"
    },
    {
     "name": "stdout",
     "output_type": "stream",
     "text": [
      "CPU times: user 1.49 s, sys: 304 ms, total: 1.79 s\n",
      "Wall time: 23.5 s\n"
     ]
    },
    {
     "data": {
      "application/vnd.jupyter.widget-view+json": {
       "model_id": "6a557375c9154246a4673b873839da2e",
       "version_major": 2,
       "version_minor": 0
      },
      "text/plain": [
       "VBox(children=(HTML(value='\\n                <style>\\n                #jp-main-content-panel .result_set_tab_w…"
      ]
     },
     "metadata": {},
     "output_type": "display_data"
    }
   ],
   "source": [
    "%%time\n",
    "query1=\"\"\"\n",
    "        MATCH (p1:Claimant)-[]-(c:Claim)-[]-(p2:Claimant)\n",
    "        with p2,p1, count(c) as common_claim_count \n",
    "        create (p1)-[:common_claim{count: common_claim_count}]->(p2)-[:common_claim{count: common_claim_count}]->(p1)\n",
    "        \"\"\"\n",
    "result = graph.query(query1)\n",
    "result.view()"
   ]
  },
  {
   "cell_type": "markdown",
   "id": "2fa89b62-2e51-434b-b9cb-279e3311e06d",
   "metadata": {
    "tags": []
   },
   "source": [
    "## Pagerank and Louvain Algorithms"
   ]
  },
  {
   "cell_type": "code",
   "execution_count": 11,
   "id": "055ac2b4-9388-43c2-9898-973cd87f728c",
   "metadata": {},
   "outputs": [
    {
     "data": {
      "application/vnd.jupyter.widget-view+json": {
       "model_id": "4b99c8f8bbf743d389725e75160c7d13",
       "version_major": 2,
       "version_minor": 0
      },
      "text/plain": [
       "          0/? [?op/s]"
      ]
     },
     "metadata": {},
     "output_type": "display_data"
    }
   ],
   "source": [
    "from katana.remote.analytics import pagerank\n",
    "pagerank(graph, 'pg2')"
   ]
  },
  {
   "cell_type": "code",
   "execution_count": 13,
   "id": "ee692884-2ab8-4169-a08e-0468a76f2d1f",
   "metadata": {},
   "outputs": [
    {
     "data": {
      "application/vnd.jupyter.widget-view+json": {
       "model_id": "f78ab53f97be4e1dbeb70f26c05593fc",
       "version_major": 2,
       "version_minor": 0
      },
      "text/plain": [
       "          0/? [?op/s]"
      ]
     },
     "metadata": {},
     "output_type": "display_data"
    }
   ],
   "source": [
    "gp2 = graph.project(node_types = ['Claimant'], edge_types = ['common_claim', 'isDuplicatedBy'])\n",
    "louvain_clustering(gp2,'lv3',  is_symmetric=True)"
   ]
  },
  {
   "cell_type": "code",
   "execution_count": 39,
   "id": "46ddc5e3-be17-477b-ac2a-6aaf79f5647d",
   "metadata": {},
   "outputs": [
    {
     "data": {
      "application/vnd.jupyter.widget-view+json": {
       "model_id": "4355d362a4f94d51a334d7e8065632fd",
       "version_major": 2,
       "version_minor": 0
      },
      "text/plain": [
       "          0/? [?op/s]"
      ]
     },
     "metadata": {},
     "output_type": "display_data"
    },
    {
     "name": "stdout",
     "output_type": "stream",
     "text": [
      "CPU times: user 378 ms, sys: 108 ms, total: 486 ms\n",
      "Wall time: 18.9 s\n"
     ]
    },
    {
     "data": {
      "application/vnd.jupyter.widget-view+json": {
       "model_id": "0a3bd6f7101444868b07efe707b19dca",
       "version_major": 2,
       "version_minor": 0
      },
      "text/plain": [
       "VBox(children=(HTML(value='\\n                <style>\\n                #jp-main-content-panel .result_set_tab_w…"
      ]
     },
     "metadata": {},
     "output_type": "display_data"
    }
   ],
   "source": [
    "%%time\n",
    "#check top clusters\n",
    "query1=\"\"\"\n",
    "        MATCH (p:Claimant)\n",
    "        with avg(toFloat(p.pg2))as avg_pr, count(p) as count, p.lv3 as lv\n",
    "        where count > 1\n",
    "        return avg_pr, count, lv order by avg_pr desc limit 10\n",
    "        \"\"\"\n",
    "result = graph.query(query1)\n",
    "result.view()"
   ]
  },
  {
   "cell_type": "code",
   "execution_count": 38,
   "id": "69830cc8-fa96-40cc-bc09-b98769ef90ad",
   "metadata": {},
   "outputs": [
    {
     "data": {
      "application/vnd.jupyter.widget-view+json": {
       "model_id": "f8c7fe0c07dc4bceba2a7debaeaa1a9f",
       "version_major": 2,
       "version_minor": 0
      },
      "text/plain": [
       "          0/? [?op/s]"
      ]
     },
     "metadata": {},
     "output_type": "display_data"
    },
    {
     "data": {
      "application/vnd.jupyter.widget-view+json": {
       "model_id": "7b2b61db24a64b1d9457209220ff7ab1",
       "version_major": 2,
       "version_minor": 0
      },
      "text/plain": [
       "          0/? [?op/s]"
      ]
     },
     "metadata": {},
     "output_type": "display_data"
    },
    {
     "name": "stdout",
     "output_type": "stream",
     "text": [
      "CPU times: user 1.68 s, sys: 482 ms, total: 2.16 s\n",
      "Wall time: 26.9 s\n"
     ]
    },
    {
     "data": {
      "application/vnd.jupyter.widget-view+json": {
       "model_id": "7fd8baa32c924ad9b0ca2387e9ca645e",
       "version_major": 2,
       "version_minor": 0
      },
      "text/plain": [
       "VBox(children=(HTML(value='\\n                <style>\\n                #jp-main-content-panel .result_set_tab_w…"
      ]
     },
     "metadata": {},
     "output_type": "display_data"
    }
   ],
   "source": [
    "%%time\n",
    "#Expand 3 cluster \n",
    "query1=\"\"\"\n",
    "        MATCH (p)\n",
    "        where tointeger(p.lv3) = 125210\n",
    "        with p\n",
    "        match (p)-[]-(q)\n",
    "        where not ( q:Claimant) \n",
    "        return q, p order by q.amount desc limit 100\n",
    "        \"\"\"\n",
    "result = graph.query(query1, contextualize = True)\n",
    "result.view()"
   ]
  },
  {
   "cell_type": "code",
   "execution_count": 37,
   "id": "06df280d-3ff9-4a4e-bc12-aa5274cd2198",
   "metadata": {},
   "outputs": [
    {
     "data": {
      "application/vnd.jupyter.widget-view+json": {
       "model_id": "f87413139d2b4d37923af85a31b1adfe",
       "version_major": 2,
       "version_minor": 0
      },
      "text/plain": [
       "          0/? [?op/s]"
      ]
     },
     "metadata": {},
     "output_type": "display_data"
    },
    {
     "data": {
      "application/vnd.jupyter.widget-view+json": {
       "model_id": "fcae650c046d42fdb2bdf0c5ff19a6f1",
       "version_major": 2,
       "version_minor": 0
      },
      "text/plain": [
       "          0/? [?op/s]"
      ]
     },
     "metadata": {},
     "output_type": "display_data"
    },
    {
     "name": "stdout",
     "output_type": "stream",
     "text": [
      "CPU times: user 1.27 s, sys: 449 ms, total: 1.72 s\n",
      "Wall time: 34.3 s\n"
     ]
    },
    {
     "data": {
      "application/vnd.jupyter.widget-view+json": {
       "model_id": "aa6e522d57a042b6a95b253b4ce4b9bc",
       "version_major": 2,
       "version_minor": 0
      },
      "text/plain": [
       "VBox(children=(HTML(value='\\n                <style>\\n                #jp-main-content-panel .result_set_tab_w…"
      ]
     },
     "metadata": {},
     "output_type": "display_data"
    }
   ],
   "source": [
    "%%time\n",
    "#Zoom in on the top one\n",
    "query1=\"\"\"\n",
    "        MATCH (p)\n",
    "        where tointeger(p.lv3) = 125210\n",
    "        with p\n",
    "        match (p)-[]-(q)\n",
    "        where not (q:Claim OR q:Claimant) \n",
    "        return p, q\n",
    "        \"\"\"\n",
    "result = graph.query(query1, contextualize = True)\n",
    "result.view()"
   ]
  },
  {
   "cell_type": "markdown",
   "id": "31163799-7da0-4a07-9eab-f943b05ffc81",
   "metadata": {},
   "source": [
    "### Appendix"
   ]
  },
  {
   "cell_type": "code",
   "execution_count": 36,
   "id": "e3d591b2-dd26-4e9d-960d-f1d3efaded3b",
   "metadata": {},
   "outputs": [
    {
     "data": {
      "application/vnd.jupyter.widget-view+json": {
       "model_id": "c232ce60d4d84b258f5c7953e4a4704d",
       "version_major": 2,
       "version_minor": 0
      },
      "text/plain": [
       "          0/? [?op/s]"
      ]
     },
     "metadata": {},
     "output_type": "display_data"
    },
    {
     "name": "stdout",
     "output_type": "stream",
     "text": [
      "CPU times: user 250 ms, sys: 74.8 ms, total: 325 ms\n",
      "Wall time: 20.3 s\n"
     ]
    },
    {
     "data": {
      "application/vnd.jupyter.widget-view+json": {
       "model_id": "e369db5e03b64f6fbc3669f92e199b04",
       "version_major": 2,
       "version_minor": 0
      },
      "text/plain": [
       "VBox(children=(HTML(value='\\n                <style>\\n                #jp-main-content-panel .result_set_tab_w…"
      ]
     },
     "metadata": {},
     "output_type": "display_data"
    }
   ],
   "source": [
    "%%time\n",
    "#contrast average payouts\n",
    "query1=\"\"\"\n",
    "        MATCH (p:Claimant)\n",
    "        with avg(toFloat(p.pg2))as avg_pr, count(p) as count, p.lv3 as lv\n",
    "        where count > 1\n",
    "        with avg_pr, count, lv order by avg_pr desc limit 20 \n",
    "        match (x:Claimant)<-[:WAS_PAID]-(py:Payment)\n",
    "        where tointeger(x.lv3) = lv\n",
    "        return avg_pr, x.lv3, avg(toFloat(py)) as average_payout order by avg_pr desc limit 10\n",
    "        \"\"\"\n",
    "result = graph.query(query1)\n",
    "result.view()"
   ]
  },
  {
   "cell_type": "code",
   "execution_count": 12,
   "id": "d3fc58dc-762f-4462-ad8c-9e38073294b5",
   "metadata": {},
   "outputs": [
    {
     "data": {
      "application/vnd.jupyter.widget-view+json": {
       "model_id": "022ae545ca224dfdb82bee1b261a1d81",
       "version_major": 2,
       "version_minor": 0
      },
      "text/plain": [
       "          0/? [?op/s]"
      ]
     },
     "metadata": {},
     "output_type": "display_data"
    },
    {
     "name": "stdout",
     "output_type": "stream",
     "text": [
      "CPU times: user 326 ms, sys: 101 ms, total: 427 ms\n",
      "Wall time: 11.7 s\n"
     ]
    },
    {
     "data": {
      "application/vnd.jupyter.widget-view+json": {
       "model_id": "7498738efea24032a7cebf79c80abca5",
       "version_major": 2,
       "version_minor": 0
      },
      "text/plain": [
       "VBox(children=(HTML(value='\\n                <style>\\n                #jp-main-content-panel .result_set_tab_w…"
      ]
     },
     "metadata": {},
     "output_type": "display_data"
    }
   ],
   "source": [
    "%%time\n",
    "#contrast avg payment - 2\n",
    "query1=\"\"\"\n",
    "        MATCH (p:Claimant)\n",
    "        where exists(p.pg2)\n",
    "        with p order by p.pg2 desc\n",
    "        MATCH (c:Claim)<-[:MADE]-(p)<-[:WAS_PAID]-(py:Payment)\n",
    "        return avg(py.amount) as average_payments_amount, p.id order by average_payments_amount desc limit 10\n",
    "        \"\"\"\n",
    "result = graph.query(query1)\n",
    "result.view()"
   ]
  },
  {
   "cell_type": "code",
   "execution_count": null,
   "id": "504afa42-bf29-4b06-9d4f-dd921ea8af50",
   "metadata": {},
   "outputs": [],
   "source": []
  },
  {
   "cell_type": "code",
   "execution_count": null,
   "id": "67f2cd91-746e-489c-86aa-89c970b7751f",
   "metadata": {},
   "outputs": [],
   "source": []
  },
  {
   "cell_type": "code",
   "execution_count": null,
   "id": "35e38082-2191-4812-8753-5590287c3fcf",
   "metadata": {},
   "outputs": [],
   "source": []
  },
  {
   "cell_type": "code",
   "execution_count": 27,
   "id": "67c6e253-95b8-49bc-8e1a-33d49eccbf28",
   "metadata": {},
   "outputs": [
    {
     "data": {
      "application/vnd.jupyter.widget-view+json": {
       "model_id": "e57c9ea9ee254e019c89d24f006d3303",
       "version_major": 2,
       "version_minor": 0
      },
      "text/plain": [
       "          0/? [?op/s]"
      ]
     },
     "metadata": {},
     "output_type": "display_data"
    },
    {
     "name": "stdout",
     "output_type": "stream",
     "text": [
      "CPU times: user 748 ms, sys: 187 ms, total: 935 ms\n",
      "Wall time: 10.4 s\n"
     ]
    },
    {
     "data": {
      "application/vnd.jupyter.widget-view+json": {
       "model_id": "75e8c2445e4f4bb4b22def201054d1b4",
       "version_major": 2,
       "version_minor": 0
      },
      "text/plain": [
       "VBox(children=(HTML(value='\\n                <style>\\n                #jp-main-content-panel .result_set_tab_w…"
      ]
     },
     "metadata": {},
     "output_type": "display_data"
    }
   ],
   "source": [
    "%%time\n",
    "#check top nodes\n",
    "query1=\"\"\"\n",
    "        MATCH (p:Claimant)\n",
    "        where exists(p.pg2)\n",
    "        RETURN p order by p.pg2 desc  limit 5\n",
    "        \"\"\"\n",
    "result = graph.query(query1)\n",
    "result.view()"
   ]
  },
  {
   "cell_type": "code",
   "execution_count": 25,
   "id": "ffc818cd-2441-4a94-bf8e-bb72d6dab39d",
   "metadata": {},
   "outputs": [
    {
     "data": {
      "application/vnd.jupyter.widget-view+json": {
       "model_id": "4476a17c93b44230b6f00f4b10b00b55",
       "version_major": 2,
       "version_minor": 0
      },
      "text/plain": [
       "          0/? [?op/s]"
      ]
     },
     "metadata": {},
     "output_type": "display_data"
    },
    {
     "name": "stdout",
     "output_type": "stream",
     "text": [
      "CPU times: user 657 ms, sys: 131 ms, total: 788 ms\n",
      "Wall time: 12.5 s\n"
     ]
    },
    {
     "data": {
      "application/vnd.jupyter.widget-view+json": {
       "model_id": "56d4996e08064a1d964ea6697197c96b",
       "version_major": 2,
       "version_minor": 0
      },
      "text/plain": [
       "VBox(children=(HTML(value='\\n                <style>\\n                #jp-main-content-panel .result_set_tab_w…"
      ]
     },
     "metadata": {},
     "output_type": "display_data"
    }
   ],
   "source": [
    "%%time\n",
    "#check top nodes\n",
    "query1=\"\"\"\n",
    "        MATCH (att:Attorney)\n",
    "        where att.id = 'X_4853'\n",
    "        RETURN att\n",
    "        \"\"\"\n",
    "result = graph.query(query1)\n",
    "result.view()"
   ]
  },
  {
   "cell_type": "code",
   "execution_count": 25,
   "id": "5d2f1076-cff1-42e0-aea9-0b2ba64c5b50",
   "metadata": {},
   "outputs": [
    {
     "data": {
      "application/vnd.jupyter.widget-view+json": {
       "model_id": "3e8db046fbb94dc5ac3d83ef495309b3",
       "version_major": 2,
       "version_minor": 0
      },
      "text/plain": [
       "          0/? [?op/s]"
      ]
     },
     "metadata": {},
     "output_type": "display_data"
    },
    {
     "data": {
      "application/vnd.jupyter.widget-view+json": {
       "model_id": "d73b5011922c43ee9722af06dd1cbf2d",
       "version_major": 2,
       "version_minor": 0
      },
      "text/plain": [
       "          0/? [?op/s]"
      ]
     },
     "metadata": {},
     "output_type": "display_data"
    },
    {
     "name": "stdout",
     "output_type": "stream",
     "text": [
      "CPU times: user 3.1 s, sys: 550 ms, total: 3.65 s\n",
      "Wall time: 38.5 s\n"
     ]
    },
    {
     "data": {
      "application/vnd.jupyter.widget-view+json": {
       "model_id": "21174ae5ad5140ab91fd724490ac7020",
       "version_major": 2,
       "version_minor": 0
      },
      "text/plain": [
       "VBox(children=(HTML(value='\\n                <style>\\n                #jp-main-content-panel .result_set_tab_w…"
      ]
     },
     "metadata": {},
     "output_type": "display_data"
    }
   ],
   "source": [
    "%%time\n",
    "#Get suspicious claims\n",
    "query1=\"\"\"\n",
    "        MATCH (p1:Claimant)-[:isDuplicatedBy]-(p2:Claimant)-[MADE]-(cl:Claim)-[:REPRESENTS]->(att:Attorney)\n",
    "        where att.id = 'X_4853'\n",
    "        RETURN p1,p2,cl,att\n",
    "        \"\"\"\n",
    "result = graph.query(query1, contextualize=True)\n",
    "result.view()"
   ]
  },
  {
   "cell_type": "code",
   "execution_count": 15,
   "id": "1abde20d",
   "metadata": {
    "collapsed": false,
    "jupyter": {
     "outputs_hidden": false
    },
    "pycharm": {
     "name": "#%%\n"
    }
   },
   "outputs": [
    {
     "data": {
      "application/vnd.jupyter.widget-view+json": {
       "model_id": "f521fcb5c4034aa28de9900eacea2f22",
       "version_major": 2,
       "version_minor": 0
      },
      "text/plain": [
       "          0/? [?op/s]"
      ]
     },
     "metadata": {},
     "output_type": "display_data"
    },
    {
     "data": {
      "text/plain": [
       "'8SsgiQsdCKsjagFxciuAVScd2d6wRX9cBT5tdeXnGs3N'"
      ]
     },
     "execution_count": 15,
     "metadata": {},
     "output_type": "execute_result"
    }
   ],
   "source": []
  },
  {
   "cell_type": "code",
   "execution_count": null,
   "id": "fccc9150-7019-4357-b79d-3bcaaf316d6a",
   "metadata": {},
   "outputs": [],
   "source": []
  },
  {
   "cell_type": "markdown",
   "id": "09acc4a4-85c5-4d93-b334-c9a17fc3be2a",
   "metadata": {
    "tags": []
   },
   "source": [
    "## Page rank on projected graph"
   ]
  },
  {
   "cell_type": "code",
   "execution_count": 18,
   "id": "e3f4d51d-97d7-4301-9f3d-f5116f289e43",
   "metadata": {},
   "outputs": [
    {
     "data": {
      "application/vnd.jupyter.widget-view+json": {
       "model_id": "455d55f437ae42a49a629143529b7292",
       "version_major": 2,
       "version_minor": 0
      },
      "text/plain": [
       "          0/? [?op/s]"
      ]
     },
     "metadata": {},
     "output_type": "display_data"
    }
   ],
   "source": [
    "gp4 = graph.project(node_types = ['Claimant'], edge_types = ['common_claim', 'isDuplicatedBy'])\n",
    "from katana.remote.analytics import pagerank\n",
    "pagerank(gp4, 'pgp')"
   ]
  },
  {
   "cell_type": "code",
   "execution_count": null,
   "id": "bc31d092-c387-4379-b714-a433b7a9567f",
   "metadata": {},
   "outputs": [],
   "source": [
    "%%time\n",
    "#check top nodes\n",
    "query1=\"\"\"\n",
    "        MATCH (p)\n",
    "        where exists(p.pgp)\n",
    "        RETURN p order by p.pgp desc  limit 5\n",
    "        \"\"\"\n",
    "result = graph.query(query1)\n",
    "result.view()"
   ]
  },
  {
   "cell_type": "code",
   "execution_count": 17,
   "id": "9d2abf81-c0da-4d1d-8d8b-fb5b293cd18c",
   "metadata": {},
   "outputs": [
    {
     "data": {
      "application/vnd.jupyter.widget-view+json": {
       "model_id": "a1db52d4f2344bb195ab86361d65785f",
       "version_major": 2,
       "version_minor": 0
      },
      "text/plain": [
       "          0/? [?op/s]"
      ]
     },
     "metadata": {},
     "output_type": "display_data"
    },
    {
     "data": {
      "application/vnd.jupyter.widget-view+json": {
       "model_id": "52c2d06938dd4c75a98bd19b12e0c352",
       "version_major": 2,
       "version_minor": 0
      },
      "text/plain": [
       "          0/? [?op/s]"
      ]
     },
     "metadata": {},
     "output_type": "display_data"
    },
    {
     "name": "stdout",
     "output_type": "stream",
     "text": [
      "CPU times: user 3.5 s, sys: 1.07 s, total: 4.56 s\n",
      "Wall time: 25.5 s\n"
     ]
    },
    {
     "data": {
      "application/vnd.jupyter.widget-view+json": {
       "model_id": "14fb2294fff1445abc99132a2c9a8b67",
       "version_major": 2,
       "version_minor": 0
      },
      "text/plain": [
       "VBox(children=(HTML(value='\\n                <style>\\n                #jp-main-content-panel .result_set_tab_w…"
      ]
     },
     "metadata": {},
     "output_type": "display_data"
    }
   ],
   "source": [
    "%%time\n",
    "#check top nodes\n",
    "query1=\"\"\"\n",
    "        MATCH (p)-[]-(q:Claim)\n",
    "        where p.id = 'C_363900'\n",
    "        RETURN p,q\n",
    "        \"\"\"\n",
    "result = graph.query(query1, contextualize = True)\n",
    "result.view()"
   ]
  },
  {
   "cell_type": "code",
   "execution_count": 31,
   "id": "4e81e9af-4901-4744-90df-a5f8eadfab82",
   "metadata": {},
   "outputs": [
    {
     "data": {
      "application/vnd.jupyter.widget-view+json": {
       "model_id": "3bbe4b12f2424ff28ac403a91adc2ee0",
       "version_major": 2,
       "version_minor": 0
      },
      "text/plain": [
       "          0/? [?op/s]"
      ]
     },
     "metadata": {},
     "output_type": "display_data"
    },
    {
     "data": {
      "application/vnd.jupyter.widget-view+json": {
       "model_id": "ccf807c533fe4ad2a0e0b9917f437161",
       "version_major": 2,
       "version_minor": 0
      },
      "text/plain": [
       "          0/? [?op/s]"
      ]
     },
     "metadata": {},
     "output_type": "display_data"
    },
    {
     "name": "stdout",
     "output_type": "stream",
     "text": [
      "CPU times: user 1.87 s, sys: 519 ms, total: 2.39 s\n",
      "Wall time: 26.1 s\n"
     ]
    },
    {
     "data": {
      "application/vnd.jupyter.widget-view+json": {
       "model_id": "2da4cdca67754de6b4e8041678e20241",
       "version_major": 2,
       "version_minor": 0
      },
      "text/plain": [
       "VBox(children=(HTML(value='\\n                <style>\\n                #jp-main-content-panel .result_set_tab_w…"
      ]
     },
     "metadata": {},
     "output_type": "display_data"
    }
   ],
   "source": [
    "%%time\n",
    "#check transaction objects\n",
    "query1=\"\"\"\n",
    "        MATCH (p:Claimant)\n",
    "        where exists(p.pgp)\n",
    "        with p order by p.pgp desc  limit 20\n",
    "        Match(p:Claimant)-[]-(p1:Claimant)-[:isDuplicatedBy]-(p2:Claimant)\n",
    "        with distinct(p)\n",
    "        match (p:Claimant)-[:MADE]->(q:Claim)\n",
    "        return p,q \n",
    "        \"\"\"\n",
    "result = graph.query(query1, contextualize=True)\n",
    "result.view()"
   ]
  },
  {
   "cell_type": "code",
   "execution_count": 32,
   "id": "2bfaa70d-b834-4aa4-91db-eb2dc48769d7",
   "metadata": {},
   "outputs": [
    {
     "data": {
      "application/vnd.jupyter.widget-view+json": {
       "model_id": "aebfcbe3a05e444a90711c6be5502b40",
       "version_major": 2,
       "version_minor": 0
      },
      "text/plain": [
       "          0/? [?op/s]"
      ]
     },
     "metadata": {},
     "output_type": "display_data"
    },
    {
     "data": {
      "application/vnd.jupyter.widget-view+json": {
       "model_id": "1515f5fc7f1e47888dccd86c5f7e85cb",
       "version_major": 2,
       "version_minor": 0
      },
      "text/plain": [
       "          0/? [?op/s]"
      ]
     },
     "metadata": {},
     "output_type": "display_data"
    },
    {
     "name": "stdout",
     "output_type": "stream",
     "text": [
      "CPU times: user 2.77 s, sys: 961 ms, total: 3.73 s\n",
      "Wall time: 24.4 s\n"
     ]
    },
    {
     "data": {
      "application/vnd.jupyter.widget-view+json": {
       "model_id": "2b76e0d6a6324a0a86cd2c3fea9a2838",
       "version_major": 2,
       "version_minor": 0
      },
      "text/plain": [
       "VBox(children=(HTML(value='\\n                <style>\\n                #jp-main-content-panel .result_set_tab_w…"
      ]
     },
     "metadata": {},
     "output_type": "display_data"
    }
   ],
   "source": [
    "%%time\n",
    "#check transaction objects\n",
    "query1=\"\"\"\n",
    "        MATCH (p:Claimant)\n",
    "        where exists(p.pgp)\n",
    "        with p order by p.pgp desc  limit 20\n",
    "        Match(p:Claimant)-[]-(p1:Claimant)-[:isDuplicatedBy]-(p2:Claimant)\n",
    "        with distinct(p)\n",
    "        match (p:Claimant)-[:common_claim]->(q:Claimant)\n",
    "        return p,q \n",
    "        \"\"\"\n",
    "result = graph.query(query1, contextualize=True)\n",
    "result.view()"
   ]
  },
  {
   "cell_type": "markdown",
   "id": "56f19954-7a8d-45ca-baee-2c13ce650b25",
   "metadata": {
    "tags": []
   },
   "source": [
    "### Louvain\n",
    "run louvain + pagerank\n",
    "produce a query with louvain cluster with average pagerank, sort by page rank desc, asc\n"
   ]
  },
  {
   "cell_type": "code",
   "execution_count": 13,
   "id": "6f13355b-14ce-466d-bf1a-83a25d52cba1",
   "metadata": {},
   "outputs": [
    {
     "data": {
      "application/vnd.jupyter.widget-view+json": {
       "model_id": "cb830a64ab5f483594fe9e1cd3b1322d",
       "version_major": 2,
       "version_minor": 0
      },
      "text/plain": [
       "          0/? [?op/s]"
      ]
     },
     "metadata": {},
     "output_type": "display_data"
    }
   ],
   "source": [
    "gp2 = graph.project(node_types = ['Claimant'], edge_types = ['common_claim', 'isDuplicatedBy'])\n",
    "louvain_clustering(gp2,'lv3',  is_symmetric=True)"
   ]
  },
  {
   "cell_type": "code",
   "execution_count": null,
   "id": "5f77cce6-4bc4-4903-8d6a-8f9cc4dd2860",
   "metadata": {},
   "outputs": [],
   "source": [
    "%%time\n",
    "#check transaction objects\n",
    "query1=\"\"\"\n",
    "        MATCH (c:Claim)<-[:MADE]-(p:Claimant)<-[:WAS_PAID]-(py:Payment)\n",
    "        return avg(py.amount) as average_payments_amount\n",
    "        \"\"\"\n",
    "result = graph.query(query1)\n",
    "result.view()\n"
   ]
  },
  {
   "cell_type": "code",
   "execution_count": 36,
   "id": "3739d355-f948-4da1-b94e-124b558c374e",
   "metadata": {},
   "outputs": [
    {
     "data": {
      "application/vnd.jupyter.widget-view+json": {
       "model_id": "836b4787a13d4a9c9961c9a91ef1493b",
       "version_major": 2,
       "version_minor": 0
      },
      "text/plain": [
       "          0/? [?op/s]"
      ]
     },
     "metadata": {},
     "output_type": "display_data"
    },
    {
     "data": {
      "application/vnd.jupyter.widget-view+json": {
       "model_id": "4780b38765044eb2914829a85248f8d0",
       "version_major": 2,
       "version_minor": 0
      },
      "text/plain": [
       "          0/? [?op/s]"
      ]
     },
     "metadata": {},
     "output_type": "display_data"
    },
    {
     "name": "stdout",
     "output_type": "stream",
     "text": [
      "CPU times: user 1.18 s, sys: 322 ms, total: 1.5 s\n",
      "Wall time: 27 s\n"
     ]
    },
    {
     "data": {
      "application/vnd.jupyter.widget-view+json": {
       "model_id": "8d7acdb2fe1042988555d39b04a14b83",
       "version_major": 2,
       "version_minor": 0
      },
      "text/plain": [
       "VBox(children=(HTML(value='\\n                <style>\\n                #jp-main-content-panel .result_set_tab_w…"
      ]
     },
     "metadata": {},
     "output_type": "display_data"
    }
   ],
   "source": [
    "%%time\n",
    "#check transaction objects\n",
    "query1=\"\"\"\n",
    "        MATCH (p:Claimant)-[]-(q)\n",
    "        where p.id = 'C_8900'\n",
    "        RETURN p, q\n",
    "        \"\"\"\n",
    "result = graph.query(query1, contextualize=True)\n",
    "result.view()"
   ]
  },
  {
   "cell_type": "code",
   "execution_count": 43,
   "id": "5bfa6442-db35-48f0-a49a-0e12341085a4",
   "metadata": {},
   "outputs": [
    {
     "data": {
      "application/vnd.jupyter.widget-view+json": {
       "model_id": "b3851762201a4cd0a4488f43a2b874a3",
       "version_major": 2,
       "version_minor": 0
      },
      "text/plain": [
       "          0/? [?op/s]"
      ]
     },
     "metadata": {},
     "output_type": "display_data"
    },
    {
     "name": "stdout",
     "output_type": "stream",
     "text": [
      "CPU times: user 197 ms, sys: 72.8 ms, total: 270 ms\n",
      "Wall time: 12.4 s\n"
     ]
    },
    {
     "data": {
      "application/vnd.jupyter.widget-view+json": {
       "model_id": "3d94fbfbe5b0455f87761d1f984ccf94",
       "version_major": 2,
       "version_minor": 0
      },
      "text/plain": [
       "VBox(children=(HTML(value='\\n                <style>\\n                #jp-main-content-panel .result_set_tab_w…"
      ]
     },
     "metadata": {},
     "output_type": "display_data"
    }
   ],
   "source": [
    "%%time\n",
    "#check transaction objects\n",
    "query1=\"\"\"\n",
    "        MATCH (p:Claimant)\n",
    "        return sum(p.pg2 )as sum_pr, count(p) as count, p.lv3 as lv order by sum_pr desc limit 10\n",
    "        \"\"\"\n",
    "result = graph.query(query1)\n",
    "result.view()"
   ]
  },
  {
   "cell_type": "code",
   "execution_count": 44,
   "id": "3952b3e8-30ee-42c7-88f7-e1d27b611e09",
   "metadata": {},
   "outputs": [
    {
     "data": {
      "application/vnd.jupyter.widget-view+json": {
       "model_id": "3d44eec83f004bc78634ab3d9ac8e174",
       "version_major": 2,
       "version_minor": 0
      },
      "text/plain": [
       "          0/? [?op/s]"
      ]
     },
     "metadata": {},
     "output_type": "display_data"
    },
    {
     "data": {
      "application/vnd.jupyter.widget-view+json": {
       "model_id": "f00ef75fc9e84a8fbb59bd3d0e530fe6",
       "version_major": 2,
       "version_minor": 0
      },
      "text/plain": [
       "          0/? [?op/s]"
      ]
     },
     "metadata": {},
     "output_type": "display_data"
    },
    {
     "name": "stdout",
     "output_type": "stream",
     "text": [
      "CPU times: user 2.17 s, sys: 458 ms, total: 2.63 s\n",
      "Wall time: 36.6 s\n"
     ]
    },
    {
     "data": {
      "application/vnd.jupyter.widget-view+json": {
       "model_id": "23d67331aa9347c18dfb154b61740330",
       "version_major": 2,
       "version_minor": 0
      },
      "text/plain": [
       "VBox(children=(HTML(value='\\n                <style>\\n                #jp-main-content-panel .result_set_tab_w…"
      ]
     },
     "metadata": {},
     "output_type": "display_data"
    }
   ],
   "source": [
    "%%time\n",
    "#check transaction objects\n",
    "query1=\"\"\"\n",
    "        MATCH (p:Claimant)-[]-(b)\n",
    "        where tointeger(p.lv3) = 2373\n",
    "        RETURN p,b\n",
    "        \"\"\"\n",
    "result = graph.query(query1, contextualize=True)\n",
    "result.view()"
   ]
  },
  {
   "cell_type": "markdown",
   "id": "a050b627-7492-428b-922b-f2c1409fb0e1",
   "metadata": {
    "tags": []
   },
   "source": [
    "## Appendix"
   ]
  },
  {
   "cell_type": "code",
   "execution_count": 12,
   "id": "36e4a07d-b620-4a3a-8f58-f522b938855b",
   "metadata": {},
   "outputs": [
    {
     "data": {
      "text/plain": [
       "'EtUsiRFnqzyXf8iPvMzbK47fMok5JuGKvbvPJ41QyuEe'"
      ]
     },
     "execution_count": 12,
     "metadata": {},
     "output_type": "execute_result"
    }
   ],
   "source": [
    "graph.graph_id"
   ]
  },
  {
   "cell_type": "code",
   "execution_count": 16,
   "id": "e18fb258",
   "metadata": {
    "collapsed": false,
    "jupyter": {
     "outputs_hidden": false
    },
    "pycharm": {
     "name": "#%%\n"
    }
   },
   "outputs": [
    {
     "data": {
      "application/vnd.jupyter.widget-view+json": {
       "model_id": "b7e5f1ab48aa4541a596639459b3b21d",
       "version_major": 2,
       "version_minor": 0
      },
      "text/plain": [
       "          0/? [?op/s]"
      ]
     },
     "metadata": {},
     "output_type": "display_data"
    },
    {
     "name": "stdout",
     "output_type": "stream",
     "text": [
      "CPU times: user 240 ms, sys: 63.3 ms, total: 304 ms\n",
      "Wall time: 10.1 s\n"
     ]
    },
    {
     "data": {
      "application/vnd.jupyter.widget-view+json": {
       "model_id": "72bb63d35f41486ebbe62be84f3ab47f",
       "version_major": 2,
       "version_minor": 0
      },
      "text/plain": [
       "VBox(children=(HTML(value='\\n                <style>\\n                #jp-main-content-panel .result_set_tab_w…"
      ]
     },
     "metadata": {},
     "output_type": "display_data"
    }
   ],
   "source": [
    "%%time\n",
    "#check transaction objects\n",
    "query1=\"\"\"\n",
    "        MATCH (c:Claim)<-[:MADE]-(p:Claimant)<-[:WAS_PAID]-(py:Payment)\n",
    "        return avg(py.amount) as average_payments_amount\n",
    "        \"\"\"\n",
    "result = graph.query(query1)\n",
    "result.view()\n"
   ]
  },
  {
   "cell_type": "code",
   "execution_count": 17,
   "id": "7b573a20-3e55-4bf4-9078-4681579e0fab",
   "metadata": {},
   "outputs": [],
   "source": [
    "# add a query that produces page rank for average payment amount"
   ]
  },
  {
   "cell_type": "code",
   "execution_count": 14,
   "id": "b73967e9-1e45-4c10-8879-2bc68644bbc1",
   "metadata": {},
   "outputs": [
    {
     "data": {
      "application/vnd.jupyter.widget-view+json": {
       "model_id": "630a917458124162bbe6a51a0eb1c9df",
       "version_major": 2,
       "version_minor": 0
      },
      "text/plain": [
       "          0/? [?op/s]"
      ]
     },
     "metadata": {},
     "output_type": "display_data"
    },
    {
     "name": "stdout",
     "output_type": "stream",
     "text": [
      "CPU times: user 377 ms, sys: 95.8 ms, total: 473 ms\n",
      "Wall time: 10.3 s\n"
     ]
    },
    {
     "data": {
      "application/vnd.jupyter.widget-view+json": {
       "model_id": "31ee7d470cfa4e3fb4b749b05ddb4aa3",
       "version_major": 2,
       "version_minor": 0
      },
      "text/plain": [
       "VBox(children=(HTML(value='\\n                <style>\\n                #jp-main-content-panel .result_set_tab_w…"
      ]
     },
     "metadata": {},
     "output_type": "display_data"
    }
   ],
   "source": []
  },
  {
   "cell_type": "markdown",
   "id": "0a5136f6-d3de-438f-80f3-5df87f81c479",
   "metadata": {
    "pycharm": {
     "name": "#%% md\n"
    }
   },
   "source": [
    "## Claimants like C_231800 can be further investigated as they have nearly double the average payment going out"
   ]
  },
  {
   "cell_type": "code",
   "execution_count": 15,
   "id": "f232a4bd-6b43-4455-8c01-d48788cc9d1c",
   "metadata": {},
   "outputs": [
    {
     "data": {
      "application/vnd.jupyter.widget-view+json": {
       "model_id": "13da1c8f0bc147b1bc307fdeacea6465",
       "version_major": 2,
       "version_minor": 0
      },
      "text/plain": [
       "          0/? [?op/s]"
      ]
     },
     "metadata": {},
     "output_type": "display_data"
    },
    {
     "name": "stdout",
     "output_type": "stream",
     "text": [
      "CPU times: user 464 ms, sys: 164 ms, total: 629 ms\n",
      "Wall time: 10.4 s\n"
     ]
    },
    {
     "data": {
      "application/vnd.jupyter.widget-view+json": {
       "model_id": "d565fd6749a247768d9df6bc83578f47",
       "version_major": 2,
       "version_minor": 0
      },
      "text/plain": [
       "VBox(children=(HTML(value='\\n                <style>\\n                #jp-main-content-panel .result_set_tab_w…"
      ]
     },
     "metadata": {},
     "output_type": "display_data"
    }
   ],
   "source": [
    "%%time\n",
    "#check transaction objects\n",
    "query1=\"\"\"\n",
    "        MATCH (p:Claimant)\n",
    "        where p.id = 'C_231800'\n",
    "        return p\n",
    "        \"\"\"\n",
    "result = graph.query(query1)\n",
    "result.view()"
   ]
  },
  {
   "cell_type": "code",
   "execution_count": 16,
   "id": "4f4514fc",
   "metadata": {
    "collapsed": false,
    "jupyter": {
     "outputs_hidden": false
    },
    "pycharm": {
     "name": "#%%\n"
    }
   },
   "outputs": [
    {
     "data": {
      "application/vnd.jupyter.widget-view+json": {
       "model_id": "43e05a3cf8db47008e15fd70f947ade1",
       "version_major": 2,
       "version_minor": 0
      },
      "text/plain": [
       "          0/? [?op/s]"
      ]
     },
     "metadata": {},
     "output_type": "display_data"
    },
    {
     "name": "stdout",
     "output_type": "stream",
     "text": [
      "CPU times: user 369 ms, sys: 83.7 ms, total: 453 ms\n",
      "Wall time: 5.29 s\n"
     ]
    },
    {
     "data": {
      "application/vnd.jupyter.widget-view+json": {
       "model_id": "175c2012759f401694849e8a4ea6e368",
       "version_major": 2,
       "version_minor": 0
      },
      "text/plain": [
       "VBox(children=(HTML(value='\\n                <style>\\n                #jp-main-content-panel .result_set_tab_w…"
      ]
     },
     "metadata": {},
     "output_type": "display_data"
    }
   ],
   "source": [
    "%%time\n",
    "#Claimants with high number of payments\n",
    "query1=\"\"\"\n",
    "        MATCH (p:Claimant)\n",
    "        where exists(p.pg2)\n",
    "        with p order by p.pg2 desc\n",
    "        MATCH (c:Claim)<-[:MADE]-(p)<-[:WAS_PAID]-(py:Payment)\n",
    "        return count(py) as total_payments_made, p.id order by total_payments_made desc limit 10\n",
    "        \"\"\"\n",
    "result = graph.query(query1)\n",
    "result.view()"
   ]
  },
  {
   "cell_type": "markdown",
   "id": "7bf25786-a338-4cfc-ad58-80a83f63b05b",
   "metadata": {},
   "source": [
    "### Other operations"
   ]
  },
  {
   "cell_type": "code",
   "execution_count": 39,
   "id": "9eb73b9d-f5b4-4055-aaed-5571a453754e",
   "metadata": {},
   "outputs": [
    {
     "data": {
      "application/vnd.jupyter.widget-view+json": {
       "model_id": "223d62a9ea3d461096d84512b71dfa74",
       "version_major": 2,
       "version_minor": 0
      },
      "text/plain": [
       "          0/? [?op/s]"
      ]
     },
     "metadata": {},
     "output_type": "display_data"
    }
   ],
   "source": [
    "from katana.remote.analytics import connected_components\n",
    "connected_components(gp, 'cc2')"
   ]
  },
  {
   "cell_type": "code",
   "execution_count": 40,
   "id": "8a22495f-8380-4cdf-aadc-dfd7fe66e524",
   "metadata": {},
   "outputs": [
    {
     "data": {
      "application/vnd.jupyter.widget-view+json": {
       "model_id": "41fc244c33db49e38b6d8510c703574f",
       "version_major": 2,
       "version_minor": 0
      },
      "text/plain": [
       "          0/? [?op/s]"
      ]
     },
     "metadata": {},
     "output_type": "display_data"
    },
    {
     "name": "stdout",
     "output_type": "stream",
     "text": [
      "CPU times: user 755 ms, sys: 225 ms, total: 980 ms\n",
      "Wall time: 14.8 s\n"
     ]
    },
    {
     "data": {
      "application/vnd.jupyter.widget-view+json": {
       "model_id": "38e4c8f2f52a49878db41572f2545fe7",
       "version_major": 2,
       "version_minor": 0
      },
      "text/plain": [
       "VBox(children=(HTML(value='\\n                <style>\\n                #jp-main-content-panel .result_set_tab_w…"
      ]
     },
     "metadata": {},
     "output_type": "display_data"
    }
   ],
   "source": [
    "%%time\n",
    "#check transaction objects\n",
    "query1=\"\"\"\n",
    "        MATCH (p:Claimant)\n",
    "        where p.id = 'C_8900'\n",
    "        RETURN p\n",
    "        \"\"\"\n",
    "result = graph.query(query1)\n",
    "result.view()"
   ]
  },
  {
   "cell_type": "code",
   "execution_count": 41,
   "id": "684a3981-ce33-4acd-812a-9e66f7be635d",
   "metadata": {},
   "outputs": [
    {
     "data": {
      "application/vnd.jupyter.widget-view+json": {
       "model_id": "db9b27a354274e3f9af7795fc2e10000",
       "version_major": 2,
       "version_minor": 0
      },
      "text/plain": [
       "          0/? [?op/s]"
      ]
     },
     "metadata": {},
     "output_type": "display_data"
    },
    {
     "name": "stderr",
     "output_type": "stream",
     "text": [
      "UserWarning: Failed to create context for query: The number of nodes in the result is more than the maximum of                 25000 for visualization.\n"
     ]
    },
    {
     "name": "stdout",
     "output_type": "stream",
     "text": [
      "CPU times: user 12.6 s, sys: 2.01 s, total: 14.6 s\n",
      "Wall time: 53.1 s\n"
     ]
    },
    {
     "data": {
      "application/vnd.jupyter.widget-view+json": {
       "model_id": "b46b6fc121934d238695178298746c6c",
       "version_major": 2,
       "version_minor": 0
      },
      "text/plain": [
       "VBox(children=(HTML(value='\\n                <style>\\n                #jp-main-content-panel .result_set_tab_w…"
      ]
     },
     "metadata": {},
     "output_type": "display_data"
    }
   ],
   "source": [
    "%%time\n",
    "#check transaction objects\n",
    "query1=\"\"\"\n",
    "        MATCH (p1)-[]-(p2)\n",
    "        where tointeger(p1.cc2) = 0\n",
    "        return p1, p2\n",
    "        \"\"\"\n",
    "result = graph.query(query1, contextualize = True)\n",
    "result.view()"
   ]
  },
  {
   "cell_type": "code",
   "execution_count": 45,
   "id": "54f7788e-cd79-43fb-bd32-4944013cdec3",
   "metadata": {},
   "outputs": [
    {
     "data": {
      "application/vnd.jupyter.widget-view+json": {
       "model_id": "bfe5521b3f0e48c7b2cbc4e648a29478",
       "version_major": 2,
       "version_minor": 0
      },
      "text/plain": [
       "          0/? [?op/s]"
      ]
     },
     "metadata": {},
     "output_type": "display_data"
    },
    {
     "name": "stdout",
     "output_type": "stream",
     "text": [
      "CPU times: user 621 ms, sys: 227 ms, total: 848 ms\n",
      "Wall time: 1min 28s\n"
     ]
    },
    {
     "data": {
      "application/vnd.jupyter.widget-view+json": {
       "model_id": "a7380cdb98c244be9c29d5d141202763",
       "version_major": 2,
       "version_minor": 0
      },
      "text/plain": [
       "VBox(children=(HTML(value='\\n                <style>\\n                #jp-main-content-panel .result_set_tab_w…"
      ]
     },
     "metadata": {},
     "output_type": "display_data"
    }
   ],
   "source": [
    "\n",
    "%%time\n",
    "#check transaction objects\n",
    "query1=\"\"\"\n",
    "        CALL graph.schema() return *;\n",
    "        \"\"\"\n",
    "result = graph.query(query1)\n",
    "result.view()"
   ]
  },
  {
   "cell_type": "code",
   "execution_count": 46,
   "id": "c5d96b7c-d3f3-4257-b843-6f75b2677659",
   "metadata": {},
   "outputs": [
    {
     "data": {
      "text/plain": [
       "',neighbor,nodeType,properties\\n0,,[Agent],\"dob,email,firstname,id,lastname,pg2,ssn\"\\n1,([Location]::[IS_LOCATED_IN]),[Agent],\\n2,,[Attorney],\"dob,email,firstname,id,lastname,pg2,ssn\"\\n3,([Location]::[IS_LOCATED_IN]),[Attorney],\\n4,,[Claim],\"amount,attorney_id,capital_gains,capital_loss,claim_date,claimant_id,id,pg2,policy_id,witnesses\"\\n5,([Attorney]::[REPRESENTS]),[Claim],\\n6,,[Claimant],\"address,dob,email,firstname,id,lastname,lv3,pg2,ssn\"\\n7,([Claim]::[IS_LOCATED_IN]),[Claimant],\\n8,([Claim]::[MADE]),[Claimant],ROLE\\n9,([Claim]::[common_claim]),[Claimant],count\\n10,([Claimant]::[MADE]),[Claimant],ROLE\\n11,([Claimant]::[common_claim]),[Claimant],count\\n12,([Claimant]::[isDuplicatedBy]),[Claimant],\\n13,([Location]::[IS_LOCATED_IN]),[Claimant],\\n14,([Location]::[common_claim]),[Claimant],count\\n15,,[Location],\"city,country,id,pg2,postalcode_plus4,state_abbr,street_address\"\\n16,,[Mbr],\"amount,authorities_contacted,claim_id,id,incident_city,incident_date,incident_severity,incident_state,incident_type,insured_education_level,insured_hobbies,insured_occupation,insured_relationship,insured_sex,license_number,pg2,police_report_available,policy_id,provider_id\"\\n17,([Policy]::[BELONGS_TO_POLICY]),[Mbr],\\n18,([Provider]::[WAS_BILLED_BY]),[Mbr],\\n19,,[Payment],\"amount,currency,id,payment_date,pg2\"\\n20,([Claimant]::[WAS_PAID]),[Payment],\\n21,,[Policy],\"agent_id,auto_make,auto_year,claim_id,id,pg2,policy_annual_premium,policy_bind_date,policy_csl,policy_deductable,policy_number,policy_state,umbrella_limit\"\\n22,([Agent]::[SOLD]),[Policy],\\n23,,[Provider],\"dob,email,firstname,id,lastname,license_number,pg2,ssn\"\\n24,([Location]::[IS_LOCATED_IN]),[Provider],\\n'"
      ]
     },
     "execution_count": 46,
     "metadata": {},
     "output_type": "execute_result"
    }
   ],
   "source": [
    "result.to_csv()"
   ]
  },
  {
   "cell_type": "code",
   "execution_count": null,
   "id": "a08c6d77-17f7-47cf-8b5d-238a68145f72",
   "metadata": {},
   "outputs": [],
   "source": []
  }
 ],
 "metadata": {
  "kernelspec": {
   "display_name": "Python 3 (ipykernel)",
   "language": "python",
   "name": "python3"
  },
  "language_info": {
   "codemirror_mode": {
    "name": "ipython",
    "version": 3
   },
   "file_extension": ".py",
   "mimetype": "text/x-python",
   "name": "python",
   "nbconvert_exporter": "python",
   "pygments_lexer": "ipython3",
   "version": "3.8.13"
  }
 },
 "nbformat": 4,
 "nbformat_minor": 5
}