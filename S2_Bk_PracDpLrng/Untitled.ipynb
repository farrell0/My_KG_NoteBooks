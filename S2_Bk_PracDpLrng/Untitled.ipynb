{
 "cells": [
  {
   "cell_type": "code",
   "execution_count": null,
   "id": "6432d671-7163-4a57-b742-abb400d3caae",
   "metadata": {},
   "outputs": [],
   "source": []
  },
  {
   "cell_type": "code",
   "execution_count": 20,
   "id": "3abe3d5f-a039-4036-a5d4-2d5e0f67c464",
   "metadata": {},
   "outputs": [
    {
     "name": "stdout",
     "output_type": "stream",
     "text": [
      "[[1 2 0]\n",
      " [3 4 0]\n",
      " [5 6 0]\n",
      " [7 8 0]]\n",
      "\n",
      "[[1 2 0]\n",
      " [3 4 0]\n",
      " [5 6 0]\n",
      " [7 8 0]]\n",
      "\n",
      "[2 3 0 1]\n",
      "\n",
      "[[1 2 0]\n",
      " [3 4 0]\n",
      " [5 6 0]\n",
      " [7 8 0]]\n",
      "[[5 6 0]\n",
      " [7 8 0]\n",
      " [1 2 0]\n",
      " [3 4 0]]\n",
      "\n"
     ]
    }
   ],
   "source": [
    "\n",
    "import numpy as np\n",
    "\n",
    "\n",
    "#  np_arr = np.arange(0, 9, 1, dtype=int)\n",
    "#  print(np_arr)\n",
    "\n",
    "#  Generate an array with specific values\n",
    "#\n",
    "np_arr1 = np.array([[1, 2, 0], [3, 4, 0], [5, 6, 0], [7, 8, 0]])\n",
    "print(np_arr1)\n",
    "print()\n",
    "\n",
    "#  Make copies of np_arr1\n",
    "#\n",
    "np_arr2 = np.copy(np_arr1)\n",
    "np_arr3 = np.copy(np_arr1)\n",
    "np_arr4 = np.copy(np_arr1)\n",
    "print(np_arr2)\n",
    "print()\n",
    "\n",
    "#  Resort/randomize the 'rows' within the array\n",
    "#\n",
    "l_idx = np.argsort(np.random.random(np_arr2.shape[0]))\n",
    "print(l_idx)\n",
    "print()\n",
    "np_arr2 = np_arr2[l_idx]\n",
    "print(np_arr1)\n",
    "print(np_arr2)\n",
    "print()\n"
   ]
  },
  {
   "cell_type": "code",
   "execution_count": 30,
   "id": "c05683b8-3293-4c31-9298-6c84f141a002",
   "metadata": {},
   "outputs": [
    {
     "name": "stdout",
     "output_type": "stream",
     "text": [
      "[[0 0 0]\n",
      " [0 0 0]\n",
      " [0 0 0]\n",
      " [0 0 0]]\n",
      "\n"
     ]
    },
    {
     "ename": "TypeError",
     "evalue": "int() argument must be a string, a bytes-like object or a number, not 'NoneType'",
     "output_type": "error",
     "traceback": [
      "\u001b[0;31m---------------------------------------------------------------------------\u001b[0m",
      "\u001b[0;31mTypeError\u001b[0m                                 Traceback (most recent call last)",
      "Cell \u001b[0;32mIn[30], line 8\u001b[0m\n\u001b[1;32m      6\u001b[0m    \u001b[38;5;66;03m#\u001b[39;00m\n\u001b[1;32m      7\u001b[0m \u001b[38;5;28;01mfor\u001b[39;00m i \u001b[38;5;129;01min\u001b[39;00m \u001b[38;5;28mrange\u001b[39m(np_arr3\u001b[38;5;241m.\u001b[39mshape[\u001b[38;5;241m0\u001b[39m]):\n\u001b[0;32m----> 8\u001b[0m     \u001b[43mnp_arr8\u001b[49m\u001b[43m[\u001b[49m\u001b[43mi\u001b[49m\u001b[43m,\u001b[49m\u001b[43m \u001b[49m\u001b[43m]\u001b[49m \u001b[38;5;241m=\u001b[39m np\u001b[38;5;241m.\u001b[39mrandom\u001b[38;5;241m.\u001b[39mshuffle(np_arr3[i])\n\u001b[1;32m     11\u001b[0m    \u001b[38;5;66;03m#  np.argsort(np.random.random(np_arr3[i])) \u001b[39;00m\n\u001b[1;32m     12\u001b[0m    \u001b[38;5;66;03m#  print(np_arr3[i])\u001b[39;00m\n\u001b[1;32m     13\u001b[0m \n\u001b[1;32m     14\u001b[0m \n\u001b[1;32m     15\u001b[0m \n\u001b[1;32m     16\u001b[0m \u001b[38;5;66;03m#  aaa = np.copy(np_arr3[i])\u001b[39;00m\n",
      "\u001b[0;31mTypeError\u001b[0m: int() argument must be a string, a bytes-like object or a number, not 'NoneType'"
     ]
    }
   ],
   "source": [
    "\n",
    "#  Go back to arr1 (we'll use np_arr3), randomize the 'values' within each 'row'\n",
    "#\n",
    "np_arr8 = np.zeros((np_arr3.shape[0], np_arr3.shape[1]), dtype = int)\n",
    "print(np_arr8)\n",
    "print()\n",
    "   #\n",
    "for i in range(np_arr3.shape[0]):\n",
    "   np.random.shuffle(np_arr3[i])\n",
    "    \n",
    "    \n",
    "   #  np.argsort(np.random.random(np_arr3[i])) \n",
    "   #  print(np_arr3[i])\n",
    "\n",
    "\n",
    "\n",
    "#  aaa = np.copy(np_arr3[i])\n",
    "\n"
   ]
  },
  {
   "cell_type": "code",
   "execution_count": null,
   "id": "dcd57588-45df-4e50-9064-f3c028426f8b",
   "metadata": {},
   "outputs": [],
   "source": []
  },
  {
   "cell_type": "code",
   "execution_count": null,
   "id": "9d7cd252-d7b1-402d-b0d8-274608903fe6",
   "metadata": {},
   "outputs": [],
   "source": []
  }
 ],
 "metadata": {
  "kernelspec": {
   "display_name": "Python 3 (ipykernel)",
   "language": "python",
   "name": "python3"
  },
  "language_info": {
   "codemirror_mode": {
    "name": "ipython",
    "version": 3
   },
   "file_extension": ".py",
   "mimetype": "text/x-python",
   "name": "python",
   "nbconvert_exporter": "python",
   "pygments_lexer": "ipython3",
   "version": "3.8.13"
  }
 },
 "nbformat": 4,
 "nbformat_minor": 5
}
