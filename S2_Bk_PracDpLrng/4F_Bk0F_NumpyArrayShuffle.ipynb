{
 "cells": [
  {
   "cell_type": "code",
   "execution_count": null,
   "id": "d783a7df-28d8-4526-a5d1-75efd3b3546b",
   "metadata": {},
   "outputs": [],
   "source": [
    "\n",
    "#  Compulsaries; randomizing nupmy arrays\n"
   ]
  },
  {
   "cell_type": "code",
   "execution_count": 19,
   "id": "3abe3d5f-a039-4036-a5d4-2d5e0f67c464",
   "metadata": {},
   "outputs": [
    {
     "name": "stdout",
     "output_type": "stream",
     "text": [
      "[[1 2 0]\n",
      " [3 4 0]\n",
      " [5 6 0]\n",
      " [7 8 0]]\n",
      "\n",
      "[[1 2 0]\n",
      " [3 4 0]\n",
      " [5 6 0]\n",
      " [7 8 0]]\n",
      "\n",
      "[2 1 3 0]\n",
      "\n",
      "[[1 2 0]\n",
      " [3 4 0]\n",
      " [5 6 0]\n",
      " [7 8 0]]\n",
      "[[5 6 0]\n",
      " [3 4 0]\n",
      " [7 8 0]\n",
      " [1 2 0]]\n",
      "\n"
     ]
    }
   ],
   "source": [
    "\n",
    "import numpy as np\n",
    "\n",
    "\n",
    "#  np_arr = np.arange(0, 9, 1, dtype=int)\n",
    "#  print(np_arr)\n",
    "\n",
    "#  Generate an array with specific values\n",
    "#\n",
    "np_arr1 = np.array([[1, 2, 0], [3, 4, 0], [5, 6, 0], [7, 8, 0]])\n",
    "print(np_arr1)\n",
    "print()\n",
    "\n",
    "#  Make a copy of np_arr1\n",
    "#\n",
    "np_arr2 = np.copy(np_arr1)\n",
    "print(np_arr2)\n",
    "print()\n",
    "\n",
    "#  Resort/randomize the 'rows' within the array\n",
    "#\n",
    "l_idx = np.argsort(np.random.random(np_arr2.shape[0]))\n",
    "print(l_idx)\n",
    "print()\n",
    "np_arr2 = np_arr2[l_idx]\n",
    "print(np_arr1)\n",
    "print(np_arr2)\n",
    "print()\n",
    "\n",
    "\n",
    "#  Sample data,\n",
    "#\n",
    "#     [[1 2 0]\n",
    "#      [3 4 0]\n",
    "#      [5 6 0]\n",
    "#      [7 8 0]]\n",
    "#     \n",
    "#     [[1 2 0]\n",
    "#      [3 4 0]\n",
    "#      [5 6 0]\n",
    "#      [7 8 0]]\n",
    "#     \n",
    "#     [0 3 1 2]\n",
    "#     \n",
    "#     [[1 2 0]\n",
    "#      [3 4 0]\n",
    "#      [5 6 0]\n",
    "#      [7 8 0]]\n",
    "#     [[1 2 0]\n",
    "#      [7 8 0]\n",
    "#      [3 4 0]\n",
    "#      [5 6 0]]\n"
   ]
  },
  {
   "cell_type": "code",
   "execution_count": 20,
   "id": "dcd57588-45df-4e50-9064-f3c028426f8b",
   "metadata": {},
   "outputs": [
    {
     "name": "stdout",
     "output_type": "stream",
     "text": [
      "[[0 0 0]\n",
      " [0 0 0]\n",
      " [0 0 0]\n",
      " [0 0 0]]\n",
      "\n"
     ]
    }
   ],
   "source": [
    "\n",
    "#  Making a numpy array of a given shape \n",
    "#\n",
    "\n",
    "np_arr8 = np.zeros((np_arr3.shape[0], np_arr3.shape[1]), dtype = int)\n",
    "print(np_arr8)\n",
    "print()\n"
   ]
  },
  {
   "cell_type": "code",
   "execution_count": 21,
   "id": "c05683b8-3293-4c31-9298-6c84f141a002",
   "metadata": {},
   "outputs": [
    {
     "name": "stdout",
     "output_type": "stream",
     "text": [
      "[[1 2 0]\n",
      " [3 4 0]\n",
      " [5 6 0]\n",
      " [7 8 0]]\n",
      "\n",
      "[[0 1 2]\n",
      " [4 0 3]\n",
      " [6 5 0]\n",
      " [0 8 7]]\n"
     ]
    }
   ],
   "source": [
    "\n",
    "#  Copy arr1 (we'll use np_arr3), randomize the 'values' within each 'row'\n",
    "#\n",
    "\n",
    "#  Make a copy of np_arr1\n",
    "#\n",
    "np_arr3 = np.copy(np_arr1)\n",
    "print(np_arr3)\n",
    "print()\n",
    "\n",
    "#  Shuffle the values, not the row order\n",
    "#\n",
    "for i in range(np_arr3.shape[0]):\n",
    "   np.random.shuffle(np_arr3[i, :])\n",
    "\n",
    "print(np_arr3)\n",
    "\n",
    "#  Sample output\n",
    "#\n",
    "#     [[1 2 0]\n",
    "#      [3 4 0]\n",
    "#      [5 6 0]\n",
    "#      [7 8 0]]\n",
    "#     \n",
    "#     [[0 1 2]\n",
    "#      [4 0 3]\n",
    "#      [6 5 0]\n",
    "#      [0 8 7]]\n"
   ]
  },
  {
   "cell_type": "code",
   "execution_count": null,
   "id": "9d7cd252-d7b1-402d-b0d8-274608903fe6",
   "metadata": {},
   "outputs": [],
   "source": []
  }
 ],
 "metadata": {
  "kernelspec": {
   "display_name": "Python 3 (ipykernel)",
   "language": "python",
   "name": "python3"
  },
  "language_info": {
   "codemirror_mode": {
    "name": "ipython",
    "version": 3
   },
   "file_extension": ".py",
   "mimetype": "text/x-python",
   "name": "python",
   "nbconvert_exporter": "python",
   "pygments_lexer": "ipython3",
   "version": "3.8.13"
  }
 },
 "nbformat": 4,
 "nbformat_minor": 5
}
