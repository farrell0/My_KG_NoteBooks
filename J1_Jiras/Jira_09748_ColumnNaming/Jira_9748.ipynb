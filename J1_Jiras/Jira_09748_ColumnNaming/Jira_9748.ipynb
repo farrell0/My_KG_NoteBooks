{
 "cells": [
  {
   "cell_type": "markdown",
   "id": "d3ebe820-bc6d-4948-b668-8b81cd3cbf29",
   "metadata": {
    "tags": []
   },
   "source": [
    "#  Setup stuff: Connectivity"
   ]
  },
  {
   "cell_type": "code",
   "execution_count": 1,
   "id": "87e5a845-5cbd-49d8-bf61-4a13cd80a1f5",
   "metadata": {},
   "outputs": [
    {
     "name": "stdout",
     "output_type": "stream",
     "text": [
      "--\n"
     ]
    }
   ],
   "source": [
    "\n",
    "from tabulate import tabulate\n",
    "import pandas as pd\n",
    "   #\n",
    "pd.set_option(\"display.width\", 480)\n",
    "\n",
    "print(\"--\")\n"
   ]
  },
  {
   "cell_type": "code",
   "execution_count": 2,
   "id": "1ea957d6-30c6-427a-ae4e-15ecfba0c4f9",
   "metadata": {},
   "outputs": [
    {
     "name": "stdout",
     "output_type": "stream",
     "text": [
      "<katana_enterprise.remote.sync_wrappers.Client object at 0x7fa1c032be50>\n"
     ]
    }
   ],
   "source": [
    "\n",
    "from katana import remote\n",
    "from katana.remote import import_data\n",
    "\n",
    "\n",
    "my_client = remote.Client()\n",
    "\n",
    "print(my_client)\n"
   ]
  },
  {
   "cell_type": "code",
   "execution_count": 3,
   "id": "97571016-7c02-4e90-a75a-136a0dacd35f",
   "metadata": {},
   "outputs": [
    {
     "name": "stdout",
     "output_type": "stream",
     "text": [
      "--\n"
     ]
    }
   ],
   "source": [
    "\n",
    "NUM_PARTITIONS  = 3\n",
    "   #\n",
    "DB_NAME         = \"my_db\"\n",
    "GRAPH_NAME      = \"my_graph\"\n",
    "\n",
    "print(\"--\")\n"
   ]
  },
  {
   "cell_type": "code",
   "execution_count": null,
   "id": "2ae31d16-10bd-419d-9287-976b4b9913ae",
   "metadata": {},
   "outputs": [],
   "source": [
    "\n",
    "#  DELETE ALL DATABASES\n",
    "\n",
    "for l_database in my_client.databases():\n",
    "   if (l_database.name != \"default\"):\n",
    "      my_client.get_database(name=l_database.name).delete_database()\n",
    "      print(\"--\")\n",
    "\n",
    "for l_database in my_client.databases():\n",
    "   print(\"DB ID: \", l_database.database_id, \"     DB Name: \", l_database.name)\n"
   ]
  },
  {
   "cell_type": "code",
   "execution_count": 4,
   "id": "7a02d5a5-280e-41c2-bfb5-e6ae1810da62",
   "metadata": {},
   "outputs": [
    {
     "name": "stdout",
     "output_type": "stream",
     "text": [
      "--\n"
     ]
    }
   ],
   "source": [
    "\n",
    "#  DELETE ALL GRAPHS\n",
    "\n",
    "for l_database in my_client.databases():\n",
    "   for l_graph in my_client.get_database(name=l_database.name).graphs_in_database():\n",
    "      l_handle=my_client.get_database(name=l_database.name).get_graph_by_id(id=l_graph.graph_id)\n",
    "      l_handle.delete()\n",
    "\n",
    "for l_graph in my_client.graphs():\n",
    "   print(\"GRAPH ID: \", l_graph.graph_id, \"      GRAPH Version: \", l_graph.version)\n",
    "\n",
    "print(\"--\")\n"
   ]
  },
  {
   "cell_type": "code",
   "execution_count": null,
   "id": "6e72729c-265b-40e4-a3ee-674b793bed81",
   "metadata": {},
   "outputs": [],
   "source": [
    "\n",
    "#  CREATE DATABASE\n",
    "\n",
    "my_database = my_client.create_database(name=DB_NAME)\n",
    "\n",
    "print(my_database.database_id)\n"
   ]
  },
  {
   "cell_type": "code",
   "execution_count": 5,
   "id": "2fc31da4-44c3-4bd3-b160-b315766dcd88",
   "metadata": {},
   "outputs": [
    {
     "name": "stdout",
     "output_type": "stream",
     "text": [
      "<_Graph my_graph, JAexCvLa3XMgCTEZbPfNJfo8Xq7SZsscbQh9wA4bmvcE, 0>\n"
     ]
    }
   ],
   "source": [
    "\n",
    "#  CREATE GRAPH\n",
    "#\n",
    "my_graph = my_client.get_database(name=DB_NAME).create_graph(name=GRAPH_NAME, num_partitions=NUM_PARTITIONS)\n",
    "\n",
    "print(my_graph)\n"
   ]
  },
  {
   "cell_type": "code",
   "execution_count": null,
   "id": "fc7fbc73-7cea-4a98-a311-cd90c024d9da",
   "metadata": {},
   "outputs": [],
   "source": [
    "\n",
    "#  CONNECT TO GRAPH\n",
    "\n",
    "my_graph, *_ = my_client.get_database(name=DB_NAME).find_graphs_by_name(GRAPH_NAME)\n",
    "\n",
    "print(my_graph)\n"
   ]
  },
  {
   "cell_type": "markdown",
   "id": "61556ce5-9044-42bc-bb13-80b6a514ae27",
   "metadata": {
    "tags": []
   },
   "source": [
    "# Create: Vertices/nodes, edges .."
   ]
  },
  {
   "cell_type": "code",
   "execution_count": 6,
   "id": "f7efb47b-3c7d-45f3-acc8-ae29c3e2a1bf",
   "metadata": {},
   "outputs": [
    {
     "name": "stdout",
     "output_type": "stream",
     "text": [
      "--\n"
     ]
    }
   ],
   "source": [
    "import pandas as pd\n",
    "\n",
    "print(\"--\")\n"
   ]
  },
  {
   "cell_type": "code",
   "execution_count": 7,
   "id": "ba9085f1-9142-45a5-b247-dce775e05181",
   "metadata": {},
   "outputs": [
    {
     "data": {
      "text/html": [
       "<div>\n",
       "<style scoped>\n",
       "    .dataframe tbody tr th:only-of-type {\n",
       "        vertical-align: middle;\n",
       "    }\n",
       "\n",
       "    .dataframe tbody tr th {\n",
       "        vertical-align: top;\n",
       "    }\n",
       "\n",
       "    .dataframe thead th {\n",
       "        text-align: right;\n",
       "    }\n",
       "</style>\n",
       "<table border=\"1\" class=\"dataframe\">\n",
       "  <thead>\n",
       "    <tr style=\"text-align: right;\">\n",
       "      <th></th>\n",
       "      <th>airport_code</th>\n",
       "      <th>airport_name</th>\n",
       "      <th>LABEL</th>\n",
       "      <th>internal_id</th>\n",
       "    </tr>\n",
       "  </thead>\n",
       "  <tbody>\n",
       "    <tr>\n",
       "      <th>0</th>\n",
       "      <td>MKE</td>\n",
       "      <td>Milwaukee</td>\n",
       "      <td>Airport</td>\n",
       "      <td>600</td>\n",
       "    </tr>\n",
       "    <tr>\n",
       "      <th>1</th>\n",
       "      <td>ORD</td>\n",
       "      <td>Chicago O-Hare</td>\n",
       "      <td>Airport</td>\n",
       "      <td>601</td>\n",
       "    </tr>\n",
       "    <tr>\n",
       "      <th>2</th>\n",
       "      <td>SJC</td>\n",
       "      <td>San Jose</td>\n",
       "      <td>Airport</td>\n",
       "      <td>602</td>\n",
       "    </tr>\n",
       "    <tr>\n",
       "      <th>3</th>\n",
       "      <td>DEN</td>\n",
       "      <td>Denver</td>\n",
       "      <td>Airport</td>\n",
       "      <td>603</td>\n",
       "    </tr>\n",
       "  </tbody>\n",
       "</table>\n",
       "</div>"
      ],
      "text/plain": [
       "  airport_code    airport_name    LABEL  internal_id\n",
       "0          MKE       Milwaukee  Airport          600\n",
       "1          ORD  Chicago O-Hare  Airport          601\n",
       "2          SJC        San Jose  Airport          602\n",
       "3          DEN          Denver  Airport          603"
      ]
     },
     "execution_count": 7,
     "metadata": {},
     "output_type": "execute_result"
    }
   ],
   "source": [
    "\n",
    "#  Vertices/Nodes, Airports ..\n",
    "\n",
    "df_airports = pd.DataFrame([\n",
    "       #\n",
    "   [\"MKE\", \"Milwaukee\"               , \"Airport\", 600],\n",
    "   [\"ORD\", \"Chicago O-Hare\"          , \"Airport\", 601],\n",
    "   [\"SJC\", \"San Jose\"                , \"Airport\", 602],\n",
    "   [\"DEN\", \"Denver\"                  , \"Airport\", 603],\n",
    "       #\n",
    "   ], columns = [\"airport_code\", \"airport_name\", \"LABEL\", \"internal_id\"])\n",
    "\n",
    "df_airports.head(20)\n"
   ]
  },
  {
   "cell_type": "code",
   "execution_count": 8,
   "id": "60eaac88-4dd5-47d3-94b3-0f5fd0b243f2",
   "metadata": {},
   "outputs": [
    {
     "data": {
      "text/html": [
       "<div>\n",
       "<style scoped>\n",
       "    .dataframe tbody tr th:only-of-type {\n",
       "        vertical-align: middle;\n",
       "    }\n",
       "\n",
       "    .dataframe tbody tr th {\n",
       "        vertical-align: top;\n",
       "    }\n",
       "\n",
       "    .dataframe thead th {\n",
       "        text-align: right;\n",
       "    }\n",
       "</style>\n",
       "<table border=\"1\" class=\"dataframe\">\n",
       "  <thead>\n",
       "    <tr style=\"text-align: right;\">\n",
       "      <th></th>\n",
       "      <th>START_ID</th>\n",
       "      <th>END_ID</th>\n",
       "      <th>DISTANCE</th>\n",
       "      <th>NUM_HOPS</th>\n",
       "      <th>TYPE</th>\n",
       "    </tr>\n",
       "  </thead>\n",
       "  <tbody>\n",
       "    <tr>\n",
       "      <th>0</th>\n",
       "      <td>MKE</td>\n",
       "      <td>ORD</td>\n",
       "      <td>66</td>\n",
       "      <td>1</td>\n",
       "      <td>FLIES_TO</td>\n",
       "    </tr>\n",
       "    <tr>\n",
       "      <th>1</th>\n",
       "      <td>ORD</td>\n",
       "      <td>MKE</td>\n",
       "      <td>66</td>\n",
       "      <td>1</td>\n",
       "      <td>FLIES_TO</td>\n",
       "    </tr>\n",
       "    <tr>\n",
       "      <th>2</th>\n",
       "      <td>ORD</td>\n",
       "      <td>DEN</td>\n",
       "      <td>886</td>\n",
       "      <td>1</td>\n",
       "      <td>FLIES_TO</td>\n",
       "    </tr>\n",
       "    <tr>\n",
       "      <th>3</th>\n",
       "      <td>DEN</td>\n",
       "      <td>ORD</td>\n",
       "      <td>886</td>\n",
       "      <td>1</td>\n",
       "      <td>FLIES_TO</td>\n",
       "    </tr>\n",
       "    <tr>\n",
       "      <th>4</th>\n",
       "      <td>SJC</td>\n",
       "      <td>DEN</td>\n",
       "      <td>948</td>\n",
       "      <td>1</td>\n",
       "      <td>FLIES_TO</td>\n",
       "    </tr>\n",
       "    <tr>\n",
       "      <th>5</th>\n",
       "      <td>DEN</td>\n",
       "      <td>SJC</td>\n",
       "      <td>948</td>\n",
       "      <td>1</td>\n",
       "      <td>FLIES_TO</td>\n",
       "    </tr>\n",
       "    <tr>\n",
       "      <th>6</th>\n",
       "      <td>SJC</td>\n",
       "      <td>ORD</td>\n",
       "      <td>1829</td>\n",
       "      <td>1</td>\n",
       "      <td>FLIES_TO</td>\n",
       "    </tr>\n",
       "  </tbody>\n",
       "</table>\n",
       "</div>"
      ],
      "text/plain": [
       "  START_ID END_ID  DISTANCE  NUM_HOPS      TYPE\n",
       "0      MKE    ORD        66         1  FLIES_TO\n",
       "1      ORD    MKE        66         1  FLIES_TO\n",
       "2      ORD    DEN       886         1  FLIES_TO\n",
       "3      DEN    ORD       886         1  FLIES_TO\n",
       "4      SJC    DEN       948         1  FLIES_TO\n",
       "5      DEN    SJC       948         1  FLIES_TO\n",
       "6      SJC    ORD      1829         1  FLIES_TO"
      ]
     },
     "execution_count": 8,
     "metadata": {},
     "output_type": "execute_result"
    }
   ],
   "source": [
    "#  Create the edge, flights ..\n",
    "\n",
    "df_flights = pd.DataFrame([\n",
    "      #\n",
    "   [\"MKE\", \"ORD\",   66, 1, \"FLIES_TO\" ],\n",
    "   [\"ORD\", \"MKE\",   66, 1, \"FLIES_TO\" ],\n",
    "      #\n",
    "   [\"ORD\", \"DEN\",  886, 1, \"FLIES_TO\" ],\n",
    "   [\"DEN\", \"ORD\",  886, 1, \"FLIES_TO\" ],\n",
    "      #\n",
    "   [\"SJC\", \"DEN\",  948, 1, \"FLIES_TO\" ],                           #  Notice SJC flies to/from Denver\n",
    "   [\"DEN\", \"SJC\",  948, 1, \"FLIES_TO\" ],\n",
    "      #\n",
    "   [\"SJC\", \"ORD\", 1829, 1, \"FLIES_TO\" ],                           #  Notice SJC flies to ORD, but not ORD to SJC\n",
    "      #\n",
    "   ], columns = [\"START_ID\", \"END_ID\", \"DISTANCE\", \"NUM_HOPS\", \"TYPE\"])\n",
    "\n",
    "df_flights.head(30)\n"
   ]
  },
  {
   "cell_type": "code",
   "execution_count": 9,
   "id": "49e8f39e-4b4f-4377-a8ac-52a1ad07094f",
   "metadata": {},
   "outputs": [
    {
     "name": "stderr",
     "output_type": "stream",
     "text": [
      "/opt/conda/lib/python3.8/site-packages/katana_enterprise/remote/aio/import_data/dataframe_importer/__init__.py:238: UserWarning: unsupported dtype 'object' for 'airport_code' was coerced to 'string'\n",
      "  warnings.warn(f\"unsupported dtype '{original_dtype}' for '{id_col.name}' was coerced to '{id_col.dtype}'\")\n",
      "/opt/conda/lib/python3.8/site-packages/katana_enterprise/remote/aio/import_data/dataframe_importer/__init__.py:238: UserWarning: unsupported dtype 'object' for 'START_ID' was coerced to 'string'\n",
      "  warnings.warn(f\"unsupported dtype '{original_dtype}' for '{id_col.name}' was coerced to '{id_col.dtype}'\")\n",
      "/opt/conda/lib/python3.8/site-packages/katana_enterprise/remote/aio/import_data/dataframe_importer/__init__.py:238: UserWarning: unsupported dtype 'object' for 'END_ID' was coerced to 'string'\n",
      "  warnings.warn(f\"unsupported dtype '{original_dtype}' for '{id_col.name}' was coerced to '{id_col.dtype}'\")\n"
     ]
    },
    {
     "data": {
      "application/vnd.jupyter.widget-view+json": {
       "model_id": "ecd59f516b9946e3b6dddd289d52ac21",
       "version_major": 2,
       "version_minor": 0
      },
      "text/plain": [
       "          0/? [?op/s]"
      ]
     },
     "metadata": {},
     "output_type": "display_data"
    },
    {
     "name": "stdout",
     "output_type": "stream",
     "text": [
      "--\n"
     ]
    }
   ],
   "source": [
    "\n",
    "# Import the 2 previously created Python DataFrames into KatanaGraph ..\n",
    "\n",
    "with import_data.DataFrameImporter(my_graph) as df_importer:   \n",
    "    \n",
    "   df_importer.nodes_dataframe(df_airports,                    #  Aiports set of Nodes\n",
    "      id_column             = \"airport_code\",\n",
    "      id_space              = \"Airport\",  \n",
    "      label                 = \"Airport\",  \n",
    "      )\n",
    "   \n",
    "   df_importer.edges_dataframe(df_flights,                     #  Our Edge, specifying the relationship between Airport --> FLIES_TO --> Airport\n",
    "      source_id_space       = \"Airport\", \n",
    "      destination_id_space  = \"Airport\",   \n",
    "      source_column         = \"START_ID\",\n",
    "      destination_column    = \"END_ID\",\n",
    "      type                  = \"FLIES_TO\"\n",
    "      )\n",
    "\n",
    "   df_importer.insert()\n",
    "\n",
    "print(\"--\")\n"
   ]
  },
  {
   "cell_type": "code",
   "execution_count": 10,
   "id": "b9bbf601-a25b-4dd9-8f99-83ec1a576505",
   "metadata": {},
   "outputs": [
    {
     "data": {
      "application/vnd.jupyter.widget-view+json": {
       "model_id": "64bc1cdb689f4bd69da10d96d904eef8",
       "version_major": 2,
       "version_minor": 0
      },
      "text/plain": [
       "          0/? [?op/s]"
      ]
     },
     "metadata": {},
     "output_type": "display_data"
    },
    {
     "name": "stdout",
     "output_type": "stream",
     "text": [
      "+----+-----------------+-------------+-----------+------------------+------------------+-----------------+---------------+\n",
      "|    |           id(n) | labels(n)   | n.LABEL   | n.airport_code   | n.airport_name   |   n.internal_id | datatype(n)   |\n",
      "|----+-----------------+-------------+-----------+------------------+------------------+-----------------+---------------|\n",
      "|  0 |               0 | ['Airport'] | Airport   | ORD              | Chicago O-Hare   |             601 | node          |\n",
      "|  1 | 281474976710656 | ['Airport'] | Airport   | DEN              | Denver           |             603 | node          |\n",
      "|  2 | 562949953421313 | ['Airport'] | Airport   | SJC              | San Jose         |             602 | node          |\n",
      "|  3 | 562949953421312 | ['Airport'] | Airport   | MKE              | Milwaukee        |             600 | node          |\n",
      "+----+-----------------+-------------+-----------+------------------+------------------+-----------------+---------------+\n"
     ]
    },
    {
     "name": "stderr",
     "output_type": "stream",
     "text": [
      "/opt/conda/lib/python3.8/site-packages/katana_enterprise/remote/result_set.py:69: UserWarning: Pandas doesn't allow columns to be created via a new attribute name - see https://pandas.pydata.org/pandas-docs/stable/indexing.html#attribute-access\n",
      "  self._response = response\n"
     ]
    },
    {
     "data": {
      "application/vnd.jupyter.widget-view+json": {
       "model_id": "7cf979fe39a84c4088d4aacf26e3b74f",
       "version_major": 2,
       "version_minor": 0
      },
      "text/plain": [
       "          0/? [?op/s]"
      ]
     },
     "metadata": {},
     "output_type": "display_data"
    },
    {
     "name": "stdout",
     "output_type": "stream",
     "text": [
      "+----+------------------+----------------------+-----------------+-----------+--------------+--------------+----------+--------------------+------------------------+---------------+\n",
      "|    |   id(endNode(r)) | labels(endNode(r))   |           id(r) | type(r)   |   r.DISTANCE |   r.NUM_HOPS | r.TYPE   |   id(startNode(r)) | labels(startNode(r))   | datatype(r)   |\n",
      "|----+------------------+----------------------+-----------------+-----------+--------------+--------------+----------+--------------------+------------------------+---------------|\n",
      "|  0 |  281474976710656 | ['Airport']          |               0 | FLIES_TO  |          886 |            1 | FLIES_TO |                  0 | ['Airport']            | edge          |\n",
      "|  1 |  562949953421312 | ['Airport']          |               1 | FLIES_TO  |           66 |            1 | FLIES_TO |                  0 | ['Airport']            | edge          |\n",
      "|  2 |  562949953421313 | ['Airport']          | 281474976710656 | FLIES_TO  |          948 |            1 | FLIES_TO |    281474976710656 | ['Airport']            | edge          |\n",
      "|  3 |                0 | ['Airport']          | 281474976710657 | FLIES_TO  |          886 |            1 | FLIES_TO |    281474976710656 | ['Airport']            | edge          |\n",
      "|  4 |                0 | ['Airport']          | 562949953421313 | FLIES_TO  |           66 |            1 | FLIES_TO |    562949953421312 | ['Airport']            | edge          |\n",
      "|  5 |  281474976710656 | ['Airport']          | 562949953421312 | FLIES_TO  |          948 |            1 | FLIES_TO |    562949953421313 | ['Airport']            | edge          |\n",
      "|  6 |                0 | ['Airport']          | 562949953421314 | FLIES_TO  |         1829 |            1 | FLIES_TO |    562949953421313 | ['Airport']            | edge          |\n",
      "+----+------------------+----------------------+-----------------+-----------+--------------+--------------+----------+--------------------+------------------------+---------------+\n"
     ]
    }
   ],
   "source": [
    "\n",
    "#  What's in the graph ..\n",
    "\n",
    "\n",
    "l_result1 = my_graph.query_unpaginated(\"\"\"\n",
    "   MATCH ( n ) \n",
    "   RETURN n\n",
    "   \"\"\")\n",
    "\n",
    "#  print(type(l_result1))\n",
    "#\n",
    "#     <class 'katana.remote.ResultSet'>\n",
    "\n",
    "print(tabulate(l_result1, headers='keys', tablefmt='psql'))\n",
    "\n",
    "#  Still works\n",
    "#\n",
    "#  for l_each in l_result1.itertuples():\n",
    "#     print(l_each)\n",
    "\n",
    "\n",
    "l_result2 = my_graph.query_unpaginated(\"\"\"\n",
    "   MATCH ( n ) - [ r ] -> ( m )\n",
    "   RETURN r\n",
    "   \"\"\")\n",
    "# print(l_result2[0:30])\n",
    "print(tabulate(l_result2, headers='keys', tablefmt='psql'))\n",
    "\n",
    "\n",
    "#  Result from nodes ..\n",
    "#\n",
    "#  +----+-----------------+-------------+-----------+------------------+--------+-----------------+----------+\n",
    "#  |    |   n.internal_id | n.labels    | n.LABEL   | n.airport_name   | n.id   |   n.internal_id | n.type   |\n",
    "#  |----+-----------------+-------------+-----------+------------------+--------+-----------------+----------|\n",
    "#  |  0 |               0 | ['Airport'] | Airport   | Milwaukee        | MKE    |             600 | node     |\n",
    "#  |  1 | 281474976710656 | ['Airport'] | Airport   | Chicago O-Hare   | ORD    |             601 | node     |\n",
    "#  |  2 | 281474976710657 | ['Airport'] | Airport   | San Jose         | SJC    |             602 | node     |\n",
    "#  |  3 | 562949953421312 | ['Airport'] | Airport   | Denver           | DEN    |             603 | node     |\n",
    "#  +----+-----------------+-------------+-----------+------------------+--------+-----------------+----------+\n",
    "\n",
    "\n",
    "#  Result from edges ..\n",
    "#\n",
    "#  +----+-----------------+----------------+-----------------+-----------+--------------+--------------+----------+-----------------+------------------+----------+\n",
    "#  |    |        r.end.id | r.end.labels   |   r.internal_id | r.label   |   r.DISTANCE |   r.NUM_HOPS | r.TYPE   |      r.start.id | r.start.labels   | r.type   |\n",
    "#  |----+-----------------+----------------+-----------------+-----------+--------------+--------------+----------+-----------------+------------------+----------|\n",
    "#  |  0 | 281474976710656 | ['Airport']    |               0 | FLIES_TO  |           66 |            1 | FLIES_TO |               0 | ['Airport']      | edge     |\n",
    "#  |  1 | 562949953421312 | ['Airport']    | 281474976710657 | FLIES_TO  |          886 |            1 | FLIES_TO | 281474976710656 | ['Airport']      | edge     |\n",
    "#  |  2 |               0 | ['Airport']    | 281474976710659 | FLIES_TO  |           66 |            1 | FLIES_TO | 281474976710656 | ['Airport']      | edge     |\n",
    "#  |  3 | 281474976710656 | ['Airport']    | 281474976710656 | FLIES_TO  |         1829 |            1 | FLIES_TO | 281474976710657 | ['Airport']      | edge     |\n",
    "#  |  4 | 562949953421312 | ['Airport']    | 281474976710658 | FLIES_TO  |          948 |            1 | FLIES_TO | 281474976710657 | ['Airport']      | edge     |\n",
    "#  |  5 | 281474976710657 | ['Airport']    | 562949953421312 | FLIES_TO  |          948 |            1 | FLIES_TO | 562949953421312 | ['Airport']      | edge     |\n",
    "#  |  6 | 281474976710656 | ['Airport']    | 562949953421313 | FLIES_TO  |          886 |            1 | FLIES_TO | 562949953421312 | ['Airport']      | edge     |\n",
    "#  +----+-----------------+----------------+-----------------+-----------+--------------+--------------+----------+-----------------+------------------+----------+\n",
    "\n"
   ]
  },
  {
   "cell_type": "code",
   "execution_count": null,
   "id": "e323950d-2d34-46f2-a041-8141217dacc2",
   "metadata": {},
   "outputs": [],
   "source": []
  }
 ],
 "metadata": {
  "kernelspec": {
   "display_name": "Python 3 (ipykernel)",
   "language": "python",
   "name": "python3"
  },
  "language_info": {
   "codemirror_mode": {
    "name": "ipython",
    "version": 3
   },
   "file_extension": ".py",
   "mimetype": "text/x-python",
   "name": "python",
   "nbconvert_exporter": "python",
   "pygments_lexer": "ipython3",
   "version": "3.8.13"
  }
 },
 "nbformat": 4,
 "nbformat_minor": 5
}
