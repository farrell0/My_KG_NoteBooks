{
 "cells": [
  {
   "cell_type": "markdown",
   "id": "c54fd830-1317-4a52-b610-ef9716e5d744",
   "metadata": {
    "tags": []
   },
   "source": [
    "#  Setup: Display options"
   ]
  },
  {
   "cell_type": "code",
   "execution_count": null,
   "id": "8a38ebd7-d1d9-47a8-955c-a8270b024543",
   "metadata": {},
   "outputs": [],
   "source": [
    "\n",
    "#  Setting display options \n",
    "\n",
    "import pandas as pd\n",
    "   #\n",
    "pd.set_option(\"display.width\", 480)\n",
    "\n",
    "#  Sets horizontal scroll for wide outputs\n",
    "#\n",
    "from IPython.display import display, HTML\n",
    "display(HTML(\"\"))\n",
    "\n",
    "from tabulate import tabulate\n",
    "\n",
    "print(\"--\")\n"
   ]
  },
  {
   "cell_type": "markdown",
   "id": "3ab7ce90-67cf-462c-94a6-3c8c9d0754b3",
   "metadata": {},
   "source": [
    "# Setup: Connectivity"
   ]
  },
  {
   "cell_type": "code",
   "execution_count": null,
   "id": "e87b75ba-c072-4111-8cca-4b4f394a0fce",
   "metadata": {},
   "outputs": [],
   "source": [
    "\n",
    "from katana import remote\n",
    "\n",
    "my_client = remote.Client()\n",
    "\n",
    "print(my_client)\n"
   ]
  },
  {
   "cell_type": "code",
   "execution_count": null,
   "id": "d3a77f99-f11b-4105-ab43-17ce605b15e8",
   "metadata": {},
   "outputs": [],
   "source": [
    "\n",
    "NUM_PARTITIONS  = 3\n",
    "   #\n",
    "DB_NAME         = \"my_db\"\n",
    "GRAPH_NAME      = \"my_graph\"\n",
    "\n",
    "print(\"--\")\n"
   ]
  },
  {
   "cell_type": "code",
   "execution_count": null,
   "id": "7f2292b8-7df0-49a0-b3da-523f56cfe4f8",
   "metadata": {},
   "outputs": [],
   "source": [
    "\n",
    "#  DELETE ALL GRAPHS\n",
    "\n",
    "for l_database in my_client.databases():\n",
    "   for l_graph in my_client.get_database(name=l_database.name).graphs_in_database():\n",
    "      l_handle=my_client.get_database(name=l_database.name).get_graph_by_id(id=l_graph.graph_id)\n",
    "      l_handle.delete()\n",
    "\n",
    "for l_graph in my_client.graphs():\n",
    "   print(\"GRAPH ID: \", l_graph.graph_id, \"      GRAPH Version: \", l_graph.version)\n",
    "\n",
    "print(\"--\")\n"
   ]
  },
  {
   "cell_type": "code",
   "execution_count": null,
   "id": "71f69a0e-451b-4679-b49c-5db1208d4c8f",
   "metadata": {},
   "outputs": [],
   "source": [
    "\n",
    "#  DELETE ALL DATABASES\n",
    "\n",
    "for l_database in my_client.databases():\n",
    "   if (l_database.name != \"default\"):\n",
    "      my_client.get_database(name=l_database.name).delete_database()\n",
    "      print(\"--\")\n",
    "\n",
    "for l_database in my_client.databases():\n",
    "   print(\"DB ID: \", l_database.database_id, \"     DB Name: \", l_database.name)\n"
   ]
  },
  {
   "cell_type": "code",
   "execution_count": null,
   "id": "a3b3bc00-fafb-481d-ba5a-8b52ae7d6e79",
   "metadata": {},
   "outputs": [],
   "source": [
    "\n",
    "#  CREATE DATABASE\n",
    "\n",
    "my_database = my_client.create_database(name=DB_NAME)\n",
    "\n",
    "print(my_database.database_id)\n"
   ]
  },
  {
   "cell_type": "code",
   "execution_count": null,
   "id": "b8ba088b-2ec5-4b2a-8171-3c87ddffb47c",
   "metadata": {},
   "outputs": [],
   "source": [
    "\n",
    "#  CREATE GRAPH\n",
    "#\n",
    "my_graph = my_client.get_database(name=DB_NAME).create_graph(name=GRAPH_NAME, num_partitions=NUM_PARTITIONS)\n",
    "\n",
    "print(my_graph)\n"
   ]
  },
  {
   "cell_type": "markdown",
   "id": "c3685a36-d987-4ad8-a209-7115d726ac03",
   "metadata": {},
   "source": [
    "# Step 01:  Process CSV files .."
   ]
  },
  {
   "cell_type": "code",
   "execution_count": 43,
   "id": "0351b0fd-6237-4d7a-99f1-dec2150ec4fc",
   "metadata": {},
   "outputs": [
    {
     "name": "stdout",
     "output_type": "stream",
     "text": [
      "Number of CSV input lines: 90\n",
      "\n",
      "Record number: 4001   Sample name: 3-Dimensional Simulation                       Short text: This patient is undergoing 3-dimensionally planned radiation\n",
      "Record number: 4002   Sample name: Adrenalectomy & Umbilical Hernia Repair        Short text: PREOPERATIVE DIAGNOSES1. Adrenal mass, right sided.2. Umbili\n",
      "Record number: 4003   Sample name: Anaplastic Astrocytoma - Letter                Short text: Month DD, YYYYXYZRE: ABCMEDICAL RECORD#: 123Dear Dr. XYZ:I s\n",
      "Record number: 4004   Sample name: Anemia & Leukemia Followup                     Short text: CHIEF COMPLAINT:1. Chronic lymphocytic leukemia (CLL).2. Aut\n",
      "\n",
      "--\n"
     ]
    }
   ],
   "source": [
    "\n",
    "#  This data was sourced from,\n",
    "#     https://mtsamples.com/site/pages/browse.asp?type=96-Hematology%20-%20Oncology\n",
    "#\n",
    "\n",
    "#  Column headers,\n",
    "#     id|medical_specialty|sample_name|description|body\n",
    "#\n",
    "df_data      = pd.read_csv(\"./10_Data/22_OncologyCallNotes.txt\", header = \"infer\", delimiter = \"|\")\n",
    "\n",
    "\n",
    "#  90 Real lines of data.  (Some data is multi-line, and enclosed in double quotes.)\n",
    "#\n",
    "print(\"Number of CSV input lines: %d\" % (len(df_data)))\n",
    "print(\"\")\n",
    "\n",
    "\n",
    "#   Above, the field titled \"body\" contains embedded new lines; remove those\n",
    "#   and place in a new field titled, \"body_1line\"\n",
    "#\n",
    "df_data[\"body_1line\"] = df_data.body.map(lambda x: str(x).replace(\"\\n\", \"\") )\n",
    "\n",
    "\n",
    "l_cntr = 0\n",
    "   #\n",
    "for l_each in df_data.itertuples():\n",
    "   l_cntr += 1\n",
    "      #\n",
    "   if (l_cntr < 5):\n",
    "      print(\"Record number: %d   Sample name: %-44s   Short text: %s\" % (l_each.id, l_each.sample_name[0:43], l_each.body_1line[0:60]))\n",
    "        \n",
    "        \n",
    "print(\"\")\n",
    "print(\"--\")\n",
    "\n",
    "#  Sample output,\n",
    "#\n",
    "#     Number of CSV input lines: 90\n",
    "#     \n",
    "#     Record number: 4001   Sample name: 3-Dimensional Simulation                       Short text: This patient is undergoing 3-dimensionally planned radiation\n",
    "#     Record number: 4002   Sample name: Adrenalectomy & Umbilical Hernia Repair        Short text: PREOPERATIVE DIAGNOSES1. Adrenal mass, right sided.2. Umbi\n",
    "#     Record number: 4003   Sample name: Anaplastic Astrocytoma - Letter                Short text: Month DD, YYYYXYZRE: ABCMEDICAL RECORD#: 123Dear Dr. \n",
    "#     Record number: 4004   Sample name: Anemia & Leukemia Followup                     Short text: CHIEF COMPLAINT:1. Chronic lymphocytic leukemia (CLL).2. A\n"
   ]
  },
  {
   "cell_type": "code",
   "execution_count": 42,
   "id": "6491d824-e497-4548-8ace-659c3657662a",
   "metadata": {},
   "outputs": [
    {
     "name": "stdout",
     "output_type": "stream",
     "text": [
      "--\n"
     ]
    }
   ],
   "source": [
    "\n",
    "\n",
    "import os\n",
    "\n",
    "os.environ[\"GOOGLE_APPLICATION_CREDENTIALS\"] = \"./10_Data/05_katana-clusters-beta-d8605ac248e7.json\"\n",
    "\n",
    "\n",
    "   ###\n",
    "\n",
    "\n",
    "import requests\n",
    "from requests.structures import CaseInsensitiveDict\n",
    "\n",
    "url = \"https://healthcare.googleapis.com/v1/projects/katana-clusters-beta/locations/us-central1/services/nlp:analyzeEntities\"\n",
    "\n",
    "headers = CaseInsensitiveDict()\n",
    "headers[\"Authorization\"] = \"Bearer \" +\n",
    "headers[\"Content-Type\"] = \"application/json\"\n",
    "\n",
    "data = \"\"\"\n",
    "{\n",
    "    'nlpService':'projects/katana-clusters-beta/locations/us-central1/services/nlp',\n",
    "    'documentContent':'${l_each}'\n",
    "   }\n",
    "\"\"\"\n",
    "\n",
    "\n",
    "resp = requests.post(url, headers=headers, data=data)\n",
    "\n",
    "print(resp.status_code)\n",
    "\n",
    "\n",
    "\n"
   ]
  },
  {
   "cell_type": "code",
   "execution_count": null,
   "id": "b11d557b-990a-4e72-bcb1-3cbcfdcbf6a1",
   "metadata": {},
   "outputs": [],
   "source": []
  },
  {
   "cell_type": "code",
   "execution_count": null,
   "id": "34d5ccd9-1480-4904-8bc1-f53c939618fc",
   "metadata": {},
   "outputs": [],
   "source": [
    "\n",
    "\n",
    "curl -X POST \\\n",
    "   -H \"Authorization: Bearer \"$(gcloud auth application-default print-access-token) \\\n",
    "   -H \"Content-Type:application/json\" \\\n",
    "   --data \"{\n",
    "    'nlpService':'projects/katana-clusters-beta/locations/us-central1/services/nlp',\n",
    "    'documentContent':'${l_each}'\n",
    "   }\" \\\n",
    "   \"https://healthcare.googleapis.com/v1/projects/katana-clusters-beta/locations/us-central1/services/nlp:analyzeEntities\"\n",
    "\n",
    "\n",
    "\n"
   ]
  },
  {
   "cell_type": "code",
   "execution_count": null,
   "id": "df4ad011-1bf5-4242-b93a-7480745e6cb9",
   "metadata": {},
   "outputs": [],
   "source": []
  },
  {
   "cell_type": "code",
   "execution_count": null,
   "id": "d219289c-0a7f-4c10-b870-865024d5bd6c",
   "metadata": {},
   "outputs": [],
   "source": []
  },
  {
   "cell_type": "code",
   "execution_count": null,
   "id": "2d2583d8-e087-440c-9ffb-9916bb5e6e8f",
   "metadata": {},
   "outputs": [],
   "source": []
  },
  {
   "cell_type": "code",
   "execution_count": null,
   "id": "07b4a44c-9d89-4306-b8c0-67156a79a537",
   "metadata": {},
   "outputs": [],
   "source": []
  },
  {
   "cell_type": "code",
   "execution_count": null,
   "id": "a50fd04c-9880-498e-978b-6a45da00f143",
   "metadata": {},
   "outputs": [],
   "source": [
    "\n",
    "#  In a Web browser\n",
    "#     \n",
    "#     https://console.cloud.google.com/storage/browser/a9187b90-cluster/kind-mullet/Paypal_20M_1B/\n",
    "#\n",
    "\n",
    "from google.cloud import storage\n",
    "\n",
    "\n",
    "l_client      = storage.Client()\n",
    "\n",
    "l_bucket_str  = \"a9187b90-cluster\"\n",
    "   #\n",
    "l_bucket      = l_client.bucket(l_bucket_str)\n",
    "\n",
    "\n",
    "#  Just nodes\n",
    "#\n",
    "l_nodes = []\n",
    "   #\n",
    "for l_each in l_bucket.list_blobs(prefix = \"kind-mullet/Paypal_20M_1B/N\"):\n",
    "   print(l_each.name)\n",
    "      #\n",
    "   l_nodes.append(\"gs://\" + l_bucket_str + \"/\" + l_each.name)\n",
    "\n",
    "print(l_nodes)\n",
    "\n",
    "\n",
    "print(\"--\")\n",
    "\n",
    "\n",
    "#  Just edges\n",
    "#\n",
    "l_edges       = []\n",
    "   #\n",
    "l_cntr        = 0                                   #  We'll use these next two lines for testing\n",
    "l_edges_small = []\n",
    "   #\n",
    "for l_each in l_bucket.list_blobs(prefix = \"kind-mullet/Paypal_20M_1B/f\"):\n",
    "   print(l_each.name)\n",
    "      #\n",
    "   l_edges.append(\"gs://\" + l_bucket_str + \"/\" + l_each.name)\n",
    "      #\n",
    "   l_cntr += 1\n",
    "   if (l_cntr < 3):\n",
    "      l_edges_small.append(\"gs://\" + l_bucket_str + \"/\" + l_each.name)\n",
    "\n",
    "print(l_edges)\n",
    "print(l_edges_small)\n",
    "\n",
    "\n",
    "print(\"--\")\n",
    "\n",
    "#  Sample output,\n",
    "#\n",
    "#     kind-mullet/Paypal_20M_1B/NodeFile_0\n",
    "#     ['gs://a9187b90-cluster/kind-mullet/Paypal_20M_1B/NodeFile_0']\n",
    "#     --\n",
    "#     kind-mullet/Paypal_20M_1B/fileAssetA_0\n",
    "#     kind-mullet/Paypal_20M_1B/fileAssetA_1\n",
    "#     kind-mullet/Paypal_20M_1B/fileAssetA_2\n",
    "#     kind-mullet/Paypal_20M_1B/fileAssetA_3\n",
    "#     kind-mullet/Paypal_20M_1B/fileAssetA_4\n",
    "#     kind-mullet/Paypal_20M_1B/fileAssetA_5\n",
    "#     kind-mullet/Paypal_20M_1B/fileAssetB_0\n",
    "#     kind-mullet/Paypal_20M_1B/fileAssetB_1\n",
    "#     kind-mullet/Paypal_20M_1B/fileAssetB_2\n",
    "#     kind-mullet/Paypal_20M_1B/fileAssetB_3\n",
    "#     kind-mullet/Paypal_20M_1B/fileFriendA_0\n",
    "#     kind-mullet/Paypal_20M_1B/fileFriendB_0\n",
    "#     kind-mullet/Paypal_20M_1B/fileFriendB_1\n",
    "#     ['gs://a9187b90-cluster/kind-mullet/Paypal_20M_1B/fileAssetA_0', 'gs://a9187b90-cluster/kind-mullet/Paypal_20M_1B/fileAssetA_1', 'gs://a9187b90-cluster/kind-mullet/P  ...\n",
    "#     ['gs://a9187b90-cluster/kind-mullet/Paypal_20M_1B/fileAssetA_0', 'gs://a9187b90-cluster/kind-mullet/Paypal_20M_1B/fileAssetA_1']\n",
    "#     --\n"
   ]
  },
  {
   "cell_type": "markdown",
   "id": "c36e1596-03e6-450f-bcf0-144658f00701",
   "metadata": {},
   "source": [
    "#  Step 02: Read CSVs into Dask DataFrame"
   ]
  },
  {
   "cell_type": "code",
   "execution_count": null,
   "id": "4ed37a38-5140-45c0-915b-e88a0516f378",
   "metadata": {},
   "outputs": [],
   "source": [
    "\n",
    "import dask.dataframe as dd\n",
    "import numpy as np\n",
    "\n",
    "print(\"--\")\n"
   ]
  },
  {
   "cell_type": "code",
   "execution_count": null,
   "id": "c8c98ee1-3c20-4e3a-b075-3bbdb39ace7c",
   "metadata": {},
   "outputs": [],
   "source": [
    "%%time\n",
    "\n",
    "#  Just nodes\n",
    "\n",
    "#  Sample data,\n",
    "#\n",
    "#     Sent|counterparty|cntAppr|cntDecl|cntRiskDecl1|amtRiskDecl|cntRiskDecl2|sumRcvd|cntRcvd|cntDist|cntDecl2\n",
    "#     0|N|N|N|N|XbRqfTcGJL9fxmNp4simTykwKr|qhBymw13PneK5hpntNVwjNwaYklX8P379JZo|Y|416|0|inactive|1941730454454|0|2018-01-24T01:09:18|9.07632e+09|1419493889|1894897856|2676929303.1430|6614868331.8687|8283173087.0037|6020979256.1980|1984359695|5077917542.6596|1923699935|1948138778|4876422147.1566|\n",
    "\n",
    "df_nodes = dd.read_csv(\n",
    "   l_nodes,\n",
    "   delimiter = \"|\",\n",
    "   dtype = {\n",
    "      \"Sent\"          : np.dtype(\"O\"),                         #  Change these if you wish,  Numpy datatypes\n",
    "      \"counterparty\"  : np.dtype(\"O\"),\n",
    "      \"cntAppr\"       : np.dtype(\"O\"),\n",
    "      \"cntDecl\"       : np.dtype(\"O\"),\n",
    "      \"cntRiskDecl1\"  : np.dtype(\"O\"),\n",
    "      \"amtRiskDecl\"   : np.dtype(\"O\"),\n",
    "      \"cntRiskDecl2\"  : np.dtype(\"O\"),\n",
    "      \"sumRcvd\"       : np.dtype(\"O\"),\n",
    "      \"cntRcvd\"       : np.dtype(\"O\"),\n",
    "      \"cntDist\"       : np.dtype(\"O\"),\n",
    "      \"cntDecl2\"      : np.dtype(\"O\"),\n",
    "      })\n",
    "\n",
    "print(len(df_nodes))\n",
    "\n",
    "print(\"--\")\n",
    "\n",
    "#  Sample output,\n",
    "#\n",
    "#     20000000\n",
    "#     --\n",
    "#     CPU times: user 3min, sys: 18 s, total: 3min 18s\n",
    "#     Wall time: 2min 48s\n"
   ]
  },
  {
   "cell_type": "code",
   "execution_count": null,
   "id": "b77a2d41-2763-449b-928d-aa0d745539f7",
   "metadata": {},
   "outputs": [],
   "source": [
    "%%time\n",
    "\n",
    "#  Just edges\n",
    "\n",
    "#  Sample data,\n",
    "#\n",
    "#     Account1.id|Account2.id|type|date\n",
    "#     16089173|16089175|FriendConB|2018-10-10T11:20:05\n",
    "\n",
    "df_edges = dd.read_csv(\n",
    "    \n",
    "   #  l_edges,                                                   #  This would be all files, at once, in memory\n",
    "   l_edges_small,\n",
    "    \n",
    "   delimiter = \"|\",\n",
    "   dtype = {\n",
    "      \"Account1.id\"   : np.dtype(\"O\"),\n",
    "      \"Account2.id\"   : np.dtype(\"O\"),\n",
    "      \"type\"          : np.dtype(\"O\"),                           #  These next two column names are keywords in most worlds -- bad idea\n",
    "      \"date\"          : np.dtype(\"O\"),\n",
    "      })\n",
    "\n",
    "print(len(df_edges))\n",
    "\n",
    "print(\"--\")\n",
    "\n",
    "#  Sample output,\n",
    "#\n",
    "#     200000000\n",
    "#     --\n",
    "#     CPU times: user 4min 25s, sys: 31.2 s, total: 4min 56s\n",
    "#     Wall time: 4min 23s\n"
   ]
  },
  {
   "cell_type": "code",
   "execution_count": null,
   "id": "b337d260-8583-41fc-9300-e9994520cda6",
   "metadata": {},
   "outputs": [],
   "source": []
  },
  {
   "cell_type": "code",
   "execution_count": null,
   "id": "5d607abb-6e9b-4dfd-9b10-302c237556d6",
   "metadata": {},
   "outputs": [],
   "source": []
  }
 ],
 "metadata": {
  "kernelspec": {
   "display_name": "Python 3 (ipykernel)",
   "language": "python",
   "name": "python3"
  },
  "language_info": {
   "codemirror_mode": {
    "name": "ipython",
    "version": 3
   },
   "file_extension": ".py",
   "mimetype": "text/x-python",
   "name": "python",
   "nbconvert_exporter": "python",
   "pygments_lexer": "ipython3",
   "version": "3.8.13"
  }
 },
 "nbformat": 4,
 "nbformat_minor": 5
}
