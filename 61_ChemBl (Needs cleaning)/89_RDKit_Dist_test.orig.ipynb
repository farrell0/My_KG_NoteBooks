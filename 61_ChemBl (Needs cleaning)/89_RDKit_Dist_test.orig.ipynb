{
 "cells": [
  {
   "cell_type": "markdown",
   "id": "88ec68e1-4737-4d86-b248-437c6f144377",
   "metadata": {},
   "source": [
    "# Initialize the graph \n",
    "Load the graph from Chembl27_csv graph located in the google storage\n",
    "## Graph Requirements\n",
    "+ Graph should have label support\n",
    "+  "
   ]
  },
  {
   "cell_type": "code",
   "execution_count": null,
   "id": "27c994ee-e3d8-4c67-8050-a4548e6eb6bb",
   "metadata": {},
   "outputs": [],
   "source": [
    "import os                                                                        \n",
    "import time                                                                      \n",
    "import json\n",
    "\n",
    "from katana import remote\n",
    "from katana.remote import import_data\n",
    "from katana_enterprise import async_to_sync\n",
    "\n",
    "os.environ[\"KATANA_SERVER_ADDRESS\"] = \"localhost:8080\"\n",
    "#os.environ[\"KATANA_SERVER_ADDRESS\"] = \"host.docker.internal:8080\"\n",
    "\n",
    "num_partitions = 4\n",
    "\n",
    "#client = remote.Client(disable_version_check=True)\n",
    "client = remote.Client()"
   ]
  },
  {
   "cell_type": "code",
   "execution_count": 2,
   "id": "efa96d52-155b-458c-bd0f-fe638039cf59",
   "metadata": {},
   "outputs": [
    {
     "name": "stdout",
     "output_type": "stream",
     "text": [
      "0.1.101.dev+6.22.1d6a0f.15d017.unmerged\n"
     ]
    }
   ],
   "source": [
    "import katana\n",
    "print(katana.__version__) "
   ]
  },
  {
   "cell_type": "markdown",
   "id": "8bd65da0-e8c0-4ba0-b793-bd08d7da556b",
   "metadata": {
    "tags": []
   },
   "source": [
    "## Loading the graph"
   ]
  },
  {
   "cell_type": "code",
   "execution_count": null,
   "id": "6424a0a4-ab5f-4896-83ca-aa9861599ba6",
   "metadata": {},
   "outputs": [],
   "source": [
    "%%time\n",
    "chembl27_csv_new = client.create_graph(num_partitions=num_partitions)\n",
    "\n",
    "print(f\"Importing graph from CSV files into graph {chembl27_csv_new} ...\")\n",
    "import_data.csv(\n",
    "    chembl27_csv_new,\n",
    "    input_node_path=\"gs://katana-demo-datasets/csv-datasets/chembl_raw/mapping/node_list_gcp.txt\",\n",
    "    input_edge_path=\"gs://katana-demo-datasets/csv-datasets/chembl_raw/mapping/edge_list_gcp.txt\",\n",
    "    input_dir=\"gs://katana-demo-datasets/csv-datasets/chembl_raw/csv/chembl27/\",\n",
    "    #have_headers=True,\n",
    "    files_have_headers=True,\n",
    "    data_delimiter=\"|\",\n",
    "    schema_delimiter=\"|\",\n",
    "    partition_policy=\"random-oec\"\n",
    ")"
   ]
  },
  {
   "cell_type": "code",
   "execution_count": 26,
   "id": "e553cb7b-7ee6-44e1-a0dc-eec7ad6b5fdd",
   "metadata": {},
   "outputs": [
    {
     "data": {
      "application/vnd.jupyter.widget-view+json": {
       "model_id": "6c43dd687cd0462cb53740b50ae9d519",
       "version_major": 2,
       "version_minor": 0
      },
      "text/plain": [
       "          0/? [?op/s]"
      ]
     },
     "metadata": {},
     "output_type": "display_data"
    },
    {
     "name": "stdout",
     "output_type": "stream",
     "text": [
      "CPU times: user 132 ms, sys: 5.46 ms, total: 137 ms\n",
      "Wall time: 41.9 s\n"
     ]
    }
   ],
   "source": [
    "#%%time\n",
    "#chembl27_csv_new = remote.Client().create_graph(num_partitions=1)\n",
    "#gs://katana-demo-datasets/rdkit_test_small\n",
    "#import_data.rdg(chembl27_csv_new, f\"gs://katana-demo-datasets/chembl_from_csv/chembl27_csv_new\")\n",
    "#import_data.rdg(chembl27_csv_new, f\"gs://katana-demo-datasets/rdkit_test_small\")"
   ]
  },
  {
   "cell_type": "code",
   "execution_count": null,
   "id": "5f8b356c-924b-4308-93a6-7b78b1730b57",
   "metadata": {},
   "outputs": [],
   "source": []
  },
  {
   "cell_type": "code",
   "execution_count": 4,
   "id": "bb4f1821-633a-4a3e-9f38-942187f4c756",
   "metadata": {},
   "outputs": [
    {
     "data": {
      "application/vnd.jupyter.widget-view+json": {
       "model_id": "ab138fc7de404804b6689de236ec1d8d",
       "version_major": 2,
       "version_minor": 0
      },
      "text/plain": [
       "          0/? [?op/s]"
      ]
     },
     "metadata": {},
     "output_type": "display_data"
    },
    {
     "name": "stdout",
     "output_type": "stream",
     "text": [
      "[{'count(t)': 1, 't.target_type': 'ADMET'}, {'count(t)': 1725, 't.target_type': 'CELL-LINE'}, {'count(t)': 14, 't.target_type': 'CHIMERIC PROTEIN'}, {'count(t)': 7, 't.target_type': 'LIPID'}, {'count(t)': 12, 't.target_type': 'MACROMOLECULE'}, {'count(t)': 9, 't.target_type': 'METAL'}, {'count(t)': 1, 't.target_type': 'NO TARGET'}, {'count(t)': 1, 't.target_type': 'NON-MOLECULAR'}, {'count(t)': 38, 't.target_type': 'NUCLEIC-ACID'}, {'count(t)': 10, 't.target_type': 'OLIGOSACCHARIDE'}, {'count(t)': 2199, 't.target_type': 'ORGANISM'}, {'count(t)': 2, 't.target_type': 'PHENOTYPE'}, {'count(t)': 483, 't.target_type': 'PROTEIN COMPLEX'}, {'count(t)': 53, 't.target_type': 'PROTEIN COMPLEX GROUP'}, {'count(t)': 345, 't.target_type': 'PROTEIN FAMILY'}, {'count(t)': 7, 't.target_type': 'PROTEIN NUCLEIC-ACID COMPLEX'}, {'count(t)': 124, 't.target_type': 'PROTEIN-PROTEIN INTERACTION'}, {'count(t)': 101, 't.target_type': 'SELECTIVITY GROUP'}, {'count(t)': 7933, 't.target_type': 'SINGLE PROTEIN'}, {'count(t)': 26, 't.target_type': 'SMALL MOLECULE'}, {'count(t)': 10, 't.target_type': 'SUBCELLULAR'}, {'count(t)': 261, 't.target_type': 'TISSUE'}, {'count(t)': 1, 't.target_type': 'UNCHECKED'}, {'count(t)': 19, 't.target_type': 'UNKNOWN'}]\n",
      "CPU times: user 223 ms, sys: 29.4 ms, total: 253 ms\n",
      "Wall time: 14.2 s\n"
     ]
    }
   ],
   "source": [
    "%%time\n",
    "#query6='''match ()-[e]-() return count(e);'''\n",
    "#query6='''match (e) return count(e);'''\n",
    "#query6='''match (b:molecule_dictionary)<-[:has_molecule]-(l:activities)-[:has_assay]->(r:assays)-[:has_target]->(t:target_dictionary{target_type:'SINGLE PROTEIN'}) return count(b)'''\n",
    "query6='''match (t:target_dictionary) return t.target_type, count(t) order by t.target_type'''\n",
    "smile6= chembl27_csv_new.query(query6)\n",
    "print(list(smile6))"
   ]
  },
  {
   "cell_type": "markdown",
   "id": "8a698b85-9f2f-49c1-9fff-9bb1d218c9bb",
   "metadata": {},
   "source": [
    "## Query6"
   ]
  },
  {
   "cell_type": "code",
   "execution_count": 4,
   "id": "6654fe3c-d97e-42a2-8fa7-a0ef7f045ca2",
   "metadata": {},
   "outputs": [
    {
     "data": {
      "application/vnd.jupyter.widget-view+json": {
       "model_id": "a35f99cfc944498f95fe4410e5c9266d",
       "version_major": 2,
       "version_minor": 0
      },
      "text/plain": [
       "          0/? [?op/s]"
      ]
     },
     "metadata": {},
     "output_type": "display_data"
    },
    {
     "name": "stdout",
     "output_type": "stream",
     "text": [
      "{'count(b)': 6408534}\n",
      "CPU times: user 241 ms, sys: 28.3 ms, total: 269 ms\n",
      "Wall time: 23 s\n"
     ]
    }
   ],
   "source": [
    "%%time\n",
    "query6='''match (b:molecule_dictionary)-[:has_molecule]-(l:activities)-[:has_assay]-(r:assays)-[:has_target]-(t:target_dictionary{target_type:'SINGLE PROTEIN'}) return count(b)'''\n",
    "#query6='''match (b:molecule_dictionary)<-[:has_molecule]-(l:activities)-[:has_assay]->(r:assays)-[:has_target]->(t:target_dictionary{target_type:'SINGLE PROTEIN'}) return count(b)'''\n",
    "smile6= chembl27_csv_new.query(query6)\n",
    "print(smile6[0])"
   ]
  },
  {
   "cell_type": "markdown",
   "id": "e2371bfb-5f65-48f4-92e2-9d4e85525db3",
   "metadata": {
    "tags": []
   },
   "source": [
    "## Query7"
   ]
  },
  {
   "cell_type": "code",
   "execution_count": 7,
   "id": "de153873-a0cb-4d4d-960b-feb1f8636c78",
   "metadata": {},
   "outputs": [
    {
     "data": {
      "application/vnd.jupyter.widget-view+json": {
       "model_id": "2543a6d4b9a34a66a422778521e52888",
       "version_major": 2,
       "version_minor": 0
      },
      "text/plain": [
       "          0/? [?op/s]"
      ]
     },
     "metadata": {},
     "output_type": "display_data"
    },
    {
     "name": "stdout",
     "output_type": "stream",
     "text": [
      "{'count(b)': 12728}\n",
      "CPU times: user 228 ms, sys: 22.5 ms, total: 250 ms\n",
      "Wall time: 8.56 s\n"
     ]
    }
   ],
   "source": [
    " %%time\n",
    "query7='''match (b:molecule_dictionary)<-[:has_molecule]-(l:activities)-[:has_assay]->(r:assays)-[:has_target]->(t:target_dictionary{target_type:'SINGLE PROTEIN', organism:'Mycobacterium tuberculosis'})  return count(b);'''\n",
    "\n",
    "smile7= chembl27_csv_new.query(query7)\n",
    "print(smile7[0])"
   ]
  },
  {
   "cell_type": "markdown",
   "id": "58851833-8af5-4def-aa62-e6b7ff383523",
   "metadata": {},
   "source": [
    "## Query8"
   ]
  },
  {
   "cell_type": "code",
   "execution_count": 9,
   "id": "9d98173c-0d16-48c1-8405-47455226373a",
   "metadata": {},
   "outputs": [
    {
     "data": {
      "application/vnd.jupyter.widget-view+json": {
       "model_id": "3087b33b6b704a9599dc06d9c5618245",
       "version_major": 2,
       "version_minor": 0
      },
      "text/plain": [
       "          0/? [?op/s]"
      ]
     },
     "metadata": {},
     "output_type": "display_data"
    },
    {
     "name": "stdout",
     "output_type": "stream",
     "text": [
      "{'count(b)': 2155}\n",
      "CPU times: user 283 ms, sys: 16.1 ms, total: 299 ms\n",
      "Wall time: 11.1 s\n"
     ]
    }
   ],
   "source": [
    "%%time\n",
    "query8='''match (b:molecule_dictionary{chembl_id:'CHEMBL941'})<-[:has_molecule]-(l:activities)-[:has_assay]->(r:assays)-[:has_target]->(t:target_dictionary)<-[:has_target]-(c:target_components) return count(b);'''\n",
    "\n",
    "smile8= chembl27_csv_new.query(query8)\n",
    "print(smile8[0])"
   ]
  },
  {
   "cell_type": "markdown",
   "id": "b99e73b3-aad1-4041-b338-3173e399a3f7",
   "metadata": {},
   "source": [
    "## Query9"
   ]
  },
  {
   "cell_type": "code",
   "execution_count": 18,
   "id": "f6bb9125-84d5-4837-b80f-2f03c0a422f0",
   "metadata": {},
   "outputs": [
    {
     "data": {
      "application/vnd.jupyter.widget-view+json": {
       "model_id": "33f5231ace37447598fa330ca543fdd1",
       "version_major": 2,
       "version_minor": 0
      },
      "text/plain": [
       "          0/? [?op/s]"
      ]
     },
     "metadata": {},
     "output_type": "display_data"
    },
    {
     "name": "stdout",
     "output_type": "stream",
     "text": [
      "{'count(b)': 4644}\n",
      "CPU times: user 184 ms, sys: 0 ns, total: 184 ms\n",
      "Wall time: 17.3 s\n"
     ]
    }
   ],
   "source": [
    "%%time\n",
    "query9='''match (b:molecule_dictionary)<-[:has_molecule]-(l:activities)-[:has_assay]->(r:assays)-[:has_target]->(t:target_dictionary{chembl_id_td:\"CHEMBL1827\"}) return count(b);'''\n",
    "#query9='''match (t:target_dictionary) return (t) limit 1;'''\n",
    "smile9= chembl27_csv_new.query(query9)\n",
    "print(smile9[0])"
   ]
  },
  {
   "cell_type": "markdown",
   "id": "a2ffb3ab-cf88-4245-8d3f-26700cf79047",
   "metadata": {},
   "source": [
    "## Query 10"
   ]
  },
  {
   "cell_type": "code",
   "execution_count": 20,
   "id": "d88fb0f8-ee6d-47d0-9f7d-7b376de26da9",
   "metadata": {},
   "outputs": [
    {
     "data": {
      "application/vnd.jupyter.widget-view+json": {
       "model_id": "afddabf4667249eebff435180ae39050",
       "version_major": 2,
       "version_minor": 0
      },
      "text/plain": [
       "          0/? [?op/s]"
      ]
     },
     "metadata": {},
     "output_type": "display_data"
    },
    {
     "name": "stdout",
     "output_type": "stream",
     "text": [
      "{'count(b)': 4444}\n",
      "CPU times: user 265 ms, sys: 0 ns, total: 265 ms\n",
      "Wall time: 20.8 s\n"
     ]
    }
   ],
   "source": [
    "%%time\n",
    "query10 = '''match (f:compound_properties)-[:has_molecule]-(b:molecule_dictionary{oral:1})<-[:has_molecule]-(d:drug_indication{mesh_id:'D006333'}), (b)<-[:has_molecule]-(l:activities)-[:has_assay]->\n",
    "(r:assays)-[:has_target]->(t:target_dictionary)<-[:has_target]-(c:target_components)-[:has_comp_seq]->(o:component_sequences) where l.pchembl_value > 5.0 and f.full_mwt >= 199.0 return count(b);'''\n",
    "smile10  = chembl27_csv_new.query(query10)\n",
    "print(smile10[0])"
   ]
  },
  {
   "cell_type": "markdown",
   "id": "85f6b64a-fb00-420b-8e99-e7eeafa60cbf",
   "metadata": {},
   "source": [
    "## Query 11"
   ]
  },
  {
   "cell_type": "code",
   "execution_count": 45,
   "id": "d266cbd6-3951-480a-91ff-56e5c9ebb911",
   "metadata": {},
   "outputs": [
    {
     "data": {
      "application/vnd.jupyter.widget-view+json": {
       "model_id": "bcd0b07c6b7e44949642772392dbf5dd",
       "version_major": 2,
       "version_minor": 0
      },
      "text/plain": [
       "          0/? [?op/s]"
      ]
     },
     "metadata": {},
     "output_type": "display_data"
    },
    {
     "name": "stdout",
     "output_type": "stream",
     "text": [
      "{'b.molregno': None, 'targets': 4444}\n",
      "CPU times: user 472 ms, sys: 32.7 ms, total: 505 ms\n",
      "Wall time: 14.6 s\n"
     ]
    }
   ],
   "source": [
    "%%time\n",
    "query11 = ''' match (f:compound_properties)-[:has_molecule]-(b:molecule_dictionary{oral:1})-\n",
    "[:has_molecule]-(d:drug_indication{mesh_id:'D006333'}), (b)-[:has_molecule]-(l:activities)-[:has_assay]-\n",
    "(r:assays)-[:has_target]-(t:target_dictionary)-[:has_target]-(c:target_components)-[:has_comp_seq]-(o:component_sequences),\n",
    "(b)-[has_molecule]-(cc:compound_structures) where  l.pchembl_value > 5.0 and f.full_mwt >= 199 return b.molregno,count(t) as targets order by targets DESC limit 10'''\n",
    "\n",
    "smile11  = chembl27_csv_new.query(query11)\n",
    "print(smile11[0])"
   ]
  },
  {
   "cell_type": "markdown",
   "id": "c613df63-dee0-4427-a02f-e438b33a16c6",
   "metadata": {},
   "source": [
    "## Query12"
   ]
  },
  {
   "cell_type": "code",
   "execution_count": 5,
   "id": "f840c763-8f45-4414-949d-fc29d1a2310b",
   "metadata": {},
   "outputs": [
    {
     "data": {
      "application/vnd.jupyter.widget-view+json": {
       "model_id": "b16a7b027dc34aff8c02d281042b2e9b",
       "version_major": 2,
       "version_minor": 0
      },
      "text/plain": [
       "          0/? [?op/s]"
      ]
     },
     "metadata": {},
     "output_type": "display_data"
    },
    {
     "name": "stdout",
     "output_type": "stream",
     "text": [
      "{'cc.canonical_smiles': 'C=C1CC[C@H](O)C/C1=C/C=C1\\\\CCC[C@@]2(C)[C@H]1CC[C@@H]2[C@H](C)/C=C/[C@H](C)C(C)C', 't.chembl_id_td': 'CHEMBL3392921'}\n",
      "CPU times: user 451 ms, sys: 71.4 ms, total: 522 ms\n",
      "Wall time: 30 s\n"
     ]
    }
   ],
   "source": [
    "%%time\n",
    "query12 = '''match (f:compound_properties)-[:has_molecule]-(b:molecule_dictionary{oral:1})-[:has_molecule]-(d:drug_indication{mesh_id:'D006333'}),\n",
    "(b)-[:has_molecule]-(l:activities)-[:has_assay]-(r:assays)-[:has_target]-(t:target_dictionary)-[:has_target]-(c:target_components)-[:has_comp_seq]-(o:component_sequences),\n",
    "(b)-[has_molecule]-(cc:compound_structures) where  l.pchembl_value > 5.0 and f.full_mwt >= 199   \n",
    "with distinct cc order by rdk_tanimoto_similarity(cc.canonical_smiles, 'c1ccccc1') \n",
    "match  (cc)-[:has_molecule]-(b:molecule_dictionary)-[:has_molecule]-(l:activities)-[:has_assay]-(r:assays)-[:has_target]-(t:target_dictionary)  \n",
    "return cc.canonical_smiles, t.chembl_id_td order by cc.molregno_cs;'''\n",
    "smile12  = chembl27_csv_new.query(query12)\n",
    "print(smile12[10])"
   ]
  },
  {
   "cell_type": "markdown",
   "id": "89657779-aaf7-4549-a13e-fa13084915db",
   "metadata": {},
   "source": [
    "## Extracting some SMILES strings"
   ]
  },
  {
   "cell_type": "code",
   "execution_count": 5,
   "id": "1aa12337-2427-463c-babb-57eb0cbe1947",
   "metadata": {},
   "outputs": [
    {
     "data": {
      "application/vnd.jupyter.widget-view+json": {
       "model_id": "3645e1da2b48416fa0b238e6b631ef27",
       "version_major": 2,
       "version_minor": 0
      },
      "text/plain": [
       "          0/? [?op/s]"
      ]
     },
     "metadata": {},
     "output_type": "display_data"
    }
   ],
   "source": [
    "#query13 = '''match (f:compound_properties)-[:has_molecule]-(b:molecule_dictionary{oral:'1'})-[:has_molecule]-(d:drug_indication{mesh_id:'D006333'}), (b)-[:has_molecule]-(l:activities)-[:has_assay]-(r:assays)-[:has_target]-(t:target_dictionary)-[:has_target]-(c:target_components)-[:has_comp_seq]-(o:component_sequences),(b)-[has_molecule]-(cc:compound_structures) where l.pchembl_value > '5' and f.full_mwt >= '199' with distinct cc order by tanimoto_similarity(cc.canonical_smiles, 'c1ccccc1') DESC limit 10'''\n",
    "#with distinct cc order by tanimoto_similarity(cc.canonical_smiles, 'c1ccccc1') DESC limit 10 match (cc)-[:has_molecule]-(b:molecule_dictionary)-[:has_molecule]-(l:activities)-[:has_assay]-(r:assays)-[:has_target]-(t:target_dictionary) return cc.molregno, t.chembl_id order by cc.molregno;\n",
    "\n",
    "\n",
    "#smiles = graph13.query(\"match (b:molecule_dictionary{oral:1})-[has_molecule]-(cc:compound_structures) \\\n",
    "#                      RETURN cc.canonical_smiles limit 5\")\n",
    "#smiles = graph13.query(\"match (cc:compound_structures) RETURN cc.canonical_smiles limit 5\")\n",
    "#smiles = graph13.query(\"match (b:molecule_dictionary) RETURN b limit 1\")\n",
    "query13='''match (a:compound_structures) with a LIMIT 100 return a.canonical_smiles'''\n",
    "smiles = chembl27_csv_new.query(query13)\n"
   ]
  },
  {
   "cell_type": "code",
   "execution_count": 14,
   "id": "5f08b3cd-3e92-4916-9ae2-aaf7e853f07e",
   "metadata": {},
   "outputs": [],
   "source": [
    "from rdkit import Chem\n",
    "from rdkit.Chem.Draw import MolsToGridImage\n",
    "from rdkit.Chem.Draw import IPythonConsole\n",
    "import pandas as pd\n",
    "from rdkit.Chem import rdFMCS\n",
    "from tqdm import tqdm\n",
    "from rdkit.Chem import PandasTools\n",
    "from rdkit.Chem import AllChem\n",
    "from rdkit.Chem import rdDepictor\n",
    "from rdkit.Chem.Fingerprints import FingerprintMols\n",
    "from rdkit import DataStructs\n",
    "rdDepictor.SetPreferCoordGen(True)\n",
    "IPythonConsole.ipython_useSVG = True\n",
    "\n",
    "#df_approved_smiles = pd.DataFrame(l_approved_smiles)\n",
    "#print(df_approved_smiles[\"canonical_smiles\"].head(5))\n",
    "#Chem.MolFromSmiles(smiles[99])"
   ]
  },
  {
   "cell_type": "code",
   "execution_count": 27,
   "id": "aae14827-a8d4-4174-a50a-e2932665367b",
   "metadata": {},
   "outputs": [
    {
     "name": "stdout",
     "output_type": "stream",
     "text": [
      "CCN(CC)C(C)(C)CCCC[C@H]1CC[C@H](N(C)S(=O)(=O)c2ccc(C(F)(F)F)cc2)CC1\n"
     ]
    },
    {
     "data": {
      "image/png": "[encoded data removed]",
      "image/svg+xml": [
       "<?xml version='1.0' encoding='iso-8859-1'?>\n",
       "<svg version='1.1' baseProfile='full'\n",
       "              xmlns='http://www.w3.org/2000/svg'\n",
       "                      xmlns:rdkit='http://www.rdkit.org/xml'\n",
       "                      xmlns:xlink='http://www.w3.org/1999/xlink'\n",
       "                  xml:space='preserve'\n",
       "width='450px' height='150px' viewBox='0 0 450 150'>\n",
       "<!-- END OF HEADER -->\n",
       "<rect style='opacity:1.0;fill:#FFFFFF;stroke:none' width='450.0' height='150.0' x='0.0' y='0.0'> </rect>\n",
       "<path class='bond-0 atom-0 atom-1' d='M 44.1,38.2 L 67.7,51.8' style='fill:none;fill-rule:evenodd;stroke:#000000;stroke-width:2.0px;stroke-linecap:butt;stroke-linejoin:miter;stroke-opacity:1' />\n",
       "<path class='bond-1 atom-1 atom-2' d='M 67.7,51.8 L 67.7,63.0' style='fill:none;fill-rule:evenodd;stroke:#000000;stroke-width:2.0px;stroke-linecap:butt;stroke-linejoin:miter;stroke-opacity:1' />\n",
       "<path class='bond-1 atom-1 atom-2' d='M 67.7,63.0 L 67.7,74.1' style='fill:none;fill-rule:evenodd;stroke:#0000FF;stroke-width:2.0px;stroke-linecap:butt;stroke-linejoin:miter;stroke-opacity:1' />\n",
       "<path class='bond-2 atom-2 atom-3' d='M 63.8,81.4 L 53.9,87.1' style='fill:none;fill-rule:evenodd;stroke:#0000FF;stroke-width:2.0px;stroke-linecap:butt;stroke-linejoin:miter;stroke-opacity:1' />\n",
       "<path class='bond-2 atom-2 atom-3' d='M 53.9,87.1 L 44.1,92.8' style='fill:none;fill-rule:evenodd;stroke:#000000;stroke-width:2.0px;stroke-linecap:butt;stroke-linejoin:miter;stroke-opacity:1' />\n",
       "<path class='bond-4 atom-2 atom-5' d='M 71.7,81.4 L 81.6,87.1' style='fill:none;fill-rule:evenodd;stroke:#0000FF;stroke-width:2.0px;stroke-linecap:butt;stroke-linejoin:miter;stroke-opacity:1' />\n",
       "<path class='bond-4 atom-2 atom-5' d='M 81.6,87.1 L 91.4,92.8' style='fill:none;fill-rule:evenodd;stroke:#000000;stroke-width:2.0px;stroke-linecap:butt;stroke-linejoin:miter;stroke-opacity:1' />\n",
       "<path class='bond-3 atom-3 atom-4' d='M 44.1,92.8 L 20.5,79.2' style='fill:none;fill-rule:evenodd;stroke:#000000;stroke-width:2.0px;stroke-linecap:butt;stroke-linejoin:miter;stroke-opacity:1' />\n",
       "<path class='bond-5 atom-5 atom-6' d='M 91.4,92.8 L 105.1,116.4' style='fill:none;fill-rule:evenodd;stroke:#000000;stroke-width:2.0px;stroke-linecap:butt;stroke-linejoin:miter;stroke-opacity:1' />\n",
       "<path class='bond-6 atom-5 atom-7' d='M 91.4,92.8 L 77.8,116.4' style='fill:none;fill-rule:evenodd;stroke:#000000;stroke-width:2.0px;stroke-linecap:butt;stroke-linejoin:miter;stroke-opacity:1' />\n",
       "<path class='bond-7 atom-5 atom-8' d='M 91.4,92.8 L 115.0,79.1' style='fill:none;fill-rule:evenodd;stroke:#000000;stroke-width:2.0px;stroke-linecap:butt;stroke-linejoin:miter;stroke-opacity:1' />\n",
       "<path class='bond-8 atom-8 atom-9' d='M 115.0,79.1 L 138.7,92.7' style='fill:none;fill-rule:evenodd;stroke:#000000;stroke-width:2.0px;stroke-linecap:butt;stroke-linejoin:miter;stroke-opacity:1' />\n",
       "<path class='bond-9 atom-9 atom-10' d='M 138.7,92.7 L 162.3,79.1' style='fill:none;fill-rule:evenodd;stroke:#000000;stroke-width:2.0px;stroke-linecap:butt;stroke-linejoin:miter;stroke-opacity:1' />\n",
       "<path class='bond-10 atom-10 atom-11' d='M 162.3,79.1 L 186.0,92.7' style='fill:none;fill-rule:evenodd;stroke:#000000;stroke-width:2.0px;stroke-linecap:butt;stroke-linejoin:miter;stroke-opacity:1' />\n",
       "<path class='bond-11 atom-12 atom-11' d='M 203.2,81.6 L 204.2,83.3' style='fill:none;fill-rule:evenodd;stroke:#000000;stroke-width:1.0px;stroke-linecap:butt;stroke-linejoin:miter;stroke-opacity:1' />\n",
       "<path class='bond-11 atom-12 atom-11' d='M 196.8,84.1 L 198.8,87.6' style='fill:none;fill-rule:evenodd;stroke:#000000;stroke-width:1.0px;stroke-linecap:butt;stroke-linejoin:miter;stroke-opacity:1' />\n",
       "<path class='bond-11 atom-12 atom-11' d='M 190.3,86.6 L 193.4,91.9' style='fill:none;fill-rule:evenodd;stroke:#000000;stroke-width:1.0px;stroke-linecap:butt;stroke-linejoin:miter;stroke-opacity:1' />\n",
       "<path class='bond-11 atom-12 atom-11' d='M 183.9,89.2 L 188.0,96.2' style='fill:none;fill-rule:evenodd;stroke:#000000;stroke-width:1.0px;stroke-linecap:butt;stroke-linejoin:miter;stroke-opacity:1' />\n",
       "<path class='bond-12 atom-12 atom-13' d='M 209.6,79.0 L 233.3,92.7' style='fill:none;fill-rule:evenodd;stroke:#000000;stroke-width:2.0px;stroke-linecap:butt;stroke-linejoin:miter;stroke-opacity:1' />\n",
       "<path class='bond-32 atom-32 atom-12' d='M 209.6,51.7 L 209.6,79.0' style='fill:none;fill-rule:evenodd;stroke:#000000;stroke-width:2.0px;stroke-linecap:butt;stroke-linejoin:miter;stroke-opacity:1' />\n",
       "<path class='bond-13 atom-13 atom-14' d='M 233.3,92.7 L 256.9,79.0' style='fill:none;fill-rule:evenodd;stroke:#000000;stroke-width:2.0px;stroke-linecap:butt;stroke-linejoin:miter;stroke-opacity:1' />\n",
       "<path class='bond-14 atom-14 atom-15' d='M 256.9,79.0 L 256.9,51.7' style='fill:none;fill-rule:evenodd;stroke:#000000;stroke-width:2.0px;stroke-linecap:butt;stroke-linejoin:miter;stroke-opacity:1' />\n",
       "<path class='bond-15 atom-15 atom-16' d='M 256.9,51.7 L 267.7,47.8 L 265.7,44.2 Z' style='fill:#000000;fill-rule:evenodd;fill-opacity:1;stroke:#000000;stroke-width:2.0px;stroke-linecap:butt;stroke-linejoin:miter;stroke-opacity:1;' />\n",
       "<path class='bond-15 atom-15 atom-16' d='M 267.7,47.8 L 274.5,36.8 L 278.6,43.9 Z' style='fill:#0000FF;fill-rule:evenodd;fill-opacity:1;stroke:#0000FF;stroke-width:2.0px;stroke-linecap:butt;stroke-linejoin:miter;stroke-opacity:1;' />\n",
       "<path class='bond-15 atom-15 atom-16' d='M 267.7,47.8 L 265.7,44.2 L 274.5,36.8 Z' style='fill:#0000FF;fill-rule:evenodd;fill-opacity:1;stroke:#0000FF;stroke-width:2.0px;stroke-linecap:butt;stroke-linejoin:miter;stroke-opacity:1;' />\n",
       "<path class='bond-30 atom-15 atom-31' d='M 256.9,51.7 L 233.2,38.1' style='fill:none;fill-rule:evenodd;stroke:#000000;stroke-width:2.0px;stroke-linecap:butt;stroke-linejoin:miter;stroke-opacity:1' />\n",
       "<path class='bond-16 atom-16 atom-17' d='M 280.5,33.0 L 280.5,21.8' style='fill:none;fill-rule:evenodd;stroke:#0000FF;stroke-width:2.0px;stroke-linecap:butt;stroke-linejoin:miter;stroke-opacity:1' />\n",
       "<path class='bond-16 atom-16 atom-17' d='M 280.5,21.8 L 280.5,10.7' style='fill:none;fill-rule:evenodd;stroke:#000000;stroke-width:2.0px;stroke-linecap:butt;stroke-linejoin:miter;stroke-opacity:1' />\n",
       "<path class='bond-17 atom-16 atom-18' d='M 284.5,40.3 L 292.7,45.0' style='fill:none;fill-rule:evenodd;stroke:#0000FF;stroke-width:2.0px;stroke-linecap:butt;stroke-linejoin:miter;stroke-opacity:1' />\n",
       "<path class='bond-17 atom-16 atom-18' d='M 292.7,45.0 L 300.8,49.7' style='fill:none;fill-rule:evenodd;stroke:#CCCC00;stroke-width:2.0px;stroke-linecap:butt;stroke-linejoin:miter;stroke-opacity:1' />\n",
       "<path class='bond-18 atom-18 atom-19' d='M 309.2,47.9 L 313.1,41.1' style='fill:none;fill-rule:evenodd;stroke:#CCCC00;stroke-width:2.0px;stroke-linecap:butt;stroke-linejoin:miter;stroke-opacity:1' />\n",
       "<path class='bond-18 atom-18 atom-19' d='M 313.1,41.1 L 317.0,34.3' style='fill:none;fill-rule:evenodd;stroke:#FF0000;stroke-width:2.0px;stroke-linecap:butt;stroke-linejoin:miter;stroke-opacity:1' />\n",
       "<path class='bond-18 atom-18 atom-19' d='M 304.9,45.4 L 308.8,38.6' style='fill:none;fill-rule:evenodd;stroke:#CCCC00;stroke-width:2.0px;stroke-linecap:butt;stroke-linejoin:miter;stroke-opacity:1' />\n",
       "<path class='bond-18 atom-18 atom-19' d='M 308.8,38.6 L 312.7,31.8' style='fill:none;fill-rule:evenodd;stroke:#FF0000;stroke-width:2.0px;stroke-linecap:butt;stroke-linejoin:miter;stroke-opacity:1' />\n",
       "<path class='bond-19 atom-18 atom-20' d='M 299.0,55.7 L 295.1,62.4' style='fill:none;fill-rule:evenodd;stroke:#CCCC00;stroke-width:2.0px;stroke-linecap:butt;stroke-linejoin:miter;stroke-opacity:1' />\n",
       "<path class='bond-19 atom-18 atom-20' d='M 295.1,62.4 L 291.2,69.2' style='fill:none;fill-rule:evenodd;stroke:#FF0000;stroke-width:2.0px;stroke-linecap:butt;stroke-linejoin:miter;stroke-opacity:1' />\n",
       "<path class='bond-19 atom-18 atom-20' d='M 303.3,58.1 L 299.4,64.9' style='fill:none;fill-rule:evenodd;stroke:#CCCC00;stroke-width:2.0px;stroke-linecap:butt;stroke-linejoin:miter;stroke-opacity:1' />\n",
       "<path class='bond-19 atom-18 atom-20' d='M 299.4,64.9 L 295.5,71.6' style='fill:none;fill-rule:evenodd;stroke:#FF0000;stroke-width:2.0px;stroke-linecap:butt;stroke-linejoin:miter;stroke-opacity:1' />\n",
       "<path class='bond-20 atom-18 atom-21' d='M 307.6,53.7 L 317.7,59.5' style='fill:none;fill-rule:evenodd;stroke:#CCCC00;stroke-width:2.0px;stroke-linecap:butt;stroke-linejoin:miter;stroke-opacity:1' />\n",
       "<path class='bond-20 atom-18 atom-21' d='M 317.7,59.5 L 327.8,65.3' style='fill:none;fill-rule:evenodd;stroke:#000000;stroke-width:2.0px;stroke-linecap:butt;stroke-linejoin:miter;stroke-opacity:1' />\n",
       "<path class='bond-21 atom-21 atom-22' d='M 327.8,65.3 L 351.5,51.6' style='fill:none;fill-rule:evenodd;stroke:#000000;stroke-width:2.0px;stroke-linecap:butt;stroke-linejoin:miter;stroke-opacity:1' />\n",
       "<path class='bond-21 atom-21 atom-22' d='M 333.8,67.5 L 350.4,57.9' style='fill:none;fill-rule:evenodd;stroke:#000000;stroke-width:2.0px;stroke-linecap:butt;stroke-linejoin:miter;stroke-opacity:1' />\n",
       "<path class='bond-33 atom-30 atom-21' d='M 327.8,92.6 L 327.8,65.3' style='fill:none;fill-rule:evenodd;stroke:#000000;stroke-width:2.0px;stroke-linecap:butt;stroke-linejoin:miter;stroke-opacity:1' />\n",
       "<path class='bond-22 atom-22 atom-23' d='M 351.5,51.6 L 375.1,65.2' style='fill:none;fill-rule:evenodd;stroke:#000000;stroke-width:2.0px;stroke-linecap:butt;stroke-linejoin:miter;stroke-opacity:1' />\n",
       "<path class='bond-23 atom-23 atom-24' d='M 375.1,65.2 L 375.1,92.6' style='fill:none;fill-rule:evenodd;stroke:#000000;stroke-width:2.0px;stroke-linecap:butt;stroke-linejoin:miter;stroke-opacity:1' />\n",
       "<path class='bond-23 atom-23 atom-24' d='M 370.2,69.3 L 370.2,88.5' style='fill:none;fill-rule:evenodd;stroke:#000000;stroke-width:2.0px;stroke-linecap:butt;stroke-linejoin:miter;stroke-opacity:1' />\n",
       "<path class='bond-24 atom-24 atom-25' d='M 375.1,92.6 L 398.8,106.2' style='fill:none;fill-rule:evenodd;stroke:#000000;stroke-width:2.0px;stroke-linecap:butt;stroke-linejoin:miter;stroke-opacity:1' />\n",
       "<path class='bond-28 atom-24 atom-29' d='M 375.1,92.6 L 351.5,106.2' style='fill:none;fill-rule:evenodd;stroke:#000000;stroke-width:2.0px;stroke-linecap:butt;stroke-linejoin:miter;stroke-opacity:1' />\n",
       "<path class='bond-25 atom-25 atom-26' d='M 398.8,106.2 L 404.2,96.9' style='fill:none;fill-rule:evenodd;stroke:#000000;stroke-width:2.0px;stroke-linecap:butt;stroke-linejoin:miter;stroke-opacity:1' />\n",
       "<path class='bond-25 atom-25 atom-26' d='M 404.2,96.9 L 409.5,87.6' style='fill:none;fill-rule:evenodd;stroke:#33CCCC;stroke-width:2.0px;stroke-linecap:butt;stroke-linejoin:miter;stroke-opacity:1' />\n",
       "<path class='bond-26 atom-25 atom-27' d='M 398.8,106.2 L 410.8,106.2' style='fill:none;fill-rule:evenodd;stroke:#000000;stroke-width:2.0px;stroke-linecap:butt;stroke-linejoin:miter;stroke-opacity:1' />\n",
       "<path class='bond-26 atom-25 atom-27' d='M 410.8,106.2 L 422.8,106.2' style='fill:none;fill-rule:evenodd;stroke:#33CCCC;stroke-width:2.0px;stroke-linecap:butt;stroke-linejoin:miter;stroke-opacity:1' />\n",
       "<path class='bond-27 atom-25 atom-28' d='M 398.8,106.2 L 398.8,117.3' style='fill:none;fill-rule:evenodd;stroke:#000000;stroke-width:2.0px;stroke-linecap:butt;stroke-linejoin:miter;stroke-opacity:1' />\n",
       "<path class='bond-27 atom-25 atom-28' d='M 398.8,117.3 L 398.8,128.5' style='fill:none;fill-rule:evenodd;stroke:#33CCCC;stroke-width:2.0px;stroke-linecap:butt;stroke-linejoin:miter;stroke-opacity:1' />\n",
       "<path class='bond-29 atom-29 atom-30' d='M 351.5,106.2 L 327.8,92.6' style='fill:none;fill-rule:evenodd;stroke:#000000;stroke-width:2.0px;stroke-linecap:butt;stroke-linejoin:miter;stroke-opacity:1' />\n",
       "<path class='bond-29 atom-29 atom-30' d='M 350.4,99.9 L 333.8,90.4' style='fill:none;fill-rule:evenodd;stroke:#000000;stroke-width:2.0px;stroke-linecap:butt;stroke-linejoin:miter;stroke-opacity:1' />\n",
       "<path class='bond-31 atom-31 atom-32' d='M 233.2,38.1 L 209.6,51.7' style='fill:none;fill-rule:evenodd;stroke:#000000;stroke-width:2.0px;stroke-linecap:butt;stroke-linejoin:miter;stroke-opacity:1' />\n",
       "<path  class='atom-2' d='M 65.8 74.8\n",
       "L 68.7 79.4\n",
       "Q 69.0 79.9, 69.4 80.7\n",
       "Q 69.9 81.5, 69.9 81.6\n",
       "L 69.9 74.8\n",
       "L 71.0 74.8\n",
       "L 71.0 83.5\n",
       "L 69.9 83.5\n",
       "L 66.8 78.5\n",
       "Q 66.4 77.9, 66.1 77.2\n",
       "Q 65.7 76.5, 65.6 76.3\n",
       "L 65.6 83.5\n",
       "L 64.4 83.5\n",
       "L 64.4 74.8\n",
       "L 65.8 74.8\n",
       "' fill='#0000FF'/>\n",
       "<path  class='atom-16' d='M 278.6 33.7\n",
       "L 281.4 38.3\n",
       "Q 281.7 38.7, 282.2 39.6\n",
       "Q 282.6 40.4, 282.7 40.4\n",
       "L 282.7 33.7\n",
       "L 283.8 33.7\n",
       "L 283.8 42.4\n",
       "L 282.6 42.4\n",
       "L 279.6 37.3\n",
       "Q 279.2 36.7, 278.8 36.1\n",
       "Q 278.5 35.4, 278.3 35.2\n",
       "L 278.3 42.4\n",
       "L 277.2 42.4\n",
       "L 277.2 33.7\n",
       "L 278.6 33.7\n",
       "' fill='#0000FF'/>\n",
       "<path  class='atom-18' d='M 301.7 54.6\n",
       "Q 301.8 54.7, 302.2 54.8\n",
       "Q 302.6 55.0, 303.1 55.1\n",
       "Q 303.5 55.2, 304.0 55.2\n",
       "Q 304.8 55.2, 305.3 54.8\n",
       "Q 305.7 54.4, 305.7 53.7\n",
       "Q 305.7 53.3, 305.5 53.0\n",
       "Q 305.3 52.7, 304.9 52.5\n",
       "Q 304.5 52.3, 303.9 52.2\n",
       "Q 303.1 51.9, 302.7 51.7\n",
       "Q 302.2 51.5, 301.9 51.0\n",
       "Q 301.6 50.5, 301.6 49.8\n",
       "Q 301.6 48.7, 302.3 48.0\n",
       "Q 303.1 47.3, 304.5 47.3\n",
       "Q 305.5 47.3, 306.7 47.8\n",
       "L 306.4 48.7\n",
       "Q 305.4 48.3, 304.6 48.3\n",
       "Q 303.7 48.3, 303.2 48.7\n",
       "Q 302.8 49.0, 302.8 49.6\n",
       "Q 302.8 50.1, 303.0 50.4\n",
       "Q 303.3 50.6, 303.6 50.8\n",
       "Q 304.0 51.0, 304.6 51.1\n",
       "Q 305.4 51.4, 305.8 51.6\n",
       "Q 306.3 51.9, 306.6 52.4\n",
       "Q 307.0 52.9, 307.0 53.7\n",
       "Q 307.0 54.9, 306.1 55.6\n",
       "Q 305.4 56.2, 304.0 56.2\n",
       "Q 303.2 56.2, 302.6 56.1\n",
       "Q 302.1 55.9, 301.4 55.6\n",
       "L 301.7 54.6\n",
       "' fill='#CCCC00'/>\n",
       "<path  class='atom-19' d='M 313.8 28.0\n",
       "Q 313.8 25.9, 314.8 24.8\n",
       "Q 315.9 23.6, 317.8 23.6\n",
       "Q 319.7 23.6, 320.8 24.8\n",
       "Q 321.8 25.9, 321.8 28.0\n",
       "Q 321.8 30.1, 320.7 31.3\n",
       "Q 319.7 32.5, 317.8 32.5\n",
       "Q 315.9 32.5, 314.8 31.3\n",
       "Q 313.8 30.1, 313.8 28.0\n",
       "M 317.8 31.5\n",
       "Q 319.1 31.5, 319.8 30.7\n",
       "Q 320.6 29.8, 320.6 28.0\n",
       "Q 320.6 26.3, 319.8 25.5\n",
       "Q 319.1 24.6, 317.8 24.6\n",
       "Q 316.5 24.6, 315.7 25.4\n",
       "Q 315.0 26.3, 315.0 28.0\n",
       "Q 315.0 29.8, 315.7 30.7\n",
       "Q 316.5 31.5, 317.8 31.5\n",
       "' fill='#FF0000'/>\n",
       "<path  class='atom-20' d='M 286.5 75.3\n",
       "Q 286.5 73.2, 287.6 72.1\n",
       "Q 288.6 70.9, 290.5 70.9\n",
       "Q 292.5 70.9, 293.5 72.1\n",
       "Q 294.5 73.2, 294.5 75.3\n",
       "Q 294.5 77.4, 293.5 78.7\n",
       "Q 292.4 79.8, 290.5 79.8\n",
       "Q 288.6 79.8, 287.6 78.7\n",
       "Q 286.5 77.5, 286.5 75.3\n",
       "M 290.5 78.9\n",
       "Q 291.9 78.9, 292.6 78.0\n",
       "Q 293.3 77.1, 293.3 75.3\n",
       "Q 293.3 73.6, 292.6 72.8\n",
       "Q 291.9 71.9, 290.5 71.9\n",
       "Q 289.2 71.9, 288.5 72.8\n",
       "Q 287.8 73.6, 287.8 75.3\n",
       "Q 287.8 77.1, 288.5 78.0\n",
       "Q 289.2 78.9, 290.5 78.9\n",
       "' fill='#FF0000'/>\n",
       "<path  class='atom-26' d='M 409.8 78.2\n",
       "L 415.0 78.2\n",
       "L 415.0 79.2\n",
       "L 411.0 79.2\n",
       "L 411.0 81.8\n",
       "L 414.6 81.8\n",
       "L 414.6 82.8\n",
       "L 411.0 82.8\n",
       "L 411.0 86.9\n",
       "L 409.8 86.9\n",
       "L 409.8 78.2\n",
       "' fill='#33CCCC'/>\n",
       "<path  class='atom-27' d='M 423.5 101.8\n",
       "L 428.7 101.8\n",
       "L 428.7 102.8\n",
       "L 424.7 102.8\n",
       "L 424.7 105.4\n",
       "L 428.2 105.4\n",
       "L 428.2 106.5\n",
       "L 424.7 106.5\n",
       "L 424.7 110.5\n",
       "L 423.5 110.5\n",
       "L 423.5 101.8\n",
       "' fill='#33CCCC'/>\n",
       "<path  class='atom-28' d='M 396.2 129.1\n",
       "L 401.4 129.1\n",
       "L 401.4 130.1\n",
       "L 397.4 130.1\n",
       "L 397.4 132.8\n",
       "L 401.0 132.8\n",
       "L 401.0 133.8\n",
       "L 397.4 133.8\n",
       "L 397.4 137.8\n",
       "L 396.2 137.8\n",
       "L 396.2 129.1\n",
       "' fill='#33CCCC'/>\n",
       "</svg>\n"
      ],
      "text/html": [
       "<?xml version='1.0' encoding='iso-8859-1'?>\n",
       "<svg version='1.1' baseProfile='full'\n",
       "              xmlns='http://www.w3.org/2000/svg'\n",
       "                      xmlns:rdkit='http://www.rdkit.org/xml'\n",
       "                      xmlns:xlink='http://www.w3.org/1999/xlink'\n",
       "                  xml:space='preserve'\n",
       "width='450px' height='150px' viewBox='0 0 450 150'>\n",
       "<!-- END OF HEADER -->\n",
       "<rect style='opacity:1.0;fill:#FFFFFF;stroke:none' width='450.0' height='150.0' x='0.0' y='0.0'> </rect>\n",
       "<path class='bond-0 atom-0 atom-1' d='M 44.1,38.2 L 67.7,51.8' style='fill:none;fill-rule:evenodd;stroke:#000000;stroke-width:2.0px;stroke-linecap:butt;stroke-linejoin:miter;stroke-opacity:1' />\n",
       "<path class='bond-1 atom-1 atom-2' d='M 67.7,51.8 L 67.7,63.0' style='fill:none;fill-rule:evenodd;stroke:#000000;stroke-width:2.0px;stroke-linecap:butt;stroke-linejoin:miter;stroke-opacity:1' />\n",
       "<path class='bond-1 atom-1 atom-2' d='M 67.7,63.0 L 67.7,74.1' style='fill:none;fill-rule:evenodd;stroke:#0000FF;stroke-width:2.0px;stroke-linecap:butt;stroke-linejoin:miter;stroke-opacity:1' />\n",
       "<path class='bond-2 atom-2 atom-3' d='M 63.8,81.4 L 53.9,87.1' style='fill:none;fill-rule:evenodd;stroke:#0000FF;stroke-width:2.0px;stroke-linecap:butt;stroke-linejoin:miter;stroke-opacity:1' />\n",
       "<path class='bond-2 atom-2 atom-3' d='M 53.9,87.1 L 44.1,92.8' style='fill:none;fill-rule:evenodd;stroke:#000000;stroke-width:2.0px;stroke-linecap:butt;stroke-linejoin:miter;stroke-opacity:1' />\n",
       "<path class='bond-4 atom-2 atom-5' d='M 71.7,81.4 L 81.6,87.1' style='fill:none;fill-rule:evenodd;stroke:#0000FF;stroke-width:2.0px;stroke-linecap:butt;stroke-linejoin:miter;stroke-opacity:1' />\n",
       "<path class='bond-4 atom-2 atom-5' d='M 81.6,87.1 L 91.4,92.8' style='fill:none;fill-rule:evenodd;stroke:#000000;stroke-width:2.0px;stroke-linecap:butt;stroke-linejoin:miter;stroke-opacity:1' />\n",
       "<path class='bond-3 atom-3 atom-4' d='M 44.1,92.8 L 20.5,79.2' style='fill:none;fill-rule:evenodd;stroke:#000000;stroke-width:2.0px;stroke-linecap:butt;stroke-linejoin:miter;stroke-opacity:1' />\n",
       "<path class='bond-5 atom-5 atom-6' d='M 91.4,92.8 L 105.1,116.4' style='fill:none;fill-rule:evenodd;stroke:#000000;stroke-width:2.0px;stroke-linecap:butt;stroke-linejoin:miter;stroke-opacity:1' />\n",
       "<path class='bond-6 atom-5 atom-7' d='M 91.4,92.8 L 77.8,116.4' style='fill:none;fill-rule:evenodd;stroke:#000000;stroke-width:2.0px;stroke-linecap:butt;stroke-linejoin:miter;stroke-opacity:1' />\n",
       "<path class='bond-7 atom-5 atom-8' d='M 91.4,92.8 L 115.0,79.1' style='fill:none;fill-rule:evenodd;stroke:#000000;stroke-width:2.0px;stroke-linecap:butt;stroke-linejoin:miter;stroke-opacity:1' />\n",
       "<path class='bond-8 atom-8 atom-9' d='M 115.0,79.1 L 138.7,92.7' style='fill:none;fill-rule:evenodd;stroke:#000000;stroke-width:2.0px;stroke-linecap:butt;stroke-linejoin:miter;stroke-opacity:1' />\n",
       "<path class='bond-9 atom-9 atom-10' d='M 138.7,92.7 L 162.3,79.1' style='fill:none;fill-rule:evenodd;stroke:#000000;stroke-width:2.0px;stroke-linecap:butt;stroke-linejoin:miter;stroke-opacity:1' />\n",
       "<path class='bond-10 atom-10 atom-11' d='M 162.3,79.1 L 186.0,92.7' style='fill:none;fill-rule:evenodd;stroke:#000000;stroke-width:2.0px;stroke-linecap:butt;stroke-linejoin:miter;stroke-opacity:1' />\n",
       "<path class='bond-11 atom-12 atom-11' d='M 203.2,81.6 L 204.2,83.3' style='fill:none;fill-rule:evenodd;stroke:#000000;stroke-width:1.0px;stroke-linecap:butt;stroke-linejoin:miter;stroke-opacity:1' />\n",
       "<path class='bond-11 atom-12 atom-11' d='M 196.8,84.1 L 198.8,87.6' style='fill:none;fill-rule:evenodd;stroke:#000000;stroke-width:1.0px;stroke-linecap:butt;stroke-linejoin:miter;stroke-opacity:1' />\n",
       "<path class='bond-11 atom-12 atom-11' d='M 190.3,86.6 L 193.4,91.9' style='fill:none;fill-rule:evenodd;stroke:#000000;stroke-width:1.0px;stroke-linecap:butt;stroke-linejoin:miter;stroke-opacity:1' />\n",
       "<path class='bond-11 atom-12 atom-11' d='M 183.9,89.2 L 188.0,96.2' style='fill:none;fill-rule:evenodd;stroke:#000000;stroke-width:1.0px;stroke-linecap:butt;stroke-linejoin:miter;stroke-opacity:1' />\n",
       "<path class='bond-12 atom-12 atom-13' d='M 209.6,79.0 L 233.3,92.7' style='fill:none;fill-rule:evenodd;stroke:#000000;stroke-width:2.0px;stroke-linecap:butt;stroke-linejoin:miter;stroke-opacity:1' />\n",
       "<path class='bond-32 atom-32 atom-12' d='M 209.6,51.7 L 209.6,79.0' style='fill:none;fill-rule:evenodd;stroke:#000000;stroke-width:2.0px;stroke-linecap:butt;stroke-linejoin:miter;stroke-opacity:1' />\n",
       "<path class='bond-13 atom-13 atom-14' d='M 233.3,92.7 L 256.9,79.0' style='fill:none;fill-rule:evenodd;stroke:#000000;stroke-width:2.0px;stroke-linecap:butt;stroke-linejoin:miter;stroke-opacity:1' />\n",
       "<path class='bond-14 atom-14 atom-15' d='M 256.9,79.0 L 256.9,51.7' style='fill:none;fill-rule:evenodd;stroke:#000000;stroke-width:2.0px;stroke-linecap:butt;stroke-linejoin:miter;stroke-opacity:1' />\n",
       "<path class='bond-15 atom-15 atom-16' d='M 256.9,51.7 L 267.7,47.8 L 265.7,44.2 Z' style='fill:#000000;fill-rule:evenodd;fill-opacity:1;stroke:#000000;stroke-width:2.0px;stroke-linecap:butt;stroke-linejoin:miter;stroke-opacity:1;' />\n",
       "<path class='bond-15 atom-15 atom-16' d='M 267.7,47.8 L 274.5,36.8 L 278.6,43.9 Z' style='fill:#0000FF;fill-rule:evenodd;fill-opacity:1;stroke:#0000FF;stroke-width:2.0px;stroke-linecap:butt;stroke-linejoin:miter;stroke-opacity:1;' />\n",
       "<path class='bond-15 atom-15 atom-16' d='M 267.7,47.8 L 265.7,44.2 L 274.5,36.8 Z' style='fill:#0000FF;fill-rule:evenodd;fill-opacity:1;stroke:#0000FF;stroke-width:2.0px;stroke-linecap:butt;stroke-linejoin:miter;stroke-opacity:1;' />\n",
       "<path class='bond-30 atom-15 atom-31' d='M 256.9,51.7 L 233.2,38.1' style='fill:none;fill-rule:evenodd;stroke:#000000;stroke-width:2.0px;stroke-linecap:butt;stroke-linejoin:miter;stroke-opacity:1' />\n",
       "<path class='bond-16 atom-16 atom-17' d='M 280.5,33.0 L 280.5,21.8' style='fill:none;fill-rule:evenodd;stroke:#0000FF;stroke-width:2.0px;stroke-linecap:butt;stroke-linejoin:miter;stroke-opacity:1' />\n",
       "<path class='bond-16 atom-16 atom-17' d='M 280.5,21.8 L 280.5,10.7' style='fill:none;fill-rule:evenodd;stroke:#000000;stroke-width:2.0px;stroke-linecap:butt;stroke-linejoin:miter;stroke-opacity:1' />\n",
       "<path class='bond-17 atom-16 atom-18' d='M 284.5,40.3 L 292.7,45.0' style='fill:none;fill-rule:evenodd;stroke:#0000FF;stroke-width:2.0px;stroke-linecap:butt;stroke-linejoin:miter;stroke-opacity:1' />\n",
       "<path class='bond-17 atom-16 atom-18' d='M 292.7,45.0 L 300.8,49.7' style='fill:none;fill-rule:evenodd;stroke:#CCCC00;stroke-width:2.0px;stroke-linecap:butt;stroke-linejoin:miter;stroke-opacity:1' />\n",
       "<path class='bond-18 atom-18 atom-19' d='M 309.2,47.9 L 313.1,41.1' style='fill:none;fill-rule:evenodd;stroke:#CCCC00;stroke-width:2.0px;stroke-linecap:butt;stroke-linejoin:miter;stroke-opacity:1' />\n",
       "<path class='bond-18 atom-18 atom-19' d='M 313.1,41.1 L 317.0,34.3' style='fill:none;fill-rule:evenodd;stroke:#FF0000;stroke-width:2.0px;stroke-linecap:butt;stroke-linejoin:miter;stroke-opacity:1' />\n",
       "<path class='bond-18 atom-18 atom-19' d='M 304.9,45.4 L 308.8,38.6' style='fill:none;fill-rule:evenodd;stroke:#CCCC00;stroke-width:2.0px;stroke-linecap:butt;stroke-linejoin:miter;stroke-opacity:1' />\n",
       "<path class='bond-18 atom-18 atom-19' d='M 308.8,38.6 L 312.7,31.8' style='fill:none;fill-rule:evenodd;stroke:#FF0000;stroke-width:2.0px;stroke-linecap:butt;stroke-linejoin:miter;stroke-opacity:1' />\n",
       "<path class='bond-19 atom-18 atom-20' d='M 299.0,55.7 L 295.1,62.4' style='fill:none;fill-rule:evenodd;stroke:#CCCC00;stroke-width:2.0px;stroke-linecap:butt;stroke-linejoin:miter;stroke-opacity:1' />\n",
       "<path class='bond-19 atom-18 atom-20' d='M 295.1,62.4 L 291.2,69.2' style='fill:none;fill-rule:evenodd;stroke:#FF0000;stroke-width:2.0px;stroke-linecap:butt;stroke-linejoin:miter;stroke-opacity:1' />\n",
       "<path class='bond-19 atom-18 atom-20' d='M 303.3,58.1 L 299.4,64.9' style='fill:none;fill-rule:evenodd;stroke:#CCCC00;stroke-width:2.0px;stroke-linecap:butt;stroke-linejoin:miter;stroke-opacity:1' />\n",
       "<path class='bond-19 atom-18 atom-20' d='M 299.4,64.9 L 295.5,71.6' style='fill:none;fill-rule:evenodd;stroke:#FF0000;stroke-width:2.0px;stroke-linecap:butt;stroke-linejoin:miter;stroke-opacity:1' />\n",
       "<path class='bond-20 atom-18 atom-21' d='M 307.6,53.7 L 317.7,59.5' style='fill:none;fill-rule:evenodd;stroke:#CCCC00;stroke-width:2.0px;stroke-linecap:butt;stroke-linejoin:miter;stroke-opacity:1' />\n",
       "<path class='bond-20 atom-18 atom-21' d='M 317.7,59.5 L 327.8,65.3' style='fill:none;fill-rule:evenodd;stroke:#000000;stroke-width:2.0px;stroke-linecap:butt;stroke-linejoin:miter;stroke-opacity:1' />\n",
       "<path class='bond-21 atom-21 atom-22' d='M 327.8,65.3 L 351.5,51.6' style='fill:none;fill-rule:evenodd;stroke:#000000;stroke-width:2.0px;stroke-linecap:butt;stroke-linejoin:miter;stroke-opacity:1' />\n",
       "<path class='bond-21 atom-21 atom-22' d='M 333.8,67.5 L 350.4,57.9' style='fill:none;fill-rule:evenodd;stroke:#000000;stroke-width:2.0px;stroke-linecap:butt;stroke-linejoin:miter;stroke-opacity:1' />\n",
       "<path class='bond-33 atom-30 atom-21' d='M 327.8,92.6 L 327.8,65.3' style='fill:none;fill-rule:evenodd;stroke:#000000;stroke-width:2.0px;stroke-linecap:butt;stroke-linejoin:miter;stroke-opacity:1' />\n",
       "<path class='bond-22 atom-22 atom-23' d='M 351.5,51.6 L 375.1,65.2' style='fill:none;fill-rule:evenodd;stroke:#000000;stroke-width:2.0px;stroke-linecap:butt;stroke-linejoin:miter;stroke-opacity:1' />\n",
       "<path class='bond-23 atom-23 atom-24' d='M 375.1,65.2 L 375.1,92.6' style='fill:none;fill-rule:evenodd;stroke:#000000;stroke-width:2.0px;stroke-linecap:butt;stroke-linejoin:miter;stroke-opacity:1' />\n",
       "<path class='bond-23 atom-23 atom-24' d='M 370.2,69.3 L 370.2,88.5' style='fill:none;fill-rule:evenodd;stroke:#000000;stroke-width:2.0px;stroke-linecap:butt;stroke-linejoin:miter;stroke-opacity:1' />\n",
       "<path class='bond-24 atom-24 atom-25' d='M 375.1,92.6 L 398.8,106.2' style='fill:none;fill-rule:evenodd;stroke:#000000;stroke-width:2.0px;stroke-linecap:butt;stroke-linejoin:miter;stroke-opacity:1' />\n",
       "<path class='bond-28 atom-24 atom-29' d='M 375.1,92.6 L 351.5,106.2' style='fill:none;fill-rule:evenodd;stroke:#000000;stroke-width:2.0px;stroke-linecap:butt;stroke-linejoin:miter;stroke-opacity:1' />\n",
       "<path class='bond-25 atom-25 atom-26' d='M 398.8,106.2 L 404.2,96.9' style='fill:none;fill-rule:evenodd;stroke:#000000;stroke-width:2.0px;stroke-linecap:butt;stroke-linejoin:miter;stroke-opacity:1' />\n",
       "<path class='bond-25 atom-25 atom-26' d='M 404.2,96.9 L 409.5,87.6' style='fill:none;fill-rule:evenodd;stroke:#33CCCC;stroke-width:2.0px;stroke-linecap:butt;stroke-linejoin:miter;stroke-opacity:1' />\n",
       "<path class='bond-26 atom-25 atom-27' d='M 398.8,106.2 L 410.8,106.2' style='fill:none;fill-rule:evenodd;stroke:#000000;stroke-width:2.0px;stroke-linecap:butt;stroke-linejoin:miter;stroke-opacity:1' />\n",
       "<path class='bond-26 atom-25 atom-27' d='M 410.8,106.2 L 422.8,106.2' style='fill:none;fill-rule:evenodd;stroke:#33CCCC;stroke-width:2.0px;stroke-linecap:butt;stroke-linejoin:miter;stroke-opacity:1' />\n",
       "<path class='bond-27 atom-25 atom-28' d='M 398.8,106.2 L 398.8,117.3' style='fill:none;fill-rule:evenodd;stroke:#000000;stroke-width:2.0px;stroke-linecap:butt;stroke-linejoin:miter;stroke-opacity:1' />\n",
       "<path class='bond-27 atom-25 atom-28' d='M 398.8,117.3 L 398.8,128.5' style='fill:none;fill-rule:evenodd;stroke:#33CCCC;stroke-width:2.0px;stroke-linecap:butt;stroke-linejoin:miter;stroke-opacity:1' />\n",
       "<path class='bond-29 atom-29 atom-30' d='M 351.5,106.2 L 327.8,92.6' style='fill:none;fill-rule:evenodd;stroke:#000000;stroke-width:2.0px;stroke-linecap:butt;stroke-linejoin:miter;stroke-opacity:1' />\n",
       "<path class='bond-29 atom-29 atom-30' d='M 350.4,99.9 L 333.8,90.4' style='fill:none;fill-rule:evenodd;stroke:#000000;stroke-width:2.0px;stroke-linecap:butt;stroke-linejoin:miter;stroke-opacity:1' />\n",
       "<path class='bond-31 atom-31 atom-32' d='M 233.2,38.1 L 209.6,51.7' style='fill:none;fill-rule:evenodd;stroke:#000000;stroke-width:2.0px;stroke-linecap:butt;stroke-linejoin:miter;stroke-opacity:1' />\n",
       "<path  class='atom-2' d='M 65.8 74.8\n",
       "L 68.7 79.4\n",
       "Q 69.0 79.9, 69.4 80.7\n",
       "Q 69.9 81.5, 69.9 81.6\n",
       "L 69.9 74.8\n",
       "L 71.0 74.8\n",
       "L 71.0 83.5\n",
       "L 69.9 83.5\n",
       "L 66.8 78.5\n",
       "Q 66.4 77.9, 66.1 77.2\n",
       "Q 65.7 76.5, 65.6 76.3\n",
       "L 65.6 83.5\n",
       "L 64.4 83.5\n",
       "L 64.4 74.8\n",
       "L 65.8 74.8\n",
       "' fill='#0000FF'/>\n",
       "<path  class='atom-16' d='M 278.6 33.7\n",
       "L 281.4 38.3\n",
       "Q 281.7 38.7, 282.2 39.6\n",
       "Q 282.6 40.4, 282.7 40.4\n",
       "L 282.7 33.7\n",
       "L 283.8 33.7\n",
       "L 283.8 42.4\n",
       "L 282.6 42.4\n",
       "L 279.6 37.3\n",
       "Q 279.2 36.7, 278.8 36.1\n",
       "Q 278.5 35.4, 278.3 35.2\n",
       "L 278.3 42.4\n",
       "L 277.2 42.4\n",
       "L 277.2 33.7\n",
       "L 278.6 33.7\n",
       "' fill='#0000FF'/>\n",
       "<path  class='atom-18' d='M 301.7 54.6\n",
       "Q 301.8 54.7, 302.2 54.8\n",
       "Q 302.6 55.0, 303.1 55.1\n",
       "Q 303.5 55.2, 304.0 55.2\n",
       "Q 304.8 55.2, 305.3 54.8\n",
       "Q 305.7 54.4, 305.7 53.7\n",
       "Q 305.7 53.3, 305.5 53.0\n",
       "Q 305.3 52.7, 304.9 52.5\n",
       "Q 304.5 52.3, 303.9 52.2\n",
       "Q 303.1 51.9, 302.7 51.7\n",
       "Q 302.2 51.5, 301.9 51.0\n",
       "Q 301.6 50.5, 301.6 49.8\n",
       "Q 301.6 48.7, 302.3 48.0\n",
       "Q 303.1 47.3, 304.5 47.3\n",
       "Q 305.5 47.3, 306.7 47.8\n",
       "L 306.4 48.7\n",
       "Q 305.4 48.3, 304.6 48.3\n",
       "Q 303.7 48.3, 303.2 48.7\n",
       "Q 302.8 49.0, 302.8 49.6\n",
       "Q 302.8 50.1, 303.0 50.4\n",
       "Q 303.3 50.6, 303.6 50.8\n",
       "Q 304.0 51.0, 304.6 51.1\n",
       "Q 305.4 51.4, 305.8 51.6\n",
       "Q 306.3 51.9, 306.6 52.4\n",
       "Q 307.0 52.9, 307.0 53.7\n",
       "Q 307.0 54.9, 306.1 55.6\n",
       "Q 305.4 56.2, 304.0 56.2\n",
       "Q 303.2 56.2, 302.6 56.1\n",
       "Q 302.1 55.9, 301.4 55.6\n",
       "L 301.7 54.6\n",
       "' fill='#CCCC00'/>\n",
       "<path  class='atom-19' d='M 313.8 28.0\n",
       "Q 313.8 25.9, 314.8 24.8\n",
       "Q 315.9 23.6, 317.8 23.6\n",
       "Q 319.7 23.6, 320.8 24.8\n",
       "Q 321.8 25.9, 321.8 28.0\n",
       "Q 321.8 30.1, 320.7 31.3\n",
       "Q 319.7 32.5, 317.8 32.5\n",
       "Q 315.9 32.5, 314.8 31.3\n",
       "Q 313.8 30.1, 313.8 28.0\n",
       "M 317.8 31.5\n",
       "Q 319.1 31.5, 319.8 30.7\n",
       "Q 320.6 29.8, 320.6 28.0\n",
       "Q 320.6 26.3, 319.8 25.5\n",
       "Q 319.1 24.6, 317.8 24.6\n",
       "Q 316.5 24.6, 315.7 25.4\n",
       "Q 315.0 26.3, 315.0 28.0\n",
       "Q 315.0 29.8, 315.7 30.7\n",
       "Q 316.5 31.5, 317.8 31.5\n",
       "' fill='#FF0000'/>\n",
       "<path  class='atom-20' d='M 286.5 75.3\n",
       "Q 286.5 73.2, 287.6 72.1\n",
       "Q 288.6 70.9, 290.5 70.9\n",
       "Q 292.5 70.9, 293.5 72.1\n",
       "Q 294.5 73.2, 294.5 75.3\n",
       "Q 294.5 77.4, 293.5 78.7\n",
       "Q 292.4 79.8, 290.5 79.8\n",
       "Q 288.6 79.8, 287.6 78.7\n",
       "Q 286.5 77.5, 286.5 75.3\n",
       "M 290.5 78.9\n",
       "Q 291.9 78.9, 292.6 78.0\n",
       "Q 293.3 77.1, 293.3 75.3\n",
       "Q 293.3 73.6, 292.6 72.8\n",
       "Q 291.9 71.9, 290.5 71.9\n",
       "Q 289.2 71.9, 288.5 72.8\n",
       "Q 287.8 73.6, 287.8 75.3\n",
       "Q 287.8 77.1, 288.5 78.0\n",
       "Q 289.2 78.9, 290.5 78.9\n",
       "' fill='#FF0000'/>\n",
       "<path  class='atom-26' d='M 409.8 78.2\n",
       "L 415.0 78.2\n",
       "L 415.0 79.2\n",
       "L 411.0 79.2\n",
       "L 411.0 81.8\n",
       "L 414.6 81.8\n",
       "L 414.6 82.8\n",
       "L 411.0 82.8\n",
       "L 411.0 86.9\n",
       "L 409.8 86.9\n",
       "L 409.8 78.2\n",
       "' fill='#33CCCC'/>\n",
       "<path  class='atom-27' d='M 423.5 101.8\n",
       "L 428.7 101.8\n",
       "L 428.7 102.8\n",
       "L 424.7 102.8\n",
       "L 424.7 105.4\n",
       "L 428.2 105.4\n",
       "L 428.2 106.5\n",
       "L 424.7 106.5\n",
       "L 424.7 110.5\n",
       "L 423.5 110.5\n",
       "L 423.5 101.8\n",
       "' fill='#33CCCC'/>\n",
       "<path  class='atom-28' d='M 396.2 129.1\n",
       "L 401.4 129.1\n",
       "L 401.4 130.1\n",
       "L 397.4 130.1\n",
       "L 397.4 132.8\n",
       "L 401.0 132.8\n",
       "L 401.0 133.8\n",
       "L 397.4 133.8\n",
       "L 397.4 137.8\n",
       "L 396.2 137.8\n",
       "L 396.2 129.1\n",
       "' fill='#33CCCC'/>\n",
       "</svg>\n"
      ],
      "text/plain": [
       "<rdkit.Chem.rdchem.Mol at 0x7fb76fb263a0>"
      ]
     },
     "execution_count": 27,
     "metadata": {},
     "output_type": "execute_result"
    }
   ],
   "source": [
    "l_approved_smiles=[]\n",
    "for item in smiles:\n",
    "   l_approved_smiles.append(item)\n",
    "df_approved_smiles = pd.DataFrame(l_approved_smiles)\n",
    "\n",
    "df_approved_smiles.columns = ['smiles']\n",
    "df_approved_smiles.columns\n",
    "print(df_approved_smiles.iloc[1, 0])\n",
    "Chem.MolFromSmiles(df_approved_smiles.iloc[1, 0])"
   ]
  },
  {
   "cell_type": "markdown",
   "id": "7e34493f-80e7-4f18-80e2-8f34bc1bedc0",
   "metadata": {},
   "source": [
    "# FingerPrints\n",
    "### rdk_fingerprint -- takes a list smiles strings\n",
    "* Ran fingerprints for upto 100000 strings. Client started failing somewhere after 100k strings"
   ]
  },
  {
   "cell_type": "code",
   "execution_count": 5,
   "id": "0970adfb-013a-40c3-90c7-64ef6137d033",
   "metadata": {},
   "outputs": [
    {
     "data": {
      "application/vnd.jupyter.widget-view+json": {
       "model_id": "5abee72c6e52497796a48f439cb0b4a4",
       "version_major": 2,
       "version_minor": 0
      },
      "text/plain": [
       "          0/? [?op/s]"
      ]
     },
     "metadata": {},
     "output_type": "display_data"
    },
    {
     "name": "stdout",
     "output_type": "stream",
     "text": [
      "{'rdk_fingerprint(cc.canonical_smiles)': '11001111110000101100101011011000110000100111010001101010111001001110101111101100110111010010110010010101100001001010001010110010000001011010110000011111110110000101001010100110100110011111101100110110101001001000010110000001010101000101001110011100011110101111001110001000001010001001100000100010111010011011101111010101111100000010111011011110101100010010111100000001110010000000111100001010010110000100000100101111011011100000101001110111110011100100000100010110111000110001100000000010001111010101100000101100110001000110110110010101100110100100110010010110111101101100010010001001001010111000101110110001111010011000101000001111111001110100000111100111100011000110011110000100010111011101011100110001100101100001100100110011001001111000101010011010001110101011111110010010000001100001001010001000001100111010100100101001111011111010011111101001011001110010111101110001010100100100111000001011001101011010111000010100011110011010000001011110001000001110011101010000011001010100011101111001110101000100000000101101001111110011110111111011100010001010000000001110101101100101101001011101110110100001001111011110000010101000000111001011010001010100101100001100100110100110101111011011010011001111100001000100000101101111010111100010011110110111001110010000100101001110101000101000000000111000110101111001011010100001000001100110100101001011111110000011010110110011010000010010001101001000001000000101110001001100000001100101100011111010000011111110001101001011001100000110010000100001010010111111111001000100110100100111000101110000001000110001011010100110000010100000000110100111101001010101100010000001000110100011010010100010110000000111100000101110010000000001000011000101101010101101000110100111111110100100100101000001010110001000100100100011011011010111000110010110100000000110101001010010100000000011111101101100000011111010011110100111110011000011100001010100111011100101010000001101101100001101101101100101010010010111010011000111111110000011111001011011001011000011001001100110101101001100110010010000000011101110000100110100111100010111'}\n"
     ]
    }
   ],
   "source": [
    "#smiles = graph13.query(\"match (a:compound_structures) RETURN rdk_fingerprint(a.canonical_smiles) LIMIT 10\")\n",
    "query13 = '''MATCH (cc:compound_structures) WITH cc LIMIT 100000 RETURN rdk_fingerprint(cc.canonical_smiles)'''\n",
    "#query13 = '''MATCH (cc:compound_structures) LIMIT 1 WITH cc  RETURN morgan_fingerprint(cc.canonical_smiles)'''\n",
    "smiles = chembl27_csv_new.query(query13)\n",
    "print(smiles[0])"
   ]
  },
  {
   "cell_type": "markdown",
   "id": "aa2bdb6d-3edc-428d-9fa8-fb0d20c265e9",
   "metadata": {},
   "source": [
    "# FingerPrints\n",
    "### morgan_fingerprint -- takes a list smiles strings.\n"
   ]
  },
  {
   "cell_type": "code",
   "execution_count": 7,
   "id": "39d68216-5379-44ee-ae79-1dac485332cb",
   "metadata": {},
   "outputs": [
    {
     "data": {
      "application/vnd.jupyter.widget-view+json": {
       "model_id": "48b1d669c0e745b89300c3a577296642",
       "version_major": 2,
       "version_minor": 0
      },
      "text/plain": [
       "          0/? [?op/s]"
      ]
     },
     "metadata": {},
     "output_type": "display_data"
    },
    {
     "name": "stdout",
     "output_type": "stream",
     "text": [
      "{'morgan_fingerprint(cc.canonical_smiles)': '00000000000000000000000000000000000000000000000000000000000000000000000000000000100000000000000000000000000000000000000000000000000000000000000000000000000000000000000000000000000000000000000000000000000000000000000000000010000000000000000000000000000000000000000000000000000000000000000000000000000000000000000000000000000000000000000000000000000000000000000000000000000000000000000000000000000000000000000000000000000000000000000000000000000000000000000000000000000000000000000000000000000000000000000000000000000000000000000000000000000000000000000000000000000000000000000000000000000000000000000000000000001000000000000000000000000000000000000000000000100000000000000000000000000000000000000000000000000000000000000000000000000000000000000000000000000000000000000000000000000000000000000000000000000000010000000000000000000000000000000000000000000000000000000000000000000000000000000000000000000000000000000000000000000000000000000000000000000000000000000000000000000000000000000000000000000000000000000000000000000100000000000000000100000000000000000000000000000000000000000000000000000000000000000000000000000000000000000000000000000000000000000000000000000000000000000000000000000000000000000000000000000000000000000000000000001000000000000000000000010000000000000000000000000000000000000000000000000000000000000000000000000000000000000000000000000000000000000000000000000000000000000000000000000000000000000000000000000000000000000000000000000000000000000000000000000000000000000100000000000000000000000000001000000000000000000000000000000000000000000001000000000000000000000000000000000000000000000000000000000000000000000000000000000000000000000000000000000000000000000000000000000000000000000000000000000000000000000000000000000000000000000000000000000010000000000000000000000000000000000000000000000000000000000000000000000000000000100000000000000000000000000000000000000000000000000000000000000000000000000001000000000000000000000000000000000000000000000000000000000000000000000000000000000000000000000000000000000000000000000000000000'}\n"
     ]
    }
   ],
   "source": [
    "#smiles = graph13.query(\"match (a:compound_structures) RETURN rdk_fingerprint(a.canonical_smiles) LIMIT 10\")\n",
    "#query13 = '''MATCH (cc:compound_structures) WITH cc LIMIT 100 RETURN rdk_fingerprint(cc.canonical_smiles)'''\n",
    "query13_Mfpt = '''Match (cc:compound_structures) WHERE cc.canonical_smiles IS NOT NULL AND cc.canonical_smiles <> 'None' WITH cc LIMIT 10 RETURN morgan_fingerprint(cc.canonical_smiles)'''\n",
    "smiles13_Mfpt = chembl27_csv_new.query(query13_Mfpt)\n",
    "print(smiles13_Mfpt[0])"
   ]
  },
  {
   "cell_type": "markdown",
   "id": "6ef75c1f-0114-4f40-8f6b-900ce8747e2d",
   "metadata": {
    "tags": []
   },
   "source": [
    "# Tanimoto Similarity on smiles string"
   ]
  },
  {
   "cell_type": "code",
   "execution_count": 9,
   "id": "fb7d7230-4738-4a3c-89e2-faa6cb230826",
   "metadata": {},
   "outputs": [
    {
     "data": {
      "application/vnd.jupyter.widget-view+json": {
       "model_id": "a868986331134b5184d9b2d461fbe01b",
       "version_major": 2,
       "version_minor": 0
      },
      "text/plain": [
       "          0/? [?op/s]"
      ]
     },
     "metadata": {},
     "output_type": "display_data"
    },
    {
     "name": "stdout",
     "output_type": "stream",
     "text": [
      "{'a.canonical_smiles': 'CC(C)N'}\n",
      "CPU times: user 539 ms, sys: 71.7 ms, total: 611 ms\n",
      "Wall time: 3min 18s\n"
     ]
    }
   ],
   "source": [
    "%%time\n",
    "#smiles = graph13.query(\"match (cc:compound_structures) RETURN cc.canonical_smiles order by tanimoto_similarity(cc.canonical_smiles, 'c1ccccc1') DESC limit 10\")\n",
    "##query13 = '''MATCH (cc:compound_structures)  return cc.canonical_smiles, rdk_tanimoto_similarity(cc.canonical_smiles, 'c1ccccc1') limit 19'''\n",
    "#query13 = '''MATCH (cc:compound_structures) WITH cc LIMIT 1 return cc.canonical_smiles order by rdk_tanimoto_similarity(cc.canonical_smiles, 'c1ccccc1') DESC limit 1'''\n",
    "#query13='''match (a:compound_structures) with a LIMIT 2 return a.canonical_smiles order by rdk_tanimoto_similarity(a.canonical_smiles, 'CCOC(=O)c1[nH]c2ccccc2c1CNNC(=O)c1ccncc1')'''\n",
    "#query13_TSim='''MATCH(a:compound_structures) WITH distinct a order by rdk_tanimoto_similarity(a.canonical_smiles, 'Cc1ccccc1') return rdk_fingerprint(a.canonical_smiles)'''\n",
    "#query13_TSim='''MATCH(a:compound_structures) with a LIMIT 2 return a.canonical_smiles order by rdk_tanimoto_similarity(a.canonical_smiles, 'Cc1ccccc1') '''\n",
    "#query13_TSim='''MATCH(a:compound_structures) LIMIT 2 with a return rdk_fingerprint(a.canonical_smiles) order by rdk_tanimoto_similarity(a.canonical_smiles, 'Cc1ccccc1')'''\n",
    "query13_TSim= \"\"\"MATCH (a:compound_structures) WHERE a.canonical_smiles <> 'None' and a.canonical_smiles IS NOT NULL RETURN a.canonical_smiles ORDER BY rdk_tanimoto_similarity(a.canonical_smiles, 'c1ccccc1-c2ccccc2') LIMIT 10\"\"\"\n",
    "smiles13_TSim = chembl27_csv_new.query(query13_TSim)\n",
    "print(smiles13_TSim[0])"
   ]
  },
  {
   "cell_type": "markdown",
   "id": "412d552c-f5e9-487d-8bfc-560cd1d94b0a",
   "metadata": {},
   "source": [
    "# SubStructure Similarity"
   ]
  },
  {
   "cell_type": "code",
   "execution_count": 24,
   "id": "04243ee3-d9aa-479b-bb52-e4f586cbbe9b",
   "metadata": {},
   "outputs": [
    {
     "data": {
      "application/vnd.jupyter.widget-view+json": {
       "model_id": "a5b79633c2eb4e5290be9658bef749f4",
       "version_major": 2,
       "version_minor": 0
      },
      "text/plain": [
       "          0/? [?op/s]"
      ]
     },
     "metadata": {},
     "output_type": "display_data"
    },
    {
     "data": {
      "application/vnd.jupyter.widget-view+json": {
       "model_id": "854946dbb36a4868a2507a77325bcdd5",
       "version_major": 2,
       "version_minor": 0
      },
      "text/plain": [
       "          0/? [?op/s]"
      ]
     },
     "metadata": {},
     "output_type": "display_data"
    },
    {
     "name": "stdout",
     "output_type": "stream",
     "text": [
      "{\"rdk_search_substructure_index('c1ccccc1-c2ccccc2')\": []}\n"
     ]
    }
   ],
   "source": [
    "#build_query = '''match (a:compound_structures) WHERE a.canonical_smiles <> 'None' and a.canonical_smiles IS NOT NULL with a   return rdk_get_substruct_matches(a.canonical_smiles,'CCOC(=O)c1[nH]c2ccccc2c1CNNC(=O)c1ccncc1',rdk_fingerprint(a.canonical_smiles,true))'''\n",
    "#search_query = \"return rdk_search_substructure_index('CCOC(=O)c1[nH]c2ccccc2c1CNNC(=O)c1ccncc1')\"\n",
    "#chembl27_csv.query(build_query)\n",
    "#result = chembl27_csv_new.query(search_query)\n",
    "#print(result[0])\n",
    "\n",
    "# First build the index\n",
    "build_query = '''MATCH (a) where a.smiles IS NOT NULL and a.smiles <> \"None\" RETURN rdk_build_substructure_index(a.smiles);'''\n",
    "# Now query it\n",
    "search_query = '''RETURN rdk_search_substructure_index('c1ccccc1-c2ccccc2')'''\n",
    "chembl27_csv_new.query(build_query)\n",
    "result = chembl27_csv_new.query(search_query)\n",
    "print(result[0])"
   ]
  },
  {
   "cell_type": "code",
   "execution_count": 25,
   "id": "98b79ca1-e61e-4815-a7e9-81e03e0e761c",
   "metadata": {},
   "outputs": [
    {
     "data": {
      "application/vnd.jupyter.widget-view+json": {
       "model_id": "a0c4fc123e4e4f79a297828aed992816",
       "version_major": 2,
       "version_minor": 0
      },
      "text/plain": [
       "          0/? [?op/s]"
      ]
     },
     "metadata": {},
     "output_type": "display_data"
    },
    {
     "name": "stdout",
     "output_type": "stream",
     "text": [
      "{'a.smiles': 'O=C(c1cc(-c2cc3c(cc2C(=O)N2Cc4ccccc4C[C@H]2CN2CCOCC2)OCO3)n2c1CCCC2)N(c1ccc(O)cc1)c1ccc(Cl)cc1'}\n"
     ]
    }
   ],
   "source": [
    "build_query = '''MATCH (a) where a.smiles IS NOT NULL and a.smiles <> \"None\" RETURN a.smiles;'''\n",
    "result = chembl27_csv_new.query(build_query)\n",
    "print(result[0])"
   ]
  },
  {
   "cell_type": "markdown",
   "id": "f0776d43-505c-45ae-b13c-84c71c366421",
   "metadata": {},
   "source": [
    "# SubStructure Search\n",
    "### LSH Search -- requires smiles strings and their fingerprints. "
   ]
  },
  {
   "cell_type": "code",
   "execution_count": 28,
   "id": "3de542f2-190c-44c6-8e33-dd46fd735a51",
   "metadata": {},
   "outputs": [
    {
     "data": {
      "application/vnd.jupyter.widget-view+json": {
       "model_id": "bb2e03294db5451ea66c2d7540123890",
       "version_major": 2,
       "version_minor": 0
      },
      "text/plain": [
       "          0/? [?op/s]"
      ]
     },
     "metadata": {},
     "output_type": "display_data"
    },
    {
     "data": {
      "application/vnd.jupyter.widget-view+json": {
       "model_id": "5f31ee3e4c5a497890ae8062f9aab1fc",
       "version_major": 2,
       "version_minor": 0
      },
      "text/plain": [
       "          0/? [?op/s]"
      ]
     },
     "metadata": {},
     "output_type": "display_data"
    },
    {
     "data": {
      "application/vnd.jupyter.widget-view+json": {
       "model_id": "54917215ee3042e590aa4512d130b371",
       "version_major": 2,
       "version_minor": 0
      },
      "text/plain": [
       "          0/? [?op/s]"
      ]
     },
     "metadata": {},
     "output_type": "display_data"
    },
    {
     "name": "stdout",
     "output_type": "stream",
     "text": [
      "{\"rdk_sim_lsh('Cc1ccc2c(Nc3cccc(c3)C(F)(F)F)noc2c1C#Cc1cnc2cccnn12',.8,.1)\": []}\n",
      "CPU times: user 19.6 s, sys: 20.9 s, total: 40.4 s\n",
      "Wall time: 18min 27s\n"
     ]
    }
   ],
   "source": [
    "%%time\n",
    "fingerprint_query = \"MATCH (cc:compound_structures) WHERE cc.canonical_smiles IS NOT NULL AND cc.canonical_smiles <> 'None' WITH cc  RETURN rdk_fingerprint(cc.canonical_smiles)\"\n",
    "build_index_query = \"return rdk_build_lsh(4, 25)\"\n",
    "#lsh_search_query = \"return rdk_sim_lsh('O=C(Oc1ccccc1C(=O)O)C', .8, .00001)\" #Aspirin\n",
    "lsh_search_query = \"return rdk_sim_lsh('Cc1ccc2c(Nc3cccc(c3)C(F)(F)F)noc2c1C#Cc1cnc2cccnn12',.8,.1)\"\n",
    "#lsh_search_query = \"return rdk_sim_lsh('O=C(Oc1ccccc1C(=O)O)C',.8,.00001)\"\n",
    "chembl27_csv_new.query(fingerprint_query)\n",
    "chembl27_csv_new.query(build_index_query)\n",
    "result=chembl27_csv_new.query(lsh_search_query)\n",
    "print(result[0])"
   ]
  },
  {
   "cell_type": "code",
   "execution_count": 29,
   "id": "c5d7de10-d72d-4bf5-8ee9-499ba31f7cfd",
   "metadata": {},
   "outputs": [
    {
     "data": {
      "application/vnd.jupyter.widget-view+json": {
       "model_id": "318eb8f0d20846389e58bfc24170db00",
       "version_major": 2,
       "version_minor": 0
      },
      "text/plain": [
       "          0/? [?op/s]"
      ]
     },
     "metadata": {},
     "output_type": "display_data"
    },
    {
     "name": "stdout",
     "output_type": "stream",
     "text": [
      "{\"rdk_sim_lsh('O=C(Oc1ccccc1C(=O)O)C', .8, .00001)\": ['C=CC(=O)Oc1ccccc1C(=O)OC', 'CC(=O)Oc1ccc(C(=O)O)c(OC(C)=O)c1', 'CC(=O)Oc1ccccc1C(=O)O.NCCCC[C@H](N)C(=O)O', 'CC(=O)Oc1ccccc1C(=O)O.CC(=O)Oc1ccccc1C(=O)O.NC(N)=O', 'CCOc1ccccc1C(=O)O', 'CC(=O)Oc1ccccc1C(=O)O.NCCCCC(N)C(=O)O', 'CCCCC(=O)Oc1ccccc1C(=O)O', 'CC(=O)Oc1ccccc1C(=O)[O-].CC(=O)Oc1ccccc1C(=O)[O-].NC(N)=O.[Ca+2]', 'COC(=O)c1ccccc1OC(C)=O', 'O=C(CBr)Oc1ccccc1C(=O)O', 'CC(=O)Oc1c(C)cccc1C(=O)O', 'O=C(/C=C/C(=O)Oc1ccccc1C(=O)O)Oc1ccccc1C(=O)O', 'O=C(CCC(=O)Oc1ccccc1C(=O)O)Oc1ccccc1C(=O)O', 'CC(=O)Oc1ccccc1C(=O)O']}\n"
     ]
    }
   ],
   "source": [
    "lsh_search_query = \"return rdk_sim_lsh('O=C(Oc1ccccc1C(=O)O)C', .8, .00001)\" #Aspirin\n",
    "result=chembl27_csv_new.query(lsh_search_query)\n",
    "print(result[0])"
   ]
  },
  {
   "cell_type": "code",
   "execution_count": 31,
   "id": "b4d0cc71-23ee-41f8-a954-7210e1b166d1",
   "metadata": {},
   "outputs": [
    {
     "data": {
      "application/vnd.jupyter.widget-view+json": {
       "model_id": "bb1dcc23bef94fe59fa58997a016dea0",
       "version_major": 2,
       "version_minor": 0
      },
      "text/plain": [
       "          0/? [?op/s]"
      ]
     },
     "metadata": {},
     "output_type": "display_data"
    },
    {
     "data": {
      "application/vnd.jupyter.widget-view+json": {
       "model_id": "9885cd36e6e34139a4ca02efe8a91898",
       "version_major": 2,
       "version_minor": 0
      },
      "text/plain": [
       "          0/? [?op/s]"
      ]
     },
     "metadata": {},
     "output_type": "display_data"
    },
    {
     "name": "stdout",
     "output_type": "stream",
     "text": [
      "{\"rdk_search_substructure_index('Cc1ccc2c(Nc3cccc(c3)C(F)(F)F)noc2c1C#Cc1cnc2cccnn12')\": []}\n"
     ]
    }
   ],
   "source": [
    "##Indexed substructure search\n",
    "build_query = \"MATCH (cc:compound_structures) WHERE cc.canonical_smiles IS NOT NULL AND cc.canonical_smiles <> 'None' WITH cc  RETURN rdk_build_substructure_index(cc.canonical_smiles)\"\n",
    "search_query = \"return rdk_search_substructure_index('Cc1ccc2c(Nc3cccc(c3)C(F)(F)F)noc2c1C#Cc1cnc2cccnn12')\" \n",
    "chembl27_csv_new.query(build_query)\n",
    "result = chembl27_csv_new.query(search_query)\n",
    "print(result[0])"
   ]
  },
  {
   "cell_type": "code",
   "execution_count": 35,
   "id": "309a43a9-b5af-45f5-ac76-2b45c82d7b1f",
   "metadata": {},
   "outputs": [
    {
     "data": {
      "application/vnd.jupyter.widget-view+json": {
       "model_id": "2dc68822957f4131b4e101a4b7b314c9",
       "version_major": 2,
       "version_minor": 0
      },
      "text/plain": [
       "          0/? [?op/s]"
      ]
     },
     "metadata": {},
     "output_type": "display_data"
    },
    {
     "ename": "URLError",
     "evalue": "<urlopen error [Errno 111] Connection refused>",
     "output_type": "error",
     "traceback": [
      "\u001b[0;31m---------------------------------------------------------------------------\u001b[0m",
      "\u001b[0;31mConnectionRefusedError\u001b[0m                    Traceback (most recent call last)",
      "\u001b[0;32m/opt/conda/lib/python3.8/urllib/request.py\u001b[0m in \u001b[0;36mdo_open\u001b[0;34m(self, http_class, req, **http_conn_args)\u001b[0m\n\u001b[1;32m   1353\u001b[0m             \u001b[0;32mtry\u001b[0m\u001b[0;34m:\u001b[0m\u001b[0;34m\u001b[0m\u001b[0;34m\u001b[0m\u001b[0m\n\u001b[0;32m-> 1354\u001b[0;31m                 h.request(req.get_method(), req.selector, req.data, headers,\n\u001b[0m\u001b[1;32m   1355\u001b[0m                           encode_chunked=req.has_header('Transfer-encoding'))\n",
      "\u001b[0;32m/opt/conda/lib/python3.8/http/client.py\u001b[0m in \u001b[0;36mrequest\u001b[0;34m(self, method, url, body, headers, encode_chunked)\u001b[0m\n\u001b[1;32m   1254\u001b[0m         \u001b[0;34m\"\"\"Send a complete request to the server.\"\"\"\u001b[0m\u001b[0;34m\u001b[0m\u001b[0;34m\u001b[0m\u001b[0m\n\u001b[0;32m-> 1255\u001b[0;31m         \u001b[0mself\u001b[0m\u001b[0;34m.\u001b[0m\u001b[0m_send_request\u001b[0m\u001b[0;34m(\u001b[0m\u001b[0mmethod\u001b[0m\u001b[0;34m,\u001b[0m \u001b[0murl\u001b[0m\u001b[0;34m,\u001b[0m \u001b[0mbody\u001b[0m\u001b[0;34m,\u001b[0m \u001b[0mheaders\u001b[0m\u001b[0;34m,\u001b[0m \u001b[0mencode_chunked\u001b[0m\u001b[0;34m)\u001b[0m\u001b[0;34m\u001b[0m\u001b[0;34m\u001b[0m\u001b[0m\n\u001b[0m\u001b[1;32m   1256\u001b[0m \u001b[0;34m\u001b[0m\u001b[0m\n",
      "\u001b[0;32m/opt/conda/lib/python3.8/http/client.py\u001b[0m in \u001b[0;36m_send_request\u001b[0;34m(self, method, url, body, headers, encode_chunked)\u001b[0m\n\u001b[1;32m   1300\u001b[0m             \u001b[0mbody\u001b[0m \u001b[0;34m=\u001b[0m \u001b[0m_encode\u001b[0m\u001b[0;34m(\u001b[0m\u001b[0mbody\u001b[0m\u001b[0;34m,\u001b[0m \u001b[0;34m'body'\u001b[0m\u001b[0;34m)\u001b[0m\u001b[0;34m\u001b[0m\u001b[0;34m\u001b[0m\u001b[0m\n\u001b[0;32m-> 1301\u001b[0;31m         \u001b[0mself\u001b[0m\u001b[0;34m.\u001b[0m\u001b[0mendheaders\u001b[0m\u001b[0;34m(\u001b[0m\u001b[0mbody\u001b[0m\u001b[0;34m,\u001b[0m \u001b[0mencode_chunked\u001b[0m\u001b[0;34m=\u001b[0m\u001b[0mencode_chunked\u001b[0m\u001b[0;34m)\u001b[0m\u001b[0;34m\u001b[0m\u001b[0;34m\u001b[0m\u001b[0m\n\u001b[0m\u001b[1;32m   1302\u001b[0m \u001b[0;34m\u001b[0m\u001b[0m\n",
      "\u001b[0;32m/opt/conda/lib/python3.8/http/client.py\u001b[0m in \u001b[0;36mendheaders\u001b[0;34m(self, message_body, encode_chunked)\u001b[0m\n\u001b[1;32m   1249\u001b[0m             \u001b[0;32mraise\u001b[0m \u001b[0mCannotSendHeader\u001b[0m\u001b[0;34m(\u001b[0m\u001b[0;34m)\u001b[0m\u001b[0;34m\u001b[0m\u001b[0;34m\u001b[0m\u001b[0m\n\u001b[0;32m-> 1250\u001b[0;31m         \u001b[0mself\u001b[0m\u001b[0;34m.\u001b[0m\u001b[0m_send_output\u001b[0m\u001b[0;34m(\u001b[0m\u001b[0mmessage_body\u001b[0m\u001b[0;34m,\u001b[0m \u001b[0mencode_chunked\u001b[0m\u001b[0;34m=\u001b[0m\u001b[0mencode_chunked\u001b[0m\u001b[0;34m)\u001b[0m\u001b[0;34m\u001b[0m\u001b[0;34m\u001b[0m\u001b[0m\n\u001b[0m\u001b[1;32m   1251\u001b[0m \u001b[0;34m\u001b[0m\u001b[0m\n",
      "\u001b[0;32m/opt/conda/lib/python3.8/http/client.py\u001b[0m in \u001b[0;36m_send_output\u001b[0;34m(self, message_body, encode_chunked)\u001b[0m\n\u001b[1;32m   1009\u001b[0m         \u001b[0;32mdel\u001b[0m \u001b[0mself\u001b[0m\u001b[0;34m.\u001b[0m\u001b[0m_buffer\u001b[0m\u001b[0;34m[\u001b[0m\u001b[0;34m:\u001b[0m\u001b[0;34m]\u001b[0m\u001b[0;34m\u001b[0m\u001b[0;34m\u001b[0m\u001b[0m\n\u001b[0;32m-> 1010\u001b[0;31m         \u001b[0mself\u001b[0m\u001b[0;34m.\u001b[0m\u001b[0msend\u001b[0m\u001b[0;34m(\u001b[0m\u001b[0mmsg\u001b[0m\u001b[0;34m)\u001b[0m\u001b[0;34m\u001b[0m\u001b[0;34m\u001b[0m\u001b[0m\n\u001b[0m\u001b[1;32m   1011\u001b[0m \u001b[0;34m\u001b[0m\u001b[0m\n",
      "\u001b[0;32m/opt/conda/lib/python3.8/http/client.py\u001b[0m in \u001b[0;36msend\u001b[0;34m(self, data)\u001b[0m\n\u001b[1;32m    949\u001b[0m             \u001b[0;32mif\u001b[0m \u001b[0mself\u001b[0m\u001b[0;34m.\u001b[0m\u001b[0mauto_open\u001b[0m\u001b[0;34m:\u001b[0m\u001b[0;34m\u001b[0m\u001b[0;34m\u001b[0m\u001b[0m\n\u001b[0;32m--> 950\u001b[0;31m                 \u001b[0mself\u001b[0m\u001b[0;34m.\u001b[0m\u001b[0mconnect\u001b[0m\u001b[0;34m(\u001b[0m\u001b[0;34m)\u001b[0m\u001b[0;34m\u001b[0m\u001b[0;34m\u001b[0m\u001b[0m\n\u001b[0m\u001b[1;32m    951\u001b[0m             \u001b[0;32melse\u001b[0m\u001b[0;34m:\u001b[0m\u001b[0;34m\u001b[0m\u001b[0;34m\u001b[0m\u001b[0m\n",
      "\u001b[0;32m/opt/conda/lib/python3.8/http/client.py\u001b[0m in \u001b[0;36mconnect\u001b[0;34m(self)\u001b[0m\n\u001b[1;32m    920\u001b[0m         \u001b[0;34m\"\"\"Connect to the host and port specified in __init__.\"\"\"\u001b[0m\u001b[0;34m\u001b[0m\u001b[0;34m\u001b[0m\u001b[0m\n\u001b[0;32m--> 921\u001b[0;31m         self.sock = self._create_connection(\n\u001b[0m\u001b[1;32m    922\u001b[0m             (self.host,self.port), self.timeout, self.source_address)\n",
      "\u001b[0;32m/opt/conda/lib/python3.8/socket.py\u001b[0m in \u001b[0;36mcreate_connection\u001b[0;34m(address, timeout, source_address)\u001b[0m\n\u001b[1;32m    807\u001b[0m         \u001b[0;32mtry\u001b[0m\u001b[0;34m:\u001b[0m\u001b[0;34m\u001b[0m\u001b[0;34m\u001b[0m\u001b[0m\n\u001b[0;32m--> 808\u001b[0;31m             \u001b[0;32mraise\u001b[0m \u001b[0merr\u001b[0m\u001b[0;34m\u001b[0m\u001b[0;34m\u001b[0m\u001b[0m\n\u001b[0m\u001b[1;32m    809\u001b[0m         \u001b[0;32mfinally\u001b[0m\u001b[0;34m:\u001b[0m\u001b[0;34m\u001b[0m\u001b[0;34m\u001b[0m\u001b[0m\n",
      "\u001b[0;32m/opt/conda/lib/python3.8/socket.py\u001b[0m in \u001b[0;36mcreate_connection\u001b[0;34m(address, timeout, source_address)\u001b[0m\n\u001b[1;32m    795\u001b[0m                 \u001b[0msock\u001b[0m\u001b[0;34m.\u001b[0m\u001b[0mbind\u001b[0m\u001b[0;34m(\u001b[0m\u001b[0msource_address\u001b[0m\u001b[0;34m)\u001b[0m\u001b[0;34m\u001b[0m\u001b[0;34m\u001b[0m\u001b[0m\n\u001b[0;32m--> 796\u001b[0;31m             \u001b[0msock\u001b[0m\u001b[0;34m.\u001b[0m\u001b[0mconnect\u001b[0m\u001b[0;34m(\u001b[0m\u001b[0msa\u001b[0m\u001b[0;34m)\u001b[0m\u001b[0;34m\u001b[0m\u001b[0;34m\u001b[0m\u001b[0m\n\u001b[0m\u001b[1;32m    797\u001b[0m             \u001b[0;31m# Break explicitly a reference cycle\u001b[0m\u001b[0;34m\u001b[0m\u001b[0;34m\u001b[0m\u001b[0;34m\u001b[0m\u001b[0m\n",
      "\u001b[0;31mConnectionRefusedError\u001b[0m: [Errno 111] Connection refused",
      "\nDuring handling of the above exception, another exception occurred:\n",
      "\u001b[0;31mURLError\u001b[0m                                  Traceback (most recent call last)",
      "\u001b[0;32m/tmp/ipykernel_76/2635522319.py\u001b[0m in \u001b[0;36m<module>\u001b[0;34m\u001b[0m\n\u001b[1;32m      1\u001b[0m \u001b[0;31m#query = '''match (a) with a.smiles as b return b,rdk_get_substruct_matches(b, 'Cc1ccc2c(Nc3cccc(c3)C(F)(F)F)noc2c2C#Cc1cnc2cccnn12', rdk_fingerprint(b))'''\u001b[0m\u001b[0;34m\u001b[0m\u001b[0;34m\u001b[0m\u001b[0;34m\u001b[0m\u001b[0m\n\u001b[1;32m      2\u001b[0m \u001b[0mquery\u001b[0m \u001b[0;34m=\u001b[0m  \u001b[0;34m'''match (a:compound_structures) with a.canonical_smiles as b return b,rdk_get_substruct_matches(b,'Cc1ccc2c(Nc3cccc(c3)C(F)(F)F)noc2c2C#Cc1cnc2cccnn12',rdk_fingerprint(b))'''\u001b[0m\u001b[0;34m\u001b[0m\u001b[0;34m\u001b[0m\u001b[0m\n\u001b[0;32m----> 3\u001b[0;31m \u001b[0mresult\u001b[0m \u001b[0;34m=\u001b[0m \u001b[0mchembl27_csv_new\u001b[0m\u001b[0;34m.\u001b[0m\u001b[0mquery\u001b[0m\u001b[0;34m(\u001b[0m\u001b[0mquery\u001b[0m\u001b[0;34m)\u001b[0m\u001b[0;34m\u001b[0m\u001b[0;34m\u001b[0m\u001b[0m\n\u001b[0m\u001b[1;32m      4\u001b[0m \u001b[0mprint\u001b[0m\u001b[0;34m(\u001b[0m\u001b[0mlist\u001b[0m\u001b[0;34m(\u001b[0m\u001b[0mresult\u001b[0m\u001b[0;34m)\u001b[0m\u001b[0;34m)\u001b[0m\u001b[0;34m\u001b[0m\u001b[0;34m\u001b[0m\u001b[0m\n",
      "\u001b[0;32m/opt/conda/lib/python3.8/site-packages/katana_enterprise/async_to_sync.py\u001b[0m in \u001b[0;36mwrapper\u001b[0;34m(self, *args, **kwargs)\u001b[0m\n\u001b[1;32m    193\u001b[0m         \u001b[0;32mdef\u001b[0m \u001b[0mwrapper\u001b[0m\u001b[0;34m(\u001b[0m\u001b[0mself\u001b[0m\u001b[0;34m,\u001b[0m \u001b[0;34m*\u001b[0m\u001b[0margs\u001b[0m\u001b[0;34m,\u001b[0m \u001b[0;34m**\u001b[0m\u001b[0mkwargs\u001b[0m\u001b[0;34m)\u001b[0m\u001b[0;34m:\u001b[0m\u001b[0;34m\u001b[0m\u001b[0;34m\u001b[0m\u001b[0m\n\u001b[1;32m    194\u001b[0m             return registry.async_to_sync(\n\u001b[0;32m--> 195\u001b[0;31m                 underlying_func(\n\u001b[0m\u001b[1;32m    196\u001b[0m                     \u001b[0mself\u001b[0m\u001b[0;34m.\u001b[0m\u001b[0m_async_object\u001b[0m\u001b[0;34m,\u001b[0m\u001b[0;34m\u001b[0m\u001b[0;34m\u001b[0m\u001b[0m\n\u001b[1;32m    197\u001b[0m                     \u001b[0;34m*\u001b[0m\u001b[0;34m(\u001b[0m\u001b[0mregistry\u001b[0m\u001b[0;34m.\u001b[0m\u001b[0msync_to_async\u001b[0m\u001b[0;34m(\u001b[0m\u001b[0ma\u001b[0m\u001b[0;34m)\u001b[0m \u001b[0;32mfor\u001b[0m \u001b[0ma\u001b[0m \u001b[0;32min\u001b[0m \u001b[0margs\u001b[0m\u001b[0;34m)\u001b[0m\u001b[0;34m,\u001b[0m\u001b[0;34m\u001b[0m\u001b[0;34m\u001b[0m\u001b[0m\n",
      "\u001b[0;32m/opt/conda/lib/python3.8/site-packages/katana_enterprise/async_to_sync.py\u001b[0m in \u001b[0;36mwrapper\u001b[0;34m(timeout, *args, **kwargs)\u001b[0m\n\u001b[1;32m    144\u001b[0m                 )\n\u001b[1;32m    145\u001b[0m             )\n\u001b[0;32m--> 146\u001b[0;31m         \u001b[0;32mreturn\u001b[0m \u001b[0mwait_for\u001b[0m\u001b[0;34m(\u001b[0m\u001b[0masync_func\u001b[0m\u001b[0;34m(\u001b[0m\u001b[0;34m*\u001b[0m\u001b[0margs\u001b[0m\u001b[0;34m,\u001b[0m \u001b[0;34m**\u001b[0m\u001b[0mkwargs\u001b[0m\u001b[0;34m)\u001b[0m\u001b[0;34m,\u001b[0m \u001b[0mtimeout\u001b[0m\u001b[0;34m=\u001b[0m\u001b[0mtimeout\u001b[0m\u001b[0;34m)\u001b[0m\u001b[0;34m\u001b[0m\u001b[0;34m\u001b[0m\u001b[0m\n\u001b[0m\u001b[1;32m    147\u001b[0m \u001b[0;34m\u001b[0m\u001b[0m\n\u001b[1;32m    148\u001b[0m     \u001b[0;32mreturn\u001b[0m \u001b[0mwrapper\u001b[0m\u001b[0;34m\u001b[0m\u001b[0;34m\u001b[0m\u001b[0m\n",
      "\u001b[0;32m/opt/conda/lib/python3.8/site-packages/katana_enterprise/async_to_sync.py\u001b[0m in \u001b[0;36mwait_for\u001b[0;34m(coro, timeout)\u001b[0m\n\u001b[1;32m    118\u001b[0m         \u001b[0mtimeout_coro\u001b[0m \u001b[0;34m=\u001b[0m \u001b[0mcoro\u001b[0m\u001b[0;34m\u001b[0m\u001b[0;34m\u001b[0m\u001b[0m\n\u001b[1;32m    119\u001b[0m     \u001b[0mfuture\u001b[0m \u001b[0;34m=\u001b[0m \u001b[0masyncio\u001b[0m\u001b[0;34m.\u001b[0m\u001b[0mrun_coroutine_threadsafe\u001b[0m\u001b[0;34m(\u001b[0m\u001b[0mtimeout_coro\u001b[0m\u001b[0;34m,\u001b[0m \u001b[0mAsyncRunnerThread\u001b[0m\u001b[0;34m.\u001b[0m\u001b[0mget\u001b[0m\u001b[0;34m(\u001b[0m\u001b[0;34m)\u001b[0m\u001b[0;34m.\u001b[0m\u001b[0mloop\u001b[0m\u001b[0;34m)\u001b[0m\u001b[0;34m\u001b[0m\u001b[0;34m\u001b[0m\u001b[0m\n\u001b[0;32m--> 120\u001b[0;31m     \u001b[0;32mreturn\u001b[0m \u001b[0mfuture\u001b[0m\u001b[0;34m.\u001b[0m\u001b[0mresult\u001b[0m\u001b[0;34m(\u001b[0m\u001b[0;34m)\u001b[0m\u001b[0;34m\u001b[0m\u001b[0;34m\u001b[0m\u001b[0m\n\u001b[0m\u001b[1;32m    121\u001b[0m \u001b[0;34m\u001b[0m\u001b[0m\n\u001b[1;32m    122\u001b[0m \u001b[0;34m\u001b[0m\u001b[0m\n",
      "\u001b[0;32m/opt/conda/lib/python3.8/concurrent/futures/_base.py\u001b[0m in \u001b[0;36mresult\u001b[0;34m(self, timeout)\u001b[0m\n\u001b[1;32m    437\u001b[0m                 \u001b[0;32mraise\u001b[0m \u001b[0mCancelledError\u001b[0m\u001b[0;34m(\u001b[0m\u001b[0;34m)\u001b[0m\u001b[0;34m\u001b[0m\u001b[0;34m\u001b[0m\u001b[0m\n\u001b[1;32m    438\u001b[0m             \u001b[0;32melif\u001b[0m \u001b[0mself\u001b[0m\u001b[0;34m.\u001b[0m\u001b[0m_state\u001b[0m \u001b[0;34m==\u001b[0m \u001b[0mFINISHED\u001b[0m\u001b[0;34m:\u001b[0m\u001b[0;34m\u001b[0m\u001b[0;34m\u001b[0m\u001b[0m\n\u001b[0;32m--> 439\u001b[0;31m                 \u001b[0;32mreturn\u001b[0m \u001b[0mself\u001b[0m\u001b[0;34m.\u001b[0m\u001b[0m__get_result\u001b[0m\u001b[0;34m(\u001b[0m\u001b[0;34m)\u001b[0m\u001b[0;34m\u001b[0m\u001b[0;34m\u001b[0m\u001b[0m\n\u001b[0m\u001b[1;32m    440\u001b[0m             \u001b[0;32melse\u001b[0m\u001b[0;34m:\u001b[0m\u001b[0;34m\u001b[0m\u001b[0;34m\u001b[0m\u001b[0m\n\u001b[1;32m    441\u001b[0m                 \u001b[0;32mraise\u001b[0m \u001b[0mTimeoutError\u001b[0m\u001b[0;34m(\u001b[0m\u001b[0;34m)\u001b[0m\u001b[0;34m\u001b[0m\u001b[0;34m\u001b[0m\u001b[0m\n",
      "\u001b[0;32m/opt/conda/lib/python3.8/concurrent/futures/_base.py\u001b[0m in \u001b[0;36m__get_result\u001b[0;34m(self)\u001b[0m\n\u001b[1;32m    386\u001b[0m     \u001b[0;32mdef\u001b[0m \u001b[0m__get_result\u001b[0m\u001b[0;34m(\u001b[0m\u001b[0mself\u001b[0m\u001b[0;34m)\u001b[0m\u001b[0;34m:\u001b[0m\u001b[0;34m\u001b[0m\u001b[0;34m\u001b[0m\u001b[0m\n\u001b[1;32m    387\u001b[0m         \u001b[0;32mif\u001b[0m \u001b[0mself\u001b[0m\u001b[0;34m.\u001b[0m\u001b[0m_exception\u001b[0m\u001b[0;34m:\u001b[0m\u001b[0;34m\u001b[0m\u001b[0;34m\u001b[0m\u001b[0m\n\u001b[0;32m--> 388\u001b[0;31m             \u001b[0;32mraise\u001b[0m \u001b[0mself\u001b[0m\u001b[0;34m.\u001b[0m\u001b[0m_exception\u001b[0m\u001b[0;34m\u001b[0m\u001b[0;34m\u001b[0m\u001b[0m\n\u001b[0m\u001b[1;32m    389\u001b[0m         \u001b[0;32melse\u001b[0m\u001b[0;34m:\u001b[0m\u001b[0;34m\u001b[0m\u001b[0;34m\u001b[0m\u001b[0m\n\u001b[1;32m    390\u001b[0m             \u001b[0;32mreturn\u001b[0m \u001b[0mself\u001b[0m\u001b[0;34m.\u001b[0m\u001b[0m_result\u001b[0m\u001b[0;34m\u001b[0m\u001b[0;34m\u001b[0m\u001b[0m\n",
      "\u001b[0;32m/opt/conda/lib/python3.8/asyncio/tasks.py\u001b[0m in \u001b[0;36mwait_for\u001b[0;34m(fut, timeout, loop)\u001b[0m\n\u001b[1;32m    492\u001b[0m \u001b[0;34m\u001b[0m\u001b[0m\n\u001b[1;32m    493\u001b[0m         \u001b[0;32mif\u001b[0m \u001b[0mfut\u001b[0m\u001b[0;34m.\u001b[0m\u001b[0mdone\u001b[0m\u001b[0;34m(\u001b[0m\u001b[0;34m)\u001b[0m\u001b[0;34m:\u001b[0m\u001b[0;34m\u001b[0m\u001b[0;34m\u001b[0m\u001b[0m\n\u001b[0;32m--> 494\u001b[0;31m             \u001b[0;32mreturn\u001b[0m \u001b[0mfut\u001b[0m\u001b[0;34m.\u001b[0m\u001b[0mresult\u001b[0m\u001b[0;34m(\u001b[0m\u001b[0;34m)\u001b[0m\u001b[0;34m\u001b[0m\u001b[0;34m\u001b[0m\u001b[0m\n\u001b[0m\u001b[1;32m    495\u001b[0m         \u001b[0;32melse\u001b[0m\u001b[0;34m:\u001b[0m\u001b[0;34m\u001b[0m\u001b[0;34m\u001b[0m\u001b[0m\n\u001b[1;32m    496\u001b[0m             \u001b[0mfut\u001b[0m\u001b[0;34m.\u001b[0m\u001b[0mremove_done_callback\u001b[0m\u001b[0;34m(\u001b[0m\u001b[0mcb\u001b[0m\u001b[0;34m)\u001b[0m\u001b[0;34m\u001b[0m\u001b[0;34m\u001b[0m\u001b[0m\n",
      "\u001b[0;32m/opt/conda/lib/python3.8/site-packages/katana_enterprise/remote/aio/graph.py\u001b[0m in \u001b[0;36mquery\u001b[0;34m(self, query, contextualize)\u001b[0m\n\u001b[1;32m    106\u001b[0m         \"\"\"\n\u001b[1;32m    107\u001b[0m \u001b[0;34m\u001b[0m\u001b[0m\n\u001b[0;32m--> 108\u001b[0;31m         \u001b[0mresponse\u001b[0m \u001b[0;34m=\u001b[0m \u001b[0;32mawait\u001b[0m \u001b[0mself\u001b[0m\u001b[0;34m.\u001b[0m\u001b[0m_run_query\u001b[0m\u001b[0;34m(\u001b[0m\u001b[0mquery\u001b[0m\u001b[0;34m)\u001b[0m\u001b[0;34m\u001b[0m\u001b[0;34m\u001b[0m\u001b[0m\n\u001b[0m\u001b[1;32m    109\u001b[0m         \u001b[0mr\u001b[0m \u001b[0;34m=\u001b[0m \u001b[0mResultSet\u001b[0m\u001b[0;34m(\u001b[0m\u001b[0mresponse\u001b[0m\u001b[0;34m,\u001b[0m \u001b[0mquery\u001b[0m\u001b[0;34m)\u001b[0m\u001b[0;34m\u001b[0m\u001b[0;34m\u001b[0m\u001b[0m\n\u001b[1;32m    110\u001b[0m \u001b[0;34m\u001b[0m\u001b[0m\n",
      "\u001b[0;32m/opt/conda/lib/python3.8/site-packages/katana_enterprise/remote/aio/graph.py\u001b[0m in \u001b[0;36m_run_query\u001b[0;34m(self, query)\u001b[0m\n\u001b[1;32m     93\u001b[0m \u001b[0;34m\u001b[0m\u001b[0m\n\u001b[1;32m     94\u001b[0m         \u001b[0mop\u001b[0m \u001b[0;34m=\u001b[0m \u001b[0mself\u001b[0m\u001b[0;34m.\u001b[0m\u001b[0m_client\u001b[0m\u001b[0;34m.\u001b[0m\u001b[0m_run_on_graph\u001b[0m\u001b[0;34m(\u001b[0m\u001b[0mself\u001b[0m\u001b[0;34m,\u001b[0m \u001b[0mdata\u001b[0m\u001b[0;34m)\u001b[0m\u001b[0;34m\u001b[0m\u001b[0;34m\u001b[0m\u001b[0m\n\u001b[0;32m---> 95\u001b[0;31m         \u001b[0mres\u001b[0m \u001b[0;34m=\u001b[0m \u001b[0;32mawait\u001b[0m \u001b[0mself\u001b[0m\u001b[0;34m.\u001b[0m\u001b[0m_client\u001b[0m\u001b[0;34m.\u001b[0m\u001b[0m_wait_op\u001b[0m\u001b[0;34m(\u001b[0m\u001b[0mop\u001b[0m\u001b[0;34m)\u001b[0m\u001b[0;34m\u001b[0m\u001b[0;34m\u001b[0m\u001b[0m\n\u001b[0m\u001b[1;32m     96\u001b[0m \u001b[0;34m\u001b[0m\u001b[0m\n\u001b[1;32m     97\u001b[0m         \u001b[0;32mreturn\u001b[0m \u001b[0mres\u001b[0m\u001b[0;34m\u001b[0m\u001b[0;34m\u001b[0m\u001b[0m\n",
      "\u001b[0;32m/opt/conda/lib/python3.8/site-packages/katana_enterprise/remote/aio/client.py\u001b[0m in \u001b[0;36m_wait_op\u001b[0;34m(self, op)\u001b[0m\n\u001b[1;32m     85\u001b[0m         \u001b[0;32mwith\u001b[0m \u001b[0m_progress_bar\u001b[0m\u001b[0;34m(\u001b[0m\u001b[0;34m)\u001b[0m \u001b[0;32mas\u001b[0m \u001b[0mpbar\u001b[0m\u001b[0;34m:\u001b[0m\u001b[0;34m\u001b[0m\u001b[0;34m\u001b[0m\u001b[0m\n\u001b[1;32m     86\u001b[0m             \u001b[0;32mwhile\u001b[0m \u001b[0;32mTrue\u001b[0m\u001b[0;34m:\u001b[0m\u001b[0;34m\u001b[0m\u001b[0;34m\u001b[0m\u001b[0m\n\u001b[0;32m---> 87\u001b[0;31m                 \u001b[0mop\u001b[0m \u001b[0;34m=\u001b[0m \u001b[0mself\u001b[0m\u001b[0;34m.\u001b[0m\u001b[0m_client\u001b[0m\u001b[0;34m.\u001b[0m\u001b[0mget_operation_status\u001b[0m\u001b[0;34m(\u001b[0m\u001b[0moperation_id\u001b[0m\u001b[0;34m)\u001b[0m\u001b[0;34m\u001b[0m\u001b[0;34m\u001b[0m\u001b[0m\n\u001b[0m\u001b[1;32m     88\u001b[0m                 \u001b[0mstatus\u001b[0m \u001b[0;34m=\u001b[0m \u001b[0mop\u001b[0m\u001b[0;34m[\u001b[0m\u001b[0;34m\"status\"\u001b[0m\u001b[0;34m]\u001b[0m\u001b[0;34m\u001b[0m\u001b[0;34m\u001b[0m\u001b[0m\n\u001b[1;32m     89\u001b[0m \u001b[0;34m\u001b[0m\u001b[0m\n",
      "\u001b[0;32m/opt/conda/lib/python3.8/site-packages/katana_enterprise/client/rest/v2/client.py\u001b[0m in \u001b[0;36mget_operation_status\u001b[0;34m(self, operation_id)\u001b[0m\n\u001b[1;32m    159\u001b[0m \u001b[0;34m\u001b[0m\u001b[0m\n\u001b[1;32m    160\u001b[0m     \u001b[0;32mdef\u001b[0m \u001b[0mget_operation_status\u001b[0m\u001b[0;34m(\u001b[0m\u001b[0mself\u001b[0m\u001b[0;34m,\u001b[0m \u001b[0moperation_id\u001b[0m\u001b[0;34m:\u001b[0m \u001b[0mstr\u001b[0m\u001b[0;34m)\u001b[0m\u001b[0;34m:\u001b[0m\u001b[0;34m\u001b[0m\u001b[0;34m\u001b[0m\u001b[0m\n\u001b[0;32m--> 161\u001b[0;31m         \u001b[0;32mreturn\u001b[0m \u001b[0mself\u001b[0m\u001b[0;34m.\u001b[0m\u001b[0mdo_req\u001b[0m\u001b[0;34m(\u001b[0m\u001b[0;34mf\"operation/{operation_id}/status\"\u001b[0m\u001b[0;34m,\u001b[0m \u001b[0;34m\"GET\"\u001b[0m\u001b[0;34m)\u001b[0m\u001b[0;34m\u001b[0m\u001b[0;34m\u001b[0m\u001b[0m\n\u001b[0m\u001b[1;32m    162\u001b[0m \u001b[0;34m\u001b[0m\u001b[0m\n\u001b[1;32m    163\u001b[0m     \u001b[0;32mdef\u001b[0m \u001b[0mget_operation_progress\u001b[0m\u001b[0;34m(\u001b[0m\u001b[0mself\u001b[0m\u001b[0;34m,\u001b[0m \u001b[0moperation_id\u001b[0m\u001b[0;34m:\u001b[0m \u001b[0mstr\u001b[0m\u001b[0;34m)\u001b[0m\u001b[0;34m:\u001b[0m\u001b[0;34m\u001b[0m\u001b[0;34m\u001b[0m\u001b[0m\n",
      "\u001b[0;32m/opt/conda/lib/python3.8/site-packages/katana_enterprise/client/rest/v2/client.py\u001b[0m in \u001b[0;36mdo_req\u001b[0;34m(self, endpoint, method, data, params)\u001b[0m\n\u001b[1;32m     77\u001b[0m         \u001b[0mreq\u001b[0m \u001b[0;34m=\u001b[0m \u001b[0mrequest\u001b[0m\u001b[0;34m.\u001b[0m\u001b[0mRequest\u001b[0m\u001b[0;34m(\u001b[0m\u001b[0mpath\u001b[0m\u001b[0;34m,\u001b[0m \u001b[0mdata\u001b[0m\u001b[0;34m=\u001b[0m\u001b[0mdata\u001b[0m\u001b[0;34m,\u001b[0m \u001b[0mheaders\u001b[0m\u001b[0;34m=\u001b[0m\u001b[0mheaders\u001b[0m\u001b[0;34m,\u001b[0m \u001b[0mmethod\u001b[0m\u001b[0;34m=\u001b[0m\u001b[0mmethod\u001b[0m\u001b[0;34m)\u001b[0m\u001b[0;34m\u001b[0m\u001b[0;34m\u001b[0m\u001b[0m\n\u001b[1;32m     78\u001b[0m         \u001b[0;32mtry\u001b[0m\u001b[0;34m:\u001b[0m\u001b[0;34m\u001b[0m\u001b[0;34m\u001b[0m\u001b[0m\n\u001b[0;32m---> 79\u001b[0;31m             \u001b[0;32mwith\u001b[0m \u001b[0mrequest\u001b[0m\u001b[0;34m.\u001b[0m\u001b[0murlopen\u001b[0m\u001b[0;34m(\u001b[0m\u001b[0mreq\u001b[0m\u001b[0;34m)\u001b[0m \u001b[0;32mas\u001b[0m \u001b[0mresponse\u001b[0m\u001b[0;34m:\u001b[0m\u001b[0;34m\u001b[0m\u001b[0;34m\u001b[0m\u001b[0m\n\u001b[0m\u001b[1;32m     80\u001b[0m                 \u001b[0;32mtry\u001b[0m\u001b[0;34m:\u001b[0m\u001b[0;34m\u001b[0m\u001b[0;34m\u001b[0m\u001b[0m\n\u001b[1;32m     81\u001b[0m                     \u001b[0;32mreturn\u001b[0m \u001b[0mjson\u001b[0m\u001b[0;34m.\u001b[0m\u001b[0mloads\u001b[0m\u001b[0;34m(\u001b[0m\u001b[0mresponse\u001b[0m\u001b[0;34m.\u001b[0m\u001b[0mread\u001b[0m\u001b[0;34m(\u001b[0m\u001b[0;34m)\u001b[0m\u001b[0;34m.\u001b[0m\u001b[0mdecode\u001b[0m\u001b[0;34m(\u001b[0m\u001b[0;34m\"utf-8\"\u001b[0m\u001b[0;34m)\u001b[0m\u001b[0;34m)\u001b[0m\u001b[0;34m\u001b[0m\u001b[0;34m\u001b[0m\u001b[0m\n",
      "\u001b[0;32m/opt/conda/lib/python3.8/urllib/request.py\u001b[0m in \u001b[0;36murlopen\u001b[0;34m(url, data, timeout, cafile, capath, cadefault, context)\u001b[0m\n\u001b[1;32m    220\u001b[0m     \u001b[0;32melse\u001b[0m\u001b[0;34m:\u001b[0m\u001b[0;34m\u001b[0m\u001b[0;34m\u001b[0m\u001b[0m\n\u001b[1;32m    221\u001b[0m         \u001b[0mopener\u001b[0m \u001b[0;34m=\u001b[0m \u001b[0m_opener\u001b[0m\u001b[0;34m\u001b[0m\u001b[0;34m\u001b[0m\u001b[0m\n\u001b[0;32m--> 222\u001b[0;31m     \u001b[0;32mreturn\u001b[0m \u001b[0mopener\u001b[0m\u001b[0;34m.\u001b[0m\u001b[0mopen\u001b[0m\u001b[0;34m(\u001b[0m\u001b[0murl\u001b[0m\u001b[0;34m,\u001b[0m \u001b[0mdata\u001b[0m\u001b[0;34m,\u001b[0m \u001b[0mtimeout\u001b[0m\u001b[0;34m)\u001b[0m\u001b[0;34m\u001b[0m\u001b[0;34m\u001b[0m\u001b[0m\n\u001b[0m\u001b[1;32m    223\u001b[0m \u001b[0;34m\u001b[0m\u001b[0m\n\u001b[1;32m    224\u001b[0m \u001b[0;32mdef\u001b[0m \u001b[0minstall_opener\u001b[0m\u001b[0;34m(\u001b[0m\u001b[0mopener\u001b[0m\u001b[0;34m)\u001b[0m\u001b[0;34m:\u001b[0m\u001b[0;34m\u001b[0m\u001b[0;34m\u001b[0m\u001b[0m\n",
      "\u001b[0;32m/opt/conda/lib/python3.8/urllib/request.py\u001b[0m in \u001b[0;36mopen\u001b[0;34m(self, fullurl, data, timeout)\u001b[0m\n\u001b[1;32m    523\u001b[0m \u001b[0;34m\u001b[0m\u001b[0m\n\u001b[1;32m    524\u001b[0m         \u001b[0msys\u001b[0m\u001b[0;34m.\u001b[0m\u001b[0maudit\u001b[0m\u001b[0;34m(\u001b[0m\u001b[0;34m'urllib.Request'\u001b[0m\u001b[0;34m,\u001b[0m \u001b[0mreq\u001b[0m\u001b[0;34m.\u001b[0m\u001b[0mfull_url\u001b[0m\u001b[0;34m,\u001b[0m \u001b[0mreq\u001b[0m\u001b[0;34m.\u001b[0m\u001b[0mdata\u001b[0m\u001b[0;34m,\u001b[0m \u001b[0mreq\u001b[0m\u001b[0;34m.\u001b[0m\u001b[0mheaders\u001b[0m\u001b[0;34m,\u001b[0m \u001b[0mreq\u001b[0m\u001b[0;34m.\u001b[0m\u001b[0mget_method\u001b[0m\u001b[0;34m(\u001b[0m\u001b[0;34m)\u001b[0m\u001b[0;34m)\u001b[0m\u001b[0;34m\u001b[0m\u001b[0;34m\u001b[0m\u001b[0m\n\u001b[0;32m--> 525\u001b[0;31m         \u001b[0mresponse\u001b[0m \u001b[0;34m=\u001b[0m \u001b[0mself\u001b[0m\u001b[0;34m.\u001b[0m\u001b[0m_open\u001b[0m\u001b[0;34m(\u001b[0m\u001b[0mreq\u001b[0m\u001b[0;34m,\u001b[0m \u001b[0mdata\u001b[0m\u001b[0;34m)\u001b[0m\u001b[0;34m\u001b[0m\u001b[0;34m\u001b[0m\u001b[0m\n\u001b[0m\u001b[1;32m    526\u001b[0m \u001b[0;34m\u001b[0m\u001b[0m\n\u001b[1;32m    527\u001b[0m         \u001b[0;31m# post-process response\u001b[0m\u001b[0;34m\u001b[0m\u001b[0;34m\u001b[0m\u001b[0;34m\u001b[0m\u001b[0m\n",
      "\u001b[0;32m/opt/conda/lib/python3.8/urllib/request.py\u001b[0m in \u001b[0;36m_open\u001b[0;34m(self, req, data)\u001b[0m\n\u001b[1;32m    540\u001b[0m \u001b[0;34m\u001b[0m\u001b[0m\n\u001b[1;32m    541\u001b[0m         \u001b[0mprotocol\u001b[0m \u001b[0;34m=\u001b[0m \u001b[0mreq\u001b[0m\u001b[0;34m.\u001b[0m\u001b[0mtype\u001b[0m\u001b[0;34m\u001b[0m\u001b[0;34m\u001b[0m\u001b[0m\n\u001b[0;32m--> 542\u001b[0;31m         result = self._call_chain(self.handle_open, protocol, protocol +\n\u001b[0m\u001b[1;32m    543\u001b[0m                                   '_open', req)\n\u001b[1;32m    544\u001b[0m         \u001b[0;32mif\u001b[0m \u001b[0mresult\u001b[0m\u001b[0;34m:\u001b[0m\u001b[0;34m\u001b[0m\u001b[0;34m\u001b[0m\u001b[0m\n",
      "\u001b[0;32m/opt/conda/lib/python3.8/urllib/request.py\u001b[0m in \u001b[0;36m_call_chain\u001b[0;34m(self, chain, kind, meth_name, *args)\u001b[0m\n\u001b[1;32m    500\u001b[0m         \u001b[0;32mfor\u001b[0m \u001b[0mhandler\u001b[0m \u001b[0;32min\u001b[0m \u001b[0mhandlers\u001b[0m\u001b[0;34m:\u001b[0m\u001b[0;34m\u001b[0m\u001b[0;34m\u001b[0m\u001b[0m\n\u001b[1;32m    501\u001b[0m             \u001b[0mfunc\u001b[0m \u001b[0;34m=\u001b[0m \u001b[0mgetattr\u001b[0m\u001b[0;34m(\u001b[0m\u001b[0mhandler\u001b[0m\u001b[0;34m,\u001b[0m \u001b[0mmeth_name\u001b[0m\u001b[0;34m)\u001b[0m\u001b[0;34m\u001b[0m\u001b[0;34m\u001b[0m\u001b[0m\n\u001b[0;32m--> 502\u001b[0;31m             \u001b[0mresult\u001b[0m \u001b[0;34m=\u001b[0m \u001b[0mfunc\u001b[0m\u001b[0;34m(\u001b[0m\u001b[0;34m*\u001b[0m\u001b[0margs\u001b[0m\u001b[0;34m)\u001b[0m\u001b[0;34m\u001b[0m\u001b[0;34m\u001b[0m\u001b[0m\n\u001b[0m\u001b[1;32m    503\u001b[0m             \u001b[0;32mif\u001b[0m \u001b[0mresult\u001b[0m \u001b[0;32mis\u001b[0m \u001b[0;32mnot\u001b[0m \u001b[0;32mNone\u001b[0m\u001b[0;34m:\u001b[0m\u001b[0;34m\u001b[0m\u001b[0;34m\u001b[0m\u001b[0m\n\u001b[1;32m    504\u001b[0m                 \u001b[0;32mreturn\u001b[0m \u001b[0mresult\u001b[0m\u001b[0;34m\u001b[0m\u001b[0;34m\u001b[0m\u001b[0m\n",
      "\u001b[0;32m/opt/conda/lib/python3.8/urllib/request.py\u001b[0m in \u001b[0;36mhttp_open\u001b[0;34m(self, req)\u001b[0m\n\u001b[1;32m   1381\u001b[0m \u001b[0;34m\u001b[0m\u001b[0m\n\u001b[1;32m   1382\u001b[0m     \u001b[0;32mdef\u001b[0m \u001b[0mhttp_open\u001b[0m\u001b[0;34m(\u001b[0m\u001b[0mself\u001b[0m\u001b[0;34m,\u001b[0m \u001b[0mreq\u001b[0m\u001b[0;34m)\u001b[0m\u001b[0;34m:\u001b[0m\u001b[0;34m\u001b[0m\u001b[0;34m\u001b[0m\u001b[0m\n\u001b[0;32m-> 1383\u001b[0;31m         \u001b[0;32mreturn\u001b[0m \u001b[0mself\u001b[0m\u001b[0;34m.\u001b[0m\u001b[0mdo_open\u001b[0m\u001b[0;34m(\u001b[0m\u001b[0mhttp\u001b[0m\u001b[0;34m.\u001b[0m\u001b[0mclient\u001b[0m\u001b[0;34m.\u001b[0m\u001b[0mHTTPConnection\u001b[0m\u001b[0;34m,\u001b[0m \u001b[0mreq\u001b[0m\u001b[0;34m)\u001b[0m\u001b[0;34m\u001b[0m\u001b[0;34m\u001b[0m\u001b[0m\n\u001b[0m\u001b[1;32m   1384\u001b[0m \u001b[0;34m\u001b[0m\u001b[0m\n\u001b[1;32m   1385\u001b[0m     \u001b[0mhttp_request\u001b[0m \u001b[0;34m=\u001b[0m \u001b[0mAbstractHTTPHandler\u001b[0m\u001b[0;34m.\u001b[0m\u001b[0mdo_request_\u001b[0m\u001b[0;34m\u001b[0m\u001b[0;34m\u001b[0m\u001b[0m\n",
      "\u001b[0;32m/opt/conda/lib/python3.8/urllib/request.py\u001b[0m in \u001b[0;36mdo_open\u001b[0;34m(self, http_class, req, **http_conn_args)\u001b[0m\n\u001b[1;32m   1355\u001b[0m                           encode_chunked=req.has_header('Transfer-encoding'))\n\u001b[1;32m   1356\u001b[0m             \u001b[0;32mexcept\u001b[0m \u001b[0mOSError\u001b[0m \u001b[0;32mas\u001b[0m \u001b[0merr\u001b[0m\u001b[0;34m:\u001b[0m \u001b[0;31m# timeout error\u001b[0m\u001b[0;34m\u001b[0m\u001b[0;34m\u001b[0m\u001b[0m\n\u001b[0;32m-> 1357\u001b[0;31m                 \u001b[0;32mraise\u001b[0m \u001b[0mURLError\u001b[0m\u001b[0;34m(\u001b[0m\u001b[0merr\u001b[0m\u001b[0;34m)\u001b[0m\u001b[0;34m\u001b[0m\u001b[0;34m\u001b[0m\u001b[0m\n\u001b[0m\u001b[1;32m   1358\u001b[0m             \u001b[0mr\u001b[0m \u001b[0;34m=\u001b[0m \u001b[0mh\u001b[0m\u001b[0;34m.\u001b[0m\u001b[0mgetresponse\u001b[0m\u001b[0;34m(\u001b[0m\u001b[0;34m)\u001b[0m\u001b[0;34m\u001b[0m\u001b[0;34m\u001b[0m\u001b[0m\n\u001b[1;32m   1359\u001b[0m         \u001b[0;32mexcept\u001b[0m\u001b[0;34m:\u001b[0m\u001b[0;34m\u001b[0m\u001b[0;34m\u001b[0m\u001b[0m\n",
      "\u001b[0;31mURLError\u001b[0m: <urlopen error [Errno 111] Connection refused>"
     ]
    }
   ],
   "source": [
    "#query = '''match (a) with a.smiles as b return b,rdk_get_substruct_matches(b, 'Cc1ccc2c(Nc3cccc(c3)C(F)(F)F)noc2c2C#Cc1cnc2cccnn12', rdk_fingerprint(b))'''\n",
    "query =  '''match (a:compound_structures) with a.canonical_smiles as b return b,rdk_get_substruct_matches(b,'Cc1ccc2c(Nc3cccc(c3)C(F)(F)F)noc2c2C#Cc1cnc2cccnn12',rdk_fingerprint(b))'''\n",
    "result = chembl27_csv_new.query(query)\n",
    "print(list(result))"
   ]
  },
  {
   "cell_type": "code",
   "execution_count": 34,
   "id": "4b493ea4-0126-4593-9748-e426e0039d41",
   "metadata": {},
   "outputs": [
    {
     "data": {
      "application/vnd.jupyter.widget-view+json": {
       "model_id": "ca4ff41a4d2a4ade93524d7a0eee688d",
       "version_major": 2,
       "version_minor": 0
      },
      "text/plain": [
       "          0/? [?op/s]"
      ]
     },
     "metadata": {},
     "output_type": "display_data"
    },
    {
     "data": {
      "text/html": [
       "<div>\n",
       "<style scoped>\n",
       "    .dataframe tbody tr th:only-of-type {\n",
       "        vertical-align: middle;\n",
       "    }\n",
       "\n",
       "    .dataframe tbody tr th {\n",
       "        vertical-align: top;\n",
       "    }\n",
       "\n",
       "    .dataframe thead th {\n",
       "        text-align: right;\n",
       "    }\n",
       "</style>\n",
       "<table border=\"1\" class=\"dataframe\">\n",
       "  <thead>\n",
       "    <tr style=\"text-align: right;\">\n",
       "      <th></th>\n",
       "      <th>ChEMBL_ID</th>\n",
       "      <th>SMILES</th>\n",
       "      <th>fp</th>\n",
       "      <th>tan_sim</th>\n",
       "      <th>Mol</th>\n",
       "    </tr>\n",
       "  </thead>\n",
       "  <tbody>\n",
       "    <tr>\n",
       "      <th>0</th>\n",
       "      <td>CHEMBL2105708</td>\n",
       "      <td>Cc1ccc(C(=O)Nc2ccc(CN3CCN(C)CC3)c(C(F)(F)F)c2)...</td>\n",
       "      <td>1100111011110111100110100011110110100101011010...</td>\n",
       "      <td>0.606250</td>\n",
       "      <td><img data-content=\"rdkit/molecule\" src=\"data:image/png;base64,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\" alt=\"Mol\"/></td>\n",
       "    </tr>\n",
       "    <tr>\n",
       "      <th>1</th>\n",
       "      <td>CHEMBL1171837</td>\n",
       "      <td>Cc1ccc(C(=O)Nc2ccc(CN3CCN(C)CC3)c(C(F)(F)F)c2)...</td>\n",
       "      <td>1100111011110111100110100011110110100101011010...</td>\n",
       "      <td>0.606250</td>\n",
       "      <td><img data-content=\"rdkit/molecule\" src=\"data:image/png;base64,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\" alt=\"Mol\"/></td>\n",
       "    </tr>\n",
       "    <tr>\n",
       "      <th>2</th>\n",
       "      <td>CHEMBL501867</td>\n",
       "      <td>CC[C@]1(O)C[C@H]2CN(CCc3c([nH]c4ccccc34)[C@@](...</td>\n",
       "      <td>1111111111111111111111111111011111111111111111...</td>\n",
       "      <td>0.584080</td>\n",
       "      <td><img data-content=\"rdkit/molecule\" src=\"data:image/png;base64,iVBORw0KGgoAAAANSUhEUgAAAMgAAADICAIAAAAiOjnJAAAABmJLR0QA/wD/AP+gvaeTAAAgAElEQVR4nO2dZ1hUV/f27wMzdAUsFANYsIMtqKioYNeIJVE0FpLYiI8FjTFBo4b8H01eYlCxi8ZCIvZKUBPRx4KiUSJ2RRSighQLTWCGKev9sGFA6nRQz+/iw5k5ux3mvvbeZ++11uaICDw82sagphvA827CC4tHJ/DC4tEJvLB4dAIvLB6dwAuLRyfwwuLRCbyweHSCoKYbwFOKdetw/Dg4Di1b4scfYWZW0w1SH77HqjUcOYLoaERE4NgxODjg++9rukEawfFbOrWFL77A1Kno2RMAJBK4uiI+vqbbpD58j1VryMpC3bpF10IhCgtrtDWawgur1tCmDa5fL7pOTISDQ422RlP4yXutYfZsDB8OAJaWWLkSP/xQw+3RDH6OVZt49QqRkcjJgakpcnMxZw44rqbbpCb8UFib2LgR06ZBLMaiRfjqK6Sk1HSD1IcXVm3C0hKFhXjwAK1aAeDfCnm0hEJPvLB4tIlCTy1bFl28tfDCqk04OsLcHGlpbK1BlpRU0w1SH365oTbBcf+MGHHn6dOmxsbTGzTIv3Xr7VUW32PVLn6RyT6Pjk7MyUnIzn7y5ElBQUFNt0hNeGHVLlq2bAng4cOHzZo1k8vlDx8+rOkWqQkvrNpFq1atAMTHxysuarpFasILq3bB9HT//n0HBwfwwuLRFq1atbK2tn706FFsbKyJicm1a9cuXLhQ041SB15YtYsTJ06IxeL8/PykpCSRSHTo0KFevXp16tRp7dq1r169qunWqQLx1A7kcnlQUJCBgQGACRMmFBQU3L17NyAgwMbGhv1SxsbGPj4+ERERUqm0phtbPbywage5uTe//NLIyEggEISEhJS+IxaLIyIifHx8BIKiRccPPvggICAgMTGxphqrDLywagFJSdS+PQFhAwf+9ddflaVKSUkJCgpydnZm8jIwMOjfv39YWFh+fr4+G6skvLBqmosXydaWAGrenO7erTa5TCaLjo728/MzK/bhuXTpkh6aqSq8oV9NIBJBIIBAgHPnMHAgCgsxeDB274aVlfJlZGZmhoeHnz9/ft++fbprqdrwwtIv6emYPBmmpnj9Go6OWL0aQ4agdWusXw/BO7VvywtLv3zxBUaOxMiRALBgAZycMGUKjI1rulnah1/H0i8XLxZ5TADw8cHZs9WoSi7Hv/8iJ0cPTdMu71T3+xYgl5f4RwiFkEiqShwbi1mz0KULEhPh5IQNG94i3wq+x1IBiUTi7e195MgR9YtwccHVq0XXZ8+iS5eqEs+YgV27sHYtjh2DWIyICPXr1T81/Fb6VrF161b2T+vdu/eVK1fUKeLWLerQgaZNo+HDqUULOny40pR5edSuXcnHffsoIECdGmsIXlgqIJFIQkNDbW1tAXAc5+Pj8+jRI9WK+O03Akr+DAzo9OmKU+bnU9u2JR/37qUFC9Rvut7hhaUyubm5gYGBpqamAIyMjPz9/TMzM5XN3KDBG8ICaNeuShN37UoK4U6aRBERmjZdj/DCUpOnT5/6+fmxPeN69eoFBQWJxeLqs02aVFZYUVGVJr5yhdzdac4cGjGCpk8nkYj+7//o/n0tPoXu4IWlEbGxsV5eXmzi1bJly3379lWT4fjxssL655+q0kulFB9Pr17Rgwf03XcEkKcnyeVafAQdwQtLC0RFRbm6ujJ5devW7eLFi5UmzcsjY+M3hPXkSfUVzJ9PBgZ04ADbVZRv2aJUs8RiWr2apk6l//s/evFC2YfRErywtENhYeHatWutrKwAWFhYLFu2bNOmTRUn9fJ6Q1h5edWXHhREADVuTDt2PO7Vq2vTpsnJydXn+uQTWruWnj2jo0epUycSiVR7JM3g17G0g1AonDVr1vr16zt37tyzZ8/c3Nzs7OyKkw4cqLgkAwOlAo1+/TU6dZJKpYefPp1tbX0lKWnu3LmVJs7ORnw87t1DaipmzYK9PYYPR48e+PNPVR9KE/i9Qn2Tev683NPzAwDA19bWK5QzOM6Oi2vr5ZWelxcRETFmzBixWBwUFCQQCNLT09PS0n4wMnK6dg1paXj+HCIRACxbhtu3sXt3Uf4VK2BsjFmzdPNMFaHP7pGHiGQyWRNr68aACdChQwflM86bNw+Ak5NTt27dyvyIt3v3LhlbLSyoRQvasIE8PEoyz55d1WKsDuB7rBrAx8fnwIEDAPr163fq1Cklc+Xn57u5uT169Egul3fp0qVJkyY2NjYNGza0t7fv4+DQzNIS9vawsYGpaVGGoUMxbhzGjMGVK5g1C5culdzSPfwmtJbZsmVLbGwsgAULFjRt2rTCNAMGDGDCql+/vvIlm5mZ9erV6/79+2PGjNm7d2/1GfbvR3Awxo5FkyY4fhzZ2XjwAB06KF+jJvDC0jINGzZ0c3MDYFb5rHxg8fy9QYMGypeckJCwY8cOQ0PDH5QMT2pmVhIsPiEBXl4wNMQ//6BhQ+UrVR99jrvvAHItLU46OTkBmDNnjvJZxowZA8DPz0+d+iQS6tWLAOrbl/TiPcYLSynkcnlYWNjAgQO7d+8eEBCgwuZgOTIzMwMCAgQCQYMGDYyNjQMDA5Vxs7l+/bqBgYGJickTZRZUKyQ1leztCaDFi9UsQRV4YVXPgwcPPD09WQfPcRyAevXq/fzzz6r6XUkkkg0bNrDhz9DQsE2bNqzMJk2a7N+/v+q8bPT89ttvNXgOojNnSCB4Xr/+xT//1KgcJeCFVRUSiSQkJMTc3ByAra1tWFjYlStX+vXrxwTxwQcfhISElN97Hjdu3Pr168t8efr06fbt27OMffr0uX79OhGdPXu2Q/Fs2tPTk31ZnnPnzgGwsrJ6ofHOTPLatU6NGrHwEBoWVTW8sCrlxo0bXYotPH18fPbv3//vv/+yW1FRUZ07d1b0N6GhoTKZTJHx/Pnz90vZICQkJPj4+LDETk5OYWFhpWuRyWRhYWHMj97AwMDX1zc9Pb1MS7p37w7gp59+0vyh5HL5qFGjALRv3z5Pmd0kdeGFVQEFBQWBgYFGRkZMNwcPHvTz8+M4rm/fvqUn71FRUe3atWOKcXV1LW/a8Pr168DAQGNjYwDm5uaBgYEFBQUV1sgmXqxGKyur0kY4Bw8eBGBvb//69WutPF1OTk7r1q0BTJw4USsFVggvrLJcvHiRzX44jvPz8/v999/t7OwAmJqaBgUFle6ZiEgmk+3bt0+xXtWjR49z585RcT/EbE1ZP5Samlpt1fHx8UOHDmVFtWzZ8tixY1KptG3btgA2bNhQVGNmJv39N4WF0cKF1LcvWVtTVBT9/Tf5+dG4cbR1K8nlFB9Pv/5aVOjDhxQaWqaiGzdumJmZWVlZqf8qUB28sErIy8sLCAhgtnstWrQ4dOjQ6NGj2c/s4eFx7969yjIWFBQEBwcrVjs9PT1dXFzYda9evf6p2uKqHBERES1atGDZ2QysXr16U6dO9fLy6lG/fqaBQVmLLo6jzp0pIYGysmjWLFq2jKKjaerUouIuX6bPPy9fy9GjRx8+fKhSw1SCF1YRx48fZ2tLQqEwICAgPDycCaVu3bohISFlOqoKyc3NDQoKqlu3rqmpqaGhoYODQ1hYmHrrXoWFhSEhIZaWlmUWHQPKSEohLMVLZUEBtWihjLB0DS8sIqL8/Hw2T+/ateuff/45YMAA9kN+9NFHjx8/Vqmou3fvArC0tNQ8CExqaqqJiUlpYS2tUFgCAZWOC9K0KZ0/T46ONHQoDR1KHh41IizeHgsAVqxYcfXq1f79+8fExNy4cSMqKqphw4a7du06duwY68aUhy1TGRkZmWq842tnZ8eEFRMTs2bNmlGjRkXUqycu77NqbAzFUQOvX8PYGByHQYMQGYnISKxYoWEz1IPfKwQANui0bt3a0NBw3rx5OTk5c+fOVWkjTwERoXgdVVu0adOme/fus2fPJiLp7ds4dw7nzuH8eWRkAICbG4KD0bYtGjTA999j+nQtVq02vLAAoG7dugCYzadAIFi2bJnaRelCWAo4jhO2a4d27TBrFohw9y5u3cLo0YiPx/btyM7GRx9h1CgkJqJv36I8dnYoHtn1CS8soLjHqtSYGAgODvby8mKLoqtWrerevXt5azt9w3FwcQF7/XRxQXBwya1mzdCsWdF148Zo3Fj/rePnWIASwkpKSlLcffz4cVZWVmUpddpjvUXwwgKUEBaAlJSUhISEhIQEpqq3NPx6EUQ4cwZhYYiN1VEN/FAIFAsrp8owVBEREXFxcQBu3rzZvHnzPXv23Lx5k62mlubt6LHGjYODA7p1w+rVaNIES5dqvQZeWIByPdZ//vMfZtcwd+7cnTt3Llu2jKmKiErLSP/CysnJYS8fZa4rJSYGUmnRnGzUKHTqhNmzURxNXlvwQyHw5lthtSQmJorF4k8++QRAVlZWx44da+TwN4lEcvDgwcjISHd3d8WXHh4eUqm0mpz37qFTp6JrjkO7dnjwQOvN43ssADAyMjIxMRGJRPn5+RXaqvv4+DRv3pxd29nZjRgxgnVXK1eu7Nq1a+m1UD30WA8fPvz111937NiRnp4OgG11q4Cl5RtKys5WKVqzsuh/sb92wn6eZ8+eKZ9FLpd7enomJSWxj2vWrMnKynr69CkABwcHrbSK+ewzS2iRSLR79+6+ffuWUW3dunXXFtOoUSOJRFJNoRkZ1L59UTSH+Hjq2JGqzaI6fI9VhKWlZXp6enZ2tr29vZJZOI47e/Ysu3769GloaOj06dNzc3O13raHDx8eOHBg27Ztz58/L39XLBYrrCGYRVdVJCTg4UOsWoUJE2BkBI5DeLhOIoFrXapvKWwT+vLly2qXwM5OCg8PNzU1tbKyunr1quatYlbRVcNxnMIq0NXVtZoea8YMAmjRItqxg1JSNG9hZfCT9yKUWXGoGrlcHhAQMHHiRJFIlJWV1a1bt2+++SY/P1+90uLj4wcPHiwWi5VJrOyJc/n52LULALp1w6RJcHEpCvSgA/ihsIhGjRpZW1svWbLEysqqS9XBjCvi8ePH48ePj4mJEQgEAQEBEolkxYoVwcHBhw4dCg0N7d+/v/JFZWdnBwYGrl+/XiqVWlpa5uXlSaVSJyenkSNHFhYWyuVyAOxMQ5be09OT2bgCiIyMFFQxru3ejawseHjg7FkQwccHb5rlaBPddYZvFzKZrHHjxgA4jhs6dGhVwdPKsXs3dew4EUDjxo0VGa9fv85cojmO8/X1VcbBhnkvljZofv78+fXr15npjrOz810lTnGqii5dCKCtW6lhQwJIG4N1ZfDCKiElJWXevHmKac3gwaOqiA/KeP2aJk9mR3eJPv308zKOrBKJJCgoiNlU2dnZVe08+M8///To0YNV3bt37xs3bihuJScnM4127drv5Ek1ny7u2rWQ7t1feHjQ9u0EkCqBbtSAF1ZZXrx4ERgYaG1t7el5FKCOHSksjCq0TL5zh9q1I4BMTOjNwyvfICEhoU+fPkwx3t7e5YPxvXz50t/f39DQEECjRo0qNGjOy8v7/PPpdnbJAgEV+1WoxvTp0wHMmTPn29Gj//b0LNi6VZ1SlIYXVsVkZ2evWPHaxqbI+rddO9q1i0aMKHF46dOHTE0JIBcXun27mtLkcnloaGidOnUAWFlZhYaGMukwZx5mUSgUCv39/bOzsysvhAIDieMIID8/KixU4XFyc3PZ7kJkZCTHcRYWFlVUpBV4YVWFSEShoeToSACZmVHHjuThQWwNtV07+vpr8vUl5b39UlJSRrJzvwBPT88DBw507dqVfezXr9+dO3eUKeS334qi4w4eTDdvFgVQlkioau+yzZs3A+jZs+dXX30FtSOLqAIvrOoRi2nLFvr5Z+rShf76i8aOJSJq107NqNi///4766LY3KtZs2ZHjhxRqYSYGLK1pZ49CaDt24mInjyhIUMqTiyXy9PS0th+4vr16xs2bAggNjZWnaarAr/cUD1GRpg6FQAOHEDfvti+HVFRANQ8imvixInu7u5t2rQRiUQdOnS4fPmyiYrv/N274/JlWFjAywubNmHYsKLvDxxAaioyMpCSgowMWFruP3t2bkZGhmJb+vXr18+fP3dzc2OvAjqFF5bKrFiB0aMhk6lfws6dO2UyGQC5XK6qqhhNmgCAkREWLsS334JFYvviC+TllaRxdxc8e/YMQIMGDWxtbW1tbfv163f79u0qzF+1CC8slWnUCD4++OknNbNnZ2evWbOGXd+5cycjI8NGA1uoESOwdSsuXQIAX18YGsLGBo0awdYWjRoNsLV9amNjU/0Goi7Q9Vj7LnHqVNG8KiaGZsxQs5DAwED2n2evaeHh4Wq3p1MnIqJHj6ht20rnWDUFv1eoAv36geOQlQUvL2zeXOTVpxKluytm4PXXX39p2KpmzfDppxqWoX14YamMlRX694dUCjVOWg0JCcnMzGTXPXv2BHDy5ElSKyL6y5cwN8eOHQDw3XfYt0+NMnSIfoV18ybWrUNYGNg/NzoayclFty5exJMnem2MBowdCwDKhMQuTXZ29urVqxUfPT09HR0d09LSbt68qUYbwsNx4QIOHAAAQ0NYWKhRhg7Ro7D27kVAAJiBb79+eP4ce/fi/v2iuwcO4M4d/TVGM0aOhIkJzp7Fs2cq5Fq9erWiuwLQtm1bFn3k5MmTarRh+3YAmDRJjaz6QI/C+vFHhIdj8GB8/jmmTkVoqP6q1jZ162LQIDRtevfkyStKZsnJySndXQmFQmdn50GDBkGtadatW7h+HfXrw9tb1ax6Ql/CksuRl4d69Yo+tm9fZM+/eDG8veHtjaNH9dQSLTFu3NFHj1y2b/9GyfSrV68ubY7XvHlzoVA4YMAAQ0PD6Ojo169fq1T7r78CwIQJMDZWKZ/+0JewmGOnXF708eVLsPh3y5YVRdsZMUJPLdES3t79zc3NL1y4kJKSUm3inJyckJCQ0t+wAJDW1tZubm6FhYXnz59XvurCwsIrV2b27n3niy/k1aeuIfQ4FA4ciC1bAEAkwrp1KI7C+JZibm4+ePBguVzOTsWpmrVr15axHlYEeVdjNPzjjz8uX96QmTmuU6fa+1Kvx5X34GAsWoThwyGTYcoUeHjg4kUo3HYdHVEuMmItZ+zYsQcPHty7d+9nn33GvpHL5QqvVyJimydEtHLlyjJ5WdxiAIMGDVq6dKlKwtq+fTuAqWz/stai1+XYBw/I1ZU++USvleqMvLw8c3NzY7WmOYqIt1Kp1NraGkBiYqIylaalpQkEAiMjo4yMDF0+nKbod69QJMLt23qtUZeYmZldv3598uTJt4sfysDAQBGRluM4q2IPY7lcLpPJXr58+fr16+zsbGdnZ0WPZWho6Obmdvr06U6dOrFwupaWlgYGBkZGRsxImn00NjZmLtrx8fFSqXTUqFEN9XOIl7rwm9Aa0bx5c1Xn3TExMd26dVMYNYjF4gcPHjCTTiWDR3zwwQcODg7qNFeP6PeE1Vu30L49XF1x65b+Kq3d/PTTT4sWLWrTps3JkyczMjKSk5Nzc3NNTEyISCwWm5ubZ2dnGxsbSyQSFnokOjp6586dNjY2CQkJ1QeWqUH0Oe7m59+MjcWdO676rLQ2k5qaysTx119/EVHV56aamZmxXGyTccmSJTXa9mqove+r7wPz58/PyckZPXo0OzXO0tKSmXe2atWqWbNmTk5O1tbW1tbWzAeVufEACA4O5jguODiYBSCppehTxXyPVZqYmBiO40xNTRXxaqqmdFAGdpzYpEmTdNU4jdGrsESiB3fuuD58+I4sN2iCTCZjjvyBgYFqZE9MTDQ2NjYwMFD1oB69ofFQeOgQhg3D0KH45hvk50MqhUhU9CcWy+UixR+RVCxONDJqLJfnZGUdJiosuSUTl+QSiSCX484d+Phg6FBMnIh//9W4X651bN269erVqw4ODt98o+xuY2maNm06Y8YMuVw+f/58rbdNO2gky0uXyMuLcnOJiNaupS+/pOnTFWe8yE0EsbFQ/D19Ou/WLWepNFMuF0skL+/caVdya0enNw6H2b+fXF2JnU31zz/UqZMuIoPVINnZ2SyMx969e9Uu5NWrV2zd68SJE1psm7bQrMfavx/+/kU2ZjNmICoKQiGMjYv/TDjOuNSfEYCcnFOAgUBQr/QtGJbOZYx79+DpCWdnAPjwQzRp8o4tTwQGBqalpfXs2VNx8qoaWFtbL1y4EMC8efOqjzuqdzRbIH31CtbWRdcGBjAwwOjRKD50lDPgnJxKFslMTdvXrz8pI2Pls2ffOzqusbdfKJW+ZLeMzU2xtlR82Px8SCQlH+vXh5Lxn94G7t27t379ekNDw3Xr1mkYqnT27NkbN268d+/ejh07at3WoUb93U8/0bp1RdevXpGLS5VD4dcsYX7+zfv3PaoaClesoI8/Lqmle3dS8Wy32szgwYMBzFDby+dNdu/eDcDW1jYnJ0crBWoLzVbeX7zAoEH49lvY2yM4GGPGgONQHJaThIZPAkrcOuvU6SeTZZubd8nJOSkWPzIycigsLDJ4t0iuX3/Hy5Ji/f3x3Xfo1Qs9eyIyEs+fF9nb1H4ePMCRI5DJ8NFHKD6evjRHjhz5+OOPra2tHzx4oN7pYmUgop49e8bExPzwww8Kx7JagabKfPGCQkMpKKjaKF5yeeHLl7uePp2XlhYsk1V3frpEQnv20NKldPSomjES9M8//5C7O506RefPU+/eVFFwrSNHjlhbWwcEBLCPitihmhAdHQ3AwsIiLS1N89K0Bb9Aqj0mTKAzZ4qub9+mgQPLJ1myZAmAvn37pqenT5w4sU+fPmrXJhaLw8PDZTKZVCq1s7Pz9vbOZa/ntQNeWNqjRw9ShImXSKh58/JJMjMz2RrB/v37WUhIVUPNKPj5558BTJw4cePGjQAcHR1fKx9RSffwwtIeI0bQ9etF1ykp1KNHhalWrVoFoHXr1swKvlWrVoUqxVAjolK71wcOHGBztYMHD2rSdq2j101ow3zDRnGd699toc9K9cfEifjpJxQWQi7H0qWYOLHCVDNnzmzRosX9+/eFQmHbtm3j4+NZVDSV+Prrr9nu9enTp1+8eNGvXz92tk8tQq8yvnmTAHKtRT2WXC7XztTk5k06dYq2bqXhw2n4cFq3rop3DuZ/YWNjEx4eDqBhw4ZZWVnKV3XhwgW2ex0ZGWloaCgQCG7duqWFR9Aq77XZTG5u7qeffurt7a2Fles1a9C/P9LT0aIFPv8cX35ZRVy2UaNG9ezZMyMj4+7du3379n3+/HlQUJCS9chkspkzZxLRggULli9fLpPJ5s6d6+rqqmn7tY5eZVzLeqz09PQPPvgAwHfffadRQTIZ2dkRQEeOEED161e7ufn333+zXuf48eMGBgYmJib//vuvMlWtXbsWQLNmzbZu3QrA1tZWpd5Ob+hXWMnJNGMGLVtW9DEtjfKKF7TS01UIE6s9YmJihEIhx3Fqv50REZ0/TwA5O9OPPxJAkycrk2ns2LEAPv/88/HjxwOYMGFCtVlevHjBXir37NnTqFEjAL/99pv6zdYlehRWXBy5u9O335KvL40cSYWFNHNmySri3Ll0/Lj+GlOK5cuXA6hXr94ztTeOvv6aAJo/v+joh4gIZTIlJSUxm6o//vjDxMSE47jripfKSmAbggMGDPj6668B9OjRo3xE+FqCHoXl6UmKEzu++442b64lwpLL5T6jRwd6esrc3UkkUqOEy6NGSRwd6dAh4jgyMyvphquDWVN5eXn98ssv27dvl1V4TkEp1q1bZ2tre/LkSabIK1euqNFa/aAvYcnl5Oxc8vF//6PJk2nmTJowgRYvpsWLyd29poRFRPLMTGrWjACaOVPVvLdu3QJgY2MTsXnzGS+vV9OmKZ83MzOTrUL98ccfSmYRiURsG/s///mPqk3VJ/ryK+Q4lN7tlkggFAJAr15gRxonJempJRXBWVnh8GF064b16+HuDl9f5fMePnwYwIgRI9bs23fq7NnfJk9WPrOVldXixYvnzp07Y8aMp0+fGhoampiYsIOAS/u7mpubswC1QqHw4sWLf/75Z7169f773/+q8oh6R38aHjKEFMdMzppF4eG1ZCgsYdMmAsjCgu7fVz7Thx9+CGDfvn1GRkZCofDly5cq1fnixQtzc3OVHFAFAsEG9c7T0SN69IRevRpTpqBlS2RkwM4On36KmBj91a4MX36JS5cgk8HBAXI5cnOrjVPy5MmTuLg4CwuLbdu2FRYWtmnTpp4iBpgSEJGfn19eXl69evWmTZvGcVxBQYFIJMKb8UVev34tkUgASCSSW7duSaXSSbU2kl8x+vWEBpCeDgsLsKPbRCIIhWDuciIRBAKdHE6sElIpBAIsX47ISDg5ISkJq1ejc+c30mRlxT169DAxMTEx8dq1aydPnszLy2M/vJGRUXJysvJRFZYvXx4QEGBlZRUbG+vMTLGrw8DAgIjkcrmG1qc6p4Z7zFrI5cs0eHDRQXKJidSxI507RwEB5ONDbm5Urx4BvSofuZRfaz1z5oxAIOA47tChQ0pmYTsEhoaG6j2ZPuGFVY6ff6ZNm0o+du9OCxe+YTltbv7/RowYMWLEvHnzWGC+0lhaWiqzFJ6ammpvbw9g8eLFyjeNhW8wNjZW47H0TE0PPbUQmawosCVDIED37li6FM2aoVkzNG0KW9sFxTc9PDx8fHzk8pKQjdnZ2evWrVu0aFEVNUgkkjFjxqSmpvbt2/cHdg6OcrAeS8heqFXk8OHDf/zxR2JiopeX15w5c6wVXjA6oqaVXfuIiqLx44uuX72iNm2qto0ODg4u8y+tX79+1RYTc+bMAeDo6Khq8DQWzdvKykqlXFlZWYqYg4y6desuXLgwPT1dpXJUghdWRUybRuPG0dKl5OFBx45Vm3z27NlltLVq1arKEu/ZsweAUCi8cOHCixf09GnR969e0ZMnFB9PinOly5+MmZGRAaBhw4bKP0pUVJSjoyMAU0+KHmMAABD1SURBVFPToKCgc+fOeXt7s4m/sbGxr69vQkKC8qUpDy+sSvj3X4qJIeXOt5VKpYqjUxkODg6iinaH7t+/zyw/2ULUnj2kCN1w8CAtXEheXjRqVNE35a1A2DFx9vb2yrQqPz8/ICDAwMAAgLu7+/HjxxUaiouL8/X1ZeFrhEKhr6/vvXv3lClTeXhhaYf8/Hx2iqmCzZs3l0mTm5vLJvvji4faCoU1bhyxDZ7ywnr8+DEAJyenatvz999/t2rVCoBAIAgICNiwYYO5uTkL/a1Ic/v2bV9fXxYjycDAwNvbW4ubj7ywtMazZ88aN26sEJazs7PkTausMWPGAGjXrl1e8S71nj3UpQvNnEkzZ9KQIUXCeviQPvyQ8vLI1ZXOnKFNm+jSpSKTooLExOdubv8OG1ZFMyQSSVBQEJvgu7i4REZG9unThzVp8uTJeeU2yJOSkvz9/dk+EgAPD4/Tp09r/t/ghaVN7ty5U/pta+fOnYpbK1asAFCnTp3Sg86ePTRnDiUlUVISbdpUJKysLNq0iRYtIldXmjKlaInDwIBatqS5Q+4T8NqhZXJycoUNuH37Ntti4jjO398/PDyctcfGxubw4cNVtDwlJWXevHksnC60ES6QF5aWOXv2rCJAd5s2bZglTExMjJGREcdxBw4cKJ24wqEwK4tkMvL0pEaNaNcu+uwz6tCBhEICyAW3CXho0oS9G3p4ePj7+4eGhkZHRxcUFISEhLCqmzRpcvjwYcW0b9SoUc+fP1em8S9evAgMDDQzM+vUqZOGQWx4YWmfXbt2KfZbDh8+nJaWxgygFQ7QCvbupR9+KLo+dKhEWEQUG0sWFiUpxWKKi6OI/8YR8KR+k/KrUGyqxHHcl19+uXPnTratZGlpGRoaqmr7p0+fDiAkJETdfwARLywd8f3337Pfu2PHjp6engD69Okjqc4QfssW6tqVoqMrT3H1KgHUuTMRpaSkREVFhYSE+Pr6tm3bVigUGhsbR0ZGpqSksAnTwIEDnyoWM5SgsLDw3Llzf/zxx9KlSwEsXLhQ+bzl4YWlE+Ryeek1STs7u2cKJ+lKEIupaVMCqKpgbDExBFD37uXvsC4qNTWViDZu3Lh+/XpVrZbz8/MBmJiYbNmyhc30Vcpehvfa/QtAacepdsWRvTREJpNdvHixTp06zICY47i5c+eyncEq2LQJSUlo167K06tY2LCKbEBYiMD09HQA06dPnzFjhqrmD6ampnXq1BGJRHXq1FEUpTbvu7BKexRq6F1YWFh44sSJadOm2dnZ9erVa/369WKxuG7dukS0YMGCKVOmVHHwREEBli8HgB9/fGOjsnxzAaCivUIWCUJDNTB1sjXVtLQ0TYp63zehc3Nz2R4LgNJ7ycojEomioqIiIyMPHz78/Plz9mXTpk2HDRvm4+PTo0ePX3/9dd68edu2bTtx4sTmzZu9KzoUddMmUUqKibs7hg2rsrLKeyytCMvW1jYhIYFda1jU+y4sqNtRFRQUnDp1av/+/UePHs3JyWFftm3bdtiwYd7e3uzwCIafn1///v0nTZp0/vz54cOHT5s2LTg4mA03jJycnKCg1j17Lv3hB1/AqKpara3Rv39Zw0MA2hMWgMLCQo7j2Aa5+uaEmkzQ3gFatWqluG7duvWrV69++OGHo0ePVp3r3r17zLOP0bZt28DAwKq322QyWel1ptKr2ywSX69evappq0hEv/xC48fTN99QuQVSFtVo/vz51RRSJTNnzgSwZs0a5sehqv1+aXhhlQiradOmzZs3Z1q5dOlSZVkyMjKaNWsGoEOHDitXrlTSNZ5x586dzp07A+A4zs/PLzc398WLF2xb+ty5c9VkHj2aNm6k7Gw6d47ataM3LXN27NgBwNfXV/nGlId5/ixatIjtM95V+IGqzvsurGvXrrGLw4cPswMBGQMrisdHRAUFBT169ADQuXPn8vtuysD28pg7V9OmTT/99FMAQ4YMqSy9VCotePaMbtwgN7eSbwMCKDy8dLITJ05U0WwlCQ0NBTB16lS29va///1P7aLed2ExMjIyyk8mosutVMrl8gkTJrCxTMOAn3Fxce3bt2ddF8dxsbGxRHT58mV2UZr58+d/6+lJI0bQ8OEl365fT8uXl0527do11olq0qqjR48C8Pb2Zvvlu3fvVruo9325gWFoaFje3rd8EOIlS5aEh4fXrVs3IiKCzXPVpmPHjlevXl20aFH79u2J6MyZM7du3RowYMCgQYNuv3kIraOjY46pKerVw5MnJd8mJcHJqXQyLU7eMzMz2YVGKw6aCPxd4uLFi+XXMM8ogtUWT2IEAsHJkye1WO/vv//OFlHXrFkzfPhwADY2NhW/B4wbR2vW0KtX9L//UceOZSJESCQSAwMDQ0NDqVSqdmMKCwuZUfWyZcsALFiwQO2ieGGVkJyc3LVr19LC6t27N7t1/vx59kKnCxfkbdu2sQFx48aNQ4YMAeDg4FDB2eOFhRQSQhMn0sKFVNFAzCIcsWUCTaLQyOXyiRMnchw3a9YstQvhhfUGIpFoypQppbV16tSphw8fstAd33zzjY7qXb16NQBDQ8MdO3b07t0bgLOzc0pKikqFMPPUmzdvEtHGjRs9PDz27dtXbQSbMqSlpQ0dOhRAgwYNNAnpxgurAkJDQxVTrq5du7Zo0QLAJ598ouqPpBLMD0woFO7du5cdZdiqVSvlXxHy8vLYGsHKlSuJiJUAwMXFZfv27UqeVPDnn3+y+YCVlVX4m2+dqsILq2LOnDlT2lO+S5cu6i0uqMSCBQsAGBkZHThwoFOnTgA6dOhQ7SplSkpKYGAgGweZ4deHH34YGhq6cuVKp+IJvq2tbWBg4KtXryorJD8/39/fn70a9+vXTyV7mwrhhVUxYrH4+++/Z2+LHMdNnjxZP6E+582bB8DMzOzo0aNt2rQB0K1bt8oOYDp9+vTIkSMVZ0V37959/PjxTGEAWrZsuWHDhvDw8M7FW0B16tTx9/cvL5qrV6+y3s7ExCQoKEgrHTMvrLLIZLLt27czXzw212HGmfb29jt37tR1aEa5XM7iQVpaWkZGRjZp0gTlHH5EIlFYWBhbBmM9nI+Pz8WLF0vfbdmyJbvbsGHD77//fs+ePV5eXuwbS0tLxRkWbKOJrda6uLjExcVp60F4Yb1BVFRUx44dFbMTFmjvxo0bik3l3r17s9mx7pBKpWw5vkGDBidOnFixYoXiVulRD4CdnV1AQECFjhUymSwiIkLhkWZhYeHv73/s2DFfX1/Fu97jx4/ZCjvbX9LuWM8Lq4jY2Ni+ffuyn8HR0TE0NLT0gpBcLg8LC2PLhgKBwN/fP1s5X1b1KCwsHDZsGFvTun//PhFFR0f7+PgIig1m3NzcwsLClDkrJTo6WuH6zJwH//77byLat28fM5y3tbU9poS3t6rwwqLHjx/7+fkx67Z69eoFBQUVFBRUmDIzM9Pf35/Naezt7cPCwnQ3MhYUFPTr14+NZWwCBMDY2Pizzz67Wt0JfuWJi4ubMGGCwuGCjbAARo8erYkJQxW83cJKTU2dOXPm2LFj1cv+8uXLgIAAExMTNlPx9/fPVAROqJy4uDi2Dw3A09Pz9u3b6tVeLXl5eR9++CHrJqsY9ZTn2bNngYGBlpaWffr0qVu3rhoOPMrzdgsrJyfH1NTUwMBA1bVEIjp79qylpSUbIL744osnT54on5eNjDY2Nmzlyd/fX0cn5zJvH29vbzVOCKuMly9fpqSkKOlpqDZvt7CI6OOPPwawZs0alXIVFhZOmjTJ1NS0f//+ar8KvXz5cvr06WwM/eqrr9QrpGqYq8+WLVt0UbhOeeuFxSzWPTw8VMrFjIktSruEqsvVq1cbNmxoY2NzWRETWnuwvcvyBjy1n7febGbYsGEWFhYxMTEsEouSaBIarwydO3du2rQpi1yldeLj4wG0bt1aF4XrlLdeWGZmZkOHDiWi/fv3K59LESVWK21gAbQVAVu0RUpKSnZ2dv369bVy3r2eeeuFBYAdo7V3717ls8hkMhTHO9AcFnOWvV1qkfv37wNgGztvHe+CsD766CNLS8vY2FiFT1y1sB5LW8LSUY/FhPU2joN4N4RlbGzMbC+VHw21KywXlx+7d19pYlJXK6UpYBMsxero28W7ICyoPhpqV1gXLvheuvSViUk156OoCt9j1TwDBw6sX7/+zZs37969q0x6bQ+FAKDtkZAXVi1AKBSyldJ9+/Ypk16LwpJKIZXC0FDL5wDl5eUlJycbGxsr9vXeLt4RYaF4NFRE+KgaLQqroADQQXd148YNImrZsqW2ulU98+4Iq0+fPjY2NvHx8ePHj9+2bdv169fZiVwVokVhsXFQi0sNcrl8//79Y8aMcXV1ZY6jbyU1vfSvTSIiIpipCUMoFLZt29bX1zckJCQ6Ojo/P1+R8tKlSwDc3d01rDEqik6dothYunGDDh6kym3KleXIkSOKg5/c3d2rjS5Za3mnhEVEly5d+uWXX8aNG9eqVSuDN0OYCYXCjh07Tp48ef369SxIgao7jOWZPZscHenFCyKikSNJk9NDLl26xOw5ATRu3Dg0NFSnTkG65l0TVmlycnLOnTu3atUqX19fFxeX8hs4jRo10tDCafZsWriQpkwh0kBY9+7d8/HxYUaeDRo0CAoKqvC4lLeLd1lYZcjLy7t48eLatWsnTZpkYWHBtFWnTp2VK1eqPeLMnk3R0TR8OF24QCNH0rZtNHo0LV1KR49SUlL12ZOTk/38/NhUz9zcPCAgQKcWz/rkPRKWgq1btzJVKRxd2rdvf+HCBZUKuXOH/vvfImElJlKPHjRsGM2Y8caJmZaW1Ls3LV68bvPmzVeuXCntrZCTkxMYGMh2gYRCoZ+fHwt4/M7w3gkrNTVVEX3/wIEDp0+fZiuQHMf5+voqc4BgcjL5+ZFAQACNHFkUln3pUjIzo9On6bffaP58GjCAbG2L5GVrWxRrxNDQsFWrVmPGjPnss8/YmeQcx40dO1ZHB7vVLO+dsMaOHm1TPMdiDjBisTgoKIjZJlhbW4eEhFQ2a87NpcBAMjUlgIRC8vOjJUuI2Z+KRDRwIJUxb05Lo5MnZcuXL58wYUK7du0U5l/Mw6xfv37lo2G9M7xfwpLu2vWS46TAYaClsXFpB6+HDx+ySC8A3NzcyhywJhaLQ0ND3dx6CoWFHEc+PurM08Vi8bVr13bs2BEZGXn+/HnNH6c28z4JKyurZHwCTjVqVD5JREQEi3egcB6UyWRhYWGK8+KmTj2kvTP93mXeJ2FNm1Z6ai3/7LMKU+Xk5MydO5e9qdna2jo7OzNJdejQQcMDsd4r3hthnT1LHPfGO1twcBXJb9y40aNHD1NTU2tr6/KO0TzVwhGRkps/bzESCVxd8eDBG1/++ScGDaoiExHdunVLKpW6uLgojiDkUZL3Q1gAmjRBGTeelBQ0alRDrXn3eXesG0o4dgx5eUXXJ04gNxcyGSZNQqtWUMTcFgp5VemUd1FYq1YhM7Poes0aPH+Ojz+GgQFWr8b48XB3h4cHzp2r0Sa++7yVRmSqceUKLCywZAkADBqEDz/E0aPQLEo7T7W8o8L64osi07t//kHv3ih12iVcXJCQwAtL17yjwtqxAw4OADBkCKyskJhYcuvVKxRHxOPRHe/iHKsM3bvjr7/w7BkA3LiBjAwUx+fk0R3vYo/VvDmMio+TdHaGjQ1+/RX/+Q/kcpiZYd8+aClkA08VvDfrWDz65T0YCnlqAl5YPDqBFxaPTuCFxaMTeGHx6AReWDw6gRcWj07ghcWjE/4/iq0+r2CajgcAAAREelRYdHJka2l0UEtMIHJka2l0IDIwMjEuMDkuMTEAAHichdN/TBtlGAfw595e7wqlUNqOlRbwoB3WAnZAgRZG74AtTGGYTIkGWDyNaI0YEQP+YxbINDrHpqHbYjALG8gWFWUyw34k611ispBNgTEzVIQsI1s0JDIzM7cow+tTWuhI5iXX7+d97/3xvG/SxeBXc6A8Olh9tipvjfJ2UgyISlKqcBLCcPZQ0ppwPxXbT9GRNguckqvTIik4Qt10JFnBE0pl/egHfyhV1EOxMja6Z7itCSeJZLT29WvHVrHuw4MrsOG2cpyVgdEBkRJWcvVa/qckzh26D2rNTiulrAyI3YDQsRdJrVayBg+/+ZhKH1yQRCvU43RmtfDwgSJJYT+sSy1QQBEgKpoiNNBqUDPAsMBqQBMHcfEQr/UTbYKYoBN1iX6SmCQm6f1EnywmG5R+IxhNNGXa4CCmFC5lIxjNYE71k1SLaLH6iTVNTEv3k/QMLuMRsHIcl8llZjkIZwObHeybaMqeDdmPOki2g3M8BnYnOHNoKieXy82D3McdxOkC12aabM4HVwEUFGpIoRvcRVBUDMUl4CmhKY8XjKXAlsGWcg0p9ykvD+UClBEoVYMhXkw3ix4bGHSixwJeF3iLQF1BU7ZKmvJW0cQUx5AyllHTcRrlt9SojY9TJ2jjDTomMUmfrESqxZqWblZzVovHxtidLq8SBYXuIq9LXVzk9ZRsLFUp9xf95z314RvyXzeb5FDj3HSDLJ/rRjf9Y5Xf/L0HbasulNPOnkQnLFvk+almdODWBWk8UI3ufjVfslzyozMnvFLS9oPoufqzvvv9vehTA318VtM+9M1XvuFP3N4VHrPTxn9yIQc9fWk//+KheSnkt34xCNTUMvqZ+mrh6sxp9PBcpzD8xSJ6dHyPUOjz4Nwl69PCt5XhNc/8aBZS2ivRv12+cZ5+QYtOrPVKFR19OPfaa3PBhTufBUNWtc1IxxpPYn/dkEnunDehWy/7+KtP7kW3Off4Xm7ZhuOrDlTyPX05fMg/ma/zllE7uq5ZL+wMdOAYc901fvDKPpw7PvUrv3zegTVcXBjmZ13h825rYYWKljGcO+zYKpyevYLOm24Q5j7IEkIeZIf48hEduiBxiO9d2oGGUaPwr6sGre+f59msLnSNYYRf7D6IPsq7hbsp76L5hkYhc7Ae3Vp1x9e79Dq6rVb22Rd60ZNLAX5L5zDabWKEyRsD6CMXO/lG9QT6wCkpOLa/Dn2/ayz4rPA+Ou/eMen4D4fRh+8dlXZ3taD/9LHybOoTaFW7Sj7+MYv+e0dA2ts7jed9Prte+uiMD/25o8DXcbcSXVJz2+cM/IzO/EMOHmH0OPf627ul6a/T8Q5v7fpemnluAN3dOiW/U7upPOyRNe6J6fd82S5F/JLzPVz/u0mt/OnEBlwnPy9ZGGw2415iXb+Uoc1Dp/wHgSpM4rdqge0AAAUdelRYdE1PTCByZGtpdCAyMDIxLjA5LjExAAB4nI1YS44cNwzdzynqAi6IFElJiyw8M/4EgXuAeJw7ZJ/7I49UtarakJx0TxHdwmvq8U/M0+avP1//+Pufbbz49elp29Iv/lpr2185pfT0bfMP2/OnL7/ftpf3j8/3k5e3H7f375vVrSh+g/cj9uP727f7CW0v24e8F+FKxT+Jkjbb0p7idf6WO1KoiSNlz62UKTI7knfJhTtSG2jPkLK9ObImCqTuyjy/XQ+dTAfPpU5zJO2qwh1JVPMUWRyZdms5daTlMkfW7ebIwlq7RZbz3PYGnWnPRq1mB9bMc5WEOG20sxTqyKwyN4gokLlq6EQIrCyQHLfDjEDybrB8jsywiHZKpTiS9lJWOgU6eecm2pGt1XmIyGPk7r4jJdvCdo+R7Im77bTXsvJSCSRCeFhUS507nmrczmB3eEkLzZEtLMq1HP5MeZEgnHqGEHHkEu9UFjnP1KEwJFLEI6sLKHvWJ7hHopKQLlA/h2aHIjrUociCJQHpFYJ8S10rcnVRyRppUkRzd38qi6pjCySrRaDgicaL60vXqc2dihwsSZLMgDWyuZjlDoQb5sAepvNulrToN72UivLdnrZIp0zwJ3kd01Eg2eaWZ+5FVyQfyCKL272UkBkU5YnGY1qnBmWJDE0mHWiqPAcqWEan9bt5VxgzB1onKbkFkEnSHFgOoLjdqBKqC40VVyOJUtQGirnIwpjWfY72ASBqGe1rCpQULs/N2zCAJjy3WiiurmRdI3GZXy0cfhQuOTjmXBcac+QkLOjGlJXV4nMIZVhU4+oqxCnPgBpWU89JhWpZWG2RvKlFrBXGUJ1rLOGelEKjobe3hcbaGwwy0lsBYshlgWwHspEBKUDa3G5NfVayqQSyEC+QdCC1WNxubRFv5d6HiDIHklYB12NPSNAEpP9kEUgVn7/u9+TNFaWz8rtqtx1j13lGk5uXhPbWRiX3hgW7Fqb3ziYlegbuRoebA0eErIY9rIseqEeEWgvLfa+xxT5hR4jQpayvSJRk3rLMC+iD7QgR2p8DBFU5RfL2Pbat/0bGAJL/g4xdbuh060BTZuabPkDpF0pt+xrJVMW6o/JqCFgBFD632psmxvA8mbAWf+1JX3vaFcz/KfLT7fVhV+7b8/Pb7fXcnv3N54qML1s+92DCg67/+ctvdK68fqjnXkt47FxeCU85N1TCU881lPC0c9ckf64rJYUYl2F1FBc0KGJFFBc0WJJThCC5rHziggZLrHb+FYvbZYUTFzS4egNxQYMuVjJxQYMxOWXcztcVi1z4/nR1E7snXZzODe/ibzBndzAED+Ysh7bBnJ05BA/m7MwheDBnZw7Bgzk7cwgezLGNiIt83Tpoi53isl2Qizw45+BcsSNctgVykQdnrAXsIg/OWQ/M4Jw9LyDy4Jw9NSAwsB/8lutxPpijwtiFXEcyxcmZlM4cQgZz4a5HBnNx5hDyc0K7zyFk8BfnDyGDP8Yhx8ngL+XQNnwuzhzCxxf0n/d6zkDodWwFUgcH9WyB0MFfnT+EDj3q/CF0eF6dOYSe1RjlqBgOlzFBPgJ8XFyt1nKcD/5ae+7p8Ly2qFe7NnP2Nm2DpjlxtGMbNM2J+8mgafk4GTTNiUPZ+aPg3S59JMqzXVqBeZLna2lY7SacaWbt+NW4u6SOOYuleKrA1jNwhfvJ6dgSjJ3Eg8+K9CwGlcdz7QqsPkbe+++12/r3+/858PnpX60fMa3vYxYpAAACmnpUWHRTTUlMRVMgcmRraXQgMjAyMS4wOS4xMQAAeJx9VDtuWzEQvErK9wCL2D9JGAYMsHFlFSkNVepzAh8+s8sXIEUQNRKHs7+Zpe5vP4+3+3ncz3v7+nh8rfcHy/o81nrq8/j69fF42jM/aicu3x/HSv59nQcIuDtwhRMiABdDDyS6yMj8hw/gA8A61rmZD0eVc72t9RlrJWBaUeGZYPFZYOUAT358H7do3kPshRoZqQe/vN78H5j9h3ejNn2G2V8YFy+ASONhIS/4oUYDCDd3EyDaGHdAqMVU4p5QaN9QFx8JGSBFHDUNnkMTGYoar9zEOo8E1D3POnyOzGJREUhWEdJiVABT7yBwy69XaTLN6zznQLfZ0QWYBiKskVQJbqNLAeg5awiAMTJE5vBd1LtkUh19d0F6jccskrNAjCpc42mNl0P4hkzNEsKkoM8orTqbSdJ0RyK9KEmyoI8nC8nMNeeE7F0KEXiUCGpP6RfLZ6oBWTrcKT16BLQFgtqJyA7MODGqOJAcvVbyuWWHNVwShEYx4JluoFvpypxGwOnw0ojC6hzukmfjiQBprruEms48C+8mYtQ1JJJ9bSgIqTldAk6pMNyqcuUm+DBLvRrUCZdwjtwz8AdH3bP0aseka8ZjsSSVsUGpjELtUVJpdweATbPdAZcsDqZVhzRzIEdGrg6I8j6weHNbDknSTPQs10KjqQBiQGJ7K4GHAKCzXEC+HsTEzDlyXRirkIPWIADIDebnRXZ+y8YIvzgXfJfB28gytRSUnmIFum7je3BsyLrnfiAOO3E1HLmQuQFJqfZG1eqkmzKn0V5jC72e8ox83BCCbD93056PG/8YkwsYxFIUlxqz3Lei6Kydhu4mQ/Yb4iuN8EYyzfn9Gx0qGXQSnpCgAAAAAElFTkSuQmCC\" alt=\"Mol\"/></td>\n",
       "    </tr>\n",
       "    <tr>\n",
       "      <th>3</th>\n",
       "      <td>CHEMBL90555</td>\n",
       "      <td>CC[C@]1(O)C[C@H]2CN(CCc3c([nH]c4ccccc34)[C@@](...</td>\n",
       "      <td>1111111111111111111111111111011111111111111111...</td>\n",
       "      <td>0.583582</td>\n",
       "      <td><img data-content=\"rdkit/molecule\" src=\"data:image/png;base64,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\" alt=\"Mol\"/></td>\n",
       "    </tr>\n",
       "    <tr>\n",
       "      <th>4</th>\n",
       "      <td>CHEMBL378544</td>\n",
       "      <td>CC[C@]1(O)C[C@@H]2CN(CCc3c([nH]c4ccccc34)[C@@]...</td>\n",
       "      <td>1111111111111111111111111111011111111111111111...</td>\n",
       "      <td>0.583458</td>\n",
       "      <td><img data-content=\"rdkit/molecule\" src=\"data:image/png;base64,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\" alt=\"Mol\"/></td>\n",
       "    </tr>\n",
       "  </tbody>\n",
       "</table>\n",
       "</div>"
      ],
      "text/plain": [
       "       ChEMBL_ID                                             SMILES  \\\n",
       "0  CHEMBL2105708  Cc1ccc(C(=O)Nc2ccc(CN3CCN(C)CC3)c(C(F)(F)F)c2)...   \n",
       "1  CHEMBL1171837  Cc1ccc(C(=O)Nc2ccc(CN3CCN(C)CC3)c(C(F)(F)F)c2)...   \n",
       "2   CHEMBL501867  CC[C@]1(O)C[C@H]2CN(CCc3c([nH]c4ccccc34)[C@@](...   \n",
       "3    CHEMBL90555  CC[C@]1(O)C[C@H]2CN(CCc3c([nH]c4ccccc34)[C@@](...   \n",
       "4   CHEMBL378544  CC[C@]1(O)C[C@@H]2CN(CCc3c([nH]c4ccccc34)[C@@]...   \n",
       "\n",
       "                                                  fp   tan_sim  \\\n",
       "0  1100111011110111100110100011110110100101011010...  0.606250   \n",
       "1  1100111011110111100110100011110110100101011010...  0.606250   \n",
       "2  1111111111111111111111111111011111111111111111...  0.584080   \n",
       "3  1111111111111111111111111111011111111111111111...  0.583582   \n",
       "4  1111111111111111111111111111011111111111111111...  0.583458   \n",
       "\n",
       "                                                 Mol  \n",
       "0  <img data-content=\"rdkit/molecule\" src=\"data:i...  \n",
       "1  <img data-content=\"rdkit/molecule\" src=\"data:i...  \n",
       "2  <img data-content=\"rdkit/molecule\" src=\"data:i...  \n",
       "3  <img data-content=\"rdkit/molecule\" src=\"data:i...  \n",
       "4  <img data-content=\"rdkit/molecule\" src=\"data:i...  "
      ]
     },
     "execution_count": 34,
     "metadata": {},
     "output_type": "execute_result"
    }
   ],
   "source": [
    "q_approved_small_mols='''MATCH (cc:compound_structures)-[:has_molecule]-(b:molecule_dictionary{max_phase:4, molecule_type:'Small molecule'}) WHERE cc.canonical_smiles <> 'None' and cc.canonical_smiles IS NOT NULL  return b.chembl_id, cc.canonical_smiles, rdk_fingerprint(cc.canonical_smiles), rdk_tanimoto_similarity(cc.canonical_smiles, 'Cc1ccc2c(Nc3cccc(c3)C(F)(F)F)noc2c1C#Cc1cnc2cccnn12') ORDER BY  rdk_tanimoto_similarity(cc.canonical_smiles,'Cc1ccc2c(Nc3cccc(c3)C(F)(F)F)noc2c1C#Cc1cnc2cccnn12') DESC'''\n",
    "approved_smiles= chembl27_csv_new.query(q_approved_small_mols)\n",
    "#print(approved_smiles[0])\n",
    "l_approved_smiles=[]\n",
    "for item in approved_smiles:\n",
    "   l_approved_smiles.append(item)\n",
    "\n",
    "df_approved_smiles = pd.DataFrame(l_approved_smiles)\n",
    "\n",
    "df_approved_smiles.columns = ['ChEMBL_ID','SMILES','fp','tan_sim']\n",
    "PandasTools.AddMoleculeColumnToFrame(df_approved_smiles,'SMILES','Mol')\n",
    "df_approved_smiles.head(5)"
   ]
  },
  {
   "cell_type": "markdown",
   "id": "4364498d-ed7b-4c6b-a146-1134c2d45ca0",
   "metadata": {},
   "source": [
    "# Basic Support for RDKit Simsearch\n",
    "In this notebook we run the basic RDKit simsearch implementation without advanced optimizations.\n",
    "## Graph Requirements\n",
    "+ Edges between nodes must contain property which holds the score which will guide the search \n",
    "+ Search will start from the requested nodes and will return the top k matches assuming the requested nodes have neighbors n > k. "
   ]
  },
  {
   "cell_type": "code",
   "execution_count": 32,
   "id": "cef8f6d5-896a-46ce-8e5e-bb3a7c36e918",
   "metadata": {},
   "outputs": [
    {
     "ename": "NameError",
     "evalue": "name 'NUM_SIMILAR_COMPOUNDS' is not defined",
     "output_type": "error",
     "traceback": [
      "\u001b[0;31m---------------------------------------------------------------------------\u001b[0m",
      "\u001b[0;31mNameError\u001b[0m                                 Traceback (most recent call last)",
      "\u001b[0;32m/tmp/ipykernel_73/880440812.py\u001b[0m in \u001b[0;36m<module>\u001b[0;34m\u001b[0m\n\u001b[1;32m      2\u001b[0m \u001b[0mMATCH\u001b[0m \u001b[0;34m(\u001b[0m\u001b[0ma\u001b[0m\u001b[0;34m)\u001b[0m\u001b[0;34m\u001b[0m\u001b[0;34m\u001b[0m\u001b[0m\n\u001b[1;32m      3\u001b[0m \u001b[0mWHERE\u001b[0m \u001b[0ma\u001b[0m\u001b[0;34m.\u001b[0m\u001b[0mchembl_id\u001b[0m \u001b[0;34m=\u001b[0m \u001b[0;34m'CHEMBL941'\u001b[0m \u001b[0;32mor\u001b[0m \u001b[0ma\u001b[0m\u001b[0;34m.\u001b[0m\u001b[0mchembl_id\u001b[0m \u001b[0;34m=\u001b[0m \u001b[0;34m'CHEMBL3545413'\u001b[0m\u001b[0;34m\u001b[0m\u001b[0;34m\u001b[0m\u001b[0m\n\u001b[0;32m----> 4\u001b[0;31m \u001b[0mWITH\u001b[0m \u001b[0mrdk_similarity_search\u001b[0m\u001b[0;34m(\u001b[0m\u001b[0ma\u001b[0m\u001b[0;34m,\u001b[0m\u001b[0;34m{\u001b[0m\u001b[0mNUM_SIMILAR_COMPOUNDS\u001b[0m\u001b[0;34m}\u001b[0m\u001b[0;34m,\u001b[0m\u001b[0;34m{\u001b[0m\u001b[0mSCORE_KEY\u001b[0m\u001b[0;34m}\u001b[0m\u001b[0;34m)\u001b[0m \u001b[0;32mas\u001b[0m \u001b[0mr\u001b[0m\u001b[0;34m\u001b[0m\u001b[0;34m\u001b[0m\u001b[0m\n\u001b[0m\u001b[1;32m      5\u001b[0m \u001b[0mRETURN\u001b[0m \u001b[0mr\u001b[0m\u001b[0;34m.\u001b[0m\u001b[0mchembl_id\u001b[0m\u001b[0;34m\u001b[0m\u001b[0;34m\u001b[0m\u001b[0m\n\u001b[1;32m      6\u001b[0m \"\"\"\n",
      "\u001b[0;31mNameError\u001b[0m: name 'NUM_SIMILAR_COMPOUNDS' is not defined"
     ]
    }
   ],
   "source": [
    "simsearch_query = f\"\"\"\n",
    "MATCH (a)\n",
    "WHERE a.chembl_id = 'CHEMBL941' or a.chembl_id = 'CHEMBL3545413'\n",
    "WITH rdk_similarity_search(a,{NUM_SIMILAR_COMPOUNDS},{SCORE_KEY}) as r\n",
    "RETURN r.chembl_id\n",
    "\"\"\""
   ]
  },
  {
   "cell_type": "code",
   "execution_count": null,
   "id": "75c9068c-e455-4e31-8373-2209c27f4748",
   "metadata": {},
   "outputs": [],
   "source": []
  }
 ],
 "metadata": {
  "kernelspec": {
   "display_name": "Python 3 (ipykernel)",
   "language": "python",
   "name": "python3"
  },
  "language_info": {
   "codemirror_mode": {
    "name": "ipython",
    "version": 3
   },
   "file_extension": ".py",
   "mimetype": "text/x-python",
   "name": "python",
   "nbconvert_exporter": "python",
   "pygments_lexer": "ipython3",
   "version": "3.8.8"
  }
 },
 "nbformat": 4,
 "nbformat_minor": 5
}
