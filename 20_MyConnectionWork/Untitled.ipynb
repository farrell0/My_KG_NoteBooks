{
 "cells": [
  {
   "cell_type": "code",
   "execution_count": null,
   "id": "6ae937b5-145d-4808-addb-246623470b46",
   "metadata": {},
   "outputs": [],
   "source": [
    "\n",
    "def abc(arg1):\n",
    "\n",
    "   if name is None:\n",
    "      print(\"'arg1' was: NULL\"\n",
    "   else:\n",
    "     print(\"'arg1' was :\n",
    "\n",
    "   "
   ]
  }
 ],
 "metadata": {
  "kernelspec": {
   "display_name": "Python 3 (ipykernel)",
   "language": "python",
   "name": "python3"
  },
  "language_info": {
   "codemirror_mode": {
    "name": "ipython",
    "version": 3
   },
   "file_extension": ".py",
   "mimetype": "text/x-python",
   "name": "python",
   "nbconvert_exporter": "python",
   "pygments_lexer": "ipython3",
   "version": "3.8.13"
  }
 },
 "nbformat": 4,
 "nbformat_minor": 5
}
