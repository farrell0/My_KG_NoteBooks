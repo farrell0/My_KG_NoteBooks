{
 "cells": [
  {
   "cell_type": "markdown",
   "source": [
    "# PayPal Requirements"
   ],
   "metadata": {}
  },
  {
   "cell_type": "markdown",
   "source": [
    "##### Describes requirments from PayPal story that can be found here: [PayPal Story](https://docs.google.com/document/d/1oVM5ewbC3UVdr21dlR3kjD5pRChdSm7y/edit)"
   ],
   "metadata": {}
  },
  {
   "cell_type": "markdown",
   "source": [
    "---"
   ],
   "metadata": {}
  },
  {
   "cell_type": "markdown",
   "source": [
    "## Connect to the cluster"
   ],
   "metadata": {}
  },
  {
   "cell_type": "markdown",
   "source": [
    "Run this command in separate terminal to forward port from Katana controller node"
   ],
   "metadata": {}
  },
  {
   "cell_type": "markdown",
   "source": [
    "```gcloud compute ssh --zone us-east1-b --project CLUSTER_NAME katana-controller -- -NL 8080:127.0.0.1:8080 -vvv ```"
   ],
   "metadata": {}
  },
  {
   "cell_type": "markdown",
   "source": [
    "Connect local Docker container to Katana Controller"
   ],
   "metadata": {}
  },
  {
   "cell_type": "code",
   "execution_count": null,
   "source": [
    "import os\n",
    "from timeit import default_timer as timer\n",
    "\n",
    "import pandas as pd\n",
    "from katana import remote\n",
    "from katana.remote import analytics, import_data\n",
    "\n",
    "os.environ[\"KATANA_SERVER_ADDRESS\"] = \"host.docker.internal:8080\""
   ],
   "outputs": [],
   "metadata": {}
  },
  {
   "cell_type": "markdown",
   "source": [
    "## Initial Load - Social Graph (20bn nodes, 44bn edges)"
   ],
   "metadata": {}
  },
  {
   "cell_type": "markdown",
   "source": [
    "Specify input and output locations on cloud storage"
   ],
   "metadata": {}
  },
  {
   "cell_type": "code",
   "execution_count": null,
   "source": [
    "graph = remote.Client().create_graph(num_partitions=80)\n",
    "print(f\"The graph_id is :: {graph.graph_id}\")"
   ],
   "outputs": [],
   "metadata": {}
  },
  {
   "cell_type": "code",
   "execution_count": null,
   "source": [
    "start = timer()\n",
    "print(\"Importing graph from CSV files...\")\n",
    "import_data.csv(\n",
    "    graph,\n",
    "    input_node_path=\"gs://katana-demo-datasets/csv-datasets/social/mapping_files/20B/node_list_20B.txt\",\n",
    "    input_edge_path=\"gs://katana-demo-datasets/csv-datasets/social/mapping_files/20B/edge_list_full_20B.txt\",\n",
    "    input_dir=\"gs://katana-demo-datasets/csv-datasets/social/csv/20_Billion_2kfiles\",\n",
    "    data_delimiter=\"|\",\n",
    "    schema_delimiter=\"|\",\n",
    "    ids_are_integers=True,\n",
    ")\n",
    "end = timer()\n",
    "print(f\"  import: {end - start:.1f} seconds\")\n",
    "\n",
    "start = timer()\n",
    "assert graph.num_nodes() == 20_000_000_000\n",
    "print(f\"  num nodes: {graph.num_nodes()}\")\n",
    "end = timer()\n",
    "print(f\"  count nodes: {end - start:.1f} seconds\")\n",
    "\n",
    "start = timer()\n",
    "assert graph.num_edges() == 44_060_780_496\n",
    "print(f\"  num nodes: {graph.num_edges()}\")\n",
    "end = timer()\n",
    "print(f\"  count edges: {end - start:.1f} seconds\")"
   ],
   "outputs": [],
   "metadata": {}
  },
  {
   "cell_type": "code",
   "execution_count": null,
   "source": [
    "from katana_enterprise.client.rest.v2 import client\n",
    "\n",
    "## Adjust the number of rows (None: no limit) to limit the result set size.\n",
    "client.Limits.set_max_operation_result_rows(1000000)"
   ],
   "outputs": [],
   "metadata": {}
  },
  {
   "cell_type": "code",
   "execution_count": null,
   "source": [
    "start = timer()\n",
    "query1_result = graph.query(\n",
    "    \"\"\"\n",
    "match (acct1)-[:FriendConB]->(acct2)-[:FriendConB]->(acct3)\n",
    "where (acct3.userIsBlacklisted=\"Y\" or acct3.userIsSuspended=\"Y\")\n",
    "and not (acct1)-->(acct3)\n",
    "return acct1.id, count(acct3) ;\n",
    "\"\"\"\n",
    ")\n",
    "end = timer()\n",
    "print(query1_result)\n",
    "print(f\"  query1: {end - start:.1f} seconds\")"
   ],
   "outputs": [],
   "metadata": {}
  },
  {
   "cell_type": "markdown",
   "source": [
    "Report requirements: \n",
    "- Cluster size and SKU used for data ingestion\n",
    "- % of completion\n",
    "- Time used for ingestion\n",
    "- Warnings & errors happened so far\n",
    "- Statistics of # of vertices and edges successfully ingested & not ingested due to errors, etc.\n",
    "\n"
   ],
   "metadata": {}
  },
  {
   "cell_type": "markdown",
   "source": [
    "Output: \n",
    "- Report already shows skew (complete - available now)\n",
    "- Cluster size and SKU used for data ingestion (complete - available now)\n",
    "- Time used for ingestion (complete - available now)\n",
    "- % of completion\n",
    "- Warnings & errors happened so far (as the load is occurring..) \n",
    "- Statistics of # of vertices and edges successfully ingested & not ingested due to errors, etc. (complete - available now) \n"
   ],
   "metadata": {}
  },
  {
   "cell_type": "markdown",
   "source": [
    "## Incremental Data Loading - Social Graph "
   ],
   "metadata": {}
  },
  {
   "cell_type": "markdown",
   "source": [
    "Requirements: (data will be staged in gs) \n",
    "- 80K of vertices to be inserted\n",
    "- 7M of edges to be inserted\n"
   ],
   "metadata": {}
  },
  {
   "cell_type": "code",
   "execution_count": null,
   "source": [
    "# incremental node+edge inserts, these should also work separately by leading the node or edge mapping path blank\n",
    "\n",
    "next_node_ingest_batch = (\n",
    "    \"gs://katana-demo-datasets/csv-datasets/social/mapping_files/incremental/node_insert_20B_10M.txt\"\n",
    ")\n",
    "next_edge_ingest_batch = (\n",
    "    \"gs://katana-demo-datasets/csv-datasets/social/mapping_files/incremental/edge_insert_20B_7M.txt\"\n",
    ")\n",
    "\n",
    "\n",
    "start = timer()\n",
    "# re-uses the graph from initial load\n",
    "import_data.csv(\n",
    "    graph,\n",
    "    operation=import_data.Operation.Insert,\n",
    "    input_node_path=next_node_ingest_batch,\n",
    "    input_edge_path=next_edge_ingest_batch,\n",
    "    input_dir=\"gs://katana-demo-datasets/csv-datasets/social/csv/\",\n",
    "    data_delimiter=\"|\",\n",
    "    schema_delimiter=\"|\",\n",
    "    ids_are_integers=True,\n",
    ")\n",
    "\n",
    "end = timer()\n",
    "print(f\"  Insert Op: {end - start:.1f} seconds\")"
   ],
   "outputs": [],
   "metadata": {}
  },
  {
   "cell_type": "markdown",
   "source": [
    "- 100K of vertices to be updated\n",
    "- 1M of edges to be updated\n"
   ],
   "metadata": {}
  },
  {
   "cell_type": "code",
   "execution_count": null,
   "source": [
    "# incremental node + edge updates (XXX these paths are guesses)\n",
    "\n",
    "next_node_ingest_batch = (\n",
    "    \"gs://katana-demo-datasets/csv-datasets/social/mapping_files/incremental/node_update_20B_1M.txt\"\n",
    ")\n",
    "next_edge_ingest_batch = (\n",
    "    \"gs://katana-demo-datasets/csv-datasets/social/mapping_files/incremental/edge_update_20B_10M.txt\"\n",
    ")\n",
    "\n",
    "\n",
    "start = timer()\n",
    "# re-uses the graph from initial load\n",
    "import_data.csv(\n",
    "    graph,\n",
    "    operation=import_data.Operation.Update,\n",
    "    input_node_path=next_node_ingest_batch,\n",
    "    input_edge_path=next_edge_ingest_batch,\n",
    "    input_dir=\"gs://katana-demo-datasets/csv-datasets/social/csv/\",\n",
    "    data_delimiter=\"|\",\n",
    "    schema_delimiter=\"|\",\n",
    "    ids_are_integers=True,\n",
    ")\n",
    "\n",
    "end = timer()\n",
    "print(f\"  Update Op: {end - start:.1f} seconds\")"
   ],
   "outputs": [],
   "metadata": {}
  },
  {
   "cell_type": "markdown",
   "source": [
    "- 100K of vertices to be deleted\n",
    "- 1M of edges to be deleted\n"
   ],
   "metadata": {}
  },
  {
   "cell_type": "code",
   "execution_count": null,
   "source": [
    "# incremental node + edge deletes (XXX these paths are guesses)\n",
    "\n",
    "next_node_ingest_batch = (\n",
    "    \"gs://katana-demo-datasets/csv-datasets/social/mapping_files/incremental/node_delete_20B_10M.txt\"\n",
    ")\n",
    "next_edge_ingest_batch = (\n",
    "    \"gs://katana-demo-datasets/csv-datasets/social/mapping_files/incremental/edge_delete_20B_10M.txt\"\n",
    ")\n",
    "\n",
    "start = timer()\n",
    "# re-uses the graph from initial load\n",
    "import_data.csv(\n",
    "    graph,\n",
    "    operation=import_data.Operation.Delete,\n",
    "    input_node_path=next_node_ingest_batch,\n",
    "    input_edge_path=next_edge_ingest_batch,\n",
    "    input_dir=\"gs://katana-demo-datasets/csv-datasets/social/csv/\",\n",
    "    data_delimiter=\"|\",\n",
    "    schema_delimiter=\"|\",\n",
    "    ids_are_integers=True,\n",
    ")\n",
    "\n",
    "end = timer()\n",
    "print(f\"  Delete Op: {end - start:.1f} seconds\")"
   ],
   "outputs": [],
   "metadata": {}
  },
  {
   "cell_type": "markdown",
   "source": [
    "Output: \n",
    "- Report already shows skew (complete - available now)\n",
    "- Cluster size and SKU used for data ingestion (complete - available now)\n",
    "- Time used for ingestion (complete - available now)\n",
    "- % of completion\n",
    "- Warnings & errors happened so far (as the load is occurring..) \n",
    "- Statistics of # of vertices and edges successfully ingested & not ingested due to errors, etc. (complete - available now) \n"
   ],
   "metadata": {}
  },
  {
   "cell_type": "markdown",
   "source": [
    "## f) Query execution and output"
   ],
   "metadata": {}
  },
  {
   "cell_type": "markdown",
   "source": [
    "#### Run 2hop aggregations only on edges of type FriendConB: for each account, find all his neighbors within 2 hops exactly (exclude accounts that are 1 hop from the account) and do the following aggregations on all these accounts: \n",
    "sum(user_is_blacklisted=’Y’ or suspended=’Y’)/(# of accounts in 2 hops)\n",
    "sum(phone_is_verified=’Y’) /(# of accounts in 2 hops)\n",
    "avg(cnt_decl)\n",
    "\n",
    "##### FriendB Connection Only\n",
    "- 2 hop query by account\n",
    "- Global triangles for totals\n",
    "- Users suspended and blacklisted\n",
    "- Users not verified\n",
    "- Average count of users declined"
   ],
   "metadata": {}
  },
  {
   "cell_type": "code",
   "execution_count": null,
   "source": [
    "## Corresponds https://github.com/KatanaGraph/katana-tools/blob/main/bench/queries/paypal/11.q used by QA\n",
    "start = timer()\n",
    "\n",
    "query = \"\"\"\n",
    "MATCH (acct1)-[:FriendConB]->(acct2)-[:FriendConB]->(acct3) \n",
    "WHERE NOT (acct1)-[:FriendConB]->(acct3) \n",
    "WITH acct1, avg(acct3.cntDecl) as avgCntDecl, count(acct3) as totalAccounts \n",
    "MATCH (acct1)-[:FriendConB]->(acct2)-[:FriendConB]->(acct3Bad) \n",
    "WHERE (acct3Bad.userIsBlacklisted=\"Y\" OR acct3Bad.userIsSuspended=\"Y\") \n",
    "AND NOT (acct1)-[:FriendConB]->(acct3Bad) \n",
    "WITH acct1, avgCntDecl, totalAccounts, count(acct3Bad) as suspAccounts \n",
    "MATCH (acct1)-[:FriendConB]->(acct2)-[:FriendConB]->(acct3Bad) \n",
    "WHERE acct3Bad.phoneIsVerified=\"N\" \n",
    "AND NOT (acct1)-[:FriendConB]->(acct3Bad) \n",
    "WITH acct1, avgCntDecl, totalAccounts, suspAccounts, count(acct3Bad) as unverifiedAccounts \n",
    "RETURN acct1.id, avgCntDecl, toFloat(suspAccounts) / toFloat(totalAccounts) as percentSusp, toFloat(unverifiedAccounts) / toFloat(totalAccounts) as percentUnverified;\n",
    "\"\"\"\n",
    "\n",
    "query2_result = graph.query(query)\n",
    "end = timer()\n",
    "print(query2_result)\n",
    "print(f\"  query2: {end - start:.1f} seconds\")"
   ],
   "outputs": [],
   "metadata": {}
  },
  {
   "cell_type": "markdown",
   "source": [
    "Output: \n",
    "- Report already shows skew (complete - available now)\n",
    "- Cluster size and SKU used for data ingestion (complete - available now)\n",
    "- Time used for ingestion (complete - available now)\n",
    "- % of completion\n",
    "- Warnings & errors happened so far (as the load is occurring..) \n",
    "- Statistics of # of vertices and edges successfully ingested & not ingested due to errors, etc. (complete - available now) \n"
   ],
   "metadata": {}
  },
  {
   "cell_type": "markdown",
   "source": [
    "#### Run 2hop aggregations on the full graph: for each account, find all his neighbors within 2 hops exactly (exclude accounts that are 1 hop from the account) and do the following aggregations on all these accounts: \n",
    "sum(user_is_blacklisted=’Y’ or suspended=’Y’)/(# of accounts in 2 hops)\n",
    "sum(phone_is_verified=’Y’) /(# of accounts in 2 hops)\n",
    "avg(cnt_decl)\n",
    "\n",
    "##### Full Social Graph\n",
    "- 2 hop query by account\n",
    "- Global triangles for totals\n",
    "- Users suspended and blacklisted\n",
    "- Users not verified\n",
    "- Average count of users declined"
   ],
   "metadata": {}
  },
  {
   "cell_type": "code",
   "execution_count": null,
   "source": [
    "## Corresponds https://github.com/KatanaGraph/katana-tools/blob/main/bench/queries/paypal/12.q used by QA\n",
    "start = timer()\n",
    "\n",
    "query = \"\"\"\n",
    "MATCH (acct1)-->(acct2)-->(acct3) \n",
    "WHERE NOT (acct1)-->(acct3) \n",
    "WITH acct1, avg(acct3.cntDecl) as avgCntDecl, count(acct3) as totalAccounts \n",
    "MATCH (acct1)-->(acct2)-->(acct3Bad) \n",
    "WHERE (acct3Bad.userIsBlacklisted=\"Y\" OR acct3Bad.userIsSuspended=\"Y\") \n",
    "AND NOT (acct1)-->(acct3Bad) \n",
    "WITH acct1, avgCntDecl, totalAccounts, count(acct3Bad) as suspAccounts \n",
    "MATCH (acct1)-->(acct2)-->(acct3Bad) \n",
    "WHERE acct3Bad.phoneIsVerified=\"N\" \n",
    "AND NOT (acct1)-->(acct3Bad) \n",
    "WITH acct1, avgCntDecl, totalAccounts, suspAccounts, count(acct3Bad) as unverifiedAccounts \n",
    "RETURN acct1.id, avgCntDecl, toFloat(suspAccounts) / toFloat(totalAccounts) as percentSusp, toFloat(unverifiedAccounts) / toFloat(totalAccounts) as percentUnverified;\n",
    "\"\"\"\n",
    "\n",
    "query3_result = graph.query(query)\n",
    "end = timer()\n",
    "print(query3_result)\n",
    "print(f\"  query3: {end - start:.1f} seconds\")"
   ],
   "outputs": [],
   "metadata": {}
  },
  {
   "cell_type": "markdown",
   "source": [
    "##### Full Social Graph\n",
    "- 2 hop query by account\n",
    "- Global triangles for totals\n",
    "- Users suspended and blacklisted\n",
    "- Users not verified\n",
    "- Average count of users declined"
   ],
   "metadata": {}
  },
  {
   "cell_type": "markdown",
   "source": [
    "## Algorithms"
   ],
   "metadata": {}
  },
  {
   "cell_type": "markdown",
   "source": [
    "#### PageRank (Social Graph)"
   ],
   "metadata": {}
  },
  {
   "cell_type": "code",
   "execution_count": null,
   "source": [
    "start = timer()\n",
    "analytics.pagerank(graph, result_property_name=\"page_rank\")\n",
    "end = timer()\n",
    "print(f\"  Pagerank: {end - start:.1f} seconds\")\n",
    "\n",
    "result = graph.query(\n",
    "    \"\"\"\n",
    "    MATCH (n)\n",
    "    RETURN n, n.page_rank\n",
    "    ORDER BY n.page_rank DESC\n",
    "    LIMIT 30\n",
    "    \"\"\",\n",
    "    contextualize=True,\n",
    ")\n",
    "pd.DataFrame(result[0:10])"
   ],
   "outputs": [],
   "metadata": {}
  },
  {
   "cell_type": "markdown",
   "source": [
    "#### Distributed Louvain (Social Graph)"
   ],
   "metadata": {}
  },
  {
   "cell_type": "code",
   "execution_count": null,
   "source": [
    "prop_name = \"cluster_id\"\n",
    "start = timer()\n",
    "louvain_graph = graph.project(node_types=[\"Account\"], edge_types=[\"AssetConB\"])\n",
    "end = timer()\n",
    "print(f\"  Projection: {end - start:.1f} seconds\")\n",
    "\n",
    "start = timer()\n",
    "analytics.louvain_clustering(louvain_graph, result_property_name=prop_name, is_symmetric=True)\n",
    "end = timer()\n",
    "print(f\"  Louvain: {end - start:.1f} seconds\")\n",
    "\n",
    "result = graph.query(\n",
    "    f\"\"\"\n",
    "    MATCH (n)\n",
    "    WHERE exists(n.{prop_name})\n",
    "    RETURN n, n.{prop_name}\n",
    "    LIMIT 30\n",
    "    \"\"\",\n",
    "    contextualize=True,\n",
    ")\n",
    "pd.DataFrame(result[0:10])"
   ],
   "outputs": [],
   "metadata": {}
  }
 ],
 "metadata": {
  "author": {
   "email": "gill@katanagraph.com",
   "jira_user_id": "5fbc557bd670b8006eaad29f"
  },
  "kernelspec": {
   "display_name": "katana-dev",
   "language": "python",
   "name": "katana-dev"
  },
  "language_info": {
   "codemirror_mode": {
    "name": "ipython",
    "version": 3
   },
   "file_extension": ".py",
   "mimetype": "text/x-python",
   "name": "python",
   "nbconvert_exporter": "python",
   "pygments_lexer": "ipython3",
   "version": "3.8.12"
  },
  "max_num_hosts": 80,
  "milestone": -1
 },
 "nbformat": 4,
 "nbformat_minor": 5
}