{
 "cells": [
  {
   "cell_type": "code",
   "execution_count": null,
   "id": "d776f754-ef98-4cbd-a423-647c483341ce",
   "metadata": {},
   "outputs": [],
   "source": [
    "\n",
    "#  Here we demonstrate the following Dask DataFrame techniques;\n",
    "#\n",
    "#     .  How to create a Dask DataFrame from an array.\n",
    "#\n",
    "#     .  Add a new column. Perhaps a LABEL or TYPE.\n"
   ]
  },
  {
   "cell_type": "code",
   "execution_count": 1,
   "id": "682150e3-6a50-4197-a239-80d1d2ea6edd",
   "metadata": {},
   "outputs": [
    {
     "name": "stdout",
     "output_type": "stream",
     "text": [
      "--\n"
     ]
    }
   ],
   "source": [
    "\n",
    "NUM_PARTITIONS  = 3\n",
    "\n",
    "print(\"--\")\n"
   ]
  },
  {
   "cell_type": "code",
   "execution_count": 2,
   "id": "0416c10d-a1cb-433d-ad5e-85498aaa1744",
   "metadata": {},
   "outputs": [
    {
     "name": "stdout",
     "output_type": "stream",
     "text": [
      "--\n"
     ]
    }
   ],
   "source": [
    "\n",
    "import numpy as np\n",
    "import pandas as pd\n",
    "   #\n",
    "import dask.array as da\n",
    "import dask.dataframe as dd\n",
    "   #\n",
    "from dask.dataframe import from_pandas\n",
    "\n",
    "from tabulate import tabulate\n",
    "\n",
    "print(\"--\")\n"
   ]
  },
  {
   "cell_type": "code",
   "execution_count": 3,
   "id": "131298d0-5cb4-4b62-8413-5e5571ef4b6a",
   "metadata": {},
   "outputs": [
    {
     "name": "stdout",
     "output_type": "stream",
     "text": [
      "Airport:  MKE   Milwaukee            WI   Airport   \n",
      "Airport:  ORD   Chicago O-Hare       IL   Airport   \n",
      "Airport:  SJC   San Jose             CA   Airport   \n",
      "Airport:  LAX   Los Angeles          CA   Airport   \n",
      "Airport:  DEN   Denver               CO   Airport   \n",
      "--\n"
     ]
    }
   ],
   "source": [
    "\n",
    "#  Create our source Dask DataFrame from an array\n",
    "\n",
    "np_airports = np.array([\n",
    "       #\n",
    "   [\"MKE\", \"Milwaukee\"     , \"WI\", \"Airport\"],\n",
    "   [\"ORD\", \"Chicago O-Hare\", \"IL\", \"Airport\"],\n",
    "   [\"SJC\", \"San Jose\"      , \"CA\", \"Airport\"],\n",
    "   [\"LAX\", \"Los Angeles\"   , \"CA\", \"Airport\"],\n",
    "   [\"DEN\", \"Denver\"        , \"CO\", \"Airport\"],\n",
    "       #\n",
    "   ], dtype=\"str\")\n",
    "\n",
    "pd_airports = pd.DataFrame(np_airports, columns = [\"airport_code\", \"airport_name\", \"state_code\", \"LABEL\"])\n",
    "   #\n",
    "dd_airports = from_pandas(pd_airports, npartitions = NUM_PARTITIONS)\n",
    "\n",
    "\n",
    "for l_each in dd_airports.itertuples():\n",
    "   print(\"Airport:  %3s   %-18s   %-2s   %-10s\" % (l_each.airport_code, l_each.airport_name, l_each.state_code, l_each.LABEL))\n",
    "\n",
    "print(\"--\")\n",
    "\n",
    "#  Sample output,\n",
    "#\n",
    "#  Airport:  MKE   Milwaukee            WI   Airport   \n",
    "#  Airport:  ORD   Chicago O-Hare       IL   Airport   \n",
    "#  Airport:  SJC   San Jose             CA   Airport   \n",
    "#  Airport:  LAX   Los Angeles          CA   Airport   \n",
    "#  Airport:  DEN   Denver               CO   Airport  \n"
   ]
  },
  {
   "cell_type": "code",
   "execution_count": null,
   "id": "dea72023-5366-444e-8cdf-cdb280b75e2f",
   "metadata": {},
   "outputs": [],
   "source": [
    "\n",
    "#  How to add a new column\n",
    "\n",
    "dd_airports = dd_airports.assign(new_col=lambda x: \"AAA\")\n",
    "print(type(dd_airports))\n",
    "\n",
    "for l_each in dd_airports.itertuples():\n",
    "   print(l_each)\n"
   ]
  },
  {
   "cell_type": "code",
   "execution_count": null,
   "id": "21eefbcd-6343-4e9d-876d-e1f49714f70d",
   "metadata": {},
   "outputs": [],
   "source": [
    "\n",
    "#  How to add a new column, another approach\n",
    "\n",
    "dd_airports[\"col2_new\"] = dd_airports.airport_name.map(lambda x: x )\n",
    "\n",
    "for l_each in dd_airports.itertuples():\n",
    "   print(l_each)\n"
   ]
  },
  {
   "cell_type": "code",
   "execution_count": 7,
   "id": "9c858c02-d13b-4782-b5f2-c3af5fd0107e",
   "metadata": {},
   "outputs": [
    {
     "ename": "TypeError",
     "evalue": "Column assignment doesn't support type range",
     "output_type": "error",
     "traceback": [
      "\u001b[0;31m---------------------------------------------------------------------------\u001b[0m",
      "\u001b[0;31mTypeError\u001b[0m                                 Traceback (most recent call last)",
      "Cell \u001b[0;32mIn [7], line 7\u001b[0m\n\u001b[1;32m      1\u001b[0m \u001b[38;5;66;03m#  How to add a new column, another approach\u001b[39;00m\n\u001b[1;32m      2\u001b[0m \u001b[38;5;66;03m#\u001b[39;00m\n\u001b[1;32m      3\u001b[0m \u001b[38;5;66;03m#     Here we add our own counter column-\u001b[39;00m\n\u001b[1;32m      5\u001b[0m l_initial \u001b[38;5;241m=\u001b[39m \u001b[38;5;241m4000\u001b[39m \n\u001b[0;32m----> 7\u001b[0m \u001b[43mdd_airports\u001b[49m\u001b[43m[\u001b[49m\u001b[38;5;124;43m\"\u001b[39;49m\u001b[38;5;124;43mmy_index\u001b[39;49m\u001b[38;5;124;43m\"\u001b[39;49m\u001b[43m]\u001b[49m \u001b[38;5;241m=\u001b[39m \u001b[38;5;28mrange\u001b[39m(l_initial, \u001b[38;5;28mlen\u001b[39m(dd_airports) \u001b[38;5;241m+\u001b[39m l_initial)\n\u001b[1;32m      9\u001b[0m \u001b[38;5;28;01mfor\u001b[39;00m l_each \u001b[38;5;129;01min\u001b[39;00m dd_airports\u001b[38;5;241m.\u001b[39mitertuples():\n\u001b[1;32m     10\u001b[0m    \u001b[38;5;28mprint\u001b[39m(l_each)\n",
      "File \u001b[0;32m/opt/conda/lib/python3.8/site-packages/dask/dataframe/core.py:4521\u001b[0m, in \u001b[0;36mDataFrame.__setitem__\u001b[0;34m(self, key, value)\u001b[0m\n\u001b[1;32m   4519\u001b[0m     \u001b[38;5;28;01mraise\u001b[39;00m \u001b[38;5;167;01mNotImplementedError\u001b[39;00m(\u001b[38;5;124mf\u001b[39m\u001b[38;5;124m\"\u001b[39m\u001b[38;5;124mItem assignment with \u001b[39m\u001b[38;5;132;01m{\u001b[39;00m\u001b[38;5;28mtype\u001b[39m(key)\u001b[38;5;132;01m}\u001b[39;00m\u001b[38;5;124m not supported\u001b[39m\u001b[38;5;124m\"\u001b[39m)\n\u001b[1;32m   4520\u001b[0m \u001b[38;5;28;01melse\u001b[39;00m:\n\u001b[0;32m-> 4521\u001b[0m     df \u001b[38;5;241m=\u001b[39m \u001b[38;5;28;43mself\u001b[39;49m\u001b[38;5;241;43m.\u001b[39;49m\u001b[43massign\u001b[49m\u001b[43m(\u001b[49m\u001b[38;5;241;43m*\u001b[39;49m\u001b[38;5;241;43m*\u001b[39;49m\u001b[43m{\u001b[49m\u001b[43mkey\u001b[49m\u001b[43m:\u001b[49m\u001b[43m \u001b[49m\u001b[43mvalue\u001b[49m\u001b[43m}\u001b[49m\u001b[43m)\u001b[49m\n\u001b[1;32m   4523\u001b[0m \u001b[38;5;28mself\u001b[39m\u001b[38;5;241m.\u001b[39mdask \u001b[38;5;241m=\u001b[39m df\u001b[38;5;241m.\u001b[39mdask\n\u001b[1;32m   4524\u001b[0m \u001b[38;5;28mself\u001b[39m\u001b[38;5;241m.\u001b[39m_name \u001b[38;5;241m=\u001b[39m df\u001b[38;5;241m.\u001b[39m_name\n",
      "File \u001b[0;32m/opt/conda/lib/python3.8/site-packages/dask/dataframe/core.py:4939\u001b[0m, in \u001b[0;36mDataFrame.assign\u001b[0;34m(self, **kwargs)\u001b[0m\n\u001b[1;32m   4930\u001b[0m \u001b[38;5;28;01mfor\u001b[39;00m k, v \u001b[38;5;129;01min\u001b[39;00m kwargs\u001b[38;5;241m.\u001b[39mitems():\n\u001b[1;32m   4931\u001b[0m     \u001b[38;5;28;01mif\u001b[39;00m \u001b[38;5;129;01mnot\u001b[39;00m (\n\u001b[1;32m   4932\u001b[0m         \u001b[38;5;28misinstance\u001b[39m(v, Scalar)\n\u001b[1;32m   4933\u001b[0m         \u001b[38;5;129;01mor\u001b[39;00m is_series_like(v)\n\u001b[0;32m   (...)\u001b[0m\n\u001b[1;32m   4937\u001b[0m         \u001b[38;5;129;01mor\u001b[39;00m \u001b[38;5;28misinstance\u001b[39m(v, Array)\n\u001b[1;32m   4938\u001b[0m     ):\n\u001b[0;32m-> 4939\u001b[0m         \u001b[38;5;28;01mraise\u001b[39;00m \u001b[38;5;167;01mTypeError\u001b[39;00m(\n\u001b[1;32m   4940\u001b[0m             \u001b[38;5;124mf\u001b[39m\u001b[38;5;124m\"\u001b[39m\u001b[38;5;124mColumn assignment doesn\u001b[39m\u001b[38;5;124m'\u001b[39m\u001b[38;5;124mt support type \u001b[39m\u001b[38;5;132;01m{\u001b[39;00mtypename(\u001b[38;5;28mtype\u001b[39m(v))\u001b[38;5;132;01m}\u001b[39;00m\u001b[38;5;124m\"\u001b[39m\n\u001b[1;32m   4941\u001b[0m         )\n\u001b[1;32m   4942\u001b[0m     \u001b[38;5;28;01mif\u001b[39;00m callable(v):\n\u001b[1;32m   4943\u001b[0m         kwargs[k] \u001b[38;5;241m=\u001b[39m v(data)\n",
      "\u001b[0;31mTypeError\u001b[0m: Column assignment doesn't support type range"
     ]
    }
   ],
   "source": [
    "\n",
    "#  How to add a new column, another approach\n",
    "#\n",
    "#     Here we add our own counter column-\n",
    "\n",
    "l_initial = 4000 \n",
    "\n",
    "dd_airports[\"my_index\"] = range(l_initial, len(dd_airports) + l_initial)\n",
    "\n",
    "for l_each in dd_airports.itertuples():\n",
    "   print(l_each)\n"
   ]
  },
  {
   "cell_type": "code",
   "execution_count": null,
   "id": "39ef5211-98eb-48a6-9811-e8e6b96b8ed4",
   "metadata": {},
   "outputs": [],
   "source": [
    "\n",
    "#  How to drop a column\n",
    "\n",
    "dd_airports = dd_airports.drop(\"airport_name\", axis=1)\n",
    "print(type(dd_airports))\n",
    "\n",
    "for l_each in dd_airports.itertuples():\n",
    "   print(l_each)\n"
   ]
  },
  {
   "cell_type": "code",
   "execution_count": null,
   "id": "b138e654-5fe6-45e0-b5dc-8f7bcbdc729f",
   "metadata": {},
   "outputs": [],
   "source": [
    "\n",
    "#  Rename a column\n",
    "\n",
    "dd_airports = dd_airports.rename(columns={\"state_code\": \"STATE_CODE\", \"airport_code\": \"AIRPORT_CODE\"})\n",
    "\n",
    "for l_each in dd_airports.itertuples():\n",
    "   print(l_each)\n"
   ]
  },
  {
   "cell_type": "code",
   "execution_count": null,
   "id": "116f04e1-1398-43e6-8788-a62615d09956",
   "metadata": {},
   "outputs": [],
   "source": [
    "\n",
    "#  Change column data types\n",
    "\n",
    "#  First, add a new column is type str\n",
    "dd_airports = dd_airports.assign(new_col2=lambda x: \"20\")\n",
    "\n",
    "for l_each in dd_airports.itertuples():\n",
    "   display(print(\"Type of new_col2: %-32s  Data for new_col2: %s   New_Col: %s\" % (type(l_each.new_col2), l_each.new_col2, l_each.new_col) ))\n",
    "\n",
    "         \n",
    "dd_airports = dd_airports.assign(\n",
    "    \n",
    "   new_col3 = lambda x: x.new_col2.fillna(0.0).astype(int),\n",
    "   new_col  = lambda x: x.new_col.str.lower()\n",
    "   )\n",
    "\n",
    "\n",
    "print(\"\")\n",
    "   #\n",
    "for l_each in dd_airports.itertuples():\n",
    "   display(print(\"Type of new_col3: %-32s  Data for new_col3: %s   New_Col: %s\" % (type(l_each.new_col3), l_each.new_col3, l_each.new_col) ))\n",
    "\n",
    "\n",
    "print(\"--\")\n"
   ]
  }
 ],
 "metadata": {
  "kernelspec": {
   "display_name": "Python 3 (ipykernel)",
   "language": "python",
   "name": "python3"
  },
  "language_info": {
   "codemirror_mode": {
    "name": "ipython",
    "version": 3
   },
   "file_extension": ".py",
   "mimetype": "text/x-python",
   "name": "python",
   "nbconvert_exporter": "python",
   "pygments_lexer": "ipython3",
   "version": "3.8.13"
  }
 },
 "nbformat": 4,
 "nbformat_minor": 5
}
