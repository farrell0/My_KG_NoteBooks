{
 "cells": [
  {
   "cell_type": "code",
   "execution_count": 1,
   "id": "b7682060-fbd6-41a5-a43d-7c81f0982dc1",
   "metadata": {},
   "outputs": [
    {
     "data": {
      "text/html": [],
      "text/plain": [
       "<IPython.core.display.HTML object>"
      ]
     },
     "metadata": {},
     "output_type": "display_data"
    },
    {
     "name": "stdout",
     "output_type": "stream",
     "text": [
      "--\n"
     ]
    }
   ],
   "source": [
    "\n",
    "#  Setting display options \n",
    "\n",
    "import pandas as pd\n",
    "   #\n",
    "pd.set_option(\"display.width\", 480)\n",
    "\n",
    "#  Sets horizontal scroll for wide outputs\n",
    "#\n",
    "from IPython.display import display, HTML\n",
    "display(HTML(\"\"))\n",
    "\n",
    "from tabulate import tabulate\n",
    "\n",
    "print(\"--\")\n"
   ]
  },
  {
   "cell_type": "markdown",
   "id": "d3ebe820-bc6d-4948-b668-8b81cd3cbf29",
   "metadata": {
    "tags": []
   },
   "source": [
    "#  Setup stuff: Connectivity"
   ]
  },
  {
   "cell_type": "code",
   "execution_count": 2,
   "id": "1ea957d6-30c6-427a-ae4e-15ecfba0c4f9",
   "metadata": {},
   "outputs": [
    {
     "name": "stdout",
     "output_type": "stream",
     "text": [
      "<katana_enterprise.remote.sync_wrappers.Client object at 0x7fe9ce1b3c40>\n"
     ]
    }
   ],
   "source": [
    "\n",
    "from katana import remote\n",
    "from katana.remote import import_data\n",
    "\n",
    "my_client = remote.Client()\n",
    "\n",
    "print(my_client)\n"
   ]
  },
  {
   "cell_type": "code",
   "execution_count": 3,
   "id": "97571016-7c02-4e90-a75a-136a0dacd35f",
   "metadata": {},
   "outputs": [
    {
     "name": "stdout",
     "output_type": "stream",
     "text": [
      "--\n"
     ]
    }
   ],
   "source": [
    "\n",
    "NUM_PARTITIONS  = 3\n",
    "   #\n",
    "DB_NAME         = \"my_db\"\n",
    "GRAPH_NAME      = \"my_graph\"\n",
    "\n",
    "print(\"--\")\n"
   ]
  },
  {
   "cell_type": "code",
   "execution_count": 4,
   "id": "c5db6505-7fc8-4779-b194-9ed8945b9a90",
   "metadata": {},
   "outputs": [
    {
     "name": "stdout",
     "output_type": "stream",
     "text": [
      "<_Graph my_graph, DmHnBvw4CLEbBSD6u6Bs6zffdQeSL3qLwiBXAeoRgum7, 0>\n"
     ]
    }
   ],
   "source": [
    "\n",
    "#  CONNECT TO GRAPH\n",
    "\n",
    "my_graph, *_ = my_client.get_database(name=DB_NAME).find_graphs_by_name(GRAPH_NAME)\n",
    "\n",
    "print(my_graph)\n"
   ]
  },
  {
   "cell_type": "markdown",
   "id": "81126254-12b2-49df-8d36-50c55ad290c1",
   "metadata": {},
   "source": [
    "#  Betweeness algorithm"
   ]
  },
  {
   "cell_type": "code",
   "execution_count": null,
   "id": "6aa88702-afb3-4cc0-a5d7-00973e881c6a",
   "metadata": {},
   "outputs": [],
   "source": [
    "\n",
    "from katana.remote import analytics\n",
    "\n",
    "\n",
    "l_cntr = 20                                                #  Used to generate a unique column name\n",
    "   #\n",
    "print(\"--\")\n"
   ]
  },
  {
   "cell_type": "code",
   "execution_count": null,
   "id": "23067305-ffd0-41f0-abf0-1034beefd402",
   "metadata": {},
   "outputs": [],
   "source": [
    "\n",
    "#  We use this counter to generate a unique column name below \n",
    "#\n",
    "l_cntr += 1\n",
    "   #\n",
    "l_output_propname     = \"bf_\" + str(l_cntr).zfill(4)\n",
    "\n",
    "\n",
    "analytics.betweenness_centrality(\n",
    "   my_graph,\n",
    "      #\n",
    "   result_property_name = l_output_propname,\n",
    "      #\n",
    "   num_sources          = 100\n",
    "   )\n",
    "\n",
    "print(\"--\")\n"
   ]
  },
  {
   "cell_type": "code",
   "execution_count": 19,
   "id": "1eb36918-4184-4b30-b619-371f4d5c3280",
   "metadata": {},
   "outputs": [
    {
     "data": {
      "application/vnd.jupyter.widget-view+json": {
       "model_id": "b591cb9bac0343d785359e4f4554fa90",
       "version_major": 2,
       "version_minor": 0
      },
      "text/plain": [
       "          0/? [?op/s]"
      ]
     },
     "metadata": {},
     "output_type": "display_data"
    },
    {
     "data": {
      "application/vnd.jupyter.widget-view+json": {
       "model_id": "d43839579e724178a9723978bff176b9",
       "version_major": 2,
       "version_minor": 0
      },
      "text/plain": [
       "VBox(children=(HTML(value='\\n                <style>\\n                #jp-main-content-panel .widget-container…"
      ]
     },
     "metadata": {},
     "output_type": "display_data"
    }
   ],
   "source": [
    "\n",
    "l_output_propname     = \"bf_\" + str(l_cntr).zfill(4)\n",
    "\n",
    "l_query = \"\"\"\n",
    "\n",
    "   MATCH (n)\n",
    "   RETURN n.{0}, n.id\n",
    "   ORDER BY n.{0} DESC\n",
    "   LIMIT 10\n",
    "    \n",
    "    \"\"\".format(l_output_propname)\n",
    "\n",
    "\n",
    "l_result = my_graph.query(l_query)\n",
    "   #    \n",
    "l_result.view()\n",
    "\n",
    "\n",
    "#  Outputted data,\n",
    "#\n",
    "#  n.bf_0005   n.id\n",
    "#  21.0        I_103\n",
    "#  16.0        I_102\n",
    "#  12.0        I_101\n",
    "#  9.0         I_104\n",
    "#  6.5         O_107\n",
    "#  6.0         O_103\n",
    "#  4.5         O_106\n",
    "#  4.5         O_102\n",
    "#  3.5         O_105\n",
    "#  3.5         O_101\n",
    "\n"
   ]
  },
  {
   "cell_type": "markdown",
   "id": "a310b170-1869-46b8-b0ea-dc4d272b80b4",
   "metadata": {},
   "source": [
    "# Checking that result above\n"
   ]
  },
  {
   "cell_type": "code",
   "execution_count": null,
   "id": "18d6c24e-d439-4504-a57d-50c5e399ac30",
   "metadata": {},
   "outputs": [],
   "source": []
  },
  {
   "cell_type": "code",
   "execution_count": null,
   "id": "067334c4-fdd2-4af1-a4c9-c5cd7c30e4e8",
   "metadata": {},
   "outputs": [],
   "source": []
  },
  {
   "cell_type": "code",
   "execution_count": null,
   "id": "1a12550f-924a-4aeb-9aa8-cd498ff501bf",
   "metadata": {},
   "outputs": [],
   "source": []
  },
  {
   "cell_type": "code",
   "execution_count": null,
   "id": "0f9682e3-037a-4f44-842a-953d6b8e5313",
   "metadata": {},
   "outputs": [],
   "source": []
  },
  {
   "cell_type": "code",
   "execution_count": null,
   "id": "c70c556a-5781-49e4-b453-da6a03a28de9",
   "metadata": {},
   "outputs": [],
   "source": []
  }
 ],
 "metadata": {
  "kernelspec": {
   "display_name": "Python 3 (ipykernel)",
   "language": "python",
   "name": "python3"
  },
  "language_info": {
   "codemirror_mode": {
    "name": "ipython",
    "version": 3
   },
   "file_extension": ".py",
   "mimetype": "text/x-python",
   "name": "python",
   "nbconvert_exporter": "python",
   "pygments_lexer": "ipython3",
   "version": "3.8.13"
  }
 },
 "nbformat": 4,
 "nbformat_minor": 5
}
