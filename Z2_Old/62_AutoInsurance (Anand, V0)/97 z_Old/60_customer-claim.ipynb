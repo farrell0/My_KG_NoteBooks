{
 "cells": [
  {
   "cell_type": "markdown",
   "id": "8a290112-8b49-43ee-8bd8-46a41eddc212",
   "metadata": {
    "tags": []
   },
   "source": [
    "\n",
    "First make sure to run your ssh tunnel with:  \n",
    "GCP: \n",
    "  `gcloud compute ssh --zone us-east1-b --project katana-internal31 katana-controller -- -NL 8080:127.0.0.1:8080 -vvv`\n",
    "<br> <br>\n",
    "AWS: \n",
    "  `ssh -i ~/.ssh/id_rsa -N -L 8080:54.162.203.170:8080 ubuntu@54.162.203.170 -vvv` \n",
    "<br><br>  "
   ]
  },
  {
   "cell_type": "code",
   "execution_count": 1,
   "id": "d15210fc-ab82-4bd9-80f4-2f283d3cfaa4",
   "metadata": {},
   "outputs": [],
   "source": [
    "######## setup variables ##########\n",
    "gs_prefix=\"gs://anand-31-simple-files/customer-claims/customer-360\"\n",
    "#cluster_name=\"katana-internal31\"\n",
    "partitions = 5\n",
    "platform_prefix=gs_prefix"
   ]
  },
  {
   "cell_type": "code",
   "execution_count": 2,
   "id": "d54dec81-4ec2-4bbb-af34-294dc7894523",
   "metadata": {},
   "outputs": [],
   "source": [
    "import os                                                                        \n",
    "import time                                                                      \n",
    "import json\n",
    "import pandas as pd\n",
    "from timeit import default_timer as timer\n",
    "from katana.remote import aio, analytics, import_data, trace\n",
    "\n",
    "from katana import remote\n",
    "from katana.remote import import_data\n",
    "\n",
    "\n",
    "os.environ[\"KATANA_SERVER_ADDRESS\"] = \"host.docker.internal:8080\"\n",
    "\n",
    "pd.set_option('display.max_columns', None)\n",
    "pd.set_option(\"max_colwidth\", None)"
   ]
  },
  {
   "cell_type": "code",
   "execution_count": 3,
   "id": "ae5c18da-bd95-48c6-8705-dff778f73b05",
   "metadata": {},
   "outputs": [
    {
     "data": {
      "text/plain": [
       "'0.2.2.dev+qa.3.36.62f045.93916a'"
      ]
     },
     "execution_count": 3,
     "metadata": {},
     "output_type": "execute_result"
    }
   ],
   "source": [
    "rc=remote.Client()\n",
    "rc.server_version"
   ]
  },
  {
   "cell_type": "code",
   "execution_count": 4,
   "id": "f86ca9c2-ccda-4bc8-a593-fa4f5fa7bd23",
   "metadata": {},
   "outputs": [],
   "source": [
    "\n",
    "graph = rc.create_graph(\n",
    "    num_partitions=partitions,\n",
    "    name=\"customer-claims\"\n",
    ")"
   ]
  },
  {
   "cell_type": "code",
   "execution_count": 5,
   "id": "327d4ac7-e323-41e0-853a-b0ceecd40146",
   "metadata": {},
   "outputs": [
    {
     "data": {
      "text/plain": [
       "'C8hTX7gRueJhoDFMT8rGtrSJxQCebxdcTKwiWh9GnbnW'"
      ]
     },
     "execution_count": 5,
     "metadata": {},
     "output_type": "execute_result"
    }
   ],
   "source": [
    "graph.graph_id"
   ]
  },
  {
   "cell_type": "code",
   "execution_count": 6,
   "id": "b3fd0ff0-9855-42fe-8792-a1f1c198e648",
   "metadata": {},
   "outputs": [],
   "source": [
    "test_node_file = platform_prefix + \"/42_NodeHeader.txt\"\n",
    "test_edge_file = platform_prefix + \"/43_EdgeHeader.txt\"\n",
    "input_path=platform_prefix \n"
   ]
  },
  {
   "cell_type": "code",
   "execution_count": 7,
   "id": "1a80917a-8a9c-49ab-a2b8-cfe67210f9c9",
   "metadata": {},
   "outputs": [
    {
     "name": "stdout",
     "output_type": "stream",
     "text": [
      "Importing graph from CSV files...\n"
     ]
    },
    {
     "data": {
      "application/vnd.jupyter.widget-view+json": {
       "model_id": "4a8b65a0daf84f398d4473a90cb96d46",
       "version_major": 2,
       "version_minor": 0
      },
      "text/plain": [
       "          0/? [?op/s]"
      ]
     },
     "metadata": {},
     "output_type": "display_data"
    },
    {
     "name": "stdout",
     "output_type": "stream",
     "text": [
      "  import: 43.4 seconds\n"
     ]
    }
   ],
   "source": [
    "start = timer()\n",
    "print(\"Importing graph from CSV files...\")\n",
    "import_data.csv(\n",
    "    graph,\n",
    "    input_node_path=test_node_file,\n",
    "    input_edge_path=test_edge_file,\n",
    "    input_dir=input_path,\n",
    "#    have_headers=True,\n",
    "    data_delimiter=\"|\",\n",
    "    schema_delimiter=\"|\"\n",
    "    #partition_policy=\"random-oec\"\n",
    ")\n",
    "end = timer()\n",
    "print(f\"  import: {end - start:.1f} seconds\") "
   ]
  },
  {
   "cell_type": "code",
   "execution_count": 8,
   "id": "9d3fbc22-8652-4191-b175-7ecfe4feba95",
   "metadata": {},
   "outputs": [
    {
     "data": {
      "application/vnd.jupyter.widget-view+json": {
       "model_id": "01baa56c641340d69500eb8e349edb7b",
       "version_major": 2,
       "version_minor": 0
      },
      "text/plain": [
       "          0/? [?op/s]"
      ]
     },
     "metadata": {},
     "output_type": "display_data"
    },
    {
     "name": "stdout",
     "output_type": "stream",
     "text": [
      "CPU times: user 365 ms, sys: 129 ms, total: 493 ms\n",
      "Wall time: 7.51 s\n"
     ]
    },
    {
     "data": {
      "text/plain": [
       "2901419"
      ]
     },
     "execution_count": 8,
     "metadata": {},
     "output_type": "execute_result"
    }
   ],
   "source": [
    "%%time\n",
    "graph.num_nodes()"
   ]
  },
  {
   "cell_type": "markdown",
   "id": "c7bf652b-4c44-43cd-ade4-77aa161f07e9",
   "metadata": {},
   "source": [
    "<b> Import ends here: DATA LOADING COMPLETE </b>"
   ]
  },
  {
   "cell_type": "code",
   "execution_count": 51,
   "id": "7363d427-d064-4b28-a00d-f1c0e02772dd",
   "metadata": {},
   "outputs": [
    {
     "data": {
      "application/vnd.jupyter.widget-view+json": {
       "model_id": "bf1218bd6b974898b62952c5922e721e",
       "version_major": 2,
       "version_minor": 0
      },
      "text/plain": [
       "          0/? [?op/s]"
      ]
     },
     "metadata": {},
     "output_type": "display_data"
    },
    {
     "data": {
      "application/vnd.jupyter.widget-view+json": {
       "model_id": "0c20a11ebb664d8882c4ba8de777ebdb",
       "version_major": 2,
       "version_minor": 0
      },
      "text/plain": [
       "          0/? [?op/s]"
      ]
     },
     "metadata": {},
     "output_type": "display_data"
    },
    {
     "name": "stdout",
     "output_type": "stream",
     "text": [
      "CPU times: user 3.41 s, sys: 806 ms, total: 4.22 s\n",
      "Wall time: 28.3 s\n"
     ]
    },
    {
     "data": {
      "application/vnd.jupyter.widget-view+json": {
       "model_id": "5c2965f707544d068374333542c1329c",
       "version_major": 2,
       "version_minor": 0
      },
      "text/plain": [
       "VBox(children=(HTML(value='\\n                <style>\\n                #jp-main-content-panel .result_set_tab_w…"
      ]
     },
     "metadata": {},
     "output_type": "display_data"
    }
   ],
   "source": [
    "%%time\n",
    "#check transaction objects\n",
    "query1=\"\"\"\n",
    "        MATCH (p:Claimant)-[]->(c:Claim)\n",
    "        where p.id = 'C_8900'\n",
    "        RETURN p, c\n",
    "        \"\"\"\n",
    "result = graph.query(query1, contextualize=True)\n",
    "result.view()"
   ]
  },
  {
   "cell_type": "code",
   "execution_count": 24,
   "id": "4487a946-f572-487a-a43a-7b9daa6dcf3f",
   "metadata": {},
   "outputs": [
    {
     "data": {
      "application/vnd.jupyter.widget-view+json": {
       "model_id": "7b8a85753fac44d88766bb9ed8f4496c",
       "version_major": 2,
       "version_minor": 0
      },
      "text/plain": [
       "          0/? [?op/s]"
      ]
     },
     "metadata": {},
     "output_type": "display_data"
    },
    {
     "data": {
      "application/vnd.jupyter.widget-view+json": {
       "model_id": "bad06bc2a66c474dbd9be931a2bac3f0",
       "version_major": 2,
       "version_minor": 0
      },
      "text/plain": [
       "          0/? [?op/s]"
      ]
     },
     "metadata": {},
     "output_type": "display_data"
    },
    {
     "name": "stdout",
     "output_type": "stream",
     "text": [
      "CPU times: user 4.18 s, sys: 627 ms, total: 4.81 s\n",
      "Wall time: 38.8 s\n"
     ]
    },
    {
     "data": {
      "application/vnd.jupyter.widget-view+json": {
       "model_id": "c120027e269e4822b6ccc6c92338d16e",
       "version_major": 2,
       "version_minor": 0
      },
      "text/plain": [
       "VBox(children=(HTML(value='\\n                <style>\\n                #jp-main-content-panel .widget-container…"
      ]
     },
     "metadata": {},
     "output_type": "display_data"
    }
   ],
   "source": [
    "%%time\n",
    "#check transaction objects\n",
    "query1=\"\"\"\n",
    "        MATCH (l:Location)<-[]-(p:Provider)<-[]-(m:Mbr)\n",
    "        where l.id = 'AL_0'\n",
    "        with l,p,m\n",
    "        MATCH (m)-[]->(po:Policy)-[]->(a:Agent)-[]->(l:Location)\n",
    "        RETURN l,p, m, po, a\n",
    "        \"\"\"\n",
    "result = graph.query(query1, contextualize=True)\n",
    "result.view()"
   ]
  },
  {
   "cell_type": "code",
   "execution_count": 17,
   "id": "97fd2a40-09c6-4551-ada3-5a68f26a3cc9",
   "metadata": {},
   "outputs": [
    {
     "data": {
      "application/vnd.jupyter.widget-view+json": {
       "model_id": "83d2e14a36394bbf8dfc9366f17500ab",
       "version_major": 2,
       "version_minor": 0
      },
      "text/plain": [
       "          0/? [?op/s]"
      ]
     },
     "metadata": {},
     "output_type": "display_data"
    },
    {
     "name": "stdout",
     "output_type": "stream",
     "text": [
      "CPU times: user 942 ms, sys: 152 ms, total: 1.09 s\n",
      "Wall time: 16 s\n"
     ]
    },
    {
     "data": {
      "application/vnd.jupyter.widget-view+json": {
       "model_id": "0481b3f8f6c44bd8989fa9546fdd2f46",
       "version_major": 2,
       "version_minor": 0
      },
      "text/plain": [
       "VBox(children=(HTML(value='\\n                <style>\\n                #jp-main-content-panel .widget-container…"
      ]
     },
     "metadata": {},
     "output_type": "display_data"
    }
   ],
   "source": [
    "%%time\n",
    "#check transaction objects\n",
    "query1=\"\"\"\n",
    "        MATCH (l:Location)<-[]-(p:Provider)<-[]-(m:Mbr)\n",
    "        where l.id = 'AL_0'\n",
    "        with l,p,m\n",
    "        MATCH (m:Mbr)-[]->(po:Policy)-[]->(a:Agent)-[]->(l:Location)\n",
    "        with m, l\n",
    "        create (m)<-[:POLICY_SOURCED_FOR]-(l)\n",
    "        return m\n",
    "        \"\"\"\n",
    "result = graph.query(query1)\n",
    "result.view()"
   ]
  },
  {
   "cell_type": "code",
   "execution_count": null,
   "id": "e7f7c605-0eed-4962-afe9-59f5a892e4e9",
   "metadata": {},
   "outputs": [],
   "source": [
    "%%time\n",
    "#check transaction objects\n",
    "query1=\"\"\"\n",
    "        MATCH (l:Location)-[]-(m:Mbr)\n",
    "        where l.id = 'AL_0'\n",
    "        with l,m\n",
    "        MATCH (l)-[]-(p:Provider)\n",
    "        RETURN l,p, m\n",
    "        \"\"\"\n",
    "result = graph.query(query1, contextualize=True)\n",
    "result.view()"
   ]
  },
  {
   "cell_type": "markdown",
   "id": "e3bdf926-da6b-43d5-a961-50686585af9f",
   "metadata": {},
   "source": [
    "## Triangle count"
   ]
  },
  {
   "cell_type": "code",
   "execution_count": 18,
   "id": "c5de4419-98b7-44c2-b537-fcf0e6532280",
   "metadata": {},
   "outputs": [
    {
     "data": {
      "application/vnd.jupyter.widget-view+json": {
       "model_id": "f6cbe0257d224dd59732bb30f473ea2d",
       "version_major": 2,
       "version_minor": 0
      },
      "text/plain": [
       "          0/? [?op/s]"
      ]
     },
     "metadata": {},
     "output_type": "display_data"
    }
   ],
   "source": [
    "from katana.remote.analytics import louvain_clustering\n",
    "louvain_clustering(graph, 'lv')"
   ]
  },
  {
   "cell_type": "code",
   "execution_count": 10,
   "id": "135bd493-150c-4321-b257-3bf75fbf330c",
   "metadata": {},
   "outputs": [
    {
     "data": {
      "application/vnd.jupyter.widget-view+json": {
       "model_id": "37f5f2644d824caa9a5a75ddfae2c5b9",
       "version_major": 2,
       "version_minor": 0
      },
      "text/plain": [
       "          0/? [?op/s]"
      ]
     },
     "metadata": {},
     "output_type": "display_data"
    },
    {
     "data": {
      "text/html": [
       "<div>\n",
       "<style scoped>\n",
       "    .dataframe tbody tr th:only-of-type {\n",
       "        vertical-align: middle;\n",
       "    }\n",
       "\n",
       "    .dataframe tbody tr th {\n",
       "        vertical-align: top;\n",
       "    }\n",
       "\n",
       "    .dataframe thead th {\n",
       "        text-align: right;\n",
       "    }\n",
       "</style>\n",
       "<table border=\"1\" class=\"dataframe\">\n",
       "  <thead>\n",
       "    <tr style=\"text-align: right;\">\n",
       "      <th></th>\n",
       "      <th>num_triangles</th>\n",
       "    </tr>\n",
       "  </thead>\n",
       "  <tbody>\n",
       "    <tr>\n",
       "      <th>0</th>\n",
       "      <td>0</td>\n",
       "    </tr>\n",
       "  </tbody>\n",
       "</table>\n",
       "</div>"
      ],
      "text/plain": [
       "   num_triangles\n",
       "0              0"
      ]
     },
     "execution_count": 10,
     "metadata": {},
     "output_type": "execute_result"
    }
   ],
   "source": [
    "from katana.remote.analytics import triangle_count\n",
    "tc = triangle_count(graph)\n",
    "tc"
   ]
  },
  {
   "cell_type": "markdown",
   "id": "4041e7db-2309-4ab9-ad86-90ba5db07686",
   "metadata": {},
   "source": [
    "### Duplicate Detection and Tagging"
   ]
  },
  {
   "cell_type": "markdown",
   "id": "26587584-4650-4000-9a7b-51eefa283071",
   "metadata": {},
   "source": [
    "## C_8900 has an abnormally large amount of claims pending"
   ]
  },
  {
   "cell_type": "code",
   "execution_count": 9,
   "id": "f7792376-77f8-44ef-906d-7b97dc00c695",
   "metadata": {},
   "outputs": [
    {
     "data": {
      "application/vnd.jupyter.widget-view+json": {
       "model_id": "264d9197d4bb46bba6f0f85e2ea8afe8",
       "version_major": 2,
       "version_minor": 0
      },
      "text/plain": [
       "          0/? [?op/s]"
      ]
     },
     "metadata": {},
     "output_type": "display_data"
    },
    {
     "name": "stdout",
     "output_type": "stream",
     "text": [
      "CPU times: user 2.42 s, sys: 513 ms, total: 2.94 s\n",
      "Wall time: 12.7 s\n"
     ]
    },
    {
     "data": {
      "application/vnd.jupyter.widget-view+json": {
       "model_id": "ca1864581a674ed7819b5171b80c4b95",
       "version_major": 2,
       "version_minor": 0
      },
      "text/plain": [
       "VBox(children=(HTML(value='\\n                <style>\\n                #jp-main-content-panel .result_set_tab_w…"
      ]
     },
     "metadata": {},
     "output_type": "display_data"
    }
   ],
   "source": [
    "%%time\n",
    "#check transaction objects\n",
    "query1=\"\"\"\n",
    "        MATCH (p:Claimant)-[]-(c:Claim)<-[]-(p2:Claimant)\n",
    "        where p.id = 'C_8900'\n",
    "        RETURN distinct(p2) order by p2.firstname\n",
    "        \"\"\"\n",
    "result = graph.query(query1)\n",
    "result.view()"
   ]
  },
  {
   "cell_type": "code",
   "execution_count": 10,
   "id": "71ad4c64-be69-4cac-91dc-baf512e20974",
   "metadata": {},
   "outputs": [],
   "source": [
    "candidates = []\n",
    "for e in result.iterrows():\n",
    "    candidate = dict()\n",
    "    candidate['firstname'] = e[1]['p2.firstname']\n",
    "    candidate['lastname'] = e[1]['p2.lastname']\n",
    "    candidate['id'] = e[1]['p2.id']\n",
    "    candidates.append(candidate)"
   ]
  },
  {
   "cell_type": "code",
   "execution_count": 11,
   "id": "271fa677-cfaf-4ee2-9cf1-c41e746dac3c",
   "metadata": {},
   "outputs": [
    {
     "data": {
      "text/plain": [
       "[{'firstname': 'Abigail', 'lastname': 'Williams', 'id': 'C_32300'},\n",
       " {'firstname': 'Adam', 'lastname': 'Lamb', 'id': 'C_334800'},\n",
       " {'firstname': 'Alexandria', 'lastname': 'Walker', 'id': 'C_12200'},\n",
       " {'firstname': 'Amber', 'lastname': 'Robinson', 'id': 'C_216400'},\n",
       " {'firstname': 'Amber', 'lastname': 'Robison', 'id': 'C_106500'},\n",
       " {'firstname': 'Angela', 'lastname': 'Joseph', 'id': 'C_459800'},\n",
       " {'firstname': 'Anita', 'lastname': 'Barber', 'id': 'C_276000'},\n",
       " {'firstname': 'Anna', 'lastname': 'Collins', 'id': 'C_319700'},\n",
       " {'firstname': 'Ashley', 'lastname': 'Hayden', 'id': 'C_476000'},\n",
       " {'firstname': 'Barbara', 'lastname': 'Adkins', 'id': 'C_108500'},\n",
       " {'firstname': 'Bonnie', 'lastname': 'Palmer', 'id': 'C_77900'},\n",
       " {'firstname': 'Brandon', 'lastname': 'Holden', 'id': 'C_435400'},\n",
       " {'firstname': 'Brittany', 'lastname': 'Sharp', 'id': 'C_465900'},\n",
       " {'firstname': 'Catherine', 'lastname': 'White', 'id': 'C_346100'},\n",
       " {'firstname': 'Cheryl', 'lastname': 'Lowery', 'id': 'C_336800'},\n",
       " {'firstname': 'Christina', 'lastname': 'Gordon', 'id': 'C_290700'},\n",
       " {'firstname': 'Daniel', 'lastname': 'William', 'id': 'C_312900'},\n",
       " {'firstname': 'Daniel', 'lastname': 'Williams', 'id': 'C_84200'},\n",
       " {'firstname': 'Danielle', 'lastname': 'Wheeler', 'id': 'C_397000'},\n",
       " {'firstname': 'David', 'lastname': 'Lopez', 'id': 'C_441400'},\n",
       " {'firstname': 'Denise', 'lastname': 'Smith', 'id': 'C_212800'},\n",
       " {'firstname': 'Derek', 'lastname': 'Duncan', 'id': 'C_195300'},\n",
       " {'firstname': 'Donna', 'lastname': 'Thompson', 'id': 'C_298300'},\n",
       " {'firstname': 'Dwayne', 'lastname': 'Myers', 'id': 'C_318900'},\n",
       " {'firstname': 'Elizabeth', 'lastname': 'Baker', 'id': 'C_48200'},\n",
       " {'firstname': 'Emily', 'lastname': 'Kelly', 'id': 'C_417200'},\n",
       " {'firstname': 'Eric', 'lastname': 'Hansen', 'id': 'C_313600'},\n",
       " {'firstname': 'Hannah', 'lastname': 'Williams', 'id': 'C_58100'},\n",
       " {'firstname': 'James', 'lastname': 'Lawrence', 'id': 'C_10800'},\n",
       " {'firstname': 'James', 'lastname': 'Johnson', 'id': 'C_259900'},\n",
       " {'firstname': 'Jane', 'lastname': 'Harris', 'id': 'C_403800'},\n",
       " {'firstname': 'Jeffrey', 'lastname': 'Jordan', 'id': 'C_325700'},\n",
       " {'firstname': 'Jennifer', 'lastname': 'Campbell', 'id': 'C_40800'},\n",
       " {'firstname': 'Jeremiah', 'lastname': 'Gonzalez', 'id': 'C_196000'},\n",
       " {'firstname': 'Joe', 'lastname': 'Kline', 'id': 'C_247300'},\n",
       " {'firstname': 'John', 'lastname': 'Lynch', 'id': 'C_196300'},\n",
       " {'firstname': 'Joshua', 'lastname': 'Burch', 'id': 'C_432600'},\n",
       " {'firstname': 'Karen', 'lastname': 'Jones', 'id': 'C_236100'},\n",
       " {'firstname': 'Karen', 'lastname': 'Jonez', 'id': 'C_16800'},\n",
       " {'firstname': 'Katelyn', 'lastname': 'Middleton', 'id': 'C_111600'},\n",
       " {'firstname': 'Kimberly', 'lastname': 'Lewis', 'id': 'C_312500'},\n",
       " {'firstname': 'Kimberly', 'lastname': 'Pearson', 'id': 'C_264300'},\n",
       " {'firstname': 'Kristin', 'lastname': 'Lawrence', 'id': 'C_73500'},\n",
       " {'firstname': 'Kristina', 'lastname': 'Alexander', 'id': 'C_418200'},\n",
       " {'firstname': 'Kyle', 'lastname': 'Chambers', 'id': 'C_380100'},\n",
       " {'firstname': 'Lauren', 'lastname': 'Miller', 'id': 'C_288400'},\n",
       " {'firstname': 'Lee', 'lastname': 'Clark', 'id': 'C_398300'},\n",
       " {'firstname': 'Leslie', 'lastname': 'Gonzalez', 'id': 'C_415300'},\n",
       " {'firstname': 'Mark', 'lastname': 'Gill', 'id': 'C_176400'},\n",
       " {'firstname': 'Martha', 'lastname': 'Pope', 'id': 'C_307700'},\n",
       " {'firstname': 'Mary', 'lastname': 'Riley', 'id': 'C_415400'},\n",
       " {'firstname': 'Michael', 'lastname': 'Cortez', 'id': 'C_177500'},\n",
       " {'firstname': 'Michael', 'lastname': 'Davis', 'id': 'C_378800'},\n",
       " {'firstname': 'Miranda', 'lastname': 'Cherry', 'id': 'C_100200'},\n",
       " {'firstname': 'Monica', 'lastname': 'Norton', 'id': 'C_432500'},\n",
       " {'firstname': 'Nancy', 'lastname': 'George', 'id': 'C_278700'},\n",
       " {'firstname': 'Nicole', 'lastname': 'Smith', 'id': 'C_74800'},\n",
       " {'firstname': 'Patricia', 'lastname': 'Aguirre', 'id': 'C_248500'},\n",
       " {'firstname': 'Patrick', 'lastname': 'Johnson', 'id': 'C_299800'},\n",
       " {'firstname': 'Patrick', 'lastname': 'Black', 'id': 'C_120500'},\n",
       " {'firstname': 'Patrick', 'lastname': 'Foster', 'id': 'C_429900'},\n",
       " {'firstname': 'Paul', 'lastname': 'Gray', 'id': 'C_0'},\n",
       " {'firstname': 'Randall', 'lastname': 'Dominguez', 'id': 'C_244700'},\n",
       " {'firstname': 'Raymond', 'lastname': 'Fitzgerald', 'id': 'C_189100'},\n",
       " {'firstname': 'Robert', 'lastname': 'Johnson', 'id': 'C_438800'},\n",
       " {'firstname': 'Russell', 'lastname': 'Vargas', 'id': 'C_259000'},\n",
       " {'firstname': 'Sandra', 'lastname': 'Miller', 'id': 'C_67500'},\n",
       " {'firstname': 'Sara', 'lastname': 'Burton', 'id': 'C_49100'},\n",
       " {'firstname': 'Sean', 'lastname': 'Jackson', 'id': 'C_8300'},\n",
       " {'firstname': 'Shawn', 'lastname': 'Patterson', 'id': 'C_27800'},\n",
       " {'firstname': 'Stacey', 'lastname': 'Black', 'id': 'C_39000'},\n",
       " {'firstname': 'Steven', 'lastname': 'Howard', 'id': 'C_74400'},\n",
       " {'firstname': 'Susan', 'lastname': 'Perry', 'id': 'C_99700'},\n",
       " {'firstname': 'Sydney', 'lastname': 'Branch', 'id': 'C_220700'},\n",
       " {'firstname': 'Tracy', 'lastname': 'Ward', 'id': 'C_304400'},\n",
       " {'firstname': 'Trevor', 'lastname': 'Obrien', 'id': 'C_123300'},\n",
       " {'firstname': 'Victor', 'lastname': 'Norton', 'id': 'C_78600'}]"
      ]
     },
     "execution_count": 11,
     "metadata": {},
     "output_type": "execute_result"
    }
   ],
   "source": [
    "candidates"
   ]
  },
  {
   "cell_type": "code",
   "execution_count": 12,
   "id": "2415a877-dda5-46a5-a013-15a7445b1ad7",
   "metadata": {},
   "outputs": [
    {
     "data": {
      "text/plain": [
       "0.9655172413793104"
      ]
     },
     "execution_count": 12,
     "metadata": {},
     "output_type": "execute_result"
    }
   ],
   "source": [
    "import difflib\n",
    "par1 = 'Daniel Williams'\n",
    "par2 = 'Daniel William'\n",
    "score = difflib.SequenceMatcher(None, par1, par2).ratio()\n",
    "score"
   ]
  },
  {
   "cell_type": "code",
   "execution_count": 13,
   "id": "9f424b06-2316-4256-8b31-cba6f20bb17e",
   "metadata": {},
   "outputs": [
    {
     "data": {
      "application/vnd.jupyter.widget-view+json": {
       "model_id": "2823f927090b491aa1c1e511ea694762",
       "version_major": 2,
       "version_minor": 0
      },
      "text/plain": [
       "          0/? [?op/s]"
      ]
     },
     "metadata": {},
     "output_type": "display_data"
    },
    {
     "name": "stdout",
     "output_type": "stream",
     "text": [
      "Finding duplicates\n",
      "katana-compute-1\n",
      "578842 2901419\n",
      "Last position of candidates to compare 76\n",
      "duplicates C_312900 C_84200\n",
      "processing complete for node katana-compute-1\n",
      "last position compared 76\n",
      "finished writing duplicates\n"
     ]
    }
   ],
   "source": [
    "def write_duplicates(graph, candidates):\n",
    "    import csv\n",
    "    import difflib\n",
    "    print(\"Finding duplicates\")\n",
    "    import socket\n",
    "    print(socket.gethostname())\n",
    "    print(graph.num_master_nodes(), graph.num_global_nodes())\n",
    "    \n",
    "    pos = int(socket.gethostname().replace('katana-compute-',''))\n",
    "    lastIndex = len(candidates) - 1\n",
    "    print('Last position of candidates to compare', lastIndex)\n",
    "    duplicates=[]\n",
    "    while pos < lastIndex:\n",
    "        nameOfSource = candidates[pos]['firstname'] + candidates[pos]['lastname']\n",
    "        idOfSource = candidates[pos]['id']\n",
    "        looper = 0\n",
    "        while looper < lastIndex:\n",
    "            idOfTarget = candidates[looper]['id']\n",
    "            if idOfSource == idOfTarget:\n",
    "                looper = looper + 1\n",
    "                continue\n",
    "            nameOfTarget = candidates[looper]['firstname'] + candidates[looper]['lastname']\n",
    "            score = difflib.SequenceMatcher(None, nameOfSource, nameOfTarget).ratio()\n",
    "            if(score > 0.8):\n",
    "                print('duplicates', idOfSource, idOfTarget)\n",
    "                duplicate = dict()\n",
    "                duplicate['idOfSource'] = idOfSource\n",
    "                duplicate['idOfTarget'] = idOfTarget\n",
    "                duplicates.append(duplicate)\n",
    "            looper = looper + 1\n",
    "        pos = pos + 5\n",
    "    print('processing complete for node', socket.gethostname())\n",
    "    print('last position compared', pos)\n",
    "    \n",
    "    outFileName = '/tmp/dups-1.csv'\n",
    "    fields = ['idOfSource', 'idOfTarget']\n",
    "    with open(outFileName, 'w') as csvfile:\n",
    "        writer = csv.DictWriter(csvfile, fieldnames=fields, delimiter='|')\n",
    "        writer.writeheader()\n",
    "        if (len(duplicates) > 0): \n",
    "            writer.writerows(duplicates)\n",
    "    print('finished writing duplicates')\n",
    "    \n",
    "#graph.run(lambda g: dist_count(g, 'argument1', 'argument2', 'argument3'))\n",
    "#candidates = ['argument1', 'argument2', 'argument3','argument4', 'argument5']\n",
    "graph.run(lambda g: write_duplicates(g, candidates))\n"
   ]
  },
  {
   "cell_type": "code",
   "execution_count": 15,
   "id": "e302566c-e273-4963-b3bf-61459998e25f",
   "metadata": {},
   "outputs": [
    {
     "data": {
      "text/plain": [
       "3"
      ]
     },
     "execution_count": 15,
     "metadata": {},
     "output_type": "execute_result"
    }
   ],
   "source": [
    "duplicates = []\n",
    "duplicates.append(['C_312900','C_84200'])\n",
    "duplicates.append(['C_236100','C_16800'])\n",
    "duplicates.append(['C_106500','C_216400'])\n",
    "len(duplicates)"
   ]
  },
  {
   "cell_type": "code",
   "execution_count": 16,
   "id": "01347445-08be-43e7-b8d3-fd4c045531a5",
   "metadata": {},
   "outputs": [
    {
     "name": "stdout",
     "output_type": "stream",
     "text": [
      "\n",
      "        MATCH (p1:Claimant),(p2:Claimant)\n",
      "        where p1.id = 'C_312900'\n",
      "          and p2.id = 'C_84200'\n",
      "        with p1, p2\n",
      "        create (p1)-[:isDuplicatedBy]->(p2)\n",
      "        RETURN p1, p2\n",
      "        \n"
     ]
    },
    {
     "data": {
      "application/vnd.jupyter.widget-view+json": {
       "model_id": "13ad641cf28b4d948367e4f10160c3ae",
       "version_major": 2,
       "version_minor": 0
      },
      "text/plain": [
       "          0/? [?op/s]"
      ]
     },
     "metadata": {},
     "output_type": "display_data"
    },
    {
     "name": "stdout",
     "output_type": "stream",
     "text": [
      "\n",
      "        MATCH (p1:Claimant),(p2:Claimant)\n",
      "        where p1.id = 'C_236100'\n",
      "          and p2.id = 'C_16800'\n",
      "        with p1, p2\n",
      "        create (p1)-[:isDuplicatedBy]->(p2)\n",
      "        RETURN p1, p2\n",
      "        \n"
     ]
    },
    {
     "data": {
      "application/vnd.jupyter.widget-view+json": {
       "model_id": "4abcb5a0b4214ead9b871760ae57ca59",
       "version_major": 2,
       "version_minor": 0
      },
      "text/plain": [
       "          0/? [?op/s]"
      ]
     },
     "metadata": {},
     "output_type": "display_data"
    },
    {
     "name": "stdout",
     "output_type": "stream",
     "text": [
      "\n",
      "        MATCH (p1:Claimant),(p2:Claimant)\n",
      "        where p1.id = 'C_106500'\n",
      "          and p2.id = 'C_216400'\n",
      "        with p1, p2\n",
      "        create (p1)-[:isDuplicatedBy]->(p2)\n",
      "        RETURN p1, p2\n",
      "        \n"
     ]
    },
    {
     "data": {
      "application/vnd.jupyter.widget-view+json": {
       "model_id": "d2a85d90528f4ad08c550e1e20d05c60",
       "version_major": 2,
       "version_minor": 0
      },
      "text/plain": [
       "          0/? [?op/s]"
      ]
     },
     "metadata": {},
     "output_type": "display_data"
    },
    {
     "name": "stdout",
     "output_type": "stream",
     "text": [
      "CPU times: user 8.18 s, sys: 2.45 s, total: 10.6 s\n",
      "Wall time: 59 s\n"
     ]
    }
   ],
   "source": [
    "%%time\n",
    "for duplicate in duplicates:\n",
    "    query1=\"\"\"\n",
    "        MATCH (p1:Claimant),(p2:Claimant)\n",
    "        where p1.id = '_d1_'\n",
    "          and p2.id = '_d2_'\n",
    "        with p1, p2\n",
    "        create (p1)-[:isDuplicatedBy]->(p2)\n",
    "        RETURN p1, p2\n",
    "        \"\"\"\n",
    "    query1 = query1.replace('_d1_', duplicate[0])\n",
    "    query1 = query1.replace('_d2_', duplicate[1])\n",
    "    print(query1)\n",
    "    result = graph.query(query1)\n"
   ]
  },
  {
   "cell_type": "code",
   "execution_count": 17,
   "id": "aa648a91-6551-4ddd-b331-1763280af2d7",
   "metadata": {},
   "outputs": [
    {
     "data": {
      "application/vnd.jupyter.widget-view+json": {
       "model_id": "fed310f0b5e248238fa3b874f8e561cc",
       "version_major": 2,
       "version_minor": 0
      },
      "text/plain": [
       "          0/? [?op/s]"
      ]
     },
     "metadata": {},
     "output_type": "display_data"
    },
    {
     "data": {
      "application/vnd.jupyter.widget-view+json": {
       "model_id": "900992cf352c4440be850f685f98b9d1",
       "version_major": 2,
       "version_minor": 0
      },
      "text/plain": [
       "          0/? [?op/s]"
      ]
     },
     "metadata": {},
     "output_type": "display_data"
    },
    {
     "name": "stdout",
     "output_type": "stream",
     "text": [
      "CPU times: user 3.29 s, sys: 1.03 s, total: 4.31 s\n",
      "Wall time: 35.7 s\n"
     ]
    },
    {
     "data": {
      "application/vnd.jupyter.widget-view+json": {
       "model_id": "c6459a388ddc41258f510ca70324f57d",
       "version_major": 2,
       "version_minor": 0
      },
      "text/plain": [
       "VBox(children=(HTML(value='\\n                <style>\\n                #jp-main-content-panel .result_set_tab_w…"
      ]
     },
     "metadata": {},
     "output_type": "display_data"
    }
   ],
   "source": [
    "%%time\n",
    "#check transaction objects\n",
    "query1=\"\"\"\n",
    "        MATCH (p1:Claimant)-[:isDuplicatedBy]->(p2:Claimant)\n",
    "        RETURN p1, p2\n",
    "        \"\"\"\n",
    "result = graph.query(query1, contextualize=True)\n",
    "result.view()"
   ]
  },
  {
   "cell_type": "code",
   "execution_count": null,
   "id": "071eec9d-5bca-4f7d-a598-a69374b0f520",
   "metadata": {},
   "outputs": [],
   "source": []
  }
 ],
 "metadata": {
  "kernelspec": {
   "display_name": "Python 3 (ipykernel)",
   "language": "python",
   "name": "python3"
  },
  "language_info": {
   "codemirror_mode": {
    "name": "ipython",
    "version": 3
   },
   "file_extension": ".py",
   "mimetype": "text/x-python",
   "name": "python",
   "nbconvert_exporter": "python",
   "pygments_lexer": "ipython3",
   "version": "3.8.13"
  }
 },
 "nbformat": 4,
 "nbformat_minor": 5
}
