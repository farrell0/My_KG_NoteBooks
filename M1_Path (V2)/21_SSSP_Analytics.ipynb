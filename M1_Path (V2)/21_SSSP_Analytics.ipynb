{
 "cells": [
  {
   "cell_type": "markdown",
   "id": "fcb5bbbb-6a57-4388-aa7d-4a2413522df2",
   "metadata": {
    "tags": []
   },
   "source": [
    "#  Setup stuff: Connectivity"
   ]
  },
  {
   "cell_type": "code",
   "execution_count": null,
   "id": "aeeb0934-8e74-4a82-97e8-c671c4080769",
   "metadata": {},
   "outputs": [],
   "source": [
    "#  From,\n",
    "#\n",
    "#     https://github.com/KatanaGraph/katana-enterprise/blob/master/python/test/notebooks/red/analytics_remote.ipynb\n"
   ]
  },
  {
   "cell_type": "code",
   "execution_count": 2,
   "id": "55e90465-e651-45c0-94b2-1ce2cde47977",
   "metadata": {},
   "outputs": [
    {
     "name": "stdout",
     "output_type": "stream",
     "text": [
      "<katana_enterprise.remote.sync_wrappers.Client object at 0x7f9eeac8d760>\n"
     ]
    }
   ],
   "source": [
    "\n",
    "from katana import remote\n",
    "\n",
    "my_client = remote.Client()\n",
    "\n",
    "print(my_client)\n"
   ]
  },
  {
   "cell_type": "code",
   "execution_count": 3,
   "id": "04b19ed9-0238-4a6f-afd0-fa11a3b0328b",
   "metadata": {},
   "outputs": [
    {
     "name": "stdout",
     "output_type": "stream",
     "text": [
      "--\n"
     ]
    }
   ],
   "source": [
    "NUM_PARTITIONS  = 3\n",
    "   #\n",
    "DB_NAME         = \"my_db\"\n",
    "GRAPH_NAME      = \"my_graph\"\n",
    "\n",
    "print(\"--\")\n"
   ]
  },
  {
   "cell_type": "code",
   "execution_count": 4,
   "id": "60449360-363a-48ae-bd55-9527b880e3e5",
   "metadata": {},
   "outputs": [
    {
     "name": "stdout",
     "output_type": "stream",
     "text": [
      "<_Graph my_graph, Hfsb7j6DuhtaopxcqgJtLLu2Wmai4H2xLFijnftWC25b, 0>\n"
     ]
    }
   ],
   "source": [
    "#  CONNECT TO GRAPH\n",
    "\n",
    "for l_graph in my_client.get_database(name=DB_NAME).graphs_in_database():\n",
    "   if (l_graph.name == GRAPH_NAME):\n",
    "      my_graph=my_client.get_database(name=DB_NAME).get_graph_by_id(id=l_graph.graph_id)\n",
    "         #\n",
    "      break\n",
    "\n",
    "print(my_graph)"
   ]
  },
  {
   "cell_type": "markdown",
   "id": "6b618690-f0b6-4701-9405-5c58574c1094",
   "metadata": {
    "tags": []
   },
   "source": [
    "#  Setup stuff: Debugging "
   ]
  },
  {
   "cell_type": "code",
   "execution_count": null,
   "id": "e23fc0d3-235c-435a-81ee-1bdf2353edc4",
   "metadata": {},
   "outputs": [],
   "source": [
    "#  LIST ALL GRAPHS\n",
    "\n",
    "for l_graph in my_client.graphs():\n",
    "   print(\"GRAPH ID: \", l_graph.graph_id, \"     DB GRAPH: \", l_graph.name, \"    GRAPH VERSION: \", l_graph.version)\n",
    "\n",
    "print(\"--\")\n"
   ]
  },
  {
   "cell_type": "code",
   "execution_count": 5,
   "id": "d65b60c1-9e2a-42bd-a12a-2b81ea6e80c1",
   "metadata": {},
   "outputs": [
    {
     "data": {
      "application/vnd.jupyter.widget-view+json": {
       "model_id": "0a73e45ff3b34400beea8430d4658f50",
       "version_major": 2,
       "version_minor": 0
      },
      "text/plain": [
       "          0/? [?op/s]"
      ]
     },
     "metadata": {},
     "output_type": "display_data"
    },
    {
     "data": {
      "text/plain": [
       "4"
      ]
     },
     "metadata": {},
     "output_type": "display_data"
    },
    {
     "data": {
      "application/vnd.jupyter.widget-view+json": {
       "model_id": "e3ebbf4f83bc475e9c8c245d8015d7f7",
       "version_major": 2,
       "version_minor": 0
      },
      "text/plain": [
       "          0/? [?op/s]"
      ]
     },
     "metadata": {},
     "output_type": "display_data"
    },
    {
     "data": {
      "text/plain": [
       "7"
      ]
     },
     "metadata": {},
     "output_type": "display_data"
    }
   ],
   "source": [
    "display(my_graph.num_nodes())\n",
    "display(my_graph.num_edges())"
   ]
  },
  {
   "cell_type": "code",
   "execution_count": null,
   "id": "f8695e23-9a7f-4bce-bad9-f20bcc648846",
   "metadata": {},
   "outputs": [],
   "source": [
    "my_graph.query(\"CALL graph.schema() RETURN *\")\n"
   ]
  },
  {
   "cell_type": "code",
   "execution_count": null,
   "id": "6f889b20-f690-4b9d-bb3a-8d2d19f3ce5d",
   "metadata": {},
   "outputs": [],
   "source": [
    "my_client.widgets().operations()\n"
   ]
  },
  {
   "cell_type": "code",
   "execution_count": null,
   "id": "51601723-86db-4c46-895b-c4fd7ee078cc",
   "metadata": {},
   "outputs": [],
   "source": [
    "# ##################################################################"
   ]
  },
  {
   "cell_type": "code",
   "execution_count": null,
   "id": "61bfaff1-8478-4c7d-af83-39d03ff078ed",
   "metadata": {},
   "outputs": [],
   "source": [
    "\n",
    "l_result = my_graph.query(\"\"\"\n",
    "\n",
    "   MATCH (n) - [ r ] -> (m)\n",
    "   RETURN n, m, r\n",
    "   \n",
    "   \"\"\", contextualize=True)\n",
    "\n",
    "l_result.view()\n"
   ]
  },
  {
   "cell_type": "markdown",
   "id": "e2f0bfda-6092-4263-8857-c61af622908b",
   "metadata": {
    "tags": []
   },
   "source": [
    "#  Actual analytics .."
   ]
  },
  {
   "cell_type": "code",
   "execution_count": null,
   "id": "03147ebf-25ad-43c9-a863-7d0c1cc15a27",
   "metadata": {},
   "outputs": [],
   "source": [
    "\n",
    "#  Analytics are headed here in the documentation,\n",
    "#     https://docs.k9h.dev/latest/docs/analytics/index.html#\n",
    "#\n",
    "#  And include,\n",
    "#     \n",
    "#     .  PageRank\n",
    "#     .  BetweenNess\n",
    "#     .  Louvain\n",
    "#     .  BFS               -- M1\n",
    "#     .  SSSP              -- M1\n",
    "\n",
    "#  [ OLD VERSION ]\n",
    "#  And include,\n",
    "#\n",
    "#     Path Algorithms\n",
    "#        Single-Source Shortest Paths (SSSP)            - No path, bugs\n",
    "#        Breadth-First Search (BFS)                     - Syntactic sugar for above, wrong use/name ?\n",
    "#        K-shortest paths                               - No path, bugs\n",
    "#\n",
    "#     Community Detection Algorithms\n",
    "#        Connected Components                           -  ??\n",
    "#        Community Detection using Label Propagation    -     local\n",
    "#        Louvain                                        -  ??                                                                            <--  After 0.6\n",
    "#        Local Clustering Coefficient                   -     local\n",
    "#        Triangle Counting                              -  Not implemented\n",
    "#        K-core                                         -  ??\n",
    "#        K-truss                                        -     local\n",
    "#\n",
    "#     Centrality Algorithms\n",
    "#        PageRank                                       -  No weight ?  Working to validate result/formula                               <--  After 0.6\n",
    "#        Betweenness Centrality                         -  Working to validate \n",
    "#\n",
    "#     Similarity Algorithms\n",
    "#        Jaccard Similarity                             -     local\n",
    "\n"
   ]
  },
  {
   "cell_type": "code",
   "execution_count": null,
   "id": "3ecba69c-0a0f-4a51-a02e-55973ec51242",
   "metadata": {},
   "outputs": [],
   "source": [
    "\n",
    "# import numpy as np\n",
    "from katana import remote\n",
    "from katana.remote import analytics\n",
    "# from katana_enterprise.distributed import PartitionPolicy\n",
    "\n",
    "\n",
    "l_cntr = 0\n",
    "\n",
    "print(\"--\")\n"
   ]
  },
  {
   "cell_type": "code",
   "execution_count": null,
   "id": "dd06fe66-0a3b-4939-bdbf-4bdd2b3dd230",
   "metadata": {},
   "outputs": [],
   "source": [
    "\n",
    "#  Running analytics.sssp() ..\n",
    "\n",
    "\n",
    "l_source_nodeid       = 2                          #  id of node to start on (this is SJC)\n",
    "\n",
    "# l_weight_property     = None                     #  This errors out\n",
    "   #\n",
    "l_weight_property     = \"DISTANCE\"                 #  Edge property\n",
    "# l_weight_property     = \"NUM_HOPS\"\n",
    "\n",
    "l_max_iterations      = 10000 \n",
    "\n",
    "\n",
    "#  Generate a unique prop name so we can run this over and over without edit ..\n",
    "#\n",
    "l_cntr += 1\n",
    "   #\n",
    "l_output_propname     = \"sssp_dist_\" + str(l_cntr).zfill(4)\n",
    "\n",
    "\n",
    "analytics.sssp(\n",
    "   my_graph,\n",
    "   source               = l_source_nodeid,\n",
    "   weight_property      = l_weight_property,\n",
    "   max_iterations       = l_max_iterations,\n",
    "   result_property_name = l_output_propname,\n",
    "   )\n",
    "\n",
    "display(print(\"--\"))\n"
   ]
  },
  {
   "cell_type": "code",
   "execution_count": null,
   "id": "a91cd0a0-72a6-4c3d-8c8a-48d6eae59a4c",
   "metadata": {},
   "outputs": [],
   "source": [
    "l_result = my_graph.query(\n",
    "   \"\"\"\n",
    "   MATCH (n) \n",
    "   RETURN n\n",
    "   \"\"\" )\n",
    "l_result.view()\n"
   ]
  },
  {
   "cell_type": "code",
   "execution_count": null,
   "id": "051fc660-ea99-4f89-b4b3-0124afe73127",
   "metadata": {},
   "outputs": [],
   "source": [
    "l_result = my_graph.query(\n",
    "   \"\"\"\n",
    "   MATCH (n) - [r] -> (m)\n",
    "   RETURN r\n",
    "   \"\"\" )\n",
    "l_result.view()\n",
    "\n",
    "\n",
    "#  Graph loaded, but before running sssp() \n",
    "#     (This is correct)\n",
    "#\n",
    "#  r.end.id     r.end.labels    r.internal_id   r.label     r.DISTANCE  r.NUM_HOPS  r.start.id  r.start.labels  r.type\n",
    "#  0            ['Airport']     1               FLIES_TO      66        1           1           ['Airport']     edge\n",
    "#  1            ['Airport']     0               FLIES_TO      66        1           0           ['Airport']     edge\n",
    "#\n",
    "#  3            ['Airport']     2               FLIES_TO     886        1           1           ['Airport']     edge\n",
    "#  1            ['Airport']     5               FLIES_TO     886        1           3           ['Airport']     edge\n",
    "#\n",
    "#  2            ['Airport']     6               FLIES_TO     948        1           3           ['Airport']     edge\n",
    "#  3            ['Airport']     3               FLIES_TO     948        1           2           ['Airport']     edge\n",
    "#\n",
    "#  1            ['Airport']     4               FLIES_TO    1829        1           2           ['Airport']     edge\n",
    "\n",
    "#  Graph loaded, after running sssp() \n",
    "#     (This is not correct)\n",
    "#\n",
    "#  r.end.id     r.end.labels    r.internal_id   r.label     r.DISTANCE  r.NUM_HOPS  r.start.id  r.start.labels  r.type\n",
    "#  1            ['Airport']     0               FLIES_TO      66        1           0           ['Airport']     edge\n",
    "#  0            ['Airport']     1               FLIES_TO      66        1           1           ['Airport']     edge\n",
    "#\n",
    "#  3            ['Airport']     2               FLIES_TO     886        1           1           ['Airport']     edge\n",
    "#  1            ['Airport']     5               FLIES_TO     886        1           3           ['Airport']     edge\n",
    "#\n",
    "#  2            ['Airport']     6               FLIES_TO     948        1           3           ['Airport']     edge         #  This data is now wrong\n",
    "#  1            ['Airport']     3               FLIES_TO     948        1           2           ['Airport']     edge         #  This data is now wrong\n",
    "#\n",
    "#  3            ['Airport']     4               FLIES_TO    1829        1           2           ['Airport']     edge         #  This data is now wrong\n",
    "\n"
   ]
  },
  {
   "cell_type": "code",
   "execution_count": null,
   "id": "d22b92c3-8c94-4742-9d71-3570db6a59b3",
   "metadata": {},
   "outputs": [],
   "source": [
    "l_result = my_graph.query(\n",
    "   \"\"\"\n",
    "   MATCH (n) - [r] -> (m)\n",
    "   RETURN n, r, m\n",
    "   \"\"\" ,\n",
    "   contextualize=True,\n",
    "   )\n",
    "l_result.view()\n"
   ]
  },
  {
   "cell_type": "markdown",
   "id": "c8d8bf8a-2a33-44cc-8d51-57faddb0c0ad",
   "metadata": {},
   "source": [
    "# Running graph.project()\n",
    "\n"
   ]
  },
  {
   "cell_type": "code",
   "execution_count": null,
   "id": "0aaccb30-5098-4fd9-a083-5363c083cb6e",
   "metadata": {},
   "outputs": [],
   "source": [
    "\n",
    "#  graph.project() is used to create a homogenous group, from a heterogeneous one,\n",
    "#  necessary to support some analytics\n",
    "#\n",
    "#  Here we'll add stuff to the graph that analytics.sssp() will not like ..\n",
    "\n",
    "\n",
    "l_query = \"\"\"\n",
    "   CREATE ( n: Restaurant { restaurant_code: 'PAP' } )               //  Notice single curly braces\n",
    "   SET n.restaurant_name = 'Pappadeauxs Seafood Kitchen' \n",
    "   \"\"\"\n",
    "      #\n",
    "display(l_result0 = my_graph.query(l_query))\n",
    "\n",
    "l_query = \"\"\"\n",
    "   MATCH\n",
    "      (n: Airport   ),\n",
    "      (m: Restaurant)\n",
    "   WHERE n.airport_code    = 'SJC'\n",
    "   AND   m.restaurant_code = 'PAP'\n",
    "   CREATE (n) -[r: Attraction { DRIVABLE: 'Yes' }]-> (m)\n",
    "   \"\"\"\n",
    "      #\n",
    "display(l_result0 = my_graph.query(l_query))\n"
   ]
  },
  {
   "cell_type": "code",
   "execution_count": null,
   "id": "78c3847c-6022-4174-9f2b-812e97480361",
   "metadata": {},
   "outputs": [],
   "source": [
    "\n",
    "#  analytics.sssp() now will now excounter at least one edge without a weight\n",
    "#  property. As such, it generates a NaN for that path/output.\n",
    "\n",
    "\n",
    "l_source_nodeid       = 2                          #  id of node to start on (this is SJC)\n",
    "l_weight_property     = \"DISTANCE\"                 #  Edge property\n",
    "l_max_iterations      = 10000 \n",
    "\n",
    "#  Generate a unique prop name so we can run this over and over without edit ..\n",
    "#\n",
    "l_cntr += 1\n",
    "   #\n",
    "l_output_propname     = \"sssp_dist_\" + str(l_cntr).zfill(4)\n",
    "\n",
    "analytics.sssp(\n",
    "   my_graph,\n",
    "   source               = l_source_nodeid,\n",
    "   weight_property      = l_weight_property,\n",
    "   max_iterations       = l_max_iterations,\n",
    "   result_property_name = l_output_propname,\n",
    "   )\n",
    "\n",
    "display(print(\"--\"))\n"
   ]
  },
  {
   "cell_type": "code",
   "execution_count": null,
   "id": "c899a1a1-4071-439b-9494-e0e33c8528ac",
   "metadata": {},
   "outputs": [],
   "source": [
    "#  Check the output from routine above ..\n",
    "\n",
    "l_result = my_graph.query(\n",
    "   \"\"\"\n",
    "   MATCH (n) \n",
    "   RETURN n\n",
    "   \"\"\" )\n",
    "l_result.view()\n"
   ]
  },
  {
   "cell_type": "code",
   "execution_count": null,
   "id": "64f378ac-43c1-4069-a53a-d7cff7bfca3d",
   "metadata": {},
   "outputs": [],
   "source": [
    "#  analytics.sssp() should be run against a proection, a sub-graph ..\n",
    "\n",
    "my_graph2 = my_graph.project(edge_types=[\"FLIES_TO\"])\n",
    "\n",
    "\n",
    "l_source_nodeid       = 2                          #  id of node to start on (this is SJC)\n",
    "l_weight_property     = \"DISTANCE\"                 #  Edge property\n",
    "l_max_iterations      = 10000 \n",
    "\n",
    "#  Generate a unique prop name so we can run this over and over without edit ..\n",
    "#\n",
    "l_cntr += 1\n",
    "   #\n",
    "l_output_propname     = \"sssp_dist_\" + str(l_cntr).zfill(4)\n",
    "\n",
    "analytics.sssp(\n",
    "   my_graph2,\n",
    "   source               = l_source_nodeid,\n",
    "   weight_property      = l_weight_property,\n",
    "   max_iterations       = l_max_iterations,\n",
    "   result_property_name = l_output_propname,\n",
    "   )\n",
    "\n",
    "display(print(\"--\"))\n",
    "\n",
    "\n"
   ]
  },
  {
   "cell_type": "code",
   "execution_count": null,
   "id": "29826a04-5fb8-4492-8303-943adc30617a",
   "metadata": {},
   "outputs": [],
   "source": [
    "#  Check the output from routine above ..\n",
    "\n",
    "l_result = my_graph.query(\n",
    "   \"\"\"\n",
    "   MATCH (n) \n",
    "   RETURN n\n",
    "   \"\"\" )\n",
    "l_result.view()\n"
   ]
  }
 ],
 "metadata": {
  "kernelspec": {
   "display_name": "Python 3 (ipykernel)",
   "language": "python",
   "name": "python3"
  },
  "language_info": {
   "codemirror_mode": {
    "name": "ipython",
    "version": 3
   },
   "file_extension": ".py",
   "mimetype": "text/x-python",
   "name": "python",
   "nbconvert_exporter": "python",
   "pygments_lexer": "ipython3",
   "version": "3.8.13"
  }
 },
 "nbformat": 4,
 "nbformat_minor": 5
}
