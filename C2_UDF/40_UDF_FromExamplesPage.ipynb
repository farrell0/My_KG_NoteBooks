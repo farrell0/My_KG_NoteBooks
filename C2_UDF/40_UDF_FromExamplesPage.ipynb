{
 "cells": [
  {
   "cell_type": "markdown",
   "id": "43b1755b-2af6-4570-84de-764a0024a919",
   "metadata": {
    "tags": []
   },
   "source": [
    "#  Display options:"
   ]
  },
  {
   "cell_type": "code",
   "execution_count": null,
   "id": "19eb5ac6-bcb9-49a5-8cf0-60f8441171a6",
   "metadata": {},
   "outputs": [],
   "source": [
    "\n",
    "#  References for this Notebook,\n",
    "#\n",
    "#     Working thru the examples on this page,\n",
    "#        https://docs.k9h.dev/latest/recipes/udf-recipes.html/tree/master/lonestar/analytics/distributed/experimental\n",
    "# \n"
   ]
  },
  {
   "cell_type": "code",
   "execution_count": 2,
   "id": "d7a11486-11ea-4a6c-8f7b-6f3808dfc85e",
   "metadata": {},
   "outputs": [
    {
     "data": {
      "text/html": [],
      "text/plain": [
       "<IPython.core.display.HTML object>"
      ]
     },
     "metadata": {},
     "output_type": "display_data"
    },
    {
     "name": "stdout",
     "output_type": "stream",
     "text": [
      "--\n"
     ]
    }
   ],
   "source": [
    "\n",
    "#  Setting display options \n",
    "\n",
    "import pandas as pd\n",
    "   #\n",
    "pd.set_option(\"display.width\", 480)\n",
    "\n",
    "#  Sets horizontal scroll for wide outputs\n",
    "#\n",
    "from IPython.display import display, HTML\n",
    "display(HTML(\"\"))\n",
    "\n",
    "from tabulate import tabulate\n",
    "\n",
    "print(\"--\")\n"
   ]
  },
  {
   "cell_type": "markdown",
   "id": "d3ebe820-bc6d-4948-b668-8b81cd3cbf29",
   "metadata": {
    "tags": []
   },
   "source": [
    "#  Setup stuff: Connectivity"
   ]
  },
  {
   "cell_type": "code",
   "execution_count": 3,
   "id": "1ea957d6-30c6-427a-ae4e-15ecfba0c4f9",
   "metadata": {},
   "outputs": [
    {
     "name": "stdout",
     "output_type": "stream",
     "text": [
      "<katana_enterprise.remote.sync_wrappers.Client object at 0x7f95ac256fd0>\n"
     ]
    }
   ],
   "source": [
    "\n",
    "from katana import remote\n",
    "#  from katana.remote import import_data\n",
    "\n",
    "my_client = remote.Client()\n",
    "\n",
    "print(my_client)\n"
   ]
  },
  {
   "cell_type": "code",
   "execution_count": 4,
   "id": "97571016-7c02-4e90-a75a-136a0dacd35f",
   "metadata": {},
   "outputs": [
    {
     "name": "stdout",
     "output_type": "stream",
     "text": [
      "--\n"
     ]
    }
   ],
   "source": [
    "\n",
    "NUM_PARTITIONS  = 3\n",
    "   #\n",
    "DB_NAME         = \"my_db\"\n",
    "GRAPH_NAME      = \"my_graph\"\n",
    "\n",
    "print(\"--\")\n"
   ]
  },
  {
   "cell_type": "code",
   "execution_count": 5,
   "id": "c5db6505-7fc8-4779-b194-9ed8945b9a90",
   "metadata": {},
   "outputs": [
    {
     "name": "stdout",
     "output_type": "stream",
     "text": [
      "<_Graph my_graph, Eho2ev87LBaUVF9BXEhGGH7qr2gLnxcWTkbe7aXjo4C9, 13>\n"
     ]
    }
   ],
   "source": [
    "\n",
    "#  CONNECT TO GRAPH\n",
    "\n",
    "my_graph, *_ = my_client.get_database(name=DB_NAME).find_graphs_by_name(GRAPH_NAME)\n",
    "\n",
    "print(my_graph)\n"
   ]
  },
  {
   "cell_type": "code",
   "execution_count": 6,
   "id": "195ac246-4852-44ac-8a63-8631b38858ca",
   "metadata": {},
   "outputs": [
    {
     "data": {
      "application/vnd.jupyter.widget-view+json": {
       "model_id": "c9e554c238eb4daca653f40e16a0f108",
       "version_major": 2,
       "version_minor": 0
      },
      "text/plain": [
       "          0/? [?op/s]"
      ]
     },
     "metadata": {},
     "output_type": "display_data"
    },
    {
     "data": {
      "text/plain": [
       "5"
      ]
     },
     "metadata": {},
     "output_type": "display_data"
    },
    {
     "data": {
      "application/vnd.jupyter.widget-view+json": {
       "model_id": "39652749985947188f3fadd19b54e955",
       "version_major": 2,
       "version_minor": 0
      },
      "text/plain": [
       "          0/? [?op/s]"
      ]
     },
     "metadata": {},
     "output_type": "display_data"
    },
    {
     "data": {
      "text/plain": [
       "8"
      ]
     },
     "metadata": {},
     "output_type": "display_data"
    }
   ],
   "source": [
    "\n",
    "display(my_graph.num_nodes())\n",
    "display(my_graph.num_edges())\n"
   ]
  },
  {
   "cell_type": "markdown",
   "id": "fc942da3-98f2-4b47-9d3f-76bb6adf270d",
   "metadata": {
    "tags": []
   },
   "source": [
    "# Working with num_partitions()"
   ]
  },
  {
   "cell_type": "code",
   "execution_count": 7,
   "id": "2ee40b52-a157-4242-92f3-4fc037dc542b",
   "metadata": {},
   "outputs": [
    {
     "name": "stdout",
     "output_type": "stream",
     "text": [
      "None\n"
     ]
    }
   ],
   "source": [
    "#  Even though this graph was made with 3 partitions, and even though certain operations\n",
    "#  require at least 3 partitions else they fail, you may still see num_partitions = None\n",
    "#  which can happen on really small graphs, and produce unexpected results below.\n",
    "\n",
    "print(my_graph.num_partitions)\n"
   ]
  },
  {
   "cell_type": "code",
   "execution_count": 8,
   "id": "420011bd-878f-4376-a0a8-8f500a298bd4",
   "metadata": {},
   "outputs": [
    {
     "name": "stdout",
     "output_type": "stream",
     "text": [
      "--\n"
     ]
    }
   ],
   "source": [
    "\n",
    "#  my_graph.repartition(num_partitions = 1)\n",
    "my_graph.repartition(num_partitions = 3)\n",
    "\n",
    "print(\"--\")\n"
   ]
  },
  {
   "cell_type": "markdown",
   "id": "61556ce5-9044-42bc-bb13-80b6a514ae27",
   "metadata": {
    "tags": []
   },
   "source": [
    "# UDFs, Example 01: Count City Nodes"
   ]
  },
  {
   "cell_type": "code",
   "execution_count": 11,
   "id": "142b8036-7150-40b6-9ca1-60bc42025e16",
   "metadata": {},
   "outputs": [
    {
     "ename": "TypeError",
     "evalue": "cannot pickle '_thread.RLock' object",
     "output_type": "error",
     "traceback": [
      "\u001b[0;31m---------------------------------------------------------------------------\u001b[0m",
      "\u001b[0;31mTypeError\u001b[0m                                 Traceback (most recent call last)",
      "Cell \u001b[0;32mIn[11], line 14\u001b[0m\n\u001b[1;32m      8\u001b[0m    \u001b[38;5;28mprint\u001b[39m(\u001b[38;5;124m\"\u001b[39m\u001b[38;5;124mCity Node Count\u001b[39m\u001b[38;5;124m\"\u001b[39m, \u001b[38;5;28mlen\u001b[39m(city_sequence))\n\u001b[1;32m     10\u001b[0m    \u001b[38;5;66;03m# graph.nodes is an entity view on nodes. It has many of the same methods as \u001b[39;00m\n\u001b[1;32m     11\u001b[0m    \u001b[38;5;66;03m# graph.in_/out_edges which are views on edges. EntityViews also provide access\u001b[39;00m\n\u001b[1;32m     12\u001b[0m    \u001b[38;5;66;03m# to property and topology data.\u001b[39;00m\n\u001b[0;32m---> 14\u001b[0m \u001b[43mmy_graph\u001b[49m\u001b[38;5;241;43m.\u001b[39;49m\u001b[43mrun\u001b[49m\u001b[43m(\u001b[49m\u001b[43mgraph_city_count\u001b[49m\u001b[43m)\u001b[49m\n",
      "File \u001b[0;32m/opt/conda/lib/python3.8/site-packages/katana_enterprise/async_to_sync.py:259\u001b[0m, in \u001b[0;36mAsyncToSync.<locals>.do_wrap.<locals>.wrapper\u001b[0;34m(self, *args, **kwargs)\u001b[0m\n\u001b[1;32m    256\u001b[0m \u001b[38;5;129m@wraps\u001b[39m(underlying_func)\n\u001b[1;32m    257\u001b[0m \u001b[38;5;28;01mdef\u001b[39;00m \u001b[38;5;21mwrapper\u001b[39m(\u001b[38;5;28mself\u001b[39m, \u001b[38;5;241m*\u001b[39margs, \u001b[38;5;241m*\u001b[39m\u001b[38;5;241m*\u001b[39mkwargs):\n\u001b[1;32m    258\u001b[0m     \u001b[38;5;28;01mreturn\u001b[39;00m registry\u001b[38;5;241m.\u001b[39masync_to_sync(\n\u001b[0;32m--> 259\u001b[0m         \u001b[43munderlying_func\u001b[49m\u001b[43m(\u001b[49m\n\u001b[1;32m    260\u001b[0m \u001b[43m            \u001b[49m\u001b[43mget_self_func\u001b[49m\u001b[43m(\u001b[49m\u001b[38;5;28;43mself\u001b[39;49m\u001b[43m)\u001b[49m\u001b[43m,\u001b[49m\n\u001b[1;32m    261\u001b[0m \u001b[43m            \u001b[49m\u001b[38;5;241;43m*\u001b[39;49m\u001b[43m(\u001b[49m\u001b[43mregistry\u001b[49m\u001b[38;5;241;43m.\u001b[39;49m\u001b[43msync_to_async\u001b[49m\u001b[43m(\u001b[49m\u001b[43ma\u001b[49m\u001b[43m)\u001b[49m\u001b[43m \u001b[49m\u001b[38;5;28;43;01mfor\u001b[39;49;00m\u001b[43m \u001b[49m\u001b[43ma\u001b[49m\u001b[43m \u001b[49m\u001b[38;5;129;43;01min\u001b[39;49;00m\u001b[43m \u001b[49m\u001b[43margs\u001b[49m\u001b[43m)\u001b[49m\u001b[43m,\u001b[49m\n\u001b[1;32m    262\u001b[0m \u001b[43m            \u001b[49m\u001b[38;5;241;43m*\u001b[39;49m\u001b[38;5;241;43m*\u001b[39;49m\u001b[43m{\u001b[49m\u001b[43mk\u001b[49m\u001b[43m:\u001b[49m\u001b[43m \u001b[49m\u001b[43mregistry\u001b[49m\u001b[38;5;241;43m.\u001b[39;49m\u001b[43msync_to_async\u001b[49m\u001b[43m(\u001b[49m\u001b[43mv\u001b[49m\u001b[43m)\u001b[49m\u001b[43m \u001b[49m\u001b[38;5;28;43;01mfor\u001b[39;49;00m\u001b[43m \u001b[49m\u001b[43mk\u001b[49m\u001b[43m,\u001b[49m\u001b[43m \u001b[49m\u001b[43mv\u001b[49m\u001b[43m \u001b[49m\u001b[38;5;129;43;01min\u001b[39;49;00m\u001b[43m \u001b[49m\u001b[43mkwargs\u001b[49m\u001b[38;5;241;43m.\u001b[39;49m\u001b[43mitems\u001b[49m\u001b[43m(\u001b[49m\u001b[43m)\u001b[49m\u001b[43m}\u001b[49m\u001b[43m,\u001b[49m\n\u001b[1;32m    263\u001b[0m \u001b[43m        \u001b[49m\u001b[43m)\u001b[49m\n\u001b[1;32m    264\u001b[0m     )\n",
      "File \u001b[0;32m/opt/conda/lib/python3.8/site-packages/katana_enterprise/async_to_sync.py:176\u001b[0m, in \u001b[0;36masync_to_sync.<locals>.wrapper\u001b[0;34m(timeout, *args, **kwargs)\u001b[0m\n\u001b[1;32m    166\u001b[0m     registry \u001b[38;5;241m=\u001b[39m AsyncToSyncClassRegistry\u001b[38;5;241m.\u001b[39mget()\n\u001b[1;32m    167\u001b[0m     \u001b[38;5;28;01mreturn\u001b[39;00m registry\u001b[38;5;241m.\u001b[39masync_to_sync(\n\u001b[1;32m    168\u001b[0m         wait_for(\n\u001b[1;32m    169\u001b[0m             async_func(\n\u001b[0;32m   (...)\u001b[0m\n\u001b[1;32m    174\u001b[0m         )\n\u001b[1;32m    175\u001b[0m     )\n\u001b[0;32m--> 176\u001b[0m \u001b[38;5;28;01mreturn\u001b[39;00m \u001b[43mwait_for\u001b[49m\u001b[43m(\u001b[49m\u001b[43masync_func\u001b[49m\u001b[43m(\u001b[49m\u001b[38;5;241;43m*\u001b[39;49m\u001b[43margs\u001b[49m\u001b[43m,\u001b[49m\u001b[43m \u001b[49m\u001b[38;5;241;43m*\u001b[39;49m\u001b[38;5;241;43m*\u001b[39;49m\u001b[43mkwargs\u001b[49m\u001b[43m)\u001b[49m\u001b[43m,\u001b[49m\u001b[43m \u001b[49m\u001b[43mtimeout\u001b[49m\u001b[38;5;241;43m=\u001b[39;49m\u001b[43mtimeout\u001b[49m\u001b[43m)\u001b[49m\n",
      "File \u001b[0;32m/opt/conda/lib/python3.8/site-packages/katana_enterprise/async_to_sync.py:147\u001b[0m, in \u001b[0;36mwait_for\u001b[0;34m(coro, timeout)\u001b[0m\n\u001b[1;32m    145\u001b[0m \u001b[38;5;28;01mtry\u001b[39;00m:\n\u001b[1;32m    146\u001b[0m     future \u001b[38;5;241m=\u001b[39m asyncio\u001b[38;5;241m.\u001b[39mrun_coroutine_threadsafe(timeout_coro, loop\u001b[38;5;241m=\u001b[39mAsyncRunnerThread\u001b[38;5;241m.\u001b[39mget()\u001b[38;5;241m.\u001b[39mloop)\n\u001b[0;32m--> 147\u001b[0m     \u001b[38;5;28;01mreturn\u001b[39;00m \u001b[43mfuture\u001b[49m\u001b[38;5;241;43m.\u001b[39;49m\u001b[43mresult\u001b[49m\u001b[43m(\u001b[49m\u001b[43m)\u001b[49m\n\u001b[1;32m    148\u001b[0m \u001b[38;5;28;01mexcept\u001b[39;00m \u001b[38;5;167;01mKeyboardInterrupt\u001b[39;00m:\n\u001b[1;32m    149\u001b[0m     inner_future\u001b[38;5;241m.\u001b[39mcancel()\n",
      "File \u001b[0;32m/opt/conda/lib/python3.8/concurrent/futures/_base.py:444\u001b[0m, in \u001b[0;36mFuture.result\u001b[0;34m(self, timeout)\u001b[0m\n\u001b[1;32m    442\u001b[0m     \u001b[38;5;28;01mraise\u001b[39;00m CancelledError()\n\u001b[1;32m    443\u001b[0m \u001b[38;5;28;01melif\u001b[39;00m \u001b[38;5;28mself\u001b[39m\u001b[38;5;241m.\u001b[39m_state \u001b[38;5;241m==\u001b[39m FINISHED:\n\u001b[0;32m--> 444\u001b[0m     \u001b[38;5;28;01mreturn\u001b[39;00m \u001b[38;5;28;43mself\u001b[39;49m\u001b[38;5;241;43m.\u001b[39;49m\u001b[43m__get_result\u001b[49m\u001b[43m(\u001b[49m\u001b[43m)\u001b[49m\n\u001b[1;32m    445\u001b[0m \u001b[38;5;28;01melse\u001b[39;00m:\n\u001b[1;32m    446\u001b[0m     \u001b[38;5;28;01mraise\u001b[39;00m \u001b[38;5;167;01mTimeoutError\u001b[39;00m()\n",
      "File \u001b[0;32m/opt/conda/lib/python3.8/concurrent/futures/_base.py:389\u001b[0m, in \u001b[0;36mFuture.__get_result\u001b[0;34m(self)\u001b[0m\n\u001b[1;32m    387\u001b[0m \u001b[38;5;28;01mif\u001b[39;00m \u001b[38;5;28mself\u001b[39m\u001b[38;5;241m.\u001b[39m_exception:\n\u001b[1;32m    388\u001b[0m     \u001b[38;5;28;01mtry\u001b[39;00m:\n\u001b[0;32m--> 389\u001b[0m         \u001b[38;5;28;01mraise\u001b[39;00m \u001b[38;5;28mself\u001b[39m\u001b[38;5;241m.\u001b[39m_exception\n\u001b[1;32m    390\u001b[0m     \u001b[38;5;28;01mfinally\u001b[39;00m:\n\u001b[1;32m    391\u001b[0m         \u001b[38;5;66;03m# Break a reference cycle with the exception in self._exception\u001b[39;00m\n\u001b[1;32m    392\u001b[0m         \u001b[38;5;28mself\u001b[39m \u001b[38;5;241m=\u001b[39m \u001b[38;5;28;01mNone\u001b[39;00m\n",
      "File \u001b[0;32m/opt/conda/lib/python3.8/asyncio/tasks.py:455\u001b[0m, in \u001b[0;36mwait_for\u001b[0;34m(fut, timeout, loop)\u001b[0m\n\u001b[1;32m    450\u001b[0m     warnings\u001b[38;5;241m.\u001b[39mwarn(\u001b[38;5;124m\"\u001b[39m\u001b[38;5;124mThe loop argument is deprecated since Python 3.8, \u001b[39m\u001b[38;5;124m\"\u001b[39m\n\u001b[1;32m    451\u001b[0m                   \u001b[38;5;124m\"\u001b[39m\u001b[38;5;124mand scheduled for removal in Python 3.10.\u001b[39m\u001b[38;5;124m\"\u001b[39m,\n\u001b[1;32m    452\u001b[0m                   \u001b[38;5;167;01mDeprecationWarning\u001b[39;00m, stacklevel\u001b[38;5;241m=\u001b[39m\u001b[38;5;241m2\u001b[39m)\n\u001b[1;32m    454\u001b[0m \u001b[38;5;28;01mif\u001b[39;00m timeout \u001b[38;5;129;01mis\u001b[39;00m \u001b[38;5;28;01mNone\u001b[39;00m:\n\u001b[0;32m--> 455\u001b[0m     \u001b[38;5;28;01mreturn\u001b[39;00m \u001b[38;5;28;01mawait\u001b[39;00m fut\n\u001b[1;32m    457\u001b[0m \u001b[38;5;28;01mif\u001b[39;00m timeout \u001b[38;5;241m<\u001b[39m\u001b[38;5;241m=\u001b[39m \u001b[38;5;241m0\u001b[39m:\n\u001b[1;32m    458\u001b[0m     fut \u001b[38;5;241m=\u001b[39m ensure_future(fut, loop\u001b[38;5;241m=\u001b[39mloop)\n",
      "File \u001b[0;32m/opt/conda/lib/python3.8/site-packages/katana_enterprise/remote/aio/graph.py:702\u001b[0m, in \u001b[0;36mGraph.run\u001b[0;34m(self, function)\u001b[0m\n\u001b[1;32m    692\u001b[0m \u001b[38;5;28;01masync\u001b[39;00m \u001b[38;5;28;01mdef\u001b[39;00m \u001b[38;5;21mrun\u001b[39m(\u001b[38;5;28mself\u001b[39m, function):\n\u001b[1;32m    693\u001b[0m \u001b[38;5;250m    \u001b[39m\u001b[38;5;124;03m\"\"\"Execute the given function in the cluster on multiple Message Passing\u001b[39;00m\n\u001b[1;32m    694\u001b[0m \u001b[38;5;124;03m    Interface (MPI) workers. Any output is printed as output from this\u001b[39;00m\n\u001b[1;32m    695\u001b[0m \u001b[38;5;124;03m    process.\u001b[39;00m\n\u001b[0;32m   (...)\u001b[0m\n\u001b[1;32m    699\u001b[0m \n\u001b[1;32m    700\u001b[0m \u001b[38;5;124;03m    \"\"\"\u001b[39;00m\n\u001b[0;32m--> 702\u001b[0m     result \u001b[38;5;241m=\u001b[39m \u001b[38;5;28;01mawait\u001b[39;00m \u001b[38;5;28mself\u001b[39m\u001b[38;5;241m.\u001b[39m_run_result(function, api_version\u001b[38;5;241m=\u001b[39m\u001b[38;5;241m2\u001b[39m)\n\u001b[1;32m    703\u001b[0m     \u001b[38;5;28mprint\u001b[39m(result\u001b[38;5;241m.\u001b[39mstdout, file\u001b[38;5;241m=\u001b[39msys\u001b[38;5;241m.\u001b[39mstdout, end\u001b[38;5;241m=\u001b[39m\u001b[38;5;124m\"\u001b[39m\u001b[38;5;124m\"\u001b[39m)\n\u001b[1;32m    704\u001b[0m     \u001b[38;5;28mprint\u001b[39m(result\u001b[38;5;241m.\u001b[39mstderr, file\u001b[38;5;241m=\u001b[39msys\u001b[38;5;241m.\u001b[39mstderr, end\u001b[38;5;241m=\u001b[39m\u001b[38;5;124m\"\u001b[39m\u001b[38;5;124m\"\u001b[39m)\n",
      "File \u001b[0;32m/opt/conda/lib/python3.8/site-packages/katana_enterprise/remote/aio/graph.py:709\u001b[0m, in \u001b[0;36mGraph._run_result\u001b[0;34m(self, function, api_version)\u001b[0m\n\u001b[1;32m    707\u001b[0m \u001b[38;5;28;01masync\u001b[39;00m \u001b[38;5;28;01mdef\u001b[39;00m \u001b[38;5;21m_run_result\u001b[39m(\u001b[38;5;28mself\u001b[39m, function, api_version\u001b[38;5;241m=\u001b[39m\u001b[38;5;241m1\u001b[39m):\n\u001b[1;32m    708\u001b[0m     data \u001b[38;5;241m=\u001b[39m \u001b[38;5;28mself\u001b[39m\u001b[38;5;241m.\u001b[39m_add_operation_metadata(\n\u001b[0;32m--> 709\u001b[0m         {\u001b[38;5;124m\"\u001b[39m\u001b[38;5;124mpython\u001b[39m\u001b[38;5;124m\"\u001b[39m: {\u001b[38;5;124m\"\u001b[39m\u001b[38;5;124mfunction\u001b[39m\u001b[38;5;124m\"\u001b[39m: \u001b[43mbase64\u001b[49m\u001b[38;5;241;43m.\u001b[39;49m\u001b[43mpickle\u001b[49m\u001b[43m(\u001b[49m\u001b[43mfunction\u001b[49m\u001b[43m)\u001b[49m, \u001b[38;5;124m\"\u001b[39m\u001b[38;5;124mapi_version\u001b[39m\u001b[38;5;124m\"\u001b[39m: api_version}}\n\u001b[1;32m    710\u001b[0m     )\n\u001b[1;32m    711\u001b[0m     \u001b[38;5;28;01mreturn\u001b[39;00m RunResult(\u001b[38;5;241m*\u001b[39mbase64\u001b[38;5;241m.\u001b[39munpickle((\u001b[38;5;28;01mawait\u001b[39;00m \u001b[38;5;28mself\u001b[39m\u001b[38;5;241m.\u001b[39m_run_asynchronously(data))[\u001b[38;5;124m\"\u001b[39m\u001b[38;5;124mresult\u001b[39m\u001b[38;5;124m\"\u001b[39m]))\n",
      "File \u001b[0;32m/opt/conda/lib/python3.8/site-packages/katana_enterprise/base64.py:9\u001b[0m, in \u001b[0;36mpickle\u001b[0;34m(value)\u001b[0m\n\u001b[1;32m      8\u001b[0m \u001b[38;5;28;01mdef\u001b[39;00m \u001b[38;5;21mpickle\u001b[39m(value):\n\u001b[0;32m----> 9\u001b[0m     \u001b[38;5;28;01mreturn\u001b[39;00m codecs\u001b[38;5;241m.\u001b[39mencode(\u001b[43mcloudpickle\u001b[49m\u001b[38;5;241;43m.\u001b[39;49m\u001b[43mdumps\u001b[49m\u001b[43m(\u001b[49m\u001b[43mvalue\u001b[49m\u001b[43m)\u001b[49m, \u001b[38;5;124m\"\u001b[39m\u001b[38;5;124mbase64\u001b[39m\u001b[38;5;124m\"\u001b[39m)\u001b[38;5;241m.\u001b[39mdecode()\n",
      "File \u001b[0;32m/opt/conda/lib/python3.8/site-packages/cloudpickle/cloudpickle_fast.py:73\u001b[0m, in \u001b[0;36mdumps\u001b[0;34m(obj, protocol, buffer_callback)\u001b[0m\n\u001b[1;32m     69\u001b[0m \u001b[38;5;28;01mwith\u001b[39;00m io\u001b[38;5;241m.\u001b[39mBytesIO() \u001b[38;5;28;01mas\u001b[39;00m file:\n\u001b[1;32m     70\u001b[0m     cp \u001b[38;5;241m=\u001b[39m CloudPickler(\n\u001b[1;32m     71\u001b[0m         file, protocol\u001b[38;5;241m=\u001b[39mprotocol, buffer_callback\u001b[38;5;241m=\u001b[39mbuffer_callback\n\u001b[1;32m     72\u001b[0m     )\n\u001b[0;32m---> 73\u001b[0m     \u001b[43mcp\u001b[49m\u001b[38;5;241;43m.\u001b[39;49m\u001b[43mdump\u001b[49m\u001b[43m(\u001b[49m\u001b[43mobj\u001b[49m\u001b[43m)\u001b[49m\n\u001b[1;32m     74\u001b[0m     \u001b[38;5;28;01mreturn\u001b[39;00m file\u001b[38;5;241m.\u001b[39mgetvalue()\n",
      "File \u001b[0;32m/opt/conda/lib/python3.8/site-packages/cloudpickle/cloudpickle_fast.py:632\u001b[0m, in \u001b[0;36mCloudPickler.dump\u001b[0;34m(self, obj)\u001b[0m\n\u001b[1;32m    630\u001b[0m \u001b[38;5;28;01mdef\u001b[39;00m \u001b[38;5;21mdump\u001b[39m(\u001b[38;5;28mself\u001b[39m, obj):\n\u001b[1;32m    631\u001b[0m     \u001b[38;5;28;01mtry\u001b[39;00m:\n\u001b[0;32m--> 632\u001b[0m         \u001b[38;5;28;01mreturn\u001b[39;00m \u001b[43mPickler\u001b[49m\u001b[38;5;241;43m.\u001b[39;49m\u001b[43mdump\u001b[49m\u001b[43m(\u001b[49m\u001b[38;5;28;43mself\u001b[39;49m\u001b[43m,\u001b[49m\u001b[43m \u001b[49m\u001b[43mobj\u001b[49m\u001b[43m)\u001b[49m\n\u001b[1;32m    633\u001b[0m     \u001b[38;5;28;01mexcept\u001b[39;00m \u001b[38;5;167;01mRuntimeError\u001b[39;00m \u001b[38;5;28;01mas\u001b[39;00m e:\n\u001b[1;32m    634\u001b[0m         \u001b[38;5;28;01mif\u001b[39;00m \u001b[38;5;124m\"\u001b[39m\u001b[38;5;124mrecursion\u001b[39m\u001b[38;5;124m\"\u001b[39m \u001b[38;5;129;01min\u001b[39;00m e\u001b[38;5;241m.\u001b[39margs[\u001b[38;5;241m0\u001b[39m]:\n",
      "\u001b[0;31mTypeError\u001b[0m: cannot pickle '_thread.RLock' object"
     ]
    }
   ],
   "source": [
    "\n",
    "# Example 01 as is from Web page,  all examples ported to Airports)\n",
    "#\n",
    "\n",
    "def graph_city_count(graph: my_graph):\n",
    "   # Get all the Cities\n",
    "   city_sequence: Sequence[Node] = my_graph.nodes(labels=\"City\")\n",
    "   # You can call nodes with restrictions (as above) or without nodes() to get all nodes.\n",
    "   print(\"City Node Count\", len(city_sequence))\n",
    "\n",
    "   # graph.nodes is an entity view on nodes. It has many of the same methods as \n",
    "   # graph.in_/out_edges which are views on edges. EntityViews also provide access\n",
    "   # to property and topology data.\n",
    "    \n",
    "my_graph.run(graph_city_count)\n",
    "\n"
   ]
  },
  {
   "cell_type": "code",
   "execution_count": 9,
   "id": "f35bb1d6-c1fb-4e86-9df9-ec267e119dd9",
   "metadata": {},
   "outputs": [
    {
     "data": {
      "application/vnd.jupyter.widget-view+json": {
       "model_id": "dea64e45a9794a75af97f42a89b800d9",
       "version_major": 2,
       "version_minor": 0
      },
      "text/plain": [
       "          0/? [?op/s]"
      ]
     },
     "metadata": {},
     "output_type": "display_data"
    },
    {
     "name": "stdout",
     "output_type": "stream",
     "text": [
      "\n",
      "Host 0 output:\n",
      "Type: <class 'katana.distributed.EntitySequenceNode'>\n",
      "Value: <katana.distributed.EntitySequenceNode object at 0x7f5d77740bb0>\n",
      "Loop thru the above:\n",
      "   <lnid 4294967293>\n",
      "   <lnid 4294967294>\n",
      "   <lnid 0>\n",
      "Airport Node Count 3\n",
      "\n",
      "Host 1 output:\n",
      "Type: <class 'katana.distributed.EntitySequenceNode'>\n",
      "Value: <katana.distributed.EntitySequenceNode object at 0x7fb9cc022af0>\n",
      "Loop thru the above:\n",
      "   <lnid 4294967293>\n",
      "   <lnid 4294967294>\n",
      "   <lnid 0>\n",
      "   <lnid 1>\n",
      "Airport Node Count 4\n",
      "\n",
      "Host 2 output:\n",
      "Type: <class 'katana.distributed.EntitySequenceNode'>\n",
      "Value: <katana.distributed.EntitySequenceNode object at 0x7f85034c7530>\n",
      "Loop thru the above:\n",
      "   <lnid 4294967293>\n",
      "   <lnid 4294967294>\n",
      "   <lnid 0>\n",
      "Airport Node Count 3\n"
     ]
    }
   ],
   "source": [
    "\n",
    "#  All of these below are translated to the Airport graph\n",
    "#\n",
    "\n",
    "#  Not an exact copy of example 1, some things left off-\n",
    "#\n",
    "def my_func(i_graph, i_label):\n",
    "    \n",
    "   l_airports = i_graph.nodes(labels = i_label)\n",
    "      #\n",
    "   print(\"Type: %s\" % (str(type(l_airports))))\n",
    "   print(\"Value: %s\" % (l_airports))\n",
    "   print(\"Loop thru the above:\")\n",
    "      #\n",
    "   for l_each in l_airports:\n",
    "      print(\"   \" + str(l_each))\n",
    "        \n",
    "   print(\"Airport Node Count\", len(l_airports))\n",
    "\n",
    "   return\n",
    "\n",
    "l_result = my_graph.run(lambda g: my_func(g, \"Airport\"))\n",
    "\n",
    "\n",
    "#  Sample output,\n",
    "#\n",
    "#     Host 0 output:\n",
    "#     Type: <class 'katana.distributed.EntitySequenceNode'>\n",
    "#     Value: <katana.distributed.EntitySequenceNode object at 0x7f8da9fbaf30>\n",
    "#     Loop thru the above:\n",
    "#        <lnid 4294967294>\n",
    "#        <lnid 0>\n",
    "#        <lnid 1>\n",
    "#     Airport Node Count 3\n",
    "#     \n",
    "#     Host 1 output:\n",
    "#     Type: <class 'katana.distributed.EntitySequenceNode'>\n",
    "#     Value: <katana.distributed.EntitySequenceNode object at 0x7f90c5ab6df0>\n",
    "#     Loop thru the above:\n",
    "#        <lnid 4294967293>\n",
    "#        <lnid 4294967294>\n",
    "#        <lnid 0>\n",
    "#     Airport Node Count 3\n",
    "#     \n",
    "#     Host 2 output:\n",
    "#     Type: <class 'katana.distributed.EntitySequenceNode'>\n",
    "#     Value: <katana.distributed.EntitySequenceNode object at 0x7fe5882e4230>\n",
    "#     Loop thru the above:\n",
    "#        <lnid 4294967293>\n",
    "#        <lnid 4294967294>\n",
    "#        <lnid 0>\n",
    "#     Airport Node Count 3\n"
   ]
  },
  {
   "cell_type": "code",
   "execution_count": null,
   "id": "677cb6e3-9875-4dcb-9cbf-26d256ac4df3",
   "metadata": {},
   "outputs": [],
   "source": [
    "\n",
    "#  All of these below are translated to the Airport graph\n",
    "#\n",
    "\n",
    "#  An exact copy of example 1\n",
    "#\n",
    "def my_func(i_graph, i_label):\n",
    "    \n",
    "   l_airports: Sequence[Node] = i_graph.nodes(labels = i_label)\n",
    "      #\n",
    "   print(\"Type: %s\" % (str(type(l_airports))))\n",
    "   print(\"Value: %s\" % (l_airports))\n",
    "   print(\"Loop thru the above:\")\n",
    "      #\n",
    "   for l_each in l_airports:\n",
    "      print(\"   \" + str(l_each))\n",
    "\n",
    "   print(\"Airport Node Count\", len(l_airports))\n",
    "\n",
    "   return\n",
    "\n",
    "l_result = my_graph.run(lambda g: my_func(g, \"Airport\"))\n",
    "\n",
    "\n",
    "#  Sample output,\n",
    "#\n",
    "#     Host 0 output:\n",
    "#     Type: <class 'katana.distributed.EntitySequenceNode'>\n",
    "#     Value: <katana.distributed.EntitySequenceNode object at 0x7fe27927b7f0>\n",
    "#     Loop thru the above:\n",
    "#        <lnid 4294967294>\n",
    "#        <lnid 0>\n",
    "#        <lnid 1>\n",
    "#     Airport Node Count 3\n",
    "#     \n",
    "#     Host 1 output:\n",
    "#     Type: <class 'katana.distributed.EntitySequenceNode'>\n",
    "#     Value: <katana.distributed.EntitySequenceNode object at 0x7fc0f80d80f0>\n",
    "#     Loop thru the above:\n",
    "#        <lnid 4294967293>\n",
    "#        <lnid 4294967294>\n",
    "#        <lnid 0>\n",
    "#     Airport Node Count 3\n",
    "#     \n",
    "#     Host 2 output:\n",
    "#     Type: <class 'katana.distributed.EntitySequenceNode'>\n",
    "#     Value: <katana.distributed.EntitySequenceNode object at 0x7f96742bcc30>\n",
    "#     Loop thru the above:\n",
    "#        <lnid 4294967293>\n",
    "#        <lnid 4294967294>\n",
    "#        <lnid 0>\n",
    "#     Airport Node Count 3\n"
   ]
  },
  {
   "cell_type": "markdown",
   "id": "d7d38ec0-8d9b-446e-b556-de7d17f4380e",
   "metadata": {},
   "source": [
    "# UDFs, Example 02: Source Node Labels"
   ]
  },
  {
   "cell_type": "code",
   "execution_count": null,
   "id": "89d18149-b8e1-4a89-863f-90ae2142bab1",
   "metadata": {},
   "outputs": [],
   "source": [
    "\n",
    "#  Example 02, mostly as written, converted to airports\n",
    "#\n",
    "#     .  We add a second for loop for to also process out edges.\n",
    "#        This graph had one out edge, from Airport to Restaurant\n",
    "#\n",
    "\n",
    "def my_func(i_graph, i_label):\n",
    "    \n",
    "   l_airports: Sequence[Node] = i_graph.nodes(labels = i_label)\n",
    "\n",
    "   l_labels = set()                                                       #  Python sets discard duplicates\n",
    " \n",
    "   for l_node in l_airports:                                              #  All nodes of a given label\n",
    "      l_each: Node\n",
    "      for l_edge in i_graph.in_edges(l_node):                             #  In edges\n",
    "         l_edge: InEdge\n",
    "         l_src_node: Node = i_graph.in_edges.src(l_edge)\n",
    "         l_labels.add(i_graph.nodes.labels(l_src_node))\n",
    "        \n",
    "      for l_edge in i_graph.out_edges(l_node):                            #  Out edges\n",
    "         l_edge: OutEdge\n",
    "         l_dst_node: Node = i_graph.out_edges.dst(l_edge)\n",
    "         l_labels.add(i_graph.nodes.labels(l_dst_node))\n",
    "           \n",
    "   print(l_labels)\n",
    "    \n",
    "\n",
    "   return\n",
    "\n",
    "l_result = my_graph.run(lambda g: my_func(g, \"Airport\"))\n",
    "\n",
    "#  Sample output,\n",
    "#\n",
    "#     Host 0 output:\n",
    "#     {Airport}\n",
    "#     \n",
    "#     Host 1 output:\n",
    "#     {Airport, Restaurant}\n",
    "#     \n",
    "#     Host 2 output:\n",
    "#     {Airport}\n"
   ]
  },
  {
   "cell_type": "code",
   "execution_count": null,
   "id": "5045bea8-b575-4a6f-8830-1c33a3752cdf",
   "metadata": {},
   "outputs": [],
   "source": []
  },
  {
   "cell_type": "code",
   "execution_count": null,
   "id": "f5f87808-773a-4f19-894b-1d9517e02c7d",
   "metadata": {},
   "outputs": [],
   "source": []
  },
  {
   "cell_type": "markdown",
   "id": "32486574-6fe9-4c36-88cf-412726c77530",
   "metadata": {},
   "source": [
    "# UDFs, Example 03: Out-degree of a City Nodes"
   ]
  },
  {
   "cell_type": "code",
   "execution_count": null,
   "id": "175a963c-9681-4a65-b72d-b8d4181700f5",
   "metadata": {},
   "outputs": [],
   "source": [
    "\n",
    "def my_func(i_graph, i_label):\n",
    "    \n",
    "   l_airports: Sequence[Node] = i_graph.nodes(labels = i_label)\n",
    "\n",
    "   if (l_airports):                                                       #  If there are Nodes for this label\n",
    "      l_airport, *_ = l_airports                                          #  l_airport is of type, Node   <class 'katana.distributed.Node'>\n",
    "         #\n",
    "      print(\"Out degree: \", i_graph.nodes.global_out_degree(l_airport))\n",
    "\n",
    "   return\n",
    "\n",
    "l_result = my_graph.run(lambda g: my_func(g, \"Airport\"))\n",
    "\n",
    "\n",
    "#  Error,\n",
    "#\n",
    "#     Host 0 errors:\n",
    "#     Traceback (most recent call last):\n",
    "#       File \"/opt/miniconda/lib/python3.8/site-packages/katana_enterprise/worker/worker.py\", line 86, in execute\n",
    "#         value = function(graph)\n",
    "#       File \"/tmp/ipykernel_2661/2849117150.py\", line 12, in <lambda>\n",
    "#       File \"/tmp/ipykernel_2661/2849117150.py\", line 8, in my_func\n",
    "#     ValueError: Not implemented\n"
   ]
  },
  {
   "cell_type": "code",
   "execution_count": null,
   "id": "e7699051-3aec-47b2-bb59-61da60b8c378",
   "metadata": {},
   "outputs": [],
   "source": []
  },
  {
   "cell_type": "code",
   "execution_count": null,
   "id": "772fdad2-0311-4424-bf02-b10d757c6ee4",
   "metadata": {},
   "outputs": [],
   "source": []
  },
  {
   "cell_type": "markdown",
   "id": "0c89a8a0-f1fa-4821-a349-ce8e7e6a682b",
   "metadata": {},
   "source": [
    "# UDFs, Example 04: List Countries in the Graph"
   ]
  },
  {
   "cell_type": "code",
   "execution_count": null,
   "id": "8b9e880e-4203-4d93-a26c-ad87d26874bd",
   "metadata": {},
   "outputs": [],
   "source": [
    "\n",
    "def my_func(i_graph, i_label):\n",
    "    \n",
    "   l_airports: Sequence[Node] = i_graph.nodes(labels = i_label)\n",
    "\n",
    "   l_airport_name = i_graph.nodes.get_property(\"airport_name\")\n",
    "    \n",
    "   print(\"Airport names: \", set(l_airport_name[l_airports]))    \n",
    "\n",
    "   return\n",
    "    \n",
    "    \n",
    "l_result = my_graph.run(lambda g: my_func(g, \"Airport\"))\n",
    "\n",
    "\n",
    "#  Sample output,\n",
    "#\n",
    "#     Host 0 output:\n",
    "#     Airport names:  {'Denver', 'Milwaukee', 'Chicago O-Hare'}\n",
    "#     \n",
    "#     Host 1 output:\n",
    "#     Airport names:  {'San Jose', 'Chicago O-Hare', 'Denver'}\n",
    "#     \n",
    "#     Host 2 output:\n",
    "#     Airport names:  {'Denver', 'Chicago O-Hare', 'San Jose'}\n"
   ]
  },
  {
   "cell_type": "code",
   "execution_count": null,
   "id": "f832a44e-767d-485f-a0b6-9be7551186c0",
   "metadata": {},
   "outputs": [],
   "source": []
  },
  {
   "cell_type": "code",
   "execution_count": null,
   "id": "5e6a695c-da38-43c7-8d64-584fa31c0918",
   "metadata": {},
   "outputs": [],
   "source": []
  },
  {
   "cell_type": "markdown",
   "id": "b7a5879d-4555-4f8b-a373-84f25836ea4d",
   "metadata": {},
   "source": [
    "# UDFs, Example 05: Cities in Each Country"
   ]
  },
  {
   "cell_type": "code",
   "execution_count": null,
   "id": "9ef7ee48-3f93-4f3c-94b5-6c2cba2d4fdc",
   "metadata": {},
   "outputs": [],
   "source": [
    "\n",
    "#  The example as listed does Cities in Country.\n",
    "#\n",
    "#  Our graph does not have that hierarchy, so we'll do Airport - FLIES_TO  -> Airport\n",
    "#\n",
    "\n",
    "def my_func(i_graph, i_property):\n",
    "    \n",
    "   l_airports: Sequence[Node] = i_graph.nodes(labels = i_property)\n",
    "\n",
    "   l_property = i_graph.nodes.get_property(\"airport_name\")\n",
    "    \n",
    "   l_dest_nodes = {}\n",
    "    \n",
    "   l_labels = i_graph.out_edges.label_manager[\"FLIES_TO\"]                 #  <class 'katana.local_native.LabelSet'>\n",
    "    \n",
    "   for l_node in l_airports:\n",
    "      for l_edge in i_graph.out_edges(node = l_node):\n",
    "         l_label = i_graph.out_edges.labels(l_edge)\n",
    "         if (l_label == l_labels):\n",
    "            l_dest_node: Node = i_graph.out_edges.dst(edge = l_edge)\n",
    "               #\n",
    "            l_dest_nodes.setdefault(l_property[l_dest_node], set()).add(l_property[l_node])\n",
    "            \n",
    "   print(\"Number of Dest Airports: %d\" % (len(l_dest_nodes)))\n",
    "      #\n",
    "   print(l_dest_nodes)\n",
    "    \n",
    "    \n",
    "   return\n",
    "\n",
    "\n",
    "l_result = my_graph.run(lambda g: my_func(g, \"Airport\"))\n",
    "\n",
    "\n",
    "#  Sample output,\n",
    "#\n",
    "#     Host 0 output:\n",
    "#     Number of Dest Airports: 3\n",
    "#     {'Chicago O-Hare': {'Milwaukee'}, 'Milwaukee': {'Chicago O-Hare'}, 'Denver': {'Chicago O-Hare'}}\n",
    "#     \n",
    "#     Host 1 output:\n",
    "#     Number of Dest Airports: 2\n",
    "#     {'Chicago O-Hare': {'San Jose'}, 'Denver': {'San Jose'}}\n",
    "#     \n",
    "#     Host 2 output:\n",
    "#     Number of Dest Airports: 2\n",
    "#     {'San Jose': {'Denver'}, 'Chicago O-Hare': {'Denver'}}\n"
   ]
  },
  {
   "cell_type": "code",
   "execution_count": null,
   "id": "062ecebe-b8c8-4139-8739-fe9edb6677a9",
   "metadata": {},
   "outputs": [],
   "source": []
  },
  {
   "cell_type": "code",
   "execution_count": null,
   "id": "4a52bea3-3fcd-43b6-b252-809c0c99e12b",
   "metadata": {},
   "outputs": [],
   "source": []
  },
  {
   "cell_type": "markdown",
   "id": "2ea600c3-9f4a-43a0-aa82-d23e15af8a26",
   "metadata": {},
   "source": [
    "# UDFs, Example 06: Count Message Nodes Using Chrome"
   ]
  },
  {
   "cell_type": "code",
   "execution_count": 87,
   "id": "21c6717d-a1fa-4d98-9b3f-1fa8213fe0ed",
   "metadata": {},
   "outputs": [
    {
     "data": {
      "application/vnd.jupyter.widget-view+json": {
       "model_id": "44b27d38652c4a75a68eb4a5c8ab3aea",
       "version_major": 2,
       "version_minor": 0
      },
      "text/plain": [
       "          0/? [?op/s]"
      ]
     },
     "metadata": {},
     "output_type": "display_data"
    },
    {
     "name": "stdout",
     "output_type": "stream",
     "text": [
      "\n",
      "Host 0 output:\n",
      "Milwaukee\n",
      "\n",
      "Host 1 output:\n",
      "San Jose\n",
      "\n",
      "Host 2 output:\n",
      "San Jose\n"
     ]
    }
   ],
   "source": [
    "\n",
    "def my_func(i_graph, i_property):\n",
    "    \n",
    "   l_nodes: Sequence[Node] = i_graph.nodes()\n",
    "\n",
    "   l_property = i_graph.nodes.get_property(\"airport_name\")\n",
    "    \n",
    "    \n",
    "   #  The ( or \"A\" ) below ..\n",
    "   #  \n",
    "   #     .  i_graph.nodes returns all nodes\n",
    "   #     .  The get_property() may return None, as some Nodes do not have given properties.\n",
    "   #     .  So .. ..  if (l_proprty[m]  may return None,\n",
    "   #           which is why we need the ( .. or \"A\")\n",
    "   #\n",
    "    \n",
    "   l_airports = set(m for m in l_nodes if (l_property[m] or \"A\") > \"M\")\n",
    "      #\n",
    "   for l_each in l_airports:\n",
    "      print(l_property[l_each])\n",
    "    \n",
    "   return\n",
    "\n",
    "l_result = my_graph.run(lambda g: my_func(g, \"Airport\"))\n",
    "\n",
    "#  Sample output,\n",
    "#\n",
    "#     Host 0 output:\n",
    "#     Milwaukee\n",
    "#     \n",
    "#     Host 1 output:\n",
    "#     San Jose\n",
    "#     \n",
    "#     Host 2 output:\n",
    "#     San Jose\n"
   ]
  },
  {
   "cell_type": "code",
   "execution_count": null,
   "id": "811a2a53-cdcc-4a16-a0a7-315b0886c688",
   "metadata": {},
   "outputs": [],
   "source": []
  },
  {
   "cell_type": "code",
   "execution_count": null,
   "id": "f4f7ed03-30ee-4ac4-aea7-0e2eae75f748",
   "metadata": {},
   "outputs": [],
   "source": []
  },
  {
   "cell_type": "markdown",
   "id": "3a5491d9-a48f-4485-a3de-f2332514542c",
   "metadata": {},
   "source": [
    "# UDFs, Example 07: Upsert Node Properties"
   ]
  },
  {
   "cell_type": "code",
   "execution_count": null,
   "id": "4c1b3b28-e581-4d7b-a14c-ac32e8d67b7c",
   "metadata": {},
   "outputs": [],
   "source": [
    "\n",
    "#  See file 20*\n"
   ]
  },
  {
   "cell_type": "code",
   "execution_count": null,
   "id": "d6a15667-6f57-4fae-91cf-51d1fc0bf96f",
   "metadata": {},
   "outputs": [],
   "source": []
  },
  {
   "cell_type": "code",
   "execution_count": null,
   "id": "b781d541-56ce-4394-81d8-e98c5e50eb48",
   "metadata": {},
   "outputs": [],
   "source": []
  }
 ],
 "metadata": {
  "kernelspec": {
   "display_name": "Python 3 (ipykernel)",
   "language": "python",
   "name": "python3"
  },
  "language_info": {
   "codemirror_mode": {
    "name": "ipython",
    "version": 3
   },
   "file_extension": ".py",
   "mimetype": "text/x-python",
   "name": "python",
   "nbconvert_exporter": "python",
   "pygments_lexer": "ipython3",
   "version": "3.8.13"
  }
 },
 "nbformat": 4,
 "nbformat_minor": 5
}
