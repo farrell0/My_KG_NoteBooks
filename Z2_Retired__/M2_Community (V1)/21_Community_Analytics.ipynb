{
 "cells": [
  {
   "cell_type": "markdown",
   "id": "d3ebe820-bc6d-4948-b668-8b81cd3cbf29",
   "metadata": {
    "tags": []
   },
   "source": [
    "#  Setup stuff: Connectivity"
   ]
  },
  {
   "cell_type": "code",
   "execution_count": null,
   "id": "1ea957d6-30c6-427a-ae4e-15ecfba0c4f9",
   "metadata": {},
   "outputs": [],
   "source": [
    "import os\n",
    "\n",
    "from katana import remote\n",
    "from katana.remote import import_data\n",
    "\n",
    "\n",
    "os.environ[\"KATANA_SERVER_ADDRESS\"] = \"localhost:8080\"\n",
    "\n",
    "my_client = remote.Client()\n",
    "\n",
    "print(my_client)"
   ]
  },
  {
   "cell_type": "code",
   "execution_count": null,
   "id": "97571016-7c02-4e90-a75a-136a0dacd35f",
   "metadata": {},
   "outputs": [],
   "source": [
    "DB_NAME    = \"my_db\"\n",
    "GRAPH_NAME = \"my_graph\"\n",
    "\n",
    "print(\"--\")"
   ]
  },
  {
   "cell_type": "code",
   "execution_count": null,
   "id": "c5db6505-7fc8-4779-b194-9ed8945b9a90",
   "metadata": {},
   "outputs": [],
   "source": [
    "#  CONNECT TO GRAPH\n",
    "\n",
    "for l_graph in my_client.get_database(name=DB_NAME).graphs_in_database():\n",
    "   if (l_graph.name == GRAPH_NAME):\n",
    "      my_graph=my_client.get_database(name=DB_NAME).get_graph_by_id(id=l_graph.graph_id)\n",
    "         #\n",
    "      break\n",
    "\n",
    "print(my_graph)"
   ]
  },
  {
   "cell_type": "markdown",
   "id": "397998bc-ab3d-43a9-8296-f81fa4d08062",
   "metadata": {},
   "source": [
    "# Setup stuff: Debugging"
   ]
  },
  {
   "cell_type": "code",
   "execution_count": null,
   "id": "fe05e591-927a-456b-b973-7aceba0bea39",
   "metadata": {},
   "outputs": [],
   "source": [
    "#  LIST ALL GRAPHS\n",
    "\n",
    "for l_graph in my_client.graphs():\n",
    "   print(\"GRAPH ID: \", l_graph.graph_id, \"     DB GRAPH: \", l_graph.name, \"    GRAPH VERSION: \", l_graph.version)\n",
    "\n",
    "print(\"--\")\n"
   ]
  },
  {
   "cell_type": "code",
   "execution_count": null,
   "id": "ce3ecfbe-cca0-41dd-bb15-594f2d545365",
   "metadata": {},
   "outputs": [],
   "source": [
    "display(my_graph.num_nodes())\n",
    "display(my_graph.num_edges())"
   ]
  },
  {
   "cell_type": "code",
   "execution_count": null,
   "id": "ef619a08-7263-4bb3-9edd-34148f639ec5",
   "metadata": {},
   "outputs": [],
   "source": [
    "my_graph.query(\"CALL graph.schema() RETURN *\")\n"
   ]
  },
  {
   "cell_type": "code",
   "execution_count": null,
   "id": "71fb84ed-29d1-4e3b-ae1f-b2d009af96ff",
   "metadata": {},
   "outputs": [],
   "source": [
    "my_client.widgets().operations()\n"
   ]
  },
  {
   "cell_type": "code",
   "execution_count": null,
   "id": "fa679727-78d7-442a-9bdc-214357f44551",
   "metadata": {},
   "outputs": [],
   "source": [
    "# ##################################################################"
   ]
  },
  {
   "cell_type": "code",
   "execution_count": null,
   "id": "7bc4bbcd-baf4-4e28-a884-0e2a82905bd1",
   "metadata": {},
   "outputs": [],
   "source": [
    "\n",
    "l_result = my_graph.query(\"\"\"\n",
    "\n",
    "   MATCH (n) - [ r ] -> (m)\n",
    "   RETURN n, m, r\n",
    "   \n",
    "   \"\"\", contextualize=True)\n",
    "\n",
    "l_result.view()\n"
   ]
  },
  {
   "cell_type": "markdown",
   "id": "356be1fb-2be3-40a5-83bb-5e3dd28fe36d",
   "metadata": {
    "tags": []
   },
   "source": [
    "#  Finally now, the Analytics .."
   ]
  },
  {
   "cell_type": "code",
   "execution_count": null,
   "id": "c49d1117-7458-4728-b25c-c2975b1fce37",
   "metadata": {},
   "outputs": [],
   "source": [
    "\n",
    "#  Community lists                            (This list redundant with M1*/21*)\n",
    "#\n",
    "#    .  Connected components                   ??\n",
    "#    .  Community Detection using Labels         (local)\n",
    "#    .  Louvain                               heterogeneous\n",
    "#    .  Local Clustering Coefficient             (local)\n",
    "#    .  Triangle Counting                     not implemented\n",
    "#    .  K-Core\n",
    "#    .  K-Truss                                  (local)\n",
    "\n"
   ]
  },
  {
   "cell_type": "code",
   "execution_count": null,
   "id": "1209e701-1aca-4bde-8145-084dd35776f6",
   "metadata": {},
   "outputs": [],
   "source": [
    "\n",
    "# import numpy as np\n",
    "from katana import remote\n",
    "from katana.remote import analytics\n",
    "# from katana_enterprise.distributed import PartitionPolicy\n",
    "\n",
    "import pandas as pd\n",
    "   #\n",
    "pd.set_option(\"display.width\", 480)\n",
    "\n",
    "\n",
    "l_cntr = 0\n",
    "\n",
    "print(\"--\")\n"
   ]
  },
  {
   "cell_type": "code",
   "execution_count": null,
   "id": "78ffe789-2ba9-4ed1-886b-c42321d3bba2",
   "metadata": {},
   "outputs": [],
   "source": [
    "\n",
    "#  Connected components ..\n",
    "\n",
    "\n",
    "#  Generate a unique prop name so we can run this over and over without edit ..\n",
    "#\n",
    "l_cntr += 1\n",
    "   #\n",
    "l_output_propname     = \"scored_prop_\" + str(l_cntr).zfill(4)\n",
    "\n",
    "l_max_iterations      = 10000 \n",
    "\n",
    "\n",
    "analytics.connected_components(\n",
    "   my_graph,\n",
    "   result_property_name = l_output_propname,\n",
    "   max_iterations       = l_max_iterations\n",
    "   )\n",
    "\n",
    "print(\"--\")\n"
   ]
  },
  {
   "cell_type": "code",
   "execution_count": null,
   "id": "17e8c814-5efd-480f-8645-52524b4d9962",
   "metadata": {},
   "outputs": [],
   "source": [
    "l_result = my_graph.query(\"\"\"\n",
    "\n",
    "   MATCH (n)\n",
    "   RETURN n\n",
    "   \n",
    "   \"\"\", contextualize=False)\n",
    "\n",
    "print(l_result[0:30])\n",
    "\n",
    "\n",
    "#  n.internal_id   n.labels                n.airport_code          n.airport_name                  n.scored_prop_0001   n.type  \n",
    "#  0               0  [Airport]            MKE                     Milwaukee                       0                    node  \n",
    "#  1               1  [Airport]            ORD                     Chicago O-Hare                  0                    node  \n",
    "#  2               2  [Airport]            SJC                     San Jose                        0                    node  \n",
    "#  3               3  [Airport]            DEN                     Denver                          0                    node  \n",
    "#  4               6  [Airport]            GRB                     Green Bay                       0                    node  \n",
    "#  5               7  [Airport]            EGE                     Eagle, Vail                     0                    node  \n",
    "#  6               8  [Airport]            COS                     Colorado Springs                0                    node  \n",
    "#  7               9  [Airport]            PUB                     Pueblo                          0                    node  \n",
    "#  8              10  [Airport]            ASE                     Aspen                           0                    node  \n",
    "#  9              11  [Airport]            FNL                     Fort Collins, Loveland          0                    node  \n",
    "#  10              4  [Airport]            MSP                     Minneapolis, St.Paul            0                    node  \n",
    "#  11              5  [Airport]            MSN                     Madison                         0                    node  \n",
    "\n",
    "    "
   ]
  },
  {
   "cell_type": "code",
   "execution_count": null,
   "id": "cb3dada9-abbc-4ad5-aa77-6dc23482423f",
   "metadata": {},
   "outputs": [],
   "source": [
    "# ##################################################################"
   ]
  },
  {
   "cell_type": "code",
   "execution_count": null,
   "id": "58508c1f-c64a-4872-afa2-627df64e198e",
   "metadata": {},
   "outputs": [],
   "source": [
    "\n",
    "#  CDLP, Community Detection using Label Propagation is currently,  katana.local.analytics.cdlp()   only\n",
    "\n"
   ]
  },
  {
   "cell_type": "code",
   "execution_count": null,
   "id": "2ca3d7e4-e44e-4156-9980-f73753e55747",
   "metadata": {},
   "outputs": [],
   "source": []
  },
  {
   "cell_type": "code",
   "execution_count": null,
   "id": "1a44d865-c9e0-4a25-9668-20ef7e2cd413",
   "metadata": {},
   "outputs": [],
   "source": [
    "# ##################################################################"
   ]
  },
  {
   "cell_type": "code",
   "execution_count": null,
   "id": "836d565d-8078-407d-a220-8b94301f71d8",
   "metadata": {},
   "outputs": [],
   "source": [
    "\n",
    "#  Louvain, needs a heterogenous graph ?   (needs, allows ?)\n",
    "\n",
    "#  Generate a unique prop name so we can run this over and over without edit ..\n",
    "#\n",
    "l_cntr += 1\n",
    "   #\n",
    "l_output_propname     = \"scored_prop_\" + str(l_cntr).zfill(4)\n",
    "\n",
    "l_max_iterations      = 10000 \n",
    "\n",
    "\n",
    "analytics.louvain_clustering(\n",
    "   my_graph,\n",
    "   result_property_name = l_output_propname,\n",
    "   is_symmetric         = False\n",
    "   )\n",
    "\n",
    "print(\"--\")\n"
   ]
  },
  {
   "cell_type": "code",
   "execution_count": null,
   "id": "8394e630-4e7d-48e2-9a2d-7705e0a2b74a",
   "metadata": {},
   "outputs": [],
   "source": [
    "\n",
    "l_result = my_graph.query(\"\"\"\n",
    "\n",
    "   MATCH (n)\n",
    "   RETURN n\n",
    "   \n",
    "   \"\"\", contextualize=False)\n",
    "\n",
    "print(l_result[0:30])\n",
    "\n",
    "\n",
    "#     n.internal_id   n.labels n.airport_code          n.airport_name  n.scored_prop_0001 n.type\n",
    "# 0               0  [Airport]            MKE               Milwaukee                   0   node\n",
    "# 1               1  [Airport]            ORD          Chicago O-Hare                   1   node\n",
    "# 2               2  [Airport]            SJC                San Jose                   2   node\n",
    "# 3               3  [Airport]            DEN                  Denver                   3   node\n",
    "# 4               4  [Airport]            MSP    Minneapolis, St.Paul                   4   node\n",
    "# 5               5  [Airport]            MSN                 Madison                   5   node\n",
    "# 6               8  [Airport]            COS        Colorado Springs                   8   node\n",
    "# 7               9  [Airport]            PUB                  Pueblo                   9   node\n",
    "# 8               6  [Airport]            GRB               Green Bay                   6   node\n",
    "# 9               7  [Airport]            EGE             Eagle, Vail                   7   node\n",
    "# 10             10  [Airport]            ASE                   Aspen                  10   node\n",
    "# 11             11  [Airport]            FNL  Fort Collins, Loveland                  11   node\n",
    "\n"
   ]
  },
  {
   "cell_type": "code",
   "execution_count": null,
   "id": "3957aaaa-2170-4f9e-b4e4-218ad4d50db7",
   "metadata": {},
   "outputs": [],
   "source": [
    "# ##################################################################"
   ]
  },
  {
   "cell_type": "code",
   "execution_count": null,
   "id": "8826433f-f323-4073-b811-99b9adbc5047",
   "metadata": {},
   "outputs": [],
   "source": [
    "\n",
    "#  Local clustering coefficient, is currently,  katana.local.analytics.local_clustering_coefficient   only"
   ]
  },
  {
   "cell_type": "code",
   "execution_count": null,
   "id": "da047ecc-72c3-499b-ba66-d635671c6ca2",
   "metadata": {},
   "outputs": [],
   "source": []
  },
  {
   "cell_type": "code",
   "execution_count": null,
   "id": "de8e0cdb-f6f9-47cf-ad13-df683caf8da5",
   "metadata": {},
   "outputs": [],
   "source": [
    "# ##################################################################"
   ]
  },
  {
   "cell_type": "code",
   "execution_count": null,
   "id": "4ba0ae02-2b2b-4d66-afa9-8f7d17c4301c",
   "metadata": {},
   "outputs": [],
   "source": [
    "\n",
    "#  Triangle counting\n",
    "\n",
    "l_result_tc = analytics.triangle_count(\n",
    "   my_graph\n",
    "   )\n",
    "\n",
    "print(\"--\")\n",
    "\n",
    "\n",
    "#  AttributeError: module 'katana_enterprise.remote.analytics' has no attribute 'triangle_count'\n"
   ]
  },
  {
   "cell_type": "code",
   "execution_count": null,
   "id": "bb6755e3-0e88-4349-98c9-e5ec133231ca",
   "metadata": {},
   "outputs": [],
   "source": []
  },
  {
   "cell_type": "code",
   "execution_count": null,
   "id": "0991f2d5-c28c-4d40-a1b2-10a20573b2d3",
   "metadata": {},
   "outputs": [],
   "source": [
    "# ##################################################################"
   ]
  },
  {
   "cell_type": "code",
   "execution_count": null,
   "id": "930bfd64-f69c-4d23-a521-9a8ce3df2601",
   "metadata": {},
   "outputs": [],
   "source": [
    "\n",
    "#  K-Core \n",
    "\n",
    "#  Generate a unique prop name so we can run this over and over without edit ..\n",
    "#\n",
    "l_cntr += 1\n",
    "   #\n",
    "l_output_propname     = \"scored_prop_\" + str(l_cntr).zfill(4)\n",
    "\n",
    "l_max_iterations      = 10000 \n",
    "\n",
    "#  Below-\n",
    "#     1,  all nodes return 1\n",
    "#     2,  all nodes return zero\n",
    "#     3,  all nodes return zero\n",
    "#     4,  all node return zero\n",
    "\n",
    "\n",
    "l_k_core_number       = 3\n",
    "\n",
    "\n",
    "analytics.k_core(\n",
    "   my_graph,\n",
    "   result_property_name = l_output_propname,\n",
    "   max_iterations       = l_max_iterations,\n",
    "   k_core_number        = l_k_core_number\n",
    "   )\n",
    "\n",
    "print(\"--\")\n"
   ]
  },
  {
   "cell_type": "code",
   "execution_count": null,
   "id": "804f2a93-658f-45a3-a609-2a33f78165ec",
   "metadata": {},
   "outputs": [],
   "source": [
    "l_result = my_graph.query(\"\"\"\n",
    "\n",
    "   MATCH (n)\n",
    "   RETURN n\n",
    "   \n",
    "   \"\"\", contextualize=False)\n",
    "\n",
    "print(l_result[0:30])\n",
    "\n",
    "\n",
    "#      n.internal_id   n.labels n.airport_code          n.airport_name        n.scored_prop_0001  n.scored_prop_0002     n.type  \n",
    "#  0               0  [Airport]            MKE               Milwaukee        0                   0                      node  \n",
    "#  1               1  [Airport]            ORD          Chicago O-Hare        0                   0                      node  \n",
    "#  2               2  [Airport]            SJC                San Jose        0                   0                      node  \n",
    "#  3               3  [Airport]            DEN                  Denver        0                   0                      node  \n",
    "#  4               4  [Airport]            MSP    Minneapolis, St.Paul        0                   0                      node  \n",
    "#  5               5  [Airport]            MSN                 Madison        0                   0                      node  \n",
    "#  6               6  [Airport]            GRB               Green Bay        0                   0                      node  \n",
    "#  7               7  [Airport]            EGE             Eagle, Vail        0                   0                      node  \n",
    "#  8               9  [Airport]            PUB                  Pueblo        0                   0                      node  \n",
    "#  9              10  [Airport]            ASE                   Aspen        0                   0                      node  \n",
    "#  10             11  [Airport]            FNL  Fort Collins, Loveland        0                   0                      node  \n",
    "#  11              8  [Airport]            COS        Colorado Springs        0                   0                      node  \n",
    "\n"
   ]
  },
  {
   "cell_type": "code",
   "execution_count": null,
   "id": "874e5b55-35a7-47bb-9c77-dd280bdb5dd7",
   "metadata": {},
   "outputs": [],
   "source": []
  },
  {
   "cell_type": "code",
   "execution_count": null,
   "id": "07a4e4c1-3eba-4413-a4c0-6ebbd2961336",
   "metadata": {},
   "outputs": [],
   "source": [
    "# ##################################################################"
   ]
  },
  {
   "cell_type": "code",
   "execution_count": null,
   "id": "5da8dc34-59ed-46eb-bd40-4bd48ec5a156",
   "metadata": {},
   "outputs": [],
   "source": [
    "\n",
    "\n",
    "#  K-Truss   katana.local.analytics.k_truss()   is local only\n",
    "\n"
   ]
  },
  {
   "cell_type": "code",
   "execution_count": null,
   "id": "53047c13-6a6d-4e26-87f6-6aa51298dacb",
   "metadata": {},
   "outputs": [],
   "source": []
  }
 ],
 "metadata": {
  "kernelspec": {
   "display_name": "Python 3 (ipykernel)",
   "language": "python",
   "name": "python3"
  },
  "language_info": {
   "codemirror_mode": {
    "name": "ipython",
    "version": 3
   },
   "file_extension": ".py",
   "mimetype": "text/x-python",
   "name": "python",
   "nbconvert_exporter": "python",
   "pygments_lexer": "ipython3",
   "version": "3.8.13"
  }
 },
 "nbformat": 4,
 "nbformat_minor": 5
}
