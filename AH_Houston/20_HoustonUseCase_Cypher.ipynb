{
 "cells": [
  {
   "cell_type": "code",
   "execution_count": null,
   "id": "549d17ee-1269-420a-8638-850e3cdf727a",
   "metadata": {},
   "outputs": [],
   "source": [
    "\n",
    "#  Setting display options \n",
    "\n",
    "import pandas as pd\n",
    "   #\n",
    "pd.set_option(\"display.width\", 480)\n",
    "\n",
    "#  Sets horizontal scroll for wide outputs\n",
    "#\n",
    "from IPython.display import display, HTML\n",
    "display(HTML(\"\"))\n",
    "\n",
    "from tabulate import tabulate\n",
    "\n",
    "print(\"--\")\n"
   ]
  },
  {
   "cell_type": "markdown",
   "id": "d3ebe820-bc6d-4948-b668-8b81cd3cbf29",
   "metadata": {
    "tags": []
   },
   "source": [
    "#  Setup stuff: Connectivity"
   ]
  },
  {
   "cell_type": "code",
   "execution_count": null,
   "id": "1ea957d6-30c6-427a-ae4e-15ecfba0c4f9",
   "metadata": {},
   "outputs": [],
   "source": [
    "\n",
    "from katana import remote\n",
    "from katana.remote import import_data\n",
    "\n",
    "my_client = remote.Client()\n",
    "\n",
    "print(my_client)\n"
   ]
  },
  {
   "cell_type": "code",
   "execution_count": null,
   "id": "97571016-7c02-4e90-a75a-136a0dacd35f",
   "metadata": {},
   "outputs": [],
   "source": [
    "\n",
    "NUM_PARTITIONS  = 3\n",
    "   #\n",
    "DB_NAME         = \"my_db\"\n",
    "GRAPH_NAME      = \"my_graph\"\n",
    "\n",
    "print(\"--\")\n"
   ]
  },
  {
   "cell_type": "code",
   "execution_count": null,
   "id": "c5db6505-7fc8-4779-b194-9ed8945b9a90",
   "metadata": {},
   "outputs": [],
   "source": [
    "\n",
    "#  CONNECT TO GRAPH\n",
    "\n",
    "my_graph, *_ = my_client.get_database(name=DB_NAME).find_graphs_by_name(GRAPH_NAME)\n",
    "\n",
    "print(my_graph)\n"
   ]
  },
  {
   "cell_type": "markdown",
   "id": "16c47d1b-a0a4-4eae-b079-7eabf4e1c099",
   "metadata": {},
   "source": [
    "#  Analytics: Why we are here"
   ]
  },
  {
   "cell_type": "code",
   "execution_count": null,
   "id": "4aae001c-b926-4e3b-b22a-8c2f77941da3",
   "metadata": {},
   "outputs": [],
   "source": [
    "\n",
    "#  First neighborhood\n",
    "#\n",
    "#     (No rows found)\n",
    "\n",
    "l_result = my_graph.query(\"\"\"\n",
    "\n",
    "   MATCH (n: Person) - [r] -> (m) \n",
    "   WHERE\n",
    "      m.city = 'Houston'\n",
    "   RETURN *\n",
    "\n",
    "   \"\"\", contextualize=True)\n",
    "\n",
    "l_result.view()\n"
   ]
  },
  {
   "cell_type": "code",
   "execution_count": null,
   "id": "193a18f4-4c95-45d2-a2c4-3b9ede13ce8a",
   "metadata": {},
   "outputs": [],
   "source": [
    "\n",
    "#  All neighborhood depths\n",
    "#\n",
    "#     (Currently: error)\n",
    "\n",
    "l_result = my_graph.query(\"\"\"\n",
    "\n",
    "   MATCH (n: Person) - [r *] -> (m) \n",
    "   WHERE\n",
    "      m.city = 'Houston'\n",
    "   RETURN n, r, m\n",
    "\n",
    "   \"\"\", contextualize=True)\n",
    "\n",
    "l_result.view()\n",
    "\n",
    "\n",
    "# display(print(l_result))\n",
    "# \n",
    "#  Outputted value,\n",
    "#\n",
    "#  OperationError: FZSoWndtUBvHNquRkos1tkw5DS9CwvH6NF4X5Ady2WfZ-43CxYsTPwbyPAsoQQ backtrace (QueryClient.cpp:575):\n",
    "#  opgraph check failed (OpGraph.cpp:564): Unimplemented Features Pass (OpGraphErrorChecker.cpp:12):\n",
    "#  backtrace (UnimplementedFeaturesChecker.cpp:376): backtrace (OpGraph.cpp:822):\n",
    "#  backtrace (OpGraph.cpp:822): backtrace (OpGraph.cpp:798):\n",
    "#  returning named variable paths not yet supported (UnimplementedFeaturesChecker.cpp:197): InternalError:NotImplemented: InternalError:NotImplemented\n",
    "\n"
   ]
  },
  {
   "cell_type": "code",
   "execution_count": 8,
   "id": "20764f78-b38c-4750-84a2-1971a247b0c0",
   "metadata": {},
   "outputs": [
    {
     "data": {
      "application/vnd.jupyter.widget-view+json": {
       "model_id": "8e70f638365b4cb9a9fa755e80732f99",
       "version_major": 2,
       "version_minor": 0
      },
      "text/plain": [
       "          0/? [?op/s]"
      ]
     },
     "metadata": {},
     "output_type": "display_data"
    },
    {
     "data": {
      "application/vnd.jupyter.widget-view+json": {
       "model_id": "4d9d94ce37a24e5b86223669cd0de186",
       "version_major": 2,
       "version_minor": 0
      },
      "text/plain": [
       "          0/? [?op/s]"
      ]
     },
     "metadata": {},
     "output_type": "display_data"
    },
    {
     "name": "stdout",
     "output_type": "stream",
     "text": [
      "+----+-----------------+-----------------+-------------+----------+--------+----------+----------+-----------------+------------+-----------+--------+----------+----------+\n",
      "|    |   m.internal_id | m.labels        | m.LABEL     | m.city   | m.id   | m.type   | m.name   |   n.internal_id | n.labels   | n.LABEL   | n.id   | n.name   | n.type   |\n",
      "|----+-----------------+-----------------+-------------+----------+--------+----------+----------+-----------------+------------+-----------+--------+----------+----------|\n",
      "|  0 |              19 | ['Store']       | Store       | Houston  | S_104  | node     | nan      |               1 | ['Person'] | Person    | P_102  | Anand    | node     |\n",
      "|  1 |              19 | ['Store']       | Store       | Houston  | S_104  | node     | nan      |               1 | ['Person'] | Person    | P_102  | Anand    | node     |\n",
      "|  2 |              21 | ['Dist_Center'] | Dist_Center | Houston  | D_102  | node     | nan      |               1 | ['Person'] | Person    | P_102  | Anand    | node     |\n",
      "|  3 |              21 | ['Dist_Center'] | Dist_Center | Houston  | D_102  | node     | nan      |               1 | ['Person'] | Person    | P_102  | Anand    | node     |\n",
      "|  4 |              19 | ['Store']       | Store       | Houston  | S_104  | node     | nan      |               2 | ['Person'] | Person    | P_103  | Brian    | node     |\n",
      "|  5 |              19 | ['Store']       | Store       | Houston  | S_104  | node     | nan      |               2 | ['Person'] | Person    | P_103  | Brian    | node     |\n",
      "|  6 |              19 | ['Store']       | Store       | Houston  | S_104  | node     | nan      |               0 | ['Person'] | Person    | P_101  | Justin   | node     |\n",
      "|  7 |              19 | ['Store']       | Store       | Houston  | S_104  | node     | nan      |               0 | ['Person'] | Person    | P_101  | Justin   | node     |\n",
      "|  8 |              23 | ['Reviewer']    | Reviewer    | Houston  | R_102  | node     | Allen    |               3 | ['Person'] | Person    | P_104  | Sameer   | node     |\n",
      "|  9 |              19 | ['Store']       | Store       | Houston  | S_104  | node     | nan      |               3 | ['Person'] | Person    | P_104  | Sameer   | node     |\n",
      "| 10 |              19 | ['Store']       | Store       | Houston  | S_104  | node     | nan      |               3 | ['Person'] | Person    | P_104  | Sameer   | node     |\n",
      "| 11 |              21 | ['Dist_Center'] | Dist_Center | Houston  | D_102  | node     | nan      |               3 | ['Person'] | Person    | P_104  | Sameer   | node     |\n",
      "| 12 |              21 | ['Dist_Center'] | Dist_Center | Houston  | D_102  | node     | nan      |               3 | ['Person'] | Person    | P_104  | Sameer   | node     |\n",
      "+----+-----------------+-----------------+-------------+----------+--------+----------+----------+-----------------+------------+-----------+--------+----------+----------+\n"
     ]
    }
   ],
   "source": [
    "\n",
    "#  How Persons relate to Houston ..\n",
    "#\n",
    "#     P_101   Justin\n",
    "#     P_102   Anand\n",
    "#     P_103   Brian\n",
    "#     P_104   Sameer\n",
    "\n",
    "#  The GUI graph is not great; we'll use tabulate\n",
    "#\n",
    "\n",
    "l_result = my_graph.query(\"\"\"\n",
    "\n",
    "   MATCH (n: Person) - [*] - > (m) \n",
    "   WHERE\n",
    "      m.city = 'Houston'\n",
    "   RETURN *\n",
    "   ORDER BY n.name\n",
    "\n",
    "   \"\"\", contextualize=True)\n",
    "\n",
    "#  l_result.view()\n",
    "#\n",
    "print(tabulate(l_result, headers='keys', tablefmt='psql'))\n",
    "\n",
    "#  Sample output,\n",
    "#\n",
    "#     +----+-----------------+-----------------+-------------+----------+--------+----------+----------+-----------------+------------+-----------+--------+----------+----------+\n",
    "#     |    |   m.internal_id | m.labels        | m.LABEL     | m.city   | m.id   | m.type   | m.name   |   n.internal_id | n.labels   | n.LABEL   | n.id   | n.name   | n.type   |\n",
    "#     |----+-----------------+-----------------+-------------+----------+--------+----------+----------+-----------------+------------+-----------+--------+----------+----------|\n",
    "#     |  0 |              19 | ['Store']       | Store       | Houston  | S_104  | node     | nan      |               1 | ['Person'] | Person    | P_102  | Anand    | node     |\n",
    "#     |  1 |              19 | ['Store']       | Store       | Houston  | S_104  | node     | nan      |               1 | ['Person'] | Person    | P_102  | Anand    | node     |\n",
    "#     |  2 |              21 | ['Dist_Center'] | Dist_Center | Houston  | D_102  | node     | nan      |               1 | ['Person'] | Person    | P_102  | Anand    | node     |\n",
    "#     |  3 |              21 | ['Dist_Center'] | Dist_Center | Houston  | D_102  | node     | nan      |               1 | ['Person'] | Person    | P_102  | Anand    | node     |\n",
    "#     |  4 |              19 | ['Store']       | Store       | Houston  | S_104  | node     | nan      |               2 | ['Person'] | Person    | P_103  | Brian    | node     |\n",
    "#     |  5 |              19 | ['Store']       | Store       | Houston  | S_104  | node     | nan      |               2 | ['Person'] | Person    | P_103  | Brian    | node     |\n",
    "#     |  6 |              19 | ['Store']       | Store       | Houston  | S_104  | node     | nan      |               0 | ['Person'] | Person    | P_101  | Justin   | node     |\n",
    "#     |  7 |              19 | ['Store']       | Store       | Houston  | S_104  | node     | nan      |               0 | ['Person'] | Person    | P_101  | Justin   | node     |\n",
    "#     |  8 |              23 | ['Reviewer']    | Reviewer    | Houston  | R_102  | node     | Allen    |               3 | ['Person'] | Person    | P_104  | Sameer   | node     |\n",
    "#     |  9 |              19 | ['Store']       | Store       | Houston  | S_104  | node     | nan      |               3 | ['Person'] | Person    | P_104  | Sameer   | node     |\n",
    "#     | 10 |              19 | ['Store']       | Store       | Houston  | S_104  | node     | nan      |               3 | ['Person'] | Person    | P_104  | Sameer   | node     |\n",
    "#     | 11 |              21 | ['Dist_Center'] | Dist_Center | Houston  | D_102  | node     | nan      |               3 | ['Person'] | Person    | P_104  | Sameer   | node     |\n",
    "#     | 12 |              21 | ['Dist_Center'] | Dist_Center | Houston  | D_102  | node     | nan      |               3 | ['Person'] | Person    | P_104  | Sameer   | node     |\n",
    "#     +----+-----------------+-----------------+-------------+----------+--------+----------+----------+-----------------+------------+-----------+--------+----------+----------+\n"
   ]
  },
  {
   "cell_type": "code",
   "execution_count": null,
   "id": "e7e74d39-3043-4cc3-a115-e812fb5f261f",
   "metadata": {},
   "outputs": [],
   "source": [
    "# ######################################################"
   ]
  },
  {
   "cell_type": "code",
   "execution_count": null,
   "id": "9135605f-3e1a-47d5-a30a-2f72a01a75f3",
   "metadata": {},
   "outputs": [],
   "source": [
    "#  Everything below here is work in progress"
   ]
  },
  {
   "cell_type": "code",
   "execution_count": null,
   "id": "60173d02-027e-452d-b666-0200009563fc",
   "metadata": {},
   "outputs": [],
   "source": [
    "# ######################################################"
   ]
  },
  {
   "cell_type": "code",
   "execution_count": null,
   "id": "cda4c6c9-6bf8-49b3-afbf-fda8e2dfc452",
   "metadata": {},
   "outputs": [],
   "source": [
    "\n",
    "#  Can we filter out where date_shipped has already taken place ?\n",
    "#\n",
    "\n",
    "l_result = my_graph.query(\"\"\"\n",
    "\n",
    "   MATCH (n: Person) - [*] - > (m) \n",
    "   WHERE\n",
    "      m.city = 'Houston'\n",
    "   RETURN m.date_shipped\n",
    "\n",
    "   \"\"\", contextualize=True)\n",
    "\n",
    "#  l_result.view()\n",
    "#\n",
    "print(tabulate(l_result, headers='keys', tablefmt='psql'))\n",
    "\n",
    "\n",
    "\n",
    "#  Sample output,\n",
    "#\n",
    "#     +----+------------------+\n",
    "#     |    | m.date_shipped   |\n",
    "#     |----+------------------|\n",
    "#     |  0 |                  |\n",
    "#     |  1 |                  |\n",
    "#     |  2 |                  |\n",
    "#     |  3 |                  |\n",
    "#     |  4 |                  |\n",
    "#     |  5 |                  |\n",
    "#     |  6 |                  |\n",
    "#     |  7 |                  |\n",
    "#     |  8 |                  |\n",
    "#     |  9 |                  |\n",
    "#     | 10 |                  |\n",
    "#     | 11 |                  |\n",
    "#     | 12 |                  |\n",
    "#     +----+------------------+\n"
   ]
  },
  {
   "cell_type": "code",
   "execution_count": null,
   "id": "f23232dd-182a-4d32-bd2b-86b5b6567ed2",
   "metadata": {},
   "outputs": [],
   "source": [
    "\n",
    "#  This fails gracefully after 60 (?) seconds ..\n",
    "\n",
    "#  l_result = my_graph.query(\"\"\"\n",
    "#  \n",
    "#     MATCH (n: Person) - [*] - (o) - [*] - > (m) \n",
    "#     WHERE\n",
    "#        m.city = 'Houston'\n",
    "#     RETURN o.date_shipped\n",
    "#  \n",
    "#     \"\"\", contextualize=True)\n",
    "#  \n",
    "#  l_result.view()\n",
    "\n",
    "\n",
    "print(\"--\")\n",
    "\n",
    "\n",
    "#  Outputted values,\n",
    "#\n",
    "#  OperationError: 5BsJxxpX5GRqbGGukKZiyEnNn6RBwjzaCVboNZQfs2o5-5B5NmeiqeqDiGVtQb \n"
   ]
  },
  {
   "cell_type": "code",
   "execution_count": 9,
   "id": "70f3c197-5d4c-4ce7-8864-0459a4e53baa",
   "metadata": {},
   "outputs": [
    {
     "data": {
      "application/vnd.jupyter.widget-view+json": {
       "model_id": "d439bf36ffc148a0974445ba04d9607c",
       "version_major": 2,
       "version_minor": 0
      },
      "text/plain": [
       "          0/? [?op/s]"
      ]
     },
     "metadata": {},
     "output_type": "display_data"
    },
    {
     "data": {
      "application/vnd.jupyter.widget-view+json": {
       "model_id": "ab5917ba18704fcf9387c8d850fc4be0",
       "version_major": 2,
       "version_minor": 0
      },
      "text/plain": [
       "VBox(children=(HTML(value='\\n                <style>\\n                #jp-main-content-panel .widget-container…"
      ]
     },
     "metadata": {},
     "output_type": "display_data"
    }
   ],
   "source": [
    "\n",
    "#  (No data output)\n",
    "#\n",
    "\n",
    "l_result = my_graph.query(\"\"\"\n",
    "\n",
    "   MATCH (n: Person) - [p: PLACED] - (o: Order) - [*] - > (m) \n",
    "   WHERE\n",
    "      m.city = 'Houston'\n",
    "   AND\n",
    "      NOT EXISTS (o.date_shipped)\n",
    "   RETURN *\n",
    "\n",
    "   \"\"\", contextualize=True)\n",
    "\n",
    "l_result.view()\n",
    "\n",
    "\n",
    "#  Doesn't achieve desired results; data was entered as an empty string\n"
   ]
  },
  {
   "cell_type": "code",
   "execution_count": 10,
   "id": "bbe534b5-9008-4c1b-ab0a-5391482fd562",
   "metadata": {},
   "outputs": [
    {
     "data": {
      "application/vnd.jupyter.widget-view+json": {
       "model_id": "764a0354ea6b4deabf0106f0d12c3041",
       "version_major": 2,
       "version_minor": 0
      },
      "text/plain": [
       "          0/? [?op/s]"
      ]
     },
     "metadata": {},
     "output_type": "display_data"
    },
    {
     "data": {
      "application/vnd.jupyter.widget-view+json": {
       "model_id": "edcefe3bf40344d29f9d5108dec5ac05",
       "version_major": 2,
       "version_minor": 0
      },
      "text/plain": [
       "          0/? [?op/s]"
      ]
     },
     "metadata": {},
     "output_type": "display_data"
    },
    {
     "data": {
      "application/vnd.jupyter.widget-view+json": {
       "model_id": "3236616ed6e84b18b77f6ae30bce7f9d",
       "version_major": 2,
       "version_minor": 0
      },
      "text/plain": [
       "VBox(children=(HTML(value='\\n                <style>\\n                #jp-main-content-panel .widget-container…"
      ]
     },
     "metadata": {},
     "output_type": "display_data"
    }
   ],
   "source": [
    "\n",
    "#  Filter on date_shipped ..\n",
    "#\n",
    "\n",
    "l_result = my_graph.query(\"\"\"\n",
    "\n",
    "   MATCH (n: Person) - [p: PLACED] - (o: Order) - [*] - > (m) \n",
    "   WHERE\n",
    "      m.city = 'Houston'\n",
    "   AND\n",
    "      SIZE (o.date_shipped) < 1 \n",
    "   RETURN *\n",
    "\n",
    "   \"\"\", contextualize=True)\n",
    "\n",
    "l_result.view()\n"
   ]
  },
  {
   "cell_type": "code",
   "execution_count": null,
   "id": "8b41d654-da60-4fc0-8ba6-322e12186959",
   "metadata": {},
   "outputs": [],
   "source": []
  }
 ],
 "metadata": {
  "kernelspec": {
   "display_name": "Python 3 (ipykernel)",
   "language": "python",
   "name": "python3"
  },
  "language_info": {
   "codemirror_mode": {
    "name": "ipython",
    "version": 3
   },
   "file_extension": ".py",
   "mimetype": "text/x-python",
   "name": "python",
   "nbconvert_exporter": "python",
   "pygments_lexer": "ipython3",
   "version": "3.8.13"
  }
 },
 "nbformat": 4,
 "nbformat_minor": 5
}
