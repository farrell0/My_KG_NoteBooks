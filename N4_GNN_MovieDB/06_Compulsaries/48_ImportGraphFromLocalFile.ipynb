{
 "cells": [
  {
   "cell_type": "code",
   "execution_count": null,
   "id": "1a20f816-1bbe-47f0-a818-18c4135525ea",
   "metadata": {},
   "outputs": [],
   "source": [
    "\n",
    "\n",
    "\n",
    "\n"
   ]
  },
  {
   "cell_type": "code",
   "execution_count": null,
   "id": "be86887d-60ed-489b-89f6-3591d7c0cc7c",
   "metadata": {},
   "outputs": [],
   "source": [
    "\n",
    "#  Setting display options \n",
    "\n",
    "import pandas as pd\n",
    "   #\n",
    "pd.set_option(\"display.width\", 480)\n",
    "\n",
    "from tabulate import tabulate\n",
    "\n",
    "\n",
    "print(\"--\")\n"
   ]
  },
  {
   "cell_type": "code",
   "execution_count": null,
   "id": "9a874df7-993f-404d-aa53-c8ca266f40a0",
   "metadata": {},
   "outputs": [],
   "source": [
    "\n",
    "import dask.dataframe as dd\n",
    "import numpy as np\n",
    "import pandas as pd\n",
    "   #\n",
    "import json\n",
    "\n",
    "from tabulate import tabulate\n",
    "\n",
    "print(\"--\")\n"
   ]
  },
  {
   "cell_type": "code",
   "execution_count": null,
   "id": "7c206abe-b7c9-4f24-9c38-bd59fde31526",
   "metadata": {},
   "outputs": [],
   "source": [
    "\n",
    "#  Load DataFrame with raw input data\n",
    "\n",
    "l_InputFiles  = [\n",
    "   \"/home/jovyan/work/My_KG_NoteBooks/N4_GNN_MovieDB/02_Files/50_Keywords_00.txt\",\n",
    "]\n",
    "\n",
    "df_data = dd.read_csv(\n",
    "   l_InputFiles,\n",
    "   delimiter  = \",\",\n",
    "   skiprows   = 1,                                            #  Skip the first line of each file, since it's the column headers\n",
    "   dtype      = {\n",
    "      \"id\"                        : np.dtype(str),\n",
    "      \"keywords\"                  : np.dtype(str),            #  In the source CSV, this column was titled 'values', a bad idea\n",
    "      },\n",
    "   names      = [\n",
    "      \"id\", \"keywords\"\n",
    "      ]\n",
    "   )   \n",
    "\n",
    "df_data.compute()\n",
    "\n",
    "print(\"--\")\n"
   ]
  },
  {
   "cell_type": "code",
   "execution_count": null,
   "id": "8b477852-af44-436b-bc98-83e657991a01",
   "metadata": {},
   "outputs": [],
   "source": [
    "# ##########################################################"
   ]
  },
  {
   "cell_type": "code",
   "execution_count": null,
   "id": "5a009883-fadd-4dfe-9f83-efd5e4ef6e87",
   "metadata": {},
   "outputs": [],
   "source": [
    "\n",
    "from katana import remote\n",
    "from katana.remote import import_data\n",
    "\n",
    "my_client = remote.Client()\n",
    "\n",
    "print(my_client)\n"
   ]
  },
  {
   "cell_type": "code",
   "execution_count": null,
   "id": "1ddc3b51-a38f-406d-b4cb-4bcd13c5f327",
   "metadata": {},
   "outputs": [],
   "source": [
    "\n",
    "NUM_PARTITIONS  = 3\n",
    "   #\n",
    "DB_NAME         = \"my_db\"\n",
    "GRAPH_NAME      = \"my_graph\"\n",
    "\n",
    "print(\"--\")\n"
   ]
  },
  {
   "cell_type": "code",
   "execution_count": null,
   "id": "15cfb83b-fd1f-46c3-96ad-95ceed14058f",
   "metadata": {},
   "outputs": [],
   "source": [
    "#  DELETE ALL GRAPHS\n",
    "\n",
    "for l_database in my_client.databases():\n",
    "   for l_graph in my_client.get_database(name=l_database.name).graphs_in_database():\n",
    "      l_handle=my_client.get_database(name=l_database.name).get_graph_by_id(id=l_graph.graph_id)\n",
    "      l_handle.delete()\n",
    "\n",
    "for l_graph in my_client.graphs():\n",
    "   print(\"GRAPH ID: \", l_graph.graph_id, \"      GRAPH Version: \", l_graph.version)\n",
    "\n",
    "print(\"--\")"
   ]
  },
  {
   "cell_type": "code",
   "execution_count": null,
   "id": "04909ce0-17bc-4214-84a7-3016cdbf52c8",
   "metadata": {},
   "outputs": [],
   "source": [
    "#  DELETE ALL DATABASES\n",
    "\n",
    "for l_database in my_client.databases():\n",
    "   if (l_database.name != \"default\"):\n",
    "      my_client.get_database(name=l_database.name).delete_database()\n",
    "      print(\"--\")\n",
    "\n",
    "for l_database in my_client.databases():\n",
    "   print(\"DB ID: \", l_database.database_id, \"     DB Name: \", l_database.name)\n"
   ]
  },
  {
   "cell_type": "code",
   "execution_count": null,
   "id": "1fb24521-9a8d-4fad-bdec-52876bc71e20",
   "metadata": {},
   "outputs": [],
   "source": [
    "#  CREATE DATABASE\n",
    "\n",
    "my_database = my_client.create_database(name=DB_NAME)\n",
    "\n",
    "print(my_database.database_id)\n"
   ]
  },
  {
   "cell_type": "code",
   "execution_count": null,
   "id": "ecf6371d-6d53-4052-b895-f61c76b0792a",
   "metadata": {},
   "outputs": [],
   "source": [
    "#  CREATE GRAPHS\n",
    "\n",
    "my_graph=my_client.get_database(name=DB_NAME).create_graph(name=GRAPH_NAME, num_partitions=NUM_PARTITIONS)\n",
    "\n",
    "print(my_graph)\n"
   ]
  },
  {
   "cell_type": "code",
   "execution_count": null,
   "id": "d29f6eb7-59ef-4c9b-813a-e8370b25b7d4",
   "metadata": {},
   "outputs": [],
   "source": [
    "#  CONNECT TO GRAPH\n",
    "\n",
    "for l_graph in my_client.get_database(name=DB_NAME).graphs_in_database():\n",
    "   if (l_graph.name == GRAPH_NAME):\n",
    "      my_graph=my_client.get_database(name=DB_NAME).get_graph_by_id(id=l_graph.graph_id)\n",
    "         #\n",
    "      break\n",
    "\n",
    "my_graph, *_ = my_client.get_database(name=DB_NAME).find_graphs_by_name(GRAPH_NAME)\n",
    "\n",
    "print(my_graph)\n",
    "print(\"\")\n"
   ]
  },
  {
   "cell_type": "code",
   "execution_count": null,
   "id": "0bedb2fa-cec7-474a-acc2-5cefbbb3660e",
   "metadata": {},
   "outputs": [],
   "source": [
    "display(my_graph.num_nodes())\n",
    "display(my_graph.num_edges())\n"
   ]
  },
  {
   "cell_type": "code",
   "execution_count": null,
   "id": "56de0948-d6b5-4095-844b-e5cad36a5e23",
   "metadata": {},
   "outputs": [],
   "source": [
    "\n",
    "l_result = my_graph.query(\"\"\"\n",
    "\n",
    "   MATCH (n) -[r]-> (m)\n",
    "   RETURN n, r, m\n",
    "   \n",
    "   \"\"\",\n",
    "   contextualize=True)\n",
    "\n",
    "l_result.view()\n"
   ]
  },
  {
   "cell_type": "code",
   "execution_count": null,
   "id": "98dcb999-8625-4c76-b1da-9cc0bd19eb32",
   "metadata": {},
   "outputs": [],
   "source": [
    "# ##########################################################"
   ]
  },
  {
   "cell_type": "code",
   "execution_count": null,
   "id": "bba15117-b555-4953-8580-38e4222f4864",
   "metadata": {},
   "outputs": [],
   "source": [
    "\n",
    "da_data      = df_data.to_dask_array()\n",
    "\n",
    "df_data2     = dd.io.from_dask_array(da_data,   columns=[\n",
    "   ])\n",
    "df_data2.compute()\n",
    "\n",
    "df_keywords2   = dd.io.from_dask_array(da_keywords, columns=[\"id\", \"name\", \"LABEL\"])\n",
    "df_keywords2.compute()\n",
    "   #\n",
    "df_edges2      = dd.io.from_dask_array(da_edges,    columns=[\"movie_id\", \"keyword_id\", \"TYPE\"])\n",
    "df_edges2.compute()\n",
    "\n",
    "#  da_movies   = []\n",
    "#  da_keywords = []\n",
    "#  da_edges    = []\n",
    "\n",
    "\n",
    "print(\"--\")\n"
   ]
  },
  {
   "cell_type": "code",
   "execution_count": null,
   "id": "9d4f5092-fcf9-4cdb-861f-8d22a0a2fa7b",
   "metadata": {},
   "outputs": [],
   "source": [
    "\n",
    "#  Need to drop movies.genres_json because of this issue,\n",
    "#\n",
    "#     ValueError: Failed to convert partition to expected pyarrow schema:\n",
    "#         `ArrowTypeError(\"Expected bytes, got a 'list' object\", 'Conversion failed for column genres_json with type object')`\n",
    "#     \n",
    "#     Expected partition schema:\n",
    "#         id: string\n",
    "#         title: string\n",
    "#              ...\n",
    "#         vote_count: string\n",
    "#         genres_json: string\n",
    "#         genres_primary: string\n",
    "#         genres_primary_id: string\n",
    "#         LABEL: string\n",
    "#     \n",
    "#     Received partition schema:\n",
    "#         id: string\n",
    "#         title: string\n",
    "#              ...\n",
    "#         vote_count: string\n",
    "#         genres_json: list<item: struct<id: int64, name: string>>\n",
    "#           child 0, item: struct<id: int64, name: string>\n",
    "#               child 0, id: int64\n",
    "#               child 1, name: string\n",
    "#         genres_primary: string\n",
    "#         genres_primary_id: int64\n",
    "#         LABEL: string\n",
    "\n",
    "\n",
    "df_movies2.drop(\"genres_json\", axis=1)\n",
    "df_movies2.compute()\n",
    "\n",
    "print(\"--\")\n",
    "    "
   ]
  },
  {
   "cell_type": "code",
   "execution_count": null,
   "id": "7737ce45-e17f-49e4-ac98-af1dc3bf8948",
   "metadata": {},
   "outputs": [],
   "source": [
    "\n",
    "with import_data.DataFrameImporter(my_graph1) as df_importer:\n",
    "    \n",
    "   #  Movies\n",
    "   #\n",
    "   df_importer.nodes_dataframe(\n",
    "      df_movies2[[\n",
    "         \"id\", \"title\", \"overview\", \"tagline\", \"budget\", \"genres\", \"popularity\", \"production_companies\",\n",
    "         \"release_date\", \"revenue\", \"runtime\", \"vote_average\", \"vote_count\", \"genres_json\", \"genres_primary\",\n",
    "         \"genres_primary_id\", \"LABEL\"\n",
    "      ]],\n",
    "      id_column  = \"id\",\n",
    "      id_space   = \"Movies\"\n",
    "      )\n",
    "\n",
    "   #  Keywords\n",
    "   #\n",
    "   df_importer.nodes_dataframe(\n",
    "      df_keywords2[[\"id\", \"name\", \"LABEL\"]],\n",
    "      id_column  = \"id\",\n",
    "      id_space   = \"Keywords\"\n",
    "      )  \n",
    "    \n",
    "   #  Edge, RELATES_TO\n",
    "   #\n",
    "   df_importer.edges_dataframe(\n",
    "      df_edges2[[\"movie_id\", \"keyword_id\", \"TYPE\"]],\n",
    "      source_id_space      = \"Movie\",\n",
    "      destination_id_space = \"Keywords\",\n",
    "      source_column        = \"movie_id\",\n",
    "      destination_column   = \"keyword_id\",\n",
    "      type                 = \"RELATES_TO\"\n",
    "      )\n",
    "   df_importer.edges_dataframe(\n",
    "      df_edges2[[\"movie_id\", \"keyword_id\", \"TYPE\"]],\n",
    "      source_id_space      = \"Keywords\",\n",
    "      destination_id_space = \"Movies\",\n",
    "      source_column        = \"keyword_id\",\n",
    "      destination_column   = \"movie_id\",\n",
    "      type                 = \"RELATES_TO\"\n",
    "      )\n",
    "\n",
    "   df_importer.execute()\n",
    "    \n",
    "    "
   ]
  },
  {
   "cell_type": "code",
   "execution_count": null,
   "id": "7c4e6093-0b9a-46e9-b427-175aa90a0935",
   "metadata": {},
   "outputs": [],
   "source": []
  },
  {
   "cell_type": "code",
   "execution_count": null,
   "id": "380d6ebe-fc80-44c7-aa2b-79f5cbaf27dd",
   "metadata": {},
   "outputs": [],
   "source": []
  }
 ],
 "metadata": {
  "kernelspec": {
   "display_name": "Python 3 (ipykernel)",
   "language": "python",
   "name": "python3"
  },
  "language_info": {
   "codemirror_mode": {
    "name": "ipython",
    "version": 3
   },
   "file_extension": ".py",
   "mimetype": "text/x-python",
   "name": "python",
   "nbconvert_exporter": "python",
   "pygments_lexer": "ipython3",
   "version": "3.8.13"
  }
 },
 "nbformat": 4,
 "nbformat_minor": 5
}
