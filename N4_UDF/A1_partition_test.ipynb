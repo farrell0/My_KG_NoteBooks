{
 "cells": [
  {
   "cell_type": "code",
   "execution_count": null,
   "id": "d15210fc-ab82-4bd9-80f4-2f283d3cfaa4",
   "metadata": {},
   "outputs": [],
   "source": [
    "\n",
    "######## setup variables ##########\n",
    "\n",
    "#gs_prefix=\"gs://anand-31-simple-files/aml-customer-extended\"\n",
    "gs_prefix = \"gs://anand-31-simple-files/partition-test/\"\n",
    "partitions = 3\n",
    "platform_prefix=gs_prefix\n",
    "\n",
    "print(\"--\")\n"
   ]
  },
  {
   "cell_type": "code",
   "execution_count": null,
   "id": "d54dec81-4ec2-4bbb-af34-294dc7894523",
   "metadata": {},
   "outputs": [],
   "source": [
    "import os                                                                        \n",
    "import time                                                                      \n",
    "import json\n",
    "import pandas as pd\n",
    "from timeit import default_timer as timer\n",
    "from katana.remote import aio, analytics, import_data, trace\n",
    "\n",
    "from katana import remote\n",
    "from katana.remote import import_data\n",
    "from katana.remote import PartitionPolicy\n",
    "\n",
    "# os.environ[\"KATANA_SERVER_ADDRESS\"] = \"host.docker.internal:8080\"\n",
    "os.environ[\"KATANA_SERVER_ADDRESS\"] = \"localhost:8080\"\n",
    "\n",
    "pd.set_option('display.max_columns', None)\n",
    "pd.set_option(\"max_colwidth\", None)\n",
    "\n",
    "print(\"--\")\n"
   ]
  },
  {
   "cell_type": "code",
   "execution_count": null,
   "id": "ae5c18da-bd95-48c6-8705-dff778f73b05",
   "metadata": {},
   "outputs": [],
   "source": [
    "my_client=remote.Client()\n",
    "my_client.server_version"
   ]
  },
  {
   "cell_type": "code",
   "execution_count": null,
   "id": "f86ca9c2-ccda-4bc8-a593-fa4f5fa7bd23",
   "metadata": {},
   "outputs": [],
   "source": [
    "\n",
    "my_graph = my_client.create_graph(\n",
    "    num_partitions=partitions,\n",
    "    name=\"partition_test\"\n",
    ")\n",
    "\n",
    "print(\"--\")\n"
   ]
  },
  {
   "cell_type": "code",
   "execution_count": null,
   "id": "759d263d-c44e-4dc3-9db0-4e0f6ba2ef91",
   "metadata": {},
   "outputs": [],
   "source": []
  },
  {
   "cell_type": "code",
   "execution_count": null,
   "id": "e462f4ce-16f2-4448-9934-d1eff6860786",
   "metadata": {},
   "outputs": [],
   "source": []
  },
  {
   "cell_type": "code",
   "execution_count": null,
   "id": "f262b610-af7e-47f4-86dc-3e386233111c",
   "metadata": {},
   "outputs": [],
   "source": [
    "# ######################################################"
   ]
  },
  {
   "cell_type": "code",
   "execution_count": null,
   "id": "379bbfa5-f2a4-481e-a53e-da1a2020c907",
   "metadata": {},
   "outputs": [],
   "source": [
    "\n",
    "#  CONNECT TO GRAPH\n",
    "\n",
    "DB_NAME    = \"default\"\n",
    "GRAPH_NAME = \"partition_test\"\n",
    "\n",
    "# DB_NAME    = \"my_db\"\n",
    "# GRAPH_NAME = \"my_graph\"\n",
    "\n",
    "\n",
    "for l_graph in rc.graphs():\n",
    "   print(\"GRAPH ID: \", l_graph.graph_id, \"     DB GRAPH: \", l_graph.name, \"    GRAPH VERSION: \", l_graph.version)\n",
    "      #\n",
    "   if (l_graph.name == GRAPH_NAME):\n",
    "      my_graph=my_client.get_database(name=DB_NAME).get_graph_by_id(id=l_graph.graph_id)\n",
    "\n",
    "        \n",
    "print(my_graph.name)\n",
    "print(\"--\")\n"
   ]
  },
  {
   "cell_type": "code",
   "execution_count": null,
   "id": "8eb3a9c1-00fa-4406-ba72-0e0c370cfef9",
   "metadata": {},
   "outputs": [],
   "source": [
    "\n",
    "display(my_graph.num_nodes())\n",
    "display(my_graph.num_edges())\n"
   ]
  },
  {
   "cell_type": "code",
   "execution_count": null,
   "id": "04e98b1d-6458-40c1-8904-897baa676f5d",
   "metadata": {},
   "outputs": [],
   "source": [
    "# ######################################################"
   ]
  },
  {
   "cell_type": "code",
   "execution_count": null,
   "id": "b3fd0ff0-9855-42fe-8792-a1f1c198e648",
   "metadata": {},
   "outputs": [],
   "source": [
    "test_node_file = platform_prefix + \"nodes.txt\"\n",
    "test_edge_file = platform_prefix + \"edges.txt\"\n",
    "input_path=platform_prefix \n",
    "\n",
    "print(\"--\")\n"
   ]
  },
  {
   "cell_type": "code",
   "execution_count": null,
   "id": "1a80917a-8a9c-49ab-a2b8-cfe67210f9c9",
   "metadata": {},
   "outputs": [],
   "source": [
    "start = timer()\n",
    "print(\"Importing graph from CSV files...\")\n",
    "import_data.csv(\n",
    "    my_graph,\n",
    "    input_node_path=test_node_file,\n",
    "    input_edge_path=test_edge_file,\n",
    "    input_dir=input_path,\n",
    "    partition_policy=PartitionPolicy.RANDOM_OEC,\n",
    "#    have_headers=True,\n",
    "    data_delimiter=\",\",\n",
    "    schema_delimiter=\",\"\n",
    ")\n",
    "end = timer()\n",
    "print(f\"  import: {end - start:.1f} seconds\") "
   ]
  },
  {
   "cell_type": "code",
   "execution_count": null,
   "id": "9d3fbc22-8652-4191-b175-7ecfe4feba95",
   "metadata": {},
   "outputs": [],
   "source": [
    "display(my_graph.num_nodes())\n",
    "display(my_graph.num_edges())"
   ]
  },
  {
   "cell_type": "code",
   "execution_count": null,
   "id": "6f1c025a-ca7a-4f76-bc87-c7dac45d9872",
   "metadata": {},
   "outputs": [],
   "source": [
    "query = \"\"\"\n",
    "    MATCH(c:CUSTOMER)-[:LIVES_IN]-(a:ADDRESS)\n",
    "    where c.ID = 'c_0'\n",
    "    return c.ID, a.ID\n",
    "\"\"\"\n",
    "result = my_graph.query(query)\n",
    "result.view()"
   ]
  },
  {
   "cell_type": "markdown",
   "id": "c7bf652b-4c44-43cd-ade4-77aa161f07e9",
   "metadata": {},
   "source": [
    "# Import ends here: DATA LOADING COMPLETE"
   ]
  },
  {
   "cell_type": "code",
   "execution_count": 12,
   "id": "749b5656-1ed0-4d20-adef-ea2d9ff162a3",
   "metadata": {},
   "outputs": [
    {
     "data": {
      "application/vnd.jupyter.widget-view+json": {
       "model_id": "d4b073cee0514ba4ab7a688d5d39e643",
       "version_major": 2,
       "version_minor": 0
      },
      "text/plain": [
       "          0/? [?op/s]"
      ]
     },
     "metadata": {},
     "output_type": "display_data"
    }
   ],
   "source": [
    "\n",
    "def visit(l_graph, nodeLabel, listOfAttributes):\n",
    "    \n",
    "    from katana.local_native import Node, OutEdgeHandle\n",
    "    from katana_enterprise.distributed import single_host\n",
    "    \n",
    "    # output=[]\n",
    "    \n",
    "    id_property = l_graph.get_node_property('ID')\n",
    "    # id_property = graph.get_node_property('id')\n",
    "    \n",
    "    with open('/tmp/' + 'AAA.txt', 'w') as f:\n",
    "        \n",
    "        for node in l_graph.master_nodes():\n",
    "            # output.append(str(id_property[node]))\n",
    "            \n",
    "            # f.write(str(id_property[node])+ '#\\n')\n",
    "            f.write(\"MM2 - \" + str(id_property[node])+ \"\\n\")\n",
    "            \n",
    "        # for node in l_graph.mirror_nodes():\n",
    "        #     f.write(str(id_property[node])+ '#m#\\n')\n",
    "            \n",
    "    return single_host('')\n",
    "\n",
    "\n",
    "# graph.run(lambda g: dist(g))\n",
    "\n",
    "out = my_graph.run_result(lambda g: visit(g, 'PERSON', ['name']))\n",
    "\n"
   ]
  },
  {
   "cell_type": "code",
   "execution_count": null,
   "id": "5cc06d82-844d-46c1-95d5-aa2691ac2859",
   "metadata": {},
   "outputs": [],
   "source": [
    "print(out)"
   ]
  },
  {
   "cell_type": "code",
   "execution_count": null,
   "id": "866498a4-c844-4158-8299-b19396f58d46",
   "metadata": {},
   "outputs": [],
   "source": []
  },
  {
   "cell_type": "code",
   "execution_count": null,
   "id": "d1556de1-a16b-4c5c-8724-8bf044b59c77",
   "metadata": {},
   "outputs": [],
   "source": []
  },
  {
   "cell_type": "code",
   "execution_count": null,
   "id": "ef930f13-f449-4f45-87cf-7fe90f246617",
   "metadata": {},
   "outputs": [],
   "source": []
  },
  {
   "cell_type": "code",
   "execution_count": null,
   "id": "655a4e74-5463-4121-a76f-9d4129a4b940",
   "metadata": {},
   "outputs": [],
   "source": [
    "# out.value"
   ]
  },
  {
   "cell_type": "code",
   "execution_count": null,
   "id": "894c8bf6-df27-4d61-a24a-3918d9bc4830",
   "metadata": {},
   "outputs": [],
   "source": [
    "\n",
    "def write_number_of_addresses_feature(graph, nodeLabel, listOfAttributes):\n",
    "    \n",
    "    from katana.local_native import Node, OutEdgeHandle\n",
    "    from katana_enterprise.distributed import single_host\n",
    "    \n",
    "    id_property = graph.get_node_property('ID')\n",
    "    \n",
    "    with open('/tmp/' + 'random_oec_customer_feature_number_of_address.txt', 'w') as f:\n",
    "        for node in graph.master_nodes():\n",
    "            print('do nothing')\n",
    "            edges = graph.out_edge_ids(Node(node))\n",
    "            address_count = 0\n",
    "            for edge_id in edges:\n",
    "                destination_node = graph.out_edge_dst(edge_id).value\n",
    "                if str(id_property[destination_node]).startswith('a_'):\n",
    "                    address_count = address_count + 1\n",
    "            if str(id_property[node]).startswith('c_'):\n",
    "                f.write( str(id_property[node]) + ',' + str(address_count) +'\\n' )\n",
    "                # f.write(str(id_property[node]) + ' has too many addresses:'+ str(len(edges))+'\\n')\n",
    "                \n",
    "    return single_host('ok')\n",
    "\n",
    "# graph.run(lambda g: dist(g))\n",
    "\n",
    "out = graph.run_result(lambda g: write_number_of_addresses_feature(g, 'PERSON', ['name']))\n",
    "\n",
    "\n"
   ]
  },
  {
   "cell_type": "code",
   "execution_count": null,
   "id": "956c37de-0f54-4eac-bd87-a00f0b3b8f23",
   "metadata": {},
   "outputs": [],
   "source": [
    "out.value"
   ]
  },
  {
   "cell_type": "code",
   "execution_count": null,
   "id": "41a845fb-e468-4952-820c-3668d71389e3",
   "metadata": {},
   "outputs": [],
   "source": []
  }
 ],
 "metadata": {
  "kernelspec": {
   "display_name": "Python 3 (ipykernel)",
   "language": "python",
   "name": "python3"
  },
  "language_info": {
   "codemirror_mode": {
    "name": "ipython",
    "version": 3
   },
   "file_extension": ".py",
   "mimetype": "text/x-python",
   "name": "python",
   "nbconvert_exporter": "python",
   "pygments_lexer": "ipython3",
   "version": "3.8.13"
  }
 },
 "nbformat": 4,
 "nbformat_minor": 5
}
