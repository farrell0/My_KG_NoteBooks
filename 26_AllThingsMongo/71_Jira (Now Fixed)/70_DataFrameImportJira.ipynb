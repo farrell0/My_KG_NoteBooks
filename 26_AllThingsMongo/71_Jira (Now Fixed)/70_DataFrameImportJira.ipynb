{
 "cells": [
  {
   "cell_type": "markdown",
   "id": "985e31d5-09de-40eb-882c-ed2e0c318262",
   "metadata": {},
   "source": [
    "# Setup stuff: Connectivity "
   ]
  },
  {
   "cell_type": "code",
   "execution_count": null,
   "id": "2ff8b125-a274-49ce-9676-5897c293e16a",
   "metadata": {},
   "outputs": [],
   "source": [
    "import os\n",
    "\n",
    "from katana import remote\n",
    "from katana.remote import import_data\n",
    "\n",
    "\n",
    "my_client = remote.Client()\n",
    "\n",
    "print(my_client)\n"
   ]
  },
  {
   "cell_type": "code",
   "execution_count": null,
   "id": "186c18d0-f9c6-4da3-ad83-5071cd99a8c6",
   "metadata": {},
   "outputs": [],
   "source": [
    "\n",
    "NUM_PARTITIONS  = 3\n",
    "   #\n",
    "DB_NAME         = \"my_db\"\n",
    "GRAPH_NAME      = \"my_graph\"\n",
    "\n",
    "print(\"--\")"
   ]
  },
  {
   "cell_type": "code",
   "execution_count": null,
   "id": "b6436d41-b86c-4d94-bdb5-fc1c32423723",
   "metadata": {},
   "outputs": [],
   "source": [
    "#  DELETE ALL GRAPHS\n",
    "\n",
    "for l_database in my_client.databases():\n",
    "   for l_graph in my_client.get_database(name=l_database.name).graphs_in_database():\n",
    "      l_handle=my_client.get_database(name=l_database.name).get_graph_by_id(id=l_graph.graph_id)\n",
    "      l_handle.delete()\n",
    "\n",
    "for l_graph in my_client.graphs():\n",
    "   print(\"GRAPH ID: \", l_graph.graph_id, \"      GRAPH Version: \", l_graph.version)\n",
    "\n",
    "print(\"--\")"
   ]
  },
  {
   "cell_type": "code",
   "execution_count": null,
   "id": "c92a8193-4f38-4328-9755-68d91e791174",
   "metadata": {},
   "outputs": [],
   "source": [
    "#  DELETE ALL DATABASES\n",
    "\n",
    "for l_database in my_client.databases():\n",
    "   if (l_database.name != \"default\"):\n",
    "      my_client.get_database(name=l_database.name).delete_database()\n",
    "      print(\"--\")\n",
    "\n",
    "for l_database in my_client.databases():\n",
    "   print(\"DB ID: \", l_database.database_id, \"     DB Name: \", l_database.name)"
   ]
  },
  {
   "cell_type": "code",
   "execution_count": null,
   "id": "b09a7427-51be-405e-baff-ddab946adbe9",
   "metadata": {},
   "outputs": [],
   "source": [
    "#  CREATE DATABASE\n",
    "\n",
    "my_database = my_client.create_database(name=DB_NAME)\n",
    "\n",
    "print(my_database.database_id)"
   ]
  },
  {
   "cell_type": "code",
   "execution_count": null,
   "id": "378a14e9-234a-4b63-9262-1d3a884a9830",
   "metadata": {},
   "outputs": [],
   "source": [
    "#  CREATE GRAPH\n",
    "\n",
    "my_graph = my_client.get_database(name=DB_NAME).create_graph(name=GRAPH_NAME, num_partitions=NUM_PARTITIONS)\n",
    "\n",
    "print(my_graph)"
   ]
  },
  {
   "cell_type": "code",
   "execution_count": null,
   "id": "3421e6a1-3fa9-4001-8886-8e643f709f4e",
   "metadata": {},
   "outputs": [],
   "source": [
    "#  CONNECT TO GRAPH\n",
    "\n",
    "for l_graph in my_client.get_database(name=DB_NAME).graphs_in_database():\n",
    "   if (l_graph.name == GRAPH_NAME):\n",
    "      my_graph=my_client.get_database(name=DB_NAME).get_graph_by_id(id=l_graph.graph_id)\n",
    "         #\n",
    "      break\n",
    "\n",
    "print(my_graph)"
   ]
  },
  {
   "cell_type": "code",
   "execution_count": null,
   "id": "a243e55b-c257-4624-8377-c0c89bf09603",
   "metadata": {},
   "outputs": [],
   "source": [
    "display(my_graph.num_nodes())\n",
    "display(my_graph.num_edges())\n"
   ]
  },
  {
   "cell_type": "markdown",
   "id": "da09707c-2c9d-46d3-9467-4231ed8019a9",
   "metadata": {},
   "source": [
    "# Setup 2 DataFrames, Nodes and Relationships .."
   ]
  },
  {
   "cell_type": "code",
   "execution_count": null,
   "id": "990afbc9-a372-4c63-a078-912233f51189",
   "metadata": {},
   "outputs": [],
   "source": [
    "import pandas as pd\n",
    "\n",
    "print(\"--\")"
   ]
  },
  {
   "cell_type": "code",
   "execution_count": null,
   "id": "54e3d255-7fca-45a7-877f-3e1d8d7c79bd",
   "metadata": {},
   "outputs": [],
   "source": [
    "\n",
    "#  Vertices/Nodes, Airports ..\n",
    "\n",
    "\n",
    "df_users      = pd.read_csv('gs://farrell-bucket/mongodb/21_users.txt')\n",
    "\n",
    "#  Frist line works, second line fails; pick one, not both ..\n",
    "#\n",
    "# df_movies     = pd.read_csv('gs://farrell-bucket/mongodb/E1_DoesNotError_SF10.txt')\n",
    "df_movies     = pd.read_csv('gs://farrell-bucket/mongodb/E2_DoesError_SF10.txt')\n",
    "\n",
    "\n",
    "df_comment_on = pd.read_csv('gs://farrell-bucket/mongodb/30_Edge_Commented.txt')\n",
    "\n",
    "display(df_users.head(     2))\n",
    "display(df_flights.head(   2))\n",
    "display(df_comment_on.head(2))\n"
   ]
  },
  {
   "cell_type": "code",
   "execution_count": null,
   "id": "4da469ed-5d23-4d26-9648-fc2fcb03080d",
   "metadata": {},
   "outputs": [],
   "source": [
    "\n",
    "with import_data.DataFrameImporter(my_graph) as df_importer:   \n",
    "    \n",
    "   df_importer.nodes_dataframe(df_users,\n",
    "      id_column             = \"email\",\n",
    "      id_space              = \"Users\",\n",
    "      label                 = \"Users\"\n",
    "      )\n",
    "    \n",
    "   df_importer.nodes_dataframe(df_flights, \n",
    "      id_column             = \"_id\",\n",
    "      id_space              = \"Movies\",\n",
    "      label                 = \"Movies\"\n",
    "      )\n",
    "   \n",
    "   df_importer.edges_dataframe(df_comment_on,\n",
    "      source_id_space       = \"Users\",\n",
    "      destination_id_space  = \"Movies\",\n",
    "      source_column         = \"email\",\n",
    "      destination_column    = \"movie_id\",\n",
    "      type                  = \"COMMENT_ON\"\n",
    "      )\n"
   ]
  },
  {
   "cell_type": "code",
   "execution_count": null,
   "id": "b673b727-2bb0-4ba0-a4fa-4a959c072a24",
   "metadata": {},
   "outputs": [],
   "source": [
    "\n",
    "l_result = my_graph.query(\"\"\"\n",
    "\n",
    "   MATCH (n) - [ r ] -> (m)\n",
    "   RETURN n, m, r\n",
    "   // LIMIT 10\n",
    "   \n",
    "   \"\"\", contextualize=True)\n",
    "\n",
    "l_result.view()\n"
   ]
  },
  {
   "cell_type": "code",
   "execution_count": null,
   "id": "2cf03748-69a1-4dc7-b0f5-e2b85c19cb59",
   "metadata": {},
   "outputs": [],
   "source": []
  }
 ],
 "metadata": {
  "kernelspec": {
   "display_name": "Python 3 (ipykernel)",
   "language": "python",
   "name": "python3"
  },
  "language_info": {
   "codemirror_mode": {
    "name": "ipython",
    "version": 3
   },
   "file_extension": ".py",
   "mimetype": "text/x-python",
   "name": "python",
   "nbconvert_exporter": "python",
   "pygments_lexer": "ipython3",
   "version": "3.8.13"
  }
 },
 "nbformat": 4,
 "nbformat_minor": 5
}
