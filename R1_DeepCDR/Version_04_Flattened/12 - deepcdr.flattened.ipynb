{
 "cells": [
  {
   "cell_type": "code",
   "execution_count": 2,
   "id": "d2aee1d2-73be-4640-859d-670ae89f13db",
   "metadata": {},
   "outputs": [
    {
     "name": "stdout",
     "output_type": "stream",
     "text": [
      "The autoreload extension is already loaded. To reload it, use:\n",
      "  %reload_ext autoreload\n",
      "Exception reporting mode: Minimal\n"
     ]
    },
    {
     "data": {
      "text/html": [],
      "text/plain": [
       "<IPython.core.display.HTML object>"
      ]
     },
     "metadata": {},
     "output_type": "display_data"
    },
    {
     "name": "stdout",
     "output_type": "stream",
     "text": [
      "--\n"
     ]
    }
   ],
   "source": [
    "\n",
    "%load_ext autoreload\n",
    "%autoreload 2\n",
    "\n",
    "%xmode Minimal\n",
    "\n",
    "#  Setting display options \n",
    "#\n",
    "import pandas as pd\n",
    "pd.set_option(\"display.width\", 640)\n",
    "   #\n",
    "import numpy as np\n",
    "np.set_printoptions(edgeitems = 30, linewidth = 100000, \n",
    "   formatter = dict(float = lambda x: \"%.3g\" % x))\n",
    "\n",
    "\n",
    "#  Sets horizontal scroll for wide outputs\n",
    "#\n",
    "from IPython.display import display, HTML\n",
    "display(HTML(\"\"))\n",
    "\n",
    "from tabulate import tabulate\n",
    "\n",
    "\n",
    "   ###\n",
    "\n",
    "    \n",
    "#  How to use tabulate-\n",
    "#\n",
    "#  l_result = [{ \"col1\": 20, \"col2\": 30}]\n",
    "#     #\n",
    "#  print(tabulate(l_result, headers='keys', tablefmt='psql', showindex=False))\n",
    "\n",
    "print(\"--\")\n"
   ]
  },
  {
   "cell_type": "markdown",
   "id": "8a6f3e40-04bd-4c3a-a3ab-065f042aed5a",
   "metadata": {},
   "source": [
    "## Drug Repurposing: A Hybrid Graph Convolutional Network for Predicting Cancer Drug Response\n",
    "\n",
    "The goal of this pipeline is to implement a Cancer Drug Response Prediction pipeline. The model chosen is called DeepCDR which is a Cancer Drug Response Prediction model via a Hybrid Graph Convolutional Network. This model was published in the journal Bioinformatics.\n",
    "\n",
    "<center><img src=\"./images/model.png\" style=\"width:70%;\"></center>\n",
    "\n",
    "DeepCDR takes a pair of drug and cancer cell profiles as inputs and predicts the drug sensitivity (IC50) (regression). The drug will be represented as a graph based on the chemical structure before being transformed into a high-level latent representation by the GNN model. Omics features learned by subnetworks will be concatenated to the drug feature."
   ]
  },
  {
   "cell_type": "markdown",
   "id": "ea6bfda6",
   "metadata": {},
   "source": [
    "## README\n",
    "\n",
    "The [README](README.md) file accompanying this notebook includes additional information about the research behind this model and how to run this pipeline with your own data. "
   ]
  },
  {
   "cell_type": "markdown",
   "id": "306a386f-6a70-4498-9eba-d2cff983cfff",
   "metadata": {},
   "source": [
    "## Katana AI Pipeline for End to End Drug Repurposing"
   ]
  },
  {
   "cell_type": "markdown",
   "id": "342f499e-4c45-43d6-91bf-234374e99406",
   "metadata": {},
   "source": [
    "<img src=\"images/pipeline_full.png\" style=\"width: 1500px;\"/>\n",
    "\n",
    "\n",
    "\n",
    "There are four distinct steps:\n",
    "\n",
    "* **[Step 1: Set up a Katana `Client` and create a Distributed Graph](#step-1)**\n",
    "* **[Step 2: Extract ML-ready Data](#step-2)**\n",
    "* **[Step 3: AI Training Pipeline](#step-3)**\n",
    "* **[Step 4: Trained model inference](#step-4)**\n",
    "\n",
    "<a id='step-1'></a>\n",
    "## Step 1: Set up a Katana `Client` and load a Distributed Graph\n",
    "\n",
    "<img src=\"images/pipeline_dask.png\" style=\"width: 1500px;\"/>\n",
    "\n",
    "### Set up a Katana `Client`\n",
    "\n",
    "Starting a Katana remote Client is required to interface with the Katana remote service and schedule distributed operations. First we set Jupyter to automatically reload changed code and we import some standard Katana modules."
   ]
  },
  {
   "cell_type": "code",
   "execution_count": 9,
   "id": "2de96290-d64c-4c82-bd6d-fe69fcc1dad3",
   "metadata": {},
   "outputs": [
    {
     "name": "stdout",
     "output_type": "stream",
     "text": [
      "The autoreload extension is already loaded. To reload it, use:\n",
      "  %reload_ext autoreload\n",
      "\n",
      "Software version: 0.9.0+20230322T224759Z.73f024927.dev\n",
      "--\n"
     ]
    }
   ],
   "source": [
    "\n",
    "%load_ext autoreload\n",
    "%autoreload 2\n",
    "\n",
    "from katana import remote\n",
    "from katana.remote import export_data, import_data\n",
    "\n",
    "\n",
    "my_client = remote.Client()\n",
    "print()\n",
    "print(\"Software version: %s\" % (my_client.server_version))\n",
    "\n",
    "print(\"--\")\n"
   ]
  },
  {
   "cell_type": "code",
   "execution_count": 5,
   "id": "db63456f-f95c-4e38-8c5a-b52340167e4a",
   "metadata": {},
   "outputs": [
    {
     "name": "stdout",
     "output_type": "stream",
     "text": [
      "RED_SHORT_RECIPE Set to: None\n",
      "RED_SHORT_RECIPE Set to: 1\n",
      "--\n"
     ]
    }
   ],
   "source": [
    "\n",
    "#  An environment variable with the given titles affects execution ..\n",
    "#\n",
    "\n",
    "import os\n",
    "\n",
    "\n",
    "try:\n",
    "   del os.environ['RED_SHORT_RECIPE'] \n",
    "except:\n",
    "   pass\n",
    "\n",
    "l_env = os.environ.get('RED_SHORT_RECIPE')\n",
    "print(\"RED_SHORT_RECIPE Set to: %s\" % (l_env))\n",
    "\n",
    "\n",
    "os.environ['RED_SHORT_RECIPE'] = \"1\"\n",
    "   #\n",
    "l_env = os.environ.get('RED_SHORT_RECIPE')\n",
    "print(\"RED_SHORT_RECIPE Set to: %s\" % (l_env))\n",
    "\n",
    "print(\"--\")\n"
   ]
  },
  {
   "cell_type": "markdown",
   "id": "9ab20d54-7095-4134-998f-47eba135904d",
   "metadata": {
    "tags": []
   },
   "source": [
    "### Load Input configuration\n",
    "\n",
    "The input configuration, which is stored in the `hyperparams` file, defines the specifications of the graph use for the recipe."
   ]
  },
  {
   "cell_type": "code",
   "execution_count": 6,
   "id": "e89769fd-629e-419f-bb3f-55a0d60b0b73",
   "metadata": {},
   "outputs": [
    {
     "name": "stdout",
     "output_type": "stream",
     "text": [
      "InputConfig:\n",
      "    num_partitions = 4,\n",
      "    use_train_rdg = False,\n",
      "    trained_rdg_path = gs://hls-dataset-bucket/DeepCDR_trained,\n",
      "    cell_lines_path = gs://katana-demo-datasets/csv-datasets/DeepCDR/cell_lines.csv,\n",
      "    drugs_path = gs://katana-demo-datasets/csv-datasets/DeepCDR/drugs.csv,\n",
      "    gdsc_path = gs://katana-demo-datasets/csv-datasets/DeepCDR/gdsc.csv,\n",
      "    genes_path = gs://katana-demo-datasets/csv-datasets/DeepCDR/genes.csv,\n",
      "    gdsc_cell_line_path = gs://katana-demo-datasets/csv-datasets/DeepCDR/gdsc_cell_line_edges.csv,\n",
      "    gdsc_drug_path = gs://katana-demo-datasets/csv-datasets/DeepCDR/gdsc_drug_edges.csv,\n",
      "    cell_line_gene_expression_path = gs://katana-demo-datasets/csv-datasets/DeepCDR/cell_line_gene_expression_edges.csv,\n",
      "    cell_line_gene_methylation_path = gs://katana-demo-datasets/csv-datasets/DeepCDR/cell_line_gene_methylation_edges.csv,\n",
      "    cell_line_gene_mutation_path = gs://katana-demo-datasets/csv-datasets/DeepCDR/cell_line_gene_mutation_edges.csv,\n",
      "    test_size = 0.05,\n",
      "    random_state = 42\n",
      "\n",
      "--\n"
     ]
    }
   ],
   "source": [
    "\n",
    "from config import hyperparams\n",
    "\n",
    "input_config = hyperparams.load_input_config()\n",
    "print(input_config)\n",
    "\n",
    "print()\n",
    "print(\"--\")\n"
   ]
  },
  {
   "cell_type": "markdown",
   "id": "42a37bd9-686c-453e-a8b4-10513fa286c5",
   "metadata": {},
   "source": [
    "### Create a Distributed Graph\n",
    "\n",
    "Create a Katana Distributed graph with `input_config.num_partitions` partitions and import data used to train the DeepCDR model into the Distributed Graph. The entire recipe will be distributed among `input_config.num_partitions` hosts.\n",
    "\n",
    "<div class=\"alert alert-info\">\n",
    "You can choose to change the number of partition using <a href=\"./config/hyperparams.py\" class=\"alert-link\">num_partitions</a> parameter.\n",
    "</div>\n",
    "\n",
    "<div class=\"alert alert-info\">\n",
    "You can choose to import a graph with the features already generated and a model already trained and saved in the graph or create your graph from csv files with Dask by setting <a href=\"./config/hyperparams.py\" class=\"alert-link\">use_train_rdg</a> parameter. \n",
    "    \n",
    "If you choose to use the pretrained model you can skip the following two steps,\n",
    "* **[Step 2: Extract ML-ready Data](#step-2)**\n",
    "* **[Step 3: AI Training Pipeline](#step-3)**\n",
    "\n",
    "and go directly to:\n",
    "* **[Step 4: Trained model inference](#step-4)**\n",
    "</div>"
   ]
  },
  {
   "cell_type": "code",
   "execution_count": null,
   "id": "831ea652-f028-4afd-98ef-a1bbfef9bdfb",
   "metadata": {},
   "outputs": [],
   "source": [
    "\n",
    "####################################################################################\n"
   ]
  },
  {
   "cell_type": "code",
   "execution_count": 10,
   "id": "2e2eff98-5e08-4a0a-ad9c-3f4b3d0d0239",
   "metadata": {},
   "outputs": [
    {
     "name": "stdout",
     "output_type": "stream",
     "text": [
      "--\n"
     ]
    }
   ],
   "source": [
    "\n",
    "#  Name of our database and graph\n",
    "#\n",
    "DB_NAME         = \"my_db\"\n",
    "GRAPH_NAME      = \"my_graph_DCR\"\n",
    "   #\n",
    "NUM_PARTITIONS  = 4\n",
    "\n",
    "print(\"--\")\n"
   ]
  },
  {
   "cell_type": "code",
   "execution_count": 11,
   "id": "dcac1680-b3aa-4871-9620-6932ff08dc5c",
   "metadata": {},
   "outputs": [
    {
     "ename": "ServerCommunicationError",
     "evalue": "request failed: http://highmem-32-katana:8080/v2/graph/7kyDojxBM8KgbqqhhE7kDrGARSaieDUYx5SQm1GFFsRW?version=0",
     "output_type": "error",
     "traceback": [
      "\u001b[0;31mRemoteProtocolError\u001b[0m\u001b[0;31m:\u001b[0m Server disconnected\n",
      "\nThe above exception was the direct cause of the following exception:\n",
      "\u001b[0;31mRemoteProtocolError\u001b[0m\u001b[0;31m:\u001b[0m Server disconnected\n",
      "\nDuring handling of the above exception, another exception occurred:\n",
      "\u001b[0;31mServerCommunicationError\u001b[0m\u001b[0;31m:\u001b[0m request failed: http://highmem-32-katana:8080/v2/graph/7kyDojxBM8KgbqqhhE7kDrGARSaieDUYx5SQm1GFFsRW?version=0\n"
     ]
    }
   ],
   "source": [
    "\n",
    "#  DELETE ONE SPECIFIC GRAPH ONLY\n",
    "\n",
    "for l_database in my_client.databases():\n",
    "   for l_graph in my_client.get_database(name = l_database.name).graphs_in_database():\n",
    "      if ((l_database.name == DB_NAME) and (l_graph.name == GRAPH_NAME)):   \n",
    "         l_handle = my_client.get_database(name = l_database.name).get_graph_by_id(id = l_graph.graph_id)\n",
    "         l_handle.delete()\n",
    "\n",
    "for l_graph in my_client.graphs():\n",
    "   print(\"GRAPH ID: \", l_graph.graph_id, \"      GRAPH Version: \", l_graph.version, \"   Graph Name: \", l_graph.name)\n",
    "\n",
    "print(\"--\")\n"
   ]
  },
  {
   "cell_type": "code",
   "execution_count": 12,
   "id": "86bc4199-fa74-45e6-89f6-5c3a42b6a80a",
   "metadata": {},
   "outputs": [
    {
     "ename": "ServerCommunicationError",
     "evalue": "request failed: http://highmem-32-katana:8080/v2/database",
     "output_type": "error",
     "traceback": [
      "\u001b[0;31mConnectionRefusedError\u001b[0m\u001b[0;31m:\u001b[0m [Errno 111] Connect call failed ('10.0.73.101', 8080)\n",
      "\nThe above exception was the direct cause of the following exception:\n",
      "\u001b[0;31mOSError\u001b[0m\u001b[0;31m:\u001b[0m All connection attempts failed\n",
      "\nDuring handling of the above exception, another exception occurred:\n",
      "\u001b[0;31mConnectError\u001b[0m\u001b[0;31m:\u001b[0m All connection attempts failed\n",
      "\nThe above exception was the direct cause of the following exception:\n",
      "\u001b[0;31mConnectError\u001b[0m\u001b[0;31m:\u001b[0m All connection attempts failed\n",
      "\nDuring handling of the above exception, another exception occurred:\n",
      "\u001b[0;31mServerCommunicationError\u001b[0m\u001b[0;31m:\u001b[0m request failed: http://highmem-32-katana:8080/v2/database\n"
     ]
    }
   ],
   "source": [
    "\n",
    "#  CREATE DATABASE\n",
    "\n",
    "my_database = my_client.create_database(name = DB_NAME)\n",
    "\n",
    "print(my_database.database_id)\n"
   ]
  },
  {
   "cell_type": "code",
   "execution_count": 13,
   "id": "d97f1f8c-e814-42f4-b260-977297c969d3",
   "metadata": {},
   "outputs": [
    {
     "ename": "ServerCommunicationError",
     "evalue": "request failed: http://highmem-32-katana:8080/v2/databases",
     "output_type": "error",
     "traceback": [
      "\u001b[0;31mConnectionRefusedError\u001b[0m\u001b[0;31m:\u001b[0m [Errno 111] Connect call failed ('10.0.73.101', 8080)\n",
      "\nThe above exception was the direct cause of the following exception:\n",
      "\u001b[0;31mOSError\u001b[0m\u001b[0;31m:\u001b[0m All connection attempts failed\n",
      "\nDuring handling of the above exception, another exception occurred:\n",
      "\u001b[0;31mConnectError\u001b[0m\u001b[0;31m:\u001b[0m All connection attempts failed\n",
      "\nThe above exception was the direct cause of the following exception:\n",
      "\u001b[0;31mConnectError\u001b[0m\u001b[0;31m:\u001b[0m All connection attempts failed\n",
      "\nDuring handling of the above exception, another exception occurred:\n",
      "\u001b[0;31mServerCommunicationError\u001b[0m\u001b[0;31m:\u001b[0m request failed: http://highmem-32-katana:8080/v2/databases\n"
     ]
    },
    {
     "name": "stderr",
     "output_type": "stream",
     "text": [
      "WARNING:root:error during keep_alive, retrying (attempt=0)\n"
     ]
    }
   ],
   "source": [
    "\n",
    "#  CREATE GRAPH\n",
    "#\n",
    "my_graph = my_client.get_database(name = DB_NAME).create_graph(name = GRAPH_NAME, num_partitions = NUM_PARTITIONS)\n",
    "\n",
    "print(my_graph)\n",
    "\n",
    "print(\"--\")\n"
   ]
  },
  {
   "cell_type": "code",
   "execution_count": null,
   "id": "580fe9f5-957b-49ce-8081-50a821af3d9c",
   "metadata": {},
   "outputs": [],
   "source": [
    "\n",
    "#  CONNECT TO GRAPH\n",
    "\n",
    "my_graph, *_ = my_client.get_database(name=DB_NAME).find_graphs_by_name(GRAPH_NAME)\n",
    "\n",
    "print(my_graph)\n"
   ]
  },
  {
   "cell_type": "code",
   "execution_count": 14,
   "id": "7ab33507-d8a4-42e4-86c0-7770d16c96d8",
   "metadata": {},
   "outputs": [
    {
     "ename": "ServerCommunicationError",
     "evalue": "request failed: http://highmem-32-katana:8080/v2/databases",
     "output_type": "error",
     "traceback": [
      "\u001b[0;31mConnectionRefusedError\u001b[0m\u001b[0;31m:\u001b[0m [Errno 111] Connect call failed ('10.0.73.101', 8080)\n",
      "\nThe above exception was the direct cause of the following exception:\n",
      "\u001b[0;31mOSError\u001b[0m\u001b[0;31m:\u001b[0m All connection attempts failed\n",
      "\nDuring handling of the above exception, another exception occurred:\n",
      "\u001b[0;31mConnectError\u001b[0m\u001b[0;31m:\u001b[0m All connection attempts failed\n",
      "\nThe above exception was the direct cause of the following exception:\n",
      "\u001b[0;31mConnectError\u001b[0m\u001b[0;31m:\u001b[0m All connection attempts failed\n",
      "\nDuring handling of the above exception, another exception occurred:\n",
      "\u001b[0;31mServerCommunicationError\u001b[0m\u001b[0;31m:\u001b[0m request failed: http://highmem-32-katana:8080/v2/databases\n"
     ]
    },
    {
     "name": "stderr",
     "output_type": "stream",
     "text": [
      "WARNING:root:error during keep_alive, retrying (attempt=0)\n",
      "WARNING:root:error during keep_alive, retrying (attempt=0)\n",
      "WARNING:root:error during keep_alive, retrying (attempt=0)\n",
      "WARNING:root:error during keep_alive, retrying (attempt=0)\n",
      "WARNING:root:error during keep_alive, retrying (attempt=0)\n",
      "WARNING:root:error during keep_alive, retrying (attempt=0)\n",
      "WARNING:root:error during keep_alive, retrying (attempt=0)\n",
      "WARNING:root:error during keep_alive, retrying (attempt=0)\n",
      "WARNING:root:error during keep_alive, retrying (attempt=0)\n",
      "WARNING:root:error during keep_alive, retrying (attempt=0)\n",
      "WARNING:root:error during keep_alive, retrying (attempt=0)\n",
      "WARNING:root:error during keep_alive, retrying (attempt=0)\n",
      "WARNING:root:error during keep_alive, retrying (attempt=0)\n",
      "WARNING:root:error during keep_alive, retrying (attempt=0)\n",
      "WARNING:root:error during keep_alive, retrying (attempt=0)\n",
      "WARNING:root:error during keep_alive, retrying (attempt=0)\n",
      "WARNING:root:error during keep_alive, retrying (attempt=0)\n",
      "WARNING:root:error during keep_alive, retrying (attempt=0)\n",
      "WARNING:root:error during keep_alive, retrying (attempt=0)\n",
      "WARNING:root:error during keep_alive, retrying (attempt=0)\n",
      "WARNING:root:error during keep_alive, retrying (attempt=0)\n",
      "WARNING:root:error during keep_alive, retrying (attempt=0)\n",
      "WARNING:root:error during keep_alive, retrying (attempt=0)\n",
      "WARNING:root:error during keep_alive, retrying (attempt=0)\n",
      "WARNING:root:error during keep_alive, retrying (attempt=0)\n",
      "WARNING:root:error during keep_alive, retrying (attempt=0)\n",
      "WARNING:root:error during keep_alive, retrying (attempt=0)\n",
      "WARNING:root:error during keep_alive, retrying (attempt=0)\n",
      "WARNING:root:error during keep_alive, retrying (attempt=0)\n",
      "WARNING:root:error during keep_alive, retrying (attempt=0)\n",
      "WARNING:root:error during keep_alive, retrying (attempt=0)\n",
      "WARNING:root:error during keep_alive, retrying (attempt=0)\n",
      "WARNING:root:error during keep_alive, retrying (attempt=0)\n",
      "WARNING:root:error during keep_alive, retrying (attempt=0)\n",
      "WARNING:root:error during keep_alive, retrying (attempt=0)\n",
      "WARNING:root:error during keep_alive, retrying (attempt=0)\n",
      "WARNING:root:error during keep_alive, retrying (attempt=0)\n",
      "WARNING:root:error during keep_alive, retrying (attempt=0)\n",
      "WARNING:root:error during keep_alive, retrying (attempt=0)\n",
      "WARNING:root:error during keep_alive, retrying (attempt=0)\n",
      "WARNING:root:error during keep_alive, retrying (attempt=0)\n",
      "WARNING:root:error during keep_alive, retrying (attempt=0)\n",
      "WARNING:root:error during keep_alive, retrying (attempt=0)\n",
      "WARNING:root:error during keep_alive, retrying (attempt=0)\n",
      "WARNING:root:error during keep_alive, retrying (attempt=0)\n",
      "WARNING:root:error during keep_alive, retrying (attempt=0)\n",
      "WARNING:root:error during keep_alive, retrying (attempt=0)\n"
     ]
    }
   ],
   "source": [
    "\n",
    "#  Now that we share servers, get a better list of databases and graphs ..\n",
    "#\n",
    "\n",
    "for l_each_d in my_client.databases():\n",
    "   print(\"Database Name: %-28s   Id: %s\" % (l_each_d.name, l_each_d.database_id))\n",
    "      #\n",
    "   for l_each_g in my_client.get_database(name=l_each_d.name).graphs_in_database(): \n",
    "      print(\"   Graph Name: %-28s      Version: %-8d   Id: %s\" % (l_each_g.name, l_each_g.version, l_each_g.graph_id))\n",
    "\n",
    "\n",
    "print(\"\"  )\n",
    "print(\"--\")\n"
   ]
  },
  {
   "cell_type": "code",
   "execution_count": null,
   "id": "345a9e31-aa50-4b2b-9101-15767933ba8b",
   "metadata": {},
   "outputs": [],
   "source": [
    "\n",
    "####################################################################################\n"
   ]
  },
  {
   "cell_type": "code",
   "execution_count": null,
   "id": "885f5f2f-d988-4f60-bb56-9d430efd77e9",
   "metadata": {},
   "outputs": [],
   "source": [
    "\n",
    "from timeit import default_timer\n",
    "\n",
    "# Import the module that uses Dask to import drug data\n",
    "#\n",
    "from src import dask_ingestion\n",
    "\n",
    "#  Create a named database/graph\n",
    "#\n",
    "#  graph = client.create_graph(num_partitions=input_config.num_partitions)\n",
    "\n",
    "if input_config.use_train_rdg:\n",
    "    print(f\"Import pretrained graph from: {input_config.trained_rdg_path}\")\n",
    "    import_data.rdg(my_graph, input_config.trained_rdg_path)\n",
    "else:\n",
    "    print(\"Generate the graph with data from source\")\n",
    "    dask_ingestion.generate_deepcdr_graph(my_graph, input_config)\n",
    "    \n",
    "print(\"--\")\n"
   ]
  },
  {
   "cell_type": "markdown",
   "id": "04ccbd83-ef7e-4f45-a050-39ea7ed1ae79",
   "metadata": {},
   "source": [
    "### Inspect the Graph Schema\n",
    "\n",
    "Import the module with pipeline utility functions, create a `RecipePipeline` instance to store relevant information, and display a visual representation of the graph's schema."
   ]
  },
  {
   "cell_type": "code",
   "execution_count": null,
   "id": "8d99d580-f5b1-471b-b540-d24fab04a24c",
   "metadata": {},
   "outputs": [],
   "source": [
    "\n",
    "from src import katana_pipeline\n",
    "\n",
    "rec_pipeline = katana_pipeline.RecipePipeline(my_graph)\n",
    "rec_pipeline.my_graph.schema().view()\n",
    "\n",
    "print(\"--\")\n"
   ]
  },
  {
   "cell_type": "markdown",
   "id": "83f5ed07-bbfc-45fd-a0ba-70cb68a5a53d",
   "metadata": {
    "tags": []
   },
   "source": [
    "<a id='step-2'></a>\n",
    "## Step 2: Extract ML-ready Data"
   ]
  },
  {
   "cell_type": "markdown",
   "id": "a8adb855-cb4a-4cde-a9fa-bee51c095ca9",
   "metadata": {},
   "source": [
    "<img src=\"images/pipeline_preprocess.png\" style=\"width: 1500px;\"/>"
   ]
  },
  {
   "cell_type": "markdown",
   "id": "1036bfac-aa1d-48be-9580-7200c588282d",
   "metadata": {},
   "source": [
    "### Feature Generation\n",
    "\n",
    "- Collect genomics data from edges between `CELL_LINE` and `GENE` and store the results in the `rec_pipeline` graph. \n",
    "- Remove unused nodes in the graph. \n",
    "\n",
    "\n",
    "<div class=\"alert alert-info\">\n",
    "You can see, add or remove preprocessing functions in the <a href=\"./src/preprocessing.py\" class=\"alert-link\">preprocessing.py</a> file, where they are typically implemented with simple OpenCypher queries.\n",
    "</div>\n",
    "\n",
    "The featurization of a `DRUG` into its graph representation is happening on-the-fly during the training-test-inference cycle. \n",
    "\n",
    "<div class=\"alert alert-info\">\n",
    "You can see or change the featurization of DRUG in the smiles_to_pyg function of the <a href=\"./src/utils.py\" class=\"alert-link\">utils.py</a> file. \n",
    "</div>"
   ]
  },
  {
   "cell_type": "code",
   "execution_count": null,
   "id": "4ad1cca9-74b9-4e43-aa2e-aac854a9275b",
   "metadata": {},
   "outputs": [],
   "source": [
    "start_time = default_timer()\n",
    "rec_pipeline.feature_generator()\n",
    "print(f\"***Took {default_timer() - start_time} seconds to generate the features.***\")"
   ]
  },
  {
   "cell_type": "markdown",
   "id": "8b44c2f0-6359-4d8f-b249-9a9cae9d4fd6",
   "metadata": {},
   "source": [
    "### Statistics of the graph\n",
    "\n",
    "Compute basics statistics to get the number of nodes in the graph. The number of pairs between a drug and a cell line is the data used to train and test the model."
   ]
  },
  {
   "cell_type": "code",
   "execution_count": null,
   "id": "30cc94fa-4b49-46c8-a6cc-3a4b9033b024",
   "metadata": {},
   "outputs": [],
   "source": [
    "stats = rec_pipeline.stats()\n",
    "stats"
   ]
  },
  {
   "cell_type": "markdown",
   "id": "9d082f63-c5d7-4194-856b-4762ff4bbdf8",
   "metadata": {},
   "source": [
    "### Split Generation\n",
    "\n",
    "Based on the known drug–cell line interactions across cancer cell lines  and drugs, we randomly\n",
    "selected 95% of instances of each TCGA cancer type as the training set and the remaining 5% of the instances as the testing set for model evaluation.\n",
    "\n",
    "We create new edges in our `rec_pipeline` graph with `SPLIT` labels between `DRUG` and `CELL_LINE` nodes. The old split will be deleted.\n",
    "\n",
    "<div class=\"alert alert-info\">\n",
    "You can choose to change the train-test fraction or the seeds used for the split using the <a href=\"./config/hyperparams.py\" class=\"alert-link\">test_size</a> and <a href=\"./config/hyperparams.py\" class=\"alert-link\">random_state</a> parameters.\n",
    "</div>"
   ]
  },
  {
   "cell_type": "code",
   "execution_count": null,
   "id": "dc30ac93-1a4c-4099-b7e2-44949827d890",
   "metadata": {
    "tags": []
   },
   "outputs": [],
   "source": [
    "start_time = default_timer()\n",
    "rec_pipeline.split_generator(input_config)\n",
    "print(f\"***Took {default_timer() - start_time} seconds to generate the split.***\")\n",
    "rec_pipeline.graph.schema().view()"
   ]
  },
  {
   "cell_type": "markdown",
   "id": "d086603e-d2d4-45af-8afd-f91849e32f9a",
   "metadata": {
    "tags": []
   },
   "source": [
    "<a id='step-3'></a>\n",
    "## AI Training Pipeline"
   ]
  },
  {
   "cell_type": "markdown",
   "id": "2df6ce75-84ea-4c86-9420-ea0d4f7668e9",
   "metadata": {},
   "source": [
    "<img src=\"images/pipeline_gnn.png\" style=\"width: 1500px;\"/>"
   ]
  },
  {
   "cell_type": "markdown",
   "id": "e5c6bb1a-7c59-43eb-b5a2-d9c06183bf29",
   "metadata": {},
   "source": [
    "### Initialize model training"
   ]
  },
  {
   "cell_type": "markdown",
   "id": "7e3de5b0-5f66-4dc6-8f30-3e66d789ecb7",
   "metadata": {},
   "source": [
    "<center><img src=\"./images/model.png\" style=\"width:70%;\"></center>\n",
    "\n",
    "DeepCDR is a hybrid graph convolutional network model that predicts the IC50 value, which denotes the effectiveness of a drug in inhibiting the growth of a specific cancer cell line.\n",
    "\n",
    "On the one hand, the graph neural network (GNN) takes the adjacent information of atoms in a drug into consideration by aggregating the features of neighboring atoms together. On the other hand, the subnetworks extract high-level features of cancer omics profiles from a certain cancer cell line (i.e., genomic data, transcriptomic data and epigenomic data). Then the high-level features of drug and multiple omics data get concatenated and fed to a 1-D\n",
    "convolutional neural network."
   ]
  },
  {
   "cell_type": "markdown",
   "id": "a8394f5c-c3d8-4782-b34b-5d330c8c414a",
   "metadata": {},
   "source": [
    "### Load Model configuration\n",
    "\n",
    "The model configuration defines the specifications of the model that will be used to train on the graph.\n",
    "\n",
    "<div class=\"alert alert-info\">\n",
    "You can change the model configuration in the <a href=\"./config/hyperparams.py\" class=\"alert-link\">hyperparams.py</a> file. By default the model is using genomics, epigenomics and transcriptomics data.\n",
    "</div>\n",
    "\n",
    "<div class=\"alert alert-info\">\n",
    "You can change the model architecture in the <a href=\"./src/model.py\" class=\"alert-link\">model.py</a> file.\n",
    "</div>"
   ]
  },
  {
   "cell_type": "code",
   "execution_count": null,
   "id": "07e70ffb-3c7c-49ef-baa9-f4aff238e84e",
   "metadata": {},
   "outputs": [],
   "source": [
    "model_config = hyperparams.load_model_config()\n",
    "model_config"
   ]
  },
  {
   "cell_type": "markdown",
   "id": "247df214-0c2a-4787-b97f-ca6d9b5f457f",
   "metadata": {},
   "source": [
    "### Load Training configuration\n",
    "\n",
    "The training configuration specify details of the training pipeline.\n",
    "\n",
    "<div class=\"alert alert-info\">\n",
    "You can change the training configuration in the <a href=\"./config/hyperparams.py\" class=\"alert-link\">hyperparams.py</a> file.\n",
    "</div>"
   ]
  },
  {
   "cell_type": "code",
   "execution_count": null,
   "id": "171b3bae-5feb-482a-9baa-ecdbb8b1915e",
   "metadata": {},
   "outputs": [],
   "source": [
    "training_config = hyperparams.load_training_config()\n",
    "training_config"
   ]
  },
  {
   "cell_type": "markdown",
   "id": "c09dd293-1f51-4040-ba2b-44e130f67951",
   "metadata": {},
   "source": [
    "### Training\n",
    "\n",
    "Distributed training of the model. The trained model and its configuration will be saved in the `rec_pipeline` graph using the `experiment_name` graph property."
   ]
  },
  {
   "cell_type": "code",
   "execution_count": null,
   "id": "e9faa3bf-3b43-4d26-a069-09f7bb342808",
   "metadata": {},
   "outputs": [],
   "source": [
    "start_time = default_timer()\n",
    "validation_metric = rec_pipeline.train(model_config, training_config)\n",
    "print(f\"***Took {default_timer() - start_time} seconds to train the model.***\")\n",
    "print(\"Validation metric: \", validation_metric)"
   ]
  },
  {
   "cell_type": "markdown",
   "id": "1350f3c1-27aa-40e6-811d-7a57a05abdea",
   "metadata": {},
   "source": [
    "### Testing\n",
    "\n",
    "Test the trained model on the test data and compare the results with other achitecture baselines. We compare three different metrics:\n",
    "- [Pearson correlation coefficient](https://en.wikipedia.org/wiki/Pearson_correlation_coefficient): a measure of linear correlation between two sets of data. A value closer to 1 is better.\n",
    "- [Spearman correlation coefficient](https://en.wikipedia.org/wiki/Spearman%27s_rank_correlation_coefficient): how well the relationship between two variables can be described using a monotonic function. A value closer to 1 is better.\n",
    "- [Root mean square error (RMSE)](https://en.wikipedia.org/wiki/Root-mean-square_deviation): a measure of the differences between values predicted by a model and the values observed. A lower value is better."
   ]
  },
  {
   "cell_type": "code",
   "execution_count": null,
   "id": "b64cb014-1302-4bac-b55f-3c86ba61436c",
   "metadata": {},
   "outputs": [],
   "source": [
    "start_time = default_timer()\n",
    "metrics, predictions, labels = rec_pipeline.test(training_config)\n",
    "print(f\"***Took {default_timer() - start_time} seconds to test the model.***\")\n",
    "metrics"
   ]
  },
  {
   "cell_type": "markdown",
   "id": "8ce573cf-65ab-4c2c-ba13-8cf30d4e595a",
   "metadata": {},
   "source": [
    "### Plot Predictions\n",
    "\n",
    "Create a scatter plot of the `IC50` predicted by the trained model in function of `IC50` real value."
   ]
  },
  {
   "cell_type": "code",
   "execution_count": null,
   "id": "5ec43d5c-07d9-456c-9aa6-c3d230b64991",
   "metadata": {
    "tags": []
   },
   "outputs": [],
   "source": [
    "start_time = default_timer()\n",
    "rec_pipeline.plot(labels, predictions)\n",
    "print(f\"***Took {default_timer() - start_time} seconds to plot figures.***\")"
   ]
  },
  {
   "cell_type": "markdown",
   "id": "f1411c92-b3ca-4340-94d6-2f3296607c31",
   "metadata": {},
   "source": [
    "<a id='step-4'></a>\n",
    "## Trained model inference "
   ]
  },
  {
   "cell_type": "markdown",
   "id": "50716925-45aa-426b-adde-f79946d387ec",
   "metadata": {},
   "source": [
    "<img src=\"images/pipeline_inference.png\" style=\"width: 1500px;\"/>\n",
    "\n"
   ]
  },
  {
   "cell_type": "code",
   "execution_count": null,
   "id": "edb4d9c2-ccda-4ce1-b480-a109e492ba58",
   "metadata": {},
   "outputs": [],
   "source": [
    "rec_pipeline.infer(training_config)"
   ]
  },
  {
   "cell_type": "code",
   "execution_count": null,
   "id": "e46e3750-0856-4a72-a332-a8bab0a7230a",
   "metadata": {},
   "outputs": [],
   "source": [
    "bortezomib = \"B(C(CC(C)C)NC(=O)C(CC1=CC=CC=C1)NC(=O)C2=NC=CN=C2)(O)O\"\n",
    "cell_line = \"ACH-000001\"\n",
    "rec_pipeline.infer(training_config, drug=bortezomib, cell_line=cell_line)"
   ]
  },
  {
   "cell_type": "markdown",
   "id": "97320404-c952-4b8d-94e9-ba6424c155ce",
   "metadata": {},
   "source": [
    "## Run trained model to save node embeddings\n",
    "\n",
    "Save the trained model embeddings as a node property. `drug_embeddings`, `epigenomics_embeddings`, `genomics_embeddings` and `transcriptomics_embeddings` will be created and saved. Those embeddings can be use for a future downstream task with a different model."
   ]
  },
  {
   "cell_type": "code",
   "execution_count": null,
   "id": "5fadc229-457e-40f5-a0df-b1fd36a772ca",
   "metadata": {},
   "outputs": [],
   "source": [
    "start_time = default_timer()\n",
    "rec_pipeline.infer_embeddings(model_config)\n",
    "print(f\"***Took {default_timer() - start_time} seconds to save node embeddings.***\")\n",
    "rec_pipeline.graph.schema().view()"
   ]
  },
  {
   "cell_type": "markdown",
   "id": "6e058913-fc3e-4c06-888b-b7fd9e167698",
   "metadata": {},
   "source": [
    "## Save Graph\n",
    "\n",
    "Save the graph created to the bucket location named in the `save_graph_path` variable."
   ]
  },
  {
   "cell_type": "code",
   "execution_count": null,
   "id": "36cc1319-b49e-4f07-aef0-a140ff354344",
   "metadata": {},
   "outputs": [],
   "source": [
    "if input_config.save_graph_path:\n",
    "    export_data.rdg(graph, input_config.save_graph_path)"
   ]
  }
 ],
 "metadata": {
  "katana": {
   "component": "AI",
   "max_num_hosts": 4
  },
  "kernelspec": {
   "display_name": "Python 3 (ipykernel)",
   "language": "python",
   "name": "python3"
  },
  "language_info": {
   "codemirror_mode": {
    "name": "ipython",
    "version": 3
   },
   "file_extension": ".py",
   "mimetype": "text/x-python",
   "name": "python",
   "nbconvert_exporter": "python",
   "pygments_lexer": "ipython3",
   "version": "3.8.13"
  },
  "toc-autonumbering": false
 },
 "nbformat": 4,
 "nbformat_minor": 5
}
