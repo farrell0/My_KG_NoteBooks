{
 "cells": [
  {
   "cell_type": "code",
   "execution_count": null,
   "id": "87e5a845-5cbd-49d8-bf61-4a13cd80a1f5",
   "metadata": {},
   "outputs": [],
   "source": [
    "\n",
    "#  Setting display options \n",
    "\n",
    "import pandas as pd\n",
    "   #\n",
    "pd.set_option(\"display.width\", 480)\n",
    "\n",
    "#  Sets horizontal scroll for wide outputs\n",
    "#\n",
    "from IPython.display import display, HTML\n",
    "display(HTML(\"\"))\n",
    "\n",
    "from tabulate import tabulate\n",
    "\n",
    "print(\"--\")\n"
   ]
  },
  {
   "cell_type": "markdown",
   "id": "d3ebe820-bc6d-4948-b668-8b81cd3cbf29",
   "metadata": {
    "tags": []
   },
   "source": [
    "#  Setup stuff: Connectivity"
   ]
  },
  {
   "cell_type": "code",
   "execution_count": null,
   "id": "1ea957d6-30c6-427a-ae4e-15ecfba0c4f9",
   "metadata": {},
   "outputs": [],
   "source": [
    "\n",
    "from katana import remote\n",
    "from katana.remote import import_data\n",
    "\n",
    "\n",
    "my_client = remote.Client()\n",
    "\n",
    "print(my_client)\n"
   ]
  },
  {
   "cell_type": "code",
   "execution_count": null,
   "id": "97571016-7c02-4e90-a75a-136a0dacd35f",
   "metadata": {},
   "outputs": [],
   "source": [
    "\n",
    "NUM_PARTITIONS  = 3\n",
    "   #\n",
    "DB_NAME         = \"my_db\"\n",
    "GRAPH_NAME      = \"my_graph\"\n",
    "\n",
    "print(\"--\")\n"
   ]
  },
  {
   "cell_type": "code",
   "execution_count": null,
   "id": "8ed2d715-aaeb-4381-9216-46fa0dd421b6",
   "metadata": {},
   "outputs": [],
   "source": [
    "\n",
    "#  DELETE ALL GRAPHS\n",
    "\n",
    "for l_database in my_client.databases():\n",
    "   for l_graph in my_client.get_database(name=l_database.name).graphs_in_database():\n",
    "      l_handle=my_client.get_database(name=l_database.name).get_graph_by_id(id=l_graph.graph_id)\n",
    "      l_handle.delete()\n",
    "\n",
    "for l_graph in my_client.graphs():\n",
    "   print(\"GRAPH ID: \", l_graph.graph_id, \"      GRAPH Version: \", l_graph.version)\n",
    "\n",
    "print(\"--\")\n"
   ]
  },
  {
   "cell_type": "code",
   "execution_count": null,
   "id": "d65615ef-323b-4624-8481-bff77177e4c6",
   "metadata": {},
   "outputs": [],
   "source": [
    "\n",
    "#  DELETE ONE SPECIFIC GRAPH ONLY\n",
    "\n",
    "for l_database in my_client.databases():\n",
    "   for l_graph in my_client.get_database(name = l_database.name).graphs_in_database():\n",
    "      if ((l_database.name == DB_NAME) and (l_graph.name == GRAPH_NAME)):   \n",
    "         l_handle = my_client.get_database(name = l_database.name).get_graph_by_id(id = l_graph.graph_id)\n",
    "         l_handle.delete()\n",
    "\n",
    "for l_graph in my_client.graphs():\n",
    "   print(\"GRAPH ID: \", l_graph.graph_id, \"      GRAPH Version: \", l_graph.version, \"   Graph Name: \", l_graph.name)\n",
    "\n",
    "print(\"--\")\n"
   ]
  },
  {
   "cell_type": "code",
   "execution_count": null,
   "id": "cf9c16ec-913f-46a8-bccc-76fc92c54866",
   "metadata": {},
   "outputs": [],
   "source": [
    "\n",
    "#  DELETE ALL DATABASES\n",
    "\n",
    "for l_database in my_client.databases():\n",
    "   if (l_database.name != \"default\"):\n",
    "      my_client.get_database(name=l_database.name).delete_database()\n",
    "      print(\"--\")\n",
    "\n",
    "for l_database in my_client.databases():\n",
    "   print(\"DB ID: \", l_database.database_id, \"     DB Name: \", l_database.name)\n"
   ]
  },
  {
   "cell_type": "code",
   "execution_count": null,
   "id": "6e72729c-265b-40e4-a3ee-674b793bed81",
   "metadata": {},
   "outputs": [],
   "source": [
    "\n",
    "#  CREATE DATABASE\n",
    "\n",
    "my_database = my_client.create_database(name=DB_NAME)\n",
    "\n",
    "print(my_database.database_id)\n"
   ]
  },
  {
   "cell_type": "code",
   "execution_count": null,
   "id": "2fc31da4-44c3-4bd3-b160-b315766dcd88",
   "metadata": {},
   "outputs": [],
   "source": [
    "\n",
    "#  CREATE GRAPH\n",
    "#\n",
    "my_graph = my_client.get_database(name=DB_NAME).create_graph(name=GRAPH_NAME, num_partitions=NUM_PARTITIONS)\n",
    "\n",
    "print(my_graph)\n"
   ]
  },
  {
   "cell_type": "code",
   "execution_count": null,
   "id": "c5db6505-7fc8-4779-b194-9ed8945b9a90",
   "metadata": {},
   "outputs": [],
   "source": [
    "\n",
    "#  CONNECT TO GRAPH\n",
    "\n",
    "my_graph, *_ = my_client.get_database(name=DB_NAME).find_graphs_by_name(GRAPH_NAME)\n",
    "\n",
    "print(my_graph)\n"
   ]
  },
  {
   "cell_type": "markdown",
   "id": "61556ce5-9044-42bc-bb13-80b6a514ae27",
   "metadata": {
    "tags": []
   },
   "source": [
    "# Create: Vertices/nodes, edges .."
   ]
  },
  {
   "cell_type": "code",
   "execution_count": null,
   "id": "8e7ecf31-d69e-4b5a-8a37-0cfb4c32fd33",
   "metadata": {},
   "outputs": [],
   "source": [
    "\n",
    "#  Vertices/Nodes, Airports ..\n",
    "\n",
    "df_airports = pd.DataFrame([\n",
    "       #\n",
    "   [\"MKE\", \"Milwaukee\"               , \"Airport\"],\n",
    "   [\"ORD\", \"Chicago O-Hare\"          , \"Airport\"],\n",
    "   [\"SJC\", \"San Jose\"                , \"Airport\"],\n",
    "   [\"DEN\", \"Denver\"                  , \"Airport\"],\n",
    "       #\n",
    "   ], columns = [\"airport_code\", \"airport_name\", \"LABEL\"])\n",
    "\n",
    "print(tabulate(df_airports, headers='keys', tablefmt='psql'))\n"
   ]
  },
  {
   "cell_type": "code",
   "execution_count": null,
   "id": "60eaac88-4dd5-47d3-94b3-0f5fd0b243f2",
   "metadata": {},
   "outputs": [],
   "source": [
    "#  Create the edge, flights ..\n",
    "\n",
    "df_flights = pd.DataFrame([\n",
    "      #\n",
    "   [\"MKE\", \"ORD\",   66, 1, \"FLIES_TO\" ],\n",
    "   [\"ORD\", \"MKE\",   66, 1, \"FLIES_TO\" ],\n",
    "      #\n",
    "   [\"ORD\", \"DEN\",  886, 1, \"FLIES_TO\" ],\n",
    "   [\"DEN\", \"ORD\",  886, 1, \"FLIES_TO\" ],\n",
    "      #\n",
    "   [\"SJC\", \"DEN\",  948, 1, \"FLIES_TO\" ],                           #  Notice SJC flies to/from Denver\n",
    "   [\"DEN\", \"SJC\",  948, 1, \"FLIES_TO\" ],\n",
    "      #\n",
    "   [\"SJC\", \"ORD\", 1829, 1, \"FLIES_TO\" ],                           #  Notice SJC flies to ORD, but not ORD to SJC\n",
    "      #\n",
    "   ], columns = [\"START_ID\", \"END_ID\", \"DISTANCE\", \"NUM_HOPS\", \"TYPE\"])\n",
    "\n",
    "print(tabulate(df_flights, headers='keys', tablefmt='psql'))\n"
   ]
  },
  {
   "cell_type": "code",
   "execution_count": null,
   "id": "49e8f39e-4b4f-4377-a8ac-52a1ad07094f",
   "metadata": {},
   "outputs": [],
   "source": [
    "\n",
    "# Import the 2 previously created Python DataFrames into KatanaGraph ..\n",
    "\n",
    "with import_data.DataFrameImporter(my_graph) as df_importer:   \n",
    "    \n",
    "   df_importer.nodes_dataframe(df_airports,                    #  Aiport set of Nodes\n",
    "      id_column             = \"airport_code\",\n",
    "      id_space              = \"Airport\",  \n",
    "      label                 = \"Airport\",  \n",
    "      )\n",
    "   \n",
    "   df_importer.edges_dataframe(df_flights,                     #  Our Edge, specifying the relationship between Airport --> FLIES_TO --> Airport\n",
    "      source_id_space       = \"Airport\", \n",
    "      destination_id_space  = \"Airport\",   \n",
    "      source_column         = \"START_ID\",\n",
    "      destination_column    = \"END_ID\",\n",
    "      type                  = \"FLIES_TO\"\n",
    "      )\n",
    "\n",
    "   df_importer.insert()\n",
    "\n",
    "print(\"--\")\n"
   ]
  },
  {
   "cell_type": "markdown",
   "id": "01e98ac8-f20c-4a58-b845-1433ef899aab",
   "metadata": {},
   "source": [
    "#  Add Restaurants .."
   ]
  },
  {
   "cell_type": "code",
   "execution_count": null,
   "id": "78ddb335-3723-413b-8b96-df7e2ce44a99",
   "metadata": {},
   "outputs": [],
   "source": [
    "\n",
    "#  Here we'll add stuff to the graph that some analytics will not like ..\n",
    "#\n",
    "\n",
    "l_query = \"\"\"\n",
    "   CREATE ( n: Restaurant { restaurant_code: 'PAP' } )               //  Notice single curly braces\n",
    "   SET n.restaurant_name = 'Pappadeauxs Seafood Kitchen' \n",
    "   \"\"\"\n",
    "      #\n",
    "display(l_result1 = my_graph.query_unpaginated(l_query))\n",
    "\n",
    "l_query = \"\"\"\n",
    "   MATCH\n",
    "      (n: Airport   ),\n",
    "      (m: Restaurant)\n",
    "   WHERE n.airport_code     = 'SJC' AND m.restaurant_code  = 'PAP'\n",
    "   CREATE (n) -[r: ATTRACTION { DRIVABLE: 'Yes' }]-> (m)\n",
    "   \"\"\"\n",
    "      #\n",
    "display(l_result2 = my_graph.query_unpaginated(l_query))\n"
   ]
  },
  {
   "cell_type": "markdown",
   "id": "c04b33dd-d8d3-4fc7-a292-09e997dfde8c",
   "metadata": {},
   "source": [
    "#  Diagnostics .."
   ]
  },
  {
   "cell_type": "code",
   "execution_count": 10,
   "id": "b9bbf601-a25b-4dd9-8f99-83ec1a576505",
   "metadata": {},
   "outputs": [
    {
     "data": {
      "application/vnd.jupyter.widget-view+json": {
       "model_id": "7b9cff925d7346efac30e34ea4571b9a",
       "version_major": 2,
       "version_minor": 0
      },
      "text/plain": [
       "          0/? [?op/s]"
      ]
     },
     "metadata": {},
     "output_type": "display_data"
    },
    {
     "name": "stdout",
     "output_type": "stream",
     "text": [
      "+----+-----------------+----------------+-----------+------------------+------------------+--------------+---------------------+-----------------------------+\n",
      "|    |           id(n) | labels(n)      | n.LABEL   | n.airport_code   | n.airport_name   | n datatype   | n.restaurant_code   | n.restaurant_name           |\n",
      "|----+-----------------+----------------+-----------+------------------+------------------+--------------+---------------------+-----------------------------|\n",
      "|  0 |               0 | ['Airport']    | Airport   | ORD              | Chicago O-Hare   | node         | nan                 | nan                         |\n",
      "|  1 |               1 | ['Airport']    | Airport   | DEN              | Denver           | node         | nan                 | nan                         |\n",
      "|  2 | 281474976710656 | ['Airport']    | Airport   | SJC              | San Jose         | node         | nan                 | nan                         |\n",
      "|  3 | 281474976710657 | ['Restaurant'] | nan       | nan              | nan              | node         | PAP                 | Pappadeauxs Seafood Kitchen |\n",
      "|  4 | 562949953421312 | ['Airport']    | Airport   | MKE              | Milwaukee        | node         | nan                 | nan                         |\n",
      "+----+-----------------+----------------+-----------+------------------+------------------+--------------+---------------------+-----------------------------+\n"
     ]
    }
   ],
   "source": [
    "\n",
    "#  What's in the graph ..\n",
    "\n",
    "l_result1 = my_graph.query_unpaginated(\"\"\"\n",
    "   MATCH (n) \n",
    "   RETURN n\n",
    "   \"\"\")\n",
    "print(tabulate(l_result1, headers='keys', tablefmt='psql'))\n"
   ]
  },
  {
   "cell_type": "code",
   "execution_count": null,
   "id": "a468544d-3635-4db2-9b19-894d3afd1812",
   "metadata": {},
   "outputs": [],
   "source": [
    "\n",
    "l_result2 = my_graph.query(\"\"\"\n",
    "   MATCH ( n ) - [ r ] -> ( m )\n",
    "   RETURN r\n",
    "   \"\"\")\n",
    "print(tabulate(l_result2, headers='keys', tablefmt='psql'))\n"
   ]
  },
  {
   "cell_type": "code",
   "execution_count": null,
   "id": "6160bd57-15aa-4ff0-9269-9431e6f7dd2b",
   "metadata": {},
   "outputs": [],
   "source": [
    "\n",
    "#  What's in the edge .. \n",
    "\n",
    "l_result = my_graph.query(\"\"\"\n",
    "\n",
    "   MATCH ( n )  - [r] ->  (m)\n",
    "   RETURN ID(n) AS FROM, ID(m) AS TO, r.DISTANCE AS DISTANCE, r.NUM_HOPS AS NUM_HOPS, TYPE(r) AS my_type, LABELS(n) AS FROM_LABELS, LABELS(m) AS TO_LABELS\n",
    "   \n",
    "   \"\"\")\n",
    "\n",
    "print(tabulate(l_result, headers='keys', tablefmt='psql'))\n"
   ]
  },
  {
   "cell_type": "code",
   "execution_count": null,
   "id": "6f8aef3b-d0b3-4b0b-98a2-eaf5c58d7380",
   "metadata": {},
   "outputs": [],
   "source": []
  },
  {
   "cell_type": "code",
   "execution_count": null,
   "id": "a8942bca-e965-45da-9f11-23fc801ab8d0",
   "metadata": {},
   "outputs": [],
   "source": []
  }
 ],
 "metadata": {
  "kernelspec": {
   "display_name": "Python 3 (ipykernel)",
   "language": "python",
   "name": "python3"
  },
  "language_info": {
   "codemirror_mode": {
    "name": "ipython",
    "version": 3
   },
   "file_extension": ".py",
   "mimetype": "text/x-python",
   "name": "python",
   "nbconvert_exporter": "python",
   "pygments_lexer": "ipython3",
   "version": "3.8.13"
  }
 },
 "nbformat": 4,
 "nbformat_minor": 5
}
