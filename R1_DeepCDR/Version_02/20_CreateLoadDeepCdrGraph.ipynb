{
 "cells": [
  {
   "cell_type": "code",
   "execution_count": null,
   "id": "57a6c20f-3419-4768-92a0-f106c5931689",
   "metadata": {},
   "outputs": [],
   "source": [
    "\n",
    "#  Notebook to load the DeepCDR graph ..\n",
    "#\n",
    "\n"
   ]
  },
  {
   "cell_type": "markdown",
   "id": "212d8ad3-a876-4638-b95e-a0702f897587",
   "metadata": {},
   "source": [
    "#  Setup: Display options .."
   ]
  },
  {
   "cell_type": "code",
   "execution_count": 1,
   "id": "8a38ebd7-d1d9-47a8-955c-a8270b024543",
   "metadata": {},
   "outputs": [
    {
     "name": "stdout",
     "output_type": "stream",
     "text": [
      "Exception reporting mode: Minimal\n"
     ]
    },
    {
     "data": {
      "text/html": [],
      "text/plain": [
       "<IPython.core.display.HTML object>"
      ]
     },
     "metadata": {},
     "output_type": "display_data"
    },
    {
     "name": "stdout",
     "output_type": "stream",
     "text": [
      "--\n"
     ]
    }
   ],
   "source": [
    "\n",
    "%xmode Minimal\n",
    "\n",
    "#  Setting display options \n",
    "\n",
    "import pandas as pd\n",
    "import numpy  as np\n",
    "   #\n",
    "pd.set_option(\"display.width\", 480)\n",
    "\n",
    "#  Sets horizontal scroll for wide outputs\n",
    "#\n",
    "from IPython.display import display, HTML\n",
    "display(HTML(\"\"))\n",
    "\n",
    "from tabulate import tabulate\n",
    "\n",
    "\n",
    "print(\"--\")\n"
   ]
  },
  {
   "cell_type": "markdown",
   "id": "8ac9bc73-49ab-44bf-a21a-a2a589622a51",
   "metadata": {},
   "source": [
    "#  Setup: Connectivity .."
   ]
  },
  {
   "cell_type": "code",
   "execution_count": 2,
   "id": "e87b75ba-c072-4111-8cca-4b4f394a0fce",
   "metadata": {},
   "outputs": [
    {
     "name": "stdout",
     "output_type": "stream",
     "text": [
      "<katana.remote.sync_wrappers.Client object at 0x7fad1875f6a0>\n",
      "0.9.0+20230315T145956Z.dbe1b6788.dev\n"
     ]
    }
   ],
   "source": [
    "\n",
    "from katana import remote\n",
    "\n",
    "my_client = remote.Client()\n",
    "\n",
    "print(my_client)\n",
    "print(my_client.server_version)\n"
   ]
  },
  {
   "cell_type": "code",
   "execution_count": 3,
   "id": "d3a77f99-f11b-4105-ab43-17ce605b15e8",
   "metadata": {},
   "outputs": [
    {
     "name": "stdout",
     "output_type": "stream",
     "text": [
      "--\n"
     ]
    }
   ],
   "source": [
    "\n",
    "NUM_PARTITIONS  = 3\n",
    "   #\n",
    "DB_NAME         = \"my_db\"\n",
    "GRAPH_NAME      = \"my_graph\"\n",
    "\n",
    "print(\"--\")\n"
   ]
  },
  {
   "cell_type": "code",
   "execution_count": null,
   "id": "73f507b5-9a82-4441-a79f-cc2fc239968a",
   "metadata": {},
   "outputs": [],
   "source": [
    "# ##################################################################"
   ]
  },
  {
   "cell_type": "code",
   "execution_count": null,
   "id": "7f2292b8-7df0-49a0-b3da-523f56cfe4f8",
   "metadata": {},
   "outputs": [],
   "source": [
    "\n",
    "#  DELETE ALL GRAPHS\n",
    "\n",
    "for l_database in my_client.databases():\n",
    "   for l_graph in my_client.get_database(name = l_database.name).graphs_in_database():\n",
    "      l_handle = my_client.get_database(name = l_database.name).get_graph_by_id(id = l_graph.graph_id)\n",
    "      l_handle.delete()\n",
    "\n",
    "for l_graph in my_client.graphs():\n",
    "   print(\"GRAPH ID: \", l_graph.graph_id, \"      GRAPH Version: \", l_graph.version)\n",
    "\n",
    "print(\"--\")\n"
   ]
  },
  {
   "cell_type": "code",
   "execution_count": 62,
   "id": "c989fda5-3ce8-4589-bf36-4da42d3d993c",
   "metadata": {},
   "outputs": [
    {
     "name": "stdout",
     "output_type": "stream",
     "text": [
      "GRAPH ID:  229orVsMaf2pRjWaNumXo1GdhCA4wRMptymSZxGG6Tyz       GRAPH Version:  11\n",
      "--\n"
     ]
    }
   ],
   "source": [
    "\n",
    "#  DELETE ONE SPECIFIC GRAPH ONLY\n",
    "\n",
    "for l_database in my_client.databases():\n",
    "   for l_graph in my_client.get_database(name = l_database.name).graphs_in_database():\n",
    "      if ((l_database.name == DB_NAME) and (l_graph.name == GRAPH_NAME)):   \n",
    "         l_handle = my_client.get_database(name = l_database.name).get_graph_by_id(id = l_graph.graph_id)\n",
    "         l_handle.delete()\n",
    "\n",
    "for l_graph in my_client.graphs():\n",
    "   print(\"GRAPH ID: \", l_graph.graph_id, \"      GRAPH Version: \", l_graph.version)\n",
    "\n",
    "print(\"--\")\n"
   ]
  },
  {
   "cell_type": "code",
   "execution_count": null,
   "id": "71f69a0e-451b-4679-b49c-5db1208d4c8f",
   "metadata": {},
   "outputs": [],
   "source": [
    "\n",
    "#  DELETE ALL DATABASES\n",
    "\n",
    "for l_database in my_client.databases():\n",
    "   if (l_database.name != \"default\"):\n",
    "      my_client.get_database(name = l_database.name).delete_database()\n",
    "      print(\"--\")\n",
    "\n",
    "for l_database in my_client.databases():\n",
    "   print(\"DB ID: \", l_database.database_id, \"     DB Name: \", l_database.name)\n"
   ]
  },
  {
   "cell_type": "code",
   "execution_count": null,
   "id": "a3b3bc00-fafb-481d-ba5a-8b52ae7d6e79",
   "metadata": {},
   "outputs": [],
   "source": [
    "\n",
    "#  CREATE DATABASE\n",
    "\n",
    "my_database = my_client.create_database(name = DB_NAME)\n",
    "\n",
    "print(my_database.database_id)\n"
   ]
  },
  {
   "cell_type": "code",
   "execution_count": 5,
   "id": "b8ba088b-2ec5-4b2a-8171-3c87ddffb47c",
   "metadata": {},
   "outputs": [
    {
     "name": "stdout",
     "output_type": "stream",
     "text": [
      "<_Graph my_graph, J15pRudKS2xx7F7v2P6Ae5uKiB4G8ui6AmkY7XhGGK7h, 0>\n"
     ]
    }
   ],
   "source": [
    "\n",
    "#  CREATE GRAPH\n",
    "#\n",
    "my_graph = my_client.get_database(name = DB_NAME).create_graph(name = GRAPH_NAME, num_partitions = NUM_PARTITIONS)\n",
    "\n",
    "print(my_graph)\n"
   ]
  },
  {
   "cell_type": "code",
   "execution_count": null,
   "id": "c3217f3b-dd84-47a3-ae2a-5033d122604a",
   "metadata": {},
   "outputs": [],
   "source": [
    "\n",
    "#  CONNECT TO GRAPH\n",
    "\n",
    "my_graph, *_ = my_client.get_database(name=DB_NAME).find_graphs_by_name(GRAPH_NAME)\n",
    "\n",
    "print(my_graph)\n"
   ]
  },
  {
   "cell_type": "code",
   "execution_count": null,
   "id": "918521c4-3808-4d15-a09d-8417964f5fb6",
   "metadata": {},
   "outputs": [],
   "source": [
    "# ##################################################################"
   ]
  },
  {
   "cell_type": "code",
   "execution_count": 6,
   "id": "e576c04e-9cd8-41e0-a1a3-ae09397e4f87",
   "metadata": {},
   "outputs": [
    {
     "name": "stdout",
     "output_type": "stream",
     "text": [
      "Database Name: default                        Id: 5RNXXsxxurFyGoT1bfGu1o58RxjgpHdGi2SPV6UBH9Xu\n",
      "Database Name: my_db                          Id: A1W7oi2f14CGMdaCaRrUDZUrFrUWSp67yZ9n22SxRfe5\n",
      "   Graph Name: my_graph_BB                       Version: 48         Id: 7JfcadZu8CmgPwwCfzQ92FXjh7QZYsHRToFJDtLSgPMd\n",
      "   Graph Name: my_graph                          Version: 0          Id: J15pRudKS2xx7F7v2P6Ae5uKiB4G8ui6AmkY7XhGGK7h\n",
      "\n",
      "--\n"
     ]
    }
   ],
   "source": [
    "\n",
    "#  Now that we share servers, get a better list of databases and graphs ..\n",
    "#\n",
    "\n",
    "for l_each_d in my_client.databases():\n",
    "   print(\"Database Name: %-28s   Id: %s\" % (l_each_d.name, l_each_d.database_id))\n",
    "      #\n",
    "   for l_each_g in my_client.get_database(name=l_each_d.name).graphs_in_database(): \n",
    "      print(\"   Graph Name: %-28s      Version: %-8d   Id: %s\" % (l_each_g.name, l_each_g.version, l_each_g.graph_id))\n",
    "\n",
    "\n",
    "print(\"\"  )\n",
    "print(\"--\")\n"
   ]
  },
  {
   "cell_type": "markdown",
   "id": "9d1dee0a-411c-4269-95b3-9cb5ded64676",
   "metadata": {},
   "source": [
    "#  Step 01: Process CSV files .."
   ]
  },
  {
   "cell_type": "code",
   "execution_count": 64,
   "id": "1af9c83f-ba62-4757-bd8d-d74c49d4e7c9",
   "metadata": {},
   "outputs": [
    {
     "name": "stdout",
     "output_type": "stream",
     "text": [
      "Dataframe... Node, Cell Line                                Number of records: 1461\n",
      "+----+------------+-------------+\n",
      "|    | id         | tcga_code   |\n",
      "|----+------------+-------------|\n",
      "|  0 | ACH-000698 | SCLC        |\n",
      "|  1 | ACH-000489 | COAD/READ   |\n",
      "+----+------------+-------------+\n",
      "\n",
      "Dataframe... Node, Gene                                     Number of records: 719\n",
      "+----+-------+\n",
      "|    | id    |\n",
      "|----+-------|\n",
      "|  0 | AKT2  |\n",
      "|  1 | EPAS1 |\n",
      "+----+-------+\n",
      "\n",
      "Dataframe... Node, GDSC                                     Number of records: 266\n",
      "+----+-----------+\n",
      "|    | id        |\n",
      "|----+-----------|\n",
      "|  0 | GDSC:1    |\n",
      "|  1 | GDSC:1001 |\n",
      "+----+-----------+\n",
      "\n",
      "Dataframe... Node, Drug                                     Number of records: 238\n",
      "+----+---------+------------------------------------------------+\n",
      "|    |      id | smiles                                         |\n",
      "|----+---------+------------------------------------------------|\n",
      "|  0 | 9863776 | COc1cc(O)c2c(c1)C=CCC(O)C(O)C(=O)C=CCC(C)OC2=O |\n",
      "|  1 |    3385 | O=c1[nH]cc(F)c(=O)[nH]1                        |\n",
      "+----+---------+------------------------------------------------+\n",
      "\n",
      "\n",
      "\n",
      "Dataframe... Edge, GDSC Cell Line                           Number of records: 208734\n",
      "+----+------------+------------+----------+\n",
      "|    | START_ID   | END_ID     |    label |\n",
      "|----+------------+------------+----------|\n",
      "| 10 | GDSC:1     | ACH-000070 | 0.693305 |\n",
      "| 15 | GDSC:1     | ACH-000137 | 2.58027  |\n",
      "+----+------------+------------+----------+\n",
      "\n",
      "Dataframe... Edge, Cell Line Gene Expression                Number of records: 391017\n",
      "+----+------------+----------+---------------+\n",
      "|    | START_ID   | END_ID   |   observation |\n",
      "|----+------------+----------+---------------|\n",
      "|  0 | ACH-000828 | LASP1    |     9.39348   |\n",
      "|  1 | ACH-000828 | HOXA11   |     0.0426443 |\n",
      "+----+------------+----------+---------------+\n",
      "\n",
      "Dataframe... Edge, Cell Line Gene Methylation               Number of records: 453288\n",
      "+----+------------+----------+---------------+\n",
      "|    | START_ID   | END_ID   |   observation |\n",
      "|----+------------+----------+---------------|\n",
      "|  0 | ACH-000698 | SKI      |       0       |\n",
      "|  1 | ACH-000698 | TNFRSF14 |       0.00739 |\n",
      "+----+------------+----------+---------------+\n",
      "\n",
      "Dataframe... Edge, GDSC Drug                                Number of records: 266\n",
      "+----+------------+----------+\n",
      "|    | START_ID   |   END_ID |\n",
      "|----+------------+----------|\n",
      "|  0 | GDSC:1     |   176870 |\n",
      "|  1 | GDSC:1001  |    65110 |\n",
      "+----+------------+----------+\n",
      "\n",
      "Dataframe... Edge, Cell Line Gene Mutation                  Number of records: 340246\n",
      "+----+------------+----------+---------------+\n",
      "|    | START_ID   | END_ID   |   observation |\n",
      "|----+------------+----------+---------------|\n",
      "|  0 | ACH-000001 | ABI1     |             0 |\n",
      "|  1 | ACH-000001 | ABL1     |             0 |\n",
      "+----+------------+----------+---------------+\n",
      "\n",
      "\n",
      "--\n"
     ]
    }
   ],
   "source": [
    "\n",
    "#  Read the CSVs as Step 01 towards populating our graph\n",
    "#\n",
    "\n",
    "from src import utils\n",
    "\n",
    "l_folder   = \"./10_Data/\"\n",
    "\n",
    "#  Helper function, see what's going on \n",
    "#\n",
    "def f_outputsomething(arg1, arg2, arg3, arg4):\n",
    "   if (arg4):\n",
    "      print(\"Dataframe... %-44s   Number of records: %d\" % (arg2, (len(arg1) * 2) ))   \n",
    "   else:\n",
    "      print(\"Dataframe... %-44s   Number of records: %d\" % (arg2, (len(arg1)    ) ))   \n",
    "   if (arg3):\n",
    "      print(tabulate(arg1.head(2), headers='keys', tablefmt='psql'))\n",
    "      print()\n",
    "    \n",
    "\n",
    "#  Nodes\n",
    "#\n",
    "df_N_cell_line                   = pd.read_csv(l_folder + \"21_N_cell_lines.csv\"                  , header = \"infer\", delimiter = \",\", dtype = [ (\"id\", str), (\"tcga_code\", str) ] )\n",
    "f_outputsomething(df_N_cell_line, \"Node, Cell Line\",                                   True, False)\n",
    "df_N_gene                        = pd.read_csv(l_folder + \"22_N_genes.csv\"                       , header = \"infer\", delimiter = \",\", dtype = [ (\"id\", str) ] )\n",
    "f_outputsomething(df_N_gene,      \"Node, Gene\",                                        True, False)\n",
    "df_N_gdsc                        = pd.read_csv(l_folder + \"23_N_gdsc.csv\"                        , header = \"infer\", delimiter = \",\", dtype = [ (\"id\", str) ] )\n",
    "f_outputsomething(df_N_gdsc,      \"Node, GDSC\",                                        True, False)\n",
    "df_N_drug                        = pd.read_csv(l_folder + \"24_N_drugs.csv\"                       , header = \"infer\", delimiter = \",\", dtype = [ (\"id\", str), (\"smiles\", str)    ] )\n",
    "f_outputsomething(df_N_drug,      \"Node, Drug\",                                        True, False)\n",
    "\n",
    "\n",
    "print()\n",
    "print()\n",
    "\n",
    "\n",
    "#  Edges\n",
    "#\n",
    "\n",
    "#  Needed a dropna() here, else data would not load\n",
    "#\n",
    "df_E_gdsc_cell_line              = pd.read_csv(l_folder + \"31_E_gdsc_cell_line.csv\"              , header = \"infer\", delimiter = \",\", dtype = [ (\"START_ID\", str), (\"END_ID\", str), (\"LABEL\", str) ] ).dropna()\n",
    "f_outputsomething(df_E_gdsc_cell_line,             \"Edge, GDSC Cell Line\",             True, False)\n",
    "\n",
    "df_E_cell_line_gene_expression   = pd.read_csv(l_folder + \"32_E_cell_line_gene_expression.csv\"   , header = \"infer\", delimiter = \",\", dtype = [ (\"START_ID\", str), (\"END_ID\", str), (\"OBSERVATION\", np.double) ] )\n",
    "f_outputsomething(df_E_cell_line_gene_expression,  \"Edge, Cell Line Gene Expression\",  True, False)\n",
    "\n",
    "df_E_cell_line_gene_methylation  = pd.read_csv(l_folder + \"33_E_cell_line_gene_methylation.csv\"  , header = \"infer\", delimiter = \",\", dtype = [ (\"START_ID\", str), (\"END_ID\", str), (\"OBSERVATION\", np.double) ] )\n",
    "f_outputsomething(df_E_cell_line_gene_methylation, \"Edge, Cell Line Gene Methylation\", True, False)\n",
    "\n",
    "df_E_gdsc_drug                   = pd.read_csv(l_folder + \"34_E_gdsc_drug.csv\"                   , header = \"infer\", delimiter = \",\", dtype = [ (\"START_ID\", str), (\"END_ID\", str) ] )\n",
    "f_outputsomething(df_E_gdsc_drug,                  \"Edge, GDSC Drug\",                  True, False)\n",
    "\n",
    "df_E_cell_line_gene_mutation     = pd.read_csv(l_folder + \"35_E_cell_line_gene_mutation.csv\"     , header = \"infer\", delimiter = \",\", dtype = [ (\"START_ID\", str), (\"END_ID\", str), (\"OBSERVATION\", np.double) ] )\n",
    "f_outputsomething(df_E_cell_line_gene_mutation,    \"Edge, Cell Line Gene Mutation\",    True, False)\n",
    "\n",
    "        \n",
    "print(\"\")\n",
    "print(\"--\")\n"
   ]
  },
  {
   "cell_type": "code",
   "execution_count": 65,
   "id": "3271fdaa-0f21-4f75-b1b3-b8996ff3ea84",
   "metadata": {},
   "outputs": [
    {
     "data": {
      "application/vnd.jupyter.widget-view+json": {
       "model_id": "690cf967315141ea8247560765d375aa",
       "version_major": 2,
       "version_minor": 0
      },
      "text/plain": [
       "          0/? [?op/s]"
      ]
     },
     "metadata": {},
     "output_type": "display_data"
    },
    {
     "data": {
      "application/vnd.jupyter.widget-view+json": {
       "model_id": "109340af8a6845d8b0bd66bb41786e5c",
       "version_major": 2,
       "version_minor": 0
      },
      "text/plain": [
       "          0/? [?op/s]"
      ]
     },
     "metadata": {},
     "output_type": "display_data"
    },
    {
     "name": "stdout",
     "output_type": "stream",
     "text": [
      "\n",
      "--\n"
     ]
    }
   ],
   "source": [
    "\n",
    "#  At this point we have several Pandas DataFrames; import them into the graph-\n",
    "#\n",
    "#     Why use Pandas DataFrames versus Dask ?\n",
    "#     \n",
    "#     .  The data is small enough\n",
    "#     .  Dask DataFrames currently (beta) have to be sourced from a shared/public drive\n",
    "#\n",
    "\n",
    "\n",
    "from katana.remote import import_data\n",
    "\n",
    "\n",
    "#  Just nodes\n",
    "#\n",
    "with import_data.DataFrameImporter(my_graph) as df_importer:   \n",
    "   df_importer.nodes_dataframe(\n",
    "      df_N_cell_line,\n",
    "      id_column             = \"id\",\n",
    "      id_space              = \"CELL_LINE\",  \n",
    "      label                 = \"CELL_LINE\",  \n",
    "      ) \n",
    "   df_importer.nodes_dataframe(\n",
    "      df_N_gene,\n",
    "      id_column             = \"id\",\n",
    "      id_space              = \"GENE\",  \n",
    "      label                 = \"GENE\",  \n",
    "      ) \n",
    "   df_importer.nodes_dataframe(\n",
    "      df_N_gdsc,\n",
    "      id_column             = \"id\",\n",
    "      id_space              = \"GDSC\",  \n",
    "      label                 = \"GDSC\",  \n",
    "      ) \n",
    "   df_importer.nodes_dataframe(\n",
    "      df_N_drug,\n",
    "      id_column             = \"id\",\n",
    "      id_space              = \"DRUG\",  \n",
    "      label                 = \"DRUG\",  \n",
    "      ) \n",
    "   df_importer.insert()\n",
    "    \n",
    "\n",
    "#  Just edges\n",
    "#\n",
    "with import_data.DataFrameImporter(my_graph) as df_importer:   \n",
    "   df_importer.edges_dataframe(\n",
    "      df_E_gdsc_cell_line, \n",
    "      source_id_space       = \"GDSC\", \n",
    "      destination_id_space  = \"CELL_LINE\",   \n",
    "      source_column         = \"START_ID\",\n",
    "      destination_column    = \"END_ID\",\n",
    "      type                  = \"HAS_CELL_LINE\"\n",
    "      )\n",
    "   df_importer.edges_dataframe(\n",
    "      df_E_gdsc_cell_line, \n",
    "      source_id_space       = \"CELL_LINE\", \n",
    "      destination_id_space  = \"GDSC\",   \n",
    "      source_column         = \"END_ID\",\n",
    "      destination_column    = \"START_ID\",\n",
    "      type                  = \"HAS_CELL_LINE\"\n",
    "      )\n",
    "\n",
    "   df_importer.edges_dataframe(\n",
    "      df_E_cell_line_gene_expression, \n",
    "      source_id_space       = \"CELL_LINE\", \n",
    "      destination_id_space  = \"GENE\",   \n",
    "      source_column         = \"START_ID\",\n",
    "      destination_column    = \"END_ID\",\n",
    "      type                  = \"HAS_EXPRESSION_OBSERVATION\"\n",
    "      )\n",
    "   df_importer.edges_dataframe(\n",
    "      df_E_cell_line_gene_expression, \n",
    "      source_id_space       = \"GENE\", \n",
    "      destination_id_space  = \"CELL_LINE\",   \n",
    "      source_column         = \"END_ID\",\n",
    "      destination_column    = \"START_ID\",\n",
    "      type                  = \"HAS_EXPRESSION_OBSERVATION\"\n",
    "      )\n",
    "    \n",
    "   df_importer.edges_dataframe(\n",
    "      df_E_cell_line_gene_methylation, \n",
    "      source_id_space       = \"CELL_LINE\", \n",
    "      destination_id_space  = \"GENE\",   \n",
    "      source_column         = \"START_ID\",\n",
    "      destination_column    = \"END_ID\",\n",
    "      type                  = \"HAS_METHYLATION_OBSERVATION\"\n",
    "      )\n",
    "   df_importer.edges_dataframe(\n",
    "      df_E_cell_line_gene_methylation, \n",
    "      source_id_space       = \"GENE\", \n",
    "      destination_id_space  = \"CELL_LINE\",   \n",
    "      source_column         = \"END_ID\",\n",
    "      destination_column    = \"START_ID\",\n",
    "      type                  = \"HAS_METHYLATION_OBSERVATION\"\n",
    "      )\n",
    "    \n",
    "   df_importer.edges_dataframe(\n",
    "      df_E_gdsc_drug, \n",
    "      source_id_space       = \"GDSC\", \n",
    "      destination_id_space  = \"DRUG\",   \n",
    "      source_column         = \"START_ID\",\n",
    "      destination_column    = \"END_ID\",\n",
    "      type                  = \"FOR_DRUG\"\n",
    "      )\n",
    "   df_importer.edges_dataframe(\n",
    "      df_E_gdsc_drug, \n",
    "      source_id_space       = \"DRUG\", \n",
    "      destination_id_space  = \"GDSC\",   \n",
    "      source_column         = \"END_ID\",\n",
    "      destination_column    = \"START_ID\",\n",
    "      type                  = \"FOR_DRUG\"\n",
    "      )\n",
    "    \n",
    "   df_importer.edges_dataframe(\n",
    "      df_E_cell_line_gene_mutation, \n",
    "      source_id_space       = \"CELL_LINE\", \n",
    "      destination_id_space  = \"GENE\",   \n",
    "      source_column         = \"START_ID\",\n",
    "      destination_column    = \"END_ID\",\n",
    "      type                  = \"HAS_MUTATION_OBSERVATION\"\n",
    "      )\n",
    "   df_importer.edges_dataframe(\n",
    "      df_E_cell_line_gene_mutation, \n",
    "      source_id_space       = \"GENE\", \n",
    "      destination_id_space  = \"CELL_LINE\",   \n",
    "      source_column         = \"END_ID\",\n",
    "      destination_column    = \"START_ID\",\n",
    "      type                  = \"HAS_MUTATION_OBSERVATION\"\n",
    "      )\n",
    "    \n",
    "   df_importer.node_id_property_name(\"id\")\n",
    "   df_importer.insert()\n",
    "\n",
    "print(\"\")\n",
    "print(\"--\")\n"
   ]
  },
  {
   "cell_type": "code",
   "execution_count": 66,
   "id": "5d17c412-4a0c-450c-a0c4-1a3016e3c587",
   "metadata": {},
   "outputs": [
    {
     "data": {
      "application/vnd.jupyter.widget-view+json": {
       "model_id": "4182715c84b242b8b33bd9feb39bca11",
       "version_major": 2,
       "version_minor": 0
      },
      "text/plain": [
       "          0/? [?op/s]"
      ]
     },
     "metadata": {},
     "output_type": "display_data"
    },
    {
     "data": {
      "application/vnd.jupyter.widget-view+json": {
       "model_id": "2d68b105d7f84f93a34532331eee107f",
       "version_major": 2,
       "version_minor": 0
      },
      "text/plain": [
       "          0/? [?op/s]"
      ]
     },
     "metadata": {},
     "output_type": "display_data"
    },
    {
     "name": "stdout",
     "output_type": "stream",
     "text": [
      "\n",
      "Dataframe... Node, Cell Line                                Number of records: 1461\n",
      "Dataframe... Node, Drug                                     Number of records: 238\n",
      "Dataframe... Node, GDSC                                     Number of records: 266\n",
      "Dataframe... Node, Gene                                     Number of records: 719\n",
      "\n",
      "From Graph.. Node, CELL_LINE                                Number of records: 1458\n",
      "From Graph.. Node, DRUG                                     Number of records: 223\n",
      "From Graph.. Node, GDSC                                     Number of records: 266\n",
      "From Graph.. Node, GENE                                     Number of records: 719\n",
      "\n",
      "\n",
      "Dataframe... Edge, GDSC Drug                                Number of records: 532\n",
      "Dataframe... Edge, GDSC Cell Line                           Number of records: 417468\n",
      "Dataframe... Edge, Cell Line Gene Expression                Number of records: 782034\n",
      "Dataframe... Edge, Cell Line Gene Methylation               Number of records: 906576\n",
      "Dataframe... Edge, Cell Line Gene Mutation                  Number of records: 680492\n",
      "\n",
      "From Graph.. Edge, FOR_DRUG                                 Number of records: 476\n",
      "From Graph.. Edge, HAS_CELL_LINE                            Number of records: 413422\n",
      "From Graph.. Edge, HAS_EXPRESSION_OBSERVATION               Number of records: 782034\n",
      "From Graph.. Edge, HAS_METHYLATION_OBSERVATION              Number of records: 906576\n",
      "From Graph.. Edge, HAS_MUTATION_OBSERVATION                 Number of records: 680492\n",
      "\n",
      "--\n"
     ]
    }
   ],
   "source": [
    "\n",
    "#  Check all of the above, runs counts\n",
    "#\n",
    "\n",
    "l_query  = \"\"\"\n",
    "   MATCH (n) \n",
    "   WITH DISTINCT LABELS(n) AS temp, COUNT(n) AS tempCnt\n",
    "   UNWIND temp AS label\n",
    "   RETURN label, SUM(tempCnt) AS cnt\n",
    "   ORDER BY label\n",
    "   \"\"\".format()\n",
    "      #\n",
    "l_result1 = my_graph.query_unpaginated(l_query)\n",
    "\n",
    "l_query  = \"\"\"\n",
    "   MATCH (m)-[r]->(n) \n",
    "   WITH DISTINCT TYPE(r) AS label, COUNT(r) AS cnt\n",
    "   RETURN label, cnt\n",
    "   ORDER BY label\n",
    "   \"\"\".format()\n",
    "      #\n",
    "l_result2 = my_graph.query_unpaginated(l_query)\n",
    "\n",
    "print()\n",
    "\n",
    "f_outputsomething(df_N_cell_line,                  \"Node, Cell Line\"                 , False, False)\n",
    "f_outputsomething(df_N_drug,                       \"Node, Drug\"                      , False, False)\n",
    "f_outputsomething(df_N_gdsc,                       \"Node, GDSC\"                      , False, False)\n",
    "f_outputsomething(df_N_gene,                       \"Node, Gene\"                      , False, False)\n",
    "   #\n",
    "print()\n",
    "   #\n",
    "for l_each in l_result1.itertuples():\n",
    "   print(\"From Graph.. Node, %-38s   Number of records: %d\" % (l_each.label, l_each.cnt))   \n",
    "\n",
    "print()\n",
    "print()\n",
    "\n",
    "f_outputsomething(df_E_gdsc_drug,                  \"Edge, GDSC Drug\"                 , False, True )\n",
    "f_outputsomething(df_E_gdsc_cell_line,             \"Edge, GDSC Cell Line\"            , False, True )\n",
    "f_outputsomething(df_E_cell_line_gene_expression,  \"Edge, Cell Line Gene Expression\" , False, True )\n",
    "f_outputsomething(df_E_cell_line_gene_methylation, \"Edge, Cell Line Gene Methylation\", False, True )\n",
    "f_outputsomething(df_E_cell_line_gene_mutation,    \"Edge, Cell Line Gene Mutation\"   , False, True )\n",
    "   #\n",
    "print()\n",
    "   #\n",
    "for l_each in l_result2.itertuples():\n",
    "   print(\"From Graph.. Edge, %-38s   Number of records: %d\" % (l_each.label, l_each.cnt))   \n",
    "\n",
    "print()\n",
    "print(\"--\")\n"
   ]
  },
  {
   "cell_type": "code",
   "execution_count": null,
   "id": "c4795c79-145b-46ea-ac7e-ea29131325c8",
   "metadata": {},
   "outputs": [],
   "source": [
    "\n",
    "#  Output the schema from our graph\n",
    "#\n",
    "\n",
    "l_result = my_graph.query_unpaginated(\"CALL graph.schema() RETURN *\")\n",
    "print(l_result)\n",
    "\n",
    "print()\n",
    "print(\"--\")\n"
   ]
  },
  {
   "cell_type": "code",
   "execution_count": null,
   "id": "b25c81e2-6ef3-47a0-b53b-82ccf875f57b",
   "metadata": {},
   "outputs": [],
   "source": []
  },
  {
   "cell_type": "code",
   "execution_count": null,
   "id": "9ec0f005-19fb-408f-8d28-3c3ca546ae67",
   "metadata": {},
   "outputs": [],
   "source": []
  }
 ],
 "metadata": {
  "kernelspec": {
   "display_name": "Python 3 (ipykernel)",
   "language": "python",
   "name": "python3"
  },
  "language_info": {
   "codemirror_mode": {
    "name": "ipython",
    "version": 3
   },
   "file_extension": ".py",
   "mimetype": "text/x-python",
   "name": "python",
   "nbconvert_exporter": "python",
   "pygments_lexer": "ipython3",
   "version": "3.8.13"
  }
 },
 "nbformat": 4,
 "nbformat_minor": 5
}
