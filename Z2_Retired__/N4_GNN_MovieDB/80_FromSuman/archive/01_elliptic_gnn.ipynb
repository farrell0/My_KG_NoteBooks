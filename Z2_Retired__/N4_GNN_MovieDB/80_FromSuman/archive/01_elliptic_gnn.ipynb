{
 "cells": [
  {
   "cell_type": "markdown",
   "metadata": {
    "tags": []
   },
   "source": [
    "<div class=\"header\">\n",
    "  <img src=\"img/kg_logo_white_side.png\" alt=\"logo\" style=\"width: 300px;\"/>\n",
    "    <h1> Elliptic Dataset / GNN Embedding Pipeline </h1>\n",
    "</div>"
   ]
  },
  {
   "cell_type": "markdown",
   "metadata": {},
   "source": [
    "  <img src=\"img/pipeline.png\" alt=\"logo\" style=\"width: 1000px;\"/>"
   ]
  },
  {
   "cell_type": "code",
   "execution_count": 10,
   "metadata": {},
   "outputs": [],
   "source": [
    "import yaml\n",
    "import warnings\n",
    "\n",
    "with open(\"config.yaml\", \"r\") as f:\n",
    "    config = yaml.load(f, Loader=yaml.FullLoader)\n",
    "project_id = config['project']['project_id']"
   ]
  },
  {
   "cell_type": "markdown",
   "metadata": {
    "tags": []
   },
   "source": [
    "## PREPROCESSING & INGESTION"
   ]
  },
  {
   "cell_type": "markdown",
   "metadata": {},
   "source": [
    "<img src=\"img/dask.png\" alt=\"Drawing\" style=\"width: 600px;\"/>"
   ]
  },
  {
   "cell_type": "code",
   "execution_count": 11,
   "metadata": {},
   "outputs": [
    {
     "name": "stdout",
     "output_type": "stream",
     "text": [
      "Table deleted: katana-clusters-beta.fsi_elliptic.account_features\n",
      "Loaded 203769 rows and 95 columns to katana-clusters-beta.fsi_elliptic.account_features\n",
      "Updated elliptic_feast/feature_repo/elliptic_features.py with baseline feature view\n"
     ]
    },
    {
     "data": {
      "application/vnd.jupyter.widget-view+json": {
       "model_id": "84d5d57343664a1fb812e8d6ba1f6c9f",
       "version_major": 2,
       "version_minor": 0
      },
      "text/plain": [
       "          0/? [?op/s]"
      ]
     },
     "metadata": {},
     "output_type": "display_data"
    },
    {
     "data": {
      "application/vnd.jupyter.widget-view+json": {
       "model_id": "328fb274504d4c8eb40e71cacbda385e",
       "version_major": 2,
       "version_minor": 0
      },
      "text/plain": [
       "          0/? [?op/s]"
      ]
     },
     "metadata": {},
     "output_type": "display_data"
    }
   ],
   "source": [
    "from src.elliptic_dask_preprocessing import elliptic_preprocessing\n",
    "elliptic_graph = elliptic_preprocessing()"
   ]
  },
  {
   "cell_type": "code",
   "execution_count": 19,
   "metadata": {},
   "outputs": [
    {
     "data": {
      "application/vnd.jupyter.widget-view+json": {
       "model_id": "9ae96349c12143e4a6befae503163e56",
       "version_major": 2,
       "version_minor": 0
      },
      "text/plain": [
       "          0/? [?op/s]"
      ]
     },
     "metadata": {},
     "output_type": "display_data"
    },
    {
     "data": {
      "application/vnd.jupyter.widget-view+json": {
       "model_id": "fd67378383dc43e39de5200315a71ca7",
       "version_major": 2,
       "version_minor": 0
      },
      "text/plain": [
       "          0/? [?op/s]"
      ]
     },
     "metadata": {},
     "output_type": "display_data"
    },
    {
     "name": "stdout",
     "output_type": "stream",
     "text": [
      "CPU times: user 2.42 s, sys: 178 ms, total: 2.6 s\n",
      "Wall time: 1min 30s\n"
     ]
    },
    {
     "data": {
      "application/vnd.jupyter.widget-view+json": {
       "model_id": "e6a3ae36992d44089e53cadcec485c30",
       "version_major": 2,
       "version_minor": 0
      },
      "text/plain": [
       "GraphVizWidget(edges=[{'from': 0, 'to': 844424930133398, 'label': 'rev_transaction', 'type': 'rev_transaction'…"
      ]
     },
     "metadata": {},
     "output_type": "display_data"
    }
   ],
   "source": [
    "%%time\n",
    "elliptic_graph.query(\"MATCH (m)-->(n) RETURN * LIMIT 500\", contextualize=True).visualize()"
   ]
  },
  {
   "cell_type": "markdown",
   "metadata": {
    "tags": []
   },
   "source": [
    "## ENCODING & TRAINING"
   ]
  },
  {
   "cell_type": "markdown",
   "metadata": {},
   "source": [
    "<img src=\"img/gnn_train.png\" alt=\"Drawing\" style=\"width: 700px;\"/>"
   ]
  },
  {
   "cell_type": "code",
   "execution_count": 4,
   "metadata": {},
   "outputs": [
    {
     "name": "stderr",
     "output_type": "stream",
     "text": [
      "DGL backend not selected or invalid.  Assuming PyTorch for now.\n"
     ]
    },
    {
     "name": "stdout",
     "output_type": "stream",
     "text": [
      "Setting the default backend to \"pytorch\". You can change it in the ~/.dgl/config.json file or export the DGLBACKEND environment variable.  Valid options are: pytorch, mxnet, tensorflow (all lowercase)\n"
     ]
    }
   ],
   "source": [
    "from src.katana_enterprise import GNNEmbeddingPipeline\n",
    "import sys,os\n",
    "sys.path.append(os.path.join(\"~/solutions/fsi/demos/elliptic\"))\n",
    "elliptic_node_classification_job = GNNEmbeddingPipeline(\n",
    "    display_name=\"elliptic_gnn_embedding_train_job\", \n",
    "    optimization_prediction_type=\"node_classification\",\n",
    "    embed_dim=16,\n",
    "    supervised=True\n",
    ")"
   ]
  },
  {
   "cell_type": "code",
   "execution_count": 5,
   "metadata": {
    "scrolled": true,
    "tags": []
   },
   "outputs": [
    {
     "data": {
      "application/vnd.jupyter.widget-view+json": {
       "model_id": "19d19f505ed14294b3a57d792331399a",
       "version_major": 2,
       "version_minor": 0
      },
      "text/plain": [
       "          0/? [?op/s]"
      ]
     },
     "metadata": {},
     "output_type": "display_data"
    },
    {
     "data": {
      "application/vnd.jupyter.widget-view+json": {
       "model_id": "5ed1cea046264a0a902a5b470bb08b16",
       "version_major": 2,
       "version_minor": 0
      },
      "text/plain": [
       "          0/? [?op/s]"
      ]
     },
     "metadata": {},
     "output_type": "display_data"
    },
    {
     "data": {
      "application/vnd.jupyter.widget-view+json": {
       "model_id": "9d6e878978834d46ac2277e8d76d3b97",
       "version_major": 2,
       "version_minor": 0
      },
      "text/plain": [
       "          0/? [?op/s]"
      ]
     },
     "metadata": {},
     "output_type": "display_data"
    },
    {
     "name": "stdout",
     "output_type": "stream",
     "text": [
      "\n",
      "Host 0 output:\n",
      "Tensorboard log directory: gs://katana-internal1/tensorboard/elliptic_demo_e2e_9aa53e45cdb94fecab86af96b70555c5\n",
      "Validation data test_score: {'validation_metric': 0.9365556481928416}\n",
      "Test data test_score: {'validation_metric': 0.9268294431381544}\n",
      "\n",
      "Host 1 output:\n",
      "Tensorboard log directory: gs://katana-internal1/tensorboard/elliptic_demo_e2e_9aa53e45cdb94fecab86af96b70555c5\n",
      "Validation data test_score: {'validation_metric': 0.9087194190748478}\n",
      "Test data test_score: {'validation_metric': 0.9302990766760337}\n",
      "\n",
      "Host 2 output:\n",
      "Tensorboard log directory: gs://katana-internal1/tensorboard/elliptic_demo_e2e_9aa53e45cdb94fecab86af96b70555c5\n",
      "Validation data test_score: {'validation_metric': 0.8951792608935466}\n",
      "Test data test_score: {'validation_metric': 0.8853853507155622}\n",
      "\n",
      "Host 3 output:\n",
      "Tensorboard log directory: gs://katana-internal1/tensorboard/elliptic_demo_e2e_9aa53e45cdb94fecab86af96b70555c5\n",
      "Validation data test_score: {'validation_metric': 0.9203414953414952}\n",
      "Test data test_score: {'validation_metric': 0.8962297872340426}\n",
      "CPU times: user 8.12 s, sys: 434 ms, total: 8.55 s\n",
      "Wall time: 4min 16s\n"
     ]
    },
    {
     "name": "stderr",
     "output_type": "stream",
     "text": [
      "\n",
      "Host 0 errors:\n",
      "UserWarning: The given NumPy array is not writeable, and PyTorch does not support non-writeable tensors. This means you can write to the underlying (supposedly non-writeable) NumPy array using the tensor. You may want to copy the array to protect its data or make it writeable before converting it to a tensor. This type of warning will be suppressed for the rest of this program. (Triggered internally at  /home/conda/feedstock_root/build_artifacts/pytorch-recipe_1645203023865/work/torch/csrc/utils/tensor_numpy.cpp:183.)\n",
      "\n",
      "Host 1 errors:\n",
      "UserWarning: The given NumPy array is not writeable, and PyTorch does not support non-writeable tensors. This means you can write to the underlying (supposedly non-writeable) NumPy array using the tensor. You may want to copy the array to protect its data or make it writeable before converting it to a tensor. This type of warning will be suppressed for the rest of this program. (Triggered internally at  /home/conda/feedstock_root/build_artifacts/pytorch-recipe_1645203023865/work/torch/csrc/utils/tensor_numpy.cpp:183.)\n",
      "\n",
      "Host 2 errors:\n",
      "UserWarning: The given NumPy array is not writeable, and PyTorch does not support non-writeable tensors. This means you can write to the underlying (supposedly non-writeable) NumPy array using the tensor. You may want to copy the array to protect its data or make it writeable before converting it to a tensor. This type of warning will be suppressed for the rest of this program. (Triggered internally at  /home/conda/feedstock_root/build_artifacts/pytorch-recipe_1645203023865/work/torch/csrc/utils/tensor_numpy.cpp:183.)\n",
      "\n",
      "Host 3 errors:\n",
      "UserWarning: The given NumPy array is not writeable, and PyTorch does not support non-writeable tensors. This means you can write to the underlying (supposedly non-writeable) NumPy array using the tensor. You may want to copy the array to protect its data or make it writeable before converting it to a tensor. This type of warning will be suppressed for the rest of this program. (Triggered internally at  /home/conda/feedstock_root/build_artifacts/pytorch-recipe_1645203023865/work/torch/csrc/utils/tensor_numpy.cpp:183.)\n"
     ]
    }
   ],
   "source": [
    "%%time\n",
    "import warnings\n",
    "elliptic_node_classification_job.train(\n",
    "    elliptic_graph,\n",
    "    target_property_name=\"target\",\n",
    "    graph_analytics_features=[\"page_rank\", \"betweenness_centrality\"],\n",
    "    budget_milli_node_hours=8000,\n",
    "    model_display_name=\"elliptic_gnn_embed\",\n",
    "    disable_early_stopping=False,\n",
    "    sync=True,\n",
    "    split_ratio=[0.8, 0.15, 0.05],\n",
    ")"
   ]
  },
  {
   "cell_type": "markdown",
   "metadata": {
    "tags": []
   },
   "source": [
    "## EMBEDDING  & STORAGE"
   ]
  },
  {
   "cell_type": "markdown",
   "metadata": {},
   "source": [
    "<img src=\"img/gnn_inference.png\" alt=\"Drawing\" style=\"width: 700px;\"/>"
   ]
  },
  {
   "cell_type": "code",
   "execution_count": 6,
   "metadata": {
    "scrolled": true,
    "tags": []
   },
   "outputs": [
    {
     "data": {
      "application/vnd.jupyter.widget-view+json": {
       "model_id": "f859474a81c4413fbe0fe1eaa1d4cb75",
       "version_major": 2,
       "version_minor": 0
      },
      "text/plain": [
       "          0/? [?op/s]"
      ]
     },
     "metadata": {},
     "output_type": "display_data"
    },
    {
     "name": "stdout",
     "output_type": "stream",
     "text": [
      "\n",
      "Host 0 output:\n",
      "Table created: katana-clusters-beta.fsi_elliptic.elliptic_embeddings_9aa53e45cdb94fecab86af96b70555c5\n",
      "Loaded 203769 rows and 18 columns to katana-clusters-beta.fsi_elliptic.elliptic_embeddings_9aa53e45cdb94fecab86af96b70555c5\n",
      "\n",
      "Host 1 output:\n",
      "Table created: katana-clusters-beta.fsi_elliptic.elliptic_embeddings_9aa53e45cdb94fecab86af96b70555c5\n",
      "Loaded 203769 rows and 18 columns to katana-clusters-beta.fsi_elliptic.elliptic_embeddings_9aa53e45cdb94fecab86af96b70555c5\n",
      "\n",
      "Host 2 output:\n",
      "Table created: katana-clusters-beta.fsi_elliptic.elliptic_embeddings_9aa53e45cdb94fecab86af96b70555c5\n",
      "Loaded 203769 rows and 18 columns to katana-clusters-beta.fsi_elliptic.elliptic_embeddings_9aa53e45cdb94fecab86af96b70555c5\n",
      "\n",
      "Host 3 output:\n",
      "Table created: katana-clusters-beta.fsi_elliptic.elliptic_embeddings_9aa53e45cdb94fecab86af96b70555c5\n",
      "Loaded 203769 rows and 18 columns to katana-clusters-beta.fsi_elliptic.elliptic_embeddings_9aa53e45cdb94fecab86af96b70555c5\n"
     ]
    },
    {
     "data": {
      "application/vnd.jupyter.widget-view+json": {
       "model_id": "afdf566df95143eabf26d6d2028f307a",
       "version_major": 2,
       "version_minor": 0
      },
      "text/plain": [
       "          0/? [?op/s]"
      ]
     },
     "metadata": {},
     "output_type": "display_data"
    },
    {
     "name": "stdout",
     "output_type": "stream",
     "text": [
      "\n",
      "Host 0 output:\n",
      "Table created: katana-clusters-beta.fsi_elliptic.account_mapping_9aa53e45cdb94fecab86af96b70555c5\n",
      "Loaded 203769 rows and 6 columns to katana-clusters-beta.fsi_elliptic.account_mapping_9aa53e45cdb94fecab86af96b70555c5\n",
      "\n",
      "Host 1 output:\n",
      "Table created: katana-clusters-beta.fsi_elliptic.account_mapping_9aa53e45cdb94fecab86af96b70555c5\n",
      "Loaded 203769 rows and 6 columns to katana-clusters-beta.fsi_elliptic.account_mapping_9aa53e45cdb94fecab86af96b70555c5\n",
      "\n",
      "Host 2 output:\n",
      "Table created: katana-clusters-beta.fsi_elliptic.account_mapping_9aa53e45cdb94fecab86af96b70555c5\n",
      "Loaded 203769 rows and 6 columns to katana-clusters-beta.fsi_elliptic.account_mapping_9aa53e45cdb94fecab86af96b70555c5\n",
      "\n",
      "Host 3 output:\n",
      "Table created: katana-clusters-beta.fsi_elliptic.account_mapping_9aa53e45cdb94fecab86af96b70555c5\n",
      "Loaded 203769 rows and 6 columns to katana-clusters-beta.fsi_elliptic.account_mapping_9aa53e45cdb94fecab86af96b70555c5\n",
      "CPU times: user 1 s, sys: 42.9 ms, total: 1.05 s\n",
      "Wall time: 22 s\n"
     ]
    }
   ],
   "source": [
    "%%time\n",
    "pipeline_uri = elliptic_node_classification_job.infer_embeddings(\n",
    "    elliptic_graph, \n",
    "    project_id\n",
    "    )"
   ]
  },
  {
   "cell_type": "code",
   "execution_count": 7,
   "metadata": {},
   "outputs": [
    {
     "name": "stdout",
     "output_type": "stream",
     "text": [
      "9aa53e45cdb94fecab86af96b70555c5\n"
     ]
    }
   ],
   "source": [
    "print(pipeline_uri)"
   ]
  },
  {
   "cell_type": "code",
   "execution_count": 8,
   "metadata": {},
   "outputs": [],
   "source": [
    "if (config['model']['pipeline_uri'] != pipeline_uri) or (config['model']['pipeline_uri'] is None):\n",
    "    config['model']['pipeline_uri'] = pipeline_uri\n",
    "with open('config.yaml', 'w') as f:\n",
    "    config = yaml.dump(config, stream=f,\n",
    "                       default_flow_style=False, sort_keys=False)"
   ]
  },
  {
   "cell_type": "markdown",
   "metadata": {
    "tags": []
   },
   "source": [
    "## GRAPH FEATURES & ACCURACY IMPROVEMENT"
   ]
  },
  {
   "cell_type": "markdown",
   "metadata": {},
   "source": [
    "<img src=\"img/f1score.png\" alt=\"Drawing\" style=\"width: 1000px;\"/>"
   ]
  },
  {
   "cell_type": "markdown",
   "metadata": {},
   "source": [
    "### Graph Feature Importance"
   ]
  },
  {
   "cell_type": "code",
   "execution_count": null,
   "metadata": {},
   "outputs": [],
   "source": [
    "%matplotlib inline\n",
    "\n",
    "ax = xgboost.plot_importance(bst_embed, height=0.8, max_num_features=15)\n",
    "ax.grid(False, axis=\"y\")\n",
    "ax.set_title('Estimated feature importance')\n",
    "plt.show()"
   ]
  },
  {
   "cell_type": "markdown",
   "metadata": {
    "tags": []
   },
   "source": [
    "<div>\n",
    "    <div style=\"margin-left: 50px;float:left\">\n",
    "        <b> Baseline </b>\n",
    "<img src=\"img/baseline.png\" alt=\"Drawing\" style=\"width: 500px;\"/>\n",
    "    </div>\n",
    "    <div style=\"margin-left: 50px;float:left\">\n",
    "        <b> With Graph Embeddings</b>\n",
    "<img src=\"img/enhanced.png\" alt=\"Drawing\" style=\"width: 500px;\"/>\n",
    "    </div>\n",
    "</div>"
   ]
  },
  {
   "cell_type": "code",
   "execution_count": null,
   "metadata": {},
   "outputs": [],
   "source": []
  }
 ],
 "metadata": {
  "kernelspec": {
   "display_name": "Python 3 (ipykernel)",
   "language": "python",
   "name": "python3"
  },
  "language_info": {
   "codemirror_mode": {
    "name": "ipython",
    "version": 3
   },
   "file_extension": ".py",
   "mimetype": "text/x-python",
   "name": "python",
   "nbconvert_exporter": "python",
   "pygments_lexer": "ipython3",
   "version": "3.8.13"
  },
  "vscode": {
   "interpreter": {
    "hash": "4c2b8563932708ac4f64e3bc4797ea8eb43fc7530baa7f01daadf5b46d7b1fd4"
   }
  }
 },
 "nbformat": 4,
 "nbformat_minor": 4
}
