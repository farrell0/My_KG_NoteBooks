{
 "cells": [
  {
   "cell_type": "code",
   "execution_count": 1,
   "id": "92b22713-09cb-4337-8e1b-9c6df6d80609",
   "metadata": {},
   "outputs": [
    {
     "data": {
      "text/html": [],
      "text/plain": [
       "<IPython.core.display.HTML object>"
      ]
     },
     "metadata": {},
     "output_type": "display_data"
    },
    {
     "name": "stdout",
     "output_type": "stream",
     "text": [
      "--\n"
     ]
    }
   ],
   "source": [
    "\n",
    "#  Setting display options \n",
    "\n",
    "import pandas as pd\n",
    "   #\n",
    "pd.set_option(\"display.width\", 480)\n",
    "\n",
    "#  Sets horizontal scroll for wide outputs\n",
    "#\n",
    "from IPython.display import display, HTML\n",
    "display(HTML(\"\"))\n",
    "\n",
    "from tabulate import tabulate\n",
    "\n",
    "print(\"--\")\n"
   ]
  },
  {
   "cell_type": "markdown",
   "id": "d3ebe820-bc6d-4948-b668-8b81cd3cbf29",
   "metadata": {
    "tags": []
   },
   "source": [
    "#  Setup stuff: Connectivity"
   ]
  },
  {
   "cell_type": "code",
   "execution_count": 2,
   "id": "1ea957d6-30c6-427a-ae4e-15ecfba0c4f9",
   "metadata": {},
   "outputs": [
    {
     "name": "stdout",
     "output_type": "stream",
     "text": [
      "<katana_enterprise.remote.sync_wrappers.Client object at 0x7fe9fc6b8610>\n"
     ]
    }
   ],
   "source": [
    "\n",
    "from katana import remote\n",
    "from katana.remote import import_data\n",
    "\n",
    "my_client = remote.Client()\n",
    "\n",
    "print(my_client)\n"
   ]
  },
  {
   "cell_type": "code",
   "execution_count": 3,
   "id": "97571016-7c02-4e90-a75a-136a0dacd35f",
   "metadata": {},
   "outputs": [
    {
     "name": "stdout",
     "output_type": "stream",
     "text": [
      "--\n"
     ]
    }
   ],
   "source": [
    "\n",
    "NUM_PARTITIONS  = 3\n",
    "   #\n",
    "DB_NAME         = \"my_db\"\n",
    "GRAPH_NAME      = \"my_graph\"\n",
    "\n",
    "print(\"--\")\n"
   ]
  },
  {
   "cell_type": "code",
   "execution_count": 4,
   "id": "8ed2d715-aaeb-4381-9216-46fa0dd421b6",
   "metadata": {},
   "outputs": [
    {
     "name": "stdout",
     "output_type": "stream",
     "text": [
      "--\n"
     ]
    }
   ],
   "source": [
    "\n",
    "#  DELETE ALL GRAPHS\n",
    "\n",
    "for l_database in my_client.databases():\n",
    "   for l_graph in my_client.get_database(name=l_database.name).graphs_in_database():\n",
    "      l_handle=my_client.get_database(name=l_database.name).get_graph_by_id(id=l_graph.graph_id)\n",
    "      l_handle.delete()\n",
    "\n",
    "for l_graph in my_client.graphs():\n",
    "   print(\"GRAPH ID: \", l_graph.graph_id, \"      GRAPH Version: \", l_graph.version)\n",
    "\n",
    "print(\"--\")\n"
   ]
  },
  {
   "cell_type": "code",
   "execution_count": 5,
   "id": "cf9c16ec-913f-46a8-bccc-76fc92c54866",
   "metadata": {},
   "outputs": [
    {
     "name": "stdout",
     "output_type": "stream",
     "text": [
      "--\n",
      "DB ID:  Gi6YBuTAGpEeZYvCjPfWWABD3seX7d1xMUW49KNkpzVz      DB Name:  default\n"
     ]
    }
   ],
   "source": [
    "\n",
    "#  DELETE ALL DATABASES\n",
    "\n",
    "for l_database in my_client.databases():\n",
    "   if (l_database.name != \"default\"):\n",
    "      my_client.get_database(name=l_database.name).delete_database()\n",
    "      print(\"--\")\n",
    "\n",
    "for l_database in my_client.databases():\n",
    "   print(\"DB ID: \", l_database.database_id, \"     DB Name: \", l_database.name)\n"
   ]
  },
  {
   "cell_type": "code",
   "execution_count": 6,
   "id": "6e72729c-265b-40e4-a3ee-674b793bed81",
   "metadata": {},
   "outputs": [
    {
     "name": "stdout",
     "output_type": "stream",
     "text": [
      "952AnGfgeGMsnkrFNqjHgeFFkwYkoCzEyU7EU2LNerGr\n"
     ]
    }
   ],
   "source": [
    "\n",
    "#  CREATE DATABASE\n",
    "\n",
    "my_database = my_client.create_database(name=DB_NAME)\n",
    "\n",
    "print(my_database.database_id)\n"
   ]
  },
  {
   "cell_type": "code",
   "execution_count": 7,
   "id": "2fc31da4-44c3-4bd3-b160-b315766dcd88",
   "metadata": {},
   "outputs": [
    {
     "name": "stdout",
     "output_type": "stream",
     "text": [
      "<_Graph my_graph, HU9aW6RqfX3mo8E5SRtmGZc2P6B4Anxok5GVaHDxwVie, 0>\n"
     ]
    }
   ],
   "source": [
    "\n",
    "#  CREATE GRAPH\n",
    "#\n",
    "my_graph = my_client.get_database(name=DB_NAME).create_graph(name=GRAPH_NAME, num_partitions=2)\n",
    "\n",
    "print(my_graph)\n"
   ]
  },
  {
   "cell_type": "code",
   "execution_count": 8,
   "id": "c5db6505-7fc8-4779-b194-9ed8945b9a90",
   "metadata": {},
   "outputs": [
    {
     "name": "stdout",
     "output_type": "stream",
     "text": [
      "<_Graph my_graph, HU9aW6RqfX3mo8E5SRtmGZc2P6B4Anxok5GVaHDxwVie, 0>\n"
     ]
    }
   ],
   "source": [
    "\n",
    "#  CONNECT TO GRAPH\n",
    "\n",
    "my_graph, *_ = my_client.get_database(name=DB_NAME).find_graphs_by_name(GRAPH_NAME)\n",
    "\n",
    "print(my_graph)\n"
   ]
  },
  {
   "cell_type": "markdown",
   "id": "61556ce5-9044-42bc-bb13-80b6a514ae27",
   "metadata": {
    "tags": []
   },
   "source": [
    "# Create the vertices/nodes, edges ..\n"
   ]
  },
  {
   "cell_type": "code",
   "execution_count": null,
   "id": "f7efb47b-3c7d-45f3-acc8-ae29c3e2a1bf",
   "metadata": {},
   "outputs": [],
   "source": [
    "import pandas as pd\n",
    "\n",
    "print(\"--\")"
   ]
  },
  {
   "cell_type": "code",
   "execution_count": null,
   "id": "8e7ecf31-d69e-4b5a-8a37-0cfb4c32fd33",
   "metadata": {},
   "outputs": [],
   "source": [
    "\n",
    "#  We use a larger data set than analytics.sssp()\n",
    "\n",
    "df_airports = pd.DataFrame([\n",
    "   # [\"MKE\", \"Milwaukee\"               ,\"Airport\"],\n",
    "   # [\"ORD\", \"Chicago O-Hare\"          ,\"Airport\"],\n",
    "   # [\"SJC\", \"San Jose\"                ,\"Airport\"],\n",
    "   [\"DEN\", \"Denver\"                  ,\"Airport\"],\n",
    "      #\n",
    "   # [\"MSP\", \"Minneapolis, St.Paul\"    ,\"Airport\"],\n",
    "   # [\"MSN\", \"Madison\"                 ,\"Airport\"],\n",
    "   # [\"GRB\", \"Green Bay\"               ,\"Airport\"],\n",
    "      #\n",
    "   [\"EGE\", \"Eagle, Vail\"             ,\"Airport\"],\n",
    "   # [\"COS\", \"Colorado Springs\"        ,\"Airport\"],\n",
    "   # [\"PUB\", \"Pueblo\"                  ,\"Airport\"],\n",
    "   # [\"ASE\", \"Aspen\"                   ,\"Airport\"],\n",
    "   [\"FNL\", \"Fort Collins, Loveland\"  ,\"Airport\"],\n",
    "      #\n",
    "   ], columns = [\"airport_code\", \"airport_name\", \"LABEL\"])\n",
    "\n",
    "df_airports.head(20)\n"
   ]
  },
  {
   "cell_type": "code",
   "execution_count": null,
   "id": "cf9744e3-20e5-430f-88eb-b77a0c6725d7",
   "metadata": {},
   "outputs": [],
   "source": [
    "#  Create nodes, airports\n",
    "\n",
    "\n",
    "import contextlib\n",
    "\n",
    "for l_each in df_airports.iterrows():\n",
    "    \n",
    "   l_airport_code = l_each[1][0]\n",
    "   l_airport_name = l_each[1][1]\n",
    "   l_label        = l_each[1][2]\n",
    "    \n",
    "   l_query = \"\"\"\n",
    "\n",
    "      CREATE ( n: {2} {{ airport_code: '{0}' }} ) \n",
    "      SET n.airport_name = '{1}' \n",
    "   \n",
    "      \"\"\".format(l_airport_code, l_airport_name, l_label)\n",
    "         \n",
    "    \n",
    "   l_result0 = my_graph.query(l_query)\n",
    "        \n",
    "   # print(\".\", end='')\n",
    "\n",
    "\n",
    "print(\"  \")\n",
    "print(\"--\")\n"
   ]
  },
  {
   "cell_type": "code",
   "execution_count": null,
   "id": "4850ba7c-2314-44be-972e-51ef90f2cb71",
   "metadata": {},
   "outputs": [],
   "source": [
    "#  What's in the vertices/nodes ..\n",
    "\n",
    "l_result = my_graph.query(\"\"\"\n",
    "   MATCH ( n ) \n",
    "   RETURN n\n",
    "   \"\"\")\n",
    "print(l_result[0:30])\n"
   ]
  },
  {
   "cell_type": "code",
   "execution_count": null,
   "id": "2dddbd43-1fd0-40ee-ba93-b67b08662093",
   "metadata": {},
   "outputs": [],
   "source": [
    "#  Delete all edges, nodes for test reset\n",
    "\n",
    "l_result = my_graph.query(\"\"\"\n",
    "   MATCH (n) - [r] -> (m)\n",
    "   RETURN count(r)\n",
    "   \"\"\")\n",
    "display(print(l_result))\n",
    "\n",
    "l_result = my_graph.query(\"\"\"\n",
    "   MATCH (n)\n",
    "   RETURN count(n)\n",
    "   \"\"\")\n",
    "display(print(l_result))\n",
    "\n",
    "l_result = my_graph.query(\"\"\"\n",
    "   MATCH (n) - [r] -> (m)\n",
    "   DELETE r\n",
    "   \"\"\")\n",
    "display(print(l_result))\n",
    "\n",
    "l_result = my_graph.query(\"\"\"\n",
    "   MATCH (n)\n",
    "   DELETE n\n",
    "   \"\"\")\n",
    "display(print(l_result))\n",
    "\n",
    "l_result = my_graph.query(\"\"\"\n",
    "   MATCH (n) - [r] -> (m)\n",
    "   RETURN count(r)\n",
    "   \"\"\")\n",
    "display(print(l_result))\n",
    "\n",
    "l_result = my_graph.query(\"\"\"\n",
    "   MATCH (n)\n",
    "   RETURN count(n)\n",
    "   \"\"\")\n",
    "display(print(l_result))\n"
   ]
  },
  {
   "cell_type": "code",
   "execution_count": null,
   "id": "cb3dada9-abbc-4ad5-aa77-6dc23482423f",
   "metadata": {},
   "outputs": [],
   "source": [
    "# ##################################################################"
   ]
  },
  {
   "cell_type": "code",
   "execution_count": null,
   "id": "60eaac88-4dd5-47d3-94b3-0f5fd0b243f2",
   "metadata": {},
   "outputs": [],
   "source": [
    "#  Create the edge, flights ..\n",
    "\n",
    "df_flights = pd.DataFrame([\n",
    "   # [\"MKE\", \"ORD\",   66, 1, \"FLIES_TO\"],\n",
    "   # [\"ORD\", \"MKE\",   66, 1, \"FLIES_TO\"],\n",
    "      #\n",
    "   # [\"ORD\", \"DEN\",  886, 1, \"FLIES_TO\"],\n",
    "   # [\"DEN\", \"ORD\",  886, 1, \"FLIES_TO\"],\n",
    "      #\n",
    "   # [\"SJC\", \"DEN\",  948, 1, \"FLIES_TO\"],                           #  Notice SJC flies to/from Denver\n",
    "   # [\"DEN\", \"SJC\",  948, 1, \"FLIES_TO\"],\n",
    "      #\n",
    "   # [\"SJC\", \"ORD\", 1829, 1, \"FLIES_TO\"],                           #  Notice SJC flies to ORD, but not ORD to SJC\n",
    "      #\n",
    "      #\n",
    "   # [\"MSN\", \"ORD\",  135, 1, \"FLIES_TO\"],                           #  ORD <-->  MSN, MSP, GRB\n",
    "   # [\"ORD\", \"MSN\",  135, 1, \"FLIES_TO\"],\n",
    "   # [\"MSP\", \"ORD\",  334, 1, \"FLIES_TO\"],\n",
    "   # [\"ORD\", \"MSP\",  334, 1, \"FLIES_TO\"],\n",
    "   # [\"GRB\", \"ORD\",  196, 1, \"FLIES_TO\"],\n",
    "   # [\"ORD\", \"GRB\",  196, 1, \"FLIES_TO\"],\n",
    "      #\n",
    "   [\"EGE\", \"DEN\",  155, 1, \"FLIES_TO\"],                           #  DEN <-->  EGE, COS, PUB, ASE, FNL\n",
    "   [\"DEN\", \"EGE\",  155, 1, \"FLIES_TO\"],\n",
    "   # [\"COS\", \"DEN\",   95, 1, \"FLIES_TO\"],\n",
    "   # [\"DEN\", \"COS\",   95, 1, \"FLIES_TO\"],\n",
    "   # [\"PUB\", \"DEN\",  133, 1, \"FLIES_TO\"],\n",
    "   # [\"DEN\", \"PUB\",  133, 1, \"FLIES_TO\"],\n",
    "   # [\"ASE\", \"DEN\",  125, 1, \"FLIES_TO\"],\n",
    "   # [\"DEN\", \"ASE\",  125, 1, \"FLIES_TO\"],\n",
    "   [\"FNL\", \"DEN\",   58, 1, \"BUSES_TO\"],\n",
    "   [\"DEN\", \"FNL\",   58, 1, \"BUSES_TO\"],\n",
    "      #\n",
    "   ], columns = [\"START_ID\", \"END_ID\", \"DISTANCE\", \"NUM_HOPS\", \"TYPE\"])\n",
    "\n",
    "df_flights.head(30)\n"
   ]
  },
  {
   "cell_type": "code",
   "execution_count": null,
   "id": "7dc52e1a-e51e-4610-b9aa-8af39689000e",
   "metadata": {},
   "outputs": [],
   "source": [
    "\n",
    "for l_each in df_flights.iterrows():\n",
    "    \n",
    "   l_startid    = l_each[1][0]\n",
    "   l_endid      = l_each[1][1]\n",
    "   l_distance   = l_each[1][2]\n",
    "   l_num_hops   = l_each[1][3]\n",
    "   l_type       = l_each[1][4]\n",
    "    \n",
    "   l_query = \"\"\"\n",
    "   \n",
    "      MATCH\n",
    "         (n: Airport),\n",
    "         (m: Airport)\n",
    "      WHERE n.airport_code = '{0}'\n",
    "      AND   m.airport_code = '{1}'\n",
    "      CREATE (n) -[r: {4} {{ DISTANCE: {2}, NUM_HOPS: {3} }}]-> (m)\n",
    "\n",
    "      \"\"\".format(l_startid, l_endid, l_distance, l_num_hops, l_type)\n",
    "    \n",
    "   l_result0 = my_graph.query(l_query)\n",
    "        \n",
    "   # print(\".\", end='')\n",
    "\n",
    "\n",
    "print(\"  \")\n",
    "print(\"--\")\n"
   ]
  },
  {
   "cell_type": "code",
   "execution_count": null,
   "id": "6160bd57-15aa-4ff0-9269-9431e6f7dd2b",
   "metadata": {},
   "outputs": [],
   "source": [
    "#  What's in the edge .. \n",
    "\n",
    "l_result = my_graph.query(\"\"\"\n",
    "\n",
    "   MATCH ( n )  - [r] ->  (m)\n",
    "   RETURN  n.airport_code AS FROM, m.airport_code AS TO, r.DISTANCE AS DISTANCE, r.NUM_HOPS AS NUM_HOPS\n",
    "   \n",
    "   \"\"\")\n",
    "print(l_result[0:30])\n",
    "\n",
    "\n",
    "#  Cool error,  (Future investigation)\n",
    "#\n",
    "#  OperationError: query 7gWTPQVzbyQAppfqipc3mfvn24uDxFmdWhhUwcYKsscr-5mvU4Dju6SVQ6kYxt error: \n",
    "#  (../../libquery/src/QueryClient.cpp:394): backtrace: (../../libquery/src/OpGraph.cpp:202):\n",
    "#  failed to parse query: failed to parse query near    MATCH  [r: FLIES_TO] : Invalid input\n",
    "#  '[': expected an identifier, shortestPath, allShortestPaths or '(' (CypherParser.cpp:100)\n",
    "\n"
   ]
  }
 ],
 "metadata": {
  "kernelspec": {
   "display_name": "Python 3 (ipykernel)",
   "language": "python",
   "name": "python3"
  },
  "language_info": {
   "codemirror_mode": {
    "name": "ipython",
    "version": 3
   },
   "file_extension": ".py",
   "mimetype": "text/x-python",
   "name": "python",
   "nbconvert_exporter": "python",
   "pygments_lexer": "ipython3",
   "version": "3.8.13"
  }
 },
 "nbformat": 4,
 "nbformat_minor": 5
}
