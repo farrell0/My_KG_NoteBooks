{
 "cells": [
  {
   "cell_type": "markdown",
   "id": "d3ebe820-bc6d-4948-b668-8b81cd3cbf29",
   "metadata": {
    "tags": []
   },
   "source": [
    "#  Setup stuff: Connectivity"
   ]
  },
  {
   "cell_type": "code",
   "execution_count": null,
   "id": "1ea957d6-30c6-427a-ae4e-15ecfba0c4f9",
   "metadata": {},
   "outputs": [],
   "source": [
    "#  This file also includes;  at_version()\n",
    "\n",
    "\n",
    "import os\n",
    "\n",
    "from katana import remote\n",
    "from katana.remote import import_data\n",
    "\n",
    "\n",
    "os.environ[\"KATANA_SERVER_ADDRESS\"] = \"localhost:8080\"\n",
    "\n",
    "my_client = remote.Client()\n",
    "\n",
    "print(my_client)"
   ]
  },
  {
   "cell_type": "code",
   "execution_count": null,
   "id": "97571016-7c02-4e90-a75a-136a0dacd35f",
   "metadata": {},
   "outputs": [],
   "source": [
    "DB_NAME    = \"my_db\"\n",
    "GRAPH_NAME = \"my_graph\"\n",
    "\n",
    "print(\"--\")"
   ]
  },
  {
   "cell_type": "code",
   "execution_count": null,
   "id": "8ed2d715-aaeb-4381-9216-46fa0dd421b6",
   "metadata": {},
   "outputs": [],
   "source": [
    "#  DELETE ALL GRAPHS\n",
    "\n",
    "for l_database in my_client.databases():\n",
    "   for l_graph in my_client.get_database(name=l_database.name).graphs_in_database():\n",
    "      l_handle=my_client.get_database(name=l_database.name).get_graph_by_id(id=l_graph.graph_id)\n",
    "      l_handle.delete()\n",
    "\n",
    "for l_graph in my_client.graphs():\n",
    "   print(\"GRAPH ID: \", l_graph.graph_id, \"      GRAPH Version: \", l_graph.version)\n",
    "\n",
    "print(\"--\")"
   ]
  },
  {
   "cell_type": "code",
   "execution_count": null,
   "id": "cf9c16ec-913f-46a8-bccc-76fc92c54866",
   "metadata": {},
   "outputs": [],
   "source": [
    "#  DELETE ALL DATABASES\n",
    "\n",
    "for l_database in my_client.databases():\n",
    "   if (l_database.name != \"default\"):\n",
    "      my_client.get_database(name=l_database.name).delete_database()\n",
    "      print(\"--\")\n",
    "\n",
    "for l_database in my_client.databases():\n",
    "   print(\"DB ID: \", l_database.database_id, \"     DB Name: \", l_database.name)"
   ]
  },
  {
   "cell_type": "code",
   "execution_count": null,
   "id": "6e72729c-265b-40e4-a3ee-674b793bed81",
   "metadata": {},
   "outputs": [],
   "source": [
    "#  CREATE DATABASE\n",
    "\n",
    "my_database = my_client.create_database(name=DB_NAME)\n",
    "\n",
    "print(my_database.database_id)"
   ]
  },
  {
   "cell_type": "code",
   "execution_count": null,
   "id": "2fc31da4-44c3-4bd3-b160-b315766dcd88",
   "metadata": {},
   "outputs": [],
   "source": [
    "#  CREATE GRAPH\n",
    "#\n",
    "my_graph = my_client.get_database(name=DB_NAME).create_graph(name=GRAPH_NAME, num_partitions=2)\n",
    "\n",
    "print(my_graph)"
   ]
  },
  {
   "cell_type": "code",
   "execution_count": null,
   "id": "c5db6505-7fc8-4779-b194-9ed8945b9a90",
   "metadata": {},
   "outputs": [],
   "source": [
    "#  CONNECT TO GRAPH\n",
    "\n",
    "for l_graph in my_client.get_database(name=DB_NAME).graphs_in_database():\n",
    "   if (l_graph.name == GRAPH_NAME):\n",
    "      my_graph=my_client.get_database(name=DB_NAME).get_graph_by_id(id=l_graph.graph_id)\n",
    "         #\n",
    "      break\n",
    "\n",
    "print(my_graph)"
   ]
  },
  {
   "cell_type": "markdown",
   "id": "039f91b3-11dc-475e-a9a1-daed40a30b44",
   "metadata": {
    "tags": []
   },
   "source": [
    "#  Setup stuff: Debugging"
   ]
  },
  {
   "cell_type": "code",
   "execution_count": null,
   "id": "fe05e591-927a-456b-b973-7aceba0bea39",
   "metadata": {},
   "outputs": [],
   "source": [
    "#  LIST ALL GRAPHS\n",
    "\n",
    "for l_graph in my_client.graphs():\n",
    "   print(\"GRAPH ID: \", l_graph.graph_id, \"     DB GRAPH: \", l_graph.name, \"    GRAPH VERSION: \", l_graph.version)\n",
    "\n",
    "print(\"--\")\n"
   ]
  },
  {
   "cell_type": "code",
   "execution_count": null,
   "id": "ce3ecfbe-cca0-41dd-bb15-594f2d545365",
   "metadata": {},
   "outputs": [],
   "source": [
    "display(my_graph.num_nodes())\n",
    "display(my_graph.num_edges())"
   ]
  },
  {
   "cell_type": "code",
   "execution_count": null,
   "id": "99cf24d6-b486-441c-a02e-ff6a10c35e24",
   "metadata": {},
   "outputs": [],
   "source": [
    "# ##################################################################"
   ]
  },
  {
   "cell_type": "code",
   "execution_count": null,
   "id": "2398fed0-f874-4b55-b2a2-ee4c715e1b75",
   "metadata": {},
   "outputs": [],
   "source": [
    "#  Point to a prior version of our graph ..\n",
    "#\n",
    "#     Future, also later in time; add Client.transaction()\n",
    "\n",
    "l_version = 5\n",
    "\n",
    "my_graph2 = my_graph.at_version(l_version)\n",
    "\n",
    "print(\"--\")\n"
   ]
  },
  {
   "cell_type": "code",
   "execution_count": null,
   "id": "6d30a022-1d08-4f95-881b-2b77f7ad37ec",
   "metadata": {},
   "outputs": [],
   "source": [
    "if 'my_graph2' in globals():\n",
    "   display(my_graph2.num_nodes())\n",
    "   display(my_graph2.num_edges())\n",
    "else: \n",
    "   print(\"--\")\n"
   ]
  },
  {
   "cell_type": "code",
   "execution_count": null,
   "id": "6792c607-3ac1-4f8b-b1d3-4a4e194e26cb",
   "metadata": {},
   "outputs": [],
   "source": [
    "# ##################################################################"
   ]
  },
  {
   "cell_type": "code",
   "execution_count": null,
   "id": "ef619a08-7263-4bb3-9edd-34148f639ec5",
   "metadata": {},
   "outputs": [],
   "source": [
    "my_graph.query(\"CALL graph.schema() RETURN *\")\n"
   ]
  },
  {
   "cell_type": "code",
   "execution_count": null,
   "id": "71fb84ed-29d1-4e3b-ae1f-b2d009af96ff",
   "metadata": {},
   "outputs": [],
   "source": [
    "my_client.widgets().operations()\n"
   ]
  },
  {
   "cell_type": "code",
   "execution_count": null,
   "id": "62aeec66-bafe-4ef5-a6b4-b1657cf6106e",
   "metadata": {},
   "outputs": [],
   "source": [
    "# ##################################################################"
   ]
  },
  {
   "cell_type": "code",
   "execution_count": null,
   "id": "793186d1-d998-4662-b5f6-958a1a752892",
   "metadata": {},
   "outputs": [],
   "source": [
    "\n",
    "l_result = my_graph.query(\"\"\"\n",
    "\n",
    "   MATCH (n) - [ r ] -> (m)\n",
    "   RETURN n, m, r\n",
    "   \n",
    "   \"\"\", contextualize=True)\n",
    "\n",
    "l_result.view()\n"
   ]
  },
  {
   "cell_type": "markdown",
   "id": "61556ce5-9044-42bc-bb13-80b6a514ae27",
   "metadata": {
    "tags": []
   },
   "source": [
    "# Create: Vertices/nodes, edges .."
   ]
  },
  {
   "cell_type": "code",
   "execution_count": null,
   "id": "f7efb47b-3c7d-45f3-acc8-ae29c3e2a1bf",
   "metadata": {},
   "outputs": [],
   "source": [
    "import pandas as pd\n",
    "\n",
    "print(\"--\")"
   ]
  },
  {
   "cell_type": "code",
   "execution_count": null,
   "id": "8e7ecf31-d69e-4b5a-8a37-0cfb4c32fd33",
   "metadata": {},
   "outputs": [],
   "source": [
    "\n",
    "#  Vertices/Nodes, Airports ..\n",
    "\n",
    "df_airports = pd.DataFrame([\n",
    "       #\n",
    "   [\"MKE\", \"Milwaukee\"               , \"Airport\"],\n",
    "   [\"ORD\", \"Chicago O-Hare\"          , \"Airport\"],\n",
    "   [\"SJC\", \"San Jose\"                , \"Airport\"],\n",
    "   [\"DEN\", \"Denver\"                  , \"Airport\"],\n",
    "       #\n",
    "   ], columns = [\"airport_code\", \"airport_name\", \"LABEL\"])\n",
    "\n",
    "df_airports.head(20)\n"
   ]
  },
  {
   "cell_type": "code",
   "execution_count": null,
   "id": "cf9744e3-20e5-430f-88eb-b77a0c6725d7",
   "metadata": {},
   "outputs": [],
   "source": [
    "#  Create nodes, airports\n",
    "\n",
    "\n",
    "import contextlib\n",
    "\n",
    "for l_each in df_airports.iterrows():\n",
    "    \n",
    "   l_airport_code = l_each[1][0]\n",
    "   l_airport_name = l_each[1][1]\n",
    "   l_label        = l_each[1][2]\n",
    "    \n",
    "   l_query = \"\"\"\n",
    "\n",
    "      //  This creates data that works ..\n",
    "      //\n",
    "      //  Subsequent execution creates duplicate nodes  :(\n",
    "      //\n",
    "      CREATE ( n: {2} {{ airport_code: '{0}' }} )                  //  Notice double curly braces\n",
    "      SET n.airport_name = '{1}' \n",
    "      \n",
    "      //  This produces bad data, see next cell ..\n",
    "      //\n",
    "      // MERGE ( n: {2} {{ airport_code: '{0}' }})\n",
    "      // ON CREATE SET n.airport_name = '{1}'\n",
    "   \n",
    "      \"\"\".format(l_airport_code, l_airport_name, l_label)\n",
    "         \n",
    "    \n",
    "   #  Don't use, hangs kernel\n",
    "   #\n",
    "   # with open('/dev/null', 'w') as f:\n",
    "   #    with contextlib.redirect_stdout(f):\n",
    "   #       l_result0 = my_graph.query(l_query)\n",
    "\n",
    "   #  Didn't work ..\n",
    "   #\n",
    "   # with contextlib.redirect_stdout(None):\n",
    "   #    l_result0 = my_graph.query(l_query)\n",
    "\n",
    "   l_result0 = my_graph.query(l_query)\n",
    "        \n",
    "   print(\".\", end='')\n",
    "\n",
    "\n",
    "print(\"  \")\n",
    "print(\"--\")\n"
   ]
  },
  {
   "cell_type": "code",
   "execution_count": null,
   "id": "4850ba7c-2314-44be-972e-51ef90f2cb71",
   "metadata": {},
   "outputs": [],
   "source": [
    "#  What's in the vertices/nodes ..\n",
    "\n",
    "l_result = my_graph.query(\"\"\"\n",
    "   MATCH ( n ) \n",
    "   RETURN n\n",
    "   \"\"\")\n",
    "print(l_result[0:30])\n",
    "\n",
    "\n",
    "#  When using CREATE code above, this data is correct ..\n",
    "#\n",
    "#     n.internal_id   n.labels n.airport_code  n.airport_name n.type\n",
    "#  0              0  [Airport]            MKE       Milwaukee   node\n",
    "#  1              1  [Airport]            ORD  Chicago O-Hare   node\n",
    "#  2              2  [Airport]            SJC        San Jose   node\n",
    "#  3              3  [Airport]            DEN          Denver   node\n",
    "\n",
    "#  When using MERGE code above, this data is incorrect ..\n",
    "#\n",
    "#     n.internal_id   n.labels n.airport_code n.type n.airport_name\n",
    "#  0              0  [Airport]            SJC   node            NaN\n",
    "#  1              1  [Airport]            MKE   node      Milwaukee\n",
    "#  2              2  [Airport]            ORD   node       San Jose\n",
    "#  3              3  [Airport]            DEN   node         Denver\n",
    "\n"
   ]
  },
  {
   "cell_type": "code",
   "execution_count": null,
   "id": "2dddbd43-1fd0-40ee-ba93-b67b08662093",
   "metadata": {},
   "outputs": [],
   "source": [
    "#  Delete all edges, nodes for test reset\n",
    "\n",
    "l_result = my_graph.query(\"\"\"\n",
    "   MATCH (n) - [r] -> (m)\n",
    "   RETURN count(r)\n",
    "   \"\"\")\n",
    "display(print(l_result))\n",
    "\n",
    "l_result = my_graph.query(\"\"\"\n",
    "   MATCH (n)\n",
    "   RETURN count(n)\n",
    "   \"\"\")\n",
    "display(print(l_result))\n",
    "\n",
    "l_result = my_graph.query(\"\"\"\n",
    "   MATCH (n) - [r] -> (m)\n",
    "   DELETE r\n",
    "   \"\"\")\n",
    "display(print(l_result))\n",
    "\n",
    "l_result = my_graph.query(\"\"\"\n",
    "   MATCH (n)\n",
    "   DELETE n\n",
    "   \"\"\")\n",
    "display(print(l_result))\n",
    "\n",
    "l_result = my_graph.query(\"\"\"\n",
    "   MATCH (n) - [r] -> (m)\n",
    "   RETURN count(r)\n",
    "   \"\"\")\n",
    "display(print(l_result))\n",
    "\n",
    "l_result = my_graph.query(\"\"\"\n",
    "   MATCH (n)\n",
    "   RETURN count(n)\n",
    "   \"\"\")\n",
    "display(print(l_result))\n"
   ]
  },
  {
   "cell_type": "markdown",
   "id": "73ae751f-1bb8-46d5-9683-f64014c3ec33",
   "metadata": {},
   "source": [
    "# ##################################################################"
   ]
  },
  {
   "cell_type": "code",
   "execution_count": null,
   "id": "60eaac88-4dd5-47d3-94b3-0f5fd0b243f2",
   "metadata": {},
   "outputs": [],
   "source": [
    "#  Create the edge, flights ..\n",
    "\n",
    "df_flights = pd.DataFrame([\n",
    "      #\n",
    "   [\"MKE\", \"ORD\",   66, 1, \"FLIES_TO\" ],\n",
    "   [\"ORD\", \"MKE\",   66, 1, \"FLIES_TO\" ],\n",
    "      #\n",
    "   [\"ORD\", \"DEN\",  886, 1, \"FLIES_TO\" ],\n",
    "   [\"DEN\", \"ORD\",  886, 1, \"FLIES_TO\" ],\n",
    "      #\n",
    "   [\"SJC\", \"DEN\",  948, 1, \"FLIES_TO\" ],                           #  Notice SJC flies to/from Denver\n",
    "   [\"DEN\", \"SJC\",  948, 1, \"FLIES_TO\" ],\n",
    "      #\n",
    "   [\"SJC\", \"ORD\", 1829, 1, \"FLIES_TO\" ],                           #  Notice SJC flies to ORD, but not ORD to SJC\n",
    "      #\n",
    "   ], columns = [\"START_ID\", \"END_ID\", \"DISTANCE\", \"NUM_HOPS\", \"TYPE\"])\n",
    "\n",
    "df_flights.head(30)\n"
   ]
  },
  {
   "cell_type": "code",
   "execution_count": null,
   "id": "7dc52e1a-e51e-4610-b9aa-8af39689000e",
   "metadata": {},
   "outputs": [],
   "source": [
    "\n",
    "for l_each in df_flights.iterrows():\n",
    "    \n",
    "   l_startid    = l_each[1][0]\n",
    "   l_endid      = l_each[1][1]\n",
    "   l_distance   = l_each[1][2]\n",
    "   l_num_hops   = l_each[1][3]\n",
    "   l_type       = l_each[1][4]\n",
    "    \n",
    "   l_query = \"\"\"\n",
    "      \n",
    "      MATCH\n",
    "         (n: Airport),\n",
    "         (m: Airport)\n",
    "      WHERE n.airport_code = '{0}'\n",
    "      AND   m.airport_code = '{1}'\n",
    "      CREATE (n) -[r: {4} {{ DISTANCE: {2}, NUM_HOPS: {3} }}]-> (m)\n",
    "      \n",
    "      // MATCH\n",
    "      //    (n: Airport),\n",
    "      //    (m: Airport)\n",
    "      // WHERE n.airport_code = '{0}'\n",
    "      // AND   m.airport_code = '{1}'\n",
    "      // CREATE (n) -[r: {4} {{ DISTANCE: {2}, NUM_HOPS: {3} }}]-> (m)\n",
    "      // RETURN type(r)\n",
    "      //\n",
    "      //  Using edge variables after CREATE/UPDATE/DELETE/REMOVE is not supported\n",
    "\n",
    "      // MATCH (n: Airport ) WHERE n.airport_code = '{0}'\n",
    "      // MATCH (m: Airport ) WHERE m.airport_code = '{1}'\n",
    "      // CREATE (n) -[r: {4} {{ DISTANCE: {2}, NUM_HOPS: {3} }}]-> (m)\n",
    "\n",
    "      \"\"\".format(l_startid, l_endid, l_distance, l_num_hops, l_type)\n",
    "    \n",
    "   l_result0 = my_graph.query(l_query)\n",
    "        \n",
    "   print(\".\", end='')     \n",
    "      \n",
    "\n",
    "print(\"  \")\n",
    "print(\"--\")\n"
   ]
  },
  {
   "cell_type": "code",
   "execution_count": null,
   "id": "6160bd57-15aa-4ff0-9269-9431e6f7dd2b",
   "metadata": {},
   "outputs": [],
   "source": [
    "#  What's in the edge .. \n",
    "\n",
    "l_result = my_graph.query(\"\"\"\n",
    "   MATCH ( n )  - [r] ->  (m)\n",
    "   RETURN n.airport_code AS FROM, m.airport_code AS TO, r.DISTANCE AS DISTANCE, r.NUM_HOPS AS NUM_HOPS\n",
    "   \"\"\")\n",
    "print(l_result[0:30])\n"
   ]
  },
  {
   "cell_type": "markdown",
   "id": "74397041-48bf-4867-b304-235764e64e64",
   "metadata": {
    "tags": []
   },
   "source": [
    "#  Administration/testing stuff .."
   ]
  },
  {
   "cell_type": "code",
   "execution_count": null,
   "id": "b264e8ea-69b7-4f41-baf8-c5e04ddadbad",
   "metadata": {},
   "outputs": [],
   "source": [
    "#  Save current graph as an RDG ..\n",
    "\n",
    "from katana.remote import export_data\n",
    "\n",
    "l_graph_path = \"gs://farrell-data-bucket/sssp/farrell-sssp\"\n",
    "\n",
    "export_data.rdg(my_graph, l_graph_path)\n",
    "\n",
    "print(\"--\")\n",
    "\n"
   ]
  },
  {
   "cell_type": "code",
   "execution_count": null,
   "id": "7c73128e-715c-4811-afd0-33e6932a55f0",
   "metadata": {},
   "outputs": [],
   "source": [
    "#  Load from RDG ..\n",
    "#     Have an empty graph created already ..\n",
    "\n",
    "from katana.remote import import_data\n",
    "\n",
    "\n",
    "l_graph_path = \"gs://farrell-data-bucket/sssp/farrell-sssp\"\n",
    "# l_graph_path = \"gs://katana-demo-datasets/rdg-datasets/v3/rmat10_symmetric\"\n",
    "\n",
    "\n",
    "import_data.rdg(my_graph, l_graph_path)\n",
    "\n",
    "print(\"--\")\n"
   ]
  },
  {
   "cell_type": "code",
   "execution_count": null,
   "id": "dac0f08a-b4b0-473f-ae49-faebe9450228",
   "metadata": {},
   "outputs": [],
   "source": [
    "#  Load from CSV ..\n",
    "#     Have an empty graph created already ..\n",
    "#\n",
    "#  **  This is a small subset of the data set created in other places ..\n",
    "\n",
    "from katana.remote import import_data\n",
    "\n",
    "l_inp=\"gs://farrell-data-bucket/sssp/AC_AirportsHeader.txt\"\n",
    "l_enp=\"gs://farrell-data-bucket/sssp/AD_FlightsHeader.txt\"\n",
    "   #\n",
    "l_dir=\"gs://farrell-data-bucket/sssp/\"\n",
    "\n",
    "import_data.csv(\n",
    "   my_graph,\n",
    "   input_node_path    = l_inp,\n",
    "   input_edge_path    = l_enp,\n",
    "   input_dir          = l_dir,\n",
    "   data_delimiter     = \"|\",\n",
    "   schema_delimiter   = \"|\",\n",
    "   files_have_headers = True,\n",
    "   # partition_policy = \"random-oec\"\n",
    "   )\n",
    "\n",
    "print(\"--\")\n"
   ]
  }
 ],
 "metadata": {
  "kernelspec": {
   "display_name": "Python 3 (ipykernel)",
   "language": "python",
   "name": "python3"
  },
  "language_info": {
   "codemirror_mode": {
    "name": "ipython",
    "version": 3
   },
   "file_extension": ".py",
   "mimetype": "text/x-python",
   "name": "python",
   "nbconvert_exporter": "python",
   "pygments_lexer": "ipython3",
   "version": "3.8.13"
  }
 },
 "nbformat": 4,
 "nbformat_minor": 5
}
