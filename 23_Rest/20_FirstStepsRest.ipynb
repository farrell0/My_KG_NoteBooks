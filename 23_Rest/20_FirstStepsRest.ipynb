{
 "cells": [
  {
   "cell_type": "code",
   "execution_count": null,
   "id": "cc191ec3-e92a-4f47-889d-f2d9b39b4a8d",
   "metadata": {},
   "outputs": [],
   "source": [
    "\n",
    "import pandas as pd\n",
    "   #\n",
    "pd.set_option(\"display.width\", 480)\n",
    "\n",
    "#  Sets horizontal scroll for wide outputs\n",
    "#\n",
    "from IPython.display import display, HTML\n",
    "display(HTML(\"\"))\n",
    "\n",
    "from tabulate import tabulate\n",
    "\n",
    "print(\"--\")\n"
   ]
  },
  {
   "cell_type": "markdown",
   "id": "3d3b26ae-2e0a-4f91-8ad4-0b7927dc331a",
   "metadata": {},
   "source": [
    "#  Setup .."
   ]
  },
  {
   "cell_type": "code",
   "execution_count": null,
   "id": "02f99d23-0165-4f9a-b9a0-24944ac812b3",
   "metadata": {},
   "outputs": [],
   "source": [
    "\n",
    "from katana import remote\n",
    "\n",
    "my_client = remote.Client()\n",
    "\n",
    "print(my_client)\n"
   ]
  },
  {
   "cell_type": "code",
   "execution_count": null,
   "id": "21c0442e-9636-4148-aa6f-87f70aeabf7c",
   "metadata": {},
   "outputs": [],
   "source": [
    "\n",
    "NUM_PARTITIONS  = 3\n",
    "   #\n",
    "DB_NAME         = \"my_db\"\n",
    "GRAPH_NAME      = \"my_graph\"\n",
    "\n",
    "print(\"--\")\n"
   ]
  },
  {
   "cell_type": "code",
   "execution_count": null,
   "id": "26cf7ad3-6ebd-4720-ad64-a0e3d58d1f49",
   "metadata": {},
   "outputs": [],
   "source": [
    "\n",
    "#  CONNECT TO GRAPH\n",
    "\n",
    "my_graph, *_ = my_client.get_database(name=DB_NAME).find_graphs_by_name(GRAPH_NAME)\n",
    "\n",
    "print(my_graph)\n"
   ]
  },
  {
   "cell_type": "code",
   "execution_count": null,
   "id": "8dbc0110-7764-463d-a4d1-e6549b69a22e",
   "metadata": {},
   "outputs": [],
   "source": [
    "\n",
    "display(print(my_graph.num_nodes()))\n",
    "display(print(my_graph.num_edges()))\n"
   ]
  },
  {
   "cell_type": "code",
   "execution_count": null,
   "id": "5ca825f9-376a-4fd1-ad6c-2d7aeac52f8f",
   "metadata": {},
   "outputs": [],
   "source": [
    "\n",
    "#  What's in the vertices/nodes ..\n",
    "\n",
    "l_query  = \"\"\"\n",
    "   MATCH ( n ) \n",
    "   RETURN n\n",
    "   \"\"\".format()\n",
    "\n",
    "l_result = my_graph.query(l_query)\n",
    "\n",
    "print(tabulate(l_result, headers='keys', tablefmt='psql'))\n"
   ]
  },
  {
   "cell_type": "code",
   "execution_count": null,
   "id": "f04c4ef8-cc31-43e7-9f13-b8d8d75d087a",
   "metadata": {},
   "outputs": [],
   "source": [
    "\n",
    "#  What's in the edge .. \n",
    "\n",
    "l_query  = \"\"\"\n",
    "   MATCH (n) - [r] -> (m)\n",
    "   RETURN r \n",
    "   \"\"\".format()\n",
    "\n",
    "l_result = my_graph.query(l_query)\n",
    "\n",
    "print(tabulate(l_result, headers='keys', tablefmt='psql'))\n"
   ]
  },
  {
   "cell_type": "code",
   "execution_count": null,
   "id": "ef094556-cd62-45f1-80bb-89086be165b9",
   "metadata": {},
   "outputs": [],
   "source": [
    "\n",
    "l_query  = \"\"\"\n",
    "   MATCH (n) - [r] -> (m)\n",
    "   RETURN n, r, m\n",
    "   \"\"\".format()\n",
    "\n",
    "l_result = my_graph.query(l_query, contextualize=True)\n",
    "\n",
    "l_result.view()\n"
   ]
  },
  {
   "cell_type": "markdown",
   "id": "a7e31855-699d-4c91-a09b-30fe86aff819",
   "metadata": {},
   "source": [
    "# Actual REST .."
   ]
  },
  {
   "cell_type": "code",
   "execution_count": null,
   "id": "fab31ce3-a8a7-4242-bf2b-9db80e546aff",
   "metadata": {},
   "outputs": [],
   "source": [
    "\n",
    "#  This used to work from the Jupyter VM,\n",
    "#     curl localhost:8080/v2/version\n",
    "#\n",
    "#  Now, the above only works from the Controller, or if we\n",
    "#  target the controller\n",
    "\n",
    "\n",
    "# Boilerplate ..\n",
    "\n",
    "import http.client\n",
    "import json\n",
    "\n",
    "#  l_conn   = http.client.HTTPConnection(\"localhost\", 8080)\n",
    "l_conn   = http.client.HTTPConnection(\"10.0.0.65\", 8080)                           #  Cheat; look this up manually\n",
    "\n",
    "l_graphid = my_graph.graph_id\n",
    "   #\n",
    "print(\"Graph Id: \" + l_graphid)\n"
   ]
  },
  {
   "cell_type": "code",
   "execution_count": 13,
   "id": "0c877ed5-135e-4a97-bf42-ff36a0d80453",
   "metadata": {},
   "outputs": [
    {
     "ename": "CannotSendRequest",
     "evalue": "Request-sent",
     "output_type": "error",
     "traceback": [
      "\u001b[0;31m---------------------------------------------------------------------------\u001b[0m",
      "\u001b[0;31mCannotSendRequest\u001b[0m                         Traceback (most recent call last)",
      "Cell \u001b[0;32mIn [13], line 14\u001b[0m\n\u001b[1;32m      3\u001b[0m l_body   \u001b[38;5;241m=\u001b[39m json\u001b[38;5;241m.\u001b[39mdumps({\n\u001b[1;32m      4\u001b[0m   \u001b[38;5;124m\"\u001b[39m\u001b[38;5;124mCypher\u001b[39m\u001b[38;5;124m\"\u001b[39m: {\n\u001b[1;32m      5\u001b[0m     \u001b[38;5;124m\"\u001b[39m\u001b[38;5;124mquery\u001b[39m\u001b[38;5;124m\"\u001b[39m: \u001b[38;5;124m\"\u001b[39m\u001b[38;5;124mMATCH (n) RETURN n\u001b[39m\u001b[38;5;124m\"\u001b[39m,\n\u001b[1;32m      6\u001b[0m     \u001b[38;5;124m\"\u001b[39m\u001b[38;5;124moutput_type\u001b[39m\u001b[38;5;124m\"\u001b[39m: \u001b[38;5;124m\"\u001b[39m\u001b[38;5;124mJSON\u001b[39m\u001b[38;5;124m\"\u001b[39m\n\u001b[1;32m      7\u001b[0m   }\n\u001b[1;32m      8\u001b[0m })\n\u001b[1;32m      9\u001b[0m l_header \u001b[38;5;241m=\u001b[39m {\n\u001b[1;32m     10\u001b[0m   \u001b[38;5;124m'\u001b[39m\u001b[38;5;124mContent-Type\u001b[39m\u001b[38;5;124m'\u001b[39m: \u001b[38;5;124m'\u001b[39m\u001b[38;5;124mapplication/json\u001b[39m\u001b[38;5;124m'\u001b[39m\n\u001b[1;32m     11\u001b[0m }\n\u001b[0;32m---> 14\u001b[0m \u001b[43ml_conn\u001b[49m\u001b[38;5;241;43m.\u001b[39;49m\u001b[43mrequest\u001b[49m\u001b[43m(\u001b[49m\u001b[38;5;124;43m\"\u001b[39;49m\u001b[38;5;124;43mPOST\u001b[39;49m\u001b[38;5;124;43m\"\u001b[39;49m\u001b[43m,\u001b[49m\u001b[43m \u001b[49m\u001b[38;5;124;43m\"\u001b[39;49m\u001b[38;5;124;43m/v2/graph/\u001b[39;49m\u001b[38;5;124;43m\"\u001b[39;49m\u001b[43m \u001b[49m\u001b[38;5;241;43m+\u001b[39;49m\u001b[43m \u001b[49m\u001b[43ml_graphid\u001b[49m\u001b[43m \u001b[49m\u001b[38;5;241;43m+\u001b[39;49m\u001b[43m \u001b[49m\u001b[38;5;124;43m\"\u001b[39;49m\u001b[38;5;124;43m/run\u001b[39;49m\u001b[38;5;124;43m\"\u001b[39;49m\u001b[43m,\u001b[49m\u001b[43m \u001b[49m\u001b[43ml_body\u001b[49m\u001b[43m,\u001b[49m\u001b[43m \u001b[49m\u001b[43ml_header\u001b[49m\u001b[43m)\u001b[49m\n\u001b[1;32m     17\u001b[0m l_response   \u001b[38;5;241m=\u001b[39m l_conn\u001b[38;5;241m.\u001b[39mgetresponse()\n\u001b[1;32m     18\u001b[0m \u001b[38;5;66;03m#  l_data       = l_response.read()\u001b[39;00m\n\u001b[1;32m     19\u001b[0m \n\u001b[1;32m     20\u001b[0m    \u001b[38;5;66;03m# \u001b[39;00m\n\u001b[0;32m   (...)\u001b[0m\n\u001b[1;32m     27\u001b[0m \n\u001b[1;32m     28\u001b[0m \u001b[38;5;66;03m#  print(l_data)\u001b[39;00m\n",
      "File \u001b[0;32m/opt/conda/lib/python3.8/http/client.py:1256\u001b[0m, in \u001b[0;36mHTTPConnection.request\u001b[0;34m(self, method, url, body, headers, encode_chunked)\u001b[0m\n\u001b[1;32m   1253\u001b[0m \u001b[38;5;28;01mdef\u001b[39;00m \u001b[38;5;21mrequest\u001b[39m(\u001b[38;5;28mself\u001b[39m, method, url, body\u001b[38;5;241m=\u001b[39m\u001b[38;5;28;01mNone\u001b[39;00m, headers\u001b[38;5;241m=\u001b[39m{}, \u001b[38;5;241m*\u001b[39m,\n\u001b[1;32m   1254\u001b[0m             encode_chunked\u001b[38;5;241m=\u001b[39m\u001b[38;5;28;01mFalse\u001b[39;00m):\n\u001b[1;32m   1255\u001b[0m     \u001b[38;5;124;03m\"\"\"Send a complete request to the server.\"\"\"\u001b[39;00m\n\u001b[0;32m-> 1256\u001b[0m     \u001b[38;5;28;43mself\u001b[39;49m\u001b[38;5;241;43m.\u001b[39;49m\u001b[43m_send_request\u001b[49m\u001b[43m(\u001b[49m\u001b[43mmethod\u001b[49m\u001b[43m,\u001b[49m\u001b[43m \u001b[49m\u001b[43murl\u001b[49m\u001b[43m,\u001b[49m\u001b[43m \u001b[49m\u001b[43mbody\u001b[49m\u001b[43m,\u001b[49m\u001b[43m \u001b[49m\u001b[43mheaders\u001b[49m\u001b[43m,\u001b[49m\u001b[43m \u001b[49m\u001b[43mencode_chunked\u001b[49m\u001b[43m)\u001b[49m\n",
      "File \u001b[0;32m/opt/conda/lib/python3.8/http/client.py:1267\u001b[0m, in \u001b[0;36mHTTPConnection._send_request\u001b[0;34m(self, method, url, body, headers, encode_chunked)\u001b[0m\n\u001b[1;32m   1264\u001b[0m \u001b[38;5;28;01mif\u001b[39;00m \u001b[38;5;124m'\u001b[39m\u001b[38;5;124maccept-encoding\u001b[39m\u001b[38;5;124m'\u001b[39m \u001b[38;5;129;01min\u001b[39;00m header_names:\n\u001b[1;32m   1265\u001b[0m     skips[\u001b[38;5;124m'\u001b[39m\u001b[38;5;124mskip_accept_encoding\u001b[39m\u001b[38;5;124m'\u001b[39m] \u001b[38;5;241m=\u001b[39m \u001b[38;5;241m1\u001b[39m\n\u001b[0;32m-> 1267\u001b[0m \u001b[38;5;28;43mself\u001b[39;49m\u001b[38;5;241;43m.\u001b[39;49m\u001b[43mputrequest\u001b[49m\u001b[43m(\u001b[49m\u001b[43mmethod\u001b[49m\u001b[43m,\u001b[49m\u001b[43m \u001b[49m\u001b[43murl\u001b[49m\u001b[43m,\u001b[49m\u001b[43m \u001b[49m\u001b[38;5;241;43m*\u001b[39;49m\u001b[38;5;241;43m*\u001b[39;49m\u001b[43mskips\u001b[49m\u001b[43m)\u001b[49m\n\u001b[1;32m   1269\u001b[0m \u001b[38;5;66;03m# chunked encoding will happen if HTTP/1.1 is used and either\u001b[39;00m\n\u001b[1;32m   1270\u001b[0m \u001b[38;5;66;03m# the caller passes encode_chunked=True or the following\u001b[39;00m\n\u001b[1;32m   1271\u001b[0m \u001b[38;5;66;03m# conditions hold:\u001b[39;00m\n\u001b[1;32m   1272\u001b[0m \u001b[38;5;66;03m# 1. content-length has not been explicitly set\u001b[39;00m\n\u001b[1;32m   1273\u001b[0m \u001b[38;5;66;03m# 2. the body is a file or iterable, but not a str or bytes-like\u001b[39;00m\n\u001b[1;32m   1274\u001b[0m \u001b[38;5;66;03m# 3. Transfer-Encoding has NOT been explicitly set by the caller\u001b[39;00m\n\u001b[1;32m   1276\u001b[0m \u001b[38;5;28;01mif\u001b[39;00m \u001b[38;5;124m'\u001b[39m\u001b[38;5;124mcontent-length\u001b[39m\u001b[38;5;124m'\u001b[39m \u001b[38;5;129;01mnot\u001b[39;00m \u001b[38;5;129;01min\u001b[39;00m header_names:\n\u001b[1;32m   1277\u001b[0m     \u001b[38;5;66;03m# only chunk body if not explicitly set for backwards\u001b[39;00m\n\u001b[1;32m   1278\u001b[0m     \u001b[38;5;66;03m# compatibility, assuming the client code is already handling the\u001b[39;00m\n\u001b[1;32m   1279\u001b[0m     \u001b[38;5;66;03m# chunking\u001b[39;00m\n",
      "File \u001b[0;32m/opt/conda/lib/python3.8/http/client.py:1093\u001b[0m, in \u001b[0;36mHTTPConnection.putrequest\u001b[0;34m(self, method, url, skip_host, skip_accept_encoding)\u001b[0m\n\u001b[1;32m   1091\u001b[0m     \u001b[38;5;28mself\u001b[39m\u001b[38;5;241m.\u001b[39m__state \u001b[38;5;241m=\u001b[39m _CS_REQ_STARTED\n\u001b[1;32m   1092\u001b[0m \u001b[38;5;28;01melse\u001b[39;00m:\n\u001b[0;32m-> 1093\u001b[0m     \u001b[38;5;28;01mraise\u001b[39;00m CannotSendRequest(\u001b[38;5;28mself\u001b[39m\u001b[38;5;241m.\u001b[39m__state)\n\u001b[1;32m   1095\u001b[0m \u001b[38;5;28mself\u001b[39m\u001b[38;5;241m.\u001b[39m_validate_method(method)\n\u001b[1;32m   1097\u001b[0m \u001b[38;5;66;03m# Save the method for use later in the response phase\u001b[39;00m\n",
      "\u001b[0;31mCannotSendRequest\u001b[0m: Request-sent"
     ]
    }
   ],
   "source": [
    "\n",
    "#  Submit request ..\n",
    "\n",
    "l_body   = json.dumps({\n",
    "  \"Cypher\": {\n",
    "    \"query\": \"MATCH (n) RETURN n\",\n",
    "    \"output_type\": \"JSON\"\n",
    "  }\n",
    "})\n",
    "l_header = {\n",
    "  'Content-Type': 'application/json'\n",
    "}\n",
    "\n",
    "\n",
    "l_conn.request(\"POST\", \"/v2/graph/\" + l_graphid + \"/run\", l_body, l_header)\n",
    "\n",
    "\n",
    "l_response   = l_conn.getresponse()\n",
    "#  l_data       = l_response.read()\n",
    "\n",
    "   # \n",
    "\n",
    "#  l_data_dict  = json.loads((l_data.decode(\"utf-8\")))\n",
    "#  l_opid       = (l_data_dict[\"operation_id\"])\n",
    "\n",
    "#  print(l_opid)\n",
    "\n",
    "\n",
    "#  print(l_data)\n",
    "\n",
    "\n",
    "\n"
   ]
  },
  {
   "cell_type": "code",
   "execution_count": 12,
   "id": "c418f525-dd01-4be6-8cdb-db7cbe0765fc",
   "metadata": {},
   "outputs": [
    {
     "name": "stdout",
     "output_type": "stream",
     "text": [
      "b''\n"
     ]
    }
   ],
   "source": [
    "\n",
    "l_data       = l_response.read()\n",
    "\n",
    "\n",
    "print(l_data)\n",
    "\n"
   ]
  },
  {
   "cell_type": "code",
   "execution_count": 14,
   "id": "22336e25-3503-4a63-b522-25c0b5bfda34",
   "metadata": {},
   "outputs": [
    {
     "ename": "NameError",
     "evalue": "name 'l_opid' is not defined",
     "output_type": "error",
     "traceback": [
      "\u001b[0;31m---------------------------------------------------------------------------\u001b[0m",
      "\u001b[0;31mNameError\u001b[0m                                 Traceback (most recent call last)",
      "Cell \u001b[0;32mIn [14], line 3\u001b[0m\n\u001b[1;32m      1\u001b[0m \u001b[38;5;66;03m#  Get status ..\u001b[39;00m\n\u001b[0;32m----> 3\u001b[0m l_conn\u001b[38;5;241m.\u001b[39mrequest(\u001b[38;5;124m\"\u001b[39m\u001b[38;5;124mGET\u001b[39m\u001b[38;5;124m\"\u001b[39m, \u001b[38;5;124m\"\u001b[39m\u001b[38;5;124m/v2/operation/\u001b[39m\u001b[38;5;124m\"\u001b[39m \u001b[38;5;241m+\u001b[39m \u001b[43ml_opid\u001b[49m \u001b[38;5;241m+\u001b[39m \u001b[38;5;124m\"\u001b[39m\u001b[38;5;124m/status\u001b[39m\u001b[38;5;124m\"\u001b[39m)\n\u001b[1;32m      4\u001b[0m    \u001b[38;5;66;03m#\u001b[39;00m\n\u001b[1;32m      5\u001b[0m l_response   \u001b[38;5;241m=\u001b[39m l_conn\u001b[38;5;241m.\u001b[39mgetresponse()\n",
      "\u001b[0;31mNameError\u001b[0m: name 'l_opid' is not defined"
     ]
    }
   ],
   "source": [
    "\n",
    "#  Get status ..\n",
    "\n",
    "l_conn.request(\"GET\", \"/v2/operation/\" + l_opid + \"/status\")\n",
    "   #\n",
    "l_response   = l_conn.getresponse()\n",
    "l_data       = l_response.read()\n",
    "\n",
    "l_data_dict  = json.loads((l_data.decode(\"utf-8\")))\n",
    "\n",
    "print(l_data_dict[\"status\"])\n"
   ]
  },
  {
   "cell_type": "code",
   "execution_count": null,
   "id": "bc6bc346-0e73-4487-894b-c6c459ec3a61",
   "metadata": {},
   "outputs": [],
   "source": [
    "\n",
    "#  Get data ..\n",
    "\n",
    "l_conn.request(\"GET\", \"/v2/operation/\" + l_opid)\n",
    "   #\n",
    "l_response   = l_conn.getresponse()\n",
    "l_data       = l_response.read()\n",
    "\n",
    "l_data_dict  = json.loads((l_data.decode(\"utf-8\")))\n",
    "\n",
    "print(l_data_dict[\"result\"][\"rows\"])\n",
    "\n",
    "\n",
    "#  Full result ..\n",
    "#\n",
    "#  {\n",
    "#  'operation_id': '3mHuoyjZt74SicqWfzHfjxSSHGnD8fTVdCM3MZaVkpFF-R7s2MLsdnhhAzzvy',\n",
    "#  'status': 'Complete',\n",
    "#  'status_message': '', \n",
    "#  'status_modified_at': '2022-08-24T15:16:54.229182259Z', \n",
    "#  'operation': {\n",
    "#     'cypher': {'query': 'MATCH (n) RETURN n', 'parameters': None, 'output_type': 'JSON'}\n",
    "#      }, \n",
    "#  'result': {\n",
    "#     'column_types': ['struct<type: large_string, id: uint32, labels: large_list<item: large_string>, properties: struct<LABEL: large_string, airport_name: large_string, id: large_string>>'], \n",
    "#     'columns': ['n'], \n",
    "#     'num_rows': 4, \n",
    "#     'rows': [\n",
    "#         {'n': {'id': 0, 'labels': ['Airport'], 'properties': {'LABEL': 'Airport', 'airport_name': 'Milwaukee', 'id': 'MKE'}, 'type': 'node'}}, \n",
    "#         {'n': {'id': 2, 'labels': ['Airport'], 'properties': {'LABEL': 'Airport', 'airport_name': 'San Jose', 'id': 'SJC'}, 'type': 'node'}}, \n",
    "#         {'n': {'id': 3, 'labels': ['Airport'], 'properties': {'LABEL': 'Airport', 'airport_name': 'Denver', 'id': 'DEN'}, 'type': 'node'}}, \n",
    "#         {'n': {'id': 1, 'labels': ['Airport'], 'properties': {'LABEL': 'Airport', 'airport_name': 'Chicago O-Hare', 'id': 'ORD'}, 'type': 'node'}}\n",
    "#        ]}}\n"
   ]
  }
 ],
 "metadata": {
  "kernelspec": {
   "display_name": "Python 3 (ipykernel)",
   "language": "python",
   "name": "python3"
  },
  "language_info": {
   "codemirror_mode": {
    "name": "ipython",
    "version": 3
   },
   "file_extension": ".py",
   "mimetype": "text/x-python",
   "name": "python",
   "nbconvert_exporter": "python",
   "pygments_lexer": "ipython3",
   "version": "3.8.13"
  }
 },
 "nbformat": 4,
 "nbformat_minor": 5
}
