{
 "cells": [
  {
   "cell_type": "markdown",
   "id": "c54fd830-1317-4a52-b610-ef9716e5d744",
   "metadata": {
    "tags": []
   },
   "source": [
    "#  Setup: Display options"
   ]
  },
  {
   "cell_type": "code",
   "execution_count": 1,
   "id": "8a38ebd7-d1d9-47a8-955c-a8270b024543",
   "metadata": {},
   "outputs": [
    {
     "data": {
      "text/html": [],
      "text/plain": [
       "<IPython.core.display.HTML object>"
      ]
     },
     "metadata": {},
     "output_type": "display_data"
    },
    {
     "name": "stdout",
     "output_type": "stream",
     "text": [
      "--\n"
     ]
    }
   ],
   "source": [
    "\n",
    "#  Setting display options \n",
    "\n",
    "import pandas as pd\n",
    "   #\n",
    "pd.set_option(\"display.width\", 480)\n",
    "\n",
    "#  Sets horizontal scroll for wide outputs\n",
    "#\n",
    "from IPython.display import display, HTML\n",
    "display(HTML(\"\"))\n",
    "\n",
    "from tabulate import tabulate\n",
    "\n",
    "print(\"--\")\n"
   ]
  },
  {
   "cell_type": "markdown",
   "id": "3ab7ce90-67cf-462c-94a6-3c8c9d0754b3",
   "metadata": {},
   "source": [
    "# Setup: Connectivity"
   ]
  },
  {
   "cell_type": "code",
   "execution_count": 2,
   "id": "e87b75ba-c072-4111-8cca-4b4f394a0fce",
   "metadata": {},
   "outputs": [
    {
     "name": "stdout",
     "output_type": "stream",
     "text": [
      "<katana_enterprise.remote.sync_wrappers.Client object at 0x7f037463a9d0>\n"
     ]
    }
   ],
   "source": [
    "\n",
    "from katana import remote\n",
    "\n",
    "my_client = remote.Client()\n",
    "\n",
    "print(my_client)\n"
   ]
  },
  {
   "cell_type": "code",
   "execution_count": 3,
   "id": "d3a77f99-f11b-4105-ab43-17ce605b15e8",
   "metadata": {},
   "outputs": [
    {
     "name": "stdout",
     "output_type": "stream",
     "text": [
      "--\n"
     ]
    }
   ],
   "source": [
    "\n",
    "NUM_PARTITIONS  = 3\n",
    "   #\n",
    "DB_NAME         = \"my_db\"\n",
    "GRAPH_NAME      = \"my_graph\"\n",
    "\n",
    "print(\"--\")\n"
   ]
  },
  {
   "cell_type": "code",
   "execution_count": 4,
   "id": "7f2292b8-7df0-49a0-b3da-523f56cfe4f8",
   "metadata": {},
   "outputs": [
    {
     "name": "stdout",
     "output_type": "stream",
     "text": [
      "--\n"
     ]
    }
   ],
   "source": [
    "\n",
    "#  DELETE ALL GRAPHS\n",
    "\n",
    "for l_database in my_client.databases():\n",
    "   for l_graph in my_client.get_database(name=l_database.name).graphs_in_database():\n",
    "      l_handle=my_client.get_database(name=l_database.name).get_graph_by_id(id=l_graph.graph_id)\n",
    "      l_handle.delete()\n",
    "\n",
    "for l_graph in my_client.graphs():\n",
    "   print(\"GRAPH ID: \", l_graph.graph_id, \"      GRAPH Version: \", l_graph.version)\n",
    "\n",
    "print(\"--\")\n"
   ]
  },
  {
   "cell_type": "code",
   "execution_count": null,
   "id": "71f69a0e-451b-4679-b49c-5db1208d4c8f",
   "metadata": {},
   "outputs": [],
   "source": [
    "\n",
    "#  DELETE ALL DATABASES\n",
    "\n",
    "for l_database in my_client.databases():\n",
    "   if (l_database.name != \"default\"):\n",
    "      my_client.get_database(name=l_database.name).delete_database()\n",
    "      print(\"--\")\n",
    "\n",
    "for l_database in my_client.databases():\n",
    "   print(\"DB ID: \", l_database.database_id, \"     DB Name: \", l_database.name)\n"
   ]
  },
  {
   "cell_type": "code",
   "execution_count": null,
   "id": "a3b3bc00-fafb-481d-ba5a-8b52ae7d6e79",
   "metadata": {},
   "outputs": [],
   "source": [
    "\n",
    "#  CREATE DATABASE\n",
    "\n",
    "my_database = my_client.create_database(name=DB_NAME)\n",
    "\n",
    "print(my_database.database_id)\n"
   ]
  },
  {
   "cell_type": "code",
   "execution_count": 5,
   "id": "b8ba088b-2ec5-4b2a-8171-3c87ddffb47c",
   "metadata": {},
   "outputs": [
    {
     "name": "stdout",
     "output_type": "stream",
     "text": [
      "<_Graph my_graph, 2DhpYfrisxBadjxZgmaMmskD7gXWty3uyeKDbGuKFAaS, 0>\n"
     ]
    }
   ],
   "source": [
    "\n",
    "#  CREATE GRAPH\n",
    "#\n",
    "my_graph = my_client.get_database(name=DB_NAME).create_graph(name=GRAPH_NAME, num_partitions=NUM_PARTITIONS)\n",
    "\n",
    "print(my_graph)\n"
   ]
  },
  {
   "cell_type": "markdown",
   "id": "c3685a36-d987-4ad8-a209-7115d726ac03",
   "metadata": {},
   "source": [
    "# Step 01:  Process CSV files .."
   ]
  },
  {
   "cell_type": "code",
   "execution_count": 17,
   "id": "0351b0fd-6237-4d7a-99f1-dec2150ec4fc",
   "metadata": {},
   "outputs": [
    {
     "name": "stdout",
     "output_type": "stream",
     "text": [
      "152\n",
      "4001\n",
      "4002\n",
      "4003\n",
      "4004\n",
      "4005\n",
      "4006\n",
      "4007\n",
      "4007\n",
      "The wounds were dressed with bacitracin ointment. The patient was returned to the recovery room in satisfactory condition. She tolerated the procedure satisfactorily, and then no complications. Blood loss was essentially nil.\"\n",
      "4008\n",
      "FACE: Examination of the face demonstrates basal cell carcinoma, right and left cheek. No lesions are noted in the regional lymph node base and no mass is appreciated.\n",
      "BREAST: Examination of the breast demonstrates bilateral grade IV capsular contracture. She has asymmetry in distortion of the breast. No masses are appreciated in the breast or the axilla. The implants appear to be subglandular.\n",
      "CHEST: Clear to auscultation and percussion.\n",
      "CARDIOVASCULAR: Regular rate and rhythm.\n",
      "EXTREMITIES: Show full range of motion. No clubbing, cyanosis or edema.\n",
      "SKIN: Significant environmental actinic skin damage.\n",
      "I recommended excision of basal cell cancers with frozen section control of the margin, closure will require local tissue flaps. I recommended exchange of the implants with reaugmentation. No final size is guaranteed or implied. We will decrease the size of the implants based on the intraoperative findings as the size is not known. Several options are available. Sizer implants will be placed to best estimate postoperative size. Ptosis will be worse following capsulectomy and going with a smaller implant. She may require a lift in the future. We have obtained preoperative clearance from the patient's cardiologist, Dr. K. The patient has been taken off Coumadin for five days and will be placed back on Coumadin the day after the surgery. The risk of deep venous thrombosis is discussed. Other risk including bleeding, infection, allergic reaction, pain, scarring, hypertrophic scarring and poor cosmetic resolve, worsening of ptosis, exposure, extrusion, the rupture of the implants, numbness of the nipple-areolar complex, hematoma, need for additional surgery, recurrent capsular contracture and recurrence of the skin cancer was all discussed, which she understands and informed consent is obtained.\n",
      "PROCEDURE IN DETAIL\n",
      "After appropriate informed consent was obtained, the patient was placed in the preoperative holding area with **** input. She was then taken to the major operating room with ABCD Surgery Center, placed in a supine position. Intravenous antibiotics were given. TED hose and SCDs were placed. After the induction of adequate general endotracheal anesthesia, she was prepped and draped in the usual sterile fashion. Sites for excision and skin cancers were carefully marked with 5 mm margin. These were injected with 1% lidocaine with epinephrine.\n",
      "After allowing adequate time for basal constriction hemostasis, excision was performed, full thickness of the skin. They were tagged at the 12 o'clock position and sent for frozen section. Hemostasis was achieved using electrocautery. Once margins were determined to be free of involvement, local tissue flaps were designed for advancement. Undermining was performed. Hemostasis was achieved using electrocautery. Closure was performed under moderate tension with interrupted 5-0 Vicryl. Skin was closed under loop magnification paying meticulous attention and cosmetic details with 6-0 Prolene. Attention was then turned to the breast, clothes were changed, gloves were changed, incision was planned and the previous inframammary incision beginning on the right incision was made. Dissection was carried down to the capsule. It was extremely calcified. Dissection of the anterior surface of the capsule was performed. The implant was subglandular, the capsule was entered, implant was noted to be grossly intact; however, there was free silicone. Implant was removed and noted to be ruptured. No marking as to the size of the implant was found.\n",
      "Capsulectomy was performed leaving a small portion in the axilla in the inframammary fold. Pocket was modified to medialize the implant by placing 2-0 Prolene laterally in mattress sutures to restrict the pocket. In identical fashion, capsulectomy was performed on the left. Implant was noted to be grossly ruptured. No marking was found for the size of the implant. The entire content was weighed and found to be 350 grams. Right side was weighed and noted to be 338 grams, although some silicone was lost in the transfer and most likely was identical 350 grams. The implants appeared to be double lumen with the saline portion deflated. Completion of the capsulectomy was performed on the left.\n",
      "The pocket was again fashioned to improve symmetry with the right with Prolene. Pockets were thoroughly irrigated. Hemostasis was achieved using electrocautery, checked for symmetry, which is determined to be excellent. Several liters of normal saline were utilized to irrigate the pocket. Hemostasis was determined to be excellent. Drains were placed. 2-0 Vicryl sutures were preplaced. Pockets were checked for hemostasis, irrigated with normal saline, sizing was performed with placement of 275 cc implants. She was placed in a sitting position. This significantly worsened ptosis and for this reason, 325 cc implants were chosen. She is placed back in a supine position. Pockets were irrigated with antibiotic solution, 2-0 Vicryl sutures were preplaced and gloves were changed. The patient was reprepped with Betadine, towels were changed.\n",
      "These were soaked in antibiotic solution. Gloves were changed, gowns were changed, the patient was reprepped, towels were changed and implants were placed. The patient was placed in a sitting position. Symmetry was excellent. There was noted to be a decrease of volume of approximately 40 cc from the capsulectomy as well as the additional reduction of 25 cc. Ptosis was slightly worse; however, excellent shape of the breast. She was placed back in a supine position, preplaced 2-0 Vicryl sutures were tied; a second layer subcutaneous of 3-0 Vicryl was placed followed by a third of 4-0 Vicryl. The skin was closed with a running 4-0 Prolene. Drains were secured. All sponge and needle counts were correct. Dressing was applied.\n",
      "COMPLICATIONS\n",
      "None.\n",
      "DISPOSITION\n",
      "To recovery room.\"\n",
      "4009\n",
      "4010\n",
      "4011\n",
      "4012\n",
      "4013\n",
      "4014\n",
      "4015\n",
      "4016\n",
      "4017\n",
      "4018\n",
      "4019\n",
      "4020\n",
      "4021\n",
      "4022\n",
      "4023\n",
      "4024\n",
      "4025\n",
      "4026\n",
      "4027\n",
      "4028\n",
      "4029\n",
      "4030\n",
      "4031\n",
      "4032\n",
      "4033\n",
      "4034\n",
      "4035\n",
      "4036\n",
      "4037\n",
      "4038\n",
      "4039\n",
      "4040\n",
      "4041\n",
      "4042\n",
      "4043\n",
      "4044\n",
      "4045\n",
      "4046\n",
      "4047\n",
      "4048\n",
      "4050\n",
      "4051\n",
      "4052\n",
      "4053\n",
      "The morning of 02/19/2007, he awakened with severe right inguinal and right lower quadrant pain. He was seen in Emergency Room where it was noted that he had an elevated WBC of 18,000. CT scan of the abdomen was obtained to rule out possible appendicitis and on that CT, a large clot in the inferior vena cava extending to the right iliac and femoral veins was found. He promptly underwent appropriate treatment in interventional radiology with the above-noted angioplasty and placement of a vena caval filter followed by mechanical and pharmacologic thrombolysis. Repeat ultrasound there on 02/20/2007 showed no evidence of deep venous thrombosis (DVT). Continuous intravenous unfractionated heparin infusion was continued. Because there was no obvious cause of this extensive thrombosis, occult malignancy was suspected. Appropriate blood studies were obtained and he underwent a PET/CT scan as part of his diagnostic evaluation. This study showed moderately increased diffuse bone marrow metabolic activity. Because the WBC continued to rise and showed a preponderance of lymphocytes, the smear was reviewed by pathologist, Sheryl Asplund, M.D., and flow cytometry was performed on the peripheral blood. These studies became available the afternoon of 02/23/2007, and confirmed the diagnosis of precursor-B acute lymphoblastic leukemia. The patient was transferred here after stopping of the continuous infusion heparin and receiving a dose of Lovenox 60 mg subcutaneously for further diagnostic evaluation and management of the acute lymphoblastic leukemia (ALL).\n",
      "ALLERGIES: NO KNOWN DRUG ALLERGIES. HE DOES SEEM TO REACT TO CERTAIN ADHESIVES.\n",
      "CURRENT MEDICATIONS:\n",
      "1. Lovenox 60 mg subcutaneously q.12h. initiated.\n",
      "2. Coumadin 5 mg p.o., was administered on 02/19/2007 and 02/22/2007.\n",
      "3. Protonix 40 mg intravenous (IV) daily.\n",
      "4. Vicodin p.r.n.\n",
      "5. Levaquin 750 mg IV on 02/23/2007.\n",
      "IMMUNIZATIONS: Up-to-date.\n",
      "PAST SURGICAL HISTORY: The treatment of the thrombosis as noted above on 02/19/2007 and 02/20/2007.\n",
      "FAMILY HISTORY: Two half-brothers, ages 26 and 28, both in good health. Parents are in good health. A maternal great-grandmother had a deep venous thrombosis (DVT) of leg in her 40s. A maternal great-uncle developed leukemia around age 50. A maternal great-grandfather had bone cancer around age 80. His paternal grandfather died of colon cancer at age 73, which he had had since age 68. Adult-onset diabetes is present in distant relatives on both sides.\n",
      "SOCIAL HISTORY: The patient is a student at the University majoring in biology. He lives in a dorm there. His parents live in Breckenridge. He admits to having smoked marijuana off and on with friends and drinking beer off and on as well.\n",
      "REVIEW OF SYSTEMS: He has had emesis off and on related to Vicodin and constipation since 02/19/2007, also related to pain medication. He has had acne for about two years, which he describes as mild to moderate. He denied shortness of breath, chest pain, hemoptysis, dyspnea, headaches, joint pains, rashes, except where he has had dressings applied, and extremity pain except for the right leg pain noted above.\n",
      "PHYSICAL EXAMINATION: GENERAL: Alert, cooperative, moderately ill-appearing young man.\n",
      "VITAL SIGNS: At the time of admission, pulse was 94, respirations 20, blood pressure 120/62, temperature 98.7, height 171.5 cm, weight 63.04 kg, and pulse oximetry on room air 95%.\n",
      "HAIR AND SKIN: Mild facial acne.\n",
      "HEENT: Extraocular muscles (EOMs) intact. Pupils equal, round, and reactive to light and accommodation (PERRLA), fundi normal.\n",
      "CARDIOVASCULAR: A 2/6 systolic ejection murmur (SEM), regular sinus rhythm (RSR).\n",
      "LUNGS: Clear to auscultation with an occasional productive cough.\n",
      "ABDOMEN: Soft with mild lower quadrant tenderness, right more so than left; liver and spleen each decreased 4 cm below their respective costal margins.\n",
      "MUSCULOSKELETAL: Mild swelling of the dorsal aspect of the right foot and distal right leg. Mild tenderness over the prior catheter entrance site in the right popliteal fossa and mild tenderness over the right medial upper thigh.\n",
      "GENITOURINARY: Testicle exam disclosed no firm swelling with mild nondiscrete fullness in the posterior left testicle.\n",
      "NEUROLOGIC: Exam showed him to be oriented x4. Normal fundi, intact cranial nerves II through XII with downgoing toes, symmetric muscle strength, and decreased patellar deep tendon reflexes (DTRs).\n",
      "LABORATORY DATA: White count 25,500 (26 neutrophils, 1 band, 7 lymphocytes, 1 monocyte, 1 myelocyte, 64 blasts), hemoglobin 13.3, hematocrit 38.8, and 312,000 platelets. Electrolytes, BUN, creatinine, phosphorus, uric acid, AST, ALT, alkaline phosphatase, and magnesium were all normal. LDH was elevated to 1925 units/L (upper normal 670), and total protein and albumin were both low at 6.2 and 3.4 g/dL respectively. Calcium was also slightly low at 8.8 mg/dL. Low molecular weight heparin test was low at 0.27 units/mL. PT was 11.8, INR 1.2, and fibrinogen 374. Urinalysis was normal.\n",
      "ASSESSMENT: 1. Newly diagnosed high-risk acute lymphoblastic leukemia.\n",
      "2. Deep vein thrombosis of the distal iliac and common femoral/right femoral and iliac veins, status post vena caval filter placement and mechanical and thrombolytic therapy, on continued anticoagulation.\n",
      "3. Probable chronic left epididymitis.\n",
      "PLAN: 1. Proceed with diagnostic bone marrow aspirate/biopsy and lumbar puncture (using a #27-gauge pencil-tip needle for minimal trauma) as soon as these procedures can be safely done with regard to the anticoagulation status.\n",
      "2. Prompt reassessment of the status of the deep venous thrombosis with Doppler studies.\n",
      "3. Ultrasound/Doppler of the testicles.\n",
      "4. Maintain therapeutic anticoagulation as soon as the diagnostic procedures for ALL can be completed.\"\n",
      "4054\n",
      "4055\n",
      "4056\n",
      "4057\n",
      "4058\n",
      "4059\n",
      "4060\n",
      "4061\n",
      "4062\n",
      "4063\n",
      "4064\n",
      "4065\n",
      "4066\n",
      "4067\n",
      "4068\n",
      "4069\n",
      "4070\n",
      "4071\n",
      "4072\n",
      "4073\n",
      "4074\n",
      "4075\n",
      "4076\n",
      "4077\n",
      "This patient will be treated to the prostate with ultrasound-guided I-125 seed implantation. The original consultation and treatment planning will be separately performed. At the time of the implantation, special coordination will be required. Stepping ultrasound will be performed and utilized in the pre-planning process. Some discrepancies are frequently identified, based on the positioning, edema, and/or change in the tumor since the pre-planning process. Re-assessment is required at the time of surgery, evaluating the pre-plan and comparing to the stepping ultrasound. Modifications will be made in real time to add or subtract needles and seeds as required. This may be integrated with the loading of the seeds performed by the brachytherapist, as well as coordinated with the urologist, dosimetrist or physicist.\n",
      "The brachytherapy must be customized to fit the individual's tumor and prostate. Attention is given both preoperatively and intraoperatively to avoid overdosage of rectum and bladder.\"\n",
      "4078\n",
      "4079\n",
      "4080\n",
      "4081\n",
      "4082\n",
      "4083\n",
      "4084\n",
      "4085\n",
      "4086\n",
      "4087\n",
      "4088\n",
      "4089\n",
      "4090\n",
      "REVIEW OF SYSTEMS: Negative for any fever, chills, nausea, vomiting, headache, chest pain, shortness of breath, abdominal pain, constipation, diarrhea, melena, hematochezia or dysuria. The patient is concerned about her blood pressure being up a little bit and also a mole that she had noticed for the past few months in her head.\n",
      "PHYSICAL EXAMINATION:\n",
      "VITAL SIGNS: Temperature 35.6, blood pressure 143/83, pulse 65, respirations 18, and weight 66.5 kg. GENERAL: She is a middle-aged white female, not in any distress. HEENT: No lymphadenopathy or mucositis. CARDIOVASCULAR: Regular rate and rhythm. LUNGS: Clear to auscultation bilaterally. EXTREMITIES: No cyanosis, clubbing or edema. NEUROLOGICAL: No focal deficits noted. PELVIC: Normal-appearing external genitalia. Vaginal vault with no masses or bleeding.\n",
      "LABORATORY DATA: None today.\n",
      "RADIOLOGIC DATA: CT of the chest, abdomen, and pelvis from 01/28/08 revealed status post total abdominal hysterectomy/bilateral salpingo-oophorectomy with an unremarkable vaginal cuff. No local or distant metastasis. Right probably chronic gonadal vein thrombosis.\n",
      "ASSESSMENT: This is a 67-year-old white female with history of uterine papillary serous carcinoma, status post total abdominal hysterectomy and bilateral salpingo-oophorectomy and 6 cycles of carboplatin and Taxol chemotherapy. She is doing well with no evidence of disease clinically or radiologically.\n",
      "PLAN:\n",
      "1. Plan to follow her every 3 months and CT scans every 6 months for the first 2 years.\n",
      "2. The patient was advised to contact the primary physician for repeat blood pressure check and get started on antihypertensives if it is persistently elevated.\n",
      "3. The patient was told that the mole that she is mentioning in her head is no longer palpable and just to observe it for now.\n",
      "4. The patient was advised about doing Kegel exercises for urinary incontinence, and we will address this issue again during next clinic visit if it is persistent.\"\n"
     ]
    }
   ],
   "source": [
    "\n",
    "#  df_data      = pd.read_csv(\"gs://farrell-bucket/mongodb/21_users.txt\")\n",
    "\n",
    "df_data      = pd.read_csv(\"/home/jovyan/work/My_KG_NoteBooks/P1_Prospects/10_DataBricks_Google/10_Data/22_OncologyCallNotes.txt\", header = \"infer\", delimiter = \"|\")\n",
    "\n",
    "print(len(df_data))\n",
    "\n",
    "l_cntr = 0\n",
    "   #\n",
    "for l_each in df_data.itertuples():\n",
    "   l_cntr += 1\n",
    "      #\n",
    "   #  if (l_cntr < 5):\n",
    "   print(l_each.id)\n",
    "\n",
    "\n",
    "\n"
   ]
  },
  {
   "cell_type": "code",
   "execution_count": null,
   "id": "6491d824-e497-4548-8ace-659c3657662a",
   "metadata": {},
   "outputs": [],
   "source": []
  },
  {
   "cell_type": "code",
   "execution_count": null,
   "id": "b11d557b-990a-4e72-bcb1-3cbcfdcbf6a1",
   "metadata": {},
   "outputs": [],
   "source": []
  },
  {
   "cell_type": "code",
   "execution_count": null,
   "id": "34d5ccd9-1480-4904-8bc1-f53c939618fc",
   "metadata": {},
   "outputs": [],
   "source": []
  },
  {
   "cell_type": "code",
   "execution_count": null,
   "id": "df4ad011-1bf5-4242-b93a-7480745e6cb9",
   "metadata": {},
   "outputs": [],
   "source": []
  },
  {
   "cell_type": "code",
   "execution_count": null,
   "id": "d219289c-0a7f-4c10-b870-865024d5bd6c",
   "metadata": {},
   "outputs": [],
   "source": []
  },
  {
   "cell_type": "code",
   "execution_count": null,
   "id": "2d2583d8-e087-440c-9ffb-9916bb5e6e8f",
   "metadata": {},
   "outputs": [],
   "source": []
  },
  {
   "cell_type": "code",
   "execution_count": null,
   "id": "07b4a44c-9d89-4306-b8c0-67156a79a537",
   "metadata": {},
   "outputs": [],
   "source": []
  },
  {
   "cell_type": "code",
   "execution_count": null,
   "id": "a50fd04c-9880-498e-978b-6a45da00f143",
   "metadata": {},
   "outputs": [],
   "source": [
    "\n",
    "#  In a Web browser\n",
    "#     \n",
    "#     https://console.cloud.google.com/storage/browser/a9187b90-cluster/kind-mullet/Paypal_20M_1B/\n",
    "#\n",
    "\n",
    "from google.cloud import storage\n",
    "\n",
    "\n",
    "l_client      = storage.Client()\n",
    "\n",
    "l_bucket_str  = \"a9187b90-cluster\"\n",
    "   #\n",
    "l_bucket      = l_client.bucket(l_bucket_str)\n",
    "\n",
    "\n",
    "#  Just nodes\n",
    "#\n",
    "l_nodes = []\n",
    "   #\n",
    "for l_each in l_bucket.list_blobs(prefix = \"kind-mullet/Paypal_20M_1B/N\"):\n",
    "   print(l_each.name)\n",
    "      #\n",
    "   l_nodes.append(\"gs://\" + l_bucket_str + \"/\" + l_each.name)\n",
    "\n",
    "print(l_nodes)\n",
    "\n",
    "\n",
    "print(\"--\")\n",
    "\n",
    "\n",
    "#  Just edges\n",
    "#\n",
    "l_edges       = []\n",
    "   #\n",
    "l_cntr        = 0                                   #  We'll use these next two lines for testing\n",
    "l_edges_small = []\n",
    "   #\n",
    "for l_each in l_bucket.list_blobs(prefix = \"kind-mullet/Paypal_20M_1B/f\"):\n",
    "   print(l_each.name)\n",
    "      #\n",
    "   l_edges.append(\"gs://\" + l_bucket_str + \"/\" + l_each.name)\n",
    "      #\n",
    "   l_cntr += 1\n",
    "   if (l_cntr < 3):\n",
    "      l_edges_small.append(\"gs://\" + l_bucket_str + \"/\" + l_each.name)\n",
    "\n",
    "print(l_edges)\n",
    "print(l_edges_small)\n",
    "\n",
    "\n",
    "print(\"--\")\n",
    "\n",
    "#  Sample output,\n",
    "#\n",
    "#     kind-mullet/Paypal_20M_1B/NodeFile_0\n",
    "#     ['gs://a9187b90-cluster/kind-mullet/Paypal_20M_1B/NodeFile_0']\n",
    "#     --\n",
    "#     kind-mullet/Paypal_20M_1B/fileAssetA_0\n",
    "#     kind-mullet/Paypal_20M_1B/fileAssetA_1\n",
    "#     kind-mullet/Paypal_20M_1B/fileAssetA_2\n",
    "#     kind-mullet/Paypal_20M_1B/fileAssetA_3\n",
    "#     kind-mullet/Paypal_20M_1B/fileAssetA_4\n",
    "#     kind-mullet/Paypal_20M_1B/fileAssetA_5\n",
    "#     kind-mullet/Paypal_20M_1B/fileAssetB_0\n",
    "#     kind-mullet/Paypal_20M_1B/fileAssetB_1\n",
    "#     kind-mullet/Paypal_20M_1B/fileAssetB_2\n",
    "#     kind-mullet/Paypal_20M_1B/fileAssetB_3\n",
    "#     kind-mullet/Paypal_20M_1B/fileFriendA_0\n",
    "#     kind-mullet/Paypal_20M_1B/fileFriendB_0\n",
    "#     kind-mullet/Paypal_20M_1B/fileFriendB_1\n",
    "#     ['gs://a9187b90-cluster/kind-mullet/Paypal_20M_1B/fileAssetA_0', 'gs://a9187b90-cluster/kind-mullet/Paypal_20M_1B/fileAssetA_1', 'gs://a9187b90-cluster/kind-mullet/P  ...\n",
    "#     ['gs://a9187b90-cluster/kind-mullet/Paypal_20M_1B/fileAssetA_0', 'gs://a9187b90-cluster/kind-mullet/Paypal_20M_1B/fileAssetA_1']\n",
    "#     --\n"
   ]
  },
  {
   "cell_type": "markdown",
   "id": "c36e1596-03e6-450f-bcf0-144658f00701",
   "metadata": {},
   "source": [
    "#  Step 02: Read CSVs into Dask DataFrame"
   ]
  },
  {
   "cell_type": "code",
   "execution_count": 5,
   "id": "4ed37a38-5140-45c0-915b-e88a0516f378",
   "metadata": {},
   "outputs": [
    {
     "name": "stdout",
     "output_type": "stream",
     "text": [
      "--\n"
     ]
    }
   ],
   "source": [
    "\n",
    "import dask.dataframe as dd\n",
    "import numpy as np\n",
    "\n",
    "print(\"--\")\n"
   ]
  },
  {
   "cell_type": "code",
   "execution_count": null,
   "id": "c8c98ee1-3c20-4e3a-b075-3bbdb39ace7c",
   "metadata": {},
   "outputs": [],
   "source": [
    "%%time\n",
    "\n",
    "#  Just nodes\n",
    "\n",
    "#  Sample data,\n",
    "#\n",
    "#     Sent|counterparty|cntAppr|cntDecl|cntRiskDecl1|amtRiskDecl|cntRiskDecl2|sumRcvd|cntRcvd|cntDist|cntDecl2\n",
    "#     0|N|N|N|N|XbRqfTcGJL9fxmNp4simTykwKr|qhBymw13PneK5hpntNVwjNwaYklX8P379JZo|Y|416|0|inactive|1941730454454|0|2018-01-24T01:09:18|9.07632e+09|1419493889|1894897856|2676929303.1430|6614868331.8687|8283173087.0037|6020979256.1980|1984359695|5077917542.6596|1923699935|1948138778|4876422147.1566|\n",
    "\n",
    "df_nodes = dd.read_csv(\n",
    "   l_nodes,\n",
    "   delimiter = \"|\",\n",
    "   dtype = {\n",
    "      \"Sent\"          : np.dtype(\"O\"),                         #  Change these if you wish,  Numpy datatypes\n",
    "      \"counterparty\"  : np.dtype(\"O\"),\n",
    "      \"cntAppr\"       : np.dtype(\"O\"),\n",
    "      \"cntDecl\"       : np.dtype(\"O\"),\n",
    "      \"cntRiskDecl1\"  : np.dtype(\"O\"),\n",
    "      \"amtRiskDecl\"   : np.dtype(\"O\"),\n",
    "      \"cntRiskDecl2\"  : np.dtype(\"O\"),\n",
    "      \"sumRcvd\"       : np.dtype(\"O\"),\n",
    "      \"cntRcvd\"       : np.dtype(\"O\"),\n",
    "      \"cntDist\"       : np.dtype(\"O\"),\n",
    "      \"cntDecl2\"      : np.dtype(\"O\"),\n",
    "      })\n",
    "\n",
    "print(len(df_nodes))\n",
    "\n",
    "print(\"--\")\n",
    "\n",
    "#  Sample output,\n",
    "#\n",
    "#     20000000\n",
    "#     --\n",
    "#     CPU times: user 3min, sys: 18 s, total: 3min 18s\n",
    "#     Wall time: 2min 48s\n"
   ]
  },
  {
   "cell_type": "code",
   "execution_count": 6,
   "id": "b77a2d41-2763-449b-928d-aa0d745539f7",
   "metadata": {},
   "outputs": [
    {
     "name": "stdout",
     "output_type": "stream",
     "text": [
      "200000000\n",
      "--\n",
      "CPU times: user 4min 25s, sys: 31.2 s, total: 4min 56s\n",
      "Wall time: 4min 23s\n"
     ]
    }
   ],
   "source": [
    "%%time\n",
    "\n",
    "#  Just edges\n",
    "\n",
    "#  Sample data,\n",
    "#\n",
    "#     Account1.id|Account2.id|type|date\n",
    "#     16089173|16089175|FriendConB|2018-10-10T11:20:05\n",
    "\n",
    "df_edges = dd.read_csv(\n",
    "    \n",
    "   #  l_edges,                                                   #  This would be all files, at once, in memory\n",
    "   l_edges_small,\n",
    "    \n",
    "   delimiter = \"|\",\n",
    "   dtype = {\n",
    "      \"Account1.id\"   : np.dtype(\"O\"),\n",
    "      \"Account2.id\"   : np.dtype(\"O\"),\n",
    "      \"type\"          : np.dtype(\"O\"),                           #  These next two column names are keywords in most worlds -- bad idea\n",
    "      \"date\"          : np.dtype(\"O\"),\n",
    "      })\n",
    "\n",
    "print(len(df_edges))\n",
    "\n",
    "print(\"--\")\n",
    "\n",
    "#  Sample output,\n",
    "#\n",
    "#     200000000\n",
    "#     --\n",
    "#     CPU times: user 4min 25s, sys: 31.2 s, total: 4min 56s\n",
    "#     Wall time: 4min 23s\n"
   ]
  },
  {
   "cell_type": "code",
   "execution_count": null,
   "id": "b337d260-8583-41fc-9300-e9994520cda6",
   "metadata": {},
   "outputs": [],
   "source": []
  },
  {
   "cell_type": "code",
   "execution_count": null,
   "id": "5d607abb-6e9b-4dfd-9b10-302c237556d6",
   "metadata": {},
   "outputs": [],
   "source": []
  }
 ],
 "metadata": {
  "kernelspec": {
   "display_name": "Python 3 (ipykernel)",
   "language": "python",
   "name": "python3"
  },
  "language_info": {
   "codemirror_mode": {
    "name": "ipython",
    "version": 3
   },
   "file_extension": ".py",
   "mimetype": "text/x-python",
   "name": "python",
   "nbconvert_exporter": "python",
   "pygments_lexer": "ipython3",
   "version": "3.8.13"
  }
 },
 "nbformat": 4,
 "nbformat_minor": 5
}
