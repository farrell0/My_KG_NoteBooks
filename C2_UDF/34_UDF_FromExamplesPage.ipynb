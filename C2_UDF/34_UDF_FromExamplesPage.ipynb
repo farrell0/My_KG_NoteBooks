{
 "cells": [
  {
   "cell_type": "markdown",
   "id": "43b1755b-2af6-4570-84de-764a0024a919",
   "metadata": {
    "tags": []
   },
   "source": [
    "#  Display options:"
   ]
  },
  {
   "cell_type": "code",
   "execution_count": null,
   "id": "19eb5ac6-bcb9-49a5-8cf0-60f8441171a6",
   "metadata": {},
   "outputs": [],
   "source": [
    "\n",
    "#  References for this Notebook,\n",
    "#\n",
    "#     Working thru the examples on this page,\n",
    "#        https://docs.k9h.dev/latest/recipes/udf-recipes.html/tree/master/lonestar/analytics/distributed/experimental\n",
    "# \n"
   ]
  },
  {
   "cell_type": "code",
   "execution_count": null,
   "id": "d7a11486-11ea-4a6c-8f7b-6f3808dfc85e",
   "metadata": {},
   "outputs": [],
   "source": [
    "\n",
    "#  Setting display options \n",
    "\n",
    "import pandas as pd\n",
    "   #\n",
    "pd.set_option(\"display.width\", 480)\n",
    "\n",
    "#  Sets horizontal scroll for wide outputs\n",
    "#\n",
    "from IPython.display import display, HTML\n",
    "display(HTML(\"\"))\n",
    "\n",
    "from tabulate import tabulate\n",
    "\n",
    "print(\"--\")\n"
   ]
  },
  {
   "cell_type": "markdown",
   "id": "d3ebe820-bc6d-4948-b668-8b81cd3cbf29",
   "metadata": {
    "tags": []
   },
   "source": [
    "#  Setup stuff: Connectivity"
   ]
  },
  {
   "cell_type": "code",
   "execution_count": null,
   "id": "1ea957d6-30c6-427a-ae4e-15ecfba0c4f9",
   "metadata": {},
   "outputs": [],
   "source": [
    "\n",
    "from katana import remote\n",
    "#  from katana.remote import import_data\n",
    "\n",
    "my_client = remote.Client()\n",
    "\n",
    "print(my_client)\n"
   ]
  },
  {
   "cell_type": "code",
   "execution_count": null,
   "id": "97571016-7c02-4e90-a75a-136a0dacd35f",
   "metadata": {},
   "outputs": [],
   "source": [
    "\n",
    "NUM_PARTITIONS  = 3\n",
    "   #\n",
    "DB_NAME         = \"my_db\"\n",
    "GRAPH_NAME      = \"my_graph\"\n",
    "\n",
    "print(\"--\")\n"
   ]
  },
  {
   "cell_type": "code",
   "execution_count": null,
   "id": "c5db6505-7fc8-4779-b194-9ed8945b9a90",
   "metadata": {},
   "outputs": [],
   "source": [
    "\n",
    "#  CONNECT TO GRAPH\n",
    "\n",
    "my_graph, *_ = my_client.get_database(name=DB_NAME).find_graphs_by_name(GRAPH_NAME)\n",
    "\n",
    "print(my_graph)\n"
   ]
  },
  {
   "cell_type": "code",
   "execution_count": null,
   "id": "195ac246-4852-44ac-8a63-8631b38858ca",
   "metadata": {},
   "outputs": [],
   "source": [
    "\n",
    "display(my_graph.num_nodes())\n",
    "display(my_graph.num_edges())\n"
   ]
  },
  {
   "cell_type": "markdown",
   "id": "fc942da3-98f2-4b47-9d3f-76bb6adf270d",
   "metadata": {
    "tags": []
   },
   "source": [
    "# Working with num_partitions()"
   ]
  },
  {
   "cell_type": "code",
   "execution_count": null,
   "id": "2ee40b52-a157-4242-92f3-4fc037dc542b",
   "metadata": {},
   "outputs": [],
   "source": [
    "#  Even though this graph was made with 3 partitions, and even though certain operations\n",
    "#  require at least 3 partitions else they fail, you may still see num_partitions = None\n",
    "#  which can happen on really small graphs, and produce unexpected results below.\n",
    "\n",
    "print(my_graph.num_partitions)\n"
   ]
  },
  {
   "cell_type": "code",
   "execution_count": null,
   "id": "420011bd-878f-4376-a0a8-8f500a298bd4",
   "metadata": {},
   "outputs": [],
   "source": [
    "\n",
    "#  my_graph.repartition(num_partitions = 1)\n",
    "my_graph.repartition(num_partitions = 3)\n",
    "\n",
    "print(\"--\")\n"
   ]
  },
  {
   "cell_type": "markdown",
   "id": "61556ce5-9044-42bc-bb13-80b6a514ae27",
   "metadata": {
    "tags": []
   },
   "source": [
    "# UDFs, Example 01: Count City Nodes"
   ]
  },
  {
   "cell_type": "code",
   "execution_count": null,
   "id": "f35bb1d6-c1fb-4e86-9df9-ec267e119dd9",
   "metadata": {},
   "outputs": [],
   "source": [
    "\n",
    "#  All of these below are translated to the Airport graph\n",
    "#\n",
    "\n",
    "#  Not an exact copy of example 1, some things left off-\n",
    "#\n",
    "def my_func(i_graph, i_property):\n",
    "    \n",
    "   l_airport_seq = i_graph.nodes(labels = i_property)\n",
    "      #\n",
    "   print(\"Type: %s\" % (str(type(l_airport_seq))))\n",
    "   print(\"Value: %s\" % (l_airport_seq))\n",
    "   print(\"Loop thru the above:\")\n",
    "      #\n",
    "   for l_each in l_airport_seq:\n",
    "      print(\"   \" + str(l_each))\n",
    "        \n",
    "   print(\"Airport Node Count\", len(l_airport_seq))\n",
    "\n",
    "   return\n",
    "\n",
    "l_result = my_graph.run(lambda g: my_func(g, \"Airport\"))\n",
    "\n",
    "\n",
    "#  Sample output,\n",
    "#\n",
    "#     Host 0 output:\n",
    "#     Type: <class 'katana.distributed.EntitySequenceNode'>\n",
    "#     Value: <katana.distributed.EntitySequenceNode object at 0x7f8da9fbaf30>\n",
    "#     Loop thru the above:\n",
    "#        <lnid 4294967294>\n",
    "#        <lnid 0>\n",
    "#        <lnid 1>\n",
    "#     Airport Node Count 3\n",
    "#     \n",
    "#     Host 1 output:\n",
    "#     Type: <class 'katana.distributed.EntitySequenceNode'>\n",
    "#     Value: <katana.distributed.EntitySequenceNode object at 0x7f90c5ab6df0>\n",
    "#     Loop thru the above:\n",
    "#        <lnid 4294967293>\n",
    "#        <lnid 4294967294>\n",
    "#        <lnid 0>\n",
    "#     Airport Node Count 3\n",
    "#     \n",
    "#     Host 2 output:\n",
    "#     Type: <class 'katana.distributed.EntitySequenceNode'>\n",
    "#     Value: <katana.distributed.EntitySequenceNode object at 0x7fe5882e4230>\n",
    "#     Loop thru the above:\n",
    "#        <lnid 4294967293>\n",
    "#        <lnid 4294967294>\n",
    "#        <lnid 0>\n",
    "#     Airport Node Count 3\n"
   ]
  },
  {
   "cell_type": "code",
   "execution_count": null,
   "id": "677cb6e3-9875-4dcb-9cbf-26d256ac4df3",
   "metadata": {},
   "outputs": [],
   "source": [
    "\n",
    "#  All of these below are translated to the Airport graph\n",
    "#\n",
    "\n",
    "#  An exact copy of example 1\n",
    "#\n",
    "def my_func(i_graph, i_property):\n",
    "    \n",
    "   l_airport_seq: Sequence[Node] = i_graph.nodes(labels = i_property)\n",
    "      #\n",
    "   print(\"Type: %s\" % (str(type(l_airport_seq))))\n",
    "   print(\"Value: %s\" % (l_airport_seq))\n",
    "   print(\"Loop thru the above:\")\n",
    "      #\n",
    "   for l_each in l_airport_seq:\n",
    "      print(\"   \" + str(l_each))\n",
    "\n",
    "   print(\"Airport Node Count\", len(l_airport_seq))\n",
    "\n",
    "   return\n",
    "\n",
    "l_result = my_graph.run(lambda g: my_func(g, \"Airport\"))\n",
    "\n",
    "\n",
    "#  Sample output,\n",
    "#\n",
    "#     Host 0 output:\n",
    "#     Type: <class 'katana.distributed.EntitySequenceNode'>\n",
    "#     Value: <katana.distributed.EntitySequenceNode object at 0x7fe27927b7f0>\n",
    "#     Loop thru the above:\n",
    "#        <lnid 4294967294>\n",
    "#        <lnid 0>\n",
    "#        <lnid 1>\n",
    "#     Airport Node Count 3\n",
    "#     \n",
    "#     Host 1 output:\n",
    "#     Type: <class 'katana.distributed.EntitySequenceNode'>\n",
    "#     Value: <katana.distributed.EntitySequenceNode object at 0x7fc0f80d80f0>\n",
    "#     Loop thru the above:\n",
    "#        <lnid 4294967293>\n",
    "#        <lnid 4294967294>\n",
    "#        <lnid 0>\n",
    "#     Airport Node Count 3\n",
    "#     \n",
    "#     Host 2 output:\n",
    "#     Type: <class 'katana.distributed.EntitySequenceNode'>\n",
    "#     Value: <katana.distributed.EntitySequenceNode object at 0x7f96742bcc30>\n",
    "#     Loop thru the above:\n",
    "#        <lnid 4294967293>\n",
    "#        <lnid 4294967294>\n",
    "#        <lnid 0>\n",
    "#     Airport Node Count 3\n"
   ]
  },
  {
   "cell_type": "markdown",
   "id": "d7d38ec0-8d9b-446e-b556-de7d17f4380e",
   "metadata": {},
   "source": [
    "# UDFs, Example 02: Source Node Labels"
   ]
  },
  {
   "cell_type": "code",
   "execution_count": null,
   "id": "89d18149-b8e1-4a89-863f-90ae2142bab1",
   "metadata": {},
   "outputs": [],
   "source": [
    "\n",
    "#  Example 02, mostly as written, converted to airports\n",
    "#\n",
    "#     .  We add a second for loop for to also process out edges.\n",
    "#        This graph had one out edge, from Airport to Restaurant\n",
    "#\n",
    "\n",
    "def my_func(i_graph, i_property):\n",
    "    \n",
    "   l_airport_seq: Sequence[Node] = i_graph.nodes(labels = i_property)\n",
    "\n",
    "   l_labels = set()                                                       #  Python sets discard duplicates\n",
    " \n",
    "   for l_node in l_airport_seq:                                           #  All nodes of a given label\n",
    "      l_each: Node\n",
    "      for l_edge in i_graph.in_edges(l_node):                             #  In edges\n",
    "         l_edge: InEdge\n",
    "         l_src_node: Node = i_graph.in_edges.src(l_edge)\n",
    "         l_labels.add(i_graph.nodes.labels(l_src_node))\n",
    "        \n",
    "      for l_edge in i_graph.out_edges(l_node):                            #  Out edges\n",
    "         l_edge: OutEdge\n",
    "         l_dst_node: Node = i_graph.out_edges.dst(l_edge)\n",
    "         l_labels.add(i_graph.nodes.labels(l_dst_node))\n",
    "           \n",
    "   print(l_labels)\n",
    "    \n",
    "\n",
    "   return\n",
    "\n",
    "l_result = my_graph.run(lambda g: my_func(g, \"Airport\"))\n",
    "\n",
    "#  Sample output,\n",
    "#\n",
    "#     Host 0 output:\n",
    "#     {Airport}\n",
    "#     \n",
    "#     Host 1 output:\n",
    "#     {Airport, Restaurant}\n",
    "#     \n",
    "#     Host 2 output:\n",
    "#     {Airport}\n"
   ]
  },
  {
   "cell_type": "code",
   "execution_count": null,
   "id": "5045bea8-b575-4a6f-8830-1c33a3752cdf",
   "metadata": {},
   "outputs": [],
   "source": []
  },
  {
   "cell_type": "code",
   "execution_count": null,
   "id": "f5f87808-773a-4f19-894b-1d9517e02c7d",
   "metadata": {},
   "outputs": [],
   "source": []
  },
  {
   "cell_type": "markdown",
   "id": "32486574-6fe9-4c36-88cf-412726c77530",
   "metadata": {},
   "source": [
    "# UDFs, Example 03: Out-degree of a City Nodes"
   ]
  },
  {
   "cell_type": "code",
   "execution_count": 28,
   "id": "175a963c-9681-4a65-b72d-b8d4181700f5",
   "metadata": {},
   "outputs": [
    {
     "data": {
      "application/vnd.jupyter.widget-view+json": {
       "model_id": "e4aacee0b5474b0b93b147b6b8097d66",
       "version_major": 2,
       "version_minor": 0
      },
      "text/plain": [
       "          0/? [?op/s]"
      ]
     },
     "metadata": {},
     "output_type": "display_data"
    },
    {
     "name": "stdout",
     "output_type": "stream",
     "text": [
      "\n",
      "Host 0 output:\n",
      "<class 'katana.distributed.EntitySequenceNode'>\n",
      "\n",
      "Host 1 output:\n",
      "<class 'katana.distributed.EntitySequenceNode'>\n",
      "\n",
      "Host 2 output:\n",
      "<class 'katana.distributed.EntitySequenceNode'>\n"
     ]
    }
   ],
   "source": [
    "\n",
    "def my_func(i_graph, i_property):\n",
    "    \n",
    "   l_airport_seq: Sequence[Node] = i_graph.nodes(labels = i_property)\n",
    "\n",
    "   if (l_airport_seq):\n",
    "      print(\"LLL\")\n",
    "\n",
    "\n",
    "   return\n",
    "\n",
    "l_result = my_graph.run(lambda g: my_func(g, \"Airport2\"))\n",
    "\n",
    "\n"
   ]
  },
  {
   "cell_type": "code",
   "execution_count": null,
   "id": "e7699051-3aec-47b2-bb59-61da60b8c378",
   "metadata": {},
   "outputs": [],
   "source": []
  },
  {
   "cell_type": "code",
   "execution_count": null,
   "id": "772fdad2-0311-4424-bf02-b10d757c6ee4",
   "metadata": {},
   "outputs": [],
   "source": []
  },
  {
   "cell_type": "code",
   "execution_count": null,
   "id": "8e3fb908-fbe3-4958-a19a-1d878a513c51",
   "metadata": {},
   "outputs": [],
   "source": [
    "\n",
    "\n",
    "\n",
    "\n",
    "\n",
    "    city_sequence: Sequence[Node] = graph.nodes(labels=\"City\")\n",
    "    \n",
    "    if city_sequence:\n",
    "        city, *_ = city_sequence\n",
    "        # Get the global out degree of a city.\n",
    "        print(\"out_degree:\", graph.nodes.global_out_degree(city))\n",
    "        # Also available for in-edges.\n",
    "        \n",
    "        \n",
    "        "
   ]
  },
  {
   "cell_type": "code",
   "execution_count": null,
   "id": "886fbb57-0428-449e-a969-c31bc25be564",
   "metadata": {},
   "outputs": [],
   "source": []
  },
  {
   "cell_type": "code",
   "execution_count": null,
   "id": "8b9e880e-4203-4d93-a26c-ad87d26874bd",
   "metadata": {},
   "outputs": [],
   "source": []
  },
  {
   "cell_type": "code",
   "execution_count": null,
   "id": "1cadbbb7-c727-4b44-94f7-0085a80cc908",
   "metadata": {},
   "outputs": [],
   "source": []
  },
  {
   "cell_type": "code",
   "execution_count": null,
   "id": "f36c9867-ca4d-4ce0-9c3f-7355ed932347",
   "metadata": {},
   "outputs": [],
   "source": [
    "\n",
    "def my_func(i_graph, i_property):\n",
    "    \n",
    "\n",
    "   return\n",
    "\n",
    "l_result = my_graph.run(lambda g: my_func(g, \"Airport\"))\n"
   ]
  }
 ],
 "metadata": {
  "kernelspec": {
   "display_name": "Python 3 (ipykernel)",
   "language": "python",
   "name": "python3"
  },
  "language_info": {
   "codemirror_mode": {
    "name": "ipython",
    "version": 3
   },
   "file_extension": ".py",
   "mimetype": "text/x-python",
   "name": "python",
   "nbconvert_exporter": "python",
   "pygments_lexer": "ipython3",
   "version": "3.8.13"
  }
 },
 "nbformat": 4,
 "nbformat_minor": 5
}
