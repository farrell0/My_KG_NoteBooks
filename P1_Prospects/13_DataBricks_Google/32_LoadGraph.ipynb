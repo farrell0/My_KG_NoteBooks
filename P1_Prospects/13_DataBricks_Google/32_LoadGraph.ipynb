{
 "cells": [
  {
   "cell_type": "markdown",
   "id": "c54fd830-1317-4a52-b610-ef9716e5d744",
   "metadata": {
    "tags": []
   },
   "source": [
    "#  Setup: Display options"
   ]
  },
  {
   "cell_type": "code",
   "execution_count": 1,
   "id": "8a38ebd7-d1d9-47a8-955c-a8270b024543",
   "metadata": {},
   "outputs": [
    {
     "data": {
      "text/html": [],
      "text/plain": [
       "<IPython.core.display.HTML object>"
      ]
     },
     "metadata": {},
     "output_type": "display_data"
    },
    {
     "name": "stdout",
     "output_type": "stream",
     "text": [
      "--\n"
     ]
    }
   ],
   "source": [
    "\n",
    "#  Setting display options \n",
    "\n",
    "import pandas as pd\n",
    "   #\n",
    "pd.set_option(\"display.width\", 480)\n",
    "\n",
    "#  Sets horizontal scroll for wide outputs\n",
    "#\n",
    "from IPython.display import display, HTML\n",
    "display(HTML(\"\"))\n",
    "\n",
    "from tabulate import tabulate\n",
    "\n",
    "print(\"--\")\n"
   ]
  },
  {
   "cell_type": "markdown",
   "id": "3ab7ce90-67cf-462c-94a6-3c8c9d0754b3",
   "metadata": {},
   "source": [
    "# Setup: Connectivity"
   ]
  },
  {
   "cell_type": "code",
   "execution_count": 2,
   "id": "e87b75ba-c072-4111-8cca-4b4f394a0fce",
   "metadata": {},
   "outputs": [
    {
     "name": "stdout",
     "output_type": "stream",
     "text": [
      "<katana_enterprise.remote.sync_wrappers.Client object at 0x7f10c03c8a60>\n"
     ]
    }
   ],
   "source": [
    "\n",
    "from katana import remote\n",
    "\n",
    "my_client = remote.Client()\n",
    "\n",
    "print(my_client)\n"
   ]
  },
  {
   "cell_type": "code",
   "execution_count": 3,
   "id": "d3a77f99-f11b-4105-ab43-17ce605b15e8",
   "metadata": {},
   "outputs": [
    {
     "name": "stdout",
     "output_type": "stream",
     "text": [
      "--\n"
     ]
    }
   ],
   "source": [
    "\n",
    "NUM_PARTITIONS  = 3\n",
    "   #\n",
    "DB_NAME         = \"my_db\"\n",
    "GRAPH_NAME      = \"my_graph\"\n",
    "\n",
    "print(\"--\")\n"
   ]
  },
  {
   "cell_type": "code",
   "execution_count": null,
   "id": "7f2292b8-7df0-49a0-b3da-523f56cfe4f8",
   "metadata": {},
   "outputs": [],
   "source": [
    "\n",
    "#  DELETE ALL GRAPHS\n",
    "\n",
    "for l_database in my_client.databases():\n",
    "   for l_graph in my_client.get_database(name=l_database.name).graphs_in_database():\n",
    "      l_handle=my_client.get_database(name=l_database.name).get_graph_by_id(id=l_graph.graph_id)\n",
    "      l_handle.delete()\n",
    "\n",
    "for l_graph in my_client.graphs():\n",
    "   print(\"GRAPH ID: \", l_graph.graph_id, \"      GRAPH Version: \", l_graph.version)\n",
    "\n",
    "print(\"--\")\n"
   ]
  },
  {
   "cell_type": "code",
   "execution_count": null,
   "id": "71f69a0e-451b-4679-b49c-5db1208d4c8f",
   "metadata": {},
   "outputs": [],
   "source": [
    "\n",
    "#  DELETE ALL DATABASES\n",
    "\n",
    "for l_database in my_client.databases():\n",
    "   if (l_database.name != \"default\"):\n",
    "      my_client.get_database(name=l_database.name).delete_database()\n",
    "      print(\"--\")\n",
    "\n",
    "for l_database in my_client.databases():\n",
    "   print(\"DB ID: \", l_database.database_id, \"     DB Name: \", l_database.name)\n"
   ]
  },
  {
   "cell_type": "code",
   "execution_count": null,
   "id": "a3b3bc00-fafb-481d-ba5a-8b52ae7d6e79",
   "metadata": {},
   "outputs": [],
   "source": [
    "\n",
    "#  CREATE DATABASE\n",
    "\n",
    "my_database = my_client.create_database(name=DB_NAME)\n",
    "\n",
    "print(my_database.database_id)\n"
   ]
  },
  {
   "cell_type": "code",
   "execution_count": null,
   "id": "b8ba088b-2ec5-4b2a-8171-3c87ddffb47c",
   "metadata": {},
   "outputs": [],
   "source": [
    "\n",
    "#  CREATE GRAPH\n",
    "\n",
    "my_graph = my_client.get_database(name=DB_NAME).create_graph(name=GRAPH_NAME, num_partitions=NUM_PARTITIONS)\n",
    "\n",
    "print(my_graph)\n"
   ]
  },
  {
   "cell_type": "code",
   "execution_count": 4,
   "id": "863f948b-cec2-42fb-9287-2a3bcf3e8b39",
   "metadata": {},
   "outputs": [
    {
     "name": "stdout",
     "output_type": "stream",
     "text": [
      "<_Graph my_graph, 9XsFVxEtTWkJCWAKvVVGUuAzf2J6xyG22QMsWB1WYB9a, 4>\n"
     ]
    }
   ],
   "source": [
    "\n",
    "#  CONNECT TO GRAPH\n",
    "\n",
    "my_graph, *_ = my_client.get_database(name=DB_NAME).find_graphs_by_name(GRAPH_NAME)\n",
    "\n",
    "print(my_graph)\n"
   ]
  },
  {
   "cell_type": "markdown",
   "id": "0f9a456b-e425-454d-83a2-5b2c3e7fa666",
   "metadata": {},
   "source": [
    "# Step 01:  Read CSVs .."
   ]
  },
  {
   "cell_type": "code",
   "execution_count": null,
   "id": "9c206d27-b884-4e61-b99b-22a7f415152e",
   "metadata": {},
   "outputs": [],
   "source": [
    "\n",
    "#  Read the CSVs as Step 01 towards populating our graph\n",
    "#\n",
    "\n",
    "l_folder   = \"./10_Data/\"\n",
    "\n",
    "\n",
    "#  Nodes\n",
    "#\n",
    "df_PatientVisitNode                       = pd.read_csv(l_folder + \"N_01_00_PatientVisit.txt\"                   , header = \"infer\", delimiter = \"|\")\n",
    "df_MedicalSpecialtyNode                   = pd.read_csv(l_folder + \"N_02_00_MedicalSpecialty.txt\"               , header = \"infer\", delimiter = \"|\")\n",
    "df_KeywordNode                            = pd.read_csv(l_folder + \"N_03_00_Keyword.txt\"                        , header = \"infer\", delimiter = \"|\")\n",
    "   #\n",
    "df_UmlsEntityNode                         = pd.read_csv(l_folder + \"N_04_00_UmlsEntity.txt\"                     , header = \"infer\", delimiter = \"|\")\n",
    "df_UmlsVocabularyNode                     = pd.read_csv(l_folder + \"N_05_00_UmlsVocabulary.txt\"                 , header = \"infer\", delimiter = \"|\")\n",
    "\n",
    "l_nodecnt = (\n",
    "   len(df_PatientVisitNode    ) + \n",
    "   len(df_MedicalSpecialtyNode) + \n",
    "   len(df_KeywordNode         ) + \n",
    "   len(df_UmlsEntityNode      ) + \n",
    "   len(df_UmlsVocabularyNode  ) \n",
    "   )\n",
    "\n",
    "\n",
    "#  Edges\n",
    "#\n",
    "df_PatientVisitToMedicalSpecialtyEdge_N   = pd.read_csv(l_folder + \"E_01_00_N_PatientVistToMedicalSpecialty.txt\", header = \"infer\", delimiter = \"|\")\n",
    "df_PatientVisitToMedicalSpecialtyEdge_S   = pd.read_csv(l_folder + \"E_01_00_S_PatientVistToMedicalSpecialty.txt\", header = \"infer\", delimiter = \"|\")\n",
    "   #\n",
    "df_PatientVisitToKeywordEdge_N            = pd.read_csv(l_folder + \"E_02_00_N_PatientVistToKeyword.txt\"         , header = \"infer\", delimiter = \"|\")\n",
    "df_PatientVisitToKeywordEdge_S            = pd.read_csv(l_folder + \"E_02_00_S_PatientVistToKeyword.txt\"         , header = \"infer\", delimiter = \"|\")\n",
    "\n",
    "df_PatientVisitToEntityEdge_N             = pd.read_csv(l_folder + \"E_03_00_N_PatientVistToEntity.txt\"          , header = \"infer\", delimiter = \"|\")\n",
    "df_PatientVisitToEntityEdge_S             = pd.read_csv(l_folder + \"E_03_00_S_PatientVistToEntity.txt\"          , header = \"infer\", delimiter = \"|\")\n",
    "   #\n",
    "df_EntityToVocabularyEdge_N               = pd.read_csv(l_folder + \"E_04_00_N_PatientVistToVocabulary.txt\"      , header = \"infer\", delimiter = \"|\")\n",
    "df_EntityToVocabularyEdge_S               = pd.read_csv(l_folder + \"E_04_00_S_PatientVistToVocabulary.txt\"      , header = \"infer\", delimiter = \"|\")\n",
    "\n",
    "l_edgecnt = (\n",
    "   len(df_PatientVisitToMedicalSpecialtyEdge_N) +\n",
    "   len(df_PatientVisitToMedicalSpecialtyEdge_S) +\n",
    "   len(df_PatientVisitToKeywordEdge_N         ) +\n",
    "   len(df_PatientVisitToKeywordEdge_S         ) +\n",
    "   len(df_PatientVisitToEntityEdge_N          ) +\n",
    "   len(df_PatientVisitToEntityEdge_S          ) +\n",
    "   len(df_EntityToVocabularyEdge_N            ) +\n",
    "   len(df_EntityToVocabularyEdge_S            )\n",
    ")\n",
    "\n",
    "\n",
    "print(\"--\")\n"
   ]
  },
  {
   "cell_type": "markdown",
   "id": "f61d95ad-27ae-4dfa-ad2d-27ba92d2dbb8",
   "metadata": {},
   "source": [
    "#  Step 02: Create the Graph .."
   ]
  },
  {
   "cell_type": "code",
   "execution_count": null,
   "id": "0adb1735-4a5d-496a-bab4-da806a7624b7",
   "metadata": {},
   "outputs": [],
   "source": [
    "\n",
    "#  At this point we have several Pandas DataFrames; import them into the graph-\n",
    "#\n",
    "#     Why use Pandas DataFrames versus Dask ?\n",
    "#     \n",
    "#     .  The data is small enough\n",
    "#     .  Dask DataFrames currently (beta) have to be sourced from a shared/public drive\n",
    "#\n",
    "\n",
    "\n",
    "from katana.remote import import_data\n",
    "\n",
    "\n",
    "#  Just nodes\n",
    "#\n",
    "with import_data.DataFrameImporter(my_graph) as df_importer:   \n",
    "   df_importer.nodes_dataframe(\n",
    "      df_PatientVisitNode,\n",
    "      id_column             = \"id\",\n",
    "      id_space              = \"PatientVisit\",  \n",
    "      label                 = \"PatientVisit\",  \n",
    "      ) \n",
    "   df_importer.nodes_dataframe(\n",
    "      df_MedicalSpecialtyNode,\n",
    "      id_column             = \"id\",\n",
    "      id_space              = \"MedicalSpecialty\",  \n",
    "      label                 = \"MedicalSpecialty\",  \n",
    "      ) \n",
    "   df_importer.nodes_dataframe(\n",
    "      df_KeywordNode,\n",
    "      id_column             = \"id\",\n",
    "      id_space              = \"Keyword\",  \n",
    "      label                 = \"Keyword\",  \n",
    "      ) \n",
    "   df_importer.nodes_dataframe(\n",
    "      df_UmlsEntityNode,\n",
    "      id_column             = \"id\",\n",
    "      id_space              = \"UmlsEntity\",  \n",
    "      label                 = \"UmlsEntity\",  \n",
    "      ) \n",
    "   df_importer.nodes_dataframe(\n",
    "      df_UmlsVocabularyNode,\n",
    "      id_column             = \"id\",\n",
    "      id_space              = \"UmlsVocabulary\",  \n",
    "      label                 = \"UmlsVocabulary\",  \n",
    "      ) \n",
    "   df_importer.insert()\n",
    "    \n",
    "\n",
    "#  Just edges\n",
    "#\n",
    "with import_data.DataFrameImporter(my_graph) as df_importer:   \n",
    "   df_importer.edges_dataframe(\n",
    "      df_PatientVisitToEntityEdge_N, \n",
    "      source_id_space       = \"PatientVisit\", \n",
    "      destination_id_space  = \"UmlsEntity\",   \n",
    "      source_column         = \"start_id\",\n",
    "      destination_column    = \"end_id\",\n",
    "      type                  = \"VISIT_CONTAINS\"\n",
    "      )\n",
    "   df_importer.edges_dataframe(\n",
    "      df_PatientVisitToEntityEdge_S, \n",
    "      source_id_space       = \"UmlsEntity\", \n",
    "      destination_id_space  = \"PatientVisit\",   \n",
    "      source_column         = \"start_id\",\n",
    "      destination_column    = \"end_id\",\n",
    "      type                  = \"VISIT_CONTAINS\"\n",
    "      )\n",
    "   df_importer.edges_dataframe(\n",
    "      df_EntityToVocabularyEdge_N, \n",
    "      source_id_space       = \"UmlsEntity\", \n",
    "      destination_id_space  = \"UmlsVocabulary\",   \n",
    "      source_column         = \"start_id\",\n",
    "      destination_column    = \"end_id\",\n",
    "      type                  = \"ALSO_CODED_AS\"\n",
    "      )\n",
    "   df_importer.edges_dataframe(\n",
    "      df_EntityToVocabularyEdge_S, \n",
    "      source_id_space       = \"UmlsVocabulary\", \n",
    "      destination_id_space  = \"UmlsEntity\",   \n",
    "      source_column         = \"start_id\",\n",
    "      destination_column    = \"end_id\",\n",
    "      type                  = \"ALSO_CODED_AS\"\n",
    "      )\n",
    "\n",
    "   df_importer.edges_dataframe(\n",
    "      df_PatientVisitToMedicalSpecialtyEdge_N, \n",
    "      source_id_space       = \"PatientVisit\", \n",
    "      destination_id_space  = \"MedicalSpecialty\",   \n",
    "      source_column         = \"start_id\",\n",
    "      destination_column    = \"end_id\",\n",
    "      type                  = \"IS_OF_SPECIALTY\"\n",
    "      )\n",
    "   df_importer.edges_dataframe(\n",
    "      df_PatientVisitToMedicalSpecialtyEdge_S, \n",
    "      source_id_space       = \"MedicalSpecialty\", \n",
    "      destination_id_space  = \"PatientVisit\",   \n",
    "      source_column         = \"start_id\",\n",
    "      destination_column    = \"end_id\",\n",
    "      type                  = \"IS_OF_SPECIALTY\"\n",
    "      )\n",
    "\n",
    "   df_importer.edges_dataframe(\n",
    "      df_PatientVisitToKeywordEdge_N, \n",
    "      source_id_space       = \"PatientVisit\", \n",
    "      destination_id_space  = \"Keyword\",   \n",
    "      source_column         = \"start_id\",\n",
    "      destination_column    = \"end_id\",\n",
    "      type                  = \"IS_OF_KEYWORD\"\n",
    "      )\n",
    "   df_importer.edges_dataframe(\n",
    "      df_PatientVisitToKeywordEdge_S, \n",
    "      source_id_space       = \"Keyword\", \n",
    "      destination_id_space  = \"PatientVisit\",   \n",
    "      source_column         = \"start_id\",\n",
    "      destination_column    = \"end_id\",\n",
    "      type                  = \"IS_OF_KEYWORD\"\n",
    "      )\n",
    "    \n",
    "   df_importer.node_id_property_name(\"id\")\n",
    "   df_importer.insert()\n",
    "\n",
    "\n",
    "      ###\n",
    "\n",
    "\n",
    "print(\"\")\n",
    "print(\"\")\n",
    "   #\n",
    "print(\"Number of nodes in frame: %d   Numbers of edges in frame: %d\" % ( l_nodecnt,            l_edgecnt            ))\n",
    "print(\"Number of nodes in graph: %d   Numbers of edges in graph: %d\" % ( my_graph.num_nodes(), my_graph.num_edges() ))\n",
    "   #\n",
    "print(\"\")\n",
    "print(\"--\")\n",
    "\n",
    "\n",
    "#  Sample ouptut,\n",
    "#\n",
    "#     Number of nodes in frame: 75703   Numbers of edges in frame: 1145176\n",
    "#     \n",
    "#     Number of nodes in graph: 75703   Numbers of edges in graph: 1145176\n"
   ]
  },
  {
   "cell_type": "markdown",
   "id": "e721f96b-147e-4ed6-ad3c-d4621dca8565",
   "metadata": {},
   "source": [
    "#  Step 00:  Checking Results"
   ]
  },
  {
   "cell_type": "code",
   "execution_count": 5,
   "id": "30796d4e-2cba-46da-bf2d-8cf3ce54cfaf",
   "metadata": {},
   "outputs": [
    {
     "data": {
      "application/vnd.jupyter.widget-view+json": {
       "model_id": "3118b4684ef441b0a113f963097cfbbb",
       "version_major": 2,
       "version_minor": 0
      },
      "text/plain": [
       "          0/? [?op/s]"
      ]
     },
     "metadata": {},
     "output_type": "display_data"
    },
    {
     "data": {
      "application/vnd.jupyter.widget-view+json": {
       "model_id": "c8eb70c19b8446a98ed7208d9ea23bc8",
       "version_major": 2,
       "version_minor": 0
      },
      "text/plain": [
       "          0/? [?op/s]"
      ]
     },
     "metadata": {},
     "output_type": "display_data"
    },
    {
     "data": {
      "application/vnd.jupyter.widget-view+json": {
       "model_id": "7029f12800bc4095b5f38d485844e107",
       "version_major": 2,
       "version_minor": 0
      },
      "text/plain": [
       "VBox(children=(HTML(value='\\n                <style>\\n                #jp-main-content-panel .widget-container…"
      ]
     },
     "metadata": {},
     "output_type": "display_data"
    }
   ],
   "source": [
    "\n",
    "#  Produce a visual graph\n",
    "\n",
    "from katana_visualization_widget import GraphVisOptions, NodeVisOption, EdgeVisOption, ANY\n",
    "\n",
    "l_options = GraphVisOptions(\n",
    "   node_options = [\n",
    "      NodeVisOption(\"PatientVisit\",     label=\"sample_name\"      ),\n",
    "      NodeVisOption(\"UmlsEntity\",       label=\"id\"               ),\n",
    "      NodeVisOption(\"UmlsVocabulary\",   label=\"id\"               ),\n",
    "      NodeVisOption(\"Keyword\",          label=\"keyword\"          ),\n",
    "      NodeVisOption(\"MedicalSpecialty\", label=\"medical_specialty\"),\n",
    "   ],\n",
    "   #  edge_options = [\n",
    "   #     EdgeVisOption([\"VISIT_CONTAINS\"], label=\"start_id\"),\n",
    "   #     EdgeVisOption([\"ALSO_CODED_AS\" ], label=\"start_id\"),\n",
    "   #  ]\n",
    "   )\n",
    "    \n",
    "    \n",
    "l_result = my_graph.query(\"\"\"\n",
    "\n",
    "   MATCH (n) - [r] -> (m)\n",
    "   RETURN n, r, m\n",
    "   LIMIT 1000\n",
    "   \n",
    "   \"\"\",\n",
    "   contextualize=True)\n",
    "\n",
    "l_result.view(graph_vis_options = l_options)\n"
   ]
  },
  {
   "cell_type": "markdown",
   "id": "0e978423-cbc7-4012-bf72-4f8d74b918b9",
   "metadata": {},
   "source": [
    "<div> \n",
    "<img src=\"./01_Images/Results_01.png\" alt=\"Drawing\" style=\"width: 800px;\"/>\n",
    "</div>"
   ]
  },
  {
   "cell_type": "code",
   "execution_count": 6,
   "id": "07b4a44c-9d89-4306-b8c0-67156a79a537",
   "metadata": {},
   "outputs": [
    {
     "data": {
      "application/vnd.jupyter.widget-view+json": {
       "model_id": "d2c99698f8fa4563a584cf9490990f58",
       "version_major": 2,
       "version_minor": 0
      },
      "text/plain": [
       "          0/? [?op/s]"
      ]
     },
     "metadata": {},
     "output_type": "display_data"
    },
    {
     "ename": "OperationError",
     "evalue": "G7mD6XmZ5Sqi4zLKSqAVSLa7g3qNdBQAC8MkpgpgwWq2-3NVngVgbtEbqxgMmG backtrace (QueryOperation.cpp:67): backtrace (Network.h:331): backtrace (QueryOperation.cpp:70): backtrace (QueryClient.cpp:571): opgraph check failed (OpGraph.cpp:458): Symbol Resolution Pass (OpGraphErrorChecker.cpp:12): backtrace (SymbolResolutionChecker.cpp:629): backtrace (OpGraph.cpp:716): backtrace (OpGraph.cpp:716): backtrace (OpGraph.cpp:712): backtrace (OpGraph.cpp:692): backtrace (SymbolResolutionChecker.cpp:223): backtrace (SymbolResolutionChecker.cpp:556): variable name ms is undefined (SymbolResolutionChecker.cpp:441): TCK = SyntaxError:UndefinedVariable\nKatana = NameError:UndefinedVariable: TCK = SyntaxError:UndefinedVariable\nKatana = NameError:UndefinedVariable: TCK = SyntaxError:UndefinedVariable\nKatana = NameError:UndefinedVariable",
     "output_type": "error",
     "traceback": [
      "\u001b[0;31m---------------------------------------------------------------------------\u001b[0m",
      "\u001b[0;31mOperationError\u001b[0m                            Traceback (most recent call last)",
      "Cell \u001b[0;32mIn [6], line 20\u001b[0m\n\u001b[1;32m      3\u001b[0m \u001b[38;5;28;01mfrom\u001b[39;00m \u001b[38;5;21;01mkatana_visualization_widget\u001b[39;00m \u001b[38;5;28;01mimport\u001b[39;00m GraphVisOptions, NodeVisOption, EdgeVisOption, ANY\n\u001b[1;32m      5\u001b[0m l_options \u001b[38;5;241m=\u001b[39m GraphVisOptions(\n\u001b[1;32m      6\u001b[0m    node_options \u001b[38;5;241m=\u001b[39m [\n\u001b[1;32m      7\u001b[0m       NodeVisOption(\u001b[38;5;124m\"\u001b[39m\u001b[38;5;124mPatientVisit\u001b[39m\u001b[38;5;124m\"\u001b[39m,     label\u001b[38;5;241m=\u001b[39m\u001b[38;5;124m\"\u001b[39m\u001b[38;5;124msample_name\u001b[39m\u001b[38;5;124m\"\u001b[39m      ),\n\u001b[0;32m   (...)\u001b[0m\n\u001b[1;32m     16\u001b[0m    \u001b[38;5;66;03m#  ]\u001b[39;00m\n\u001b[1;32m     17\u001b[0m    )\n\u001b[0;32m---> 20\u001b[0m l_result \u001b[38;5;241m=\u001b[39m \u001b[43mmy_graph\u001b[49m\u001b[38;5;241;43m.\u001b[39;49m\u001b[43mquery\u001b[49m\u001b[43m(\u001b[49m\u001b[38;5;124;43m\"\"\"\u001b[39;49m\n\u001b[1;32m     21\u001b[0m \n\u001b[1;32m     22\u001b[0m \u001b[38;5;124;43m   MATCH (pv: PatientVisit) - [vc: VISIT_CONTAINS] - (ue: UmlsEntity) - [aca: ALSO_CODED_AS] -> (uv: UmlsVocabulary)\u001b[39;49m\n\u001b[1;32m     23\u001b[0m \u001b[38;5;124;43m   WHERE\u001b[39;49m\n\u001b[1;32m     24\u001b[0m \u001b[38;5;124;43m      (ms: MedicalSpecialty) - [ios: IS_OF_SPECIALTY] - (pv: PatientVisit)  // - [iok: IS_OF_KEYWORD] - (k: Keyword)\u001b[39;49m\n\u001b[1;32m     25\u001b[0m \u001b[38;5;124;43m   AND\u001b[39;49m\n\u001b[1;32m     26\u001b[0m \u001b[38;5;124;43m      (pv.id = \u001b[39;49m\u001b[38;5;124;43m'\u001b[39;49m\u001b[38;5;124;43mPV-4001\u001b[39;49m\u001b[38;5;124;43m'\u001b[39;49m\u001b[38;5;124;43m)\u001b[39;49m\n\u001b[1;32m     27\u001b[0m \u001b[38;5;124;43m   RETURN pv, vc, ue, ms, ios, iok, k\u001b[39;49m\n\u001b[1;32m     28\u001b[0m \u001b[38;5;124;43m   \u001b[39;49m\n\u001b[1;32m     29\u001b[0m \u001b[38;5;124;43m   \u001b[39;49m\u001b[38;5;124;43m\"\"\"\u001b[39;49m\u001b[43m,\u001b[49m\n\u001b[1;32m     30\u001b[0m \u001b[43m   \u001b[49m\u001b[43mcontextualize\u001b[49m\u001b[38;5;241;43m=\u001b[39;49m\u001b[38;5;28;43;01mTrue\u001b[39;49;00m\u001b[43m)\u001b[49m\n\u001b[1;32m     32\u001b[0m l_result\u001b[38;5;241m.\u001b[39mview(graph_vis_options \u001b[38;5;241m=\u001b[39m l_options)\n",
      "File \u001b[0;32m/opt/conda/lib/python3.8/site-packages/katana_enterprise/async_to_sync.py:249\u001b[0m, in \u001b[0;36mAsyncToSync.<locals>.do_wrap.<locals>.wrapper\u001b[0;34m(self, *args, **kwargs)\u001b[0m\n\u001b[1;32m    246\u001b[0m \u001b[38;5;129m@wraps\u001b[39m(underlying_func)\n\u001b[1;32m    247\u001b[0m \u001b[38;5;28;01mdef\u001b[39;00m \u001b[38;5;21mwrapper\u001b[39m(\u001b[38;5;28mself\u001b[39m, \u001b[38;5;241m*\u001b[39margs, \u001b[38;5;241m*\u001b[39m\u001b[38;5;241m*\u001b[39mkwargs):\n\u001b[1;32m    248\u001b[0m     \u001b[38;5;28;01mreturn\u001b[39;00m registry\u001b[38;5;241m.\u001b[39masync_to_sync(\n\u001b[0;32m--> 249\u001b[0m         \u001b[43munderlying_func\u001b[49m\u001b[43m(\u001b[49m\n\u001b[1;32m    250\u001b[0m \u001b[43m            \u001b[49m\u001b[43mget_self_func\u001b[49m\u001b[43m(\u001b[49m\u001b[38;5;28;43mself\u001b[39;49m\u001b[43m)\u001b[49m\u001b[43m,\u001b[49m\n\u001b[1;32m    251\u001b[0m \u001b[43m            \u001b[49m\u001b[38;5;241;43m*\u001b[39;49m\u001b[43m(\u001b[49m\u001b[43mregistry\u001b[49m\u001b[38;5;241;43m.\u001b[39;49m\u001b[43msync_to_async\u001b[49m\u001b[43m(\u001b[49m\u001b[43ma\u001b[49m\u001b[43m)\u001b[49m\u001b[43m \u001b[49m\u001b[38;5;28;43;01mfor\u001b[39;49;00m\u001b[43m \u001b[49m\u001b[43ma\u001b[49m\u001b[43m \u001b[49m\u001b[38;5;129;43;01min\u001b[39;49;00m\u001b[43m \u001b[49m\u001b[43margs\u001b[49m\u001b[43m)\u001b[49m\u001b[43m,\u001b[49m\n\u001b[1;32m    252\u001b[0m \u001b[43m            \u001b[49m\u001b[38;5;241;43m*\u001b[39;49m\u001b[38;5;241;43m*\u001b[39;49m\u001b[43m{\u001b[49m\u001b[43mk\u001b[49m\u001b[43m:\u001b[49m\u001b[43m \u001b[49m\u001b[43mregistry\u001b[49m\u001b[38;5;241;43m.\u001b[39;49m\u001b[43msync_to_async\u001b[49m\u001b[43m(\u001b[49m\u001b[43mv\u001b[49m\u001b[43m)\u001b[49m\u001b[43m \u001b[49m\u001b[38;5;28;43;01mfor\u001b[39;49;00m\u001b[43m \u001b[49m\u001b[43mk\u001b[49m\u001b[43m,\u001b[49m\u001b[43m \u001b[49m\u001b[43mv\u001b[49m\u001b[43m \u001b[49m\u001b[38;5;129;43;01min\u001b[39;49;00m\u001b[43m \u001b[49m\u001b[43mkwargs\u001b[49m\u001b[38;5;241;43m.\u001b[39;49m\u001b[43mitems\u001b[49m\u001b[43m(\u001b[49m\u001b[43m)\u001b[49m\u001b[43m}\u001b[49m\u001b[43m,\u001b[49m\n\u001b[1;32m    253\u001b[0m \u001b[43m        \u001b[49m\u001b[43m)\u001b[49m\n\u001b[1;32m    254\u001b[0m     )\n",
      "File \u001b[0;32m/opt/conda/lib/python3.8/site-packages/katana_enterprise/async_to_sync.py:176\u001b[0m, in \u001b[0;36masync_to_sync.<locals>.wrapper\u001b[0;34m(timeout, *args, **kwargs)\u001b[0m\n\u001b[1;32m    166\u001b[0m     registry \u001b[38;5;241m=\u001b[39m AsyncToSyncClassRegistry\u001b[38;5;241m.\u001b[39mget()\n\u001b[1;32m    167\u001b[0m     \u001b[38;5;28;01mreturn\u001b[39;00m registry\u001b[38;5;241m.\u001b[39masync_to_sync(\n\u001b[1;32m    168\u001b[0m         wait_for(\n\u001b[1;32m    169\u001b[0m             async_func(\n\u001b[0;32m   (...)\u001b[0m\n\u001b[1;32m    174\u001b[0m         )\n\u001b[1;32m    175\u001b[0m     )\n\u001b[0;32m--> 176\u001b[0m \u001b[38;5;28;01mreturn\u001b[39;00m \u001b[43mwait_for\u001b[49m\u001b[43m(\u001b[49m\u001b[43masync_func\u001b[49m\u001b[43m(\u001b[49m\u001b[38;5;241;43m*\u001b[39;49m\u001b[43margs\u001b[49m\u001b[43m,\u001b[49m\u001b[43m \u001b[49m\u001b[38;5;241;43m*\u001b[39;49m\u001b[38;5;241;43m*\u001b[39;49m\u001b[43mkwargs\u001b[49m\u001b[43m)\u001b[49m\u001b[43m,\u001b[49m\u001b[43m \u001b[49m\u001b[43mtimeout\u001b[49m\u001b[38;5;241;43m=\u001b[39;49m\u001b[43mtimeout\u001b[49m\u001b[43m)\u001b[49m\n",
      "File \u001b[0;32m/opt/conda/lib/python3.8/site-packages/katana_enterprise/async_to_sync.py:147\u001b[0m, in \u001b[0;36mwait_for\u001b[0;34m(coro, timeout)\u001b[0m\n\u001b[1;32m    145\u001b[0m \u001b[38;5;28;01mtry\u001b[39;00m:\n\u001b[1;32m    146\u001b[0m     future \u001b[38;5;241m=\u001b[39m asyncio\u001b[38;5;241m.\u001b[39mrun_coroutine_threadsafe(timeout_coro, loop\u001b[38;5;241m=\u001b[39mAsyncRunnerThread\u001b[38;5;241m.\u001b[39mget()\u001b[38;5;241m.\u001b[39mloop)\n\u001b[0;32m--> 147\u001b[0m     \u001b[38;5;28;01mreturn\u001b[39;00m \u001b[43mfuture\u001b[49m\u001b[38;5;241;43m.\u001b[39;49m\u001b[43mresult\u001b[49m\u001b[43m(\u001b[49m\u001b[43m)\u001b[49m\n\u001b[1;32m    148\u001b[0m \u001b[38;5;28;01mexcept\u001b[39;00m \u001b[38;5;167;01mKeyboardInterrupt\u001b[39;00m:\n\u001b[1;32m    149\u001b[0m     inner_future\u001b[38;5;241m.\u001b[39mcancel()\n",
      "File \u001b[0;32m/opt/conda/lib/python3.8/concurrent/futures/_base.py:444\u001b[0m, in \u001b[0;36mFuture.result\u001b[0;34m(self, timeout)\u001b[0m\n\u001b[1;32m    442\u001b[0m     \u001b[38;5;28;01mraise\u001b[39;00m CancelledError()\n\u001b[1;32m    443\u001b[0m \u001b[38;5;28;01melif\u001b[39;00m \u001b[38;5;28mself\u001b[39m\u001b[38;5;241m.\u001b[39m_state \u001b[38;5;241m==\u001b[39m FINISHED:\n\u001b[0;32m--> 444\u001b[0m     \u001b[38;5;28;01mreturn\u001b[39;00m \u001b[38;5;28;43mself\u001b[39;49m\u001b[38;5;241;43m.\u001b[39;49m\u001b[43m__get_result\u001b[49m\u001b[43m(\u001b[49m\u001b[43m)\u001b[49m\n\u001b[1;32m    445\u001b[0m \u001b[38;5;28;01melse\u001b[39;00m:\n\u001b[1;32m    446\u001b[0m     \u001b[38;5;28;01mraise\u001b[39;00m \u001b[38;5;167;01mTimeoutError\u001b[39;00m()\n",
      "File \u001b[0;32m/opt/conda/lib/python3.8/concurrent/futures/_base.py:389\u001b[0m, in \u001b[0;36mFuture.__get_result\u001b[0;34m(self)\u001b[0m\n\u001b[1;32m    387\u001b[0m \u001b[38;5;28;01mif\u001b[39;00m \u001b[38;5;28mself\u001b[39m\u001b[38;5;241m.\u001b[39m_exception:\n\u001b[1;32m    388\u001b[0m     \u001b[38;5;28;01mtry\u001b[39;00m:\n\u001b[0;32m--> 389\u001b[0m         \u001b[38;5;28;01mraise\u001b[39;00m \u001b[38;5;28mself\u001b[39m\u001b[38;5;241m.\u001b[39m_exception\n\u001b[1;32m    390\u001b[0m     \u001b[38;5;28;01mfinally\u001b[39;00m:\n\u001b[1;32m    391\u001b[0m         \u001b[38;5;66;03m# Break a reference cycle with the exception in self._exception\u001b[39;00m\n\u001b[1;32m    392\u001b[0m         \u001b[38;5;28mself\u001b[39m \u001b[38;5;241m=\u001b[39m \u001b[38;5;28;01mNone\u001b[39;00m\n",
      "File \u001b[0;32m/opt/conda/lib/python3.8/asyncio/tasks.py:455\u001b[0m, in \u001b[0;36mwait_for\u001b[0;34m(fut, timeout, loop)\u001b[0m\n\u001b[1;32m    450\u001b[0m     warnings\u001b[38;5;241m.\u001b[39mwarn(\u001b[38;5;124m\"\u001b[39m\u001b[38;5;124mThe loop argument is deprecated since Python 3.8, \u001b[39m\u001b[38;5;124m\"\u001b[39m\n\u001b[1;32m    451\u001b[0m                   \u001b[38;5;124m\"\u001b[39m\u001b[38;5;124mand scheduled for removal in Python 3.10.\u001b[39m\u001b[38;5;124m\"\u001b[39m,\n\u001b[1;32m    452\u001b[0m                   \u001b[38;5;167;01mDeprecationWarning\u001b[39;00m, stacklevel\u001b[38;5;241m=\u001b[39m\u001b[38;5;241m2\u001b[39m)\n\u001b[1;32m    454\u001b[0m \u001b[38;5;28;01mif\u001b[39;00m timeout \u001b[38;5;129;01mis\u001b[39;00m \u001b[38;5;28;01mNone\u001b[39;00m:\n\u001b[0;32m--> 455\u001b[0m     \u001b[38;5;28;01mreturn\u001b[39;00m \u001b[38;5;28;01mawait\u001b[39;00m fut\n\u001b[1;32m    457\u001b[0m \u001b[38;5;28;01mif\u001b[39;00m timeout \u001b[38;5;241m<\u001b[39m\u001b[38;5;241m=\u001b[39m \u001b[38;5;241m0\u001b[39m:\n\u001b[1;32m    458\u001b[0m     fut \u001b[38;5;241m=\u001b[39m ensure_future(fut, loop\u001b[38;5;241m=\u001b[39mloop)\n",
      "File \u001b[0;32m/opt/conda/lib/python3.8/site-packages/katana_enterprise/remote/aio/graph.py:299\u001b[0m, in \u001b[0;36mGraph.query\u001b[0;34m(self, query, memory_usage_factor, contextualize, **parameters)\u001b[0m\n\u001b[1;32m    296\u001b[0m \u001b[38;5;28;01mif\u001b[39;00m memory_usage_factor:\n\u001b[1;32m    297\u001b[0m     parameters[\u001b[38;5;124m\"\u001b[39m\u001b[38;5;124m__katana_internal_match_batch_limit_scale_factor\u001b[39m\u001b[38;5;124m\"\u001b[39m] \u001b[38;5;241m=\u001b[39m memory_usage_factor\n\u001b[0;32m--> 299\u001b[0m response \u001b[38;5;241m=\u001b[39m \u001b[38;5;28;01mawait\u001b[39;00m \u001b[38;5;28mself\u001b[39m\u001b[38;5;241m.\u001b[39m_run_query(query, parameters\u001b[38;5;241m=\u001b[39mparameters)\n\u001b[1;32m    300\u001b[0m rows \u001b[38;5;241m=\u001b[39m response[\u001b[38;5;124m\"\u001b[39m\u001b[38;5;124mresult\u001b[39m\u001b[38;5;124m\"\u001b[39m][\u001b[38;5;124m\"\u001b[39m\u001b[38;5;124mrows\u001b[39m\u001b[38;5;124m\"\u001b[39m]\n\u001b[1;32m    301\u001b[0m columns \u001b[38;5;241m=\u001b[39m response[\u001b[38;5;124m\"\u001b[39m\u001b[38;5;124mresult\u001b[39m\u001b[38;5;124m\"\u001b[39m][\u001b[38;5;124m\"\u001b[39m\u001b[38;5;124mcolumns\u001b[39m\u001b[38;5;124m\"\u001b[39m]\n",
      "File \u001b[0;32m/opt/conda/lib/python3.8/site-packages/katana_enterprise/remote/aio/graph.py:277\u001b[0m, in \u001b[0;36mGraph._run_query\u001b[0;34m(self, query, parameters, parquet)\u001b[0m\n\u001b[1;32m    273\u001b[0m     data[\u001b[38;5;124m\"\u001b[39m\u001b[38;5;124mcypher\u001b[39m\u001b[38;5;124m\"\u001b[39m][\u001b[38;5;124m\"\u001b[39m\u001b[38;5;124moutput_type\u001b[39m\u001b[38;5;124m\"\u001b[39m] \u001b[38;5;241m=\u001b[39m \u001b[38;5;124m\"\u001b[39m\u001b[38;5;124mParquet\u001b[39m\u001b[38;5;124m\"\u001b[39m\n\u001b[1;32m    275\u001b[0m data \u001b[38;5;241m=\u001b[39m \u001b[38;5;28mself\u001b[39m\u001b[38;5;241m.\u001b[39m_add_operation_metadata(data)\n\u001b[0;32m--> 277\u001b[0m res \u001b[38;5;241m=\u001b[39m \u001b[38;5;28;01mawait\u001b[39;00m \u001b[38;5;28mself\u001b[39m\u001b[38;5;241m.\u001b[39m_client\u001b[38;5;241m.\u001b[39m_run_on_graph_and_wait(\u001b[38;5;28mself\u001b[39m, data)\n\u001b[1;32m    279\u001b[0m \u001b[38;5;28;01mreturn\u001b[39;00m res\n",
      "File \u001b[0;32m/opt/conda/lib/python3.8/site-packages/katana_enterprise/remote/aio/client.py:326\u001b[0m, in \u001b[0;36mDatabase._run_on_graph_and_wait\u001b[0;34m(self, graph, data)\u001b[0m\n\u001b[1;32m    324\u001b[0m \u001b[38;5;28;01mwhile\u001b[39;00m attempt \u001b[38;5;241m<\u001b[39m max_attempts:\n\u001b[1;32m    325\u001b[0m     \u001b[38;5;28;01mtry\u001b[39;00m:\n\u001b[0;32m--> 326\u001b[0m         \u001b[38;5;28;01mreturn\u001b[39;00m \u001b[38;5;28;01mawait\u001b[39;00m \u001b[38;5;28mself\u001b[39m\u001b[38;5;241m.\u001b[39m_wait_op(op)\n\u001b[1;32m    327\u001b[0m     \u001b[38;5;28;01mexcept\u001b[39;00m errors\u001b[38;5;241m.\u001b[39mServerCommunicationError:\n\u001b[1;32m    328\u001b[0m         logging\u001b[38;5;241m.\u001b[39mwarning(\u001b[38;5;124mf\u001b[39m\u001b[38;5;124m\"\u001b[39m\u001b[38;5;124merror while waiting, retrying (attempt=\u001b[39m\u001b[38;5;132;01m{\u001b[39;00mattempt\u001b[38;5;132;01m}\u001b[39;00m\u001b[38;5;124m)\u001b[39m\u001b[38;5;124m\"\u001b[39m)\n",
      "File \u001b[0;32m/opt/conda/lib/python3.8/site-packages/katana_enterprise/remote/aio/client.py:263\u001b[0m, in \u001b[0;36mDatabase._wait_op\u001b[0;34m(self, op)\u001b[0m\n\u001b[1;32m    261\u001b[0m \u001b[38;5;28;01masync\u001b[39;00m \u001b[38;5;28;01mwith\u001b[39;00m _progress_bar() \u001b[38;5;28;01mas\u001b[39;00m pbar:\n\u001b[1;32m    262\u001b[0m     \u001b[38;5;28;01masync\u001b[39;00m \u001b[38;5;28;01mwith\u001b[39;00m wait_fn(operation_id) \u001b[38;5;28;01mas\u001b[39;00m stream:\n\u001b[0;32m--> 263\u001b[0m         \u001b[38;5;28;01masync\u001b[39;00m \u001b[38;5;28;01mfor\u001b[39;00m update \u001b[38;5;129;01min\u001b[39;00m stream:\n\u001b[1;32m    264\u001b[0m             status \u001b[38;5;241m=\u001b[39m update[\u001b[38;5;124m\"\u001b[39m\u001b[38;5;124mstatus\u001b[39m\u001b[38;5;124m\"\u001b[39m]\n\u001b[1;32m    266\u001b[0m             \u001b[38;5;28;01mfor\u001b[39;00m entry \u001b[38;5;129;01min\u001b[39;00m update\u001b[38;5;241m.\u001b[39mget(\u001b[38;5;124m\"\u001b[39m\u001b[38;5;124mprogress\u001b[39m\u001b[38;5;124m\"\u001b[39m, []):\n",
      "File \u001b[0;32m/opt/conda/lib/python3.8/site-packages/asyncstdlib/builtins.py:444\u001b[0m, in \u001b[0;36mmap\u001b[0;34m(function, *iterable)\u001b[0m\n\u001b[1;32m    442\u001b[0m \u001b[38;5;28;01masync\u001b[39;00m \u001b[38;5;28;01mwith\u001b[39;00m ScopedIter(\u001b[38;5;28mzip\u001b[39m(\u001b[38;5;241m*\u001b[39miterable)) \u001b[38;5;28;01mas\u001b[39;00m args_iter:\n\u001b[1;32m    443\u001b[0m     \u001b[38;5;28;01masync\u001b[39;00m \u001b[38;5;28;01mfor\u001b[39;00m args \u001b[38;5;129;01min\u001b[39;00m args_iter:\n\u001b[0;32m--> 444\u001b[0m         result \u001b[38;5;241m=\u001b[39m \u001b[43mfunction\u001b[49m\u001b[43m(\u001b[49m\u001b[38;5;241;43m*\u001b[39;49m\u001b[43margs\u001b[49m\u001b[43m)\u001b[49m\n\u001b[1;32m    445\u001b[0m         \u001b[38;5;28;01myield\u001b[39;00m \u001b[38;5;28;01mawait\u001b[39;00m result\n",
      "File \u001b[0;32m/opt/conda/lib/python3.8/site-packages/asyncstdlib/_core.py:117\u001b[0m, in \u001b[0;36mAwaitify.__call__\u001b[0;34m(self, *args, **kwargs)\u001b[0m\n\u001b[1;32m    115\u001b[0m async_call \u001b[38;5;241m=\u001b[39m \u001b[38;5;28mself\u001b[39m\u001b[38;5;241m.\u001b[39m_async_call\n\u001b[1;32m    116\u001b[0m \u001b[38;5;28;01mif\u001b[39;00m async_call \u001b[38;5;129;01mis\u001b[39;00m \u001b[38;5;28;01mNone\u001b[39;00m:\n\u001b[0;32m--> 117\u001b[0m     value \u001b[38;5;241m=\u001b[39m \u001b[38;5;28;43mself\u001b[39;49m\u001b[38;5;241;43m.\u001b[39;49m\u001b[43m__wrapped__\u001b[49m\u001b[43m(\u001b[49m\u001b[38;5;241;43m*\u001b[39;49m\u001b[43margs\u001b[49m\u001b[43m,\u001b[49m\u001b[43m \u001b[49m\u001b[38;5;241;43m*\u001b[39;49m\u001b[38;5;241;43m*\u001b[39;49m\u001b[43mkwargs\u001b[49m\u001b[43m)\u001b[49m\n\u001b[1;32m    118\u001b[0m     \u001b[38;5;28;01mif\u001b[39;00m \u001b[38;5;28misinstance\u001b[39m(value, Awaitable):\n\u001b[1;32m    119\u001b[0m         \u001b[38;5;28mself\u001b[39m\u001b[38;5;241m.\u001b[39m_async_call \u001b[38;5;241m=\u001b[39m \u001b[38;5;28mself\u001b[39m\u001b[38;5;241m.\u001b[39m__wrapped__  \u001b[38;5;66;03m# type: ignore\u001b[39;00m\n",
      "File \u001b[0;32m/opt/conda/lib/python3.8/site-packages/katana_enterprise/rpc/client.py:169\u001b[0m, in \u001b[0;36m_OperationClient._event_stream.<locals>.parse_stream\u001b[0;34m(line)\u001b[0m\n\u001b[1;32m    166\u001b[0m status \u001b[38;5;241m=\u001b[39m data[\u001b[38;5;124m\"\u001b[39m\u001b[38;5;124mstatus\u001b[39m\u001b[38;5;124m\"\u001b[39m]\n\u001b[1;32m    168\u001b[0m \u001b[38;5;28;01mif\u001b[39;00m status \u001b[38;5;241m==\u001b[39m \u001b[38;5;124m\"\u001b[39m\u001b[38;5;124mFailed\u001b[39m\u001b[38;5;124m\"\u001b[39m:\n\u001b[0;32m--> 169\u001b[0m     \u001b[38;5;28;01mraise\u001b[39;00m errors\u001b[38;5;241m.\u001b[39mOperationError(operation_id \u001b[38;5;241m+\u001b[39m \u001b[38;5;124m\"\u001b[39m\u001b[38;5;124m \u001b[39m\u001b[38;5;124m\"\u001b[39m \u001b[38;5;241m+\u001b[39m data[\u001b[38;5;124m\"\u001b[39m\u001b[38;5;124mstatus_message\u001b[39m\u001b[38;5;124m\"\u001b[39m])\n\u001b[1;32m    170\u001b[0m \u001b[38;5;28;01mif\u001b[39;00m status \u001b[38;5;241m==\u001b[39m \u001b[38;5;124m\"\u001b[39m\u001b[38;5;124mCanceled\u001b[39m\u001b[38;5;124m\"\u001b[39m:\n\u001b[1;32m    171\u001b[0m     \u001b[38;5;28;01mraise\u001b[39;00m errors\u001b[38;5;241m.\u001b[39mCanceledError()\n",
      "\u001b[0;31mOperationError\u001b[0m: G7mD6XmZ5Sqi4zLKSqAVSLa7g3qNdBQAC8MkpgpgwWq2-3NVngVgbtEbqxgMmG backtrace (QueryOperation.cpp:67): backtrace (Network.h:331): backtrace (QueryOperation.cpp:70): backtrace (QueryClient.cpp:571): opgraph check failed (OpGraph.cpp:458): Symbol Resolution Pass (OpGraphErrorChecker.cpp:12): backtrace (SymbolResolutionChecker.cpp:629): backtrace (OpGraph.cpp:716): backtrace (OpGraph.cpp:716): backtrace (OpGraph.cpp:712): backtrace (OpGraph.cpp:692): backtrace (SymbolResolutionChecker.cpp:223): backtrace (SymbolResolutionChecker.cpp:556): variable name ms is undefined (SymbolResolutionChecker.cpp:441): TCK = SyntaxError:UndefinedVariable\nKatana = NameError:UndefinedVariable: TCK = SyntaxError:UndefinedVariable\nKatana = NameError:UndefinedVariable: TCK = SyntaxError:UndefinedVariable\nKatana = NameError:UndefinedVariable"
     ]
    }
   ],
   "source": [
    "\n",
    "#  Produce a visual graph\n",
    "\n",
    "from katana_visualization_widget import GraphVisOptions, NodeVisOption, EdgeVisOption, ANY\n",
    "\n",
    "l_options = GraphVisOptions(\n",
    "   node_options = [\n",
    "      NodeVisOption(\"PatientVisit\",     label=\"sample_name\"      ),\n",
    "      NodeVisOption(\"UmlsEntity\",       label=\"id\"               ),\n",
    "      NodeVisOption(\"UmlsVocabulary\",   label=\"id\"               ),\n",
    "      NodeVisOption(\"Keyword\",          label=\"keyword\"          ),\n",
    "      NodeVisOption(\"MedicalSpecialty\", label=\"medical_specialty\"),\n",
    "   ],\n",
    "   #  edge_options = [\n",
    "   #     EdgeVisOption([\"VISIT_CONTAINS\"], label=\"start_id\"),\n",
    "   #     EdgeVisOption([\"ALSO_CODED_AS\" ], label=\"start_id\"),\n",
    "   #  ]\n",
    "   )\n",
    "    \n",
    "    \n",
    "l_result = my_graph.query(\"\"\"\n",
    "\n",
    "   MATCH (pv: PatientVisit) - [vc: VISIT_CONTAINS] - (ue: UmlsEntity) - [aca: ALSO_CODED_AS] -> (uv: UmlsVocabulary)\n",
    "   WHERE\n",
    "      (ms: MedicalSpecialty) - [ios: IS_OF_SPECIALTY] - (pv: PatientVisit)  // - [iok: IS_OF_KEYWORD] - (k: Keyword)\n",
    "   AND\n",
    "      (pv.id = 'PV-4001')\n",
    "   RETURN pv, vc, ue, ms, ios, iok, k\n",
    "   \n",
    "   \"\"\",\n",
    "   contextualize=True)\n",
    "\n",
    "l_result.view(graph_vis_options = l_options)\n",
    "\n",
    "\n",
    "\n"
   ]
  },
  {
   "cell_type": "markdown",
   "id": "a4b4c131-62ef-4449-8674-7e0109b9c8c5",
   "metadata": {},
   "source": [
    "<div> \n",
    "<img src=\"./01_Images/Results_02.png\" alt=\"Drawing\" style=\"width: 800px;\"/>\n",
    "</div>"
   ]
  },
  {
   "cell_type": "code",
   "execution_count": null,
   "id": "f89bebcb-a530-4a0a-b4a8-3a38926dfbb1",
   "metadata": {},
   "outputs": [],
   "source": [
    "\n"
   ]
  },
  {
   "cell_type": "code",
   "execution_count": null,
   "id": "5d607abb-6e9b-4dfd-9b10-302c237556d6",
   "metadata": {},
   "outputs": [],
   "source": [
    "\n"
   ]
  }
 ],
 "metadata": {
  "kernelspec": {
   "display_name": "Python 3 (ipykernel)",
   "language": "python",
   "name": "python3"
  },
  "language_info": {
   "codemirror_mode": {
    "name": "ipython",
    "version": 3
   },
   "file_extension": ".py",
   "mimetype": "text/x-python",
   "name": "python",
   "nbconvert_exporter": "python",
   "pygments_lexer": "ipython3",
   "version": "3.8.13"
  }
 },
 "nbformat": 4,
 "nbformat_minor": 5
}
