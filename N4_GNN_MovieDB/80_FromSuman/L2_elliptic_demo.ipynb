{
 "cells": [
  {
   "cell_type": "markdown",
   "metadata": {},
   "source": [
    "<div class=\"header\">\n",
    "  <img src=\"img/kg_logo_white_side.png\" alt=\"logo\" style=\"width: 300px;\"/>\n",
    "  <h1>Transaction Monitoring with Graph Neural Networks (End-to-end pipeline)</h1>\n",
    "</div>"
   ]
  },
  {
   "cell_type": "markdown",
   "metadata": {},
   "source": [
    "The Elliptic Data Set maps Bitcoin transactions to real entities belonging to licit categories (exchanges, wallet providers, miners, licit services, etc.) versus illicit ones (scams, malware, terrorist organizations, ransomware, Ponzi schemes, etc.). The task on the dataset is to classify the illicit and licit nodes in the graph.\n",
    "We will use Graph Neural Networks (GraphSAGE) to perform the node classification task. This demo shows the end-to-end pipeline that can be done directly on the Katana Graph platform. "
   ]
  },
  {
   "cell_type": "markdown",
   "metadata": {},
   "source": [
    "-------"
   ]
  },
  {
   "cell_type": "markdown",
   "metadata": {},
   "source": [
    "### Setup"
   ]
  },
  {
   "cell_type": "code",
   "execution_count": 1,
   "metadata": {},
   "outputs": [],
   "source": [
    "import os                                                                        \n",
    "import time                                                                      \n",
    "import json\n",
    "import uuid\n",
    "import pandas as pd\n",
    "import numpy\n",
    "import argparse\n",
    "from sklearn.metrics import f1_score\n",
    "import matplotlib.pyplot as plt\n",
    "#import xgboost\n",
    "from timeit import default_timer as timer\n",
    "import warnings\n",
    "warnings.filterwarnings('ignore')\n",
    "\n",
    "from katana import remote\n",
    "from katana.remote import import_data\n",
    "from katana.remote.import_data import Operation\n",
    "\n",
    "import dask.dataframe as dd\n",
    "from dask.distributed import Client\n",
    "#import dask_xgboost as dxgb\n",
    "import dask.array as da"
   ]
  },
  {
   "cell_type": "markdown",
   "metadata": {},
   "source": [
    "### Dask Dataframe Import"
   ]
  },
  {
   "cell_type": "code",
   "execution_count": 2,
   "metadata": {},
   "outputs": [],
   "source": [
    "tx_classes = \"gs://katana-demo-datasets/fsi/solution_raw_data/elliptic/elliptic_txs_classes.csv\"\n",
    "tx_edges = \"gs://katana-demo-datasets/fsi/solution_raw_data/elliptic/elliptic_txs_edgelist.csv\"\n",
    "tx_features = \"gs://katana-demo-datasets/fsi/solution_raw_data/elliptic/elliptic_txs_features.csv\""
   ]
  },
  {
   "cell_type": "code",
   "execution_count": 3,
   "metadata": {},
   "outputs": [],
   "source": [
    "feat_col_names = [\"account_id\", \"timestamp\"]\n",
    "local_feats_name = [f\"local_feat_{i}\" for i in range(2,95)]\n",
    "agg_feats_name = [f\"agg_feat_{i}\" for i in range(95,167)]\n",
    "feat_col_names.extend(local_feats_name)\n",
    "feat_col_names.extend(agg_feats_name)"
   ]
  },
  {
   "cell_type": "code",
   "execution_count": 4,
   "metadata": {},
   "outputs": [],
   "source": [
    "feat_types = {\n",
    "    \"class\": \"string\",\n",
    "    \"timestamp\": \"string\", \n",
    "    \"target\": \"float\",\n",
    "    \"node_type\": \"string\"\n",
    "}\n",
    "local_cols = {}\n",
    "for i in range(2,95):\n",
    "    local_cols[f\"local_feat_{i}\"] = \"float\"\n",
    "agg_cols = {}\n",
    "for i in range(95,167):\n",
    "    agg_cols[f\"agg_feat_{i}\"] = \"float\"\n",
    "feat_types.update(local_cols)\n",
    "feat_types.update(agg_cols)"
   ]
  },
  {
   "cell_type": "code",
   "execution_count": 5,
   "metadata": {},
   "outputs": [
    {
     "name": "stdout",
     "output_type": "stream",
     "text": [
      "CPU times: user 309 ms, sys: 83.9 ms, total: 393 ms\n",
      "Wall time: 1.28 s\n"
     ]
    }
   ],
   "source": [
    "%%time\n",
    "classes = dd.read_csv(tx_classes)\n",
    "edges = dd.read_csv(tx_edges)\n",
    "features = dd.read_csv(tx_features, header=None, names=feat_col_names)"
   ]
  },
  {
   "cell_type": "markdown",
   "metadata": {},
   "source": [
    "### Exploring the datasets"
   ]
  },
  {
   "cell_type": "code",
   "execution_count": 6,
   "metadata": {},
   "outputs": [
    {
     "data": {
      "text/plain": [
       "<AxesSubplot: >"
      ]
     },
     "execution_count": 6,
     "metadata": {},
     "output_type": "execute_result"
    },
    {
     "data": {
      "image/png": "[encoded data removed]",
      "text/plain": [
       "<Figure size 640x480 with 1 Axes>"
      ]
     },
     "metadata": {},
     "output_type": "display_data"
    }
   ],
   "source": [
    "classes['class'].value_counts().compute().plot(kind='bar')"
   ]
  },
  {
   "cell_type": "code",
   "execution_count": 7,
   "metadata": {},
   "outputs": [],
   "source": [
    "classes['target'] = classes['class'].map({'unknown': 0.0, '1': 1.0, '2': 0.0})\n",
    "classes['node_type'] = classes['class'].map({'unknown': 'Unclassified_Acct', '1': 'Classified_Acct', '2': 'Classified_Acct'})"
   ]
  },
  {
   "cell_type": "code",
   "execution_count": 8,
   "metadata": {},
   "outputs": [
    {
     "data": {
      "text/html": [
       "<div>\n",
       "<style scoped>\n",
       "    .dataframe tbody tr th:only-of-type {\n",
       "        vertical-align: middle;\n",
       "    }\n",
       "\n",
       "    .dataframe tbody tr th {\n",
       "        vertical-align: top;\n",
       "    }\n",
       "\n",
       "    .dataframe thead th {\n",
       "        text-align: right;\n",
       "    }\n",
       "</style>\n",
       "<table border=\"1\" class=\"dataframe\">\n",
       "  <thead>\n",
       "    <tr style=\"text-align: right;\">\n",
       "      <th></th>\n",
       "      <th>account_id</th>\n",
       "      <th>class</th>\n",
       "      <th>target</th>\n",
       "      <th>node_type</th>\n",
       "    </tr>\n",
       "  </thead>\n",
       "  <tbody>\n",
       "    <tr>\n",
       "      <th>0</th>\n",
       "      <td>230425980</td>\n",
       "      <td>unknown</td>\n",
       "      <td>0.0</td>\n",
       "      <td>Unclassified_Acct</td>\n",
       "    </tr>\n",
       "    <tr>\n",
       "      <th>1</th>\n",
       "      <td>5530458</td>\n",
       "      <td>unknown</td>\n",
       "      <td>0.0</td>\n",
       "      <td>Unclassified_Acct</td>\n",
       "    </tr>\n",
       "    <tr>\n",
       "      <th>2</th>\n",
       "      <td>232022460</td>\n",
       "      <td>unknown</td>\n",
       "      <td>0.0</td>\n",
       "      <td>Unclassified_Acct</td>\n",
       "    </tr>\n",
       "    <tr>\n",
       "      <th>3</th>\n",
       "      <td>232438397</td>\n",
       "      <td>2</td>\n",
       "      <td>0.0</td>\n",
       "      <td>Classified_Acct</td>\n",
       "    </tr>\n",
       "    <tr>\n",
       "      <th>4</th>\n",
       "      <td>230460314</td>\n",
       "      <td>unknown</td>\n",
       "      <td>0.0</td>\n",
       "      <td>Unclassified_Acct</td>\n",
       "    </tr>\n",
       "  </tbody>\n",
       "</table>\n",
       "</div>"
      ],
      "text/plain": [
       "   account_id    class  target          node_type\n",
       "0   230425980  unknown     0.0  Unclassified_Acct\n",
       "1     5530458  unknown     0.0  Unclassified_Acct\n",
       "2   232022460  unknown     0.0  Unclassified_Acct\n",
       "3   232438397        2     0.0    Classified_Acct\n",
       "4   230460314  unknown     0.0  Unclassified_Acct"
      ]
     },
     "execution_count": 8,
     "metadata": {},
     "output_type": "execute_result"
    }
   ],
   "source": [
    "classes = classes.rename(columns={\"txId\": \"account_id\"})  \n",
    "classes.head()"
   ]
  },
  {
   "cell_type": "code",
   "execution_count": 9,
   "metadata": {},
   "outputs": [
    {
     "data": {
      "text/html": [
       "<div>\n",
       "<style scoped>\n",
       "    .dataframe tbody tr th:only-of-type {\n",
       "        vertical-align: middle;\n",
       "    }\n",
       "\n",
       "    .dataframe tbody tr th {\n",
       "        vertical-align: top;\n",
       "    }\n",
       "\n",
       "    .dataframe thead th {\n",
       "        text-align: right;\n",
       "    }\n",
       "</style>\n",
       "<table border=\"1\" class=\"dataframe\">\n",
       "  <thead>\n",
       "    <tr style=\"text-align: right;\">\n",
       "      <th></th>\n",
       "      <th>account_id_src</th>\n",
       "      <th>account_id_dst</th>\n",
       "    </tr>\n",
       "  </thead>\n",
       "  <tbody>\n",
       "    <tr>\n",
       "      <th>0</th>\n",
       "      <td>230425980</td>\n",
       "      <td>5530458</td>\n",
       "    </tr>\n",
       "    <tr>\n",
       "      <th>1</th>\n",
       "      <td>232022460</td>\n",
       "      <td>232438397</td>\n",
       "    </tr>\n",
       "    <tr>\n",
       "      <th>2</th>\n",
       "      <td>230460314</td>\n",
       "      <td>230459870</td>\n",
       "    </tr>\n",
       "    <tr>\n",
       "      <th>3</th>\n",
       "      <td>230333930</td>\n",
       "      <td>230595899</td>\n",
       "    </tr>\n",
       "    <tr>\n",
       "      <th>4</th>\n",
       "      <td>232013274</td>\n",
       "      <td>232029206</td>\n",
       "    </tr>\n",
       "  </tbody>\n",
       "</table>\n",
       "</div>"
      ],
      "text/plain": [
       "   account_id_src  account_id_dst\n",
       "0       230425980         5530458\n",
       "1       232022460       232438397\n",
       "2       230460314       230459870\n",
       "3       230333930       230595899\n",
       "4       232013274       232029206"
      ]
     },
     "execution_count": 9,
     "metadata": {},
     "output_type": "execute_result"
    }
   ],
   "source": [
    "edges = edges.rename(columns={\"txId1\": \"account_id_src\", \"txId2\": \"account_id_dst\"})  \n",
    "edges.head()"
   ]
  },
  {
   "cell_type": "code",
   "execution_count": 10,
   "metadata": {},
   "outputs": [
    {
     "data": {
      "text/html": [
       "<div>\n",
       "<style scoped>\n",
       "    .dataframe tbody tr th:only-of-type {\n",
       "        vertical-align: middle;\n",
       "    }\n",
       "\n",
       "    .dataframe tbody tr th {\n",
       "        vertical-align: top;\n",
       "    }\n",
       "\n",
       "    .dataframe thead th {\n",
       "        text-align: right;\n",
       "    }\n",
       "</style>\n",
       "<table border=\"1\" class=\"dataframe\">\n",
       "  <thead>\n",
       "    <tr style=\"text-align: right;\">\n",
       "      <th></th>\n",
       "      <th>account_id</th>\n",
       "      <th>timestamp</th>\n",
       "      <th>local_feat_2</th>\n",
       "      <th>local_feat_3</th>\n",
       "      <th>local_feat_4</th>\n",
       "      <th>local_feat_5</th>\n",
       "      <th>local_feat_6</th>\n",
       "      <th>local_feat_7</th>\n",
       "      <th>local_feat_8</th>\n",
       "      <th>local_feat_9</th>\n",
       "      <th>...</th>\n",
       "      <th>agg_feat_157</th>\n",
       "      <th>agg_feat_158</th>\n",
       "      <th>agg_feat_159</th>\n",
       "      <th>agg_feat_160</th>\n",
       "      <th>agg_feat_161</th>\n",
       "      <th>agg_feat_162</th>\n",
       "      <th>agg_feat_163</th>\n",
       "      <th>agg_feat_164</th>\n",
       "      <th>agg_feat_165</th>\n",
       "      <th>agg_feat_166</th>\n",
       "    </tr>\n",
       "  </thead>\n",
       "  <tbody>\n",
       "    <tr>\n",
       "      <th>0</th>\n",
       "      <td>230425980</td>\n",
       "      <td>1</td>\n",
       "      <td>-0.171469</td>\n",
       "      <td>-0.184668</td>\n",
       "      <td>-1.201369</td>\n",
       "      <td>-0.121970</td>\n",
       "      <td>-0.043875</td>\n",
       "      <td>-0.113002</td>\n",
       "      <td>-0.061584</td>\n",
       "      <td>-0.162097</td>\n",
       "      <td>...</td>\n",
       "      <td>-0.562153</td>\n",
       "      <td>-0.600999</td>\n",
       "      <td>1.461330</td>\n",
       "      <td>1.461369</td>\n",
       "      <td>0.018279</td>\n",
       "      <td>-0.087490</td>\n",
       "      <td>-0.131155</td>\n",
       "      <td>-0.097524</td>\n",
       "      <td>-0.120613</td>\n",
       "      <td>-0.119792</td>\n",
       "    </tr>\n",
       "    <tr>\n",
       "      <th>1</th>\n",
       "      <td>5530458</td>\n",
       "      <td>1</td>\n",
       "      <td>-0.171484</td>\n",
       "      <td>-0.184668</td>\n",
       "      <td>-1.201369</td>\n",
       "      <td>-0.121970</td>\n",
       "      <td>-0.043875</td>\n",
       "      <td>-0.113002</td>\n",
       "      <td>-0.061584</td>\n",
       "      <td>-0.162112</td>\n",
       "      <td>...</td>\n",
       "      <td>0.947382</td>\n",
       "      <td>0.673103</td>\n",
       "      <td>-0.979074</td>\n",
       "      <td>-0.978556</td>\n",
       "      <td>0.018279</td>\n",
       "      <td>-0.087490</td>\n",
       "      <td>-0.131155</td>\n",
       "      <td>-0.097524</td>\n",
       "      <td>-0.120613</td>\n",
       "      <td>-0.119792</td>\n",
       "    </tr>\n",
       "    <tr>\n",
       "      <th>2</th>\n",
       "      <td>232022460</td>\n",
       "      <td>1</td>\n",
       "      <td>-0.172107</td>\n",
       "      <td>-0.184668</td>\n",
       "      <td>-1.201369</td>\n",
       "      <td>-0.121970</td>\n",
       "      <td>-0.043875</td>\n",
       "      <td>-0.113002</td>\n",
       "      <td>-0.061584</td>\n",
       "      <td>-0.162749</td>\n",
       "      <td>...</td>\n",
       "      <td>0.670883</td>\n",
       "      <td>0.439728</td>\n",
       "      <td>-0.979074</td>\n",
       "      <td>-0.978556</td>\n",
       "      <td>-0.098889</td>\n",
       "      <td>-0.106715</td>\n",
       "      <td>-0.131155</td>\n",
       "      <td>-0.183671</td>\n",
       "      <td>-0.120613</td>\n",
       "      <td>-0.119792</td>\n",
       "    </tr>\n",
       "    <tr>\n",
       "      <th>3</th>\n",
       "      <td>232438397</td>\n",
       "      <td>1</td>\n",
       "      <td>0.163054</td>\n",
       "      <td>1.963790</td>\n",
       "      <td>-0.646376</td>\n",
       "      <td>12.409294</td>\n",
       "      <td>-0.063725</td>\n",
       "      <td>9.782742</td>\n",
       "      <td>12.414558</td>\n",
       "      <td>-0.163645</td>\n",
       "      <td>...</td>\n",
       "      <td>-0.577099</td>\n",
       "      <td>-0.613614</td>\n",
       "      <td>0.241128</td>\n",
       "      <td>0.241406</td>\n",
       "      <td>1.072793</td>\n",
       "      <td>0.085530</td>\n",
       "      <td>-0.131155</td>\n",
       "      <td>0.677799</td>\n",
       "      <td>-0.120613</td>\n",
       "      <td>-0.119792</td>\n",
       "    </tr>\n",
       "    <tr>\n",
       "      <th>4</th>\n",
       "      <td>230460314</td>\n",
       "      <td>1</td>\n",
       "      <td>1.011523</td>\n",
       "      <td>-0.081127</td>\n",
       "      <td>-1.201369</td>\n",
       "      <td>1.153668</td>\n",
       "      <td>0.333276</td>\n",
       "      <td>1.312656</td>\n",
       "      <td>-0.061584</td>\n",
       "      <td>-0.163523</td>\n",
       "      <td>...</td>\n",
       "      <td>-0.511871</td>\n",
       "      <td>-0.400422</td>\n",
       "      <td>0.517257</td>\n",
       "      <td>0.579382</td>\n",
       "      <td>0.018279</td>\n",
       "      <td>0.277775</td>\n",
       "      <td>0.326394</td>\n",
       "      <td>1.293750</td>\n",
       "      <td>0.178136</td>\n",
       "      <td>0.179117</td>\n",
       "    </tr>\n",
       "  </tbody>\n",
       "</table>\n",
       "<p>5 rows × 167 columns</p>\n",
       "</div>"
      ],
      "text/plain": [
       "   account_id  timestamp  local_feat_2  local_feat_3  local_feat_4  \\\n",
       "0   230425980          1     -0.171469     -0.184668     -1.201369   \n",
       "1     5530458          1     -0.171484     -0.184668     -1.201369   \n",
       "2   232022460          1     -0.172107     -0.184668     -1.201369   \n",
       "3   232438397          1      0.163054      1.963790     -0.646376   \n",
       "4   230460314          1      1.011523     -0.081127     -1.201369   \n",
       "\n",
       "   local_feat_5  local_feat_6  local_feat_7  local_feat_8  local_feat_9  ...  \\\n",
       "0     -0.121970     -0.043875     -0.113002     -0.061584     -0.162097  ...   \n",
       "1     -0.121970     -0.043875     -0.113002     -0.061584     -0.162112  ...   \n",
       "2     -0.121970     -0.043875     -0.113002     -0.061584     -0.162749  ...   \n",
       "3     12.409294     -0.063725      9.782742     12.414558     -0.163645  ...   \n",
       "4      1.153668      0.333276      1.312656     -0.061584     -0.163523  ...   \n",
       "\n",
       "   agg_feat_157  agg_feat_158  agg_feat_159  agg_feat_160  agg_feat_161  \\\n",
       "0     -0.562153     -0.600999      1.461330      1.461369      0.018279   \n",
       "1      0.947382      0.673103     -0.979074     -0.978556      0.018279   \n",
       "2      0.670883      0.439728     -0.979074     -0.978556     -0.098889   \n",
       "3     -0.577099     -0.613614      0.241128      0.241406      1.072793   \n",
       "4     -0.511871     -0.400422      0.517257      0.579382      0.018279   \n",
       "\n",
       "   agg_feat_162  agg_feat_163  agg_feat_164  agg_feat_165  agg_feat_166  \n",
       "0     -0.087490     -0.131155     -0.097524     -0.120613     -0.119792  \n",
       "1     -0.087490     -0.131155     -0.097524     -0.120613     -0.119792  \n",
       "2     -0.106715     -0.131155     -0.183671     -0.120613     -0.119792  \n",
       "3      0.085530     -0.131155      0.677799     -0.120613     -0.119792  \n",
       "4      0.277775      0.326394      1.293750      0.178136      0.179117  \n",
       "\n",
       "[5 rows x 167 columns]"
      ]
     },
     "execution_count": 10,
     "metadata": {},
     "output_type": "execute_result"
    }
   ],
   "source": [
    "features.head()"
   ]
  },
  {
   "cell_type": "code",
   "execution_count": 11,
   "metadata": {},
   "outputs": [
    {
     "data": {
      "text/html": [
       "<div>\n",
       "<style scoped>\n",
       "    .dataframe tbody tr th:only-of-type {\n",
       "        vertical-align: middle;\n",
       "    }\n",
       "\n",
       "    .dataframe tbody tr th {\n",
       "        vertical-align: top;\n",
       "    }\n",
       "\n",
       "    .dataframe thead th {\n",
       "        text-align: right;\n",
       "    }\n",
       "</style>\n",
       "<table border=\"1\" class=\"dataframe\">\n",
       "  <thead>\n",
       "    <tr style=\"text-align: right;\">\n",
       "      <th></th>\n",
       "      <th>account_id</th>\n",
       "      <th>timestamp</th>\n",
       "      <th>local_feat_2</th>\n",
       "      <th>local_feat_3</th>\n",
       "      <th>local_feat_4</th>\n",
       "      <th>local_feat_5</th>\n",
       "      <th>local_feat_6</th>\n",
       "      <th>local_feat_7</th>\n",
       "      <th>local_feat_8</th>\n",
       "      <th>local_feat_9</th>\n",
       "      <th>...</th>\n",
       "      <th>agg_feat_160</th>\n",
       "      <th>agg_feat_161</th>\n",
       "      <th>agg_feat_162</th>\n",
       "      <th>agg_feat_163</th>\n",
       "      <th>agg_feat_164</th>\n",
       "      <th>agg_feat_165</th>\n",
       "      <th>agg_feat_166</th>\n",
       "      <th>class</th>\n",
       "      <th>target</th>\n",
       "      <th>node_type</th>\n",
       "    </tr>\n",
       "  </thead>\n",
       "  <tbody>\n",
       "    <tr>\n",
       "      <th>0</th>\n",
       "      <td>230425980</td>\n",
       "      <td>1</td>\n",
       "      <td>-0.171469</td>\n",
       "      <td>-0.184668</td>\n",
       "      <td>-1.201369</td>\n",
       "      <td>-0.121970</td>\n",
       "      <td>-0.043875</td>\n",
       "      <td>-0.113002</td>\n",
       "      <td>-0.061584</td>\n",
       "      <td>-0.162097</td>\n",
       "      <td>...</td>\n",
       "      <td>1.461369</td>\n",
       "      <td>0.018279</td>\n",
       "      <td>-0.087490</td>\n",
       "      <td>-0.131155</td>\n",
       "      <td>-0.097524</td>\n",
       "      <td>-0.120613</td>\n",
       "      <td>-0.119792</td>\n",
       "      <td>unknown</td>\n",
       "      <td>0.0</td>\n",
       "      <td>Unclassified_Acct</td>\n",
       "    </tr>\n",
       "    <tr>\n",
       "      <th>1</th>\n",
       "      <td>5530458</td>\n",
       "      <td>1</td>\n",
       "      <td>-0.171484</td>\n",
       "      <td>-0.184668</td>\n",
       "      <td>-1.201369</td>\n",
       "      <td>-0.121970</td>\n",
       "      <td>-0.043875</td>\n",
       "      <td>-0.113002</td>\n",
       "      <td>-0.061584</td>\n",
       "      <td>-0.162112</td>\n",
       "      <td>...</td>\n",
       "      <td>-0.978556</td>\n",
       "      <td>0.018279</td>\n",
       "      <td>-0.087490</td>\n",
       "      <td>-0.131155</td>\n",
       "      <td>-0.097524</td>\n",
       "      <td>-0.120613</td>\n",
       "      <td>-0.119792</td>\n",
       "      <td>unknown</td>\n",
       "      <td>0.0</td>\n",
       "      <td>Unclassified_Acct</td>\n",
       "    </tr>\n",
       "    <tr>\n",
       "      <th>2</th>\n",
       "      <td>232022460</td>\n",
       "      <td>1</td>\n",
       "      <td>-0.172107</td>\n",
       "      <td>-0.184668</td>\n",
       "      <td>-1.201369</td>\n",
       "      <td>-0.121970</td>\n",
       "      <td>-0.043875</td>\n",
       "      <td>-0.113002</td>\n",
       "      <td>-0.061584</td>\n",
       "      <td>-0.162749</td>\n",
       "      <td>...</td>\n",
       "      <td>-0.978556</td>\n",
       "      <td>-0.098889</td>\n",
       "      <td>-0.106715</td>\n",
       "      <td>-0.131155</td>\n",
       "      <td>-0.183671</td>\n",
       "      <td>-0.120613</td>\n",
       "      <td>-0.119792</td>\n",
       "      <td>unknown</td>\n",
       "      <td>0.0</td>\n",
       "      <td>Unclassified_Acct</td>\n",
       "    </tr>\n",
       "    <tr>\n",
       "      <th>3</th>\n",
       "      <td>232438397</td>\n",
       "      <td>1</td>\n",
       "      <td>0.163054</td>\n",
       "      <td>1.963790</td>\n",
       "      <td>-0.646376</td>\n",
       "      <td>12.409294</td>\n",
       "      <td>-0.063725</td>\n",
       "      <td>9.782742</td>\n",
       "      <td>12.414558</td>\n",
       "      <td>-0.163645</td>\n",
       "      <td>...</td>\n",
       "      <td>0.241406</td>\n",
       "      <td>1.072793</td>\n",
       "      <td>0.085530</td>\n",
       "      <td>-0.131155</td>\n",
       "      <td>0.677799</td>\n",
       "      <td>-0.120613</td>\n",
       "      <td>-0.119792</td>\n",
       "      <td>2</td>\n",
       "      <td>0.0</td>\n",
       "      <td>Classified_Acct</td>\n",
       "    </tr>\n",
       "    <tr>\n",
       "      <th>4</th>\n",
       "      <td>230460314</td>\n",
       "      <td>1</td>\n",
       "      <td>1.011523</td>\n",
       "      <td>-0.081127</td>\n",
       "      <td>-1.201369</td>\n",
       "      <td>1.153668</td>\n",
       "      <td>0.333276</td>\n",
       "      <td>1.312656</td>\n",
       "      <td>-0.061584</td>\n",
       "      <td>-0.163523</td>\n",
       "      <td>...</td>\n",
       "      <td>0.579382</td>\n",
       "      <td>0.018279</td>\n",
       "      <td>0.277775</td>\n",
       "      <td>0.326394</td>\n",
       "      <td>1.293750</td>\n",
       "      <td>0.178136</td>\n",
       "      <td>0.179117</td>\n",
       "      <td>unknown</td>\n",
       "      <td>0.0</td>\n",
       "      <td>Unclassified_Acct</td>\n",
       "    </tr>\n",
       "  </tbody>\n",
       "</table>\n",
       "<p>5 rows × 170 columns</p>\n",
       "</div>"
      ],
      "text/plain": [
       "   account_id  timestamp  local_feat_2  local_feat_3  local_feat_4  \\\n",
       "0   230425980          1     -0.171469     -0.184668     -1.201369   \n",
       "1     5530458          1     -0.171484     -0.184668     -1.201369   \n",
       "2   232022460          1     -0.172107     -0.184668     -1.201369   \n",
       "3   232438397          1      0.163054      1.963790     -0.646376   \n",
       "4   230460314          1      1.011523     -0.081127     -1.201369   \n",
       "\n",
       "   local_feat_5  local_feat_6  local_feat_7  local_feat_8  local_feat_9  ...  \\\n",
       "0     -0.121970     -0.043875     -0.113002     -0.061584     -0.162097  ...   \n",
       "1     -0.121970     -0.043875     -0.113002     -0.061584     -0.162112  ...   \n",
       "2     -0.121970     -0.043875     -0.113002     -0.061584     -0.162749  ...   \n",
       "3     12.409294     -0.063725      9.782742     12.414558     -0.163645  ...   \n",
       "4      1.153668      0.333276      1.312656     -0.061584     -0.163523  ...   \n",
       "\n",
       "   agg_feat_160  agg_feat_161  agg_feat_162  agg_feat_163  agg_feat_164  \\\n",
       "0      1.461369      0.018279     -0.087490     -0.131155     -0.097524   \n",
       "1     -0.978556      0.018279     -0.087490     -0.131155     -0.097524   \n",
       "2     -0.978556     -0.098889     -0.106715     -0.131155     -0.183671   \n",
       "3      0.241406      1.072793      0.085530     -0.131155      0.677799   \n",
       "4      0.579382      0.018279      0.277775      0.326394      1.293750   \n",
       "\n",
       "   agg_feat_165  agg_feat_166    class  target          node_type  \n",
       "0     -0.120613     -0.119792  unknown     0.0  Unclassified_Acct  \n",
       "1     -0.120613     -0.119792  unknown     0.0  Unclassified_Acct  \n",
       "2     -0.120613     -0.119792  unknown     0.0  Unclassified_Acct  \n",
       "3     -0.120613     -0.119792        2     0.0    Classified_Acct  \n",
       "4      0.178136      0.179117  unknown     0.0  Unclassified_Acct  \n",
       "\n",
       "[5 rows x 170 columns]"
      ]
     },
     "execution_count": 11,
     "metadata": {},
     "output_type": "execute_result"
    }
   ],
   "source": [
    "nodes = features.merge(classes)\n",
    "nodes.head()"
   ]
  },
  {
   "cell_type": "markdown",
   "metadata": {},
   "source": [
    "## Graph Preparation and GNN Training Pipeline"
   ]
  },
  {
   "cell_type": "markdown",
   "metadata": {},
   "source": [
    "### Graph Creation\n",
    "There is a 4 node cluster running on GCP, which is why we select 4 partitions. As the data scales, we can increase the number of machines in the cluster and the number of partitions in our graph"
   ]
  },
  {
   "cell_type": "code",
   "execution_count": 12,
   "metadata": {},
   "outputs": [
    {
     "name": "stdout",
     "output_type": "stream",
     "text": [
      "graph id: BuBJfjxtDWV1zWADZpCup91muexKYRMysqdSRADEBamn\n"
     ]
    }
   ],
   "source": [
    "graph = remote.Client(disable_version_check=False).create_graph(\n",
    "    num_partitions=4\n",
    ")\n",
    "print(\"graph id:\", graph.graph_id)"
   ]
  },
  {
   "cell_type": "code",
   "execution_count": 13,
   "metadata": {},
   "outputs": [
    {
     "data": {
      "application/vnd.jupyter.widget-view+json": {
       "model_id": "2c13fcd79d7c4cd2bdfe2e0495ee083b",
       "version_major": 2,
       "version_minor": 0
      },
      "text/plain": [
       "          0/? [?op/s]"
      ]
     },
     "metadata": {},
     "output_type": "display_data"
    },
    {
     "data": {
      "application/vnd.jupyter.widget-view+json": {
       "model_id": "260fc61a193544fda0737aaa40e7b492",
       "version_major": 2,
       "version_minor": 0
      },
      "text/plain": [
       "          0/? [?op/s]"
      ]
     },
     "metadata": {},
     "output_type": "display_data"
    },
    {
     "name": "stdout",
     "output_type": "stream",
     "text": [
      "CPU times: user 3.62 s, sys: 142 ms, total: 3.76 s\n",
      "Wall time: 29.3 s\n"
     ]
    }
   ],
   "source": [
    "%%time\n",
    "reverse_edges=True\n",
    "with import_data.DataFrameImporter(graph) as df_importer:   \n",
    "    \n",
    "    df_importer.nodes_dataframe(nodes,\n",
    "                            id_column=\"account_id\",\n",
    "                            id_space=\"account\", \n",
    "                            property_columns=feat_types,\n",
    "                            label_column=\"node_type\")\n",
    "    \n",
    "    df_importer.edges_dataframe(edges,\n",
    "                            source_id_space=\"account\",\n",
    "                            destination_id_space=\"account\",\n",
    "                            source_column=\"account_id_src\",\n",
    "                            destination_column=\"account_id_dst\",\n",
    "                            type=\"transaction\")\n",
    "    if reverse_edges:\n",
    "        df_importer.edges_dataframe(edges,\n",
    "                        source_id_space=\"account\",\n",
    "                        destination_id_space=\"account\",\n",
    "                        source_column=\"account_id_dst\",\n",
    "                        destination_column=\"account_id_src\",\n",
    "                        type=\"rev_transaction\")\n",
    "    df_importer.insert()"
   ]
  },
  {
   "cell_type": "code",
   "execution_count": 14,
   "metadata": {},
   "outputs": [
    {
     "data": {
      "application/vnd.jupyter.widget-view+json": {
       "model_id": "0af95ba2ed1947f28bc979e63c33c608",
       "version_major": 2,
       "version_minor": 0
      },
      "text/plain": [
       "          0/? [?op/s]"
      ]
     },
     "metadata": {},
     "output_type": "display_data"
    },
    {
     "name": "stdout",
     "output_type": "stream",
     "text": [
      "Number of nodes: 203,769\n"
     ]
    },
    {
     "data": {
      "application/vnd.jupyter.widget-view+json": {
       "model_id": "763b4f2d3cd14b4db19427e4c613f93d",
       "version_major": 2,
       "version_minor": 0
      },
      "text/plain": [
       "          0/? [?op/s]"
      ]
     },
     "metadata": {},
     "output_type": "display_data"
    },
    {
     "name": "stdout",
     "output_type": "stream",
     "text": [
      "Number of edges: 468,710\n"
     ]
    }
   ],
   "source": [
    "print(f\"Number of nodes: {graph.num_nodes():,}\")\n",
    "print(f\"Number of edges: {graph.num_edges():,}\")"
   ]
  },
  {
   "cell_type": "markdown",
   "metadata": {},
   "source": [
    "### Visualization"
   ]
  },
  {
   "cell_type": "code",
   "execution_count": 15,
   "metadata": {},
   "outputs": [
    {
     "data": {
      "application/vnd.jupyter.widget-view+json": {
       "model_id": "3cdfe2e750754251b3a94521b7252995",
       "version_major": 2,
       "version_minor": 0
      },
      "text/plain": [
       "          0/? [?op/s]"
      ]
     },
     "metadata": {},
     "output_type": "display_data"
    },
    {
     "data": {
      "application/vnd.jupyter.widget-view+json": {
       "model_id": "5154cbd35c3848fbac71d962f7dd270f",
       "version_major": 2,
       "version_minor": 0
      },
      "text/plain": [
       "          0/? [?op/s]"
      ]
     },
     "metadata": {},
     "output_type": "display_data"
    },
    {
     "name": "stdout",
     "output_type": "stream",
     "text": [
      "CPU times: user 3.43 s, sys: 379 ms, total: 3.8 s\n",
      "Wall time: 34.5 s\n"
     ]
    },
    {
     "data": {
      "application/vnd.jupyter.widget-view+json": {
       "model_id": "da2dd442d35b4cdf8dd893e5937dc78f",
       "version_major": 2,
       "version_minor": 0
      },
      "text/plain": [
       "GraphVizWidget(edges=[{'from': 12760, 'to': 12607, 'label': 'transaction', 'type': 'transaction', 'properties'…"
      ]
     },
     "metadata": {},
     "output_type": "display_data"
    }
   ],
   "source": [
    "%%time\n",
    "graph.query(\"\"\"\n",
    "MATCH (tx1)-[:transaction]->(tx2)\n",
    "RETURN tx1, tx2\n",
    "LIMIT 500\n",
    "\"\"\", contextualize=True).visualize()"
   ]
  },
  {
   "cell_type": "markdown",
   "metadata": {},
   "source": [
    "### Graph Analytics"
   ]
  },
  {
   "cell_type": "markdown",
   "metadata": {},
   "source": [
    "#### Page Rank"
   ]
  },
  {
   "cell_type": "code",
   "execution_count": 16,
   "metadata": {},
   "outputs": [
    {
     "data": {
      "application/vnd.jupyter.widget-view+json": {
       "model_id": "aa85f303741949cea581326976cafa6a",
       "version_major": 2,
       "version_minor": 0
      },
      "text/plain": [
       "          0/? [?op/s]"
      ]
     },
     "metadata": {},
     "output_type": "display_data"
    },
    {
     "data": {
      "application/vnd.jupyter.widget-view+json": {
       "model_id": "82aa098a5c2045f79e9f2b87d98d947b",
       "version_major": 2,
       "version_minor": 0
      },
      "text/plain": [
       "          0/? [?op/s]"
      ]
     },
     "metadata": {},
     "output_type": "display_data"
    },
    {
     "data": {
      "text/html": [
       "<div>\n",
       "<style scoped>\n",
       "    .dataframe tbody tr th:only-of-type {\n",
       "        vertical-align: middle;\n",
       "    }\n",
       "\n",
       "    .dataframe tbody tr th {\n",
       "        vertical-align: top;\n",
       "    }\n",
       "\n",
       "    .dataframe thead th {\n",
       "        text-align: right;\n",
       "    }\n",
       "</style>\n",
       "<table border=\"1\" class=\"dataframe\">\n",
       "  <thead>\n",
       "    <tr style=\"text-align: right;\">\n",
       "      <th></th>\n",
       "      <th>account</th>\n",
       "      <th>rank</th>\n",
       "    </tr>\n",
       "  </thead>\n",
       "  <tbody>\n",
       "    <tr>\n",
       "      <th>0</th>\n",
       "      <td>None</td>\n",
       "      <td>36.323883</td>\n",
       "    </tr>\n",
       "    <tr>\n",
       "      <th>1</th>\n",
       "      <td>None</td>\n",
       "      <td>25.046713</td>\n",
       "    </tr>\n",
       "    <tr>\n",
       "      <th>2</th>\n",
       "      <td>None</td>\n",
       "      <td>21.945116</td>\n",
       "    </tr>\n",
       "    <tr>\n",
       "      <th>3</th>\n",
       "      <td>None</td>\n",
       "      <td>21.901606</td>\n",
       "    </tr>\n",
       "    <tr>\n",
       "      <th>4</th>\n",
       "      <td>None</td>\n",
       "      <td>20.820234</td>\n",
       "    </tr>\n",
       "    <tr>\n",
       "      <th>5</th>\n",
       "      <td>None</td>\n",
       "      <td>19.476994</td>\n",
       "    </tr>\n",
       "    <tr>\n",
       "      <th>6</th>\n",
       "      <td>None</td>\n",
       "      <td>18.411884</td>\n",
       "    </tr>\n",
       "    <tr>\n",
       "      <th>7</th>\n",
       "      <td>None</td>\n",
       "      <td>18.105764</td>\n",
       "    </tr>\n",
       "    <tr>\n",
       "      <th>8</th>\n",
       "      <td>None</td>\n",
       "      <td>17.434237</td>\n",
       "    </tr>\n",
       "    <tr>\n",
       "      <th>9</th>\n",
       "      <td>None</td>\n",
       "      <td>16.871368</td>\n",
       "    </tr>\n",
       "  </tbody>\n",
       "</table>\n",
       "</div>"
      ],
      "text/plain": [
       "  account       rank\n",
       "0    None  36.323883\n",
       "1    None  25.046713\n",
       "2    None  21.945116\n",
       "3    None  21.901606\n",
       "4    None  20.820234\n",
       "5    None  19.476994\n",
       "6    None  18.411884\n",
       "7    None  18.105764\n",
       "8    None  17.434237\n",
       "9    None  16.871368"
      ]
     },
     "execution_count": 16,
     "metadata": {},
     "output_type": "execute_result"
    }
   ],
   "source": [
    "from katana.remote.analytics import pagerank\n",
    "property_name = \"pr\"\n",
    "pagerank(graph, property_name)\n",
    "graph.query(\"MATCH (acct) RETURN acct.id AS account, acct.pr AS rank ORDER BY rank DESC LIMIT 10\")\n"
   ]
  },
  {
   "cell_type": "markdown",
   "metadata": {},
   "source": [
    "#### Betweenness Centrality"
   ]
  },
  {
   "cell_type": "code",
   "execution_count": 17,
   "metadata": {},
   "outputs": [
    {
     "data": {
      "application/vnd.jupyter.widget-view+json": {
       "model_id": "484fc627b36a4a38b94860afcfaac9b2",
       "version_major": 2,
       "version_minor": 0
      },
      "text/plain": [
       "          0/? [?op/s]"
      ]
     },
     "metadata": {},
     "output_type": "display_data"
    },
    {
     "data": {
      "application/vnd.jupyter.widget-view+json": {
       "model_id": "d0d2c37bd1704b0db70de3e772c40ab2",
       "version_major": 2,
       "version_minor": 0
      },
      "text/plain": [
       "          0/? [?op/s]"
      ]
     },
     "metadata": {},
     "output_type": "display_data"
    },
    {
     "data": {
      "text/html": [
       "<div>\n",
       "<style scoped>\n",
       "    .dataframe tbody tr th:only-of-type {\n",
       "        vertical-align: middle;\n",
       "    }\n",
       "\n",
       "    .dataframe tbody tr th {\n",
       "        vertical-align: top;\n",
       "    }\n",
       "\n",
       "    .dataframe thead th {\n",
       "        text-align: right;\n",
       "    }\n",
       "</style>\n",
       "<table border=\"1\" class=\"dataframe\">\n",
       "  <thead>\n",
       "    <tr style=\"text-align: right;\">\n",
       "      <th></th>\n",
       "      <th>account</th>\n",
       "      <th>betweenness_centrality</th>\n",
       "    </tr>\n",
       "  </thead>\n",
       "  <tbody>\n",
       "    <tr>\n",
       "      <th>0</th>\n",
       "      <td>None</td>\n",
       "      <td>20391.160156</td>\n",
       "    </tr>\n",
       "    <tr>\n",
       "      <th>1</th>\n",
       "      <td>None</td>\n",
       "      <td>14658.220703</td>\n",
       "    </tr>\n",
       "    <tr>\n",
       "      <th>2</th>\n",
       "      <td>None</td>\n",
       "      <td>6910.177246</td>\n",
       "    </tr>\n",
       "    <tr>\n",
       "      <th>3</th>\n",
       "      <td>None</td>\n",
       "      <td>5302.587402</td>\n",
       "    </tr>\n",
       "    <tr>\n",
       "      <th>4</th>\n",
       "      <td>None</td>\n",
       "      <td>4711.143555</td>\n",
       "    </tr>\n",
       "    <tr>\n",
       "      <th>5</th>\n",
       "      <td>None</td>\n",
       "      <td>4706.643555</td>\n",
       "    </tr>\n",
       "    <tr>\n",
       "      <th>6</th>\n",
       "      <td>None</td>\n",
       "      <td>4705.643555</td>\n",
       "    </tr>\n",
       "    <tr>\n",
       "      <th>7</th>\n",
       "      <td>None</td>\n",
       "      <td>3370.310791</td>\n",
       "    </tr>\n",
       "    <tr>\n",
       "      <th>8</th>\n",
       "      <td>None</td>\n",
       "      <td>3282.533691</td>\n",
       "    </tr>\n",
       "    <tr>\n",
       "      <th>9</th>\n",
       "      <td>None</td>\n",
       "      <td>3147.078613</td>\n",
       "    </tr>\n",
       "  </tbody>\n",
       "</table>\n",
       "</div>"
      ],
      "text/plain": [
       "  account  betweenness_centrality\n",
       "0    None            20391.160156\n",
       "1    None            14658.220703\n",
       "2    None             6910.177246\n",
       "3    None             5302.587402\n",
       "4    None             4711.143555\n",
       "5    None             4706.643555\n",
       "6    None             4705.643555\n",
       "7    None             3370.310791\n",
       "8    None             3282.533691\n",
       "9    None             3147.078613"
      ]
     },
     "execution_count": 17,
     "metadata": {},
     "output_type": "execute_result"
    }
   ],
   "source": [
    "from katana.remote.analytics import betweenness_centrality\n",
    "property_name=\"bc\"\n",
    "betweenness_centrality(graph, property_name)\n",
    "\n",
    "graph.query(\"MATCH (acct) RETURN acct.id AS account, acct.bc AS betweenness_centrality ORDER BY betweenness_centrality DESC LIMIT 10\")"
   ]
  },
  {
   "cell_type": "markdown",
   "metadata": {},
   "source": [
    "### Feature Initialization\n",
    "To initialize features for the GNN, we will combine all node properties into a feature vector and save as a new feature on the graph. Katana Graph supports saving binary feature vectors as individual properties on the graph. In this case, we save 3 different feature vectors: \n",
    "\n",
    "1. ```local_feats``` - raw features provided for each transaction\n",
    "2. ```agg_feats```  - aggregated features from each node's neighborhood\n",
    "3. ```h_init``` - both ```local_feats``` + ```agg_feats``` combined into one feature. This will be the starting point for our GNN"
   ]
  },
  {
   "cell_type": "code",
   "execution_count": 18,
   "metadata": {},
   "outputs": [
    {
     "data": {
      "application/vnd.jupyter.widget-view+json": {
       "model_id": "fe58c4880c9347fd91cb4609ecca39c4",
       "version_major": 2,
       "version_minor": 0
      },
      "text/plain": [
       "          0/? [?op/s]"
      ]
     },
     "metadata": {},
     "output_type": "display_data"
    },
    {
     "name": "stdout",
     "output_type": "stream",
     "text": [
      "CPU times: user 1.38 s, sys: 386 ms, total: 1.77 s\n",
      "Wall time: 39.1 s\n"
     ]
    }
   ],
   "source": [
    "%%time\n",
    "\n",
    "import katana.distributed\n",
    "from katana.distributed import NodeView, KeyedColumnNode\n",
    "from katana import remote\n",
    "from katana_enterprise.distributed import Graph\n",
    "from katana_enterprise.ai.preprocessing.preprocessing_graph import PreprocessingGraph\n",
    "from katana_enterprise.ai.preprocessing.split_generator import RandomSplitter\n",
    "import numpy as np\n",
    "import pyarrow as pa\n",
    "\n",
    "\n",
    "def get_node_property_list(g, property_list=[]):\n",
    "    lsout = []\n",
    "    for property_name in property_list:\n",
    "        x = g.nodes.get_property(property_name).to_numpy().reshape(-1, 1)\n",
    "        lsout.append(x)\n",
    "    feat_array = np.hstack(lsout)\n",
    "    return feat_array\n",
    "\n",
    "def run_feature_init(g): \n",
    "    import sys, os\n",
    "    import numpy as np\n",
    "\n",
    "    prep = PreprocessingGraph(g)\n",
    "    \n",
    "    # extract features\n",
    "    local_feats = get_node_property_list(g, property_list=local_feats_name)\n",
    "    agg_feats = get_node_property_list(g, property_list=agg_feats_name)\n",
    "    feat_vec = np.concatenate([local_feats, agg_feats], axis=-1)\n",
    "    \n",
    "    # save new features vector to graph\n",
    "    prep.upsert_node_feature(feature_name=\"h_init\", feature_data=feat_vec)\n",
    "    prep.upsert_node_feature(feature_name=\"local_feats\", feature_data=local_feats)\n",
    "    prep.upsert_node_feature(feature_name=\"agg_feats\", feature_data=agg_feats)\n",
    "    \n",
    "    # create train/test split mask\n",
    "    splitter_fnc = RandomSplitter(split_ratio=[0.8, 0.15, 0.05], random_state=42)\n",
    "    split_arr = prep.generate_split_property(target_property_name=\"target\", split_encoder=splitter_fnc)\n",
    "    prep.upsert_node_feature(feature_name=\"split\", feature_data=split_arr)\n",
    "\n",
    "graph.run(lambda g: run_feature_init(g))"
   ]
  },
  {
   "cell_type": "markdown",
   "metadata": {},
   "source": [
    "### GNN Training"
   ]
  },
  {
   "cell_type": "code",
   "execution_count": 19,
   "metadata": {},
   "outputs": [],
   "source": [
    "run_id = uuid.uuid4().hex\n",
    "args = argparse.Namespace(\n",
    "    feat_name=\"h_init\",\n",
    "    label_name=\"target\",\n",
    "    label_dtype=numpy.float32,\n",
    "    split_name=\"split\",\n",
    "    distributed_execution=True,\n",
    "    pos_weight=8,\n",
    "    in_dim=165,\n",
    "    hidden_dim=256,\n",
    "    embed_dim=16,\n",
    "    train_fan_in=\"100,100,100,100\",\n",
    "    test_fan_in=\"100,100,100,100\",\n",
    "    num_layers=4,\n",
    "    out_dim=1,\n",
    "    minibatch_size=1024,\n",
    "    max_minibatches=20,\n",
    "    lr=0.001,\n",
    "    dropout=0.2,\n",
    "    num_epochs=5,\n",
    "    tensorboard_dir=\"gs://katana-internal1/tensorboard/elliptic_demo_e2e\",\n",
    "    embedding_dir=\"gs://katana-internal1/embeddings/elliptic_demo_e2e\"\n",
    ")\n"
   ]
  },
  {
   "cell_type": "code",
   "execution_count": 20,
   "metadata": {},
   "outputs": [],
   "source": [
    "# model definition\n",
    "import torch\n",
    "from torch_geometric.nn import SAGEConv\n",
    "class DistSAGE(torch.nn.Module):\n",
    "    \n",
    "    def __init__(self, in_dim, hidden_dim,embed_dim, out_dim, num_layers,\n",
    "                 dropout):\n",
    "        super(DistSAGE, self).__init__()\n",
    "\n",
    "        self.convs = torch.nn.ModuleList()\n",
    "        self.convs.append(SAGEConv(in_dim, hidden_dim))\n",
    "        self.bns = torch.nn.ModuleList()\n",
    "        self.bns.append(torch.nn.BatchNorm1d(hidden_dim))\n",
    "        for _ in range(num_layers - 3):\n",
    "            self.convs.append(SAGEConv(hidden_dim, hidden_dim))\n",
    "            self.bns.append(torch.nn.BatchNorm1d(hidden_dim))\n",
    "        self.convs.append(SAGEConv(hidden_dim, embed_dim))\n",
    "        self.bns.append(torch.nn.BatchNorm1d(embed_dim))\n",
    "        self.convs.append(SAGEConv(embed_dim, out_dim))\n",
    "        self.activation = torch.nn.functional.relu\n",
    "        self.dropout = torch.nn.Dropout(dropout)\n",
    "\n",
    "    def reset_parameters(self):\n",
    "        for conv in self.convs:\n",
    "            conv.reset_parameters()\n",
    "        for bn in self.bns:\n",
    "            bn.reset_parameters()\n",
    "\n",
    "    def encode(self, data):\n",
    "        x, edges = data.x, data.adjs\n",
    "\n",
    "        for i, conv in enumerate(self.convs):\n",
    "            if i != len(self.convs) - 1:\n",
    "                x_target = x[: data.dest_count[i]]\n",
    "                x = conv((x, x_target), edges[i])\n",
    "                x = self.bns[i](x)\n",
    "                x = self.activation(x)\n",
    "                x = self.dropout(x)  \n",
    "                embed = x\n",
    "        return embed\n",
    "\n",
    "    def forward(self, data):\n",
    "        embed = self.encode(data)\n",
    "        edges = data.adjs\n",
    "        i = len(self.convs) - 1\n",
    "        x_target = embed[: data.dest_count[i]]\n",
    "        x = self.convs[-1]((embed, x_target), edges[i])\n",
    "        return x"
   ]
  },
  {
   "cell_type": "code",
   "execution_count": 21,
   "metadata": {
    "scrolled": true,
    "tags": []
   },
   "outputs": [
    {
     "data": {
      "application/vnd.jupyter.widget-view+json": {
       "model_id": "8bef101f5aa04be6882a349377b24e98",
       "version_major": 2,
       "version_minor": 0
      },
      "text/plain": [
       "          0/? [?op/s]"
      ]
     },
     "metadata": {},
     "output_type": "display_data"
    },
    {
     "name": "stdout",
     "output_type": "stream",
     "text": [
      "\n",
      "Host 0 output:\n",
      "Setting the default backend to \"pytorch\". You can change it in the ~/.dgl/config.json file or export the DGLBACKEND environment variable.  Valid options are: pytorch, mxnet, tensorflow (all lowercase)\n",
      "{'validation_metric': 0.6981630325317383}\n",
      "\n",
      "Host 1 output:\n",
      "Setting the default backend to \"pytorch\". You can change it in the ~/.dgl/config.json file or export the DGLBACKEND environment variable.  Valid options are: pytorch, mxnet, tensorflow (all lowercase)\n",
      "{'validation_metric': 0.6981630325317383}\n",
      "\n",
      "Host 2 output:\n",
      "Setting the default backend to \"pytorch\". You can change it in the ~/.dgl/config.json file or export the DGLBACKEND environment variable.  Valid options are: pytorch, mxnet, tensorflow (all lowercase)\n",
      "{'validation_metric': 0.6981630325317383}\n",
      "\n",
      "Host 3 output:\n",
      "Setting the default backend to \"pytorch\". You can change it in the ~/.dgl/config.json file or export the DGLBACKEND environment variable.  Valid options are: pytorch, mxnet, tensorflow (all lowercase)\n",
      "{'validation_metric': 0.6981630325317383}\n"
     ]
    },
    {
     "name": "stderr",
     "output_type": "stream",
     "text": [
      "\n",
      "Host 0 errors:\n",
      "DGL backend not selected or invalid.  Assuming PyTorch for now.\n",
      "UserWarning: The given NumPy array is not writeable, and PyTorch does not support non-writeable tensors. This means you can write to the underlying (supposedly non-writeable) NumPy array using the tensor. You may want to copy the array to protect its data or make it writeable before converting it to a tensor. This type of warning will be suppressed for the rest of this program. (Triggered internally at  /home/conda/feedstock_root/build_artifacts/pytorch-recipe_1645203023865/work/torch/csrc/utils/tensor_numpy.cpp:183.)\n",
      "\n",
      "Host 1 errors:\n",
      "DGL backend not selected or invalid.  Assuming PyTorch for now.\n",
      "UserWarning: The given NumPy array is not writeable, and PyTorch does not support non-writeable tensors. This means you can write to the underlying (supposedly non-writeable) NumPy array using the tensor. You may want to copy the array to protect its data or make it writeable before converting it to a tensor. This type of warning will be suppressed for the rest of this program. (Triggered internally at  /home/conda/feedstock_root/build_artifacts/pytorch-recipe_1645203023865/work/torch/csrc/utils/tensor_numpy.cpp:183.)\n",
      "\n",
      "Host 2 errors:\n",
      "DGL backend not selected or invalid.  Assuming PyTorch for now.\n",
      "UserWarning: The given NumPy array is not writeable, and PyTorch does not support non-writeable tensors. This means you can write to the underlying (supposedly non-writeable) NumPy array using the tensor. You may want to copy the array to protect its data or make it writeable before converting it to a tensor. This type of warning will be suppressed for the rest of this program. (Triggered internally at  /home/conda/feedstock_root/build_artifacts/pytorch-recipe_1645203023865/work/torch/csrc/utils/tensor_numpy.cpp:183.)\n",
      "\n",
      "Host 3 errors:\n",
      "DGL backend not selected or invalid.  Assuming PyTorch for now.\n",
      "UserWarning: The given NumPy array is not writeable, and PyTorch does not support non-writeable tensors. This means you can write to the underlying (supposedly non-writeable) NumPy array using the tensor. You may want to copy the array to protect its data or make it writeable before converting it to a tensor. This type of warning will be suppressed for the rest of this program. (Triggered internally at  /home/conda/feedstock_root/build_artifacts/pytorch-recipe_1645203023865/work/torch/csrc/utils/tensor_numpy.cpp:183.)\n"
     ]
    }
   ],
   "source": [
    "def run_gnn(graph, args):\n",
    "    from calendar import c\n",
    "    import torch\n",
    "    import numpy\n",
    "    import katana\n",
    "    from katana_enterprise.distributed.pytorch import init_workers\n",
    "    from katana_enterprise.ai.data import PygNppSubgraphSampler, SampledSubgraphConfig, NppSubgraphSampler \n",
    "    from katana_enterprise.ai.data import NppDataLoader\n",
    "    from torch.nn.parallel import DistributedDataParallel as torch_DDP\n",
    "    from torch.utils.tensorboard import SummaryWriter\n",
    "    import sys, os\n",
    "    from katana.ai import data, loss, train\n",
    "    from katana_enterprise.ai.torch import ReduceMethod\n",
    "    from katana_enterprise.ai.train import DistTrainer\n",
    "    from sklearn.metrics import roc_auc_score\n",
    "    from katana_enterprise.distributed import MPI\n",
    "    from katana.distributed import Experiment, ExperimentManager\n",
    "    from katana.ai.model import NppGcn\n",
    "    \n",
    "    experiment_mgr = ExperimentManager(graph)\n",
    "    \n",
    "    os.environ['MODIN_ENGINE']='python'\n",
    "    katana.set_active_threads(32)\n",
    "    exec_device = torch.device(\"cuda\" if torch.cuda.is_available() else \"cpu\")\n",
    "        \n",
    "    main_start = time.time()\n",
    "    if args.distributed_execution:\n",
    "        init_workers()\n",
    "\n",
    "    # initialize the multiminibatch sampler\n",
    "    train_sampler = PygNppSubgraphSampler(\n",
    "        graph, \n",
    "        SampledSubgraphConfig(\n",
    "        layer_fan=[int(fan_in) for fan_in in args.train_fan_in.split(',')], \n",
    "            max_minibatches=args.max_minibatches, \n",
    "            property_batch_size=args.max_minibatches,\n",
    "            feat_prop_name=args.feat_name,\n",
    "            label_prop_name=args.label_name,\n",
    "            multilayer_export=True\n",
    "        )\n",
    "    )\n",
    "    \n",
    "    # test sampler used for evaluation; it samples 100s per hop to simulate getting\n",
    "    test_sampler = PygNppSubgraphSampler(\n",
    "        graph, \n",
    "        SampledSubgraphConfig(\n",
    "        layer_fan=[int(fan_in) for fan_in in args.train_fan_in.split(',')], \n",
    "            max_minibatches=args.max_minibatches, \n",
    "            property_batch_size=args.max_minibatches,\n",
    "            feat_prop_name=args.feat_name,\n",
    "            label_prop_name=args.label_name,\n",
    "            multilayer_export=True\n",
    "        )\n",
    "    )\n",
    "    \n",
    "    train_dataloader = NppDataLoader(\n",
    "        train_sampler, \n",
    "        local_batch_size=args.minibatch_size, \n",
    "        split_prop_dict={args.split_name: 0},  \n",
    "        shuffle=True, \n",
    "        drop_last=True,\n",
    "        balance_seeds=True)\n",
    "    \n",
    "    test_dataloader = NppDataLoader(\n",
    "        test_sampler, \n",
    "        local_batch_size=args.minibatch_size, \n",
    "        split_prop_dict={args.split_name: 1}, \n",
    "        balance_seeds=True)\n",
    "    \n",
    "    model = DistSAGE(\n",
    "        in_dim=args.in_dim, \n",
    "        hidden_dim=args.hidden_dim, \n",
    "        embed_dim=args.embed_dim,\n",
    "        out_dim=args.out_dim, \n",
    "        num_layers=args.num_layers,\n",
    "        dropout=args.dropout\n",
    "    ).to(exec_device)\n",
    "    \n",
    "    # model = NppGcn(\n",
    "    #     in_dim=args.in_dim, \n",
    "    #     hidden_dims=[args.hidden_dim, args.hidden_dim, args.hidden_dim], \n",
    "    #     gnn_norm = [torch.nn.BatchNorm1d, torch.nn.BatchNorm1d, torch.nn.BatchNorm1d],\n",
    "    #     activation=[torch.nn.functional.relu, torch.nn.functional.relu, torch.nn.functional.relu],\n",
    "    #     #embed_dim=args.embed_dim,\n",
    "    #     #out_dim=args.out_dim, \n",
    "    #     #num_layers=args.num_layers,\n",
    "    #     dropout=[args.dropout, args.dropout, args.dropout]\n",
    "    # ).to(exec_device)\n",
    "    \n",
    "    if args.distributed_execution:\n",
    "        model = torch_DDP(model)\n",
    "        \n",
    "    loss_fn = loss.BCEWithLogitsLoss()\n",
    "    tracker = train.DistTracker(callback_fn=None, src_rank=0)\n",
    "    tracker_tensor = train.DistTensorboardTracker(args.tensorboard_dir)\n",
    "    # trainer configuration\n",
    "    trainer = DistTrainer(\n",
    "        model,\n",
    "        loss_fn,\n",
    "        validation_metric_fn=roc_auc_score,\n",
    "        validation_reduce_method=ReduceMethod.MEAN,\n",
    "        train_loader=train_dataloader,\n",
    "        validation_loader=test_dataloader,\n",
    "        optimizer= torch.optim.Adam(model.parameters(), lr=args.lr),\n",
    "        epochs=args.num_epochs,\n",
    "        maximization=False,\n",
    "        tracker=tracker_tensor,\n",
    "    )\n",
    "    # Model training\n",
    "    trained_model, bce_loss = trainer.train()    \n",
    "    print(bce_loss)\n",
    "    # save model\n",
    "    experiment = Experiment(bce_loss, trained_model.state_dict())\n",
    "    experiment_mgr.upsert(\"ellipticExperiment\", experiment)\n",
    "    \n",
    "graph.run(lambda g: run_gnn(g, args))"
   ]
  },
  {
   "cell_type": "code",
   "execution_count": 23,
   "metadata": {
    "scrolled": true,
    "tags": []
   },
   "outputs": [
    {
     "data": {
      "application/vnd.jupyter.widget-view+json": {
       "model_id": "e269aa1493d744e58ddbd4f327f6748d",
       "version_major": 2,
       "version_minor": 0
      },
      "text/plain": [
       "          0/? [?op/s]"
      ]
     },
     "metadata": {},
     "output_type": "display_data"
    },
    {
     "name": "stdout",
     "output_type": "stream",
     "text": [
      "\n",
      "Host 0 output:\n",
      "Loaded 407538 rows and 18 columns to katana-clusters-beta.fsi_elliptic.gnn_embeddings_16\n",
      "\n",
      "Host 1 output:\n",
      "Loaded 407538 rows and 18 columns to katana-clusters-beta.fsi_elliptic.gnn_embeddings_16\n",
      "\n",
      "Host 2 output:\n",
      "Loaded 407538 rows and 18 columns to katana-clusters-beta.fsi_elliptic.gnn_embeddings_16\n",
      "\n",
      "Host 3 output:\n",
      "Loaded 407538 rows and 18 columns to katana-clusters-beta.fsi_elliptic.gnn_embeddings_16\n"
     ]
    }
   ],
   "source": [
    "import datetime\n",
    "from google.cloud import bigquery\n",
    "import pandas\n",
    "import pytz\n",
    "\n",
    "# Construct a BigQuery client object.\n",
    "\n",
    "table_id = \"katana-clusters-beta.fsi_elliptic.gnn_embeddings_16\"\n",
    "schema = [bigquery.SchemaField(\"account_id\", \"string\")]\n",
    "schema.extend([bigquery.SchemaField(f\"embed_{i}\", \"float\") for i in range(16)])\n",
    "schema.extend([bigquery.SchemaField(\"event_timestamp\", \"timestamp\")])\n",
    "job_config = bigquery.LoadJobConfig(\n",
    "    schema=schema\n",
    ")\n",
    "\n",
    "def run_inf(graph, args):\n",
    "    import torch\n",
    "    import numpy, datetime\n",
    "    import katana\n",
    "    from katana.distributed import NodeView\n",
    "    from katana_enterprise.distributed.pytorch import init_workers\n",
    "    from katana_enterprise.ai.data import PygNppSubgraphSampler, SampledSubgraphConfig \n",
    "    from katana_enterprise.ai.data import NppDataLoader\n",
    "    from katana_enterprise.distributed import MPI\n",
    "    from torch.nn.parallel import DistributedDataParallel as torch_DDP\n",
    "    import sys, os\n",
    "    from katana.ai import data, loss, train\n",
    "    from katana.distributed import Experiment, ExperimentManager\n",
    "    from collections import OrderedDict\n",
    "    \n",
    "    experiment_mgr = ExperimentManager(graph)\n",
    "    \n",
    "    os.environ['MODIN_ENGINE']='python'\n",
    "    katana.set_active_threads(32)\n",
    "    exec_device = torch.device(\"cuda\" if torch.cuda.is_available() else \"cpu\")\n",
    "    \n",
    "    global_ids = graph.nodes.masters()\n",
    "\n",
    "    # initialize the multiminibatch sampler\n",
    "    sampler = PygNppSubgraphSampler(\n",
    "        graph, \n",
    "        SampledSubgraphConfig(\n",
    "        layer_fan=[int(fan_in) for fan_in in args.train_fan_in.split(',')], \n",
    "            max_minibatches=args.max_minibatches, \n",
    "            property_batch_size=args.max_minibatches,\n",
    "            feat_prop_name=args.feat_name,\n",
    "            label_prop_name=args.label_name,\n",
    "            multilayer_export=True\n",
    "        )\n",
    "    )\n",
    "\n",
    "    dataloader = NppDataLoader(\n",
    "        sampler, \n",
    "        local_batch_size=args.minibatch_size, \n",
    "        nodes = global_ids, \n",
    "        balance_seeds=True\n",
    "        )\n",
    "\n",
    "    model = DistSAGE(\n",
    "        in_dim=args.in_dim, \n",
    "        hidden_dim=args.hidden_dim, \n",
    "        embed_dim=args.embed_dim,\n",
    "        out_dim=args.out_dim, \n",
    "        num_layers=args.num_layers,\n",
    "        dropout=args.dropout\n",
    "    )\n",
    "    \n",
    "    exp = experiment_mgr.get(\"ellipticExperiment\", include_model=True)\n",
    "    checkpoint = exp.model\n",
    "    new_state_dict = OrderedDict()\n",
    "    for k, v in checkpoint.items():\n",
    "        name = k[7:] # remove 'module.' of dataparallel\n",
    "        new_state_dict[name]=v\n",
    "    model.load_state_dict(new_state_dict)\n",
    "    \n",
    "    # Performing inference\n",
    "    #ids = graph.nodes.get_property(\"id\")\n",
    "    ids = graph.nodes.get_property(\"account_id\")\n",
    "    inference_ids = [ids[node] for node in global_ids]\n",
    "\n",
    "    model.eval()\n",
    "    all_embed = []\n",
    "    for batch in iter(dataloader):\n",
    "        embed = model.encode(batch)\n",
    "        all_embed.append(embed)\n",
    "    all_embed = torch.vstack(all_embed).detach().numpy()\n",
    "    \n",
    "    embedding_dict = {}\n",
    "    for i in range(len(inference_ids)):\n",
    "        embedding_dict[inference_ids[i]] = all_embed[i]\n",
    "    \n",
    "    # save embedding\n",
    "    col_names = [\"account_id\"]\n",
    "    embed_names = [f\"embed_{i}\" for i in range(all_embed.shape[1])]\n",
    "    col_names.extend(embed_names)\n",
    "    out_df = pd.DataFrame(embedding_dict).transpose()\n",
    "    out_df.insert(0, 'index', out_df.index)\n",
    "    out_df.columns = col_names\n",
    "    out_df[\"event_timestamp\"] = pd.Timestamp(datetime.datetime.now().isoformat()).replace(hour=0, minute=0, second=0, microsecond=0)\n",
    "    out_df[\"account_id\"] = out_df[\"account_id\"]#.astype(int)\n",
    "\n",
    "    # write embeddings to bq\n",
    "    client = bigquery.Client()\n",
    "    job = client.load_table_from_dataframe(\n",
    "        out_df, table_id, job_config=job_config\n",
    "    ) \n",
    "    job.result()\n",
    "    table = client.get_table(table_id)  # Make an API request.\n",
    "    print(\n",
    "        \"Loaded {} rows and {} columns to {}\".format(\n",
    "            table.num_rows, len(table.schema), table_id\n",
    "        )\n",
    "    )\n",
    "graph.run(lambda g: run_inf(g, args))"
   ]
  },
  {
   "cell_type": "markdown",
   "metadata": {},
   "source": [
    "## Feature Export\n",
    "### Save local features"
   ]
  },
  {
   "cell_type": "code",
   "execution_count": 24,
   "metadata": {},
   "outputs": [
    {
     "name": "stdout",
     "output_type": "stream",
     "text": [
      "Loaded 407538 rows and 95 columns to katana-clusters-beta.fsi_elliptic.account_features\n"
     ]
    }
   ],
   "source": [
    "from google.cloud import bigquery\n",
    "import datetime\n",
    "table_id = \"katana-clusters-beta.fsi_elliptic.account_features\"\n",
    "# set schema\n",
    "schema = [bigquery.SchemaField(\"account_id\", \"string\")]\n",
    "schema.extend([bigquery.SchemaField(f\"local_feat_{i}\", \"float\") for i in range(2,95)])\n",
    "schema.extend([bigquery.SchemaField(\"event_timestamp\", \"timestamp\")])\n",
    "cols = [\"account_id\"]\n",
    "cols.extend(local_cols)\n",
    "cols.extend([\"event_timestamp\"])\n",
    "nodes[\"account_id\"] = nodes[\"account_id\"].astype(str) \n",
    "nodes[\"event_timestamp\"] = pd.Timestamp(datetime.datetime.now().isoformat()).replace(hour=0, minute=0, second=0, microsecond=0)\n",
    "# load into bq\n",
    "client = bigquery.Client()\n",
    "job_config = bigquery.LoadJobConfig(schema=schema)\n",
    "job = client.load_table_from_dataframe(\n",
    "    nodes[cols].compute(), table_id, job_config=job_config\n",
    ") \n",
    "job.result()\n",
    "table = client.get_table(table_id)  # Make an API request.\n",
    "print(\n",
    "    \"Loaded {} rows and {} columns to {}\".format(\n",
    "        table.num_rows, len(table.schema), table_id\n",
    "    )\n",
    ")"
   ]
  },
  {
   "cell_type": "markdown",
   "metadata": {},
   "source": [
    "Save embedding mappings for account features."
   ]
  },
  {
   "cell_type": "code",
   "execution_count": 25,
   "metadata": {},
   "outputs": [
    {
     "data": {
      "application/vnd.jupyter.widget-view+json": {
       "model_id": "e9e30823efa34bd1a2abafdd7d8f6dac",
       "version_major": 2,
       "version_minor": 0
      },
      "text/plain": [
       "          0/? [?op/s]"
      ]
     },
     "metadata": {},
     "output_type": "display_data"
    },
    {
     "name": "stdout",
     "output_type": "stream",
     "text": [
      "\n",
      "Host 0 output:\n",
      "Loaded 407538 rows and 6 columns to katana-clusters-beta.fsi_elliptic.account_mapping\n",
      "\n",
      "Host 1 output:\n",
      "Loaded 407538 rows and 6 columns to katana-clusters-beta.fsi_elliptic.account_mapping\n",
      "\n",
      "Host 2 output:\n",
      "Loaded 407538 rows and 6 columns to katana-clusters-beta.fsi_elliptic.account_mapping\n",
      "\n",
      "Host 3 output:\n",
      "Loaded 407538 rows and 6 columns to katana-clusters-beta.fsi_elliptic.account_mapping\n"
     ]
    }
   ],
   "source": [
    "table_id = \"katana-clusters-beta.fsi_elliptic.account_mapping\"\n",
    "schema = [\n",
    "    bigquery.SchemaField(\"account_gid\", \"integer\"),\n",
    "    bigquery.SchemaField(\"account_id\", \"string\"),\n",
    "    bigquery.SchemaField(\"node_type\", \"string\"),\n",
    "    bigquery.SchemaField(\"target\", \"integer\"),\n",
    "    bigquery.SchemaField(\"split\", \"integer\"),\n",
    "    bigquery.SchemaField(\"event_timestamp\", \"timestamp\")\n",
    "]\n",
    "job_config = bigquery.LoadJobConfig(schema=schema)\n",
    "def embed_mapping(g):\n",
    "    from katana_enterprise.distributed import MPI\n",
    "    rank = MPI.COMM_WORLD.Get_rank()\n",
    "    df = g.query(\"\"\"\n",
    "    MATCH (n)\n",
    "    RETURN id(n) as account_gid, n.id as account_id, n.node_type as node_type, n.target as target, n.split as split\n",
    "    \"\"\")\n",
    "    df = df.to_pandas()\n",
    "    df[\"event_timestamp\"] = pd.Timestamp(datetime.datetime.now().isoformat()).replace(hour=0, minute=0, second=0, microsecond=0)\n",
    "    # write embeddings to bq\n",
    "    client = bigquery.Client()\n",
    "    job = client.load_table_from_dataframe(\n",
    "        df, table_id, job_config=job_config\n",
    "    ) \n",
    "    job.result()\n",
    "    table = client.get_table(table_id)  # Make an API request.\n",
    "    print(\n",
    "        \"Loaded {} rows and {} columns to {}\".format(\n",
    "            table.num_rows, len(table.schema), table_id\n",
    "        )\n",
    "    )\n",
    "graph.run(lambda g: embed_mapping(g))  "
   ]
  },
  {
   "cell_type": "markdown",
   "metadata": {},
   "source": [
    "### Save local features for training\n",
    "\n",
    "(for Auto ML purposes only - needs to be worked on)"
   ]
  },
  {
   "cell_type": "code",
   "execution_count": null,
   "metadata": {},
   "outputs": [],
   "source": [
    "from google.cloud import bigquery\n",
    "import datetime\n",
    "table_id = \"katana-clusters-beta.fsi_elliptic.account_features_training\"\n",
    "# set schema\n",
    "schema = [bigquery.SchemaField(\"target\", \"integer\")]\n",
    "schema.extend([bigquery.SchemaField(f\"local_feat_{i}\", \"float\") for i in range(2,95)])\n",
    "schema.extend([bigquery.SchemaField(\"split_str\", \"string\")])\n",
    "cols = [\"target\"]\n",
    "cols.extend(local_cols)\n",
    "cols.extend([\"split_str\"])\n",
    "# load into bq\n",
    "client = bigquery.Client()\n",
    "job_config = bigquery.LoadJobConfig(schema=schema)\n",
    "job = client.load_table_from_dataframe(\n",
    "    nodes[cols].compute(), table_id, job_config=job_config\n",
    ") \n",
    "job.result()\n",
    "table = client.get_table(table_id)  # Make an API request.\n",
    "print(\n",
    "    \"Loaded {} rows and {} columns to {}\".format(\n",
    "        table.num_rows, len(table.schema), table_id\n",
    "    )\n",
    ")"
   ]
  }
 ],
 "metadata": {
  "kernelspec": {
   "display_name": "Python 3 (ipykernel)",
   "language": "python",
   "name": "python3"
  },
  "language_info": {
   "codemirror_mode": {
    "name": "ipython",
    "version": 3
   },
   "file_extension": ".py",
   "mimetype": "text/x-python",
   "name": "python",
   "nbconvert_exporter": "python",
   "pygments_lexer": "ipython3",
   "version": "3.8.13"
  },
  "vscode": {
   "interpreter": {
    "hash": "4c2b8563932708ac4f64e3bc4797ea8eb43fc7530baa7f01daadf5b46d7b1fd4"
   }
  }
 },
 "nbformat": 4,
 "nbformat_minor": 4
}
