{
 "cells": [
  {
   "cell_type": "code",
   "execution_count": 2,
   "id": "bb4d746f-328c-42b1-87bd-75ee681009dd",
   "metadata": {},
   "outputs": [
    {
     "name": "stdout",
     "output_type": "stream",
     "text": [
      "--\n"
     ]
    }
   ],
   "source": [
    "\n",
    "\n",
    "class MyHistory:\n",
    "  \n",
    "   __my_history = []\n",
    "    \n",
    "   def append(self, i_str):\n",
    "      self.__my_history.append(i_str)\n",
    "        \n",
    "   def clear(self):\n",
    "      self.__my_history = []\n",
    "        \n",
    "   def __str__(self):\n",
    "      return(self.__my_history)\n",
    "   \n",
    "\n",
    "   def __iter__(self):\n",
    "      return self    \n",
    "\n",
    "   def __next__(self):\n",
    "      if self._current_index < self._class_size:\n",
    "         if self._current_index < len(self._lect):\n",
    "            member = self._lect[self._current_index] \n",
    "         else:\n",
    "            member = self._stud[self._current_index - len(self._lect)]            \n",
    "            self._current_index += 1\n",
    "      return member        \n",
    "\n",
    "      raise StopIteration\n",
    "\n",
    "\n",
    "\n",
    "\n",
    "l_history = MyHistory() \n",
    "\n",
    "print(\"--\")\n",
    "\n"
   ]
  },
  {
   "cell_type": "code",
   "execution_count": 3,
   "id": "03a8e04d-db41-4fde-af76-8224cee886cc",
   "metadata": {},
   "outputs": [
    {
     "ename": "AttributeError",
     "evalue": "'MyHistory' object has no attribute 'add'",
     "output_type": "error",
     "traceback": [
      "\u001b[0;31m---------------------------------------------------------------------------\u001b[0m",
      "\u001b[0;31mAttributeError\u001b[0m                            Traceback (most recent call last)",
      "Cell \u001b[0;32mIn[3], line 1\u001b[0m\n\u001b[0;32m----> 1\u001b[0m \u001b[43ml_history\u001b[49m\u001b[38;5;241;43m.\u001b[39;49m\u001b[43madd\u001b[49m(\u001b[38;5;124m\"\u001b[39m\u001b[38;5;124mDDD\u001b[39m\u001b[38;5;124m\"\u001b[39m)\n\u001b[1;32m      2\u001b[0m l_history\u001b[38;5;241m.\u001b[39madd(\u001b[38;5;124m\"\u001b[39m\u001b[38;5;124mEEE\u001b[39m\u001b[38;5;124m\"\u001b[39m)\n",
      "\u001b[0;31mAttributeError\u001b[0m: 'MyHistory' object has no attribute 'add'"
     ]
    }
   ],
   "source": [
    "\n",
    "l_history.add(\"DDD\")\n",
    "l_history.add(\"EEE\")\n",
    "\n",
    "\n",
    "\n"
   ]
  },
  {
   "cell_type": "code",
   "execution_count": null,
   "id": "11354f6d-1e29-4fae-9b8a-05a0a60d2a2c",
   "metadata": {},
   "outputs": [],
   "source": []
  },
  {
   "cell_type": "code",
   "execution_count": null,
   "id": "724e58e8-e194-4c62-9a61-0a78f212a408",
   "metadata": {},
   "outputs": [],
   "source": []
  },
  {
   "cell_type": "code",
   "execution_count": null,
   "id": "2511b91a-c1c3-441c-9259-cf93cc052589",
   "metadata": {},
   "outputs": [],
   "source": []
  },
  {
   "cell_type": "code",
   "execution_count": null,
   "id": "97d68454-bc0c-451d-b2f7-f5fe5f3336d6",
   "metadata": {},
   "outputs": [],
   "source": []
  },
  {
   "cell_type": "code",
   "execution_count": null,
   "id": "7ff37beb-d11d-472a-9f4c-1d5f79f97898",
   "metadata": {},
   "outputs": [],
   "source": []
  }
 ],
 "metadata": {
  "kernelspec": {
   "display_name": "Python 3 (ipykernel)",
   "language": "python",
   "name": "python3"
  },
  "language_info": {
   "codemirror_mode": {
    "name": "ipython",
    "version": 3
   },
   "file_extension": ".py",
   "mimetype": "text/x-python",
   "name": "python",
   "nbconvert_exporter": "python",
   "pygments_lexer": "ipython3",
   "version": "3.8.13"
  }
 },
 "nbformat": 4,
 "nbformat_minor": 5
}
