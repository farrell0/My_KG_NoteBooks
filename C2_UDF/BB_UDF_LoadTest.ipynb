{
 "cells": [
  {
   "cell_type": "markdown",
   "id": "43b1755b-2af6-4570-84de-764a0024a919",
   "metadata": {
    "tags": []
   },
   "source": [
    "#  Display options:"
   ]
  },
  {
   "cell_type": "code",
   "execution_count": 1,
   "id": "d7a11486-11ea-4a6c-8f7b-6f3808dfc85e",
   "metadata": {},
   "outputs": [
    {
     "name": "stdout",
     "output_type": "stream",
     "text": [
      "Exception reporting mode: Minimal\n"
     ]
    },
    {
     "data": {
      "text/html": [],
      "text/plain": [
       "<IPython.core.display.HTML object>"
      ]
     },
     "metadata": {},
     "output_type": "display_data"
    },
    {
     "name": "stdout",
     "output_type": "stream",
     "text": [
      "--\n"
     ]
    }
   ],
   "source": [
    "\n",
    "%load_ext autoreload\n",
    "%autoreload 2\n",
    "\n",
    "%xmode Minimal\n",
    "\n",
    "#  Setting display options \n",
    "#\n",
    "import pandas as pd\n",
    "pd.set_option(\"display.width\", 640)\n",
    "   #\n",
    "import numpy as np\n",
    "np.set_printoptions(edgeitems = 30, linewidth = 100000, \n",
    "   formatter = dict(float = lambda x: \"%.3g\" % x))\n",
    "\n",
    "\n",
    "#  Sets horizontal scroll for wide outputs\n",
    "#\n",
    "from IPython.display import display, HTML\n",
    "display(HTML(\"\"))\n",
    "\n",
    "from tabulate import tabulate\n",
    "\n",
    "\n",
    "   ###\n",
    "\n",
    "    \n",
    "#  How to use tabulate-\n",
    "#\n",
    "l_result = [{ \"col1\": 20, \"col2\": 30}]\n",
    "   #\n",
    "#  print(tabulate(l_result, headers='keys', tablefmt='psql', showindex=False))\n",
    "\n",
    "print(\"--\")\n"
   ]
  },
  {
   "cell_type": "markdown",
   "id": "d3ebe820-bc6d-4948-b668-8b81cd3cbf29",
   "metadata": {
    "tags": []
   },
   "source": [
    "#  Setup stuff: Connectivity"
   ]
  },
  {
   "cell_type": "code",
   "execution_count": 2,
   "id": "1ea957d6-30c6-427a-ae4e-15ecfba0c4f9",
   "metadata": {},
   "outputs": [
    {
     "name": "stdout",
     "output_type": "stream",
     "text": [
      "<katana.remote.sync_wrappers.Client object at 0x7f05b4522700>\n"
     ]
    }
   ],
   "source": [
    "\n",
    "from katana import remote\n",
    "\n",
    "my_client = remote.Client()\n",
    "\n",
    "print(my_client)\n"
   ]
  },
  {
   "cell_type": "code",
   "execution_count": 3,
   "id": "97571016-7c02-4e90-a75a-136a0dacd35f",
   "metadata": {},
   "outputs": [
    {
     "name": "stdout",
     "output_type": "stream",
     "text": [
      "--\n"
     ]
    }
   ],
   "source": [
    "\n",
    "NUM_PARTITIONS  = 3\n",
    "   #\n",
    "DB_NAME         = \"my_db\"\n",
    "GRAPH_NAME      = \"my_graph_BB\"\n",
    "\n",
    "print(\"--\")\n"
   ]
  },
  {
   "cell_type": "code",
   "execution_count": null,
   "id": "0c5777bc-9904-4421-9273-a8aa6d3057db",
   "metadata": {},
   "outputs": [],
   "source": [
    "\n",
    "#  Create database\n",
    "\n",
    "my_database = my_client.create_database(name=DB_NAME)\n",
    "\n",
    "print(my_database.database_id)\n"
   ]
  },
  {
   "cell_type": "code",
   "execution_count": null,
   "id": "5b303376-0d31-449a-b1a0-732df0570889",
   "metadata": {},
   "outputs": [],
   "source": [
    "\n",
    "#  Create graph\n",
    "#\n",
    "my_graph = my_client.get_database(name=DB_NAME).create_graph(name=GRAPH_NAME, num_partitions=NUM_PARTITIONS)\n",
    "\n",
    "print(my_graph)\n"
   ]
  },
  {
   "cell_type": "code",
   "execution_count": 4,
   "id": "c5db6505-7fc8-4779-b194-9ed8945b9a90",
   "metadata": {},
   "outputs": [
    {
     "name": "stdout",
     "output_type": "stream",
     "text": [
      "<_Graph my_graph_BB, CgeN7QGhx2Ao7PbLXsWD5tVC9H3KkW9jfmDTqeF88Dzq, 287>\n"
     ]
    }
   ],
   "source": [
    "\n",
    "#  Connect to graph\n",
    "\n",
    "my_graph, *_ = my_client.get_database(name=DB_NAME).find_graphs_by_name(GRAPH_NAME)\n",
    "\n",
    "print(my_graph)\n"
   ]
  },
  {
   "cell_type": "code",
   "execution_count": null,
   "id": "58946894-453f-4672-bb0c-3109de32b0c6",
   "metadata": {},
   "outputs": [],
   "source": [
    "\n",
    "#  Now that we share servers, get a better list of databases and graphs ..\n",
    "#\n",
    "\n",
    "for l_each_d in my_client.databases():\n",
    "   print(\"Database Name: %-28s   Id: %s\" % (l_each_d.name, l_each_d.database_id))\n",
    "      #\n",
    "   for l_each_g in my_client.get_database(name=l_each_d.name).graphs_in_database(): \n",
    "      print(\"   Graph Name: %-28s      Version: %-8d   Id: %s\" % (l_each_g.name, l_each_g.version, l_each_g.graph_id))\n",
    "\n",
    "\n",
    "print(\"\"  )\n",
    "print(\"--\")\n"
   ]
  },
  {
   "cell_type": "markdown",
   "id": "a2077542-b136-4b57-9c87-c81942e08db3",
   "metadata": {
    "tags": []
   },
   "source": [
    "#  UDFs, Part 01: Just MPI"
   ]
  },
  {
   "cell_type": "code",
   "execution_count": null,
   "id": "4463948c-cc50-4fc0-b001-28dc883f2f7d",
   "metadata": {},
   "outputs": [],
   "source": [
    "\n",
    "#  Best practice; Have a second NoteBook open with the Operations Widget ready-\n",
    "#\n",
    "#  Why ?\n",
    "#     When you make mistakes below, you will want to kill the Python job that is running\n",
    "#     on the worker nodes, the UDFs you submit below-\n",
    "#\n",
    "#  Source,\n",
    "#     https://mpi4py.readthedocs.io/en/stable/tutorial.html\n"
   ]
  },
  {
   "cell_type": "code",
   "execution_count": 5,
   "id": "f5f746be-53db-4cc4-a765-53605277f265",
   "metadata": {},
   "outputs": [
    {
     "name": "stdout",
     "output_type": "stream",
     "text": [
      "Running interation:  2               \n"
     ]
    },
    {
     "ename": "ServerCommunicationError",
     "evalue": "request failed: http://highmem-32-katana:8080/v2/graph/CgeN7QGhx2Ao7PbLXsWD5tVC9H3KkW9jfmDTqeF88Dzq/run",
     "output_type": "error",
     "traceback": [
      "\u001b[0;31mRemoteProtocolError\u001b[0m\u001b[0;31m:\u001b[0m Server disconnected\n",
      "\nThe above exception was the direct cause of the following exception:\n",
      "\u001b[0;31mRemoteProtocolError\u001b[0m\u001b[0;31m:\u001b[0m Server disconnected\n",
      "\nDuring handling of the above exception, another exception occurred:\n",
      "\u001b[0;31mServerCommunicationError\u001b[0m\u001b[0;31m:\u001b[0m request failed: http://highmem-32-katana:8080/v2/graph/CgeN7QGhx2Ao7PbLXsWD5tVC9H3KkW9jfmDTqeF88Dzq/run\n"
     ]
    },
    {
     "name": "stderr",
     "output_type": "stream",
     "text": [
      "WARNING:root:error during keep_alive, retrying (attempt=0)\n"
     ]
    }
   ],
   "source": [
    "\n",
    "#  Example for testing; generates a random dataset\n",
    "#\n",
    "\n",
    "import time\n",
    "   #\n",
    "from IPython.display import clear_output\n",
    "\n",
    "\n",
    "def my_func():\n",
    "    \n",
    "   from katana.distributed import single_host\n",
    "      #\n",
    "   import numpy as np                                                     #  Unparitioned objects are just fine; we are working from only\n",
    "                                                                          #  one node\n",
    "   l_return = np.random.randint(1, 101, 4)                                #  Generate an array[4] of random numbers in the range of 1-100\n",
    "\n",
    "   return single_host(host=0, result=l_return)                            #  Multiple worker nodes (hosts), can only return from 1\n",
    "\n",
    "\n",
    "l_cntr = 0\n",
    "   #\n",
    "while True:\n",
    "   l_cntr += 1\n",
    "   print(\"Running interation:  %-16d\" % (l_cntr))\n",
    "      #\n",
    "   my_return = my_graph.run(lambda g: my_func())\n",
    "   time.sleep(300) \n",
    "   clear_output(wait = True)\n",
    "    \n"
   ]
  },
  {
   "cell_type": "code",
   "execution_count": null,
   "id": "dcf75e78-1621-437e-82bc-4bf9ed637fe8",
   "metadata": {},
   "outputs": [],
   "source": []
  },
  {
   "cell_type": "code",
   "execution_count": null,
   "id": "f36c9867-ca4d-4ce0-9c3f-7355ed932347",
   "metadata": {},
   "outputs": [],
   "source": []
  }
 ],
 "metadata": {
  "kernelspec": {
   "display_name": "Python 3 (ipykernel)",
   "language": "python",
   "name": "python3"
  },
  "language_info": {
   "codemirror_mode": {
    "name": "ipython",
    "version": 3
   },
   "file_extension": ".py",
   "mimetype": "text/x-python",
   "name": "python",
   "nbconvert_exporter": "python",
   "pygments_lexer": "ipython3",
   "version": "3.8.13"
  }
 },
 "nbformat": 4,
 "nbformat_minor": 5
}
