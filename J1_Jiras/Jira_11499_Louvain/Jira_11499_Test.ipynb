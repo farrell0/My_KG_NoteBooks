{
 "cells": [
  {
   "cell_type": "code",
   "execution_count": 1,
   "id": "b7682060-fbd6-41a5-a43d-7c81f0982dc1",
   "metadata": {},
   "outputs": [
    {
     "data": {
      "text/html": [],
      "text/plain": [
       "<IPython.core.display.HTML object>"
      ]
     },
     "metadata": {},
     "output_type": "display_data"
    },
    {
     "name": "stdout",
     "output_type": "stream",
     "text": [
      "--\n"
     ]
    }
   ],
   "source": [
    "\n",
    "#  Setting display options \n",
    "\n",
    "import pandas as pd\n",
    "   #\n",
    "pd.set_option(\"display.width\", 480)\n",
    "\n",
    "#  Sets horizontal scroll for wide outputs\n",
    "#\n",
    "from IPython.display import display, HTML\n",
    "display(HTML(\"\"))\n",
    "\n",
    "from tabulate import tabulate\n",
    "\n",
    "print(\"--\")\n"
   ]
  },
  {
   "cell_type": "markdown",
   "id": "d3ebe820-bc6d-4948-b668-8b81cd3cbf29",
   "metadata": {
    "tags": []
   },
   "source": [
    "#  Setup stuff: Connectivity"
   ]
  },
  {
   "cell_type": "code",
   "execution_count": 2,
   "id": "1ea957d6-30c6-427a-ae4e-15ecfba0c4f9",
   "metadata": {},
   "outputs": [
    {
     "name": "stdout",
     "output_type": "stream",
     "text": [
      "<katana_enterprise.remote.sync_wrappers.Client object at 0x7fa3d4303940>\n"
     ]
    }
   ],
   "source": [
    "\n",
    "from katana import remote\n",
    "from katana.remote import import_data\n",
    "\n",
    "my_client = remote.Client()\n",
    "\n",
    "print(my_client)\n"
   ]
  },
  {
   "cell_type": "code",
   "execution_count": 3,
   "id": "97571016-7c02-4e90-a75a-136a0dacd35f",
   "metadata": {},
   "outputs": [
    {
     "name": "stdout",
     "output_type": "stream",
     "text": [
      "--\n"
     ]
    }
   ],
   "source": [
    "\n",
    "NUM_PARTITIONS  = 3\n",
    "   #\n",
    "DB_NAME         = \"my_db\"\n",
    "GRAPH_NAME      = \"my_graph\"\n",
    "\n",
    "print(\"--\")\n"
   ]
  },
  {
   "cell_type": "code",
   "execution_count": 4,
   "id": "c5db6505-7fc8-4779-b194-9ed8945b9a90",
   "metadata": {},
   "outputs": [
    {
     "name": "stdout",
     "output_type": "stream",
     "text": [
      "<_Graph my_graph, 8MjNrrs9WB53nQfmLhWeg1G6iAC6NxSjTVQUZZt3F77G, 1>\n"
     ]
    }
   ],
   "source": [
    "\n",
    "#  CONNECT TO GRAPH\n",
    "\n",
    "my_graph, *_ = my_client.get_database(name=DB_NAME).find_graphs_by_name(GRAPH_NAME)\n",
    "\n",
    "print(my_graph)\n"
   ]
  },
  {
   "cell_type": "markdown",
   "id": "81126254-12b2-49df-8d36-50c55ad290c1",
   "metadata": {},
   "source": [
    "# Louvain algorithm"
   ]
  },
  {
   "cell_type": "code",
   "execution_count": 5,
   "id": "6aa88702-afb3-4cc0-a5d7-00973e881c6a",
   "metadata": {},
   "outputs": [
    {
     "name": "stdout",
     "output_type": "stream",
     "text": [
      "--\n"
     ]
    }
   ],
   "source": [
    "\n",
    "from katana.remote import analytics\n",
    "\n",
    "\n",
    "l_cntr = 20                                                #  Used to generate a unique column name\n",
    "   #\n",
    "print(\"--\")\n"
   ]
  },
  {
   "cell_type": "code",
   "execution_count": 7,
   "id": "23067305-ffd0-41f0-abf0-1034beefd402",
   "metadata": {},
   "outputs": [
    {
     "data": {
      "application/vnd.jupyter.widget-view+json": {
       "model_id": "c29d2a707c5e49d797a8d307a6253bd0",
       "version_major": 2,
       "version_minor": 0
      },
      "text/plain": [
       "          0/? [?op/s]"
      ]
     },
     "metadata": {},
     "output_type": "display_data"
    },
    {
     "name": "stdout",
     "output_type": "stream",
     "text": [
      "None\n",
      "--\n"
     ]
    }
   ],
   "source": [
    "\n",
    "#  We use this counter to generate a unique column name below \n",
    "#\n",
    "l_cntr += 1\n",
    "   #\n",
    "l_output_propname     = \"louvain_\" + str(l_cntr).zfill(4)\n",
    "\n",
    "\n",
    "l_result = analytics.louvain_clustering(\n",
    "   my_graph,\n",
    "      #\n",
    "   result_property_name = l_output_propname,\n",
    "      #\n",
    "   is_symmetric         = True\n",
    "   )\n",
    "\n",
    "print(l_result)\n",
    "   #\n",
    "print(\"--\")\n"
   ]
  },
  {
   "cell_type": "code",
   "execution_count": null,
   "id": "bd6f80d8-3af6-4e21-9fa7-973bb58e54fd",
   "metadata": {},
   "outputs": [],
   "source": [
    "\n",
    "---------------------------------------------------------------------------\n",
    "CanceledError                             Traceback (most recent call last)\n",
    "Cell In[12], line 8\n",
    "      4    #\n",
    "      5 l_output_propname     = \"louvain_\" + str(l_cntr).zfill(4)\n",
    "----> 8 l_result = analytics.louvain_clustering(\n",
    "      9    my_graph,\n",
    "     10       #\n",
    "     11    result_property_name = l_output_propname,\n",
    "     12       #\n",
    "     13    is_symmetric         = True\n",
    "     14    )\n",
    "     16 print(l_result)\n",
    "     17    #\n",
    "\n",
    "File /opt/conda/lib/python3.8/site-packages/katana_enterprise/async_to_sync.py:168, in async_to_sync.<locals>.wrapper(timeout, *args, **kwargs)\n",
    "    165 if convert_objects:\n",
    "    166     registry = AsyncToSyncClassRegistry.get()\n",
    "    167     return registry.async_to_sync(\n",
    "--> 168         wait_for(\n",
    "    169             async_func(\n",
    "    170                 *(registry.sync_to_async(a) for a in args),\n",
    "    171                 **{k: registry.sync_to_async(v) for k, v in kwargs.items()},\n",
    "    172             ),\n",
    "    173             timeout=timeout,\n",
    "    174         )\n",
    "    175     )\n",
    "    176 return wait_for(async_func(*args, **kwargs), timeout=timeout)\n",
    "\n",
    "File /opt/conda/lib/python3.8/site-packages/katana_enterprise/async_to_sync.py:147, in wait_for(coro, timeout)\n",
    "    145 try:\n",
    "    146     future = asyncio.run_coroutine_threadsafe(timeout_coro, loop=AsyncRunnerThread.get().loop)\n",
    "--> 147     return future.result()\n",
    "    148 except KeyboardInterrupt:\n",
    "    149     inner_future.cancel()\n",
    "\n",
    "File /opt/conda/lib/python3.8/concurrent/futures/_base.py:444, in Future.result(self, timeout)\n",
    "    442     raise CancelledError()\n",
    "    443 elif self._state == FINISHED:\n",
    "--> 444     return self.__get_result()\n",
    "    445 else:\n",
    "    446     raise TimeoutError()\n",
    "\n",
    "File /opt/conda/lib/python3.8/concurrent/futures/_base.py:389, in Future.__get_result(self)\n",
    "    387 if self._exception:\n",
    "    388     try:\n",
    "--> 389         raise self._exception\n",
    "    390     finally:\n",
    "    391         # Break a reference cycle with the exception in self._exception\n",
    "    392         self = None\n",
    "\n",
    "File /opt/conda/lib/python3.8/asyncio/tasks.py:455, in wait_for(fut, timeout, loop)\n",
    "    450     warnings.warn(\"The loop argument is deprecated since Python 3.8, \"\n",
    "    451                   \"and scheduled for removal in Python 3.10.\",\n",
    "    452                   DeprecationWarning, stacklevel=2)\n",
    "    454 if timeout is None:\n",
    "--> 455     return await fut\n",
    "    457 if timeout <= 0:\n",
    "    458     fut = ensure_future(fut, loop=loop)\n",
    "\n",
    "File /opt/conda/lib/python3.8/site-packages/katana_enterprise/remote/aio/analytics/__init__.py:256, in louvain_clustering(graph, result_property_name, edge_weight_property_name, is_symmetric)\n",
    "    234 \"\"\"\n",
    "    235 Run Louvain Clustering on a symmetric ``graph`` and write the cluster to the property named by\n",
    "    236 ``result_property_name``. The graph must have at least 100 nodes.\n",
    "   (...)\n",
    "    244        to false by default.\n",
    "    245 \"\"\"\n",
    "    246 data = {\n",
    "    247     \"analytics\": {\n",
    "    248         \"louvain_clustering\": {\n",
    "   (...)\n",
    "    253     },\n",
    "    254 }\n",
    "--> 256 await graph._run_asynchronously(data)\n",
    "\n",
    "File /opt/conda/lib/python3.8/site-packages/katana_enterprise/remote/aio/graph.py:322, in Graph._run_asynchronously(self, data)\n",
    "    319 async def _run_asynchronously(self, data):\n",
    "    320     data = self._add_operation_metadata(data)\n",
    "--> 322     result = (await self._client._run_on_graph_and_wait(self, data))[\"result\"]\n",
    "    323     await self._client._refresh_graph_version(self)\n",
    "    324     return result\n",
    "\n",
    "File /opt/conda/lib/python3.8/site-packages/katana_enterprise/remote/aio/client.py:333, in Database._run_on_graph_and_wait(self, graph, data)\n",
    "    331 while attempt < max_attempts:\n",
    "    332     try:\n",
    "--> 333         return await self._wait_op(op)\n",
    "    334     except errors.ServerCommunicationError:\n",
    "    335         logging.warning(f\"error while waiting, retrying (attempt={attempt})\")\n",
    "\n",
    "File /opt/conda/lib/python3.8/site-packages/katana_enterprise/remote/aio/client.py:270, in Database._wait_op(self, op)\n",
    "    268 async with _progress_bar() as pbar:\n",
    "    269     async with wait_fn(operation_id) as stream:\n",
    "--> 270         async for update in stream:\n",
    "    271             status = update[\"status\"]\n",
    "    273             for entry in update.get(\"progress\", []):\n",
    "\n",
    "File /opt/conda/lib/python3.8/site-packages/asyncstdlib/builtins.py:445, in map(function, *iterable)\n",
    "    443 async for args in args_iter:\n",
    "    444     result = function(*args)\n",
    "--> 445     yield await result\n",
    "\n",
    "File /opt/conda/lib/python3.8/site-packages/asyncstdlib/_core.py:134, in force_async.<locals>.async_wrapped(*args, **kwargs)\n",
    "    133 async def async_wrapped(*args: Any, **kwargs: Any) -> T:\n",
    "--> 134     return call(*args, **kwargs)\n",
    "\n",
    "File /opt/conda/lib/python3.8/site-packages/katana_enterprise/rpc/client.py:171, in _OperationClient._event_stream.<locals>.parse_stream(line)\n",
    "    169     raise errors.OperationError(operation_id + \" \" + data[\"status_message\"])\n",
    "    170 if status == \"Canceled\":\n",
    "--> 171     raise errors.CanceledError()\n",
    "    173 return data\n",
    "\n",
    "CanceledError: \n",
    "        "
   ]
  },
  {
   "cell_type": "markdown",
   "id": "a310b170-1869-46b8-b0ea-dc4d272b80b4",
   "metadata": {},
   "source": [
    "# Checking that result above\n"
   ]
  },
  {
   "cell_type": "code",
   "execution_count": 8,
   "id": "cb62fb3f-36cb-4d55-ab0b-388370690c00",
   "metadata": {},
   "outputs": [
    {
     "data": {
      "application/vnd.jupyter.widget-view+json": {
       "model_id": "ecaeff1fd0f7498787813f2d6eabf882",
       "version_major": 2,
       "version_minor": 0
      },
      "text/plain": [
       "          0/? [?op/s]"
      ]
     },
     "metadata": {},
     "output_type": "display_data"
    },
    {
     "name": "stdout",
     "output_type": "stream",
     "text": [
      "+----+----------------------+-----------------+-----------------+-------------+-----------+------------------+------------------+----------------------+----------+\n",
      "|    |       n.louvain_0022 |           ID(n) |   n.internal_id | n.labels    | n.LABEL   | n.airport_code   | n.airport_name   |       n.louvain_0022 | n.type   |\n",
      "|----+----------------------+-----------------+-----------------+-------------+-----------+------------------+------------------+----------------------+----------|\n",
      "|  0 | 18446744073709551615 |               0 |               0 | ['Airport'] | Airport   | MKE              | Milwaukee        | 18446744073709551615 | node     |\n",
      "|  1 | 18446744073709551615 |               1 |               1 | ['Airport'] | Airport   | DEN              | Denver           | 18446744073709551615 | node     |\n",
      "|  2 | 18446744073709551615 | 281474976710656 | 281474976710656 | ['Airport'] | Airport   | ORD              | Chicago O-Hare   | 18446744073709551615 | node     |\n",
      "|  3 | 18446744073709551615 | 562949953421312 | 562949953421312 | ['Airport'] | Airport   | SJC              | San Jose         | 18446744073709551615 | node     |\n",
      "+----+----------------------+-----------------+-----------------+-------------+-----------+------------------+------------------+----------------------+----------+\n"
     ]
    },
    {
     "name": "stderr",
     "output_type": "stream",
     "text": [
      "/opt/conda/lib/python3.8/site-packages/katana_enterprise/remote/result_set.py:69: UserWarning: Pandas doesn't allow columns to be created via a new attribute name - see https://pandas.pydata.org/pandas-docs/stable/indexing.html#attribute-access\n",
      "  self._response = response\n"
     ]
    }
   ],
   "source": [
    "\n",
    "#  Unfiltered node data\n",
    "#\n",
    "\n",
    "l_query = \"\"\"\n",
    "\n",
    "   MATCH (n)\n",
    "   RETURN n.{0}, ID(n), n\n",
    "   ORDER BY n.{0} DESC\n",
    "    \n",
    "    \"\"\".format(l_output_propname)\n",
    "\n",
    "l_result = my_graph.query_unpaginated(l_query)\n",
    "   #\n",
    "print(tabulate(l_result, headers='keys', tablefmt='psql'))\n",
    "\n",
    "#  Sample data, after adding Narita and Seoul below-\n",
    "#\n",
    "#     +----+----------------------+-----------------+-----------------+-------------+------------------+------------------+----------------------+----------+-----------+\n",
    "#     |    |       n.louvain_0023 |           ID(n) |   n.internal_id | n.labels    | n.airport_code   | n.airport_name   |       n.louvain_0023 | n.type   | n.LABEL   |\n",
    "#     |----+----------------------+-----------------+-----------------+-------------+------------------+------------------+----------------------+----------+-----------|\n",
    "#     |  0 | 18446744073709551615 |               2 |               2 | ['Airport'] | NRT              | Narita, Japan    | 18446744073709551615 | node     | nan       |\n",
    "#     |  1 | 18446744073709551615 |               0 |               0 | ['Airport'] | ORD              | Chicago O-Hare   | 18446744073709551615 | node     | Airport   |\n",
    "#     |  2 | 18446744073709551615 |               1 |               1 | ['Airport'] | SJC              | San Jose         | 18446744073709551615 | node     | Airport   |\n",
    "#     |  3 | 18446744073709551615 | 281474976710656 | 281474976710656 | ['Airport'] | ICN              | Seoul, Korea     | 18446744073709551615 | node     | nan       |\n",
    "#     |  4 | 18446744073709551615 | 562949953421312 | 562949953421312 | ['Airport'] | MKE              | Milwaukee        | 18446744073709551615 | node     | Airport   |\n",
    "#     |  5 | 18446744073709551615 | 562949953421313 | 562949953421313 | ['Airport'] | DEN              | Denver           | 18446744073709551615 | node     | Airport   |\n",
    "#     +----+----------------------+-----------------+-----------------+-------------+------------------+------------------+----------------------+----------+-----------+\n"
   ]
  },
  {
   "cell_type": "code",
   "execution_count": null,
   "id": "1eb36918-4184-4b30-b619-371f4d5c3280",
   "metadata": {},
   "outputs": [],
   "source": [
    "\n",
    "#  View output\n",
    "#\n",
    "\n",
    "l_query = \"\"\"\n",
    "\n",
    "   MATCH (n)\n",
    "   RETURN n.{0}, ID(n), n.airport_name\n",
    "   ORDER BY n.{0} DESC\n",
    "   LIMIT 10\n",
    "    \n",
    "    \"\"\".format(l_output_propname)\n",
    "\n",
    "l_result = my_graph.query(l_query)\n",
    "   #    \n",
    "print(tabulate(l_result, headers='keys', tablefmt='psql'))\n"
   ]
  },
  {
   "cell_type": "code",
   "execution_count": null,
   "id": "5f5ea89a-dc39-44d4-9ee0-d8c523904f4a",
   "metadata": {},
   "outputs": [],
   "source": [
    "\n",
    "#  Add a new community\n",
    "#\n",
    "\n",
    "l_query = \"\"\"\n",
    "   CREATE ( n: Airport { airport_code: 'NRT' } )               //  Notice single curly braces\n",
    "   SET n.airport_name = 'Narita, Japan' \n",
    "   \"\"\"\n",
    "      #\n",
    "display(l_result = my_graph.query(l_query))\n",
    "\n",
    "l_query = \"\"\"\n",
    "   CREATE ( n: Airport { airport_code: 'ICN' } ) \n",
    "   SET n.airport_name = 'Seoul, Korea' \n",
    "   \"\"\"\n",
    "      #\n",
    "display(l_result = my_graph.query(l_query))\n",
    "\n",
    "\n",
    "l_query = \"\"\"\n",
    "   MATCH\n",
    "      (n: Airport   ),\n",
    "      (m: Airport   )\n",
    "   WHERE n.airport_code     = 'NRT' AND m.airport_code  = 'ICN'\n",
    "   CREATE (n) -[r: FLIES_TO { DISTANCE: 752, NUM_HOPS: 1}]-> (m)\n",
    "   \"\"\"\n",
    "      #\n",
    "display(l_result = my_graph.query(l_query))\n",
    "\n"
   ]
  },
  {
   "cell_type": "code",
   "execution_count": null,
   "id": "b22388f7-acd6-4d2c-8bcf-3064bc0e1a7d",
   "metadata": {},
   "outputs": [],
   "source": [
    "#  Go up, run Louvain again .."
   ]
  }
 ],
 "metadata": {
  "kernelspec": {
   "display_name": "Python 3 (ipykernel)",
   "language": "python",
   "name": "python3"
  },
  "language_info": {
   "codemirror_mode": {
    "name": "ipython",
    "version": 3
   },
   "file_extension": ".py",
   "mimetype": "text/x-python",
   "name": "python",
   "nbconvert_exporter": "python",
   "pygments_lexer": "ipython3",
   "version": "3.8.15"
  }
 },
 "nbformat": 4,
 "nbformat_minor": 5
}
