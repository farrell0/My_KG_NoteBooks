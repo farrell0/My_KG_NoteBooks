{
 "cells": [
  {
   "cell_type": "code",
   "execution_count": null,
   "id": "597d783c-c3e4-4219-ad79-34e14d178660",
   "metadata": {},
   "outputs": [],
   "source": [
    "\n",
    "\n",
    "#     Source material\n",
    "#     ==================================================================\n",
    "#     \n",
    "#     Public DeepCDR\n",
    "#        https://github.com/kimmo1019/DeepCDR\n",
    "#        \n",
    "#     Our DeepCDR\n",
    "#        https://github.com/KatanaGraph/solutions/tree/main/recipes/hls/DeepCDR\n",
    "#  \n",
    "#        Parent repo,\n",
    "#           https://github.com/KatanaGraph/solutions\n",
    "#           \n",
    "#           \n",
    "#     Source data\n",
    "#     ==================================================================\n",
    "#     \n",
    "#     https://console.cloud.google.com/storage/browser/hls-dataset-bucket\n",
    "#     https://console.cloud.google.com/storage/browser/hls-dataset-bucket/DeepCDR_data   \n",
    "#  \n",
    "#          391,018     cell_line_gene_expression_edges.csv\n",
    "#          453,289     cell_line_gene_methylation_edges.csv\n",
    "#        19,451,554    cell_line_gene_mutation_edges.csv\n",
    "#            1,462     cell_lines.csv\n",
    "#             239      drugs.csv\n",
    "#          257,755     gdsc_cell_line_edges.csv\n",
    "#             267      gdsc.csv\n",
    "#             267      gdsc_drug_edges.csv\n",
    "#             720      genes.csv\n",
    "#        20,556,571    total\n",
    "    \n",
    "    "
   ]
  },
  {
   "cell_type": "code",
   "execution_count": 1,
   "id": "2de96290-d64c-4c82-bd6d-fe69fcc1dad3",
   "metadata": {},
   "outputs": [
    {
     "name": "stdout",
     "output_type": "stream",
     "text": [
      "\n",
      "Client server version: 0.8.0+20230301T170702Z.5ee413de9.dev\n"
     ]
    }
   ],
   "source": [
    "\n",
    "#  %load_ext autoreload\n",
    "#  %autoreload 2\n",
    "\n",
    "from katana import remote\n",
    "#  from katana.remote import import_data, export_data\n",
    "\n",
    "\n",
    "my_client = remote.Client()\n",
    "\n",
    "print(\"\")\n",
    "print(\"Client server version: %s\" % (my_client.server_version))\n",
    "\n"
   ]
  },
  {
   "cell_type": "code",
   "execution_count": 2,
   "id": "e89769fd-629e-419f-bb3f-55a0d60b0b73",
   "metadata": {},
   "outputs": [
    {
     "name": "stdout",
     "output_type": "stream",
     "text": [
      "\n",
      "InputConfig:\n",
      "    trained_rdg_path = gs://hls-dataset-bucket/DeepCDR_trained,\n",
      "    test_size = 0.05,\n",
      "    random_state = 42\n",
      "--\n"
     ]
    }
   ],
   "source": [
    "\n",
    "#  hyperparams uses Pthon dataclasses\n",
    "#\n",
    "#  See,\n",
    "#     https://www.dataquest.io/blog/how-to-use-python-data-classes/\n",
    "#\n",
    "\n",
    "from config import hyperparams\n",
    "\n",
    "input_config = hyperparams.load_input_config()\n",
    "\n",
    "print(\"\")\n",
    "print(input_config)\n",
    "\n",
    "\n",
    "print(\"--\")\n"
   ]
  },
  {
   "cell_type": "code",
   "execution_count": null,
   "id": "885f5f2f-d988-4f60-bb56-9d430efd77e9",
   "metadata": {},
   "outputs": [],
   "source": [
    "\n",
    "from timeit import default_timer\n",
    "\n",
    "# Import the module that uses Dask to import drug data\n",
    "from src import dask_ingestion\n",
    "\n",
    "\n",
    "my_graph = my_client.create_graph(num_partitions = input_config.num_partitions)\n",
    "\n",
    "\n",
    "if input_config.use_train_rdg:\n",
    "   print(f\"Import pretrained graph from: {input_config.trained_rdg_path}\")\n",
    "   import_data.rdg(my_graph, input_config.trained_rdg_path)\n",
    "else:\n",
    "   print(\"Generate the graph with data from source\")\n",
    "   dask_ingestion.generate_deepcdr_graph(my_graph, input_config)\n",
    "    \n",
    "print(\"--\")\n",
    "\n"
   ]
  },
  {
   "cell_type": "code",
   "execution_count": null,
   "id": "8d99d580-f5b1-471b-b540-d24fab04a24c",
   "metadata": {},
   "outputs": [],
   "source": [
    "from src import katana_pipeline\n",
    "\n",
    "rec_pipeline = katana_pipeline.RecipePipeline(my_graph)\n",
    "rec_pipeline.my_graph.schema().view()"
   ]
  },
  {
   "cell_type": "code",
   "execution_count": null,
   "id": "4ad1cca9-74b9-4e43-aa2e-aac854a9275b",
   "metadata": {},
   "outputs": [],
   "source": [
    "start_time = default_timer()\n",
    "rec_pipeline.feature_generator()\n",
    "print(f\"***Took {default_timer() - start_time} seconds to generate the features.***\")"
   ]
  },
  {
   "cell_type": "code",
   "execution_count": null,
   "id": "30cc94fa-4b49-46c8-a6cc-3a4b9033b024",
   "metadata": {},
   "outputs": [],
   "source": [
    "stats = rec_pipeline.stats()\n",
    "stats"
   ]
  },
  {
   "cell_type": "code",
   "execution_count": null,
   "id": "dc30ac93-1a4c-4099-b7e2-44949827d890",
   "metadata": {
    "tags": []
   },
   "outputs": [],
   "source": [
    "start_time = default_timer()\n",
    "rec_pipeline.split_generator(input_config)\n",
    "print(f\"***Took {default_timer() - start_time} seconds to generate the split.***\")\n",
    "rec_pipeline.my_graph.schema().view()"
   ]
  },
  {
   "cell_type": "code",
   "execution_count": null,
   "id": "07e70ffb-3c7c-49ef-baa9-f4aff238e84e",
   "metadata": {},
   "outputs": [],
   "source": [
    "model_config = hyperparams.load_model_config()\n",
    "model_config"
   ]
  },
  {
   "cell_type": "code",
   "execution_count": null,
   "id": "171b3bae-5feb-482a-9baa-ecdbb8b1915e",
   "metadata": {},
   "outputs": [],
   "source": [
    "training_config = hyperparams.load_training_config()\n",
    "training_config"
   ]
  },
  {
   "cell_type": "code",
   "execution_count": null,
   "id": "e9faa3bf-3b43-4d26-a069-09f7bb342808",
   "metadata": {},
   "outputs": [],
   "source": [
    "start_time = default_timer()\n",
    "validation_metric = rec_pipeline.train(model_config, training_config)\n",
    "print(f\"***Took {default_timer() - start_time} seconds to train the model.***\")\n",
    "print(\"Validation metric: \", validation_metric)"
   ]
  },
  {
   "cell_type": "code",
   "execution_count": null,
   "id": "b64cb014-1302-4bac-b55f-3c86ba61436c",
   "metadata": {},
   "outputs": [],
   "source": [
    "start_time = default_timer()\n",
    "test_res, ypred, ytrue = rec_pipeline.test(training_config)\n",
    "print(f\"***Took {default_timer() - start_time} seconds to test the model.***\")\n",
    "test_res"
   ]
  },
  {
   "cell_type": "code",
   "execution_count": null,
   "id": "5ec43d5c-07d9-456c-9aa6-c3d230b64991",
   "metadata": {
    "tags": []
   },
   "outputs": [],
   "source": [
    "start_time = default_timer()\n",
    "rec_pipeline.plot(ypred, ytrue)\n",
    "print(f\"***Took {default_timer() - start_time} seconds to plot figures.***\")"
   ]
  },
  {
   "cell_type": "code",
   "execution_count": null,
   "id": "edb4d9c2-ccda-4ce1-b480-a109e492ba58",
   "metadata": {},
   "outputs": [],
   "source": [
    "rec_pipeline.infer(training_config)"
   ]
  },
  {
   "cell_type": "code",
   "execution_count": null,
   "id": "e46e3750-0856-4a72-a332-a8bab0a7230a",
   "metadata": {},
   "outputs": [],
   "source": [
    "bortezomib = \"B(C(CC(C)C)NC(=O)C(CC1=CC=CC=C1)NC(=O)C2=NC=CN=C2)(O)O\"\n",
    "cell_line = \"ACH-000001\"\n",
    "rec_pipeline.infer(training_config, drug=bortezomib, cell_line=cell_line)"
   ]
  },
  {
   "cell_type": "code",
   "execution_count": null,
   "id": "5fadc229-457e-40f5-a0df-b1fd36a772ca",
   "metadata": {},
   "outputs": [],
   "source": [
    "start_time = default_timer()\n",
    "rec_pipeline.infer_embeddings(model_config)\n",
    "print(f\"***Took {default_timer() - start_time} seconds to save node embeddings.***\")\n",
    "rec_pipeline.my_graph.schema().view()"
   ]
  },
  {
   "cell_type": "code",
   "execution_count": null,
   "id": "36cc1319-b49e-4f07-aef0-a140ff354344",
   "metadata": {},
   "outputs": [],
   "source": [
    "\n",
    "\n",
    "#  if (input_config.save_graph_path):\n",
    "#      \n",
    "#     export_data.rdg(my_graph, input_config.save_graph_path)\n",
    "\n",
    "    "
   ]
  }
 ],
 "metadata": {
  "katana": {
   "component": "AI",
   "max_num_hosts": 4
  },
  "kernelspec": {
   "display_name": "Python 3 (ipykernel)",
   "language": "python",
   "name": "python3"
  },
  "language_info": {
   "codemirror_mode": {
    "name": "ipython",
    "version": 3
   },
   "file_extension": ".py",
   "mimetype": "text/x-python",
   "name": "python",
   "nbconvert_exporter": "python",
   "pygments_lexer": "ipython3",
   "version": "3.8.13"
  },
  "toc-autonumbering": false
 },
 "nbformat": 4,
 "nbformat_minor": 5
}
