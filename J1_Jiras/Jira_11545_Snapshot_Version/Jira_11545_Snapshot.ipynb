{
 "cells": [
  {
   "cell_type": "code",
   "execution_count": null,
   "id": "87e5a845-5cbd-49d8-bf61-4a13cd80a1f5",
   "metadata": {},
   "outputs": [],
   "source": [
    "\n",
    "#  Setting display options \n",
    "\n",
    "import pandas as pd\n",
    "   #\n",
    "pd.set_option(\"display.width\", 480)\n",
    "\n",
    "#  Sets horizontal scroll for wide outputs\n",
    "#\n",
    "from IPython.display import display, HTML\n",
    "display(HTML(\"\"))\n",
    "\n",
    "from tabulate import tabulate\n",
    "\n",
    "print(\"--\")\n"
   ]
  },
  {
   "cell_type": "markdown",
   "id": "d3ebe820-bc6d-4948-b668-8b81cd3cbf29",
   "metadata": {
    "tags": []
   },
   "source": [
    "#  Setup stuff: Connectivity"
   ]
  },
  {
   "cell_type": "code",
   "execution_count": null,
   "id": "1ea957d6-30c6-427a-ae4e-15ecfba0c4f9",
   "metadata": {},
   "outputs": [],
   "source": [
    "\n",
    "from katana import remote\n",
    "from katana.remote import import_data\n",
    "\n",
    "\n",
    "my_client = remote.Client()\n",
    "\n",
    "print(my_client)\n"
   ]
  },
  {
   "cell_type": "code",
   "execution_count": null,
   "id": "97571016-7c02-4e90-a75a-136a0dacd35f",
   "metadata": {},
   "outputs": [],
   "source": [
    "\n",
    "NUM_PARTITIONS  = 3\n",
    "   #\n",
    "DB_NAME         = \"my_db\"\n",
    "GRAPH_NAME      = \"my_graph\"\n",
    "\n",
    "print(\"--\")\n"
   ]
  },
  {
   "cell_type": "code",
   "execution_count": null,
   "id": "8ed2d715-aaeb-4381-9216-46fa0dd421b6",
   "metadata": {},
   "outputs": [],
   "source": [
    "\n",
    "#  DELETE ALL GRAPHS\n",
    "\n",
    "for l_database in my_client.databases():\n",
    "   for l_graph in my_client.get_database(name=l_database.name).graphs_in_database():\n",
    "      l_handle=my_client.get_database(name=l_database.name).get_graph_by_id(id=l_graph.graph_id)\n",
    "      l_handle.delete()\n",
    "\n",
    "for l_graph in my_client.graphs():\n",
    "   print(\"GRAPH ID: \", l_graph.graph_id, \"      GRAPH Version: \", l_graph.version)\n",
    "\n",
    "print(\"--\")\n"
   ]
  },
  {
   "cell_type": "code",
   "execution_count": null,
   "id": "cf9c16ec-913f-46a8-bccc-76fc92c54866",
   "metadata": {},
   "outputs": [],
   "source": [
    "\n",
    "#  DELETE ALL DATABASES\n",
    "\n",
    "for l_database in my_client.databases():\n",
    "   if (l_database.name != \"default\"):\n",
    "      my_client.get_database(name=l_database.name).delete_database()\n",
    "      print(\"--\")\n",
    "\n",
    "for l_database in my_client.databases():\n",
    "   print(\"DB ID: \", l_database.database_id, \"     DB Name: \", l_database.name)\n"
   ]
  },
  {
   "cell_type": "code",
   "execution_count": null,
   "id": "6e72729c-265b-40e4-a3ee-674b793bed81",
   "metadata": {},
   "outputs": [],
   "source": [
    "\n",
    "#  CREATE DATABASE\n",
    "\n",
    "my_database = my_client.create_database(name=DB_NAME)\n",
    "\n",
    "print(my_database.database_id)\n"
   ]
  },
  {
   "cell_type": "code",
   "execution_count": null,
   "id": "2fc31da4-44c3-4bd3-b160-b315766dcd88",
   "metadata": {},
   "outputs": [],
   "source": [
    "\n",
    "#  CREATE GRAPH\n",
    "\n",
    "my_graph = my_client.get_database(name=DB_NAME).create_graph(name=GRAPH_NAME, num_partitions=NUM_PARTITIONS)\n",
    "\n",
    "print(my_graph)\n"
   ]
  },
  {
   "cell_type": "code",
   "execution_count": null,
   "id": "c5db6505-7fc8-4779-b194-9ed8945b9a90",
   "metadata": {},
   "outputs": [],
   "source": [
    "\n",
    "#  CONNECT TO GRAPH\n",
    "\n",
    "my_graph, *_ = my_client.get_database(name=DB_NAME).find_graphs_by_name(GRAPH_NAME)\n",
    "\n",
    "print(my_graph)\n"
   ]
  },
  {
   "cell_type": "markdown",
   "id": "61556ce5-9044-42bc-bb13-80b6a514ae27",
   "metadata": {
    "tags": []
   },
   "source": [
    "# Create: Vertices/nodes, edges .."
   ]
  },
  {
   "cell_type": "code",
   "execution_count": null,
   "id": "f7efb47b-3c7d-45f3-acc8-ae29c3e2a1bf",
   "metadata": {},
   "outputs": [],
   "source": [
    "# import pandas as pd\n",
    "# \n",
    "# print(\"--\")\n"
   ]
  },
  {
   "cell_type": "code",
   "execution_count": null,
   "id": "8e7ecf31-d69e-4b5a-8a37-0cfb4c32fd33",
   "metadata": {},
   "outputs": [],
   "source": [
    "\n",
    "#  Vertices/Nodes, Airports ..\n",
    "\n",
    "df_airports = pd.DataFrame([\n",
    "       #\n",
    "   [\"MKE\", \"Milwaukee\"               , \"Airport\"],\n",
    "   [\"ORD\", \"Chicago O-Hare\"          , \"Airport\"],\n",
    "   [\"SJC\", \"San Jose\"                , \"Airport\"],\n",
    "   [\"DEN\", \"Denver\"                  , \"Airport\"],\n",
    "       #\n",
    "   ], columns = [\"id\", \"airport_name\", \"LABEL\"])\n",
    "\n",
    "print(tabulate(df_airports, headers='keys', tablefmt='psql'))\n"
   ]
  },
  {
   "cell_type": "code",
   "execution_count": null,
   "id": "60eaac88-4dd5-47d3-94b3-0f5fd0b243f2",
   "metadata": {},
   "outputs": [],
   "source": [
    "#  Create the edge, flights ..\n",
    "\n",
    "df_flights = pd.DataFrame([\n",
    "      #\n",
    "   [\"MKE\", \"ORD\",   66, 1, \"FLIES_TO\" ],\n",
    "   [\"ORD\", \"MKE\",   66, 1, \"FLIES_TO\" ],\n",
    "      #\n",
    "   [\"ORD\", \"DEN\",  886, 1, \"FLIES_TO\" ],\n",
    "   [\"DEN\", \"ORD\",  886, 1, \"FLIES_TO\" ],\n",
    "      #\n",
    "   [\"SJC\", \"DEN\",  948, 1, \"FLIES_TO\" ],                           #  Notice SJC flies to/from Denver\n",
    "   [\"DEN\", \"SJC\",  948, 1, \"FLIES_TO\" ],\n",
    "      #\n",
    "   [\"SJC\", \"ORD\", 1829, 1, \"FLIES_TO\" ],                           #  Notice SJC flies to ORD, but not ORD to SJC\n",
    "      #\n",
    "   ], columns = [\"START_ID\", \"END_ID\", \"DISTANCE\", \"NUM_HOPS\", \"TYPE\"])\n",
    "\n",
    "print(tabulate(df_flights, headers='keys', tablefmt='psql'))\n"
   ]
  },
  {
   "cell_type": "code",
   "execution_count": null,
   "id": "49e8f39e-4b4f-4377-a8ac-52a1ad07094f",
   "metadata": {},
   "outputs": [],
   "source": [
    "\n",
    "# Import the 2 previously created Python DataFrames into KatanaGraph ..\n",
    "\n",
    "with import_data.DataFrameImporter(my_graph) as df_importer:   \n",
    "    \n",
    "   df_importer.nodes_dataframe(df_airports,                    #  Aiports set of Nodes\n",
    "      id_column             = \"id\",\n",
    "      id_space              = \"Airport\",  \n",
    "      label                 = \"Airport\",  \n",
    "      )\n",
    "\n",
    "   df_importer.node_id_property_name(\"id\")                     #  We need this method if/when we only insert nodes, [ then ] edges as a separate step\n",
    "    \n",
    "   df_importer.edges_dataframe(df_flights,                     #  Our Edge, specifying the relationship between Airport --> FLIES_TO --> Airport\n",
    "      source_id_space       = \"Airport\", \n",
    "      destination_id_space  = \"Airport\",   \n",
    "      source_column         = \"START_ID\",\n",
    "      destination_column    = \"END_ID\",\n",
    "      type                  = \"FLIES_TO\"\n",
    "      )\n",
    "\n",
    "   df_importer.insert()\n",
    "    \n",
    "print(\"--\")\n"
   ]
  },
  {
   "cell_type": "markdown",
   "id": "b002c1ee-7991-4010-9a9f-250bfd647f92",
   "metadata": {},
   "source": [
    "#  Diagnostics"
   ]
  },
  {
   "cell_type": "code",
   "execution_count": null,
   "id": "b9bbf601-a25b-4dd9-8f99-83ec1a576505",
   "metadata": {},
   "outputs": [],
   "source": [
    "\n",
    "#  What's in the graph ..\n",
    "\n",
    "def f_print_graph(i_arg1):\n",
    "    \n",
    "   l_result = i_arg1.query(\"\"\"\n",
    "      MATCH ( n ) \n",
    "      RETURN n\n",
    "      \"\"\")\n",
    "   print(tabulate(l_result, headers='keys', tablefmt='psql'))\n",
    "   \n",
    "   l_result = i_arg1.query(\"\"\"\n",
    "      MATCH ( n ) - [ r ] -> ( m )\n",
    "      RETURN r\n",
    "      \"\"\")\n",
    "   print(tabulate(l_result, headers='keys', tablefmt='psql'))\n",
    "\n",
    "\n",
    "f_print_graph(my_graph)\n"
   ]
  },
  {
   "cell_type": "markdown",
   "id": "74397041-48bf-4867-b304-235764e64e64",
   "metadata": {
    "tags": []
   },
   "source": [
    "#  at_version(), (snapshots) .."
   ]
  },
  {
   "cell_type": "code",
   "execution_count": null,
   "id": "654ed1b6-d429-4253-a7d2-9c6912096e5d",
   "metadata": {},
   "outputs": [],
   "source": [
    "\n",
    "#  graph.version\n",
    "#\n",
    "#     .  If we import both nodes and edges above, graph.version is usually 2.\n",
    "#        If we import just nodes, then just edges, version is usually 4.\n",
    "#        Basically the graph (versions) at each mutation. \n",
    "#\n",
    "#        (version) is a number that constantly moves forward.\n",
    "#\n",
    "#     .  Print version, then mutate, and print version again.\n",
    "#\n",
    "\n",
    "l_vers_afterload    = my_graph.version\n",
    "   #\n",
    "display(\"Graph version after load: %d\" % (l_vers_afterload))\n",
    "\n",
    "l_query = \"\"\"\n",
    "   CREATE ( n: Restaurant { id: 'PAP' } )                     //  Notice single curly braces\n",
    "   SET n.restaurant_name = 'Pappadeauxs Seafood Kitchen' \n",
    "   \"\"\"\n",
    "      #\n",
    "display(l_result = my_graph.query(l_query))\n",
    "\n",
    "\n",
    "l_vers_afternode    = my_graph.version\n",
    "   #\n",
    "display(\"Graph version after node: %d\" % (l_vers_afternode))\n",
    "\n",
    "\n",
    "l_query = \"\"\"\n",
    "   MATCH\n",
    "      (n: Airport   ),\n",
    "      (m: Restaurant)\n",
    "   WHERE n.id               = 'SJC'\n",
    "   AND   m.id               = 'PAP'\n",
    "   CREATE (n) -[r: Attraction { DRIVABLE: 'Yes' }]-> (m)\n",
    "   \"\"\"\n",
    "      #\n",
    "display(l_result = my_graph.query(l_query))\n",
    "\n",
    "\n",
    "l_vers_afteredge    = my_graph.version\n",
    "   #\n",
    "display(\"Graph version after edge: %d\" % (l_vers_afteredge))\n"
   ]
  },
  {
   "cell_type": "code",
   "execution_count": null,
   "id": "daa98392-2c52-4b27-8e0b-fb92f9c4c638",
   "metadata": {},
   "outputs": [],
   "source": [
    "\n",
    "#  Print the current graph, then print graph at a prior version\n",
    "#\n",
    "#     Used to be able to do,  my_graph2 = my_graph.at_version(n)\n",
    "#     Now at_version() is not found.\n",
    "#\n",
    "\n",
    "#  This works perfectly;\n",
    "#\n",
    "#     .  We had a graph (Vers 2), then added 1 node (Vers 3), and separately\n",
    "#        added 1 edge (Vers 4)\n",
    "#\n",
    "#     .  Vers 3 and Vers 4 of the graph correctly report only what it should\n",
    "#\n",
    "\n",
    "f_print_graph(my_graph)\n",
    "\n",
    "print(\"\")\n",
    "print(\"#################################################################\")\n",
    "print(\"\")\n",
    "\n",
    "my_graph3 = my_graph.create_snapshot_at_version(l_vers_afternode)\n",
    "f_print_graph(my_graph3)\n",
    "\n",
    "print(\"\")\n",
    "print(\"#################################################################\")\n",
    "print(\"\")\n",
    "\n",
    "my_graph4 = my_graph.create_snapshot_at_version(l_vers_afteredge)\n",
    "f_print_graph(my_graph4)\n"
   ]
  },
  {
   "cell_type": "code",
   "execution_count": null,
   "id": "c9877039-3433-40e3-ae57-f201d4f215b2",
   "metadata": {},
   "outputs": [],
   "source": [
    "\n",
    "#  This works perfectly\n",
    "#\n",
    "\n",
    "display(my_graph.num_nodes())\n",
    "display(my_graph.num_edges())\n",
    "\n",
    "print(\"\")\n",
    "\n",
    "if 'my_graph3' in globals(): \n",
    "   display(my_graph3.num_nodes())\n",
    "   display(my_graph3.num_edges())\n",
    "else: \n",
    "   pass\n",
    "\n",
    "print(\"\")\n",
    "\n",
    "if 'my_graph4' in globals(): \n",
    "   display(my_graph4.num_nodes())\n",
    "   display(my_graph4.num_edges())\n",
    "else: \n",
    "   pass\n",
    "\n"
   ]
  },
  {
   "cell_type": "code",
   "execution_count": null,
   "id": "657640ca-cf58-4d3e-8c93-5d0c1916b433",
   "metadata": {},
   "outputs": [],
   "source": [
    "\n",
    "#  Print available snapshots for a given graph\n",
    "#\n",
    "\n",
    "#  Errors out,\n",
    "#\n",
    "print(my_graph.get_snapshots())\n",
    "\n",
    "#  Error,\n",
    "#\n",
    "#     AttributeError: '_Database' object has no attribute 'graphs'\n"
   ]
  },
  {
   "cell_type": "code",
   "execution_count": null,
   "id": "4375f7be-ee87-4803-8efb-637dd6bd7435",
   "metadata": {},
   "outputs": [],
   "source": [
    "\n",
    "#  This should output something; all we get is \"None\"\n",
    "#\n",
    "\n",
    "display(my_graph.snapshot_of)\n",
    "display(my_graph3.snapshot_of)\n",
    "display(my_graph4.snapshot_of)\n"
   ]
  },
  {
   "cell_type": "code",
   "execution_count": null,
   "id": "084dc716-f955-44b5-8c3c-2fbd620c932e",
   "metadata": {},
   "outputs": [],
   "source": []
  }
 ],
 "metadata": {
  "kernelspec": {
   "display_name": "Python 3 (ipykernel)",
   "language": "python",
   "name": "python3"
  },
  "language_info": {
   "codemirror_mode": {
    "name": "ipython",
    "version": 3
   },
   "file_extension": ".py",
   "mimetype": "text/x-python",
   "name": "python",
   "nbconvert_exporter": "python",
   "pygments_lexer": "ipython3",
   "version": "3.8.13"
  }
 },
 "nbformat": 4,
 "nbformat_minor": 5
}
