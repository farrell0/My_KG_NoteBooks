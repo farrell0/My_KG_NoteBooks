{
 "cells": [
  {
   "cell_type": "code",
   "execution_count": 2,
   "id": "3604823f-f733-42f9-91c3-49fba4cc601f",
   "metadata": {},
   "outputs": [
    {
     "name": "stderr",
     "output_type": "stream",
     "text": [
      "VERBOSE: ../../../../external/katana/libgalois/include/katana/AsyncPool.h:152: 12777: async pool tids: 140372239427328, 140372237326080, 140372235224832\n",
      "VERBOSE: ../../../../external/katana/libgalois/include/katana/AsyncPool.h:152: 12777: async pool tids: 140372233123584, 140372228925184\n",
      "VERBOSE: ../../../../external/katana/libgalois/include/katana/AsyncPool.h:152: 12777: async pool tids: 140372224726784, 140372216334080\n",
      "VERBOSE: ../../../../external/katana/libgalois/include/katana/AsyncPool.h:152: 12777: async pool tids: 140372207941376, 140372191160064\n",
      "VERBOSE: ../../../../external/katana/libgalois/include/katana/AsyncPool.h:152: 12777: async pool tids: 140372174378752, 140372172277504\n"
     ]
    },
    {
     "name": "stdout",
     "output_type": "stream",
     "text": [
      "<katana_enterprise.remote.sync_wrappers.Client object at 0x7fab3a4a5ca0>\n"
     ]
    }
   ],
   "source": [
    "import os\n",
    "\n",
    "from katana import remote\n",
    "from katana.remote import import_data\n",
    "\n",
    "\n",
    "my_client = remote.Client()\n",
    "\n",
    "print(my_client)\n"
   ]
  },
  {
   "cell_type": "code",
   "execution_count": 1,
   "id": "1382843a-8c27-49fe-ae62-0a979a315fb9",
   "metadata": {},
   "outputs": [
    {
     "name": "stdout",
     "output_type": "stream",
     "text": [
      "--\n"
     ]
    }
   ],
   "source": [
    "NUM_PARTITIONS  = 3\n",
    "   #\n",
    "DB_NAME         = \"my_db\"\n",
    "GRAPH_NAME      = \"my_graph\"\n",
    "\n",
    "print(\"--\")\n"
   ]
  },
  {
   "cell_type": "code",
   "execution_count": 4,
   "id": "74643277-0a5d-468b-a761-e3603ddbe9ac",
   "metadata": {},
   "outputs": [
    {
     "name": "stdout",
     "output_type": "stream",
     "text": [
      "<_Graph my_graph, AMfLD3s2EGy4SEAjYUveoSr96jrj335CbtQ33h8vnFyf, 0>\n"
     ]
    }
   ],
   "source": [
    "#  CREATE GRAPH\n",
    "\n",
    "my_graph = my_client.get_database(name=DB_NAME).create_graph(name=GRAPH_NAME, num_partitions=NUM_PARTITIONS)\n",
    "\n",
    "print(my_graph)\n"
   ]
  },
  {
   "cell_type": "code",
   "execution_count": null,
   "id": "6d707e63-a79d-42ee-af06-a251ff07e023",
   "metadata": {},
   "outputs": [],
   "source": [
    "#  CONNECT TO GRAPH\n",
    "\n",
    "for l_graph in my_client.get_database(name=DB_NAME).graphs_in_database():\n",
    "   if (l_graph.name == GRAPH_NAME):\n",
    "      my_graph=my_client.get_database(name=DB_NAME).get_graph_by_id(id=l_graph.graph_id)\n",
    "         #\n",
    "      break\n",
    "\n",
    "print(my_graph)\n"
   ]
  },
  {
   "cell_type": "code",
   "execution_count": null,
   "id": "cb16a116-d626-4233-b12e-23a7717e8d96",
   "metadata": {},
   "outputs": [],
   "source": [
    "#  DELETE ALL GRAPHS\n",
    "\n",
    "for l_database in my_client.databases():\n",
    "   for l_graph in my_client.get_database(name=l_database.name).graphs_in_database():\n",
    "      l_handle=my_client.get_database(name=l_database.name).get_graph_by_id(id=l_graph.graph_id)\n",
    "      l_handle.delete()\n",
    "\n",
    "for l_graph in my_client.graphs():\n",
    "   print(\"GRAPH ID: \", l_graph.graph_id, \"      GRAPH Version: \", l_graph.version)\n",
    "\n",
    "print(\"--\")\n"
   ]
  },
  {
   "cell_type": "code",
   "execution_count": null,
   "id": "032e0e4a-9b49-483c-8e3e-56a3abb9027f",
   "metadata": {},
   "outputs": [],
   "source": [
    "# ##################################################################"
   ]
  },
  {
   "cell_type": "code",
   "execution_count": null,
   "id": "33f02fa8-fff4-4630-9482-8fed27c83c75",
   "metadata": {},
   "outputs": [],
   "source": [
    "#  IMPORT DATA INTO GRAPH USING CSV\n",
    "\n",
    "# l_inp=\"gs://katana-demo-datasets/csv-datasets/ldbc/headers/sf-0.003-bi-node_headers.txt\"\n",
    "# l_dir=\"gs://katana-demo-datasets/csv-datasets/ldbc\"\n",
    "\n",
    "l_inp=\"gs://farrell-data-bucket/D1_DateTest.txt\"\n",
    "l_dir=\"gs://farrell-data-bucket/\"\n",
    "\n",
    "# l_inp=\"gs://farrell-data-bucket/40_sf-0.003-bi-node_headers.txt\"\n",
    "# l_dir=\"gs://farrell-data-bucket/\"\n",
    "\n",
    "\n",
    "import_data.csv(\n",
    "   my_graph,\n",
    "      #\n",
    "   input_node_path    = l_inp,\n",
    "   input_dir          = l_dir,\n",
    "      #\n",
    "   data_delimiter     = \"|\",\n",
    "   schema_delimiter   = \"|\",\n",
    "   files_have_headers = False\n",
    "   )\n",
    "\n",
    "print(\"--\")\n"
   ]
  },
  {
   "cell_type": "code",
   "execution_count": null,
   "id": "e5e93d1c-8698-4a3e-bc1e-6ca059a54e4c",
   "metadata": {},
   "outputs": [],
   "source": [
    "display(my_graph.num_nodes())\n",
    "display(my_graph.num_edges())\n"
   ]
  },
  {
   "cell_type": "code",
   "execution_count": null,
   "id": "7783bc44-4e0d-468f-bdba-0b8fa45e83d0",
   "metadata": {},
   "outputs": [],
   "source": [
    "result = my_graph.query(\"\"\"\n",
    "\n",
    "   MATCH (n)\n",
    "   RETURN n\n",
    "   \n",
    "   \"\"\")\n",
    "\n",
    "print(result)\n"
   ]
  },
  {
   "cell_type": "code",
   "execution_count": null,
   "id": "0ae26089-2368-4d04-ad0c-2d2cebcb8876",
   "metadata": {},
   "outputs": [],
   "source": [
    "# ##################################################################"
   ]
  },
  {
   "cell_type": "code",
   "execution_count": null,
   "id": "37ca0171-e8f4-4630-8e18-8e6d7097a974",
   "metadata": {},
   "outputs": [],
   "source": [
    "#  This was checking to see if birthday was a string\n",
    "#  No result\n",
    "\n",
    "result = my_graph.query(\"\"\"\n",
    "\n",
    "   MATCH (n)\n",
    "   WHERE n.birthday ='2017-04-04'\n",
    "   RETURN properties(n)\n",
    "   \n",
    "   \"\"\")\n",
    "\n",
    "print(result)\n"
   ]
  },
  {
   "cell_type": "code",
   "execution_count": null,
   "id": "85a71bb3-59ab-4a71-9a9a-d7beea94704c",
   "metadata": {},
   "outputs": [],
   "source": [
    "#  This is a check to see if birthday is a datetime\n",
    "#  No result\n",
    "\n",
    "result = my_graph.query(\"\"\"\n",
    "\n",
    "   MATCH (n)\n",
    "   WHERE n.birthday = 2017-04-04\n",
    "   RETURN properties(n)\n",
    "   \n",
    "   \"\"\")\n",
    "\n",
    "print(result)\n"
   ]
  },
  {
   "cell_type": "code",
   "execution_count": null,
   "id": "00c2210c-8a6c-49cc-be4c-652591b259bc",
   "metadata": {},
   "outputs": [],
   "source": [
    "#  This should force birthday to a string but fails\n",
    "#  Errored\n",
    "\n",
    "result = my_graph.query(\"\"\"\n",
    "\n",
    "   MATCH (n)\n",
    "   WHERE toString(n.birthday) ='2017-04-04' \n",
    "   RETURN properties(n)\n",
    "   \n",
    "   \"\"\")\n",
    "\n",
    "print(result)\n"
   ]
  },
  {
   "cell_type": "code",
   "execution_count": null,
   "id": "da2db524-0399-405b-8412-3180118593f5",
   "metadata": {},
   "outputs": [],
   "source": [
    "#  Birthday can not be parsed\n",
    "#  Errored\n",
    "\n",
    "result = my_graph.query(\"\"\"\n",
    "\n",
    "   MATCH (n)\n",
    "   WHERE n.birthday STARTS WITH '2017' \n",
    "   RETURN properties(n)\n",
    "   \n",
    "   \"\"\")\n",
    "\n",
    "print(result)\n"
   ]
  },
  {
   "cell_type": "code",
   "execution_count": null,
   "id": "c5250c87-dc94-4cce-ae0d-5737cce35a7d",
   "metadata": {},
   "outputs": [],
   "source": [
    "# ##################################################################"
   ]
  },
  {
   "cell_type": "code",
   "execution_count": null,
   "id": "2d9fe01b-c12d-434a-a57a-4658a5ee525a",
   "metadata": {},
   "outputs": [],
   "source": [
    "\n",
    "#   Jira 3910,  done/closed\n",
    "\n",
    "result = my_graph.query(\"\"\"\n",
    "\n",
    "   MATCH (n) \n",
    "   RETURN count(distinct labels(n))\n",
    "   \n",
    "   \"\"\")\n",
    "\n",
    "print(result)\n"
   ]
  },
  {
   "cell_type": "code",
   "execution_count": null,
   "id": "1e7dfd2a-8f65-4a03-89dd-3722bb2bb917",
   "metadata": {},
   "outputs": [],
   "source": []
  }
 ],
 "metadata": {
  "kernelspec": {
   "display_name": "Python 3 (ipykernel)",
   "language": "python",
   "name": "python3"
  },
  "language_info": {
   "codemirror_mode": {
    "name": "ipython",
    "version": 3
   },
   "file_extension": ".py",
   "mimetype": "text/x-python",
   "name": "python",
   "nbconvert_exporter": "python",
   "pygments_lexer": "ipython3",
   "version": "3.8.13"
  }
 },
 "nbformat": 4,
 "nbformat_minor": 5
}
