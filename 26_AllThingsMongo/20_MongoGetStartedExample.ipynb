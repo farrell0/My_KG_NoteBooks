{
 "cells": [
  {
   "cell_type": "markdown",
   "id": "16397a56-d8fe-4847-83b5-1168a56c8b0e",
   "metadata": {},
   "source": [
    "#  Must run file 14* first, which sets up MongoDB"
   ]
  },
  {
   "cell_type": "code",
   "execution_count": null,
   "id": "e330271d-7c1c-4690-b9ac-7ed82b1b2a7c",
   "metadata": {},
   "outputs": [],
   "source": [
    "\n",
    "#  Hello World for MongoDB ..\n",
    "\n",
    "import pymongo\n",
    "from   pymongo import MongoClient\n",
    "   # \n",
    "from bson.objectid import ObjectId\n",
    "\n",
    "   ###\n",
    "\n",
    "cn = MongoClient(\"localhost:7777\")\n",
    "\n",
    "db = cn.my_db_m\n",
    "\n",
    "db.my_states.drop()\n",
    "   #\n",
    "db.my_states.insert_one( {\"st_abbr\" : \"XX\"       , \"name\"    : \"XX XXXXX\"  } )\n",
    "db.my_states.insert_one( {\"st_abbr\" : \"CO\"       , \"name\"    : \"Colorado\"  } )\n",
    "db.my_states.insert_one( {\"st_abbr\" : \"WI\"       , \"name\"    : \"Wisconsin\" } )\n",
    "db.my_states.insert_one( {\"st_abbr\" : \"TX\"       , \"name\"    : \"Texas\"     } )\n",
    "db.my_states.insert_one( {\"st_abbr\" : \"YY\"       , \"name\"    : \"YY YYYYY\"  } )\n",
    "\n",
    "db.my_cities.drop()\n",
    "   #\n",
    "db.my_cities.insert_one( {\"name\" : \"Fort Collins\", \"st_code\" : \"CO\"        } )\n",
    "db.my_cities.insert_one( {\"name\" : \"Green Bay\"   , \"st_code\" : \"WI\"        } )\n",
    "db.my_cities.insert_one( {\"name\" : \"Appleton\"    , \"st_code\" : \"WI\"        } )\n",
    "db.my_cities.insert_one( {\"name\" : \"Frisco\"      , \"st_code\" : \"TX\"        } )\n",
    "   \n",
    "   ###\n",
    "   \n",
    "print(\"Executing a find()\")\n",
    "print(\"\")\n",
    "\n",
    "l_result = list ( db.my_states.find( { \"st_abbr\" : { \"$in\" : [ \"CO\" , \"WI\" ] } } ) )\n",
    "   #\n",
    "for l_each in l_result:\n",
    "   print(l_each)\n"
   ]
  },
  {
   "cell_type": "code",
   "execution_count": null,
   "id": "0486a943-8c7b-47b1-9cc4-6d88f722fe06",
   "metadata": {},
   "outputs": [],
   "source": [
    "\n",
    "#  Count all records ..\n",
    "\n",
    "display(db.my_states.count_documents({}))\n",
    "display(db.my_cities.count_documents({}))\n"
   ]
  },
  {
   "cell_type": "code",
   "execution_count": null,
   "id": "3a45a854-e265-4c1e-a17a-7a4383b1bd8b",
   "metadata": {},
   "outputs": [],
   "source": [
    "\n",
    "#  Sample lookup, City and State ..\n",
    "\n",
    "l_result = db.my_cities.aggregate( [\n",
    "   {\n",
    "   \"$lookup\" :\n",
    "      {\n",
    "      \"localField\"   : \"st_code\",\n",
    "         #\n",
    "      \"from\"         : \"my_states\",\n",
    "      \"foreignField\" : \"st_abbr\",\n",
    "      \"as\"           : \"ddd\"\n",
    "      }\n",
    "   },\n",
    "   {\n",
    "   \"$project\" :\n",
    "      {\n",
    "      \"_id\"     : 0,\n",
    "      \"name\"    : 1,\n",
    "      \"ddd.name\": 1\n",
    "      }\n",
    "   } ,\n",
    "   {\n",
    "   \"$limit\" : 5\n",
    "   }\n",
    "] )\n",
    "    \n",
    "    \n",
    "for l_each in l_result:\n",
    "   print(\"%-32s  %-32s\" % (l_each[\"name\"], l_each[\"ddd\"][0]))\n",
    "    \n",
    "print(\"--\")\n"
   ]
  }
 ],
 "metadata": {
  "kernelspec": {
   "display_name": "Python 3 (ipykernel)",
   "language": "python",
   "name": "python3"
  },
  "language_info": {
   "codemirror_mode": {
    "name": "ipython",
    "version": 3
   },
   "file_extension": ".py",
   "mimetype": "text/x-python",
   "name": "python",
   "nbconvert_exporter": "python",
   "pygments_lexer": "ipython3",
   "version": "3.8.13"
  }
 },
 "nbformat": 4,
 "nbformat_minor": 5
}
