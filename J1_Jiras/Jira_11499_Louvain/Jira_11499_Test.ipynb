{
 "cells": [
  {
   "cell_type": "code",
   "execution_count": 1,
   "id": "b7682060-fbd6-41a5-a43d-7c81f0982dc1",
   "metadata": {},
   "outputs": [
    {
     "name": "stdout",
     "output_type": "stream",
     "text": [
      "Exception reporting mode: Minimal\n"
     ]
    },
    {
     "data": {
      "text/html": [],
      "text/plain": [
       "<IPython.core.display.HTML object>"
      ]
     },
     "metadata": {},
     "output_type": "display_data"
    },
    {
     "name": "stdout",
     "output_type": "stream",
     "text": [
      "--\n"
     ]
    }
   ],
   "source": [
    "\n",
    "%xmode Minimal\n",
    "\n",
    "#  Setting display options \n",
    "\n",
    "import pandas as pd\n",
    "   #\n",
    "pd.set_option(\"display.width\", 480)\n",
    "\n",
    "#  Sets horizontal scroll for wide outputs\n",
    "#\n",
    "from IPython.display import display, HTML\n",
    "display(HTML(\"\"))\n",
    "\n",
    "from tabulate import tabulate\n",
    "\n",
    "print(\"--\")\n"
   ]
  },
  {
   "cell_type": "markdown",
   "id": "d3ebe820-bc6d-4948-b668-8b81cd3cbf29",
   "metadata": {
    "tags": []
   },
   "source": [
    "#  Setup stuff: Connectivity"
   ]
  },
  {
   "cell_type": "code",
   "execution_count": 2,
   "id": "1ea957d6-30c6-427a-ae4e-15ecfba0c4f9",
   "metadata": {},
   "outputs": [
    {
     "name": "stdout",
     "output_type": "stream",
     "text": [
      "<katana.remote.sync_wrappers.Client object at 0x7f14407cee50>\n"
     ]
    }
   ],
   "source": [
    "\n",
    "from katana import remote\n",
    "from katana.remote import import_data\n",
    "\n",
    "my_client = remote.Client()\n",
    "\n",
    "print(my_client)\n"
   ]
  },
  {
   "cell_type": "code",
   "execution_count": 3,
   "id": "97571016-7c02-4e90-a75a-136a0dacd35f",
   "metadata": {},
   "outputs": [
    {
     "name": "stdout",
     "output_type": "stream",
     "text": [
      "--\n"
     ]
    }
   ],
   "source": [
    "\n",
    "NUM_PARTITIONS  = 3\n",
    "   #\n",
    "DB_NAME         = \"my_db\"\n",
    "GRAPH_NAME      = \"my_graph\"\n",
    "\n",
    "print(\"--\")\n"
   ]
  },
  {
   "cell_type": "code",
   "execution_count": 4,
   "id": "c5db6505-7fc8-4779-b194-9ed8945b9a90",
   "metadata": {},
   "outputs": [
    {
     "name": "stdout",
     "output_type": "stream",
     "text": [
      "<_Graph my_graph, G3LxhujM9ZReqEamSqKsWygmu2Rkn5oL7JsPQ5vgZPgT, 1>\n"
     ]
    }
   ],
   "source": [
    "\n",
    "#  CONNECT TO GRAPH\n",
    "\n",
    "my_graph, *_ = my_client.get_database(name=DB_NAME).find_graphs_by_name(GRAPH_NAME)\n",
    "\n",
    "print(my_graph)\n"
   ]
  },
  {
   "cell_type": "markdown",
   "id": "81126254-12b2-49df-8d36-50c55ad290c1",
   "metadata": {},
   "source": [
    "# Louvain algorithm"
   ]
  },
  {
   "cell_type": "code",
   "execution_count": 5,
   "id": "6aa88702-afb3-4cc0-a5d7-00973e881c6a",
   "metadata": {},
   "outputs": [
    {
     "name": "stdout",
     "output_type": "stream",
     "text": [
      "--\n"
     ]
    }
   ],
   "source": [
    "\n",
    "from katana.remote import analytics\n",
    "\n",
    "\n",
    "l_cntr = 20                                                #  Used to generate a unique column name\n",
    "   #\n",
    "print(\"--\")\n"
   ]
  },
  {
   "cell_type": "code",
   "execution_count": 6,
   "id": "23067305-ffd0-41f0-abf0-1034beefd402",
   "metadata": {},
   "outputs": [
    {
     "data": {
      "application/vnd.jupyter.widget-view+json": {
       "model_id": "c823343eda444e75a0485f743d77db46",
       "version_major": 2,
       "version_minor": 0
      },
      "text/plain": [
       "          0/? [?op/s]"
      ]
     },
     "metadata": {},
     "output_type": "display_data"
    },
    {
     "name": "stdout",
     "output_type": "stream",
     "text": [
      "None\n",
      "--\n"
     ]
    }
   ],
   "source": [
    "\n",
    "#  We use this counter to generate a unique column name below \n",
    "#\n",
    "l_cntr += 1\n",
    "   #\n",
    "l_output_propname     = \"louvain_\" + str(l_cntr).zfill(4)\n",
    "\n",
    "\n",
    "l_result = analytics.louvain_clustering(\n",
    "   my_graph,\n",
    "      #\n",
    "   result_property_name = l_output_propname,\n",
    "      #\n",
    "   is_symmetric         = True\n",
    "   )\n",
    "\n",
    "print(l_result)\n",
    "   #\n",
    "print(\"--\")\n"
   ]
  },
  {
   "cell_type": "markdown",
   "id": "a310b170-1869-46b8-b0ea-dc4d272b80b4",
   "metadata": {},
   "source": [
    "# Checking that result above\n"
   ]
  },
  {
   "cell_type": "code",
   "execution_count": null,
   "id": "cb62fb3f-36cb-4d55-ab0b-388370690c00",
   "metadata": {},
   "outputs": [
    {
     "data": {
      "application/vnd.jupyter.widget-view+json": {
       "model_id": "29ae017b58dd4a28bbee0e7ac7058514",
       "version_major": 2,
       "version_minor": 0
      },
      "text/plain": [
       "          0/? [?op/s]"
      ]
     },
     "metadata": {},
     "output_type": "display_data"
    }
   ],
   "source": [
    "\n",
    "#  Unfiltered node data\n",
    "#\n",
    "\n",
    "l_query = \"\"\"\n",
    "\n",
    "   MATCH (n)\n",
    "   RETURN n.{0}, ID(n), n\n",
    "   ORDER BY n.{0} DESC\n",
    "    \n",
    "    \"\"\".format(l_output_propname)\n",
    "\n",
    "l_result = my_graph.query_unpaginated(l_query)\n",
    "   #\n",
    "print(tabulate(l_result, headers='keys', tablefmt='psql'))\n",
    "\n",
    "#  Sample data, after adding Narita and Seoul below-\n",
    "#\n",
    "#     +----+----------------------+-----------------+-----------------+-------------+------------------+------------------+----------------------+----------+-----------+\n",
    "#     |    |       n.louvain_0023 |           ID(n) |   n.internal_id | n.labels    | n.airport_code   | n.airport_name   |       n.louvain_0023 | n.type   | n.LABEL   |\n",
    "#     |----+----------------------+-----------------+-----------------+-------------+------------------+------------------+----------------------+----------+-----------|\n",
    "#     |  0 | 18446744073709551615 |               2 |               2 | ['Airport'] | NRT              | Narita, Japan    | 18446744073709551615 | node     | nan       |\n",
    "#     |  1 | 18446744073709551615 |               0 |               0 | ['Airport'] | ORD              | Chicago O-Hare   | 18446744073709551615 | node     | Airport   |\n",
    "#     |  2 | 18446744073709551615 |               1 |               1 | ['Airport'] | SJC              | San Jose         | 18446744073709551615 | node     | Airport   |\n",
    "#     |  3 | 18446744073709551615 | 281474976710656 | 281474976710656 | ['Airport'] | ICN              | Seoul, Korea     | 18446744073709551615 | node     | nan       |\n",
    "#     |  4 | 18446744073709551615 | 562949953421312 | 562949953421312 | ['Airport'] | MKE              | Milwaukee        | 18446744073709551615 | node     | Airport   |\n",
    "#     |  5 | 18446744073709551615 | 562949953421313 | 562949953421313 | ['Airport'] | DEN              | Denver           | 18446744073709551615 | node     | Airport   |\n",
    "#     +----+----------------------+-----------------+-----------------+-------------+------------------+------------------+----------------------+----------+-----------+\n"
   ]
  },
  {
   "cell_type": "code",
   "execution_count": null,
   "id": "1eb36918-4184-4b30-b619-371f4d5c3280",
   "metadata": {},
   "outputs": [],
   "source": [
    "\n",
    "#  View output\n",
    "#\n",
    "\n",
    "l_query = \"\"\"\n",
    "\n",
    "   MATCH (n)\n",
    "   RETURN n.{0}, ID(n), n.airport_name\n",
    "   ORDER BY n.{0} DESC\n",
    "   LIMIT 10\n",
    "    \n",
    "    \"\"\".format(l_output_propname)\n",
    "\n",
    "l_result = my_graph.query(l_query)\n",
    "   #    \n",
    "print(tabulate(l_result, headers='keys', tablefmt='psql'))\n"
   ]
  },
  {
   "cell_type": "code",
   "execution_count": null,
   "id": "5f5ea89a-dc39-44d4-9ee0-d8c523904f4a",
   "metadata": {},
   "outputs": [],
   "source": [
    "\n",
    "#  Add a new community\n",
    "#\n",
    "\n",
    "l_query = \"\"\"\n",
    "   CREATE ( n: Airport { airport_code: 'NRT' } )               //  Notice single curly braces\n",
    "   SET n.airport_name = 'Narita, Japan' \n",
    "   \"\"\"\n",
    "      #\n",
    "display(l_result = my_graph.query(l_query))\n",
    "\n",
    "l_query = \"\"\"\n",
    "   CREATE ( n: Airport { airport_code: 'ICN' } ) \n",
    "   SET n.airport_name = 'Seoul, Korea' \n",
    "   \"\"\"\n",
    "      #\n",
    "display(l_result = my_graph.query(l_query))\n",
    "\n",
    "\n",
    "l_query = \"\"\"\n",
    "   MATCH\n",
    "      (n: Airport   ),\n",
    "      (m: Airport   )\n",
    "   WHERE n.airport_code     = 'NRT' AND m.airport_code  = 'ICN'\n",
    "   CREATE (n) -[r: FLIES_TO { DISTANCE: 752, NUM_HOPS: 1}]-> (m)\n",
    "   \"\"\"\n",
    "      #\n",
    "display(l_result = my_graph.query(l_query))\n",
    "\n"
   ]
  },
  {
   "cell_type": "code",
   "execution_count": null,
   "id": "b22388f7-acd6-4d2c-8bcf-3064bc0e1a7d",
   "metadata": {},
   "outputs": [],
   "source": [
    "#  Go up, run Louvain again .."
   ]
  }
 ],
 "metadata": {
  "kernelspec": {
   "display_name": "Python 3 (ipykernel)",
   "language": "python",
   "name": "python3"
  },
  "language_info": {
   "codemirror_mode": {
    "name": "ipython",
    "version": 3
   },
   "file_extension": ".py",
   "mimetype": "text/x-python",
   "name": "python",
   "nbconvert_exporter": "python",
   "pygments_lexer": "ipython3",
   "version": "3.8.13"
  }
 },
 "nbformat": 4,
 "nbformat_minor": 5
}
