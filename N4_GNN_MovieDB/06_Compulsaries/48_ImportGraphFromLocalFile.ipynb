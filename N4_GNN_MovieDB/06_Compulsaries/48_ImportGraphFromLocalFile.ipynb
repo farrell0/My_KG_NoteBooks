{
 "cells": [
  {
   "cell_type": "code",
   "execution_count": 1,
   "id": "be86887d-60ed-489b-89f6-3591d7c0cc7c",
   "metadata": {},
   "outputs": [
    {
     "name": "stdout",
     "output_type": "stream",
     "text": [
      "--\n"
     ]
    }
   ],
   "source": [
    "\n",
    "#  Setting display options \n",
    "\n",
    "import pandas as pd\n",
    "   #\n",
    "pd.set_option(\"display.width\", 480)\n",
    "\n",
    "from tabulate import tabulate\n",
    "\n",
    "\n",
    "# MY_DEBUG = True\n",
    "MY_DEBUG = False\n",
    "   #\n",
    "print(\"--\")\n"
   ]
  },
  {
   "cell_type": "code",
   "execution_count": 2,
   "id": "9a874df7-993f-404d-aa53-c8ca266f40a0",
   "metadata": {},
   "outputs": [
    {
     "name": "stdout",
     "output_type": "stream",
     "text": [
      "--\n"
     ]
    }
   ],
   "source": [
    "\n",
    "import dask.dataframe as dd\n",
    "import numpy as np\n",
    "   #\n",
    "import json\n",
    "\n",
    "from tabulate import tabulate\n",
    "\n",
    "print(\"--\")\n"
   ]
  },
  {
   "cell_type": "code",
   "execution_count": 10,
   "id": "7c206abe-b7c9-4f24-9c38-bd59fde31526",
   "metadata": {},
   "outputs": [
    {
     "name": "stdout",
     "output_type": "stream",
     "text": [
      "--\n"
     ]
    }
   ],
   "source": [
    "\n",
    "#  Load DataFrame with raw input data\n",
    "\n",
    "l_InputFiles  = [\n",
    "   \"./02_Files/50_Keywords_00.txt\",\n",
    "]\n",
    "\n",
    "df_data = dd.read_csv(\n",
    "   l_InputFiles,\n",
    "   delimiter  = \",\",\n",
    "   skiprows   = 1,                                            #  Skip the first line of each file, since it's the column headers\n",
    "   dtype      = {\n",
    "      \"id\"                        : np.dtype(str),\n",
    "      \"keywords\"                  : np.dtype(str),            #  In the source CSV, this column was titled 'values', a bad idea\n",
    "      },\n",
    "   names      = [\n",
    "      \"id\", \"keywords\"\n",
    "      ]\n",
    "   )   \n",
    "\n",
    "df_data.compute()\n",
    "\n",
    "print(\"--\")\n"
   ]
  },
  {
   "cell_type": "code",
   "execution_count": 17,
   "id": "5a009883-fadd-4dfe-9f83-efd5e4ef6e87",
   "metadata": {},
   "outputs": [
    {
     "name": "stdout",
     "output_type": "stream",
     "text": [
      "<katana_enterprise.remote.sync_wrappers.Client object at 0x7f0d22a3ab20>\n"
     ]
    }
   ],
   "source": [
    "\n",
    "from katana import remote\n",
    "from katana.remote import import_data\n",
    "\n",
    "my_client = remote.Client()\n",
    "\n",
    "print(my_client)\n"
   ]
  },
  {
   "cell_type": "code",
   "execution_count": 18,
   "id": "1ddc3b51-a38f-406d-b4cb-4bcd13c5f327",
   "metadata": {},
   "outputs": [
    {
     "name": "stdout",
     "output_type": "stream",
     "text": [
      "--\n"
     ]
    }
   ],
   "source": [
    "\n",
    "NUM_PARTITIONS  = 3\n",
    "   #\n",
    "DB_NAME         = \"my_db\"\n",
    "GRAPH_NAME      = \"my_graph\"\n",
    "\n",
    "print(\"--\")"
   ]
  },
  {
   "cell_type": "code",
   "execution_count": 19,
   "id": "15cfb83b-fd1f-46c3-96ad-95ceed14058f",
   "metadata": {},
   "outputs": [
    {
     "name": "stdout",
     "output_type": "stream",
     "text": [
      "--\n"
     ]
    }
   ],
   "source": [
    "#  DELETE ALL GRAPHS\n",
    "\n",
    "for l_database in my_client.databases():\n",
    "   for l_graph in my_client.get_database(name=l_database.name).graphs_in_database():\n",
    "      l_handle=my_client.get_database(name=l_database.name).get_graph_by_id(id=l_graph.graph_id)\n",
    "      l_handle.delete()\n",
    "\n",
    "for l_graph in my_client.graphs():\n",
    "   print(\"GRAPH ID: \", l_graph.graph_id, \"      GRAPH Version: \", l_graph.version)\n",
    "\n",
    "print(\"--\")"
   ]
  },
  {
   "cell_type": "code",
   "execution_count": null,
   "id": "04909ce0-17bc-4214-84a7-3016cdbf52c8",
   "metadata": {},
   "outputs": [],
   "source": [
    "#  DELETE ALL DATABASES\n",
    "\n",
    "for l_database in my_client.databases():\n",
    "   if (l_database.name != \"default\"):\n",
    "      my_client.get_database(name=l_database.name).delete_database()\n",
    "      print(\"--\")\n",
    "\n",
    "for l_database in my_client.databases():\n",
    "   print(\"DB ID: \", l_database.database_id, \"     DB Name: \", l_database.name)\n"
   ]
  },
  {
   "cell_type": "code",
   "execution_count": null,
   "id": "1fb24521-9a8d-4fad-bdec-52876bc71e20",
   "metadata": {},
   "outputs": [],
   "source": [
    "#  CREATE DATABASE\n",
    "\n",
    "my_database = my_client.create_database(name=DB_NAME)\n",
    "\n",
    "print(my_database.database_id)\n"
   ]
  },
  {
   "cell_type": "code",
   "execution_count": 20,
   "id": "ecf6371d-6d53-4052-b895-f61c76b0792a",
   "metadata": {},
   "outputs": [
    {
     "name": "stdout",
     "output_type": "stream",
     "text": [
      "<_Graph my_graph1, 3Ga5osEMdFuALPrwAM15XW1ghFtY1gsGZM3TLcidEUFA, 0>\n",
      "<_Graph my_graph2, 5QXymsS3MKDrSUst1FdNb3RZWtUAqFkrJ8pwkTwynfVx, 0>\n"
     ]
    }
   ],
   "source": [
    "#  CREATE GRAPHS\n",
    "\n",
    "my_graph1=my_client.get_database(name=DB_NAME).create_graph(name=GRAPH_NAME1, num_partitions=NUM_PARTITIONS)\n",
    "my_graph2=my_client.get_database(name=DB_NAME).create_graph(name=GRAPH_NAME2, num_partitions=NUM_PARTITIONS)\n",
    "\n",
    "print(my_graph1)\n",
    "print(my_graph2)\n",
    "\n",
    "my_graph = my_graph1\n"
   ]
  },
  {
   "cell_type": "code",
   "execution_count": null,
   "id": "d29f6eb7-59ef-4c9b-813a-e8370b25b7d4",
   "metadata": {},
   "outputs": [],
   "source": [
    "#  CONNECT TO GRAPH\n",
    "\n",
    "l_graph_number = input(\"\"\"\n",
    "\n",
    "Which graph to connect to [1-2] ?\\n\n",
    "   \"\"\")\n",
    "\n",
    "if (l_graph_number == \"2\"):\n",
    "   l_which = GRAPH_NAME2\n",
    "else:\n",
    "   l_which = GRAPH_NAME1\n",
    "\n",
    "\n",
    "for l_graph in my_client.get_database(name=DB_NAME).graphs_in_database():\n",
    "   if (l_graph.name == l_which):\n",
    "      my_graph=my_client.get_database(name=DB_NAME).get_graph_by_id(id=l_graph.graph_id)\n",
    "         #\n",
    "      break\n",
    "\n",
    "my_graph, *_ = my_client.get_database(name=DB_NAME).find_graphs_by_name(l_which)\n",
    "\n",
    "print(my_graph)\n",
    "print(\"\")\n"
   ]
  },
  {
   "cell_type": "code",
   "execution_count": null,
   "id": "0bedb2fa-cec7-474a-acc2-5cefbbb3660e",
   "metadata": {},
   "outputs": [],
   "source": [
    "display(my_graph.num_nodes())\n",
    "display(my_graph.num_edges())\n"
   ]
  },
  {
   "cell_type": "code",
   "execution_count": null,
   "id": "56de0948-d6b5-4095-844b-e5cad36a5e23",
   "metadata": {},
   "outputs": [],
   "source": [
    "\n",
    "l_result = my_graph.query(\"\"\"\n",
    "\n",
    "   MATCH (n) -[r]-> (m)\n",
    "   RETURN n, r, m\n",
    "   \n",
    "   \"\"\",\n",
    "   contextualize=True)\n",
    "\n",
    "l_result.view()\n"
   ]
  },
  {
   "cell_type": "markdown",
   "id": "c9f26f43-4698-4a9f-bdf8-cec03a9ed226",
   "metadata": {
    "tags": []
   },
   "source": [
    "#  Part 00: Actually import into the graphs\n",
    "\n",
    "Enter:  \n",
    "    \n",
    "   - **my_graph1**            A similarity graph, used for our first GNN routine\n",
    "   - **my_graph2**            A homogeneous, bi-partite graph, used for our second GNN routine\n",
    "   -    ...\n",
    "   - DF :: df_movies\n",
    "   - DF :: df_keywords\n",
    "   - DF :: df_edges\n",
    "   - Boolean :: MY_DEBUG\n",
    "   \n",
    "Exit:\n",
    "\n",
    "   - **my_graph1**            A similarity graph, used for our first GNN routine\n",
    "   - **my_graph2**            A homogeneous, bi-partite graph, used for our second GNN routine\n",
    "   -    ...\n",
    "   - DF :: df_movies\n",
    "   - DF :: df_keywords\n",
    "   - DF :: df_edges\n",
    "   - Boolean :: MY_DEBUG\n"
   ]
  },
  {
   "cell_type": "code",
   "execution_count": 21,
   "id": "bba15117-b555-4953-8580-38e4222f4864",
   "metadata": {},
   "outputs": [
    {
     "name": "stdout",
     "output_type": "stream",
     "text": [
      "--\n"
     ]
    }
   ],
   "source": [
    "# ##################################################################\n",
    "#\n",
    "#  Finally now, load the vertices/nodes into a graph\n",
    "#\n",
    "#  Some hinkiness we need to work around ..\n",
    "#\n",
    "#     .  The Dask DataFrames here were loaded from CSV, and those CSV\n",
    "#        files were found, in scope.\n",
    "#        The KG DataFrame importer will reference that same file\n",
    "#        pathname, and the file will not be in scope. Basically,\n",
    "#        it was expected that these files be on S3/GS all along.\n",
    "#        I hate to have that dependency because, just one more thing\n",
    "#        to have to manage.\n",
    "#\n",
    "#     .  So, we'll copy the DataFrames to Dask arrays, then back into\n",
    "#        a Dask DataFrame.\n",
    "#        Why not just copy the DaskDataFrame ?  Currently there is only \n",
    "#        shallow copies of DataFrames.\n",
    "#\n",
    "#  See,\n",
    "#     https://stackoverflow.com/questions/52119342/how-do-i-convert-a-dask-dataframe-into-a-dask-array\n",
    "#     https://docs.dask.org/en/latest/generated/dask.dataframe.from_dask_array.html\n",
    "\n",
    "\n",
    "da_movies      = df_movies.to_dask_array()\n",
    "da_keywords    = df_keywords.to_dask_array()\n",
    "da_edges       = df_edges.to_dask_array()\n",
    "\n",
    "\n",
    "#  del df_movies\n",
    "#  del df_keywords\n",
    "#  del df_edges\n",
    "\n",
    "\n",
    "df_movies2     = dd.io.from_dask_array(da_movies,   columns=[\n",
    "   \"id\", \"title\", \"overview\", \"tagline\", \"budget\", \"genres\", \"popularity\", \"production_companies\",\n",
    "   \"release_date\", \"revenue\", \"runtime\", \"vote_average\", \"vote_count\", \"genres_json\", \"genres_primary\",\n",
    "   \"genres_primary_id\", \"LABEL\"\n",
    "   ])\n",
    "df_movies2.compute()\n",
    "\n",
    "df_keywords2   = dd.io.from_dask_array(da_keywords, columns=[\"id\", \"name\", \"LABEL\"])\n",
    "df_keywords2.compute()\n",
    "   #\n",
    "df_edges2      = dd.io.from_dask_array(da_edges,    columns=[\"movie_id\", \"keyword_id\", \"TYPE\"])\n",
    "df_edges2.compute()\n",
    "\n",
    "#  da_movies   = []\n",
    "#  da_keywords = []\n",
    "#  da_edges    = []\n",
    "\n",
    "\n",
    "print(\"--\")\n"
   ]
  },
  {
   "cell_type": "code",
   "execution_count": 22,
   "id": "9d4f5092-fcf9-4cdb-861f-8d22a0a2fa7b",
   "metadata": {},
   "outputs": [
    {
     "name": "stdout",
     "output_type": "stream",
     "text": [
      "--\n"
     ]
    }
   ],
   "source": [
    "\n",
    "#  Need to drop movies.genres_json because of this issue,\n",
    "#\n",
    "#     ValueError: Failed to convert partition to expected pyarrow schema:\n",
    "#         `ArrowTypeError(\"Expected bytes, got a 'list' object\", 'Conversion failed for column genres_json with type object')`\n",
    "#     \n",
    "#     Expected partition schema:\n",
    "#         id: string\n",
    "#         title: string\n",
    "#              ...\n",
    "#         vote_count: string\n",
    "#         genres_json: string\n",
    "#         genres_primary: string\n",
    "#         genres_primary_id: string\n",
    "#         LABEL: string\n",
    "#     \n",
    "#     Received partition schema:\n",
    "#         id: string\n",
    "#         title: string\n",
    "#              ...\n",
    "#         vote_count: string\n",
    "#         genres_json: list<item: struct<id: int64, name: string>>\n",
    "#           child 0, item: struct<id: int64, name: string>\n",
    "#               child 0, id: int64\n",
    "#               child 1, name: string\n",
    "#         genres_primary: string\n",
    "#         genres_primary_id: int64\n",
    "#         LABEL: string\n",
    "\n",
    "\n",
    "df_movies2.drop(\"genres_json\", axis=1)\n",
    "df_movies2.compute()\n",
    "\n",
    "print(\"--\")\n",
    "    "
   ]
  },
  {
   "cell_type": "code",
   "execution_count": 23,
   "id": "7737ce45-e17f-49e4-ac98-af1dc3bf8948",
   "metadata": {},
   "outputs": [
    {
     "name": "stderr",
     "output_type": "stream",
     "text": [
      "UserWarning: dtype for DataFrame column 'title' is 'object'. Will be inferred as string.\n",
      "UserWarning: dtype for DataFrame column 'overview' is 'object'. Will be inferred as string.\n",
      "UserWarning: dtype for DataFrame column 'tagline' is 'object'. Will be inferred as string.\n",
      "UserWarning: dtype for DataFrame column 'budget' is 'object'. Will be inferred as string.\n",
      "UserWarning: dtype for DataFrame column 'genres' is 'object'. Will be inferred as string.\n",
      "UserWarning: dtype for DataFrame column 'popularity' is 'object'. Will be inferred as string.\n",
      "UserWarning: dtype for DataFrame column 'production_companies' is 'object'. Will be inferred as string.\n",
      "UserWarning: dtype for DataFrame column 'release_date' is 'object'. Will be inferred as string.\n",
      "UserWarning: dtype for DataFrame column 'revenue' is 'object'. Will be inferred as string.\n",
      "UserWarning: dtype for DataFrame column 'runtime' is 'object'. Will be inferred as string.\n",
      "UserWarning: dtype for DataFrame column 'vote_average' is 'object'. Will be inferred as string.\n",
      "UserWarning: dtype for DataFrame column 'vote_count' is 'object'. Will be inferred as string.\n",
      "UserWarning: dtype for DataFrame column 'genres_json' is 'object'. Will be inferred as string.\n",
      "UserWarning: dtype for DataFrame column 'genres_primary' is 'object'. Will be inferred as string.\n",
      "UserWarning: dtype for DataFrame column 'genres_primary_id' is 'object'. Will be inferred as string.\n",
      "UserWarning: dtype for DataFrame column 'LABEL' is 'object'. Will be inferred as string.\n",
      "UserWarning: dtype for DataFrame column 'name' is 'object'. Will be inferred as string.\n",
      "UserWarning: dtype for DataFrame column 'TYPE' is 'object'. Will be inferred as string.\n"
     ]
    },
    {
     "data": {
      "application/vnd.jupyter.widget-view+json": {
       "model_id": "d20ad6c252ad47fbb7f6f104b27a8269",
       "version_major": 2,
       "version_minor": 0
      },
      "text/plain": [
       "          0/? [?op/s]"
      ]
     },
     "metadata": {},
     "output_type": "display_data"
    },
    {
     "name": "stderr",
     "output_type": "stream",
     "text": [
      "\n",
      "Host 0 errors:\n",
      "Traceback (most recent call last):\n",
      "  File \"/opt/miniconda/lib/python3.8/site-packages/katana_enterprise/worker/worker.py\", line 86, in execute\n",
      "    value = function(graph)\n",
      "  File \"/opt/conda/lib/python3.8/site-packages/katana_enterprise/remote/dataframe_importer/__init__.py\", line 453, in remote_write_intermediate_parquet_files\n",
      "  File \"/opt/miniconda/lib/python3.8/site-packages/katana_enterprise/remote/dataframe_importer/__init__.py\", line 207, in _write_intermediate_parquet_files\n",
      "    node_header = \"\\n\".join(_write_dfs_to_parquet(node_df_infos, \"nodes\"))\n",
      "  File \"/opt/miniconda/lib/python3.8/site-packages/katana_enterprise/remote/dataframe_importer/__init__.py\", line 201, in _write_dfs_to_parquet\n",
      "    dask.dataframe.to_parquet(\n",
      "  File \"/opt/miniconda/lib/python3.8/site-packages/dask/dataframe/io/parquet/core.py\", line 963, in to_parquet\n",
      "    out = out.compute(**compute_kwargs)\n",
      "  File \"/opt/miniconda/lib/python3.8/site-packages/dask/base.py\", line 315, in compute\n",
      "    (result,) = compute(self, traverse=False, **kwargs)\n",
      "  File \"/opt/miniconda/lib/python3.8/site-packages/dask/base.py\", line 598, in compute\n",
      "    results = schedule(dsk, keys, **kwargs)\n",
      "  File \"/opt/miniconda/lib/python3.8/site-packages/distributed/client.py\", line 3036, in get\n",
      "    results = self.gather(packed, asynchronous=asynchronous, direct=direct)\n",
      "  File \"/opt/miniconda/lib/python3.8/site-packages/distributed/client.py\", line 2210, in gather\n",
      "    return self.sync(\n",
      "  File \"/opt/miniconda/lib/python3.8/site-packages/distributed/utils.py\", line 338, in sync\n",
      "    return sync(\n",
      "  File \"/opt/miniconda/lib/python3.8/site-packages/distributed/utils.py\", line 405, in sync\n",
      "    raise exc.with_traceback(tb)\n",
      "  File \"/opt/miniconda/lib/python3.8/site-packages/distributed/utils.py\", line 378, in f\n",
      "    result = yield future\n",
      "  File \"/opt/miniconda/lib/python3.8/site-packages/tornado/gen.py\", line 762, in run\n",
      "    value = future.result()\n",
      "  File \"/opt/miniconda/lib/python3.8/site-packages/distributed/client.py\", line 2073, in _gather\n",
      "    raise exception.with_traceback(traceback)\n",
      "  File \"/opt/miniconda/lib/python3.8/site-packages/dask/bytes/core.py\", line 189, in read_block_from_file\n",
      "    with copy.copy(lazy_file) as f:\n",
      "  File \"/opt/miniconda/lib/python3.8/site-packages/fsspec/core.py\", line 103, in __enter__\n",
      "    f = self.fs.open(self.path, mode=mode)\n",
      "  File \"/opt/miniconda/lib/python3.8/site-packages/fsspec/spec.py\", line 1034, in open\n",
      "    f = self._open(\n",
      "  File \"/opt/miniconda/lib/python3.8/site-packages/fsspec/implementations/local.py\", line 162, in _open\n",
      "    return LocalFileOpener(path, mode, fs=self, **kwargs)\n",
      "  File \"/opt/miniconda/lib/python3.8/site-packages/fsspec/implementations/local.py\", line 260, in __init__\n",
      "    self._open()\n",
      "  File \"/opt/miniconda/lib/python3.8/site-packages/fsspec/implementations/local.py\", line 265, in _open\n",
      "    self.f = open(self.path, mode=self.mode)\n",
      "FileNotFoundError: [Errno 2] No such file or directory: '/home/jovyan/work/My_KG_NoteBooks/N4_GNN_MovieDB/./02_Files/41_Movies_02.txt'\n"
     ]
    },
    {
     "ename": "FileNotFoundError",
     "evalue": "[Errno 2] No such file or directory: '/home/jovyan/work/My_KG_NoteBooks/N4_GNN_MovieDB/./02_Files/41_Movies_02.txt'",
     "output_type": "error",
     "traceback": [
      "\u001b[0;31m---------------------------------------------------------------------------\u001b[0m",
      "\u001b[0;31mFileNotFoundError\u001b[0m                         Traceback (most recent call last)",
      "Cell \u001b[0;32mIn [23], line 42\u001b[0m\n\u001b[1;32m     25\u001b[0m df_importer\u001b[38;5;241m.\u001b[39medges_dataframe(\n\u001b[1;32m     26\u001b[0m    df_edges2[[\u001b[38;5;124m\"\u001b[39m\u001b[38;5;124mmovie_id\u001b[39m\u001b[38;5;124m\"\u001b[39m, \u001b[38;5;124m\"\u001b[39m\u001b[38;5;124mkeyword_id\u001b[39m\u001b[38;5;124m\"\u001b[39m, \u001b[38;5;124m\"\u001b[39m\u001b[38;5;124mTYPE\u001b[39m\u001b[38;5;124m\"\u001b[39m]],\n\u001b[1;32m     27\u001b[0m    source_id_space      \u001b[38;5;241m=\u001b[39m \u001b[38;5;124m\"\u001b[39m\u001b[38;5;124mMovie\u001b[39m\u001b[38;5;124m\"\u001b[39m,\n\u001b[0;32m   (...)\u001b[0m\n\u001b[1;32m     31\u001b[0m    \u001b[38;5;28mtype\u001b[39m                 \u001b[38;5;241m=\u001b[39m \u001b[38;5;124m\"\u001b[39m\u001b[38;5;124mRELATES_TO\u001b[39m\u001b[38;5;124m\"\u001b[39m\n\u001b[1;32m     32\u001b[0m    )\n\u001b[1;32m     33\u001b[0m df_importer\u001b[38;5;241m.\u001b[39medges_dataframe(\n\u001b[1;32m     34\u001b[0m    df_edges2[[\u001b[38;5;124m\"\u001b[39m\u001b[38;5;124mmovie_id\u001b[39m\u001b[38;5;124m\"\u001b[39m, \u001b[38;5;124m\"\u001b[39m\u001b[38;5;124mkeyword_id\u001b[39m\u001b[38;5;124m\"\u001b[39m, \u001b[38;5;124m\"\u001b[39m\u001b[38;5;124mTYPE\u001b[39m\u001b[38;5;124m\"\u001b[39m]],\n\u001b[1;32m     35\u001b[0m    source_id_space      \u001b[38;5;241m=\u001b[39m \u001b[38;5;124m\"\u001b[39m\u001b[38;5;124mKeywords\u001b[39m\u001b[38;5;124m\"\u001b[39m,\n\u001b[0;32m   (...)\u001b[0m\n\u001b[1;32m     39\u001b[0m    \u001b[38;5;28mtype\u001b[39m                 \u001b[38;5;241m=\u001b[39m \u001b[38;5;124m\"\u001b[39m\u001b[38;5;124mRELATES_TO\u001b[39m\u001b[38;5;124m\"\u001b[39m\n\u001b[1;32m     40\u001b[0m    )\n\u001b[0;32m---> 42\u001b[0m \u001b[43mdf_importer\u001b[49m\u001b[38;5;241;43m.\u001b[39;49m\u001b[43mexecute\u001b[49m\u001b[43m(\u001b[49m\u001b[43m)\u001b[49m\n",
      "File \u001b[0;32m/opt/conda/lib/python3.8/site-packages/katana_enterprise/remote/dataframe_importer/__init__.py:457\u001b[0m, in \u001b[0;36mDataFrameImporter.execute\u001b[0;34m(self)\u001b[0m\n\u001b[1;32m    453\u001b[0m             \u001b[38;5;28;01mreturn\u001b[39;00m work_fun(graph, node_df_infos, edge_df_infos)\n\u001b[1;32m    455\u001b[0m     \u001b[38;5;28;01mreturn\u001b[39;00m \u001b[38;5;28;01mNone\u001b[39;00m\n\u001b[0;32m--> 457\u001b[0m node_header, edge_header \u001b[38;5;241m=\u001b[39m \u001b[38;5;28;43mself\u001b[39;49m\u001b[38;5;241;43m.\u001b[39;49m\u001b[43mgraph\u001b[49m\u001b[38;5;241;43m.\u001b[39;49m\u001b[43mrun\u001b[49m\u001b[43m(\u001b[49m\u001b[43mremote_write_intermediate_parquet_files\u001b[49m\u001b[43m)\u001b[49m\n\u001b[1;32m    458\u001b[0m \u001b[38;5;28mself\u001b[39m\u001b[38;5;241m.\u001b[39m_run_import_job(\u001b[38;5;28mself\u001b[39m\u001b[38;5;241m.\u001b[39mgraph, \u001b[38;5;28mself\u001b[39m\u001b[38;5;241m.\u001b[39moperation, \u001b[38;5;28mself\u001b[39m\u001b[38;5;241m.\u001b[39m_node_info, \u001b[38;5;28mself\u001b[39m\u001b[38;5;241m.\u001b[39m_edge_info, node_header, edge_header)\n",
      "File \u001b[0;32m/opt/conda/lib/python3.8/site-packages/katana_enterprise/async_to_sync.py:249\u001b[0m, in \u001b[0;36mAsyncToSync.<locals>.do_wrap.<locals>.wrapper\u001b[0;34m(self, *args, **kwargs)\u001b[0m\n\u001b[1;32m    246\u001b[0m \u001b[38;5;129m@wraps\u001b[39m(underlying_func)\n\u001b[1;32m    247\u001b[0m \u001b[38;5;28;01mdef\u001b[39;00m \u001b[38;5;21mwrapper\u001b[39m(\u001b[38;5;28mself\u001b[39m, \u001b[38;5;241m*\u001b[39margs, \u001b[38;5;241m*\u001b[39m\u001b[38;5;241m*\u001b[39mkwargs):\n\u001b[1;32m    248\u001b[0m     \u001b[38;5;28;01mreturn\u001b[39;00m registry\u001b[38;5;241m.\u001b[39masync_to_sync(\n\u001b[0;32m--> 249\u001b[0m         \u001b[43munderlying_func\u001b[49m\u001b[43m(\u001b[49m\n\u001b[1;32m    250\u001b[0m \u001b[43m            \u001b[49m\u001b[43mget_self_func\u001b[49m\u001b[43m(\u001b[49m\u001b[38;5;28;43mself\u001b[39;49m\u001b[43m)\u001b[49m\u001b[43m,\u001b[49m\n\u001b[1;32m    251\u001b[0m \u001b[43m            \u001b[49m\u001b[38;5;241;43m*\u001b[39;49m\u001b[43m(\u001b[49m\u001b[43mregistry\u001b[49m\u001b[38;5;241;43m.\u001b[39;49m\u001b[43msync_to_async\u001b[49m\u001b[43m(\u001b[49m\u001b[43ma\u001b[49m\u001b[43m)\u001b[49m\u001b[43m \u001b[49m\u001b[38;5;28;43;01mfor\u001b[39;49;00m\u001b[43m \u001b[49m\u001b[43ma\u001b[49m\u001b[43m \u001b[49m\u001b[38;5;129;43;01min\u001b[39;49;00m\u001b[43m \u001b[49m\u001b[43margs\u001b[49m\u001b[43m)\u001b[49m\u001b[43m,\u001b[49m\n\u001b[1;32m    252\u001b[0m \u001b[43m            \u001b[49m\u001b[38;5;241;43m*\u001b[39;49m\u001b[38;5;241;43m*\u001b[39;49m\u001b[43m{\u001b[49m\u001b[43mk\u001b[49m\u001b[43m:\u001b[49m\u001b[43m \u001b[49m\u001b[43mregistry\u001b[49m\u001b[38;5;241;43m.\u001b[39;49m\u001b[43msync_to_async\u001b[49m\u001b[43m(\u001b[49m\u001b[43mv\u001b[49m\u001b[43m)\u001b[49m\u001b[43m \u001b[49m\u001b[38;5;28;43;01mfor\u001b[39;49;00m\u001b[43m \u001b[49m\u001b[43mk\u001b[49m\u001b[43m,\u001b[49m\u001b[43m \u001b[49m\u001b[43mv\u001b[49m\u001b[43m \u001b[49m\u001b[38;5;129;43;01min\u001b[39;49;00m\u001b[43m \u001b[49m\u001b[43mkwargs\u001b[49m\u001b[38;5;241;43m.\u001b[39;49m\u001b[43mitems\u001b[49m\u001b[43m(\u001b[49m\u001b[43m)\u001b[49m\u001b[43m}\u001b[49m\u001b[43m,\u001b[49m\n\u001b[1;32m    253\u001b[0m \u001b[43m        \u001b[49m\u001b[43m)\u001b[49m\n\u001b[1;32m    254\u001b[0m     )\n",
      "File \u001b[0;32m/opt/conda/lib/python3.8/site-packages/katana_enterprise/async_to_sync.py:176\u001b[0m, in \u001b[0;36masync_to_sync.<locals>.wrapper\u001b[0;34m(timeout, *args, **kwargs)\u001b[0m\n\u001b[1;32m    166\u001b[0m     registry \u001b[38;5;241m=\u001b[39m AsyncToSyncClassRegistry\u001b[38;5;241m.\u001b[39mget()\n\u001b[1;32m    167\u001b[0m     \u001b[38;5;28;01mreturn\u001b[39;00m registry\u001b[38;5;241m.\u001b[39masync_to_sync(\n\u001b[1;32m    168\u001b[0m         wait_for(\n\u001b[1;32m    169\u001b[0m             async_func(\n\u001b[0;32m   (...)\u001b[0m\n\u001b[1;32m    174\u001b[0m         )\n\u001b[1;32m    175\u001b[0m     )\n\u001b[0;32m--> 176\u001b[0m \u001b[38;5;28;01mreturn\u001b[39;00m \u001b[43mwait_for\u001b[49m\u001b[43m(\u001b[49m\u001b[43masync_func\u001b[49m\u001b[43m(\u001b[49m\u001b[38;5;241;43m*\u001b[39;49m\u001b[43margs\u001b[49m\u001b[43m,\u001b[49m\u001b[43m \u001b[49m\u001b[38;5;241;43m*\u001b[39;49m\u001b[38;5;241;43m*\u001b[39;49m\u001b[43mkwargs\u001b[49m\u001b[43m)\u001b[49m\u001b[43m,\u001b[49m\u001b[43m \u001b[49m\u001b[43mtimeout\u001b[49m\u001b[38;5;241;43m=\u001b[39;49m\u001b[43mtimeout\u001b[49m\u001b[43m)\u001b[49m\n",
      "File \u001b[0;32m/opt/conda/lib/python3.8/site-packages/katana_enterprise/async_to_sync.py:147\u001b[0m, in \u001b[0;36mwait_for\u001b[0;34m(coro, timeout)\u001b[0m\n\u001b[1;32m    145\u001b[0m \u001b[38;5;28;01mtry\u001b[39;00m:\n\u001b[1;32m    146\u001b[0m     future \u001b[38;5;241m=\u001b[39m asyncio\u001b[38;5;241m.\u001b[39mrun_coroutine_threadsafe(timeout_coro, loop\u001b[38;5;241m=\u001b[39mAsyncRunnerThread\u001b[38;5;241m.\u001b[39mget()\u001b[38;5;241m.\u001b[39mloop)\n\u001b[0;32m--> 147\u001b[0m     \u001b[38;5;28;01mreturn\u001b[39;00m \u001b[43mfuture\u001b[49m\u001b[38;5;241;43m.\u001b[39;49m\u001b[43mresult\u001b[49m\u001b[43m(\u001b[49m\u001b[43m)\u001b[49m\n\u001b[1;32m    148\u001b[0m \u001b[38;5;28;01mexcept\u001b[39;00m \u001b[38;5;167;01mKeyboardInterrupt\u001b[39;00m:\n\u001b[1;32m    149\u001b[0m     inner_future\u001b[38;5;241m.\u001b[39mcancel()\n",
      "File \u001b[0;32m/opt/conda/lib/python3.8/concurrent/futures/_base.py:444\u001b[0m, in \u001b[0;36mFuture.result\u001b[0;34m(self, timeout)\u001b[0m\n\u001b[1;32m    442\u001b[0m     \u001b[38;5;28;01mraise\u001b[39;00m CancelledError()\n\u001b[1;32m    443\u001b[0m \u001b[38;5;28;01melif\u001b[39;00m \u001b[38;5;28mself\u001b[39m\u001b[38;5;241m.\u001b[39m_state \u001b[38;5;241m==\u001b[39m FINISHED:\n\u001b[0;32m--> 444\u001b[0m     \u001b[38;5;28;01mreturn\u001b[39;00m \u001b[38;5;28;43mself\u001b[39;49m\u001b[38;5;241;43m.\u001b[39;49m\u001b[43m__get_result\u001b[49m\u001b[43m(\u001b[49m\u001b[43m)\u001b[49m\n\u001b[1;32m    445\u001b[0m \u001b[38;5;28;01melse\u001b[39;00m:\n\u001b[1;32m    446\u001b[0m     \u001b[38;5;28;01mraise\u001b[39;00m \u001b[38;5;167;01mTimeoutError\u001b[39;00m()\n",
      "File \u001b[0;32m/opt/conda/lib/python3.8/concurrent/futures/_base.py:389\u001b[0m, in \u001b[0;36mFuture.__get_result\u001b[0;34m(self)\u001b[0m\n\u001b[1;32m    387\u001b[0m \u001b[38;5;28;01mif\u001b[39;00m \u001b[38;5;28mself\u001b[39m\u001b[38;5;241m.\u001b[39m_exception:\n\u001b[1;32m    388\u001b[0m     \u001b[38;5;28;01mtry\u001b[39;00m:\n\u001b[0;32m--> 389\u001b[0m         \u001b[38;5;28;01mraise\u001b[39;00m \u001b[38;5;28mself\u001b[39m\u001b[38;5;241m.\u001b[39m_exception\n\u001b[1;32m    390\u001b[0m     \u001b[38;5;28;01mfinally\u001b[39;00m:\n\u001b[1;32m    391\u001b[0m         \u001b[38;5;66;03m# Break a reference cycle with the exception in self._exception\u001b[39;00m\n\u001b[1;32m    392\u001b[0m         \u001b[38;5;28mself\u001b[39m \u001b[38;5;241m=\u001b[39m \u001b[38;5;28;01mNone\u001b[39;00m\n",
      "File \u001b[0;32m/opt/conda/lib/python3.8/asyncio/tasks.py:455\u001b[0m, in \u001b[0;36mwait_for\u001b[0;34m(fut, timeout, loop)\u001b[0m\n\u001b[1;32m    450\u001b[0m     warnings\u001b[38;5;241m.\u001b[39mwarn(\u001b[38;5;124m\"\u001b[39m\u001b[38;5;124mThe loop argument is deprecated since Python 3.8, \u001b[39m\u001b[38;5;124m\"\u001b[39m\n\u001b[1;32m    451\u001b[0m                   \u001b[38;5;124m\"\u001b[39m\u001b[38;5;124mand scheduled for removal in Python 3.10.\u001b[39m\u001b[38;5;124m\"\u001b[39m,\n\u001b[1;32m    452\u001b[0m                   \u001b[38;5;167;01mDeprecationWarning\u001b[39;00m, stacklevel\u001b[38;5;241m=\u001b[39m\u001b[38;5;241m2\u001b[39m)\n\u001b[1;32m    454\u001b[0m \u001b[38;5;28;01mif\u001b[39;00m timeout \u001b[38;5;129;01mis\u001b[39;00m \u001b[38;5;28;01mNone\u001b[39;00m:\n\u001b[0;32m--> 455\u001b[0m     \u001b[38;5;28;01mreturn\u001b[39;00m \u001b[38;5;28;01mawait\u001b[39;00m fut\n\u001b[1;32m    457\u001b[0m \u001b[38;5;28;01mif\u001b[39;00m timeout \u001b[38;5;241m<\u001b[39m\u001b[38;5;241m=\u001b[39m \u001b[38;5;241m0\u001b[39m:\n\u001b[1;32m    458\u001b[0m     fut \u001b[38;5;241m=\u001b[39m ensure_future(fut, loop\u001b[38;5;241m=\u001b[39mloop)\n",
      "File \u001b[0;32m/opt/conda/lib/python3.8/site-packages/katana_enterprise/remote/aio/graph.py:509\u001b[0m, in \u001b[0;36mGraph.run\u001b[0;34m(self, function)\u001b[0m\n\u001b[1;32m    507\u001b[0m \u001b[38;5;28mprint\u001b[39m(result\u001b[38;5;241m.\u001b[39mstdout, file\u001b[38;5;241m=\u001b[39msys\u001b[38;5;241m.\u001b[39mstdout, end\u001b[38;5;241m=\u001b[39m\u001b[38;5;124m\"\u001b[39m\u001b[38;5;124m\"\u001b[39m)\n\u001b[1;32m    508\u001b[0m \u001b[38;5;28mprint\u001b[39m(result\u001b[38;5;241m.\u001b[39mstderr, file\u001b[38;5;241m=\u001b[39msys\u001b[38;5;241m.\u001b[39mstderr, end\u001b[38;5;241m=\u001b[39m\u001b[38;5;124m\"\u001b[39m\u001b[38;5;124m\"\u001b[39m)\n\u001b[0;32m--> 509\u001b[0m \u001b[38;5;28;01mreturn\u001b[39;00m \u001b[43mresult\u001b[49m\u001b[38;5;241;43m.\u001b[39;49m\u001b[43mvalue\u001b[49m\n",
      "File \u001b[0;32m/opt/conda/lib/python3.8/site-packages/katana_enterprise/remote/run_result.py:21\u001b[0m, in \u001b[0;36mRunResult.value\u001b[0;34m(self)\u001b[0m\n\u001b[1;32m     19\u001b[0m \u001b[38;5;129m@property\u001b[39m\n\u001b[1;32m     20\u001b[0m \u001b[38;5;28;01mdef\u001b[39;00m \u001b[38;5;21mvalue\u001b[39m(\u001b[38;5;28mself\u001b[39m):\n\u001b[0;32m---> 21\u001b[0m     \u001b[38;5;28;43mself\u001b[39;49m\u001b[38;5;241;43m.\u001b[39;49m\u001b[43mreraise_if_error\u001b[49m\u001b[43m(\u001b[49m\u001b[43m)\u001b[49m\n\u001b[1;32m     22\u001b[0m     \u001b[38;5;28;01massert\u001b[39;00m \u001b[38;5;28mself\u001b[39m\u001b[38;5;241m.\u001b[39msuccess\n\u001b[1;32m     23\u001b[0m     \u001b[38;5;28;01mreturn\u001b[39;00m \u001b[38;5;28mself\u001b[39m\u001b[38;5;241m.\u001b[39m_value\n",
      "File \u001b[0;32m/opt/conda/lib/python3.8/site-packages/katana_enterprise/remote/run_result.py:17\u001b[0m, in \u001b[0;36mRunResult.reraise_if_error\u001b[0;34m(self)\u001b[0m\n\u001b[1;32m     15\u001b[0m \u001b[38;5;28;01mdef\u001b[39;00m \u001b[38;5;21mreraise_if_error\u001b[39m(\u001b[38;5;28mself\u001b[39m):\n\u001b[1;32m     16\u001b[0m     \u001b[38;5;28;01mif\u001b[39;00m \u001b[38;5;129;01mnot\u001b[39;00m \u001b[38;5;28mself\u001b[39m\u001b[38;5;241m.\u001b[39msuccess:\n\u001b[0;32m---> 17\u001b[0m         \u001b[38;5;28;01mraise\u001b[39;00m \u001b[38;5;28mself\u001b[39m\u001b[38;5;241m.\u001b[39m_value\n",
      "File \u001b[0;32m/opt/miniconda/lib/python3.8/site-packages/katana_enterprise/worker/worker.py:128\u001b[0m, in \u001b[0;36mexecute\u001b[0;34m()\u001b[0m\n",
      "File \u001b[0;32m/opt/miniconda/lib/python3.8/site-packages/katana_enterprise/worker/worker.py:86\u001b[0m, in \u001b[0;36mexecute\u001b[0;34m()\u001b[0m\n",
      "File \u001b[0;32m/opt/conda/lib/python3.8/site-packages/katana_enterprise/remote/dataframe_importer/__init__.py:453\u001b[0m, in \u001b[0;36mremote_write_intermediate_parquet_files\u001b[0;34m()\u001b[0m\n\u001b[1;32m    451\u001b[0m \u001b[38;5;28;01mif\u001b[39;00m MPI\u001b[38;5;241m.\u001b[39mCOMM_WORLD\u001b[38;5;241m.\u001b[39mGet_rank() \u001b[38;5;241m==\u001b[39m \u001b[38;5;241m0\u001b[39m:\n\u001b[1;32m    452\u001b[0m     \u001b[38;5;28;01mwith\u001b[39;00m dask_integration\u001b[38;5;241m.\u001b[39mclient():\n\u001b[0;32m--> 453\u001b[0m         \u001b[38;5;28;01mreturn\u001b[39;00m work_fun(graph, node_df_infos, edge_df_infos)\n\u001b[1;32m    455\u001b[0m \u001b[38;5;28;01mreturn\u001b[39;00m \u001b[38;5;28;01mNone\u001b[39;00m\n",
      "File \u001b[0;32m/opt/miniconda/lib/python3.8/site-packages/katana_enterprise/remote/dataframe_importer/__init__.py:207\u001b[0m, in \u001b[0;36m_write_intermediate_parquet_files\u001b[0;34m()\u001b[0m\n",
      "File \u001b[0;32m/opt/miniconda/lib/python3.8/site-packages/katana_enterprise/remote/dataframe_importer/__init__.py:201\u001b[0m, in \u001b[0;36m_write_dfs_to_parquet\u001b[0;34m()\u001b[0m\n",
      "File \u001b[0;32m/opt/miniconda/lib/python3.8/site-packages/dask/dataframe/io/parquet/core.py:963\u001b[0m, in \u001b[0;36mto_parquet\u001b[0;34m()\u001b[0m\n",
      "File \u001b[0;32m/opt/miniconda/lib/python3.8/site-packages/dask/base.py:315\u001b[0m, in \u001b[0;36mcompute\u001b[0;34m()\u001b[0m\n",
      "File \u001b[0;32m/opt/miniconda/lib/python3.8/site-packages/dask/base.py:598\u001b[0m, in \u001b[0;36mcompute\u001b[0;34m()\u001b[0m\n",
      "File \u001b[0;32m/opt/miniconda/lib/python3.8/site-packages/distributed/client.py:3036\u001b[0m, in \u001b[0;36mget\u001b[0;34m()\u001b[0m\n",
      "File \u001b[0;32m/opt/miniconda/lib/python3.8/site-packages/distributed/client.py:2210\u001b[0m, in \u001b[0;36mgather\u001b[0;34m()\u001b[0m\n",
      "File \u001b[0;32m/opt/miniconda/lib/python3.8/site-packages/distributed/utils.py:338\u001b[0m, in \u001b[0;36msync\u001b[0;34m()\u001b[0m\n",
      "File \u001b[0;32m/opt/miniconda/lib/python3.8/site-packages/distributed/utils.py:405\u001b[0m, in \u001b[0;36msync\u001b[0;34m()\u001b[0m\n",
      "File \u001b[0;32m/opt/miniconda/lib/python3.8/site-packages/distributed/utils.py:378\u001b[0m, in \u001b[0;36mf\u001b[0;34m()\u001b[0m\n",
      "File \u001b[0;32m/opt/miniconda/lib/python3.8/site-packages/tornado/gen.py:762\u001b[0m, in \u001b[0;36mrun\u001b[0;34m()\u001b[0m\n",
      "File \u001b[0;32m/opt/miniconda/lib/python3.8/site-packages/distributed/client.py:2073\u001b[0m, in \u001b[0;36m_gather\u001b[0;34m()\u001b[0m\n",
      "File \u001b[0;32m/opt/miniconda/lib/python3.8/site-packages/dask/bytes/core.py:189\u001b[0m, in \u001b[0;36mread_block_from_file\u001b[0;34m()\u001b[0m\n",
      "File \u001b[0;32m/opt/miniconda/lib/python3.8/site-packages/fsspec/core.py:103\u001b[0m, in \u001b[0;36m__enter__\u001b[0;34m()\u001b[0m\n",
      "File \u001b[0;32m/opt/miniconda/lib/python3.8/site-packages/fsspec/spec.py:1034\u001b[0m, in \u001b[0;36mopen\u001b[0;34m()\u001b[0m\n",
      "File \u001b[0;32m/opt/miniconda/lib/python3.8/site-packages/fsspec/implementations/local.py:162\u001b[0m, in \u001b[0;36m_open\u001b[0;34m()\u001b[0m\n",
      "File \u001b[0;32m/opt/miniconda/lib/python3.8/site-packages/fsspec/implementations/local.py:260\u001b[0m, in \u001b[0;36m__init__\u001b[0;34m()\u001b[0m\n",
      "File \u001b[0;32m/opt/miniconda/lib/python3.8/site-packages/fsspec/implementations/local.py:265\u001b[0m, in \u001b[0;36m_open\u001b[0;34m()\u001b[0m\n",
      "\u001b[0;31mFileNotFoundError\u001b[0m: [Errno 2] No such file or directory: '/home/jovyan/work/My_KG_NoteBooks/N4_GNN_MovieDB/./02_Files/41_Movies_02.txt'"
     ]
    }
   ],
   "source": [
    "\n",
    "with import_data.DataFrameImporter(my_graph1) as df_importer:\n",
    "    \n",
    "   #  Movies\n",
    "   #\n",
    "   df_importer.nodes_dataframe(\n",
    "      df_movies2[[\n",
    "         \"id\", \"title\", \"overview\", \"tagline\", \"budget\", \"genres\", \"popularity\", \"production_companies\",\n",
    "         \"release_date\", \"revenue\", \"runtime\", \"vote_average\", \"vote_count\", \"genres_json\", \"genres_primary\",\n",
    "         \"genres_primary_id\", \"LABEL\"\n",
    "      ]],\n",
    "      id_column  = \"id\",\n",
    "      id_space   = \"Movies\"\n",
    "      )\n",
    "\n",
    "   #  Keywords\n",
    "   #\n",
    "   df_importer.nodes_dataframe(\n",
    "      df_keywords2[[\"id\", \"name\", \"LABEL\"]],\n",
    "      id_column  = \"id\",\n",
    "      id_space   = \"Keywords\"\n",
    "      )  \n",
    "    \n",
    "   #  Edge, RELATES_TO\n",
    "   #\n",
    "   df_importer.edges_dataframe(\n",
    "      df_edges2[[\"movie_id\", \"keyword_id\", \"TYPE\"]],\n",
    "      source_id_space      = \"Movie\",\n",
    "      destination_id_space = \"Keywords\",\n",
    "      source_column        = \"movie_id\",\n",
    "      destination_column   = \"keyword_id\",\n",
    "      type                 = \"RELATES_TO\"\n",
    "      )\n",
    "   df_importer.edges_dataframe(\n",
    "      df_edges2[[\"movie_id\", \"keyword_id\", \"TYPE\"]],\n",
    "      source_id_space      = \"Keywords\",\n",
    "      destination_id_space = \"Movies\",\n",
    "      source_column        = \"keyword_id\",\n",
    "      destination_column   = \"movie_id\",\n",
    "      type                 = \"RELATES_TO\"\n",
    "      )\n",
    "\n",
    "   df_importer.execute()\n",
    "    \n",
    "    "
   ]
  },
  {
   "cell_type": "code",
   "execution_count": null,
   "id": "7c4e6093-0b9a-46e9-b427-175aa90a0935",
   "metadata": {},
   "outputs": [],
   "source": []
  },
  {
   "cell_type": "code",
   "execution_count": null,
   "id": "380d6ebe-fc80-44c7-aa2b-79f5cbaf27dd",
   "metadata": {},
   "outputs": [],
   "source": []
  }
 ],
 "metadata": {
  "kernelspec": {
   "display_name": "Python 3 (ipykernel)",
   "language": "python",
   "name": "python3"
  },
  "language_info": {
   "codemirror_mode": {
    "name": "ipython",
    "version": 3
   },
   "file_extension": ".py",
   "mimetype": "text/x-python",
   "name": "python",
   "nbconvert_exporter": "python",
   "pygments_lexer": "ipython3",
   "version": "3.8.13"
  }
 },
 "nbformat": 4,
 "nbformat_minor": 5
}
