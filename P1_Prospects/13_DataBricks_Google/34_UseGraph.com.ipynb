{
 "cells": [
  {
   "cell_type": "markdown",
   "id": "3ab7ce90-67cf-462c-94a6-3c8c9d0754b3",
   "metadata": {},
   "source": [
    "# Setup: Connectivity"
   ]
  },
  {
   "cell_type": "code",
   "execution_count": 1,
   "id": "e87b75ba-c072-4111-8cca-4b4f394a0fce",
   "metadata": {},
   "outputs": [
    {
     "data": {
      "text/html": [],
      "text/plain": [
       "<IPython.core.display.HTML object>"
      ]
     },
     "metadata": {},
     "output_type": "display_data"
    },
    {
     "name": "stdout",
     "output_type": "stream",
     "text": [
      "My Client: <katana_enterprise.remote.sync_wrappers.Client object at 0x7f4fb978e730>\n",
      "My Graph:  <_Graph my_graph, 8Wv1JJ5UT6iBJqMR1Sk4kxAxZUrEVACNWP9tdJDegBrA, 2>\n",
      "\n"
     ]
    }
   ],
   "source": [
    "\n",
    "from katana import remote\n",
    "   #\n",
    "from IPython.display import display\n",
    "from ipywidgets import Layout, Textarea, VBox\n",
    "   #\n",
    "from libraries.SupportFor34 import f_init, f_enrich\n",
    "    \n",
    "    \n",
    "my_client, my_graph = f_init()\n",
    "\n",
    "\n",
    "print(\"My Client: %s\" % (my_client))\n",
    "print(\"My Graph:  %s\" % (my_graph ))\n",
    "   #\n",
    "print()\n"
   ]
  },
  {
   "cell_type": "markdown",
   "id": "4ec1c889-3b18-44f7-adcf-b9b5eca13dd5",
   "metadata": {},
   "source": [
    "#  Step 01: Enter a new Medical Description"
   ]
  },
  {
   "cell_type": "code",
   "execution_count": 2,
   "id": "9b760cd1-9e7a-47c4-96c7-13e6f70b1acb",
   "metadata": {},
   "outputs": [
    {
     "data": {
      "application/vnd.jupyter.widget-view+json": {
       "model_id": "10f25fd085574e639779a3309332e5bb",
       "version_major": 2,
       "version_minor": 0
      },
      "text/plain": [
       "Textarea(value='Odd mole on my ear', description='Enter Text: ', layout=Layout(flex='0 1 auto', height='100px'…"
      ]
     },
     "metadata": {},
     "output_type": "display_data"
    }
   ],
   "source": [
    "\n",
    "#  Create a text entry area\n",
    "#\n",
    "\n",
    "l_layout   = Layout(flex = \"0 1 auto\", height = \"100px\", min_height = \"100px\", width = \"auto\")\n",
    "l_text01   = Textarea(value=\"Odd mole on my ear\", layout = l_layout, description = \"Enter Text: \")\n",
    "   #\n",
    "l_vbox     = VBox([l_text01], layout = Layout(flex = \"1 1 auto\", width = \"auto\"))\n",
    "display(l_text01)\n"
   ]
  },
  {
   "cell_type": "code",
   "execution_count": 3,
   "id": "16658063-7b08-4f33-963b-110708e50567",
   "metadata": {},
   "outputs": [
    {
     "ename": "NameError",
     "evalue": "name 'l_each' is not defined",
     "output_type": "error",
     "traceback": [
      "\u001b[0;31m---------------------------------------------------------------------------\u001b[0m",
      "\u001b[0;31mNameError\u001b[0m                                 Traceback (most recent call last)",
      "Cell \u001b[0;32mIn[3], line 4\u001b[0m\n\u001b[1;32m      1\u001b[0m \u001b[38;5;66;03m#  Enrich/decode text entry from above\u001b[39;00m\n\u001b[1;32m      2\u001b[0m \u001b[38;5;66;03m#\u001b[39;00m\n\u001b[0;32m----> 4\u001b[0m l_return, l_pvid \u001b[38;5;241m=\u001b[39m \u001b[43mf_enrich\u001b[49m\u001b[43m(\u001b[49m\u001b[43ml_text01\u001b[49m\u001b[38;5;241;43m.\u001b[39;49m\u001b[43mvalue\u001b[49m\u001b[38;5;241;43m.\u001b[39;49m\u001b[43mlower\u001b[49m\u001b[43m(\u001b[49m\u001b[43m)\u001b[49m\u001b[43m,\u001b[49m\u001b[43m \u001b[49m\u001b[43mmy_graph\u001b[49m\u001b[43m)\u001b[49m\n\u001b[1;32m      6\u001b[0m \u001b[38;5;28mprint\u001b[39m(\u001b[38;5;124m\"\u001b[39m\u001b[38;5;124mUnique Patient Visit Id: \u001b[39m\u001b[38;5;132;01m%s\u001b[39;00m\u001b[38;5;124m\"\u001b[39m \u001b[38;5;241m%\u001b[39m (l_pvid))\n\u001b[1;32m      7\u001b[0m \u001b[38;5;28mprint\u001b[39m(\u001b[38;5;124m\"\u001b[39m\u001b[38;5;124m\"\u001b[39m)\n",
      "File \u001b[0;32m~/work/My_KG_NoteBooks/P1_Prospects/13_DataBricks_Google/libraries/SupportFor34.py:424\u001b[0m, in \u001b[0;36mf_enrich\u001b[0;34m(i_arg1, i_arg2)\u001b[0m\n\u001b[1;32m    422\u001b[0m l_uniqid  \u001b[38;5;241m=\u001b[39m \u001b[38;5;28mstr\u001b[39m(\u001b[38;5;124m\"\u001b[39m\u001b[38;5;124mPV-\u001b[39m\u001b[38;5;124m\"\u001b[39m \u001b[38;5;241m+\u001b[39m \u001b[38;5;28mstr\u001b[39m(l_uniqkey))\n\u001b[1;32m    423\u001b[0m    \u001b[38;5;66;03m#\u001b[39;00m\n\u001b[0;32m--> 424\u001b[0m l_df1, l_df2, l_df3, l_df4, l_df5, l_df6, l_df7 \u001b[38;5;241m=\u001b[39m \u001b[43mf_ready_for_graph_int\u001b[49m\u001b[43m(\u001b[49m\u001b[43ml_data_asjson\u001b[49m\u001b[43m,\u001b[49m\u001b[43m \u001b[49m\u001b[43ml_uniqid\u001b[49m\u001b[43m)\u001b[49m\n\u001b[1;32m    425\u001b[0m    \u001b[38;5;66;03m#\u001b[39;00m\n\u001b[1;32m    426\u001b[0m \u001b[38;5;66;03m#  f_insert_into_graph(i_arg2, l_df1, l_df2, l_df3, l_df4, l_df5, l_df6, l_df7)\u001b[39;00m\n\u001b[1;32m    429\u001b[0m \u001b[38;5;28mprint\u001b[39m(l_df2)\n",
      "File \u001b[0;32m~/work/My_KG_NoteBooks/P1_Prospects/13_DataBricks_Google/libraries/SupportFor34.py:273\u001b[0m, in \u001b[0;36mf_ready_for_graph_int\u001b[0;34m(i_arg1, i_arg2)\u001b[0m\n\u001b[1;32m    269\u001b[0m l_recd1 \u001b[38;5;241m=\u001b[39m { \u001b[38;5;124m\"\u001b[39m\u001b[38;5;124mid\u001b[39m\u001b[38;5;124m\"\u001b[39m: [l_entity[\u001b[38;5;124m\"\u001b[39m\u001b[38;5;124mentityId\u001b[39m\u001b[38;5;124m\"\u001b[39m]], \u001b[38;5;124m\"\u001b[39m\u001b[38;5;124mentity_id\u001b[39m\u001b[38;5;124m\"\u001b[39m : [l_entity[\u001b[38;5;124m\"\u001b[39m\u001b[38;5;124mentityId\u001b[39m\u001b[38;5;124m\"\u001b[39m]], \u001b[38;5;124m\"\u001b[39m\u001b[38;5;124mLABEL\u001b[39m\u001b[38;5;124m\"\u001b[39m: [\u001b[38;5;124m\"\u001b[39m\u001b[38;5;124mUmlsEntity\u001b[39m\u001b[38;5;124m\"\u001b[39m] }\n\u001b[1;32m    270\u001b[0m \u001b[38;5;66;03m#\u001b[39;00m\n\u001b[1;32m    271\u001b[0m \u001b[38;5;66;03m#  If this key is present, add it to the dictionary\u001b[39;00m\n\u001b[1;32m    272\u001b[0m \u001b[38;5;66;03m#\u001b[39;00m\n\u001b[0;32m--> 273\u001b[0m \u001b[38;5;28;01mif\u001b[39;00m (\u001b[38;5;124m\"\u001b[39m\u001b[38;5;124mpreferredTerm\u001b[39m\u001b[38;5;124m\"\u001b[39m \u001b[38;5;129;01min\u001b[39;00m \u001b[43ml_each\u001b[49m):\n\u001b[1;32m    274\u001b[0m    \u001b[38;5;66;03m#\u001b[39;00m\n\u001b[1;32m    275\u001b[0m    \u001b[38;5;66;03m#  We have an additional key, add to the record \u001b[39;00m\n\u001b[1;32m    276\u001b[0m    \u001b[38;5;66;03m#\u001b[39;00m\n\u001b[1;32m    277\u001b[0m    l_recd1\u001b[38;5;241m.\u001b[39mupdate( {\u001b[38;5;124m\"\u001b[39m\u001b[38;5;124mpreferred_term\u001b[39m\u001b[38;5;124m\"\u001b[39m: [\u001b[38;5;28mstr\u001b[39m(l_entity[\u001b[38;5;124m\"\u001b[39m\u001b[38;5;124mpreferredTerm\u001b[39m\u001b[38;5;124m\"\u001b[39m])]} )\n\u001b[1;32m    278\u001b[0m \u001b[38;5;28;01melse\u001b[39;00m:\n",
      "\u001b[0;31mNameError\u001b[0m: name 'l_each' is not defined"
     ]
    }
   ],
   "source": [
    "\n",
    "#  Enrich/decode text entry from above\n",
    "#\n",
    "\n",
    "l_return, l_pvid = f_enrich(l_text01.value.lower(), my_graph)\n",
    "\n",
    "print(\"Unique Patient Visit Id: %s\" % (l_pvid))\n",
    "print(\"\")\n",
    "print(\"Medical Description encoding:\")\n",
    "print(\"\")\n",
    "#  display(l_return)\n"
   ]
  },
  {
   "cell_type": "markdown",
   "id": "6d7f32ad-d6c9-4c95-9005-73239071c255",
   "metadata": {},
   "source": [
    "# Step 02:  Examine the Graph"
   ]
  },
  {
   "cell_type": "code",
   "execution_count": null,
   "id": "73085108-3d24-4d66-bf9e-f7c98360a54e",
   "metadata": {},
   "outputs": [],
   "source": [
    "\n",
    "#  Produce a visual graph\n",
    "\n",
    "from katana_visualization_widget import GraphVisOptions, NodeVisOption, EdgeVisOption, ANY\n",
    "\n",
    "l_options = GraphVisOptions(\n",
    "   node_options = [\n",
    "      NodeVisOption(\"PatientVisit\",     label=\"sample_name\"      ),\n",
    "      NodeVisOption(\"UmlsEntity\",       label=\"id\"               ),\n",
    "      NodeVisOption(\"UmlsVocabulary\",   label=\"id\"               ),\n",
    "   ],\n",
    "   #  edge_options = [\n",
    "   #     EdgeVisOption([\"VISIT_CONTAINS\"], label=\"start_id\"),\n",
    "   #     EdgeVisOption([\"ALSO_CODED_AS\" ], label=\"start_id\"),\n",
    "   #  ]\n",
    "   )\n",
    "    \n",
    "    \n",
    "l_query  = \"\"\"\n",
    "\n",
    "   MATCH (pv: PatientVisit) - [vc: VISIT_CONTAINS] -> (ue: UmlsEntity) - [aca: ALSO_CODED_AS] -> (uv: UmlsVocabulary),\n",
    "   WHERE\n",
    "      (pv.id = '{0}')\n",
    "   RETURN pv, vc, ue, ms, ios\n",
    "   \n",
    "   \"\"\".format(l_pvid)\n",
    "\n",
    "l_result = my_graph.query(l_query, contextualize=True)\n",
    "    \n",
    "l_result.view(graph_vis_options = l_options)\n"
   ]
  },
  {
   "cell_type": "code",
   "execution_count": null,
   "id": "6f708dd0-9620-459d-b5e5-d5a562768683",
   "metadata": {},
   "outputs": [],
   "source": []
  },
  {
   "cell_type": "code",
   "execution_count": null,
   "id": "92024417-6824-4c22-b554-b09866184afa",
   "metadata": {},
   "outputs": [],
   "source": [
    "\n",
    "l_query  = \"\"\"\n",
    "\n",
    "   MATCH (n)\n",
    "   RETURN n\n",
    "   \n",
    "   \"\"\".format()\n",
    "\n",
    "l_result = my_graph.query_unpaginated(l_query, contextualize=False)\n",
    "    \n",
    "print(l_result)\n"
   ]
  },
  {
   "cell_type": "code",
   "execution_count": null,
   "id": "63c91100-2973-4f3f-9f3e-a28b53a1da20",
   "metadata": {},
   "outputs": [],
   "source": [
    "\n"
   ]
  },
  {
   "cell_type": "code",
   "execution_count": null,
   "id": "d033566d-939b-42d4-a930-565894e6c293",
   "metadata": {},
   "outputs": [],
   "source": []
  },
  {
   "cell_type": "code",
   "execution_count": null,
   "id": "d69cd6f3-c52c-434f-a74a-ee489796d2aa",
   "metadata": {},
   "outputs": [],
   "source": []
  },
  {
   "cell_type": "code",
   "execution_count": null,
   "id": "373235c5-a17d-4f42-9afc-8ff56e3f5843",
   "metadata": {},
   "outputs": [],
   "source": [
    "import pandas as pd\n",
    "import numpy as np\n",
    "\n",
    "\n",
    "# sales_data_1 = pd.DataFrame({\"name\":[\"William\",\"Emma\",\"Sofia\",\"Markus\",\"Edward\"]\n",
    "# ,\"region\":[\"East\",np.nan,\"East\",\"South\",\"West\"]\n",
    "# ,\"sales\":[50000,52000,90000,np.nan,42000]\n",
    "# ,\"expenses\":[42000,43000,np.nan,44000,38000]})\n",
    "# \n",
    "# sales_data_2 = pd.DataFrame({\"name\":[\"Thomas\",\"Ethan\",\"Olivia\",\"Arun\",\"Anika\",\"Paulo\"]\n",
    "# ,\"region\":[\"West\",\"South\",\"West\",\"West\",\"East\",\"South\"]\n",
    "# ,\"sales\":[72000,49000,np.nan,67000,65000,67000]\n",
    "# ,\"expenses\":[39000,42000,np.nan,39000,44000,45000]})\n",
    "\n",
    "\n",
    "#  ddd = pd.DataFrame({\"name\":[\"Thomas\"] ,\"region\":[\"West\"] ,\"sales\":[72000] ,\"expenses\":[39000]})\n",
    "ddd = pd.DataFrame({\"name\":\"Thomas\" ,\"region\":\"West\" ,\"sales\":72000 ,\"expenses\":39000})\n",
    "\n",
    "\n",
    "print(ddd)\n",
    "\n",
    "\n",
    "\n"
   ]
  },
  {
   "cell_type": "code",
   "execution_count": null,
   "id": "61b495f4-1bf7-4a1e-9c7f-501a278ff215",
   "metadata": {},
   "outputs": [],
   "source": []
  },
  {
   "cell_type": "code",
   "execution_count": null,
   "id": "7db962c2-d224-43df-91ca-55caaed30798",
   "metadata": {},
   "outputs": [],
   "source": []
  },
  {
   "cell_type": "code",
   "execution_count": null,
   "id": "d25cef9f-28a1-46cf-88e9-c954f5597ebd",
   "metadata": {},
   "outputs": [],
   "source": []
  },
  {
   "cell_type": "code",
   "execution_count": null,
   "id": "71d257de-9660-4158-989a-3f8a2126ed38",
   "metadata": {},
   "outputs": [],
   "source": []
  },
  {
   "cell_type": "code",
   "execution_count": null,
   "id": "6f4d532d-96d5-4b6a-adf5-adb2a58c62c6",
   "metadata": {},
   "outputs": [],
   "source": []
  },
  {
   "cell_type": "code",
   "execution_count": null,
   "id": "75a32617-d518-4694-a09f-e7b3f3b54f3f",
   "metadata": {},
   "outputs": [],
   "source": []
  }
 ],
 "metadata": {
  "kernelspec": {
   "display_name": "Python 3 (ipykernel)",
   "language": "python",
   "name": "python3"
  },
  "language_info": {
   "codemirror_mode": {
    "name": "ipython",
    "version": 3
   },
   "file_extension": ".py",
   "mimetype": "text/x-python",
   "name": "python",
   "nbconvert_exporter": "python",
   "pygments_lexer": "ipython3",
   "version": "3.8.15"
  }
 },
 "nbformat": 4,
 "nbformat_minor": 5
}
