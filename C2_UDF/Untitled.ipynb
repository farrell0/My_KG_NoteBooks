{
 "cells": [
  {
   "cell_type": "code",
   "execution_count": 8,
   "id": "000d8942-97ca-414d-8237-f9802e8db2f3",
   "metadata": {},
   "outputs": [],
   "source": [
    "from katana import remote\n",
    "client = remote.Client()"
   ]
  },
  {
   "cell_type": "code",
   "execution_count": 9,
   "id": "9edc0d70-54dc-45c6-96cf-058661ceb2b6",
   "metadata": {},
   "outputs": [
    {
     "data": {
      "text/plain": [
       "[<Operation id=arGm3xVWQ5ZzJMeRtKBePG8nVjqcEZ8EAHood7xwdT5-2CNBURfjQ2ZGqTxL9 OperationStatus(<OperationStatusKind.CANCELED: 'Canceled'>, '')>,\n",
       " <Operation id=arGm3xVWQ5ZzJMeRtKBePG8nVjqcEZ8EAHood7xwdT5-4SnR6Lt24h7TFCe8E OperationStatus(<OperationStatusKind.CANCELED: 'Canceled'>, '')>,\n",
       " <Operation id=5AqFRxwRNwNFY44bF3hfnkaPU8z8G8fXD9Hn1GxeKyxZ-2Gej1qTuEsDu9bjxL OperationStatus(<OperationStatusKind.CANCELED: 'Canceled'>, '')>,\n",
       " <Operation id=5AqFRxwRNwNFY44bF3hfnkaPU8z8G8fXD9Hn1GxeKyxZ-4iCD6QkrW7DmUWPve OperationStatus(<OperationStatusKind.CANCELED: 'Canceled'>, '')>,\n",
       " <Operation id=AEKWAq5vgo3LUUL4WPhUEn8zxGeVZXsAoyDujBunkVt7-4E5Ur8eCC4Z5HmfgS OperationStatus(<OperationStatusKind.CANCELED: 'Canceled'>, '')>,\n",
       " <Operation id=AEKWAq5vgo3LUUL4WPhUEn8zxGeVZXsAoyDujBunkVt7-3P4pwDTvakKxo6oGN OperationStatus(<OperationStatusKind.CANCELED: 'Canceled'>, '')>,\n",
       " <Operation id=7KFHMHRdKNGLPdaAcLxnr6wAmcAgiA2XXBVMRtjMy9Jo-462BNkYR3G7LqnckD OperationStatus(<OperationStatusKind.CANCELED: 'Canceled'>, '')>,\n",
       " <Operation id=7KFHMHRdKNGLPdaAcLxnr6wAmcAgiA2XXBVMRtjMy9Jo-3fJfVFYebcUjv4xqT OperationStatus(<OperationStatusKind.CANCELED: 'Canceled'>, '')>,\n",
       " <Operation id=CwPvA5eDHsKT37YXsW6AZSLuExxbqmfNpP2RL74hjYBE-2ZeamgYT3R1q6sSWt OperationStatus(<OperationStatusKind.CANCELED: 'Canceled'>, '')>,\n",
       " <Operation id=CwPvA5eDHsKT37YXsW6AZSLuExxbqmfNpP2RL74hjYBE-4oed8ykSds4nUqayX OperationStatus(<OperationStatusKind.CANCELED: 'Canceled'>, '')>,\n",
       " <Operation id=5ACPCEyVmPXT2d6S5RX8AJToajYC15K45UgbS29eqc6f-1ReMgnCUaUqzZALn OperationStatus(<OperationStatusKind.CANCELED: 'Canceled'>, '')>,\n",
       " <Operation id=5ACPCEyVmPXT2d6S5RX8AJToajYC15K45UgbS29eqc6f-2HPFkodCRnVnFDQ8w OperationStatus(<OperationStatusKind.CANCELED: 'Canceled'>, '')>,\n",
       " <Operation id=498RLuJX5QqBZhHx6s8vo3cUkpmHAHKzngtnQqH9c2F4-53ywUKNpK8s9ahGkC OperationStatus(<OperationStatusKind.CANCELED: 'Canceled'>, '')>,\n",
       " <Operation id=498RLuJX5QqBZhHx6s8vo3cUkpmHAHKzngtnQqH9c2F4-3SYzNwdGJ89Zr3Jd3 OperationStatus(<OperationStatusKind.CANCELED: 'Canceled'>, '')>,\n",
       " <Operation id=3GZQT8ebLuNWw4WsQ3SYqyWz3TfqmoQQjM1Rh4HrD66u-4bhWoeuPgPoLMYS2r None>,\n",
       " <Operation id=3GZQT8ebLuNWw4WsQ3SYqyWz3TfqmoQQjM1Rh4HrD66u-2VuLq96JxH5c7qXET None>,\n",
       " <Operation id=arGm3xVWQ5ZzJMeRtKBePG8nVjqcEZ8EAHood7xwdT5-2CNBURfjQ2ZGqTxL9 OperationStatus(<OperationStatusKind.CANCELED: 'Canceled'>, '')>,\n",
       " <Operation id=arGm3xVWQ5ZzJMeRtKBePG8nVjqcEZ8EAHood7xwdT5-4SnR6Lt24h7TFCe8E OperationStatus(<OperationStatusKind.CANCELED: 'Canceled'>, '')>,\n",
       " <Operation id=5AqFRxwRNwNFY44bF3hfnkaPU8z8G8fXD9Hn1GxeKyxZ-2Gej1qTuEsDu9bjxL OperationStatus(<OperationStatusKind.CANCELED: 'Canceled'>, '')>,\n",
       " <Operation id=5AqFRxwRNwNFY44bF3hfnkaPU8z8G8fXD9Hn1GxeKyxZ-4iCD6QkrW7DmUWPve OperationStatus(<OperationStatusKind.CANCELED: 'Canceled'>, '')>,\n",
       " <Operation id=AEKWAq5vgo3LUUL4WPhUEn8zxGeVZXsAoyDujBunkVt7-4E5Ur8eCC4Z5HmfgS OperationStatus(<OperationStatusKind.CANCELED: 'Canceled'>, '')>,\n",
       " <Operation id=AEKWAq5vgo3LUUL4WPhUEn8zxGeVZXsAoyDujBunkVt7-3P4pwDTvakKxo6oGN OperationStatus(<OperationStatusKind.CANCELED: 'Canceled'>, '')>,\n",
       " <Operation id=7KFHMHRdKNGLPdaAcLxnr6wAmcAgiA2XXBVMRtjMy9Jo-462BNkYR3G7LqnckD OperationStatus(<OperationStatusKind.CANCELED: 'Canceled'>, '')>,\n",
       " <Operation id=7KFHMHRdKNGLPdaAcLxnr6wAmcAgiA2XXBVMRtjMy9Jo-3fJfVFYebcUjv4xqT OperationStatus(<OperationStatusKind.CANCELED: 'Canceled'>, '')>,\n",
       " <Operation id=CwPvA5eDHsKT37YXsW6AZSLuExxbqmfNpP2RL74hjYBE-2ZeamgYT3R1q6sSWt OperationStatus(<OperationStatusKind.CANCELED: 'Canceled'>, '')>,\n",
       " <Operation id=CwPvA5eDHsKT37YXsW6AZSLuExxbqmfNpP2RL74hjYBE-4oed8ykSds4nUqayX OperationStatus(<OperationStatusKind.CANCELED: 'Canceled'>, '')>,\n",
       " <Operation id=5ACPCEyVmPXT2d6S5RX8AJToajYC15K45UgbS29eqc6f-1ReMgnCUaUqzZALn OperationStatus(<OperationStatusKind.CANCELED: 'Canceled'>, '')>,\n",
       " <Operation id=5ACPCEyVmPXT2d6S5RX8AJToajYC15K45UgbS29eqc6f-2HPFkodCRnVnFDQ8w OperationStatus(<OperationStatusKind.CANCELED: 'Canceled'>, '')>,\n",
       " <Operation id=498RLuJX5QqBZhHx6s8vo3cUkpmHAHKzngtnQqH9c2F4-53ywUKNpK8s9ahGkC OperationStatus(<OperationStatusKind.CANCELED: 'Canceled'>, '')>,\n",
       " <Operation id=498RLuJX5QqBZhHx6s8vo3cUkpmHAHKzngtnQqH9c2F4-3SYzNwdGJ89Zr3Jd3 OperationStatus(<OperationStatusKind.CANCELED: 'Canceled'>, '')>,\n",
       " <Operation id=DPV4Lmz57d8auBm9XUhD3cAXHrYDQV1aWasEkx9wRFn1-2uWo5fLtg4txGcWS7 OperationStatus(<OperationStatusKind.COMPLETE: 'Complete'>, '')>,\n",
       " <Operation id=DPV4Lmz57d8auBm9XUhD3cAXHrYDQV1aWasEkx9wRFn1-2JaFd1kyieWDBS6Ag OperationStatus(<OperationStatusKind.COMPLETE: 'Complete'>, '')>,\n",
       " <Operation id=C7kcBPd593HNGSvQEwNoBDJceoHaAp2ZvvFfxdMB5ZZY-2CNhRbgBAW9THNnux OperationStatus(<OperationStatusKind.COMPLETE: 'Complete'>, '')>,\n",
       " <Operation id=4p1RtRvZARH52dpTQLYLZ7SKstU8TJzoAD3rgeA9g3SS-3soBU42QxFMgZXWKa OperationStatus(<OperationStatusKind.COMPLETE: 'Complete'>, '')>,\n",
       " <Operation id=4p1RtRvZARH52dpTQLYLZ7SKstU8TJzoAD3rgeA9g3SS-AfrGPY4WVxuHdwxn OperationStatus(<OperationStatusKind.COMPLETE: 'Complete'>, '')>,\n",
       " <Operation id=62kqc5CArwM738qrAC8W2MWMQJFVi5Gbn57RjKinaKsS-5TiRLijvCYnaUkuta OperationStatus(<OperationStatusKind.COMPLETE: 'Complete'>, '')>,\n",
       " <Operation id=62kqc5CArwM738qrAC8W2MWMQJFVi5Gbn57RjKinaKsS-9y979Ygpi4k8KRut OperationStatus(<OperationStatusKind.COMPLETE: 'Complete'>, '')>,\n",
       " <Operation id=3QUTZtgxf79NUdjvck4iYRDDyhGodZKb48PNNJ6E9FUK-2u6YN2GFzDXMEqAov OperationStatus(<OperationStatusKind.COMPLETE: 'Complete'>, '')>,\n",
       " <Operation id=3QUTZtgxf79NUdjvck4iYRDDyhGodZKb48PNNJ6E9FUK-4b6ue3yy12Tbs3BiJ OperationStatus(<OperationStatusKind.COMPLETE: 'Complete'>, '')>,\n",
       " <Operation id=6agZXEuzzv2BPsTTuwD2bXmsvGGkJJ8yfAfRiz4iWGZV-PDu6sVshBHtGvKw6 OperationStatus(<OperationStatusKind.COMPLETE: 'Complete'>, '')>,\n",
       " <Operation id=6agZXEuzzv2BPsTTuwD2bXmsvGGkJJ8yfAfRiz4iWGZV-3KujbRqtVmVrsfar3 OperationStatus(<OperationStatusKind.COMPLETE: 'Complete'>, '')>,\n",
       " <Operation id=GxDvEctmKA7LvKAxk1THH9zz2KA26gEysKumvFTa196n-48VVopn6Aj88XHxtx OperationStatus(<OperationStatusKind.COMPLETE: 'Complete'>, '')>,\n",
       " <Operation id=GxDvEctmKA7LvKAxk1THH9zz2KA26gEysKumvFTa196n-47v7WwYjZ4hY8n9aM OperationStatus(<OperationStatusKind.COMPLETE: 'Complete'>, '')>,\n",
       " <Operation id=GbpvLx289U5RNZoZ3vbpYMsHLcV3zMCtuVudkp2D2wd8-Nrh6cAQpCxEocFca OperationStatus(<OperationStatusKind.COMPLETE: 'Complete'>, '')>,\n",
       " <Operation id=HbS62fqGxSPi3yoC4X5q5Q3fgyham3MJwaNbLjfH1ojZ-5U2sWt1Nke4hfkSGn OperationStatus(<OperationStatusKind.CANCELED: 'Canceled'>, '')>,\n",
       " <Operation id=HbS62fqGxSPi3yoC4X5q5Q3fgyham3MJwaNbLjfH1ojZ-2aL84vEFs1DpHZE5g OperationStatus(<OperationStatusKind.CANCELED: 'Canceled'>, '')>,\n",
       " <Operation id=9tkJgr1VnencjXgSGfXiavAhMH5e687hPPbYfSuJmWJV-4huwNQFtp1JgN8oKA OperationStatus(<OperationStatusKind.COMPLETE: 'Complete'>, '')>,\n",
       " <Operation id=8BqSmq5Cz7oPWgeynUxTpUsQ9kLP9zEQCSLB9o9Ekbme-3ipJEaiVv6hjNj4q3 OperationStatus(<OperationStatusKind.CANCELED: 'Canceled'>, '')>,\n",
       " <Operation id=8BqSmq5Cz7oPWgeynUxTpUsQ9kLP9zEQCSLB9o9Ekbme-DzwUjK7CYeFfXjWA OperationStatus(<OperationStatusKind.CANCELED: 'Canceled'>, '')>,\n",
       " <Operation id=634cFBxKcYnkvUnUyVMk1QdaibHo2qJE2PuxyYkNEVME-2Qn4nksMpZ4rj7cDL OperationStatus(<OperationStatusKind.COMPLETE: 'Complete'>, '')>,\n",
       " <Operation id=FF1HRCSfGKEFqVdkmUKCZXAaXBRx5e2W2DFWfG18d51B-42ToDwbg6QwbAfHVs OperationStatus(<OperationStatusKind.CANCELED: 'Canceled'>, '')>,\n",
       " <Operation id=FF1HRCSfGKEFqVdkmUKCZXAaXBRx5e2W2DFWfG18d51B-4Fqoi4FKN2hKZzmNw OperationStatus(<OperationStatusKind.CANCELED: 'Canceled'>, '')>,\n",
       " <Operation id=HtKjDV8AnSC43UA5kYv7Jzn4Y4PGcDU1Frtn1C8cKKEu-4piNDv6bPxNPPgdnq OperationStatus(<OperationStatusKind.COMPLETE: 'Complete'>, '')>,\n",
       " <Operation id=HtKjDV8AnSC43UA5kYv7Jzn4Y4PGcDU1Frtn1C8cKKEu-3kEevfTYiHxBcVPHY OperationStatus(<OperationStatusKind.COMPLETE: 'Complete'>, '')>,\n",
       " <Operation id=62bYFygxPig4R3v4EGT92HinV2tFv29pFHozZ73VbyeD-4aZxSf7KjdXXFuQaj OperationStatus(<OperationStatusKind.COMPLETE: 'Complete'>, '')>,\n",
       " <Operation id=62bYFygxPig4R3v4EGT92HinV2tFv29pFHozZ73VbyeD-ngQwJPbqXcyteHSk OperationStatus(<OperationStatusKind.COMPLETE: 'Complete'>, '')>,\n",
       " <Operation id=4ezCrTpi4663xW9Tm5hzMkYGYt7xmNEPa9V9uCt4NCpY-WtxvRqyG5pVxNQpr OperationStatus(<OperationStatusKind.COMPLETE: 'Complete'>, '')>,\n",
       " <Operation id=4ezCrTpi4663xW9Tm5hzMkYGYt7xmNEPa9V9uCt4NCpY-2yPAT6EDuydCQPxxP OperationStatus(<OperationStatusKind.COMPLETE: 'Complete'>, '')>,\n",
       " <Operation id=7fTcDoL18n6gkXRPWJtgEtA1LWjQsRjtYKrxosWfMjiM-3SbbWkZ3KZrBt4ct5 OperationStatus(<OperationStatusKind.COMPLETE: 'Complete'>, '')>,\n",
       " <Operation id=7fTcDoL18n6gkXRPWJtgEtA1LWjQsRjtYKrxosWfMjiM-2USyMiw8VxjmBtyqn OperationStatus(<OperationStatusKind.COMPLETE: 'Complete'>, '')>,\n",
       " <Operation id=A5xyPxby9PZDiQ11oWPg8Ee3aiJc7XoN5fVE6FfTnQhH-qsproniqux8BgmRm OperationStatus(<OperationStatusKind.COMPLETE: 'Complete'>, '')>,\n",
       " <Operation id=A5xyPxby9PZDiQ11oWPg8Ee3aiJc7XoN5fVE6FfTnQhH-41517ACBCVQr3RAon OperationStatus(<OperationStatusKind.COMPLETE: 'Complete'>, '')>,\n",
       " <Operation id=GkuhkSvcNnAS2T6xM4QycVDCpF3mYyRjVVfa6jW89AP5-3Vr52hn3VeGBMyu6y OperationStatus(<OperationStatusKind.COMPLETE: 'Complete'>, '')>,\n",
       " <Operation id=GkuhkSvcNnAS2T6xM4QycVDCpF3mYyRjVVfa6jW89AP5-DBKjraRDWFezwT2p OperationStatus(<OperationStatusKind.COMPLETE: 'Complete'>, '')>,\n",
       " <Operation id=7yz9y7CsF5Aa8TLLxHqG4rmJPvC6kKQ4zTikVuWcYZZ3-jCR5r6tKi7WQATxC OperationStatus(<OperationStatusKind.COMPLETE: 'Complete'>, '')>,\n",
       " <Operation id=7yz9y7CsF5Aa8TLLxHqG4rmJPvC6kKQ4zTikVuWcYZZ3-3zVJJQwhpR6AGDQ3B OperationStatus(<OperationStatusKind.COMPLETE: 'Complete'>, '')>,\n",
       " <Operation id=6nBvH5aXUmuHSeUG1ETyXQGSu4wTvKLU2pCBiddsgn1D-2nQ85Jq1jLE6tuGng OperationStatus(<OperationStatusKind.COMPLETE: 'Complete'>, '')>,\n",
       " <Operation id=6nBvH5aXUmuHSeUG1ETyXQGSu4wTvKLU2pCBiddsgn1D-2Lkar5b1YZhxZJvm6 OperationStatus(<OperationStatusKind.COMPLETE: 'Complete'>, '')>,\n",
       " <Operation id=GwKmGM23NHM9W1gkMciLvfo7i8LFub13m1KFvaxYW6ZB-4USG9RbpctthFE5jK OperationStatus(<OperationStatusKind.COMPLETE: 'Complete'>, '')>,\n",
       " <Operation id=GwKmGM23NHM9W1gkMciLvfo7i8LFub13m1KFvaxYW6ZB-4GRe74aUSZr5rPc1M OperationStatus(<OperationStatusKind.COMPLETE: 'Complete'>, '')>,\n",
       " <Operation id=9njd9m9D7TQvMUqXsFcw8sNLntMar5DmDqCssnXcCADo-iJ2xDSfXAdiDegj4 OperationStatus(<OperationStatusKind.COMPLETE: 'Complete'>, '')>,\n",
       " <Operation id=9njd9m9D7TQvMUqXsFcw8sNLntMar5DmDqCssnXcCADo-2V2UR7g6nQonrUKDR OperationStatus(<OperationStatusKind.COMPLETE: 'Complete'>, '')>,\n",
       " <Operation id=ADGE2Us3GfiJSWWjbmk497do3n78JUy9WJ3UNChJabLB-3bsv4sC3Fu9moWtGP OperationStatus(<OperationStatusKind.COMPLETE: 'Complete'>, '')>,\n",
       " <Operation id=ADGE2Us3GfiJSWWjbmk497do3n78JUy9WJ3UNChJabLB-3VMhYSyFBaxnEmpFV OperationStatus(<OperationStatusKind.COMPLETE: 'Complete'>, '')>,\n",
       " <Operation id=9BKBP47WQMZNkWnpimriaURybNpARBPQd9rG145oG6wY-2Hs45x1rBbVkUcEN3 OperationStatus(<OperationStatusKind.COMPLETE: 'Complete'>, '')>,\n",
       " <Operation id=FE2sNLhWXVA9wUVEZrrtvg37D7kh3g7hmZUH9dETbSCf-5Lii9oxtPWdN1DTfH OperationStatus(<OperationStatusKind.COMPLETE: 'Complete'>, '')>,\n",
       " <Operation id=FE2sNLhWXVA9wUVEZrrtvg37D7kh3g7hmZUH9dETbSCf-4KZqQJEbbuwy1pv9Q OperationStatus(<OperationStatusKind.COMPLETE: 'Complete'>, '')>,\n",
       " <Operation id=Hvfa72XDAiH9mXY7zgVjnRHVgqGzuEhSy8msjRn3oeDf-2FjckHrFnmpBaoB1S OperationStatus(<OperationStatusKind.COMPLETE: 'Complete'>, '')>,\n",
       " <Operation id=Hvfa72XDAiH9mXY7zgVjnRHVgqGzuEhSy8msjRn3oeDf-2Pc42pG9HwqEZVvu OperationStatus(<OperationStatusKind.COMPLETE: 'Complete'>, '')>,\n",
       " <Operation id=Hq3sRnEkVw4kV4gK6Qo11yiffkiZB6KqxUYT8SDYCgDp-5hk8qLFj8DahsvYtp OperationStatus(<OperationStatusKind.COMPLETE: 'Complete'>, '')>,\n",
       " <Operation id=Hq3sRnEkVw4kV4gK6Qo11yiffkiZB6KqxUYT8SDYCgDp-3DC5qCesLa8B4wUUD OperationStatus(<OperationStatusKind.COMPLETE: 'Complete'>, '')>,\n",
       " <Operation id=WUfGipa4FShTmhvfAUtRfa52Qj9s9USFKdUmT9pCJLG-3MQYHcxgRxnNcnePt OperationStatus(<OperationStatusKind.COMPLETE: 'Complete'>, '')>,\n",
       " <Operation id=WUfGipa4FShTmhvfAUtRfa52Qj9s9USFKdUmT9pCJLG-gAb1cMqhKdq3Z4p5 OperationStatus(<OperationStatusKind.COMPLETE: 'Complete'>, '')>,\n",
       " <Operation id=EwUQ9caLV7gMAcT7e4FEMiLWnPogQv5EhBtSv3tyU1YH-4VUpf2XNeLNZnVzf3 OperationStatus(<OperationStatusKind.COMPLETE: 'Complete'>, '')>,\n",
       " <Operation id=EwUQ9caLV7gMAcT7e4FEMiLWnPogQv5EhBtSv3tyU1YH-3kgHNrB1KgNUmiBv5 OperationStatus(<OperationStatusKind.COMPLETE: 'Complete'>, '')>,\n",
       " <Operation id=6BPv73AWfRi4YWN3eqVLv336LUneGJ4ge3CEMkLp9q91-3Lxv2gUR8t3EmFL73 OperationStatus(<OperationStatusKind.COMPLETE: 'Complete'>, '')>,\n",
       " <Operation id=6BPv73AWfRi4YWN3eqVLv336LUneGJ4ge3CEMkLp9q91-4198xsNhaDjFzHUZq OperationStatus(<OperationStatusKind.COMPLETE: 'Complete'>, '')>,\n",
       " <Operation id=8bqfa3MgNFk21UDycqn78dQXnvhkRs3FF72ZbbpEQhnp-5d8XTgpzab8b34uPR OperationStatus(<OperationStatusKind.COMPLETE: 'Complete'>, '')>,\n",
       " <Operation id=8bqfa3MgNFk21UDycqn78dQXnvhkRs3FF72ZbbpEQhnp-4W76jFMQSVTiihAsk OperationStatus(<OperationStatusKind.COMPLETE: 'Complete'>, '')>,\n",
       " <Operation id=9XVUSbTtBNNvKhAzX3YgynKsg3oaUQ6MnMnti4VKJ1zE-5Eesg2kgoxD4GEHRS OperationStatus(<OperationStatusKind.COMPLETE: 'Complete'>, '')>,\n",
       " <Operation id=9XVUSbTtBNNvKhAzX3YgynKsg3oaUQ6MnMnti4VKJ1zE-4B2ZqDicY7Vhm6Gpd OperationStatus(<OperationStatusKind.COMPLETE: 'Complete'>, '')>,\n",
       " <Operation id=6NqrANvfpusceJm5wozukpU4rj1PwXvPTbqbAX3STH4u-413KnfJV1DXq7ynix OperationStatus(<OperationStatusKind.COMPLETE: 'Complete'>, '')>,\n",
       " <Operation id=qCBqGVv4szzMCtDWCQTnrNZEk2DLf6wwZY3f1xG9aKs-jxNz49XeRC1u7pU7 OperationStatus(<OperationStatusKind.COMPLETE: 'Complete'>, '')>,\n",
       " <Operation id=qCBqGVv4szzMCtDWCQTnrNZEk2DLf6wwZY3f1xG9aKs-3PwxXFDbnwyydkGjY OperationStatus(<OperationStatusKind.COMPLETE: 'Complete'>, '')>]"
      ]
     },
     "execution_count": 9,
     "metadata": {},
     "output_type": "execute_result"
    }
   ],
   "source": [
    "client.operations()"
   ]
  },
  {
   "cell_type": "code",
   "execution_count": null,
   "id": "ab3e167d-0115-4300-be27-3c2874c42a70",
   "metadata": {},
   "outputs": [],
   "source": []
  }
 ],
 "metadata": {
  "kernelspec": {
   "display_name": "Python 3 (ipykernel)",
   "language": "python",
   "name": "python3"
  },
  "language_info": {
   "codemirror_mode": {
    "name": "ipython",
    "version": 3
   },
   "file_extension": ".py",
   "mimetype": "text/x-python",
   "name": "python",
   "nbconvert_exporter": "python",
   "pygments_lexer": "ipython3",
   "version": "3.8.13"
  }
 },
 "nbformat": 4,
 "nbformat_minor": 5
}
