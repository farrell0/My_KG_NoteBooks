{
 "cells": [
  {
   "cell_type": "markdown",
   "id": "43b1755b-2af6-4570-84de-764a0024a919",
   "metadata": {
    "jp-MarkdownHeadingCollapsed": true,
    "tags": []
   },
   "source": [
    "#  Display options:"
   ]
  },
  {
   "cell_type": "code",
   "execution_count": null,
   "id": "19eb5ac6-bcb9-49a5-8cf0-60f8441171a6",
   "metadata": {},
   "outputs": [],
   "source": [
    "\n",
    "#  References for this Notebook,\n",
    "#\n",
    "#     Lines 135-139\n",
    "#     https://github.com/KatanaGraph/solutions/blob/main/fsi/src/katana_ai.py\n",
    "#     Lines 31-37\n",
    "#     https://github.com/KatanaGraph/test-datasets/blob/450232fe5739f327ed0795030a4b9d05731586ee/rdg_datasets/two_self_loops_ai/add_features.py\n",
    "#\n",
    "#     https://docs.k9h.dev/latest/recipes/udf-recipes.html?highlight=nodes%20get_property\n",
    "#\n",
    "#     https://github.com/KatanaGraph/katana-enterprise/blob/master/python/test/integration/remote/remote_operations_test.py\n",
    "#\n",
    "#     https://github.com/KatanaGraph/katana-enterprise/tree/master/lonestar/analytics/distributed/experimental\n",
    "\n"
   ]
  },
  {
   "cell_type": "code",
   "execution_count": 1,
   "id": "d7a11486-11ea-4a6c-8f7b-6f3808dfc85e",
   "metadata": {},
   "outputs": [
    {
     "data": {
      "text/html": [],
      "text/plain": [
       "<IPython.core.display.HTML object>"
      ]
     },
     "metadata": {},
     "output_type": "display_data"
    }
   ],
   "source": [
    "\n",
    "#  Setting display options \n",
    "\n",
    "import pandas as pd\n",
    "   #\n",
    "pd.set_option(\"display.width\", 480)\n",
    "\n",
    "#  Sets horizontal scroll for wide outputs\n",
    "#\n",
    "from IPython.display import display, HTML\n",
    "display(HTML(\"\"))\n",
    "\n",
    "from tabulate import tabulate\n"
   ]
  },
  {
   "cell_type": "code",
   "execution_count": null,
   "id": "60db99d1-7e45-49d6-8e9c-b6a998c56d8c",
   "metadata": {},
   "outputs": [],
   "source": [
    "\n",
    "#  When using UDFs, these execute on another host.\n",
    "#\n",
    "#  As such, these methods will need to be copied and run locally also.\n",
    "#\n",
    "pd.set_option('display.max_columns', None)\n",
    "pd.set_option(\"max_colwidth\", None)\n"
   ]
  },
  {
   "cell_type": "markdown",
   "id": "d3ebe820-bc6d-4948-b668-8b81cd3cbf29",
   "metadata": {
    "tags": []
   },
   "source": [
    "#  Setup stuff: Connectivity"
   ]
  },
  {
   "cell_type": "code",
   "execution_count": 2,
   "id": "1ea957d6-30c6-427a-ae4e-15ecfba0c4f9",
   "metadata": {},
   "outputs": [
    {
     "name": "stdout",
     "output_type": "stream",
     "text": [
      "<katana_enterprise.remote.sync_wrappers.Client object at 0x7fa6f16d5c40>\n"
     ]
    }
   ],
   "source": [
    "\n",
    "from katana import remote\n",
    "#  from katana.remote import import_data\n",
    "\n",
    "my_client = remote.Client()\n",
    "\n",
    "print(my_client)\n"
   ]
  },
  {
   "cell_type": "code",
   "execution_count": 3,
   "id": "97571016-7c02-4e90-a75a-136a0dacd35f",
   "metadata": {},
   "outputs": [
    {
     "name": "stdout",
     "output_type": "stream",
     "text": [
      "--\n"
     ]
    }
   ],
   "source": [
    "\n",
    "NUM_PARTITIONS  = 3\n",
    "   #\n",
    "DB_NAME         = \"my_db\"\n",
    "GRAPH_NAME      = \"my_graph\"\n",
    "\n",
    "print(\"--\")\n"
   ]
  },
  {
   "cell_type": "code",
   "execution_count": 4,
   "id": "c5db6505-7fc8-4779-b194-9ed8945b9a90",
   "metadata": {},
   "outputs": [
    {
     "name": "stdout",
     "output_type": "stream",
     "text": [
      "<_Graph my_graph, 7cLArmF4PjVBBbUGWswa88GPdZNY2vbsZXohp2ujtzZK, 21>\n"
     ]
    }
   ],
   "source": [
    "\n",
    "#  CONNECT TO GRAPH\n",
    "\n",
    "my_graph, *_ = my_client.get_database(name=DB_NAME).find_graphs_by_name(GRAPH_NAME)\n",
    "\n",
    "print(my_graph)\n"
   ]
  },
  {
   "cell_type": "code",
   "execution_count": null,
   "id": "195ac246-4852-44ac-8a63-8631b38858ca",
   "metadata": {},
   "outputs": [],
   "source": [
    "\n",
    "display(my_graph.num_nodes())\n",
    "display(my_graph.num_edges())\n"
   ]
  },
  {
   "cell_type": "markdown",
   "id": "61556ce5-9044-42bc-bb13-80b6a514ae27",
   "metadata": {
    "tags": []
   },
   "source": [
    "# UDFs, Part 01: Mutating Nodes "
   ]
  },
  {
   "cell_type": "code",
   "execution_count": null,
   "id": "e1864bd7-a83a-4b43-a479-852da42090d2",
   "metadata": {},
   "outputs": [],
   "source": [
    "\n",
    "def my_func(i_graph):\n",
    "    \n",
    "   help(i_graph.nodes.labels)\n",
    "      #\n",
    "   return\n",
    "\n",
    "l_result = my_graph.run(lambda g: my_func(g))\n"
   ]
  },
  {
   "cell_type": "code",
   "execution_count": null,
   "id": "779d031f-6681-45d9-9050-329ad0f36f83",
   "metadata": {},
   "outputs": [],
   "source": [
    "\n",
    "#  Our code will be getting larger; demonstrate using nested functions with Python\n",
    "\n",
    "def my_func_HHH(i_graph, i_properties):\n",
    "\n",
    "   def bbb():\n",
    "      print(\"HHH\")\n",
    "    \n",
    "   print(\"GGG\")\n",
    "   bbb()\n",
    "        \n",
    "   return\n",
    "\n",
    "\n",
    "l_result = my_graph.run(lambda g: my_func_HHH(g, [\"id\", \"fname\", \"lname\"]))\n",
    "   #\n",
    "print(l_result)\n",
    "\n",
    "\n",
    "#  Sample output,\n",
    "#\n",
    "#     Host 0 output:\n",
    "#     GGG\n",
    "#     HHH\n",
    "#     \n",
    "#     Host 1 output:\n",
    "#     GGG\n",
    "#     HHH\n",
    "#     \n",
    "#     Host 2 output:\n",
    "#     GGG\n",
    "#     HHH\n",
    "#     None\n"
   ]
  },
  {
   "cell_type": "code",
   "execution_count": null,
   "id": "76f88074-b38a-4348-974d-14abd2c23e78",
   "metadata": {},
   "outputs": [],
   "source": [
    "\n",
    "display(my_graph.num_nodes())\n",
    "display(my_graph.num_edges())\n"
   ]
  },
  {
   "cell_type": "code",
   "execution_count": null,
   "id": "9ca30cea-4075-40c9-bcd6-55b2e46598ac",
   "metadata": {},
   "outputs": [],
   "source": [
    "\n",
    "# my_graph2 = my_graph.project(node_types=[\"Airport\"], edge_types=[None])\n",
    "my_graph2 = my_graph.project(node_types=[\"Airport\"], edge_types=[\"FLIES_TO\"])\n",
    "\n",
    "print(\"--\")\n"
   ]
  },
  {
   "cell_type": "code",
   "execution_count": null,
   "id": "770a91e6-cebc-4134-950f-d9819d07a9da",
   "metadata": {},
   "outputs": [],
   "source": [
    "\n",
    "display(my_graph2.num_nodes())\n",
    "display(my_graph2.num_edges())\n",
    "\n",
    "#  OperationError: 9AgHAAGCdiiUykiKth3cm2rJW4ruWxpLTaf5ofuQkVQx-2dhBp6fa5UWarBkC7 \n",
    "#  Projected views are not supported for query operation yet. \n",
    "#  (QueryOperation.cpp:30): not implemented: not implemented\n"
   ]
  },
  {
   "cell_type": "code",
   "execution_count": null,
   "id": "041dd288-902e-4603-a9b7-b87e6736088a",
   "metadata": {},
   "outputs": [],
   "source": [
    "#  View the graph; verify results\n",
    "\n",
    "l_result = my_graph2.query(\"\"\"\n",
    "\n",
    "   MATCH (n)\n",
    "   RETURN n\n",
    "   \n",
    "   \"\"\", contextualize=True)\n",
    "\n",
    "l_result.view()\n",
    "\n",
    "#  OperationError: Projected views are not supported for query operation yet. \n",
    "#  (QueryOperation.cpp:28): not implemented: not implemented\n"
   ]
  },
  {
   "cell_type": "code",
   "execution_count": null,
   "id": "c6539d56-27ea-473b-904c-34b36c10ac27",
   "metadata": {},
   "outputs": [],
   "source": [
    "\n",
    "#  Working with a property, after a projection\n",
    "\n",
    "def my_func(i_graph, i_property):\n",
    "    \n",
    "   for l_node in i_graph.nodes.get_property(i_property):\n",
    "      print(l_node)\n",
    "            \n",
    "   return\n",
    "\n",
    "l_result = my_graph2.run(lambda g: my_func(g, \"id\"))\n",
    "\n",
    "#  Projection not used\n",
    "#\n",
    "#     Host 0 output:\n",
    "#     DEN\n",
    "#     ORD\n",
    "#     SJC\n",
    "#     \n",
    "#     Host 1 output:\n",
    "#     MKE\n",
    "#     ORD\n",
    "#     PAP\n",
    "#     \n",
    "#     Host 2 output:\n",
    "#     ORD\n",
    "#     SJC\n",
    "#     DEN\n",
    "#     MKE\n",
    "#     PAP\n"
   ]
  },
  {
   "cell_type": "code",
   "execution_count": null,
   "id": "456a127d-b4af-4b41-8795-bbb28f142b5a",
   "metadata": {},
   "outputs": [],
   "source": [
    "\n",
    "#  Put the projection inside the UDF\n",
    "\n",
    "\n",
    "def my_func(i_graph, i_property):\n",
    "    \n",
    "   l_graph2 = i_graph.project(node_types=[\"Airport\"], edge_types=[\"FLIES_TO\"])\n",
    "\n",
    "   for l_node in l_graph2.nodes.get_property(i_property):\n",
    "      print(l_node)\n",
    "            \n",
    "   return\n",
    "    \n",
    "    \n",
    "l_result = my_graph.run(lambda g: my_func(g, \"id\"))\n",
    "\n",
    "#  Projection not used\n",
    "#\n",
    "#  (Same output as above)\n"
   ]
  },
  {
   "cell_type": "code",
   "execution_count": null,
   "id": "5d03df1e-7b98-4820-9172-8aa6c4dbcf35",
   "metadata": {},
   "outputs": [],
   "source": [
    "\n",
    "#  Working with edge data; approach 1\n",
    "#\n",
    "#     .  Just get something working\n",
    "#\n",
    "\n",
    "def my_func(i_graph, i_label):\n",
    "    \n",
    "   l_node_props = i_graph.nodes.    get_property(\"id\"      )\n",
    "   l_edge_props = i_graph.out_edges.get_property(\"DISTANCE\")\n",
    "    \n",
    "   for l_node in i_graph.nodes.masters():\n",
    "      if (i_label in i_graph.nodes.labels(l_node)):\n",
    "         for l_edge in i_graph.out_edges(l_node):\n",
    "          \n",
    "            l_node_id       = l_node_props[l_node]\n",
    "               #\n",
    "            l_edge_src      = i_graph.out_edges.src(l_edge)\n",
    "            l_edge_dst      = i_graph.out_edges.dst(l_edge)\n",
    "               #\n",
    "            l_edge_distance = l_edge_props[l_edge]\n",
    "               #\n",
    "            print(\"Given Airport: %-3s   Edge Src: %-3s / %-18s   Edge Dst: %-3s / %-18s   Distance: %-8s\" % (\n",
    "               l_node_id, l_node_props[l_edge_src], l_edge_src, l_node_props[l_edge_dst], l_edge_dst, l_edge_distance))\n",
    "    \n",
    "   return\n",
    "\n",
    "l_result = my_graph.run(lambda g: my_func(g, \"Airport\"))\n",
    "\n",
    "#  Sample output,     (fyi:  results may look different, as partitioning may be different between loads)\n",
    "#\n",
    "#     Host 0 output:\n",
    "#     Given Airport: MKE   Edge Src: MKE / <lnid 0>             Edge Dst: ORD / <lnid 4294967294>    Distance: 66      \n",
    "#     \n",
    "#     Host 1 output:\n",
    "#     Given Airport: ORD   Edge Src: ORD / <lnid 0>             Edge Dst: MKE / <lnid 4294967293>    Distance: 66      \n",
    "#     Given Airport: ORD   Edge Src: ORD / <lnid 0>             Edge Dst: DEN / <lnid 4294967294>    Distance: 886     \n",
    "#     Given Airport: SJC   Edge Src: SJC / <lnid 1>             Edge Dst: ORD / <lnid 0>             Distance: 1829    \n",
    "#     Given Airport: SJC   Edge Src: SJC / <lnid 1>             Edge Dst: DEN / <lnid 4294967294>    Distance: 948     \n",
    "#     Given Airport: SJC   Edge Src: SJC / <lnid 1>             Edge Dst: PAP / <lnid 4294967292>    Distance: None    \n",
    "#     \n",
    "#     Host 2 output:\n",
    "#     Given Airport: DEN   Edge Src: DEN / <lnid 0>             Edge Dst: SJC / <lnid 4294967293>    Distance: 948     \n",
    "#     Given Airport: DEN   Edge Src: DEN / <lnid 0>             Edge Dst: ORD / <lnid 4294967294>    Distance: 886     \n",
    "\n",
    "#  Above,\n",
    "#\n",
    "#     .  Minimally, we show the out edge from SJC Airport to a non-Airport node.\n",
    "#        This is because we did filter nodes on the Airport label, but looked at [ all ] out edges.\n",
    "#\n",
    "#     .  We add additional node and edge properties; move to managing that with less code.\n"
   ]
  },
  {
   "cell_type": "code",
   "execution_count": null,
   "id": "8991217f-37f6-4c03-a6e1-d51c94fe091c",
   "metadata": {},
   "outputs": [],
   "source": [
    "\n",
    "#  Working with edge data; approach 2\n",
    "#\n",
    "#     .  Cleaner handling of properties\n",
    "#     .  Filter out Restaurants\n",
    "#\n",
    "\n",
    "def my_func(i_graph, i_label, i_type, i_weight):\n",
    "    \n",
    "    \n",
    "   l_node_props = {each: i_graph.nodes    .get_property(each) for each in [ \"id\"             ]}\n",
    "   l_edge_props = {each: i_graph.out_edges.get_property(each) for each in [ \"TYPE\", i_weight ]}\n",
    "    \n",
    "   for l_node in i_graph.nodes.masters():\n",
    "      if (i_label in i_graph.nodes.labels(l_node)):\n",
    "         for l_edge in i_graph.out_edges(l_node):\n",
    "            if(l_edge_props[\"TYPE\"][l_edge] == i_type):\n",
    "          \n",
    "               l_node_id       = l_node_props[\"id\"][l_node]\n",
    "                  #\n",
    "               l_edge_src      = i_graph.out_edges.src(l_edge)\n",
    "               l_edge_dst      = i_graph.out_edges.dst(l_edge)\n",
    "                  #\n",
    "               l_edge_distance = l_edge_props[i_weight][l_edge]\n",
    "                  #\n",
    "               print(\"Given Airport: %-3s   Edge Src: %-3s / %-18s   Edge Dst: %-3s / %-18s   Distance: %-8s\" % (\n",
    "                  l_node_id, l_node_props[\"id\"][l_edge_src], l_edge_src, l_node_props[\"id\"][l_edge_dst], l_edge_dst, l_edge_distance))\n",
    "                  \n",
    "   return\n",
    "\n",
    "l_result = my_graph.run(lambda g: my_func(g, \"Airport\", \"FLIES_TO\", \"DISTANCE\"))\n",
    "\n",
    "#  Sample output,\n",
    "#\n",
    "#     Host 0 output:\n",
    "#     Given Airport: MKE   Edge Src: MKE / <lnid 0>             Edge Dst: ORD / <lnid 4294967294>    Distance: 66      \n",
    "#     \n",
    "#     Host 1 output:\n",
    "#     Given Airport: ORD   Edge Src: ORD / <lnid 0>             Edge Dst: MKE / <lnid 4294967293>    Distance: 66      \n",
    "#     Given Airport: ORD   Edge Src: ORD / <lnid 0>             Edge Dst: DEN / <lnid 4294967294>    Distance: 886     \n",
    "#     Given Airport: SJC   Edge Src: SJC / <lnid 1>             Edge Dst: ORD / <lnid 0>             Distance: 1829    \n",
    "#     Given Airport: SJC   Edge Src: SJC / <lnid 1>             Edge Dst: DEN / <lnid 4294967294>    Distance: 948     \n",
    "#     \n",
    "#     Host 2 output:\n",
    "#     Given Airport: DEN   Edge Src: DEN / <lnid 0>             Edge Dst: SJC / <lnid 4294967293>    Distance: 948     \n",
    "#     Given Airport: DEN   Edge Src: DEN / <lnid 0>             Edge Dst: ORD / <lnid 4294967294>    Distance: 886     \n"
   ]
  },
  {
   "cell_type": "code",
   "execution_count": null,
   "id": "b4cb026c-c9a7-46da-b254-6b551ab44fff",
   "metadata": {},
   "outputs": [],
   "source": [
    "\n",
    "#  Write to a file that is local to the worker node\n",
    "#\n",
    "#     (Why: poor person's debugging maybe ?)\n",
    "#\n",
    "\n",
    "def my_func(i_graph, i_property, i_label):\n",
    "    \n",
    "   l_node_prop = i_graph.nodes.get_property(i_property)\n",
    "      #\n",
    "   with open(\"/tmp/my_debug.txt\", \"w\") as f:\n",
    "         #\n",
    "      for l_node in i_graph.nodes.masters():\n",
    "         if (i_label in i_graph.nodes.labels(l_node) ):\n",
    "            print(l_node_prop[l_node])\n",
    "            f.write(\"Node: \" + l_node_prop[l_node] + \"\\n\")\n",
    "     \n",
    "   return\n",
    "\n",
    "l_result = my_graph.run(lambda g: my_func(g, \"id\", \"Airport\"))\n",
    "\n",
    "print(l_result)\n",
    "\n",
    "#  Sample output,\n",
    "#\n",
    "#     root@amusing-fawn-compute-0:~# cat /tmp/my*\n",
    "#     Node: MKE\n",
    "#     \n",
    "#     root@amusing-fawn-compute-1:~# cat /tmp/my*\n",
    "#     Node: ORD\n",
    "#     Node: SJC\n",
    "#     \n",
    "#     root@amusing-fawn-compute-2:~# cat /tmp/my*\n",
    "#     Node: DEN\n"
   ]
  },
  {
   "cell_type": "code",
   "execution_count": null,
   "id": "753a253b-07b2-405e-b665-0a35798530b1",
   "metadata": {},
   "outputs": [],
   "source": [
    "\n",
    "#  Actually returning data\n",
    "#\n",
    "\n",
    "def my_func(i_graph, i_property, i_label):\n",
    "    \n",
    "   from katana_enterprise.distributed import single_host\n",
    "      #\n",
    "   l_result = []\n",
    "    \n",
    "   l_node_prop = i_graph.nodes.get_property(i_property)\n",
    "      #\n",
    "   for l_node in i_graph.nodes.masters():\n",
    "      if (i_label in i_graph.nodes.labels(l_node) ):\n",
    "         print(l_node_prop[l_node])\n",
    "         l_result.append(l_node_prop[l_node])\n",
    "\n",
    "   #  return l_result\n",
    "   #\n",
    "   #     ValueError: Hosts returned more than one value. Please have only one host return a value while other's return a None.\n",
    "   #     The returned results (index is the host # in list):\n",
    "   #     [['MKE'], ['ORD', 'SJC'], ['DEN']]\n",
    "                      \n",
    "   return single_host(host=0, result=l_result)\n",
    "\n",
    "l_return = my_graph.run(lambda g: my_func(g, \"id\", \"Airport\"))\n",
    "   #\n",
    "print(l_return)\n",
    "\n",
    "\n",
    "#  Sample output,\n",
    "#\n",
    "#     Host 0 output:\n",
    "#     MKE\n",
    "#     \n",
    "#     Host 1 output:\n",
    "#     ORD\n",
    "#     SJC\n",
    "#     \n",
    "#     Host 2 output:\n",
    "#     DEN\n",
    "#     ['MKE']\n"
   ]
  },
  {
   "cell_type": "code",
   "execution_count": null,
   "id": "f7d2fc83-a71e-4b04-93e6-9e13532147cd",
   "metadata": {},
   "outputs": [],
   "source": [
    "\n",
    "#  Return a list from multiple hosts ..\n",
    "#\n"
   ]
  },
  {
   "cell_type": "code",
   "execution_count": null,
   "id": "e8370fdf-c573-4e91-b7e9-c2ec4ef8131d",
   "metadata": {},
   "outputs": [],
   "source": [
    "\n"
   ]
  },
  {
   "cell_type": "code",
   "execution_count": null,
   "id": "dfea18c1-0bfc-4f20-97a6-23bcded3c8fd",
   "metadata": {},
   "outputs": [],
   "source": [
    "\n",
    "\n"
   ]
  },
  {
   "cell_type": "code",
   "execution_count": 5,
   "id": "7b11c4e0-4b91-4a64-b06f-340f03873246",
   "metadata": {},
   "outputs": [
    {
     "name": "stdout",
     "output_type": "stream",
     "text": [
      "--\n"
     ]
    }
   ],
   "source": [
    "\n",
    "#  We will use this counter to generate a unique column name below-\n",
    "#\n",
    "l_cntr = 20\n",
    "\n",
    "print(\"--\")\n"
   ]
  },
  {
   "cell_type": "code",
   "execution_count": null,
   "id": "685b2926-ca30-446a-b74f-4542f174d69a",
   "metadata": {},
   "outputs": [],
   "source": [
    "\n",
    "#  Add a new column to each node, one that is derived from columns local to each node; approach 1\n",
    "#\n",
    "#     .  This will fail if the named new column already exists in the graph.\n",
    "#     .  Just get this working, then make it more functional.\n",
    "#\n",
    "\n",
    "def my_func(i_graph, i_label, i_properties, i_new_colname):\n",
    "    \n",
    "   from katana.distributed import KeyedColumnNode\n",
    "   import numpy as np\n",
    "    \n",
    "   l_node_props = i_graph.nodes.get_property(i_properties[0])                     #  An existing column, we will upshift this existing value\n",
    "      #\n",
    "   l_node_keys  = l_node_props.keys()                                             #  keys() works against any column in the node.\n",
    "      #\n",
    "   l_new_cols   = np.zeros(len(l_node_props), dtype=\"object\")                     #  An empty NumPy array, same length as l_node_props\n",
    "\n",
    "   for l_index, l_key in enumerate(l_node_keys):                                  #  Loop over the keys that are already in the graph\n",
    "      l_new_cols[l_index] = str(l_node_props[l_key]).upper()                      #  Derive a new column property value\n",
    "\n",
    "   l_keyed_cols = KeyedColumnNode(l_new_cols, l_node_props, i_new_colname)        #  Building what we need to send to add_property()\n",
    "   i_graph.nodes.add_property(l_keyed_cols)\n",
    "\n",
    "\n",
    "   return\n",
    "\n",
    "l_cntr   += 1\n",
    "l_newcol =  \"newcol_\" + str(l_cntr).zfill(4)\n",
    "\n",
    "   #\n",
    "l_result = my_graph.run(lambda g: my_func(g, \"Airport\", [\"airport_name\"], l_newcol))\n",
    "\n",
    "\n",
    "print(\"--\")\n"
   ]
  },
  {
   "cell_type": "code",
   "execution_count": null,
   "id": "2e413eea-dfcd-4368-acb7-ec69a8d07a2e",
   "metadata": {},
   "outputs": [],
   "source": []
  },
  {
   "cell_type": "code",
   "execution_count": null,
   "id": "3e14ef74-6122-4cb9-bb8d-d8a8909d460c",
   "metadata": {},
   "outputs": [],
   "source": []
  },
  {
   "cell_type": "code",
   "execution_count": null,
   "id": "573e15eb-e9a6-4afd-a758-215472626c60",
   "metadata": {},
   "outputs": [],
   "source": []
  },
  {
   "cell_type": "code",
   "execution_count": null,
   "id": "4f716c71-e564-4733-a97b-52b5eb0529bf",
   "metadata": {},
   "outputs": [],
   "source": []
  },
  {
   "cell_type": "code",
   "execution_count": null,
   "id": "c5bdfda8-a1e0-4c88-804c-592d59d47358",
   "metadata": {},
   "outputs": [],
   "source": []
  },
  {
   "cell_type": "code",
   "execution_count": null,
   "id": "38f99942-9543-49a9-9c4d-ed27eccaa367",
   "metadata": {},
   "outputs": [],
   "source": [
    "\n",
    "#  View the graph; verify results\n",
    "#\n",
    "#  Based on our return list, not easily certain if new column was added to Restaurant\n",
    "#\n",
    "\n",
    "l_query  = \"\"\"\n",
    "   MATCH (n)\n",
    "   RETURN n.restaurant_name, n.airport_name, n.{0}\n",
    "   \"\"\".format(l_newcol)\n",
    "\n",
    "l_result = my_graph.query(l_query)\n",
    "\n",
    "print(tabulate(l_result, headers='keys', tablefmt='psql'))\n",
    "\n",
    "#  Sample output,\n",
    "#\n",
    "#     +----+-----------------------------+------------------+-----------------+\n",
    "#     |    | n.restaurant_name           | n.airport_name   | n.newcol_0021   |\n",
    "#     |----+-----------------------------+------------------+-----------------|\n",
    "#     |  0 |                             | San Jose         | SAN JOSE        |\n",
    "#     |  1 |                             | Chicago O-Hare   | CHICAGO O-HARE  |\n",
    "#     |  2 |                             | Milwaukee        | MILWAUKEE       |\n",
    "#     |  3 | Pappadeauxs Seafood Kitchen |                  | NONE            |\n",
    "#     |  4 |                             | Denver           | DENVER          |\n",
    "#     +----+-----------------------------+------------------+-----------------+\n"
   ]
  },
  {
   "cell_type": "code",
   "execution_count": null,
   "id": "febfd392-fc73-4c81-96de-f4792cd3b5bb",
   "metadata": {},
   "outputs": [],
   "source": [
    "\n",
    "#  View the graph; verify results\n",
    "#\n",
    "#  Confirming new column was added to Restaurant\n",
    "#\n",
    "\n",
    "l_query  = \"\"\"\n",
    "   MATCH (n: Restaurant)\n",
    "   // RETURN n.restaurant_name, n.{0}\n",
    "   RETURN n\n",
    "   \"\"\".format(l_newcol)\n",
    "\n",
    "l_result = my_graph.query(l_query)\n",
    "\n",
    "print(tabulate(l_result, headers='keys', tablefmt='psql'))\n",
    "\n",
    "#  Sample output,\n",
    "#\n",
    "#     +----+-----------------+----------------+--------+-----------------+-----------------------------+----------+\n",
    "#     |    |   n.internal_id | n.labels       | n.id   | n.newcol_0021   | n.restaurant_name           | n.type   |\n",
    "#     |----+-----------------+----------------+--------+-----------------+-----------------------------+----------|\n",
    "#     |  0 | 562949953421313 | ['Restaurant'] | PAP    | NONE            | Pappadeauxs Seafood Kitchen | node     |\n",
    "#     +----+-----------------+----------------+--------+-----------------+-----------------------------+----------+\n"
   ]
  },
  {
   "cell_type": "code",
   "execution_count": null,
   "id": "b3e69aa9-3bb0-40d2-affe-337a24b7d19d",
   "metadata": {},
   "outputs": [],
   "source": [
    "\n",
    "#  Same as above; approach 2\n",
    "#\n",
    "#     .  Add cleaner processing for multiple (input) columns per node\n",
    "#     .  Do not add the property to node types other than our target (Airport)\n",
    "#     .  Move to using upsert_property()    (slower, safer)\n",
    "#\n",
    "\n",
    "\n",
    "\n",
    "\n",
    "\n",
    "\n",
    "\n"
   ]
  },
  {
   "cell_type": "code",
   "execution_count": null,
   "id": "01ed4926-52ea-4fa6-8ef7-49a863d8840d",
   "metadata": {},
   "outputs": [],
   "source": []
  },
  {
   "cell_type": "code",
   "execution_count": null,
   "id": "bbab78c3-5a51-407a-b796-bae790d246c5",
   "metadata": {},
   "outputs": [],
   "source": []
  },
  {
   "cell_type": "code",
   "execution_count": null,
   "id": "1cccaf3b-5f2c-4fce-bf0a-8bea63292344",
   "metadata": {},
   "outputs": [],
   "source": []
  },
  {
   "cell_type": "code",
   "execution_count": null,
   "id": "739f988f-a9b2-48f5-a03d-195112306076",
   "metadata": {},
   "outputs": [],
   "source": []
  },
  {
   "cell_type": "code",
   "execution_count": null,
   "id": "a36630b5-7169-4f3f-8ddf-84dd50c7be45",
   "metadata": {},
   "outputs": [],
   "source": []
  },
  {
   "cell_type": "code",
   "execution_count": null,
   "id": "390a07d2-7e81-4ce6-99eb-9e06457ca128",
   "metadata": {},
   "outputs": [],
   "source": []
  },
  {
   "cell_type": "code",
   "execution_count": null,
   "id": "31854d56-0685-4b84-b095-7a5eb9af6b59",
   "metadata": {},
   "outputs": [],
   "source": []
  },
  {
   "cell_type": "code",
   "execution_count": null,
   "id": "33175f5a-d69c-4259-a732-1655c972a4b8",
   "metadata": {},
   "outputs": [],
   "source": []
  },
  {
   "cell_type": "code",
   "execution_count": null,
   "id": "15c44a97-4f73-42cd-ae7f-807e7f847cbd",
   "metadata": {},
   "outputs": [],
   "source": []
  },
  {
   "cell_type": "code",
   "execution_count": null,
   "id": "d0e8f1a9-0cd1-406e-8644-5640d4eef18f",
   "metadata": {},
   "outputs": [],
   "source": []
  },
  {
   "cell_type": "code",
   "execution_count": null,
   "id": "fa0a63af-466c-4f62-9cce-66d95d054eaa",
   "metadata": {},
   "outputs": [],
   "source": []
  },
  {
   "cell_type": "code",
   "execution_count": null,
   "id": "6aec1aed-4120-4626-8b98-68d384b02045",
   "metadata": {},
   "outputs": [],
   "source": []
  },
  {
   "cell_type": "markdown",
   "id": "97c93825-5067-4c50-b40c-6c2441bc2bc0",
   "metadata": {
    "jp-MarkdownHeadingCollapsed": true,
    "tags": []
   },
   "source": [
    "#  UDFs, Part 04: Data enrichment/derivation .."
   ]
  },
  {
   "cell_type": "code",
   "execution_count": null,
   "id": "118f7e01-7c71-46a2-aa37-4ac54afe3573",
   "metadata": {},
   "outputs": [],
   "source": [
    "\n",
    "#  Same as above, but add a derived column\n",
    "\n",
    "\n",
    "def my_func_III(i_graph, i_properties):\n",
    "    \n",
    "    \n",
    "   from katana_enterprise.distributed import single_host\n",
    "      #\n",
    "   import numpy  as np\n",
    "   import pandas as pd\n",
    "    \n",
    "\n",
    "   ##################################################################\n",
    "\n",
    "   #  Nested function, load a Python DataFrame from the KG graph\n",
    "    \n",
    "   def l_load_df(i_graph, i_properties):\n",
    "      l_nodes = []\n",
    "    \n",
    "      for l_property in i_properties:\n",
    "         l_node = i_graph.get_node_property(l_property).to_numpy().reshape(-1, 1)\n",
    "         l_nodes.append(l_node)\n",
    "       \n",
    "      l_array     = np.hstack(l_nodes)\n",
    "      l_dataframe = pd.DataFrame(l_array, columns=i_properties)\n",
    "         #\n",
    "    \n",
    "      return l_dataframe\n",
    "    \n",
    "   ##################################################################\n",
    "\n",
    "   #  Nested function, add a new, derived column to the DataFrame\n",
    "    \n",
    "   def l_enrich_df(i_dataframe, i_source_property, i_new_property):\n",
    "    \n",
    "      def l_to_upper(i_str):\n",
    "         if i_str.get(i_source_property) is not None:\n",
    "            return str(i_str[i_source_property]).upper()\n",
    "         else:\n",
    "            return\n",
    "    \n",
    "      i_dataframe[i_new_property] = i_dataframe.apply(l_to_upper, axis=1)\n",
    "    \n",
    "      return\n",
    "\n",
    "   ##################################################################\n",
    "    \n",
    "    \n",
    "   l_dataframe = l_load_df(i_graph, i_properties)\n",
    "      #\n",
    "   l_enrich_df(l_dataframe, \"fname\", \"fname_upper\")\n",
    "\n",
    "        \n",
    "   return single_host(host=0, result=l_dataframe)\n",
    "\n",
    "\n",
    "l_result = my_graph.run(lambda g: my_func_III(g, [\"id\", \"fname\", \"lname\"]))\n",
    "   #\n",
    "print(l_result)\n",
    "\n",
    "\n",
    "#  Sample output,\n",
    "#\n",
    "#                         id   fname    lname fname_upper\n",
    "#     0  1111-1111-1111-1111  Justin     Fine      JUSTIN\n",
    "#     1  2222-2222-2222-2222  Thomas     Cook      THOMAS\n",
    "#     2  3333-3333-3333-3333  Sameer  Iyengar      SAMEER\n",
    "#     3  4444-4444-4444-4444   Brian  Spencer       BRIAN\n",
    "#     4                  101    None     None        None\n",
    "#     5                  102    None     None        None\n",
    "#     6                  103    None     None        None\n",
    "#     7                  104    None     None        None\n",
    "#     8                  105    None     None        None\n",
    "#     9                  106    None     None        None\n"
   ]
  },
  {
   "cell_type": "markdown",
   "id": "f1de7941-e0b1-4ff7-ac14-3471b1234940",
   "metadata": {
    "jp-MarkdownHeadingCollapsed": true,
    "tags": []
   },
   "source": [
    "# UDFs, Part 05: Just writing to the graph .."
   ]
  },
  {
   "cell_type": "code",
   "execution_count": null,
   "id": "a16c5449-ea48-4ff6-a34c-d3eb334b12a6",
   "metadata": {},
   "outputs": [],
   "source": [
    "\n",
    "def my_func_JJJ(i_graph):\n",
    "\n",
    "   import pandas as pd\n",
    "       \n",
    "   l_array     = [\n",
    "      [ \"7777-7777-7777-7777\", \"Bob\"     , \"Person\" ],\n",
    "      [ \"8888-8888-8888-8888\", \"Mary\"    , \"Person\" ],\n",
    "      [ \"9999-9999-9999-9999\", \"Earl\"    , \"Person\" ],\n",
    "      ]\n",
    "   l_dataframe = pd.DataFrame(l_array, columns=[\"id\", \"newcol\", \"type\"])\n",
    "    \n",
    "   i_graph.upsert_node_property(l_dataframe)\n",
    "\n",
    "    \n",
    "my_graph.run(lambda g: my_func_JJJ(g))\n",
    "\n",
    "\n",
    "#     Host 0 errors:\n",
    "#           ...\n",
    "#     ValueError: expected 10 rows found 3 instead (PropertyGraph.cpp:1282): invalid argument\n",
    "#     \n",
    "#     Host 1 errors:\n",
    "#           ...\n",
    "#     ValueError: expected 6 rows found 3 instead (PropertyGraph.cpp:1282): invalid argument\n",
    "#     \n",
    "#     Host 2 errors:\n",
    "#           ...\n",
    "#     ValueError: expected 0 rows found 3 instead (PropertyGraph.cpp:1282): invalid argument\n",
    "\n"
   ]
  },
  {
   "cell_type": "code",
   "execution_count": null,
   "id": "e96e4da1-fb79-430a-80f4-780be26843c7",
   "metadata": {},
   "outputs": [],
   "source": [
    "\n",
    "#  Attempt 01 to match what is expected by upsert_node_property()\n",
    "\n",
    "def my_func_KKK(i_graph):\n",
    "\n",
    "   l_node_ids = i_graph.get_node_property(\"id\")\n",
    "\n",
    "\n",
    "   for l_node in i_graph.master_nodes():\n",
    "      print(l_node)\n",
    "\n",
    "    \n",
    "my_graph.run(lambda g: my_func_KKK(g))\n",
    "\n",
    "\n",
    "#     Host 0 output:\n",
    "#     0\n",
    "#     1\n",
    "#     2\n",
    "#     3\n",
    "#     \n",
    "#     Host 1 output:\n",
    "#     0\n",
    "#     1\n",
    "#     2\n",
    "#     3\n",
    "#     4\n",
    "#     5\n",
    "\n"
   ]
  },
  {
   "cell_type": "code",
   "execution_count": null,
   "id": "3dbea87c-6868-463f-97cb-5b3a631b8488",
   "metadata": {},
   "outputs": [],
   "source": [
    "\n",
    "#  This technique works differently than that above because we fetch the property titled, \"id\", which is present everywhere.\n",
    "#\n",
    "#  **  Arthur\n",
    "\n",
    "def my_func_MMM(i_graph, i_properties):\n",
    "    \n",
    "   import numpy  as np\n",
    "   import pandas as pd\n",
    "    \n",
    "   pd.set_option(\"display.max_columns\", None)\n",
    "   pd.set_option(\"max_colwidth\", None)\n",
    "    \n",
    "   l_nodes = []\n",
    " \n",
    "   for l_property in i_properties:\n",
    "      l_node = i_graph.get_node_property(l_property).to_numpy().reshape(-1, 1)\n",
    "      l_nodes.append(l_node)\n",
    "    \n",
    "   l_array     = np.hstack(l_nodes)\n",
    "   l_dataframe = pd.DataFrame(l_array, columns=i_properties)\n",
    "    \n",
    "   \n",
    "   #  todo-   Want better example\n",
    "   #          Also, one that only affects given rows\n",
    "   #\n",
    "   # xxx = l_dataframe.assign(new_column=lambda x: (None if x.fname is None else \"Mr. \" + x.fname))\n",
    "\n",
    "   xxx = l_dataframe.assign(new_column=lambda x: (x.fname))\n",
    "    \n",
    "   print(xxx)\n",
    "\n",
    "   #  This statement returns, but I see no changes to the graph.\n",
    "   #\n",
    "   i_graph.upsert_node_property(xxx)\n",
    "    \n",
    "   #  This statement hangs\n",
    "   #\n",
    "   i_graph.write()\n",
    "    \n",
    "    \n",
    "my_graph.run(lambda g: my_func_MMM(g, [\"id\", \"fname\"]))\n",
    "    \n",
    "    \n",
    "    \n",
    "    "
   ]
  },
  {
   "cell_type": "code",
   "execution_count": null,
   "id": "b9a72e1a-9ded-4514-9eee-8332cdbc9028",
   "metadata": {},
   "outputs": [],
   "source": [
    "\n",
    "#  View the graph; verify results\n",
    "\n",
    "l_result = my_graph.query(\"\"\"\n",
    "\n",
    "   MATCH (n)\n",
    "   RETURN n\n",
    "   \n",
    "   \"\"\", contextualize=True)\n",
    "\n",
    "l_result.view()\n"
   ]
  },
  {
   "cell_type": "code",
   "execution_count": null,
   "id": "23ef17e9-2b5d-4270-8fb6-ffc3958f61e1",
   "metadata": {},
   "outputs": [],
   "source": []
  },
  {
   "cell_type": "code",
   "execution_count": null,
   "id": "5bd437b6-b242-48cc-a1e5-6e95f390a624",
   "metadata": {},
   "outputs": [],
   "source": []
  },
  {
   "cell_type": "code",
   "execution_count": null,
   "id": "c10de210-06d5-4a8b-a08f-a7c5528f8b84",
   "metadata": {},
   "outputs": [],
   "source": []
  },
  {
   "cell_type": "code",
   "execution_count": 35,
   "id": "07b9ea84-9ada-48ed-9971-cfe81fe32a59",
   "metadata": {},
   "outputs": [
    {
     "data": {
      "application/vnd.jupyter.widget-view+json": {
       "model_id": "cf5ed54861894607be50a840ca8a0bd6",
       "version_major": 2,
       "version_minor": 0
      },
      "text/plain": [
       "          0/? [?op/s]"
      ]
     },
     "metadata": {},
     "output_type": "display_data"
    },
    {
     "name": "stdout",
     "output_type": "stream",
     "text": [
      "\n",
      "Host 0 output:\n",
      "[ 5 14 50 87]\n",
      "\n",
      "Host 1 output:\n",
      "[15 50 81 79]\n",
      "\n",
      "Host 2 output:\n",
      "[48 36 97 66]\n"
     ]
    },
    {
     "data": {
      "text/plain": [
       "'--'"
      ]
     },
     "metadata": {},
     "output_type": "display_data"
    },
    {
     "data": {
      "text/plain": [
       "array([ 5, 14, 50, 87])"
      ]
     },
     "metadata": {},
     "output_type": "display_data"
    }
   ],
   "source": [
    "\n",
    "def my_func(i_graph, i_properties):\n",
    "    \n",
    "   import numpy as np\n",
    "   from katana_enterprise.distributed import single_host\n",
    "\n",
    "\n",
    "   l_return = np.random.randint(1, 101, 4)                #  Generate an array[4] of random numbers\n",
    "   print(l_return)\n",
    "    \n",
    "   return single_host(host=0, result=l_return)\n",
    "\n",
    "\n",
    "\n",
    "my_return = my_graph.run(lambda g: my_func(g, [\"xxx\", \"yyy\"]))\n",
    "   #\n",
    "display(\"--\")\n",
    "display(my_return)\n",
    "\n",
    "\n",
    "#  Sample output,\n",
    "#\n",
    "#     Host 0 output:\n",
    "#     [ 5 14 50 87]\n",
    "#     \n",
    "#     Host 1 output:\n",
    "#     [15 50 81 79]\n",
    "#     \n",
    "#     Host 2 output:\n",
    "#     [48 36 97 66]\n",
    "#     \n",
    "#     '--'\n",
    "#     \n",
    "#     array([ 5, 14, 50, 87])\n"
   ]
  },
  {
   "cell_type": "code",
   "execution_count": null,
   "id": "0e081913-611b-481f-bb32-c171fa87317d",
   "metadata": {},
   "outputs": [],
   "source": []
  },
  {
   "cell_type": "code",
   "execution_count": null,
   "id": "aa8dd0d7-62b4-4847-bf2f-6b81ed69134e",
   "metadata": {},
   "outputs": [],
   "source": []
  },
  {
   "cell_type": "code",
   "execution_count": null,
   "id": "f719c630-3a86-4972-8f07-e27db23fb5f4",
   "metadata": {},
   "outputs": [],
   "source": []
  },
  {
   "cell_type": "code",
   "execution_count": null,
   "id": "c342a07b-f7b5-436a-b8d5-173934a7475b",
   "metadata": {},
   "outputs": [],
   "source": []
  },
  {
   "cell_type": "code",
   "execution_count": null,
   "id": "cf796ba7-b2e8-4310-ab88-c0d5e1e66eac",
   "metadata": {},
   "outputs": [],
   "source": []
  },
  {
   "cell_type": "code",
   "execution_count": null,
   "id": "061a15b9-759e-48ca-936e-51e5279e6457",
   "metadata": {},
   "outputs": [],
   "source": []
  },
  {
   "cell_type": "code",
   "execution_count": null,
   "id": "8843d673-8112-4bfc-b2c0-de33e13db880",
   "metadata": {},
   "outputs": [],
   "source": []
  },
  {
   "cell_type": "code",
   "execution_count": null,
   "id": "5c74b584-e2f6-4262-a42c-4f34be250a69",
   "metadata": {},
   "outputs": [],
   "source": []
  },
  {
   "cell_type": "code",
   "execution_count": null,
   "id": "930391bc-81c8-40b9-afb9-a960169d2a2d",
   "metadata": {},
   "outputs": [],
   "source": []
  },
  {
   "cell_type": "code",
   "execution_count": null,
   "id": "ba708a04-094b-4069-b2eb-98def14eb94c",
   "metadata": {},
   "outputs": [],
   "source": [
    "\n",
    "def my_func_JJJ(i_graph, i_properties):\n",
    "    \n",
    "    \n",
    "   from katana_enterprise.distributed import single_host\n",
    "      #\n",
    "   import numpy  as np\n",
    "   import pandas as pd\n",
    "    \n",
    "\n",
    "   ##################################################################\n",
    "\n",
    "   #  Nested function, load a Python DataFrame from the KG graph\n",
    "    \n",
    "   def l_load_df(i_graph, i_properties):\n",
    "      l_nodes = []\n",
    "    \n",
    "      for l_property in i_properties:\n",
    "         l_node = i_graph.get_node_property(l_property).to_numpy().reshape(-1, 1)\n",
    "         l_nodes.append(l_node)\n",
    "       \n",
    "      l_array     = np.hstack(l_nodes)\n",
    "      l_dataframe = pd.DataFrame(l_array, columns=i_properties)\n",
    "         #\n",
    "    \n",
    "      return l_dataframe\n",
    "    \n",
    "   ##################################################################\n",
    "\n",
    "   #  Nested function, add a new, derived column to the DataFrame\n",
    "    \n",
    "   def l_enrich_df(i_dataframe, i_source_property, i_new_property):\n",
    "    \n",
    "      def l_to_upper(i_str):\n",
    "         if i_str.get(i_source_property) is not None:\n",
    "            return str(i_str[i_source_property]).upper()\n",
    "         else:\n",
    "            return\n",
    "    \n",
    "      i_dataframe[i_new_property] = i_dataframe.apply(l_to_upper, axis=1)\n",
    "    \n",
    "      return\n",
    "\n",
    "   ##################################################################\n",
    "    \n",
    "   def l_save_df(i_graph, i_dataframe):\n",
    "    \n",
    "      # i_graph.upsert_node_property(i_dataframe)\n",
    "\n",
    "    \n",
    "    \n",
    "   ##################################################################\n",
    "    \n",
    "   l_dataframe = l_load_df(i_graph, i_properties)\n",
    "      #\n",
    "   l_enrich_df(l_dataframe, \"fname\", \"fname_upper\")\n",
    "      #\n",
    "   l_save_df(i_graph, l_dataframe)\n",
    "\n",
    "        \n",
    "   return single_host(host=0, result=l_dataframe)\n",
    "\n",
    "\n",
    "l_result = my_graph.run(lambda g: my_func_JJJ(g, [\"id\", \"fname\", \"lname\"]))\n",
    "   #\n",
    "print(l_result)\n",
    "\n"
   ]
  }
 ],
 "metadata": {
  "kernelspec": {
   "display_name": "Python 3 (ipykernel)",
   "language": "python",
   "name": "python3"
  },
  "language_info": {
   "codemirror_mode": {
    "name": "ipython",
    "version": 3
   },
   "file_extension": ".py",
   "mimetype": "text/x-python",
   "name": "python",
   "nbconvert_exporter": "python",
   "pygments_lexer": "ipython3",
   "version": "3.8.13"
  }
 },
 "nbformat": 4,
 "nbformat_minor": 5
}
