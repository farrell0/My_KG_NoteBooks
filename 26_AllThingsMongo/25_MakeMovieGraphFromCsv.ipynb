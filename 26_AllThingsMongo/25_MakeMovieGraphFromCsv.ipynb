{
 "cells": [
  {
   "cell_type": "markdown",
   "id": "717b53d1-8cbe-4a35-8768-7c7a208c2f3c",
   "metadata": {},
   "source": [
    "#  Setup, connectivity .."
   ]
  },
  {
   "cell_type": "code",
   "execution_count": null,
   "id": "bf593b56-5f63-48d5-a435-a9d81280b46a",
   "metadata": {},
   "outputs": [],
   "source": [
    "import os\n",
    "\n",
    "from katana import remote\n",
    "from katana.remote import import_data\n",
    "\n",
    "my_client = remote.Client()\n",
    "\n",
    "print(my_client)\n"
   ]
  },
  {
   "cell_type": "code",
   "execution_count": null,
   "id": "677cc343-73ea-4036-b04e-d244cc991f21",
   "metadata": {},
   "outputs": [],
   "source": [
    "NUM_PARTITIONS  = 3\n",
    "   #\n",
    "DB_NAME         = \"my_db\"\n",
    "GRAPH_NAME      = \"my_graph\"\n",
    "\n",
    "print(\"--\")\n"
   ]
  },
  {
   "cell_type": "markdown",
   "id": "e348633a-e595-44e0-9985-77bf36e85b9d",
   "metadata": {},
   "source": [
    "# Graph maintenance .."
   ]
  },
  {
   "cell_type": "code",
   "execution_count": null,
   "id": "cd720edd-6f47-4a9f-b5b4-6e7990869662",
   "metadata": {},
   "outputs": [],
   "source": [
    "#  DELETE ALL GRAPHS\n",
    "\n",
    "for l_database in my_client.databases():\n",
    "   for l_graph in my_client.get_database(name=l_database.name).graphs_in_database():\n",
    "      l_handle=my_client.get_database(name=l_database.name).get_graph_by_id(id=l_graph.graph_id)\n",
    "      l_handle.delete()\n",
    "\n",
    "for l_graph in my_client.graphs():\n",
    "   print(\"GRAPH ID: \", l_graph.graph_id, \"      GRAPH Version: \", l_graph.version)\n",
    "\n",
    "print(\"--\")"
   ]
  },
  {
   "cell_type": "code",
   "execution_count": null,
   "id": "0c0620a8-cbf2-43da-87a2-3881f4c65500",
   "metadata": {},
   "outputs": [],
   "source": [
    "#  DELETE ALL DATABASES\n",
    "\n",
    "for l_database in my_client.databases():\n",
    "   if (l_database.name != \"default\"):\n",
    "      my_client.get_database(name=l_database.name).delete_database()\n",
    "      print(\"--\")\n",
    "\n",
    "for l_database in my_client.databases():\n",
    "   print(\"DB ID: \", l_database.database_id, \"     DB Name: \", l_database.name)"
   ]
  },
  {
   "cell_type": "code",
   "execution_count": null,
   "id": "3fccefd1-c4f2-4fd4-833c-d3602627b3fa",
   "metadata": {},
   "outputs": [],
   "source": [
    "#  CREATE DATABASE\n",
    "\n",
    "my_database = my_client.create_database(name=DB_NAME)\n",
    "\n",
    "print(my_database.database_id)"
   ]
  },
  {
   "cell_type": "code",
   "execution_count": null,
   "id": "57feb01b-a988-4ffd-a97b-206940fd63b6",
   "metadata": {},
   "outputs": [],
   "source": [
    "#  CREATE A GRAPH\n",
    "\n",
    "my_graph=my_client.get_database(name=DB_NAME).create_graph(name=GRAPH_NAME, num_partitions=NUM_PARTITIONS)\n",
    "\n",
    "print(my_graph)"
   ]
  },
  {
   "cell_type": "code",
   "execution_count": null,
   "id": "37d46899-87b3-4b87-b24e-801e2a89d26d",
   "metadata": {},
   "outputs": [],
   "source": [
    "display(my_graph.num_nodes())\n",
    "display(my_graph.num_edges())"
   ]
  },
  {
   "cell_type": "markdown",
   "id": "6281a7ca-65cf-4295-8e9a-dfda7ec79e59",
   "metadata": {},
   "source": [
    "# Actually doing the import .."
   ]
  },
  {
   "cell_type": "code",
   "execution_count": null,
   "id": "7babef37-61b9-4f75-bcdb-9747495401df",
   "metadata": {},
   "outputs": [],
   "source": [
    "#  COPY FILES UP TO S3 ..\n",
    "#\n",
    "#     https://console.cloud.google.com/storage/browser/farrell-data-bucket\n",
    "#\n",
    "\n",
    "gsutil cp   /opt/kg/cluster_P/workbook/26_AllThingsMongo/08_CsvData/20_movies.txt                          gs://farrell-data-bucket/mdb/20_movies.txt\n",
    "gsutil cp   /opt/kg/cluster_P/workbook/26_AllThingsMongo/08_CsvData/21_users.txt                           gs://farrell-data-bucket/mdb/21_users.txt\n",
    "gsutil cp   /opt/kg/cluster_P/workbook/26_AllThingsMongo/08_CsvData/30_Edge_Commented.txt                  gs://farrell-data-bucket/mdb/30_Edge_Commented.txt\n",
    "\n",
    "gsutil cp   /opt/kg/cluster_P/workbook/26_AllThingsMongo/08_CsvData/10_nodes.txt                           gs://farrell-data-bucket/mdb/10_nodes.txt\n",
    "gsutil cp   /opt/kg/cluster_P/workbook/26_AllThingsMongo/08_CsvData/11_edges.txt                           gs://farrell-data-bucket/mdb/11_edges.txt\n",
    "   "
   ]
  },
  {
   "cell_type": "code",
   "execution_count": null,
   "id": "7fe11941-c10c-48d0-817b-ddb92246ea7f",
   "metadata": {},
   "outputs": [],
   "source": [
    "# ##################################################################"
   ]
  },
  {
   "cell_type": "code",
   "execution_count": null,
   "id": "67f6b7aa-2f28-457f-9226-5ee750b48c5b",
   "metadata": {},
   "outputs": [],
   "source": [
    "#  Import data using CSV ..\n",
    "\n",
    "l_inp=\"gs://farrell-bucket/mongodb/10_nodes.txt\"\n",
    "l_enp=\"gs://farrell-bucket/mongodb/11_edges.txt\"\n",
    "   #\n",
    "l_dir=\"gs://farrell-bucket/mongodb\"\n",
    "\n",
    "\n",
    "import_data.csv(\n",
    "   my_graph,\n",
    "      #\n",
    "   input_node_path     = l_inp,\n",
    "   input_edge_path     = l_enp,\n",
    "   input_dir           = l_dir,\n",
    "      #\n",
    "   data_delimiter      = \",\",\n",
    "   schema_delimiter    = \",\",\n",
    "   files_have_headers  = True,\n",
    "   )\n"
   ]
  },
  {
   "cell_type": "code",
   "execution_count": null,
   "id": "ec5aab94-68c1-4472-8b3d-68cc943e2d13",
   "metadata": {},
   "outputs": [],
   "source": [
    "display(my_graph.num_nodes())\n",
    "display(my_graph.num_edges())"
   ]
  },
  {
   "cell_type": "code",
   "execution_count": null,
   "id": "1b1bf5a0-fe6d-42b6-9ed7-0e880d4adf80",
   "metadata": {},
   "outputs": [],
   "source": [
    "\n",
    "l_result = my_graph.query(\"\"\"\n",
    "\n",
    "   MATCH (n)  - [ r ] ->  (m )\n",
    "   RETURN n, m, r\n",
    "   LIMIT 100\n",
    "   \n",
    "   \"\"\", contextualize=True)\n",
    "\n",
    "l_result.view()\n"
   ]
  },
  {
   "cell_type": "code",
   "execution_count": null,
   "id": "954cd0d9-8a4b-4299-b2f5-ffd19a7f5caf",
   "metadata": {},
   "outputs": [],
   "source": []
  }
 ],
 "metadata": {
  "kernelspec": {
   "display_name": "Python 3 (ipykernel)",
   "language": "python",
   "name": "python3"
  },
  "language_info": {
   "codemirror_mode": {
    "name": "ipython",
    "version": 3
   },
   "file_extension": ".py",
   "mimetype": "text/x-python",
   "name": "python",
   "nbconvert_exporter": "python",
   "pygments_lexer": "ipython3",
   "version": "3.8.13"
  }
 },
 "nbformat": 4,
 "nbformat_minor": 5
}
