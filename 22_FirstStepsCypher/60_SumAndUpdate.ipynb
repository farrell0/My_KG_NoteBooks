{
 "cells": [
  {
   "cell_type": "code",
   "execution_count": 8,
   "id": "f02fcd93-2850-4e4d-b2b6-bfc8e7fbd58b",
   "metadata": {},
   "outputs": [
    {
     "name": "stdout",
     "output_type": "stream",
     "text": [
      "--\n"
     ]
    }
   ],
   "source": [
    "#  Set the display width ..\n",
    "\n",
    "import pandas as pd\n",
    "   #\n",
    "pd.set_option(\"display.width\", 480)\n",
    "\n",
    "\n",
    "print(\"--\")\n"
   ]
  },
  {
   "cell_type": "markdown",
   "id": "d3ebe820-bc6d-4948-b668-8b81cd3cbf29",
   "metadata": {
    "tags": []
   },
   "source": [
    "#  Setup stuff: Connectivity"
   ]
  },
  {
   "cell_type": "code",
   "execution_count": 1,
   "id": "1ea957d6-30c6-427a-ae4e-15ecfba0c4f9",
   "metadata": {},
   "outputs": [
    {
     "name": "stdout",
     "output_type": "stream",
     "text": [
      "<katana_enterprise.remote.sync_wrappers.Client object at 0x7f86705daa00>\n"
     ]
    }
   ],
   "source": [
    "\n",
    "from katana import remote\n",
    "from katana.remote import import_data\n",
    "\n",
    "my_client = remote.Client()\n",
    "\n",
    "print(my_client)\n"
   ]
  },
  {
   "cell_type": "code",
   "execution_count": 4,
   "id": "97571016-7c02-4e90-a75a-136a0dacd35f",
   "metadata": {},
   "outputs": [
    {
     "name": "stdout",
     "output_type": "stream",
     "text": [
      "--\n"
     ]
    }
   ],
   "source": [
    "\n",
    "NUM_PARTITIONS  = 3\n",
    "   #\n",
    "DB_NAME         = \"my_db\"\n",
    "GRAPH_NAME      = \"my_graph\"\n",
    "\n",
    "print(\"--\")\n"
   ]
  },
  {
   "cell_type": "code",
   "execution_count": 14,
   "id": "8ed2d715-aaeb-4381-9216-46fa0dd421b6",
   "metadata": {},
   "outputs": [
    {
     "name": "stdout",
     "output_type": "stream",
     "text": [
      "--\n"
     ]
    }
   ],
   "source": [
    "\n",
    "#  DELETE ALL GRAPHS\n",
    "\n",
    "for l_database in my_client.databases():\n",
    "   for l_graph in my_client.get_database(name=l_database.name).graphs_in_database():\n",
    "      l_handle=my_client.get_database(name=l_database.name).get_graph_by_id(id=l_graph.graph_id)\n",
    "      l_handle.delete()\n",
    "\n",
    "for l_graph in my_client.graphs():\n",
    "   print(\"GRAPH ID: \", l_graph.graph_id, \"      GRAPH Version: \", l_graph.version)\n",
    "\n",
    "print(\"--\")\n"
   ]
  },
  {
   "cell_type": "code",
   "execution_count": null,
   "id": "cf9c16ec-913f-46a8-bccc-76fc92c54866",
   "metadata": {},
   "outputs": [],
   "source": [
    "\n",
    "#  DELETE ALL DATABASES\n",
    "\n",
    "for l_database in my_client.databases():\n",
    "   if (l_database.name != \"default\"):\n",
    "      my_client.get_database(name=l_database.name).delete_database()\n",
    "      print(\"--\")\n",
    "\n",
    "for l_database in my_client.databases():\n",
    "   print(\"DB ID: \", l_database.database_id, \"     DB Name: \", l_database.name)\n"
   ]
  },
  {
   "cell_type": "code",
   "execution_count": null,
   "id": "6e72729c-265b-40e4-a3ee-674b793bed81",
   "metadata": {},
   "outputs": [],
   "source": [
    "\n",
    "#  CREATE DATABASE\n",
    "\n",
    "my_database = my_client.create_database(name=DB_NAME)\n",
    "\n",
    "print(my_database.database_id)\n"
   ]
  },
  {
   "cell_type": "code",
   "execution_count": 15,
   "id": "2fc31da4-44c3-4bd3-b160-b315766dcd88",
   "metadata": {},
   "outputs": [
    {
     "name": "stdout",
     "output_type": "stream",
     "text": [
      "<_Graph my_graph, 7TSG9yitq6MCs9jJUsWrHjd2gaXGQkZk5SCURMrSMP3J, 0>\n"
     ]
    }
   ],
   "source": [
    "\n",
    "#  CREATE GRAPH\n",
    "#\n",
    "my_graph = my_client.get_database(name=DB_NAME).create_graph(name=GRAPH_NAME, num_partitions=NUM_PARTITIONS)\n",
    "\n",
    "print(my_graph)\n"
   ]
  },
  {
   "cell_type": "code",
   "execution_count": 7,
   "id": "c5db6505-7fc8-4779-b194-9ed8945b9a90",
   "metadata": {},
   "outputs": [
    {
     "name": "stdout",
     "output_type": "stream",
     "text": [
      "<_Graph my_graph, Cpq9Y7gjXVBq72aLd1yQCuAvCrjWyGxRQ6dExpKp2eb5, 0>\n"
     ]
    }
   ],
   "source": [
    "\n",
    "#  CONNECT TO GRAPH\n",
    "\n",
    "my_graph, *_ = my_client.get_database(name=DB_NAME).find_graphs_by_name(GRAPH_NAME)\n",
    "\n",
    "print(my_graph)\n"
   ]
  },
  {
   "cell_type": "markdown",
   "id": "61556ce5-9044-42bc-bb13-80b6a514ae27",
   "metadata": {
    "tags": []
   },
   "source": [
    "# Create: Vertices/nodes, edges .."
   ]
  },
  {
   "cell_type": "code",
   "execution_count": 9,
   "id": "8e7ecf31-d69e-4b5a-8a37-0cfb4c32fd33",
   "metadata": {},
   "outputs": [
    {
     "data": {
      "text/html": [
       "<div>\n",
       "<style scoped>\n",
       "    .dataframe tbody tr th:only-of-type {\n",
       "        vertical-align: middle;\n",
       "    }\n",
       "\n",
       "    .dataframe tbody tr th {\n",
       "        vertical-align: top;\n",
       "    }\n",
       "\n",
       "    .dataframe thead th {\n",
       "        text-align: right;\n",
       "    }\n",
       "</style>\n",
       "<table border=\"1\" class=\"dataframe\">\n",
       "  <thead>\n",
       "    <tr style=\"text-align: right;\">\n",
       "      <th></th>\n",
       "      <th>order_num</th>\n",
       "      <th>order_name</th>\n",
       "      <th>total</th>\n",
       "      <th>LABEL</th>\n",
       "    </tr>\n",
       "  </thead>\n",
       "  <tbody>\n",
       "    <tr>\n",
       "      <th>0</th>\n",
       "      <td>101</td>\n",
       "      <td>Rayees Order</td>\n",
       "      <td>0</td>\n",
       "      <td>Order</td>\n",
       "    </tr>\n",
       "    <tr>\n",
       "      <th>1</th>\n",
       "      <td>102</td>\n",
       "      <td>Andrews Order</td>\n",
       "      <td>0</td>\n",
       "      <td>Order</td>\n",
       "    </tr>\n",
       "    <tr>\n",
       "      <th>2</th>\n",
       "      <td>103</td>\n",
       "      <td>Gregs Order</td>\n",
       "      <td>0</td>\n",
       "      <td>Order</td>\n",
       "    </tr>\n",
       "  </tbody>\n",
       "</table>\n",
       "</div>"
      ],
      "text/plain": [
       "   order_num     order_name  total  LABEL\n",
       "0        101   Rayees Order      0  Order\n",
       "1        102  Andrews Order      0  Order\n",
       "2        103    Gregs Order      0  Order"
      ]
     },
     "metadata": {},
     "output_type": "display_data"
    },
    {
     "data": {
      "text/html": [
       "<div>\n",
       "<style scoped>\n",
       "    .dataframe tbody tr th:only-of-type {\n",
       "        vertical-align: middle;\n",
       "    }\n",
       "\n",
       "    .dataframe tbody tr th {\n",
       "        vertical-align: top;\n",
       "    }\n",
       "\n",
       "    .dataframe thead th {\n",
       "        text-align: right;\n",
       "    }\n",
       "</style>\n",
       "<table border=\"1\" class=\"dataframe\">\n",
       "  <thead>\n",
       "    <tr style=\"text-align: right;\">\n",
       "      <th></th>\n",
       "      <th>product_num</th>\n",
       "      <th>product_name</th>\n",
       "      <th>unit_price</th>\n",
       "      <th>LABEL</th>\n",
       "    </tr>\n",
       "  </thead>\n",
       "  <tbody>\n",
       "    <tr>\n",
       "      <th>0</th>\n",
       "      <td>401</td>\n",
       "      <td>Apples</td>\n",
       "      <td>2</td>\n",
       "      <td>Product</td>\n",
       "    </tr>\n",
       "    <tr>\n",
       "      <th>1</th>\n",
       "      <td>402</td>\n",
       "      <td>Carrots</td>\n",
       "      <td>15</td>\n",
       "      <td>Product</td>\n",
       "    </tr>\n",
       "    <tr>\n",
       "      <th>2</th>\n",
       "      <td>403</td>\n",
       "      <td>Pears</td>\n",
       "      <td>7</td>\n",
       "      <td>Product</td>\n",
       "    </tr>\n",
       "  </tbody>\n",
       "</table>\n",
       "</div>"
      ],
      "text/plain": [
       "   product_num product_name  unit_price    LABEL\n",
       "0          401       Apples           2  Product\n",
       "1          402      Carrots          15  Product\n",
       "2          403        Pears           7  Product"
      ]
     },
     "metadata": {},
     "output_type": "display_data"
    }
   ],
   "source": [
    "\n",
    "#  Vertices/Nodes ..\n",
    "\n",
    "df_orders        = pd.DataFrame([\n",
    "       #\n",
    "   [101  , \"Rayees Order\"        ,    0,  \"Order\"     ],\n",
    "   [102  , \"Andrews Order\"       ,    0,  \"Order\"     ],\n",
    "   [103  , \"Gregs Order\"         ,    0,  \"Order\"     ],\n",
    "       #\n",
    "   ], columns = [\"order_num\", \"order_name\", \"total\", \"LABEL\"])\n",
    "      #\n",
    "display(df_orders.head(20))\n",
    "o\n",
    "df_products      = pd.DataFrame([\n",
    "       #\n",
    "   [401  , \"Apples\"              ,   2,  \"Product\"   ],\n",
    "   [402  , \"Carrots\"             ,  15,  \"Product\"   ],\n",
    "   [403  , \"Pears\"               ,   7,  \"Product\"   ],\n",
    "       #\n",
    "   ], columns = [\"product_num\", \"product_name\", \"unit_price\", \"LABEL\"])\n",
    "      #\n",
    "display(df_products.head(20))\n"
   ]
  },
  {
   "cell_type": "code",
   "execution_count": 10,
   "id": "cf9744e3-20e5-430f-88eb-b77a0c6725d7",
   "metadata": {},
   "outputs": [
    {
     "data": {
      "application/vnd.jupyter.widget-view+json": {
       "model_id": "47856f8494ee4726b223795de990c2be",
       "version_major": 2,
       "version_minor": 0
      },
      "text/plain": [
       "          0/? [?op/s]"
      ]
     },
     "metadata": {},
     "output_type": "display_data"
    },
    {
     "data": {
      "application/vnd.jupyter.widget-view+json": {
       "model_id": "4fdbeb5144034baa8bae517464cb51a1",
       "version_major": 2,
       "version_minor": 0
      },
      "text/plain": [
       "          0/? [?op/s]"
      ]
     },
     "metadata": {},
     "output_type": "display_data"
    },
    {
     "data": {
      "application/vnd.jupyter.widget-view+json": {
       "model_id": "fb0882590b554d3884f5ae56f748f061",
       "version_major": 2,
       "version_minor": 0
      },
      "text/plain": [
       "          0/? [?op/s]"
      ]
     },
     "metadata": {},
     "output_type": "display_data"
    },
    {
     "data": {
      "application/vnd.jupyter.widget-view+json": {
       "model_id": "6eb571a577b64647b8e64ef526f91055",
       "version_major": 2,
       "version_minor": 0
      },
      "text/plain": [
       "          0/? [?op/s]"
      ]
     },
     "metadata": {},
     "output_type": "display_data"
    },
    {
     "data": {
      "application/vnd.jupyter.widget-view+json": {
       "model_id": "21f1d78df2e149228a24aa8185cc8e14",
       "version_major": 2,
       "version_minor": 0
      },
      "text/plain": [
       "          0/? [?op/s]"
      ]
     },
     "metadata": {},
     "output_type": "display_data"
    },
    {
     "data": {
      "application/vnd.jupyter.widget-view+json": {
       "model_id": "8d985c1419a14842b848e14e58f7a264",
       "version_major": 2,
       "version_minor": 0
      },
      "text/plain": [
       "          0/? [?op/s]"
      ]
     },
     "metadata": {},
     "output_type": "display_data"
    },
    {
     "name": "stdout",
     "output_type": "stream",
     "text": [
      "--\n"
     ]
    }
   ],
   "source": [
    "\n",
    "#  Create nodes ..\n",
    "\n",
    "for l_each in df_orders.iterrows():\n",
    "    \n",
    "   l_order_num    = l_each[1][0]\n",
    "   l_order_name   = l_each[1][1]\n",
    "   l_total        = l_each[1][2]\n",
    "   l_label        = l_each[1][3]\n",
    "    \n",
    "   l_query = \"\"\"\n",
    "\n",
    "      CREATE ( n: {3} {{ order_num: {0} }} )                  //  Notice double curly braces\n",
    "      SET n.order_name = '{1}' , n.total = {2}\n",
    "   \n",
    "      \"\"\".format(l_order_num, l_order_name, l_total, l_label)\n",
    "\n",
    "   l_result0 = my_graph.query(l_query)\n",
    "\n",
    "      ###\n",
    "      ###\n",
    "        \n",
    "for l_each in df_products.iterrows():\n",
    "    \n",
    "   l_product_num  = l_each[1][0]\n",
    "   l_product_name = l_each[1][1]\n",
    "   l_unit_price   = l_each[1][2]\n",
    "   l_label        = l_each[1][3]\n",
    "    \n",
    "   l_query = \"\"\"\n",
    "\n",
    "      CREATE ( n: {3} {{ product_num: {0} }} ) \n",
    "      SET n.product_name = '{1}' , n.unit_price = {2}\n",
    "   \n",
    "      \"\"\".format(l_product_num, l_product_name, l_unit_price, l_label)\n",
    "\n",
    "   l_result0 = my_graph.query(l_query)\n",
    "\n",
    "print(\"--\")\n"
   ]
  },
  {
   "cell_type": "code",
   "execution_count": 11,
   "id": "4850ba7c-2314-44be-972e-51ef90f2cb71",
   "metadata": {},
   "outputs": [
    {
     "data": {
      "application/vnd.jupyter.widget-view+json": {
       "model_id": "07669f4a0d5b40e39aa69828b7e94a2c",
       "version_major": 2,
       "version_minor": 0
      },
      "text/plain": [
       "          0/? [?op/s]"
      ]
     },
     "metadata": {},
     "output_type": "display_data"
    },
    {
     "name": "stdout",
     "output_type": "stream",
     "text": [
      "   n.internal_id   n.labels   n.order_name  n.order_num  n.total n.type n.product_name  n.product_num  n.unit_price\n",
      "0              0    [Order]   Rayees Order        101.0      0.0   node            NaN            NaN           NaN\n",
      "1              1    [Order]  Andrews Order        102.0      0.0   node            NaN            NaN           NaN\n",
      "2              4  [Product]            NaN          NaN      NaN   node        Carrots          402.0          15.0\n",
      "3              5  [Product]            NaN          NaN      NaN   node          Pears          403.0           7.0\n",
      "4              2    [Order]    Gregs Order        103.0      0.0   node            NaN            NaN           NaN\n",
      "5              3  [Product]            NaN          NaN      NaN   node         Apples          401.0           2.0\n"
     ]
    }
   ],
   "source": [
    "\n",
    "#  What's in the vertices/nodes ..\n",
    "\n",
    "l_result = my_graph.query(\"\"\"\n",
    "\n",
    "   MATCH ( n ) \n",
    "   RETURN n\n",
    "   \n",
    "   \"\"\")\n",
    "\n",
    "print(l_result[0:30])\n"
   ]
  },
  {
   "cell_type": "code",
   "execution_count": 12,
   "id": "60eaac88-4dd5-47d3-94b3-0f5fd0b243f2",
   "metadata": {},
   "outputs": [
    {
     "data": {
      "text/html": [
       "<div>\n",
       "<style scoped>\n",
       "    .dataframe tbody tr th:only-of-type {\n",
       "        vertical-align: middle;\n",
       "    }\n",
       "\n",
       "    .dataframe tbody tr th {\n",
       "        vertical-align: top;\n",
       "    }\n",
       "\n",
       "    .dataframe thead th {\n",
       "        text-align: right;\n",
       "    }\n",
       "</style>\n",
       "<table border=\"1\" class=\"dataframe\">\n",
       "  <thead>\n",
       "    <tr style=\"text-align: right;\">\n",
       "      <th></th>\n",
       "      <th>START_ID</th>\n",
       "      <th>END_ID</th>\n",
       "      <th>TYPE</th>\n",
       "    </tr>\n",
       "  </thead>\n",
       "  <tbody>\n",
       "    <tr>\n",
       "      <th>0</th>\n",
       "      <td>101</td>\n",
       "      <td>401</td>\n",
       "      <td>CONTAINS</td>\n",
       "    </tr>\n",
       "    <tr>\n",
       "      <th>1</th>\n",
       "      <td>101</td>\n",
       "      <td>402</td>\n",
       "      <td>CONTAINS</td>\n",
       "    </tr>\n",
       "    <tr>\n",
       "      <th>2</th>\n",
       "      <td>101</td>\n",
       "      <td>403</td>\n",
       "      <td>CONTAINS</td>\n",
       "    </tr>\n",
       "    <tr>\n",
       "      <th>3</th>\n",
       "      <td>102</td>\n",
       "      <td>401</td>\n",
       "      <td>CONTAINS</td>\n",
       "    </tr>\n",
       "    <tr>\n",
       "      <th>4</th>\n",
       "      <td>102</td>\n",
       "      <td>401</td>\n",
       "      <td>CONTAINS</td>\n",
       "    </tr>\n",
       "    <tr>\n",
       "      <th>5</th>\n",
       "      <td>102</td>\n",
       "      <td>403</td>\n",
       "      <td>CONTAINS</td>\n",
       "    </tr>\n",
       "    <tr>\n",
       "      <th>6</th>\n",
       "      <td>103</td>\n",
       "      <td>403</td>\n",
       "      <td>CONTAINS</td>\n",
       "    </tr>\n",
       "    <tr>\n",
       "      <th>7</th>\n",
       "      <td>103</td>\n",
       "      <td>403</td>\n",
       "      <td>CONTAINS</td>\n",
       "    </tr>\n",
       "    <tr>\n",
       "      <th>8</th>\n",
       "      <td>103</td>\n",
       "      <td>403</td>\n",
       "      <td>CONTAINS</td>\n",
       "    </tr>\n",
       "    <tr>\n",
       "      <th>9</th>\n",
       "      <td>103</td>\n",
       "      <td>403</td>\n",
       "      <td>CONTAINS</td>\n",
       "    </tr>\n",
       "  </tbody>\n",
       "</table>\n",
       "</div>"
      ],
      "text/plain": [
       "   START_ID  END_ID      TYPE\n",
       "0       101     401  CONTAINS\n",
       "1       101     402  CONTAINS\n",
       "2       101     403  CONTAINS\n",
       "3       102     401  CONTAINS\n",
       "4       102     401  CONTAINS\n",
       "5       102     403  CONTAINS\n",
       "6       103     403  CONTAINS\n",
       "7       103     403  CONTAINS\n",
       "8       103     403  CONTAINS\n",
       "9       103     403  CONTAINS"
      ]
     },
     "execution_count": 12,
     "metadata": {},
     "output_type": "execute_result"
    }
   ],
   "source": [
    "\n",
    "#  Create the edge ..\n",
    "\n",
    "df_purchased = pd.DataFrame([\n",
    "      #\n",
    "   [ 101, 401 ,\"CONTAINS\"],\n",
    "   [ 101, 402 ,\"CONTAINS\"],\n",
    "   [ 101, 403 ,\"CONTAINS\"],\n",
    "      #\n",
    "   [ 102, 401 ,\"CONTAINS\"],\n",
    "   [ 102, 401 ,\"CONTAINS\"],\n",
    "   [ 102, 403 ,\"CONTAINS\"],\n",
    "      #\n",
    "   [ 103, 403 ,\"CONTAINS\"],\n",
    "   [ 103, 403 ,\"CONTAINS\"],\n",
    "   [ 103, 403 ,\"CONTAINS\"],\n",
    "   [ 103, 403 ,\"CONTAINS\"],\n",
    "      #\n",
    "   ], columns = [\"START_ID\", \"END_ID\", \"TYPE\"])\n",
    "\n",
    "df_purchased.head(30)\n"
   ]
  },
  {
   "cell_type": "code",
   "execution_count": 13,
   "id": "7dc52e1a-e51e-4610-b9aa-8af39689000e",
   "metadata": {},
   "outputs": [
    {
     "data": {
      "application/vnd.jupyter.widget-view+json": {
       "model_id": "d7113f32373e47acb8d312f8464284a3",
       "version_major": 2,
       "version_minor": 0
      },
      "text/plain": [
       "          0/? [?op/s]"
      ]
     },
     "metadata": {},
     "output_type": "display_data"
    },
    {
     "data": {
      "application/vnd.jupyter.widget-view+json": {
       "model_id": "b0aa188730924c24bdfae72741a9602d",
       "version_major": 2,
       "version_minor": 0
      },
      "text/plain": [
       "          0/? [?op/s]"
      ]
     },
     "metadata": {},
     "output_type": "display_data"
    },
    {
     "data": {
      "application/vnd.jupyter.widget-view+json": {
       "model_id": "6bd16d22d94947d2ae0c959886c3fab0",
       "version_major": 2,
       "version_minor": 0
      },
      "text/plain": [
       "          0/? [?op/s]"
      ]
     },
     "metadata": {},
     "output_type": "display_data"
    },
    {
     "data": {
      "application/vnd.jupyter.widget-view+json": {
       "model_id": "ab6bff0574ae457a91c835ee7699bc55",
       "version_major": 2,
       "version_minor": 0
      },
      "text/plain": [
       "          0/? [?op/s]"
      ]
     },
     "metadata": {},
     "output_type": "display_data"
    },
    {
     "data": {
      "application/vnd.jupyter.widget-view+json": {
       "model_id": "54edab91f7534ae88e7b0c7518a56f39",
       "version_major": 2,
       "version_minor": 0
      },
      "text/plain": [
       "          0/? [?op/s]"
      ]
     },
     "metadata": {},
     "output_type": "display_data"
    },
    {
     "data": {
      "application/vnd.jupyter.widget-view+json": {
       "model_id": "eb98c029395040d3af3c9a2d33ed56e4",
       "version_major": 2,
       "version_minor": 0
      },
      "text/plain": [
       "          0/? [?op/s]"
      ]
     },
     "metadata": {},
     "output_type": "display_data"
    },
    {
     "data": {
      "application/vnd.jupyter.widget-view+json": {
       "model_id": "0cecdf8af77b40cf93f8271441e46e45",
       "version_major": 2,
       "version_minor": 0
      },
      "text/plain": [
       "          0/? [?op/s]"
      ]
     },
     "metadata": {},
     "output_type": "display_data"
    },
    {
     "data": {
      "application/vnd.jupyter.widget-view+json": {
       "model_id": "b2f4c488c11f491ab41ae3d4c4d76e34",
       "version_major": 2,
       "version_minor": 0
      },
      "text/plain": [
       "          0/? [?op/s]"
      ]
     },
     "metadata": {},
     "output_type": "display_data"
    },
    {
     "data": {
      "application/vnd.jupyter.widget-view+json": {
       "model_id": "7de8075dddb648ae88be766228b18277",
       "version_major": 2,
       "version_minor": 0
      },
      "text/plain": [
       "          0/? [?op/s]"
      ]
     },
     "metadata": {},
     "output_type": "display_data"
    },
    {
     "data": {
      "application/vnd.jupyter.widget-view+json": {
       "model_id": "6616a43f95d146b6ae133ea044a4ce14",
       "version_major": 2,
       "version_minor": 0
      },
      "text/plain": [
       "          0/? [?op/s]"
      ]
     },
     "metadata": {},
     "output_type": "display_data"
    },
    {
     "name": "stdout",
     "output_type": "stream",
     "text": [
      "--\n"
     ]
    }
   ],
   "source": [
    "\n",
    "for l_each in df_purchased.iterrows():\n",
    "    \n",
    "   l_startid    = l_each[1][0]\n",
    "   l_endid      = l_each[1][1]\n",
    "   l_type       = l_each[1][2]\n",
    "    \n",
    "   l_query = \"\"\"\n",
    "      \n",
    "      MATCH (n: Order  ) WHERE n.order_num   = {0}\n",
    "      MATCH (m: Product) WHERE m.product_num = {1}\n",
    "      CREATE (n) -[r: {2} ]-> (m)\n",
    "      \n",
    "      \"\"\".format(l_startid, l_endid, l_type)\n",
    "    \n",
    "   l_result0 = my_graph.query(l_query)\n",
    "\n",
    "print(\"--\")\n"
   ]
  },
  {
   "cell_type": "code",
   "execution_count": null,
   "id": "6160bd57-15aa-4ff0-9269-9431e6f7dd2b",
   "metadata": {},
   "outputs": [],
   "source": [
    "#  What's in the graph .. \n",
    "\n",
    "l_result = my_graph.query(\"\"\"\n",
    "\n",
    "   MATCH (n) - [ r ] -> (m)\n",
    "   RETURN n, m, r\n",
    "   \n",
    "   \"\"\", contextualize=True)\n",
    "\n",
    "l_result.view()\n"
   ]
  },
  {
   "cell_type": "markdown",
   "id": "67b8ec21-6da9-4eba-86d9-593de9e79690",
   "metadata": {},
   "source": [
    "#  Finally now; Why we're here .."
   ]
  },
  {
   "cell_type": "code",
   "execution_count": null,
   "id": "86c96301-e7d9-4fd8-9a57-737b5c7ea6b3",
   "metadata": {},
   "outputs": [],
   "source": [
    "#  The traversal we are trying to run ..\n",
    "\n",
    "l_result = my_graph.query(\"\"\"\n",
    "\n",
    "   //  Just fetching, works\n",
    "   //\n",
    "   MATCH (n: Order) - [r :CONTAINS ] -> (m: Product)\n",
    "   RETURN n, sum(m.unit_price) AS x_cost\n",
    "   \n",
    "   //  Closest to original question, throws error\n",
    "   //\n",
    "   // MATCH (n: Order) - [r :CONTAINS ] -> (m: Product)\n",
    "   // WITH n, sum(m.unit_price) AS x_cost\n",
    "   // SET Order.total = x_cost\n",
    "   //\n",
    "   //  OperationError: backtrace (QueryClient.cpp:391): unable to translate openCypher parse tree to internal IR (OpGraph.cpp:226):\n",
    "   //  Syntax error: The query cannot be recognized by openCypher. (CypherOpGraphBuilder.cpp:63): TCK = SyntaxError:UnexpectedSyntax\n",
    "   //  Katana = SyntaxError:ParserError: TCK = SyntaxError:UnexpectedSyntax\n",
    "   //  Katana = SyntaxError:ParserError\n",
    "   \n",
    "   //  This also errors ..\n",
    "   //\n",
    "   // MATCH (n: Order) - [r :CONTAINS ] -> (m: Product)\n",
    "   // WITH sum(m.unit_price) AS x_cost\n",
    "   // SET Order.total = x_cost\n",
    "   \n",
    "   \"\"\", contextualize=True)\n",
    "\n",
    "l_result.view()\n",
    "\n",
    "\n",
    "#  Exact, original syntax ..\n",
    "#\n",
    "#  MATCH (loan)-[:hasLoanSnapshot]->(snapshot)\n",
    "#  WITH loan, sum(snapshot.loan_snapshot_flag) as loan_snapshots\n",
    "#  SET loan.loan_flag = loan_snapshots\n",
    "\n"
   ]
  }
 ],
 "metadata": {
  "kernelspec": {
   "display_name": "Python 3 (ipykernel)",
   "language": "python",
   "name": "python3"
  },
  "language_info": {
   "codemirror_mode": {
    "name": "ipython",
    "version": 3
   },
   "file_extension": ".py",
   "mimetype": "text/x-python",
   "name": "python",
   "nbconvert_exporter": "python",
   "pygments_lexer": "ipython3",
   "version": "3.8.13"
  }
 },
 "nbformat": 4,
 "nbformat_minor": 5
}
