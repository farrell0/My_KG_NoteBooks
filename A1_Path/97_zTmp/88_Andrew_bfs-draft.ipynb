{
 "cells": [
  {
   "cell_type": "code",
   "execution_count": 1,
   "id": "a4f77a9f-1e68-49ad-b967-b8e7e2fc3c86",
   "metadata": {},
   "outputs": [
    {
     "name": "stderr",
     "output_type": "stream",
     "text": [
      "UserWarning: \n",
      "                Environment variable MODIN_ENGINE is not set to python, if you run into issues please try setting it by doing:\n",
      "                import os\n",
      "                os.environ['MODIN_ENGINE']='python'\n",
      "                \n"
     ]
    }
   ],
   "source": [
    "from katana import distributed, do_all, do_all_operator, remote\n",
    "from katana.distributed import (\n",
    "    DataCommMode,\n",
    "    GluonSubstrate,\n",
    "    Graph,\n",
    "    ReadLocation,\n",
    "    Reducer,\n",
    "    WorkDetection,\n",
    "    WriteLocation,\n",
    "    native\n",
    ")\n",
    "from katana.local import DynamicBitset\n",
    "from katana.timer import StatTimer\n",
    "import katana.remote"
   ]
  },
  {
   "cell_type": "code",
   "execution_count": 2,
   "id": "80c7cfdf-3328-48c7-980c-f6d42f2dc952",
   "metadata": {},
   "outputs": [],
   "source": [
    "client = remote.Client()"
   ]
  },
  {
   "cell_type": "code",
   "execution_count": 3,
   "id": "f918bcdf-2fb5-4fe6-9e13-fef282758411",
   "metadata": {},
   "outputs": [
    {
     "data": {
      "application/vnd.jupyter.widget-view+json": {
       "model_id": "a59c0edc712344d6b3c45981e6f93fc8",
       "version_major": 2,
       "version_minor": 0
      },
      "text/plain": [
       "          0/? [?op/s]"
      ]
     },
     "metadata": {},
     "output_type": "display_data"
    }
   ],
   "source": [
    "from katana.remote import import_data\n",
    "\n",
    "ldbc_graph = client.create_graph()\n",
    "import_data.rdg(ldbc_graph, \"gs://katana-demo-datasets/rdg-datasets/v6/ldbc_003_\")\n",
    "graph = ldbc_graph.project(edge_types=[\"KNOWS\"])"
   ]
  },
  {
   "cell_type": "code",
   "execution_count": 4,
   "id": "8f77b30b-b05b-42db-9953-c58d4fb29630",
   "metadata": {},
   "outputs": [
    {
     "name": "stdout",
     "output_type": "stream",
     "text": [
      "graph id:  Fequ4eKQkwTAFiUVqek98nSH1qJfsviaUze3pqgx3DLE\n",
      "database id:  DFVU4QakNqpvxLmfvQj4faJuB6EasnAaCihuWCVKzgjd\n"
     ]
    }
   ],
   "source": [
    "print(\"graph id: \", graph.graph_id)\n",
    "print(\"database id: \", graph.database_id)"
   ]
  },
  {
   "cell_type": "code",
   "execution_count": 5,
   "id": "254d7c25-d9d6-45ee-b145-317349bcc6ca",
   "metadata": {},
   "outputs": [],
   "source": [
    "import numpy as np\n",
    "\n",
    "INFINITY = np.iinfo(np.uint32).max\n",
    "\n",
    "@do_all_operator()\n",
    "def bfs_operator(graph, distance: np.ndarray, distance_bitset: DynamicBitset, working: WorkDetection, node_id: int):\n",
    "    current_distance = distance[node_id]\n",
    "    if current_distance < INFINITY:\n",
    "        for edge_id in graph.out_edge_ids(node_id):\n",
    "            dst = graph.out_edge_dst(edge_id)\n",
    "            old = distance[dst]\n",
    "            distance[dst] = min(old, distance[node_id] + 1)\n",
    "            if distance[dst] < old:\n",
    "                working.signal_worked()\n",
    "                distance_bitset[dst] = True\n",
    "\n",
    "@katana.remote.remote\n",
    "def bfs(graph, source: int, output_property_name: str):\n",
    "    timer = StatTimer()\n",
    "    with timer:\n",
    "        gluon = GluonSubstrate(graph, partition_agnostic=False, enforced_data_mode=DataCommMode.NoData)\n",
    "\n",
    "        distance = np.empty((len(graph.node_ids()),), dtype=np.uint32)\n",
    "        # Set the initial distances to our \"infinite\" value\n",
    "        distance[:] = INFINITY\n",
    "        # set the distance of the source node to 0 (if this worker has the source\n",
    "        # node in its partition).\n",
    "        if graph.user_to_local_id(source) is not None:\n",
    "            distance[graph.user_to_local_id(source)] = 0\n",
    "\n",
    "        distance_bitset = DynamicBitset(len(distance))\n",
    "\n",
    "        working = WorkDetection(asynchronous=False)\n",
    "        working.signal_worked()\n",
    "\n",
    "        while working:\n",
    "            working.reset()\n",
    "            do_all(range(len(graph.node_ids())), bfs_operator(graph, distance, distance_bitset, working))\n",
    "\n",
    "            gluon.sync(\n",
    "                False,\n",
    "                Reducer(distance, native.min),\n",
    "                distance_bitset,\n",
    "                ReadLocation.Destination,\n",
    "                WriteLocation.Source,\n",
    "            )\n",
    "\n",
    "        graph.add_node_property({output_property_name: distance})\n",
    "\n",
    "    graph.write()\n",
    "\n",
    "    return timer.get()"
   ]
  },
  {
   "cell_type": "code",
   "execution_count": 6,
   "id": "d6baa098-1615-4bca-add2-8b5d6da92af4",
   "metadata": {},
   "outputs": [
    {
     "data": {
      "application/vnd.jupyter.widget-view+json": {
       "model_id": "a24fa04b1ed347739f555fd25534be82",
       "version_major": 2,
       "version_minor": 0
      },
      "text/plain": [
       "          0/? [?op/s]"
      ]
     },
     "metadata": {},
     "output_type": "display_data"
    },
    {
     "name": "stdout",
     "output_type": "stream",
     "text": [
      "Algorithm time: 857.073\n"
     ]
    }
   ],
   "source": [
    "time = bfs(graph, 1, \"bfs\")\n",
    "print(\"Algorithm time:\", time)"
   ]
  },
  {
   "cell_type": "code",
   "execution_count": 7,
   "id": "3cdceada-71c9-4f1e-bf5d-abb2c806de7a",
   "metadata": {},
   "outputs": [
    {
     "data": {
      "application/vnd.jupyter.widget-view+json": {
       "model_id": "9b4b8b661aa14835a4899987020fbd27",
       "version_major": 2,
       "version_minor": 0
      },
      "text/plain": [
       "          0/? [?op/s]"
      ]
     },
     "metadata": {},
     "output_type": "display_data"
    },
    {
     "name": "stderr",
     "output_type": "stream",
     "text": [
      "UserWarning: Dask execution environment not yet initialized. Initializing...\n",
      "To remove this warning, run the following python code before doing dataframe operations:\n",
      "\n",
      "    from distributed import Client\n",
      "\n",
      "    client = Client()\n",
      "\n",
      "2022-05-17 17:51:03,334 - distributed.diskutils - INFO - Found stale lock file and directory '/home/andrew/katana-enterprise/python/test/notebooks/docs/user-guides/apps/dask-worker-space/worker-hy365nq9', purging\n",
      "2022-05-17 17:51:03,334 - distributed.diskutils - INFO - Found stale lock file and directory '/home/andrew/katana-enterprise/python/test/notebooks/docs/user-guides/apps/dask-worker-space/worker-5p278l2x', purging\n",
      "2022-05-17 17:51:03,335 - distributed.diskutils - INFO - Found stale lock file and directory '/home/andrew/katana-enterprise/python/test/notebooks/docs/user-guides/apps/dask-worker-space/worker-947lmw2x', purging\n",
      "2022-05-17 17:51:03,335 - distributed.diskutils - INFO - Found stale lock file and directory '/home/andrew/katana-enterprise/python/test/notebooks/docs/user-guides/apps/dask-worker-space/worker-ntl28n5n', purging\n",
      "2022-05-17 17:51:03,335 - distributed.diskutils - INFO - Found stale lock file and directory '/home/andrew/katana-enterprise/python/test/notebooks/docs/user-guides/apps/dask-worker-space/worker-lfkjllm8', purging\n"
     ]
    },
    {
     "data": {
      "text/html": [
       "<div>\n",
       "<style scoped>\n",
       "    .dataframe tbody tr th:only-of-type {\n",
       "        vertical-align: middle;\n",
       "    }\n",
       "\n",
       "    .dataframe tbody tr th {\n",
       "        vertical-align: top;\n",
       "    }\n",
       "\n",
       "    .dataframe thead th {\n",
       "        text-align: right;\n",
       "    }\n",
       "</style>\n",
       "<table border=\"1\" class=\"dataframe\">\n",
       "  <thead>\n",
       "    <tr style=\"text-align: right;\">\n",
       "      <th></th>\n",
       "    </tr>\n",
       "  </thead>\n",
       "  <tbody>\n",
       "  </tbody>\n",
       "</table>\n",
       "</div>"
      ],
      "text/plain": [
       "Empty DataFrame\n",
       "Columns: []\n",
       "Index: []"
      ]
     },
     "execution_count": 7,
     "metadata": {},
     "output_type": "execute_result"
    }
   ],
   "source": [
    "result = ldbc_graph.query(\"MATCH (a:Person) WHERE a.bfs < 100 RETURN * ORDER BY a.bfs limit 100\", contextualize=True)\n",
    "result.head()"
   ]
  },
  {
   "cell_type": "code",
   "execution_count": 8,
   "id": "dca64cca-da9a-4995-bdb5-74f2043976f0",
   "metadata": {},
   "outputs": [
    {
     "data": {
      "application/vnd.jupyter.widget-view+json": {
       "model_id": "e23fb073d3744cc68389af2872217e82",
       "version_major": 2,
       "version_minor": 0
      },
      "text/plain": [
       "VBox(children=(HTML(value='\\n                <style>\\n                #jp-main-content-panel .widget-container…"
      ]
     },
     "metadata": {},
     "output_type": "display_data"
    }
   ],
   "source": [
    "result.view()"
   ]
  },
  {
   "cell_type": "code",
   "execution_count": 9,
   "id": "87f21e78-fbbf-4bcf-ae0a-51a3bad86c6c",
   "metadata": {},
   "outputs": [
    {
     "data": {
      "application/vnd.jupyter.widget-view+json": {
       "model_id": "35d7e1bddaae42f484ea7d6135a684c0",
       "version_major": 2,
       "version_minor": 0
      },
      "text/plain": [
       "          0/? [?op/s]"
      ]
     },
     "metadata": {},
     "output_type": "display_data"
    },
    {
     "data": {
      "application/vnd.jupyter.widget-view+json": {
       "model_id": "d05b3abeaee748db85027b51563053f5",
       "version_major": 2,
       "version_minor": 0
      },
      "text/plain": [
       "VBox(children=(HTML(value='\\n                <style>\\n                #jp-main-content-panel .widget-container…"
      ]
     },
     "metadata": {},
     "output_type": "display_data"
    }
   ],
   "source": [
    "ldbc_graph.schema().view()"
   ]
  }
 ],
 "metadata": {
  "kernelspec": {
   "display_name": "Python 3 (ipykernel)",
   "language": "python",
   "name": "python3"
  },
  "language_info": {
   "codemirror_mode": {
    "name": "ipython",
    "version": 3
   },
   "file_extension": ".py",
   "mimetype": "text/x-python",
   "name": "python",
   "nbconvert_exporter": "python",
   "pygments_lexer": "ipython3",
   "version": "3.8.13"
  }
 },
 "nbformat": 4,
 "nbformat_minor": 5
}
