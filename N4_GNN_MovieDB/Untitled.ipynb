{
 "cells": [
  {
   "cell_type": "code",
   "execution_count": 1,
   "id": "a530ad66-6e98-48d6-9488-1a3d993e00bc",
   "metadata": {},
   "outputs": [
    {
     "name": "stdout",
     "output_type": "stream",
     "text": [
      "--\n"
     ]
    }
   ],
   "source": [
    "\n",
    "from katana import remote\n",
    "\n",
    "print(\"--\")\n",
    "\n"
   ]
  },
  {
   "cell_type": "code",
   "execution_count": 4,
   "id": "1f740a47-b0ba-49fd-9108-9ca82578f8f6",
   "metadata": {},
   "outputs": [
    {
     "name": "stdout",
     "output_type": "stream",
     "text": [
      "--\n"
     ]
    }
   ],
   "source": [
    "\n",
    "import os                                                                        \n",
    "import time                                                                      \n",
    "import json\n",
    "import uuid\n",
    "import pandas as pd\n",
    "import numpy\n",
    "import argparse\n",
    "from timeit import default_timer as timer\n",
    "import warnings\n",
    "warnings.filterwarnings('ignore')\n",
    "\n",
    "from google.cloud import bigquery\n",
    "\n",
    "import datetime\n",
    "\n",
    "from katana import remote\n",
    "\n",
    "\n",
    "#  from katana import remote\n",
    "#  # from katana.remote import import_data\n",
    "#  # from katana.remote.import_data import Operation\n",
    "#  \n",
    "#  import dask.dataframe as dd\n",
    "#  \n",
    "#  import yaml\n",
    "\n",
    "print(\"--\")"
   ]
  }
 ],
 "metadata": {
  "kernelspec": {
   "display_name": "Python 3 (ipykernel)",
   "language": "python",
   "name": "python3"
  },
  "language_info": {
   "codemirror_mode": {
    "name": "ipython",
    "version": 3
   },
   "file_extension": ".py",
   "mimetype": "text/x-python",
   "name": "python",
   "nbconvert_exporter": "python",
   "pygments_lexer": "ipython3",
   "version": "3.8.13"
  }
 },
 "nbformat": 4,
 "nbformat_minor": 5
}
