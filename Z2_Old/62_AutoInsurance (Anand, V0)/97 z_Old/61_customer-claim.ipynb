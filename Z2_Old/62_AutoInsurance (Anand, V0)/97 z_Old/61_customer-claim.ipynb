{
 "cells": [
  {
   "cell_type": "markdown",
   "id": "82a70fa3-5204-42bc-b065-4fa077a36576",
   "metadata": {
    "jp-MarkdownHeadingCollapsed": true,
    "tags": []
   },
   "source": [
    "### Setup and import graph"
   ]
  },
  {
   "cell_type": "code",
   "execution_count": null,
   "id": "d15210fc-ab82-4bd9-80f4-2f283d3cfaa4",
   "metadata": {},
   "outputs": [],
   "source": [
    "######## setup variables ##########\n",
    "gs_prefix=\"gs://anand-31-simple-files/customer-claims/customer-360\"\n",
    "#cluster_name=\"katana-internal31\"\n",
    "partitions = 5\n",
    "platform_prefix=gs_prefix"
   ]
  },
  {
   "cell_type": "code",
   "execution_count": null,
   "id": "d54dec81-4ec2-4bbb-af34-294dc7894523",
   "metadata": {},
   "outputs": [],
   "source": [
    "import os                                                                        \n",
    "import time                                                                      \n",
    "import json\n",
    "import pandas as pd\n",
    "from timeit import default_timer as timer\n",
    "from katana.remote import aio, analytics, import_data, trace\n",
    "\n",
    "from katana import remote\n",
    "from katana.remote import import_data\n",
    "\n",
    "from katana.remote.analytics import connected_components, louvain_clustering\n",
    "\n",
    "os.environ[\"KATANA_SERVER_ADDRESS\"] = \"host.docker.internal:8080\"\n",
    "\n",
    "pd.set_option('display.max_columns', None)\n",
    "pd.set_option(\"max_colwidth\", None)"
   ]
  },
  {
   "cell_type": "code",
   "execution_count": null,
   "id": "ae5c18da-bd95-48c6-8705-dff778f73b05",
   "metadata": {},
   "outputs": [],
   "source": [
    "rc=remote.Client()\n",
    "rc.server_version"
   ]
  },
  {
   "cell_type": "code",
   "execution_count": null,
   "id": "f86ca9c2-ccda-4bc8-a593-fa4f5fa7bd23",
   "metadata": {},
   "outputs": [],
   "source": [
    "\n",
    "graph = rc.create_graph(\n",
    "    num_partitions=partitions,\n",
    "    name=\"customer-claims\"\n",
    ")"
   ]
  },
  {
   "cell_type": "code",
   "execution_count": null,
   "id": "327d4ac7-e323-41e0-853a-b0ceecd40146",
   "metadata": {},
   "outputs": [],
   "source": [
    "graph.graph_id"
   ]
  },
  {
   "cell_type": "code",
   "execution_count": null,
   "id": "b3fd0ff0-9855-42fe-8792-a1f1c198e648",
   "metadata": {},
   "outputs": [],
   "source": [
    "test_node_file = platform_prefix + \"/42_NodeHeader.txt\"\n",
    "test_edge_file = platform_prefix + \"/43_EdgeHeader.txt\"\n",
    "input_path=platform_prefix \n"
   ]
  },
  {
   "cell_type": "code",
   "execution_count": null,
   "id": "1a80917a-8a9c-49ab-a2b8-cfe67210f9c9",
   "metadata": {},
   "outputs": [],
   "source": [
    "start = timer()\n",
    "print(\"Importing graph from CSV files...\")\n",
    "import_data.csv(\n",
    "    graph,\n",
    "    input_node_path=test_node_file,\n",
    "    input_edge_path=test_edge_file,\n",
    "    input_dir=input_path,\n",
    "#    have_headers=True,\n",
    "    data_delimiter=\"|\",\n",
    "    schema_delimiter=\"|\"\n",
    "    #partition_policy=\"random-oec\"\n",
    ")\n",
    "end = timer()\n",
    "print(f\"  import: {end - start:.1f} seconds\") "
   ]
  },
  {
   "cell_type": "code",
   "execution_count": null,
   "id": "9d3fbc22-8652-4191-b175-7ecfe4feba95",
   "metadata": {},
   "outputs": [],
   "source": [
    "%%time\n",
    "graph.num_nodes()"
   ]
  },
  {
   "cell_type": "code",
   "execution_count": null,
   "id": "bff7cad8-a8c1-41ae-a9cd-08cfa445a109",
   "metadata": {},
   "outputs": [],
   "source": [
    "graph.num_edges()"
   ]
  },
  {
   "cell_type": "markdown",
   "id": "5284802c-a983-494f-87cd-bd26f662b004",
   "metadata": {
    "jp-MarkdownHeadingCollapsed": true,
    "tags": []
   },
   "source": [
    "### Open graph"
   ]
  },
  {
   "cell_type": "code",
   "execution_count": null,
   "id": "871fe18e-74de-465f-8f64-6da0b1cc7389",
   "metadata": {},
   "outputs": [],
   "source": [
    "import os\n",
    "\n",
    "from katana import remote\n",
    "\n",
    "os.environ[\"KATANA_SERVER_ADDRESS\"] = \"localhost:8080\"\n",
    "\n",
    "my_client = remote.Client()\n",
    "\n",
    "print(my_client)"
   ]
  },
  {
   "cell_type": "code",
   "execution_count": null,
   "id": "a3b960da-4459-4c3f-82c6-2de40f5f37a8",
   "metadata": {},
   "outputs": [],
   "source": [
    "DB_NAME    = \"my_db\"\n",
    "GRAPH_NAME = \"my_graph\"\n",
    "\n",
    "print(\"--\")"
   ]
  },
  {
   "cell_type": "code",
   "execution_count": null,
   "id": "402511af-264f-49bf-a11b-9b2a5fc2985f",
   "metadata": {},
   "outputs": [],
   "source": [
    "#  CONNECT TO GRAPH\n",
    "\n",
    "for l_graph in my_client.get_database(name=DB_NAME).graphs_in_database():\n",
    "   if (l_graph.name == GRAPH_NAME):\n",
    "      # my_graph=my_client.get_database(name=DB_NAME).get_graph_by_id(id=l_graph.graph_id)\n",
    "      graph = my_client.get_database(name=DB_NAME).get_graph_by_id(id=l_graph.graph_id)\n",
    "        #\n",
    "      break\n",
    "\n",
    "# my_graph, *_ = my_client.get_database(name=DB_NAME).find_graphs_by_name(GRAPH_NAME)\n",
    "\n",
    "# print(my_graph)\n",
    "print(graph)"
   ]
  },
  {
   "cell_type": "markdown",
   "id": "c7bf652b-4c44-43cd-ade4-77aa161f07e9",
   "metadata": {
    "tags": []
   },
   "source": [
    "### Investigate the neighbourhood of an Claimant with high payouts"
   ]
  },
  {
   "cell_type": "code",
   "execution_count": null,
   "id": "4350493e-d0e4-48f5-8af1-2bfbf66ae0cf",
   "metadata": {},
   "outputs": [],
   "source": [
    "\n",
    "query1=\"\"\"\n",
    "        MATCH (p:claimant)   \n",
    "        \n",
    "        RETURN p\n",
    "      \n",
    "        \"\"\"\n",
    "\n",
    "result = graph.query(query1, contextualize=True)\n",
    "\n",
    "result.view()\n",
    "\n",
    "\n",
    "\n",
    "\n"
   ]
  },
  {
   "cell_type": "code",
   "execution_count": null,
   "id": "07f4fe51-78fe-46f8-b263-5a367e87f333",
   "metadata": {},
   "outputs": [],
   "source": [
    "%%time\n",
    "#High number of payouts\n",
    "query1=\"\"\"\n",
    "        MATCH (p:claimant)-[]-(py:payment)\n",
    "        RETURN count(py) as count, p.id order by count desc\n",
    "        \"\"\"\n",
    "result = graph.query(query1, contextualize=True)\n",
    "result.view()"
   ]
  },
  {
   "cell_type": "markdown",
   "id": "8a64359b-c0f8-4375-9574-da4eaefeae37",
   "metadata": {},
   "source": [
    "<b> Let's have a look at the claimant neighborhood </b>"
   ]
  },
  {
   "cell_type": "code",
   "execution_count": null,
   "id": "3d04d47b-147e-4282-8623-134bd90780fb",
   "metadata": {},
   "outputs": [],
   "source": [
    "%%time\n",
    "#Payments\n",
    "query1=\"\"\"\n",
    "        MATCH (p:claimant)<-[]-(py:payment)\n",
    "        where p.id = 'C_8900'\n",
    "        RETURN p, py\n",
    "        \"\"\"\n",
    "result = graph.query(query1, contextualize=True)\n",
    "result.view()"
   ]
  },
  {
   "cell_type": "code",
   "execution_count": null,
   "id": "7363d427-d064-4b28-a00d-f1c0e02772dd",
   "metadata": {},
   "outputs": [],
   "source": [
    "%%time\n",
    "#check Folks involved in common claim\n",
    "query1=\"\"\"\n",
    "        MATCH (p:claimant)-[:MADE]->(c:claim)<-[:MADE]-(p2)\n",
    "        where p.id = 'C_8900'\n",
    "        RETURN p, c, p2\n",
    "        \"\"\"\n",
    "result = graph.query(query1, contextualize=True)\n",
    "result.view()"
   ]
  },
  {
   "cell_type": "markdown",
   "id": "4041e7db-2309-4ab9-ad86-90ba5db07686",
   "metadata": {
    "tags": []
   },
   "source": [
    "### Enriching the Topology: Duplicate Detection and Linking\n",
    "We will pick claimants connected to C_8900 via common claims and look for duplicates"
   ]
  },
  {
   "cell_type": "code",
   "execution_count": null,
   "id": "f7792376-77f8-44ef-906d-7b97dc00c695",
   "metadata": {},
   "outputs": [],
   "source": [
    "%%time\n",
    "query1=\"\"\"\n",
    "        MATCH (p:claimant)-[]-(c:claim)<-[]-(p2:claimant)\n",
    "        where p.id = 'C_8900'\n",
    "        RETURN distinct(p2) order by p2.firstname\n",
    "        \"\"\"\n",
    "result = graph.query(query1)\n",
    "result.view()"
   ]
  },
  {
   "cell_type": "code",
   "execution_count": null,
   "id": "71ad4c64-be69-4cac-91dc-baf512e20974",
   "metadata": {},
   "outputs": [],
   "source": [
    "candidates = []\n",
    "for e in result.iterrows():\n",
    "    candidate = dict()\n",
    "    candidate['firstname'] = e[1]['p2.firstname']\n",
    "    candidate['lastname'] = e[1]['p2.lastname']\n",
    "    candidate['id'] = e[1]['p2.id']\n",
    "    candidate['address'] = e[1]['p2.address']\n",
    "    candidates.append(candidate)"
   ]
  },
  {
   "cell_type": "code",
   "execution_count": null,
   "id": "271fa677-cfaf-4ee2-9cf1-c41e746dac3c",
   "metadata": {},
   "outputs": [],
   "source": [
    "len(candidates)"
   ]
  },
  {
   "cell_type": "code",
   "execution_count": null,
   "id": "2415a877-dda5-46a5-a013-15a7445b1ad7",
   "metadata": {},
   "outputs": [],
   "source": [
    "import difflib\n",
    "par1 = 'Daniel Williams'\n",
    "par2 = 'Daniel William'\n",
    "score = difflib.SequenceMatcher(None, par1, par2).ratio()\n",
    "score"
   ]
  },
  {
   "cell_type": "code",
   "execution_count": null,
   "id": "9f424b06-2316-4256-8b31-cba6f20bb17e",
   "metadata": {},
   "outputs": [],
   "source": [
    "def write_duplicates(graph, candidates):\n",
    "    import csv\n",
    "    import difflib\n",
    "    print(\"Finding duplicates\")\n",
    "    import socket\n",
    "    print(socket.gethostname())\n",
    "    \n",
    "    pos = int(socket.gethostname().replace('katana-compute-',''))\n",
    "    lastIndex = len(candidates) - 1\n",
    "    print('Last position of candidates to compare', lastIndex)\n",
    "    duplicates=[]\n",
    "    while pos < lastIndex:\n",
    "        nameOfSource = candidates[pos]['firstname'] + candidates[pos]['lastname']\n",
    "        addressOfSource = candidates[pos]['address']\n",
    "        idOfSource = candidates[pos]['id']\n",
    "        looper = 0\n",
    "        while looper < lastIndex:\n",
    "            idOfTarget = candidates[looper]['id']\n",
    "            if idOfSource == idOfTarget:\n",
    "                looper = looper + 1\n",
    "                continue\n",
    "            nameOfTarget = candidates[looper]['firstname'] + candidates[looper]['lastname']\n",
    "            addressOfTarget = candidates[looper]['address']\n",
    "            score = difflib.SequenceMatcher(None, nameOfSource, nameOfTarget).ratio()\n",
    "            score_address = difflib.SequenceMatcher(None, addressOfSource, addressOfTarget).ratio()\n",
    "            if(score > 0.8) and (score_address > 0.8):\n",
    "                print('duplicates', idOfSource, idOfTarget)\n",
    "                print('addressand score', addressOfSource, addressOfTarget, score_address)\n",
    "                duplicate = dict()\n",
    "                duplicate['idOfSource'] = idOfSource\n",
    "                duplicate['idOfTarget'] = idOfTarget\n",
    "                duplicates.append(duplicate)\n",
    "            looper = looper + 1\n",
    "        pos = pos + 5\n",
    "    print('processing complete for node', socket.gethostname())\n",
    "    print('last position compared', pos)\n",
    "    \n",
    "    outFileName = '/tmp/dups-1.csv'\n",
    "    fields = ['idOfSource', 'idOfTarget']\n",
    "    with open(outFileName, 'w') as csvfile:\n",
    "        writer = csv.DictWriter(csvfile, fieldnames=fields, delimiter='|')\n",
    "        writer.writeheader()\n",
    "        if (len(duplicates) > 0): \n",
    "            writer.writerows(duplicates)\n",
    "    print('finished writing duplicates')\n",
    "    \n",
    "#graph.run(lambda g: dist_count(g, 'argument1', 'argument2', 'argument3'))\n",
    "#candidates = ['argument1', 'argument2', 'argument3','argument4', 'argument5']\n",
    "graph.run(lambda g: write_duplicates(g, candidates))\n"
   ]
  },
  {
   "cell_type": "code",
   "execution_count": null,
   "id": "e302566c-e273-4963-b3bf-61459998e25f",
   "metadata": {},
   "outputs": [],
   "source": [
    "duplicates = []\n",
    "duplicates.append(['C_312900','C_84200'])\n",
    "duplicates.append(['C_236100','C_16800'])\n",
    "duplicates.append(['C_106500','C_216400'])\n",
    "len(duplicates)"
   ]
  },
  {
   "cell_type": "code",
   "execution_count": null,
   "id": "e8482442-add6-4989-8a74-a72e131069cb",
   "metadata": {},
   "outputs": [],
   "source": [
    "query1=\"\"\"\n",
    "        MATCH (p1:Claimant),(p2:Claimant),(p3:Claimant),(p4:Claimant),(p5:Claimant),(p6:Claimant)\n",
    "        where p1.id = '_d1_'\n",
    "          and p2.id = '_d2_'\n",
    "          and p3.id = '_d3_'\n",
    "          and p4.id = '_d4_'\n",
    "          and p5.id = '_d5_'\n",
    "          and p6.id = '_d6_'\n",
    "        with p1, p2, p3, p4, p5, p6\n",
    "        create (p1)-[:isDuplicatedBy]->(p2),\n",
    "               (p3)-[:isDuplicatedBy]->(p4),\n",
    "               (p5)-[:isDuplicatedBy]->(p6)\n",
    "        RETURN p1, p2, p3, p4, p5, p6\n",
    "        \"\"\"\n",
    "query1 = query1.replace('_d1_', 'C_312900')\n",
    "query1 = query1.replace('_d2_', 'C_84200')\n",
    "query1 = query1.replace('_d3_', 'C_236100')\n",
    "query1 = query1.replace('_d4_', 'C_16800')\n",
    "query1 = query1.replace('_d5_', 'C_106500')\n",
    "query1 = query1.replace('_d6_', 'C_216400')\n",
    "\n",
    "print(query1)\n",
    "result = graph.query(query1)"
   ]
  },
  {
   "cell_type": "code",
   "execution_count": null,
   "id": "aa648a91-6551-4ddd-b331-1763280af2d7",
   "metadata": {},
   "outputs": [],
   "source": [
    "%%time\n",
    "#check duplicate objects\n",
    "query1=\"\"\"\n",
    "        MATCH (p1:Claimant)-[:isDuplicatedBy]->(p2:Claimant)\n",
    "        RETURN p1, p2\n",
    "        \"\"\"\n",
    "result = graph.query(query1, contextualize=True)\n",
    "result.view()"
   ]
  },
  {
   "cell_type": "markdown",
   "id": "33c1a398-00e1-4d1b-b002-05e603f4494e",
   "metadata": {
    "tags": []
   },
   "source": [
    "## Revisit the neighborhood and check for a fraudulent patterns"
   ]
  },
  {
   "cell_type": "code",
   "execution_count": null,
   "id": "49e1cf0a-9438-466e-ad93-b7e5818f8eec",
   "metadata": {},
   "outputs": [],
   "source": [
    "%%time\n",
    "#check Folks involved in common claim\n",
    "query1=\"\"\"\n",
    "        MATCH (p:Claimant)-[:MADE]->(c:Claim)<-[e:MADE]-(p2)\n",
    "        where p.id = 'C_8900'\n",
    "        with p, c, p2\n",
    "        MATCH (p:Claimant)-[:MADE]->(c:Claim)<-[e1:MADE]-(p2)\n",
    "        where e1.ROLE = 'witness'\n",
    "        RETURN p, c, p2\n",
    "        \"\"\"\n",
    "result = graph.query(query1, contextualize=True)\n",
    "result.view()"
   ]
  },
  {
   "cell_type": "markdown",
   "id": "1eb45f6e-6ce0-488a-bfef-8a567fc7dc8b",
   "metadata": {
    "tags": []
   },
   "source": [
    "## Project the claimant-claimant relationship, and then revisit the neighborhood of C_8900"
   ]
  },
  {
   "cell_type": "code",
   "execution_count": null,
   "id": "d3dee71b-0348-4616-a0d6-ce5cbb894b71",
   "metadata": {},
   "outputs": [],
   "source": [
    "%%time\n",
    "query1=\"\"\"\n",
    "        MATCH (p1:Claimant)-[]-(c:Claim)-[]-(p2:Claimant)\n",
    "        with p2,p1, count(c) as common_claim_count \n",
    "        create (p1)-[:common_claim{count: common_claim_count}]->(p2)\n",
    "        \"\"\"\n",
    "result = graph.query(query1)\n",
    "result.view()"
   ]
  },
  {
   "cell_type": "markdown",
   "id": "2fa89b62-2e51-434b-b9cb-279e3311e06d",
   "metadata": {
    "tags": []
   },
   "source": [
    "## Pagerank on whole graph"
   ]
  },
  {
   "cell_type": "code",
   "execution_count": null,
   "id": "055ac2b4-9388-43c2-9898-973cd87f728c",
   "metadata": {},
   "outputs": [],
   "source": [
    "from katana.remote.analytics import pagerank\n",
    "pagerank(graph, 'pg2')"
   ]
  },
  {
   "cell_type": "code",
   "execution_count": null,
   "id": "67c6e253-95b8-49bc-8e1a-33d49eccbf28",
   "metadata": {},
   "outputs": [],
   "source": [
    "%%time\n",
    "#check top nodes\n",
    "query1=\"\"\"\n",
    "        MATCH (p)\n",
    "        where exists(p.pg2)\n",
    "        RETURN p order by p.pg2 desc  limit 5\n",
    "        \"\"\"\n",
    "result = graph.query(query1)\n",
    "result.view()"
   ]
  },
  {
   "cell_type": "code",
   "execution_count": null,
   "id": "ffc818cd-2441-4a94-bf8e-bb72d6dab39d",
   "metadata": {},
   "outputs": [],
   "source": [
    "%%time\n",
    "#check top nodes\n",
    "query1=\"\"\"\n",
    "        MATCH (att:Attorney)\n",
    "        where att.id = 'X_4853'\n",
    "        RETURN att\n",
    "        \"\"\"\n",
    "result = graph.query(query1)\n",
    "result.view()"
   ]
  },
  {
   "cell_type": "code",
   "execution_count": null,
   "id": "5d2f1076-cff1-42e0-aea9-0b2ba64c5b50",
   "metadata": {},
   "outputs": [],
   "source": [
    "%%time\n",
    "#Get suspicious claims\n",
    "query1=\"\"\"\n",
    "        MATCH (p1:Claimant)-[:isDuplicatedBy]-(p2:Claimant)-[MADE]-(cl:Claim)-[:REPRESENTS]->(att:Attorney)\n",
    "        where att.id = 'X_4853'\n",
    "        RETURN p1,p2,cl,att\n",
    "        \"\"\"\n",
    "result = graph.query(query1, contextualize=True)\n",
    "result.view()"
   ]
  },
  {
   "cell_type": "markdown",
   "id": "09acc4a4-85c5-4d93-b334-c9a17fc3be2a",
   "metadata": {
    "tags": []
   },
   "source": [
    "## Page rank on projected graph"
   ]
  },
  {
   "cell_type": "code",
   "execution_count": null,
   "id": "e3f4d51d-97d7-4301-9f3d-f5116f289e43",
   "metadata": {},
   "outputs": [],
   "source": [
    "gp4 = graph.project(node_types = ['Claimant'], edge_types = ['common_claim', 'isDuplicatedBy'])\n",
    "from katana.remote.analytics import pagerank\n",
    "pagerank(gp4, 'pgp')"
   ]
  },
  {
   "cell_type": "code",
   "execution_count": null,
   "id": "4e81e9af-4901-4744-90df-a5f8eadfab82",
   "metadata": {},
   "outputs": [],
   "source": [
    "%%time\n",
    "#check transaction objects\n",
    "query1=\"\"\"\n",
    "        MATCH (p:Claimant)\n",
    "        where exists(p.pgp)\n",
    "        with p order by p.pgp desc  limit 20\n",
    "        Match(p:Claimant)-[]-(p1:Claimant)-[:isDuplicatedBy]-(p2:Claimant)\n",
    "        with distinct(p)\n",
    "        match (p:Claimant)-[:MADE]->(q:Claim)\n",
    "        return p,q \n",
    "        \"\"\"\n",
    "result = graph.query(query1, contextualize=True)\n",
    "result.view()"
   ]
  },
  {
   "cell_type": "code",
   "execution_count": null,
   "id": "2bfaa70d-b834-4aa4-91db-eb2dc48769d7",
   "metadata": {},
   "outputs": [],
   "source": [
    "%%time\n",
    "#check transaction objects\n",
    "query1=\"\"\"\n",
    "        MATCH (p:Claimant)\n",
    "        where exists(p.pgp)\n",
    "        with p order by p.pgp desc  limit 20\n",
    "        Match(p:Claimant)-[]-(p1:Claimant)-[:isDuplicatedBy]-(p2:Claimant)\n",
    "        with distinct(p)\n",
    "        match (p:Claimant)-[:common_claim]->(q:Claimant)\n",
    "        return p,q \n",
    "        \"\"\"\n",
    "result = graph.query(query1, contextualize=True)\n",
    "result.view()"
   ]
  },
  {
   "cell_type": "markdown",
   "id": "a050b627-7492-428b-922b-f2c1409fb0e1",
   "metadata": {
    "tags": []
   },
   "source": [
    "## Appendix"
   ]
  },
  {
   "cell_type": "code",
   "execution_count": null,
   "id": "9f95dee7-4ef4-4b05-8826-837863c25427",
   "metadata": {},
   "outputs": [],
   "source": [
    "from katana.remote.analytics import connected_components\n",
    "connected_components(graph, 'cc1')"
   ]
  },
  {
   "cell_type": "code",
   "execution_count": null,
   "id": "2c80d06d-40a2-4525-b741-0c017b10c68d",
   "metadata": {},
   "outputs": [],
   "source": [
    "%%time\n",
    "#Get suspicious claims\n",
    "query1=\"\"\"\n",
    "        MATCH (p1:Claimant)\n",
    "        where exists(p1.cc1)\n",
    "        RETURN p1 limit 5\n",
    "        \"\"\"\n",
    "result = graph.query(query1, contextualize=True)\n",
    "result.view()"
   ]
  },
  {
   "cell_type": "code",
   "execution_count": null,
   "id": "139bb34e-b43c-4c58-afcc-0404dc97fdc4",
   "metadata": {},
   "outputs": [],
   "source": [
    "%%time\n",
    "#Get suspicious claims\n",
    "query1=\"\"\"\n",
    "        MATCH (p1:Claimant)\n",
    "        where exists(p1.cc1)\n",
    "        RETURN count(p1) as size, p1.cc1 order by size desc limit 10\n",
    "        \"\"\"\n",
    "result = graph.query(query1, contextualize=True)\n",
    "result.view()"
   ]
  },
  {
   "cell_type": "code",
   "execution_count": null,
   "id": "b8c1969a-e1d0-430a-9cb0-952b1c977368",
   "metadata": {},
   "outputs": [],
   "source": [
    "%%time\n",
    "#Get suspicious claims\n",
    "query1=\"\"\"\n",
    "        MATCH (p1:Claimant)\n",
    "        where p1.cc1 = 169547\n",
    "        RETURN p1\n",
    "        \"\"\"\n",
    "result = graph.query(query1, contextualize=True)\n",
    "result.view()"
   ]
  },
  {
   "cell_type": "code",
   "execution_count": null,
   "id": "2de1f483-8d53-484f-ac30-dc648d49db1c",
   "metadata": {},
   "outputs": [],
   "source": [
    "gp3 = graph.project(node_types = ['Claimant'], edge_types = ['common_claim', 'isDuplicatedBy'])"
   ]
  },
  {
   "cell_type": "code",
   "execution_count": null,
   "id": "fe22db46-1b19-4a77-9094-c888ad6b6374",
   "metadata": {},
   "outputs": [],
   "source": [
    "connected_components(gp3, 'cc3')"
   ]
  },
  {
   "cell_type": "code",
   "execution_count": null,
   "id": "bc46479b-b8b3-4abc-a544-f5f46c878f85",
   "metadata": {},
   "outputs": [],
   "source": [
    "%%time\n",
    "#Get suspicious claims\n",
    "query1=\"\"\"\n",
    "        MATCH (p1:Claimant)\n",
    "        where exists(p1.cc3)\n",
    "        RETURN tointeger(count(p1)) as size, tointeger(p1.cc3) order by size desc limit 10\n",
    "        \"\"\"\n",
    "result = graph.query(query1, contextualize=True)\n",
    "result.view()"
   ]
  },
  {
   "cell_type": "code",
   "execution_count": null,
   "id": "7d60b28b-0d0f-45a6-937d-acc29d0b79b2",
   "metadata": {},
   "outputs": [],
   "source": [
    "%%time\n",
    "#Get suspicious claims\n",
    "query1=\"\"\"\n",
    "        MATCH (p1:Claimant)\n",
    "        where p1.cc2 = 152801\n",
    "        RETURN p1\n",
    "        \"\"\"\n",
    "result = graph.query(query1, contextualize=True)\n",
    "result.view()"
   ]
  },
  {
   "cell_type": "code",
   "execution_count": null,
   "id": "f506a6d5-340a-4a80-adae-e67e4f6364ab",
   "metadata": {},
   "outputs": [],
   "source": [
    "gp4 = graph.project(node_types = ['Claimant'], edge_types = ['common_claim', 'isDuplicatedBy'])\n",
    "from katana.remote.analytics import pagerank\n",
    "pagerank(gp4, 'pg2')"
   ]
  },
  {
   "cell_type": "code",
   "execution_count": null,
   "id": "b73967e9-1e45-4c10-8879-2bc68644bbc1",
   "metadata": {},
   "outputs": [],
   "source": [
    "%%time\n",
    "#check transaction objects\n",
    "query1=\"\"\"\n",
    "        MATCH (p:Claimant)\n",
    "        where exists(p.pg2)\n",
    "        with p order by p.pg2 desc  limit 12\n",
    "        Match(p:Claimant)-[]-(p1:Claimant)-[:isDuplicatedBy]-(p2:Claimant)\n",
    "        with distinct(p)\n",
    "        match (p:Claimant)-[:common_claim]->(q:Claimant)\n",
    "        return p, q\n",
    "        \"\"\"\n",
    "result = graph.query(query1, contextualize=True)\n",
    "result.view()"
   ]
  },
  {
   "cell_type": "code",
   "execution_count": null,
   "id": "0a5136f6-d3de-438f-80f3-5df87f81c479",
   "metadata": {},
   "outputs": [],
   "source": []
  },
  {
   "cell_type": "markdown",
   "id": "56f19954-7a8d-45ca-baee-2c13ce650b25",
   "metadata": {},
   "source": [
    "### Louvain"
   ]
  },
  {
   "cell_type": "code",
   "execution_count": null,
   "id": "2b3502e7-fa40-4658-95dd-fd12b535fbfe",
   "metadata": {},
   "outputs": [],
   "source": []
  },
  {
   "cell_type": "code",
   "execution_count": null,
   "id": "6f13355b-14ce-466d-bf1a-83a25d52cba1",
   "metadata": {},
   "outputs": [],
   "source": [
    "gp2 = graph.project(node_types = ['Claimant'], edge_types = ['common_claim', 'isDuplicatedBy'])"
   ]
  },
  {
   "cell_type": "code",
   "execution_count": null,
   "id": "3739d355-f948-4da1-b94e-124b558c374e",
   "metadata": {},
   "outputs": [],
   "source": [
    "%%time\n",
    "#check transaction objects\n",
    "query1=\"\"\"\n",
    "        MATCH (p:Claimant)\n",
    "        where p.id = 'C_8900'\n",
    "        RETURN p\n",
    "        \"\"\"\n",
    "result = gp2.query(query1, contextualize=True)\n",
    "result.view()"
   ]
  },
  {
   "cell_type": "code",
   "execution_count": null,
   "id": "3952b3e8-30ee-42c7-88f7-e1d27b611e09",
   "metadata": {},
   "outputs": [],
   "source": [
    "louvain_clustering(gp2,'lv3',  is_symmetric=True)"
   ]
  },
  {
   "cell_type": "code",
   "execution_count": null,
   "id": "9eb73b9d-f5b4-4055-aaed-5571a453754e",
   "metadata": {},
   "outputs": [],
   "source": [
    "from katana.remote.analytics import connected_components\n",
    "connected_components(gp, 'cc2')"
   ]
  },
  {
   "cell_type": "code",
   "execution_count": null,
   "id": "8a22495f-8380-4cdf-aadc-dfd7fe66e524",
   "metadata": {},
   "outputs": [],
   "source": [
    "%%time\n",
    "#check transaction objects\n",
    "query1=\"\"\"\n",
    "        MATCH (p:Claimant)\n",
    "        where p.id = 'C_8900'\n",
    "        RETURN p\n",
    "        \"\"\"\n",
    "result = graph.query(query1)\n",
    "result.view()"
   ]
  },
  {
   "cell_type": "code",
   "execution_count": null,
   "id": "684a3981-ce33-4acd-812a-9e66f7be635d",
   "metadata": {},
   "outputs": [],
   "source": [
    "%%time\n",
    "#check transaction objects\n",
    "query1=\"\"\"\n",
    "        MATCH (p1)-[]-(p2)\n",
    "        where tointeger(p1.cc2) = 0\n",
    "        return p1, p2\n",
    "        \"\"\"\n",
    "result = graph.query(query1, contextualize = True)\n",
    "result.view()"
   ]
  },
  {
   "cell_type": "code",
   "execution_count": null,
   "id": "54f7788e-cd79-43fb-bd32-4944013cdec3",
   "metadata": {},
   "outputs": [],
   "source": [
    "\n",
    "%%time\n",
    "#check transaction objects\n",
    "query1=\"\"\"\n",
    "        CALL graph.schema() return *;\n",
    "        \"\"\"\n",
    "result = graph.query(query1)\n",
    "result.view()"
   ]
  },
  {
   "cell_type": "code",
   "execution_count": null,
   "id": "c5d96b7c-d3f3-4257-b843-6f75b2677659",
   "metadata": {},
   "outputs": [],
   "source": [
    "result.to_csv()"
   ]
  }
 ],
 "metadata": {
  "kernelspec": {
   "display_name": "Python 3 (ipykernel)",
   "language": "python",
   "name": "python3"
  },
  "language_info": {
   "codemirror_mode": {
    "name": "ipython",
    "version": 3
   },
   "file_extension": ".py",
   "mimetype": "text/x-python",
   "name": "python",
   "nbconvert_exporter": "python",
   "pygments_lexer": "ipython3",
   "version": "3.8.13"
  }
 },
 "nbformat": 4,
 "nbformat_minor": 5
}
