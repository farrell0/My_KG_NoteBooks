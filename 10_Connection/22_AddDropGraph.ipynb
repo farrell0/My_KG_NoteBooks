{
 "cells": [
  {
   "cell_type": "code",
   "execution_count": 121,
   "id": "8a38ebd7-d1d9-47a8-955c-a8270b024543",
   "metadata": {},
   "outputs": [
    {
     "data": {
      "text/html": [],
      "text/plain": [
       "<IPython.core.display.HTML object>"
      ]
     },
     "metadata": {},
     "output_type": "display_data"
    },
    {
     "name": "stdout",
     "output_type": "stream",
     "text": [
      "+--------+--------+\n",
      "|   col1 |   col2 |\n",
      "|--------+--------|\n",
      "|     20 |     30 |\n",
      "+--------+--------+\n",
      "--\n"
     ]
    }
   ],
   "source": [
    "\n",
    "#  Setting display options \n",
    "\n",
    "import pandas as pd\n",
    "   #\n",
    "pd.set_option(\"display.width\", 480)\n",
    "\n",
    "#  Sets horizontal scroll for wide outputs\n",
    "#\n",
    "from IPython.display import display, HTML\n",
    "display(HTML(\"\"))\n",
    "\n",
    "from tabulate import tabulate\n",
    "\n",
    "\n",
    "   ###\n",
    "\n",
    "    \n",
    "#  How to use tabulate-\n",
    "#\n",
    "l_result = [{ \"col1\": 20, \"col2\": 30}]\n",
    "   #\n",
    "print(tabulate(l_result, headers='keys', tablefmt='psql'))\n",
    "\n",
    "\n",
    "print(\"--\")\n"
   ]
  },
  {
   "cell_type": "code",
   "execution_count": 122,
   "id": "e87b75ba-c072-4111-8cca-4b4f394a0fce",
   "metadata": {},
   "outputs": [
    {
     "name": "stdout",
     "output_type": "stream",
     "text": [
      "<katana_enterprise.remote.sync_wrappers.Client object at 0x7f3fd63d70d0>\n"
     ]
    }
   ],
   "source": [
    "\n",
    "from katana import remote\n",
    "\n",
    "my_client = remote.Client()\n",
    "\n",
    "print(my_client)\n"
   ]
  },
  {
   "cell_type": "code",
   "execution_count": 59,
   "id": "d3a77f99-f11b-4105-ab43-17ce605b15e8",
   "metadata": {},
   "outputs": [
    {
     "name": "stdout",
     "output_type": "stream",
     "text": [
      "--\n"
     ]
    }
   ],
   "source": [
    "\n",
    "NUM_PARTITIONS  = 3\n",
    "   #\n",
    "DB_NAME         = \"my_db\"\n",
    "GRAPH_NAME      = \"my_graph\"\n",
    "\n",
    "print(\"--\")\n"
   ]
  },
  {
   "cell_type": "code",
   "execution_count": null,
   "id": "73f507b5-9a82-4441-a79f-cc2fc239968a",
   "metadata": {},
   "outputs": [],
   "source": [
    "# ##################################################################"
   ]
  },
  {
   "cell_type": "code",
   "execution_count": null,
   "id": "7f2292b8-7df0-49a0-b3da-523f56cfe4f8",
   "metadata": {},
   "outputs": [],
   "source": [
    "\n",
    "#  DELETE ALL GRAPHS\n",
    "\n",
    "for l_database in my_client.databases():\n",
    "   for l_graph in my_client.get_database(name = l_database.name).graphs_in_database():\n",
    "      l_handle = my_client.get_database(name = l_database.name).get_graph_by_id(id = l_graph.graph_id)\n",
    "      l_handle.delete()\n",
    "\n",
    "for l_graph in my_client.graphs():\n",
    "   print(\"GRAPH ID: \", l_graph.graph_id, \"      GRAPH Version: \", l_graph.version)\n",
    "\n",
    "print(\"--\")\n"
   ]
  },
  {
   "cell_type": "code",
   "execution_count": null,
   "id": "71f69a0e-451b-4679-b49c-5db1208d4c8f",
   "metadata": {},
   "outputs": [],
   "source": [
    "\n",
    "#  DELETE ALL DATABASES\n",
    "\n",
    "for l_database in my_client.databases():\n",
    "   if (l_database.name != \"default\"):\n",
    "      my_client.get_database(name = l_database.name).delete_database()\n",
    "      print(\"--\")\n",
    "\n",
    "for l_database in my_client.databases():\n",
    "   print(\"DB ID: \", l_database.database_id, \"     DB Name: \", l_database.name)\n"
   ]
  },
  {
   "cell_type": "code",
   "execution_count": null,
   "id": "a3b3bc00-fafb-481d-ba5a-8b52ae7d6e79",
   "metadata": {},
   "outputs": [],
   "source": [
    "\n",
    "#  CREATE DATABASE\n",
    "\n",
    "my_database = my_client.create_database(name = DB_NAME)\n",
    "\n",
    "print(my_database.database_id)\n"
   ]
  },
  {
   "cell_type": "code",
   "execution_count": null,
   "id": "b8ba088b-2ec5-4b2a-8171-3c87ddffb47c",
   "metadata": {},
   "outputs": [],
   "source": [
    "\n",
    "#  CREATE GRAPH\n",
    "#\n",
    "my_graph = my_client.get_database(name = DB_NAME).create_graph(name = GRAPH_NAME, num_partitions = NUM_PARTITIONS)\n",
    "\n",
    "print(my_graph)\n"
   ]
  },
  {
   "cell_type": "code",
   "execution_count": null,
   "id": "918521c4-3808-4d15-a09d-8417964f5fb6",
   "metadata": {},
   "outputs": [],
   "source": [
    "# ##################################################################"
   ]
  },
  {
   "cell_type": "code",
   "execution_count": null,
   "id": "9cdf1e09-6999-42e6-afe5-d6a930d1a4dc",
   "metadata": {},
   "outputs": [],
   "source": [
    "\n",
    "display(my_graph.num_nodes())\n",
    "display(my_graph.num_edges())\n"
   ]
  },
  {
   "cell_type": "code",
   "execution_count": null,
   "id": "eff479f3-d0f2-44d2-830b-d6b8aa8d4ee9",
   "metadata": {},
   "outputs": [],
   "source": [
    "\n",
    "l_rows = 10\n",
    "\n",
    "l_query  = \"\"\"\n",
    "   MATCH (n) \n",
    "   RETURN n\n",
    "   LIMIT {0}\n",
    "   \"\"\".format(l_rows)\n",
    "\n",
    "l_result = my_graph.query(l_query)\n",
    "\n",
    "print(l_result)\n"
   ]
  },
  {
   "cell_type": "code",
   "execution_count": null,
   "id": "84866c53-2ca8-4c62-b096-e8eb8adf32cd",
   "metadata": {},
   "outputs": [],
   "source": [
    "# ##################################################################"
   ]
  },
  {
   "cell_type": "code",
   "execution_count": null,
   "id": "c3217f3b-dd84-47a3-ae2a-5033d122604a",
   "metadata": {},
   "outputs": [],
   "source": [
    "\n",
    "#  CONNECT TO GRAPH\n",
    "\n",
    "my_graph, *_ = my_client.get_database(name=DB_NAME).find_graphs_by_name(GRAPH_NAME)\n",
    "\n",
    "print(my_graph)\n"
   ]
  },
  {
   "cell_type": "code",
   "execution_count": null,
   "id": "27515e40-ade5-4f71-90a9-052a4a7553fd",
   "metadata": {},
   "outputs": [],
   "source": [
    "# ##################################################################"
   ]
  },
  {
   "cell_type": "code",
   "execution_count": null,
   "id": "6d151690-69c6-408e-8357-8a69cde16575",
   "metadata": {},
   "outputs": [],
   "source": [
    "\n",
    "#  Also Http;   http://localhost:8080/v2/databases\n",
    "#  Also Http;   http://localhost:8080/v2/graphs\n",
    "\n",
    "#  LIST ALL DATABASES\n",
    "\n",
    "for l_database in my_client.databases():\n",
    "   print(\"DB ID: \", l_database.database_id, \"     DB Name: \", l_database.name)\n"
   ]
  },
  {
   "cell_type": "code",
   "execution_count": null,
   "id": "95d667dc-bd24-4d1c-b002-13243252def1",
   "metadata": {},
   "outputs": [],
   "source": [
    "\n",
    "#  LIST ALL GRAPHS\n",
    "\n",
    "for l_graph in my_client.graphs():\n",
    "   print(\"GRAPH ID: \", l_graph.graph_id, \"     DB GRAPH: \", l_graph.name, \"    GRAPH VERSION: \", l_graph.version)\n",
    "\n",
    "print(\"--\")\n"
   ]
  },
  {
   "cell_type": "code",
   "execution_count": null,
   "id": "df14cd17-57a4-48f1-9a49-ce8509d0b161",
   "metadata": {},
   "outputs": [],
   "source": [
    "# ##################################################################"
   ]
  },
  {
   "cell_type": "code",
   "execution_count": 60,
   "id": "a603b503-0c29-4bb6-87a6-750d9d1eb5ea",
   "metadata": {},
   "outputs": [
    {
     "name": "stdout",
     "output_type": "stream",
     "text": [
      "0.7.0+20230124T103202Z.a5f83c2d6.dev\n"
     ]
    }
   ],
   "source": [
    "\n",
    "print(my_client.server_version)\n"
   ]
  },
  {
   "cell_type": "code",
   "execution_count": null,
   "id": "704da6a4-7729-4a7c-b453-b71148364d3b",
   "metadata": {},
   "outputs": [],
   "source": [
    "\n",
    "my_client.widgets().operations()\n"
   ]
  },
  {
   "cell_type": "code",
   "execution_count": 123,
   "id": "d9f17c3c-3b01-45f9-ac83-0c3aab293695",
   "metadata": {},
   "outputs": [
    {
     "name": "stdout",
     "output_type": "stream",
     "text": [
      "<Operation id=FF1HRCSfGKEFqVdkmUKCZXAaXBRx5e2W2DFWfG18d51B-42ToDwbg6QwbAfHVs None>\n",
      "<Operation id=FF1HRCSfGKEFqVdkmUKCZXAaXBRx5e2W2DFWfG18d51B-4Fqoi4FKN2hKZzmNw None>\n",
      "<Operation id=HtKjDV8AnSC43UA5kYv7Jzn4Y4PGcDU1Frtn1C8cKKEu-4piNDv6bPxNPPgdnq OperationStatus(<OperationStatusKind.COMPLETE: 'Complete'>, '')>\n",
      "<Operation id=HtKjDV8AnSC43UA5kYv7Jzn4Y4PGcDU1Frtn1C8cKKEu-3kEevfTYiHxBcVPHY OperationStatus(<OperationStatusKind.COMPLETE: 'Complete'>, '')>\n",
      "<Operation id=62bYFygxPig4R3v4EGT92HinV2tFv29pFHozZ73VbyeD-4aZxSf7KjdXXFuQaj OperationStatus(<OperationStatusKind.COMPLETE: 'Complete'>, '')>\n",
      "<Operation id=62bYFygxPig4R3v4EGT92HinV2tFv29pFHozZ73VbyeD-ngQwJPbqXcyteHSk OperationStatus(<OperationStatusKind.COMPLETE: 'Complete'>, '')>\n",
      "<Operation id=4ezCrTpi4663xW9Tm5hzMkYGYt7xmNEPa9V9uCt4NCpY-WtxvRqyG5pVxNQpr OperationStatus(<OperationStatusKind.COMPLETE: 'Complete'>, '')>\n",
      "<Operation id=4ezCrTpi4663xW9Tm5hzMkYGYt7xmNEPa9V9uCt4NCpY-2yPAT6EDuydCQPxxP OperationStatus(<OperationStatusKind.COMPLETE: 'Complete'>, '')>\n",
      "<Operation id=8BqSmq5Cz7oPWgeynUxTpUsQ9kLP9zEQCSLB9o9Ekbme-3ipJEaiVv6hjNj4q3 None>\n",
      "<Operation id=8BqSmq5Cz7oPWgeynUxTpUsQ9kLP9zEQCSLB9o9Ekbme-DzwUjK7CYeFfXjWA None>\n",
      "<Operation id=7fTcDoL18n6gkXRPWJtgEtA1LWjQsRjtYKrxosWfMjiM-3SbbWkZ3KZrBt4ct5 OperationStatus(<OperationStatusKind.COMPLETE: 'Complete'>, '')>\n",
      "<Operation id=7fTcDoL18n6gkXRPWJtgEtA1LWjQsRjtYKrxosWfMjiM-2USyMiw8VxjmBtyqn OperationStatus(<OperationStatusKind.COMPLETE: 'Complete'>, '')>\n",
      "<Operation id=A5xyPxby9PZDiQ11oWPg8Ee3aiJc7XoN5fVE6FfTnQhH-qsproniqux8BgmRm OperationStatus(<OperationStatusKind.COMPLETE: 'Complete'>, '')>\n",
      "<Operation id=A5xyPxby9PZDiQ11oWPg8Ee3aiJc7XoN5fVE6FfTnQhH-41517ACBCVQr3RAon OperationStatus(<OperationStatusKind.COMPLETE: 'Complete'>, '')>\n",
      "<Operation id=GkuhkSvcNnAS2T6xM4QycVDCpF3mYyRjVVfa6jW89AP5-3Vr52hn3VeGBMyu6y OperationStatus(<OperationStatusKind.COMPLETE: 'Complete'>, '')>\n",
      "<Operation id=GkuhkSvcNnAS2T6xM4QycVDCpF3mYyRjVVfa6jW89AP5-DBKjraRDWFezwT2p OperationStatus(<OperationStatusKind.COMPLETE: 'Complete'>, '')>\n",
      "<Operation id=7yz9y7CsF5Aa8TLLxHqG4rmJPvC6kKQ4zTikVuWcYZZ3-jCR5r6tKi7WQATxC OperationStatus(<OperationStatusKind.COMPLETE: 'Complete'>, '')>\n",
      "<Operation id=7yz9y7CsF5Aa8TLLxHqG4rmJPvC6kKQ4zTikVuWcYZZ3-3zVJJQwhpR6AGDQ3B OperationStatus(<OperationStatusKind.COMPLETE: 'Complete'>, '')>\n",
      "<Operation id=6nBvH5aXUmuHSeUG1ETyXQGSu4wTvKLU2pCBiddsgn1D-2nQ85Jq1jLE6tuGng OperationStatus(<OperationStatusKind.COMPLETE: 'Complete'>, '')>\n",
      "<Operation id=6nBvH5aXUmuHSeUG1ETyXQGSu4wTvKLU2pCBiddsgn1D-2Lkar5b1YZhxZJvm6 OperationStatus(<OperationStatusKind.COMPLETE: 'Complete'>, '')>\n",
      "<Operation id=GwKmGM23NHM9W1gkMciLvfo7i8LFub13m1KFvaxYW6ZB-4USG9RbpctthFE5jK OperationStatus(<OperationStatusKind.COMPLETE: 'Complete'>, '')>\n",
      "<Operation id=GwKmGM23NHM9W1gkMciLvfo7i8LFub13m1KFvaxYW6ZB-4GRe74aUSZr5rPc1M OperationStatus(<OperationStatusKind.COMPLETE: 'Complete'>, '')>\n",
      "<Operation id=9njd9m9D7TQvMUqXsFcw8sNLntMar5DmDqCssnXcCADo-iJ2xDSfXAdiDegj4 OperationStatus(<OperationStatusKind.COMPLETE: 'Complete'>, '')>\n",
      "<Operation id=9njd9m9D7TQvMUqXsFcw8sNLntMar5DmDqCssnXcCADo-2V2UR7g6nQonrUKDR OperationStatus(<OperationStatusKind.COMPLETE: 'Complete'>, '')>\n",
      "<Operation id=ADGE2Us3GfiJSWWjbmk497do3n78JUy9WJ3UNChJabLB-3bsv4sC3Fu9moWtGP OperationStatus(<OperationStatusKind.COMPLETE: 'Complete'>, '')>\n",
      "<Operation id=ADGE2Us3GfiJSWWjbmk497do3n78JUy9WJ3UNChJabLB-3VMhYSyFBaxnEmpFV OperationStatus(<OperationStatusKind.COMPLETE: 'Complete'>, '')>\n",
      "<Operation id=HbS62fqGxSPi3yoC4X5q5Q3fgyham3MJwaNbLjfH1ojZ-5U2sWt1Nke4hfkSGn None>\n",
      "<Operation id=HbS62fqGxSPi3yoC4X5q5Q3fgyham3MJwaNbLjfH1ojZ-2aL84vEFs1DpHZE5g None>\n",
      "<Operation id=HtKjDV8AnSC43UA5kYv7Jzn4Y4PGcDU1Frtn1C8cKKEu-4piNDv6bPxNPPgdnq OperationStatus(<OperationStatusKind.COMPLETE: 'Complete'>, '')>\n",
      "<Operation id=HtKjDV8AnSC43UA5kYv7Jzn4Y4PGcDU1Frtn1C8cKKEu-3kEevfTYiHxBcVPHY OperationStatus(<OperationStatusKind.COMPLETE: 'Complete'>, '')>\n",
      "<Operation id=62bYFygxPig4R3v4EGT92HinV2tFv29pFHozZ73VbyeD-4aZxSf7KjdXXFuQaj OperationStatus(<OperationStatusKind.COMPLETE: 'Complete'>, '')>\n",
      "<Operation id=62bYFygxPig4R3v4EGT92HinV2tFv29pFHozZ73VbyeD-ngQwJPbqXcyteHSk OperationStatus(<OperationStatusKind.COMPLETE: 'Complete'>, '')>\n",
      "<Operation id=4ezCrTpi4663xW9Tm5hzMkYGYt7xmNEPa9V9uCt4NCpY-WtxvRqyG5pVxNQpr OperationStatus(<OperationStatusKind.COMPLETE: 'Complete'>, '')>\n",
      "<Operation id=4ezCrTpi4663xW9Tm5hzMkYGYt7xmNEPa9V9uCt4NCpY-2yPAT6EDuydCQPxxP OperationStatus(<OperationStatusKind.COMPLETE: 'Complete'>, '')>\n",
      "<Operation id=7fTcDoL18n6gkXRPWJtgEtA1LWjQsRjtYKrxosWfMjiM-3SbbWkZ3KZrBt4ct5 OperationStatus(<OperationStatusKind.COMPLETE: 'Complete'>, '')>\n",
      "<Operation id=7fTcDoL18n6gkXRPWJtgEtA1LWjQsRjtYKrxosWfMjiM-2USyMiw8VxjmBtyqn OperationStatus(<OperationStatusKind.COMPLETE: 'Complete'>, '')>\n",
      "<Operation id=A5xyPxby9PZDiQ11oWPg8Ee3aiJc7XoN5fVE6FfTnQhH-qsproniqux8BgmRm OperationStatus(<OperationStatusKind.COMPLETE: 'Complete'>, '')>\n",
      "<Operation id=A5xyPxby9PZDiQ11oWPg8Ee3aiJc7XoN5fVE6FfTnQhH-41517ACBCVQr3RAon OperationStatus(<OperationStatusKind.COMPLETE: 'Complete'>, '')>\n",
      "<Operation id=GkuhkSvcNnAS2T6xM4QycVDCpF3mYyRjVVfa6jW89AP5-3Vr52hn3VeGBMyu6y OperationStatus(<OperationStatusKind.COMPLETE: 'Complete'>, '')>\n",
      "<Operation id=GkuhkSvcNnAS2T6xM4QycVDCpF3mYyRjVVfa6jW89AP5-DBKjraRDWFezwT2p OperationStatus(<OperationStatusKind.COMPLETE: 'Complete'>, '')>\n",
      "<Operation id=7yz9y7CsF5Aa8TLLxHqG4rmJPvC6kKQ4zTikVuWcYZZ3-jCR5r6tKi7WQATxC OperationStatus(<OperationStatusKind.COMPLETE: 'Complete'>, '')>\n",
      "<Operation id=7yz9y7CsF5Aa8TLLxHqG4rmJPvC6kKQ4zTikVuWcYZZ3-3zVJJQwhpR6AGDQ3B OperationStatus(<OperationStatusKind.COMPLETE: 'Complete'>, '')>\n",
      "<Operation id=6nBvH5aXUmuHSeUG1ETyXQGSu4wTvKLU2pCBiddsgn1D-2nQ85Jq1jLE6tuGng OperationStatus(<OperationStatusKind.COMPLETE: 'Complete'>, '')>\n",
      "<Operation id=6nBvH5aXUmuHSeUG1ETyXQGSu4wTvKLU2pCBiddsgn1D-2Lkar5b1YZhxZJvm6 OperationStatus(<OperationStatusKind.COMPLETE: 'Complete'>, '')>\n",
      "<Operation id=GwKmGM23NHM9W1gkMciLvfo7i8LFub13m1KFvaxYW6ZB-4USG9RbpctthFE5jK OperationStatus(<OperationStatusKind.COMPLETE: 'Complete'>, '')>\n",
      "<Operation id=GwKmGM23NHM9W1gkMciLvfo7i8LFub13m1KFvaxYW6ZB-4GRe74aUSZr5rPc1M OperationStatus(<OperationStatusKind.COMPLETE: 'Complete'>, '')>\n",
      "<Operation id=9njd9m9D7TQvMUqXsFcw8sNLntMar5DmDqCssnXcCADo-iJ2xDSfXAdiDegj4 OperationStatus(<OperationStatusKind.COMPLETE: 'Complete'>, '')>\n",
      "<Operation id=9njd9m9D7TQvMUqXsFcw8sNLntMar5DmDqCssnXcCADo-2V2UR7g6nQonrUKDR OperationStatus(<OperationStatusKind.COMPLETE: 'Complete'>, '')>\n",
      "<Operation id=ADGE2Us3GfiJSWWjbmk497do3n78JUy9WJ3UNChJabLB-3bsv4sC3Fu9moWtGP OperationStatus(<OperationStatusKind.COMPLETE: 'Complete'>, '')>\n",
      "<Operation id=ADGE2Us3GfiJSWWjbmk497do3n78JUy9WJ3UNChJabLB-3VMhYSyFBaxnEmpFV OperationStatus(<OperationStatusKind.COMPLETE: 'Complete'>, '')>\n",
      "<Operation id=9BKBP47WQMZNkWnpimriaURybNpARBPQd9rG145oG6wY-2Hs45x1rBbVkUcEN3 OperationStatus(<OperationStatusKind.COMPLETE: 'Complete'>, '')>\n",
      "<Operation id=FE2sNLhWXVA9wUVEZrrtvg37D7kh3g7hmZUH9dETbSCf-5Lii9oxtPWdN1DTfH OperationStatus(<OperationStatusKind.COMPLETE: 'Complete'>, '')>\n",
      "<Operation id=FE2sNLhWXVA9wUVEZrrtvg37D7kh3g7hmZUH9dETbSCf-4KZqQJEbbuwy1pv9Q OperationStatus(<OperationStatusKind.COMPLETE: 'Complete'>, '')>\n",
      "<Operation id=Hvfa72XDAiH9mXY7zgVjnRHVgqGzuEhSy8msjRn3oeDf-2FjckHrFnmpBaoB1S OperationStatus(<OperationStatusKind.COMPLETE: 'Complete'>, '')>\n",
      "<Operation id=Hvfa72XDAiH9mXY7zgVjnRHVgqGzuEhSy8msjRn3oeDf-2Pc42pG9HwqEZVvu OperationStatus(<OperationStatusKind.COMPLETE: 'Complete'>, '')>\n",
      "<Operation id=Hq3sRnEkVw4kV4gK6Qo11yiffkiZB6KqxUYT8SDYCgDp-5hk8qLFj8DahsvYtp OperationStatus(<OperationStatusKind.COMPLETE: 'Complete'>, '')>\n",
      "<Operation id=Hq3sRnEkVw4kV4gK6Qo11yiffkiZB6KqxUYT8SDYCgDp-3DC5qCesLa8B4wUUD OperationStatus(<OperationStatusKind.COMPLETE: 'Complete'>, '')>\n",
      "<Operation id=WUfGipa4FShTmhvfAUtRfa52Qj9s9USFKdUmT9pCJLG-3MQYHcxgRxnNcnePt OperationStatus(<OperationStatusKind.COMPLETE: 'Complete'>, '')>\n",
      "<Operation id=WUfGipa4FShTmhvfAUtRfa52Qj9s9USFKdUmT9pCJLG-gAb1cMqhKdq3Z4p5 OperationStatus(<OperationStatusKind.COMPLETE: 'Complete'>, '')>\n",
      "<Operation id=EwUQ9caLV7gMAcT7e4FEMiLWnPogQv5EhBtSv3tyU1YH-4VUpf2XNeLNZnVzf3 OperationStatus(<OperationStatusKind.COMPLETE: 'Complete'>, '')>\n",
      "<Operation id=EwUQ9caLV7gMAcT7e4FEMiLWnPogQv5EhBtSv3tyU1YH-3kgHNrB1KgNUmiBv5 OperationStatus(<OperationStatusKind.COMPLETE: 'Complete'>, '')>\n",
      "<Operation id=6BPv73AWfRi4YWN3eqVLv336LUneGJ4ge3CEMkLp9q91-3Lxv2gUR8t3EmFL73 OperationStatus(<OperationStatusKind.COMPLETE: 'Complete'>, '')>\n",
      "<Operation id=6BPv73AWfRi4YWN3eqVLv336LUneGJ4ge3CEMkLp9q91-4198xsNhaDjFzHUZq OperationStatus(<OperationStatusKind.COMPLETE: 'Complete'>, '')>\n",
      "<Operation id=8bqfa3MgNFk21UDycqn78dQXnvhkRs3FF72ZbbpEQhnp-5d8XTgpzab8b34uPR OperationStatus(<OperationStatusKind.COMPLETE: 'Complete'>, '')>\n",
      "<Operation id=8bqfa3MgNFk21UDycqn78dQXnvhkRs3FF72ZbbpEQhnp-4W76jFMQSVTiihAsk OperationStatus(<OperationStatusKind.COMPLETE: 'Complete'>, '')>\n",
      "<Operation id=9XVUSbTtBNNvKhAzX3YgynKsg3oaUQ6MnMnti4VKJ1zE-5Eesg2kgoxD4GEHRS OperationStatus(<OperationStatusKind.COMPLETE: 'Complete'>, '')>\n",
      "<Operation id=9XVUSbTtBNNvKhAzX3YgynKsg3oaUQ6MnMnti4VKJ1zE-4B2ZqDicY7Vhm6Gpd OperationStatus(<OperationStatusKind.COMPLETE: 'Complete'>, '')>\n",
      "<Operation id=6NqrANvfpusceJm5wozukpU4rj1PwXvPTbqbAX3STH4u-413KnfJV1DXq7ynix OperationStatus(<OperationStatusKind.COMPLETE: 'Complete'>, '')>\n",
      "<Operation id=qCBqGVv4szzMCtDWCQTnrNZEk2DLf6wwZY3f1xG9aKs-jxNz49XeRC1u7pU7 OperationStatus(<OperationStatusKind.COMPLETE: 'Complete'>, '')>\n",
      "<Operation id=qCBqGVv4szzMCtDWCQTnrNZEk2DLf6wwZY3f1xG9aKs-3PwxXFDbnwyydkGjY OperationStatus(<OperationStatusKind.COMPLETE: 'Complete'>, '')>\n",
      "<Operation id=8XAHPtEstfdsXozd8CC1hMLU8sVjTfJmaiVUNjPAFfL7-5LskGwWUzuE5YJMkR OperationStatus(<OperationStatusKind.COMPLETE: 'Complete'>, '')>\n",
      "<Operation id=8XAHPtEstfdsXozd8CC1hMLU8sVjTfJmaiVUNjPAFfL7-3PwTTYxQDKn6dBpCD OperationStatus(<OperationStatusKind.COMPLETE: 'Complete'>, '')>\n",
      "<Operation id=HBefXNa1L7JN3iLtJBBZ1bJXv2uKvDTqG5qnhGtJNAZ1-4GRT4tNdf6heXiNvm OperationStatus(<OperationStatusKind.COMPLETE: 'Complete'>, '')>\n",
      "<Operation id=HBefXNa1L7JN3iLtJBBZ1bJXv2uKvDTqG5qnhGtJNAZ1-3ty517fqF4zNUu3mq OperationStatus(<OperationStatusKind.COMPLETE: 'Complete'>, '')>\n",
      "<Operation id=BFKT6FAwMLHN1Q5maJvJnx4HUDMCQ1ZZbSPoGXw3dtqL-4rxuJZqiy6Aiq123c OperationStatus(<OperationStatusKind.FAILED: 'Failed'>, 'database has graphs: failed precondition')>\n",
      "<Operation id=BFKT6FAwMLHN1Q5maJvJnx4HUDMCQ1ZZbSPoGXw3dtqL-3LCXLHxVZAYEQpFJB OperationStatus(<OperationStatusKind.CANCELED: 'Canceled'>, '')>\n",
      "<Operation id=Ddh9ntYxCjZWhfNzgWMiq6Lv7zNS6HLcDwKfiBbVm8jp-2FMbV6FA7a8vKLitY OperationStatus(<OperationStatusKind.FAILED: 'Failed'>, 'database has graphs: failed precondition')>\n",
      "<Operation id=Ddh9ntYxCjZWhfNzgWMiq6Lv7zNS6HLcDwKfiBbVm8jp-5etrLGLzBZUNur1Ko OperationStatus(<OperationStatusKind.CANCELED: 'Canceled'>, '')>\n",
      "<Operation id=9waTv33HYPJEFr5FxFkn5tLBKiyzqoQ7Res58mH3sXG7-4hQ6ZYqLGgAD5SZrU OperationStatus(<OperationStatusKind.COMPLETE: 'Complete'>, '')>\n",
      "<Operation id=9waTv33HYPJEFr5FxFkn5tLBKiyzqoQ7Res58mH3sXG7-4A6qVsZj6NmrumBdE OperationStatus(<OperationStatusKind.COMPLETE: 'Complete'>, '')>\n",
      "<Operation id=6mwtSdyPrHSHu93gZAE46K3bbFjJjnNzo2Sij9w7ijL5-123qf2xP5ViQweEfW OperationStatus(<OperationStatusKind.FAILED: 'Failed'>, 'database has graphs: failed precondition')>\n",
      "<Operation id=6mwtSdyPrHSHu93gZAE46K3bbFjJjnNzo2Sij9w7ijL5-2S9VLHjYk2T3My8ds OperationStatus(<OperationStatusKind.CANCELED: 'Canceled'>, '')>\n",
      "<Operation id=2tbPuBa5zbWJUAGW6p97hmDAbETqpBXyWbk8kVDeJ1Yj-4jMXSHorndeCcwrn9 OperationStatus(<OperationStatusKind.COMPLETE: 'Complete'>, '')>\n",
      "<Operation id=2tbPuBa5zbWJUAGW6p97hmDAbETqpBXyWbk8kVDeJ1Yj-2Hgm8VVMrNvhnj2ix OperationStatus(<OperationStatusKind.COMPLETE: 'Complete'>, '')>\n",
      "<Operation id=BSzjxQ52Myiip8TzArAP1hK8nM1TzvJFhpqADc6zefiT-4NPAroARLcvf6WNcV OperationStatus(<OperationStatusKind.COMPLETE: 'Complete'>, '')>\n",
      "<Operation id=AyySK87vEMV7duE9nmVCGnUjhJLkRgP9ctwkS2Ri6yhH-4eHgVk3ShKHh8grDG OperationStatus(<OperationStatusKind.COMPLETE: 'Complete'>, '')>\n",
      "<Operation id=AyySK87vEMV7duE9nmVCGnUjhJLkRgP9ctwkS2Ri6yhH-4MdzQRKqyqBraAV8n OperationStatus(<OperationStatusKind.COMPLETE: 'Complete'>, '')>\n",
      "<Operation id=23vAHJivjHRpCkLKMRk8kSGNGER1TjeFHj3rWDqrawjd-xxUyAravEy4KxhoE OperationStatus(<OperationStatusKind.COMPLETE: 'Complete'>, '')>\n",
      "<Operation id=23vAHJivjHRpCkLKMRk8kSGNGER1TjeFHj3rWDqrawjd-3v7C3UYG1jM4BRCiV OperationStatus(<OperationStatusKind.COMPLETE: 'Complete'>, '')>\n",
      "<Operation id=3WoqBq9yBd1dbrsFL9LHo2zkFWxcJ57q23L239zRaz7i-BNXCMaR1y8mf5rF5 OperationStatus(<OperationStatusKind.FAILED: 'Failed'>, 'database has graphs: failed precondition')>\n",
      "<Operation id=3WoqBq9yBd1dbrsFL9LHo2zkFWxcJ57q23L239zRaz7i-2ZUSEFvgACa9hEH5C OperationStatus(<OperationStatusKind.CANCELED: 'Canceled'>, '')>\n",
      "<Operation id=H7NiACmCpuivokFW9Ea2pN7qbHUnhXUAP74RFqVi4bVP-2XdVrJ6rNEmEb1SNu OperationStatus(<OperationStatusKind.COMPLETE: 'Complete'>, '')>\n",
      "<Operation id=H7NiACmCpuivokFW9Ea2pN7qbHUnhXUAP74RFqVi4bVP-4vTCiSB79ZsEpt48L OperationStatus(<OperationStatusKind.COMPLETE: 'Complete'>, '')>\n",
      "<Operation id=SbcJxvzLK2Gmuzx5tL8887cStvX97N3o53j3Ug3LVnT-HxiAMpWnbz8BnzGm OperationStatus(<OperationStatusKind.FAILED: 'Failed'>, 'database has graphs: failed precondition')>\n",
      "<Operation id=SbcJxvzLK2Gmuzx5tL8887cStvX97N3o53j3Ug3LVnT-4SN28UPW7QrXdYqpC OperationStatus(<OperationStatusKind.CANCELED: 'Canceled'>, '')>\n",
      "<Operation id=HaUeyVKiC3fG3yNupgwWLx5xBdzYJYktHss7xRLqcDS1-E8siUSiwEoSvEV2H OperationStatus(<OperationStatusKind.FAILED: 'Failed'>, 'database has graphs: failed precondition')>\n",
      "<Operation id=HaUeyVKiC3fG3yNupgwWLx5xBdzYJYktHss7xRLqcDS1-5ZpzKWNbgEuSHew8k OperationStatus(<OperationStatusKind.CANCELED: 'Canceled'>, '')>\n",
      "\n",
      "--\n"
     ]
    }
   ],
   "source": [
    "\n",
    "#  Get operation id ..\n",
    "#\n",
    "for l_each in my_client.operations():\n",
    "   print(l_each)\n",
    "    \n",
    "    \n",
    "print(\"\"  )\n",
    "print(\"--\")\n"
   ]
  },
  {
   "cell_type": "code",
   "execution_count": 43,
   "id": "33fa3bbe-1ff6-4c04-9135-51b156330149",
   "metadata": {},
   "outputs": [
    {
     "data": {
      "application/vnd.jupyter.widget-view+json": {
       "model_id": "e4298ee1ffa24b37b449db87b411842c",
       "version_major": 2,
       "version_minor": 0
      },
      "text/plain": [
       "Box(children=(Text(value='  < paste here >', description='Op Id: '),))"
      ]
     },
     "metadata": {},
     "output_type": "display_data"
    }
   ],
   "source": [
    "\n",
    "from ipywidgets import widgets\n",
    "from ipywidgets import Box\n",
    "\n",
    "l_opid  = widgets.Text(\n",
    "    value        = \"  < paste here >\",\n",
    "    description  = \"Op Id: \",\n",
    "    disabled     = False\n",
    ")\n",
    "\n",
    "l_items = [l_opid]\n",
    "l_box = Box(children=l_items)\n",
    "\n",
    "l_box \n"
   ]
  },
  {
   "cell_type": "code",
   "execution_count": 56,
   "id": "b73f68d7-ad78-4087-9a87-449da50ebdeb",
   "metadata": {},
   "outputs": [
    {
     "name": "stdout",
     "output_type": "stream",
     "text": [
      "Operations Id (not found): 71BQztz6PzwYMeLzMaqVDQgzftPAr6i1TKYPJVujxGnVqdwqwd-56zJAWuRjSXtu6hAp\n",
      "\n",
      "--\n"
     ]
    }
   ],
   "source": [
    "\n",
    "#  cancel() the given Operations Id\n",
    "#\n",
    "\n",
    "l_found = False\n",
    "\n",
    "for l_each in my_client.operations():\n",
    "   if (l_each.id == l_opid.value):\n",
    "      l_found = True\n",
    "      l_msg = l_each.cancel()\n",
    "    \n",
    "if (l_found):\n",
    "   print(\"cancel() return message: %s\" % (l_msg))\n",
    "else:\n",
    "   print(\"Operations Id (not found): %-28s\" % (l_opid.value))\n",
    "\n",
    "\n",
    "print(\"\"  )\n",
    "print(\"--\")\n",
    "\n"
   ]
  },
  {
   "cell_type": "code",
   "execution_count": null,
   "id": "32b16a42-7322-4da9-884d-869276b5d9a3",
   "metadata": {},
   "outputs": [],
   "source": [
    "# ##################################################################"
   ]
  },
  {
   "cell_type": "code",
   "execution_count": 62,
   "id": "932a9254-d8ae-4086-b500-d2cc2978358b",
   "metadata": {},
   "outputs": [
    {
     "data": {
      "text/plain": [
       "[<_Graph my_graph_BB, 4TCBfqDBT783c9USYFXVECV17c3E6gkFujVibb4TBa22, 0>,\n",
       " <_Graph None, 5nWreLvTWFTzuounBjrR9HFSZiyVmNzxzQ4JeTmTX1Tm, 0>,\n",
       " <_Graph my_graph_BB, 7p22unEdbc4PoxrAqPjwCqNeSignrhAhEGhTvQCaCk6f, 0>]"
      ]
     },
     "execution_count": 62,
     "metadata": {},
     "output_type": "execute_result"
    }
   ],
   "source": [
    "\n",
    "my_client.graphs()\n"
   ]
  },
  {
   "cell_type": "code",
   "execution_count": 63,
   "id": "1fa7ad5e-84ce-411a-a597-d25eb36e99cf",
   "metadata": {},
   "outputs": [
    {
     "data": {
      "text/plain": [
       "[<_Graph my_graph_BB, 4TCBfqDBT783c9USYFXVECV17c3E6gkFujVibb4TBa22, 0>,\n",
       " <_Graph my_graph_BB, 7p22unEdbc4PoxrAqPjwCqNeSignrhAhEGhTvQCaCk6f, 0>]"
      ]
     },
     "execution_count": 63,
     "metadata": {},
     "output_type": "execute_result"
    }
   ],
   "source": [
    "\n",
    "my_client.get_database(name=DB_NAME).graphs_in_database()\n"
   ]
  },
  {
   "cell_type": "code",
   "execution_count": null,
   "id": "3b045b77-600a-4dfc-96bb-92d264f560b8",
   "metadata": {},
   "outputs": [],
   "source": [
    "\n",
    "my_client.get_database(name=DB_NAME).find_graphs_by_name(name=GRAPH_NAME)\n"
   ]
  },
  {
   "cell_type": "code",
   "execution_count": null,
   "id": "8f7e2e86-2d44-41f2-baa8-33a5606c05ed",
   "metadata": {},
   "outputs": [],
   "source": [
    "# ##################################################################\n",
    "# ##################################################################\n",
    "# ##################################################################\n",
    "# ##################################################################"
   ]
  },
  {
   "cell_type": "code",
   "execution_count": 120,
   "id": "e576c04e-9cd8-41e0-a1a3-ae09397e4f87",
   "metadata": {},
   "outputs": [
    {
     "name": "stdout",
     "output_type": "stream",
     "text": [
      "Database Name: default                        Id: 2hVyCg4WPZF3oSvGEord1jokgUXGDyda9bPxsEbLJCQN\n",
      "   Graph Name: None                              Version: 0          Id: 5nWreLvTWFTzuounBjrR9HFSZiyVmNzxzQ4JeTmTX1Tm\n",
      "Database Name: my_db                          Id: 8NvfKQpTnvw6qi24MD61UAYjitWSJ33qoifVKgBTpack\n",
      "\n",
      "--\n"
     ]
    }
   ],
   "source": [
    "\n",
    "#  Now that we share servers, get a better list of databases and graphs ..\n",
    "#\n",
    "\n",
    "for l_each_d in my_client.databases():\n",
    "   print(\"Database Name: %-28s   Id: %s\" % (l_each_d.name, l_each_d.database_id))\n",
    "      #\n",
    "   for l_each_g in my_client.get_database(name=l_each_d.name).graphs_in_database(): \n",
    "      print(\"   Graph Name: %-28s      Version: %-8d   Id: %s\" % (l_each_g.name, l_each_g.version, l_each_g.graph_id))\n",
    "\n",
    "\n",
    "print(\"\"  )\n",
    "print(\"--\")\n"
   ]
  },
  {
   "cell_type": "code",
   "execution_count": 22,
   "id": "c6a39922-f79d-4711-b491-76d5e7d9b752",
   "metadata": {},
   "outputs": [
    {
     "data": {
      "application/vnd.jupyter.widget-view+json": {
       "model_id": "3f67501650cc4648b626aa5be1670fb1",
       "version_major": 2,
       "version_minor": 0
      },
      "text/plain": [
       "Box(children=(Text(value='  < paste DB-Name here >', description='DB Name: '), Text(value='  < paste Graph-Id …"
      ]
     },
     "metadata": {},
     "output_type": "display_data"
    }
   ],
   "source": [
    "\n",
    "from ipywidgets import widgets\n",
    "from ipywidgets import Box\n",
    "\n",
    "l_dbname   = widgets.Text(\n",
    "    value        = \"  < paste DB-Name here >\",\n",
    "    description  = \"DB Name: \",\n",
    "    disabled     = False\n",
    ")\n",
    "l_graphname = widgets.Text(\n",
    "    value        = \"  < paste Graph-Id here >\",\n",
    "    description  = \"Graph Name: \",\n",
    "    disabled     = False\n",
    ")\n",
    "\n",
    "l_items = [l_dbname, l_graphname]\n",
    "l_box = Box(children=l_items)\n",
    "\n",
    "l_box\n"
   ]
  },
  {
   "cell_type": "code",
   "execution_count": 23,
   "id": "b0c973bd-3fb0-4210-9f14-81ff378eaebf",
   "metadata": {},
   "outputs": [
    {
     "name": "stdout",
     "output_type": "stream",
     "text": [
      "Database deleted: my_db\n",
      "\n",
      "Existing databases ..\n",
      "   DB ID:  2hVyCg4WPZF3oSvGEord1jokgUXGDyda9bPxsEbLJCQN      DB Name:  default\n",
      "\n",
      "--\n"
     ]
    }
   ],
   "source": [
    "\n",
    "#  Delete database by name\n",
    "#\n",
    "\n",
    "for l_database in my_client.databases():\n",
    "   if (l_database.name != \"default\"):\n",
    "      if (l_database.name == l_dbname.value):\n",
    "         try:\n",
    "            my_client.get_database(name=l_database.name).delete_database()\n",
    "            print(\"Database deleted: %s\" % (l_database.name))\n",
    "         except:\n",
    "            print(\"ERROR:  Database not deleted.  The most likely cause is that the named database is not empty.\")\n",
    "\n",
    "print(\"\")\n",
    "print(\"Existing databases ..\")\n",
    "   #\n",
    "for l_database in my_client.databases():\n",
    "   print(\"   DB ID: \", l_database.database_id, \"     DB Name: \", l_database.name)\n",
    "\n",
    "\n",
    "print(\"\"  )\n",
    "print(\"--\")\n",
    "\n"
   ]
  },
  {
   "cell_type": "code",
   "execution_count": 30,
   "id": "76c75ef2-0403-4715-9ac3-b4e0661a2a23",
   "metadata": {},
   "outputs": [
    {
     "name": "stdout",
     "output_type": "stream",
     "text": [
      "Graph deleted: my_graph_BB\n",
      "Graph deleted: my_graph_BB\n",
      "\n",
      "Existing databases and graphs ..\n",
      "   Database Name: default                        Id: 2hVyCg4WPZF3oSvGEord1jokgUXGDyda9bPxsEbLJCQN\n",
      "      Graph Name: None                              Version: 0          Id: 5nWreLvTWFTzuounBjrR9HFSZiyVmNzxzQ4JeTmTX1Tm\n",
      "   Database Name: my_db                          Id: 8NvfKQpTnvw6qi24MD61UAYjitWSJ33qoifVKgBTpack\n",
      "\n",
      "--\n"
     ]
    }
   ],
   "source": [
    "\n",
    "#  Delete graph by name\n",
    "#\n",
    "\n",
    "for l_each_d in my_client.databases():\n",
    "   for l_each_g in my_client.get_database(name = l_each_d.name).graphs_in_database(): \n",
    "      #  if (l_each_g.graph_id == l_graphid.value):\n",
    "      if (l_each_g.name == l_graphid.value):\n",
    "         try:\n",
    "            l_handle = my_client.get_database(name = l_each_d.name).get_graph_by_id(id = l_each_g.graph_id)\n",
    "            l_handle.delete()\n",
    "            print(\"Graph deleted: %s\" % (l_each_g.name))\n",
    "         except:\n",
    "            print(\"ERROR:  Graph not deleted.  The most likely cause is unknown.\")\n",
    "\n",
    "            \n",
    "print(\"\")\n",
    "print(\"Existing databases and graphs ..\")\n",
    "   #\n",
    "for l_each_d in my_client.databases():\n",
    "   print(\"   Database Name: %-28s   Id: %s\" % (l_each_d.name, l_each_d.database_id))\n",
    "      #\n",
    "   for l_each_g in my_client.get_database(name=l_each_d.name).graphs_in_database(): \n",
    "      print(\"      Graph Name: %-28s      Version: %-8d   Id: %s\" % (l_each_g.name, l_each_g.version, l_each_g.graph_id))\n",
    "\n",
    "\n",
    "print(\"\"  )\n",
    "print(\"--\")\n",
    "\n"
   ]
  },
  {
   "cell_type": "code",
   "execution_count": null,
   "id": "b21e7afd-257f-4a00-970d-2607d04dd185",
   "metadata": {},
   "outputs": [],
   "source": [
    "# ##################################################################\n",
    "# ##################################################################\n",
    "# ##################################################################\n",
    "# ##################################################################"
   ]
  },
  {
   "cell_type": "code",
   "execution_count": null,
   "id": "c4795c79-145b-46ea-ac7e-ea29131325c8",
   "metadata": {},
   "outputs": [],
   "source": [
    "\n",
    "my_graph.query(\"CALL graph.schema() RETURN *\")\n"
   ]
  }
 ],
 "metadata": {
  "kernelspec": {
   "display_name": "Python 3 (ipykernel)",
   "language": "python",
   "name": "python3"
  },
  "language_info": {
   "codemirror_mode": {
    "name": "ipython",
    "version": 3
   },
   "file_extension": ".py",
   "mimetype": "text/x-python",
   "name": "python",
   "nbconvert_exporter": "python",
   "pygments_lexer": "ipython3",
   "version": "3.8.13"
  }
 },
 "nbformat": 4,
 "nbformat_minor": 5
}
